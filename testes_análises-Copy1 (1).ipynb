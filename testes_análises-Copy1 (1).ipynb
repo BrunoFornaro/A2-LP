{
 "cells": [
  {
   "cell_type": "code",
   "execution_count": 2,
   "id": "191c64a5",
   "metadata": {},
   "outputs": [
    {
     "name": "stdout",
     "output_type": "stream",
     "text": [
      "Collecting Faker\n",
      "  Downloading Faker-9.9.0-py3-none-any.whl (1.2 MB)\n",
      "Requirement already satisfied: python-dateutil>=2.4 in c:\\users\\vanes\\anaconda3\\lib\\site-packages (from Faker) (2.8.2)\n",
      "Collecting text-unidecode==1.3\n",
      "  Downloading text_unidecode-1.3-py2.py3-none-any.whl (78 kB)\n",
      "Requirement already satisfied: six>=1.5 in c:\\users\\vanes\\anaconda3\\lib\\site-packages (from python-dateutil>=2.4->Faker) (1.16.0)\n",
      "Installing collected packages: text-unidecode, Faker\n",
      "Successfully installed Faker-9.9.0 text-unidecode-1.3\n"
     ]
    }
   ],
   "source": [
    "!pip install Faker"
   ]
  },
  {
   "cell_type": "code",
   "execution_count": 295,
   "id": "e08f7679",
   "metadata": {},
   "outputs": [],
   "source": [
    "from numpy import random\n",
    "import pandas as pd\n",
    "import numpy as np\n",
    "import random as rd\n",
    "from faker import Faker\n",
    "import matplotlib.pyplot as plt\n",
    "import matplotlib as ptl\n",
    "import plotly.express as px\n",
    "\n",
    "fake = Faker(\"pt-BR\")\n",
    "\n",
    "def gerar_dados(quantidade_de_vendas = 500, quantidade_de_clientes = 200):\n",
    "\n",
    "    # Tabela de produtos\n",
    "    nome_dos_produtos = [\"morango\", \"melancia\", \"banana\", \"uva\", \"batata\", \"berinjela\", \"abobrinha\", \"alface\", \"couve-flor\", \"feijão\", \"arroz\", \"macarrão\", \"alcatra\", \"maminha\", \"bisteca suína\", \"carré de cordeiro\", \"costela\", \"paleta suína\", \"picanha\", \"peito de frango\", \"bolo\", \"pão de forma\", \"pão de queijo\", \"pão francês\", \"pastel\", \"sanduíche\", \"sonho\", \"torta\", \"amaciante\", \"água sanitária\", \"detergente\", \"flanela\", \"odorizador\", \"rodo\", \"sabão em pó\", \"sabonete\"]\n",
    "    secao_dos_produtos = [\"frutas_e_verduras\", \"frutas_e_verduras\", \"frutas_e_verduras\", \"frutas_e_verduras\", \"frutas_e_verduras\", \"frutas_e_verduras\", \"frutas_e_verduras\", \"frutas_e_verduras\", \"frutas_e_verduras\", \"frutas_e_verduras\", \"frutas_e_verduras\", \"frutas_e_verduras\", \"acougue\", \"acougue\", \"acougue\", \"acougue\", \"acougue\", \"acougue\", \"acougue\", \"acougue\", \"padaria\", \"padaria\", \"padaria\", \"padaria\", \"padaria\", \"padaria\", \"padaria\", \"padaria\", \"produtos_de_limpeza\", \"produtos_de_limpeza\", \"produtos_de_limpeza\", \"produtos_de_limpeza\", \"produtos_de_limpeza\", \"produtos_de_limpeza\", \"produtos_de_limpeza\", \"produtos_de_limpeza\"]\n",
    "    custo_dos_produtos = [4.30, 11.79, 2, 4.19, 2.39, 8.59, 2.69, 0.45, 3.19, 6.49, 15.89, 1.69, 23.19, 33.49, 15.73, 147.99, 16.39, 17.09, 43.35, 11.19, 17.89, 3.73, 17.04, 4.39, 3.19, 7.99, 1.79, 26.95, 5.19, 7.96, 1.3, 0.59, 14.38, 2.74, 6.15, 0.65]\n",
    "    preco_produtos = [7.99, 15.99, 5.99, 7.47, 3.99, 11.99, 3.49, 0.98, 5.48, 8.45, 4.31, 2.48, 31.99, 42.99, 22.79, 172, 20.99, 23.99, 70.89, 16.49, 35, 6.99, 23.99, 10.99, 4.99, 12.99, 3.49, 45, 6.70, 11.98, 2.70, 1.99, 23.99, 5.99, 9.69, 1.29]\n",
    "    prateleira_dos_produtos = [\"1A\", \"1C\", \"1B\", \"1D\", \"2B\", \"2D\", \"2A\", \"2C\", \"2E\", \"3B\", \"3A\", \"3C\", \"4A\", \"4B\", \"5A\", \"5B\", \"5C\", \"5D\", \"4C\", \"4D\", \"6A\", \"7A\", \"7B\", \"7C\", \"7D\", \"7E\", \"6B\", \"6C\", \"8A\", \"8B\", \"8C\", \"9A\", \"9B\", \"9C\", \"8D\", \"9D\"]\n",
    "    estoque_produtos = [50, 20, 40, 36, 47, 12, 19, 25, 20, 43, 80, 38, 7, 9, 5, 5, 10, 9, 6, 10, 7, 15, 1, 3, 9, 15, 20, 7, 12, 8, 40, 32, 6, 10, 13, 58]\n",
    "    unidade_de_medida_estoque = [\"bandeja\", \"unidade\", \"kg\", \"bandeja\", \"kg\", \"kg\", \"kg\", \"pé\", \"pé\", \"kg\", \"kg\", \"pacote\", \"kg\", \"kg\", \"kg\", \"kg\", \"kg\", \"kg\", \"kg\", \"kg\", \"kg\", \"pacote\", \"kg\", \"kg\", \"unidade\", \"unidade\", \"unidade\", \"kg\", \"unidade\", \"unidade\", \"unidade\", \"unidade\", \"unidade\", \"unidade\", \"unidade\", \"unidade\"]\n",
    "    imagem = [\"morango-alt.png\", \"melancia.jpg\", \"banana.png\", \"uva-alt.png\", \"batata.JPEG\", \"beringela.jpg\", \"abobrinha.JPEG\", \"alface.png\", \"couve-flor.png\", \"feijao.png\", \"arroz.png\", \"macarrao.jpg\", \"alcatra.jpg\", \"maminha.jpg\", \"bisteca_suina.jpg\", \"carre_de_cordeiro.jpg\", \"costela.jpg\", \"paleta_suina.jpg\", \"picanha.jpg\", \"peito_de_frango.jpg\", \"bolo.jpg\", \"pao_de_forma.jpg\", \"pao_de_queijo.jpg\", \"pao_frances.jpg\", \"pastel.jpg\", \"sanduiche.jpg\", \"sonho.jpg\", \"torta.jpg\", \"amaciante.jpg\", \"agua_sanitaria.jpg\", \"detergente.jpg\", \"flanela.jpg\", \"odorizador.jpg\", \"rodo.jpg\", \"sabao_em_po.jpg\", \"sabonete.jpg\"]\n",
    "\n",
    "    produtos = {\n",
    "        \"id\": list(range(len(nome_dos_produtos))),\n",
    "        \"nome\": nome_dos_produtos,\n",
    "        \"secao\": secao_dos_produtos,\n",
    "        \"custo\": custo_dos_produtos,\n",
    "        \"preco\": preco_produtos,\n",
    "        \"prateleira\": prateleira_dos_produtos,\n",
    "        \"estoque\": estoque_produtos,\n",
    "        \"unidade_de_medida_de_estoque\": unidade_de_medida_estoque,\n",
    "        \"imagem\": imagem\n",
    "    }\n",
    "\n",
    "    produtos = pd.DataFrame(produtos)\n",
    "\n",
    "    # Tabela de clientes\n",
    "    clientes = {\n",
    "        'id': list(range(quantidade_de_clientes)),\n",
    "        'nome': [],\n",
    "        'nascimento': [],\n",
    "        'endereco':[],\n",
    "        'cpf': [],\n",
    "        'telefone': [],\n",
    "        'usuario': [],\n",
    "        'senha': []\n",
    "    }\n",
    "\n",
    "    for id in clientes['id']:\n",
    "        clientes['nome'].append(fake.name())\n",
    "        clientes['nascimento'].append(fake.date_of_birth(minimum_age = 18, maximum_age = 73))\n",
    "        clientes['endereco'].append(fake.address())\n",
    "        clientes['cpf'].append(fake.cpf())\n",
    "        clientes['telefone'].append(fake.phone_number())\n",
    "        clientes['usuario'].append(fake.user_name())\n",
    "        clientes['senha'].append(fake.password(12))\n",
    "    \n",
    "    clientes = pd.DataFrame(clientes)\n",
    "\n",
    "    # Tabela de vendas\n",
    "    datas = np.arange(np.datetime64('2021-11-01'), np.datetime64('2021-12-01'))\n",
    "    probabilidade = np.linspace(1, 2, num=datas.size)\n",
    "    probabilidade = probabilidade / probabilidade.sum()\n",
    "    datas = np.random.choice(datas, p=probabilidade, size=quantidade_de_vendas)\n",
    "    datas.sort()\n",
    "    vendas = {\n",
    "        'id' : [],\n",
    "        'id_clientes' : [],\n",
    "        'data' : []\n",
    "    }\n",
    "    for id, data in enumerate(datas):\n",
    "        vendas['id'].append(id)\n",
    "        vendas['id_clientes'].append(np.random.choice(clientes['id']))\n",
    "        vendas['data'].append(data)\n",
    "\n",
    "    vendas = pd.DataFrame(vendas)\n",
    "    vendas[\"data\"] = vendas[\"data\"].dt.strftime('%Y-%m-%d')\n",
    "\n",
    "    # Tabela intermediária entre vendas e produtos\n",
    "    venda_produtos = {\n",
    "        'id_vendas' : [],\n",
    "        'id_produtos' : [],\n",
    "        'quantidade' : []\n",
    "    }\n",
    "\n",
    "    for id in range(quantidade_de_vendas):\n",
    "        venda_produtos['id_vendas'].append(vendas['id'][id])\n",
    "        venda_produtos['id_produtos'].append(np.random.choice(produtos['id']))\n",
    "        venda_produtos['quantidade'].append(random.randint(1, 5))\n",
    "\n",
    "    for id in range(4 * quantidade_de_vendas):\n",
    "        venda_produtos['id_vendas'].append(np.random.choice(clientes['id']))\n",
    "        venda_produtos['id_produtos'].append(np.random.choice(produtos['id']))\n",
    "        venda_produtos['quantidade'].append(random.randint(1, 5))\n",
    "\n",
    "    venda_produtos = pd.DataFrame(venda_produtos)\n",
    "    \n",
    "    return (produtos,clientes,vendas,venda_produtos)\n",
    "\n",
    "dados = gerar_dados()\n",
    "produtos = dados[0]\n",
    "clientes = dados[1]\n",
    "vendas = dados[2]\n",
    "venda_produtos = dados[3]"
   ]
  },
  {
   "cell_type": "markdown",
   "id": "972ecad5",
   "metadata": {},
   "source": [
    "## Tabelas"
   ]
  },
  {
   "cell_type": "code",
   "execution_count": 296,
   "id": "1615750f",
   "metadata": {},
   "outputs": [],
   "source": [
    "p = gerar_dados(quantidade_de_vendas = 500, quantidade_de_clientes = 200)"
   ]
  },
  {
   "cell_type": "code",
   "execution_count": 297,
   "id": "5b81954a",
   "metadata": {},
   "outputs": [
    {
     "data": {
      "text/html": [
       "<div>\n",
       "<style scoped>\n",
       "    .dataframe tbody tr th:only-of-type {\n",
       "        vertical-align: middle;\n",
       "    }\n",
       "\n",
       "    .dataframe tbody tr th {\n",
       "        vertical-align: top;\n",
       "    }\n",
       "\n",
       "    .dataframe thead th {\n",
       "        text-align: right;\n",
       "    }\n",
       "</style>\n",
       "<table border=\"1\" class=\"dataframe\">\n",
       "  <thead>\n",
       "    <tr style=\"text-align: right;\">\n",
       "      <th></th>\n",
       "      <th>id_produtos</th>\n",
       "      <th>nome</th>\n",
       "      <th>secao</th>\n",
       "      <th>custo</th>\n",
       "      <th>preco</th>\n",
       "      <th>prateleira</th>\n",
       "      <th>estoque</th>\n",
       "      <th>unidade_de_medida_de_estoque</th>\n",
       "      <th>imagem</th>\n",
       "    </tr>\n",
       "  </thead>\n",
       "  <tbody>\n",
       "    <tr>\n",
       "      <th>0</th>\n",
       "      <td>0</td>\n",
       "      <td>morango</td>\n",
       "      <td>Alimentos em Geral</td>\n",
       "      <td>4.30</td>\n",
       "      <td>7.99</td>\n",
       "      <td>1A</td>\n",
       "      <td>50</td>\n",
       "      <td>bandeja</td>\n",
       "      <td>morango-alt.png</td>\n",
       "    </tr>\n",
       "    <tr>\n",
       "      <th>1</th>\n",
       "      <td>1</td>\n",
       "      <td>melancia</td>\n",
       "      <td>Alimentos em Geral</td>\n",
       "      <td>11.79</td>\n",
       "      <td>15.99</td>\n",
       "      <td>1C</td>\n",
       "      <td>20</td>\n",
       "      <td>unidade</td>\n",
       "      <td>melancia.jpg</td>\n",
       "    </tr>\n",
       "    <tr>\n",
       "      <th>2</th>\n",
       "      <td>2</td>\n",
       "      <td>banana</td>\n",
       "      <td>Alimentos em Geral</td>\n",
       "      <td>2.00</td>\n",
       "      <td>5.99</td>\n",
       "      <td>1B</td>\n",
       "      <td>40</td>\n",
       "      <td>kg</td>\n",
       "      <td>banana.png</td>\n",
       "    </tr>\n",
       "    <tr>\n",
       "      <th>3</th>\n",
       "      <td>3</td>\n",
       "      <td>uva</td>\n",
       "      <td>Alimentos em Geral</td>\n",
       "      <td>4.19</td>\n",
       "      <td>7.47</td>\n",
       "      <td>1D</td>\n",
       "      <td>36</td>\n",
       "      <td>bandeja</td>\n",
       "      <td>uva-alt.png</td>\n",
       "    </tr>\n",
       "    <tr>\n",
       "      <th>4</th>\n",
       "      <td>4</td>\n",
       "      <td>batata</td>\n",
       "      <td>Alimentos em Geral</td>\n",
       "      <td>2.39</td>\n",
       "      <td>3.99</td>\n",
       "      <td>2B</td>\n",
       "      <td>47</td>\n",
       "      <td>kg</td>\n",
       "      <td>batata.JPEG</td>\n",
       "    </tr>\n",
       "    <tr>\n",
       "      <th>5</th>\n",
       "      <td>5</td>\n",
       "      <td>berinjela</td>\n",
       "      <td>Alimentos em Geral</td>\n",
       "      <td>8.59</td>\n",
       "      <td>11.99</td>\n",
       "      <td>2D</td>\n",
       "      <td>12</td>\n",
       "      <td>kg</td>\n",
       "      <td>beringela.jpg</td>\n",
       "    </tr>\n",
       "    <tr>\n",
       "      <th>6</th>\n",
       "      <td>6</td>\n",
       "      <td>abobrinha</td>\n",
       "      <td>Alimentos em Geral</td>\n",
       "      <td>2.69</td>\n",
       "      <td>3.49</td>\n",
       "      <td>2A</td>\n",
       "      <td>19</td>\n",
       "      <td>kg</td>\n",
       "      <td>abobrinha.JPEG</td>\n",
       "    </tr>\n",
       "    <tr>\n",
       "      <th>7</th>\n",
       "      <td>7</td>\n",
       "      <td>alface</td>\n",
       "      <td>Alimentos em Geral</td>\n",
       "      <td>0.45</td>\n",
       "      <td>0.98</td>\n",
       "      <td>2C</td>\n",
       "      <td>25</td>\n",
       "      <td>pé</td>\n",
       "      <td>alface.png</td>\n",
       "    </tr>\n",
       "    <tr>\n",
       "      <th>8</th>\n",
       "      <td>8</td>\n",
       "      <td>couve-flor</td>\n",
       "      <td>Alimentos em Geral</td>\n",
       "      <td>3.19</td>\n",
       "      <td>5.48</td>\n",
       "      <td>2E</td>\n",
       "      <td>20</td>\n",
       "      <td>pé</td>\n",
       "      <td>couve-flor.png</td>\n",
       "    </tr>\n",
       "    <tr>\n",
       "      <th>9</th>\n",
       "      <td>9</td>\n",
       "      <td>feijão</td>\n",
       "      <td>Alimentos em Geral</td>\n",
       "      <td>6.49</td>\n",
       "      <td>8.45</td>\n",
       "      <td>3B</td>\n",
       "      <td>43</td>\n",
       "      <td>kg</td>\n",
       "      <td>feijao.png</td>\n",
       "    </tr>\n",
       "    <tr>\n",
       "      <th>10</th>\n",
       "      <td>10</td>\n",
       "      <td>arroz</td>\n",
       "      <td>Alimentos em Geral</td>\n",
       "      <td>15.89</td>\n",
       "      <td>4.31</td>\n",
       "      <td>3A</td>\n",
       "      <td>80</td>\n",
       "      <td>kg</td>\n",
       "      <td>arroz.png</td>\n",
       "    </tr>\n",
       "    <tr>\n",
       "      <th>11</th>\n",
       "      <td>11</td>\n",
       "      <td>macarrão</td>\n",
       "      <td>Alimentos em Geral</td>\n",
       "      <td>1.69</td>\n",
       "      <td>2.48</td>\n",
       "      <td>3C</td>\n",
       "      <td>38</td>\n",
       "      <td>pacote</td>\n",
       "      <td>macarrao.jpg</td>\n",
       "    </tr>\n",
       "    <tr>\n",
       "      <th>12</th>\n",
       "      <td>12</td>\n",
       "      <td>alcatra</td>\n",
       "      <td>Açougue</td>\n",
       "      <td>23.19</td>\n",
       "      <td>31.99</td>\n",
       "      <td>4A</td>\n",
       "      <td>7</td>\n",
       "      <td>kg</td>\n",
       "      <td>alcatra.jpg</td>\n",
       "    </tr>\n",
       "    <tr>\n",
       "      <th>13</th>\n",
       "      <td>13</td>\n",
       "      <td>maminha</td>\n",
       "      <td>Açougue</td>\n",
       "      <td>33.49</td>\n",
       "      <td>42.99</td>\n",
       "      <td>4B</td>\n",
       "      <td>9</td>\n",
       "      <td>kg</td>\n",
       "      <td>maminha.jpg</td>\n",
       "    </tr>\n",
       "    <tr>\n",
       "      <th>14</th>\n",
       "      <td>14</td>\n",
       "      <td>bisteca suína</td>\n",
       "      <td>Açougue</td>\n",
       "      <td>15.73</td>\n",
       "      <td>22.79</td>\n",
       "      <td>5A</td>\n",
       "      <td>5</td>\n",
       "      <td>kg</td>\n",
       "      <td>bisteca_suina.jpg</td>\n",
       "    </tr>\n",
       "    <tr>\n",
       "      <th>15</th>\n",
       "      <td>15</td>\n",
       "      <td>carré de cordeiro</td>\n",
       "      <td>Açougue</td>\n",
       "      <td>147.99</td>\n",
       "      <td>172.00</td>\n",
       "      <td>5B</td>\n",
       "      <td>5</td>\n",
       "      <td>kg</td>\n",
       "      <td>carre_de_cordeiro.jpg</td>\n",
       "    </tr>\n",
       "    <tr>\n",
       "      <th>16</th>\n",
       "      <td>16</td>\n",
       "      <td>costela</td>\n",
       "      <td>Açougue</td>\n",
       "      <td>16.39</td>\n",
       "      <td>20.99</td>\n",
       "      <td>5C</td>\n",
       "      <td>10</td>\n",
       "      <td>kg</td>\n",
       "      <td>costela.jpg</td>\n",
       "    </tr>\n",
       "    <tr>\n",
       "      <th>17</th>\n",
       "      <td>17</td>\n",
       "      <td>paleta suína</td>\n",
       "      <td>Açougue</td>\n",
       "      <td>17.09</td>\n",
       "      <td>23.99</td>\n",
       "      <td>5D</td>\n",
       "      <td>9</td>\n",
       "      <td>kg</td>\n",
       "      <td>paleta_suina.jpg</td>\n",
       "    </tr>\n",
       "    <tr>\n",
       "      <th>18</th>\n",
       "      <td>18</td>\n",
       "      <td>picanha</td>\n",
       "      <td>Açougue</td>\n",
       "      <td>43.35</td>\n",
       "      <td>70.89</td>\n",
       "      <td>4C</td>\n",
       "      <td>6</td>\n",
       "      <td>kg</td>\n",
       "      <td>picanha.jpg</td>\n",
       "    </tr>\n",
       "    <tr>\n",
       "      <th>19</th>\n",
       "      <td>19</td>\n",
       "      <td>peito de frango</td>\n",
       "      <td>Açougue</td>\n",
       "      <td>11.19</td>\n",
       "      <td>16.49</td>\n",
       "      <td>4D</td>\n",
       "      <td>10</td>\n",
       "      <td>kg</td>\n",
       "      <td>peito_de_frango.jpg</td>\n",
       "    </tr>\n",
       "    <tr>\n",
       "      <th>20</th>\n",
       "      <td>20</td>\n",
       "      <td>bolo</td>\n",
       "      <td>Padaria</td>\n",
       "      <td>17.89</td>\n",
       "      <td>35.00</td>\n",
       "      <td>6A</td>\n",
       "      <td>7</td>\n",
       "      <td>kg</td>\n",
       "      <td>bolo.jpg</td>\n",
       "    </tr>\n",
       "    <tr>\n",
       "      <th>21</th>\n",
       "      <td>21</td>\n",
       "      <td>pão de forma</td>\n",
       "      <td>Padaria</td>\n",
       "      <td>3.73</td>\n",
       "      <td>6.99</td>\n",
       "      <td>7A</td>\n",
       "      <td>15</td>\n",
       "      <td>pacote</td>\n",
       "      <td>pao_de_forma.jpg</td>\n",
       "    </tr>\n",
       "    <tr>\n",
       "      <th>22</th>\n",
       "      <td>22</td>\n",
       "      <td>pão de queijo</td>\n",
       "      <td>Padaria</td>\n",
       "      <td>17.04</td>\n",
       "      <td>23.99</td>\n",
       "      <td>7B</td>\n",
       "      <td>1</td>\n",
       "      <td>kg</td>\n",
       "      <td>pao_de_queijo.jpg</td>\n",
       "    </tr>\n",
       "    <tr>\n",
       "      <th>23</th>\n",
       "      <td>23</td>\n",
       "      <td>pão francês</td>\n",
       "      <td>Padaria</td>\n",
       "      <td>4.39</td>\n",
       "      <td>10.99</td>\n",
       "      <td>7C</td>\n",
       "      <td>3</td>\n",
       "      <td>kg</td>\n",
       "      <td>pao_frances.jpg</td>\n",
       "    </tr>\n",
       "    <tr>\n",
       "      <th>24</th>\n",
       "      <td>24</td>\n",
       "      <td>pastel</td>\n",
       "      <td>Padaria</td>\n",
       "      <td>3.19</td>\n",
       "      <td>4.99</td>\n",
       "      <td>7D</td>\n",
       "      <td>9</td>\n",
       "      <td>unidade</td>\n",
       "      <td>pastel.jpg</td>\n",
       "    </tr>\n",
       "    <tr>\n",
       "      <th>25</th>\n",
       "      <td>25</td>\n",
       "      <td>sanduíche</td>\n",
       "      <td>Padaria</td>\n",
       "      <td>7.99</td>\n",
       "      <td>12.99</td>\n",
       "      <td>7E</td>\n",
       "      <td>15</td>\n",
       "      <td>unidade</td>\n",
       "      <td>sanduiche.jpg</td>\n",
       "    </tr>\n",
       "    <tr>\n",
       "      <th>26</th>\n",
       "      <td>26</td>\n",
       "      <td>sonho</td>\n",
       "      <td>Padaria</td>\n",
       "      <td>1.79</td>\n",
       "      <td>3.49</td>\n",
       "      <td>6B</td>\n",
       "      <td>20</td>\n",
       "      <td>unidade</td>\n",
       "      <td>sonho.jpg</td>\n",
       "    </tr>\n",
       "    <tr>\n",
       "      <th>27</th>\n",
       "      <td>27</td>\n",
       "      <td>torta</td>\n",
       "      <td>Padaria</td>\n",
       "      <td>26.95</td>\n",
       "      <td>45.00</td>\n",
       "      <td>6C</td>\n",
       "      <td>7</td>\n",
       "      <td>kg</td>\n",
       "      <td>torta.jpg</td>\n",
       "    </tr>\n",
       "    <tr>\n",
       "      <th>28</th>\n",
       "      <td>28</td>\n",
       "      <td>amaciante</td>\n",
       "      <td>Produtos de Limpeza</td>\n",
       "      <td>5.19</td>\n",
       "      <td>6.70</td>\n",
       "      <td>8A</td>\n",
       "      <td>12</td>\n",
       "      <td>unidade</td>\n",
       "      <td>amaciante.jpg</td>\n",
       "    </tr>\n",
       "    <tr>\n",
       "      <th>29</th>\n",
       "      <td>29</td>\n",
       "      <td>água sanitária</td>\n",
       "      <td>Produtos de Limpeza</td>\n",
       "      <td>7.96</td>\n",
       "      <td>11.98</td>\n",
       "      <td>8B</td>\n",
       "      <td>8</td>\n",
       "      <td>unidade</td>\n",
       "      <td>agua_sanitaria.jpg</td>\n",
       "    </tr>\n",
       "    <tr>\n",
       "      <th>30</th>\n",
       "      <td>30</td>\n",
       "      <td>detergente</td>\n",
       "      <td>Produtos de Limpeza</td>\n",
       "      <td>1.30</td>\n",
       "      <td>2.70</td>\n",
       "      <td>8C</td>\n",
       "      <td>40</td>\n",
       "      <td>unidade</td>\n",
       "      <td>detergente.jpg</td>\n",
       "    </tr>\n",
       "    <tr>\n",
       "      <th>31</th>\n",
       "      <td>31</td>\n",
       "      <td>flanela</td>\n",
       "      <td>Produtos de Limpeza</td>\n",
       "      <td>0.59</td>\n",
       "      <td>1.99</td>\n",
       "      <td>9A</td>\n",
       "      <td>32</td>\n",
       "      <td>unidade</td>\n",
       "      <td>flanela.jpg</td>\n",
       "    </tr>\n",
       "    <tr>\n",
       "      <th>32</th>\n",
       "      <td>32</td>\n",
       "      <td>odorizador</td>\n",
       "      <td>Produtos de Limpeza</td>\n",
       "      <td>14.38</td>\n",
       "      <td>23.99</td>\n",
       "      <td>9B</td>\n",
       "      <td>6</td>\n",
       "      <td>unidade</td>\n",
       "      <td>odorizador.jpg</td>\n",
       "    </tr>\n",
       "    <tr>\n",
       "      <th>33</th>\n",
       "      <td>33</td>\n",
       "      <td>rodo</td>\n",
       "      <td>Produtos de Limpeza</td>\n",
       "      <td>2.74</td>\n",
       "      <td>5.99</td>\n",
       "      <td>9C</td>\n",
       "      <td>10</td>\n",
       "      <td>unidade</td>\n",
       "      <td>rodo.jpg</td>\n",
       "    </tr>\n",
       "    <tr>\n",
       "      <th>34</th>\n",
       "      <td>34</td>\n",
       "      <td>sabão em pó</td>\n",
       "      <td>Produtos de Limpeza</td>\n",
       "      <td>6.15</td>\n",
       "      <td>9.69</td>\n",
       "      <td>8D</td>\n",
       "      <td>13</td>\n",
       "      <td>unidade</td>\n",
       "      <td>sabao_em_po.jpg</td>\n",
       "    </tr>\n",
       "    <tr>\n",
       "      <th>35</th>\n",
       "      <td>35</td>\n",
       "      <td>sabonete</td>\n",
       "      <td>Produtos de Limpeza</td>\n",
       "      <td>0.65</td>\n",
       "      <td>1.29</td>\n",
       "      <td>9D</td>\n",
       "      <td>58</td>\n",
       "      <td>unidade</td>\n",
       "      <td>sabonete.jpg</td>\n",
       "    </tr>\n",
       "  </tbody>\n",
       "</table>\n",
       "</div>"
      ],
      "text/plain": [
       "    id_produtos               nome                secao   custo   preco  \\\n",
       "0             0            morango   Alimentos em Geral    4.30    7.99   \n",
       "1             1           melancia   Alimentos em Geral   11.79   15.99   \n",
       "2             2             banana   Alimentos em Geral    2.00    5.99   \n",
       "3             3                uva   Alimentos em Geral    4.19    7.47   \n",
       "4             4             batata   Alimentos em Geral    2.39    3.99   \n",
       "5             5          berinjela   Alimentos em Geral    8.59   11.99   \n",
       "6             6          abobrinha   Alimentos em Geral    2.69    3.49   \n",
       "7             7             alface   Alimentos em Geral    0.45    0.98   \n",
       "8             8         couve-flor   Alimentos em Geral    3.19    5.48   \n",
       "9             9             feijão   Alimentos em Geral    6.49    8.45   \n",
       "10           10              arroz   Alimentos em Geral   15.89    4.31   \n",
       "11           11           macarrão   Alimentos em Geral    1.69    2.48   \n",
       "12           12            alcatra              Açougue   23.19   31.99   \n",
       "13           13            maminha              Açougue   33.49   42.99   \n",
       "14           14      bisteca suína              Açougue   15.73   22.79   \n",
       "15           15  carré de cordeiro              Açougue  147.99  172.00   \n",
       "16           16            costela              Açougue   16.39   20.99   \n",
       "17           17       paleta suína              Açougue   17.09   23.99   \n",
       "18           18            picanha              Açougue   43.35   70.89   \n",
       "19           19    peito de frango              Açougue   11.19   16.49   \n",
       "20           20               bolo              Padaria   17.89   35.00   \n",
       "21           21       pão de forma              Padaria    3.73    6.99   \n",
       "22           22      pão de queijo              Padaria   17.04   23.99   \n",
       "23           23        pão francês              Padaria    4.39   10.99   \n",
       "24           24             pastel              Padaria    3.19    4.99   \n",
       "25           25          sanduíche              Padaria    7.99   12.99   \n",
       "26           26              sonho              Padaria    1.79    3.49   \n",
       "27           27              torta              Padaria   26.95   45.00   \n",
       "28           28          amaciante  Produtos de Limpeza    5.19    6.70   \n",
       "29           29     água sanitária  Produtos de Limpeza    7.96   11.98   \n",
       "30           30         detergente  Produtos de Limpeza    1.30    2.70   \n",
       "31           31            flanela  Produtos de Limpeza    0.59    1.99   \n",
       "32           32         odorizador  Produtos de Limpeza   14.38   23.99   \n",
       "33           33               rodo  Produtos de Limpeza    2.74    5.99   \n",
       "34           34        sabão em pó  Produtos de Limpeza    6.15    9.69   \n",
       "35           35           sabonete  Produtos de Limpeza    0.65    1.29   \n",
       "\n",
       "   prateleira  estoque unidade_de_medida_de_estoque                 imagem  \n",
       "0          1A       50                      bandeja        morango-alt.png  \n",
       "1          1C       20                      unidade           melancia.jpg  \n",
       "2          1B       40                           kg             banana.png  \n",
       "3          1D       36                      bandeja            uva-alt.png  \n",
       "4          2B       47                           kg            batata.JPEG  \n",
       "5          2D       12                           kg          beringela.jpg  \n",
       "6          2A       19                           kg         abobrinha.JPEG  \n",
       "7          2C       25                           pé             alface.png  \n",
       "8          2E       20                           pé         couve-flor.png  \n",
       "9          3B       43                           kg             feijao.png  \n",
       "10         3A       80                           kg              arroz.png  \n",
       "11         3C       38                       pacote           macarrao.jpg  \n",
       "12         4A        7                           kg            alcatra.jpg  \n",
       "13         4B        9                           kg            maminha.jpg  \n",
       "14         5A        5                           kg      bisteca_suina.jpg  \n",
       "15         5B        5                           kg  carre_de_cordeiro.jpg  \n",
       "16         5C       10                           kg            costela.jpg  \n",
       "17         5D        9                           kg       paleta_suina.jpg  \n",
       "18         4C        6                           kg            picanha.jpg  \n",
       "19         4D       10                           kg    peito_de_frango.jpg  \n",
       "20         6A        7                           kg               bolo.jpg  \n",
       "21         7A       15                       pacote       pao_de_forma.jpg  \n",
       "22         7B        1                           kg      pao_de_queijo.jpg  \n",
       "23         7C        3                           kg        pao_frances.jpg  \n",
       "24         7D        9                      unidade             pastel.jpg  \n",
       "25         7E       15                      unidade          sanduiche.jpg  \n",
       "26         6B       20                      unidade              sonho.jpg  \n",
       "27         6C        7                           kg              torta.jpg  \n",
       "28         8A       12                      unidade          amaciante.jpg  \n",
       "29         8B        8                      unidade     agua_sanitaria.jpg  \n",
       "30         8C       40                      unidade         detergente.jpg  \n",
       "31         9A       32                      unidade            flanela.jpg  \n",
       "32         9B        6                      unidade         odorizador.jpg  \n",
       "33         9C       10                      unidade               rodo.jpg  \n",
       "34         8D       13                      unidade        sabao_em_po.jpg  \n",
       "35         9D       58                      unidade           sabonete.jpg  "
      ]
     },
     "execution_count": 297,
     "metadata": {},
     "output_type": "execute_result"
    }
   ],
   "source": [
    "produtos=p[0]\n",
    "#renomenado a coluna id para id produto na tabela de produtos\n",
    "produtos.rename(columns={\"id\": \"id_produtos\"}, inplace = 1)\n",
    "produtos[\"secao\"].replace({\"frutas_e_verduras\":\"Alimentos em Geral\", \"acougue\": \"Açougue\", \"padaria\":\"Padaria\", \"produtos_de_limpeza\": \"Produtos de Limpeza\"}, inplace=True)\n",
    "produtos"
   ]
  },
  {
   "cell_type": "code",
   "execution_count": 298,
   "id": "b77c2dab",
   "metadata": {},
   "outputs": [
    {
     "data": {
      "text/html": [
       "<div>\n",
       "<style scoped>\n",
       "    .dataframe tbody tr th:only-of-type {\n",
       "        vertical-align: middle;\n",
       "    }\n",
       "\n",
       "    .dataframe tbody tr th {\n",
       "        vertical-align: top;\n",
       "    }\n",
       "\n",
       "    .dataframe thead th {\n",
       "        text-align: right;\n",
       "    }\n",
       "</style>\n",
       "<table border=\"1\" class=\"dataframe\">\n",
       "  <thead>\n",
       "    <tr style=\"text-align: right;\">\n",
       "      <th></th>\n",
       "      <th>id_clientes</th>\n",
       "      <th>nome_cliente</th>\n",
       "      <th>nascimento</th>\n",
       "      <th>endereco</th>\n",
       "      <th>cpf</th>\n",
       "      <th>telefone</th>\n",
       "      <th>usuario</th>\n",
       "      <th>senha</th>\n",
       "    </tr>\n",
       "  </thead>\n",
       "  <tbody>\n",
       "    <tr>\n",
       "      <th>0</th>\n",
       "      <td>0</td>\n",
       "      <td>Marcela da Rocha</td>\n",
       "      <td>1972-09-29</td>\n",
       "      <td>Favela Correia, 5\\nSão Francisco\\n46906-080 Ca...</td>\n",
       "      <td>651.792.804-94</td>\n",
       "      <td>81 2546-5788</td>\n",
       "      <td>vmoura</td>\n",
       "      <td>_Va7Ladm#lnZ</td>\n",
       "    </tr>\n",
       "    <tr>\n",
       "      <th>1</th>\n",
       "      <td>1</td>\n",
       "      <td>Caio da Paz</td>\n",
       "      <td>1959-06-16</td>\n",
       "      <td>Loteamento da Conceição, 83\\nAparecida 7ª Seçã...</td>\n",
       "      <td>049.275.861-11</td>\n",
       "      <td>61 0731-0342</td>\n",
       "      <td>ksales</td>\n",
       "      <td>4+3B+RuS8wqG</td>\n",
       "    </tr>\n",
       "    <tr>\n",
       "      <th>2</th>\n",
       "      <td>2</td>\n",
       "      <td>Sophie Rocha</td>\n",
       "      <td>1952-04-25</td>\n",
       "      <td>Quadra de Aragão, 55\\nJardim São José\\n98950-2...</td>\n",
       "      <td>529.763.041-06</td>\n",
       "      <td>(021) 9276 1946</td>\n",
       "      <td>dvieira</td>\n",
       "      <td>d6gUCRzB*20Y</td>\n",
       "    </tr>\n",
       "    <tr>\n",
       "      <th>3</th>\n",
       "      <td>3</td>\n",
       "      <td>Thiago da Rosa</td>\n",
       "      <td>1953-02-18</td>\n",
       "      <td>Rodovia Valentina Costa, 65\\nVila Da Paz\\n1862...</td>\n",
       "      <td>134.826.975-82</td>\n",
       "      <td>+55 (071) 9023 4169</td>\n",
       "      <td>almeidafrancisco</td>\n",
       "      <td>kbZba43*#9gg</td>\n",
       "    </tr>\n",
       "    <tr>\n",
       "      <th>4</th>\n",
       "      <td>4</td>\n",
       "      <td>Nicolas Moreira</td>\n",
       "      <td>1950-12-30</td>\n",
       "      <td>Núcleo da Mota, 21\\nVenda Nova\\n81014-245 Araú...</td>\n",
       "      <td>951.786.302-03</td>\n",
       "      <td>+55 (061) 9671 0812</td>\n",
       "      <td>yago59</td>\n",
       "      <td>eRfPp!FuW&amp;1q</td>\n",
       "    </tr>\n",
       "    <tr>\n",
       "      <th>...</th>\n",
       "      <td>...</td>\n",
       "      <td>...</td>\n",
       "      <td>...</td>\n",
       "      <td>...</td>\n",
       "      <td>...</td>\n",
       "      <td>...</td>\n",
       "      <td>...</td>\n",
       "      <td>...</td>\n",
       "    </tr>\n",
       "    <tr>\n",
       "      <th>195</th>\n",
       "      <td>195</td>\n",
       "      <td>João Vitor Pinto</td>\n",
       "      <td>1997-10-22</td>\n",
       "      <td>Vila Laís Nogueira, 56\\nUnião\\n74451598 Cardos...</td>\n",
       "      <td>194.278.365-55</td>\n",
       "      <td>+55 31 9738 6902</td>\n",
       "      <td>arthur18</td>\n",
       "      <td>YK2c!RcR5*dz</td>\n",
       "    </tr>\n",
       "    <tr>\n",
       "      <th>196</th>\n",
       "      <td>196</td>\n",
       "      <td>Ana Luiza Almeida</td>\n",
       "      <td>1961-08-15</td>\n",
       "      <td>Vereda Ana Carolina Lopes\\nGrajaú\\n11620-862 V...</td>\n",
       "      <td>798.531.426-19</td>\n",
       "      <td>+55 (031) 1904-6017</td>\n",
       "      <td>heitorsilva</td>\n",
       "      <td>(Ti6pLkce7Rg</td>\n",
       "    </tr>\n",
       "    <tr>\n",
       "      <th>197</th>\n",
       "      <td>197</td>\n",
       "      <td>Lucas Freitas</td>\n",
       "      <td>1967-01-04</td>\n",
       "      <td>Passarela Almeida\\nBuritis\\n94221385 das Neves...</td>\n",
       "      <td>382.079.516-21</td>\n",
       "      <td>+55 (051) 0383-3922</td>\n",
       "      <td>alice47</td>\n",
       "      <td>*A7aOFXc7#S+</td>\n",
       "    </tr>\n",
       "    <tr>\n",
       "      <th>198</th>\n",
       "      <td>198</td>\n",
       "      <td>Marina Duarte</td>\n",
       "      <td>1982-05-25</td>\n",
       "      <td>Viela Ana Júlia Moreira, 2\\nEymard\\n71876-489 ...</td>\n",
       "      <td>625.319.408-98</td>\n",
       "      <td>(071) 8801 1875</td>\n",
       "      <td>ianrocha</td>\n",
       "      <td>%9+vmAQl&amp;t8L</td>\n",
       "    </tr>\n",
       "    <tr>\n",
       "      <th>199</th>\n",
       "      <td>199</td>\n",
       "      <td>Lucca da Rosa</td>\n",
       "      <td>1987-06-25</td>\n",
       "      <td>Trecho Isabel Vieira, 34\\nGoiania\\n52964691 Si...</td>\n",
       "      <td>804.351.679-01</td>\n",
       "      <td>21 9347-2249</td>\n",
       "      <td>enzo14</td>\n",
       "      <td>(g54C3msWI%W</td>\n",
       "    </tr>\n",
       "  </tbody>\n",
       "</table>\n",
       "<p>200 rows × 8 columns</p>\n",
       "</div>"
      ],
      "text/plain": [
       "     id_clientes       nome_cliente  nascimento  \\\n",
       "0              0   Marcela da Rocha  1972-09-29   \n",
       "1              1        Caio da Paz  1959-06-16   \n",
       "2              2       Sophie Rocha  1952-04-25   \n",
       "3              3     Thiago da Rosa  1953-02-18   \n",
       "4              4    Nicolas Moreira  1950-12-30   \n",
       "..           ...                ...         ...   \n",
       "195          195   João Vitor Pinto  1997-10-22   \n",
       "196          196  Ana Luiza Almeida  1961-08-15   \n",
       "197          197      Lucas Freitas  1967-01-04   \n",
       "198          198      Marina Duarte  1982-05-25   \n",
       "199          199      Lucca da Rosa  1987-06-25   \n",
       "\n",
       "                                              endereco             cpf  \\\n",
       "0    Favela Correia, 5\\nSão Francisco\\n46906-080 Ca...  651.792.804-94   \n",
       "1    Loteamento da Conceição, 83\\nAparecida 7ª Seçã...  049.275.861-11   \n",
       "2    Quadra de Aragão, 55\\nJardim São José\\n98950-2...  529.763.041-06   \n",
       "3    Rodovia Valentina Costa, 65\\nVila Da Paz\\n1862...  134.826.975-82   \n",
       "4    Núcleo da Mota, 21\\nVenda Nova\\n81014-245 Araú...  951.786.302-03   \n",
       "..                                                 ...             ...   \n",
       "195  Vila Laís Nogueira, 56\\nUnião\\n74451598 Cardos...  194.278.365-55   \n",
       "196  Vereda Ana Carolina Lopes\\nGrajaú\\n11620-862 V...  798.531.426-19   \n",
       "197  Passarela Almeida\\nBuritis\\n94221385 das Neves...  382.079.516-21   \n",
       "198  Viela Ana Júlia Moreira, 2\\nEymard\\n71876-489 ...  625.319.408-98   \n",
       "199  Trecho Isabel Vieira, 34\\nGoiania\\n52964691 Si...  804.351.679-01   \n",
       "\n",
       "                telefone           usuario         senha  \n",
       "0           81 2546-5788            vmoura  _Va7Ladm#lnZ  \n",
       "1           61 0731-0342            ksales  4+3B+RuS8wqG  \n",
       "2        (021) 9276 1946           dvieira  d6gUCRzB*20Y  \n",
       "3    +55 (071) 9023 4169  almeidafrancisco  kbZba43*#9gg  \n",
       "4    +55 (061) 9671 0812            yago59  eRfPp!FuW&1q  \n",
       "..                   ...               ...           ...  \n",
       "195     +55 31 9738 6902          arthur18  YK2c!RcR5*dz  \n",
       "196  +55 (031) 1904-6017       heitorsilva  (Ti6pLkce7Rg  \n",
       "197  +55 (051) 0383-3922           alice47  *A7aOFXc7#S+  \n",
       "198      (071) 8801 1875          ianrocha  %9+vmAQl&t8L  \n",
       "199         21 9347-2249            enzo14  (g54C3msWI%W  \n",
       "\n",
       "[200 rows x 8 columns]"
      ]
     },
     "execution_count": 298,
     "metadata": {},
     "output_type": "execute_result"
    }
   ],
   "source": [
    "clientes=p[1]\n",
    "#renomenado a coluna id para id_cliente na tabela de clientes\n",
    "clientes.rename(columns={\"id\": \"id_clientes\"}, inplace = 1)\n",
    "#renomenado a coluna nome para nome_cliente na tabela de clientes\n",
    "clientes.rename(columns={\"nome\": \"nome_cliente\"}, inplace = 1)\n",
    "clientes"
   ]
  },
  {
   "cell_type": "code",
   "execution_count": 299,
   "id": "c549b3fe",
   "metadata": {},
   "outputs": [
    {
     "data": {
      "text/html": [
       "<div>\n",
       "<style scoped>\n",
       "    .dataframe tbody tr th:only-of-type {\n",
       "        vertical-align: middle;\n",
       "    }\n",
       "\n",
       "    .dataframe tbody tr th {\n",
       "        vertical-align: top;\n",
       "    }\n",
       "\n",
       "    .dataframe thead th {\n",
       "        text-align: right;\n",
       "    }\n",
       "</style>\n",
       "<table border=\"1\" class=\"dataframe\">\n",
       "  <thead>\n",
       "    <tr style=\"text-align: right;\">\n",
       "      <th></th>\n",
       "      <th>id_vendas</th>\n",
       "      <th>id_clientes</th>\n",
       "      <th>data</th>\n",
       "    </tr>\n",
       "  </thead>\n",
       "  <tbody>\n",
       "    <tr>\n",
       "      <th>0</th>\n",
       "      <td>0</td>\n",
       "      <td>117</td>\n",
       "      <td>2021-11-01</td>\n",
       "    </tr>\n",
       "    <tr>\n",
       "      <th>1</th>\n",
       "      <td>1</td>\n",
       "      <td>59</td>\n",
       "      <td>2021-11-01</td>\n",
       "    </tr>\n",
       "    <tr>\n",
       "      <th>2</th>\n",
       "      <td>2</td>\n",
       "      <td>194</td>\n",
       "      <td>2021-11-01</td>\n",
       "    </tr>\n",
       "    <tr>\n",
       "      <th>3</th>\n",
       "      <td>3</td>\n",
       "      <td>96</td>\n",
       "      <td>2021-11-01</td>\n",
       "    </tr>\n",
       "    <tr>\n",
       "      <th>4</th>\n",
       "      <td>4</td>\n",
       "      <td>162</td>\n",
       "      <td>2021-11-01</td>\n",
       "    </tr>\n",
       "    <tr>\n",
       "      <th>...</th>\n",
       "      <td>...</td>\n",
       "      <td>...</td>\n",
       "      <td>...</td>\n",
       "    </tr>\n",
       "    <tr>\n",
       "      <th>495</th>\n",
       "      <td>495</td>\n",
       "      <td>187</td>\n",
       "      <td>2021-11-30</td>\n",
       "    </tr>\n",
       "    <tr>\n",
       "      <th>496</th>\n",
       "      <td>496</td>\n",
       "      <td>125</td>\n",
       "      <td>2021-11-30</td>\n",
       "    </tr>\n",
       "    <tr>\n",
       "      <th>497</th>\n",
       "      <td>497</td>\n",
       "      <td>188</td>\n",
       "      <td>2021-11-30</td>\n",
       "    </tr>\n",
       "    <tr>\n",
       "      <th>498</th>\n",
       "      <td>498</td>\n",
       "      <td>183</td>\n",
       "      <td>2021-11-30</td>\n",
       "    </tr>\n",
       "    <tr>\n",
       "      <th>499</th>\n",
       "      <td>499</td>\n",
       "      <td>168</td>\n",
       "      <td>2021-11-30</td>\n",
       "    </tr>\n",
       "  </tbody>\n",
       "</table>\n",
       "<p>500 rows × 3 columns</p>\n",
       "</div>"
      ],
      "text/plain": [
       "     id_vendas  id_clientes        data\n",
       "0            0          117  2021-11-01\n",
       "1            1           59  2021-11-01\n",
       "2            2          194  2021-11-01\n",
       "3            3           96  2021-11-01\n",
       "4            4          162  2021-11-01\n",
       "..         ...          ...         ...\n",
       "495        495          187  2021-11-30\n",
       "496        496          125  2021-11-30\n",
       "497        497          188  2021-11-30\n",
       "498        498          183  2021-11-30\n",
       "499        499          168  2021-11-30\n",
       "\n",
       "[500 rows x 3 columns]"
      ]
     },
     "execution_count": 299,
     "metadata": {},
     "output_type": "execute_result"
    }
   ],
   "source": [
    "vendas=p[2]\n",
    "#renomenado a coluna id para id_vendas na tabela de vendas\n",
    "vendas.rename(columns={\"id\": \"id_vendas\"}, inplace = 1)\n",
    "vendas"
   ]
  },
  {
   "cell_type": "code",
   "execution_count": 300,
   "id": "b6987937",
   "metadata": {},
   "outputs": [
    {
     "data": {
      "text/html": [
       "<div>\n",
       "<style scoped>\n",
       "    .dataframe tbody tr th:only-of-type {\n",
       "        vertical-align: middle;\n",
       "    }\n",
       "\n",
       "    .dataframe tbody tr th {\n",
       "        vertical-align: top;\n",
       "    }\n",
       "\n",
       "    .dataframe thead th {\n",
       "        text-align: right;\n",
       "    }\n",
       "</style>\n",
       "<table border=\"1\" class=\"dataframe\">\n",
       "  <thead>\n",
       "    <tr style=\"text-align: right;\">\n",
       "      <th></th>\n",
       "      <th>id_vendas</th>\n",
       "      <th>id_produtos</th>\n",
       "      <th>quantidade</th>\n",
       "    </tr>\n",
       "  </thead>\n",
       "  <tbody>\n",
       "    <tr>\n",
       "      <th>0</th>\n",
       "      <td>0</td>\n",
       "      <td>30</td>\n",
       "      <td>2</td>\n",
       "    </tr>\n",
       "    <tr>\n",
       "      <th>1</th>\n",
       "      <td>1</td>\n",
       "      <td>11</td>\n",
       "      <td>1</td>\n",
       "    </tr>\n",
       "    <tr>\n",
       "      <th>2</th>\n",
       "      <td>2</td>\n",
       "      <td>8</td>\n",
       "      <td>1</td>\n",
       "    </tr>\n",
       "    <tr>\n",
       "      <th>3</th>\n",
       "      <td>3</td>\n",
       "      <td>21</td>\n",
       "      <td>2</td>\n",
       "    </tr>\n",
       "    <tr>\n",
       "      <th>4</th>\n",
       "      <td>4</td>\n",
       "      <td>12</td>\n",
       "      <td>1</td>\n",
       "    </tr>\n",
       "    <tr>\n",
       "      <th>...</th>\n",
       "      <td>...</td>\n",
       "      <td>...</td>\n",
       "      <td>...</td>\n",
       "    </tr>\n",
       "    <tr>\n",
       "      <th>2495</th>\n",
       "      <td>18</td>\n",
       "      <td>14</td>\n",
       "      <td>3</td>\n",
       "    </tr>\n",
       "    <tr>\n",
       "      <th>2496</th>\n",
       "      <td>136</td>\n",
       "      <td>30</td>\n",
       "      <td>4</td>\n",
       "    </tr>\n",
       "    <tr>\n",
       "      <th>2497</th>\n",
       "      <td>163</td>\n",
       "      <td>35</td>\n",
       "      <td>1</td>\n",
       "    </tr>\n",
       "    <tr>\n",
       "      <th>2498</th>\n",
       "      <td>144</td>\n",
       "      <td>6</td>\n",
       "      <td>2</td>\n",
       "    </tr>\n",
       "    <tr>\n",
       "      <th>2499</th>\n",
       "      <td>116</td>\n",
       "      <td>32</td>\n",
       "      <td>2</td>\n",
       "    </tr>\n",
       "  </tbody>\n",
       "</table>\n",
       "<p>2500 rows × 3 columns</p>\n",
       "</div>"
      ],
      "text/plain": [
       "      id_vendas  id_produtos  quantidade\n",
       "0             0           30           2\n",
       "1             1           11           1\n",
       "2             2            8           1\n",
       "3             3           21           2\n",
       "4             4           12           1\n",
       "...         ...          ...         ...\n",
       "2495         18           14           3\n",
       "2496        136           30           4\n",
       "2497        163           35           1\n",
       "2498        144            6           2\n",
       "2499        116           32           2\n",
       "\n",
       "[2500 rows x 3 columns]"
      ]
     },
     "execution_count": 300,
     "metadata": {},
     "output_type": "execute_result"
    }
   ],
   "source": [
    "venda_produtos=p[3]\n",
    "venda_produtos"
   ]
  },
  {
   "cell_type": "markdown",
   "id": "77a9a467",
   "metadata": {},
   "source": [
    "##  Total de vendas por produto"
   ]
  },
  {
   "cell_type": "code",
   "execution_count": 301,
   "id": "fe3c1491",
   "metadata": {},
   "outputs": [
    {
     "data": {
      "text/html": [
       "<div>\n",
       "<style scoped>\n",
       "    .dataframe tbody tr th:only-of-type {\n",
       "        vertical-align: middle;\n",
       "    }\n",
       "\n",
       "    .dataframe tbody tr th {\n",
       "        vertical-align: top;\n",
       "    }\n",
       "\n",
       "    .dataframe thead th {\n",
       "        text-align: right;\n",
       "    }\n",
       "</style>\n",
       "<table border=\"1\" class=\"dataframe\">\n",
       "  <thead>\n",
       "    <tr style=\"text-align: right;\">\n",
       "      <th></th>\n",
       "      <th>id_vendas</th>\n",
       "      <th>id_produtos</th>\n",
       "      <th>quantidade</th>\n",
       "      <th>nome</th>\n",
       "      <th>secao</th>\n",
       "      <th>custo</th>\n",
       "      <th>preco</th>\n",
       "      <th>prateleira</th>\n",
       "      <th>estoque</th>\n",
       "      <th>unidade_de_medida_de_estoque</th>\n",
       "      <th>imagem</th>\n",
       "      <th>id_clientes</th>\n",
       "      <th>data</th>\n",
       "      <th>nome_cliente</th>\n",
       "      <th>nascimento</th>\n",
       "      <th>endereco</th>\n",
       "      <th>cpf</th>\n",
       "      <th>telefone</th>\n",
       "      <th>usuario</th>\n",
       "      <th>senha</th>\n",
       "    </tr>\n",
       "  </thead>\n",
       "  <tbody>\n",
       "    <tr>\n",
       "      <th>0</th>\n",
       "      <td>0</td>\n",
       "      <td>30</td>\n",
       "      <td>2</td>\n",
       "      <td>detergente</td>\n",
       "      <td>Produtos de Limpeza</td>\n",
       "      <td>1.30</td>\n",
       "      <td>2.70</td>\n",
       "      <td>8C</td>\n",
       "      <td>40</td>\n",
       "      <td>unidade</td>\n",
       "      <td>detergente.jpg</td>\n",
       "      <td>117</td>\n",
       "      <td>2021-11-01</td>\n",
       "      <td>Bárbara Viana</td>\n",
       "      <td>1957-06-18</td>\n",
       "      <td>Chácara Luiz Fernando Costa, 66\\nBairro Das In...</td>\n",
       "      <td>103.284.675-53</td>\n",
       "      <td>(061) 2913-0662</td>\n",
       "      <td>maria-ceciliaaragao</td>\n",
       "      <td>#F)E_%CjV5U#</td>\n",
       "    </tr>\n",
       "    <tr>\n",
       "      <th>1</th>\n",
       "      <td>0</td>\n",
       "      <td>30</td>\n",
       "      <td>1</td>\n",
       "      <td>detergente</td>\n",
       "      <td>Produtos de Limpeza</td>\n",
       "      <td>1.30</td>\n",
       "      <td>2.70</td>\n",
       "      <td>8C</td>\n",
       "      <td>40</td>\n",
       "      <td>unidade</td>\n",
       "      <td>detergente.jpg</td>\n",
       "      <td>117</td>\n",
       "      <td>2021-11-01</td>\n",
       "      <td>Bárbara Viana</td>\n",
       "      <td>1957-06-18</td>\n",
       "      <td>Chácara Luiz Fernando Costa, 66\\nBairro Das In...</td>\n",
       "      <td>103.284.675-53</td>\n",
       "      <td>(061) 2913-0662</td>\n",
       "      <td>maria-ceciliaaragao</td>\n",
       "      <td>#F)E_%CjV5U#</td>\n",
       "    </tr>\n",
       "    <tr>\n",
       "      <th>2</th>\n",
       "      <td>0</td>\n",
       "      <td>12</td>\n",
       "      <td>4</td>\n",
       "      <td>alcatra</td>\n",
       "      <td>Açougue</td>\n",
       "      <td>23.19</td>\n",
       "      <td>31.99</td>\n",
       "      <td>4A</td>\n",
       "      <td>7</td>\n",
       "      <td>kg</td>\n",
       "      <td>alcatra.jpg</td>\n",
       "      <td>117</td>\n",
       "      <td>2021-11-01</td>\n",
       "      <td>Bárbara Viana</td>\n",
       "      <td>1957-06-18</td>\n",
       "      <td>Chácara Luiz Fernando Costa, 66\\nBairro Das In...</td>\n",
       "      <td>103.284.675-53</td>\n",
       "      <td>(061) 2913-0662</td>\n",
       "      <td>maria-ceciliaaragao</td>\n",
       "      <td>#F)E_%CjV5U#</td>\n",
       "    </tr>\n",
       "    <tr>\n",
       "      <th>3</th>\n",
       "      <td>0</td>\n",
       "      <td>12</td>\n",
       "      <td>4</td>\n",
       "      <td>alcatra</td>\n",
       "      <td>Açougue</td>\n",
       "      <td>23.19</td>\n",
       "      <td>31.99</td>\n",
       "      <td>4A</td>\n",
       "      <td>7</td>\n",
       "      <td>kg</td>\n",
       "      <td>alcatra.jpg</td>\n",
       "      <td>117</td>\n",
       "      <td>2021-11-01</td>\n",
       "      <td>Bárbara Viana</td>\n",
       "      <td>1957-06-18</td>\n",
       "      <td>Chácara Luiz Fernando Costa, 66\\nBairro Das In...</td>\n",
       "      <td>103.284.675-53</td>\n",
       "      <td>(061) 2913-0662</td>\n",
       "      <td>maria-ceciliaaragao</td>\n",
       "      <td>#F)E_%CjV5U#</td>\n",
       "    </tr>\n",
       "    <tr>\n",
       "      <th>4</th>\n",
       "      <td>0</td>\n",
       "      <td>27</td>\n",
       "      <td>2</td>\n",
       "      <td>torta</td>\n",
       "      <td>Padaria</td>\n",
       "      <td>26.95</td>\n",
       "      <td>45.00</td>\n",
       "      <td>6C</td>\n",
       "      <td>7</td>\n",
       "      <td>kg</td>\n",
       "      <td>torta.jpg</td>\n",
       "      <td>117</td>\n",
       "      <td>2021-11-01</td>\n",
       "      <td>Bárbara Viana</td>\n",
       "      <td>1957-06-18</td>\n",
       "      <td>Chácara Luiz Fernando Costa, 66\\nBairro Das In...</td>\n",
       "      <td>103.284.675-53</td>\n",
       "      <td>(061) 2913-0662</td>\n",
       "      <td>maria-ceciliaaragao</td>\n",
       "      <td>#F)E_%CjV5U#</td>\n",
       "    </tr>\n",
       "    <tr>\n",
       "      <th>...</th>\n",
       "      <td>...</td>\n",
       "      <td>...</td>\n",
       "      <td>...</td>\n",
       "      <td>...</td>\n",
       "      <td>...</td>\n",
       "      <td>...</td>\n",
       "      <td>...</td>\n",
       "      <td>...</td>\n",
       "      <td>...</td>\n",
       "      <td>...</td>\n",
       "      <td>...</td>\n",
       "      <td>...</td>\n",
       "      <td>...</td>\n",
       "      <td>...</td>\n",
       "      <td>...</td>\n",
       "      <td>...</td>\n",
       "      <td>...</td>\n",
       "      <td>...</td>\n",
       "      <td>...</td>\n",
       "      <td>...</td>\n",
       "    </tr>\n",
       "    <tr>\n",
       "      <th>2495</th>\n",
       "      <td>280</td>\n",
       "      <td>2</td>\n",
       "      <td>1</td>\n",
       "      <td>banana</td>\n",
       "      <td>Alimentos em Geral</td>\n",
       "      <td>2.00</td>\n",
       "      <td>5.99</td>\n",
       "      <td>1B</td>\n",
       "      <td>40</td>\n",
       "      <td>kg</td>\n",
       "      <td>banana.png</td>\n",
       "      <td>160</td>\n",
       "      <td>2021-11-20</td>\n",
       "      <td>Maria Luiza da Rocha</td>\n",
       "      <td>1994-02-01</td>\n",
       "      <td>Morro de Costela, 89\\nBetânia\\n52100-695 Ferna...</td>\n",
       "      <td>420.917.568-49</td>\n",
       "      <td>0500 853 7617</td>\n",
       "      <td>rochasabrina</td>\n",
       "      <td>nreY3(X2R#%S</td>\n",
       "    </tr>\n",
       "    <tr>\n",
       "      <th>2496</th>\n",
       "      <td>304</td>\n",
       "      <td>2</td>\n",
       "      <td>2</td>\n",
       "      <td>banana</td>\n",
       "      <td>Alimentos em Geral</td>\n",
       "      <td>2.00</td>\n",
       "      <td>5.99</td>\n",
       "      <td>1B</td>\n",
       "      <td>40</td>\n",
       "      <td>kg</td>\n",
       "      <td>banana.png</td>\n",
       "      <td>161</td>\n",
       "      <td>2021-11-21</td>\n",
       "      <td>Sophie da Costa</td>\n",
       "      <td>1967-07-24</td>\n",
       "      <td>Avenida Castro, 453\\nApolonia\\n46888586 Nunes ...</td>\n",
       "      <td>037.298.154-23</td>\n",
       "      <td>31 3056-0769</td>\n",
       "      <td>bryanmartins</td>\n",
       "      <td>*Z19u7ux0+AJ</td>\n",
       "    </tr>\n",
       "    <tr>\n",
       "      <th>2497</th>\n",
       "      <td>253</td>\n",
       "      <td>22</td>\n",
       "      <td>4</td>\n",
       "      <td>pão de queijo</td>\n",
       "      <td>Padaria</td>\n",
       "      <td>17.04</td>\n",
       "      <td>23.99</td>\n",
       "      <td>7B</td>\n",
       "      <td>1</td>\n",
       "      <td>kg</td>\n",
       "      <td>pao_de_queijo.jpg</td>\n",
       "      <td>122</td>\n",
       "      <td>2021-11-18</td>\n",
       "      <td>Giovanna Duarte</td>\n",
       "      <td>1958-10-11</td>\n",
       "      <td>Quadra Cunha\\nRio Branco\\n21776-823 Fogaça do ...</td>\n",
       "      <td>673.258.941-55</td>\n",
       "      <td>+55 84 9594 9447</td>\n",
       "      <td>caroline48</td>\n",
       "      <td>kIQ$kcTN_(1X</td>\n",
       "    </tr>\n",
       "    <tr>\n",
       "      <th>2498</th>\n",
       "      <td>214</td>\n",
       "      <td>26</td>\n",
       "      <td>4</td>\n",
       "      <td>sonho</td>\n",
       "      <td>Padaria</td>\n",
       "      <td>1.79</td>\n",
       "      <td>3.49</td>\n",
       "      <td>6B</td>\n",
       "      <td>20</td>\n",
       "      <td>unidade</td>\n",
       "      <td>sonho.jpg</td>\n",
       "      <td>185</td>\n",
       "      <td>2021-11-15</td>\n",
       "      <td>Felipe Rocha</td>\n",
       "      <td>1968-10-01</td>\n",
       "      <td>Fazenda Vieira, 31\\nSão Gabriel\\n58017-176 Nog...</td>\n",
       "      <td>936.712.480-50</td>\n",
       "      <td>+55 51 3754 2274</td>\n",
       "      <td>juan87</td>\n",
       "      <td>j^)A2Mk%Q@_E</td>\n",
       "    </tr>\n",
       "    <tr>\n",
       "      <th>2499</th>\n",
       "      <td>370</td>\n",
       "      <td>24</td>\n",
       "      <td>4</td>\n",
       "      <td>pastel</td>\n",
       "      <td>Padaria</td>\n",
       "      <td>3.19</td>\n",
       "      <td>4.99</td>\n",
       "      <td>7D</td>\n",
       "      <td>9</td>\n",
       "      <td>unidade</td>\n",
       "      <td>pastel.jpg</td>\n",
       "      <td>185</td>\n",
       "      <td>2021-11-25</td>\n",
       "      <td>Felipe Rocha</td>\n",
       "      <td>1968-10-01</td>\n",
       "      <td>Fazenda Vieira, 31\\nSão Gabriel\\n58017-176 Nog...</td>\n",
       "      <td>936.712.480-50</td>\n",
       "      <td>+55 51 3754 2274</td>\n",
       "      <td>juan87</td>\n",
       "      <td>j^)A2Mk%Q@_E</td>\n",
       "    </tr>\n",
       "  </tbody>\n",
       "</table>\n",
       "<p>2500 rows × 20 columns</p>\n",
       "</div>"
      ],
      "text/plain": [
       "      id_vendas  id_produtos  quantidade           nome                secao  \\\n",
       "0             0           30           2     detergente  Produtos de Limpeza   \n",
       "1             0           30           1     detergente  Produtos de Limpeza   \n",
       "2             0           12           4        alcatra              Açougue   \n",
       "3             0           12           4        alcatra              Açougue   \n",
       "4             0           27           2          torta              Padaria   \n",
       "...         ...          ...         ...            ...                  ...   \n",
       "2495        280            2           1         banana   Alimentos em Geral   \n",
       "2496        304            2           2         banana   Alimentos em Geral   \n",
       "2497        253           22           4  pão de queijo              Padaria   \n",
       "2498        214           26           4          sonho              Padaria   \n",
       "2499        370           24           4         pastel              Padaria   \n",
       "\n",
       "      custo  preco prateleira  estoque unidade_de_medida_de_estoque  \\\n",
       "0      1.30   2.70         8C       40                      unidade   \n",
       "1      1.30   2.70         8C       40                      unidade   \n",
       "2     23.19  31.99         4A        7                           kg   \n",
       "3     23.19  31.99         4A        7                           kg   \n",
       "4     26.95  45.00         6C        7                           kg   \n",
       "...     ...    ...        ...      ...                          ...   \n",
       "2495   2.00   5.99         1B       40                           kg   \n",
       "2496   2.00   5.99         1B       40                           kg   \n",
       "2497  17.04  23.99         7B        1                           kg   \n",
       "2498   1.79   3.49         6B       20                      unidade   \n",
       "2499   3.19   4.99         7D        9                      unidade   \n",
       "\n",
       "                 imagem  id_clientes        data          nome_cliente  \\\n",
       "0        detergente.jpg          117  2021-11-01         Bárbara Viana   \n",
       "1        detergente.jpg          117  2021-11-01         Bárbara Viana   \n",
       "2           alcatra.jpg          117  2021-11-01         Bárbara Viana   \n",
       "3           alcatra.jpg          117  2021-11-01         Bárbara Viana   \n",
       "4             torta.jpg          117  2021-11-01         Bárbara Viana   \n",
       "...                 ...          ...         ...                   ...   \n",
       "2495         banana.png          160  2021-11-20  Maria Luiza da Rocha   \n",
       "2496         banana.png          161  2021-11-21       Sophie da Costa   \n",
       "2497  pao_de_queijo.jpg          122  2021-11-18       Giovanna Duarte   \n",
       "2498          sonho.jpg          185  2021-11-15          Felipe Rocha   \n",
       "2499         pastel.jpg          185  2021-11-25          Felipe Rocha   \n",
       "\n",
       "      nascimento                                           endereco  \\\n",
       "0     1957-06-18  Chácara Luiz Fernando Costa, 66\\nBairro Das In...   \n",
       "1     1957-06-18  Chácara Luiz Fernando Costa, 66\\nBairro Das In...   \n",
       "2     1957-06-18  Chácara Luiz Fernando Costa, 66\\nBairro Das In...   \n",
       "3     1957-06-18  Chácara Luiz Fernando Costa, 66\\nBairro Das In...   \n",
       "4     1957-06-18  Chácara Luiz Fernando Costa, 66\\nBairro Das In...   \n",
       "...          ...                                                ...   \n",
       "2495  1994-02-01  Morro de Costela, 89\\nBetânia\\n52100-695 Ferna...   \n",
       "2496  1967-07-24  Avenida Castro, 453\\nApolonia\\n46888586 Nunes ...   \n",
       "2497  1958-10-11  Quadra Cunha\\nRio Branco\\n21776-823 Fogaça do ...   \n",
       "2498  1968-10-01  Fazenda Vieira, 31\\nSão Gabriel\\n58017-176 Nog...   \n",
       "2499  1968-10-01  Fazenda Vieira, 31\\nSão Gabriel\\n58017-176 Nog...   \n",
       "\n",
       "                 cpf          telefone              usuario         senha  \n",
       "0     103.284.675-53   (061) 2913-0662  maria-ceciliaaragao  #F)E_%CjV5U#  \n",
       "1     103.284.675-53   (061) 2913-0662  maria-ceciliaaragao  #F)E_%CjV5U#  \n",
       "2     103.284.675-53   (061) 2913-0662  maria-ceciliaaragao  #F)E_%CjV5U#  \n",
       "3     103.284.675-53   (061) 2913-0662  maria-ceciliaaragao  #F)E_%CjV5U#  \n",
       "4     103.284.675-53   (061) 2913-0662  maria-ceciliaaragao  #F)E_%CjV5U#  \n",
       "...              ...               ...                  ...           ...  \n",
       "2495  420.917.568-49     0500 853 7617         rochasabrina  nreY3(X2R#%S  \n",
       "2496  037.298.154-23      31 3056-0769         bryanmartins  *Z19u7ux0+AJ  \n",
       "2497  673.258.941-55  +55 84 9594 9447           caroline48  kIQ$kcTN_(1X  \n",
       "2498  936.712.480-50  +55 51 3754 2274               juan87  j^)A2Mk%Q@_E  \n",
       "2499  936.712.480-50  +55 51 3754 2274               juan87  j^)A2Mk%Q@_E  \n",
       "\n",
       "[2500 rows x 20 columns]"
      ]
     },
     "execution_count": 301,
     "metadata": {},
     "output_type": "execute_result"
    }
   ],
   "source": [
    "#realizando a união das tabelas produtos e venda_produtos em id_produtos\n",
    "venda_produtos_2 = pd.merge(venda_produtos, produtos, on = 'id_produtos', how='inner')\n",
    "#realizando a união das tabelas vendas e venda_produtos em id_vendas\n",
    "venda_produtos_3 = pd.merge(venda_produtos_2, vendas, on = 'id_vendas', how='inner')\n",
    "#realizando a união das tabelas clientes e venda_produtos em id_cliente\n",
    "venda_produtos_cliente = pd.merge(venda_produtos_3, clientes, on = 'id_clientes', how='inner')\n",
    "\n",
    "venda_produtos_cliente"
   ]
  },
  {
   "cell_type": "code",
   "execution_count": 302,
   "id": "0a5b51b9",
   "metadata": {},
   "outputs": [
    {
     "data": {
      "text/html": [
       "<div>\n",
       "<style scoped>\n",
       "    .dataframe tbody tr th:only-of-type {\n",
       "        vertical-align: middle;\n",
       "    }\n",
       "\n",
       "    .dataframe tbody tr th {\n",
       "        vertical-align: top;\n",
       "    }\n",
       "\n",
       "    .dataframe thead th {\n",
       "        text-align: right;\n",
       "    }\n",
       "</style>\n",
       "<table border=\"1\" class=\"dataframe\">\n",
       "  <thead>\n",
       "    <tr style=\"text-align: right;\">\n",
       "      <th></th>\n",
       "      <th>nome</th>\n",
       "      <th>quantidade</th>\n",
       "    </tr>\n",
       "  </thead>\n",
       "  <tbody>\n",
       "    <tr>\n",
       "      <th>0</th>\n",
       "      <td>paleta suína</td>\n",
       "      <td>213</td>\n",
       "    </tr>\n",
       "    <tr>\n",
       "      <th>1</th>\n",
       "      <td>berinjela</td>\n",
       "      <td>206</td>\n",
       "    </tr>\n",
       "    <tr>\n",
       "      <th>2</th>\n",
       "      <td>bolo</td>\n",
       "      <td>204</td>\n",
       "    </tr>\n",
       "    <tr>\n",
       "      <th>3</th>\n",
       "      <td>detergente</td>\n",
       "      <td>201</td>\n",
       "    </tr>\n",
       "    <tr>\n",
       "      <th>4</th>\n",
       "      <td>pão francês</td>\n",
       "      <td>201</td>\n",
       "    </tr>\n",
       "    <tr>\n",
       "      <th>5</th>\n",
       "      <td>flanela</td>\n",
       "      <td>199</td>\n",
       "    </tr>\n",
       "    <tr>\n",
       "      <th>6</th>\n",
       "      <td>abobrinha</td>\n",
       "      <td>196</td>\n",
       "    </tr>\n",
       "    <tr>\n",
       "      <th>7</th>\n",
       "      <td>morango</td>\n",
       "      <td>190</td>\n",
       "    </tr>\n",
       "    <tr>\n",
       "      <th>8</th>\n",
       "      <td>torta</td>\n",
       "      <td>188</td>\n",
       "    </tr>\n",
       "    <tr>\n",
       "      <th>9</th>\n",
       "      <td>sonho</td>\n",
       "      <td>188</td>\n",
       "    </tr>\n",
       "    <tr>\n",
       "      <th>10</th>\n",
       "      <td>bisteca suína</td>\n",
       "      <td>186</td>\n",
       "    </tr>\n",
       "    <tr>\n",
       "      <th>11</th>\n",
       "      <td>costela</td>\n",
       "      <td>182</td>\n",
       "    </tr>\n",
       "    <tr>\n",
       "      <th>12</th>\n",
       "      <td>alcatra</td>\n",
       "      <td>181</td>\n",
       "    </tr>\n",
       "    <tr>\n",
       "      <th>13</th>\n",
       "      <td>pastel</td>\n",
       "      <td>181</td>\n",
       "    </tr>\n",
       "    <tr>\n",
       "      <th>14</th>\n",
       "      <td>rodo</td>\n",
       "      <td>180</td>\n",
       "    </tr>\n",
       "    <tr>\n",
       "      <th>15</th>\n",
       "      <td>sabonete</td>\n",
       "      <td>178</td>\n",
       "    </tr>\n",
       "    <tr>\n",
       "      <th>16</th>\n",
       "      <td>uva</td>\n",
       "      <td>176</td>\n",
       "    </tr>\n",
       "    <tr>\n",
       "      <th>17</th>\n",
       "      <td>picanha</td>\n",
       "      <td>175</td>\n",
       "    </tr>\n",
       "    <tr>\n",
       "      <th>18</th>\n",
       "      <td>pão de queijo</td>\n",
       "      <td>173</td>\n",
       "    </tr>\n",
       "    <tr>\n",
       "      <th>19</th>\n",
       "      <td>arroz</td>\n",
       "      <td>171</td>\n",
       "    </tr>\n",
       "    <tr>\n",
       "      <th>20</th>\n",
       "      <td>carré de cordeiro</td>\n",
       "      <td>171</td>\n",
       "    </tr>\n",
       "    <tr>\n",
       "      <th>21</th>\n",
       "      <td>melancia</td>\n",
       "      <td>169</td>\n",
       "    </tr>\n",
       "    <tr>\n",
       "      <th>22</th>\n",
       "      <td>couve-flor</td>\n",
       "      <td>168</td>\n",
       "    </tr>\n",
       "    <tr>\n",
       "      <th>23</th>\n",
       "      <td>odorizador</td>\n",
       "      <td>167</td>\n",
       "    </tr>\n",
       "    <tr>\n",
       "      <th>24</th>\n",
       "      <td>pão de forma</td>\n",
       "      <td>165</td>\n",
       "    </tr>\n",
       "    <tr>\n",
       "      <th>25</th>\n",
       "      <td>feijão</td>\n",
       "      <td>160</td>\n",
       "    </tr>\n",
       "    <tr>\n",
       "      <th>26</th>\n",
       "      <td>água sanitária</td>\n",
       "      <td>159</td>\n",
       "    </tr>\n",
       "    <tr>\n",
       "      <th>27</th>\n",
       "      <td>banana</td>\n",
       "      <td>158</td>\n",
       "    </tr>\n",
       "    <tr>\n",
       "      <th>28</th>\n",
       "      <td>sabão em pó</td>\n",
       "      <td>154</td>\n",
       "    </tr>\n",
       "    <tr>\n",
       "      <th>29</th>\n",
       "      <td>amaciante</td>\n",
       "      <td>148</td>\n",
       "    </tr>\n",
       "    <tr>\n",
       "      <th>30</th>\n",
       "      <td>macarrão</td>\n",
       "      <td>147</td>\n",
       "    </tr>\n",
       "    <tr>\n",
       "      <th>31</th>\n",
       "      <td>maminha</td>\n",
       "      <td>137</td>\n",
       "    </tr>\n",
       "    <tr>\n",
       "      <th>32</th>\n",
       "      <td>batata</td>\n",
       "      <td>132</td>\n",
       "    </tr>\n",
       "    <tr>\n",
       "      <th>33</th>\n",
       "      <td>sanduíche</td>\n",
       "      <td>126</td>\n",
       "    </tr>\n",
       "    <tr>\n",
       "      <th>34</th>\n",
       "      <td>alface</td>\n",
       "      <td>125</td>\n",
       "    </tr>\n",
       "    <tr>\n",
       "      <th>35</th>\n",
       "      <td>peito de frango</td>\n",
       "      <td>104</td>\n",
       "    </tr>\n",
       "  </tbody>\n",
       "</table>\n",
       "</div>"
      ],
      "text/plain": [
       "                 nome  quantidade\n",
       "0        paleta suína         213\n",
       "1           berinjela         206\n",
       "2                bolo         204\n",
       "3          detergente         201\n",
       "4         pão francês         201\n",
       "5             flanela         199\n",
       "6           abobrinha         196\n",
       "7             morango         190\n",
       "8               torta         188\n",
       "9               sonho         188\n",
       "10      bisteca suína         186\n",
       "11            costela         182\n",
       "12            alcatra         181\n",
       "13             pastel         181\n",
       "14               rodo         180\n",
       "15           sabonete         178\n",
       "16                uva         176\n",
       "17            picanha         175\n",
       "18      pão de queijo         173\n",
       "19              arroz         171\n",
       "20  carré de cordeiro         171\n",
       "21           melancia         169\n",
       "22         couve-flor         168\n",
       "23         odorizador         167\n",
       "24       pão de forma         165\n",
       "25             feijão         160\n",
       "26     água sanitária         159\n",
       "27             banana         158\n",
       "28        sabão em pó         154\n",
       "29          amaciante         148\n",
       "30           macarrão         147\n",
       "31            maminha         137\n",
       "32             batata         132\n",
       "33          sanduíche         126\n",
       "34             alface         125\n",
       "35    peito de frango         104"
      ]
     },
     "execution_count": 302,
     "metadata": {},
     "output_type": "execute_result"
    }
   ],
   "source": [
    "#agrupando a tabelas cendas_produto por nome (groupby), somando os valores (sum), organizando os valores em ordem decrescente por quantidade vendida (sort_values) e redefinindo o index (reset_index)\n",
    "venda_produtos_total=venda_produtos_cliente.groupby(\"nome\").sum().sort_values('quantidade', ascending=False).reset_index()\n",
    "\n",
    "#selecionando apenas as colunas que serão analisadas\n",
    "venda_produtos_total[[\"nome\", \"quantidade\"]]"
   ]
  },
  {
   "cell_type": "code",
   "execution_count": 303,
   "id": "bdd6d27c",
   "metadata": {},
   "outputs": [
    {
     "data": {
      "application/vnd.plotly.v1+json": {
       "config": {
        "plotlyServerURL": "https://plot.ly"
       },
       "data": [
        {
         "alignmentgroup": "True",
         "hovertemplate": "Nome=%{x}<br>Quantidade vendida=%{y}<extra></extra>",
         "legendgroup": "",
         "marker": {
          "color": "#636efa",
          "pattern": {
           "shape": ""
          }
         },
         "name": "",
         "offsetgroup": "",
         "orientation": "v",
         "showlegend": false,
         "textposition": "auto",
         "type": "bar",
         "x": [
          "paleta suína",
          "berinjela",
          "bolo",
          "detergente",
          "pão francês",
          "flanela",
          "abobrinha",
          "morango",
          "torta",
          "sonho",
          "bisteca suína",
          "costela",
          "alcatra",
          "pastel",
          "rodo",
          "sabonete",
          "uva",
          "picanha",
          "pão de queijo",
          "arroz",
          "carré de cordeiro",
          "melancia",
          "couve-flor",
          "odorizador",
          "pão de forma",
          "feijão",
          "água sanitária",
          "banana",
          "sabão em pó",
          "amaciante",
          "macarrão",
          "maminha",
          "batata",
          "sanduíche",
          "alface",
          "peito de frango"
         ],
         "xaxis": "x",
         "y": [
          213,
          206,
          204,
          201,
          201,
          199,
          196,
          190,
          188,
          188,
          186,
          182,
          181,
          181,
          180,
          178,
          176,
          175,
          173,
          171,
          171,
          169,
          168,
          167,
          165,
          160,
          159,
          158,
          154,
          148,
          147,
          137,
          132,
          126,
          125,
          104
         ],
         "yaxis": "y"
        }
       ],
       "layout": {
        "barmode": "stack",
        "legend": {
         "tracegroupgap": 0
        },
        "margin": {
         "t": 60
        },
        "template": {
         "data": {
          "bar": [
           {
            "error_x": {
             "color": "#2a3f5f"
            },
            "error_y": {
             "color": "#2a3f5f"
            },
            "marker": {
             "line": {
              "color": "#E5ECF6",
              "width": 0.5
             },
             "pattern": {
              "fillmode": "overlay",
              "size": 10,
              "solidity": 0.2
             }
            },
            "type": "bar"
           }
          ],
          "barpolar": [
           {
            "marker": {
             "line": {
              "color": "#E5ECF6",
              "width": 0.5
             },
             "pattern": {
              "fillmode": "overlay",
              "size": 10,
              "solidity": 0.2
             }
            },
            "type": "barpolar"
           }
          ],
          "carpet": [
           {
            "aaxis": {
             "endlinecolor": "#2a3f5f",
             "gridcolor": "white",
             "linecolor": "white",
             "minorgridcolor": "white",
             "startlinecolor": "#2a3f5f"
            },
            "baxis": {
             "endlinecolor": "#2a3f5f",
             "gridcolor": "white",
             "linecolor": "white",
             "minorgridcolor": "white",
             "startlinecolor": "#2a3f5f"
            },
            "type": "carpet"
           }
          ],
          "choropleth": [
           {
            "colorbar": {
             "outlinewidth": 0,
             "ticks": ""
            },
            "type": "choropleth"
           }
          ],
          "contour": [
           {
            "colorbar": {
             "outlinewidth": 0,
             "ticks": ""
            },
            "colorscale": [
             [
              0,
              "#0d0887"
             ],
             [
              0.1111111111111111,
              "#46039f"
             ],
             [
              0.2222222222222222,
              "#7201a8"
             ],
             [
              0.3333333333333333,
              "#9c179e"
             ],
             [
              0.4444444444444444,
              "#bd3786"
             ],
             [
              0.5555555555555556,
              "#d8576b"
             ],
             [
              0.6666666666666666,
              "#ed7953"
             ],
             [
              0.7777777777777778,
              "#fb9f3a"
             ],
             [
              0.8888888888888888,
              "#fdca26"
             ],
             [
              1,
              "#f0f921"
             ]
            ],
            "type": "contour"
           }
          ],
          "contourcarpet": [
           {
            "colorbar": {
             "outlinewidth": 0,
             "ticks": ""
            },
            "type": "contourcarpet"
           }
          ],
          "heatmap": [
           {
            "colorbar": {
             "outlinewidth": 0,
             "ticks": ""
            },
            "colorscale": [
             [
              0,
              "#0d0887"
             ],
             [
              0.1111111111111111,
              "#46039f"
             ],
             [
              0.2222222222222222,
              "#7201a8"
             ],
             [
              0.3333333333333333,
              "#9c179e"
             ],
             [
              0.4444444444444444,
              "#bd3786"
             ],
             [
              0.5555555555555556,
              "#d8576b"
             ],
             [
              0.6666666666666666,
              "#ed7953"
             ],
             [
              0.7777777777777778,
              "#fb9f3a"
             ],
             [
              0.8888888888888888,
              "#fdca26"
             ],
             [
              1,
              "#f0f921"
             ]
            ],
            "type": "heatmap"
           }
          ],
          "heatmapgl": [
           {
            "colorbar": {
             "outlinewidth": 0,
             "ticks": ""
            },
            "colorscale": [
             [
              0,
              "#0d0887"
             ],
             [
              0.1111111111111111,
              "#46039f"
             ],
             [
              0.2222222222222222,
              "#7201a8"
             ],
             [
              0.3333333333333333,
              "#9c179e"
             ],
             [
              0.4444444444444444,
              "#bd3786"
             ],
             [
              0.5555555555555556,
              "#d8576b"
             ],
             [
              0.6666666666666666,
              "#ed7953"
             ],
             [
              0.7777777777777778,
              "#fb9f3a"
             ],
             [
              0.8888888888888888,
              "#fdca26"
             ],
             [
              1,
              "#f0f921"
             ]
            ],
            "type": "heatmapgl"
           }
          ],
          "histogram": [
           {
            "marker": {
             "pattern": {
              "fillmode": "overlay",
              "size": 10,
              "solidity": 0.2
             }
            },
            "type": "histogram"
           }
          ],
          "histogram2d": [
           {
            "colorbar": {
             "outlinewidth": 0,
             "ticks": ""
            },
            "colorscale": [
             [
              0,
              "#0d0887"
             ],
             [
              0.1111111111111111,
              "#46039f"
             ],
             [
              0.2222222222222222,
              "#7201a8"
             ],
             [
              0.3333333333333333,
              "#9c179e"
             ],
             [
              0.4444444444444444,
              "#bd3786"
             ],
             [
              0.5555555555555556,
              "#d8576b"
             ],
             [
              0.6666666666666666,
              "#ed7953"
             ],
             [
              0.7777777777777778,
              "#fb9f3a"
             ],
             [
              0.8888888888888888,
              "#fdca26"
             ],
             [
              1,
              "#f0f921"
             ]
            ],
            "type": "histogram2d"
           }
          ],
          "histogram2dcontour": [
           {
            "colorbar": {
             "outlinewidth": 0,
             "ticks": ""
            },
            "colorscale": [
             [
              0,
              "#0d0887"
             ],
             [
              0.1111111111111111,
              "#46039f"
             ],
             [
              0.2222222222222222,
              "#7201a8"
             ],
             [
              0.3333333333333333,
              "#9c179e"
             ],
             [
              0.4444444444444444,
              "#bd3786"
             ],
             [
              0.5555555555555556,
              "#d8576b"
             ],
             [
              0.6666666666666666,
              "#ed7953"
             ],
             [
              0.7777777777777778,
              "#fb9f3a"
             ],
             [
              0.8888888888888888,
              "#fdca26"
             ],
             [
              1,
              "#f0f921"
             ]
            ],
            "type": "histogram2dcontour"
           }
          ],
          "mesh3d": [
           {
            "colorbar": {
             "outlinewidth": 0,
             "ticks": ""
            },
            "type": "mesh3d"
           }
          ],
          "parcoords": [
           {
            "line": {
             "colorbar": {
              "outlinewidth": 0,
              "ticks": ""
             }
            },
            "type": "parcoords"
           }
          ],
          "pie": [
           {
            "automargin": true,
            "type": "pie"
           }
          ],
          "scatter": [
           {
            "marker": {
             "colorbar": {
              "outlinewidth": 0,
              "ticks": ""
             }
            },
            "type": "scatter"
           }
          ],
          "scatter3d": [
           {
            "line": {
             "colorbar": {
              "outlinewidth": 0,
              "ticks": ""
             }
            },
            "marker": {
             "colorbar": {
              "outlinewidth": 0,
              "ticks": ""
             }
            },
            "type": "scatter3d"
           }
          ],
          "scattercarpet": [
           {
            "marker": {
             "colorbar": {
              "outlinewidth": 0,
              "ticks": ""
             }
            },
            "type": "scattercarpet"
           }
          ],
          "scattergeo": [
           {
            "marker": {
             "colorbar": {
              "outlinewidth": 0,
              "ticks": ""
             }
            },
            "type": "scattergeo"
           }
          ],
          "scattergl": [
           {
            "marker": {
             "colorbar": {
              "outlinewidth": 0,
              "ticks": ""
             }
            },
            "type": "scattergl"
           }
          ],
          "scattermapbox": [
           {
            "marker": {
             "colorbar": {
              "outlinewidth": 0,
              "ticks": ""
             }
            },
            "type": "scattermapbox"
           }
          ],
          "scatterpolar": [
           {
            "marker": {
             "colorbar": {
              "outlinewidth": 0,
              "ticks": ""
             }
            },
            "type": "scatterpolar"
           }
          ],
          "scatterpolargl": [
           {
            "marker": {
             "colorbar": {
              "outlinewidth": 0,
              "ticks": ""
             }
            },
            "type": "scatterpolargl"
           }
          ],
          "scatterternary": [
           {
            "marker": {
             "colorbar": {
              "outlinewidth": 0,
              "ticks": ""
             }
            },
            "type": "scatterternary"
           }
          ],
          "surface": [
           {
            "colorbar": {
             "outlinewidth": 0,
             "ticks": ""
            },
            "colorscale": [
             [
              0,
              "#0d0887"
             ],
             [
              0.1111111111111111,
              "#46039f"
             ],
             [
              0.2222222222222222,
              "#7201a8"
             ],
             [
              0.3333333333333333,
              "#9c179e"
             ],
             [
              0.4444444444444444,
              "#bd3786"
             ],
             [
              0.5555555555555556,
              "#d8576b"
             ],
             [
              0.6666666666666666,
              "#ed7953"
             ],
             [
              0.7777777777777778,
              "#fb9f3a"
             ],
             [
              0.8888888888888888,
              "#fdca26"
             ],
             [
              1,
              "#f0f921"
             ]
            ],
            "type": "surface"
           }
          ],
          "table": [
           {
            "cells": {
             "fill": {
              "color": "#EBF0F8"
             },
             "line": {
              "color": "white"
             }
            },
            "header": {
             "fill": {
              "color": "#C8D4E3"
             },
             "line": {
              "color": "white"
             }
            },
            "type": "table"
           }
          ]
         },
         "layout": {
          "annotationdefaults": {
           "arrowcolor": "#2a3f5f",
           "arrowhead": 0,
           "arrowwidth": 1
          },
          "autotypenumbers": "strict",
          "coloraxis": {
           "colorbar": {
            "outlinewidth": 0,
            "ticks": ""
           }
          },
          "colorscale": {
           "diverging": [
            [
             0,
             "#8e0152"
            ],
            [
             0.1,
             "#c51b7d"
            ],
            [
             0.2,
             "#de77ae"
            ],
            [
             0.3,
             "#f1b6da"
            ],
            [
             0.4,
             "#fde0ef"
            ],
            [
             0.5,
             "#f7f7f7"
            ],
            [
             0.6,
             "#e6f5d0"
            ],
            [
             0.7,
             "#b8e186"
            ],
            [
             0.8,
             "#7fbc41"
            ],
            [
             0.9,
             "#4d9221"
            ],
            [
             1,
             "#276419"
            ]
           ],
           "sequential": [
            [
             0,
             "#0d0887"
            ],
            [
             0.1111111111111111,
             "#46039f"
            ],
            [
             0.2222222222222222,
             "#7201a8"
            ],
            [
             0.3333333333333333,
             "#9c179e"
            ],
            [
             0.4444444444444444,
             "#bd3786"
            ],
            [
             0.5555555555555556,
             "#d8576b"
            ],
            [
             0.6666666666666666,
             "#ed7953"
            ],
            [
             0.7777777777777778,
             "#fb9f3a"
            ],
            [
             0.8888888888888888,
             "#fdca26"
            ],
            [
             1,
             "#f0f921"
            ]
           ],
           "sequentialminus": [
            [
             0,
             "#0d0887"
            ],
            [
             0.1111111111111111,
             "#46039f"
            ],
            [
             0.2222222222222222,
             "#7201a8"
            ],
            [
             0.3333333333333333,
             "#9c179e"
            ],
            [
             0.4444444444444444,
             "#bd3786"
            ],
            [
             0.5555555555555556,
             "#d8576b"
            ],
            [
             0.6666666666666666,
             "#ed7953"
            ],
            [
             0.7777777777777778,
             "#fb9f3a"
            ],
            [
             0.8888888888888888,
             "#fdca26"
            ],
            [
             1,
             "#f0f921"
            ]
           ]
          },
          "colorway": [
           "#636efa",
           "#EF553B",
           "#00cc96",
           "#ab63fa",
           "#FFA15A",
           "#19d3f3",
           "#FF6692",
           "#B6E880",
           "#FF97FF",
           "#FECB52"
          ],
          "font": {
           "color": "#2a3f5f"
          },
          "geo": {
           "bgcolor": "white",
           "lakecolor": "white",
           "landcolor": "#E5ECF6",
           "showlakes": true,
           "showland": true,
           "subunitcolor": "white"
          },
          "hoverlabel": {
           "align": "left"
          },
          "hovermode": "closest",
          "mapbox": {
           "style": "light"
          },
          "paper_bgcolor": "white",
          "plot_bgcolor": "#E5ECF6",
          "polar": {
           "angularaxis": {
            "gridcolor": "white",
            "linecolor": "white",
            "ticks": ""
           },
           "bgcolor": "#E5ECF6",
           "radialaxis": {
            "gridcolor": "white",
            "linecolor": "white",
            "ticks": ""
           }
          },
          "scene": {
           "xaxis": {
            "backgroundcolor": "#E5ECF6",
            "gridcolor": "white",
            "gridwidth": 2,
            "linecolor": "white",
            "showbackground": true,
            "ticks": "",
            "zerolinecolor": "white"
           },
           "yaxis": {
            "backgroundcolor": "#E5ECF6",
            "gridcolor": "white",
            "gridwidth": 2,
            "linecolor": "white",
            "showbackground": true,
            "ticks": "",
            "zerolinecolor": "white"
           },
           "zaxis": {
            "backgroundcolor": "#E5ECF6",
            "gridcolor": "white",
            "gridwidth": 2,
            "linecolor": "white",
            "showbackground": true,
            "ticks": "",
            "zerolinecolor": "white"
           }
          },
          "shapedefaults": {
           "line": {
            "color": "#2a3f5f"
           }
          },
          "ternary": {
           "aaxis": {
            "gridcolor": "white",
            "linecolor": "white",
            "ticks": ""
           },
           "baxis": {
            "gridcolor": "white",
            "linecolor": "white",
            "ticks": ""
           },
           "bgcolor": "#E5ECF6",
           "caxis": {
            "gridcolor": "white",
            "linecolor": "white",
            "ticks": ""
           }
          },
          "title": {
           "x": 0.05
          },
          "xaxis": {
           "automargin": true,
           "gridcolor": "white",
           "linecolor": "white",
           "ticks": "",
           "title": {
            "standoff": 15
           },
           "zerolinecolor": "white",
           "zerolinewidth": 2
          },
          "yaxis": {
           "automargin": true,
           "gridcolor": "white",
           "linecolor": "white",
           "ticks": "",
           "title": {
            "standoff": 15
           },
           "zerolinecolor": "white",
           "zerolinewidth": 2
          }
         }
        },
        "title": {
         "text": "Venda dos produtos"
        },
        "xaxis": {
         "anchor": "y",
         "domain": [
          0,
          1
         ],
         "tickangle": 45,
         "title": {
          "text": "Produto"
         }
        },
        "yaxis": {
         "anchor": "x",
         "domain": [
          0,
          1
         ],
         "title": {
          "text": "Quantidade vendida"
         }
        }
       }
      },
      "text/html": [
       "<div>                            <div id=\"a2dedd1d-c111-45fb-b26f-58d6cec19d4c\" class=\"plotly-graph-div\" style=\"height:525px; width:100%;\"></div>            <script type=\"text/javascript\">                require([\"plotly\"], function(Plotly) {                    window.PLOTLYENV=window.PLOTLYENV || {};                                    if (document.getElementById(\"a2dedd1d-c111-45fb-b26f-58d6cec19d4c\")) {                    Plotly.newPlot(                        \"a2dedd1d-c111-45fb-b26f-58d6cec19d4c\",                        [{\"alignmentgroup\":\"True\",\"hovertemplate\":\"Nome=%{x}<br>Quantidade vendida=%{y}<extra></extra>\",\"legendgroup\":\"\",\"marker\":{\"color\":\"#636efa\",\"pattern\":{\"shape\":\"\"}},\"name\":\"\",\"offsetgroup\":\"\",\"orientation\":\"v\",\"showlegend\":false,\"textposition\":\"auto\",\"type\":\"bar\",\"x\":[\"paleta su\\u00edna\",\"berinjela\",\"bolo\",\"detergente\",\"p\\u00e3o franc\\u00eas\",\"flanela\",\"abobrinha\",\"morango\",\"torta\",\"sonho\",\"bisteca su\\u00edna\",\"costela\",\"alcatra\",\"pastel\",\"rodo\",\"sabonete\",\"uva\",\"picanha\",\"p\\u00e3o de queijo\",\"arroz\",\"carr\\u00e9 de cordeiro\",\"melancia\",\"couve-flor\",\"odorizador\",\"p\\u00e3o de forma\",\"feij\\u00e3o\",\"\\u00e1gua sanit\\u00e1ria\",\"banana\",\"sab\\u00e3o em p\\u00f3\",\"amaciante\",\"macarr\\u00e3o\",\"maminha\",\"batata\",\"sandu\\u00edche\",\"alface\",\"peito de frango\"],\"xaxis\":\"x\",\"y\":[213,206,204,201,201,199,196,190,188,188,186,182,181,181,180,178,176,175,173,171,171,169,168,167,165,160,159,158,154,148,147,137,132,126,125,104],\"yaxis\":\"y\"}],                        {\"barmode\":\"stack\",\"legend\":{\"tracegroupgap\":0},\"margin\":{\"t\":60},\"template\":{\"data\":{\"bar\":[{\"error_x\":{\"color\":\"#2a3f5f\"},\"error_y\":{\"color\":\"#2a3f5f\"},\"marker\":{\"line\":{\"color\":\"#E5ECF6\",\"width\":0.5},\"pattern\":{\"fillmode\":\"overlay\",\"size\":10,\"solidity\":0.2}},\"type\":\"bar\"}],\"barpolar\":[{\"marker\":{\"line\":{\"color\":\"#E5ECF6\",\"width\":0.5},\"pattern\":{\"fillmode\":\"overlay\",\"size\":10,\"solidity\":0.2}},\"type\":\"barpolar\"}],\"carpet\":[{\"aaxis\":{\"endlinecolor\":\"#2a3f5f\",\"gridcolor\":\"white\",\"linecolor\":\"white\",\"minorgridcolor\":\"white\",\"startlinecolor\":\"#2a3f5f\"},\"baxis\":{\"endlinecolor\":\"#2a3f5f\",\"gridcolor\":\"white\",\"linecolor\":\"white\",\"minorgridcolor\":\"white\",\"startlinecolor\":\"#2a3f5f\"},\"type\":\"carpet\"}],\"choropleth\":[{\"colorbar\":{\"outlinewidth\":0,\"ticks\":\"\"},\"type\":\"choropleth\"}],\"contour\":[{\"colorbar\":{\"outlinewidth\":0,\"ticks\":\"\"},\"colorscale\":[[0.0,\"#0d0887\"],[0.1111111111111111,\"#46039f\"],[0.2222222222222222,\"#7201a8\"],[0.3333333333333333,\"#9c179e\"],[0.4444444444444444,\"#bd3786\"],[0.5555555555555556,\"#d8576b\"],[0.6666666666666666,\"#ed7953\"],[0.7777777777777778,\"#fb9f3a\"],[0.8888888888888888,\"#fdca26\"],[1.0,\"#f0f921\"]],\"type\":\"contour\"}],\"contourcarpet\":[{\"colorbar\":{\"outlinewidth\":0,\"ticks\":\"\"},\"type\":\"contourcarpet\"}],\"heatmap\":[{\"colorbar\":{\"outlinewidth\":0,\"ticks\":\"\"},\"colorscale\":[[0.0,\"#0d0887\"],[0.1111111111111111,\"#46039f\"],[0.2222222222222222,\"#7201a8\"],[0.3333333333333333,\"#9c179e\"],[0.4444444444444444,\"#bd3786\"],[0.5555555555555556,\"#d8576b\"],[0.6666666666666666,\"#ed7953\"],[0.7777777777777778,\"#fb9f3a\"],[0.8888888888888888,\"#fdca26\"],[1.0,\"#f0f921\"]],\"type\":\"heatmap\"}],\"heatmapgl\":[{\"colorbar\":{\"outlinewidth\":0,\"ticks\":\"\"},\"colorscale\":[[0.0,\"#0d0887\"],[0.1111111111111111,\"#46039f\"],[0.2222222222222222,\"#7201a8\"],[0.3333333333333333,\"#9c179e\"],[0.4444444444444444,\"#bd3786\"],[0.5555555555555556,\"#d8576b\"],[0.6666666666666666,\"#ed7953\"],[0.7777777777777778,\"#fb9f3a\"],[0.8888888888888888,\"#fdca26\"],[1.0,\"#f0f921\"]],\"type\":\"heatmapgl\"}],\"histogram\":[{\"marker\":{\"pattern\":{\"fillmode\":\"overlay\",\"size\":10,\"solidity\":0.2}},\"type\":\"histogram\"}],\"histogram2d\":[{\"colorbar\":{\"outlinewidth\":0,\"ticks\":\"\"},\"colorscale\":[[0.0,\"#0d0887\"],[0.1111111111111111,\"#46039f\"],[0.2222222222222222,\"#7201a8\"],[0.3333333333333333,\"#9c179e\"],[0.4444444444444444,\"#bd3786\"],[0.5555555555555556,\"#d8576b\"],[0.6666666666666666,\"#ed7953\"],[0.7777777777777778,\"#fb9f3a\"],[0.8888888888888888,\"#fdca26\"],[1.0,\"#f0f921\"]],\"type\":\"histogram2d\"}],\"histogram2dcontour\":[{\"colorbar\":{\"outlinewidth\":0,\"ticks\":\"\"},\"colorscale\":[[0.0,\"#0d0887\"],[0.1111111111111111,\"#46039f\"],[0.2222222222222222,\"#7201a8\"],[0.3333333333333333,\"#9c179e\"],[0.4444444444444444,\"#bd3786\"],[0.5555555555555556,\"#d8576b\"],[0.6666666666666666,\"#ed7953\"],[0.7777777777777778,\"#fb9f3a\"],[0.8888888888888888,\"#fdca26\"],[1.0,\"#f0f921\"]],\"type\":\"histogram2dcontour\"}],\"mesh3d\":[{\"colorbar\":{\"outlinewidth\":0,\"ticks\":\"\"},\"type\":\"mesh3d\"}],\"parcoords\":[{\"line\":{\"colorbar\":{\"outlinewidth\":0,\"ticks\":\"\"}},\"type\":\"parcoords\"}],\"pie\":[{\"automargin\":true,\"type\":\"pie\"}],\"scatter\":[{\"marker\":{\"colorbar\":{\"outlinewidth\":0,\"ticks\":\"\"}},\"type\":\"scatter\"}],\"scatter3d\":[{\"line\":{\"colorbar\":{\"outlinewidth\":0,\"ticks\":\"\"}},\"marker\":{\"colorbar\":{\"outlinewidth\":0,\"ticks\":\"\"}},\"type\":\"scatter3d\"}],\"scattercarpet\":[{\"marker\":{\"colorbar\":{\"outlinewidth\":0,\"ticks\":\"\"}},\"type\":\"scattercarpet\"}],\"scattergeo\":[{\"marker\":{\"colorbar\":{\"outlinewidth\":0,\"ticks\":\"\"}},\"type\":\"scattergeo\"}],\"scattergl\":[{\"marker\":{\"colorbar\":{\"outlinewidth\":0,\"ticks\":\"\"}},\"type\":\"scattergl\"}],\"scattermapbox\":[{\"marker\":{\"colorbar\":{\"outlinewidth\":0,\"ticks\":\"\"}},\"type\":\"scattermapbox\"}],\"scatterpolar\":[{\"marker\":{\"colorbar\":{\"outlinewidth\":0,\"ticks\":\"\"}},\"type\":\"scatterpolar\"}],\"scatterpolargl\":[{\"marker\":{\"colorbar\":{\"outlinewidth\":0,\"ticks\":\"\"}},\"type\":\"scatterpolargl\"}],\"scatterternary\":[{\"marker\":{\"colorbar\":{\"outlinewidth\":0,\"ticks\":\"\"}},\"type\":\"scatterternary\"}],\"surface\":[{\"colorbar\":{\"outlinewidth\":0,\"ticks\":\"\"},\"colorscale\":[[0.0,\"#0d0887\"],[0.1111111111111111,\"#46039f\"],[0.2222222222222222,\"#7201a8\"],[0.3333333333333333,\"#9c179e\"],[0.4444444444444444,\"#bd3786\"],[0.5555555555555556,\"#d8576b\"],[0.6666666666666666,\"#ed7953\"],[0.7777777777777778,\"#fb9f3a\"],[0.8888888888888888,\"#fdca26\"],[1.0,\"#f0f921\"]],\"type\":\"surface\"}],\"table\":[{\"cells\":{\"fill\":{\"color\":\"#EBF0F8\"},\"line\":{\"color\":\"white\"}},\"header\":{\"fill\":{\"color\":\"#C8D4E3\"},\"line\":{\"color\":\"white\"}},\"type\":\"table\"}]},\"layout\":{\"annotationdefaults\":{\"arrowcolor\":\"#2a3f5f\",\"arrowhead\":0,\"arrowwidth\":1},\"autotypenumbers\":\"strict\",\"coloraxis\":{\"colorbar\":{\"outlinewidth\":0,\"ticks\":\"\"}},\"colorscale\":{\"diverging\":[[0,\"#8e0152\"],[0.1,\"#c51b7d\"],[0.2,\"#de77ae\"],[0.3,\"#f1b6da\"],[0.4,\"#fde0ef\"],[0.5,\"#f7f7f7\"],[0.6,\"#e6f5d0\"],[0.7,\"#b8e186\"],[0.8,\"#7fbc41\"],[0.9,\"#4d9221\"],[1,\"#276419\"]],\"sequential\":[[0.0,\"#0d0887\"],[0.1111111111111111,\"#46039f\"],[0.2222222222222222,\"#7201a8\"],[0.3333333333333333,\"#9c179e\"],[0.4444444444444444,\"#bd3786\"],[0.5555555555555556,\"#d8576b\"],[0.6666666666666666,\"#ed7953\"],[0.7777777777777778,\"#fb9f3a\"],[0.8888888888888888,\"#fdca26\"],[1.0,\"#f0f921\"]],\"sequentialminus\":[[0.0,\"#0d0887\"],[0.1111111111111111,\"#46039f\"],[0.2222222222222222,\"#7201a8\"],[0.3333333333333333,\"#9c179e\"],[0.4444444444444444,\"#bd3786\"],[0.5555555555555556,\"#d8576b\"],[0.6666666666666666,\"#ed7953\"],[0.7777777777777778,\"#fb9f3a\"],[0.8888888888888888,\"#fdca26\"],[1.0,\"#f0f921\"]]},\"colorway\":[\"#636efa\",\"#EF553B\",\"#00cc96\",\"#ab63fa\",\"#FFA15A\",\"#19d3f3\",\"#FF6692\",\"#B6E880\",\"#FF97FF\",\"#FECB52\"],\"font\":{\"color\":\"#2a3f5f\"},\"geo\":{\"bgcolor\":\"white\",\"lakecolor\":\"white\",\"landcolor\":\"#E5ECF6\",\"showlakes\":true,\"showland\":true,\"subunitcolor\":\"white\"},\"hoverlabel\":{\"align\":\"left\"},\"hovermode\":\"closest\",\"mapbox\":{\"style\":\"light\"},\"paper_bgcolor\":\"white\",\"plot_bgcolor\":\"#E5ECF6\",\"polar\":{\"angularaxis\":{\"gridcolor\":\"white\",\"linecolor\":\"white\",\"ticks\":\"\"},\"bgcolor\":\"#E5ECF6\",\"radialaxis\":{\"gridcolor\":\"white\",\"linecolor\":\"white\",\"ticks\":\"\"}},\"scene\":{\"xaxis\":{\"backgroundcolor\":\"#E5ECF6\",\"gridcolor\":\"white\",\"gridwidth\":2,\"linecolor\":\"white\",\"showbackground\":true,\"ticks\":\"\",\"zerolinecolor\":\"white\"},\"yaxis\":{\"backgroundcolor\":\"#E5ECF6\",\"gridcolor\":\"white\",\"gridwidth\":2,\"linecolor\":\"white\",\"showbackground\":true,\"ticks\":\"\",\"zerolinecolor\":\"white\"},\"zaxis\":{\"backgroundcolor\":\"#E5ECF6\",\"gridcolor\":\"white\",\"gridwidth\":2,\"linecolor\":\"white\",\"showbackground\":true,\"ticks\":\"\",\"zerolinecolor\":\"white\"}},\"shapedefaults\":{\"line\":{\"color\":\"#2a3f5f\"}},\"ternary\":{\"aaxis\":{\"gridcolor\":\"white\",\"linecolor\":\"white\",\"ticks\":\"\"},\"baxis\":{\"gridcolor\":\"white\",\"linecolor\":\"white\",\"ticks\":\"\"},\"bgcolor\":\"#E5ECF6\",\"caxis\":{\"gridcolor\":\"white\",\"linecolor\":\"white\",\"ticks\":\"\"}},\"title\":{\"x\":0.05},\"xaxis\":{\"automargin\":true,\"gridcolor\":\"white\",\"linecolor\":\"white\",\"ticks\":\"\",\"title\":{\"standoff\":15},\"zerolinecolor\":\"white\",\"zerolinewidth\":2},\"yaxis\":{\"automargin\":true,\"gridcolor\":\"white\",\"linecolor\":\"white\",\"ticks\":\"\",\"title\":{\"standoff\":15},\"zerolinecolor\":\"white\",\"zerolinewidth\":2}}},\"title\":{\"text\":\"Venda dos produtos\"},\"xaxis\":{\"anchor\":\"y\",\"domain\":[0.0,1.0],\"tickangle\":45,\"title\":{\"text\":\"Produto\"}},\"yaxis\":{\"anchor\":\"x\",\"domain\":[0.0,1.0],\"title\":{\"text\":\"Quantidade vendida\"}}},                        {\"responsive\": true}                    ).then(function(){\n",
       "                            \n",
       "var gd = document.getElementById('a2dedd1d-c111-45fb-b26f-58d6cec19d4c');\n",
       "var x = new MutationObserver(function (mutations, observer) {{\n",
       "        var display = window.getComputedStyle(gd).display;\n",
       "        if (!display || display === 'none') {{\n",
       "            console.log([gd, 'removed!']);\n",
       "            Plotly.purge(gd);\n",
       "            observer.disconnect();\n",
       "        }}\n",
       "}});\n",
       "\n",
       "// Listen for the removal of the full notebook cells\n",
       "var notebookContainer = gd.closest('#notebook-container');\n",
       "if (notebookContainer) {{\n",
       "    x.observe(notebookContainer, {childList: true});\n",
       "}}\n",
       "\n",
       "// Listen for the clearing of the current output cell\n",
       "var outputEl = gd.closest('.output');\n",
       "if (outputEl) {{\n",
       "    x.observe(outputEl, {childList: true});\n",
       "}}\n",
       "\n",
       "                        })                };                });            </script>        </div>"
      ]
     },
     "metadata": {},
     "output_type": "display_data"
    }
   ],
   "source": [
    "\n",
    "\n",
    "#plotagem do gráfico de barras sobre o total de vendas por produto usando plotly\n",
    "fig_quantidade_produto = px.bar(venda_produtos_total,\n",
    "             x='nome', y=\"quantidade\",\n",
    "             barmode='stack', labels={\"nome\": \"Nome\", 'quantidade':\"Quantidade vendida\"})\n",
    "fig_quantidade_produto.update_layout(title = 'Venda dos produtos')\n",
    "fig_quantidade_produto.update_xaxes(title = 'Produto')\n",
    "fig_quantidade_produto.update_yaxes(title = 'Quantidade vendida')\n",
    "fig_quantidade_produto.update_xaxes(tickangle=45)\n",
    "fig_quantidade_produto.show()"
   ]
  },
  {
   "cell_type": "code",
   "execution_count": 304,
   "id": "8a1c89c5",
   "metadata": {},
   "outputs": [
    {
     "name": "stderr",
     "output_type": "stream",
     "text": [
      "IOPub data rate exceeded.\n",
      "The notebook server will temporarily stop sending output\n",
      "to the client in order to avoid crashing it.\n",
      "To change this limit, set the config variable\n",
      "`--NotebookApp.iopub_data_rate_limit`.\n",
      "\n",
      "Current values:\n",
      "NotebookApp.iopub_data_rate_limit=1000000.0 (bytes/sec)\n",
      "NotebookApp.rate_limit_window=3.0 (secs)\n",
      "\n"
     ]
    }
   ],
   "source": [
    "from plotly.io import to_html\n",
    "#f=to_html(fig, full_html = False)\n",
    "f=fig_quantidade_produto.to_html(full_html=False)\n",
    "print(f)"
   ]
  },
  {
   "cell_type": "markdown",
   "id": "fdb739ee",
   "metadata": {},
   "source": [
    "## Relação entre preço e estoque"
   ]
  },
  {
   "cell_type": "code",
   "execution_count": 305,
   "id": "c607e931",
   "metadata": {},
   "outputs": [
    {
     "data": {
      "application/vnd.plotly.v1+json": {
       "config": {
        "plotlyServerURL": "https://plot.ly"
       },
       "data": [
        {
         "hovertemplate": "Preço=%{x}<br>Estoque=%{y}<extra></extra>",
         "legendgroup": "",
         "marker": {
          "color": "#636efa",
          "line": {
           "width": 2
          },
          "size": 8,
          "symbol": "circle"
         },
         "mode": "markers",
         "name": "",
         "orientation": "v",
         "showlegend": false,
         "type": "scatter",
         "x": [
          7.99,
          15.99,
          5.99,
          7.47,
          3.99,
          11.99,
          3.49,
          0.98,
          5.48,
          8.45,
          4.31,
          2.48,
          31.99,
          42.99,
          22.79,
          172,
          20.99,
          23.99,
          70.89,
          16.49,
          35,
          6.99,
          23.99,
          10.99,
          4.99,
          12.99,
          3.49,
          45,
          6.7,
          11.98,
          2.7,
          1.99,
          23.99,
          5.99,
          9.69,
          1.29
         ],
         "xaxis": "x",
         "y": [
          50,
          20,
          40,
          36,
          47,
          12,
          19,
          25,
          20,
          43,
          80,
          38,
          7,
          9,
          5,
          5,
          10,
          9,
          6,
          10,
          7,
          15,
          1,
          3,
          9,
          15,
          20,
          7,
          12,
          8,
          40,
          32,
          6,
          10,
          13,
          58
         ],
         "yaxis": "y"
        }
       ],
       "layout": {
        "height": 500,
        "legend": {
         "tracegroupgap": 0
        },
        "margin": {
         "t": 60
        },
        "template": {
         "data": {
          "bar": [
           {
            "error_x": {
             "color": "#2a3f5f"
            },
            "error_y": {
             "color": "#2a3f5f"
            },
            "marker": {
             "line": {
              "color": "#E5ECF6",
              "width": 0.5
             },
             "pattern": {
              "fillmode": "overlay",
              "size": 10,
              "solidity": 0.2
             }
            },
            "type": "bar"
           }
          ],
          "barpolar": [
           {
            "marker": {
             "line": {
              "color": "#E5ECF6",
              "width": 0.5
             },
             "pattern": {
              "fillmode": "overlay",
              "size": 10,
              "solidity": 0.2
             }
            },
            "type": "barpolar"
           }
          ],
          "carpet": [
           {
            "aaxis": {
             "endlinecolor": "#2a3f5f",
             "gridcolor": "white",
             "linecolor": "white",
             "minorgridcolor": "white",
             "startlinecolor": "#2a3f5f"
            },
            "baxis": {
             "endlinecolor": "#2a3f5f",
             "gridcolor": "white",
             "linecolor": "white",
             "minorgridcolor": "white",
             "startlinecolor": "#2a3f5f"
            },
            "type": "carpet"
           }
          ],
          "choropleth": [
           {
            "colorbar": {
             "outlinewidth": 0,
             "ticks": ""
            },
            "type": "choropleth"
           }
          ],
          "contour": [
           {
            "colorbar": {
             "outlinewidth": 0,
             "ticks": ""
            },
            "colorscale": [
             [
              0,
              "#0d0887"
             ],
             [
              0.1111111111111111,
              "#46039f"
             ],
             [
              0.2222222222222222,
              "#7201a8"
             ],
             [
              0.3333333333333333,
              "#9c179e"
             ],
             [
              0.4444444444444444,
              "#bd3786"
             ],
             [
              0.5555555555555556,
              "#d8576b"
             ],
             [
              0.6666666666666666,
              "#ed7953"
             ],
             [
              0.7777777777777778,
              "#fb9f3a"
             ],
             [
              0.8888888888888888,
              "#fdca26"
             ],
             [
              1,
              "#f0f921"
             ]
            ],
            "type": "contour"
           }
          ],
          "contourcarpet": [
           {
            "colorbar": {
             "outlinewidth": 0,
             "ticks": ""
            },
            "type": "contourcarpet"
           }
          ],
          "heatmap": [
           {
            "colorbar": {
             "outlinewidth": 0,
             "ticks": ""
            },
            "colorscale": [
             [
              0,
              "#0d0887"
             ],
             [
              0.1111111111111111,
              "#46039f"
             ],
             [
              0.2222222222222222,
              "#7201a8"
             ],
             [
              0.3333333333333333,
              "#9c179e"
             ],
             [
              0.4444444444444444,
              "#bd3786"
             ],
             [
              0.5555555555555556,
              "#d8576b"
             ],
             [
              0.6666666666666666,
              "#ed7953"
             ],
             [
              0.7777777777777778,
              "#fb9f3a"
             ],
             [
              0.8888888888888888,
              "#fdca26"
             ],
             [
              1,
              "#f0f921"
             ]
            ],
            "type": "heatmap"
           }
          ],
          "heatmapgl": [
           {
            "colorbar": {
             "outlinewidth": 0,
             "ticks": ""
            },
            "colorscale": [
             [
              0,
              "#0d0887"
             ],
             [
              0.1111111111111111,
              "#46039f"
             ],
             [
              0.2222222222222222,
              "#7201a8"
             ],
             [
              0.3333333333333333,
              "#9c179e"
             ],
             [
              0.4444444444444444,
              "#bd3786"
             ],
             [
              0.5555555555555556,
              "#d8576b"
             ],
             [
              0.6666666666666666,
              "#ed7953"
             ],
             [
              0.7777777777777778,
              "#fb9f3a"
             ],
             [
              0.8888888888888888,
              "#fdca26"
             ],
             [
              1,
              "#f0f921"
             ]
            ],
            "type": "heatmapgl"
           }
          ],
          "histogram": [
           {
            "marker": {
             "pattern": {
              "fillmode": "overlay",
              "size": 10,
              "solidity": 0.2
             }
            },
            "type": "histogram"
           }
          ],
          "histogram2d": [
           {
            "colorbar": {
             "outlinewidth": 0,
             "ticks": ""
            },
            "colorscale": [
             [
              0,
              "#0d0887"
             ],
             [
              0.1111111111111111,
              "#46039f"
             ],
             [
              0.2222222222222222,
              "#7201a8"
             ],
             [
              0.3333333333333333,
              "#9c179e"
             ],
             [
              0.4444444444444444,
              "#bd3786"
             ],
             [
              0.5555555555555556,
              "#d8576b"
             ],
             [
              0.6666666666666666,
              "#ed7953"
             ],
             [
              0.7777777777777778,
              "#fb9f3a"
             ],
             [
              0.8888888888888888,
              "#fdca26"
             ],
             [
              1,
              "#f0f921"
             ]
            ],
            "type": "histogram2d"
           }
          ],
          "histogram2dcontour": [
           {
            "colorbar": {
             "outlinewidth": 0,
             "ticks": ""
            },
            "colorscale": [
             [
              0,
              "#0d0887"
             ],
             [
              0.1111111111111111,
              "#46039f"
             ],
             [
              0.2222222222222222,
              "#7201a8"
             ],
             [
              0.3333333333333333,
              "#9c179e"
             ],
             [
              0.4444444444444444,
              "#bd3786"
             ],
             [
              0.5555555555555556,
              "#d8576b"
             ],
             [
              0.6666666666666666,
              "#ed7953"
             ],
             [
              0.7777777777777778,
              "#fb9f3a"
             ],
             [
              0.8888888888888888,
              "#fdca26"
             ],
             [
              1,
              "#f0f921"
             ]
            ],
            "type": "histogram2dcontour"
           }
          ],
          "mesh3d": [
           {
            "colorbar": {
             "outlinewidth": 0,
             "ticks": ""
            },
            "type": "mesh3d"
           }
          ],
          "parcoords": [
           {
            "line": {
             "colorbar": {
              "outlinewidth": 0,
              "ticks": ""
             }
            },
            "type": "parcoords"
           }
          ],
          "pie": [
           {
            "automargin": true,
            "type": "pie"
           }
          ],
          "scatter": [
           {
            "marker": {
             "colorbar": {
              "outlinewidth": 0,
              "ticks": ""
             }
            },
            "type": "scatter"
           }
          ],
          "scatter3d": [
           {
            "line": {
             "colorbar": {
              "outlinewidth": 0,
              "ticks": ""
             }
            },
            "marker": {
             "colorbar": {
              "outlinewidth": 0,
              "ticks": ""
             }
            },
            "type": "scatter3d"
           }
          ],
          "scattercarpet": [
           {
            "marker": {
             "colorbar": {
              "outlinewidth": 0,
              "ticks": ""
             }
            },
            "type": "scattercarpet"
           }
          ],
          "scattergeo": [
           {
            "marker": {
             "colorbar": {
              "outlinewidth": 0,
              "ticks": ""
             }
            },
            "type": "scattergeo"
           }
          ],
          "scattergl": [
           {
            "marker": {
             "colorbar": {
              "outlinewidth": 0,
              "ticks": ""
             }
            },
            "type": "scattergl"
           }
          ],
          "scattermapbox": [
           {
            "marker": {
             "colorbar": {
              "outlinewidth": 0,
              "ticks": ""
             }
            },
            "type": "scattermapbox"
           }
          ],
          "scatterpolar": [
           {
            "marker": {
             "colorbar": {
              "outlinewidth": 0,
              "ticks": ""
             }
            },
            "type": "scatterpolar"
           }
          ],
          "scatterpolargl": [
           {
            "marker": {
             "colorbar": {
              "outlinewidth": 0,
              "ticks": ""
             }
            },
            "type": "scatterpolargl"
           }
          ],
          "scatterternary": [
           {
            "marker": {
             "colorbar": {
              "outlinewidth": 0,
              "ticks": ""
             }
            },
            "type": "scatterternary"
           }
          ],
          "surface": [
           {
            "colorbar": {
             "outlinewidth": 0,
             "ticks": ""
            },
            "colorscale": [
             [
              0,
              "#0d0887"
             ],
             [
              0.1111111111111111,
              "#46039f"
             ],
             [
              0.2222222222222222,
              "#7201a8"
             ],
             [
              0.3333333333333333,
              "#9c179e"
             ],
             [
              0.4444444444444444,
              "#bd3786"
             ],
             [
              0.5555555555555556,
              "#d8576b"
             ],
             [
              0.6666666666666666,
              "#ed7953"
             ],
             [
              0.7777777777777778,
              "#fb9f3a"
             ],
             [
              0.8888888888888888,
              "#fdca26"
             ],
             [
              1,
              "#f0f921"
             ]
            ],
            "type": "surface"
           }
          ],
          "table": [
           {
            "cells": {
             "fill": {
              "color": "#EBF0F8"
             },
             "line": {
              "color": "white"
             }
            },
            "header": {
             "fill": {
              "color": "#C8D4E3"
             },
             "line": {
              "color": "white"
             }
            },
            "type": "table"
           }
          ]
         },
         "layout": {
          "annotationdefaults": {
           "arrowcolor": "#2a3f5f",
           "arrowhead": 0,
           "arrowwidth": 1
          },
          "autotypenumbers": "strict",
          "coloraxis": {
           "colorbar": {
            "outlinewidth": 0,
            "ticks": ""
           }
          },
          "colorscale": {
           "diverging": [
            [
             0,
             "#8e0152"
            ],
            [
             0.1,
             "#c51b7d"
            ],
            [
             0.2,
             "#de77ae"
            ],
            [
             0.3,
             "#f1b6da"
            ],
            [
             0.4,
             "#fde0ef"
            ],
            [
             0.5,
             "#f7f7f7"
            ],
            [
             0.6,
             "#e6f5d0"
            ],
            [
             0.7,
             "#b8e186"
            ],
            [
             0.8,
             "#7fbc41"
            ],
            [
             0.9,
             "#4d9221"
            ],
            [
             1,
             "#276419"
            ]
           ],
           "sequential": [
            [
             0,
             "#0d0887"
            ],
            [
             0.1111111111111111,
             "#46039f"
            ],
            [
             0.2222222222222222,
             "#7201a8"
            ],
            [
             0.3333333333333333,
             "#9c179e"
            ],
            [
             0.4444444444444444,
             "#bd3786"
            ],
            [
             0.5555555555555556,
             "#d8576b"
            ],
            [
             0.6666666666666666,
             "#ed7953"
            ],
            [
             0.7777777777777778,
             "#fb9f3a"
            ],
            [
             0.8888888888888888,
             "#fdca26"
            ],
            [
             1,
             "#f0f921"
            ]
           ],
           "sequentialminus": [
            [
             0,
             "#0d0887"
            ],
            [
             0.1111111111111111,
             "#46039f"
            ],
            [
             0.2222222222222222,
             "#7201a8"
            ],
            [
             0.3333333333333333,
             "#9c179e"
            ],
            [
             0.4444444444444444,
             "#bd3786"
            ],
            [
             0.5555555555555556,
             "#d8576b"
            ],
            [
             0.6666666666666666,
             "#ed7953"
            ],
            [
             0.7777777777777778,
             "#fb9f3a"
            ],
            [
             0.8888888888888888,
             "#fdca26"
            ],
            [
             1,
             "#f0f921"
            ]
           ]
          },
          "colorway": [
           "#636efa",
           "#EF553B",
           "#00cc96",
           "#ab63fa",
           "#FFA15A",
           "#19d3f3",
           "#FF6692",
           "#B6E880",
           "#FF97FF",
           "#FECB52"
          ],
          "font": {
           "color": "#2a3f5f"
          },
          "geo": {
           "bgcolor": "white",
           "lakecolor": "white",
           "landcolor": "#E5ECF6",
           "showlakes": true,
           "showland": true,
           "subunitcolor": "white"
          },
          "hoverlabel": {
           "align": "left"
          },
          "hovermode": "closest",
          "mapbox": {
           "style": "light"
          },
          "paper_bgcolor": "white",
          "plot_bgcolor": "#E5ECF6",
          "polar": {
           "angularaxis": {
            "gridcolor": "white",
            "linecolor": "white",
            "ticks": ""
           },
           "bgcolor": "#E5ECF6",
           "radialaxis": {
            "gridcolor": "white",
            "linecolor": "white",
            "ticks": ""
           }
          },
          "scene": {
           "xaxis": {
            "backgroundcolor": "#E5ECF6",
            "gridcolor": "white",
            "gridwidth": 2,
            "linecolor": "white",
            "showbackground": true,
            "ticks": "",
            "zerolinecolor": "white"
           },
           "yaxis": {
            "backgroundcolor": "#E5ECF6",
            "gridcolor": "white",
            "gridwidth": 2,
            "linecolor": "white",
            "showbackground": true,
            "ticks": "",
            "zerolinecolor": "white"
           },
           "zaxis": {
            "backgroundcolor": "#E5ECF6",
            "gridcolor": "white",
            "gridwidth": 2,
            "linecolor": "white",
            "showbackground": true,
            "ticks": "",
            "zerolinecolor": "white"
           }
          },
          "shapedefaults": {
           "line": {
            "color": "#2a3f5f"
           }
          },
          "ternary": {
           "aaxis": {
            "gridcolor": "white",
            "linecolor": "white",
            "ticks": ""
           },
           "baxis": {
            "gridcolor": "white",
            "linecolor": "white",
            "ticks": ""
           },
           "bgcolor": "#E5ECF6",
           "caxis": {
            "gridcolor": "white",
            "linecolor": "white",
            "ticks": ""
           }
          },
          "title": {
           "x": 0.05
          },
          "xaxis": {
           "automargin": true,
           "gridcolor": "white",
           "linecolor": "white",
           "ticks": "",
           "title": {
            "standoff": 15
           },
           "zerolinecolor": "white",
           "zerolinewidth": 2
          },
          "yaxis": {
           "automargin": true,
           "gridcolor": "white",
           "linecolor": "white",
           "ticks": "",
           "title": {
            "standoff": 15
           },
           "zerolinecolor": "white",
           "zerolinewidth": 2
          }
         }
        },
        "title": {
         "text": "Preço X Estoque"
        },
        "width": 500,
        "xaxis": {
         "anchor": "y",
         "domain": [
          0,
          1
         ],
         "title": {
          "text": "Preço do produto"
         }
        },
        "yaxis": {
         "anchor": "x",
         "domain": [
          0,
          1
         ],
         "title": {
          "text": "Quantidade em estoque"
         }
        }
       }
      },
      "text/html": [
       "<div>                            <div id=\"50b9962a-938a-4979-9c31-a9a554b40ec4\" class=\"plotly-graph-div\" style=\"height:500px; width:500px;\"></div>            <script type=\"text/javascript\">                require([\"plotly\"], function(Plotly) {                    window.PLOTLYENV=window.PLOTLYENV || {};                                    if (document.getElementById(\"50b9962a-938a-4979-9c31-a9a554b40ec4\")) {                    Plotly.newPlot(                        \"50b9962a-938a-4979-9c31-a9a554b40ec4\",                        [{\"hovertemplate\":\"Pre\\u00e7o=%{x}<br>Estoque=%{y}<extra></extra>\",\"legendgroup\":\"\",\"marker\":{\"color\":\"#636efa\",\"line\":{\"width\":2},\"size\":8,\"symbol\":\"circle\"},\"mode\":\"markers\",\"name\":\"\",\"orientation\":\"v\",\"showlegend\":false,\"type\":\"scatter\",\"x\":[7.99,15.99,5.99,7.47,3.99,11.99,3.49,0.98,5.48,8.45,4.31,2.48,31.99,42.99,22.79,172.0,20.99,23.99,70.89,16.49,35.0,6.99,23.99,10.99,4.99,12.99,3.49,45.0,6.7,11.98,2.7,1.99,23.99,5.99,9.69,1.29],\"xaxis\":\"x\",\"y\":[50,20,40,36,47,12,19,25,20,43,80,38,7,9,5,5,10,9,6,10,7,15,1,3,9,15,20,7,12,8,40,32,6,10,13,58],\"yaxis\":\"y\"}],                        {\"height\":500,\"legend\":{\"tracegroupgap\":0},\"margin\":{\"t\":60},\"template\":{\"data\":{\"bar\":[{\"error_x\":{\"color\":\"#2a3f5f\"},\"error_y\":{\"color\":\"#2a3f5f\"},\"marker\":{\"line\":{\"color\":\"#E5ECF6\",\"width\":0.5},\"pattern\":{\"fillmode\":\"overlay\",\"size\":10,\"solidity\":0.2}},\"type\":\"bar\"}],\"barpolar\":[{\"marker\":{\"line\":{\"color\":\"#E5ECF6\",\"width\":0.5},\"pattern\":{\"fillmode\":\"overlay\",\"size\":10,\"solidity\":0.2}},\"type\":\"barpolar\"}],\"carpet\":[{\"aaxis\":{\"endlinecolor\":\"#2a3f5f\",\"gridcolor\":\"white\",\"linecolor\":\"white\",\"minorgridcolor\":\"white\",\"startlinecolor\":\"#2a3f5f\"},\"baxis\":{\"endlinecolor\":\"#2a3f5f\",\"gridcolor\":\"white\",\"linecolor\":\"white\",\"minorgridcolor\":\"white\",\"startlinecolor\":\"#2a3f5f\"},\"type\":\"carpet\"}],\"choropleth\":[{\"colorbar\":{\"outlinewidth\":0,\"ticks\":\"\"},\"type\":\"choropleth\"}],\"contour\":[{\"colorbar\":{\"outlinewidth\":0,\"ticks\":\"\"},\"colorscale\":[[0.0,\"#0d0887\"],[0.1111111111111111,\"#46039f\"],[0.2222222222222222,\"#7201a8\"],[0.3333333333333333,\"#9c179e\"],[0.4444444444444444,\"#bd3786\"],[0.5555555555555556,\"#d8576b\"],[0.6666666666666666,\"#ed7953\"],[0.7777777777777778,\"#fb9f3a\"],[0.8888888888888888,\"#fdca26\"],[1.0,\"#f0f921\"]],\"type\":\"contour\"}],\"contourcarpet\":[{\"colorbar\":{\"outlinewidth\":0,\"ticks\":\"\"},\"type\":\"contourcarpet\"}],\"heatmap\":[{\"colorbar\":{\"outlinewidth\":0,\"ticks\":\"\"},\"colorscale\":[[0.0,\"#0d0887\"],[0.1111111111111111,\"#46039f\"],[0.2222222222222222,\"#7201a8\"],[0.3333333333333333,\"#9c179e\"],[0.4444444444444444,\"#bd3786\"],[0.5555555555555556,\"#d8576b\"],[0.6666666666666666,\"#ed7953\"],[0.7777777777777778,\"#fb9f3a\"],[0.8888888888888888,\"#fdca26\"],[1.0,\"#f0f921\"]],\"type\":\"heatmap\"}],\"heatmapgl\":[{\"colorbar\":{\"outlinewidth\":0,\"ticks\":\"\"},\"colorscale\":[[0.0,\"#0d0887\"],[0.1111111111111111,\"#46039f\"],[0.2222222222222222,\"#7201a8\"],[0.3333333333333333,\"#9c179e\"],[0.4444444444444444,\"#bd3786\"],[0.5555555555555556,\"#d8576b\"],[0.6666666666666666,\"#ed7953\"],[0.7777777777777778,\"#fb9f3a\"],[0.8888888888888888,\"#fdca26\"],[1.0,\"#f0f921\"]],\"type\":\"heatmapgl\"}],\"histogram\":[{\"marker\":{\"pattern\":{\"fillmode\":\"overlay\",\"size\":10,\"solidity\":0.2}},\"type\":\"histogram\"}],\"histogram2d\":[{\"colorbar\":{\"outlinewidth\":0,\"ticks\":\"\"},\"colorscale\":[[0.0,\"#0d0887\"],[0.1111111111111111,\"#46039f\"],[0.2222222222222222,\"#7201a8\"],[0.3333333333333333,\"#9c179e\"],[0.4444444444444444,\"#bd3786\"],[0.5555555555555556,\"#d8576b\"],[0.6666666666666666,\"#ed7953\"],[0.7777777777777778,\"#fb9f3a\"],[0.8888888888888888,\"#fdca26\"],[1.0,\"#f0f921\"]],\"type\":\"histogram2d\"}],\"histogram2dcontour\":[{\"colorbar\":{\"outlinewidth\":0,\"ticks\":\"\"},\"colorscale\":[[0.0,\"#0d0887\"],[0.1111111111111111,\"#46039f\"],[0.2222222222222222,\"#7201a8\"],[0.3333333333333333,\"#9c179e\"],[0.4444444444444444,\"#bd3786\"],[0.5555555555555556,\"#d8576b\"],[0.6666666666666666,\"#ed7953\"],[0.7777777777777778,\"#fb9f3a\"],[0.8888888888888888,\"#fdca26\"],[1.0,\"#f0f921\"]],\"type\":\"histogram2dcontour\"}],\"mesh3d\":[{\"colorbar\":{\"outlinewidth\":0,\"ticks\":\"\"},\"type\":\"mesh3d\"}],\"parcoords\":[{\"line\":{\"colorbar\":{\"outlinewidth\":0,\"ticks\":\"\"}},\"type\":\"parcoords\"}],\"pie\":[{\"automargin\":true,\"type\":\"pie\"}],\"scatter\":[{\"marker\":{\"colorbar\":{\"outlinewidth\":0,\"ticks\":\"\"}},\"type\":\"scatter\"}],\"scatter3d\":[{\"line\":{\"colorbar\":{\"outlinewidth\":0,\"ticks\":\"\"}},\"marker\":{\"colorbar\":{\"outlinewidth\":0,\"ticks\":\"\"}},\"type\":\"scatter3d\"}],\"scattercarpet\":[{\"marker\":{\"colorbar\":{\"outlinewidth\":0,\"ticks\":\"\"}},\"type\":\"scattercarpet\"}],\"scattergeo\":[{\"marker\":{\"colorbar\":{\"outlinewidth\":0,\"ticks\":\"\"}},\"type\":\"scattergeo\"}],\"scattergl\":[{\"marker\":{\"colorbar\":{\"outlinewidth\":0,\"ticks\":\"\"}},\"type\":\"scattergl\"}],\"scattermapbox\":[{\"marker\":{\"colorbar\":{\"outlinewidth\":0,\"ticks\":\"\"}},\"type\":\"scattermapbox\"}],\"scatterpolar\":[{\"marker\":{\"colorbar\":{\"outlinewidth\":0,\"ticks\":\"\"}},\"type\":\"scatterpolar\"}],\"scatterpolargl\":[{\"marker\":{\"colorbar\":{\"outlinewidth\":0,\"ticks\":\"\"}},\"type\":\"scatterpolargl\"}],\"scatterternary\":[{\"marker\":{\"colorbar\":{\"outlinewidth\":0,\"ticks\":\"\"}},\"type\":\"scatterternary\"}],\"surface\":[{\"colorbar\":{\"outlinewidth\":0,\"ticks\":\"\"},\"colorscale\":[[0.0,\"#0d0887\"],[0.1111111111111111,\"#46039f\"],[0.2222222222222222,\"#7201a8\"],[0.3333333333333333,\"#9c179e\"],[0.4444444444444444,\"#bd3786\"],[0.5555555555555556,\"#d8576b\"],[0.6666666666666666,\"#ed7953\"],[0.7777777777777778,\"#fb9f3a\"],[0.8888888888888888,\"#fdca26\"],[1.0,\"#f0f921\"]],\"type\":\"surface\"}],\"table\":[{\"cells\":{\"fill\":{\"color\":\"#EBF0F8\"},\"line\":{\"color\":\"white\"}},\"header\":{\"fill\":{\"color\":\"#C8D4E3\"},\"line\":{\"color\":\"white\"}},\"type\":\"table\"}]},\"layout\":{\"annotationdefaults\":{\"arrowcolor\":\"#2a3f5f\",\"arrowhead\":0,\"arrowwidth\":1},\"autotypenumbers\":\"strict\",\"coloraxis\":{\"colorbar\":{\"outlinewidth\":0,\"ticks\":\"\"}},\"colorscale\":{\"diverging\":[[0,\"#8e0152\"],[0.1,\"#c51b7d\"],[0.2,\"#de77ae\"],[0.3,\"#f1b6da\"],[0.4,\"#fde0ef\"],[0.5,\"#f7f7f7\"],[0.6,\"#e6f5d0\"],[0.7,\"#b8e186\"],[0.8,\"#7fbc41\"],[0.9,\"#4d9221\"],[1,\"#276419\"]],\"sequential\":[[0.0,\"#0d0887\"],[0.1111111111111111,\"#46039f\"],[0.2222222222222222,\"#7201a8\"],[0.3333333333333333,\"#9c179e\"],[0.4444444444444444,\"#bd3786\"],[0.5555555555555556,\"#d8576b\"],[0.6666666666666666,\"#ed7953\"],[0.7777777777777778,\"#fb9f3a\"],[0.8888888888888888,\"#fdca26\"],[1.0,\"#f0f921\"]],\"sequentialminus\":[[0.0,\"#0d0887\"],[0.1111111111111111,\"#46039f\"],[0.2222222222222222,\"#7201a8\"],[0.3333333333333333,\"#9c179e\"],[0.4444444444444444,\"#bd3786\"],[0.5555555555555556,\"#d8576b\"],[0.6666666666666666,\"#ed7953\"],[0.7777777777777778,\"#fb9f3a\"],[0.8888888888888888,\"#fdca26\"],[1.0,\"#f0f921\"]]},\"colorway\":[\"#636efa\",\"#EF553B\",\"#00cc96\",\"#ab63fa\",\"#FFA15A\",\"#19d3f3\",\"#FF6692\",\"#B6E880\",\"#FF97FF\",\"#FECB52\"],\"font\":{\"color\":\"#2a3f5f\"},\"geo\":{\"bgcolor\":\"white\",\"lakecolor\":\"white\",\"landcolor\":\"#E5ECF6\",\"showlakes\":true,\"showland\":true,\"subunitcolor\":\"white\"},\"hoverlabel\":{\"align\":\"left\"},\"hovermode\":\"closest\",\"mapbox\":{\"style\":\"light\"},\"paper_bgcolor\":\"white\",\"plot_bgcolor\":\"#E5ECF6\",\"polar\":{\"angularaxis\":{\"gridcolor\":\"white\",\"linecolor\":\"white\",\"ticks\":\"\"},\"bgcolor\":\"#E5ECF6\",\"radialaxis\":{\"gridcolor\":\"white\",\"linecolor\":\"white\",\"ticks\":\"\"}},\"scene\":{\"xaxis\":{\"backgroundcolor\":\"#E5ECF6\",\"gridcolor\":\"white\",\"gridwidth\":2,\"linecolor\":\"white\",\"showbackground\":true,\"ticks\":\"\",\"zerolinecolor\":\"white\"},\"yaxis\":{\"backgroundcolor\":\"#E5ECF6\",\"gridcolor\":\"white\",\"gridwidth\":2,\"linecolor\":\"white\",\"showbackground\":true,\"ticks\":\"\",\"zerolinecolor\":\"white\"},\"zaxis\":{\"backgroundcolor\":\"#E5ECF6\",\"gridcolor\":\"white\",\"gridwidth\":2,\"linecolor\":\"white\",\"showbackground\":true,\"ticks\":\"\",\"zerolinecolor\":\"white\"}},\"shapedefaults\":{\"line\":{\"color\":\"#2a3f5f\"}},\"ternary\":{\"aaxis\":{\"gridcolor\":\"white\",\"linecolor\":\"white\",\"ticks\":\"\"},\"baxis\":{\"gridcolor\":\"white\",\"linecolor\":\"white\",\"ticks\":\"\"},\"bgcolor\":\"#E5ECF6\",\"caxis\":{\"gridcolor\":\"white\",\"linecolor\":\"white\",\"ticks\":\"\"}},\"title\":{\"x\":0.05},\"xaxis\":{\"automargin\":true,\"gridcolor\":\"white\",\"linecolor\":\"white\",\"ticks\":\"\",\"title\":{\"standoff\":15},\"zerolinecolor\":\"white\",\"zerolinewidth\":2},\"yaxis\":{\"automargin\":true,\"gridcolor\":\"white\",\"linecolor\":\"white\",\"ticks\":\"\",\"title\":{\"standoff\":15},\"zerolinecolor\":\"white\",\"zerolinewidth\":2}}},\"title\":{\"text\":\"Pre\\u00e7o X Estoque\"},\"width\":500,\"xaxis\":{\"anchor\":\"y\",\"domain\":[0.0,1.0],\"title\":{\"text\":\"Pre\\u00e7o do produto\"}},\"yaxis\":{\"anchor\":\"x\",\"domain\":[0.0,1.0],\"title\":{\"text\":\"Quantidade em estoque\"}}},                        {\"responsive\": true}                    ).then(function(){\n",
       "                            \n",
       "var gd = document.getElementById('50b9962a-938a-4979-9c31-a9a554b40ec4');\n",
       "var x = new MutationObserver(function (mutations, observer) {{\n",
       "        var display = window.getComputedStyle(gd).display;\n",
       "        if (!display || display === 'none') {{\n",
       "            console.log([gd, 'removed!']);\n",
       "            Plotly.purge(gd);\n",
       "            observer.disconnect();\n",
       "        }}\n",
       "}});\n",
       "\n",
       "// Listen for the removal of the full notebook cells\n",
       "var notebookContainer = gd.closest('#notebook-container');\n",
       "if (notebookContainer) {{\n",
       "    x.observe(notebookContainer, {childList: true});\n",
       "}}\n",
       "\n",
       "// Listen for the clearing of the current output cell\n",
       "var outputEl = gd.closest('.output');\n",
       "if (outputEl) {{\n",
       "    x.observe(outputEl, {childList: true});\n",
       "}}\n",
       "\n",
       "                        })                };                });            </script>        </div>"
      ]
     },
     "metadata": {},
     "output_type": "display_data"
    }
   ],
   "source": [
    "#pltagem de um gráfico de disperção relacionado preço e estoque\n",
    "fig_preco_estoque=px.scatter(produtos, x = \"preco\", y = \"estoque\", labels={\"preco\": \"Preço\", \"estoque\": \"Estoque\" }, height=500, width=500,)\n",
    "fig_preco_estoque.update_traces(marker=dict(size = 8,line = dict(width = 2)),selector=dict(mode = 'markers'))\n",
    "fig_preco_estoque.update_layout(title = 'Preço X Estoque')\n",
    "fig_preco_estoque.update_xaxes(title = 'Preço do produto')\n",
    "fig_preco_estoque.update_yaxes(title = 'Quantidade em estoque')\n",
    "fig_preco_estoque.show()"
   ]
  },
  {
   "cell_type": "code",
   "execution_count": 306,
   "id": "cbc359fe",
   "metadata": {},
   "outputs": [
    {
     "name": "stdout",
     "output_type": "stream",
     "text": [
      "Correlação dos dados (preço e estoque): -0.37864973583430267\n"
     ]
    }
   ],
   "source": [
    "# Calculando a correlação dos dados\n",
    "Correlação= produtos['preco'].corr(produtos['estoque'])\n",
    "print(f\"Correlação dos dados (preço e estoque):\", Correlação)"
   ]
  },
  {
   "cell_type": "markdown",
   "id": "ec5bdcd7",
   "metadata": {},
   "source": [
    "## Cliente mais ativo"
   ]
  },
  {
   "cell_type": "code",
   "execution_count": 307,
   "id": "da5b4787",
   "metadata": {},
   "outputs": [],
   "source": [
    "#criando uma tabela para analisar a quantidade de produtos comprados por id_cliente\n",
    "quantidade_comprada = venda_produtos_cliente[[\"id_clientes\", \"quantidade\"]].groupby(['id_clientes']).sum().sort_values('quantidade', ascending=False).reset_index().head(10)\n",
    "\n",
    "#renomenado a coluna quantidade para quantidade_total na tabela de quantidade_comprada\n",
    "quantidade_comprada.rename(columns={\"quantidade\": \"quantidade_total\"}, inplace = 1)\n",
    "\n",
    "#realizando a união das tabelas venda_produtos_cliente e quantidade_comprada em id_cliente\n",
    "venda_produtos_cliente_qt = pd.merge(venda_produtos_cliente, quantidade_comprada, on = 'id_clientes', how='right') \n",
    "\n",
    "#lista_id_cliente_maiores_quantidades = quantidade_comprada['id_cliente'].tolist()\n",
    "#clientes.iloc[lista_id_cliente_maiores_quantidades]"
   ]
  },
  {
   "cell_type": "code",
   "execution_count": 308,
   "id": "ff7d5af4",
   "metadata": {},
   "outputs": [],
   "source": [
    "#plotagem de um gráfica de barras\n",
    "#fig = px.bar(venda_produtos_cliente_qt, x=\"nome_cliente\", y=\"quantidade\", color=\"nome\", barmode = 'stack',\n",
    " #            labels={\"quantidade\": \"Quantidade de vendas\", \"nome_cliente\": \"Nome do cliente\", \"nome\":\"Produto\" }, height=700, width=700)\n",
    " \n",
    "#fig.show()"
   ]
  },
  {
   "cell_type": "code",
   "execution_count": 309,
   "id": "ba1bc3fc",
   "metadata": {},
   "outputs": [],
   "source": [
    "venda_produtos_cliente[\"total_preco\"]=venda_produtos_cliente[\"quantidade\"]*venda_produtos_cliente[\"preco\"]\n",
    "quantidade_comprada_preco = venda_produtos_cliente[[\"id_clientes\", \"total_preco\"]].groupby(['id_clientes']).sum().sort_values('total_preco', ascending=False).reset_index().head(10)\n",
    "quantidade_comprada_preco.rename(columns={\"total_preco\": \"total_mes\"}, inplace = 1)\n",
    "venda_produtos_cliente_pt=pd.merge(venda_produtos_cliente, quantidade_comprada_preco, on = 'id_clientes', how='right') "
   ]
  },
  {
   "cell_type": "code",
   "execution_count": 310,
   "id": "099d2aaf",
   "metadata": {},
   "outputs": [
    {
     "data": {
      "text/html": [
       "<div>\n",
       "<style scoped>\n",
       "    .dataframe tbody tr th:only-of-type {\n",
       "        vertical-align: middle;\n",
       "    }\n",
       "\n",
       "    .dataframe tbody tr th {\n",
       "        vertical-align: top;\n",
       "    }\n",
       "\n",
       "    .dataframe thead th {\n",
       "        text-align: right;\n",
       "    }\n",
       "</style>\n",
       "<table border=\"1\" class=\"dataframe\">\n",
       "  <thead>\n",
       "    <tr style=\"text-align: right;\">\n",
       "      <th></th>\n",
       "      <th>id_clientes</th>\n",
       "      <th>total_mes</th>\n",
       "    </tr>\n",
       "  </thead>\n",
       "  <tbody>\n",
       "    <tr>\n",
       "      <th>0</th>\n",
       "      <td>157</td>\n",
       "      <td>1998.78</td>\n",
       "    </tr>\n",
       "    <tr>\n",
       "      <th>1</th>\n",
       "      <td>59</td>\n",
       "      <td>1987.59</td>\n",
       "    </tr>\n",
       "    <tr>\n",
       "      <th>2</th>\n",
       "      <td>196</td>\n",
       "      <td>1984.26</td>\n",
       "    </tr>\n",
       "    <tr>\n",
       "      <th>3</th>\n",
       "      <td>20</td>\n",
       "      <td>1946.16</td>\n",
       "    </tr>\n",
       "    <tr>\n",
       "      <th>4</th>\n",
       "      <td>183</td>\n",
       "      <td>1824.29</td>\n",
       "    </tr>\n",
       "    <tr>\n",
       "      <th>5</th>\n",
       "      <td>163</td>\n",
       "      <td>1809.72</td>\n",
       "    </tr>\n",
       "    <tr>\n",
       "      <th>6</th>\n",
       "      <td>113</td>\n",
       "      <td>1783.92</td>\n",
       "    </tr>\n",
       "    <tr>\n",
       "      <th>7</th>\n",
       "      <td>152</td>\n",
       "      <td>1704.01</td>\n",
       "    </tr>\n",
       "    <tr>\n",
       "      <th>8</th>\n",
       "      <td>138</td>\n",
       "      <td>1700.15</td>\n",
       "    </tr>\n",
       "    <tr>\n",
       "      <th>9</th>\n",
       "      <td>75</td>\n",
       "      <td>1699.71</td>\n",
       "    </tr>\n",
       "  </tbody>\n",
       "</table>\n",
       "</div>"
      ],
      "text/plain": [
       "   id_clientes  total_mes\n",
       "0          157    1998.78\n",
       "1           59    1987.59\n",
       "2          196    1984.26\n",
       "3           20    1946.16\n",
       "4          183    1824.29\n",
       "5          163    1809.72\n",
       "6          113    1783.92\n",
       "7          152    1704.01\n",
       "8          138    1700.15\n",
       "9           75    1699.71"
      ]
     },
     "execution_count": 310,
     "metadata": {},
     "output_type": "execute_result"
    }
   ],
   "source": [
    "quantidade_comprada_preco"
   ]
  },
  {
   "cell_type": "code",
   "execution_count": 367,
   "id": "2452f2a3",
   "metadata": {},
   "outputs": [
    {
     "data": {
      "application/vnd.plotly.v1+json": {
       "config": {
        "plotlyServerURL": "https://plot.ly"
       },
       "data": [
        {
         "alignmentgroup": "True",
         "customdata": [
          [
           "detergente",
           "2021-11-04",
           2.7
          ],
          [
           "detergente",
           "2021-11-04",
           2.7
          ],
          [
           "água sanitária",
           "2021-11-04",
           11.98
          ],
          [
           "água sanitária",
           "2021-11-04",
           11.98
          ],
          [
           "flanela",
           "2021-11-04",
           1.99
          ],
          [
           "rodo",
           "2021-11-01",
           5.99
          ],
          [
           "amaciante",
           "2021-11-08",
           6.7
          ],
          [
           "odorizador",
           "2021-11-08",
           23.99
          ],
          [
           "odorizador",
           "2021-11-01",
           23.99
          ],
          [
           "rodo",
           "2021-11-01",
           5.99
          ],
          [
           "sabonete",
           "2021-11-01",
           1.29
          ],
          [
           "água sanitária",
           "2021-11-10",
           11.98
          ],
          [
           "flanela",
           "2021-11-10",
           1.99
          ],
          [
           "flanela",
           "2021-11-10",
           1.99
          ],
          [
           "sabão em pó",
           "2021-11-13",
           9.69
          ],
          [
           "odorizador",
           "2021-11-13",
           23.99
          ],
          [
           "rodo",
           "2021-11-13",
           5.99
          ],
          [
           "flanela",
           "2021-11-13",
           1.99
          ],
          [
           "detergente",
           "2021-11-04",
           2.7
          ],
          [
           "rodo",
           "2021-11-04",
           5.99
          ],
          [
           "flanela",
           "2021-11-03",
           1.99
          ],
          [
           "detergente",
           "2021-11-23",
           2.7
          ],
          [
           "odorizador",
           "2021-11-10",
           23.99
          ],
          [
           "água sanitária",
           "2021-11-10",
           11.98
          ],
          [
           "flanela",
           "2021-11-10",
           1.99
          ],
          [
           "flanela",
           "2021-11-06",
           1.99
          ],
          [
           "odorizador",
           "2021-11-21",
           23.99
          ],
          [
           "odorizador",
           "2021-11-09",
           23.99
          ],
          [
           "sabonete",
           "2021-11-09",
           1.29
          ],
          [
           "flanela",
           "2021-11-09",
           1.99
          ],
          [
           "amaciante",
           "2021-11-08",
           6.7
          ],
          [
           "amaciante",
           "2021-11-08",
           6.7
          ],
          [
           "sabão em pó",
           "2021-11-08",
           9.69
          ],
          [
           "odorizador",
           "2021-11-08",
           23.99
          ],
          [
           "água sanitária",
           "2021-11-08",
           11.98
          ],
          [
           "odorizador",
           "2021-11-09",
           23.99
          ],
          [
           "rodo",
           "2021-11-30",
           5.99
          ],
          [
           "detergente",
           "2021-11-11",
           2.7
          ],
          [
           "amaciante",
           "2021-11-11",
           6.7
          ],
          [
           "amaciante",
           "2021-11-11",
           6.7
          ],
          [
           "sabão em pó",
           "2021-11-11",
           9.69
          ],
          [
           "sabão em pó",
           "2021-11-11",
           9.69
          ],
          [
           "sabonete",
           "2021-11-11",
           1.29
          ],
          [
           "rodo",
           "2021-11-13",
           5.99
          ],
          [
           "rodo",
           "2021-11-13",
           5.99
          ],
          [
           "flanela",
           "2021-11-13",
           1.99
          ],
          [
           "detergente",
           "2021-11-09",
           2.7
          ],
          [
           "amaciante",
           "2021-11-01",
           6.7
          ],
          [
           "sabão em pó",
           "2021-11-01",
           9.69
          ],
          [
           "rodo",
           "2021-11-09",
           5.99
          ],
          [
           "sabão em pó",
           "2021-11-07",
           9.69
          ],
          [
           "odorizador",
           "2021-11-07",
           23.99
          ],
          [
           "odorizador",
           "2021-11-07",
           23.99
          ],
          [
           "detergente",
           "2021-11-04",
           2.7
          ],
          [
           "odorizador",
           "2021-11-04",
           23.99
          ],
          [
           "rodo",
           "2021-11-04",
           5.99
          ],
          [
           "flanela",
           "2021-11-04",
           1.99
          ],
          [
           "detergente",
           "2021-11-12",
           2.7
          ],
          [
           "sabão em pó",
           "2021-11-12",
           9.69
          ],
          [
           "odorizador",
           "2021-11-12",
           23.99
          ],
          [
           "sabonete",
           "2021-11-12",
           1.29
          ],
          [
           "sabão em pó",
           "2021-11-12",
           9.69
          ],
          [
           "detergente",
           "2021-11-30",
           2.7
          ],
          [
           "amaciante",
           "2021-11-09",
           6.7
          ],
          [
           "flanela",
           "2021-11-09",
           1.99
          ],
          [
           "flanela",
           "2021-11-09",
           1.99
          ],
          [
           "água sanitária",
           "2021-11-02",
           11.98
          ],
          [
           "flanela",
           "2021-11-02",
           1.99
          ],
          [
           "amaciante",
           "2021-11-24",
           6.7
          ]
         ],
         "hovertemplate": "Seção=Produtos de Limpeza<br>Nome do cliente=%{x}<br>Total da compra do produto=%{y}<br>Produto=%{customdata[0]}<br>Data=%{customdata[1]}<br>Preço do produto=%{customdata[2]}<extra></extra>",
         "legendgroup": "Produtos de Limpeza",
         "marker": {
          "color": "#636efa",
          "pattern": {
           "shape": ""
          }
         },
         "name": "Produtos de Limpeza",
         "offsetgroup": "Produtos de Limpeza",
         "orientation": "v",
         "showlegend": true,
         "textposition": "auto",
         "type": "bar",
         "x": [
          "Melissa da Conceição",
          "Melissa da Conceição",
          "Melissa da Conceição",
          "Melissa da Conceição",
          "Melissa da Conceição",
          "Melissa da Conceição",
          "Melissa da Conceição",
          "Melissa da Conceição",
          "Isadora Rezende",
          "Isadora Rezende",
          "Isadora Rezende",
          "Isadora Rezende",
          "Isadora Rezende",
          "Isadora Rezende",
          "Isadora Rezende",
          "Isadora Rezende",
          "Isadora Rezende",
          "Isadora Rezende",
          "Ana Luiza Almeida",
          "Ana Luiza Almeida",
          "Ana Luiza Almeida",
          "Sofia Vieira",
          "Sofia Vieira",
          "Sofia Vieira",
          "Sofia Vieira",
          "Sofia Vieira",
          "Sofia Vieira",
          "Luigi Azevedo",
          "Luigi Azevedo",
          "Luigi Azevedo",
          "Luigi Azevedo",
          "Luigi Azevedo",
          "Luigi Azevedo",
          "Luigi Azevedo",
          "Luigi Azevedo",
          "Luigi Azevedo",
          "Luigi Azevedo",
          "Caio Lopes",
          "Caio Lopes",
          "Caio Lopes",
          "Caio Lopes",
          "Caio Lopes",
          "Caio Lopes",
          "Caio Lopes",
          "Caio Lopes",
          "Caio Lopes",
          "Luiza Cardoso",
          "Luiza Cardoso",
          "Luiza Cardoso",
          "Luiza Cardoso",
          "Luiza Cardoso",
          "Luiza Cardoso",
          "Luiza Cardoso",
          "Pedro Lucas da Paz",
          "Pedro Lucas da Paz",
          "Pedro Lucas da Paz",
          "Pedro Lucas da Paz",
          "Pedro Lucas da Paz",
          "Pedro Lucas da Paz",
          "Pedro Lucas da Paz",
          "Pedro Lucas da Paz",
          "Pedro Lucas da Paz",
          "Lucas Gabriel Rocha",
          "Lucas Gabriel Rocha",
          "Lucas Gabriel Rocha",
          "Lucas Gabriel Rocha",
          "Vitor Hugo Caldeira",
          "Vitor Hugo Caldeira",
          "Vitor Hugo Caldeira"
         ],
         "xaxis": "x",
         "y": [
          2.7,
          10.8,
          47.92,
          47.92,
          7.96,
          23.96,
          6.7,
          71.97,
          23.99,
          5.99,
          1.29,
          35.94,
          5.97,
          7.96,
          19.38,
          23.99,
          23.96,
          7.96,
          2.7,
          5.99,
          7.96,
          2.7,
          71.97,
          47.92,
          5.97,
          3.98,
          23.99,
          47.98,
          3.87,
          3.98,
          26.8,
          6.7,
          29.07,
          23.99,
          35.94,
          71.97,
          17.97,
          2.7,
          6.7,
          20.1,
          29.07,
          19.38,
          2.58,
          5.99,
          11.98,
          7.96,
          5.4,
          6.7,
          19.38,
          17.97,
          19.38,
          23.99,
          95.96,
          2.7,
          23.99,
          23.96,
          3.98,
          2.7,
          29.07,
          47.98,
          2.58,
          38.76,
          5.4,
          20.1,
          5.97,
          5.97,
          23.96,
          3.98,
          20.1
         ],
         "yaxis": "y"
        },
        {
         "alignmentgroup": "True",
         "customdata": [
          [
           "alcatra",
           "2021-11-04",
           31.99
          ],
          [
           "alcatra",
           "2021-11-04",
           31.99
          ],
          [
           "alcatra",
           "2021-11-04",
           31.99
          ],
          [
           "picanha",
           "2021-11-04",
           70.89
          ],
          [
           "paleta suína",
           "2021-11-01",
           23.99
          ],
          [
           "peito de frango",
           "2021-11-01",
           16.49
          ],
          [
           "picanha",
           "2021-11-01",
           70.89
          ],
          [
           "costela",
           "2021-11-01",
           20.99
          ],
          [
           "costela",
           "2021-11-01",
           20.99
          ],
          [
           "costela",
           "2021-11-01",
           20.99
          ],
          [
           "costela",
           "2021-11-01",
           20.99
          ],
          [
           "maminha",
           "2021-11-01",
           42.99
          ],
          [
           "paleta suína",
           "2021-11-08",
           23.99
          ],
          [
           "costela",
           "2021-11-08",
           20.99
          ],
          [
           "costela",
           "2021-11-08",
           20.99
          ],
          [
           "alcatra",
           "2021-11-01",
           31.99
          ],
          [
           "paleta suína",
           "2021-11-01",
           23.99
          ],
          [
           "bisteca suína",
           "2021-11-01",
           22.79
          ],
          [
           "paleta suína",
           "2021-11-10",
           23.99
          ],
          [
           "peito de frango",
           "2021-11-10",
           16.49
          ],
          [
           "costela",
           "2021-11-10",
           20.99
          ],
          [
           "maminha",
           "2021-11-10",
           42.99
          ],
          [
           "carré de cordeiro",
           "2021-11-10",
           172
          ],
          [
           "picanha",
           "2021-11-13",
           70.89
          ],
          [
           "paleta suína",
           "2021-11-04",
           23.99
          ],
          [
           "bisteca suína",
           "2021-11-04",
           22.79
          ],
          [
           "carré de cordeiro",
           "2021-11-04",
           172
          ],
          [
           "carré de cordeiro",
           "2021-11-04",
           172
          ],
          [
           "picanha",
           "2021-11-03",
           70.89
          ],
          [
           "bisteca suína",
           "2021-11-03",
           22.79
          ],
          [
           "bisteca suína",
           "2021-11-10",
           22.79
          ],
          [
           "bisteca suína",
           "2021-11-10",
           22.79
          ],
          [
           "maminha",
           "2021-11-10",
           42.99
          ],
          [
           "alcatra",
           "2021-11-06",
           31.99
          ],
          [
           "paleta suína",
           "2021-11-06",
           23.99
          ],
          [
           "peito de frango",
           "2021-11-06",
           16.49
          ],
          [
           "bisteca suína",
           "2021-11-06",
           22.79
          ],
          [
           "maminha",
           "2021-11-06",
           42.99
          ],
          [
           "carré de cordeiro",
           "2021-11-06",
           172
          ],
          [
           "alcatra",
           "2021-11-25",
           31.99
          ],
          [
           "picanha",
           "2021-11-28",
           70.89
          ],
          [
           "costela",
           "2021-11-09",
           20.99
          ],
          [
           "costela",
           "2021-11-09",
           20.99
          ],
          [
           "alcatra",
           "2021-11-08",
           31.99
          ],
          [
           "peito de frango",
           "2021-11-08",
           16.49
          ],
          [
           "bisteca suína",
           "2021-11-08",
           22.79
          ],
          [
           "maminha",
           "2021-11-08",
           42.99
          ],
          [
           "carré de cordeiro",
           "2021-11-08",
           172
          ],
          [
           "paleta suína",
           "2021-11-09",
           23.99
          ],
          [
           "maminha",
           "2021-11-09",
           42.99
          ],
          [
           "maminha",
           "2021-11-09",
           42.99
          ],
          [
           "paleta suína",
           "2021-11-30",
           23.99
          ],
          [
           "maminha",
           "2021-11-11",
           42.99
          ],
          [
           "alcatra",
           "2021-11-13",
           31.99
          ],
          [
           "paleta suína",
           "2021-11-14",
           23.99
          ],
          [
           "paleta suína",
           "2021-11-14",
           23.99
          ],
          [
           "paleta suína",
           "2021-11-14",
           23.99
          ],
          [
           "peito de frango",
           "2021-11-14",
           16.49
          ],
          [
           "picanha",
           "2021-11-14",
           70.89
          ],
          [
           "picanha",
           "2021-11-14",
           70.89
          ],
          [
           "paleta suína",
           "2021-11-09",
           23.99
          ],
          [
           "paleta suína",
           "2021-11-09",
           23.99
          ],
          [
           "alcatra",
           "2021-11-01",
           31.99
          ],
          [
           "picanha",
           "2021-11-01",
           70.89
          ],
          [
           "maminha",
           "2021-11-01",
           42.99
          ],
          [
           "carré de cordeiro",
           "2021-11-09",
           172
          ],
          [
           "alcatra",
           "2021-11-04",
           31.99
          ],
          [
           "picanha",
           "2021-11-04",
           70.89
          ],
          [
           "bisteca suína",
           "2021-11-04",
           22.79
          ],
          [
           "carré de cordeiro",
           "2021-11-04",
           172
          ],
          [
           "paleta suína",
           "2021-11-12",
           23.99
          ],
          [
           "paleta suína",
           "2021-11-12",
           23.99
          ],
          [
           "bisteca suína",
           "2021-11-12",
           22.79
          ],
          [
           "maminha",
           "2021-11-12",
           42.99
          ],
          [
           "alcatra",
           "2021-11-09",
           31.99
          ],
          [
           "paleta suína",
           "2021-11-09",
           23.99
          ],
          [
           "maminha",
           "2021-11-09",
           42.99
          ],
          [
           "bisteca suína",
           "2021-11-08",
           22.79
          ],
          [
           "carré de cordeiro",
           "2021-11-08",
           172
          ],
          [
           "carré de cordeiro",
           "2021-11-08",
           172
          ],
          [
           "alcatra",
           "2021-11-02",
           31.99
          ],
          [
           "paleta suína",
           "2021-11-02",
           23.99
          ],
          [
           "carré de cordeiro",
           "2021-11-02",
           172
          ],
          [
           "carré de cordeiro",
           "2021-11-02",
           172
          ]
         ],
         "hovertemplate": "Seção=Açougue<br>Nome do cliente=%{x}<br>Total da compra do produto=%{y}<br>Produto=%{customdata[0]}<br>Data=%{customdata[1]}<br>Preço do produto=%{customdata[2]}<extra></extra>",
         "legendgroup": "Açougue",
         "marker": {
          "color": "#EF553B",
          "pattern": {
           "shape": ""
          }
         },
         "name": "Açougue",
         "offsetgroup": "Açougue",
         "orientation": "v",
         "showlegend": true,
         "textposition": "auto",
         "type": "bar",
         "x": [
          "Melissa da Conceição",
          "Melissa da Conceição",
          "Melissa da Conceição",
          "Melissa da Conceição",
          "Melissa da Conceição",
          "Melissa da Conceição",
          "Melissa da Conceição",
          "Melissa da Conceição",
          "Melissa da Conceição",
          "Melissa da Conceição",
          "Melissa da Conceição",
          "Melissa da Conceição",
          "Melissa da Conceição",
          "Melissa da Conceição",
          "Melissa da Conceição",
          "Isadora Rezende",
          "Isadora Rezende",
          "Isadora Rezende",
          "Isadora Rezende",
          "Isadora Rezende",
          "Isadora Rezende",
          "Isadora Rezende",
          "Isadora Rezende",
          "Isadora Rezende",
          "Ana Luiza Almeida",
          "Ana Luiza Almeida",
          "Ana Luiza Almeida",
          "Ana Luiza Almeida",
          "Ana Luiza Almeida",
          "Ana Luiza Almeida",
          "Sofia Vieira",
          "Sofia Vieira",
          "Sofia Vieira",
          "Sofia Vieira",
          "Sofia Vieira",
          "Sofia Vieira",
          "Sofia Vieira",
          "Sofia Vieira",
          "Sofia Vieira",
          "Sofia Vieira",
          "Sofia Vieira",
          "Luigi Azevedo",
          "Luigi Azevedo",
          "Luigi Azevedo",
          "Luigi Azevedo",
          "Luigi Azevedo",
          "Luigi Azevedo",
          "Luigi Azevedo",
          "Luigi Azevedo",
          "Luigi Azevedo",
          "Luigi Azevedo",
          "Luigi Azevedo",
          "Caio Lopes",
          "Caio Lopes",
          "Caio Lopes",
          "Caio Lopes",
          "Caio Lopes",
          "Caio Lopes",
          "Caio Lopes",
          "Caio Lopes",
          "Luiza Cardoso",
          "Luiza Cardoso",
          "Luiza Cardoso",
          "Luiza Cardoso",
          "Luiza Cardoso",
          "Luiza Cardoso",
          "Pedro Lucas da Paz",
          "Pedro Lucas da Paz",
          "Pedro Lucas da Paz",
          "Pedro Lucas da Paz",
          "Pedro Lucas da Paz",
          "Pedro Lucas da Paz",
          "Pedro Lucas da Paz",
          "Pedro Lucas da Paz",
          "Lucas Gabriel Rocha",
          "Lucas Gabriel Rocha",
          "Lucas Gabriel Rocha",
          "Lucas Gabriel Rocha",
          "Lucas Gabriel Rocha",
          "Lucas Gabriel Rocha",
          "Vitor Hugo Caldeira",
          "Vitor Hugo Caldeira",
          "Vitor Hugo Caldeira",
          "Vitor Hugo Caldeira"
         ],
         "xaxis": "x",
         "y": [
          31.99,
          127.96,
          63.98,
          283.56,
          23.99,
          16.49,
          283.56,
          62.97,
          83.96,
          20.99,
          83.96,
          85.98,
          95.96,
          62.97,
          83.96,
          127.96,
          71.97,
          91.16,
          47.98,
          49.47,
          41.98,
          85.98,
          516,
          70.89,
          71.97,
          45.58,
          516,
          688,
          283.56,
          45.58,
          68.37,
          91.16,
          42.99,
          127.96,
          95.96,
          16.49,
          91.16,
          42.99,
          688,
          63.98,
          212.67000000000002,
          62.97,
          83.96,
          127.96,
          16.49,
          22.79,
          42.99,
          344,
          95.96,
          42.99,
          85.98,
          71.97,
          171.96,
          127.96,
          71.97,
          71.97,
          95.96,
          16.49,
          70.89,
          283.56,
          47.98,
          23.99,
          63.98,
          70.89,
          85.98,
          688,
          95.97,
          212.67000000000002,
          45.58,
          344,
          71.97,
          71.97,
          22.79,
          128.97,
          63.98,
          71.97,
          42.99,
          68.37,
          172,
          688,
          31.99,
          95.96,
          688,
          688
         ],
         "yaxis": "y"
        },
        {
         "alignmentgroup": "True",
         "customdata": [
          [
           "torta",
           "2021-11-04",
           45
          ],
          [
           "pão de forma",
           "2021-11-01",
           6.99
          ],
          [
           "bolo",
           "2021-11-01",
           35
          ],
          [
           "sanduíche",
           "2021-11-01",
           12.99
          ],
          [
           "pão de queijo",
           "2021-11-01",
           23.99
          ],
          [
           "sonho",
           "2021-11-01",
           3.49
          ],
          [
           "sonho",
           "2021-11-08",
           3.49
          ],
          [
           "pão de forma",
           "2021-11-01",
           6.99
          ],
          [
           "bolo",
           "2021-11-01",
           35
          ],
          [
           "pão francês",
           "2021-11-01",
           10.99
          ],
          [
           "pão francês",
           "2021-11-01",
           10.99
          ],
          [
           "sanduíche",
           "2021-11-01",
           12.99
          ],
          [
           "pastel",
           "2021-11-01",
           4.99
          ],
          [
           "bolo",
           "2021-11-10",
           35
          ],
          [
           "sanduíche",
           "2021-11-10",
           12.99
          ],
          [
           "sanduíche",
           "2021-11-13",
           12.99
          ],
          [
           "sonho",
           "2021-11-13",
           3.49
          ],
          [
           "sonho",
           "2021-11-22",
           3.49
          ],
          [
           "pão de forma",
           "2021-11-04",
           6.99
          ],
          [
           "torta",
           "2021-11-04",
           45
          ],
          [
           "torta",
           "2021-11-03",
           45
          ],
          [
           "sanduíche",
           "2021-11-10",
           12.99
          ],
          [
           "sonho",
           "2021-11-10",
           3.49
          ],
          [
           "pastel",
           "2021-11-10",
           4.99
          ],
          [
           "pastel",
           "2021-11-10",
           4.99
          ],
          [
           "pão de queijo",
           "2021-11-06",
           23.99
          ],
          [
           "bolo",
           "2021-11-09",
           35
          ],
          [
           "pão de queijo",
           "2021-11-09",
           23.99
          ],
          [
           "bolo",
           "2021-11-08",
           35
          ],
          [
           "torta",
           "2021-11-09",
           45
          ],
          [
           "pão francês",
           "2021-11-09",
           10.99
          ],
          [
           "pão de queijo",
           "2021-11-09",
           23.99
          ],
          [
           "torta",
           "2021-11-11",
           45
          ],
          [
           "bolo",
           "2021-11-11",
           35
          ],
          [
           "sanduíche",
           "2021-11-11",
           12.99
          ],
          [
           "pastel",
           "2021-11-11",
           4.99
          ],
          [
           "sanduíche",
           "2021-11-13",
           12.99
          ],
          [
           "pão de queijo",
           "2021-11-13",
           23.99
          ],
          [
           "sonho",
           "2021-11-13",
           3.49
          ],
          [
           "bolo",
           "2021-11-28",
           35
          ],
          [
           "pão francês",
           "2021-11-20",
           10.99
          ],
          [
           "pão de forma",
           "2021-11-09",
           6.99
          ],
          [
           "pão de queijo",
           "2021-11-09",
           23.99
          ],
          [
           "pastel",
           "2021-11-09",
           4.99
          ],
          [
           "torta",
           "2021-11-09",
           45
          ],
          [
           "pão francês",
           "2021-11-09",
           10.99
          ],
          [
           "torta",
           "2021-11-07",
           45
          ],
          [
           "pão de queijo",
           "2021-11-07",
           23.99
          ],
          [
           "pão de forma",
           "2021-11-04",
           6.99
          ],
          [
           "pão de queijo",
           "2021-11-04",
           23.99
          ],
          [
           "pão de forma",
           "2021-11-12",
           6.99
          ],
          [
           "bolo",
           "2021-11-12",
           35
          ],
          [
           "pão francês",
           "2021-11-12",
           10.99
          ],
          [
           "sanduíche",
           "2021-11-12",
           12.99
          ],
          [
           "sanduíche",
           "2021-11-12",
           12.99
          ],
          [
           "pão de queijo",
           "2021-11-12",
           23.99
          ],
          [
           "bolo",
           "2021-11-09",
           35
          ],
          [
           "pão francês",
           "2021-11-09",
           10.99
          ],
          [
           "pão de queijo",
           "2021-11-09",
           23.99
          ],
          [
           "sonho",
           "2021-11-09",
           3.49
          ],
          [
           "pão de forma",
           "2021-11-08",
           6.99
          ],
          [
           "bolo",
           "2021-11-08",
           35
          ],
          [
           "pão francês",
           "2021-11-08",
           10.99
          ],
          [
           "pastel",
           "2021-11-08",
           4.99
          ],
          [
           "pão de forma",
           "2021-11-20",
           6.99
          ],
          [
           "pão de forma",
           "2021-11-29",
           6.99
          ],
          [
           "pão francês",
           "2021-11-27",
           10.99
          ]
         ],
         "hovertemplate": "Seção=Padaria<br>Nome do cliente=%{x}<br>Total da compra do produto=%{y}<br>Produto=%{customdata[0]}<br>Data=%{customdata[1]}<br>Preço do produto=%{customdata[2]}<extra></extra>",
         "legendgroup": "Padaria",
         "marker": {
          "color": "#00cc96",
          "pattern": {
           "shape": ""
          }
         },
         "name": "Padaria",
         "offsetgroup": "Padaria",
         "orientation": "v",
         "showlegend": true,
         "textposition": "auto",
         "type": "bar",
         "x": [
          "Melissa da Conceição",
          "Melissa da Conceição",
          "Melissa da Conceição",
          "Melissa da Conceição",
          "Melissa da Conceição",
          "Melissa da Conceição",
          "Melissa da Conceição",
          "Isadora Rezende",
          "Isadora Rezende",
          "Isadora Rezende",
          "Isadora Rezende",
          "Isadora Rezende",
          "Isadora Rezende",
          "Isadora Rezende",
          "Isadora Rezende",
          "Isadora Rezende",
          "Isadora Rezende",
          "Isadora Rezende",
          "Ana Luiza Almeida",
          "Ana Luiza Almeida",
          "Ana Luiza Almeida",
          "Sofia Vieira",
          "Sofia Vieira",
          "Sofia Vieira",
          "Sofia Vieira",
          "Sofia Vieira",
          "Luigi Azevedo",
          "Luigi Azevedo",
          "Luigi Azevedo",
          "Luigi Azevedo",
          "Luigi Azevedo",
          "Luigi Azevedo",
          "Caio Lopes",
          "Caio Lopes",
          "Caio Lopes",
          "Caio Lopes",
          "Caio Lopes",
          "Caio Lopes",
          "Caio Lopes",
          "Caio Lopes",
          "Caio Lopes",
          "Luiza Cardoso",
          "Luiza Cardoso",
          "Luiza Cardoso",
          "Luiza Cardoso",
          "Luiza Cardoso",
          "Luiza Cardoso",
          "Luiza Cardoso",
          "Pedro Lucas da Paz",
          "Pedro Lucas da Paz",
          "Pedro Lucas da Paz",
          "Pedro Lucas da Paz",
          "Pedro Lucas da Paz",
          "Pedro Lucas da Paz",
          "Pedro Lucas da Paz",
          "Pedro Lucas da Paz",
          "Lucas Gabriel Rocha",
          "Lucas Gabriel Rocha",
          "Lucas Gabriel Rocha",
          "Lucas Gabriel Rocha",
          "Lucas Gabriel Rocha",
          "Lucas Gabriel Rocha",
          "Lucas Gabriel Rocha",
          "Lucas Gabriel Rocha",
          "Lucas Gabriel Rocha",
          "Vitor Hugo Caldeira",
          "Vitor Hugo Caldeira"
         ],
         "xaxis": "x",
         "y": [
          90,
          13.98,
          105,
          12.99,
          47.98,
          6.98,
          3.49,
          6.99,
          140,
          43.96,
          32.97,
          12.99,
          19.96,
          105,
          25.98,
          25.98,
          13.96,
          6.98,
          20.97,
          90,
          45,
          51.96,
          13.96,
          9.98,
          9.98,
          71.97,
          140,
          71.97,
          70,
          90,
          21.98,
          47.98,
          180,
          70,
          38.97,
          9.98,
          38.97,
          71.97,
          6.98,
          105,
          43.96,
          13.98,
          71.97,
          9.98,
          135,
          10.99,
          180,
          71.97,
          27.96,
          71.97,
          27.96,
          35,
          10.99,
          25.98,
          12.99,
          47.98,
          105,
          21.98,
          71.97,
          6.98,
          27.96,
          105,
          21.98,
          19.96,
          27.96,
          20.97,
          10.99
         ],
         "yaxis": "y"
        },
        {
         "alignmentgroup": "True",
         "customdata": [
          [
           "batata",
           "2021-11-04",
           3.99
          ],
          [
           "uva",
           "2021-11-04",
           7.47
          ],
          [
           "macarrão",
           "2021-11-01",
           2.48
          ],
          [
           "morango",
           "2021-11-01",
           7.99
          ],
          [
           "uva",
           "2021-11-01",
           7.47
          ],
          [
           "feijão",
           "2021-11-08",
           8.45
          ],
          [
           "arroz",
           "2021-11-08",
           4.31
          ],
          [
           "macarrão",
           "2021-11-01",
           2.48
          ],
          [
           "macarrão",
           "2021-11-01",
           2.48
          ],
          [
           "couve-flor",
           "2021-11-01",
           5.48
          ],
          [
           "morango",
           "2021-11-01",
           7.99
          ],
          [
           "morango",
           "2021-11-01",
           7.99
          ],
          [
           "melancia",
           "2021-11-01",
           15.99
          ],
          [
           "macarrão",
           "2021-11-10",
           2.48
          ],
          [
           "batata",
           "2021-11-10",
           3.99
          ],
          [
           "melancia",
           "2021-11-10",
           15.99
          ],
          [
           "melancia",
           "2021-11-10",
           15.99
          ],
          [
           "uva",
           "2021-11-13",
           7.47
          ],
          [
           "uva",
           "2021-11-13",
           7.47
          ],
          [
           "berinjela",
           "2021-11-13",
           11.99
          ],
          [
           "abobrinha",
           "2021-11-13",
           3.49
          ],
          [
           "abobrinha",
           "2021-11-13",
           3.49
          ],
          [
           "feijão",
           "2021-11-04",
           8.45
          ],
          [
           "feijão",
           "2021-11-04",
           8.45
          ],
          [
           "berinjela",
           "2021-11-04",
           11.99
          ],
          [
           "abobrinha",
           "2021-11-04",
           3.49
          ],
          [
           "macarrão",
           "2021-11-03",
           2.48
          ],
          [
           "feijão",
           "2021-11-03",
           8.45
          ],
          [
           "feijão",
           "2021-11-03",
           8.45
          ],
          [
           "alface",
           "2021-11-03",
           0.98
          ],
          [
           "arroz",
           "2021-11-03",
           4.31
          ],
          [
           "couve-flor",
           "2021-11-10",
           5.48
          ],
          [
           "batata",
           "2021-11-10",
           3.99
          ],
          [
           "batata",
           "2021-11-10",
           3.99
          ],
          [
           "arroz",
           "2021-11-10",
           4.31
          ],
          [
           "couve-flor",
           "2021-11-06",
           5.48
          ],
          [
           "melancia",
           "2021-11-06",
           15.99
          ],
          [
           "arroz",
           "2021-11-06",
           4.31
          ],
          [
           "macarrão",
           "2021-11-09",
           2.48
          ],
          [
           "batata",
           "2021-11-09",
           3.99
          ],
          [
           "morango",
           "2021-11-09",
           7.99
          ],
          [
           "banana",
           "2021-11-09",
           5.99
          ],
          [
           "couve-flor",
           "2021-11-08",
           5.48
          ],
          [
           "berinjela",
           "2021-11-08",
           11.99
          ],
          [
           "batata",
           "2021-11-09",
           3.99
          ],
          [
           "alface",
           "2021-11-09",
           0.98
          ],
          [
           "arroz",
           "2021-11-09",
           4.31
          ],
          [
           "banana",
           "2021-11-09",
           5.99
          ],
          [
           "couve-flor",
           "2021-11-11",
           5.48
          ],
          [
           "morango",
           "2021-11-11",
           7.99
          ],
          [
           "melancia",
           "2021-11-11",
           15.99
          ],
          [
           "berinjela",
           "2021-11-11",
           11.99
          ],
          [
           "banana",
           "2021-11-11",
           5.99
          ],
          [
           "morango",
           "2021-11-13",
           7.99
          ],
          [
           "uva",
           "2021-11-13",
           7.47
          ],
          [
           "arroz",
           "2021-11-13",
           4.31
          ],
          [
           "melancia",
           "2021-11-14",
           15.99
          ],
          [
           "berinjela",
           "2021-11-14",
           11.99
          ],
          [
           "banana",
           "2021-11-14",
           5.99
          ],
          [
           "alface",
           "2021-11-29",
           0.98
          ],
          [
           "uva",
           "2021-11-09",
           7.47
          ],
          [
           "morango",
           "2021-11-01",
           7.99
          ],
          [
           "morango",
           "2021-11-01",
           7.99
          ],
          [
           "arroz",
           "2021-11-01",
           4.31
          ],
          [
           "batata",
           "2021-11-09",
           3.99
          ],
          [
           "uva",
           "2021-11-09",
           7.47
          ],
          [
           "uva",
           "2021-11-09",
           7.47
          ],
          [
           "feijão",
           "2021-11-09",
           8.45
          ],
          [
           "alface",
           "2021-11-07",
           0.98
          ],
          [
           "alface",
           "2021-11-07",
           0.98
          ],
          [
           "batata",
           "2021-11-04",
           3.99
          ],
          [
           "feijão",
           "2021-11-04",
           8.45
          ],
          [
           "berinjela",
           "2021-11-04",
           11.99
          ],
          [
           "arroz",
           "2021-11-04",
           4.31
          ],
          [
           "arroz",
           "2021-11-04",
           4.31
          ],
          [
           "morango",
           "2021-11-12",
           7.99
          ],
          [
           "melancia",
           "2021-11-12",
           15.99
          ],
          [
           "berinjela",
           "2021-11-12",
           11.99
          ],
          [
           "abobrinha",
           "2021-11-12",
           3.49
          ],
          [
           "abobrinha",
           "2021-11-12",
           3.49
          ],
          [
           "macarrão",
           "2021-11-12",
           2.48
          ],
          [
           "batata",
           "2021-11-12",
           3.99
          ],
          [
           "morango",
           "2021-11-12",
           7.99
          ],
          [
           "melancia",
           "2021-11-12",
           15.99
          ],
          [
           "uva",
           "2021-11-12",
           7.47
          ],
          [
           "banana",
           "2021-11-12",
           5.99
          ],
          [
           "macarrão",
           "2021-11-09",
           2.48
          ],
          [
           "uva",
           "2021-11-09",
           7.47
          ],
          [
           "uva",
           "2021-11-09",
           7.47
          ],
          [
           "berinjela",
           "2021-11-09",
           11.99
          ],
          [
           "banana",
           "2021-11-09",
           5.99
          ],
          [
           "couve-flor",
           "2021-11-08",
           5.48
          ],
          [
           "couve-flor",
           "2021-11-08",
           5.48
          ],
          [
           "melancia",
           "2021-11-08",
           15.99
          ],
          [
           "abobrinha",
           "2021-11-08",
           3.49
          ],
          [
           "abobrinha",
           "2021-11-08",
           3.49
          ],
          [
           "abobrinha",
           "2021-11-08",
           3.49
          ],
          [
           "macarrão",
           "2021-11-02",
           2.48
          ],
          [
           "melancia",
           "2021-11-02",
           15.99
          ],
          [
           "uva",
           "2021-11-02",
           7.47
          ],
          [
           "banana",
           "2021-11-02",
           5.99
          ],
          [
           "batata",
           "2021-11-22",
           3.99
          ]
         ],
         "hovertemplate": "Seção=Alimentos em Geral<br>Nome do cliente=%{x}<br>Total da compra do produto=%{y}<br>Produto=%{customdata[0]}<br>Data=%{customdata[1]}<br>Preço do produto=%{customdata[2]}<extra></extra>",
         "legendgroup": "Alimentos em Geral",
         "marker": {
          "color": "#ab63fa",
          "pattern": {
           "shape": ""
          }
         },
         "name": "Alimentos em Geral",
         "offsetgroup": "Alimentos em Geral",
         "orientation": "v",
         "showlegend": true,
         "textposition": "auto",
         "type": "bar",
         "x": [
          "Melissa da Conceição",
          "Melissa da Conceição",
          "Melissa da Conceição",
          "Melissa da Conceição",
          "Melissa da Conceição",
          "Melissa da Conceição",
          "Melissa da Conceição",
          "Isadora Rezende",
          "Isadora Rezende",
          "Isadora Rezende",
          "Isadora Rezende",
          "Isadora Rezende",
          "Isadora Rezende",
          "Isadora Rezende",
          "Isadora Rezende",
          "Isadora Rezende",
          "Isadora Rezende",
          "Isadora Rezende",
          "Isadora Rezende",
          "Isadora Rezende",
          "Isadora Rezende",
          "Isadora Rezende",
          "Ana Luiza Almeida",
          "Ana Luiza Almeida",
          "Ana Luiza Almeida",
          "Ana Luiza Almeida",
          "Ana Luiza Almeida",
          "Ana Luiza Almeida",
          "Ana Luiza Almeida",
          "Ana Luiza Almeida",
          "Ana Luiza Almeida",
          "Sofia Vieira",
          "Sofia Vieira",
          "Sofia Vieira",
          "Sofia Vieira",
          "Sofia Vieira",
          "Sofia Vieira",
          "Sofia Vieira",
          "Luigi Azevedo",
          "Luigi Azevedo",
          "Luigi Azevedo",
          "Luigi Azevedo",
          "Luigi Azevedo",
          "Luigi Azevedo",
          "Luigi Azevedo",
          "Luigi Azevedo",
          "Luigi Azevedo",
          "Luigi Azevedo",
          "Caio Lopes",
          "Caio Lopes",
          "Caio Lopes",
          "Caio Lopes",
          "Caio Lopes",
          "Caio Lopes",
          "Caio Lopes",
          "Caio Lopes",
          "Caio Lopes",
          "Caio Lopes",
          "Caio Lopes",
          "Caio Lopes",
          "Luiza Cardoso",
          "Luiza Cardoso",
          "Luiza Cardoso",
          "Luiza Cardoso",
          "Luiza Cardoso",
          "Luiza Cardoso",
          "Luiza Cardoso",
          "Luiza Cardoso",
          "Luiza Cardoso",
          "Luiza Cardoso",
          "Pedro Lucas da Paz",
          "Pedro Lucas da Paz",
          "Pedro Lucas da Paz",
          "Pedro Lucas da Paz",
          "Pedro Lucas da Paz",
          "Pedro Lucas da Paz",
          "Pedro Lucas da Paz",
          "Pedro Lucas da Paz",
          "Pedro Lucas da Paz",
          "Pedro Lucas da Paz",
          "Pedro Lucas da Paz",
          "Pedro Lucas da Paz",
          "Pedro Lucas da Paz",
          "Pedro Lucas da Paz",
          "Pedro Lucas da Paz",
          "Pedro Lucas da Paz",
          "Lucas Gabriel Rocha",
          "Lucas Gabriel Rocha",
          "Lucas Gabriel Rocha",
          "Lucas Gabriel Rocha",
          "Lucas Gabriel Rocha",
          "Lucas Gabriel Rocha",
          "Lucas Gabriel Rocha",
          "Lucas Gabriel Rocha",
          "Lucas Gabriel Rocha",
          "Lucas Gabriel Rocha",
          "Lucas Gabriel Rocha",
          "Vitor Hugo Caldeira",
          "Vitor Hugo Caldeira",
          "Vitor Hugo Caldeira",
          "Vitor Hugo Caldeira",
          "Vitor Hugo Caldeira"
         ],
         "xaxis": "x",
         "y": [
          7.98,
          7.47,
          2.48,
          15.98,
          22.41,
          16.9,
          12.93,
          2.48,
          2.48,
          21.92,
          23.97,
          15.98,
          31.98,
          2.48,
          15.96,
          47.97,
          47.97,
          14.94,
          14.94,
          35.97,
          6.98,
          6.98,
          33.8,
          8.45,
          47.96,
          10.47,
          7.4399999999999995,
          8.45,
          33.8,
          1.96,
          8.62,
          10.96,
          7.98,
          15.96,
          8.62,
          21.92,
          15.99,
          8.62,
          2.48,
          15.96,
          23.97,
          11.98,
          5.48,
          11.99,
          7.98,
          0.98,
          17.24,
          17.97,
          5.48,
          23.97,
          47.97,
          11.99,
          5.99,
          23.97,
          7.47,
          12.93,
          31.98,
          35.97,
          17.97,
          0.98,
          7.47,
          23.97,
          23.97,
          4.31,
          11.97,
          14.94,
          14.94,
          16.9,
          0.98,
          0.98,
          7.98,
          25.349999999999998,
          35.97,
          4.31,
          17.24,
          31.96,
          47.97,
          11.99,
          6.98,
          13.96,
          4.96,
          11.97,
          15.98,
          15.99,
          14.94,
          5.99,
          7.4399999999999995,
          14.94,
          22.41,
          11.99,
          23.96,
          5.48,
          10.96,
          31.98,
          6.98,
          6.98,
          3.49,
          7.4399999999999995,
          63.96,
          22.41,
          5.99,
          15.96
         ],
         "yaxis": "y"
        }
       ],
       "layout": {
        "barmode": "stack",
        "legend": {
         "title": {
          "text": "Seção"
         },
         "tracegroupgap": 0
        },
        "margin": {
         "t": 60
        },
        "template": {
         "data": {
          "bar": [
           {
            "error_x": {
             "color": "#2a3f5f"
            },
            "error_y": {
             "color": "#2a3f5f"
            },
            "marker": {
             "line": {
              "color": "#E5ECF6",
              "width": 0.5
             },
             "pattern": {
              "fillmode": "overlay",
              "size": 10,
              "solidity": 0.2
             }
            },
            "type": "bar"
           }
          ],
          "barpolar": [
           {
            "marker": {
             "line": {
              "color": "#E5ECF6",
              "width": 0.5
             },
             "pattern": {
              "fillmode": "overlay",
              "size": 10,
              "solidity": 0.2
             }
            },
            "type": "barpolar"
           }
          ],
          "carpet": [
           {
            "aaxis": {
             "endlinecolor": "#2a3f5f",
             "gridcolor": "white",
             "linecolor": "white",
             "minorgridcolor": "white",
             "startlinecolor": "#2a3f5f"
            },
            "baxis": {
             "endlinecolor": "#2a3f5f",
             "gridcolor": "white",
             "linecolor": "white",
             "minorgridcolor": "white",
             "startlinecolor": "#2a3f5f"
            },
            "type": "carpet"
           }
          ],
          "choropleth": [
           {
            "colorbar": {
             "outlinewidth": 0,
             "ticks": ""
            },
            "type": "choropleth"
           }
          ],
          "contour": [
           {
            "colorbar": {
             "outlinewidth": 0,
             "ticks": ""
            },
            "colorscale": [
             [
              0,
              "#0d0887"
             ],
             [
              0.1111111111111111,
              "#46039f"
             ],
             [
              0.2222222222222222,
              "#7201a8"
             ],
             [
              0.3333333333333333,
              "#9c179e"
             ],
             [
              0.4444444444444444,
              "#bd3786"
             ],
             [
              0.5555555555555556,
              "#d8576b"
             ],
             [
              0.6666666666666666,
              "#ed7953"
             ],
             [
              0.7777777777777778,
              "#fb9f3a"
             ],
             [
              0.8888888888888888,
              "#fdca26"
             ],
             [
              1,
              "#f0f921"
             ]
            ],
            "type": "contour"
           }
          ],
          "contourcarpet": [
           {
            "colorbar": {
             "outlinewidth": 0,
             "ticks": ""
            },
            "type": "contourcarpet"
           }
          ],
          "heatmap": [
           {
            "colorbar": {
             "outlinewidth": 0,
             "ticks": ""
            },
            "colorscale": [
             [
              0,
              "#0d0887"
             ],
             [
              0.1111111111111111,
              "#46039f"
             ],
             [
              0.2222222222222222,
              "#7201a8"
             ],
             [
              0.3333333333333333,
              "#9c179e"
             ],
             [
              0.4444444444444444,
              "#bd3786"
             ],
             [
              0.5555555555555556,
              "#d8576b"
             ],
             [
              0.6666666666666666,
              "#ed7953"
             ],
             [
              0.7777777777777778,
              "#fb9f3a"
             ],
             [
              0.8888888888888888,
              "#fdca26"
             ],
             [
              1,
              "#f0f921"
             ]
            ],
            "type": "heatmap"
           }
          ],
          "heatmapgl": [
           {
            "colorbar": {
             "outlinewidth": 0,
             "ticks": ""
            },
            "colorscale": [
             [
              0,
              "#0d0887"
             ],
             [
              0.1111111111111111,
              "#46039f"
             ],
             [
              0.2222222222222222,
              "#7201a8"
             ],
             [
              0.3333333333333333,
              "#9c179e"
             ],
             [
              0.4444444444444444,
              "#bd3786"
             ],
             [
              0.5555555555555556,
              "#d8576b"
             ],
             [
              0.6666666666666666,
              "#ed7953"
             ],
             [
              0.7777777777777778,
              "#fb9f3a"
             ],
             [
              0.8888888888888888,
              "#fdca26"
             ],
             [
              1,
              "#f0f921"
             ]
            ],
            "type": "heatmapgl"
           }
          ],
          "histogram": [
           {
            "marker": {
             "pattern": {
              "fillmode": "overlay",
              "size": 10,
              "solidity": 0.2
             }
            },
            "type": "histogram"
           }
          ],
          "histogram2d": [
           {
            "colorbar": {
             "outlinewidth": 0,
             "ticks": ""
            },
            "colorscale": [
             [
              0,
              "#0d0887"
             ],
             [
              0.1111111111111111,
              "#46039f"
             ],
             [
              0.2222222222222222,
              "#7201a8"
             ],
             [
              0.3333333333333333,
              "#9c179e"
             ],
             [
              0.4444444444444444,
              "#bd3786"
             ],
             [
              0.5555555555555556,
              "#d8576b"
             ],
             [
              0.6666666666666666,
              "#ed7953"
             ],
             [
              0.7777777777777778,
              "#fb9f3a"
             ],
             [
              0.8888888888888888,
              "#fdca26"
             ],
             [
              1,
              "#f0f921"
             ]
            ],
            "type": "histogram2d"
           }
          ],
          "histogram2dcontour": [
           {
            "colorbar": {
             "outlinewidth": 0,
             "ticks": ""
            },
            "colorscale": [
             [
              0,
              "#0d0887"
             ],
             [
              0.1111111111111111,
              "#46039f"
             ],
             [
              0.2222222222222222,
              "#7201a8"
             ],
             [
              0.3333333333333333,
              "#9c179e"
             ],
             [
              0.4444444444444444,
              "#bd3786"
             ],
             [
              0.5555555555555556,
              "#d8576b"
             ],
             [
              0.6666666666666666,
              "#ed7953"
             ],
             [
              0.7777777777777778,
              "#fb9f3a"
             ],
             [
              0.8888888888888888,
              "#fdca26"
             ],
             [
              1,
              "#f0f921"
             ]
            ],
            "type": "histogram2dcontour"
           }
          ],
          "mesh3d": [
           {
            "colorbar": {
             "outlinewidth": 0,
             "ticks": ""
            },
            "type": "mesh3d"
           }
          ],
          "parcoords": [
           {
            "line": {
             "colorbar": {
              "outlinewidth": 0,
              "ticks": ""
             }
            },
            "type": "parcoords"
           }
          ],
          "pie": [
           {
            "automargin": true,
            "type": "pie"
           }
          ],
          "scatter": [
           {
            "marker": {
             "colorbar": {
              "outlinewidth": 0,
              "ticks": ""
             }
            },
            "type": "scatter"
           }
          ],
          "scatter3d": [
           {
            "line": {
             "colorbar": {
              "outlinewidth": 0,
              "ticks": ""
             }
            },
            "marker": {
             "colorbar": {
              "outlinewidth": 0,
              "ticks": ""
             }
            },
            "type": "scatter3d"
           }
          ],
          "scattercarpet": [
           {
            "marker": {
             "colorbar": {
              "outlinewidth": 0,
              "ticks": ""
             }
            },
            "type": "scattercarpet"
           }
          ],
          "scattergeo": [
           {
            "marker": {
             "colorbar": {
              "outlinewidth": 0,
              "ticks": ""
             }
            },
            "type": "scattergeo"
           }
          ],
          "scattergl": [
           {
            "marker": {
             "colorbar": {
              "outlinewidth": 0,
              "ticks": ""
             }
            },
            "type": "scattergl"
           }
          ],
          "scattermapbox": [
           {
            "marker": {
             "colorbar": {
              "outlinewidth": 0,
              "ticks": ""
             }
            },
            "type": "scattermapbox"
           }
          ],
          "scatterpolar": [
           {
            "marker": {
             "colorbar": {
              "outlinewidth": 0,
              "ticks": ""
             }
            },
            "type": "scatterpolar"
           }
          ],
          "scatterpolargl": [
           {
            "marker": {
             "colorbar": {
              "outlinewidth": 0,
              "ticks": ""
             }
            },
            "type": "scatterpolargl"
           }
          ],
          "scatterternary": [
           {
            "marker": {
             "colorbar": {
              "outlinewidth": 0,
              "ticks": ""
             }
            },
            "type": "scatterternary"
           }
          ],
          "surface": [
           {
            "colorbar": {
             "outlinewidth": 0,
             "ticks": ""
            },
            "colorscale": [
             [
              0,
              "#0d0887"
             ],
             [
              0.1111111111111111,
              "#46039f"
             ],
             [
              0.2222222222222222,
              "#7201a8"
             ],
             [
              0.3333333333333333,
              "#9c179e"
             ],
             [
              0.4444444444444444,
              "#bd3786"
             ],
             [
              0.5555555555555556,
              "#d8576b"
             ],
             [
              0.6666666666666666,
              "#ed7953"
             ],
             [
              0.7777777777777778,
              "#fb9f3a"
             ],
             [
              0.8888888888888888,
              "#fdca26"
             ],
             [
              1,
              "#f0f921"
             ]
            ],
            "type": "surface"
           }
          ],
          "table": [
           {
            "cells": {
             "fill": {
              "color": "#EBF0F8"
             },
             "line": {
              "color": "white"
             }
            },
            "header": {
             "fill": {
              "color": "#C8D4E3"
             },
             "line": {
              "color": "white"
             }
            },
            "type": "table"
           }
          ]
         },
         "layout": {
          "annotationdefaults": {
           "arrowcolor": "#2a3f5f",
           "arrowhead": 0,
           "arrowwidth": 1
          },
          "autotypenumbers": "strict",
          "coloraxis": {
           "colorbar": {
            "outlinewidth": 0,
            "ticks": ""
           }
          },
          "colorscale": {
           "diverging": [
            [
             0,
             "#8e0152"
            ],
            [
             0.1,
             "#c51b7d"
            ],
            [
             0.2,
             "#de77ae"
            ],
            [
             0.3,
             "#f1b6da"
            ],
            [
             0.4,
             "#fde0ef"
            ],
            [
             0.5,
             "#f7f7f7"
            ],
            [
             0.6,
             "#e6f5d0"
            ],
            [
             0.7,
             "#b8e186"
            ],
            [
             0.8,
             "#7fbc41"
            ],
            [
             0.9,
             "#4d9221"
            ],
            [
             1,
             "#276419"
            ]
           ],
           "sequential": [
            [
             0,
             "#0d0887"
            ],
            [
             0.1111111111111111,
             "#46039f"
            ],
            [
             0.2222222222222222,
             "#7201a8"
            ],
            [
             0.3333333333333333,
             "#9c179e"
            ],
            [
             0.4444444444444444,
             "#bd3786"
            ],
            [
             0.5555555555555556,
             "#d8576b"
            ],
            [
             0.6666666666666666,
             "#ed7953"
            ],
            [
             0.7777777777777778,
             "#fb9f3a"
            ],
            [
             0.8888888888888888,
             "#fdca26"
            ],
            [
             1,
             "#f0f921"
            ]
           ],
           "sequentialminus": [
            [
             0,
             "#0d0887"
            ],
            [
             0.1111111111111111,
             "#46039f"
            ],
            [
             0.2222222222222222,
             "#7201a8"
            ],
            [
             0.3333333333333333,
             "#9c179e"
            ],
            [
             0.4444444444444444,
             "#bd3786"
            ],
            [
             0.5555555555555556,
             "#d8576b"
            ],
            [
             0.6666666666666666,
             "#ed7953"
            ],
            [
             0.7777777777777778,
             "#fb9f3a"
            ],
            [
             0.8888888888888888,
             "#fdca26"
            ],
            [
             1,
             "#f0f921"
            ]
           ]
          },
          "colorway": [
           "#636efa",
           "#EF553B",
           "#00cc96",
           "#ab63fa",
           "#FFA15A",
           "#19d3f3",
           "#FF6692",
           "#B6E880",
           "#FF97FF",
           "#FECB52"
          ],
          "font": {
           "color": "#2a3f5f"
          },
          "geo": {
           "bgcolor": "white",
           "lakecolor": "white",
           "landcolor": "#E5ECF6",
           "showlakes": true,
           "showland": true,
           "subunitcolor": "white"
          },
          "hoverlabel": {
           "align": "left"
          },
          "hovermode": "closest",
          "mapbox": {
           "style": "light"
          },
          "paper_bgcolor": "white",
          "plot_bgcolor": "#E5ECF6",
          "polar": {
           "angularaxis": {
            "gridcolor": "white",
            "linecolor": "white",
            "ticks": ""
           },
           "bgcolor": "#E5ECF6",
           "radialaxis": {
            "gridcolor": "white",
            "linecolor": "white",
            "ticks": ""
           }
          },
          "scene": {
           "xaxis": {
            "backgroundcolor": "#E5ECF6",
            "gridcolor": "white",
            "gridwidth": 2,
            "linecolor": "white",
            "showbackground": true,
            "ticks": "",
            "zerolinecolor": "white"
           },
           "yaxis": {
            "backgroundcolor": "#E5ECF6",
            "gridcolor": "white",
            "gridwidth": 2,
            "linecolor": "white",
            "showbackground": true,
            "ticks": "",
            "zerolinecolor": "white"
           },
           "zaxis": {
            "backgroundcolor": "#E5ECF6",
            "gridcolor": "white",
            "gridwidth": 2,
            "linecolor": "white",
            "showbackground": true,
            "ticks": "",
            "zerolinecolor": "white"
           }
          },
          "shapedefaults": {
           "line": {
            "color": "#2a3f5f"
           }
          },
          "ternary": {
           "aaxis": {
            "gridcolor": "white",
            "linecolor": "white",
            "ticks": ""
           },
           "baxis": {
            "gridcolor": "white",
            "linecolor": "white",
            "ticks": ""
           },
           "bgcolor": "#E5ECF6",
           "caxis": {
            "gridcolor": "white",
            "linecolor": "white",
            "ticks": ""
           }
          },
          "title": {
           "x": 0.05
          },
          "xaxis": {
           "automargin": true,
           "gridcolor": "white",
           "linecolor": "white",
           "ticks": "",
           "title": {
            "standoff": 15
           },
           "zerolinecolor": "white",
           "zerolinewidth": 2
          },
          "yaxis": {
           "automargin": true,
           "gridcolor": "white",
           "linecolor": "white",
           "ticks": "",
           "title": {
            "standoff": 15
           },
           "zerolinecolor": "white",
           "zerolinewidth": 2
          }
         }
        },
        "title": {
         "text": "Os 10 clientes que mais gastam"
        },
        "xaxis": {
         "anchor": "y",
         "domain": [
          0,
          1
         ],
         "title": {
          "text": "Nome do cliente"
         }
        },
        "yaxis": {
         "anchor": "x",
         "domain": [
          0,
          1
         ],
         "title": {
          "text": "Total da compra do produto"
         }
        }
       }
      },
      "text/html": [
       "<div>                            <div id=\"ca937546-9e3d-4f58-a1c9-623279aeeaa6\" class=\"plotly-graph-div\" style=\"height:525px; width:100%;\"></div>            <script type=\"text/javascript\">                require([\"plotly\"], function(Plotly) {                    window.PLOTLYENV=window.PLOTLYENV || {};                                    if (document.getElementById(\"ca937546-9e3d-4f58-a1c9-623279aeeaa6\")) {                    Plotly.newPlot(                        \"ca937546-9e3d-4f58-a1c9-623279aeeaa6\",                        [{\"alignmentgroup\":\"True\",\"customdata\":[[\"detergente\",\"2021-11-04\",2.7],[\"detergente\",\"2021-11-04\",2.7],[\"\\u00e1gua sanit\\u00e1ria\",\"2021-11-04\",11.98],[\"\\u00e1gua sanit\\u00e1ria\",\"2021-11-04\",11.98],[\"flanela\",\"2021-11-04\",1.99],[\"rodo\",\"2021-11-01\",5.99],[\"amaciante\",\"2021-11-08\",6.7],[\"odorizador\",\"2021-11-08\",23.99],[\"odorizador\",\"2021-11-01\",23.99],[\"rodo\",\"2021-11-01\",5.99],[\"sabonete\",\"2021-11-01\",1.29],[\"\\u00e1gua sanit\\u00e1ria\",\"2021-11-10\",11.98],[\"flanela\",\"2021-11-10\",1.99],[\"flanela\",\"2021-11-10\",1.99],[\"sab\\u00e3o em p\\u00f3\",\"2021-11-13\",9.69],[\"odorizador\",\"2021-11-13\",23.99],[\"rodo\",\"2021-11-13\",5.99],[\"flanela\",\"2021-11-13\",1.99],[\"detergente\",\"2021-11-04\",2.7],[\"rodo\",\"2021-11-04\",5.99],[\"flanela\",\"2021-11-03\",1.99],[\"detergente\",\"2021-11-23\",2.7],[\"odorizador\",\"2021-11-10\",23.99],[\"\\u00e1gua sanit\\u00e1ria\",\"2021-11-10\",11.98],[\"flanela\",\"2021-11-10\",1.99],[\"flanela\",\"2021-11-06\",1.99],[\"odorizador\",\"2021-11-21\",23.99],[\"odorizador\",\"2021-11-09\",23.99],[\"sabonete\",\"2021-11-09\",1.29],[\"flanela\",\"2021-11-09\",1.99],[\"amaciante\",\"2021-11-08\",6.7],[\"amaciante\",\"2021-11-08\",6.7],[\"sab\\u00e3o em p\\u00f3\",\"2021-11-08\",9.69],[\"odorizador\",\"2021-11-08\",23.99],[\"\\u00e1gua sanit\\u00e1ria\",\"2021-11-08\",11.98],[\"odorizador\",\"2021-11-09\",23.99],[\"rodo\",\"2021-11-30\",5.99],[\"detergente\",\"2021-11-11\",2.7],[\"amaciante\",\"2021-11-11\",6.7],[\"amaciante\",\"2021-11-11\",6.7],[\"sab\\u00e3o em p\\u00f3\",\"2021-11-11\",9.69],[\"sab\\u00e3o em p\\u00f3\",\"2021-11-11\",9.69],[\"sabonete\",\"2021-11-11\",1.29],[\"rodo\",\"2021-11-13\",5.99],[\"rodo\",\"2021-11-13\",5.99],[\"flanela\",\"2021-11-13\",1.99],[\"detergente\",\"2021-11-09\",2.7],[\"amaciante\",\"2021-11-01\",6.7],[\"sab\\u00e3o em p\\u00f3\",\"2021-11-01\",9.69],[\"rodo\",\"2021-11-09\",5.99],[\"sab\\u00e3o em p\\u00f3\",\"2021-11-07\",9.69],[\"odorizador\",\"2021-11-07\",23.99],[\"odorizador\",\"2021-11-07\",23.99],[\"detergente\",\"2021-11-04\",2.7],[\"odorizador\",\"2021-11-04\",23.99],[\"rodo\",\"2021-11-04\",5.99],[\"flanela\",\"2021-11-04\",1.99],[\"detergente\",\"2021-11-12\",2.7],[\"sab\\u00e3o em p\\u00f3\",\"2021-11-12\",9.69],[\"odorizador\",\"2021-11-12\",23.99],[\"sabonete\",\"2021-11-12\",1.29],[\"sab\\u00e3o em p\\u00f3\",\"2021-11-12\",9.69],[\"detergente\",\"2021-11-30\",2.7],[\"amaciante\",\"2021-11-09\",6.7],[\"flanela\",\"2021-11-09\",1.99],[\"flanela\",\"2021-11-09\",1.99],[\"\\u00e1gua sanit\\u00e1ria\",\"2021-11-02\",11.98],[\"flanela\",\"2021-11-02\",1.99],[\"amaciante\",\"2021-11-24\",6.7]],\"hovertemplate\":\"Se\\u00e7\\u00e3o=Produtos de Limpeza<br>Nome do cliente=%{x}<br>Total da compra do produto=%{y}<br>Produto=%{customdata[0]}<br>Data=%{customdata[1]}<br>Pre\\u00e7o do produto=%{customdata[2]}<extra></extra>\",\"legendgroup\":\"Produtos de Limpeza\",\"marker\":{\"color\":\"#636efa\",\"pattern\":{\"shape\":\"\"}},\"name\":\"Produtos de Limpeza\",\"offsetgroup\":\"Produtos de Limpeza\",\"orientation\":\"v\",\"showlegend\":true,\"textposition\":\"auto\",\"type\":\"bar\",\"x\":[\"Melissa da Concei\\u00e7\\u00e3o\",\"Melissa da Concei\\u00e7\\u00e3o\",\"Melissa da Concei\\u00e7\\u00e3o\",\"Melissa da Concei\\u00e7\\u00e3o\",\"Melissa da Concei\\u00e7\\u00e3o\",\"Melissa da Concei\\u00e7\\u00e3o\",\"Melissa da Concei\\u00e7\\u00e3o\",\"Melissa da Concei\\u00e7\\u00e3o\",\"Isadora Rezende\",\"Isadora Rezende\",\"Isadora Rezende\",\"Isadora Rezende\",\"Isadora Rezende\",\"Isadora Rezende\",\"Isadora Rezende\",\"Isadora Rezende\",\"Isadora Rezende\",\"Isadora Rezende\",\"Ana Luiza Almeida\",\"Ana Luiza Almeida\",\"Ana Luiza Almeida\",\"Sofia Vieira\",\"Sofia Vieira\",\"Sofia Vieira\",\"Sofia Vieira\",\"Sofia Vieira\",\"Sofia Vieira\",\"Luigi Azevedo\",\"Luigi Azevedo\",\"Luigi Azevedo\",\"Luigi Azevedo\",\"Luigi Azevedo\",\"Luigi Azevedo\",\"Luigi Azevedo\",\"Luigi Azevedo\",\"Luigi Azevedo\",\"Luigi Azevedo\",\"Caio Lopes\",\"Caio Lopes\",\"Caio Lopes\",\"Caio Lopes\",\"Caio Lopes\",\"Caio Lopes\",\"Caio Lopes\",\"Caio Lopes\",\"Caio Lopes\",\"Luiza Cardoso\",\"Luiza Cardoso\",\"Luiza Cardoso\",\"Luiza Cardoso\",\"Luiza Cardoso\",\"Luiza Cardoso\",\"Luiza Cardoso\",\"Pedro Lucas da Paz\",\"Pedro Lucas da Paz\",\"Pedro Lucas da Paz\",\"Pedro Lucas da Paz\",\"Pedro Lucas da Paz\",\"Pedro Lucas da Paz\",\"Pedro Lucas da Paz\",\"Pedro Lucas da Paz\",\"Pedro Lucas da Paz\",\"Lucas Gabriel Rocha\",\"Lucas Gabriel Rocha\",\"Lucas Gabriel Rocha\",\"Lucas Gabriel Rocha\",\"Vitor Hugo Caldeira\",\"Vitor Hugo Caldeira\",\"Vitor Hugo Caldeira\"],\"xaxis\":\"x\",\"y\":[2.7,10.8,47.92,47.92,7.96,23.96,6.7,71.97,23.99,5.99,1.29,35.94,5.97,7.96,19.38,23.99,23.96,7.96,2.7,5.99,7.96,2.7,71.97,47.92,5.97,3.98,23.99,47.98,3.87,3.98,26.8,6.7,29.07,23.99,35.94,71.97,17.97,2.7,6.7,20.1,29.07,19.38,2.58,5.99,11.98,7.96,5.4,6.7,19.38,17.97,19.38,23.99,95.96,2.7,23.99,23.96,3.98,2.7,29.07,47.98,2.58,38.76,5.4,20.1,5.97,5.97,23.96,3.98,20.1],\"yaxis\":\"y\"},{\"alignmentgroup\":\"True\",\"customdata\":[[\"alcatra\",\"2021-11-04\",31.99],[\"alcatra\",\"2021-11-04\",31.99],[\"alcatra\",\"2021-11-04\",31.99],[\"picanha\",\"2021-11-04\",70.89],[\"paleta su\\u00edna\",\"2021-11-01\",23.99],[\"peito de frango\",\"2021-11-01\",16.49],[\"picanha\",\"2021-11-01\",70.89],[\"costela\",\"2021-11-01\",20.99],[\"costela\",\"2021-11-01\",20.99],[\"costela\",\"2021-11-01\",20.99],[\"costela\",\"2021-11-01\",20.99],[\"maminha\",\"2021-11-01\",42.99],[\"paleta su\\u00edna\",\"2021-11-08\",23.99],[\"costela\",\"2021-11-08\",20.99],[\"costela\",\"2021-11-08\",20.99],[\"alcatra\",\"2021-11-01\",31.99],[\"paleta su\\u00edna\",\"2021-11-01\",23.99],[\"bisteca su\\u00edna\",\"2021-11-01\",22.79],[\"paleta su\\u00edna\",\"2021-11-10\",23.99],[\"peito de frango\",\"2021-11-10\",16.49],[\"costela\",\"2021-11-10\",20.99],[\"maminha\",\"2021-11-10\",42.99],[\"carr\\u00e9 de cordeiro\",\"2021-11-10\",172.0],[\"picanha\",\"2021-11-13\",70.89],[\"paleta su\\u00edna\",\"2021-11-04\",23.99],[\"bisteca su\\u00edna\",\"2021-11-04\",22.79],[\"carr\\u00e9 de cordeiro\",\"2021-11-04\",172.0],[\"carr\\u00e9 de cordeiro\",\"2021-11-04\",172.0],[\"picanha\",\"2021-11-03\",70.89],[\"bisteca su\\u00edna\",\"2021-11-03\",22.79],[\"bisteca su\\u00edna\",\"2021-11-10\",22.79],[\"bisteca su\\u00edna\",\"2021-11-10\",22.79],[\"maminha\",\"2021-11-10\",42.99],[\"alcatra\",\"2021-11-06\",31.99],[\"paleta su\\u00edna\",\"2021-11-06\",23.99],[\"peito de frango\",\"2021-11-06\",16.49],[\"bisteca su\\u00edna\",\"2021-11-06\",22.79],[\"maminha\",\"2021-11-06\",42.99],[\"carr\\u00e9 de cordeiro\",\"2021-11-06\",172.0],[\"alcatra\",\"2021-11-25\",31.99],[\"picanha\",\"2021-11-28\",70.89],[\"costela\",\"2021-11-09\",20.99],[\"costela\",\"2021-11-09\",20.99],[\"alcatra\",\"2021-11-08\",31.99],[\"peito de frango\",\"2021-11-08\",16.49],[\"bisteca su\\u00edna\",\"2021-11-08\",22.79],[\"maminha\",\"2021-11-08\",42.99],[\"carr\\u00e9 de cordeiro\",\"2021-11-08\",172.0],[\"paleta su\\u00edna\",\"2021-11-09\",23.99],[\"maminha\",\"2021-11-09\",42.99],[\"maminha\",\"2021-11-09\",42.99],[\"paleta su\\u00edna\",\"2021-11-30\",23.99],[\"maminha\",\"2021-11-11\",42.99],[\"alcatra\",\"2021-11-13\",31.99],[\"paleta su\\u00edna\",\"2021-11-14\",23.99],[\"paleta su\\u00edna\",\"2021-11-14\",23.99],[\"paleta su\\u00edna\",\"2021-11-14\",23.99],[\"peito de frango\",\"2021-11-14\",16.49],[\"picanha\",\"2021-11-14\",70.89],[\"picanha\",\"2021-11-14\",70.89],[\"paleta su\\u00edna\",\"2021-11-09\",23.99],[\"paleta su\\u00edna\",\"2021-11-09\",23.99],[\"alcatra\",\"2021-11-01\",31.99],[\"picanha\",\"2021-11-01\",70.89],[\"maminha\",\"2021-11-01\",42.99],[\"carr\\u00e9 de cordeiro\",\"2021-11-09\",172.0],[\"alcatra\",\"2021-11-04\",31.99],[\"picanha\",\"2021-11-04\",70.89],[\"bisteca su\\u00edna\",\"2021-11-04\",22.79],[\"carr\\u00e9 de cordeiro\",\"2021-11-04\",172.0],[\"paleta su\\u00edna\",\"2021-11-12\",23.99],[\"paleta su\\u00edna\",\"2021-11-12\",23.99],[\"bisteca su\\u00edna\",\"2021-11-12\",22.79],[\"maminha\",\"2021-11-12\",42.99],[\"alcatra\",\"2021-11-09\",31.99],[\"paleta su\\u00edna\",\"2021-11-09\",23.99],[\"maminha\",\"2021-11-09\",42.99],[\"bisteca su\\u00edna\",\"2021-11-08\",22.79],[\"carr\\u00e9 de cordeiro\",\"2021-11-08\",172.0],[\"carr\\u00e9 de cordeiro\",\"2021-11-08\",172.0],[\"alcatra\",\"2021-11-02\",31.99],[\"paleta su\\u00edna\",\"2021-11-02\",23.99],[\"carr\\u00e9 de cordeiro\",\"2021-11-02\",172.0],[\"carr\\u00e9 de cordeiro\",\"2021-11-02\",172.0]],\"hovertemplate\":\"Se\\u00e7\\u00e3o=A\\u00e7ougue<br>Nome do cliente=%{x}<br>Total da compra do produto=%{y}<br>Produto=%{customdata[0]}<br>Data=%{customdata[1]}<br>Pre\\u00e7o do produto=%{customdata[2]}<extra></extra>\",\"legendgroup\":\"A\\u00e7ougue\",\"marker\":{\"color\":\"#EF553B\",\"pattern\":{\"shape\":\"\"}},\"name\":\"A\\u00e7ougue\",\"offsetgroup\":\"A\\u00e7ougue\",\"orientation\":\"v\",\"showlegend\":true,\"textposition\":\"auto\",\"type\":\"bar\",\"x\":[\"Melissa da Concei\\u00e7\\u00e3o\",\"Melissa da Concei\\u00e7\\u00e3o\",\"Melissa da Concei\\u00e7\\u00e3o\",\"Melissa da Concei\\u00e7\\u00e3o\",\"Melissa da Concei\\u00e7\\u00e3o\",\"Melissa da Concei\\u00e7\\u00e3o\",\"Melissa da Concei\\u00e7\\u00e3o\",\"Melissa da Concei\\u00e7\\u00e3o\",\"Melissa da Concei\\u00e7\\u00e3o\",\"Melissa da Concei\\u00e7\\u00e3o\",\"Melissa da Concei\\u00e7\\u00e3o\",\"Melissa da Concei\\u00e7\\u00e3o\",\"Melissa da Concei\\u00e7\\u00e3o\",\"Melissa da Concei\\u00e7\\u00e3o\",\"Melissa da Concei\\u00e7\\u00e3o\",\"Isadora Rezende\",\"Isadora Rezende\",\"Isadora Rezende\",\"Isadora Rezende\",\"Isadora Rezende\",\"Isadora Rezende\",\"Isadora Rezende\",\"Isadora Rezende\",\"Isadora Rezende\",\"Ana Luiza Almeida\",\"Ana Luiza Almeida\",\"Ana Luiza Almeida\",\"Ana Luiza Almeida\",\"Ana Luiza Almeida\",\"Ana Luiza Almeida\",\"Sofia Vieira\",\"Sofia Vieira\",\"Sofia Vieira\",\"Sofia Vieira\",\"Sofia Vieira\",\"Sofia Vieira\",\"Sofia Vieira\",\"Sofia Vieira\",\"Sofia Vieira\",\"Sofia Vieira\",\"Sofia Vieira\",\"Luigi Azevedo\",\"Luigi Azevedo\",\"Luigi Azevedo\",\"Luigi Azevedo\",\"Luigi Azevedo\",\"Luigi Azevedo\",\"Luigi Azevedo\",\"Luigi Azevedo\",\"Luigi Azevedo\",\"Luigi Azevedo\",\"Luigi Azevedo\",\"Caio Lopes\",\"Caio Lopes\",\"Caio Lopes\",\"Caio Lopes\",\"Caio Lopes\",\"Caio Lopes\",\"Caio Lopes\",\"Caio Lopes\",\"Luiza Cardoso\",\"Luiza Cardoso\",\"Luiza Cardoso\",\"Luiza Cardoso\",\"Luiza Cardoso\",\"Luiza Cardoso\",\"Pedro Lucas da Paz\",\"Pedro Lucas da Paz\",\"Pedro Lucas da Paz\",\"Pedro Lucas da Paz\",\"Pedro Lucas da Paz\",\"Pedro Lucas da Paz\",\"Pedro Lucas da Paz\",\"Pedro Lucas da Paz\",\"Lucas Gabriel Rocha\",\"Lucas Gabriel Rocha\",\"Lucas Gabriel Rocha\",\"Lucas Gabriel Rocha\",\"Lucas Gabriel Rocha\",\"Lucas Gabriel Rocha\",\"Vitor Hugo Caldeira\",\"Vitor Hugo Caldeira\",\"Vitor Hugo Caldeira\",\"Vitor Hugo Caldeira\"],\"xaxis\":\"x\",\"y\":[31.99,127.96,63.98,283.56,23.99,16.49,283.56,62.97,83.96,20.99,83.96,85.98,95.96,62.97,83.96,127.96,71.97,91.16,47.98,49.47,41.98,85.98,516.0,70.89,71.97,45.58,516.0,688.0,283.56,45.58,68.37,91.16,42.99,127.96,95.96,16.49,91.16,42.99,688.0,63.98,212.67000000000002,62.97,83.96,127.96,16.49,22.79,42.99,344.0,95.96,42.99,85.98,71.97,171.96,127.96,71.97,71.97,95.96,16.49,70.89,283.56,47.98,23.99,63.98,70.89,85.98,688.0,95.97,212.67000000000002,45.58,344.0,71.97,71.97,22.79,128.97,63.98,71.97,42.99,68.37,172.0,688.0,31.99,95.96,688.0,688.0],\"yaxis\":\"y\"},{\"alignmentgroup\":\"True\",\"customdata\":[[\"torta\",\"2021-11-04\",45.0],[\"p\\u00e3o de forma\",\"2021-11-01\",6.99],[\"bolo\",\"2021-11-01\",35.0],[\"sandu\\u00edche\",\"2021-11-01\",12.99],[\"p\\u00e3o de queijo\",\"2021-11-01\",23.99],[\"sonho\",\"2021-11-01\",3.49],[\"sonho\",\"2021-11-08\",3.49],[\"p\\u00e3o de forma\",\"2021-11-01\",6.99],[\"bolo\",\"2021-11-01\",35.0],[\"p\\u00e3o franc\\u00eas\",\"2021-11-01\",10.99],[\"p\\u00e3o franc\\u00eas\",\"2021-11-01\",10.99],[\"sandu\\u00edche\",\"2021-11-01\",12.99],[\"pastel\",\"2021-11-01\",4.99],[\"bolo\",\"2021-11-10\",35.0],[\"sandu\\u00edche\",\"2021-11-10\",12.99],[\"sandu\\u00edche\",\"2021-11-13\",12.99],[\"sonho\",\"2021-11-13\",3.49],[\"sonho\",\"2021-11-22\",3.49],[\"p\\u00e3o de forma\",\"2021-11-04\",6.99],[\"torta\",\"2021-11-04\",45.0],[\"torta\",\"2021-11-03\",45.0],[\"sandu\\u00edche\",\"2021-11-10\",12.99],[\"sonho\",\"2021-11-10\",3.49],[\"pastel\",\"2021-11-10\",4.99],[\"pastel\",\"2021-11-10\",4.99],[\"p\\u00e3o de queijo\",\"2021-11-06\",23.99],[\"bolo\",\"2021-11-09\",35.0],[\"p\\u00e3o de queijo\",\"2021-11-09\",23.99],[\"bolo\",\"2021-11-08\",35.0],[\"torta\",\"2021-11-09\",45.0],[\"p\\u00e3o franc\\u00eas\",\"2021-11-09\",10.99],[\"p\\u00e3o de queijo\",\"2021-11-09\",23.99],[\"torta\",\"2021-11-11\",45.0],[\"bolo\",\"2021-11-11\",35.0],[\"sandu\\u00edche\",\"2021-11-11\",12.99],[\"pastel\",\"2021-11-11\",4.99],[\"sandu\\u00edche\",\"2021-11-13\",12.99],[\"p\\u00e3o de queijo\",\"2021-11-13\",23.99],[\"sonho\",\"2021-11-13\",3.49],[\"bolo\",\"2021-11-28\",35.0],[\"p\\u00e3o franc\\u00eas\",\"2021-11-20\",10.99],[\"p\\u00e3o de forma\",\"2021-11-09\",6.99],[\"p\\u00e3o de queijo\",\"2021-11-09\",23.99],[\"pastel\",\"2021-11-09\",4.99],[\"torta\",\"2021-11-09\",45.0],[\"p\\u00e3o franc\\u00eas\",\"2021-11-09\",10.99],[\"torta\",\"2021-11-07\",45.0],[\"p\\u00e3o de queijo\",\"2021-11-07\",23.99],[\"p\\u00e3o de forma\",\"2021-11-04\",6.99],[\"p\\u00e3o de queijo\",\"2021-11-04\",23.99],[\"p\\u00e3o de forma\",\"2021-11-12\",6.99],[\"bolo\",\"2021-11-12\",35.0],[\"p\\u00e3o franc\\u00eas\",\"2021-11-12\",10.99],[\"sandu\\u00edche\",\"2021-11-12\",12.99],[\"sandu\\u00edche\",\"2021-11-12\",12.99],[\"p\\u00e3o de queijo\",\"2021-11-12\",23.99],[\"bolo\",\"2021-11-09\",35.0],[\"p\\u00e3o franc\\u00eas\",\"2021-11-09\",10.99],[\"p\\u00e3o de queijo\",\"2021-11-09\",23.99],[\"sonho\",\"2021-11-09\",3.49],[\"p\\u00e3o de forma\",\"2021-11-08\",6.99],[\"bolo\",\"2021-11-08\",35.0],[\"p\\u00e3o franc\\u00eas\",\"2021-11-08\",10.99],[\"pastel\",\"2021-11-08\",4.99],[\"p\\u00e3o de forma\",\"2021-11-20\",6.99],[\"p\\u00e3o de forma\",\"2021-11-29\",6.99],[\"p\\u00e3o franc\\u00eas\",\"2021-11-27\",10.99]],\"hovertemplate\":\"Se\\u00e7\\u00e3o=Padaria<br>Nome do cliente=%{x}<br>Total da compra do produto=%{y}<br>Produto=%{customdata[0]}<br>Data=%{customdata[1]}<br>Pre\\u00e7o do produto=%{customdata[2]}<extra></extra>\",\"legendgroup\":\"Padaria\",\"marker\":{\"color\":\"#00cc96\",\"pattern\":{\"shape\":\"\"}},\"name\":\"Padaria\",\"offsetgroup\":\"Padaria\",\"orientation\":\"v\",\"showlegend\":true,\"textposition\":\"auto\",\"type\":\"bar\",\"x\":[\"Melissa da Concei\\u00e7\\u00e3o\",\"Melissa da Concei\\u00e7\\u00e3o\",\"Melissa da Concei\\u00e7\\u00e3o\",\"Melissa da Concei\\u00e7\\u00e3o\",\"Melissa da Concei\\u00e7\\u00e3o\",\"Melissa da Concei\\u00e7\\u00e3o\",\"Melissa da Concei\\u00e7\\u00e3o\",\"Isadora Rezende\",\"Isadora Rezende\",\"Isadora Rezende\",\"Isadora Rezende\",\"Isadora Rezende\",\"Isadora Rezende\",\"Isadora Rezende\",\"Isadora Rezende\",\"Isadora Rezende\",\"Isadora Rezende\",\"Isadora Rezende\",\"Ana Luiza Almeida\",\"Ana Luiza Almeida\",\"Ana Luiza Almeida\",\"Sofia Vieira\",\"Sofia Vieira\",\"Sofia Vieira\",\"Sofia Vieira\",\"Sofia Vieira\",\"Luigi Azevedo\",\"Luigi Azevedo\",\"Luigi Azevedo\",\"Luigi Azevedo\",\"Luigi Azevedo\",\"Luigi Azevedo\",\"Caio Lopes\",\"Caio Lopes\",\"Caio Lopes\",\"Caio Lopes\",\"Caio Lopes\",\"Caio Lopes\",\"Caio Lopes\",\"Caio Lopes\",\"Caio Lopes\",\"Luiza Cardoso\",\"Luiza Cardoso\",\"Luiza Cardoso\",\"Luiza Cardoso\",\"Luiza Cardoso\",\"Luiza Cardoso\",\"Luiza Cardoso\",\"Pedro Lucas da Paz\",\"Pedro Lucas da Paz\",\"Pedro Lucas da Paz\",\"Pedro Lucas da Paz\",\"Pedro Lucas da Paz\",\"Pedro Lucas da Paz\",\"Pedro Lucas da Paz\",\"Pedro Lucas da Paz\",\"Lucas Gabriel Rocha\",\"Lucas Gabriel Rocha\",\"Lucas Gabriel Rocha\",\"Lucas Gabriel Rocha\",\"Lucas Gabriel Rocha\",\"Lucas Gabriel Rocha\",\"Lucas Gabriel Rocha\",\"Lucas Gabriel Rocha\",\"Lucas Gabriel Rocha\",\"Vitor Hugo Caldeira\",\"Vitor Hugo Caldeira\"],\"xaxis\":\"x\",\"y\":[90.0,13.98,105.0,12.99,47.98,6.98,3.49,6.99,140.0,43.96,32.97,12.99,19.96,105.0,25.98,25.98,13.96,6.98,20.97,90.0,45.0,51.96,13.96,9.98,9.98,71.97,140.0,71.97,70.0,90.0,21.98,47.98,180.0,70.0,38.97,9.98,38.97,71.97,6.98,105.0,43.96,13.98,71.97,9.98,135.0,10.99,180.0,71.97,27.96,71.97,27.96,35.0,10.99,25.98,12.99,47.98,105.0,21.98,71.97,6.98,27.96,105.0,21.98,19.96,27.96,20.97,10.99],\"yaxis\":\"y\"},{\"alignmentgroup\":\"True\",\"customdata\":[[\"batata\",\"2021-11-04\",3.99],[\"uva\",\"2021-11-04\",7.47],[\"macarr\\u00e3o\",\"2021-11-01\",2.48],[\"morango\",\"2021-11-01\",7.99],[\"uva\",\"2021-11-01\",7.47],[\"feij\\u00e3o\",\"2021-11-08\",8.45],[\"arroz\",\"2021-11-08\",4.31],[\"macarr\\u00e3o\",\"2021-11-01\",2.48],[\"macarr\\u00e3o\",\"2021-11-01\",2.48],[\"couve-flor\",\"2021-11-01\",5.48],[\"morango\",\"2021-11-01\",7.99],[\"morango\",\"2021-11-01\",7.99],[\"melancia\",\"2021-11-01\",15.99],[\"macarr\\u00e3o\",\"2021-11-10\",2.48],[\"batata\",\"2021-11-10\",3.99],[\"melancia\",\"2021-11-10\",15.99],[\"melancia\",\"2021-11-10\",15.99],[\"uva\",\"2021-11-13\",7.47],[\"uva\",\"2021-11-13\",7.47],[\"berinjela\",\"2021-11-13\",11.99],[\"abobrinha\",\"2021-11-13\",3.49],[\"abobrinha\",\"2021-11-13\",3.49],[\"feij\\u00e3o\",\"2021-11-04\",8.45],[\"feij\\u00e3o\",\"2021-11-04\",8.45],[\"berinjela\",\"2021-11-04\",11.99],[\"abobrinha\",\"2021-11-04\",3.49],[\"macarr\\u00e3o\",\"2021-11-03\",2.48],[\"feij\\u00e3o\",\"2021-11-03\",8.45],[\"feij\\u00e3o\",\"2021-11-03\",8.45],[\"alface\",\"2021-11-03\",0.98],[\"arroz\",\"2021-11-03\",4.31],[\"couve-flor\",\"2021-11-10\",5.48],[\"batata\",\"2021-11-10\",3.99],[\"batata\",\"2021-11-10\",3.99],[\"arroz\",\"2021-11-10\",4.31],[\"couve-flor\",\"2021-11-06\",5.48],[\"melancia\",\"2021-11-06\",15.99],[\"arroz\",\"2021-11-06\",4.31],[\"macarr\\u00e3o\",\"2021-11-09\",2.48],[\"batata\",\"2021-11-09\",3.99],[\"morango\",\"2021-11-09\",7.99],[\"banana\",\"2021-11-09\",5.99],[\"couve-flor\",\"2021-11-08\",5.48],[\"berinjela\",\"2021-11-08\",11.99],[\"batata\",\"2021-11-09\",3.99],[\"alface\",\"2021-11-09\",0.98],[\"arroz\",\"2021-11-09\",4.31],[\"banana\",\"2021-11-09\",5.99],[\"couve-flor\",\"2021-11-11\",5.48],[\"morango\",\"2021-11-11\",7.99],[\"melancia\",\"2021-11-11\",15.99],[\"berinjela\",\"2021-11-11\",11.99],[\"banana\",\"2021-11-11\",5.99],[\"morango\",\"2021-11-13\",7.99],[\"uva\",\"2021-11-13\",7.47],[\"arroz\",\"2021-11-13\",4.31],[\"melancia\",\"2021-11-14\",15.99],[\"berinjela\",\"2021-11-14\",11.99],[\"banana\",\"2021-11-14\",5.99],[\"alface\",\"2021-11-29\",0.98],[\"uva\",\"2021-11-09\",7.47],[\"morango\",\"2021-11-01\",7.99],[\"morango\",\"2021-11-01\",7.99],[\"arroz\",\"2021-11-01\",4.31],[\"batata\",\"2021-11-09\",3.99],[\"uva\",\"2021-11-09\",7.47],[\"uva\",\"2021-11-09\",7.47],[\"feij\\u00e3o\",\"2021-11-09\",8.45],[\"alface\",\"2021-11-07\",0.98],[\"alface\",\"2021-11-07\",0.98],[\"batata\",\"2021-11-04\",3.99],[\"feij\\u00e3o\",\"2021-11-04\",8.45],[\"berinjela\",\"2021-11-04\",11.99],[\"arroz\",\"2021-11-04\",4.31],[\"arroz\",\"2021-11-04\",4.31],[\"morango\",\"2021-11-12\",7.99],[\"melancia\",\"2021-11-12\",15.99],[\"berinjela\",\"2021-11-12\",11.99],[\"abobrinha\",\"2021-11-12\",3.49],[\"abobrinha\",\"2021-11-12\",3.49],[\"macarr\\u00e3o\",\"2021-11-12\",2.48],[\"batata\",\"2021-11-12\",3.99],[\"morango\",\"2021-11-12\",7.99],[\"melancia\",\"2021-11-12\",15.99],[\"uva\",\"2021-11-12\",7.47],[\"banana\",\"2021-11-12\",5.99],[\"macarr\\u00e3o\",\"2021-11-09\",2.48],[\"uva\",\"2021-11-09\",7.47],[\"uva\",\"2021-11-09\",7.47],[\"berinjela\",\"2021-11-09\",11.99],[\"banana\",\"2021-11-09\",5.99],[\"couve-flor\",\"2021-11-08\",5.48],[\"couve-flor\",\"2021-11-08\",5.48],[\"melancia\",\"2021-11-08\",15.99],[\"abobrinha\",\"2021-11-08\",3.49],[\"abobrinha\",\"2021-11-08\",3.49],[\"abobrinha\",\"2021-11-08\",3.49],[\"macarr\\u00e3o\",\"2021-11-02\",2.48],[\"melancia\",\"2021-11-02\",15.99],[\"uva\",\"2021-11-02\",7.47],[\"banana\",\"2021-11-02\",5.99],[\"batata\",\"2021-11-22\",3.99]],\"hovertemplate\":\"Se\\u00e7\\u00e3o=Alimentos em Geral<br>Nome do cliente=%{x}<br>Total da compra do produto=%{y}<br>Produto=%{customdata[0]}<br>Data=%{customdata[1]}<br>Pre\\u00e7o do produto=%{customdata[2]}<extra></extra>\",\"legendgroup\":\"Alimentos em Geral\",\"marker\":{\"color\":\"#ab63fa\",\"pattern\":{\"shape\":\"\"}},\"name\":\"Alimentos em Geral\",\"offsetgroup\":\"Alimentos em Geral\",\"orientation\":\"v\",\"showlegend\":true,\"textposition\":\"auto\",\"type\":\"bar\",\"x\":[\"Melissa da Concei\\u00e7\\u00e3o\",\"Melissa da Concei\\u00e7\\u00e3o\",\"Melissa da Concei\\u00e7\\u00e3o\",\"Melissa da Concei\\u00e7\\u00e3o\",\"Melissa da Concei\\u00e7\\u00e3o\",\"Melissa da Concei\\u00e7\\u00e3o\",\"Melissa da Concei\\u00e7\\u00e3o\",\"Isadora Rezende\",\"Isadora Rezende\",\"Isadora Rezende\",\"Isadora Rezende\",\"Isadora Rezende\",\"Isadora Rezende\",\"Isadora Rezende\",\"Isadora Rezende\",\"Isadora Rezende\",\"Isadora Rezende\",\"Isadora Rezende\",\"Isadora Rezende\",\"Isadora Rezende\",\"Isadora Rezende\",\"Isadora Rezende\",\"Ana Luiza Almeida\",\"Ana Luiza Almeida\",\"Ana Luiza Almeida\",\"Ana Luiza Almeida\",\"Ana Luiza Almeida\",\"Ana Luiza Almeida\",\"Ana Luiza Almeida\",\"Ana Luiza Almeida\",\"Ana Luiza Almeida\",\"Sofia Vieira\",\"Sofia Vieira\",\"Sofia Vieira\",\"Sofia Vieira\",\"Sofia Vieira\",\"Sofia Vieira\",\"Sofia Vieira\",\"Luigi Azevedo\",\"Luigi Azevedo\",\"Luigi Azevedo\",\"Luigi Azevedo\",\"Luigi Azevedo\",\"Luigi Azevedo\",\"Luigi Azevedo\",\"Luigi Azevedo\",\"Luigi Azevedo\",\"Luigi Azevedo\",\"Caio Lopes\",\"Caio Lopes\",\"Caio Lopes\",\"Caio Lopes\",\"Caio Lopes\",\"Caio Lopes\",\"Caio Lopes\",\"Caio Lopes\",\"Caio Lopes\",\"Caio Lopes\",\"Caio Lopes\",\"Caio Lopes\",\"Luiza Cardoso\",\"Luiza Cardoso\",\"Luiza Cardoso\",\"Luiza Cardoso\",\"Luiza Cardoso\",\"Luiza Cardoso\",\"Luiza Cardoso\",\"Luiza Cardoso\",\"Luiza Cardoso\",\"Luiza Cardoso\",\"Pedro Lucas da Paz\",\"Pedro Lucas da Paz\",\"Pedro Lucas da Paz\",\"Pedro Lucas da Paz\",\"Pedro Lucas da Paz\",\"Pedro Lucas da Paz\",\"Pedro Lucas da Paz\",\"Pedro Lucas da Paz\",\"Pedro Lucas da Paz\",\"Pedro Lucas da Paz\",\"Pedro Lucas da Paz\",\"Pedro Lucas da Paz\",\"Pedro Lucas da Paz\",\"Pedro Lucas da Paz\",\"Pedro Lucas da Paz\",\"Pedro Lucas da Paz\",\"Lucas Gabriel Rocha\",\"Lucas Gabriel Rocha\",\"Lucas Gabriel Rocha\",\"Lucas Gabriel Rocha\",\"Lucas Gabriel Rocha\",\"Lucas Gabriel Rocha\",\"Lucas Gabriel Rocha\",\"Lucas Gabriel Rocha\",\"Lucas Gabriel Rocha\",\"Lucas Gabriel Rocha\",\"Lucas Gabriel Rocha\",\"Vitor Hugo Caldeira\",\"Vitor Hugo Caldeira\",\"Vitor Hugo Caldeira\",\"Vitor Hugo Caldeira\",\"Vitor Hugo Caldeira\"],\"xaxis\":\"x\",\"y\":[7.98,7.47,2.48,15.98,22.41,16.9,12.93,2.48,2.48,21.92,23.97,15.98,31.98,2.48,15.96,47.97,47.97,14.94,14.94,35.97,6.98,6.98,33.8,8.45,47.96,10.47,7.4399999999999995,8.45,33.8,1.96,8.62,10.96,7.98,15.96,8.62,21.92,15.99,8.62,2.48,15.96,23.97,11.98,5.48,11.99,7.98,0.98,17.24,17.97,5.48,23.97,47.97,11.99,5.99,23.97,7.47,12.93,31.98,35.97,17.97,0.98,7.47,23.97,23.97,4.31,11.97,14.94,14.94,16.9,0.98,0.98,7.98,25.349999999999998,35.97,4.31,17.24,31.96,47.97,11.99,6.98,13.96,4.96,11.97,15.98,15.99,14.94,5.99,7.4399999999999995,14.94,22.41,11.99,23.96,5.48,10.96,31.98,6.98,6.98,3.49,7.4399999999999995,63.96,22.41,5.99,15.96],\"yaxis\":\"y\"}],                        {\"barmode\":\"stack\",\"legend\":{\"title\":{\"text\":\"Se\\u00e7\\u00e3o\"},\"tracegroupgap\":0},\"margin\":{\"t\":60},\"template\":{\"data\":{\"bar\":[{\"error_x\":{\"color\":\"#2a3f5f\"},\"error_y\":{\"color\":\"#2a3f5f\"},\"marker\":{\"line\":{\"color\":\"#E5ECF6\",\"width\":0.5},\"pattern\":{\"fillmode\":\"overlay\",\"size\":10,\"solidity\":0.2}},\"type\":\"bar\"}],\"barpolar\":[{\"marker\":{\"line\":{\"color\":\"#E5ECF6\",\"width\":0.5},\"pattern\":{\"fillmode\":\"overlay\",\"size\":10,\"solidity\":0.2}},\"type\":\"barpolar\"}],\"carpet\":[{\"aaxis\":{\"endlinecolor\":\"#2a3f5f\",\"gridcolor\":\"white\",\"linecolor\":\"white\",\"minorgridcolor\":\"white\",\"startlinecolor\":\"#2a3f5f\"},\"baxis\":{\"endlinecolor\":\"#2a3f5f\",\"gridcolor\":\"white\",\"linecolor\":\"white\",\"minorgridcolor\":\"white\",\"startlinecolor\":\"#2a3f5f\"},\"type\":\"carpet\"}],\"choropleth\":[{\"colorbar\":{\"outlinewidth\":0,\"ticks\":\"\"},\"type\":\"choropleth\"}],\"contour\":[{\"colorbar\":{\"outlinewidth\":0,\"ticks\":\"\"},\"colorscale\":[[0.0,\"#0d0887\"],[0.1111111111111111,\"#46039f\"],[0.2222222222222222,\"#7201a8\"],[0.3333333333333333,\"#9c179e\"],[0.4444444444444444,\"#bd3786\"],[0.5555555555555556,\"#d8576b\"],[0.6666666666666666,\"#ed7953\"],[0.7777777777777778,\"#fb9f3a\"],[0.8888888888888888,\"#fdca26\"],[1.0,\"#f0f921\"]],\"type\":\"contour\"}],\"contourcarpet\":[{\"colorbar\":{\"outlinewidth\":0,\"ticks\":\"\"},\"type\":\"contourcarpet\"}],\"heatmap\":[{\"colorbar\":{\"outlinewidth\":0,\"ticks\":\"\"},\"colorscale\":[[0.0,\"#0d0887\"],[0.1111111111111111,\"#46039f\"],[0.2222222222222222,\"#7201a8\"],[0.3333333333333333,\"#9c179e\"],[0.4444444444444444,\"#bd3786\"],[0.5555555555555556,\"#d8576b\"],[0.6666666666666666,\"#ed7953\"],[0.7777777777777778,\"#fb9f3a\"],[0.8888888888888888,\"#fdca26\"],[1.0,\"#f0f921\"]],\"type\":\"heatmap\"}],\"heatmapgl\":[{\"colorbar\":{\"outlinewidth\":0,\"ticks\":\"\"},\"colorscale\":[[0.0,\"#0d0887\"],[0.1111111111111111,\"#46039f\"],[0.2222222222222222,\"#7201a8\"],[0.3333333333333333,\"#9c179e\"],[0.4444444444444444,\"#bd3786\"],[0.5555555555555556,\"#d8576b\"],[0.6666666666666666,\"#ed7953\"],[0.7777777777777778,\"#fb9f3a\"],[0.8888888888888888,\"#fdca26\"],[1.0,\"#f0f921\"]],\"type\":\"heatmapgl\"}],\"histogram\":[{\"marker\":{\"pattern\":{\"fillmode\":\"overlay\",\"size\":10,\"solidity\":0.2}},\"type\":\"histogram\"}],\"histogram2d\":[{\"colorbar\":{\"outlinewidth\":0,\"ticks\":\"\"},\"colorscale\":[[0.0,\"#0d0887\"],[0.1111111111111111,\"#46039f\"],[0.2222222222222222,\"#7201a8\"],[0.3333333333333333,\"#9c179e\"],[0.4444444444444444,\"#bd3786\"],[0.5555555555555556,\"#d8576b\"],[0.6666666666666666,\"#ed7953\"],[0.7777777777777778,\"#fb9f3a\"],[0.8888888888888888,\"#fdca26\"],[1.0,\"#f0f921\"]],\"type\":\"histogram2d\"}],\"histogram2dcontour\":[{\"colorbar\":{\"outlinewidth\":0,\"ticks\":\"\"},\"colorscale\":[[0.0,\"#0d0887\"],[0.1111111111111111,\"#46039f\"],[0.2222222222222222,\"#7201a8\"],[0.3333333333333333,\"#9c179e\"],[0.4444444444444444,\"#bd3786\"],[0.5555555555555556,\"#d8576b\"],[0.6666666666666666,\"#ed7953\"],[0.7777777777777778,\"#fb9f3a\"],[0.8888888888888888,\"#fdca26\"],[1.0,\"#f0f921\"]],\"type\":\"histogram2dcontour\"}],\"mesh3d\":[{\"colorbar\":{\"outlinewidth\":0,\"ticks\":\"\"},\"type\":\"mesh3d\"}],\"parcoords\":[{\"line\":{\"colorbar\":{\"outlinewidth\":0,\"ticks\":\"\"}},\"type\":\"parcoords\"}],\"pie\":[{\"automargin\":true,\"type\":\"pie\"}],\"scatter\":[{\"marker\":{\"colorbar\":{\"outlinewidth\":0,\"ticks\":\"\"}},\"type\":\"scatter\"}],\"scatter3d\":[{\"line\":{\"colorbar\":{\"outlinewidth\":0,\"ticks\":\"\"}},\"marker\":{\"colorbar\":{\"outlinewidth\":0,\"ticks\":\"\"}},\"type\":\"scatter3d\"}],\"scattercarpet\":[{\"marker\":{\"colorbar\":{\"outlinewidth\":0,\"ticks\":\"\"}},\"type\":\"scattercarpet\"}],\"scattergeo\":[{\"marker\":{\"colorbar\":{\"outlinewidth\":0,\"ticks\":\"\"}},\"type\":\"scattergeo\"}],\"scattergl\":[{\"marker\":{\"colorbar\":{\"outlinewidth\":0,\"ticks\":\"\"}},\"type\":\"scattergl\"}],\"scattermapbox\":[{\"marker\":{\"colorbar\":{\"outlinewidth\":0,\"ticks\":\"\"}},\"type\":\"scattermapbox\"}],\"scatterpolar\":[{\"marker\":{\"colorbar\":{\"outlinewidth\":0,\"ticks\":\"\"}},\"type\":\"scatterpolar\"}],\"scatterpolargl\":[{\"marker\":{\"colorbar\":{\"outlinewidth\":0,\"ticks\":\"\"}},\"type\":\"scatterpolargl\"}],\"scatterternary\":[{\"marker\":{\"colorbar\":{\"outlinewidth\":0,\"ticks\":\"\"}},\"type\":\"scatterternary\"}],\"surface\":[{\"colorbar\":{\"outlinewidth\":0,\"ticks\":\"\"},\"colorscale\":[[0.0,\"#0d0887\"],[0.1111111111111111,\"#46039f\"],[0.2222222222222222,\"#7201a8\"],[0.3333333333333333,\"#9c179e\"],[0.4444444444444444,\"#bd3786\"],[0.5555555555555556,\"#d8576b\"],[0.6666666666666666,\"#ed7953\"],[0.7777777777777778,\"#fb9f3a\"],[0.8888888888888888,\"#fdca26\"],[1.0,\"#f0f921\"]],\"type\":\"surface\"}],\"table\":[{\"cells\":{\"fill\":{\"color\":\"#EBF0F8\"},\"line\":{\"color\":\"white\"}},\"header\":{\"fill\":{\"color\":\"#C8D4E3\"},\"line\":{\"color\":\"white\"}},\"type\":\"table\"}]},\"layout\":{\"annotationdefaults\":{\"arrowcolor\":\"#2a3f5f\",\"arrowhead\":0,\"arrowwidth\":1},\"autotypenumbers\":\"strict\",\"coloraxis\":{\"colorbar\":{\"outlinewidth\":0,\"ticks\":\"\"}},\"colorscale\":{\"diverging\":[[0,\"#8e0152\"],[0.1,\"#c51b7d\"],[0.2,\"#de77ae\"],[0.3,\"#f1b6da\"],[0.4,\"#fde0ef\"],[0.5,\"#f7f7f7\"],[0.6,\"#e6f5d0\"],[0.7,\"#b8e186\"],[0.8,\"#7fbc41\"],[0.9,\"#4d9221\"],[1,\"#276419\"]],\"sequential\":[[0.0,\"#0d0887\"],[0.1111111111111111,\"#46039f\"],[0.2222222222222222,\"#7201a8\"],[0.3333333333333333,\"#9c179e\"],[0.4444444444444444,\"#bd3786\"],[0.5555555555555556,\"#d8576b\"],[0.6666666666666666,\"#ed7953\"],[0.7777777777777778,\"#fb9f3a\"],[0.8888888888888888,\"#fdca26\"],[1.0,\"#f0f921\"]],\"sequentialminus\":[[0.0,\"#0d0887\"],[0.1111111111111111,\"#46039f\"],[0.2222222222222222,\"#7201a8\"],[0.3333333333333333,\"#9c179e\"],[0.4444444444444444,\"#bd3786\"],[0.5555555555555556,\"#d8576b\"],[0.6666666666666666,\"#ed7953\"],[0.7777777777777778,\"#fb9f3a\"],[0.8888888888888888,\"#fdca26\"],[1.0,\"#f0f921\"]]},\"colorway\":[\"#636efa\",\"#EF553B\",\"#00cc96\",\"#ab63fa\",\"#FFA15A\",\"#19d3f3\",\"#FF6692\",\"#B6E880\",\"#FF97FF\",\"#FECB52\"],\"font\":{\"color\":\"#2a3f5f\"},\"geo\":{\"bgcolor\":\"white\",\"lakecolor\":\"white\",\"landcolor\":\"#E5ECF6\",\"showlakes\":true,\"showland\":true,\"subunitcolor\":\"white\"},\"hoverlabel\":{\"align\":\"left\"},\"hovermode\":\"closest\",\"mapbox\":{\"style\":\"light\"},\"paper_bgcolor\":\"white\",\"plot_bgcolor\":\"#E5ECF6\",\"polar\":{\"angularaxis\":{\"gridcolor\":\"white\",\"linecolor\":\"white\",\"ticks\":\"\"},\"bgcolor\":\"#E5ECF6\",\"radialaxis\":{\"gridcolor\":\"white\",\"linecolor\":\"white\",\"ticks\":\"\"}},\"scene\":{\"xaxis\":{\"backgroundcolor\":\"#E5ECF6\",\"gridcolor\":\"white\",\"gridwidth\":2,\"linecolor\":\"white\",\"showbackground\":true,\"ticks\":\"\",\"zerolinecolor\":\"white\"},\"yaxis\":{\"backgroundcolor\":\"#E5ECF6\",\"gridcolor\":\"white\",\"gridwidth\":2,\"linecolor\":\"white\",\"showbackground\":true,\"ticks\":\"\",\"zerolinecolor\":\"white\"},\"zaxis\":{\"backgroundcolor\":\"#E5ECF6\",\"gridcolor\":\"white\",\"gridwidth\":2,\"linecolor\":\"white\",\"showbackground\":true,\"ticks\":\"\",\"zerolinecolor\":\"white\"}},\"shapedefaults\":{\"line\":{\"color\":\"#2a3f5f\"}},\"ternary\":{\"aaxis\":{\"gridcolor\":\"white\",\"linecolor\":\"white\",\"ticks\":\"\"},\"baxis\":{\"gridcolor\":\"white\",\"linecolor\":\"white\",\"ticks\":\"\"},\"bgcolor\":\"#E5ECF6\",\"caxis\":{\"gridcolor\":\"white\",\"linecolor\":\"white\",\"ticks\":\"\"}},\"title\":{\"x\":0.05},\"xaxis\":{\"automargin\":true,\"gridcolor\":\"white\",\"linecolor\":\"white\",\"ticks\":\"\",\"title\":{\"standoff\":15},\"zerolinecolor\":\"white\",\"zerolinewidth\":2},\"yaxis\":{\"automargin\":true,\"gridcolor\":\"white\",\"linecolor\":\"white\",\"ticks\":\"\",\"title\":{\"standoff\":15},\"zerolinecolor\":\"white\",\"zerolinewidth\":2}}},\"title\":{\"text\":\"Os 10 clientes que mais gastam\"},\"xaxis\":{\"anchor\":\"y\",\"domain\":[0.0,1.0],\"title\":{\"text\":\"Nome do cliente\"}},\"yaxis\":{\"anchor\":\"x\",\"domain\":[0.0,1.0],\"title\":{\"text\":\"Total da compra do produto\"}}},                        {\"responsive\": true}                    ).then(function(){\n",
       "                            \n",
       "var gd = document.getElementById('ca937546-9e3d-4f58-a1c9-623279aeeaa6');\n",
       "var x = new MutationObserver(function (mutations, observer) {{\n",
       "        var display = window.getComputedStyle(gd).display;\n",
       "        if (!display || display === 'none') {{\n",
       "            console.log([gd, 'removed!']);\n",
       "            Plotly.purge(gd);\n",
       "            observer.disconnect();\n",
       "        }}\n",
       "}});\n",
       "\n",
       "// Listen for the removal of the full notebook cells\n",
       "var notebookContainer = gd.closest('#notebook-container');\n",
       "if (notebookContainer) {{\n",
       "    x.observe(notebookContainer, {childList: true});\n",
       "}}\n",
       "\n",
       "// Listen for the clearing of the current output cell\n",
       "var outputEl = gd.closest('.output');\n",
       "if (outputEl) {{\n",
       "    x.observe(outputEl, {childList: true});\n",
       "}}\n",
       "\n",
       "                        })                };                });            </script>        </div>"
      ]
     },
     "metadata": {},
     "output_type": "display_data"
    }
   ],
   "source": [
    "fig_total_cliente = px.bar(venda_produtos_cliente_pt, x=\"nome_cliente\", y=\"total_preco\", color=\"secao\", barmode = 'stack', hover_data=['nome', 'data', 'preco'],\n",
    "             labels={\"total_preco\": \"Total da compra do produto\", \"nome_cliente\": \"Nome do cliente\", \"nome\":\"Produto\", \"data\":\"Data\", \"preco\":\"Preço do produto\", \"secao\":\"Seção\"})\n",
    "fig_total_cliente.update_layout(title = 'Os 10 clientes que mais gastam')\n",
    "fig_total_cliente.show()"
   ]
  },
  {
   "cell_type": "code",
   "execution_count": null,
   "id": "9cb92bb7",
   "metadata": {},
   "outputs": [],
   "source": []
  },
  {
   "cell_type": "code",
   "execution_count": null,
   "id": "edb1fdfb",
   "metadata": {},
   "outputs": [],
   "source": []
  },
  {
   "cell_type": "markdown",
   "id": "fda6e07d",
   "metadata": {},
   "source": [
    "## Análise tempo"
   ]
  },
  {
   "cell_type": "code",
   "execution_count": 312,
   "id": "1fb25e01",
   "metadata": {},
   "outputs": [
    {
     "data": {
      "application/vnd.plotly.v1+json": {
       "config": {
        "plotlyServerURL": "https://plot.ly"
       },
       "data": [
        {
         "hovertemplate": "Data=%{x}<br>Total gasto pelo clientes=%{y}<extra></extra>",
         "legendgroup": "",
         "line": {
          "color": "#636efa",
          "dash": "solid"
         },
         "marker": {
          "symbol": "circle"
         },
         "mode": "lines",
         "name": "",
         "orientation": "v",
         "showlegend": false,
         "type": "scatter",
         "x": [
          "2021-11-01",
          "2021-11-02",
          "2021-11-03",
          "2021-11-04",
          "2021-11-06",
          "2021-11-07",
          "2021-11-08",
          "2021-11-09",
          "2021-11-10",
          "2021-11-11",
          "2021-11-12",
          "2021-11-13",
          "2021-11-14",
          "2021-11-20",
          "2021-11-21",
          "2021-11-22",
          "2021-11-23",
          "2021-11-24",
          "2021-11-25",
          "2021-11-27",
          "2021-11-28",
          "2021-11-29",
          "2021-11-30"
         ],
         "xaxis": "x",
         "y": [
          1890.8800000000008,
          1631.69,
          442.36999999999995,
          3215.759999999999,
          1185.0400000000002,
          393.26,
          2288.2200000000003,
          2559.2799999999993,
          1494.4200000000003,
          646.84,
          760.3800000000001,
          582.11,
          696.76,
          71.92,
          23.99,
          22.94,
          2.7,
          20.1,
          63.98,
          10.99,
          317.67,
          21.95,
          95.34
         ],
         "yaxis": "y"
        }
       ],
       "layout": {
        "annotations": [
         {
          "arrowhead": 3,
          "ay": -40,
          "font": {
           "size": 11
          },
          "showarrow": true,
          "text": "<b>Maior pico de vendas<br> em novembro</b>",
          "x": "2021-11-08",
          "y": 1016.66
         }
        ],
        "height": 500,
        "legend": {
         "tracegroupgap": 0
        },
        "margin": {
         "t": 60
        },
        "template": {
         "data": {
          "bar": [
           {
            "error_x": {
             "color": "#2a3f5f"
            },
            "error_y": {
             "color": "#2a3f5f"
            },
            "marker": {
             "line": {
              "color": "#E5ECF6",
              "width": 0.5
             },
             "pattern": {
              "fillmode": "overlay",
              "size": 10,
              "solidity": 0.2
             }
            },
            "type": "bar"
           }
          ],
          "barpolar": [
           {
            "marker": {
             "line": {
              "color": "#E5ECF6",
              "width": 0.5
             },
             "pattern": {
              "fillmode": "overlay",
              "size": 10,
              "solidity": 0.2
             }
            },
            "type": "barpolar"
           }
          ],
          "carpet": [
           {
            "aaxis": {
             "endlinecolor": "#2a3f5f",
             "gridcolor": "white",
             "linecolor": "white",
             "minorgridcolor": "white",
             "startlinecolor": "#2a3f5f"
            },
            "baxis": {
             "endlinecolor": "#2a3f5f",
             "gridcolor": "white",
             "linecolor": "white",
             "minorgridcolor": "white",
             "startlinecolor": "#2a3f5f"
            },
            "type": "carpet"
           }
          ],
          "choropleth": [
           {
            "colorbar": {
             "outlinewidth": 0,
             "ticks": ""
            },
            "type": "choropleth"
           }
          ],
          "contour": [
           {
            "colorbar": {
             "outlinewidth": 0,
             "ticks": ""
            },
            "colorscale": [
             [
              0,
              "#0d0887"
             ],
             [
              0.1111111111111111,
              "#46039f"
             ],
             [
              0.2222222222222222,
              "#7201a8"
             ],
             [
              0.3333333333333333,
              "#9c179e"
             ],
             [
              0.4444444444444444,
              "#bd3786"
             ],
             [
              0.5555555555555556,
              "#d8576b"
             ],
             [
              0.6666666666666666,
              "#ed7953"
             ],
             [
              0.7777777777777778,
              "#fb9f3a"
             ],
             [
              0.8888888888888888,
              "#fdca26"
             ],
             [
              1,
              "#f0f921"
             ]
            ],
            "type": "contour"
           }
          ],
          "contourcarpet": [
           {
            "colorbar": {
             "outlinewidth": 0,
             "ticks": ""
            },
            "type": "contourcarpet"
           }
          ],
          "heatmap": [
           {
            "colorbar": {
             "outlinewidth": 0,
             "ticks": ""
            },
            "colorscale": [
             [
              0,
              "#0d0887"
             ],
             [
              0.1111111111111111,
              "#46039f"
             ],
             [
              0.2222222222222222,
              "#7201a8"
             ],
             [
              0.3333333333333333,
              "#9c179e"
             ],
             [
              0.4444444444444444,
              "#bd3786"
             ],
             [
              0.5555555555555556,
              "#d8576b"
             ],
             [
              0.6666666666666666,
              "#ed7953"
             ],
             [
              0.7777777777777778,
              "#fb9f3a"
             ],
             [
              0.8888888888888888,
              "#fdca26"
             ],
             [
              1,
              "#f0f921"
             ]
            ],
            "type": "heatmap"
           }
          ],
          "heatmapgl": [
           {
            "colorbar": {
             "outlinewidth": 0,
             "ticks": ""
            },
            "colorscale": [
             [
              0,
              "#0d0887"
             ],
             [
              0.1111111111111111,
              "#46039f"
             ],
             [
              0.2222222222222222,
              "#7201a8"
             ],
             [
              0.3333333333333333,
              "#9c179e"
             ],
             [
              0.4444444444444444,
              "#bd3786"
             ],
             [
              0.5555555555555556,
              "#d8576b"
             ],
             [
              0.6666666666666666,
              "#ed7953"
             ],
             [
              0.7777777777777778,
              "#fb9f3a"
             ],
             [
              0.8888888888888888,
              "#fdca26"
             ],
             [
              1,
              "#f0f921"
             ]
            ],
            "type": "heatmapgl"
           }
          ],
          "histogram": [
           {
            "marker": {
             "pattern": {
              "fillmode": "overlay",
              "size": 10,
              "solidity": 0.2
             }
            },
            "type": "histogram"
           }
          ],
          "histogram2d": [
           {
            "colorbar": {
             "outlinewidth": 0,
             "ticks": ""
            },
            "colorscale": [
             [
              0,
              "#0d0887"
             ],
             [
              0.1111111111111111,
              "#46039f"
             ],
             [
              0.2222222222222222,
              "#7201a8"
             ],
             [
              0.3333333333333333,
              "#9c179e"
             ],
             [
              0.4444444444444444,
              "#bd3786"
             ],
             [
              0.5555555555555556,
              "#d8576b"
             ],
             [
              0.6666666666666666,
              "#ed7953"
             ],
             [
              0.7777777777777778,
              "#fb9f3a"
             ],
             [
              0.8888888888888888,
              "#fdca26"
             ],
             [
              1,
              "#f0f921"
             ]
            ],
            "type": "histogram2d"
           }
          ],
          "histogram2dcontour": [
           {
            "colorbar": {
             "outlinewidth": 0,
             "ticks": ""
            },
            "colorscale": [
             [
              0,
              "#0d0887"
             ],
             [
              0.1111111111111111,
              "#46039f"
             ],
             [
              0.2222222222222222,
              "#7201a8"
             ],
             [
              0.3333333333333333,
              "#9c179e"
             ],
             [
              0.4444444444444444,
              "#bd3786"
             ],
             [
              0.5555555555555556,
              "#d8576b"
             ],
             [
              0.6666666666666666,
              "#ed7953"
             ],
             [
              0.7777777777777778,
              "#fb9f3a"
             ],
             [
              0.8888888888888888,
              "#fdca26"
             ],
             [
              1,
              "#f0f921"
             ]
            ],
            "type": "histogram2dcontour"
           }
          ],
          "mesh3d": [
           {
            "colorbar": {
             "outlinewidth": 0,
             "ticks": ""
            },
            "type": "mesh3d"
           }
          ],
          "parcoords": [
           {
            "line": {
             "colorbar": {
              "outlinewidth": 0,
              "ticks": ""
             }
            },
            "type": "parcoords"
           }
          ],
          "pie": [
           {
            "automargin": true,
            "type": "pie"
           }
          ],
          "scatter": [
           {
            "marker": {
             "colorbar": {
              "outlinewidth": 0,
              "ticks": ""
             }
            },
            "type": "scatter"
           }
          ],
          "scatter3d": [
           {
            "line": {
             "colorbar": {
              "outlinewidth": 0,
              "ticks": ""
             }
            },
            "marker": {
             "colorbar": {
              "outlinewidth": 0,
              "ticks": ""
             }
            },
            "type": "scatter3d"
           }
          ],
          "scattercarpet": [
           {
            "marker": {
             "colorbar": {
              "outlinewidth": 0,
              "ticks": ""
             }
            },
            "type": "scattercarpet"
           }
          ],
          "scattergeo": [
           {
            "marker": {
             "colorbar": {
              "outlinewidth": 0,
              "ticks": ""
             }
            },
            "type": "scattergeo"
           }
          ],
          "scattergl": [
           {
            "marker": {
             "colorbar": {
              "outlinewidth": 0,
              "ticks": ""
             }
            },
            "type": "scattergl"
           }
          ],
          "scattermapbox": [
           {
            "marker": {
             "colorbar": {
              "outlinewidth": 0,
              "ticks": ""
             }
            },
            "type": "scattermapbox"
           }
          ],
          "scatterpolar": [
           {
            "marker": {
             "colorbar": {
              "outlinewidth": 0,
              "ticks": ""
             }
            },
            "type": "scatterpolar"
           }
          ],
          "scatterpolargl": [
           {
            "marker": {
             "colorbar": {
              "outlinewidth": 0,
              "ticks": ""
             }
            },
            "type": "scatterpolargl"
           }
          ],
          "scatterternary": [
           {
            "marker": {
             "colorbar": {
              "outlinewidth": 0,
              "ticks": ""
             }
            },
            "type": "scatterternary"
           }
          ],
          "surface": [
           {
            "colorbar": {
             "outlinewidth": 0,
             "ticks": ""
            },
            "colorscale": [
             [
              0,
              "#0d0887"
             ],
             [
              0.1111111111111111,
              "#46039f"
             ],
             [
              0.2222222222222222,
              "#7201a8"
             ],
             [
              0.3333333333333333,
              "#9c179e"
             ],
             [
              0.4444444444444444,
              "#bd3786"
             ],
             [
              0.5555555555555556,
              "#d8576b"
             ],
             [
              0.6666666666666666,
              "#ed7953"
             ],
             [
              0.7777777777777778,
              "#fb9f3a"
             ],
             [
              0.8888888888888888,
              "#fdca26"
             ],
             [
              1,
              "#f0f921"
             ]
            ],
            "type": "surface"
           }
          ],
          "table": [
           {
            "cells": {
             "fill": {
              "color": "#EBF0F8"
             },
             "line": {
              "color": "white"
             }
            },
            "header": {
             "fill": {
              "color": "#C8D4E3"
             },
             "line": {
              "color": "white"
             }
            },
            "type": "table"
           }
          ]
         },
         "layout": {
          "annotationdefaults": {
           "arrowcolor": "#2a3f5f",
           "arrowhead": 0,
           "arrowwidth": 1
          },
          "autotypenumbers": "strict",
          "coloraxis": {
           "colorbar": {
            "outlinewidth": 0,
            "ticks": ""
           }
          },
          "colorscale": {
           "diverging": [
            [
             0,
             "#8e0152"
            ],
            [
             0.1,
             "#c51b7d"
            ],
            [
             0.2,
             "#de77ae"
            ],
            [
             0.3,
             "#f1b6da"
            ],
            [
             0.4,
             "#fde0ef"
            ],
            [
             0.5,
             "#f7f7f7"
            ],
            [
             0.6,
             "#e6f5d0"
            ],
            [
             0.7,
             "#b8e186"
            ],
            [
             0.8,
             "#7fbc41"
            ],
            [
             0.9,
             "#4d9221"
            ],
            [
             1,
             "#276419"
            ]
           ],
           "sequential": [
            [
             0,
             "#0d0887"
            ],
            [
             0.1111111111111111,
             "#46039f"
            ],
            [
             0.2222222222222222,
             "#7201a8"
            ],
            [
             0.3333333333333333,
             "#9c179e"
            ],
            [
             0.4444444444444444,
             "#bd3786"
            ],
            [
             0.5555555555555556,
             "#d8576b"
            ],
            [
             0.6666666666666666,
             "#ed7953"
            ],
            [
             0.7777777777777778,
             "#fb9f3a"
            ],
            [
             0.8888888888888888,
             "#fdca26"
            ],
            [
             1,
             "#f0f921"
            ]
           ],
           "sequentialminus": [
            [
             0,
             "#0d0887"
            ],
            [
             0.1111111111111111,
             "#46039f"
            ],
            [
             0.2222222222222222,
             "#7201a8"
            ],
            [
             0.3333333333333333,
             "#9c179e"
            ],
            [
             0.4444444444444444,
             "#bd3786"
            ],
            [
             0.5555555555555556,
             "#d8576b"
            ],
            [
             0.6666666666666666,
             "#ed7953"
            ],
            [
             0.7777777777777778,
             "#fb9f3a"
            ],
            [
             0.8888888888888888,
             "#fdca26"
            ],
            [
             1,
             "#f0f921"
            ]
           ]
          },
          "colorway": [
           "#636efa",
           "#EF553B",
           "#00cc96",
           "#ab63fa",
           "#FFA15A",
           "#19d3f3",
           "#FF6692",
           "#B6E880",
           "#FF97FF",
           "#FECB52"
          ],
          "font": {
           "color": "#2a3f5f"
          },
          "geo": {
           "bgcolor": "white",
           "lakecolor": "white",
           "landcolor": "#E5ECF6",
           "showlakes": true,
           "showland": true,
           "subunitcolor": "white"
          },
          "hoverlabel": {
           "align": "left"
          },
          "hovermode": "closest",
          "mapbox": {
           "style": "light"
          },
          "paper_bgcolor": "white",
          "plot_bgcolor": "#E5ECF6",
          "polar": {
           "angularaxis": {
            "gridcolor": "white",
            "linecolor": "white",
            "ticks": ""
           },
           "bgcolor": "#E5ECF6",
           "radialaxis": {
            "gridcolor": "white",
            "linecolor": "white",
            "ticks": ""
           }
          },
          "scene": {
           "xaxis": {
            "backgroundcolor": "#E5ECF6",
            "gridcolor": "white",
            "gridwidth": 2,
            "linecolor": "white",
            "showbackground": true,
            "ticks": "",
            "zerolinecolor": "white"
           },
           "yaxis": {
            "backgroundcolor": "#E5ECF6",
            "gridcolor": "white",
            "gridwidth": 2,
            "linecolor": "white",
            "showbackground": true,
            "ticks": "",
            "zerolinecolor": "white"
           },
           "zaxis": {
            "backgroundcolor": "#E5ECF6",
            "gridcolor": "white",
            "gridwidth": 2,
            "linecolor": "white",
            "showbackground": true,
            "ticks": "",
            "zerolinecolor": "white"
           }
          },
          "shapedefaults": {
           "line": {
            "color": "#2a3f5f"
           }
          },
          "ternary": {
           "aaxis": {
            "gridcolor": "white",
            "linecolor": "white",
            "ticks": ""
           },
           "baxis": {
            "gridcolor": "white",
            "linecolor": "white",
            "ticks": ""
           },
           "bgcolor": "#E5ECF6",
           "caxis": {
            "gridcolor": "white",
            "linecolor": "white",
            "ticks": ""
           }
          },
          "title": {
           "x": 0.05
          },
          "xaxis": {
           "automargin": true,
           "gridcolor": "white",
           "linecolor": "white",
           "ticks": "",
           "title": {
            "standoff": 15
           },
           "zerolinecolor": "white",
           "zerolinewidth": 2
          },
          "yaxis": {
           "automargin": true,
           "gridcolor": "white",
           "linecolor": "white",
           "ticks": "",
           "title": {
            "standoff": 15
           },
           "zerolinecolor": "white",
           "zerolinewidth": 2
          }
         }
        },
        "width": 800,
        "xaxis": {
         "anchor": "y",
         "domain": [
          0,
          1
         ],
         "title": {
          "text": "Data"
         }
        },
        "yaxis": {
         "anchor": "x",
         "domain": [
          0,
          1
         ],
         "title": {
          "text": "Total gasto pelo clientes"
         }
        }
       }
      },
      "text/html": [
       "<div>                            <div id=\"1c8f4dfb-199b-4d8f-83b9-a7311db78aa7\" class=\"plotly-graph-div\" style=\"height:500px; width:800px;\"></div>            <script type=\"text/javascript\">                require([\"plotly\"], function(Plotly) {                    window.PLOTLYENV=window.PLOTLYENV || {};                                    if (document.getElementById(\"1c8f4dfb-199b-4d8f-83b9-a7311db78aa7\")) {                    Plotly.newPlot(                        \"1c8f4dfb-199b-4d8f-83b9-a7311db78aa7\",                        [{\"hovertemplate\":\"Data=%{x}<br>Total gasto pelo clientes=%{y}<extra></extra>\",\"legendgroup\":\"\",\"line\":{\"color\":\"#636efa\",\"dash\":\"solid\"},\"marker\":{\"symbol\":\"circle\"},\"mode\":\"lines\",\"name\":\"\",\"orientation\":\"v\",\"showlegend\":false,\"type\":\"scatter\",\"x\":[\"2021-11-01\",\"2021-11-02\",\"2021-11-03\",\"2021-11-04\",\"2021-11-06\",\"2021-11-07\",\"2021-11-08\",\"2021-11-09\",\"2021-11-10\",\"2021-11-11\",\"2021-11-12\",\"2021-11-13\",\"2021-11-14\",\"2021-11-20\",\"2021-11-21\",\"2021-11-22\",\"2021-11-23\",\"2021-11-24\",\"2021-11-25\",\"2021-11-27\",\"2021-11-28\",\"2021-11-29\",\"2021-11-30\"],\"xaxis\":\"x\",\"y\":[1890.8800000000008,1631.69,442.36999999999995,3215.759999999999,1185.0400000000002,393.26,2288.2200000000003,2559.2799999999993,1494.4200000000003,646.84,760.3800000000001,582.11,696.76,71.92,23.99,22.94,2.7,20.1,63.98,10.99,317.67,21.95,95.34],\"yaxis\":\"y\"}],                        {\"annotations\":[{\"arrowhead\":3,\"ay\":-40,\"font\":{\"size\":11},\"showarrow\":true,\"text\":\"<b>Maior pico de vendas<br> em novembro</b>\",\"x\":\"2021-11-08\",\"y\":1016.66}],\"height\":500,\"legend\":{\"tracegroupgap\":0},\"margin\":{\"t\":60},\"template\":{\"data\":{\"bar\":[{\"error_x\":{\"color\":\"#2a3f5f\"},\"error_y\":{\"color\":\"#2a3f5f\"},\"marker\":{\"line\":{\"color\":\"#E5ECF6\",\"width\":0.5},\"pattern\":{\"fillmode\":\"overlay\",\"size\":10,\"solidity\":0.2}},\"type\":\"bar\"}],\"barpolar\":[{\"marker\":{\"line\":{\"color\":\"#E5ECF6\",\"width\":0.5},\"pattern\":{\"fillmode\":\"overlay\",\"size\":10,\"solidity\":0.2}},\"type\":\"barpolar\"}],\"carpet\":[{\"aaxis\":{\"endlinecolor\":\"#2a3f5f\",\"gridcolor\":\"white\",\"linecolor\":\"white\",\"minorgridcolor\":\"white\",\"startlinecolor\":\"#2a3f5f\"},\"baxis\":{\"endlinecolor\":\"#2a3f5f\",\"gridcolor\":\"white\",\"linecolor\":\"white\",\"minorgridcolor\":\"white\",\"startlinecolor\":\"#2a3f5f\"},\"type\":\"carpet\"}],\"choropleth\":[{\"colorbar\":{\"outlinewidth\":0,\"ticks\":\"\"},\"type\":\"choropleth\"}],\"contour\":[{\"colorbar\":{\"outlinewidth\":0,\"ticks\":\"\"},\"colorscale\":[[0.0,\"#0d0887\"],[0.1111111111111111,\"#46039f\"],[0.2222222222222222,\"#7201a8\"],[0.3333333333333333,\"#9c179e\"],[0.4444444444444444,\"#bd3786\"],[0.5555555555555556,\"#d8576b\"],[0.6666666666666666,\"#ed7953\"],[0.7777777777777778,\"#fb9f3a\"],[0.8888888888888888,\"#fdca26\"],[1.0,\"#f0f921\"]],\"type\":\"contour\"}],\"contourcarpet\":[{\"colorbar\":{\"outlinewidth\":0,\"ticks\":\"\"},\"type\":\"contourcarpet\"}],\"heatmap\":[{\"colorbar\":{\"outlinewidth\":0,\"ticks\":\"\"},\"colorscale\":[[0.0,\"#0d0887\"],[0.1111111111111111,\"#46039f\"],[0.2222222222222222,\"#7201a8\"],[0.3333333333333333,\"#9c179e\"],[0.4444444444444444,\"#bd3786\"],[0.5555555555555556,\"#d8576b\"],[0.6666666666666666,\"#ed7953\"],[0.7777777777777778,\"#fb9f3a\"],[0.8888888888888888,\"#fdca26\"],[1.0,\"#f0f921\"]],\"type\":\"heatmap\"}],\"heatmapgl\":[{\"colorbar\":{\"outlinewidth\":0,\"ticks\":\"\"},\"colorscale\":[[0.0,\"#0d0887\"],[0.1111111111111111,\"#46039f\"],[0.2222222222222222,\"#7201a8\"],[0.3333333333333333,\"#9c179e\"],[0.4444444444444444,\"#bd3786\"],[0.5555555555555556,\"#d8576b\"],[0.6666666666666666,\"#ed7953\"],[0.7777777777777778,\"#fb9f3a\"],[0.8888888888888888,\"#fdca26\"],[1.0,\"#f0f921\"]],\"type\":\"heatmapgl\"}],\"histogram\":[{\"marker\":{\"pattern\":{\"fillmode\":\"overlay\",\"size\":10,\"solidity\":0.2}},\"type\":\"histogram\"}],\"histogram2d\":[{\"colorbar\":{\"outlinewidth\":0,\"ticks\":\"\"},\"colorscale\":[[0.0,\"#0d0887\"],[0.1111111111111111,\"#46039f\"],[0.2222222222222222,\"#7201a8\"],[0.3333333333333333,\"#9c179e\"],[0.4444444444444444,\"#bd3786\"],[0.5555555555555556,\"#d8576b\"],[0.6666666666666666,\"#ed7953\"],[0.7777777777777778,\"#fb9f3a\"],[0.8888888888888888,\"#fdca26\"],[1.0,\"#f0f921\"]],\"type\":\"histogram2d\"}],\"histogram2dcontour\":[{\"colorbar\":{\"outlinewidth\":0,\"ticks\":\"\"},\"colorscale\":[[0.0,\"#0d0887\"],[0.1111111111111111,\"#46039f\"],[0.2222222222222222,\"#7201a8\"],[0.3333333333333333,\"#9c179e\"],[0.4444444444444444,\"#bd3786\"],[0.5555555555555556,\"#d8576b\"],[0.6666666666666666,\"#ed7953\"],[0.7777777777777778,\"#fb9f3a\"],[0.8888888888888888,\"#fdca26\"],[1.0,\"#f0f921\"]],\"type\":\"histogram2dcontour\"}],\"mesh3d\":[{\"colorbar\":{\"outlinewidth\":0,\"ticks\":\"\"},\"type\":\"mesh3d\"}],\"parcoords\":[{\"line\":{\"colorbar\":{\"outlinewidth\":0,\"ticks\":\"\"}},\"type\":\"parcoords\"}],\"pie\":[{\"automargin\":true,\"type\":\"pie\"}],\"scatter\":[{\"marker\":{\"colorbar\":{\"outlinewidth\":0,\"ticks\":\"\"}},\"type\":\"scatter\"}],\"scatter3d\":[{\"line\":{\"colorbar\":{\"outlinewidth\":0,\"ticks\":\"\"}},\"marker\":{\"colorbar\":{\"outlinewidth\":0,\"ticks\":\"\"}},\"type\":\"scatter3d\"}],\"scattercarpet\":[{\"marker\":{\"colorbar\":{\"outlinewidth\":0,\"ticks\":\"\"}},\"type\":\"scattercarpet\"}],\"scattergeo\":[{\"marker\":{\"colorbar\":{\"outlinewidth\":0,\"ticks\":\"\"}},\"type\":\"scattergeo\"}],\"scattergl\":[{\"marker\":{\"colorbar\":{\"outlinewidth\":0,\"ticks\":\"\"}},\"type\":\"scattergl\"}],\"scattermapbox\":[{\"marker\":{\"colorbar\":{\"outlinewidth\":0,\"ticks\":\"\"}},\"type\":\"scattermapbox\"}],\"scatterpolar\":[{\"marker\":{\"colorbar\":{\"outlinewidth\":0,\"ticks\":\"\"}},\"type\":\"scatterpolar\"}],\"scatterpolargl\":[{\"marker\":{\"colorbar\":{\"outlinewidth\":0,\"ticks\":\"\"}},\"type\":\"scatterpolargl\"}],\"scatterternary\":[{\"marker\":{\"colorbar\":{\"outlinewidth\":0,\"ticks\":\"\"}},\"type\":\"scatterternary\"}],\"surface\":[{\"colorbar\":{\"outlinewidth\":0,\"ticks\":\"\"},\"colorscale\":[[0.0,\"#0d0887\"],[0.1111111111111111,\"#46039f\"],[0.2222222222222222,\"#7201a8\"],[0.3333333333333333,\"#9c179e\"],[0.4444444444444444,\"#bd3786\"],[0.5555555555555556,\"#d8576b\"],[0.6666666666666666,\"#ed7953\"],[0.7777777777777778,\"#fb9f3a\"],[0.8888888888888888,\"#fdca26\"],[1.0,\"#f0f921\"]],\"type\":\"surface\"}],\"table\":[{\"cells\":{\"fill\":{\"color\":\"#EBF0F8\"},\"line\":{\"color\":\"white\"}},\"header\":{\"fill\":{\"color\":\"#C8D4E3\"},\"line\":{\"color\":\"white\"}},\"type\":\"table\"}]},\"layout\":{\"annotationdefaults\":{\"arrowcolor\":\"#2a3f5f\",\"arrowhead\":0,\"arrowwidth\":1},\"autotypenumbers\":\"strict\",\"coloraxis\":{\"colorbar\":{\"outlinewidth\":0,\"ticks\":\"\"}},\"colorscale\":{\"diverging\":[[0,\"#8e0152\"],[0.1,\"#c51b7d\"],[0.2,\"#de77ae\"],[0.3,\"#f1b6da\"],[0.4,\"#fde0ef\"],[0.5,\"#f7f7f7\"],[0.6,\"#e6f5d0\"],[0.7,\"#b8e186\"],[0.8,\"#7fbc41\"],[0.9,\"#4d9221\"],[1,\"#276419\"]],\"sequential\":[[0.0,\"#0d0887\"],[0.1111111111111111,\"#46039f\"],[0.2222222222222222,\"#7201a8\"],[0.3333333333333333,\"#9c179e\"],[0.4444444444444444,\"#bd3786\"],[0.5555555555555556,\"#d8576b\"],[0.6666666666666666,\"#ed7953\"],[0.7777777777777778,\"#fb9f3a\"],[0.8888888888888888,\"#fdca26\"],[1.0,\"#f0f921\"]],\"sequentialminus\":[[0.0,\"#0d0887\"],[0.1111111111111111,\"#46039f\"],[0.2222222222222222,\"#7201a8\"],[0.3333333333333333,\"#9c179e\"],[0.4444444444444444,\"#bd3786\"],[0.5555555555555556,\"#d8576b\"],[0.6666666666666666,\"#ed7953\"],[0.7777777777777778,\"#fb9f3a\"],[0.8888888888888888,\"#fdca26\"],[1.0,\"#f0f921\"]]},\"colorway\":[\"#636efa\",\"#EF553B\",\"#00cc96\",\"#ab63fa\",\"#FFA15A\",\"#19d3f3\",\"#FF6692\",\"#B6E880\",\"#FF97FF\",\"#FECB52\"],\"font\":{\"color\":\"#2a3f5f\"},\"geo\":{\"bgcolor\":\"white\",\"lakecolor\":\"white\",\"landcolor\":\"#E5ECF6\",\"showlakes\":true,\"showland\":true,\"subunitcolor\":\"white\"},\"hoverlabel\":{\"align\":\"left\"},\"hovermode\":\"closest\",\"mapbox\":{\"style\":\"light\"},\"paper_bgcolor\":\"white\",\"plot_bgcolor\":\"#E5ECF6\",\"polar\":{\"angularaxis\":{\"gridcolor\":\"white\",\"linecolor\":\"white\",\"ticks\":\"\"},\"bgcolor\":\"#E5ECF6\",\"radialaxis\":{\"gridcolor\":\"white\",\"linecolor\":\"white\",\"ticks\":\"\"}},\"scene\":{\"xaxis\":{\"backgroundcolor\":\"#E5ECF6\",\"gridcolor\":\"white\",\"gridwidth\":2,\"linecolor\":\"white\",\"showbackground\":true,\"ticks\":\"\",\"zerolinecolor\":\"white\"},\"yaxis\":{\"backgroundcolor\":\"#E5ECF6\",\"gridcolor\":\"white\",\"gridwidth\":2,\"linecolor\":\"white\",\"showbackground\":true,\"ticks\":\"\",\"zerolinecolor\":\"white\"},\"zaxis\":{\"backgroundcolor\":\"#E5ECF6\",\"gridcolor\":\"white\",\"gridwidth\":2,\"linecolor\":\"white\",\"showbackground\":true,\"ticks\":\"\",\"zerolinecolor\":\"white\"}},\"shapedefaults\":{\"line\":{\"color\":\"#2a3f5f\"}},\"ternary\":{\"aaxis\":{\"gridcolor\":\"white\",\"linecolor\":\"white\",\"ticks\":\"\"},\"baxis\":{\"gridcolor\":\"white\",\"linecolor\":\"white\",\"ticks\":\"\"},\"bgcolor\":\"#E5ECF6\",\"caxis\":{\"gridcolor\":\"white\",\"linecolor\":\"white\",\"ticks\":\"\"}},\"title\":{\"x\":0.05},\"xaxis\":{\"automargin\":true,\"gridcolor\":\"white\",\"linecolor\":\"white\",\"ticks\":\"\",\"title\":{\"standoff\":15},\"zerolinecolor\":\"white\",\"zerolinewidth\":2},\"yaxis\":{\"automargin\":true,\"gridcolor\":\"white\",\"linecolor\":\"white\",\"ticks\":\"\",\"title\":{\"standoff\":15},\"zerolinecolor\":\"white\",\"zerolinewidth\":2}}},\"width\":800,\"xaxis\":{\"anchor\":\"y\",\"domain\":[0.0,1.0],\"title\":{\"text\":\"Data\"}},\"yaxis\":{\"anchor\":\"x\",\"domain\":[0.0,1.0],\"title\":{\"text\":\"Total gasto pelo clientes\"}}},                        {\"responsive\": true}                    ).then(function(){\n",
       "                            \n",
       "var gd = document.getElementById('1c8f4dfb-199b-4d8f-83b9-a7311db78aa7');\n",
       "var x = new MutationObserver(function (mutations, observer) {{\n",
       "        var display = window.getComputedStyle(gd).display;\n",
       "        if (!display || display === 'none') {{\n",
       "            console.log([gd, 'removed!']);\n",
       "            Plotly.purge(gd);\n",
       "            observer.disconnect();\n",
       "        }}\n",
       "}});\n",
       "\n",
       "// Listen for the removal of the full notebook cells\n",
       "var notebookContainer = gd.closest('#notebook-container');\n",
       "if (notebookContainer) {{\n",
       "    x.observe(notebookContainer, {childList: true});\n",
       "}}\n",
       "\n",
       "// Listen for the clearing of the current output cell\n",
       "var outputEl = gd.closest('.output');\n",
       "if (outputEl) {{\n",
       "    x.observe(outputEl, {childList: true});\n",
       "}}\n",
       "\n",
       "                        })                };                });            </script>        </div>"
      ]
     },
     "metadata": {},
     "output_type": "display_data"
    }
   ],
   "source": [
    "venda_produtos_cliente_pt_grup_temp = venda_produtos_cliente_pt.groupby(\"data\").sum().sort_values('data').reset_index()\n",
    "\n",
    "fig_vendas_tempo = px.line(venda_produtos_cliente_pt_grup_temp, x=\"data\", y=\"total_preco\", labels={\"data\": \"Data\", \"total_preco\": \"Total gasto pelo clientes\"}, height=500, width=800) \n",
    "\n",
    "fig_vendas_tempo.update_layout(\n",
    "                #criando anotações\n",
    "                annotations=[\n",
    "                        {\"x\":\"2021-11-08\", \"y\":1016.66, \"ay\": -40, \n",
    "                        \"text\": \"<b>Maior pico de vendas<br> em novembro</b>\",\n",
    "                        \"arrowhead\": 3, \"showarrow\":True,\n",
    "                        \"font\": {\"size\": 11}}\n",
    "                    ])\n",
    "fig_vendas_tempo.show()"
   ]
  },
  {
   "cell_type": "markdown",
   "id": "97f1a2ce",
   "metadata": {},
   "source": [
    "## Lucro"
   ]
  },
  {
   "cell_type": "code",
   "execution_count": 313,
   "id": "a87aa3da",
   "metadata": {},
   "outputs": [],
   "source": [
    "venda_produtos_cliente[\"lucro\"]=(venda_produtos_cliente[\"preco\"]-venda_produtos_cliente[\"custo\"])*venda_produtos_cliente[\"quantidade\"]"
   ]
  },
  {
   "cell_type": "code",
   "execution_count": 314,
   "id": "e51cebcf",
   "metadata": {},
   "outputs": [
    {
     "data": {
      "text/html": [
       "<div>\n",
       "<style scoped>\n",
       "    .dataframe tbody tr th:only-of-type {\n",
       "        vertical-align: middle;\n",
       "    }\n",
       "\n",
       "    .dataframe tbody tr th {\n",
       "        vertical-align: top;\n",
       "    }\n",
       "\n",
       "    .dataframe thead th {\n",
       "        text-align: right;\n",
       "    }\n",
       "</style>\n",
       "<table border=\"1\" class=\"dataframe\">\n",
       "  <thead>\n",
       "    <tr style=\"text-align: right;\">\n",
       "      <th></th>\n",
       "      <th>id_vendas</th>\n",
       "      <th>id_produtos</th>\n",
       "      <th>quantidade</th>\n",
       "      <th>nome</th>\n",
       "      <th>secao</th>\n",
       "      <th>custo</th>\n",
       "      <th>preco</th>\n",
       "      <th>prateleira</th>\n",
       "      <th>estoque</th>\n",
       "      <th>unidade_de_medida_de_estoque</th>\n",
       "      <th>...</th>\n",
       "      <th>data</th>\n",
       "      <th>nome_cliente</th>\n",
       "      <th>nascimento</th>\n",
       "      <th>endereco</th>\n",
       "      <th>cpf</th>\n",
       "      <th>telefone</th>\n",
       "      <th>usuario</th>\n",
       "      <th>senha</th>\n",
       "      <th>total_preco</th>\n",
       "      <th>lucro</th>\n",
       "    </tr>\n",
       "  </thead>\n",
       "  <tbody>\n",
       "    <tr>\n",
       "      <th>0</th>\n",
       "      <td>0</td>\n",
       "      <td>30</td>\n",
       "      <td>2</td>\n",
       "      <td>detergente</td>\n",
       "      <td>Produtos de Limpeza</td>\n",
       "      <td>1.30</td>\n",
       "      <td>2.70</td>\n",
       "      <td>8C</td>\n",
       "      <td>40</td>\n",
       "      <td>unidade</td>\n",
       "      <td>...</td>\n",
       "      <td>2021-11-01</td>\n",
       "      <td>Bárbara Viana</td>\n",
       "      <td>1957-06-18</td>\n",
       "      <td>Chácara Luiz Fernando Costa, 66\\nBairro Das In...</td>\n",
       "      <td>103.284.675-53</td>\n",
       "      <td>(061) 2913-0662</td>\n",
       "      <td>maria-ceciliaaragao</td>\n",
       "      <td>#F)E_%CjV5U#</td>\n",
       "      <td>5.40</td>\n",
       "      <td>2.80</td>\n",
       "    </tr>\n",
       "    <tr>\n",
       "      <th>1</th>\n",
       "      <td>0</td>\n",
       "      <td>30</td>\n",
       "      <td>1</td>\n",
       "      <td>detergente</td>\n",
       "      <td>Produtos de Limpeza</td>\n",
       "      <td>1.30</td>\n",
       "      <td>2.70</td>\n",
       "      <td>8C</td>\n",
       "      <td>40</td>\n",
       "      <td>unidade</td>\n",
       "      <td>...</td>\n",
       "      <td>2021-11-01</td>\n",
       "      <td>Bárbara Viana</td>\n",
       "      <td>1957-06-18</td>\n",
       "      <td>Chácara Luiz Fernando Costa, 66\\nBairro Das In...</td>\n",
       "      <td>103.284.675-53</td>\n",
       "      <td>(061) 2913-0662</td>\n",
       "      <td>maria-ceciliaaragao</td>\n",
       "      <td>#F)E_%CjV5U#</td>\n",
       "      <td>2.70</td>\n",
       "      <td>1.40</td>\n",
       "    </tr>\n",
       "    <tr>\n",
       "      <th>2</th>\n",
       "      <td>0</td>\n",
       "      <td>12</td>\n",
       "      <td>4</td>\n",
       "      <td>alcatra</td>\n",
       "      <td>Açougue</td>\n",
       "      <td>23.19</td>\n",
       "      <td>31.99</td>\n",
       "      <td>4A</td>\n",
       "      <td>7</td>\n",
       "      <td>kg</td>\n",
       "      <td>...</td>\n",
       "      <td>2021-11-01</td>\n",
       "      <td>Bárbara Viana</td>\n",
       "      <td>1957-06-18</td>\n",
       "      <td>Chácara Luiz Fernando Costa, 66\\nBairro Das In...</td>\n",
       "      <td>103.284.675-53</td>\n",
       "      <td>(061) 2913-0662</td>\n",
       "      <td>maria-ceciliaaragao</td>\n",
       "      <td>#F)E_%CjV5U#</td>\n",
       "      <td>127.96</td>\n",
       "      <td>35.20</td>\n",
       "    </tr>\n",
       "    <tr>\n",
       "      <th>3</th>\n",
       "      <td>0</td>\n",
       "      <td>12</td>\n",
       "      <td>4</td>\n",
       "      <td>alcatra</td>\n",
       "      <td>Açougue</td>\n",
       "      <td>23.19</td>\n",
       "      <td>31.99</td>\n",
       "      <td>4A</td>\n",
       "      <td>7</td>\n",
       "      <td>kg</td>\n",
       "      <td>...</td>\n",
       "      <td>2021-11-01</td>\n",
       "      <td>Bárbara Viana</td>\n",
       "      <td>1957-06-18</td>\n",
       "      <td>Chácara Luiz Fernando Costa, 66\\nBairro Das In...</td>\n",
       "      <td>103.284.675-53</td>\n",
       "      <td>(061) 2913-0662</td>\n",
       "      <td>maria-ceciliaaragao</td>\n",
       "      <td>#F)E_%CjV5U#</td>\n",
       "      <td>127.96</td>\n",
       "      <td>35.20</td>\n",
       "    </tr>\n",
       "    <tr>\n",
       "      <th>4</th>\n",
       "      <td>0</td>\n",
       "      <td>27</td>\n",
       "      <td>2</td>\n",
       "      <td>torta</td>\n",
       "      <td>Padaria</td>\n",
       "      <td>26.95</td>\n",
       "      <td>45.00</td>\n",
       "      <td>6C</td>\n",
       "      <td>7</td>\n",
       "      <td>kg</td>\n",
       "      <td>...</td>\n",
       "      <td>2021-11-01</td>\n",
       "      <td>Bárbara Viana</td>\n",
       "      <td>1957-06-18</td>\n",
       "      <td>Chácara Luiz Fernando Costa, 66\\nBairro Das In...</td>\n",
       "      <td>103.284.675-53</td>\n",
       "      <td>(061) 2913-0662</td>\n",
       "      <td>maria-ceciliaaragao</td>\n",
       "      <td>#F)E_%CjV5U#</td>\n",
       "      <td>90.00</td>\n",
       "      <td>36.10</td>\n",
       "    </tr>\n",
       "    <tr>\n",
       "      <th>...</th>\n",
       "      <td>...</td>\n",
       "      <td>...</td>\n",
       "      <td>...</td>\n",
       "      <td>...</td>\n",
       "      <td>...</td>\n",
       "      <td>...</td>\n",
       "      <td>...</td>\n",
       "      <td>...</td>\n",
       "      <td>...</td>\n",
       "      <td>...</td>\n",
       "      <td>...</td>\n",
       "      <td>...</td>\n",
       "      <td>...</td>\n",
       "      <td>...</td>\n",
       "      <td>...</td>\n",
       "      <td>...</td>\n",
       "      <td>...</td>\n",
       "      <td>...</td>\n",
       "      <td>...</td>\n",
       "      <td>...</td>\n",
       "      <td>...</td>\n",
       "    </tr>\n",
       "    <tr>\n",
       "      <th>2495</th>\n",
       "      <td>280</td>\n",
       "      <td>2</td>\n",
       "      <td>1</td>\n",
       "      <td>banana</td>\n",
       "      <td>Alimentos em Geral</td>\n",
       "      <td>2.00</td>\n",
       "      <td>5.99</td>\n",
       "      <td>1B</td>\n",
       "      <td>40</td>\n",
       "      <td>kg</td>\n",
       "      <td>...</td>\n",
       "      <td>2021-11-20</td>\n",
       "      <td>Maria Luiza da Rocha</td>\n",
       "      <td>1994-02-01</td>\n",
       "      <td>Morro de Costela, 89\\nBetânia\\n52100-695 Ferna...</td>\n",
       "      <td>420.917.568-49</td>\n",
       "      <td>0500 853 7617</td>\n",
       "      <td>rochasabrina</td>\n",
       "      <td>nreY3(X2R#%S</td>\n",
       "      <td>5.99</td>\n",
       "      <td>3.99</td>\n",
       "    </tr>\n",
       "    <tr>\n",
       "      <th>2496</th>\n",
       "      <td>304</td>\n",
       "      <td>2</td>\n",
       "      <td>2</td>\n",
       "      <td>banana</td>\n",
       "      <td>Alimentos em Geral</td>\n",
       "      <td>2.00</td>\n",
       "      <td>5.99</td>\n",
       "      <td>1B</td>\n",
       "      <td>40</td>\n",
       "      <td>kg</td>\n",
       "      <td>...</td>\n",
       "      <td>2021-11-21</td>\n",
       "      <td>Sophie da Costa</td>\n",
       "      <td>1967-07-24</td>\n",
       "      <td>Avenida Castro, 453\\nApolonia\\n46888586 Nunes ...</td>\n",
       "      <td>037.298.154-23</td>\n",
       "      <td>31 3056-0769</td>\n",
       "      <td>bryanmartins</td>\n",
       "      <td>*Z19u7ux0+AJ</td>\n",
       "      <td>11.98</td>\n",
       "      <td>7.98</td>\n",
       "    </tr>\n",
       "    <tr>\n",
       "      <th>2497</th>\n",
       "      <td>253</td>\n",
       "      <td>22</td>\n",
       "      <td>4</td>\n",
       "      <td>pão de queijo</td>\n",
       "      <td>Padaria</td>\n",
       "      <td>17.04</td>\n",
       "      <td>23.99</td>\n",
       "      <td>7B</td>\n",
       "      <td>1</td>\n",
       "      <td>kg</td>\n",
       "      <td>...</td>\n",
       "      <td>2021-11-18</td>\n",
       "      <td>Giovanna Duarte</td>\n",
       "      <td>1958-10-11</td>\n",
       "      <td>Quadra Cunha\\nRio Branco\\n21776-823 Fogaça do ...</td>\n",
       "      <td>673.258.941-55</td>\n",
       "      <td>+55 84 9594 9447</td>\n",
       "      <td>caroline48</td>\n",
       "      <td>kIQ$kcTN_(1X</td>\n",
       "      <td>95.96</td>\n",
       "      <td>27.80</td>\n",
       "    </tr>\n",
       "    <tr>\n",
       "      <th>2498</th>\n",
       "      <td>214</td>\n",
       "      <td>26</td>\n",
       "      <td>4</td>\n",
       "      <td>sonho</td>\n",
       "      <td>Padaria</td>\n",
       "      <td>1.79</td>\n",
       "      <td>3.49</td>\n",
       "      <td>6B</td>\n",
       "      <td>20</td>\n",
       "      <td>unidade</td>\n",
       "      <td>...</td>\n",
       "      <td>2021-11-15</td>\n",
       "      <td>Felipe Rocha</td>\n",
       "      <td>1968-10-01</td>\n",
       "      <td>Fazenda Vieira, 31\\nSão Gabriel\\n58017-176 Nog...</td>\n",
       "      <td>936.712.480-50</td>\n",
       "      <td>+55 51 3754 2274</td>\n",
       "      <td>juan87</td>\n",
       "      <td>j^)A2Mk%Q@_E</td>\n",
       "      <td>13.96</td>\n",
       "      <td>6.80</td>\n",
       "    </tr>\n",
       "    <tr>\n",
       "      <th>2499</th>\n",
       "      <td>370</td>\n",
       "      <td>24</td>\n",
       "      <td>4</td>\n",
       "      <td>pastel</td>\n",
       "      <td>Padaria</td>\n",
       "      <td>3.19</td>\n",
       "      <td>4.99</td>\n",
       "      <td>7D</td>\n",
       "      <td>9</td>\n",
       "      <td>unidade</td>\n",
       "      <td>...</td>\n",
       "      <td>2021-11-25</td>\n",
       "      <td>Felipe Rocha</td>\n",
       "      <td>1968-10-01</td>\n",
       "      <td>Fazenda Vieira, 31\\nSão Gabriel\\n58017-176 Nog...</td>\n",
       "      <td>936.712.480-50</td>\n",
       "      <td>+55 51 3754 2274</td>\n",
       "      <td>juan87</td>\n",
       "      <td>j^)A2Mk%Q@_E</td>\n",
       "      <td>19.96</td>\n",
       "      <td>7.20</td>\n",
       "    </tr>\n",
       "  </tbody>\n",
       "</table>\n",
       "<p>2500 rows × 22 columns</p>\n",
       "</div>"
      ],
      "text/plain": [
       "      id_vendas  id_produtos  quantidade           nome                secao  \\\n",
       "0             0           30           2     detergente  Produtos de Limpeza   \n",
       "1             0           30           1     detergente  Produtos de Limpeza   \n",
       "2             0           12           4        alcatra              Açougue   \n",
       "3             0           12           4        alcatra              Açougue   \n",
       "4             0           27           2          torta              Padaria   \n",
       "...         ...          ...         ...            ...                  ...   \n",
       "2495        280            2           1         banana   Alimentos em Geral   \n",
       "2496        304            2           2         banana   Alimentos em Geral   \n",
       "2497        253           22           4  pão de queijo              Padaria   \n",
       "2498        214           26           4          sonho              Padaria   \n",
       "2499        370           24           4         pastel              Padaria   \n",
       "\n",
       "      custo  preco prateleira  estoque unidade_de_medida_de_estoque  ...  \\\n",
       "0      1.30   2.70         8C       40                      unidade  ...   \n",
       "1      1.30   2.70         8C       40                      unidade  ...   \n",
       "2     23.19  31.99         4A        7                           kg  ...   \n",
       "3     23.19  31.99         4A        7                           kg  ...   \n",
       "4     26.95  45.00         6C        7                           kg  ...   \n",
       "...     ...    ...        ...      ...                          ...  ...   \n",
       "2495   2.00   5.99         1B       40                           kg  ...   \n",
       "2496   2.00   5.99         1B       40                           kg  ...   \n",
       "2497  17.04  23.99         7B        1                           kg  ...   \n",
       "2498   1.79   3.49         6B       20                      unidade  ...   \n",
       "2499   3.19   4.99         7D        9                      unidade  ...   \n",
       "\n",
       "            data          nome_cliente  nascimento  \\\n",
       "0     2021-11-01         Bárbara Viana  1957-06-18   \n",
       "1     2021-11-01         Bárbara Viana  1957-06-18   \n",
       "2     2021-11-01         Bárbara Viana  1957-06-18   \n",
       "3     2021-11-01         Bárbara Viana  1957-06-18   \n",
       "4     2021-11-01         Bárbara Viana  1957-06-18   \n",
       "...          ...                   ...         ...   \n",
       "2495  2021-11-20  Maria Luiza da Rocha  1994-02-01   \n",
       "2496  2021-11-21       Sophie da Costa  1967-07-24   \n",
       "2497  2021-11-18       Giovanna Duarte  1958-10-11   \n",
       "2498  2021-11-15          Felipe Rocha  1968-10-01   \n",
       "2499  2021-11-25          Felipe Rocha  1968-10-01   \n",
       "\n",
       "                                               endereco             cpf  \\\n",
       "0     Chácara Luiz Fernando Costa, 66\\nBairro Das In...  103.284.675-53   \n",
       "1     Chácara Luiz Fernando Costa, 66\\nBairro Das In...  103.284.675-53   \n",
       "2     Chácara Luiz Fernando Costa, 66\\nBairro Das In...  103.284.675-53   \n",
       "3     Chácara Luiz Fernando Costa, 66\\nBairro Das In...  103.284.675-53   \n",
       "4     Chácara Luiz Fernando Costa, 66\\nBairro Das In...  103.284.675-53   \n",
       "...                                                 ...             ...   \n",
       "2495  Morro de Costela, 89\\nBetânia\\n52100-695 Ferna...  420.917.568-49   \n",
       "2496  Avenida Castro, 453\\nApolonia\\n46888586 Nunes ...  037.298.154-23   \n",
       "2497  Quadra Cunha\\nRio Branco\\n21776-823 Fogaça do ...  673.258.941-55   \n",
       "2498  Fazenda Vieira, 31\\nSão Gabriel\\n58017-176 Nog...  936.712.480-50   \n",
       "2499  Fazenda Vieira, 31\\nSão Gabriel\\n58017-176 Nog...  936.712.480-50   \n",
       "\n",
       "              telefone              usuario         senha total_preco  lucro  \n",
       "0      (061) 2913-0662  maria-ceciliaaragao  #F)E_%CjV5U#        5.40   2.80  \n",
       "1      (061) 2913-0662  maria-ceciliaaragao  #F)E_%CjV5U#        2.70   1.40  \n",
       "2      (061) 2913-0662  maria-ceciliaaragao  #F)E_%CjV5U#      127.96  35.20  \n",
       "3      (061) 2913-0662  maria-ceciliaaragao  #F)E_%CjV5U#      127.96  35.20  \n",
       "4      (061) 2913-0662  maria-ceciliaaragao  #F)E_%CjV5U#       90.00  36.10  \n",
       "...                ...                  ...           ...         ...    ...  \n",
       "2495     0500 853 7617         rochasabrina  nreY3(X2R#%S        5.99   3.99  \n",
       "2496      31 3056-0769         bryanmartins  *Z19u7ux0+AJ       11.98   7.98  \n",
       "2497  +55 84 9594 9447           caroline48  kIQ$kcTN_(1X       95.96  27.80  \n",
       "2498  +55 51 3754 2274               juan87  j^)A2Mk%Q@_E       13.96   6.80  \n",
       "2499  +55 51 3754 2274               juan87  j^)A2Mk%Q@_E       19.96   7.20  \n",
       "\n",
       "[2500 rows x 22 columns]"
      ]
     },
     "execution_count": 314,
     "metadata": {},
     "output_type": "execute_result"
    }
   ],
   "source": [
    "venda_produtos_cliente"
   ]
  },
  {
   "cell_type": "code",
   "execution_count": 315,
   "id": "21eb629a",
   "metadata": {},
   "outputs": [],
   "source": [
    "venda_produtos_cliente_soma_lucros = venda_produtos_cliente.groupby(\"data\").sum().sort_values('data').reset_index()\n",
    "\n",
    "df_acougue=venda_produtos_cliente[venda_produtos_cliente[\"secao\"]=='Açougue']\n",
    "df_acougue_lucros = df_acougue.groupby(\"data\").sum().sort_values('data').reset_index()\n",
    "\n",
    "df_frutas_e_verduras=venda_produtos_cliente[venda_produtos_cliente[\"secao\"]=='Alimentos em Geral']\n",
    "df_frutas_e_verduras_lucros = df_frutas_e_verduras.groupby(\"data\").sum().sort_values('data').reset_index()\n",
    "\n",
    "df_padaria=venda_produtos_cliente[venda_produtos_cliente[\"secao\"]=='Padaria']\n",
    "df_padaria_lucros = df_padaria.groupby(\"data\").sum().sort_values('data').reset_index()\n",
    "\n",
    "df_produtos_de_limpeza=venda_produtos_cliente[venda_produtos_cliente[\"secao\"]=='Produtos de Limpeza']\n",
    "df_produtos_de_limpeza_lucros = df_produtos_de_limpeza.groupby(\"data\").sum().sort_values('data').reset_index()"
   ]
  },
  {
   "cell_type": "code",
   "execution_count": 316,
   "id": "23f431e1",
   "metadata": {},
   "outputs": [
    {
     "data": {
      "application/vnd.plotly.v1+json": {
       "config": {
        "plotlyServerURL": "https://plot.ly"
       },
       "data": [
        {
         "mode": "markers+lines",
         "name": "Lucro total",
         "type": "scatter",
         "x": [
          "2021-11-01",
          "2021-11-02",
          "2021-11-03",
          "2021-11-04",
          "2021-11-05",
          "2021-11-06",
          "2021-11-07",
          "2021-11-08",
          "2021-11-09",
          "2021-11-10",
          "2021-11-11",
          "2021-11-12",
          "2021-11-13",
          "2021-11-14",
          "2021-11-15",
          "2021-11-16",
          "2021-11-17",
          "2021-11-18",
          "2021-11-19",
          "2021-11-20",
          "2021-11-21",
          "2021-11-22",
          "2021-11-23",
          "2021-11-24",
          "2021-11-25",
          "2021-11-26",
          "2021-11-27",
          "2021-11-28",
          "2021-11-29",
          "2021-11-30"
         ],
         "y": [
          2206.73,
          1488.5199999999993,
          1554.4699999999993,
          2573.4899999999993,
          1555.56,
          1888.62,
          2007.0999999999988,
          2241.469999999999,
          2146.0299999999993,
          3322.0099999999984,
          2336.269999999998,
          2872.3799999999983,
          1547.8999999999992,
          2141.5299999999984,
          273.4799999999999,
          201.62,
          221.58999999999997,
          145.15999999999997,
          213.82,
          208.97,
          131.33999999999997,
          227.77999999999997,
          355.84000000000003,
          257.63,
          283.34999999999997,
          330.42,
          409.7,
          296.15,
          170.91999999999996,
          466.13999999999993
         ]
        },
        {
         "mode": "markers+lines",
         "name": "Lucro por dia no açougue",
         "type": "scatter",
         "x": [
          "2021-11-01",
          "2021-11-02",
          "2021-11-03",
          "2021-11-04",
          "2021-11-05",
          "2021-11-06",
          "2021-11-07",
          "2021-11-08",
          "2021-11-09",
          "2021-11-10",
          "2021-11-11",
          "2021-11-12",
          "2021-11-13",
          "2021-11-14",
          "2021-11-15",
          "2021-11-16",
          "2021-11-17",
          "2021-11-18",
          "2021-11-19",
          "2021-11-20",
          "2021-11-21",
          "2021-11-22",
          "2021-11-23",
          "2021-11-24",
          "2021-11-25",
          "2021-11-26",
          "2021-11-27",
          "2021-11-28",
          "2021-11-29",
          "2021-11-30"
         ],
         "y": [
          1268.2199999999998,
          753.6799999999997,
          837.3799999999997,
          1348.7899999999995,
          596.1400000000001,
          1123.2499999999995,
          1059.1499999999999,
          1122.1899999999994,
          764.9999999999999,
          1412.1999999999991,
          949.6799999999996,
          1259.5299999999993,
          602.31,
          980.0999999999998,
          222.38999999999993,
          80.72,
          44.70999999999999,
          54.91999999999998,
          114.43999999999996,
          151.5,
          36.89999999999999,
          65.55999999999999,
          277.70000000000005,
          71.53999999999999,
          31.71999999999999,
          225.32999999999998,
          205.50999999999996,
          136.82,
          33.89999999999999,
          159.48999999999998
         ]
        },
        {
         "mode": "markers+lines",
         "name": "Lucro por dia na seção de frutas e verduras",
         "type": "scatter",
         "x": [
          "2021-11-01",
          "2021-11-02",
          "2021-11-03",
          "2021-11-04",
          "2021-11-05",
          "2021-11-06",
          "2021-11-07",
          "2021-11-08",
          "2021-11-09",
          "2021-11-10",
          "2021-11-11",
          "2021-11-12",
          "2021-11-13",
          "2021-11-14",
          "2021-11-15",
          "2021-11-16",
          "2021-11-17",
          "2021-11-18",
          "2021-11-19",
          "2021-11-20",
          "2021-11-21",
          "2021-11-22",
          "2021-11-23",
          "2021-11-24",
          "2021-11-25",
          "2021-11-26",
          "2021-11-27",
          "2021-11-28",
          "2021-11-29",
          "2021-11-30"
         ],
         "y": [
          150.54999999999998,
          118.59000000000003,
          69.18999999999998,
          88.25999999999999,
          109.15999999999995,
          76.54,
          20.58999999999995,
          242.99000000000007,
          243.22999999999993,
          275.62999999999994,
          251.24999999999997,
          318.04999999999995,
          179.47,
          173.27,
          3.6900000000000004,
          27.60000000000001,
          -4.000000000000002,
          25.910000000000004,
          22.14,
          -21.59000000000001,
          23.810000000000002,
          -22.02000000000001,
          19.79,
          12.599999999999998,
          14.27,
          31.529999999999987,
          31.480000000000004,
          13.579999999999998,
          44.31999999999999,
          47.64
         ]
        },
        {
         "mode": "markers+lines",
         "name": "Lucro por dia na padaria",
         "type": "scatter",
         "x": [
          "2021-11-01",
          "2021-11-02",
          "2021-11-03",
          "2021-11-04",
          "2021-11-05",
          "2021-11-06",
          "2021-11-07",
          "2021-11-08",
          "2021-11-09",
          "2021-11-10",
          "2021-11-11",
          "2021-11-12",
          "2021-11-13",
          "2021-11-14",
          "2021-11-15",
          "2021-11-16",
          "2021-11-17",
          "2021-11-18",
          "2021-11-19",
          "2021-11-20",
          "2021-11-21",
          "2021-11-22",
          "2021-11-23",
          "2021-11-24",
          "2021-11-25",
          "2021-11-26",
          "2021-11-27",
          "2021-11-28",
          "2021-11-29",
          "2021-11-30"
         ],
         "y": [
          643.9699999999998,
          488.49999999999994,
          382.75,
          865.7399999999999,
          542.6600000000002,
          478.74000000000007,
          637.12,
          577.3900000000002,
          931.3000000000002,
          1236.15,
          903.3499999999999,
          900.8000000000001,
          462.3200000000001,
          636.4200000000001,
          39,
          90.5,
          126.35000000000001,
          52.8,
          66.2,
          60.980000000000004,
          54.019999999999996,
          119.17000000000002,
          54.150000000000006,
          106.36,
          218.14,
          41.03,
          146.37,
          106.41,
          66.64999999999999,
          190.75
         ]
        },
        {
         "mode": "markers+lines",
         "name": "Lucro por dia na seção de limpezas",
         "type": "scatter",
         "x": [
          "2021-11-01",
          "2021-11-02",
          "2021-11-03",
          "2021-11-04",
          "2021-11-05",
          "2021-11-06",
          "2021-11-07",
          "2021-11-08",
          "2021-11-09",
          "2021-11-10",
          "2021-11-11",
          "2021-11-12",
          "2021-11-13",
          "2021-11-14",
          "2021-11-15",
          "2021-11-16",
          "2021-11-17",
          "2021-11-18",
          "2021-11-19",
          "2021-11-20",
          "2021-11-21",
          "2021-11-22",
          "2021-11-23",
          "2021-11-24",
          "2021-11-25",
          "2021-11-26",
          "2021-11-27",
          "2021-11-28",
          "2021-11-29",
          "2021-11-30"
         ],
         "y": [
          143.99,
          127.74999999999999,
          265.15,
          270.7,
          307.59999999999974,
          210.08999999999995,
          290.23999999999995,
          298.9,
          206.49999999999997,
          398.02999999999975,
          231.9899999999999,
          393.9999999999999,
          303.79999999999984,
          351.73999999999995,
          8.4,
          2.8,
          54.52999999999999,
          11.529999999999998,
          11.04,
          18.08,
          16.61,
          65.07,
          4.2,
          67.13,
          19.219999999999995,
          32.53,
          26.34,
          39.34,
          26.049999999999997,
          68.25999999999999
         ]
        }
       ],
       "layout": {
        "font": {
         "color": "black",
         "family": "Arial",
         "size": 14
        },
        "plot_bgcolor": "white",
        "template": {
         "data": {
          "bar": [
           {
            "error_x": {
             "color": "#2a3f5f"
            },
            "error_y": {
             "color": "#2a3f5f"
            },
            "marker": {
             "line": {
              "color": "#E5ECF6",
              "width": 0.5
             },
             "pattern": {
              "fillmode": "overlay",
              "size": 10,
              "solidity": 0.2
             }
            },
            "type": "bar"
           }
          ],
          "barpolar": [
           {
            "marker": {
             "line": {
              "color": "#E5ECF6",
              "width": 0.5
             },
             "pattern": {
              "fillmode": "overlay",
              "size": 10,
              "solidity": 0.2
             }
            },
            "type": "barpolar"
           }
          ],
          "carpet": [
           {
            "aaxis": {
             "endlinecolor": "#2a3f5f",
             "gridcolor": "white",
             "linecolor": "white",
             "minorgridcolor": "white",
             "startlinecolor": "#2a3f5f"
            },
            "baxis": {
             "endlinecolor": "#2a3f5f",
             "gridcolor": "white",
             "linecolor": "white",
             "minorgridcolor": "white",
             "startlinecolor": "#2a3f5f"
            },
            "type": "carpet"
           }
          ],
          "choropleth": [
           {
            "colorbar": {
             "outlinewidth": 0,
             "ticks": ""
            },
            "type": "choropleth"
           }
          ],
          "contour": [
           {
            "colorbar": {
             "outlinewidth": 0,
             "ticks": ""
            },
            "colorscale": [
             [
              0,
              "#0d0887"
             ],
             [
              0.1111111111111111,
              "#46039f"
             ],
             [
              0.2222222222222222,
              "#7201a8"
             ],
             [
              0.3333333333333333,
              "#9c179e"
             ],
             [
              0.4444444444444444,
              "#bd3786"
             ],
             [
              0.5555555555555556,
              "#d8576b"
             ],
             [
              0.6666666666666666,
              "#ed7953"
             ],
             [
              0.7777777777777778,
              "#fb9f3a"
             ],
             [
              0.8888888888888888,
              "#fdca26"
             ],
             [
              1,
              "#f0f921"
             ]
            ],
            "type": "contour"
           }
          ],
          "contourcarpet": [
           {
            "colorbar": {
             "outlinewidth": 0,
             "ticks": ""
            },
            "type": "contourcarpet"
           }
          ],
          "heatmap": [
           {
            "colorbar": {
             "outlinewidth": 0,
             "ticks": ""
            },
            "colorscale": [
             [
              0,
              "#0d0887"
             ],
             [
              0.1111111111111111,
              "#46039f"
             ],
             [
              0.2222222222222222,
              "#7201a8"
             ],
             [
              0.3333333333333333,
              "#9c179e"
             ],
             [
              0.4444444444444444,
              "#bd3786"
             ],
             [
              0.5555555555555556,
              "#d8576b"
             ],
             [
              0.6666666666666666,
              "#ed7953"
             ],
             [
              0.7777777777777778,
              "#fb9f3a"
             ],
             [
              0.8888888888888888,
              "#fdca26"
             ],
             [
              1,
              "#f0f921"
             ]
            ],
            "type": "heatmap"
           }
          ],
          "heatmapgl": [
           {
            "colorbar": {
             "outlinewidth": 0,
             "ticks": ""
            },
            "colorscale": [
             [
              0,
              "#0d0887"
             ],
             [
              0.1111111111111111,
              "#46039f"
             ],
             [
              0.2222222222222222,
              "#7201a8"
             ],
             [
              0.3333333333333333,
              "#9c179e"
             ],
             [
              0.4444444444444444,
              "#bd3786"
             ],
             [
              0.5555555555555556,
              "#d8576b"
             ],
             [
              0.6666666666666666,
              "#ed7953"
             ],
             [
              0.7777777777777778,
              "#fb9f3a"
             ],
             [
              0.8888888888888888,
              "#fdca26"
             ],
             [
              1,
              "#f0f921"
             ]
            ],
            "type": "heatmapgl"
           }
          ],
          "histogram": [
           {
            "marker": {
             "pattern": {
              "fillmode": "overlay",
              "size": 10,
              "solidity": 0.2
             }
            },
            "type": "histogram"
           }
          ],
          "histogram2d": [
           {
            "colorbar": {
             "outlinewidth": 0,
             "ticks": ""
            },
            "colorscale": [
             [
              0,
              "#0d0887"
             ],
             [
              0.1111111111111111,
              "#46039f"
             ],
             [
              0.2222222222222222,
              "#7201a8"
             ],
             [
              0.3333333333333333,
              "#9c179e"
             ],
             [
              0.4444444444444444,
              "#bd3786"
             ],
             [
              0.5555555555555556,
              "#d8576b"
             ],
             [
              0.6666666666666666,
              "#ed7953"
             ],
             [
              0.7777777777777778,
              "#fb9f3a"
             ],
             [
              0.8888888888888888,
              "#fdca26"
             ],
             [
              1,
              "#f0f921"
             ]
            ],
            "type": "histogram2d"
           }
          ],
          "histogram2dcontour": [
           {
            "colorbar": {
             "outlinewidth": 0,
             "ticks": ""
            },
            "colorscale": [
             [
              0,
              "#0d0887"
             ],
             [
              0.1111111111111111,
              "#46039f"
             ],
             [
              0.2222222222222222,
              "#7201a8"
             ],
             [
              0.3333333333333333,
              "#9c179e"
             ],
             [
              0.4444444444444444,
              "#bd3786"
             ],
             [
              0.5555555555555556,
              "#d8576b"
             ],
             [
              0.6666666666666666,
              "#ed7953"
             ],
             [
              0.7777777777777778,
              "#fb9f3a"
             ],
             [
              0.8888888888888888,
              "#fdca26"
             ],
             [
              1,
              "#f0f921"
             ]
            ],
            "type": "histogram2dcontour"
           }
          ],
          "mesh3d": [
           {
            "colorbar": {
             "outlinewidth": 0,
             "ticks": ""
            },
            "type": "mesh3d"
           }
          ],
          "parcoords": [
           {
            "line": {
             "colorbar": {
              "outlinewidth": 0,
              "ticks": ""
             }
            },
            "type": "parcoords"
           }
          ],
          "pie": [
           {
            "automargin": true,
            "type": "pie"
           }
          ],
          "scatter": [
           {
            "marker": {
             "colorbar": {
              "outlinewidth": 0,
              "ticks": ""
             }
            },
            "type": "scatter"
           }
          ],
          "scatter3d": [
           {
            "line": {
             "colorbar": {
              "outlinewidth": 0,
              "ticks": ""
             }
            },
            "marker": {
             "colorbar": {
              "outlinewidth": 0,
              "ticks": ""
             }
            },
            "type": "scatter3d"
           }
          ],
          "scattercarpet": [
           {
            "marker": {
             "colorbar": {
              "outlinewidth": 0,
              "ticks": ""
             }
            },
            "type": "scattercarpet"
           }
          ],
          "scattergeo": [
           {
            "marker": {
             "colorbar": {
              "outlinewidth": 0,
              "ticks": ""
             }
            },
            "type": "scattergeo"
           }
          ],
          "scattergl": [
           {
            "marker": {
             "colorbar": {
              "outlinewidth": 0,
              "ticks": ""
             }
            },
            "type": "scattergl"
           }
          ],
          "scattermapbox": [
           {
            "marker": {
             "colorbar": {
              "outlinewidth": 0,
              "ticks": ""
             }
            },
            "type": "scattermapbox"
           }
          ],
          "scatterpolar": [
           {
            "marker": {
             "colorbar": {
              "outlinewidth": 0,
              "ticks": ""
             }
            },
            "type": "scatterpolar"
           }
          ],
          "scatterpolargl": [
           {
            "marker": {
             "colorbar": {
              "outlinewidth": 0,
              "ticks": ""
             }
            },
            "type": "scatterpolargl"
           }
          ],
          "scatterternary": [
           {
            "marker": {
             "colorbar": {
              "outlinewidth": 0,
              "ticks": ""
             }
            },
            "type": "scatterternary"
           }
          ],
          "surface": [
           {
            "colorbar": {
             "outlinewidth": 0,
             "ticks": ""
            },
            "colorscale": [
             [
              0,
              "#0d0887"
             ],
             [
              0.1111111111111111,
              "#46039f"
             ],
             [
              0.2222222222222222,
              "#7201a8"
             ],
             [
              0.3333333333333333,
              "#9c179e"
             ],
             [
              0.4444444444444444,
              "#bd3786"
             ],
             [
              0.5555555555555556,
              "#d8576b"
             ],
             [
              0.6666666666666666,
              "#ed7953"
             ],
             [
              0.7777777777777778,
              "#fb9f3a"
             ],
             [
              0.8888888888888888,
              "#fdca26"
             ],
             [
              1,
              "#f0f921"
             ]
            ],
            "type": "surface"
           }
          ],
          "table": [
           {
            "cells": {
             "fill": {
              "color": "#EBF0F8"
             },
             "line": {
              "color": "white"
             }
            },
            "header": {
             "fill": {
              "color": "#C8D4E3"
             },
             "line": {
              "color": "white"
             }
            },
            "type": "table"
           }
          ]
         },
         "layout": {
          "annotationdefaults": {
           "arrowcolor": "#2a3f5f",
           "arrowhead": 0,
           "arrowwidth": 1
          },
          "autotypenumbers": "strict",
          "coloraxis": {
           "colorbar": {
            "outlinewidth": 0,
            "ticks": ""
           }
          },
          "colorscale": {
           "diverging": [
            [
             0,
             "#8e0152"
            ],
            [
             0.1,
             "#c51b7d"
            ],
            [
             0.2,
             "#de77ae"
            ],
            [
             0.3,
             "#f1b6da"
            ],
            [
             0.4,
             "#fde0ef"
            ],
            [
             0.5,
             "#f7f7f7"
            ],
            [
             0.6,
             "#e6f5d0"
            ],
            [
             0.7,
             "#b8e186"
            ],
            [
             0.8,
             "#7fbc41"
            ],
            [
             0.9,
             "#4d9221"
            ],
            [
             1,
             "#276419"
            ]
           ],
           "sequential": [
            [
             0,
             "#0d0887"
            ],
            [
             0.1111111111111111,
             "#46039f"
            ],
            [
             0.2222222222222222,
             "#7201a8"
            ],
            [
             0.3333333333333333,
             "#9c179e"
            ],
            [
             0.4444444444444444,
             "#bd3786"
            ],
            [
             0.5555555555555556,
             "#d8576b"
            ],
            [
             0.6666666666666666,
             "#ed7953"
            ],
            [
             0.7777777777777778,
             "#fb9f3a"
            ],
            [
             0.8888888888888888,
             "#fdca26"
            ],
            [
             1,
             "#f0f921"
            ]
           ],
           "sequentialminus": [
            [
             0,
             "#0d0887"
            ],
            [
             0.1111111111111111,
             "#46039f"
            ],
            [
             0.2222222222222222,
             "#7201a8"
            ],
            [
             0.3333333333333333,
             "#9c179e"
            ],
            [
             0.4444444444444444,
             "#bd3786"
            ],
            [
             0.5555555555555556,
             "#d8576b"
            ],
            [
             0.6666666666666666,
             "#ed7953"
            ],
            [
             0.7777777777777778,
             "#fb9f3a"
            ],
            [
             0.8888888888888888,
             "#fdca26"
            ],
            [
             1,
             "#f0f921"
            ]
           ]
          },
          "colorway": [
           "#636efa",
           "#EF553B",
           "#00cc96",
           "#ab63fa",
           "#FFA15A",
           "#19d3f3",
           "#FF6692",
           "#B6E880",
           "#FF97FF",
           "#FECB52"
          ],
          "font": {
           "color": "#2a3f5f"
          },
          "geo": {
           "bgcolor": "white",
           "lakecolor": "white",
           "landcolor": "#E5ECF6",
           "showlakes": true,
           "showland": true,
           "subunitcolor": "white"
          },
          "hoverlabel": {
           "align": "left"
          },
          "hovermode": "closest",
          "mapbox": {
           "style": "light"
          },
          "paper_bgcolor": "white",
          "plot_bgcolor": "#E5ECF6",
          "polar": {
           "angularaxis": {
            "gridcolor": "white",
            "linecolor": "white",
            "ticks": ""
           },
           "bgcolor": "#E5ECF6",
           "radialaxis": {
            "gridcolor": "white",
            "linecolor": "white",
            "ticks": ""
           }
          },
          "scene": {
           "xaxis": {
            "backgroundcolor": "#E5ECF6",
            "gridcolor": "white",
            "gridwidth": 2,
            "linecolor": "white",
            "showbackground": true,
            "ticks": "",
            "zerolinecolor": "white"
           },
           "yaxis": {
            "backgroundcolor": "#E5ECF6",
            "gridcolor": "white",
            "gridwidth": 2,
            "linecolor": "white",
            "showbackground": true,
            "ticks": "",
            "zerolinecolor": "white"
           },
           "zaxis": {
            "backgroundcolor": "#E5ECF6",
            "gridcolor": "white",
            "gridwidth": 2,
            "linecolor": "white",
            "showbackground": true,
            "ticks": "",
            "zerolinecolor": "white"
           }
          },
          "shapedefaults": {
           "line": {
            "color": "#2a3f5f"
           }
          },
          "ternary": {
           "aaxis": {
            "gridcolor": "white",
            "linecolor": "white",
            "ticks": ""
           },
           "baxis": {
            "gridcolor": "white",
            "linecolor": "white",
            "ticks": ""
           },
           "bgcolor": "#E5ECF6",
           "caxis": {
            "gridcolor": "white",
            "linecolor": "white",
            "ticks": ""
           }
          },
          "title": {
           "x": 0.05
          },
          "xaxis": {
           "automargin": true,
           "gridcolor": "white",
           "linecolor": "white",
           "ticks": "",
           "title": {
            "standoff": 15
           },
           "zerolinecolor": "white",
           "zerolinewidth": 2
          },
          "yaxis": {
           "automargin": true,
           "gridcolor": "white",
           "linecolor": "white",
           "ticks": "",
           "title": {
            "standoff": 15
           },
           "zerolinecolor": "white",
           "zerolinewidth": 2
          }
         }
        },
        "title": {
         "text": "Lucro por seção no mês de novembro"
        },
        "xaxis": {
         "gridcolor": "lightgray",
         "gridwidth": 1,
         "linecolor": "black",
         "linewidth": 1,
         "showgrid": true,
         "showline": true,
         "title": {
          "text": "Data"
         }
        },
        "yaxis": {
         "gridcolor": "lightgray",
         "gridwidth": 1,
         "linecolor": "black",
         "linewidth": 1,
         "showgrid": true,
         "showline": true,
         "title": {
          "text": "Lucro"
         }
        }
       }
      },
      "text/html": [
       "<div>                            <div id=\"bb52d7f8-cb90-4b70-94d9-130d4c6b0750\" class=\"plotly-graph-div\" style=\"height:525px; width:100%;\"></div>            <script type=\"text/javascript\">                require([\"plotly\"], function(Plotly) {                    window.PLOTLYENV=window.PLOTLYENV || {};                                    if (document.getElementById(\"bb52d7f8-cb90-4b70-94d9-130d4c6b0750\")) {                    Plotly.newPlot(                        \"bb52d7f8-cb90-4b70-94d9-130d4c6b0750\",                        [{\"mode\":\"markers+lines\",\"name\":\"Lucro total\",\"type\":\"scatter\",\"x\":[\"2021-11-01\",\"2021-11-02\",\"2021-11-03\",\"2021-11-04\",\"2021-11-05\",\"2021-11-06\",\"2021-11-07\",\"2021-11-08\",\"2021-11-09\",\"2021-11-10\",\"2021-11-11\",\"2021-11-12\",\"2021-11-13\",\"2021-11-14\",\"2021-11-15\",\"2021-11-16\",\"2021-11-17\",\"2021-11-18\",\"2021-11-19\",\"2021-11-20\",\"2021-11-21\",\"2021-11-22\",\"2021-11-23\",\"2021-11-24\",\"2021-11-25\",\"2021-11-26\",\"2021-11-27\",\"2021-11-28\",\"2021-11-29\",\"2021-11-30\"],\"y\":[2206.73,1488.5199999999993,1554.4699999999993,2573.4899999999993,1555.56,1888.62,2007.0999999999988,2241.469999999999,2146.0299999999993,3322.0099999999984,2336.269999999998,2872.3799999999983,1547.8999999999992,2141.5299999999984,273.4799999999999,201.62,221.58999999999997,145.15999999999997,213.82,208.97,131.33999999999997,227.77999999999997,355.84000000000003,257.63,283.34999999999997,330.42,409.7,296.15,170.91999999999996,466.13999999999993]},{\"mode\":\"markers+lines\",\"name\":\"Lucro por dia no a\\u00e7ougue\",\"type\":\"scatter\",\"x\":[\"2021-11-01\",\"2021-11-02\",\"2021-11-03\",\"2021-11-04\",\"2021-11-05\",\"2021-11-06\",\"2021-11-07\",\"2021-11-08\",\"2021-11-09\",\"2021-11-10\",\"2021-11-11\",\"2021-11-12\",\"2021-11-13\",\"2021-11-14\",\"2021-11-15\",\"2021-11-16\",\"2021-11-17\",\"2021-11-18\",\"2021-11-19\",\"2021-11-20\",\"2021-11-21\",\"2021-11-22\",\"2021-11-23\",\"2021-11-24\",\"2021-11-25\",\"2021-11-26\",\"2021-11-27\",\"2021-11-28\",\"2021-11-29\",\"2021-11-30\"],\"y\":[1268.2199999999998,753.6799999999997,837.3799999999997,1348.7899999999995,596.1400000000001,1123.2499999999995,1059.1499999999999,1122.1899999999994,764.9999999999999,1412.1999999999991,949.6799999999996,1259.5299999999993,602.31,980.0999999999998,222.38999999999993,80.72,44.70999999999999,54.91999999999998,114.43999999999996,151.5,36.89999999999999,65.55999999999999,277.70000000000005,71.53999999999999,31.71999999999999,225.32999999999998,205.50999999999996,136.82,33.89999999999999,159.48999999999998]},{\"mode\":\"markers+lines\",\"name\":\"Lucro por dia na se\\u00e7\\u00e3o de frutas e verduras\",\"type\":\"scatter\",\"x\":[\"2021-11-01\",\"2021-11-02\",\"2021-11-03\",\"2021-11-04\",\"2021-11-05\",\"2021-11-06\",\"2021-11-07\",\"2021-11-08\",\"2021-11-09\",\"2021-11-10\",\"2021-11-11\",\"2021-11-12\",\"2021-11-13\",\"2021-11-14\",\"2021-11-15\",\"2021-11-16\",\"2021-11-17\",\"2021-11-18\",\"2021-11-19\",\"2021-11-20\",\"2021-11-21\",\"2021-11-22\",\"2021-11-23\",\"2021-11-24\",\"2021-11-25\",\"2021-11-26\",\"2021-11-27\",\"2021-11-28\",\"2021-11-29\",\"2021-11-30\"],\"y\":[150.54999999999998,118.59000000000003,69.18999999999998,88.25999999999999,109.15999999999995,76.54,20.58999999999995,242.99000000000007,243.22999999999993,275.62999999999994,251.24999999999997,318.04999999999995,179.47,173.27,3.6900000000000004,27.60000000000001,-4.000000000000002,25.910000000000004,22.14,-21.59000000000001,23.810000000000002,-22.02000000000001,19.79,12.599999999999998,14.27,31.529999999999987,31.480000000000004,13.579999999999998,44.31999999999999,47.64]},{\"mode\":\"markers+lines\",\"name\":\"Lucro por dia na padaria\",\"type\":\"scatter\",\"x\":[\"2021-11-01\",\"2021-11-02\",\"2021-11-03\",\"2021-11-04\",\"2021-11-05\",\"2021-11-06\",\"2021-11-07\",\"2021-11-08\",\"2021-11-09\",\"2021-11-10\",\"2021-11-11\",\"2021-11-12\",\"2021-11-13\",\"2021-11-14\",\"2021-11-15\",\"2021-11-16\",\"2021-11-17\",\"2021-11-18\",\"2021-11-19\",\"2021-11-20\",\"2021-11-21\",\"2021-11-22\",\"2021-11-23\",\"2021-11-24\",\"2021-11-25\",\"2021-11-26\",\"2021-11-27\",\"2021-11-28\",\"2021-11-29\",\"2021-11-30\"],\"y\":[643.9699999999998,488.49999999999994,382.75,865.7399999999999,542.6600000000002,478.74000000000007,637.12,577.3900000000002,931.3000000000002,1236.15,903.3499999999999,900.8000000000001,462.3200000000001,636.4200000000001,39.0,90.5,126.35000000000001,52.8,66.2,60.980000000000004,54.019999999999996,119.17000000000002,54.150000000000006,106.36,218.14,41.03,146.37,106.41,66.64999999999999,190.75]},{\"mode\":\"markers+lines\",\"name\":\"Lucro por dia na se\\u00e7\\u00e3o de limpezas\",\"type\":\"scatter\",\"x\":[\"2021-11-01\",\"2021-11-02\",\"2021-11-03\",\"2021-11-04\",\"2021-11-05\",\"2021-11-06\",\"2021-11-07\",\"2021-11-08\",\"2021-11-09\",\"2021-11-10\",\"2021-11-11\",\"2021-11-12\",\"2021-11-13\",\"2021-11-14\",\"2021-11-15\",\"2021-11-16\",\"2021-11-17\",\"2021-11-18\",\"2021-11-19\",\"2021-11-20\",\"2021-11-21\",\"2021-11-22\",\"2021-11-23\",\"2021-11-24\",\"2021-11-25\",\"2021-11-26\",\"2021-11-27\",\"2021-11-28\",\"2021-11-29\",\"2021-11-30\"],\"y\":[143.99,127.74999999999999,265.15,270.7,307.59999999999974,210.08999999999995,290.23999999999995,298.9,206.49999999999997,398.02999999999975,231.9899999999999,393.9999999999999,303.79999999999984,351.73999999999995,8.4,2.8,54.52999999999999,11.529999999999998,11.04,18.08,16.61,65.07,4.2,67.13,19.219999999999995,32.53,26.34,39.34,26.049999999999997,68.25999999999999]}],                        {\"font\":{\"color\":\"black\",\"family\":\"Arial\",\"size\":14},\"plot_bgcolor\":\"white\",\"template\":{\"data\":{\"bar\":[{\"error_x\":{\"color\":\"#2a3f5f\"},\"error_y\":{\"color\":\"#2a3f5f\"},\"marker\":{\"line\":{\"color\":\"#E5ECF6\",\"width\":0.5},\"pattern\":{\"fillmode\":\"overlay\",\"size\":10,\"solidity\":0.2}},\"type\":\"bar\"}],\"barpolar\":[{\"marker\":{\"line\":{\"color\":\"#E5ECF6\",\"width\":0.5},\"pattern\":{\"fillmode\":\"overlay\",\"size\":10,\"solidity\":0.2}},\"type\":\"barpolar\"}],\"carpet\":[{\"aaxis\":{\"endlinecolor\":\"#2a3f5f\",\"gridcolor\":\"white\",\"linecolor\":\"white\",\"minorgridcolor\":\"white\",\"startlinecolor\":\"#2a3f5f\"},\"baxis\":{\"endlinecolor\":\"#2a3f5f\",\"gridcolor\":\"white\",\"linecolor\":\"white\",\"minorgridcolor\":\"white\",\"startlinecolor\":\"#2a3f5f\"},\"type\":\"carpet\"}],\"choropleth\":[{\"colorbar\":{\"outlinewidth\":0,\"ticks\":\"\"},\"type\":\"choropleth\"}],\"contour\":[{\"colorbar\":{\"outlinewidth\":0,\"ticks\":\"\"},\"colorscale\":[[0.0,\"#0d0887\"],[0.1111111111111111,\"#46039f\"],[0.2222222222222222,\"#7201a8\"],[0.3333333333333333,\"#9c179e\"],[0.4444444444444444,\"#bd3786\"],[0.5555555555555556,\"#d8576b\"],[0.6666666666666666,\"#ed7953\"],[0.7777777777777778,\"#fb9f3a\"],[0.8888888888888888,\"#fdca26\"],[1.0,\"#f0f921\"]],\"type\":\"contour\"}],\"contourcarpet\":[{\"colorbar\":{\"outlinewidth\":0,\"ticks\":\"\"},\"type\":\"contourcarpet\"}],\"heatmap\":[{\"colorbar\":{\"outlinewidth\":0,\"ticks\":\"\"},\"colorscale\":[[0.0,\"#0d0887\"],[0.1111111111111111,\"#46039f\"],[0.2222222222222222,\"#7201a8\"],[0.3333333333333333,\"#9c179e\"],[0.4444444444444444,\"#bd3786\"],[0.5555555555555556,\"#d8576b\"],[0.6666666666666666,\"#ed7953\"],[0.7777777777777778,\"#fb9f3a\"],[0.8888888888888888,\"#fdca26\"],[1.0,\"#f0f921\"]],\"type\":\"heatmap\"}],\"heatmapgl\":[{\"colorbar\":{\"outlinewidth\":0,\"ticks\":\"\"},\"colorscale\":[[0.0,\"#0d0887\"],[0.1111111111111111,\"#46039f\"],[0.2222222222222222,\"#7201a8\"],[0.3333333333333333,\"#9c179e\"],[0.4444444444444444,\"#bd3786\"],[0.5555555555555556,\"#d8576b\"],[0.6666666666666666,\"#ed7953\"],[0.7777777777777778,\"#fb9f3a\"],[0.8888888888888888,\"#fdca26\"],[1.0,\"#f0f921\"]],\"type\":\"heatmapgl\"}],\"histogram\":[{\"marker\":{\"pattern\":{\"fillmode\":\"overlay\",\"size\":10,\"solidity\":0.2}},\"type\":\"histogram\"}],\"histogram2d\":[{\"colorbar\":{\"outlinewidth\":0,\"ticks\":\"\"},\"colorscale\":[[0.0,\"#0d0887\"],[0.1111111111111111,\"#46039f\"],[0.2222222222222222,\"#7201a8\"],[0.3333333333333333,\"#9c179e\"],[0.4444444444444444,\"#bd3786\"],[0.5555555555555556,\"#d8576b\"],[0.6666666666666666,\"#ed7953\"],[0.7777777777777778,\"#fb9f3a\"],[0.8888888888888888,\"#fdca26\"],[1.0,\"#f0f921\"]],\"type\":\"histogram2d\"}],\"histogram2dcontour\":[{\"colorbar\":{\"outlinewidth\":0,\"ticks\":\"\"},\"colorscale\":[[0.0,\"#0d0887\"],[0.1111111111111111,\"#46039f\"],[0.2222222222222222,\"#7201a8\"],[0.3333333333333333,\"#9c179e\"],[0.4444444444444444,\"#bd3786\"],[0.5555555555555556,\"#d8576b\"],[0.6666666666666666,\"#ed7953\"],[0.7777777777777778,\"#fb9f3a\"],[0.8888888888888888,\"#fdca26\"],[1.0,\"#f0f921\"]],\"type\":\"histogram2dcontour\"}],\"mesh3d\":[{\"colorbar\":{\"outlinewidth\":0,\"ticks\":\"\"},\"type\":\"mesh3d\"}],\"parcoords\":[{\"line\":{\"colorbar\":{\"outlinewidth\":0,\"ticks\":\"\"}},\"type\":\"parcoords\"}],\"pie\":[{\"automargin\":true,\"type\":\"pie\"}],\"scatter\":[{\"marker\":{\"colorbar\":{\"outlinewidth\":0,\"ticks\":\"\"}},\"type\":\"scatter\"}],\"scatter3d\":[{\"line\":{\"colorbar\":{\"outlinewidth\":0,\"ticks\":\"\"}},\"marker\":{\"colorbar\":{\"outlinewidth\":0,\"ticks\":\"\"}},\"type\":\"scatter3d\"}],\"scattercarpet\":[{\"marker\":{\"colorbar\":{\"outlinewidth\":0,\"ticks\":\"\"}},\"type\":\"scattercarpet\"}],\"scattergeo\":[{\"marker\":{\"colorbar\":{\"outlinewidth\":0,\"ticks\":\"\"}},\"type\":\"scattergeo\"}],\"scattergl\":[{\"marker\":{\"colorbar\":{\"outlinewidth\":0,\"ticks\":\"\"}},\"type\":\"scattergl\"}],\"scattermapbox\":[{\"marker\":{\"colorbar\":{\"outlinewidth\":0,\"ticks\":\"\"}},\"type\":\"scattermapbox\"}],\"scatterpolar\":[{\"marker\":{\"colorbar\":{\"outlinewidth\":0,\"ticks\":\"\"}},\"type\":\"scatterpolar\"}],\"scatterpolargl\":[{\"marker\":{\"colorbar\":{\"outlinewidth\":0,\"ticks\":\"\"}},\"type\":\"scatterpolargl\"}],\"scatterternary\":[{\"marker\":{\"colorbar\":{\"outlinewidth\":0,\"ticks\":\"\"}},\"type\":\"scatterternary\"}],\"surface\":[{\"colorbar\":{\"outlinewidth\":0,\"ticks\":\"\"},\"colorscale\":[[0.0,\"#0d0887\"],[0.1111111111111111,\"#46039f\"],[0.2222222222222222,\"#7201a8\"],[0.3333333333333333,\"#9c179e\"],[0.4444444444444444,\"#bd3786\"],[0.5555555555555556,\"#d8576b\"],[0.6666666666666666,\"#ed7953\"],[0.7777777777777778,\"#fb9f3a\"],[0.8888888888888888,\"#fdca26\"],[1.0,\"#f0f921\"]],\"type\":\"surface\"}],\"table\":[{\"cells\":{\"fill\":{\"color\":\"#EBF0F8\"},\"line\":{\"color\":\"white\"}},\"header\":{\"fill\":{\"color\":\"#C8D4E3\"},\"line\":{\"color\":\"white\"}},\"type\":\"table\"}]},\"layout\":{\"annotationdefaults\":{\"arrowcolor\":\"#2a3f5f\",\"arrowhead\":0,\"arrowwidth\":1},\"autotypenumbers\":\"strict\",\"coloraxis\":{\"colorbar\":{\"outlinewidth\":0,\"ticks\":\"\"}},\"colorscale\":{\"diverging\":[[0,\"#8e0152\"],[0.1,\"#c51b7d\"],[0.2,\"#de77ae\"],[0.3,\"#f1b6da\"],[0.4,\"#fde0ef\"],[0.5,\"#f7f7f7\"],[0.6,\"#e6f5d0\"],[0.7,\"#b8e186\"],[0.8,\"#7fbc41\"],[0.9,\"#4d9221\"],[1,\"#276419\"]],\"sequential\":[[0.0,\"#0d0887\"],[0.1111111111111111,\"#46039f\"],[0.2222222222222222,\"#7201a8\"],[0.3333333333333333,\"#9c179e\"],[0.4444444444444444,\"#bd3786\"],[0.5555555555555556,\"#d8576b\"],[0.6666666666666666,\"#ed7953\"],[0.7777777777777778,\"#fb9f3a\"],[0.8888888888888888,\"#fdca26\"],[1.0,\"#f0f921\"]],\"sequentialminus\":[[0.0,\"#0d0887\"],[0.1111111111111111,\"#46039f\"],[0.2222222222222222,\"#7201a8\"],[0.3333333333333333,\"#9c179e\"],[0.4444444444444444,\"#bd3786\"],[0.5555555555555556,\"#d8576b\"],[0.6666666666666666,\"#ed7953\"],[0.7777777777777778,\"#fb9f3a\"],[0.8888888888888888,\"#fdca26\"],[1.0,\"#f0f921\"]]},\"colorway\":[\"#636efa\",\"#EF553B\",\"#00cc96\",\"#ab63fa\",\"#FFA15A\",\"#19d3f3\",\"#FF6692\",\"#B6E880\",\"#FF97FF\",\"#FECB52\"],\"font\":{\"color\":\"#2a3f5f\"},\"geo\":{\"bgcolor\":\"white\",\"lakecolor\":\"white\",\"landcolor\":\"#E5ECF6\",\"showlakes\":true,\"showland\":true,\"subunitcolor\":\"white\"},\"hoverlabel\":{\"align\":\"left\"},\"hovermode\":\"closest\",\"mapbox\":{\"style\":\"light\"},\"paper_bgcolor\":\"white\",\"plot_bgcolor\":\"#E5ECF6\",\"polar\":{\"angularaxis\":{\"gridcolor\":\"white\",\"linecolor\":\"white\",\"ticks\":\"\"},\"bgcolor\":\"#E5ECF6\",\"radialaxis\":{\"gridcolor\":\"white\",\"linecolor\":\"white\",\"ticks\":\"\"}},\"scene\":{\"xaxis\":{\"backgroundcolor\":\"#E5ECF6\",\"gridcolor\":\"white\",\"gridwidth\":2,\"linecolor\":\"white\",\"showbackground\":true,\"ticks\":\"\",\"zerolinecolor\":\"white\"},\"yaxis\":{\"backgroundcolor\":\"#E5ECF6\",\"gridcolor\":\"white\",\"gridwidth\":2,\"linecolor\":\"white\",\"showbackground\":true,\"ticks\":\"\",\"zerolinecolor\":\"white\"},\"zaxis\":{\"backgroundcolor\":\"#E5ECF6\",\"gridcolor\":\"white\",\"gridwidth\":2,\"linecolor\":\"white\",\"showbackground\":true,\"ticks\":\"\",\"zerolinecolor\":\"white\"}},\"shapedefaults\":{\"line\":{\"color\":\"#2a3f5f\"}},\"ternary\":{\"aaxis\":{\"gridcolor\":\"white\",\"linecolor\":\"white\",\"ticks\":\"\"},\"baxis\":{\"gridcolor\":\"white\",\"linecolor\":\"white\",\"ticks\":\"\"},\"bgcolor\":\"#E5ECF6\",\"caxis\":{\"gridcolor\":\"white\",\"linecolor\":\"white\",\"ticks\":\"\"}},\"title\":{\"x\":0.05},\"xaxis\":{\"automargin\":true,\"gridcolor\":\"white\",\"linecolor\":\"white\",\"ticks\":\"\",\"title\":{\"standoff\":15},\"zerolinecolor\":\"white\",\"zerolinewidth\":2},\"yaxis\":{\"automargin\":true,\"gridcolor\":\"white\",\"linecolor\":\"white\",\"ticks\":\"\",\"title\":{\"standoff\":15},\"zerolinecolor\":\"white\",\"zerolinewidth\":2}}},\"title\":{\"text\":\"Lucro por se\\u00e7\\u00e3o no m\\u00eas de novembro\"},\"xaxis\":{\"gridcolor\":\"lightgray\",\"gridwidth\":1,\"linecolor\":\"black\",\"linewidth\":1,\"showgrid\":true,\"showline\":true,\"title\":{\"text\":\"Data\"}},\"yaxis\":{\"gridcolor\":\"lightgray\",\"gridwidth\":1,\"linecolor\":\"black\",\"linewidth\":1,\"showgrid\":true,\"showline\":true,\"title\":{\"text\":\"Lucro\"}}},                        {\"responsive\": true}                    ).then(function(){\n",
       "                            \n",
       "var gd = document.getElementById('bb52d7f8-cb90-4b70-94d9-130d4c6b0750');\n",
       "var x = new MutationObserver(function (mutations, observer) {{\n",
       "        var display = window.getComputedStyle(gd).display;\n",
       "        if (!display || display === 'none') {{\n",
       "            console.log([gd, 'removed!']);\n",
       "            Plotly.purge(gd);\n",
       "            observer.disconnect();\n",
       "        }}\n",
       "}});\n",
       "\n",
       "// Listen for the removal of the full notebook cells\n",
       "var notebookContainer = gd.closest('#notebook-container');\n",
       "if (notebookContainer) {{\n",
       "    x.observe(notebookContainer, {childList: true});\n",
       "}}\n",
       "\n",
       "// Listen for the clearing of the current output cell\n",
       "var outputEl = gd.closest('.output');\n",
       "if (outputEl) {{\n",
       "    x.observe(outputEl, {childList: true});\n",
       "}}\n",
       "\n",
       "                        })                };                });            </script>        </div>"
      ]
     },
     "metadata": {},
     "output_type": "display_data"
    }
   ],
   "source": [
    "import plotly.graph_objs as go\n",
    "fig_lucro_tempo = go.Figure()\n",
    "\n",
    "fig_lucro_tempo.add_trace(go.Scatter(x=venda_produtos_cliente_soma_lucros[\"data\"], y=venda_produtos_cliente_soma_lucros[\"lucro\"], \n",
    "              mode = 'markers+lines', name = 'Lucro total'))\n",
    "\n",
    "fig_lucro_tempo.add_trace(go.Scatter(x = df_acougue_lucros[\"data\"],\n",
    "                    y = df_acougue_lucros[\"lucro\"],\n",
    "                    mode = 'markers+lines',\n",
    "                    name = 'Lucro por dia no açougue')) \n",
    "\n",
    "\n",
    "fig_lucro_tempo.add_trace(go.Scatter(x = df_frutas_e_verduras_lucros[\"data\"],\n",
    "                    y = df_frutas_e_verduras_lucros[\"lucro\"],\n",
    "                    mode = 'markers+lines',\n",
    "                    name = 'Lucro por dia na seção de frutas e verduras'))\n",
    "\n",
    "\n",
    "fig_lucro_tempo.add_trace(go.Scatter(x = df_padaria_lucros[\"data\"],\n",
    "                    y = df_padaria_lucros[\"lucro\"],\n",
    "                    mode = 'markers+lines',\n",
    "                    name = 'Lucro por dia na padaria')) \n",
    "\n",
    "\n",
    "fig_lucro_tempo.add_trace(go.Scatter(x = df_produtos_de_limpeza_lucros[\"data\"],\n",
    "                    y = df_produtos_de_limpeza_lucros[\"lucro\"],\n",
    "                    mode = 'markers+lines',\n",
    "                    name = 'Lucro por dia na seção de limpezas')) \n",
    "\n",
    "fig_lucro_tempo.update_layout(title='Lucro por seção no mês de novembro',\n",
    "xaxis_title='Data',\n",
    "yaxis_title='Lucro',\n",
    "plot_bgcolor = 'white',\n",
    "font = {'family': 'Arial','size': 14,'color': 'black'})\n",
    "fig_lucro_tempo.update_xaxes( showgrid=True, gridwidth=1, gridcolor='lightgray',\n",
    "showline=True, linewidth=1, linecolor='black')\n",
    "fig_lucro_tempo.update_yaxes(showgrid=True, gridwidth=1, gridcolor='lightgray',\n",
    "showline=True, linewidth=1, linecolor='black')\n",
    "fig_lucro_tempo.show()"
   ]
  },
  {
   "cell_type": "code",
   "execution_count": null,
   "id": "0f518b78",
   "metadata": {},
   "outputs": [],
   "source": []
  },
  {
   "cell_type": "code",
   "execution_count": 361,
   "id": "ffea88e2",
   "metadata": {},
   "outputs": [
    {
     "data": {
      "application/vnd.plotly.v1+json": {
       "config": {
        "plotlyServerURL": "https://plot.ly"
       },
       "data": [
        {
         "alignmentgroup": "True",
         "hovertemplate": "Seção=%{x}<br>Lucro=%{y}<extra></extra>",
         "legendgroup": "Açougue",
         "marker": {
          "color": "#636efa",
          "pattern": {
           "shape": ""
          }
         },
         "name": "Açougue",
         "offsetgroup": "Açougue",
         "orientation": "v",
         "showlegend": true,
         "textposition": "auto",
         "type": "bar",
         "x": [
          "Açougue"
         ],
         "xaxis": "x",
         "y": [
          15990.770000000013
         ],
         "yaxis": "y"
        },
        {
         "alignmentgroup": "True",
         "hovertemplate": "Seção=%{x}<br>Lucro=%{y}<extra></extra>",
         "legendgroup": "Padaria",
         "marker": {
          "color": "#EF553B",
          "pattern": {
           "shape": ""
          }
         },
         "name": "Padaria",
         "offsetgroup": "Padaria",
         "orientation": "v",
         "showlegend": true,
         "textposition": "auto",
         "type": "bar",
         "x": [
          "Padaria"
         ],
         "xaxis": "x",
         "y": [
          11226.090000000013
         ],
         "yaxis": "y"
        },
        {
         "alignmentgroup": "True",
         "hovertemplate": "Seção=%{x}<br>Lucro=%{y}<extra></extra>",
         "legendgroup": "Produtos de Limpeza",
         "marker": {
          "color": "#00cc96",
          "pattern": {
           "shape": ""
          }
         },
         "name": "Produtos de Limpeza",
         "offsetgroup": "Produtos de Limpeza",
         "orientation": "v",
         "showlegend": true,
         "textposition": "auto",
         "type": "bar",
         "x": [
          "Produtos de Limpeza"
         ],
         "xaxis": "x",
         "y": [
          4271.609999999995
         ],
         "yaxis": "y"
        },
        {
         "alignmentgroup": "True",
         "hovertemplate": "Seção=%{x}<br>Lucro=%{y}<extra></extra>",
         "legendgroup": "Alimentos em Geral",
         "marker": {
          "color": "#ab63fa",
          "pattern": {
           "shape": ""
          }
         },
         "name": "Alimentos em Geral",
         "offsetgroup": "Alimentos em Geral",
         "orientation": "v",
         "showlegend": true,
         "textposition": "auto",
         "type": "bar",
         "x": [
          "Alimentos em Geral"
         ],
         "xaxis": "x",
         "y": [
          2587.5199999999995
         ],
         "yaxis": "y"
        }
       ],
       "layout": {
        "barmode": "stack",
        "legend": {
         "title": {
          "text": "Seção"
         },
         "tracegroupgap": 0
        },
        "margin": {
         "t": 60
        },
        "template": {
         "data": {
          "bar": [
           {
            "error_x": {
             "color": "#2a3f5f"
            },
            "error_y": {
             "color": "#2a3f5f"
            },
            "marker": {
             "line": {
              "color": "#E5ECF6",
              "width": 0.5
             },
             "pattern": {
              "fillmode": "overlay",
              "size": 10,
              "solidity": 0.2
             }
            },
            "type": "bar"
           }
          ],
          "barpolar": [
           {
            "marker": {
             "line": {
              "color": "#E5ECF6",
              "width": 0.5
             },
             "pattern": {
              "fillmode": "overlay",
              "size": 10,
              "solidity": 0.2
             }
            },
            "type": "barpolar"
           }
          ],
          "carpet": [
           {
            "aaxis": {
             "endlinecolor": "#2a3f5f",
             "gridcolor": "white",
             "linecolor": "white",
             "minorgridcolor": "white",
             "startlinecolor": "#2a3f5f"
            },
            "baxis": {
             "endlinecolor": "#2a3f5f",
             "gridcolor": "white",
             "linecolor": "white",
             "minorgridcolor": "white",
             "startlinecolor": "#2a3f5f"
            },
            "type": "carpet"
           }
          ],
          "choropleth": [
           {
            "colorbar": {
             "outlinewidth": 0,
             "ticks": ""
            },
            "type": "choropleth"
           }
          ],
          "contour": [
           {
            "colorbar": {
             "outlinewidth": 0,
             "ticks": ""
            },
            "colorscale": [
             [
              0,
              "#0d0887"
             ],
             [
              0.1111111111111111,
              "#46039f"
             ],
             [
              0.2222222222222222,
              "#7201a8"
             ],
             [
              0.3333333333333333,
              "#9c179e"
             ],
             [
              0.4444444444444444,
              "#bd3786"
             ],
             [
              0.5555555555555556,
              "#d8576b"
             ],
             [
              0.6666666666666666,
              "#ed7953"
             ],
             [
              0.7777777777777778,
              "#fb9f3a"
             ],
             [
              0.8888888888888888,
              "#fdca26"
             ],
             [
              1,
              "#f0f921"
             ]
            ],
            "type": "contour"
           }
          ],
          "contourcarpet": [
           {
            "colorbar": {
             "outlinewidth": 0,
             "ticks": ""
            },
            "type": "contourcarpet"
           }
          ],
          "heatmap": [
           {
            "colorbar": {
             "outlinewidth": 0,
             "ticks": ""
            },
            "colorscale": [
             [
              0,
              "#0d0887"
             ],
             [
              0.1111111111111111,
              "#46039f"
             ],
             [
              0.2222222222222222,
              "#7201a8"
             ],
             [
              0.3333333333333333,
              "#9c179e"
             ],
             [
              0.4444444444444444,
              "#bd3786"
             ],
             [
              0.5555555555555556,
              "#d8576b"
             ],
             [
              0.6666666666666666,
              "#ed7953"
             ],
             [
              0.7777777777777778,
              "#fb9f3a"
             ],
             [
              0.8888888888888888,
              "#fdca26"
             ],
             [
              1,
              "#f0f921"
             ]
            ],
            "type": "heatmap"
           }
          ],
          "heatmapgl": [
           {
            "colorbar": {
             "outlinewidth": 0,
             "ticks": ""
            },
            "colorscale": [
             [
              0,
              "#0d0887"
             ],
             [
              0.1111111111111111,
              "#46039f"
             ],
             [
              0.2222222222222222,
              "#7201a8"
             ],
             [
              0.3333333333333333,
              "#9c179e"
             ],
             [
              0.4444444444444444,
              "#bd3786"
             ],
             [
              0.5555555555555556,
              "#d8576b"
             ],
             [
              0.6666666666666666,
              "#ed7953"
             ],
             [
              0.7777777777777778,
              "#fb9f3a"
             ],
             [
              0.8888888888888888,
              "#fdca26"
             ],
             [
              1,
              "#f0f921"
             ]
            ],
            "type": "heatmapgl"
           }
          ],
          "histogram": [
           {
            "marker": {
             "pattern": {
              "fillmode": "overlay",
              "size": 10,
              "solidity": 0.2
             }
            },
            "type": "histogram"
           }
          ],
          "histogram2d": [
           {
            "colorbar": {
             "outlinewidth": 0,
             "ticks": ""
            },
            "colorscale": [
             [
              0,
              "#0d0887"
             ],
             [
              0.1111111111111111,
              "#46039f"
             ],
             [
              0.2222222222222222,
              "#7201a8"
             ],
             [
              0.3333333333333333,
              "#9c179e"
             ],
             [
              0.4444444444444444,
              "#bd3786"
             ],
             [
              0.5555555555555556,
              "#d8576b"
             ],
             [
              0.6666666666666666,
              "#ed7953"
             ],
             [
              0.7777777777777778,
              "#fb9f3a"
             ],
             [
              0.8888888888888888,
              "#fdca26"
             ],
             [
              1,
              "#f0f921"
             ]
            ],
            "type": "histogram2d"
           }
          ],
          "histogram2dcontour": [
           {
            "colorbar": {
             "outlinewidth": 0,
             "ticks": ""
            },
            "colorscale": [
             [
              0,
              "#0d0887"
             ],
             [
              0.1111111111111111,
              "#46039f"
             ],
             [
              0.2222222222222222,
              "#7201a8"
             ],
             [
              0.3333333333333333,
              "#9c179e"
             ],
             [
              0.4444444444444444,
              "#bd3786"
             ],
             [
              0.5555555555555556,
              "#d8576b"
             ],
             [
              0.6666666666666666,
              "#ed7953"
             ],
             [
              0.7777777777777778,
              "#fb9f3a"
             ],
             [
              0.8888888888888888,
              "#fdca26"
             ],
             [
              1,
              "#f0f921"
             ]
            ],
            "type": "histogram2dcontour"
           }
          ],
          "mesh3d": [
           {
            "colorbar": {
             "outlinewidth": 0,
             "ticks": ""
            },
            "type": "mesh3d"
           }
          ],
          "parcoords": [
           {
            "line": {
             "colorbar": {
              "outlinewidth": 0,
              "ticks": ""
             }
            },
            "type": "parcoords"
           }
          ],
          "pie": [
           {
            "automargin": true,
            "type": "pie"
           }
          ],
          "scatter": [
           {
            "marker": {
             "colorbar": {
              "outlinewidth": 0,
              "ticks": ""
             }
            },
            "type": "scatter"
           }
          ],
          "scatter3d": [
           {
            "line": {
             "colorbar": {
              "outlinewidth": 0,
              "ticks": ""
             }
            },
            "marker": {
             "colorbar": {
              "outlinewidth": 0,
              "ticks": ""
             }
            },
            "type": "scatter3d"
           }
          ],
          "scattercarpet": [
           {
            "marker": {
             "colorbar": {
              "outlinewidth": 0,
              "ticks": ""
             }
            },
            "type": "scattercarpet"
           }
          ],
          "scattergeo": [
           {
            "marker": {
             "colorbar": {
              "outlinewidth": 0,
              "ticks": ""
             }
            },
            "type": "scattergeo"
           }
          ],
          "scattergl": [
           {
            "marker": {
             "colorbar": {
              "outlinewidth": 0,
              "ticks": ""
             }
            },
            "type": "scattergl"
           }
          ],
          "scattermapbox": [
           {
            "marker": {
             "colorbar": {
              "outlinewidth": 0,
              "ticks": ""
             }
            },
            "type": "scattermapbox"
           }
          ],
          "scatterpolar": [
           {
            "marker": {
             "colorbar": {
              "outlinewidth": 0,
              "ticks": ""
             }
            },
            "type": "scatterpolar"
           }
          ],
          "scatterpolargl": [
           {
            "marker": {
             "colorbar": {
              "outlinewidth": 0,
              "ticks": ""
             }
            },
            "type": "scatterpolargl"
           }
          ],
          "scatterternary": [
           {
            "marker": {
             "colorbar": {
              "outlinewidth": 0,
              "ticks": ""
             }
            },
            "type": "scatterternary"
           }
          ],
          "surface": [
           {
            "colorbar": {
             "outlinewidth": 0,
             "ticks": ""
            },
            "colorscale": [
             [
              0,
              "#0d0887"
             ],
             [
              0.1111111111111111,
              "#46039f"
             ],
             [
              0.2222222222222222,
              "#7201a8"
             ],
             [
              0.3333333333333333,
              "#9c179e"
             ],
             [
              0.4444444444444444,
              "#bd3786"
             ],
             [
              0.5555555555555556,
              "#d8576b"
             ],
             [
              0.6666666666666666,
              "#ed7953"
             ],
             [
              0.7777777777777778,
              "#fb9f3a"
             ],
             [
              0.8888888888888888,
              "#fdca26"
             ],
             [
              1,
              "#f0f921"
             ]
            ],
            "type": "surface"
           }
          ],
          "table": [
           {
            "cells": {
             "fill": {
              "color": "#EBF0F8"
             },
             "line": {
              "color": "white"
             }
            },
            "header": {
             "fill": {
              "color": "#C8D4E3"
             },
             "line": {
              "color": "white"
             }
            },
            "type": "table"
           }
          ]
         },
         "layout": {
          "annotationdefaults": {
           "arrowcolor": "#2a3f5f",
           "arrowhead": 0,
           "arrowwidth": 1
          },
          "autotypenumbers": "strict",
          "coloraxis": {
           "colorbar": {
            "outlinewidth": 0,
            "ticks": ""
           }
          },
          "colorscale": {
           "diverging": [
            [
             0,
             "#8e0152"
            ],
            [
             0.1,
             "#c51b7d"
            ],
            [
             0.2,
             "#de77ae"
            ],
            [
             0.3,
             "#f1b6da"
            ],
            [
             0.4,
             "#fde0ef"
            ],
            [
             0.5,
             "#f7f7f7"
            ],
            [
             0.6,
             "#e6f5d0"
            ],
            [
             0.7,
             "#b8e186"
            ],
            [
             0.8,
             "#7fbc41"
            ],
            [
             0.9,
             "#4d9221"
            ],
            [
             1,
             "#276419"
            ]
           ],
           "sequential": [
            [
             0,
             "#0d0887"
            ],
            [
             0.1111111111111111,
             "#46039f"
            ],
            [
             0.2222222222222222,
             "#7201a8"
            ],
            [
             0.3333333333333333,
             "#9c179e"
            ],
            [
             0.4444444444444444,
             "#bd3786"
            ],
            [
             0.5555555555555556,
             "#d8576b"
            ],
            [
             0.6666666666666666,
             "#ed7953"
            ],
            [
             0.7777777777777778,
             "#fb9f3a"
            ],
            [
             0.8888888888888888,
             "#fdca26"
            ],
            [
             1,
             "#f0f921"
            ]
           ],
           "sequentialminus": [
            [
             0,
             "#0d0887"
            ],
            [
             0.1111111111111111,
             "#46039f"
            ],
            [
             0.2222222222222222,
             "#7201a8"
            ],
            [
             0.3333333333333333,
             "#9c179e"
            ],
            [
             0.4444444444444444,
             "#bd3786"
            ],
            [
             0.5555555555555556,
             "#d8576b"
            ],
            [
             0.6666666666666666,
             "#ed7953"
            ],
            [
             0.7777777777777778,
             "#fb9f3a"
            ],
            [
             0.8888888888888888,
             "#fdca26"
            ],
            [
             1,
             "#f0f921"
            ]
           ]
          },
          "colorway": [
           "#636efa",
           "#EF553B",
           "#00cc96",
           "#ab63fa",
           "#FFA15A",
           "#19d3f3",
           "#FF6692",
           "#B6E880",
           "#FF97FF",
           "#FECB52"
          ],
          "font": {
           "color": "#2a3f5f"
          },
          "geo": {
           "bgcolor": "white",
           "lakecolor": "white",
           "landcolor": "#E5ECF6",
           "showlakes": true,
           "showland": true,
           "subunitcolor": "white"
          },
          "hoverlabel": {
           "align": "left"
          },
          "hovermode": "closest",
          "mapbox": {
           "style": "light"
          },
          "paper_bgcolor": "white",
          "plot_bgcolor": "#E5ECF6",
          "polar": {
           "angularaxis": {
            "gridcolor": "white",
            "linecolor": "white",
            "ticks": ""
           },
           "bgcolor": "#E5ECF6",
           "radialaxis": {
            "gridcolor": "white",
            "linecolor": "white",
            "ticks": ""
           }
          },
          "scene": {
           "xaxis": {
            "backgroundcolor": "#E5ECF6",
            "gridcolor": "white",
            "gridwidth": 2,
            "linecolor": "white",
            "showbackground": true,
            "ticks": "",
            "zerolinecolor": "white"
           },
           "yaxis": {
            "backgroundcolor": "#E5ECF6",
            "gridcolor": "white",
            "gridwidth": 2,
            "linecolor": "white",
            "showbackground": true,
            "ticks": "",
            "zerolinecolor": "white"
           },
           "zaxis": {
            "backgroundcolor": "#E5ECF6",
            "gridcolor": "white",
            "gridwidth": 2,
            "linecolor": "white",
            "showbackground": true,
            "ticks": "",
            "zerolinecolor": "white"
           }
          },
          "shapedefaults": {
           "line": {
            "color": "#2a3f5f"
           }
          },
          "ternary": {
           "aaxis": {
            "gridcolor": "white",
            "linecolor": "white",
            "ticks": ""
           },
           "baxis": {
            "gridcolor": "white",
            "linecolor": "white",
            "ticks": ""
           },
           "bgcolor": "#E5ECF6",
           "caxis": {
            "gridcolor": "white",
            "linecolor": "white",
            "ticks": ""
           }
          },
          "title": {
           "x": 0.05
          },
          "xaxis": {
           "automargin": true,
           "gridcolor": "white",
           "linecolor": "white",
           "ticks": "",
           "title": {
            "standoff": 15
           },
           "zerolinecolor": "white",
           "zerolinewidth": 2
          },
          "yaxis": {
           "automargin": true,
           "gridcolor": "white",
           "linecolor": "white",
           "ticks": "",
           "title": {
            "standoff": 15
           },
           "zerolinecolor": "white",
           "zerolinewidth": 2
          }
         }
        },
        "title": {
         "text": "Lucros por seção"
        },
        "xaxis": {
         "anchor": "y",
         "categoryarray": [
          "Açougue",
          "Padaria",
          "Produtos de Limpeza",
          "Alimentos em Geral"
         ],
         "categoryorder": "array",
         "domain": [
          0,
          1
         ],
         "title": {
          "text": "Seção"
         }
        },
        "yaxis": {
         "anchor": "x",
         "domain": [
          0,
          1
         ],
         "title": {
          "text": "Lucro"
         }
        }
       }
      },
      "text/html": [
       "<div>                            <div id=\"a166ed3f-3b62-47f8-a9f2-16fb3c123089\" class=\"plotly-graph-div\" style=\"height:525px; width:100%;\"></div>            <script type=\"text/javascript\">                require([\"plotly\"], function(Plotly) {                    window.PLOTLYENV=window.PLOTLYENV || {};                                    if (document.getElementById(\"a166ed3f-3b62-47f8-a9f2-16fb3c123089\")) {                    Plotly.newPlot(                        \"a166ed3f-3b62-47f8-a9f2-16fb3c123089\",                        [{\"alignmentgroup\":\"True\",\"hovertemplate\":\"Se\\u00e7\\u00e3o=%{x}<br>Lucro=%{y}<extra></extra>\",\"legendgroup\":\"A\\u00e7ougue\",\"marker\":{\"color\":\"#636efa\",\"pattern\":{\"shape\":\"\"}},\"name\":\"A\\u00e7ougue\",\"offsetgroup\":\"A\\u00e7ougue\",\"orientation\":\"v\",\"showlegend\":true,\"textposition\":\"auto\",\"type\":\"bar\",\"x\":[\"A\\u00e7ougue\"],\"xaxis\":\"x\",\"y\":[15990.770000000013],\"yaxis\":\"y\"},{\"alignmentgroup\":\"True\",\"hovertemplate\":\"Se\\u00e7\\u00e3o=%{x}<br>Lucro=%{y}<extra></extra>\",\"legendgroup\":\"Padaria\",\"marker\":{\"color\":\"#EF553B\",\"pattern\":{\"shape\":\"\"}},\"name\":\"Padaria\",\"offsetgroup\":\"Padaria\",\"orientation\":\"v\",\"showlegend\":true,\"textposition\":\"auto\",\"type\":\"bar\",\"x\":[\"Padaria\"],\"xaxis\":\"x\",\"y\":[11226.090000000013],\"yaxis\":\"y\"},{\"alignmentgroup\":\"True\",\"hovertemplate\":\"Se\\u00e7\\u00e3o=%{x}<br>Lucro=%{y}<extra></extra>\",\"legendgroup\":\"Produtos de Limpeza\",\"marker\":{\"color\":\"#00cc96\",\"pattern\":{\"shape\":\"\"}},\"name\":\"Produtos de Limpeza\",\"offsetgroup\":\"Produtos de Limpeza\",\"orientation\":\"v\",\"showlegend\":true,\"textposition\":\"auto\",\"type\":\"bar\",\"x\":[\"Produtos de Limpeza\"],\"xaxis\":\"x\",\"y\":[4271.609999999995],\"yaxis\":\"y\"},{\"alignmentgroup\":\"True\",\"hovertemplate\":\"Se\\u00e7\\u00e3o=%{x}<br>Lucro=%{y}<extra></extra>\",\"legendgroup\":\"Alimentos em Geral\",\"marker\":{\"color\":\"#ab63fa\",\"pattern\":{\"shape\":\"\"}},\"name\":\"Alimentos em Geral\",\"offsetgroup\":\"Alimentos em Geral\",\"orientation\":\"v\",\"showlegend\":true,\"textposition\":\"auto\",\"type\":\"bar\",\"x\":[\"Alimentos em Geral\"],\"xaxis\":\"x\",\"y\":[2587.5199999999995],\"yaxis\":\"y\"}],                        {\"barmode\":\"stack\",\"legend\":{\"title\":{\"text\":\"Se\\u00e7\\u00e3o\"},\"tracegroupgap\":0},\"margin\":{\"t\":60},\"template\":{\"data\":{\"bar\":[{\"error_x\":{\"color\":\"#2a3f5f\"},\"error_y\":{\"color\":\"#2a3f5f\"},\"marker\":{\"line\":{\"color\":\"#E5ECF6\",\"width\":0.5},\"pattern\":{\"fillmode\":\"overlay\",\"size\":10,\"solidity\":0.2}},\"type\":\"bar\"}],\"barpolar\":[{\"marker\":{\"line\":{\"color\":\"#E5ECF6\",\"width\":0.5},\"pattern\":{\"fillmode\":\"overlay\",\"size\":10,\"solidity\":0.2}},\"type\":\"barpolar\"}],\"carpet\":[{\"aaxis\":{\"endlinecolor\":\"#2a3f5f\",\"gridcolor\":\"white\",\"linecolor\":\"white\",\"minorgridcolor\":\"white\",\"startlinecolor\":\"#2a3f5f\"},\"baxis\":{\"endlinecolor\":\"#2a3f5f\",\"gridcolor\":\"white\",\"linecolor\":\"white\",\"minorgridcolor\":\"white\",\"startlinecolor\":\"#2a3f5f\"},\"type\":\"carpet\"}],\"choropleth\":[{\"colorbar\":{\"outlinewidth\":0,\"ticks\":\"\"},\"type\":\"choropleth\"}],\"contour\":[{\"colorbar\":{\"outlinewidth\":0,\"ticks\":\"\"},\"colorscale\":[[0.0,\"#0d0887\"],[0.1111111111111111,\"#46039f\"],[0.2222222222222222,\"#7201a8\"],[0.3333333333333333,\"#9c179e\"],[0.4444444444444444,\"#bd3786\"],[0.5555555555555556,\"#d8576b\"],[0.6666666666666666,\"#ed7953\"],[0.7777777777777778,\"#fb9f3a\"],[0.8888888888888888,\"#fdca26\"],[1.0,\"#f0f921\"]],\"type\":\"contour\"}],\"contourcarpet\":[{\"colorbar\":{\"outlinewidth\":0,\"ticks\":\"\"},\"type\":\"contourcarpet\"}],\"heatmap\":[{\"colorbar\":{\"outlinewidth\":0,\"ticks\":\"\"},\"colorscale\":[[0.0,\"#0d0887\"],[0.1111111111111111,\"#46039f\"],[0.2222222222222222,\"#7201a8\"],[0.3333333333333333,\"#9c179e\"],[0.4444444444444444,\"#bd3786\"],[0.5555555555555556,\"#d8576b\"],[0.6666666666666666,\"#ed7953\"],[0.7777777777777778,\"#fb9f3a\"],[0.8888888888888888,\"#fdca26\"],[1.0,\"#f0f921\"]],\"type\":\"heatmap\"}],\"heatmapgl\":[{\"colorbar\":{\"outlinewidth\":0,\"ticks\":\"\"},\"colorscale\":[[0.0,\"#0d0887\"],[0.1111111111111111,\"#46039f\"],[0.2222222222222222,\"#7201a8\"],[0.3333333333333333,\"#9c179e\"],[0.4444444444444444,\"#bd3786\"],[0.5555555555555556,\"#d8576b\"],[0.6666666666666666,\"#ed7953\"],[0.7777777777777778,\"#fb9f3a\"],[0.8888888888888888,\"#fdca26\"],[1.0,\"#f0f921\"]],\"type\":\"heatmapgl\"}],\"histogram\":[{\"marker\":{\"pattern\":{\"fillmode\":\"overlay\",\"size\":10,\"solidity\":0.2}},\"type\":\"histogram\"}],\"histogram2d\":[{\"colorbar\":{\"outlinewidth\":0,\"ticks\":\"\"},\"colorscale\":[[0.0,\"#0d0887\"],[0.1111111111111111,\"#46039f\"],[0.2222222222222222,\"#7201a8\"],[0.3333333333333333,\"#9c179e\"],[0.4444444444444444,\"#bd3786\"],[0.5555555555555556,\"#d8576b\"],[0.6666666666666666,\"#ed7953\"],[0.7777777777777778,\"#fb9f3a\"],[0.8888888888888888,\"#fdca26\"],[1.0,\"#f0f921\"]],\"type\":\"histogram2d\"}],\"histogram2dcontour\":[{\"colorbar\":{\"outlinewidth\":0,\"ticks\":\"\"},\"colorscale\":[[0.0,\"#0d0887\"],[0.1111111111111111,\"#46039f\"],[0.2222222222222222,\"#7201a8\"],[0.3333333333333333,\"#9c179e\"],[0.4444444444444444,\"#bd3786\"],[0.5555555555555556,\"#d8576b\"],[0.6666666666666666,\"#ed7953\"],[0.7777777777777778,\"#fb9f3a\"],[0.8888888888888888,\"#fdca26\"],[1.0,\"#f0f921\"]],\"type\":\"histogram2dcontour\"}],\"mesh3d\":[{\"colorbar\":{\"outlinewidth\":0,\"ticks\":\"\"},\"type\":\"mesh3d\"}],\"parcoords\":[{\"line\":{\"colorbar\":{\"outlinewidth\":0,\"ticks\":\"\"}},\"type\":\"parcoords\"}],\"pie\":[{\"automargin\":true,\"type\":\"pie\"}],\"scatter\":[{\"marker\":{\"colorbar\":{\"outlinewidth\":0,\"ticks\":\"\"}},\"type\":\"scatter\"}],\"scatter3d\":[{\"line\":{\"colorbar\":{\"outlinewidth\":0,\"ticks\":\"\"}},\"marker\":{\"colorbar\":{\"outlinewidth\":0,\"ticks\":\"\"}},\"type\":\"scatter3d\"}],\"scattercarpet\":[{\"marker\":{\"colorbar\":{\"outlinewidth\":0,\"ticks\":\"\"}},\"type\":\"scattercarpet\"}],\"scattergeo\":[{\"marker\":{\"colorbar\":{\"outlinewidth\":0,\"ticks\":\"\"}},\"type\":\"scattergeo\"}],\"scattergl\":[{\"marker\":{\"colorbar\":{\"outlinewidth\":0,\"ticks\":\"\"}},\"type\":\"scattergl\"}],\"scattermapbox\":[{\"marker\":{\"colorbar\":{\"outlinewidth\":0,\"ticks\":\"\"}},\"type\":\"scattermapbox\"}],\"scatterpolar\":[{\"marker\":{\"colorbar\":{\"outlinewidth\":0,\"ticks\":\"\"}},\"type\":\"scatterpolar\"}],\"scatterpolargl\":[{\"marker\":{\"colorbar\":{\"outlinewidth\":0,\"ticks\":\"\"}},\"type\":\"scatterpolargl\"}],\"scatterternary\":[{\"marker\":{\"colorbar\":{\"outlinewidth\":0,\"ticks\":\"\"}},\"type\":\"scatterternary\"}],\"surface\":[{\"colorbar\":{\"outlinewidth\":0,\"ticks\":\"\"},\"colorscale\":[[0.0,\"#0d0887\"],[0.1111111111111111,\"#46039f\"],[0.2222222222222222,\"#7201a8\"],[0.3333333333333333,\"#9c179e\"],[0.4444444444444444,\"#bd3786\"],[0.5555555555555556,\"#d8576b\"],[0.6666666666666666,\"#ed7953\"],[0.7777777777777778,\"#fb9f3a\"],[0.8888888888888888,\"#fdca26\"],[1.0,\"#f0f921\"]],\"type\":\"surface\"}],\"table\":[{\"cells\":{\"fill\":{\"color\":\"#EBF0F8\"},\"line\":{\"color\":\"white\"}},\"header\":{\"fill\":{\"color\":\"#C8D4E3\"},\"line\":{\"color\":\"white\"}},\"type\":\"table\"}]},\"layout\":{\"annotationdefaults\":{\"arrowcolor\":\"#2a3f5f\",\"arrowhead\":0,\"arrowwidth\":1},\"autotypenumbers\":\"strict\",\"coloraxis\":{\"colorbar\":{\"outlinewidth\":0,\"ticks\":\"\"}},\"colorscale\":{\"diverging\":[[0,\"#8e0152\"],[0.1,\"#c51b7d\"],[0.2,\"#de77ae\"],[0.3,\"#f1b6da\"],[0.4,\"#fde0ef\"],[0.5,\"#f7f7f7\"],[0.6,\"#e6f5d0\"],[0.7,\"#b8e186\"],[0.8,\"#7fbc41\"],[0.9,\"#4d9221\"],[1,\"#276419\"]],\"sequential\":[[0.0,\"#0d0887\"],[0.1111111111111111,\"#46039f\"],[0.2222222222222222,\"#7201a8\"],[0.3333333333333333,\"#9c179e\"],[0.4444444444444444,\"#bd3786\"],[0.5555555555555556,\"#d8576b\"],[0.6666666666666666,\"#ed7953\"],[0.7777777777777778,\"#fb9f3a\"],[0.8888888888888888,\"#fdca26\"],[1.0,\"#f0f921\"]],\"sequentialminus\":[[0.0,\"#0d0887\"],[0.1111111111111111,\"#46039f\"],[0.2222222222222222,\"#7201a8\"],[0.3333333333333333,\"#9c179e\"],[0.4444444444444444,\"#bd3786\"],[0.5555555555555556,\"#d8576b\"],[0.6666666666666666,\"#ed7953\"],[0.7777777777777778,\"#fb9f3a\"],[0.8888888888888888,\"#fdca26\"],[1.0,\"#f0f921\"]]},\"colorway\":[\"#636efa\",\"#EF553B\",\"#00cc96\",\"#ab63fa\",\"#FFA15A\",\"#19d3f3\",\"#FF6692\",\"#B6E880\",\"#FF97FF\",\"#FECB52\"],\"font\":{\"color\":\"#2a3f5f\"},\"geo\":{\"bgcolor\":\"white\",\"lakecolor\":\"white\",\"landcolor\":\"#E5ECF6\",\"showlakes\":true,\"showland\":true,\"subunitcolor\":\"white\"},\"hoverlabel\":{\"align\":\"left\"},\"hovermode\":\"closest\",\"mapbox\":{\"style\":\"light\"},\"paper_bgcolor\":\"white\",\"plot_bgcolor\":\"#E5ECF6\",\"polar\":{\"angularaxis\":{\"gridcolor\":\"white\",\"linecolor\":\"white\",\"ticks\":\"\"},\"bgcolor\":\"#E5ECF6\",\"radialaxis\":{\"gridcolor\":\"white\",\"linecolor\":\"white\",\"ticks\":\"\"}},\"scene\":{\"xaxis\":{\"backgroundcolor\":\"#E5ECF6\",\"gridcolor\":\"white\",\"gridwidth\":2,\"linecolor\":\"white\",\"showbackground\":true,\"ticks\":\"\",\"zerolinecolor\":\"white\"},\"yaxis\":{\"backgroundcolor\":\"#E5ECF6\",\"gridcolor\":\"white\",\"gridwidth\":2,\"linecolor\":\"white\",\"showbackground\":true,\"ticks\":\"\",\"zerolinecolor\":\"white\"},\"zaxis\":{\"backgroundcolor\":\"#E5ECF6\",\"gridcolor\":\"white\",\"gridwidth\":2,\"linecolor\":\"white\",\"showbackground\":true,\"ticks\":\"\",\"zerolinecolor\":\"white\"}},\"shapedefaults\":{\"line\":{\"color\":\"#2a3f5f\"}},\"ternary\":{\"aaxis\":{\"gridcolor\":\"white\",\"linecolor\":\"white\",\"ticks\":\"\"},\"baxis\":{\"gridcolor\":\"white\",\"linecolor\":\"white\",\"ticks\":\"\"},\"bgcolor\":\"#E5ECF6\",\"caxis\":{\"gridcolor\":\"white\",\"linecolor\":\"white\",\"ticks\":\"\"}},\"title\":{\"x\":0.05},\"xaxis\":{\"automargin\":true,\"gridcolor\":\"white\",\"linecolor\":\"white\",\"ticks\":\"\",\"title\":{\"standoff\":15},\"zerolinecolor\":\"white\",\"zerolinewidth\":2},\"yaxis\":{\"automargin\":true,\"gridcolor\":\"white\",\"linecolor\":\"white\",\"ticks\":\"\",\"title\":{\"standoff\":15},\"zerolinecolor\":\"white\",\"zerolinewidth\":2}}},\"title\":{\"text\":\"Lucros por se\\u00e7\\u00e3o\"},\"xaxis\":{\"anchor\":\"y\",\"categoryarray\":[\"A\\u00e7ougue\",\"Padaria\",\"Produtos de Limpeza\",\"Alimentos em Geral\"],\"categoryorder\":\"array\",\"domain\":[0.0,1.0],\"title\":{\"text\":\"Se\\u00e7\\u00e3o\"}},\"yaxis\":{\"anchor\":\"x\",\"domain\":[0.0,1.0],\"title\":{\"text\":\"Lucro\"}}},                        {\"responsive\": true}                    ).then(function(){\n",
       "                            \n",
       "var gd = document.getElementById('a166ed3f-3b62-47f8-a9f2-16fb3c123089');\n",
       "var x = new MutationObserver(function (mutations, observer) {{\n",
       "        var display = window.getComputedStyle(gd).display;\n",
       "        if (!display || display === 'none') {{\n",
       "            console.log([gd, 'removed!']);\n",
       "            Plotly.purge(gd);\n",
       "            observer.disconnect();\n",
       "        }}\n",
       "}});\n",
       "\n",
       "// Listen for the removal of the full notebook cells\n",
       "var notebookContainer = gd.closest('#notebook-container');\n",
       "if (notebookContainer) {{\n",
       "    x.observe(notebookContainer, {childList: true});\n",
       "}}\n",
       "\n",
       "// Listen for the clearing of the current output cell\n",
       "var outputEl = gd.closest('.output');\n",
       "if (outputEl) {{\n",
       "    x.observe(outputEl, {childList: true});\n",
       "}}\n",
       "\n",
       "                        })                };                });            </script>        </div>"
      ]
     },
     "metadata": {},
     "output_type": "display_data"
    }
   ],
   "source": [
    "lucro_secao=venda_produtos_cliente.groupby(\"secao\").sum().sort_values('lucro', ascending=False ).reset_index()\n",
    "\n",
    "fig2 = px.bar(lucro_secao, x=\"secao\", y=\"lucro\", color=\"secao\", barmode = 'stack',\n",
    "             labels={\"lucro\":\"Lucro\", \"secao\":\"Seção\"})\n",
    "fig2.update_layout(title = 'Lucros por seção')\n",
    "fig2.show()"
   ]
  },
  {
   "cell_type": "code",
   "execution_count": 371,
   "id": "232e2bab",
   "metadata": {},
   "outputs": [
    {
     "data": {
      "application/vnd.plotly.v1+json": {
       "config": {
        "plotlyServerURL": "https://plot.ly"
       },
       "data": [
        {
         "alignmentgroup": "True",
         "hovertemplate": "Seção=%{x}<br>Lucro=%{y}<extra></extra>",
         "legendgroup": "Açougue",
         "marker": {
          "color": "#00CC96",
          "pattern": {
           "shape": ""
          }
         },
         "name": "Açougue",
         "offsetgroup": "Açougue",
         "orientation": "v",
         "showlegend": true,
         "textposition": "auto",
         "type": "bar",
         "x": [
          "Açougue"
         ],
         "xaxis": "x",
         "y": [
          15990.770000000013
         ],
         "yaxis": "y"
        },
        {
         "alignmentgroup": "True",
         "hovertemplate": "Seção=%{x}<br>Lucro=%{y}<extra></extra>",
         "legendgroup": "Padaria",
         "marker": {
          "color": "#00CC96",
          "pattern": {
           "shape": ""
          }
         },
         "name": "Padaria",
         "offsetgroup": "Padaria",
         "orientation": "v",
         "showlegend": true,
         "textposition": "auto",
         "type": "bar",
         "x": [
          "Padaria"
         ],
         "xaxis": "x",
         "y": [
          11226.090000000013
         ],
         "yaxis": "y"
        },
        {
         "alignmentgroup": "True",
         "hovertemplate": "Seção=%{x}<br>Lucro=%{y}<extra></extra>",
         "legendgroup": "Produtos de Limpeza",
         "marker": {
          "color": "#00CC96",
          "pattern": {
           "shape": ""
          }
         },
         "name": "Produtos de Limpeza",
         "offsetgroup": "Produtos de Limpeza",
         "orientation": "v",
         "showlegend": true,
         "textposition": "auto",
         "type": "bar",
         "x": [
          "Produtos de Limpeza"
         ],
         "xaxis": "x",
         "y": [
          4271.609999999995
         ],
         "yaxis": "y"
        },
        {
         "alignmentgroup": "True",
         "hovertemplate": "Seção=%{x}<br>Lucro=%{y}<extra></extra>",
         "legendgroup": "Alimentos em Geral",
         "marker": {
          "color": "#00CC96",
          "pattern": {
           "shape": ""
          }
         },
         "name": "Alimentos em Geral",
         "offsetgroup": "Alimentos em Geral",
         "orientation": "v",
         "showlegend": true,
         "textposition": "auto",
         "type": "bar",
         "x": [
          "Alimentos em Geral"
         ],
         "xaxis": "x",
         "y": [
          2587.5199999999995
         ],
         "yaxis": "y"
        }
       ],
       "layout": {
        "barmode": "stack",
        "legend": {
         "title": {
          "text": "Seção"
         },
         "tracegroupgap": 0
        },
        "margin": {
         "t": 60
        },
        "showlegend": false,
        "template": {
         "data": {
          "bar": [
           {
            "error_x": {
             "color": "#2a3f5f"
            },
            "error_y": {
             "color": "#2a3f5f"
            },
            "marker": {
             "line": {
              "color": "#E5ECF6",
              "width": 0.5
             },
             "pattern": {
              "fillmode": "overlay",
              "size": 10,
              "solidity": 0.2
             }
            },
            "type": "bar"
           }
          ],
          "barpolar": [
           {
            "marker": {
             "line": {
              "color": "#E5ECF6",
              "width": 0.5
             },
             "pattern": {
              "fillmode": "overlay",
              "size": 10,
              "solidity": 0.2
             }
            },
            "type": "barpolar"
           }
          ],
          "carpet": [
           {
            "aaxis": {
             "endlinecolor": "#2a3f5f",
             "gridcolor": "white",
             "linecolor": "white",
             "minorgridcolor": "white",
             "startlinecolor": "#2a3f5f"
            },
            "baxis": {
             "endlinecolor": "#2a3f5f",
             "gridcolor": "white",
             "linecolor": "white",
             "minorgridcolor": "white",
             "startlinecolor": "#2a3f5f"
            },
            "type": "carpet"
           }
          ],
          "choropleth": [
           {
            "colorbar": {
             "outlinewidth": 0,
             "ticks": ""
            },
            "type": "choropleth"
           }
          ],
          "contour": [
           {
            "colorbar": {
             "outlinewidth": 0,
             "ticks": ""
            },
            "colorscale": [
             [
              0,
              "#0d0887"
             ],
             [
              0.1111111111111111,
              "#46039f"
             ],
             [
              0.2222222222222222,
              "#7201a8"
             ],
             [
              0.3333333333333333,
              "#9c179e"
             ],
             [
              0.4444444444444444,
              "#bd3786"
             ],
             [
              0.5555555555555556,
              "#d8576b"
             ],
             [
              0.6666666666666666,
              "#ed7953"
             ],
             [
              0.7777777777777778,
              "#fb9f3a"
             ],
             [
              0.8888888888888888,
              "#fdca26"
             ],
             [
              1,
              "#f0f921"
             ]
            ],
            "type": "contour"
           }
          ],
          "contourcarpet": [
           {
            "colorbar": {
             "outlinewidth": 0,
             "ticks": ""
            },
            "type": "contourcarpet"
           }
          ],
          "heatmap": [
           {
            "colorbar": {
             "outlinewidth": 0,
             "ticks": ""
            },
            "colorscale": [
             [
              0,
              "#0d0887"
             ],
             [
              0.1111111111111111,
              "#46039f"
             ],
             [
              0.2222222222222222,
              "#7201a8"
             ],
             [
              0.3333333333333333,
              "#9c179e"
             ],
             [
              0.4444444444444444,
              "#bd3786"
             ],
             [
              0.5555555555555556,
              "#d8576b"
             ],
             [
              0.6666666666666666,
              "#ed7953"
             ],
             [
              0.7777777777777778,
              "#fb9f3a"
             ],
             [
              0.8888888888888888,
              "#fdca26"
             ],
             [
              1,
              "#f0f921"
             ]
            ],
            "type": "heatmap"
           }
          ],
          "heatmapgl": [
           {
            "colorbar": {
             "outlinewidth": 0,
             "ticks": ""
            },
            "colorscale": [
             [
              0,
              "#0d0887"
             ],
             [
              0.1111111111111111,
              "#46039f"
             ],
             [
              0.2222222222222222,
              "#7201a8"
             ],
             [
              0.3333333333333333,
              "#9c179e"
             ],
             [
              0.4444444444444444,
              "#bd3786"
             ],
             [
              0.5555555555555556,
              "#d8576b"
             ],
             [
              0.6666666666666666,
              "#ed7953"
             ],
             [
              0.7777777777777778,
              "#fb9f3a"
             ],
             [
              0.8888888888888888,
              "#fdca26"
             ],
             [
              1,
              "#f0f921"
             ]
            ],
            "type": "heatmapgl"
           }
          ],
          "histogram": [
           {
            "marker": {
             "pattern": {
              "fillmode": "overlay",
              "size": 10,
              "solidity": 0.2
             }
            },
            "type": "histogram"
           }
          ],
          "histogram2d": [
           {
            "colorbar": {
             "outlinewidth": 0,
             "ticks": ""
            },
            "colorscale": [
             [
              0,
              "#0d0887"
             ],
             [
              0.1111111111111111,
              "#46039f"
             ],
             [
              0.2222222222222222,
              "#7201a8"
             ],
             [
              0.3333333333333333,
              "#9c179e"
             ],
             [
              0.4444444444444444,
              "#bd3786"
             ],
             [
              0.5555555555555556,
              "#d8576b"
             ],
             [
              0.6666666666666666,
              "#ed7953"
             ],
             [
              0.7777777777777778,
              "#fb9f3a"
             ],
             [
              0.8888888888888888,
              "#fdca26"
             ],
             [
              1,
              "#f0f921"
             ]
            ],
            "type": "histogram2d"
           }
          ],
          "histogram2dcontour": [
           {
            "colorbar": {
             "outlinewidth": 0,
             "ticks": ""
            },
            "colorscale": [
             [
              0,
              "#0d0887"
             ],
             [
              0.1111111111111111,
              "#46039f"
             ],
             [
              0.2222222222222222,
              "#7201a8"
             ],
             [
              0.3333333333333333,
              "#9c179e"
             ],
             [
              0.4444444444444444,
              "#bd3786"
             ],
             [
              0.5555555555555556,
              "#d8576b"
             ],
             [
              0.6666666666666666,
              "#ed7953"
             ],
             [
              0.7777777777777778,
              "#fb9f3a"
             ],
             [
              0.8888888888888888,
              "#fdca26"
             ],
             [
              1,
              "#f0f921"
             ]
            ],
            "type": "histogram2dcontour"
           }
          ],
          "mesh3d": [
           {
            "colorbar": {
             "outlinewidth": 0,
             "ticks": ""
            },
            "type": "mesh3d"
           }
          ],
          "parcoords": [
           {
            "line": {
             "colorbar": {
              "outlinewidth": 0,
              "ticks": ""
             }
            },
            "type": "parcoords"
           }
          ],
          "pie": [
           {
            "automargin": true,
            "type": "pie"
           }
          ],
          "scatter": [
           {
            "marker": {
             "colorbar": {
              "outlinewidth": 0,
              "ticks": ""
             }
            },
            "type": "scatter"
           }
          ],
          "scatter3d": [
           {
            "line": {
             "colorbar": {
              "outlinewidth": 0,
              "ticks": ""
             }
            },
            "marker": {
             "colorbar": {
              "outlinewidth": 0,
              "ticks": ""
             }
            },
            "type": "scatter3d"
           }
          ],
          "scattercarpet": [
           {
            "marker": {
             "colorbar": {
              "outlinewidth": 0,
              "ticks": ""
             }
            },
            "type": "scattercarpet"
           }
          ],
          "scattergeo": [
           {
            "marker": {
             "colorbar": {
              "outlinewidth": 0,
              "ticks": ""
             }
            },
            "type": "scattergeo"
           }
          ],
          "scattergl": [
           {
            "marker": {
             "colorbar": {
              "outlinewidth": 0,
              "ticks": ""
             }
            },
            "type": "scattergl"
           }
          ],
          "scattermapbox": [
           {
            "marker": {
             "colorbar": {
              "outlinewidth": 0,
              "ticks": ""
             }
            },
            "type": "scattermapbox"
           }
          ],
          "scatterpolar": [
           {
            "marker": {
             "colorbar": {
              "outlinewidth": 0,
              "ticks": ""
             }
            },
            "type": "scatterpolar"
           }
          ],
          "scatterpolargl": [
           {
            "marker": {
             "colorbar": {
              "outlinewidth": 0,
              "ticks": ""
             }
            },
            "type": "scatterpolargl"
           }
          ],
          "scatterternary": [
           {
            "marker": {
             "colorbar": {
              "outlinewidth": 0,
              "ticks": ""
             }
            },
            "type": "scatterternary"
           }
          ],
          "surface": [
           {
            "colorbar": {
             "outlinewidth": 0,
             "ticks": ""
            },
            "colorscale": [
             [
              0,
              "#0d0887"
             ],
             [
              0.1111111111111111,
              "#46039f"
             ],
             [
              0.2222222222222222,
              "#7201a8"
             ],
             [
              0.3333333333333333,
              "#9c179e"
             ],
             [
              0.4444444444444444,
              "#bd3786"
             ],
             [
              0.5555555555555556,
              "#d8576b"
             ],
             [
              0.6666666666666666,
              "#ed7953"
             ],
             [
              0.7777777777777778,
              "#fb9f3a"
             ],
             [
              0.8888888888888888,
              "#fdca26"
             ],
             [
              1,
              "#f0f921"
             ]
            ],
            "type": "surface"
           }
          ],
          "table": [
           {
            "cells": {
             "fill": {
              "color": "#EBF0F8"
             },
             "line": {
              "color": "white"
             }
            },
            "header": {
             "fill": {
              "color": "#C8D4E3"
             },
             "line": {
              "color": "white"
             }
            },
            "type": "table"
           }
          ]
         },
         "layout": {
          "annotationdefaults": {
           "arrowcolor": "#2a3f5f",
           "arrowhead": 0,
           "arrowwidth": 1
          },
          "autotypenumbers": "strict",
          "coloraxis": {
           "colorbar": {
            "outlinewidth": 0,
            "ticks": ""
           }
          },
          "colorscale": {
           "diverging": [
            [
             0,
             "#8e0152"
            ],
            [
             0.1,
             "#c51b7d"
            ],
            [
             0.2,
             "#de77ae"
            ],
            [
             0.3,
             "#f1b6da"
            ],
            [
             0.4,
             "#fde0ef"
            ],
            [
             0.5,
             "#f7f7f7"
            ],
            [
             0.6,
             "#e6f5d0"
            ],
            [
             0.7,
             "#b8e186"
            ],
            [
             0.8,
             "#7fbc41"
            ],
            [
             0.9,
             "#4d9221"
            ],
            [
             1,
             "#276419"
            ]
           ],
           "sequential": [
            [
             0,
             "#0d0887"
            ],
            [
             0.1111111111111111,
             "#46039f"
            ],
            [
             0.2222222222222222,
             "#7201a8"
            ],
            [
             0.3333333333333333,
             "#9c179e"
            ],
            [
             0.4444444444444444,
             "#bd3786"
            ],
            [
             0.5555555555555556,
             "#d8576b"
            ],
            [
             0.6666666666666666,
             "#ed7953"
            ],
            [
             0.7777777777777778,
             "#fb9f3a"
            ],
            [
             0.8888888888888888,
             "#fdca26"
            ],
            [
             1,
             "#f0f921"
            ]
           ],
           "sequentialminus": [
            [
             0,
             "#0d0887"
            ],
            [
             0.1111111111111111,
             "#46039f"
            ],
            [
             0.2222222222222222,
             "#7201a8"
            ],
            [
             0.3333333333333333,
             "#9c179e"
            ],
            [
             0.4444444444444444,
             "#bd3786"
            ],
            [
             0.5555555555555556,
             "#d8576b"
            ],
            [
             0.6666666666666666,
             "#ed7953"
            ],
            [
             0.7777777777777778,
             "#fb9f3a"
            ],
            [
             0.8888888888888888,
             "#fdca26"
            ],
            [
             1,
             "#f0f921"
            ]
           ]
          },
          "colorway": [
           "#636efa",
           "#EF553B",
           "#00cc96",
           "#ab63fa",
           "#FFA15A",
           "#19d3f3",
           "#FF6692",
           "#B6E880",
           "#FF97FF",
           "#FECB52"
          ],
          "font": {
           "color": "#2a3f5f"
          },
          "geo": {
           "bgcolor": "white",
           "lakecolor": "white",
           "landcolor": "#E5ECF6",
           "showlakes": true,
           "showland": true,
           "subunitcolor": "white"
          },
          "hoverlabel": {
           "align": "left"
          },
          "hovermode": "closest",
          "mapbox": {
           "style": "light"
          },
          "paper_bgcolor": "white",
          "plot_bgcolor": "#E5ECF6",
          "polar": {
           "angularaxis": {
            "gridcolor": "white",
            "linecolor": "white",
            "ticks": ""
           },
           "bgcolor": "#E5ECF6",
           "radialaxis": {
            "gridcolor": "white",
            "linecolor": "white",
            "ticks": ""
           }
          },
          "scene": {
           "xaxis": {
            "backgroundcolor": "#E5ECF6",
            "gridcolor": "white",
            "gridwidth": 2,
            "linecolor": "white",
            "showbackground": true,
            "ticks": "",
            "zerolinecolor": "white"
           },
           "yaxis": {
            "backgroundcolor": "#E5ECF6",
            "gridcolor": "white",
            "gridwidth": 2,
            "linecolor": "white",
            "showbackground": true,
            "ticks": "",
            "zerolinecolor": "white"
           },
           "zaxis": {
            "backgroundcolor": "#E5ECF6",
            "gridcolor": "white",
            "gridwidth": 2,
            "linecolor": "white",
            "showbackground": true,
            "ticks": "",
            "zerolinecolor": "white"
           }
          },
          "shapedefaults": {
           "line": {
            "color": "#2a3f5f"
           }
          },
          "ternary": {
           "aaxis": {
            "gridcolor": "white",
            "linecolor": "white",
            "ticks": ""
           },
           "baxis": {
            "gridcolor": "white",
            "linecolor": "white",
            "ticks": ""
           },
           "bgcolor": "#E5ECF6",
           "caxis": {
            "gridcolor": "white",
            "linecolor": "white",
            "ticks": ""
           }
          },
          "title": {
           "x": 0.05
          },
          "xaxis": {
           "automargin": true,
           "gridcolor": "white",
           "linecolor": "white",
           "ticks": "",
           "title": {
            "standoff": 15
           },
           "zerolinecolor": "white",
           "zerolinewidth": 2
          },
          "yaxis": {
           "automargin": true,
           "gridcolor": "white",
           "linecolor": "white",
           "ticks": "",
           "title": {
            "standoff": 15
           },
           "zerolinecolor": "white",
           "zerolinewidth": 2
          }
         }
        },
        "title": {
         "text": "Lucros por seção"
        },
        "xaxis": {
         "anchor": "y",
         "categoryarray": [
          "Açougue",
          "Padaria",
          "Produtos de Limpeza",
          "Alimentos em Geral"
         ],
         "categoryorder": "array",
         "domain": [
          0,
          1
         ],
         "title": {
          "text": "Seção"
         }
        },
        "yaxis": {
         "anchor": "x",
         "domain": [
          0,
          1
         ],
         "title": {
          "text": "Lucro"
         }
        }
       }
      },
      "text/html": [
       "<div>                            <div id=\"c6853d9c-5be9-4dc4-9db5-0fe81d6c4c68\" class=\"plotly-graph-div\" style=\"height:525px; width:100%;\"></div>            <script type=\"text/javascript\">                require([\"plotly\"], function(Plotly) {                    window.PLOTLYENV=window.PLOTLYENV || {};                                    if (document.getElementById(\"c6853d9c-5be9-4dc4-9db5-0fe81d6c4c68\")) {                    Plotly.newPlot(                        \"c6853d9c-5be9-4dc4-9db5-0fe81d6c4c68\",                        [{\"alignmentgroup\":\"True\",\"hovertemplate\":\"Se\\u00e7\\u00e3o=%{x}<br>Lucro=%{y}<extra></extra>\",\"legendgroup\":\"A\\u00e7ougue\",\"marker\":{\"color\":\"#00CC96\",\"pattern\":{\"shape\":\"\"}},\"name\":\"A\\u00e7ougue\",\"offsetgroup\":\"A\\u00e7ougue\",\"orientation\":\"v\",\"showlegend\":true,\"textposition\":\"auto\",\"type\":\"bar\",\"x\":[\"A\\u00e7ougue\"],\"xaxis\":\"x\",\"y\":[15990.770000000013],\"yaxis\":\"y\"},{\"alignmentgroup\":\"True\",\"hovertemplate\":\"Se\\u00e7\\u00e3o=%{x}<br>Lucro=%{y}<extra></extra>\",\"legendgroup\":\"Padaria\",\"marker\":{\"color\":\"#00CC96\",\"pattern\":{\"shape\":\"\"}},\"name\":\"Padaria\",\"offsetgroup\":\"Padaria\",\"orientation\":\"v\",\"showlegend\":true,\"textposition\":\"auto\",\"type\":\"bar\",\"x\":[\"Padaria\"],\"xaxis\":\"x\",\"y\":[11226.090000000013],\"yaxis\":\"y\"},{\"alignmentgroup\":\"True\",\"hovertemplate\":\"Se\\u00e7\\u00e3o=%{x}<br>Lucro=%{y}<extra></extra>\",\"legendgroup\":\"Produtos de Limpeza\",\"marker\":{\"color\":\"#00CC96\",\"pattern\":{\"shape\":\"\"}},\"name\":\"Produtos de Limpeza\",\"offsetgroup\":\"Produtos de Limpeza\",\"orientation\":\"v\",\"showlegend\":true,\"textposition\":\"auto\",\"type\":\"bar\",\"x\":[\"Produtos de Limpeza\"],\"xaxis\":\"x\",\"y\":[4271.609999999995],\"yaxis\":\"y\"},{\"alignmentgroup\":\"True\",\"hovertemplate\":\"Se\\u00e7\\u00e3o=%{x}<br>Lucro=%{y}<extra></extra>\",\"legendgroup\":\"Alimentos em Geral\",\"marker\":{\"color\":\"#00CC96\",\"pattern\":{\"shape\":\"\"}},\"name\":\"Alimentos em Geral\",\"offsetgroup\":\"Alimentos em Geral\",\"orientation\":\"v\",\"showlegend\":true,\"textposition\":\"auto\",\"type\":\"bar\",\"x\":[\"Alimentos em Geral\"],\"xaxis\":\"x\",\"y\":[2587.5199999999995],\"yaxis\":\"y\"}],                        {\"barmode\":\"stack\",\"legend\":{\"title\":{\"text\":\"Se\\u00e7\\u00e3o\"},\"tracegroupgap\":0},\"margin\":{\"t\":60},\"showlegend\":false,\"template\":{\"data\":{\"bar\":[{\"error_x\":{\"color\":\"#2a3f5f\"},\"error_y\":{\"color\":\"#2a3f5f\"},\"marker\":{\"line\":{\"color\":\"#E5ECF6\",\"width\":0.5},\"pattern\":{\"fillmode\":\"overlay\",\"size\":10,\"solidity\":0.2}},\"type\":\"bar\"}],\"barpolar\":[{\"marker\":{\"line\":{\"color\":\"#E5ECF6\",\"width\":0.5},\"pattern\":{\"fillmode\":\"overlay\",\"size\":10,\"solidity\":0.2}},\"type\":\"barpolar\"}],\"carpet\":[{\"aaxis\":{\"endlinecolor\":\"#2a3f5f\",\"gridcolor\":\"white\",\"linecolor\":\"white\",\"minorgridcolor\":\"white\",\"startlinecolor\":\"#2a3f5f\"},\"baxis\":{\"endlinecolor\":\"#2a3f5f\",\"gridcolor\":\"white\",\"linecolor\":\"white\",\"minorgridcolor\":\"white\",\"startlinecolor\":\"#2a3f5f\"},\"type\":\"carpet\"}],\"choropleth\":[{\"colorbar\":{\"outlinewidth\":0,\"ticks\":\"\"},\"type\":\"choropleth\"}],\"contour\":[{\"colorbar\":{\"outlinewidth\":0,\"ticks\":\"\"},\"colorscale\":[[0.0,\"#0d0887\"],[0.1111111111111111,\"#46039f\"],[0.2222222222222222,\"#7201a8\"],[0.3333333333333333,\"#9c179e\"],[0.4444444444444444,\"#bd3786\"],[0.5555555555555556,\"#d8576b\"],[0.6666666666666666,\"#ed7953\"],[0.7777777777777778,\"#fb9f3a\"],[0.8888888888888888,\"#fdca26\"],[1.0,\"#f0f921\"]],\"type\":\"contour\"}],\"contourcarpet\":[{\"colorbar\":{\"outlinewidth\":0,\"ticks\":\"\"},\"type\":\"contourcarpet\"}],\"heatmap\":[{\"colorbar\":{\"outlinewidth\":0,\"ticks\":\"\"},\"colorscale\":[[0.0,\"#0d0887\"],[0.1111111111111111,\"#46039f\"],[0.2222222222222222,\"#7201a8\"],[0.3333333333333333,\"#9c179e\"],[0.4444444444444444,\"#bd3786\"],[0.5555555555555556,\"#d8576b\"],[0.6666666666666666,\"#ed7953\"],[0.7777777777777778,\"#fb9f3a\"],[0.8888888888888888,\"#fdca26\"],[1.0,\"#f0f921\"]],\"type\":\"heatmap\"}],\"heatmapgl\":[{\"colorbar\":{\"outlinewidth\":0,\"ticks\":\"\"},\"colorscale\":[[0.0,\"#0d0887\"],[0.1111111111111111,\"#46039f\"],[0.2222222222222222,\"#7201a8\"],[0.3333333333333333,\"#9c179e\"],[0.4444444444444444,\"#bd3786\"],[0.5555555555555556,\"#d8576b\"],[0.6666666666666666,\"#ed7953\"],[0.7777777777777778,\"#fb9f3a\"],[0.8888888888888888,\"#fdca26\"],[1.0,\"#f0f921\"]],\"type\":\"heatmapgl\"}],\"histogram\":[{\"marker\":{\"pattern\":{\"fillmode\":\"overlay\",\"size\":10,\"solidity\":0.2}},\"type\":\"histogram\"}],\"histogram2d\":[{\"colorbar\":{\"outlinewidth\":0,\"ticks\":\"\"},\"colorscale\":[[0.0,\"#0d0887\"],[0.1111111111111111,\"#46039f\"],[0.2222222222222222,\"#7201a8\"],[0.3333333333333333,\"#9c179e\"],[0.4444444444444444,\"#bd3786\"],[0.5555555555555556,\"#d8576b\"],[0.6666666666666666,\"#ed7953\"],[0.7777777777777778,\"#fb9f3a\"],[0.8888888888888888,\"#fdca26\"],[1.0,\"#f0f921\"]],\"type\":\"histogram2d\"}],\"histogram2dcontour\":[{\"colorbar\":{\"outlinewidth\":0,\"ticks\":\"\"},\"colorscale\":[[0.0,\"#0d0887\"],[0.1111111111111111,\"#46039f\"],[0.2222222222222222,\"#7201a8\"],[0.3333333333333333,\"#9c179e\"],[0.4444444444444444,\"#bd3786\"],[0.5555555555555556,\"#d8576b\"],[0.6666666666666666,\"#ed7953\"],[0.7777777777777778,\"#fb9f3a\"],[0.8888888888888888,\"#fdca26\"],[1.0,\"#f0f921\"]],\"type\":\"histogram2dcontour\"}],\"mesh3d\":[{\"colorbar\":{\"outlinewidth\":0,\"ticks\":\"\"},\"type\":\"mesh3d\"}],\"parcoords\":[{\"line\":{\"colorbar\":{\"outlinewidth\":0,\"ticks\":\"\"}},\"type\":\"parcoords\"}],\"pie\":[{\"automargin\":true,\"type\":\"pie\"}],\"scatter\":[{\"marker\":{\"colorbar\":{\"outlinewidth\":0,\"ticks\":\"\"}},\"type\":\"scatter\"}],\"scatter3d\":[{\"line\":{\"colorbar\":{\"outlinewidth\":0,\"ticks\":\"\"}},\"marker\":{\"colorbar\":{\"outlinewidth\":0,\"ticks\":\"\"}},\"type\":\"scatter3d\"}],\"scattercarpet\":[{\"marker\":{\"colorbar\":{\"outlinewidth\":0,\"ticks\":\"\"}},\"type\":\"scattercarpet\"}],\"scattergeo\":[{\"marker\":{\"colorbar\":{\"outlinewidth\":0,\"ticks\":\"\"}},\"type\":\"scattergeo\"}],\"scattergl\":[{\"marker\":{\"colorbar\":{\"outlinewidth\":0,\"ticks\":\"\"}},\"type\":\"scattergl\"}],\"scattermapbox\":[{\"marker\":{\"colorbar\":{\"outlinewidth\":0,\"ticks\":\"\"}},\"type\":\"scattermapbox\"}],\"scatterpolar\":[{\"marker\":{\"colorbar\":{\"outlinewidth\":0,\"ticks\":\"\"}},\"type\":\"scatterpolar\"}],\"scatterpolargl\":[{\"marker\":{\"colorbar\":{\"outlinewidth\":0,\"ticks\":\"\"}},\"type\":\"scatterpolargl\"}],\"scatterternary\":[{\"marker\":{\"colorbar\":{\"outlinewidth\":0,\"ticks\":\"\"}},\"type\":\"scatterternary\"}],\"surface\":[{\"colorbar\":{\"outlinewidth\":0,\"ticks\":\"\"},\"colorscale\":[[0.0,\"#0d0887\"],[0.1111111111111111,\"#46039f\"],[0.2222222222222222,\"#7201a8\"],[0.3333333333333333,\"#9c179e\"],[0.4444444444444444,\"#bd3786\"],[0.5555555555555556,\"#d8576b\"],[0.6666666666666666,\"#ed7953\"],[0.7777777777777778,\"#fb9f3a\"],[0.8888888888888888,\"#fdca26\"],[1.0,\"#f0f921\"]],\"type\":\"surface\"}],\"table\":[{\"cells\":{\"fill\":{\"color\":\"#EBF0F8\"},\"line\":{\"color\":\"white\"}},\"header\":{\"fill\":{\"color\":\"#C8D4E3\"},\"line\":{\"color\":\"white\"}},\"type\":\"table\"}]},\"layout\":{\"annotationdefaults\":{\"arrowcolor\":\"#2a3f5f\",\"arrowhead\":0,\"arrowwidth\":1},\"autotypenumbers\":\"strict\",\"coloraxis\":{\"colorbar\":{\"outlinewidth\":0,\"ticks\":\"\"}},\"colorscale\":{\"diverging\":[[0,\"#8e0152\"],[0.1,\"#c51b7d\"],[0.2,\"#de77ae\"],[0.3,\"#f1b6da\"],[0.4,\"#fde0ef\"],[0.5,\"#f7f7f7\"],[0.6,\"#e6f5d0\"],[0.7,\"#b8e186\"],[0.8,\"#7fbc41\"],[0.9,\"#4d9221\"],[1,\"#276419\"]],\"sequential\":[[0.0,\"#0d0887\"],[0.1111111111111111,\"#46039f\"],[0.2222222222222222,\"#7201a8\"],[0.3333333333333333,\"#9c179e\"],[0.4444444444444444,\"#bd3786\"],[0.5555555555555556,\"#d8576b\"],[0.6666666666666666,\"#ed7953\"],[0.7777777777777778,\"#fb9f3a\"],[0.8888888888888888,\"#fdca26\"],[1.0,\"#f0f921\"]],\"sequentialminus\":[[0.0,\"#0d0887\"],[0.1111111111111111,\"#46039f\"],[0.2222222222222222,\"#7201a8\"],[0.3333333333333333,\"#9c179e\"],[0.4444444444444444,\"#bd3786\"],[0.5555555555555556,\"#d8576b\"],[0.6666666666666666,\"#ed7953\"],[0.7777777777777778,\"#fb9f3a\"],[0.8888888888888888,\"#fdca26\"],[1.0,\"#f0f921\"]]},\"colorway\":[\"#636efa\",\"#EF553B\",\"#00cc96\",\"#ab63fa\",\"#FFA15A\",\"#19d3f3\",\"#FF6692\",\"#B6E880\",\"#FF97FF\",\"#FECB52\"],\"font\":{\"color\":\"#2a3f5f\"},\"geo\":{\"bgcolor\":\"white\",\"lakecolor\":\"white\",\"landcolor\":\"#E5ECF6\",\"showlakes\":true,\"showland\":true,\"subunitcolor\":\"white\"},\"hoverlabel\":{\"align\":\"left\"},\"hovermode\":\"closest\",\"mapbox\":{\"style\":\"light\"},\"paper_bgcolor\":\"white\",\"plot_bgcolor\":\"#E5ECF6\",\"polar\":{\"angularaxis\":{\"gridcolor\":\"white\",\"linecolor\":\"white\",\"ticks\":\"\"},\"bgcolor\":\"#E5ECF6\",\"radialaxis\":{\"gridcolor\":\"white\",\"linecolor\":\"white\",\"ticks\":\"\"}},\"scene\":{\"xaxis\":{\"backgroundcolor\":\"#E5ECF6\",\"gridcolor\":\"white\",\"gridwidth\":2,\"linecolor\":\"white\",\"showbackground\":true,\"ticks\":\"\",\"zerolinecolor\":\"white\"},\"yaxis\":{\"backgroundcolor\":\"#E5ECF6\",\"gridcolor\":\"white\",\"gridwidth\":2,\"linecolor\":\"white\",\"showbackground\":true,\"ticks\":\"\",\"zerolinecolor\":\"white\"},\"zaxis\":{\"backgroundcolor\":\"#E5ECF6\",\"gridcolor\":\"white\",\"gridwidth\":2,\"linecolor\":\"white\",\"showbackground\":true,\"ticks\":\"\",\"zerolinecolor\":\"white\"}},\"shapedefaults\":{\"line\":{\"color\":\"#2a3f5f\"}},\"ternary\":{\"aaxis\":{\"gridcolor\":\"white\",\"linecolor\":\"white\",\"ticks\":\"\"},\"baxis\":{\"gridcolor\":\"white\",\"linecolor\":\"white\",\"ticks\":\"\"},\"bgcolor\":\"#E5ECF6\",\"caxis\":{\"gridcolor\":\"white\",\"linecolor\":\"white\",\"ticks\":\"\"}},\"title\":{\"x\":0.05},\"xaxis\":{\"automargin\":true,\"gridcolor\":\"white\",\"linecolor\":\"white\",\"ticks\":\"\",\"title\":{\"standoff\":15},\"zerolinecolor\":\"white\",\"zerolinewidth\":2},\"yaxis\":{\"automargin\":true,\"gridcolor\":\"white\",\"linecolor\":\"white\",\"ticks\":\"\",\"title\":{\"standoff\":15},\"zerolinecolor\":\"white\",\"zerolinewidth\":2}}},\"title\":{\"text\":\"Lucros por se\\u00e7\\u00e3o\"},\"xaxis\":{\"anchor\":\"y\",\"categoryarray\":[\"A\\u00e7ougue\",\"Padaria\",\"Produtos de Limpeza\",\"Alimentos em Geral\"],\"categoryorder\":\"array\",\"domain\":[0.0,1.0],\"title\":{\"text\":\"Se\\u00e7\\u00e3o\"}},\"yaxis\":{\"anchor\":\"x\",\"domain\":[0.0,1.0],\"title\":{\"text\":\"Lucro\"}}},                        {\"responsive\": true}                    ).then(function(){\n",
       "                            \n",
       "var gd = document.getElementById('c6853d9c-5be9-4dc4-9db5-0fe81d6c4c68');\n",
       "var x = new MutationObserver(function (mutations, observer) {{\n",
       "        var display = window.getComputedStyle(gd).display;\n",
       "        if (!display || display === 'none') {{\n",
       "            console.log([gd, 'removed!']);\n",
       "            Plotly.purge(gd);\n",
       "            observer.disconnect();\n",
       "        }}\n",
       "}});\n",
       "\n",
       "// Listen for the removal of the full notebook cells\n",
       "var notebookContainer = gd.closest('#notebook-container');\n",
       "if (notebookContainer) {{\n",
       "    x.observe(notebookContainer, {childList: true});\n",
       "}}\n",
       "\n",
       "// Listen for the clearing of the current output cell\n",
       "var outputEl = gd.closest('.output');\n",
       "if (outputEl) {{\n",
       "    x.observe(outputEl, {childList: true});\n",
       "}}\n",
       "\n",
       "                        })                };                });            </script>        </div>"
      ]
     },
     "metadata": {},
     "output_type": "display_data"
    }
   ],
   "source": [
    "lucro_secao=venda_produtos_cliente.groupby(\"secao\").sum().sort_values('lucro', ascending=False ).reset_index()\n",
    "\n",
    "fig2 = px.bar(lucro_secao, x=\"secao\", y=\"lucro\", color = \"secao\", barmode = 'stack',\n",
    "             labels={\"lucro\":\"Lucro\", \"secao\":\"Seção\"}, color_discrete_map={'Açougue': '#00CC96', \n",
    "                                                   'Padaria': '#00CC96', 'Produtos de Limpeza': '#00CC96', 'Alimentos em Geral': '#00CC96'})\n",
    "fig2.update_layout(title = 'Lucros por seção', showlegend=False)\n",
    "fig2.show()"
   ]
  },
  {
   "cell_type": "code",
   "execution_count": 318,
   "id": "2cc1f63c",
   "metadata": {},
   "outputs": [
    {
     "data": {
      "application/vnd.plotly.v1+json": {
       "config": {
        "plotlyServerURL": "https://plot.ly"
       },
       "data": [
        {
         "type": "bar",
         "x": [
          "berinjela",
          "abobrinha",
          "morango",
          "uva",
          "arroz",
          "melancia",
          "couve-flor",
          "feijão",
          "banana",
          "macarrão",
          "batata",
          "alface"
         ],
         "xaxis": "x",
         "y": [
          206,
          196,
          190,
          176,
          171,
          169,
          168,
          160,
          158,
          147,
          132,
          125
         ],
         "yaxis": "y"
        },
        {
         "type": "bar",
         "x": [
          "paleta suína",
          "bisteca suína",
          "costela",
          "alcatra",
          "picanha",
          "carré de cordeiro",
          "maminha",
          "peito de frango"
         ],
         "xaxis": "x2",
         "y": [
          213,
          186,
          182,
          181,
          175,
          171,
          137,
          104
         ],
         "yaxis": "y2"
        },
        {
         "type": "bar",
         "x": [
          "bolo",
          "pão francês",
          "sonho",
          "torta",
          "pastel",
          "pão de queijo",
          "pão de forma",
          "sanduíche"
         ],
         "xaxis": "x3",
         "y": [
          204,
          201,
          188,
          188,
          181,
          173,
          165,
          126
         ],
         "yaxis": "y3"
        },
        {
         "type": "bar",
         "x": [
          "detergente",
          "flanela",
          "rodo",
          "sabonete",
          "odorizador",
          "água sanitária",
          "sabão em pó",
          "amaciante"
         ],
         "xaxis": "x4",
         "y": [
          201,
          199,
          180,
          178,
          167,
          159,
          154,
          148
         ],
         "yaxis": "y4"
        }
       ],
       "layout": {
        "annotations": [
         {
          "font": {
           "size": 16
          },
          "showarrow": false,
          "text": "Quantidades vendidas em alimentos em geral",
          "x": 0.225,
          "xanchor": "center",
          "xref": "paper",
          "y": 1,
          "yanchor": "bottom",
          "yref": "paper"
         },
         {
          "font": {
           "size": 16
          },
          "showarrow": false,
          "text": "Quantidades vendidas no açougue",
          "x": 0.775,
          "xanchor": "center",
          "xref": "paper",
          "y": 1,
          "yanchor": "bottom",
          "yref": "paper"
         },
         {
          "font": {
           "size": 16
          },
          "showarrow": false,
          "text": "Quantidades vendidas na padaria",
          "x": 0.225,
          "xanchor": "center",
          "xref": "paper",
          "y": 0.375,
          "yanchor": "bottom",
          "yref": "paper"
         },
         {
          "font": {
           "size": 16
          },
          "showarrow": false,
          "text": "Quantidades vendidas em produtos de limpeza",
          "x": 0.775,
          "xanchor": "center",
          "xref": "paper",
          "y": 0.375,
          "yanchor": "bottom",
          "yref": "paper"
         }
        ],
        "height": 650,
        "showlegend": false,
        "template": {
         "data": {
          "bar": [
           {
            "error_x": {
             "color": "#2a3f5f"
            },
            "error_y": {
             "color": "#2a3f5f"
            },
            "marker": {
             "line": {
              "color": "#E5ECF6",
              "width": 0.5
             },
             "pattern": {
              "fillmode": "overlay",
              "size": 10,
              "solidity": 0.2
             }
            },
            "type": "bar"
           }
          ],
          "barpolar": [
           {
            "marker": {
             "line": {
              "color": "#E5ECF6",
              "width": 0.5
             },
             "pattern": {
              "fillmode": "overlay",
              "size": 10,
              "solidity": 0.2
             }
            },
            "type": "barpolar"
           }
          ],
          "carpet": [
           {
            "aaxis": {
             "endlinecolor": "#2a3f5f",
             "gridcolor": "white",
             "linecolor": "white",
             "minorgridcolor": "white",
             "startlinecolor": "#2a3f5f"
            },
            "baxis": {
             "endlinecolor": "#2a3f5f",
             "gridcolor": "white",
             "linecolor": "white",
             "minorgridcolor": "white",
             "startlinecolor": "#2a3f5f"
            },
            "type": "carpet"
           }
          ],
          "choropleth": [
           {
            "colorbar": {
             "outlinewidth": 0,
             "ticks": ""
            },
            "type": "choropleth"
           }
          ],
          "contour": [
           {
            "colorbar": {
             "outlinewidth": 0,
             "ticks": ""
            },
            "colorscale": [
             [
              0,
              "#0d0887"
             ],
             [
              0.1111111111111111,
              "#46039f"
             ],
             [
              0.2222222222222222,
              "#7201a8"
             ],
             [
              0.3333333333333333,
              "#9c179e"
             ],
             [
              0.4444444444444444,
              "#bd3786"
             ],
             [
              0.5555555555555556,
              "#d8576b"
             ],
             [
              0.6666666666666666,
              "#ed7953"
             ],
             [
              0.7777777777777778,
              "#fb9f3a"
             ],
             [
              0.8888888888888888,
              "#fdca26"
             ],
             [
              1,
              "#f0f921"
             ]
            ],
            "type": "contour"
           }
          ],
          "contourcarpet": [
           {
            "colorbar": {
             "outlinewidth": 0,
             "ticks": ""
            },
            "type": "contourcarpet"
           }
          ],
          "heatmap": [
           {
            "colorbar": {
             "outlinewidth": 0,
             "ticks": ""
            },
            "colorscale": [
             [
              0,
              "#0d0887"
             ],
             [
              0.1111111111111111,
              "#46039f"
             ],
             [
              0.2222222222222222,
              "#7201a8"
             ],
             [
              0.3333333333333333,
              "#9c179e"
             ],
             [
              0.4444444444444444,
              "#bd3786"
             ],
             [
              0.5555555555555556,
              "#d8576b"
             ],
             [
              0.6666666666666666,
              "#ed7953"
             ],
             [
              0.7777777777777778,
              "#fb9f3a"
             ],
             [
              0.8888888888888888,
              "#fdca26"
             ],
             [
              1,
              "#f0f921"
             ]
            ],
            "type": "heatmap"
           }
          ],
          "heatmapgl": [
           {
            "colorbar": {
             "outlinewidth": 0,
             "ticks": ""
            },
            "colorscale": [
             [
              0,
              "#0d0887"
             ],
             [
              0.1111111111111111,
              "#46039f"
             ],
             [
              0.2222222222222222,
              "#7201a8"
             ],
             [
              0.3333333333333333,
              "#9c179e"
             ],
             [
              0.4444444444444444,
              "#bd3786"
             ],
             [
              0.5555555555555556,
              "#d8576b"
             ],
             [
              0.6666666666666666,
              "#ed7953"
             ],
             [
              0.7777777777777778,
              "#fb9f3a"
             ],
             [
              0.8888888888888888,
              "#fdca26"
             ],
             [
              1,
              "#f0f921"
             ]
            ],
            "type": "heatmapgl"
           }
          ],
          "histogram": [
           {
            "marker": {
             "pattern": {
              "fillmode": "overlay",
              "size": 10,
              "solidity": 0.2
             }
            },
            "type": "histogram"
           }
          ],
          "histogram2d": [
           {
            "colorbar": {
             "outlinewidth": 0,
             "ticks": ""
            },
            "colorscale": [
             [
              0,
              "#0d0887"
             ],
             [
              0.1111111111111111,
              "#46039f"
             ],
             [
              0.2222222222222222,
              "#7201a8"
             ],
             [
              0.3333333333333333,
              "#9c179e"
             ],
             [
              0.4444444444444444,
              "#bd3786"
             ],
             [
              0.5555555555555556,
              "#d8576b"
             ],
             [
              0.6666666666666666,
              "#ed7953"
             ],
             [
              0.7777777777777778,
              "#fb9f3a"
             ],
             [
              0.8888888888888888,
              "#fdca26"
             ],
             [
              1,
              "#f0f921"
             ]
            ],
            "type": "histogram2d"
           }
          ],
          "histogram2dcontour": [
           {
            "colorbar": {
             "outlinewidth": 0,
             "ticks": ""
            },
            "colorscale": [
             [
              0,
              "#0d0887"
             ],
             [
              0.1111111111111111,
              "#46039f"
             ],
             [
              0.2222222222222222,
              "#7201a8"
             ],
             [
              0.3333333333333333,
              "#9c179e"
             ],
             [
              0.4444444444444444,
              "#bd3786"
             ],
             [
              0.5555555555555556,
              "#d8576b"
             ],
             [
              0.6666666666666666,
              "#ed7953"
             ],
             [
              0.7777777777777778,
              "#fb9f3a"
             ],
             [
              0.8888888888888888,
              "#fdca26"
             ],
             [
              1,
              "#f0f921"
             ]
            ],
            "type": "histogram2dcontour"
           }
          ],
          "mesh3d": [
           {
            "colorbar": {
             "outlinewidth": 0,
             "ticks": ""
            },
            "type": "mesh3d"
           }
          ],
          "parcoords": [
           {
            "line": {
             "colorbar": {
              "outlinewidth": 0,
              "ticks": ""
             }
            },
            "type": "parcoords"
           }
          ],
          "pie": [
           {
            "automargin": true,
            "type": "pie"
           }
          ],
          "scatter": [
           {
            "marker": {
             "colorbar": {
              "outlinewidth": 0,
              "ticks": ""
             }
            },
            "type": "scatter"
           }
          ],
          "scatter3d": [
           {
            "line": {
             "colorbar": {
              "outlinewidth": 0,
              "ticks": ""
             }
            },
            "marker": {
             "colorbar": {
              "outlinewidth": 0,
              "ticks": ""
             }
            },
            "type": "scatter3d"
           }
          ],
          "scattercarpet": [
           {
            "marker": {
             "colorbar": {
              "outlinewidth": 0,
              "ticks": ""
             }
            },
            "type": "scattercarpet"
           }
          ],
          "scattergeo": [
           {
            "marker": {
             "colorbar": {
              "outlinewidth": 0,
              "ticks": ""
             }
            },
            "type": "scattergeo"
           }
          ],
          "scattergl": [
           {
            "marker": {
             "colorbar": {
              "outlinewidth": 0,
              "ticks": ""
             }
            },
            "type": "scattergl"
           }
          ],
          "scattermapbox": [
           {
            "marker": {
             "colorbar": {
              "outlinewidth": 0,
              "ticks": ""
             }
            },
            "type": "scattermapbox"
           }
          ],
          "scatterpolar": [
           {
            "marker": {
             "colorbar": {
              "outlinewidth": 0,
              "ticks": ""
             }
            },
            "type": "scatterpolar"
           }
          ],
          "scatterpolargl": [
           {
            "marker": {
             "colorbar": {
              "outlinewidth": 0,
              "ticks": ""
             }
            },
            "type": "scatterpolargl"
           }
          ],
          "scatterternary": [
           {
            "marker": {
             "colorbar": {
              "outlinewidth": 0,
              "ticks": ""
             }
            },
            "type": "scatterternary"
           }
          ],
          "surface": [
           {
            "colorbar": {
             "outlinewidth": 0,
             "ticks": ""
            },
            "colorscale": [
             [
              0,
              "#0d0887"
             ],
             [
              0.1111111111111111,
              "#46039f"
             ],
             [
              0.2222222222222222,
              "#7201a8"
             ],
             [
              0.3333333333333333,
              "#9c179e"
             ],
             [
              0.4444444444444444,
              "#bd3786"
             ],
             [
              0.5555555555555556,
              "#d8576b"
             ],
             [
              0.6666666666666666,
              "#ed7953"
             ],
             [
              0.7777777777777778,
              "#fb9f3a"
             ],
             [
              0.8888888888888888,
              "#fdca26"
             ],
             [
              1,
              "#f0f921"
             ]
            ],
            "type": "surface"
           }
          ],
          "table": [
           {
            "cells": {
             "fill": {
              "color": "#EBF0F8"
             },
             "line": {
              "color": "white"
             }
            },
            "header": {
             "fill": {
              "color": "#C8D4E3"
             },
             "line": {
              "color": "white"
             }
            },
            "type": "table"
           }
          ]
         },
         "layout": {
          "annotationdefaults": {
           "arrowcolor": "#2a3f5f",
           "arrowhead": 0,
           "arrowwidth": 1
          },
          "autotypenumbers": "strict",
          "coloraxis": {
           "colorbar": {
            "outlinewidth": 0,
            "ticks": ""
           }
          },
          "colorscale": {
           "diverging": [
            [
             0,
             "#8e0152"
            ],
            [
             0.1,
             "#c51b7d"
            ],
            [
             0.2,
             "#de77ae"
            ],
            [
             0.3,
             "#f1b6da"
            ],
            [
             0.4,
             "#fde0ef"
            ],
            [
             0.5,
             "#f7f7f7"
            ],
            [
             0.6,
             "#e6f5d0"
            ],
            [
             0.7,
             "#b8e186"
            ],
            [
             0.8,
             "#7fbc41"
            ],
            [
             0.9,
             "#4d9221"
            ],
            [
             1,
             "#276419"
            ]
           ],
           "sequential": [
            [
             0,
             "#0d0887"
            ],
            [
             0.1111111111111111,
             "#46039f"
            ],
            [
             0.2222222222222222,
             "#7201a8"
            ],
            [
             0.3333333333333333,
             "#9c179e"
            ],
            [
             0.4444444444444444,
             "#bd3786"
            ],
            [
             0.5555555555555556,
             "#d8576b"
            ],
            [
             0.6666666666666666,
             "#ed7953"
            ],
            [
             0.7777777777777778,
             "#fb9f3a"
            ],
            [
             0.8888888888888888,
             "#fdca26"
            ],
            [
             1,
             "#f0f921"
            ]
           ],
           "sequentialminus": [
            [
             0,
             "#0d0887"
            ],
            [
             0.1111111111111111,
             "#46039f"
            ],
            [
             0.2222222222222222,
             "#7201a8"
            ],
            [
             0.3333333333333333,
             "#9c179e"
            ],
            [
             0.4444444444444444,
             "#bd3786"
            ],
            [
             0.5555555555555556,
             "#d8576b"
            ],
            [
             0.6666666666666666,
             "#ed7953"
            ],
            [
             0.7777777777777778,
             "#fb9f3a"
            ],
            [
             0.8888888888888888,
             "#fdca26"
            ],
            [
             1,
             "#f0f921"
            ]
           ]
          },
          "colorway": [
           "#636efa",
           "#EF553B",
           "#00cc96",
           "#ab63fa",
           "#FFA15A",
           "#19d3f3",
           "#FF6692",
           "#B6E880",
           "#FF97FF",
           "#FECB52"
          ],
          "font": {
           "color": "#2a3f5f"
          },
          "geo": {
           "bgcolor": "white",
           "lakecolor": "white",
           "landcolor": "#E5ECF6",
           "showlakes": true,
           "showland": true,
           "subunitcolor": "white"
          },
          "hoverlabel": {
           "align": "left"
          },
          "hovermode": "closest",
          "mapbox": {
           "style": "light"
          },
          "paper_bgcolor": "white",
          "plot_bgcolor": "#E5ECF6",
          "polar": {
           "angularaxis": {
            "gridcolor": "white",
            "linecolor": "white",
            "ticks": ""
           },
           "bgcolor": "#E5ECF6",
           "radialaxis": {
            "gridcolor": "white",
            "linecolor": "white",
            "ticks": ""
           }
          },
          "scene": {
           "xaxis": {
            "backgroundcolor": "#E5ECF6",
            "gridcolor": "white",
            "gridwidth": 2,
            "linecolor": "white",
            "showbackground": true,
            "ticks": "",
            "zerolinecolor": "white"
           },
           "yaxis": {
            "backgroundcolor": "#E5ECF6",
            "gridcolor": "white",
            "gridwidth": 2,
            "linecolor": "white",
            "showbackground": true,
            "ticks": "",
            "zerolinecolor": "white"
           },
           "zaxis": {
            "backgroundcolor": "#E5ECF6",
            "gridcolor": "white",
            "gridwidth": 2,
            "linecolor": "white",
            "showbackground": true,
            "ticks": "",
            "zerolinecolor": "white"
           }
          },
          "shapedefaults": {
           "line": {
            "color": "#2a3f5f"
           }
          },
          "ternary": {
           "aaxis": {
            "gridcolor": "white",
            "linecolor": "white",
            "ticks": ""
           },
           "baxis": {
            "gridcolor": "white",
            "linecolor": "white",
            "ticks": ""
           },
           "bgcolor": "#E5ECF6",
           "caxis": {
            "gridcolor": "white",
            "linecolor": "white",
            "ticks": ""
           }
          },
          "title": {
           "x": 0.05
          },
          "xaxis": {
           "automargin": true,
           "gridcolor": "white",
           "linecolor": "white",
           "ticks": "",
           "title": {
            "standoff": 15
           },
           "zerolinecolor": "white",
           "zerolinewidth": 2
          },
          "yaxis": {
           "automargin": true,
           "gridcolor": "white",
           "linecolor": "white",
           "ticks": "",
           "title": {
            "standoff": 15
           },
           "zerolinecolor": "white",
           "zerolinewidth": 2
          }
         }
        },
        "title": {
         "text": "Produtos mais vendidos"
        },
        "width": 800,
        "xaxis": {
         "anchor": "y",
         "domain": [
          0,
          0.45
         ],
         "tickangle": 45
        },
        "xaxis2": {
         "anchor": "y2",
         "domain": [
          0.55,
          1
         ],
         "tickangle": 45
        },
        "xaxis3": {
         "anchor": "y3",
         "domain": [
          0,
          0.45
         ],
         "tickangle": 45
        },
        "xaxis4": {
         "anchor": "y4",
         "domain": [
          0.55,
          1
         ],
         "tickangle": 45
        },
        "yaxis": {
         "anchor": "x",
         "domain": [
          0.625,
          1
         ]
        },
        "yaxis2": {
         "anchor": "x2",
         "domain": [
          0.625,
          1
         ],
         "matches": "y",
         "showticklabels": false
        },
        "yaxis3": {
         "anchor": "x3",
         "domain": [
          0,
          0.375
         ]
        },
        "yaxis4": {
         "anchor": "x4",
         "domain": [
          0,
          0.375
         ],
         "matches": "y3",
         "showticklabels": false
        }
       }
      },
      "text/html": [
       "<div>                            <div id=\"fa292efa-c23a-4fb4-83b0-2b3621a23c41\" class=\"plotly-graph-div\" style=\"height:650px; width:800px;\"></div>            <script type=\"text/javascript\">                require([\"plotly\"], function(Plotly) {                    window.PLOTLYENV=window.PLOTLYENV || {};                                    if (document.getElementById(\"fa292efa-c23a-4fb4-83b0-2b3621a23c41\")) {                    Plotly.newPlot(                        \"fa292efa-c23a-4fb4-83b0-2b3621a23c41\",                        [{\"type\":\"bar\",\"x\":[\"berinjela\",\"abobrinha\",\"morango\",\"uva\",\"arroz\",\"melancia\",\"couve-flor\",\"feij\\u00e3o\",\"banana\",\"macarr\\u00e3o\",\"batata\",\"alface\"],\"xaxis\":\"x\",\"y\":[206,196,190,176,171,169,168,160,158,147,132,125],\"yaxis\":\"y\"},{\"type\":\"bar\",\"x\":[\"paleta su\\u00edna\",\"bisteca su\\u00edna\",\"costela\",\"alcatra\",\"picanha\",\"carr\\u00e9 de cordeiro\",\"maminha\",\"peito de frango\"],\"xaxis\":\"x2\",\"y\":[213,186,182,181,175,171,137,104],\"yaxis\":\"y2\"},{\"type\":\"bar\",\"x\":[\"bolo\",\"p\\u00e3o franc\\u00eas\",\"sonho\",\"torta\",\"pastel\",\"p\\u00e3o de queijo\",\"p\\u00e3o de forma\",\"sandu\\u00edche\"],\"xaxis\":\"x3\",\"y\":[204,201,188,188,181,173,165,126],\"yaxis\":\"y3\"},{\"type\":\"bar\",\"x\":[\"detergente\",\"flanela\",\"rodo\",\"sabonete\",\"odorizador\",\"\\u00e1gua sanit\\u00e1ria\",\"sab\\u00e3o em p\\u00f3\",\"amaciante\"],\"xaxis\":\"x4\",\"y\":[201,199,180,178,167,159,154,148],\"yaxis\":\"y4\"}],                        {\"annotations\":[{\"font\":{\"size\":16},\"showarrow\":false,\"text\":\"Quantidades vendidas em alimentos em geral\",\"x\":0.225,\"xanchor\":\"center\",\"xref\":\"paper\",\"y\":1.0,\"yanchor\":\"bottom\",\"yref\":\"paper\"},{\"font\":{\"size\":16},\"showarrow\":false,\"text\":\"Quantidades vendidas no a\\u00e7ougue\",\"x\":0.775,\"xanchor\":\"center\",\"xref\":\"paper\",\"y\":1.0,\"yanchor\":\"bottom\",\"yref\":\"paper\"},{\"font\":{\"size\":16},\"showarrow\":false,\"text\":\"Quantidades vendidas na padaria\",\"x\":0.225,\"xanchor\":\"center\",\"xref\":\"paper\",\"y\":0.375,\"yanchor\":\"bottom\",\"yref\":\"paper\"},{\"font\":{\"size\":16},\"showarrow\":false,\"text\":\"Quantidades vendidas em produtos de limpeza\",\"x\":0.775,\"xanchor\":\"center\",\"xref\":\"paper\",\"y\":0.375,\"yanchor\":\"bottom\",\"yref\":\"paper\"}],\"height\":650,\"showlegend\":false,\"template\":{\"data\":{\"bar\":[{\"error_x\":{\"color\":\"#2a3f5f\"},\"error_y\":{\"color\":\"#2a3f5f\"},\"marker\":{\"line\":{\"color\":\"#E5ECF6\",\"width\":0.5},\"pattern\":{\"fillmode\":\"overlay\",\"size\":10,\"solidity\":0.2}},\"type\":\"bar\"}],\"barpolar\":[{\"marker\":{\"line\":{\"color\":\"#E5ECF6\",\"width\":0.5},\"pattern\":{\"fillmode\":\"overlay\",\"size\":10,\"solidity\":0.2}},\"type\":\"barpolar\"}],\"carpet\":[{\"aaxis\":{\"endlinecolor\":\"#2a3f5f\",\"gridcolor\":\"white\",\"linecolor\":\"white\",\"minorgridcolor\":\"white\",\"startlinecolor\":\"#2a3f5f\"},\"baxis\":{\"endlinecolor\":\"#2a3f5f\",\"gridcolor\":\"white\",\"linecolor\":\"white\",\"minorgridcolor\":\"white\",\"startlinecolor\":\"#2a3f5f\"},\"type\":\"carpet\"}],\"choropleth\":[{\"colorbar\":{\"outlinewidth\":0,\"ticks\":\"\"},\"type\":\"choropleth\"}],\"contour\":[{\"colorbar\":{\"outlinewidth\":0,\"ticks\":\"\"},\"colorscale\":[[0.0,\"#0d0887\"],[0.1111111111111111,\"#46039f\"],[0.2222222222222222,\"#7201a8\"],[0.3333333333333333,\"#9c179e\"],[0.4444444444444444,\"#bd3786\"],[0.5555555555555556,\"#d8576b\"],[0.6666666666666666,\"#ed7953\"],[0.7777777777777778,\"#fb9f3a\"],[0.8888888888888888,\"#fdca26\"],[1.0,\"#f0f921\"]],\"type\":\"contour\"}],\"contourcarpet\":[{\"colorbar\":{\"outlinewidth\":0,\"ticks\":\"\"},\"type\":\"contourcarpet\"}],\"heatmap\":[{\"colorbar\":{\"outlinewidth\":0,\"ticks\":\"\"},\"colorscale\":[[0.0,\"#0d0887\"],[0.1111111111111111,\"#46039f\"],[0.2222222222222222,\"#7201a8\"],[0.3333333333333333,\"#9c179e\"],[0.4444444444444444,\"#bd3786\"],[0.5555555555555556,\"#d8576b\"],[0.6666666666666666,\"#ed7953\"],[0.7777777777777778,\"#fb9f3a\"],[0.8888888888888888,\"#fdca26\"],[1.0,\"#f0f921\"]],\"type\":\"heatmap\"}],\"heatmapgl\":[{\"colorbar\":{\"outlinewidth\":0,\"ticks\":\"\"},\"colorscale\":[[0.0,\"#0d0887\"],[0.1111111111111111,\"#46039f\"],[0.2222222222222222,\"#7201a8\"],[0.3333333333333333,\"#9c179e\"],[0.4444444444444444,\"#bd3786\"],[0.5555555555555556,\"#d8576b\"],[0.6666666666666666,\"#ed7953\"],[0.7777777777777778,\"#fb9f3a\"],[0.8888888888888888,\"#fdca26\"],[1.0,\"#f0f921\"]],\"type\":\"heatmapgl\"}],\"histogram\":[{\"marker\":{\"pattern\":{\"fillmode\":\"overlay\",\"size\":10,\"solidity\":0.2}},\"type\":\"histogram\"}],\"histogram2d\":[{\"colorbar\":{\"outlinewidth\":0,\"ticks\":\"\"},\"colorscale\":[[0.0,\"#0d0887\"],[0.1111111111111111,\"#46039f\"],[0.2222222222222222,\"#7201a8\"],[0.3333333333333333,\"#9c179e\"],[0.4444444444444444,\"#bd3786\"],[0.5555555555555556,\"#d8576b\"],[0.6666666666666666,\"#ed7953\"],[0.7777777777777778,\"#fb9f3a\"],[0.8888888888888888,\"#fdca26\"],[1.0,\"#f0f921\"]],\"type\":\"histogram2d\"}],\"histogram2dcontour\":[{\"colorbar\":{\"outlinewidth\":0,\"ticks\":\"\"},\"colorscale\":[[0.0,\"#0d0887\"],[0.1111111111111111,\"#46039f\"],[0.2222222222222222,\"#7201a8\"],[0.3333333333333333,\"#9c179e\"],[0.4444444444444444,\"#bd3786\"],[0.5555555555555556,\"#d8576b\"],[0.6666666666666666,\"#ed7953\"],[0.7777777777777778,\"#fb9f3a\"],[0.8888888888888888,\"#fdca26\"],[1.0,\"#f0f921\"]],\"type\":\"histogram2dcontour\"}],\"mesh3d\":[{\"colorbar\":{\"outlinewidth\":0,\"ticks\":\"\"},\"type\":\"mesh3d\"}],\"parcoords\":[{\"line\":{\"colorbar\":{\"outlinewidth\":0,\"ticks\":\"\"}},\"type\":\"parcoords\"}],\"pie\":[{\"automargin\":true,\"type\":\"pie\"}],\"scatter\":[{\"marker\":{\"colorbar\":{\"outlinewidth\":0,\"ticks\":\"\"}},\"type\":\"scatter\"}],\"scatter3d\":[{\"line\":{\"colorbar\":{\"outlinewidth\":0,\"ticks\":\"\"}},\"marker\":{\"colorbar\":{\"outlinewidth\":0,\"ticks\":\"\"}},\"type\":\"scatter3d\"}],\"scattercarpet\":[{\"marker\":{\"colorbar\":{\"outlinewidth\":0,\"ticks\":\"\"}},\"type\":\"scattercarpet\"}],\"scattergeo\":[{\"marker\":{\"colorbar\":{\"outlinewidth\":0,\"ticks\":\"\"}},\"type\":\"scattergeo\"}],\"scattergl\":[{\"marker\":{\"colorbar\":{\"outlinewidth\":0,\"ticks\":\"\"}},\"type\":\"scattergl\"}],\"scattermapbox\":[{\"marker\":{\"colorbar\":{\"outlinewidth\":0,\"ticks\":\"\"}},\"type\":\"scattermapbox\"}],\"scatterpolar\":[{\"marker\":{\"colorbar\":{\"outlinewidth\":0,\"ticks\":\"\"}},\"type\":\"scatterpolar\"}],\"scatterpolargl\":[{\"marker\":{\"colorbar\":{\"outlinewidth\":0,\"ticks\":\"\"}},\"type\":\"scatterpolargl\"}],\"scatterternary\":[{\"marker\":{\"colorbar\":{\"outlinewidth\":0,\"ticks\":\"\"}},\"type\":\"scatterternary\"}],\"surface\":[{\"colorbar\":{\"outlinewidth\":0,\"ticks\":\"\"},\"colorscale\":[[0.0,\"#0d0887\"],[0.1111111111111111,\"#46039f\"],[0.2222222222222222,\"#7201a8\"],[0.3333333333333333,\"#9c179e\"],[0.4444444444444444,\"#bd3786\"],[0.5555555555555556,\"#d8576b\"],[0.6666666666666666,\"#ed7953\"],[0.7777777777777778,\"#fb9f3a\"],[0.8888888888888888,\"#fdca26\"],[1.0,\"#f0f921\"]],\"type\":\"surface\"}],\"table\":[{\"cells\":{\"fill\":{\"color\":\"#EBF0F8\"},\"line\":{\"color\":\"white\"}},\"header\":{\"fill\":{\"color\":\"#C8D4E3\"},\"line\":{\"color\":\"white\"}},\"type\":\"table\"}]},\"layout\":{\"annotationdefaults\":{\"arrowcolor\":\"#2a3f5f\",\"arrowhead\":0,\"arrowwidth\":1},\"autotypenumbers\":\"strict\",\"coloraxis\":{\"colorbar\":{\"outlinewidth\":0,\"ticks\":\"\"}},\"colorscale\":{\"diverging\":[[0,\"#8e0152\"],[0.1,\"#c51b7d\"],[0.2,\"#de77ae\"],[0.3,\"#f1b6da\"],[0.4,\"#fde0ef\"],[0.5,\"#f7f7f7\"],[0.6,\"#e6f5d0\"],[0.7,\"#b8e186\"],[0.8,\"#7fbc41\"],[0.9,\"#4d9221\"],[1,\"#276419\"]],\"sequential\":[[0.0,\"#0d0887\"],[0.1111111111111111,\"#46039f\"],[0.2222222222222222,\"#7201a8\"],[0.3333333333333333,\"#9c179e\"],[0.4444444444444444,\"#bd3786\"],[0.5555555555555556,\"#d8576b\"],[0.6666666666666666,\"#ed7953\"],[0.7777777777777778,\"#fb9f3a\"],[0.8888888888888888,\"#fdca26\"],[1.0,\"#f0f921\"]],\"sequentialminus\":[[0.0,\"#0d0887\"],[0.1111111111111111,\"#46039f\"],[0.2222222222222222,\"#7201a8\"],[0.3333333333333333,\"#9c179e\"],[0.4444444444444444,\"#bd3786\"],[0.5555555555555556,\"#d8576b\"],[0.6666666666666666,\"#ed7953\"],[0.7777777777777778,\"#fb9f3a\"],[0.8888888888888888,\"#fdca26\"],[1.0,\"#f0f921\"]]},\"colorway\":[\"#636efa\",\"#EF553B\",\"#00cc96\",\"#ab63fa\",\"#FFA15A\",\"#19d3f3\",\"#FF6692\",\"#B6E880\",\"#FF97FF\",\"#FECB52\"],\"font\":{\"color\":\"#2a3f5f\"},\"geo\":{\"bgcolor\":\"white\",\"lakecolor\":\"white\",\"landcolor\":\"#E5ECF6\",\"showlakes\":true,\"showland\":true,\"subunitcolor\":\"white\"},\"hoverlabel\":{\"align\":\"left\"},\"hovermode\":\"closest\",\"mapbox\":{\"style\":\"light\"},\"paper_bgcolor\":\"white\",\"plot_bgcolor\":\"#E5ECF6\",\"polar\":{\"angularaxis\":{\"gridcolor\":\"white\",\"linecolor\":\"white\",\"ticks\":\"\"},\"bgcolor\":\"#E5ECF6\",\"radialaxis\":{\"gridcolor\":\"white\",\"linecolor\":\"white\",\"ticks\":\"\"}},\"scene\":{\"xaxis\":{\"backgroundcolor\":\"#E5ECF6\",\"gridcolor\":\"white\",\"gridwidth\":2,\"linecolor\":\"white\",\"showbackground\":true,\"ticks\":\"\",\"zerolinecolor\":\"white\"},\"yaxis\":{\"backgroundcolor\":\"#E5ECF6\",\"gridcolor\":\"white\",\"gridwidth\":2,\"linecolor\":\"white\",\"showbackground\":true,\"ticks\":\"\",\"zerolinecolor\":\"white\"},\"zaxis\":{\"backgroundcolor\":\"#E5ECF6\",\"gridcolor\":\"white\",\"gridwidth\":2,\"linecolor\":\"white\",\"showbackground\":true,\"ticks\":\"\",\"zerolinecolor\":\"white\"}},\"shapedefaults\":{\"line\":{\"color\":\"#2a3f5f\"}},\"ternary\":{\"aaxis\":{\"gridcolor\":\"white\",\"linecolor\":\"white\",\"ticks\":\"\"},\"baxis\":{\"gridcolor\":\"white\",\"linecolor\":\"white\",\"ticks\":\"\"},\"bgcolor\":\"#E5ECF6\",\"caxis\":{\"gridcolor\":\"white\",\"linecolor\":\"white\",\"ticks\":\"\"}},\"title\":{\"x\":0.05},\"xaxis\":{\"automargin\":true,\"gridcolor\":\"white\",\"linecolor\":\"white\",\"ticks\":\"\",\"title\":{\"standoff\":15},\"zerolinecolor\":\"white\",\"zerolinewidth\":2},\"yaxis\":{\"automargin\":true,\"gridcolor\":\"white\",\"linecolor\":\"white\",\"ticks\":\"\",\"title\":{\"standoff\":15},\"zerolinecolor\":\"white\",\"zerolinewidth\":2}}},\"title\":{\"text\":\"Produtos mais vendidos\"},\"width\":800,\"xaxis\":{\"anchor\":\"y\",\"domain\":[0.0,0.45],\"tickangle\":45},\"xaxis2\":{\"anchor\":\"y2\",\"domain\":[0.55,1.0],\"tickangle\":45},\"xaxis3\":{\"anchor\":\"y3\",\"domain\":[0.0,0.45],\"tickangle\":45},\"xaxis4\":{\"anchor\":\"y4\",\"domain\":[0.55,1.0],\"tickangle\":45},\"yaxis\":{\"anchor\":\"x\",\"domain\":[0.625,1.0]},\"yaxis2\":{\"anchor\":\"x2\",\"domain\":[0.625,1.0],\"matches\":\"y\",\"showticklabels\":false},\"yaxis3\":{\"anchor\":\"x3\",\"domain\":[0.0,0.375]},\"yaxis4\":{\"anchor\":\"x4\",\"domain\":[0.0,0.375],\"matches\":\"y3\",\"showticklabels\":false}},                        {\"responsive\": true}                    ).then(function(){\n",
       "                            \n",
       "var gd = document.getElementById('fa292efa-c23a-4fb4-83b0-2b3621a23c41');\n",
       "var x = new MutationObserver(function (mutations, observer) {{\n",
       "        var display = window.getComputedStyle(gd).display;\n",
       "        if (!display || display === 'none') {{\n",
       "            console.log([gd, 'removed!']);\n",
       "            Plotly.purge(gd);\n",
       "            observer.disconnect();\n",
       "        }}\n",
       "}});\n",
       "\n",
       "// Listen for the removal of the full notebook cells\n",
       "var notebookContainer = gd.closest('#notebook-container');\n",
       "if (notebookContainer) {{\n",
       "    x.observe(notebookContainer, {childList: true});\n",
       "}}\n",
       "\n",
       "// Listen for the clearing of the current output cell\n",
       "var outputEl = gd.closest('.output');\n",
       "if (outputEl) {{\n",
       "    x.observe(outputEl, {childList: true});\n",
       "}}\n",
       "\n",
       "                        })                };                });            </script>        </div>"
      ]
     },
     "metadata": {},
     "output_type": "display_data"
    }
   ],
   "source": [
    "from plotly.subplots import make_subplots\n",
    "\n",
    "df_frutas_e_verduras_quantidade=df_frutas_e_verduras.groupby(\"nome\").sum().sort_values('quantidade', ascending=False).reset_index()\n",
    "df_acougue_quantidade=df_acougue.groupby(\"nome\").sum().sort_values('quantidade', ascending=False).reset_index()\n",
    "df_padaria_quantidade=df_padaria.groupby(\"nome\").sum().sort_values('quantidade', ascending=False).reset_index()\n",
    "df_limpeza_quantidade=df_produtos_de_limpeza.groupby(\"nome\").sum().sort_values('quantidade', ascending=False).reset_index()\n",
    "\n",
    "fig = make_subplots(rows=2, cols=2, shared_yaxes=True, \n",
    "    subplot_titles=(\"Quantidades vendidas em alimentos em geral\", \"Quantidades vendidas no açougue\", \"Quantidades vendidas na padaria\", \"Quantidades vendidas em produtos de limpeza\"))\n",
    "\n",
    "fig.add_trace(go.Bar(x=df_frutas_e_verduras_quantidade[\"nome\"], y=df_frutas_e_verduras_quantidade[\"quantidade\"]), \n",
    "              1, 1)\n",
    "\n",
    "fig.add_trace(go.Bar(x=df_acougue_quantidade[\"nome\"], y=df_acougue_quantidade[\"quantidade\"]),\n",
    "              1, 2)\n",
    "\n",
    "fig.add_trace(go.Bar(x=df_padaria_quantidade[\"nome\"], y=df_padaria_quantidade[\"quantidade\"]),\n",
    "              2, 1)\n",
    "\n",
    "fig.add_trace(go.Bar(x=df_limpeza_quantidade[\"nome\"], y=df_limpeza_quantidade[\"quantidade\"]),\n",
    "              2, 2)\n",
    "\n",
    "\n",
    "\n",
    "fig.update_layout(height=650, width=800, showlegend=False,\n",
    "                  title_text=\"Produtos mais vendidos\")\n",
    "fig.update_xaxes(tickangle=45)\n",
    "\n",
    "fig.show()"
   ]
  },
  {
   "cell_type": "code",
   "execution_count": null,
   "id": "7619bc15",
   "metadata": {},
   "outputs": [],
   "source": []
  },
  {
   "cell_type": "code",
   "execution_count": 344,
   "id": "c788e46a",
   "metadata": {},
   "outputs": [],
   "source": [
    "from datetime import datetime, date\n",
    "tabela_ajustando_idade=venda_produtos_cliente\n",
    "tabela_ajustando_idade[\"nascimento\"]=tabela_ajustando_idade[\"nascimento\"].astype(str)\n",
    "\n",
    "tabela_ajustando_idade[\"nascimento\"]=tabela_ajustando_idade[\"nascimento\"].str.replace('-',' ')"
   ]
  },
  {
   "cell_type": "code",
   "execution_count": 345,
   "id": "a235283b",
   "metadata": {},
   "outputs": [],
   "source": [
    "today = date.today()\n",
    "def data(x):\n",
    "    x=datetime.strptime(x, \"%Y %m %d\")\n",
    "    return today.year - x.year - ((today.month, today.day) < (x.month, x.day))\n",
    "\n",
    "tabela_ajustando_idade[\"idade\"]=tabela_ajustando_idade[\"nascimento\"].apply(lambda x: data(x))\n",
    "\n",
    "tabela_ajustando_idade_cliente_gasto=tabela_ajustando_idade[[\"nome_cliente\", \"total_preco\"]].groupby(\"nome_cliente\").sum().sort_values('total_preco', ascending=False).reset_index()\n",
    "tabela_ajustando_idade_cliente_gasto.rename(columns={\"total_preco\": \"total_mes\"}, inplace = 1)\n",
    "\n",
    "tabela_ajustando_idade_cliente_idade=tabela_ajustando_idade[[\"nome_cliente\", \"idade\"]].drop_duplicates()\n",
    "\n",
    "tabela_cliente_gasto_idade=pd.merge(tabela_ajustando_idade_cliente_gasto, tabela_ajustando_idade_cliente_idade, on = 'nome_cliente', how='right') "
   ]
  },
  {
   "cell_type": "code",
   "execution_count": 377,
   "id": "a6c6dd9c",
   "metadata": {},
   "outputs": [
    {
     "data": {
      "application/vnd.plotly.v1+json": {
       "config": {
        "plotlyServerURL": "https://plot.ly"
       },
       "data": [
        {
         "customdata": [
          [
           "Bárbara Viana"
          ],
          [
           "Pedro Henrique Araújo"
          ],
          [
           "Sr. Paulo Nunes"
          ],
          [
           "Pedro Lucas da Paz"
          ],
          [
           "Caroline das Neves"
          ],
          [
           "Benjamin Pires"
          ],
          [
           "Raul Barros"
          ],
          [
           "Ian Vieira"
          ],
          [
           "Julia Souza"
          ],
          [
           "Vitória Cardoso"
          ],
          [
           "Isaac Fernandes"
          ],
          [
           "Catarina Martins"
          ],
          [
           "Sofia Vieira"
          ],
          [
           "Srta. Maria Pires"
          ],
          [
           "Thomas Teixeira"
          ],
          [
           "Diogo da Luz"
          ],
          [
           "Lucas Gabriel Rocha"
          ],
          [
           "Emanuella Nunes"
          ],
          [
           "Stella Barros"
          ],
          [
           "Ana Clara Rezende"
          ],
          [
           "Isabel da Cruz"
          ],
          [
           "Isis Caldeira"
          ],
          [
           "João Guilherme Duarte"
          ],
          [
           "Daniela Pinto"
          ],
          [
           "Pietra Farias"
          ],
          [
           "Isabel Freitas"
          ],
          [
           "Diego Oliveira"
          ],
          [
           "Stella Fernandes"
          ],
          [
           "Giovanna Martins"
          ],
          [
           "Laura da Mata"
          ],
          [
           "Ana Luiza Almeida"
          ],
          [
           "Maria Cecília Silveira"
          ],
          [
           "Antônio Moreira"
          ],
          [
           "Dra. Ana Laura Cardoso"
          ],
          [
           "Dra. Rafaela Souza"
          ],
          [
           "Marina da Mata"
          ],
          [
           "Sr. Bernardo Fogaça"
          ],
          [
           "Ana Luiza Gonçalves"
          ],
          [
           "Srta. Gabrielly Ferreira"
          ],
          [
           "Melissa da Conceição"
          ],
          [
           "Agatha Costela"
          ],
          [
           "Kevin Rodrigues"
          ],
          [
           "Luiz Otávio Lima"
          ],
          [
           "Melissa Jesus"
          ],
          [
           "Luana Cunha"
          ],
          [
           "Luiza Cardoso"
          ],
          [
           "Thiago da Rosa"
          ],
          [
           "Felipe Rezende"
          ],
          [
           "Bernardo Rodrigues"
          ],
          [
           "Emanuelly Pereira"
          ],
          [
           "Sofia Lima"
          ],
          [
           "Luiz Miguel Ferreira"
          ],
          [
           "Ana Vitória Freitas"
          ],
          [
           "Lucca da Rosa"
          ],
          [
           "Luigi da Rocha"
          ],
          [
           "Heloísa Rocha"
          ],
          [
           "Yago Campos"
          ],
          [
           "Dr. Fernando Araújo"
          ],
          [
           "Caio Lopes"
          ],
          [
           "Luana Gomes"
          ],
          [
           "João Vitor Carvalho"
          ],
          [
           "Isadora Rezende"
          ],
          [
           "Beatriz Carvalho"
          ],
          [
           "Stella Costa"
          ],
          [
           "Maria Eduarda Cunha"
          ],
          [
           "Alícia Souza"
          ],
          [
           "Igor Azevedo"
          ],
          [
           "Olivia Moraes"
          ],
          [
           "Danilo da Costa"
          ],
          [
           "Sr. Pedro Lucas Sales"
          ],
          [
           "Lara Sales"
          ],
          [
           "Eloah Azevedo"
          ],
          [
           "Sra. Bárbara Peixoto"
          ],
          [
           "Natália Freitas"
          ],
          [
           "Bruna Viana"
          ],
          [
           "Sr. Paulo da Conceição"
          ],
          [
           "Luigi Azevedo"
          ],
          [
           "Henrique Pires"
          ],
          [
           "Dr. Bruno Ferreira"
          ],
          [
           "João Vitor Viana"
          ],
          [
           "Dr. Enrico Araújo"
          ],
          [
           "Emanuelly Cardoso"
          ],
          [
           "Mariana Cunha"
          ],
          [
           "Vitor Hugo Caldeira"
          ],
          [
           "Sr. Pedro Henrique Monteiro"
          ],
          [
           "Luiz Felipe Castro"
          ],
          [
           "Melissa Melo"
          ],
          [
           "Rafael da Rosa"
          ],
          [
           "Marcelo Caldeira"
          ],
          [
           "Natália Santos"
          ],
          [
           "Sr. João Guilherme Costa"
          ],
          [
           "Isabella Martins"
          ],
          [
           "Caio da Paz"
          ],
          [
           "Marina Duarte"
          ],
          [
           "Gabriel Freitas"
          ],
          [
           "Gabriel Farias"
          ],
          [
           "João Miguel da Conceição"
          ],
          [
           "Thomas Ribeiro"
          ],
          [
           "Emanuel Duarte"
          ],
          [
           "Larissa Lima"
          ],
          [
           "Otávio Campos"
          ],
          [
           "Sophie Rocha"
          ],
          [
           "Breno Teixeira"
          ],
          [
           "Sr. Vitor Hugo Duarte"
          ],
          [
           "Valentina Pires"
          ],
          [
           "Pedro Gonçalves"
          ],
          [
           "Marcelo Costela"
          ],
          [
           "Bryan Novaes"
          ],
          [
           "Clarice Aragão"
          ],
          [
           "Emanuel Vieira"
          ],
          [
           "Dr. Francisco Dias"
          ],
          [
           "Luiza Freitas"
          ],
          [
           "João Miguel Pinto"
          ],
          [
           "Helena Moreira"
          ],
          [
           "Yuri Ferreira"
          ],
          [
           "Brenda Gonçalves"
          ],
          [
           "Luana Cardoso"
          ],
          [
           "Nicolas Moreira"
          ],
          [
           "Luiz Otávio Duarte"
          ],
          [
           "Caio Pires"
          ],
          [
           "Maria Julia Caldeira"
          ],
          [
           "Noah Moraes"
          ],
          [
           "Dr. Yuri Peixoto"
          ],
          [
           "Ana Laura da Cruz"
          ],
          [
           "Dra. Stella Ferreira"
          ],
          [
           "Mariane Silva"
          ],
          [
           "Brenda Silva"
          ],
          [
           "Maria Alice da Mata"
          ],
          [
           "Bernardo da Mata"
          ],
          [
           "Melissa Silveira"
          ],
          [
           "Thiago Cardoso"
          ],
          [
           "Luna Silva"
          ],
          [
           "Marcela da Luz"
          ],
          [
           "Srta. Maria Cecília Duarte"
          ],
          [
           "Dra. Gabriela Dias"
          ],
          [
           "Vitor Hugo Moraes"
          ],
          [
           "Sr. Pedro Sales"
          ],
          [
           "Brenda da Costa"
          ],
          [
           "Sr. João Guilherme Castro"
          ],
          [
           "Davi Melo"
          ],
          [
           "Sr. Kaique da Luz"
          ],
          [
           "Alexia da Rosa"
          ],
          [
           "Paulo Vieira"
          ],
          [
           "Erick Fogaça"
          ],
          [
           "Evelyn Lima"
          ],
          [
           "Sra. Maria Luiza da Luz"
          ],
          [
           "Ana Souza"
          ],
          [
           "Srta. Sophia Martins"
          ],
          [
           "Stephany Campos"
          ],
          [
           "Daniel Costa"
          ],
          [
           "Sr. Antônio Freitas"
          ],
          [
           "Milena Pinto"
          ],
          [
           "Dra. Bárbara Fernandes"
          ],
          [
           "Maria Luiza Monteiro"
          ],
          [
           "Dra. Maria Luiza Aragão"
          ],
          [
           "Srta. Ana Luiza da Mota"
          ],
          [
           "Ana Sophia Farias"
          ],
          [
           "Dr. Gabriel Vieira"
          ],
          [
           "Davi Lucca Nunes"
          ],
          [
           "Maria Cecília Viana"
          ],
          [
           "Cauã Araújo"
          ],
          [
           "Guilherme Farias"
          ],
          [
           "Noah Barbosa"
          ],
          [
           "Marcelo Ribeiro"
          ],
          [
           "Valentina Campos"
          ],
          [
           "Laís Moura"
          ],
          [
           "Luiz Henrique Rodrigues"
          ],
          [
           "Marcela da Rocha"
          ],
          [
           "Catarina Moura"
          ],
          [
           "Dr. Levi da Luz"
          ],
          [
           "Stephany Almeida"
          ],
          [
           "Pedro Miguel Teixeira"
          ],
          [
           "Caroline Costa"
          ],
          [
           "Yago Teixeira"
          ],
          [
           "Bruna Fernandes"
          ],
          [
           "Miguel Ferreira"
          ],
          [
           "Stella Azevedo"
          ],
          [
           "Raul Carvalho"
          ],
          [
           "Dra. Ana Vitória Vieira"
          ],
          [
           "Srta. Lavínia da Paz"
          ],
          [
           "Mariana Oliveira"
          ],
          [
           "Maria Luiza da Rocha"
          ],
          [
           "Sophie da Costa"
          ],
          [
           "Giovanna Duarte"
          ],
          [
           "Felipe Rocha"
          ]
         ],
         "hovertemplate": "Total gasto pelo cliente=%{x}<br>Idade=%{y}<br>Nome do cliente=%{customdata[0]}<extra></extra>",
         "legendgroup": "",
         "marker": {
          "color": "#00CC96",
          "symbol": "circle"
         },
         "mode": "markers",
         "name": "",
         "orientation": "v",
         "showlegend": false,
         "type": "scatter",
         "x": [
          1367.65,
          745.7200000000003,
          803.6700000000002,
          1704.0100000000004,
          1570.2500000000002,
          367.16,
          1059.43,
          1020.9300000000003,
          1240.98,
          612.8000000000001,
          1007.28,
          487.73,
          1946.1600000000003,
          592.2700000000001,
          1223.7000000000003,
          1470.3400000000001,
          1700.1500000000003,
          56.379999999999995,
          1578.9800000000005,
          585.33,
          968.8400000000003,
          911.8500000000001,
          281.84000000000003,
          1339.7300000000002,
          282.03,
          1437.4500000000003,
          209.47999999999996,
          1006.2800000000002,
          840.9900000000002,
          404.50000000000006,
          1984.2599999999998,
          634.6300000000001,
          936.53,
          1076.76,
          549.98,
          1219.0200000000002,
          625.8499999999999,
          322.47,
          1185.1000000000004,
          1998.7800000000007,
          229.38000000000002,
          187.27999999999997,
          1030.1100000000001,
          364.92,
          341.99,
          1783.9200000000003,
          1130.28,
          597.7,
          1602.93,
          571.11,
          304.75,
          522.6700000000001,
          841.5000000000001,
          719.1300000000001,
          126.65,
          401.44000000000005,
          1369.2400000000002,
          376.53,
          1809.7200000000005,
          488.59000000000003,
          1068.23,
          1987.5900000000008,
          1274.22,
          1492.67,
          19.84,
          262.89,
          150.3,
          4.96,
          1186.48,
          22.92,
          1106.02,
          1402.8600000000001,
          355.6600000000001,
          1292.65,
          419.6700000000001,
          705.37,
          1824.2900000000004,
          398.34000000000003,
          1007.49,
          374.74,
          495.92,
          486.72,
          1458.8500000000001,
          1699.71,
          531.88,
          1230.69,
          625.4500000000002,
          819.6700000000001,
          58.94,
          1247.8000000000002,
          53.46,
          40.42,
          832.41,
          394.87,
          926.6000000000001,
          987.8900000000002,
          1120.21,
          568.33,
          481.52,
          339.9200000000001,
          1519.8000000000004,
          282.27000000000004,
          551.28,
          1418.8700000000001,
          1298.8200000000004,
          672.7400000000001,
          451.79,
          289.39,
          59.95,
          50.370000000000005,
          134.95,
          397.75000000000006,
          475.8300000000001,
          1309.2200000000003,
          1358.0300000000002,
          1016.0500000000003,
          406.59,
          845.7800000000002,
          1355.0200000000002,
          824.2600000000001,
          478.62,
          99.46,
          1106.95,
          265.36,
          522.5200000000001,
          249.12,
          245.82,
          975.7400000000001,
          678.45,
          794.1400000000002,
          748.37,
          1382.19,
          1387.0500000000002,
          586.4300000000001,
          90,
          135,
          97.99,
          439.5000000000001,
          167.18,
          610.62,
          3.99,
          358.85,
          673.79,
          1048.7900000000002,
          31.96,
          7.99,
          52.95,
          38.940000000000005,
          75.92,
          386.96000000000004,
          242.51999999999998,
          1092.71,
          324.59000000000003,
          47.97,
          67.88,
          83.94,
          20.1,
          657.4700000000001,
          1214.3000000000002,
          87.97,
          43.37,
          27.479999999999997,
          130.23,
          54.93000000000001,
          43.96,
          24.950000000000003,
          22.41,
          104.94999999999999,
          70.89,
          283.56,
          298.53000000000003,
          71.92,
          26.900000000000002,
          65.94999999999999,
          11.98,
          29.95,
          42.839999999999996,
          2.58,
          85.98,
          172,
          12.99,
          5.99,
          11.98,
          95.96,
          33.92
         ],
         "xaxis": "x",
         "y": [
          64,
          48,
          71,
          32,
          33,
          23,
          48,
          71,
          20,
          68,
          29,
          24,
          46,
          67,
          43,
          70,
          69,
          45,
          70,
          51,
          71,
          51,
          47,
          32,
          70,
          58,
          72,
          57,
          25,
          38,
          60,
          18,
          27,
          58,
          57,
          20,
          48,
          68,
          41,
          59,
          71,
          44,
          62,
          49,
          28,
          40,
          68,
          68,
          63,
          47,
          21,
          61,
          32,
          34,
          51,
          40,
          27,
          73,
          69,
          26,
          66,
          34,
          36,
          67,
          56,
          20,
          39,
          40,
          62,
          70,
          49,
          26,
          20,
          53,
          27,
          40,
          31,
          71,
          38,
          66,
          48,
          61,
          63,
          63,
          42,
          44,
          51,
          69,
          33,
          43,
          61,
          47,
          62,
          39,
          25,
          35,
          29,
          59,
          54,
          24,
          38,
          69,
          55,
          48,
          40,
          38,
          41,
          69,
          27,
          68,
          67,
          73,
          36,
          42,
          62,
          47,
          32,
          70,
          44,
          38,
          23,
          22,
          21,
          36,
          34,
          33,
          59,
          24,
          61,
          27,
          60,
          55,
          53,
          73,
          60,
          34,
          62,
          27,
          29,
          47,
          61,
          46,
          23,
          62,
          25,
          59,
          69,
          37,
          46,
          70,
          20,
          60,
          67,
          65,
          70,
          42,
          62,
          30,
          72,
          27,
          39,
          34,
          39,
          32,
          26,
          67,
          19,
          49,
          52,
          67,
          52,
          57,
          48,
          37,
          65,
          66,
          28,
          70,
          19,
          63,
          47,
          27,
          54,
          63,
          53
         ],
         "yaxis": "y"
        }
       ],
       "layout": {
        "legend": {
         "tracegroupgap": 0
        },
        "margin": {
         "t": 60
        },
        "template": {
         "data": {
          "bar": [
           {
            "error_x": {
             "color": "#2a3f5f"
            },
            "error_y": {
             "color": "#2a3f5f"
            },
            "marker": {
             "line": {
              "color": "#E5ECF6",
              "width": 0.5
             },
             "pattern": {
              "fillmode": "overlay",
              "size": 10,
              "solidity": 0.2
             }
            },
            "type": "bar"
           }
          ],
          "barpolar": [
           {
            "marker": {
             "line": {
              "color": "#E5ECF6",
              "width": 0.5
             },
             "pattern": {
              "fillmode": "overlay",
              "size": 10,
              "solidity": 0.2
             }
            },
            "type": "barpolar"
           }
          ],
          "carpet": [
           {
            "aaxis": {
             "endlinecolor": "#2a3f5f",
             "gridcolor": "white",
             "linecolor": "white",
             "minorgridcolor": "white",
             "startlinecolor": "#2a3f5f"
            },
            "baxis": {
             "endlinecolor": "#2a3f5f",
             "gridcolor": "white",
             "linecolor": "white",
             "minorgridcolor": "white",
             "startlinecolor": "#2a3f5f"
            },
            "type": "carpet"
           }
          ],
          "choropleth": [
           {
            "colorbar": {
             "outlinewidth": 0,
             "ticks": ""
            },
            "type": "choropleth"
           }
          ],
          "contour": [
           {
            "colorbar": {
             "outlinewidth": 0,
             "ticks": ""
            },
            "colorscale": [
             [
              0,
              "#0d0887"
             ],
             [
              0.1111111111111111,
              "#46039f"
             ],
             [
              0.2222222222222222,
              "#7201a8"
             ],
             [
              0.3333333333333333,
              "#9c179e"
             ],
             [
              0.4444444444444444,
              "#bd3786"
             ],
             [
              0.5555555555555556,
              "#d8576b"
             ],
             [
              0.6666666666666666,
              "#ed7953"
             ],
             [
              0.7777777777777778,
              "#fb9f3a"
             ],
             [
              0.8888888888888888,
              "#fdca26"
             ],
             [
              1,
              "#f0f921"
             ]
            ],
            "type": "contour"
           }
          ],
          "contourcarpet": [
           {
            "colorbar": {
             "outlinewidth": 0,
             "ticks": ""
            },
            "type": "contourcarpet"
           }
          ],
          "heatmap": [
           {
            "colorbar": {
             "outlinewidth": 0,
             "ticks": ""
            },
            "colorscale": [
             [
              0,
              "#0d0887"
             ],
             [
              0.1111111111111111,
              "#46039f"
             ],
             [
              0.2222222222222222,
              "#7201a8"
             ],
             [
              0.3333333333333333,
              "#9c179e"
             ],
             [
              0.4444444444444444,
              "#bd3786"
             ],
             [
              0.5555555555555556,
              "#d8576b"
             ],
             [
              0.6666666666666666,
              "#ed7953"
             ],
             [
              0.7777777777777778,
              "#fb9f3a"
             ],
             [
              0.8888888888888888,
              "#fdca26"
             ],
             [
              1,
              "#f0f921"
             ]
            ],
            "type": "heatmap"
           }
          ],
          "heatmapgl": [
           {
            "colorbar": {
             "outlinewidth": 0,
             "ticks": ""
            },
            "colorscale": [
             [
              0,
              "#0d0887"
             ],
             [
              0.1111111111111111,
              "#46039f"
             ],
             [
              0.2222222222222222,
              "#7201a8"
             ],
             [
              0.3333333333333333,
              "#9c179e"
             ],
             [
              0.4444444444444444,
              "#bd3786"
             ],
             [
              0.5555555555555556,
              "#d8576b"
             ],
             [
              0.6666666666666666,
              "#ed7953"
             ],
             [
              0.7777777777777778,
              "#fb9f3a"
             ],
             [
              0.8888888888888888,
              "#fdca26"
             ],
             [
              1,
              "#f0f921"
             ]
            ],
            "type": "heatmapgl"
           }
          ],
          "histogram": [
           {
            "marker": {
             "pattern": {
              "fillmode": "overlay",
              "size": 10,
              "solidity": 0.2
             }
            },
            "type": "histogram"
           }
          ],
          "histogram2d": [
           {
            "colorbar": {
             "outlinewidth": 0,
             "ticks": ""
            },
            "colorscale": [
             [
              0,
              "#0d0887"
             ],
             [
              0.1111111111111111,
              "#46039f"
             ],
             [
              0.2222222222222222,
              "#7201a8"
             ],
             [
              0.3333333333333333,
              "#9c179e"
             ],
             [
              0.4444444444444444,
              "#bd3786"
             ],
             [
              0.5555555555555556,
              "#d8576b"
             ],
             [
              0.6666666666666666,
              "#ed7953"
             ],
             [
              0.7777777777777778,
              "#fb9f3a"
             ],
             [
              0.8888888888888888,
              "#fdca26"
             ],
             [
              1,
              "#f0f921"
             ]
            ],
            "type": "histogram2d"
           }
          ],
          "histogram2dcontour": [
           {
            "colorbar": {
             "outlinewidth": 0,
             "ticks": ""
            },
            "colorscale": [
             [
              0,
              "#0d0887"
             ],
             [
              0.1111111111111111,
              "#46039f"
             ],
             [
              0.2222222222222222,
              "#7201a8"
             ],
             [
              0.3333333333333333,
              "#9c179e"
             ],
             [
              0.4444444444444444,
              "#bd3786"
             ],
             [
              0.5555555555555556,
              "#d8576b"
             ],
             [
              0.6666666666666666,
              "#ed7953"
             ],
             [
              0.7777777777777778,
              "#fb9f3a"
             ],
             [
              0.8888888888888888,
              "#fdca26"
             ],
             [
              1,
              "#f0f921"
             ]
            ],
            "type": "histogram2dcontour"
           }
          ],
          "mesh3d": [
           {
            "colorbar": {
             "outlinewidth": 0,
             "ticks": ""
            },
            "type": "mesh3d"
           }
          ],
          "parcoords": [
           {
            "line": {
             "colorbar": {
              "outlinewidth": 0,
              "ticks": ""
             }
            },
            "type": "parcoords"
           }
          ],
          "pie": [
           {
            "automargin": true,
            "type": "pie"
           }
          ],
          "scatter": [
           {
            "marker": {
             "colorbar": {
              "outlinewidth": 0,
              "ticks": ""
             }
            },
            "type": "scatter"
           }
          ],
          "scatter3d": [
           {
            "line": {
             "colorbar": {
              "outlinewidth": 0,
              "ticks": ""
             }
            },
            "marker": {
             "colorbar": {
              "outlinewidth": 0,
              "ticks": ""
             }
            },
            "type": "scatter3d"
           }
          ],
          "scattercarpet": [
           {
            "marker": {
             "colorbar": {
              "outlinewidth": 0,
              "ticks": ""
             }
            },
            "type": "scattercarpet"
           }
          ],
          "scattergeo": [
           {
            "marker": {
             "colorbar": {
              "outlinewidth": 0,
              "ticks": ""
             }
            },
            "type": "scattergeo"
           }
          ],
          "scattergl": [
           {
            "marker": {
             "colorbar": {
              "outlinewidth": 0,
              "ticks": ""
             }
            },
            "type": "scattergl"
           }
          ],
          "scattermapbox": [
           {
            "marker": {
             "colorbar": {
              "outlinewidth": 0,
              "ticks": ""
             }
            },
            "type": "scattermapbox"
           }
          ],
          "scatterpolar": [
           {
            "marker": {
             "colorbar": {
              "outlinewidth": 0,
              "ticks": ""
             }
            },
            "type": "scatterpolar"
           }
          ],
          "scatterpolargl": [
           {
            "marker": {
             "colorbar": {
              "outlinewidth": 0,
              "ticks": ""
             }
            },
            "type": "scatterpolargl"
           }
          ],
          "scatterternary": [
           {
            "marker": {
             "colorbar": {
              "outlinewidth": 0,
              "ticks": ""
             }
            },
            "type": "scatterternary"
           }
          ],
          "surface": [
           {
            "colorbar": {
             "outlinewidth": 0,
             "ticks": ""
            },
            "colorscale": [
             [
              0,
              "#0d0887"
             ],
             [
              0.1111111111111111,
              "#46039f"
             ],
             [
              0.2222222222222222,
              "#7201a8"
             ],
             [
              0.3333333333333333,
              "#9c179e"
             ],
             [
              0.4444444444444444,
              "#bd3786"
             ],
             [
              0.5555555555555556,
              "#d8576b"
             ],
             [
              0.6666666666666666,
              "#ed7953"
             ],
             [
              0.7777777777777778,
              "#fb9f3a"
             ],
             [
              0.8888888888888888,
              "#fdca26"
             ],
             [
              1,
              "#f0f921"
             ]
            ],
            "type": "surface"
           }
          ],
          "table": [
           {
            "cells": {
             "fill": {
              "color": "#EBF0F8"
             },
             "line": {
              "color": "white"
             }
            },
            "header": {
             "fill": {
              "color": "#C8D4E3"
             },
             "line": {
              "color": "white"
             }
            },
            "type": "table"
           }
          ]
         },
         "layout": {
          "annotationdefaults": {
           "arrowcolor": "#2a3f5f",
           "arrowhead": 0,
           "arrowwidth": 1
          },
          "autotypenumbers": "strict",
          "coloraxis": {
           "colorbar": {
            "outlinewidth": 0,
            "ticks": ""
           }
          },
          "colorscale": {
           "diverging": [
            [
             0,
             "#8e0152"
            ],
            [
             0.1,
             "#c51b7d"
            ],
            [
             0.2,
             "#de77ae"
            ],
            [
             0.3,
             "#f1b6da"
            ],
            [
             0.4,
             "#fde0ef"
            ],
            [
             0.5,
             "#f7f7f7"
            ],
            [
             0.6,
             "#e6f5d0"
            ],
            [
             0.7,
             "#b8e186"
            ],
            [
             0.8,
             "#7fbc41"
            ],
            [
             0.9,
             "#4d9221"
            ],
            [
             1,
             "#276419"
            ]
           ],
           "sequential": [
            [
             0,
             "#0d0887"
            ],
            [
             0.1111111111111111,
             "#46039f"
            ],
            [
             0.2222222222222222,
             "#7201a8"
            ],
            [
             0.3333333333333333,
             "#9c179e"
            ],
            [
             0.4444444444444444,
             "#bd3786"
            ],
            [
             0.5555555555555556,
             "#d8576b"
            ],
            [
             0.6666666666666666,
             "#ed7953"
            ],
            [
             0.7777777777777778,
             "#fb9f3a"
            ],
            [
             0.8888888888888888,
             "#fdca26"
            ],
            [
             1,
             "#f0f921"
            ]
           ],
           "sequentialminus": [
            [
             0,
             "#0d0887"
            ],
            [
             0.1111111111111111,
             "#46039f"
            ],
            [
             0.2222222222222222,
             "#7201a8"
            ],
            [
             0.3333333333333333,
             "#9c179e"
            ],
            [
             0.4444444444444444,
             "#bd3786"
            ],
            [
             0.5555555555555556,
             "#d8576b"
            ],
            [
             0.6666666666666666,
             "#ed7953"
            ],
            [
             0.7777777777777778,
             "#fb9f3a"
            ],
            [
             0.8888888888888888,
             "#fdca26"
            ],
            [
             1,
             "#f0f921"
            ]
           ]
          },
          "colorway": [
           "#636efa",
           "#EF553B",
           "#00cc96",
           "#ab63fa",
           "#FFA15A",
           "#19d3f3",
           "#FF6692",
           "#B6E880",
           "#FF97FF",
           "#FECB52"
          ],
          "font": {
           "color": "#2a3f5f"
          },
          "geo": {
           "bgcolor": "white",
           "lakecolor": "white",
           "landcolor": "#E5ECF6",
           "showlakes": true,
           "showland": true,
           "subunitcolor": "white"
          },
          "hoverlabel": {
           "align": "left"
          },
          "hovermode": "closest",
          "mapbox": {
           "style": "light"
          },
          "paper_bgcolor": "white",
          "plot_bgcolor": "#E5ECF6",
          "polar": {
           "angularaxis": {
            "gridcolor": "white",
            "linecolor": "white",
            "ticks": ""
           },
           "bgcolor": "#E5ECF6",
           "radialaxis": {
            "gridcolor": "white",
            "linecolor": "white",
            "ticks": ""
           }
          },
          "scene": {
           "xaxis": {
            "backgroundcolor": "#E5ECF6",
            "gridcolor": "white",
            "gridwidth": 2,
            "linecolor": "white",
            "showbackground": true,
            "ticks": "",
            "zerolinecolor": "white"
           },
           "yaxis": {
            "backgroundcolor": "#E5ECF6",
            "gridcolor": "white",
            "gridwidth": 2,
            "linecolor": "white",
            "showbackground": true,
            "ticks": "",
            "zerolinecolor": "white"
           },
           "zaxis": {
            "backgroundcolor": "#E5ECF6",
            "gridcolor": "white",
            "gridwidth": 2,
            "linecolor": "white",
            "showbackground": true,
            "ticks": "",
            "zerolinecolor": "white"
           }
          },
          "shapedefaults": {
           "line": {
            "color": "#2a3f5f"
           }
          },
          "ternary": {
           "aaxis": {
            "gridcolor": "white",
            "linecolor": "white",
            "ticks": ""
           },
           "baxis": {
            "gridcolor": "white",
            "linecolor": "white",
            "ticks": ""
           },
           "bgcolor": "#E5ECF6",
           "caxis": {
            "gridcolor": "white",
            "linecolor": "white",
            "ticks": ""
           }
          },
          "title": {
           "x": 0.05
          },
          "xaxis": {
           "automargin": true,
           "gridcolor": "white",
           "linecolor": "white",
           "ticks": "",
           "title": {
            "standoff": 15
           },
           "zerolinecolor": "white",
           "zerolinewidth": 2
          },
          "yaxis": {
           "automargin": true,
           "gridcolor": "white",
           "linecolor": "white",
           "ticks": "",
           "title": {
            "standoff": 15
           },
           "zerolinecolor": "white",
           "zerolinewidth": 2
          }
         }
        },
        "title": {
         "text": "Gastos totais dos clientes X Idade"
        },
        "xaxis": {
         "anchor": "y",
         "domain": [
          0,
          1
         ],
         "title": {
          "text": "Gastos totais dos clientes"
         }
        },
        "yaxis": {
         "anchor": "x",
         "domain": [
          0,
          1
         ],
         "title": {
          "text": "Idade"
         }
        }
       }
      },
      "text/html": [
       "<div>                            <div id=\"206784aa-2721-4fb2-ac1d-6e752dabcd83\" class=\"plotly-graph-div\" style=\"height:525px; width:100%;\"></div>            <script type=\"text/javascript\">                require([\"plotly\"], function(Plotly) {                    window.PLOTLYENV=window.PLOTLYENV || {};                                    if (document.getElementById(\"206784aa-2721-4fb2-ac1d-6e752dabcd83\")) {                    Plotly.newPlot(                        \"206784aa-2721-4fb2-ac1d-6e752dabcd83\",                        [{\"customdata\":[[\"B\\u00e1rbara Viana\"],[\"Pedro Henrique Ara\\u00fajo\"],[\"Sr. Paulo Nunes\"],[\"Pedro Lucas da Paz\"],[\"Caroline das Neves\"],[\"Benjamin Pires\"],[\"Raul Barros\"],[\"Ian Vieira\"],[\"Julia Souza\"],[\"Vit\\u00f3ria Cardoso\"],[\"Isaac Fernandes\"],[\"Catarina Martins\"],[\"Sofia Vieira\"],[\"Srta. Maria Pires\"],[\"Thomas Teixeira\"],[\"Diogo da Luz\"],[\"Lucas Gabriel Rocha\"],[\"Emanuella Nunes\"],[\"Stella Barros\"],[\"Ana Clara Rezende\"],[\"Isabel da Cruz\"],[\"Isis Caldeira\"],[\"Jo\\u00e3o Guilherme Duarte\"],[\"Daniela Pinto\"],[\"Pietra Farias\"],[\"Isabel Freitas\"],[\"Diego Oliveira\"],[\"Stella Fernandes\"],[\"Giovanna Martins\"],[\"Laura da Mata\"],[\"Ana Luiza Almeida\"],[\"Maria Cec\\u00edlia Silveira\"],[\"Ant\\u00f4nio Moreira\"],[\"Dra. Ana Laura Cardoso\"],[\"Dra. Rafaela Souza\"],[\"Marina da Mata\"],[\"Sr. Bernardo Foga\\u00e7a\"],[\"Ana Luiza Gon\\u00e7alves\"],[\"Srta. Gabrielly Ferreira\"],[\"Melissa da Concei\\u00e7\\u00e3o\"],[\"Agatha Costela\"],[\"Kevin Rodrigues\"],[\"Luiz Ot\\u00e1vio Lima\"],[\"Melissa Jesus\"],[\"Luana Cunha\"],[\"Luiza Cardoso\"],[\"Thiago da Rosa\"],[\"Felipe Rezende\"],[\"Bernardo Rodrigues\"],[\"Emanuelly Pereira\"],[\"Sofia Lima\"],[\"Luiz Miguel Ferreira\"],[\"Ana Vit\\u00f3ria Freitas\"],[\"Lucca da Rosa\"],[\"Luigi da Rocha\"],[\"Helo\\u00edsa Rocha\"],[\"Yago Campos\"],[\"Dr. Fernando Ara\\u00fajo\"],[\"Caio Lopes\"],[\"Luana Gomes\"],[\"Jo\\u00e3o Vitor Carvalho\"],[\"Isadora Rezende\"],[\"Beatriz Carvalho\"],[\"Stella Costa\"],[\"Maria Eduarda Cunha\"],[\"Al\\u00edcia Souza\"],[\"Igor Azevedo\"],[\"Olivia Moraes\"],[\"Danilo da Costa\"],[\"Sr. Pedro Lucas Sales\"],[\"Lara Sales\"],[\"Eloah Azevedo\"],[\"Sra. B\\u00e1rbara Peixoto\"],[\"Nat\\u00e1lia Freitas\"],[\"Bruna Viana\"],[\"Sr. Paulo da Concei\\u00e7\\u00e3o\"],[\"Luigi Azevedo\"],[\"Henrique Pires\"],[\"Dr. Bruno Ferreira\"],[\"Jo\\u00e3o Vitor Viana\"],[\"Dr. Enrico Ara\\u00fajo\"],[\"Emanuelly Cardoso\"],[\"Mariana Cunha\"],[\"Vitor Hugo Caldeira\"],[\"Sr. Pedro Henrique Monteiro\"],[\"Luiz Felipe Castro\"],[\"Melissa Melo\"],[\"Rafael da Rosa\"],[\"Marcelo Caldeira\"],[\"Nat\\u00e1lia Santos\"],[\"Sr. Jo\\u00e3o Guilherme Costa\"],[\"Isabella Martins\"],[\"Caio da Paz\"],[\"Marina Duarte\"],[\"Gabriel Freitas\"],[\"Gabriel Farias\"],[\"Jo\\u00e3o Miguel da Concei\\u00e7\\u00e3o\"],[\"Thomas Ribeiro\"],[\"Emanuel Duarte\"],[\"Larissa Lima\"],[\"Ot\\u00e1vio Campos\"],[\"Sophie Rocha\"],[\"Breno Teixeira\"],[\"Sr. Vitor Hugo Duarte\"],[\"Valentina Pires\"],[\"Pedro Gon\\u00e7alves\"],[\"Marcelo Costela\"],[\"Bryan Novaes\"],[\"Clarice Arag\\u00e3o\"],[\"Emanuel Vieira\"],[\"Dr. Francisco Dias\"],[\"Luiza Freitas\"],[\"Jo\\u00e3o Miguel Pinto\"],[\"Helena Moreira\"],[\"Yuri Ferreira\"],[\"Brenda Gon\\u00e7alves\"],[\"Luana Cardoso\"],[\"Nicolas Moreira\"],[\"Luiz Ot\\u00e1vio Duarte\"],[\"Caio Pires\"],[\"Maria Julia Caldeira\"],[\"Noah Moraes\"],[\"Dr. Yuri Peixoto\"],[\"Ana Laura da Cruz\"],[\"Dra. Stella Ferreira\"],[\"Mariane Silva\"],[\"Brenda Silva\"],[\"Maria Alice da Mata\"],[\"Bernardo da Mata\"],[\"Melissa Silveira\"],[\"Thiago Cardoso\"],[\"Luna Silva\"],[\"Marcela da Luz\"],[\"Srta. Maria Cec\\u00edlia Duarte\"],[\"Dra. Gabriela Dias\"],[\"Vitor Hugo Moraes\"],[\"Sr. Pedro Sales\"],[\"Brenda da Costa\"],[\"Sr. Jo\\u00e3o Guilherme Castro\"],[\"Davi Melo\"],[\"Sr. Kaique da Luz\"],[\"Alexia da Rosa\"],[\"Paulo Vieira\"],[\"Erick Foga\\u00e7a\"],[\"Evelyn Lima\"],[\"Sra. Maria Luiza da Luz\"],[\"Ana Souza\"],[\"Srta. Sophia Martins\"],[\"Stephany Campos\"],[\"Daniel Costa\"],[\"Sr. Ant\\u00f4nio Freitas\"],[\"Milena Pinto\"],[\"Dra. B\\u00e1rbara Fernandes\"],[\"Maria Luiza Monteiro\"],[\"Dra. Maria Luiza Arag\\u00e3o\"],[\"Srta. Ana Luiza da Mota\"],[\"Ana Sophia Farias\"],[\"Dr. Gabriel Vieira\"],[\"Davi Lucca Nunes\"],[\"Maria Cec\\u00edlia Viana\"],[\"Cau\\u00e3 Ara\\u00fajo\"],[\"Guilherme Farias\"],[\"Noah Barbosa\"],[\"Marcelo Ribeiro\"],[\"Valentina Campos\"],[\"La\\u00eds Moura\"],[\"Luiz Henrique Rodrigues\"],[\"Marcela da Rocha\"],[\"Catarina Moura\"],[\"Dr. Levi da Luz\"],[\"Stephany Almeida\"],[\"Pedro Miguel Teixeira\"],[\"Caroline Costa\"],[\"Yago Teixeira\"],[\"Bruna Fernandes\"],[\"Miguel Ferreira\"],[\"Stella Azevedo\"],[\"Raul Carvalho\"],[\"Dra. Ana Vit\\u00f3ria Vieira\"],[\"Srta. Lav\\u00ednia da Paz\"],[\"Mariana Oliveira\"],[\"Maria Luiza da Rocha\"],[\"Sophie da Costa\"],[\"Giovanna Duarte\"],[\"Felipe Rocha\"]],\"hovertemplate\":\"Total gasto pelo cliente=%{x}<br>Idade=%{y}<br>Nome do cliente=%{customdata[0]}<extra></extra>\",\"legendgroup\":\"\",\"marker\":{\"color\":\"#00CC96\",\"symbol\":\"circle\"},\"mode\":\"markers\",\"name\":\"\",\"orientation\":\"v\",\"showlegend\":false,\"type\":\"scatter\",\"x\":[1367.65,745.7200000000003,803.6700000000002,1704.0100000000004,1570.2500000000002,367.16,1059.43,1020.9300000000003,1240.98,612.8000000000001,1007.28,487.73,1946.1600000000003,592.2700000000001,1223.7000000000003,1470.3400000000001,1700.1500000000003,56.379999999999995,1578.9800000000005,585.33,968.8400000000003,911.8500000000001,281.84000000000003,1339.7300000000002,282.03,1437.4500000000003,209.47999999999996,1006.2800000000002,840.9900000000002,404.50000000000006,1984.2599999999998,634.6300000000001,936.53,1076.76,549.98,1219.0200000000002,625.8499999999999,322.47,1185.1000000000004,1998.7800000000007,229.38000000000002,187.27999999999997,1030.1100000000001,364.92,341.99,1783.9200000000003,1130.28,597.7,1602.93,571.11,304.75,522.6700000000001,841.5000000000001,719.1300000000001,126.65,401.44000000000005,1369.2400000000002,376.53,1809.7200000000005,488.59000000000003,1068.23,1987.5900000000008,1274.22,1492.67,19.84,262.89,150.3,4.96,1186.48,22.92,1106.02,1402.8600000000001,355.6600000000001,1292.65,419.6700000000001,705.37,1824.2900000000004,398.34000000000003,1007.49,374.74,495.92,486.72,1458.8500000000001,1699.71,531.88,1230.69,625.4500000000002,819.6700000000001,58.94,1247.8000000000002,53.46,40.42,832.41,394.87,926.6000000000001,987.8900000000002,1120.21,568.33,481.52,339.9200000000001,1519.8000000000004,282.27000000000004,551.28,1418.8700000000001,1298.8200000000004,672.7400000000001,451.79,289.39,59.95,50.370000000000005,134.95,397.75000000000006,475.8300000000001,1309.2200000000003,1358.0300000000002,1016.0500000000003,406.59,845.7800000000002,1355.0200000000002,824.2600000000001,478.62,99.46,1106.95,265.36,522.5200000000001,249.12,245.82,975.7400000000001,678.45,794.1400000000002,748.37,1382.19,1387.0500000000002,586.4300000000001,90.0,135.0,97.99,439.5000000000001,167.18,610.62,3.99,358.85,673.79,1048.7900000000002,31.96,7.99,52.95,38.940000000000005,75.92,386.96000000000004,242.51999999999998,1092.71,324.59000000000003,47.97,67.88,83.94,20.1,657.4700000000001,1214.3000000000002,87.97,43.37,27.479999999999997,130.23,54.93000000000001,43.96,24.950000000000003,22.41,104.94999999999999,70.89,283.56,298.53000000000003,71.92,26.900000000000002,65.94999999999999,11.98,29.95,42.839999999999996,2.58,85.98,172.0,12.99,5.99,11.98,95.96,33.92],\"xaxis\":\"x\",\"y\":[64,48,71,32,33,23,48,71,20,68,29,24,46,67,43,70,69,45,70,51,71,51,47,32,70,58,72,57,25,38,60,18,27,58,57,20,48,68,41,59,71,44,62,49,28,40,68,68,63,47,21,61,32,34,51,40,27,73,69,26,66,34,36,67,56,20,39,40,62,70,49,26,20,53,27,40,31,71,38,66,48,61,63,63,42,44,51,69,33,43,61,47,62,39,25,35,29,59,54,24,38,69,55,48,40,38,41,69,27,68,67,73,36,42,62,47,32,70,44,38,23,22,21,36,34,33,59,24,61,27,60,55,53,73,60,34,62,27,29,47,61,46,23,62,25,59,69,37,46,70,20,60,67,65,70,42,62,30,72,27,39,34,39,32,26,67,19,49,52,67,52,57,48,37,65,66,28,70,19,63,47,27,54,63,53],\"yaxis\":\"y\"}],                        {\"legend\":{\"tracegroupgap\":0},\"margin\":{\"t\":60},\"template\":{\"data\":{\"bar\":[{\"error_x\":{\"color\":\"#2a3f5f\"},\"error_y\":{\"color\":\"#2a3f5f\"},\"marker\":{\"line\":{\"color\":\"#E5ECF6\",\"width\":0.5},\"pattern\":{\"fillmode\":\"overlay\",\"size\":10,\"solidity\":0.2}},\"type\":\"bar\"}],\"barpolar\":[{\"marker\":{\"line\":{\"color\":\"#E5ECF6\",\"width\":0.5},\"pattern\":{\"fillmode\":\"overlay\",\"size\":10,\"solidity\":0.2}},\"type\":\"barpolar\"}],\"carpet\":[{\"aaxis\":{\"endlinecolor\":\"#2a3f5f\",\"gridcolor\":\"white\",\"linecolor\":\"white\",\"minorgridcolor\":\"white\",\"startlinecolor\":\"#2a3f5f\"},\"baxis\":{\"endlinecolor\":\"#2a3f5f\",\"gridcolor\":\"white\",\"linecolor\":\"white\",\"minorgridcolor\":\"white\",\"startlinecolor\":\"#2a3f5f\"},\"type\":\"carpet\"}],\"choropleth\":[{\"colorbar\":{\"outlinewidth\":0,\"ticks\":\"\"},\"type\":\"choropleth\"}],\"contour\":[{\"colorbar\":{\"outlinewidth\":0,\"ticks\":\"\"},\"colorscale\":[[0.0,\"#0d0887\"],[0.1111111111111111,\"#46039f\"],[0.2222222222222222,\"#7201a8\"],[0.3333333333333333,\"#9c179e\"],[0.4444444444444444,\"#bd3786\"],[0.5555555555555556,\"#d8576b\"],[0.6666666666666666,\"#ed7953\"],[0.7777777777777778,\"#fb9f3a\"],[0.8888888888888888,\"#fdca26\"],[1.0,\"#f0f921\"]],\"type\":\"contour\"}],\"contourcarpet\":[{\"colorbar\":{\"outlinewidth\":0,\"ticks\":\"\"},\"type\":\"contourcarpet\"}],\"heatmap\":[{\"colorbar\":{\"outlinewidth\":0,\"ticks\":\"\"},\"colorscale\":[[0.0,\"#0d0887\"],[0.1111111111111111,\"#46039f\"],[0.2222222222222222,\"#7201a8\"],[0.3333333333333333,\"#9c179e\"],[0.4444444444444444,\"#bd3786\"],[0.5555555555555556,\"#d8576b\"],[0.6666666666666666,\"#ed7953\"],[0.7777777777777778,\"#fb9f3a\"],[0.8888888888888888,\"#fdca26\"],[1.0,\"#f0f921\"]],\"type\":\"heatmap\"}],\"heatmapgl\":[{\"colorbar\":{\"outlinewidth\":0,\"ticks\":\"\"},\"colorscale\":[[0.0,\"#0d0887\"],[0.1111111111111111,\"#46039f\"],[0.2222222222222222,\"#7201a8\"],[0.3333333333333333,\"#9c179e\"],[0.4444444444444444,\"#bd3786\"],[0.5555555555555556,\"#d8576b\"],[0.6666666666666666,\"#ed7953\"],[0.7777777777777778,\"#fb9f3a\"],[0.8888888888888888,\"#fdca26\"],[1.0,\"#f0f921\"]],\"type\":\"heatmapgl\"}],\"histogram\":[{\"marker\":{\"pattern\":{\"fillmode\":\"overlay\",\"size\":10,\"solidity\":0.2}},\"type\":\"histogram\"}],\"histogram2d\":[{\"colorbar\":{\"outlinewidth\":0,\"ticks\":\"\"},\"colorscale\":[[0.0,\"#0d0887\"],[0.1111111111111111,\"#46039f\"],[0.2222222222222222,\"#7201a8\"],[0.3333333333333333,\"#9c179e\"],[0.4444444444444444,\"#bd3786\"],[0.5555555555555556,\"#d8576b\"],[0.6666666666666666,\"#ed7953\"],[0.7777777777777778,\"#fb9f3a\"],[0.8888888888888888,\"#fdca26\"],[1.0,\"#f0f921\"]],\"type\":\"histogram2d\"}],\"histogram2dcontour\":[{\"colorbar\":{\"outlinewidth\":0,\"ticks\":\"\"},\"colorscale\":[[0.0,\"#0d0887\"],[0.1111111111111111,\"#46039f\"],[0.2222222222222222,\"#7201a8\"],[0.3333333333333333,\"#9c179e\"],[0.4444444444444444,\"#bd3786\"],[0.5555555555555556,\"#d8576b\"],[0.6666666666666666,\"#ed7953\"],[0.7777777777777778,\"#fb9f3a\"],[0.8888888888888888,\"#fdca26\"],[1.0,\"#f0f921\"]],\"type\":\"histogram2dcontour\"}],\"mesh3d\":[{\"colorbar\":{\"outlinewidth\":0,\"ticks\":\"\"},\"type\":\"mesh3d\"}],\"parcoords\":[{\"line\":{\"colorbar\":{\"outlinewidth\":0,\"ticks\":\"\"}},\"type\":\"parcoords\"}],\"pie\":[{\"automargin\":true,\"type\":\"pie\"}],\"scatter\":[{\"marker\":{\"colorbar\":{\"outlinewidth\":0,\"ticks\":\"\"}},\"type\":\"scatter\"}],\"scatter3d\":[{\"line\":{\"colorbar\":{\"outlinewidth\":0,\"ticks\":\"\"}},\"marker\":{\"colorbar\":{\"outlinewidth\":0,\"ticks\":\"\"}},\"type\":\"scatter3d\"}],\"scattercarpet\":[{\"marker\":{\"colorbar\":{\"outlinewidth\":0,\"ticks\":\"\"}},\"type\":\"scattercarpet\"}],\"scattergeo\":[{\"marker\":{\"colorbar\":{\"outlinewidth\":0,\"ticks\":\"\"}},\"type\":\"scattergeo\"}],\"scattergl\":[{\"marker\":{\"colorbar\":{\"outlinewidth\":0,\"ticks\":\"\"}},\"type\":\"scattergl\"}],\"scattermapbox\":[{\"marker\":{\"colorbar\":{\"outlinewidth\":0,\"ticks\":\"\"}},\"type\":\"scattermapbox\"}],\"scatterpolar\":[{\"marker\":{\"colorbar\":{\"outlinewidth\":0,\"ticks\":\"\"}},\"type\":\"scatterpolar\"}],\"scatterpolargl\":[{\"marker\":{\"colorbar\":{\"outlinewidth\":0,\"ticks\":\"\"}},\"type\":\"scatterpolargl\"}],\"scatterternary\":[{\"marker\":{\"colorbar\":{\"outlinewidth\":0,\"ticks\":\"\"}},\"type\":\"scatterternary\"}],\"surface\":[{\"colorbar\":{\"outlinewidth\":0,\"ticks\":\"\"},\"colorscale\":[[0.0,\"#0d0887\"],[0.1111111111111111,\"#46039f\"],[0.2222222222222222,\"#7201a8\"],[0.3333333333333333,\"#9c179e\"],[0.4444444444444444,\"#bd3786\"],[0.5555555555555556,\"#d8576b\"],[0.6666666666666666,\"#ed7953\"],[0.7777777777777778,\"#fb9f3a\"],[0.8888888888888888,\"#fdca26\"],[1.0,\"#f0f921\"]],\"type\":\"surface\"}],\"table\":[{\"cells\":{\"fill\":{\"color\":\"#EBF0F8\"},\"line\":{\"color\":\"white\"}},\"header\":{\"fill\":{\"color\":\"#C8D4E3\"},\"line\":{\"color\":\"white\"}},\"type\":\"table\"}]},\"layout\":{\"annotationdefaults\":{\"arrowcolor\":\"#2a3f5f\",\"arrowhead\":0,\"arrowwidth\":1},\"autotypenumbers\":\"strict\",\"coloraxis\":{\"colorbar\":{\"outlinewidth\":0,\"ticks\":\"\"}},\"colorscale\":{\"diverging\":[[0,\"#8e0152\"],[0.1,\"#c51b7d\"],[0.2,\"#de77ae\"],[0.3,\"#f1b6da\"],[0.4,\"#fde0ef\"],[0.5,\"#f7f7f7\"],[0.6,\"#e6f5d0\"],[0.7,\"#b8e186\"],[0.8,\"#7fbc41\"],[0.9,\"#4d9221\"],[1,\"#276419\"]],\"sequential\":[[0.0,\"#0d0887\"],[0.1111111111111111,\"#46039f\"],[0.2222222222222222,\"#7201a8\"],[0.3333333333333333,\"#9c179e\"],[0.4444444444444444,\"#bd3786\"],[0.5555555555555556,\"#d8576b\"],[0.6666666666666666,\"#ed7953\"],[0.7777777777777778,\"#fb9f3a\"],[0.8888888888888888,\"#fdca26\"],[1.0,\"#f0f921\"]],\"sequentialminus\":[[0.0,\"#0d0887\"],[0.1111111111111111,\"#46039f\"],[0.2222222222222222,\"#7201a8\"],[0.3333333333333333,\"#9c179e\"],[0.4444444444444444,\"#bd3786\"],[0.5555555555555556,\"#d8576b\"],[0.6666666666666666,\"#ed7953\"],[0.7777777777777778,\"#fb9f3a\"],[0.8888888888888888,\"#fdca26\"],[1.0,\"#f0f921\"]]},\"colorway\":[\"#636efa\",\"#EF553B\",\"#00cc96\",\"#ab63fa\",\"#FFA15A\",\"#19d3f3\",\"#FF6692\",\"#B6E880\",\"#FF97FF\",\"#FECB52\"],\"font\":{\"color\":\"#2a3f5f\"},\"geo\":{\"bgcolor\":\"white\",\"lakecolor\":\"white\",\"landcolor\":\"#E5ECF6\",\"showlakes\":true,\"showland\":true,\"subunitcolor\":\"white\"},\"hoverlabel\":{\"align\":\"left\"},\"hovermode\":\"closest\",\"mapbox\":{\"style\":\"light\"},\"paper_bgcolor\":\"white\",\"plot_bgcolor\":\"#E5ECF6\",\"polar\":{\"angularaxis\":{\"gridcolor\":\"white\",\"linecolor\":\"white\",\"ticks\":\"\"},\"bgcolor\":\"#E5ECF6\",\"radialaxis\":{\"gridcolor\":\"white\",\"linecolor\":\"white\",\"ticks\":\"\"}},\"scene\":{\"xaxis\":{\"backgroundcolor\":\"#E5ECF6\",\"gridcolor\":\"white\",\"gridwidth\":2,\"linecolor\":\"white\",\"showbackground\":true,\"ticks\":\"\",\"zerolinecolor\":\"white\"},\"yaxis\":{\"backgroundcolor\":\"#E5ECF6\",\"gridcolor\":\"white\",\"gridwidth\":2,\"linecolor\":\"white\",\"showbackground\":true,\"ticks\":\"\",\"zerolinecolor\":\"white\"},\"zaxis\":{\"backgroundcolor\":\"#E5ECF6\",\"gridcolor\":\"white\",\"gridwidth\":2,\"linecolor\":\"white\",\"showbackground\":true,\"ticks\":\"\",\"zerolinecolor\":\"white\"}},\"shapedefaults\":{\"line\":{\"color\":\"#2a3f5f\"}},\"ternary\":{\"aaxis\":{\"gridcolor\":\"white\",\"linecolor\":\"white\",\"ticks\":\"\"},\"baxis\":{\"gridcolor\":\"white\",\"linecolor\":\"white\",\"ticks\":\"\"},\"bgcolor\":\"#E5ECF6\",\"caxis\":{\"gridcolor\":\"white\",\"linecolor\":\"white\",\"ticks\":\"\"}},\"title\":{\"x\":0.05},\"xaxis\":{\"automargin\":true,\"gridcolor\":\"white\",\"linecolor\":\"white\",\"ticks\":\"\",\"title\":{\"standoff\":15},\"zerolinecolor\":\"white\",\"zerolinewidth\":2},\"yaxis\":{\"automargin\":true,\"gridcolor\":\"white\",\"linecolor\":\"white\",\"ticks\":\"\",\"title\":{\"standoff\":15},\"zerolinecolor\":\"white\",\"zerolinewidth\":2}}},\"title\":{\"text\":\"Gastos totais dos clientes X Idade\"},\"xaxis\":{\"anchor\":\"y\",\"domain\":[0.0,1.0],\"title\":{\"text\":\"Gastos totais dos clientes\"}},\"yaxis\":{\"anchor\":\"x\",\"domain\":[0.0,1.0],\"title\":{\"text\":\"Idade\"}}},                        {\"responsive\": true}                    ).then(function(){\n",
       "                            \n",
       "var gd = document.getElementById('206784aa-2721-4fb2-ac1d-6e752dabcd83');\n",
       "var x = new MutationObserver(function (mutations, observer) {{\n",
       "        var display = window.getComputedStyle(gd).display;\n",
       "        if (!display || display === 'none') {{\n",
       "            console.log([gd, 'removed!']);\n",
       "            Plotly.purge(gd);\n",
       "            observer.disconnect();\n",
       "        }}\n",
       "}});\n",
       "\n",
       "// Listen for the removal of the full notebook cells\n",
       "var notebookContainer = gd.closest('#notebook-container');\n",
       "if (notebookContainer) {{\n",
       "    x.observe(notebookContainer, {childList: true});\n",
       "}}\n",
       "\n",
       "// Listen for the clearing of the current output cell\n",
       "var outputEl = gd.closest('.output');\n",
       "if (outputEl) {{\n",
       "    x.observe(outputEl, {childList: true});\n",
       "}}\n",
       "\n",
       "                        })                };                });            </script>        </div>"
      ]
     },
     "metadata": {},
     "output_type": "display_data"
    }
   ],
   "source": [
    "#pltagem de um gráfico de disperção relacionado preço e estoque\n",
    "fig_gasto_idade=px.scatter(tabela_cliente_gasto_idade, x = \"total_mes\", y = \"idade\",hover_data=['nome_cliente'], labels={\"total_mes\": \"Total gasto pelo cliente\", \"idade\": \"Idade\", \"nome_cliente\":\"Nome do cliente\" })\n",
    "fig_gasto_idade.update_traces(marker = {'color': '#00CC96'})\n",
    "fig_gasto_idade.update_layout(title = 'Gastos totais dos clientes X Idade')\n",
    "fig_gasto_idade.update_xaxes(title = 'Gastos totais dos clientes')\n",
    "fig_gasto_idade.update_yaxes(title = 'Idade')\n",
    "fig_gasto_idade.show()"
   ]
  },
  {
   "cell_type": "code",
   "execution_count": 380,
   "id": "9d0163f7",
   "metadata": {},
   "outputs": [
    {
     "data": {
      "application/vnd.plotly.v1+json": {
       "config": {
        "plotlyServerURL": "https://plot.ly"
       },
       "data": [
        {
         "alignmentgroup": "True",
         "hovertemplate": "variable=%{x}<br>value=%{y}<extra></extra>",
         "legendgroup": "",
         "marker": {
          "color": "#00CC96"
         },
         "name": "",
         "notched": false,
         "offsetgroup": "",
         "orientation": "v",
         "showlegend": false,
         "type": "box",
         "x": [
          "idade",
          "idade",
          "idade",
          "idade",
          "idade",
          "idade",
          "idade",
          "idade",
          "idade",
          "idade",
          "idade",
          "idade",
          "idade",
          "idade",
          "idade",
          "idade",
          "idade",
          "idade",
          "idade",
          "idade",
          "idade",
          "idade",
          "idade",
          "idade",
          "idade",
          "idade",
          "idade",
          "idade",
          "idade",
          "idade",
          "idade",
          "idade",
          "idade",
          "idade",
          "idade",
          "idade",
          "idade",
          "idade",
          "idade",
          "idade",
          "idade",
          "idade",
          "idade",
          "idade",
          "idade",
          "idade",
          "idade",
          "idade",
          "idade",
          "idade",
          "idade",
          "idade",
          "idade",
          "idade",
          "idade",
          "idade",
          "idade",
          "idade",
          "idade",
          "idade",
          "idade",
          "idade",
          "idade",
          "idade",
          "idade",
          "idade",
          "idade",
          "idade",
          "idade",
          "idade",
          "idade",
          "idade",
          "idade",
          "idade",
          "idade",
          "idade",
          "idade",
          "idade",
          "idade",
          "idade",
          "idade",
          "idade",
          "idade",
          "idade",
          "idade",
          "idade",
          "idade",
          "idade",
          "idade",
          "idade",
          "idade",
          "idade",
          "idade",
          "idade",
          "idade",
          "idade",
          "idade",
          "idade",
          "idade",
          "idade",
          "idade",
          "idade",
          "idade",
          "idade",
          "idade",
          "idade",
          "idade",
          "idade",
          "idade",
          "idade",
          "idade",
          "idade",
          "idade",
          "idade",
          "idade",
          "idade",
          "idade",
          "idade",
          "idade",
          "idade",
          "idade",
          "idade",
          "idade",
          "idade",
          "idade",
          "idade",
          "idade",
          "idade",
          "idade",
          "idade",
          "idade",
          "idade",
          "idade",
          "idade",
          "idade",
          "idade",
          "idade",
          "idade",
          "idade",
          "idade",
          "idade",
          "idade",
          "idade",
          "idade",
          "idade",
          "idade",
          "idade",
          "idade",
          "idade",
          "idade",
          "idade",
          "idade",
          "idade",
          "idade",
          "idade",
          "idade",
          "idade",
          "idade",
          "idade",
          "idade",
          "idade",
          "idade",
          "idade",
          "idade",
          "idade",
          "idade",
          "idade",
          "idade",
          "idade",
          "idade",
          "idade",
          "idade",
          "idade",
          "idade",
          "idade",
          "idade",
          "idade",
          "idade",
          "idade",
          "idade",
          "idade",
          "idade",
          "idade",
          "idade",
          "idade"
         ],
         "x0": " ",
         "xaxis": "x",
         "y": [
          64,
          48,
          71,
          32,
          33,
          23,
          48,
          71,
          20,
          68,
          29,
          24,
          46,
          67,
          43,
          70,
          69,
          45,
          70,
          51,
          71,
          51,
          47,
          32,
          70,
          58,
          72,
          57,
          25,
          38,
          60,
          18,
          27,
          58,
          57,
          20,
          48,
          68,
          41,
          59,
          71,
          44,
          62,
          49,
          28,
          40,
          68,
          68,
          63,
          47,
          21,
          61,
          32,
          34,
          51,
          40,
          27,
          73,
          69,
          26,
          66,
          34,
          36,
          67,
          56,
          20,
          39,
          40,
          62,
          70,
          49,
          26,
          20,
          53,
          27,
          40,
          31,
          71,
          38,
          66,
          48,
          61,
          63,
          63,
          42,
          44,
          51,
          69,
          33,
          43,
          61,
          47,
          62,
          39,
          25,
          35,
          29,
          59,
          54,
          24,
          38,
          69,
          55,
          48,
          40,
          38,
          41,
          69,
          27,
          68,
          67,
          73,
          36,
          42,
          62,
          47,
          32,
          70,
          44,
          38,
          23,
          22,
          21,
          36,
          34,
          33,
          59,
          24,
          61,
          27,
          60,
          55,
          53,
          73,
          60,
          34,
          62,
          27,
          29,
          47,
          61,
          46,
          23,
          62,
          25,
          59,
          69,
          37,
          46,
          70,
          20,
          60,
          67,
          65,
          70,
          42,
          62,
          30,
          72,
          27,
          39,
          34,
          39,
          32,
          26,
          67,
          19,
          49,
          52,
          67,
          52,
          57,
          48,
          37,
          65,
          66,
          28,
          70,
          19,
          63,
          47,
          27,
          54,
          63,
          53
         ],
         "y0": " ",
         "yaxis": "y"
        }
       ],
       "layout": {
        "boxmode": "group",
        "legend": {
         "tracegroupgap": 0
        },
        "margin": {
         "t": 60
        },
        "template": {
         "data": {
          "bar": [
           {
            "error_x": {
             "color": "#2a3f5f"
            },
            "error_y": {
             "color": "#2a3f5f"
            },
            "marker": {
             "line": {
              "color": "#E5ECF6",
              "width": 0.5
             },
             "pattern": {
              "fillmode": "overlay",
              "size": 10,
              "solidity": 0.2
             }
            },
            "type": "bar"
           }
          ],
          "barpolar": [
           {
            "marker": {
             "line": {
              "color": "#E5ECF6",
              "width": 0.5
             },
             "pattern": {
              "fillmode": "overlay",
              "size": 10,
              "solidity": 0.2
             }
            },
            "type": "barpolar"
           }
          ],
          "carpet": [
           {
            "aaxis": {
             "endlinecolor": "#2a3f5f",
             "gridcolor": "white",
             "linecolor": "white",
             "minorgridcolor": "white",
             "startlinecolor": "#2a3f5f"
            },
            "baxis": {
             "endlinecolor": "#2a3f5f",
             "gridcolor": "white",
             "linecolor": "white",
             "minorgridcolor": "white",
             "startlinecolor": "#2a3f5f"
            },
            "type": "carpet"
           }
          ],
          "choropleth": [
           {
            "colorbar": {
             "outlinewidth": 0,
             "ticks": ""
            },
            "type": "choropleth"
           }
          ],
          "contour": [
           {
            "colorbar": {
             "outlinewidth": 0,
             "ticks": ""
            },
            "colorscale": [
             [
              0,
              "#0d0887"
             ],
             [
              0.1111111111111111,
              "#46039f"
             ],
             [
              0.2222222222222222,
              "#7201a8"
             ],
             [
              0.3333333333333333,
              "#9c179e"
             ],
             [
              0.4444444444444444,
              "#bd3786"
             ],
             [
              0.5555555555555556,
              "#d8576b"
             ],
             [
              0.6666666666666666,
              "#ed7953"
             ],
             [
              0.7777777777777778,
              "#fb9f3a"
             ],
             [
              0.8888888888888888,
              "#fdca26"
             ],
             [
              1,
              "#f0f921"
             ]
            ],
            "type": "contour"
           }
          ],
          "contourcarpet": [
           {
            "colorbar": {
             "outlinewidth": 0,
             "ticks": ""
            },
            "type": "contourcarpet"
           }
          ],
          "heatmap": [
           {
            "colorbar": {
             "outlinewidth": 0,
             "ticks": ""
            },
            "colorscale": [
             [
              0,
              "#0d0887"
             ],
             [
              0.1111111111111111,
              "#46039f"
             ],
             [
              0.2222222222222222,
              "#7201a8"
             ],
             [
              0.3333333333333333,
              "#9c179e"
             ],
             [
              0.4444444444444444,
              "#bd3786"
             ],
             [
              0.5555555555555556,
              "#d8576b"
             ],
             [
              0.6666666666666666,
              "#ed7953"
             ],
             [
              0.7777777777777778,
              "#fb9f3a"
             ],
             [
              0.8888888888888888,
              "#fdca26"
             ],
             [
              1,
              "#f0f921"
             ]
            ],
            "type": "heatmap"
           }
          ],
          "heatmapgl": [
           {
            "colorbar": {
             "outlinewidth": 0,
             "ticks": ""
            },
            "colorscale": [
             [
              0,
              "#0d0887"
             ],
             [
              0.1111111111111111,
              "#46039f"
             ],
             [
              0.2222222222222222,
              "#7201a8"
             ],
             [
              0.3333333333333333,
              "#9c179e"
             ],
             [
              0.4444444444444444,
              "#bd3786"
             ],
             [
              0.5555555555555556,
              "#d8576b"
             ],
             [
              0.6666666666666666,
              "#ed7953"
             ],
             [
              0.7777777777777778,
              "#fb9f3a"
             ],
             [
              0.8888888888888888,
              "#fdca26"
             ],
             [
              1,
              "#f0f921"
             ]
            ],
            "type": "heatmapgl"
           }
          ],
          "histogram": [
           {
            "marker": {
             "pattern": {
              "fillmode": "overlay",
              "size": 10,
              "solidity": 0.2
             }
            },
            "type": "histogram"
           }
          ],
          "histogram2d": [
           {
            "colorbar": {
             "outlinewidth": 0,
             "ticks": ""
            },
            "colorscale": [
             [
              0,
              "#0d0887"
             ],
             [
              0.1111111111111111,
              "#46039f"
             ],
             [
              0.2222222222222222,
              "#7201a8"
             ],
             [
              0.3333333333333333,
              "#9c179e"
             ],
             [
              0.4444444444444444,
              "#bd3786"
             ],
             [
              0.5555555555555556,
              "#d8576b"
             ],
             [
              0.6666666666666666,
              "#ed7953"
             ],
             [
              0.7777777777777778,
              "#fb9f3a"
             ],
             [
              0.8888888888888888,
              "#fdca26"
             ],
             [
              1,
              "#f0f921"
             ]
            ],
            "type": "histogram2d"
           }
          ],
          "histogram2dcontour": [
           {
            "colorbar": {
             "outlinewidth": 0,
             "ticks": ""
            },
            "colorscale": [
             [
              0,
              "#0d0887"
             ],
             [
              0.1111111111111111,
              "#46039f"
             ],
             [
              0.2222222222222222,
              "#7201a8"
             ],
             [
              0.3333333333333333,
              "#9c179e"
             ],
             [
              0.4444444444444444,
              "#bd3786"
             ],
             [
              0.5555555555555556,
              "#d8576b"
             ],
             [
              0.6666666666666666,
              "#ed7953"
             ],
             [
              0.7777777777777778,
              "#fb9f3a"
             ],
             [
              0.8888888888888888,
              "#fdca26"
             ],
             [
              1,
              "#f0f921"
             ]
            ],
            "type": "histogram2dcontour"
           }
          ],
          "mesh3d": [
           {
            "colorbar": {
             "outlinewidth": 0,
             "ticks": ""
            },
            "type": "mesh3d"
           }
          ],
          "parcoords": [
           {
            "line": {
             "colorbar": {
              "outlinewidth": 0,
              "ticks": ""
             }
            },
            "type": "parcoords"
           }
          ],
          "pie": [
           {
            "automargin": true,
            "type": "pie"
           }
          ],
          "scatter": [
           {
            "marker": {
             "colorbar": {
              "outlinewidth": 0,
              "ticks": ""
             }
            },
            "type": "scatter"
           }
          ],
          "scatter3d": [
           {
            "line": {
             "colorbar": {
              "outlinewidth": 0,
              "ticks": ""
             }
            },
            "marker": {
             "colorbar": {
              "outlinewidth": 0,
              "ticks": ""
             }
            },
            "type": "scatter3d"
           }
          ],
          "scattercarpet": [
           {
            "marker": {
             "colorbar": {
              "outlinewidth": 0,
              "ticks": ""
             }
            },
            "type": "scattercarpet"
           }
          ],
          "scattergeo": [
           {
            "marker": {
             "colorbar": {
              "outlinewidth": 0,
              "ticks": ""
             }
            },
            "type": "scattergeo"
           }
          ],
          "scattergl": [
           {
            "marker": {
             "colorbar": {
              "outlinewidth": 0,
              "ticks": ""
             }
            },
            "type": "scattergl"
           }
          ],
          "scattermapbox": [
           {
            "marker": {
             "colorbar": {
              "outlinewidth": 0,
              "ticks": ""
             }
            },
            "type": "scattermapbox"
           }
          ],
          "scatterpolar": [
           {
            "marker": {
             "colorbar": {
              "outlinewidth": 0,
              "ticks": ""
             }
            },
            "type": "scatterpolar"
           }
          ],
          "scatterpolargl": [
           {
            "marker": {
             "colorbar": {
              "outlinewidth": 0,
              "ticks": ""
             }
            },
            "type": "scatterpolargl"
           }
          ],
          "scatterternary": [
           {
            "marker": {
             "colorbar": {
              "outlinewidth": 0,
              "ticks": ""
             }
            },
            "type": "scatterternary"
           }
          ],
          "surface": [
           {
            "colorbar": {
             "outlinewidth": 0,
             "ticks": ""
            },
            "colorscale": [
             [
              0,
              "#0d0887"
             ],
             [
              0.1111111111111111,
              "#46039f"
             ],
             [
              0.2222222222222222,
              "#7201a8"
             ],
             [
              0.3333333333333333,
              "#9c179e"
             ],
             [
              0.4444444444444444,
              "#bd3786"
             ],
             [
              0.5555555555555556,
              "#d8576b"
             ],
             [
              0.6666666666666666,
              "#ed7953"
             ],
             [
              0.7777777777777778,
              "#fb9f3a"
             ],
             [
              0.8888888888888888,
              "#fdca26"
             ],
             [
              1,
              "#f0f921"
             ]
            ],
            "type": "surface"
           }
          ],
          "table": [
           {
            "cells": {
             "fill": {
              "color": "#EBF0F8"
             },
             "line": {
              "color": "white"
             }
            },
            "header": {
             "fill": {
              "color": "#C8D4E3"
             },
             "line": {
              "color": "white"
             }
            },
            "type": "table"
           }
          ]
         },
         "layout": {
          "annotationdefaults": {
           "arrowcolor": "#2a3f5f",
           "arrowhead": 0,
           "arrowwidth": 1
          },
          "autotypenumbers": "strict",
          "coloraxis": {
           "colorbar": {
            "outlinewidth": 0,
            "ticks": ""
           }
          },
          "colorscale": {
           "diverging": [
            [
             0,
             "#8e0152"
            ],
            [
             0.1,
             "#c51b7d"
            ],
            [
             0.2,
             "#de77ae"
            ],
            [
             0.3,
             "#f1b6da"
            ],
            [
             0.4,
             "#fde0ef"
            ],
            [
             0.5,
             "#f7f7f7"
            ],
            [
             0.6,
             "#e6f5d0"
            ],
            [
             0.7,
             "#b8e186"
            ],
            [
             0.8,
             "#7fbc41"
            ],
            [
             0.9,
             "#4d9221"
            ],
            [
             1,
             "#276419"
            ]
           ],
           "sequential": [
            [
             0,
             "#0d0887"
            ],
            [
             0.1111111111111111,
             "#46039f"
            ],
            [
             0.2222222222222222,
             "#7201a8"
            ],
            [
             0.3333333333333333,
             "#9c179e"
            ],
            [
             0.4444444444444444,
             "#bd3786"
            ],
            [
             0.5555555555555556,
             "#d8576b"
            ],
            [
             0.6666666666666666,
             "#ed7953"
            ],
            [
             0.7777777777777778,
             "#fb9f3a"
            ],
            [
             0.8888888888888888,
             "#fdca26"
            ],
            [
             1,
             "#f0f921"
            ]
           ],
           "sequentialminus": [
            [
             0,
             "#0d0887"
            ],
            [
             0.1111111111111111,
             "#46039f"
            ],
            [
             0.2222222222222222,
             "#7201a8"
            ],
            [
             0.3333333333333333,
             "#9c179e"
            ],
            [
             0.4444444444444444,
             "#bd3786"
            ],
            [
             0.5555555555555556,
             "#d8576b"
            ],
            [
             0.6666666666666666,
             "#ed7953"
            ],
            [
             0.7777777777777778,
             "#fb9f3a"
            ],
            [
             0.8888888888888888,
             "#fdca26"
            ],
            [
             1,
             "#f0f921"
            ]
           ]
          },
          "colorway": [
           "#636efa",
           "#EF553B",
           "#00cc96",
           "#ab63fa",
           "#FFA15A",
           "#19d3f3",
           "#FF6692",
           "#B6E880",
           "#FF97FF",
           "#FECB52"
          ],
          "font": {
           "color": "#2a3f5f"
          },
          "geo": {
           "bgcolor": "white",
           "lakecolor": "white",
           "landcolor": "#E5ECF6",
           "showlakes": true,
           "showland": true,
           "subunitcolor": "white"
          },
          "hoverlabel": {
           "align": "left"
          },
          "hovermode": "closest",
          "mapbox": {
           "style": "light"
          },
          "paper_bgcolor": "white",
          "plot_bgcolor": "#E5ECF6",
          "polar": {
           "angularaxis": {
            "gridcolor": "white",
            "linecolor": "white",
            "ticks": ""
           },
           "bgcolor": "#E5ECF6",
           "radialaxis": {
            "gridcolor": "white",
            "linecolor": "white",
            "ticks": ""
           }
          },
          "scene": {
           "xaxis": {
            "backgroundcolor": "#E5ECF6",
            "gridcolor": "white",
            "gridwidth": 2,
            "linecolor": "white",
            "showbackground": true,
            "ticks": "",
            "zerolinecolor": "white"
           },
           "yaxis": {
            "backgroundcolor": "#E5ECF6",
            "gridcolor": "white",
            "gridwidth": 2,
            "linecolor": "white",
            "showbackground": true,
            "ticks": "",
            "zerolinecolor": "white"
           },
           "zaxis": {
            "backgroundcolor": "#E5ECF6",
            "gridcolor": "white",
            "gridwidth": 2,
            "linecolor": "white",
            "showbackground": true,
            "ticks": "",
            "zerolinecolor": "white"
           }
          },
          "shapedefaults": {
           "line": {
            "color": "#2a3f5f"
           }
          },
          "ternary": {
           "aaxis": {
            "gridcolor": "white",
            "linecolor": "white",
            "ticks": ""
           },
           "baxis": {
            "gridcolor": "white",
            "linecolor": "white",
            "ticks": ""
           },
           "bgcolor": "#E5ECF6",
           "caxis": {
            "gridcolor": "white",
            "linecolor": "white",
            "ticks": ""
           }
          },
          "title": {
           "x": 0.05
          },
          "xaxis": {
           "automargin": true,
           "gridcolor": "white",
           "linecolor": "white",
           "ticks": "",
           "title": {
            "standoff": 15
           },
           "zerolinecolor": "white",
           "zerolinewidth": 2
          },
          "yaxis": {
           "automargin": true,
           "gridcolor": "white",
           "linecolor": "white",
           "ticks": "",
           "title": {
            "standoff": 15
           },
           "zerolinecolor": "white",
           "zerolinewidth": 2
          }
         }
        },
        "title": {
         "text": "Box plot - Idade dos clientes"
        },
        "xaxis": {
         "anchor": "y",
         "domain": [
          0,
          1
         ],
         "title": {
          "text": ""
         }
        },
        "yaxis": {
         "anchor": "x",
         "domain": [
          0,
          1
         ],
         "title": {
          "text": "Idade"
         }
        }
       }
      },
      "text/html": [
       "<div>                            <div id=\"a8b268fa-5263-4b79-9deb-d0206e6d2592\" class=\"plotly-graph-div\" style=\"height:525px; width:100%;\"></div>            <script type=\"text/javascript\">                require([\"plotly\"], function(Plotly) {                    window.PLOTLYENV=window.PLOTLYENV || {};                                    if (document.getElementById(\"a8b268fa-5263-4b79-9deb-d0206e6d2592\")) {                    Plotly.newPlot(                        \"a8b268fa-5263-4b79-9deb-d0206e6d2592\",                        [{\"alignmentgroup\":\"True\",\"hovertemplate\":\"variable=%{x}<br>value=%{y}<extra></extra>\",\"legendgroup\":\"\",\"marker\":{\"color\":\"#00CC96\"},\"name\":\"\",\"notched\":false,\"offsetgroup\":\"\",\"orientation\":\"v\",\"showlegend\":false,\"type\":\"box\",\"x\":[\"idade\",\"idade\",\"idade\",\"idade\",\"idade\",\"idade\",\"idade\",\"idade\",\"idade\",\"idade\",\"idade\",\"idade\",\"idade\",\"idade\",\"idade\",\"idade\",\"idade\",\"idade\",\"idade\",\"idade\",\"idade\",\"idade\",\"idade\",\"idade\",\"idade\",\"idade\",\"idade\",\"idade\",\"idade\",\"idade\",\"idade\",\"idade\",\"idade\",\"idade\",\"idade\",\"idade\",\"idade\",\"idade\",\"idade\",\"idade\",\"idade\",\"idade\",\"idade\",\"idade\",\"idade\",\"idade\",\"idade\",\"idade\",\"idade\",\"idade\",\"idade\",\"idade\",\"idade\",\"idade\",\"idade\",\"idade\",\"idade\",\"idade\",\"idade\",\"idade\",\"idade\",\"idade\",\"idade\",\"idade\",\"idade\",\"idade\",\"idade\",\"idade\",\"idade\",\"idade\",\"idade\",\"idade\",\"idade\",\"idade\",\"idade\",\"idade\",\"idade\",\"idade\",\"idade\",\"idade\",\"idade\",\"idade\",\"idade\",\"idade\",\"idade\",\"idade\",\"idade\",\"idade\",\"idade\",\"idade\",\"idade\",\"idade\",\"idade\",\"idade\",\"idade\",\"idade\",\"idade\",\"idade\",\"idade\",\"idade\",\"idade\",\"idade\",\"idade\",\"idade\",\"idade\",\"idade\",\"idade\",\"idade\",\"idade\",\"idade\",\"idade\",\"idade\",\"idade\",\"idade\",\"idade\",\"idade\",\"idade\",\"idade\",\"idade\",\"idade\",\"idade\",\"idade\",\"idade\",\"idade\",\"idade\",\"idade\",\"idade\",\"idade\",\"idade\",\"idade\",\"idade\",\"idade\",\"idade\",\"idade\",\"idade\",\"idade\",\"idade\",\"idade\",\"idade\",\"idade\",\"idade\",\"idade\",\"idade\",\"idade\",\"idade\",\"idade\",\"idade\",\"idade\",\"idade\",\"idade\",\"idade\",\"idade\",\"idade\",\"idade\",\"idade\",\"idade\",\"idade\",\"idade\",\"idade\",\"idade\",\"idade\",\"idade\",\"idade\",\"idade\",\"idade\",\"idade\",\"idade\",\"idade\",\"idade\",\"idade\",\"idade\",\"idade\",\"idade\",\"idade\",\"idade\",\"idade\",\"idade\",\"idade\",\"idade\",\"idade\",\"idade\",\"idade\",\"idade\",\"idade\",\"idade\"],\"x0\":\" \",\"xaxis\":\"x\",\"y\":[64,48,71,32,33,23,48,71,20,68,29,24,46,67,43,70,69,45,70,51,71,51,47,32,70,58,72,57,25,38,60,18,27,58,57,20,48,68,41,59,71,44,62,49,28,40,68,68,63,47,21,61,32,34,51,40,27,73,69,26,66,34,36,67,56,20,39,40,62,70,49,26,20,53,27,40,31,71,38,66,48,61,63,63,42,44,51,69,33,43,61,47,62,39,25,35,29,59,54,24,38,69,55,48,40,38,41,69,27,68,67,73,36,42,62,47,32,70,44,38,23,22,21,36,34,33,59,24,61,27,60,55,53,73,60,34,62,27,29,47,61,46,23,62,25,59,69,37,46,70,20,60,67,65,70,42,62,30,72,27,39,34,39,32,26,67,19,49,52,67,52,57,48,37,65,66,28,70,19,63,47,27,54,63,53],\"y0\":\" \",\"yaxis\":\"y\"}],                        {\"boxmode\":\"group\",\"legend\":{\"tracegroupgap\":0},\"margin\":{\"t\":60},\"template\":{\"data\":{\"bar\":[{\"error_x\":{\"color\":\"#2a3f5f\"},\"error_y\":{\"color\":\"#2a3f5f\"},\"marker\":{\"line\":{\"color\":\"#E5ECF6\",\"width\":0.5},\"pattern\":{\"fillmode\":\"overlay\",\"size\":10,\"solidity\":0.2}},\"type\":\"bar\"}],\"barpolar\":[{\"marker\":{\"line\":{\"color\":\"#E5ECF6\",\"width\":0.5},\"pattern\":{\"fillmode\":\"overlay\",\"size\":10,\"solidity\":0.2}},\"type\":\"barpolar\"}],\"carpet\":[{\"aaxis\":{\"endlinecolor\":\"#2a3f5f\",\"gridcolor\":\"white\",\"linecolor\":\"white\",\"minorgridcolor\":\"white\",\"startlinecolor\":\"#2a3f5f\"},\"baxis\":{\"endlinecolor\":\"#2a3f5f\",\"gridcolor\":\"white\",\"linecolor\":\"white\",\"minorgridcolor\":\"white\",\"startlinecolor\":\"#2a3f5f\"},\"type\":\"carpet\"}],\"choropleth\":[{\"colorbar\":{\"outlinewidth\":0,\"ticks\":\"\"},\"type\":\"choropleth\"}],\"contour\":[{\"colorbar\":{\"outlinewidth\":0,\"ticks\":\"\"},\"colorscale\":[[0.0,\"#0d0887\"],[0.1111111111111111,\"#46039f\"],[0.2222222222222222,\"#7201a8\"],[0.3333333333333333,\"#9c179e\"],[0.4444444444444444,\"#bd3786\"],[0.5555555555555556,\"#d8576b\"],[0.6666666666666666,\"#ed7953\"],[0.7777777777777778,\"#fb9f3a\"],[0.8888888888888888,\"#fdca26\"],[1.0,\"#f0f921\"]],\"type\":\"contour\"}],\"contourcarpet\":[{\"colorbar\":{\"outlinewidth\":0,\"ticks\":\"\"},\"type\":\"contourcarpet\"}],\"heatmap\":[{\"colorbar\":{\"outlinewidth\":0,\"ticks\":\"\"},\"colorscale\":[[0.0,\"#0d0887\"],[0.1111111111111111,\"#46039f\"],[0.2222222222222222,\"#7201a8\"],[0.3333333333333333,\"#9c179e\"],[0.4444444444444444,\"#bd3786\"],[0.5555555555555556,\"#d8576b\"],[0.6666666666666666,\"#ed7953\"],[0.7777777777777778,\"#fb9f3a\"],[0.8888888888888888,\"#fdca26\"],[1.0,\"#f0f921\"]],\"type\":\"heatmap\"}],\"heatmapgl\":[{\"colorbar\":{\"outlinewidth\":0,\"ticks\":\"\"},\"colorscale\":[[0.0,\"#0d0887\"],[0.1111111111111111,\"#46039f\"],[0.2222222222222222,\"#7201a8\"],[0.3333333333333333,\"#9c179e\"],[0.4444444444444444,\"#bd3786\"],[0.5555555555555556,\"#d8576b\"],[0.6666666666666666,\"#ed7953\"],[0.7777777777777778,\"#fb9f3a\"],[0.8888888888888888,\"#fdca26\"],[1.0,\"#f0f921\"]],\"type\":\"heatmapgl\"}],\"histogram\":[{\"marker\":{\"pattern\":{\"fillmode\":\"overlay\",\"size\":10,\"solidity\":0.2}},\"type\":\"histogram\"}],\"histogram2d\":[{\"colorbar\":{\"outlinewidth\":0,\"ticks\":\"\"},\"colorscale\":[[0.0,\"#0d0887\"],[0.1111111111111111,\"#46039f\"],[0.2222222222222222,\"#7201a8\"],[0.3333333333333333,\"#9c179e\"],[0.4444444444444444,\"#bd3786\"],[0.5555555555555556,\"#d8576b\"],[0.6666666666666666,\"#ed7953\"],[0.7777777777777778,\"#fb9f3a\"],[0.8888888888888888,\"#fdca26\"],[1.0,\"#f0f921\"]],\"type\":\"histogram2d\"}],\"histogram2dcontour\":[{\"colorbar\":{\"outlinewidth\":0,\"ticks\":\"\"},\"colorscale\":[[0.0,\"#0d0887\"],[0.1111111111111111,\"#46039f\"],[0.2222222222222222,\"#7201a8\"],[0.3333333333333333,\"#9c179e\"],[0.4444444444444444,\"#bd3786\"],[0.5555555555555556,\"#d8576b\"],[0.6666666666666666,\"#ed7953\"],[0.7777777777777778,\"#fb9f3a\"],[0.8888888888888888,\"#fdca26\"],[1.0,\"#f0f921\"]],\"type\":\"histogram2dcontour\"}],\"mesh3d\":[{\"colorbar\":{\"outlinewidth\":0,\"ticks\":\"\"},\"type\":\"mesh3d\"}],\"parcoords\":[{\"line\":{\"colorbar\":{\"outlinewidth\":0,\"ticks\":\"\"}},\"type\":\"parcoords\"}],\"pie\":[{\"automargin\":true,\"type\":\"pie\"}],\"scatter\":[{\"marker\":{\"colorbar\":{\"outlinewidth\":0,\"ticks\":\"\"}},\"type\":\"scatter\"}],\"scatter3d\":[{\"line\":{\"colorbar\":{\"outlinewidth\":0,\"ticks\":\"\"}},\"marker\":{\"colorbar\":{\"outlinewidth\":0,\"ticks\":\"\"}},\"type\":\"scatter3d\"}],\"scattercarpet\":[{\"marker\":{\"colorbar\":{\"outlinewidth\":0,\"ticks\":\"\"}},\"type\":\"scattercarpet\"}],\"scattergeo\":[{\"marker\":{\"colorbar\":{\"outlinewidth\":0,\"ticks\":\"\"}},\"type\":\"scattergeo\"}],\"scattergl\":[{\"marker\":{\"colorbar\":{\"outlinewidth\":0,\"ticks\":\"\"}},\"type\":\"scattergl\"}],\"scattermapbox\":[{\"marker\":{\"colorbar\":{\"outlinewidth\":0,\"ticks\":\"\"}},\"type\":\"scattermapbox\"}],\"scatterpolar\":[{\"marker\":{\"colorbar\":{\"outlinewidth\":0,\"ticks\":\"\"}},\"type\":\"scatterpolar\"}],\"scatterpolargl\":[{\"marker\":{\"colorbar\":{\"outlinewidth\":0,\"ticks\":\"\"}},\"type\":\"scatterpolargl\"}],\"scatterternary\":[{\"marker\":{\"colorbar\":{\"outlinewidth\":0,\"ticks\":\"\"}},\"type\":\"scatterternary\"}],\"surface\":[{\"colorbar\":{\"outlinewidth\":0,\"ticks\":\"\"},\"colorscale\":[[0.0,\"#0d0887\"],[0.1111111111111111,\"#46039f\"],[0.2222222222222222,\"#7201a8\"],[0.3333333333333333,\"#9c179e\"],[0.4444444444444444,\"#bd3786\"],[0.5555555555555556,\"#d8576b\"],[0.6666666666666666,\"#ed7953\"],[0.7777777777777778,\"#fb9f3a\"],[0.8888888888888888,\"#fdca26\"],[1.0,\"#f0f921\"]],\"type\":\"surface\"}],\"table\":[{\"cells\":{\"fill\":{\"color\":\"#EBF0F8\"},\"line\":{\"color\":\"white\"}},\"header\":{\"fill\":{\"color\":\"#C8D4E3\"},\"line\":{\"color\":\"white\"}},\"type\":\"table\"}]},\"layout\":{\"annotationdefaults\":{\"arrowcolor\":\"#2a3f5f\",\"arrowhead\":0,\"arrowwidth\":1},\"autotypenumbers\":\"strict\",\"coloraxis\":{\"colorbar\":{\"outlinewidth\":0,\"ticks\":\"\"}},\"colorscale\":{\"diverging\":[[0,\"#8e0152\"],[0.1,\"#c51b7d\"],[0.2,\"#de77ae\"],[0.3,\"#f1b6da\"],[0.4,\"#fde0ef\"],[0.5,\"#f7f7f7\"],[0.6,\"#e6f5d0\"],[0.7,\"#b8e186\"],[0.8,\"#7fbc41\"],[0.9,\"#4d9221\"],[1,\"#276419\"]],\"sequential\":[[0.0,\"#0d0887\"],[0.1111111111111111,\"#46039f\"],[0.2222222222222222,\"#7201a8\"],[0.3333333333333333,\"#9c179e\"],[0.4444444444444444,\"#bd3786\"],[0.5555555555555556,\"#d8576b\"],[0.6666666666666666,\"#ed7953\"],[0.7777777777777778,\"#fb9f3a\"],[0.8888888888888888,\"#fdca26\"],[1.0,\"#f0f921\"]],\"sequentialminus\":[[0.0,\"#0d0887\"],[0.1111111111111111,\"#46039f\"],[0.2222222222222222,\"#7201a8\"],[0.3333333333333333,\"#9c179e\"],[0.4444444444444444,\"#bd3786\"],[0.5555555555555556,\"#d8576b\"],[0.6666666666666666,\"#ed7953\"],[0.7777777777777778,\"#fb9f3a\"],[0.8888888888888888,\"#fdca26\"],[1.0,\"#f0f921\"]]},\"colorway\":[\"#636efa\",\"#EF553B\",\"#00cc96\",\"#ab63fa\",\"#FFA15A\",\"#19d3f3\",\"#FF6692\",\"#B6E880\",\"#FF97FF\",\"#FECB52\"],\"font\":{\"color\":\"#2a3f5f\"},\"geo\":{\"bgcolor\":\"white\",\"lakecolor\":\"white\",\"landcolor\":\"#E5ECF6\",\"showlakes\":true,\"showland\":true,\"subunitcolor\":\"white\"},\"hoverlabel\":{\"align\":\"left\"},\"hovermode\":\"closest\",\"mapbox\":{\"style\":\"light\"},\"paper_bgcolor\":\"white\",\"plot_bgcolor\":\"#E5ECF6\",\"polar\":{\"angularaxis\":{\"gridcolor\":\"white\",\"linecolor\":\"white\",\"ticks\":\"\"},\"bgcolor\":\"#E5ECF6\",\"radialaxis\":{\"gridcolor\":\"white\",\"linecolor\":\"white\",\"ticks\":\"\"}},\"scene\":{\"xaxis\":{\"backgroundcolor\":\"#E5ECF6\",\"gridcolor\":\"white\",\"gridwidth\":2,\"linecolor\":\"white\",\"showbackground\":true,\"ticks\":\"\",\"zerolinecolor\":\"white\"},\"yaxis\":{\"backgroundcolor\":\"#E5ECF6\",\"gridcolor\":\"white\",\"gridwidth\":2,\"linecolor\":\"white\",\"showbackground\":true,\"ticks\":\"\",\"zerolinecolor\":\"white\"},\"zaxis\":{\"backgroundcolor\":\"#E5ECF6\",\"gridcolor\":\"white\",\"gridwidth\":2,\"linecolor\":\"white\",\"showbackground\":true,\"ticks\":\"\",\"zerolinecolor\":\"white\"}},\"shapedefaults\":{\"line\":{\"color\":\"#2a3f5f\"}},\"ternary\":{\"aaxis\":{\"gridcolor\":\"white\",\"linecolor\":\"white\",\"ticks\":\"\"},\"baxis\":{\"gridcolor\":\"white\",\"linecolor\":\"white\",\"ticks\":\"\"},\"bgcolor\":\"#E5ECF6\",\"caxis\":{\"gridcolor\":\"white\",\"linecolor\":\"white\",\"ticks\":\"\"}},\"title\":{\"x\":0.05},\"xaxis\":{\"automargin\":true,\"gridcolor\":\"white\",\"linecolor\":\"white\",\"ticks\":\"\",\"title\":{\"standoff\":15},\"zerolinecolor\":\"white\",\"zerolinewidth\":2},\"yaxis\":{\"automargin\":true,\"gridcolor\":\"white\",\"linecolor\":\"white\",\"ticks\":\"\",\"title\":{\"standoff\":15},\"zerolinecolor\":\"white\",\"zerolinewidth\":2}}},\"title\":{\"text\":\"Box plot - Idade dos clientes\"},\"xaxis\":{\"anchor\":\"y\",\"domain\":[0.0,1.0],\"title\":{\"text\":\"\"}},\"yaxis\":{\"anchor\":\"x\",\"domain\":[0.0,1.0],\"title\":{\"text\":\"Idade\"}}},                        {\"responsive\": true}                    ).then(function(){\n",
       "                            \n",
       "var gd = document.getElementById('a8b268fa-5263-4b79-9deb-d0206e6d2592');\n",
       "var x = new MutationObserver(function (mutations, observer) {{\n",
       "        var display = window.getComputedStyle(gd).display;\n",
       "        if (!display || display === 'none') {{\n",
       "            console.log([gd, 'removed!']);\n",
       "            Plotly.purge(gd);\n",
       "            observer.disconnect();\n",
       "        }}\n",
       "}});\n",
       "\n",
       "// Listen for the removal of the full notebook cells\n",
       "var notebookContainer = gd.closest('#notebook-container');\n",
       "if (notebookContainer) {{\n",
       "    x.observe(notebookContainer, {childList: true});\n",
       "}}\n",
       "\n",
       "// Listen for the clearing of the current output cell\n",
       "var outputEl = gd.closest('.output');\n",
       "if (outputEl) {{\n",
       "    x.observe(outputEl, {childList: true});\n",
       "}}\n",
       "\n",
       "                        })                };                });            </script>        </div>"
      ]
     },
     "metadata": {},
     "output_type": "display_data"
    }
   ],
   "source": [
    "fig_box_plot_idade = px.box(tabela_cliente_gasto_idade[\"idade\"], labels={\"idade\": \"Idade\"}, )\n",
    "fig_box_plot_idade.update_traces(marker = {'color': '#00CC96'})\n",
    "fig_box_plot_idade.update_layout(title = 'Box plot - Idade dos clientes')\n",
    "fig_box_plot_idade.update_xaxes(title = '')\n",
    "fig_box_plot_idade.update_yaxes(title = 'Idade')\n",
    "fig_box_plot_idade.show()"
   ]
  },
  {
   "cell_type": "code",
   "execution_count": 382,
   "id": "26505ec3",
   "metadata": {},
   "outputs": [
    {
     "data": {
      "application/vnd.plotly.v1+json": {
       "config": {
        "plotlyServerURL": "https://plot.ly"
       },
       "data": [
        {
         "alignmentgroup": "True",
         "hovertemplate": "Idade=%{x}<br>Total gasto pelo cliente=%{y}<extra></extra>",
         "legendgroup": "",
         "marker": {
          "color": "#00CC96"
         },
         "name": "",
         "notched": false,
         "offsetgroup": "",
         "orientation": "v",
         "showlegend": false,
         "type": "box",
         "x": [
          64,
          48,
          71,
          32,
          33,
          23,
          48,
          71,
          20,
          68,
          29,
          24,
          46,
          67,
          43,
          70,
          69,
          45,
          70,
          51,
          71,
          51,
          47,
          32,
          70,
          58,
          72,
          57,
          25,
          38,
          60,
          18,
          27,
          58,
          57,
          20,
          48,
          68,
          41,
          59,
          71,
          44,
          62,
          49,
          28,
          40,
          68,
          68,
          63,
          47,
          21,
          61,
          32,
          34,
          51,
          40,
          27,
          73,
          69,
          26,
          66,
          34,
          36,
          67,
          56,
          20,
          39,
          40,
          62,
          70,
          49,
          26,
          20,
          53,
          27,
          40,
          31,
          71,
          38,
          66,
          48,
          61,
          63,
          63,
          42,
          44,
          51,
          69,
          33,
          43,
          61,
          47,
          62,
          39,
          25,
          35,
          29,
          59,
          54,
          24,
          38,
          69,
          55,
          48,
          40,
          38,
          41,
          69,
          27,
          68,
          67,
          73,
          36,
          42,
          62,
          47,
          32,
          70,
          44,
          38,
          23,
          22,
          21,
          36,
          34,
          33,
          59,
          24,
          61,
          27,
          60,
          55,
          53,
          73,
          60,
          34,
          62,
          27,
          29,
          47,
          61,
          46,
          23,
          62,
          25,
          59,
          69,
          37,
          46,
          70,
          20,
          60,
          67,
          65,
          70,
          42,
          62,
          30,
          72,
          27,
          39,
          34,
          39,
          32,
          26,
          67,
          19,
          49,
          52,
          67,
          52,
          57,
          48,
          37,
          65,
          66,
          28,
          70,
          19,
          63,
          47,
          27,
          54,
          63,
          53
         ],
         "x0": " ",
         "xaxis": "x",
         "y": [
          1367.65,
          745.7200000000003,
          803.6700000000002,
          1704.0100000000004,
          1570.2500000000002,
          367.16,
          1059.43,
          1020.9300000000003,
          1240.98,
          612.8000000000001,
          1007.28,
          487.73,
          1946.1600000000003,
          592.2700000000001,
          1223.7000000000003,
          1470.3400000000001,
          1700.1500000000003,
          56.379999999999995,
          1578.9800000000005,
          585.33,
          968.8400000000003,
          911.8500000000001,
          281.84000000000003,
          1339.7300000000002,
          282.03,
          1437.4500000000003,
          209.47999999999996,
          1006.2800000000002,
          840.9900000000002,
          404.50000000000006,
          1984.2599999999998,
          634.6300000000001,
          936.53,
          1076.76,
          549.98,
          1219.0200000000002,
          625.8499999999999,
          322.47,
          1185.1000000000004,
          1998.7800000000007,
          229.38000000000002,
          187.27999999999997,
          1030.1100000000001,
          364.92,
          341.99,
          1783.9200000000003,
          1130.28,
          597.7,
          1602.93,
          571.11,
          304.75,
          522.6700000000001,
          841.5000000000001,
          719.1300000000001,
          126.65,
          401.44000000000005,
          1369.2400000000002,
          376.53,
          1809.7200000000005,
          488.59000000000003,
          1068.23,
          1987.5900000000008,
          1274.22,
          1492.67,
          19.84,
          262.89,
          150.3,
          4.96,
          1186.48,
          22.92,
          1106.02,
          1402.8600000000001,
          355.6600000000001,
          1292.65,
          419.6700000000001,
          705.37,
          1824.2900000000004,
          398.34000000000003,
          1007.49,
          374.74,
          495.92,
          486.72,
          1458.8500000000001,
          1699.71,
          531.88,
          1230.69,
          625.4500000000002,
          819.6700000000001,
          58.94,
          1247.8000000000002,
          53.46,
          40.42,
          832.41,
          394.87,
          926.6000000000001,
          987.8900000000002,
          1120.21,
          568.33,
          481.52,
          339.9200000000001,
          1519.8000000000004,
          282.27000000000004,
          551.28,
          1418.8700000000001,
          1298.8200000000004,
          672.7400000000001,
          451.79,
          289.39,
          59.95,
          50.370000000000005,
          134.95,
          397.75000000000006,
          475.8300000000001,
          1309.2200000000003,
          1358.0300000000002,
          1016.0500000000003,
          406.59,
          845.7800000000002,
          1355.0200000000002,
          824.2600000000001,
          478.62,
          99.46,
          1106.95,
          265.36,
          522.5200000000001,
          249.12,
          245.82,
          975.7400000000001,
          678.45,
          794.1400000000002,
          748.37,
          1382.19,
          1387.0500000000002,
          586.4300000000001,
          90,
          135,
          97.99,
          439.5000000000001,
          167.18,
          610.62,
          3.99,
          358.85,
          673.79,
          1048.7900000000002,
          31.96,
          7.99,
          52.95,
          38.940000000000005,
          75.92,
          386.96000000000004,
          242.51999999999998,
          1092.71,
          324.59000000000003,
          47.97,
          67.88,
          83.94,
          20.1,
          657.4700000000001,
          1214.3000000000002,
          87.97,
          43.37,
          27.479999999999997,
          130.23,
          54.93000000000001,
          43.96,
          24.950000000000003,
          22.41,
          104.94999999999999,
          70.89,
          283.56,
          298.53000000000003,
          71.92,
          26.900000000000002,
          65.94999999999999,
          11.98,
          29.95,
          42.839999999999996,
          2.58,
          85.98,
          172,
          12.99,
          5.99,
          11.98,
          95.96,
          33.92
         ],
         "y0": " ",
         "yaxis": "y"
        }
       ],
       "layout": {
        "boxmode": "group",
        "legend": {
         "tracegroupgap": 0
        },
        "margin": {
         "t": 60
        },
        "template": {
         "data": {
          "bar": [
           {
            "error_x": {
             "color": "#2a3f5f"
            },
            "error_y": {
             "color": "#2a3f5f"
            },
            "marker": {
             "line": {
              "color": "#E5ECF6",
              "width": 0.5
             },
             "pattern": {
              "fillmode": "overlay",
              "size": 10,
              "solidity": 0.2
             }
            },
            "type": "bar"
           }
          ],
          "barpolar": [
           {
            "marker": {
             "line": {
              "color": "#E5ECF6",
              "width": 0.5
             },
             "pattern": {
              "fillmode": "overlay",
              "size": 10,
              "solidity": 0.2
             }
            },
            "type": "barpolar"
           }
          ],
          "carpet": [
           {
            "aaxis": {
             "endlinecolor": "#2a3f5f",
             "gridcolor": "white",
             "linecolor": "white",
             "minorgridcolor": "white",
             "startlinecolor": "#2a3f5f"
            },
            "baxis": {
             "endlinecolor": "#2a3f5f",
             "gridcolor": "white",
             "linecolor": "white",
             "minorgridcolor": "white",
             "startlinecolor": "#2a3f5f"
            },
            "type": "carpet"
           }
          ],
          "choropleth": [
           {
            "colorbar": {
             "outlinewidth": 0,
             "ticks": ""
            },
            "type": "choropleth"
           }
          ],
          "contour": [
           {
            "colorbar": {
             "outlinewidth": 0,
             "ticks": ""
            },
            "colorscale": [
             [
              0,
              "#0d0887"
             ],
             [
              0.1111111111111111,
              "#46039f"
             ],
             [
              0.2222222222222222,
              "#7201a8"
             ],
             [
              0.3333333333333333,
              "#9c179e"
             ],
             [
              0.4444444444444444,
              "#bd3786"
             ],
             [
              0.5555555555555556,
              "#d8576b"
             ],
             [
              0.6666666666666666,
              "#ed7953"
             ],
             [
              0.7777777777777778,
              "#fb9f3a"
             ],
             [
              0.8888888888888888,
              "#fdca26"
             ],
             [
              1,
              "#f0f921"
             ]
            ],
            "type": "contour"
           }
          ],
          "contourcarpet": [
           {
            "colorbar": {
             "outlinewidth": 0,
             "ticks": ""
            },
            "type": "contourcarpet"
           }
          ],
          "heatmap": [
           {
            "colorbar": {
             "outlinewidth": 0,
             "ticks": ""
            },
            "colorscale": [
             [
              0,
              "#0d0887"
             ],
             [
              0.1111111111111111,
              "#46039f"
             ],
             [
              0.2222222222222222,
              "#7201a8"
             ],
             [
              0.3333333333333333,
              "#9c179e"
             ],
             [
              0.4444444444444444,
              "#bd3786"
             ],
             [
              0.5555555555555556,
              "#d8576b"
             ],
             [
              0.6666666666666666,
              "#ed7953"
             ],
             [
              0.7777777777777778,
              "#fb9f3a"
             ],
             [
              0.8888888888888888,
              "#fdca26"
             ],
             [
              1,
              "#f0f921"
             ]
            ],
            "type": "heatmap"
           }
          ],
          "heatmapgl": [
           {
            "colorbar": {
             "outlinewidth": 0,
             "ticks": ""
            },
            "colorscale": [
             [
              0,
              "#0d0887"
             ],
             [
              0.1111111111111111,
              "#46039f"
             ],
             [
              0.2222222222222222,
              "#7201a8"
             ],
             [
              0.3333333333333333,
              "#9c179e"
             ],
             [
              0.4444444444444444,
              "#bd3786"
             ],
             [
              0.5555555555555556,
              "#d8576b"
             ],
             [
              0.6666666666666666,
              "#ed7953"
             ],
             [
              0.7777777777777778,
              "#fb9f3a"
             ],
             [
              0.8888888888888888,
              "#fdca26"
             ],
             [
              1,
              "#f0f921"
             ]
            ],
            "type": "heatmapgl"
           }
          ],
          "histogram": [
           {
            "marker": {
             "pattern": {
              "fillmode": "overlay",
              "size": 10,
              "solidity": 0.2
             }
            },
            "type": "histogram"
           }
          ],
          "histogram2d": [
           {
            "colorbar": {
             "outlinewidth": 0,
             "ticks": ""
            },
            "colorscale": [
             [
              0,
              "#0d0887"
             ],
             [
              0.1111111111111111,
              "#46039f"
             ],
             [
              0.2222222222222222,
              "#7201a8"
             ],
             [
              0.3333333333333333,
              "#9c179e"
             ],
             [
              0.4444444444444444,
              "#bd3786"
             ],
             [
              0.5555555555555556,
              "#d8576b"
             ],
             [
              0.6666666666666666,
              "#ed7953"
             ],
             [
              0.7777777777777778,
              "#fb9f3a"
             ],
             [
              0.8888888888888888,
              "#fdca26"
             ],
             [
              1,
              "#f0f921"
             ]
            ],
            "type": "histogram2d"
           }
          ],
          "histogram2dcontour": [
           {
            "colorbar": {
             "outlinewidth": 0,
             "ticks": ""
            },
            "colorscale": [
             [
              0,
              "#0d0887"
             ],
             [
              0.1111111111111111,
              "#46039f"
             ],
             [
              0.2222222222222222,
              "#7201a8"
             ],
             [
              0.3333333333333333,
              "#9c179e"
             ],
             [
              0.4444444444444444,
              "#bd3786"
             ],
             [
              0.5555555555555556,
              "#d8576b"
             ],
             [
              0.6666666666666666,
              "#ed7953"
             ],
             [
              0.7777777777777778,
              "#fb9f3a"
             ],
             [
              0.8888888888888888,
              "#fdca26"
             ],
             [
              1,
              "#f0f921"
             ]
            ],
            "type": "histogram2dcontour"
           }
          ],
          "mesh3d": [
           {
            "colorbar": {
             "outlinewidth": 0,
             "ticks": ""
            },
            "type": "mesh3d"
           }
          ],
          "parcoords": [
           {
            "line": {
             "colorbar": {
              "outlinewidth": 0,
              "ticks": ""
             }
            },
            "type": "parcoords"
           }
          ],
          "pie": [
           {
            "automargin": true,
            "type": "pie"
           }
          ],
          "scatter": [
           {
            "marker": {
             "colorbar": {
              "outlinewidth": 0,
              "ticks": ""
             }
            },
            "type": "scatter"
           }
          ],
          "scatter3d": [
           {
            "line": {
             "colorbar": {
              "outlinewidth": 0,
              "ticks": ""
             }
            },
            "marker": {
             "colorbar": {
              "outlinewidth": 0,
              "ticks": ""
             }
            },
            "type": "scatter3d"
           }
          ],
          "scattercarpet": [
           {
            "marker": {
             "colorbar": {
              "outlinewidth": 0,
              "ticks": ""
             }
            },
            "type": "scattercarpet"
           }
          ],
          "scattergeo": [
           {
            "marker": {
             "colorbar": {
              "outlinewidth": 0,
              "ticks": ""
             }
            },
            "type": "scattergeo"
           }
          ],
          "scattergl": [
           {
            "marker": {
             "colorbar": {
              "outlinewidth": 0,
              "ticks": ""
             }
            },
            "type": "scattergl"
           }
          ],
          "scattermapbox": [
           {
            "marker": {
             "colorbar": {
              "outlinewidth": 0,
              "ticks": ""
             }
            },
            "type": "scattermapbox"
           }
          ],
          "scatterpolar": [
           {
            "marker": {
             "colorbar": {
              "outlinewidth": 0,
              "ticks": ""
             }
            },
            "type": "scatterpolar"
           }
          ],
          "scatterpolargl": [
           {
            "marker": {
             "colorbar": {
              "outlinewidth": 0,
              "ticks": ""
             }
            },
            "type": "scatterpolargl"
           }
          ],
          "scatterternary": [
           {
            "marker": {
             "colorbar": {
              "outlinewidth": 0,
              "ticks": ""
             }
            },
            "type": "scatterternary"
           }
          ],
          "surface": [
           {
            "colorbar": {
             "outlinewidth": 0,
             "ticks": ""
            },
            "colorscale": [
             [
              0,
              "#0d0887"
             ],
             [
              0.1111111111111111,
              "#46039f"
             ],
             [
              0.2222222222222222,
              "#7201a8"
             ],
             [
              0.3333333333333333,
              "#9c179e"
             ],
             [
              0.4444444444444444,
              "#bd3786"
             ],
             [
              0.5555555555555556,
              "#d8576b"
             ],
             [
              0.6666666666666666,
              "#ed7953"
             ],
             [
              0.7777777777777778,
              "#fb9f3a"
             ],
             [
              0.8888888888888888,
              "#fdca26"
             ],
             [
              1,
              "#f0f921"
             ]
            ],
            "type": "surface"
           }
          ],
          "table": [
           {
            "cells": {
             "fill": {
              "color": "#EBF0F8"
             },
             "line": {
              "color": "white"
             }
            },
            "header": {
             "fill": {
              "color": "#C8D4E3"
             },
             "line": {
              "color": "white"
             }
            },
            "type": "table"
           }
          ]
         },
         "layout": {
          "annotationdefaults": {
           "arrowcolor": "#2a3f5f",
           "arrowhead": 0,
           "arrowwidth": 1
          },
          "autotypenumbers": "strict",
          "coloraxis": {
           "colorbar": {
            "outlinewidth": 0,
            "ticks": ""
           }
          },
          "colorscale": {
           "diverging": [
            [
             0,
             "#8e0152"
            ],
            [
             0.1,
             "#c51b7d"
            ],
            [
             0.2,
             "#de77ae"
            ],
            [
             0.3,
             "#f1b6da"
            ],
            [
             0.4,
             "#fde0ef"
            ],
            [
             0.5,
             "#f7f7f7"
            ],
            [
             0.6,
             "#e6f5d0"
            ],
            [
             0.7,
             "#b8e186"
            ],
            [
             0.8,
             "#7fbc41"
            ],
            [
             0.9,
             "#4d9221"
            ],
            [
             1,
             "#276419"
            ]
           ],
           "sequential": [
            [
             0,
             "#0d0887"
            ],
            [
             0.1111111111111111,
             "#46039f"
            ],
            [
             0.2222222222222222,
             "#7201a8"
            ],
            [
             0.3333333333333333,
             "#9c179e"
            ],
            [
             0.4444444444444444,
             "#bd3786"
            ],
            [
             0.5555555555555556,
             "#d8576b"
            ],
            [
             0.6666666666666666,
             "#ed7953"
            ],
            [
             0.7777777777777778,
             "#fb9f3a"
            ],
            [
             0.8888888888888888,
             "#fdca26"
            ],
            [
             1,
             "#f0f921"
            ]
           ],
           "sequentialminus": [
            [
             0,
             "#0d0887"
            ],
            [
             0.1111111111111111,
             "#46039f"
            ],
            [
             0.2222222222222222,
             "#7201a8"
            ],
            [
             0.3333333333333333,
             "#9c179e"
            ],
            [
             0.4444444444444444,
             "#bd3786"
            ],
            [
             0.5555555555555556,
             "#d8576b"
            ],
            [
             0.6666666666666666,
             "#ed7953"
            ],
            [
             0.7777777777777778,
             "#fb9f3a"
            ],
            [
             0.8888888888888888,
             "#fdca26"
            ],
            [
             1,
             "#f0f921"
            ]
           ]
          },
          "colorway": [
           "#636efa",
           "#EF553B",
           "#00cc96",
           "#ab63fa",
           "#FFA15A",
           "#19d3f3",
           "#FF6692",
           "#B6E880",
           "#FF97FF",
           "#FECB52"
          ],
          "font": {
           "color": "#2a3f5f"
          },
          "geo": {
           "bgcolor": "white",
           "lakecolor": "white",
           "landcolor": "#E5ECF6",
           "showlakes": true,
           "showland": true,
           "subunitcolor": "white"
          },
          "hoverlabel": {
           "align": "left"
          },
          "hovermode": "closest",
          "mapbox": {
           "style": "light"
          },
          "paper_bgcolor": "white",
          "plot_bgcolor": "#E5ECF6",
          "polar": {
           "angularaxis": {
            "gridcolor": "white",
            "linecolor": "white",
            "ticks": ""
           },
           "bgcolor": "#E5ECF6",
           "radialaxis": {
            "gridcolor": "white",
            "linecolor": "white",
            "ticks": ""
           }
          },
          "scene": {
           "xaxis": {
            "backgroundcolor": "#E5ECF6",
            "gridcolor": "white",
            "gridwidth": 2,
            "linecolor": "white",
            "showbackground": true,
            "ticks": "",
            "zerolinecolor": "white"
           },
           "yaxis": {
            "backgroundcolor": "#E5ECF6",
            "gridcolor": "white",
            "gridwidth": 2,
            "linecolor": "white",
            "showbackground": true,
            "ticks": "",
            "zerolinecolor": "white"
           },
           "zaxis": {
            "backgroundcolor": "#E5ECF6",
            "gridcolor": "white",
            "gridwidth": 2,
            "linecolor": "white",
            "showbackground": true,
            "ticks": "",
            "zerolinecolor": "white"
           }
          },
          "shapedefaults": {
           "line": {
            "color": "#2a3f5f"
           }
          },
          "ternary": {
           "aaxis": {
            "gridcolor": "white",
            "linecolor": "white",
            "ticks": ""
           },
           "baxis": {
            "gridcolor": "white",
            "linecolor": "white",
            "ticks": ""
           },
           "bgcolor": "#E5ECF6",
           "caxis": {
            "gridcolor": "white",
            "linecolor": "white",
            "ticks": ""
           }
          },
          "title": {
           "x": 0.05
          },
          "xaxis": {
           "automargin": true,
           "gridcolor": "white",
           "linecolor": "white",
           "ticks": "",
           "title": {
            "standoff": 15
           },
           "zerolinecolor": "white",
           "zerolinewidth": 2
          },
          "yaxis": {
           "automargin": true,
           "gridcolor": "white",
           "linecolor": "white",
           "ticks": "",
           "title": {
            "standoff": 15
           },
           "zerolinecolor": "white",
           "zerolinewidth": 2
          }
         }
        },
        "title": {
         "text": "Box plot - Idade dos clientes"
        },
        "xaxis": {
         "anchor": "y",
         "domain": [
          0,
          1
         ],
         "title": {
          "text": ""
         }
        },
        "yaxis": {
         "anchor": "x",
         "domain": [
          0,
          1
         ],
         "title": {
          "text": "Idade"
         }
        }
       }
      },
      "text/html": [
       "<div>                            <div id=\"afff3353-7604-4e0b-9d45-bec216c5e704\" class=\"plotly-graph-div\" style=\"height:525px; width:100%;\"></div>            <script type=\"text/javascript\">                require([\"plotly\"], function(Plotly) {                    window.PLOTLYENV=window.PLOTLYENV || {};                                    if (document.getElementById(\"afff3353-7604-4e0b-9d45-bec216c5e704\")) {                    Plotly.newPlot(                        \"afff3353-7604-4e0b-9d45-bec216c5e704\",                        [{\"alignmentgroup\":\"True\",\"hovertemplate\":\"Idade=%{x}<br>Total gasto pelo cliente=%{y}<extra></extra>\",\"legendgroup\":\"\",\"marker\":{\"color\":\"#00CC96\"},\"name\":\"\",\"notched\":false,\"offsetgroup\":\"\",\"orientation\":\"v\",\"showlegend\":false,\"type\":\"box\",\"x\":[64,48,71,32,33,23,48,71,20,68,29,24,46,67,43,70,69,45,70,51,71,51,47,32,70,58,72,57,25,38,60,18,27,58,57,20,48,68,41,59,71,44,62,49,28,40,68,68,63,47,21,61,32,34,51,40,27,73,69,26,66,34,36,67,56,20,39,40,62,70,49,26,20,53,27,40,31,71,38,66,48,61,63,63,42,44,51,69,33,43,61,47,62,39,25,35,29,59,54,24,38,69,55,48,40,38,41,69,27,68,67,73,36,42,62,47,32,70,44,38,23,22,21,36,34,33,59,24,61,27,60,55,53,73,60,34,62,27,29,47,61,46,23,62,25,59,69,37,46,70,20,60,67,65,70,42,62,30,72,27,39,34,39,32,26,67,19,49,52,67,52,57,48,37,65,66,28,70,19,63,47,27,54,63,53],\"x0\":\" \",\"xaxis\":\"x\",\"y\":[1367.65,745.7200000000003,803.6700000000002,1704.0100000000004,1570.2500000000002,367.16,1059.43,1020.9300000000003,1240.98,612.8000000000001,1007.28,487.73,1946.1600000000003,592.2700000000001,1223.7000000000003,1470.3400000000001,1700.1500000000003,56.379999999999995,1578.9800000000005,585.33,968.8400000000003,911.8500000000001,281.84000000000003,1339.7300000000002,282.03,1437.4500000000003,209.47999999999996,1006.2800000000002,840.9900000000002,404.50000000000006,1984.2599999999998,634.6300000000001,936.53,1076.76,549.98,1219.0200000000002,625.8499999999999,322.47,1185.1000000000004,1998.7800000000007,229.38000000000002,187.27999999999997,1030.1100000000001,364.92,341.99,1783.9200000000003,1130.28,597.7,1602.93,571.11,304.75,522.6700000000001,841.5000000000001,719.1300000000001,126.65,401.44000000000005,1369.2400000000002,376.53,1809.7200000000005,488.59000000000003,1068.23,1987.5900000000008,1274.22,1492.67,19.84,262.89,150.3,4.96,1186.48,22.92,1106.02,1402.8600000000001,355.6600000000001,1292.65,419.6700000000001,705.37,1824.2900000000004,398.34000000000003,1007.49,374.74,495.92,486.72,1458.8500000000001,1699.71,531.88,1230.69,625.4500000000002,819.6700000000001,58.94,1247.8000000000002,53.46,40.42,832.41,394.87,926.6000000000001,987.8900000000002,1120.21,568.33,481.52,339.9200000000001,1519.8000000000004,282.27000000000004,551.28,1418.8700000000001,1298.8200000000004,672.7400000000001,451.79,289.39,59.95,50.370000000000005,134.95,397.75000000000006,475.8300000000001,1309.2200000000003,1358.0300000000002,1016.0500000000003,406.59,845.7800000000002,1355.0200000000002,824.2600000000001,478.62,99.46,1106.95,265.36,522.5200000000001,249.12,245.82,975.7400000000001,678.45,794.1400000000002,748.37,1382.19,1387.0500000000002,586.4300000000001,90.0,135.0,97.99,439.5000000000001,167.18,610.62,3.99,358.85,673.79,1048.7900000000002,31.96,7.99,52.95,38.940000000000005,75.92,386.96000000000004,242.51999999999998,1092.71,324.59000000000003,47.97,67.88,83.94,20.1,657.4700000000001,1214.3000000000002,87.97,43.37,27.479999999999997,130.23,54.93000000000001,43.96,24.950000000000003,22.41,104.94999999999999,70.89,283.56,298.53000000000003,71.92,26.900000000000002,65.94999999999999,11.98,29.95,42.839999999999996,2.58,85.98,172.0,12.99,5.99,11.98,95.96,33.92],\"y0\":\" \",\"yaxis\":\"y\"}],                        {\"boxmode\":\"group\",\"legend\":{\"tracegroupgap\":0},\"margin\":{\"t\":60},\"template\":{\"data\":{\"bar\":[{\"error_x\":{\"color\":\"#2a3f5f\"},\"error_y\":{\"color\":\"#2a3f5f\"},\"marker\":{\"line\":{\"color\":\"#E5ECF6\",\"width\":0.5},\"pattern\":{\"fillmode\":\"overlay\",\"size\":10,\"solidity\":0.2}},\"type\":\"bar\"}],\"barpolar\":[{\"marker\":{\"line\":{\"color\":\"#E5ECF6\",\"width\":0.5},\"pattern\":{\"fillmode\":\"overlay\",\"size\":10,\"solidity\":0.2}},\"type\":\"barpolar\"}],\"carpet\":[{\"aaxis\":{\"endlinecolor\":\"#2a3f5f\",\"gridcolor\":\"white\",\"linecolor\":\"white\",\"minorgridcolor\":\"white\",\"startlinecolor\":\"#2a3f5f\"},\"baxis\":{\"endlinecolor\":\"#2a3f5f\",\"gridcolor\":\"white\",\"linecolor\":\"white\",\"minorgridcolor\":\"white\",\"startlinecolor\":\"#2a3f5f\"},\"type\":\"carpet\"}],\"choropleth\":[{\"colorbar\":{\"outlinewidth\":0,\"ticks\":\"\"},\"type\":\"choropleth\"}],\"contour\":[{\"colorbar\":{\"outlinewidth\":0,\"ticks\":\"\"},\"colorscale\":[[0.0,\"#0d0887\"],[0.1111111111111111,\"#46039f\"],[0.2222222222222222,\"#7201a8\"],[0.3333333333333333,\"#9c179e\"],[0.4444444444444444,\"#bd3786\"],[0.5555555555555556,\"#d8576b\"],[0.6666666666666666,\"#ed7953\"],[0.7777777777777778,\"#fb9f3a\"],[0.8888888888888888,\"#fdca26\"],[1.0,\"#f0f921\"]],\"type\":\"contour\"}],\"contourcarpet\":[{\"colorbar\":{\"outlinewidth\":0,\"ticks\":\"\"},\"type\":\"contourcarpet\"}],\"heatmap\":[{\"colorbar\":{\"outlinewidth\":0,\"ticks\":\"\"},\"colorscale\":[[0.0,\"#0d0887\"],[0.1111111111111111,\"#46039f\"],[0.2222222222222222,\"#7201a8\"],[0.3333333333333333,\"#9c179e\"],[0.4444444444444444,\"#bd3786\"],[0.5555555555555556,\"#d8576b\"],[0.6666666666666666,\"#ed7953\"],[0.7777777777777778,\"#fb9f3a\"],[0.8888888888888888,\"#fdca26\"],[1.0,\"#f0f921\"]],\"type\":\"heatmap\"}],\"heatmapgl\":[{\"colorbar\":{\"outlinewidth\":0,\"ticks\":\"\"},\"colorscale\":[[0.0,\"#0d0887\"],[0.1111111111111111,\"#46039f\"],[0.2222222222222222,\"#7201a8\"],[0.3333333333333333,\"#9c179e\"],[0.4444444444444444,\"#bd3786\"],[0.5555555555555556,\"#d8576b\"],[0.6666666666666666,\"#ed7953\"],[0.7777777777777778,\"#fb9f3a\"],[0.8888888888888888,\"#fdca26\"],[1.0,\"#f0f921\"]],\"type\":\"heatmapgl\"}],\"histogram\":[{\"marker\":{\"pattern\":{\"fillmode\":\"overlay\",\"size\":10,\"solidity\":0.2}},\"type\":\"histogram\"}],\"histogram2d\":[{\"colorbar\":{\"outlinewidth\":0,\"ticks\":\"\"},\"colorscale\":[[0.0,\"#0d0887\"],[0.1111111111111111,\"#46039f\"],[0.2222222222222222,\"#7201a8\"],[0.3333333333333333,\"#9c179e\"],[0.4444444444444444,\"#bd3786\"],[0.5555555555555556,\"#d8576b\"],[0.6666666666666666,\"#ed7953\"],[0.7777777777777778,\"#fb9f3a\"],[0.8888888888888888,\"#fdca26\"],[1.0,\"#f0f921\"]],\"type\":\"histogram2d\"}],\"histogram2dcontour\":[{\"colorbar\":{\"outlinewidth\":0,\"ticks\":\"\"},\"colorscale\":[[0.0,\"#0d0887\"],[0.1111111111111111,\"#46039f\"],[0.2222222222222222,\"#7201a8\"],[0.3333333333333333,\"#9c179e\"],[0.4444444444444444,\"#bd3786\"],[0.5555555555555556,\"#d8576b\"],[0.6666666666666666,\"#ed7953\"],[0.7777777777777778,\"#fb9f3a\"],[0.8888888888888888,\"#fdca26\"],[1.0,\"#f0f921\"]],\"type\":\"histogram2dcontour\"}],\"mesh3d\":[{\"colorbar\":{\"outlinewidth\":0,\"ticks\":\"\"},\"type\":\"mesh3d\"}],\"parcoords\":[{\"line\":{\"colorbar\":{\"outlinewidth\":0,\"ticks\":\"\"}},\"type\":\"parcoords\"}],\"pie\":[{\"automargin\":true,\"type\":\"pie\"}],\"scatter\":[{\"marker\":{\"colorbar\":{\"outlinewidth\":0,\"ticks\":\"\"}},\"type\":\"scatter\"}],\"scatter3d\":[{\"line\":{\"colorbar\":{\"outlinewidth\":0,\"ticks\":\"\"}},\"marker\":{\"colorbar\":{\"outlinewidth\":0,\"ticks\":\"\"}},\"type\":\"scatter3d\"}],\"scattercarpet\":[{\"marker\":{\"colorbar\":{\"outlinewidth\":0,\"ticks\":\"\"}},\"type\":\"scattercarpet\"}],\"scattergeo\":[{\"marker\":{\"colorbar\":{\"outlinewidth\":0,\"ticks\":\"\"}},\"type\":\"scattergeo\"}],\"scattergl\":[{\"marker\":{\"colorbar\":{\"outlinewidth\":0,\"ticks\":\"\"}},\"type\":\"scattergl\"}],\"scattermapbox\":[{\"marker\":{\"colorbar\":{\"outlinewidth\":0,\"ticks\":\"\"}},\"type\":\"scattermapbox\"}],\"scatterpolar\":[{\"marker\":{\"colorbar\":{\"outlinewidth\":0,\"ticks\":\"\"}},\"type\":\"scatterpolar\"}],\"scatterpolargl\":[{\"marker\":{\"colorbar\":{\"outlinewidth\":0,\"ticks\":\"\"}},\"type\":\"scatterpolargl\"}],\"scatterternary\":[{\"marker\":{\"colorbar\":{\"outlinewidth\":0,\"ticks\":\"\"}},\"type\":\"scatterternary\"}],\"surface\":[{\"colorbar\":{\"outlinewidth\":0,\"ticks\":\"\"},\"colorscale\":[[0.0,\"#0d0887\"],[0.1111111111111111,\"#46039f\"],[0.2222222222222222,\"#7201a8\"],[0.3333333333333333,\"#9c179e\"],[0.4444444444444444,\"#bd3786\"],[0.5555555555555556,\"#d8576b\"],[0.6666666666666666,\"#ed7953\"],[0.7777777777777778,\"#fb9f3a\"],[0.8888888888888888,\"#fdca26\"],[1.0,\"#f0f921\"]],\"type\":\"surface\"}],\"table\":[{\"cells\":{\"fill\":{\"color\":\"#EBF0F8\"},\"line\":{\"color\":\"white\"}},\"header\":{\"fill\":{\"color\":\"#C8D4E3\"},\"line\":{\"color\":\"white\"}},\"type\":\"table\"}]},\"layout\":{\"annotationdefaults\":{\"arrowcolor\":\"#2a3f5f\",\"arrowhead\":0,\"arrowwidth\":1},\"autotypenumbers\":\"strict\",\"coloraxis\":{\"colorbar\":{\"outlinewidth\":0,\"ticks\":\"\"}},\"colorscale\":{\"diverging\":[[0,\"#8e0152\"],[0.1,\"#c51b7d\"],[0.2,\"#de77ae\"],[0.3,\"#f1b6da\"],[0.4,\"#fde0ef\"],[0.5,\"#f7f7f7\"],[0.6,\"#e6f5d0\"],[0.7,\"#b8e186\"],[0.8,\"#7fbc41\"],[0.9,\"#4d9221\"],[1,\"#276419\"]],\"sequential\":[[0.0,\"#0d0887\"],[0.1111111111111111,\"#46039f\"],[0.2222222222222222,\"#7201a8\"],[0.3333333333333333,\"#9c179e\"],[0.4444444444444444,\"#bd3786\"],[0.5555555555555556,\"#d8576b\"],[0.6666666666666666,\"#ed7953\"],[0.7777777777777778,\"#fb9f3a\"],[0.8888888888888888,\"#fdca26\"],[1.0,\"#f0f921\"]],\"sequentialminus\":[[0.0,\"#0d0887\"],[0.1111111111111111,\"#46039f\"],[0.2222222222222222,\"#7201a8\"],[0.3333333333333333,\"#9c179e\"],[0.4444444444444444,\"#bd3786\"],[0.5555555555555556,\"#d8576b\"],[0.6666666666666666,\"#ed7953\"],[0.7777777777777778,\"#fb9f3a\"],[0.8888888888888888,\"#fdca26\"],[1.0,\"#f0f921\"]]},\"colorway\":[\"#636efa\",\"#EF553B\",\"#00cc96\",\"#ab63fa\",\"#FFA15A\",\"#19d3f3\",\"#FF6692\",\"#B6E880\",\"#FF97FF\",\"#FECB52\"],\"font\":{\"color\":\"#2a3f5f\"},\"geo\":{\"bgcolor\":\"white\",\"lakecolor\":\"white\",\"landcolor\":\"#E5ECF6\",\"showlakes\":true,\"showland\":true,\"subunitcolor\":\"white\"},\"hoverlabel\":{\"align\":\"left\"},\"hovermode\":\"closest\",\"mapbox\":{\"style\":\"light\"},\"paper_bgcolor\":\"white\",\"plot_bgcolor\":\"#E5ECF6\",\"polar\":{\"angularaxis\":{\"gridcolor\":\"white\",\"linecolor\":\"white\",\"ticks\":\"\"},\"bgcolor\":\"#E5ECF6\",\"radialaxis\":{\"gridcolor\":\"white\",\"linecolor\":\"white\",\"ticks\":\"\"}},\"scene\":{\"xaxis\":{\"backgroundcolor\":\"#E5ECF6\",\"gridcolor\":\"white\",\"gridwidth\":2,\"linecolor\":\"white\",\"showbackground\":true,\"ticks\":\"\",\"zerolinecolor\":\"white\"},\"yaxis\":{\"backgroundcolor\":\"#E5ECF6\",\"gridcolor\":\"white\",\"gridwidth\":2,\"linecolor\":\"white\",\"showbackground\":true,\"ticks\":\"\",\"zerolinecolor\":\"white\"},\"zaxis\":{\"backgroundcolor\":\"#E5ECF6\",\"gridcolor\":\"white\",\"gridwidth\":2,\"linecolor\":\"white\",\"showbackground\":true,\"ticks\":\"\",\"zerolinecolor\":\"white\"}},\"shapedefaults\":{\"line\":{\"color\":\"#2a3f5f\"}},\"ternary\":{\"aaxis\":{\"gridcolor\":\"white\",\"linecolor\":\"white\",\"ticks\":\"\"},\"baxis\":{\"gridcolor\":\"white\",\"linecolor\":\"white\",\"ticks\":\"\"},\"bgcolor\":\"#E5ECF6\",\"caxis\":{\"gridcolor\":\"white\",\"linecolor\":\"white\",\"ticks\":\"\"}},\"title\":{\"x\":0.05},\"xaxis\":{\"automargin\":true,\"gridcolor\":\"white\",\"linecolor\":\"white\",\"ticks\":\"\",\"title\":{\"standoff\":15},\"zerolinecolor\":\"white\",\"zerolinewidth\":2},\"yaxis\":{\"automargin\":true,\"gridcolor\":\"white\",\"linecolor\":\"white\",\"ticks\":\"\",\"title\":{\"standoff\":15},\"zerolinecolor\":\"white\",\"zerolinewidth\":2}}},\"title\":{\"text\":\"Box plot - Idade dos clientes\"},\"xaxis\":{\"anchor\":\"y\",\"domain\":[0.0,1.0],\"title\":{\"text\":\"\"}},\"yaxis\":{\"anchor\":\"x\",\"domain\":[0.0,1.0],\"title\":{\"text\":\"Idade\"}}},                        {\"responsive\": true}                    ).then(function(){\n",
       "                            \n",
       "var gd = document.getElementById('afff3353-7604-4e0b-9d45-bec216c5e704');\n",
       "var x = new MutationObserver(function (mutations, observer) {{\n",
       "        var display = window.getComputedStyle(gd).display;\n",
       "        if (!display || display === 'none') {{\n",
       "            console.log([gd, 'removed!']);\n",
       "            Plotly.purge(gd);\n",
       "            observer.disconnect();\n",
       "        }}\n",
       "}});\n",
       "\n",
       "// Listen for the removal of the full notebook cells\n",
       "var notebookContainer = gd.closest('#notebook-container');\n",
       "if (notebookContainer) {{\n",
       "    x.observe(notebookContainer, {childList: true});\n",
       "}}\n",
       "\n",
       "// Listen for the clearing of the current output cell\n",
       "var outputEl = gd.closest('.output');\n",
       "if (outputEl) {{\n",
       "    x.observe(outputEl, {childList: true});\n",
       "}}\n",
       "\n",
       "                        })                };                });            </script>        </div>"
      ]
     },
     "metadata": {},
     "output_type": "display_data"
    }
   ],
   "source": [
    "fig_box_plot_idade = px.box(tabela_cliente_gasto_idade, x=\"idade\", y=\"total_mes\", labels={\"total_mes\": \"Total gasto pelo cliente\", \"idade\": \"Idade\"} )\n",
    "fig_box_plot_idade.update_traces(marker = {'color': '#00CC96'})\n",
    "fig_box_plot_idade.update_layout(title = 'Box plot - Idade dos clientes')\n",
    "fig_box_plot_idade.update_xaxes(title = '')\n",
    "fig_box_plot_idade.update_yaxes(title = 'Idade')\n",
    "fig_box_plot_idade.show()"
   ]
  },
  {
   "cell_type": "code",
   "execution_count": 341,
   "id": "10489d5f",
   "metadata": {},
   "outputs": [
    {
     "name": "stdout",
     "output_type": "stream",
     "text": [
      "Correlação dos dados: 0.030461030615092352\n"
     ]
    }
   ],
   "source": [
    "# Calculando a correlação dos dados\n",
    "Correlação= tabela_cliente_gasto_idade['total_mes'].corr(tabela_cliente_gasto_idade['idade'])\n",
    "print(f\"Correlação dos dados:\", Correlação)"
   ]
  },
  {
   "cell_type": "code",
   "execution_count": 383,
   "id": "168d0d63",
   "metadata": {},
   "outputs": [
    {
     "data": {
      "application/vnd.plotly.v1+json": {
       "config": {
        "plotlyServerURL": "https://plot.ly"
       },
       "data": [
        {
         "alignmentgroup": "True",
         "hovertemplate": "Dia da semana=%{x}<br>Entrada total=%{y}<extra></extra>",
         "legendgroup": "",
         "marker": {
          "color": "#00CC96",
          "pattern": {
           "shape": ""
          }
         },
         "name": "",
         "offsetgroup": "",
         "orientation": "v",
         "showlegend": false,
         "textposition": "auto",
         "type": "bar",
         "x": [
          "Segunda-feira",
          "Terça-feira",
          "Quarta-feira",
          "Quinta-feira",
          "Sexta-feira",
          "Sábado",
          "Domingo"
         ],
         "xaxis": "x",
         "y": [
          19399.00999999996,
          15278.059999999956,
          20235.399999999958,
          17847.50999999995,
          17089.95999999996,
          13464.509999999957,
          15676.189999999942
         ],
         "yaxis": "y"
        }
       ],
       "layout": {
        "barmode": "stack",
        "legend": {
         "tracegroupgap": 0
        },
        "margin": {
         "t": 60
        },
        "template": {
         "data": {
          "bar": [
           {
            "error_x": {
             "color": "#2a3f5f"
            },
            "error_y": {
             "color": "#2a3f5f"
            },
            "marker": {
             "line": {
              "color": "#E5ECF6",
              "width": 0.5
             },
             "pattern": {
              "fillmode": "overlay",
              "size": 10,
              "solidity": 0.2
             }
            },
            "type": "bar"
           }
          ],
          "barpolar": [
           {
            "marker": {
             "line": {
              "color": "#E5ECF6",
              "width": 0.5
             },
             "pattern": {
              "fillmode": "overlay",
              "size": 10,
              "solidity": 0.2
             }
            },
            "type": "barpolar"
           }
          ],
          "carpet": [
           {
            "aaxis": {
             "endlinecolor": "#2a3f5f",
             "gridcolor": "white",
             "linecolor": "white",
             "minorgridcolor": "white",
             "startlinecolor": "#2a3f5f"
            },
            "baxis": {
             "endlinecolor": "#2a3f5f",
             "gridcolor": "white",
             "linecolor": "white",
             "minorgridcolor": "white",
             "startlinecolor": "#2a3f5f"
            },
            "type": "carpet"
           }
          ],
          "choropleth": [
           {
            "colorbar": {
             "outlinewidth": 0,
             "ticks": ""
            },
            "type": "choropleth"
           }
          ],
          "contour": [
           {
            "colorbar": {
             "outlinewidth": 0,
             "ticks": ""
            },
            "colorscale": [
             [
              0,
              "#0d0887"
             ],
             [
              0.1111111111111111,
              "#46039f"
             ],
             [
              0.2222222222222222,
              "#7201a8"
             ],
             [
              0.3333333333333333,
              "#9c179e"
             ],
             [
              0.4444444444444444,
              "#bd3786"
             ],
             [
              0.5555555555555556,
              "#d8576b"
             ],
             [
              0.6666666666666666,
              "#ed7953"
             ],
             [
              0.7777777777777778,
              "#fb9f3a"
             ],
             [
              0.8888888888888888,
              "#fdca26"
             ],
             [
              1,
              "#f0f921"
             ]
            ],
            "type": "contour"
           }
          ],
          "contourcarpet": [
           {
            "colorbar": {
             "outlinewidth": 0,
             "ticks": ""
            },
            "type": "contourcarpet"
           }
          ],
          "heatmap": [
           {
            "colorbar": {
             "outlinewidth": 0,
             "ticks": ""
            },
            "colorscale": [
             [
              0,
              "#0d0887"
             ],
             [
              0.1111111111111111,
              "#46039f"
             ],
             [
              0.2222222222222222,
              "#7201a8"
             ],
             [
              0.3333333333333333,
              "#9c179e"
             ],
             [
              0.4444444444444444,
              "#bd3786"
             ],
             [
              0.5555555555555556,
              "#d8576b"
             ],
             [
              0.6666666666666666,
              "#ed7953"
             ],
             [
              0.7777777777777778,
              "#fb9f3a"
             ],
             [
              0.8888888888888888,
              "#fdca26"
             ],
             [
              1,
              "#f0f921"
             ]
            ],
            "type": "heatmap"
           }
          ],
          "heatmapgl": [
           {
            "colorbar": {
             "outlinewidth": 0,
             "ticks": ""
            },
            "colorscale": [
             [
              0,
              "#0d0887"
             ],
             [
              0.1111111111111111,
              "#46039f"
             ],
             [
              0.2222222222222222,
              "#7201a8"
             ],
             [
              0.3333333333333333,
              "#9c179e"
             ],
             [
              0.4444444444444444,
              "#bd3786"
             ],
             [
              0.5555555555555556,
              "#d8576b"
             ],
             [
              0.6666666666666666,
              "#ed7953"
             ],
             [
              0.7777777777777778,
              "#fb9f3a"
             ],
             [
              0.8888888888888888,
              "#fdca26"
             ],
             [
              1,
              "#f0f921"
             ]
            ],
            "type": "heatmapgl"
           }
          ],
          "histogram": [
           {
            "marker": {
             "pattern": {
              "fillmode": "overlay",
              "size": 10,
              "solidity": 0.2
             }
            },
            "type": "histogram"
           }
          ],
          "histogram2d": [
           {
            "colorbar": {
             "outlinewidth": 0,
             "ticks": ""
            },
            "colorscale": [
             [
              0,
              "#0d0887"
             ],
             [
              0.1111111111111111,
              "#46039f"
             ],
             [
              0.2222222222222222,
              "#7201a8"
             ],
             [
              0.3333333333333333,
              "#9c179e"
             ],
             [
              0.4444444444444444,
              "#bd3786"
             ],
             [
              0.5555555555555556,
              "#d8576b"
             ],
             [
              0.6666666666666666,
              "#ed7953"
             ],
             [
              0.7777777777777778,
              "#fb9f3a"
             ],
             [
              0.8888888888888888,
              "#fdca26"
             ],
             [
              1,
              "#f0f921"
             ]
            ],
            "type": "histogram2d"
           }
          ],
          "histogram2dcontour": [
           {
            "colorbar": {
             "outlinewidth": 0,
             "ticks": ""
            },
            "colorscale": [
             [
              0,
              "#0d0887"
             ],
             [
              0.1111111111111111,
              "#46039f"
             ],
             [
              0.2222222222222222,
              "#7201a8"
             ],
             [
              0.3333333333333333,
              "#9c179e"
             ],
             [
              0.4444444444444444,
              "#bd3786"
             ],
             [
              0.5555555555555556,
              "#d8576b"
             ],
             [
              0.6666666666666666,
              "#ed7953"
             ],
             [
              0.7777777777777778,
              "#fb9f3a"
             ],
             [
              0.8888888888888888,
              "#fdca26"
             ],
             [
              1,
              "#f0f921"
             ]
            ],
            "type": "histogram2dcontour"
           }
          ],
          "mesh3d": [
           {
            "colorbar": {
             "outlinewidth": 0,
             "ticks": ""
            },
            "type": "mesh3d"
           }
          ],
          "parcoords": [
           {
            "line": {
             "colorbar": {
              "outlinewidth": 0,
              "ticks": ""
             }
            },
            "type": "parcoords"
           }
          ],
          "pie": [
           {
            "automargin": true,
            "type": "pie"
           }
          ],
          "scatter": [
           {
            "marker": {
             "colorbar": {
              "outlinewidth": 0,
              "ticks": ""
             }
            },
            "type": "scatter"
           }
          ],
          "scatter3d": [
           {
            "line": {
             "colorbar": {
              "outlinewidth": 0,
              "ticks": ""
             }
            },
            "marker": {
             "colorbar": {
              "outlinewidth": 0,
              "ticks": ""
             }
            },
            "type": "scatter3d"
           }
          ],
          "scattercarpet": [
           {
            "marker": {
             "colorbar": {
              "outlinewidth": 0,
              "ticks": ""
             }
            },
            "type": "scattercarpet"
           }
          ],
          "scattergeo": [
           {
            "marker": {
             "colorbar": {
              "outlinewidth": 0,
              "ticks": ""
             }
            },
            "type": "scattergeo"
           }
          ],
          "scattergl": [
           {
            "marker": {
             "colorbar": {
              "outlinewidth": 0,
              "ticks": ""
             }
            },
            "type": "scattergl"
           }
          ],
          "scattermapbox": [
           {
            "marker": {
             "colorbar": {
              "outlinewidth": 0,
              "ticks": ""
             }
            },
            "type": "scattermapbox"
           }
          ],
          "scatterpolar": [
           {
            "marker": {
             "colorbar": {
              "outlinewidth": 0,
              "ticks": ""
             }
            },
            "type": "scatterpolar"
           }
          ],
          "scatterpolargl": [
           {
            "marker": {
             "colorbar": {
              "outlinewidth": 0,
              "ticks": ""
             }
            },
            "type": "scatterpolargl"
           }
          ],
          "scatterternary": [
           {
            "marker": {
             "colorbar": {
              "outlinewidth": 0,
              "ticks": ""
             }
            },
            "type": "scatterternary"
           }
          ],
          "surface": [
           {
            "colorbar": {
             "outlinewidth": 0,
             "ticks": ""
            },
            "colorscale": [
             [
              0,
              "#0d0887"
             ],
             [
              0.1111111111111111,
              "#46039f"
             ],
             [
              0.2222222222222222,
              "#7201a8"
             ],
             [
              0.3333333333333333,
              "#9c179e"
             ],
             [
              0.4444444444444444,
              "#bd3786"
             ],
             [
              0.5555555555555556,
              "#d8576b"
             ],
             [
              0.6666666666666666,
              "#ed7953"
             ],
             [
              0.7777777777777778,
              "#fb9f3a"
             ],
             [
              0.8888888888888888,
              "#fdca26"
             ],
             [
              1,
              "#f0f921"
             ]
            ],
            "type": "surface"
           }
          ],
          "table": [
           {
            "cells": {
             "fill": {
              "color": "#EBF0F8"
             },
             "line": {
              "color": "white"
             }
            },
            "header": {
             "fill": {
              "color": "#C8D4E3"
             },
             "line": {
              "color": "white"
             }
            },
            "type": "table"
           }
          ]
         },
         "layout": {
          "annotationdefaults": {
           "arrowcolor": "#2a3f5f",
           "arrowhead": 0,
           "arrowwidth": 1
          },
          "autotypenumbers": "strict",
          "coloraxis": {
           "colorbar": {
            "outlinewidth": 0,
            "ticks": ""
           }
          },
          "colorscale": {
           "diverging": [
            [
             0,
             "#8e0152"
            ],
            [
             0.1,
             "#c51b7d"
            ],
            [
             0.2,
             "#de77ae"
            ],
            [
             0.3,
             "#f1b6da"
            ],
            [
             0.4,
             "#fde0ef"
            ],
            [
             0.5,
             "#f7f7f7"
            ],
            [
             0.6,
             "#e6f5d0"
            ],
            [
             0.7,
             "#b8e186"
            ],
            [
             0.8,
             "#7fbc41"
            ],
            [
             0.9,
             "#4d9221"
            ],
            [
             1,
             "#276419"
            ]
           ],
           "sequential": [
            [
             0,
             "#0d0887"
            ],
            [
             0.1111111111111111,
             "#46039f"
            ],
            [
             0.2222222222222222,
             "#7201a8"
            ],
            [
             0.3333333333333333,
             "#9c179e"
            ],
            [
             0.4444444444444444,
             "#bd3786"
            ],
            [
             0.5555555555555556,
             "#d8576b"
            ],
            [
             0.6666666666666666,
             "#ed7953"
            ],
            [
             0.7777777777777778,
             "#fb9f3a"
            ],
            [
             0.8888888888888888,
             "#fdca26"
            ],
            [
             1,
             "#f0f921"
            ]
           ],
           "sequentialminus": [
            [
             0,
             "#0d0887"
            ],
            [
             0.1111111111111111,
             "#46039f"
            ],
            [
             0.2222222222222222,
             "#7201a8"
            ],
            [
             0.3333333333333333,
             "#9c179e"
            ],
            [
             0.4444444444444444,
             "#bd3786"
            ],
            [
             0.5555555555555556,
             "#d8576b"
            ],
            [
             0.6666666666666666,
             "#ed7953"
            ],
            [
             0.7777777777777778,
             "#fb9f3a"
            ],
            [
             0.8888888888888888,
             "#fdca26"
            ],
            [
             1,
             "#f0f921"
            ]
           ]
          },
          "colorway": [
           "#636efa",
           "#EF553B",
           "#00cc96",
           "#ab63fa",
           "#FFA15A",
           "#19d3f3",
           "#FF6692",
           "#B6E880",
           "#FF97FF",
           "#FECB52"
          ],
          "font": {
           "color": "#2a3f5f"
          },
          "geo": {
           "bgcolor": "white",
           "lakecolor": "white",
           "landcolor": "#E5ECF6",
           "showlakes": true,
           "showland": true,
           "subunitcolor": "white"
          },
          "hoverlabel": {
           "align": "left"
          },
          "hovermode": "closest",
          "mapbox": {
           "style": "light"
          },
          "paper_bgcolor": "white",
          "plot_bgcolor": "#E5ECF6",
          "polar": {
           "angularaxis": {
            "gridcolor": "white",
            "linecolor": "white",
            "ticks": ""
           },
           "bgcolor": "#E5ECF6",
           "radialaxis": {
            "gridcolor": "white",
            "linecolor": "white",
            "ticks": ""
           }
          },
          "scene": {
           "xaxis": {
            "backgroundcolor": "#E5ECF6",
            "gridcolor": "white",
            "gridwidth": 2,
            "linecolor": "white",
            "showbackground": true,
            "ticks": "",
            "zerolinecolor": "white"
           },
           "yaxis": {
            "backgroundcolor": "#E5ECF6",
            "gridcolor": "white",
            "gridwidth": 2,
            "linecolor": "white",
            "showbackground": true,
            "ticks": "",
            "zerolinecolor": "white"
           },
           "zaxis": {
            "backgroundcolor": "#E5ECF6",
            "gridcolor": "white",
            "gridwidth": 2,
            "linecolor": "white",
            "showbackground": true,
            "ticks": "",
            "zerolinecolor": "white"
           }
          },
          "shapedefaults": {
           "line": {
            "color": "#2a3f5f"
           }
          },
          "ternary": {
           "aaxis": {
            "gridcolor": "white",
            "linecolor": "white",
            "ticks": ""
           },
           "baxis": {
            "gridcolor": "white",
            "linecolor": "white",
            "ticks": ""
           },
           "bgcolor": "#E5ECF6",
           "caxis": {
            "gridcolor": "white",
            "linecolor": "white",
            "ticks": ""
           }
          },
          "title": {
           "x": 0.05
          },
          "xaxis": {
           "automargin": true,
           "gridcolor": "white",
           "linecolor": "white",
           "ticks": "",
           "title": {
            "standoff": 15
           },
           "zerolinecolor": "white",
           "zerolinewidth": 2
          },
          "yaxis": {
           "automargin": true,
           "gridcolor": "white",
           "linecolor": "white",
           "ticks": "",
           "title": {
            "standoff": 15
           },
           "zerolinecolor": "white",
           "zerolinewidth": 2
          }
         }
        },
        "title": {
         "text": "Entrada total por dia da semana no mês de novembro"
        },
        "xaxis": {
         "anchor": "y",
         "domain": [
          0,
          1
         ],
         "title": {
          "text": "Dia da semana"
         }
        },
        "yaxis": {
         "anchor": "x",
         "domain": [
          0,
          1
         ],
         "title": {
          "text": "Entrada"
         }
        }
       }
      },
      "text/html": [
       "<div>                            <div id=\"683f7620-8098-4682-87c6-056b588dc8df\" class=\"plotly-graph-div\" style=\"height:525px; width:100%;\"></div>            <script type=\"text/javascript\">                require([\"plotly\"], function(Plotly) {                    window.PLOTLYENV=window.PLOTLYENV || {};                                    if (document.getElementById(\"683f7620-8098-4682-87c6-056b588dc8df\")) {                    Plotly.newPlot(                        \"683f7620-8098-4682-87c6-056b588dc8df\",                        [{\"alignmentgroup\":\"True\",\"hovertemplate\":\"Dia da semana=%{x}<br>Entrada total=%{y}<extra></extra>\",\"legendgroup\":\"\",\"marker\":{\"color\":\"#00CC96\",\"pattern\":{\"shape\":\"\"}},\"name\":\"\",\"offsetgroup\":\"\",\"orientation\":\"v\",\"showlegend\":false,\"textposition\":\"auto\",\"type\":\"bar\",\"x\":[\"Segunda-feira\",\"Ter\\u00e7a-feira\",\"Quarta-feira\",\"Quinta-feira\",\"Sexta-feira\",\"S\\u00e1bado\",\"Domingo\"],\"xaxis\":\"x\",\"y\":[19399.00999999996,15278.059999999956,20235.399999999958,17847.50999999995,17089.95999999996,13464.509999999957,15676.189999999942],\"yaxis\":\"y\"}],                        {\"barmode\":\"stack\",\"legend\":{\"tracegroupgap\":0},\"margin\":{\"t\":60},\"template\":{\"data\":{\"bar\":[{\"error_x\":{\"color\":\"#2a3f5f\"},\"error_y\":{\"color\":\"#2a3f5f\"},\"marker\":{\"line\":{\"color\":\"#E5ECF6\",\"width\":0.5},\"pattern\":{\"fillmode\":\"overlay\",\"size\":10,\"solidity\":0.2}},\"type\":\"bar\"}],\"barpolar\":[{\"marker\":{\"line\":{\"color\":\"#E5ECF6\",\"width\":0.5},\"pattern\":{\"fillmode\":\"overlay\",\"size\":10,\"solidity\":0.2}},\"type\":\"barpolar\"}],\"carpet\":[{\"aaxis\":{\"endlinecolor\":\"#2a3f5f\",\"gridcolor\":\"white\",\"linecolor\":\"white\",\"minorgridcolor\":\"white\",\"startlinecolor\":\"#2a3f5f\"},\"baxis\":{\"endlinecolor\":\"#2a3f5f\",\"gridcolor\":\"white\",\"linecolor\":\"white\",\"minorgridcolor\":\"white\",\"startlinecolor\":\"#2a3f5f\"},\"type\":\"carpet\"}],\"choropleth\":[{\"colorbar\":{\"outlinewidth\":0,\"ticks\":\"\"},\"type\":\"choropleth\"}],\"contour\":[{\"colorbar\":{\"outlinewidth\":0,\"ticks\":\"\"},\"colorscale\":[[0.0,\"#0d0887\"],[0.1111111111111111,\"#46039f\"],[0.2222222222222222,\"#7201a8\"],[0.3333333333333333,\"#9c179e\"],[0.4444444444444444,\"#bd3786\"],[0.5555555555555556,\"#d8576b\"],[0.6666666666666666,\"#ed7953\"],[0.7777777777777778,\"#fb9f3a\"],[0.8888888888888888,\"#fdca26\"],[1.0,\"#f0f921\"]],\"type\":\"contour\"}],\"contourcarpet\":[{\"colorbar\":{\"outlinewidth\":0,\"ticks\":\"\"},\"type\":\"contourcarpet\"}],\"heatmap\":[{\"colorbar\":{\"outlinewidth\":0,\"ticks\":\"\"},\"colorscale\":[[0.0,\"#0d0887\"],[0.1111111111111111,\"#46039f\"],[0.2222222222222222,\"#7201a8\"],[0.3333333333333333,\"#9c179e\"],[0.4444444444444444,\"#bd3786\"],[0.5555555555555556,\"#d8576b\"],[0.6666666666666666,\"#ed7953\"],[0.7777777777777778,\"#fb9f3a\"],[0.8888888888888888,\"#fdca26\"],[1.0,\"#f0f921\"]],\"type\":\"heatmap\"}],\"heatmapgl\":[{\"colorbar\":{\"outlinewidth\":0,\"ticks\":\"\"},\"colorscale\":[[0.0,\"#0d0887\"],[0.1111111111111111,\"#46039f\"],[0.2222222222222222,\"#7201a8\"],[0.3333333333333333,\"#9c179e\"],[0.4444444444444444,\"#bd3786\"],[0.5555555555555556,\"#d8576b\"],[0.6666666666666666,\"#ed7953\"],[0.7777777777777778,\"#fb9f3a\"],[0.8888888888888888,\"#fdca26\"],[1.0,\"#f0f921\"]],\"type\":\"heatmapgl\"}],\"histogram\":[{\"marker\":{\"pattern\":{\"fillmode\":\"overlay\",\"size\":10,\"solidity\":0.2}},\"type\":\"histogram\"}],\"histogram2d\":[{\"colorbar\":{\"outlinewidth\":0,\"ticks\":\"\"},\"colorscale\":[[0.0,\"#0d0887\"],[0.1111111111111111,\"#46039f\"],[0.2222222222222222,\"#7201a8\"],[0.3333333333333333,\"#9c179e\"],[0.4444444444444444,\"#bd3786\"],[0.5555555555555556,\"#d8576b\"],[0.6666666666666666,\"#ed7953\"],[0.7777777777777778,\"#fb9f3a\"],[0.8888888888888888,\"#fdca26\"],[1.0,\"#f0f921\"]],\"type\":\"histogram2d\"}],\"histogram2dcontour\":[{\"colorbar\":{\"outlinewidth\":0,\"ticks\":\"\"},\"colorscale\":[[0.0,\"#0d0887\"],[0.1111111111111111,\"#46039f\"],[0.2222222222222222,\"#7201a8\"],[0.3333333333333333,\"#9c179e\"],[0.4444444444444444,\"#bd3786\"],[0.5555555555555556,\"#d8576b\"],[0.6666666666666666,\"#ed7953\"],[0.7777777777777778,\"#fb9f3a\"],[0.8888888888888888,\"#fdca26\"],[1.0,\"#f0f921\"]],\"type\":\"histogram2dcontour\"}],\"mesh3d\":[{\"colorbar\":{\"outlinewidth\":0,\"ticks\":\"\"},\"type\":\"mesh3d\"}],\"parcoords\":[{\"line\":{\"colorbar\":{\"outlinewidth\":0,\"ticks\":\"\"}},\"type\":\"parcoords\"}],\"pie\":[{\"automargin\":true,\"type\":\"pie\"}],\"scatter\":[{\"marker\":{\"colorbar\":{\"outlinewidth\":0,\"ticks\":\"\"}},\"type\":\"scatter\"}],\"scatter3d\":[{\"line\":{\"colorbar\":{\"outlinewidth\":0,\"ticks\":\"\"}},\"marker\":{\"colorbar\":{\"outlinewidth\":0,\"ticks\":\"\"}},\"type\":\"scatter3d\"}],\"scattercarpet\":[{\"marker\":{\"colorbar\":{\"outlinewidth\":0,\"ticks\":\"\"}},\"type\":\"scattercarpet\"}],\"scattergeo\":[{\"marker\":{\"colorbar\":{\"outlinewidth\":0,\"ticks\":\"\"}},\"type\":\"scattergeo\"}],\"scattergl\":[{\"marker\":{\"colorbar\":{\"outlinewidth\":0,\"ticks\":\"\"}},\"type\":\"scattergl\"}],\"scattermapbox\":[{\"marker\":{\"colorbar\":{\"outlinewidth\":0,\"ticks\":\"\"}},\"type\":\"scattermapbox\"}],\"scatterpolar\":[{\"marker\":{\"colorbar\":{\"outlinewidth\":0,\"ticks\":\"\"}},\"type\":\"scatterpolar\"}],\"scatterpolargl\":[{\"marker\":{\"colorbar\":{\"outlinewidth\":0,\"ticks\":\"\"}},\"type\":\"scatterpolargl\"}],\"scatterternary\":[{\"marker\":{\"colorbar\":{\"outlinewidth\":0,\"ticks\":\"\"}},\"type\":\"scatterternary\"}],\"surface\":[{\"colorbar\":{\"outlinewidth\":0,\"ticks\":\"\"},\"colorscale\":[[0.0,\"#0d0887\"],[0.1111111111111111,\"#46039f\"],[0.2222222222222222,\"#7201a8\"],[0.3333333333333333,\"#9c179e\"],[0.4444444444444444,\"#bd3786\"],[0.5555555555555556,\"#d8576b\"],[0.6666666666666666,\"#ed7953\"],[0.7777777777777778,\"#fb9f3a\"],[0.8888888888888888,\"#fdca26\"],[1.0,\"#f0f921\"]],\"type\":\"surface\"}],\"table\":[{\"cells\":{\"fill\":{\"color\":\"#EBF0F8\"},\"line\":{\"color\":\"white\"}},\"header\":{\"fill\":{\"color\":\"#C8D4E3\"},\"line\":{\"color\":\"white\"}},\"type\":\"table\"}]},\"layout\":{\"annotationdefaults\":{\"arrowcolor\":\"#2a3f5f\",\"arrowhead\":0,\"arrowwidth\":1},\"autotypenumbers\":\"strict\",\"coloraxis\":{\"colorbar\":{\"outlinewidth\":0,\"ticks\":\"\"}},\"colorscale\":{\"diverging\":[[0,\"#8e0152\"],[0.1,\"#c51b7d\"],[0.2,\"#de77ae\"],[0.3,\"#f1b6da\"],[0.4,\"#fde0ef\"],[0.5,\"#f7f7f7\"],[0.6,\"#e6f5d0\"],[0.7,\"#b8e186\"],[0.8,\"#7fbc41\"],[0.9,\"#4d9221\"],[1,\"#276419\"]],\"sequential\":[[0.0,\"#0d0887\"],[0.1111111111111111,\"#46039f\"],[0.2222222222222222,\"#7201a8\"],[0.3333333333333333,\"#9c179e\"],[0.4444444444444444,\"#bd3786\"],[0.5555555555555556,\"#d8576b\"],[0.6666666666666666,\"#ed7953\"],[0.7777777777777778,\"#fb9f3a\"],[0.8888888888888888,\"#fdca26\"],[1.0,\"#f0f921\"]],\"sequentialminus\":[[0.0,\"#0d0887\"],[0.1111111111111111,\"#46039f\"],[0.2222222222222222,\"#7201a8\"],[0.3333333333333333,\"#9c179e\"],[0.4444444444444444,\"#bd3786\"],[0.5555555555555556,\"#d8576b\"],[0.6666666666666666,\"#ed7953\"],[0.7777777777777778,\"#fb9f3a\"],[0.8888888888888888,\"#fdca26\"],[1.0,\"#f0f921\"]]},\"colorway\":[\"#636efa\",\"#EF553B\",\"#00cc96\",\"#ab63fa\",\"#FFA15A\",\"#19d3f3\",\"#FF6692\",\"#B6E880\",\"#FF97FF\",\"#FECB52\"],\"font\":{\"color\":\"#2a3f5f\"},\"geo\":{\"bgcolor\":\"white\",\"lakecolor\":\"white\",\"landcolor\":\"#E5ECF6\",\"showlakes\":true,\"showland\":true,\"subunitcolor\":\"white\"},\"hoverlabel\":{\"align\":\"left\"},\"hovermode\":\"closest\",\"mapbox\":{\"style\":\"light\"},\"paper_bgcolor\":\"white\",\"plot_bgcolor\":\"#E5ECF6\",\"polar\":{\"angularaxis\":{\"gridcolor\":\"white\",\"linecolor\":\"white\",\"ticks\":\"\"},\"bgcolor\":\"#E5ECF6\",\"radialaxis\":{\"gridcolor\":\"white\",\"linecolor\":\"white\",\"ticks\":\"\"}},\"scene\":{\"xaxis\":{\"backgroundcolor\":\"#E5ECF6\",\"gridcolor\":\"white\",\"gridwidth\":2,\"linecolor\":\"white\",\"showbackground\":true,\"ticks\":\"\",\"zerolinecolor\":\"white\"},\"yaxis\":{\"backgroundcolor\":\"#E5ECF6\",\"gridcolor\":\"white\",\"gridwidth\":2,\"linecolor\":\"white\",\"showbackground\":true,\"ticks\":\"\",\"zerolinecolor\":\"white\"},\"zaxis\":{\"backgroundcolor\":\"#E5ECF6\",\"gridcolor\":\"white\",\"gridwidth\":2,\"linecolor\":\"white\",\"showbackground\":true,\"ticks\":\"\",\"zerolinecolor\":\"white\"}},\"shapedefaults\":{\"line\":{\"color\":\"#2a3f5f\"}},\"ternary\":{\"aaxis\":{\"gridcolor\":\"white\",\"linecolor\":\"white\",\"ticks\":\"\"},\"baxis\":{\"gridcolor\":\"white\",\"linecolor\":\"white\",\"ticks\":\"\"},\"bgcolor\":\"#E5ECF6\",\"caxis\":{\"gridcolor\":\"white\",\"linecolor\":\"white\",\"ticks\":\"\"}},\"title\":{\"x\":0.05},\"xaxis\":{\"automargin\":true,\"gridcolor\":\"white\",\"linecolor\":\"white\",\"ticks\":\"\",\"title\":{\"standoff\":15},\"zerolinecolor\":\"white\",\"zerolinewidth\":2},\"yaxis\":{\"automargin\":true,\"gridcolor\":\"white\",\"linecolor\":\"white\",\"ticks\":\"\",\"title\":{\"standoff\":15},\"zerolinecolor\":\"white\",\"zerolinewidth\":2}}},\"title\":{\"text\":\"Entrada total por dia da semana no m\\u00eas de novembro\"},\"xaxis\":{\"anchor\":\"y\",\"domain\":[0.0,1.0],\"title\":{\"text\":\"Dia da semana\"}},\"yaxis\":{\"anchor\":\"x\",\"domain\":[0.0,1.0],\"title\":{\"text\":\"Entrada\"}}},                        {\"responsive\": true}                    ).then(function(){\n",
       "                            \n",
       "var gd = document.getElementById('683f7620-8098-4682-87c6-056b588dc8df');\n",
       "var x = new MutationObserver(function (mutations, observer) {{\n",
       "        var display = window.getComputedStyle(gd).display;\n",
       "        if (!display || display === 'none') {{\n",
       "            console.log([gd, 'removed!']);\n",
       "            Plotly.purge(gd);\n",
       "            observer.disconnect();\n",
       "        }}\n",
       "}});\n",
       "\n",
       "// Listen for the removal of the full notebook cells\n",
       "var notebookContainer = gd.closest('#notebook-container');\n",
       "if (notebookContainer) {{\n",
       "    x.observe(notebookContainer, {childList: true});\n",
       "}}\n",
       "\n",
       "// Listen for the clearing of the current output cell\n",
       "var outputEl = gd.closest('.output');\n",
       "if (outputEl) {{\n",
       "    x.observe(outputEl, {childList: true});\n",
       "}}\n",
       "\n",
       "                        })                };                });            </script>        </div>"
      ]
     },
     "metadata": {},
     "output_type": "display_data"
    }
   ],
   "source": [
    "import datetime\n",
    "\n",
    "venda_produtos_cliente['data'] = pd.to_datetime(venda_produtos_cliente['data'])\n",
    "venda_produtos_cliente['dia_sem'] = venda_produtos_cliente['data'].dt.weekday\n",
    "entrada_bruta_sem = venda_produtos_cliente.groupby(['dia_sem']).sum().sort_values('dia_sem').reset_index()\n",
    "\n",
    "entrada_bruta_sem[\"dia_sem\"].replace({0:\"Segunda-feira\", 1: \"Terça-feira\", 2: \"Quarta-feira\", 3: \"Quinta-feira\", 4: \"Sexta-feira\", 5: \"Sábado\", 6: \"Domingo\"}, inplace=True)\n",
    "\n",
    "#Plotando Gráfico\n",
    "fig = px.bar(entrada_bruta_sem,\n",
    "             x='dia_sem', y=\"total_preco\",\n",
    "             labels={\"dia_sem\": \"Dia da semana\", \"total_preco\": \"Entrada total\"},\n",
    "             barmode='stack')\n",
    "fig.update_traces(marker = {'color': '#00CC96'})\n",
    "fig.update_layout(title = 'Entrada total por dia da semana no mês de novembro')\n",
    "fig.update_xaxes(title = 'Dia da semana')\n",
    "fig.update_yaxes(title = 'Entrada')\n",
    "fig.show()"
   ]
  },
  {
   "cell_type": "code",
   "execution_count": 392,
   "id": "5b72ac3d",
   "metadata": {},
   "outputs": [
    {
     "data": {
      "application/vnd.plotly.v1+json": {
       "config": {
        "plotlyServerURL": "https://plot.ly"
       },
       "data": [
        {
         "hovertemplate": "Linhas=Renda bruta total<br>date=%{x}<br>Valor/ Valor Máximo (%)=%{y}<extra></extra>",
         "legendgroup": "Renda bruta total",
         "line": {
          "color": "#636efa",
          "dash": "solid"
         },
         "marker": {
          "symbol": "circle"
         },
         "mode": "lines",
         "name": "Renda bruta total",
         "orientation": "v",
         "showlegend": true,
         "type": "scatter",
         "x": [
          "2021-11-01T00:00:00",
          "2021-11-02T00:00:00",
          "2021-11-03T00:00:00",
          "2021-11-04T00:00:00",
          "2021-11-05T00:00:00",
          "2021-11-06T00:00:00",
          "2021-11-07T00:00:00",
          "2021-11-08T00:00:00",
          "2021-11-09T00:00:00",
          "2021-11-10T00:00:00",
          "2021-11-11T00:00:00",
          "2021-11-12T00:00:00",
          "2021-11-13T00:00:00",
          "2021-11-14T00:00:00",
          "2021-11-15T00:00:00",
          "2021-11-16T00:00:00",
          "2021-11-17T00:00:00",
          "2021-11-18T00:00:00",
          "2021-11-19T00:00:00",
          "2021-11-20T00:00:00",
          "2021-11-21T00:00:00",
          "2021-11-22T00:00:00",
          "2021-11-23T00:00:00",
          "2021-11-24T00:00:00",
          "2021-11-25T00:00:00",
          "2021-11-26T00:00:00",
          "2021-11-27T00:00:00",
          "2021-11-28T00:00:00",
          "2021-11-29T00:00:00",
          "2021-11-30T00:00:00"
         ],
         "xaxis": "x",
         "y": [
          0.6690606124266965,
          0.4296994213816815,
          0.5188975146934539,
          0.7546612729603014,
          0.4028351157643777,
          0.5301067178677933,
          0.5940527547475861,
          0.6767318243332381,
          0.5627783776213305,
          1,
          0.5823427772050769,
          0.814584829549433,
          0.4035060719909981,
          0.5829681344648401,
          0.12381992316574113,
          0.05433605461453414,
          0.06339396367390891,
          0.05770956389473818,
          0.07904580904781232,
          0.051660372380705886,
          0.025195057723406494,
          0.061090401580330043,
          0.08449162851824547,
          0.06541090369009656,
          0.05855070197980955,
          0.0951137449942922,
          0.11109781141244453,
          0.07424488925150942,
          0.048895120747692894,
          0.11273693141752557
         ],
         "yaxis": "y"
        },
        {
         "hovertemplate": "Linhas=Quantidade de produtos vendidos<br>date=%{x}<br>Valor/ Valor Máximo (%)=%{y}<extra></extra>",
         "legendgroup": "Quantidade de produtos vendidos",
         "line": {
          "color": "#EF553B",
          "dash": "solid"
         },
         "marker": {
          "symbol": "circle"
         },
         "mode": "lines",
         "name": "Quantidade de produtos vendidos",
         "orientation": "v",
         "showlegend": true,
         "type": "scatter",
         "x": [
          "2021-11-01T00:00:00",
          "2021-11-02T00:00:00",
          "2021-11-03T00:00:00",
          "2021-11-04T00:00:00",
          "2021-11-05T00:00:00",
          "2021-11-06T00:00:00",
          "2021-11-07T00:00:00",
          "2021-11-08T00:00:00",
          "2021-11-09T00:00:00",
          "2021-11-10T00:00:00",
          "2021-11-11T00:00:00",
          "2021-11-12T00:00:00",
          "2021-11-13T00:00:00",
          "2021-11-14T00:00:00",
          "2021-11-15T00:00:00",
          "2021-11-16T00:00:00",
          "2021-11-17T00:00:00",
          "2021-11-18T00:00:00",
          "2021-11-19T00:00:00",
          "2021-11-20T00:00:00",
          "2021-11-21T00:00:00",
          "2021-11-22T00:00:00",
          "2021-11-23T00:00:00",
          "2021-11-24T00:00:00",
          "2021-11-25T00:00:00",
          "2021-11-26T00:00:00",
          "2021-11-27T00:00:00",
          "2021-11-28T00:00:00",
          "2021-11-29T00:00:00",
          "2021-11-30T00:00:00"
         ],
         "xaxis": "x",
         "y": [
          0.5229793977812995,
          0.4294770206022187,
          0.49920760697305866,
          0.6687797147385103,
          0.5356576862123613,
          0.49920760697305866,
          0.5816164817749604,
          0.6576862123613312,
          0.5990491283676703,
          1,
          0.6703645007923931,
          0.8098256735340729,
          0.5309033280507132,
          0.6148969889064976,
          0.0491283676703645,
          0.05229793977812995,
          0.060221870047543584,
          0.05229793977812995,
          0.0554675118858954,
          0.06656101426307448,
          0.042789223454833596,
          0.08082408874801902,
          0.0491283676703645,
          0.09984152139461172,
          0.0554675118858954,
          0.10142630744849446,
          0.06973058637083994,
          0.09033280507131537,
          0.0919175911251981,
          0.12361331220285261
         ],
         "yaxis": "y"
        }
       ],
       "layout": {
        "legend": {
         "title": {
          "text": "Linhas"
         },
         "tracegroupgap": 0
        },
        "template": {
         "data": {
          "bar": [
           {
            "error_x": {
             "color": "#2a3f5f"
            },
            "error_y": {
             "color": "#2a3f5f"
            },
            "marker": {
             "line": {
              "color": "#E5ECF6",
              "width": 0.5
             },
             "pattern": {
              "fillmode": "overlay",
              "size": 10,
              "solidity": 0.2
             }
            },
            "type": "bar"
           }
          ],
          "barpolar": [
           {
            "marker": {
             "line": {
              "color": "#E5ECF6",
              "width": 0.5
             },
             "pattern": {
              "fillmode": "overlay",
              "size": 10,
              "solidity": 0.2
             }
            },
            "type": "barpolar"
           }
          ],
          "carpet": [
           {
            "aaxis": {
             "endlinecolor": "#2a3f5f",
             "gridcolor": "white",
             "linecolor": "white",
             "minorgridcolor": "white",
             "startlinecolor": "#2a3f5f"
            },
            "baxis": {
             "endlinecolor": "#2a3f5f",
             "gridcolor": "white",
             "linecolor": "white",
             "minorgridcolor": "white",
             "startlinecolor": "#2a3f5f"
            },
            "type": "carpet"
           }
          ],
          "choropleth": [
           {
            "colorbar": {
             "outlinewidth": 0,
             "ticks": ""
            },
            "type": "choropleth"
           }
          ],
          "contour": [
           {
            "colorbar": {
             "outlinewidth": 0,
             "ticks": ""
            },
            "colorscale": [
             [
              0,
              "#0d0887"
             ],
             [
              0.1111111111111111,
              "#46039f"
             ],
             [
              0.2222222222222222,
              "#7201a8"
             ],
             [
              0.3333333333333333,
              "#9c179e"
             ],
             [
              0.4444444444444444,
              "#bd3786"
             ],
             [
              0.5555555555555556,
              "#d8576b"
             ],
             [
              0.6666666666666666,
              "#ed7953"
             ],
             [
              0.7777777777777778,
              "#fb9f3a"
             ],
             [
              0.8888888888888888,
              "#fdca26"
             ],
             [
              1,
              "#f0f921"
             ]
            ],
            "type": "contour"
           }
          ],
          "contourcarpet": [
           {
            "colorbar": {
             "outlinewidth": 0,
             "ticks": ""
            },
            "type": "contourcarpet"
           }
          ],
          "heatmap": [
           {
            "colorbar": {
             "outlinewidth": 0,
             "ticks": ""
            },
            "colorscale": [
             [
              0,
              "#0d0887"
             ],
             [
              0.1111111111111111,
              "#46039f"
             ],
             [
              0.2222222222222222,
              "#7201a8"
             ],
             [
              0.3333333333333333,
              "#9c179e"
             ],
             [
              0.4444444444444444,
              "#bd3786"
             ],
             [
              0.5555555555555556,
              "#d8576b"
             ],
             [
              0.6666666666666666,
              "#ed7953"
             ],
             [
              0.7777777777777778,
              "#fb9f3a"
             ],
             [
              0.8888888888888888,
              "#fdca26"
             ],
             [
              1,
              "#f0f921"
             ]
            ],
            "type": "heatmap"
           }
          ],
          "heatmapgl": [
           {
            "colorbar": {
             "outlinewidth": 0,
             "ticks": ""
            },
            "colorscale": [
             [
              0,
              "#0d0887"
             ],
             [
              0.1111111111111111,
              "#46039f"
             ],
             [
              0.2222222222222222,
              "#7201a8"
             ],
             [
              0.3333333333333333,
              "#9c179e"
             ],
             [
              0.4444444444444444,
              "#bd3786"
             ],
             [
              0.5555555555555556,
              "#d8576b"
             ],
             [
              0.6666666666666666,
              "#ed7953"
             ],
             [
              0.7777777777777778,
              "#fb9f3a"
             ],
             [
              0.8888888888888888,
              "#fdca26"
             ],
             [
              1,
              "#f0f921"
             ]
            ],
            "type": "heatmapgl"
           }
          ],
          "histogram": [
           {
            "marker": {
             "pattern": {
              "fillmode": "overlay",
              "size": 10,
              "solidity": 0.2
             }
            },
            "type": "histogram"
           }
          ],
          "histogram2d": [
           {
            "colorbar": {
             "outlinewidth": 0,
             "ticks": ""
            },
            "colorscale": [
             [
              0,
              "#0d0887"
             ],
             [
              0.1111111111111111,
              "#46039f"
             ],
             [
              0.2222222222222222,
              "#7201a8"
             ],
             [
              0.3333333333333333,
              "#9c179e"
             ],
             [
              0.4444444444444444,
              "#bd3786"
             ],
             [
              0.5555555555555556,
              "#d8576b"
             ],
             [
              0.6666666666666666,
              "#ed7953"
             ],
             [
              0.7777777777777778,
              "#fb9f3a"
             ],
             [
              0.8888888888888888,
              "#fdca26"
             ],
             [
              1,
              "#f0f921"
             ]
            ],
            "type": "histogram2d"
           }
          ],
          "histogram2dcontour": [
           {
            "colorbar": {
             "outlinewidth": 0,
             "ticks": ""
            },
            "colorscale": [
             [
              0,
              "#0d0887"
             ],
             [
              0.1111111111111111,
              "#46039f"
             ],
             [
              0.2222222222222222,
              "#7201a8"
             ],
             [
              0.3333333333333333,
              "#9c179e"
             ],
             [
              0.4444444444444444,
              "#bd3786"
             ],
             [
              0.5555555555555556,
              "#d8576b"
             ],
             [
              0.6666666666666666,
              "#ed7953"
             ],
             [
              0.7777777777777778,
              "#fb9f3a"
             ],
             [
              0.8888888888888888,
              "#fdca26"
             ],
             [
              1,
              "#f0f921"
             ]
            ],
            "type": "histogram2dcontour"
           }
          ],
          "mesh3d": [
           {
            "colorbar": {
             "outlinewidth": 0,
             "ticks": ""
            },
            "type": "mesh3d"
           }
          ],
          "parcoords": [
           {
            "line": {
             "colorbar": {
              "outlinewidth": 0,
              "ticks": ""
             }
            },
            "type": "parcoords"
           }
          ],
          "pie": [
           {
            "automargin": true,
            "type": "pie"
           }
          ],
          "scatter": [
           {
            "marker": {
             "colorbar": {
              "outlinewidth": 0,
              "ticks": ""
             }
            },
            "type": "scatter"
           }
          ],
          "scatter3d": [
           {
            "line": {
             "colorbar": {
              "outlinewidth": 0,
              "ticks": ""
             }
            },
            "marker": {
             "colorbar": {
              "outlinewidth": 0,
              "ticks": ""
             }
            },
            "type": "scatter3d"
           }
          ],
          "scattercarpet": [
           {
            "marker": {
             "colorbar": {
              "outlinewidth": 0,
              "ticks": ""
             }
            },
            "type": "scattercarpet"
           }
          ],
          "scattergeo": [
           {
            "marker": {
             "colorbar": {
              "outlinewidth": 0,
              "ticks": ""
             }
            },
            "type": "scattergeo"
           }
          ],
          "scattergl": [
           {
            "marker": {
             "colorbar": {
              "outlinewidth": 0,
              "ticks": ""
             }
            },
            "type": "scattergl"
           }
          ],
          "scattermapbox": [
           {
            "marker": {
             "colorbar": {
              "outlinewidth": 0,
              "ticks": ""
             }
            },
            "type": "scattermapbox"
           }
          ],
          "scatterpolar": [
           {
            "marker": {
             "colorbar": {
              "outlinewidth": 0,
              "ticks": ""
             }
            },
            "type": "scatterpolar"
           }
          ],
          "scatterpolargl": [
           {
            "marker": {
             "colorbar": {
              "outlinewidth": 0,
              "ticks": ""
             }
            },
            "type": "scatterpolargl"
           }
          ],
          "scatterternary": [
           {
            "marker": {
             "colorbar": {
              "outlinewidth": 0,
              "ticks": ""
             }
            },
            "type": "scatterternary"
           }
          ],
          "surface": [
           {
            "colorbar": {
             "outlinewidth": 0,
             "ticks": ""
            },
            "colorscale": [
             [
              0,
              "#0d0887"
             ],
             [
              0.1111111111111111,
              "#46039f"
             ],
             [
              0.2222222222222222,
              "#7201a8"
             ],
             [
              0.3333333333333333,
              "#9c179e"
             ],
             [
              0.4444444444444444,
              "#bd3786"
             ],
             [
              0.5555555555555556,
              "#d8576b"
             ],
             [
              0.6666666666666666,
              "#ed7953"
             ],
             [
              0.7777777777777778,
              "#fb9f3a"
             ],
             [
              0.8888888888888888,
              "#fdca26"
             ],
             [
              1,
              "#f0f921"
             ]
            ],
            "type": "surface"
           }
          ],
          "table": [
           {
            "cells": {
             "fill": {
              "color": "#EBF0F8"
             },
             "line": {
              "color": "white"
             }
            },
            "header": {
             "fill": {
              "color": "#C8D4E3"
             },
             "line": {
              "color": "white"
             }
            },
            "type": "table"
           }
          ]
         },
         "layout": {
          "annotationdefaults": {
           "arrowcolor": "#2a3f5f",
           "arrowhead": 0,
           "arrowwidth": 1
          },
          "autotypenumbers": "strict",
          "coloraxis": {
           "colorbar": {
            "outlinewidth": 0,
            "ticks": ""
           }
          },
          "colorscale": {
           "diverging": [
            [
             0,
             "#8e0152"
            ],
            [
             0.1,
             "#c51b7d"
            ],
            [
             0.2,
             "#de77ae"
            ],
            [
             0.3,
             "#f1b6da"
            ],
            [
             0.4,
             "#fde0ef"
            ],
            [
             0.5,
             "#f7f7f7"
            ],
            [
             0.6,
             "#e6f5d0"
            ],
            [
             0.7,
             "#b8e186"
            ],
            [
             0.8,
             "#7fbc41"
            ],
            [
             0.9,
             "#4d9221"
            ],
            [
             1,
             "#276419"
            ]
           ],
           "sequential": [
            [
             0,
             "#0d0887"
            ],
            [
             0.1111111111111111,
             "#46039f"
            ],
            [
             0.2222222222222222,
             "#7201a8"
            ],
            [
             0.3333333333333333,
             "#9c179e"
            ],
            [
             0.4444444444444444,
             "#bd3786"
            ],
            [
             0.5555555555555556,
             "#d8576b"
            ],
            [
             0.6666666666666666,
             "#ed7953"
            ],
            [
             0.7777777777777778,
             "#fb9f3a"
            ],
            [
             0.8888888888888888,
             "#fdca26"
            ],
            [
             1,
             "#f0f921"
            ]
           ],
           "sequentialminus": [
            [
             0,
             "#0d0887"
            ],
            [
             0.1111111111111111,
             "#46039f"
            ],
            [
             0.2222222222222222,
             "#7201a8"
            ],
            [
             0.3333333333333333,
             "#9c179e"
            ],
            [
             0.4444444444444444,
             "#bd3786"
            ],
            [
             0.5555555555555556,
             "#d8576b"
            ],
            [
             0.6666666666666666,
             "#ed7953"
            ],
            [
             0.7777777777777778,
             "#fb9f3a"
            ],
            [
             0.8888888888888888,
             "#fdca26"
            ],
            [
             1,
             "#f0f921"
            ]
           ]
          },
          "colorway": [
           "#636efa",
           "#EF553B",
           "#00cc96",
           "#ab63fa",
           "#FFA15A",
           "#19d3f3",
           "#FF6692",
           "#B6E880",
           "#FF97FF",
           "#FECB52"
          ],
          "font": {
           "color": "#2a3f5f"
          },
          "geo": {
           "bgcolor": "white",
           "lakecolor": "white",
           "landcolor": "#E5ECF6",
           "showlakes": true,
           "showland": true,
           "subunitcolor": "white"
          },
          "hoverlabel": {
           "align": "left"
          },
          "hovermode": "closest",
          "mapbox": {
           "style": "light"
          },
          "paper_bgcolor": "white",
          "plot_bgcolor": "#E5ECF6",
          "polar": {
           "angularaxis": {
            "gridcolor": "white",
            "linecolor": "white",
            "ticks": ""
           },
           "bgcolor": "#E5ECF6",
           "radialaxis": {
            "gridcolor": "white",
            "linecolor": "white",
            "ticks": ""
           }
          },
          "scene": {
           "xaxis": {
            "backgroundcolor": "#E5ECF6",
            "gridcolor": "white",
            "gridwidth": 2,
            "linecolor": "white",
            "showbackground": true,
            "ticks": "",
            "zerolinecolor": "white"
           },
           "yaxis": {
            "backgroundcolor": "#E5ECF6",
            "gridcolor": "white",
            "gridwidth": 2,
            "linecolor": "white",
            "showbackground": true,
            "ticks": "",
            "zerolinecolor": "white"
           },
           "zaxis": {
            "backgroundcolor": "#E5ECF6",
            "gridcolor": "white",
            "gridwidth": 2,
            "linecolor": "white",
            "showbackground": true,
            "ticks": "",
            "zerolinecolor": "white"
           }
          },
          "shapedefaults": {
           "line": {
            "color": "#2a3f5f"
           }
          },
          "ternary": {
           "aaxis": {
            "gridcolor": "white",
            "linecolor": "white",
            "ticks": ""
           },
           "baxis": {
            "gridcolor": "white",
            "linecolor": "white",
            "ticks": ""
           },
           "bgcolor": "#E5ECF6",
           "caxis": {
            "gridcolor": "white",
            "linecolor": "white",
            "ticks": ""
           }
          },
          "title": {
           "x": 0.05
          },
          "xaxis": {
           "automargin": true,
           "gridcolor": "white",
           "linecolor": "white",
           "ticks": "",
           "title": {
            "standoff": 15
           },
           "zerolinecolor": "white",
           "zerolinewidth": 2
          },
          "yaxis": {
           "automargin": true,
           "gridcolor": "white",
           "linecolor": "white",
           "ticks": "",
           "title": {
            "standoff": 15
           },
           "zerolinecolor": "white",
           "zerolinewidth": 2
          }
         }
        },
        "title": {
         "text": "Quantidade vendida e renda na mesma escala, no mês de novembro"
        },
        "xaxis": {
         "anchor": "y",
         "domain": [
          0,
          1
         ],
         "title": {
          "text": "Data"
         }
        },
        "yaxis": {
         "anchor": "x",
         "domain": [
          0,
          1
         ],
         "title": {
          "text": "Valor/ Valor Máximo (%)"
         }
        }
       }
      },
      "text/html": [
       "<div>                            <div id=\"de6ddd99-c891-4edb-8532-1f531667e60a\" class=\"plotly-graph-div\" style=\"height:525px; width:100%;\"></div>            <script type=\"text/javascript\">                require([\"plotly\"], function(Plotly) {                    window.PLOTLYENV=window.PLOTLYENV || {};                                    if (document.getElementById(\"de6ddd99-c891-4edb-8532-1f531667e60a\")) {                    Plotly.newPlot(                        \"de6ddd99-c891-4edb-8532-1f531667e60a\",                        [{\"hovertemplate\":\"Linhas=Renda bruta total<br>date=%{x}<br>Valor/ Valor M\\u00e1ximo (%)=%{y}<extra></extra>\",\"legendgroup\":\"Renda bruta total\",\"line\":{\"color\":\"#636efa\",\"dash\":\"solid\"},\"marker\":{\"symbol\":\"circle\"},\"mode\":\"lines\",\"name\":\"Renda bruta total\",\"orientation\":\"v\",\"showlegend\":true,\"type\":\"scatter\",\"x\":[\"2021-11-01T00:00:00\",\"2021-11-02T00:00:00\",\"2021-11-03T00:00:00\",\"2021-11-04T00:00:00\",\"2021-11-05T00:00:00\",\"2021-11-06T00:00:00\",\"2021-11-07T00:00:00\",\"2021-11-08T00:00:00\",\"2021-11-09T00:00:00\",\"2021-11-10T00:00:00\",\"2021-11-11T00:00:00\",\"2021-11-12T00:00:00\",\"2021-11-13T00:00:00\",\"2021-11-14T00:00:00\",\"2021-11-15T00:00:00\",\"2021-11-16T00:00:00\",\"2021-11-17T00:00:00\",\"2021-11-18T00:00:00\",\"2021-11-19T00:00:00\",\"2021-11-20T00:00:00\",\"2021-11-21T00:00:00\",\"2021-11-22T00:00:00\",\"2021-11-23T00:00:00\",\"2021-11-24T00:00:00\",\"2021-11-25T00:00:00\",\"2021-11-26T00:00:00\",\"2021-11-27T00:00:00\",\"2021-11-28T00:00:00\",\"2021-11-29T00:00:00\",\"2021-11-30T00:00:00\"],\"xaxis\":\"x\",\"y\":[0.6690606124266965,0.4296994213816815,0.5188975146934539,0.7546612729603014,0.4028351157643777,0.5301067178677933,0.5940527547475861,0.6767318243332381,0.5627783776213305,1.0,0.5823427772050769,0.814584829549433,0.4035060719909981,0.5829681344648401,0.12381992316574113,0.05433605461453414,0.06339396367390891,0.05770956389473818,0.07904580904781232,0.051660372380705886,0.025195057723406494,0.061090401580330043,0.08449162851824547,0.06541090369009656,0.05855070197980955,0.0951137449942922,0.11109781141244453,0.07424488925150942,0.048895120747692894,0.11273693141752557],\"yaxis\":\"y\"},{\"hovertemplate\":\"Linhas=Quantidade de produtos vendidos<br>date=%{x}<br>Valor/ Valor M\\u00e1ximo (%)=%{y}<extra></extra>\",\"legendgroup\":\"Quantidade de produtos vendidos\",\"line\":{\"color\":\"#EF553B\",\"dash\":\"solid\"},\"marker\":{\"symbol\":\"circle\"},\"mode\":\"lines\",\"name\":\"Quantidade de produtos vendidos\",\"orientation\":\"v\",\"showlegend\":true,\"type\":\"scatter\",\"x\":[\"2021-11-01T00:00:00\",\"2021-11-02T00:00:00\",\"2021-11-03T00:00:00\",\"2021-11-04T00:00:00\",\"2021-11-05T00:00:00\",\"2021-11-06T00:00:00\",\"2021-11-07T00:00:00\",\"2021-11-08T00:00:00\",\"2021-11-09T00:00:00\",\"2021-11-10T00:00:00\",\"2021-11-11T00:00:00\",\"2021-11-12T00:00:00\",\"2021-11-13T00:00:00\",\"2021-11-14T00:00:00\",\"2021-11-15T00:00:00\",\"2021-11-16T00:00:00\",\"2021-11-17T00:00:00\",\"2021-11-18T00:00:00\",\"2021-11-19T00:00:00\",\"2021-11-20T00:00:00\",\"2021-11-21T00:00:00\",\"2021-11-22T00:00:00\",\"2021-11-23T00:00:00\",\"2021-11-24T00:00:00\",\"2021-11-25T00:00:00\",\"2021-11-26T00:00:00\",\"2021-11-27T00:00:00\",\"2021-11-28T00:00:00\",\"2021-11-29T00:00:00\",\"2021-11-30T00:00:00\"],\"xaxis\":\"x\",\"y\":[0.5229793977812995,0.4294770206022187,0.49920760697305866,0.6687797147385103,0.5356576862123613,0.49920760697305866,0.5816164817749604,0.6576862123613312,0.5990491283676703,1.0,0.6703645007923931,0.8098256735340729,0.5309033280507132,0.6148969889064976,0.0491283676703645,0.05229793977812995,0.060221870047543584,0.05229793977812995,0.0554675118858954,0.06656101426307448,0.042789223454833596,0.08082408874801902,0.0491283676703645,0.09984152139461172,0.0554675118858954,0.10142630744849446,0.06973058637083994,0.09033280507131537,0.0919175911251981,0.12361331220285261],\"yaxis\":\"y\"}],                        {\"legend\":{\"title\":{\"text\":\"Linhas\"},\"tracegroupgap\":0},\"template\":{\"data\":{\"bar\":[{\"error_x\":{\"color\":\"#2a3f5f\"},\"error_y\":{\"color\":\"#2a3f5f\"},\"marker\":{\"line\":{\"color\":\"#E5ECF6\",\"width\":0.5},\"pattern\":{\"fillmode\":\"overlay\",\"size\":10,\"solidity\":0.2}},\"type\":\"bar\"}],\"barpolar\":[{\"marker\":{\"line\":{\"color\":\"#E5ECF6\",\"width\":0.5},\"pattern\":{\"fillmode\":\"overlay\",\"size\":10,\"solidity\":0.2}},\"type\":\"barpolar\"}],\"carpet\":[{\"aaxis\":{\"endlinecolor\":\"#2a3f5f\",\"gridcolor\":\"white\",\"linecolor\":\"white\",\"minorgridcolor\":\"white\",\"startlinecolor\":\"#2a3f5f\"},\"baxis\":{\"endlinecolor\":\"#2a3f5f\",\"gridcolor\":\"white\",\"linecolor\":\"white\",\"minorgridcolor\":\"white\",\"startlinecolor\":\"#2a3f5f\"},\"type\":\"carpet\"}],\"choropleth\":[{\"colorbar\":{\"outlinewidth\":0,\"ticks\":\"\"},\"type\":\"choropleth\"}],\"contour\":[{\"colorbar\":{\"outlinewidth\":0,\"ticks\":\"\"},\"colorscale\":[[0.0,\"#0d0887\"],[0.1111111111111111,\"#46039f\"],[0.2222222222222222,\"#7201a8\"],[0.3333333333333333,\"#9c179e\"],[0.4444444444444444,\"#bd3786\"],[0.5555555555555556,\"#d8576b\"],[0.6666666666666666,\"#ed7953\"],[0.7777777777777778,\"#fb9f3a\"],[0.8888888888888888,\"#fdca26\"],[1.0,\"#f0f921\"]],\"type\":\"contour\"}],\"contourcarpet\":[{\"colorbar\":{\"outlinewidth\":0,\"ticks\":\"\"},\"type\":\"contourcarpet\"}],\"heatmap\":[{\"colorbar\":{\"outlinewidth\":0,\"ticks\":\"\"},\"colorscale\":[[0.0,\"#0d0887\"],[0.1111111111111111,\"#46039f\"],[0.2222222222222222,\"#7201a8\"],[0.3333333333333333,\"#9c179e\"],[0.4444444444444444,\"#bd3786\"],[0.5555555555555556,\"#d8576b\"],[0.6666666666666666,\"#ed7953\"],[0.7777777777777778,\"#fb9f3a\"],[0.8888888888888888,\"#fdca26\"],[1.0,\"#f0f921\"]],\"type\":\"heatmap\"}],\"heatmapgl\":[{\"colorbar\":{\"outlinewidth\":0,\"ticks\":\"\"},\"colorscale\":[[0.0,\"#0d0887\"],[0.1111111111111111,\"#46039f\"],[0.2222222222222222,\"#7201a8\"],[0.3333333333333333,\"#9c179e\"],[0.4444444444444444,\"#bd3786\"],[0.5555555555555556,\"#d8576b\"],[0.6666666666666666,\"#ed7953\"],[0.7777777777777778,\"#fb9f3a\"],[0.8888888888888888,\"#fdca26\"],[1.0,\"#f0f921\"]],\"type\":\"heatmapgl\"}],\"histogram\":[{\"marker\":{\"pattern\":{\"fillmode\":\"overlay\",\"size\":10,\"solidity\":0.2}},\"type\":\"histogram\"}],\"histogram2d\":[{\"colorbar\":{\"outlinewidth\":0,\"ticks\":\"\"},\"colorscale\":[[0.0,\"#0d0887\"],[0.1111111111111111,\"#46039f\"],[0.2222222222222222,\"#7201a8\"],[0.3333333333333333,\"#9c179e\"],[0.4444444444444444,\"#bd3786\"],[0.5555555555555556,\"#d8576b\"],[0.6666666666666666,\"#ed7953\"],[0.7777777777777778,\"#fb9f3a\"],[0.8888888888888888,\"#fdca26\"],[1.0,\"#f0f921\"]],\"type\":\"histogram2d\"}],\"histogram2dcontour\":[{\"colorbar\":{\"outlinewidth\":0,\"ticks\":\"\"},\"colorscale\":[[0.0,\"#0d0887\"],[0.1111111111111111,\"#46039f\"],[0.2222222222222222,\"#7201a8\"],[0.3333333333333333,\"#9c179e\"],[0.4444444444444444,\"#bd3786\"],[0.5555555555555556,\"#d8576b\"],[0.6666666666666666,\"#ed7953\"],[0.7777777777777778,\"#fb9f3a\"],[0.8888888888888888,\"#fdca26\"],[1.0,\"#f0f921\"]],\"type\":\"histogram2dcontour\"}],\"mesh3d\":[{\"colorbar\":{\"outlinewidth\":0,\"ticks\":\"\"},\"type\":\"mesh3d\"}],\"parcoords\":[{\"line\":{\"colorbar\":{\"outlinewidth\":0,\"ticks\":\"\"}},\"type\":\"parcoords\"}],\"pie\":[{\"automargin\":true,\"type\":\"pie\"}],\"scatter\":[{\"marker\":{\"colorbar\":{\"outlinewidth\":0,\"ticks\":\"\"}},\"type\":\"scatter\"}],\"scatter3d\":[{\"line\":{\"colorbar\":{\"outlinewidth\":0,\"ticks\":\"\"}},\"marker\":{\"colorbar\":{\"outlinewidth\":0,\"ticks\":\"\"}},\"type\":\"scatter3d\"}],\"scattercarpet\":[{\"marker\":{\"colorbar\":{\"outlinewidth\":0,\"ticks\":\"\"}},\"type\":\"scattercarpet\"}],\"scattergeo\":[{\"marker\":{\"colorbar\":{\"outlinewidth\":0,\"ticks\":\"\"}},\"type\":\"scattergeo\"}],\"scattergl\":[{\"marker\":{\"colorbar\":{\"outlinewidth\":0,\"ticks\":\"\"}},\"type\":\"scattergl\"}],\"scattermapbox\":[{\"marker\":{\"colorbar\":{\"outlinewidth\":0,\"ticks\":\"\"}},\"type\":\"scattermapbox\"}],\"scatterpolar\":[{\"marker\":{\"colorbar\":{\"outlinewidth\":0,\"ticks\":\"\"}},\"type\":\"scatterpolar\"}],\"scatterpolargl\":[{\"marker\":{\"colorbar\":{\"outlinewidth\":0,\"ticks\":\"\"}},\"type\":\"scatterpolargl\"}],\"scatterternary\":[{\"marker\":{\"colorbar\":{\"outlinewidth\":0,\"ticks\":\"\"}},\"type\":\"scatterternary\"}],\"surface\":[{\"colorbar\":{\"outlinewidth\":0,\"ticks\":\"\"},\"colorscale\":[[0.0,\"#0d0887\"],[0.1111111111111111,\"#46039f\"],[0.2222222222222222,\"#7201a8\"],[0.3333333333333333,\"#9c179e\"],[0.4444444444444444,\"#bd3786\"],[0.5555555555555556,\"#d8576b\"],[0.6666666666666666,\"#ed7953\"],[0.7777777777777778,\"#fb9f3a\"],[0.8888888888888888,\"#fdca26\"],[1.0,\"#f0f921\"]],\"type\":\"surface\"}],\"table\":[{\"cells\":{\"fill\":{\"color\":\"#EBF0F8\"},\"line\":{\"color\":\"white\"}},\"header\":{\"fill\":{\"color\":\"#C8D4E3\"},\"line\":{\"color\":\"white\"}},\"type\":\"table\"}]},\"layout\":{\"annotationdefaults\":{\"arrowcolor\":\"#2a3f5f\",\"arrowhead\":0,\"arrowwidth\":1},\"autotypenumbers\":\"strict\",\"coloraxis\":{\"colorbar\":{\"outlinewidth\":0,\"ticks\":\"\"}},\"colorscale\":{\"diverging\":[[0,\"#8e0152\"],[0.1,\"#c51b7d\"],[0.2,\"#de77ae\"],[0.3,\"#f1b6da\"],[0.4,\"#fde0ef\"],[0.5,\"#f7f7f7\"],[0.6,\"#e6f5d0\"],[0.7,\"#b8e186\"],[0.8,\"#7fbc41\"],[0.9,\"#4d9221\"],[1,\"#276419\"]],\"sequential\":[[0.0,\"#0d0887\"],[0.1111111111111111,\"#46039f\"],[0.2222222222222222,\"#7201a8\"],[0.3333333333333333,\"#9c179e\"],[0.4444444444444444,\"#bd3786\"],[0.5555555555555556,\"#d8576b\"],[0.6666666666666666,\"#ed7953\"],[0.7777777777777778,\"#fb9f3a\"],[0.8888888888888888,\"#fdca26\"],[1.0,\"#f0f921\"]],\"sequentialminus\":[[0.0,\"#0d0887\"],[0.1111111111111111,\"#46039f\"],[0.2222222222222222,\"#7201a8\"],[0.3333333333333333,\"#9c179e\"],[0.4444444444444444,\"#bd3786\"],[0.5555555555555556,\"#d8576b\"],[0.6666666666666666,\"#ed7953\"],[0.7777777777777778,\"#fb9f3a\"],[0.8888888888888888,\"#fdca26\"],[1.0,\"#f0f921\"]]},\"colorway\":[\"#636efa\",\"#EF553B\",\"#00cc96\",\"#ab63fa\",\"#FFA15A\",\"#19d3f3\",\"#FF6692\",\"#B6E880\",\"#FF97FF\",\"#FECB52\"],\"font\":{\"color\":\"#2a3f5f\"},\"geo\":{\"bgcolor\":\"white\",\"lakecolor\":\"white\",\"landcolor\":\"#E5ECF6\",\"showlakes\":true,\"showland\":true,\"subunitcolor\":\"white\"},\"hoverlabel\":{\"align\":\"left\"},\"hovermode\":\"closest\",\"mapbox\":{\"style\":\"light\"},\"paper_bgcolor\":\"white\",\"plot_bgcolor\":\"#E5ECF6\",\"polar\":{\"angularaxis\":{\"gridcolor\":\"white\",\"linecolor\":\"white\",\"ticks\":\"\"},\"bgcolor\":\"#E5ECF6\",\"radialaxis\":{\"gridcolor\":\"white\",\"linecolor\":\"white\",\"ticks\":\"\"}},\"scene\":{\"xaxis\":{\"backgroundcolor\":\"#E5ECF6\",\"gridcolor\":\"white\",\"gridwidth\":2,\"linecolor\":\"white\",\"showbackground\":true,\"ticks\":\"\",\"zerolinecolor\":\"white\"},\"yaxis\":{\"backgroundcolor\":\"#E5ECF6\",\"gridcolor\":\"white\",\"gridwidth\":2,\"linecolor\":\"white\",\"showbackground\":true,\"ticks\":\"\",\"zerolinecolor\":\"white\"},\"zaxis\":{\"backgroundcolor\":\"#E5ECF6\",\"gridcolor\":\"white\",\"gridwidth\":2,\"linecolor\":\"white\",\"showbackground\":true,\"ticks\":\"\",\"zerolinecolor\":\"white\"}},\"shapedefaults\":{\"line\":{\"color\":\"#2a3f5f\"}},\"ternary\":{\"aaxis\":{\"gridcolor\":\"white\",\"linecolor\":\"white\",\"ticks\":\"\"},\"baxis\":{\"gridcolor\":\"white\",\"linecolor\":\"white\",\"ticks\":\"\"},\"bgcolor\":\"#E5ECF6\",\"caxis\":{\"gridcolor\":\"white\",\"linecolor\":\"white\",\"ticks\":\"\"}},\"title\":{\"x\":0.05},\"xaxis\":{\"automargin\":true,\"gridcolor\":\"white\",\"linecolor\":\"white\",\"ticks\":\"\",\"title\":{\"standoff\":15},\"zerolinecolor\":\"white\",\"zerolinewidth\":2},\"yaxis\":{\"automargin\":true,\"gridcolor\":\"white\",\"linecolor\":\"white\",\"ticks\":\"\",\"title\":{\"standoff\":15},\"zerolinecolor\":\"white\",\"zerolinewidth\":2}}},\"title\":{\"text\":\"Quantidade vendida e renda na mesma escala, no m\\u00eas de novembro\"},\"xaxis\":{\"anchor\":\"y\",\"domain\":[0.0,1.0],\"title\":{\"text\":\"Data\"}},\"yaxis\":{\"anchor\":\"x\",\"domain\":[0.0,1.0],\"title\":{\"text\":\"Valor/ Valor M\\u00e1ximo (%)\"}}},                        {\"responsive\": true}                    ).then(function(){\n",
       "                            \n",
       "var gd = document.getElementById('de6ddd99-c891-4edb-8532-1f531667e60a');\n",
       "var x = new MutationObserver(function (mutations, observer) {{\n",
       "        var display = window.getComputedStyle(gd).display;\n",
       "        if (!display || display === 'none') {{\n",
       "            console.log([gd, 'removed!']);\n",
       "            Plotly.purge(gd);\n",
       "            observer.disconnect();\n",
       "        }}\n",
       "}});\n",
       "\n",
       "// Listen for the removal of the full notebook cells\n",
       "var notebookContainer = gd.closest('#notebook-container');\n",
       "if (notebookContainer) {{\n",
       "    x.observe(notebookContainer, {childList: true});\n",
       "}}\n",
       "\n",
       "// Listen for the clearing of the current output cell\n",
       "var outputEl = gd.closest('.output');\n",
       "if (outputEl) {{\n",
       "    x.observe(outputEl, {childList: true});\n",
       "}}\n",
       "\n",
       "                        })                };                });            </script>        </div>"
      ]
     },
     "metadata": {},
     "output_type": "display_data"
    }
   ],
   "source": [
    "from sklearn.preprocessing import MaxAbsScaler\n",
    "abs_scaler = MaxAbsScaler()\n",
    "\n",
    "venda_produtos_cliente_agrupado_por_dia=venda_produtos_cliente.groupby(\"data\").sum().sort_values('data')\n",
    "venda_produtos_cliente_agrupado_por_dia=venda_produtos_cliente_agrupado_por_dia[[\"total_preco\", \"quantidade\"]]\n",
    "\n",
    "#Normalizando os dados\n",
    "abs_scaler = MaxAbsScaler()\n",
    "abs_scaler.fit(venda_produtos_cliente_agrupado_por_dia)\n",
    "abs_scaler.max_abs_\n",
    "scaled_data = abs_scaler.transform(venda_produtos_cliente_agrupado_por_dia)\n",
    "df_scaled = pd.DataFrame(scaled_data, columns=venda_produtos_cliente_agrupado_por_dia.columns)\n",
    "df_scaled.transpose()\n",
    "# Definindo a datta com índice\n",
    "df_scaled['date'] = np.arange(np.datetime64('2021-11-01'), np.datetime64('2021-12-01'))\n",
    "df_scaled = df_scaled.set_index(['date'])\n",
    "df_scaled.rename(columns={'total_preco': 'Renda bruta total', \"quantidade\": \"Quantidade de produtos vendidos\"}, inplace = True)\n",
    "# Plotando o gráfico\n",
    "fig = px.line(df_scaled, labels={\"variable\":\"Linhas\", \"value\":\"Valor/ Valor Máximo (%)\"}, title=\"Renda bruta e quantidade vendida no mês de novembro\")\n",
    "fig.update_xaxes(title = 'Data')\n",
    "fig.update_yaxes(title = 'Valor/ Valor Máximo (%)')\n",
    "fig.show()"
   ]
  },
  {
   "cell_type": "code",
   "execution_count": 393,
   "id": "f6061940",
   "metadata": {},
   "outputs": [
    {
     "data": {
      "text/html": [
       "<div>\n",
       "<style scoped>\n",
       "    .dataframe tbody tr th:only-of-type {\n",
       "        vertical-align: middle;\n",
       "    }\n",
       "\n",
       "    .dataframe tbody tr th {\n",
       "        vertical-align: top;\n",
       "    }\n",
       "\n",
       "    .dataframe thead th {\n",
       "        text-align: right;\n",
       "    }\n",
       "</style>\n",
       "<table border=\"1\" class=\"dataframe\">\n",
       "  <thead>\n",
       "    <tr style=\"text-align: right;\">\n",
       "      <th></th>\n",
       "      <th>Renda bruta total</th>\n",
       "      <th>Quantidade de produtos vendidos</th>\n",
       "    </tr>\n",
       "    <tr>\n",
       "      <th>date</th>\n",
       "      <th></th>\n",
       "      <th></th>\n",
       "    </tr>\n",
       "  </thead>\n",
       "  <tbody>\n",
       "    <tr>\n",
       "      <th>2021-11-01</th>\n",
       "      <td>0.669061</td>\n",
       "      <td>0.522979</td>\n",
       "    </tr>\n",
       "    <tr>\n",
       "      <th>2021-11-02</th>\n",
       "      <td>0.429699</td>\n",
       "      <td>0.429477</td>\n",
       "    </tr>\n",
       "    <tr>\n",
       "      <th>2021-11-03</th>\n",
       "      <td>0.518898</td>\n",
       "      <td>0.499208</td>\n",
       "    </tr>\n",
       "    <tr>\n",
       "      <th>2021-11-04</th>\n",
       "      <td>0.754661</td>\n",
       "      <td>0.668780</td>\n",
       "    </tr>\n",
       "    <tr>\n",
       "      <th>2021-11-05</th>\n",
       "      <td>0.402835</td>\n",
       "      <td>0.535658</td>\n",
       "    </tr>\n",
       "    <tr>\n",
       "      <th>2021-11-06</th>\n",
       "      <td>0.530107</td>\n",
       "      <td>0.499208</td>\n",
       "    </tr>\n",
       "    <tr>\n",
       "      <th>2021-11-07</th>\n",
       "      <td>0.594053</td>\n",
       "      <td>0.581616</td>\n",
       "    </tr>\n",
       "    <tr>\n",
       "      <th>2021-11-08</th>\n",
       "      <td>0.676732</td>\n",
       "      <td>0.657686</td>\n",
       "    </tr>\n",
       "    <tr>\n",
       "      <th>2021-11-09</th>\n",
       "      <td>0.562778</td>\n",
       "      <td>0.599049</td>\n",
       "    </tr>\n",
       "    <tr>\n",
       "      <th>2021-11-10</th>\n",
       "      <td>1.000000</td>\n",
       "      <td>1.000000</td>\n",
       "    </tr>\n",
       "    <tr>\n",
       "      <th>2021-11-11</th>\n",
       "      <td>0.582343</td>\n",
       "      <td>0.670365</td>\n",
       "    </tr>\n",
       "    <tr>\n",
       "      <th>2021-11-12</th>\n",
       "      <td>0.814585</td>\n",
       "      <td>0.809826</td>\n",
       "    </tr>\n",
       "    <tr>\n",
       "      <th>2021-11-13</th>\n",
       "      <td>0.403506</td>\n",
       "      <td>0.530903</td>\n",
       "    </tr>\n",
       "    <tr>\n",
       "      <th>2021-11-14</th>\n",
       "      <td>0.582968</td>\n",
       "      <td>0.614897</td>\n",
       "    </tr>\n",
       "    <tr>\n",
       "      <th>2021-11-15</th>\n",
       "      <td>0.123820</td>\n",
       "      <td>0.049128</td>\n",
       "    </tr>\n",
       "    <tr>\n",
       "      <th>2021-11-16</th>\n",
       "      <td>0.054336</td>\n",
       "      <td>0.052298</td>\n",
       "    </tr>\n",
       "    <tr>\n",
       "      <th>2021-11-17</th>\n",
       "      <td>0.063394</td>\n",
       "      <td>0.060222</td>\n",
       "    </tr>\n",
       "    <tr>\n",
       "      <th>2021-11-18</th>\n",
       "      <td>0.057710</td>\n",
       "      <td>0.052298</td>\n",
       "    </tr>\n",
       "    <tr>\n",
       "      <th>2021-11-19</th>\n",
       "      <td>0.079046</td>\n",
       "      <td>0.055468</td>\n",
       "    </tr>\n",
       "    <tr>\n",
       "      <th>2021-11-20</th>\n",
       "      <td>0.051660</td>\n",
       "      <td>0.066561</td>\n",
       "    </tr>\n",
       "    <tr>\n",
       "      <th>2021-11-21</th>\n",
       "      <td>0.025195</td>\n",
       "      <td>0.042789</td>\n",
       "    </tr>\n",
       "    <tr>\n",
       "      <th>2021-11-22</th>\n",
       "      <td>0.061090</td>\n",
       "      <td>0.080824</td>\n",
       "    </tr>\n",
       "    <tr>\n",
       "      <th>2021-11-23</th>\n",
       "      <td>0.084492</td>\n",
       "      <td>0.049128</td>\n",
       "    </tr>\n",
       "    <tr>\n",
       "      <th>2021-11-24</th>\n",
       "      <td>0.065411</td>\n",
       "      <td>0.099842</td>\n",
       "    </tr>\n",
       "    <tr>\n",
       "      <th>2021-11-25</th>\n",
       "      <td>0.058551</td>\n",
       "      <td>0.055468</td>\n",
       "    </tr>\n",
       "    <tr>\n",
       "      <th>2021-11-26</th>\n",
       "      <td>0.095114</td>\n",
       "      <td>0.101426</td>\n",
       "    </tr>\n",
       "    <tr>\n",
       "      <th>2021-11-27</th>\n",
       "      <td>0.111098</td>\n",
       "      <td>0.069731</td>\n",
       "    </tr>\n",
       "    <tr>\n",
       "      <th>2021-11-28</th>\n",
       "      <td>0.074245</td>\n",
       "      <td>0.090333</td>\n",
       "    </tr>\n",
       "    <tr>\n",
       "      <th>2021-11-29</th>\n",
       "      <td>0.048895</td>\n",
       "      <td>0.091918</td>\n",
       "    </tr>\n",
       "    <tr>\n",
       "      <th>2021-11-30</th>\n",
       "      <td>0.112737</td>\n",
       "      <td>0.123613</td>\n",
       "    </tr>\n",
       "  </tbody>\n",
       "</table>\n",
       "</div>"
      ],
      "text/plain": [
       "            Renda bruta total  Quantidade de produtos vendidos\n",
       "date                                                          \n",
       "2021-11-01           0.669061                         0.522979\n",
       "2021-11-02           0.429699                         0.429477\n",
       "2021-11-03           0.518898                         0.499208\n",
       "2021-11-04           0.754661                         0.668780\n",
       "2021-11-05           0.402835                         0.535658\n",
       "2021-11-06           0.530107                         0.499208\n",
       "2021-11-07           0.594053                         0.581616\n",
       "2021-11-08           0.676732                         0.657686\n",
       "2021-11-09           0.562778                         0.599049\n",
       "2021-11-10           1.000000                         1.000000\n",
       "2021-11-11           0.582343                         0.670365\n",
       "2021-11-12           0.814585                         0.809826\n",
       "2021-11-13           0.403506                         0.530903\n",
       "2021-11-14           0.582968                         0.614897\n",
       "2021-11-15           0.123820                         0.049128\n",
       "2021-11-16           0.054336                         0.052298\n",
       "2021-11-17           0.063394                         0.060222\n",
       "2021-11-18           0.057710                         0.052298\n",
       "2021-11-19           0.079046                         0.055468\n",
       "2021-11-20           0.051660                         0.066561\n",
       "2021-11-21           0.025195                         0.042789\n",
       "2021-11-22           0.061090                         0.080824\n",
       "2021-11-23           0.084492                         0.049128\n",
       "2021-11-24           0.065411                         0.099842\n",
       "2021-11-25           0.058551                         0.055468\n",
       "2021-11-26           0.095114                         0.101426\n",
       "2021-11-27           0.111098                         0.069731\n",
       "2021-11-28           0.074245                         0.090333\n",
       "2021-11-29           0.048895                         0.091918\n",
       "2021-11-30           0.112737                         0.123613"
      ]
     },
     "execution_count": 393,
     "metadata": {},
     "output_type": "execute_result"
    }
   ],
   "source": [
    "df_scaled"
   ]
  },
  {
   "cell_type": "code",
   "execution_count": null,
   "id": "9690f59c",
   "metadata": {},
   "outputs": [],
   "source": []
  },
  {
   "cell_type": "code",
   "execution_count": null,
   "id": "be83371a",
   "metadata": {},
   "outputs": [],
   "source": []
  },
  {
   "cell_type": "code",
   "execution_count": null,
   "id": "1177beba",
   "metadata": {},
   "outputs": [],
   "source": []
  },
  {
   "cell_type": "code",
   "execution_count": null,
   "id": "d0f69316",
   "metadata": {},
   "outputs": [],
   "source": []
  },
  {
   "cell_type": "code",
   "execution_count": null,
   "id": "2734e7f8",
   "metadata": {},
   "outputs": [],
   "source": []
  },
  {
   "cell_type": "code",
   "execution_count": null,
   "id": "e087704b",
   "metadata": {},
   "outputs": [],
   "source": []
  },
  {
   "cell_type": "code",
   "execution_count": null,
   "id": "4c4e19b4",
   "metadata": {},
   "outputs": [],
   "source": []
  },
  {
   "cell_type": "code",
   "execution_count": null,
   "id": "1eaa395c",
   "metadata": {},
   "outputs": [],
   "source": []
  },
  {
   "cell_type": "code",
   "execution_count": null,
   "id": "43139ed6",
   "metadata": {},
   "outputs": [],
   "source": []
  }
 ],
 "metadata": {
  "kernelspec": {
   "display_name": "Python 3",
   "language": "python",
   "name": "python3"
  },
  "language_info": {
   "codemirror_mode": {
    "name": "ipython",
    "version": 3
   },
   "file_extension": ".py",
   "mimetype": "text/x-python",
   "name": "python",
   "nbconvert_exporter": "python",
   "pygments_lexer": "ipython3",
   "version": "3.8.8"
  }
 },
 "nbformat": 4,
 "nbformat_minor": 5
}
