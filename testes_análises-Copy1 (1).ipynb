{
 "cells": [
  {
   "cell_type": "code",
   "execution_count": 2,
   "id": "191c64a5",
   "metadata": {},
   "outputs": [
    {
     "name": "stdout",
     "output_type": "stream",
     "text": [
      "Collecting Faker\n",
      "  Downloading Faker-9.9.0-py3-none-any.whl (1.2 MB)\n",
      "Requirement already satisfied: python-dateutil>=2.4 in c:\\users\\vanes\\anaconda3\\lib\\site-packages (from Faker) (2.8.2)\n",
      "Collecting text-unidecode==1.3\n",
      "  Downloading text_unidecode-1.3-py2.py3-none-any.whl (78 kB)\n",
      "Requirement already satisfied: six>=1.5 in c:\\users\\vanes\\anaconda3\\lib\\site-packages (from python-dateutil>=2.4->Faker) (1.16.0)\n",
      "Installing collected packages: text-unidecode, Faker\n",
      "Successfully installed Faker-9.9.0 text-unidecode-1.3\n"
     ]
    }
   ],
   "source": [
    "!pip install Faker"
   ]
  },
  {
   "cell_type": "code",
   "execution_count": 1,
   "id": "e08f7679",
   "metadata": {},
   "outputs": [],
   "source": [
    "from numpy import random\n",
    "import pandas as pd\n",
    "import numpy as np\n",
    "import random as rd\n",
    "from faker import Faker\n",
    "import matplotlib.pyplot as plt\n",
    "import matplotlib as ptl\n",
    "import plotly.express as px\n",
    "\n",
    "fake = Faker(\"pt-BR\")\n",
    "\n",
    "def gerar_dados(quantidade_de_vendas = 500, quantidade_de_clientes = 200):\n",
    "\n",
    "    # Tabela de produtos\n",
    "    nome_dos_produtos = [\"morango\", \"melancia\", \"banana\", \"uva\", \"batata\", \"berinjela\", \"abobrinha\", \"alface\", \"couve-flor\", \"feijão\", \"arroz\", \"macarrão\", \"alcatra\", \"maminha\", \"bisteca suína\", \"carré de cordeiro\", \"costela\", \"paleta suína\", \"picanha\", \"peito de frango\", \"bolo\", \"pão de forma\", \"pão de queijo\", \"pão francês\", \"pastel\", \"sanduíche\", \"sonho\", \"torta\", \"amaciante\", \"água sanitária\", \"detergente\", \"flanela\", \"odorizador\", \"rodo\", \"sabão em pó\", \"sabonete\"]\n",
    "    secao_dos_produtos = [\"frutas_e_verduras\", \"frutas_e_verduras\", \"frutas_e_verduras\", \"frutas_e_verduras\", \"frutas_e_verduras\", \"frutas_e_verduras\", \"frutas_e_verduras\", \"frutas_e_verduras\", \"frutas_e_verduras\", \"frutas_e_verduras\", \"frutas_e_verduras\", \"frutas_e_verduras\", \"acougue\", \"acougue\", \"acougue\", \"acougue\", \"acougue\", \"acougue\", \"acougue\", \"acougue\", \"padaria\", \"padaria\", \"padaria\", \"padaria\", \"padaria\", \"padaria\", \"padaria\", \"padaria\", \"produtos_de_limpeza\", \"produtos_de_limpeza\", \"produtos_de_limpeza\", \"produtos_de_limpeza\", \"produtos_de_limpeza\", \"produtos_de_limpeza\", \"produtos_de_limpeza\", \"produtos_de_limpeza\"]\n",
    "    custo_dos_produtos = [4.30, 11.79, 2, 4.19, 2.39, 8.59, 2.69, 0.45, 3.19, 6.49, 15.89, 1.69, 23.19, 33.49, 15.73, 147.99, 16.39, 17.09, 43.35, 11.19, 17.89, 3.73, 17.04, 4.39, 3.19, 7.99, 1.79, 26.95, 5.19, 7.96, 1.3, 0.59, 14.38, 2.74, 6.15, 0.65]\n",
    "    preco_produtos = [7.99, 15.99, 5.99, 7.47, 3.99, 11.99, 3.49, 0.98, 5.48, 8.45, 4.31, 2.48, 31.99, 42.99, 22.79, 172, 20.99, 23.99, 70.89, 16.49, 35, 6.99, 23.99, 10.99, 4.99, 12.99, 3.49, 45, 6.70, 11.98, 2.70, 1.99, 23.99, 5.99, 9.69, 1.29]\n",
    "    prateleira_dos_produtos = [\"1A\", \"1C\", \"1B\", \"1D\", \"2B\", \"2D\", \"2A\", \"2C\", \"2E\", \"3B\", \"3A\", \"3C\", \"4A\", \"4B\", \"5A\", \"5B\", \"5C\", \"5D\", \"4C\", \"4D\", \"6A\", \"7A\", \"7B\", \"7C\", \"7D\", \"7E\", \"6B\", \"6C\", \"8A\", \"8B\", \"8C\", \"9A\", \"9B\", \"9C\", \"8D\", \"9D\"]\n",
    "    estoque_produtos = [50, 20, 40, 36, 47, 12, 19, 25, 20, 43, 80, 38, 7, 9, 5, 5, 10, 9, 6, 10, 7, 15, 1, 3, 9, 15, 20, 7, 12, 8, 40, 32, 6, 10, 13, 58]\n",
    "    unidade_de_medida_estoque = [\"bandeja\", \"unidade\", \"kg\", \"bandeja\", \"kg\", \"kg\", \"kg\", \"pé\", \"pé\", \"kg\", \"kg\", \"pacote\", \"kg\", \"kg\", \"kg\", \"kg\", \"kg\", \"kg\", \"kg\", \"kg\", \"kg\", \"pacote\", \"kg\", \"kg\", \"unidade\", \"unidade\", \"unidade\", \"kg\", \"unidade\", \"unidade\", \"unidade\", \"unidade\", \"unidade\", \"unidade\", \"unidade\", \"unidade\"]\n",
    "    imagem = [\"morango-alt.png\", \"melancia.jpg\", \"banana.png\", \"uva-alt.png\", \"batata.JPEG\", \"beringela.jpg\", \"abobrinha.JPEG\", \"alface.png\", \"couve-flor.png\", \"feijao.png\", \"arroz.png\", \"macarrao.jpg\", \"alcatra.jpg\", \"maminha.jpg\", \"bisteca_suina.jpg\", \"carre_de_cordeiro.jpg\", \"costela.jpg\", \"paleta_suina.jpg\", \"picanha.jpg\", \"peito_de_frango.jpg\", \"bolo.jpg\", \"pao_de_forma.jpg\", \"pao_de_queijo.jpg\", \"pao_frances.jpg\", \"pastel.jpg\", \"sanduiche.jpg\", \"sonho.jpg\", \"torta.jpg\", \"amaciante.jpg\", \"agua_sanitaria.jpg\", \"detergente.jpg\", \"flanela.jpg\", \"odorizador.jpg\", \"rodo.jpg\", \"sabao_em_po.jpg\", \"sabonete.jpg\"]\n",
    "\n",
    "    produtos = {\n",
    "        \"id\": list(range(len(nome_dos_produtos))),\n",
    "        \"nome\": nome_dos_produtos,\n",
    "        \"secao\": secao_dos_produtos,\n",
    "        \"custo\": custo_dos_produtos,\n",
    "        \"preco\": preco_produtos,\n",
    "        \"prateleira\": prateleira_dos_produtos,\n",
    "        \"estoque\": estoque_produtos,\n",
    "        \"unidade_de_medida_de_estoque\": unidade_de_medida_estoque,\n",
    "        \"imagem\": imagem\n",
    "    }\n",
    "\n",
    "    produtos = pd.DataFrame(produtos)\n",
    "\n",
    "    # Tabela de clientes\n",
    "    clientes = {\n",
    "        'id': list(range(quantidade_de_clientes)),\n",
    "        'nome': [],\n",
    "        'nascimento': [],\n",
    "        'endereco':[],\n",
    "        'cpf': [],\n",
    "        'telefone': [],\n",
    "        'usuario': [],\n",
    "        'senha': []\n",
    "    }\n",
    "\n",
    "    for id in clientes['id']:\n",
    "        clientes['nome'].append(fake.name())\n",
    "        clientes['nascimento'].append(fake.date_of_birth(minimum_age = 18, maximum_age = 73))\n",
    "        clientes['endereco'].append(fake.address())\n",
    "        clientes['cpf'].append(fake.cpf())\n",
    "        clientes['telefone'].append(fake.phone_number())\n",
    "        clientes['usuario'].append(fake.user_name())\n",
    "        clientes['senha'].append(fake.password(12))\n",
    "    \n",
    "    clientes = pd.DataFrame(clientes)\n",
    "\n",
    "    # Tabela de vendas\n",
    "    datas = np.arange(np.datetime64('2021-11-01'), np.datetime64('2021-12-01'))\n",
    "    probabilidade = np.linspace(1, 2, num=datas.size)\n",
    "    probabilidade = probabilidade / probabilidade.sum()\n",
    "    datas = np.random.choice(datas, p=probabilidade, size=quantidade_de_vendas)\n",
    "    datas.sort()\n",
    "    vendas = {\n",
    "        'id' : [],\n",
    "        'id_clientes' : [],\n",
    "        'data' : []\n",
    "    }\n",
    "    for id, data in enumerate(datas):\n",
    "        vendas['id'].append(id)\n",
    "        vendas['id_clientes'].append(np.random.choice(clientes['id']))\n",
    "        vendas['data'].append(data)\n",
    "\n",
    "    vendas = pd.DataFrame(vendas)\n",
    "    vendas[\"data\"] = vendas[\"data\"].dt.strftime('%Y-%m-%d')\n",
    "\n",
    "    # Tabela intermediária entre vendas e produtos\n",
    "    venda_produtos = {\n",
    "        'id_vendas' : [],\n",
    "        'id_produtos' : [],\n",
    "        'quantidade' : []\n",
    "    }\n",
    "\n",
    "    for id in range(quantidade_de_vendas):\n",
    "        venda_produtos['id_vendas'].append(vendas['id'][id])\n",
    "        venda_produtos['id_produtos'].append(np.random.choice(produtos['id']))\n",
    "        venda_produtos['quantidade'].append(random.randint(1, 5))\n",
    "\n",
    "    for id in range(4 * quantidade_de_vendas):\n",
    "        venda_produtos['id_vendas'].append(np.random.choice(clientes['id']))\n",
    "        venda_produtos['id_produtos'].append(np.random.choice(produtos['id']))\n",
    "        venda_produtos['quantidade'].append(random.randint(1, 5))\n",
    "\n",
    "    venda_produtos = pd.DataFrame(venda_produtos)\n",
    "    \n",
    "    return (produtos,clientes,vendas,venda_produtos)\n",
    "\n",
    "dados = gerar_dados()\n",
    "produtos = dados[0]\n",
    "clientes = dados[1]\n",
    "vendas = dados[2]\n",
    "venda_produtos = dados[3]"
   ]
  },
  {
   "cell_type": "markdown",
   "id": "972ecad5",
   "metadata": {},
   "source": [
    "## Tabelas"
   ]
  },
  {
   "cell_type": "code",
   "execution_count": 2,
   "id": "1615750f",
   "metadata": {},
   "outputs": [],
   "source": [
    "p = gerar_dados(quantidade_de_vendas = 500, quantidade_de_clientes = 200)"
   ]
  },
  {
   "cell_type": "code",
   "execution_count": 3,
   "id": "5b81954a",
   "metadata": {},
   "outputs": [
    {
     "data": {
      "text/html": [
       "<div>\n",
       "<style scoped>\n",
       "    .dataframe tbody tr th:only-of-type {\n",
       "        vertical-align: middle;\n",
       "    }\n",
       "\n",
       "    .dataframe tbody tr th {\n",
       "        vertical-align: top;\n",
       "    }\n",
       "\n",
       "    .dataframe thead th {\n",
       "        text-align: right;\n",
       "    }\n",
       "</style>\n",
       "<table border=\"1\" class=\"dataframe\">\n",
       "  <thead>\n",
       "    <tr style=\"text-align: right;\">\n",
       "      <th></th>\n",
       "      <th>id_produtos</th>\n",
       "      <th>nome</th>\n",
       "      <th>secao</th>\n",
       "      <th>custo</th>\n",
       "      <th>preco</th>\n",
       "      <th>prateleira</th>\n",
       "      <th>estoque</th>\n",
       "      <th>unidade_de_medida_de_estoque</th>\n",
       "      <th>imagem</th>\n",
       "    </tr>\n",
       "  </thead>\n",
       "  <tbody>\n",
       "    <tr>\n",
       "      <th>0</th>\n",
       "      <td>0</td>\n",
       "      <td>morango</td>\n",
       "      <td>Alimentos em Geral</td>\n",
       "      <td>4.30</td>\n",
       "      <td>7.99</td>\n",
       "      <td>1A</td>\n",
       "      <td>50</td>\n",
       "      <td>bandeja</td>\n",
       "      <td>morango-alt.png</td>\n",
       "    </tr>\n",
       "    <tr>\n",
       "      <th>1</th>\n",
       "      <td>1</td>\n",
       "      <td>melancia</td>\n",
       "      <td>Alimentos em Geral</td>\n",
       "      <td>11.79</td>\n",
       "      <td>15.99</td>\n",
       "      <td>1C</td>\n",
       "      <td>20</td>\n",
       "      <td>unidade</td>\n",
       "      <td>melancia.jpg</td>\n",
       "    </tr>\n",
       "    <tr>\n",
       "      <th>2</th>\n",
       "      <td>2</td>\n",
       "      <td>banana</td>\n",
       "      <td>Alimentos em Geral</td>\n",
       "      <td>2.00</td>\n",
       "      <td>5.99</td>\n",
       "      <td>1B</td>\n",
       "      <td>40</td>\n",
       "      <td>kg</td>\n",
       "      <td>banana.png</td>\n",
       "    </tr>\n",
       "    <tr>\n",
       "      <th>3</th>\n",
       "      <td>3</td>\n",
       "      <td>uva</td>\n",
       "      <td>Alimentos em Geral</td>\n",
       "      <td>4.19</td>\n",
       "      <td>7.47</td>\n",
       "      <td>1D</td>\n",
       "      <td>36</td>\n",
       "      <td>bandeja</td>\n",
       "      <td>uva-alt.png</td>\n",
       "    </tr>\n",
       "    <tr>\n",
       "      <th>4</th>\n",
       "      <td>4</td>\n",
       "      <td>batata</td>\n",
       "      <td>Alimentos em Geral</td>\n",
       "      <td>2.39</td>\n",
       "      <td>3.99</td>\n",
       "      <td>2B</td>\n",
       "      <td>47</td>\n",
       "      <td>kg</td>\n",
       "      <td>batata.JPEG</td>\n",
       "    </tr>\n",
       "    <tr>\n",
       "      <th>5</th>\n",
       "      <td>5</td>\n",
       "      <td>berinjela</td>\n",
       "      <td>Alimentos em Geral</td>\n",
       "      <td>8.59</td>\n",
       "      <td>11.99</td>\n",
       "      <td>2D</td>\n",
       "      <td>12</td>\n",
       "      <td>kg</td>\n",
       "      <td>beringela.jpg</td>\n",
       "    </tr>\n",
       "    <tr>\n",
       "      <th>6</th>\n",
       "      <td>6</td>\n",
       "      <td>abobrinha</td>\n",
       "      <td>Alimentos em Geral</td>\n",
       "      <td>2.69</td>\n",
       "      <td>3.49</td>\n",
       "      <td>2A</td>\n",
       "      <td>19</td>\n",
       "      <td>kg</td>\n",
       "      <td>abobrinha.JPEG</td>\n",
       "    </tr>\n",
       "    <tr>\n",
       "      <th>7</th>\n",
       "      <td>7</td>\n",
       "      <td>alface</td>\n",
       "      <td>Alimentos em Geral</td>\n",
       "      <td>0.45</td>\n",
       "      <td>0.98</td>\n",
       "      <td>2C</td>\n",
       "      <td>25</td>\n",
       "      <td>pé</td>\n",
       "      <td>alface.png</td>\n",
       "    </tr>\n",
       "    <tr>\n",
       "      <th>8</th>\n",
       "      <td>8</td>\n",
       "      <td>couve-flor</td>\n",
       "      <td>Alimentos em Geral</td>\n",
       "      <td>3.19</td>\n",
       "      <td>5.48</td>\n",
       "      <td>2E</td>\n",
       "      <td>20</td>\n",
       "      <td>pé</td>\n",
       "      <td>couve-flor.png</td>\n",
       "    </tr>\n",
       "    <tr>\n",
       "      <th>9</th>\n",
       "      <td>9</td>\n",
       "      <td>feijão</td>\n",
       "      <td>Alimentos em Geral</td>\n",
       "      <td>6.49</td>\n",
       "      <td>8.45</td>\n",
       "      <td>3B</td>\n",
       "      <td>43</td>\n",
       "      <td>kg</td>\n",
       "      <td>feijao.png</td>\n",
       "    </tr>\n",
       "    <tr>\n",
       "      <th>10</th>\n",
       "      <td>10</td>\n",
       "      <td>arroz</td>\n",
       "      <td>Alimentos em Geral</td>\n",
       "      <td>15.89</td>\n",
       "      <td>4.31</td>\n",
       "      <td>3A</td>\n",
       "      <td>80</td>\n",
       "      <td>kg</td>\n",
       "      <td>arroz.png</td>\n",
       "    </tr>\n",
       "    <tr>\n",
       "      <th>11</th>\n",
       "      <td>11</td>\n",
       "      <td>macarrão</td>\n",
       "      <td>Alimentos em Geral</td>\n",
       "      <td>1.69</td>\n",
       "      <td>2.48</td>\n",
       "      <td>3C</td>\n",
       "      <td>38</td>\n",
       "      <td>pacote</td>\n",
       "      <td>macarrao.jpg</td>\n",
       "    </tr>\n",
       "    <tr>\n",
       "      <th>12</th>\n",
       "      <td>12</td>\n",
       "      <td>alcatra</td>\n",
       "      <td>Açougue</td>\n",
       "      <td>23.19</td>\n",
       "      <td>31.99</td>\n",
       "      <td>4A</td>\n",
       "      <td>7</td>\n",
       "      <td>kg</td>\n",
       "      <td>alcatra.jpg</td>\n",
       "    </tr>\n",
       "    <tr>\n",
       "      <th>13</th>\n",
       "      <td>13</td>\n",
       "      <td>maminha</td>\n",
       "      <td>Açougue</td>\n",
       "      <td>33.49</td>\n",
       "      <td>42.99</td>\n",
       "      <td>4B</td>\n",
       "      <td>9</td>\n",
       "      <td>kg</td>\n",
       "      <td>maminha.jpg</td>\n",
       "    </tr>\n",
       "    <tr>\n",
       "      <th>14</th>\n",
       "      <td>14</td>\n",
       "      <td>bisteca suína</td>\n",
       "      <td>Açougue</td>\n",
       "      <td>15.73</td>\n",
       "      <td>22.79</td>\n",
       "      <td>5A</td>\n",
       "      <td>5</td>\n",
       "      <td>kg</td>\n",
       "      <td>bisteca_suina.jpg</td>\n",
       "    </tr>\n",
       "    <tr>\n",
       "      <th>15</th>\n",
       "      <td>15</td>\n",
       "      <td>carré de cordeiro</td>\n",
       "      <td>Açougue</td>\n",
       "      <td>147.99</td>\n",
       "      <td>172.00</td>\n",
       "      <td>5B</td>\n",
       "      <td>5</td>\n",
       "      <td>kg</td>\n",
       "      <td>carre_de_cordeiro.jpg</td>\n",
       "    </tr>\n",
       "    <tr>\n",
       "      <th>16</th>\n",
       "      <td>16</td>\n",
       "      <td>costela</td>\n",
       "      <td>Açougue</td>\n",
       "      <td>16.39</td>\n",
       "      <td>20.99</td>\n",
       "      <td>5C</td>\n",
       "      <td>10</td>\n",
       "      <td>kg</td>\n",
       "      <td>costela.jpg</td>\n",
       "    </tr>\n",
       "    <tr>\n",
       "      <th>17</th>\n",
       "      <td>17</td>\n",
       "      <td>paleta suína</td>\n",
       "      <td>Açougue</td>\n",
       "      <td>17.09</td>\n",
       "      <td>23.99</td>\n",
       "      <td>5D</td>\n",
       "      <td>9</td>\n",
       "      <td>kg</td>\n",
       "      <td>paleta_suina.jpg</td>\n",
       "    </tr>\n",
       "    <tr>\n",
       "      <th>18</th>\n",
       "      <td>18</td>\n",
       "      <td>picanha</td>\n",
       "      <td>Açougue</td>\n",
       "      <td>43.35</td>\n",
       "      <td>70.89</td>\n",
       "      <td>4C</td>\n",
       "      <td>6</td>\n",
       "      <td>kg</td>\n",
       "      <td>picanha.jpg</td>\n",
       "    </tr>\n",
       "    <tr>\n",
       "      <th>19</th>\n",
       "      <td>19</td>\n",
       "      <td>peito de frango</td>\n",
       "      <td>Açougue</td>\n",
       "      <td>11.19</td>\n",
       "      <td>16.49</td>\n",
       "      <td>4D</td>\n",
       "      <td>10</td>\n",
       "      <td>kg</td>\n",
       "      <td>peito_de_frango.jpg</td>\n",
       "    </tr>\n",
       "    <tr>\n",
       "      <th>20</th>\n",
       "      <td>20</td>\n",
       "      <td>bolo</td>\n",
       "      <td>Padaria</td>\n",
       "      <td>17.89</td>\n",
       "      <td>35.00</td>\n",
       "      <td>6A</td>\n",
       "      <td>7</td>\n",
       "      <td>kg</td>\n",
       "      <td>bolo.jpg</td>\n",
       "    </tr>\n",
       "    <tr>\n",
       "      <th>21</th>\n",
       "      <td>21</td>\n",
       "      <td>pão de forma</td>\n",
       "      <td>Padaria</td>\n",
       "      <td>3.73</td>\n",
       "      <td>6.99</td>\n",
       "      <td>7A</td>\n",
       "      <td>15</td>\n",
       "      <td>pacote</td>\n",
       "      <td>pao_de_forma.jpg</td>\n",
       "    </tr>\n",
       "    <tr>\n",
       "      <th>22</th>\n",
       "      <td>22</td>\n",
       "      <td>pão de queijo</td>\n",
       "      <td>Padaria</td>\n",
       "      <td>17.04</td>\n",
       "      <td>23.99</td>\n",
       "      <td>7B</td>\n",
       "      <td>1</td>\n",
       "      <td>kg</td>\n",
       "      <td>pao_de_queijo.jpg</td>\n",
       "    </tr>\n",
       "    <tr>\n",
       "      <th>23</th>\n",
       "      <td>23</td>\n",
       "      <td>pão francês</td>\n",
       "      <td>Padaria</td>\n",
       "      <td>4.39</td>\n",
       "      <td>10.99</td>\n",
       "      <td>7C</td>\n",
       "      <td>3</td>\n",
       "      <td>kg</td>\n",
       "      <td>pao_frances.jpg</td>\n",
       "    </tr>\n",
       "    <tr>\n",
       "      <th>24</th>\n",
       "      <td>24</td>\n",
       "      <td>pastel</td>\n",
       "      <td>Padaria</td>\n",
       "      <td>3.19</td>\n",
       "      <td>4.99</td>\n",
       "      <td>7D</td>\n",
       "      <td>9</td>\n",
       "      <td>unidade</td>\n",
       "      <td>pastel.jpg</td>\n",
       "    </tr>\n",
       "    <tr>\n",
       "      <th>25</th>\n",
       "      <td>25</td>\n",
       "      <td>sanduíche</td>\n",
       "      <td>Padaria</td>\n",
       "      <td>7.99</td>\n",
       "      <td>12.99</td>\n",
       "      <td>7E</td>\n",
       "      <td>15</td>\n",
       "      <td>unidade</td>\n",
       "      <td>sanduiche.jpg</td>\n",
       "    </tr>\n",
       "    <tr>\n",
       "      <th>26</th>\n",
       "      <td>26</td>\n",
       "      <td>sonho</td>\n",
       "      <td>Padaria</td>\n",
       "      <td>1.79</td>\n",
       "      <td>3.49</td>\n",
       "      <td>6B</td>\n",
       "      <td>20</td>\n",
       "      <td>unidade</td>\n",
       "      <td>sonho.jpg</td>\n",
       "    </tr>\n",
       "    <tr>\n",
       "      <th>27</th>\n",
       "      <td>27</td>\n",
       "      <td>torta</td>\n",
       "      <td>Padaria</td>\n",
       "      <td>26.95</td>\n",
       "      <td>45.00</td>\n",
       "      <td>6C</td>\n",
       "      <td>7</td>\n",
       "      <td>kg</td>\n",
       "      <td>torta.jpg</td>\n",
       "    </tr>\n",
       "    <tr>\n",
       "      <th>28</th>\n",
       "      <td>28</td>\n",
       "      <td>amaciante</td>\n",
       "      <td>Produtos de Limpeza</td>\n",
       "      <td>5.19</td>\n",
       "      <td>6.70</td>\n",
       "      <td>8A</td>\n",
       "      <td>12</td>\n",
       "      <td>unidade</td>\n",
       "      <td>amaciante.jpg</td>\n",
       "    </tr>\n",
       "    <tr>\n",
       "      <th>29</th>\n",
       "      <td>29</td>\n",
       "      <td>água sanitária</td>\n",
       "      <td>Produtos de Limpeza</td>\n",
       "      <td>7.96</td>\n",
       "      <td>11.98</td>\n",
       "      <td>8B</td>\n",
       "      <td>8</td>\n",
       "      <td>unidade</td>\n",
       "      <td>agua_sanitaria.jpg</td>\n",
       "    </tr>\n",
       "    <tr>\n",
       "      <th>30</th>\n",
       "      <td>30</td>\n",
       "      <td>detergente</td>\n",
       "      <td>Produtos de Limpeza</td>\n",
       "      <td>1.30</td>\n",
       "      <td>2.70</td>\n",
       "      <td>8C</td>\n",
       "      <td>40</td>\n",
       "      <td>unidade</td>\n",
       "      <td>detergente.jpg</td>\n",
       "    </tr>\n",
       "    <tr>\n",
       "      <th>31</th>\n",
       "      <td>31</td>\n",
       "      <td>flanela</td>\n",
       "      <td>Produtos de Limpeza</td>\n",
       "      <td>0.59</td>\n",
       "      <td>1.99</td>\n",
       "      <td>9A</td>\n",
       "      <td>32</td>\n",
       "      <td>unidade</td>\n",
       "      <td>flanela.jpg</td>\n",
       "    </tr>\n",
       "    <tr>\n",
       "      <th>32</th>\n",
       "      <td>32</td>\n",
       "      <td>odorizador</td>\n",
       "      <td>Produtos de Limpeza</td>\n",
       "      <td>14.38</td>\n",
       "      <td>23.99</td>\n",
       "      <td>9B</td>\n",
       "      <td>6</td>\n",
       "      <td>unidade</td>\n",
       "      <td>odorizador.jpg</td>\n",
       "    </tr>\n",
       "    <tr>\n",
       "      <th>33</th>\n",
       "      <td>33</td>\n",
       "      <td>rodo</td>\n",
       "      <td>Produtos de Limpeza</td>\n",
       "      <td>2.74</td>\n",
       "      <td>5.99</td>\n",
       "      <td>9C</td>\n",
       "      <td>10</td>\n",
       "      <td>unidade</td>\n",
       "      <td>rodo.jpg</td>\n",
       "    </tr>\n",
       "    <tr>\n",
       "      <th>34</th>\n",
       "      <td>34</td>\n",
       "      <td>sabão em pó</td>\n",
       "      <td>Produtos de Limpeza</td>\n",
       "      <td>6.15</td>\n",
       "      <td>9.69</td>\n",
       "      <td>8D</td>\n",
       "      <td>13</td>\n",
       "      <td>unidade</td>\n",
       "      <td>sabao_em_po.jpg</td>\n",
       "    </tr>\n",
       "    <tr>\n",
       "      <th>35</th>\n",
       "      <td>35</td>\n",
       "      <td>sabonete</td>\n",
       "      <td>Produtos de Limpeza</td>\n",
       "      <td>0.65</td>\n",
       "      <td>1.29</td>\n",
       "      <td>9D</td>\n",
       "      <td>58</td>\n",
       "      <td>unidade</td>\n",
       "      <td>sabonete.jpg</td>\n",
       "    </tr>\n",
       "  </tbody>\n",
       "</table>\n",
       "</div>"
      ],
      "text/plain": [
       "    id_produtos               nome                secao   custo   preco  \\\n",
       "0             0            morango   Alimentos em Geral    4.30    7.99   \n",
       "1             1           melancia   Alimentos em Geral   11.79   15.99   \n",
       "2             2             banana   Alimentos em Geral    2.00    5.99   \n",
       "3             3                uva   Alimentos em Geral    4.19    7.47   \n",
       "4             4             batata   Alimentos em Geral    2.39    3.99   \n",
       "5             5          berinjela   Alimentos em Geral    8.59   11.99   \n",
       "6             6          abobrinha   Alimentos em Geral    2.69    3.49   \n",
       "7             7             alface   Alimentos em Geral    0.45    0.98   \n",
       "8             8         couve-flor   Alimentos em Geral    3.19    5.48   \n",
       "9             9             feijão   Alimentos em Geral    6.49    8.45   \n",
       "10           10              arroz   Alimentos em Geral   15.89    4.31   \n",
       "11           11           macarrão   Alimentos em Geral    1.69    2.48   \n",
       "12           12            alcatra              Açougue   23.19   31.99   \n",
       "13           13            maminha              Açougue   33.49   42.99   \n",
       "14           14      bisteca suína              Açougue   15.73   22.79   \n",
       "15           15  carré de cordeiro              Açougue  147.99  172.00   \n",
       "16           16            costela              Açougue   16.39   20.99   \n",
       "17           17       paleta suína              Açougue   17.09   23.99   \n",
       "18           18            picanha              Açougue   43.35   70.89   \n",
       "19           19    peito de frango              Açougue   11.19   16.49   \n",
       "20           20               bolo              Padaria   17.89   35.00   \n",
       "21           21       pão de forma              Padaria    3.73    6.99   \n",
       "22           22      pão de queijo              Padaria   17.04   23.99   \n",
       "23           23        pão francês              Padaria    4.39   10.99   \n",
       "24           24             pastel              Padaria    3.19    4.99   \n",
       "25           25          sanduíche              Padaria    7.99   12.99   \n",
       "26           26              sonho              Padaria    1.79    3.49   \n",
       "27           27              torta              Padaria   26.95   45.00   \n",
       "28           28          amaciante  Produtos de Limpeza    5.19    6.70   \n",
       "29           29     água sanitária  Produtos de Limpeza    7.96   11.98   \n",
       "30           30         detergente  Produtos de Limpeza    1.30    2.70   \n",
       "31           31            flanela  Produtos de Limpeza    0.59    1.99   \n",
       "32           32         odorizador  Produtos de Limpeza   14.38   23.99   \n",
       "33           33               rodo  Produtos de Limpeza    2.74    5.99   \n",
       "34           34        sabão em pó  Produtos de Limpeza    6.15    9.69   \n",
       "35           35           sabonete  Produtos de Limpeza    0.65    1.29   \n",
       "\n",
       "   prateleira  estoque unidade_de_medida_de_estoque                 imagem  \n",
       "0          1A       50                      bandeja        morango-alt.png  \n",
       "1          1C       20                      unidade           melancia.jpg  \n",
       "2          1B       40                           kg             banana.png  \n",
       "3          1D       36                      bandeja            uva-alt.png  \n",
       "4          2B       47                           kg            batata.JPEG  \n",
       "5          2D       12                           kg          beringela.jpg  \n",
       "6          2A       19                           kg         abobrinha.JPEG  \n",
       "7          2C       25                           pé             alface.png  \n",
       "8          2E       20                           pé         couve-flor.png  \n",
       "9          3B       43                           kg             feijao.png  \n",
       "10         3A       80                           kg              arroz.png  \n",
       "11         3C       38                       pacote           macarrao.jpg  \n",
       "12         4A        7                           kg            alcatra.jpg  \n",
       "13         4B        9                           kg            maminha.jpg  \n",
       "14         5A        5                           kg      bisteca_suina.jpg  \n",
       "15         5B        5                           kg  carre_de_cordeiro.jpg  \n",
       "16         5C       10                           kg            costela.jpg  \n",
       "17         5D        9                           kg       paleta_suina.jpg  \n",
       "18         4C        6                           kg            picanha.jpg  \n",
       "19         4D       10                           kg    peito_de_frango.jpg  \n",
       "20         6A        7                           kg               bolo.jpg  \n",
       "21         7A       15                       pacote       pao_de_forma.jpg  \n",
       "22         7B        1                           kg      pao_de_queijo.jpg  \n",
       "23         7C        3                           kg        pao_frances.jpg  \n",
       "24         7D        9                      unidade             pastel.jpg  \n",
       "25         7E       15                      unidade          sanduiche.jpg  \n",
       "26         6B       20                      unidade              sonho.jpg  \n",
       "27         6C        7                           kg              torta.jpg  \n",
       "28         8A       12                      unidade          amaciante.jpg  \n",
       "29         8B        8                      unidade     agua_sanitaria.jpg  \n",
       "30         8C       40                      unidade         detergente.jpg  \n",
       "31         9A       32                      unidade            flanela.jpg  \n",
       "32         9B        6                      unidade         odorizador.jpg  \n",
       "33         9C       10                      unidade               rodo.jpg  \n",
       "34         8D       13                      unidade        sabao_em_po.jpg  \n",
       "35         9D       58                      unidade           sabonete.jpg  "
      ]
     },
     "execution_count": 3,
     "metadata": {},
     "output_type": "execute_result"
    }
   ],
   "source": [
    "produtos=p[0]\n",
    "#renomenado a coluna id para id produto na tabela de produtos\n",
    "produtos.rename(columns={\"id\": \"id_produtos\"}, inplace = 1)\n",
    "produtos[\"secao\"].replace({\"frutas_e_verduras\":\"Alimentos em Geral\", \"acougue\": \"Açougue\", \"padaria\":\"Padaria\", \"produtos_de_limpeza\": \"Produtos de Limpeza\"}, inplace=True)\n",
    "produtos"
   ]
  },
  {
   "cell_type": "code",
   "execution_count": 4,
   "id": "b77c2dab",
   "metadata": {},
   "outputs": [
    {
     "data": {
      "text/html": [
       "<div>\n",
       "<style scoped>\n",
       "    .dataframe tbody tr th:only-of-type {\n",
       "        vertical-align: middle;\n",
       "    }\n",
       "\n",
       "    .dataframe tbody tr th {\n",
       "        vertical-align: top;\n",
       "    }\n",
       "\n",
       "    .dataframe thead th {\n",
       "        text-align: right;\n",
       "    }\n",
       "</style>\n",
       "<table border=\"1\" class=\"dataframe\">\n",
       "  <thead>\n",
       "    <tr style=\"text-align: right;\">\n",
       "      <th></th>\n",
       "      <th>id_clientes</th>\n",
       "      <th>nome_cliente</th>\n",
       "      <th>nascimento</th>\n",
       "      <th>endereco</th>\n",
       "      <th>cpf</th>\n",
       "      <th>telefone</th>\n",
       "      <th>usuario</th>\n",
       "      <th>senha</th>\n",
       "    </tr>\n",
       "  </thead>\n",
       "  <tbody>\n",
       "    <tr>\n",
       "      <th>0</th>\n",
       "      <td>0</td>\n",
       "      <td>Ana Clara Viana</td>\n",
       "      <td>1994-10-08</td>\n",
       "      <td>Esplanada de Silva, 86\\nItatiaia\\n29639862 Per...</td>\n",
       "      <td>069.748.152-20</td>\n",
       "      <td>0900 302 4124</td>\n",
       "      <td>erick80</td>\n",
       "      <td>_72WIhCxk0^@</td>\n",
       "    </tr>\n",
       "    <tr>\n",
       "      <th>1</th>\n",
       "      <td>1</td>\n",
       "      <td>Natália Dias</td>\n",
       "      <td>1979-01-27</td>\n",
       "      <td>Conjunto da Paz, 92\\nCustodinha\\n23387047 Cost...</td>\n",
       "      <td>326.450.871-08</td>\n",
       "      <td>0800-489-1739</td>\n",
       "      <td>acunha</td>\n",
       "      <td>!6KD2jcJM8l4</td>\n",
       "    </tr>\n",
       "    <tr>\n",
       "      <th>2</th>\n",
       "      <td>2</td>\n",
       "      <td>Maria Eduarda Carvalho</td>\n",
       "      <td>1994-01-22</td>\n",
       "      <td>Passarela de Araújo\\nVila Esplanada\\n49856-547...</td>\n",
       "      <td>826.317.095-86</td>\n",
       "      <td>51 9838 5513</td>\n",
       "      <td>maria-sophialopes</td>\n",
       "      <td>%w7bWt)gY@X3</td>\n",
       "    </tr>\n",
       "    <tr>\n",
       "      <th>3</th>\n",
       "      <td>3</td>\n",
       "      <td>Laura Peixoto</td>\n",
       "      <td>1959-05-26</td>\n",
       "      <td>Quadra Davi Lucas Castro, 12\\nChácara Leonina\\...</td>\n",
       "      <td>978.130.465-01</td>\n",
       "      <td>+55 (041) 6961-0236</td>\n",
       "      <td>lorena81</td>\n",
       "      <td>%kLf!+Qzv561</td>\n",
       "    </tr>\n",
       "    <tr>\n",
       "      <th>4</th>\n",
       "      <td>4</td>\n",
       "      <td>Larissa Pinto</td>\n",
       "      <td>1994-01-03</td>\n",
       "      <td>Esplanada de da Costa, 32\\nAnchieta\\n86411-684...</td>\n",
       "      <td>721.490.658-94</td>\n",
       "      <td>61 9826-8661</td>\n",
       "      <td>inovaes</td>\n",
       "      <td>Y4SiBqqh#lzz</td>\n",
       "    </tr>\n",
       "    <tr>\n",
       "      <th>...</th>\n",
       "      <td>...</td>\n",
       "      <td>...</td>\n",
       "      <td>...</td>\n",
       "      <td>...</td>\n",
       "      <td>...</td>\n",
       "      <td>...</td>\n",
       "      <td>...</td>\n",
       "      <td>...</td>\n",
       "    </tr>\n",
       "    <tr>\n",
       "      <th>195</th>\n",
       "      <td>195</td>\n",
       "      <td>Rafael Monteiro</td>\n",
       "      <td>1981-02-15</td>\n",
       "      <td>Distrito Valentina Dias\\nSão Vicente\\n25154-97...</td>\n",
       "      <td>869.721.403-31</td>\n",
       "      <td>11 1608-9559</td>\n",
       "      <td>stephany25</td>\n",
       "      <td>9K+weDXj!7Te</td>\n",
       "    </tr>\n",
       "    <tr>\n",
       "      <th>196</th>\n",
       "      <td>196</td>\n",
       "      <td>Maysa Teixeira</td>\n",
       "      <td>1953-11-11</td>\n",
       "      <td>Lagoa Elisa Pires\\nMinas Caixa\\n06292-443 Roch...</td>\n",
       "      <td>357.918.264-19</td>\n",
       "      <td>81 5439 4624</td>\n",
       "      <td>mgomes</td>\n",
       "      <td>7+gYFEfjxw2B</td>\n",
       "    </tr>\n",
       "    <tr>\n",
       "      <th>197</th>\n",
       "      <td>197</td>\n",
       "      <td>Ana Clara da Mota</td>\n",
       "      <td>1979-07-29</td>\n",
       "      <td>Estrada de Porto, 90\\nItaipu\\n31712-122 da Con...</td>\n",
       "      <td>124.809.576-67</td>\n",
       "      <td>(011) 5978-0779</td>\n",
       "      <td>nunesbreno</td>\n",
       "      <td>H@kjYLl8T_1T</td>\n",
       "    </tr>\n",
       "    <tr>\n",
       "      <th>198</th>\n",
       "      <td>198</td>\n",
       "      <td>Sarah Moreira</td>\n",
       "      <td>1958-04-27</td>\n",
       "      <td>Setor Bernardo Peixoto, 54\\nBiquinhas\\n63875-5...</td>\n",
       "      <td>768.239.510-95</td>\n",
       "      <td>+55 (011) 5659-1685</td>\n",
       "      <td>isadora61</td>\n",
       "      <td>YIT*a5CY&amp;2Yq</td>\n",
       "    </tr>\n",
       "    <tr>\n",
       "      <th>199</th>\n",
       "      <td>199</td>\n",
       "      <td>Otávio da Paz</td>\n",
       "      <td>1976-10-19</td>\n",
       "      <td>Favela de Pereira, 13\\nJardim Alvorada\\n24218-...</td>\n",
       "      <td>146.703.295-61</td>\n",
       "      <td>71 9237-5312</td>\n",
       "      <td>vrocha</td>\n",
       "      <td>z4*(vE0iaqLD</td>\n",
       "    </tr>\n",
       "  </tbody>\n",
       "</table>\n",
       "<p>200 rows × 8 columns</p>\n",
       "</div>"
      ],
      "text/plain": [
       "     id_clientes            nome_cliente  nascimento  \\\n",
       "0              0         Ana Clara Viana  1994-10-08   \n",
       "1              1            Natália Dias  1979-01-27   \n",
       "2              2  Maria Eduarda Carvalho  1994-01-22   \n",
       "3              3           Laura Peixoto  1959-05-26   \n",
       "4              4           Larissa Pinto  1994-01-03   \n",
       "..           ...                     ...         ...   \n",
       "195          195         Rafael Monteiro  1981-02-15   \n",
       "196          196          Maysa Teixeira  1953-11-11   \n",
       "197          197       Ana Clara da Mota  1979-07-29   \n",
       "198          198           Sarah Moreira  1958-04-27   \n",
       "199          199           Otávio da Paz  1976-10-19   \n",
       "\n",
       "                                              endereco             cpf  \\\n",
       "0    Esplanada de Silva, 86\\nItatiaia\\n29639862 Per...  069.748.152-20   \n",
       "1    Conjunto da Paz, 92\\nCustodinha\\n23387047 Cost...  326.450.871-08   \n",
       "2    Passarela de Araújo\\nVila Esplanada\\n49856-547...  826.317.095-86   \n",
       "3    Quadra Davi Lucas Castro, 12\\nChácara Leonina\\...  978.130.465-01   \n",
       "4    Esplanada de da Costa, 32\\nAnchieta\\n86411-684...  721.490.658-94   \n",
       "..                                                 ...             ...   \n",
       "195  Distrito Valentina Dias\\nSão Vicente\\n25154-97...  869.721.403-31   \n",
       "196  Lagoa Elisa Pires\\nMinas Caixa\\n06292-443 Roch...  357.918.264-19   \n",
       "197  Estrada de Porto, 90\\nItaipu\\n31712-122 da Con...  124.809.576-67   \n",
       "198  Setor Bernardo Peixoto, 54\\nBiquinhas\\n63875-5...  768.239.510-95   \n",
       "199  Favela de Pereira, 13\\nJardim Alvorada\\n24218-...  146.703.295-61   \n",
       "\n",
       "                telefone            usuario         senha  \n",
       "0          0900 302 4124            erick80  _72WIhCxk0^@  \n",
       "1          0800-489-1739             acunha  !6KD2jcJM8l4  \n",
       "2           51 9838 5513  maria-sophialopes  %w7bWt)gY@X3  \n",
       "3    +55 (041) 6961-0236           lorena81  %kLf!+Qzv561  \n",
       "4           61 9826-8661            inovaes  Y4SiBqqh#lzz  \n",
       "..                   ...                ...           ...  \n",
       "195         11 1608-9559         stephany25  9K+weDXj!7Te  \n",
       "196         81 5439 4624             mgomes  7+gYFEfjxw2B  \n",
       "197      (011) 5978-0779         nunesbreno  H@kjYLl8T_1T  \n",
       "198  +55 (011) 5659-1685          isadora61  YIT*a5CY&2Yq  \n",
       "199         71 9237-5312             vrocha  z4*(vE0iaqLD  \n",
       "\n",
       "[200 rows x 8 columns]"
      ]
     },
     "execution_count": 4,
     "metadata": {},
     "output_type": "execute_result"
    }
   ],
   "source": [
    "clientes=p[1]\n",
    "#renomenado a coluna id para id_cliente na tabela de clientes\n",
    "clientes.rename(columns={\"id\": \"id_clientes\"}, inplace = 1)\n",
    "#renomenado a coluna nome para nome_cliente na tabela de clientes\n",
    "clientes.rename(columns={\"nome\": \"nome_cliente\"}, inplace = 1)\n",
    "clientes"
   ]
  },
  {
   "cell_type": "code",
   "execution_count": 5,
   "id": "c549b3fe",
   "metadata": {},
   "outputs": [
    {
     "data": {
      "text/html": [
       "<div>\n",
       "<style scoped>\n",
       "    .dataframe tbody tr th:only-of-type {\n",
       "        vertical-align: middle;\n",
       "    }\n",
       "\n",
       "    .dataframe tbody tr th {\n",
       "        vertical-align: top;\n",
       "    }\n",
       "\n",
       "    .dataframe thead th {\n",
       "        text-align: right;\n",
       "    }\n",
       "</style>\n",
       "<table border=\"1\" class=\"dataframe\">\n",
       "  <thead>\n",
       "    <tr style=\"text-align: right;\">\n",
       "      <th></th>\n",
       "      <th>id_vendas</th>\n",
       "      <th>id_clientes</th>\n",
       "      <th>data</th>\n",
       "    </tr>\n",
       "  </thead>\n",
       "  <tbody>\n",
       "    <tr>\n",
       "      <th>0</th>\n",
       "      <td>0</td>\n",
       "      <td>152</td>\n",
       "      <td>2021-11-01</td>\n",
       "    </tr>\n",
       "    <tr>\n",
       "      <th>1</th>\n",
       "      <td>1</td>\n",
       "      <td>139</td>\n",
       "      <td>2021-11-01</td>\n",
       "    </tr>\n",
       "    <tr>\n",
       "      <th>2</th>\n",
       "      <td>2</td>\n",
       "      <td>198</td>\n",
       "      <td>2021-11-01</td>\n",
       "    </tr>\n",
       "    <tr>\n",
       "      <th>3</th>\n",
       "      <td>3</td>\n",
       "      <td>186</td>\n",
       "      <td>2021-11-01</td>\n",
       "    </tr>\n",
       "    <tr>\n",
       "      <th>4</th>\n",
       "      <td>4</td>\n",
       "      <td>190</td>\n",
       "      <td>2021-11-01</td>\n",
       "    </tr>\n",
       "    <tr>\n",
       "      <th>...</th>\n",
       "      <td>...</td>\n",
       "      <td>...</td>\n",
       "      <td>...</td>\n",
       "    </tr>\n",
       "    <tr>\n",
       "      <th>495</th>\n",
       "      <td>495</td>\n",
       "      <td>63</td>\n",
       "      <td>2021-11-30</td>\n",
       "    </tr>\n",
       "    <tr>\n",
       "      <th>496</th>\n",
       "      <td>496</td>\n",
       "      <td>118</td>\n",
       "      <td>2021-11-30</td>\n",
       "    </tr>\n",
       "    <tr>\n",
       "      <th>497</th>\n",
       "      <td>497</td>\n",
       "      <td>26</td>\n",
       "      <td>2021-11-30</td>\n",
       "    </tr>\n",
       "    <tr>\n",
       "      <th>498</th>\n",
       "      <td>498</td>\n",
       "      <td>112</td>\n",
       "      <td>2021-11-30</td>\n",
       "    </tr>\n",
       "    <tr>\n",
       "      <th>499</th>\n",
       "      <td>499</td>\n",
       "      <td>149</td>\n",
       "      <td>2021-11-30</td>\n",
       "    </tr>\n",
       "  </tbody>\n",
       "</table>\n",
       "<p>500 rows × 3 columns</p>\n",
       "</div>"
      ],
      "text/plain": [
       "     id_vendas  id_clientes        data\n",
       "0            0          152  2021-11-01\n",
       "1            1          139  2021-11-01\n",
       "2            2          198  2021-11-01\n",
       "3            3          186  2021-11-01\n",
       "4            4          190  2021-11-01\n",
       "..         ...          ...         ...\n",
       "495        495           63  2021-11-30\n",
       "496        496          118  2021-11-30\n",
       "497        497           26  2021-11-30\n",
       "498        498          112  2021-11-30\n",
       "499        499          149  2021-11-30\n",
       "\n",
       "[500 rows x 3 columns]"
      ]
     },
     "execution_count": 5,
     "metadata": {},
     "output_type": "execute_result"
    }
   ],
   "source": [
    "vendas=p[2]\n",
    "#renomenado a coluna id para id_vendas na tabela de vendas\n",
    "vendas.rename(columns={\"id\": \"id_vendas\"}, inplace = 1)\n",
    "vendas"
   ]
  },
  {
   "cell_type": "code",
   "execution_count": 6,
   "id": "b6987937",
   "metadata": {},
   "outputs": [
    {
     "data": {
      "text/html": [
       "<div>\n",
       "<style scoped>\n",
       "    .dataframe tbody tr th:only-of-type {\n",
       "        vertical-align: middle;\n",
       "    }\n",
       "\n",
       "    .dataframe tbody tr th {\n",
       "        vertical-align: top;\n",
       "    }\n",
       "\n",
       "    .dataframe thead th {\n",
       "        text-align: right;\n",
       "    }\n",
       "</style>\n",
       "<table border=\"1\" class=\"dataframe\">\n",
       "  <thead>\n",
       "    <tr style=\"text-align: right;\">\n",
       "      <th></th>\n",
       "      <th>id_vendas</th>\n",
       "      <th>id_produtos</th>\n",
       "      <th>quantidade</th>\n",
       "    </tr>\n",
       "  </thead>\n",
       "  <tbody>\n",
       "    <tr>\n",
       "      <th>0</th>\n",
       "      <td>0</td>\n",
       "      <td>28</td>\n",
       "      <td>4</td>\n",
       "    </tr>\n",
       "    <tr>\n",
       "      <th>1</th>\n",
       "      <td>1</td>\n",
       "      <td>23</td>\n",
       "      <td>2</td>\n",
       "    </tr>\n",
       "    <tr>\n",
       "      <th>2</th>\n",
       "      <td>2</td>\n",
       "      <td>10</td>\n",
       "      <td>2</td>\n",
       "    </tr>\n",
       "    <tr>\n",
       "      <th>3</th>\n",
       "      <td>3</td>\n",
       "      <td>24</td>\n",
       "      <td>3</td>\n",
       "    </tr>\n",
       "    <tr>\n",
       "      <th>4</th>\n",
       "      <td>4</td>\n",
       "      <td>1</td>\n",
       "      <td>1</td>\n",
       "    </tr>\n",
       "    <tr>\n",
       "      <th>...</th>\n",
       "      <td>...</td>\n",
       "      <td>...</td>\n",
       "      <td>...</td>\n",
       "    </tr>\n",
       "    <tr>\n",
       "      <th>2495</th>\n",
       "      <td>89</td>\n",
       "      <td>6</td>\n",
       "      <td>3</td>\n",
       "    </tr>\n",
       "    <tr>\n",
       "      <th>2496</th>\n",
       "      <td>168</td>\n",
       "      <td>34</td>\n",
       "      <td>2</td>\n",
       "    </tr>\n",
       "    <tr>\n",
       "      <th>2497</th>\n",
       "      <td>130</td>\n",
       "      <td>6</td>\n",
       "      <td>2</td>\n",
       "    </tr>\n",
       "    <tr>\n",
       "      <th>2498</th>\n",
       "      <td>97</td>\n",
       "      <td>5</td>\n",
       "      <td>3</td>\n",
       "    </tr>\n",
       "    <tr>\n",
       "      <th>2499</th>\n",
       "      <td>22</td>\n",
       "      <td>12</td>\n",
       "      <td>3</td>\n",
       "    </tr>\n",
       "  </tbody>\n",
       "</table>\n",
       "<p>2500 rows × 3 columns</p>\n",
       "</div>"
      ],
      "text/plain": [
       "      id_vendas  id_produtos  quantidade\n",
       "0             0           28           4\n",
       "1             1           23           2\n",
       "2             2           10           2\n",
       "3             3           24           3\n",
       "4             4            1           1\n",
       "...         ...          ...         ...\n",
       "2495         89            6           3\n",
       "2496        168           34           2\n",
       "2497        130            6           2\n",
       "2498         97            5           3\n",
       "2499         22           12           3\n",
       "\n",
       "[2500 rows x 3 columns]"
      ]
     },
     "execution_count": 6,
     "metadata": {},
     "output_type": "execute_result"
    }
   ],
   "source": [
    "venda_produtos=p[3]\n",
    "venda_produtos"
   ]
  },
  {
   "cell_type": "markdown",
   "id": "77a9a467",
   "metadata": {},
   "source": [
    "##  Total de vendas por produto"
   ]
  },
  {
   "cell_type": "code",
   "execution_count": 7,
   "id": "fe3c1491",
   "metadata": {},
   "outputs": [
    {
     "data": {
      "text/html": [
       "<div>\n",
       "<style scoped>\n",
       "    .dataframe tbody tr th:only-of-type {\n",
       "        vertical-align: middle;\n",
       "    }\n",
       "\n",
       "    .dataframe tbody tr th {\n",
       "        vertical-align: top;\n",
       "    }\n",
       "\n",
       "    .dataframe thead th {\n",
       "        text-align: right;\n",
       "    }\n",
       "</style>\n",
       "<table border=\"1\" class=\"dataframe\">\n",
       "  <thead>\n",
       "    <tr style=\"text-align: right;\">\n",
       "      <th></th>\n",
       "      <th>id_vendas</th>\n",
       "      <th>id_produtos</th>\n",
       "      <th>quantidade</th>\n",
       "      <th>nome</th>\n",
       "      <th>secao</th>\n",
       "      <th>custo</th>\n",
       "      <th>preco</th>\n",
       "      <th>prateleira</th>\n",
       "      <th>estoque</th>\n",
       "      <th>unidade_de_medida_de_estoque</th>\n",
       "      <th>imagem</th>\n",
       "      <th>id_clientes</th>\n",
       "      <th>data</th>\n",
       "      <th>nome_cliente</th>\n",
       "      <th>nascimento</th>\n",
       "      <th>endereco</th>\n",
       "      <th>cpf</th>\n",
       "      <th>telefone</th>\n",
       "      <th>usuario</th>\n",
       "      <th>senha</th>\n",
       "    </tr>\n",
       "  </thead>\n",
       "  <tbody>\n",
       "    <tr>\n",
       "      <th>0</th>\n",
       "      <td>0</td>\n",
       "      <td>28</td>\n",
       "      <td>4</td>\n",
       "      <td>amaciante</td>\n",
       "      <td>Produtos de Limpeza</td>\n",
       "      <td>5.19</td>\n",
       "      <td>6.70</td>\n",
       "      <td>8A</td>\n",
       "      <td>12</td>\n",
       "      <td>unidade</td>\n",
       "      <td>amaciante.jpg</td>\n",
       "      <td>152</td>\n",
       "      <td>2021-11-01</td>\n",
       "      <td>Luna Porto</td>\n",
       "      <td>1985-11-23</td>\n",
       "      <td>Trevo de Aragão, 6\\nVila Nova Paraíso\\n31718-7...</td>\n",
       "      <td>194.206.375-06</td>\n",
       "      <td>(011) 6194 8409</td>\n",
       "      <td>hrezende</td>\n",
       "      <td>!48Jw)+vxX)X</td>\n",
       "    </tr>\n",
       "    <tr>\n",
       "      <th>1</th>\n",
       "      <td>0</td>\n",
       "      <td>24</td>\n",
       "      <td>2</td>\n",
       "      <td>pastel</td>\n",
       "      <td>Padaria</td>\n",
       "      <td>3.19</td>\n",
       "      <td>4.99</td>\n",
       "      <td>7D</td>\n",
       "      <td>9</td>\n",
       "      <td>unidade</td>\n",
       "      <td>pastel.jpg</td>\n",
       "      <td>152</td>\n",
       "      <td>2021-11-01</td>\n",
       "      <td>Luna Porto</td>\n",
       "      <td>1985-11-23</td>\n",
       "      <td>Trevo de Aragão, 6\\nVila Nova Paraíso\\n31718-7...</td>\n",
       "      <td>194.206.375-06</td>\n",
       "      <td>(011) 6194 8409</td>\n",
       "      <td>hrezende</td>\n",
       "      <td>!48Jw)+vxX)X</td>\n",
       "    </tr>\n",
       "    <tr>\n",
       "      <th>2</th>\n",
       "      <td>0</td>\n",
       "      <td>1</td>\n",
       "      <td>4</td>\n",
       "      <td>melancia</td>\n",
       "      <td>Alimentos em Geral</td>\n",
       "      <td>11.79</td>\n",
       "      <td>15.99</td>\n",
       "      <td>1C</td>\n",
       "      <td>20</td>\n",
       "      <td>unidade</td>\n",
       "      <td>melancia.jpg</td>\n",
       "      <td>152</td>\n",
       "      <td>2021-11-01</td>\n",
       "      <td>Luna Porto</td>\n",
       "      <td>1985-11-23</td>\n",
       "      <td>Trevo de Aragão, 6\\nVila Nova Paraíso\\n31718-7...</td>\n",
       "      <td>194.206.375-06</td>\n",
       "      <td>(011) 6194 8409</td>\n",
       "      <td>hrezende</td>\n",
       "      <td>!48Jw)+vxX)X</td>\n",
       "    </tr>\n",
       "    <tr>\n",
       "      <th>3</th>\n",
       "      <td>0</td>\n",
       "      <td>1</td>\n",
       "      <td>4</td>\n",
       "      <td>melancia</td>\n",
       "      <td>Alimentos em Geral</td>\n",
       "      <td>11.79</td>\n",
       "      <td>15.99</td>\n",
       "      <td>1C</td>\n",
       "      <td>20</td>\n",
       "      <td>unidade</td>\n",
       "      <td>melancia.jpg</td>\n",
       "      <td>152</td>\n",
       "      <td>2021-11-01</td>\n",
       "      <td>Luna Porto</td>\n",
       "      <td>1985-11-23</td>\n",
       "      <td>Trevo de Aragão, 6\\nVila Nova Paraíso\\n31718-7...</td>\n",
       "      <td>194.206.375-06</td>\n",
       "      <td>(011) 6194 8409</td>\n",
       "      <td>hrezende</td>\n",
       "      <td>!48Jw)+vxX)X</td>\n",
       "    </tr>\n",
       "    <tr>\n",
       "      <th>4</th>\n",
       "      <td>0</td>\n",
       "      <td>9</td>\n",
       "      <td>3</td>\n",
       "      <td>feijão</td>\n",
       "      <td>Alimentos em Geral</td>\n",
       "      <td>6.49</td>\n",
       "      <td>8.45</td>\n",
       "      <td>3B</td>\n",
       "      <td>43</td>\n",
       "      <td>kg</td>\n",
       "      <td>feijao.png</td>\n",
       "      <td>152</td>\n",
       "      <td>2021-11-01</td>\n",
       "      <td>Luna Porto</td>\n",
       "      <td>1985-11-23</td>\n",
       "      <td>Trevo de Aragão, 6\\nVila Nova Paraíso\\n31718-7...</td>\n",
       "      <td>194.206.375-06</td>\n",
       "      <td>(011) 6194 8409</td>\n",
       "      <td>hrezende</td>\n",
       "      <td>!48Jw)+vxX)X</td>\n",
       "    </tr>\n",
       "    <tr>\n",
       "      <th>...</th>\n",
       "      <td>...</td>\n",
       "      <td>...</td>\n",
       "      <td>...</td>\n",
       "      <td>...</td>\n",
       "      <td>...</td>\n",
       "      <td>...</td>\n",
       "      <td>...</td>\n",
       "      <td>...</td>\n",
       "      <td>...</td>\n",
       "      <td>...</td>\n",
       "      <td>...</td>\n",
       "      <td>...</td>\n",
       "      <td>...</td>\n",
       "      <td>...</td>\n",
       "      <td>...</td>\n",
       "      <td>...</td>\n",
       "      <td>...</td>\n",
       "      <td>...</td>\n",
       "      <td>...</td>\n",
       "      <td>...</td>\n",
       "    </tr>\n",
       "    <tr>\n",
       "      <th>2495</th>\n",
       "      <td>336</td>\n",
       "      <td>33</td>\n",
       "      <td>2</td>\n",
       "      <td>rodo</td>\n",
       "      <td>Produtos de Limpeza</td>\n",
       "      <td>2.74</td>\n",
       "      <td>5.99</td>\n",
       "      <td>9C</td>\n",
       "      <td>10</td>\n",
       "      <td>unidade</td>\n",
       "      <td>rodo.jpg</td>\n",
       "      <td>171</td>\n",
       "      <td>2021-11-22</td>\n",
       "      <td>Yasmin da Paz</td>\n",
       "      <td>1961-12-09</td>\n",
       "      <td>Loteamento de da Cruz\\nPrimeiro De Maio\\n46414...</td>\n",
       "      <td>948.160.357-10</td>\n",
       "      <td>+55 21 0758 3174</td>\n",
       "      <td>pintoeloah</td>\n",
       "      <td>&amp;asFQZq+UT6I</td>\n",
       "    </tr>\n",
       "    <tr>\n",
       "      <th>2496</th>\n",
       "      <td>211</td>\n",
       "      <td>26</td>\n",
       "      <td>2</td>\n",
       "      <td>sonho</td>\n",
       "      <td>Padaria</td>\n",
       "      <td>1.79</td>\n",
       "      <td>3.49</td>\n",
       "      <td>6B</td>\n",
       "      <td>20</td>\n",
       "      <td>unidade</td>\n",
       "      <td>sonho.jpg</td>\n",
       "      <td>46</td>\n",
       "      <td>2021-11-15</td>\n",
       "      <td>Emanuella Gonçalves</td>\n",
       "      <td>1974-02-07</td>\n",
       "      <td>Distrito de Pereira, 60\\nHavaí\\n36536-300 Nova...</td>\n",
       "      <td>702.483.591-50</td>\n",
       "      <td>+55 (071) 6711 2578</td>\n",
       "      <td>juliacarvalho</td>\n",
       "      <td>@g1XwvW9FjqV</td>\n",
       "    </tr>\n",
       "    <tr>\n",
       "      <th>2497</th>\n",
       "      <td>213</td>\n",
       "      <td>26</td>\n",
       "      <td>2</td>\n",
       "      <td>sonho</td>\n",
       "      <td>Padaria</td>\n",
       "      <td>1.79</td>\n",
       "      <td>3.49</td>\n",
       "      <td>6B</td>\n",
       "      <td>20</td>\n",
       "      <td>unidade</td>\n",
       "      <td>sonho.jpg</td>\n",
       "      <td>39</td>\n",
       "      <td>2021-11-15</td>\n",
       "      <td>Bernardo Lopes</td>\n",
       "      <td>1959-07-07</td>\n",
       "      <td>Trevo de Castro, 25\\nUniversitário\\n20393767 M...</td>\n",
       "      <td>745.391.208-32</td>\n",
       "      <td>+55 81 4686 3117</td>\n",
       "      <td>isabel27</td>\n",
       "      <td>p6KYRe1B+^2n</td>\n",
       "    </tr>\n",
       "    <tr>\n",
       "      <th>2498</th>\n",
       "      <td>450</td>\n",
       "      <td>33</td>\n",
       "      <td>2</td>\n",
       "      <td>rodo</td>\n",
       "      <td>Produtos de Limpeza</td>\n",
       "      <td>2.74</td>\n",
       "      <td>5.99</td>\n",
       "      <td>9C</td>\n",
       "      <td>10</td>\n",
       "      <td>unidade</td>\n",
       "      <td>rodo.jpg</td>\n",
       "      <td>60</td>\n",
       "      <td>2021-11-28</td>\n",
       "      <td>Pedro Miguel Costela</td>\n",
       "      <td>1954-01-12</td>\n",
       "      <td>Praça Letícia Almeida, 6\\nBela Vitoria\\n708962...</td>\n",
       "      <td>345.918.067-66</td>\n",
       "      <td>21 7485 6413</td>\n",
       "      <td>lunalima</td>\n",
       "      <td>1xWeBNlv(BDd</td>\n",
       "    </tr>\n",
       "    <tr>\n",
       "      <th>2499</th>\n",
       "      <td>468</td>\n",
       "      <td>19</td>\n",
       "      <td>2</td>\n",
       "      <td>peito de frango</td>\n",
       "      <td>Açougue</td>\n",
       "      <td>11.19</td>\n",
       "      <td>16.49</td>\n",
       "      <td>4D</td>\n",
       "      <td>10</td>\n",
       "      <td>kg</td>\n",
       "      <td>peito_de_frango.jpg</td>\n",
       "      <td>197</td>\n",
       "      <td>2021-11-29</td>\n",
       "      <td>Ana Clara da Mota</td>\n",
       "      <td>1979-07-29</td>\n",
       "      <td>Estrada de Porto, 90\\nItaipu\\n31712-122 da Con...</td>\n",
       "      <td>124.809.576-67</td>\n",
       "      <td>(011) 5978-0779</td>\n",
       "      <td>nunesbreno</td>\n",
       "      <td>H@kjYLl8T_1T</td>\n",
       "    </tr>\n",
       "  </tbody>\n",
       "</table>\n",
       "<p>2500 rows × 20 columns</p>\n",
       "</div>"
      ],
      "text/plain": [
       "      id_vendas  id_produtos  quantidade             nome  \\\n",
       "0             0           28           4        amaciante   \n",
       "1             0           24           2           pastel   \n",
       "2             0            1           4         melancia   \n",
       "3             0            1           4         melancia   \n",
       "4             0            9           3           feijão   \n",
       "...         ...          ...         ...              ...   \n",
       "2495        336           33           2             rodo   \n",
       "2496        211           26           2            sonho   \n",
       "2497        213           26           2            sonho   \n",
       "2498        450           33           2             rodo   \n",
       "2499        468           19           2  peito de frango   \n",
       "\n",
       "                    secao  custo  preco prateleira  estoque  \\\n",
       "0     Produtos de Limpeza   5.19   6.70         8A       12   \n",
       "1                 Padaria   3.19   4.99         7D        9   \n",
       "2      Alimentos em Geral  11.79  15.99         1C       20   \n",
       "3      Alimentos em Geral  11.79  15.99         1C       20   \n",
       "4      Alimentos em Geral   6.49   8.45         3B       43   \n",
       "...                   ...    ...    ...        ...      ...   \n",
       "2495  Produtos de Limpeza   2.74   5.99         9C       10   \n",
       "2496              Padaria   1.79   3.49         6B       20   \n",
       "2497              Padaria   1.79   3.49         6B       20   \n",
       "2498  Produtos de Limpeza   2.74   5.99         9C       10   \n",
       "2499              Açougue  11.19  16.49         4D       10   \n",
       "\n",
       "     unidade_de_medida_de_estoque               imagem  id_clientes  \\\n",
       "0                         unidade        amaciante.jpg          152   \n",
       "1                         unidade           pastel.jpg          152   \n",
       "2                         unidade         melancia.jpg          152   \n",
       "3                         unidade         melancia.jpg          152   \n",
       "4                              kg           feijao.png          152   \n",
       "...                           ...                  ...          ...   \n",
       "2495                      unidade             rodo.jpg          171   \n",
       "2496                      unidade            sonho.jpg           46   \n",
       "2497                      unidade            sonho.jpg           39   \n",
       "2498                      unidade             rodo.jpg           60   \n",
       "2499                           kg  peito_de_frango.jpg          197   \n",
       "\n",
       "            data          nome_cliente  nascimento  \\\n",
       "0     2021-11-01            Luna Porto  1985-11-23   \n",
       "1     2021-11-01            Luna Porto  1985-11-23   \n",
       "2     2021-11-01            Luna Porto  1985-11-23   \n",
       "3     2021-11-01            Luna Porto  1985-11-23   \n",
       "4     2021-11-01            Luna Porto  1985-11-23   \n",
       "...          ...                   ...         ...   \n",
       "2495  2021-11-22         Yasmin da Paz  1961-12-09   \n",
       "2496  2021-11-15   Emanuella Gonçalves  1974-02-07   \n",
       "2497  2021-11-15        Bernardo Lopes  1959-07-07   \n",
       "2498  2021-11-28  Pedro Miguel Costela  1954-01-12   \n",
       "2499  2021-11-29     Ana Clara da Mota  1979-07-29   \n",
       "\n",
       "                                               endereco             cpf  \\\n",
       "0     Trevo de Aragão, 6\\nVila Nova Paraíso\\n31718-7...  194.206.375-06   \n",
       "1     Trevo de Aragão, 6\\nVila Nova Paraíso\\n31718-7...  194.206.375-06   \n",
       "2     Trevo de Aragão, 6\\nVila Nova Paraíso\\n31718-7...  194.206.375-06   \n",
       "3     Trevo de Aragão, 6\\nVila Nova Paraíso\\n31718-7...  194.206.375-06   \n",
       "4     Trevo de Aragão, 6\\nVila Nova Paraíso\\n31718-7...  194.206.375-06   \n",
       "...                                                 ...             ...   \n",
       "2495  Loteamento de da Cruz\\nPrimeiro De Maio\\n46414...  948.160.357-10   \n",
       "2496  Distrito de Pereira, 60\\nHavaí\\n36536-300 Nova...  702.483.591-50   \n",
       "2497  Trevo de Castro, 25\\nUniversitário\\n20393767 M...  745.391.208-32   \n",
       "2498  Praça Letícia Almeida, 6\\nBela Vitoria\\n708962...  345.918.067-66   \n",
       "2499  Estrada de Porto, 90\\nItaipu\\n31712-122 da Con...  124.809.576-67   \n",
       "\n",
       "                 telefone        usuario         senha  \n",
       "0         (011) 6194 8409       hrezende  !48Jw)+vxX)X  \n",
       "1         (011) 6194 8409       hrezende  !48Jw)+vxX)X  \n",
       "2         (011) 6194 8409       hrezende  !48Jw)+vxX)X  \n",
       "3         (011) 6194 8409       hrezende  !48Jw)+vxX)X  \n",
       "4         (011) 6194 8409       hrezende  !48Jw)+vxX)X  \n",
       "...                   ...            ...           ...  \n",
       "2495     +55 21 0758 3174     pintoeloah  &asFQZq+UT6I  \n",
       "2496  +55 (071) 6711 2578  juliacarvalho  @g1XwvW9FjqV  \n",
       "2497     +55 81 4686 3117       isabel27  p6KYRe1B+^2n  \n",
       "2498         21 7485 6413       lunalima  1xWeBNlv(BDd  \n",
       "2499      (011) 5978-0779     nunesbreno  H@kjYLl8T_1T  \n",
       "\n",
       "[2500 rows x 20 columns]"
      ]
     },
     "execution_count": 7,
     "metadata": {},
     "output_type": "execute_result"
    }
   ],
   "source": [
    "#realizando a união das tabelas produtos e venda_produtos em id_produtos\n",
    "venda_produtos_2 = pd.merge(venda_produtos, produtos, on = 'id_produtos', how='inner')\n",
    "#realizando a união das tabelas vendas e venda_produtos em id_vendas\n",
    "venda_produtos_3 = pd.merge(venda_produtos_2, vendas, on = 'id_vendas', how='inner')\n",
    "#realizando a união das tabelas clientes e venda_produtos em id_cliente\n",
    "venda_produtos_cliente = pd.merge(venda_produtos_3, clientes, on = 'id_clientes', how='inner')\n",
    "\n",
    "venda_produtos_cliente"
   ]
  },
  {
   "cell_type": "code",
   "execution_count": 70,
   "id": "0a5b51b9",
   "metadata": {},
   "outputs": [],
   "source": [
    "#agrupando a tabelas cendas_produto por nome (groupby), somando os valores (sum), organizando os valores em ordem decrescente por quantidade vendida (sort_values) e redefinindo o index (reset_index)\n",
    "venda_produtos_total=venda_produtos_cliente.groupby(\"nome\").sum().sort_values('quantidade', ascending=False).reset_index()\n",
    "#selecionando apenas as colunas que serão analisadas\n",
    "venda_produtos_total=venda_produtos_total[[\"nome\", \"quantidade\"]]\n",
    "#Ajustado uma tabela para adicionar seções\n",
    "produtos_nome_secao=produtos[[\"nome\", \"secao\"]].drop_duplicates()\n",
    "#unindo tabelas venda_produtos_total e produtos_nome_secao\n",
    "venda_produtos_quantidade_total=pd.merge(produtos_nome_secao, venda_produtos_total, on = 'nome', how='right')"
   ]
  },
  {
   "cell_type": "code",
   "execution_count": 54,
   "id": "abc12f76",
   "metadata": {},
   "outputs": [
    {
     "data": {
      "text/html": [
       "<div>\n",
       "<style scoped>\n",
       "    .dataframe tbody tr th:only-of-type {\n",
       "        vertical-align: middle;\n",
       "    }\n",
       "\n",
       "    .dataframe tbody tr th {\n",
       "        vertical-align: top;\n",
       "    }\n",
       "\n",
       "    .dataframe thead th {\n",
       "        text-align: right;\n",
       "    }\n",
       "</style>\n",
       "<table border=\"1\" class=\"dataframe\">\n",
       "  <thead>\n",
       "    <tr style=\"text-align: right;\">\n",
       "      <th></th>\n",
       "      <th>nome</th>\n",
       "      <th>secao</th>\n",
       "      <th>quantidade</th>\n",
       "    </tr>\n",
       "  </thead>\n",
       "  <tbody>\n",
       "    <tr>\n",
       "      <th>0</th>\n",
       "      <td>sonho</td>\n",
       "      <td>Padaria</td>\n",
       "      <td>211</td>\n",
       "    </tr>\n",
       "    <tr>\n",
       "      <th>1</th>\n",
       "      <td>abobrinha</td>\n",
       "      <td>Alimentos em Geral</td>\n",
       "      <td>207</td>\n",
       "    </tr>\n",
       "    <tr>\n",
       "      <th>2</th>\n",
       "      <td>alcatra</td>\n",
       "      <td>Açougue</td>\n",
       "      <td>200</td>\n",
       "    </tr>\n",
       "    <tr>\n",
       "      <th>3</th>\n",
       "      <td>arroz</td>\n",
       "      <td>Alimentos em Geral</td>\n",
       "      <td>199</td>\n",
       "    </tr>\n",
       "    <tr>\n",
       "      <th>4</th>\n",
       "      <td>pão de forma</td>\n",
       "      <td>Padaria</td>\n",
       "      <td>197</td>\n",
       "    </tr>\n",
       "    <tr>\n",
       "      <th>5</th>\n",
       "      <td>macarrão</td>\n",
       "      <td>Alimentos em Geral</td>\n",
       "      <td>194</td>\n",
       "    </tr>\n",
       "    <tr>\n",
       "      <th>6</th>\n",
       "      <td>melancia</td>\n",
       "      <td>Alimentos em Geral</td>\n",
       "      <td>194</td>\n",
       "    </tr>\n",
       "    <tr>\n",
       "      <th>7</th>\n",
       "      <td>morango</td>\n",
       "      <td>Alimentos em Geral</td>\n",
       "      <td>192</td>\n",
       "    </tr>\n",
       "    <tr>\n",
       "      <th>8</th>\n",
       "      <td>pastel</td>\n",
       "      <td>Padaria</td>\n",
       "      <td>188</td>\n",
       "    </tr>\n",
       "    <tr>\n",
       "      <th>9</th>\n",
       "      <td>picanha</td>\n",
       "      <td>Açougue</td>\n",
       "      <td>187</td>\n",
       "    </tr>\n",
       "    <tr>\n",
       "      <th>10</th>\n",
       "      <td>bolo</td>\n",
       "      <td>Padaria</td>\n",
       "      <td>186</td>\n",
       "    </tr>\n",
       "    <tr>\n",
       "      <th>11</th>\n",
       "      <td>feijão</td>\n",
       "      <td>Alimentos em Geral</td>\n",
       "      <td>186</td>\n",
       "    </tr>\n",
       "    <tr>\n",
       "      <th>12</th>\n",
       "      <td>pão francês</td>\n",
       "      <td>Padaria</td>\n",
       "      <td>182</td>\n",
       "    </tr>\n",
       "    <tr>\n",
       "      <th>13</th>\n",
       "      <td>pão de queijo</td>\n",
       "      <td>Padaria</td>\n",
       "      <td>182</td>\n",
       "    </tr>\n",
       "    <tr>\n",
       "      <th>14</th>\n",
       "      <td>detergente</td>\n",
       "      <td>Produtos de Limpeza</td>\n",
       "      <td>182</td>\n",
       "    </tr>\n",
       "    <tr>\n",
       "      <th>15</th>\n",
       "      <td>paleta suína</td>\n",
       "      <td>Açougue</td>\n",
       "      <td>181</td>\n",
       "    </tr>\n",
       "    <tr>\n",
       "      <th>16</th>\n",
       "      <td>peito de frango</td>\n",
       "      <td>Açougue</td>\n",
       "      <td>180</td>\n",
       "    </tr>\n",
       "    <tr>\n",
       "      <th>17</th>\n",
       "      <td>sanduíche</td>\n",
       "      <td>Padaria</td>\n",
       "      <td>179</td>\n",
       "    </tr>\n",
       "    <tr>\n",
       "      <th>18</th>\n",
       "      <td>berinjela</td>\n",
       "      <td>Alimentos em Geral</td>\n",
       "      <td>172</td>\n",
       "    </tr>\n",
       "    <tr>\n",
       "      <th>19</th>\n",
       "      <td>água sanitária</td>\n",
       "      <td>Produtos de Limpeza</td>\n",
       "      <td>170</td>\n",
       "    </tr>\n",
       "    <tr>\n",
       "      <th>20</th>\n",
       "      <td>amaciante</td>\n",
       "      <td>Produtos de Limpeza</td>\n",
       "      <td>169</td>\n",
       "    </tr>\n",
       "    <tr>\n",
       "      <th>21</th>\n",
       "      <td>alface</td>\n",
       "      <td>Alimentos em Geral</td>\n",
       "      <td>169</td>\n",
       "    </tr>\n",
       "    <tr>\n",
       "      <th>22</th>\n",
       "      <td>couve-flor</td>\n",
       "      <td>Alimentos em Geral</td>\n",
       "      <td>168</td>\n",
       "    </tr>\n",
       "    <tr>\n",
       "      <th>23</th>\n",
       "      <td>banana</td>\n",
       "      <td>Alimentos em Geral</td>\n",
       "      <td>168</td>\n",
       "    </tr>\n",
       "    <tr>\n",
       "      <th>24</th>\n",
       "      <td>carré de cordeiro</td>\n",
       "      <td>Açougue</td>\n",
       "      <td>167</td>\n",
       "    </tr>\n",
       "    <tr>\n",
       "      <th>25</th>\n",
       "      <td>flanela</td>\n",
       "      <td>Produtos de Limpeza</td>\n",
       "      <td>165</td>\n",
       "    </tr>\n",
       "    <tr>\n",
       "      <th>26</th>\n",
       "      <td>maminha</td>\n",
       "      <td>Açougue</td>\n",
       "      <td>165</td>\n",
       "    </tr>\n",
       "    <tr>\n",
       "      <th>27</th>\n",
       "      <td>batata</td>\n",
       "      <td>Alimentos em Geral</td>\n",
       "      <td>163</td>\n",
       "    </tr>\n",
       "    <tr>\n",
       "      <th>28</th>\n",
       "      <td>sabão em pó</td>\n",
       "      <td>Produtos de Limpeza</td>\n",
       "      <td>163</td>\n",
       "    </tr>\n",
       "    <tr>\n",
       "      <th>29</th>\n",
       "      <td>rodo</td>\n",
       "      <td>Produtos de Limpeza</td>\n",
       "      <td>162</td>\n",
       "    </tr>\n",
       "    <tr>\n",
       "      <th>30</th>\n",
       "      <td>bisteca suína</td>\n",
       "      <td>Açougue</td>\n",
       "      <td>162</td>\n",
       "    </tr>\n",
       "    <tr>\n",
       "      <th>31</th>\n",
       "      <td>odorizador</td>\n",
       "      <td>Produtos de Limpeza</td>\n",
       "      <td>159</td>\n",
       "    </tr>\n",
       "    <tr>\n",
       "      <th>32</th>\n",
       "      <td>torta</td>\n",
       "      <td>Padaria</td>\n",
       "      <td>157</td>\n",
       "    </tr>\n",
       "    <tr>\n",
       "      <th>33</th>\n",
       "      <td>sabonete</td>\n",
       "      <td>Produtos de Limpeza</td>\n",
       "      <td>156</td>\n",
       "    </tr>\n",
       "    <tr>\n",
       "      <th>34</th>\n",
       "      <td>costela</td>\n",
       "      <td>Açougue</td>\n",
       "      <td>126</td>\n",
       "    </tr>\n",
       "    <tr>\n",
       "      <th>35</th>\n",
       "      <td>uva</td>\n",
       "      <td>Alimentos em Geral</td>\n",
       "      <td>117</td>\n",
       "    </tr>\n",
       "  </tbody>\n",
       "</table>\n",
       "</div>"
      ],
      "text/plain": [
       "                 nome                secao  quantidade\n",
       "0               sonho              Padaria         211\n",
       "1           abobrinha   Alimentos em Geral         207\n",
       "2             alcatra              Açougue         200\n",
       "3               arroz   Alimentos em Geral         199\n",
       "4        pão de forma              Padaria         197\n",
       "5            macarrão   Alimentos em Geral         194\n",
       "6            melancia   Alimentos em Geral         194\n",
       "7             morango   Alimentos em Geral         192\n",
       "8              pastel              Padaria         188\n",
       "9             picanha              Açougue         187\n",
       "10               bolo              Padaria         186\n",
       "11             feijão   Alimentos em Geral         186\n",
       "12        pão francês              Padaria         182\n",
       "13      pão de queijo              Padaria         182\n",
       "14         detergente  Produtos de Limpeza         182\n",
       "15       paleta suína              Açougue         181\n",
       "16    peito de frango              Açougue         180\n",
       "17          sanduíche              Padaria         179\n",
       "18          berinjela   Alimentos em Geral         172\n",
       "19     água sanitária  Produtos de Limpeza         170\n",
       "20          amaciante  Produtos de Limpeza         169\n",
       "21             alface   Alimentos em Geral         169\n",
       "22         couve-flor   Alimentos em Geral         168\n",
       "23             banana   Alimentos em Geral         168\n",
       "24  carré de cordeiro              Açougue         167\n",
       "25            flanela  Produtos de Limpeza         165\n",
       "26            maminha              Açougue         165\n",
       "27             batata   Alimentos em Geral         163\n",
       "28        sabão em pó  Produtos de Limpeza         163\n",
       "29               rodo  Produtos de Limpeza         162\n",
       "30      bisteca suína              Açougue         162\n",
       "31         odorizador  Produtos de Limpeza         159\n",
       "32              torta              Padaria         157\n",
       "33           sabonete  Produtos de Limpeza         156\n",
       "34            costela              Açougue         126\n",
       "35                uva   Alimentos em Geral         117"
      ]
     },
     "execution_count": 54,
     "metadata": {},
     "output_type": "execute_result"
    }
   ],
   "source": [
    "venda_produtos_quantidade_total"
   ]
  },
  {
   "cell_type": "code",
   "execution_count": 74,
   "id": "bdd6d27c",
   "metadata": {},
   "outputs": [
    {
     "data": {
      "application/vnd.plotly.v1+json": {
       "config": {
        "plotlyServerURL": "https://plot.ly"
       },
       "data": [
        {
         "alignmentgroup": "True",
         "hovertemplate": "Seção=Padaria<br>Nome=%{x}<br>Quantidade vendida=%{y}<extra></extra>",
         "legendgroup": "Padaria",
         "marker": {
          "color": "#00CC96",
          "pattern": {
           "shape": ""
          }
         },
         "name": "Padaria",
         "offsetgroup": "Padaria",
         "orientation": "v",
         "showlegend": true,
         "textposition": "auto",
         "type": "bar",
         "x": [
          "sonho",
          "pão de forma",
          "pastel",
          "bolo",
          "pão francês",
          "pão de queijo",
          "sanduíche",
          "torta"
         ],
         "xaxis": "x",
         "y": [
          211,
          197,
          188,
          186,
          182,
          182,
          179,
          157
         ],
         "yaxis": "y"
        },
        {
         "alignmentgroup": "True",
         "hovertemplate": "Seção=Alimentos em Geral<br>Nome=%{x}<br>Quantidade vendida=%{y}<extra></extra>",
         "legendgroup": "Alimentos em Geral",
         "marker": {
          "color": "#636EFA",
          "pattern": {
           "shape": ""
          }
         },
         "name": "Alimentos em Geral",
         "offsetgroup": "Alimentos em Geral",
         "orientation": "v",
         "showlegend": true,
         "textposition": "auto",
         "type": "bar",
         "x": [
          "abobrinha",
          "arroz",
          "macarrão",
          "melancia",
          "morango",
          "feijão",
          "berinjela",
          "alface",
          "couve-flor",
          "banana",
          "batata",
          "uva"
         ],
         "xaxis": "x",
         "y": [
          207,
          199,
          194,
          194,
          192,
          186,
          172,
          169,
          168,
          168,
          163,
          117
         ],
         "yaxis": "y"
        },
        {
         "alignmentgroup": "True",
         "hovertemplate": "Seção=Açougue<br>Nome=%{x}<br>Quantidade vendida=%{y}<extra></extra>",
         "legendgroup": "Açougue",
         "marker": {
          "color": "#EF553B",
          "pattern": {
           "shape": ""
          }
         },
         "name": "Açougue",
         "offsetgroup": "Açougue",
         "orientation": "v",
         "showlegend": true,
         "textposition": "auto",
         "type": "bar",
         "x": [
          "alcatra",
          "picanha",
          "paleta suína",
          "peito de frango",
          "carré de cordeiro",
          "maminha",
          "bisteca suína",
          "costela"
         ],
         "xaxis": "x",
         "y": [
          200,
          187,
          181,
          180,
          167,
          165,
          162,
          126
         ],
         "yaxis": "y"
        },
        {
         "alignmentgroup": "True",
         "hovertemplate": "Seção=Produtos de Limpeza<br>Nome=%{x}<br>Quantidade vendida=%{y}<extra></extra>",
         "legendgroup": "Produtos de Limpeza",
         "marker": {
          "color": "#AB63FA",
          "pattern": {
           "shape": ""
          }
         },
         "name": "Produtos de Limpeza",
         "offsetgroup": "Produtos de Limpeza",
         "orientation": "v",
         "showlegend": true,
         "textposition": "auto",
         "type": "bar",
         "x": [
          "detergente",
          "água sanitária",
          "amaciante",
          "flanela",
          "sabão em pó",
          "rodo",
          "odorizador",
          "sabonete"
         ],
         "xaxis": "x",
         "y": [
          182,
          170,
          169,
          165,
          163,
          162,
          159,
          156
         ],
         "yaxis": "y"
        }
       ],
       "layout": {
        "barmode": "stack",
        "legend": {
         "title": {
          "text": "Seção"
         },
         "tracegroupgap": 0
        },
        "margin": {
         "t": 60
        },
        "template": {
         "data": {
          "bar": [
           {
            "error_x": {
             "color": "#2a3f5f"
            },
            "error_y": {
             "color": "#2a3f5f"
            },
            "marker": {
             "line": {
              "color": "#E5ECF6",
              "width": 0.5
             },
             "pattern": {
              "fillmode": "overlay",
              "size": 10,
              "solidity": 0.2
             }
            },
            "type": "bar"
           }
          ],
          "barpolar": [
           {
            "marker": {
             "line": {
              "color": "#E5ECF6",
              "width": 0.5
             },
             "pattern": {
              "fillmode": "overlay",
              "size": 10,
              "solidity": 0.2
             }
            },
            "type": "barpolar"
           }
          ],
          "carpet": [
           {
            "aaxis": {
             "endlinecolor": "#2a3f5f",
             "gridcolor": "white",
             "linecolor": "white",
             "minorgridcolor": "white",
             "startlinecolor": "#2a3f5f"
            },
            "baxis": {
             "endlinecolor": "#2a3f5f",
             "gridcolor": "white",
             "linecolor": "white",
             "minorgridcolor": "white",
             "startlinecolor": "#2a3f5f"
            },
            "type": "carpet"
           }
          ],
          "choropleth": [
           {
            "colorbar": {
             "outlinewidth": 0,
             "ticks": ""
            },
            "type": "choropleth"
           }
          ],
          "contour": [
           {
            "colorbar": {
             "outlinewidth": 0,
             "ticks": ""
            },
            "colorscale": [
             [
              0,
              "#0d0887"
             ],
             [
              0.1111111111111111,
              "#46039f"
             ],
             [
              0.2222222222222222,
              "#7201a8"
             ],
             [
              0.3333333333333333,
              "#9c179e"
             ],
             [
              0.4444444444444444,
              "#bd3786"
             ],
             [
              0.5555555555555556,
              "#d8576b"
             ],
             [
              0.6666666666666666,
              "#ed7953"
             ],
             [
              0.7777777777777778,
              "#fb9f3a"
             ],
             [
              0.8888888888888888,
              "#fdca26"
             ],
             [
              1,
              "#f0f921"
             ]
            ],
            "type": "contour"
           }
          ],
          "contourcarpet": [
           {
            "colorbar": {
             "outlinewidth": 0,
             "ticks": ""
            },
            "type": "contourcarpet"
           }
          ],
          "heatmap": [
           {
            "colorbar": {
             "outlinewidth": 0,
             "ticks": ""
            },
            "colorscale": [
             [
              0,
              "#0d0887"
             ],
             [
              0.1111111111111111,
              "#46039f"
             ],
             [
              0.2222222222222222,
              "#7201a8"
             ],
             [
              0.3333333333333333,
              "#9c179e"
             ],
             [
              0.4444444444444444,
              "#bd3786"
             ],
             [
              0.5555555555555556,
              "#d8576b"
             ],
             [
              0.6666666666666666,
              "#ed7953"
             ],
             [
              0.7777777777777778,
              "#fb9f3a"
             ],
             [
              0.8888888888888888,
              "#fdca26"
             ],
             [
              1,
              "#f0f921"
             ]
            ],
            "type": "heatmap"
           }
          ],
          "heatmapgl": [
           {
            "colorbar": {
             "outlinewidth": 0,
             "ticks": ""
            },
            "colorscale": [
             [
              0,
              "#0d0887"
             ],
             [
              0.1111111111111111,
              "#46039f"
             ],
             [
              0.2222222222222222,
              "#7201a8"
             ],
             [
              0.3333333333333333,
              "#9c179e"
             ],
             [
              0.4444444444444444,
              "#bd3786"
             ],
             [
              0.5555555555555556,
              "#d8576b"
             ],
             [
              0.6666666666666666,
              "#ed7953"
             ],
             [
              0.7777777777777778,
              "#fb9f3a"
             ],
             [
              0.8888888888888888,
              "#fdca26"
             ],
             [
              1,
              "#f0f921"
             ]
            ],
            "type": "heatmapgl"
           }
          ],
          "histogram": [
           {
            "marker": {
             "pattern": {
              "fillmode": "overlay",
              "size": 10,
              "solidity": 0.2
             }
            },
            "type": "histogram"
           }
          ],
          "histogram2d": [
           {
            "colorbar": {
             "outlinewidth": 0,
             "ticks": ""
            },
            "colorscale": [
             [
              0,
              "#0d0887"
             ],
             [
              0.1111111111111111,
              "#46039f"
             ],
             [
              0.2222222222222222,
              "#7201a8"
             ],
             [
              0.3333333333333333,
              "#9c179e"
             ],
             [
              0.4444444444444444,
              "#bd3786"
             ],
             [
              0.5555555555555556,
              "#d8576b"
             ],
             [
              0.6666666666666666,
              "#ed7953"
             ],
             [
              0.7777777777777778,
              "#fb9f3a"
             ],
             [
              0.8888888888888888,
              "#fdca26"
             ],
             [
              1,
              "#f0f921"
             ]
            ],
            "type": "histogram2d"
           }
          ],
          "histogram2dcontour": [
           {
            "colorbar": {
             "outlinewidth": 0,
             "ticks": ""
            },
            "colorscale": [
             [
              0,
              "#0d0887"
             ],
             [
              0.1111111111111111,
              "#46039f"
             ],
             [
              0.2222222222222222,
              "#7201a8"
             ],
             [
              0.3333333333333333,
              "#9c179e"
             ],
             [
              0.4444444444444444,
              "#bd3786"
             ],
             [
              0.5555555555555556,
              "#d8576b"
             ],
             [
              0.6666666666666666,
              "#ed7953"
             ],
             [
              0.7777777777777778,
              "#fb9f3a"
             ],
             [
              0.8888888888888888,
              "#fdca26"
             ],
             [
              1,
              "#f0f921"
             ]
            ],
            "type": "histogram2dcontour"
           }
          ],
          "mesh3d": [
           {
            "colorbar": {
             "outlinewidth": 0,
             "ticks": ""
            },
            "type": "mesh3d"
           }
          ],
          "parcoords": [
           {
            "line": {
             "colorbar": {
              "outlinewidth": 0,
              "ticks": ""
             }
            },
            "type": "parcoords"
           }
          ],
          "pie": [
           {
            "automargin": true,
            "type": "pie"
           }
          ],
          "scatter": [
           {
            "marker": {
             "colorbar": {
              "outlinewidth": 0,
              "ticks": ""
             }
            },
            "type": "scatter"
           }
          ],
          "scatter3d": [
           {
            "line": {
             "colorbar": {
              "outlinewidth": 0,
              "ticks": ""
             }
            },
            "marker": {
             "colorbar": {
              "outlinewidth": 0,
              "ticks": ""
             }
            },
            "type": "scatter3d"
           }
          ],
          "scattercarpet": [
           {
            "marker": {
             "colorbar": {
              "outlinewidth": 0,
              "ticks": ""
             }
            },
            "type": "scattercarpet"
           }
          ],
          "scattergeo": [
           {
            "marker": {
             "colorbar": {
              "outlinewidth": 0,
              "ticks": ""
             }
            },
            "type": "scattergeo"
           }
          ],
          "scattergl": [
           {
            "marker": {
             "colorbar": {
              "outlinewidth": 0,
              "ticks": ""
             }
            },
            "type": "scattergl"
           }
          ],
          "scattermapbox": [
           {
            "marker": {
             "colorbar": {
              "outlinewidth": 0,
              "ticks": ""
             }
            },
            "type": "scattermapbox"
           }
          ],
          "scatterpolar": [
           {
            "marker": {
             "colorbar": {
              "outlinewidth": 0,
              "ticks": ""
             }
            },
            "type": "scatterpolar"
           }
          ],
          "scatterpolargl": [
           {
            "marker": {
             "colorbar": {
              "outlinewidth": 0,
              "ticks": ""
             }
            },
            "type": "scatterpolargl"
           }
          ],
          "scatterternary": [
           {
            "marker": {
             "colorbar": {
              "outlinewidth": 0,
              "ticks": ""
             }
            },
            "type": "scatterternary"
           }
          ],
          "surface": [
           {
            "colorbar": {
             "outlinewidth": 0,
             "ticks": ""
            },
            "colorscale": [
             [
              0,
              "#0d0887"
             ],
             [
              0.1111111111111111,
              "#46039f"
             ],
             [
              0.2222222222222222,
              "#7201a8"
             ],
             [
              0.3333333333333333,
              "#9c179e"
             ],
             [
              0.4444444444444444,
              "#bd3786"
             ],
             [
              0.5555555555555556,
              "#d8576b"
             ],
             [
              0.6666666666666666,
              "#ed7953"
             ],
             [
              0.7777777777777778,
              "#fb9f3a"
             ],
             [
              0.8888888888888888,
              "#fdca26"
             ],
             [
              1,
              "#f0f921"
             ]
            ],
            "type": "surface"
           }
          ],
          "table": [
           {
            "cells": {
             "fill": {
              "color": "#EBF0F8"
             },
             "line": {
              "color": "white"
             }
            },
            "header": {
             "fill": {
              "color": "#C8D4E3"
             },
             "line": {
              "color": "white"
             }
            },
            "type": "table"
           }
          ]
         },
         "layout": {
          "annotationdefaults": {
           "arrowcolor": "#2a3f5f",
           "arrowhead": 0,
           "arrowwidth": 1
          },
          "autotypenumbers": "strict",
          "coloraxis": {
           "colorbar": {
            "outlinewidth": 0,
            "ticks": ""
           }
          },
          "colorscale": {
           "diverging": [
            [
             0,
             "#8e0152"
            ],
            [
             0.1,
             "#c51b7d"
            ],
            [
             0.2,
             "#de77ae"
            ],
            [
             0.3,
             "#f1b6da"
            ],
            [
             0.4,
             "#fde0ef"
            ],
            [
             0.5,
             "#f7f7f7"
            ],
            [
             0.6,
             "#e6f5d0"
            ],
            [
             0.7,
             "#b8e186"
            ],
            [
             0.8,
             "#7fbc41"
            ],
            [
             0.9,
             "#4d9221"
            ],
            [
             1,
             "#276419"
            ]
           ],
           "sequential": [
            [
             0,
             "#0d0887"
            ],
            [
             0.1111111111111111,
             "#46039f"
            ],
            [
             0.2222222222222222,
             "#7201a8"
            ],
            [
             0.3333333333333333,
             "#9c179e"
            ],
            [
             0.4444444444444444,
             "#bd3786"
            ],
            [
             0.5555555555555556,
             "#d8576b"
            ],
            [
             0.6666666666666666,
             "#ed7953"
            ],
            [
             0.7777777777777778,
             "#fb9f3a"
            ],
            [
             0.8888888888888888,
             "#fdca26"
            ],
            [
             1,
             "#f0f921"
            ]
           ],
           "sequentialminus": [
            [
             0,
             "#0d0887"
            ],
            [
             0.1111111111111111,
             "#46039f"
            ],
            [
             0.2222222222222222,
             "#7201a8"
            ],
            [
             0.3333333333333333,
             "#9c179e"
            ],
            [
             0.4444444444444444,
             "#bd3786"
            ],
            [
             0.5555555555555556,
             "#d8576b"
            ],
            [
             0.6666666666666666,
             "#ed7953"
            ],
            [
             0.7777777777777778,
             "#fb9f3a"
            ],
            [
             0.8888888888888888,
             "#fdca26"
            ],
            [
             1,
             "#f0f921"
            ]
           ]
          },
          "colorway": [
           "#636efa",
           "#EF553B",
           "#00cc96",
           "#ab63fa",
           "#FFA15A",
           "#19d3f3",
           "#FF6692",
           "#B6E880",
           "#FF97FF",
           "#FECB52"
          ],
          "font": {
           "color": "#2a3f5f"
          },
          "geo": {
           "bgcolor": "white",
           "lakecolor": "white",
           "landcolor": "#E5ECF6",
           "showlakes": true,
           "showland": true,
           "subunitcolor": "white"
          },
          "hoverlabel": {
           "align": "left"
          },
          "hovermode": "closest",
          "mapbox": {
           "style": "light"
          },
          "paper_bgcolor": "white",
          "plot_bgcolor": "#E5ECF6",
          "polar": {
           "angularaxis": {
            "gridcolor": "white",
            "linecolor": "white",
            "ticks": ""
           },
           "bgcolor": "#E5ECF6",
           "radialaxis": {
            "gridcolor": "white",
            "linecolor": "white",
            "ticks": ""
           }
          },
          "scene": {
           "xaxis": {
            "backgroundcolor": "#E5ECF6",
            "gridcolor": "white",
            "gridwidth": 2,
            "linecolor": "white",
            "showbackground": true,
            "ticks": "",
            "zerolinecolor": "white"
           },
           "yaxis": {
            "backgroundcolor": "#E5ECF6",
            "gridcolor": "white",
            "gridwidth": 2,
            "linecolor": "white",
            "showbackground": true,
            "ticks": "",
            "zerolinecolor": "white"
           },
           "zaxis": {
            "backgroundcolor": "#E5ECF6",
            "gridcolor": "white",
            "gridwidth": 2,
            "linecolor": "white",
            "showbackground": true,
            "ticks": "",
            "zerolinecolor": "white"
           }
          },
          "shapedefaults": {
           "line": {
            "color": "#2a3f5f"
           }
          },
          "ternary": {
           "aaxis": {
            "gridcolor": "white",
            "linecolor": "white",
            "ticks": ""
           },
           "baxis": {
            "gridcolor": "white",
            "linecolor": "white",
            "ticks": ""
           },
           "bgcolor": "#E5ECF6",
           "caxis": {
            "gridcolor": "white",
            "linecolor": "white",
            "ticks": ""
           }
          },
          "title": {
           "x": 0.05
          },
          "xaxis": {
           "automargin": true,
           "gridcolor": "white",
           "linecolor": "white",
           "ticks": "",
           "title": {
            "standoff": 15
           },
           "zerolinecolor": "white",
           "zerolinewidth": 2
          },
          "yaxis": {
           "automargin": true,
           "gridcolor": "white",
           "linecolor": "white",
           "ticks": "",
           "title": {
            "standoff": 15
           },
           "zerolinecolor": "white",
           "zerolinewidth": 2
          }
         }
        },
        "title": {
         "text": "Venda dos produtos"
        },
        "xaxis": {
         "anchor": "y",
         "categoryorder": "total descending",
         "domain": [
          0,
          1
         ],
         "tickangle": 45,
         "title": {
          "text": "Produto"
         }
        },
        "yaxis": {
         "anchor": "x",
         "domain": [
          0,
          1
         ],
         "title": {
          "text": "Quantidade vendida"
         }
        }
       }
      },
      "text/html": [
       "<div>                            <div id=\"1fdaece7-1a59-408b-ad86-82d4117829c5\" class=\"plotly-graph-div\" style=\"height:525px; width:100%;\"></div>            <script type=\"text/javascript\">                require([\"plotly\"], function(Plotly) {                    window.PLOTLYENV=window.PLOTLYENV || {};                                    if (document.getElementById(\"1fdaece7-1a59-408b-ad86-82d4117829c5\")) {                    Plotly.newPlot(                        \"1fdaece7-1a59-408b-ad86-82d4117829c5\",                        [{\"alignmentgroup\":\"True\",\"hovertemplate\":\"Se\\u00e7\\u00e3o=Padaria<br>Nome=%{x}<br>Quantidade vendida=%{y}<extra></extra>\",\"legendgroup\":\"Padaria\",\"marker\":{\"color\":\"#00CC96\",\"pattern\":{\"shape\":\"\"}},\"name\":\"Padaria\",\"offsetgroup\":\"Padaria\",\"orientation\":\"v\",\"showlegend\":true,\"textposition\":\"auto\",\"type\":\"bar\",\"x\":[\"sonho\",\"p\\u00e3o de forma\",\"pastel\",\"bolo\",\"p\\u00e3o franc\\u00eas\",\"p\\u00e3o de queijo\",\"sandu\\u00edche\",\"torta\"],\"xaxis\":\"x\",\"y\":[211,197,188,186,182,182,179,157],\"yaxis\":\"y\"},{\"alignmentgroup\":\"True\",\"hovertemplate\":\"Se\\u00e7\\u00e3o=Alimentos em Geral<br>Nome=%{x}<br>Quantidade vendida=%{y}<extra></extra>\",\"legendgroup\":\"Alimentos em Geral\",\"marker\":{\"color\":\"#636EFA\",\"pattern\":{\"shape\":\"\"}},\"name\":\"Alimentos em Geral\",\"offsetgroup\":\"Alimentos em Geral\",\"orientation\":\"v\",\"showlegend\":true,\"textposition\":\"auto\",\"type\":\"bar\",\"x\":[\"abobrinha\",\"arroz\",\"macarr\\u00e3o\",\"melancia\",\"morango\",\"feij\\u00e3o\",\"berinjela\",\"alface\",\"couve-flor\",\"banana\",\"batata\",\"uva\"],\"xaxis\":\"x\",\"y\":[207,199,194,194,192,186,172,169,168,168,163,117],\"yaxis\":\"y\"},{\"alignmentgroup\":\"True\",\"hovertemplate\":\"Se\\u00e7\\u00e3o=A\\u00e7ougue<br>Nome=%{x}<br>Quantidade vendida=%{y}<extra></extra>\",\"legendgroup\":\"A\\u00e7ougue\",\"marker\":{\"color\":\"#EF553B\",\"pattern\":{\"shape\":\"\"}},\"name\":\"A\\u00e7ougue\",\"offsetgroup\":\"A\\u00e7ougue\",\"orientation\":\"v\",\"showlegend\":true,\"textposition\":\"auto\",\"type\":\"bar\",\"x\":[\"alcatra\",\"picanha\",\"paleta su\\u00edna\",\"peito de frango\",\"carr\\u00e9 de cordeiro\",\"maminha\",\"bisteca su\\u00edna\",\"costela\"],\"xaxis\":\"x\",\"y\":[200,187,181,180,167,165,162,126],\"yaxis\":\"y\"},{\"alignmentgroup\":\"True\",\"hovertemplate\":\"Se\\u00e7\\u00e3o=Produtos de Limpeza<br>Nome=%{x}<br>Quantidade vendida=%{y}<extra></extra>\",\"legendgroup\":\"Produtos de Limpeza\",\"marker\":{\"color\":\"#AB63FA\",\"pattern\":{\"shape\":\"\"}},\"name\":\"Produtos de Limpeza\",\"offsetgroup\":\"Produtos de Limpeza\",\"orientation\":\"v\",\"showlegend\":true,\"textposition\":\"auto\",\"type\":\"bar\",\"x\":[\"detergente\",\"\\u00e1gua sanit\\u00e1ria\",\"amaciante\",\"flanela\",\"sab\\u00e3o em p\\u00f3\",\"rodo\",\"odorizador\",\"sabonete\"],\"xaxis\":\"x\",\"y\":[182,170,169,165,163,162,159,156],\"yaxis\":\"y\"}],                        {\"barmode\":\"stack\",\"legend\":{\"title\":{\"text\":\"Se\\u00e7\\u00e3o\"},\"tracegroupgap\":0},\"margin\":{\"t\":60},\"template\":{\"data\":{\"bar\":[{\"error_x\":{\"color\":\"#2a3f5f\"},\"error_y\":{\"color\":\"#2a3f5f\"},\"marker\":{\"line\":{\"color\":\"#E5ECF6\",\"width\":0.5},\"pattern\":{\"fillmode\":\"overlay\",\"size\":10,\"solidity\":0.2}},\"type\":\"bar\"}],\"barpolar\":[{\"marker\":{\"line\":{\"color\":\"#E5ECF6\",\"width\":0.5},\"pattern\":{\"fillmode\":\"overlay\",\"size\":10,\"solidity\":0.2}},\"type\":\"barpolar\"}],\"carpet\":[{\"aaxis\":{\"endlinecolor\":\"#2a3f5f\",\"gridcolor\":\"white\",\"linecolor\":\"white\",\"minorgridcolor\":\"white\",\"startlinecolor\":\"#2a3f5f\"},\"baxis\":{\"endlinecolor\":\"#2a3f5f\",\"gridcolor\":\"white\",\"linecolor\":\"white\",\"minorgridcolor\":\"white\",\"startlinecolor\":\"#2a3f5f\"},\"type\":\"carpet\"}],\"choropleth\":[{\"colorbar\":{\"outlinewidth\":0,\"ticks\":\"\"},\"type\":\"choropleth\"}],\"contour\":[{\"colorbar\":{\"outlinewidth\":0,\"ticks\":\"\"},\"colorscale\":[[0.0,\"#0d0887\"],[0.1111111111111111,\"#46039f\"],[0.2222222222222222,\"#7201a8\"],[0.3333333333333333,\"#9c179e\"],[0.4444444444444444,\"#bd3786\"],[0.5555555555555556,\"#d8576b\"],[0.6666666666666666,\"#ed7953\"],[0.7777777777777778,\"#fb9f3a\"],[0.8888888888888888,\"#fdca26\"],[1.0,\"#f0f921\"]],\"type\":\"contour\"}],\"contourcarpet\":[{\"colorbar\":{\"outlinewidth\":0,\"ticks\":\"\"},\"type\":\"contourcarpet\"}],\"heatmap\":[{\"colorbar\":{\"outlinewidth\":0,\"ticks\":\"\"},\"colorscale\":[[0.0,\"#0d0887\"],[0.1111111111111111,\"#46039f\"],[0.2222222222222222,\"#7201a8\"],[0.3333333333333333,\"#9c179e\"],[0.4444444444444444,\"#bd3786\"],[0.5555555555555556,\"#d8576b\"],[0.6666666666666666,\"#ed7953\"],[0.7777777777777778,\"#fb9f3a\"],[0.8888888888888888,\"#fdca26\"],[1.0,\"#f0f921\"]],\"type\":\"heatmap\"}],\"heatmapgl\":[{\"colorbar\":{\"outlinewidth\":0,\"ticks\":\"\"},\"colorscale\":[[0.0,\"#0d0887\"],[0.1111111111111111,\"#46039f\"],[0.2222222222222222,\"#7201a8\"],[0.3333333333333333,\"#9c179e\"],[0.4444444444444444,\"#bd3786\"],[0.5555555555555556,\"#d8576b\"],[0.6666666666666666,\"#ed7953\"],[0.7777777777777778,\"#fb9f3a\"],[0.8888888888888888,\"#fdca26\"],[1.0,\"#f0f921\"]],\"type\":\"heatmapgl\"}],\"histogram\":[{\"marker\":{\"pattern\":{\"fillmode\":\"overlay\",\"size\":10,\"solidity\":0.2}},\"type\":\"histogram\"}],\"histogram2d\":[{\"colorbar\":{\"outlinewidth\":0,\"ticks\":\"\"},\"colorscale\":[[0.0,\"#0d0887\"],[0.1111111111111111,\"#46039f\"],[0.2222222222222222,\"#7201a8\"],[0.3333333333333333,\"#9c179e\"],[0.4444444444444444,\"#bd3786\"],[0.5555555555555556,\"#d8576b\"],[0.6666666666666666,\"#ed7953\"],[0.7777777777777778,\"#fb9f3a\"],[0.8888888888888888,\"#fdca26\"],[1.0,\"#f0f921\"]],\"type\":\"histogram2d\"}],\"histogram2dcontour\":[{\"colorbar\":{\"outlinewidth\":0,\"ticks\":\"\"},\"colorscale\":[[0.0,\"#0d0887\"],[0.1111111111111111,\"#46039f\"],[0.2222222222222222,\"#7201a8\"],[0.3333333333333333,\"#9c179e\"],[0.4444444444444444,\"#bd3786\"],[0.5555555555555556,\"#d8576b\"],[0.6666666666666666,\"#ed7953\"],[0.7777777777777778,\"#fb9f3a\"],[0.8888888888888888,\"#fdca26\"],[1.0,\"#f0f921\"]],\"type\":\"histogram2dcontour\"}],\"mesh3d\":[{\"colorbar\":{\"outlinewidth\":0,\"ticks\":\"\"},\"type\":\"mesh3d\"}],\"parcoords\":[{\"line\":{\"colorbar\":{\"outlinewidth\":0,\"ticks\":\"\"}},\"type\":\"parcoords\"}],\"pie\":[{\"automargin\":true,\"type\":\"pie\"}],\"scatter\":[{\"marker\":{\"colorbar\":{\"outlinewidth\":0,\"ticks\":\"\"}},\"type\":\"scatter\"}],\"scatter3d\":[{\"line\":{\"colorbar\":{\"outlinewidth\":0,\"ticks\":\"\"}},\"marker\":{\"colorbar\":{\"outlinewidth\":0,\"ticks\":\"\"}},\"type\":\"scatter3d\"}],\"scattercarpet\":[{\"marker\":{\"colorbar\":{\"outlinewidth\":0,\"ticks\":\"\"}},\"type\":\"scattercarpet\"}],\"scattergeo\":[{\"marker\":{\"colorbar\":{\"outlinewidth\":0,\"ticks\":\"\"}},\"type\":\"scattergeo\"}],\"scattergl\":[{\"marker\":{\"colorbar\":{\"outlinewidth\":0,\"ticks\":\"\"}},\"type\":\"scattergl\"}],\"scattermapbox\":[{\"marker\":{\"colorbar\":{\"outlinewidth\":0,\"ticks\":\"\"}},\"type\":\"scattermapbox\"}],\"scatterpolar\":[{\"marker\":{\"colorbar\":{\"outlinewidth\":0,\"ticks\":\"\"}},\"type\":\"scatterpolar\"}],\"scatterpolargl\":[{\"marker\":{\"colorbar\":{\"outlinewidth\":0,\"ticks\":\"\"}},\"type\":\"scatterpolargl\"}],\"scatterternary\":[{\"marker\":{\"colorbar\":{\"outlinewidth\":0,\"ticks\":\"\"}},\"type\":\"scatterternary\"}],\"surface\":[{\"colorbar\":{\"outlinewidth\":0,\"ticks\":\"\"},\"colorscale\":[[0.0,\"#0d0887\"],[0.1111111111111111,\"#46039f\"],[0.2222222222222222,\"#7201a8\"],[0.3333333333333333,\"#9c179e\"],[0.4444444444444444,\"#bd3786\"],[0.5555555555555556,\"#d8576b\"],[0.6666666666666666,\"#ed7953\"],[0.7777777777777778,\"#fb9f3a\"],[0.8888888888888888,\"#fdca26\"],[1.0,\"#f0f921\"]],\"type\":\"surface\"}],\"table\":[{\"cells\":{\"fill\":{\"color\":\"#EBF0F8\"},\"line\":{\"color\":\"white\"}},\"header\":{\"fill\":{\"color\":\"#C8D4E3\"},\"line\":{\"color\":\"white\"}},\"type\":\"table\"}]},\"layout\":{\"annotationdefaults\":{\"arrowcolor\":\"#2a3f5f\",\"arrowhead\":0,\"arrowwidth\":1},\"autotypenumbers\":\"strict\",\"coloraxis\":{\"colorbar\":{\"outlinewidth\":0,\"ticks\":\"\"}},\"colorscale\":{\"diverging\":[[0,\"#8e0152\"],[0.1,\"#c51b7d\"],[0.2,\"#de77ae\"],[0.3,\"#f1b6da\"],[0.4,\"#fde0ef\"],[0.5,\"#f7f7f7\"],[0.6,\"#e6f5d0\"],[0.7,\"#b8e186\"],[0.8,\"#7fbc41\"],[0.9,\"#4d9221\"],[1,\"#276419\"]],\"sequential\":[[0.0,\"#0d0887\"],[0.1111111111111111,\"#46039f\"],[0.2222222222222222,\"#7201a8\"],[0.3333333333333333,\"#9c179e\"],[0.4444444444444444,\"#bd3786\"],[0.5555555555555556,\"#d8576b\"],[0.6666666666666666,\"#ed7953\"],[0.7777777777777778,\"#fb9f3a\"],[0.8888888888888888,\"#fdca26\"],[1.0,\"#f0f921\"]],\"sequentialminus\":[[0.0,\"#0d0887\"],[0.1111111111111111,\"#46039f\"],[0.2222222222222222,\"#7201a8\"],[0.3333333333333333,\"#9c179e\"],[0.4444444444444444,\"#bd3786\"],[0.5555555555555556,\"#d8576b\"],[0.6666666666666666,\"#ed7953\"],[0.7777777777777778,\"#fb9f3a\"],[0.8888888888888888,\"#fdca26\"],[1.0,\"#f0f921\"]]},\"colorway\":[\"#636efa\",\"#EF553B\",\"#00cc96\",\"#ab63fa\",\"#FFA15A\",\"#19d3f3\",\"#FF6692\",\"#B6E880\",\"#FF97FF\",\"#FECB52\"],\"font\":{\"color\":\"#2a3f5f\"},\"geo\":{\"bgcolor\":\"white\",\"lakecolor\":\"white\",\"landcolor\":\"#E5ECF6\",\"showlakes\":true,\"showland\":true,\"subunitcolor\":\"white\"},\"hoverlabel\":{\"align\":\"left\"},\"hovermode\":\"closest\",\"mapbox\":{\"style\":\"light\"},\"paper_bgcolor\":\"white\",\"plot_bgcolor\":\"#E5ECF6\",\"polar\":{\"angularaxis\":{\"gridcolor\":\"white\",\"linecolor\":\"white\",\"ticks\":\"\"},\"bgcolor\":\"#E5ECF6\",\"radialaxis\":{\"gridcolor\":\"white\",\"linecolor\":\"white\",\"ticks\":\"\"}},\"scene\":{\"xaxis\":{\"backgroundcolor\":\"#E5ECF6\",\"gridcolor\":\"white\",\"gridwidth\":2,\"linecolor\":\"white\",\"showbackground\":true,\"ticks\":\"\",\"zerolinecolor\":\"white\"},\"yaxis\":{\"backgroundcolor\":\"#E5ECF6\",\"gridcolor\":\"white\",\"gridwidth\":2,\"linecolor\":\"white\",\"showbackground\":true,\"ticks\":\"\",\"zerolinecolor\":\"white\"},\"zaxis\":{\"backgroundcolor\":\"#E5ECF6\",\"gridcolor\":\"white\",\"gridwidth\":2,\"linecolor\":\"white\",\"showbackground\":true,\"ticks\":\"\",\"zerolinecolor\":\"white\"}},\"shapedefaults\":{\"line\":{\"color\":\"#2a3f5f\"}},\"ternary\":{\"aaxis\":{\"gridcolor\":\"white\",\"linecolor\":\"white\",\"ticks\":\"\"},\"baxis\":{\"gridcolor\":\"white\",\"linecolor\":\"white\",\"ticks\":\"\"},\"bgcolor\":\"#E5ECF6\",\"caxis\":{\"gridcolor\":\"white\",\"linecolor\":\"white\",\"ticks\":\"\"}},\"title\":{\"x\":0.05},\"xaxis\":{\"automargin\":true,\"gridcolor\":\"white\",\"linecolor\":\"white\",\"ticks\":\"\",\"title\":{\"standoff\":15},\"zerolinecolor\":\"white\",\"zerolinewidth\":2},\"yaxis\":{\"automargin\":true,\"gridcolor\":\"white\",\"linecolor\":\"white\",\"ticks\":\"\",\"title\":{\"standoff\":15},\"zerolinecolor\":\"white\",\"zerolinewidth\":2}}},\"title\":{\"text\":\"Venda dos produtos\"},\"xaxis\":{\"anchor\":\"y\",\"categoryorder\":\"total descending\",\"domain\":[0.0,1.0],\"tickangle\":45,\"title\":{\"text\":\"Produto\"}},\"yaxis\":{\"anchor\":\"x\",\"domain\":[0.0,1.0],\"title\":{\"text\":\"Quantidade vendida\"}}},                        {\"responsive\": true}                    ).then(function(){\n",
       "                            \n",
       "var gd = document.getElementById('1fdaece7-1a59-408b-ad86-82d4117829c5');\n",
       "var x = new MutationObserver(function (mutations, observer) {{\n",
       "        var display = window.getComputedStyle(gd).display;\n",
       "        if (!display || display === 'none') {{\n",
       "            console.log([gd, 'removed!']);\n",
       "            Plotly.purge(gd);\n",
       "            observer.disconnect();\n",
       "        }}\n",
       "}});\n",
       "\n",
       "// Listen for the removal of the full notebook cells\n",
       "var notebookContainer = gd.closest('#notebook-container');\n",
       "if (notebookContainer) {{\n",
       "    x.observe(notebookContainer, {childList: true});\n",
       "}}\n",
       "\n",
       "// Listen for the clearing of the current output cell\n",
       "var outputEl = gd.closest('.output');\n",
       "if (outputEl) {{\n",
       "    x.observe(outputEl, {childList: true});\n",
       "}}\n",
       "\n",
       "                        })                };                });            </script>        </div>"
      ]
     },
     "metadata": {},
     "output_type": "display_data"
    }
   ],
   "source": [
    "\n",
    "#FFDD79\n",
    "#plotagem do gráfico de barras sobre o total de vendas por produto usando plotly\n",
    "fig_quantidade_produto = px.bar(venda_produtos_quantidade_total,\n",
    "             x='nome', y=\"quantidade\", color=\"secao\", \n",
    "             barmode='stack', labels={\"nome\": \"Nome\", 'quantidade':\"Quantidade vendida\", \"secao\":\"Seção\"}, color_discrete_map={'Açougue': '#EF553B', \n",
    "                                                   'Padaria': '#00CC96', 'Produtos de Limpeza': '#AB63FA', 'Alimentos em Geral': '#636EFA'})\n",
    "fig_quantidade_produto.update_layout(title = 'Venda dos produtos', xaxis={'categoryorder':'total descending'})\n",
    "fig_quantidade_produto.update_xaxes(title = 'Produto')\n",
    "fig_quantidade_produto.update_yaxes(title = 'Quantidade vendida')\n",
    "fig_quantidade_produto.update_xaxes(tickangle=45)\n",
    "fig_quantidade_produto.show()"
   ]
  },
  {
   "cell_type": "code",
   "execution_count": 10,
   "id": "8a1c89c5",
   "metadata": {},
   "outputs": [
    {
     "name": "stderr",
     "output_type": "stream",
     "text": [
      "IOPub data rate exceeded.\n",
      "The notebook server will temporarily stop sending output\n",
      "to the client in order to avoid crashing it.\n",
      "To change this limit, set the config variable\n",
      "`--NotebookApp.iopub_data_rate_limit`.\n",
      "\n",
      "Current values:\n",
      "NotebookApp.iopub_data_rate_limit=1000000.0 (bytes/sec)\n",
      "NotebookApp.rate_limit_window=3.0 (secs)\n",
      "\n"
     ]
    }
   ],
   "source": [
    "from plotly.io import to_html\n",
    "#f=to_html(fig, full_html = False)\n",
    "f=fig_quantidade_produto.to_html(full_html=False)\n",
    "print(f)"
   ]
  },
  {
   "cell_type": "markdown",
   "id": "fdb739ee",
   "metadata": {},
   "source": [
    "## Relação entre preço e estoque"
   ]
  },
  {
   "cell_type": "code",
   "execution_count": 81,
   "id": "c607e931",
   "metadata": {},
   "outputs": [
    {
     "data": {
      "application/vnd.plotly.v1+json": {
       "config": {
        "plotlyServerURL": "https://plot.ly"
       },
       "data": [
        {
         "hovertemplate": "quantidade=%{x}<br>Preço=%{y}<extra></extra>",
         "legendgroup": "",
         "marker": {
          "color": "#00CC96",
          "symbol": "circle"
         },
         "mode": "markers",
         "name": "",
         "showlegend": false,
         "type": "scattergl",
         "x": [
          4,
          2,
          4,
          4,
          3,
          2,
          1,
          1,
          1,
          1,
          2,
          1,
          3,
          2,
          3,
          4,
          2,
          2,
          1,
          3,
          1,
          4,
          1,
          2,
          2,
          4,
          3,
          1,
          2,
          3,
          3,
          3,
          3,
          4,
          3,
          4,
          2,
          1,
          3,
          4,
          3,
          1,
          4,
          2,
          4,
          3,
          3,
          2,
          1,
          3,
          1,
          2,
          4,
          2,
          3,
          4,
          4,
          3,
          2,
          2,
          2,
          1,
          1,
          2,
          4,
          1,
          4,
          1,
          3,
          4,
          4,
          3,
          1,
          2,
          3,
          1,
          3,
          2,
          2,
          1,
          3,
          3,
          1,
          3,
          2,
          4,
          3,
          2,
          4,
          4,
          1,
          4,
          3,
          3,
          4,
          4,
          2,
          3,
          3,
          1,
          2,
          2,
          2,
          3,
          4,
          2,
          4,
          4,
          4,
          3,
          2,
          3,
          1,
          3,
          1,
          1,
          1,
          4,
          4,
          1,
          2,
          1,
          2,
          2,
          2,
          3,
          2,
          3,
          4,
          4,
          4,
          4,
          1,
          3,
          3,
          1,
          2,
          3,
          1,
          3,
          3,
          2,
          4,
          3,
          4,
          2,
          4,
          4,
          2,
          1,
          1,
          3,
          3,
          3,
          3,
          2,
          1,
          2,
          2,
          3,
          4,
          1,
          2,
          2,
          4,
          1,
          1,
          4,
          1,
          1,
          4,
          1,
          3,
          3,
          2,
          4,
          3,
          3,
          4,
          4,
          4,
          3,
          2,
          2,
          4,
          3,
          1,
          1,
          4,
          2,
          4,
          1,
          3,
          2,
          1,
          3,
          1,
          4,
          1,
          4,
          4,
          3,
          3,
          4,
          3,
          1,
          3,
          1,
          3,
          3,
          4,
          4,
          4,
          3,
          2,
          3,
          4,
          4,
          2,
          1,
          3,
          3,
          1,
          1,
          2,
          1,
          1,
          1,
          4,
          4,
          1,
          4,
          1,
          3,
          4,
          2,
          1,
          1,
          2,
          1,
          4,
          2,
          1,
          3,
          4,
          2,
          2,
          1,
          1,
          1,
          2,
          3,
          2,
          2,
          3,
          1,
          1,
          3,
          4,
          3,
          2,
          3,
          2,
          4,
          1,
          2,
          3,
          4,
          3,
          3,
          1,
          4,
          3,
          1,
          4,
          4,
          1,
          1,
          4,
          4,
          1,
          3,
          3,
          4,
          2,
          1,
          2,
          1,
          3,
          2,
          4,
          2,
          4,
          4,
          1,
          1,
          3,
          3,
          4,
          4,
          3,
          4,
          3,
          2,
          4,
          1,
          2,
          1,
          4,
          1,
          1,
          2,
          1,
          3,
          4,
          2,
          2,
          1,
          1,
          1,
          4,
          1,
          4,
          2,
          4,
          1,
          1,
          4,
          1,
          1,
          1,
          1,
          3,
          3,
          1,
          2,
          4,
          2,
          3,
          2,
          3,
          1,
          1,
          4,
          3,
          2,
          1,
          3,
          1,
          3,
          4,
          2,
          2,
          3,
          1,
          4,
          1,
          3,
          1,
          3,
          3,
          2,
          4,
          4,
          2,
          2,
          4,
          4,
          4,
          4,
          2,
          3,
          1,
          1,
          2,
          2,
          4,
          3,
          3,
          4,
          4,
          3,
          4,
          1,
          4,
          2,
          3,
          2,
          3,
          2,
          1,
          1,
          1,
          3,
          4,
          1,
          3,
          4,
          3,
          2,
          3,
          1,
          2,
          4,
          3,
          3,
          1,
          3,
          3,
          4,
          4,
          2,
          4,
          2,
          2,
          1,
          2,
          2,
          3,
          1,
          4,
          4,
          4,
          1,
          4,
          3,
          1,
          4,
          3,
          2,
          2,
          1,
          1,
          4,
          1,
          2,
          1,
          2,
          1,
          3,
          3,
          3,
          2,
          1,
          1,
          4,
          4,
          3,
          2,
          1,
          3,
          4,
          1,
          1,
          2,
          1,
          3,
          4,
          4,
          3,
          2,
          2,
          1,
          1,
          1,
          4,
          2,
          1,
          1,
          4,
          1,
          4,
          2,
          2,
          4,
          1,
          1,
          2,
          4,
          1,
          4,
          2,
          1,
          1,
          2,
          3,
          1,
          2,
          3,
          1,
          4,
          4,
          3,
          4,
          2,
          1,
          3,
          4,
          2,
          4,
          3,
          1,
          2,
          2,
          1,
          2,
          4,
          3,
          1,
          2,
          1,
          2,
          3,
          4,
          4,
          3,
          2,
          3,
          2,
          3,
          1,
          2,
          2,
          2,
          4,
          3,
          1,
          1,
          3,
          2,
          1,
          1,
          4,
          3,
          1,
          2,
          1,
          1,
          3,
          3,
          1,
          3,
          2,
          2,
          4,
          2,
          3,
          2,
          3,
          4,
          1,
          3,
          4,
          3,
          3,
          2,
          3,
          3,
          2,
          4,
          3,
          3,
          3,
          2,
          4,
          3,
          4,
          3,
          2,
          1,
          2,
          1,
          2,
          3,
          1,
          2,
          2,
          1,
          4,
          1,
          3,
          4,
          1,
          3,
          3,
          2,
          3,
          3,
          2,
          3,
          4,
          4,
          1,
          2,
          2,
          2,
          1,
          1,
          4,
          4,
          1,
          2,
          2,
          1,
          2,
          1,
          1,
          1,
          1,
          4,
          4,
          3,
          2,
          1,
          2,
          2,
          3,
          3,
          1,
          2,
          2,
          4,
          3,
          1,
          3,
          2,
          1,
          1,
          2,
          2,
          4,
          4,
          4,
          2,
          3,
          2,
          1,
          2,
          2,
          3,
          3,
          4,
          3,
          2,
          2,
          2,
          4,
          2,
          4,
          1,
          4,
          4,
          3,
          4,
          4,
          1,
          1,
          4,
          3,
          4,
          3,
          3,
          4,
          1,
          4,
          1,
          4,
          1,
          2,
          2,
          2,
          4,
          3,
          3,
          3,
          1,
          1,
          3,
          3,
          4,
          2,
          3,
          3,
          1,
          1,
          1,
          2,
          1,
          4,
          1,
          2,
          1,
          4,
          2,
          3,
          4,
          1,
          3,
          4,
          2,
          1,
          1,
          4,
          2,
          3,
          3,
          2,
          4,
          3,
          3,
          3,
          2,
          3,
          1,
          1,
          1,
          3,
          3,
          1,
          2,
          2,
          4,
          2,
          2,
          2,
          2,
          3,
          4,
          3,
          1,
          2,
          3,
          3,
          4,
          3,
          3,
          1,
          3,
          3,
          1,
          2,
          3,
          4,
          3,
          4,
          4,
          3,
          3,
          3,
          4,
          4,
          2,
          4,
          1,
          3,
          4,
          1,
          3,
          3,
          1,
          3,
          3,
          1,
          3,
          1,
          2,
          3,
          2,
          4,
          2,
          4,
          2,
          1,
          2,
          3,
          4,
          3,
          4,
          3,
          3,
          3,
          2,
          1,
          3,
          3,
          4,
          4,
          4,
          3,
          2,
          4,
          2,
          3,
          2,
          1,
          3,
          1,
          1,
          3,
          1,
          3,
          1,
          2,
          2,
          3,
          3,
          2,
          1,
          3,
          2,
          3,
          1,
          1,
          3,
          4,
          2,
          2,
          1,
          2,
          4,
          2,
          3,
          2,
          2,
          3,
          2,
          4,
          1,
          4,
          2,
          2,
          1,
          2,
          3,
          2,
          3,
          1,
          1,
          2,
          1,
          4,
          2,
          1,
          2,
          4,
          3,
          3,
          4,
          2,
          2,
          1,
          3,
          1,
          2,
          2,
          3,
          4,
          1,
          2,
          1,
          1,
          2,
          3,
          2,
          3,
          1,
          3,
          2,
          4,
          4,
          3,
          3,
          2,
          3,
          1,
          1,
          3,
          2,
          2,
          4,
          2,
          2,
          4,
          1,
          4,
          2,
          4,
          3,
          1,
          4,
          2,
          2,
          2,
          3,
          3,
          3,
          4,
          2,
          3,
          3,
          1,
          3,
          3,
          2,
          3,
          2,
          4,
          1,
          1,
          4,
          3,
          2,
          4,
          4,
          2,
          2,
          1,
          3,
          1,
          4,
          3,
          4,
          3,
          1,
          2,
          4,
          3,
          2,
          3,
          3,
          2,
          3,
          4,
          2,
          2,
          3,
          4,
          3,
          2,
          4,
          4,
          2,
          2,
          2,
          2,
          4,
          4,
          2,
          3,
          3,
          4,
          1,
          2,
          1,
          4,
          3,
          4,
          4,
          3,
          3,
          1,
          2,
          2,
          3,
          1,
          2,
          3,
          3,
          3,
          4,
          4,
          3,
          4,
          4,
          2,
          2,
          3,
          2,
          2,
          4,
          3,
          4,
          1,
          2,
          4,
          3,
          3,
          3,
          1,
          1,
          3,
          4,
          2,
          2,
          3,
          4,
          1,
          2,
          2,
          3,
          3,
          4,
          2,
          3,
          4,
          2,
          4,
          3,
          4,
          4,
          3,
          2,
          1,
          1,
          4,
          1,
          2,
          1,
          4,
          2,
          2,
          1,
          4,
          4,
          1,
          4,
          4,
          2,
          4,
          1,
          3,
          2,
          1,
          4,
          2,
          4,
          1,
          3,
          3,
          2,
          3,
          3,
          4,
          4,
          4,
          4,
          1,
          4,
          2,
          1,
          2,
          2,
          2,
          4,
          2,
          4,
          4,
          3,
          2,
          2,
          2,
          3,
          2,
          4,
          4,
          2,
          3,
          2,
          2,
          3,
          2,
          3,
          2,
          2,
          2,
          4,
          4,
          1,
          1,
          1,
          3,
          2,
          4,
          4,
          2,
          4,
          1,
          2,
          1,
          3,
          2,
          2,
          1,
          3,
          4,
          3,
          3,
          3,
          2,
          2,
          1,
          4,
          3,
          3,
          3,
          1,
          3,
          3,
          2,
          3,
          1,
          3,
          4,
          4,
          2,
          4,
          1,
          2,
          3,
          1,
          3,
          4,
          4,
          1,
          2,
          3,
          3,
          1,
          3,
          2,
          4,
          4,
          2,
          3,
          4,
          2,
          4,
          4,
          1,
          4,
          4,
          2,
          2,
          4,
          1,
          3,
          1,
          3,
          4,
          2,
          2,
          3,
          2,
          4,
          4,
          4,
          1,
          1,
          1,
          1,
          3,
          4,
          1,
          3,
          3,
          2,
          3,
          3,
          1,
          3,
          1,
          4,
          2,
          3,
          3,
          1,
          1,
          3,
          3,
          3,
          2,
          2,
          3,
          3,
          3,
          2,
          4,
          2,
          3,
          2,
          1,
          3,
          2,
          2,
          4,
          4,
          4,
          2,
          4,
          3,
          1,
          2,
          2,
          2,
          4,
          3,
          1,
          4,
          4,
          2,
          4,
          4,
          3,
          3,
          1,
          3,
          2,
          2,
          4,
          2,
          3,
          4,
          1,
          1,
          3,
          1,
          4,
          3,
          1,
          3,
          3,
          3,
          1,
          3,
          2,
          1,
          2,
          2,
          4,
          2,
          4,
          1,
          2,
          3,
          3,
          2,
          3,
          2,
          2,
          1,
          3,
          2,
          4,
          4,
          1,
          2,
          4,
          2,
          1,
          4,
          2,
          4,
          2,
          4,
          2,
          3,
          4,
          1,
          3,
          3,
          4,
          1,
          2,
          3,
          4,
          2,
          2,
          2,
          4,
          4,
          1,
          1,
          4,
          2,
          1,
          4,
          2,
          1,
          4,
          2,
          2,
          4,
          3,
          2,
          3,
          1,
          2,
          3,
          1,
          4,
          3,
          2,
          4,
          3,
          4,
          4,
          3,
          4,
          4,
          2,
          1,
          4,
          4,
          4,
          3,
          3,
          1,
          1,
          4,
          2,
          2,
          2,
          3,
          1,
          2,
          3,
          4,
          3,
          1,
          3,
          4,
          1,
          2,
          2,
          2,
          2,
          2,
          2,
          3,
          2,
          2,
          4,
          2,
          2,
          4,
          2,
          2,
          3,
          1,
          4,
          4,
          4,
          1,
          2,
          4,
          4,
          2,
          3,
          2,
          1,
          4,
          4,
          1,
          2,
          4,
          1,
          3,
          3,
          1,
          2,
          4,
          1,
          1,
          2,
          4,
          2,
          1,
          4,
          2,
          4,
          1,
          4,
          1,
          1,
          4,
          4,
          1,
          1,
          2,
          4,
          2,
          3,
          4,
          4,
          2,
          4,
          3,
          4,
          4,
          2,
          4,
          3,
          1,
          2,
          1,
          3,
          4,
          4,
          4,
          4,
          3,
          1,
          3,
          4,
          3,
          2,
          2,
          3,
          4,
          1,
          4,
          2,
          1,
          1,
          2,
          4,
          2,
          3,
          1,
          2,
          1,
          1,
          3,
          1,
          4,
          4,
          1,
          4,
          2,
          4,
          1,
          1,
          4,
          2,
          3,
          2,
          4,
          4,
          1,
          4,
          3,
          3,
          3,
          4,
          2,
          3,
          4,
          4,
          4,
          2,
          1,
          3,
          1,
          2,
          4,
          2,
          4,
          1,
          1,
          1,
          4,
          4,
          2,
          3,
          3,
          2,
          4,
          2,
          1,
          2,
          3,
          1,
          4,
          4,
          3,
          4,
          1,
          4,
          3,
          3,
          3,
          1,
          2,
          4,
          4,
          4,
          3,
          4,
          1,
          2,
          4,
          2,
          2,
          2,
          1,
          4,
          1,
          2,
          4,
          2,
          2,
          2,
          2,
          3,
          2,
          2,
          2,
          4,
          1,
          2,
          2,
          1,
          3,
          1,
          4,
          1,
          4,
          3,
          4,
          3,
          1,
          4,
          3,
          1,
          2,
          3,
          3,
          3,
          2,
          4,
          1,
          3,
          2,
          1,
          2,
          3,
          3,
          1,
          4,
          2,
          2,
          3,
          2,
          1,
          4,
          1,
          1,
          1,
          3,
          3,
          2,
          3,
          1,
          4,
          2,
          1,
          2,
          4,
          3,
          4,
          3,
          2,
          3,
          1,
          1,
          4,
          2,
          3,
          1,
          4,
          2,
          3,
          4,
          4,
          4,
          4,
          4,
          2,
          2,
          1,
          4,
          1,
          3,
          2,
          3,
          3,
          3,
          2,
          4,
          1,
          2,
          4,
          2,
          4,
          4,
          2,
          2,
          4,
          1,
          4,
          2,
          3,
          1,
          3,
          2,
          2,
          1,
          3,
          3,
          3,
          2,
          4,
          3,
          2,
          2,
          2,
          1,
          1,
          4,
          2,
          1,
          3,
          3,
          4,
          3,
          2,
          4,
          2,
          1,
          4,
          2,
          2,
          2,
          1,
          4,
          4,
          1,
          2,
          3,
          1,
          2,
          2,
          4,
          1,
          4,
          2,
          4,
          1,
          2,
          1,
          2,
          1,
          2,
          2,
          4,
          2,
          2,
          3,
          1,
          3,
          2,
          2,
          2,
          1,
          4,
          3,
          2,
          2,
          1,
          2,
          2,
          2,
          3,
          1,
          2,
          1,
          3,
          3,
          1,
          2,
          1,
          3,
          1,
          3,
          2,
          4,
          2,
          4,
          1,
          4,
          4,
          2,
          4,
          4,
          1,
          3,
          1,
          1,
          2,
          1,
          3,
          4,
          3,
          3,
          2,
          3,
          1,
          1,
          2,
          3,
          1,
          2,
          4,
          2,
          4,
          3,
          2,
          4,
          4,
          4,
          4,
          3,
          3,
          3,
          4,
          1,
          4,
          4,
          1,
          4,
          2,
          1,
          3,
          4,
          4,
          3,
          3,
          2,
          1,
          4,
          2,
          2,
          1,
          3,
          3,
          1,
          2,
          4,
          3,
          4,
          2,
          1,
          2,
          4,
          3,
          2,
          3,
          4,
          4,
          2,
          3,
          4,
          1,
          3,
          4,
          4,
          4,
          2,
          4,
          2,
          2,
          3,
          1,
          2,
          3,
          3,
          4,
          1,
          3,
          2,
          3,
          1,
          1,
          3,
          1,
          3,
          3,
          1,
          2,
          3,
          1,
          2,
          3,
          4,
          4,
          3,
          4,
          1,
          2,
          3,
          3,
          3,
          3,
          2,
          4,
          3,
          1,
          3,
          4,
          1,
          1,
          3,
          1,
          1,
          4,
          1,
          3,
          2,
          3,
          1,
          2,
          1,
          2,
          3,
          2,
          4,
          4,
          1,
          2,
          4,
          3,
          2,
          4,
          2,
          3,
          3,
          1,
          4,
          2,
          3,
          3,
          4,
          1,
          3,
          4,
          1,
          1,
          4,
          4,
          1,
          4,
          2,
          2,
          1,
          1,
          2,
          3,
          4,
          3,
          4,
          2,
          1,
          3,
          4,
          1,
          2,
          3,
          1,
          1,
          1,
          3,
          3,
          4,
          1,
          3,
          4,
          3,
          2,
          4,
          2,
          1,
          3,
          4,
          3,
          1,
          2,
          2,
          4,
          1,
          2,
          3,
          2,
          4,
          4,
          4,
          2,
          1,
          1,
          1,
          3,
          2,
          2,
          3,
          1,
          3,
          4,
          1,
          3,
          3,
          4,
          1,
          4,
          2,
          3,
          3,
          2,
          3,
          1,
          2,
          4,
          3,
          1,
          4,
          2,
          1,
          2,
          1,
          2,
          4,
          2,
          3,
          4,
          4,
          1,
          2,
          4,
          3,
          2,
          2,
          3,
          3,
          3,
          2,
          2,
          4,
          2,
          1,
          1,
          1,
          4,
          3,
          4,
          3,
          1,
          1,
          3,
          4,
          2,
          3,
          3,
          2,
          4,
          4,
          4,
          4,
          1,
          3,
          4,
          1,
          3,
          4,
          2,
          1,
          4,
          3,
          1,
          1,
          1,
          1,
          3,
          1,
          1,
          1,
          3,
          1,
          1,
          4,
          2,
          4,
          3,
          1,
          1,
          2,
          2,
          4,
          1,
          3,
          2,
          3,
          2,
          3,
          1,
          3,
          1,
          1,
          1,
          1,
          4,
          1,
          4,
          2,
          2,
          4,
          2,
          1,
          1,
          2,
          3,
          1,
          4,
          3,
          4,
          4,
          3,
          1,
          2,
          1,
          4,
          1,
          1,
          1,
          1,
          4,
          1,
          2,
          2,
          2,
          3,
          3,
          1,
          2,
          3,
          4,
          4,
          1,
          1,
          3,
          3,
          3,
          3,
          3,
          3,
          1,
          3,
          1,
          3,
          2,
          2,
          4,
          2,
          2,
          2,
          4,
          3,
          2,
          2,
          3,
          2,
          1,
          2,
          1,
          2,
          2,
          4,
          3,
          4,
          2,
          4,
          2,
          3,
          3,
          3,
          3,
          4,
          1,
          3,
          3,
          2,
          2,
          2,
          3,
          3,
          4,
          3,
          4,
          4,
          1,
          1,
          4,
          1,
          2,
          1,
          1,
          4,
          3,
          4,
          4,
          3,
          1,
          1,
          4,
          1,
          4,
          2,
          2,
          3,
          3,
          1,
          1,
          2,
          2,
          1,
          4,
          4,
          2,
          1,
          4,
          2,
          2,
          1,
          1,
          2,
          3,
          4,
          2,
          2,
          4,
          1,
          3,
          4,
          4,
          4,
          2,
          3,
          4,
          2,
          4,
          2,
          1,
          3,
          3,
          2,
          1,
          1,
          2,
          4,
          4,
          4,
          1,
          1,
          4,
          2,
          3,
          1,
          4,
          1,
          3,
          4,
          4,
          4,
          1,
          4,
          1,
          2,
          1,
          3,
          2,
          3,
          1,
          3,
          1,
          4,
          2,
          2,
          1,
          1,
          4,
          3,
          4,
          3,
          4,
          3,
          1,
          4,
          1,
          3,
          3,
          2,
          4,
          2,
          1,
          1,
          4,
          2,
          3,
          2,
          2,
          1,
          2,
          2,
          3,
          4,
          3,
          4,
          1,
          4,
          4,
          4,
          4,
          1,
          2,
          4,
          2,
          2,
          4,
          2,
          4,
          2,
          3,
          2,
          4,
          3,
          2,
          4,
          2,
          2,
          1,
          2,
          3,
          4,
          1,
          4,
          2,
          4,
          4,
          3,
          1,
          3,
          1,
          4,
          1,
          1,
          2,
          3,
          4,
          3,
          2,
          1,
          4,
          1,
          3,
          3,
          3,
          2,
          1,
          2,
          4,
          2,
          3,
          1,
          1,
          1,
          4,
          4,
          4,
          1,
          1,
          4,
          3,
          2,
          3,
          2,
          3,
          4,
          4,
          2,
          3,
          4,
          3,
          3,
          3,
          2,
          4,
          1,
          2,
          2,
          1,
          3,
          1,
          4,
          4,
          3,
          1,
          4,
          1,
          3,
          3,
          1,
          4,
          2,
          1,
          4,
          3,
          3,
          3,
          4,
          2,
          4,
          4,
          2,
          2,
          4,
          2,
          3,
          2,
          1,
          4,
          3,
          1,
          2,
          3,
          2,
          3,
          4,
          4,
          2,
          2,
          3,
          2,
          2,
          2,
          1,
          4,
          1,
          4,
          1,
          4,
          1,
          1,
          4,
          4,
          3,
          2,
          3,
          1,
          4,
          4,
          2,
          3,
          4,
          2,
          3,
          1,
          2,
          4,
          1,
          1,
          3,
          4,
          4,
          2,
          4,
          1,
          2,
          4,
          4,
          3,
          3,
          1,
          3,
          4,
          2,
          4,
          1,
          2,
          1,
          1,
          4,
          1,
          4,
          2,
          4,
          1,
          2,
          2,
          1,
          1,
          1,
          4,
          1,
          2,
          3,
          2,
          1,
          4,
          2,
          3,
          4,
          4,
          4,
          4,
          2,
          4,
          3,
          2,
          4,
          3,
          3,
          1,
          3,
          4,
          2,
          2,
          4,
          3,
          3,
          1,
          2,
          2,
          3,
          2,
          2,
          4,
          4,
          2,
          4,
          2,
          1,
          3,
          2,
          2,
          2,
          3,
          3,
          1,
          2,
          3,
          3,
          2,
          1,
          3,
          1,
          3,
          3,
          2,
          2,
          4,
          4,
          4,
          3,
          1,
          4,
          2,
          3,
          3,
          3,
          3,
          1,
          3,
          3,
          1,
          1,
          4,
          1,
          4,
          1,
          1,
          4,
          4,
          2,
          3,
          2,
          3,
          4,
          1,
          2,
          2,
          2,
          2,
          2
         ],
         "xaxis": "x",
         "y": [
          6.7,
          4.99,
          15.99,
          15.99,
          8.45,
          23.99,
          23.99,
          22.79,
          22.79,
          9.69,
          12.99,
          7.47,
          42.99,
          6.7,
          10.99,
          11.98,
          2.7,
          2.7,
          6.99,
          6.99,
          3.49,
          3.49,
          20.99,
          6.7,
          4.99,
          8.45,
          23.99,
          23.99,
          11.98,
          2.7,
          1.99,
          172,
          7.99,
          5.48,
          5.48,
          35,
          16.49,
          6.7,
          4.31,
          15.99,
          172,
          9.69,
          12.99,
          3.49,
          3.49,
          5.99,
          1.29,
          16.49,
          22.79,
          3.99,
          3.49,
          9.69,
          12.99,
          12.99,
          35,
          2.48,
          7.99,
          35,
          6.7,
          6.7,
          4.99,
          5.99,
          5.99,
          31.99,
          172,
          70.89,
          3.49,
          20.99,
          3.49,
          23.99,
          22.79,
          45,
          5.48,
          6.7,
          6.7,
          23.99,
          8.45,
          31.99,
          31.99,
          11.98,
          11.98,
          22.79,
          3.99,
          7.99,
          6.99,
          2.48,
          1.29,
          1.29,
          23.99,
          6.7,
          4.31,
          4.31,
          23.99,
          11.99,
          22.79,
          172,
          6.99,
          12.99,
          3.49,
          5.99,
          4.31,
          8.45,
          31.99,
          11.99,
          2.7,
          5.48,
          12.99,
          20.99,
          15.99,
          15.99,
          23.99,
          23.99,
          45,
          0.98,
          5.99,
          16.49,
          6.7,
          10.99,
          4.31,
          4.99,
          4.99,
          23.99,
          23.99,
          23.99,
          11.98,
          2.7,
          9.69,
          9.69,
          3.49,
          6.7,
          6.7,
          4.31,
          15.99,
          23.99,
          23.99,
          11.98,
          172,
          5.48,
          3.49,
          12.99,
          3.49,
          5.99,
          5.99,
          31.99,
          5.99,
          1.29,
          6.7,
          10.99,
          10.99,
          4.99,
          5.99,
          22.79,
          3.99,
          45,
          7.99,
          5.48,
          3.49,
          0.98,
          2.48,
          2.48,
          2.48,
          3.49,
          3.49,
          5.99,
          7.47,
          4.31,
          23.99,
          11.99,
          3.99,
          3.99,
          3.99,
          45,
          7.99,
          7.99,
          7.99,
          0.98,
          2.48,
          2.48,
          3.49,
          5.99,
          16.49,
          1.29,
          6.7,
          4.31,
          15.99,
          8.45,
          2.7,
          2.7,
          3.99,
          45,
          5.48,
          1.29,
          1.29,
          42.99,
          9.69,
          6.7,
          4.99,
          4.99,
          23.99,
          5.99,
          31.99,
          172,
          172,
          6.99,
          70.89,
          70.89,
          3.49,
          0.98,
          8.45,
          31.99,
          31.99,
          31.99,
          3.99,
          3.99,
          45,
          7.99,
          6.99,
          5.48,
          5.48,
          3.49,
          3.49,
          3.49,
          9.69,
          35,
          42.99,
          70.89,
          6.7,
          4.99,
          35,
          6.7,
          2.48,
          6.7,
          4.31,
          5.99,
          23.99,
          11.98,
          11.99,
          3.99,
          3.99,
          45,
          6.99,
          3.49,
          9.69,
          35,
          16.49,
          31.99,
          172,
          6.99,
          3.49,
          3.49,
          9.69,
          12.99,
          35,
          2.48,
          16.49,
          6.7,
          10.99,
          23.99,
          23.99,
          5.99,
          5.99,
          23.99,
          23.99,
          5.48,
          3.49,
          3.49,
          0.98,
          23.99,
          35,
          5.99,
          70.89,
          6.7,
          6.7,
          4.99,
          4.99,
          15.99,
          11.98,
          6.99,
          2.48,
          3.49,
          5.99,
          7.47,
          7.47,
          1.29,
          16.49,
          8.45,
          3.49,
          6.7,
          10.99,
          10.99,
          15.99,
          8.45,
          23.99,
          23.99,
          5.99,
          1.99,
          172,
          3.99,
          5.48,
          9.69,
          9.69,
          1.29,
          1.29,
          4.99,
          172,
          70.89,
          70.89,
          9.69,
          0.98,
          15.99,
          11.98,
          6.7,
          6.7,
          4.99,
          4.99,
          8.45,
          31.99,
          11.99,
          2.7,
          1.99,
          172,
          45,
          5.48,
          9.69,
          35,
          6.7,
          23.99,
          8.45,
          5.99,
          11.99,
          11.99,
          22.79,
          2.7,
          2.7,
          3.49,
          3.49,
          1.29,
          16.49,
          4.99,
          7.47,
          16.49,
          6.7,
          11.98,
          11.99,
          0.98,
          12.99,
          20.99,
          3.49,
          5.99,
          7.47,
          7.47,
          6.7,
          8.45,
          8.45,
          31.99,
          31.99,
          11.99,
          3.99,
          0.98,
          2.48,
          3.49,
          6.7,
          15.99,
          15.99,
          23.99,
          1.99,
          5.48,
          2.48,
          23.99,
          2.7,
          6.7,
          4.99,
          23.99,
          23.99,
          11.98,
          11.99,
          11.99,
          22.79,
          3.49,
          5.99,
          6.7,
          6.7,
          4.31,
          15.99,
          11.98,
          7.99,
          6.99,
          20.99,
          2.48,
          4.99,
          23.99,
          8.45,
          23.99,
          5.99,
          23.99,
          1.99,
          3.99,
          20.99,
          7.47,
          42.99,
          45,
          6.7,
          4.31,
          8.45,
          23.99,
          45,
          70.89,
          0.98,
          0.98,
          2.48,
          10.99,
          3.49,
          6.7,
          4.31,
          15.99,
          23.99,
          8.45,
          23.99,
          1.99,
          3.99,
          9.69,
          0.98,
          12.99,
          5.99,
          5.99,
          16.49,
          6.7,
          23.99,
          23.99,
          23.99,
          31.99,
          3.99,
          3.49,
          3.49,
          10.99,
          4.31,
          4.99,
          4.99,
          11.99,
          2.7,
          3.99,
          3.49,
          12.99,
          12.99,
          3.49,
          1.29,
          23.99,
          23.99,
          23.99,
          1.99,
          45,
          5.48,
          70.89,
          12.99,
          12.99,
          3.49,
          7.99,
          6.7,
          4.31,
          23.99,
          8.45,
          23.99,
          23.99,
          23.99,
          45,
          45,
          7.99,
          0.98,
          12.99,
          7.47,
          1.29,
          6.7,
          23.99,
          11.98,
          11.98,
          2.7,
          2.7,
          6.99,
          6.99,
          70.89,
          70.89,
          3.49,
          7.47,
          4.99,
          23.99,
          23.99,
          23.99,
          23.99,
          5.99,
          23.99,
          22.79,
          7.99,
          0.98,
          35,
          42.99,
          6.7,
          4.31,
          8.45,
          23.99,
          23.99,
          5.99,
          11.98,
          11.98,
          3.99,
          70.89,
          3.49,
          9.69,
          15.99,
          12.99,
          6.7,
          8.45,
          11.98,
          22.79,
          2.7,
          5.48,
          12.99,
          2.48,
          3.49,
          3.49,
          1.29,
          10.99,
          172,
          6.7,
          23.99,
          8.45,
          5.99,
          23.99,
          11.98,
          22.79,
          3.99,
          45,
          6.99,
          70.89,
          12.99,
          12.99,
          5.99,
          5.99,
          22.79,
          0.98,
          6.7,
          23.99,
          23.99,
          22.79,
          3.99,
          3.49,
          20.99,
          35,
          2.48,
          16.49,
          42.99,
          10.99,
          23.99,
          23.99,
          31.99,
          31.99,
          2.7,
          1.99,
          172,
          45,
          7.99,
          70.89,
          12.99,
          2.48,
          2.48,
          2.48,
          42.99,
          23.99,
          31.99,
          31.99,
          22.79,
          2.7,
          3.99,
          0.98,
          16.49,
          42.99,
          42.99,
          0.98,
          20.99,
          35,
          6.7,
          6.7,
          4.31,
          8.45,
          5.99,
          11.99,
          70.89,
          2.48,
          42.99,
          10.99,
          23.99,
          11.99,
          172,
          172,
          6.99,
          6.99,
          3.49,
          5.99,
          1.29,
          16.49,
          4.31,
          4.31,
          4.31,
          23.99,
          2.7,
          172,
          7.99,
          6.99,
          5.99,
          16.49,
          15.99,
          11.99,
          3.49,
          6.7,
          4.99,
          8.45,
          31.99,
          45,
          6.99,
          6.7,
          10.99,
          4.31,
          15.99,
          11.98,
          22.79,
          1.99,
          1.99,
          6.99,
          20.99,
          20.99,
          42.99,
          5.99,
          6.7,
          4.31,
          4.99,
          4.99,
          5.99,
          5.99,
          5.99,
          23.99,
          31.99,
          31.99,
          22.79,
          3.99,
          7.99,
          6.99,
          20.99,
          20.99,
          20.99,
          16.49,
          6.7,
          5.99,
          31.99,
          172,
          172,
          3.99,
          6.99,
          5.99,
          1.29,
          16.49,
          10.99,
          23.99,
          5.99,
          5.99,
          11.98,
          11.99,
          22.79,
          1.99,
          1.99,
          1.99,
          3.99,
          3.49,
          3.49,
          9.69,
          9.69,
          42.99,
          42.99,
          6.7,
          15.99,
          23.99,
          23.99,
          1.99,
          6.99,
          3.49,
          20.99,
          5.99,
          16.49,
          42.99,
          7.99,
          6.7,
          23.99,
          11.98,
          3.49,
          12.99,
          35,
          2.48,
          16.49,
          42.99,
          31.99,
          6.7,
          10.99,
          23.99,
          23.99,
          8.45,
          11.98,
          11.98,
          45,
          7.99,
          6.99,
          7.47,
          23.99,
          6.7,
          4.31,
          23.99,
          5.99,
          11.98,
          172,
          20.99,
          2.48,
          1.29,
          16.49,
          6.7,
          23.99,
          1.99,
          172,
          0.98,
          0.98,
          20.99,
          20.99,
          3.49,
          5.99,
          7.47,
          6.7,
          4.31,
          15.99,
          23.99,
          3.99,
          3.99,
          7.99,
          7.99,
          5.48,
          70.89,
          35,
          2.48,
          10.99,
          15.99,
          23.99,
          31.99,
          22.79,
          2.7,
          1.99,
          45,
          3.49,
          3.49,
          16.49,
          6.7,
          4.31,
          15.99,
          23.99,
          8.45,
          23.99,
          5.99,
          5.99,
          31.99,
          11.99,
          9.69,
          5.99,
          5.99,
          1.29,
          11.99,
          3.49,
          6.7,
          4.99,
          8.45,
          23.99,
          5.99,
          31.99,
          22.79,
          2.7,
          1.99,
          1.99,
          3.99,
          7.99,
          70.89,
          9.69,
          20.99,
          7.47,
          4.31,
          4.31,
          11.98,
          11.99,
          2.7,
          0.98,
          2.48,
          6.7,
          4.31,
          5.99,
          2.7,
          5.48,
          9.69,
          20.99,
          42.99,
          4.31,
          15.99,
          15.99,
          23.99,
          23.99,
          5.99,
          11.98,
          2.7,
          172,
          3.99,
          45,
          70.89,
          3.49,
          3.49,
          5.99,
          16.49,
          16.49,
          42.99,
          1.99,
          3.49,
          20.99,
          3.49,
          5.99,
          6.7,
          4.99,
          15.99,
          8.45,
          2.7,
          172,
          7.99,
          6.99,
          6.99,
          9.69,
          0.98,
          0.98,
          5.99,
          23.99,
          8.45,
          11.98,
          1.99,
          45,
          6.99,
          6.99,
          3.49,
          2.48,
          5.99,
          23.99,
          20.99,
          6.7,
          6.7,
          15.99,
          23.99,
          11.99,
          1.99,
          7.99,
          3.49,
          9.69,
          0.98,
          20.99,
          16.49,
          16.49,
          42.99,
          6.7,
          23.99,
          5.99,
          11.99,
          2.7,
          45,
          45,
          7.99,
          9.69,
          12.99,
          35,
          16.49,
          6.7,
          8.45,
          8.45,
          8.45,
          5.99,
          172,
          3.99,
          3.49,
          9.69,
          35,
          7.47,
          10.99,
          5.99,
          5.99,
          23.99,
          31.99,
          31.99,
          11.98,
          11.98,
          3.99,
          3.49,
          5.99,
          10.99,
          23.99,
          23.99,
          23.99,
          22.79,
          6.99,
          5.48,
          9.69,
          12.99,
          20.99,
          3.49,
          6.99,
          12.99,
          35,
          6.7,
          10.99,
          8.45,
          8.45,
          23.99,
          6.99,
          5.48,
          7.47,
          1.29,
          1.29,
          42.99,
          23.99,
          11.98,
          7.99,
          6.99,
          70.89,
          9.69,
          35,
          2.48,
          3.49,
          3.49,
          42.99,
          31.99,
          9.69,
          6.7,
          10.99,
          31.99,
          172,
          172,
          70.89,
          12.99,
          20.99,
          3.49,
          42.99,
          6.7,
          4.99,
          23.99,
          31.99,
          31.99,
          11.99,
          172,
          3.99,
          45,
          6.99,
          70.89,
          70.89,
          12.99,
          5.99,
          45,
          6.7,
          4.31,
          23.99,
          23.99,
          11.98,
          172,
          45,
          7.99,
          5.48,
          3.49,
          35,
          4.31,
          23.99,
          11.98,
          172,
          3.99,
          3.99,
          7.99,
          6.99,
          5.48,
          3.49,
          7.47,
          22.79,
          3.49,
          20.99,
          35,
          6.7,
          4.99,
          5.99,
          5.99,
          31.99,
          3.99,
          6.99,
          3.49,
          35,
          10.99,
          10.99,
          10.99,
          4.99,
          5.99,
          11.98,
          6.99,
          5.48,
          9.69,
          12.99,
          16.49,
          42.99,
          10.99,
          4.99,
          23.99,
          8.45,
          23.99,
          31.99,
          2.7,
          1.99,
          45,
          2.48,
          3.49,
          5.99,
          5.99,
          1.29,
          16.49,
          42.99,
          4.31,
          23.99,
          16.49,
          6.7,
          10.99,
          10.99,
          31.99,
          11.99,
          2.7,
          45,
          6.99,
          5.48,
          70.89,
          12.99,
          35,
          16.49,
          6.7,
          10.99,
          4.99,
          15.99,
          15.99,
          23.99,
          11.99,
          1.99,
          3.99,
          35,
          4.31,
          5.99,
          11.99,
          1.99,
          45,
          12.99,
          20.99,
          35,
          3.49,
          5.99,
          42.99,
          2.7,
          6.7,
          10.99,
          4.31,
          4.99,
          8.45,
          5.99,
          5.99,
          11.98,
          3.99,
          3.99,
          20.99,
          35,
          6.7,
          10.99,
          15.99,
          31.99,
          3.99,
          45,
          3.49,
          0.98,
          20.99,
          1.29,
          16.49,
          10.99,
          4.99,
          23.99,
          31.99,
          31.99,
          11.99,
          2.7,
          2.7,
          5.48,
          0.98,
          12.99,
          12.99,
          35,
          1.29,
          15.99,
          15.99,
          5.99,
          2.7,
          45,
          0.98,
          0.98,
          10.99,
          4.99,
          23.99,
          11.99,
          22.79,
          2.7,
          7.99,
          20.99,
          4.31,
          70.89,
          10.99,
          10.99,
          4.31,
          4.99,
          4.99,
          23.99,
          31.99,
          22.79,
          172,
          3.99,
          6.99,
          70.89,
          2.48,
          2.48,
          3.49,
          5.99,
          7.47,
          11.98,
          3.49,
          10.99,
          4.31,
          2.7,
          3.49,
          0.98,
          0.98,
          3.49,
          5.99,
          16.49,
          42.99,
          4.31,
          23.99,
          8.45,
          8.45,
          11.98,
          11.99,
          22.79,
          22.79,
          0.98,
          35,
          3.49,
          5.99,
          5.99,
          7.47,
          4.99,
          23.99,
          23.99,
          2.7,
          1.99,
          70.89,
          3.49,
          9.69,
          0.98,
          12.99,
          35,
          1.29,
          10.99,
          10.99,
          4.99,
          15.99,
          15.99,
          15.99,
          2.7,
          1.99,
          3.99,
          3.99,
          5.48,
          20.99,
          16.49,
          31.99,
          6.99,
          20.99,
          10.99,
          22.79,
          9.69,
          10.99,
          16.49,
          10.99,
          23.99,
          10.99,
          10.99,
          4.31,
          2.7,
          172,
          45,
          9.69,
          20.99,
          10.99,
          23.99,
          11.99,
          1.99,
          70.89,
          3.49,
          20.99,
          3.49,
          3.49,
          10.99,
          4.99,
          0.98,
          10.99,
          4.99,
          15.99,
          8.45,
          8.45,
          3.99,
          5.48,
          3.49,
          1.29,
          9.69,
          10.99,
          4.99,
          23.99,
          5.99,
          22.79,
          70.89,
          35,
          35,
          16.49,
          10.99,
          4.99,
          4.99,
          23.99,
          5.99,
          11.99,
          11.99,
          11.99,
          172,
          5.48,
          0.98,
          20.99,
          35,
          3.49,
          4.31,
          23.99,
          5.99,
          11.99,
          2.7,
          7.99,
          3.49,
          3.49,
          9.69,
          12.99,
          20.99,
          2.48,
          16.49,
          8.45,
          35,
          7.47,
          10.99,
          15.99,
          15.99,
          31.99,
          31.99,
          22.79,
          45,
          7.99,
          7.99,
          9.69,
          0.98,
          3.49,
          16.49,
          16.49,
          42.99,
          4.99,
          23.99,
          5.99,
          5.48,
          9.69,
          12.99,
          5.99,
          16.49,
          42.99,
          4.99,
          5.99,
          23.99,
          23.99,
          31.99,
          31.99,
          7.99,
          6.99,
          5.48,
          70.89,
          3.49,
          2.48,
          3.49,
          16.49,
          10.99,
          5.99,
          31.99,
          5.48,
          2.48,
          5.99,
          4.31,
          4.99,
          4.99,
          15.99,
          23.99,
          8.45,
          23.99,
          11.99,
          2.7,
          7.99,
          6.99,
          70.89,
          9.69,
          0.98,
          35,
          1.29,
          42.99,
          23.99,
          10.99,
          4.31,
          23.99,
          23.99,
          11.98,
          7.99,
          6.99,
          5.48,
          3.49,
          9.69,
          0.98,
          0.98,
          3.49,
          10.99,
          4.31,
          15.99,
          8.45,
          8.45,
          8.45,
          7.99,
          70.89,
          3.49,
          2.48,
          7.47,
          1.29,
          1.29,
          10.99,
          15.99,
          23.99,
          2.7,
          172,
          3.99,
          7.99,
          70.89,
          0.98,
          0.98,
          12.99,
          12.99,
          16.49,
          3.99,
          10.99,
          4.31,
          23.99,
          31.99,
          2.7,
          5.48,
          3.49,
          9.69,
          12.99,
          2.48,
          7.47,
          4.99,
          5.99,
          1.99,
          1.99,
          3.99,
          3.49,
          3.49,
          12.99,
          12.99,
          35,
          42.99,
          10.99,
          4.99,
          15.99,
          23.99,
          8.45,
          5.99,
          23.99,
          22.79,
          22.79,
          7.99,
          5.48,
          9.69,
          35,
          16.49,
          4.99,
          15.99,
          22.79,
          45,
          7.99,
          6.99,
          12.99,
          7.47,
          5.48,
          10.99,
          23.99,
          23.99,
          31.99,
          22.79,
          22.79,
          1.99,
          45,
          7.99,
          7.99,
          3.49,
          9.69,
          16.49,
          10.99,
          8.45,
          23.99,
          172,
          7.99,
          5.48,
          3.49,
          0.98,
          12.99,
          2.48,
          7.47,
          7.47,
          1.29,
          10.99,
          4.31,
          4.99,
          11.98,
          1.99,
          5.99,
          7.47,
          10.99,
          15.99,
          23.99,
          11.99,
          172,
          45,
          7.99,
          70.89,
          12.99,
          5.99,
          42.99,
          10.99,
          4.31,
          4.31,
          23.99,
          5.99,
          2.7,
          2.7,
          5.48,
          9.69,
          0.98,
          20.99,
          5.99,
          4.31,
          70.89,
          10.99,
          15.99,
          2.7,
          172,
          7.99,
          3.49,
          35,
          2.48,
          2.48,
          10.99,
          8.45,
          31.99,
          1.99,
          45,
          6.99,
          5.48,
          5.48,
          70.89,
          9.69,
          2.48,
          2.48,
          3.49,
          7.47,
          31.99,
          6.99,
          1.29,
          42.99,
          10.99,
          15.99,
          11.98,
          11.98,
          22.79,
          22.79,
          2.7,
          7.99,
          12.99,
          35,
          4.99,
          8.45,
          10.99,
          23.99,
          23.99,
          5.99,
          23.99,
          31.99,
          22.79,
          22.79,
          1.99,
          1.99,
          7.99,
          5.48,
          5.48,
          9.69,
          12.99,
          7.47,
          42.99,
          23.99,
          31.99,
          2.7,
          1.99,
          172,
          0.98,
          0.98,
          20.99,
          35,
          3.49,
          7.47,
          7.47,
          23.99,
          10.99,
          23.99,
          8.45,
          172,
          70.89,
          9.69,
          2.48,
          16.49,
          16.49,
          16.49,
          16.49,
          22.79,
          20.99,
          10.99,
          4.31,
          22.79,
          5.48,
          5.48,
          70.89,
          42.99,
          23.99,
          8.45,
          23.99,
          23.99,
          11.98,
          172,
          172,
          6.99,
          3.49,
          9.69,
          20.99,
          2.48,
          3.49,
          5.99,
          1.29,
          1.29,
          23.99,
          22.79,
          10.99,
          15.99,
          23.99,
          8.45,
          23.99,
          2.7,
          3.99,
          6.99,
          0.98,
          12.99,
          2.48,
          2.48,
          2.48,
          3.49,
          1.29,
          8.45,
          23.99,
          31.99,
          1.99,
          172,
          0.98,
          12.99,
          3.49,
          3.49,
          5.99,
          1.29,
          7.47,
          42.99,
          10.99,
          4.31,
          31.99,
          45,
          3.49,
          35,
          2.48,
          3.49,
          3.49,
          3.49,
          16.49,
          42.99,
          42.99,
          11.99,
          45,
          10.99,
          5.99,
          31.99,
          7.99,
          20.99,
          3.49,
          42.99,
          31.99,
          3.99,
          45,
          7.99,
          3.49,
          0.98,
          35,
          2.48,
          16.49,
          35,
          10.99,
          4.99,
          11.99,
          22.79,
          22.79,
          172,
          45,
          7.99,
          7.99,
          6.99,
          5.48,
          70.89,
          3.49,
          16.49,
          22.79,
          2.7,
          45,
          5.48,
          3.49,
          2.48,
          10.99,
          2.7,
          1.99,
          172,
          9.69,
          35,
          2.48,
          3.49,
          7.47,
          16.49,
          11.98,
          4.31,
          3.49,
          4.31,
          5.99,
          31.99,
          11.99,
          11.99,
          2.7,
          1.99,
          70.89,
          12.99,
          2.48,
          2.48,
          11.98,
          11.98,
          2.7,
          1.99,
          45,
          45,
          6.99,
          9.69,
          9.69,
          0.98,
          0.98,
          12.99,
          20.99,
          35,
          3.49,
          5.99,
          1.29,
          16.49,
          42.99,
          4.31,
          4.31,
          23.99,
          23.99,
          11.98,
          11.98,
          1.99,
          3.99,
          7.99,
          23.99,
          23.99,
          8.45,
          11.98,
          11.99,
          22.79,
          45,
          7.99,
          7.99,
          6.99,
          9.69,
          20.99,
          5.99,
          5.99,
          7.47,
          16.49,
          8.45,
          5.99,
          11.98,
          11.99,
          22.79,
          2.7,
          5.48,
          9.69,
          2.48,
          42.99,
          42.99,
          2.7,
          4.31,
          4.31,
          4.31,
          23.99,
          6.99,
          5.48,
          4.31,
          31.99,
          22.79,
          22.79,
          1.99,
          5.48,
          5.48,
          20.99,
          5.99,
          1.29,
          42.99,
          23.99,
          5.99,
          23.99,
          11.98,
          7.99,
          3.49,
          3.49,
          9.69,
          16.49,
          16.49,
          4.31,
          8.45,
          23.99,
          31.99,
          31.99,
          45,
          45,
          7.99,
          3.49,
          35,
          35,
          16.49,
          42.99,
          7.47,
          4.31,
          11.98,
          172,
          6.99,
          70.89,
          9.69,
          0.98,
          2.48,
          3.49,
          5.99,
          22.79,
          2.48,
          4.31,
          31.99,
          2.7,
          172,
          6.99,
          9.69,
          16.49,
          42.99,
          42.99,
          4.31,
          4.99,
          23.99,
          6.99,
          6.99,
          3.49,
          12.99,
          12.99,
          2.48,
          16.49,
          4.31,
          23.99,
          11.98,
          172,
          3.49,
          0.98,
          35,
          16.49,
          7.99,
          4.31,
          23.99,
          23.99,
          11.98,
          6.99,
          9.69,
          0.98,
          35,
          3.49,
          7.47,
          42.99,
          15.99,
          8.45,
          5.99,
          172,
          3.99,
          3.99,
          5.48,
          70.89,
          35,
          42.99,
          4.31,
          23.99,
          11.98,
          3.99,
          6.99,
          9.69,
          0.98,
          20.99,
          35,
          3.49,
          42.99,
          8.45,
          23.99,
          5.99,
          23.99,
          31.99,
          1.99,
          1.99,
          172,
          9.69,
          12.99,
          12.99,
          35,
          3.49,
          5.99,
          16.49,
          42.99,
          11.98,
          4.31,
          1.99,
          45,
          6.99,
          20.99,
          3.49,
          1.29,
          9.69,
          1.29,
          4.31,
          5.99,
          23.99,
          11.99,
          172,
          5.48,
          5.48,
          3.49,
          4.31,
          4.99,
          15.99,
          22.79,
          1.99,
          172,
          5.48,
          3.49,
          0.98,
          35,
          2.48,
          15.99,
          8.45,
          23.99,
          31.99,
          7.99,
          6.99,
          5.48,
          5.48,
          0.98,
          0.98,
          42.99,
          11.98,
          1.29,
          4.31,
          23.99,
          23.99,
          31.99,
          2.7,
          1.99,
          70.89,
          70.89,
          1.29,
          42.99,
          23.99,
          22.79,
          4.31,
          5.99,
          5.99,
          23.99,
          11.99,
          1.99,
          1.99,
          7.99,
          7.99,
          2.48,
          3.49,
          5.99,
          35,
          4.31,
          15.99,
          23.99,
          11.98,
          7.99,
          3.49,
          9.69,
          1.29,
          16.49,
          42.99,
          4.31,
          4.99,
          15.99,
          8.45,
          23.99,
          11.98,
          11.99,
          2.7,
          45,
          6.99,
          70.89,
          9.69,
          12.99,
          4.31,
          23.99,
          23.99,
          23.99,
          23.99,
          2.7,
          70.89,
          12.99,
          20.99,
          5.99,
          16.49,
          11.99,
          22.79,
          7.99,
          3.49,
          20.99,
          35,
          42.99,
          7.99,
          4.31,
          4.99,
          4.99,
          23.99,
          23.99,
          11.99,
          2.7,
          7.99,
          6.99,
          9.69,
          0.98,
          7.47,
          8.45,
          8.45,
          22.79,
          4.31,
          4.99,
          15.99,
          23.99,
          8.45,
          11.98,
          1.99,
          1.99,
          5.48,
          9.69,
          0.98,
          0.98,
          0.98,
          12.99,
          1.29,
          42.99,
          4.99,
          2.7,
          0.98,
          7.47,
          4.31,
          4.99,
          15.99,
          2.7,
          1.99,
          45,
          7.99,
          7.99,
          20.99,
          2.48,
          5.99,
          4.31,
          15.99,
          31.99,
          172,
          3.49,
          9.69,
          35,
          2.48,
          3.49,
          5.99,
          4.99,
          15.99,
          2.7,
          1.99,
          45,
          5.48,
          20.99,
          5.99,
          7.47,
          16.49,
          23.99,
          23.99,
          11.98,
          70.89,
          0.98,
          16.49,
          4.99,
          4.99,
          3.99,
          7.99,
          5.48,
          3.49,
          3.49,
          3.49,
          5.99,
          8.45,
          23.99,
          172,
          45,
          2.48,
          1.99,
          12.99,
          4.99,
          15.99,
          23.99,
          11.99,
          22.79,
          3.99,
          70.89,
          2.48,
          3.49,
          23.99,
          42.99,
          4.99,
          11.99,
          6.99,
          4.99,
          2.48,
          4.99,
          4.99,
          15.99,
          23.99,
          5.99,
          31.99,
          11.98,
          22.79,
          2.7,
          3.99,
          70.89,
          3.49,
          7.47,
          9.69,
          4.99,
          4.99,
          15.99,
          23.99,
          11.99,
          11.99,
          11.99,
          3.99,
          9.69,
          0.98,
          7.47,
          16.49,
          6.99,
          5.48,
          70.89,
          42.99,
          4.99,
          5.99,
          23.99,
          11.99,
          11.99,
          6.99,
          70.89,
          12.99,
          20.99,
          3.49,
          1.29,
          1.29,
          16.49,
          4.99,
          15.99,
          22.79,
          2.7,
          172,
          35,
          35,
          2.48,
          4.99,
          4.99,
          8.45,
          23.99,
          5.99,
          11.99,
          2.7,
          1.99,
          172,
          45,
          45,
          6.99,
          0.98,
          20.99,
          2.48,
          3.49,
          23.99,
          8.45,
          23.99,
          7.99,
          9.69,
          0.98,
          5.99,
          1.29,
          16.49,
          16.49,
          4.99,
          23.99,
          23.99,
          8.45,
          11.99,
          3.99,
          45,
          70.89,
          70.89,
          2.48,
          2.48,
          1.29,
          70.89,
          4.99,
          8.45,
          23.99,
          31.99,
          3.99,
          7.99,
          12.99,
          20.99,
          2.48,
          4.99,
          5.99,
          22.79,
          1.99,
          70.89,
          9.69,
          42.99,
          1.29,
          4.99,
          15.99,
          8.45,
          5.99,
          11.98,
          45,
          6.99,
          5.48,
          70.89,
          35,
          5.99,
          7.47,
          1.29,
          1.29,
          42.99,
          5.99,
          4.99,
          8.45,
          11.99,
          3.99,
          6.99,
          6.99,
          9.69,
          3.49,
          1.29,
          23.99,
          3.49,
          15.99,
          11.98,
          45,
          70.89,
          3.49,
          5.99,
          70.89,
          15.99,
          23.99,
          15.99,
          15.99,
          22.79,
          12.99,
          15.99,
          8.45,
          15.99,
          8.45,
          5.99,
          11.98,
          3.99,
          7.99,
          6.99,
          70.89,
          9.69,
          3.49,
          1.29,
          16.49,
          23.99,
          2.7,
          5.48,
          15.99,
          8.45,
          2.7,
          1.99,
          172,
          172,
          45,
          45,
          7.99,
          6.99,
          6.99,
          3.49,
          9.69,
          35,
          7.47,
          42.99,
          5.99,
          15.99,
          31.99,
          11.98,
          22.79,
          2.7,
          1.29,
          23.99,
          23.99,
          11.99,
          1.99,
          3.99,
          7.99,
          6.99,
          16.49,
          12.99,
          3.49,
          23.99,
          5.99,
          31.99,
          22.79,
          6.99,
          6.99,
          70.89,
          70.89,
          0.98,
          3.49,
          23.99,
          31.99,
          2.7,
          1.99,
          172,
          7.99,
          70.89,
          3.49,
          9.69,
          23.99,
          23.99,
          23.99,
          23.99,
          31.99,
          11.98,
          11.99,
          6.99,
          5.48,
          12.99,
          3.49,
          7.47,
          3.99,
          70.89,
          23.99,
          23.99,
          23.99,
          23.99,
          31.99,
          11.98,
          172,
          45,
          70.89,
          3.49,
          172,
          2.48,
          23.99,
          16.49,
          23.99,
          11.98,
          1.99,
          45,
          70.89,
          0.98,
          2.48,
          23.99,
          5.99,
          7.99,
          5.48,
          5.48,
          12.99,
          3.49,
          7.47,
          42.99,
          23.99,
          23.99,
          8.45,
          11.98,
          11.99,
          22.79,
          6.99,
          70.89,
          12.99,
          2.48,
          23.99,
          23.99,
          23.99,
          11.98,
          11.98,
          22.79,
          3.99,
          5.48,
          35,
          7.47,
          1.29,
          16.49,
          42.99,
          31.99,
          8.45,
          8.45,
          8.45,
          172,
          45,
          5.99,
          23.99,
          70.89,
          35,
          23.99,
          20.99,
          1.29,
          23.99,
          22.79,
          70.89,
          12.99,
          2.48,
          7.47,
          1.29,
          5.99,
          22.79,
          1.99,
          1.99,
          172,
          3.99,
          70.89,
          3.49,
          3.49,
          2.48,
          5.99,
          16.49,
          16.49,
          23.99,
          5.99,
          31.99,
          11.99,
          22.79,
          2.7,
          172,
          45,
          5.48,
          70.89,
          3.49,
          3.49,
          3.49,
          23.99,
          6.99,
          0.98,
          2.48,
          7.47,
          16.49,
          31.99,
          5.99,
          172,
          6.99,
          70.89,
          70.89,
          3.49,
          9.69,
          9.69,
          0.98,
          3.49,
          5.99,
          1.29,
          5.48,
          5.99,
          31.99,
          2.7,
          2.7,
          45,
          70.89,
          3.49,
          7.47,
          42.99,
          12.99,
          35,
          2.48,
          23.99,
          11.98,
          11.99,
          2.7,
          3.99,
          7.99,
          6.99,
          5.48,
          3.49,
          2.48,
          5.99,
          1.29,
          31.99,
          11.98,
          11.98,
          1.99,
          2.48,
          11.99,
          2.7,
          11.99,
          22.79,
          11.99,
          0.98,
          42.99,
          11.99,
          11.99,
          70.89,
          42.99,
          22.79,
          7.99,
          3.49,
          22.79,
          2.7,
          0.98,
          3.49,
          2.7,
          1.99,
          1.99,
          172,
          172,
          172,
          1.29,
          172,
          6.99,
          12.99,
          3.99,
          3.99,
          35,
          45,
          16.49,
          6.99,
          35,
          6.99,
          70.89,
          9.69,
          12.99,
          12.99,
          20.99,
          5.99,
          3.49,
          3.49,
          5.99,
          16.49
         ],
         "yaxis": "y"
        }
       ],
       "layout": {
        "height": 500,
        "legend": {
         "tracegroupgap": 0
        },
        "margin": {
         "t": 60
        },
        "template": {
         "data": {
          "bar": [
           {
            "error_x": {
             "color": "#2a3f5f"
            },
            "error_y": {
             "color": "#2a3f5f"
            },
            "marker": {
             "line": {
              "color": "#E5ECF6",
              "width": 0.5
             },
             "pattern": {
              "fillmode": "overlay",
              "size": 10,
              "solidity": 0.2
             }
            },
            "type": "bar"
           }
          ],
          "barpolar": [
           {
            "marker": {
             "line": {
              "color": "#E5ECF6",
              "width": 0.5
             },
             "pattern": {
              "fillmode": "overlay",
              "size": 10,
              "solidity": 0.2
             }
            },
            "type": "barpolar"
           }
          ],
          "carpet": [
           {
            "aaxis": {
             "endlinecolor": "#2a3f5f",
             "gridcolor": "white",
             "linecolor": "white",
             "minorgridcolor": "white",
             "startlinecolor": "#2a3f5f"
            },
            "baxis": {
             "endlinecolor": "#2a3f5f",
             "gridcolor": "white",
             "linecolor": "white",
             "minorgridcolor": "white",
             "startlinecolor": "#2a3f5f"
            },
            "type": "carpet"
           }
          ],
          "choropleth": [
           {
            "colorbar": {
             "outlinewidth": 0,
             "ticks": ""
            },
            "type": "choropleth"
           }
          ],
          "contour": [
           {
            "colorbar": {
             "outlinewidth": 0,
             "ticks": ""
            },
            "colorscale": [
             [
              0,
              "#0d0887"
             ],
             [
              0.1111111111111111,
              "#46039f"
             ],
             [
              0.2222222222222222,
              "#7201a8"
             ],
             [
              0.3333333333333333,
              "#9c179e"
             ],
             [
              0.4444444444444444,
              "#bd3786"
             ],
             [
              0.5555555555555556,
              "#d8576b"
             ],
             [
              0.6666666666666666,
              "#ed7953"
             ],
             [
              0.7777777777777778,
              "#fb9f3a"
             ],
             [
              0.8888888888888888,
              "#fdca26"
             ],
             [
              1,
              "#f0f921"
             ]
            ],
            "type": "contour"
           }
          ],
          "contourcarpet": [
           {
            "colorbar": {
             "outlinewidth": 0,
             "ticks": ""
            },
            "type": "contourcarpet"
           }
          ],
          "heatmap": [
           {
            "colorbar": {
             "outlinewidth": 0,
             "ticks": ""
            },
            "colorscale": [
             [
              0,
              "#0d0887"
             ],
             [
              0.1111111111111111,
              "#46039f"
             ],
             [
              0.2222222222222222,
              "#7201a8"
             ],
             [
              0.3333333333333333,
              "#9c179e"
             ],
             [
              0.4444444444444444,
              "#bd3786"
             ],
             [
              0.5555555555555556,
              "#d8576b"
             ],
             [
              0.6666666666666666,
              "#ed7953"
             ],
             [
              0.7777777777777778,
              "#fb9f3a"
             ],
             [
              0.8888888888888888,
              "#fdca26"
             ],
             [
              1,
              "#f0f921"
             ]
            ],
            "type": "heatmap"
           }
          ],
          "heatmapgl": [
           {
            "colorbar": {
             "outlinewidth": 0,
             "ticks": ""
            },
            "colorscale": [
             [
              0,
              "#0d0887"
             ],
             [
              0.1111111111111111,
              "#46039f"
             ],
             [
              0.2222222222222222,
              "#7201a8"
             ],
             [
              0.3333333333333333,
              "#9c179e"
             ],
             [
              0.4444444444444444,
              "#bd3786"
             ],
             [
              0.5555555555555556,
              "#d8576b"
             ],
             [
              0.6666666666666666,
              "#ed7953"
             ],
             [
              0.7777777777777778,
              "#fb9f3a"
             ],
             [
              0.8888888888888888,
              "#fdca26"
             ],
             [
              1,
              "#f0f921"
             ]
            ],
            "type": "heatmapgl"
           }
          ],
          "histogram": [
           {
            "marker": {
             "pattern": {
              "fillmode": "overlay",
              "size": 10,
              "solidity": 0.2
             }
            },
            "type": "histogram"
           }
          ],
          "histogram2d": [
           {
            "colorbar": {
             "outlinewidth": 0,
             "ticks": ""
            },
            "colorscale": [
             [
              0,
              "#0d0887"
             ],
             [
              0.1111111111111111,
              "#46039f"
             ],
             [
              0.2222222222222222,
              "#7201a8"
             ],
             [
              0.3333333333333333,
              "#9c179e"
             ],
             [
              0.4444444444444444,
              "#bd3786"
             ],
             [
              0.5555555555555556,
              "#d8576b"
             ],
             [
              0.6666666666666666,
              "#ed7953"
             ],
             [
              0.7777777777777778,
              "#fb9f3a"
             ],
             [
              0.8888888888888888,
              "#fdca26"
             ],
             [
              1,
              "#f0f921"
             ]
            ],
            "type": "histogram2d"
           }
          ],
          "histogram2dcontour": [
           {
            "colorbar": {
             "outlinewidth": 0,
             "ticks": ""
            },
            "colorscale": [
             [
              0,
              "#0d0887"
             ],
             [
              0.1111111111111111,
              "#46039f"
             ],
             [
              0.2222222222222222,
              "#7201a8"
             ],
             [
              0.3333333333333333,
              "#9c179e"
             ],
             [
              0.4444444444444444,
              "#bd3786"
             ],
             [
              0.5555555555555556,
              "#d8576b"
             ],
             [
              0.6666666666666666,
              "#ed7953"
             ],
             [
              0.7777777777777778,
              "#fb9f3a"
             ],
             [
              0.8888888888888888,
              "#fdca26"
             ],
             [
              1,
              "#f0f921"
             ]
            ],
            "type": "histogram2dcontour"
           }
          ],
          "mesh3d": [
           {
            "colorbar": {
             "outlinewidth": 0,
             "ticks": ""
            },
            "type": "mesh3d"
           }
          ],
          "parcoords": [
           {
            "line": {
             "colorbar": {
              "outlinewidth": 0,
              "ticks": ""
             }
            },
            "type": "parcoords"
           }
          ],
          "pie": [
           {
            "automargin": true,
            "type": "pie"
           }
          ],
          "scatter": [
           {
            "marker": {
             "colorbar": {
              "outlinewidth": 0,
              "ticks": ""
             }
            },
            "type": "scatter"
           }
          ],
          "scatter3d": [
           {
            "line": {
             "colorbar": {
              "outlinewidth": 0,
              "ticks": ""
             }
            },
            "marker": {
             "colorbar": {
              "outlinewidth": 0,
              "ticks": ""
             }
            },
            "type": "scatter3d"
           }
          ],
          "scattercarpet": [
           {
            "marker": {
             "colorbar": {
              "outlinewidth": 0,
              "ticks": ""
             }
            },
            "type": "scattercarpet"
           }
          ],
          "scattergeo": [
           {
            "marker": {
             "colorbar": {
              "outlinewidth": 0,
              "ticks": ""
             }
            },
            "type": "scattergeo"
           }
          ],
          "scattergl": [
           {
            "marker": {
             "colorbar": {
              "outlinewidth": 0,
              "ticks": ""
             }
            },
            "type": "scattergl"
           }
          ],
          "scattermapbox": [
           {
            "marker": {
             "colorbar": {
              "outlinewidth": 0,
              "ticks": ""
             }
            },
            "type": "scattermapbox"
           }
          ],
          "scatterpolar": [
           {
            "marker": {
             "colorbar": {
              "outlinewidth": 0,
              "ticks": ""
             }
            },
            "type": "scatterpolar"
           }
          ],
          "scatterpolargl": [
           {
            "marker": {
             "colorbar": {
              "outlinewidth": 0,
              "ticks": ""
             }
            },
            "type": "scatterpolargl"
           }
          ],
          "scatterternary": [
           {
            "marker": {
             "colorbar": {
              "outlinewidth": 0,
              "ticks": ""
             }
            },
            "type": "scatterternary"
           }
          ],
          "surface": [
           {
            "colorbar": {
             "outlinewidth": 0,
             "ticks": ""
            },
            "colorscale": [
             [
              0,
              "#0d0887"
             ],
             [
              0.1111111111111111,
              "#46039f"
             ],
             [
              0.2222222222222222,
              "#7201a8"
             ],
             [
              0.3333333333333333,
              "#9c179e"
             ],
             [
              0.4444444444444444,
              "#bd3786"
             ],
             [
              0.5555555555555556,
              "#d8576b"
             ],
             [
              0.6666666666666666,
              "#ed7953"
             ],
             [
              0.7777777777777778,
              "#fb9f3a"
             ],
             [
              0.8888888888888888,
              "#fdca26"
             ],
             [
              1,
              "#f0f921"
             ]
            ],
            "type": "surface"
           }
          ],
          "table": [
           {
            "cells": {
             "fill": {
              "color": "#EBF0F8"
             },
             "line": {
              "color": "white"
             }
            },
            "header": {
             "fill": {
              "color": "#C8D4E3"
             },
             "line": {
              "color": "white"
             }
            },
            "type": "table"
           }
          ]
         },
         "layout": {
          "annotationdefaults": {
           "arrowcolor": "#2a3f5f",
           "arrowhead": 0,
           "arrowwidth": 1
          },
          "autotypenumbers": "strict",
          "coloraxis": {
           "colorbar": {
            "outlinewidth": 0,
            "ticks": ""
           }
          },
          "colorscale": {
           "diverging": [
            [
             0,
             "#8e0152"
            ],
            [
             0.1,
             "#c51b7d"
            ],
            [
             0.2,
             "#de77ae"
            ],
            [
             0.3,
             "#f1b6da"
            ],
            [
             0.4,
             "#fde0ef"
            ],
            [
             0.5,
             "#f7f7f7"
            ],
            [
             0.6,
             "#e6f5d0"
            ],
            [
             0.7,
             "#b8e186"
            ],
            [
             0.8,
             "#7fbc41"
            ],
            [
             0.9,
             "#4d9221"
            ],
            [
             1,
             "#276419"
            ]
           ],
           "sequential": [
            [
             0,
             "#0d0887"
            ],
            [
             0.1111111111111111,
             "#46039f"
            ],
            [
             0.2222222222222222,
             "#7201a8"
            ],
            [
             0.3333333333333333,
             "#9c179e"
            ],
            [
             0.4444444444444444,
             "#bd3786"
            ],
            [
             0.5555555555555556,
             "#d8576b"
            ],
            [
             0.6666666666666666,
             "#ed7953"
            ],
            [
             0.7777777777777778,
             "#fb9f3a"
            ],
            [
             0.8888888888888888,
             "#fdca26"
            ],
            [
             1,
             "#f0f921"
            ]
           ],
           "sequentialminus": [
            [
             0,
             "#0d0887"
            ],
            [
             0.1111111111111111,
             "#46039f"
            ],
            [
             0.2222222222222222,
             "#7201a8"
            ],
            [
             0.3333333333333333,
             "#9c179e"
            ],
            [
             0.4444444444444444,
             "#bd3786"
            ],
            [
             0.5555555555555556,
             "#d8576b"
            ],
            [
             0.6666666666666666,
             "#ed7953"
            ],
            [
             0.7777777777777778,
             "#fb9f3a"
            ],
            [
             0.8888888888888888,
             "#fdca26"
            ],
            [
             1,
             "#f0f921"
            ]
           ]
          },
          "colorway": [
           "#636efa",
           "#EF553B",
           "#00cc96",
           "#ab63fa",
           "#FFA15A",
           "#19d3f3",
           "#FF6692",
           "#B6E880",
           "#FF97FF",
           "#FECB52"
          ],
          "font": {
           "color": "#2a3f5f"
          },
          "geo": {
           "bgcolor": "white",
           "lakecolor": "white",
           "landcolor": "#E5ECF6",
           "showlakes": true,
           "showland": true,
           "subunitcolor": "white"
          },
          "hoverlabel": {
           "align": "left"
          },
          "hovermode": "closest",
          "mapbox": {
           "style": "light"
          },
          "paper_bgcolor": "white",
          "plot_bgcolor": "#E5ECF6",
          "polar": {
           "angularaxis": {
            "gridcolor": "white",
            "linecolor": "white",
            "ticks": ""
           },
           "bgcolor": "#E5ECF6",
           "radialaxis": {
            "gridcolor": "white",
            "linecolor": "white",
            "ticks": ""
           }
          },
          "scene": {
           "xaxis": {
            "backgroundcolor": "#E5ECF6",
            "gridcolor": "white",
            "gridwidth": 2,
            "linecolor": "white",
            "showbackground": true,
            "ticks": "",
            "zerolinecolor": "white"
           },
           "yaxis": {
            "backgroundcolor": "#E5ECF6",
            "gridcolor": "white",
            "gridwidth": 2,
            "linecolor": "white",
            "showbackground": true,
            "ticks": "",
            "zerolinecolor": "white"
           },
           "zaxis": {
            "backgroundcolor": "#E5ECF6",
            "gridcolor": "white",
            "gridwidth": 2,
            "linecolor": "white",
            "showbackground": true,
            "ticks": "",
            "zerolinecolor": "white"
           }
          },
          "shapedefaults": {
           "line": {
            "color": "#2a3f5f"
           }
          },
          "ternary": {
           "aaxis": {
            "gridcolor": "white",
            "linecolor": "white",
            "ticks": ""
           },
           "baxis": {
            "gridcolor": "white",
            "linecolor": "white",
            "ticks": ""
           },
           "bgcolor": "#E5ECF6",
           "caxis": {
            "gridcolor": "white",
            "linecolor": "white",
            "ticks": ""
           }
          },
          "title": {
           "x": 0.05
          },
          "xaxis": {
           "automargin": true,
           "gridcolor": "white",
           "linecolor": "white",
           "ticks": "",
           "title": {
            "standoff": 15
           },
           "zerolinecolor": "white",
           "zerolinewidth": 2
          },
          "yaxis": {
           "automargin": true,
           "gridcolor": "white",
           "linecolor": "white",
           "ticks": "",
           "title": {
            "standoff": 15
           },
           "zerolinecolor": "white",
           "zerolinewidth": 2
          }
         }
        },
        "title": {
         "text": "Preço X Estoque"
        },
        "width": 500,
        "xaxis": {
         "anchor": "y",
         "domain": [
          0,
          1
         ],
         "title": {
          "text": "Preço do produto"
         }
        },
        "yaxis": {
         "anchor": "x",
         "domain": [
          0,
          1
         ],
         "title": {
          "text": "Quantidade em estoque"
         }
        }
       }
      },
      "text/html": [
       "<div>                            <div id=\"4a197814-388b-4e96-ba6f-c1a73b58f6aa\" class=\"plotly-graph-div\" style=\"height:500px; width:500px;\"></div>            <script type=\"text/javascript\">                require([\"plotly\"], function(Plotly) {                    window.PLOTLYENV=window.PLOTLYENV || {};                                    if (document.getElementById(\"4a197814-388b-4e96-ba6f-c1a73b58f6aa\")) {                    Plotly.newPlot(                        \"4a197814-388b-4e96-ba6f-c1a73b58f6aa\",                        [{\"hovertemplate\":\"quantidade=%{x}<br>Pre\\u00e7o=%{y}<extra></extra>\",\"legendgroup\":\"\",\"marker\":{\"color\":\"#00CC96\",\"symbol\":\"circle\"},\"mode\":\"markers\",\"name\":\"\",\"showlegend\":false,\"type\":\"scattergl\",\"x\":[4,2,4,4,3,2,1,1,1,1,2,1,3,2,3,4,2,2,1,3,1,4,1,2,2,4,3,1,2,3,3,3,3,4,3,4,2,1,3,4,3,1,4,2,4,3,3,2,1,3,1,2,4,2,3,4,4,3,2,2,2,1,1,2,4,1,4,1,3,4,4,3,1,2,3,1,3,2,2,1,3,3,1,3,2,4,3,2,4,4,1,4,3,3,4,4,2,3,3,1,2,2,2,3,4,2,4,4,4,3,2,3,1,3,1,1,1,4,4,1,2,1,2,2,2,3,2,3,4,4,4,4,1,3,3,1,2,3,1,3,3,2,4,3,4,2,4,4,2,1,1,3,3,3,3,2,1,2,2,3,4,1,2,2,4,1,1,4,1,1,4,1,3,3,2,4,3,3,4,4,4,3,2,2,4,3,1,1,4,2,4,1,3,2,1,3,1,4,1,4,4,3,3,4,3,1,3,1,3,3,4,4,4,3,2,3,4,4,2,1,3,3,1,1,2,1,1,1,4,4,1,4,1,3,4,2,1,1,2,1,4,2,1,3,4,2,2,1,1,1,2,3,2,2,3,1,1,3,4,3,2,3,2,4,1,2,3,4,3,3,1,4,3,1,4,4,1,1,4,4,1,3,3,4,2,1,2,1,3,2,4,2,4,4,1,1,3,3,4,4,3,4,3,2,4,1,2,1,4,1,1,2,1,3,4,2,2,1,1,1,4,1,4,2,4,1,1,4,1,1,1,1,3,3,1,2,4,2,3,2,3,1,1,4,3,2,1,3,1,3,4,2,2,3,1,4,1,3,1,3,3,2,4,4,2,2,4,4,4,4,2,3,1,1,2,2,4,3,3,4,4,3,4,1,4,2,3,2,3,2,1,1,1,3,4,1,3,4,3,2,3,1,2,4,3,3,1,3,3,4,4,2,4,2,2,1,2,2,3,1,4,4,4,1,4,3,1,4,3,2,2,1,1,4,1,2,1,2,1,3,3,3,2,1,1,4,4,3,2,1,3,4,1,1,2,1,3,4,4,3,2,2,1,1,1,4,2,1,1,4,1,4,2,2,4,1,1,2,4,1,4,2,1,1,2,3,1,2,3,1,4,4,3,4,2,1,3,4,2,4,3,1,2,2,1,2,4,3,1,2,1,2,3,4,4,3,2,3,2,3,1,2,2,2,4,3,1,1,3,2,1,1,4,3,1,2,1,1,3,3,1,3,2,2,4,2,3,2,3,4,1,3,4,3,3,2,3,3,2,4,3,3,3,2,4,3,4,3,2,1,2,1,2,3,1,2,2,1,4,1,3,4,1,3,3,2,3,3,2,3,4,4,1,2,2,2,1,1,4,4,1,2,2,1,2,1,1,1,1,4,4,3,2,1,2,2,3,3,1,2,2,4,3,1,3,2,1,1,2,2,4,4,4,2,3,2,1,2,2,3,3,4,3,2,2,2,4,2,4,1,4,4,3,4,4,1,1,4,3,4,3,3,4,1,4,1,4,1,2,2,2,4,3,3,3,1,1,3,3,4,2,3,3,1,1,1,2,1,4,1,2,1,4,2,3,4,1,3,4,2,1,1,4,2,3,3,2,4,3,3,3,2,3,1,1,1,3,3,1,2,2,4,2,2,2,2,3,4,3,1,2,3,3,4,3,3,1,3,3,1,2,3,4,3,4,4,3,3,3,4,4,2,4,1,3,4,1,3,3,1,3,3,1,3,1,2,3,2,4,2,4,2,1,2,3,4,3,4,3,3,3,2,1,3,3,4,4,4,3,2,4,2,3,2,1,3,1,1,3,1,3,1,2,2,3,3,2,1,3,2,3,1,1,3,4,2,2,1,2,4,2,3,2,2,3,2,4,1,4,2,2,1,2,3,2,3,1,1,2,1,4,2,1,2,4,3,3,4,2,2,1,3,1,2,2,3,4,1,2,1,1,2,3,2,3,1,3,2,4,4,3,3,2,3,1,1,3,2,2,4,2,2,4,1,4,2,4,3,1,4,2,2,2,3,3,3,4,2,3,3,1,3,3,2,3,2,4,1,1,4,3,2,4,4,2,2,1,3,1,4,3,4,3,1,2,4,3,2,3,3,2,3,4,2,2,3,4,3,2,4,4,2,2,2,2,4,4,2,3,3,4,1,2,1,4,3,4,4,3,3,1,2,2,3,1,2,3,3,3,4,4,3,4,4,2,2,3,2,2,4,3,4,1,2,4,3,3,3,1,1,3,4,2,2,3,4,1,2,2,3,3,4,2,3,4,2,4,3,4,4,3,2,1,1,4,1,2,1,4,2,2,1,4,4,1,4,4,2,4,1,3,2,1,4,2,4,1,3,3,2,3,3,4,4,4,4,1,4,2,1,2,2,2,4,2,4,4,3,2,2,2,3,2,4,4,2,3,2,2,3,2,3,2,2,2,4,4,1,1,1,3,2,4,4,2,4,1,2,1,3,2,2,1,3,4,3,3,3,2,2,1,4,3,3,3,1,3,3,2,3,1,3,4,4,2,4,1,2,3,1,3,4,4,1,2,3,3,1,3,2,4,4,2,3,4,2,4,4,1,4,4,2,2,4,1,3,1,3,4,2,2,3,2,4,4,4,1,1,1,1,3,4,1,3,3,2,3,3,1,3,1,4,2,3,3,1,1,3,3,3,2,2,3,3,3,2,4,2,3,2,1,3,2,2,4,4,4,2,4,3,1,2,2,2,4,3,1,4,4,2,4,4,3,3,1,3,2,2,4,2,3,4,1,1,3,1,4,3,1,3,3,3,1,3,2,1,2,2,4,2,4,1,2,3,3,2,3,2,2,1,3,2,4,4,1,2,4,2,1,4,2,4,2,4,2,3,4,1,3,3,4,1,2,3,4,2,2,2,4,4,1,1,4,2,1,4,2,1,4,2,2,4,3,2,3,1,2,3,1,4,3,2,4,3,4,4,3,4,4,2,1,4,4,4,3,3,1,1,4,2,2,2,3,1,2,3,4,3,1,3,4,1,2,2,2,2,2,2,3,2,2,4,2,2,4,2,2,3,1,4,4,4,1,2,4,4,2,3,2,1,4,4,1,2,4,1,3,3,1,2,4,1,1,2,4,2,1,4,2,4,1,4,1,1,4,4,1,1,2,4,2,3,4,4,2,4,3,4,4,2,4,3,1,2,1,3,4,4,4,4,3,1,3,4,3,2,2,3,4,1,4,2,1,1,2,4,2,3,1,2,1,1,3,1,4,4,1,4,2,4,1,1,4,2,3,2,4,4,1,4,3,3,3,4,2,3,4,4,4,2,1,3,1,2,4,2,4,1,1,1,4,4,2,3,3,2,4,2,1,2,3,1,4,4,3,4,1,4,3,3,3,1,2,4,4,4,3,4,1,2,4,2,2,2,1,4,1,2,4,2,2,2,2,3,2,2,2,4,1,2,2,1,3,1,4,1,4,3,4,3,1,4,3,1,2,3,3,3,2,4,1,3,2,1,2,3,3,1,4,2,2,3,2,1,4,1,1,1,3,3,2,3,1,4,2,1,2,4,3,4,3,2,3,1,1,4,2,3,1,4,2,3,4,4,4,4,4,2,2,1,4,1,3,2,3,3,3,2,4,1,2,4,2,4,4,2,2,4,1,4,2,3,1,3,2,2,1,3,3,3,2,4,3,2,2,2,1,1,4,2,1,3,3,4,3,2,4,2,1,4,2,2,2,1,4,4,1,2,3,1,2,2,4,1,4,2,4,1,2,1,2,1,2,2,4,2,2,3,1,3,2,2,2,1,4,3,2,2,1,2,2,2,3,1,2,1,3,3,1,2,1,3,1,3,2,4,2,4,1,4,4,2,4,4,1,3,1,1,2,1,3,4,3,3,2,3,1,1,2,3,1,2,4,2,4,3,2,4,4,4,4,3,3,3,4,1,4,4,1,4,2,1,3,4,4,3,3,2,1,4,2,2,1,3,3,1,2,4,3,4,2,1,2,4,3,2,3,4,4,2,3,4,1,3,4,4,4,2,4,2,2,3,1,2,3,3,4,1,3,2,3,1,1,3,1,3,3,1,2,3,1,2,3,4,4,3,4,1,2,3,3,3,3,2,4,3,1,3,4,1,1,3,1,1,4,1,3,2,3,1,2,1,2,3,2,4,4,1,2,4,3,2,4,2,3,3,1,4,2,3,3,4,1,3,4,1,1,4,4,1,4,2,2,1,1,2,3,4,3,4,2,1,3,4,1,2,3,1,1,1,3,3,4,1,3,4,3,2,4,2,1,3,4,3,1,2,2,4,1,2,3,2,4,4,4,2,1,1,1,3,2,2,3,1,3,4,1,3,3,4,1,4,2,3,3,2,3,1,2,4,3,1,4,2,1,2,1,2,4,2,3,4,4,1,2,4,3,2,2,3,3,3,2,2,4,2,1,1,1,4,3,4,3,1,1,3,4,2,3,3,2,4,4,4,4,1,3,4,1,3,4,2,1,4,3,1,1,1,1,3,1,1,1,3,1,1,4,2,4,3,1,1,2,2,4,1,3,2,3,2,3,1,3,1,1,1,1,4,1,4,2,2,4,2,1,1,2,3,1,4,3,4,4,3,1,2,1,4,1,1,1,1,4,1,2,2,2,3,3,1,2,3,4,4,1,1,3,3,3,3,3,3,1,3,1,3,2,2,4,2,2,2,4,3,2,2,3,2,1,2,1,2,2,4,3,4,2,4,2,3,3,3,3,4,1,3,3,2,2,2,3,3,4,3,4,4,1,1,4,1,2,1,1,4,3,4,4,3,1,1,4,1,4,2,2,3,3,1,1,2,2,1,4,4,2,1,4,2,2,1,1,2,3,4,2,2,4,1,3,4,4,4,2,3,4,2,4,2,1,3,3,2,1,1,2,4,4,4,1,1,4,2,3,1,4,1,3,4,4,4,1,4,1,2,1,3,2,3,1,3,1,4,2,2,1,1,4,3,4,3,4,3,1,4,1,3,3,2,4,2,1,1,4,2,3,2,2,1,2,2,3,4,3,4,1,4,4,4,4,1,2,4,2,2,4,2,4,2,3,2,4,3,2,4,2,2,1,2,3,4,1,4,2,4,4,3,1,3,1,4,1,1,2,3,4,3,2,1,4,1,3,3,3,2,1,2,4,2,3,1,1,1,4,4,4,1,1,4,3,2,3,2,3,4,4,2,3,4,3,3,3,2,4,1,2,2,1,3,1,4,4,3,1,4,1,3,3,1,4,2,1,4,3,3,3,4,2,4,4,2,2,4,2,3,2,1,4,3,1,2,3,2,3,4,4,2,2,3,2,2,2,1,4,1,4,1,4,1,1,4,4,3,2,3,1,4,4,2,3,4,2,3,1,2,4,1,1,3,4,4,2,4,1,2,4,4,3,3,1,3,4,2,4,1,2,1,1,4,1,4,2,4,1,2,2,1,1,1,4,1,2,3,2,1,4,2,3,4,4,4,4,2,4,3,2,4,3,3,1,3,4,2,2,4,3,3,1,2,2,3,2,2,4,4,2,4,2,1,3,2,2,2,3,3,1,2,3,3,2,1,3,1,3,3,2,2,4,4,4,3,1,4,2,3,3,3,3,1,3,3,1,1,4,1,4,1,1,4,4,2,3,2,3,4,1,2,2,2,2,2],\"xaxis\":\"x\",\"y\":[6.7,4.99,15.99,15.99,8.45,23.99,23.99,22.79,22.79,9.69,12.99,7.47,42.99,6.7,10.99,11.98,2.7,2.7,6.99,6.99,3.49,3.49,20.99,6.7,4.99,8.45,23.99,23.99,11.98,2.7,1.99,172.0,7.99,5.48,5.48,35.0,16.49,6.7,4.31,15.99,172.0,9.69,12.99,3.49,3.49,5.99,1.29,16.49,22.79,3.99,3.49,9.69,12.99,12.99,35.0,2.48,7.99,35.0,6.7,6.7,4.99,5.99,5.99,31.99,172.0,70.89,3.49,20.99,3.49,23.99,22.79,45.0,5.48,6.7,6.7,23.99,8.45,31.99,31.99,11.98,11.98,22.79,3.99,7.99,6.99,2.48,1.29,1.29,23.99,6.7,4.31,4.31,23.99,11.99,22.79,172.0,6.99,12.99,3.49,5.99,4.31,8.45,31.99,11.99,2.7,5.48,12.99,20.99,15.99,15.99,23.99,23.99,45.0,0.98,5.99,16.49,6.7,10.99,4.31,4.99,4.99,23.99,23.99,23.99,11.98,2.7,9.69,9.69,3.49,6.7,6.7,4.31,15.99,23.99,23.99,11.98,172.0,5.48,3.49,12.99,3.49,5.99,5.99,31.99,5.99,1.29,6.7,10.99,10.99,4.99,5.99,22.79,3.99,45.0,7.99,5.48,3.49,0.98,2.48,2.48,2.48,3.49,3.49,5.99,7.47,4.31,23.99,11.99,3.99,3.99,3.99,45.0,7.99,7.99,7.99,0.98,2.48,2.48,3.49,5.99,16.49,1.29,6.7,4.31,15.99,8.45,2.7,2.7,3.99,45.0,5.48,1.29,1.29,42.99,9.69,6.7,4.99,4.99,23.99,5.99,31.99,172.0,172.0,6.99,70.89,70.89,3.49,0.98,8.45,31.99,31.99,31.99,3.99,3.99,45.0,7.99,6.99,5.48,5.48,3.49,3.49,3.49,9.69,35.0,42.99,70.89,6.7,4.99,35.0,6.7,2.48,6.7,4.31,5.99,23.99,11.98,11.99,3.99,3.99,45.0,6.99,3.49,9.69,35.0,16.49,31.99,172.0,6.99,3.49,3.49,9.69,12.99,35.0,2.48,16.49,6.7,10.99,23.99,23.99,5.99,5.99,23.99,23.99,5.48,3.49,3.49,0.98,23.99,35.0,5.99,70.89,6.7,6.7,4.99,4.99,15.99,11.98,6.99,2.48,3.49,5.99,7.47,7.47,1.29,16.49,8.45,3.49,6.7,10.99,10.99,15.99,8.45,23.99,23.99,5.99,1.99,172.0,3.99,5.48,9.69,9.69,1.29,1.29,4.99,172.0,70.89,70.89,9.69,0.98,15.99,11.98,6.7,6.7,4.99,4.99,8.45,31.99,11.99,2.7,1.99,172.0,45.0,5.48,9.69,35.0,6.7,23.99,8.45,5.99,11.99,11.99,22.79,2.7,2.7,3.49,3.49,1.29,16.49,4.99,7.47,16.49,6.7,11.98,11.99,0.98,12.99,20.99,3.49,5.99,7.47,7.47,6.7,8.45,8.45,31.99,31.99,11.99,3.99,0.98,2.48,3.49,6.7,15.99,15.99,23.99,1.99,5.48,2.48,23.99,2.7,6.7,4.99,23.99,23.99,11.98,11.99,11.99,22.79,3.49,5.99,6.7,6.7,4.31,15.99,11.98,7.99,6.99,20.99,2.48,4.99,23.99,8.45,23.99,5.99,23.99,1.99,3.99,20.99,7.47,42.99,45.0,6.7,4.31,8.45,23.99,45.0,70.89,0.98,0.98,2.48,10.99,3.49,6.7,4.31,15.99,23.99,8.45,23.99,1.99,3.99,9.69,0.98,12.99,5.99,5.99,16.49,6.7,23.99,23.99,23.99,31.99,3.99,3.49,3.49,10.99,4.31,4.99,4.99,11.99,2.7,3.99,3.49,12.99,12.99,3.49,1.29,23.99,23.99,23.99,1.99,45.0,5.48,70.89,12.99,12.99,3.49,7.99,6.7,4.31,23.99,8.45,23.99,23.99,23.99,45.0,45.0,7.99,0.98,12.99,7.47,1.29,6.7,23.99,11.98,11.98,2.7,2.7,6.99,6.99,70.89,70.89,3.49,7.47,4.99,23.99,23.99,23.99,23.99,5.99,23.99,22.79,7.99,0.98,35.0,42.99,6.7,4.31,8.45,23.99,23.99,5.99,11.98,11.98,3.99,70.89,3.49,9.69,15.99,12.99,6.7,8.45,11.98,22.79,2.7,5.48,12.99,2.48,3.49,3.49,1.29,10.99,172.0,6.7,23.99,8.45,5.99,23.99,11.98,22.79,3.99,45.0,6.99,70.89,12.99,12.99,5.99,5.99,22.79,0.98,6.7,23.99,23.99,22.79,3.99,3.49,20.99,35.0,2.48,16.49,42.99,10.99,23.99,23.99,31.99,31.99,2.7,1.99,172.0,45.0,7.99,70.89,12.99,2.48,2.48,2.48,42.99,23.99,31.99,31.99,22.79,2.7,3.99,0.98,16.49,42.99,42.99,0.98,20.99,35.0,6.7,6.7,4.31,8.45,5.99,11.99,70.89,2.48,42.99,10.99,23.99,11.99,172.0,172.0,6.99,6.99,3.49,5.99,1.29,16.49,4.31,4.31,4.31,23.99,2.7,172.0,7.99,6.99,5.99,16.49,15.99,11.99,3.49,6.7,4.99,8.45,31.99,45.0,6.99,6.7,10.99,4.31,15.99,11.98,22.79,1.99,1.99,6.99,20.99,20.99,42.99,5.99,6.7,4.31,4.99,4.99,5.99,5.99,5.99,23.99,31.99,31.99,22.79,3.99,7.99,6.99,20.99,20.99,20.99,16.49,6.7,5.99,31.99,172.0,172.0,3.99,6.99,5.99,1.29,16.49,10.99,23.99,5.99,5.99,11.98,11.99,22.79,1.99,1.99,1.99,3.99,3.49,3.49,9.69,9.69,42.99,42.99,6.7,15.99,23.99,23.99,1.99,6.99,3.49,20.99,5.99,16.49,42.99,7.99,6.7,23.99,11.98,3.49,12.99,35.0,2.48,16.49,42.99,31.99,6.7,10.99,23.99,23.99,8.45,11.98,11.98,45.0,7.99,6.99,7.47,23.99,6.7,4.31,23.99,5.99,11.98,172.0,20.99,2.48,1.29,16.49,6.7,23.99,1.99,172.0,0.98,0.98,20.99,20.99,3.49,5.99,7.47,6.7,4.31,15.99,23.99,3.99,3.99,7.99,7.99,5.48,70.89,35.0,2.48,10.99,15.99,23.99,31.99,22.79,2.7,1.99,45.0,3.49,3.49,16.49,6.7,4.31,15.99,23.99,8.45,23.99,5.99,5.99,31.99,11.99,9.69,5.99,5.99,1.29,11.99,3.49,6.7,4.99,8.45,23.99,5.99,31.99,22.79,2.7,1.99,1.99,3.99,7.99,70.89,9.69,20.99,7.47,4.31,4.31,11.98,11.99,2.7,0.98,2.48,6.7,4.31,5.99,2.7,5.48,9.69,20.99,42.99,4.31,15.99,15.99,23.99,23.99,5.99,11.98,2.7,172.0,3.99,45.0,70.89,3.49,3.49,5.99,16.49,16.49,42.99,1.99,3.49,20.99,3.49,5.99,6.7,4.99,15.99,8.45,2.7,172.0,7.99,6.99,6.99,9.69,0.98,0.98,5.99,23.99,8.45,11.98,1.99,45.0,6.99,6.99,3.49,2.48,5.99,23.99,20.99,6.7,6.7,15.99,23.99,11.99,1.99,7.99,3.49,9.69,0.98,20.99,16.49,16.49,42.99,6.7,23.99,5.99,11.99,2.7,45.0,45.0,7.99,9.69,12.99,35.0,16.49,6.7,8.45,8.45,8.45,5.99,172.0,3.99,3.49,9.69,35.0,7.47,10.99,5.99,5.99,23.99,31.99,31.99,11.98,11.98,3.99,3.49,5.99,10.99,23.99,23.99,23.99,22.79,6.99,5.48,9.69,12.99,20.99,3.49,6.99,12.99,35.0,6.7,10.99,8.45,8.45,23.99,6.99,5.48,7.47,1.29,1.29,42.99,23.99,11.98,7.99,6.99,70.89,9.69,35.0,2.48,3.49,3.49,42.99,31.99,9.69,6.7,10.99,31.99,172.0,172.0,70.89,12.99,20.99,3.49,42.99,6.7,4.99,23.99,31.99,31.99,11.99,172.0,3.99,45.0,6.99,70.89,70.89,12.99,5.99,45.0,6.7,4.31,23.99,23.99,11.98,172.0,45.0,7.99,5.48,3.49,35.0,4.31,23.99,11.98,172.0,3.99,3.99,7.99,6.99,5.48,3.49,7.47,22.79,3.49,20.99,35.0,6.7,4.99,5.99,5.99,31.99,3.99,6.99,3.49,35.0,10.99,10.99,10.99,4.99,5.99,11.98,6.99,5.48,9.69,12.99,16.49,42.99,10.99,4.99,23.99,8.45,23.99,31.99,2.7,1.99,45.0,2.48,3.49,5.99,5.99,1.29,16.49,42.99,4.31,23.99,16.49,6.7,10.99,10.99,31.99,11.99,2.7,45.0,6.99,5.48,70.89,12.99,35.0,16.49,6.7,10.99,4.99,15.99,15.99,23.99,11.99,1.99,3.99,35.0,4.31,5.99,11.99,1.99,45.0,12.99,20.99,35.0,3.49,5.99,42.99,2.7,6.7,10.99,4.31,4.99,8.45,5.99,5.99,11.98,3.99,3.99,20.99,35.0,6.7,10.99,15.99,31.99,3.99,45.0,3.49,0.98,20.99,1.29,16.49,10.99,4.99,23.99,31.99,31.99,11.99,2.7,2.7,5.48,0.98,12.99,12.99,35.0,1.29,15.99,15.99,5.99,2.7,45.0,0.98,0.98,10.99,4.99,23.99,11.99,22.79,2.7,7.99,20.99,4.31,70.89,10.99,10.99,4.31,4.99,4.99,23.99,31.99,22.79,172.0,3.99,6.99,70.89,2.48,2.48,3.49,5.99,7.47,11.98,3.49,10.99,4.31,2.7,3.49,0.98,0.98,3.49,5.99,16.49,42.99,4.31,23.99,8.45,8.45,11.98,11.99,22.79,22.79,0.98,35.0,3.49,5.99,5.99,7.47,4.99,23.99,23.99,2.7,1.99,70.89,3.49,9.69,0.98,12.99,35.0,1.29,10.99,10.99,4.99,15.99,15.99,15.99,2.7,1.99,3.99,3.99,5.48,20.99,16.49,31.99,6.99,20.99,10.99,22.79,9.69,10.99,16.49,10.99,23.99,10.99,10.99,4.31,2.7,172.0,45.0,9.69,20.99,10.99,23.99,11.99,1.99,70.89,3.49,20.99,3.49,3.49,10.99,4.99,0.98,10.99,4.99,15.99,8.45,8.45,3.99,5.48,3.49,1.29,9.69,10.99,4.99,23.99,5.99,22.79,70.89,35.0,35.0,16.49,10.99,4.99,4.99,23.99,5.99,11.99,11.99,11.99,172.0,5.48,0.98,20.99,35.0,3.49,4.31,23.99,5.99,11.99,2.7,7.99,3.49,3.49,9.69,12.99,20.99,2.48,16.49,8.45,35.0,7.47,10.99,15.99,15.99,31.99,31.99,22.79,45.0,7.99,7.99,9.69,0.98,3.49,16.49,16.49,42.99,4.99,23.99,5.99,5.48,9.69,12.99,5.99,16.49,42.99,4.99,5.99,23.99,23.99,31.99,31.99,7.99,6.99,5.48,70.89,3.49,2.48,3.49,16.49,10.99,5.99,31.99,5.48,2.48,5.99,4.31,4.99,4.99,15.99,23.99,8.45,23.99,11.99,2.7,7.99,6.99,70.89,9.69,0.98,35.0,1.29,42.99,23.99,10.99,4.31,23.99,23.99,11.98,7.99,6.99,5.48,3.49,9.69,0.98,0.98,3.49,10.99,4.31,15.99,8.45,8.45,8.45,7.99,70.89,3.49,2.48,7.47,1.29,1.29,10.99,15.99,23.99,2.7,172.0,3.99,7.99,70.89,0.98,0.98,12.99,12.99,16.49,3.99,10.99,4.31,23.99,31.99,2.7,5.48,3.49,9.69,12.99,2.48,7.47,4.99,5.99,1.99,1.99,3.99,3.49,3.49,12.99,12.99,35.0,42.99,10.99,4.99,15.99,23.99,8.45,5.99,23.99,22.79,22.79,7.99,5.48,9.69,35.0,16.49,4.99,15.99,22.79,45.0,7.99,6.99,12.99,7.47,5.48,10.99,23.99,23.99,31.99,22.79,22.79,1.99,45.0,7.99,7.99,3.49,9.69,16.49,10.99,8.45,23.99,172.0,7.99,5.48,3.49,0.98,12.99,2.48,7.47,7.47,1.29,10.99,4.31,4.99,11.98,1.99,5.99,7.47,10.99,15.99,23.99,11.99,172.0,45.0,7.99,70.89,12.99,5.99,42.99,10.99,4.31,4.31,23.99,5.99,2.7,2.7,5.48,9.69,0.98,20.99,5.99,4.31,70.89,10.99,15.99,2.7,172.0,7.99,3.49,35.0,2.48,2.48,10.99,8.45,31.99,1.99,45.0,6.99,5.48,5.48,70.89,9.69,2.48,2.48,3.49,7.47,31.99,6.99,1.29,42.99,10.99,15.99,11.98,11.98,22.79,22.79,2.7,7.99,12.99,35.0,4.99,8.45,10.99,23.99,23.99,5.99,23.99,31.99,22.79,22.79,1.99,1.99,7.99,5.48,5.48,9.69,12.99,7.47,42.99,23.99,31.99,2.7,1.99,172.0,0.98,0.98,20.99,35.0,3.49,7.47,7.47,23.99,10.99,23.99,8.45,172.0,70.89,9.69,2.48,16.49,16.49,16.49,16.49,22.79,20.99,10.99,4.31,22.79,5.48,5.48,70.89,42.99,23.99,8.45,23.99,23.99,11.98,172.0,172.0,6.99,3.49,9.69,20.99,2.48,3.49,5.99,1.29,1.29,23.99,22.79,10.99,15.99,23.99,8.45,23.99,2.7,3.99,6.99,0.98,12.99,2.48,2.48,2.48,3.49,1.29,8.45,23.99,31.99,1.99,172.0,0.98,12.99,3.49,3.49,5.99,1.29,7.47,42.99,10.99,4.31,31.99,45.0,3.49,35.0,2.48,3.49,3.49,3.49,16.49,42.99,42.99,11.99,45.0,10.99,5.99,31.99,7.99,20.99,3.49,42.99,31.99,3.99,45.0,7.99,3.49,0.98,35.0,2.48,16.49,35.0,10.99,4.99,11.99,22.79,22.79,172.0,45.0,7.99,7.99,6.99,5.48,70.89,3.49,16.49,22.79,2.7,45.0,5.48,3.49,2.48,10.99,2.7,1.99,172.0,9.69,35.0,2.48,3.49,7.47,16.49,11.98,4.31,3.49,4.31,5.99,31.99,11.99,11.99,2.7,1.99,70.89,12.99,2.48,2.48,11.98,11.98,2.7,1.99,45.0,45.0,6.99,9.69,9.69,0.98,0.98,12.99,20.99,35.0,3.49,5.99,1.29,16.49,42.99,4.31,4.31,23.99,23.99,11.98,11.98,1.99,3.99,7.99,23.99,23.99,8.45,11.98,11.99,22.79,45.0,7.99,7.99,6.99,9.69,20.99,5.99,5.99,7.47,16.49,8.45,5.99,11.98,11.99,22.79,2.7,5.48,9.69,2.48,42.99,42.99,2.7,4.31,4.31,4.31,23.99,6.99,5.48,4.31,31.99,22.79,22.79,1.99,5.48,5.48,20.99,5.99,1.29,42.99,23.99,5.99,23.99,11.98,7.99,3.49,3.49,9.69,16.49,16.49,4.31,8.45,23.99,31.99,31.99,45.0,45.0,7.99,3.49,35.0,35.0,16.49,42.99,7.47,4.31,11.98,172.0,6.99,70.89,9.69,0.98,2.48,3.49,5.99,22.79,2.48,4.31,31.99,2.7,172.0,6.99,9.69,16.49,42.99,42.99,4.31,4.99,23.99,6.99,6.99,3.49,12.99,12.99,2.48,16.49,4.31,23.99,11.98,172.0,3.49,0.98,35.0,16.49,7.99,4.31,23.99,23.99,11.98,6.99,9.69,0.98,35.0,3.49,7.47,42.99,15.99,8.45,5.99,172.0,3.99,3.99,5.48,70.89,35.0,42.99,4.31,23.99,11.98,3.99,6.99,9.69,0.98,20.99,35.0,3.49,42.99,8.45,23.99,5.99,23.99,31.99,1.99,1.99,172.0,9.69,12.99,12.99,35.0,3.49,5.99,16.49,42.99,11.98,4.31,1.99,45.0,6.99,20.99,3.49,1.29,9.69,1.29,4.31,5.99,23.99,11.99,172.0,5.48,5.48,3.49,4.31,4.99,15.99,22.79,1.99,172.0,5.48,3.49,0.98,35.0,2.48,15.99,8.45,23.99,31.99,7.99,6.99,5.48,5.48,0.98,0.98,42.99,11.98,1.29,4.31,23.99,23.99,31.99,2.7,1.99,70.89,70.89,1.29,42.99,23.99,22.79,4.31,5.99,5.99,23.99,11.99,1.99,1.99,7.99,7.99,2.48,3.49,5.99,35.0,4.31,15.99,23.99,11.98,7.99,3.49,9.69,1.29,16.49,42.99,4.31,4.99,15.99,8.45,23.99,11.98,11.99,2.7,45.0,6.99,70.89,9.69,12.99,4.31,23.99,23.99,23.99,23.99,2.7,70.89,12.99,20.99,5.99,16.49,11.99,22.79,7.99,3.49,20.99,35.0,42.99,7.99,4.31,4.99,4.99,23.99,23.99,11.99,2.7,7.99,6.99,9.69,0.98,7.47,8.45,8.45,22.79,4.31,4.99,15.99,23.99,8.45,11.98,1.99,1.99,5.48,9.69,0.98,0.98,0.98,12.99,1.29,42.99,4.99,2.7,0.98,7.47,4.31,4.99,15.99,2.7,1.99,45.0,7.99,7.99,20.99,2.48,5.99,4.31,15.99,31.99,172.0,3.49,9.69,35.0,2.48,3.49,5.99,4.99,15.99,2.7,1.99,45.0,5.48,20.99,5.99,7.47,16.49,23.99,23.99,11.98,70.89,0.98,16.49,4.99,4.99,3.99,7.99,5.48,3.49,3.49,3.49,5.99,8.45,23.99,172.0,45.0,2.48,1.99,12.99,4.99,15.99,23.99,11.99,22.79,3.99,70.89,2.48,3.49,23.99,42.99,4.99,11.99,6.99,4.99,2.48,4.99,4.99,15.99,23.99,5.99,31.99,11.98,22.79,2.7,3.99,70.89,3.49,7.47,9.69,4.99,4.99,15.99,23.99,11.99,11.99,11.99,3.99,9.69,0.98,7.47,16.49,6.99,5.48,70.89,42.99,4.99,5.99,23.99,11.99,11.99,6.99,70.89,12.99,20.99,3.49,1.29,1.29,16.49,4.99,15.99,22.79,2.7,172.0,35.0,35.0,2.48,4.99,4.99,8.45,23.99,5.99,11.99,2.7,1.99,172.0,45.0,45.0,6.99,0.98,20.99,2.48,3.49,23.99,8.45,23.99,7.99,9.69,0.98,5.99,1.29,16.49,16.49,4.99,23.99,23.99,8.45,11.99,3.99,45.0,70.89,70.89,2.48,2.48,1.29,70.89,4.99,8.45,23.99,31.99,3.99,7.99,12.99,20.99,2.48,4.99,5.99,22.79,1.99,70.89,9.69,42.99,1.29,4.99,15.99,8.45,5.99,11.98,45.0,6.99,5.48,70.89,35.0,5.99,7.47,1.29,1.29,42.99,5.99,4.99,8.45,11.99,3.99,6.99,6.99,9.69,3.49,1.29,23.99,3.49,15.99,11.98,45.0,70.89,3.49,5.99,70.89,15.99,23.99,15.99,15.99,22.79,12.99,15.99,8.45,15.99,8.45,5.99,11.98,3.99,7.99,6.99,70.89,9.69,3.49,1.29,16.49,23.99,2.7,5.48,15.99,8.45,2.7,1.99,172.0,172.0,45.0,45.0,7.99,6.99,6.99,3.49,9.69,35.0,7.47,42.99,5.99,15.99,31.99,11.98,22.79,2.7,1.29,23.99,23.99,11.99,1.99,3.99,7.99,6.99,16.49,12.99,3.49,23.99,5.99,31.99,22.79,6.99,6.99,70.89,70.89,0.98,3.49,23.99,31.99,2.7,1.99,172.0,7.99,70.89,3.49,9.69,23.99,23.99,23.99,23.99,31.99,11.98,11.99,6.99,5.48,12.99,3.49,7.47,3.99,70.89,23.99,23.99,23.99,23.99,31.99,11.98,172.0,45.0,70.89,3.49,172.0,2.48,23.99,16.49,23.99,11.98,1.99,45.0,70.89,0.98,2.48,23.99,5.99,7.99,5.48,5.48,12.99,3.49,7.47,42.99,23.99,23.99,8.45,11.98,11.99,22.79,6.99,70.89,12.99,2.48,23.99,23.99,23.99,11.98,11.98,22.79,3.99,5.48,35.0,7.47,1.29,16.49,42.99,31.99,8.45,8.45,8.45,172.0,45.0,5.99,23.99,70.89,35.0,23.99,20.99,1.29,23.99,22.79,70.89,12.99,2.48,7.47,1.29,5.99,22.79,1.99,1.99,172.0,3.99,70.89,3.49,3.49,2.48,5.99,16.49,16.49,23.99,5.99,31.99,11.99,22.79,2.7,172.0,45.0,5.48,70.89,3.49,3.49,3.49,23.99,6.99,0.98,2.48,7.47,16.49,31.99,5.99,172.0,6.99,70.89,70.89,3.49,9.69,9.69,0.98,3.49,5.99,1.29,5.48,5.99,31.99,2.7,2.7,45.0,70.89,3.49,7.47,42.99,12.99,35.0,2.48,23.99,11.98,11.99,2.7,3.99,7.99,6.99,5.48,3.49,2.48,5.99,1.29,31.99,11.98,11.98,1.99,2.48,11.99,2.7,11.99,22.79,11.99,0.98,42.99,11.99,11.99,70.89,42.99,22.79,7.99,3.49,22.79,2.7,0.98,3.49,2.7,1.99,1.99,172.0,172.0,172.0,1.29,172.0,6.99,12.99,3.99,3.99,35.0,45.0,16.49,6.99,35.0,6.99,70.89,9.69,12.99,12.99,20.99,5.99,3.49,3.49,5.99,16.49],\"yaxis\":\"y\"}],                        {\"height\":500,\"legend\":{\"tracegroupgap\":0},\"margin\":{\"t\":60},\"template\":{\"data\":{\"bar\":[{\"error_x\":{\"color\":\"#2a3f5f\"},\"error_y\":{\"color\":\"#2a3f5f\"},\"marker\":{\"line\":{\"color\":\"#E5ECF6\",\"width\":0.5},\"pattern\":{\"fillmode\":\"overlay\",\"size\":10,\"solidity\":0.2}},\"type\":\"bar\"}],\"barpolar\":[{\"marker\":{\"line\":{\"color\":\"#E5ECF6\",\"width\":0.5},\"pattern\":{\"fillmode\":\"overlay\",\"size\":10,\"solidity\":0.2}},\"type\":\"barpolar\"}],\"carpet\":[{\"aaxis\":{\"endlinecolor\":\"#2a3f5f\",\"gridcolor\":\"white\",\"linecolor\":\"white\",\"minorgridcolor\":\"white\",\"startlinecolor\":\"#2a3f5f\"},\"baxis\":{\"endlinecolor\":\"#2a3f5f\",\"gridcolor\":\"white\",\"linecolor\":\"white\",\"minorgridcolor\":\"white\",\"startlinecolor\":\"#2a3f5f\"},\"type\":\"carpet\"}],\"choropleth\":[{\"colorbar\":{\"outlinewidth\":0,\"ticks\":\"\"},\"type\":\"choropleth\"}],\"contour\":[{\"colorbar\":{\"outlinewidth\":0,\"ticks\":\"\"},\"colorscale\":[[0.0,\"#0d0887\"],[0.1111111111111111,\"#46039f\"],[0.2222222222222222,\"#7201a8\"],[0.3333333333333333,\"#9c179e\"],[0.4444444444444444,\"#bd3786\"],[0.5555555555555556,\"#d8576b\"],[0.6666666666666666,\"#ed7953\"],[0.7777777777777778,\"#fb9f3a\"],[0.8888888888888888,\"#fdca26\"],[1.0,\"#f0f921\"]],\"type\":\"contour\"}],\"contourcarpet\":[{\"colorbar\":{\"outlinewidth\":0,\"ticks\":\"\"},\"type\":\"contourcarpet\"}],\"heatmap\":[{\"colorbar\":{\"outlinewidth\":0,\"ticks\":\"\"},\"colorscale\":[[0.0,\"#0d0887\"],[0.1111111111111111,\"#46039f\"],[0.2222222222222222,\"#7201a8\"],[0.3333333333333333,\"#9c179e\"],[0.4444444444444444,\"#bd3786\"],[0.5555555555555556,\"#d8576b\"],[0.6666666666666666,\"#ed7953\"],[0.7777777777777778,\"#fb9f3a\"],[0.8888888888888888,\"#fdca26\"],[1.0,\"#f0f921\"]],\"type\":\"heatmap\"}],\"heatmapgl\":[{\"colorbar\":{\"outlinewidth\":0,\"ticks\":\"\"},\"colorscale\":[[0.0,\"#0d0887\"],[0.1111111111111111,\"#46039f\"],[0.2222222222222222,\"#7201a8\"],[0.3333333333333333,\"#9c179e\"],[0.4444444444444444,\"#bd3786\"],[0.5555555555555556,\"#d8576b\"],[0.6666666666666666,\"#ed7953\"],[0.7777777777777778,\"#fb9f3a\"],[0.8888888888888888,\"#fdca26\"],[1.0,\"#f0f921\"]],\"type\":\"heatmapgl\"}],\"histogram\":[{\"marker\":{\"pattern\":{\"fillmode\":\"overlay\",\"size\":10,\"solidity\":0.2}},\"type\":\"histogram\"}],\"histogram2d\":[{\"colorbar\":{\"outlinewidth\":0,\"ticks\":\"\"},\"colorscale\":[[0.0,\"#0d0887\"],[0.1111111111111111,\"#46039f\"],[0.2222222222222222,\"#7201a8\"],[0.3333333333333333,\"#9c179e\"],[0.4444444444444444,\"#bd3786\"],[0.5555555555555556,\"#d8576b\"],[0.6666666666666666,\"#ed7953\"],[0.7777777777777778,\"#fb9f3a\"],[0.8888888888888888,\"#fdca26\"],[1.0,\"#f0f921\"]],\"type\":\"histogram2d\"}],\"histogram2dcontour\":[{\"colorbar\":{\"outlinewidth\":0,\"ticks\":\"\"},\"colorscale\":[[0.0,\"#0d0887\"],[0.1111111111111111,\"#46039f\"],[0.2222222222222222,\"#7201a8\"],[0.3333333333333333,\"#9c179e\"],[0.4444444444444444,\"#bd3786\"],[0.5555555555555556,\"#d8576b\"],[0.6666666666666666,\"#ed7953\"],[0.7777777777777778,\"#fb9f3a\"],[0.8888888888888888,\"#fdca26\"],[1.0,\"#f0f921\"]],\"type\":\"histogram2dcontour\"}],\"mesh3d\":[{\"colorbar\":{\"outlinewidth\":0,\"ticks\":\"\"},\"type\":\"mesh3d\"}],\"parcoords\":[{\"line\":{\"colorbar\":{\"outlinewidth\":0,\"ticks\":\"\"}},\"type\":\"parcoords\"}],\"pie\":[{\"automargin\":true,\"type\":\"pie\"}],\"scatter\":[{\"marker\":{\"colorbar\":{\"outlinewidth\":0,\"ticks\":\"\"}},\"type\":\"scatter\"}],\"scatter3d\":[{\"line\":{\"colorbar\":{\"outlinewidth\":0,\"ticks\":\"\"}},\"marker\":{\"colorbar\":{\"outlinewidth\":0,\"ticks\":\"\"}},\"type\":\"scatter3d\"}],\"scattercarpet\":[{\"marker\":{\"colorbar\":{\"outlinewidth\":0,\"ticks\":\"\"}},\"type\":\"scattercarpet\"}],\"scattergeo\":[{\"marker\":{\"colorbar\":{\"outlinewidth\":0,\"ticks\":\"\"}},\"type\":\"scattergeo\"}],\"scattergl\":[{\"marker\":{\"colorbar\":{\"outlinewidth\":0,\"ticks\":\"\"}},\"type\":\"scattergl\"}],\"scattermapbox\":[{\"marker\":{\"colorbar\":{\"outlinewidth\":0,\"ticks\":\"\"}},\"type\":\"scattermapbox\"}],\"scatterpolar\":[{\"marker\":{\"colorbar\":{\"outlinewidth\":0,\"ticks\":\"\"}},\"type\":\"scatterpolar\"}],\"scatterpolargl\":[{\"marker\":{\"colorbar\":{\"outlinewidth\":0,\"ticks\":\"\"}},\"type\":\"scatterpolargl\"}],\"scatterternary\":[{\"marker\":{\"colorbar\":{\"outlinewidth\":0,\"ticks\":\"\"}},\"type\":\"scatterternary\"}],\"surface\":[{\"colorbar\":{\"outlinewidth\":0,\"ticks\":\"\"},\"colorscale\":[[0.0,\"#0d0887\"],[0.1111111111111111,\"#46039f\"],[0.2222222222222222,\"#7201a8\"],[0.3333333333333333,\"#9c179e\"],[0.4444444444444444,\"#bd3786\"],[0.5555555555555556,\"#d8576b\"],[0.6666666666666666,\"#ed7953\"],[0.7777777777777778,\"#fb9f3a\"],[0.8888888888888888,\"#fdca26\"],[1.0,\"#f0f921\"]],\"type\":\"surface\"}],\"table\":[{\"cells\":{\"fill\":{\"color\":\"#EBF0F8\"},\"line\":{\"color\":\"white\"}},\"header\":{\"fill\":{\"color\":\"#C8D4E3\"},\"line\":{\"color\":\"white\"}},\"type\":\"table\"}]},\"layout\":{\"annotationdefaults\":{\"arrowcolor\":\"#2a3f5f\",\"arrowhead\":0,\"arrowwidth\":1},\"autotypenumbers\":\"strict\",\"coloraxis\":{\"colorbar\":{\"outlinewidth\":0,\"ticks\":\"\"}},\"colorscale\":{\"diverging\":[[0,\"#8e0152\"],[0.1,\"#c51b7d\"],[0.2,\"#de77ae\"],[0.3,\"#f1b6da\"],[0.4,\"#fde0ef\"],[0.5,\"#f7f7f7\"],[0.6,\"#e6f5d0\"],[0.7,\"#b8e186\"],[0.8,\"#7fbc41\"],[0.9,\"#4d9221\"],[1,\"#276419\"]],\"sequential\":[[0.0,\"#0d0887\"],[0.1111111111111111,\"#46039f\"],[0.2222222222222222,\"#7201a8\"],[0.3333333333333333,\"#9c179e\"],[0.4444444444444444,\"#bd3786\"],[0.5555555555555556,\"#d8576b\"],[0.6666666666666666,\"#ed7953\"],[0.7777777777777778,\"#fb9f3a\"],[0.8888888888888888,\"#fdca26\"],[1.0,\"#f0f921\"]],\"sequentialminus\":[[0.0,\"#0d0887\"],[0.1111111111111111,\"#46039f\"],[0.2222222222222222,\"#7201a8\"],[0.3333333333333333,\"#9c179e\"],[0.4444444444444444,\"#bd3786\"],[0.5555555555555556,\"#d8576b\"],[0.6666666666666666,\"#ed7953\"],[0.7777777777777778,\"#fb9f3a\"],[0.8888888888888888,\"#fdca26\"],[1.0,\"#f0f921\"]]},\"colorway\":[\"#636efa\",\"#EF553B\",\"#00cc96\",\"#ab63fa\",\"#FFA15A\",\"#19d3f3\",\"#FF6692\",\"#B6E880\",\"#FF97FF\",\"#FECB52\"],\"font\":{\"color\":\"#2a3f5f\"},\"geo\":{\"bgcolor\":\"white\",\"lakecolor\":\"white\",\"landcolor\":\"#E5ECF6\",\"showlakes\":true,\"showland\":true,\"subunitcolor\":\"white\"},\"hoverlabel\":{\"align\":\"left\"},\"hovermode\":\"closest\",\"mapbox\":{\"style\":\"light\"},\"paper_bgcolor\":\"white\",\"plot_bgcolor\":\"#E5ECF6\",\"polar\":{\"angularaxis\":{\"gridcolor\":\"white\",\"linecolor\":\"white\",\"ticks\":\"\"},\"bgcolor\":\"#E5ECF6\",\"radialaxis\":{\"gridcolor\":\"white\",\"linecolor\":\"white\",\"ticks\":\"\"}},\"scene\":{\"xaxis\":{\"backgroundcolor\":\"#E5ECF6\",\"gridcolor\":\"white\",\"gridwidth\":2,\"linecolor\":\"white\",\"showbackground\":true,\"ticks\":\"\",\"zerolinecolor\":\"white\"},\"yaxis\":{\"backgroundcolor\":\"#E5ECF6\",\"gridcolor\":\"white\",\"gridwidth\":2,\"linecolor\":\"white\",\"showbackground\":true,\"ticks\":\"\",\"zerolinecolor\":\"white\"},\"zaxis\":{\"backgroundcolor\":\"#E5ECF6\",\"gridcolor\":\"white\",\"gridwidth\":2,\"linecolor\":\"white\",\"showbackground\":true,\"ticks\":\"\",\"zerolinecolor\":\"white\"}},\"shapedefaults\":{\"line\":{\"color\":\"#2a3f5f\"}},\"ternary\":{\"aaxis\":{\"gridcolor\":\"white\",\"linecolor\":\"white\",\"ticks\":\"\"},\"baxis\":{\"gridcolor\":\"white\",\"linecolor\":\"white\",\"ticks\":\"\"},\"bgcolor\":\"#E5ECF6\",\"caxis\":{\"gridcolor\":\"white\",\"linecolor\":\"white\",\"ticks\":\"\"}},\"title\":{\"x\":0.05},\"xaxis\":{\"automargin\":true,\"gridcolor\":\"white\",\"linecolor\":\"white\",\"ticks\":\"\",\"title\":{\"standoff\":15},\"zerolinecolor\":\"white\",\"zerolinewidth\":2},\"yaxis\":{\"automargin\":true,\"gridcolor\":\"white\",\"linecolor\":\"white\",\"ticks\":\"\",\"title\":{\"standoff\":15},\"zerolinecolor\":\"white\",\"zerolinewidth\":2}}},\"title\":{\"text\":\"Pre\\u00e7o X Estoque\"},\"width\":500,\"xaxis\":{\"anchor\":\"y\",\"domain\":[0.0,1.0],\"title\":{\"text\":\"Pre\\u00e7o do produto\"}},\"yaxis\":{\"anchor\":\"x\",\"domain\":[0.0,1.0],\"title\":{\"text\":\"Quantidade em estoque\"}}},                        {\"responsive\": true}                    ).then(function(){\n",
       "                            \n",
       "var gd = document.getElementById('4a197814-388b-4e96-ba6f-c1a73b58f6aa');\n",
       "var x = new MutationObserver(function (mutations, observer) {{\n",
       "        var display = window.getComputedStyle(gd).display;\n",
       "        if (!display || display === 'none') {{\n",
       "            console.log([gd, 'removed!']);\n",
       "            Plotly.purge(gd);\n",
       "            observer.disconnect();\n",
       "        }}\n",
       "}});\n",
       "\n",
       "// Listen for the removal of the full notebook cells\n",
       "var notebookContainer = gd.closest('#notebook-container');\n",
       "if (notebookContainer) {{\n",
       "    x.observe(notebookContainer, {childList: true});\n",
       "}}\n",
       "\n",
       "// Listen for the clearing of the current output cell\n",
       "var outputEl = gd.closest('.output');\n",
       "if (outputEl) {{\n",
       "    x.observe(outputEl, {childList: true});\n",
       "}}\n",
       "\n",
       "                        })                };                });            </script>        </div>"
      ]
     },
     "metadata": {},
     "output_type": "display_data"
    }
   ],
   "source": [
    "#pltagem de um gráfico de disperção relacionado preço e estoque\n",
    "fig_preco_estoque=px.scatter(venda_produtos_cliente, x = \"quantidade\", y = \"preco\", labels={\"preco\": \"Preço\", \"quantidade\": \"quantidade\" }, height=500, width=500,)\n",
    "fig_preco_estoque.update_traces(marker = {'color': '#00CC96'})\n",
    "fig_preco_estoque.update_layout(title = 'Preço X Estoque')\n",
    "fig_preco_estoque.update_xaxes(title = 'Preço do produto')\n",
    "fig_preco_estoque.update_yaxes(title = 'Quantidade em estoque')\n",
    "fig_preco_estoque.show()"
   ]
  },
  {
   "cell_type": "code",
   "execution_count": 82,
   "id": "cbc359fe",
   "metadata": {},
   "outputs": [
    {
     "name": "stdout",
     "output_type": "stream",
     "text": [
      "Correlação dos dados (preço e estoque): 0.00829674141361786\n"
     ]
    }
   ],
   "source": [
    "# Calculando a correlação dos dados\n",
    "Correlação= venda_produtos_cliente['preco'].corr(venda_produtos_cliente['quantidade'])\n",
    "print(f\"Correlação dos dados (preço e estoque):\", Correlação)"
   ]
  },
  {
   "cell_type": "markdown",
   "id": "ec5bdcd7",
   "metadata": {},
   "source": [
    "## Cliente mais ativo"
   ]
  },
  {
   "cell_type": "code",
   "execution_count": 13,
   "id": "da5b4787",
   "metadata": {},
   "outputs": [],
   "source": [
    "#criando uma tabela para analisar a quantidade de produtos comprados por id_cliente\n",
    "quantidade_comprada = venda_produtos_cliente[[\"id_clientes\", \"quantidade\"]].groupby(['id_clientes']).sum().sort_values('quantidade', ascending=False).reset_index().head(10)\n",
    "\n",
    "#renomenado a coluna quantidade para quantidade_total na tabela de quantidade_comprada\n",
    "quantidade_comprada.rename(columns={\"quantidade\": \"quantidade_total\"}, inplace = 1)\n",
    "\n",
    "#realizando a união das tabelas venda_produtos_cliente e quantidade_comprada em id_cliente\n",
    "venda_produtos_cliente_qt = pd.merge(venda_produtos_cliente, quantidade_comprada, on = 'id_clientes', how='right') \n",
    "\n",
    "#lista_id_cliente_maiores_quantidades = quantidade_comprada['id_cliente'].tolist()\n",
    "#clientes.iloc[lista_id_cliente_maiores_quantidades]"
   ]
  },
  {
   "cell_type": "code",
   "execution_count": 14,
   "id": "ff7d5af4",
   "metadata": {},
   "outputs": [],
   "source": [
    "#plotagem de um gráfica de barras\n",
    "#fig = px.bar(venda_produtos_cliente_qt, x=\"nome_cliente\", y=\"quantidade\", color=\"nome\", barmode = 'stack',\n",
    " #            labels={\"quantidade\": \"Quantidade de vendas\", \"nome_cliente\": \"Nome do cliente\", \"nome\":\"Produto\" }, height=700, width=700)\n",
    " \n",
    "#fig.show()"
   ]
  },
  {
   "cell_type": "code",
   "execution_count": 15,
   "id": "ba1bc3fc",
   "metadata": {},
   "outputs": [],
   "source": [
    "venda_produtos_cliente[\"total_preco\"]=venda_produtos_cliente[\"quantidade\"]*venda_produtos_cliente[\"preco\"]\n",
    "quantidade_comprada_preco = venda_produtos_cliente[[\"id_clientes\", \"total_preco\"]].groupby(['id_clientes']).sum().sort_values('total_preco', ascending=False).reset_index().head(10)\n",
    "quantidade_comprada_preco.rename(columns={\"total_preco\": \"total_mes\"}, inplace = 1)\n",
    "venda_produtos_cliente_pt=pd.merge(venda_produtos_cliente, quantidade_comprada_preco, on = 'id_clientes', how='right') "
   ]
  },
  {
   "cell_type": "code",
   "execution_count": 16,
   "id": "099d2aaf",
   "metadata": {},
   "outputs": [
    {
     "data": {
      "text/html": [
       "<div>\n",
       "<style scoped>\n",
       "    .dataframe tbody tr th:only-of-type {\n",
       "        vertical-align: middle;\n",
       "    }\n",
       "\n",
       "    .dataframe tbody tr th {\n",
       "        vertical-align: top;\n",
       "    }\n",
       "\n",
       "    .dataframe thead th {\n",
       "        text-align: right;\n",
       "    }\n",
       "</style>\n",
       "<table border=\"1\" class=\"dataframe\">\n",
       "  <thead>\n",
       "    <tr style=\"text-align: right;\">\n",
       "      <th></th>\n",
       "      <th>id_clientes</th>\n",
       "      <th>total_mes</th>\n",
       "    </tr>\n",
       "  </thead>\n",
       "  <tbody>\n",
       "    <tr>\n",
       "      <th>0</th>\n",
       "      <td>170</td>\n",
       "      <td>2665.56</td>\n",
       "    </tr>\n",
       "    <tr>\n",
       "      <th>1</th>\n",
       "      <td>130</td>\n",
       "      <td>2611.51</td>\n",
       "    </tr>\n",
       "    <tr>\n",
       "      <th>2</th>\n",
       "      <td>77</td>\n",
       "      <td>2381.90</td>\n",
       "    </tr>\n",
       "    <tr>\n",
       "      <th>3</th>\n",
       "      <td>149</td>\n",
       "      <td>2308.42</td>\n",
       "    </tr>\n",
       "    <tr>\n",
       "      <th>4</th>\n",
       "      <td>25</td>\n",
       "      <td>2112.63</td>\n",
       "    </tr>\n",
       "    <tr>\n",
       "      <th>5</th>\n",
       "      <td>62</td>\n",
       "      <td>2079.41</td>\n",
       "    </tr>\n",
       "    <tr>\n",
       "      <th>6</th>\n",
       "      <td>85</td>\n",
       "      <td>1921.39</td>\n",
       "    </tr>\n",
       "    <tr>\n",
       "      <th>7</th>\n",
       "      <td>113</td>\n",
       "      <td>1730.89</td>\n",
       "    </tr>\n",
       "    <tr>\n",
       "      <th>8</th>\n",
       "      <td>187</td>\n",
       "      <td>1721.07</td>\n",
       "    </tr>\n",
       "    <tr>\n",
       "      <th>9</th>\n",
       "      <td>58</td>\n",
       "      <td>1694.53</td>\n",
       "    </tr>\n",
       "  </tbody>\n",
       "</table>\n",
       "</div>"
      ],
      "text/plain": [
       "   id_clientes  total_mes\n",
       "0          170    2665.56\n",
       "1          130    2611.51\n",
       "2           77    2381.90\n",
       "3          149    2308.42\n",
       "4           25    2112.63\n",
       "5           62    2079.41\n",
       "6           85    1921.39\n",
       "7          113    1730.89\n",
       "8          187    1721.07\n",
       "9           58    1694.53"
      ]
     },
     "execution_count": 16,
     "metadata": {},
     "output_type": "execute_result"
    }
   ],
   "source": [
    "quantidade_comprada_preco"
   ]
  },
  {
   "cell_type": "code",
   "execution_count": 17,
   "id": "2452f2a3",
   "metadata": {},
   "outputs": [
    {
     "data": {
      "application/vnd.plotly.v1+json": {
       "config": {
        "plotlyServerURL": "https://plot.ly"
       },
       "data": [
        {
         "alignmentgroup": "True",
         "customdata": [
          [
           "amaciante",
           "2021-11-02",
           6.7
          ],
          [
           "odorizador",
           "2021-11-02",
           23.99
          ],
          [
           "amaciante",
           "2021-11-01",
           6.7
          ],
          [
           "rodo",
           "2021-11-01",
           5.99
          ],
          [
           "sabonete",
           "2021-11-01",
           1.29
          ],
          [
           "água sanitária",
           "2021-11-05",
           11.98
          ],
          [
           "flanela",
           "2021-11-05",
           1.99
          ],
          [
           "flanela",
           "2021-11-05",
           1.99
          ],
          [
           "flanela",
           "2021-11-05",
           1.99
          ],
          [
           "sabão em pó",
           "2021-11-05",
           9.69
          ],
          [
           "sabão em pó",
           "2021-11-05",
           9.69
          ],
          [
           "amaciante",
           "2021-11-01",
           6.7
          ],
          [
           "odorizador",
           "2021-11-01",
           23.99
          ],
          [
           "odorizador",
           "2021-11-01",
           23.99
          ],
          [
           "odorizador",
           "2021-11-12",
           23.99
          ],
          [
           "detergente",
           "2021-11-12",
           2.7
          ],
          [
           "flanela",
           "2021-11-12",
           1.99
          ],
          [
           "odorizador",
           "2021-11-29",
           23.99
          ],
          [
           "detergente",
           "2021-11-14",
           2.7
          ],
          [
           "amaciante",
           "2021-11-24",
           6.7
          ],
          [
           "sabão em pó",
           "2021-11-08",
           9.69
          ],
          [
           "amaciante",
           "2021-11-14",
           6.7
          ],
          [
           "detergente",
           "2021-11-14",
           2.7
          ],
          [
           "sabão em pó",
           "2021-11-14",
           9.69
          ],
          [
           "amaciante",
           "2021-11-01",
           6.7
          ],
          [
           "sabão em pó",
           "2021-11-01",
           9.69
          ],
          [
           "odorizador",
           "2021-11-13",
           23.99
          ],
          [
           "água sanitária",
           "2021-11-13",
           11.98
          ],
          [
           "água sanitária",
           "2021-11-13",
           11.98
          ],
          [
           "rodo",
           "2021-11-13",
           5.99
          ],
          [
           "sabão em pó",
           "2021-11-13",
           9.69
          ],
          [
           "rodo",
           "2021-11-10",
           5.99
          ],
          [
           "detergente",
           "2021-11-11",
           2.7
          ],
          [
           "detergente",
           "2021-11-11",
           2.7
          ],
          [
           "sabão em pó",
           "2021-11-11",
           9.69
          ],
          [
           "rodo",
           "2021-11-11",
           5.99
          ],
          [
           "amaciante",
           "2021-11-07",
           6.7
          ],
          [
           "amaciante",
           "2021-11-07",
           6.7
          ],
          [
           "odorizador",
           "2021-11-14",
           23.99
          ],
          [
           "rodo",
           "2021-11-14",
           5.99
          ],
          [
           "sabonete",
           "2021-11-14",
           1.29
          ],
          [
           "detergente",
           "2021-11-05",
           2.7
          ],
          [
           "rodo",
           "2021-11-05",
           5.99
          ],
          [
           "amaciante",
           "2021-11-09",
           6.7
          ],
          [
           "flanela",
           "2021-11-09",
           1.99
          ],
          [
           "sabão em pó",
           "2021-11-09",
           9.69
          ],
          [
           "sabão em pó",
           "2021-11-09",
           9.69
          ],
          [
           "sabonete",
           "2021-11-09",
           1.29
          ],
          [
           "sabonete",
           "2021-11-09",
           1.29
          ],
          [
           "sabão em pó",
           "2021-11-04",
           9.69
          ],
          [
           "água sanitária",
           "2021-11-20",
           11.98
          ],
          [
           "detergente",
           "2021-11-12",
           2.7
          ],
          [
           "flanela",
           "2021-11-04",
           1.99
          ],
          [
           "sabão em pó",
           "2021-11-04",
           9.69
          ],
          [
           "sabonete",
           "2021-11-27",
           1.29
          ],
          [
           "sabão em pó",
           "2021-11-03",
           9.69
          ],
          [
           "sabão em pó",
           "2021-11-12",
           9.69
          ],
          [
           "rodo",
           "2021-11-12",
           5.99
          ],
          [
           "odorizador",
           "2021-11-05",
           23.99
          ],
          [
           "odorizador",
           "2021-11-05",
           23.99
          ],
          [
           "odorizador",
           "2021-11-05",
           23.99
          ],
          [
           "água sanitária",
           "2021-11-05",
           11.98
          ],
          [
           "sabão em pó",
           "2021-11-05",
           9.69
          ],
          [
           "odorizador",
           "2021-11-12",
           23.99
          ],
          [
           "flanela",
           "2021-11-12",
           1.99
          ],
          [
           "flanela",
           "2021-11-12",
           1.99
          ],
          [
           "sabão em pó",
           "2021-11-12",
           9.69
          ],
          [
           "rodo",
           "2021-11-12",
           5.99
          ],
          [
           "água sanitária",
           "2021-11-22",
           11.98
          ]
         ],
         "hovertemplate": "Seção=Produtos de Limpeza<br>Nome do cliente=%{x}<br>Total da compra do produto=%{y}<br>Produto=%{customdata[0]}<br>Data=%{customdata[1]}<br>Preço do produto=%{customdata[2]}<extra></extra>",
         "legendgroup": "Produtos de Limpeza",
         "marker": {
          "color": "#636efa",
          "pattern": {
           "shape": ""
          }
         },
         "name": "Produtos de Limpeza",
         "offsetgroup": "Produtos de Limpeza",
         "orientation": "v",
         "showlegend": true,
         "textposition": "auto",
         "type": "bar",
         "x": [
          "Maria Sophia Alves",
          "Maria Sophia Alves",
          "Maria Sophia Alves",
          "Maria Sophia Alves",
          "Maria Sophia Alves",
          "Maria Sophia Alves",
          "Maria Sophia Alves",
          "Maria Sophia Alves",
          "Maria Sophia Alves",
          "Maria Sophia Alves",
          "Maria Sophia Alves",
          "Eduarda Moura",
          "Eduarda Moura",
          "Eduarda Moura",
          "Eduarda Moura",
          "Eduarda Moura",
          "Eduarda Moura",
          "Eduarda Moura",
          "Eduarda Moura",
          "Diego Sales",
          "Diego Sales",
          "Ana Júlia Castro",
          "Ana Júlia Castro",
          "Ana Júlia Castro",
          "Ana Júlia Castro",
          "Ana Júlia Castro",
          "Ana Júlia Castro",
          "Ana Júlia Castro",
          "Ana Júlia Castro",
          "Ana Júlia Castro",
          "Ana Júlia Castro",
          "Maria Sophia Ribeiro",
          "Maria Sophia Ribeiro",
          "Maria Sophia Ribeiro",
          "Maria Sophia Ribeiro",
          "Maria Sophia Ribeiro",
          "Marina Gomes",
          "Marina Gomes",
          "Marina Gomes",
          "Marina Gomes",
          "Marina Gomes",
          "Marina Gomes",
          "Marina Gomes",
          "Davi Ferreira",
          "Davi Ferreira",
          "Davi Ferreira",
          "Davi Ferreira",
          "Davi Ferreira",
          "Davi Ferreira",
          "Davi Ferreira",
          "Davi Ferreira",
          "Raquel Aragão",
          "Raquel Aragão",
          "Raquel Aragão",
          "Raquel Aragão",
          "Vitor Gabriel Nascimento",
          "Vitor Gabriel Nascimento",
          "Vitor Gabriel Nascimento",
          "Vitor Gabriel Nascimento",
          "Vitor Gabriel Nascimento",
          "Rafaela Rodrigues",
          "Rafaela Rodrigues",
          "Rafaela Rodrigues",
          "Rafaela Rodrigues",
          "Rafaela Rodrigues",
          "Rafaela Rodrigues",
          "Rafaela Rodrigues",
          "Rafaela Rodrigues",
          "Rafaela Rodrigues"
         ],
         "xaxis": "x",
         "y": [
          26.8,
          47.98,
          6.7,
          5.99,
          5.16,
          11.98,
          7.96,
          1.99,
          3.98,
          29.07,
          29.07,
          20.1,
          23.99,
          71.97,
          95.96,
          5.4,
          5.97,
          95.96,
          5.4,
          20.1,
          9.69,
          13.4,
          5.4,
          29.07,
          6.7,
          9.69,
          95.96,
          23.96,
          35.94,
          23.96,
          29.07,
          17.97,
          10.8,
          5.4,
          29.07,
          23.96,
          6.7,
          20.1,
          71.97,
          5.99,
          1.29,
          2.7,
          5.99,
          6.7,
          1.99,
          38.76,
          29.07,
          5.16,
          3.87,
          9.69,
          11.98,
          2.7,
          3.98,
          38.76,
          2.58,
          9.69,
          9.69,
          11.98,
          95.96,
          47.98,
          23.99,
          23.96,
          19.38,
          71.97,
          1.99,
          5.97,
          9.69,
          23.96,
          11.98
         ],
         "yaxis": "y"
        },
        {
         "alignmentgroup": "True",
         "customdata": [
          [
           "arroz",
           "2021-11-02",
           4.31
          ],
          [
           "banana",
           "2021-11-02",
           5.99
          ],
          [
           "banana",
           "2021-11-02",
           5.99
          ],
          [
           "banana",
           "2021-11-02",
           5.99
          ],
          [
           "batata",
           "2021-11-02",
           3.99
          ],
          [
           "morango",
           "2021-11-02",
           7.99
          ],
          [
           "banana",
           "2021-11-01",
           5.99
          ],
          [
           "batata",
           "2021-11-01",
           3.99
          ],
          [
           "banana",
           "2021-11-05",
           5.99
          ],
          [
           "banana",
           "2021-11-05",
           5.99
          ],
          [
           "berinjela",
           "2021-11-05",
           11.99
          ],
          [
           "batata",
           "2021-11-05",
           3.99
          ],
          [
           "abobrinha",
           "2021-11-05",
           3.49
          ],
          [
           "abobrinha",
           "2021-11-05",
           3.49
          ],
          [
           "batata",
           "2021-11-01",
           3.99
          ],
          [
           "abobrinha",
           "2021-11-01",
           3.49
          ],
          [
           "macarrão",
           "2021-11-01",
           2.48
          ],
          [
           "morango",
           "2021-11-12",
           7.99
          ],
          [
           "macarrão",
           "2021-11-12",
           2.48
          ],
          [
           "macarrão",
           "2021-11-12",
           2.48
          ],
          [
           "macarrão",
           "2021-11-12",
           2.48
          ],
          [
           "batata",
           "2021-11-14",
           3.99
          ],
          [
           "alface",
           "2021-11-14",
           0.98
          ],
          [
           "alface",
           "2021-11-27",
           0.98
          ],
          [
           "banana",
           "2021-11-14",
           5.99
          ],
          [
           "abobrinha",
           "2021-11-14",
           3.49
          ],
          [
           "alface",
           "2021-11-14",
           0.98
          ],
          [
           "feijão",
           "2021-11-08",
           8.45
          ],
          [
           "batata",
           "2021-11-08",
           3.99
          ],
          [
           "batata",
           "2021-11-08",
           3.99
          ],
          [
           "morango",
           "2021-11-08",
           7.99
          ],
          [
           "couve-flor",
           "2021-11-08",
           5.48
          ],
          [
           "couve-flor",
           "2021-11-08",
           5.48
          ],
          [
           "abobrinha",
           "2021-11-08",
           3.49
          ],
          [
           "abobrinha",
           "2021-11-08",
           3.49
          ],
          [
           "abobrinha",
           "2021-11-08",
           3.49
          ],
          [
           "banana",
           "2021-11-14",
           5.99
          ],
          [
           "berinjela",
           "2021-11-14",
           11.99
          ],
          [
           "morango",
           "2021-11-14",
           7.99
          ],
          [
           "feijão",
           "2021-11-01",
           8.45
          ],
          [
           "feijão",
           "2021-11-01",
           8.45
          ],
          [
           "feijão",
           "2021-11-01",
           8.45
          ],
          [
           "banana",
           "2021-11-01",
           5.99
          ],
          [
           "batata",
           "2021-11-01",
           3.99
          ],
          [
           "abobrinha",
           "2021-11-01",
           3.49
          ],
          [
           "uva",
           "2021-11-01",
           7.47
          ],
          [
           "banana",
           "2021-11-13",
           5.99
          ],
          [
           "banana",
           "2021-11-13",
           5.99
          ],
          [
           "batata",
           "2021-11-13",
           3.99
          ],
          [
           "abobrinha",
           "2021-11-13",
           3.49
          ],
          [
           "couve-flor",
           "2021-11-13",
           5.48
          ],
          [
           "melancia",
           "2021-11-10",
           15.99
          ],
          [
           "berinjela",
           "2021-11-10",
           11.99
          ],
          [
           "morango",
           "2021-11-10",
           7.99
          ],
          [
           "arroz",
           "2021-11-11",
           4.31
          ],
          [
           "arroz",
           "2021-11-11",
           4.31
          ],
          [
           "banana",
           "2021-11-11",
           5.99
          ],
          [
           "couve-flor",
           "2021-11-11",
           5.48
          ],
          [
           "alface",
           "2021-11-11",
           0.98
          ],
          [
           "arroz",
           "2021-11-18",
           4.31
          ],
          [
           "arroz",
           "2021-11-07",
           4.31
          ],
          [
           "feijão",
           "2021-11-07",
           8.45
          ],
          [
           "banana",
           "2021-11-07",
           5.99
          ],
          [
           "berinjela",
           "2021-11-07",
           11.99
          ],
          [
           "macarrão",
           "2021-11-07",
           2.48
          ],
          [
           "berinjela",
           "2021-11-14",
           11.99
          ],
          [
           "arroz",
           "2021-11-16",
           4.31
          ],
          [
           "arroz",
           "2021-11-05",
           4.31
          ],
          [
           "arroz",
           "2021-11-05",
           4.31
          ],
          [
           "morango",
           "2021-11-05",
           7.99
          ],
          [
           "melancia",
           "2021-11-20",
           15.99
          ],
          [
           "berinjela",
           "2021-11-28",
           11.99
          ],
          [
           "abobrinha",
           "2021-11-29",
           3.49
          ],
          [
           "melancia",
           "2021-11-09",
           15.99
          ],
          [
           "feijão",
           "2021-11-09",
           8.45
          ],
          [
           "banana",
           "2021-11-09",
           5.99
          ],
          [
           "batata",
           "2021-11-09",
           3.99
          ],
          [
           "couve-flor",
           "2021-11-09",
           5.48
          ],
          [
           "alface",
           "2021-11-04",
           0.98
          ],
          [
           "melancia",
           "2021-11-15",
           15.99
          ],
          [
           "melancia",
           "2021-11-12",
           15.99
          ],
          [
           "morango",
           "2021-11-12",
           7.99
          ],
          [
           "abobrinha",
           "2021-11-12",
           3.49
          ],
          [
           "macarrão",
           "2021-11-12",
           2.48
          ],
          [
           "macarrão",
           "2021-11-12",
           2.48
          ],
          [
           "feijão",
           "2021-11-04",
           8.45
          ],
          [
           "couve-flor",
           "2021-11-04",
           5.48
          ],
          [
           "couve-flor",
           "2021-11-04",
           5.48
          ],
          [
           "macarrão",
           "2021-11-04",
           2.48
          ],
          [
           "macarrão",
           "2021-11-04",
           2.48
          ],
          [
           "uva",
           "2021-11-04",
           7.47
          ],
          [
           "melancia",
           "2021-11-03",
           15.99
          ],
          [
           "melancia",
           "2021-11-03",
           15.99
          ],
          [
           "morango",
           "2021-11-03",
           7.99
          ],
          [
           "morango",
           "2021-11-03",
           7.99
          ],
          [
           "alface",
           "2021-11-03",
           0.98
          ],
          [
           "banana",
           "2021-11-12",
           5.99
          ],
          [
           "couve-flor",
           "2021-11-12",
           5.48
          ],
          [
           "banana",
           "2021-11-05",
           5.99
          ],
          [
           "morango",
           "2021-11-05",
           7.99
          ],
          [
           "couve-flor",
           "2021-11-05",
           5.48
          ],
          [
           "abobrinha",
           "2021-11-05",
           3.49
          ],
          [
           "macarrão",
           "2021-11-05",
           2.48
          ],
          [
           "arroz",
           "2021-11-05",
           4.31
          ],
          [
           "batata",
           "2021-11-05",
           3.99
          ],
          [
           "alface",
           "2021-11-05",
           0.98
          ],
          [
           "feijão",
           "2021-11-12",
           8.45
          ],
          [
           "banana",
           "2021-11-12",
           5.99
          ]
         ],
         "hovertemplate": "Seção=Alimentos em Geral<br>Nome do cliente=%{x}<br>Total da compra do produto=%{y}<br>Produto=%{customdata[0]}<br>Data=%{customdata[1]}<br>Preço do produto=%{customdata[2]}<extra></extra>",
         "legendgroup": "Alimentos em Geral",
         "marker": {
          "color": "#EF553B",
          "pattern": {
           "shape": ""
          }
         },
         "name": "Alimentos em Geral",
         "offsetgroup": "Alimentos em Geral",
         "orientation": "v",
         "showlegend": true,
         "textposition": "auto",
         "type": "bar",
         "x": [
          "Maria Sophia Alves",
          "Maria Sophia Alves",
          "Maria Sophia Alves",
          "Maria Sophia Alves",
          "Maria Sophia Alves",
          "Maria Sophia Alves",
          "Maria Sophia Alves",
          "Maria Sophia Alves",
          "Maria Sophia Alves",
          "Maria Sophia Alves",
          "Maria Sophia Alves",
          "Maria Sophia Alves",
          "Maria Sophia Alves",
          "Maria Sophia Alves",
          "Eduarda Moura",
          "Eduarda Moura",
          "Eduarda Moura",
          "Eduarda Moura",
          "Eduarda Moura",
          "Eduarda Moura",
          "Eduarda Moura",
          "Eduarda Moura",
          "Eduarda Moura",
          "Eduarda Moura",
          "Diego Sales",
          "Diego Sales",
          "Diego Sales",
          "Diego Sales",
          "Diego Sales",
          "Diego Sales",
          "Diego Sales",
          "Diego Sales",
          "Diego Sales",
          "Diego Sales",
          "Diego Sales",
          "Diego Sales",
          "Ana Júlia Castro",
          "Ana Júlia Castro",
          "Ana Júlia Castro",
          "Ana Júlia Castro",
          "Ana Júlia Castro",
          "Ana Júlia Castro",
          "Ana Júlia Castro",
          "Ana Júlia Castro",
          "Ana Júlia Castro",
          "Ana Júlia Castro",
          "Ana Júlia Castro",
          "Ana Júlia Castro",
          "Ana Júlia Castro",
          "Ana Júlia Castro",
          "Ana Júlia Castro",
          "Maria Sophia Ribeiro",
          "Maria Sophia Ribeiro",
          "Maria Sophia Ribeiro",
          "Maria Sophia Ribeiro",
          "Maria Sophia Ribeiro",
          "Maria Sophia Ribeiro",
          "Maria Sophia Ribeiro",
          "Maria Sophia Ribeiro",
          "Maria Sophia Ribeiro",
          "Marina Gomes",
          "Marina Gomes",
          "Marina Gomes",
          "Marina Gomes",
          "Marina Gomes",
          "Marina Gomes",
          "Marina Gomes",
          "Marina Gomes",
          "Marina Gomes",
          "Marina Gomes",
          "Marina Gomes",
          "Marina Gomes",
          "Marina Gomes",
          "Davi Ferreira",
          "Davi Ferreira",
          "Davi Ferreira",
          "Davi Ferreira",
          "Davi Ferreira",
          "Davi Ferreira",
          "Davi Ferreira",
          "Raquel Aragão",
          "Raquel Aragão",
          "Raquel Aragão",
          "Raquel Aragão",
          "Raquel Aragão",
          "Raquel Aragão",
          "Raquel Aragão",
          "Raquel Aragão",
          "Raquel Aragão",
          "Raquel Aragão",
          "Raquel Aragão",
          "Vitor Gabriel Nascimento",
          "Vitor Gabriel Nascimento",
          "Vitor Gabriel Nascimento",
          "Vitor Gabriel Nascimento",
          "Vitor Gabriel Nascimento",
          "Vitor Gabriel Nascimento",
          "Vitor Gabriel Nascimento",
          "Vitor Gabriel Nascimento",
          "Vitor Gabriel Nascimento",
          "Vitor Gabriel Nascimento",
          "Vitor Gabriel Nascimento",
          "Vitor Gabriel Nascimento",
          "Rafaela Rodrigues",
          "Rafaela Rodrigues",
          "Rafaela Rodrigues",
          "Rafaela Rodrigues",
          "Rafaela Rodrigues"
         ],
         "xaxis": "x",
         "y": [
          17.24,
          11.98,
          5.99,
          11.98,
          11.97,
          15.98,
          23.96,
          15.96,
          17.97,
          23.96,
          47.96,
          7.98,
          6.98,
          13.96,
          7.98,
          13.96,
          4.96,
          31.96,
          7.4399999999999995,
          4.96,
          9.92,
          3.99,
          1.96,
          1.96,
          23.96,
          10.47,
          0.98,
          25.349999999999998,
          15.96,
          11.97,
          23.97,
          21.92,
          10.96,
          3.49,
          10.47,
          10.47,
          5.99,
          35.97,
          23.97,
          25.349999999999998,
          16.9,
          16.9,
          23.96,
          7.98,
          13.96,
          14.94,
          17.97,
          5.99,
          11.97,
          10.47,
          10.96,
          31.98,
          23.98,
          7.99,
          8.62,
          12.93,
          23.96,
          5.48,
          0.98,
          8.62,
          17.24,
          8.45,
          17.97,
          35.97,
          7.4399999999999995,
          47.96,
          17.24,
          4.31,
          8.62,
          7.99,
          63.96,
          47.96,
          10.47,
          63.96,
          16.9,
          5.99,
          11.97,
          21.92,
          3.92,
          15.99,
          15.99,
          31.96,
          6.98,
          7.4399999999999995,
          4.96,
          16.9,
          21.92,
          21.92,
          2.48,
          9.92,
          22.41,
          63.96,
          31.98,
          23.97,
          31.96,
          1.96,
          23.96,
          5.48,
          5.99,
          23.97,
          16.44,
          6.98,
          7.4399999999999995,
          17.24,
          15.96,
          3.92,
          33.8,
          17.97
         ],
         "yaxis": "y"
        },
        {
         "alignmentgroup": "True",
         "customdata": [
          [
           "pastel",
           "2021-11-02",
           4.99
          ],
          [
           "pastel",
           "2021-11-02",
           4.99
          ],
          [
           "pão de forma",
           "2021-11-02",
           6.99
          ],
          [
           "pão de forma",
           "2021-11-01",
           6.99
          ],
          [
           "pão francês",
           "2021-11-05",
           10.99
          ],
          [
           "bolo",
           "2021-11-01",
           35
          ],
          [
           "pão francês",
           "2021-11-12",
           10.99
          ],
          [
           "torta",
           "2021-11-12",
           45
          ],
          [
           "sanduíche",
           "2021-11-12",
           12.99
          ],
          [
           "bolo",
           "2021-11-19",
           35
          ],
          [
           "pastel",
           "2021-11-14",
           4.99
          ],
          [
           "pastel",
           "2021-11-14",
           4.99
          ],
          [
           "pão de forma",
           "2021-11-14",
           6.99
          ],
          [
           "torta",
           "2021-11-08",
           45
          ],
          [
           "pão de forma",
           "2021-11-08",
           6.99
          ],
          [
           "bolo",
           "2021-11-08",
           35
          ],
          [
           "torta",
           "2021-11-14",
           45
          ],
          [
           "torta",
           "2021-11-14",
           45
          ],
          [
           "sanduíche",
           "2021-11-14",
           12.99
          ],
          [
           "bolo",
           "2021-11-14",
           35
          ],
          [
           "bolo",
           "2021-11-01",
           35
          ],
          [
           "pão francês",
           "2021-11-13",
           10.99
          ],
          [
           "pão francês",
           "2021-11-13",
           10.99
          ],
          [
           "pão de queijo",
           "2021-11-13",
           23.99
          ],
          [
           "pão de queijo",
           "2021-11-13",
           23.99
          ],
          [
           "pão de forma",
           "2021-11-13",
           6.99
          ],
          [
           "sanduíche",
           "2021-11-13",
           12.99
          ],
          [
           "sonho",
           "2021-11-13",
           3.49
          ],
          [
           "pão de forma",
           "2021-11-30",
           6.99
          ],
          [
           "sanduíche",
           "2021-11-26",
           12.99
          ],
          [
           "bolo",
           "2021-11-29",
           35
          ],
          [
           "pão francês",
           "2021-11-10",
           10.99
          ],
          [
           "torta",
           "2021-11-10",
           45
          ],
          [
           "sanduíche",
           "2021-11-10",
           12.99
          ],
          [
           "pão francês",
           "2021-11-11",
           10.99
          ],
          [
           "pão francês",
           "2021-11-14",
           10.99
          ],
          [
           "pão de forma",
           "2021-11-14",
           6.99
          ],
          [
           "pão de forma",
           "2021-11-14",
           6.99
          ],
          [
           "sonho",
           "2021-11-14",
           3.49
          ],
          [
           "pão de forma",
           "2021-11-05",
           6.99
          ],
          [
           "pão francês",
           "2021-11-09",
           10.99
          ],
          [
           "pão francês",
           "2021-11-09",
           10.99
          ],
          [
           "pão de queijo",
           "2021-11-09",
           23.99
          ],
          [
           "pão de queijo",
           "2021-11-09",
           23.99
          ],
          [
           "pastel",
           "2021-11-04",
           4.99
          ],
          [
           "pão francês",
           "2021-11-12",
           10.99
          ],
          [
           "bolo",
           "2021-11-12",
           35
          ],
          [
           "pão francês",
           "2021-11-04",
           10.99
          ],
          [
           "torta",
           "2021-11-04",
           45
          ],
          [
           "pão de forma",
           "2021-11-04",
           6.99
          ],
          [
           "sonho",
           "2021-11-04",
           3.49
          ],
          [
           "pão de forma",
           "2021-11-20",
           6.99
          ],
          [
           "pão francês",
           "2021-11-03",
           10.99
          ],
          [
           "torta",
           "2021-11-03",
           45
          ],
          [
           "sonho",
           "2021-11-03",
           3.49
          ],
          [
           "pastel",
           "2021-11-12",
           4.99
          ],
          [
           "sanduíche",
           "2021-11-12",
           12.99
          ],
          [
           "pastel",
           "2021-11-05",
           4.99
          ],
          [
           "pão de forma",
           "2021-11-05",
           6.99
          ],
          [
           "sonho",
           "2021-11-05",
           3.49
          ],
          [
           "pão de forma",
           "2021-11-05",
           6.99
          ],
          [
           "bolo",
           "2021-11-05",
           35
          ],
          [
           "sonho",
           "2021-11-05",
           3.49
          ],
          [
           "pão de queijo",
           "2021-11-12",
           23.99
          ],
          [
           "sanduíche",
           "2021-11-12",
           12.99
          ],
          [
           "sanduíche",
           "2021-11-12",
           12.99
          ],
          [
           "bolo",
           "2021-11-12",
           35
          ],
          [
           "sonho",
           "2021-11-12",
           3.49
          ]
         ],
         "hovertemplate": "Seção=Padaria<br>Nome do cliente=%{x}<br>Total da compra do produto=%{y}<br>Produto=%{customdata[0]}<br>Data=%{customdata[1]}<br>Preço do produto=%{customdata[2]}<extra></extra>",
         "legendgroup": "Padaria",
         "marker": {
          "color": "#00cc96",
          "pattern": {
           "shape": ""
          }
         },
         "name": "Padaria",
         "offsetgroup": "Padaria",
         "orientation": "v",
         "showlegend": true,
         "textposition": "auto",
         "type": "bar",
         "x": [
          "Maria Sophia Alves",
          "Maria Sophia Alves",
          "Maria Sophia Alves",
          "Maria Sophia Alves",
          "Maria Sophia Alves",
          "Eduarda Moura",
          "Eduarda Moura",
          "Eduarda Moura",
          "Eduarda Moura",
          "Eduarda Moura",
          "Diego Sales",
          "Diego Sales",
          "Diego Sales",
          "Diego Sales",
          "Diego Sales",
          "Diego Sales",
          "Ana Júlia Castro",
          "Ana Júlia Castro",
          "Ana Júlia Castro",
          "Ana Júlia Castro",
          "Ana Júlia Castro",
          "Ana Júlia Castro",
          "Ana Júlia Castro",
          "Ana Júlia Castro",
          "Ana Júlia Castro",
          "Ana Júlia Castro",
          "Ana Júlia Castro",
          "Ana Júlia Castro",
          "Ana Júlia Castro",
          "Ana Júlia Castro",
          "Ana Júlia Castro",
          "Maria Sophia Ribeiro",
          "Maria Sophia Ribeiro",
          "Maria Sophia Ribeiro",
          "Maria Sophia Ribeiro",
          "Marina Gomes",
          "Marina Gomes",
          "Marina Gomes",
          "Marina Gomes",
          "Marina Gomes",
          "Davi Ferreira",
          "Davi Ferreira",
          "Davi Ferreira",
          "Davi Ferreira",
          "Davi Ferreira",
          "Raquel Aragão",
          "Raquel Aragão",
          "Raquel Aragão",
          "Raquel Aragão",
          "Raquel Aragão",
          "Raquel Aragão",
          "Raquel Aragão",
          "Vitor Gabriel Nascimento",
          "Vitor Gabriel Nascimento",
          "Vitor Gabriel Nascimento",
          "Vitor Gabriel Nascimento",
          "Vitor Gabriel Nascimento",
          "Vitor Gabriel Nascimento",
          "Vitor Gabriel Nascimento",
          "Vitor Gabriel Nascimento",
          "Rafaela Rodrigues",
          "Rafaela Rodrigues",
          "Rafaela Rodrigues",
          "Rafaela Rodrigues",
          "Rafaela Rodrigues",
          "Rafaela Rodrigues",
          "Rafaela Rodrigues",
          "Rafaela Rodrigues"
         ],
         "xaxis": "x",
         "y": [
          9.98,
          14.97,
          13.98,
          6.99,
          43.96,
          105,
          10.99,
          90,
          38.97,
          140,
          4.99,
          19.96,
          27.96,
          90,
          27.96,
          35,
          180,
          180,
          25.98,
          105,
          140,
          43.96,
          21.98,
          71.97,
          23.99,
          20.97,
          25.98,
          3.49,
          6.99,
          51.96,
          105,
          43.96,
          180,
          38.97,
          43.96,
          21.98,
          13.98,
          13.98,
          6.98,
          6.99,
          32.97,
          21.98,
          95.96,
          95.96,
          9.98,
          10.99,
          105,
          43.96,
          135,
          6.99,
          10.47,
          6.99,
          21.98,
          135,
          10.47,
          9.98,
          51.96,
          9.98,
          13.98,
          3.49,
          20.97,
          105,
          10.47,
          47.98,
          12.99,
          51.96,
          140,
          3.49
         ],
         "yaxis": "y"
        },
        {
         "alignmentgroup": "True",
         "customdata": [
          [
           "alcatra",
           "2021-11-02",
           31.99
          ],
          [
           "alcatra",
           "2021-11-02",
           31.99
          ],
          [
           "bisteca suína",
           "2021-11-02",
           22.79
          ],
          [
           "costela",
           "2021-11-02",
           20.99
          ],
          [
           "costela",
           "2021-11-02",
           20.99
          ],
          [
           "costela",
           "2021-11-02",
           20.99
          ],
          [
           "peito de frango",
           "2021-11-02",
           16.49
          ],
          [
           "alcatra",
           "2021-11-01",
           31.99
          ],
          [
           "carré de cordeiro",
           "2021-11-01",
           172
          ],
          [
           "carré de cordeiro",
           "2021-11-01",
           172
          ],
          [
           "peito de frango",
           "2021-11-01",
           16.49
          ],
          [
           "paleta suína",
           "2021-11-05",
           23.99
          ],
          [
           "bisteca suína",
           "2021-11-05",
           22.79
          ],
          [
           "maminha",
           "2021-11-05",
           42.99
          ],
          [
           "maminha",
           "2021-11-05",
           42.99
          ],
          [
           "bisteca suína",
           "2021-11-01",
           22.79
          ],
          [
           "costela",
           "2021-11-01",
           20.99
          ],
          [
           "peito de frango",
           "2021-11-01",
           16.49
          ],
          [
           "maminha",
           "2021-11-01",
           42.99
          ],
          [
           "paleta suína",
           "2021-11-12",
           23.99
          ],
          [
           "alcatra",
           "2021-11-12",
           31.99
          ],
          [
           "alcatra",
           "2021-11-12",
           31.99
          ],
          [
           "carré de cordeiro",
           "2021-11-12",
           172
          ],
          [
           "picanha",
           "2021-11-12",
           70.89
          ],
          [
           "maminha",
           "2021-11-12",
           42.99
          ],
          [
           "alcatra",
           "2021-11-14",
           31.99
          ],
          [
           "alcatra",
           "2021-11-14",
           31.99
          ],
          [
           "bisteca suína",
           "2021-11-14",
           22.79
          ],
          [
           "peito de frango",
           "2021-11-14",
           16.49
          ],
          [
           "maminha",
           "2021-11-14",
           42.99
          ],
          [
           "maminha",
           "2021-11-14",
           42.99
          ],
          [
           "costela",
           "2021-11-16",
           20.99
          ],
          [
           "paleta suína",
           "2021-11-14",
           23.99
          ],
          [
           "alcatra",
           "2021-11-14",
           31.99
          ],
          [
           "carré de cordeiro",
           "2021-11-14",
           172
          ],
          [
           "carré de cordeiro",
           "2021-11-14",
           172
          ],
          [
           "picanha",
           "2021-11-14",
           70.89
          ],
          [
           "picanha",
           "2021-11-14",
           70.89
          ],
          [
           "alcatra",
           "2021-11-08",
           31.99
          ],
          [
           "alcatra",
           "2021-11-08",
           31.99
          ],
          [
           "alcatra",
           "2021-11-08",
           31.99
          ],
          [
           "maminha",
           "2021-11-08",
           42.99
          ],
          [
           "picanha",
           "2021-11-30",
           70.89
          ],
          [
           "paleta suína",
           "2021-11-14",
           23.99
          ],
          [
           "peito de frango",
           "2021-11-14",
           16.49
          ],
          [
           "carré de cordeiro",
           "2021-11-01",
           172
          ],
          [
           "alcatra",
           "2021-11-13",
           31.99
          ],
          [
           "alcatra",
           "2021-11-13",
           31.99
          ],
          [
           "paleta suína",
           "2021-11-13",
           23.99
          ],
          [
           "bisteca suína",
           "2021-11-13",
           22.79
          ],
          [
           "costela",
           "2021-11-13",
           20.99
          ],
          [
           "paleta suína",
           "2021-11-10",
           23.99
          ],
          [
           "carré de cordeiro",
           "2021-11-10",
           172
          ],
          [
           "picanha",
           "2021-11-10",
           70.89
          ],
          [
           "maminha",
           "2021-11-10",
           42.99
          ],
          [
           "paleta suína",
           "2021-11-11",
           23.99
          ],
          [
           "costela",
           "2021-11-11",
           20.99
          ],
          [
           "picanha",
           "2021-11-21",
           70.89
          ],
          [
           "picanha",
           "2021-11-07",
           70.89
          ],
          [
           "maminha",
           "2021-11-07",
           42.99
          ],
          [
           "carré de cordeiro",
           "2021-11-14",
           172
          ],
          [
           "carré de cordeiro",
           "2021-11-14",
           172
          ],
          [
           "peito de frango",
           "2021-11-14",
           16.49
          ],
          [
           "paleta suína",
           "2021-11-05",
           23.99
          ],
          [
           "carré de cordeiro",
           "2021-11-05",
           172
          ],
          [
           "peito de frango",
           "2021-11-05",
           16.49
          ],
          [
           "carré de cordeiro",
           "2021-11-09",
           172
          ],
          [
           "carré de cordeiro",
           "2021-11-04",
           172
          ],
          [
           "picanha",
           "2021-11-04",
           70.89
          ],
          [
           "picanha",
           "2021-11-04",
           70.89
          ],
          [
           "carré de cordeiro",
           "2021-11-12",
           172
          ],
          [
           "alcatra",
           "2021-11-04",
           31.99
          ],
          [
           "picanha",
           "2021-11-04",
           70.89
          ],
          [
           "alcatra",
           "2021-11-21",
           31.99
          ],
          [
           "maminha",
           "2021-11-23",
           42.99
          ],
          [
           "alcatra",
           "2021-11-03",
           31.99
          ],
          [
           "alcatra",
           "2021-11-03",
           31.99
          ],
          [
           "bisteca suína",
           "2021-11-03",
           22.79
          ],
          [
           "peito de frango",
           "2021-11-03",
           16.49
          ],
          [
           "peito de frango",
           "2021-11-03",
           16.49
          ],
          [
           "maminha",
           "2021-11-03",
           42.99
          ],
          [
           "paleta suína",
           "2021-11-12",
           23.99
          ],
          [
           "peito de frango",
           "2021-11-12",
           16.49
          ],
          [
           "maminha",
           "2021-11-12",
           42.99
          ],
          [
           "alcatra",
           "2021-11-05",
           31.99
          ],
          [
           "alcatra",
           "2021-11-05",
           31.99
          ],
          [
           "picanha",
           "2021-11-05",
           70.89
          ],
          [
           "peito de frango",
           "2021-11-05",
           16.49
          ],
          [
           "costela",
           "2021-11-05",
           20.99
          ],
          [
           "maminha",
           "2021-11-05",
           42.99
          ],
          [
           "alcatra",
           "2021-11-12",
           31.99
          ],
          [
           "carré de cordeiro",
           "2021-11-12",
           172
          ],
          [
           "peito de frango",
           "2021-11-12",
           16.49
          ],
          [
           "maminha",
           "2021-11-12",
           42.99
          ]
         ],
         "hovertemplate": "Seção=Açougue<br>Nome do cliente=%{x}<br>Total da compra do produto=%{y}<br>Produto=%{customdata[0]}<br>Data=%{customdata[1]}<br>Preço do produto=%{customdata[2]}<extra></extra>",
         "legendgroup": "Açougue",
         "marker": {
          "color": "#ab63fa",
          "pattern": {
           "shape": ""
          }
         },
         "name": "Açougue",
         "offsetgroup": "Açougue",
         "orientation": "v",
         "showlegend": true,
         "textposition": "auto",
         "type": "bar",
         "x": [
          "Maria Sophia Alves",
          "Maria Sophia Alves",
          "Maria Sophia Alves",
          "Maria Sophia Alves",
          "Maria Sophia Alves",
          "Maria Sophia Alves",
          "Maria Sophia Alves",
          "Maria Sophia Alves",
          "Maria Sophia Alves",
          "Maria Sophia Alves",
          "Maria Sophia Alves",
          "Maria Sophia Alves",
          "Maria Sophia Alves",
          "Maria Sophia Alves",
          "Maria Sophia Alves",
          "Eduarda Moura",
          "Eduarda Moura",
          "Eduarda Moura",
          "Eduarda Moura",
          "Eduarda Moura",
          "Eduarda Moura",
          "Eduarda Moura",
          "Eduarda Moura",
          "Eduarda Moura",
          "Eduarda Moura",
          "Eduarda Moura",
          "Eduarda Moura",
          "Eduarda Moura",
          "Eduarda Moura",
          "Eduarda Moura",
          "Eduarda Moura",
          "Eduarda Moura",
          "Diego Sales",
          "Diego Sales",
          "Diego Sales",
          "Diego Sales",
          "Diego Sales",
          "Diego Sales",
          "Diego Sales",
          "Diego Sales",
          "Diego Sales",
          "Diego Sales",
          "Diego Sales",
          "Ana Júlia Castro",
          "Ana Júlia Castro",
          "Ana Júlia Castro",
          "Ana Júlia Castro",
          "Ana Júlia Castro",
          "Ana Júlia Castro",
          "Ana Júlia Castro",
          "Ana Júlia Castro",
          "Maria Sophia Ribeiro",
          "Maria Sophia Ribeiro",
          "Maria Sophia Ribeiro",
          "Maria Sophia Ribeiro",
          "Maria Sophia Ribeiro",
          "Maria Sophia Ribeiro",
          "Maria Sophia Ribeiro",
          "Marina Gomes",
          "Marina Gomes",
          "Marina Gomes",
          "Marina Gomes",
          "Marina Gomes",
          "Marina Gomes",
          "Marina Gomes",
          "Marina Gomes",
          "Davi Ferreira",
          "Davi Ferreira",
          "Davi Ferreira",
          "Davi Ferreira",
          "Raquel Aragão",
          "Raquel Aragão",
          "Raquel Aragão",
          "Raquel Aragão",
          "Raquel Aragão",
          "Vitor Gabriel Nascimento",
          "Vitor Gabriel Nascimento",
          "Vitor Gabriel Nascimento",
          "Vitor Gabriel Nascimento",
          "Vitor Gabriel Nascimento",
          "Vitor Gabriel Nascimento",
          "Vitor Gabriel Nascimento",
          "Vitor Gabriel Nascimento",
          "Vitor Gabriel Nascimento",
          "Vitor Gabriel Nascimento",
          "Vitor Gabriel Nascimento",
          "Vitor Gabriel Nascimento",
          "Vitor Gabriel Nascimento",
          "Rafaela Rodrigues",
          "Rafaela Rodrigues",
          "Rafaela Rodrigues",
          "Rafaela Rodrigues",
          "Rafaela Rodrigues",
          "Rafaela Rodrigues"
         ],
         "xaxis": "x",
         "y": [
          95.97,
          95.97,
          91.16,
          41.98,
          83.96,
          41.98,
          65.96,
          127.96,
          516,
          688,
          49.47,
          71.97,
          22.79,
          128.97,
          42.99,
          45.58,
          41.98,
          49.47,
          171.96,
          71.97,
          95.97,
          95.97,
          516,
          212.67000000000002,
          128.97,
          95.97,
          63.98,
          22.79,
          49.47,
          42.99,
          85.98,
          20.99,
          23.99,
          127.96,
          516,
          516,
          212.67000000000002,
          70.89,
          95.97,
          127.96,
          127.96,
          85.98,
          70.89,
          71.97,
          16.49,
          344,
          63.98,
          63.98,
          71.97,
          68.37,
          83.96,
          71.97,
          688,
          283.56,
          128.97,
          95.96,
          41.98,
          283.56,
          141.78,
          128.97,
          688,
          172,
          65.96,
          47.98,
          344,
          16.49,
          516,
          688,
          70.89,
          141.78,
          688,
          31.99,
          212.67000000000002,
          95.97,
          171.96,
          95.97,
          127.96,
          22.79,
          65.96,
          32.98,
          85.98,
          95.96,
          16.49,
          171.96,
          63.98,
          127.96,
          70.89,
          65.96,
          41.98,
          42.99,
          127.96,
          688,
          32.98,
          85.98
         ],
         "yaxis": "y"
        }
       ],
       "layout": {
        "barmode": "stack",
        "legend": {
         "title": {
          "text": "Seção"
         },
         "tracegroupgap": 0
        },
        "margin": {
         "t": 60
        },
        "template": {
         "data": {
          "bar": [
           {
            "error_x": {
             "color": "#2a3f5f"
            },
            "error_y": {
             "color": "#2a3f5f"
            },
            "marker": {
             "line": {
              "color": "#E5ECF6",
              "width": 0.5
             },
             "pattern": {
              "fillmode": "overlay",
              "size": 10,
              "solidity": 0.2
             }
            },
            "type": "bar"
           }
          ],
          "barpolar": [
           {
            "marker": {
             "line": {
              "color": "#E5ECF6",
              "width": 0.5
             },
             "pattern": {
              "fillmode": "overlay",
              "size": 10,
              "solidity": 0.2
             }
            },
            "type": "barpolar"
           }
          ],
          "carpet": [
           {
            "aaxis": {
             "endlinecolor": "#2a3f5f",
             "gridcolor": "white",
             "linecolor": "white",
             "minorgridcolor": "white",
             "startlinecolor": "#2a3f5f"
            },
            "baxis": {
             "endlinecolor": "#2a3f5f",
             "gridcolor": "white",
             "linecolor": "white",
             "minorgridcolor": "white",
             "startlinecolor": "#2a3f5f"
            },
            "type": "carpet"
           }
          ],
          "choropleth": [
           {
            "colorbar": {
             "outlinewidth": 0,
             "ticks": ""
            },
            "type": "choropleth"
           }
          ],
          "contour": [
           {
            "colorbar": {
             "outlinewidth": 0,
             "ticks": ""
            },
            "colorscale": [
             [
              0,
              "#0d0887"
             ],
             [
              0.1111111111111111,
              "#46039f"
             ],
             [
              0.2222222222222222,
              "#7201a8"
             ],
             [
              0.3333333333333333,
              "#9c179e"
             ],
             [
              0.4444444444444444,
              "#bd3786"
             ],
             [
              0.5555555555555556,
              "#d8576b"
             ],
             [
              0.6666666666666666,
              "#ed7953"
             ],
             [
              0.7777777777777778,
              "#fb9f3a"
             ],
             [
              0.8888888888888888,
              "#fdca26"
             ],
             [
              1,
              "#f0f921"
             ]
            ],
            "type": "contour"
           }
          ],
          "contourcarpet": [
           {
            "colorbar": {
             "outlinewidth": 0,
             "ticks": ""
            },
            "type": "contourcarpet"
           }
          ],
          "heatmap": [
           {
            "colorbar": {
             "outlinewidth": 0,
             "ticks": ""
            },
            "colorscale": [
             [
              0,
              "#0d0887"
             ],
             [
              0.1111111111111111,
              "#46039f"
             ],
             [
              0.2222222222222222,
              "#7201a8"
             ],
             [
              0.3333333333333333,
              "#9c179e"
             ],
             [
              0.4444444444444444,
              "#bd3786"
             ],
             [
              0.5555555555555556,
              "#d8576b"
             ],
             [
              0.6666666666666666,
              "#ed7953"
             ],
             [
              0.7777777777777778,
              "#fb9f3a"
             ],
             [
              0.8888888888888888,
              "#fdca26"
             ],
             [
              1,
              "#f0f921"
             ]
            ],
            "type": "heatmap"
           }
          ],
          "heatmapgl": [
           {
            "colorbar": {
             "outlinewidth": 0,
             "ticks": ""
            },
            "colorscale": [
             [
              0,
              "#0d0887"
             ],
             [
              0.1111111111111111,
              "#46039f"
             ],
             [
              0.2222222222222222,
              "#7201a8"
             ],
             [
              0.3333333333333333,
              "#9c179e"
             ],
             [
              0.4444444444444444,
              "#bd3786"
             ],
             [
              0.5555555555555556,
              "#d8576b"
             ],
             [
              0.6666666666666666,
              "#ed7953"
             ],
             [
              0.7777777777777778,
              "#fb9f3a"
             ],
             [
              0.8888888888888888,
              "#fdca26"
             ],
             [
              1,
              "#f0f921"
             ]
            ],
            "type": "heatmapgl"
           }
          ],
          "histogram": [
           {
            "marker": {
             "pattern": {
              "fillmode": "overlay",
              "size": 10,
              "solidity": 0.2
             }
            },
            "type": "histogram"
           }
          ],
          "histogram2d": [
           {
            "colorbar": {
             "outlinewidth": 0,
             "ticks": ""
            },
            "colorscale": [
             [
              0,
              "#0d0887"
             ],
             [
              0.1111111111111111,
              "#46039f"
             ],
             [
              0.2222222222222222,
              "#7201a8"
             ],
             [
              0.3333333333333333,
              "#9c179e"
             ],
             [
              0.4444444444444444,
              "#bd3786"
             ],
             [
              0.5555555555555556,
              "#d8576b"
             ],
             [
              0.6666666666666666,
              "#ed7953"
             ],
             [
              0.7777777777777778,
              "#fb9f3a"
             ],
             [
              0.8888888888888888,
              "#fdca26"
             ],
             [
              1,
              "#f0f921"
             ]
            ],
            "type": "histogram2d"
           }
          ],
          "histogram2dcontour": [
           {
            "colorbar": {
             "outlinewidth": 0,
             "ticks": ""
            },
            "colorscale": [
             [
              0,
              "#0d0887"
             ],
             [
              0.1111111111111111,
              "#46039f"
             ],
             [
              0.2222222222222222,
              "#7201a8"
             ],
             [
              0.3333333333333333,
              "#9c179e"
             ],
             [
              0.4444444444444444,
              "#bd3786"
             ],
             [
              0.5555555555555556,
              "#d8576b"
             ],
             [
              0.6666666666666666,
              "#ed7953"
             ],
             [
              0.7777777777777778,
              "#fb9f3a"
             ],
             [
              0.8888888888888888,
              "#fdca26"
             ],
             [
              1,
              "#f0f921"
             ]
            ],
            "type": "histogram2dcontour"
           }
          ],
          "mesh3d": [
           {
            "colorbar": {
             "outlinewidth": 0,
             "ticks": ""
            },
            "type": "mesh3d"
           }
          ],
          "parcoords": [
           {
            "line": {
             "colorbar": {
              "outlinewidth": 0,
              "ticks": ""
             }
            },
            "type": "parcoords"
           }
          ],
          "pie": [
           {
            "automargin": true,
            "type": "pie"
           }
          ],
          "scatter": [
           {
            "marker": {
             "colorbar": {
              "outlinewidth": 0,
              "ticks": ""
             }
            },
            "type": "scatter"
           }
          ],
          "scatter3d": [
           {
            "line": {
             "colorbar": {
              "outlinewidth": 0,
              "ticks": ""
             }
            },
            "marker": {
             "colorbar": {
              "outlinewidth": 0,
              "ticks": ""
             }
            },
            "type": "scatter3d"
           }
          ],
          "scattercarpet": [
           {
            "marker": {
             "colorbar": {
              "outlinewidth": 0,
              "ticks": ""
             }
            },
            "type": "scattercarpet"
           }
          ],
          "scattergeo": [
           {
            "marker": {
             "colorbar": {
              "outlinewidth": 0,
              "ticks": ""
             }
            },
            "type": "scattergeo"
           }
          ],
          "scattergl": [
           {
            "marker": {
             "colorbar": {
              "outlinewidth": 0,
              "ticks": ""
             }
            },
            "type": "scattergl"
           }
          ],
          "scattermapbox": [
           {
            "marker": {
             "colorbar": {
              "outlinewidth": 0,
              "ticks": ""
             }
            },
            "type": "scattermapbox"
           }
          ],
          "scatterpolar": [
           {
            "marker": {
             "colorbar": {
              "outlinewidth": 0,
              "ticks": ""
             }
            },
            "type": "scatterpolar"
           }
          ],
          "scatterpolargl": [
           {
            "marker": {
             "colorbar": {
              "outlinewidth": 0,
              "ticks": ""
             }
            },
            "type": "scatterpolargl"
           }
          ],
          "scatterternary": [
           {
            "marker": {
             "colorbar": {
              "outlinewidth": 0,
              "ticks": ""
             }
            },
            "type": "scatterternary"
           }
          ],
          "surface": [
           {
            "colorbar": {
             "outlinewidth": 0,
             "ticks": ""
            },
            "colorscale": [
             [
              0,
              "#0d0887"
             ],
             [
              0.1111111111111111,
              "#46039f"
             ],
             [
              0.2222222222222222,
              "#7201a8"
             ],
             [
              0.3333333333333333,
              "#9c179e"
             ],
             [
              0.4444444444444444,
              "#bd3786"
             ],
             [
              0.5555555555555556,
              "#d8576b"
             ],
             [
              0.6666666666666666,
              "#ed7953"
             ],
             [
              0.7777777777777778,
              "#fb9f3a"
             ],
             [
              0.8888888888888888,
              "#fdca26"
             ],
             [
              1,
              "#f0f921"
             ]
            ],
            "type": "surface"
           }
          ],
          "table": [
           {
            "cells": {
             "fill": {
              "color": "#EBF0F8"
             },
             "line": {
              "color": "white"
             }
            },
            "header": {
             "fill": {
              "color": "#C8D4E3"
             },
             "line": {
              "color": "white"
             }
            },
            "type": "table"
           }
          ]
         },
         "layout": {
          "annotationdefaults": {
           "arrowcolor": "#2a3f5f",
           "arrowhead": 0,
           "arrowwidth": 1
          },
          "autotypenumbers": "strict",
          "coloraxis": {
           "colorbar": {
            "outlinewidth": 0,
            "ticks": ""
           }
          },
          "colorscale": {
           "diverging": [
            [
             0,
             "#8e0152"
            ],
            [
             0.1,
             "#c51b7d"
            ],
            [
             0.2,
             "#de77ae"
            ],
            [
             0.3,
             "#f1b6da"
            ],
            [
             0.4,
             "#fde0ef"
            ],
            [
             0.5,
             "#f7f7f7"
            ],
            [
             0.6,
             "#e6f5d0"
            ],
            [
             0.7,
             "#b8e186"
            ],
            [
             0.8,
             "#7fbc41"
            ],
            [
             0.9,
             "#4d9221"
            ],
            [
             1,
             "#276419"
            ]
           ],
           "sequential": [
            [
             0,
             "#0d0887"
            ],
            [
             0.1111111111111111,
             "#46039f"
            ],
            [
             0.2222222222222222,
             "#7201a8"
            ],
            [
             0.3333333333333333,
             "#9c179e"
            ],
            [
             0.4444444444444444,
             "#bd3786"
            ],
            [
             0.5555555555555556,
             "#d8576b"
            ],
            [
             0.6666666666666666,
             "#ed7953"
            ],
            [
             0.7777777777777778,
             "#fb9f3a"
            ],
            [
             0.8888888888888888,
             "#fdca26"
            ],
            [
             1,
             "#f0f921"
            ]
           ],
           "sequentialminus": [
            [
             0,
             "#0d0887"
            ],
            [
             0.1111111111111111,
             "#46039f"
            ],
            [
             0.2222222222222222,
             "#7201a8"
            ],
            [
             0.3333333333333333,
             "#9c179e"
            ],
            [
             0.4444444444444444,
             "#bd3786"
            ],
            [
             0.5555555555555556,
             "#d8576b"
            ],
            [
             0.6666666666666666,
             "#ed7953"
            ],
            [
             0.7777777777777778,
             "#fb9f3a"
            ],
            [
             0.8888888888888888,
             "#fdca26"
            ],
            [
             1,
             "#f0f921"
            ]
           ]
          },
          "colorway": [
           "#636efa",
           "#EF553B",
           "#00cc96",
           "#ab63fa",
           "#FFA15A",
           "#19d3f3",
           "#FF6692",
           "#B6E880",
           "#FF97FF",
           "#FECB52"
          ],
          "font": {
           "color": "#2a3f5f"
          },
          "geo": {
           "bgcolor": "white",
           "lakecolor": "white",
           "landcolor": "#E5ECF6",
           "showlakes": true,
           "showland": true,
           "subunitcolor": "white"
          },
          "hoverlabel": {
           "align": "left"
          },
          "hovermode": "closest",
          "mapbox": {
           "style": "light"
          },
          "paper_bgcolor": "white",
          "plot_bgcolor": "#E5ECF6",
          "polar": {
           "angularaxis": {
            "gridcolor": "white",
            "linecolor": "white",
            "ticks": ""
           },
           "bgcolor": "#E5ECF6",
           "radialaxis": {
            "gridcolor": "white",
            "linecolor": "white",
            "ticks": ""
           }
          },
          "scene": {
           "xaxis": {
            "backgroundcolor": "#E5ECF6",
            "gridcolor": "white",
            "gridwidth": 2,
            "linecolor": "white",
            "showbackground": true,
            "ticks": "",
            "zerolinecolor": "white"
           },
           "yaxis": {
            "backgroundcolor": "#E5ECF6",
            "gridcolor": "white",
            "gridwidth": 2,
            "linecolor": "white",
            "showbackground": true,
            "ticks": "",
            "zerolinecolor": "white"
           },
           "zaxis": {
            "backgroundcolor": "#E5ECF6",
            "gridcolor": "white",
            "gridwidth": 2,
            "linecolor": "white",
            "showbackground": true,
            "ticks": "",
            "zerolinecolor": "white"
           }
          },
          "shapedefaults": {
           "line": {
            "color": "#2a3f5f"
           }
          },
          "ternary": {
           "aaxis": {
            "gridcolor": "white",
            "linecolor": "white",
            "ticks": ""
           },
           "baxis": {
            "gridcolor": "white",
            "linecolor": "white",
            "ticks": ""
           },
           "bgcolor": "#E5ECF6",
           "caxis": {
            "gridcolor": "white",
            "linecolor": "white",
            "ticks": ""
           }
          },
          "title": {
           "x": 0.05
          },
          "xaxis": {
           "automargin": true,
           "gridcolor": "white",
           "linecolor": "white",
           "ticks": "",
           "title": {
            "standoff": 15
           },
           "zerolinecolor": "white",
           "zerolinewidth": 2
          },
          "yaxis": {
           "automargin": true,
           "gridcolor": "white",
           "linecolor": "white",
           "ticks": "",
           "title": {
            "standoff": 15
           },
           "zerolinecolor": "white",
           "zerolinewidth": 2
          }
         }
        },
        "title": {
         "text": "Os 10 clientes que mais gastam"
        },
        "xaxis": {
         "anchor": "y",
         "domain": [
          0,
          1
         ],
         "title": {
          "text": "Nome do cliente"
         }
        },
        "yaxis": {
         "anchor": "x",
         "domain": [
          0,
          1
         ],
         "title": {
          "text": "Total da compra do produto"
         }
        }
       }
      },
      "text/html": [
       "<div>                            <div id=\"7b97bcbc-7bdc-4789-8914-ea45922174c2\" class=\"plotly-graph-div\" style=\"height:525px; width:100%;\"></div>            <script type=\"text/javascript\">                require([\"plotly\"], function(Plotly) {                    window.PLOTLYENV=window.PLOTLYENV || {};                                    if (document.getElementById(\"7b97bcbc-7bdc-4789-8914-ea45922174c2\")) {                    Plotly.newPlot(                        \"7b97bcbc-7bdc-4789-8914-ea45922174c2\",                        [{\"alignmentgroup\":\"True\",\"customdata\":[[\"amaciante\",\"2021-11-02\",6.7],[\"odorizador\",\"2021-11-02\",23.99],[\"amaciante\",\"2021-11-01\",6.7],[\"rodo\",\"2021-11-01\",5.99],[\"sabonete\",\"2021-11-01\",1.29],[\"\\u00e1gua sanit\\u00e1ria\",\"2021-11-05\",11.98],[\"flanela\",\"2021-11-05\",1.99],[\"flanela\",\"2021-11-05\",1.99],[\"flanela\",\"2021-11-05\",1.99],[\"sab\\u00e3o em p\\u00f3\",\"2021-11-05\",9.69],[\"sab\\u00e3o em p\\u00f3\",\"2021-11-05\",9.69],[\"amaciante\",\"2021-11-01\",6.7],[\"odorizador\",\"2021-11-01\",23.99],[\"odorizador\",\"2021-11-01\",23.99],[\"odorizador\",\"2021-11-12\",23.99],[\"detergente\",\"2021-11-12\",2.7],[\"flanela\",\"2021-11-12\",1.99],[\"odorizador\",\"2021-11-29\",23.99],[\"detergente\",\"2021-11-14\",2.7],[\"amaciante\",\"2021-11-24\",6.7],[\"sab\\u00e3o em p\\u00f3\",\"2021-11-08\",9.69],[\"amaciante\",\"2021-11-14\",6.7],[\"detergente\",\"2021-11-14\",2.7],[\"sab\\u00e3o em p\\u00f3\",\"2021-11-14\",9.69],[\"amaciante\",\"2021-11-01\",6.7],[\"sab\\u00e3o em p\\u00f3\",\"2021-11-01\",9.69],[\"odorizador\",\"2021-11-13\",23.99],[\"\\u00e1gua sanit\\u00e1ria\",\"2021-11-13\",11.98],[\"\\u00e1gua sanit\\u00e1ria\",\"2021-11-13\",11.98],[\"rodo\",\"2021-11-13\",5.99],[\"sab\\u00e3o em p\\u00f3\",\"2021-11-13\",9.69],[\"rodo\",\"2021-11-10\",5.99],[\"detergente\",\"2021-11-11\",2.7],[\"detergente\",\"2021-11-11\",2.7],[\"sab\\u00e3o em p\\u00f3\",\"2021-11-11\",9.69],[\"rodo\",\"2021-11-11\",5.99],[\"amaciante\",\"2021-11-07\",6.7],[\"amaciante\",\"2021-11-07\",6.7],[\"odorizador\",\"2021-11-14\",23.99],[\"rodo\",\"2021-11-14\",5.99],[\"sabonete\",\"2021-11-14\",1.29],[\"detergente\",\"2021-11-05\",2.7],[\"rodo\",\"2021-11-05\",5.99],[\"amaciante\",\"2021-11-09\",6.7],[\"flanela\",\"2021-11-09\",1.99],[\"sab\\u00e3o em p\\u00f3\",\"2021-11-09\",9.69],[\"sab\\u00e3o em p\\u00f3\",\"2021-11-09\",9.69],[\"sabonete\",\"2021-11-09\",1.29],[\"sabonete\",\"2021-11-09\",1.29],[\"sab\\u00e3o em p\\u00f3\",\"2021-11-04\",9.69],[\"\\u00e1gua sanit\\u00e1ria\",\"2021-11-20\",11.98],[\"detergente\",\"2021-11-12\",2.7],[\"flanela\",\"2021-11-04\",1.99],[\"sab\\u00e3o em p\\u00f3\",\"2021-11-04\",9.69],[\"sabonete\",\"2021-11-27\",1.29],[\"sab\\u00e3o em p\\u00f3\",\"2021-11-03\",9.69],[\"sab\\u00e3o em p\\u00f3\",\"2021-11-12\",9.69],[\"rodo\",\"2021-11-12\",5.99],[\"odorizador\",\"2021-11-05\",23.99],[\"odorizador\",\"2021-11-05\",23.99],[\"odorizador\",\"2021-11-05\",23.99],[\"\\u00e1gua sanit\\u00e1ria\",\"2021-11-05\",11.98],[\"sab\\u00e3o em p\\u00f3\",\"2021-11-05\",9.69],[\"odorizador\",\"2021-11-12\",23.99],[\"flanela\",\"2021-11-12\",1.99],[\"flanela\",\"2021-11-12\",1.99],[\"sab\\u00e3o em p\\u00f3\",\"2021-11-12\",9.69],[\"rodo\",\"2021-11-12\",5.99],[\"\\u00e1gua sanit\\u00e1ria\",\"2021-11-22\",11.98]],\"hovertemplate\":\"Se\\u00e7\\u00e3o=Produtos de Limpeza<br>Nome do cliente=%{x}<br>Total da compra do produto=%{y}<br>Produto=%{customdata[0]}<br>Data=%{customdata[1]}<br>Pre\\u00e7o do produto=%{customdata[2]}<extra></extra>\",\"legendgroup\":\"Produtos de Limpeza\",\"marker\":{\"color\":\"#636efa\",\"pattern\":{\"shape\":\"\"}},\"name\":\"Produtos de Limpeza\",\"offsetgroup\":\"Produtos de Limpeza\",\"orientation\":\"v\",\"showlegend\":true,\"textposition\":\"auto\",\"type\":\"bar\",\"x\":[\"Maria Sophia Alves\",\"Maria Sophia Alves\",\"Maria Sophia Alves\",\"Maria Sophia Alves\",\"Maria Sophia Alves\",\"Maria Sophia Alves\",\"Maria Sophia Alves\",\"Maria Sophia Alves\",\"Maria Sophia Alves\",\"Maria Sophia Alves\",\"Maria Sophia Alves\",\"Eduarda Moura\",\"Eduarda Moura\",\"Eduarda Moura\",\"Eduarda Moura\",\"Eduarda Moura\",\"Eduarda Moura\",\"Eduarda Moura\",\"Eduarda Moura\",\"Diego Sales\",\"Diego Sales\",\"Ana J\\u00falia Castro\",\"Ana J\\u00falia Castro\",\"Ana J\\u00falia Castro\",\"Ana J\\u00falia Castro\",\"Ana J\\u00falia Castro\",\"Ana J\\u00falia Castro\",\"Ana J\\u00falia Castro\",\"Ana J\\u00falia Castro\",\"Ana J\\u00falia Castro\",\"Ana J\\u00falia Castro\",\"Maria Sophia Ribeiro\",\"Maria Sophia Ribeiro\",\"Maria Sophia Ribeiro\",\"Maria Sophia Ribeiro\",\"Maria Sophia Ribeiro\",\"Marina Gomes\",\"Marina Gomes\",\"Marina Gomes\",\"Marina Gomes\",\"Marina Gomes\",\"Marina Gomes\",\"Marina Gomes\",\"Davi Ferreira\",\"Davi Ferreira\",\"Davi Ferreira\",\"Davi Ferreira\",\"Davi Ferreira\",\"Davi Ferreira\",\"Davi Ferreira\",\"Davi Ferreira\",\"Raquel Arag\\u00e3o\",\"Raquel Arag\\u00e3o\",\"Raquel Arag\\u00e3o\",\"Raquel Arag\\u00e3o\",\"Vitor Gabriel Nascimento\",\"Vitor Gabriel Nascimento\",\"Vitor Gabriel Nascimento\",\"Vitor Gabriel Nascimento\",\"Vitor Gabriel Nascimento\",\"Rafaela Rodrigues\",\"Rafaela Rodrigues\",\"Rafaela Rodrigues\",\"Rafaela Rodrigues\",\"Rafaela Rodrigues\",\"Rafaela Rodrigues\",\"Rafaela Rodrigues\",\"Rafaela Rodrigues\",\"Rafaela Rodrigues\"],\"xaxis\":\"x\",\"y\":[26.8,47.98,6.7,5.99,5.16,11.98,7.96,1.99,3.98,29.07,29.07,20.1,23.99,71.97,95.96,5.4,5.97,95.96,5.4,20.1,9.69,13.4,5.4,29.07,6.7,9.69,95.96,23.96,35.94,23.96,29.07,17.97,10.8,5.4,29.07,23.96,6.7,20.1,71.97,5.99,1.29,2.7,5.99,6.7,1.99,38.76,29.07,5.16,3.87,9.69,11.98,2.7,3.98,38.76,2.58,9.69,9.69,11.98,95.96,47.98,23.99,23.96,19.38,71.97,1.99,5.97,9.69,23.96,11.98],\"yaxis\":\"y\"},{\"alignmentgroup\":\"True\",\"customdata\":[[\"arroz\",\"2021-11-02\",4.31],[\"banana\",\"2021-11-02\",5.99],[\"banana\",\"2021-11-02\",5.99],[\"banana\",\"2021-11-02\",5.99],[\"batata\",\"2021-11-02\",3.99],[\"morango\",\"2021-11-02\",7.99],[\"banana\",\"2021-11-01\",5.99],[\"batata\",\"2021-11-01\",3.99],[\"banana\",\"2021-11-05\",5.99],[\"banana\",\"2021-11-05\",5.99],[\"berinjela\",\"2021-11-05\",11.99],[\"batata\",\"2021-11-05\",3.99],[\"abobrinha\",\"2021-11-05\",3.49],[\"abobrinha\",\"2021-11-05\",3.49],[\"batata\",\"2021-11-01\",3.99],[\"abobrinha\",\"2021-11-01\",3.49],[\"macarr\\u00e3o\",\"2021-11-01\",2.48],[\"morango\",\"2021-11-12\",7.99],[\"macarr\\u00e3o\",\"2021-11-12\",2.48],[\"macarr\\u00e3o\",\"2021-11-12\",2.48],[\"macarr\\u00e3o\",\"2021-11-12\",2.48],[\"batata\",\"2021-11-14\",3.99],[\"alface\",\"2021-11-14\",0.98],[\"alface\",\"2021-11-27\",0.98],[\"banana\",\"2021-11-14\",5.99],[\"abobrinha\",\"2021-11-14\",3.49],[\"alface\",\"2021-11-14\",0.98],[\"feij\\u00e3o\",\"2021-11-08\",8.45],[\"batata\",\"2021-11-08\",3.99],[\"batata\",\"2021-11-08\",3.99],[\"morango\",\"2021-11-08\",7.99],[\"couve-flor\",\"2021-11-08\",5.48],[\"couve-flor\",\"2021-11-08\",5.48],[\"abobrinha\",\"2021-11-08\",3.49],[\"abobrinha\",\"2021-11-08\",3.49],[\"abobrinha\",\"2021-11-08\",3.49],[\"banana\",\"2021-11-14\",5.99],[\"berinjela\",\"2021-11-14\",11.99],[\"morango\",\"2021-11-14\",7.99],[\"feij\\u00e3o\",\"2021-11-01\",8.45],[\"feij\\u00e3o\",\"2021-11-01\",8.45],[\"feij\\u00e3o\",\"2021-11-01\",8.45],[\"banana\",\"2021-11-01\",5.99],[\"batata\",\"2021-11-01\",3.99],[\"abobrinha\",\"2021-11-01\",3.49],[\"uva\",\"2021-11-01\",7.47],[\"banana\",\"2021-11-13\",5.99],[\"banana\",\"2021-11-13\",5.99],[\"batata\",\"2021-11-13\",3.99],[\"abobrinha\",\"2021-11-13\",3.49],[\"couve-flor\",\"2021-11-13\",5.48],[\"melancia\",\"2021-11-10\",15.99],[\"berinjela\",\"2021-11-10\",11.99],[\"morango\",\"2021-11-10\",7.99],[\"arroz\",\"2021-11-11\",4.31],[\"arroz\",\"2021-11-11\",4.31],[\"banana\",\"2021-11-11\",5.99],[\"couve-flor\",\"2021-11-11\",5.48],[\"alface\",\"2021-11-11\",0.98],[\"arroz\",\"2021-11-18\",4.31],[\"arroz\",\"2021-11-07\",4.31],[\"feij\\u00e3o\",\"2021-11-07\",8.45],[\"banana\",\"2021-11-07\",5.99],[\"berinjela\",\"2021-11-07\",11.99],[\"macarr\\u00e3o\",\"2021-11-07\",2.48],[\"berinjela\",\"2021-11-14\",11.99],[\"arroz\",\"2021-11-16\",4.31],[\"arroz\",\"2021-11-05\",4.31],[\"arroz\",\"2021-11-05\",4.31],[\"morango\",\"2021-11-05\",7.99],[\"melancia\",\"2021-11-20\",15.99],[\"berinjela\",\"2021-11-28\",11.99],[\"abobrinha\",\"2021-11-29\",3.49],[\"melancia\",\"2021-11-09\",15.99],[\"feij\\u00e3o\",\"2021-11-09\",8.45],[\"banana\",\"2021-11-09\",5.99],[\"batata\",\"2021-11-09\",3.99],[\"couve-flor\",\"2021-11-09\",5.48],[\"alface\",\"2021-11-04\",0.98],[\"melancia\",\"2021-11-15\",15.99],[\"melancia\",\"2021-11-12\",15.99],[\"morango\",\"2021-11-12\",7.99],[\"abobrinha\",\"2021-11-12\",3.49],[\"macarr\\u00e3o\",\"2021-11-12\",2.48],[\"macarr\\u00e3o\",\"2021-11-12\",2.48],[\"feij\\u00e3o\",\"2021-11-04\",8.45],[\"couve-flor\",\"2021-11-04\",5.48],[\"couve-flor\",\"2021-11-04\",5.48],[\"macarr\\u00e3o\",\"2021-11-04\",2.48],[\"macarr\\u00e3o\",\"2021-11-04\",2.48],[\"uva\",\"2021-11-04\",7.47],[\"melancia\",\"2021-11-03\",15.99],[\"melancia\",\"2021-11-03\",15.99],[\"morango\",\"2021-11-03\",7.99],[\"morango\",\"2021-11-03\",7.99],[\"alface\",\"2021-11-03\",0.98],[\"banana\",\"2021-11-12\",5.99],[\"couve-flor\",\"2021-11-12\",5.48],[\"banana\",\"2021-11-05\",5.99],[\"morango\",\"2021-11-05\",7.99],[\"couve-flor\",\"2021-11-05\",5.48],[\"abobrinha\",\"2021-11-05\",3.49],[\"macarr\\u00e3o\",\"2021-11-05\",2.48],[\"arroz\",\"2021-11-05\",4.31],[\"batata\",\"2021-11-05\",3.99],[\"alface\",\"2021-11-05\",0.98],[\"feij\\u00e3o\",\"2021-11-12\",8.45],[\"banana\",\"2021-11-12\",5.99]],\"hovertemplate\":\"Se\\u00e7\\u00e3o=Alimentos em Geral<br>Nome do cliente=%{x}<br>Total da compra do produto=%{y}<br>Produto=%{customdata[0]}<br>Data=%{customdata[1]}<br>Pre\\u00e7o do produto=%{customdata[2]}<extra></extra>\",\"legendgroup\":\"Alimentos em Geral\",\"marker\":{\"color\":\"#EF553B\",\"pattern\":{\"shape\":\"\"}},\"name\":\"Alimentos em Geral\",\"offsetgroup\":\"Alimentos em Geral\",\"orientation\":\"v\",\"showlegend\":true,\"textposition\":\"auto\",\"type\":\"bar\",\"x\":[\"Maria Sophia Alves\",\"Maria Sophia Alves\",\"Maria Sophia Alves\",\"Maria Sophia Alves\",\"Maria Sophia Alves\",\"Maria Sophia Alves\",\"Maria Sophia Alves\",\"Maria Sophia Alves\",\"Maria Sophia Alves\",\"Maria Sophia Alves\",\"Maria Sophia Alves\",\"Maria Sophia Alves\",\"Maria Sophia Alves\",\"Maria Sophia Alves\",\"Eduarda Moura\",\"Eduarda Moura\",\"Eduarda Moura\",\"Eduarda Moura\",\"Eduarda Moura\",\"Eduarda Moura\",\"Eduarda Moura\",\"Eduarda Moura\",\"Eduarda Moura\",\"Eduarda Moura\",\"Diego Sales\",\"Diego Sales\",\"Diego Sales\",\"Diego Sales\",\"Diego Sales\",\"Diego Sales\",\"Diego Sales\",\"Diego Sales\",\"Diego Sales\",\"Diego Sales\",\"Diego Sales\",\"Diego Sales\",\"Ana J\\u00falia Castro\",\"Ana J\\u00falia Castro\",\"Ana J\\u00falia Castro\",\"Ana J\\u00falia Castro\",\"Ana J\\u00falia Castro\",\"Ana J\\u00falia Castro\",\"Ana J\\u00falia Castro\",\"Ana J\\u00falia Castro\",\"Ana J\\u00falia Castro\",\"Ana J\\u00falia Castro\",\"Ana J\\u00falia Castro\",\"Ana J\\u00falia Castro\",\"Ana J\\u00falia Castro\",\"Ana J\\u00falia Castro\",\"Ana J\\u00falia Castro\",\"Maria Sophia Ribeiro\",\"Maria Sophia Ribeiro\",\"Maria Sophia Ribeiro\",\"Maria Sophia Ribeiro\",\"Maria Sophia Ribeiro\",\"Maria Sophia Ribeiro\",\"Maria Sophia Ribeiro\",\"Maria Sophia Ribeiro\",\"Maria Sophia Ribeiro\",\"Marina Gomes\",\"Marina Gomes\",\"Marina Gomes\",\"Marina Gomes\",\"Marina Gomes\",\"Marina Gomes\",\"Marina Gomes\",\"Marina Gomes\",\"Marina Gomes\",\"Marina Gomes\",\"Marina Gomes\",\"Marina Gomes\",\"Marina Gomes\",\"Davi Ferreira\",\"Davi Ferreira\",\"Davi Ferreira\",\"Davi Ferreira\",\"Davi Ferreira\",\"Davi Ferreira\",\"Davi Ferreira\",\"Raquel Arag\\u00e3o\",\"Raquel Arag\\u00e3o\",\"Raquel Arag\\u00e3o\",\"Raquel Arag\\u00e3o\",\"Raquel Arag\\u00e3o\",\"Raquel Arag\\u00e3o\",\"Raquel Arag\\u00e3o\",\"Raquel Arag\\u00e3o\",\"Raquel Arag\\u00e3o\",\"Raquel Arag\\u00e3o\",\"Raquel Arag\\u00e3o\",\"Vitor Gabriel Nascimento\",\"Vitor Gabriel Nascimento\",\"Vitor Gabriel Nascimento\",\"Vitor Gabriel Nascimento\",\"Vitor Gabriel Nascimento\",\"Vitor Gabriel Nascimento\",\"Vitor Gabriel Nascimento\",\"Vitor Gabriel Nascimento\",\"Vitor Gabriel Nascimento\",\"Vitor Gabriel Nascimento\",\"Vitor Gabriel Nascimento\",\"Vitor Gabriel Nascimento\",\"Rafaela Rodrigues\",\"Rafaela Rodrigues\",\"Rafaela Rodrigues\",\"Rafaela Rodrigues\",\"Rafaela Rodrigues\"],\"xaxis\":\"x\",\"y\":[17.24,11.98,5.99,11.98,11.97,15.98,23.96,15.96,17.97,23.96,47.96,7.98,6.98,13.96,7.98,13.96,4.96,31.96,7.4399999999999995,4.96,9.92,3.99,1.96,1.96,23.96,10.47,0.98,25.349999999999998,15.96,11.97,23.97,21.92,10.96,3.49,10.47,10.47,5.99,35.97,23.97,25.349999999999998,16.9,16.9,23.96,7.98,13.96,14.94,17.97,5.99,11.97,10.47,10.96,31.98,23.98,7.99,8.62,12.93,23.96,5.48,0.98,8.62,17.24,8.45,17.97,35.97,7.4399999999999995,47.96,17.24,4.31,8.62,7.99,63.96,47.96,10.47,63.96,16.9,5.99,11.97,21.92,3.92,15.99,15.99,31.96,6.98,7.4399999999999995,4.96,16.9,21.92,21.92,2.48,9.92,22.41,63.96,31.98,23.97,31.96,1.96,23.96,5.48,5.99,23.97,16.44,6.98,7.4399999999999995,17.24,15.96,3.92,33.8,17.97],\"yaxis\":\"y\"},{\"alignmentgroup\":\"True\",\"customdata\":[[\"pastel\",\"2021-11-02\",4.99],[\"pastel\",\"2021-11-02\",4.99],[\"p\\u00e3o de forma\",\"2021-11-02\",6.99],[\"p\\u00e3o de forma\",\"2021-11-01\",6.99],[\"p\\u00e3o franc\\u00eas\",\"2021-11-05\",10.99],[\"bolo\",\"2021-11-01\",35.0],[\"p\\u00e3o franc\\u00eas\",\"2021-11-12\",10.99],[\"torta\",\"2021-11-12\",45.0],[\"sandu\\u00edche\",\"2021-11-12\",12.99],[\"bolo\",\"2021-11-19\",35.0],[\"pastel\",\"2021-11-14\",4.99],[\"pastel\",\"2021-11-14\",4.99],[\"p\\u00e3o de forma\",\"2021-11-14\",6.99],[\"torta\",\"2021-11-08\",45.0],[\"p\\u00e3o de forma\",\"2021-11-08\",6.99],[\"bolo\",\"2021-11-08\",35.0],[\"torta\",\"2021-11-14\",45.0],[\"torta\",\"2021-11-14\",45.0],[\"sandu\\u00edche\",\"2021-11-14\",12.99],[\"bolo\",\"2021-11-14\",35.0],[\"bolo\",\"2021-11-01\",35.0],[\"p\\u00e3o franc\\u00eas\",\"2021-11-13\",10.99],[\"p\\u00e3o franc\\u00eas\",\"2021-11-13\",10.99],[\"p\\u00e3o de queijo\",\"2021-11-13\",23.99],[\"p\\u00e3o de queijo\",\"2021-11-13\",23.99],[\"p\\u00e3o de forma\",\"2021-11-13\",6.99],[\"sandu\\u00edche\",\"2021-11-13\",12.99],[\"sonho\",\"2021-11-13\",3.49],[\"p\\u00e3o de forma\",\"2021-11-30\",6.99],[\"sandu\\u00edche\",\"2021-11-26\",12.99],[\"bolo\",\"2021-11-29\",35.0],[\"p\\u00e3o franc\\u00eas\",\"2021-11-10\",10.99],[\"torta\",\"2021-11-10\",45.0],[\"sandu\\u00edche\",\"2021-11-10\",12.99],[\"p\\u00e3o franc\\u00eas\",\"2021-11-11\",10.99],[\"p\\u00e3o franc\\u00eas\",\"2021-11-14\",10.99],[\"p\\u00e3o de forma\",\"2021-11-14\",6.99],[\"p\\u00e3o de forma\",\"2021-11-14\",6.99],[\"sonho\",\"2021-11-14\",3.49],[\"p\\u00e3o de forma\",\"2021-11-05\",6.99],[\"p\\u00e3o franc\\u00eas\",\"2021-11-09\",10.99],[\"p\\u00e3o franc\\u00eas\",\"2021-11-09\",10.99],[\"p\\u00e3o de queijo\",\"2021-11-09\",23.99],[\"p\\u00e3o de queijo\",\"2021-11-09\",23.99],[\"pastel\",\"2021-11-04\",4.99],[\"p\\u00e3o franc\\u00eas\",\"2021-11-12\",10.99],[\"bolo\",\"2021-11-12\",35.0],[\"p\\u00e3o franc\\u00eas\",\"2021-11-04\",10.99],[\"torta\",\"2021-11-04\",45.0],[\"p\\u00e3o de forma\",\"2021-11-04\",6.99],[\"sonho\",\"2021-11-04\",3.49],[\"p\\u00e3o de forma\",\"2021-11-20\",6.99],[\"p\\u00e3o franc\\u00eas\",\"2021-11-03\",10.99],[\"torta\",\"2021-11-03\",45.0],[\"sonho\",\"2021-11-03\",3.49],[\"pastel\",\"2021-11-12\",4.99],[\"sandu\\u00edche\",\"2021-11-12\",12.99],[\"pastel\",\"2021-11-05\",4.99],[\"p\\u00e3o de forma\",\"2021-11-05\",6.99],[\"sonho\",\"2021-11-05\",3.49],[\"p\\u00e3o de forma\",\"2021-11-05\",6.99],[\"bolo\",\"2021-11-05\",35.0],[\"sonho\",\"2021-11-05\",3.49],[\"p\\u00e3o de queijo\",\"2021-11-12\",23.99],[\"sandu\\u00edche\",\"2021-11-12\",12.99],[\"sandu\\u00edche\",\"2021-11-12\",12.99],[\"bolo\",\"2021-11-12\",35.0],[\"sonho\",\"2021-11-12\",3.49]],\"hovertemplate\":\"Se\\u00e7\\u00e3o=Padaria<br>Nome do cliente=%{x}<br>Total da compra do produto=%{y}<br>Produto=%{customdata[0]}<br>Data=%{customdata[1]}<br>Pre\\u00e7o do produto=%{customdata[2]}<extra></extra>\",\"legendgroup\":\"Padaria\",\"marker\":{\"color\":\"#00cc96\",\"pattern\":{\"shape\":\"\"}},\"name\":\"Padaria\",\"offsetgroup\":\"Padaria\",\"orientation\":\"v\",\"showlegend\":true,\"textposition\":\"auto\",\"type\":\"bar\",\"x\":[\"Maria Sophia Alves\",\"Maria Sophia Alves\",\"Maria Sophia Alves\",\"Maria Sophia Alves\",\"Maria Sophia Alves\",\"Eduarda Moura\",\"Eduarda Moura\",\"Eduarda Moura\",\"Eduarda Moura\",\"Eduarda Moura\",\"Diego Sales\",\"Diego Sales\",\"Diego Sales\",\"Diego Sales\",\"Diego Sales\",\"Diego Sales\",\"Ana J\\u00falia Castro\",\"Ana J\\u00falia Castro\",\"Ana J\\u00falia Castro\",\"Ana J\\u00falia Castro\",\"Ana J\\u00falia Castro\",\"Ana J\\u00falia Castro\",\"Ana J\\u00falia Castro\",\"Ana J\\u00falia Castro\",\"Ana J\\u00falia Castro\",\"Ana J\\u00falia Castro\",\"Ana J\\u00falia Castro\",\"Ana J\\u00falia Castro\",\"Ana J\\u00falia Castro\",\"Ana J\\u00falia Castro\",\"Ana J\\u00falia Castro\",\"Maria Sophia Ribeiro\",\"Maria Sophia Ribeiro\",\"Maria Sophia Ribeiro\",\"Maria Sophia Ribeiro\",\"Marina Gomes\",\"Marina Gomes\",\"Marina Gomes\",\"Marina Gomes\",\"Marina Gomes\",\"Davi Ferreira\",\"Davi Ferreira\",\"Davi Ferreira\",\"Davi Ferreira\",\"Davi Ferreira\",\"Raquel Arag\\u00e3o\",\"Raquel Arag\\u00e3o\",\"Raquel Arag\\u00e3o\",\"Raquel Arag\\u00e3o\",\"Raquel Arag\\u00e3o\",\"Raquel Arag\\u00e3o\",\"Raquel Arag\\u00e3o\",\"Vitor Gabriel Nascimento\",\"Vitor Gabriel Nascimento\",\"Vitor Gabriel Nascimento\",\"Vitor Gabriel Nascimento\",\"Vitor Gabriel Nascimento\",\"Vitor Gabriel Nascimento\",\"Vitor Gabriel Nascimento\",\"Vitor Gabriel Nascimento\",\"Rafaela Rodrigues\",\"Rafaela Rodrigues\",\"Rafaela Rodrigues\",\"Rafaela Rodrigues\",\"Rafaela Rodrigues\",\"Rafaela Rodrigues\",\"Rafaela Rodrigues\",\"Rafaela Rodrigues\"],\"xaxis\":\"x\",\"y\":[9.98,14.97,13.98,6.99,43.96,105.0,10.99,90.0,38.97,140.0,4.99,19.96,27.96,90.0,27.96,35.0,180.0,180.0,25.98,105.0,140.0,43.96,21.98,71.97,23.99,20.97,25.98,3.49,6.99,51.96,105.0,43.96,180.0,38.97,43.96,21.98,13.98,13.98,6.98,6.99,32.97,21.98,95.96,95.96,9.98,10.99,105.0,43.96,135.0,6.99,10.47,6.99,21.98,135.0,10.47,9.98,51.96,9.98,13.98,3.49,20.97,105.0,10.47,47.98,12.99,51.96,140.0,3.49],\"yaxis\":\"y\"},{\"alignmentgroup\":\"True\",\"customdata\":[[\"alcatra\",\"2021-11-02\",31.99],[\"alcatra\",\"2021-11-02\",31.99],[\"bisteca su\\u00edna\",\"2021-11-02\",22.79],[\"costela\",\"2021-11-02\",20.99],[\"costela\",\"2021-11-02\",20.99],[\"costela\",\"2021-11-02\",20.99],[\"peito de frango\",\"2021-11-02\",16.49],[\"alcatra\",\"2021-11-01\",31.99],[\"carr\\u00e9 de cordeiro\",\"2021-11-01\",172.0],[\"carr\\u00e9 de cordeiro\",\"2021-11-01\",172.0],[\"peito de frango\",\"2021-11-01\",16.49],[\"paleta su\\u00edna\",\"2021-11-05\",23.99],[\"bisteca su\\u00edna\",\"2021-11-05\",22.79],[\"maminha\",\"2021-11-05\",42.99],[\"maminha\",\"2021-11-05\",42.99],[\"bisteca su\\u00edna\",\"2021-11-01\",22.79],[\"costela\",\"2021-11-01\",20.99],[\"peito de frango\",\"2021-11-01\",16.49],[\"maminha\",\"2021-11-01\",42.99],[\"paleta su\\u00edna\",\"2021-11-12\",23.99],[\"alcatra\",\"2021-11-12\",31.99],[\"alcatra\",\"2021-11-12\",31.99],[\"carr\\u00e9 de cordeiro\",\"2021-11-12\",172.0],[\"picanha\",\"2021-11-12\",70.89],[\"maminha\",\"2021-11-12\",42.99],[\"alcatra\",\"2021-11-14\",31.99],[\"alcatra\",\"2021-11-14\",31.99],[\"bisteca su\\u00edna\",\"2021-11-14\",22.79],[\"peito de frango\",\"2021-11-14\",16.49],[\"maminha\",\"2021-11-14\",42.99],[\"maminha\",\"2021-11-14\",42.99],[\"costela\",\"2021-11-16\",20.99],[\"paleta su\\u00edna\",\"2021-11-14\",23.99],[\"alcatra\",\"2021-11-14\",31.99],[\"carr\\u00e9 de cordeiro\",\"2021-11-14\",172.0],[\"carr\\u00e9 de cordeiro\",\"2021-11-14\",172.0],[\"picanha\",\"2021-11-14\",70.89],[\"picanha\",\"2021-11-14\",70.89],[\"alcatra\",\"2021-11-08\",31.99],[\"alcatra\",\"2021-11-08\",31.99],[\"alcatra\",\"2021-11-08\",31.99],[\"maminha\",\"2021-11-08\",42.99],[\"picanha\",\"2021-11-30\",70.89],[\"paleta su\\u00edna\",\"2021-11-14\",23.99],[\"peito de frango\",\"2021-11-14\",16.49],[\"carr\\u00e9 de cordeiro\",\"2021-11-01\",172.0],[\"alcatra\",\"2021-11-13\",31.99],[\"alcatra\",\"2021-11-13\",31.99],[\"paleta su\\u00edna\",\"2021-11-13\",23.99],[\"bisteca su\\u00edna\",\"2021-11-13\",22.79],[\"costela\",\"2021-11-13\",20.99],[\"paleta su\\u00edna\",\"2021-11-10\",23.99],[\"carr\\u00e9 de cordeiro\",\"2021-11-10\",172.0],[\"picanha\",\"2021-11-10\",70.89],[\"maminha\",\"2021-11-10\",42.99],[\"paleta su\\u00edna\",\"2021-11-11\",23.99],[\"costela\",\"2021-11-11\",20.99],[\"picanha\",\"2021-11-21\",70.89],[\"picanha\",\"2021-11-07\",70.89],[\"maminha\",\"2021-11-07\",42.99],[\"carr\\u00e9 de cordeiro\",\"2021-11-14\",172.0],[\"carr\\u00e9 de cordeiro\",\"2021-11-14\",172.0],[\"peito de frango\",\"2021-11-14\",16.49],[\"paleta su\\u00edna\",\"2021-11-05\",23.99],[\"carr\\u00e9 de cordeiro\",\"2021-11-05\",172.0],[\"peito de frango\",\"2021-11-05\",16.49],[\"carr\\u00e9 de cordeiro\",\"2021-11-09\",172.0],[\"carr\\u00e9 de cordeiro\",\"2021-11-04\",172.0],[\"picanha\",\"2021-11-04\",70.89],[\"picanha\",\"2021-11-04\",70.89],[\"carr\\u00e9 de cordeiro\",\"2021-11-12\",172.0],[\"alcatra\",\"2021-11-04\",31.99],[\"picanha\",\"2021-11-04\",70.89],[\"alcatra\",\"2021-11-21\",31.99],[\"maminha\",\"2021-11-23\",42.99],[\"alcatra\",\"2021-11-03\",31.99],[\"alcatra\",\"2021-11-03\",31.99],[\"bisteca su\\u00edna\",\"2021-11-03\",22.79],[\"peito de frango\",\"2021-11-03\",16.49],[\"peito de frango\",\"2021-11-03\",16.49],[\"maminha\",\"2021-11-03\",42.99],[\"paleta su\\u00edna\",\"2021-11-12\",23.99],[\"peito de frango\",\"2021-11-12\",16.49],[\"maminha\",\"2021-11-12\",42.99],[\"alcatra\",\"2021-11-05\",31.99],[\"alcatra\",\"2021-11-05\",31.99],[\"picanha\",\"2021-11-05\",70.89],[\"peito de frango\",\"2021-11-05\",16.49],[\"costela\",\"2021-11-05\",20.99],[\"maminha\",\"2021-11-05\",42.99],[\"alcatra\",\"2021-11-12\",31.99],[\"carr\\u00e9 de cordeiro\",\"2021-11-12\",172.0],[\"peito de frango\",\"2021-11-12\",16.49],[\"maminha\",\"2021-11-12\",42.99]],\"hovertemplate\":\"Se\\u00e7\\u00e3o=A\\u00e7ougue<br>Nome do cliente=%{x}<br>Total da compra do produto=%{y}<br>Produto=%{customdata[0]}<br>Data=%{customdata[1]}<br>Pre\\u00e7o do produto=%{customdata[2]}<extra></extra>\",\"legendgroup\":\"A\\u00e7ougue\",\"marker\":{\"color\":\"#ab63fa\",\"pattern\":{\"shape\":\"\"}},\"name\":\"A\\u00e7ougue\",\"offsetgroup\":\"A\\u00e7ougue\",\"orientation\":\"v\",\"showlegend\":true,\"textposition\":\"auto\",\"type\":\"bar\",\"x\":[\"Maria Sophia Alves\",\"Maria Sophia Alves\",\"Maria Sophia Alves\",\"Maria Sophia Alves\",\"Maria Sophia Alves\",\"Maria Sophia Alves\",\"Maria Sophia Alves\",\"Maria Sophia Alves\",\"Maria Sophia Alves\",\"Maria Sophia Alves\",\"Maria Sophia Alves\",\"Maria Sophia Alves\",\"Maria Sophia Alves\",\"Maria Sophia Alves\",\"Maria Sophia Alves\",\"Eduarda Moura\",\"Eduarda Moura\",\"Eduarda Moura\",\"Eduarda Moura\",\"Eduarda Moura\",\"Eduarda Moura\",\"Eduarda Moura\",\"Eduarda Moura\",\"Eduarda Moura\",\"Eduarda Moura\",\"Eduarda Moura\",\"Eduarda Moura\",\"Eduarda Moura\",\"Eduarda Moura\",\"Eduarda Moura\",\"Eduarda Moura\",\"Eduarda Moura\",\"Diego Sales\",\"Diego Sales\",\"Diego Sales\",\"Diego Sales\",\"Diego Sales\",\"Diego Sales\",\"Diego Sales\",\"Diego Sales\",\"Diego Sales\",\"Diego Sales\",\"Diego Sales\",\"Ana J\\u00falia Castro\",\"Ana J\\u00falia Castro\",\"Ana J\\u00falia Castro\",\"Ana J\\u00falia Castro\",\"Ana J\\u00falia Castro\",\"Ana J\\u00falia Castro\",\"Ana J\\u00falia Castro\",\"Ana J\\u00falia Castro\",\"Maria Sophia Ribeiro\",\"Maria Sophia Ribeiro\",\"Maria Sophia Ribeiro\",\"Maria Sophia Ribeiro\",\"Maria Sophia Ribeiro\",\"Maria Sophia Ribeiro\",\"Maria Sophia Ribeiro\",\"Marina Gomes\",\"Marina Gomes\",\"Marina Gomes\",\"Marina Gomes\",\"Marina Gomes\",\"Marina Gomes\",\"Marina Gomes\",\"Marina Gomes\",\"Davi Ferreira\",\"Davi Ferreira\",\"Davi Ferreira\",\"Davi Ferreira\",\"Raquel Arag\\u00e3o\",\"Raquel Arag\\u00e3o\",\"Raquel Arag\\u00e3o\",\"Raquel Arag\\u00e3o\",\"Raquel Arag\\u00e3o\",\"Vitor Gabriel Nascimento\",\"Vitor Gabriel Nascimento\",\"Vitor Gabriel Nascimento\",\"Vitor Gabriel Nascimento\",\"Vitor Gabriel Nascimento\",\"Vitor Gabriel Nascimento\",\"Vitor Gabriel Nascimento\",\"Vitor Gabriel Nascimento\",\"Vitor Gabriel Nascimento\",\"Vitor Gabriel Nascimento\",\"Vitor Gabriel Nascimento\",\"Vitor Gabriel Nascimento\",\"Vitor Gabriel Nascimento\",\"Rafaela Rodrigues\",\"Rafaela Rodrigues\",\"Rafaela Rodrigues\",\"Rafaela Rodrigues\",\"Rafaela Rodrigues\",\"Rafaela Rodrigues\"],\"xaxis\":\"x\",\"y\":[95.97,95.97,91.16,41.98,83.96,41.98,65.96,127.96,516.0,688.0,49.47,71.97,22.79,128.97,42.99,45.58,41.98,49.47,171.96,71.97,95.97,95.97,516.0,212.67000000000002,128.97,95.97,63.98,22.79,49.47,42.99,85.98,20.99,23.99,127.96,516.0,516.0,212.67000000000002,70.89,95.97,127.96,127.96,85.98,70.89,71.97,16.49,344.0,63.98,63.98,71.97,68.37,83.96,71.97,688.0,283.56,128.97,95.96,41.98,283.56,141.78,128.97,688.0,172.0,65.96,47.98,344.0,16.49,516.0,688.0,70.89,141.78,688.0,31.99,212.67000000000002,95.97,171.96,95.97,127.96,22.79,65.96,32.98,85.98,95.96,16.49,171.96,63.98,127.96,70.89,65.96,41.98,42.99,127.96,688.0,32.98,85.98],\"yaxis\":\"y\"}],                        {\"barmode\":\"stack\",\"legend\":{\"title\":{\"text\":\"Se\\u00e7\\u00e3o\"},\"tracegroupgap\":0},\"margin\":{\"t\":60},\"template\":{\"data\":{\"bar\":[{\"error_x\":{\"color\":\"#2a3f5f\"},\"error_y\":{\"color\":\"#2a3f5f\"},\"marker\":{\"line\":{\"color\":\"#E5ECF6\",\"width\":0.5},\"pattern\":{\"fillmode\":\"overlay\",\"size\":10,\"solidity\":0.2}},\"type\":\"bar\"}],\"barpolar\":[{\"marker\":{\"line\":{\"color\":\"#E5ECF6\",\"width\":0.5},\"pattern\":{\"fillmode\":\"overlay\",\"size\":10,\"solidity\":0.2}},\"type\":\"barpolar\"}],\"carpet\":[{\"aaxis\":{\"endlinecolor\":\"#2a3f5f\",\"gridcolor\":\"white\",\"linecolor\":\"white\",\"minorgridcolor\":\"white\",\"startlinecolor\":\"#2a3f5f\"},\"baxis\":{\"endlinecolor\":\"#2a3f5f\",\"gridcolor\":\"white\",\"linecolor\":\"white\",\"minorgridcolor\":\"white\",\"startlinecolor\":\"#2a3f5f\"},\"type\":\"carpet\"}],\"choropleth\":[{\"colorbar\":{\"outlinewidth\":0,\"ticks\":\"\"},\"type\":\"choropleth\"}],\"contour\":[{\"colorbar\":{\"outlinewidth\":0,\"ticks\":\"\"},\"colorscale\":[[0.0,\"#0d0887\"],[0.1111111111111111,\"#46039f\"],[0.2222222222222222,\"#7201a8\"],[0.3333333333333333,\"#9c179e\"],[0.4444444444444444,\"#bd3786\"],[0.5555555555555556,\"#d8576b\"],[0.6666666666666666,\"#ed7953\"],[0.7777777777777778,\"#fb9f3a\"],[0.8888888888888888,\"#fdca26\"],[1.0,\"#f0f921\"]],\"type\":\"contour\"}],\"contourcarpet\":[{\"colorbar\":{\"outlinewidth\":0,\"ticks\":\"\"},\"type\":\"contourcarpet\"}],\"heatmap\":[{\"colorbar\":{\"outlinewidth\":0,\"ticks\":\"\"},\"colorscale\":[[0.0,\"#0d0887\"],[0.1111111111111111,\"#46039f\"],[0.2222222222222222,\"#7201a8\"],[0.3333333333333333,\"#9c179e\"],[0.4444444444444444,\"#bd3786\"],[0.5555555555555556,\"#d8576b\"],[0.6666666666666666,\"#ed7953\"],[0.7777777777777778,\"#fb9f3a\"],[0.8888888888888888,\"#fdca26\"],[1.0,\"#f0f921\"]],\"type\":\"heatmap\"}],\"heatmapgl\":[{\"colorbar\":{\"outlinewidth\":0,\"ticks\":\"\"},\"colorscale\":[[0.0,\"#0d0887\"],[0.1111111111111111,\"#46039f\"],[0.2222222222222222,\"#7201a8\"],[0.3333333333333333,\"#9c179e\"],[0.4444444444444444,\"#bd3786\"],[0.5555555555555556,\"#d8576b\"],[0.6666666666666666,\"#ed7953\"],[0.7777777777777778,\"#fb9f3a\"],[0.8888888888888888,\"#fdca26\"],[1.0,\"#f0f921\"]],\"type\":\"heatmapgl\"}],\"histogram\":[{\"marker\":{\"pattern\":{\"fillmode\":\"overlay\",\"size\":10,\"solidity\":0.2}},\"type\":\"histogram\"}],\"histogram2d\":[{\"colorbar\":{\"outlinewidth\":0,\"ticks\":\"\"},\"colorscale\":[[0.0,\"#0d0887\"],[0.1111111111111111,\"#46039f\"],[0.2222222222222222,\"#7201a8\"],[0.3333333333333333,\"#9c179e\"],[0.4444444444444444,\"#bd3786\"],[0.5555555555555556,\"#d8576b\"],[0.6666666666666666,\"#ed7953\"],[0.7777777777777778,\"#fb9f3a\"],[0.8888888888888888,\"#fdca26\"],[1.0,\"#f0f921\"]],\"type\":\"histogram2d\"}],\"histogram2dcontour\":[{\"colorbar\":{\"outlinewidth\":0,\"ticks\":\"\"},\"colorscale\":[[0.0,\"#0d0887\"],[0.1111111111111111,\"#46039f\"],[0.2222222222222222,\"#7201a8\"],[0.3333333333333333,\"#9c179e\"],[0.4444444444444444,\"#bd3786\"],[0.5555555555555556,\"#d8576b\"],[0.6666666666666666,\"#ed7953\"],[0.7777777777777778,\"#fb9f3a\"],[0.8888888888888888,\"#fdca26\"],[1.0,\"#f0f921\"]],\"type\":\"histogram2dcontour\"}],\"mesh3d\":[{\"colorbar\":{\"outlinewidth\":0,\"ticks\":\"\"},\"type\":\"mesh3d\"}],\"parcoords\":[{\"line\":{\"colorbar\":{\"outlinewidth\":0,\"ticks\":\"\"}},\"type\":\"parcoords\"}],\"pie\":[{\"automargin\":true,\"type\":\"pie\"}],\"scatter\":[{\"marker\":{\"colorbar\":{\"outlinewidth\":0,\"ticks\":\"\"}},\"type\":\"scatter\"}],\"scatter3d\":[{\"line\":{\"colorbar\":{\"outlinewidth\":0,\"ticks\":\"\"}},\"marker\":{\"colorbar\":{\"outlinewidth\":0,\"ticks\":\"\"}},\"type\":\"scatter3d\"}],\"scattercarpet\":[{\"marker\":{\"colorbar\":{\"outlinewidth\":0,\"ticks\":\"\"}},\"type\":\"scattercarpet\"}],\"scattergeo\":[{\"marker\":{\"colorbar\":{\"outlinewidth\":0,\"ticks\":\"\"}},\"type\":\"scattergeo\"}],\"scattergl\":[{\"marker\":{\"colorbar\":{\"outlinewidth\":0,\"ticks\":\"\"}},\"type\":\"scattergl\"}],\"scattermapbox\":[{\"marker\":{\"colorbar\":{\"outlinewidth\":0,\"ticks\":\"\"}},\"type\":\"scattermapbox\"}],\"scatterpolar\":[{\"marker\":{\"colorbar\":{\"outlinewidth\":0,\"ticks\":\"\"}},\"type\":\"scatterpolar\"}],\"scatterpolargl\":[{\"marker\":{\"colorbar\":{\"outlinewidth\":0,\"ticks\":\"\"}},\"type\":\"scatterpolargl\"}],\"scatterternary\":[{\"marker\":{\"colorbar\":{\"outlinewidth\":0,\"ticks\":\"\"}},\"type\":\"scatterternary\"}],\"surface\":[{\"colorbar\":{\"outlinewidth\":0,\"ticks\":\"\"},\"colorscale\":[[0.0,\"#0d0887\"],[0.1111111111111111,\"#46039f\"],[0.2222222222222222,\"#7201a8\"],[0.3333333333333333,\"#9c179e\"],[0.4444444444444444,\"#bd3786\"],[0.5555555555555556,\"#d8576b\"],[0.6666666666666666,\"#ed7953\"],[0.7777777777777778,\"#fb9f3a\"],[0.8888888888888888,\"#fdca26\"],[1.0,\"#f0f921\"]],\"type\":\"surface\"}],\"table\":[{\"cells\":{\"fill\":{\"color\":\"#EBF0F8\"},\"line\":{\"color\":\"white\"}},\"header\":{\"fill\":{\"color\":\"#C8D4E3\"},\"line\":{\"color\":\"white\"}},\"type\":\"table\"}]},\"layout\":{\"annotationdefaults\":{\"arrowcolor\":\"#2a3f5f\",\"arrowhead\":0,\"arrowwidth\":1},\"autotypenumbers\":\"strict\",\"coloraxis\":{\"colorbar\":{\"outlinewidth\":0,\"ticks\":\"\"}},\"colorscale\":{\"diverging\":[[0,\"#8e0152\"],[0.1,\"#c51b7d\"],[0.2,\"#de77ae\"],[0.3,\"#f1b6da\"],[0.4,\"#fde0ef\"],[0.5,\"#f7f7f7\"],[0.6,\"#e6f5d0\"],[0.7,\"#b8e186\"],[0.8,\"#7fbc41\"],[0.9,\"#4d9221\"],[1,\"#276419\"]],\"sequential\":[[0.0,\"#0d0887\"],[0.1111111111111111,\"#46039f\"],[0.2222222222222222,\"#7201a8\"],[0.3333333333333333,\"#9c179e\"],[0.4444444444444444,\"#bd3786\"],[0.5555555555555556,\"#d8576b\"],[0.6666666666666666,\"#ed7953\"],[0.7777777777777778,\"#fb9f3a\"],[0.8888888888888888,\"#fdca26\"],[1.0,\"#f0f921\"]],\"sequentialminus\":[[0.0,\"#0d0887\"],[0.1111111111111111,\"#46039f\"],[0.2222222222222222,\"#7201a8\"],[0.3333333333333333,\"#9c179e\"],[0.4444444444444444,\"#bd3786\"],[0.5555555555555556,\"#d8576b\"],[0.6666666666666666,\"#ed7953\"],[0.7777777777777778,\"#fb9f3a\"],[0.8888888888888888,\"#fdca26\"],[1.0,\"#f0f921\"]]},\"colorway\":[\"#636efa\",\"#EF553B\",\"#00cc96\",\"#ab63fa\",\"#FFA15A\",\"#19d3f3\",\"#FF6692\",\"#B6E880\",\"#FF97FF\",\"#FECB52\"],\"font\":{\"color\":\"#2a3f5f\"},\"geo\":{\"bgcolor\":\"white\",\"lakecolor\":\"white\",\"landcolor\":\"#E5ECF6\",\"showlakes\":true,\"showland\":true,\"subunitcolor\":\"white\"},\"hoverlabel\":{\"align\":\"left\"},\"hovermode\":\"closest\",\"mapbox\":{\"style\":\"light\"},\"paper_bgcolor\":\"white\",\"plot_bgcolor\":\"#E5ECF6\",\"polar\":{\"angularaxis\":{\"gridcolor\":\"white\",\"linecolor\":\"white\",\"ticks\":\"\"},\"bgcolor\":\"#E5ECF6\",\"radialaxis\":{\"gridcolor\":\"white\",\"linecolor\":\"white\",\"ticks\":\"\"}},\"scene\":{\"xaxis\":{\"backgroundcolor\":\"#E5ECF6\",\"gridcolor\":\"white\",\"gridwidth\":2,\"linecolor\":\"white\",\"showbackground\":true,\"ticks\":\"\",\"zerolinecolor\":\"white\"},\"yaxis\":{\"backgroundcolor\":\"#E5ECF6\",\"gridcolor\":\"white\",\"gridwidth\":2,\"linecolor\":\"white\",\"showbackground\":true,\"ticks\":\"\",\"zerolinecolor\":\"white\"},\"zaxis\":{\"backgroundcolor\":\"#E5ECF6\",\"gridcolor\":\"white\",\"gridwidth\":2,\"linecolor\":\"white\",\"showbackground\":true,\"ticks\":\"\",\"zerolinecolor\":\"white\"}},\"shapedefaults\":{\"line\":{\"color\":\"#2a3f5f\"}},\"ternary\":{\"aaxis\":{\"gridcolor\":\"white\",\"linecolor\":\"white\",\"ticks\":\"\"},\"baxis\":{\"gridcolor\":\"white\",\"linecolor\":\"white\",\"ticks\":\"\"},\"bgcolor\":\"#E5ECF6\",\"caxis\":{\"gridcolor\":\"white\",\"linecolor\":\"white\",\"ticks\":\"\"}},\"title\":{\"x\":0.05},\"xaxis\":{\"automargin\":true,\"gridcolor\":\"white\",\"linecolor\":\"white\",\"ticks\":\"\",\"title\":{\"standoff\":15},\"zerolinecolor\":\"white\",\"zerolinewidth\":2},\"yaxis\":{\"automargin\":true,\"gridcolor\":\"white\",\"linecolor\":\"white\",\"ticks\":\"\",\"title\":{\"standoff\":15},\"zerolinecolor\":\"white\",\"zerolinewidth\":2}}},\"title\":{\"text\":\"Os 10 clientes que mais gastam\"},\"xaxis\":{\"anchor\":\"y\",\"domain\":[0.0,1.0],\"title\":{\"text\":\"Nome do cliente\"}},\"yaxis\":{\"anchor\":\"x\",\"domain\":[0.0,1.0],\"title\":{\"text\":\"Total da compra do produto\"}}},                        {\"responsive\": true}                    ).then(function(){\n",
       "                            \n",
       "var gd = document.getElementById('7b97bcbc-7bdc-4789-8914-ea45922174c2');\n",
       "var x = new MutationObserver(function (mutations, observer) {{\n",
       "        var display = window.getComputedStyle(gd).display;\n",
       "        if (!display || display === 'none') {{\n",
       "            console.log([gd, 'removed!']);\n",
       "            Plotly.purge(gd);\n",
       "            observer.disconnect();\n",
       "        }}\n",
       "}});\n",
       "\n",
       "// Listen for the removal of the full notebook cells\n",
       "var notebookContainer = gd.closest('#notebook-container');\n",
       "if (notebookContainer) {{\n",
       "    x.observe(notebookContainer, {childList: true});\n",
       "}}\n",
       "\n",
       "// Listen for the clearing of the current output cell\n",
       "var outputEl = gd.closest('.output');\n",
       "if (outputEl) {{\n",
       "    x.observe(outputEl, {childList: true});\n",
       "}}\n",
       "\n",
       "                        })                };                });            </script>        </div>"
      ]
     },
     "metadata": {},
     "output_type": "display_data"
    }
   ],
   "source": [
    "fig_total_cliente = px.bar(venda_produtos_cliente_pt, x=\"nome_cliente\", y=\"total_preco\", color=\"secao\", barmode = 'stack', hover_data=['nome', 'data', 'preco'],\n",
    "             labels={\"total_preco\": \"Total da compra do produto\", \"nome_cliente\": \"Nome do cliente\", \"nome\":\"Produto\", \"data\":\"Data\", \"preco\":\"Preço do produto\", \"secao\":\"Seção\"})\n",
    "fig_total_cliente.update_layout(title = 'Os 10 clientes que mais gastam')\n",
    "fig_total_cliente.show()"
   ]
  },
  {
   "cell_type": "code",
   "execution_count": null,
   "id": "9cb92bb7",
   "metadata": {},
   "outputs": [],
   "source": []
  },
  {
   "cell_type": "code",
   "execution_count": null,
   "id": "edb1fdfb",
   "metadata": {},
   "outputs": [],
   "source": []
  },
  {
   "cell_type": "markdown",
   "id": "fda6e07d",
   "metadata": {},
   "source": [
    "## Análise tempo"
   ]
  },
  {
   "cell_type": "code",
   "execution_count": 18,
   "id": "1fb25e01",
   "metadata": {},
   "outputs": [
    {
     "data": {
      "application/vnd.plotly.v1+json": {
       "config": {
        "plotlyServerURL": "https://plot.ly"
       },
       "data": [
        {
         "hovertemplate": "Data=%{x}<br>Total gasto pelo clientes=%{y}<extra></extra>",
         "legendgroup": "",
         "line": {
          "color": "#636efa",
          "dash": "solid"
         },
         "marker": {
          "symbol": "circle"
         },
         "mode": "lines",
         "name": "",
         "orientation": "v",
         "showlegend": false,
         "type": "scatter",
         "x": [
          "2021-11-01",
          "2021-11-02",
          "2021-11-03",
          "2021-11-04",
          "2021-11-05",
          "2021-11-07",
          "2021-11-08",
          "2021-11-09",
          "2021-11-10",
          "2021-11-11",
          "2021-11-12",
          "2021-11-13",
          "2021-11-14",
          "2021-11-15",
          "2021-11-16",
          "2021-11-18",
          "2021-11-19",
          "2021-11-20",
          "2021-11-21",
          "2021-11-22",
          "2021-11-23",
          "2021-11-24",
          "2021-11-26",
          "2021-11-27",
          "2021-11-28",
          "2021-11-29",
          "2021-11-30"
         ],
         "xaxis": "x",
         "y": [
          2623.5200000000004,
          705.8300000000002,
          762.6100000000002,
          1503.6300000000006,
          1845.4700000000007,
          384.62,
          735.0800000000002,
          969.1600000000001,
          1517.35,
          303.09999999999997,
          4051.2899999999995,
          830.8500000000003,
          3731.6899999999996,
          15.99,
          38.23,
          8.62,
          140,
          82.92999999999999,
          379.53,
          11.98,
          171.96,
          20.1,
          51.96,
          4.54,
          47.96,
          211.42999999999998,
          77.88
         ],
         "yaxis": "y"
        }
       ],
       "layout": {
        "annotations": [
         {
          "arrowhead": 3,
          "ay": -40,
          "font": {
           "size": 11
          },
          "showarrow": true,
          "text": "<b>Maior pico de vendas<br> em novembro</b>",
          "x": "2021-11-08",
          "y": 1016.66
         }
        ],
        "height": 500,
        "legend": {
         "tracegroupgap": 0
        },
        "margin": {
         "t": 60
        },
        "template": {
         "data": {
          "bar": [
           {
            "error_x": {
             "color": "#2a3f5f"
            },
            "error_y": {
             "color": "#2a3f5f"
            },
            "marker": {
             "line": {
              "color": "#E5ECF6",
              "width": 0.5
             },
             "pattern": {
              "fillmode": "overlay",
              "size": 10,
              "solidity": 0.2
             }
            },
            "type": "bar"
           }
          ],
          "barpolar": [
           {
            "marker": {
             "line": {
              "color": "#E5ECF6",
              "width": 0.5
             },
             "pattern": {
              "fillmode": "overlay",
              "size": 10,
              "solidity": 0.2
             }
            },
            "type": "barpolar"
           }
          ],
          "carpet": [
           {
            "aaxis": {
             "endlinecolor": "#2a3f5f",
             "gridcolor": "white",
             "linecolor": "white",
             "minorgridcolor": "white",
             "startlinecolor": "#2a3f5f"
            },
            "baxis": {
             "endlinecolor": "#2a3f5f",
             "gridcolor": "white",
             "linecolor": "white",
             "minorgridcolor": "white",
             "startlinecolor": "#2a3f5f"
            },
            "type": "carpet"
           }
          ],
          "choropleth": [
           {
            "colorbar": {
             "outlinewidth": 0,
             "ticks": ""
            },
            "type": "choropleth"
           }
          ],
          "contour": [
           {
            "colorbar": {
             "outlinewidth": 0,
             "ticks": ""
            },
            "colorscale": [
             [
              0,
              "#0d0887"
             ],
             [
              0.1111111111111111,
              "#46039f"
             ],
             [
              0.2222222222222222,
              "#7201a8"
             ],
             [
              0.3333333333333333,
              "#9c179e"
             ],
             [
              0.4444444444444444,
              "#bd3786"
             ],
             [
              0.5555555555555556,
              "#d8576b"
             ],
             [
              0.6666666666666666,
              "#ed7953"
             ],
             [
              0.7777777777777778,
              "#fb9f3a"
             ],
             [
              0.8888888888888888,
              "#fdca26"
             ],
             [
              1,
              "#f0f921"
             ]
            ],
            "type": "contour"
           }
          ],
          "contourcarpet": [
           {
            "colorbar": {
             "outlinewidth": 0,
             "ticks": ""
            },
            "type": "contourcarpet"
           }
          ],
          "heatmap": [
           {
            "colorbar": {
             "outlinewidth": 0,
             "ticks": ""
            },
            "colorscale": [
             [
              0,
              "#0d0887"
             ],
             [
              0.1111111111111111,
              "#46039f"
             ],
             [
              0.2222222222222222,
              "#7201a8"
             ],
             [
              0.3333333333333333,
              "#9c179e"
             ],
             [
              0.4444444444444444,
              "#bd3786"
             ],
             [
              0.5555555555555556,
              "#d8576b"
             ],
             [
              0.6666666666666666,
              "#ed7953"
             ],
             [
              0.7777777777777778,
              "#fb9f3a"
             ],
             [
              0.8888888888888888,
              "#fdca26"
             ],
             [
              1,
              "#f0f921"
             ]
            ],
            "type": "heatmap"
           }
          ],
          "heatmapgl": [
           {
            "colorbar": {
             "outlinewidth": 0,
             "ticks": ""
            },
            "colorscale": [
             [
              0,
              "#0d0887"
             ],
             [
              0.1111111111111111,
              "#46039f"
             ],
             [
              0.2222222222222222,
              "#7201a8"
             ],
             [
              0.3333333333333333,
              "#9c179e"
             ],
             [
              0.4444444444444444,
              "#bd3786"
             ],
             [
              0.5555555555555556,
              "#d8576b"
             ],
             [
              0.6666666666666666,
              "#ed7953"
             ],
             [
              0.7777777777777778,
              "#fb9f3a"
             ],
             [
              0.8888888888888888,
              "#fdca26"
             ],
             [
              1,
              "#f0f921"
             ]
            ],
            "type": "heatmapgl"
           }
          ],
          "histogram": [
           {
            "marker": {
             "pattern": {
              "fillmode": "overlay",
              "size": 10,
              "solidity": 0.2
             }
            },
            "type": "histogram"
           }
          ],
          "histogram2d": [
           {
            "colorbar": {
             "outlinewidth": 0,
             "ticks": ""
            },
            "colorscale": [
             [
              0,
              "#0d0887"
             ],
             [
              0.1111111111111111,
              "#46039f"
             ],
             [
              0.2222222222222222,
              "#7201a8"
             ],
             [
              0.3333333333333333,
              "#9c179e"
             ],
             [
              0.4444444444444444,
              "#bd3786"
             ],
             [
              0.5555555555555556,
              "#d8576b"
             ],
             [
              0.6666666666666666,
              "#ed7953"
             ],
             [
              0.7777777777777778,
              "#fb9f3a"
             ],
             [
              0.8888888888888888,
              "#fdca26"
             ],
             [
              1,
              "#f0f921"
             ]
            ],
            "type": "histogram2d"
           }
          ],
          "histogram2dcontour": [
           {
            "colorbar": {
             "outlinewidth": 0,
             "ticks": ""
            },
            "colorscale": [
             [
              0,
              "#0d0887"
             ],
             [
              0.1111111111111111,
              "#46039f"
             ],
             [
              0.2222222222222222,
              "#7201a8"
             ],
             [
              0.3333333333333333,
              "#9c179e"
             ],
             [
              0.4444444444444444,
              "#bd3786"
             ],
             [
              0.5555555555555556,
              "#d8576b"
             ],
             [
              0.6666666666666666,
              "#ed7953"
             ],
             [
              0.7777777777777778,
              "#fb9f3a"
             ],
             [
              0.8888888888888888,
              "#fdca26"
             ],
             [
              1,
              "#f0f921"
             ]
            ],
            "type": "histogram2dcontour"
           }
          ],
          "mesh3d": [
           {
            "colorbar": {
             "outlinewidth": 0,
             "ticks": ""
            },
            "type": "mesh3d"
           }
          ],
          "parcoords": [
           {
            "line": {
             "colorbar": {
              "outlinewidth": 0,
              "ticks": ""
             }
            },
            "type": "parcoords"
           }
          ],
          "pie": [
           {
            "automargin": true,
            "type": "pie"
           }
          ],
          "scatter": [
           {
            "marker": {
             "colorbar": {
              "outlinewidth": 0,
              "ticks": ""
             }
            },
            "type": "scatter"
           }
          ],
          "scatter3d": [
           {
            "line": {
             "colorbar": {
              "outlinewidth": 0,
              "ticks": ""
             }
            },
            "marker": {
             "colorbar": {
              "outlinewidth": 0,
              "ticks": ""
             }
            },
            "type": "scatter3d"
           }
          ],
          "scattercarpet": [
           {
            "marker": {
             "colorbar": {
              "outlinewidth": 0,
              "ticks": ""
             }
            },
            "type": "scattercarpet"
           }
          ],
          "scattergeo": [
           {
            "marker": {
             "colorbar": {
              "outlinewidth": 0,
              "ticks": ""
             }
            },
            "type": "scattergeo"
           }
          ],
          "scattergl": [
           {
            "marker": {
             "colorbar": {
              "outlinewidth": 0,
              "ticks": ""
             }
            },
            "type": "scattergl"
           }
          ],
          "scattermapbox": [
           {
            "marker": {
             "colorbar": {
              "outlinewidth": 0,
              "ticks": ""
             }
            },
            "type": "scattermapbox"
           }
          ],
          "scatterpolar": [
           {
            "marker": {
             "colorbar": {
              "outlinewidth": 0,
              "ticks": ""
             }
            },
            "type": "scatterpolar"
           }
          ],
          "scatterpolargl": [
           {
            "marker": {
             "colorbar": {
              "outlinewidth": 0,
              "ticks": ""
             }
            },
            "type": "scatterpolargl"
           }
          ],
          "scatterternary": [
           {
            "marker": {
             "colorbar": {
              "outlinewidth": 0,
              "ticks": ""
             }
            },
            "type": "scatterternary"
           }
          ],
          "surface": [
           {
            "colorbar": {
             "outlinewidth": 0,
             "ticks": ""
            },
            "colorscale": [
             [
              0,
              "#0d0887"
             ],
             [
              0.1111111111111111,
              "#46039f"
             ],
             [
              0.2222222222222222,
              "#7201a8"
             ],
             [
              0.3333333333333333,
              "#9c179e"
             ],
             [
              0.4444444444444444,
              "#bd3786"
             ],
             [
              0.5555555555555556,
              "#d8576b"
             ],
             [
              0.6666666666666666,
              "#ed7953"
             ],
             [
              0.7777777777777778,
              "#fb9f3a"
             ],
             [
              0.8888888888888888,
              "#fdca26"
             ],
             [
              1,
              "#f0f921"
             ]
            ],
            "type": "surface"
           }
          ],
          "table": [
           {
            "cells": {
             "fill": {
              "color": "#EBF0F8"
             },
             "line": {
              "color": "white"
             }
            },
            "header": {
             "fill": {
              "color": "#C8D4E3"
             },
             "line": {
              "color": "white"
             }
            },
            "type": "table"
           }
          ]
         },
         "layout": {
          "annotationdefaults": {
           "arrowcolor": "#2a3f5f",
           "arrowhead": 0,
           "arrowwidth": 1
          },
          "autotypenumbers": "strict",
          "coloraxis": {
           "colorbar": {
            "outlinewidth": 0,
            "ticks": ""
           }
          },
          "colorscale": {
           "diverging": [
            [
             0,
             "#8e0152"
            ],
            [
             0.1,
             "#c51b7d"
            ],
            [
             0.2,
             "#de77ae"
            ],
            [
             0.3,
             "#f1b6da"
            ],
            [
             0.4,
             "#fde0ef"
            ],
            [
             0.5,
             "#f7f7f7"
            ],
            [
             0.6,
             "#e6f5d0"
            ],
            [
             0.7,
             "#b8e186"
            ],
            [
             0.8,
             "#7fbc41"
            ],
            [
             0.9,
             "#4d9221"
            ],
            [
             1,
             "#276419"
            ]
           ],
           "sequential": [
            [
             0,
             "#0d0887"
            ],
            [
             0.1111111111111111,
             "#46039f"
            ],
            [
             0.2222222222222222,
             "#7201a8"
            ],
            [
             0.3333333333333333,
             "#9c179e"
            ],
            [
             0.4444444444444444,
             "#bd3786"
            ],
            [
             0.5555555555555556,
             "#d8576b"
            ],
            [
             0.6666666666666666,
             "#ed7953"
            ],
            [
             0.7777777777777778,
             "#fb9f3a"
            ],
            [
             0.8888888888888888,
             "#fdca26"
            ],
            [
             1,
             "#f0f921"
            ]
           ],
           "sequentialminus": [
            [
             0,
             "#0d0887"
            ],
            [
             0.1111111111111111,
             "#46039f"
            ],
            [
             0.2222222222222222,
             "#7201a8"
            ],
            [
             0.3333333333333333,
             "#9c179e"
            ],
            [
             0.4444444444444444,
             "#bd3786"
            ],
            [
             0.5555555555555556,
             "#d8576b"
            ],
            [
             0.6666666666666666,
             "#ed7953"
            ],
            [
             0.7777777777777778,
             "#fb9f3a"
            ],
            [
             0.8888888888888888,
             "#fdca26"
            ],
            [
             1,
             "#f0f921"
            ]
           ]
          },
          "colorway": [
           "#636efa",
           "#EF553B",
           "#00cc96",
           "#ab63fa",
           "#FFA15A",
           "#19d3f3",
           "#FF6692",
           "#B6E880",
           "#FF97FF",
           "#FECB52"
          ],
          "font": {
           "color": "#2a3f5f"
          },
          "geo": {
           "bgcolor": "white",
           "lakecolor": "white",
           "landcolor": "#E5ECF6",
           "showlakes": true,
           "showland": true,
           "subunitcolor": "white"
          },
          "hoverlabel": {
           "align": "left"
          },
          "hovermode": "closest",
          "mapbox": {
           "style": "light"
          },
          "paper_bgcolor": "white",
          "plot_bgcolor": "#E5ECF6",
          "polar": {
           "angularaxis": {
            "gridcolor": "white",
            "linecolor": "white",
            "ticks": ""
           },
           "bgcolor": "#E5ECF6",
           "radialaxis": {
            "gridcolor": "white",
            "linecolor": "white",
            "ticks": ""
           }
          },
          "scene": {
           "xaxis": {
            "backgroundcolor": "#E5ECF6",
            "gridcolor": "white",
            "gridwidth": 2,
            "linecolor": "white",
            "showbackground": true,
            "ticks": "",
            "zerolinecolor": "white"
           },
           "yaxis": {
            "backgroundcolor": "#E5ECF6",
            "gridcolor": "white",
            "gridwidth": 2,
            "linecolor": "white",
            "showbackground": true,
            "ticks": "",
            "zerolinecolor": "white"
           },
           "zaxis": {
            "backgroundcolor": "#E5ECF6",
            "gridcolor": "white",
            "gridwidth": 2,
            "linecolor": "white",
            "showbackground": true,
            "ticks": "",
            "zerolinecolor": "white"
           }
          },
          "shapedefaults": {
           "line": {
            "color": "#2a3f5f"
           }
          },
          "ternary": {
           "aaxis": {
            "gridcolor": "white",
            "linecolor": "white",
            "ticks": ""
           },
           "baxis": {
            "gridcolor": "white",
            "linecolor": "white",
            "ticks": ""
           },
           "bgcolor": "#E5ECF6",
           "caxis": {
            "gridcolor": "white",
            "linecolor": "white",
            "ticks": ""
           }
          },
          "title": {
           "x": 0.05
          },
          "xaxis": {
           "automargin": true,
           "gridcolor": "white",
           "linecolor": "white",
           "ticks": "",
           "title": {
            "standoff": 15
           },
           "zerolinecolor": "white",
           "zerolinewidth": 2
          },
          "yaxis": {
           "automargin": true,
           "gridcolor": "white",
           "linecolor": "white",
           "ticks": "",
           "title": {
            "standoff": 15
           },
           "zerolinecolor": "white",
           "zerolinewidth": 2
          }
         }
        },
        "width": 800,
        "xaxis": {
         "anchor": "y",
         "domain": [
          0,
          1
         ],
         "title": {
          "text": "Data"
         }
        },
        "yaxis": {
         "anchor": "x",
         "domain": [
          0,
          1
         ],
         "title": {
          "text": "Total gasto pelo clientes"
         }
        }
       }
      },
      "text/html": [
       "<div>                            <div id=\"a0109438-719e-4c04-9a57-0e3874f31830\" class=\"plotly-graph-div\" style=\"height:500px; width:800px;\"></div>            <script type=\"text/javascript\">                require([\"plotly\"], function(Plotly) {                    window.PLOTLYENV=window.PLOTLYENV || {};                                    if (document.getElementById(\"a0109438-719e-4c04-9a57-0e3874f31830\")) {                    Plotly.newPlot(                        \"a0109438-719e-4c04-9a57-0e3874f31830\",                        [{\"hovertemplate\":\"Data=%{x}<br>Total gasto pelo clientes=%{y}<extra></extra>\",\"legendgroup\":\"\",\"line\":{\"color\":\"#636efa\",\"dash\":\"solid\"},\"marker\":{\"symbol\":\"circle\"},\"mode\":\"lines\",\"name\":\"\",\"orientation\":\"v\",\"showlegend\":false,\"type\":\"scatter\",\"x\":[\"2021-11-01\",\"2021-11-02\",\"2021-11-03\",\"2021-11-04\",\"2021-11-05\",\"2021-11-07\",\"2021-11-08\",\"2021-11-09\",\"2021-11-10\",\"2021-11-11\",\"2021-11-12\",\"2021-11-13\",\"2021-11-14\",\"2021-11-15\",\"2021-11-16\",\"2021-11-18\",\"2021-11-19\",\"2021-11-20\",\"2021-11-21\",\"2021-11-22\",\"2021-11-23\",\"2021-11-24\",\"2021-11-26\",\"2021-11-27\",\"2021-11-28\",\"2021-11-29\",\"2021-11-30\"],\"xaxis\":\"x\",\"y\":[2623.5200000000004,705.8300000000002,762.6100000000002,1503.6300000000006,1845.4700000000007,384.62,735.0800000000002,969.1600000000001,1517.35,303.09999999999997,4051.2899999999995,830.8500000000003,3731.6899999999996,15.99,38.23,8.62,140.0,82.92999999999999,379.53,11.98,171.96,20.1,51.96,4.54,47.96,211.42999999999998,77.88],\"yaxis\":\"y\"}],                        {\"annotations\":[{\"arrowhead\":3,\"ay\":-40,\"font\":{\"size\":11},\"showarrow\":true,\"text\":\"<b>Maior pico de vendas<br> em novembro</b>\",\"x\":\"2021-11-08\",\"y\":1016.66}],\"height\":500,\"legend\":{\"tracegroupgap\":0},\"margin\":{\"t\":60},\"template\":{\"data\":{\"bar\":[{\"error_x\":{\"color\":\"#2a3f5f\"},\"error_y\":{\"color\":\"#2a3f5f\"},\"marker\":{\"line\":{\"color\":\"#E5ECF6\",\"width\":0.5},\"pattern\":{\"fillmode\":\"overlay\",\"size\":10,\"solidity\":0.2}},\"type\":\"bar\"}],\"barpolar\":[{\"marker\":{\"line\":{\"color\":\"#E5ECF6\",\"width\":0.5},\"pattern\":{\"fillmode\":\"overlay\",\"size\":10,\"solidity\":0.2}},\"type\":\"barpolar\"}],\"carpet\":[{\"aaxis\":{\"endlinecolor\":\"#2a3f5f\",\"gridcolor\":\"white\",\"linecolor\":\"white\",\"minorgridcolor\":\"white\",\"startlinecolor\":\"#2a3f5f\"},\"baxis\":{\"endlinecolor\":\"#2a3f5f\",\"gridcolor\":\"white\",\"linecolor\":\"white\",\"minorgridcolor\":\"white\",\"startlinecolor\":\"#2a3f5f\"},\"type\":\"carpet\"}],\"choropleth\":[{\"colorbar\":{\"outlinewidth\":0,\"ticks\":\"\"},\"type\":\"choropleth\"}],\"contour\":[{\"colorbar\":{\"outlinewidth\":0,\"ticks\":\"\"},\"colorscale\":[[0.0,\"#0d0887\"],[0.1111111111111111,\"#46039f\"],[0.2222222222222222,\"#7201a8\"],[0.3333333333333333,\"#9c179e\"],[0.4444444444444444,\"#bd3786\"],[0.5555555555555556,\"#d8576b\"],[0.6666666666666666,\"#ed7953\"],[0.7777777777777778,\"#fb9f3a\"],[0.8888888888888888,\"#fdca26\"],[1.0,\"#f0f921\"]],\"type\":\"contour\"}],\"contourcarpet\":[{\"colorbar\":{\"outlinewidth\":0,\"ticks\":\"\"},\"type\":\"contourcarpet\"}],\"heatmap\":[{\"colorbar\":{\"outlinewidth\":0,\"ticks\":\"\"},\"colorscale\":[[0.0,\"#0d0887\"],[0.1111111111111111,\"#46039f\"],[0.2222222222222222,\"#7201a8\"],[0.3333333333333333,\"#9c179e\"],[0.4444444444444444,\"#bd3786\"],[0.5555555555555556,\"#d8576b\"],[0.6666666666666666,\"#ed7953\"],[0.7777777777777778,\"#fb9f3a\"],[0.8888888888888888,\"#fdca26\"],[1.0,\"#f0f921\"]],\"type\":\"heatmap\"}],\"heatmapgl\":[{\"colorbar\":{\"outlinewidth\":0,\"ticks\":\"\"},\"colorscale\":[[0.0,\"#0d0887\"],[0.1111111111111111,\"#46039f\"],[0.2222222222222222,\"#7201a8\"],[0.3333333333333333,\"#9c179e\"],[0.4444444444444444,\"#bd3786\"],[0.5555555555555556,\"#d8576b\"],[0.6666666666666666,\"#ed7953\"],[0.7777777777777778,\"#fb9f3a\"],[0.8888888888888888,\"#fdca26\"],[1.0,\"#f0f921\"]],\"type\":\"heatmapgl\"}],\"histogram\":[{\"marker\":{\"pattern\":{\"fillmode\":\"overlay\",\"size\":10,\"solidity\":0.2}},\"type\":\"histogram\"}],\"histogram2d\":[{\"colorbar\":{\"outlinewidth\":0,\"ticks\":\"\"},\"colorscale\":[[0.0,\"#0d0887\"],[0.1111111111111111,\"#46039f\"],[0.2222222222222222,\"#7201a8\"],[0.3333333333333333,\"#9c179e\"],[0.4444444444444444,\"#bd3786\"],[0.5555555555555556,\"#d8576b\"],[0.6666666666666666,\"#ed7953\"],[0.7777777777777778,\"#fb9f3a\"],[0.8888888888888888,\"#fdca26\"],[1.0,\"#f0f921\"]],\"type\":\"histogram2d\"}],\"histogram2dcontour\":[{\"colorbar\":{\"outlinewidth\":0,\"ticks\":\"\"},\"colorscale\":[[0.0,\"#0d0887\"],[0.1111111111111111,\"#46039f\"],[0.2222222222222222,\"#7201a8\"],[0.3333333333333333,\"#9c179e\"],[0.4444444444444444,\"#bd3786\"],[0.5555555555555556,\"#d8576b\"],[0.6666666666666666,\"#ed7953\"],[0.7777777777777778,\"#fb9f3a\"],[0.8888888888888888,\"#fdca26\"],[1.0,\"#f0f921\"]],\"type\":\"histogram2dcontour\"}],\"mesh3d\":[{\"colorbar\":{\"outlinewidth\":0,\"ticks\":\"\"},\"type\":\"mesh3d\"}],\"parcoords\":[{\"line\":{\"colorbar\":{\"outlinewidth\":0,\"ticks\":\"\"}},\"type\":\"parcoords\"}],\"pie\":[{\"automargin\":true,\"type\":\"pie\"}],\"scatter\":[{\"marker\":{\"colorbar\":{\"outlinewidth\":0,\"ticks\":\"\"}},\"type\":\"scatter\"}],\"scatter3d\":[{\"line\":{\"colorbar\":{\"outlinewidth\":0,\"ticks\":\"\"}},\"marker\":{\"colorbar\":{\"outlinewidth\":0,\"ticks\":\"\"}},\"type\":\"scatter3d\"}],\"scattercarpet\":[{\"marker\":{\"colorbar\":{\"outlinewidth\":0,\"ticks\":\"\"}},\"type\":\"scattercarpet\"}],\"scattergeo\":[{\"marker\":{\"colorbar\":{\"outlinewidth\":0,\"ticks\":\"\"}},\"type\":\"scattergeo\"}],\"scattergl\":[{\"marker\":{\"colorbar\":{\"outlinewidth\":0,\"ticks\":\"\"}},\"type\":\"scattergl\"}],\"scattermapbox\":[{\"marker\":{\"colorbar\":{\"outlinewidth\":0,\"ticks\":\"\"}},\"type\":\"scattermapbox\"}],\"scatterpolar\":[{\"marker\":{\"colorbar\":{\"outlinewidth\":0,\"ticks\":\"\"}},\"type\":\"scatterpolar\"}],\"scatterpolargl\":[{\"marker\":{\"colorbar\":{\"outlinewidth\":0,\"ticks\":\"\"}},\"type\":\"scatterpolargl\"}],\"scatterternary\":[{\"marker\":{\"colorbar\":{\"outlinewidth\":0,\"ticks\":\"\"}},\"type\":\"scatterternary\"}],\"surface\":[{\"colorbar\":{\"outlinewidth\":0,\"ticks\":\"\"},\"colorscale\":[[0.0,\"#0d0887\"],[0.1111111111111111,\"#46039f\"],[0.2222222222222222,\"#7201a8\"],[0.3333333333333333,\"#9c179e\"],[0.4444444444444444,\"#bd3786\"],[0.5555555555555556,\"#d8576b\"],[0.6666666666666666,\"#ed7953\"],[0.7777777777777778,\"#fb9f3a\"],[0.8888888888888888,\"#fdca26\"],[1.0,\"#f0f921\"]],\"type\":\"surface\"}],\"table\":[{\"cells\":{\"fill\":{\"color\":\"#EBF0F8\"},\"line\":{\"color\":\"white\"}},\"header\":{\"fill\":{\"color\":\"#C8D4E3\"},\"line\":{\"color\":\"white\"}},\"type\":\"table\"}]},\"layout\":{\"annotationdefaults\":{\"arrowcolor\":\"#2a3f5f\",\"arrowhead\":0,\"arrowwidth\":1},\"autotypenumbers\":\"strict\",\"coloraxis\":{\"colorbar\":{\"outlinewidth\":0,\"ticks\":\"\"}},\"colorscale\":{\"diverging\":[[0,\"#8e0152\"],[0.1,\"#c51b7d\"],[0.2,\"#de77ae\"],[0.3,\"#f1b6da\"],[0.4,\"#fde0ef\"],[0.5,\"#f7f7f7\"],[0.6,\"#e6f5d0\"],[0.7,\"#b8e186\"],[0.8,\"#7fbc41\"],[0.9,\"#4d9221\"],[1,\"#276419\"]],\"sequential\":[[0.0,\"#0d0887\"],[0.1111111111111111,\"#46039f\"],[0.2222222222222222,\"#7201a8\"],[0.3333333333333333,\"#9c179e\"],[0.4444444444444444,\"#bd3786\"],[0.5555555555555556,\"#d8576b\"],[0.6666666666666666,\"#ed7953\"],[0.7777777777777778,\"#fb9f3a\"],[0.8888888888888888,\"#fdca26\"],[1.0,\"#f0f921\"]],\"sequentialminus\":[[0.0,\"#0d0887\"],[0.1111111111111111,\"#46039f\"],[0.2222222222222222,\"#7201a8\"],[0.3333333333333333,\"#9c179e\"],[0.4444444444444444,\"#bd3786\"],[0.5555555555555556,\"#d8576b\"],[0.6666666666666666,\"#ed7953\"],[0.7777777777777778,\"#fb9f3a\"],[0.8888888888888888,\"#fdca26\"],[1.0,\"#f0f921\"]]},\"colorway\":[\"#636efa\",\"#EF553B\",\"#00cc96\",\"#ab63fa\",\"#FFA15A\",\"#19d3f3\",\"#FF6692\",\"#B6E880\",\"#FF97FF\",\"#FECB52\"],\"font\":{\"color\":\"#2a3f5f\"},\"geo\":{\"bgcolor\":\"white\",\"lakecolor\":\"white\",\"landcolor\":\"#E5ECF6\",\"showlakes\":true,\"showland\":true,\"subunitcolor\":\"white\"},\"hoverlabel\":{\"align\":\"left\"},\"hovermode\":\"closest\",\"mapbox\":{\"style\":\"light\"},\"paper_bgcolor\":\"white\",\"plot_bgcolor\":\"#E5ECF6\",\"polar\":{\"angularaxis\":{\"gridcolor\":\"white\",\"linecolor\":\"white\",\"ticks\":\"\"},\"bgcolor\":\"#E5ECF6\",\"radialaxis\":{\"gridcolor\":\"white\",\"linecolor\":\"white\",\"ticks\":\"\"}},\"scene\":{\"xaxis\":{\"backgroundcolor\":\"#E5ECF6\",\"gridcolor\":\"white\",\"gridwidth\":2,\"linecolor\":\"white\",\"showbackground\":true,\"ticks\":\"\",\"zerolinecolor\":\"white\"},\"yaxis\":{\"backgroundcolor\":\"#E5ECF6\",\"gridcolor\":\"white\",\"gridwidth\":2,\"linecolor\":\"white\",\"showbackground\":true,\"ticks\":\"\",\"zerolinecolor\":\"white\"},\"zaxis\":{\"backgroundcolor\":\"#E5ECF6\",\"gridcolor\":\"white\",\"gridwidth\":2,\"linecolor\":\"white\",\"showbackground\":true,\"ticks\":\"\",\"zerolinecolor\":\"white\"}},\"shapedefaults\":{\"line\":{\"color\":\"#2a3f5f\"}},\"ternary\":{\"aaxis\":{\"gridcolor\":\"white\",\"linecolor\":\"white\",\"ticks\":\"\"},\"baxis\":{\"gridcolor\":\"white\",\"linecolor\":\"white\",\"ticks\":\"\"},\"bgcolor\":\"#E5ECF6\",\"caxis\":{\"gridcolor\":\"white\",\"linecolor\":\"white\",\"ticks\":\"\"}},\"title\":{\"x\":0.05},\"xaxis\":{\"automargin\":true,\"gridcolor\":\"white\",\"linecolor\":\"white\",\"ticks\":\"\",\"title\":{\"standoff\":15},\"zerolinecolor\":\"white\",\"zerolinewidth\":2},\"yaxis\":{\"automargin\":true,\"gridcolor\":\"white\",\"linecolor\":\"white\",\"ticks\":\"\",\"title\":{\"standoff\":15},\"zerolinecolor\":\"white\",\"zerolinewidth\":2}}},\"width\":800,\"xaxis\":{\"anchor\":\"y\",\"domain\":[0.0,1.0],\"title\":{\"text\":\"Data\"}},\"yaxis\":{\"anchor\":\"x\",\"domain\":[0.0,1.0],\"title\":{\"text\":\"Total gasto pelo clientes\"}}},                        {\"responsive\": true}                    ).then(function(){\n",
       "                            \n",
       "var gd = document.getElementById('a0109438-719e-4c04-9a57-0e3874f31830');\n",
       "var x = new MutationObserver(function (mutations, observer) {{\n",
       "        var display = window.getComputedStyle(gd).display;\n",
       "        if (!display || display === 'none') {{\n",
       "            console.log([gd, 'removed!']);\n",
       "            Plotly.purge(gd);\n",
       "            observer.disconnect();\n",
       "        }}\n",
       "}});\n",
       "\n",
       "// Listen for the removal of the full notebook cells\n",
       "var notebookContainer = gd.closest('#notebook-container');\n",
       "if (notebookContainer) {{\n",
       "    x.observe(notebookContainer, {childList: true});\n",
       "}}\n",
       "\n",
       "// Listen for the clearing of the current output cell\n",
       "var outputEl = gd.closest('.output');\n",
       "if (outputEl) {{\n",
       "    x.observe(outputEl, {childList: true});\n",
       "}}\n",
       "\n",
       "                        })                };                });            </script>        </div>"
      ]
     },
     "metadata": {},
     "output_type": "display_data"
    }
   ],
   "source": [
    "venda_produtos_cliente_pt_grup_temp = venda_produtos_cliente_pt.groupby(\"data\").sum().sort_values('data').reset_index()\n",
    "\n",
    "fig_vendas_tempo = px.line(venda_produtos_cliente_pt_grup_temp, x=\"data\", y=\"total_preco\", labels={\"data\": \"Data\", \"total_preco\": \"Total gasto pelo clientes\"}, height=500, width=800) \n",
    "\n",
    "fig_vendas_tempo.update_layout(\n",
    "                #criando anotações\n",
    "                annotations=[\n",
    "                        {\"x\":\"2021-11-08\", \"y\":1016.66, \"ay\": -40, \n",
    "                        \"text\": \"<b>Maior pico de vendas<br> em novembro</b>\",\n",
    "                        \"arrowhead\": 3, \"showarrow\":True,\n",
    "                        \"font\": {\"size\": 11}}\n",
    "                    ])\n",
    "fig_vendas_tempo.show()"
   ]
  },
  {
   "cell_type": "markdown",
   "id": "97f1a2ce",
   "metadata": {},
   "source": [
    "## Lucro"
   ]
  },
  {
   "cell_type": "code",
   "execution_count": 19,
   "id": "a87aa3da",
   "metadata": {},
   "outputs": [],
   "source": [
    "venda_produtos_cliente[\"lucro\"]=(venda_produtos_cliente[\"preco\"]-venda_produtos_cliente[\"custo\"])*venda_produtos_cliente[\"quantidade\"]"
   ]
  },
  {
   "cell_type": "code",
   "execution_count": 20,
   "id": "e51cebcf",
   "metadata": {},
   "outputs": [
    {
     "data": {
      "text/html": [
       "<div>\n",
       "<style scoped>\n",
       "    .dataframe tbody tr th:only-of-type {\n",
       "        vertical-align: middle;\n",
       "    }\n",
       "\n",
       "    .dataframe tbody tr th {\n",
       "        vertical-align: top;\n",
       "    }\n",
       "\n",
       "    .dataframe thead th {\n",
       "        text-align: right;\n",
       "    }\n",
       "</style>\n",
       "<table border=\"1\" class=\"dataframe\">\n",
       "  <thead>\n",
       "    <tr style=\"text-align: right;\">\n",
       "      <th></th>\n",
       "      <th>id_vendas</th>\n",
       "      <th>id_produtos</th>\n",
       "      <th>quantidade</th>\n",
       "      <th>nome</th>\n",
       "      <th>secao</th>\n",
       "      <th>custo</th>\n",
       "      <th>preco</th>\n",
       "      <th>prateleira</th>\n",
       "      <th>estoque</th>\n",
       "      <th>unidade_de_medida_de_estoque</th>\n",
       "      <th>...</th>\n",
       "      <th>data</th>\n",
       "      <th>nome_cliente</th>\n",
       "      <th>nascimento</th>\n",
       "      <th>endereco</th>\n",
       "      <th>cpf</th>\n",
       "      <th>telefone</th>\n",
       "      <th>usuario</th>\n",
       "      <th>senha</th>\n",
       "      <th>total_preco</th>\n",
       "      <th>lucro</th>\n",
       "    </tr>\n",
       "  </thead>\n",
       "  <tbody>\n",
       "    <tr>\n",
       "      <th>0</th>\n",
       "      <td>0</td>\n",
       "      <td>28</td>\n",
       "      <td>4</td>\n",
       "      <td>amaciante</td>\n",
       "      <td>Produtos de Limpeza</td>\n",
       "      <td>5.19</td>\n",
       "      <td>6.70</td>\n",
       "      <td>8A</td>\n",
       "      <td>12</td>\n",
       "      <td>unidade</td>\n",
       "      <td>...</td>\n",
       "      <td>2021-11-01</td>\n",
       "      <td>Luna Porto</td>\n",
       "      <td>1985-11-23</td>\n",
       "      <td>Trevo de Aragão, 6\\nVila Nova Paraíso\\n31718-7...</td>\n",
       "      <td>194.206.375-06</td>\n",
       "      <td>(011) 6194 8409</td>\n",
       "      <td>hrezende</td>\n",
       "      <td>!48Jw)+vxX)X</td>\n",
       "      <td>26.80</td>\n",
       "      <td>6.04</td>\n",
       "    </tr>\n",
       "    <tr>\n",
       "      <th>1</th>\n",
       "      <td>0</td>\n",
       "      <td>24</td>\n",
       "      <td>2</td>\n",
       "      <td>pastel</td>\n",
       "      <td>Padaria</td>\n",
       "      <td>3.19</td>\n",
       "      <td>4.99</td>\n",
       "      <td>7D</td>\n",
       "      <td>9</td>\n",
       "      <td>unidade</td>\n",
       "      <td>...</td>\n",
       "      <td>2021-11-01</td>\n",
       "      <td>Luna Porto</td>\n",
       "      <td>1985-11-23</td>\n",
       "      <td>Trevo de Aragão, 6\\nVila Nova Paraíso\\n31718-7...</td>\n",
       "      <td>194.206.375-06</td>\n",
       "      <td>(011) 6194 8409</td>\n",
       "      <td>hrezende</td>\n",
       "      <td>!48Jw)+vxX)X</td>\n",
       "      <td>9.98</td>\n",
       "      <td>3.60</td>\n",
       "    </tr>\n",
       "    <tr>\n",
       "      <th>2</th>\n",
       "      <td>0</td>\n",
       "      <td>1</td>\n",
       "      <td>4</td>\n",
       "      <td>melancia</td>\n",
       "      <td>Alimentos em Geral</td>\n",
       "      <td>11.79</td>\n",
       "      <td>15.99</td>\n",
       "      <td>1C</td>\n",
       "      <td>20</td>\n",
       "      <td>unidade</td>\n",
       "      <td>...</td>\n",
       "      <td>2021-11-01</td>\n",
       "      <td>Luna Porto</td>\n",
       "      <td>1985-11-23</td>\n",
       "      <td>Trevo de Aragão, 6\\nVila Nova Paraíso\\n31718-7...</td>\n",
       "      <td>194.206.375-06</td>\n",
       "      <td>(011) 6194 8409</td>\n",
       "      <td>hrezende</td>\n",
       "      <td>!48Jw)+vxX)X</td>\n",
       "      <td>63.96</td>\n",
       "      <td>16.80</td>\n",
       "    </tr>\n",
       "    <tr>\n",
       "      <th>3</th>\n",
       "      <td>0</td>\n",
       "      <td>1</td>\n",
       "      <td>4</td>\n",
       "      <td>melancia</td>\n",
       "      <td>Alimentos em Geral</td>\n",
       "      <td>11.79</td>\n",
       "      <td>15.99</td>\n",
       "      <td>1C</td>\n",
       "      <td>20</td>\n",
       "      <td>unidade</td>\n",
       "      <td>...</td>\n",
       "      <td>2021-11-01</td>\n",
       "      <td>Luna Porto</td>\n",
       "      <td>1985-11-23</td>\n",
       "      <td>Trevo de Aragão, 6\\nVila Nova Paraíso\\n31718-7...</td>\n",
       "      <td>194.206.375-06</td>\n",
       "      <td>(011) 6194 8409</td>\n",
       "      <td>hrezende</td>\n",
       "      <td>!48Jw)+vxX)X</td>\n",
       "      <td>63.96</td>\n",
       "      <td>16.80</td>\n",
       "    </tr>\n",
       "    <tr>\n",
       "      <th>4</th>\n",
       "      <td>0</td>\n",
       "      <td>9</td>\n",
       "      <td>3</td>\n",
       "      <td>feijão</td>\n",
       "      <td>Alimentos em Geral</td>\n",
       "      <td>6.49</td>\n",
       "      <td>8.45</td>\n",
       "      <td>3B</td>\n",
       "      <td>43</td>\n",
       "      <td>kg</td>\n",
       "      <td>...</td>\n",
       "      <td>2021-11-01</td>\n",
       "      <td>Luna Porto</td>\n",
       "      <td>1985-11-23</td>\n",
       "      <td>Trevo de Aragão, 6\\nVila Nova Paraíso\\n31718-7...</td>\n",
       "      <td>194.206.375-06</td>\n",
       "      <td>(011) 6194 8409</td>\n",
       "      <td>hrezende</td>\n",
       "      <td>!48Jw)+vxX)X</td>\n",
       "      <td>25.35</td>\n",
       "      <td>5.88</td>\n",
       "    </tr>\n",
       "    <tr>\n",
       "      <th>...</th>\n",
       "      <td>...</td>\n",
       "      <td>...</td>\n",
       "      <td>...</td>\n",
       "      <td>...</td>\n",
       "      <td>...</td>\n",
       "      <td>...</td>\n",
       "      <td>...</td>\n",
       "      <td>...</td>\n",
       "      <td>...</td>\n",
       "      <td>...</td>\n",
       "      <td>...</td>\n",
       "      <td>...</td>\n",
       "      <td>...</td>\n",
       "      <td>...</td>\n",
       "      <td>...</td>\n",
       "      <td>...</td>\n",
       "      <td>...</td>\n",
       "      <td>...</td>\n",
       "      <td>...</td>\n",
       "      <td>...</td>\n",
       "      <td>...</td>\n",
       "    </tr>\n",
       "    <tr>\n",
       "      <th>2495</th>\n",
       "      <td>336</td>\n",
       "      <td>33</td>\n",
       "      <td>2</td>\n",
       "      <td>rodo</td>\n",
       "      <td>Produtos de Limpeza</td>\n",
       "      <td>2.74</td>\n",
       "      <td>5.99</td>\n",
       "      <td>9C</td>\n",
       "      <td>10</td>\n",
       "      <td>unidade</td>\n",
       "      <td>...</td>\n",
       "      <td>2021-11-22</td>\n",
       "      <td>Yasmin da Paz</td>\n",
       "      <td>1961-12-09</td>\n",
       "      <td>Loteamento de da Cruz\\nPrimeiro De Maio\\n46414...</td>\n",
       "      <td>948.160.357-10</td>\n",
       "      <td>+55 21 0758 3174</td>\n",
       "      <td>pintoeloah</td>\n",
       "      <td>&amp;asFQZq+UT6I</td>\n",
       "      <td>11.98</td>\n",
       "      <td>6.50</td>\n",
       "    </tr>\n",
       "    <tr>\n",
       "      <th>2496</th>\n",
       "      <td>211</td>\n",
       "      <td>26</td>\n",
       "      <td>2</td>\n",
       "      <td>sonho</td>\n",
       "      <td>Padaria</td>\n",
       "      <td>1.79</td>\n",
       "      <td>3.49</td>\n",
       "      <td>6B</td>\n",
       "      <td>20</td>\n",
       "      <td>unidade</td>\n",
       "      <td>...</td>\n",
       "      <td>2021-11-15</td>\n",
       "      <td>Emanuella Gonçalves</td>\n",
       "      <td>1974-02-07</td>\n",
       "      <td>Distrito de Pereira, 60\\nHavaí\\n36536-300 Nova...</td>\n",
       "      <td>702.483.591-50</td>\n",
       "      <td>+55 (071) 6711 2578</td>\n",
       "      <td>juliacarvalho</td>\n",
       "      <td>@g1XwvW9FjqV</td>\n",
       "      <td>6.98</td>\n",
       "      <td>3.40</td>\n",
       "    </tr>\n",
       "    <tr>\n",
       "      <th>2497</th>\n",
       "      <td>213</td>\n",
       "      <td>26</td>\n",
       "      <td>2</td>\n",
       "      <td>sonho</td>\n",
       "      <td>Padaria</td>\n",
       "      <td>1.79</td>\n",
       "      <td>3.49</td>\n",
       "      <td>6B</td>\n",
       "      <td>20</td>\n",
       "      <td>unidade</td>\n",
       "      <td>...</td>\n",
       "      <td>2021-11-15</td>\n",
       "      <td>Bernardo Lopes</td>\n",
       "      <td>1959-07-07</td>\n",
       "      <td>Trevo de Castro, 25\\nUniversitário\\n20393767 M...</td>\n",
       "      <td>745.391.208-32</td>\n",
       "      <td>+55 81 4686 3117</td>\n",
       "      <td>isabel27</td>\n",
       "      <td>p6KYRe1B+^2n</td>\n",
       "      <td>6.98</td>\n",
       "      <td>3.40</td>\n",
       "    </tr>\n",
       "    <tr>\n",
       "      <th>2498</th>\n",
       "      <td>450</td>\n",
       "      <td>33</td>\n",
       "      <td>2</td>\n",
       "      <td>rodo</td>\n",
       "      <td>Produtos de Limpeza</td>\n",
       "      <td>2.74</td>\n",
       "      <td>5.99</td>\n",
       "      <td>9C</td>\n",
       "      <td>10</td>\n",
       "      <td>unidade</td>\n",
       "      <td>...</td>\n",
       "      <td>2021-11-28</td>\n",
       "      <td>Pedro Miguel Costela</td>\n",
       "      <td>1954-01-12</td>\n",
       "      <td>Praça Letícia Almeida, 6\\nBela Vitoria\\n708962...</td>\n",
       "      <td>345.918.067-66</td>\n",
       "      <td>21 7485 6413</td>\n",
       "      <td>lunalima</td>\n",
       "      <td>1xWeBNlv(BDd</td>\n",
       "      <td>11.98</td>\n",
       "      <td>6.50</td>\n",
       "    </tr>\n",
       "    <tr>\n",
       "      <th>2499</th>\n",
       "      <td>468</td>\n",
       "      <td>19</td>\n",
       "      <td>2</td>\n",
       "      <td>peito de frango</td>\n",
       "      <td>Açougue</td>\n",
       "      <td>11.19</td>\n",
       "      <td>16.49</td>\n",
       "      <td>4D</td>\n",
       "      <td>10</td>\n",
       "      <td>kg</td>\n",
       "      <td>...</td>\n",
       "      <td>2021-11-29</td>\n",
       "      <td>Ana Clara da Mota</td>\n",
       "      <td>1979-07-29</td>\n",
       "      <td>Estrada de Porto, 90\\nItaipu\\n31712-122 da Con...</td>\n",
       "      <td>124.809.576-67</td>\n",
       "      <td>(011) 5978-0779</td>\n",
       "      <td>nunesbreno</td>\n",
       "      <td>H@kjYLl8T_1T</td>\n",
       "      <td>32.98</td>\n",
       "      <td>10.60</td>\n",
       "    </tr>\n",
       "  </tbody>\n",
       "</table>\n",
       "<p>2500 rows × 22 columns</p>\n",
       "</div>"
      ],
      "text/plain": [
       "      id_vendas  id_produtos  quantidade             nome  \\\n",
       "0             0           28           4        amaciante   \n",
       "1             0           24           2           pastel   \n",
       "2             0            1           4         melancia   \n",
       "3             0            1           4         melancia   \n",
       "4             0            9           3           feijão   \n",
       "...         ...          ...         ...              ...   \n",
       "2495        336           33           2             rodo   \n",
       "2496        211           26           2            sonho   \n",
       "2497        213           26           2            sonho   \n",
       "2498        450           33           2             rodo   \n",
       "2499        468           19           2  peito de frango   \n",
       "\n",
       "                    secao  custo  preco prateleira  estoque  \\\n",
       "0     Produtos de Limpeza   5.19   6.70         8A       12   \n",
       "1                 Padaria   3.19   4.99         7D        9   \n",
       "2      Alimentos em Geral  11.79  15.99         1C       20   \n",
       "3      Alimentos em Geral  11.79  15.99         1C       20   \n",
       "4      Alimentos em Geral   6.49   8.45         3B       43   \n",
       "...                   ...    ...    ...        ...      ...   \n",
       "2495  Produtos de Limpeza   2.74   5.99         9C       10   \n",
       "2496              Padaria   1.79   3.49         6B       20   \n",
       "2497              Padaria   1.79   3.49         6B       20   \n",
       "2498  Produtos de Limpeza   2.74   5.99         9C       10   \n",
       "2499              Açougue  11.19  16.49         4D       10   \n",
       "\n",
       "     unidade_de_medida_de_estoque  ...        data          nome_cliente  \\\n",
       "0                         unidade  ...  2021-11-01            Luna Porto   \n",
       "1                         unidade  ...  2021-11-01            Luna Porto   \n",
       "2                         unidade  ...  2021-11-01            Luna Porto   \n",
       "3                         unidade  ...  2021-11-01            Luna Porto   \n",
       "4                              kg  ...  2021-11-01            Luna Porto   \n",
       "...                           ...  ...         ...                   ...   \n",
       "2495                      unidade  ...  2021-11-22         Yasmin da Paz   \n",
       "2496                      unidade  ...  2021-11-15   Emanuella Gonçalves   \n",
       "2497                      unidade  ...  2021-11-15        Bernardo Lopes   \n",
       "2498                      unidade  ...  2021-11-28  Pedro Miguel Costela   \n",
       "2499                           kg  ...  2021-11-29     Ana Clara da Mota   \n",
       "\n",
       "      nascimento                                           endereco  \\\n",
       "0     1985-11-23  Trevo de Aragão, 6\\nVila Nova Paraíso\\n31718-7...   \n",
       "1     1985-11-23  Trevo de Aragão, 6\\nVila Nova Paraíso\\n31718-7...   \n",
       "2     1985-11-23  Trevo de Aragão, 6\\nVila Nova Paraíso\\n31718-7...   \n",
       "3     1985-11-23  Trevo de Aragão, 6\\nVila Nova Paraíso\\n31718-7...   \n",
       "4     1985-11-23  Trevo de Aragão, 6\\nVila Nova Paraíso\\n31718-7...   \n",
       "...          ...                                                ...   \n",
       "2495  1961-12-09  Loteamento de da Cruz\\nPrimeiro De Maio\\n46414...   \n",
       "2496  1974-02-07  Distrito de Pereira, 60\\nHavaí\\n36536-300 Nova...   \n",
       "2497  1959-07-07  Trevo de Castro, 25\\nUniversitário\\n20393767 M...   \n",
       "2498  1954-01-12  Praça Letícia Almeida, 6\\nBela Vitoria\\n708962...   \n",
       "2499  1979-07-29  Estrada de Porto, 90\\nItaipu\\n31712-122 da Con...   \n",
       "\n",
       "                 cpf             telefone        usuario         senha  \\\n",
       "0     194.206.375-06      (011) 6194 8409       hrezende  !48Jw)+vxX)X   \n",
       "1     194.206.375-06      (011) 6194 8409       hrezende  !48Jw)+vxX)X   \n",
       "2     194.206.375-06      (011) 6194 8409       hrezende  !48Jw)+vxX)X   \n",
       "3     194.206.375-06      (011) 6194 8409       hrezende  !48Jw)+vxX)X   \n",
       "4     194.206.375-06      (011) 6194 8409       hrezende  !48Jw)+vxX)X   \n",
       "...              ...                  ...            ...           ...   \n",
       "2495  948.160.357-10     +55 21 0758 3174     pintoeloah  &asFQZq+UT6I   \n",
       "2496  702.483.591-50  +55 (071) 6711 2578  juliacarvalho  @g1XwvW9FjqV   \n",
       "2497  745.391.208-32     +55 81 4686 3117       isabel27  p6KYRe1B+^2n   \n",
       "2498  345.918.067-66         21 7485 6413       lunalima  1xWeBNlv(BDd   \n",
       "2499  124.809.576-67      (011) 5978-0779     nunesbreno  H@kjYLl8T_1T   \n",
       "\n",
       "     total_preco  lucro  \n",
       "0          26.80   6.04  \n",
       "1           9.98   3.60  \n",
       "2          63.96  16.80  \n",
       "3          63.96  16.80  \n",
       "4          25.35   5.88  \n",
       "...          ...    ...  \n",
       "2495       11.98   6.50  \n",
       "2496        6.98   3.40  \n",
       "2497        6.98   3.40  \n",
       "2498       11.98   6.50  \n",
       "2499       32.98  10.60  \n",
       "\n",
       "[2500 rows x 22 columns]"
      ]
     },
     "execution_count": 20,
     "metadata": {},
     "output_type": "execute_result"
    }
   ],
   "source": [
    "venda_produtos_cliente"
   ]
  },
  {
   "cell_type": "code",
   "execution_count": 21,
   "id": "21eb629a",
   "metadata": {},
   "outputs": [],
   "source": [
    "venda_produtos_cliente_soma_lucros = venda_produtos_cliente.groupby(\"data\").sum().sort_values('data').reset_index()\n",
    "\n",
    "df_acougue=venda_produtos_cliente[venda_produtos_cliente[\"secao\"]=='Açougue']\n",
    "df_acougue_lucros = df_acougue.groupby(\"data\").sum().sort_values('data').reset_index()\n",
    "\n",
    "df_frutas_e_verduras=venda_produtos_cliente[venda_produtos_cliente[\"secao\"]=='Alimentos em Geral']\n",
    "df_frutas_e_verduras_lucros = df_frutas_e_verduras.groupby(\"data\").sum().sort_values('data').reset_index()\n",
    "\n",
    "df_padaria=venda_produtos_cliente[venda_produtos_cliente[\"secao\"]=='Padaria']\n",
    "df_padaria_lucros = df_padaria.groupby(\"data\").sum().sort_values('data').reset_index()\n",
    "\n",
    "df_produtos_de_limpeza=venda_produtos_cliente[venda_produtos_cliente[\"secao\"]=='Produtos de Limpeza']\n",
    "df_produtos_de_limpeza_lucros = df_produtos_de_limpeza.groupby(\"data\").sum().sort_values('data').reset_index()"
   ]
  },
  {
   "cell_type": "code",
   "execution_count": 22,
   "id": "23f431e1",
   "metadata": {},
   "outputs": [
    {
     "data": {
      "application/vnd.plotly.v1+json": {
       "config": {
        "plotlyServerURL": "https://plot.ly"
       },
       "data": [
        {
         "mode": "markers+lines",
         "name": "Lucro total",
         "type": "scatter",
         "x": [
          "2021-11-01",
          "2021-11-02",
          "2021-11-03",
          "2021-11-04",
          "2021-11-05",
          "2021-11-06",
          "2021-11-07",
          "2021-11-08",
          "2021-11-09",
          "2021-11-10",
          "2021-11-11",
          "2021-11-12",
          "2021-11-13",
          "2021-11-14",
          "2021-11-15",
          "2021-11-16",
          "2021-11-17",
          "2021-11-18",
          "2021-11-19",
          "2021-11-20",
          "2021-11-21",
          "2021-11-22",
          "2021-11-23",
          "2021-11-24",
          "2021-11-25",
          "2021-11-26",
          "2021-11-27",
          "2021-11-28",
          "2021-11-29",
          "2021-11-30"
         ],
         "y": [
          1600.32,
          580.71,
          2307.929999999999,
          1224.2999999999995,
          1990.4499999999987,
          2154.2499999999986,
          3066.3799999999997,
          2155.249999999999,
          1553.9399999999982,
          2674.659999999999,
          2373.4299999999994,
          2965.0399999999977,
          1162.7100000000003,
          3237.9799999999973,
          80.35000000000001,
          146.53999999999996,
          189.51999999999998,
          283.30999999999995,
          388.1899999999999,
          320.92,
          340.34000000000003,
          397.49000000000007,
          344.05999999999995,
          145.21,
          296.84999999999997,
          209.49,
          347.93999999999994,
          204.06999999999996,
          513.5799999999998,
          306.87999999999994
         ]
        },
        {
         "mode": "markers+lines",
         "name": "Lucro por dia no açougue",
         "type": "scatter",
         "x": [
          "2021-11-01",
          "2021-11-02",
          "2021-11-03",
          "2021-11-04",
          "2021-11-05",
          "2021-11-06",
          "2021-11-07",
          "2021-11-08",
          "2021-11-09",
          "2021-11-10",
          "2021-11-11",
          "2021-11-12",
          "2021-11-13",
          "2021-11-14",
          "2021-11-15",
          "2021-11-16",
          "2021-11-17",
          "2021-11-18",
          "2021-11-19",
          "2021-11-20",
          "2021-11-21",
          "2021-11-22",
          "2021-11-23",
          "2021-11-24",
          "2021-11-25",
          "2021-11-26",
          "2021-11-27",
          "2021-11-28",
          "2021-11-29",
          "2021-11-30"
         ],
         "y": [
          739.0099999999996,
          325.11999999999995,
          1110.8399999999997,
          639.42,
          975.57,
          1040.37,
          1609.5199999999995,
          981.3499999999998,
          457.98,
          1405.3599999999994,
          1091.0199999999998,
          1663.2799999999997,
          422.09,
          1727.02,
          17.659999999999997,
          55.83999999999999,
          148.05999999999997,
          69.49999999999997,
          295.78,
          199.84999999999997,
          212.83999999999997,
          114.82,
          198.12999999999994,
          62.579999999999984,
          124.97999999999999,
          120.98999999999998,
          233.90999999999997,
          47.499999999999986,
          148.13999999999996,
          174.83999999999995
         ]
        },
        {
         "mode": "markers+lines",
         "name": "Lucro por dia na seção de frutas e verduras",
         "type": "scatter",
         "x": [
          "2021-11-01",
          "2021-11-02",
          "2021-11-03",
          "2021-11-04",
          "2021-11-05",
          "2021-11-06",
          "2021-11-07",
          "2021-11-08",
          "2021-11-09",
          "2021-11-10",
          "2021-11-11",
          "2021-11-12",
          "2021-11-13",
          "2021-11-14",
          "2021-11-15",
          "2021-11-16",
          "2021-11-17",
          "2021-11-18",
          "2021-11-19",
          "2021-11-20",
          "2021-11-21",
          "2021-11-22",
          "2021-11-23",
          "2021-11-24",
          "2021-11-25",
          "2021-11-26",
          "2021-11-27",
          "2021-11-28",
          "2021-11-29",
          "2021-11-30"
         ],
         "y": [
          235.20999999999995,
          -53.15,
          183.50999999999996,
          30.40999999999997,
          139.45000000000002,
          129.97000000000003,
          266.7799999999999,
          307.5599999999999,
          223.63999999999996,
          127.95,
          123.65000000000008,
          129.18999999999997,
          87.92999999999999,
          199.89000000000004,
          30.189999999999998,
          -40.34000000000001,
          12.06,
          -44.37000000000001,
          -18.560000000000006,
          67.49000000000001,
          -24.560000000000006,
          60.25,
          -41.800000000000004,
          0.79,
          -3.6000000000000005,
          26.3,
          18.379999999999995,
          54.55000000000001,
          2.400000000000001,
          45.08
         ]
        },
        {
         "mode": "markers+lines",
         "name": "Lucro por dia na padaria",
         "type": "scatter",
         "x": [
          "2021-11-01",
          "2021-11-02",
          "2021-11-03",
          "2021-11-04",
          "2021-11-05",
          "2021-11-06",
          "2021-11-07",
          "2021-11-08",
          "2021-11-09",
          "2021-11-10",
          "2021-11-11",
          "2021-11-12",
          "2021-11-13",
          "2021-11-14",
          "2021-11-15",
          "2021-11-16",
          "2021-11-17",
          "2021-11-18",
          "2021-11-19",
          "2021-11-20",
          "2021-11-21",
          "2021-11-22",
          "2021-11-23",
          "2021-11-24",
          "2021-11-25",
          "2021-11-26",
          "2021-11-27",
          "2021-11-28",
          "2021-11-29",
          "2021-11-30"
         ],
         "y": [
          471.74,
          179.18,
          781.1500000000001,
          421.37999999999994,
          586.29,
          689.3999999999999,
          893.14,
          611.4200000000001,
          678.32,
          914.1999999999999,
          874.4499999999999,
          841.5500000000001,
          338.37999999999994,
          851.3700000000002,
          15.3,
          79.35000000000001,
          25.200000000000003,
          244.76,
          99.69,
          42.879999999999995,
          108.89999999999999,
          197.42,
          180.52999999999997,
          69.15,
          138.18,
          46.400000000000006,
          3.4000000000000004,
          56.78,
          249.98000000000002,
          26.840000000000003
         ]
        },
        {
         "mode": "markers+lines",
         "name": "Lucro por dia na seção de limpezas",
         "type": "scatter",
         "x": [
          "2021-11-01",
          "2021-11-02",
          "2021-11-03",
          "2021-11-04",
          "2021-11-05",
          "2021-11-06",
          "2021-11-07",
          "2021-11-08",
          "2021-11-09",
          "2021-11-10",
          "2021-11-11",
          "2021-11-12",
          "2021-11-13",
          "2021-11-14",
          "2021-11-15",
          "2021-11-16",
          "2021-11-17",
          "2021-11-18",
          "2021-11-19",
          "2021-11-20",
          "2021-11-21",
          "2021-11-22",
          "2021-11-23",
          "2021-11-24",
          "2021-11-25",
          "2021-11-26",
          "2021-11-27",
          "2021-11-28",
          "2021-11-29",
          "2021-11-30"
         ],
         "y": [
          154.35999999999996,
          129.55999999999997,
          232.42999999999995,
          133.08999999999997,
          289.1399999999998,
          294.51,
          296.9400000000001,
          254.92,
          194,
          227.14999999999995,
          284.31000000000006,
          331.01999999999975,
          314.31000000000006,
          459.6999999999999,
          17.2,
          51.68999999999999,
          4.2,
          13.419999999999998,
          11.279999999999998,
          10.7,
          43.15999999999999,
          24.999999999999996,
          7.199999999999999,
          12.690000000000001,
          37.28999999999999,
          15.8,
          92.24999999999999,
          45.24000000000001,
          113.05999999999999,
          60.11999999999999
         ]
        }
       ],
       "layout": {
        "font": {
         "color": "black",
         "family": "Arial",
         "size": 14
        },
        "plot_bgcolor": "white",
        "template": {
         "data": {
          "bar": [
           {
            "error_x": {
             "color": "#2a3f5f"
            },
            "error_y": {
             "color": "#2a3f5f"
            },
            "marker": {
             "line": {
              "color": "#E5ECF6",
              "width": 0.5
             },
             "pattern": {
              "fillmode": "overlay",
              "size": 10,
              "solidity": 0.2
             }
            },
            "type": "bar"
           }
          ],
          "barpolar": [
           {
            "marker": {
             "line": {
              "color": "#E5ECF6",
              "width": 0.5
             },
             "pattern": {
              "fillmode": "overlay",
              "size": 10,
              "solidity": 0.2
             }
            },
            "type": "barpolar"
           }
          ],
          "carpet": [
           {
            "aaxis": {
             "endlinecolor": "#2a3f5f",
             "gridcolor": "white",
             "linecolor": "white",
             "minorgridcolor": "white",
             "startlinecolor": "#2a3f5f"
            },
            "baxis": {
             "endlinecolor": "#2a3f5f",
             "gridcolor": "white",
             "linecolor": "white",
             "minorgridcolor": "white",
             "startlinecolor": "#2a3f5f"
            },
            "type": "carpet"
           }
          ],
          "choropleth": [
           {
            "colorbar": {
             "outlinewidth": 0,
             "ticks": ""
            },
            "type": "choropleth"
           }
          ],
          "contour": [
           {
            "colorbar": {
             "outlinewidth": 0,
             "ticks": ""
            },
            "colorscale": [
             [
              0,
              "#0d0887"
             ],
             [
              0.1111111111111111,
              "#46039f"
             ],
             [
              0.2222222222222222,
              "#7201a8"
             ],
             [
              0.3333333333333333,
              "#9c179e"
             ],
             [
              0.4444444444444444,
              "#bd3786"
             ],
             [
              0.5555555555555556,
              "#d8576b"
             ],
             [
              0.6666666666666666,
              "#ed7953"
             ],
             [
              0.7777777777777778,
              "#fb9f3a"
             ],
             [
              0.8888888888888888,
              "#fdca26"
             ],
             [
              1,
              "#f0f921"
             ]
            ],
            "type": "contour"
           }
          ],
          "contourcarpet": [
           {
            "colorbar": {
             "outlinewidth": 0,
             "ticks": ""
            },
            "type": "contourcarpet"
           }
          ],
          "heatmap": [
           {
            "colorbar": {
             "outlinewidth": 0,
             "ticks": ""
            },
            "colorscale": [
             [
              0,
              "#0d0887"
             ],
             [
              0.1111111111111111,
              "#46039f"
             ],
             [
              0.2222222222222222,
              "#7201a8"
             ],
             [
              0.3333333333333333,
              "#9c179e"
             ],
             [
              0.4444444444444444,
              "#bd3786"
             ],
             [
              0.5555555555555556,
              "#d8576b"
             ],
             [
              0.6666666666666666,
              "#ed7953"
             ],
             [
              0.7777777777777778,
              "#fb9f3a"
             ],
             [
              0.8888888888888888,
              "#fdca26"
             ],
             [
              1,
              "#f0f921"
             ]
            ],
            "type": "heatmap"
           }
          ],
          "heatmapgl": [
           {
            "colorbar": {
             "outlinewidth": 0,
             "ticks": ""
            },
            "colorscale": [
             [
              0,
              "#0d0887"
             ],
             [
              0.1111111111111111,
              "#46039f"
             ],
             [
              0.2222222222222222,
              "#7201a8"
             ],
             [
              0.3333333333333333,
              "#9c179e"
             ],
             [
              0.4444444444444444,
              "#bd3786"
             ],
             [
              0.5555555555555556,
              "#d8576b"
             ],
             [
              0.6666666666666666,
              "#ed7953"
             ],
             [
              0.7777777777777778,
              "#fb9f3a"
             ],
             [
              0.8888888888888888,
              "#fdca26"
             ],
             [
              1,
              "#f0f921"
             ]
            ],
            "type": "heatmapgl"
           }
          ],
          "histogram": [
           {
            "marker": {
             "pattern": {
              "fillmode": "overlay",
              "size": 10,
              "solidity": 0.2
             }
            },
            "type": "histogram"
           }
          ],
          "histogram2d": [
           {
            "colorbar": {
             "outlinewidth": 0,
             "ticks": ""
            },
            "colorscale": [
             [
              0,
              "#0d0887"
             ],
             [
              0.1111111111111111,
              "#46039f"
             ],
             [
              0.2222222222222222,
              "#7201a8"
             ],
             [
              0.3333333333333333,
              "#9c179e"
             ],
             [
              0.4444444444444444,
              "#bd3786"
             ],
             [
              0.5555555555555556,
              "#d8576b"
             ],
             [
              0.6666666666666666,
              "#ed7953"
             ],
             [
              0.7777777777777778,
              "#fb9f3a"
             ],
             [
              0.8888888888888888,
              "#fdca26"
             ],
             [
              1,
              "#f0f921"
             ]
            ],
            "type": "histogram2d"
           }
          ],
          "histogram2dcontour": [
           {
            "colorbar": {
             "outlinewidth": 0,
             "ticks": ""
            },
            "colorscale": [
             [
              0,
              "#0d0887"
             ],
             [
              0.1111111111111111,
              "#46039f"
             ],
             [
              0.2222222222222222,
              "#7201a8"
             ],
             [
              0.3333333333333333,
              "#9c179e"
             ],
             [
              0.4444444444444444,
              "#bd3786"
             ],
             [
              0.5555555555555556,
              "#d8576b"
             ],
             [
              0.6666666666666666,
              "#ed7953"
             ],
             [
              0.7777777777777778,
              "#fb9f3a"
             ],
             [
              0.8888888888888888,
              "#fdca26"
             ],
             [
              1,
              "#f0f921"
             ]
            ],
            "type": "histogram2dcontour"
           }
          ],
          "mesh3d": [
           {
            "colorbar": {
             "outlinewidth": 0,
             "ticks": ""
            },
            "type": "mesh3d"
           }
          ],
          "parcoords": [
           {
            "line": {
             "colorbar": {
              "outlinewidth": 0,
              "ticks": ""
             }
            },
            "type": "parcoords"
           }
          ],
          "pie": [
           {
            "automargin": true,
            "type": "pie"
           }
          ],
          "scatter": [
           {
            "marker": {
             "colorbar": {
              "outlinewidth": 0,
              "ticks": ""
             }
            },
            "type": "scatter"
           }
          ],
          "scatter3d": [
           {
            "line": {
             "colorbar": {
              "outlinewidth": 0,
              "ticks": ""
             }
            },
            "marker": {
             "colorbar": {
              "outlinewidth": 0,
              "ticks": ""
             }
            },
            "type": "scatter3d"
           }
          ],
          "scattercarpet": [
           {
            "marker": {
             "colorbar": {
              "outlinewidth": 0,
              "ticks": ""
             }
            },
            "type": "scattercarpet"
           }
          ],
          "scattergeo": [
           {
            "marker": {
             "colorbar": {
              "outlinewidth": 0,
              "ticks": ""
             }
            },
            "type": "scattergeo"
           }
          ],
          "scattergl": [
           {
            "marker": {
             "colorbar": {
              "outlinewidth": 0,
              "ticks": ""
             }
            },
            "type": "scattergl"
           }
          ],
          "scattermapbox": [
           {
            "marker": {
             "colorbar": {
              "outlinewidth": 0,
              "ticks": ""
             }
            },
            "type": "scattermapbox"
           }
          ],
          "scatterpolar": [
           {
            "marker": {
             "colorbar": {
              "outlinewidth": 0,
              "ticks": ""
             }
            },
            "type": "scatterpolar"
           }
          ],
          "scatterpolargl": [
           {
            "marker": {
             "colorbar": {
              "outlinewidth": 0,
              "ticks": ""
             }
            },
            "type": "scatterpolargl"
           }
          ],
          "scatterternary": [
           {
            "marker": {
             "colorbar": {
              "outlinewidth": 0,
              "ticks": ""
             }
            },
            "type": "scatterternary"
           }
          ],
          "surface": [
           {
            "colorbar": {
             "outlinewidth": 0,
             "ticks": ""
            },
            "colorscale": [
             [
              0,
              "#0d0887"
             ],
             [
              0.1111111111111111,
              "#46039f"
             ],
             [
              0.2222222222222222,
              "#7201a8"
             ],
             [
              0.3333333333333333,
              "#9c179e"
             ],
             [
              0.4444444444444444,
              "#bd3786"
             ],
             [
              0.5555555555555556,
              "#d8576b"
             ],
             [
              0.6666666666666666,
              "#ed7953"
             ],
             [
              0.7777777777777778,
              "#fb9f3a"
             ],
             [
              0.8888888888888888,
              "#fdca26"
             ],
             [
              1,
              "#f0f921"
             ]
            ],
            "type": "surface"
           }
          ],
          "table": [
           {
            "cells": {
             "fill": {
              "color": "#EBF0F8"
             },
             "line": {
              "color": "white"
             }
            },
            "header": {
             "fill": {
              "color": "#C8D4E3"
             },
             "line": {
              "color": "white"
             }
            },
            "type": "table"
           }
          ]
         },
         "layout": {
          "annotationdefaults": {
           "arrowcolor": "#2a3f5f",
           "arrowhead": 0,
           "arrowwidth": 1
          },
          "autotypenumbers": "strict",
          "coloraxis": {
           "colorbar": {
            "outlinewidth": 0,
            "ticks": ""
           }
          },
          "colorscale": {
           "diverging": [
            [
             0,
             "#8e0152"
            ],
            [
             0.1,
             "#c51b7d"
            ],
            [
             0.2,
             "#de77ae"
            ],
            [
             0.3,
             "#f1b6da"
            ],
            [
             0.4,
             "#fde0ef"
            ],
            [
             0.5,
             "#f7f7f7"
            ],
            [
             0.6,
             "#e6f5d0"
            ],
            [
             0.7,
             "#b8e186"
            ],
            [
             0.8,
             "#7fbc41"
            ],
            [
             0.9,
             "#4d9221"
            ],
            [
             1,
             "#276419"
            ]
           ],
           "sequential": [
            [
             0,
             "#0d0887"
            ],
            [
             0.1111111111111111,
             "#46039f"
            ],
            [
             0.2222222222222222,
             "#7201a8"
            ],
            [
             0.3333333333333333,
             "#9c179e"
            ],
            [
             0.4444444444444444,
             "#bd3786"
            ],
            [
             0.5555555555555556,
             "#d8576b"
            ],
            [
             0.6666666666666666,
             "#ed7953"
            ],
            [
             0.7777777777777778,
             "#fb9f3a"
            ],
            [
             0.8888888888888888,
             "#fdca26"
            ],
            [
             1,
             "#f0f921"
            ]
           ],
           "sequentialminus": [
            [
             0,
             "#0d0887"
            ],
            [
             0.1111111111111111,
             "#46039f"
            ],
            [
             0.2222222222222222,
             "#7201a8"
            ],
            [
             0.3333333333333333,
             "#9c179e"
            ],
            [
             0.4444444444444444,
             "#bd3786"
            ],
            [
             0.5555555555555556,
             "#d8576b"
            ],
            [
             0.6666666666666666,
             "#ed7953"
            ],
            [
             0.7777777777777778,
             "#fb9f3a"
            ],
            [
             0.8888888888888888,
             "#fdca26"
            ],
            [
             1,
             "#f0f921"
            ]
           ]
          },
          "colorway": [
           "#636efa",
           "#EF553B",
           "#00cc96",
           "#ab63fa",
           "#FFA15A",
           "#19d3f3",
           "#FF6692",
           "#B6E880",
           "#FF97FF",
           "#FECB52"
          ],
          "font": {
           "color": "#2a3f5f"
          },
          "geo": {
           "bgcolor": "white",
           "lakecolor": "white",
           "landcolor": "#E5ECF6",
           "showlakes": true,
           "showland": true,
           "subunitcolor": "white"
          },
          "hoverlabel": {
           "align": "left"
          },
          "hovermode": "closest",
          "mapbox": {
           "style": "light"
          },
          "paper_bgcolor": "white",
          "plot_bgcolor": "#E5ECF6",
          "polar": {
           "angularaxis": {
            "gridcolor": "white",
            "linecolor": "white",
            "ticks": ""
           },
           "bgcolor": "#E5ECF6",
           "radialaxis": {
            "gridcolor": "white",
            "linecolor": "white",
            "ticks": ""
           }
          },
          "scene": {
           "xaxis": {
            "backgroundcolor": "#E5ECF6",
            "gridcolor": "white",
            "gridwidth": 2,
            "linecolor": "white",
            "showbackground": true,
            "ticks": "",
            "zerolinecolor": "white"
           },
           "yaxis": {
            "backgroundcolor": "#E5ECF6",
            "gridcolor": "white",
            "gridwidth": 2,
            "linecolor": "white",
            "showbackground": true,
            "ticks": "",
            "zerolinecolor": "white"
           },
           "zaxis": {
            "backgroundcolor": "#E5ECF6",
            "gridcolor": "white",
            "gridwidth": 2,
            "linecolor": "white",
            "showbackground": true,
            "ticks": "",
            "zerolinecolor": "white"
           }
          },
          "shapedefaults": {
           "line": {
            "color": "#2a3f5f"
           }
          },
          "ternary": {
           "aaxis": {
            "gridcolor": "white",
            "linecolor": "white",
            "ticks": ""
           },
           "baxis": {
            "gridcolor": "white",
            "linecolor": "white",
            "ticks": ""
           },
           "bgcolor": "#E5ECF6",
           "caxis": {
            "gridcolor": "white",
            "linecolor": "white",
            "ticks": ""
           }
          },
          "title": {
           "x": 0.05
          },
          "xaxis": {
           "automargin": true,
           "gridcolor": "white",
           "linecolor": "white",
           "ticks": "",
           "title": {
            "standoff": 15
           },
           "zerolinecolor": "white",
           "zerolinewidth": 2
          },
          "yaxis": {
           "automargin": true,
           "gridcolor": "white",
           "linecolor": "white",
           "ticks": "",
           "title": {
            "standoff": 15
           },
           "zerolinecolor": "white",
           "zerolinewidth": 2
          }
         }
        },
        "title": {
         "text": "Lucro por seção no mês de novembro"
        },
        "xaxis": {
         "gridcolor": "lightgray",
         "gridwidth": 1,
         "linecolor": "black",
         "linewidth": 1,
         "showgrid": true,
         "showline": true,
         "title": {
          "text": "Data"
         }
        },
        "yaxis": {
         "gridcolor": "lightgray",
         "gridwidth": 1,
         "linecolor": "black",
         "linewidth": 1,
         "showgrid": true,
         "showline": true,
         "title": {
          "text": "Lucro"
         }
        }
       }
      },
      "text/html": [
       "<div>                            <div id=\"e6fe5591-0c09-470c-82d4-a4d6c4f16132\" class=\"plotly-graph-div\" style=\"height:525px; width:100%;\"></div>            <script type=\"text/javascript\">                require([\"plotly\"], function(Plotly) {                    window.PLOTLYENV=window.PLOTLYENV || {};                                    if (document.getElementById(\"e6fe5591-0c09-470c-82d4-a4d6c4f16132\")) {                    Plotly.newPlot(                        \"e6fe5591-0c09-470c-82d4-a4d6c4f16132\",                        [{\"mode\":\"markers+lines\",\"name\":\"Lucro total\",\"type\":\"scatter\",\"x\":[\"2021-11-01\",\"2021-11-02\",\"2021-11-03\",\"2021-11-04\",\"2021-11-05\",\"2021-11-06\",\"2021-11-07\",\"2021-11-08\",\"2021-11-09\",\"2021-11-10\",\"2021-11-11\",\"2021-11-12\",\"2021-11-13\",\"2021-11-14\",\"2021-11-15\",\"2021-11-16\",\"2021-11-17\",\"2021-11-18\",\"2021-11-19\",\"2021-11-20\",\"2021-11-21\",\"2021-11-22\",\"2021-11-23\",\"2021-11-24\",\"2021-11-25\",\"2021-11-26\",\"2021-11-27\",\"2021-11-28\",\"2021-11-29\",\"2021-11-30\"],\"y\":[1600.32,580.71,2307.929999999999,1224.2999999999995,1990.4499999999987,2154.2499999999986,3066.3799999999997,2155.249999999999,1553.9399999999982,2674.659999999999,2373.4299999999994,2965.0399999999977,1162.7100000000003,3237.9799999999973,80.35000000000001,146.53999999999996,189.51999999999998,283.30999999999995,388.1899999999999,320.92,340.34000000000003,397.49000000000007,344.05999999999995,145.21,296.84999999999997,209.49,347.93999999999994,204.06999999999996,513.5799999999998,306.87999999999994]},{\"mode\":\"markers+lines\",\"name\":\"Lucro por dia no a\\u00e7ougue\",\"type\":\"scatter\",\"x\":[\"2021-11-01\",\"2021-11-02\",\"2021-11-03\",\"2021-11-04\",\"2021-11-05\",\"2021-11-06\",\"2021-11-07\",\"2021-11-08\",\"2021-11-09\",\"2021-11-10\",\"2021-11-11\",\"2021-11-12\",\"2021-11-13\",\"2021-11-14\",\"2021-11-15\",\"2021-11-16\",\"2021-11-17\",\"2021-11-18\",\"2021-11-19\",\"2021-11-20\",\"2021-11-21\",\"2021-11-22\",\"2021-11-23\",\"2021-11-24\",\"2021-11-25\",\"2021-11-26\",\"2021-11-27\",\"2021-11-28\",\"2021-11-29\",\"2021-11-30\"],\"y\":[739.0099999999996,325.11999999999995,1110.8399999999997,639.42,975.57,1040.37,1609.5199999999995,981.3499999999998,457.98,1405.3599999999994,1091.0199999999998,1663.2799999999997,422.09,1727.02,17.659999999999997,55.83999999999999,148.05999999999997,69.49999999999997,295.78,199.84999999999997,212.83999999999997,114.82,198.12999999999994,62.579999999999984,124.97999999999999,120.98999999999998,233.90999999999997,47.499999999999986,148.13999999999996,174.83999999999995]},{\"mode\":\"markers+lines\",\"name\":\"Lucro por dia na se\\u00e7\\u00e3o de frutas e verduras\",\"type\":\"scatter\",\"x\":[\"2021-11-01\",\"2021-11-02\",\"2021-11-03\",\"2021-11-04\",\"2021-11-05\",\"2021-11-06\",\"2021-11-07\",\"2021-11-08\",\"2021-11-09\",\"2021-11-10\",\"2021-11-11\",\"2021-11-12\",\"2021-11-13\",\"2021-11-14\",\"2021-11-15\",\"2021-11-16\",\"2021-11-17\",\"2021-11-18\",\"2021-11-19\",\"2021-11-20\",\"2021-11-21\",\"2021-11-22\",\"2021-11-23\",\"2021-11-24\",\"2021-11-25\",\"2021-11-26\",\"2021-11-27\",\"2021-11-28\",\"2021-11-29\",\"2021-11-30\"],\"y\":[235.20999999999995,-53.15,183.50999999999996,30.40999999999997,139.45000000000002,129.97000000000003,266.7799999999999,307.5599999999999,223.63999999999996,127.95,123.65000000000008,129.18999999999997,87.92999999999999,199.89000000000004,30.189999999999998,-40.34000000000001,12.06,-44.37000000000001,-18.560000000000006,67.49000000000001,-24.560000000000006,60.25,-41.800000000000004,0.79,-3.6000000000000005,26.3,18.379999999999995,54.55000000000001,2.400000000000001,45.08]},{\"mode\":\"markers+lines\",\"name\":\"Lucro por dia na padaria\",\"type\":\"scatter\",\"x\":[\"2021-11-01\",\"2021-11-02\",\"2021-11-03\",\"2021-11-04\",\"2021-11-05\",\"2021-11-06\",\"2021-11-07\",\"2021-11-08\",\"2021-11-09\",\"2021-11-10\",\"2021-11-11\",\"2021-11-12\",\"2021-11-13\",\"2021-11-14\",\"2021-11-15\",\"2021-11-16\",\"2021-11-17\",\"2021-11-18\",\"2021-11-19\",\"2021-11-20\",\"2021-11-21\",\"2021-11-22\",\"2021-11-23\",\"2021-11-24\",\"2021-11-25\",\"2021-11-26\",\"2021-11-27\",\"2021-11-28\",\"2021-11-29\",\"2021-11-30\"],\"y\":[471.74,179.18,781.1500000000001,421.37999999999994,586.29,689.3999999999999,893.14,611.4200000000001,678.32,914.1999999999999,874.4499999999999,841.5500000000001,338.37999999999994,851.3700000000002,15.3,79.35000000000001,25.200000000000003,244.76,99.69,42.879999999999995,108.89999999999999,197.42,180.52999999999997,69.15,138.18,46.400000000000006,3.4000000000000004,56.78,249.98000000000002,26.840000000000003]},{\"mode\":\"markers+lines\",\"name\":\"Lucro por dia na se\\u00e7\\u00e3o de limpezas\",\"type\":\"scatter\",\"x\":[\"2021-11-01\",\"2021-11-02\",\"2021-11-03\",\"2021-11-04\",\"2021-11-05\",\"2021-11-06\",\"2021-11-07\",\"2021-11-08\",\"2021-11-09\",\"2021-11-10\",\"2021-11-11\",\"2021-11-12\",\"2021-11-13\",\"2021-11-14\",\"2021-11-15\",\"2021-11-16\",\"2021-11-17\",\"2021-11-18\",\"2021-11-19\",\"2021-11-20\",\"2021-11-21\",\"2021-11-22\",\"2021-11-23\",\"2021-11-24\",\"2021-11-25\",\"2021-11-26\",\"2021-11-27\",\"2021-11-28\",\"2021-11-29\",\"2021-11-30\"],\"y\":[154.35999999999996,129.55999999999997,232.42999999999995,133.08999999999997,289.1399999999998,294.51,296.9400000000001,254.92,194.0,227.14999999999995,284.31000000000006,331.01999999999975,314.31000000000006,459.6999999999999,17.2,51.68999999999999,4.2,13.419999999999998,11.279999999999998,10.7,43.15999999999999,24.999999999999996,7.199999999999999,12.690000000000001,37.28999999999999,15.8,92.24999999999999,45.24000000000001,113.05999999999999,60.11999999999999]}],                        {\"font\":{\"color\":\"black\",\"family\":\"Arial\",\"size\":14},\"plot_bgcolor\":\"white\",\"template\":{\"data\":{\"bar\":[{\"error_x\":{\"color\":\"#2a3f5f\"},\"error_y\":{\"color\":\"#2a3f5f\"},\"marker\":{\"line\":{\"color\":\"#E5ECF6\",\"width\":0.5},\"pattern\":{\"fillmode\":\"overlay\",\"size\":10,\"solidity\":0.2}},\"type\":\"bar\"}],\"barpolar\":[{\"marker\":{\"line\":{\"color\":\"#E5ECF6\",\"width\":0.5},\"pattern\":{\"fillmode\":\"overlay\",\"size\":10,\"solidity\":0.2}},\"type\":\"barpolar\"}],\"carpet\":[{\"aaxis\":{\"endlinecolor\":\"#2a3f5f\",\"gridcolor\":\"white\",\"linecolor\":\"white\",\"minorgridcolor\":\"white\",\"startlinecolor\":\"#2a3f5f\"},\"baxis\":{\"endlinecolor\":\"#2a3f5f\",\"gridcolor\":\"white\",\"linecolor\":\"white\",\"minorgridcolor\":\"white\",\"startlinecolor\":\"#2a3f5f\"},\"type\":\"carpet\"}],\"choropleth\":[{\"colorbar\":{\"outlinewidth\":0,\"ticks\":\"\"},\"type\":\"choropleth\"}],\"contour\":[{\"colorbar\":{\"outlinewidth\":0,\"ticks\":\"\"},\"colorscale\":[[0.0,\"#0d0887\"],[0.1111111111111111,\"#46039f\"],[0.2222222222222222,\"#7201a8\"],[0.3333333333333333,\"#9c179e\"],[0.4444444444444444,\"#bd3786\"],[0.5555555555555556,\"#d8576b\"],[0.6666666666666666,\"#ed7953\"],[0.7777777777777778,\"#fb9f3a\"],[0.8888888888888888,\"#fdca26\"],[1.0,\"#f0f921\"]],\"type\":\"contour\"}],\"contourcarpet\":[{\"colorbar\":{\"outlinewidth\":0,\"ticks\":\"\"},\"type\":\"contourcarpet\"}],\"heatmap\":[{\"colorbar\":{\"outlinewidth\":0,\"ticks\":\"\"},\"colorscale\":[[0.0,\"#0d0887\"],[0.1111111111111111,\"#46039f\"],[0.2222222222222222,\"#7201a8\"],[0.3333333333333333,\"#9c179e\"],[0.4444444444444444,\"#bd3786\"],[0.5555555555555556,\"#d8576b\"],[0.6666666666666666,\"#ed7953\"],[0.7777777777777778,\"#fb9f3a\"],[0.8888888888888888,\"#fdca26\"],[1.0,\"#f0f921\"]],\"type\":\"heatmap\"}],\"heatmapgl\":[{\"colorbar\":{\"outlinewidth\":0,\"ticks\":\"\"},\"colorscale\":[[0.0,\"#0d0887\"],[0.1111111111111111,\"#46039f\"],[0.2222222222222222,\"#7201a8\"],[0.3333333333333333,\"#9c179e\"],[0.4444444444444444,\"#bd3786\"],[0.5555555555555556,\"#d8576b\"],[0.6666666666666666,\"#ed7953\"],[0.7777777777777778,\"#fb9f3a\"],[0.8888888888888888,\"#fdca26\"],[1.0,\"#f0f921\"]],\"type\":\"heatmapgl\"}],\"histogram\":[{\"marker\":{\"pattern\":{\"fillmode\":\"overlay\",\"size\":10,\"solidity\":0.2}},\"type\":\"histogram\"}],\"histogram2d\":[{\"colorbar\":{\"outlinewidth\":0,\"ticks\":\"\"},\"colorscale\":[[0.0,\"#0d0887\"],[0.1111111111111111,\"#46039f\"],[0.2222222222222222,\"#7201a8\"],[0.3333333333333333,\"#9c179e\"],[0.4444444444444444,\"#bd3786\"],[0.5555555555555556,\"#d8576b\"],[0.6666666666666666,\"#ed7953\"],[0.7777777777777778,\"#fb9f3a\"],[0.8888888888888888,\"#fdca26\"],[1.0,\"#f0f921\"]],\"type\":\"histogram2d\"}],\"histogram2dcontour\":[{\"colorbar\":{\"outlinewidth\":0,\"ticks\":\"\"},\"colorscale\":[[0.0,\"#0d0887\"],[0.1111111111111111,\"#46039f\"],[0.2222222222222222,\"#7201a8\"],[0.3333333333333333,\"#9c179e\"],[0.4444444444444444,\"#bd3786\"],[0.5555555555555556,\"#d8576b\"],[0.6666666666666666,\"#ed7953\"],[0.7777777777777778,\"#fb9f3a\"],[0.8888888888888888,\"#fdca26\"],[1.0,\"#f0f921\"]],\"type\":\"histogram2dcontour\"}],\"mesh3d\":[{\"colorbar\":{\"outlinewidth\":0,\"ticks\":\"\"},\"type\":\"mesh3d\"}],\"parcoords\":[{\"line\":{\"colorbar\":{\"outlinewidth\":0,\"ticks\":\"\"}},\"type\":\"parcoords\"}],\"pie\":[{\"automargin\":true,\"type\":\"pie\"}],\"scatter\":[{\"marker\":{\"colorbar\":{\"outlinewidth\":0,\"ticks\":\"\"}},\"type\":\"scatter\"}],\"scatter3d\":[{\"line\":{\"colorbar\":{\"outlinewidth\":0,\"ticks\":\"\"}},\"marker\":{\"colorbar\":{\"outlinewidth\":0,\"ticks\":\"\"}},\"type\":\"scatter3d\"}],\"scattercarpet\":[{\"marker\":{\"colorbar\":{\"outlinewidth\":0,\"ticks\":\"\"}},\"type\":\"scattercarpet\"}],\"scattergeo\":[{\"marker\":{\"colorbar\":{\"outlinewidth\":0,\"ticks\":\"\"}},\"type\":\"scattergeo\"}],\"scattergl\":[{\"marker\":{\"colorbar\":{\"outlinewidth\":0,\"ticks\":\"\"}},\"type\":\"scattergl\"}],\"scattermapbox\":[{\"marker\":{\"colorbar\":{\"outlinewidth\":0,\"ticks\":\"\"}},\"type\":\"scattermapbox\"}],\"scatterpolar\":[{\"marker\":{\"colorbar\":{\"outlinewidth\":0,\"ticks\":\"\"}},\"type\":\"scatterpolar\"}],\"scatterpolargl\":[{\"marker\":{\"colorbar\":{\"outlinewidth\":0,\"ticks\":\"\"}},\"type\":\"scatterpolargl\"}],\"scatterternary\":[{\"marker\":{\"colorbar\":{\"outlinewidth\":0,\"ticks\":\"\"}},\"type\":\"scatterternary\"}],\"surface\":[{\"colorbar\":{\"outlinewidth\":0,\"ticks\":\"\"},\"colorscale\":[[0.0,\"#0d0887\"],[0.1111111111111111,\"#46039f\"],[0.2222222222222222,\"#7201a8\"],[0.3333333333333333,\"#9c179e\"],[0.4444444444444444,\"#bd3786\"],[0.5555555555555556,\"#d8576b\"],[0.6666666666666666,\"#ed7953\"],[0.7777777777777778,\"#fb9f3a\"],[0.8888888888888888,\"#fdca26\"],[1.0,\"#f0f921\"]],\"type\":\"surface\"}],\"table\":[{\"cells\":{\"fill\":{\"color\":\"#EBF0F8\"},\"line\":{\"color\":\"white\"}},\"header\":{\"fill\":{\"color\":\"#C8D4E3\"},\"line\":{\"color\":\"white\"}},\"type\":\"table\"}]},\"layout\":{\"annotationdefaults\":{\"arrowcolor\":\"#2a3f5f\",\"arrowhead\":0,\"arrowwidth\":1},\"autotypenumbers\":\"strict\",\"coloraxis\":{\"colorbar\":{\"outlinewidth\":0,\"ticks\":\"\"}},\"colorscale\":{\"diverging\":[[0,\"#8e0152\"],[0.1,\"#c51b7d\"],[0.2,\"#de77ae\"],[0.3,\"#f1b6da\"],[0.4,\"#fde0ef\"],[0.5,\"#f7f7f7\"],[0.6,\"#e6f5d0\"],[0.7,\"#b8e186\"],[0.8,\"#7fbc41\"],[0.9,\"#4d9221\"],[1,\"#276419\"]],\"sequential\":[[0.0,\"#0d0887\"],[0.1111111111111111,\"#46039f\"],[0.2222222222222222,\"#7201a8\"],[0.3333333333333333,\"#9c179e\"],[0.4444444444444444,\"#bd3786\"],[0.5555555555555556,\"#d8576b\"],[0.6666666666666666,\"#ed7953\"],[0.7777777777777778,\"#fb9f3a\"],[0.8888888888888888,\"#fdca26\"],[1.0,\"#f0f921\"]],\"sequentialminus\":[[0.0,\"#0d0887\"],[0.1111111111111111,\"#46039f\"],[0.2222222222222222,\"#7201a8\"],[0.3333333333333333,\"#9c179e\"],[0.4444444444444444,\"#bd3786\"],[0.5555555555555556,\"#d8576b\"],[0.6666666666666666,\"#ed7953\"],[0.7777777777777778,\"#fb9f3a\"],[0.8888888888888888,\"#fdca26\"],[1.0,\"#f0f921\"]]},\"colorway\":[\"#636efa\",\"#EF553B\",\"#00cc96\",\"#ab63fa\",\"#FFA15A\",\"#19d3f3\",\"#FF6692\",\"#B6E880\",\"#FF97FF\",\"#FECB52\"],\"font\":{\"color\":\"#2a3f5f\"},\"geo\":{\"bgcolor\":\"white\",\"lakecolor\":\"white\",\"landcolor\":\"#E5ECF6\",\"showlakes\":true,\"showland\":true,\"subunitcolor\":\"white\"},\"hoverlabel\":{\"align\":\"left\"},\"hovermode\":\"closest\",\"mapbox\":{\"style\":\"light\"},\"paper_bgcolor\":\"white\",\"plot_bgcolor\":\"#E5ECF6\",\"polar\":{\"angularaxis\":{\"gridcolor\":\"white\",\"linecolor\":\"white\",\"ticks\":\"\"},\"bgcolor\":\"#E5ECF6\",\"radialaxis\":{\"gridcolor\":\"white\",\"linecolor\":\"white\",\"ticks\":\"\"}},\"scene\":{\"xaxis\":{\"backgroundcolor\":\"#E5ECF6\",\"gridcolor\":\"white\",\"gridwidth\":2,\"linecolor\":\"white\",\"showbackground\":true,\"ticks\":\"\",\"zerolinecolor\":\"white\"},\"yaxis\":{\"backgroundcolor\":\"#E5ECF6\",\"gridcolor\":\"white\",\"gridwidth\":2,\"linecolor\":\"white\",\"showbackground\":true,\"ticks\":\"\",\"zerolinecolor\":\"white\"},\"zaxis\":{\"backgroundcolor\":\"#E5ECF6\",\"gridcolor\":\"white\",\"gridwidth\":2,\"linecolor\":\"white\",\"showbackground\":true,\"ticks\":\"\",\"zerolinecolor\":\"white\"}},\"shapedefaults\":{\"line\":{\"color\":\"#2a3f5f\"}},\"ternary\":{\"aaxis\":{\"gridcolor\":\"white\",\"linecolor\":\"white\",\"ticks\":\"\"},\"baxis\":{\"gridcolor\":\"white\",\"linecolor\":\"white\",\"ticks\":\"\"},\"bgcolor\":\"#E5ECF6\",\"caxis\":{\"gridcolor\":\"white\",\"linecolor\":\"white\",\"ticks\":\"\"}},\"title\":{\"x\":0.05},\"xaxis\":{\"automargin\":true,\"gridcolor\":\"white\",\"linecolor\":\"white\",\"ticks\":\"\",\"title\":{\"standoff\":15},\"zerolinecolor\":\"white\",\"zerolinewidth\":2},\"yaxis\":{\"automargin\":true,\"gridcolor\":\"white\",\"linecolor\":\"white\",\"ticks\":\"\",\"title\":{\"standoff\":15},\"zerolinecolor\":\"white\",\"zerolinewidth\":2}}},\"title\":{\"text\":\"Lucro por se\\u00e7\\u00e3o no m\\u00eas de novembro\"},\"xaxis\":{\"gridcolor\":\"lightgray\",\"gridwidth\":1,\"linecolor\":\"black\",\"linewidth\":1,\"showgrid\":true,\"showline\":true,\"title\":{\"text\":\"Data\"}},\"yaxis\":{\"gridcolor\":\"lightgray\",\"gridwidth\":1,\"linecolor\":\"black\",\"linewidth\":1,\"showgrid\":true,\"showline\":true,\"title\":{\"text\":\"Lucro\"}}},                        {\"responsive\": true}                    ).then(function(){\n",
       "                            \n",
       "var gd = document.getElementById('e6fe5591-0c09-470c-82d4-a4d6c4f16132');\n",
       "var x = new MutationObserver(function (mutations, observer) {{\n",
       "        var display = window.getComputedStyle(gd).display;\n",
       "        if (!display || display === 'none') {{\n",
       "            console.log([gd, 'removed!']);\n",
       "            Plotly.purge(gd);\n",
       "            observer.disconnect();\n",
       "        }}\n",
       "}});\n",
       "\n",
       "// Listen for the removal of the full notebook cells\n",
       "var notebookContainer = gd.closest('#notebook-container');\n",
       "if (notebookContainer) {{\n",
       "    x.observe(notebookContainer, {childList: true});\n",
       "}}\n",
       "\n",
       "// Listen for the clearing of the current output cell\n",
       "var outputEl = gd.closest('.output');\n",
       "if (outputEl) {{\n",
       "    x.observe(outputEl, {childList: true});\n",
       "}}\n",
       "\n",
       "                        })                };                });            </script>        </div>"
      ]
     },
     "metadata": {},
     "output_type": "display_data"
    }
   ],
   "source": [
    "import plotly.graph_objs as go\n",
    "fig_lucro_tempo = go.Figure()\n",
    "\n",
    "fig_lucro_tempo.add_trace(go.Scatter(x=venda_produtos_cliente_soma_lucros[\"data\"], y=venda_produtos_cliente_soma_lucros[\"lucro\"], \n",
    "              mode = 'markers+lines', name = 'Lucro total'))\n",
    "\n",
    "fig_lucro_tempo.add_trace(go.Scatter(x = df_acougue_lucros[\"data\"],\n",
    "                    y = df_acougue_lucros[\"lucro\"],\n",
    "                    mode = 'markers+lines',\n",
    "                    name = 'Lucro por dia no açougue')) \n",
    "\n",
    "\n",
    "fig_lucro_tempo.add_trace(go.Scatter(x = df_frutas_e_verduras_lucros[\"data\"],\n",
    "                    y = df_frutas_e_verduras_lucros[\"lucro\"],\n",
    "                    mode = 'markers+lines',\n",
    "                    name = 'Lucro por dia na seção de frutas e verduras'))\n",
    "\n",
    "\n",
    "fig_lucro_tempo.add_trace(go.Scatter(x = df_padaria_lucros[\"data\"],\n",
    "                    y = df_padaria_lucros[\"lucro\"],\n",
    "                    mode = 'markers+lines',\n",
    "                    name = 'Lucro por dia na padaria')) \n",
    "\n",
    "\n",
    "fig_lucro_tempo.add_trace(go.Scatter(x = df_produtos_de_limpeza_lucros[\"data\"],\n",
    "                    y = df_produtos_de_limpeza_lucros[\"lucro\"],\n",
    "                    mode = 'markers+lines',\n",
    "                    name = 'Lucro por dia na seção de limpezas')) \n",
    "\n",
    "fig_lucro_tempo.update_layout(title='Lucro por seção no mês de novembro',\n",
    "xaxis_title='Data',\n",
    "yaxis_title='Lucro',\n",
    "plot_bgcolor = 'white',\n",
    "font = {'family': 'Arial','size': 14,'color': 'black'})\n",
    "fig_lucro_tempo.update_xaxes( showgrid=True, gridwidth=1, gridcolor='lightgray',\n",
    "showline=True, linewidth=1, linecolor='black')\n",
    "fig_lucro_tempo.update_yaxes(showgrid=True, gridwidth=1, gridcolor='lightgray',\n",
    "showline=True, linewidth=1, linecolor='black')\n",
    "fig_lucro_tempo.show()"
   ]
  },
  {
   "cell_type": "code",
   "execution_count": null,
   "id": "0f518b78",
   "metadata": {},
   "outputs": [],
   "source": []
  },
  {
   "cell_type": "code",
   "execution_count": 79,
   "id": "ffea88e2",
   "metadata": {},
   "outputs": [
    {
     "data": {
      "application/vnd.plotly.v1+json": {
       "config": {
        "plotlyServerURL": "https://plot.ly"
       },
       "data": [
        {
         "alignmentgroup": "True",
         "hovertemplate": "Seção=%{y}<br>Lucro=%{x}<extra></extra>",
         "legendgroup": "Açougue",
         "marker": {
          "color": "#EF553B",
          "pattern": {
           "shape": ""
          }
         },
         "name": "Açougue",
         "offsetgroup": "Açougue",
         "orientation": "h",
         "showlegend": true,
         "textposition": "auto",
         "type": "bar",
         "x": [
          16413.370000000017
         ],
         "xaxis": "x",
         "y": [
          "Açougue"
         ],
         "yaxis": "y"
        },
        {
         "alignmentgroup": "True",
         "hovertemplate": "Seção=%{y}<br>Lucro=%{x}<extra></extra>",
         "legendgroup": "Padaria",
         "marker": {
          "color": "#AB63FA",
          "pattern": {
           "shape": ""
          }
         },
         "name": "Padaria",
         "offsetgroup": "Padaria",
         "orientation": "h",
         "showlegend": true,
         "textposition": "auto",
         "type": "bar",
         "x": [
          10716.730000000007
         ],
         "xaxis": "x",
         "y": [
          "Padaria"
         ],
         "yaxis": "y"
        },
        {
         "alignmentgroup": "True",
         "hovertemplate": "Seção=%{y}<br>Lucro=%{x}<extra></extra>",
         "legendgroup": "Produtos de Limpeza",
         "marker": {
          "color": "#FFA15A",
          "pattern": {
           "shape": ""
          }
         },
         "name": "Produtos de Limpeza",
         "offsetgroup": "Produtos de Limpeza",
         "orientation": "h",
         "showlegend": true,
         "textposition": "auto",
         "type": "bar",
         "x": [
          4155.7399999999925
         ],
         "xaxis": "x",
         "y": [
          "Produtos de Limpeza"
         ],
         "yaxis": "y"
        },
        {
         "alignmentgroup": "True",
         "hovertemplate": "Seção=%{y}<br>Lucro=%{x}<extra></extra>",
         "legendgroup": "Alimentos em Geral",
         "marker": {
          "color": "#00CC96",
          "pattern": {
           "shape": ""
          }
         },
         "name": "Alimentos em Geral",
         "offsetgroup": "Alimentos em Geral",
         "orientation": "h",
         "showlegend": true,
         "textposition": "auto",
         "type": "bar",
         "x": [
          2276.249999999996
         ],
         "xaxis": "x",
         "y": [
          "Alimentos em Geral"
         ],
         "yaxis": "y"
        }
       ],
       "layout": {
        "barmode": "stack",
        "legend": {
         "title": {
          "text": "Seção"
         },
         "tracegroupgap": 0
        },
        "margin": {
         "t": 60
        },
        "template": {
         "data": {
          "bar": [
           {
            "error_x": {
             "color": "#2a3f5f"
            },
            "error_y": {
             "color": "#2a3f5f"
            },
            "marker": {
             "line": {
              "color": "#E5ECF6",
              "width": 0.5
             },
             "pattern": {
              "fillmode": "overlay",
              "size": 10,
              "solidity": 0.2
             }
            },
            "type": "bar"
           }
          ],
          "barpolar": [
           {
            "marker": {
             "line": {
              "color": "#E5ECF6",
              "width": 0.5
             },
             "pattern": {
              "fillmode": "overlay",
              "size": 10,
              "solidity": 0.2
             }
            },
            "type": "barpolar"
           }
          ],
          "carpet": [
           {
            "aaxis": {
             "endlinecolor": "#2a3f5f",
             "gridcolor": "white",
             "linecolor": "white",
             "minorgridcolor": "white",
             "startlinecolor": "#2a3f5f"
            },
            "baxis": {
             "endlinecolor": "#2a3f5f",
             "gridcolor": "white",
             "linecolor": "white",
             "minorgridcolor": "white",
             "startlinecolor": "#2a3f5f"
            },
            "type": "carpet"
           }
          ],
          "choropleth": [
           {
            "colorbar": {
             "outlinewidth": 0,
             "ticks": ""
            },
            "type": "choropleth"
           }
          ],
          "contour": [
           {
            "colorbar": {
             "outlinewidth": 0,
             "ticks": ""
            },
            "colorscale": [
             [
              0,
              "#0d0887"
             ],
             [
              0.1111111111111111,
              "#46039f"
             ],
             [
              0.2222222222222222,
              "#7201a8"
             ],
             [
              0.3333333333333333,
              "#9c179e"
             ],
             [
              0.4444444444444444,
              "#bd3786"
             ],
             [
              0.5555555555555556,
              "#d8576b"
             ],
             [
              0.6666666666666666,
              "#ed7953"
             ],
             [
              0.7777777777777778,
              "#fb9f3a"
             ],
             [
              0.8888888888888888,
              "#fdca26"
             ],
             [
              1,
              "#f0f921"
             ]
            ],
            "type": "contour"
           }
          ],
          "contourcarpet": [
           {
            "colorbar": {
             "outlinewidth": 0,
             "ticks": ""
            },
            "type": "contourcarpet"
           }
          ],
          "heatmap": [
           {
            "colorbar": {
             "outlinewidth": 0,
             "ticks": ""
            },
            "colorscale": [
             [
              0,
              "#0d0887"
             ],
             [
              0.1111111111111111,
              "#46039f"
             ],
             [
              0.2222222222222222,
              "#7201a8"
             ],
             [
              0.3333333333333333,
              "#9c179e"
             ],
             [
              0.4444444444444444,
              "#bd3786"
             ],
             [
              0.5555555555555556,
              "#d8576b"
             ],
             [
              0.6666666666666666,
              "#ed7953"
             ],
             [
              0.7777777777777778,
              "#fb9f3a"
             ],
             [
              0.8888888888888888,
              "#fdca26"
             ],
             [
              1,
              "#f0f921"
             ]
            ],
            "type": "heatmap"
           }
          ],
          "heatmapgl": [
           {
            "colorbar": {
             "outlinewidth": 0,
             "ticks": ""
            },
            "colorscale": [
             [
              0,
              "#0d0887"
             ],
             [
              0.1111111111111111,
              "#46039f"
             ],
             [
              0.2222222222222222,
              "#7201a8"
             ],
             [
              0.3333333333333333,
              "#9c179e"
             ],
             [
              0.4444444444444444,
              "#bd3786"
             ],
             [
              0.5555555555555556,
              "#d8576b"
             ],
             [
              0.6666666666666666,
              "#ed7953"
             ],
             [
              0.7777777777777778,
              "#fb9f3a"
             ],
             [
              0.8888888888888888,
              "#fdca26"
             ],
             [
              1,
              "#f0f921"
             ]
            ],
            "type": "heatmapgl"
           }
          ],
          "histogram": [
           {
            "marker": {
             "pattern": {
              "fillmode": "overlay",
              "size": 10,
              "solidity": 0.2
             }
            },
            "type": "histogram"
           }
          ],
          "histogram2d": [
           {
            "colorbar": {
             "outlinewidth": 0,
             "ticks": ""
            },
            "colorscale": [
             [
              0,
              "#0d0887"
             ],
             [
              0.1111111111111111,
              "#46039f"
             ],
             [
              0.2222222222222222,
              "#7201a8"
             ],
             [
              0.3333333333333333,
              "#9c179e"
             ],
             [
              0.4444444444444444,
              "#bd3786"
             ],
             [
              0.5555555555555556,
              "#d8576b"
             ],
             [
              0.6666666666666666,
              "#ed7953"
             ],
             [
              0.7777777777777778,
              "#fb9f3a"
             ],
             [
              0.8888888888888888,
              "#fdca26"
             ],
             [
              1,
              "#f0f921"
             ]
            ],
            "type": "histogram2d"
           }
          ],
          "histogram2dcontour": [
           {
            "colorbar": {
             "outlinewidth": 0,
             "ticks": ""
            },
            "colorscale": [
             [
              0,
              "#0d0887"
             ],
             [
              0.1111111111111111,
              "#46039f"
             ],
             [
              0.2222222222222222,
              "#7201a8"
             ],
             [
              0.3333333333333333,
              "#9c179e"
             ],
             [
              0.4444444444444444,
              "#bd3786"
             ],
             [
              0.5555555555555556,
              "#d8576b"
             ],
             [
              0.6666666666666666,
              "#ed7953"
             ],
             [
              0.7777777777777778,
              "#fb9f3a"
             ],
             [
              0.8888888888888888,
              "#fdca26"
             ],
             [
              1,
              "#f0f921"
             ]
            ],
            "type": "histogram2dcontour"
           }
          ],
          "mesh3d": [
           {
            "colorbar": {
             "outlinewidth": 0,
             "ticks": ""
            },
            "type": "mesh3d"
           }
          ],
          "parcoords": [
           {
            "line": {
             "colorbar": {
              "outlinewidth": 0,
              "ticks": ""
             }
            },
            "type": "parcoords"
           }
          ],
          "pie": [
           {
            "automargin": true,
            "type": "pie"
           }
          ],
          "scatter": [
           {
            "marker": {
             "colorbar": {
              "outlinewidth": 0,
              "ticks": ""
             }
            },
            "type": "scatter"
           }
          ],
          "scatter3d": [
           {
            "line": {
             "colorbar": {
              "outlinewidth": 0,
              "ticks": ""
             }
            },
            "marker": {
             "colorbar": {
              "outlinewidth": 0,
              "ticks": ""
             }
            },
            "type": "scatter3d"
           }
          ],
          "scattercarpet": [
           {
            "marker": {
             "colorbar": {
              "outlinewidth": 0,
              "ticks": ""
             }
            },
            "type": "scattercarpet"
           }
          ],
          "scattergeo": [
           {
            "marker": {
             "colorbar": {
              "outlinewidth": 0,
              "ticks": ""
             }
            },
            "type": "scattergeo"
           }
          ],
          "scattergl": [
           {
            "marker": {
             "colorbar": {
              "outlinewidth": 0,
              "ticks": ""
             }
            },
            "type": "scattergl"
           }
          ],
          "scattermapbox": [
           {
            "marker": {
             "colorbar": {
              "outlinewidth": 0,
              "ticks": ""
             }
            },
            "type": "scattermapbox"
           }
          ],
          "scatterpolar": [
           {
            "marker": {
             "colorbar": {
              "outlinewidth": 0,
              "ticks": ""
             }
            },
            "type": "scatterpolar"
           }
          ],
          "scatterpolargl": [
           {
            "marker": {
             "colorbar": {
              "outlinewidth": 0,
              "ticks": ""
             }
            },
            "type": "scatterpolargl"
           }
          ],
          "scatterternary": [
           {
            "marker": {
             "colorbar": {
              "outlinewidth": 0,
              "ticks": ""
             }
            },
            "type": "scatterternary"
           }
          ],
          "surface": [
           {
            "colorbar": {
             "outlinewidth": 0,
             "ticks": ""
            },
            "colorscale": [
             [
              0,
              "#0d0887"
             ],
             [
              0.1111111111111111,
              "#46039f"
             ],
             [
              0.2222222222222222,
              "#7201a8"
             ],
             [
              0.3333333333333333,
              "#9c179e"
             ],
             [
              0.4444444444444444,
              "#bd3786"
             ],
             [
              0.5555555555555556,
              "#d8576b"
             ],
             [
              0.6666666666666666,
              "#ed7953"
             ],
             [
              0.7777777777777778,
              "#fb9f3a"
             ],
             [
              0.8888888888888888,
              "#fdca26"
             ],
             [
              1,
              "#f0f921"
             ]
            ],
            "type": "surface"
           }
          ],
          "table": [
           {
            "cells": {
             "fill": {
              "color": "#EBF0F8"
             },
             "line": {
              "color": "white"
             }
            },
            "header": {
             "fill": {
              "color": "#C8D4E3"
             },
             "line": {
              "color": "white"
             }
            },
            "type": "table"
           }
          ]
         },
         "layout": {
          "annotationdefaults": {
           "arrowcolor": "#2a3f5f",
           "arrowhead": 0,
           "arrowwidth": 1
          },
          "autotypenumbers": "strict",
          "coloraxis": {
           "colorbar": {
            "outlinewidth": 0,
            "ticks": ""
           }
          },
          "colorscale": {
           "diverging": [
            [
             0,
             "#8e0152"
            ],
            [
             0.1,
             "#c51b7d"
            ],
            [
             0.2,
             "#de77ae"
            ],
            [
             0.3,
             "#f1b6da"
            ],
            [
             0.4,
             "#fde0ef"
            ],
            [
             0.5,
             "#f7f7f7"
            ],
            [
             0.6,
             "#e6f5d0"
            ],
            [
             0.7,
             "#b8e186"
            ],
            [
             0.8,
             "#7fbc41"
            ],
            [
             0.9,
             "#4d9221"
            ],
            [
             1,
             "#276419"
            ]
           ],
           "sequential": [
            [
             0,
             "#0d0887"
            ],
            [
             0.1111111111111111,
             "#46039f"
            ],
            [
             0.2222222222222222,
             "#7201a8"
            ],
            [
             0.3333333333333333,
             "#9c179e"
            ],
            [
             0.4444444444444444,
             "#bd3786"
            ],
            [
             0.5555555555555556,
             "#d8576b"
            ],
            [
             0.6666666666666666,
             "#ed7953"
            ],
            [
             0.7777777777777778,
             "#fb9f3a"
            ],
            [
             0.8888888888888888,
             "#fdca26"
            ],
            [
             1,
             "#f0f921"
            ]
           ],
           "sequentialminus": [
            [
             0,
             "#0d0887"
            ],
            [
             0.1111111111111111,
             "#46039f"
            ],
            [
             0.2222222222222222,
             "#7201a8"
            ],
            [
             0.3333333333333333,
             "#9c179e"
            ],
            [
             0.4444444444444444,
             "#bd3786"
            ],
            [
             0.5555555555555556,
             "#d8576b"
            ],
            [
             0.6666666666666666,
             "#ed7953"
            ],
            [
             0.7777777777777778,
             "#fb9f3a"
            ],
            [
             0.8888888888888888,
             "#fdca26"
            ],
            [
             1,
             "#f0f921"
            ]
           ]
          },
          "colorway": [
           "#636efa",
           "#EF553B",
           "#00cc96",
           "#ab63fa",
           "#FFA15A",
           "#19d3f3",
           "#FF6692",
           "#B6E880",
           "#FF97FF",
           "#FECB52"
          ],
          "font": {
           "color": "#2a3f5f"
          },
          "geo": {
           "bgcolor": "white",
           "lakecolor": "white",
           "landcolor": "#E5ECF6",
           "showlakes": true,
           "showland": true,
           "subunitcolor": "white"
          },
          "hoverlabel": {
           "align": "left"
          },
          "hovermode": "closest",
          "mapbox": {
           "style": "light"
          },
          "paper_bgcolor": "white",
          "plot_bgcolor": "#E5ECF6",
          "polar": {
           "angularaxis": {
            "gridcolor": "white",
            "linecolor": "white",
            "ticks": ""
           },
           "bgcolor": "#E5ECF6",
           "radialaxis": {
            "gridcolor": "white",
            "linecolor": "white",
            "ticks": ""
           }
          },
          "scene": {
           "xaxis": {
            "backgroundcolor": "#E5ECF6",
            "gridcolor": "white",
            "gridwidth": 2,
            "linecolor": "white",
            "showbackground": true,
            "ticks": "",
            "zerolinecolor": "white"
           },
           "yaxis": {
            "backgroundcolor": "#E5ECF6",
            "gridcolor": "white",
            "gridwidth": 2,
            "linecolor": "white",
            "showbackground": true,
            "ticks": "",
            "zerolinecolor": "white"
           },
           "zaxis": {
            "backgroundcolor": "#E5ECF6",
            "gridcolor": "white",
            "gridwidth": 2,
            "linecolor": "white",
            "showbackground": true,
            "ticks": "",
            "zerolinecolor": "white"
           }
          },
          "shapedefaults": {
           "line": {
            "color": "#2a3f5f"
           }
          },
          "ternary": {
           "aaxis": {
            "gridcolor": "white",
            "linecolor": "white",
            "ticks": ""
           },
           "baxis": {
            "gridcolor": "white",
            "linecolor": "white",
            "ticks": ""
           },
           "bgcolor": "#E5ECF6",
           "caxis": {
            "gridcolor": "white",
            "linecolor": "white",
            "ticks": ""
           }
          },
          "title": {
           "x": 0.05
          },
          "xaxis": {
           "automargin": true,
           "gridcolor": "white",
           "linecolor": "white",
           "ticks": "",
           "title": {
            "standoff": 15
           },
           "zerolinecolor": "white",
           "zerolinewidth": 2
          },
          "yaxis": {
           "automargin": true,
           "gridcolor": "white",
           "linecolor": "white",
           "ticks": "",
           "title": {
            "standoff": 15
           },
           "zerolinecolor": "white",
           "zerolinewidth": 2
          }
         }
        },
        "title": {
         "text": "Lucros por seção"
        },
        "xaxis": {
         "anchor": "y",
         "domain": [
          0,
          1
         ],
         "title": {
          "text": "Lucro"
         }
        },
        "yaxis": {
         "anchor": "x",
         "categoryarray": [
          "Alimentos em Geral",
          "Produtos de Limpeza",
          "Padaria",
          "Açougue"
         ],
         "categoryorder": "total descending",
         "domain": [
          0,
          1
         ],
         "title": {
          "text": "Seção"
         }
        }
       }
      },
      "text/html": [
       "<div>                            <div id=\"fd4a3e6e-7cda-4b41-95a4-34a7fd1d01c9\" class=\"plotly-graph-div\" style=\"height:525px; width:100%;\"></div>            <script type=\"text/javascript\">                require([\"plotly\"], function(Plotly) {                    window.PLOTLYENV=window.PLOTLYENV || {};                                    if (document.getElementById(\"fd4a3e6e-7cda-4b41-95a4-34a7fd1d01c9\")) {                    Plotly.newPlot(                        \"fd4a3e6e-7cda-4b41-95a4-34a7fd1d01c9\",                        [{\"alignmentgroup\":\"True\",\"hovertemplate\":\"Se\\u00e7\\u00e3o=%{y}<br>Lucro=%{x}<extra></extra>\",\"legendgroup\":\"A\\u00e7ougue\",\"marker\":{\"color\":\"#EF553B\",\"pattern\":{\"shape\":\"\"}},\"name\":\"A\\u00e7ougue\",\"offsetgroup\":\"A\\u00e7ougue\",\"orientation\":\"h\",\"showlegend\":true,\"textposition\":\"auto\",\"type\":\"bar\",\"x\":[16413.370000000017],\"xaxis\":\"x\",\"y\":[\"A\\u00e7ougue\"],\"yaxis\":\"y\"},{\"alignmentgroup\":\"True\",\"hovertemplate\":\"Se\\u00e7\\u00e3o=%{y}<br>Lucro=%{x}<extra></extra>\",\"legendgroup\":\"Padaria\",\"marker\":{\"color\":\"#AB63FA\",\"pattern\":{\"shape\":\"\"}},\"name\":\"Padaria\",\"offsetgroup\":\"Padaria\",\"orientation\":\"h\",\"showlegend\":true,\"textposition\":\"auto\",\"type\":\"bar\",\"x\":[10716.730000000007],\"xaxis\":\"x\",\"y\":[\"Padaria\"],\"yaxis\":\"y\"},{\"alignmentgroup\":\"True\",\"hovertemplate\":\"Se\\u00e7\\u00e3o=%{y}<br>Lucro=%{x}<extra></extra>\",\"legendgroup\":\"Produtos de Limpeza\",\"marker\":{\"color\":\"#FFA15A\",\"pattern\":{\"shape\":\"\"}},\"name\":\"Produtos de Limpeza\",\"offsetgroup\":\"Produtos de Limpeza\",\"orientation\":\"h\",\"showlegend\":true,\"textposition\":\"auto\",\"type\":\"bar\",\"x\":[4155.7399999999925],\"xaxis\":\"x\",\"y\":[\"Produtos de Limpeza\"],\"yaxis\":\"y\"},{\"alignmentgroup\":\"True\",\"hovertemplate\":\"Se\\u00e7\\u00e3o=%{y}<br>Lucro=%{x}<extra></extra>\",\"legendgroup\":\"Alimentos em Geral\",\"marker\":{\"color\":\"#00CC96\",\"pattern\":{\"shape\":\"\"}},\"name\":\"Alimentos em Geral\",\"offsetgroup\":\"Alimentos em Geral\",\"orientation\":\"h\",\"showlegend\":true,\"textposition\":\"auto\",\"type\":\"bar\",\"x\":[2276.249999999996],\"xaxis\":\"x\",\"y\":[\"Alimentos em Geral\"],\"yaxis\":\"y\"}],                        {\"barmode\":\"stack\",\"legend\":{\"title\":{\"text\":\"Se\\u00e7\\u00e3o\"},\"tracegroupgap\":0},\"margin\":{\"t\":60},\"template\":{\"data\":{\"bar\":[{\"error_x\":{\"color\":\"#2a3f5f\"},\"error_y\":{\"color\":\"#2a3f5f\"},\"marker\":{\"line\":{\"color\":\"#E5ECF6\",\"width\":0.5},\"pattern\":{\"fillmode\":\"overlay\",\"size\":10,\"solidity\":0.2}},\"type\":\"bar\"}],\"barpolar\":[{\"marker\":{\"line\":{\"color\":\"#E5ECF6\",\"width\":0.5},\"pattern\":{\"fillmode\":\"overlay\",\"size\":10,\"solidity\":0.2}},\"type\":\"barpolar\"}],\"carpet\":[{\"aaxis\":{\"endlinecolor\":\"#2a3f5f\",\"gridcolor\":\"white\",\"linecolor\":\"white\",\"minorgridcolor\":\"white\",\"startlinecolor\":\"#2a3f5f\"},\"baxis\":{\"endlinecolor\":\"#2a3f5f\",\"gridcolor\":\"white\",\"linecolor\":\"white\",\"minorgridcolor\":\"white\",\"startlinecolor\":\"#2a3f5f\"},\"type\":\"carpet\"}],\"choropleth\":[{\"colorbar\":{\"outlinewidth\":0,\"ticks\":\"\"},\"type\":\"choropleth\"}],\"contour\":[{\"colorbar\":{\"outlinewidth\":0,\"ticks\":\"\"},\"colorscale\":[[0.0,\"#0d0887\"],[0.1111111111111111,\"#46039f\"],[0.2222222222222222,\"#7201a8\"],[0.3333333333333333,\"#9c179e\"],[0.4444444444444444,\"#bd3786\"],[0.5555555555555556,\"#d8576b\"],[0.6666666666666666,\"#ed7953\"],[0.7777777777777778,\"#fb9f3a\"],[0.8888888888888888,\"#fdca26\"],[1.0,\"#f0f921\"]],\"type\":\"contour\"}],\"contourcarpet\":[{\"colorbar\":{\"outlinewidth\":0,\"ticks\":\"\"},\"type\":\"contourcarpet\"}],\"heatmap\":[{\"colorbar\":{\"outlinewidth\":0,\"ticks\":\"\"},\"colorscale\":[[0.0,\"#0d0887\"],[0.1111111111111111,\"#46039f\"],[0.2222222222222222,\"#7201a8\"],[0.3333333333333333,\"#9c179e\"],[0.4444444444444444,\"#bd3786\"],[0.5555555555555556,\"#d8576b\"],[0.6666666666666666,\"#ed7953\"],[0.7777777777777778,\"#fb9f3a\"],[0.8888888888888888,\"#fdca26\"],[1.0,\"#f0f921\"]],\"type\":\"heatmap\"}],\"heatmapgl\":[{\"colorbar\":{\"outlinewidth\":0,\"ticks\":\"\"},\"colorscale\":[[0.0,\"#0d0887\"],[0.1111111111111111,\"#46039f\"],[0.2222222222222222,\"#7201a8\"],[0.3333333333333333,\"#9c179e\"],[0.4444444444444444,\"#bd3786\"],[0.5555555555555556,\"#d8576b\"],[0.6666666666666666,\"#ed7953\"],[0.7777777777777778,\"#fb9f3a\"],[0.8888888888888888,\"#fdca26\"],[1.0,\"#f0f921\"]],\"type\":\"heatmapgl\"}],\"histogram\":[{\"marker\":{\"pattern\":{\"fillmode\":\"overlay\",\"size\":10,\"solidity\":0.2}},\"type\":\"histogram\"}],\"histogram2d\":[{\"colorbar\":{\"outlinewidth\":0,\"ticks\":\"\"},\"colorscale\":[[0.0,\"#0d0887\"],[0.1111111111111111,\"#46039f\"],[0.2222222222222222,\"#7201a8\"],[0.3333333333333333,\"#9c179e\"],[0.4444444444444444,\"#bd3786\"],[0.5555555555555556,\"#d8576b\"],[0.6666666666666666,\"#ed7953\"],[0.7777777777777778,\"#fb9f3a\"],[0.8888888888888888,\"#fdca26\"],[1.0,\"#f0f921\"]],\"type\":\"histogram2d\"}],\"histogram2dcontour\":[{\"colorbar\":{\"outlinewidth\":0,\"ticks\":\"\"},\"colorscale\":[[0.0,\"#0d0887\"],[0.1111111111111111,\"#46039f\"],[0.2222222222222222,\"#7201a8\"],[0.3333333333333333,\"#9c179e\"],[0.4444444444444444,\"#bd3786\"],[0.5555555555555556,\"#d8576b\"],[0.6666666666666666,\"#ed7953\"],[0.7777777777777778,\"#fb9f3a\"],[0.8888888888888888,\"#fdca26\"],[1.0,\"#f0f921\"]],\"type\":\"histogram2dcontour\"}],\"mesh3d\":[{\"colorbar\":{\"outlinewidth\":0,\"ticks\":\"\"},\"type\":\"mesh3d\"}],\"parcoords\":[{\"line\":{\"colorbar\":{\"outlinewidth\":0,\"ticks\":\"\"}},\"type\":\"parcoords\"}],\"pie\":[{\"automargin\":true,\"type\":\"pie\"}],\"scatter\":[{\"marker\":{\"colorbar\":{\"outlinewidth\":0,\"ticks\":\"\"}},\"type\":\"scatter\"}],\"scatter3d\":[{\"line\":{\"colorbar\":{\"outlinewidth\":0,\"ticks\":\"\"}},\"marker\":{\"colorbar\":{\"outlinewidth\":0,\"ticks\":\"\"}},\"type\":\"scatter3d\"}],\"scattercarpet\":[{\"marker\":{\"colorbar\":{\"outlinewidth\":0,\"ticks\":\"\"}},\"type\":\"scattercarpet\"}],\"scattergeo\":[{\"marker\":{\"colorbar\":{\"outlinewidth\":0,\"ticks\":\"\"}},\"type\":\"scattergeo\"}],\"scattergl\":[{\"marker\":{\"colorbar\":{\"outlinewidth\":0,\"ticks\":\"\"}},\"type\":\"scattergl\"}],\"scattermapbox\":[{\"marker\":{\"colorbar\":{\"outlinewidth\":0,\"ticks\":\"\"}},\"type\":\"scattermapbox\"}],\"scatterpolar\":[{\"marker\":{\"colorbar\":{\"outlinewidth\":0,\"ticks\":\"\"}},\"type\":\"scatterpolar\"}],\"scatterpolargl\":[{\"marker\":{\"colorbar\":{\"outlinewidth\":0,\"ticks\":\"\"}},\"type\":\"scatterpolargl\"}],\"scatterternary\":[{\"marker\":{\"colorbar\":{\"outlinewidth\":0,\"ticks\":\"\"}},\"type\":\"scatterternary\"}],\"surface\":[{\"colorbar\":{\"outlinewidth\":0,\"ticks\":\"\"},\"colorscale\":[[0.0,\"#0d0887\"],[0.1111111111111111,\"#46039f\"],[0.2222222222222222,\"#7201a8\"],[0.3333333333333333,\"#9c179e\"],[0.4444444444444444,\"#bd3786\"],[0.5555555555555556,\"#d8576b\"],[0.6666666666666666,\"#ed7953\"],[0.7777777777777778,\"#fb9f3a\"],[0.8888888888888888,\"#fdca26\"],[1.0,\"#f0f921\"]],\"type\":\"surface\"}],\"table\":[{\"cells\":{\"fill\":{\"color\":\"#EBF0F8\"},\"line\":{\"color\":\"white\"}},\"header\":{\"fill\":{\"color\":\"#C8D4E3\"},\"line\":{\"color\":\"white\"}},\"type\":\"table\"}]},\"layout\":{\"annotationdefaults\":{\"arrowcolor\":\"#2a3f5f\",\"arrowhead\":0,\"arrowwidth\":1},\"autotypenumbers\":\"strict\",\"coloraxis\":{\"colorbar\":{\"outlinewidth\":0,\"ticks\":\"\"}},\"colorscale\":{\"diverging\":[[0,\"#8e0152\"],[0.1,\"#c51b7d\"],[0.2,\"#de77ae\"],[0.3,\"#f1b6da\"],[0.4,\"#fde0ef\"],[0.5,\"#f7f7f7\"],[0.6,\"#e6f5d0\"],[0.7,\"#b8e186\"],[0.8,\"#7fbc41\"],[0.9,\"#4d9221\"],[1,\"#276419\"]],\"sequential\":[[0.0,\"#0d0887\"],[0.1111111111111111,\"#46039f\"],[0.2222222222222222,\"#7201a8\"],[0.3333333333333333,\"#9c179e\"],[0.4444444444444444,\"#bd3786\"],[0.5555555555555556,\"#d8576b\"],[0.6666666666666666,\"#ed7953\"],[0.7777777777777778,\"#fb9f3a\"],[0.8888888888888888,\"#fdca26\"],[1.0,\"#f0f921\"]],\"sequentialminus\":[[0.0,\"#0d0887\"],[0.1111111111111111,\"#46039f\"],[0.2222222222222222,\"#7201a8\"],[0.3333333333333333,\"#9c179e\"],[0.4444444444444444,\"#bd3786\"],[0.5555555555555556,\"#d8576b\"],[0.6666666666666666,\"#ed7953\"],[0.7777777777777778,\"#fb9f3a\"],[0.8888888888888888,\"#fdca26\"],[1.0,\"#f0f921\"]]},\"colorway\":[\"#636efa\",\"#EF553B\",\"#00cc96\",\"#ab63fa\",\"#FFA15A\",\"#19d3f3\",\"#FF6692\",\"#B6E880\",\"#FF97FF\",\"#FECB52\"],\"font\":{\"color\":\"#2a3f5f\"},\"geo\":{\"bgcolor\":\"white\",\"lakecolor\":\"white\",\"landcolor\":\"#E5ECF6\",\"showlakes\":true,\"showland\":true,\"subunitcolor\":\"white\"},\"hoverlabel\":{\"align\":\"left\"},\"hovermode\":\"closest\",\"mapbox\":{\"style\":\"light\"},\"paper_bgcolor\":\"white\",\"plot_bgcolor\":\"#E5ECF6\",\"polar\":{\"angularaxis\":{\"gridcolor\":\"white\",\"linecolor\":\"white\",\"ticks\":\"\"},\"bgcolor\":\"#E5ECF6\",\"radialaxis\":{\"gridcolor\":\"white\",\"linecolor\":\"white\",\"ticks\":\"\"}},\"scene\":{\"xaxis\":{\"backgroundcolor\":\"#E5ECF6\",\"gridcolor\":\"white\",\"gridwidth\":2,\"linecolor\":\"white\",\"showbackground\":true,\"ticks\":\"\",\"zerolinecolor\":\"white\"},\"yaxis\":{\"backgroundcolor\":\"#E5ECF6\",\"gridcolor\":\"white\",\"gridwidth\":2,\"linecolor\":\"white\",\"showbackground\":true,\"ticks\":\"\",\"zerolinecolor\":\"white\"},\"zaxis\":{\"backgroundcolor\":\"#E5ECF6\",\"gridcolor\":\"white\",\"gridwidth\":2,\"linecolor\":\"white\",\"showbackground\":true,\"ticks\":\"\",\"zerolinecolor\":\"white\"}},\"shapedefaults\":{\"line\":{\"color\":\"#2a3f5f\"}},\"ternary\":{\"aaxis\":{\"gridcolor\":\"white\",\"linecolor\":\"white\",\"ticks\":\"\"},\"baxis\":{\"gridcolor\":\"white\",\"linecolor\":\"white\",\"ticks\":\"\"},\"bgcolor\":\"#E5ECF6\",\"caxis\":{\"gridcolor\":\"white\",\"linecolor\":\"white\",\"ticks\":\"\"}},\"title\":{\"x\":0.05},\"xaxis\":{\"automargin\":true,\"gridcolor\":\"white\",\"linecolor\":\"white\",\"ticks\":\"\",\"title\":{\"standoff\":15},\"zerolinecolor\":\"white\",\"zerolinewidth\":2},\"yaxis\":{\"automargin\":true,\"gridcolor\":\"white\",\"linecolor\":\"white\",\"ticks\":\"\",\"title\":{\"standoff\":15},\"zerolinecolor\":\"white\",\"zerolinewidth\":2}}},\"title\":{\"text\":\"Lucros por se\\u00e7\\u00e3o\"},\"xaxis\":{\"anchor\":\"y\",\"domain\":[0.0,1.0],\"title\":{\"text\":\"Lucro\"}},\"yaxis\":{\"anchor\":\"x\",\"categoryarray\":[\"Alimentos em Geral\",\"Produtos de Limpeza\",\"Padaria\",\"A\\u00e7ougue\"],\"categoryorder\":\"total descending\",\"domain\":[0.0,1.0],\"title\":{\"text\":\"Se\\u00e7\\u00e3o\"}}},                        {\"responsive\": true}                    ).then(function(){\n",
       "                            \n",
       "var gd = document.getElementById('fd4a3e6e-7cda-4b41-95a4-34a7fd1d01c9');\n",
       "var x = new MutationObserver(function (mutations, observer) {{\n",
       "        var display = window.getComputedStyle(gd).display;\n",
       "        if (!display || display === 'none') {{\n",
       "            console.log([gd, 'removed!']);\n",
       "            Plotly.purge(gd);\n",
       "            observer.disconnect();\n",
       "        }}\n",
       "}});\n",
       "\n",
       "// Listen for the removal of the full notebook cells\n",
       "var notebookContainer = gd.closest('#notebook-container');\n",
       "if (notebookContainer) {{\n",
       "    x.observe(notebookContainer, {childList: true});\n",
       "}}\n",
       "\n",
       "// Listen for the clearing of the current output cell\n",
       "var outputEl = gd.closest('.output');\n",
       "if (outputEl) {{\n",
       "    x.observe(outputEl, {childList: true});\n",
       "}}\n",
       "\n",
       "                        })                };                });            </script>        </div>"
      ]
     },
     "metadata": {},
     "output_type": "display_data"
    }
   ],
   "source": [
    "lucro_secao=venda_produtos_cliente.groupby(\"secao\").sum().sort_values('lucro', ascending=False ).reset_index()\n",
    "\n",
    "fig2 = px.bar(lucro_secao, x=\"lucro\", y=\"secao\", color=\"secao\", barmode = 'stack',color_discrete_map={'Açougue': '#EF553B', \n",
    "                                                   'Padaria': '#AB63FA', 'Produtos de Limpeza': '#FFA15A', 'Alimentos em Geral': '#00CC96'},\n",
    "             labels={\"lucro\":\"Lucro\", \"secao\":\"Seção\"})\n",
    "fig2.update_layout(title = 'Lucros por seção', yaxis={'categoryorder':'total descending'})\n",
    "fig2.show()"
   ]
  },
  {
   "cell_type": "code",
   "execution_count": 24,
   "id": "232e2bab",
   "metadata": {},
   "outputs": [
    {
     "data": {
      "application/vnd.plotly.v1+json": {
       "config": {
        "plotlyServerURL": "https://plot.ly"
       },
       "data": [
        {
         "alignmentgroup": "True",
         "hovertemplate": "Seção=%{x}<br>Lucro=%{y}<extra></extra>",
         "legendgroup": "Açougue",
         "marker": {
          "color": "#00CC96",
          "pattern": {
           "shape": ""
          }
         },
         "name": "Açougue",
         "offsetgroup": "Açougue",
         "orientation": "v",
         "showlegend": true,
         "textposition": "auto",
         "type": "bar",
         "x": [
          "Açougue"
         ],
         "xaxis": "x",
         "y": [
          16413.370000000017
         ],
         "yaxis": "y"
        },
        {
         "alignmentgroup": "True",
         "hovertemplate": "Seção=%{x}<br>Lucro=%{y}<extra></extra>",
         "legendgroup": "Padaria",
         "marker": {
          "color": "#00CC96",
          "pattern": {
           "shape": ""
          }
         },
         "name": "Padaria",
         "offsetgroup": "Padaria",
         "orientation": "v",
         "showlegend": true,
         "textposition": "auto",
         "type": "bar",
         "x": [
          "Padaria"
         ],
         "xaxis": "x",
         "y": [
          10716.730000000007
         ],
         "yaxis": "y"
        },
        {
         "alignmentgroup": "True",
         "hovertemplate": "Seção=%{x}<br>Lucro=%{y}<extra></extra>",
         "legendgroup": "Produtos de Limpeza",
         "marker": {
          "color": "#00CC96",
          "pattern": {
           "shape": ""
          }
         },
         "name": "Produtos de Limpeza",
         "offsetgroup": "Produtos de Limpeza",
         "orientation": "v",
         "showlegend": true,
         "textposition": "auto",
         "type": "bar",
         "x": [
          "Produtos de Limpeza"
         ],
         "xaxis": "x",
         "y": [
          4155.7399999999925
         ],
         "yaxis": "y"
        },
        {
         "alignmentgroup": "True",
         "hovertemplate": "Seção=%{x}<br>Lucro=%{y}<extra></extra>",
         "legendgroup": "Alimentos em Geral",
         "marker": {
          "color": "#00CC96",
          "pattern": {
           "shape": ""
          }
         },
         "name": "Alimentos em Geral",
         "offsetgroup": "Alimentos em Geral",
         "orientation": "v",
         "showlegend": true,
         "textposition": "auto",
         "type": "bar",
         "x": [
          "Alimentos em Geral"
         ],
         "xaxis": "x",
         "y": [
          2276.249999999996
         ],
         "yaxis": "y"
        }
       ],
       "layout": {
        "barmode": "stack",
        "legend": {
         "title": {
          "text": "Seção"
         },
         "tracegroupgap": 0
        },
        "margin": {
         "t": 60
        },
        "showlegend": false,
        "template": {
         "data": {
          "bar": [
           {
            "error_x": {
             "color": "#2a3f5f"
            },
            "error_y": {
             "color": "#2a3f5f"
            },
            "marker": {
             "line": {
              "color": "#E5ECF6",
              "width": 0.5
             },
             "pattern": {
              "fillmode": "overlay",
              "size": 10,
              "solidity": 0.2
             }
            },
            "type": "bar"
           }
          ],
          "barpolar": [
           {
            "marker": {
             "line": {
              "color": "#E5ECF6",
              "width": 0.5
             },
             "pattern": {
              "fillmode": "overlay",
              "size": 10,
              "solidity": 0.2
             }
            },
            "type": "barpolar"
           }
          ],
          "carpet": [
           {
            "aaxis": {
             "endlinecolor": "#2a3f5f",
             "gridcolor": "white",
             "linecolor": "white",
             "minorgridcolor": "white",
             "startlinecolor": "#2a3f5f"
            },
            "baxis": {
             "endlinecolor": "#2a3f5f",
             "gridcolor": "white",
             "linecolor": "white",
             "minorgridcolor": "white",
             "startlinecolor": "#2a3f5f"
            },
            "type": "carpet"
           }
          ],
          "choropleth": [
           {
            "colorbar": {
             "outlinewidth": 0,
             "ticks": ""
            },
            "type": "choropleth"
           }
          ],
          "contour": [
           {
            "colorbar": {
             "outlinewidth": 0,
             "ticks": ""
            },
            "colorscale": [
             [
              0,
              "#0d0887"
             ],
             [
              0.1111111111111111,
              "#46039f"
             ],
             [
              0.2222222222222222,
              "#7201a8"
             ],
             [
              0.3333333333333333,
              "#9c179e"
             ],
             [
              0.4444444444444444,
              "#bd3786"
             ],
             [
              0.5555555555555556,
              "#d8576b"
             ],
             [
              0.6666666666666666,
              "#ed7953"
             ],
             [
              0.7777777777777778,
              "#fb9f3a"
             ],
             [
              0.8888888888888888,
              "#fdca26"
             ],
             [
              1,
              "#f0f921"
             ]
            ],
            "type": "contour"
           }
          ],
          "contourcarpet": [
           {
            "colorbar": {
             "outlinewidth": 0,
             "ticks": ""
            },
            "type": "contourcarpet"
           }
          ],
          "heatmap": [
           {
            "colorbar": {
             "outlinewidth": 0,
             "ticks": ""
            },
            "colorscale": [
             [
              0,
              "#0d0887"
             ],
             [
              0.1111111111111111,
              "#46039f"
             ],
             [
              0.2222222222222222,
              "#7201a8"
             ],
             [
              0.3333333333333333,
              "#9c179e"
             ],
             [
              0.4444444444444444,
              "#bd3786"
             ],
             [
              0.5555555555555556,
              "#d8576b"
             ],
             [
              0.6666666666666666,
              "#ed7953"
             ],
             [
              0.7777777777777778,
              "#fb9f3a"
             ],
             [
              0.8888888888888888,
              "#fdca26"
             ],
             [
              1,
              "#f0f921"
             ]
            ],
            "type": "heatmap"
           }
          ],
          "heatmapgl": [
           {
            "colorbar": {
             "outlinewidth": 0,
             "ticks": ""
            },
            "colorscale": [
             [
              0,
              "#0d0887"
             ],
             [
              0.1111111111111111,
              "#46039f"
             ],
             [
              0.2222222222222222,
              "#7201a8"
             ],
             [
              0.3333333333333333,
              "#9c179e"
             ],
             [
              0.4444444444444444,
              "#bd3786"
             ],
             [
              0.5555555555555556,
              "#d8576b"
             ],
             [
              0.6666666666666666,
              "#ed7953"
             ],
             [
              0.7777777777777778,
              "#fb9f3a"
             ],
             [
              0.8888888888888888,
              "#fdca26"
             ],
             [
              1,
              "#f0f921"
             ]
            ],
            "type": "heatmapgl"
           }
          ],
          "histogram": [
           {
            "marker": {
             "pattern": {
              "fillmode": "overlay",
              "size": 10,
              "solidity": 0.2
             }
            },
            "type": "histogram"
           }
          ],
          "histogram2d": [
           {
            "colorbar": {
             "outlinewidth": 0,
             "ticks": ""
            },
            "colorscale": [
             [
              0,
              "#0d0887"
             ],
             [
              0.1111111111111111,
              "#46039f"
             ],
             [
              0.2222222222222222,
              "#7201a8"
             ],
             [
              0.3333333333333333,
              "#9c179e"
             ],
             [
              0.4444444444444444,
              "#bd3786"
             ],
             [
              0.5555555555555556,
              "#d8576b"
             ],
             [
              0.6666666666666666,
              "#ed7953"
             ],
             [
              0.7777777777777778,
              "#fb9f3a"
             ],
             [
              0.8888888888888888,
              "#fdca26"
             ],
             [
              1,
              "#f0f921"
             ]
            ],
            "type": "histogram2d"
           }
          ],
          "histogram2dcontour": [
           {
            "colorbar": {
             "outlinewidth": 0,
             "ticks": ""
            },
            "colorscale": [
             [
              0,
              "#0d0887"
             ],
             [
              0.1111111111111111,
              "#46039f"
             ],
             [
              0.2222222222222222,
              "#7201a8"
             ],
             [
              0.3333333333333333,
              "#9c179e"
             ],
             [
              0.4444444444444444,
              "#bd3786"
             ],
             [
              0.5555555555555556,
              "#d8576b"
             ],
             [
              0.6666666666666666,
              "#ed7953"
             ],
             [
              0.7777777777777778,
              "#fb9f3a"
             ],
             [
              0.8888888888888888,
              "#fdca26"
             ],
             [
              1,
              "#f0f921"
             ]
            ],
            "type": "histogram2dcontour"
           }
          ],
          "mesh3d": [
           {
            "colorbar": {
             "outlinewidth": 0,
             "ticks": ""
            },
            "type": "mesh3d"
           }
          ],
          "parcoords": [
           {
            "line": {
             "colorbar": {
              "outlinewidth": 0,
              "ticks": ""
             }
            },
            "type": "parcoords"
           }
          ],
          "pie": [
           {
            "automargin": true,
            "type": "pie"
           }
          ],
          "scatter": [
           {
            "marker": {
             "colorbar": {
              "outlinewidth": 0,
              "ticks": ""
             }
            },
            "type": "scatter"
           }
          ],
          "scatter3d": [
           {
            "line": {
             "colorbar": {
              "outlinewidth": 0,
              "ticks": ""
             }
            },
            "marker": {
             "colorbar": {
              "outlinewidth": 0,
              "ticks": ""
             }
            },
            "type": "scatter3d"
           }
          ],
          "scattercarpet": [
           {
            "marker": {
             "colorbar": {
              "outlinewidth": 0,
              "ticks": ""
             }
            },
            "type": "scattercarpet"
           }
          ],
          "scattergeo": [
           {
            "marker": {
             "colorbar": {
              "outlinewidth": 0,
              "ticks": ""
             }
            },
            "type": "scattergeo"
           }
          ],
          "scattergl": [
           {
            "marker": {
             "colorbar": {
              "outlinewidth": 0,
              "ticks": ""
             }
            },
            "type": "scattergl"
           }
          ],
          "scattermapbox": [
           {
            "marker": {
             "colorbar": {
              "outlinewidth": 0,
              "ticks": ""
             }
            },
            "type": "scattermapbox"
           }
          ],
          "scatterpolar": [
           {
            "marker": {
             "colorbar": {
              "outlinewidth": 0,
              "ticks": ""
             }
            },
            "type": "scatterpolar"
           }
          ],
          "scatterpolargl": [
           {
            "marker": {
             "colorbar": {
              "outlinewidth": 0,
              "ticks": ""
             }
            },
            "type": "scatterpolargl"
           }
          ],
          "scatterternary": [
           {
            "marker": {
             "colorbar": {
              "outlinewidth": 0,
              "ticks": ""
             }
            },
            "type": "scatterternary"
           }
          ],
          "surface": [
           {
            "colorbar": {
             "outlinewidth": 0,
             "ticks": ""
            },
            "colorscale": [
             [
              0,
              "#0d0887"
             ],
             [
              0.1111111111111111,
              "#46039f"
             ],
             [
              0.2222222222222222,
              "#7201a8"
             ],
             [
              0.3333333333333333,
              "#9c179e"
             ],
             [
              0.4444444444444444,
              "#bd3786"
             ],
             [
              0.5555555555555556,
              "#d8576b"
             ],
             [
              0.6666666666666666,
              "#ed7953"
             ],
             [
              0.7777777777777778,
              "#fb9f3a"
             ],
             [
              0.8888888888888888,
              "#fdca26"
             ],
             [
              1,
              "#f0f921"
             ]
            ],
            "type": "surface"
           }
          ],
          "table": [
           {
            "cells": {
             "fill": {
              "color": "#EBF0F8"
             },
             "line": {
              "color": "white"
             }
            },
            "header": {
             "fill": {
              "color": "#C8D4E3"
             },
             "line": {
              "color": "white"
             }
            },
            "type": "table"
           }
          ]
         },
         "layout": {
          "annotationdefaults": {
           "arrowcolor": "#2a3f5f",
           "arrowhead": 0,
           "arrowwidth": 1
          },
          "autotypenumbers": "strict",
          "coloraxis": {
           "colorbar": {
            "outlinewidth": 0,
            "ticks": ""
           }
          },
          "colorscale": {
           "diverging": [
            [
             0,
             "#8e0152"
            ],
            [
             0.1,
             "#c51b7d"
            ],
            [
             0.2,
             "#de77ae"
            ],
            [
             0.3,
             "#f1b6da"
            ],
            [
             0.4,
             "#fde0ef"
            ],
            [
             0.5,
             "#f7f7f7"
            ],
            [
             0.6,
             "#e6f5d0"
            ],
            [
             0.7,
             "#b8e186"
            ],
            [
             0.8,
             "#7fbc41"
            ],
            [
             0.9,
             "#4d9221"
            ],
            [
             1,
             "#276419"
            ]
           ],
           "sequential": [
            [
             0,
             "#0d0887"
            ],
            [
             0.1111111111111111,
             "#46039f"
            ],
            [
             0.2222222222222222,
             "#7201a8"
            ],
            [
             0.3333333333333333,
             "#9c179e"
            ],
            [
             0.4444444444444444,
             "#bd3786"
            ],
            [
             0.5555555555555556,
             "#d8576b"
            ],
            [
             0.6666666666666666,
             "#ed7953"
            ],
            [
             0.7777777777777778,
             "#fb9f3a"
            ],
            [
             0.8888888888888888,
             "#fdca26"
            ],
            [
             1,
             "#f0f921"
            ]
           ],
           "sequentialminus": [
            [
             0,
             "#0d0887"
            ],
            [
             0.1111111111111111,
             "#46039f"
            ],
            [
             0.2222222222222222,
             "#7201a8"
            ],
            [
             0.3333333333333333,
             "#9c179e"
            ],
            [
             0.4444444444444444,
             "#bd3786"
            ],
            [
             0.5555555555555556,
             "#d8576b"
            ],
            [
             0.6666666666666666,
             "#ed7953"
            ],
            [
             0.7777777777777778,
             "#fb9f3a"
            ],
            [
             0.8888888888888888,
             "#fdca26"
            ],
            [
             1,
             "#f0f921"
            ]
           ]
          },
          "colorway": [
           "#636efa",
           "#EF553B",
           "#00cc96",
           "#ab63fa",
           "#FFA15A",
           "#19d3f3",
           "#FF6692",
           "#B6E880",
           "#FF97FF",
           "#FECB52"
          ],
          "font": {
           "color": "#2a3f5f"
          },
          "geo": {
           "bgcolor": "white",
           "lakecolor": "white",
           "landcolor": "#E5ECF6",
           "showlakes": true,
           "showland": true,
           "subunitcolor": "white"
          },
          "hoverlabel": {
           "align": "left"
          },
          "hovermode": "closest",
          "mapbox": {
           "style": "light"
          },
          "paper_bgcolor": "white",
          "plot_bgcolor": "#E5ECF6",
          "polar": {
           "angularaxis": {
            "gridcolor": "white",
            "linecolor": "white",
            "ticks": ""
           },
           "bgcolor": "#E5ECF6",
           "radialaxis": {
            "gridcolor": "white",
            "linecolor": "white",
            "ticks": ""
           }
          },
          "scene": {
           "xaxis": {
            "backgroundcolor": "#E5ECF6",
            "gridcolor": "white",
            "gridwidth": 2,
            "linecolor": "white",
            "showbackground": true,
            "ticks": "",
            "zerolinecolor": "white"
           },
           "yaxis": {
            "backgroundcolor": "#E5ECF6",
            "gridcolor": "white",
            "gridwidth": 2,
            "linecolor": "white",
            "showbackground": true,
            "ticks": "",
            "zerolinecolor": "white"
           },
           "zaxis": {
            "backgroundcolor": "#E5ECF6",
            "gridcolor": "white",
            "gridwidth": 2,
            "linecolor": "white",
            "showbackground": true,
            "ticks": "",
            "zerolinecolor": "white"
           }
          },
          "shapedefaults": {
           "line": {
            "color": "#2a3f5f"
           }
          },
          "ternary": {
           "aaxis": {
            "gridcolor": "white",
            "linecolor": "white",
            "ticks": ""
           },
           "baxis": {
            "gridcolor": "white",
            "linecolor": "white",
            "ticks": ""
           },
           "bgcolor": "#E5ECF6",
           "caxis": {
            "gridcolor": "white",
            "linecolor": "white",
            "ticks": ""
           }
          },
          "title": {
           "x": 0.05
          },
          "xaxis": {
           "automargin": true,
           "gridcolor": "white",
           "linecolor": "white",
           "ticks": "",
           "title": {
            "standoff": 15
           },
           "zerolinecolor": "white",
           "zerolinewidth": 2
          },
          "yaxis": {
           "automargin": true,
           "gridcolor": "white",
           "linecolor": "white",
           "ticks": "",
           "title": {
            "standoff": 15
           },
           "zerolinecolor": "white",
           "zerolinewidth": 2
          }
         }
        },
        "title": {
         "text": "Lucros por seção"
        },
        "xaxis": {
         "anchor": "y",
         "categoryarray": [
          "Açougue",
          "Padaria",
          "Produtos de Limpeza",
          "Alimentos em Geral"
         ],
         "categoryorder": "array",
         "domain": [
          0,
          1
         ],
         "title": {
          "text": "Seção"
         }
        },
        "yaxis": {
         "anchor": "x",
         "domain": [
          0,
          1
         ],
         "title": {
          "text": "Lucro"
         }
        }
       }
      },
      "text/html": [
       "<div>                            <div id=\"42864ff5-ae48-4177-8ec3-c4d4b25a7a7b\" class=\"plotly-graph-div\" style=\"height:525px; width:100%;\"></div>            <script type=\"text/javascript\">                require([\"plotly\"], function(Plotly) {                    window.PLOTLYENV=window.PLOTLYENV || {};                                    if (document.getElementById(\"42864ff5-ae48-4177-8ec3-c4d4b25a7a7b\")) {                    Plotly.newPlot(                        \"42864ff5-ae48-4177-8ec3-c4d4b25a7a7b\",                        [{\"alignmentgroup\":\"True\",\"hovertemplate\":\"Se\\u00e7\\u00e3o=%{x}<br>Lucro=%{y}<extra></extra>\",\"legendgroup\":\"A\\u00e7ougue\",\"marker\":{\"color\":\"#00CC96\",\"pattern\":{\"shape\":\"\"}},\"name\":\"A\\u00e7ougue\",\"offsetgroup\":\"A\\u00e7ougue\",\"orientation\":\"v\",\"showlegend\":true,\"textposition\":\"auto\",\"type\":\"bar\",\"x\":[\"A\\u00e7ougue\"],\"xaxis\":\"x\",\"y\":[16413.370000000017],\"yaxis\":\"y\"},{\"alignmentgroup\":\"True\",\"hovertemplate\":\"Se\\u00e7\\u00e3o=%{x}<br>Lucro=%{y}<extra></extra>\",\"legendgroup\":\"Padaria\",\"marker\":{\"color\":\"#00CC96\",\"pattern\":{\"shape\":\"\"}},\"name\":\"Padaria\",\"offsetgroup\":\"Padaria\",\"orientation\":\"v\",\"showlegend\":true,\"textposition\":\"auto\",\"type\":\"bar\",\"x\":[\"Padaria\"],\"xaxis\":\"x\",\"y\":[10716.730000000007],\"yaxis\":\"y\"},{\"alignmentgroup\":\"True\",\"hovertemplate\":\"Se\\u00e7\\u00e3o=%{x}<br>Lucro=%{y}<extra></extra>\",\"legendgroup\":\"Produtos de Limpeza\",\"marker\":{\"color\":\"#00CC96\",\"pattern\":{\"shape\":\"\"}},\"name\":\"Produtos de Limpeza\",\"offsetgroup\":\"Produtos de Limpeza\",\"orientation\":\"v\",\"showlegend\":true,\"textposition\":\"auto\",\"type\":\"bar\",\"x\":[\"Produtos de Limpeza\"],\"xaxis\":\"x\",\"y\":[4155.7399999999925],\"yaxis\":\"y\"},{\"alignmentgroup\":\"True\",\"hovertemplate\":\"Se\\u00e7\\u00e3o=%{x}<br>Lucro=%{y}<extra></extra>\",\"legendgroup\":\"Alimentos em Geral\",\"marker\":{\"color\":\"#00CC96\",\"pattern\":{\"shape\":\"\"}},\"name\":\"Alimentos em Geral\",\"offsetgroup\":\"Alimentos em Geral\",\"orientation\":\"v\",\"showlegend\":true,\"textposition\":\"auto\",\"type\":\"bar\",\"x\":[\"Alimentos em Geral\"],\"xaxis\":\"x\",\"y\":[2276.249999999996],\"yaxis\":\"y\"}],                        {\"barmode\":\"stack\",\"legend\":{\"title\":{\"text\":\"Se\\u00e7\\u00e3o\"},\"tracegroupgap\":0},\"margin\":{\"t\":60},\"showlegend\":false,\"template\":{\"data\":{\"bar\":[{\"error_x\":{\"color\":\"#2a3f5f\"},\"error_y\":{\"color\":\"#2a3f5f\"},\"marker\":{\"line\":{\"color\":\"#E5ECF6\",\"width\":0.5},\"pattern\":{\"fillmode\":\"overlay\",\"size\":10,\"solidity\":0.2}},\"type\":\"bar\"}],\"barpolar\":[{\"marker\":{\"line\":{\"color\":\"#E5ECF6\",\"width\":0.5},\"pattern\":{\"fillmode\":\"overlay\",\"size\":10,\"solidity\":0.2}},\"type\":\"barpolar\"}],\"carpet\":[{\"aaxis\":{\"endlinecolor\":\"#2a3f5f\",\"gridcolor\":\"white\",\"linecolor\":\"white\",\"minorgridcolor\":\"white\",\"startlinecolor\":\"#2a3f5f\"},\"baxis\":{\"endlinecolor\":\"#2a3f5f\",\"gridcolor\":\"white\",\"linecolor\":\"white\",\"minorgridcolor\":\"white\",\"startlinecolor\":\"#2a3f5f\"},\"type\":\"carpet\"}],\"choropleth\":[{\"colorbar\":{\"outlinewidth\":0,\"ticks\":\"\"},\"type\":\"choropleth\"}],\"contour\":[{\"colorbar\":{\"outlinewidth\":0,\"ticks\":\"\"},\"colorscale\":[[0.0,\"#0d0887\"],[0.1111111111111111,\"#46039f\"],[0.2222222222222222,\"#7201a8\"],[0.3333333333333333,\"#9c179e\"],[0.4444444444444444,\"#bd3786\"],[0.5555555555555556,\"#d8576b\"],[0.6666666666666666,\"#ed7953\"],[0.7777777777777778,\"#fb9f3a\"],[0.8888888888888888,\"#fdca26\"],[1.0,\"#f0f921\"]],\"type\":\"contour\"}],\"contourcarpet\":[{\"colorbar\":{\"outlinewidth\":0,\"ticks\":\"\"},\"type\":\"contourcarpet\"}],\"heatmap\":[{\"colorbar\":{\"outlinewidth\":0,\"ticks\":\"\"},\"colorscale\":[[0.0,\"#0d0887\"],[0.1111111111111111,\"#46039f\"],[0.2222222222222222,\"#7201a8\"],[0.3333333333333333,\"#9c179e\"],[0.4444444444444444,\"#bd3786\"],[0.5555555555555556,\"#d8576b\"],[0.6666666666666666,\"#ed7953\"],[0.7777777777777778,\"#fb9f3a\"],[0.8888888888888888,\"#fdca26\"],[1.0,\"#f0f921\"]],\"type\":\"heatmap\"}],\"heatmapgl\":[{\"colorbar\":{\"outlinewidth\":0,\"ticks\":\"\"},\"colorscale\":[[0.0,\"#0d0887\"],[0.1111111111111111,\"#46039f\"],[0.2222222222222222,\"#7201a8\"],[0.3333333333333333,\"#9c179e\"],[0.4444444444444444,\"#bd3786\"],[0.5555555555555556,\"#d8576b\"],[0.6666666666666666,\"#ed7953\"],[0.7777777777777778,\"#fb9f3a\"],[0.8888888888888888,\"#fdca26\"],[1.0,\"#f0f921\"]],\"type\":\"heatmapgl\"}],\"histogram\":[{\"marker\":{\"pattern\":{\"fillmode\":\"overlay\",\"size\":10,\"solidity\":0.2}},\"type\":\"histogram\"}],\"histogram2d\":[{\"colorbar\":{\"outlinewidth\":0,\"ticks\":\"\"},\"colorscale\":[[0.0,\"#0d0887\"],[0.1111111111111111,\"#46039f\"],[0.2222222222222222,\"#7201a8\"],[0.3333333333333333,\"#9c179e\"],[0.4444444444444444,\"#bd3786\"],[0.5555555555555556,\"#d8576b\"],[0.6666666666666666,\"#ed7953\"],[0.7777777777777778,\"#fb9f3a\"],[0.8888888888888888,\"#fdca26\"],[1.0,\"#f0f921\"]],\"type\":\"histogram2d\"}],\"histogram2dcontour\":[{\"colorbar\":{\"outlinewidth\":0,\"ticks\":\"\"},\"colorscale\":[[0.0,\"#0d0887\"],[0.1111111111111111,\"#46039f\"],[0.2222222222222222,\"#7201a8\"],[0.3333333333333333,\"#9c179e\"],[0.4444444444444444,\"#bd3786\"],[0.5555555555555556,\"#d8576b\"],[0.6666666666666666,\"#ed7953\"],[0.7777777777777778,\"#fb9f3a\"],[0.8888888888888888,\"#fdca26\"],[1.0,\"#f0f921\"]],\"type\":\"histogram2dcontour\"}],\"mesh3d\":[{\"colorbar\":{\"outlinewidth\":0,\"ticks\":\"\"},\"type\":\"mesh3d\"}],\"parcoords\":[{\"line\":{\"colorbar\":{\"outlinewidth\":0,\"ticks\":\"\"}},\"type\":\"parcoords\"}],\"pie\":[{\"automargin\":true,\"type\":\"pie\"}],\"scatter\":[{\"marker\":{\"colorbar\":{\"outlinewidth\":0,\"ticks\":\"\"}},\"type\":\"scatter\"}],\"scatter3d\":[{\"line\":{\"colorbar\":{\"outlinewidth\":0,\"ticks\":\"\"}},\"marker\":{\"colorbar\":{\"outlinewidth\":0,\"ticks\":\"\"}},\"type\":\"scatter3d\"}],\"scattercarpet\":[{\"marker\":{\"colorbar\":{\"outlinewidth\":0,\"ticks\":\"\"}},\"type\":\"scattercarpet\"}],\"scattergeo\":[{\"marker\":{\"colorbar\":{\"outlinewidth\":0,\"ticks\":\"\"}},\"type\":\"scattergeo\"}],\"scattergl\":[{\"marker\":{\"colorbar\":{\"outlinewidth\":0,\"ticks\":\"\"}},\"type\":\"scattergl\"}],\"scattermapbox\":[{\"marker\":{\"colorbar\":{\"outlinewidth\":0,\"ticks\":\"\"}},\"type\":\"scattermapbox\"}],\"scatterpolar\":[{\"marker\":{\"colorbar\":{\"outlinewidth\":0,\"ticks\":\"\"}},\"type\":\"scatterpolar\"}],\"scatterpolargl\":[{\"marker\":{\"colorbar\":{\"outlinewidth\":0,\"ticks\":\"\"}},\"type\":\"scatterpolargl\"}],\"scatterternary\":[{\"marker\":{\"colorbar\":{\"outlinewidth\":0,\"ticks\":\"\"}},\"type\":\"scatterternary\"}],\"surface\":[{\"colorbar\":{\"outlinewidth\":0,\"ticks\":\"\"},\"colorscale\":[[0.0,\"#0d0887\"],[0.1111111111111111,\"#46039f\"],[0.2222222222222222,\"#7201a8\"],[0.3333333333333333,\"#9c179e\"],[0.4444444444444444,\"#bd3786\"],[0.5555555555555556,\"#d8576b\"],[0.6666666666666666,\"#ed7953\"],[0.7777777777777778,\"#fb9f3a\"],[0.8888888888888888,\"#fdca26\"],[1.0,\"#f0f921\"]],\"type\":\"surface\"}],\"table\":[{\"cells\":{\"fill\":{\"color\":\"#EBF0F8\"},\"line\":{\"color\":\"white\"}},\"header\":{\"fill\":{\"color\":\"#C8D4E3\"},\"line\":{\"color\":\"white\"}},\"type\":\"table\"}]},\"layout\":{\"annotationdefaults\":{\"arrowcolor\":\"#2a3f5f\",\"arrowhead\":0,\"arrowwidth\":1},\"autotypenumbers\":\"strict\",\"coloraxis\":{\"colorbar\":{\"outlinewidth\":0,\"ticks\":\"\"}},\"colorscale\":{\"diverging\":[[0,\"#8e0152\"],[0.1,\"#c51b7d\"],[0.2,\"#de77ae\"],[0.3,\"#f1b6da\"],[0.4,\"#fde0ef\"],[0.5,\"#f7f7f7\"],[0.6,\"#e6f5d0\"],[0.7,\"#b8e186\"],[0.8,\"#7fbc41\"],[0.9,\"#4d9221\"],[1,\"#276419\"]],\"sequential\":[[0.0,\"#0d0887\"],[0.1111111111111111,\"#46039f\"],[0.2222222222222222,\"#7201a8\"],[0.3333333333333333,\"#9c179e\"],[0.4444444444444444,\"#bd3786\"],[0.5555555555555556,\"#d8576b\"],[0.6666666666666666,\"#ed7953\"],[0.7777777777777778,\"#fb9f3a\"],[0.8888888888888888,\"#fdca26\"],[1.0,\"#f0f921\"]],\"sequentialminus\":[[0.0,\"#0d0887\"],[0.1111111111111111,\"#46039f\"],[0.2222222222222222,\"#7201a8\"],[0.3333333333333333,\"#9c179e\"],[0.4444444444444444,\"#bd3786\"],[0.5555555555555556,\"#d8576b\"],[0.6666666666666666,\"#ed7953\"],[0.7777777777777778,\"#fb9f3a\"],[0.8888888888888888,\"#fdca26\"],[1.0,\"#f0f921\"]]},\"colorway\":[\"#636efa\",\"#EF553B\",\"#00cc96\",\"#ab63fa\",\"#FFA15A\",\"#19d3f3\",\"#FF6692\",\"#B6E880\",\"#FF97FF\",\"#FECB52\"],\"font\":{\"color\":\"#2a3f5f\"},\"geo\":{\"bgcolor\":\"white\",\"lakecolor\":\"white\",\"landcolor\":\"#E5ECF6\",\"showlakes\":true,\"showland\":true,\"subunitcolor\":\"white\"},\"hoverlabel\":{\"align\":\"left\"},\"hovermode\":\"closest\",\"mapbox\":{\"style\":\"light\"},\"paper_bgcolor\":\"white\",\"plot_bgcolor\":\"#E5ECF6\",\"polar\":{\"angularaxis\":{\"gridcolor\":\"white\",\"linecolor\":\"white\",\"ticks\":\"\"},\"bgcolor\":\"#E5ECF6\",\"radialaxis\":{\"gridcolor\":\"white\",\"linecolor\":\"white\",\"ticks\":\"\"}},\"scene\":{\"xaxis\":{\"backgroundcolor\":\"#E5ECF6\",\"gridcolor\":\"white\",\"gridwidth\":2,\"linecolor\":\"white\",\"showbackground\":true,\"ticks\":\"\",\"zerolinecolor\":\"white\"},\"yaxis\":{\"backgroundcolor\":\"#E5ECF6\",\"gridcolor\":\"white\",\"gridwidth\":2,\"linecolor\":\"white\",\"showbackground\":true,\"ticks\":\"\",\"zerolinecolor\":\"white\"},\"zaxis\":{\"backgroundcolor\":\"#E5ECF6\",\"gridcolor\":\"white\",\"gridwidth\":2,\"linecolor\":\"white\",\"showbackground\":true,\"ticks\":\"\",\"zerolinecolor\":\"white\"}},\"shapedefaults\":{\"line\":{\"color\":\"#2a3f5f\"}},\"ternary\":{\"aaxis\":{\"gridcolor\":\"white\",\"linecolor\":\"white\",\"ticks\":\"\"},\"baxis\":{\"gridcolor\":\"white\",\"linecolor\":\"white\",\"ticks\":\"\"},\"bgcolor\":\"#E5ECF6\",\"caxis\":{\"gridcolor\":\"white\",\"linecolor\":\"white\",\"ticks\":\"\"}},\"title\":{\"x\":0.05},\"xaxis\":{\"automargin\":true,\"gridcolor\":\"white\",\"linecolor\":\"white\",\"ticks\":\"\",\"title\":{\"standoff\":15},\"zerolinecolor\":\"white\",\"zerolinewidth\":2},\"yaxis\":{\"automargin\":true,\"gridcolor\":\"white\",\"linecolor\":\"white\",\"ticks\":\"\",\"title\":{\"standoff\":15},\"zerolinecolor\":\"white\",\"zerolinewidth\":2}}},\"title\":{\"text\":\"Lucros por se\\u00e7\\u00e3o\"},\"xaxis\":{\"anchor\":\"y\",\"categoryarray\":[\"A\\u00e7ougue\",\"Padaria\",\"Produtos de Limpeza\",\"Alimentos em Geral\"],\"categoryorder\":\"array\",\"domain\":[0.0,1.0],\"title\":{\"text\":\"Se\\u00e7\\u00e3o\"}},\"yaxis\":{\"anchor\":\"x\",\"domain\":[0.0,1.0],\"title\":{\"text\":\"Lucro\"}}},                        {\"responsive\": true}                    ).then(function(){\n",
       "                            \n",
       "var gd = document.getElementById('42864ff5-ae48-4177-8ec3-c4d4b25a7a7b');\n",
       "var x = new MutationObserver(function (mutations, observer) {{\n",
       "        var display = window.getComputedStyle(gd).display;\n",
       "        if (!display || display === 'none') {{\n",
       "            console.log([gd, 'removed!']);\n",
       "            Plotly.purge(gd);\n",
       "            observer.disconnect();\n",
       "        }}\n",
       "}});\n",
       "\n",
       "// Listen for the removal of the full notebook cells\n",
       "var notebookContainer = gd.closest('#notebook-container');\n",
       "if (notebookContainer) {{\n",
       "    x.observe(notebookContainer, {childList: true});\n",
       "}}\n",
       "\n",
       "// Listen for the clearing of the current output cell\n",
       "var outputEl = gd.closest('.output');\n",
       "if (outputEl) {{\n",
       "    x.observe(outputEl, {childList: true});\n",
       "}}\n",
       "\n",
       "                        })                };                });            </script>        </div>"
      ]
     },
     "metadata": {},
     "output_type": "display_data"
    }
   ],
   "source": [
    "lucro_secao=venda_produtos_cliente.groupby(\"secao\").sum().sort_values('lucro', ascending=False ).reset_index()\n",
    "\n",
    "fig2 = px.bar(lucro_secao, x=\"secao\", y=\"lucro\", color = \"secao\", barmode = 'stack',\n",
    "             labels={\"lucro\":\"Lucro\", \"secao\":\"Seção\"}, color_discrete_map={'Açougue': '#00CC96', \n",
    "                                                   'Padaria': '#00CC96', 'Produtos de Limpeza': '#00CC96', 'Alimentos em Geral': '#00CC96'})\n",
    "fig2.update_layout(title = 'Lucros por seção', showlegend=False)\n",
    "fig2.show()"
   ]
  },
  {
   "cell_type": "code",
   "execution_count": 37,
   "id": "2cc1f63c",
   "metadata": {},
   "outputs": [
    {
     "data": {
      "application/vnd.plotly.v1+json": {
       "config": {
        "plotlyServerURL": "https://plot.ly"
       },
       "data": [
        {
         "name": "",
         "type": "bar",
         "x": [
          "abobrinha",
          "arroz",
          "macarrão",
          "melancia",
          "morango",
          "feijão",
          "berinjela",
          "alface",
          "banana",
          "couve-flor",
          "batata",
          "uva"
         ],
         "xaxis": "x",
         "y": [
          207,
          199,
          194,
          194,
          192,
          186,
          172,
          169,
          168,
          168,
          163,
          117
         ],
         "yaxis": "y"
        },
        {
         "name": "",
         "type": "bar",
         "x": [
          "alcatra",
          "picanha",
          "paleta suína",
          "peito de frango",
          "carré de cordeiro",
          "maminha",
          "bisteca suína",
          "costela"
         ],
         "xaxis": "x2",
         "y": [
          200,
          187,
          181,
          180,
          167,
          165,
          162,
          126
         ],
         "yaxis": "y2"
        },
        {
         "name": "",
         "type": "bar",
         "x": [
          "sonho",
          "pão de forma",
          "pastel",
          "bolo",
          "pão de queijo",
          "pão francês",
          "sanduíche",
          "torta"
         ],
         "xaxis": "x3",
         "y": [
          211,
          197,
          188,
          186,
          182,
          182,
          179,
          157
         ],
         "yaxis": "y3"
        },
        {
         "name": "",
         "type": "bar",
         "x": [
          "detergente",
          "água sanitária",
          "amaciante",
          "flanela",
          "sabão em pó",
          "rodo",
          "odorizador",
          "sabonete"
         ],
         "xaxis": "x4",
         "y": [
          182,
          170,
          169,
          165,
          163,
          162,
          159,
          156
         ],
         "yaxis": "y4"
        }
       ],
       "layout": {
        "annotations": [
         {
          "font": {
           "size": 16
          },
          "showarrow": false,
          "text": "Quantidades vendidas em alimentos em geral",
          "x": 0.225,
          "xanchor": "center",
          "xref": "paper",
          "y": 1,
          "yanchor": "bottom",
          "yref": "paper"
         },
         {
          "font": {
           "size": 16
          },
          "showarrow": false,
          "text": "Quantidades vendidas no açougue",
          "x": 0.775,
          "xanchor": "center",
          "xref": "paper",
          "y": 1,
          "yanchor": "bottom",
          "yref": "paper"
         },
         {
          "font": {
           "size": 16
          },
          "showarrow": false,
          "text": "Quantidades vendidas na padaria",
          "x": 0.225,
          "xanchor": "center",
          "xref": "paper",
          "y": 0.375,
          "yanchor": "bottom",
          "yref": "paper"
         },
         {
          "font": {
           "size": 16
          },
          "showarrow": false,
          "text": "Quantidades vendidas em produtos de limpeza",
          "x": 0.775,
          "xanchor": "center",
          "xref": "paper",
          "y": 0.375,
          "yanchor": "bottom",
          "yref": "paper"
         }
        ],
        "height": 650,
        "showlegend": false,
        "template": {
         "data": {
          "bar": [
           {
            "error_x": {
             "color": "#2a3f5f"
            },
            "error_y": {
             "color": "#2a3f5f"
            },
            "marker": {
             "line": {
              "color": "#E5ECF6",
              "width": 0.5
             },
             "pattern": {
              "fillmode": "overlay",
              "size": 10,
              "solidity": 0.2
             }
            },
            "type": "bar"
           }
          ],
          "barpolar": [
           {
            "marker": {
             "line": {
              "color": "#E5ECF6",
              "width": 0.5
             },
             "pattern": {
              "fillmode": "overlay",
              "size": 10,
              "solidity": 0.2
             }
            },
            "type": "barpolar"
           }
          ],
          "carpet": [
           {
            "aaxis": {
             "endlinecolor": "#2a3f5f",
             "gridcolor": "white",
             "linecolor": "white",
             "minorgridcolor": "white",
             "startlinecolor": "#2a3f5f"
            },
            "baxis": {
             "endlinecolor": "#2a3f5f",
             "gridcolor": "white",
             "linecolor": "white",
             "minorgridcolor": "white",
             "startlinecolor": "#2a3f5f"
            },
            "type": "carpet"
           }
          ],
          "choropleth": [
           {
            "colorbar": {
             "outlinewidth": 0,
             "ticks": ""
            },
            "type": "choropleth"
           }
          ],
          "contour": [
           {
            "colorbar": {
             "outlinewidth": 0,
             "ticks": ""
            },
            "colorscale": [
             [
              0,
              "#0d0887"
             ],
             [
              0.1111111111111111,
              "#46039f"
             ],
             [
              0.2222222222222222,
              "#7201a8"
             ],
             [
              0.3333333333333333,
              "#9c179e"
             ],
             [
              0.4444444444444444,
              "#bd3786"
             ],
             [
              0.5555555555555556,
              "#d8576b"
             ],
             [
              0.6666666666666666,
              "#ed7953"
             ],
             [
              0.7777777777777778,
              "#fb9f3a"
             ],
             [
              0.8888888888888888,
              "#fdca26"
             ],
             [
              1,
              "#f0f921"
             ]
            ],
            "type": "contour"
           }
          ],
          "contourcarpet": [
           {
            "colorbar": {
             "outlinewidth": 0,
             "ticks": ""
            },
            "type": "contourcarpet"
           }
          ],
          "heatmap": [
           {
            "colorbar": {
             "outlinewidth": 0,
             "ticks": ""
            },
            "colorscale": [
             [
              0,
              "#0d0887"
             ],
             [
              0.1111111111111111,
              "#46039f"
             ],
             [
              0.2222222222222222,
              "#7201a8"
             ],
             [
              0.3333333333333333,
              "#9c179e"
             ],
             [
              0.4444444444444444,
              "#bd3786"
             ],
             [
              0.5555555555555556,
              "#d8576b"
             ],
             [
              0.6666666666666666,
              "#ed7953"
             ],
             [
              0.7777777777777778,
              "#fb9f3a"
             ],
             [
              0.8888888888888888,
              "#fdca26"
             ],
             [
              1,
              "#f0f921"
             ]
            ],
            "type": "heatmap"
           }
          ],
          "heatmapgl": [
           {
            "colorbar": {
             "outlinewidth": 0,
             "ticks": ""
            },
            "colorscale": [
             [
              0,
              "#0d0887"
             ],
             [
              0.1111111111111111,
              "#46039f"
             ],
             [
              0.2222222222222222,
              "#7201a8"
             ],
             [
              0.3333333333333333,
              "#9c179e"
             ],
             [
              0.4444444444444444,
              "#bd3786"
             ],
             [
              0.5555555555555556,
              "#d8576b"
             ],
             [
              0.6666666666666666,
              "#ed7953"
             ],
             [
              0.7777777777777778,
              "#fb9f3a"
             ],
             [
              0.8888888888888888,
              "#fdca26"
             ],
             [
              1,
              "#f0f921"
             ]
            ],
            "type": "heatmapgl"
           }
          ],
          "histogram": [
           {
            "marker": {
             "pattern": {
              "fillmode": "overlay",
              "size": 10,
              "solidity": 0.2
             }
            },
            "type": "histogram"
           }
          ],
          "histogram2d": [
           {
            "colorbar": {
             "outlinewidth": 0,
             "ticks": ""
            },
            "colorscale": [
             [
              0,
              "#0d0887"
             ],
             [
              0.1111111111111111,
              "#46039f"
             ],
             [
              0.2222222222222222,
              "#7201a8"
             ],
             [
              0.3333333333333333,
              "#9c179e"
             ],
             [
              0.4444444444444444,
              "#bd3786"
             ],
             [
              0.5555555555555556,
              "#d8576b"
             ],
             [
              0.6666666666666666,
              "#ed7953"
             ],
             [
              0.7777777777777778,
              "#fb9f3a"
             ],
             [
              0.8888888888888888,
              "#fdca26"
             ],
             [
              1,
              "#f0f921"
             ]
            ],
            "type": "histogram2d"
           }
          ],
          "histogram2dcontour": [
           {
            "colorbar": {
             "outlinewidth": 0,
             "ticks": ""
            },
            "colorscale": [
             [
              0,
              "#0d0887"
             ],
             [
              0.1111111111111111,
              "#46039f"
             ],
             [
              0.2222222222222222,
              "#7201a8"
             ],
             [
              0.3333333333333333,
              "#9c179e"
             ],
             [
              0.4444444444444444,
              "#bd3786"
             ],
             [
              0.5555555555555556,
              "#d8576b"
             ],
             [
              0.6666666666666666,
              "#ed7953"
             ],
             [
              0.7777777777777778,
              "#fb9f3a"
             ],
             [
              0.8888888888888888,
              "#fdca26"
             ],
             [
              1,
              "#f0f921"
             ]
            ],
            "type": "histogram2dcontour"
           }
          ],
          "mesh3d": [
           {
            "colorbar": {
             "outlinewidth": 0,
             "ticks": ""
            },
            "type": "mesh3d"
           }
          ],
          "parcoords": [
           {
            "line": {
             "colorbar": {
              "outlinewidth": 0,
              "ticks": ""
             }
            },
            "type": "parcoords"
           }
          ],
          "pie": [
           {
            "automargin": true,
            "type": "pie"
           }
          ],
          "scatter": [
           {
            "marker": {
             "colorbar": {
              "outlinewidth": 0,
              "ticks": ""
             }
            },
            "type": "scatter"
           }
          ],
          "scatter3d": [
           {
            "line": {
             "colorbar": {
              "outlinewidth": 0,
              "ticks": ""
             }
            },
            "marker": {
             "colorbar": {
              "outlinewidth": 0,
              "ticks": ""
             }
            },
            "type": "scatter3d"
           }
          ],
          "scattercarpet": [
           {
            "marker": {
             "colorbar": {
              "outlinewidth": 0,
              "ticks": ""
             }
            },
            "type": "scattercarpet"
           }
          ],
          "scattergeo": [
           {
            "marker": {
             "colorbar": {
              "outlinewidth": 0,
              "ticks": ""
             }
            },
            "type": "scattergeo"
           }
          ],
          "scattergl": [
           {
            "marker": {
             "colorbar": {
              "outlinewidth": 0,
              "ticks": ""
             }
            },
            "type": "scattergl"
           }
          ],
          "scattermapbox": [
           {
            "marker": {
             "colorbar": {
              "outlinewidth": 0,
              "ticks": ""
             }
            },
            "type": "scattermapbox"
           }
          ],
          "scatterpolar": [
           {
            "marker": {
             "colorbar": {
              "outlinewidth": 0,
              "ticks": ""
             }
            },
            "type": "scatterpolar"
           }
          ],
          "scatterpolargl": [
           {
            "marker": {
             "colorbar": {
              "outlinewidth": 0,
              "ticks": ""
             }
            },
            "type": "scatterpolargl"
           }
          ],
          "scatterternary": [
           {
            "marker": {
             "colorbar": {
              "outlinewidth": 0,
              "ticks": ""
             }
            },
            "type": "scatterternary"
           }
          ],
          "surface": [
           {
            "colorbar": {
             "outlinewidth": 0,
             "ticks": ""
            },
            "colorscale": [
             [
              0,
              "#0d0887"
             ],
             [
              0.1111111111111111,
              "#46039f"
             ],
             [
              0.2222222222222222,
              "#7201a8"
             ],
             [
              0.3333333333333333,
              "#9c179e"
             ],
             [
              0.4444444444444444,
              "#bd3786"
             ],
             [
              0.5555555555555556,
              "#d8576b"
             ],
             [
              0.6666666666666666,
              "#ed7953"
             ],
             [
              0.7777777777777778,
              "#fb9f3a"
             ],
             [
              0.8888888888888888,
              "#fdca26"
             ],
             [
              1,
              "#f0f921"
             ]
            ],
            "type": "surface"
           }
          ],
          "table": [
           {
            "cells": {
             "fill": {
              "color": "#EBF0F8"
             },
             "line": {
              "color": "white"
             }
            },
            "header": {
             "fill": {
              "color": "#C8D4E3"
             },
             "line": {
              "color": "white"
             }
            },
            "type": "table"
           }
          ]
         },
         "layout": {
          "annotationdefaults": {
           "arrowcolor": "#2a3f5f",
           "arrowhead": 0,
           "arrowwidth": 1
          },
          "autotypenumbers": "strict",
          "coloraxis": {
           "colorbar": {
            "outlinewidth": 0,
            "ticks": ""
           }
          },
          "colorscale": {
           "diverging": [
            [
             0,
             "#8e0152"
            ],
            [
             0.1,
             "#c51b7d"
            ],
            [
             0.2,
             "#de77ae"
            ],
            [
             0.3,
             "#f1b6da"
            ],
            [
             0.4,
             "#fde0ef"
            ],
            [
             0.5,
             "#f7f7f7"
            ],
            [
             0.6,
             "#e6f5d0"
            ],
            [
             0.7,
             "#b8e186"
            ],
            [
             0.8,
             "#7fbc41"
            ],
            [
             0.9,
             "#4d9221"
            ],
            [
             1,
             "#276419"
            ]
           ],
           "sequential": [
            [
             0,
             "#0d0887"
            ],
            [
             0.1111111111111111,
             "#46039f"
            ],
            [
             0.2222222222222222,
             "#7201a8"
            ],
            [
             0.3333333333333333,
             "#9c179e"
            ],
            [
             0.4444444444444444,
             "#bd3786"
            ],
            [
             0.5555555555555556,
             "#d8576b"
            ],
            [
             0.6666666666666666,
             "#ed7953"
            ],
            [
             0.7777777777777778,
             "#fb9f3a"
            ],
            [
             0.8888888888888888,
             "#fdca26"
            ],
            [
             1,
             "#f0f921"
            ]
           ],
           "sequentialminus": [
            [
             0,
             "#0d0887"
            ],
            [
             0.1111111111111111,
             "#46039f"
            ],
            [
             0.2222222222222222,
             "#7201a8"
            ],
            [
             0.3333333333333333,
             "#9c179e"
            ],
            [
             0.4444444444444444,
             "#bd3786"
            ],
            [
             0.5555555555555556,
             "#d8576b"
            ],
            [
             0.6666666666666666,
             "#ed7953"
            ],
            [
             0.7777777777777778,
             "#fb9f3a"
            ],
            [
             0.8888888888888888,
             "#fdca26"
            ],
            [
             1,
             "#f0f921"
            ]
           ]
          },
          "colorway": [
           "#636efa",
           "#EF553B",
           "#00cc96",
           "#ab63fa",
           "#FFA15A",
           "#19d3f3",
           "#FF6692",
           "#B6E880",
           "#FF97FF",
           "#FECB52"
          ],
          "font": {
           "color": "#2a3f5f"
          },
          "geo": {
           "bgcolor": "white",
           "lakecolor": "white",
           "landcolor": "#E5ECF6",
           "showlakes": true,
           "showland": true,
           "subunitcolor": "white"
          },
          "hoverlabel": {
           "align": "left"
          },
          "hovermode": "closest",
          "mapbox": {
           "style": "light"
          },
          "paper_bgcolor": "white",
          "plot_bgcolor": "#E5ECF6",
          "polar": {
           "angularaxis": {
            "gridcolor": "white",
            "linecolor": "white",
            "ticks": ""
           },
           "bgcolor": "#E5ECF6",
           "radialaxis": {
            "gridcolor": "white",
            "linecolor": "white",
            "ticks": ""
           }
          },
          "scene": {
           "xaxis": {
            "backgroundcolor": "#E5ECF6",
            "gridcolor": "white",
            "gridwidth": 2,
            "linecolor": "white",
            "showbackground": true,
            "ticks": "",
            "zerolinecolor": "white"
           },
           "yaxis": {
            "backgroundcolor": "#E5ECF6",
            "gridcolor": "white",
            "gridwidth": 2,
            "linecolor": "white",
            "showbackground": true,
            "ticks": "",
            "zerolinecolor": "white"
           },
           "zaxis": {
            "backgroundcolor": "#E5ECF6",
            "gridcolor": "white",
            "gridwidth": 2,
            "linecolor": "white",
            "showbackground": true,
            "ticks": "",
            "zerolinecolor": "white"
           }
          },
          "shapedefaults": {
           "line": {
            "color": "#2a3f5f"
           }
          },
          "ternary": {
           "aaxis": {
            "gridcolor": "white",
            "linecolor": "white",
            "ticks": ""
           },
           "baxis": {
            "gridcolor": "white",
            "linecolor": "white",
            "ticks": ""
           },
           "bgcolor": "#E5ECF6",
           "caxis": {
            "gridcolor": "white",
            "linecolor": "white",
            "ticks": ""
           }
          },
          "title": {
           "x": 0.05
          },
          "xaxis": {
           "automargin": true,
           "gridcolor": "white",
           "linecolor": "white",
           "ticks": "",
           "title": {
            "standoff": 15
           },
           "zerolinecolor": "white",
           "zerolinewidth": 2
          },
          "yaxis": {
           "automargin": true,
           "gridcolor": "white",
           "linecolor": "white",
           "ticks": "",
           "title": {
            "standoff": 15
           },
           "zerolinecolor": "white",
           "zerolinewidth": 2
          }
         }
        },
        "title": {
         "text": "Produtos mais vendidos"
        },
        "width": 800,
        "xaxis": {
         "anchor": "y",
         "domain": [
          0,
          0.45
         ],
         "tickangle": 45
        },
        "xaxis2": {
         "anchor": "y2",
         "domain": [
          0.55,
          1
         ],
         "tickangle": 45
        },
        "xaxis3": {
         "anchor": "y3",
         "domain": [
          0,
          0.45
         ],
         "tickangle": 45
        },
        "xaxis4": {
         "anchor": "y4",
         "domain": [
          0.55,
          1
         ],
         "tickangle": 45
        },
        "yaxis": {
         "anchor": "x",
         "domain": [
          0.625,
          1
         ]
        },
        "yaxis2": {
         "anchor": "x2",
         "domain": [
          0.625,
          1
         ],
         "matches": "y",
         "showticklabels": false
        },
        "yaxis3": {
         "anchor": "x3",
         "domain": [
          0,
          0.375
         ]
        },
        "yaxis4": {
         "anchor": "x4",
         "domain": [
          0,
          0.375
         ],
         "matches": "y3",
         "showticklabels": false
        }
       }
      },
      "text/html": [
       "<div>                            <div id=\"6fbfd266-1826-494c-a976-e18f069437ca\" class=\"plotly-graph-div\" style=\"height:650px; width:800px;\"></div>            <script type=\"text/javascript\">                require([\"plotly\"], function(Plotly) {                    window.PLOTLYENV=window.PLOTLYENV || {};                                    if (document.getElementById(\"6fbfd266-1826-494c-a976-e18f069437ca\")) {                    Plotly.newPlot(                        \"6fbfd266-1826-494c-a976-e18f069437ca\",                        [{\"name\":\"\",\"type\":\"bar\",\"x\":[\"abobrinha\",\"arroz\",\"macarr\\u00e3o\",\"melancia\",\"morango\",\"feij\\u00e3o\",\"berinjela\",\"alface\",\"banana\",\"couve-flor\",\"batata\",\"uva\"],\"xaxis\":\"x\",\"y\":[207,199,194,194,192,186,172,169,168,168,163,117],\"yaxis\":\"y\"},{\"name\":\"\",\"type\":\"bar\",\"x\":[\"alcatra\",\"picanha\",\"paleta su\\u00edna\",\"peito de frango\",\"carr\\u00e9 de cordeiro\",\"maminha\",\"bisteca su\\u00edna\",\"costela\"],\"xaxis\":\"x2\",\"y\":[200,187,181,180,167,165,162,126],\"yaxis\":\"y2\"},{\"name\":\"\",\"type\":\"bar\",\"x\":[\"sonho\",\"p\\u00e3o de forma\",\"pastel\",\"bolo\",\"p\\u00e3o de queijo\",\"p\\u00e3o franc\\u00eas\",\"sandu\\u00edche\",\"torta\"],\"xaxis\":\"x3\",\"y\":[211,197,188,186,182,182,179,157],\"yaxis\":\"y3\"},{\"name\":\"\",\"type\":\"bar\",\"x\":[\"detergente\",\"\\u00e1gua sanit\\u00e1ria\",\"amaciante\",\"flanela\",\"sab\\u00e3o em p\\u00f3\",\"rodo\",\"odorizador\",\"sabonete\"],\"xaxis\":\"x4\",\"y\":[182,170,169,165,163,162,159,156],\"yaxis\":\"y4\"}],                        {\"annotations\":[{\"font\":{\"size\":16},\"showarrow\":false,\"text\":\"Quantidades vendidas em alimentos em geral\",\"x\":0.225,\"xanchor\":\"center\",\"xref\":\"paper\",\"y\":1.0,\"yanchor\":\"bottom\",\"yref\":\"paper\"},{\"font\":{\"size\":16},\"showarrow\":false,\"text\":\"Quantidades vendidas no a\\u00e7ougue\",\"x\":0.775,\"xanchor\":\"center\",\"xref\":\"paper\",\"y\":1.0,\"yanchor\":\"bottom\",\"yref\":\"paper\"},{\"font\":{\"size\":16},\"showarrow\":false,\"text\":\"Quantidades vendidas na padaria\",\"x\":0.225,\"xanchor\":\"center\",\"xref\":\"paper\",\"y\":0.375,\"yanchor\":\"bottom\",\"yref\":\"paper\"},{\"font\":{\"size\":16},\"showarrow\":false,\"text\":\"Quantidades vendidas em produtos de limpeza\",\"x\":0.775,\"xanchor\":\"center\",\"xref\":\"paper\",\"y\":0.375,\"yanchor\":\"bottom\",\"yref\":\"paper\"}],\"height\":650,\"showlegend\":false,\"template\":{\"data\":{\"bar\":[{\"error_x\":{\"color\":\"#2a3f5f\"},\"error_y\":{\"color\":\"#2a3f5f\"},\"marker\":{\"line\":{\"color\":\"#E5ECF6\",\"width\":0.5},\"pattern\":{\"fillmode\":\"overlay\",\"size\":10,\"solidity\":0.2}},\"type\":\"bar\"}],\"barpolar\":[{\"marker\":{\"line\":{\"color\":\"#E5ECF6\",\"width\":0.5},\"pattern\":{\"fillmode\":\"overlay\",\"size\":10,\"solidity\":0.2}},\"type\":\"barpolar\"}],\"carpet\":[{\"aaxis\":{\"endlinecolor\":\"#2a3f5f\",\"gridcolor\":\"white\",\"linecolor\":\"white\",\"minorgridcolor\":\"white\",\"startlinecolor\":\"#2a3f5f\"},\"baxis\":{\"endlinecolor\":\"#2a3f5f\",\"gridcolor\":\"white\",\"linecolor\":\"white\",\"minorgridcolor\":\"white\",\"startlinecolor\":\"#2a3f5f\"},\"type\":\"carpet\"}],\"choropleth\":[{\"colorbar\":{\"outlinewidth\":0,\"ticks\":\"\"},\"type\":\"choropleth\"}],\"contour\":[{\"colorbar\":{\"outlinewidth\":0,\"ticks\":\"\"},\"colorscale\":[[0.0,\"#0d0887\"],[0.1111111111111111,\"#46039f\"],[0.2222222222222222,\"#7201a8\"],[0.3333333333333333,\"#9c179e\"],[0.4444444444444444,\"#bd3786\"],[0.5555555555555556,\"#d8576b\"],[0.6666666666666666,\"#ed7953\"],[0.7777777777777778,\"#fb9f3a\"],[0.8888888888888888,\"#fdca26\"],[1.0,\"#f0f921\"]],\"type\":\"contour\"}],\"contourcarpet\":[{\"colorbar\":{\"outlinewidth\":0,\"ticks\":\"\"},\"type\":\"contourcarpet\"}],\"heatmap\":[{\"colorbar\":{\"outlinewidth\":0,\"ticks\":\"\"},\"colorscale\":[[0.0,\"#0d0887\"],[0.1111111111111111,\"#46039f\"],[0.2222222222222222,\"#7201a8\"],[0.3333333333333333,\"#9c179e\"],[0.4444444444444444,\"#bd3786\"],[0.5555555555555556,\"#d8576b\"],[0.6666666666666666,\"#ed7953\"],[0.7777777777777778,\"#fb9f3a\"],[0.8888888888888888,\"#fdca26\"],[1.0,\"#f0f921\"]],\"type\":\"heatmap\"}],\"heatmapgl\":[{\"colorbar\":{\"outlinewidth\":0,\"ticks\":\"\"},\"colorscale\":[[0.0,\"#0d0887\"],[0.1111111111111111,\"#46039f\"],[0.2222222222222222,\"#7201a8\"],[0.3333333333333333,\"#9c179e\"],[0.4444444444444444,\"#bd3786\"],[0.5555555555555556,\"#d8576b\"],[0.6666666666666666,\"#ed7953\"],[0.7777777777777778,\"#fb9f3a\"],[0.8888888888888888,\"#fdca26\"],[1.0,\"#f0f921\"]],\"type\":\"heatmapgl\"}],\"histogram\":[{\"marker\":{\"pattern\":{\"fillmode\":\"overlay\",\"size\":10,\"solidity\":0.2}},\"type\":\"histogram\"}],\"histogram2d\":[{\"colorbar\":{\"outlinewidth\":0,\"ticks\":\"\"},\"colorscale\":[[0.0,\"#0d0887\"],[0.1111111111111111,\"#46039f\"],[0.2222222222222222,\"#7201a8\"],[0.3333333333333333,\"#9c179e\"],[0.4444444444444444,\"#bd3786\"],[0.5555555555555556,\"#d8576b\"],[0.6666666666666666,\"#ed7953\"],[0.7777777777777778,\"#fb9f3a\"],[0.8888888888888888,\"#fdca26\"],[1.0,\"#f0f921\"]],\"type\":\"histogram2d\"}],\"histogram2dcontour\":[{\"colorbar\":{\"outlinewidth\":0,\"ticks\":\"\"},\"colorscale\":[[0.0,\"#0d0887\"],[0.1111111111111111,\"#46039f\"],[0.2222222222222222,\"#7201a8\"],[0.3333333333333333,\"#9c179e\"],[0.4444444444444444,\"#bd3786\"],[0.5555555555555556,\"#d8576b\"],[0.6666666666666666,\"#ed7953\"],[0.7777777777777778,\"#fb9f3a\"],[0.8888888888888888,\"#fdca26\"],[1.0,\"#f0f921\"]],\"type\":\"histogram2dcontour\"}],\"mesh3d\":[{\"colorbar\":{\"outlinewidth\":0,\"ticks\":\"\"},\"type\":\"mesh3d\"}],\"parcoords\":[{\"line\":{\"colorbar\":{\"outlinewidth\":0,\"ticks\":\"\"}},\"type\":\"parcoords\"}],\"pie\":[{\"automargin\":true,\"type\":\"pie\"}],\"scatter\":[{\"marker\":{\"colorbar\":{\"outlinewidth\":0,\"ticks\":\"\"}},\"type\":\"scatter\"}],\"scatter3d\":[{\"line\":{\"colorbar\":{\"outlinewidth\":0,\"ticks\":\"\"}},\"marker\":{\"colorbar\":{\"outlinewidth\":0,\"ticks\":\"\"}},\"type\":\"scatter3d\"}],\"scattercarpet\":[{\"marker\":{\"colorbar\":{\"outlinewidth\":0,\"ticks\":\"\"}},\"type\":\"scattercarpet\"}],\"scattergeo\":[{\"marker\":{\"colorbar\":{\"outlinewidth\":0,\"ticks\":\"\"}},\"type\":\"scattergeo\"}],\"scattergl\":[{\"marker\":{\"colorbar\":{\"outlinewidth\":0,\"ticks\":\"\"}},\"type\":\"scattergl\"}],\"scattermapbox\":[{\"marker\":{\"colorbar\":{\"outlinewidth\":0,\"ticks\":\"\"}},\"type\":\"scattermapbox\"}],\"scatterpolar\":[{\"marker\":{\"colorbar\":{\"outlinewidth\":0,\"ticks\":\"\"}},\"type\":\"scatterpolar\"}],\"scatterpolargl\":[{\"marker\":{\"colorbar\":{\"outlinewidth\":0,\"ticks\":\"\"}},\"type\":\"scatterpolargl\"}],\"scatterternary\":[{\"marker\":{\"colorbar\":{\"outlinewidth\":0,\"ticks\":\"\"}},\"type\":\"scatterternary\"}],\"surface\":[{\"colorbar\":{\"outlinewidth\":0,\"ticks\":\"\"},\"colorscale\":[[0.0,\"#0d0887\"],[0.1111111111111111,\"#46039f\"],[0.2222222222222222,\"#7201a8\"],[0.3333333333333333,\"#9c179e\"],[0.4444444444444444,\"#bd3786\"],[0.5555555555555556,\"#d8576b\"],[0.6666666666666666,\"#ed7953\"],[0.7777777777777778,\"#fb9f3a\"],[0.8888888888888888,\"#fdca26\"],[1.0,\"#f0f921\"]],\"type\":\"surface\"}],\"table\":[{\"cells\":{\"fill\":{\"color\":\"#EBF0F8\"},\"line\":{\"color\":\"white\"}},\"header\":{\"fill\":{\"color\":\"#C8D4E3\"},\"line\":{\"color\":\"white\"}},\"type\":\"table\"}]},\"layout\":{\"annotationdefaults\":{\"arrowcolor\":\"#2a3f5f\",\"arrowhead\":0,\"arrowwidth\":1},\"autotypenumbers\":\"strict\",\"coloraxis\":{\"colorbar\":{\"outlinewidth\":0,\"ticks\":\"\"}},\"colorscale\":{\"diverging\":[[0,\"#8e0152\"],[0.1,\"#c51b7d\"],[0.2,\"#de77ae\"],[0.3,\"#f1b6da\"],[0.4,\"#fde0ef\"],[0.5,\"#f7f7f7\"],[0.6,\"#e6f5d0\"],[0.7,\"#b8e186\"],[0.8,\"#7fbc41\"],[0.9,\"#4d9221\"],[1,\"#276419\"]],\"sequential\":[[0.0,\"#0d0887\"],[0.1111111111111111,\"#46039f\"],[0.2222222222222222,\"#7201a8\"],[0.3333333333333333,\"#9c179e\"],[0.4444444444444444,\"#bd3786\"],[0.5555555555555556,\"#d8576b\"],[0.6666666666666666,\"#ed7953\"],[0.7777777777777778,\"#fb9f3a\"],[0.8888888888888888,\"#fdca26\"],[1.0,\"#f0f921\"]],\"sequentialminus\":[[0.0,\"#0d0887\"],[0.1111111111111111,\"#46039f\"],[0.2222222222222222,\"#7201a8\"],[0.3333333333333333,\"#9c179e\"],[0.4444444444444444,\"#bd3786\"],[0.5555555555555556,\"#d8576b\"],[0.6666666666666666,\"#ed7953\"],[0.7777777777777778,\"#fb9f3a\"],[0.8888888888888888,\"#fdca26\"],[1.0,\"#f0f921\"]]},\"colorway\":[\"#636efa\",\"#EF553B\",\"#00cc96\",\"#ab63fa\",\"#FFA15A\",\"#19d3f3\",\"#FF6692\",\"#B6E880\",\"#FF97FF\",\"#FECB52\"],\"font\":{\"color\":\"#2a3f5f\"},\"geo\":{\"bgcolor\":\"white\",\"lakecolor\":\"white\",\"landcolor\":\"#E5ECF6\",\"showlakes\":true,\"showland\":true,\"subunitcolor\":\"white\"},\"hoverlabel\":{\"align\":\"left\"},\"hovermode\":\"closest\",\"mapbox\":{\"style\":\"light\"},\"paper_bgcolor\":\"white\",\"plot_bgcolor\":\"#E5ECF6\",\"polar\":{\"angularaxis\":{\"gridcolor\":\"white\",\"linecolor\":\"white\",\"ticks\":\"\"},\"bgcolor\":\"#E5ECF6\",\"radialaxis\":{\"gridcolor\":\"white\",\"linecolor\":\"white\",\"ticks\":\"\"}},\"scene\":{\"xaxis\":{\"backgroundcolor\":\"#E5ECF6\",\"gridcolor\":\"white\",\"gridwidth\":2,\"linecolor\":\"white\",\"showbackground\":true,\"ticks\":\"\",\"zerolinecolor\":\"white\"},\"yaxis\":{\"backgroundcolor\":\"#E5ECF6\",\"gridcolor\":\"white\",\"gridwidth\":2,\"linecolor\":\"white\",\"showbackground\":true,\"ticks\":\"\",\"zerolinecolor\":\"white\"},\"zaxis\":{\"backgroundcolor\":\"#E5ECF6\",\"gridcolor\":\"white\",\"gridwidth\":2,\"linecolor\":\"white\",\"showbackground\":true,\"ticks\":\"\",\"zerolinecolor\":\"white\"}},\"shapedefaults\":{\"line\":{\"color\":\"#2a3f5f\"}},\"ternary\":{\"aaxis\":{\"gridcolor\":\"white\",\"linecolor\":\"white\",\"ticks\":\"\"},\"baxis\":{\"gridcolor\":\"white\",\"linecolor\":\"white\",\"ticks\":\"\"},\"bgcolor\":\"#E5ECF6\",\"caxis\":{\"gridcolor\":\"white\",\"linecolor\":\"white\",\"ticks\":\"\"}},\"title\":{\"x\":0.05},\"xaxis\":{\"automargin\":true,\"gridcolor\":\"white\",\"linecolor\":\"white\",\"ticks\":\"\",\"title\":{\"standoff\":15},\"zerolinecolor\":\"white\",\"zerolinewidth\":2},\"yaxis\":{\"automargin\":true,\"gridcolor\":\"white\",\"linecolor\":\"white\",\"ticks\":\"\",\"title\":{\"standoff\":15},\"zerolinecolor\":\"white\",\"zerolinewidth\":2}}},\"title\":{\"text\":\"Produtos mais vendidos\"},\"width\":800,\"xaxis\":{\"anchor\":\"y\",\"domain\":[0.0,0.45],\"tickangle\":45},\"xaxis2\":{\"anchor\":\"y2\",\"domain\":[0.55,1.0],\"tickangle\":45},\"xaxis3\":{\"anchor\":\"y3\",\"domain\":[0.0,0.45],\"tickangle\":45},\"xaxis4\":{\"anchor\":\"y4\",\"domain\":[0.55,1.0],\"tickangle\":45},\"yaxis\":{\"anchor\":\"x\",\"domain\":[0.625,1.0]},\"yaxis2\":{\"anchor\":\"x2\",\"domain\":[0.625,1.0],\"matches\":\"y\",\"showticklabels\":false},\"yaxis3\":{\"anchor\":\"x3\",\"domain\":[0.0,0.375]},\"yaxis4\":{\"anchor\":\"x4\",\"domain\":[0.0,0.375],\"matches\":\"y3\",\"showticklabels\":false}},                        {\"responsive\": true}                    ).then(function(){\n",
       "                            \n",
       "var gd = document.getElementById('6fbfd266-1826-494c-a976-e18f069437ca');\n",
       "var x = new MutationObserver(function (mutations, observer) {{\n",
       "        var display = window.getComputedStyle(gd).display;\n",
       "        if (!display || display === 'none') {{\n",
       "            console.log([gd, 'removed!']);\n",
       "            Plotly.purge(gd);\n",
       "            observer.disconnect();\n",
       "        }}\n",
       "}});\n",
       "\n",
       "// Listen for the removal of the full notebook cells\n",
       "var notebookContainer = gd.closest('#notebook-container');\n",
       "if (notebookContainer) {{\n",
       "    x.observe(notebookContainer, {childList: true});\n",
       "}}\n",
       "\n",
       "// Listen for the clearing of the current output cell\n",
       "var outputEl = gd.closest('.output');\n",
       "if (outputEl) {{\n",
       "    x.observe(outputEl, {childList: true});\n",
       "}}\n",
       "\n",
       "                        })                };                });            </script>        </div>"
      ]
     },
     "metadata": {},
     "output_type": "display_data"
    }
   ],
   "source": [
    "from plotly.subplots import make_subplots\n",
    "\n",
    "df_frutas_e_verduras_quantidade=df_frutas_e_verduras.groupby(\"nome\").sum().sort_values('quantidade', ascending=False).reset_index()\n",
    "df_acougue_quantidade=df_acougue.groupby(\"nome\").sum().sort_values('quantidade', ascending=False).reset_index()\n",
    "df_padaria_quantidade=df_padaria.groupby(\"nome\").sum().sort_values('quantidade', ascending=False).reset_index()\n",
    "df_limpeza_quantidade=df_produtos_de_limpeza.groupby(\"nome\").sum().sort_values('quantidade', ascending=False).reset_index()\n",
    "\n",
    "fig = make_subplots(rows=2, cols=2, shared_yaxes=True, \n",
    "    subplot_titles=(\"Quantidades vendidas em alimentos em geral\", \"Quantidades vendidas no açougue\", \"Quantidades vendidas na padaria\", \"Quantidades vendidas em produtos de limpeza\"))\n",
    "\n",
    "fig.add_trace(go.Bar(x=df_frutas_e_verduras_quantidade[\"nome\"], y=df_frutas_e_verduras_quantidade[\"quantidade\"], name=\"\"), \n",
    "              1, 1)\n",
    "\n",
    "fig.add_trace(go.Bar(x=df_acougue_quantidade[\"nome\"], y=df_acougue_quantidade[\"quantidade\"], name=\"\"),\n",
    "              1, 2)\n",
    "\n",
    "fig.add_trace(go.Bar(x=df_padaria_quantidade[\"nome\"], y=df_padaria_quantidade[\"quantidade\"], name=\"\"),\n",
    "              2, 1)\n",
    "\n",
    "fig.add_trace(go.Bar(x=df_limpeza_quantidade[\"nome\"], y=df_limpeza_quantidade[\"quantidade\"], name=\"\"),\n",
    "              2, 2)\n",
    "\n",
    "\n",
    "\n",
    "fig.update_layout(height=650, width=800, showlegend=False,\n",
    "                  title_text=\"Produtos mais vendidos\")\n",
    "fig.update_xaxes(tickangle=45)\n",
    "\n",
    "fig.show()"
   ]
  },
  {
   "cell_type": "code",
   "execution_count": null,
   "id": "7619bc15",
   "metadata": {},
   "outputs": [],
   "source": []
  },
  {
   "cell_type": "code",
   "execution_count": 26,
   "id": "c788e46a",
   "metadata": {},
   "outputs": [],
   "source": [
    "from datetime import datetime, date\n",
    "tabela_ajustando_idade=venda_produtos_cliente\n",
    "tabela_ajustando_idade[\"nascimento\"]=tabela_ajustando_idade[\"nascimento\"].astype(str)\n",
    "\n",
    "tabela_ajustando_idade[\"nascimento\"]=tabela_ajustando_idade[\"nascimento\"].str.replace('-',' ')"
   ]
  },
  {
   "cell_type": "code",
   "execution_count": 27,
   "id": "a235283b",
   "metadata": {},
   "outputs": [],
   "source": [
    "today = date.today()\n",
    "def data(x):\n",
    "    x=datetime.strptime(x, \"%Y %m %d\")\n",
    "    return today.year - x.year - ((today.month, today.day) < (x.month, x.day))\n",
    "\n",
    "tabela_ajustando_idade[\"idade\"]=tabela_ajustando_idade[\"nascimento\"].apply(lambda x: data(x))\n",
    "\n",
    "tabela_ajustando_idade_cliente_gasto=tabela_ajustando_idade[[\"nome_cliente\", \"total_preco\"]].groupby(\"nome_cliente\").sum().sort_values('total_preco', ascending=False).reset_index()\n",
    "tabela_ajustando_idade_cliente_gasto.rename(columns={\"total_preco\": \"total_mes\"}, inplace = 1)\n",
    "\n",
    "tabela_ajustando_idade_cliente_idade=tabela_ajustando_idade[[\"nome_cliente\", \"idade\"]].drop_duplicates()\n",
    "\n",
    "tabela_cliente_gasto_idade=pd.merge(tabela_ajustando_idade_cliente_gasto, tabela_ajustando_idade_cliente_idade, on = 'nome_cliente', how='right') "
   ]
  },
  {
   "cell_type": "code",
   "execution_count": 28,
   "id": "a6c6dd9c",
   "metadata": {},
   "outputs": [
    {
     "data": {
      "application/vnd.plotly.v1+json": {
       "config": {
        "plotlyServerURL": "https://plot.ly"
       },
       "data": [
        {
         "customdata": [
          [
           "Luna Porto"
          ],
          [
           "Mariana Cavalcanti"
          ],
          [
           "Caio Dias"
          ],
          [
           "Natália Dias"
          ],
          [
           "Carlos Eduardo Nogueira"
          ],
          [
           "Nicole da Luz"
          ],
          [
           "João Gabriel Cardoso"
          ],
          [
           "Srta. Maria Alice Moreira"
          ],
          [
           "Enrico Azevedo"
          ],
          [
           "Diego Sales"
          ],
          [
           "Fernando Nascimento"
          ],
          [
           "Maria Eduarda Sales"
          ],
          [
           "Maitê Sales"
          ],
          [
           "Gustavo Cavalcanti"
          ],
          [
           "Stella Monteiro"
          ],
          [
           "Davi Ferreira"
          ],
          [
           "Luiz Felipe da Cunha"
          ],
          [
           "Heitor da Conceição"
          ],
          [
           "Erick Cavalcanti"
          ],
          [
           "Pedro Miguel da Rocha"
          ],
          [
           "Isadora Jesus"
          ],
          [
           "Sr. Marcelo Barbosa"
          ],
          [
           "Sra. Kamilly Cavalcanti"
          ],
          [
           "Sarah Moreira"
          ],
          [
           "Julia Oliveira"
          ],
          [
           "Srta. Maria Vitória da Luz"
          ],
          [
           "Bruna Souza"
          ],
          [
           "Isis Pereira"
          ],
          [
           "Alícia Caldeira"
          ],
          [
           "Eduarda Moura"
          ],
          [
           "Marina Gomes"
          ],
          [
           "Dr. Ian Novaes"
          ],
          [
           "Maria Sophia Alves"
          ],
          [
           "Renan da Cunha"
          ],
          [
           "Miguel Caldeira"
          ],
          [
           "Juan Moura"
          ],
          [
           "Kevin Ferreira"
          ],
          [
           "Breno da Mata"
          ],
          [
           "Sr. Diego Moura"
          ],
          [
           "Nathan Silva"
          ],
          [
           "Augusto da Conceição"
          ],
          [
           "Ian da Rocha"
          ],
          [
           "Mirella Freitas"
          ],
          [
           "Dr. Heitor Aragão"
          ],
          [
           "Ana Júlia Castro"
          ],
          [
           "Davi da Conceição"
          ],
          [
           "João Lucas Barbosa"
          ],
          [
           "Srta. Bianca Castro"
          ],
          [
           "Kevin Fernandes"
          ],
          [
           "Amanda Gomes"
          ],
          [
           "Paulo Nascimento"
          ],
          [
           "Guilherme Cardoso"
          ],
          [
           "Pedro Miguel Martins"
          ],
          [
           "Evelyn Cardoso"
          ],
          [
           "Srta. Carolina Duarte"
          ],
          [
           "Brenda Correia"
          ],
          [
           "Larissa da Mota"
          ],
          [
           "Benjamin Moreira"
          ],
          [
           "Catarina Rezende"
          ],
          [
           "Giovanna Cunha"
          ],
          [
           "Heitor Silveira"
          ],
          [
           "Pedro Lucas Azevedo"
          ],
          [
           "Dr. Bryan Lima"
          ],
          [
           "Maria Fernanda Pinto"
          ],
          [
           "João Lucas Cardoso"
          ],
          [
           "Raul Teixeira"
          ],
          [
           "Francisco Vieira"
          ],
          [
           "Vitor Gabriel Nascimento"
          ],
          [
           "Srta. Raquel Caldeira"
          ],
          [
           "Augusto Costa"
          ],
          [
           "Leonardo Moura"
          ],
          [
           "Nicolas Peixoto"
          ],
          [
           "João Miguel Correia"
          ],
          [
           "Ana Carolina Pereira"
          ],
          [
           "Pietro Araújo"
          ],
          [
           "Maria Sophia Ribeiro"
          ],
          [
           "Raquel Aragão"
          ],
          [
           "Isabella Alves"
          ],
          [
           "Srta. Laís Correia"
          ],
          [
           "André Sales"
          ],
          [
           "Sr. Bruno da Mota"
          ],
          [
           "Davi Lucca da Cunha"
          ],
          [
           "Luiz Miguel Martins"
          ],
          [
           "Maria Nunes"
          ],
          [
           "Isis Rezende"
          ],
          [
           "Ian Azevedo"
          ],
          [
           "Maysa Teixeira"
          ],
          [
           "Marina da Mata"
          ],
          [
           "Helena da Rocha"
          ],
          [
           "Nicole Aragão"
          ],
          [
           "Kaique Novaes"
          ],
          [
           "Sr. Bryan Pereira"
          ],
          [
           "Stephany Freitas"
          ],
          [
           "Erick Rocha"
          ],
          [
           "Davi Santos"
          ],
          [
           "Dr. Cauã Viana"
          ],
          [
           "Heitor Cavalcanti"
          ],
          [
           "Ana Lívia Teixeira"
          ],
          [
           "Kaique Santos"
          ],
          [
           "Rafaela Rodrigues"
          ],
          [
           "Thales Azevedo"
          ],
          [
           "Benjamin Rocha"
          ],
          [
           "João Vitor Nascimento"
          ],
          [
           "Bernardo Araújo"
          ],
          [
           "Davi Lucca Correia"
          ],
          [
           "Ana Lívia Martins"
          ],
          [
           "Maria Sophia Souza"
          ],
          [
           "João Lucas Aragão"
          ],
          [
           "João Lucas Aragão"
          ],
          [
           "Ana Clara Viana"
          ],
          [
           "Marcela Castro"
          ],
          [
           "Raul Fernandes"
          ],
          [
           "Helena Campos"
          ],
          [
           "Isabelly Gonçalves"
          ],
          [
           "Julia Ribeiro"
          ],
          [
           "Otávio Azevedo"
          ],
          [
           "Srta. Nina Cardoso"
          ],
          [
           "Larissa Pinto"
          ],
          [
           "Vitor Hugo Oliveira"
          ],
          [
           "Letícia da Mata"
          ],
          [
           "Leonardo Carvalho"
          ],
          [
           "Giovanna Rodrigues"
          ],
          [
           "Pedro Lucas da Cunha"
          ],
          [
           "Laura Peixoto"
          ],
          [
           "Bruna Rodrigues"
          ],
          [
           "Maria Julia Moraes"
          ],
          [
           "Lavínia Fogaça"
          ],
          [
           "João Vitor Rezende"
          ],
          [
           "Murilo Azevedo"
          ],
          [
           "Enrico Pinto"
          ],
          [
           "Davi Lucas Nunes"
          ],
          [
           "Guilherme Nascimento"
          ],
          [
           "Antônio Porto"
          ],
          [
           "Lucas Rocha"
          ],
          [
           "João Miguel da Luz"
          ],
          [
           "Catarina Silva"
          ],
          [
           "Vitor Gabriel Gonçalves"
          ],
          [
           "João Guilherme Costa"
          ],
          [
           "Dra. Marina Oliveira"
          ],
          [
           "Ana Vitória da Rocha"
          ],
          [
           "Maria Rodrigues"
          ],
          [
           "Lucca Ribeiro"
          ],
          [
           "Ryan Nogueira"
          ],
          [
           "Carlos Eduardo Teixeira"
          ],
          [
           "Henrique da Luz"
          ],
          [
           "Maria Clara das Neves"
          ],
          [
           "Rodrigo Vieira"
          ],
          [
           "Pietro Castro"
          ],
          [
           "Maria Cardoso"
          ],
          [
           "Alana Rezende"
          ],
          [
           "Dra. Stella Lima"
          ],
          [
           "Sr. Pietro Mendes"
          ],
          [
           "Carlos Eduardo Cavalcanti"
          ],
          [
           "Bruno Rocha"
          ],
          [
           "Sr. Thales Viana"
          ],
          [
           "Lorena Rezende"
          ],
          [
           "Esther Nascimento"
          ],
          [
           "Luiz Felipe Freitas"
          ],
          [
           "Enzo Viana"
          ],
          [
           "Carlos Eduardo Santos"
          ],
          [
           "Mariana Rezende"
          ],
          [
           "Dr. Luigi Gonçalves"
          ],
          [
           "Gustavo Henrique Ribeiro"
          ],
          [
           "Nina Moraes"
          ],
          [
           "Sophie Correia"
          ],
          [
           "Vitor Gabriel Rocha"
          ],
          [
           "Dra. Isis Caldeira"
          ],
          [
           "Emilly Melo"
          ],
          [
           "Yago Gomes"
          ],
          [
           "Eduardo Vieira"
          ],
          [
           "Marcelo da Cunha"
          ],
          [
           "Sr. Danilo Viana"
          ],
          [
           "Joana Gonçalves"
          ],
          [
           "Eduarda da Luz"
          ],
          [
           "João Mendes"
          ],
          [
           "Caroline Porto"
          ],
          [
           "Sr. Nathan Nunes"
          ],
          [
           "Ana Carolina das Neves"
          ],
          [
           "Thomas Cardoso"
          ],
          [
           "Yasmin da Paz"
          ],
          [
           "Emanuella Gonçalves"
          ],
          [
           "Bernardo Lopes"
          ],
          [
           "Pedro Miguel Costela"
          ],
          [
           "Ana Clara da Mota"
          ]
         ],
         "hovertemplate": "Total gasto pelo cliente=%{x}<br>Idade=%{y}<br>Nome do cliente=%{customdata[0]}<extra></extra>",
         "legendgroup": "",
         "marker": {
          "color": "#00CC96",
          "symbol": "circle"
         },
         "mode": "markers",
         "name": "",
         "orientation": "v",
         "showlegend": false,
         "type": "scatter",
         "x": [
          1593.6800000000003,
          1124.4500000000003,
          1244.65,
          481.35999999999996,
          1590.3100000000004,
          297.28999999999996,
          814.5700000000003,
          769.7600000000002,
          345.44,
          2381.8999999999996,
          151.69,
          29.28,
          1058.28,
          660.67,
          283.04,
          1921.3900000000003,
          1328.33,
          443.75000000000006,
          331.88,
          275.05,
          736.0699999999999,
          393.72,
          340.28999999999996,
          944.9000000000002,
          514.99,
          1153.8100000000004,
          436.85,
          567.14,
          656.6800000000001,
          2611.5099999999993,
          2079.41,
          605.0800000000002,
          2665.559999999999,
          395.46000000000004,
          412.55999999999995,
          463.7800000000001,
          395.34000000000003,
          639.5900000000001,
          1085.7600000000002,
          375.70000000000005,
          665.6100000000001,
          1207.7500000000002,
          883.3100000000004,
          369.03000000000003,
          2308.4200000000005,
          1113.0800000000002,
          1636.51,
          1288.74,
          1652.3400000000004,
          1403.1300000000006,
          701.0400000000001,
          1009.1500000000001,
          303.01,
          395.82000000000005,
          638.5200000000002,
          459.93000000000006,
          893.4100000000002,
          1239.4300000000003,
          470.80000000000007,
          118.60999999999999,
          38.47,
          80.94999999999999,
          1091.0000000000002,
          66.86,
          171.97000000000003,
          472.64,
          1449.8600000000004,
          1721.0700000000008,
          885.9800000000001,
          784.3199999999999,
          1201.2500000000002,
          700.61,
          985.0699999999999,
          620.5600000000001,
          957.4100000000002,
          2112.63,
          1730.8900000000006,
          421.7000000000001,
          1577.2700000000004,
          1169.92,
          1562.4700000000003,
          1065.1000000000001,
          738.4700000000001,
          716.0800000000002,
          1506.6500000000003,
          387.99,
          15.6,
          1112.6200000000003,
          1344.9500000000003,
          17.24,
          4.31,
          142.10999999999999,
          698.9100000000002,
          1051.4,
          706.94,
          859.7900000000002,
          251.16,
          764.5400000000002,
          1020.19,
          1694.5300000000002,
          264.32000000000005,
          300.61000000000007,
          1178.1300000000006,
          704.13,
          339.62,
          328.02000000000004,
          621.2600000000001,
          1411.9400000000005,
          1411.9400000000005,
          307.14000000000004,
          264.07,
          572.02,
          539.11,
          530.4200000000001,
          452.32,
          78.91,
          14.940000000000001,
          14.97,
          482.84999999999997,
          858.9200000000001,
          1004.1800000000001,
          970.4600000000004,
          1001.23,
          211.55999999999997,
          588.5799999999999,
          703.08,
          268.74,
          513.98,
          63.97,
          210.08,
          72.41,
          528.27,
          1322.7700000000004,
          155.95,
          349.73,
          1512.99,
          71.97,
          654.34,
          1331.65,
          128.94,
          434.43,
          359.11999999999995,
          547.3800000000001,
          600.1500000000001,
          33.8,
          25.349999999999998,
          601.86,
          342.74,
          141.81,
          1259.5100000000002,
          875.48,
          178.29999999999998,
          707.5600000000002,
          889.6200000000001,
          220.95000000000005,
          63.98,
          23.96,
          37.37,
          17.39,
          104.34,
          153.93,
          11.99,
          334.62,
          91.5,
          91.16,
          23.040000000000003,
          11.370000000000001,
          5.97,
          516,
          691.87,
          535.98,
          15.96,
          143.99,
          61.489999999999995,
          167.96,
          13.98,
          212.67000000000002,
          19.38,
          38.97,
          84.93,
          6.98,
          6.98,
          11.98,
          32.98
         ],
         "xaxis": "x",
         "y": [
          36,
          53,
          68,
          42,
          53,
          49,
          49,
          44,
          56,
          71,
          37,
          18,
          53,
          60,
          52,
          20,
          40,
          37,
          56,
          19,
          64,
          73,
          68,
          63,
          26,
          52,
          53,
          71,
          51,
          71,
          59,
          27,
          55,
          68,
          24,
          45,
          69,
          30,
          29,
          20,
          24,
          70,
          57,
          63,
          50,
          61,
          22,
          43,
          69,
          73,
          38,
          47,
          32,
          33,
          49,
          27,
          56,
          59,
          53,
          48,
          68,
          29,
          40,
          42,
          53,
          21,
          66,
          48,
          27,
          65,
          37,
          23,
          52,
          55,
          51,
          68,
          19,
          62,
          28,
          37,
          70,
          42,
          37,
          73,
          68,
          32,
          68,
          22,
          49,
          59,
          52,
          58,
          68,
          44,
          64,
          57,
          37,
          59,
          62,
          28,
          37,
          25,
          73,
          52,
          60,
          22,
          52,
          54,
          27,
          27,
          40,
          48,
          27,
          65,
          21,
          28,
          28,
          27,
          43,
          62,
          66,
          38,
          21,
          62,
          24,
          29,
          21,
          18,
          42,
          56,
          39,
          35,
          70,
          20,
          57,
          37,
          51,
          27,
          19,
          33,
          41,
          21,
          47,
          69,
          30,
          53,
          56,
          27,
          28,
          46,
          43,
          54,
          49,
          41,
          63,
          71,
          37,
          33,
          26,
          47,
          53,
          69,
          22,
          37,
          26,
          28,
          42,
          60,
          41,
          55,
          31,
          22,
          67,
          32,
          35,
          69,
          47,
          36,
          42,
          59,
          47,
          62,
          67,
          42
         ],
         "yaxis": "y"
        }
       ],
       "layout": {
        "legend": {
         "tracegroupgap": 0
        },
        "margin": {
         "t": 60
        },
        "template": {
         "data": {
          "bar": [
           {
            "error_x": {
             "color": "#2a3f5f"
            },
            "error_y": {
             "color": "#2a3f5f"
            },
            "marker": {
             "line": {
              "color": "#E5ECF6",
              "width": 0.5
             },
             "pattern": {
              "fillmode": "overlay",
              "size": 10,
              "solidity": 0.2
             }
            },
            "type": "bar"
           }
          ],
          "barpolar": [
           {
            "marker": {
             "line": {
              "color": "#E5ECF6",
              "width": 0.5
             },
             "pattern": {
              "fillmode": "overlay",
              "size": 10,
              "solidity": 0.2
             }
            },
            "type": "barpolar"
           }
          ],
          "carpet": [
           {
            "aaxis": {
             "endlinecolor": "#2a3f5f",
             "gridcolor": "white",
             "linecolor": "white",
             "minorgridcolor": "white",
             "startlinecolor": "#2a3f5f"
            },
            "baxis": {
             "endlinecolor": "#2a3f5f",
             "gridcolor": "white",
             "linecolor": "white",
             "minorgridcolor": "white",
             "startlinecolor": "#2a3f5f"
            },
            "type": "carpet"
           }
          ],
          "choropleth": [
           {
            "colorbar": {
             "outlinewidth": 0,
             "ticks": ""
            },
            "type": "choropleth"
           }
          ],
          "contour": [
           {
            "colorbar": {
             "outlinewidth": 0,
             "ticks": ""
            },
            "colorscale": [
             [
              0,
              "#0d0887"
             ],
             [
              0.1111111111111111,
              "#46039f"
             ],
             [
              0.2222222222222222,
              "#7201a8"
             ],
             [
              0.3333333333333333,
              "#9c179e"
             ],
             [
              0.4444444444444444,
              "#bd3786"
             ],
             [
              0.5555555555555556,
              "#d8576b"
             ],
             [
              0.6666666666666666,
              "#ed7953"
             ],
             [
              0.7777777777777778,
              "#fb9f3a"
             ],
             [
              0.8888888888888888,
              "#fdca26"
             ],
             [
              1,
              "#f0f921"
             ]
            ],
            "type": "contour"
           }
          ],
          "contourcarpet": [
           {
            "colorbar": {
             "outlinewidth": 0,
             "ticks": ""
            },
            "type": "contourcarpet"
           }
          ],
          "heatmap": [
           {
            "colorbar": {
             "outlinewidth": 0,
             "ticks": ""
            },
            "colorscale": [
             [
              0,
              "#0d0887"
             ],
             [
              0.1111111111111111,
              "#46039f"
             ],
             [
              0.2222222222222222,
              "#7201a8"
             ],
             [
              0.3333333333333333,
              "#9c179e"
             ],
             [
              0.4444444444444444,
              "#bd3786"
             ],
             [
              0.5555555555555556,
              "#d8576b"
             ],
             [
              0.6666666666666666,
              "#ed7953"
             ],
             [
              0.7777777777777778,
              "#fb9f3a"
             ],
             [
              0.8888888888888888,
              "#fdca26"
             ],
             [
              1,
              "#f0f921"
             ]
            ],
            "type": "heatmap"
           }
          ],
          "heatmapgl": [
           {
            "colorbar": {
             "outlinewidth": 0,
             "ticks": ""
            },
            "colorscale": [
             [
              0,
              "#0d0887"
             ],
             [
              0.1111111111111111,
              "#46039f"
             ],
             [
              0.2222222222222222,
              "#7201a8"
             ],
             [
              0.3333333333333333,
              "#9c179e"
             ],
             [
              0.4444444444444444,
              "#bd3786"
             ],
             [
              0.5555555555555556,
              "#d8576b"
             ],
             [
              0.6666666666666666,
              "#ed7953"
             ],
             [
              0.7777777777777778,
              "#fb9f3a"
             ],
             [
              0.8888888888888888,
              "#fdca26"
             ],
             [
              1,
              "#f0f921"
             ]
            ],
            "type": "heatmapgl"
           }
          ],
          "histogram": [
           {
            "marker": {
             "pattern": {
              "fillmode": "overlay",
              "size": 10,
              "solidity": 0.2
             }
            },
            "type": "histogram"
           }
          ],
          "histogram2d": [
           {
            "colorbar": {
             "outlinewidth": 0,
             "ticks": ""
            },
            "colorscale": [
             [
              0,
              "#0d0887"
             ],
             [
              0.1111111111111111,
              "#46039f"
             ],
             [
              0.2222222222222222,
              "#7201a8"
             ],
             [
              0.3333333333333333,
              "#9c179e"
             ],
             [
              0.4444444444444444,
              "#bd3786"
             ],
             [
              0.5555555555555556,
              "#d8576b"
             ],
             [
              0.6666666666666666,
              "#ed7953"
             ],
             [
              0.7777777777777778,
              "#fb9f3a"
             ],
             [
              0.8888888888888888,
              "#fdca26"
             ],
             [
              1,
              "#f0f921"
             ]
            ],
            "type": "histogram2d"
           }
          ],
          "histogram2dcontour": [
           {
            "colorbar": {
             "outlinewidth": 0,
             "ticks": ""
            },
            "colorscale": [
             [
              0,
              "#0d0887"
             ],
             [
              0.1111111111111111,
              "#46039f"
             ],
             [
              0.2222222222222222,
              "#7201a8"
             ],
             [
              0.3333333333333333,
              "#9c179e"
             ],
             [
              0.4444444444444444,
              "#bd3786"
             ],
             [
              0.5555555555555556,
              "#d8576b"
             ],
             [
              0.6666666666666666,
              "#ed7953"
             ],
             [
              0.7777777777777778,
              "#fb9f3a"
             ],
             [
              0.8888888888888888,
              "#fdca26"
             ],
             [
              1,
              "#f0f921"
             ]
            ],
            "type": "histogram2dcontour"
           }
          ],
          "mesh3d": [
           {
            "colorbar": {
             "outlinewidth": 0,
             "ticks": ""
            },
            "type": "mesh3d"
           }
          ],
          "parcoords": [
           {
            "line": {
             "colorbar": {
              "outlinewidth": 0,
              "ticks": ""
             }
            },
            "type": "parcoords"
           }
          ],
          "pie": [
           {
            "automargin": true,
            "type": "pie"
           }
          ],
          "scatter": [
           {
            "marker": {
             "colorbar": {
              "outlinewidth": 0,
              "ticks": ""
             }
            },
            "type": "scatter"
           }
          ],
          "scatter3d": [
           {
            "line": {
             "colorbar": {
              "outlinewidth": 0,
              "ticks": ""
             }
            },
            "marker": {
             "colorbar": {
              "outlinewidth": 0,
              "ticks": ""
             }
            },
            "type": "scatter3d"
           }
          ],
          "scattercarpet": [
           {
            "marker": {
             "colorbar": {
              "outlinewidth": 0,
              "ticks": ""
             }
            },
            "type": "scattercarpet"
           }
          ],
          "scattergeo": [
           {
            "marker": {
             "colorbar": {
              "outlinewidth": 0,
              "ticks": ""
             }
            },
            "type": "scattergeo"
           }
          ],
          "scattergl": [
           {
            "marker": {
             "colorbar": {
              "outlinewidth": 0,
              "ticks": ""
             }
            },
            "type": "scattergl"
           }
          ],
          "scattermapbox": [
           {
            "marker": {
             "colorbar": {
              "outlinewidth": 0,
              "ticks": ""
             }
            },
            "type": "scattermapbox"
           }
          ],
          "scatterpolar": [
           {
            "marker": {
             "colorbar": {
              "outlinewidth": 0,
              "ticks": ""
             }
            },
            "type": "scatterpolar"
           }
          ],
          "scatterpolargl": [
           {
            "marker": {
             "colorbar": {
              "outlinewidth": 0,
              "ticks": ""
             }
            },
            "type": "scatterpolargl"
           }
          ],
          "scatterternary": [
           {
            "marker": {
             "colorbar": {
              "outlinewidth": 0,
              "ticks": ""
             }
            },
            "type": "scatterternary"
           }
          ],
          "surface": [
           {
            "colorbar": {
             "outlinewidth": 0,
             "ticks": ""
            },
            "colorscale": [
             [
              0,
              "#0d0887"
             ],
             [
              0.1111111111111111,
              "#46039f"
             ],
             [
              0.2222222222222222,
              "#7201a8"
             ],
             [
              0.3333333333333333,
              "#9c179e"
             ],
             [
              0.4444444444444444,
              "#bd3786"
             ],
             [
              0.5555555555555556,
              "#d8576b"
             ],
             [
              0.6666666666666666,
              "#ed7953"
             ],
             [
              0.7777777777777778,
              "#fb9f3a"
             ],
             [
              0.8888888888888888,
              "#fdca26"
             ],
             [
              1,
              "#f0f921"
             ]
            ],
            "type": "surface"
           }
          ],
          "table": [
           {
            "cells": {
             "fill": {
              "color": "#EBF0F8"
             },
             "line": {
              "color": "white"
             }
            },
            "header": {
             "fill": {
              "color": "#C8D4E3"
             },
             "line": {
              "color": "white"
             }
            },
            "type": "table"
           }
          ]
         },
         "layout": {
          "annotationdefaults": {
           "arrowcolor": "#2a3f5f",
           "arrowhead": 0,
           "arrowwidth": 1
          },
          "autotypenumbers": "strict",
          "coloraxis": {
           "colorbar": {
            "outlinewidth": 0,
            "ticks": ""
           }
          },
          "colorscale": {
           "diverging": [
            [
             0,
             "#8e0152"
            ],
            [
             0.1,
             "#c51b7d"
            ],
            [
             0.2,
             "#de77ae"
            ],
            [
             0.3,
             "#f1b6da"
            ],
            [
             0.4,
             "#fde0ef"
            ],
            [
             0.5,
             "#f7f7f7"
            ],
            [
             0.6,
             "#e6f5d0"
            ],
            [
             0.7,
             "#b8e186"
            ],
            [
             0.8,
             "#7fbc41"
            ],
            [
             0.9,
             "#4d9221"
            ],
            [
             1,
             "#276419"
            ]
           ],
           "sequential": [
            [
             0,
             "#0d0887"
            ],
            [
             0.1111111111111111,
             "#46039f"
            ],
            [
             0.2222222222222222,
             "#7201a8"
            ],
            [
             0.3333333333333333,
             "#9c179e"
            ],
            [
             0.4444444444444444,
             "#bd3786"
            ],
            [
             0.5555555555555556,
             "#d8576b"
            ],
            [
             0.6666666666666666,
             "#ed7953"
            ],
            [
             0.7777777777777778,
             "#fb9f3a"
            ],
            [
             0.8888888888888888,
             "#fdca26"
            ],
            [
             1,
             "#f0f921"
            ]
           ],
           "sequentialminus": [
            [
             0,
             "#0d0887"
            ],
            [
             0.1111111111111111,
             "#46039f"
            ],
            [
             0.2222222222222222,
             "#7201a8"
            ],
            [
             0.3333333333333333,
             "#9c179e"
            ],
            [
             0.4444444444444444,
             "#bd3786"
            ],
            [
             0.5555555555555556,
             "#d8576b"
            ],
            [
             0.6666666666666666,
             "#ed7953"
            ],
            [
             0.7777777777777778,
             "#fb9f3a"
            ],
            [
             0.8888888888888888,
             "#fdca26"
            ],
            [
             1,
             "#f0f921"
            ]
           ]
          },
          "colorway": [
           "#636efa",
           "#EF553B",
           "#00cc96",
           "#ab63fa",
           "#FFA15A",
           "#19d3f3",
           "#FF6692",
           "#B6E880",
           "#FF97FF",
           "#FECB52"
          ],
          "font": {
           "color": "#2a3f5f"
          },
          "geo": {
           "bgcolor": "white",
           "lakecolor": "white",
           "landcolor": "#E5ECF6",
           "showlakes": true,
           "showland": true,
           "subunitcolor": "white"
          },
          "hoverlabel": {
           "align": "left"
          },
          "hovermode": "closest",
          "mapbox": {
           "style": "light"
          },
          "paper_bgcolor": "white",
          "plot_bgcolor": "#E5ECF6",
          "polar": {
           "angularaxis": {
            "gridcolor": "white",
            "linecolor": "white",
            "ticks": ""
           },
           "bgcolor": "#E5ECF6",
           "radialaxis": {
            "gridcolor": "white",
            "linecolor": "white",
            "ticks": ""
           }
          },
          "scene": {
           "xaxis": {
            "backgroundcolor": "#E5ECF6",
            "gridcolor": "white",
            "gridwidth": 2,
            "linecolor": "white",
            "showbackground": true,
            "ticks": "",
            "zerolinecolor": "white"
           },
           "yaxis": {
            "backgroundcolor": "#E5ECF6",
            "gridcolor": "white",
            "gridwidth": 2,
            "linecolor": "white",
            "showbackground": true,
            "ticks": "",
            "zerolinecolor": "white"
           },
           "zaxis": {
            "backgroundcolor": "#E5ECF6",
            "gridcolor": "white",
            "gridwidth": 2,
            "linecolor": "white",
            "showbackground": true,
            "ticks": "",
            "zerolinecolor": "white"
           }
          },
          "shapedefaults": {
           "line": {
            "color": "#2a3f5f"
           }
          },
          "ternary": {
           "aaxis": {
            "gridcolor": "white",
            "linecolor": "white",
            "ticks": ""
           },
           "baxis": {
            "gridcolor": "white",
            "linecolor": "white",
            "ticks": ""
           },
           "bgcolor": "#E5ECF6",
           "caxis": {
            "gridcolor": "white",
            "linecolor": "white",
            "ticks": ""
           }
          },
          "title": {
           "x": 0.05
          },
          "xaxis": {
           "automargin": true,
           "gridcolor": "white",
           "linecolor": "white",
           "ticks": "",
           "title": {
            "standoff": 15
           },
           "zerolinecolor": "white",
           "zerolinewidth": 2
          },
          "yaxis": {
           "automargin": true,
           "gridcolor": "white",
           "linecolor": "white",
           "ticks": "",
           "title": {
            "standoff": 15
           },
           "zerolinecolor": "white",
           "zerolinewidth": 2
          }
         }
        },
        "title": {
         "text": "Gastos totais dos clientes X Idade"
        },
        "xaxis": {
         "anchor": "y",
         "domain": [
          0,
          1
         ],
         "title": {
          "text": "Gastos totais dos clientes"
         }
        },
        "yaxis": {
         "anchor": "x",
         "domain": [
          0,
          1
         ],
         "title": {
          "text": "Idade"
         }
        }
       }
      },
      "text/html": [
       "<div>                            <div id=\"667268e7-aa7f-4a26-9ea0-599385e5b330\" class=\"plotly-graph-div\" style=\"height:525px; width:100%;\"></div>            <script type=\"text/javascript\">                require([\"plotly\"], function(Plotly) {                    window.PLOTLYENV=window.PLOTLYENV || {};                                    if (document.getElementById(\"667268e7-aa7f-4a26-9ea0-599385e5b330\")) {                    Plotly.newPlot(                        \"667268e7-aa7f-4a26-9ea0-599385e5b330\",                        [{\"customdata\":[[\"Luna Porto\"],[\"Mariana Cavalcanti\"],[\"Caio Dias\"],[\"Nat\\u00e1lia Dias\"],[\"Carlos Eduardo Nogueira\"],[\"Nicole da Luz\"],[\"Jo\\u00e3o Gabriel Cardoso\"],[\"Srta. Maria Alice Moreira\"],[\"Enrico Azevedo\"],[\"Diego Sales\"],[\"Fernando Nascimento\"],[\"Maria Eduarda Sales\"],[\"Mait\\u00ea Sales\"],[\"Gustavo Cavalcanti\"],[\"Stella Monteiro\"],[\"Davi Ferreira\"],[\"Luiz Felipe da Cunha\"],[\"Heitor da Concei\\u00e7\\u00e3o\"],[\"Erick Cavalcanti\"],[\"Pedro Miguel da Rocha\"],[\"Isadora Jesus\"],[\"Sr. Marcelo Barbosa\"],[\"Sra. Kamilly Cavalcanti\"],[\"Sarah Moreira\"],[\"Julia Oliveira\"],[\"Srta. Maria Vit\\u00f3ria da Luz\"],[\"Bruna Souza\"],[\"Isis Pereira\"],[\"Al\\u00edcia Caldeira\"],[\"Eduarda Moura\"],[\"Marina Gomes\"],[\"Dr. Ian Novaes\"],[\"Maria Sophia Alves\"],[\"Renan da Cunha\"],[\"Miguel Caldeira\"],[\"Juan Moura\"],[\"Kevin Ferreira\"],[\"Breno da Mata\"],[\"Sr. Diego Moura\"],[\"Nathan Silva\"],[\"Augusto da Concei\\u00e7\\u00e3o\"],[\"Ian da Rocha\"],[\"Mirella Freitas\"],[\"Dr. Heitor Arag\\u00e3o\"],[\"Ana J\\u00falia Castro\"],[\"Davi da Concei\\u00e7\\u00e3o\"],[\"Jo\\u00e3o Lucas Barbosa\"],[\"Srta. Bianca Castro\"],[\"Kevin Fernandes\"],[\"Amanda Gomes\"],[\"Paulo Nascimento\"],[\"Guilherme Cardoso\"],[\"Pedro Miguel Martins\"],[\"Evelyn Cardoso\"],[\"Srta. Carolina Duarte\"],[\"Brenda Correia\"],[\"Larissa da Mota\"],[\"Benjamin Moreira\"],[\"Catarina Rezende\"],[\"Giovanna Cunha\"],[\"Heitor Silveira\"],[\"Pedro Lucas Azevedo\"],[\"Dr. Bryan Lima\"],[\"Maria Fernanda Pinto\"],[\"Jo\\u00e3o Lucas Cardoso\"],[\"Raul Teixeira\"],[\"Francisco Vieira\"],[\"Vitor Gabriel Nascimento\"],[\"Srta. Raquel Caldeira\"],[\"Augusto Costa\"],[\"Leonardo Moura\"],[\"Nicolas Peixoto\"],[\"Jo\\u00e3o Miguel Correia\"],[\"Ana Carolina Pereira\"],[\"Pietro Ara\\u00fajo\"],[\"Maria Sophia Ribeiro\"],[\"Raquel Arag\\u00e3o\"],[\"Isabella Alves\"],[\"Srta. La\\u00eds Correia\"],[\"Andr\\u00e9 Sales\"],[\"Sr. Bruno da Mota\"],[\"Davi Lucca da Cunha\"],[\"Luiz Miguel Martins\"],[\"Maria Nunes\"],[\"Isis Rezende\"],[\"Ian Azevedo\"],[\"Maysa Teixeira\"],[\"Marina da Mata\"],[\"Helena da Rocha\"],[\"Nicole Arag\\u00e3o\"],[\"Kaique Novaes\"],[\"Sr. Bryan Pereira\"],[\"Stephany Freitas\"],[\"Erick Rocha\"],[\"Davi Santos\"],[\"Dr. Cau\\u00e3 Viana\"],[\"Heitor Cavalcanti\"],[\"Ana L\\u00edvia Teixeira\"],[\"Kaique Santos\"],[\"Rafaela Rodrigues\"],[\"Thales Azevedo\"],[\"Benjamin Rocha\"],[\"Jo\\u00e3o Vitor Nascimento\"],[\"Bernardo Ara\\u00fajo\"],[\"Davi Lucca Correia\"],[\"Ana L\\u00edvia Martins\"],[\"Maria Sophia Souza\"],[\"Jo\\u00e3o Lucas Arag\\u00e3o\"],[\"Jo\\u00e3o Lucas Arag\\u00e3o\"],[\"Ana Clara Viana\"],[\"Marcela Castro\"],[\"Raul Fernandes\"],[\"Helena Campos\"],[\"Isabelly Gon\\u00e7alves\"],[\"Julia Ribeiro\"],[\"Ot\\u00e1vio Azevedo\"],[\"Srta. Nina Cardoso\"],[\"Larissa Pinto\"],[\"Vitor Hugo Oliveira\"],[\"Let\\u00edcia da Mata\"],[\"Leonardo Carvalho\"],[\"Giovanna Rodrigues\"],[\"Pedro Lucas da Cunha\"],[\"Laura Peixoto\"],[\"Bruna Rodrigues\"],[\"Maria Julia Moraes\"],[\"Lav\\u00ednia Foga\\u00e7a\"],[\"Jo\\u00e3o Vitor Rezende\"],[\"Murilo Azevedo\"],[\"Enrico Pinto\"],[\"Davi Lucas Nunes\"],[\"Guilherme Nascimento\"],[\"Ant\\u00f4nio Porto\"],[\"Lucas Rocha\"],[\"Jo\\u00e3o Miguel da Luz\"],[\"Catarina Silva\"],[\"Vitor Gabriel Gon\\u00e7alves\"],[\"Jo\\u00e3o Guilherme Costa\"],[\"Dra. Marina Oliveira\"],[\"Ana Vit\\u00f3ria da Rocha\"],[\"Maria Rodrigues\"],[\"Lucca Ribeiro\"],[\"Ryan Nogueira\"],[\"Carlos Eduardo Teixeira\"],[\"Henrique da Luz\"],[\"Maria Clara das Neves\"],[\"Rodrigo Vieira\"],[\"Pietro Castro\"],[\"Maria Cardoso\"],[\"Alana Rezende\"],[\"Dra. Stella Lima\"],[\"Sr. Pietro Mendes\"],[\"Carlos Eduardo Cavalcanti\"],[\"Bruno Rocha\"],[\"Sr. Thales Viana\"],[\"Lorena Rezende\"],[\"Esther Nascimento\"],[\"Luiz Felipe Freitas\"],[\"Enzo Viana\"],[\"Carlos Eduardo Santos\"],[\"Mariana Rezende\"],[\"Dr. Luigi Gon\\u00e7alves\"],[\"Gustavo Henrique Ribeiro\"],[\"Nina Moraes\"],[\"Sophie Correia\"],[\"Vitor Gabriel Rocha\"],[\"Dra. Isis Caldeira\"],[\"Emilly Melo\"],[\"Yago Gomes\"],[\"Eduardo Vieira\"],[\"Marcelo da Cunha\"],[\"Sr. Danilo Viana\"],[\"Joana Gon\\u00e7alves\"],[\"Eduarda da Luz\"],[\"Jo\\u00e3o Mendes\"],[\"Caroline Porto\"],[\"Sr. Nathan Nunes\"],[\"Ana Carolina das Neves\"],[\"Thomas Cardoso\"],[\"Yasmin da Paz\"],[\"Emanuella Gon\\u00e7alves\"],[\"Bernardo Lopes\"],[\"Pedro Miguel Costela\"],[\"Ana Clara da Mota\"]],\"hovertemplate\":\"Total gasto pelo cliente=%{x}<br>Idade=%{y}<br>Nome do cliente=%{customdata[0]}<extra></extra>\",\"legendgroup\":\"\",\"marker\":{\"color\":\"#00CC96\",\"symbol\":\"circle\"},\"mode\":\"markers\",\"name\":\"\",\"orientation\":\"v\",\"showlegend\":false,\"type\":\"scatter\",\"x\":[1593.6800000000003,1124.4500000000003,1244.65,481.35999999999996,1590.3100000000004,297.28999999999996,814.5700000000003,769.7600000000002,345.44,2381.8999999999996,151.69,29.28,1058.28,660.67,283.04,1921.3900000000003,1328.33,443.75000000000006,331.88,275.05,736.0699999999999,393.72,340.28999999999996,944.9000000000002,514.99,1153.8100000000004,436.85,567.14,656.6800000000001,2611.5099999999993,2079.41,605.0800000000002,2665.559999999999,395.46000000000004,412.55999999999995,463.7800000000001,395.34000000000003,639.5900000000001,1085.7600000000002,375.70000000000005,665.6100000000001,1207.7500000000002,883.3100000000004,369.03000000000003,2308.4200000000005,1113.0800000000002,1636.51,1288.74,1652.3400000000004,1403.1300000000006,701.0400000000001,1009.1500000000001,303.01,395.82000000000005,638.5200000000002,459.93000000000006,893.4100000000002,1239.4300000000003,470.80000000000007,118.60999999999999,38.47,80.94999999999999,1091.0000000000002,66.86,171.97000000000003,472.64,1449.8600000000004,1721.0700000000008,885.9800000000001,784.3199999999999,1201.2500000000002,700.61,985.0699999999999,620.5600000000001,957.4100000000002,2112.63,1730.8900000000006,421.7000000000001,1577.2700000000004,1169.92,1562.4700000000003,1065.1000000000001,738.4700000000001,716.0800000000002,1506.6500000000003,387.99,15.6,1112.6200000000003,1344.9500000000003,17.24,4.31,142.10999999999999,698.9100000000002,1051.4,706.94,859.7900000000002,251.16,764.5400000000002,1020.19,1694.5300000000002,264.32000000000005,300.61000000000007,1178.1300000000006,704.13,339.62,328.02000000000004,621.2600000000001,1411.9400000000005,1411.9400000000005,307.14000000000004,264.07,572.02,539.11,530.4200000000001,452.32,78.91,14.940000000000001,14.97,482.84999999999997,858.9200000000001,1004.1800000000001,970.4600000000004,1001.23,211.55999999999997,588.5799999999999,703.08,268.74,513.98,63.97,210.08,72.41,528.27,1322.7700000000004,155.95,349.73,1512.99,71.97,654.34,1331.65,128.94,434.43,359.11999999999995,547.3800000000001,600.1500000000001,33.8,25.349999999999998,601.86,342.74,141.81,1259.5100000000002,875.48,178.29999999999998,707.5600000000002,889.6200000000001,220.95000000000005,63.98,23.96,37.37,17.39,104.34,153.93,11.99,334.62,91.5,91.16,23.040000000000003,11.370000000000001,5.97,516.0,691.87,535.98,15.96,143.99,61.489999999999995,167.96,13.98,212.67000000000002,19.38,38.97,84.93,6.98,6.98,11.98,32.98],\"xaxis\":\"x\",\"y\":[36,53,68,42,53,49,49,44,56,71,37,18,53,60,52,20,40,37,56,19,64,73,68,63,26,52,53,71,51,71,59,27,55,68,24,45,69,30,29,20,24,70,57,63,50,61,22,43,69,73,38,47,32,33,49,27,56,59,53,48,68,29,40,42,53,21,66,48,27,65,37,23,52,55,51,68,19,62,28,37,70,42,37,73,68,32,68,22,49,59,52,58,68,44,64,57,37,59,62,28,37,25,73,52,60,22,52,54,27,27,40,48,27,65,21,28,28,27,43,62,66,38,21,62,24,29,21,18,42,56,39,35,70,20,57,37,51,27,19,33,41,21,47,69,30,53,56,27,28,46,43,54,49,41,63,71,37,33,26,47,53,69,22,37,26,28,42,60,41,55,31,22,67,32,35,69,47,36,42,59,47,62,67,42],\"yaxis\":\"y\"}],                        {\"legend\":{\"tracegroupgap\":0},\"margin\":{\"t\":60},\"template\":{\"data\":{\"bar\":[{\"error_x\":{\"color\":\"#2a3f5f\"},\"error_y\":{\"color\":\"#2a3f5f\"},\"marker\":{\"line\":{\"color\":\"#E5ECF6\",\"width\":0.5},\"pattern\":{\"fillmode\":\"overlay\",\"size\":10,\"solidity\":0.2}},\"type\":\"bar\"}],\"barpolar\":[{\"marker\":{\"line\":{\"color\":\"#E5ECF6\",\"width\":0.5},\"pattern\":{\"fillmode\":\"overlay\",\"size\":10,\"solidity\":0.2}},\"type\":\"barpolar\"}],\"carpet\":[{\"aaxis\":{\"endlinecolor\":\"#2a3f5f\",\"gridcolor\":\"white\",\"linecolor\":\"white\",\"minorgridcolor\":\"white\",\"startlinecolor\":\"#2a3f5f\"},\"baxis\":{\"endlinecolor\":\"#2a3f5f\",\"gridcolor\":\"white\",\"linecolor\":\"white\",\"minorgridcolor\":\"white\",\"startlinecolor\":\"#2a3f5f\"},\"type\":\"carpet\"}],\"choropleth\":[{\"colorbar\":{\"outlinewidth\":0,\"ticks\":\"\"},\"type\":\"choropleth\"}],\"contour\":[{\"colorbar\":{\"outlinewidth\":0,\"ticks\":\"\"},\"colorscale\":[[0.0,\"#0d0887\"],[0.1111111111111111,\"#46039f\"],[0.2222222222222222,\"#7201a8\"],[0.3333333333333333,\"#9c179e\"],[0.4444444444444444,\"#bd3786\"],[0.5555555555555556,\"#d8576b\"],[0.6666666666666666,\"#ed7953\"],[0.7777777777777778,\"#fb9f3a\"],[0.8888888888888888,\"#fdca26\"],[1.0,\"#f0f921\"]],\"type\":\"contour\"}],\"contourcarpet\":[{\"colorbar\":{\"outlinewidth\":0,\"ticks\":\"\"},\"type\":\"contourcarpet\"}],\"heatmap\":[{\"colorbar\":{\"outlinewidth\":0,\"ticks\":\"\"},\"colorscale\":[[0.0,\"#0d0887\"],[0.1111111111111111,\"#46039f\"],[0.2222222222222222,\"#7201a8\"],[0.3333333333333333,\"#9c179e\"],[0.4444444444444444,\"#bd3786\"],[0.5555555555555556,\"#d8576b\"],[0.6666666666666666,\"#ed7953\"],[0.7777777777777778,\"#fb9f3a\"],[0.8888888888888888,\"#fdca26\"],[1.0,\"#f0f921\"]],\"type\":\"heatmap\"}],\"heatmapgl\":[{\"colorbar\":{\"outlinewidth\":0,\"ticks\":\"\"},\"colorscale\":[[0.0,\"#0d0887\"],[0.1111111111111111,\"#46039f\"],[0.2222222222222222,\"#7201a8\"],[0.3333333333333333,\"#9c179e\"],[0.4444444444444444,\"#bd3786\"],[0.5555555555555556,\"#d8576b\"],[0.6666666666666666,\"#ed7953\"],[0.7777777777777778,\"#fb9f3a\"],[0.8888888888888888,\"#fdca26\"],[1.0,\"#f0f921\"]],\"type\":\"heatmapgl\"}],\"histogram\":[{\"marker\":{\"pattern\":{\"fillmode\":\"overlay\",\"size\":10,\"solidity\":0.2}},\"type\":\"histogram\"}],\"histogram2d\":[{\"colorbar\":{\"outlinewidth\":0,\"ticks\":\"\"},\"colorscale\":[[0.0,\"#0d0887\"],[0.1111111111111111,\"#46039f\"],[0.2222222222222222,\"#7201a8\"],[0.3333333333333333,\"#9c179e\"],[0.4444444444444444,\"#bd3786\"],[0.5555555555555556,\"#d8576b\"],[0.6666666666666666,\"#ed7953\"],[0.7777777777777778,\"#fb9f3a\"],[0.8888888888888888,\"#fdca26\"],[1.0,\"#f0f921\"]],\"type\":\"histogram2d\"}],\"histogram2dcontour\":[{\"colorbar\":{\"outlinewidth\":0,\"ticks\":\"\"},\"colorscale\":[[0.0,\"#0d0887\"],[0.1111111111111111,\"#46039f\"],[0.2222222222222222,\"#7201a8\"],[0.3333333333333333,\"#9c179e\"],[0.4444444444444444,\"#bd3786\"],[0.5555555555555556,\"#d8576b\"],[0.6666666666666666,\"#ed7953\"],[0.7777777777777778,\"#fb9f3a\"],[0.8888888888888888,\"#fdca26\"],[1.0,\"#f0f921\"]],\"type\":\"histogram2dcontour\"}],\"mesh3d\":[{\"colorbar\":{\"outlinewidth\":0,\"ticks\":\"\"},\"type\":\"mesh3d\"}],\"parcoords\":[{\"line\":{\"colorbar\":{\"outlinewidth\":0,\"ticks\":\"\"}},\"type\":\"parcoords\"}],\"pie\":[{\"automargin\":true,\"type\":\"pie\"}],\"scatter\":[{\"marker\":{\"colorbar\":{\"outlinewidth\":0,\"ticks\":\"\"}},\"type\":\"scatter\"}],\"scatter3d\":[{\"line\":{\"colorbar\":{\"outlinewidth\":0,\"ticks\":\"\"}},\"marker\":{\"colorbar\":{\"outlinewidth\":0,\"ticks\":\"\"}},\"type\":\"scatter3d\"}],\"scattercarpet\":[{\"marker\":{\"colorbar\":{\"outlinewidth\":0,\"ticks\":\"\"}},\"type\":\"scattercarpet\"}],\"scattergeo\":[{\"marker\":{\"colorbar\":{\"outlinewidth\":0,\"ticks\":\"\"}},\"type\":\"scattergeo\"}],\"scattergl\":[{\"marker\":{\"colorbar\":{\"outlinewidth\":0,\"ticks\":\"\"}},\"type\":\"scattergl\"}],\"scattermapbox\":[{\"marker\":{\"colorbar\":{\"outlinewidth\":0,\"ticks\":\"\"}},\"type\":\"scattermapbox\"}],\"scatterpolar\":[{\"marker\":{\"colorbar\":{\"outlinewidth\":0,\"ticks\":\"\"}},\"type\":\"scatterpolar\"}],\"scatterpolargl\":[{\"marker\":{\"colorbar\":{\"outlinewidth\":0,\"ticks\":\"\"}},\"type\":\"scatterpolargl\"}],\"scatterternary\":[{\"marker\":{\"colorbar\":{\"outlinewidth\":0,\"ticks\":\"\"}},\"type\":\"scatterternary\"}],\"surface\":[{\"colorbar\":{\"outlinewidth\":0,\"ticks\":\"\"},\"colorscale\":[[0.0,\"#0d0887\"],[0.1111111111111111,\"#46039f\"],[0.2222222222222222,\"#7201a8\"],[0.3333333333333333,\"#9c179e\"],[0.4444444444444444,\"#bd3786\"],[0.5555555555555556,\"#d8576b\"],[0.6666666666666666,\"#ed7953\"],[0.7777777777777778,\"#fb9f3a\"],[0.8888888888888888,\"#fdca26\"],[1.0,\"#f0f921\"]],\"type\":\"surface\"}],\"table\":[{\"cells\":{\"fill\":{\"color\":\"#EBF0F8\"},\"line\":{\"color\":\"white\"}},\"header\":{\"fill\":{\"color\":\"#C8D4E3\"},\"line\":{\"color\":\"white\"}},\"type\":\"table\"}]},\"layout\":{\"annotationdefaults\":{\"arrowcolor\":\"#2a3f5f\",\"arrowhead\":0,\"arrowwidth\":1},\"autotypenumbers\":\"strict\",\"coloraxis\":{\"colorbar\":{\"outlinewidth\":0,\"ticks\":\"\"}},\"colorscale\":{\"diverging\":[[0,\"#8e0152\"],[0.1,\"#c51b7d\"],[0.2,\"#de77ae\"],[0.3,\"#f1b6da\"],[0.4,\"#fde0ef\"],[0.5,\"#f7f7f7\"],[0.6,\"#e6f5d0\"],[0.7,\"#b8e186\"],[0.8,\"#7fbc41\"],[0.9,\"#4d9221\"],[1,\"#276419\"]],\"sequential\":[[0.0,\"#0d0887\"],[0.1111111111111111,\"#46039f\"],[0.2222222222222222,\"#7201a8\"],[0.3333333333333333,\"#9c179e\"],[0.4444444444444444,\"#bd3786\"],[0.5555555555555556,\"#d8576b\"],[0.6666666666666666,\"#ed7953\"],[0.7777777777777778,\"#fb9f3a\"],[0.8888888888888888,\"#fdca26\"],[1.0,\"#f0f921\"]],\"sequentialminus\":[[0.0,\"#0d0887\"],[0.1111111111111111,\"#46039f\"],[0.2222222222222222,\"#7201a8\"],[0.3333333333333333,\"#9c179e\"],[0.4444444444444444,\"#bd3786\"],[0.5555555555555556,\"#d8576b\"],[0.6666666666666666,\"#ed7953\"],[0.7777777777777778,\"#fb9f3a\"],[0.8888888888888888,\"#fdca26\"],[1.0,\"#f0f921\"]]},\"colorway\":[\"#636efa\",\"#EF553B\",\"#00cc96\",\"#ab63fa\",\"#FFA15A\",\"#19d3f3\",\"#FF6692\",\"#B6E880\",\"#FF97FF\",\"#FECB52\"],\"font\":{\"color\":\"#2a3f5f\"},\"geo\":{\"bgcolor\":\"white\",\"lakecolor\":\"white\",\"landcolor\":\"#E5ECF6\",\"showlakes\":true,\"showland\":true,\"subunitcolor\":\"white\"},\"hoverlabel\":{\"align\":\"left\"},\"hovermode\":\"closest\",\"mapbox\":{\"style\":\"light\"},\"paper_bgcolor\":\"white\",\"plot_bgcolor\":\"#E5ECF6\",\"polar\":{\"angularaxis\":{\"gridcolor\":\"white\",\"linecolor\":\"white\",\"ticks\":\"\"},\"bgcolor\":\"#E5ECF6\",\"radialaxis\":{\"gridcolor\":\"white\",\"linecolor\":\"white\",\"ticks\":\"\"}},\"scene\":{\"xaxis\":{\"backgroundcolor\":\"#E5ECF6\",\"gridcolor\":\"white\",\"gridwidth\":2,\"linecolor\":\"white\",\"showbackground\":true,\"ticks\":\"\",\"zerolinecolor\":\"white\"},\"yaxis\":{\"backgroundcolor\":\"#E5ECF6\",\"gridcolor\":\"white\",\"gridwidth\":2,\"linecolor\":\"white\",\"showbackground\":true,\"ticks\":\"\",\"zerolinecolor\":\"white\"},\"zaxis\":{\"backgroundcolor\":\"#E5ECF6\",\"gridcolor\":\"white\",\"gridwidth\":2,\"linecolor\":\"white\",\"showbackground\":true,\"ticks\":\"\",\"zerolinecolor\":\"white\"}},\"shapedefaults\":{\"line\":{\"color\":\"#2a3f5f\"}},\"ternary\":{\"aaxis\":{\"gridcolor\":\"white\",\"linecolor\":\"white\",\"ticks\":\"\"},\"baxis\":{\"gridcolor\":\"white\",\"linecolor\":\"white\",\"ticks\":\"\"},\"bgcolor\":\"#E5ECF6\",\"caxis\":{\"gridcolor\":\"white\",\"linecolor\":\"white\",\"ticks\":\"\"}},\"title\":{\"x\":0.05},\"xaxis\":{\"automargin\":true,\"gridcolor\":\"white\",\"linecolor\":\"white\",\"ticks\":\"\",\"title\":{\"standoff\":15},\"zerolinecolor\":\"white\",\"zerolinewidth\":2},\"yaxis\":{\"automargin\":true,\"gridcolor\":\"white\",\"linecolor\":\"white\",\"ticks\":\"\",\"title\":{\"standoff\":15},\"zerolinecolor\":\"white\",\"zerolinewidth\":2}}},\"title\":{\"text\":\"Gastos totais dos clientes X Idade\"},\"xaxis\":{\"anchor\":\"y\",\"domain\":[0.0,1.0],\"title\":{\"text\":\"Gastos totais dos clientes\"}},\"yaxis\":{\"anchor\":\"x\",\"domain\":[0.0,1.0],\"title\":{\"text\":\"Idade\"}}},                        {\"responsive\": true}                    ).then(function(){\n",
       "                            \n",
       "var gd = document.getElementById('667268e7-aa7f-4a26-9ea0-599385e5b330');\n",
       "var x = new MutationObserver(function (mutations, observer) {{\n",
       "        var display = window.getComputedStyle(gd).display;\n",
       "        if (!display || display === 'none') {{\n",
       "            console.log([gd, 'removed!']);\n",
       "            Plotly.purge(gd);\n",
       "            observer.disconnect();\n",
       "        }}\n",
       "}});\n",
       "\n",
       "// Listen for the removal of the full notebook cells\n",
       "var notebookContainer = gd.closest('#notebook-container');\n",
       "if (notebookContainer) {{\n",
       "    x.observe(notebookContainer, {childList: true});\n",
       "}}\n",
       "\n",
       "// Listen for the clearing of the current output cell\n",
       "var outputEl = gd.closest('.output');\n",
       "if (outputEl) {{\n",
       "    x.observe(outputEl, {childList: true});\n",
       "}}\n",
       "\n",
       "                        })                };                });            </script>        </div>"
      ]
     },
     "metadata": {},
     "output_type": "display_data"
    }
   ],
   "source": [
    "#pltagem de um gráfico de disperção relacionado preço e estoque\n",
    "fig_gasto_idade=px.scatter(tabela_cliente_gasto_idade, x = \"total_mes\", y = \"idade\",hover_data=['nome_cliente'], labels={\"total_mes\": \"Total gasto pelo cliente\", \"idade\": \"Idade\", \"nome_cliente\":\"Nome do cliente\" })\n",
    "fig_gasto_idade.update_traces(marker = {'color': '#00CC96'})\n",
    "fig_gasto_idade.update_layout(title = 'Gastos totais dos clientes X Idade')\n",
    "fig_gasto_idade.update_xaxes(title = 'Gastos totais dos clientes')\n",
    "fig_gasto_idade.update_yaxes(title = 'Idade')\n",
    "fig_gasto_idade.show()"
   ]
  },
  {
   "cell_type": "code",
   "execution_count": 29,
   "id": "9d0163f7",
   "metadata": {},
   "outputs": [
    {
     "data": {
      "application/vnd.plotly.v1+json": {
       "config": {
        "plotlyServerURL": "https://plot.ly"
       },
       "data": [
        {
         "alignmentgroup": "True",
         "hovertemplate": "variable=%{x}<br>value=%{y}<extra></extra>",
         "legendgroup": "",
         "marker": {
          "color": "#00CC96"
         },
         "name": "",
         "notched": false,
         "offsetgroup": "",
         "orientation": "v",
         "showlegend": false,
         "type": "box",
         "x": [
          "idade",
          "idade",
          "idade",
          "idade",
          "idade",
          "idade",
          "idade",
          "idade",
          "idade",
          "idade",
          "idade",
          "idade",
          "idade",
          "idade",
          "idade",
          "idade",
          "idade",
          "idade",
          "idade",
          "idade",
          "idade",
          "idade",
          "idade",
          "idade",
          "idade",
          "idade",
          "idade",
          "idade",
          "idade",
          "idade",
          "idade",
          "idade",
          "idade",
          "idade",
          "idade",
          "idade",
          "idade",
          "idade",
          "idade",
          "idade",
          "idade",
          "idade",
          "idade",
          "idade",
          "idade",
          "idade",
          "idade",
          "idade",
          "idade",
          "idade",
          "idade",
          "idade",
          "idade",
          "idade",
          "idade",
          "idade",
          "idade",
          "idade",
          "idade",
          "idade",
          "idade",
          "idade",
          "idade",
          "idade",
          "idade",
          "idade",
          "idade",
          "idade",
          "idade",
          "idade",
          "idade",
          "idade",
          "idade",
          "idade",
          "idade",
          "idade",
          "idade",
          "idade",
          "idade",
          "idade",
          "idade",
          "idade",
          "idade",
          "idade",
          "idade",
          "idade",
          "idade",
          "idade",
          "idade",
          "idade",
          "idade",
          "idade",
          "idade",
          "idade",
          "idade",
          "idade",
          "idade",
          "idade",
          "idade",
          "idade",
          "idade",
          "idade",
          "idade",
          "idade",
          "idade",
          "idade",
          "idade",
          "idade",
          "idade",
          "idade",
          "idade",
          "idade",
          "idade",
          "idade",
          "idade",
          "idade",
          "idade",
          "idade",
          "idade",
          "idade",
          "idade",
          "idade",
          "idade",
          "idade",
          "idade",
          "idade",
          "idade",
          "idade",
          "idade",
          "idade",
          "idade",
          "idade",
          "idade",
          "idade",
          "idade",
          "idade",
          "idade",
          "idade",
          "idade",
          "idade",
          "idade",
          "idade",
          "idade",
          "idade",
          "idade",
          "idade",
          "idade",
          "idade",
          "idade",
          "idade",
          "idade",
          "idade",
          "idade",
          "idade",
          "idade",
          "idade",
          "idade",
          "idade",
          "idade",
          "idade",
          "idade",
          "idade",
          "idade",
          "idade",
          "idade",
          "idade",
          "idade",
          "idade",
          "idade",
          "idade",
          "idade",
          "idade",
          "idade",
          "idade",
          "idade",
          "idade",
          "idade",
          "idade",
          "idade",
          "idade",
          "idade",
          "idade",
          "idade",
          "idade"
         ],
         "x0": " ",
         "xaxis": "x",
         "y": [
          36,
          53,
          68,
          42,
          53,
          49,
          49,
          44,
          56,
          71,
          37,
          18,
          53,
          60,
          52,
          20,
          40,
          37,
          56,
          19,
          64,
          73,
          68,
          63,
          26,
          52,
          53,
          71,
          51,
          71,
          59,
          27,
          55,
          68,
          24,
          45,
          69,
          30,
          29,
          20,
          24,
          70,
          57,
          63,
          50,
          61,
          22,
          43,
          69,
          73,
          38,
          47,
          32,
          33,
          49,
          27,
          56,
          59,
          53,
          48,
          68,
          29,
          40,
          42,
          53,
          21,
          66,
          48,
          27,
          65,
          37,
          23,
          52,
          55,
          51,
          68,
          19,
          62,
          28,
          37,
          70,
          42,
          37,
          73,
          68,
          32,
          68,
          22,
          49,
          59,
          52,
          58,
          68,
          44,
          64,
          57,
          37,
          59,
          62,
          28,
          37,
          25,
          73,
          52,
          60,
          22,
          52,
          54,
          27,
          27,
          40,
          48,
          27,
          65,
          21,
          28,
          28,
          27,
          43,
          62,
          66,
          38,
          21,
          62,
          24,
          29,
          21,
          18,
          42,
          56,
          39,
          35,
          70,
          20,
          57,
          37,
          51,
          27,
          19,
          33,
          41,
          21,
          47,
          69,
          30,
          53,
          56,
          27,
          28,
          46,
          43,
          54,
          49,
          41,
          63,
          71,
          37,
          33,
          26,
          47,
          53,
          69,
          22,
          37,
          26,
          28,
          42,
          60,
          41,
          55,
          31,
          22,
          67,
          32,
          35,
          69,
          47,
          36,
          42,
          59,
          47,
          62,
          67,
          42
         ],
         "y0": " ",
         "yaxis": "y"
        }
       ],
       "layout": {
        "boxmode": "group",
        "legend": {
         "tracegroupgap": 0
        },
        "margin": {
         "t": 60
        },
        "template": {
         "data": {
          "bar": [
           {
            "error_x": {
             "color": "#2a3f5f"
            },
            "error_y": {
             "color": "#2a3f5f"
            },
            "marker": {
             "line": {
              "color": "#E5ECF6",
              "width": 0.5
             },
             "pattern": {
              "fillmode": "overlay",
              "size": 10,
              "solidity": 0.2
             }
            },
            "type": "bar"
           }
          ],
          "barpolar": [
           {
            "marker": {
             "line": {
              "color": "#E5ECF6",
              "width": 0.5
             },
             "pattern": {
              "fillmode": "overlay",
              "size": 10,
              "solidity": 0.2
             }
            },
            "type": "barpolar"
           }
          ],
          "carpet": [
           {
            "aaxis": {
             "endlinecolor": "#2a3f5f",
             "gridcolor": "white",
             "linecolor": "white",
             "minorgridcolor": "white",
             "startlinecolor": "#2a3f5f"
            },
            "baxis": {
             "endlinecolor": "#2a3f5f",
             "gridcolor": "white",
             "linecolor": "white",
             "minorgridcolor": "white",
             "startlinecolor": "#2a3f5f"
            },
            "type": "carpet"
           }
          ],
          "choropleth": [
           {
            "colorbar": {
             "outlinewidth": 0,
             "ticks": ""
            },
            "type": "choropleth"
           }
          ],
          "contour": [
           {
            "colorbar": {
             "outlinewidth": 0,
             "ticks": ""
            },
            "colorscale": [
             [
              0,
              "#0d0887"
             ],
             [
              0.1111111111111111,
              "#46039f"
             ],
             [
              0.2222222222222222,
              "#7201a8"
             ],
             [
              0.3333333333333333,
              "#9c179e"
             ],
             [
              0.4444444444444444,
              "#bd3786"
             ],
             [
              0.5555555555555556,
              "#d8576b"
             ],
             [
              0.6666666666666666,
              "#ed7953"
             ],
             [
              0.7777777777777778,
              "#fb9f3a"
             ],
             [
              0.8888888888888888,
              "#fdca26"
             ],
             [
              1,
              "#f0f921"
             ]
            ],
            "type": "contour"
           }
          ],
          "contourcarpet": [
           {
            "colorbar": {
             "outlinewidth": 0,
             "ticks": ""
            },
            "type": "contourcarpet"
           }
          ],
          "heatmap": [
           {
            "colorbar": {
             "outlinewidth": 0,
             "ticks": ""
            },
            "colorscale": [
             [
              0,
              "#0d0887"
             ],
             [
              0.1111111111111111,
              "#46039f"
             ],
             [
              0.2222222222222222,
              "#7201a8"
             ],
             [
              0.3333333333333333,
              "#9c179e"
             ],
             [
              0.4444444444444444,
              "#bd3786"
             ],
             [
              0.5555555555555556,
              "#d8576b"
             ],
             [
              0.6666666666666666,
              "#ed7953"
             ],
             [
              0.7777777777777778,
              "#fb9f3a"
             ],
             [
              0.8888888888888888,
              "#fdca26"
             ],
             [
              1,
              "#f0f921"
             ]
            ],
            "type": "heatmap"
           }
          ],
          "heatmapgl": [
           {
            "colorbar": {
             "outlinewidth": 0,
             "ticks": ""
            },
            "colorscale": [
             [
              0,
              "#0d0887"
             ],
             [
              0.1111111111111111,
              "#46039f"
             ],
             [
              0.2222222222222222,
              "#7201a8"
             ],
             [
              0.3333333333333333,
              "#9c179e"
             ],
             [
              0.4444444444444444,
              "#bd3786"
             ],
             [
              0.5555555555555556,
              "#d8576b"
             ],
             [
              0.6666666666666666,
              "#ed7953"
             ],
             [
              0.7777777777777778,
              "#fb9f3a"
             ],
             [
              0.8888888888888888,
              "#fdca26"
             ],
             [
              1,
              "#f0f921"
             ]
            ],
            "type": "heatmapgl"
           }
          ],
          "histogram": [
           {
            "marker": {
             "pattern": {
              "fillmode": "overlay",
              "size": 10,
              "solidity": 0.2
             }
            },
            "type": "histogram"
           }
          ],
          "histogram2d": [
           {
            "colorbar": {
             "outlinewidth": 0,
             "ticks": ""
            },
            "colorscale": [
             [
              0,
              "#0d0887"
             ],
             [
              0.1111111111111111,
              "#46039f"
             ],
             [
              0.2222222222222222,
              "#7201a8"
             ],
             [
              0.3333333333333333,
              "#9c179e"
             ],
             [
              0.4444444444444444,
              "#bd3786"
             ],
             [
              0.5555555555555556,
              "#d8576b"
             ],
             [
              0.6666666666666666,
              "#ed7953"
             ],
             [
              0.7777777777777778,
              "#fb9f3a"
             ],
             [
              0.8888888888888888,
              "#fdca26"
             ],
             [
              1,
              "#f0f921"
             ]
            ],
            "type": "histogram2d"
           }
          ],
          "histogram2dcontour": [
           {
            "colorbar": {
             "outlinewidth": 0,
             "ticks": ""
            },
            "colorscale": [
             [
              0,
              "#0d0887"
             ],
             [
              0.1111111111111111,
              "#46039f"
             ],
             [
              0.2222222222222222,
              "#7201a8"
             ],
             [
              0.3333333333333333,
              "#9c179e"
             ],
             [
              0.4444444444444444,
              "#bd3786"
             ],
             [
              0.5555555555555556,
              "#d8576b"
             ],
             [
              0.6666666666666666,
              "#ed7953"
             ],
             [
              0.7777777777777778,
              "#fb9f3a"
             ],
             [
              0.8888888888888888,
              "#fdca26"
             ],
             [
              1,
              "#f0f921"
             ]
            ],
            "type": "histogram2dcontour"
           }
          ],
          "mesh3d": [
           {
            "colorbar": {
             "outlinewidth": 0,
             "ticks": ""
            },
            "type": "mesh3d"
           }
          ],
          "parcoords": [
           {
            "line": {
             "colorbar": {
              "outlinewidth": 0,
              "ticks": ""
             }
            },
            "type": "parcoords"
           }
          ],
          "pie": [
           {
            "automargin": true,
            "type": "pie"
           }
          ],
          "scatter": [
           {
            "marker": {
             "colorbar": {
              "outlinewidth": 0,
              "ticks": ""
             }
            },
            "type": "scatter"
           }
          ],
          "scatter3d": [
           {
            "line": {
             "colorbar": {
              "outlinewidth": 0,
              "ticks": ""
             }
            },
            "marker": {
             "colorbar": {
              "outlinewidth": 0,
              "ticks": ""
             }
            },
            "type": "scatter3d"
           }
          ],
          "scattercarpet": [
           {
            "marker": {
             "colorbar": {
              "outlinewidth": 0,
              "ticks": ""
             }
            },
            "type": "scattercarpet"
           }
          ],
          "scattergeo": [
           {
            "marker": {
             "colorbar": {
              "outlinewidth": 0,
              "ticks": ""
             }
            },
            "type": "scattergeo"
           }
          ],
          "scattergl": [
           {
            "marker": {
             "colorbar": {
              "outlinewidth": 0,
              "ticks": ""
             }
            },
            "type": "scattergl"
           }
          ],
          "scattermapbox": [
           {
            "marker": {
             "colorbar": {
              "outlinewidth": 0,
              "ticks": ""
             }
            },
            "type": "scattermapbox"
           }
          ],
          "scatterpolar": [
           {
            "marker": {
             "colorbar": {
              "outlinewidth": 0,
              "ticks": ""
             }
            },
            "type": "scatterpolar"
           }
          ],
          "scatterpolargl": [
           {
            "marker": {
             "colorbar": {
              "outlinewidth": 0,
              "ticks": ""
             }
            },
            "type": "scatterpolargl"
           }
          ],
          "scatterternary": [
           {
            "marker": {
             "colorbar": {
              "outlinewidth": 0,
              "ticks": ""
             }
            },
            "type": "scatterternary"
           }
          ],
          "surface": [
           {
            "colorbar": {
             "outlinewidth": 0,
             "ticks": ""
            },
            "colorscale": [
             [
              0,
              "#0d0887"
             ],
             [
              0.1111111111111111,
              "#46039f"
             ],
             [
              0.2222222222222222,
              "#7201a8"
             ],
             [
              0.3333333333333333,
              "#9c179e"
             ],
             [
              0.4444444444444444,
              "#bd3786"
             ],
             [
              0.5555555555555556,
              "#d8576b"
             ],
             [
              0.6666666666666666,
              "#ed7953"
             ],
             [
              0.7777777777777778,
              "#fb9f3a"
             ],
             [
              0.8888888888888888,
              "#fdca26"
             ],
             [
              1,
              "#f0f921"
             ]
            ],
            "type": "surface"
           }
          ],
          "table": [
           {
            "cells": {
             "fill": {
              "color": "#EBF0F8"
             },
             "line": {
              "color": "white"
             }
            },
            "header": {
             "fill": {
              "color": "#C8D4E3"
             },
             "line": {
              "color": "white"
             }
            },
            "type": "table"
           }
          ]
         },
         "layout": {
          "annotationdefaults": {
           "arrowcolor": "#2a3f5f",
           "arrowhead": 0,
           "arrowwidth": 1
          },
          "autotypenumbers": "strict",
          "coloraxis": {
           "colorbar": {
            "outlinewidth": 0,
            "ticks": ""
           }
          },
          "colorscale": {
           "diverging": [
            [
             0,
             "#8e0152"
            ],
            [
             0.1,
             "#c51b7d"
            ],
            [
             0.2,
             "#de77ae"
            ],
            [
             0.3,
             "#f1b6da"
            ],
            [
             0.4,
             "#fde0ef"
            ],
            [
             0.5,
             "#f7f7f7"
            ],
            [
             0.6,
             "#e6f5d0"
            ],
            [
             0.7,
             "#b8e186"
            ],
            [
             0.8,
             "#7fbc41"
            ],
            [
             0.9,
             "#4d9221"
            ],
            [
             1,
             "#276419"
            ]
           ],
           "sequential": [
            [
             0,
             "#0d0887"
            ],
            [
             0.1111111111111111,
             "#46039f"
            ],
            [
             0.2222222222222222,
             "#7201a8"
            ],
            [
             0.3333333333333333,
             "#9c179e"
            ],
            [
             0.4444444444444444,
             "#bd3786"
            ],
            [
             0.5555555555555556,
             "#d8576b"
            ],
            [
             0.6666666666666666,
             "#ed7953"
            ],
            [
             0.7777777777777778,
             "#fb9f3a"
            ],
            [
             0.8888888888888888,
             "#fdca26"
            ],
            [
             1,
             "#f0f921"
            ]
           ],
           "sequentialminus": [
            [
             0,
             "#0d0887"
            ],
            [
             0.1111111111111111,
             "#46039f"
            ],
            [
             0.2222222222222222,
             "#7201a8"
            ],
            [
             0.3333333333333333,
             "#9c179e"
            ],
            [
             0.4444444444444444,
             "#bd3786"
            ],
            [
             0.5555555555555556,
             "#d8576b"
            ],
            [
             0.6666666666666666,
             "#ed7953"
            ],
            [
             0.7777777777777778,
             "#fb9f3a"
            ],
            [
             0.8888888888888888,
             "#fdca26"
            ],
            [
             1,
             "#f0f921"
            ]
           ]
          },
          "colorway": [
           "#636efa",
           "#EF553B",
           "#00cc96",
           "#ab63fa",
           "#FFA15A",
           "#19d3f3",
           "#FF6692",
           "#B6E880",
           "#FF97FF",
           "#FECB52"
          ],
          "font": {
           "color": "#2a3f5f"
          },
          "geo": {
           "bgcolor": "white",
           "lakecolor": "white",
           "landcolor": "#E5ECF6",
           "showlakes": true,
           "showland": true,
           "subunitcolor": "white"
          },
          "hoverlabel": {
           "align": "left"
          },
          "hovermode": "closest",
          "mapbox": {
           "style": "light"
          },
          "paper_bgcolor": "white",
          "plot_bgcolor": "#E5ECF6",
          "polar": {
           "angularaxis": {
            "gridcolor": "white",
            "linecolor": "white",
            "ticks": ""
           },
           "bgcolor": "#E5ECF6",
           "radialaxis": {
            "gridcolor": "white",
            "linecolor": "white",
            "ticks": ""
           }
          },
          "scene": {
           "xaxis": {
            "backgroundcolor": "#E5ECF6",
            "gridcolor": "white",
            "gridwidth": 2,
            "linecolor": "white",
            "showbackground": true,
            "ticks": "",
            "zerolinecolor": "white"
           },
           "yaxis": {
            "backgroundcolor": "#E5ECF6",
            "gridcolor": "white",
            "gridwidth": 2,
            "linecolor": "white",
            "showbackground": true,
            "ticks": "",
            "zerolinecolor": "white"
           },
           "zaxis": {
            "backgroundcolor": "#E5ECF6",
            "gridcolor": "white",
            "gridwidth": 2,
            "linecolor": "white",
            "showbackground": true,
            "ticks": "",
            "zerolinecolor": "white"
           }
          },
          "shapedefaults": {
           "line": {
            "color": "#2a3f5f"
           }
          },
          "ternary": {
           "aaxis": {
            "gridcolor": "white",
            "linecolor": "white",
            "ticks": ""
           },
           "baxis": {
            "gridcolor": "white",
            "linecolor": "white",
            "ticks": ""
           },
           "bgcolor": "#E5ECF6",
           "caxis": {
            "gridcolor": "white",
            "linecolor": "white",
            "ticks": ""
           }
          },
          "title": {
           "x": 0.05
          },
          "xaxis": {
           "automargin": true,
           "gridcolor": "white",
           "linecolor": "white",
           "ticks": "",
           "title": {
            "standoff": 15
           },
           "zerolinecolor": "white",
           "zerolinewidth": 2
          },
          "yaxis": {
           "automargin": true,
           "gridcolor": "white",
           "linecolor": "white",
           "ticks": "",
           "title": {
            "standoff": 15
           },
           "zerolinecolor": "white",
           "zerolinewidth": 2
          }
         }
        },
        "title": {
         "text": "Box plot - Idade dos clientes"
        },
        "xaxis": {
         "anchor": "y",
         "domain": [
          0,
          1
         ],
         "title": {
          "text": ""
         }
        },
        "yaxis": {
         "anchor": "x",
         "domain": [
          0,
          1
         ],
         "title": {
          "text": "Idade"
         }
        }
       }
      },
      "text/html": [
       "<div>                            <div id=\"a3c9d3ed-15e3-4ed1-b68b-b51fdba604c3\" class=\"plotly-graph-div\" style=\"height:525px; width:100%;\"></div>            <script type=\"text/javascript\">                require([\"plotly\"], function(Plotly) {                    window.PLOTLYENV=window.PLOTLYENV || {};                                    if (document.getElementById(\"a3c9d3ed-15e3-4ed1-b68b-b51fdba604c3\")) {                    Plotly.newPlot(                        \"a3c9d3ed-15e3-4ed1-b68b-b51fdba604c3\",                        [{\"alignmentgroup\":\"True\",\"hovertemplate\":\"variable=%{x}<br>value=%{y}<extra></extra>\",\"legendgroup\":\"\",\"marker\":{\"color\":\"#00CC96\"},\"name\":\"\",\"notched\":false,\"offsetgroup\":\"\",\"orientation\":\"v\",\"showlegend\":false,\"type\":\"box\",\"x\":[\"idade\",\"idade\",\"idade\",\"idade\",\"idade\",\"idade\",\"idade\",\"idade\",\"idade\",\"idade\",\"idade\",\"idade\",\"idade\",\"idade\",\"idade\",\"idade\",\"idade\",\"idade\",\"idade\",\"idade\",\"idade\",\"idade\",\"idade\",\"idade\",\"idade\",\"idade\",\"idade\",\"idade\",\"idade\",\"idade\",\"idade\",\"idade\",\"idade\",\"idade\",\"idade\",\"idade\",\"idade\",\"idade\",\"idade\",\"idade\",\"idade\",\"idade\",\"idade\",\"idade\",\"idade\",\"idade\",\"idade\",\"idade\",\"idade\",\"idade\",\"idade\",\"idade\",\"idade\",\"idade\",\"idade\",\"idade\",\"idade\",\"idade\",\"idade\",\"idade\",\"idade\",\"idade\",\"idade\",\"idade\",\"idade\",\"idade\",\"idade\",\"idade\",\"idade\",\"idade\",\"idade\",\"idade\",\"idade\",\"idade\",\"idade\",\"idade\",\"idade\",\"idade\",\"idade\",\"idade\",\"idade\",\"idade\",\"idade\",\"idade\",\"idade\",\"idade\",\"idade\",\"idade\",\"idade\",\"idade\",\"idade\",\"idade\",\"idade\",\"idade\",\"idade\",\"idade\",\"idade\",\"idade\",\"idade\",\"idade\",\"idade\",\"idade\",\"idade\",\"idade\",\"idade\",\"idade\",\"idade\",\"idade\",\"idade\",\"idade\",\"idade\",\"idade\",\"idade\",\"idade\",\"idade\",\"idade\",\"idade\",\"idade\",\"idade\",\"idade\",\"idade\",\"idade\",\"idade\",\"idade\",\"idade\",\"idade\",\"idade\",\"idade\",\"idade\",\"idade\",\"idade\",\"idade\",\"idade\",\"idade\",\"idade\",\"idade\",\"idade\",\"idade\",\"idade\",\"idade\",\"idade\",\"idade\",\"idade\",\"idade\",\"idade\",\"idade\",\"idade\",\"idade\",\"idade\",\"idade\",\"idade\",\"idade\",\"idade\",\"idade\",\"idade\",\"idade\",\"idade\",\"idade\",\"idade\",\"idade\",\"idade\",\"idade\",\"idade\",\"idade\",\"idade\",\"idade\",\"idade\",\"idade\",\"idade\",\"idade\",\"idade\",\"idade\",\"idade\",\"idade\",\"idade\",\"idade\",\"idade\",\"idade\",\"idade\",\"idade\",\"idade\",\"idade\",\"idade\",\"idade\"],\"x0\":\" \",\"xaxis\":\"x\",\"y\":[36,53,68,42,53,49,49,44,56,71,37,18,53,60,52,20,40,37,56,19,64,73,68,63,26,52,53,71,51,71,59,27,55,68,24,45,69,30,29,20,24,70,57,63,50,61,22,43,69,73,38,47,32,33,49,27,56,59,53,48,68,29,40,42,53,21,66,48,27,65,37,23,52,55,51,68,19,62,28,37,70,42,37,73,68,32,68,22,49,59,52,58,68,44,64,57,37,59,62,28,37,25,73,52,60,22,52,54,27,27,40,48,27,65,21,28,28,27,43,62,66,38,21,62,24,29,21,18,42,56,39,35,70,20,57,37,51,27,19,33,41,21,47,69,30,53,56,27,28,46,43,54,49,41,63,71,37,33,26,47,53,69,22,37,26,28,42,60,41,55,31,22,67,32,35,69,47,36,42,59,47,62,67,42],\"y0\":\" \",\"yaxis\":\"y\"}],                        {\"boxmode\":\"group\",\"legend\":{\"tracegroupgap\":0},\"margin\":{\"t\":60},\"template\":{\"data\":{\"bar\":[{\"error_x\":{\"color\":\"#2a3f5f\"},\"error_y\":{\"color\":\"#2a3f5f\"},\"marker\":{\"line\":{\"color\":\"#E5ECF6\",\"width\":0.5},\"pattern\":{\"fillmode\":\"overlay\",\"size\":10,\"solidity\":0.2}},\"type\":\"bar\"}],\"barpolar\":[{\"marker\":{\"line\":{\"color\":\"#E5ECF6\",\"width\":0.5},\"pattern\":{\"fillmode\":\"overlay\",\"size\":10,\"solidity\":0.2}},\"type\":\"barpolar\"}],\"carpet\":[{\"aaxis\":{\"endlinecolor\":\"#2a3f5f\",\"gridcolor\":\"white\",\"linecolor\":\"white\",\"minorgridcolor\":\"white\",\"startlinecolor\":\"#2a3f5f\"},\"baxis\":{\"endlinecolor\":\"#2a3f5f\",\"gridcolor\":\"white\",\"linecolor\":\"white\",\"minorgridcolor\":\"white\",\"startlinecolor\":\"#2a3f5f\"},\"type\":\"carpet\"}],\"choropleth\":[{\"colorbar\":{\"outlinewidth\":0,\"ticks\":\"\"},\"type\":\"choropleth\"}],\"contour\":[{\"colorbar\":{\"outlinewidth\":0,\"ticks\":\"\"},\"colorscale\":[[0.0,\"#0d0887\"],[0.1111111111111111,\"#46039f\"],[0.2222222222222222,\"#7201a8\"],[0.3333333333333333,\"#9c179e\"],[0.4444444444444444,\"#bd3786\"],[0.5555555555555556,\"#d8576b\"],[0.6666666666666666,\"#ed7953\"],[0.7777777777777778,\"#fb9f3a\"],[0.8888888888888888,\"#fdca26\"],[1.0,\"#f0f921\"]],\"type\":\"contour\"}],\"contourcarpet\":[{\"colorbar\":{\"outlinewidth\":0,\"ticks\":\"\"},\"type\":\"contourcarpet\"}],\"heatmap\":[{\"colorbar\":{\"outlinewidth\":0,\"ticks\":\"\"},\"colorscale\":[[0.0,\"#0d0887\"],[0.1111111111111111,\"#46039f\"],[0.2222222222222222,\"#7201a8\"],[0.3333333333333333,\"#9c179e\"],[0.4444444444444444,\"#bd3786\"],[0.5555555555555556,\"#d8576b\"],[0.6666666666666666,\"#ed7953\"],[0.7777777777777778,\"#fb9f3a\"],[0.8888888888888888,\"#fdca26\"],[1.0,\"#f0f921\"]],\"type\":\"heatmap\"}],\"heatmapgl\":[{\"colorbar\":{\"outlinewidth\":0,\"ticks\":\"\"},\"colorscale\":[[0.0,\"#0d0887\"],[0.1111111111111111,\"#46039f\"],[0.2222222222222222,\"#7201a8\"],[0.3333333333333333,\"#9c179e\"],[0.4444444444444444,\"#bd3786\"],[0.5555555555555556,\"#d8576b\"],[0.6666666666666666,\"#ed7953\"],[0.7777777777777778,\"#fb9f3a\"],[0.8888888888888888,\"#fdca26\"],[1.0,\"#f0f921\"]],\"type\":\"heatmapgl\"}],\"histogram\":[{\"marker\":{\"pattern\":{\"fillmode\":\"overlay\",\"size\":10,\"solidity\":0.2}},\"type\":\"histogram\"}],\"histogram2d\":[{\"colorbar\":{\"outlinewidth\":0,\"ticks\":\"\"},\"colorscale\":[[0.0,\"#0d0887\"],[0.1111111111111111,\"#46039f\"],[0.2222222222222222,\"#7201a8\"],[0.3333333333333333,\"#9c179e\"],[0.4444444444444444,\"#bd3786\"],[0.5555555555555556,\"#d8576b\"],[0.6666666666666666,\"#ed7953\"],[0.7777777777777778,\"#fb9f3a\"],[0.8888888888888888,\"#fdca26\"],[1.0,\"#f0f921\"]],\"type\":\"histogram2d\"}],\"histogram2dcontour\":[{\"colorbar\":{\"outlinewidth\":0,\"ticks\":\"\"},\"colorscale\":[[0.0,\"#0d0887\"],[0.1111111111111111,\"#46039f\"],[0.2222222222222222,\"#7201a8\"],[0.3333333333333333,\"#9c179e\"],[0.4444444444444444,\"#bd3786\"],[0.5555555555555556,\"#d8576b\"],[0.6666666666666666,\"#ed7953\"],[0.7777777777777778,\"#fb9f3a\"],[0.8888888888888888,\"#fdca26\"],[1.0,\"#f0f921\"]],\"type\":\"histogram2dcontour\"}],\"mesh3d\":[{\"colorbar\":{\"outlinewidth\":0,\"ticks\":\"\"},\"type\":\"mesh3d\"}],\"parcoords\":[{\"line\":{\"colorbar\":{\"outlinewidth\":0,\"ticks\":\"\"}},\"type\":\"parcoords\"}],\"pie\":[{\"automargin\":true,\"type\":\"pie\"}],\"scatter\":[{\"marker\":{\"colorbar\":{\"outlinewidth\":0,\"ticks\":\"\"}},\"type\":\"scatter\"}],\"scatter3d\":[{\"line\":{\"colorbar\":{\"outlinewidth\":0,\"ticks\":\"\"}},\"marker\":{\"colorbar\":{\"outlinewidth\":0,\"ticks\":\"\"}},\"type\":\"scatter3d\"}],\"scattercarpet\":[{\"marker\":{\"colorbar\":{\"outlinewidth\":0,\"ticks\":\"\"}},\"type\":\"scattercarpet\"}],\"scattergeo\":[{\"marker\":{\"colorbar\":{\"outlinewidth\":0,\"ticks\":\"\"}},\"type\":\"scattergeo\"}],\"scattergl\":[{\"marker\":{\"colorbar\":{\"outlinewidth\":0,\"ticks\":\"\"}},\"type\":\"scattergl\"}],\"scattermapbox\":[{\"marker\":{\"colorbar\":{\"outlinewidth\":0,\"ticks\":\"\"}},\"type\":\"scattermapbox\"}],\"scatterpolar\":[{\"marker\":{\"colorbar\":{\"outlinewidth\":0,\"ticks\":\"\"}},\"type\":\"scatterpolar\"}],\"scatterpolargl\":[{\"marker\":{\"colorbar\":{\"outlinewidth\":0,\"ticks\":\"\"}},\"type\":\"scatterpolargl\"}],\"scatterternary\":[{\"marker\":{\"colorbar\":{\"outlinewidth\":0,\"ticks\":\"\"}},\"type\":\"scatterternary\"}],\"surface\":[{\"colorbar\":{\"outlinewidth\":0,\"ticks\":\"\"},\"colorscale\":[[0.0,\"#0d0887\"],[0.1111111111111111,\"#46039f\"],[0.2222222222222222,\"#7201a8\"],[0.3333333333333333,\"#9c179e\"],[0.4444444444444444,\"#bd3786\"],[0.5555555555555556,\"#d8576b\"],[0.6666666666666666,\"#ed7953\"],[0.7777777777777778,\"#fb9f3a\"],[0.8888888888888888,\"#fdca26\"],[1.0,\"#f0f921\"]],\"type\":\"surface\"}],\"table\":[{\"cells\":{\"fill\":{\"color\":\"#EBF0F8\"},\"line\":{\"color\":\"white\"}},\"header\":{\"fill\":{\"color\":\"#C8D4E3\"},\"line\":{\"color\":\"white\"}},\"type\":\"table\"}]},\"layout\":{\"annotationdefaults\":{\"arrowcolor\":\"#2a3f5f\",\"arrowhead\":0,\"arrowwidth\":1},\"autotypenumbers\":\"strict\",\"coloraxis\":{\"colorbar\":{\"outlinewidth\":0,\"ticks\":\"\"}},\"colorscale\":{\"diverging\":[[0,\"#8e0152\"],[0.1,\"#c51b7d\"],[0.2,\"#de77ae\"],[0.3,\"#f1b6da\"],[0.4,\"#fde0ef\"],[0.5,\"#f7f7f7\"],[0.6,\"#e6f5d0\"],[0.7,\"#b8e186\"],[0.8,\"#7fbc41\"],[0.9,\"#4d9221\"],[1,\"#276419\"]],\"sequential\":[[0.0,\"#0d0887\"],[0.1111111111111111,\"#46039f\"],[0.2222222222222222,\"#7201a8\"],[0.3333333333333333,\"#9c179e\"],[0.4444444444444444,\"#bd3786\"],[0.5555555555555556,\"#d8576b\"],[0.6666666666666666,\"#ed7953\"],[0.7777777777777778,\"#fb9f3a\"],[0.8888888888888888,\"#fdca26\"],[1.0,\"#f0f921\"]],\"sequentialminus\":[[0.0,\"#0d0887\"],[0.1111111111111111,\"#46039f\"],[0.2222222222222222,\"#7201a8\"],[0.3333333333333333,\"#9c179e\"],[0.4444444444444444,\"#bd3786\"],[0.5555555555555556,\"#d8576b\"],[0.6666666666666666,\"#ed7953\"],[0.7777777777777778,\"#fb9f3a\"],[0.8888888888888888,\"#fdca26\"],[1.0,\"#f0f921\"]]},\"colorway\":[\"#636efa\",\"#EF553B\",\"#00cc96\",\"#ab63fa\",\"#FFA15A\",\"#19d3f3\",\"#FF6692\",\"#B6E880\",\"#FF97FF\",\"#FECB52\"],\"font\":{\"color\":\"#2a3f5f\"},\"geo\":{\"bgcolor\":\"white\",\"lakecolor\":\"white\",\"landcolor\":\"#E5ECF6\",\"showlakes\":true,\"showland\":true,\"subunitcolor\":\"white\"},\"hoverlabel\":{\"align\":\"left\"},\"hovermode\":\"closest\",\"mapbox\":{\"style\":\"light\"},\"paper_bgcolor\":\"white\",\"plot_bgcolor\":\"#E5ECF6\",\"polar\":{\"angularaxis\":{\"gridcolor\":\"white\",\"linecolor\":\"white\",\"ticks\":\"\"},\"bgcolor\":\"#E5ECF6\",\"radialaxis\":{\"gridcolor\":\"white\",\"linecolor\":\"white\",\"ticks\":\"\"}},\"scene\":{\"xaxis\":{\"backgroundcolor\":\"#E5ECF6\",\"gridcolor\":\"white\",\"gridwidth\":2,\"linecolor\":\"white\",\"showbackground\":true,\"ticks\":\"\",\"zerolinecolor\":\"white\"},\"yaxis\":{\"backgroundcolor\":\"#E5ECF6\",\"gridcolor\":\"white\",\"gridwidth\":2,\"linecolor\":\"white\",\"showbackground\":true,\"ticks\":\"\",\"zerolinecolor\":\"white\"},\"zaxis\":{\"backgroundcolor\":\"#E5ECF6\",\"gridcolor\":\"white\",\"gridwidth\":2,\"linecolor\":\"white\",\"showbackground\":true,\"ticks\":\"\",\"zerolinecolor\":\"white\"}},\"shapedefaults\":{\"line\":{\"color\":\"#2a3f5f\"}},\"ternary\":{\"aaxis\":{\"gridcolor\":\"white\",\"linecolor\":\"white\",\"ticks\":\"\"},\"baxis\":{\"gridcolor\":\"white\",\"linecolor\":\"white\",\"ticks\":\"\"},\"bgcolor\":\"#E5ECF6\",\"caxis\":{\"gridcolor\":\"white\",\"linecolor\":\"white\",\"ticks\":\"\"}},\"title\":{\"x\":0.05},\"xaxis\":{\"automargin\":true,\"gridcolor\":\"white\",\"linecolor\":\"white\",\"ticks\":\"\",\"title\":{\"standoff\":15},\"zerolinecolor\":\"white\",\"zerolinewidth\":2},\"yaxis\":{\"automargin\":true,\"gridcolor\":\"white\",\"linecolor\":\"white\",\"ticks\":\"\",\"title\":{\"standoff\":15},\"zerolinecolor\":\"white\",\"zerolinewidth\":2}}},\"title\":{\"text\":\"Box plot - Idade dos clientes\"},\"xaxis\":{\"anchor\":\"y\",\"domain\":[0.0,1.0],\"title\":{\"text\":\"\"}},\"yaxis\":{\"anchor\":\"x\",\"domain\":[0.0,1.0],\"title\":{\"text\":\"Idade\"}}},                        {\"responsive\": true}                    ).then(function(){\n",
       "                            \n",
       "var gd = document.getElementById('a3c9d3ed-15e3-4ed1-b68b-b51fdba604c3');\n",
       "var x = new MutationObserver(function (mutations, observer) {{\n",
       "        var display = window.getComputedStyle(gd).display;\n",
       "        if (!display || display === 'none') {{\n",
       "            console.log([gd, 'removed!']);\n",
       "            Plotly.purge(gd);\n",
       "            observer.disconnect();\n",
       "        }}\n",
       "}});\n",
       "\n",
       "// Listen for the removal of the full notebook cells\n",
       "var notebookContainer = gd.closest('#notebook-container');\n",
       "if (notebookContainer) {{\n",
       "    x.observe(notebookContainer, {childList: true});\n",
       "}}\n",
       "\n",
       "// Listen for the clearing of the current output cell\n",
       "var outputEl = gd.closest('.output');\n",
       "if (outputEl) {{\n",
       "    x.observe(outputEl, {childList: true});\n",
       "}}\n",
       "\n",
       "                        })                };                });            </script>        </div>"
      ]
     },
     "metadata": {},
     "output_type": "display_data"
    }
   ],
   "source": [
    "fig_box_plot_idade = px.box(tabela_cliente_gasto_idade[\"idade\"], labels={\"idade\": \"Idade\"}, )\n",
    "fig_box_plot_idade.update_traces(marker = {'color': '#00CC96'})\n",
    "fig_box_plot_idade.update_layout(title = 'Box plot - Idade dos clientes')\n",
    "fig_box_plot_idade.update_xaxes(title = '')\n",
    "fig_box_plot_idade.update_yaxes(title = 'Idade')\n",
    "fig_box_plot_idade.show()"
   ]
  },
  {
   "cell_type": "code",
   "execution_count": 30,
   "id": "26505ec3",
   "metadata": {},
   "outputs": [
    {
     "data": {
      "application/vnd.plotly.v1+json": {
       "config": {
        "plotlyServerURL": "https://plot.ly"
       },
       "data": [
        {
         "alignmentgroup": "True",
         "hovertemplate": "Idade=%{x}<br>Total gasto pelo cliente=%{y}<extra></extra>",
         "legendgroup": "",
         "marker": {
          "color": "#00CC96"
         },
         "name": "",
         "notched": false,
         "offsetgroup": "",
         "orientation": "v",
         "showlegend": false,
         "type": "box",
         "x": [
          36,
          53,
          68,
          42,
          53,
          49,
          49,
          44,
          56,
          71,
          37,
          18,
          53,
          60,
          52,
          20,
          40,
          37,
          56,
          19,
          64,
          73,
          68,
          63,
          26,
          52,
          53,
          71,
          51,
          71,
          59,
          27,
          55,
          68,
          24,
          45,
          69,
          30,
          29,
          20,
          24,
          70,
          57,
          63,
          50,
          61,
          22,
          43,
          69,
          73,
          38,
          47,
          32,
          33,
          49,
          27,
          56,
          59,
          53,
          48,
          68,
          29,
          40,
          42,
          53,
          21,
          66,
          48,
          27,
          65,
          37,
          23,
          52,
          55,
          51,
          68,
          19,
          62,
          28,
          37,
          70,
          42,
          37,
          73,
          68,
          32,
          68,
          22,
          49,
          59,
          52,
          58,
          68,
          44,
          64,
          57,
          37,
          59,
          62,
          28,
          37,
          25,
          73,
          52,
          60,
          22,
          52,
          54,
          27,
          27,
          40,
          48,
          27,
          65,
          21,
          28,
          28,
          27,
          43,
          62,
          66,
          38,
          21,
          62,
          24,
          29,
          21,
          18,
          42,
          56,
          39,
          35,
          70,
          20,
          57,
          37,
          51,
          27,
          19,
          33,
          41,
          21,
          47,
          69,
          30,
          53,
          56,
          27,
          28,
          46,
          43,
          54,
          49,
          41,
          63,
          71,
          37,
          33,
          26,
          47,
          53,
          69,
          22,
          37,
          26,
          28,
          42,
          60,
          41,
          55,
          31,
          22,
          67,
          32,
          35,
          69,
          47,
          36,
          42,
          59,
          47,
          62,
          67,
          42
         ],
         "x0": " ",
         "xaxis": "x",
         "y": [
          1593.6800000000003,
          1124.4500000000003,
          1244.65,
          481.35999999999996,
          1590.3100000000004,
          297.28999999999996,
          814.5700000000003,
          769.7600000000002,
          345.44,
          2381.8999999999996,
          151.69,
          29.28,
          1058.28,
          660.67,
          283.04,
          1921.3900000000003,
          1328.33,
          443.75000000000006,
          331.88,
          275.05,
          736.0699999999999,
          393.72,
          340.28999999999996,
          944.9000000000002,
          514.99,
          1153.8100000000004,
          436.85,
          567.14,
          656.6800000000001,
          2611.5099999999993,
          2079.41,
          605.0800000000002,
          2665.559999999999,
          395.46000000000004,
          412.55999999999995,
          463.7800000000001,
          395.34000000000003,
          639.5900000000001,
          1085.7600000000002,
          375.70000000000005,
          665.6100000000001,
          1207.7500000000002,
          883.3100000000004,
          369.03000000000003,
          2308.4200000000005,
          1113.0800000000002,
          1636.51,
          1288.74,
          1652.3400000000004,
          1403.1300000000006,
          701.0400000000001,
          1009.1500000000001,
          303.01,
          395.82000000000005,
          638.5200000000002,
          459.93000000000006,
          893.4100000000002,
          1239.4300000000003,
          470.80000000000007,
          118.60999999999999,
          38.47,
          80.94999999999999,
          1091.0000000000002,
          66.86,
          171.97000000000003,
          472.64,
          1449.8600000000004,
          1721.0700000000008,
          885.9800000000001,
          784.3199999999999,
          1201.2500000000002,
          700.61,
          985.0699999999999,
          620.5600000000001,
          957.4100000000002,
          2112.63,
          1730.8900000000006,
          421.7000000000001,
          1577.2700000000004,
          1169.92,
          1562.4700000000003,
          1065.1000000000001,
          738.4700000000001,
          716.0800000000002,
          1506.6500000000003,
          387.99,
          15.6,
          1112.6200000000003,
          1344.9500000000003,
          17.24,
          4.31,
          142.10999999999999,
          698.9100000000002,
          1051.4,
          706.94,
          859.7900000000002,
          251.16,
          764.5400000000002,
          1020.19,
          1694.5300000000002,
          264.32000000000005,
          300.61000000000007,
          1178.1300000000006,
          704.13,
          339.62,
          328.02000000000004,
          621.2600000000001,
          1411.9400000000005,
          1411.9400000000005,
          307.14000000000004,
          264.07,
          572.02,
          539.11,
          530.4200000000001,
          452.32,
          78.91,
          14.940000000000001,
          14.97,
          482.84999999999997,
          858.9200000000001,
          1004.1800000000001,
          970.4600000000004,
          1001.23,
          211.55999999999997,
          588.5799999999999,
          703.08,
          268.74,
          513.98,
          63.97,
          210.08,
          72.41,
          528.27,
          1322.7700000000004,
          155.95,
          349.73,
          1512.99,
          71.97,
          654.34,
          1331.65,
          128.94,
          434.43,
          359.11999999999995,
          547.3800000000001,
          600.1500000000001,
          33.8,
          25.349999999999998,
          601.86,
          342.74,
          141.81,
          1259.5100000000002,
          875.48,
          178.29999999999998,
          707.5600000000002,
          889.6200000000001,
          220.95000000000005,
          63.98,
          23.96,
          37.37,
          17.39,
          104.34,
          153.93,
          11.99,
          334.62,
          91.5,
          91.16,
          23.040000000000003,
          11.370000000000001,
          5.97,
          516,
          691.87,
          535.98,
          15.96,
          143.99,
          61.489999999999995,
          167.96,
          13.98,
          212.67000000000002,
          19.38,
          38.97,
          84.93,
          6.98,
          6.98,
          11.98,
          32.98
         ],
         "y0": " ",
         "yaxis": "y"
        }
       ],
       "layout": {
        "boxmode": "group",
        "legend": {
         "tracegroupgap": 0
        },
        "margin": {
         "t": 60
        },
        "template": {
         "data": {
          "bar": [
           {
            "error_x": {
             "color": "#2a3f5f"
            },
            "error_y": {
             "color": "#2a3f5f"
            },
            "marker": {
             "line": {
              "color": "#E5ECF6",
              "width": 0.5
             },
             "pattern": {
              "fillmode": "overlay",
              "size": 10,
              "solidity": 0.2
             }
            },
            "type": "bar"
           }
          ],
          "barpolar": [
           {
            "marker": {
             "line": {
              "color": "#E5ECF6",
              "width": 0.5
             },
             "pattern": {
              "fillmode": "overlay",
              "size": 10,
              "solidity": 0.2
             }
            },
            "type": "barpolar"
           }
          ],
          "carpet": [
           {
            "aaxis": {
             "endlinecolor": "#2a3f5f",
             "gridcolor": "white",
             "linecolor": "white",
             "minorgridcolor": "white",
             "startlinecolor": "#2a3f5f"
            },
            "baxis": {
             "endlinecolor": "#2a3f5f",
             "gridcolor": "white",
             "linecolor": "white",
             "minorgridcolor": "white",
             "startlinecolor": "#2a3f5f"
            },
            "type": "carpet"
           }
          ],
          "choropleth": [
           {
            "colorbar": {
             "outlinewidth": 0,
             "ticks": ""
            },
            "type": "choropleth"
           }
          ],
          "contour": [
           {
            "colorbar": {
             "outlinewidth": 0,
             "ticks": ""
            },
            "colorscale": [
             [
              0,
              "#0d0887"
             ],
             [
              0.1111111111111111,
              "#46039f"
             ],
             [
              0.2222222222222222,
              "#7201a8"
             ],
             [
              0.3333333333333333,
              "#9c179e"
             ],
             [
              0.4444444444444444,
              "#bd3786"
             ],
             [
              0.5555555555555556,
              "#d8576b"
             ],
             [
              0.6666666666666666,
              "#ed7953"
             ],
             [
              0.7777777777777778,
              "#fb9f3a"
             ],
             [
              0.8888888888888888,
              "#fdca26"
             ],
             [
              1,
              "#f0f921"
             ]
            ],
            "type": "contour"
           }
          ],
          "contourcarpet": [
           {
            "colorbar": {
             "outlinewidth": 0,
             "ticks": ""
            },
            "type": "contourcarpet"
           }
          ],
          "heatmap": [
           {
            "colorbar": {
             "outlinewidth": 0,
             "ticks": ""
            },
            "colorscale": [
             [
              0,
              "#0d0887"
             ],
             [
              0.1111111111111111,
              "#46039f"
             ],
             [
              0.2222222222222222,
              "#7201a8"
             ],
             [
              0.3333333333333333,
              "#9c179e"
             ],
             [
              0.4444444444444444,
              "#bd3786"
             ],
             [
              0.5555555555555556,
              "#d8576b"
             ],
             [
              0.6666666666666666,
              "#ed7953"
             ],
             [
              0.7777777777777778,
              "#fb9f3a"
             ],
             [
              0.8888888888888888,
              "#fdca26"
             ],
             [
              1,
              "#f0f921"
             ]
            ],
            "type": "heatmap"
           }
          ],
          "heatmapgl": [
           {
            "colorbar": {
             "outlinewidth": 0,
             "ticks": ""
            },
            "colorscale": [
             [
              0,
              "#0d0887"
             ],
             [
              0.1111111111111111,
              "#46039f"
             ],
             [
              0.2222222222222222,
              "#7201a8"
             ],
             [
              0.3333333333333333,
              "#9c179e"
             ],
             [
              0.4444444444444444,
              "#bd3786"
             ],
             [
              0.5555555555555556,
              "#d8576b"
             ],
             [
              0.6666666666666666,
              "#ed7953"
             ],
             [
              0.7777777777777778,
              "#fb9f3a"
             ],
             [
              0.8888888888888888,
              "#fdca26"
             ],
             [
              1,
              "#f0f921"
             ]
            ],
            "type": "heatmapgl"
           }
          ],
          "histogram": [
           {
            "marker": {
             "pattern": {
              "fillmode": "overlay",
              "size": 10,
              "solidity": 0.2
             }
            },
            "type": "histogram"
           }
          ],
          "histogram2d": [
           {
            "colorbar": {
             "outlinewidth": 0,
             "ticks": ""
            },
            "colorscale": [
             [
              0,
              "#0d0887"
             ],
             [
              0.1111111111111111,
              "#46039f"
             ],
             [
              0.2222222222222222,
              "#7201a8"
             ],
             [
              0.3333333333333333,
              "#9c179e"
             ],
             [
              0.4444444444444444,
              "#bd3786"
             ],
             [
              0.5555555555555556,
              "#d8576b"
             ],
             [
              0.6666666666666666,
              "#ed7953"
             ],
             [
              0.7777777777777778,
              "#fb9f3a"
             ],
             [
              0.8888888888888888,
              "#fdca26"
             ],
             [
              1,
              "#f0f921"
             ]
            ],
            "type": "histogram2d"
           }
          ],
          "histogram2dcontour": [
           {
            "colorbar": {
             "outlinewidth": 0,
             "ticks": ""
            },
            "colorscale": [
             [
              0,
              "#0d0887"
             ],
             [
              0.1111111111111111,
              "#46039f"
             ],
             [
              0.2222222222222222,
              "#7201a8"
             ],
             [
              0.3333333333333333,
              "#9c179e"
             ],
             [
              0.4444444444444444,
              "#bd3786"
             ],
             [
              0.5555555555555556,
              "#d8576b"
             ],
             [
              0.6666666666666666,
              "#ed7953"
             ],
             [
              0.7777777777777778,
              "#fb9f3a"
             ],
             [
              0.8888888888888888,
              "#fdca26"
             ],
             [
              1,
              "#f0f921"
             ]
            ],
            "type": "histogram2dcontour"
           }
          ],
          "mesh3d": [
           {
            "colorbar": {
             "outlinewidth": 0,
             "ticks": ""
            },
            "type": "mesh3d"
           }
          ],
          "parcoords": [
           {
            "line": {
             "colorbar": {
              "outlinewidth": 0,
              "ticks": ""
             }
            },
            "type": "parcoords"
           }
          ],
          "pie": [
           {
            "automargin": true,
            "type": "pie"
           }
          ],
          "scatter": [
           {
            "marker": {
             "colorbar": {
              "outlinewidth": 0,
              "ticks": ""
             }
            },
            "type": "scatter"
           }
          ],
          "scatter3d": [
           {
            "line": {
             "colorbar": {
              "outlinewidth": 0,
              "ticks": ""
             }
            },
            "marker": {
             "colorbar": {
              "outlinewidth": 0,
              "ticks": ""
             }
            },
            "type": "scatter3d"
           }
          ],
          "scattercarpet": [
           {
            "marker": {
             "colorbar": {
              "outlinewidth": 0,
              "ticks": ""
             }
            },
            "type": "scattercarpet"
           }
          ],
          "scattergeo": [
           {
            "marker": {
             "colorbar": {
              "outlinewidth": 0,
              "ticks": ""
             }
            },
            "type": "scattergeo"
           }
          ],
          "scattergl": [
           {
            "marker": {
             "colorbar": {
              "outlinewidth": 0,
              "ticks": ""
             }
            },
            "type": "scattergl"
           }
          ],
          "scattermapbox": [
           {
            "marker": {
             "colorbar": {
              "outlinewidth": 0,
              "ticks": ""
             }
            },
            "type": "scattermapbox"
           }
          ],
          "scatterpolar": [
           {
            "marker": {
             "colorbar": {
              "outlinewidth": 0,
              "ticks": ""
             }
            },
            "type": "scatterpolar"
           }
          ],
          "scatterpolargl": [
           {
            "marker": {
             "colorbar": {
              "outlinewidth": 0,
              "ticks": ""
             }
            },
            "type": "scatterpolargl"
           }
          ],
          "scatterternary": [
           {
            "marker": {
             "colorbar": {
              "outlinewidth": 0,
              "ticks": ""
             }
            },
            "type": "scatterternary"
           }
          ],
          "surface": [
           {
            "colorbar": {
             "outlinewidth": 0,
             "ticks": ""
            },
            "colorscale": [
             [
              0,
              "#0d0887"
             ],
             [
              0.1111111111111111,
              "#46039f"
             ],
             [
              0.2222222222222222,
              "#7201a8"
             ],
             [
              0.3333333333333333,
              "#9c179e"
             ],
             [
              0.4444444444444444,
              "#bd3786"
             ],
             [
              0.5555555555555556,
              "#d8576b"
             ],
             [
              0.6666666666666666,
              "#ed7953"
             ],
             [
              0.7777777777777778,
              "#fb9f3a"
             ],
             [
              0.8888888888888888,
              "#fdca26"
             ],
             [
              1,
              "#f0f921"
             ]
            ],
            "type": "surface"
           }
          ],
          "table": [
           {
            "cells": {
             "fill": {
              "color": "#EBF0F8"
             },
             "line": {
              "color": "white"
             }
            },
            "header": {
             "fill": {
              "color": "#C8D4E3"
             },
             "line": {
              "color": "white"
             }
            },
            "type": "table"
           }
          ]
         },
         "layout": {
          "annotationdefaults": {
           "arrowcolor": "#2a3f5f",
           "arrowhead": 0,
           "arrowwidth": 1
          },
          "autotypenumbers": "strict",
          "coloraxis": {
           "colorbar": {
            "outlinewidth": 0,
            "ticks": ""
           }
          },
          "colorscale": {
           "diverging": [
            [
             0,
             "#8e0152"
            ],
            [
             0.1,
             "#c51b7d"
            ],
            [
             0.2,
             "#de77ae"
            ],
            [
             0.3,
             "#f1b6da"
            ],
            [
             0.4,
             "#fde0ef"
            ],
            [
             0.5,
             "#f7f7f7"
            ],
            [
             0.6,
             "#e6f5d0"
            ],
            [
             0.7,
             "#b8e186"
            ],
            [
             0.8,
             "#7fbc41"
            ],
            [
             0.9,
             "#4d9221"
            ],
            [
             1,
             "#276419"
            ]
           ],
           "sequential": [
            [
             0,
             "#0d0887"
            ],
            [
             0.1111111111111111,
             "#46039f"
            ],
            [
             0.2222222222222222,
             "#7201a8"
            ],
            [
             0.3333333333333333,
             "#9c179e"
            ],
            [
             0.4444444444444444,
             "#bd3786"
            ],
            [
             0.5555555555555556,
             "#d8576b"
            ],
            [
             0.6666666666666666,
             "#ed7953"
            ],
            [
             0.7777777777777778,
             "#fb9f3a"
            ],
            [
             0.8888888888888888,
             "#fdca26"
            ],
            [
             1,
             "#f0f921"
            ]
           ],
           "sequentialminus": [
            [
             0,
             "#0d0887"
            ],
            [
             0.1111111111111111,
             "#46039f"
            ],
            [
             0.2222222222222222,
             "#7201a8"
            ],
            [
             0.3333333333333333,
             "#9c179e"
            ],
            [
             0.4444444444444444,
             "#bd3786"
            ],
            [
             0.5555555555555556,
             "#d8576b"
            ],
            [
             0.6666666666666666,
             "#ed7953"
            ],
            [
             0.7777777777777778,
             "#fb9f3a"
            ],
            [
             0.8888888888888888,
             "#fdca26"
            ],
            [
             1,
             "#f0f921"
            ]
           ]
          },
          "colorway": [
           "#636efa",
           "#EF553B",
           "#00cc96",
           "#ab63fa",
           "#FFA15A",
           "#19d3f3",
           "#FF6692",
           "#B6E880",
           "#FF97FF",
           "#FECB52"
          ],
          "font": {
           "color": "#2a3f5f"
          },
          "geo": {
           "bgcolor": "white",
           "lakecolor": "white",
           "landcolor": "#E5ECF6",
           "showlakes": true,
           "showland": true,
           "subunitcolor": "white"
          },
          "hoverlabel": {
           "align": "left"
          },
          "hovermode": "closest",
          "mapbox": {
           "style": "light"
          },
          "paper_bgcolor": "white",
          "plot_bgcolor": "#E5ECF6",
          "polar": {
           "angularaxis": {
            "gridcolor": "white",
            "linecolor": "white",
            "ticks": ""
           },
           "bgcolor": "#E5ECF6",
           "radialaxis": {
            "gridcolor": "white",
            "linecolor": "white",
            "ticks": ""
           }
          },
          "scene": {
           "xaxis": {
            "backgroundcolor": "#E5ECF6",
            "gridcolor": "white",
            "gridwidth": 2,
            "linecolor": "white",
            "showbackground": true,
            "ticks": "",
            "zerolinecolor": "white"
           },
           "yaxis": {
            "backgroundcolor": "#E5ECF6",
            "gridcolor": "white",
            "gridwidth": 2,
            "linecolor": "white",
            "showbackground": true,
            "ticks": "",
            "zerolinecolor": "white"
           },
           "zaxis": {
            "backgroundcolor": "#E5ECF6",
            "gridcolor": "white",
            "gridwidth": 2,
            "linecolor": "white",
            "showbackground": true,
            "ticks": "",
            "zerolinecolor": "white"
           }
          },
          "shapedefaults": {
           "line": {
            "color": "#2a3f5f"
           }
          },
          "ternary": {
           "aaxis": {
            "gridcolor": "white",
            "linecolor": "white",
            "ticks": ""
           },
           "baxis": {
            "gridcolor": "white",
            "linecolor": "white",
            "ticks": ""
           },
           "bgcolor": "#E5ECF6",
           "caxis": {
            "gridcolor": "white",
            "linecolor": "white",
            "ticks": ""
           }
          },
          "title": {
           "x": 0.05
          },
          "xaxis": {
           "automargin": true,
           "gridcolor": "white",
           "linecolor": "white",
           "ticks": "",
           "title": {
            "standoff": 15
           },
           "zerolinecolor": "white",
           "zerolinewidth": 2
          },
          "yaxis": {
           "automargin": true,
           "gridcolor": "white",
           "linecolor": "white",
           "ticks": "",
           "title": {
            "standoff": 15
           },
           "zerolinecolor": "white",
           "zerolinewidth": 2
          }
         }
        },
        "title": {
         "text": "Box plot - Idade dos clientes"
        },
        "xaxis": {
         "anchor": "y",
         "domain": [
          0,
          1
         ],
         "title": {
          "text": ""
         }
        },
        "yaxis": {
         "anchor": "x",
         "domain": [
          0,
          1
         ],
         "title": {
          "text": "Idade"
         }
        }
       }
      },
      "text/html": [
       "<div>                            <div id=\"ea43f0cb-1b36-4f81-b609-4326e0bcaad6\" class=\"plotly-graph-div\" style=\"height:525px; width:100%;\"></div>            <script type=\"text/javascript\">                require([\"plotly\"], function(Plotly) {                    window.PLOTLYENV=window.PLOTLYENV || {};                                    if (document.getElementById(\"ea43f0cb-1b36-4f81-b609-4326e0bcaad6\")) {                    Plotly.newPlot(                        \"ea43f0cb-1b36-4f81-b609-4326e0bcaad6\",                        [{\"alignmentgroup\":\"True\",\"hovertemplate\":\"Idade=%{x}<br>Total gasto pelo cliente=%{y}<extra></extra>\",\"legendgroup\":\"\",\"marker\":{\"color\":\"#00CC96\"},\"name\":\"\",\"notched\":false,\"offsetgroup\":\"\",\"orientation\":\"v\",\"showlegend\":false,\"type\":\"box\",\"x\":[36,53,68,42,53,49,49,44,56,71,37,18,53,60,52,20,40,37,56,19,64,73,68,63,26,52,53,71,51,71,59,27,55,68,24,45,69,30,29,20,24,70,57,63,50,61,22,43,69,73,38,47,32,33,49,27,56,59,53,48,68,29,40,42,53,21,66,48,27,65,37,23,52,55,51,68,19,62,28,37,70,42,37,73,68,32,68,22,49,59,52,58,68,44,64,57,37,59,62,28,37,25,73,52,60,22,52,54,27,27,40,48,27,65,21,28,28,27,43,62,66,38,21,62,24,29,21,18,42,56,39,35,70,20,57,37,51,27,19,33,41,21,47,69,30,53,56,27,28,46,43,54,49,41,63,71,37,33,26,47,53,69,22,37,26,28,42,60,41,55,31,22,67,32,35,69,47,36,42,59,47,62,67,42],\"x0\":\" \",\"xaxis\":\"x\",\"y\":[1593.6800000000003,1124.4500000000003,1244.65,481.35999999999996,1590.3100000000004,297.28999999999996,814.5700000000003,769.7600000000002,345.44,2381.8999999999996,151.69,29.28,1058.28,660.67,283.04,1921.3900000000003,1328.33,443.75000000000006,331.88,275.05,736.0699999999999,393.72,340.28999999999996,944.9000000000002,514.99,1153.8100000000004,436.85,567.14,656.6800000000001,2611.5099999999993,2079.41,605.0800000000002,2665.559999999999,395.46000000000004,412.55999999999995,463.7800000000001,395.34000000000003,639.5900000000001,1085.7600000000002,375.70000000000005,665.6100000000001,1207.7500000000002,883.3100000000004,369.03000000000003,2308.4200000000005,1113.0800000000002,1636.51,1288.74,1652.3400000000004,1403.1300000000006,701.0400000000001,1009.1500000000001,303.01,395.82000000000005,638.5200000000002,459.93000000000006,893.4100000000002,1239.4300000000003,470.80000000000007,118.60999999999999,38.47,80.94999999999999,1091.0000000000002,66.86,171.97000000000003,472.64,1449.8600000000004,1721.0700000000008,885.9800000000001,784.3199999999999,1201.2500000000002,700.61,985.0699999999999,620.5600000000001,957.4100000000002,2112.63,1730.8900000000006,421.7000000000001,1577.2700000000004,1169.92,1562.4700000000003,1065.1000000000001,738.4700000000001,716.0800000000002,1506.6500000000003,387.99,15.6,1112.6200000000003,1344.9500000000003,17.24,4.31,142.10999999999999,698.9100000000002,1051.4,706.94,859.7900000000002,251.16,764.5400000000002,1020.19,1694.5300000000002,264.32000000000005,300.61000000000007,1178.1300000000006,704.13,339.62,328.02000000000004,621.2600000000001,1411.9400000000005,1411.9400000000005,307.14000000000004,264.07,572.02,539.11,530.4200000000001,452.32,78.91,14.940000000000001,14.97,482.84999999999997,858.9200000000001,1004.1800000000001,970.4600000000004,1001.23,211.55999999999997,588.5799999999999,703.08,268.74,513.98,63.97,210.08,72.41,528.27,1322.7700000000004,155.95,349.73,1512.99,71.97,654.34,1331.65,128.94,434.43,359.11999999999995,547.3800000000001,600.1500000000001,33.8,25.349999999999998,601.86,342.74,141.81,1259.5100000000002,875.48,178.29999999999998,707.5600000000002,889.6200000000001,220.95000000000005,63.98,23.96,37.37,17.39,104.34,153.93,11.99,334.62,91.5,91.16,23.040000000000003,11.370000000000001,5.97,516.0,691.87,535.98,15.96,143.99,61.489999999999995,167.96,13.98,212.67000000000002,19.38,38.97,84.93,6.98,6.98,11.98,32.98],\"y0\":\" \",\"yaxis\":\"y\"}],                        {\"boxmode\":\"group\",\"legend\":{\"tracegroupgap\":0},\"margin\":{\"t\":60},\"template\":{\"data\":{\"bar\":[{\"error_x\":{\"color\":\"#2a3f5f\"},\"error_y\":{\"color\":\"#2a3f5f\"},\"marker\":{\"line\":{\"color\":\"#E5ECF6\",\"width\":0.5},\"pattern\":{\"fillmode\":\"overlay\",\"size\":10,\"solidity\":0.2}},\"type\":\"bar\"}],\"barpolar\":[{\"marker\":{\"line\":{\"color\":\"#E5ECF6\",\"width\":0.5},\"pattern\":{\"fillmode\":\"overlay\",\"size\":10,\"solidity\":0.2}},\"type\":\"barpolar\"}],\"carpet\":[{\"aaxis\":{\"endlinecolor\":\"#2a3f5f\",\"gridcolor\":\"white\",\"linecolor\":\"white\",\"minorgridcolor\":\"white\",\"startlinecolor\":\"#2a3f5f\"},\"baxis\":{\"endlinecolor\":\"#2a3f5f\",\"gridcolor\":\"white\",\"linecolor\":\"white\",\"minorgridcolor\":\"white\",\"startlinecolor\":\"#2a3f5f\"},\"type\":\"carpet\"}],\"choropleth\":[{\"colorbar\":{\"outlinewidth\":0,\"ticks\":\"\"},\"type\":\"choropleth\"}],\"contour\":[{\"colorbar\":{\"outlinewidth\":0,\"ticks\":\"\"},\"colorscale\":[[0.0,\"#0d0887\"],[0.1111111111111111,\"#46039f\"],[0.2222222222222222,\"#7201a8\"],[0.3333333333333333,\"#9c179e\"],[0.4444444444444444,\"#bd3786\"],[0.5555555555555556,\"#d8576b\"],[0.6666666666666666,\"#ed7953\"],[0.7777777777777778,\"#fb9f3a\"],[0.8888888888888888,\"#fdca26\"],[1.0,\"#f0f921\"]],\"type\":\"contour\"}],\"contourcarpet\":[{\"colorbar\":{\"outlinewidth\":0,\"ticks\":\"\"},\"type\":\"contourcarpet\"}],\"heatmap\":[{\"colorbar\":{\"outlinewidth\":0,\"ticks\":\"\"},\"colorscale\":[[0.0,\"#0d0887\"],[0.1111111111111111,\"#46039f\"],[0.2222222222222222,\"#7201a8\"],[0.3333333333333333,\"#9c179e\"],[0.4444444444444444,\"#bd3786\"],[0.5555555555555556,\"#d8576b\"],[0.6666666666666666,\"#ed7953\"],[0.7777777777777778,\"#fb9f3a\"],[0.8888888888888888,\"#fdca26\"],[1.0,\"#f0f921\"]],\"type\":\"heatmap\"}],\"heatmapgl\":[{\"colorbar\":{\"outlinewidth\":0,\"ticks\":\"\"},\"colorscale\":[[0.0,\"#0d0887\"],[0.1111111111111111,\"#46039f\"],[0.2222222222222222,\"#7201a8\"],[0.3333333333333333,\"#9c179e\"],[0.4444444444444444,\"#bd3786\"],[0.5555555555555556,\"#d8576b\"],[0.6666666666666666,\"#ed7953\"],[0.7777777777777778,\"#fb9f3a\"],[0.8888888888888888,\"#fdca26\"],[1.0,\"#f0f921\"]],\"type\":\"heatmapgl\"}],\"histogram\":[{\"marker\":{\"pattern\":{\"fillmode\":\"overlay\",\"size\":10,\"solidity\":0.2}},\"type\":\"histogram\"}],\"histogram2d\":[{\"colorbar\":{\"outlinewidth\":0,\"ticks\":\"\"},\"colorscale\":[[0.0,\"#0d0887\"],[0.1111111111111111,\"#46039f\"],[0.2222222222222222,\"#7201a8\"],[0.3333333333333333,\"#9c179e\"],[0.4444444444444444,\"#bd3786\"],[0.5555555555555556,\"#d8576b\"],[0.6666666666666666,\"#ed7953\"],[0.7777777777777778,\"#fb9f3a\"],[0.8888888888888888,\"#fdca26\"],[1.0,\"#f0f921\"]],\"type\":\"histogram2d\"}],\"histogram2dcontour\":[{\"colorbar\":{\"outlinewidth\":0,\"ticks\":\"\"},\"colorscale\":[[0.0,\"#0d0887\"],[0.1111111111111111,\"#46039f\"],[0.2222222222222222,\"#7201a8\"],[0.3333333333333333,\"#9c179e\"],[0.4444444444444444,\"#bd3786\"],[0.5555555555555556,\"#d8576b\"],[0.6666666666666666,\"#ed7953\"],[0.7777777777777778,\"#fb9f3a\"],[0.8888888888888888,\"#fdca26\"],[1.0,\"#f0f921\"]],\"type\":\"histogram2dcontour\"}],\"mesh3d\":[{\"colorbar\":{\"outlinewidth\":0,\"ticks\":\"\"},\"type\":\"mesh3d\"}],\"parcoords\":[{\"line\":{\"colorbar\":{\"outlinewidth\":0,\"ticks\":\"\"}},\"type\":\"parcoords\"}],\"pie\":[{\"automargin\":true,\"type\":\"pie\"}],\"scatter\":[{\"marker\":{\"colorbar\":{\"outlinewidth\":0,\"ticks\":\"\"}},\"type\":\"scatter\"}],\"scatter3d\":[{\"line\":{\"colorbar\":{\"outlinewidth\":0,\"ticks\":\"\"}},\"marker\":{\"colorbar\":{\"outlinewidth\":0,\"ticks\":\"\"}},\"type\":\"scatter3d\"}],\"scattercarpet\":[{\"marker\":{\"colorbar\":{\"outlinewidth\":0,\"ticks\":\"\"}},\"type\":\"scattercarpet\"}],\"scattergeo\":[{\"marker\":{\"colorbar\":{\"outlinewidth\":0,\"ticks\":\"\"}},\"type\":\"scattergeo\"}],\"scattergl\":[{\"marker\":{\"colorbar\":{\"outlinewidth\":0,\"ticks\":\"\"}},\"type\":\"scattergl\"}],\"scattermapbox\":[{\"marker\":{\"colorbar\":{\"outlinewidth\":0,\"ticks\":\"\"}},\"type\":\"scattermapbox\"}],\"scatterpolar\":[{\"marker\":{\"colorbar\":{\"outlinewidth\":0,\"ticks\":\"\"}},\"type\":\"scatterpolar\"}],\"scatterpolargl\":[{\"marker\":{\"colorbar\":{\"outlinewidth\":0,\"ticks\":\"\"}},\"type\":\"scatterpolargl\"}],\"scatterternary\":[{\"marker\":{\"colorbar\":{\"outlinewidth\":0,\"ticks\":\"\"}},\"type\":\"scatterternary\"}],\"surface\":[{\"colorbar\":{\"outlinewidth\":0,\"ticks\":\"\"},\"colorscale\":[[0.0,\"#0d0887\"],[0.1111111111111111,\"#46039f\"],[0.2222222222222222,\"#7201a8\"],[0.3333333333333333,\"#9c179e\"],[0.4444444444444444,\"#bd3786\"],[0.5555555555555556,\"#d8576b\"],[0.6666666666666666,\"#ed7953\"],[0.7777777777777778,\"#fb9f3a\"],[0.8888888888888888,\"#fdca26\"],[1.0,\"#f0f921\"]],\"type\":\"surface\"}],\"table\":[{\"cells\":{\"fill\":{\"color\":\"#EBF0F8\"},\"line\":{\"color\":\"white\"}},\"header\":{\"fill\":{\"color\":\"#C8D4E3\"},\"line\":{\"color\":\"white\"}},\"type\":\"table\"}]},\"layout\":{\"annotationdefaults\":{\"arrowcolor\":\"#2a3f5f\",\"arrowhead\":0,\"arrowwidth\":1},\"autotypenumbers\":\"strict\",\"coloraxis\":{\"colorbar\":{\"outlinewidth\":0,\"ticks\":\"\"}},\"colorscale\":{\"diverging\":[[0,\"#8e0152\"],[0.1,\"#c51b7d\"],[0.2,\"#de77ae\"],[0.3,\"#f1b6da\"],[0.4,\"#fde0ef\"],[0.5,\"#f7f7f7\"],[0.6,\"#e6f5d0\"],[0.7,\"#b8e186\"],[0.8,\"#7fbc41\"],[0.9,\"#4d9221\"],[1,\"#276419\"]],\"sequential\":[[0.0,\"#0d0887\"],[0.1111111111111111,\"#46039f\"],[0.2222222222222222,\"#7201a8\"],[0.3333333333333333,\"#9c179e\"],[0.4444444444444444,\"#bd3786\"],[0.5555555555555556,\"#d8576b\"],[0.6666666666666666,\"#ed7953\"],[0.7777777777777778,\"#fb9f3a\"],[0.8888888888888888,\"#fdca26\"],[1.0,\"#f0f921\"]],\"sequentialminus\":[[0.0,\"#0d0887\"],[0.1111111111111111,\"#46039f\"],[0.2222222222222222,\"#7201a8\"],[0.3333333333333333,\"#9c179e\"],[0.4444444444444444,\"#bd3786\"],[0.5555555555555556,\"#d8576b\"],[0.6666666666666666,\"#ed7953\"],[0.7777777777777778,\"#fb9f3a\"],[0.8888888888888888,\"#fdca26\"],[1.0,\"#f0f921\"]]},\"colorway\":[\"#636efa\",\"#EF553B\",\"#00cc96\",\"#ab63fa\",\"#FFA15A\",\"#19d3f3\",\"#FF6692\",\"#B6E880\",\"#FF97FF\",\"#FECB52\"],\"font\":{\"color\":\"#2a3f5f\"},\"geo\":{\"bgcolor\":\"white\",\"lakecolor\":\"white\",\"landcolor\":\"#E5ECF6\",\"showlakes\":true,\"showland\":true,\"subunitcolor\":\"white\"},\"hoverlabel\":{\"align\":\"left\"},\"hovermode\":\"closest\",\"mapbox\":{\"style\":\"light\"},\"paper_bgcolor\":\"white\",\"plot_bgcolor\":\"#E5ECF6\",\"polar\":{\"angularaxis\":{\"gridcolor\":\"white\",\"linecolor\":\"white\",\"ticks\":\"\"},\"bgcolor\":\"#E5ECF6\",\"radialaxis\":{\"gridcolor\":\"white\",\"linecolor\":\"white\",\"ticks\":\"\"}},\"scene\":{\"xaxis\":{\"backgroundcolor\":\"#E5ECF6\",\"gridcolor\":\"white\",\"gridwidth\":2,\"linecolor\":\"white\",\"showbackground\":true,\"ticks\":\"\",\"zerolinecolor\":\"white\"},\"yaxis\":{\"backgroundcolor\":\"#E5ECF6\",\"gridcolor\":\"white\",\"gridwidth\":2,\"linecolor\":\"white\",\"showbackground\":true,\"ticks\":\"\",\"zerolinecolor\":\"white\"},\"zaxis\":{\"backgroundcolor\":\"#E5ECF6\",\"gridcolor\":\"white\",\"gridwidth\":2,\"linecolor\":\"white\",\"showbackground\":true,\"ticks\":\"\",\"zerolinecolor\":\"white\"}},\"shapedefaults\":{\"line\":{\"color\":\"#2a3f5f\"}},\"ternary\":{\"aaxis\":{\"gridcolor\":\"white\",\"linecolor\":\"white\",\"ticks\":\"\"},\"baxis\":{\"gridcolor\":\"white\",\"linecolor\":\"white\",\"ticks\":\"\"},\"bgcolor\":\"#E5ECF6\",\"caxis\":{\"gridcolor\":\"white\",\"linecolor\":\"white\",\"ticks\":\"\"}},\"title\":{\"x\":0.05},\"xaxis\":{\"automargin\":true,\"gridcolor\":\"white\",\"linecolor\":\"white\",\"ticks\":\"\",\"title\":{\"standoff\":15},\"zerolinecolor\":\"white\",\"zerolinewidth\":2},\"yaxis\":{\"automargin\":true,\"gridcolor\":\"white\",\"linecolor\":\"white\",\"ticks\":\"\",\"title\":{\"standoff\":15},\"zerolinecolor\":\"white\",\"zerolinewidth\":2}}},\"title\":{\"text\":\"Box plot - Idade dos clientes\"},\"xaxis\":{\"anchor\":\"y\",\"domain\":[0.0,1.0],\"title\":{\"text\":\"\"}},\"yaxis\":{\"anchor\":\"x\",\"domain\":[0.0,1.0],\"title\":{\"text\":\"Idade\"}}},                        {\"responsive\": true}                    ).then(function(){\n",
       "                            \n",
       "var gd = document.getElementById('ea43f0cb-1b36-4f81-b609-4326e0bcaad6');\n",
       "var x = new MutationObserver(function (mutations, observer) {{\n",
       "        var display = window.getComputedStyle(gd).display;\n",
       "        if (!display || display === 'none') {{\n",
       "            console.log([gd, 'removed!']);\n",
       "            Plotly.purge(gd);\n",
       "            observer.disconnect();\n",
       "        }}\n",
       "}});\n",
       "\n",
       "// Listen for the removal of the full notebook cells\n",
       "var notebookContainer = gd.closest('#notebook-container');\n",
       "if (notebookContainer) {{\n",
       "    x.observe(notebookContainer, {childList: true});\n",
       "}}\n",
       "\n",
       "// Listen for the clearing of the current output cell\n",
       "var outputEl = gd.closest('.output');\n",
       "if (outputEl) {{\n",
       "    x.observe(outputEl, {childList: true});\n",
       "}}\n",
       "\n",
       "                        })                };                });            </script>        </div>"
      ]
     },
     "metadata": {},
     "output_type": "display_data"
    }
   ],
   "source": [
    "fig_box_plot_idade = px.box(tabela_cliente_gasto_idade, x=\"idade\", y=\"total_mes\", labels={\"total_mes\": \"Total gasto pelo cliente\", \"idade\": \"Idade\"} )\n",
    "fig_box_plot_idade.update_traces(marker = {'color': '#00CC96'})\n",
    "fig_box_plot_idade.update_layout(title = 'Box plot - Idade dos clientes')\n",
    "fig_box_plot_idade.update_xaxes(title = '')\n",
    "fig_box_plot_idade.update_yaxes(title = 'Idade')\n",
    "fig_box_plot_idade.show()"
   ]
  },
  {
   "cell_type": "code",
   "execution_count": 31,
   "id": "10489d5f",
   "metadata": {},
   "outputs": [
    {
     "name": "stdout",
     "output_type": "stream",
     "text": [
      "Correlação dos dados: 0.16164598170936034\n"
     ]
    }
   ],
   "source": [
    "# Calculando a correlação dos dados\n",
    "Correlação= tabela_cliente_gasto_idade['total_mes'].corr(tabela_cliente_gasto_idade['idade'])\n",
    "print(f\"Correlação dos dados:\", Correlação)"
   ]
  },
  {
   "cell_type": "code",
   "execution_count": 32,
   "id": "168d0d63",
   "metadata": {},
   "outputs": [
    {
     "data": {
      "application/vnd.plotly.v1+json": {
       "config": {
        "plotlyServerURL": "https://plot.ly"
       },
       "data": [
        {
         "alignmentgroup": "True",
         "hovertemplate": "Dia da semana=%{x}<br>Entrada total=%{y}<extra></extra>",
         "legendgroup": "",
         "marker": {
          "color": "#00CC96",
          "pattern": {
           "shape": ""
          }
         },
         "name": "",
         "offsetgroup": "",
         "orientation": "v",
         "showlegend": false,
         "textposition": "auto",
         "type": "bar",
         "x": [
          "Segunda-feira",
          "Terça-feira",
          "Quarta-feira",
          "Quinta-feira",
          "Sexta-feira",
          "Sábado",
          "Domingo"
         ],
         "xaxis": "x",
         "y": [
          15795.419999999913,
          10617.699999999972,
          18551.239999999932,
          13937.039999999954,
          21324.079999999958,
          13939.059999999952,
          24774.90999999996
         ],
         "yaxis": "y"
        }
       ],
       "layout": {
        "barmode": "stack",
        "legend": {
         "tracegroupgap": 0
        },
        "margin": {
         "t": 60
        },
        "template": {
         "data": {
          "bar": [
           {
            "error_x": {
             "color": "#2a3f5f"
            },
            "error_y": {
             "color": "#2a3f5f"
            },
            "marker": {
             "line": {
              "color": "#E5ECF6",
              "width": 0.5
             },
             "pattern": {
              "fillmode": "overlay",
              "size": 10,
              "solidity": 0.2
             }
            },
            "type": "bar"
           }
          ],
          "barpolar": [
           {
            "marker": {
             "line": {
              "color": "#E5ECF6",
              "width": 0.5
             },
             "pattern": {
              "fillmode": "overlay",
              "size": 10,
              "solidity": 0.2
             }
            },
            "type": "barpolar"
           }
          ],
          "carpet": [
           {
            "aaxis": {
             "endlinecolor": "#2a3f5f",
             "gridcolor": "white",
             "linecolor": "white",
             "minorgridcolor": "white",
             "startlinecolor": "#2a3f5f"
            },
            "baxis": {
             "endlinecolor": "#2a3f5f",
             "gridcolor": "white",
             "linecolor": "white",
             "minorgridcolor": "white",
             "startlinecolor": "#2a3f5f"
            },
            "type": "carpet"
           }
          ],
          "choropleth": [
           {
            "colorbar": {
             "outlinewidth": 0,
             "ticks": ""
            },
            "type": "choropleth"
           }
          ],
          "contour": [
           {
            "colorbar": {
             "outlinewidth": 0,
             "ticks": ""
            },
            "colorscale": [
             [
              0,
              "#0d0887"
             ],
             [
              0.1111111111111111,
              "#46039f"
             ],
             [
              0.2222222222222222,
              "#7201a8"
             ],
             [
              0.3333333333333333,
              "#9c179e"
             ],
             [
              0.4444444444444444,
              "#bd3786"
             ],
             [
              0.5555555555555556,
              "#d8576b"
             ],
             [
              0.6666666666666666,
              "#ed7953"
             ],
             [
              0.7777777777777778,
              "#fb9f3a"
             ],
             [
              0.8888888888888888,
              "#fdca26"
             ],
             [
              1,
              "#f0f921"
             ]
            ],
            "type": "contour"
           }
          ],
          "contourcarpet": [
           {
            "colorbar": {
             "outlinewidth": 0,
             "ticks": ""
            },
            "type": "contourcarpet"
           }
          ],
          "heatmap": [
           {
            "colorbar": {
             "outlinewidth": 0,
             "ticks": ""
            },
            "colorscale": [
             [
              0,
              "#0d0887"
             ],
             [
              0.1111111111111111,
              "#46039f"
             ],
             [
              0.2222222222222222,
              "#7201a8"
             ],
             [
              0.3333333333333333,
              "#9c179e"
             ],
             [
              0.4444444444444444,
              "#bd3786"
             ],
             [
              0.5555555555555556,
              "#d8576b"
             ],
             [
              0.6666666666666666,
              "#ed7953"
             ],
             [
              0.7777777777777778,
              "#fb9f3a"
             ],
             [
              0.8888888888888888,
              "#fdca26"
             ],
             [
              1,
              "#f0f921"
             ]
            ],
            "type": "heatmap"
           }
          ],
          "heatmapgl": [
           {
            "colorbar": {
             "outlinewidth": 0,
             "ticks": ""
            },
            "colorscale": [
             [
              0,
              "#0d0887"
             ],
             [
              0.1111111111111111,
              "#46039f"
             ],
             [
              0.2222222222222222,
              "#7201a8"
             ],
             [
              0.3333333333333333,
              "#9c179e"
             ],
             [
              0.4444444444444444,
              "#bd3786"
             ],
             [
              0.5555555555555556,
              "#d8576b"
             ],
             [
              0.6666666666666666,
              "#ed7953"
             ],
             [
              0.7777777777777778,
              "#fb9f3a"
             ],
             [
              0.8888888888888888,
              "#fdca26"
             ],
             [
              1,
              "#f0f921"
             ]
            ],
            "type": "heatmapgl"
           }
          ],
          "histogram": [
           {
            "marker": {
             "pattern": {
              "fillmode": "overlay",
              "size": 10,
              "solidity": 0.2
             }
            },
            "type": "histogram"
           }
          ],
          "histogram2d": [
           {
            "colorbar": {
             "outlinewidth": 0,
             "ticks": ""
            },
            "colorscale": [
             [
              0,
              "#0d0887"
             ],
             [
              0.1111111111111111,
              "#46039f"
             ],
             [
              0.2222222222222222,
              "#7201a8"
             ],
             [
              0.3333333333333333,
              "#9c179e"
             ],
             [
              0.4444444444444444,
              "#bd3786"
             ],
             [
              0.5555555555555556,
              "#d8576b"
             ],
             [
              0.6666666666666666,
              "#ed7953"
             ],
             [
              0.7777777777777778,
              "#fb9f3a"
             ],
             [
              0.8888888888888888,
              "#fdca26"
             ],
             [
              1,
              "#f0f921"
             ]
            ],
            "type": "histogram2d"
           }
          ],
          "histogram2dcontour": [
           {
            "colorbar": {
             "outlinewidth": 0,
             "ticks": ""
            },
            "colorscale": [
             [
              0,
              "#0d0887"
             ],
             [
              0.1111111111111111,
              "#46039f"
             ],
             [
              0.2222222222222222,
              "#7201a8"
             ],
             [
              0.3333333333333333,
              "#9c179e"
             ],
             [
              0.4444444444444444,
              "#bd3786"
             ],
             [
              0.5555555555555556,
              "#d8576b"
             ],
             [
              0.6666666666666666,
              "#ed7953"
             ],
             [
              0.7777777777777778,
              "#fb9f3a"
             ],
             [
              0.8888888888888888,
              "#fdca26"
             ],
             [
              1,
              "#f0f921"
             ]
            ],
            "type": "histogram2dcontour"
           }
          ],
          "mesh3d": [
           {
            "colorbar": {
             "outlinewidth": 0,
             "ticks": ""
            },
            "type": "mesh3d"
           }
          ],
          "parcoords": [
           {
            "line": {
             "colorbar": {
              "outlinewidth": 0,
              "ticks": ""
             }
            },
            "type": "parcoords"
           }
          ],
          "pie": [
           {
            "automargin": true,
            "type": "pie"
           }
          ],
          "scatter": [
           {
            "marker": {
             "colorbar": {
              "outlinewidth": 0,
              "ticks": ""
             }
            },
            "type": "scatter"
           }
          ],
          "scatter3d": [
           {
            "line": {
             "colorbar": {
              "outlinewidth": 0,
              "ticks": ""
             }
            },
            "marker": {
             "colorbar": {
              "outlinewidth": 0,
              "ticks": ""
             }
            },
            "type": "scatter3d"
           }
          ],
          "scattercarpet": [
           {
            "marker": {
             "colorbar": {
              "outlinewidth": 0,
              "ticks": ""
             }
            },
            "type": "scattercarpet"
           }
          ],
          "scattergeo": [
           {
            "marker": {
             "colorbar": {
              "outlinewidth": 0,
              "ticks": ""
             }
            },
            "type": "scattergeo"
           }
          ],
          "scattergl": [
           {
            "marker": {
             "colorbar": {
              "outlinewidth": 0,
              "ticks": ""
             }
            },
            "type": "scattergl"
           }
          ],
          "scattermapbox": [
           {
            "marker": {
             "colorbar": {
              "outlinewidth": 0,
              "ticks": ""
             }
            },
            "type": "scattermapbox"
           }
          ],
          "scatterpolar": [
           {
            "marker": {
             "colorbar": {
              "outlinewidth": 0,
              "ticks": ""
             }
            },
            "type": "scatterpolar"
           }
          ],
          "scatterpolargl": [
           {
            "marker": {
             "colorbar": {
              "outlinewidth": 0,
              "ticks": ""
             }
            },
            "type": "scatterpolargl"
           }
          ],
          "scatterternary": [
           {
            "marker": {
             "colorbar": {
              "outlinewidth": 0,
              "ticks": ""
             }
            },
            "type": "scatterternary"
           }
          ],
          "surface": [
           {
            "colorbar": {
             "outlinewidth": 0,
             "ticks": ""
            },
            "colorscale": [
             [
              0,
              "#0d0887"
             ],
             [
              0.1111111111111111,
              "#46039f"
             ],
             [
              0.2222222222222222,
              "#7201a8"
             ],
             [
              0.3333333333333333,
              "#9c179e"
             ],
             [
              0.4444444444444444,
              "#bd3786"
             ],
             [
              0.5555555555555556,
              "#d8576b"
             ],
             [
              0.6666666666666666,
              "#ed7953"
             ],
             [
              0.7777777777777778,
              "#fb9f3a"
             ],
             [
              0.8888888888888888,
              "#fdca26"
             ],
             [
              1,
              "#f0f921"
             ]
            ],
            "type": "surface"
           }
          ],
          "table": [
           {
            "cells": {
             "fill": {
              "color": "#EBF0F8"
             },
             "line": {
              "color": "white"
             }
            },
            "header": {
             "fill": {
              "color": "#C8D4E3"
             },
             "line": {
              "color": "white"
             }
            },
            "type": "table"
           }
          ]
         },
         "layout": {
          "annotationdefaults": {
           "arrowcolor": "#2a3f5f",
           "arrowhead": 0,
           "arrowwidth": 1
          },
          "autotypenumbers": "strict",
          "coloraxis": {
           "colorbar": {
            "outlinewidth": 0,
            "ticks": ""
           }
          },
          "colorscale": {
           "diverging": [
            [
             0,
             "#8e0152"
            ],
            [
             0.1,
             "#c51b7d"
            ],
            [
             0.2,
             "#de77ae"
            ],
            [
             0.3,
             "#f1b6da"
            ],
            [
             0.4,
             "#fde0ef"
            ],
            [
             0.5,
             "#f7f7f7"
            ],
            [
             0.6,
             "#e6f5d0"
            ],
            [
             0.7,
             "#b8e186"
            ],
            [
             0.8,
             "#7fbc41"
            ],
            [
             0.9,
             "#4d9221"
            ],
            [
             1,
             "#276419"
            ]
           ],
           "sequential": [
            [
             0,
             "#0d0887"
            ],
            [
             0.1111111111111111,
             "#46039f"
            ],
            [
             0.2222222222222222,
             "#7201a8"
            ],
            [
             0.3333333333333333,
             "#9c179e"
            ],
            [
             0.4444444444444444,
             "#bd3786"
            ],
            [
             0.5555555555555556,
             "#d8576b"
            ],
            [
             0.6666666666666666,
             "#ed7953"
            ],
            [
             0.7777777777777778,
             "#fb9f3a"
            ],
            [
             0.8888888888888888,
             "#fdca26"
            ],
            [
             1,
             "#f0f921"
            ]
           ],
           "sequentialminus": [
            [
             0,
             "#0d0887"
            ],
            [
             0.1111111111111111,
             "#46039f"
            ],
            [
             0.2222222222222222,
             "#7201a8"
            ],
            [
             0.3333333333333333,
             "#9c179e"
            ],
            [
             0.4444444444444444,
             "#bd3786"
            ],
            [
             0.5555555555555556,
             "#d8576b"
            ],
            [
             0.6666666666666666,
             "#ed7953"
            ],
            [
             0.7777777777777778,
             "#fb9f3a"
            ],
            [
             0.8888888888888888,
             "#fdca26"
            ],
            [
             1,
             "#f0f921"
            ]
           ]
          },
          "colorway": [
           "#636efa",
           "#EF553B",
           "#00cc96",
           "#ab63fa",
           "#FFA15A",
           "#19d3f3",
           "#FF6692",
           "#B6E880",
           "#FF97FF",
           "#FECB52"
          ],
          "font": {
           "color": "#2a3f5f"
          },
          "geo": {
           "bgcolor": "white",
           "lakecolor": "white",
           "landcolor": "#E5ECF6",
           "showlakes": true,
           "showland": true,
           "subunitcolor": "white"
          },
          "hoverlabel": {
           "align": "left"
          },
          "hovermode": "closest",
          "mapbox": {
           "style": "light"
          },
          "paper_bgcolor": "white",
          "plot_bgcolor": "#E5ECF6",
          "polar": {
           "angularaxis": {
            "gridcolor": "white",
            "linecolor": "white",
            "ticks": ""
           },
           "bgcolor": "#E5ECF6",
           "radialaxis": {
            "gridcolor": "white",
            "linecolor": "white",
            "ticks": ""
           }
          },
          "scene": {
           "xaxis": {
            "backgroundcolor": "#E5ECF6",
            "gridcolor": "white",
            "gridwidth": 2,
            "linecolor": "white",
            "showbackground": true,
            "ticks": "",
            "zerolinecolor": "white"
           },
           "yaxis": {
            "backgroundcolor": "#E5ECF6",
            "gridcolor": "white",
            "gridwidth": 2,
            "linecolor": "white",
            "showbackground": true,
            "ticks": "",
            "zerolinecolor": "white"
           },
           "zaxis": {
            "backgroundcolor": "#E5ECF6",
            "gridcolor": "white",
            "gridwidth": 2,
            "linecolor": "white",
            "showbackground": true,
            "ticks": "",
            "zerolinecolor": "white"
           }
          },
          "shapedefaults": {
           "line": {
            "color": "#2a3f5f"
           }
          },
          "ternary": {
           "aaxis": {
            "gridcolor": "white",
            "linecolor": "white",
            "ticks": ""
           },
           "baxis": {
            "gridcolor": "white",
            "linecolor": "white",
            "ticks": ""
           },
           "bgcolor": "#E5ECF6",
           "caxis": {
            "gridcolor": "white",
            "linecolor": "white",
            "ticks": ""
           }
          },
          "title": {
           "x": 0.05
          },
          "xaxis": {
           "automargin": true,
           "gridcolor": "white",
           "linecolor": "white",
           "ticks": "",
           "title": {
            "standoff": 15
           },
           "zerolinecolor": "white",
           "zerolinewidth": 2
          },
          "yaxis": {
           "automargin": true,
           "gridcolor": "white",
           "linecolor": "white",
           "ticks": "",
           "title": {
            "standoff": 15
           },
           "zerolinecolor": "white",
           "zerolinewidth": 2
          }
         }
        },
        "title": {
         "text": "Entrada total por dia da semana no mês de novembro"
        },
        "xaxis": {
         "anchor": "y",
         "domain": [
          0,
          1
         ],
         "title": {
          "text": "Dia da semana"
         }
        },
        "yaxis": {
         "anchor": "x",
         "domain": [
          0,
          1
         ],
         "title": {
          "text": "Entrada"
         }
        }
       }
      },
      "text/html": [
       "<div>                            <div id=\"167023e4-b6f8-4d6d-b880-77ac9cf9147c\" class=\"plotly-graph-div\" style=\"height:525px; width:100%;\"></div>            <script type=\"text/javascript\">                require([\"plotly\"], function(Plotly) {                    window.PLOTLYENV=window.PLOTLYENV || {};                                    if (document.getElementById(\"167023e4-b6f8-4d6d-b880-77ac9cf9147c\")) {                    Plotly.newPlot(                        \"167023e4-b6f8-4d6d-b880-77ac9cf9147c\",                        [{\"alignmentgroup\":\"True\",\"hovertemplate\":\"Dia da semana=%{x}<br>Entrada total=%{y}<extra></extra>\",\"legendgroup\":\"\",\"marker\":{\"color\":\"#00CC96\",\"pattern\":{\"shape\":\"\"}},\"name\":\"\",\"offsetgroup\":\"\",\"orientation\":\"v\",\"showlegend\":false,\"textposition\":\"auto\",\"type\":\"bar\",\"x\":[\"Segunda-feira\",\"Ter\\u00e7a-feira\",\"Quarta-feira\",\"Quinta-feira\",\"Sexta-feira\",\"S\\u00e1bado\",\"Domingo\"],\"xaxis\":\"x\",\"y\":[15795.419999999913,10617.699999999972,18551.239999999932,13937.039999999954,21324.079999999958,13939.059999999952,24774.90999999996],\"yaxis\":\"y\"}],                        {\"barmode\":\"stack\",\"legend\":{\"tracegroupgap\":0},\"margin\":{\"t\":60},\"template\":{\"data\":{\"bar\":[{\"error_x\":{\"color\":\"#2a3f5f\"},\"error_y\":{\"color\":\"#2a3f5f\"},\"marker\":{\"line\":{\"color\":\"#E5ECF6\",\"width\":0.5},\"pattern\":{\"fillmode\":\"overlay\",\"size\":10,\"solidity\":0.2}},\"type\":\"bar\"}],\"barpolar\":[{\"marker\":{\"line\":{\"color\":\"#E5ECF6\",\"width\":0.5},\"pattern\":{\"fillmode\":\"overlay\",\"size\":10,\"solidity\":0.2}},\"type\":\"barpolar\"}],\"carpet\":[{\"aaxis\":{\"endlinecolor\":\"#2a3f5f\",\"gridcolor\":\"white\",\"linecolor\":\"white\",\"minorgridcolor\":\"white\",\"startlinecolor\":\"#2a3f5f\"},\"baxis\":{\"endlinecolor\":\"#2a3f5f\",\"gridcolor\":\"white\",\"linecolor\":\"white\",\"minorgridcolor\":\"white\",\"startlinecolor\":\"#2a3f5f\"},\"type\":\"carpet\"}],\"choropleth\":[{\"colorbar\":{\"outlinewidth\":0,\"ticks\":\"\"},\"type\":\"choropleth\"}],\"contour\":[{\"colorbar\":{\"outlinewidth\":0,\"ticks\":\"\"},\"colorscale\":[[0.0,\"#0d0887\"],[0.1111111111111111,\"#46039f\"],[0.2222222222222222,\"#7201a8\"],[0.3333333333333333,\"#9c179e\"],[0.4444444444444444,\"#bd3786\"],[0.5555555555555556,\"#d8576b\"],[0.6666666666666666,\"#ed7953\"],[0.7777777777777778,\"#fb9f3a\"],[0.8888888888888888,\"#fdca26\"],[1.0,\"#f0f921\"]],\"type\":\"contour\"}],\"contourcarpet\":[{\"colorbar\":{\"outlinewidth\":0,\"ticks\":\"\"},\"type\":\"contourcarpet\"}],\"heatmap\":[{\"colorbar\":{\"outlinewidth\":0,\"ticks\":\"\"},\"colorscale\":[[0.0,\"#0d0887\"],[0.1111111111111111,\"#46039f\"],[0.2222222222222222,\"#7201a8\"],[0.3333333333333333,\"#9c179e\"],[0.4444444444444444,\"#bd3786\"],[0.5555555555555556,\"#d8576b\"],[0.6666666666666666,\"#ed7953\"],[0.7777777777777778,\"#fb9f3a\"],[0.8888888888888888,\"#fdca26\"],[1.0,\"#f0f921\"]],\"type\":\"heatmap\"}],\"heatmapgl\":[{\"colorbar\":{\"outlinewidth\":0,\"ticks\":\"\"},\"colorscale\":[[0.0,\"#0d0887\"],[0.1111111111111111,\"#46039f\"],[0.2222222222222222,\"#7201a8\"],[0.3333333333333333,\"#9c179e\"],[0.4444444444444444,\"#bd3786\"],[0.5555555555555556,\"#d8576b\"],[0.6666666666666666,\"#ed7953\"],[0.7777777777777778,\"#fb9f3a\"],[0.8888888888888888,\"#fdca26\"],[1.0,\"#f0f921\"]],\"type\":\"heatmapgl\"}],\"histogram\":[{\"marker\":{\"pattern\":{\"fillmode\":\"overlay\",\"size\":10,\"solidity\":0.2}},\"type\":\"histogram\"}],\"histogram2d\":[{\"colorbar\":{\"outlinewidth\":0,\"ticks\":\"\"},\"colorscale\":[[0.0,\"#0d0887\"],[0.1111111111111111,\"#46039f\"],[0.2222222222222222,\"#7201a8\"],[0.3333333333333333,\"#9c179e\"],[0.4444444444444444,\"#bd3786\"],[0.5555555555555556,\"#d8576b\"],[0.6666666666666666,\"#ed7953\"],[0.7777777777777778,\"#fb9f3a\"],[0.8888888888888888,\"#fdca26\"],[1.0,\"#f0f921\"]],\"type\":\"histogram2d\"}],\"histogram2dcontour\":[{\"colorbar\":{\"outlinewidth\":0,\"ticks\":\"\"},\"colorscale\":[[0.0,\"#0d0887\"],[0.1111111111111111,\"#46039f\"],[0.2222222222222222,\"#7201a8\"],[0.3333333333333333,\"#9c179e\"],[0.4444444444444444,\"#bd3786\"],[0.5555555555555556,\"#d8576b\"],[0.6666666666666666,\"#ed7953\"],[0.7777777777777778,\"#fb9f3a\"],[0.8888888888888888,\"#fdca26\"],[1.0,\"#f0f921\"]],\"type\":\"histogram2dcontour\"}],\"mesh3d\":[{\"colorbar\":{\"outlinewidth\":0,\"ticks\":\"\"},\"type\":\"mesh3d\"}],\"parcoords\":[{\"line\":{\"colorbar\":{\"outlinewidth\":0,\"ticks\":\"\"}},\"type\":\"parcoords\"}],\"pie\":[{\"automargin\":true,\"type\":\"pie\"}],\"scatter\":[{\"marker\":{\"colorbar\":{\"outlinewidth\":0,\"ticks\":\"\"}},\"type\":\"scatter\"}],\"scatter3d\":[{\"line\":{\"colorbar\":{\"outlinewidth\":0,\"ticks\":\"\"}},\"marker\":{\"colorbar\":{\"outlinewidth\":0,\"ticks\":\"\"}},\"type\":\"scatter3d\"}],\"scattercarpet\":[{\"marker\":{\"colorbar\":{\"outlinewidth\":0,\"ticks\":\"\"}},\"type\":\"scattercarpet\"}],\"scattergeo\":[{\"marker\":{\"colorbar\":{\"outlinewidth\":0,\"ticks\":\"\"}},\"type\":\"scattergeo\"}],\"scattergl\":[{\"marker\":{\"colorbar\":{\"outlinewidth\":0,\"ticks\":\"\"}},\"type\":\"scattergl\"}],\"scattermapbox\":[{\"marker\":{\"colorbar\":{\"outlinewidth\":0,\"ticks\":\"\"}},\"type\":\"scattermapbox\"}],\"scatterpolar\":[{\"marker\":{\"colorbar\":{\"outlinewidth\":0,\"ticks\":\"\"}},\"type\":\"scatterpolar\"}],\"scatterpolargl\":[{\"marker\":{\"colorbar\":{\"outlinewidth\":0,\"ticks\":\"\"}},\"type\":\"scatterpolargl\"}],\"scatterternary\":[{\"marker\":{\"colorbar\":{\"outlinewidth\":0,\"ticks\":\"\"}},\"type\":\"scatterternary\"}],\"surface\":[{\"colorbar\":{\"outlinewidth\":0,\"ticks\":\"\"},\"colorscale\":[[0.0,\"#0d0887\"],[0.1111111111111111,\"#46039f\"],[0.2222222222222222,\"#7201a8\"],[0.3333333333333333,\"#9c179e\"],[0.4444444444444444,\"#bd3786\"],[0.5555555555555556,\"#d8576b\"],[0.6666666666666666,\"#ed7953\"],[0.7777777777777778,\"#fb9f3a\"],[0.8888888888888888,\"#fdca26\"],[1.0,\"#f0f921\"]],\"type\":\"surface\"}],\"table\":[{\"cells\":{\"fill\":{\"color\":\"#EBF0F8\"},\"line\":{\"color\":\"white\"}},\"header\":{\"fill\":{\"color\":\"#C8D4E3\"},\"line\":{\"color\":\"white\"}},\"type\":\"table\"}]},\"layout\":{\"annotationdefaults\":{\"arrowcolor\":\"#2a3f5f\",\"arrowhead\":0,\"arrowwidth\":1},\"autotypenumbers\":\"strict\",\"coloraxis\":{\"colorbar\":{\"outlinewidth\":0,\"ticks\":\"\"}},\"colorscale\":{\"diverging\":[[0,\"#8e0152\"],[0.1,\"#c51b7d\"],[0.2,\"#de77ae\"],[0.3,\"#f1b6da\"],[0.4,\"#fde0ef\"],[0.5,\"#f7f7f7\"],[0.6,\"#e6f5d0\"],[0.7,\"#b8e186\"],[0.8,\"#7fbc41\"],[0.9,\"#4d9221\"],[1,\"#276419\"]],\"sequential\":[[0.0,\"#0d0887\"],[0.1111111111111111,\"#46039f\"],[0.2222222222222222,\"#7201a8\"],[0.3333333333333333,\"#9c179e\"],[0.4444444444444444,\"#bd3786\"],[0.5555555555555556,\"#d8576b\"],[0.6666666666666666,\"#ed7953\"],[0.7777777777777778,\"#fb9f3a\"],[0.8888888888888888,\"#fdca26\"],[1.0,\"#f0f921\"]],\"sequentialminus\":[[0.0,\"#0d0887\"],[0.1111111111111111,\"#46039f\"],[0.2222222222222222,\"#7201a8\"],[0.3333333333333333,\"#9c179e\"],[0.4444444444444444,\"#bd3786\"],[0.5555555555555556,\"#d8576b\"],[0.6666666666666666,\"#ed7953\"],[0.7777777777777778,\"#fb9f3a\"],[0.8888888888888888,\"#fdca26\"],[1.0,\"#f0f921\"]]},\"colorway\":[\"#636efa\",\"#EF553B\",\"#00cc96\",\"#ab63fa\",\"#FFA15A\",\"#19d3f3\",\"#FF6692\",\"#B6E880\",\"#FF97FF\",\"#FECB52\"],\"font\":{\"color\":\"#2a3f5f\"},\"geo\":{\"bgcolor\":\"white\",\"lakecolor\":\"white\",\"landcolor\":\"#E5ECF6\",\"showlakes\":true,\"showland\":true,\"subunitcolor\":\"white\"},\"hoverlabel\":{\"align\":\"left\"},\"hovermode\":\"closest\",\"mapbox\":{\"style\":\"light\"},\"paper_bgcolor\":\"white\",\"plot_bgcolor\":\"#E5ECF6\",\"polar\":{\"angularaxis\":{\"gridcolor\":\"white\",\"linecolor\":\"white\",\"ticks\":\"\"},\"bgcolor\":\"#E5ECF6\",\"radialaxis\":{\"gridcolor\":\"white\",\"linecolor\":\"white\",\"ticks\":\"\"}},\"scene\":{\"xaxis\":{\"backgroundcolor\":\"#E5ECF6\",\"gridcolor\":\"white\",\"gridwidth\":2,\"linecolor\":\"white\",\"showbackground\":true,\"ticks\":\"\",\"zerolinecolor\":\"white\"},\"yaxis\":{\"backgroundcolor\":\"#E5ECF6\",\"gridcolor\":\"white\",\"gridwidth\":2,\"linecolor\":\"white\",\"showbackground\":true,\"ticks\":\"\",\"zerolinecolor\":\"white\"},\"zaxis\":{\"backgroundcolor\":\"#E5ECF6\",\"gridcolor\":\"white\",\"gridwidth\":2,\"linecolor\":\"white\",\"showbackground\":true,\"ticks\":\"\",\"zerolinecolor\":\"white\"}},\"shapedefaults\":{\"line\":{\"color\":\"#2a3f5f\"}},\"ternary\":{\"aaxis\":{\"gridcolor\":\"white\",\"linecolor\":\"white\",\"ticks\":\"\"},\"baxis\":{\"gridcolor\":\"white\",\"linecolor\":\"white\",\"ticks\":\"\"},\"bgcolor\":\"#E5ECF6\",\"caxis\":{\"gridcolor\":\"white\",\"linecolor\":\"white\",\"ticks\":\"\"}},\"title\":{\"x\":0.05},\"xaxis\":{\"automargin\":true,\"gridcolor\":\"white\",\"linecolor\":\"white\",\"ticks\":\"\",\"title\":{\"standoff\":15},\"zerolinecolor\":\"white\",\"zerolinewidth\":2},\"yaxis\":{\"automargin\":true,\"gridcolor\":\"white\",\"linecolor\":\"white\",\"ticks\":\"\",\"title\":{\"standoff\":15},\"zerolinecolor\":\"white\",\"zerolinewidth\":2}}},\"title\":{\"text\":\"Entrada total por dia da semana no m\\u00eas de novembro\"},\"xaxis\":{\"anchor\":\"y\",\"domain\":[0.0,1.0],\"title\":{\"text\":\"Dia da semana\"}},\"yaxis\":{\"anchor\":\"x\",\"domain\":[0.0,1.0],\"title\":{\"text\":\"Entrada\"}}},                        {\"responsive\": true}                    ).then(function(){\n",
       "                            \n",
       "var gd = document.getElementById('167023e4-b6f8-4d6d-b880-77ac9cf9147c');\n",
       "var x = new MutationObserver(function (mutations, observer) {{\n",
       "        var display = window.getComputedStyle(gd).display;\n",
       "        if (!display || display === 'none') {{\n",
       "            console.log([gd, 'removed!']);\n",
       "            Plotly.purge(gd);\n",
       "            observer.disconnect();\n",
       "        }}\n",
       "}});\n",
       "\n",
       "// Listen for the removal of the full notebook cells\n",
       "var notebookContainer = gd.closest('#notebook-container');\n",
       "if (notebookContainer) {{\n",
       "    x.observe(notebookContainer, {childList: true});\n",
       "}}\n",
       "\n",
       "// Listen for the clearing of the current output cell\n",
       "var outputEl = gd.closest('.output');\n",
       "if (outputEl) {{\n",
       "    x.observe(outputEl, {childList: true});\n",
       "}}\n",
       "\n",
       "                        })                };                });            </script>        </div>"
      ]
     },
     "metadata": {},
     "output_type": "display_data"
    }
   ],
   "source": [
    "import datetime\n",
    "\n",
    "venda_produtos_cliente['data'] = pd.to_datetime(venda_produtos_cliente['data'])\n",
    "venda_produtos_cliente['dia_sem'] = venda_produtos_cliente['data'].dt.weekday\n",
    "entrada_bruta_sem = venda_produtos_cliente.groupby(['dia_sem']).sum().sort_values('dia_sem').reset_index()\n",
    "\n",
    "entrada_bruta_sem[\"dia_sem\"].replace({0:\"Segunda-feira\", 1: \"Terça-feira\", 2: \"Quarta-feira\", 3: \"Quinta-feira\", 4: \"Sexta-feira\", 5: \"Sábado\", 6: \"Domingo\"}, inplace=True)\n",
    "\n",
    "#Plotando Gráfico\n",
    "fig = px.bar(entrada_bruta_sem,\n",
    "             x='dia_sem', y=\"total_preco\",\n",
    "             labels={\"dia_sem\": \"Dia da semana\", \"total_preco\": \"Entrada total\"},\n",
    "             barmode='stack')\n",
    "fig.update_traces(marker = {'color': '#00CC96'})\n",
    "fig.update_layout(title = 'Entrada total por dia da semana no mês de novembro')\n",
    "fig.update_xaxes(title = 'Dia da semana')\n",
    "fig.update_yaxes(title = 'Entrada')\n",
    "fig.show()"
   ]
  },
  {
   "cell_type": "code",
   "execution_count": 33,
   "id": "5b72ac3d",
   "metadata": {},
   "outputs": [
    {
     "data": {
      "application/vnd.plotly.v1+json": {
       "config": {
        "plotlyServerURL": "https://plot.ly"
       },
       "data": [
        {
         "hovertemplate": "Linhas=Renda bruta total<br>date=%{x}<br>Valor/ Valor Máximo (%)=%{y}<extra></extra>",
         "legendgroup": "Renda bruta total",
         "line": {
          "color": "#636efa",
          "dash": "solid"
         },
         "marker": {
          "symbol": "circle"
         },
         "mode": "lines",
         "name": "Renda bruta total",
         "orientation": "v",
         "showlegend": true,
         "type": "scatter",
         "x": [
          "2021-11-01T00:00:00",
          "2021-11-02T00:00:00",
          "2021-11-03T00:00:00",
          "2021-11-04T00:00:00",
          "2021-11-05T00:00:00",
          "2021-11-06T00:00:00",
          "2021-11-07T00:00:00",
          "2021-11-08T00:00:00",
          "2021-11-09T00:00:00",
          "2021-11-10T00:00:00",
          "2021-11-11T00:00:00",
          "2021-11-12T00:00:00",
          "2021-11-13T00:00:00",
          "2021-11-14T00:00:00",
          "2021-11-15T00:00:00",
          "2021-11-16T00:00:00",
          "2021-11-17T00:00:00",
          "2021-11-18T00:00:00",
          "2021-11-19T00:00:00",
          "2021-11-20T00:00:00",
          "2021-11-21T00:00:00",
          "2021-11-22T00:00:00",
          "2021-11-23T00:00:00",
          "2021-11-24T00:00:00",
          "2021-11-25T00:00:00",
          "2021-11-26T00:00:00",
          "2021-11-27T00:00:00",
          "2021-11-28T00:00:00",
          "2021-11-29T00:00:00",
          "2021-11-30T00:00:00"
         ],
         "xaxis": "x",
         "y": [
          0.524215124261543,
          0.19504637119570503,
          0.673692837267667,
          0.3653773074016241,
          0.6442080850553753,
          0.6542568069038645,
          0.9467026675020772,
          0.5853159438869864,
          0.4463987404241724,
          0.8174601217918697,
          0.6734777504125342,
          0.9558680879968787,
          0.3134019514243774,
          1,
          0.02366380479295134,
          0.04684982771797961,
          0.04985679296147409,
          0.0746844471800245,
          0.14915635794193377,
          0.09874101927365281,
          0.09622883881153063,
          0.08724449934496302,
          0.12792822050058314,
          0.0361158884574873,
          0.07131191929737181,
          0.06362490212697963,
          0.11862337611549771,
          0.0632967458974097,
          0.12240142348391432,
          0.08643601081045263
         ],
         "yaxis": "y"
        },
        {
         "hovertemplate": "Linhas=Quantidade de produtos vendidos<br>date=%{x}<br>Valor/ Valor Máximo (%)=%{y}<extra></extra>",
         "legendgroup": "Quantidade de produtos vendidos",
         "line": {
          "color": "#EF553B",
          "dash": "solid"
         },
         "marker": {
          "symbol": "circle"
         },
         "mode": "lines",
         "name": "Quantidade de produtos vendidos",
         "orientation": "v",
         "showlegend": true,
         "type": "scatter",
         "x": [
          "2021-11-01T00:00:00",
          "2021-11-02T00:00:00",
          "2021-11-03T00:00:00",
          "2021-11-04T00:00:00",
          "2021-11-05T00:00:00",
          "2021-11-06T00:00:00",
          "2021-11-07T00:00:00",
          "2021-11-08T00:00:00",
          "2021-11-09T00:00:00",
          "2021-11-10T00:00:00",
          "2021-11-11T00:00:00",
          "2021-11-12T00:00:00",
          "2021-11-13T00:00:00",
          "2021-11-14T00:00:00",
          "2021-11-15T00:00:00",
          "2021-11-16T00:00:00",
          "2021-11-17T00:00:00",
          "2021-11-18T00:00:00",
          "2021-11-19T00:00:00",
          "2021-11-20T00:00:00",
          "2021-11-21T00:00:00",
          "2021-11-22T00:00:00",
          "2021-11-23T00:00:00",
          "2021-11-24T00:00:00",
          "2021-11-25T00:00:00",
          "2021-11-26T00:00:00",
          "2021-11-27T00:00:00",
          "2021-11-28T00:00:00",
          "2021-11-29T00:00:00",
          "2021-11-30T00:00:00"
         ],
         "xaxis": "x",
         "y": [
          0.5575539568345323,
          0.28776978417266186,
          0.6672661870503597,
          0.44064748201438847,
          0.7428057553956835,
          0.762589928057554,
          0.9586330935251799,
          0.7464028776978417,
          0.6330935251798561,
          0.89568345323741,
          0.8830935251798561,
          0.8471223021582733,
          0.5251798561151079,
          1,
          0.07194244604316546,
          0.05935251798561151,
          0.0539568345323741,
          0.09172661870503597,
          0.06654676258992806,
          0.08273381294964029,
          0.09892086330935251,
          0.13129496402877697,
          0.08812949640287769,
          0.048561151079136694,
          0.09352517985611511,
          0.06654676258992806,
          0.08992805755395683,
          0.1366906474820144,
          0.08633093525179857,
          0.12589928057553956
         ],
         "yaxis": "y"
        }
       ],
       "layout": {
        "legend": {
         "title": {
          "text": "Linhas"
         },
         "tracegroupgap": 0
        },
        "template": {
         "data": {
          "bar": [
           {
            "error_x": {
             "color": "#2a3f5f"
            },
            "error_y": {
             "color": "#2a3f5f"
            },
            "marker": {
             "line": {
              "color": "#E5ECF6",
              "width": 0.5
             },
             "pattern": {
              "fillmode": "overlay",
              "size": 10,
              "solidity": 0.2
             }
            },
            "type": "bar"
           }
          ],
          "barpolar": [
           {
            "marker": {
             "line": {
              "color": "#E5ECF6",
              "width": 0.5
             },
             "pattern": {
              "fillmode": "overlay",
              "size": 10,
              "solidity": 0.2
             }
            },
            "type": "barpolar"
           }
          ],
          "carpet": [
           {
            "aaxis": {
             "endlinecolor": "#2a3f5f",
             "gridcolor": "white",
             "linecolor": "white",
             "minorgridcolor": "white",
             "startlinecolor": "#2a3f5f"
            },
            "baxis": {
             "endlinecolor": "#2a3f5f",
             "gridcolor": "white",
             "linecolor": "white",
             "minorgridcolor": "white",
             "startlinecolor": "#2a3f5f"
            },
            "type": "carpet"
           }
          ],
          "choropleth": [
           {
            "colorbar": {
             "outlinewidth": 0,
             "ticks": ""
            },
            "type": "choropleth"
           }
          ],
          "contour": [
           {
            "colorbar": {
             "outlinewidth": 0,
             "ticks": ""
            },
            "colorscale": [
             [
              0,
              "#0d0887"
             ],
             [
              0.1111111111111111,
              "#46039f"
             ],
             [
              0.2222222222222222,
              "#7201a8"
             ],
             [
              0.3333333333333333,
              "#9c179e"
             ],
             [
              0.4444444444444444,
              "#bd3786"
             ],
             [
              0.5555555555555556,
              "#d8576b"
             ],
             [
              0.6666666666666666,
              "#ed7953"
             ],
             [
              0.7777777777777778,
              "#fb9f3a"
             ],
             [
              0.8888888888888888,
              "#fdca26"
             ],
             [
              1,
              "#f0f921"
             ]
            ],
            "type": "contour"
           }
          ],
          "contourcarpet": [
           {
            "colorbar": {
             "outlinewidth": 0,
             "ticks": ""
            },
            "type": "contourcarpet"
           }
          ],
          "heatmap": [
           {
            "colorbar": {
             "outlinewidth": 0,
             "ticks": ""
            },
            "colorscale": [
             [
              0,
              "#0d0887"
             ],
             [
              0.1111111111111111,
              "#46039f"
             ],
             [
              0.2222222222222222,
              "#7201a8"
             ],
             [
              0.3333333333333333,
              "#9c179e"
             ],
             [
              0.4444444444444444,
              "#bd3786"
             ],
             [
              0.5555555555555556,
              "#d8576b"
             ],
             [
              0.6666666666666666,
              "#ed7953"
             ],
             [
              0.7777777777777778,
              "#fb9f3a"
             ],
             [
              0.8888888888888888,
              "#fdca26"
             ],
             [
              1,
              "#f0f921"
             ]
            ],
            "type": "heatmap"
           }
          ],
          "heatmapgl": [
           {
            "colorbar": {
             "outlinewidth": 0,
             "ticks": ""
            },
            "colorscale": [
             [
              0,
              "#0d0887"
             ],
             [
              0.1111111111111111,
              "#46039f"
             ],
             [
              0.2222222222222222,
              "#7201a8"
             ],
             [
              0.3333333333333333,
              "#9c179e"
             ],
             [
              0.4444444444444444,
              "#bd3786"
             ],
             [
              0.5555555555555556,
              "#d8576b"
             ],
             [
              0.6666666666666666,
              "#ed7953"
             ],
             [
              0.7777777777777778,
              "#fb9f3a"
             ],
             [
              0.8888888888888888,
              "#fdca26"
             ],
             [
              1,
              "#f0f921"
             ]
            ],
            "type": "heatmapgl"
           }
          ],
          "histogram": [
           {
            "marker": {
             "pattern": {
              "fillmode": "overlay",
              "size": 10,
              "solidity": 0.2
             }
            },
            "type": "histogram"
           }
          ],
          "histogram2d": [
           {
            "colorbar": {
             "outlinewidth": 0,
             "ticks": ""
            },
            "colorscale": [
             [
              0,
              "#0d0887"
             ],
             [
              0.1111111111111111,
              "#46039f"
             ],
             [
              0.2222222222222222,
              "#7201a8"
             ],
             [
              0.3333333333333333,
              "#9c179e"
             ],
             [
              0.4444444444444444,
              "#bd3786"
             ],
             [
              0.5555555555555556,
              "#d8576b"
             ],
             [
              0.6666666666666666,
              "#ed7953"
             ],
             [
              0.7777777777777778,
              "#fb9f3a"
             ],
             [
              0.8888888888888888,
              "#fdca26"
             ],
             [
              1,
              "#f0f921"
             ]
            ],
            "type": "histogram2d"
           }
          ],
          "histogram2dcontour": [
           {
            "colorbar": {
             "outlinewidth": 0,
             "ticks": ""
            },
            "colorscale": [
             [
              0,
              "#0d0887"
             ],
             [
              0.1111111111111111,
              "#46039f"
             ],
             [
              0.2222222222222222,
              "#7201a8"
             ],
             [
              0.3333333333333333,
              "#9c179e"
             ],
             [
              0.4444444444444444,
              "#bd3786"
             ],
             [
              0.5555555555555556,
              "#d8576b"
             ],
             [
              0.6666666666666666,
              "#ed7953"
             ],
             [
              0.7777777777777778,
              "#fb9f3a"
             ],
             [
              0.8888888888888888,
              "#fdca26"
             ],
             [
              1,
              "#f0f921"
             ]
            ],
            "type": "histogram2dcontour"
           }
          ],
          "mesh3d": [
           {
            "colorbar": {
             "outlinewidth": 0,
             "ticks": ""
            },
            "type": "mesh3d"
           }
          ],
          "parcoords": [
           {
            "line": {
             "colorbar": {
              "outlinewidth": 0,
              "ticks": ""
             }
            },
            "type": "parcoords"
           }
          ],
          "pie": [
           {
            "automargin": true,
            "type": "pie"
           }
          ],
          "scatter": [
           {
            "marker": {
             "colorbar": {
              "outlinewidth": 0,
              "ticks": ""
             }
            },
            "type": "scatter"
           }
          ],
          "scatter3d": [
           {
            "line": {
             "colorbar": {
              "outlinewidth": 0,
              "ticks": ""
             }
            },
            "marker": {
             "colorbar": {
              "outlinewidth": 0,
              "ticks": ""
             }
            },
            "type": "scatter3d"
           }
          ],
          "scattercarpet": [
           {
            "marker": {
             "colorbar": {
              "outlinewidth": 0,
              "ticks": ""
             }
            },
            "type": "scattercarpet"
           }
          ],
          "scattergeo": [
           {
            "marker": {
             "colorbar": {
              "outlinewidth": 0,
              "ticks": ""
             }
            },
            "type": "scattergeo"
           }
          ],
          "scattergl": [
           {
            "marker": {
             "colorbar": {
              "outlinewidth": 0,
              "ticks": ""
             }
            },
            "type": "scattergl"
           }
          ],
          "scattermapbox": [
           {
            "marker": {
             "colorbar": {
              "outlinewidth": 0,
              "ticks": ""
             }
            },
            "type": "scattermapbox"
           }
          ],
          "scatterpolar": [
           {
            "marker": {
             "colorbar": {
              "outlinewidth": 0,
              "ticks": ""
             }
            },
            "type": "scatterpolar"
           }
          ],
          "scatterpolargl": [
           {
            "marker": {
             "colorbar": {
              "outlinewidth": 0,
              "ticks": ""
             }
            },
            "type": "scatterpolargl"
           }
          ],
          "scatterternary": [
           {
            "marker": {
             "colorbar": {
              "outlinewidth": 0,
              "ticks": ""
             }
            },
            "type": "scatterternary"
           }
          ],
          "surface": [
           {
            "colorbar": {
             "outlinewidth": 0,
             "ticks": ""
            },
            "colorscale": [
             [
              0,
              "#0d0887"
             ],
             [
              0.1111111111111111,
              "#46039f"
             ],
             [
              0.2222222222222222,
              "#7201a8"
             ],
             [
              0.3333333333333333,
              "#9c179e"
             ],
             [
              0.4444444444444444,
              "#bd3786"
             ],
             [
              0.5555555555555556,
              "#d8576b"
             ],
             [
              0.6666666666666666,
              "#ed7953"
             ],
             [
              0.7777777777777778,
              "#fb9f3a"
             ],
             [
              0.8888888888888888,
              "#fdca26"
             ],
             [
              1,
              "#f0f921"
             ]
            ],
            "type": "surface"
           }
          ],
          "table": [
           {
            "cells": {
             "fill": {
              "color": "#EBF0F8"
             },
             "line": {
              "color": "white"
             }
            },
            "header": {
             "fill": {
              "color": "#C8D4E3"
             },
             "line": {
              "color": "white"
             }
            },
            "type": "table"
           }
          ]
         },
         "layout": {
          "annotationdefaults": {
           "arrowcolor": "#2a3f5f",
           "arrowhead": 0,
           "arrowwidth": 1
          },
          "autotypenumbers": "strict",
          "coloraxis": {
           "colorbar": {
            "outlinewidth": 0,
            "ticks": ""
           }
          },
          "colorscale": {
           "diverging": [
            [
             0,
             "#8e0152"
            ],
            [
             0.1,
             "#c51b7d"
            ],
            [
             0.2,
             "#de77ae"
            ],
            [
             0.3,
             "#f1b6da"
            ],
            [
             0.4,
             "#fde0ef"
            ],
            [
             0.5,
             "#f7f7f7"
            ],
            [
             0.6,
             "#e6f5d0"
            ],
            [
             0.7,
             "#b8e186"
            ],
            [
             0.8,
             "#7fbc41"
            ],
            [
             0.9,
             "#4d9221"
            ],
            [
             1,
             "#276419"
            ]
           ],
           "sequential": [
            [
             0,
             "#0d0887"
            ],
            [
             0.1111111111111111,
             "#46039f"
            ],
            [
             0.2222222222222222,
             "#7201a8"
            ],
            [
             0.3333333333333333,
             "#9c179e"
            ],
            [
             0.4444444444444444,
             "#bd3786"
            ],
            [
             0.5555555555555556,
             "#d8576b"
            ],
            [
             0.6666666666666666,
             "#ed7953"
            ],
            [
             0.7777777777777778,
             "#fb9f3a"
            ],
            [
             0.8888888888888888,
             "#fdca26"
            ],
            [
             1,
             "#f0f921"
            ]
           ],
           "sequentialminus": [
            [
             0,
             "#0d0887"
            ],
            [
             0.1111111111111111,
             "#46039f"
            ],
            [
             0.2222222222222222,
             "#7201a8"
            ],
            [
             0.3333333333333333,
             "#9c179e"
            ],
            [
             0.4444444444444444,
             "#bd3786"
            ],
            [
             0.5555555555555556,
             "#d8576b"
            ],
            [
             0.6666666666666666,
             "#ed7953"
            ],
            [
             0.7777777777777778,
             "#fb9f3a"
            ],
            [
             0.8888888888888888,
             "#fdca26"
            ],
            [
             1,
             "#f0f921"
            ]
           ]
          },
          "colorway": [
           "#636efa",
           "#EF553B",
           "#00cc96",
           "#ab63fa",
           "#FFA15A",
           "#19d3f3",
           "#FF6692",
           "#B6E880",
           "#FF97FF",
           "#FECB52"
          ],
          "font": {
           "color": "#2a3f5f"
          },
          "geo": {
           "bgcolor": "white",
           "lakecolor": "white",
           "landcolor": "#E5ECF6",
           "showlakes": true,
           "showland": true,
           "subunitcolor": "white"
          },
          "hoverlabel": {
           "align": "left"
          },
          "hovermode": "closest",
          "mapbox": {
           "style": "light"
          },
          "paper_bgcolor": "white",
          "plot_bgcolor": "#E5ECF6",
          "polar": {
           "angularaxis": {
            "gridcolor": "white",
            "linecolor": "white",
            "ticks": ""
           },
           "bgcolor": "#E5ECF6",
           "radialaxis": {
            "gridcolor": "white",
            "linecolor": "white",
            "ticks": ""
           }
          },
          "scene": {
           "xaxis": {
            "backgroundcolor": "#E5ECF6",
            "gridcolor": "white",
            "gridwidth": 2,
            "linecolor": "white",
            "showbackground": true,
            "ticks": "",
            "zerolinecolor": "white"
           },
           "yaxis": {
            "backgroundcolor": "#E5ECF6",
            "gridcolor": "white",
            "gridwidth": 2,
            "linecolor": "white",
            "showbackground": true,
            "ticks": "",
            "zerolinecolor": "white"
           },
           "zaxis": {
            "backgroundcolor": "#E5ECF6",
            "gridcolor": "white",
            "gridwidth": 2,
            "linecolor": "white",
            "showbackground": true,
            "ticks": "",
            "zerolinecolor": "white"
           }
          },
          "shapedefaults": {
           "line": {
            "color": "#2a3f5f"
           }
          },
          "ternary": {
           "aaxis": {
            "gridcolor": "white",
            "linecolor": "white",
            "ticks": ""
           },
           "baxis": {
            "gridcolor": "white",
            "linecolor": "white",
            "ticks": ""
           },
           "bgcolor": "#E5ECF6",
           "caxis": {
            "gridcolor": "white",
            "linecolor": "white",
            "ticks": ""
           }
          },
          "title": {
           "x": 0.05
          },
          "xaxis": {
           "automargin": true,
           "gridcolor": "white",
           "linecolor": "white",
           "ticks": "",
           "title": {
            "standoff": 15
           },
           "zerolinecolor": "white",
           "zerolinewidth": 2
          },
          "yaxis": {
           "automargin": true,
           "gridcolor": "white",
           "linecolor": "white",
           "ticks": "",
           "title": {
            "standoff": 15
           },
           "zerolinecolor": "white",
           "zerolinewidth": 2
          }
         }
        },
        "title": {
         "text": "Renda bruta e quantidade vendida no mês de novembro"
        },
        "xaxis": {
         "anchor": "y",
         "domain": [
          0,
          1
         ],
         "title": {
          "text": "Data"
         }
        },
        "yaxis": {
         "anchor": "x",
         "domain": [
          0,
          1
         ],
         "title": {
          "text": "Valor/ Valor Máximo (%)"
         }
        }
       }
      },
      "text/html": [
       "<div>                            <div id=\"62187c9e-a4a7-4c86-bbb8-48083373e711\" class=\"plotly-graph-div\" style=\"height:525px; width:100%;\"></div>            <script type=\"text/javascript\">                require([\"plotly\"], function(Plotly) {                    window.PLOTLYENV=window.PLOTLYENV || {};                                    if (document.getElementById(\"62187c9e-a4a7-4c86-bbb8-48083373e711\")) {                    Plotly.newPlot(                        \"62187c9e-a4a7-4c86-bbb8-48083373e711\",                        [{\"hovertemplate\":\"Linhas=Renda bruta total<br>date=%{x}<br>Valor/ Valor M\\u00e1ximo (%)=%{y}<extra></extra>\",\"legendgroup\":\"Renda bruta total\",\"line\":{\"color\":\"#636efa\",\"dash\":\"solid\"},\"marker\":{\"symbol\":\"circle\"},\"mode\":\"lines\",\"name\":\"Renda bruta total\",\"orientation\":\"v\",\"showlegend\":true,\"type\":\"scatter\",\"x\":[\"2021-11-01T00:00:00\",\"2021-11-02T00:00:00\",\"2021-11-03T00:00:00\",\"2021-11-04T00:00:00\",\"2021-11-05T00:00:00\",\"2021-11-06T00:00:00\",\"2021-11-07T00:00:00\",\"2021-11-08T00:00:00\",\"2021-11-09T00:00:00\",\"2021-11-10T00:00:00\",\"2021-11-11T00:00:00\",\"2021-11-12T00:00:00\",\"2021-11-13T00:00:00\",\"2021-11-14T00:00:00\",\"2021-11-15T00:00:00\",\"2021-11-16T00:00:00\",\"2021-11-17T00:00:00\",\"2021-11-18T00:00:00\",\"2021-11-19T00:00:00\",\"2021-11-20T00:00:00\",\"2021-11-21T00:00:00\",\"2021-11-22T00:00:00\",\"2021-11-23T00:00:00\",\"2021-11-24T00:00:00\",\"2021-11-25T00:00:00\",\"2021-11-26T00:00:00\",\"2021-11-27T00:00:00\",\"2021-11-28T00:00:00\",\"2021-11-29T00:00:00\",\"2021-11-30T00:00:00\"],\"xaxis\":\"x\",\"y\":[0.524215124261543,0.19504637119570503,0.673692837267667,0.3653773074016241,0.6442080850553753,0.6542568069038645,0.9467026675020772,0.5853159438869864,0.4463987404241724,0.8174601217918697,0.6734777504125342,0.9558680879968787,0.3134019514243774,1.0,0.02366380479295134,0.04684982771797961,0.04985679296147409,0.0746844471800245,0.14915635794193377,0.09874101927365281,0.09622883881153063,0.08724449934496302,0.12792822050058314,0.0361158884574873,0.07131191929737181,0.06362490212697963,0.11862337611549771,0.0632967458974097,0.12240142348391432,0.08643601081045263],\"yaxis\":\"y\"},{\"hovertemplate\":\"Linhas=Quantidade de produtos vendidos<br>date=%{x}<br>Valor/ Valor M\\u00e1ximo (%)=%{y}<extra></extra>\",\"legendgroup\":\"Quantidade de produtos vendidos\",\"line\":{\"color\":\"#EF553B\",\"dash\":\"solid\"},\"marker\":{\"symbol\":\"circle\"},\"mode\":\"lines\",\"name\":\"Quantidade de produtos vendidos\",\"orientation\":\"v\",\"showlegend\":true,\"type\":\"scatter\",\"x\":[\"2021-11-01T00:00:00\",\"2021-11-02T00:00:00\",\"2021-11-03T00:00:00\",\"2021-11-04T00:00:00\",\"2021-11-05T00:00:00\",\"2021-11-06T00:00:00\",\"2021-11-07T00:00:00\",\"2021-11-08T00:00:00\",\"2021-11-09T00:00:00\",\"2021-11-10T00:00:00\",\"2021-11-11T00:00:00\",\"2021-11-12T00:00:00\",\"2021-11-13T00:00:00\",\"2021-11-14T00:00:00\",\"2021-11-15T00:00:00\",\"2021-11-16T00:00:00\",\"2021-11-17T00:00:00\",\"2021-11-18T00:00:00\",\"2021-11-19T00:00:00\",\"2021-11-20T00:00:00\",\"2021-11-21T00:00:00\",\"2021-11-22T00:00:00\",\"2021-11-23T00:00:00\",\"2021-11-24T00:00:00\",\"2021-11-25T00:00:00\",\"2021-11-26T00:00:00\",\"2021-11-27T00:00:00\",\"2021-11-28T00:00:00\",\"2021-11-29T00:00:00\",\"2021-11-30T00:00:00\"],\"xaxis\":\"x\",\"y\":[0.5575539568345323,0.28776978417266186,0.6672661870503597,0.44064748201438847,0.7428057553956835,0.762589928057554,0.9586330935251799,0.7464028776978417,0.6330935251798561,0.89568345323741,0.8830935251798561,0.8471223021582733,0.5251798561151079,1.0,0.07194244604316546,0.05935251798561151,0.0539568345323741,0.09172661870503597,0.06654676258992806,0.08273381294964029,0.09892086330935251,0.13129496402877697,0.08812949640287769,0.048561151079136694,0.09352517985611511,0.06654676258992806,0.08992805755395683,0.1366906474820144,0.08633093525179857,0.12589928057553956],\"yaxis\":\"y\"}],                        {\"legend\":{\"title\":{\"text\":\"Linhas\"},\"tracegroupgap\":0},\"template\":{\"data\":{\"bar\":[{\"error_x\":{\"color\":\"#2a3f5f\"},\"error_y\":{\"color\":\"#2a3f5f\"},\"marker\":{\"line\":{\"color\":\"#E5ECF6\",\"width\":0.5},\"pattern\":{\"fillmode\":\"overlay\",\"size\":10,\"solidity\":0.2}},\"type\":\"bar\"}],\"barpolar\":[{\"marker\":{\"line\":{\"color\":\"#E5ECF6\",\"width\":0.5},\"pattern\":{\"fillmode\":\"overlay\",\"size\":10,\"solidity\":0.2}},\"type\":\"barpolar\"}],\"carpet\":[{\"aaxis\":{\"endlinecolor\":\"#2a3f5f\",\"gridcolor\":\"white\",\"linecolor\":\"white\",\"minorgridcolor\":\"white\",\"startlinecolor\":\"#2a3f5f\"},\"baxis\":{\"endlinecolor\":\"#2a3f5f\",\"gridcolor\":\"white\",\"linecolor\":\"white\",\"minorgridcolor\":\"white\",\"startlinecolor\":\"#2a3f5f\"},\"type\":\"carpet\"}],\"choropleth\":[{\"colorbar\":{\"outlinewidth\":0,\"ticks\":\"\"},\"type\":\"choropleth\"}],\"contour\":[{\"colorbar\":{\"outlinewidth\":0,\"ticks\":\"\"},\"colorscale\":[[0.0,\"#0d0887\"],[0.1111111111111111,\"#46039f\"],[0.2222222222222222,\"#7201a8\"],[0.3333333333333333,\"#9c179e\"],[0.4444444444444444,\"#bd3786\"],[0.5555555555555556,\"#d8576b\"],[0.6666666666666666,\"#ed7953\"],[0.7777777777777778,\"#fb9f3a\"],[0.8888888888888888,\"#fdca26\"],[1.0,\"#f0f921\"]],\"type\":\"contour\"}],\"contourcarpet\":[{\"colorbar\":{\"outlinewidth\":0,\"ticks\":\"\"},\"type\":\"contourcarpet\"}],\"heatmap\":[{\"colorbar\":{\"outlinewidth\":0,\"ticks\":\"\"},\"colorscale\":[[0.0,\"#0d0887\"],[0.1111111111111111,\"#46039f\"],[0.2222222222222222,\"#7201a8\"],[0.3333333333333333,\"#9c179e\"],[0.4444444444444444,\"#bd3786\"],[0.5555555555555556,\"#d8576b\"],[0.6666666666666666,\"#ed7953\"],[0.7777777777777778,\"#fb9f3a\"],[0.8888888888888888,\"#fdca26\"],[1.0,\"#f0f921\"]],\"type\":\"heatmap\"}],\"heatmapgl\":[{\"colorbar\":{\"outlinewidth\":0,\"ticks\":\"\"},\"colorscale\":[[0.0,\"#0d0887\"],[0.1111111111111111,\"#46039f\"],[0.2222222222222222,\"#7201a8\"],[0.3333333333333333,\"#9c179e\"],[0.4444444444444444,\"#bd3786\"],[0.5555555555555556,\"#d8576b\"],[0.6666666666666666,\"#ed7953\"],[0.7777777777777778,\"#fb9f3a\"],[0.8888888888888888,\"#fdca26\"],[1.0,\"#f0f921\"]],\"type\":\"heatmapgl\"}],\"histogram\":[{\"marker\":{\"pattern\":{\"fillmode\":\"overlay\",\"size\":10,\"solidity\":0.2}},\"type\":\"histogram\"}],\"histogram2d\":[{\"colorbar\":{\"outlinewidth\":0,\"ticks\":\"\"},\"colorscale\":[[0.0,\"#0d0887\"],[0.1111111111111111,\"#46039f\"],[0.2222222222222222,\"#7201a8\"],[0.3333333333333333,\"#9c179e\"],[0.4444444444444444,\"#bd3786\"],[0.5555555555555556,\"#d8576b\"],[0.6666666666666666,\"#ed7953\"],[0.7777777777777778,\"#fb9f3a\"],[0.8888888888888888,\"#fdca26\"],[1.0,\"#f0f921\"]],\"type\":\"histogram2d\"}],\"histogram2dcontour\":[{\"colorbar\":{\"outlinewidth\":0,\"ticks\":\"\"},\"colorscale\":[[0.0,\"#0d0887\"],[0.1111111111111111,\"#46039f\"],[0.2222222222222222,\"#7201a8\"],[0.3333333333333333,\"#9c179e\"],[0.4444444444444444,\"#bd3786\"],[0.5555555555555556,\"#d8576b\"],[0.6666666666666666,\"#ed7953\"],[0.7777777777777778,\"#fb9f3a\"],[0.8888888888888888,\"#fdca26\"],[1.0,\"#f0f921\"]],\"type\":\"histogram2dcontour\"}],\"mesh3d\":[{\"colorbar\":{\"outlinewidth\":0,\"ticks\":\"\"},\"type\":\"mesh3d\"}],\"parcoords\":[{\"line\":{\"colorbar\":{\"outlinewidth\":0,\"ticks\":\"\"}},\"type\":\"parcoords\"}],\"pie\":[{\"automargin\":true,\"type\":\"pie\"}],\"scatter\":[{\"marker\":{\"colorbar\":{\"outlinewidth\":0,\"ticks\":\"\"}},\"type\":\"scatter\"}],\"scatter3d\":[{\"line\":{\"colorbar\":{\"outlinewidth\":0,\"ticks\":\"\"}},\"marker\":{\"colorbar\":{\"outlinewidth\":0,\"ticks\":\"\"}},\"type\":\"scatter3d\"}],\"scattercarpet\":[{\"marker\":{\"colorbar\":{\"outlinewidth\":0,\"ticks\":\"\"}},\"type\":\"scattercarpet\"}],\"scattergeo\":[{\"marker\":{\"colorbar\":{\"outlinewidth\":0,\"ticks\":\"\"}},\"type\":\"scattergeo\"}],\"scattergl\":[{\"marker\":{\"colorbar\":{\"outlinewidth\":0,\"ticks\":\"\"}},\"type\":\"scattergl\"}],\"scattermapbox\":[{\"marker\":{\"colorbar\":{\"outlinewidth\":0,\"ticks\":\"\"}},\"type\":\"scattermapbox\"}],\"scatterpolar\":[{\"marker\":{\"colorbar\":{\"outlinewidth\":0,\"ticks\":\"\"}},\"type\":\"scatterpolar\"}],\"scatterpolargl\":[{\"marker\":{\"colorbar\":{\"outlinewidth\":0,\"ticks\":\"\"}},\"type\":\"scatterpolargl\"}],\"scatterternary\":[{\"marker\":{\"colorbar\":{\"outlinewidth\":0,\"ticks\":\"\"}},\"type\":\"scatterternary\"}],\"surface\":[{\"colorbar\":{\"outlinewidth\":0,\"ticks\":\"\"},\"colorscale\":[[0.0,\"#0d0887\"],[0.1111111111111111,\"#46039f\"],[0.2222222222222222,\"#7201a8\"],[0.3333333333333333,\"#9c179e\"],[0.4444444444444444,\"#bd3786\"],[0.5555555555555556,\"#d8576b\"],[0.6666666666666666,\"#ed7953\"],[0.7777777777777778,\"#fb9f3a\"],[0.8888888888888888,\"#fdca26\"],[1.0,\"#f0f921\"]],\"type\":\"surface\"}],\"table\":[{\"cells\":{\"fill\":{\"color\":\"#EBF0F8\"},\"line\":{\"color\":\"white\"}},\"header\":{\"fill\":{\"color\":\"#C8D4E3\"},\"line\":{\"color\":\"white\"}},\"type\":\"table\"}]},\"layout\":{\"annotationdefaults\":{\"arrowcolor\":\"#2a3f5f\",\"arrowhead\":0,\"arrowwidth\":1},\"autotypenumbers\":\"strict\",\"coloraxis\":{\"colorbar\":{\"outlinewidth\":0,\"ticks\":\"\"}},\"colorscale\":{\"diverging\":[[0,\"#8e0152\"],[0.1,\"#c51b7d\"],[0.2,\"#de77ae\"],[0.3,\"#f1b6da\"],[0.4,\"#fde0ef\"],[0.5,\"#f7f7f7\"],[0.6,\"#e6f5d0\"],[0.7,\"#b8e186\"],[0.8,\"#7fbc41\"],[0.9,\"#4d9221\"],[1,\"#276419\"]],\"sequential\":[[0.0,\"#0d0887\"],[0.1111111111111111,\"#46039f\"],[0.2222222222222222,\"#7201a8\"],[0.3333333333333333,\"#9c179e\"],[0.4444444444444444,\"#bd3786\"],[0.5555555555555556,\"#d8576b\"],[0.6666666666666666,\"#ed7953\"],[0.7777777777777778,\"#fb9f3a\"],[0.8888888888888888,\"#fdca26\"],[1.0,\"#f0f921\"]],\"sequentialminus\":[[0.0,\"#0d0887\"],[0.1111111111111111,\"#46039f\"],[0.2222222222222222,\"#7201a8\"],[0.3333333333333333,\"#9c179e\"],[0.4444444444444444,\"#bd3786\"],[0.5555555555555556,\"#d8576b\"],[0.6666666666666666,\"#ed7953\"],[0.7777777777777778,\"#fb9f3a\"],[0.8888888888888888,\"#fdca26\"],[1.0,\"#f0f921\"]]},\"colorway\":[\"#636efa\",\"#EF553B\",\"#00cc96\",\"#ab63fa\",\"#FFA15A\",\"#19d3f3\",\"#FF6692\",\"#B6E880\",\"#FF97FF\",\"#FECB52\"],\"font\":{\"color\":\"#2a3f5f\"},\"geo\":{\"bgcolor\":\"white\",\"lakecolor\":\"white\",\"landcolor\":\"#E5ECF6\",\"showlakes\":true,\"showland\":true,\"subunitcolor\":\"white\"},\"hoverlabel\":{\"align\":\"left\"},\"hovermode\":\"closest\",\"mapbox\":{\"style\":\"light\"},\"paper_bgcolor\":\"white\",\"plot_bgcolor\":\"#E5ECF6\",\"polar\":{\"angularaxis\":{\"gridcolor\":\"white\",\"linecolor\":\"white\",\"ticks\":\"\"},\"bgcolor\":\"#E5ECF6\",\"radialaxis\":{\"gridcolor\":\"white\",\"linecolor\":\"white\",\"ticks\":\"\"}},\"scene\":{\"xaxis\":{\"backgroundcolor\":\"#E5ECF6\",\"gridcolor\":\"white\",\"gridwidth\":2,\"linecolor\":\"white\",\"showbackground\":true,\"ticks\":\"\",\"zerolinecolor\":\"white\"},\"yaxis\":{\"backgroundcolor\":\"#E5ECF6\",\"gridcolor\":\"white\",\"gridwidth\":2,\"linecolor\":\"white\",\"showbackground\":true,\"ticks\":\"\",\"zerolinecolor\":\"white\"},\"zaxis\":{\"backgroundcolor\":\"#E5ECF6\",\"gridcolor\":\"white\",\"gridwidth\":2,\"linecolor\":\"white\",\"showbackground\":true,\"ticks\":\"\",\"zerolinecolor\":\"white\"}},\"shapedefaults\":{\"line\":{\"color\":\"#2a3f5f\"}},\"ternary\":{\"aaxis\":{\"gridcolor\":\"white\",\"linecolor\":\"white\",\"ticks\":\"\"},\"baxis\":{\"gridcolor\":\"white\",\"linecolor\":\"white\",\"ticks\":\"\"},\"bgcolor\":\"#E5ECF6\",\"caxis\":{\"gridcolor\":\"white\",\"linecolor\":\"white\",\"ticks\":\"\"}},\"title\":{\"x\":0.05},\"xaxis\":{\"automargin\":true,\"gridcolor\":\"white\",\"linecolor\":\"white\",\"ticks\":\"\",\"title\":{\"standoff\":15},\"zerolinecolor\":\"white\",\"zerolinewidth\":2},\"yaxis\":{\"automargin\":true,\"gridcolor\":\"white\",\"linecolor\":\"white\",\"ticks\":\"\",\"title\":{\"standoff\":15},\"zerolinecolor\":\"white\",\"zerolinewidth\":2}}},\"title\":{\"text\":\"Renda bruta e quantidade vendida no m\\u00eas de novembro\"},\"xaxis\":{\"anchor\":\"y\",\"domain\":[0.0,1.0],\"title\":{\"text\":\"Data\"}},\"yaxis\":{\"anchor\":\"x\",\"domain\":[0.0,1.0],\"title\":{\"text\":\"Valor/ Valor M\\u00e1ximo (%)\"}}},                        {\"responsive\": true}                    ).then(function(){\n",
       "                            \n",
       "var gd = document.getElementById('62187c9e-a4a7-4c86-bbb8-48083373e711');\n",
       "var x = new MutationObserver(function (mutations, observer) {{\n",
       "        var display = window.getComputedStyle(gd).display;\n",
       "        if (!display || display === 'none') {{\n",
       "            console.log([gd, 'removed!']);\n",
       "            Plotly.purge(gd);\n",
       "            observer.disconnect();\n",
       "        }}\n",
       "}});\n",
       "\n",
       "// Listen for the removal of the full notebook cells\n",
       "var notebookContainer = gd.closest('#notebook-container');\n",
       "if (notebookContainer) {{\n",
       "    x.observe(notebookContainer, {childList: true});\n",
       "}}\n",
       "\n",
       "// Listen for the clearing of the current output cell\n",
       "var outputEl = gd.closest('.output');\n",
       "if (outputEl) {{\n",
       "    x.observe(outputEl, {childList: true});\n",
       "}}\n",
       "\n",
       "                        })                };                });            </script>        </div>"
      ]
     },
     "metadata": {},
     "output_type": "display_data"
    }
   ],
   "source": [
    "from sklearn.preprocessing import MaxAbsScaler\n",
    "abs_scaler = MaxAbsScaler()\n",
    "\n",
    "venda_produtos_cliente_agrupado_por_dia=venda_produtos_cliente.groupby(\"data\").sum().sort_values('data')\n",
    "venda_produtos_cliente_agrupado_por_dia=venda_produtos_cliente_agrupado_por_dia[[\"total_preco\", \"quantidade\"]]\n",
    "\n",
    "#Normalizando os dados\n",
    "abs_scaler = MaxAbsScaler()\n",
    "abs_scaler.fit(venda_produtos_cliente_agrupado_por_dia)\n",
    "abs_scaler.max_abs_\n",
    "scaled_data = abs_scaler.transform(venda_produtos_cliente_agrupado_por_dia)\n",
    "df_scaled = pd.DataFrame(scaled_data, columns=venda_produtos_cliente_agrupado_por_dia.columns)\n",
    "df_scaled.transpose()\n",
    "# Definindo a datta com índice\n",
    "df_scaled['date'] = np.arange(np.datetime64('2021-11-01'), np.datetime64('2021-12-01'))\n",
    "df_scaled = df_scaled.set_index(['date'])\n",
    "df_scaled.rename(columns={'total_preco': 'Renda bruta total', \"quantidade\": \"Quantidade de produtos vendidos\"}, inplace = True)\n",
    "# Plotando o gráfico\n",
    "fig = px.line(df_scaled, labels={\"variable\":\"Linhas\", \"value\":\"Valor/ Valor Máximo (%)\"}, title=\"Renda bruta e quantidade vendida no mês de novembro\")\n",
    "fig.update_xaxes(title = 'Data')\n",
    "fig.update_yaxes(title = 'Valor/ Valor Máximo (%)')\n",
    "fig.show()"
   ]
  },
  {
   "cell_type": "code",
   "execution_count": 34,
   "id": "f6061940",
   "metadata": {},
   "outputs": [
    {
     "data": {
      "text/html": [
       "<div>\n",
       "<style scoped>\n",
       "    .dataframe tbody tr th:only-of-type {\n",
       "        vertical-align: middle;\n",
       "    }\n",
       "\n",
       "    .dataframe tbody tr th {\n",
       "        vertical-align: top;\n",
       "    }\n",
       "\n",
       "    .dataframe thead th {\n",
       "        text-align: right;\n",
       "    }\n",
       "</style>\n",
       "<table border=\"1\" class=\"dataframe\">\n",
       "  <thead>\n",
       "    <tr style=\"text-align: right;\">\n",
       "      <th></th>\n",
       "      <th>Renda bruta total</th>\n",
       "      <th>Quantidade de produtos vendidos</th>\n",
       "    </tr>\n",
       "    <tr>\n",
       "      <th>date</th>\n",
       "      <th></th>\n",
       "      <th></th>\n",
       "    </tr>\n",
       "  </thead>\n",
       "  <tbody>\n",
       "    <tr>\n",
       "      <th>2021-11-01</th>\n",
       "      <td>0.524215</td>\n",
       "      <td>0.557554</td>\n",
       "    </tr>\n",
       "    <tr>\n",
       "      <th>2021-11-02</th>\n",
       "      <td>0.195046</td>\n",
       "      <td>0.287770</td>\n",
       "    </tr>\n",
       "    <tr>\n",
       "      <th>2021-11-03</th>\n",
       "      <td>0.673693</td>\n",
       "      <td>0.667266</td>\n",
       "    </tr>\n",
       "    <tr>\n",
       "      <th>2021-11-04</th>\n",
       "      <td>0.365377</td>\n",
       "      <td>0.440647</td>\n",
       "    </tr>\n",
       "    <tr>\n",
       "      <th>2021-11-05</th>\n",
       "      <td>0.644208</td>\n",
       "      <td>0.742806</td>\n",
       "    </tr>\n",
       "    <tr>\n",
       "      <th>2021-11-06</th>\n",
       "      <td>0.654257</td>\n",
       "      <td>0.762590</td>\n",
       "    </tr>\n",
       "    <tr>\n",
       "      <th>2021-11-07</th>\n",
       "      <td>0.946703</td>\n",
       "      <td>0.958633</td>\n",
       "    </tr>\n",
       "    <tr>\n",
       "      <th>2021-11-08</th>\n",
       "      <td>0.585316</td>\n",
       "      <td>0.746403</td>\n",
       "    </tr>\n",
       "    <tr>\n",
       "      <th>2021-11-09</th>\n",
       "      <td>0.446399</td>\n",
       "      <td>0.633094</td>\n",
       "    </tr>\n",
       "    <tr>\n",
       "      <th>2021-11-10</th>\n",
       "      <td>0.817460</td>\n",
       "      <td>0.895683</td>\n",
       "    </tr>\n",
       "    <tr>\n",
       "      <th>2021-11-11</th>\n",
       "      <td>0.673478</td>\n",
       "      <td>0.883094</td>\n",
       "    </tr>\n",
       "    <tr>\n",
       "      <th>2021-11-12</th>\n",
       "      <td>0.955868</td>\n",
       "      <td>0.847122</td>\n",
       "    </tr>\n",
       "    <tr>\n",
       "      <th>2021-11-13</th>\n",
       "      <td>0.313402</td>\n",
       "      <td>0.525180</td>\n",
       "    </tr>\n",
       "    <tr>\n",
       "      <th>2021-11-14</th>\n",
       "      <td>1.000000</td>\n",
       "      <td>1.000000</td>\n",
       "    </tr>\n",
       "    <tr>\n",
       "      <th>2021-11-15</th>\n",
       "      <td>0.023664</td>\n",
       "      <td>0.071942</td>\n",
       "    </tr>\n",
       "    <tr>\n",
       "      <th>2021-11-16</th>\n",
       "      <td>0.046850</td>\n",
       "      <td>0.059353</td>\n",
       "    </tr>\n",
       "    <tr>\n",
       "      <th>2021-11-17</th>\n",
       "      <td>0.049857</td>\n",
       "      <td>0.053957</td>\n",
       "    </tr>\n",
       "    <tr>\n",
       "      <th>2021-11-18</th>\n",
       "      <td>0.074684</td>\n",
       "      <td>0.091727</td>\n",
       "    </tr>\n",
       "    <tr>\n",
       "      <th>2021-11-19</th>\n",
       "      <td>0.149156</td>\n",
       "      <td>0.066547</td>\n",
       "    </tr>\n",
       "    <tr>\n",
       "      <th>2021-11-20</th>\n",
       "      <td>0.098741</td>\n",
       "      <td>0.082734</td>\n",
       "    </tr>\n",
       "    <tr>\n",
       "      <th>2021-11-21</th>\n",
       "      <td>0.096229</td>\n",
       "      <td>0.098921</td>\n",
       "    </tr>\n",
       "    <tr>\n",
       "      <th>2021-11-22</th>\n",
       "      <td>0.087244</td>\n",
       "      <td>0.131295</td>\n",
       "    </tr>\n",
       "    <tr>\n",
       "      <th>2021-11-23</th>\n",
       "      <td>0.127928</td>\n",
       "      <td>0.088129</td>\n",
       "    </tr>\n",
       "    <tr>\n",
       "      <th>2021-11-24</th>\n",
       "      <td>0.036116</td>\n",
       "      <td>0.048561</td>\n",
       "    </tr>\n",
       "    <tr>\n",
       "      <th>2021-11-25</th>\n",
       "      <td>0.071312</td>\n",
       "      <td>0.093525</td>\n",
       "    </tr>\n",
       "    <tr>\n",
       "      <th>2021-11-26</th>\n",
       "      <td>0.063625</td>\n",
       "      <td>0.066547</td>\n",
       "    </tr>\n",
       "    <tr>\n",
       "      <th>2021-11-27</th>\n",
       "      <td>0.118623</td>\n",
       "      <td>0.089928</td>\n",
       "    </tr>\n",
       "    <tr>\n",
       "      <th>2021-11-28</th>\n",
       "      <td>0.063297</td>\n",
       "      <td>0.136691</td>\n",
       "    </tr>\n",
       "    <tr>\n",
       "      <th>2021-11-29</th>\n",
       "      <td>0.122401</td>\n",
       "      <td>0.086331</td>\n",
       "    </tr>\n",
       "    <tr>\n",
       "      <th>2021-11-30</th>\n",
       "      <td>0.086436</td>\n",
       "      <td>0.125899</td>\n",
       "    </tr>\n",
       "  </tbody>\n",
       "</table>\n",
       "</div>"
      ],
      "text/plain": [
       "            Renda bruta total  Quantidade de produtos vendidos\n",
       "date                                                          \n",
       "2021-11-01           0.524215                         0.557554\n",
       "2021-11-02           0.195046                         0.287770\n",
       "2021-11-03           0.673693                         0.667266\n",
       "2021-11-04           0.365377                         0.440647\n",
       "2021-11-05           0.644208                         0.742806\n",
       "2021-11-06           0.654257                         0.762590\n",
       "2021-11-07           0.946703                         0.958633\n",
       "2021-11-08           0.585316                         0.746403\n",
       "2021-11-09           0.446399                         0.633094\n",
       "2021-11-10           0.817460                         0.895683\n",
       "2021-11-11           0.673478                         0.883094\n",
       "2021-11-12           0.955868                         0.847122\n",
       "2021-11-13           0.313402                         0.525180\n",
       "2021-11-14           1.000000                         1.000000\n",
       "2021-11-15           0.023664                         0.071942\n",
       "2021-11-16           0.046850                         0.059353\n",
       "2021-11-17           0.049857                         0.053957\n",
       "2021-11-18           0.074684                         0.091727\n",
       "2021-11-19           0.149156                         0.066547\n",
       "2021-11-20           0.098741                         0.082734\n",
       "2021-11-21           0.096229                         0.098921\n",
       "2021-11-22           0.087244                         0.131295\n",
       "2021-11-23           0.127928                         0.088129\n",
       "2021-11-24           0.036116                         0.048561\n",
       "2021-11-25           0.071312                         0.093525\n",
       "2021-11-26           0.063625                         0.066547\n",
       "2021-11-27           0.118623                         0.089928\n",
       "2021-11-28           0.063297                         0.136691\n",
       "2021-11-29           0.122401                         0.086331\n",
       "2021-11-30           0.086436                         0.125899"
      ]
     },
     "execution_count": 34,
     "metadata": {},
     "output_type": "execute_result"
    }
   ],
   "source": [
    "df_scaled"
   ]
  },
  {
   "cell_type": "code",
   "execution_count": null,
   "id": "9690f59c",
   "metadata": {},
   "outputs": [],
   "source": []
  },
  {
   "cell_type": "code",
   "execution_count": null,
   "id": "be83371a",
   "metadata": {},
   "outputs": [],
   "source": []
  },
  {
   "cell_type": "code",
   "execution_count": null,
   "id": "1177beba",
   "metadata": {},
   "outputs": [],
   "source": []
  },
  {
   "cell_type": "code",
   "execution_count": null,
   "id": "d0f69316",
   "metadata": {},
   "outputs": [],
   "source": []
  },
  {
   "cell_type": "code",
   "execution_count": null,
   "id": "2734e7f8",
   "metadata": {},
   "outputs": [],
   "source": []
  },
  {
   "cell_type": "code",
   "execution_count": null,
   "id": "e087704b",
   "metadata": {},
   "outputs": [],
   "source": []
  },
  {
   "cell_type": "code",
   "execution_count": null,
   "id": "4c4e19b4",
   "metadata": {},
   "outputs": [],
   "source": []
  },
  {
   "cell_type": "code",
   "execution_count": null,
   "id": "1eaa395c",
   "metadata": {},
   "outputs": [],
   "source": []
  },
  {
   "cell_type": "code",
   "execution_count": null,
   "id": "43139ed6",
   "metadata": {},
   "outputs": [],
   "source": []
  }
 ],
 "metadata": {
  "kernelspec": {
   "display_name": "Python 3",
   "language": "python",
   "name": "python3"
  },
  "language_info": {
   "codemirror_mode": {
    "name": "ipython",
    "version": 3
   },
   "file_extension": ".py",
   "mimetype": "text/x-python",
   "name": "python",
   "nbconvert_exporter": "python",
   "pygments_lexer": "ipython3",
   "version": "3.8.8"
  }
 },
 "nbformat": 4,
 "nbformat_minor": 5
}
