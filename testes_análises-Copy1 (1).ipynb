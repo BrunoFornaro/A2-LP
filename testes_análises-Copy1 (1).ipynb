{
 "cells": [
  {
   "cell_type": "code",
   "execution_count": 2,
   "id": "191c64a5",
   "metadata": {},
   "outputs": [
    {
     "name": "stdout",
     "output_type": "stream",
     "text": [
      "Collecting Faker\n",
      "  Downloading Faker-9.9.0-py3-none-any.whl (1.2 MB)\n",
      "Requirement already satisfied: python-dateutil>=2.4 in c:\\users\\vanes\\anaconda3\\lib\\site-packages (from Faker) (2.8.2)\n",
      "Collecting text-unidecode==1.3\n",
      "  Downloading text_unidecode-1.3-py2.py3-none-any.whl (78 kB)\n",
      "Requirement already satisfied: six>=1.5 in c:\\users\\vanes\\anaconda3\\lib\\site-packages (from python-dateutil>=2.4->Faker) (1.16.0)\n",
      "Installing collected packages: text-unidecode, Faker\n",
      "Successfully installed Faker-9.9.0 text-unidecode-1.3\n"
     ]
    }
   ],
   "source": [
    "!pip install Faker"
   ]
  },
  {
   "cell_type": "code",
   "execution_count": 78,
   "id": "e08f7679",
   "metadata": {},
   "outputs": [],
   "source": [
    "from numpy import random\n",
    "import pandas as pd\n",
    "import numpy as np\n",
    "import random as rd\n",
    "from faker import Faker\n",
    "import matplotlib.pyplot as plt\n",
    "import matplotlib as ptl\n",
    "import plotly.express as px\n",
    "\n",
    "fake = Faker(\"pt-BR\")\n",
    "\n",
    "def gerar_dados(quantidade_de_vendas = 500, quantidade_de_clientes = 200):\n",
    "\n",
    "    # Tabela de produtos\n",
    "    nome_dos_produtos = [\"morango\", \"melancia\", \"banana\", \"uva\", \"batata\", \"berinjela\", \"abobrinha\", \"alface\", \"couve-flor\", \"feijão\", \"arroz\", \"macarrão\", \"alcatra\", \"maminha\", \"bisteca suína\", \"carré de cordeiro\", \"costela\", \"paleta suína\", \"picanha\", \"peito de frango\", \"bolo\", \"pão de forma\", \"pão de queijo\", \"pão francês\", \"pastel\", \"sanduíche\", \"sonho\", \"torta\", \"amaciante\", \"água sanitária\", \"detergente\", \"flanela\", \"odorizador\", \"rodo\", \"sabão em pó\", \"sabonete\"]\n",
    "    secao_dos_produtos = [\"frutas_e_verduras\", \"frutas_e_verduras\", \"frutas_e_verduras\", \"frutas_e_verduras\", \"frutas_e_verduras\", \"frutas_e_verduras\", \"frutas_e_verduras\", \"frutas_e_verduras\", \"frutas_e_verduras\", \"frutas_e_verduras\", \"frutas_e_verduras\", \"frutas_e_verduras\", \"acougue\", \"acougue\", \"acougue\", \"acougue\", \"acougue\", \"acougue\", \"acougue\", \"acougue\", \"padaria\", \"padaria\", \"padaria\", \"padaria\", \"padaria\", \"padaria\", \"padaria\", \"padaria\", \"produtos_de_limpeza\", \"produtos_de_limpeza\", \"produtos_de_limpeza\", \"produtos_de_limpeza\", \"produtos_de_limpeza\", \"produtos_de_limpeza\", \"produtos_de_limpeza\", \"produtos_de_limpeza\"]\n",
    "    custo_dos_produtos = [4.30, 11.79, 2, 4.19, 2.39, 8.59, 2.69, 0.45, 3.19, 6.49, 15.89, 1.69, 23.19, 33.49, 15.73, 147.99, 16.39, 17.09, 43.35, 11.19, 17.89, 3.73, 17.04, 4.39, 3.19, 7.99, 1.79, 26.95, 5.19, 7.96, 1.3, 0.59, 14.38, 2.74, 6.15, 0.65]\n",
    "    preco_produtos = [7.99, 15.99, 5.99, 7.47, 3.99, 11.99, 3.49, 0.98, 5.48, 8.45, 4.31, 2.48, 31.99, 42.99, 22.79, 172, 20.99, 23.99, 70.89, 16.49, 35, 6.99, 23.99, 10.99, 4.99, 12.99, 3.49, 45, 6.70, 11.98, 2.70, 1.99, 23.99, 5.99, 9.69, 1.29]\n",
    "    prateleira_dos_produtos = [\"1A\", \"1C\", \"1B\", \"1D\", \"2B\", \"2D\", \"2A\", \"2C\", \"2E\", \"3B\", \"3A\", \"3C\", \"4A\", \"4B\", \"5A\", \"5B\", \"5C\", \"5D\", \"4C\", \"4D\", \"6A\", \"7A\", \"7B\", \"7C\", \"7D\", \"7E\", \"6B\", \"6C\", \"8A\", \"8B\", \"8C\", \"9A\", \"9B\", \"9C\", \"8D\", \"9D\"]\n",
    "    estoque_produtos = [50, 20, 40, 36, 47, 12, 19, 25, 20, 43, 80, 38, 7, 9, 5, 5, 10, 9, 6, 10, 7, 15, 1, 3, 9, 15, 20, 7, 12, 8, 40, 32, 6, 10, 13, 58]\n",
    "    unidade_de_medida_estoque = [\"bandeja\", \"unidade\", \"kg\", \"bandeja\", \"kg\", \"kg\", \"kg\", \"pé\", \"pé\", \"kg\", \"kg\", \"pacote\", \"kg\", \"kg\", \"kg\", \"kg\", \"kg\", \"kg\", \"kg\", \"kg\", \"kg\", \"pacote\", \"kg\", \"kg\", \"unidade\", \"unidade\", \"unidade\", \"kg\", \"unidade\", \"unidade\", \"unidade\", \"unidade\", \"unidade\", \"unidade\", \"unidade\", \"unidade\"]\n",
    "    imagem = [\"morango-alt.png\", \"melancia.jpg\", \"banana.png\", \"uva-alt.png\", \"batata.JPEG\", \"beringela.jpg\", \"abobrinha.JPEG\", \"alface.png\", \"couve-flor.png\", \"feijao.png\", \"arroz.png\", \"macarrao.jpg\", \"alcatra.jpg\", \"maminha.jpg\", \"bisteca_suina.jpg\", \"carre_de_cordeiro.jpg\", \"costela.jpg\", \"paleta_suina.jpg\", \"picanha.jpg\", \"peito_de_frango.jpg\", \"bolo.jpg\", \"pao_de_forma.jpg\", \"pao_de_queijo.jpg\", \"pao_frances.jpg\", \"pastel.jpg\", \"sanduiche.jpg\", \"sonho.jpg\", \"torta.jpg\", \"amaciante.jpg\", \"agua_sanitaria.jpg\", \"detergente.jpg\", \"flanela.jpg\", \"odorizador.jpg\", \"rodo.jpg\", \"sabao_em_po.jpg\", \"sabonete.jpg\"]\n",
    "\n",
    "    produtos = {\n",
    "        \"id\": list(range(len(nome_dos_produtos))),\n",
    "        \"nome\": nome_dos_produtos,\n",
    "        \"secao\": secao_dos_produtos,\n",
    "        \"custo\": custo_dos_produtos,\n",
    "        \"preco\": preco_produtos,\n",
    "        \"prateleira\": prateleira_dos_produtos,\n",
    "        \"estoque\": estoque_produtos,\n",
    "        \"unidade_de_medida_de_estoque\": unidade_de_medida_estoque,\n",
    "        \"imagem\": imagem\n",
    "    }\n",
    "\n",
    "    produtos = pd.DataFrame(produtos)\n",
    "\n",
    "    # Tabela de clientes\n",
    "    clientes = {\n",
    "        'id': list(range(quantidade_de_clientes)),\n",
    "        'nome': [],\n",
    "        'nascimento': [],\n",
    "        'endereco':[],\n",
    "        'cpf': [],\n",
    "        'telefone': [],\n",
    "        'usuario': [],\n",
    "        'senha': []\n",
    "    }\n",
    "\n",
    "    for id in clientes['id']:\n",
    "        clientes['nome'].append(fake.name())\n",
    "        clientes['nascimento'].append(fake.date_of_birth(minimum_age = 18, maximum_age = 73))\n",
    "        clientes['endereco'].append(fake.address())\n",
    "        clientes['cpf'].append(fake.cpf())\n",
    "        clientes['telefone'].append(fake.phone_number())\n",
    "        clientes['usuario'].append(fake.user_name())\n",
    "        clientes['senha'].append(fake.password(12))\n",
    "    \n",
    "    clientes = pd.DataFrame(clientes)\n",
    "\n",
    "    # Tabela de vendas\n",
    "    datas = np.arange(np.datetime64('2021-11-01'), np.datetime64('2021-12-01'))\n",
    "    probabilidade = np.linspace(1, 2, num=datas.size)\n",
    "    probabilidade = probabilidade / probabilidade.sum()\n",
    "    datas = np.random.choice(datas, p=probabilidade, size=quantidade_de_vendas)\n",
    "    datas.sort()\n",
    "    vendas = {\n",
    "        'id' : [],\n",
    "        'id_clientes' : [],\n",
    "        'data' : []\n",
    "    }\n",
    "    for id, data in enumerate(datas):\n",
    "        vendas['id'].append(id)\n",
    "        vendas['id_clientes'].append(np.random.choice(clientes['id']))\n",
    "        vendas['data'].append(data)\n",
    "\n",
    "    vendas = pd.DataFrame(vendas)\n",
    "    vendas[\"data\"] = vendas[\"data\"].dt.strftime('%Y-%m-%d')\n",
    "\n",
    "    # Tabela intermediária entre vendas e produtos\n",
    "    venda_produtos = {\n",
    "        'id_vendas' : [],\n",
    "        'id_produtos' : [],\n",
    "        'quantidade' : []\n",
    "    }\n",
    "\n",
    "    for id in range(quantidade_de_vendas):\n",
    "        venda_produtos['id_vendas'].append(vendas['id'][id])\n",
    "        venda_produtos['id_produtos'].append(np.random.choice(produtos['id']))\n",
    "        venda_produtos['quantidade'].append(random.randint(1, 5))\n",
    "\n",
    "    for id in range(4 * quantidade_de_vendas):\n",
    "        venda_produtos['id_vendas'].append(np.random.choice(clientes['id']))\n",
    "        venda_produtos['id_produtos'].append(np.random.choice(produtos['id']))\n",
    "        venda_produtos['quantidade'].append(random.randint(1, 5))\n",
    "\n",
    "    venda_produtos = pd.DataFrame(venda_produtos)\n",
    "    \n",
    "    return (produtos,clientes,vendas,venda_produtos)\n",
    "\n",
    "dados = gerar_dados()\n",
    "produtos = dados[0]\n",
    "clientes = dados[1]\n",
    "vendas = dados[2]\n",
    "venda_produtos = dados[3]"
   ]
  },
  {
   "cell_type": "markdown",
   "id": "972ecad5",
   "metadata": {},
   "source": [
    "## Tabelas"
   ]
  },
  {
   "cell_type": "code",
   "execution_count": 79,
   "id": "1615750f",
   "metadata": {},
   "outputs": [],
   "source": [
    "p = gerar_dados(quantidade_de_vendas = 500, quantidade_de_clientes = 200)"
   ]
  },
  {
   "cell_type": "code",
   "execution_count": 80,
   "id": "5b81954a",
   "metadata": {},
   "outputs": [
    {
     "data": {
      "text/html": [
       "<div>\n",
       "<style scoped>\n",
       "    .dataframe tbody tr th:only-of-type {\n",
       "        vertical-align: middle;\n",
       "    }\n",
       "\n",
       "    .dataframe tbody tr th {\n",
       "        vertical-align: top;\n",
       "    }\n",
       "\n",
       "    .dataframe thead th {\n",
       "        text-align: right;\n",
       "    }\n",
       "</style>\n",
       "<table border=\"1\" class=\"dataframe\">\n",
       "  <thead>\n",
       "    <tr style=\"text-align: right;\">\n",
       "      <th></th>\n",
       "      <th>id_produtos</th>\n",
       "      <th>nome</th>\n",
       "      <th>secao</th>\n",
       "      <th>custo</th>\n",
       "      <th>preco</th>\n",
       "      <th>prateleira</th>\n",
       "      <th>estoque</th>\n",
       "      <th>unidade_de_medida_de_estoque</th>\n",
       "      <th>imagem</th>\n",
       "    </tr>\n",
       "  </thead>\n",
       "  <tbody>\n",
       "    <tr>\n",
       "      <th>0</th>\n",
       "      <td>0</td>\n",
       "      <td>morango</td>\n",
       "      <td>Alimentos em Geral</td>\n",
       "      <td>4.30</td>\n",
       "      <td>7.99</td>\n",
       "      <td>1A</td>\n",
       "      <td>50</td>\n",
       "      <td>bandeja</td>\n",
       "      <td>morango-alt.png</td>\n",
       "    </tr>\n",
       "    <tr>\n",
       "      <th>1</th>\n",
       "      <td>1</td>\n",
       "      <td>melancia</td>\n",
       "      <td>Alimentos em Geral</td>\n",
       "      <td>11.79</td>\n",
       "      <td>15.99</td>\n",
       "      <td>1C</td>\n",
       "      <td>20</td>\n",
       "      <td>unidade</td>\n",
       "      <td>melancia.jpg</td>\n",
       "    </tr>\n",
       "    <tr>\n",
       "      <th>2</th>\n",
       "      <td>2</td>\n",
       "      <td>banana</td>\n",
       "      <td>Alimentos em Geral</td>\n",
       "      <td>2.00</td>\n",
       "      <td>5.99</td>\n",
       "      <td>1B</td>\n",
       "      <td>40</td>\n",
       "      <td>kg</td>\n",
       "      <td>banana.png</td>\n",
       "    </tr>\n",
       "    <tr>\n",
       "      <th>3</th>\n",
       "      <td>3</td>\n",
       "      <td>uva</td>\n",
       "      <td>Alimentos em Geral</td>\n",
       "      <td>4.19</td>\n",
       "      <td>7.47</td>\n",
       "      <td>1D</td>\n",
       "      <td>36</td>\n",
       "      <td>bandeja</td>\n",
       "      <td>uva-alt.png</td>\n",
       "    </tr>\n",
       "    <tr>\n",
       "      <th>4</th>\n",
       "      <td>4</td>\n",
       "      <td>batata</td>\n",
       "      <td>Alimentos em Geral</td>\n",
       "      <td>2.39</td>\n",
       "      <td>3.99</td>\n",
       "      <td>2B</td>\n",
       "      <td>47</td>\n",
       "      <td>kg</td>\n",
       "      <td>batata.JPEG</td>\n",
       "    </tr>\n",
       "    <tr>\n",
       "      <th>5</th>\n",
       "      <td>5</td>\n",
       "      <td>berinjela</td>\n",
       "      <td>Alimentos em Geral</td>\n",
       "      <td>8.59</td>\n",
       "      <td>11.99</td>\n",
       "      <td>2D</td>\n",
       "      <td>12</td>\n",
       "      <td>kg</td>\n",
       "      <td>beringela.jpg</td>\n",
       "    </tr>\n",
       "    <tr>\n",
       "      <th>6</th>\n",
       "      <td>6</td>\n",
       "      <td>abobrinha</td>\n",
       "      <td>Alimentos em Geral</td>\n",
       "      <td>2.69</td>\n",
       "      <td>3.49</td>\n",
       "      <td>2A</td>\n",
       "      <td>19</td>\n",
       "      <td>kg</td>\n",
       "      <td>abobrinha.JPEG</td>\n",
       "    </tr>\n",
       "    <tr>\n",
       "      <th>7</th>\n",
       "      <td>7</td>\n",
       "      <td>alface</td>\n",
       "      <td>Alimentos em Geral</td>\n",
       "      <td>0.45</td>\n",
       "      <td>0.98</td>\n",
       "      <td>2C</td>\n",
       "      <td>25</td>\n",
       "      <td>pé</td>\n",
       "      <td>alface.png</td>\n",
       "    </tr>\n",
       "    <tr>\n",
       "      <th>8</th>\n",
       "      <td>8</td>\n",
       "      <td>couve-flor</td>\n",
       "      <td>Alimentos em Geral</td>\n",
       "      <td>3.19</td>\n",
       "      <td>5.48</td>\n",
       "      <td>2E</td>\n",
       "      <td>20</td>\n",
       "      <td>pé</td>\n",
       "      <td>couve-flor.png</td>\n",
       "    </tr>\n",
       "    <tr>\n",
       "      <th>9</th>\n",
       "      <td>9</td>\n",
       "      <td>feijão</td>\n",
       "      <td>Alimentos em Geral</td>\n",
       "      <td>6.49</td>\n",
       "      <td>8.45</td>\n",
       "      <td>3B</td>\n",
       "      <td>43</td>\n",
       "      <td>kg</td>\n",
       "      <td>feijao.png</td>\n",
       "    </tr>\n",
       "    <tr>\n",
       "      <th>10</th>\n",
       "      <td>10</td>\n",
       "      <td>arroz</td>\n",
       "      <td>Alimentos em Geral</td>\n",
       "      <td>15.89</td>\n",
       "      <td>4.31</td>\n",
       "      <td>3A</td>\n",
       "      <td>80</td>\n",
       "      <td>kg</td>\n",
       "      <td>arroz.png</td>\n",
       "    </tr>\n",
       "    <tr>\n",
       "      <th>11</th>\n",
       "      <td>11</td>\n",
       "      <td>macarrão</td>\n",
       "      <td>Alimentos em Geral</td>\n",
       "      <td>1.69</td>\n",
       "      <td>2.48</td>\n",
       "      <td>3C</td>\n",
       "      <td>38</td>\n",
       "      <td>pacote</td>\n",
       "      <td>macarrao.jpg</td>\n",
       "    </tr>\n",
       "    <tr>\n",
       "      <th>12</th>\n",
       "      <td>12</td>\n",
       "      <td>alcatra</td>\n",
       "      <td>Açougue</td>\n",
       "      <td>23.19</td>\n",
       "      <td>31.99</td>\n",
       "      <td>4A</td>\n",
       "      <td>7</td>\n",
       "      <td>kg</td>\n",
       "      <td>alcatra.jpg</td>\n",
       "    </tr>\n",
       "    <tr>\n",
       "      <th>13</th>\n",
       "      <td>13</td>\n",
       "      <td>maminha</td>\n",
       "      <td>Açougue</td>\n",
       "      <td>33.49</td>\n",
       "      <td>42.99</td>\n",
       "      <td>4B</td>\n",
       "      <td>9</td>\n",
       "      <td>kg</td>\n",
       "      <td>maminha.jpg</td>\n",
       "    </tr>\n",
       "    <tr>\n",
       "      <th>14</th>\n",
       "      <td>14</td>\n",
       "      <td>bisteca suína</td>\n",
       "      <td>Açougue</td>\n",
       "      <td>15.73</td>\n",
       "      <td>22.79</td>\n",
       "      <td>5A</td>\n",
       "      <td>5</td>\n",
       "      <td>kg</td>\n",
       "      <td>bisteca_suina.jpg</td>\n",
       "    </tr>\n",
       "    <tr>\n",
       "      <th>15</th>\n",
       "      <td>15</td>\n",
       "      <td>carré de cordeiro</td>\n",
       "      <td>Açougue</td>\n",
       "      <td>147.99</td>\n",
       "      <td>172.00</td>\n",
       "      <td>5B</td>\n",
       "      <td>5</td>\n",
       "      <td>kg</td>\n",
       "      <td>carre_de_cordeiro.jpg</td>\n",
       "    </tr>\n",
       "    <tr>\n",
       "      <th>16</th>\n",
       "      <td>16</td>\n",
       "      <td>costela</td>\n",
       "      <td>Açougue</td>\n",
       "      <td>16.39</td>\n",
       "      <td>20.99</td>\n",
       "      <td>5C</td>\n",
       "      <td>10</td>\n",
       "      <td>kg</td>\n",
       "      <td>costela.jpg</td>\n",
       "    </tr>\n",
       "    <tr>\n",
       "      <th>17</th>\n",
       "      <td>17</td>\n",
       "      <td>paleta suína</td>\n",
       "      <td>Açougue</td>\n",
       "      <td>17.09</td>\n",
       "      <td>23.99</td>\n",
       "      <td>5D</td>\n",
       "      <td>9</td>\n",
       "      <td>kg</td>\n",
       "      <td>paleta_suina.jpg</td>\n",
       "    </tr>\n",
       "    <tr>\n",
       "      <th>18</th>\n",
       "      <td>18</td>\n",
       "      <td>picanha</td>\n",
       "      <td>Açougue</td>\n",
       "      <td>43.35</td>\n",
       "      <td>70.89</td>\n",
       "      <td>4C</td>\n",
       "      <td>6</td>\n",
       "      <td>kg</td>\n",
       "      <td>picanha.jpg</td>\n",
       "    </tr>\n",
       "    <tr>\n",
       "      <th>19</th>\n",
       "      <td>19</td>\n",
       "      <td>peito de frango</td>\n",
       "      <td>Açougue</td>\n",
       "      <td>11.19</td>\n",
       "      <td>16.49</td>\n",
       "      <td>4D</td>\n",
       "      <td>10</td>\n",
       "      <td>kg</td>\n",
       "      <td>peito_de_frango.jpg</td>\n",
       "    </tr>\n",
       "    <tr>\n",
       "      <th>20</th>\n",
       "      <td>20</td>\n",
       "      <td>bolo</td>\n",
       "      <td>Padaria</td>\n",
       "      <td>17.89</td>\n",
       "      <td>35.00</td>\n",
       "      <td>6A</td>\n",
       "      <td>7</td>\n",
       "      <td>kg</td>\n",
       "      <td>bolo.jpg</td>\n",
       "    </tr>\n",
       "    <tr>\n",
       "      <th>21</th>\n",
       "      <td>21</td>\n",
       "      <td>pão de forma</td>\n",
       "      <td>Padaria</td>\n",
       "      <td>3.73</td>\n",
       "      <td>6.99</td>\n",
       "      <td>7A</td>\n",
       "      <td>15</td>\n",
       "      <td>pacote</td>\n",
       "      <td>pao_de_forma.jpg</td>\n",
       "    </tr>\n",
       "    <tr>\n",
       "      <th>22</th>\n",
       "      <td>22</td>\n",
       "      <td>pão de queijo</td>\n",
       "      <td>Padaria</td>\n",
       "      <td>17.04</td>\n",
       "      <td>23.99</td>\n",
       "      <td>7B</td>\n",
       "      <td>1</td>\n",
       "      <td>kg</td>\n",
       "      <td>pao_de_queijo.jpg</td>\n",
       "    </tr>\n",
       "    <tr>\n",
       "      <th>23</th>\n",
       "      <td>23</td>\n",
       "      <td>pão francês</td>\n",
       "      <td>Padaria</td>\n",
       "      <td>4.39</td>\n",
       "      <td>10.99</td>\n",
       "      <td>7C</td>\n",
       "      <td>3</td>\n",
       "      <td>kg</td>\n",
       "      <td>pao_frances.jpg</td>\n",
       "    </tr>\n",
       "    <tr>\n",
       "      <th>24</th>\n",
       "      <td>24</td>\n",
       "      <td>pastel</td>\n",
       "      <td>Padaria</td>\n",
       "      <td>3.19</td>\n",
       "      <td>4.99</td>\n",
       "      <td>7D</td>\n",
       "      <td>9</td>\n",
       "      <td>unidade</td>\n",
       "      <td>pastel.jpg</td>\n",
       "    </tr>\n",
       "    <tr>\n",
       "      <th>25</th>\n",
       "      <td>25</td>\n",
       "      <td>sanduíche</td>\n",
       "      <td>Padaria</td>\n",
       "      <td>7.99</td>\n",
       "      <td>12.99</td>\n",
       "      <td>7E</td>\n",
       "      <td>15</td>\n",
       "      <td>unidade</td>\n",
       "      <td>sanduiche.jpg</td>\n",
       "    </tr>\n",
       "    <tr>\n",
       "      <th>26</th>\n",
       "      <td>26</td>\n",
       "      <td>sonho</td>\n",
       "      <td>Padaria</td>\n",
       "      <td>1.79</td>\n",
       "      <td>3.49</td>\n",
       "      <td>6B</td>\n",
       "      <td>20</td>\n",
       "      <td>unidade</td>\n",
       "      <td>sonho.jpg</td>\n",
       "    </tr>\n",
       "    <tr>\n",
       "      <th>27</th>\n",
       "      <td>27</td>\n",
       "      <td>torta</td>\n",
       "      <td>Padaria</td>\n",
       "      <td>26.95</td>\n",
       "      <td>45.00</td>\n",
       "      <td>6C</td>\n",
       "      <td>7</td>\n",
       "      <td>kg</td>\n",
       "      <td>torta.jpg</td>\n",
       "    </tr>\n",
       "    <tr>\n",
       "      <th>28</th>\n",
       "      <td>28</td>\n",
       "      <td>amaciante</td>\n",
       "      <td>Produtos de Limpeza</td>\n",
       "      <td>5.19</td>\n",
       "      <td>6.70</td>\n",
       "      <td>8A</td>\n",
       "      <td>12</td>\n",
       "      <td>unidade</td>\n",
       "      <td>amaciante.jpg</td>\n",
       "    </tr>\n",
       "    <tr>\n",
       "      <th>29</th>\n",
       "      <td>29</td>\n",
       "      <td>água sanitária</td>\n",
       "      <td>Produtos de Limpeza</td>\n",
       "      <td>7.96</td>\n",
       "      <td>11.98</td>\n",
       "      <td>8B</td>\n",
       "      <td>8</td>\n",
       "      <td>unidade</td>\n",
       "      <td>agua_sanitaria.jpg</td>\n",
       "    </tr>\n",
       "    <tr>\n",
       "      <th>30</th>\n",
       "      <td>30</td>\n",
       "      <td>detergente</td>\n",
       "      <td>Produtos de Limpeza</td>\n",
       "      <td>1.30</td>\n",
       "      <td>2.70</td>\n",
       "      <td>8C</td>\n",
       "      <td>40</td>\n",
       "      <td>unidade</td>\n",
       "      <td>detergente.jpg</td>\n",
       "    </tr>\n",
       "    <tr>\n",
       "      <th>31</th>\n",
       "      <td>31</td>\n",
       "      <td>flanela</td>\n",
       "      <td>Produtos de Limpeza</td>\n",
       "      <td>0.59</td>\n",
       "      <td>1.99</td>\n",
       "      <td>9A</td>\n",
       "      <td>32</td>\n",
       "      <td>unidade</td>\n",
       "      <td>flanela.jpg</td>\n",
       "    </tr>\n",
       "    <tr>\n",
       "      <th>32</th>\n",
       "      <td>32</td>\n",
       "      <td>odorizador</td>\n",
       "      <td>Produtos de Limpeza</td>\n",
       "      <td>14.38</td>\n",
       "      <td>23.99</td>\n",
       "      <td>9B</td>\n",
       "      <td>6</td>\n",
       "      <td>unidade</td>\n",
       "      <td>odorizador.jpg</td>\n",
       "    </tr>\n",
       "    <tr>\n",
       "      <th>33</th>\n",
       "      <td>33</td>\n",
       "      <td>rodo</td>\n",
       "      <td>Produtos de Limpeza</td>\n",
       "      <td>2.74</td>\n",
       "      <td>5.99</td>\n",
       "      <td>9C</td>\n",
       "      <td>10</td>\n",
       "      <td>unidade</td>\n",
       "      <td>rodo.jpg</td>\n",
       "    </tr>\n",
       "    <tr>\n",
       "      <th>34</th>\n",
       "      <td>34</td>\n",
       "      <td>sabão em pó</td>\n",
       "      <td>Produtos de Limpeza</td>\n",
       "      <td>6.15</td>\n",
       "      <td>9.69</td>\n",
       "      <td>8D</td>\n",
       "      <td>13</td>\n",
       "      <td>unidade</td>\n",
       "      <td>sabao_em_po.jpg</td>\n",
       "    </tr>\n",
       "    <tr>\n",
       "      <th>35</th>\n",
       "      <td>35</td>\n",
       "      <td>sabonete</td>\n",
       "      <td>Produtos de Limpeza</td>\n",
       "      <td>0.65</td>\n",
       "      <td>1.29</td>\n",
       "      <td>9D</td>\n",
       "      <td>58</td>\n",
       "      <td>unidade</td>\n",
       "      <td>sabonete.jpg</td>\n",
       "    </tr>\n",
       "  </tbody>\n",
       "</table>\n",
       "</div>"
      ],
      "text/plain": [
       "    id_produtos               nome                secao   custo   preco  \\\n",
       "0             0            morango   Alimentos em Geral    4.30    7.99   \n",
       "1             1           melancia   Alimentos em Geral   11.79   15.99   \n",
       "2             2             banana   Alimentos em Geral    2.00    5.99   \n",
       "3             3                uva   Alimentos em Geral    4.19    7.47   \n",
       "4             4             batata   Alimentos em Geral    2.39    3.99   \n",
       "5             5          berinjela   Alimentos em Geral    8.59   11.99   \n",
       "6             6          abobrinha   Alimentos em Geral    2.69    3.49   \n",
       "7             7             alface   Alimentos em Geral    0.45    0.98   \n",
       "8             8         couve-flor   Alimentos em Geral    3.19    5.48   \n",
       "9             9             feijão   Alimentos em Geral    6.49    8.45   \n",
       "10           10              arroz   Alimentos em Geral   15.89    4.31   \n",
       "11           11           macarrão   Alimentos em Geral    1.69    2.48   \n",
       "12           12            alcatra              Açougue   23.19   31.99   \n",
       "13           13            maminha              Açougue   33.49   42.99   \n",
       "14           14      bisteca suína              Açougue   15.73   22.79   \n",
       "15           15  carré de cordeiro              Açougue  147.99  172.00   \n",
       "16           16            costela              Açougue   16.39   20.99   \n",
       "17           17       paleta suína              Açougue   17.09   23.99   \n",
       "18           18            picanha              Açougue   43.35   70.89   \n",
       "19           19    peito de frango              Açougue   11.19   16.49   \n",
       "20           20               bolo              Padaria   17.89   35.00   \n",
       "21           21       pão de forma              Padaria    3.73    6.99   \n",
       "22           22      pão de queijo              Padaria   17.04   23.99   \n",
       "23           23        pão francês              Padaria    4.39   10.99   \n",
       "24           24             pastel              Padaria    3.19    4.99   \n",
       "25           25          sanduíche              Padaria    7.99   12.99   \n",
       "26           26              sonho              Padaria    1.79    3.49   \n",
       "27           27              torta              Padaria   26.95   45.00   \n",
       "28           28          amaciante  Produtos de Limpeza    5.19    6.70   \n",
       "29           29     água sanitária  Produtos de Limpeza    7.96   11.98   \n",
       "30           30         detergente  Produtos de Limpeza    1.30    2.70   \n",
       "31           31            flanela  Produtos de Limpeza    0.59    1.99   \n",
       "32           32         odorizador  Produtos de Limpeza   14.38   23.99   \n",
       "33           33               rodo  Produtos de Limpeza    2.74    5.99   \n",
       "34           34        sabão em pó  Produtos de Limpeza    6.15    9.69   \n",
       "35           35           sabonete  Produtos de Limpeza    0.65    1.29   \n",
       "\n",
       "   prateleira  estoque unidade_de_medida_de_estoque                 imagem  \n",
       "0          1A       50                      bandeja        morango-alt.png  \n",
       "1          1C       20                      unidade           melancia.jpg  \n",
       "2          1B       40                           kg             banana.png  \n",
       "3          1D       36                      bandeja            uva-alt.png  \n",
       "4          2B       47                           kg            batata.JPEG  \n",
       "5          2D       12                           kg          beringela.jpg  \n",
       "6          2A       19                           kg         abobrinha.JPEG  \n",
       "7          2C       25                           pé             alface.png  \n",
       "8          2E       20                           pé         couve-flor.png  \n",
       "9          3B       43                           kg             feijao.png  \n",
       "10         3A       80                           kg              arroz.png  \n",
       "11         3C       38                       pacote           macarrao.jpg  \n",
       "12         4A        7                           kg            alcatra.jpg  \n",
       "13         4B        9                           kg            maminha.jpg  \n",
       "14         5A        5                           kg      bisteca_suina.jpg  \n",
       "15         5B        5                           kg  carre_de_cordeiro.jpg  \n",
       "16         5C       10                           kg            costela.jpg  \n",
       "17         5D        9                           kg       paleta_suina.jpg  \n",
       "18         4C        6                           kg            picanha.jpg  \n",
       "19         4D       10                           kg    peito_de_frango.jpg  \n",
       "20         6A        7                           kg               bolo.jpg  \n",
       "21         7A       15                       pacote       pao_de_forma.jpg  \n",
       "22         7B        1                           kg      pao_de_queijo.jpg  \n",
       "23         7C        3                           kg        pao_frances.jpg  \n",
       "24         7D        9                      unidade             pastel.jpg  \n",
       "25         7E       15                      unidade          sanduiche.jpg  \n",
       "26         6B       20                      unidade              sonho.jpg  \n",
       "27         6C        7                           kg              torta.jpg  \n",
       "28         8A       12                      unidade          amaciante.jpg  \n",
       "29         8B        8                      unidade     agua_sanitaria.jpg  \n",
       "30         8C       40                      unidade         detergente.jpg  \n",
       "31         9A       32                      unidade            flanela.jpg  \n",
       "32         9B        6                      unidade         odorizador.jpg  \n",
       "33         9C       10                      unidade               rodo.jpg  \n",
       "34         8D       13                      unidade        sabao_em_po.jpg  \n",
       "35         9D       58                      unidade           sabonete.jpg  "
      ]
     },
     "execution_count": 80,
     "metadata": {},
     "output_type": "execute_result"
    }
   ],
   "source": [
    "produtos=p[0]\n",
    "#renomenado a coluna id para id produto na tabela de produtos\n",
    "produtos.rename(columns={\"id\": \"id_produtos\"}, inplace = 1)\n",
    "produtos[\"secao\"].replace({\"frutas_e_verduras\":\"Alimentos em Geral\", \"acougue\": \"Açougue\", \"padaria\":\"Padaria\", \"produtos_de_limpeza\": \"Produtos de Limpeza\"}, inplace=True)\n",
    "produtos"
   ]
  },
  {
   "cell_type": "code",
   "execution_count": 81,
   "id": "b77c2dab",
   "metadata": {},
   "outputs": [
    {
     "data": {
      "text/html": [
       "<div>\n",
       "<style scoped>\n",
       "    .dataframe tbody tr th:only-of-type {\n",
       "        vertical-align: middle;\n",
       "    }\n",
       "\n",
       "    .dataframe tbody tr th {\n",
       "        vertical-align: top;\n",
       "    }\n",
       "\n",
       "    .dataframe thead th {\n",
       "        text-align: right;\n",
       "    }\n",
       "</style>\n",
       "<table border=\"1\" class=\"dataframe\">\n",
       "  <thead>\n",
       "    <tr style=\"text-align: right;\">\n",
       "      <th></th>\n",
       "      <th>id_clientes</th>\n",
       "      <th>nome_cliente</th>\n",
       "      <th>nascimento</th>\n",
       "      <th>endereco</th>\n",
       "      <th>cpf</th>\n",
       "      <th>telefone</th>\n",
       "      <th>usuario</th>\n",
       "      <th>senha</th>\n",
       "    </tr>\n",
       "  </thead>\n",
       "  <tbody>\n",
       "    <tr>\n",
       "      <th>0</th>\n",
       "      <td>0</td>\n",
       "      <td>Samuel Farias</td>\n",
       "      <td>1962-04-12</td>\n",
       "      <td>Setor Gabrielly Nascimento, 706\\nBarroca\\n2143...</td>\n",
       "      <td>743.285.901-97</td>\n",
       "      <td>+55 (081) 7834 8850</td>\n",
       "      <td>yoliveira</td>\n",
       "      <td>2S%Rzhzc6#7*</td>\n",
       "    </tr>\n",
       "    <tr>\n",
       "      <th>1</th>\n",
       "      <td>1</td>\n",
       "      <td>Emilly Vieira</td>\n",
       "      <td>1982-12-09</td>\n",
       "      <td>Recanto de Moura\\nSão Cristóvão\\n62562733 Jesu...</td>\n",
       "      <td>148.652.937-28</td>\n",
       "      <td>+55 (084) 8178-4114</td>\n",
       "      <td>da-matafelipe</td>\n",
       "      <td>zlpr$Zrvp*7)</td>\n",
       "    </tr>\n",
       "    <tr>\n",
       "      <th>2</th>\n",
       "      <td>2</td>\n",
       "      <td>Vicente da Paz</td>\n",
       "      <td>1995-01-22</td>\n",
       "      <td>Avenida de Almeida, 354\\nNovo Glória\\n70376955...</td>\n",
       "      <td>196.507.348-48</td>\n",
       "      <td>+55 (011) 0780 8098</td>\n",
       "      <td>ana-juliamoura</td>\n",
       "      <td>)ACNCHumcLe0</td>\n",
       "    </tr>\n",
       "    <tr>\n",
       "      <th>3</th>\n",
       "      <td>3</td>\n",
       "      <td>Sra. Alícia da Rocha</td>\n",
       "      <td>1964-08-26</td>\n",
       "      <td>Conjunto de Teixeira, 59\\nVila Independencia 3...</td>\n",
       "      <td>628.709.135-59</td>\n",
       "      <td>+55 (051) 5155 0730</td>\n",
       "      <td>lopesryan</td>\n",
       "      <td>@%3pXsjVqajN</td>\n",
       "    </tr>\n",
       "    <tr>\n",
       "      <th>4</th>\n",
       "      <td>4</td>\n",
       "      <td>Marina Costa</td>\n",
       "      <td>1972-11-03</td>\n",
       "      <td>Estrada Manuela Nogueira, 22\\nOutro\\n66669191 ...</td>\n",
       "      <td>742.691.085-76</td>\n",
       "      <td>0500-044-3310</td>\n",
       "      <td>leandroda-rocha</td>\n",
       "      <td>*zKtN$6yd6$W</td>\n",
       "    </tr>\n",
       "    <tr>\n",
       "      <th>...</th>\n",
       "      <td>...</td>\n",
       "      <td>...</td>\n",
       "      <td>...</td>\n",
       "      <td>...</td>\n",
       "      <td>...</td>\n",
       "      <td>...</td>\n",
       "      <td>...</td>\n",
       "      <td>...</td>\n",
       "    </tr>\n",
       "    <tr>\n",
       "      <th>195</th>\n",
       "      <td>195</td>\n",
       "      <td>Elisa Ribeiro</td>\n",
       "      <td>1964-07-16</td>\n",
       "      <td>Viela Moraes, 896\\nOuro Preto\\n65198175 da Cru...</td>\n",
       "      <td>584.169.207-02</td>\n",
       "      <td>+55 (071) 4113 2177</td>\n",
       "      <td>luiz-henriquecardoso</td>\n",
       "      <td>j06RkGsQ&amp;DdY</td>\n",
       "    </tr>\n",
       "    <tr>\n",
       "      <th>196</th>\n",
       "      <td>196</td>\n",
       "      <td>Ryan Gonçalves</td>\n",
       "      <td>1951-10-26</td>\n",
       "      <td>Colônia Vicente Costa, 329\\nVarzea Da Palma\\n5...</td>\n",
       "      <td>372.901.458-79</td>\n",
       "      <td>71 2171 4656</td>\n",
       "      <td>nunesbenicio</td>\n",
       "      <td>_vFSbqWuLf^0</td>\n",
       "    </tr>\n",
       "    <tr>\n",
       "      <th>197</th>\n",
       "      <td>197</td>\n",
       "      <td>Sr. Nathan Sales</td>\n",
       "      <td>1953-04-08</td>\n",
       "      <td>Trecho Caldeira, 4\\nGlória\\n60313651 Moreira d...</td>\n",
       "      <td>954.130.678-01</td>\n",
       "      <td>0300-063-5001</td>\n",
       "      <td>manuelavieira</td>\n",
       "      <td>16ZNbVgU+TBq</td>\n",
       "    </tr>\n",
       "    <tr>\n",
       "      <th>198</th>\n",
       "      <td>198</td>\n",
       "      <td>Sr. Luiz Otávio Fernandes</td>\n",
       "      <td>1957-11-27</td>\n",
       "      <td>Recanto de Ramos, 288\\nCenaculo\\n22717130 Cost...</td>\n",
       "      <td>621.734.890-03</td>\n",
       "      <td>31 1548 2868</td>\n",
       "      <td>nbarbosa</td>\n",
       "      <td>&amp;Ap8Yss3dTO%</td>\n",
       "    </tr>\n",
       "    <tr>\n",
       "      <th>199</th>\n",
       "      <td>199</td>\n",
       "      <td>Henrique Viana</td>\n",
       "      <td>2000-10-15</td>\n",
       "      <td>Aeroporto de da Cruz, 243\\nErmelinda\\n14126-86...</td>\n",
       "      <td>698.420.153-51</td>\n",
       "      <td>21 0578 7454</td>\n",
       "      <td>almeidamaria-sophia</td>\n",
       "      <td>WdUWm_g*9)9X</td>\n",
       "    </tr>\n",
       "  </tbody>\n",
       "</table>\n",
       "<p>200 rows × 8 columns</p>\n",
       "</div>"
      ],
      "text/plain": [
       "     id_clientes               nome_cliente  nascimento  \\\n",
       "0              0              Samuel Farias  1962-04-12   \n",
       "1              1              Emilly Vieira  1982-12-09   \n",
       "2              2             Vicente da Paz  1995-01-22   \n",
       "3              3       Sra. Alícia da Rocha  1964-08-26   \n",
       "4              4               Marina Costa  1972-11-03   \n",
       "..           ...                        ...         ...   \n",
       "195          195              Elisa Ribeiro  1964-07-16   \n",
       "196          196             Ryan Gonçalves  1951-10-26   \n",
       "197          197           Sr. Nathan Sales  1953-04-08   \n",
       "198          198  Sr. Luiz Otávio Fernandes  1957-11-27   \n",
       "199          199             Henrique Viana  2000-10-15   \n",
       "\n",
       "                                              endereco             cpf  \\\n",
       "0    Setor Gabrielly Nascimento, 706\\nBarroca\\n2143...  743.285.901-97   \n",
       "1    Recanto de Moura\\nSão Cristóvão\\n62562733 Jesu...  148.652.937-28   \n",
       "2    Avenida de Almeida, 354\\nNovo Glória\\n70376955...  196.507.348-48   \n",
       "3    Conjunto de Teixeira, 59\\nVila Independencia 3...  628.709.135-59   \n",
       "4    Estrada Manuela Nogueira, 22\\nOutro\\n66669191 ...  742.691.085-76   \n",
       "..                                                 ...             ...   \n",
       "195  Viela Moraes, 896\\nOuro Preto\\n65198175 da Cru...  584.169.207-02   \n",
       "196  Colônia Vicente Costa, 329\\nVarzea Da Palma\\n5...  372.901.458-79   \n",
       "197  Trecho Caldeira, 4\\nGlória\\n60313651 Moreira d...  954.130.678-01   \n",
       "198  Recanto de Ramos, 288\\nCenaculo\\n22717130 Cost...  621.734.890-03   \n",
       "199  Aeroporto de da Cruz, 243\\nErmelinda\\n14126-86...  698.420.153-51   \n",
       "\n",
       "                telefone               usuario         senha  \n",
       "0    +55 (081) 7834 8850             yoliveira  2S%Rzhzc6#7*  \n",
       "1    +55 (084) 8178-4114         da-matafelipe  zlpr$Zrvp*7)  \n",
       "2    +55 (011) 0780 8098        ana-juliamoura  )ACNCHumcLe0  \n",
       "3    +55 (051) 5155 0730             lopesryan  @%3pXsjVqajN  \n",
       "4          0500-044-3310       leandroda-rocha  *zKtN$6yd6$W  \n",
       "..                   ...                   ...           ...  \n",
       "195  +55 (071) 4113 2177  luiz-henriquecardoso  j06RkGsQ&DdY  \n",
       "196         71 2171 4656          nunesbenicio  _vFSbqWuLf^0  \n",
       "197        0300-063-5001         manuelavieira  16ZNbVgU+TBq  \n",
       "198         31 1548 2868              nbarbosa  &Ap8Yss3dTO%  \n",
       "199         21 0578 7454   almeidamaria-sophia  WdUWm_g*9)9X  \n",
       "\n",
       "[200 rows x 8 columns]"
      ]
     },
     "execution_count": 81,
     "metadata": {},
     "output_type": "execute_result"
    }
   ],
   "source": [
    "clientes=p[1]\n",
    "#renomenado a coluna id para id_cliente na tabela de clientes\n",
    "clientes.rename(columns={\"id\": \"id_clientes\"}, inplace = 1)\n",
    "#renomenado a coluna nome para nome_cliente na tabela de clientes\n",
    "clientes.rename(columns={\"nome\": \"nome_cliente\"}, inplace = 1)\n",
    "clientes"
   ]
  },
  {
   "cell_type": "code",
   "execution_count": 82,
   "id": "c549b3fe",
   "metadata": {},
   "outputs": [
    {
     "data": {
      "text/html": [
       "<div>\n",
       "<style scoped>\n",
       "    .dataframe tbody tr th:only-of-type {\n",
       "        vertical-align: middle;\n",
       "    }\n",
       "\n",
       "    .dataframe tbody tr th {\n",
       "        vertical-align: top;\n",
       "    }\n",
       "\n",
       "    .dataframe thead th {\n",
       "        text-align: right;\n",
       "    }\n",
       "</style>\n",
       "<table border=\"1\" class=\"dataframe\">\n",
       "  <thead>\n",
       "    <tr style=\"text-align: right;\">\n",
       "      <th></th>\n",
       "      <th>id_vendas</th>\n",
       "      <th>id_clientes</th>\n",
       "      <th>data</th>\n",
       "    </tr>\n",
       "  </thead>\n",
       "  <tbody>\n",
       "    <tr>\n",
       "      <th>0</th>\n",
       "      <td>0</td>\n",
       "      <td>112</td>\n",
       "      <td>2021-11-01</td>\n",
       "    </tr>\n",
       "    <tr>\n",
       "      <th>1</th>\n",
       "      <td>1</td>\n",
       "      <td>144</td>\n",
       "      <td>2021-11-01</td>\n",
       "    </tr>\n",
       "    <tr>\n",
       "      <th>2</th>\n",
       "      <td>2</td>\n",
       "      <td>79</td>\n",
       "      <td>2021-11-01</td>\n",
       "    </tr>\n",
       "    <tr>\n",
       "      <th>3</th>\n",
       "      <td>3</td>\n",
       "      <td>48</td>\n",
       "      <td>2021-11-01</td>\n",
       "    </tr>\n",
       "    <tr>\n",
       "      <th>4</th>\n",
       "      <td>4</td>\n",
       "      <td>130</td>\n",
       "      <td>2021-11-01</td>\n",
       "    </tr>\n",
       "    <tr>\n",
       "      <th>...</th>\n",
       "      <td>...</td>\n",
       "      <td>...</td>\n",
       "      <td>...</td>\n",
       "    </tr>\n",
       "    <tr>\n",
       "      <th>495</th>\n",
       "      <td>495</td>\n",
       "      <td>98</td>\n",
       "      <td>2021-11-30</td>\n",
       "    </tr>\n",
       "    <tr>\n",
       "      <th>496</th>\n",
       "      <td>496</td>\n",
       "      <td>134</td>\n",
       "      <td>2021-11-30</td>\n",
       "    </tr>\n",
       "    <tr>\n",
       "      <th>497</th>\n",
       "      <td>497</td>\n",
       "      <td>38</td>\n",
       "      <td>2021-11-30</td>\n",
       "    </tr>\n",
       "    <tr>\n",
       "      <th>498</th>\n",
       "      <td>498</td>\n",
       "      <td>86</td>\n",
       "      <td>2021-11-30</td>\n",
       "    </tr>\n",
       "    <tr>\n",
       "      <th>499</th>\n",
       "      <td>499</td>\n",
       "      <td>35</td>\n",
       "      <td>2021-11-30</td>\n",
       "    </tr>\n",
       "  </tbody>\n",
       "</table>\n",
       "<p>500 rows × 3 columns</p>\n",
       "</div>"
      ],
      "text/plain": [
       "     id_vendas  id_clientes        data\n",
       "0            0          112  2021-11-01\n",
       "1            1          144  2021-11-01\n",
       "2            2           79  2021-11-01\n",
       "3            3           48  2021-11-01\n",
       "4            4          130  2021-11-01\n",
       "..         ...          ...         ...\n",
       "495        495           98  2021-11-30\n",
       "496        496          134  2021-11-30\n",
       "497        497           38  2021-11-30\n",
       "498        498           86  2021-11-30\n",
       "499        499           35  2021-11-30\n",
       "\n",
       "[500 rows x 3 columns]"
      ]
     },
     "execution_count": 82,
     "metadata": {},
     "output_type": "execute_result"
    }
   ],
   "source": [
    "vendas=p[2]\n",
    "#renomenado a coluna id para id_vendas na tabela de vendas\n",
    "vendas.rename(columns={\"id\": \"id_vendas\"}, inplace = 1)\n",
    "vendas"
   ]
  },
  {
   "cell_type": "code",
   "execution_count": 83,
   "id": "b6987937",
   "metadata": {},
   "outputs": [
    {
     "data": {
      "text/html": [
       "<div>\n",
       "<style scoped>\n",
       "    .dataframe tbody tr th:only-of-type {\n",
       "        vertical-align: middle;\n",
       "    }\n",
       "\n",
       "    .dataframe tbody tr th {\n",
       "        vertical-align: top;\n",
       "    }\n",
       "\n",
       "    .dataframe thead th {\n",
       "        text-align: right;\n",
       "    }\n",
       "</style>\n",
       "<table border=\"1\" class=\"dataframe\">\n",
       "  <thead>\n",
       "    <tr style=\"text-align: right;\">\n",
       "      <th></th>\n",
       "      <th>id_vendas</th>\n",
       "      <th>id_produtos</th>\n",
       "      <th>quantidade</th>\n",
       "    </tr>\n",
       "  </thead>\n",
       "  <tbody>\n",
       "    <tr>\n",
       "      <th>0</th>\n",
       "      <td>0</td>\n",
       "      <td>0</td>\n",
       "      <td>1</td>\n",
       "    </tr>\n",
       "    <tr>\n",
       "      <th>1</th>\n",
       "      <td>1</td>\n",
       "      <td>28</td>\n",
       "      <td>4</td>\n",
       "    </tr>\n",
       "    <tr>\n",
       "      <th>2</th>\n",
       "      <td>2</td>\n",
       "      <td>21</td>\n",
       "      <td>1</td>\n",
       "    </tr>\n",
       "    <tr>\n",
       "      <th>3</th>\n",
       "      <td>3</td>\n",
       "      <td>2</td>\n",
       "      <td>2</td>\n",
       "    </tr>\n",
       "    <tr>\n",
       "      <th>4</th>\n",
       "      <td>4</td>\n",
       "      <td>1</td>\n",
       "      <td>2</td>\n",
       "    </tr>\n",
       "    <tr>\n",
       "      <th>...</th>\n",
       "      <td>...</td>\n",
       "      <td>...</td>\n",
       "      <td>...</td>\n",
       "    </tr>\n",
       "    <tr>\n",
       "      <th>2495</th>\n",
       "      <td>142</td>\n",
       "      <td>26</td>\n",
       "      <td>4</td>\n",
       "    </tr>\n",
       "    <tr>\n",
       "      <th>2496</th>\n",
       "      <td>6</td>\n",
       "      <td>2</td>\n",
       "      <td>2</td>\n",
       "    </tr>\n",
       "    <tr>\n",
       "      <th>2497</th>\n",
       "      <td>154</td>\n",
       "      <td>22</td>\n",
       "      <td>1</td>\n",
       "    </tr>\n",
       "    <tr>\n",
       "      <th>2498</th>\n",
       "      <td>171</td>\n",
       "      <td>1</td>\n",
       "      <td>2</td>\n",
       "    </tr>\n",
       "    <tr>\n",
       "      <th>2499</th>\n",
       "      <td>146</td>\n",
       "      <td>2</td>\n",
       "      <td>3</td>\n",
       "    </tr>\n",
       "  </tbody>\n",
       "</table>\n",
       "<p>2500 rows × 3 columns</p>\n",
       "</div>"
      ],
      "text/plain": [
       "      id_vendas  id_produtos  quantidade\n",
       "0             0            0           1\n",
       "1             1           28           4\n",
       "2             2           21           1\n",
       "3             3            2           2\n",
       "4             4            1           2\n",
       "...         ...          ...         ...\n",
       "2495        142           26           4\n",
       "2496          6            2           2\n",
       "2497        154           22           1\n",
       "2498        171            1           2\n",
       "2499        146            2           3\n",
       "\n",
       "[2500 rows x 3 columns]"
      ]
     },
     "execution_count": 83,
     "metadata": {},
     "output_type": "execute_result"
    }
   ],
   "source": [
    "venda_produtos=p[3]\n",
    "venda_produtos"
   ]
  },
  {
   "cell_type": "markdown",
   "id": "77a9a467",
   "metadata": {},
   "source": [
    "##  Total de vendas por produto"
   ]
  },
  {
   "cell_type": "code",
   "execution_count": 84,
   "id": "fe3c1491",
   "metadata": {},
   "outputs": [
    {
     "data": {
      "text/html": [
       "<div>\n",
       "<style scoped>\n",
       "    .dataframe tbody tr th:only-of-type {\n",
       "        vertical-align: middle;\n",
       "    }\n",
       "\n",
       "    .dataframe tbody tr th {\n",
       "        vertical-align: top;\n",
       "    }\n",
       "\n",
       "    .dataframe thead th {\n",
       "        text-align: right;\n",
       "    }\n",
       "</style>\n",
       "<table border=\"1\" class=\"dataframe\">\n",
       "  <thead>\n",
       "    <tr style=\"text-align: right;\">\n",
       "      <th></th>\n",
       "      <th>id_vendas</th>\n",
       "      <th>id_produtos</th>\n",
       "      <th>quantidade</th>\n",
       "      <th>nome</th>\n",
       "      <th>secao</th>\n",
       "      <th>custo</th>\n",
       "      <th>preco</th>\n",
       "      <th>prateleira</th>\n",
       "      <th>estoque</th>\n",
       "      <th>unidade_de_medida_de_estoque</th>\n",
       "      <th>imagem</th>\n",
       "      <th>id_clientes</th>\n",
       "      <th>data</th>\n",
       "      <th>nome_cliente</th>\n",
       "      <th>nascimento</th>\n",
       "      <th>endereco</th>\n",
       "      <th>cpf</th>\n",
       "      <th>telefone</th>\n",
       "      <th>usuario</th>\n",
       "      <th>senha</th>\n",
       "    </tr>\n",
       "  </thead>\n",
       "  <tbody>\n",
       "    <tr>\n",
       "      <th>0</th>\n",
       "      <td>0</td>\n",
       "      <td>0</td>\n",
       "      <td>1</td>\n",
       "      <td>morango</td>\n",
       "      <td>Alimentos em Geral</td>\n",
       "      <td>4.30</td>\n",
       "      <td>7.99</td>\n",
       "      <td>1A</td>\n",
       "      <td>50</td>\n",
       "      <td>bandeja</td>\n",
       "      <td>morango-alt.png</td>\n",
       "      <td>112</td>\n",
       "      <td>2021-11-01</td>\n",
       "      <td>Sr. Yago Melo</td>\n",
       "      <td>1985-12-27</td>\n",
       "      <td>Estação de Nogueira, 28\\nConjunto Providencia\\...</td>\n",
       "      <td>432.590.768-83</td>\n",
       "      <td>+55 (061) 0988 5380</td>\n",
       "      <td>emanuel93</td>\n",
       "      <td>m!4Is$D&amp;ld6C</td>\n",
       "    </tr>\n",
       "    <tr>\n",
       "      <th>1</th>\n",
       "      <td>0</td>\n",
       "      <td>0</td>\n",
       "      <td>4</td>\n",
       "      <td>morango</td>\n",
       "      <td>Alimentos em Geral</td>\n",
       "      <td>4.30</td>\n",
       "      <td>7.99</td>\n",
       "      <td>1A</td>\n",
       "      <td>50</td>\n",
       "      <td>bandeja</td>\n",
       "      <td>morango-alt.png</td>\n",
       "      <td>112</td>\n",
       "      <td>2021-11-01</td>\n",
       "      <td>Sr. Yago Melo</td>\n",
       "      <td>1985-12-27</td>\n",
       "      <td>Estação de Nogueira, 28\\nConjunto Providencia\\...</td>\n",
       "      <td>432.590.768-83</td>\n",
       "      <td>+55 (061) 0988 5380</td>\n",
       "      <td>emanuel93</td>\n",
       "      <td>m!4Is$D&amp;ld6C</td>\n",
       "    </tr>\n",
       "    <tr>\n",
       "      <th>2</th>\n",
       "      <td>0</td>\n",
       "      <td>27</td>\n",
       "      <td>1</td>\n",
       "      <td>torta</td>\n",
       "      <td>Padaria</td>\n",
       "      <td>26.95</td>\n",
       "      <td>45.00</td>\n",
       "      <td>6C</td>\n",
       "      <td>7</td>\n",
       "      <td>kg</td>\n",
       "      <td>torta.jpg</td>\n",
       "      <td>112</td>\n",
       "      <td>2021-11-01</td>\n",
       "      <td>Sr. Yago Melo</td>\n",
       "      <td>1985-12-27</td>\n",
       "      <td>Estação de Nogueira, 28\\nConjunto Providencia\\...</td>\n",
       "      <td>432.590.768-83</td>\n",
       "      <td>+55 (061) 0988 5380</td>\n",
       "      <td>emanuel93</td>\n",
       "      <td>m!4Is$D&amp;ld6C</td>\n",
       "    </tr>\n",
       "    <tr>\n",
       "      <th>3</th>\n",
       "      <td>0</td>\n",
       "      <td>20</td>\n",
       "      <td>4</td>\n",
       "      <td>bolo</td>\n",
       "      <td>Padaria</td>\n",
       "      <td>17.89</td>\n",
       "      <td>35.00</td>\n",
       "      <td>6A</td>\n",
       "      <td>7</td>\n",
       "      <td>kg</td>\n",
       "      <td>bolo.jpg</td>\n",
       "      <td>112</td>\n",
       "      <td>2021-11-01</td>\n",
       "      <td>Sr. Yago Melo</td>\n",
       "      <td>1985-12-27</td>\n",
       "      <td>Estação de Nogueira, 28\\nConjunto Providencia\\...</td>\n",
       "      <td>432.590.768-83</td>\n",
       "      <td>+55 (061) 0988 5380</td>\n",
       "      <td>emanuel93</td>\n",
       "      <td>m!4Is$D&amp;ld6C</td>\n",
       "    </tr>\n",
       "    <tr>\n",
       "      <th>4</th>\n",
       "      <td>0</td>\n",
       "      <td>15</td>\n",
       "      <td>1</td>\n",
       "      <td>carré de cordeiro</td>\n",
       "      <td>Açougue</td>\n",
       "      <td>147.99</td>\n",
       "      <td>172.00</td>\n",
       "      <td>5B</td>\n",
       "      <td>5</td>\n",
       "      <td>kg</td>\n",
       "      <td>carre_de_cordeiro.jpg</td>\n",
       "      <td>112</td>\n",
       "      <td>2021-11-01</td>\n",
       "      <td>Sr. Yago Melo</td>\n",
       "      <td>1985-12-27</td>\n",
       "      <td>Estação de Nogueira, 28\\nConjunto Providencia\\...</td>\n",
       "      <td>432.590.768-83</td>\n",
       "      <td>+55 (061) 0988 5380</td>\n",
       "      <td>emanuel93</td>\n",
       "      <td>m!4Is$D&amp;ld6C</td>\n",
       "    </tr>\n",
       "    <tr>\n",
       "      <th>...</th>\n",
       "      <td>...</td>\n",
       "      <td>...</td>\n",
       "      <td>...</td>\n",
       "      <td>...</td>\n",
       "      <td>...</td>\n",
       "      <td>...</td>\n",
       "      <td>...</td>\n",
       "      <td>...</td>\n",
       "      <td>...</td>\n",
       "      <td>...</td>\n",
       "      <td>...</td>\n",
       "      <td>...</td>\n",
       "      <td>...</td>\n",
       "      <td>...</td>\n",
       "      <td>...</td>\n",
       "      <td>...</td>\n",
       "      <td>...</td>\n",
       "      <td>...</td>\n",
       "      <td>...</td>\n",
       "      <td>...</td>\n",
       "    </tr>\n",
       "    <tr>\n",
       "      <th>2495</th>\n",
       "      <td>254</td>\n",
       "      <td>17</td>\n",
       "      <td>2</td>\n",
       "      <td>paleta suína</td>\n",
       "      <td>Açougue</td>\n",
       "      <td>17.09</td>\n",
       "      <td>23.99</td>\n",
       "      <td>5D</td>\n",
       "      <td>9</td>\n",
       "      <td>kg</td>\n",
       "      <td>paleta_suina.jpg</td>\n",
       "      <td>152</td>\n",
       "      <td>2021-11-19</td>\n",
       "      <td>Srta. Bianca Pereira</td>\n",
       "      <td>1997-07-24</td>\n",
       "      <td>Vale Bryan Caldeira, 3\\nMarmiteiros\\n84220926 ...</td>\n",
       "      <td>492.537.061-80</td>\n",
       "      <td>+55 (051) 8793 7327</td>\n",
       "      <td>enzo-gabrielramos</td>\n",
       "      <td>*g!Jk(RK^4AT</td>\n",
       "    </tr>\n",
       "    <tr>\n",
       "      <th>2496</th>\n",
       "      <td>205</td>\n",
       "      <td>12</td>\n",
       "      <td>2</td>\n",
       "      <td>alcatra</td>\n",
       "      <td>Açougue</td>\n",
       "      <td>23.19</td>\n",
       "      <td>31.99</td>\n",
       "      <td>4A</td>\n",
       "      <td>7</td>\n",
       "      <td>kg</td>\n",
       "      <td>alcatra.jpg</td>\n",
       "      <td>126</td>\n",
       "      <td>2021-11-16</td>\n",
       "      <td>Maria Fernanda Farias</td>\n",
       "      <td>1959-12-29</td>\n",
       "      <td>Quadra Beatriz Souza, 435\\nBuritis\\n86922970 S...</td>\n",
       "      <td>846.105.293-51</td>\n",
       "      <td>81 3917 2524</td>\n",
       "      <td>ipereira</td>\n",
       "      <td>_QRfByvuY8w3</td>\n",
       "    </tr>\n",
       "    <tr>\n",
       "      <th>2497</th>\n",
       "      <td>363</td>\n",
       "      <td>19</td>\n",
       "      <td>1</td>\n",
       "      <td>peito de frango</td>\n",
       "      <td>Açougue</td>\n",
       "      <td>11.19</td>\n",
       "      <td>16.49</td>\n",
       "      <td>4D</td>\n",
       "      <td>10</td>\n",
       "      <td>kg</td>\n",
       "      <td>peito_de_frango.jpg</td>\n",
       "      <td>126</td>\n",
       "      <td>2021-11-25</td>\n",
       "      <td>Maria Fernanda Farias</td>\n",
       "      <td>1959-12-29</td>\n",
       "      <td>Quadra Beatriz Souza, 435\\nBuritis\\n86922970 S...</td>\n",
       "      <td>846.105.293-51</td>\n",
       "      <td>81 3917 2524</td>\n",
       "      <td>ipereira</td>\n",
       "      <td>_QRfByvuY8w3</td>\n",
       "    </tr>\n",
       "    <tr>\n",
       "      <th>2498</th>\n",
       "      <td>267</td>\n",
       "      <td>24</td>\n",
       "      <td>2</td>\n",
       "      <td>pastel</td>\n",
       "      <td>Padaria</td>\n",
       "      <td>3.19</td>\n",
       "      <td>4.99</td>\n",
       "      <td>7D</td>\n",
       "      <td>9</td>\n",
       "      <td>unidade</td>\n",
       "      <td>pastel.jpg</td>\n",
       "      <td>131</td>\n",
       "      <td>2021-11-20</td>\n",
       "      <td>Stephany Araújo</td>\n",
       "      <td>1965-11-22</td>\n",
       "      <td>Passarela Nunes, 98\\nSavassi\\n92885-349 Barros...</td>\n",
       "      <td>649.731.280-31</td>\n",
       "      <td>+55 11 6053 5457</td>\n",
       "      <td>nunesjoao-miguel</td>\n",
       "      <td>V(V1OFylTT3C</td>\n",
       "    </tr>\n",
       "    <tr>\n",
       "      <th>2499</th>\n",
       "      <td>377</td>\n",
       "      <td>24</td>\n",
       "      <td>2</td>\n",
       "      <td>pastel</td>\n",
       "      <td>Padaria</td>\n",
       "      <td>3.19</td>\n",
       "      <td>4.99</td>\n",
       "      <td>7D</td>\n",
       "      <td>9</td>\n",
       "      <td>unidade</td>\n",
       "      <td>pastel.jpg</td>\n",
       "      <td>159</td>\n",
       "      <td>2021-11-25</td>\n",
       "      <td>Maitê Pires</td>\n",
       "      <td>1966-08-24</td>\n",
       "      <td>Campo Amanda Costa, 3\\nBonsucesso\\n70362562 So...</td>\n",
       "      <td>419.203.856-06</td>\n",
       "      <td>81 3150 1264</td>\n",
       "      <td>scaldeira</td>\n",
       "      <td>Xf5JYciSs@8c</td>\n",
       "    </tr>\n",
       "  </tbody>\n",
       "</table>\n",
       "<p>2500 rows × 20 columns</p>\n",
       "</div>"
      ],
      "text/plain": [
       "      id_vendas  id_produtos  quantidade               nome  \\\n",
       "0             0            0           1            morango   \n",
       "1             0            0           4            morango   \n",
       "2             0           27           1              torta   \n",
       "3             0           20           4               bolo   \n",
       "4             0           15           1  carré de cordeiro   \n",
       "...         ...          ...         ...                ...   \n",
       "2495        254           17           2       paleta suína   \n",
       "2496        205           12           2            alcatra   \n",
       "2497        363           19           1    peito de frango   \n",
       "2498        267           24           2             pastel   \n",
       "2499        377           24           2             pastel   \n",
       "\n",
       "                   secao   custo   preco prateleira  estoque  \\\n",
       "0     Alimentos em Geral    4.30    7.99         1A       50   \n",
       "1     Alimentos em Geral    4.30    7.99         1A       50   \n",
       "2                Padaria   26.95   45.00         6C        7   \n",
       "3                Padaria   17.89   35.00         6A        7   \n",
       "4                Açougue  147.99  172.00         5B        5   \n",
       "...                  ...     ...     ...        ...      ...   \n",
       "2495             Açougue   17.09   23.99         5D        9   \n",
       "2496             Açougue   23.19   31.99         4A        7   \n",
       "2497             Açougue   11.19   16.49         4D       10   \n",
       "2498             Padaria    3.19    4.99         7D        9   \n",
       "2499             Padaria    3.19    4.99         7D        9   \n",
       "\n",
       "     unidade_de_medida_de_estoque                 imagem  id_clientes  \\\n",
       "0                         bandeja        morango-alt.png          112   \n",
       "1                         bandeja        morango-alt.png          112   \n",
       "2                              kg              torta.jpg          112   \n",
       "3                              kg               bolo.jpg          112   \n",
       "4                              kg  carre_de_cordeiro.jpg          112   \n",
       "...                           ...                    ...          ...   \n",
       "2495                           kg       paleta_suina.jpg          152   \n",
       "2496                           kg            alcatra.jpg          126   \n",
       "2497                           kg    peito_de_frango.jpg          126   \n",
       "2498                      unidade             pastel.jpg          131   \n",
       "2499                      unidade             pastel.jpg          159   \n",
       "\n",
       "            data           nome_cliente  nascimento  \\\n",
       "0     2021-11-01          Sr. Yago Melo  1985-12-27   \n",
       "1     2021-11-01          Sr. Yago Melo  1985-12-27   \n",
       "2     2021-11-01          Sr. Yago Melo  1985-12-27   \n",
       "3     2021-11-01          Sr. Yago Melo  1985-12-27   \n",
       "4     2021-11-01          Sr. Yago Melo  1985-12-27   \n",
       "...          ...                    ...         ...   \n",
       "2495  2021-11-19   Srta. Bianca Pereira  1997-07-24   \n",
       "2496  2021-11-16  Maria Fernanda Farias  1959-12-29   \n",
       "2497  2021-11-25  Maria Fernanda Farias  1959-12-29   \n",
       "2498  2021-11-20        Stephany Araújo  1965-11-22   \n",
       "2499  2021-11-25            Maitê Pires  1966-08-24   \n",
       "\n",
       "                                               endereco             cpf  \\\n",
       "0     Estação de Nogueira, 28\\nConjunto Providencia\\...  432.590.768-83   \n",
       "1     Estação de Nogueira, 28\\nConjunto Providencia\\...  432.590.768-83   \n",
       "2     Estação de Nogueira, 28\\nConjunto Providencia\\...  432.590.768-83   \n",
       "3     Estação de Nogueira, 28\\nConjunto Providencia\\...  432.590.768-83   \n",
       "4     Estação de Nogueira, 28\\nConjunto Providencia\\...  432.590.768-83   \n",
       "...                                                 ...             ...   \n",
       "2495  Vale Bryan Caldeira, 3\\nMarmiteiros\\n84220926 ...  492.537.061-80   \n",
       "2496  Quadra Beatriz Souza, 435\\nBuritis\\n86922970 S...  846.105.293-51   \n",
       "2497  Quadra Beatriz Souza, 435\\nBuritis\\n86922970 S...  846.105.293-51   \n",
       "2498  Passarela Nunes, 98\\nSavassi\\n92885-349 Barros...  649.731.280-31   \n",
       "2499  Campo Amanda Costa, 3\\nBonsucesso\\n70362562 So...  419.203.856-06   \n",
       "\n",
       "                 telefone            usuario         senha  \n",
       "0     +55 (061) 0988 5380          emanuel93  m!4Is$D&ld6C  \n",
       "1     +55 (061) 0988 5380          emanuel93  m!4Is$D&ld6C  \n",
       "2     +55 (061) 0988 5380          emanuel93  m!4Is$D&ld6C  \n",
       "3     +55 (061) 0988 5380          emanuel93  m!4Is$D&ld6C  \n",
       "4     +55 (061) 0988 5380          emanuel93  m!4Is$D&ld6C  \n",
       "...                   ...                ...           ...  \n",
       "2495  +55 (051) 8793 7327  enzo-gabrielramos  *g!Jk(RK^4AT  \n",
       "2496         81 3917 2524           ipereira  _QRfByvuY8w3  \n",
       "2497         81 3917 2524           ipereira  _QRfByvuY8w3  \n",
       "2498     +55 11 6053 5457   nunesjoao-miguel  V(V1OFylTT3C  \n",
       "2499         81 3150 1264          scaldeira  Xf5JYciSs@8c  \n",
       "\n",
       "[2500 rows x 20 columns]"
      ]
     },
     "execution_count": 84,
     "metadata": {},
     "output_type": "execute_result"
    }
   ],
   "source": [
    "#realizando a união das tabelas produtos e venda_produtos em id_produtos\n",
    "venda_produtos_2 = pd.merge(venda_produtos, produtos, on = 'id_produtos', how='inner')\n",
    "#realizando a união das tabelas vendas e venda_produtos em id_vendas\n",
    "venda_produtos_3 = pd.merge(venda_produtos_2, vendas, on = 'id_vendas', how='inner')\n",
    "#realizando a união das tabelas clientes e venda_produtos em id_cliente\n",
    "venda_produtos_cliente = pd.merge(venda_produtos_3, clientes, on = 'id_clientes', how='inner')\n",
    "\n",
    "venda_produtos_cliente"
   ]
  },
  {
   "cell_type": "code",
   "execution_count": 85,
   "id": "0a5b51b9",
   "metadata": {},
   "outputs": [
    {
     "data": {
      "text/html": [
       "<div>\n",
       "<style scoped>\n",
       "    .dataframe tbody tr th:only-of-type {\n",
       "        vertical-align: middle;\n",
       "    }\n",
       "\n",
       "    .dataframe tbody tr th {\n",
       "        vertical-align: top;\n",
       "    }\n",
       "\n",
       "    .dataframe thead th {\n",
       "        text-align: right;\n",
       "    }\n",
       "</style>\n",
       "<table border=\"1\" class=\"dataframe\">\n",
       "  <thead>\n",
       "    <tr style=\"text-align: right;\">\n",
       "      <th></th>\n",
       "      <th>nome</th>\n",
       "      <th>quantidade</th>\n",
       "    </tr>\n",
       "  </thead>\n",
       "  <tbody>\n",
       "    <tr>\n",
       "      <th>0</th>\n",
       "      <td>picanha</td>\n",
       "      <td>227</td>\n",
       "    </tr>\n",
       "    <tr>\n",
       "      <th>1</th>\n",
       "      <td>pão de queijo</td>\n",
       "      <td>219</td>\n",
       "    </tr>\n",
       "    <tr>\n",
       "      <th>2</th>\n",
       "      <td>macarrão</td>\n",
       "      <td>215</td>\n",
       "    </tr>\n",
       "    <tr>\n",
       "      <th>3</th>\n",
       "      <td>costela</td>\n",
       "      <td>211</td>\n",
       "    </tr>\n",
       "    <tr>\n",
       "      <th>4</th>\n",
       "      <td>melancia</td>\n",
       "      <td>206</td>\n",
       "    </tr>\n",
       "    <tr>\n",
       "      <th>5</th>\n",
       "      <td>sabonete</td>\n",
       "      <td>199</td>\n",
       "    </tr>\n",
       "    <tr>\n",
       "      <th>6</th>\n",
       "      <td>rodo</td>\n",
       "      <td>192</td>\n",
       "    </tr>\n",
       "    <tr>\n",
       "      <th>7</th>\n",
       "      <td>amaciante</td>\n",
       "      <td>190</td>\n",
       "    </tr>\n",
       "    <tr>\n",
       "      <th>8</th>\n",
       "      <td>odorizador</td>\n",
       "      <td>190</td>\n",
       "    </tr>\n",
       "    <tr>\n",
       "      <th>9</th>\n",
       "      <td>batata</td>\n",
       "      <td>187</td>\n",
       "    </tr>\n",
       "    <tr>\n",
       "      <th>10</th>\n",
       "      <td>água sanitária</td>\n",
       "      <td>186</td>\n",
       "    </tr>\n",
       "    <tr>\n",
       "      <th>11</th>\n",
       "      <td>uva</td>\n",
       "      <td>185</td>\n",
       "    </tr>\n",
       "    <tr>\n",
       "      <th>12</th>\n",
       "      <td>sanduíche</td>\n",
       "      <td>184</td>\n",
       "    </tr>\n",
       "    <tr>\n",
       "      <th>13</th>\n",
       "      <td>feijão</td>\n",
       "      <td>180</td>\n",
       "    </tr>\n",
       "    <tr>\n",
       "      <th>14</th>\n",
       "      <td>detergente</td>\n",
       "      <td>179</td>\n",
       "    </tr>\n",
       "    <tr>\n",
       "      <th>15</th>\n",
       "      <td>carré de cordeiro</td>\n",
       "      <td>178</td>\n",
       "    </tr>\n",
       "    <tr>\n",
       "      <th>16</th>\n",
       "      <td>bisteca suína</td>\n",
       "      <td>177</td>\n",
       "    </tr>\n",
       "    <tr>\n",
       "      <th>17</th>\n",
       "      <td>sabão em pó</td>\n",
       "      <td>177</td>\n",
       "    </tr>\n",
       "    <tr>\n",
       "      <th>18</th>\n",
       "      <td>sonho</td>\n",
       "      <td>176</td>\n",
       "    </tr>\n",
       "    <tr>\n",
       "      <th>19</th>\n",
       "      <td>peito de frango</td>\n",
       "      <td>174</td>\n",
       "    </tr>\n",
       "    <tr>\n",
       "      <th>20</th>\n",
       "      <td>pão francês</td>\n",
       "      <td>172</td>\n",
       "    </tr>\n",
       "    <tr>\n",
       "      <th>21</th>\n",
       "      <td>abobrinha</td>\n",
       "      <td>168</td>\n",
       "    </tr>\n",
       "    <tr>\n",
       "      <th>22</th>\n",
       "      <td>torta</td>\n",
       "      <td>166</td>\n",
       "    </tr>\n",
       "    <tr>\n",
       "      <th>23</th>\n",
       "      <td>bolo</td>\n",
       "      <td>165</td>\n",
       "    </tr>\n",
       "    <tr>\n",
       "      <th>24</th>\n",
       "      <td>berinjela</td>\n",
       "      <td>160</td>\n",
       "    </tr>\n",
       "    <tr>\n",
       "      <th>25</th>\n",
       "      <td>couve-flor</td>\n",
       "      <td>159</td>\n",
       "    </tr>\n",
       "    <tr>\n",
       "      <th>26</th>\n",
       "      <td>flanela</td>\n",
       "      <td>159</td>\n",
       "    </tr>\n",
       "    <tr>\n",
       "      <th>27</th>\n",
       "      <td>arroz</td>\n",
       "      <td>154</td>\n",
       "    </tr>\n",
       "    <tr>\n",
       "      <th>28</th>\n",
       "      <td>paleta suína</td>\n",
       "      <td>153</td>\n",
       "    </tr>\n",
       "    <tr>\n",
       "      <th>29</th>\n",
       "      <td>pastel</td>\n",
       "      <td>152</td>\n",
       "    </tr>\n",
       "    <tr>\n",
       "      <th>30</th>\n",
       "      <td>pão de forma</td>\n",
       "      <td>150</td>\n",
       "    </tr>\n",
       "    <tr>\n",
       "      <th>31</th>\n",
       "      <td>alcatra</td>\n",
       "      <td>149</td>\n",
       "    </tr>\n",
       "    <tr>\n",
       "      <th>32</th>\n",
       "      <td>maminha</td>\n",
       "      <td>144</td>\n",
       "    </tr>\n",
       "    <tr>\n",
       "      <th>33</th>\n",
       "      <td>banana</td>\n",
       "      <td>135</td>\n",
       "    </tr>\n",
       "    <tr>\n",
       "      <th>34</th>\n",
       "      <td>alface</td>\n",
       "      <td>127</td>\n",
       "    </tr>\n",
       "    <tr>\n",
       "      <th>35</th>\n",
       "      <td>morango</td>\n",
       "      <td>126</td>\n",
       "    </tr>\n",
       "  </tbody>\n",
       "</table>\n",
       "</div>"
      ],
      "text/plain": [
       "                 nome  quantidade\n",
       "0             picanha         227\n",
       "1       pão de queijo         219\n",
       "2            macarrão         215\n",
       "3             costela         211\n",
       "4            melancia         206\n",
       "5            sabonete         199\n",
       "6                rodo         192\n",
       "7           amaciante         190\n",
       "8          odorizador         190\n",
       "9              batata         187\n",
       "10     água sanitária         186\n",
       "11                uva         185\n",
       "12          sanduíche         184\n",
       "13             feijão         180\n",
       "14         detergente         179\n",
       "15  carré de cordeiro         178\n",
       "16      bisteca suína         177\n",
       "17        sabão em pó         177\n",
       "18              sonho         176\n",
       "19    peito de frango         174\n",
       "20        pão francês         172\n",
       "21          abobrinha         168\n",
       "22              torta         166\n",
       "23               bolo         165\n",
       "24          berinjela         160\n",
       "25         couve-flor         159\n",
       "26            flanela         159\n",
       "27              arroz         154\n",
       "28       paleta suína         153\n",
       "29             pastel         152\n",
       "30       pão de forma         150\n",
       "31            alcatra         149\n",
       "32            maminha         144\n",
       "33             banana         135\n",
       "34             alface         127\n",
       "35            morango         126"
      ]
     },
     "execution_count": 85,
     "metadata": {},
     "output_type": "execute_result"
    }
   ],
   "source": [
    "#agrupando a tabelas cendas_produto por nome (groupby), somando os valores (sum), organizando os valores em ordem decrescente por quantidade vendida (sort_values) e redefinindo o index (reset_index)\n",
    "venda_produtos_total=venda_produtos_cliente.groupby(\"nome\").sum().sort_values('quantidade', ascending=False).reset_index()\n",
    "\n",
    "#selecionando apenas as colunas que serão analisadas\n",
    "venda_produtos_total[[\"nome\", \"quantidade\"]]"
   ]
  },
  {
   "cell_type": "code",
   "execution_count": 86,
   "id": "bdd6d27c",
   "metadata": {},
   "outputs": [
    {
     "data": {
      "application/vnd.plotly.v1+json": {
       "config": {
        "plotlyServerURL": "https://plot.ly"
       },
       "data": [
        {
         "alignmentgroup": "True",
         "hovertemplate": "Nome=%{x}<br>Quantidade vendida=%{y}<extra></extra>",
         "legendgroup": "",
         "marker": {
          "color": "#636efa",
          "pattern": {
           "shape": ""
          }
         },
         "name": "",
         "offsetgroup": "",
         "orientation": "v",
         "showlegend": false,
         "textposition": "auto",
         "type": "bar",
         "x": [
          "picanha",
          "pão de queijo",
          "macarrão",
          "costela",
          "melancia",
          "sabonete",
          "rodo",
          "amaciante",
          "odorizador",
          "batata",
          "água sanitária",
          "uva",
          "sanduíche",
          "feijão",
          "detergente",
          "carré de cordeiro",
          "bisteca suína",
          "sabão em pó",
          "sonho",
          "peito de frango",
          "pão francês",
          "abobrinha",
          "torta",
          "bolo",
          "berinjela",
          "couve-flor",
          "flanela",
          "arroz",
          "paleta suína",
          "pastel",
          "pão de forma",
          "alcatra",
          "maminha",
          "banana",
          "alface",
          "morango"
         ],
         "xaxis": "x",
         "y": [
          227,
          219,
          215,
          211,
          206,
          199,
          192,
          190,
          190,
          187,
          186,
          185,
          184,
          180,
          179,
          178,
          177,
          177,
          176,
          174,
          172,
          168,
          166,
          165,
          160,
          159,
          159,
          154,
          153,
          152,
          150,
          149,
          144,
          135,
          127,
          126
         ],
         "yaxis": "y"
        }
       ],
       "layout": {
        "barmode": "stack",
        "height": 500,
        "legend": {
         "tracegroupgap": 0
        },
        "margin": {
         "t": 60
        },
        "template": {
         "data": {
          "bar": [
           {
            "error_x": {
             "color": "#2a3f5f"
            },
            "error_y": {
             "color": "#2a3f5f"
            },
            "marker": {
             "line": {
              "color": "#E5ECF6",
              "width": 0.5
             },
             "pattern": {
              "fillmode": "overlay",
              "size": 10,
              "solidity": 0.2
             }
            },
            "type": "bar"
           }
          ],
          "barpolar": [
           {
            "marker": {
             "line": {
              "color": "#E5ECF6",
              "width": 0.5
             },
             "pattern": {
              "fillmode": "overlay",
              "size": 10,
              "solidity": 0.2
             }
            },
            "type": "barpolar"
           }
          ],
          "carpet": [
           {
            "aaxis": {
             "endlinecolor": "#2a3f5f",
             "gridcolor": "white",
             "linecolor": "white",
             "minorgridcolor": "white",
             "startlinecolor": "#2a3f5f"
            },
            "baxis": {
             "endlinecolor": "#2a3f5f",
             "gridcolor": "white",
             "linecolor": "white",
             "minorgridcolor": "white",
             "startlinecolor": "#2a3f5f"
            },
            "type": "carpet"
           }
          ],
          "choropleth": [
           {
            "colorbar": {
             "outlinewidth": 0,
             "ticks": ""
            },
            "type": "choropleth"
           }
          ],
          "contour": [
           {
            "colorbar": {
             "outlinewidth": 0,
             "ticks": ""
            },
            "colorscale": [
             [
              0,
              "#0d0887"
             ],
             [
              0.1111111111111111,
              "#46039f"
             ],
             [
              0.2222222222222222,
              "#7201a8"
             ],
             [
              0.3333333333333333,
              "#9c179e"
             ],
             [
              0.4444444444444444,
              "#bd3786"
             ],
             [
              0.5555555555555556,
              "#d8576b"
             ],
             [
              0.6666666666666666,
              "#ed7953"
             ],
             [
              0.7777777777777778,
              "#fb9f3a"
             ],
             [
              0.8888888888888888,
              "#fdca26"
             ],
             [
              1,
              "#f0f921"
             ]
            ],
            "type": "contour"
           }
          ],
          "contourcarpet": [
           {
            "colorbar": {
             "outlinewidth": 0,
             "ticks": ""
            },
            "type": "contourcarpet"
           }
          ],
          "heatmap": [
           {
            "colorbar": {
             "outlinewidth": 0,
             "ticks": ""
            },
            "colorscale": [
             [
              0,
              "#0d0887"
             ],
             [
              0.1111111111111111,
              "#46039f"
             ],
             [
              0.2222222222222222,
              "#7201a8"
             ],
             [
              0.3333333333333333,
              "#9c179e"
             ],
             [
              0.4444444444444444,
              "#bd3786"
             ],
             [
              0.5555555555555556,
              "#d8576b"
             ],
             [
              0.6666666666666666,
              "#ed7953"
             ],
             [
              0.7777777777777778,
              "#fb9f3a"
             ],
             [
              0.8888888888888888,
              "#fdca26"
             ],
             [
              1,
              "#f0f921"
             ]
            ],
            "type": "heatmap"
           }
          ],
          "heatmapgl": [
           {
            "colorbar": {
             "outlinewidth": 0,
             "ticks": ""
            },
            "colorscale": [
             [
              0,
              "#0d0887"
             ],
             [
              0.1111111111111111,
              "#46039f"
             ],
             [
              0.2222222222222222,
              "#7201a8"
             ],
             [
              0.3333333333333333,
              "#9c179e"
             ],
             [
              0.4444444444444444,
              "#bd3786"
             ],
             [
              0.5555555555555556,
              "#d8576b"
             ],
             [
              0.6666666666666666,
              "#ed7953"
             ],
             [
              0.7777777777777778,
              "#fb9f3a"
             ],
             [
              0.8888888888888888,
              "#fdca26"
             ],
             [
              1,
              "#f0f921"
             ]
            ],
            "type": "heatmapgl"
           }
          ],
          "histogram": [
           {
            "marker": {
             "pattern": {
              "fillmode": "overlay",
              "size": 10,
              "solidity": 0.2
             }
            },
            "type": "histogram"
           }
          ],
          "histogram2d": [
           {
            "colorbar": {
             "outlinewidth": 0,
             "ticks": ""
            },
            "colorscale": [
             [
              0,
              "#0d0887"
             ],
             [
              0.1111111111111111,
              "#46039f"
             ],
             [
              0.2222222222222222,
              "#7201a8"
             ],
             [
              0.3333333333333333,
              "#9c179e"
             ],
             [
              0.4444444444444444,
              "#bd3786"
             ],
             [
              0.5555555555555556,
              "#d8576b"
             ],
             [
              0.6666666666666666,
              "#ed7953"
             ],
             [
              0.7777777777777778,
              "#fb9f3a"
             ],
             [
              0.8888888888888888,
              "#fdca26"
             ],
             [
              1,
              "#f0f921"
             ]
            ],
            "type": "histogram2d"
           }
          ],
          "histogram2dcontour": [
           {
            "colorbar": {
             "outlinewidth": 0,
             "ticks": ""
            },
            "colorscale": [
             [
              0,
              "#0d0887"
             ],
             [
              0.1111111111111111,
              "#46039f"
             ],
             [
              0.2222222222222222,
              "#7201a8"
             ],
             [
              0.3333333333333333,
              "#9c179e"
             ],
             [
              0.4444444444444444,
              "#bd3786"
             ],
             [
              0.5555555555555556,
              "#d8576b"
             ],
             [
              0.6666666666666666,
              "#ed7953"
             ],
             [
              0.7777777777777778,
              "#fb9f3a"
             ],
             [
              0.8888888888888888,
              "#fdca26"
             ],
             [
              1,
              "#f0f921"
             ]
            ],
            "type": "histogram2dcontour"
           }
          ],
          "mesh3d": [
           {
            "colorbar": {
             "outlinewidth": 0,
             "ticks": ""
            },
            "type": "mesh3d"
           }
          ],
          "parcoords": [
           {
            "line": {
             "colorbar": {
              "outlinewidth": 0,
              "ticks": ""
             }
            },
            "type": "parcoords"
           }
          ],
          "pie": [
           {
            "automargin": true,
            "type": "pie"
           }
          ],
          "scatter": [
           {
            "marker": {
             "colorbar": {
              "outlinewidth": 0,
              "ticks": ""
             }
            },
            "type": "scatter"
           }
          ],
          "scatter3d": [
           {
            "line": {
             "colorbar": {
              "outlinewidth": 0,
              "ticks": ""
             }
            },
            "marker": {
             "colorbar": {
              "outlinewidth": 0,
              "ticks": ""
             }
            },
            "type": "scatter3d"
           }
          ],
          "scattercarpet": [
           {
            "marker": {
             "colorbar": {
              "outlinewidth": 0,
              "ticks": ""
             }
            },
            "type": "scattercarpet"
           }
          ],
          "scattergeo": [
           {
            "marker": {
             "colorbar": {
              "outlinewidth": 0,
              "ticks": ""
             }
            },
            "type": "scattergeo"
           }
          ],
          "scattergl": [
           {
            "marker": {
             "colorbar": {
              "outlinewidth": 0,
              "ticks": ""
             }
            },
            "type": "scattergl"
           }
          ],
          "scattermapbox": [
           {
            "marker": {
             "colorbar": {
              "outlinewidth": 0,
              "ticks": ""
             }
            },
            "type": "scattermapbox"
           }
          ],
          "scatterpolar": [
           {
            "marker": {
             "colorbar": {
              "outlinewidth": 0,
              "ticks": ""
             }
            },
            "type": "scatterpolar"
           }
          ],
          "scatterpolargl": [
           {
            "marker": {
             "colorbar": {
              "outlinewidth": 0,
              "ticks": ""
             }
            },
            "type": "scatterpolargl"
           }
          ],
          "scatterternary": [
           {
            "marker": {
             "colorbar": {
              "outlinewidth": 0,
              "ticks": ""
             }
            },
            "type": "scatterternary"
           }
          ],
          "surface": [
           {
            "colorbar": {
             "outlinewidth": 0,
             "ticks": ""
            },
            "colorscale": [
             [
              0,
              "#0d0887"
             ],
             [
              0.1111111111111111,
              "#46039f"
             ],
             [
              0.2222222222222222,
              "#7201a8"
             ],
             [
              0.3333333333333333,
              "#9c179e"
             ],
             [
              0.4444444444444444,
              "#bd3786"
             ],
             [
              0.5555555555555556,
              "#d8576b"
             ],
             [
              0.6666666666666666,
              "#ed7953"
             ],
             [
              0.7777777777777778,
              "#fb9f3a"
             ],
             [
              0.8888888888888888,
              "#fdca26"
             ],
             [
              1,
              "#f0f921"
             ]
            ],
            "type": "surface"
           }
          ],
          "table": [
           {
            "cells": {
             "fill": {
              "color": "#EBF0F8"
             },
             "line": {
              "color": "white"
             }
            },
            "header": {
             "fill": {
              "color": "#C8D4E3"
             },
             "line": {
              "color": "white"
             }
            },
            "type": "table"
           }
          ]
         },
         "layout": {
          "annotationdefaults": {
           "arrowcolor": "#2a3f5f",
           "arrowhead": 0,
           "arrowwidth": 1
          },
          "autotypenumbers": "strict",
          "coloraxis": {
           "colorbar": {
            "outlinewidth": 0,
            "ticks": ""
           }
          },
          "colorscale": {
           "diverging": [
            [
             0,
             "#8e0152"
            ],
            [
             0.1,
             "#c51b7d"
            ],
            [
             0.2,
             "#de77ae"
            ],
            [
             0.3,
             "#f1b6da"
            ],
            [
             0.4,
             "#fde0ef"
            ],
            [
             0.5,
             "#f7f7f7"
            ],
            [
             0.6,
             "#e6f5d0"
            ],
            [
             0.7,
             "#b8e186"
            ],
            [
             0.8,
             "#7fbc41"
            ],
            [
             0.9,
             "#4d9221"
            ],
            [
             1,
             "#276419"
            ]
           ],
           "sequential": [
            [
             0,
             "#0d0887"
            ],
            [
             0.1111111111111111,
             "#46039f"
            ],
            [
             0.2222222222222222,
             "#7201a8"
            ],
            [
             0.3333333333333333,
             "#9c179e"
            ],
            [
             0.4444444444444444,
             "#bd3786"
            ],
            [
             0.5555555555555556,
             "#d8576b"
            ],
            [
             0.6666666666666666,
             "#ed7953"
            ],
            [
             0.7777777777777778,
             "#fb9f3a"
            ],
            [
             0.8888888888888888,
             "#fdca26"
            ],
            [
             1,
             "#f0f921"
            ]
           ],
           "sequentialminus": [
            [
             0,
             "#0d0887"
            ],
            [
             0.1111111111111111,
             "#46039f"
            ],
            [
             0.2222222222222222,
             "#7201a8"
            ],
            [
             0.3333333333333333,
             "#9c179e"
            ],
            [
             0.4444444444444444,
             "#bd3786"
            ],
            [
             0.5555555555555556,
             "#d8576b"
            ],
            [
             0.6666666666666666,
             "#ed7953"
            ],
            [
             0.7777777777777778,
             "#fb9f3a"
            ],
            [
             0.8888888888888888,
             "#fdca26"
            ],
            [
             1,
             "#f0f921"
            ]
           ]
          },
          "colorway": [
           "#636efa",
           "#EF553B",
           "#00cc96",
           "#ab63fa",
           "#FFA15A",
           "#19d3f3",
           "#FF6692",
           "#B6E880",
           "#FF97FF",
           "#FECB52"
          ],
          "font": {
           "color": "#2a3f5f"
          },
          "geo": {
           "bgcolor": "white",
           "lakecolor": "white",
           "landcolor": "#E5ECF6",
           "showlakes": true,
           "showland": true,
           "subunitcolor": "white"
          },
          "hoverlabel": {
           "align": "left"
          },
          "hovermode": "closest",
          "mapbox": {
           "style": "light"
          },
          "paper_bgcolor": "white",
          "plot_bgcolor": "#E5ECF6",
          "polar": {
           "angularaxis": {
            "gridcolor": "white",
            "linecolor": "white",
            "ticks": ""
           },
           "bgcolor": "#E5ECF6",
           "radialaxis": {
            "gridcolor": "white",
            "linecolor": "white",
            "ticks": ""
           }
          },
          "scene": {
           "xaxis": {
            "backgroundcolor": "#E5ECF6",
            "gridcolor": "white",
            "gridwidth": 2,
            "linecolor": "white",
            "showbackground": true,
            "ticks": "",
            "zerolinecolor": "white"
           },
           "yaxis": {
            "backgroundcolor": "#E5ECF6",
            "gridcolor": "white",
            "gridwidth": 2,
            "linecolor": "white",
            "showbackground": true,
            "ticks": "",
            "zerolinecolor": "white"
           },
           "zaxis": {
            "backgroundcolor": "#E5ECF6",
            "gridcolor": "white",
            "gridwidth": 2,
            "linecolor": "white",
            "showbackground": true,
            "ticks": "",
            "zerolinecolor": "white"
           }
          },
          "shapedefaults": {
           "line": {
            "color": "#2a3f5f"
           }
          },
          "ternary": {
           "aaxis": {
            "gridcolor": "white",
            "linecolor": "white",
            "ticks": ""
           },
           "baxis": {
            "gridcolor": "white",
            "linecolor": "white",
            "ticks": ""
           },
           "bgcolor": "#E5ECF6",
           "caxis": {
            "gridcolor": "white",
            "linecolor": "white",
            "ticks": ""
           }
          },
          "title": {
           "x": 0.05
          },
          "xaxis": {
           "automargin": true,
           "gridcolor": "white",
           "linecolor": "white",
           "ticks": "",
           "title": {
            "standoff": 15
           },
           "zerolinecolor": "white",
           "zerolinewidth": 2
          },
          "yaxis": {
           "automargin": true,
           "gridcolor": "white",
           "linecolor": "white",
           "ticks": "",
           "title": {
            "standoff": 15
           },
           "zerolinecolor": "white",
           "zerolinewidth": 2
          }
         }
        },
        "title": {
         "text": "Venda dos produtos"
        },
        "width": 700,
        "xaxis": {
         "anchor": "y",
         "domain": [
          0,
          1
         ],
         "title": {
          "text": "Produto"
         }
        },
        "yaxis": {
         "anchor": "x",
         "domain": [
          0,
          1
         ],
         "title": {
          "text": "Quantidade vendida"
         }
        }
       }
      },
      "text/html": [
       "<div>                            <div id=\"c7509a40-0545-458c-a308-7c27033d543b\" class=\"plotly-graph-div\" style=\"height:500px; width:700px;\"></div>            <script type=\"text/javascript\">                require([\"plotly\"], function(Plotly) {                    window.PLOTLYENV=window.PLOTLYENV || {};                                    if (document.getElementById(\"c7509a40-0545-458c-a308-7c27033d543b\")) {                    Plotly.newPlot(                        \"c7509a40-0545-458c-a308-7c27033d543b\",                        [{\"alignmentgroup\":\"True\",\"hovertemplate\":\"Nome=%{x}<br>Quantidade vendida=%{y}<extra></extra>\",\"legendgroup\":\"\",\"marker\":{\"color\":\"#636efa\",\"pattern\":{\"shape\":\"\"}},\"name\":\"\",\"offsetgroup\":\"\",\"orientation\":\"v\",\"showlegend\":false,\"textposition\":\"auto\",\"type\":\"bar\",\"x\":[\"picanha\",\"p\\u00e3o de queijo\",\"macarr\\u00e3o\",\"costela\",\"melancia\",\"sabonete\",\"rodo\",\"amaciante\",\"odorizador\",\"batata\",\"\\u00e1gua sanit\\u00e1ria\",\"uva\",\"sandu\\u00edche\",\"feij\\u00e3o\",\"detergente\",\"carr\\u00e9 de cordeiro\",\"bisteca su\\u00edna\",\"sab\\u00e3o em p\\u00f3\",\"sonho\",\"peito de frango\",\"p\\u00e3o franc\\u00eas\",\"abobrinha\",\"torta\",\"bolo\",\"berinjela\",\"couve-flor\",\"flanela\",\"arroz\",\"paleta su\\u00edna\",\"pastel\",\"p\\u00e3o de forma\",\"alcatra\",\"maminha\",\"banana\",\"alface\",\"morango\"],\"xaxis\":\"x\",\"y\":[227,219,215,211,206,199,192,190,190,187,186,185,184,180,179,178,177,177,176,174,172,168,166,165,160,159,159,154,153,152,150,149,144,135,127,126],\"yaxis\":\"y\"}],                        {\"barmode\":\"stack\",\"height\":500,\"legend\":{\"tracegroupgap\":0},\"margin\":{\"t\":60},\"template\":{\"data\":{\"bar\":[{\"error_x\":{\"color\":\"#2a3f5f\"},\"error_y\":{\"color\":\"#2a3f5f\"},\"marker\":{\"line\":{\"color\":\"#E5ECF6\",\"width\":0.5},\"pattern\":{\"fillmode\":\"overlay\",\"size\":10,\"solidity\":0.2}},\"type\":\"bar\"}],\"barpolar\":[{\"marker\":{\"line\":{\"color\":\"#E5ECF6\",\"width\":0.5},\"pattern\":{\"fillmode\":\"overlay\",\"size\":10,\"solidity\":0.2}},\"type\":\"barpolar\"}],\"carpet\":[{\"aaxis\":{\"endlinecolor\":\"#2a3f5f\",\"gridcolor\":\"white\",\"linecolor\":\"white\",\"minorgridcolor\":\"white\",\"startlinecolor\":\"#2a3f5f\"},\"baxis\":{\"endlinecolor\":\"#2a3f5f\",\"gridcolor\":\"white\",\"linecolor\":\"white\",\"minorgridcolor\":\"white\",\"startlinecolor\":\"#2a3f5f\"},\"type\":\"carpet\"}],\"choropleth\":[{\"colorbar\":{\"outlinewidth\":0,\"ticks\":\"\"},\"type\":\"choropleth\"}],\"contour\":[{\"colorbar\":{\"outlinewidth\":0,\"ticks\":\"\"},\"colorscale\":[[0.0,\"#0d0887\"],[0.1111111111111111,\"#46039f\"],[0.2222222222222222,\"#7201a8\"],[0.3333333333333333,\"#9c179e\"],[0.4444444444444444,\"#bd3786\"],[0.5555555555555556,\"#d8576b\"],[0.6666666666666666,\"#ed7953\"],[0.7777777777777778,\"#fb9f3a\"],[0.8888888888888888,\"#fdca26\"],[1.0,\"#f0f921\"]],\"type\":\"contour\"}],\"contourcarpet\":[{\"colorbar\":{\"outlinewidth\":0,\"ticks\":\"\"},\"type\":\"contourcarpet\"}],\"heatmap\":[{\"colorbar\":{\"outlinewidth\":0,\"ticks\":\"\"},\"colorscale\":[[0.0,\"#0d0887\"],[0.1111111111111111,\"#46039f\"],[0.2222222222222222,\"#7201a8\"],[0.3333333333333333,\"#9c179e\"],[0.4444444444444444,\"#bd3786\"],[0.5555555555555556,\"#d8576b\"],[0.6666666666666666,\"#ed7953\"],[0.7777777777777778,\"#fb9f3a\"],[0.8888888888888888,\"#fdca26\"],[1.0,\"#f0f921\"]],\"type\":\"heatmap\"}],\"heatmapgl\":[{\"colorbar\":{\"outlinewidth\":0,\"ticks\":\"\"},\"colorscale\":[[0.0,\"#0d0887\"],[0.1111111111111111,\"#46039f\"],[0.2222222222222222,\"#7201a8\"],[0.3333333333333333,\"#9c179e\"],[0.4444444444444444,\"#bd3786\"],[0.5555555555555556,\"#d8576b\"],[0.6666666666666666,\"#ed7953\"],[0.7777777777777778,\"#fb9f3a\"],[0.8888888888888888,\"#fdca26\"],[1.0,\"#f0f921\"]],\"type\":\"heatmapgl\"}],\"histogram\":[{\"marker\":{\"pattern\":{\"fillmode\":\"overlay\",\"size\":10,\"solidity\":0.2}},\"type\":\"histogram\"}],\"histogram2d\":[{\"colorbar\":{\"outlinewidth\":0,\"ticks\":\"\"},\"colorscale\":[[0.0,\"#0d0887\"],[0.1111111111111111,\"#46039f\"],[0.2222222222222222,\"#7201a8\"],[0.3333333333333333,\"#9c179e\"],[0.4444444444444444,\"#bd3786\"],[0.5555555555555556,\"#d8576b\"],[0.6666666666666666,\"#ed7953\"],[0.7777777777777778,\"#fb9f3a\"],[0.8888888888888888,\"#fdca26\"],[1.0,\"#f0f921\"]],\"type\":\"histogram2d\"}],\"histogram2dcontour\":[{\"colorbar\":{\"outlinewidth\":0,\"ticks\":\"\"},\"colorscale\":[[0.0,\"#0d0887\"],[0.1111111111111111,\"#46039f\"],[0.2222222222222222,\"#7201a8\"],[0.3333333333333333,\"#9c179e\"],[0.4444444444444444,\"#bd3786\"],[0.5555555555555556,\"#d8576b\"],[0.6666666666666666,\"#ed7953\"],[0.7777777777777778,\"#fb9f3a\"],[0.8888888888888888,\"#fdca26\"],[1.0,\"#f0f921\"]],\"type\":\"histogram2dcontour\"}],\"mesh3d\":[{\"colorbar\":{\"outlinewidth\":0,\"ticks\":\"\"},\"type\":\"mesh3d\"}],\"parcoords\":[{\"line\":{\"colorbar\":{\"outlinewidth\":0,\"ticks\":\"\"}},\"type\":\"parcoords\"}],\"pie\":[{\"automargin\":true,\"type\":\"pie\"}],\"scatter\":[{\"marker\":{\"colorbar\":{\"outlinewidth\":0,\"ticks\":\"\"}},\"type\":\"scatter\"}],\"scatter3d\":[{\"line\":{\"colorbar\":{\"outlinewidth\":0,\"ticks\":\"\"}},\"marker\":{\"colorbar\":{\"outlinewidth\":0,\"ticks\":\"\"}},\"type\":\"scatter3d\"}],\"scattercarpet\":[{\"marker\":{\"colorbar\":{\"outlinewidth\":0,\"ticks\":\"\"}},\"type\":\"scattercarpet\"}],\"scattergeo\":[{\"marker\":{\"colorbar\":{\"outlinewidth\":0,\"ticks\":\"\"}},\"type\":\"scattergeo\"}],\"scattergl\":[{\"marker\":{\"colorbar\":{\"outlinewidth\":0,\"ticks\":\"\"}},\"type\":\"scattergl\"}],\"scattermapbox\":[{\"marker\":{\"colorbar\":{\"outlinewidth\":0,\"ticks\":\"\"}},\"type\":\"scattermapbox\"}],\"scatterpolar\":[{\"marker\":{\"colorbar\":{\"outlinewidth\":0,\"ticks\":\"\"}},\"type\":\"scatterpolar\"}],\"scatterpolargl\":[{\"marker\":{\"colorbar\":{\"outlinewidth\":0,\"ticks\":\"\"}},\"type\":\"scatterpolargl\"}],\"scatterternary\":[{\"marker\":{\"colorbar\":{\"outlinewidth\":0,\"ticks\":\"\"}},\"type\":\"scatterternary\"}],\"surface\":[{\"colorbar\":{\"outlinewidth\":0,\"ticks\":\"\"},\"colorscale\":[[0.0,\"#0d0887\"],[0.1111111111111111,\"#46039f\"],[0.2222222222222222,\"#7201a8\"],[0.3333333333333333,\"#9c179e\"],[0.4444444444444444,\"#bd3786\"],[0.5555555555555556,\"#d8576b\"],[0.6666666666666666,\"#ed7953\"],[0.7777777777777778,\"#fb9f3a\"],[0.8888888888888888,\"#fdca26\"],[1.0,\"#f0f921\"]],\"type\":\"surface\"}],\"table\":[{\"cells\":{\"fill\":{\"color\":\"#EBF0F8\"},\"line\":{\"color\":\"white\"}},\"header\":{\"fill\":{\"color\":\"#C8D4E3\"},\"line\":{\"color\":\"white\"}},\"type\":\"table\"}]},\"layout\":{\"annotationdefaults\":{\"arrowcolor\":\"#2a3f5f\",\"arrowhead\":0,\"arrowwidth\":1},\"autotypenumbers\":\"strict\",\"coloraxis\":{\"colorbar\":{\"outlinewidth\":0,\"ticks\":\"\"}},\"colorscale\":{\"diverging\":[[0,\"#8e0152\"],[0.1,\"#c51b7d\"],[0.2,\"#de77ae\"],[0.3,\"#f1b6da\"],[0.4,\"#fde0ef\"],[0.5,\"#f7f7f7\"],[0.6,\"#e6f5d0\"],[0.7,\"#b8e186\"],[0.8,\"#7fbc41\"],[0.9,\"#4d9221\"],[1,\"#276419\"]],\"sequential\":[[0.0,\"#0d0887\"],[0.1111111111111111,\"#46039f\"],[0.2222222222222222,\"#7201a8\"],[0.3333333333333333,\"#9c179e\"],[0.4444444444444444,\"#bd3786\"],[0.5555555555555556,\"#d8576b\"],[0.6666666666666666,\"#ed7953\"],[0.7777777777777778,\"#fb9f3a\"],[0.8888888888888888,\"#fdca26\"],[1.0,\"#f0f921\"]],\"sequentialminus\":[[0.0,\"#0d0887\"],[0.1111111111111111,\"#46039f\"],[0.2222222222222222,\"#7201a8\"],[0.3333333333333333,\"#9c179e\"],[0.4444444444444444,\"#bd3786\"],[0.5555555555555556,\"#d8576b\"],[0.6666666666666666,\"#ed7953\"],[0.7777777777777778,\"#fb9f3a\"],[0.8888888888888888,\"#fdca26\"],[1.0,\"#f0f921\"]]},\"colorway\":[\"#636efa\",\"#EF553B\",\"#00cc96\",\"#ab63fa\",\"#FFA15A\",\"#19d3f3\",\"#FF6692\",\"#B6E880\",\"#FF97FF\",\"#FECB52\"],\"font\":{\"color\":\"#2a3f5f\"},\"geo\":{\"bgcolor\":\"white\",\"lakecolor\":\"white\",\"landcolor\":\"#E5ECF6\",\"showlakes\":true,\"showland\":true,\"subunitcolor\":\"white\"},\"hoverlabel\":{\"align\":\"left\"},\"hovermode\":\"closest\",\"mapbox\":{\"style\":\"light\"},\"paper_bgcolor\":\"white\",\"plot_bgcolor\":\"#E5ECF6\",\"polar\":{\"angularaxis\":{\"gridcolor\":\"white\",\"linecolor\":\"white\",\"ticks\":\"\"},\"bgcolor\":\"#E5ECF6\",\"radialaxis\":{\"gridcolor\":\"white\",\"linecolor\":\"white\",\"ticks\":\"\"}},\"scene\":{\"xaxis\":{\"backgroundcolor\":\"#E5ECF6\",\"gridcolor\":\"white\",\"gridwidth\":2,\"linecolor\":\"white\",\"showbackground\":true,\"ticks\":\"\",\"zerolinecolor\":\"white\"},\"yaxis\":{\"backgroundcolor\":\"#E5ECF6\",\"gridcolor\":\"white\",\"gridwidth\":2,\"linecolor\":\"white\",\"showbackground\":true,\"ticks\":\"\",\"zerolinecolor\":\"white\"},\"zaxis\":{\"backgroundcolor\":\"#E5ECF6\",\"gridcolor\":\"white\",\"gridwidth\":2,\"linecolor\":\"white\",\"showbackground\":true,\"ticks\":\"\",\"zerolinecolor\":\"white\"}},\"shapedefaults\":{\"line\":{\"color\":\"#2a3f5f\"}},\"ternary\":{\"aaxis\":{\"gridcolor\":\"white\",\"linecolor\":\"white\",\"ticks\":\"\"},\"baxis\":{\"gridcolor\":\"white\",\"linecolor\":\"white\",\"ticks\":\"\"},\"bgcolor\":\"#E5ECF6\",\"caxis\":{\"gridcolor\":\"white\",\"linecolor\":\"white\",\"ticks\":\"\"}},\"title\":{\"x\":0.05},\"xaxis\":{\"automargin\":true,\"gridcolor\":\"white\",\"linecolor\":\"white\",\"ticks\":\"\",\"title\":{\"standoff\":15},\"zerolinecolor\":\"white\",\"zerolinewidth\":2},\"yaxis\":{\"automargin\":true,\"gridcolor\":\"white\",\"linecolor\":\"white\",\"ticks\":\"\",\"title\":{\"standoff\":15},\"zerolinecolor\":\"white\",\"zerolinewidth\":2}}},\"title\":{\"text\":\"Venda dos produtos\"},\"width\":700,\"xaxis\":{\"anchor\":\"y\",\"domain\":[0.0,1.0],\"title\":{\"text\":\"Produto\"}},\"yaxis\":{\"anchor\":\"x\",\"domain\":[0.0,1.0],\"title\":{\"text\":\"Quantidade vendida\"}}},                        {\"responsive\": true}                    ).then(function(){\n",
       "                            \n",
       "var gd = document.getElementById('c7509a40-0545-458c-a308-7c27033d543b');\n",
       "var x = new MutationObserver(function (mutations, observer) {{\n",
       "        var display = window.getComputedStyle(gd).display;\n",
       "        if (!display || display === 'none') {{\n",
       "            console.log([gd, 'removed!']);\n",
       "            Plotly.purge(gd);\n",
       "            observer.disconnect();\n",
       "        }}\n",
       "}});\n",
       "\n",
       "// Listen for the removal of the full notebook cells\n",
       "var notebookContainer = gd.closest('#notebook-container');\n",
       "if (notebookContainer) {{\n",
       "    x.observe(notebookContainer, {childList: true});\n",
       "}}\n",
       "\n",
       "// Listen for the clearing of the current output cell\n",
       "var outputEl = gd.closest('.output');\n",
       "if (outputEl) {{\n",
       "    x.observe(outputEl, {childList: true});\n",
       "}}\n",
       "\n",
       "                        })                };                });            </script>        </div>"
      ]
     },
     "metadata": {},
     "output_type": "display_data"
    }
   ],
   "source": [
    "#plotagem do gráfico de barras sobre o total de vendas por produto usando plotly\n",
    "fig = px.bar(venda_produtos_total,\n",
    "             x='nome', y=\"quantidade\", height=500, width=700,\n",
    "             barmode='stack', labels={\"nome\": \"Nome\", 'quantidade':\"Quantidade vendida\"})\n",
    "fig.update_layout(title = 'Venda dos produtos')\n",
    "fig.update_xaxes(title = 'Produto')\n",
    "fig.update_yaxes(title = 'Quantidade vendida')\n",
    "fig.show()"
   ]
  },
  {
   "cell_type": "code",
   "execution_count": 87,
   "id": "8a1c89c5",
   "metadata": {},
   "outputs": [
    {
     "name": "stderr",
     "output_type": "stream",
     "text": [
      "IOPub data rate exceeded.\n",
      "The notebook server will temporarily stop sending output\n",
      "to the client in order to avoid crashing it.\n",
      "To change this limit, set the config variable\n",
      "`--NotebookApp.iopub_data_rate_limit`.\n",
      "\n",
      "Current values:\n",
      "NotebookApp.iopub_data_rate_limit=1000000.0 (bytes/sec)\n",
      "NotebookApp.rate_limit_window=3.0 (secs)\n",
      "\n"
     ]
    }
   ],
   "source": [
    "from plotly.io import to_html\n",
    "#f=to_html(fig, full_html = False)\n",
    "f=fig.to_html(full_html=False)\n",
    "print(f)"
   ]
  },
  {
   "cell_type": "markdown",
   "id": "fdb739ee",
   "metadata": {},
   "source": [
    "## Relação entre preço e estoque"
   ]
  },
  {
   "cell_type": "code",
   "execution_count": 88,
   "id": "c607e931",
   "metadata": {},
   "outputs": [
    {
     "data": {
      "application/vnd.plotly.v1+json": {
       "config": {
        "plotlyServerURL": "https://plot.ly"
       },
       "data": [
        {
         "hovertemplate": "Preço=%{x}<br>Estoque=%{y}<extra></extra>",
         "legendgroup": "",
         "marker": {
          "color": "#636efa",
          "line": {
           "width": 2
          },
          "size": 8,
          "symbol": "circle"
         },
         "mode": "markers",
         "name": "",
         "orientation": "v",
         "showlegend": false,
         "type": "scatter",
         "x": [
          7.99,
          15.99,
          5.99,
          7.47,
          3.99,
          11.99,
          3.49,
          0.98,
          5.48,
          8.45,
          4.31,
          2.48,
          31.99,
          42.99,
          22.79,
          172,
          20.99,
          23.99,
          70.89,
          16.49,
          35,
          6.99,
          23.99,
          10.99,
          4.99,
          12.99,
          3.49,
          45,
          6.7,
          11.98,
          2.7,
          1.99,
          23.99,
          5.99,
          9.69,
          1.29
         ],
         "xaxis": "x",
         "y": [
          50,
          20,
          40,
          36,
          47,
          12,
          19,
          25,
          20,
          43,
          80,
          38,
          7,
          9,
          5,
          5,
          10,
          9,
          6,
          10,
          7,
          15,
          1,
          3,
          9,
          15,
          20,
          7,
          12,
          8,
          40,
          32,
          6,
          10,
          13,
          58
         ],
         "yaxis": "y"
        }
       ],
       "layout": {
        "height": 500,
        "legend": {
         "tracegroupgap": 0
        },
        "margin": {
         "t": 60
        },
        "template": {
         "data": {
          "bar": [
           {
            "error_x": {
             "color": "#2a3f5f"
            },
            "error_y": {
             "color": "#2a3f5f"
            },
            "marker": {
             "line": {
              "color": "#E5ECF6",
              "width": 0.5
             },
             "pattern": {
              "fillmode": "overlay",
              "size": 10,
              "solidity": 0.2
             }
            },
            "type": "bar"
           }
          ],
          "barpolar": [
           {
            "marker": {
             "line": {
              "color": "#E5ECF6",
              "width": 0.5
             },
             "pattern": {
              "fillmode": "overlay",
              "size": 10,
              "solidity": 0.2
             }
            },
            "type": "barpolar"
           }
          ],
          "carpet": [
           {
            "aaxis": {
             "endlinecolor": "#2a3f5f",
             "gridcolor": "white",
             "linecolor": "white",
             "minorgridcolor": "white",
             "startlinecolor": "#2a3f5f"
            },
            "baxis": {
             "endlinecolor": "#2a3f5f",
             "gridcolor": "white",
             "linecolor": "white",
             "minorgridcolor": "white",
             "startlinecolor": "#2a3f5f"
            },
            "type": "carpet"
           }
          ],
          "choropleth": [
           {
            "colorbar": {
             "outlinewidth": 0,
             "ticks": ""
            },
            "type": "choropleth"
           }
          ],
          "contour": [
           {
            "colorbar": {
             "outlinewidth": 0,
             "ticks": ""
            },
            "colorscale": [
             [
              0,
              "#0d0887"
             ],
             [
              0.1111111111111111,
              "#46039f"
             ],
             [
              0.2222222222222222,
              "#7201a8"
             ],
             [
              0.3333333333333333,
              "#9c179e"
             ],
             [
              0.4444444444444444,
              "#bd3786"
             ],
             [
              0.5555555555555556,
              "#d8576b"
             ],
             [
              0.6666666666666666,
              "#ed7953"
             ],
             [
              0.7777777777777778,
              "#fb9f3a"
             ],
             [
              0.8888888888888888,
              "#fdca26"
             ],
             [
              1,
              "#f0f921"
             ]
            ],
            "type": "contour"
           }
          ],
          "contourcarpet": [
           {
            "colorbar": {
             "outlinewidth": 0,
             "ticks": ""
            },
            "type": "contourcarpet"
           }
          ],
          "heatmap": [
           {
            "colorbar": {
             "outlinewidth": 0,
             "ticks": ""
            },
            "colorscale": [
             [
              0,
              "#0d0887"
             ],
             [
              0.1111111111111111,
              "#46039f"
             ],
             [
              0.2222222222222222,
              "#7201a8"
             ],
             [
              0.3333333333333333,
              "#9c179e"
             ],
             [
              0.4444444444444444,
              "#bd3786"
             ],
             [
              0.5555555555555556,
              "#d8576b"
             ],
             [
              0.6666666666666666,
              "#ed7953"
             ],
             [
              0.7777777777777778,
              "#fb9f3a"
             ],
             [
              0.8888888888888888,
              "#fdca26"
             ],
             [
              1,
              "#f0f921"
             ]
            ],
            "type": "heatmap"
           }
          ],
          "heatmapgl": [
           {
            "colorbar": {
             "outlinewidth": 0,
             "ticks": ""
            },
            "colorscale": [
             [
              0,
              "#0d0887"
             ],
             [
              0.1111111111111111,
              "#46039f"
             ],
             [
              0.2222222222222222,
              "#7201a8"
             ],
             [
              0.3333333333333333,
              "#9c179e"
             ],
             [
              0.4444444444444444,
              "#bd3786"
             ],
             [
              0.5555555555555556,
              "#d8576b"
             ],
             [
              0.6666666666666666,
              "#ed7953"
             ],
             [
              0.7777777777777778,
              "#fb9f3a"
             ],
             [
              0.8888888888888888,
              "#fdca26"
             ],
             [
              1,
              "#f0f921"
             ]
            ],
            "type": "heatmapgl"
           }
          ],
          "histogram": [
           {
            "marker": {
             "pattern": {
              "fillmode": "overlay",
              "size": 10,
              "solidity": 0.2
             }
            },
            "type": "histogram"
           }
          ],
          "histogram2d": [
           {
            "colorbar": {
             "outlinewidth": 0,
             "ticks": ""
            },
            "colorscale": [
             [
              0,
              "#0d0887"
             ],
             [
              0.1111111111111111,
              "#46039f"
             ],
             [
              0.2222222222222222,
              "#7201a8"
             ],
             [
              0.3333333333333333,
              "#9c179e"
             ],
             [
              0.4444444444444444,
              "#bd3786"
             ],
             [
              0.5555555555555556,
              "#d8576b"
             ],
             [
              0.6666666666666666,
              "#ed7953"
             ],
             [
              0.7777777777777778,
              "#fb9f3a"
             ],
             [
              0.8888888888888888,
              "#fdca26"
             ],
             [
              1,
              "#f0f921"
             ]
            ],
            "type": "histogram2d"
           }
          ],
          "histogram2dcontour": [
           {
            "colorbar": {
             "outlinewidth": 0,
             "ticks": ""
            },
            "colorscale": [
             [
              0,
              "#0d0887"
             ],
             [
              0.1111111111111111,
              "#46039f"
             ],
             [
              0.2222222222222222,
              "#7201a8"
             ],
             [
              0.3333333333333333,
              "#9c179e"
             ],
             [
              0.4444444444444444,
              "#bd3786"
             ],
             [
              0.5555555555555556,
              "#d8576b"
             ],
             [
              0.6666666666666666,
              "#ed7953"
             ],
             [
              0.7777777777777778,
              "#fb9f3a"
             ],
             [
              0.8888888888888888,
              "#fdca26"
             ],
             [
              1,
              "#f0f921"
             ]
            ],
            "type": "histogram2dcontour"
           }
          ],
          "mesh3d": [
           {
            "colorbar": {
             "outlinewidth": 0,
             "ticks": ""
            },
            "type": "mesh3d"
           }
          ],
          "parcoords": [
           {
            "line": {
             "colorbar": {
              "outlinewidth": 0,
              "ticks": ""
             }
            },
            "type": "parcoords"
           }
          ],
          "pie": [
           {
            "automargin": true,
            "type": "pie"
           }
          ],
          "scatter": [
           {
            "marker": {
             "colorbar": {
              "outlinewidth": 0,
              "ticks": ""
             }
            },
            "type": "scatter"
           }
          ],
          "scatter3d": [
           {
            "line": {
             "colorbar": {
              "outlinewidth": 0,
              "ticks": ""
             }
            },
            "marker": {
             "colorbar": {
              "outlinewidth": 0,
              "ticks": ""
             }
            },
            "type": "scatter3d"
           }
          ],
          "scattercarpet": [
           {
            "marker": {
             "colorbar": {
              "outlinewidth": 0,
              "ticks": ""
             }
            },
            "type": "scattercarpet"
           }
          ],
          "scattergeo": [
           {
            "marker": {
             "colorbar": {
              "outlinewidth": 0,
              "ticks": ""
             }
            },
            "type": "scattergeo"
           }
          ],
          "scattergl": [
           {
            "marker": {
             "colorbar": {
              "outlinewidth": 0,
              "ticks": ""
             }
            },
            "type": "scattergl"
           }
          ],
          "scattermapbox": [
           {
            "marker": {
             "colorbar": {
              "outlinewidth": 0,
              "ticks": ""
             }
            },
            "type": "scattermapbox"
           }
          ],
          "scatterpolar": [
           {
            "marker": {
             "colorbar": {
              "outlinewidth": 0,
              "ticks": ""
             }
            },
            "type": "scatterpolar"
           }
          ],
          "scatterpolargl": [
           {
            "marker": {
             "colorbar": {
              "outlinewidth": 0,
              "ticks": ""
             }
            },
            "type": "scatterpolargl"
           }
          ],
          "scatterternary": [
           {
            "marker": {
             "colorbar": {
              "outlinewidth": 0,
              "ticks": ""
             }
            },
            "type": "scatterternary"
           }
          ],
          "surface": [
           {
            "colorbar": {
             "outlinewidth": 0,
             "ticks": ""
            },
            "colorscale": [
             [
              0,
              "#0d0887"
             ],
             [
              0.1111111111111111,
              "#46039f"
             ],
             [
              0.2222222222222222,
              "#7201a8"
             ],
             [
              0.3333333333333333,
              "#9c179e"
             ],
             [
              0.4444444444444444,
              "#bd3786"
             ],
             [
              0.5555555555555556,
              "#d8576b"
             ],
             [
              0.6666666666666666,
              "#ed7953"
             ],
             [
              0.7777777777777778,
              "#fb9f3a"
             ],
             [
              0.8888888888888888,
              "#fdca26"
             ],
             [
              1,
              "#f0f921"
             ]
            ],
            "type": "surface"
           }
          ],
          "table": [
           {
            "cells": {
             "fill": {
              "color": "#EBF0F8"
             },
             "line": {
              "color": "white"
             }
            },
            "header": {
             "fill": {
              "color": "#C8D4E3"
             },
             "line": {
              "color": "white"
             }
            },
            "type": "table"
           }
          ]
         },
         "layout": {
          "annotationdefaults": {
           "arrowcolor": "#2a3f5f",
           "arrowhead": 0,
           "arrowwidth": 1
          },
          "autotypenumbers": "strict",
          "coloraxis": {
           "colorbar": {
            "outlinewidth": 0,
            "ticks": ""
           }
          },
          "colorscale": {
           "diverging": [
            [
             0,
             "#8e0152"
            ],
            [
             0.1,
             "#c51b7d"
            ],
            [
             0.2,
             "#de77ae"
            ],
            [
             0.3,
             "#f1b6da"
            ],
            [
             0.4,
             "#fde0ef"
            ],
            [
             0.5,
             "#f7f7f7"
            ],
            [
             0.6,
             "#e6f5d0"
            ],
            [
             0.7,
             "#b8e186"
            ],
            [
             0.8,
             "#7fbc41"
            ],
            [
             0.9,
             "#4d9221"
            ],
            [
             1,
             "#276419"
            ]
           ],
           "sequential": [
            [
             0,
             "#0d0887"
            ],
            [
             0.1111111111111111,
             "#46039f"
            ],
            [
             0.2222222222222222,
             "#7201a8"
            ],
            [
             0.3333333333333333,
             "#9c179e"
            ],
            [
             0.4444444444444444,
             "#bd3786"
            ],
            [
             0.5555555555555556,
             "#d8576b"
            ],
            [
             0.6666666666666666,
             "#ed7953"
            ],
            [
             0.7777777777777778,
             "#fb9f3a"
            ],
            [
             0.8888888888888888,
             "#fdca26"
            ],
            [
             1,
             "#f0f921"
            ]
           ],
           "sequentialminus": [
            [
             0,
             "#0d0887"
            ],
            [
             0.1111111111111111,
             "#46039f"
            ],
            [
             0.2222222222222222,
             "#7201a8"
            ],
            [
             0.3333333333333333,
             "#9c179e"
            ],
            [
             0.4444444444444444,
             "#bd3786"
            ],
            [
             0.5555555555555556,
             "#d8576b"
            ],
            [
             0.6666666666666666,
             "#ed7953"
            ],
            [
             0.7777777777777778,
             "#fb9f3a"
            ],
            [
             0.8888888888888888,
             "#fdca26"
            ],
            [
             1,
             "#f0f921"
            ]
           ]
          },
          "colorway": [
           "#636efa",
           "#EF553B",
           "#00cc96",
           "#ab63fa",
           "#FFA15A",
           "#19d3f3",
           "#FF6692",
           "#B6E880",
           "#FF97FF",
           "#FECB52"
          ],
          "font": {
           "color": "#2a3f5f"
          },
          "geo": {
           "bgcolor": "white",
           "lakecolor": "white",
           "landcolor": "#E5ECF6",
           "showlakes": true,
           "showland": true,
           "subunitcolor": "white"
          },
          "hoverlabel": {
           "align": "left"
          },
          "hovermode": "closest",
          "mapbox": {
           "style": "light"
          },
          "paper_bgcolor": "white",
          "plot_bgcolor": "#E5ECF6",
          "polar": {
           "angularaxis": {
            "gridcolor": "white",
            "linecolor": "white",
            "ticks": ""
           },
           "bgcolor": "#E5ECF6",
           "radialaxis": {
            "gridcolor": "white",
            "linecolor": "white",
            "ticks": ""
           }
          },
          "scene": {
           "xaxis": {
            "backgroundcolor": "#E5ECF6",
            "gridcolor": "white",
            "gridwidth": 2,
            "linecolor": "white",
            "showbackground": true,
            "ticks": "",
            "zerolinecolor": "white"
           },
           "yaxis": {
            "backgroundcolor": "#E5ECF6",
            "gridcolor": "white",
            "gridwidth": 2,
            "linecolor": "white",
            "showbackground": true,
            "ticks": "",
            "zerolinecolor": "white"
           },
           "zaxis": {
            "backgroundcolor": "#E5ECF6",
            "gridcolor": "white",
            "gridwidth": 2,
            "linecolor": "white",
            "showbackground": true,
            "ticks": "",
            "zerolinecolor": "white"
           }
          },
          "shapedefaults": {
           "line": {
            "color": "#2a3f5f"
           }
          },
          "ternary": {
           "aaxis": {
            "gridcolor": "white",
            "linecolor": "white",
            "ticks": ""
           },
           "baxis": {
            "gridcolor": "white",
            "linecolor": "white",
            "ticks": ""
           },
           "bgcolor": "#E5ECF6",
           "caxis": {
            "gridcolor": "white",
            "linecolor": "white",
            "ticks": ""
           }
          },
          "title": {
           "x": 0.05
          },
          "xaxis": {
           "automargin": true,
           "gridcolor": "white",
           "linecolor": "white",
           "ticks": "",
           "title": {
            "standoff": 15
           },
           "zerolinecolor": "white",
           "zerolinewidth": 2
          },
          "yaxis": {
           "automargin": true,
           "gridcolor": "white",
           "linecolor": "white",
           "ticks": "",
           "title": {
            "standoff": 15
           },
           "zerolinecolor": "white",
           "zerolinewidth": 2
          }
         }
        },
        "title": {
         "text": "Preço X Estoque"
        },
        "width": 500,
        "xaxis": {
         "anchor": "y",
         "domain": [
          0,
          1
         ],
         "title": {
          "text": "Preço do produto"
         }
        },
        "yaxis": {
         "anchor": "x",
         "domain": [
          0,
          1
         ],
         "title": {
          "text": "Quantidade em estoque"
         }
        }
       }
      },
      "text/html": [
       "<div>                            <div id=\"04eb1d0c-5891-4a95-9a86-b78421416ce9\" class=\"plotly-graph-div\" style=\"height:500px; width:500px;\"></div>            <script type=\"text/javascript\">                require([\"plotly\"], function(Plotly) {                    window.PLOTLYENV=window.PLOTLYENV || {};                                    if (document.getElementById(\"04eb1d0c-5891-4a95-9a86-b78421416ce9\")) {                    Plotly.newPlot(                        \"04eb1d0c-5891-4a95-9a86-b78421416ce9\",                        [{\"hovertemplate\":\"Pre\\u00e7o=%{x}<br>Estoque=%{y}<extra></extra>\",\"legendgroup\":\"\",\"marker\":{\"color\":\"#636efa\",\"line\":{\"width\":2},\"size\":8,\"symbol\":\"circle\"},\"mode\":\"markers\",\"name\":\"\",\"orientation\":\"v\",\"showlegend\":false,\"type\":\"scatter\",\"x\":[7.99,15.99,5.99,7.47,3.99,11.99,3.49,0.98,5.48,8.45,4.31,2.48,31.99,42.99,22.79,172.0,20.99,23.99,70.89,16.49,35.0,6.99,23.99,10.99,4.99,12.99,3.49,45.0,6.7,11.98,2.7,1.99,23.99,5.99,9.69,1.29],\"xaxis\":\"x\",\"y\":[50,20,40,36,47,12,19,25,20,43,80,38,7,9,5,5,10,9,6,10,7,15,1,3,9,15,20,7,12,8,40,32,6,10,13,58],\"yaxis\":\"y\"}],                        {\"height\":500,\"legend\":{\"tracegroupgap\":0},\"margin\":{\"t\":60},\"template\":{\"data\":{\"bar\":[{\"error_x\":{\"color\":\"#2a3f5f\"},\"error_y\":{\"color\":\"#2a3f5f\"},\"marker\":{\"line\":{\"color\":\"#E5ECF6\",\"width\":0.5},\"pattern\":{\"fillmode\":\"overlay\",\"size\":10,\"solidity\":0.2}},\"type\":\"bar\"}],\"barpolar\":[{\"marker\":{\"line\":{\"color\":\"#E5ECF6\",\"width\":0.5},\"pattern\":{\"fillmode\":\"overlay\",\"size\":10,\"solidity\":0.2}},\"type\":\"barpolar\"}],\"carpet\":[{\"aaxis\":{\"endlinecolor\":\"#2a3f5f\",\"gridcolor\":\"white\",\"linecolor\":\"white\",\"minorgridcolor\":\"white\",\"startlinecolor\":\"#2a3f5f\"},\"baxis\":{\"endlinecolor\":\"#2a3f5f\",\"gridcolor\":\"white\",\"linecolor\":\"white\",\"minorgridcolor\":\"white\",\"startlinecolor\":\"#2a3f5f\"},\"type\":\"carpet\"}],\"choropleth\":[{\"colorbar\":{\"outlinewidth\":0,\"ticks\":\"\"},\"type\":\"choropleth\"}],\"contour\":[{\"colorbar\":{\"outlinewidth\":0,\"ticks\":\"\"},\"colorscale\":[[0.0,\"#0d0887\"],[0.1111111111111111,\"#46039f\"],[0.2222222222222222,\"#7201a8\"],[0.3333333333333333,\"#9c179e\"],[0.4444444444444444,\"#bd3786\"],[0.5555555555555556,\"#d8576b\"],[0.6666666666666666,\"#ed7953\"],[0.7777777777777778,\"#fb9f3a\"],[0.8888888888888888,\"#fdca26\"],[1.0,\"#f0f921\"]],\"type\":\"contour\"}],\"contourcarpet\":[{\"colorbar\":{\"outlinewidth\":0,\"ticks\":\"\"},\"type\":\"contourcarpet\"}],\"heatmap\":[{\"colorbar\":{\"outlinewidth\":0,\"ticks\":\"\"},\"colorscale\":[[0.0,\"#0d0887\"],[0.1111111111111111,\"#46039f\"],[0.2222222222222222,\"#7201a8\"],[0.3333333333333333,\"#9c179e\"],[0.4444444444444444,\"#bd3786\"],[0.5555555555555556,\"#d8576b\"],[0.6666666666666666,\"#ed7953\"],[0.7777777777777778,\"#fb9f3a\"],[0.8888888888888888,\"#fdca26\"],[1.0,\"#f0f921\"]],\"type\":\"heatmap\"}],\"heatmapgl\":[{\"colorbar\":{\"outlinewidth\":0,\"ticks\":\"\"},\"colorscale\":[[0.0,\"#0d0887\"],[0.1111111111111111,\"#46039f\"],[0.2222222222222222,\"#7201a8\"],[0.3333333333333333,\"#9c179e\"],[0.4444444444444444,\"#bd3786\"],[0.5555555555555556,\"#d8576b\"],[0.6666666666666666,\"#ed7953\"],[0.7777777777777778,\"#fb9f3a\"],[0.8888888888888888,\"#fdca26\"],[1.0,\"#f0f921\"]],\"type\":\"heatmapgl\"}],\"histogram\":[{\"marker\":{\"pattern\":{\"fillmode\":\"overlay\",\"size\":10,\"solidity\":0.2}},\"type\":\"histogram\"}],\"histogram2d\":[{\"colorbar\":{\"outlinewidth\":0,\"ticks\":\"\"},\"colorscale\":[[0.0,\"#0d0887\"],[0.1111111111111111,\"#46039f\"],[0.2222222222222222,\"#7201a8\"],[0.3333333333333333,\"#9c179e\"],[0.4444444444444444,\"#bd3786\"],[0.5555555555555556,\"#d8576b\"],[0.6666666666666666,\"#ed7953\"],[0.7777777777777778,\"#fb9f3a\"],[0.8888888888888888,\"#fdca26\"],[1.0,\"#f0f921\"]],\"type\":\"histogram2d\"}],\"histogram2dcontour\":[{\"colorbar\":{\"outlinewidth\":0,\"ticks\":\"\"},\"colorscale\":[[0.0,\"#0d0887\"],[0.1111111111111111,\"#46039f\"],[0.2222222222222222,\"#7201a8\"],[0.3333333333333333,\"#9c179e\"],[0.4444444444444444,\"#bd3786\"],[0.5555555555555556,\"#d8576b\"],[0.6666666666666666,\"#ed7953\"],[0.7777777777777778,\"#fb9f3a\"],[0.8888888888888888,\"#fdca26\"],[1.0,\"#f0f921\"]],\"type\":\"histogram2dcontour\"}],\"mesh3d\":[{\"colorbar\":{\"outlinewidth\":0,\"ticks\":\"\"},\"type\":\"mesh3d\"}],\"parcoords\":[{\"line\":{\"colorbar\":{\"outlinewidth\":0,\"ticks\":\"\"}},\"type\":\"parcoords\"}],\"pie\":[{\"automargin\":true,\"type\":\"pie\"}],\"scatter\":[{\"marker\":{\"colorbar\":{\"outlinewidth\":0,\"ticks\":\"\"}},\"type\":\"scatter\"}],\"scatter3d\":[{\"line\":{\"colorbar\":{\"outlinewidth\":0,\"ticks\":\"\"}},\"marker\":{\"colorbar\":{\"outlinewidth\":0,\"ticks\":\"\"}},\"type\":\"scatter3d\"}],\"scattercarpet\":[{\"marker\":{\"colorbar\":{\"outlinewidth\":0,\"ticks\":\"\"}},\"type\":\"scattercarpet\"}],\"scattergeo\":[{\"marker\":{\"colorbar\":{\"outlinewidth\":0,\"ticks\":\"\"}},\"type\":\"scattergeo\"}],\"scattergl\":[{\"marker\":{\"colorbar\":{\"outlinewidth\":0,\"ticks\":\"\"}},\"type\":\"scattergl\"}],\"scattermapbox\":[{\"marker\":{\"colorbar\":{\"outlinewidth\":0,\"ticks\":\"\"}},\"type\":\"scattermapbox\"}],\"scatterpolar\":[{\"marker\":{\"colorbar\":{\"outlinewidth\":0,\"ticks\":\"\"}},\"type\":\"scatterpolar\"}],\"scatterpolargl\":[{\"marker\":{\"colorbar\":{\"outlinewidth\":0,\"ticks\":\"\"}},\"type\":\"scatterpolargl\"}],\"scatterternary\":[{\"marker\":{\"colorbar\":{\"outlinewidth\":0,\"ticks\":\"\"}},\"type\":\"scatterternary\"}],\"surface\":[{\"colorbar\":{\"outlinewidth\":0,\"ticks\":\"\"},\"colorscale\":[[0.0,\"#0d0887\"],[0.1111111111111111,\"#46039f\"],[0.2222222222222222,\"#7201a8\"],[0.3333333333333333,\"#9c179e\"],[0.4444444444444444,\"#bd3786\"],[0.5555555555555556,\"#d8576b\"],[0.6666666666666666,\"#ed7953\"],[0.7777777777777778,\"#fb9f3a\"],[0.8888888888888888,\"#fdca26\"],[1.0,\"#f0f921\"]],\"type\":\"surface\"}],\"table\":[{\"cells\":{\"fill\":{\"color\":\"#EBF0F8\"},\"line\":{\"color\":\"white\"}},\"header\":{\"fill\":{\"color\":\"#C8D4E3\"},\"line\":{\"color\":\"white\"}},\"type\":\"table\"}]},\"layout\":{\"annotationdefaults\":{\"arrowcolor\":\"#2a3f5f\",\"arrowhead\":0,\"arrowwidth\":1},\"autotypenumbers\":\"strict\",\"coloraxis\":{\"colorbar\":{\"outlinewidth\":0,\"ticks\":\"\"}},\"colorscale\":{\"diverging\":[[0,\"#8e0152\"],[0.1,\"#c51b7d\"],[0.2,\"#de77ae\"],[0.3,\"#f1b6da\"],[0.4,\"#fde0ef\"],[0.5,\"#f7f7f7\"],[0.6,\"#e6f5d0\"],[0.7,\"#b8e186\"],[0.8,\"#7fbc41\"],[0.9,\"#4d9221\"],[1,\"#276419\"]],\"sequential\":[[0.0,\"#0d0887\"],[0.1111111111111111,\"#46039f\"],[0.2222222222222222,\"#7201a8\"],[0.3333333333333333,\"#9c179e\"],[0.4444444444444444,\"#bd3786\"],[0.5555555555555556,\"#d8576b\"],[0.6666666666666666,\"#ed7953\"],[0.7777777777777778,\"#fb9f3a\"],[0.8888888888888888,\"#fdca26\"],[1.0,\"#f0f921\"]],\"sequentialminus\":[[0.0,\"#0d0887\"],[0.1111111111111111,\"#46039f\"],[0.2222222222222222,\"#7201a8\"],[0.3333333333333333,\"#9c179e\"],[0.4444444444444444,\"#bd3786\"],[0.5555555555555556,\"#d8576b\"],[0.6666666666666666,\"#ed7953\"],[0.7777777777777778,\"#fb9f3a\"],[0.8888888888888888,\"#fdca26\"],[1.0,\"#f0f921\"]]},\"colorway\":[\"#636efa\",\"#EF553B\",\"#00cc96\",\"#ab63fa\",\"#FFA15A\",\"#19d3f3\",\"#FF6692\",\"#B6E880\",\"#FF97FF\",\"#FECB52\"],\"font\":{\"color\":\"#2a3f5f\"},\"geo\":{\"bgcolor\":\"white\",\"lakecolor\":\"white\",\"landcolor\":\"#E5ECF6\",\"showlakes\":true,\"showland\":true,\"subunitcolor\":\"white\"},\"hoverlabel\":{\"align\":\"left\"},\"hovermode\":\"closest\",\"mapbox\":{\"style\":\"light\"},\"paper_bgcolor\":\"white\",\"plot_bgcolor\":\"#E5ECF6\",\"polar\":{\"angularaxis\":{\"gridcolor\":\"white\",\"linecolor\":\"white\",\"ticks\":\"\"},\"bgcolor\":\"#E5ECF6\",\"radialaxis\":{\"gridcolor\":\"white\",\"linecolor\":\"white\",\"ticks\":\"\"}},\"scene\":{\"xaxis\":{\"backgroundcolor\":\"#E5ECF6\",\"gridcolor\":\"white\",\"gridwidth\":2,\"linecolor\":\"white\",\"showbackground\":true,\"ticks\":\"\",\"zerolinecolor\":\"white\"},\"yaxis\":{\"backgroundcolor\":\"#E5ECF6\",\"gridcolor\":\"white\",\"gridwidth\":2,\"linecolor\":\"white\",\"showbackground\":true,\"ticks\":\"\",\"zerolinecolor\":\"white\"},\"zaxis\":{\"backgroundcolor\":\"#E5ECF6\",\"gridcolor\":\"white\",\"gridwidth\":2,\"linecolor\":\"white\",\"showbackground\":true,\"ticks\":\"\",\"zerolinecolor\":\"white\"}},\"shapedefaults\":{\"line\":{\"color\":\"#2a3f5f\"}},\"ternary\":{\"aaxis\":{\"gridcolor\":\"white\",\"linecolor\":\"white\",\"ticks\":\"\"},\"baxis\":{\"gridcolor\":\"white\",\"linecolor\":\"white\",\"ticks\":\"\"},\"bgcolor\":\"#E5ECF6\",\"caxis\":{\"gridcolor\":\"white\",\"linecolor\":\"white\",\"ticks\":\"\"}},\"title\":{\"x\":0.05},\"xaxis\":{\"automargin\":true,\"gridcolor\":\"white\",\"linecolor\":\"white\",\"ticks\":\"\",\"title\":{\"standoff\":15},\"zerolinecolor\":\"white\",\"zerolinewidth\":2},\"yaxis\":{\"automargin\":true,\"gridcolor\":\"white\",\"linecolor\":\"white\",\"ticks\":\"\",\"title\":{\"standoff\":15},\"zerolinecolor\":\"white\",\"zerolinewidth\":2}}},\"title\":{\"text\":\"Pre\\u00e7o X Estoque\"},\"width\":500,\"xaxis\":{\"anchor\":\"y\",\"domain\":[0.0,1.0],\"title\":{\"text\":\"Pre\\u00e7o do produto\"}},\"yaxis\":{\"anchor\":\"x\",\"domain\":[0.0,1.0],\"title\":{\"text\":\"Quantidade em estoque\"}}},                        {\"responsive\": true}                    ).then(function(){\n",
       "                            \n",
       "var gd = document.getElementById('04eb1d0c-5891-4a95-9a86-b78421416ce9');\n",
       "var x = new MutationObserver(function (mutations, observer) {{\n",
       "        var display = window.getComputedStyle(gd).display;\n",
       "        if (!display || display === 'none') {{\n",
       "            console.log([gd, 'removed!']);\n",
       "            Plotly.purge(gd);\n",
       "            observer.disconnect();\n",
       "        }}\n",
       "}});\n",
       "\n",
       "// Listen for the removal of the full notebook cells\n",
       "var notebookContainer = gd.closest('#notebook-container');\n",
       "if (notebookContainer) {{\n",
       "    x.observe(notebookContainer, {childList: true});\n",
       "}}\n",
       "\n",
       "// Listen for the clearing of the current output cell\n",
       "var outputEl = gd.closest('.output');\n",
       "if (outputEl) {{\n",
       "    x.observe(outputEl, {childList: true});\n",
       "}}\n",
       "\n",
       "                        })                };                });            </script>        </div>"
      ]
     },
     "metadata": {},
     "output_type": "display_data"
    }
   ],
   "source": [
    "#pltagem de um gráfico de disperção relacionado preço e estoque\n",
    "fig=px.scatter(produtos, x = \"preco\", y = \"estoque\", labels={\"preco\": \"Preço\", \"estoque\": \"Estoque\" }, height=500, width=500,)\n",
    "fig.update_traces(marker=dict(size = 8,line = dict(width = 2)),selector=dict(mode = 'markers'))\n",
    "fig.update_layout(title = 'Preço X Estoque')\n",
    "fig.update_xaxes(title = 'Preço do produto')\n",
    "fig.update_yaxes(title = 'Quantidade em estoque')\n",
    "fig.show()"
   ]
  },
  {
   "cell_type": "code",
   "execution_count": 89,
   "id": "cbc359fe",
   "metadata": {},
   "outputs": [
    {
     "name": "stdout",
     "output_type": "stream",
     "text": [
      "Correlação dos dados (preço e estoque): -0.37864973583430267\n"
     ]
    }
   ],
   "source": [
    "# Calculando a correlação dos dados\n",
    "Correlação= produtos['preco'].corr(produtos['estoque'])\n",
    "print(f\"Correlação dos dados (preço e estoque):\", Correlação)"
   ]
  },
  {
   "cell_type": "markdown",
   "id": "ec5bdcd7",
   "metadata": {},
   "source": [
    "## Cliente mais ativo"
   ]
  },
  {
   "cell_type": "code",
   "execution_count": 99,
   "id": "da5b4787",
   "metadata": {},
   "outputs": [],
   "source": [
    "#criando uma tabela para analisar a quantidade de produtos comprados por id_cliente\n",
    "quantidade_comprada = venda_produtos_cliente[[\"id_clientes\", \"quantidade\"]].groupby(['id_clientes']).sum().sort_values('quantidade', ascending=False).reset_index().head(10)\n",
    "\n",
    "#renomenado a coluna quantidade para quantidade_total na tabela de quantidade_comprada\n",
    "quantidade_comprada.rename(columns={\"quantidade\": \"quantidade_total\"}, inplace = 1)\n",
    "\n",
    "#realizando a união das tabelas venda_produtos_cliente e quantidade_comprada em id_cliente\n",
    "venda_produtos_cliente_qt = pd.merge(venda_produtos_cliente, quantidade_comprada, on = 'id_clientes', how='right') \n",
    "\n",
    "#lista_id_cliente_maiores_quantidades = quantidade_comprada['id_cliente'].tolist()\n",
    "#clientes.iloc[lista_id_cliente_maiores_quantidades]"
   ]
  },
  {
   "cell_type": "code",
   "execution_count": 91,
   "id": "ff7d5af4",
   "metadata": {},
   "outputs": [
    {
     "data": {
      "application/vnd.plotly.v1+json": {
       "config": {
        "plotlyServerURL": "https://plot.ly"
       },
       "data": [
        {
         "alignmentgroup": "True",
         "hovertemplate": "Produto=morango<br>Nome do cliente=%{x}<br>Quantidade de vendas=%{y}<extra></extra>",
         "legendgroup": "morango",
         "marker": {
          "color": "#636efa",
          "pattern": {
           "shape": ""
          }
         },
         "name": "morango",
         "offsetgroup": "morango",
         "orientation": "v",
         "showlegend": true,
         "textposition": "auto",
         "type": "bar",
         "x": [
          "Gustavo Henrique Moreira",
          "Sr. Ryan Rocha",
          "Sr. Ryan Rocha",
          "Vitor Caldeira",
          "Vitor Caldeira",
          "Vitor Caldeira",
          "Beatriz Fernandes",
          "Nicole Pereira",
          "Matheus Carvalho"
         ],
         "xaxis": "x",
         "y": [
          4,
          2,
          4,
          2,
          1,
          2,
          3,
          2,
          3
         ],
         "yaxis": "y"
        },
        {
         "alignmentgroup": "True",
         "hovertemplate": "Produto=melancia<br>Nome do cliente=%{x}<br>Quantidade de vendas=%{y}<extra></extra>",
         "legendgroup": "melancia",
         "marker": {
          "color": "#EF553B",
          "pattern": {
           "shape": ""
          }
         },
         "name": "melancia",
         "offsetgroup": "melancia",
         "orientation": "v",
         "showlegend": true,
         "textposition": "auto",
         "type": "bar",
         "x": [
          "Gustavo Henrique Moreira",
          "Gustavo Henrique Moreira",
          "Gustavo Henrique Moreira",
          "Sr. Ryan Rocha",
          "Sr. Ryan Rocha",
          "Sr. Ryan Rocha",
          "Dra. Laura da Mota",
          "Vitor Caldeira",
          "Sr. Luiz Miguel da Mata",
          "Sr. Luiz Miguel da Mata",
          "Sr. Luiz Miguel da Mata",
          "Srta. Júlia Silva",
          "Srta. Júlia Silva",
          "Nicole Pereira",
          "Nicole Pereira",
          "Nicole Pereira"
         ],
         "xaxis": "x",
         "y": [
          2,
          2,
          3,
          1,
          2,
          1,
          4,
          2,
          3,
          4,
          4,
          3,
          4,
          4,
          2,
          4
         ],
         "yaxis": "y"
        },
        {
         "alignmentgroup": "True",
         "hovertemplate": "Produto=sabonete<br>Nome do cliente=%{x}<br>Quantidade de vendas=%{y}<extra></extra>",
         "legendgroup": "sabonete",
         "marker": {
          "color": "#00cc96",
          "pattern": {
           "shape": ""
          }
         },
         "name": "sabonete",
         "offsetgroup": "sabonete",
         "orientation": "v",
         "showlegend": true,
         "textposition": "auto",
         "type": "bar",
         "x": [
          "Gustavo Henrique Moreira",
          "Gustavo Henrique Moreira",
          "Davi Luiz Rocha",
          "Davi Luiz Rocha",
          "Davi Luiz Rocha",
          "Sr. Ryan Rocha",
          "Sr. Ryan Rocha",
          "Sr. Ryan Rocha",
          "Dra. Laura da Mota",
          "Vitor Caldeira",
          "Sr. Luiz Miguel da Mata",
          "Sr. Luiz Miguel da Mata",
          "Beatriz Fernandes",
          "Beatriz Fernandes",
          "Matheus Carvalho",
          "Matheus Carvalho",
          "Matheus Carvalho"
         ],
         "xaxis": "x",
         "y": [
          4,
          2,
          2,
          4,
          4,
          2,
          4,
          1,
          3,
          4,
          1,
          4,
          2,
          4,
          4,
          1,
          2
         ],
         "yaxis": "y"
        },
        {
         "alignmentgroup": "True",
         "hovertemplate": "Produto=arroz<br>Nome do cliente=%{x}<br>Quantidade de vendas=%{y}<extra></extra>",
         "legendgroup": "arroz",
         "marker": {
          "color": "#ab63fa",
          "pattern": {
           "shape": ""
          }
         },
         "name": "arroz",
         "offsetgroup": "arroz",
         "orientation": "v",
         "showlegend": true,
         "textposition": "auto",
         "type": "bar",
         "x": [
          "Gustavo Henrique Moreira",
          "Gustavo Henrique Moreira",
          "Davi Luiz Rocha",
          "Sr. Ryan Rocha",
          "Dra. Laura da Mota",
          "Beatriz Fernandes",
          "Srta. Júlia Silva"
         ],
         "xaxis": "x",
         "y": [
          4,
          2,
          4,
          4,
          4,
          4,
          1
         ],
         "yaxis": "y"
        },
        {
         "alignmentgroup": "True",
         "hovertemplate": "Produto=bolo<br>Nome do cliente=%{x}<br>Quantidade de vendas=%{y}<extra></extra>",
         "legendgroup": "bolo",
         "marker": {
          "color": "#FFA15A",
          "pattern": {
           "shape": ""
          }
         },
         "name": "bolo",
         "offsetgroup": "bolo",
         "orientation": "v",
         "showlegend": true,
         "textposition": "auto",
         "type": "bar",
         "x": [
          "Gustavo Henrique Moreira",
          "Gustavo Henrique Moreira",
          "Davi Luiz Rocha",
          "Vitor Caldeira",
          "Vitor Caldeira",
          "Sr. Luiz Miguel da Mata",
          "Sr. Luiz Miguel da Mata",
          "Nicole Pereira"
         ],
         "xaxis": "x",
         "y": [
          2,
          1,
          4,
          4,
          4,
          3,
          4,
          1
         ],
         "yaxis": "y"
        },
        {
         "alignmentgroup": "True",
         "hovertemplate": "Produto=flanela<br>Nome do cliente=%{x}<br>Quantidade de vendas=%{y}<extra></extra>",
         "legendgroup": "flanela",
         "marker": {
          "color": "#19d3f3",
          "pattern": {
           "shape": ""
          }
         },
         "name": "flanela",
         "offsetgroup": "flanela",
         "orientation": "v",
         "showlegend": true,
         "textposition": "auto",
         "type": "bar",
         "x": [
          "Gustavo Henrique Moreira",
          "Gustavo Henrique Moreira",
          "Davi Luiz Rocha",
          "Davi Luiz Rocha",
          "Sr. Ryan Rocha",
          "Dra. Laura da Mota",
          "Dra. Laura da Mota",
          "Dra. Laura da Mota",
          "Vitor Caldeira",
          "Sr. Luiz Miguel da Mata",
          "Sr. Luiz Miguel da Mata",
          "Sr. Luiz Miguel da Mata",
          "Beatriz Fernandes",
          "Beatriz Fernandes",
          "Nicole Pereira",
          "Nicole Pereira",
          "Matheus Carvalho",
          "Matheus Carvalho"
         ],
         "xaxis": "x",
         "y": [
          2,
          4,
          2,
          3,
          2,
          2,
          1,
          4,
          2,
          2,
          4,
          2,
          3,
          2,
          1,
          4,
          2,
          2
         ],
         "yaxis": "y"
        },
        {
         "alignmentgroup": "True",
         "hovertemplate": "Produto=carré de cordeiro<br>Nome do cliente=%{x}<br>Quantidade de vendas=%{y}<extra></extra>",
         "legendgroup": "carré de cordeiro",
         "marker": {
          "color": "#FF6692",
          "pattern": {
           "shape": ""
          }
         },
         "name": "carré de cordeiro",
         "offsetgroup": "carré de cordeiro",
         "orientation": "v",
         "showlegend": true,
         "textposition": "auto",
         "type": "bar",
         "x": [
          "Gustavo Henrique Moreira",
          "Davi Luiz Rocha",
          "Davi Luiz Rocha",
          "Sr. Ryan Rocha",
          "Sr. Luiz Miguel da Mata",
          "Beatriz Fernandes",
          "Beatriz Fernandes",
          "Beatriz Fernandes",
          "Srta. Júlia Silva",
          "Srta. Júlia Silva",
          "Srta. Júlia Silva",
          "Srta. Júlia Silva",
          "Matheus Carvalho"
         ],
         "xaxis": "x",
         "y": [
          3,
          3,
          1,
          2,
          2,
          1,
          1,
          1,
          3,
          2,
          3,
          2,
          1
         ],
         "yaxis": "y"
        },
        {
         "alignmentgroup": "True",
         "hovertemplate": "Produto=pão de queijo<br>Nome do cliente=%{x}<br>Quantidade de vendas=%{y}<extra></extra>",
         "legendgroup": "pão de queijo",
         "marker": {
          "color": "#B6E880",
          "pattern": {
           "shape": ""
          }
         },
         "name": "pão de queijo",
         "offsetgroup": "pão de queijo",
         "orientation": "v",
         "showlegend": true,
         "textposition": "auto",
         "type": "bar",
         "x": [
          "Gustavo Henrique Moreira",
          "Davi Luiz Rocha",
          "Davi Luiz Rocha",
          "Sr. Ryan Rocha",
          "Sr. Ryan Rocha",
          "Dra. Laura da Mota",
          "Dra. Laura da Mota",
          "Sr. Luiz Miguel da Mata",
          "Beatriz Fernandes",
          "Nicole Pereira",
          "Nicole Pereira",
          "Nicole Pereira",
          "Matheus Carvalho"
         ],
         "xaxis": "x",
         "y": [
          2,
          4,
          3,
          3,
          4,
          2,
          3,
          3,
          3,
          4,
          1,
          2,
          3
         ],
         "yaxis": "y"
        },
        {
         "alignmentgroup": "True",
         "hovertemplate": "Produto=paleta suína<br>Nome do cliente=%{x}<br>Quantidade de vendas=%{y}<extra></extra>",
         "legendgroup": "paleta suína",
         "marker": {
          "color": "#FF97FF",
          "pattern": {
           "shape": ""
          }
         },
         "name": "paleta suína",
         "offsetgroup": "paleta suína",
         "orientation": "v",
         "showlegend": true,
         "textposition": "auto",
         "type": "bar",
         "x": [
          "Gustavo Henrique Moreira",
          "Sr. Ryan Rocha",
          "Sr. Luiz Miguel da Mata",
          "Beatriz Fernandes",
          "Matheus Carvalho",
          "Matheus Carvalho"
         ],
         "xaxis": "x",
         "y": [
          1,
          2,
          2,
          1,
          4,
          3
         ],
         "yaxis": "y"
        },
        {
         "alignmentgroup": "True",
         "hovertemplate": "Produto=berinjela<br>Nome do cliente=%{x}<br>Quantidade de vendas=%{y}<extra></extra>",
         "legendgroup": "berinjela",
         "marker": {
          "color": "#FECB52",
          "pattern": {
           "shape": ""
          }
         },
         "name": "berinjela",
         "offsetgroup": "berinjela",
         "orientation": "v",
         "showlegend": true,
         "textposition": "auto",
         "type": "bar",
         "x": [
          "Gustavo Henrique Moreira",
          "Gustavo Henrique Moreira",
          "Sr. Ryan Rocha",
          "Dra. Laura da Mota",
          "Dra. Laura da Mota",
          "Vitor Caldeira",
          "Sr. Luiz Miguel da Mata",
          "Beatriz Fernandes",
          "Beatriz Fernandes",
          "Srta. Júlia Silva"
         ],
         "xaxis": "x",
         "y": [
          1,
          3,
          1,
          3,
          1,
          4,
          4,
          4,
          3,
          1
         ],
         "yaxis": "y"
        },
        {
         "alignmentgroup": "True",
         "hovertemplate": "Produto=amaciante<br>Nome do cliente=%{x}<br>Quantidade de vendas=%{y}<extra></extra>",
         "legendgroup": "amaciante",
         "marker": {
          "color": "#636efa",
          "pattern": {
           "shape": ""
          }
         },
         "name": "amaciante",
         "offsetgroup": "amaciante",
         "orientation": "v",
         "showlegend": true,
         "textposition": "auto",
         "type": "bar",
         "x": [
          "Gustavo Henrique Moreira",
          "Sr. Ryan Rocha",
          "Dra. Laura da Mota",
          "Dra. Laura da Mota",
          "Dra. Laura da Mota",
          "Sr. Luiz Miguel da Mata",
          "Sr. Luiz Miguel da Mata",
          "Sr. Luiz Miguel da Mata",
          "Srta. Júlia Silva",
          "Nicole Pereira"
         ],
         "xaxis": "x",
         "y": [
          1,
          1,
          3,
          1,
          2,
          1,
          2,
          1,
          4,
          2
         ],
         "yaxis": "y"
        },
        {
         "alignmentgroup": "True",
         "hovertemplate": "Produto=pão de forma<br>Nome do cliente=%{x}<br>Quantidade de vendas=%{y}<extra></extra>",
         "legendgroup": "pão de forma",
         "marker": {
          "color": "#EF553B",
          "pattern": {
           "shape": ""
          }
         },
         "name": "pão de forma",
         "offsetgroup": "pão de forma",
         "orientation": "v",
         "showlegend": true,
         "textposition": "auto",
         "type": "bar",
         "x": [
          "Gustavo Henrique Moreira",
          "Gustavo Henrique Moreira",
          "Sr. Ryan Rocha",
          "Sr. Ryan Rocha",
          "Dra. Laura da Mota",
          "Vitor Caldeira",
          "Beatriz Fernandes",
          "Beatriz Fernandes",
          "Beatriz Fernandes",
          "Beatriz Fernandes",
          "Matheus Carvalho",
          "Matheus Carvalho"
         ],
         "xaxis": "x",
         "y": [
          4,
          3,
          2,
          3,
          2,
          3,
          1,
          2,
          1,
          4,
          2,
          2
         ],
         "yaxis": "y"
        },
        {
         "alignmentgroup": "True",
         "hovertemplate": "Produto=macarrão<br>Nome do cliente=%{x}<br>Quantidade de vendas=%{y}<extra></extra>",
         "legendgroup": "macarrão",
         "marker": {
          "color": "#00cc96",
          "pattern": {
           "shape": ""
          }
         },
         "name": "macarrão",
         "offsetgroup": "macarrão",
         "orientation": "v",
         "showlegend": true,
         "textposition": "auto",
         "type": "bar",
         "x": [
          "Gustavo Henrique Moreira",
          "Gustavo Henrique Moreira",
          "Gustavo Henrique Moreira",
          "Davi Luiz Rocha",
          "Davi Luiz Rocha",
          "Davi Luiz Rocha",
          "Davi Luiz Rocha",
          "Davi Luiz Rocha",
          "Sr. Ryan Rocha",
          "Dra. Laura da Mota",
          "Dra. Laura da Mota",
          "Dra. Laura da Mota",
          "Nicole Pereira",
          "Nicole Pereira",
          "Matheus Carvalho"
         ],
         "xaxis": "x",
         "y": [
          2,
          2,
          3,
          2,
          1,
          4,
          3,
          2,
          4,
          4,
          1,
          2,
          2,
          2,
          2
         ],
         "yaxis": "y"
        },
        {
         "alignmentgroup": "True",
         "hovertemplate": "Produto=picanha<br>Nome do cliente=%{x}<br>Quantidade de vendas=%{y}<extra></extra>",
         "legendgroup": "picanha",
         "marker": {
          "color": "#ab63fa",
          "pattern": {
           "shape": ""
          }
         },
         "name": "picanha",
         "offsetgroup": "picanha",
         "orientation": "v",
         "showlegend": true,
         "textposition": "auto",
         "type": "bar",
         "x": [
          "Gustavo Henrique Moreira",
          "Sr. Ryan Rocha",
          "Sr. Ryan Rocha",
          "Sr. Ryan Rocha",
          "Dra. Laura da Mota",
          "Dra. Laura da Mota",
          "Vitor Caldeira",
          "Sr. Luiz Miguel da Mata",
          "Beatriz Fernandes",
          "Beatriz Fernandes"
         ],
         "xaxis": "x",
         "y": [
          1,
          1,
          4,
          2,
          4,
          1,
          2,
          1,
          4,
          3
         ],
         "yaxis": "y"
        },
        {
         "alignmentgroup": "True",
         "hovertemplate": "Produto=feijão<br>Nome do cliente=%{x}<br>Quantidade de vendas=%{y}<extra></extra>",
         "legendgroup": "feijão",
         "marker": {
          "color": "#FFA15A",
          "pattern": {
           "shape": ""
          }
         },
         "name": "feijão",
         "offsetgroup": "feijão",
         "orientation": "v",
         "showlegend": true,
         "textposition": "auto",
         "type": "bar",
         "x": [
          "Gustavo Henrique Moreira",
          "Gustavo Henrique Moreira",
          "Gustavo Henrique Moreira",
          "Gustavo Henrique Moreira",
          "Davi Luiz Rocha",
          "Dra. Laura da Mota",
          "Dra. Laura da Mota",
          "Vitor Caldeira",
          "Sr. Luiz Miguel da Mata",
          "Srta. Júlia Silva",
          "Matheus Carvalho"
         ],
         "xaxis": "x",
         "y": [
          2,
          3,
          2,
          4,
          1,
          3,
          1,
          4,
          1,
          2,
          4
         ],
         "yaxis": "y"
        },
        {
         "alignmentgroup": "True",
         "hovertemplate": "Produto=sanduíche<br>Nome do cliente=%{x}<br>Quantidade de vendas=%{y}<extra></extra>",
         "legendgroup": "sanduíche",
         "marker": {
          "color": "#19d3f3",
          "pattern": {
           "shape": ""
          }
         },
         "name": "sanduíche",
         "offsetgroup": "sanduíche",
         "orientation": "v",
         "showlegend": true,
         "textposition": "auto",
         "type": "bar",
         "x": [
          "Gustavo Henrique Moreira",
          "Gustavo Henrique Moreira",
          "Davi Luiz Rocha",
          "Dra. Laura da Mota",
          "Vitor Caldeira",
          "Vitor Caldeira",
          "Vitor Caldeira",
          "Vitor Caldeira",
          "Vitor Caldeira",
          "Sr. Luiz Miguel da Mata",
          "Beatriz Fernandes",
          "Beatriz Fernandes",
          "Srta. Júlia Silva",
          "Nicole Pereira",
          "Matheus Carvalho"
         ],
         "xaxis": "x",
         "y": [
          4,
          3,
          4,
          2,
          4,
          1,
          1,
          4,
          3,
          2,
          2,
          2,
          4,
          4,
          1
         ],
         "yaxis": "y"
        },
        {
         "alignmentgroup": "True",
         "hovertemplate": "Produto=costela<br>Nome do cliente=%{x}<br>Quantidade de vendas=%{y}<extra></extra>",
         "legendgroup": "costela",
         "marker": {
          "color": "#FF6692",
          "pattern": {
           "shape": ""
          }
         },
         "name": "costela",
         "offsetgroup": "costela",
         "orientation": "v",
         "showlegend": true,
         "textposition": "auto",
         "type": "bar",
         "x": [
          "Gustavo Henrique Moreira",
          "Gustavo Henrique Moreira",
          "Davi Luiz Rocha",
          "Davi Luiz Rocha",
          "Davi Luiz Rocha",
          "Sr. Ryan Rocha",
          "Vitor Caldeira",
          "Vitor Caldeira",
          "Beatriz Fernandes",
          "Srta. Júlia Silva",
          "Srta. Júlia Silva",
          "Nicole Pereira",
          "Nicole Pereira",
          "Matheus Carvalho"
         ],
         "xaxis": "x",
         "y": [
          1,
          2,
          2,
          4,
          4,
          3,
          4,
          1,
          4,
          4,
          4,
          3,
          4,
          2
         ],
         "yaxis": "y"
        },
        {
         "alignmentgroup": "True",
         "hovertemplate": "Produto=torta<br>Nome do cliente=%{x}<br>Quantidade de vendas=%{y}<extra></extra>",
         "legendgroup": "torta",
         "marker": {
          "color": "#B6E880",
          "pattern": {
           "shape": ""
          }
         },
         "name": "torta",
         "offsetgroup": "torta",
         "orientation": "v",
         "showlegend": true,
         "textposition": "auto",
         "type": "bar",
         "x": [
          "Gustavo Henrique Moreira",
          "Davi Luiz Rocha",
          "Davi Luiz Rocha",
          "Sr. Ryan Rocha",
          "Dra. Laura da Mota",
          "Dra. Laura da Mota",
          "Vitor Caldeira",
          "Beatriz Fernandes"
         ],
         "xaxis": "x",
         "y": [
          3,
          3,
          2,
          4,
          2,
          2,
          2,
          2
         ],
         "yaxis": "y"
        },
        {
         "alignmentgroup": "True",
         "hovertemplate": "Produto=bisteca suína<br>Nome do cliente=%{x}<br>Quantidade de vendas=%{y}<extra></extra>",
         "legendgroup": "bisteca suína",
         "marker": {
          "color": "#FF97FF",
          "pattern": {
           "shape": ""
          }
         },
         "name": "bisteca suína",
         "offsetgroup": "bisteca suína",
         "orientation": "v",
         "showlegend": true,
         "textposition": "auto",
         "type": "bar",
         "x": [
          "Gustavo Henrique Moreira",
          "Gustavo Henrique Moreira",
          "Gustavo Henrique Moreira",
          "Gustavo Henrique Moreira",
          "Vitor Caldeira",
          "Vitor Caldeira",
          "Beatriz Fernandes",
          "Srta. Júlia Silva",
          "Nicole Pereira",
          "Matheus Carvalho"
         ],
         "xaxis": "x",
         "y": [
          2,
          1,
          2,
          4,
          4,
          2,
          1,
          4,
          4,
          1
         ],
         "yaxis": "y"
        },
        {
         "alignmentgroup": "True",
         "hovertemplate": "Produto=batata<br>Nome do cliente=%{x}<br>Quantidade de vendas=%{y}<extra></extra>",
         "legendgroup": "batata",
         "marker": {
          "color": "#FECB52",
          "pattern": {
           "shape": ""
          }
         },
         "name": "batata",
         "offsetgroup": "batata",
         "orientation": "v",
         "showlegend": true,
         "textposition": "auto",
         "type": "bar",
         "x": [
          "Gustavo Henrique Moreira",
          "Davi Luiz Rocha",
          "Dra. Laura da Mota",
          "Vitor Caldeira",
          "Sr. Luiz Miguel da Mata",
          "Srta. Júlia Silva",
          "Nicole Pereira",
          "Matheus Carvalho"
         ],
         "xaxis": "x",
         "y": [
          3,
          3,
          3,
          3,
          4,
          4,
          4,
          2
         ],
         "yaxis": "y"
        },
        {
         "alignmentgroup": "True",
         "hovertemplate": "Produto=maminha<br>Nome do cliente=%{x}<br>Quantidade de vendas=%{y}<extra></extra>",
         "legendgroup": "maminha",
         "marker": {
          "color": "#636efa",
          "pattern": {
           "shape": ""
          }
         },
         "name": "maminha",
         "offsetgroup": "maminha",
         "orientation": "v",
         "showlegend": true,
         "textposition": "auto",
         "type": "bar",
         "x": [
          "Gustavo Henrique Moreira",
          "Gustavo Henrique Moreira",
          "Davi Luiz Rocha",
          "Sr. Luiz Miguel da Mata",
          "Matheus Carvalho",
          "Matheus Carvalho"
         ],
         "xaxis": "x",
         "y": [
          3,
          2,
          1,
          4,
          3,
          2
         ],
         "yaxis": "y"
        },
        {
         "alignmentgroup": "True",
         "hovertemplate": "Produto=rodo<br>Nome do cliente=%{x}<br>Quantidade de vendas=%{y}<extra></extra>",
         "legendgroup": "rodo",
         "marker": {
          "color": "#EF553B",
          "pattern": {
           "shape": ""
          }
         },
         "name": "rodo",
         "offsetgroup": "rodo",
         "orientation": "v",
         "showlegend": true,
         "textposition": "auto",
         "type": "bar",
         "x": [
          "Gustavo Henrique Moreira",
          "Gustavo Henrique Moreira",
          "Davi Luiz Rocha",
          "Sr. Ryan Rocha",
          "Dra. Laura da Mota",
          "Dra. Laura da Mota",
          "Dra. Laura da Mota",
          "Sr. Luiz Miguel da Mata",
          "Nicole Pereira",
          "Nicole Pereira",
          "Matheus Carvalho",
          "Matheus Carvalho",
          "Matheus Carvalho",
          "Matheus Carvalho"
         ],
         "xaxis": "x",
         "y": [
          2,
          1,
          1,
          4,
          4,
          4,
          4,
          1,
          3,
          2,
          1,
          2,
          3,
          3
         ],
         "yaxis": "y"
        },
        {
         "alignmentgroup": "True",
         "hovertemplate": "Produto=água sanitária<br>Nome do cliente=%{x}<br>Quantidade de vendas=%{y}<extra></extra>",
         "legendgroup": "água sanitária",
         "marker": {
          "color": "#00cc96",
          "pattern": {
           "shape": ""
          }
         },
         "name": "água sanitária",
         "offsetgroup": "água sanitária",
         "orientation": "v",
         "showlegend": true,
         "textposition": "auto",
         "type": "bar",
         "x": [
          "Gustavo Henrique Moreira",
          "Davi Luiz Rocha",
          "Sr. Ryan Rocha",
          "Sr. Ryan Rocha",
          "Dra. Laura da Mota",
          "Dra. Laura da Mota",
          "Sr. Luiz Miguel da Mata",
          "Beatriz Fernandes",
          "Srta. Júlia Silva",
          "Nicole Pereira"
         ],
         "xaxis": "x",
         "y": [
          1,
          3,
          1,
          3,
          2,
          4,
          4,
          3,
          1,
          3
         ],
         "yaxis": "y"
        },
        {
         "alignmentgroup": "True",
         "hovertemplate": "Produto=uva<br>Nome do cliente=%{x}<br>Quantidade de vendas=%{y}<extra></extra>",
         "legendgroup": "uva",
         "marker": {
          "color": "#ab63fa",
          "pattern": {
           "shape": ""
          }
         },
         "name": "uva",
         "offsetgroup": "uva",
         "orientation": "v",
         "showlegend": true,
         "textposition": "auto",
         "type": "bar",
         "x": [
          "Gustavo Henrique Moreira",
          "Gustavo Henrique Moreira",
          "Gustavo Henrique Moreira",
          "Davi Luiz Rocha",
          "Davi Luiz Rocha",
          "Sr. Ryan Rocha",
          "Sr. Ryan Rocha",
          "Sr. Ryan Rocha",
          "Beatriz Fernandes",
          "Beatriz Fernandes",
          "Beatriz Fernandes",
          "Beatriz Fernandes",
          "Matheus Carvalho"
         ],
         "xaxis": "x",
         "y": [
          1,
          3,
          4,
          3,
          3,
          4,
          3,
          3,
          3,
          3,
          1,
          2,
          1
         ],
         "yaxis": "y"
        },
        {
         "alignmentgroup": "True",
         "hovertemplate": "Produto=sonho<br>Nome do cliente=%{x}<br>Quantidade de vendas=%{y}<extra></extra>",
         "legendgroup": "sonho",
         "marker": {
          "color": "#FFA15A",
          "pattern": {
           "shape": ""
          }
         },
         "name": "sonho",
         "offsetgroup": "sonho",
         "orientation": "v",
         "showlegend": true,
         "textposition": "auto",
         "type": "bar",
         "x": [
          "Gustavo Henrique Moreira",
          "Gustavo Henrique Moreira",
          "Gustavo Henrique Moreira",
          "Sr. Ryan Rocha",
          "Vitor Caldeira",
          "Vitor Caldeira",
          "Vitor Caldeira",
          "Sr. Luiz Miguel da Mata",
          "Sr. Luiz Miguel da Mata",
          "Srta. Júlia Silva",
          "Nicole Pereira",
          "Nicole Pereira",
          "Matheus Carvalho",
          "Matheus Carvalho"
         ],
         "xaxis": "x",
         "y": [
          3,
          4,
          1,
          3,
          3,
          4,
          1,
          4,
          4,
          3,
          4,
          2,
          4,
          2
         ],
         "yaxis": "y"
        },
        {
         "alignmentgroup": "True",
         "hovertemplate": "Produto=odorizador<br>Nome do cliente=%{x}<br>Quantidade de vendas=%{y}<extra></extra>",
         "legendgroup": "odorizador",
         "marker": {
          "color": "#19d3f3",
          "pattern": {
           "shape": ""
          }
         },
         "name": "odorizador",
         "offsetgroup": "odorizador",
         "orientation": "v",
         "showlegend": true,
         "textposition": "auto",
         "type": "bar",
         "x": [
          "Gustavo Henrique Moreira",
          "Davi Luiz Rocha",
          "Sr. Ryan Rocha",
          "Sr. Ryan Rocha",
          "Sr. Ryan Rocha",
          "Vitor Caldeira",
          "Sr. Luiz Miguel da Mata",
          "Beatriz Fernandes",
          "Beatriz Fernandes",
          "Beatriz Fernandes",
          "Srta. Júlia Silva",
          "Srta. Júlia Silva",
          "Srta. Júlia Silva",
          "Srta. Júlia Silva",
          "Srta. Júlia Silva",
          "Nicole Pereira"
         ],
         "xaxis": "x",
         "y": [
          3,
          2,
          2,
          1,
          4,
          4,
          4,
          1,
          1,
          2,
          4,
          3,
          1,
          3,
          3,
          4
         ],
         "yaxis": "y"
        },
        {
         "alignmentgroup": "True",
         "hovertemplate": "Produto=alcatra<br>Nome do cliente=%{x}<br>Quantidade de vendas=%{y}<extra></extra>",
         "legendgroup": "alcatra",
         "marker": {
          "color": "#FF6692",
          "pattern": {
           "shape": ""
          }
         },
         "name": "alcatra",
         "offsetgroup": "alcatra",
         "orientation": "v",
         "showlegend": true,
         "textposition": "auto",
         "type": "bar",
         "x": [
          "Gustavo Henrique Moreira",
          "Davi Luiz Rocha",
          "Sr. Ryan Rocha",
          "Sr. Ryan Rocha",
          "Dra. Laura da Mota",
          "Vitor Caldeira",
          "Sr. Luiz Miguel da Mata",
          "Beatriz Fernandes",
          "Srta. Júlia Silva",
          "Nicole Pereira"
         ],
         "xaxis": "x",
         "y": [
          1,
          3,
          3,
          4,
          1,
          1,
          4,
          1,
          3,
          4
         ],
         "yaxis": "y"
        },
        {
         "alignmentgroup": "True",
         "hovertemplate": "Produto=pastel<br>Nome do cliente=%{x}<br>Quantidade de vendas=%{y}<extra></extra>",
         "legendgroup": "pastel",
         "marker": {
          "color": "#B6E880",
          "pattern": {
           "shape": ""
          }
         },
         "name": "pastel",
         "offsetgroup": "pastel",
         "orientation": "v",
         "showlegend": true,
         "textposition": "auto",
         "type": "bar",
         "x": [
          "Gustavo Henrique Moreira",
          "Dra. Laura da Mota",
          "Dra. Laura da Mota",
          "Vitor Caldeira",
          "Vitor Caldeira",
          "Nicole Pereira",
          "Matheus Carvalho"
         ],
         "xaxis": "x",
         "y": [
          1,
          2,
          3,
          1,
          2,
          2,
          4
         ],
         "yaxis": "y"
        },
        {
         "alignmentgroup": "True",
         "hovertemplate": "Produto=pão francês<br>Nome do cliente=%{x}<br>Quantidade de vendas=%{y}<extra></extra>",
         "legendgroup": "pão francês",
         "marker": {
          "color": "#FF97FF",
          "pattern": {
           "shape": ""
          }
         },
         "name": "pão francês",
         "offsetgroup": "pão francês",
         "orientation": "v",
         "showlegend": true,
         "textposition": "auto",
         "type": "bar",
         "x": [
          "Gustavo Henrique Moreira",
          "Davi Luiz Rocha",
          "Sr. Ryan Rocha",
          "Dra. Laura da Mota",
          "Vitor Caldeira",
          "Vitor Caldeira",
          "Sr. Luiz Miguel da Mata",
          "Sr. Luiz Miguel da Mata",
          "Srta. Júlia Silva",
          "Srta. Júlia Silva",
          "Nicole Pereira",
          "Matheus Carvalho"
         ],
         "xaxis": "x",
         "y": [
          2,
          3,
          3,
          1,
          2,
          4,
          2,
          4,
          1,
          2,
          2,
          1
         ],
         "yaxis": "y"
        },
        {
         "alignmentgroup": "True",
         "hovertemplate": "Produto=sabão em pó<br>Nome do cliente=%{x}<br>Quantidade de vendas=%{y}<extra></extra>",
         "legendgroup": "sabão em pó",
         "marker": {
          "color": "#FECB52",
          "pattern": {
           "shape": ""
          }
         },
         "name": "sabão em pó",
         "offsetgroup": "sabão em pó",
         "orientation": "v",
         "showlegend": true,
         "textposition": "auto",
         "type": "bar",
         "x": [
          "Gustavo Henrique Moreira",
          "Davi Luiz Rocha",
          "Davi Luiz Rocha",
          "Dra. Laura da Mota",
          "Dra. Laura da Mota",
          "Beatriz Fernandes",
          "Srta. Júlia Silva",
          "Srta. Júlia Silva",
          "Nicole Pereira",
          "Nicole Pereira",
          "Nicole Pereira",
          "Nicole Pereira",
          "Matheus Carvalho",
          "Matheus Carvalho"
         ],
         "xaxis": "x",
         "y": [
          4,
          1,
          4,
          3,
          4,
          2,
          2,
          3,
          4,
          3,
          1,
          1,
          3,
          4
         ],
         "yaxis": "y"
        },
        {
         "alignmentgroup": "True",
         "hovertemplate": "Produto=banana<br>Nome do cliente=%{x}<br>Quantidade de vendas=%{y}<extra></extra>",
         "legendgroup": "banana",
         "marker": {
          "color": "#636efa",
          "pattern": {
           "shape": ""
          }
         },
         "name": "banana",
         "offsetgroup": "banana",
         "orientation": "v",
         "showlegend": true,
         "textposition": "auto",
         "type": "bar",
         "x": [
          "Davi Luiz Rocha",
          "Davi Luiz Rocha",
          "Sr. Ryan Rocha",
          "Dra. Laura da Mota",
          "Dra. Laura da Mota",
          "Vitor Caldeira",
          "Vitor Caldeira",
          "Vitor Caldeira",
          "Beatriz Fernandes",
          "Srta. Júlia Silva",
          "Srta. Júlia Silva",
          "Nicole Pereira",
          "Matheus Carvalho"
         ],
         "xaxis": "x",
         "y": [
          1,
          4,
          2,
          4,
          3,
          3,
          3,
          2,
          1,
          1,
          2,
          4,
          3
         ],
         "yaxis": "y"
        },
        {
         "alignmentgroup": "True",
         "hovertemplate": "Produto=alface<br>Nome do cliente=%{x}<br>Quantidade de vendas=%{y}<extra></extra>",
         "legendgroup": "alface",
         "marker": {
          "color": "#EF553B",
          "pattern": {
           "shape": ""
          }
         },
         "name": "alface",
         "offsetgroup": "alface",
         "orientation": "v",
         "showlegend": true,
         "textposition": "auto",
         "type": "bar",
         "x": [
          "Davi Luiz Rocha",
          "Davi Luiz Rocha",
          "Sr. Luiz Miguel da Mata",
          "Beatriz Fernandes",
          "Beatriz Fernandes",
          "Srta. Júlia Silva",
          "Srta. Júlia Silva",
          "Matheus Carvalho"
         ],
         "xaxis": "x",
         "y": [
          2,
          3,
          3,
          2,
          3,
          1,
          4,
          1
         ],
         "yaxis": "y"
        },
        {
         "alignmentgroup": "True",
         "hovertemplate": "Produto=abobrinha<br>Nome do cliente=%{x}<br>Quantidade de vendas=%{y}<extra></extra>",
         "legendgroup": "abobrinha",
         "marker": {
          "color": "#00cc96",
          "pattern": {
           "shape": ""
          }
         },
         "name": "abobrinha",
         "offsetgroup": "abobrinha",
         "orientation": "v",
         "showlegend": true,
         "textposition": "auto",
         "type": "bar",
         "x": [
          "Davi Luiz Rocha",
          "Davi Luiz Rocha",
          "Sr. Ryan Rocha",
          "Vitor Caldeira",
          "Sr. Luiz Miguel da Mata",
          "Srta. Júlia Silva",
          "Matheus Carvalho"
         ],
         "xaxis": "x",
         "y": [
          1,
          2,
          3,
          2,
          3,
          3,
          4
         ],
         "yaxis": "y"
        },
        {
         "alignmentgroup": "True",
         "hovertemplate": "Produto=couve-flor<br>Nome do cliente=%{x}<br>Quantidade de vendas=%{y}<extra></extra>",
         "legendgroup": "couve-flor",
         "marker": {
          "color": "#ab63fa",
          "pattern": {
           "shape": ""
          }
         },
         "name": "couve-flor",
         "offsetgroup": "couve-flor",
         "orientation": "v",
         "showlegend": true,
         "textposition": "auto",
         "type": "bar",
         "x": [
          "Davi Luiz Rocha",
          "Davi Luiz Rocha",
          "Davi Luiz Rocha",
          "Sr. Ryan Rocha",
          "Sr. Ryan Rocha",
          "Dra. Laura da Mota",
          "Sr. Luiz Miguel da Mata",
          "Sr. Luiz Miguel da Mata",
          "Srta. Júlia Silva",
          "Srta. Júlia Silva",
          "Matheus Carvalho"
         ],
         "xaxis": "x",
         "y": [
          4,
          2,
          1,
          4,
          2,
          3,
          2,
          3,
          3,
          1,
          2
         ],
         "yaxis": "y"
        },
        {
         "alignmentgroup": "True",
         "hovertemplate": "Produto=detergente<br>Nome do cliente=%{x}<br>Quantidade de vendas=%{y}<extra></extra>",
         "legendgroup": "detergente",
         "marker": {
          "color": "#FFA15A",
          "pattern": {
           "shape": ""
          }
         },
         "name": "detergente",
         "offsetgroup": "detergente",
         "orientation": "v",
         "showlegend": true,
         "textposition": "auto",
         "type": "bar",
         "x": [
          "Davi Luiz Rocha",
          "Davi Luiz Rocha",
          "Davi Luiz Rocha",
          "Sr. Ryan Rocha",
          "Dra. Laura da Mota",
          "Dra. Laura da Mota",
          "Sr. Luiz Miguel da Mata",
          "Beatriz Fernandes",
          "Beatriz Fernandes",
          "Srta. Júlia Silva",
          "Nicole Pereira"
         ],
         "xaxis": "x",
         "y": [
          3,
          3,
          2,
          4,
          4,
          4,
          2,
          3,
          4,
          3,
          2
         ],
         "yaxis": "y"
        },
        {
         "alignmentgroup": "True",
         "hovertemplate": "Produto=peito de frango<br>Nome do cliente=%{x}<br>Quantidade de vendas=%{y}<extra></extra>",
         "legendgroup": "peito de frango",
         "marker": {
          "color": "#19d3f3",
          "pattern": {
           "shape": ""
          }
         },
         "name": "peito de frango",
         "offsetgroup": "peito de frango",
         "orientation": "v",
         "showlegend": true,
         "textposition": "auto",
         "type": "bar",
         "x": [
          "Sr. Ryan Rocha",
          "Dra. Laura da Mota",
          "Dra. Laura da Mota",
          "Vitor Caldeira",
          "Vitor Caldeira",
          "Beatriz Fernandes",
          "Beatriz Fernandes",
          "Srta. Júlia Silva",
          "Nicole Pereira",
          "Matheus Carvalho",
          "Matheus Carvalho"
         ],
         "xaxis": "x",
         "y": [
          4,
          3,
          2,
          3,
          3,
          2,
          3,
          3,
          1,
          3,
          4
         ],
         "yaxis": "y"
        }
       ],
       "layout": {
        "barmode": "stack",
        "height": 700,
        "legend": {
         "title": {
          "text": "Produto"
         },
         "tracegroupgap": 0
        },
        "margin": {
         "t": 60
        },
        "template": {
         "data": {
          "bar": [
           {
            "error_x": {
             "color": "#2a3f5f"
            },
            "error_y": {
             "color": "#2a3f5f"
            },
            "marker": {
             "line": {
              "color": "#E5ECF6",
              "width": 0.5
             },
             "pattern": {
              "fillmode": "overlay",
              "size": 10,
              "solidity": 0.2
             }
            },
            "type": "bar"
           }
          ],
          "barpolar": [
           {
            "marker": {
             "line": {
              "color": "#E5ECF6",
              "width": 0.5
             },
             "pattern": {
              "fillmode": "overlay",
              "size": 10,
              "solidity": 0.2
             }
            },
            "type": "barpolar"
           }
          ],
          "carpet": [
           {
            "aaxis": {
             "endlinecolor": "#2a3f5f",
             "gridcolor": "white",
             "linecolor": "white",
             "minorgridcolor": "white",
             "startlinecolor": "#2a3f5f"
            },
            "baxis": {
             "endlinecolor": "#2a3f5f",
             "gridcolor": "white",
             "linecolor": "white",
             "minorgridcolor": "white",
             "startlinecolor": "#2a3f5f"
            },
            "type": "carpet"
           }
          ],
          "choropleth": [
           {
            "colorbar": {
             "outlinewidth": 0,
             "ticks": ""
            },
            "type": "choropleth"
           }
          ],
          "contour": [
           {
            "colorbar": {
             "outlinewidth": 0,
             "ticks": ""
            },
            "colorscale": [
             [
              0,
              "#0d0887"
             ],
             [
              0.1111111111111111,
              "#46039f"
             ],
             [
              0.2222222222222222,
              "#7201a8"
             ],
             [
              0.3333333333333333,
              "#9c179e"
             ],
             [
              0.4444444444444444,
              "#bd3786"
             ],
             [
              0.5555555555555556,
              "#d8576b"
             ],
             [
              0.6666666666666666,
              "#ed7953"
             ],
             [
              0.7777777777777778,
              "#fb9f3a"
             ],
             [
              0.8888888888888888,
              "#fdca26"
             ],
             [
              1,
              "#f0f921"
             ]
            ],
            "type": "contour"
           }
          ],
          "contourcarpet": [
           {
            "colorbar": {
             "outlinewidth": 0,
             "ticks": ""
            },
            "type": "contourcarpet"
           }
          ],
          "heatmap": [
           {
            "colorbar": {
             "outlinewidth": 0,
             "ticks": ""
            },
            "colorscale": [
             [
              0,
              "#0d0887"
             ],
             [
              0.1111111111111111,
              "#46039f"
             ],
             [
              0.2222222222222222,
              "#7201a8"
             ],
             [
              0.3333333333333333,
              "#9c179e"
             ],
             [
              0.4444444444444444,
              "#bd3786"
             ],
             [
              0.5555555555555556,
              "#d8576b"
             ],
             [
              0.6666666666666666,
              "#ed7953"
             ],
             [
              0.7777777777777778,
              "#fb9f3a"
             ],
             [
              0.8888888888888888,
              "#fdca26"
             ],
             [
              1,
              "#f0f921"
             ]
            ],
            "type": "heatmap"
           }
          ],
          "heatmapgl": [
           {
            "colorbar": {
             "outlinewidth": 0,
             "ticks": ""
            },
            "colorscale": [
             [
              0,
              "#0d0887"
             ],
             [
              0.1111111111111111,
              "#46039f"
             ],
             [
              0.2222222222222222,
              "#7201a8"
             ],
             [
              0.3333333333333333,
              "#9c179e"
             ],
             [
              0.4444444444444444,
              "#bd3786"
             ],
             [
              0.5555555555555556,
              "#d8576b"
             ],
             [
              0.6666666666666666,
              "#ed7953"
             ],
             [
              0.7777777777777778,
              "#fb9f3a"
             ],
             [
              0.8888888888888888,
              "#fdca26"
             ],
             [
              1,
              "#f0f921"
             ]
            ],
            "type": "heatmapgl"
           }
          ],
          "histogram": [
           {
            "marker": {
             "pattern": {
              "fillmode": "overlay",
              "size": 10,
              "solidity": 0.2
             }
            },
            "type": "histogram"
           }
          ],
          "histogram2d": [
           {
            "colorbar": {
             "outlinewidth": 0,
             "ticks": ""
            },
            "colorscale": [
             [
              0,
              "#0d0887"
             ],
             [
              0.1111111111111111,
              "#46039f"
             ],
             [
              0.2222222222222222,
              "#7201a8"
             ],
             [
              0.3333333333333333,
              "#9c179e"
             ],
             [
              0.4444444444444444,
              "#bd3786"
             ],
             [
              0.5555555555555556,
              "#d8576b"
             ],
             [
              0.6666666666666666,
              "#ed7953"
             ],
             [
              0.7777777777777778,
              "#fb9f3a"
             ],
             [
              0.8888888888888888,
              "#fdca26"
             ],
             [
              1,
              "#f0f921"
             ]
            ],
            "type": "histogram2d"
           }
          ],
          "histogram2dcontour": [
           {
            "colorbar": {
             "outlinewidth": 0,
             "ticks": ""
            },
            "colorscale": [
             [
              0,
              "#0d0887"
             ],
             [
              0.1111111111111111,
              "#46039f"
             ],
             [
              0.2222222222222222,
              "#7201a8"
             ],
             [
              0.3333333333333333,
              "#9c179e"
             ],
             [
              0.4444444444444444,
              "#bd3786"
             ],
             [
              0.5555555555555556,
              "#d8576b"
             ],
             [
              0.6666666666666666,
              "#ed7953"
             ],
             [
              0.7777777777777778,
              "#fb9f3a"
             ],
             [
              0.8888888888888888,
              "#fdca26"
             ],
             [
              1,
              "#f0f921"
             ]
            ],
            "type": "histogram2dcontour"
           }
          ],
          "mesh3d": [
           {
            "colorbar": {
             "outlinewidth": 0,
             "ticks": ""
            },
            "type": "mesh3d"
           }
          ],
          "parcoords": [
           {
            "line": {
             "colorbar": {
              "outlinewidth": 0,
              "ticks": ""
             }
            },
            "type": "parcoords"
           }
          ],
          "pie": [
           {
            "automargin": true,
            "type": "pie"
           }
          ],
          "scatter": [
           {
            "marker": {
             "colorbar": {
              "outlinewidth": 0,
              "ticks": ""
             }
            },
            "type": "scatter"
           }
          ],
          "scatter3d": [
           {
            "line": {
             "colorbar": {
              "outlinewidth": 0,
              "ticks": ""
             }
            },
            "marker": {
             "colorbar": {
              "outlinewidth": 0,
              "ticks": ""
             }
            },
            "type": "scatter3d"
           }
          ],
          "scattercarpet": [
           {
            "marker": {
             "colorbar": {
              "outlinewidth": 0,
              "ticks": ""
             }
            },
            "type": "scattercarpet"
           }
          ],
          "scattergeo": [
           {
            "marker": {
             "colorbar": {
              "outlinewidth": 0,
              "ticks": ""
             }
            },
            "type": "scattergeo"
           }
          ],
          "scattergl": [
           {
            "marker": {
             "colorbar": {
              "outlinewidth": 0,
              "ticks": ""
             }
            },
            "type": "scattergl"
           }
          ],
          "scattermapbox": [
           {
            "marker": {
             "colorbar": {
              "outlinewidth": 0,
              "ticks": ""
             }
            },
            "type": "scattermapbox"
           }
          ],
          "scatterpolar": [
           {
            "marker": {
             "colorbar": {
              "outlinewidth": 0,
              "ticks": ""
             }
            },
            "type": "scatterpolar"
           }
          ],
          "scatterpolargl": [
           {
            "marker": {
             "colorbar": {
              "outlinewidth": 0,
              "ticks": ""
             }
            },
            "type": "scatterpolargl"
           }
          ],
          "scatterternary": [
           {
            "marker": {
             "colorbar": {
              "outlinewidth": 0,
              "ticks": ""
             }
            },
            "type": "scatterternary"
           }
          ],
          "surface": [
           {
            "colorbar": {
             "outlinewidth": 0,
             "ticks": ""
            },
            "colorscale": [
             [
              0,
              "#0d0887"
             ],
             [
              0.1111111111111111,
              "#46039f"
             ],
             [
              0.2222222222222222,
              "#7201a8"
             ],
             [
              0.3333333333333333,
              "#9c179e"
             ],
             [
              0.4444444444444444,
              "#bd3786"
             ],
             [
              0.5555555555555556,
              "#d8576b"
             ],
             [
              0.6666666666666666,
              "#ed7953"
             ],
             [
              0.7777777777777778,
              "#fb9f3a"
             ],
             [
              0.8888888888888888,
              "#fdca26"
             ],
             [
              1,
              "#f0f921"
             ]
            ],
            "type": "surface"
           }
          ],
          "table": [
           {
            "cells": {
             "fill": {
              "color": "#EBF0F8"
             },
             "line": {
              "color": "white"
             }
            },
            "header": {
             "fill": {
              "color": "#C8D4E3"
             },
             "line": {
              "color": "white"
             }
            },
            "type": "table"
           }
          ]
         },
         "layout": {
          "annotationdefaults": {
           "arrowcolor": "#2a3f5f",
           "arrowhead": 0,
           "arrowwidth": 1
          },
          "autotypenumbers": "strict",
          "coloraxis": {
           "colorbar": {
            "outlinewidth": 0,
            "ticks": ""
           }
          },
          "colorscale": {
           "diverging": [
            [
             0,
             "#8e0152"
            ],
            [
             0.1,
             "#c51b7d"
            ],
            [
             0.2,
             "#de77ae"
            ],
            [
             0.3,
             "#f1b6da"
            ],
            [
             0.4,
             "#fde0ef"
            ],
            [
             0.5,
             "#f7f7f7"
            ],
            [
             0.6,
             "#e6f5d0"
            ],
            [
             0.7,
             "#b8e186"
            ],
            [
             0.8,
             "#7fbc41"
            ],
            [
             0.9,
             "#4d9221"
            ],
            [
             1,
             "#276419"
            ]
           ],
           "sequential": [
            [
             0,
             "#0d0887"
            ],
            [
             0.1111111111111111,
             "#46039f"
            ],
            [
             0.2222222222222222,
             "#7201a8"
            ],
            [
             0.3333333333333333,
             "#9c179e"
            ],
            [
             0.4444444444444444,
             "#bd3786"
            ],
            [
             0.5555555555555556,
             "#d8576b"
            ],
            [
             0.6666666666666666,
             "#ed7953"
            ],
            [
             0.7777777777777778,
             "#fb9f3a"
            ],
            [
             0.8888888888888888,
             "#fdca26"
            ],
            [
             1,
             "#f0f921"
            ]
           ],
           "sequentialminus": [
            [
             0,
             "#0d0887"
            ],
            [
             0.1111111111111111,
             "#46039f"
            ],
            [
             0.2222222222222222,
             "#7201a8"
            ],
            [
             0.3333333333333333,
             "#9c179e"
            ],
            [
             0.4444444444444444,
             "#bd3786"
            ],
            [
             0.5555555555555556,
             "#d8576b"
            ],
            [
             0.6666666666666666,
             "#ed7953"
            ],
            [
             0.7777777777777778,
             "#fb9f3a"
            ],
            [
             0.8888888888888888,
             "#fdca26"
            ],
            [
             1,
             "#f0f921"
            ]
           ]
          },
          "colorway": [
           "#636efa",
           "#EF553B",
           "#00cc96",
           "#ab63fa",
           "#FFA15A",
           "#19d3f3",
           "#FF6692",
           "#B6E880",
           "#FF97FF",
           "#FECB52"
          ],
          "font": {
           "color": "#2a3f5f"
          },
          "geo": {
           "bgcolor": "white",
           "lakecolor": "white",
           "landcolor": "#E5ECF6",
           "showlakes": true,
           "showland": true,
           "subunitcolor": "white"
          },
          "hoverlabel": {
           "align": "left"
          },
          "hovermode": "closest",
          "mapbox": {
           "style": "light"
          },
          "paper_bgcolor": "white",
          "plot_bgcolor": "#E5ECF6",
          "polar": {
           "angularaxis": {
            "gridcolor": "white",
            "linecolor": "white",
            "ticks": ""
           },
           "bgcolor": "#E5ECF6",
           "radialaxis": {
            "gridcolor": "white",
            "linecolor": "white",
            "ticks": ""
           }
          },
          "scene": {
           "xaxis": {
            "backgroundcolor": "#E5ECF6",
            "gridcolor": "white",
            "gridwidth": 2,
            "linecolor": "white",
            "showbackground": true,
            "ticks": "",
            "zerolinecolor": "white"
           },
           "yaxis": {
            "backgroundcolor": "#E5ECF6",
            "gridcolor": "white",
            "gridwidth": 2,
            "linecolor": "white",
            "showbackground": true,
            "ticks": "",
            "zerolinecolor": "white"
           },
           "zaxis": {
            "backgroundcolor": "#E5ECF6",
            "gridcolor": "white",
            "gridwidth": 2,
            "linecolor": "white",
            "showbackground": true,
            "ticks": "",
            "zerolinecolor": "white"
           }
          },
          "shapedefaults": {
           "line": {
            "color": "#2a3f5f"
           }
          },
          "ternary": {
           "aaxis": {
            "gridcolor": "white",
            "linecolor": "white",
            "ticks": ""
           },
           "baxis": {
            "gridcolor": "white",
            "linecolor": "white",
            "ticks": ""
           },
           "bgcolor": "#E5ECF6",
           "caxis": {
            "gridcolor": "white",
            "linecolor": "white",
            "ticks": ""
           }
          },
          "title": {
           "x": 0.05
          },
          "xaxis": {
           "automargin": true,
           "gridcolor": "white",
           "linecolor": "white",
           "ticks": "",
           "title": {
            "standoff": 15
           },
           "zerolinecolor": "white",
           "zerolinewidth": 2
          },
          "yaxis": {
           "automargin": true,
           "gridcolor": "white",
           "linecolor": "white",
           "ticks": "",
           "title": {
            "standoff": 15
           },
           "zerolinecolor": "white",
           "zerolinewidth": 2
          }
         }
        },
        "width": 700,
        "xaxis": {
         "anchor": "y",
         "domain": [
          0,
          1
         ],
         "title": {
          "text": "Nome do cliente"
         }
        },
        "yaxis": {
         "anchor": "x",
         "domain": [
          0,
          1
         ],
         "title": {
          "text": "Quantidade de vendas"
         }
        }
       }
      },
      "text/html": [
       "<div>                            <div id=\"45a8b2fb-7b13-479d-855c-29bf574ab6fa\" class=\"plotly-graph-div\" style=\"height:700px; width:700px;\"></div>            <script type=\"text/javascript\">                require([\"plotly\"], function(Plotly) {                    window.PLOTLYENV=window.PLOTLYENV || {};                                    if (document.getElementById(\"45a8b2fb-7b13-479d-855c-29bf574ab6fa\")) {                    Plotly.newPlot(                        \"45a8b2fb-7b13-479d-855c-29bf574ab6fa\",                        [{\"alignmentgroup\":\"True\",\"hovertemplate\":\"Produto=morango<br>Nome do cliente=%{x}<br>Quantidade de vendas=%{y}<extra></extra>\",\"legendgroup\":\"morango\",\"marker\":{\"color\":\"#636efa\",\"pattern\":{\"shape\":\"\"}},\"name\":\"morango\",\"offsetgroup\":\"morango\",\"orientation\":\"v\",\"showlegend\":true,\"textposition\":\"auto\",\"type\":\"bar\",\"x\":[\"Gustavo Henrique Moreira\",\"Sr. Ryan Rocha\",\"Sr. Ryan Rocha\",\"Vitor Caldeira\",\"Vitor Caldeira\",\"Vitor Caldeira\",\"Beatriz Fernandes\",\"Nicole Pereira\",\"Matheus Carvalho\"],\"xaxis\":\"x\",\"y\":[4,2,4,2,1,2,3,2,3],\"yaxis\":\"y\"},{\"alignmentgroup\":\"True\",\"hovertemplate\":\"Produto=melancia<br>Nome do cliente=%{x}<br>Quantidade de vendas=%{y}<extra></extra>\",\"legendgroup\":\"melancia\",\"marker\":{\"color\":\"#EF553B\",\"pattern\":{\"shape\":\"\"}},\"name\":\"melancia\",\"offsetgroup\":\"melancia\",\"orientation\":\"v\",\"showlegend\":true,\"textposition\":\"auto\",\"type\":\"bar\",\"x\":[\"Gustavo Henrique Moreira\",\"Gustavo Henrique Moreira\",\"Gustavo Henrique Moreira\",\"Sr. Ryan Rocha\",\"Sr. Ryan Rocha\",\"Sr. Ryan Rocha\",\"Dra. Laura da Mota\",\"Vitor Caldeira\",\"Sr. Luiz Miguel da Mata\",\"Sr. Luiz Miguel da Mata\",\"Sr. Luiz Miguel da Mata\",\"Srta. J\\u00falia Silva\",\"Srta. J\\u00falia Silva\",\"Nicole Pereira\",\"Nicole Pereira\",\"Nicole Pereira\"],\"xaxis\":\"x\",\"y\":[2,2,3,1,2,1,4,2,3,4,4,3,4,4,2,4],\"yaxis\":\"y\"},{\"alignmentgroup\":\"True\",\"hovertemplate\":\"Produto=sabonete<br>Nome do cliente=%{x}<br>Quantidade de vendas=%{y}<extra></extra>\",\"legendgroup\":\"sabonete\",\"marker\":{\"color\":\"#00cc96\",\"pattern\":{\"shape\":\"\"}},\"name\":\"sabonete\",\"offsetgroup\":\"sabonete\",\"orientation\":\"v\",\"showlegend\":true,\"textposition\":\"auto\",\"type\":\"bar\",\"x\":[\"Gustavo Henrique Moreira\",\"Gustavo Henrique Moreira\",\"Davi Luiz Rocha\",\"Davi Luiz Rocha\",\"Davi Luiz Rocha\",\"Sr. Ryan Rocha\",\"Sr. Ryan Rocha\",\"Sr. Ryan Rocha\",\"Dra. Laura da Mota\",\"Vitor Caldeira\",\"Sr. Luiz Miguel da Mata\",\"Sr. Luiz Miguel da Mata\",\"Beatriz Fernandes\",\"Beatriz Fernandes\",\"Matheus Carvalho\",\"Matheus Carvalho\",\"Matheus Carvalho\"],\"xaxis\":\"x\",\"y\":[4,2,2,4,4,2,4,1,3,4,1,4,2,4,4,1,2],\"yaxis\":\"y\"},{\"alignmentgroup\":\"True\",\"hovertemplate\":\"Produto=arroz<br>Nome do cliente=%{x}<br>Quantidade de vendas=%{y}<extra></extra>\",\"legendgroup\":\"arroz\",\"marker\":{\"color\":\"#ab63fa\",\"pattern\":{\"shape\":\"\"}},\"name\":\"arroz\",\"offsetgroup\":\"arroz\",\"orientation\":\"v\",\"showlegend\":true,\"textposition\":\"auto\",\"type\":\"bar\",\"x\":[\"Gustavo Henrique Moreira\",\"Gustavo Henrique Moreira\",\"Davi Luiz Rocha\",\"Sr. Ryan Rocha\",\"Dra. Laura da Mota\",\"Beatriz Fernandes\",\"Srta. J\\u00falia Silva\"],\"xaxis\":\"x\",\"y\":[4,2,4,4,4,4,1],\"yaxis\":\"y\"},{\"alignmentgroup\":\"True\",\"hovertemplate\":\"Produto=bolo<br>Nome do cliente=%{x}<br>Quantidade de vendas=%{y}<extra></extra>\",\"legendgroup\":\"bolo\",\"marker\":{\"color\":\"#FFA15A\",\"pattern\":{\"shape\":\"\"}},\"name\":\"bolo\",\"offsetgroup\":\"bolo\",\"orientation\":\"v\",\"showlegend\":true,\"textposition\":\"auto\",\"type\":\"bar\",\"x\":[\"Gustavo Henrique Moreira\",\"Gustavo Henrique Moreira\",\"Davi Luiz Rocha\",\"Vitor Caldeira\",\"Vitor Caldeira\",\"Sr. Luiz Miguel da Mata\",\"Sr. Luiz Miguel da Mata\",\"Nicole Pereira\"],\"xaxis\":\"x\",\"y\":[2,1,4,4,4,3,4,1],\"yaxis\":\"y\"},{\"alignmentgroup\":\"True\",\"hovertemplate\":\"Produto=flanela<br>Nome do cliente=%{x}<br>Quantidade de vendas=%{y}<extra></extra>\",\"legendgroup\":\"flanela\",\"marker\":{\"color\":\"#19d3f3\",\"pattern\":{\"shape\":\"\"}},\"name\":\"flanela\",\"offsetgroup\":\"flanela\",\"orientation\":\"v\",\"showlegend\":true,\"textposition\":\"auto\",\"type\":\"bar\",\"x\":[\"Gustavo Henrique Moreira\",\"Gustavo Henrique Moreira\",\"Davi Luiz Rocha\",\"Davi Luiz Rocha\",\"Sr. Ryan Rocha\",\"Dra. Laura da Mota\",\"Dra. Laura da Mota\",\"Dra. Laura da Mota\",\"Vitor Caldeira\",\"Sr. Luiz Miguel da Mata\",\"Sr. Luiz Miguel da Mata\",\"Sr. Luiz Miguel da Mata\",\"Beatriz Fernandes\",\"Beatriz Fernandes\",\"Nicole Pereira\",\"Nicole Pereira\",\"Matheus Carvalho\",\"Matheus Carvalho\"],\"xaxis\":\"x\",\"y\":[2,4,2,3,2,2,1,4,2,2,4,2,3,2,1,4,2,2],\"yaxis\":\"y\"},{\"alignmentgroup\":\"True\",\"hovertemplate\":\"Produto=carr\\u00e9 de cordeiro<br>Nome do cliente=%{x}<br>Quantidade de vendas=%{y}<extra></extra>\",\"legendgroup\":\"carr\\u00e9 de cordeiro\",\"marker\":{\"color\":\"#FF6692\",\"pattern\":{\"shape\":\"\"}},\"name\":\"carr\\u00e9 de cordeiro\",\"offsetgroup\":\"carr\\u00e9 de cordeiro\",\"orientation\":\"v\",\"showlegend\":true,\"textposition\":\"auto\",\"type\":\"bar\",\"x\":[\"Gustavo Henrique Moreira\",\"Davi Luiz Rocha\",\"Davi Luiz Rocha\",\"Sr. Ryan Rocha\",\"Sr. Luiz Miguel da Mata\",\"Beatriz Fernandes\",\"Beatriz Fernandes\",\"Beatriz Fernandes\",\"Srta. J\\u00falia Silva\",\"Srta. J\\u00falia Silva\",\"Srta. J\\u00falia Silva\",\"Srta. J\\u00falia Silva\",\"Matheus Carvalho\"],\"xaxis\":\"x\",\"y\":[3,3,1,2,2,1,1,1,3,2,3,2,1],\"yaxis\":\"y\"},{\"alignmentgroup\":\"True\",\"hovertemplate\":\"Produto=p\\u00e3o de queijo<br>Nome do cliente=%{x}<br>Quantidade de vendas=%{y}<extra></extra>\",\"legendgroup\":\"p\\u00e3o de queijo\",\"marker\":{\"color\":\"#B6E880\",\"pattern\":{\"shape\":\"\"}},\"name\":\"p\\u00e3o de queijo\",\"offsetgroup\":\"p\\u00e3o de queijo\",\"orientation\":\"v\",\"showlegend\":true,\"textposition\":\"auto\",\"type\":\"bar\",\"x\":[\"Gustavo Henrique Moreira\",\"Davi Luiz Rocha\",\"Davi Luiz Rocha\",\"Sr. Ryan Rocha\",\"Sr. Ryan Rocha\",\"Dra. Laura da Mota\",\"Dra. Laura da Mota\",\"Sr. Luiz Miguel da Mata\",\"Beatriz Fernandes\",\"Nicole Pereira\",\"Nicole Pereira\",\"Nicole Pereira\",\"Matheus Carvalho\"],\"xaxis\":\"x\",\"y\":[2,4,3,3,4,2,3,3,3,4,1,2,3],\"yaxis\":\"y\"},{\"alignmentgroup\":\"True\",\"hovertemplate\":\"Produto=paleta su\\u00edna<br>Nome do cliente=%{x}<br>Quantidade de vendas=%{y}<extra></extra>\",\"legendgroup\":\"paleta su\\u00edna\",\"marker\":{\"color\":\"#FF97FF\",\"pattern\":{\"shape\":\"\"}},\"name\":\"paleta su\\u00edna\",\"offsetgroup\":\"paleta su\\u00edna\",\"orientation\":\"v\",\"showlegend\":true,\"textposition\":\"auto\",\"type\":\"bar\",\"x\":[\"Gustavo Henrique Moreira\",\"Sr. Ryan Rocha\",\"Sr. Luiz Miguel da Mata\",\"Beatriz Fernandes\",\"Matheus Carvalho\",\"Matheus Carvalho\"],\"xaxis\":\"x\",\"y\":[1,2,2,1,4,3],\"yaxis\":\"y\"},{\"alignmentgroup\":\"True\",\"hovertemplate\":\"Produto=berinjela<br>Nome do cliente=%{x}<br>Quantidade de vendas=%{y}<extra></extra>\",\"legendgroup\":\"berinjela\",\"marker\":{\"color\":\"#FECB52\",\"pattern\":{\"shape\":\"\"}},\"name\":\"berinjela\",\"offsetgroup\":\"berinjela\",\"orientation\":\"v\",\"showlegend\":true,\"textposition\":\"auto\",\"type\":\"bar\",\"x\":[\"Gustavo Henrique Moreira\",\"Gustavo Henrique Moreira\",\"Sr. Ryan Rocha\",\"Dra. Laura da Mota\",\"Dra. Laura da Mota\",\"Vitor Caldeira\",\"Sr. Luiz Miguel da Mata\",\"Beatriz Fernandes\",\"Beatriz Fernandes\",\"Srta. J\\u00falia Silva\"],\"xaxis\":\"x\",\"y\":[1,3,1,3,1,4,4,4,3,1],\"yaxis\":\"y\"},{\"alignmentgroup\":\"True\",\"hovertemplate\":\"Produto=amaciante<br>Nome do cliente=%{x}<br>Quantidade de vendas=%{y}<extra></extra>\",\"legendgroup\":\"amaciante\",\"marker\":{\"color\":\"#636efa\",\"pattern\":{\"shape\":\"\"}},\"name\":\"amaciante\",\"offsetgroup\":\"amaciante\",\"orientation\":\"v\",\"showlegend\":true,\"textposition\":\"auto\",\"type\":\"bar\",\"x\":[\"Gustavo Henrique Moreira\",\"Sr. Ryan Rocha\",\"Dra. Laura da Mota\",\"Dra. Laura da Mota\",\"Dra. Laura da Mota\",\"Sr. Luiz Miguel da Mata\",\"Sr. Luiz Miguel da Mata\",\"Sr. Luiz Miguel da Mata\",\"Srta. J\\u00falia Silva\",\"Nicole Pereira\"],\"xaxis\":\"x\",\"y\":[1,1,3,1,2,1,2,1,4,2],\"yaxis\":\"y\"},{\"alignmentgroup\":\"True\",\"hovertemplate\":\"Produto=p\\u00e3o de forma<br>Nome do cliente=%{x}<br>Quantidade de vendas=%{y}<extra></extra>\",\"legendgroup\":\"p\\u00e3o de forma\",\"marker\":{\"color\":\"#EF553B\",\"pattern\":{\"shape\":\"\"}},\"name\":\"p\\u00e3o de forma\",\"offsetgroup\":\"p\\u00e3o de forma\",\"orientation\":\"v\",\"showlegend\":true,\"textposition\":\"auto\",\"type\":\"bar\",\"x\":[\"Gustavo Henrique Moreira\",\"Gustavo Henrique Moreira\",\"Sr. Ryan Rocha\",\"Sr. Ryan Rocha\",\"Dra. Laura da Mota\",\"Vitor Caldeira\",\"Beatriz Fernandes\",\"Beatriz Fernandes\",\"Beatriz Fernandes\",\"Beatriz Fernandes\",\"Matheus Carvalho\",\"Matheus Carvalho\"],\"xaxis\":\"x\",\"y\":[4,3,2,3,2,3,1,2,1,4,2,2],\"yaxis\":\"y\"},{\"alignmentgroup\":\"True\",\"hovertemplate\":\"Produto=macarr\\u00e3o<br>Nome do cliente=%{x}<br>Quantidade de vendas=%{y}<extra></extra>\",\"legendgroup\":\"macarr\\u00e3o\",\"marker\":{\"color\":\"#00cc96\",\"pattern\":{\"shape\":\"\"}},\"name\":\"macarr\\u00e3o\",\"offsetgroup\":\"macarr\\u00e3o\",\"orientation\":\"v\",\"showlegend\":true,\"textposition\":\"auto\",\"type\":\"bar\",\"x\":[\"Gustavo Henrique Moreira\",\"Gustavo Henrique Moreira\",\"Gustavo Henrique Moreira\",\"Davi Luiz Rocha\",\"Davi Luiz Rocha\",\"Davi Luiz Rocha\",\"Davi Luiz Rocha\",\"Davi Luiz Rocha\",\"Sr. Ryan Rocha\",\"Dra. Laura da Mota\",\"Dra. Laura da Mota\",\"Dra. Laura da Mota\",\"Nicole Pereira\",\"Nicole Pereira\",\"Matheus Carvalho\"],\"xaxis\":\"x\",\"y\":[2,2,3,2,1,4,3,2,4,4,1,2,2,2,2],\"yaxis\":\"y\"},{\"alignmentgroup\":\"True\",\"hovertemplate\":\"Produto=picanha<br>Nome do cliente=%{x}<br>Quantidade de vendas=%{y}<extra></extra>\",\"legendgroup\":\"picanha\",\"marker\":{\"color\":\"#ab63fa\",\"pattern\":{\"shape\":\"\"}},\"name\":\"picanha\",\"offsetgroup\":\"picanha\",\"orientation\":\"v\",\"showlegend\":true,\"textposition\":\"auto\",\"type\":\"bar\",\"x\":[\"Gustavo Henrique Moreira\",\"Sr. Ryan Rocha\",\"Sr. Ryan Rocha\",\"Sr. Ryan Rocha\",\"Dra. Laura da Mota\",\"Dra. Laura da Mota\",\"Vitor Caldeira\",\"Sr. Luiz Miguel da Mata\",\"Beatriz Fernandes\",\"Beatriz Fernandes\"],\"xaxis\":\"x\",\"y\":[1,1,4,2,4,1,2,1,4,3],\"yaxis\":\"y\"},{\"alignmentgroup\":\"True\",\"hovertemplate\":\"Produto=feij\\u00e3o<br>Nome do cliente=%{x}<br>Quantidade de vendas=%{y}<extra></extra>\",\"legendgroup\":\"feij\\u00e3o\",\"marker\":{\"color\":\"#FFA15A\",\"pattern\":{\"shape\":\"\"}},\"name\":\"feij\\u00e3o\",\"offsetgroup\":\"feij\\u00e3o\",\"orientation\":\"v\",\"showlegend\":true,\"textposition\":\"auto\",\"type\":\"bar\",\"x\":[\"Gustavo Henrique Moreira\",\"Gustavo Henrique Moreira\",\"Gustavo Henrique Moreira\",\"Gustavo Henrique Moreira\",\"Davi Luiz Rocha\",\"Dra. Laura da Mota\",\"Dra. Laura da Mota\",\"Vitor Caldeira\",\"Sr. Luiz Miguel da Mata\",\"Srta. J\\u00falia Silva\",\"Matheus Carvalho\"],\"xaxis\":\"x\",\"y\":[2,3,2,4,1,3,1,4,1,2,4],\"yaxis\":\"y\"},{\"alignmentgroup\":\"True\",\"hovertemplate\":\"Produto=sandu\\u00edche<br>Nome do cliente=%{x}<br>Quantidade de vendas=%{y}<extra></extra>\",\"legendgroup\":\"sandu\\u00edche\",\"marker\":{\"color\":\"#19d3f3\",\"pattern\":{\"shape\":\"\"}},\"name\":\"sandu\\u00edche\",\"offsetgroup\":\"sandu\\u00edche\",\"orientation\":\"v\",\"showlegend\":true,\"textposition\":\"auto\",\"type\":\"bar\",\"x\":[\"Gustavo Henrique Moreira\",\"Gustavo Henrique Moreira\",\"Davi Luiz Rocha\",\"Dra. Laura da Mota\",\"Vitor Caldeira\",\"Vitor Caldeira\",\"Vitor Caldeira\",\"Vitor Caldeira\",\"Vitor Caldeira\",\"Sr. Luiz Miguel da Mata\",\"Beatriz Fernandes\",\"Beatriz Fernandes\",\"Srta. J\\u00falia Silva\",\"Nicole Pereira\",\"Matheus Carvalho\"],\"xaxis\":\"x\",\"y\":[4,3,4,2,4,1,1,4,3,2,2,2,4,4,1],\"yaxis\":\"y\"},{\"alignmentgroup\":\"True\",\"hovertemplate\":\"Produto=costela<br>Nome do cliente=%{x}<br>Quantidade de vendas=%{y}<extra></extra>\",\"legendgroup\":\"costela\",\"marker\":{\"color\":\"#FF6692\",\"pattern\":{\"shape\":\"\"}},\"name\":\"costela\",\"offsetgroup\":\"costela\",\"orientation\":\"v\",\"showlegend\":true,\"textposition\":\"auto\",\"type\":\"bar\",\"x\":[\"Gustavo Henrique Moreira\",\"Gustavo Henrique Moreira\",\"Davi Luiz Rocha\",\"Davi Luiz Rocha\",\"Davi Luiz Rocha\",\"Sr. Ryan Rocha\",\"Vitor Caldeira\",\"Vitor Caldeira\",\"Beatriz Fernandes\",\"Srta. J\\u00falia Silva\",\"Srta. J\\u00falia Silva\",\"Nicole Pereira\",\"Nicole Pereira\",\"Matheus Carvalho\"],\"xaxis\":\"x\",\"y\":[1,2,2,4,4,3,4,1,4,4,4,3,4,2],\"yaxis\":\"y\"},{\"alignmentgroup\":\"True\",\"hovertemplate\":\"Produto=torta<br>Nome do cliente=%{x}<br>Quantidade de vendas=%{y}<extra></extra>\",\"legendgroup\":\"torta\",\"marker\":{\"color\":\"#B6E880\",\"pattern\":{\"shape\":\"\"}},\"name\":\"torta\",\"offsetgroup\":\"torta\",\"orientation\":\"v\",\"showlegend\":true,\"textposition\":\"auto\",\"type\":\"bar\",\"x\":[\"Gustavo Henrique Moreira\",\"Davi Luiz Rocha\",\"Davi Luiz Rocha\",\"Sr. Ryan Rocha\",\"Dra. Laura da Mota\",\"Dra. Laura da Mota\",\"Vitor Caldeira\",\"Beatriz Fernandes\"],\"xaxis\":\"x\",\"y\":[3,3,2,4,2,2,2,2],\"yaxis\":\"y\"},{\"alignmentgroup\":\"True\",\"hovertemplate\":\"Produto=bisteca su\\u00edna<br>Nome do cliente=%{x}<br>Quantidade de vendas=%{y}<extra></extra>\",\"legendgroup\":\"bisteca su\\u00edna\",\"marker\":{\"color\":\"#FF97FF\",\"pattern\":{\"shape\":\"\"}},\"name\":\"bisteca su\\u00edna\",\"offsetgroup\":\"bisteca su\\u00edna\",\"orientation\":\"v\",\"showlegend\":true,\"textposition\":\"auto\",\"type\":\"bar\",\"x\":[\"Gustavo Henrique Moreira\",\"Gustavo Henrique Moreira\",\"Gustavo Henrique Moreira\",\"Gustavo Henrique Moreira\",\"Vitor Caldeira\",\"Vitor Caldeira\",\"Beatriz Fernandes\",\"Srta. J\\u00falia Silva\",\"Nicole Pereira\",\"Matheus Carvalho\"],\"xaxis\":\"x\",\"y\":[2,1,2,4,4,2,1,4,4,1],\"yaxis\":\"y\"},{\"alignmentgroup\":\"True\",\"hovertemplate\":\"Produto=batata<br>Nome do cliente=%{x}<br>Quantidade de vendas=%{y}<extra></extra>\",\"legendgroup\":\"batata\",\"marker\":{\"color\":\"#FECB52\",\"pattern\":{\"shape\":\"\"}},\"name\":\"batata\",\"offsetgroup\":\"batata\",\"orientation\":\"v\",\"showlegend\":true,\"textposition\":\"auto\",\"type\":\"bar\",\"x\":[\"Gustavo Henrique Moreira\",\"Davi Luiz Rocha\",\"Dra. Laura da Mota\",\"Vitor Caldeira\",\"Sr. Luiz Miguel da Mata\",\"Srta. J\\u00falia Silva\",\"Nicole Pereira\",\"Matheus Carvalho\"],\"xaxis\":\"x\",\"y\":[3,3,3,3,4,4,4,2],\"yaxis\":\"y\"},{\"alignmentgroup\":\"True\",\"hovertemplate\":\"Produto=maminha<br>Nome do cliente=%{x}<br>Quantidade de vendas=%{y}<extra></extra>\",\"legendgroup\":\"maminha\",\"marker\":{\"color\":\"#636efa\",\"pattern\":{\"shape\":\"\"}},\"name\":\"maminha\",\"offsetgroup\":\"maminha\",\"orientation\":\"v\",\"showlegend\":true,\"textposition\":\"auto\",\"type\":\"bar\",\"x\":[\"Gustavo Henrique Moreira\",\"Gustavo Henrique Moreira\",\"Davi Luiz Rocha\",\"Sr. Luiz Miguel da Mata\",\"Matheus Carvalho\",\"Matheus Carvalho\"],\"xaxis\":\"x\",\"y\":[3,2,1,4,3,2],\"yaxis\":\"y\"},{\"alignmentgroup\":\"True\",\"hovertemplate\":\"Produto=rodo<br>Nome do cliente=%{x}<br>Quantidade de vendas=%{y}<extra></extra>\",\"legendgroup\":\"rodo\",\"marker\":{\"color\":\"#EF553B\",\"pattern\":{\"shape\":\"\"}},\"name\":\"rodo\",\"offsetgroup\":\"rodo\",\"orientation\":\"v\",\"showlegend\":true,\"textposition\":\"auto\",\"type\":\"bar\",\"x\":[\"Gustavo Henrique Moreira\",\"Gustavo Henrique Moreira\",\"Davi Luiz Rocha\",\"Sr. Ryan Rocha\",\"Dra. Laura da Mota\",\"Dra. Laura da Mota\",\"Dra. Laura da Mota\",\"Sr. Luiz Miguel da Mata\",\"Nicole Pereira\",\"Nicole Pereira\",\"Matheus Carvalho\",\"Matheus Carvalho\",\"Matheus Carvalho\",\"Matheus Carvalho\"],\"xaxis\":\"x\",\"y\":[2,1,1,4,4,4,4,1,3,2,1,2,3,3],\"yaxis\":\"y\"},{\"alignmentgroup\":\"True\",\"hovertemplate\":\"Produto=\\u00e1gua sanit\\u00e1ria<br>Nome do cliente=%{x}<br>Quantidade de vendas=%{y}<extra></extra>\",\"legendgroup\":\"\\u00e1gua sanit\\u00e1ria\",\"marker\":{\"color\":\"#00cc96\",\"pattern\":{\"shape\":\"\"}},\"name\":\"\\u00e1gua sanit\\u00e1ria\",\"offsetgroup\":\"\\u00e1gua sanit\\u00e1ria\",\"orientation\":\"v\",\"showlegend\":true,\"textposition\":\"auto\",\"type\":\"bar\",\"x\":[\"Gustavo Henrique Moreira\",\"Davi Luiz Rocha\",\"Sr. Ryan Rocha\",\"Sr. Ryan Rocha\",\"Dra. Laura da Mota\",\"Dra. Laura da Mota\",\"Sr. Luiz Miguel da Mata\",\"Beatriz Fernandes\",\"Srta. J\\u00falia Silva\",\"Nicole Pereira\"],\"xaxis\":\"x\",\"y\":[1,3,1,3,2,4,4,3,1,3],\"yaxis\":\"y\"},{\"alignmentgroup\":\"True\",\"hovertemplate\":\"Produto=uva<br>Nome do cliente=%{x}<br>Quantidade de vendas=%{y}<extra></extra>\",\"legendgroup\":\"uva\",\"marker\":{\"color\":\"#ab63fa\",\"pattern\":{\"shape\":\"\"}},\"name\":\"uva\",\"offsetgroup\":\"uva\",\"orientation\":\"v\",\"showlegend\":true,\"textposition\":\"auto\",\"type\":\"bar\",\"x\":[\"Gustavo Henrique Moreira\",\"Gustavo Henrique Moreira\",\"Gustavo Henrique Moreira\",\"Davi Luiz Rocha\",\"Davi Luiz Rocha\",\"Sr. Ryan Rocha\",\"Sr. Ryan Rocha\",\"Sr. Ryan Rocha\",\"Beatriz Fernandes\",\"Beatriz Fernandes\",\"Beatriz Fernandes\",\"Beatriz Fernandes\",\"Matheus Carvalho\"],\"xaxis\":\"x\",\"y\":[1,3,4,3,3,4,3,3,3,3,1,2,1],\"yaxis\":\"y\"},{\"alignmentgroup\":\"True\",\"hovertemplate\":\"Produto=sonho<br>Nome do cliente=%{x}<br>Quantidade de vendas=%{y}<extra></extra>\",\"legendgroup\":\"sonho\",\"marker\":{\"color\":\"#FFA15A\",\"pattern\":{\"shape\":\"\"}},\"name\":\"sonho\",\"offsetgroup\":\"sonho\",\"orientation\":\"v\",\"showlegend\":true,\"textposition\":\"auto\",\"type\":\"bar\",\"x\":[\"Gustavo Henrique Moreira\",\"Gustavo Henrique Moreira\",\"Gustavo Henrique Moreira\",\"Sr. Ryan Rocha\",\"Vitor Caldeira\",\"Vitor Caldeira\",\"Vitor Caldeira\",\"Sr. Luiz Miguel da Mata\",\"Sr. Luiz Miguel da Mata\",\"Srta. J\\u00falia Silva\",\"Nicole Pereira\",\"Nicole Pereira\",\"Matheus Carvalho\",\"Matheus Carvalho\"],\"xaxis\":\"x\",\"y\":[3,4,1,3,3,4,1,4,4,3,4,2,4,2],\"yaxis\":\"y\"},{\"alignmentgroup\":\"True\",\"hovertemplate\":\"Produto=odorizador<br>Nome do cliente=%{x}<br>Quantidade de vendas=%{y}<extra></extra>\",\"legendgroup\":\"odorizador\",\"marker\":{\"color\":\"#19d3f3\",\"pattern\":{\"shape\":\"\"}},\"name\":\"odorizador\",\"offsetgroup\":\"odorizador\",\"orientation\":\"v\",\"showlegend\":true,\"textposition\":\"auto\",\"type\":\"bar\",\"x\":[\"Gustavo Henrique Moreira\",\"Davi Luiz Rocha\",\"Sr. Ryan Rocha\",\"Sr. Ryan Rocha\",\"Sr. Ryan Rocha\",\"Vitor Caldeira\",\"Sr. Luiz Miguel da Mata\",\"Beatriz Fernandes\",\"Beatriz Fernandes\",\"Beatriz Fernandes\",\"Srta. J\\u00falia Silva\",\"Srta. J\\u00falia Silva\",\"Srta. J\\u00falia Silva\",\"Srta. J\\u00falia Silva\",\"Srta. J\\u00falia Silva\",\"Nicole Pereira\"],\"xaxis\":\"x\",\"y\":[3,2,2,1,4,4,4,1,1,2,4,3,1,3,3,4],\"yaxis\":\"y\"},{\"alignmentgroup\":\"True\",\"hovertemplate\":\"Produto=alcatra<br>Nome do cliente=%{x}<br>Quantidade de vendas=%{y}<extra></extra>\",\"legendgroup\":\"alcatra\",\"marker\":{\"color\":\"#FF6692\",\"pattern\":{\"shape\":\"\"}},\"name\":\"alcatra\",\"offsetgroup\":\"alcatra\",\"orientation\":\"v\",\"showlegend\":true,\"textposition\":\"auto\",\"type\":\"bar\",\"x\":[\"Gustavo Henrique Moreira\",\"Davi Luiz Rocha\",\"Sr. Ryan Rocha\",\"Sr. Ryan Rocha\",\"Dra. Laura da Mota\",\"Vitor Caldeira\",\"Sr. Luiz Miguel da Mata\",\"Beatriz Fernandes\",\"Srta. J\\u00falia Silva\",\"Nicole Pereira\"],\"xaxis\":\"x\",\"y\":[1,3,3,4,1,1,4,1,3,4],\"yaxis\":\"y\"},{\"alignmentgroup\":\"True\",\"hovertemplate\":\"Produto=pastel<br>Nome do cliente=%{x}<br>Quantidade de vendas=%{y}<extra></extra>\",\"legendgroup\":\"pastel\",\"marker\":{\"color\":\"#B6E880\",\"pattern\":{\"shape\":\"\"}},\"name\":\"pastel\",\"offsetgroup\":\"pastel\",\"orientation\":\"v\",\"showlegend\":true,\"textposition\":\"auto\",\"type\":\"bar\",\"x\":[\"Gustavo Henrique Moreira\",\"Dra. Laura da Mota\",\"Dra. Laura da Mota\",\"Vitor Caldeira\",\"Vitor Caldeira\",\"Nicole Pereira\",\"Matheus Carvalho\"],\"xaxis\":\"x\",\"y\":[1,2,3,1,2,2,4],\"yaxis\":\"y\"},{\"alignmentgroup\":\"True\",\"hovertemplate\":\"Produto=p\\u00e3o franc\\u00eas<br>Nome do cliente=%{x}<br>Quantidade de vendas=%{y}<extra></extra>\",\"legendgroup\":\"p\\u00e3o franc\\u00eas\",\"marker\":{\"color\":\"#FF97FF\",\"pattern\":{\"shape\":\"\"}},\"name\":\"p\\u00e3o franc\\u00eas\",\"offsetgroup\":\"p\\u00e3o franc\\u00eas\",\"orientation\":\"v\",\"showlegend\":true,\"textposition\":\"auto\",\"type\":\"bar\",\"x\":[\"Gustavo Henrique Moreira\",\"Davi Luiz Rocha\",\"Sr. Ryan Rocha\",\"Dra. Laura da Mota\",\"Vitor Caldeira\",\"Vitor Caldeira\",\"Sr. Luiz Miguel da Mata\",\"Sr. Luiz Miguel da Mata\",\"Srta. J\\u00falia Silva\",\"Srta. J\\u00falia Silva\",\"Nicole Pereira\",\"Matheus Carvalho\"],\"xaxis\":\"x\",\"y\":[2,3,3,1,2,4,2,4,1,2,2,1],\"yaxis\":\"y\"},{\"alignmentgroup\":\"True\",\"hovertemplate\":\"Produto=sab\\u00e3o em p\\u00f3<br>Nome do cliente=%{x}<br>Quantidade de vendas=%{y}<extra></extra>\",\"legendgroup\":\"sab\\u00e3o em p\\u00f3\",\"marker\":{\"color\":\"#FECB52\",\"pattern\":{\"shape\":\"\"}},\"name\":\"sab\\u00e3o em p\\u00f3\",\"offsetgroup\":\"sab\\u00e3o em p\\u00f3\",\"orientation\":\"v\",\"showlegend\":true,\"textposition\":\"auto\",\"type\":\"bar\",\"x\":[\"Gustavo Henrique Moreira\",\"Davi Luiz Rocha\",\"Davi Luiz Rocha\",\"Dra. Laura da Mota\",\"Dra. Laura da Mota\",\"Beatriz Fernandes\",\"Srta. J\\u00falia Silva\",\"Srta. J\\u00falia Silva\",\"Nicole Pereira\",\"Nicole Pereira\",\"Nicole Pereira\",\"Nicole Pereira\",\"Matheus Carvalho\",\"Matheus Carvalho\"],\"xaxis\":\"x\",\"y\":[4,1,4,3,4,2,2,3,4,3,1,1,3,4],\"yaxis\":\"y\"},{\"alignmentgroup\":\"True\",\"hovertemplate\":\"Produto=banana<br>Nome do cliente=%{x}<br>Quantidade de vendas=%{y}<extra></extra>\",\"legendgroup\":\"banana\",\"marker\":{\"color\":\"#636efa\",\"pattern\":{\"shape\":\"\"}},\"name\":\"banana\",\"offsetgroup\":\"banana\",\"orientation\":\"v\",\"showlegend\":true,\"textposition\":\"auto\",\"type\":\"bar\",\"x\":[\"Davi Luiz Rocha\",\"Davi Luiz Rocha\",\"Sr. Ryan Rocha\",\"Dra. Laura da Mota\",\"Dra. Laura da Mota\",\"Vitor Caldeira\",\"Vitor Caldeira\",\"Vitor Caldeira\",\"Beatriz Fernandes\",\"Srta. J\\u00falia Silva\",\"Srta. J\\u00falia Silva\",\"Nicole Pereira\",\"Matheus Carvalho\"],\"xaxis\":\"x\",\"y\":[1,4,2,4,3,3,3,2,1,1,2,4,3],\"yaxis\":\"y\"},{\"alignmentgroup\":\"True\",\"hovertemplate\":\"Produto=alface<br>Nome do cliente=%{x}<br>Quantidade de vendas=%{y}<extra></extra>\",\"legendgroup\":\"alface\",\"marker\":{\"color\":\"#EF553B\",\"pattern\":{\"shape\":\"\"}},\"name\":\"alface\",\"offsetgroup\":\"alface\",\"orientation\":\"v\",\"showlegend\":true,\"textposition\":\"auto\",\"type\":\"bar\",\"x\":[\"Davi Luiz Rocha\",\"Davi Luiz Rocha\",\"Sr. Luiz Miguel da Mata\",\"Beatriz Fernandes\",\"Beatriz Fernandes\",\"Srta. J\\u00falia Silva\",\"Srta. J\\u00falia Silva\",\"Matheus Carvalho\"],\"xaxis\":\"x\",\"y\":[2,3,3,2,3,1,4,1],\"yaxis\":\"y\"},{\"alignmentgroup\":\"True\",\"hovertemplate\":\"Produto=abobrinha<br>Nome do cliente=%{x}<br>Quantidade de vendas=%{y}<extra></extra>\",\"legendgroup\":\"abobrinha\",\"marker\":{\"color\":\"#00cc96\",\"pattern\":{\"shape\":\"\"}},\"name\":\"abobrinha\",\"offsetgroup\":\"abobrinha\",\"orientation\":\"v\",\"showlegend\":true,\"textposition\":\"auto\",\"type\":\"bar\",\"x\":[\"Davi Luiz Rocha\",\"Davi Luiz Rocha\",\"Sr. Ryan Rocha\",\"Vitor Caldeira\",\"Sr. Luiz Miguel da Mata\",\"Srta. J\\u00falia Silva\",\"Matheus Carvalho\"],\"xaxis\":\"x\",\"y\":[1,2,3,2,3,3,4],\"yaxis\":\"y\"},{\"alignmentgroup\":\"True\",\"hovertemplate\":\"Produto=couve-flor<br>Nome do cliente=%{x}<br>Quantidade de vendas=%{y}<extra></extra>\",\"legendgroup\":\"couve-flor\",\"marker\":{\"color\":\"#ab63fa\",\"pattern\":{\"shape\":\"\"}},\"name\":\"couve-flor\",\"offsetgroup\":\"couve-flor\",\"orientation\":\"v\",\"showlegend\":true,\"textposition\":\"auto\",\"type\":\"bar\",\"x\":[\"Davi Luiz Rocha\",\"Davi Luiz Rocha\",\"Davi Luiz Rocha\",\"Sr. Ryan Rocha\",\"Sr. Ryan Rocha\",\"Dra. Laura da Mota\",\"Sr. Luiz Miguel da Mata\",\"Sr. Luiz Miguel da Mata\",\"Srta. J\\u00falia Silva\",\"Srta. J\\u00falia Silva\",\"Matheus Carvalho\"],\"xaxis\":\"x\",\"y\":[4,2,1,4,2,3,2,3,3,1,2],\"yaxis\":\"y\"},{\"alignmentgroup\":\"True\",\"hovertemplate\":\"Produto=detergente<br>Nome do cliente=%{x}<br>Quantidade de vendas=%{y}<extra></extra>\",\"legendgroup\":\"detergente\",\"marker\":{\"color\":\"#FFA15A\",\"pattern\":{\"shape\":\"\"}},\"name\":\"detergente\",\"offsetgroup\":\"detergente\",\"orientation\":\"v\",\"showlegend\":true,\"textposition\":\"auto\",\"type\":\"bar\",\"x\":[\"Davi Luiz Rocha\",\"Davi Luiz Rocha\",\"Davi Luiz Rocha\",\"Sr. Ryan Rocha\",\"Dra. Laura da Mota\",\"Dra. Laura da Mota\",\"Sr. Luiz Miguel da Mata\",\"Beatriz Fernandes\",\"Beatriz Fernandes\",\"Srta. J\\u00falia Silva\",\"Nicole Pereira\"],\"xaxis\":\"x\",\"y\":[3,3,2,4,4,4,2,3,4,3,2],\"yaxis\":\"y\"},{\"alignmentgroup\":\"True\",\"hovertemplate\":\"Produto=peito de frango<br>Nome do cliente=%{x}<br>Quantidade de vendas=%{y}<extra></extra>\",\"legendgroup\":\"peito de frango\",\"marker\":{\"color\":\"#19d3f3\",\"pattern\":{\"shape\":\"\"}},\"name\":\"peito de frango\",\"offsetgroup\":\"peito de frango\",\"orientation\":\"v\",\"showlegend\":true,\"textposition\":\"auto\",\"type\":\"bar\",\"x\":[\"Sr. Ryan Rocha\",\"Dra. Laura da Mota\",\"Dra. Laura da Mota\",\"Vitor Caldeira\",\"Vitor Caldeira\",\"Beatriz Fernandes\",\"Beatriz Fernandes\",\"Srta. J\\u00falia Silva\",\"Nicole Pereira\",\"Matheus Carvalho\",\"Matheus Carvalho\"],\"xaxis\":\"x\",\"y\":[4,3,2,3,3,2,3,3,1,3,4],\"yaxis\":\"y\"}],                        {\"barmode\":\"stack\",\"height\":700,\"legend\":{\"title\":{\"text\":\"Produto\"},\"tracegroupgap\":0},\"margin\":{\"t\":60},\"template\":{\"data\":{\"bar\":[{\"error_x\":{\"color\":\"#2a3f5f\"},\"error_y\":{\"color\":\"#2a3f5f\"},\"marker\":{\"line\":{\"color\":\"#E5ECF6\",\"width\":0.5},\"pattern\":{\"fillmode\":\"overlay\",\"size\":10,\"solidity\":0.2}},\"type\":\"bar\"}],\"barpolar\":[{\"marker\":{\"line\":{\"color\":\"#E5ECF6\",\"width\":0.5},\"pattern\":{\"fillmode\":\"overlay\",\"size\":10,\"solidity\":0.2}},\"type\":\"barpolar\"}],\"carpet\":[{\"aaxis\":{\"endlinecolor\":\"#2a3f5f\",\"gridcolor\":\"white\",\"linecolor\":\"white\",\"minorgridcolor\":\"white\",\"startlinecolor\":\"#2a3f5f\"},\"baxis\":{\"endlinecolor\":\"#2a3f5f\",\"gridcolor\":\"white\",\"linecolor\":\"white\",\"minorgridcolor\":\"white\",\"startlinecolor\":\"#2a3f5f\"},\"type\":\"carpet\"}],\"choropleth\":[{\"colorbar\":{\"outlinewidth\":0,\"ticks\":\"\"},\"type\":\"choropleth\"}],\"contour\":[{\"colorbar\":{\"outlinewidth\":0,\"ticks\":\"\"},\"colorscale\":[[0.0,\"#0d0887\"],[0.1111111111111111,\"#46039f\"],[0.2222222222222222,\"#7201a8\"],[0.3333333333333333,\"#9c179e\"],[0.4444444444444444,\"#bd3786\"],[0.5555555555555556,\"#d8576b\"],[0.6666666666666666,\"#ed7953\"],[0.7777777777777778,\"#fb9f3a\"],[0.8888888888888888,\"#fdca26\"],[1.0,\"#f0f921\"]],\"type\":\"contour\"}],\"contourcarpet\":[{\"colorbar\":{\"outlinewidth\":0,\"ticks\":\"\"},\"type\":\"contourcarpet\"}],\"heatmap\":[{\"colorbar\":{\"outlinewidth\":0,\"ticks\":\"\"},\"colorscale\":[[0.0,\"#0d0887\"],[0.1111111111111111,\"#46039f\"],[0.2222222222222222,\"#7201a8\"],[0.3333333333333333,\"#9c179e\"],[0.4444444444444444,\"#bd3786\"],[0.5555555555555556,\"#d8576b\"],[0.6666666666666666,\"#ed7953\"],[0.7777777777777778,\"#fb9f3a\"],[0.8888888888888888,\"#fdca26\"],[1.0,\"#f0f921\"]],\"type\":\"heatmap\"}],\"heatmapgl\":[{\"colorbar\":{\"outlinewidth\":0,\"ticks\":\"\"},\"colorscale\":[[0.0,\"#0d0887\"],[0.1111111111111111,\"#46039f\"],[0.2222222222222222,\"#7201a8\"],[0.3333333333333333,\"#9c179e\"],[0.4444444444444444,\"#bd3786\"],[0.5555555555555556,\"#d8576b\"],[0.6666666666666666,\"#ed7953\"],[0.7777777777777778,\"#fb9f3a\"],[0.8888888888888888,\"#fdca26\"],[1.0,\"#f0f921\"]],\"type\":\"heatmapgl\"}],\"histogram\":[{\"marker\":{\"pattern\":{\"fillmode\":\"overlay\",\"size\":10,\"solidity\":0.2}},\"type\":\"histogram\"}],\"histogram2d\":[{\"colorbar\":{\"outlinewidth\":0,\"ticks\":\"\"},\"colorscale\":[[0.0,\"#0d0887\"],[0.1111111111111111,\"#46039f\"],[0.2222222222222222,\"#7201a8\"],[0.3333333333333333,\"#9c179e\"],[0.4444444444444444,\"#bd3786\"],[0.5555555555555556,\"#d8576b\"],[0.6666666666666666,\"#ed7953\"],[0.7777777777777778,\"#fb9f3a\"],[0.8888888888888888,\"#fdca26\"],[1.0,\"#f0f921\"]],\"type\":\"histogram2d\"}],\"histogram2dcontour\":[{\"colorbar\":{\"outlinewidth\":0,\"ticks\":\"\"},\"colorscale\":[[0.0,\"#0d0887\"],[0.1111111111111111,\"#46039f\"],[0.2222222222222222,\"#7201a8\"],[0.3333333333333333,\"#9c179e\"],[0.4444444444444444,\"#bd3786\"],[0.5555555555555556,\"#d8576b\"],[0.6666666666666666,\"#ed7953\"],[0.7777777777777778,\"#fb9f3a\"],[0.8888888888888888,\"#fdca26\"],[1.0,\"#f0f921\"]],\"type\":\"histogram2dcontour\"}],\"mesh3d\":[{\"colorbar\":{\"outlinewidth\":0,\"ticks\":\"\"},\"type\":\"mesh3d\"}],\"parcoords\":[{\"line\":{\"colorbar\":{\"outlinewidth\":0,\"ticks\":\"\"}},\"type\":\"parcoords\"}],\"pie\":[{\"automargin\":true,\"type\":\"pie\"}],\"scatter\":[{\"marker\":{\"colorbar\":{\"outlinewidth\":0,\"ticks\":\"\"}},\"type\":\"scatter\"}],\"scatter3d\":[{\"line\":{\"colorbar\":{\"outlinewidth\":0,\"ticks\":\"\"}},\"marker\":{\"colorbar\":{\"outlinewidth\":0,\"ticks\":\"\"}},\"type\":\"scatter3d\"}],\"scattercarpet\":[{\"marker\":{\"colorbar\":{\"outlinewidth\":0,\"ticks\":\"\"}},\"type\":\"scattercarpet\"}],\"scattergeo\":[{\"marker\":{\"colorbar\":{\"outlinewidth\":0,\"ticks\":\"\"}},\"type\":\"scattergeo\"}],\"scattergl\":[{\"marker\":{\"colorbar\":{\"outlinewidth\":0,\"ticks\":\"\"}},\"type\":\"scattergl\"}],\"scattermapbox\":[{\"marker\":{\"colorbar\":{\"outlinewidth\":0,\"ticks\":\"\"}},\"type\":\"scattermapbox\"}],\"scatterpolar\":[{\"marker\":{\"colorbar\":{\"outlinewidth\":0,\"ticks\":\"\"}},\"type\":\"scatterpolar\"}],\"scatterpolargl\":[{\"marker\":{\"colorbar\":{\"outlinewidth\":0,\"ticks\":\"\"}},\"type\":\"scatterpolargl\"}],\"scatterternary\":[{\"marker\":{\"colorbar\":{\"outlinewidth\":0,\"ticks\":\"\"}},\"type\":\"scatterternary\"}],\"surface\":[{\"colorbar\":{\"outlinewidth\":0,\"ticks\":\"\"},\"colorscale\":[[0.0,\"#0d0887\"],[0.1111111111111111,\"#46039f\"],[0.2222222222222222,\"#7201a8\"],[0.3333333333333333,\"#9c179e\"],[0.4444444444444444,\"#bd3786\"],[0.5555555555555556,\"#d8576b\"],[0.6666666666666666,\"#ed7953\"],[0.7777777777777778,\"#fb9f3a\"],[0.8888888888888888,\"#fdca26\"],[1.0,\"#f0f921\"]],\"type\":\"surface\"}],\"table\":[{\"cells\":{\"fill\":{\"color\":\"#EBF0F8\"},\"line\":{\"color\":\"white\"}},\"header\":{\"fill\":{\"color\":\"#C8D4E3\"},\"line\":{\"color\":\"white\"}},\"type\":\"table\"}]},\"layout\":{\"annotationdefaults\":{\"arrowcolor\":\"#2a3f5f\",\"arrowhead\":0,\"arrowwidth\":1},\"autotypenumbers\":\"strict\",\"coloraxis\":{\"colorbar\":{\"outlinewidth\":0,\"ticks\":\"\"}},\"colorscale\":{\"diverging\":[[0,\"#8e0152\"],[0.1,\"#c51b7d\"],[0.2,\"#de77ae\"],[0.3,\"#f1b6da\"],[0.4,\"#fde0ef\"],[0.5,\"#f7f7f7\"],[0.6,\"#e6f5d0\"],[0.7,\"#b8e186\"],[0.8,\"#7fbc41\"],[0.9,\"#4d9221\"],[1,\"#276419\"]],\"sequential\":[[0.0,\"#0d0887\"],[0.1111111111111111,\"#46039f\"],[0.2222222222222222,\"#7201a8\"],[0.3333333333333333,\"#9c179e\"],[0.4444444444444444,\"#bd3786\"],[0.5555555555555556,\"#d8576b\"],[0.6666666666666666,\"#ed7953\"],[0.7777777777777778,\"#fb9f3a\"],[0.8888888888888888,\"#fdca26\"],[1.0,\"#f0f921\"]],\"sequentialminus\":[[0.0,\"#0d0887\"],[0.1111111111111111,\"#46039f\"],[0.2222222222222222,\"#7201a8\"],[0.3333333333333333,\"#9c179e\"],[0.4444444444444444,\"#bd3786\"],[0.5555555555555556,\"#d8576b\"],[0.6666666666666666,\"#ed7953\"],[0.7777777777777778,\"#fb9f3a\"],[0.8888888888888888,\"#fdca26\"],[1.0,\"#f0f921\"]]},\"colorway\":[\"#636efa\",\"#EF553B\",\"#00cc96\",\"#ab63fa\",\"#FFA15A\",\"#19d3f3\",\"#FF6692\",\"#B6E880\",\"#FF97FF\",\"#FECB52\"],\"font\":{\"color\":\"#2a3f5f\"},\"geo\":{\"bgcolor\":\"white\",\"lakecolor\":\"white\",\"landcolor\":\"#E5ECF6\",\"showlakes\":true,\"showland\":true,\"subunitcolor\":\"white\"},\"hoverlabel\":{\"align\":\"left\"},\"hovermode\":\"closest\",\"mapbox\":{\"style\":\"light\"},\"paper_bgcolor\":\"white\",\"plot_bgcolor\":\"#E5ECF6\",\"polar\":{\"angularaxis\":{\"gridcolor\":\"white\",\"linecolor\":\"white\",\"ticks\":\"\"},\"bgcolor\":\"#E5ECF6\",\"radialaxis\":{\"gridcolor\":\"white\",\"linecolor\":\"white\",\"ticks\":\"\"}},\"scene\":{\"xaxis\":{\"backgroundcolor\":\"#E5ECF6\",\"gridcolor\":\"white\",\"gridwidth\":2,\"linecolor\":\"white\",\"showbackground\":true,\"ticks\":\"\",\"zerolinecolor\":\"white\"},\"yaxis\":{\"backgroundcolor\":\"#E5ECF6\",\"gridcolor\":\"white\",\"gridwidth\":2,\"linecolor\":\"white\",\"showbackground\":true,\"ticks\":\"\",\"zerolinecolor\":\"white\"},\"zaxis\":{\"backgroundcolor\":\"#E5ECF6\",\"gridcolor\":\"white\",\"gridwidth\":2,\"linecolor\":\"white\",\"showbackground\":true,\"ticks\":\"\",\"zerolinecolor\":\"white\"}},\"shapedefaults\":{\"line\":{\"color\":\"#2a3f5f\"}},\"ternary\":{\"aaxis\":{\"gridcolor\":\"white\",\"linecolor\":\"white\",\"ticks\":\"\"},\"baxis\":{\"gridcolor\":\"white\",\"linecolor\":\"white\",\"ticks\":\"\"},\"bgcolor\":\"#E5ECF6\",\"caxis\":{\"gridcolor\":\"white\",\"linecolor\":\"white\",\"ticks\":\"\"}},\"title\":{\"x\":0.05},\"xaxis\":{\"automargin\":true,\"gridcolor\":\"white\",\"linecolor\":\"white\",\"ticks\":\"\",\"title\":{\"standoff\":15},\"zerolinecolor\":\"white\",\"zerolinewidth\":2},\"yaxis\":{\"automargin\":true,\"gridcolor\":\"white\",\"linecolor\":\"white\",\"ticks\":\"\",\"title\":{\"standoff\":15},\"zerolinecolor\":\"white\",\"zerolinewidth\":2}}},\"width\":700,\"xaxis\":{\"anchor\":\"y\",\"domain\":[0.0,1.0],\"title\":{\"text\":\"Nome do cliente\"}},\"yaxis\":{\"anchor\":\"x\",\"domain\":[0.0,1.0],\"title\":{\"text\":\"Quantidade de vendas\"}}},                        {\"responsive\": true}                    ).then(function(){\n",
       "                            \n",
       "var gd = document.getElementById('45a8b2fb-7b13-479d-855c-29bf574ab6fa');\n",
       "var x = new MutationObserver(function (mutations, observer) {{\n",
       "        var display = window.getComputedStyle(gd).display;\n",
       "        if (!display || display === 'none') {{\n",
       "            console.log([gd, 'removed!']);\n",
       "            Plotly.purge(gd);\n",
       "            observer.disconnect();\n",
       "        }}\n",
       "}});\n",
       "\n",
       "// Listen for the removal of the full notebook cells\n",
       "var notebookContainer = gd.closest('#notebook-container');\n",
       "if (notebookContainer) {{\n",
       "    x.observe(notebookContainer, {childList: true});\n",
       "}}\n",
       "\n",
       "// Listen for the clearing of the current output cell\n",
       "var outputEl = gd.closest('.output');\n",
       "if (outputEl) {{\n",
       "    x.observe(outputEl, {childList: true});\n",
       "}}\n",
       "\n",
       "                        })                };                });            </script>        </div>"
      ]
     },
     "metadata": {},
     "output_type": "display_data"
    }
   ],
   "source": [
    "#plotagem de um gráfica de barras\n",
    "fig = px.bar(venda_produtos_cliente_qt, x=\"nome_cliente\", y=\"quantidade\", color=\"nome\", barmode = 'stack',\n",
    "             labels={\"quantidade\": \"Quantidade de vendas\", \"nome_cliente\": \"Nome do cliente\", \"nome\":\"Produto\" }, height=700, width=700)\n",
    " \n",
    "fig.show()"
   ]
  },
  {
   "cell_type": "code",
   "execution_count": 92,
   "id": "ba1bc3fc",
   "metadata": {},
   "outputs": [],
   "source": [
    "venda_produtos_cliente[\"total_preco\"]=venda_produtos_cliente[\"quantidade\"]*venda_produtos_cliente[\"preco\"]\n",
    "quantidade_comprada_preco = venda_produtos_cliente[[\"id_clientes\", \"total_preco\"]].groupby(['id_clientes']).sum().sort_values('total_preco', ascending=False).reset_index().head(10)\n",
    "quantidade_comprada_preco.rename(columns={\"total_preco\": \"total_mes\"}, inplace = 1)\n",
    "venda_produtos_cliente_pt=pd.merge(venda_produtos_cliente, quantidade_comprada_preco, on = 'id_clientes', how='right') "
   ]
  },
  {
   "cell_type": "code",
   "execution_count": 93,
   "id": "2452f2a3",
   "metadata": {},
   "outputs": [
    {
     "data": {
      "application/vnd.plotly.v1+json": {
       "config": {
        "plotlyServerURL": "https://plot.ly"
       },
       "data": [
        {
         "alignmentgroup": "True",
         "customdata": [
          [
           "amaciante",
           "2021-11-01",
           6.7
          ],
          [
           "odorizador",
           "2021-11-01",
           23.99
          ],
          [
           "odorizador",
           "2021-11-01",
           23.99
          ],
          [
           "odorizador",
           "2021-11-01",
           23.99
          ],
          [
           "odorizador",
           "2021-11-13",
           23.99
          ],
          [
           "odorizador",
           "2021-11-13",
           23.99
          ],
          [
           "detergente",
           "2021-11-13",
           2.7
          ],
          [
           "sabão em pó",
           "2021-11-13",
           9.69
          ],
          [
           "água sanitária",
           "2021-11-10",
           11.98
          ],
          [
           "sabão em pó",
           "2021-11-10",
           9.69
          ],
          [
           "detergente",
           "2021-11-01",
           2.7
          ],
          [
           "água sanitária",
           "2021-11-01",
           11.98
          ],
          [
           "sabão em pó",
           "2021-11-01",
           9.69
          ],
          [
           "rodo",
           "2021-11-07",
           5.99
          ],
          [
           "rodo",
           "2021-11-07",
           5.99
          ],
          [
           "flanela",
           "2021-11-07",
           1.99
          ],
          [
           "sabão em pó",
           "2021-11-07",
           9.69
          ],
          [
           "odorizador",
           "2021-11-13",
           23.99
          ],
          [
           "sabonete",
           "2021-11-10",
           1.29
          ],
          [
           "sabonete",
           "2021-11-10",
           1.29
          ],
          [
           "sabonete",
           "2021-11-10",
           1.29
          ],
          [
           "água sanitária",
           "2021-11-10",
           11.98
          ],
          [
           "amaciante",
           "2021-11-11",
           6.7
          ],
          [
           "odorizador",
           "2021-11-11",
           23.99
          ],
          [
           "odorizador",
           "2021-11-07",
           23.99
          ],
          [
           "detergente",
           "2021-11-07",
           2.7
          ],
          [
           "rodo",
           "2021-11-07",
           5.99
          ],
          [
           "flanela",
           "2021-11-07",
           1.99
          ],
          [
           "água sanitária",
           "2021-11-07",
           11.98
          ],
          [
           "detergente",
           "2021-11-03",
           2.7
          ],
          [
           "detergente",
           "2021-11-03",
           2.7
          ],
          [
           "sabonete",
           "2021-11-03",
           1.29
          ],
          [
           "sabonete",
           "2021-11-03",
           1.29
          ],
          [
           "sabonete",
           "2021-11-03",
           1.29
          ],
          [
           "flanela",
           "2021-11-03",
           1.99
          ],
          [
           "água sanitária",
           "2021-11-03",
           11.98
          ],
          [
           "sabão em pó",
           "2021-11-03",
           9.69
          ],
          [
           "água sanitária",
           "2021-11-15",
           11.98
          ],
          [
           "água sanitária",
           "2021-11-03",
           11.98
          ],
          [
           "água sanitária",
           "2021-11-03",
           11.98
          ],
          [
           "sabonete",
           "2021-11-11",
           1.29
          ],
          [
           "flanela",
           "2021-11-11",
           1.99
          ],
          [
           "amaciante",
           "2021-11-09",
           6.7
          ],
          [
           "rodo",
           "2021-11-14",
           5.99
          ],
          [
           "flanela",
           "2021-11-14",
           1.99
          ],
          [
           "água sanitária",
           "2021-11-14",
           11.98
          ],
          [
           "odorizador",
           "2021-11-06",
           23.99
          ],
          [
           "sabonete",
           "2021-11-06",
           1.29
          ],
          [
           "rodo",
           "2021-11-14",
           5.99
          ],
          [
           "sabão em pó",
           "2021-11-14",
           9.69
          ],
          [
           "detergente",
           "2021-11-13",
           2.7
          ],
          [
           "sabonete",
           "2021-11-13",
           1.29
          ],
          [
           "rodo",
           "2021-11-13",
           5.99
          ],
          [
           "água sanitária",
           "2021-11-13",
           11.98
          ],
          [
           "sabão em pó",
           "2021-11-13",
           9.69
          ],
          [
           "amaciante",
           "2021-11-11",
           6.7
          ],
          [
           "odorizador",
           "2021-11-11",
           23.99
          ],
          [
           "detergente",
           "2021-11-11",
           2.7
          ],
          [
           "detergente",
           "2021-11-11",
           2.7
          ],
          [
           "rodo",
           "2021-11-11",
           5.99
          ],
          [
           "água sanitária",
           "2021-11-02",
           11.98
          ],
          [
           "rodo",
           "2021-11-22",
           5.99
          ],
          [
           "sabonete",
           "2021-11-04",
           1.29
          ],
          [
           "sabão em pó",
           "2021-11-04",
           9.69
          ],
          [
           "rodo",
           "2021-11-07",
           5.99
          ],
          [
           "água sanitária",
           "2021-11-07",
           11.98
          ],
          [
           "detergente",
           "2021-11-03",
           2.7
          ],
          [
           "detergente",
           "2021-11-03",
           2.7
          ],
          [
           "detergente",
           "2021-11-03",
           2.7
          ],
          [
           "flanela",
           "2021-11-03",
           1.99
          ],
          [
           "flanela",
           "2021-11-03",
           1.99
          ],
          [
           "sabão em pó",
           "2021-11-03",
           9.69
          ],
          [
           "odorizador",
           "2021-11-07",
           23.99
          ],
          [
           "sabonete",
           "2021-11-07",
           1.29
          ],
          [
           "sabonete",
           "2021-11-30",
           1.29
          ],
          [
           "amaciante",
           "2021-11-11",
           6.7
          ],
          [
           "flanela",
           "2021-11-08",
           1.99
          ],
          [
           "flanela",
           "2021-11-09",
           1.99
          ],
          [
           "detergente",
           "2021-11-01",
           2.7
          ],
          [
           "sabonete",
           "2021-11-01",
           1.29
          ],
          [
           "sabonete",
           "2021-11-01",
           1.29
          ],
          [
           "flanela",
           "2021-11-01",
           1.99
          ],
          [
           "sabão em pó",
           "2021-11-01",
           9.69
          ],
          [
           "odorizador",
           "2021-11-06",
           23.99
          ],
          [
           "odorizador",
           "2021-11-06",
           23.99
          ],
          [
           "odorizador",
           "2021-11-06",
           23.99
          ],
          [
           "detergente",
           "2021-11-06",
           2.7
          ],
          [
           "água sanitária",
           "2021-11-06",
           11.98
          ]
         ],
         "hovertemplate": "Seção=Produtos de Limpeza<br>Nome do cliente=%{x}<br>Total da compra do produto=%{y}<br>Produto=%{customdata[0]}<br>Data=%{customdata[1]}<br>Preço do produto=%{customdata[2]}<extra></extra>",
         "legendgroup": "Produtos de Limpeza",
         "marker": {
          "color": "#636efa",
          "pattern": {
           "shape": ""
          }
         },
         "name": "Produtos de Limpeza",
         "offsetgroup": "Produtos de Limpeza",
         "orientation": "v",
         "showlegend": true,
         "textposition": "auto",
         "type": "bar",
         "x": [
          "Srta. Júlia Silva",
          "Srta. Júlia Silva",
          "Srta. Júlia Silva",
          "Srta. Júlia Silva",
          "Srta. Júlia Silva",
          "Srta. Júlia Silva",
          "Srta. Júlia Silva",
          "Srta. Júlia Silva",
          "Srta. Júlia Silva",
          "Srta. Júlia Silva",
          "Maria Alice da Mota",
          "Maria Alice da Mota",
          "Maria Alice da Mota",
          "Maria Alice da Mota",
          "Maria Alice da Mota",
          "Maria Alice da Mota",
          "Maria Alice da Mota",
          "Sr. Ryan Rocha",
          "Sr. Ryan Rocha",
          "Sr. Ryan Rocha",
          "Sr. Ryan Rocha",
          "Sr. Ryan Rocha",
          "Sr. Ryan Rocha",
          "Sr. Ryan Rocha",
          "Sr. Ryan Rocha",
          "Sr. Ryan Rocha",
          "Sr. Ryan Rocha",
          "Sr. Ryan Rocha",
          "Sr. Ryan Rocha",
          "Maria Luiza Carvalho",
          "Maria Luiza Carvalho",
          "Maria Luiza Carvalho",
          "Maria Luiza Carvalho",
          "Maria Luiza Carvalho",
          "Maria Luiza Carvalho",
          "Maria Luiza Carvalho",
          "Maria Luiza Carvalho",
          "Maria Luiza Carvalho",
          "Maria Luiza Carvalho",
          "Maria Luiza Carvalho",
          "Gustavo Henrique Moreira",
          "Gustavo Henrique Moreira",
          "Gustavo Henrique Moreira",
          "Gustavo Henrique Moreira",
          "Gustavo Henrique Moreira",
          "Gustavo Henrique Moreira",
          "Gustavo Henrique Moreira",
          "Gustavo Henrique Moreira",
          "Gustavo Henrique Moreira",
          "Gustavo Henrique Moreira",
          "Benjamin Pires",
          "Benjamin Pires",
          "Benjamin Pires",
          "Benjamin Pires",
          "Benjamin Pires",
          "Melissa Cardoso",
          "Melissa Cardoso",
          "Melissa Cardoso",
          "Melissa Cardoso",
          "Melissa Cardoso",
          "Melissa Cardoso",
          "Melissa Cardoso",
          "Davi Luiz Rocha",
          "Davi Luiz Rocha",
          "Davi Luiz Rocha",
          "Davi Luiz Rocha",
          "Davi Luiz Rocha",
          "Davi Luiz Rocha",
          "Davi Luiz Rocha",
          "Davi Luiz Rocha",
          "Davi Luiz Rocha",
          "Davi Luiz Rocha",
          "Davi Luiz Rocha",
          "Davi Luiz Rocha",
          "Davi Luiz Rocha",
          "Lívia Cardoso",
          "Lívia Cardoso",
          "Beatriz Fernandes",
          "Beatriz Fernandes",
          "Beatriz Fernandes",
          "Beatriz Fernandes",
          "Beatriz Fernandes",
          "Beatriz Fernandes",
          "Beatriz Fernandes",
          "Beatriz Fernandes",
          "Beatriz Fernandes",
          "Beatriz Fernandes",
          "Beatriz Fernandes"
         ],
         "xaxis": "x",
         "y": [
          26.8,
          95.96,
          71.97,
          23.99,
          71.97,
          71.97,
          8.100000000000001,
          19.38,
          11.98,
          29.07,
          5.4,
          35.94,
          38.76,
          17.97,
          5.99,
          3.98,
          9.69,
          47.98,
          2.58,
          5.16,
          1.29,
          11.98,
          6.7,
          23.99,
          95.96,
          10.8,
          23.96,
          3.98,
          35.94,
          5.4,
          2.7,
          1.29,
          1.29,
          3.87,
          3.98,
          35.94,
          29.07,
          23.96,
          47.92,
          23.96,
          5.16,
          3.98,
          6.7,
          11.98,
          7.96,
          11.98,
          71.97,
          2.58,
          5.99,
          38.76,
          10.8,
          5.16,
          23.96,
          35.94,
          9.69,
          13.4,
          47.98,
          2.7,
          5.4,
          23.96,
          23.96,
          17.97,
          2.58,
          9.69,
          5.99,
          35.94,
          8.100000000000001,
          8.100000000000001,
          5.4,
          3.98,
          5.97,
          38.76,
          47.98,
          5.16,
          5.16,
          26.8,
          7.96,
          5.97,
          8.100000000000001,
          2.58,
          5.16,
          3.98,
          19.38,
          23.99,
          23.99,
          47.98,
          10.8,
          35.94
         ],
         "yaxis": "y"
        },
        {
         "alignmentgroup": "True",
         "customdata": [
          [
           "couve-flor",
           "2021-11-01",
           5.48
          ],
          [
           "arroz",
           "2021-11-01",
           4.31
          ],
          [
           "banana",
           "2021-11-13",
           5.99
          ],
          [
           "melancia",
           "2021-11-13",
           15.99
          ],
          [
           "melancia",
           "2021-11-13",
           15.99
          ],
          [
           "feijão",
           "2021-11-13",
           8.45
          ],
          [
           "banana",
           "2021-11-10",
           5.99
          ],
          [
           "couve-flor",
           "2021-11-10",
           5.48
          ],
          [
           "alface",
           "2021-11-10",
           0.98
          ],
          [
           "alface",
           "2021-11-10",
           0.98
          ],
          [
           "abobrinha",
           "2021-11-10",
           3.49
          ],
          [
           "berinjela",
           "2021-11-10",
           11.99
          ],
          [
           "batata",
           "2021-11-25",
           3.99
          ],
          [
           "banana",
           "2021-11-22",
           5.99
          ],
          [
           "melancia",
           "2021-11-01",
           15.99
          ],
          [
           "feijão",
           "2021-11-01",
           8.45
          ],
          [
           "berinjela",
           "2021-11-01",
           11.99
          ],
          [
           "macarrão",
           "2021-11-07",
           2.48
          ],
          [
           "uva",
           "2021-11-07",
           7.47
          ],
          [
           "abobrinha",
           "2021-11-07",
           3.49
          ],
          [
           "morango",
           "2021-11-13",
           7.99
          ],
          [
           "banana",
           "2021-11-13",
           5.99
          ],
          [
           "melancia",
           "2021-11-13",
           15.99
          ],
          [
           "melancia",
           "2021-11-13",
           15.99
          ],
          [
           "berinjela",
           "2021-11-13",
           11.99
          ],
          [
           "morango",
           "2021-11-10",
           7.99
          ],
          [
           "couve-flor",
           "2021-11-10",
           5.48
          ],
          [
           "couve-flor",
           "2021-11-10",
           5.48
          ],
          [
           "macarrão",
           "2021-11-10",
           2.48
          ],
          [
           "uva",
           "2021-11-10",
           7.47
          ],
          [
           "uva",
           "2021-11-10",
           7.47
          ],
          [
           "abobrinha",
           "2021-11-10",
           3.49
          ],
          [
           "arroz",
           "2021-11-11",
           4.31
          ],
          [
           "uva",
           "2021-11-11",
           7.47
          ],
          [
           "melancia",
           "2021-11-07",
           15.99
          ],
          [
           "banana",
           "2021-11-03",
           5.99
          ],
          [
           "melancia",
           "2021-11-03",
           15.99
          ],
          [
           "arroz",
           "2021-11-03",
           4.31
          ],
          [
           "melancia",
           "2021-11-15",
           15.99
          ],
          [
           "couve-flor",
           "2021-11-15",
           5.48
          ],
          [
           "macarrão",
           "2021-11-15",
           2.48
          ],
          [
           "feijão",
           "2021-11-15",
           8.45
          ],
          [
           "arroz",
           "2021-11-15",
           4.31
          ],
          [
           "arroz",
           "2021-11-15",
           4.31
          ],
          [
           "arroz",
           "2021-11-03",
           4.31
          ],
          [
           "morango",
           "2021-11-11",
           7.99
          ],
          [
           "melancia",
           "2021-11-11",
           15.99
          ],
          [
           "melancia",
           "2021-11-11",
           15.99
          ],
          [
           "arroz",
           "2021-11-11",
           4.31
          ],
          [
           "berinjela",
           "2021-11-11",
           11.99
          ],
          [
           "macarrão",
           "2021-11-09",
           2.48
          ],
          [
           "feijão",
           "2021-11-09",
           8.45
          ],
          [
           "melancia",
           "2021-11-14",
           15.99
          ],
          [
           "macarrão",
           "2021-11-14",
           2.48
          ],
          [
           "macarrão",
           "2021-11-14",
           2.48
          ],
          [
           "batata",
           "2021-11-14",
           3.99
          ],
          [
           "feijão",
           "2021-11-14",
           8.45
          ],
          [
           "feijão",
           "2021-11-14",
           8.45
          ],
          [
           "feijão",
           "2021-11-14",
           8.45
          ],
          [
           "arroz",
           "2021-11-14",
           4.31
          ],
          [
           "uva",
           "2021-11-14",
           7.47
          ],
          [
           "uva",
           "2021-11-06",
           7.47
          ],
          [
           "berinjela",
           "2021-11-06",
           11.99
          ],
          [
           "uva",
           "2021-11-15",
           7.47
          ],
          [
           "alface",
           "2021-11-13",
           0.98
          ],
          [
           "morango",
           "2021-11-11",
           7.99
          ],
          [
           "uva",
           "2021-11-11",
           7.47
          ],
          [
           "abobrinha",
           "2021-11-11",
           3.49
          ],
          [
           "banana",
           "2021-11-02",
           5.99
          ],
          [
           "melancia",
           "2021-11-02",
           15.99
          ],
          [
           "couve-flor",
           "2021-11-02",
           5.48
          ],
          [
           "abobrinha",
           "2021-11-02",
           3.49
          ],
          [
           "banana",
           "2021-11-04",
           5.99
          ],
          [
           "macarrão",
           "2021-11-04",
           2.48
          ],
          [
           "alface",
           "2021-11-04",
           0.98
          ],
          [
           "abobrinha",
           "2021-11-04",
           3.49
          ],
          [
           "banana",
           "2021-11-07",
           5.99
          ],
          [
           "macarrão",
           "2021-11-07",
           2.48
          ],
          [
           "macarrão",
           "2021-11-07",
           2.48
          ],
          [
           "uva",
           "2021-11-07",
           7.47
          ],
          [
           "abobrinha",
           "2021-11-07",
           3.49
          ],
          [
           "couve-flor",
           "2021-11-03",
           5.48
          ],
          [
           "couve-flor",
           "2021-11-03",
           5.48
          ],
          [
           "couve-flor",
           "2021-11-03",
           5.48
          ],
          [
           "macarrão",
           "2021-11-03",
           2.48
          ],
          [
           "batata",
           "2021-11-03",
           3.99
          ],
          [
           "feijão",
           "2021-11-03",
           8.45
          ],
          [
           "arroz",
           "2021-11-07",
           4.31
          ],
          [
           "alface",
           "2021-11-07",
           0.98
          ],
          [
           "uva",
           "2021-11-07",
           7.47
          ],
          [
           "macarrão",
           "2021-11-23",
           2.48
          ],
          [
           "banana",
           "2021-11-11",
           5.99
          ],
          [
           "melancia",
           "2021-11-11",
           15.99
          ],
          [
           "couve-flor",
           "2021-11-11",
           5.48
          ],
          [
           "feijão",
           "2021-11-11",
           8.45
          ],
          [
           "feijão",
           "2021-11-11",
           8.45
          ],
          [
           "batata",
           "2021-11-08",
           3.99
          ],
          [
           "abobrinha",
           "2021-11-08",
           3.49
          ],
          [
           "arroz",
           "2021-11-17",
           4.31
          ],
          [
           "morango",
           "2021-11-09",
           7.99
          ],
          [
           "uva",
           "2021-11-09",
           7.47
          ],
          [
           "berinjela",
           "2021-11-09",
           11.99
          ],
          [
           "arroz",
           "2021-11-01",
           4.31
          ],
          [
           "uva",
           "2021-11-01",
           7.47
          ],
          [
           "uva",
           "2021-11-01",
           7.47
          ],
          [
           "banana",
           "2021-11-06",
           5.99
          ],
          [
           "alface",
           "2021-11-06",
           0.98
          ],
          [
           "alface",
           "2021-11-06",
           0.98
          ],
          [
           "uva",
           "2021-11-06",
           7.47
          ],
          [
           "berinjela",
           "2021-11-06",
           11.99
          ]
         ],
         "hovertemplate": "Seção=Alimentos em Geral<br>Nome do cliente=%{x}<br>Total da compra do produto=%{y}<br>Produto=%{customdata[0]}<br>Data=%{customdata[1]}<br>Preço do produto=%{customdata[2]}<extra></extra>",
         "legendgroup": "Alimentos em Geral",
         "marker": {
          "color": "#EF553B",
          "pattern": {
           "shape": ""
          }
         },
         "name": "Alimentos em Geral",
         "offsetgroup": "Alimentos em Geral",
         "orientation": "v",
         "showlegend": true,
         "textposition": "auto",
         "type": "bar",
         "x": [
          "Srta. Júlia Silva",
          "Srta. Júlia Silva",
          "Srta. Júlia Silva",
          "Srta. Júlia Silva",
          "Srta. Júlia Silva",
          "Srta. Júlia Silva",
          "Srta. Júlia Silva",
          "Srta. Júlia Silva",
          "Srta. Júlia Silva",
          "Srta. Júlia Silva",
          "Srta. Júlia Silva",
          "Srta. Júlia Silva",
          "Srta. Júlia Silva",
          "Maria Alice da Mota",
          "Maria Alice da Mota",
          "Maria Alice da Mota",
          "Maria Alice da Mota",
          "Maria Alice da Mota",
          "Maria Alice da Mota",
          "Maria Alice da Mota",
          "Sr. Ryan Rocha",
          "Sr. Ryan Rocha",
          "Sr. Ryan Rocha",
          "Sr. Ryan Rocha",
          "Sr. Ryan Rocha",
          "Sr. Ryan Rocha",
          "Sr. Ryan Rocha",
          "Sr. Ryan Rocha",
          "Sr. Ryan Rocha",
          "Sr. Ryan Rocha",
          "Sr. Ryan Rocha",
          "Sr. Ryan Rocha",
          "Sr. Ryan Rocha",
          "Sr. Ryan Rocha",
          "Sr. Ryan Rocha",
          "Maria Luiza Carvalho",
          "Maria Luiza Carvalho",
          "Maria Luiza Carvalho",
          "Maria Luiza Carvalho",
          "Maria Luiza Carvalho",
          "Maria Luiza Carvalho",
          "Maria Luiza Carvalho",
          "Maria Luiza Carvalho",
          "Maria Luiza Carvalho",
          "Maria Luiza Carvalho",
          "Gustavo Henrique Moreira",
          "Gustavo Henrique Moreira",
          "Gustavo Henrique Moreira",
          "Gustavo Henrique Moreira",
          "Gustavo Henrique Moreira",
          "Gustavo Henrique Moreira",
          "Gustavo Henrique Moreira",
          "Gustavo Henrique Moreira",
          "Gustavo Henrique Moreira",
          "Gustavo Henrique Moreira",
          "Gustavo Henrique Moreira",
          "Gustavo Henrique Moreira",
          "Gustavo Henrique Moreira",
          "Gustavo Henrique Moreira",
          "Gustavo Henrique Moreira",
          "Gustavo Henrique Moreira",
          "Gustavo Henrique Moreira",
          "Gustavo Henrique Moreira",
          "Gustavo Henrique Moreira",
          "Benjamin Pires",
          "Melissa Cardoso",
          "Melissa Cardoso",
          "Melissa Cardoso",
          "Melissa Cardoso",
          "Melissa Cardoso",
          "Melissa Cardoso",
          "Melissa Cardoso",
          "Davi Luiz Rocha",
          "Davi Luiz Rocha",
          "Davi Luiz Rocha",
          "Davi Luiz Rocha",
          "Davi Luiz Rocha",
          "Davi Luiz Rocha",
          "Davi Luiz Rocha",
          "Davi Luiz Rocha",
          "Davi Luiz Rocha",
          "Davi Luiz Rocha",
          "Davi Luiz Rocha",
          "Davi Luiz Rocha",
          "Davi Luiz Rocha",
          "Davi Luiz Rocha",
          "Davi Luiz Rocha",
          "Davi Luiz Rocha",
          "Davi Luiz Rocha",
          "Davi Luiz Rocha",
          "Davi Luiz Rocha",
          "Lívia Cardoso",
          "Lívia Cardoso",
          "Lívia Cardoso",
          "Lívia Cardoso",
          "Lívia Cardoso",
          "Lívia Cardoso",
          "Lívia Cardoso",
          "Lívia Cardoso",
          "Beatriz Fernandes",
          "Beatriz Fernandes",
          "Beatriz Fernandes",
          "Beatriz Fernandes",
          "Beatriz Fernandes",
          "Beatriz Fernandes",
          "Beatriz Fernandes",
          "Beatriz Fernandes",
          "Beatriz Fernandes",
          "Beatriz Fernandes",
          "Beatriz Fernandes"
         ],
         "xaxis": "x",
         "y": [
          16.44,
          4.31,
          5.99,
          47.97,
          63.96,
          16.9,
          11.98,
          5.48,
          0.98,
          3.92,
          10.47,
          11.99,
          15.96,
          11.98,
          31.98,
          8.45,
          47.96,
          9.92,
          22.41,
          10.47,
          15.98,
          11.98,
          15.99,
          31.98,
          11.99,
          31.96,
          21.92,
          10.96,
          9.92,
          29.88,
          22.41,
          10.47,
          17.24,
          22.41,
          15.99,
          11.98,
          47.97,
          17.24,
          31.98,
          10.96,
          7.4399999999999995,
          33.8,
          8.62,
          8.62,
          12.93,
          31.96,
          31.98,
          31.98,
          17.24,
          11.99,
          4.96,
          16.9,
          47.97,
          4.96,
          7.4399999999999995,
          11.97,
          25.349999999999998,
          16.9,
          33.8,
          8.62,
          7.47,
          22.41,
          35.97,
          29.88,
          0.98,
          23.97,
          7.47,
          13.96,
          17.97,
          47.97,
          16.44,
          6.98,
          5.99,
          4.96,
          1.96,
          3.49,
          23.96,
          2.48,
          9.92,
          22.41,
          6.98,
          21.92,
          10.96,
          5.48,
          7.4399999999999995,
          11.97,
          8.45,
          17.24,
          2.94,
          22.41,
          4.96,
          17.97,
          31.98,
          5.48,
          25.349999999999998,
          16.9,
          7.98,
          10.47,
          4.31,
          23.97,
          22.41,
          47.96,
          17.24,
          22.41,
          7.47,
          5.99,
          1.96,
          2.94,
          14.94,
          35.97
         ],
         "yaxis": "y"
        },
        {
         "alignmentgroup": "True",
         "customdata": [
          [
           "carré de cordeiro",
           "2021-11-01",
           172
          ],
          [
           "carré de cordeiro",
           "2021-11-01",
           172
          ],
          [
           "carré de cordeiro",
           "2021-11-01",
           172
          ],
          [
           "bisteca suína",
           "2021-11-13",
           22.79
          ],
          [
           "carré de cordeiro",
           "2021-11-13",
           172
          ],
          [
           "costela",
           "2021-11-13",
           20.99
          ],
          [
           "peito de frango",
           "2021-11-13",
           16.49
          ],
          [
           "costela",
           "2021-11-10",
           20.99
          ],
          [
           "alcatra",
           "2021-11-10",
           31.99
          ],
          [
           "bisteca suína",
           "2021-11-01",
           22.79
          ],
          [
           "picanha",
           "2021-11-01",
           70.89
          ],
          [
           "carré de cordeiro",
           "2021-11-01",
           172
          ],
          [
           "paleta suína",
           "2021-11-01",
           23.99
          ],
          [
           "bisteca suína",
           "2021-11-07",
           22.79
          ],
          [
           "carré de cordeiro",
           "2021-11-07",
           172
          ],
          [
           "paleta suína",
           "2021-11-07",
           23.99
          ],
          [
           "paleta suína",
           "2021-11-07",
           23.99
          ],
          [
           "picanha",
           "2021-11-13",
           70.89
          ],
          [
           "picanha",
           "2021-11-13",
           70.89
          ],
          [
           "carré de cordeiro",
           "2021-11-13",
           172
          ],
          [
           "paleta suína",
           "2021-11-13",
           23.99
          ],
          [
           "alcatra",
           "2021-11-13",
           31.99
          ],
          [
           "picanha",
           "2021-11-10",
           70.89
          ],
          [
           "costela",
           "2021-11-10",
           20.99
          ],
          [
           "alcatra",
           "2021-11-10",
           31.99
          ],
          [
           "peito de frango",
           "2021-11-11",
           16.49
          ],
          [
           "picanha",
           "2021-11-03",
           70.89
          ],
          [
           "carré de cordeiro",
           "2021-11-03",
           172
          ],
          [
           "alcatra",
           "2021-11-03",
           31.99
          ],
          [
           "carré de cordeiro",
           "2021-11-23",
           172
          ],
          [
           "carré de cordeiro",
           "2021-11-11",
           172
          ],
          [
           "paleta suína",
           "2021-11-11",
           23.99
          ],
          [
           "picanha",
           "2021-11-09",
           70.89
          ],
          [
           "costela",
           "2021-11-09",
           20.99
          ],
          [
           "bisteca suína",
           "2021-11-14",
           22.79
          ],
          [
           "maminha",
           "2021-11-14",
           42.99
          ],
          [
           "bisteca suína",
           "2021-11-06",
           22.79
          ],
          [
           "alcatra",
           "2021-11-06",
           31.99
          ],
          [
           "bisteca suína",
           "2021-11-14",
           22.79
          ],
          [
           "bisteca suína",
           "2021-11-14",
           22.79
          ],
          [
           "maminha",
           "2021-11-14",
           42.99
          ],
          [
           "costela",
           "2021-11-14",
           20.99
          ],
          [
           "bisteca suína",
           "2021-11-13",
           22.79
          ],
          [
           "maminha",
           "2021-11-13",
           42.99
          ],
          [
           "maminha",
           "2021-11-13",
           42.99
          ],
          [
           "carré de cordeiro",
           "2021-11-13",
           172
          ],
          [
           "carré de cordeiro",
           "2021-11-13",
           172
          ],
          [
           "costela",
           "2021-11-13",
           20.99
          ],
          [
           "peito de frango",
           "2021-11-13",
           16.49
          ],
          [
           "bisteca suína",
           "2021-11-27",
           22.79
          ],
          [
           "picanha",
           "2021-11-11",
           70.89
          ],
          [
           "carré de cordeiro",
           "2021-11-11",
           172
          ],
          [
           "carré de cordeiro",
           "2021-11-11",
           172
          ],
          [
           "bisteca suína",
           "2021-11-02",
           22.79
          ],
          [
           "picanha",
           "2021-11-02",
           70.89
          ],
          [
           "carré de cordeiro",
           "2021-11-02",
           172
          ],
          [
           "paleta suína",
           "2021-11-02",
           23.99
          ],
          [
           "alcatra",
           "2021-11-02",
           31.99
          ],
          [
           "picanha",
           "2021-11-27",
           70.89
          ],
          [
           "costela",
           "2021-11-04",
           20.99
          ],
          [
           "costela",
           "2021-11-04",
           20.99
          ],
          [
           "maminha",
           "2021-11-07",
           42.99
          ],
          [
           "costela",
           "2021-11-07",
           20.99
          ],
          [
           "alcatra",
           "2021-11-07",
           31.99
          ],
          [
           "carré de cordeiro",
           "2021-11-03",
           172
          ],
          [
           "carré de cordeiro",
           "2021-11-07",
           172
          ],
          [
           "carré de cordeiro",
           "2021-11-11",
           172
          ],
          [
           "peito de frango",
           "2021-11-11",
           16.49
          ],
          [
           "maminha",
           "2021-11-08",
           42.99
          ],
          [
           "picanha",
           "2021-11-08",
           70.89
          ],
          [
           "picanha",
           "2021-11-08",
           70.89
          ],
          [
           "costela",
           "2021-11-08",
           20.99
          ],
          [
           "alcatra",
           "2021-11-08",
           31.99
          ],
          [
           "peito de frango",
           "2021-11-08",
           16.49
          ],
          [
           "peito de frango",
           "2021-11-08",
           16.49
          ],
          [
           "costela",
           "2021-11-09",
           20.99
          ],
          [
           "bisteca suína",
           "2021-11-01",
           22.79
          ],
          [
           "picanha",
           "2021-11-01",
           70.89
          ],
          [
           "picanha",
           "2021-11-01",
           70.89
          ],
          [
           "carré de cordeiro",
           "2021-11-01",
           172
          ],
          [
           "carré de cordeiro",
           "2021-11-01",
           172
          ],
          [
           "peito de frango",
           "2021-11-01",
           16.49
          ],
          [
           "carré de cordeiro",
           "2021-11-06",
           172
          ],
          [
           "paleta suína",
           "2021-11-06",
           23.99
          ],
          [
           "alcatra",
           "2021-11-06",
           31.99
          ],
          [
           "peito de frango",
           "2021-11-06",
           16.49
          ]
         ],
         "hovertemplate": "Seção=Açougue<br>Nome do cliente=%{x}<br>Total da compra do produto=%{y}<br>Produto=%{customdata[0]}<br>Data=%{customdata[1]}<br>Preço do produto=%{customdata[2]}<extra></extra>",
         "legendgroup": "Açougue",
         "marker": {
          "color": "#00cc96",
          "pattern": {
           "shape": ""
          }
         },
         "name": "Açougue",
         "offsetgroup": "Açougue",
         "orientation": "v",
         "showlegend": true,
         "textposition": "auto",
         "type": "bar",
         "x": [
          "Srta. Júlia Silva",
          "Srta. Júlia Silva",
          "Srta. Júlia Silva",
          "Srta. Júlia Silva",
          "Srta. Júlia Silva",
          "Srta. Júlia Silva",
          "Srta. Júlia Silva",
          "Srta. Júlia Silva",
          "Srta. Júlia Silva",
          "Maria Alice da Mota",
          "Maria Alice da Mota",
          "Maria Alice da Mota",
          "Maria Alice da Mota",
          "Maria Alice da Mota",
          "Maria Alice da Mota",
          "Maria Alice da Mota",
          "Maria Alice da Mota",
          "Sr. Ryan Rocha",
          "Sr. Ryan Rocha",
          "Sr. Ryan Rocha",
          "Sr. Ryan Rocha",
          "Sr. Ryan Rocha",
          "Sr. Ryan Rocha",
          "Sr. Ryan Rocha",
          "Sr. Ryan Rocha",
          "Sr. Ryan Rocha",
          "Maria Luiza Carvalho",
          "Maria Luiza Carvalho",
          "Maria Luiza Carvalho",
          "Maria Luiza Carvalho",
          "Gustavo Henrique Moreira",
          "Gustavo Henrique Moreira",
          "Gustavo Henrique Moreira",
          "Gustavo Henrique Moreira",
          "Gustavo Henrique Moreira",
          "Gustavo Henrique Moreira",
          "Gustavo Henrique Moreira",
          "Gustavo Henrique Moreira",
          "Gustavo Henrique Moreira",
          "Gustavo Henrique Moreira",
          "Gustavo Henrique Moreira",
          "Gustavo Henrique Moreira",
          "Benjamin Pires",
          "Benjamin Pires",
          "Benjamin Pires",
          "Benjamin Pires",
          "Benjamin Pires",
          "Benjamin Pires",
          "Benjamin Pires",
          "Benjamin Pires",
          "Melissa Cardoso",
          "Melissa Cardoso",
          "Melissa Cardoso",
          "Melissa Cardoso",
          "Melissa Cardoso",
          "Melissa Cardoso",
          "Melissa Cardoso",
          "Melissa Cardoso",
          "Melissa Cardoso",
          "Davi Luiz Rocha",
          "Davi Luiz Rocha",
          "Davi Luiz Rocha",
          "Davi Luiz Rocha",
          "Davi Luiz Rocha",
          "Davi Luiz Rocha",
          "Davi Luiz Rocha",
          "Lívia Cardoso",
          "Lívia Cardoso",
          "Lívia Cardoso",
          "Lívia Cardoso",
          "Lívia Cardoso",
          "Lívia Cardoso",
          "Lívia Cardoso",
          "Lívia Cardoso",
          "Lívia Cardoso",
          "Beatriz Fernandes",
          "Beatriz Fernandes",
          "Beatriz Fernandes",
          "Beatriz Fernandes",
          "Beatriz Fernandes",
          "Beatriz Fernandes",
          "Beatriz Fernandes",
          "Beatriz Fernandes",
          "Beatriz Fernandes",
          "Beatriz Fernandes",
          "Beatriz Fernandes"
         ],
         "xaxis": "x",
         "y": [
          516,
          344,
          516,
          91.16,
          344,
          83.96,
          49.47,
          83.96,
          95.97,
          68.37,
          283.56,
          688,
          47.98,
          45.58,
          516,
          47.98,
          71.97,
          70.89,
          283.56,
          344,
          47.98,
          95.97,
          141.78,
          62.97,
          127.96,
          65.96,
          283.56,
          516,
          31.99,
          688,
          516,
          23.99,
          70.89,
          20.99,
          45.58,
          128.97,
          22.79,
          31.99,
          45.58,
          91.16,
          85.98,
          41.98,
          22.79,
          171.96,
          171.96,
          688,
          516,
          20.99,
          65.96,
          91.16,
          212.67000000000002,
          172,
          172,
          91.16,
          283.56,
          344,
          23.99,
          95.97,
          283.56,
          41.98,
          83.96,
          42.99,
          83.96,
          95.97,
          516,
          172,
          688,
          65.96,
          128.97,
          212.67000000000002,
          283.56,
          83.96,
          127.96,
          32.98,
          49.47,
          83.96,
          22.79,
          283.56,
          212.67000000000002,
          172,
          172,
          32.98,
          172,
          23.99,
          31.99,
          49.47
         ],
         "yaxis": "y"
        },
        {
         "alignmentgroup": "True",
         "customdata": [
          [
           "sanduíche",
           "2021-11-01",
           12.99
          ],
          [
           "pão francês",
           "2021-11-01",
           10.99
          ],
          [
           "pão francês",
           "2021-11-13",
           10.99
          ],
          [
           "sonho",
           "2021-11-13",
           3.49
          ],
          [
           "torta",
           "2021-11-01",
           45
          ],
          [
           "sonho",
           "2021-11-01",
           3.49
          ],
          [
           "pastel",
           "2021-11-01",
           4.99
          ],
          [
           "sanduíche",
           "2021-11-07",
           12.99
          ],
          [
           "pão francês",
           "2021-11-30",
           10.99
          ],
          [
           "torta",
           "2021-11-10",
           45
          ],
          [
           "pão francês",
           "2021-11-10",
           10.99
          ],
          [
           "pão de queijo",
           "2021-11-10",
           23.99
          ],
          [
           "pão de forma",
           "2021-11-11",
           6.99
          ],
          [
           "sonho",
           "2021-11-11",
           3.49
          ],
          [
           "pão de forma",
           "2021-11-07",
           6.99
          ],
          [
           "pão de queijo",
           "2021-11-07",
           23.99
          ],
          [
           "sonho",
           "2021-11-03",
           3.49
          ],
          [
           "torta",
           "2021-11-15",
           45
          ],
          [
           "bolo",
           "2021-11-15",
           35
          ],
          [
           "pão francês",
           "2021-11-15",
           10.99
          ],
          [
           "pastel",
           "2021-11-15",
           4.99
          ],
          [
           "bolo",
           "2021-11-03",
           35
          ],
          [
           "bolo",
           "2021-11-03",
           35
          ],
          [
           "pão francês",
           "2021-11-03",
           10.99
          ],
          [
           "bolo",
           "2021-11-11",
           35
          ],
          [
           "bolo",
           "2021-11-11",
           35
          ],
          [
           "pão de queijo",
           "2021-11-11",
           23.99
          ],
          [
           "pão de forma",
           "2021-11-09",
           6.99
          ],
          [
           "sanduíche",
           "2021-11-09",
           12.99
          ],
          [
           "pão de forma",
           "2021-11-14",
           6.99
          ],
          [
           "torta",
           "2021-11-14",
           45
          ],
          [
           "sanduíche",
           "2021-11-14",
           12.99
          ],
          [
           "sonho",
           "2021-11-14",
           3.49
          ],
          [
           "sonho",
           "2021-11-06",
           3.49
          ],
          [
           "pastel",
           "2021-11-06",
           4.99
          ],
          [
           "pão francês",
           "2021-11-14",
           10.99
          ],
          [
           "sonho",
           "2021-11-14",
           3.49
          ],
          [
           "torta",
           "2021-11-13",
           45
          ],
          [
           "bolo",
           "2021-11-21",
           35
          ],
          [
           "pão de forma",
           "2021-11-11",
           6.99
          ],
          [
           "pão de forma",
           "2021-11-02",
           6.99
          ],
          [
           "bolo",
           "2021-11-02",
           35
          ],
          [
           "sonho",
           "2021-11-02",
           3.49
          ],
          [
           "sanduíche",
           "2021-11-07",
           12.99
          ],
          [
           "torta",
           "2021-11-03",
           45
          ],
          [
           "bolo",
           "2021-11-03",
           35
          ],
          [
           "pão francês",
           "2021-11-03",
           10.99
          ],
          [
           "pão de queijo",
           "2021-11-03",
           23.99
          ],
          [
           "torta",
           "2021-11-07",
           45
          ],
          [
           "pão de queijo",
           "2021-11-07",
           23.99
          ],
          [
           "pão de forma",
           "2021-11-11",
           6.99
          ],
          [
           "sanduíche",
           "2021-11-11",
           12.99
          ],
          [
           "sonho",
           "2021-11-11",
           3.49
          ],
          [
           "pão de forma",
           "2021-11-08",
           6.99
          ],
          [
           "pão francês",
           "2021-11-08",
           10.99
          ],
          [
           "pão de forma",
           "2021-11-09",
           6.99
          ],
          [
           "pão de forma",
           "2021-11-09",
           6.99
          ],
          [
           "sanduíche",
           "2021-11-09",
           12.99
          ],
          [
           "pão de queijo",
           "2021-11-09",
           23.99
          ],
          [
           "pão de forma",
           "2021-11-01",
           6.99
          ],
          [
           "pão de forma",
           "2021-11-06",
           6.99
          ],
          [
           "torta",
           "2021-11-06",
           45
          ],
          [
           "sanduíche",
           "2021-11-06",
           12.99
          ]
         ],
         "hovertemplate": "Seção=Padaria<br>Nome do cliente=%{x}<br>Total da compra do produto=%{y}<br>Produto=%{customdata[0]}<br>Data=%{customdata[1]}<br>Preço do produto=%{customdata[2]}<extra></extra>",
         "legendgroup": "Padaria",
         "marker": {
          "color": "#ab63fa",
          "pattern": {
           "shape": ""
          }
         },
         "name": "Padaria",
         "offsetgroup": "Padaria",
         "orientation": "v",
         "showlegend": true,
         "textposition": "auto",
         "type": "bar",
         "x": [
          "Srta. Júlia Silva",
          "Srta. Júlia Silva",
          "Srta. Júlia Silva",
          "Srta. Júlia Silva",
          "Maria Alice da Mota",
          "Maria Alice da Mota",
          "Maria Alice da Mota",
          "Maria Alice da Mota",
          "Maria Alice da Mota",
          "Sr. Ryan Rocha",
          "Sr. Ryan Rocha",
          "Sr. Ryan Rocha",
          "Sr. Ryan Rocha",
          "Sr. Ryan Rocha",
          "Sr. Ryan Rocha",
          "Sr. Ryan Rocha",
          "Maria Luiza Carvalho",
          "Maria Luiza Carvalho",
          "Maria Luiza Carvalho",
          "Maria Luiza Carvalho",
          "Maria Luiza Carvalho",
          "Maria Luiza Carvalho",
          "Maria Luiza Carvalho",
          "Maria Luiza Carvalho",
          "Gustavo Henrique Moreira",
          "Gustavo Henrique Moreira",
          "Gustavo Henrique Moreira",
          "Gustavo Henrique Moreira",
          "Gustavo Henrique Moreira",
          "Gustavo Henrique Moreira",
          "Gustavo Henrique Moreira",
          "Gustavo Henrique Moreira",
          "Gustavo Henrique Moreira",
          "Gustavo Henrique Moreira",
          "Gustavo Henrique Moreira",
          "Gustavo Henrique Moreira",
          "Gustavo Henrique Moreira",
          "Benjamin Pires",
          "Benjamin Pires",
          "Melissa Cardoso",
          "Melissa Cardoso",
          "Melissa Cardoso",
          "Melissa Cardoso",
          "Davi Luiz Rocha",
          "Davi Luiz Rocha",
          "Davi Luiz Rocha",
          "Davi Luiz Rocha",
          "Davi Luiz Rocha",
          "Davi Luiz Rocha",
          "Davi Luiz Rocha",
          "Lívia Cardoso",
          "Lívia Cardoso",
          "Lívia Cardoso",
          "Lívia Cardoso",
          "Lívia Cardoso",
          "Beatriz Fernandes",
          "Beatriz Fernandes",
          "Beatriz Fernandes",
          "Beatriz Fernandes",
          "Beatriz Fernandes",
          "Beatriz Fernandes",
          "Beatriz Fernandes",
          "Beatriz Fernandes"
         ],
         "xaxis": "x",
         "y": [
          51.96,
          10.99,
          21.98,
          10.47,
          135,
          6.98,
          4.99,
          38.97,
          32.97,
          180,
          32.97,
          71.97,
          13.98,
          10.47,
          20.97,
          95.96,
          10.47,
          45,
          70,
          43.96,
          4.99,
          35,
          105,
          10.99,
          70,
          35,
          47.98,
          27.96,
          51.96,
          20.97,
          135,
          38.97,
          10.47,
          13.96,
          4.99,
          21.98,
          3.49,
          180,
          105,
          20.97,
          13.98,
          70,
          10.47,
          51.96,
          135,
          140,
          32.97,
          95.96,
          90,
          71.97,
          6.99,
          25.98,
          10.47,
          20.97,
          43.96,
          6.99,
          13.98,
          25.98,
          71.97,
          6.99,
          27.96,
          90,
          25.98
         ],
         "yaxis": "y"
        }
       ],
       "layout": {
        "barmode": "stack",
        "height": 1000,
        "legend": {
         "title": {
          "text": "Seção"
         },
         "tracegroupgap": 0
        },
        "margin": {
         "t": 60
        },
        "template": {
         "data": {
          "bar": [
           {
            "error_x": {
             "color": "#2a3f5f"
            },
            "error_y": {
             "color": "#2a3f5f"
            },
            "marker": {
             "line": {
              "color": "#E5ECF6",
              "width": 0.5
             },
             "pattern": {
              "fillmode": "overlay",
              "size": 10,
              "solidity": 0.2
             }
            },
            "type": "bar"
           }
          ],
          "barpolar": [
           {
            "marker": {
             "line": {
              "color": "#E5ECF6",
              "width": 0.5
             },
             "pattern": {
              "fillmode": "overlay",
              "size": 10,
              "solidity": 0.2
             }
            },
            "type": "barpolar"
           }
          ],
          "carpet": [
           {
            "aaxis": {
             "endlinecolor": "#2a3f5f",
             "gridcolor": "white",
             "linecolor": "white",
             "minorgridcolor": "white",
             "startlinecolor": "#2a3f5f"
            },
            "baxis": {
             "endlinecolor": "#2a3f5f",
             "gridcolor": "white",
             "linecolor": "white",
             "minorgridcolor": "white",
             "startlinecolor": "#2a3f5f"
            },
            "type": "carpet"
           }
          ],
          "choropleth": [
           {
            "colorbar": {
             "outlinewidth": 0,
             "ticks": ""
            },
            "type": "choropleth"
           }
          ],
          "contour": [
           {
            "colorbar": {
             "outlinewidth": 0,
             "ticks": ""
            },
            "colorscale": [
             [
              0,
              "#0d0887"
             ],
             [
              0.1111111111111111,
              "#46039f"
             ],
             [
              0.2222222222222222,
              "#7201a8"
             ],
             [
              0.3333333333333333,
              "#9c179e"
             ],
             [
              0.4444444444444444,
              "#bd3786"
             ],
             [
              0.5555555555555556,
              "#d8576b"
             ],
             [
              0.6666666666666666,
              "#ed7953"
             ],
             [
              0.7777777777777778,
              "#fb9f3a"
             ],
             [
              0.8888888888888888,
              "#fdca26"
             ],
             [
              1,
              "#f0f921"
             ]
            ],
            "type": "contour"
           }
          ],
          "contourcarpet": [
           {
            "colorbar": {
             "outlinewidth": 0,
             "ticks": ""
            },
            "type": "contourcarpet"
           }
          ],
          "heatmap": [
           {
            "colorbar": {
             "outlinewidth": 0,
             "ticks": ""
            },
            "colorscale": [
             [
              0,
              "#0d0887"
             ],
             [
              0.1111111111111111,
              "#46039f"
             ],
             [
              0.2222222222222222,
              "#7201a8"
             ],
             [
              0.3333333333333333,
              "#9c179e"
             ],
             [
              0.4444444444444444,
              "#bd3786"
             ],
             [
              0.5555555555555556,
              "#d8576b"
             ],
             [
              0.6666666666666666,
              "#ed7953"
             ],
             [
              0.7777777777777778,
              "#fb9f3a"
             ],
             [
              0.8888888888888888,
              "#fdca26"
             ],
             [
              1,
              "#f0f921"
             ]
            ],
            "type": "heatmap"
           }
          ],
          "heatmapgl": [
           {
            "colorbar": {
             "outlinewidth": 0,
             "ticks": ""
            },
            "colorscale": [
             [
              0,
              "#0d0887"
             ],
             [
              0.1111111111111111,
              "#46039f"
             ],
             [
              0.2222222222222222,
              "#7201a8"
             ],
             [
              0.3333333333333333,
              "#9c179e"
             ],
             [
              0.4444444444444444,
              "#bd3786"
             ],
             [
              0.5555555555555556,
              "#d8576b"
             ],
             [
              0.6666666666666666,
              "#ed7953"
             ],
             [
              0.7777777777777778,
              "#fb9f3a"
             ],
             [
              0.8888888888888888,
              "#fdca26"
             ],
             [
              1,
              "#f0f921"
             ]
            ],
            "type": "heatmapgl"
           }
          ],
          "histogram": [
           {
            "marker": {
             "pattern": {
              "fillmode": "overlay",
              "size": 10,
              "solidity": 0.2
             }
            },
            "type": "histogram"
           }
          ],
          "histogram2d": [
           {
            "colorbar": {
             "outlinewidth": 0,
             "ticks": ""
            },
            "colorscale": [
             [
              0,
              "#0d0887"
             ],
             [
              0.1111111111111111,
              "#46039f"
             ],
             [
              0.2222222222222222,
              "#7201a8"
             ],
             [
              0.3333333333333333,
              "#9c179e"
             ],
             [
              0.4444444444444444,
              "#bd3786"
             ],
             [
              0.5555555555555556,
              "#d8576b"
             ],
             [
              0.6666666666666666,
              "#ed7953"
             ],
             [
              0.7777777777777778,
              "#fb9f3a"
             ],
             [
              0.8888888888888888,
              "#fdca26"
             ],
             [
              1,
              "#f0f921"
             ]
            ],
            "type": "histogram2d"
           }
          ],
          "histogram2dcontour": [
           {
            "colorbar": {
             "outlinewidth": 0,
             "ticks": ""
            },
            "colorscale": [
             [
              0,
              "#0d0887"
             ],
             [
              0.1111111111111111,
              "#46039f"
             ],
             [
              0.2222222222222222,
              "#7201a8"
             ],
             [
              0.3333333333333333,
              "#9c179e"
             ],
             [
              0.4444444444444444,
              "#bd3786"
             ],
             [
              0.5555555555555556,
              "#d8576b"
             ],
             [
              0.6666666666666666,
              "#ed7953"
             ],
             [
              0.7777777777777778,
              "#fb9f3a"
             ],
             [
              0.8888888888888888,
              "#fdca26"
             ],
             [
              1,
              "#f0f921"
             ]
            ],
            "type": "histogram2dcontour"
           }
          ],
          "mesh3d": [
           {
            "colorbar": {
             "outlinewidth": 0,
             "ticks": ""
            },
            "type": "mesh3d"
           }
          ],
          "parcoords": [
           {
            "line": {
             "colorbar": {
              "outlinewidth": 0,
              "ticks": ""
             }
            },
            "type": "parcoords"
           }
          ],
          "pie": [
           {
            "automargin": true,
            "type": "pie"
           }
          ],
          "scatter": [
           {
            "marker": {
             "colorbar": {
              "outlinewidth": 0,
              "ticks": ""
             }
            },
            "type": "scatter"
           }
          ],
          "scatter3d": [
           {
            "line": {
             "colorbar": {
              "outlinewidth": 0,
              "ticks": ""
             }
            },
            "marker": {
             "colorbar": {
              "outlinewidth": 0,
              "ticks": ""
             }
            },
            "type": "scatter3d"
           }
          ],
          "scattercarpet": [
           {
            "marker": {
             "colorbar": {
              "outlinewidth": 0,
              "ticks": ""
             }
            },
            "type": "scattercarpet"
           }
          ],
          "scattergeo": [
           {
            "marker": {
             "colorbar": {
              "outlinewidth": 0,
              "ticks": ""
             }
            },
            "type": "scattergeo"
           }
          ],
          "scattergl": [
           {
            "marker": {
             "colorbar": {
              "outlinewidth": 0,
              "ticks": ""
             }
            },
            "type": "scattergl"
           }
          ],
          "scattermapbox": [
           {
            "marker": {
             "colorbar": {
              "outlinewidth": 0,
              "ticks": ""
             }
            },
            "type": "scattermapbox"
           }
          ],
          "scatterpolar": [
           {
            "marker": {
             "colorbar": {
              "outlinewidth": 0,
              "ticks": ""
             }
            },
            "type": "scatterpolar"
           }
          ],
          "scatterpolargl": [
           {
            "marker": {
             "colorbar": {
              "outlinewidth": 0,
              "ticks": ""
             }
            },
            "type": "scatterpolargl"
           }
          ],
          "scatterternary": [
           {
            "marker": {
             "colorbar": {
              "outlinewidth": 0,
              "ticks": ""
             }
            },
            "type": "scatterternary"
           }
          ],
          "surface": [
           {
            "colorbar": {
             "outlinewidth": 0,
             "ticks": ""
            },
            "colorscale": [
             [
              0,
              "#0d0887"
             ],
             [
              0.1111111111111111,
              "#46039f"
             ],
             [
              0.2222222222222222,
              "#7201a8"
             ],
             [
              0.3333333333333333,
              "#9c179e"
             ],
             [
              0.4444444444444444,
              "#bd3786"
             ],
             [
              0.5555555555555556,
              "#d8576b"
             ],
             [
              0.6666666666666666,
              "#ed7953"
             ],
             [
              0.7777777777777778,
              "#fb9f3a"
             ],
             [
              0.8888888888888888,
              "#fdca26"
             ],
             [
              1,
              "#f0f921"
             ]
            ],
            "type": "surface"
           }
          ],
          "table": [
           {
            "cells": {
             "fill": {
              "color": "#EBF0F8"
             },
             "line": {
              "color": "white"
             }
            },
            "header": {
             "fill": {
              "color": "#C8D4E3"
             },
             "line": {
              "color": "white"
             }
            },
            "type": "table"
           }
          ]
         },
         "layout": {
          "annotationdefaults": {
           "arrowcolor": "#2a3f5f",
           "arrowhead": 0,
           "arrowwidth": 1
          },
          "autotypenumbers": "strict",
          "coloraxis": {
           "colorbar": {
            "outlinewidth": 0,
            "ticks": ""
           }
          },
          "colorscale": {
           "diverging": [
            [
             0,
             "#8e0152"
            ],
            [
             0.1,
             "#c51b7d"
            ],
            [
             0.2,
             "#de77ae"
            ],
            [
             0.3,
             "#f1b6da"
            ],
            [
             0.4,
             "#fde0ef"
            ],
            [
             0.5,
             "#f7f7f7"
            ],
            [
             0.6,
             "#e6f5d0"
            ],
            [
             0.7,
             "#b8e186"
            ],
            [
             0.8,
             "#7fbc41"
            ],
            [
             0.9,
             "#4d9221"
            ],
            [
             1,
             "#276419"
            ]
           ],
           "sequential": [
            [
             0,
             "#0d0887"
            ],
            [
             0.1111111111111111,
             "#46039f"
            ],
            [
             0.2222222222222222,
             "#7201a8"
            ],
            [
             0.3333333333333333,
             "#9c179e"
            ],
            [
             0.4444444444444444,
             "#bd3786"
            ],
            [
             0.5555555555555556,
             "#d8576b"
            ],
            [
             0.6666666666666666,
             "#ed7953"
            ],
            [
             0.7777777777777778,
             "#fb9f3a"
            ],
            [
             0.8888888888888888,
             "#fdca26"
            ],
            [
             1,
             "#f0f921"
            ]
           ],
           "sequentialminus": [
            [
             0,
             "#0d0887"
            ],
            [
             0.1111111111111111,
             "#46039f"
            ],
            [
             0.2222222222222222,
             "#7201a8"
            ],
            [
             0.3333333333333333,
             "#9c179e"
            ],
            [
             0.4444444444444444,
             "#bd3786"
            ],
            [
             0.5555555555555556,
             "#d8576b"
            ],
            [
             0.6666666666666666,
             "#ed7953"
            ],
            [
             0.7777777777777778,
             "#fb9f3a"
            ],
            [
             0.8888888888888888,
             "#fdca26"
            ],
            [
             1,
             "#f0f921"
            ]
           ]
          },
          "colorway": [
           "#636efa",
           "#EF553B",
           "#00cc96",
           "#ab63fa",
           "#FFA15A",
           "#19d3f3",
           "#FF6692",
           "#B6E880",
           "#FF97FF",
           "#FECB52"
          ],
          "font": {
           "color": "#2a3f5f"
          },
          "geo": {
           "bgcolor": "white",
           "lakecolor": "white",
           "landcolor": "#E5ECF6",
           "showlakes": true,
           "showland": true,
           "subunitcolor": "white"
          },
          "hoverlabel": {
           "align": "left"
          },
          "hovermode": "closest",
          "mapbox": {
           "style": "light"
          },
          "paper_bgcolor": "white",
          "plot_bgcolor": "#E5ECF6",
          "polar": {
           "angularaxis": {
            "gridcolor": "white",
            "linecolor": "white",
            "ticks": ""
           },
           "bgcolor": "#E5ECF6",
           "radialaxis": {
            "gridcolor": "white",
            "linecolor": "white",
            "ticks": ""
           }
          },
          "scene": {
           "xaxis": {
            "backgroundcolor": "#E5ECF6",
            "gridcolor": "white",
            "gridwidth": 2,
            "linecolor": "white",
            "showbackground": true,
            "ticks": "",
            "zerolinecolor": "white"
           },
           "yaxis": {
            "backgroundcolor": "#E5ECF6",
            "gridcolor": "white",
            "gridwidth": 2,
            "linecolor": "white",
            "showbackground": true,
            "ticks": "",
            "zerolinecolor": "white"
           },
           "zaxis": {
            "backgroundcolor": "#E5ECF6",
            "gridcolor": "white",
            "gridwidth": 2,
            "linecolor": "white",
            "showbackground": true,
            "ticks": "",
            "zerolinecolor": "white"
           }
          },
          "shapedefaults": {
           "line": {
            "color": "#2a3f5f"
           }
          },
          "ternary": {
           "aaxis": {
            "gridcolor": "white",
            "linecolor": "white",
            "ticks": ""
           },
           "baxis": {
            "gridcolor": "white",
            "linecolor": "white",
            "ticks": ""
           },
           "bgcolor": "#E5ECF6",
           "caxis": {
            "gridcolor": "white",
            "linecolor": "white",
            "ticks": ""
           }
          },
          "title": {
           "x": 0.05
          },
          "xaxis": {
           "automargin": true,
           "gridcolor": "white",
           "linecolor": "white",
           "ticks": "",
           "title": {
            "standoff": 15
           },
           "zerolinecolor": "white",
           "zerolinewidth": 2
          },
          "yaxis": {
           "automargin": true,
           "gridcolor": "white",
           "linecolor": "white",
           "ticks": "",
           "title": {
            "standoff": 15
           },
           "zerolinecolor": "white",
           "zerolinewidth": 2
          }
         }
        },
        "title": {
         "text": "10 clientes com total de compras mais caras"
        },
        "width": 1000,
        "xaxis": {
         "anchor": "y",
         "domain": [
          0,
          1
         ],
         "title": {
          "text": "Nome do cliente"
         }
        },
        "yaxis": {
         "anchor": "x",
         "domain": [
          0,
          1
         ],
         "title": {
          "text": "Total da compra do produto"
         }
        }
       }
      },
      "text/html": [
       "<div>                            <div id=\"8dceb021-1377-41cd-8416-5ec4560083c6\" class=\"plotly-graph-div\" style=\"height:1000px; width:1000px;\"></div>            <script type=\"text/javascript\">                require([\"plotly\"], function(Plotly) {                    window.PLOTLYENV=window.PLOTLYENV || {};                                    if (document.getElementById(\"8dceb021-1377-41cd-8416-5ec4560083c6\")) {                    Plotly.newPlot(                        \"8dceb021-1377-41cd-8416-5ec4560083c6\",                        [{\"alignmentgroup\":\"True\",\"customdata\":[[\"amaciante\",\"2021-11-01\",6.7],[\"odorizador\",\"2021-11-01\",23.99],[\"odorizador\",\"2021-11-01\",23.99],[\"odorizador\",\"2021-11-01\",23.99],[\"odorizador\",\"2021-11-13\",23.99],[\"odorizador\",\"2021-11-13\",23.99],[\"detergente\",\"2021-11-13\",2.7],[\"sab\\u00e3o em p\\u00f3\",\"2021-11-13\",9.69],[\"\\u00e1gua sanit\\u00e1ria\",\"2021-11-10\",11.98],[\"sab\\u00e3o em p\\u00f3\",\"2021-11-10\",9.69],[\"detergente\",\"2021-11-01\",2.7],[\"\\u00e1gua sanit\\u00e1ria\",\"2021-11-01\",11.98],[\"sab\\u00e3o em p\\u00f3\",\"2021-11-01\",9.69],[\"rodo\",\"2021-11-07\",5.99],[\"rodo\",\"2021-11-07\",5.99],[\"flanela\",\"2021-11-07\",1.99],[\"sab\\u00e3o em p\\u00f3\",\"2021-11-07\",9.69],[\"odorizador\",\"2021-11-13\",23.99],[\"sabonete\",\"2021-11-10\",1.29],[\"sabonete\",\"2021-11-10\",1.29],[\"sabonete\",\"2021-11-10\",1.29],[\"\\u00e1gua sanit\\u00e1ria\",\"2021-11-10\",11.98],[\"amaciante\",\"2021-11-11\",6.7],[\"odorizador\",\"2021-11-11\",23.99],[\"odorizador\",\"2021-11-07\",23.99],[\"detergente\",\"2021-11-07\",2.7],[\"rodo\",\"2021-11-07\",5.99],[\"flanela\",\"2021-11-07\",1.99],[\"\\u00e1gua sanit\\u00e1ria\",\"2021-11-07\",11.98],[\"detergente\",\"2021-11-03\",2.7],[\"detergente\",\"2021-11-03\",2.7],[\"sabonete\",\"2021-11-03\",1.29],[\"sabonete\",\"2021-11-03\",1.29],[\"sabonete\",\"2021-11-03\",1.29],[\"flanela\",\"2021-11-03\",1.99],[\"\\u00e1gua sanit\\u00e1ria\",\"2021-11-03\",11.98],[\"sab\\u00e3o em p\\u00f3\",\"2021-11-03\",9.69],[\"\\u00e1gua sanit\\u00e1ria\",\"2021-11-15\",11.98],[\"\\u00e1gua sanit\\u00e1ria\",\"2021-11-03\",11.98],[\"\\u00e1gua sanit\\u00e1ria\",\"2021-11-03\",11.98],[\"sabonete\",\"2021-11-11\",1.29],[\"flanela\",\"2021-11-11\",1.99],[\"amaciante\",\"2021-11-09\",6.7],[\"rodo\",\"2021-11-14\",5.99],[\"flanela\",\"2021-11-14\",1.99],[\"\\u00e1gua sanit\\u00e1ria\",\"2021-11-14\",11.98],[\"odorizador\",\"2021-11-06\",23.99],[\"sabonete\",\"2021-11-06\",1.29],[\"rodo\",\"2021-11-14\",5.99],[\"sab\\u00e3o em p\\u00f3\",\"2021-11-14\",9.69],[\"detergente\",\"2021-11-13\",2.7],[\"sabonete\",\"2021-11-13\",1.29],[\"rodo\",\"2021-11-13\",5.99],[\"\\u00e1gua sanit\\u00e1ria\",\"2021-11-13\",11.98],[\"sab\\u00e3o em p\\u00f3\",\"2021-11-13\",9.69],[\"amaciante\",\"2021-11-11\",6.7],[\"odorizador\",\"2021-11-11\",23.99],[\"detergente\",\"2021-11-11\",2.7],[\"detergente\",\"2021-11-11\",2.7],[\"rodo\",\"2021-11-11\",5.99],[\"\\u00e1gua sanit\\u00e1ria\",\"2021-11-02\",11.98],[\"rodo\",\"2021-11-22\",5.99],[\"sabonete\",\"2021-11-04\",1.29],[\"sab\\u00e3o em p\\u00f3\",\"2021-11-04\",9.69],[\"rodo\",\"2021-11-07\",5.99],[\"\\u00e1gua sanit\\u00e1ria\",\"2021-11-07\",11.98],[\"detergente\",\"2021-11-03\",2.7],[\"detergente\",\"2021-11-03\",2.7],[\"detergente\",\"2021-11-03\",2.7],[\"flanela\",\"2021-11-03\",1.99],[\"flanela\",\"2021-11-03\",1.99],[\"sab\\u00e3o em p\\u00f3\",\"2021-11-03\",9.69],[\"odorizador\",\"2021-11-07\",23.99],[\"sabonete\",\"2021-11-07\",1.29],[\"sabonete\",\"2021-11-30\",1.29],[\"amaciante\",\"2021-11-11\",6.7],[\"flanela\",\"2021-11-08\",1.99],[\"flanela\",\"2021-11-09\",1.99],[\"detergente\",\"2021-11-01\",2.7],[\"sabonete\",\"2021-11-01\",1.29],[\"sabonete\",\"2021-11-01\",1.29],[\"flanela\",\"2021-11-01\",1.99],[\"sab\\u00e3o em p\\u00f3\",\"2021-11-01\",9.69],[\"odorizador\",\"2021-11-06\",23.99],[\"odorizador\",\"2021-11-06\",23.99],[\"odorizador\",\"2021-11-06\",23.99],[\"detergente\",\"2021-11-06\",2.7],[\"\\u00e1gua sanit\\u00e1ria\",\"2021-11-06\",11.98]],\"hovertemplate\":\"Se\\u00e7\\u00e3o=Produtos de Limpeza<br>Nome do cliente=%{x}<br>Total da compra do produto=%{y}<br>Produto=%{customdata[0]}<br>Data=%{customdata[1]}<br>Pre\\u00e7o do produto=%{customdata[2]}<extra></extra>\",\"legendgroup\":\"Produtos de Limpeza\",\"marker\":{\"color\":\"#636efa\",\"pattern\":{\"shape\":\"\"}},\"name\":\"Produtos de Limpeza\",\"offsetgroup\":\"Produtos de Limpeza\",\"orientation\":\"v\",\"showlegend\":true,\"textposition\":\"auto\",\"type\":\"bar\",\"x\":[\"Srta. J\\u00falia Silva\",\"Srta. J\\u00falia Silva\",\"Srta. J\\u00falia Silva\",\"Srta. J\\u00falia Silva\",\"Srta. J\\u00falia Silva\",\"Srta. J\\u00falia Silva\",\"Srta. J\\u00falia Silva\",\"Srta. J\\u00falia Silva\",\"Srta. J\\u00falia Silva\",\"Srta. J\\u00falia Silva\",\"Maria Alice da Mota\",\"Maria Alice da Mota\",\"Maria Alice da Mota\",\"Maria Alice da Mota\",\"Maria Alice da Mota\",\"Maria Alice da Mota\",\"Maria Alice da Mota\",\"Sr. Ryan Rocha\",\"Sr. Ryan Rocha\",\"Sr. Ryan Rocha\",\"Sr. Ryan Rocha\",\"Sr. Ryan Rocha\",\"Sr. Ryan Rocha\",\"Sr. Ryan Rocha\",\"Sr. Ryan Rocha\",\"Sr. Ryan Rocha\",\"Sr. Ryan Rocha\",\"Sr. Ryan Rocha\",\"Sr. Ryan Rocha\",\"Maria Luiza Carvalho\",\"Maria Luiza Carvalho\",\"Maria Luiza Carvalho\",\"Maria Luiza Carvalho\",\"Maria Luiza Carvalho\",\"Maria Luiza Carvalho\",\"Maria Luiza Carvalho\",\"Maria Luiza Carvalho\",\"Maria Luiza Carvalho\",\"Maria Luiza Carvalho\",\"Maria Luiza Carvalho\",\"Gustavo Henrique Moreira\",\"Gustavo Henrique Moreira\",\"Gustavo Henrique Moreira\",\"Gustavo Henrique Moreira\",\"Gustavo Henrique Moreira\",\"Gustavo Henrique Moreira\",\"Gustavo Henrique Moreira\",\"Gustavo Henrique Moreira\",\"Gustavo Henrique Moreira\",\"Gustavo Henrique Moreira\",\"Benjamin Pires\",\"Benjamin Pires\",\"Benjamin Pires\",\"Benjamin Pires\",\"Benjamin Pires\",\"Melissa Cardoso\",\"Melissa Cardoso\",\"Melissa Cardoso\",\"Melissa Cardoso\",\"Melissa Cardoso\",\"Melissa Cardoso\",\"Melissa Cardoso\",\"Davi Luiz Rocha\",\"Davi Luiz Rocha\",\"Davi Luiz Rocha\",\"Davi Luiz Rocha\",\"Davi Luiz Rocha\",\"Davi Luiz Rocha\",\"Davi Luiz Rocha\",\"Davi Luiz Rocha\",\"Davi Luiz Rocha\",\"Davi Luiz Rocha\",\"Davi Luiz Rocha\",\"Davi Luiz Rocha\",\"Davi Luiz Rocha\",\"L\\u00edvia Cardoso\",\"L\\u00edvia Cardoso\",\"Beatriz Fernandes\",\"Beatriz Fernandes\",\"Beatriz Fernandes\",\"Beatriz Fernandes\",\"Beatriz Fernandes\",\"Beatriz Fernandes\",\"Beatriz Fernandes\",\"Beatriz Fernandes\",\"Beatriz Fernandes\",\"Beatriz Fernandes\",\"Beatriz Fernandes\"],\"xaxis\":\"x\",\"y\":[26.8,95.96,71.97,23.99,71.97,71.97,8.100000000000001,19.38,11.98,29.07,5.4,35.94,38.76,17.97,5.99,3.98,9.69,47.98,2.58,5.16,1.29,11.98,6.7,23.99,95.96,10.8,23.96,3.98,35.94,5.4,2.7,1.29,1.29,3.87,3.98,35.94,29.07,23.96,47.92,23.96,5.16,3.98,6.7,11.98,7.96,11.98,71.97,2.58,5.99,38.76,10.8,5.16,23.96,35.94,9.69,13.4,47.98,2.7,5.4,23.96,23.96,17.97,2.58,9.69,5.99,35.94,8.100000000000001,8.100000000000001,5.4,3.98,5.97,38.76,47.98,5.16,5.16,26.8,7.96,5.97,8.100000000000001,2.58,5.16,3.98,19.38,23.99,23.99,47.98,10.8,35.94],\"yaxis\":\"y\"},{\"alignmentgroup\":\"True\",\"customdata\":[[\"couve-flor\",\"2021-11-01\",5.48],[\"arroz\",\"2021-11-01\",4.31],[\"banana\",\"2021-11-13\",5.99],[\"melancia\",\"2021-11-13\",15.99],[\"melancia\",\"2021-11-13\",15.99],[\"feij\\u00e3o\",\"2021-11-13\",8.45],[\"banana\",\"2021-11-10\",5.99],[\"couve-flor\",\"2021-11-10\",5.48],[\"alface\",\"2021-11-10\",0.98],[\"alface\",\"2021-11-10\",0.98],[\"abobrinha\",\"2021-11-10\",3.49],[\"berinjela\",\"2021-11-10\",11.99],[\"batata\",\"2021-11-25\",3.99],[\"banana\",\"2021-11-22\",5.99],[\"melancia\",\"2021-11-01\",15.99],[\"feij\\u00e3o\",\"2021-11-01\",8.45],[\"berinjela\",\"2021-11-01\",11.99],[\"macarr\\u00e3o\",\"2021-11-07\",2.48],[\"uva\",\"2021-11-07\",7.47],[\"abobrinha\",\"2021-11-07\",3.49],[\"morango\",\"2021-11-13\",7.99],[\"banana\",\"2021-11-13\",5.99],[\"melancia\",\"2021-11-13\",15.99],[\"melancia\",\"2021-11-13\",15.99],[\"berinjela\",\"2021-11-13\",11.99],[\"morango\",\"2021-11-10\",7.99],[\"couve-flor\",\"2021-11-10\",5.48],[\"couve-flor\",\"2021-11-10\",5.48],[\"macarr\\u00e3o\",\"2021-11-10\",2.48],[\"uva\",\"2021-11-10\",7.47],[\"uva\",\"2021-11-10\",7.47],[\"abobrinha\",\"2021-11-10\",3.49],[\"arroz\",\"2021-11-11\",4.31],[\"uva\",\"2021-11-11\",7.47],[\"melancia\",\"2021-11-07\",15.99],[\"banana\",\"2021-11-03\",5.99],[\"melancia\",\"2021-11-03\",15.99],[\"arroz\",\"2021-11-03\",4.31],[\"melancia\",\"2021-11-15\",15.99],[\"couve-flor\",\"2021-11-15\",5.48],[\"macarr\\u00e3o\",\"2021-11-15\",2.48],[\"feij\\u00e3o\",\"2021-11-15\",8.45],[\"arroz\",\"2021-11-15\",4.31],[\"arroz\",\"2021-11-15\",4.31],[\"arroz\",\"2021-11-03\",4.31],[\"morango\",\"2021-11-11\",7.99],[\"melancia\",\"2021-11-11\",15.99],[\"melancia\",\"2021-11-11\",15.99],[\"arroz\",\"2021-11-11\",4.31],[\"berinjela\",\"2021-11-11\",11.99],[\"macarr\\u00e3o\",\"2021-11-09\",2.48],[\"feij\\u00e3o\",\"2021-11-09\",8.45],[\"melancia\",\"2021-11-14\",15.99],[\"macarr\\u00e3o\",\"2021-11-14\",2.48],[\"macarr\\u00e3o\",\"2021-11-14\",2.48],[\"batata\",\"2021-11-14\",3.99],[\"feij\\u00e3o\",\"2021-11-14\",8.45],[\"feij\\u00e3o\",\"2021-11-14\",8.45],[\"feij\\u00e3o\",\"2021-11-14\",8.45],[\"arroz\",\"2021-11-14\",4.31],[\"uva\",\"2021-11-14\",7.47],[\"uva\",\"2021-11-06\",7.47],[\"berinjela\",\"2021-11-06\",11.99],[\"uva\",\"2021-11-15\",7.47],[\"alface\",\"2021-11-13\",0.98],[\"morango\",\"2021-11-11\",7.99],[\"uva\",\"2021-11-11\",7.47],[\"abobrinha\",\"2021-11-11\",3.49],[\"banana\",\"2021-11-02\",5.99],[\"melancia\",\"2021-11-02\",15.99],[\"couve-flor\",\"2021-11-02\",5.48],[\"abobrinha\",\"2021-11-02\",3.49],[\"banana\",\"2021-11-04\",5.99],[\"macarr\\u00e3o\",\"2021-11-04\",2.48],[\"alface\",\"2021-11-04\",0.98],[\"abobrinha\",\"2021-11-04\",3.49],[\"banana\",\"2021-11-07\",5.99],[\"macarr\\u00e3o\",\"2021-11-07\",2.48],[\"macarr\\u00e3o\",\"2021-11-07\",2.48],[\"uva\",\"2021-11-07\",7.47],[\"abobrinha\",\"2021-11-07\",3.49],[\"couve-flor\",\"2021-11-03\",5.48],[\"couve-flor\",\"2021-11-03\",5.48],[\"couve-flor\",\"2021-11-03\",5.48],[\"macarr\\u00e3o\",\"2021-11-03\",2.48],[\"batata\",\"2021-11-03\",3.99],[\"feij\\u00e3o\",\"2021-11-03\",8.45],[\"arroz\",\"2021-11-07\",4.31],[\"alface\",\"2021-11-07\",0.98],[\"uva\",\"2021-11-07\",7.47],[\"macarr\\u00e3o\",\"2021-11-23\",2.48],[\"banana\",\"2021-11-11\",5.99],[\"melancia\",\"2021-11-11\",15.99],[\"couve-flor\",\"2021-11-11\",5.48],[\"feij\\u00e3o\",\"2021-11-11\",8.45],[\"feij\\u00e3o\",\"2021-11-11\",8.45],[\"batata\",\"2021-11-08\",3.99],[\"abobrinha\",\"2021-11-08\",3.49],[\"arroz\",\"2021-11-17\",4.31],[\"morango\",\"2021-11-09\",7.99],[\"uva\",\"2021-11-09\",7.47],[\"berinjela\",\"2021-11-09\",11.99],[\"arroz\",\"2021-11-01\",4.31],[\"uva\",\"2021-11-01\",7.47],[\"uva\",\"2021-11-01\",7.47],[\"banana\",\"2021-11-06\",5.99],[\"alface\",\"2021-11-06\",0.98],[\"alface\",\"2021-11-06\",0.98],[\"uva\",\"2021-11-06\",7.47],[\"berinjela\",\"2021-11-06\",11.99]],\"hovertemplate\":\"Se\\u00e7\\u00e3o=Alimentos em Geral<br>Nome do cliente=%{x}<br>Total da compra do produto=%{y}<br>Produto=%{customdata[0]}<br>Data=%{customdata[1]}<br>Pre\\u00e7o do produto=%{customdata[2]}<extra></extra>\",\"legendgroup\":\"Alimentos em Geral\",\"marker\":{\"color\":\"#EF553B\",\"pattern\":{\"shape\":\"\"}},\"name\":\"Alimentos em Geral\",\"offsetgroup\":\"Alimentos em Geral\",\"orientation\":\"v\",\"showlegend\":true,\"textposition\":\"auto\",\"type\":\"bar\",\"x\":[\"Srta. J\\u00falia Silva\",\"Srta. J\\u00falia Silva\",\"Srta. J\\u00falia Silva\",\"Srta. J\\u00falia Silva\",\"Srta. J\\u00falia Silva\",\"Srta. J\\u00falia Silva\",\"Srta. J\\u00falia Silva\",\"Srta. J\\u00falia Silva\",\"Srta. J\\u00falia Silva\",\"Srta. J\\u00falia Silva\",\"Srta. J\\u00falia Silva\",\"Srta. J\\u00falia Silva\",\"Srta. J\\u00falia Silva\",\"Maria Alice da Mota\",\"Maria Alice da Mota\",\"Maria Alice da Mota\",\"Maria Alice da Mota\",\"Maria Alice da Mota\",\"Maria Alice da Mota\",\"Maria Alice da Mota\",\"Sr. Ryan Rocha\",\"Sr. Ryan Rocha\",\"Sr. Ryan Rocha\",\"Sr. Ryan Rocha\",\"Sr. Ryan Rocha\",\"Sr. Ryan Rocha\",\"Sr. Ryan Rocha\",\"Sr. Ryan Rocha\",\"Sr. Ryan Rocha\",\"Sr. Ryan Rocha\",\"Sr. Ryan Rocha\",\"Sr. Ryan Rocha\",\"Sr. Ryan Rocha\",\"Sr. Ryan Rocha\",\"Sr. Ryan Rocha\",\"Maria Luiza Carvalho\",\"Maria Luiza Carvalho\",\"Maria Luiza Carvalho\",\"Maria Luiza Carvalho\",\"Maria Luiza Carvalho\",\"Maria Luiza Carvalho\",\"Maria Luiza Carvalho\",\"Maria Luiza Carvalho\",\"Maria Luiza Carvalho\",\"Maria Luiza Carvalho\",\"Gustavo Henrique Moreira\",\"Gustavo Henrique Moreira\",\"Gustavo Henrique Moreira\",\"Gustavo Henrique Moreira\",\"Gustavo Henrique Moreira\",\"Gustavo Henrique Moreira\",\"Gustavo Henrique Moreira\",\"Gustavo Henrique Moreira\",\"Gustavo Henrique Moreira\",\"Gustavo Henrique Moreira\",\"Gustavo Henrique Moreira\",\"Gustavo Henrique Moreira\",\"Gustavo Henrique Moreira\",\"Gustavo Henrique Moreira\",\"Gustavo Henrique Moreira\",\"Gustavo Henrique Moreira\",\"Gustavo Henrique Moreira\",\"Gustavo Henrique Moreira\",\"Gustavo Henrique Moreira\",\"Benjamin Pires\",\"Melissa Cardoso\",\"Melissa Cardoso\",\"Melissa Cardoso\",\"Melissa Cardoso\",\"Melissa Cardoso\",\"Melissa Cardoso\",\"Melissa Cardoso\",\"Davi Luiz Rocha\",\"Davi Luiz Rocha\",\"Davi Luiz Rocha\",\"Davi Luiz Rocha\",\"Davi Luiz Rocha\",\"Davi Luiz Rocha\",\"Davi Luiz Rocha\",\"Davi Luiz Rocha\",\"Davi Luiz Rocha\",\"Davi Luiz Rocha\",\"Davi Luiz Rocha\",\"Davi Luiz Rocha\",\"Davi Luiz Rocha\",\"Davi Luiz Rocha\",\"Davi Luiz Rocha\",\"Davi Luiz Rocha\",\"Davi Luiz Rocha\",\"Davi Luiz Rocha\",\"Davi Luiz Rocha\",\"L\\u00edvia Cardoso\",\"L\\u00edvia Cardoso\",\"L\\u00edvia Cardoso\",\"L\\u00edvia Cardoso\",\"L\\u00edvia Cardoso\",\"L\\u00edvia Cardoso\",\"L\\u00edvia Cardoso\",\"L\\u00edvia Cardoso\",\"Beatriz Fernandes\",\"Beatriz Fernandes\",\"Beatriz Fernandes\",\"Beatriz Fernandes\",\"Beatriz Fernandes\",\"Beatriz Fernandes\",\"Beatriz Fernandes\",\"Beatriz Fernandes\",\"Beatriz Fernandes\",\"Beatriz Fernandes\",\"Beatriz Fernandes\"],\"xaxis\":\"x\",\"y\":[16.44,4.31,5.99,47.97,63.96,16.9,11.98,5.48,0.98,3.92,10.47,11.99,15.96,11.98,31.98,8.45,47.96,9.92,22.41,10.47,15.98,11.98,15.99,31.98,11.99,31.96,21.92,10.96,9.92,29.88,22.41,10.47,17.24,22.41,15.99,11.98,47.97,17.24,31.98,10.96,7.4399999999999995,33.8,8.62,8.62,12.93,31.96,31.98,31.98,17.24,11.99,4.96,16.9,47.97,4.96,7.4399999999999995,11.97,25.349999999999998,16.9,33.8,8.62,7.47,22.41,35.97,29.88,0.98,23.97,7.47,13.96,17.97,47.97,16.44,6.98,5.99,4.96,1.96,3.49,23.96,2.48,9.92,22.41,6.98,21.92,10.96,5.48,7.4399999999999995,11.97,8.45,17.24,2.94,22.41,4.96,17.97,31.98,5.48,25.349999999999998,16.9,7.98,10.47,4.31,23.97,22.41,47.96,17.24,22.41,7.47,5.99,1.96,2.94,14.94,35.97],\"yaxis\":\"y\"},{\"alignmentgroup\":\"True\",\"customdata\":[[\"carr\\u00e9 de cordeiro\",\"2021-11-01\",172.0],[\"carr\\u00e9 de cordeiro\",\"2021-11-01\",172.0],[\"carr\\u00e9 de cordeiro\",\"2021-11-01\",172.0],[\"bisteca su\\u00edna\",\"2021-11-13\",22.79],[\"carr\\u00e9 de cordeiro\",\"2021-11-13\",172.0],[\"costela\",\"2021-11-13\",20.99],[\"peito de frango\",\"2021-11-13\",16.49],[\"costela\",\"2021-11-10\",20.99],[\"alcatra\",\"2021-11-10\",31.99],[\"bisteca su\\u00edna\",\"2021-11-01\",22.79],[\"picanha\",\"2021-11-01\",70.89],[\"carr\\u00e9 de cordeiro\",\"2021-11-01\",172.0],[\"paleta su\\u00edna\",\"2021-11-01\",23.99],[\"bisteca su\\u00edna\",\"2021-11-07\",22.79],[\"carr\\u00e9 de cordeiro\",\"2021-11-07\",172.0],[\"paleta su\\u00edna\",\"2021-11-07\",23.99],[\"paleta su\\u00edna\",\"2021-11-07\",23.99],[\"picanha\",\"2021-11-13\",70.89],[\"picanha\",\"2021-11-13\",70.89],[\"carr\\u00e9 de cordeiro\",\"2021-11-13\",172.0],[\"paleta su\\u00edna\",\"2021-11-13\",23.99],[\"alcatra\",\"2021-11-13\",31.99],[\"picanha\",\"2021-11-10\",70.89],[\"costela\",\"2021-11-10\",20.99],[\"alcatra\",\"2021-11-10\",31.99],[\"peito de frango\",\"2021-11-11\",16.49],[\"picanha\",\"2021-11-03\",70.89],[\"carr\\u00e9 de cordeiro\",\"2021-11-03\",172.0],[\"alcatra\",\"2021-11-03\",31.99],[\"carr\\u00e9 de cordeiro\",\"2021-11-23\",172.0],[\"carr\\u00e9 de cordeiro\",\"2021-11-11\",172.0],[\"paleta su\\u00edna\",\"2021-11-11\",23.99],[\"picanha\",\"2021-11-09\",70.89],[\"costela\",\"2021-11-09\",20.99],[\"bisteca su\\u00edna\",\"2021-11-14\",22.79],[\"maminha\",\"2021-11-14\",42.99],[\"bisteca su\\u00edna\",\"2021-11-06\",22.79],[\"alcatra\",\"2021-11-06\",31.99],[\"bisteca su\\u00edna\",\"2021-11-14\",22.79],[\"bisteca su\\u00edna\",\"2021-11-14\",22.79],[\"maminha\",\"2021-11-14\",42.99],[\"costela\",\"2021-11-14\",20.99],[\"bisteca su\\u00edna\",\"2021-11-13\",22.79],[\"maminha\",\"2021-11-13\",42.99],[\"maminha\",\"2021-11-13\",42.99],[\"carr\\u00e9 de cordeiro\",\"2021-11-13\",172.0],[\"carr\\u00e9 de cordeiro\",\"2021-11-13\",172.0],[\"costela\",\"2021-11-13\",20.99],[\"peito de frango\",\"2021-11-13\",16.49],[\"bisteca su\\u00edna\",\"2021-11-27\",22.79],[\"picanha\",\"2021-11-11\",70.89],[\"carr\\u00e9 de cordeiro\",\"2021-11-11\",172.0],[\"carr\\u00e9 de cordeiro\",\"2021-11-11\",172.0],[\"bisteca su\\u00edna\",\"2021-11-02\",22.79],[\"picanha\",\"2021-11-02\",70.89],[\"carr\\u00e9 de cordeiro\",\"2021-11-02\",172.0],[\"paleta su\\u00edna\",\"2021-11-02\",23.99],[\"alcatra\",\"2021-11-02\",31.99],[\"picanha\",\"2021-11-27\",70.89],[\"costela\",\"2021-11-04\",20.99],[\"costela\",\"2021-11-04\",20.99],[\"maminha\",\"2021-11-07\",42.99],[\"costela\",\"2021-11-07\",20.99],[\"alcatra\",\"2021-11-07\",31.99],[\"carr\\u00e9 de cordeiro\",\"2021-11-03\",172.0],[\"carr\\u00e9 de cordeiro\",\"2021-11-07\",172.0],[\"carr\\u00e9 de cordeiro\",\"2021-11-11\",172.0],[\"peito de frango\",\"2021-11-11\",16.49],[\"maminha\",\"2021-11-08\",42.99],[\"picanha\",\"2021-11-08\",70.89],[\"picanha\",\"2021-11-08\",70.89],[\"costela\",\"2021-11-08\",20.99],[\"alcatra\",\"2021-11-08\",31.99],[\"peito de frango\",\"2021-11-08\",16.49],[\"peito de frango\",\"2021-11-08\",16.49],[\"costela\",\"2021-11-09\",20.99],[\"bisteca su\\u00edna\",\"2021-11-01\",22.79],[\"picanha\",\"2021-11-01\",70.89],[\"picanha\",\"2021-11-01\",70.89],[\"carr\\u00e9 de cordeiro\",\"2021-11-01\",172.0],[\"carr\\u00e9 de cordeiro\",\"2021-11-01\",172.0],[\"peito de frango\",\"2021-11-01\",16.49],[\"carr\\u00e9 de cordeiro\",\"2021-11-06\",172.0],[\"paleta su\\u00edna\",\"2021-11-06\",23.99],[\"alcatra\",\"2021-11-06\",31.99],[\"peito de frango\",\"2021-11-06\",16.49]],\"hovertemplate\":\"Se\\u00e7\\u00e3o=A\\u00e7ougue<br>Nome do cliente=%{x}<br>Total da compra do produto=%{y}<br>Produto=%{customdata[0]}<br>Data=%{customdata[1]}<br>Pre\\u00e7o do produto=%{customdata[2]}<extra></extra>\",\"legendgroup\":\"A\\u00e7ougue\",\"marker\":{\"color\":\"#00cc96\",\"pattern\":{\"shape\":\"\"}},\"name\":\"A\\u00e7ougue\",\"offsetgroup\":\"A\\u00e7ougue\",\"orientation\":\"v\",\"showlegend\":true,\"textposition\":\"auto\",\"type\":\"bar\",\"x\":[\"Srta. J\\u00falia Silva\",\"Srta. J\\u00falia Silva\",\"Srta. J\\u00falia Silva\",\"Srta. J\\u00falia Silva\",\"Srta. J\\u00falia Silva\",\"Srta. J\\u00falia Silva\",\"Srta. J\\u00falia Silva\",\"Srta. J\\u00falia Silva\",\"Srta. J\\u00falia Silva\",\"Maria Alice da Mota\",\"Maria Alice da Mota\",\"Maria Alice da Mota\",\"Maria Alice da Mota\",\"Maria Alice da Mota\",\"Maria Alice da Mota\",\"Maria Alice da Mota\",\"Maria Alice da Mota\",\"Sr. Ryan Rocha\",\"Sr. Ryan Rocha\",\"Sr. Ryan Rocha\",\"Sr. Ryan Rocha\",\"Sr. Ryan Rocha\",\"Sr. Ryan Rocha\",\"Sr. Ryan Rocha\",\"Sr. Ryan Rocha\",\"Sr. Ryan Rocha\",\"Maria Luiza Carvalho\",\"Maria Luiza Carvalho\",\"Maria Luiza Carvalho\",\"Maria Luiza Carvalho\",\"Gustavo Henrique Moreira\",\"Gustavo Henrique Moreira\",\"Gustavo Henrique Moreira\",\"Gustavo Henrique Moreira\",\"Gustavo Henrique Moreira\",\"Gustavo Henrique Moreira\",\"Gustavo Henrique Moreira\",\"Gustavo Henrique Moreira\",\"Gustavo Henrique Moreira\",\"Gustavo Henrique Moreira\",\"Gustavo Henrique Moreira\",\"Gustavo Henrique Moreira\",\"Benjamin Pires\",\"Benjamin Pires\",\"Benjamin Pires\",\"Benjamin Pires\",\"Benjamin Pires\",\"Benjamin Pires\",\"Benjamin Pires\",\"Benjamin Pires\",\"Melissa Cardoso\",\"Melissa Cardoso\",\"Melissa Cardoso\",\"Melissa Cardoso\",\"Melissa Cardoso\",\"Melissa Cardoso\",\"Melissa Cardoso\",\"Melissa Cardoso\",\"Melissa Cardoso\",\"Davi Luiz Rocha\",\"Davi Luiz Rocha\",\"Davi Luiz Rocha\",\"Davi Luiz Rocha\",\"Davi Luiz Rocha\",\"Davi Luiz Rocha\",\"Davi Luiz Rocha\",\"L\\u00edvia Cardoso\",\"L\\u00edvia Cardoso\",\"L\\u00edvia Cardoso\",\"L\\u00edvia Cardoso\",\"L\\u00edvia Cardoso\",\"L\\u00edvia Cardoso\",\"L\\u00edvia Cardoso\",\"L\\u00edvia Cardoso\",\"L\\u00edvia Cardoso\",\"Beatriz Fernandes\",\"Beatriz Fernandes\",\"Beatriz Fernandes\",\"Beatriz Fernandes\",\"Beatriz Fernandes\",\"Beatriz Fernandes\",\"Beatriz Fernandes\",\"Beatriz Fernandes\",\"Beatriz Fernandes\",\"Beatriz Fernandes\",\"Beatriz Fernandes\"],\"xaxis\":\"x\",\"y\":[516.0,344.0,516.0,91.16,344.0,83.96,49.47,83.96,95.97,68.37,283.56,688.0,47.98,45.58,516.0,47.98,71.97,70.89,283.56,344.0,47.98,95.97,141.78,62.97,127.96,65.96,283.56,516.0,31.99,688.0,516.0,23.99,70.89,20.99,45.58,128.97,22.79,31.99,45.58,91.16,85.98,41.98,22.79,171.96,171.96,688.0,516.0,20.99,65.96,91.16,212.67000000000002,172.0,172.0,91.16,283.56,344.0,23.99,95.97,283.56,41.98,83.96,42.99,83.96,95.97,516.0,172.0,688.0,65.96,128.97,212.67000000000002,283.56,83.96,127.96,32.98,49.47,83.96,22.79,283.56,212.67000000000002,172.0,172.0,32.98,172.0,23.99,31.99,49.47],\"yaxis\":\"y\"},{\"alignmentgroup\":\"True\",\"customdata\":[[\"sandu\\u00edche\",\"2021-11-01\",12.99],[\"p\\u00e3o franc\\u00eas\",\"2021-11-01\",10.99],[\"p\\u00e3o franc\\u00eas\",\"2021-11-13\",10.99],[\"sonho\",\"2021-11-13\",3.49],[\"torta\",\"2021-11-01\",45.0],[\"sonho\",\"2021-11-01\",3.49],[\"pastel\",\"2021-11-01\",4.99],[\"sandu\\u00edche\",\"2021-11-07\",12.99],[\"p\\u00e3o franc\\u00eas\",\"2021-11-30\",10.99],[\"torta\",\"2021-11-10\",45.0],[\"p\\u00e3o franc\\u00eas\",\"2021-11-10\",10.99],[\"p\\u00e3o de queijo\",\"2021-11-10\",23.99],[\"p\\u00e3o de forma\",\"2021-11-11\",6.99],[\"sonho\",\"2021-11-11\",3.49],[\"p\\u00e3o de forma\",\"2021-11-07\",6.99],[\"p\\u00e3o de queijo\",\"2021-11-07\",23.99],[\"sonho\",\"2021-11-03\",3.49],[\"torta\",\"2021-11-15\",45.0],[\"bolo\",\"2021-11-15\",35.0],[\"p\\u00e3o franc\\u00eas\",\"2021-11-15\",10.99],[\"pastel\",\"2021-11-15\",4.99],[\"bolo\",\"2021-11-03\",35.0],[\"bolo\",\"2021-11-03\",35.0],[\"p\\u00e3o franc\\u00eas\",\"2021-11-03\",10.99],[\"bolo\",\"2021-11-11\",35.0],[\"bolo\",\"2021-11-11\",35.0],[\"p\\u00e3o de queijo\",\"2021-11-11\",23.99],[\"p\\u00e3o de forma\",\"2021-11-09\",6.99],[\"sandu\\u00edche\",\"2021-11-09\",12.99],[\"p\\u00e3o de forma\",\"2021-11-14\",6.99],[\"torta\",\"2021-11-14\",45.0],[\"sandu\\u00edche\",\"2021-11-14\",12.99],[\"sonho\",\"2021-11-14\",3.49],[\"sonho\",\"2021-11-06\",3.49],[\"pastel\",\"2021-11-06\",4.99],[\"p\\u00e3o franc\\u00eas\",\"2021-11-14\",10.99],[\"sonho\",\"2021-11-14\",3.49],[\"torta\",\"2021-11-13\",45.0],[\"bolo\",\"2021-11-21\",35.0],[\"p\\u00e3o de forma\",\"2021-11-11\",6.99],[\"p\\u00e3o de forma\",\"2021-11-02\",6.99],[\"bolo\",\"2021-11-02\",35.0],[\"sonho\",\"2021-11-02\",3.49],[\"sandu\\u00edche\",\"2021-11-07\",12.99],[\"torta\",\"2021-11-03\",45.0],[\"bolo\",\"2021-11-03\",35.0],[\"p\\u00e3o franc\\u00eas\",\"2021-11-03\",10.99],[\"p\\u00e3o de queijo\",\"2021-11-03\",23.99],[\"torta\",\"2021-11-07\",45.0],[\"p\\u00e3o de queijo\",\"2021-11-07\",23.99],[\"p\\u00e3o de forma\",\"2021-11-11\",6.99],[\"sandu\\u00edche\",\"2021-11-11\",12.99],[\"sonho\",\"2021-11-11\",3.49],[\"p\\u00e3o de forma\",\"2021-11-08\",6.99],[\"p\\u00e3o franc\\u00eas\",\"2021-11-08\",10.99],[\"p\\u00e3o de forma\",\"2021-11-09\",6.99],[\"p\\u00e3o de forma\",\"2021-11-09\",6.99],[\"sandu\\u00edche\",\"2021-11-09\",12.99],[\"p\\u00e3o de queijo\",\"2021-11-09\",23.99],[\"p\\u00e3o de forma\",\"2021-11-01\",6.99],[\"p\\u00e3o de forma\",\"2021-11-06\",6.99],[\"torta\",\"2021-11-06\",45.0],[\"sandu\\u00edche\",\"2021-11-06\",12.99]],\"hovertemplate\":\"Se\\u00e7\\u00e3o=Padaria<br>Nome do cliente=%{x}<br>Total da compra do produto=%{y}<br>Produto=%{customdata[0]}<br>Data=%{customdata[1]}<br>Pre\\u00e7o do produto=%{customdata[2]}<extra></extra>\",\"legendgroup\":\"Padaria\",\"marker\":{\"color\":\"#ab63fa\",\"pattern\":{\"shape\":\"\"}},\"name\":\"Padaria\",\"offsetgroup\":\"Padaria\",\"orientation\":\"v\",\"showlegend\":true,\"textposition\":\"auto\",\"type\":\"bar\",\"x\":[\"Srta. J\\u00falia Silva\",\"Srta. J\\u00falia Silva\",\"Srta. J\\u00falia Silva\",\"Srta. J\\u00falia Silva\",\"Maria Alice da Mota\",\"Maria Alice da Mota\",\"Maria Alice da Mota\",\"Maria Alice da Mota\",\"Maria Alice da Mota\",\"Sr. Ryan Rocha\",\"Sr. Ryan Rocha\",\"Sr. Ryan Rocha\",\"Sr. Ryan Rocha\",\"Sr. Ryan Rocha\",\"Sr. Ryan Rocha\",\"Sr. Ryan Rocha\",\"Maria Luiza Carvalho\",\"Maria Luiza Carvalho\",\"Maria Luiza Carvalho\",\"Maria Luiza Carvalho\",\"Maria Luiza Carvalho\",\"Maria Luiza Carvalho\",\"Maria Luiza Carvalho\",\"Maria Luiza Carvalho\",\"Gustavo Henrique Moreira\",\"Gustavo Henrique Moreira\",\"Gustavo Henrique Moreira\",\"Gustavo Henrique Moreira\",\"Gustavo Henrique Moreira\",\"Gustavo Henrique Moreira\",\"Gustavo Henrique Moreira\",\"Gustavo Henrique Moreira\",\"Gustavo Henrique Moreira\",\"Gustavo Henrique Moreira\",\"Gustavo Henrique Moreira\",\"Gustavo Henrique Moreira\",\"Gustavo Henrique Moreira\",\"Benjamin Pires\",\"Benjamin Pires\",\"Melissa Cardoso\",\"Melissa Cardoso\",\"Melissa Cardoso\",\"Melissa Cardoso\",\"Davi Luiz Rocha\",\"Davi Luiz Rocha\",\"Davi Luiz Rocha\",\"Davi Luiz Rocha\",\"Davi Luiz Rocha\",\"Davi Luiz Rocha\",\"Davi Luiz Rocha\",\"L\\u00edvia Cardoso\",\"L\\u00edvia Cardoso\",\"L\\u00edvia Cardoso\",\"L\\u00edvia Cardoso\",\"L\\u00edvia Cardoso\",\"Beatriz Fernandes\",\"Beatriz Fernandes\",\"Beatriz Fernandes\",\"Beatriz Fernandes\",\"Beatriz Fernandes\",\"Beatriz Fernandes\",\"Beatriz Fernandes\",\"Beatriz Fernandes\"],\"xaxis\":\"x\",\"y\":[51.96,10.99,21.98,10.47,135.0,6.98,4.99,38.97,32.97,180.0,32.97,71.97,13.98,10.47,20.97,95.96,10.47,45.0,70.0,43.96,4.99,35.0,105.0,10.99,70.0,35.0,47.98,27.96,51.96,20.97,135.0,38.97,10.47,13.96,4.99,21.98,3.49,180.0,105.0,20.97,13.98,70.0,10.47,51.96,135.0,140.0,32.97,95.96,90.0,71.97,6.99,25.98,10.47,20.97,43.96,6.99,13.98,25.98,71.97,6.99,27.96,90.0,25.98],\"yaxis\":\"y\"}],                        {\"barmode\":\"stack\",\"height\":1000,\"legend\":{\"title\":{\"text\":\"Se\\u00e7\\u00e3o\"},\"tracegroupgap\":0},\"margin\":{\"t\":60},\"template\":{\"data\":{\"bar\":[{\"error_x\":{\"color\":\"#2a3f5f\"},\"error_y\":{\"color\":\"#2a3f5f\"},\"marker\":{\"line\":{\"color\":\"#E5ECF6\",\"width\":0.5},\"pattern\":{\"fillmode\":\"overlay\",\"size\":10,\"solidity\":0.2}},\"type\":\"bar\"}],\"barpolar\":[{\"marker\":{\"line\":{\"color\":\"#E5ECF6\",\"width\":0.5},\"pattern\":{\"fillmode\":\"overlay\",\"size\":10,\"solidity\":0.2}},\"type\":\"barpolar\"}],\"carpet\":[{\"aaxis\":{\"endlinecolor\":\"#2a3f5f\",\"gridcolor\":\"white\",\"linecolor\":\"white\",\"minorgridcolor\":\"white\",\"startlinecolor\":\"#2a3f5f\"},\"baxis\":{\"endlinecolor\":\"#2a3f5f\",\"gridcolor\":\"white\",\"linecolor\":\"white\",\"minorgridcolor\":\"white\",\"startlinecolor\":\"#2a3f5f\"},\"type\":\"carpet\"}],\"choropleth\":[{\"colorbar\":{\"outlinewidth\":0,\"ticks\":\"\"},\"type\":\"choropleth\"}],\"contour\":[{\"colorbar\":{\"outlinewidth\":0,\"ticks\":\"\"},\"colorscale\":[[0.0,\"#0d0887\"],[0.1111111111111111,\"#46039f\"],[0.2222222222222222,\"#7201a8\"],[0.3333333333333333,\"#9c179e\"],[0.4444444444444444,\"#bd3786\"],[0.5555555555555556,\"#d8576b\"],[0.6666666666666666,\"#ed7953\"],[0.7777777777777778,\"#fb9f3a\"],[0.8888888888888888,\"#fdca26\"],[1.0,\"#f0f921\"]],\"type\":\"contour\"}],\"contourcarpet\":[{\"colorbar\":{\"outlinewidth\":0,\"ticks\":\"\"},\"type\":\"contourcarpet\"}],\"heatmap\":[{\"colorbar\":{\"outlinewidth\":0,\"ticks\":\"\"},\"colorscale\":[[0.0,\"#0d0887\"],[0.1111111111111111,\"#46039f\"],[0.2222222222222222,\"#7201a8\"],[0.3333333333333333,\"#9c179e\"],[0.4444444444444444,\"#bd3786\"],[0.5555555555555556,\"#d8576b\"],[0.6666666666666666,\"#ed7953\"],[0.7777777777777778,\"#fb9f3a\"],[0.8888888888888888,\"#fdca26\"],[1.0,\"#f0f921\"]],\"type\":\"heatmap\"}],\"heatmapgl\":[{\"colorbar\":{\"outlinewidth\":0,\"ticks\":\"\"},\"colorscale\":[[0.0,\"#0d0887\"],[0.1111111111111111,\"#46039f\"],[0.2222222222222222,\"#7201a8\"],[0.3333333333333333,\"#9c179e\"],[0.4444444444444444,\"#bd3786\"],[0.5555555555555556,\"#d8576b\"],[0.6666666666666666,\"#ed7953\"],[0.7777777777777778,\"#fb9f3a\"],[0.8888888888888888,\"#fdca26\"],[1.0,\"#f0f921\"]],\"type\":\"heatmapgl\"}],\"histogram\":[{\"marker\":{\"pattern\":{\"fillmode\":\"overlay\",\"size\":10,\"solidity\":0.2}},\"type\":\"histogram\"}],\"histogram2d\":[{\"colorbar\":{\"outlinewidth\":0,\"ticks\":\"\"},\"colorscale\":[[0.0,\"#0d0887\"],[0.1111111111111111,\"#46039f\"],[0.2222222222222222,\"#7201a8\"],[0.3333333333333333,\"#9c179e\"],[0.4444444444444444,\"#bd3786\"],[0.5555555555555556,\"#d8576b\"],[0.6666666666666666,\"#ed7953\"],[0.7777777777777778,\"#fb9f3a\"],[0.8888888888888888,\"#fdca26\"],[1.0,\"#f0f921\"]],\"type\":\"histogram2d\"}],\"histogram2dcontour\":[{\"colorbar\":{\"outlinewidth\":0,\"ticks\":\"\"},\"colorscale\":[[0.0,\"#0d0887\"],[0.1111111111111111,\"#46039f\"],[0.2222222222222222,\"#7201a8\"],[0.3333333333333333,\"#9c179e\"],[0.4444444444444444,\"#bd3786\"],[0.5555555555555556,\"#d8576b\"],[0.6666666666666666,\"#ed7953\"],[0.7777777777777778,\"#fb9f3a\"],[0.8888888888888888,\"#fdca26\"],[1.0,\"#f0f921\"]],\"type\":\"histogram2dcontour\"}],\"mesh3d\":[{\"colorbar\":{\"outlinewidth\":0,\"ticks\":\"\"},\"type\":\"mesh3d\"}],\"parcoords\":[{\"line\":{\"colorbar\":{\"outlinewidth\":0,\"ticks\":\"\"}},\"type\":\"parcoords\"}],\"pie\":[{\"automargin\":true,\"type\":\"pie\"}],\"scatter\":[{\"marker\":{\"colorbar\":{\"outlinewidth\":0,\"ticks\":\"\"}},\"type\":\"scatter\"}],\"scatter3d\":[{\"line\":{\"colorbar\":{\"outlinewidth\":0,\"ticks\":\"\"}},\"marker\":{\"colorbar\":{\"outlinewidth\":0,\"ticks\":\"\"}},\"type\":\"scatter3d\"}],\"scattercarpet\":[{\"marker\":{\"colorbar\":{\"outlinewidth\":0,\"ticks\":\"\"}},\"type\":\"scattercarpet\"}],\"scattergeo\":[{\"marker\":{\"colorbar\":{\"outlinewidth\":0,\"ticks\":\"\"}},\"type\":\"scattergeo\"}],\"scattergl\":[{\"marker\":{\"colorbar\":{\"outlinewidth\":0,\"ticks\":\"\"}},\"type\":\"scattergl\"}],\"scattermapbox\":[{\"marker\":{\"colorbar\":{\"outlinewidth\":0,\"ticks\":\"\"}},\"type\":\"scattermapbox\"}],\"scatterpolar\":[{\"marker\":{\"colorbar\":{\"outlinewidth\":0,\"ticks\":\"\"}},\"type\":\"scatterpolar\"}],\"scatterpolargl\":[{\"marker\":{\"colorbar\":{\"outlinewidth\":0,\"ticks\":\"\"}},\"type\":\"scatterpolargl\"}],\"scatterternary\":[{\"marker\":{\"colorbar\":{\"outlinewidth\":0,\"ticks\":\"\"}},\"type\":\"scatterternary\"}],\"surface\":[{\"colorbar\":{\"outlinewidth\":0,\"ticks\":\"\"},\"colorscale\":[[0.0,\"#0d0887\"],[0.1111111111111111,\"#46039f\"],[0.2222222222222222,\"#7201a8\"],[0.3333333333333333,\"#9c179e\"],[0.4444444444444444,\"#bd3786\"],[0.5555555555555556,\"#d8576b\"],[0.6666666666666666,\"#ed7953\"],[0.7777777777777778,\"#fb9f3a\"],[0.8888888888888888,\"#fdca26\"],[1.0,\"#f0f921\"]],\"type\":\"surface\"}],\"table\":[{\"cells\":{\"fill\":{\"color\":\"#EBF0F8\"},\"line\":{\"color\":\"white\"}},\"header\":{\"fill\":{\"color\":\"#C8D4E3\"},\"line\":{\"color\":\"white\"}},\"type\":\"table\"}]},\"layout\":{\"annotationdefaults\":{\"arrowcolor\":\"#2a3f5f\",\"arrowhead\":0,\"arrowwidth\":1},\"autotypenumbers\":\"strict\",\"coloraxis\":{\"colorbar\":{\"outlinewidth\":0,\"ticks\":\"\"}},\"colorscale\":{\"diverging\":[[0,\"#8e0152\"],[0.1,\"#c51b7d\"],[0.2,\"#de77ae\"],[0.3,\"#f1b6da\"],[0.4,\"#fde0ef\"],[0.5,\"#f7f7f7\"],[0.6,\"#e6f5d0\"],[0.7,\"#b8e186\"],[0.8,\"#7fbc41\"],[0.9,\"#4d9221\"],[1,\"#276419\"]],\"sequential\":[[0.0,\"#0d0887\"],[0.1111111111111111,\"#46039f\"],[0.2222222222222222,\"#7201a8\"],[0.3333333333333333,\"#9c179e\"],[0.4444444444444444,\"#bd3786\"],[0.5555555555555556,\"#d8576b\"],[0.6666666666666666,\"#ed7953\"],[0.7777777777777778,\"#fb9f3a\"],[0.8888888888888888,\"#fdca26\"],[1.0,\"#f0f921\"]],\"sequentialminus\":[[0.0,\"#0d0887\"],[0.1111111111111111,\"#46039f\"],[0.2222222222222222,\"#7201a8\"],[0.3333333333333333,\"#9c179e\"],[0.4444444444444444,\"#bd3786\"],[0.5555555555555556,\"#d8576b\"],[0.6666666666666666,\"#ed7953\"],[0.7777777777777778,\"#fb9f3a\"],[0.8888888888888888,\"#fdca26\"],[1.0,\"#f0f921\"]]},\"colorway\":[\"#636efa\",\"#EF553B\",\"#00cc96\",\"#ab63fa\",\"#FFA15A\",\"#19d3f3\",\"#FF6692\",\"#B6E880\",\"#FF97FF\",\"#FECB52\"],\"font\":{\"color\":\"#2a3f5f\"},\"geo\":{\"bgcolor\":\"white\",\"lakecolor\":\"white\",\"landcolor\":\"#E5ECF6\",\"showlakes\":true,\"showland\":true,\"subunitcolor\":\"white\"},\"hoverlabel\":{\"align\":\"left\"},\"hovermode\":\"closest\",\"mapbox\":{\"style\":\"light\"},\"paper_bgcolor\":\"white\",\"plot_bgcolor\":\"#E5ECF6\",\"polar\":{\"angularaxis\":{\"gridcolor\":\"white\",\"linecolor\":\"white\",\"ticks\":\"\"},\"bgcolor\":\"#E5ECF6\",\"radialaxis\":{\"gridcolor\":\"white\",\"linecolor\":\"white\",\"ticks\":\"\"}},\"scene\":{\"xaxis\":{\"backgroundcolor\":\"#E5ECF6\",\"gridcolor\":\"white\",\"gridwidth\":2,\"linecolor\":\"white\",\"showbackground\":true,\"ticks\":\"\",\"zerolinecolor\":\"white\"},\"yaxis\":{\"backgroundcolor\":\"#E5ECF6\",\"gridcolor\":\"white\",\"gridwidth\":2,\"linecolor\":\"white\",\"showbackground\":true,\"ticks\":\"\",\"zerolinecolor\":\"white\"},\"zaxis\":{\"backgroundcolor\":\"#E5ECF6\",\"gridcolor\":\"white\",\"gridwidth\":2,\"linecolor\":\"white\",\"showbackground\":true,\"ticks\":\"\",\"zerolinecolor\":\"white\"}},\"shapedefaults\":{\"line\":{\"color\":\"#2a3f5f\"}},\"ternary\":{\"aaxis\":{\"gridcolor\":\"white\",\"linecolor\":\"white\",\"ticks\":\"\"},\"baxis\":{\"gridcolor\":\"white\",\"linecolor\":\"white\",\"ticks\":\"\"},\"bgcolor\":\"#E5ECF6\",\"caxis\":{\"gridcolor\":\"white\",\"linecolor\":\"white\",\"ticks\":\"\"}},\"title\":{\"x\":0.05},\"xaxis\":{\"automargin\":true,\"gridcolor\":\"white\",\"linecolor\":\"white\",\"ticks\":\"\",\"title\":{\"standoff\":15},\"zerolinecolor\":\"white\",\"zerolinewidth\":2},\"yaxis\":{\"automargin\":true,\"gridcolor\":\"white\",\"linecolor\":\"white\",\"ticks\":\"\",\"title\":{\"standoff\":15},\"zerolinecolor\":\"white\",\"zerolinewidth\":2}}},\"title\":{\"text\":\"10 clientes com total de compras mais caras\"},\"width\":1000,\"xaxis\":{\"anchor\":\"y\",\"domain\":[0.0,1.0],\"title\":{\"text\":\"Nome do cliente\"}},\"yaxis\":{\"anchor\":\"x\",\"domain\":[0.0,1.0],\"title\":{\"text\":\"Total da compra do produto\"}}},                        {\"responsive\": true}                    ).then(function(){\n",
       "                            \n",
       "var gd = document.getElementById('8dceb021-1377-41cd-8416-5ec4560083c6');\n",
       "var x = new MutationObserver(function (mutations, observer) {{\n",
       "        var display = window.getComputedStyle(gd).display;\n",
       "        if (!display || display === 'none') {{\n",
       "            console.log([gd, 'removed!']);\n",
       "            Plotly.purge(gd);\n",
       "            observer.disconnect();\n",
       "        }}\n",
       "}});\n",
       "\n",
       "// Listen for the removal of the full notebook cells\n",
       "var notebookContainer = gd.closest('#notebook-container');\n",
       "if (notebookContainer) {{\n",
       "    x.observe(notebookContainer, {childList: true});\n",
       "}}\n",
       "\n",
       "// Listen for the clearing of the current output cell\n",
       "var outputEl = gd.closest('.output');\n",
       "if (outputEl) {{\n",
       "    x.observe(outputEl, {childList: true});\n",
       "}}\n",
       "\n",
       "                        })                };                });            </script>        </div>"
      ]
     },
     "metadata": {},
     "output_type": "display_data"
    }
   ],
   "source": [
    "fig = px.bar(venda_produtos_cliente_pt, x=\"nome_cliente\", y=\"total_preco\", color=\"secao\", barmode = 'stack', hover_data=['nome', 'data', 'preco'],\n",
    "             labels={\"total_preco\": \"Total da compra do produto\", \"nome_cliente\": \"Nome do cliente\", \"nome\":\"Produto\", \"data\":\"Data\", \"preco\":\"Preço do produto\", \"secao\":\"Seção\" }, height=1000, width=1000)\n",
    "fig.update_layout(title = '10 clientes com total de compras mais caras')\n",
    "fig.show()"
   ]
  },
  {
   "cell_type": "code",
   "execution_count": null,
   "id": "9cb92bb7",
   "metadata": {},
   "outputs": [],
   "source": []
  },
  {
   "cell_type": "code",
   "execution_count": null,
   "id": "edb1fdfb",
   "metadata": {},
   "outputs": [],
   "source": []
  },
  {
   "cell_type": "markdown",
   "id": "fda6e07d",
   "metadata": {},
   "source": [
    "## Análise tempo"
   ]
  },
  {
   "cell_type": "code",
   "execution_count": 100,
   "id": "1fb25e01",
   "metadata": {},
   "outputs": [
    {
     "data": {
      "application/vnd.plotly.v1+json": {
       "config": {
        "plotlyServerURL": "https://plot.ly"
       },
       "data": [
        {
         "hovertemplate": "Data=%{x}<br>Total gasto pelo clientes=%{y}<extra></extra>",
         "legendgroup": "",
         "line": {
          "color": "#636efa",
          "dash": "solid"
         },
         "marker": {
          "symbol": "circle"
         },
         "mode": "lines",
         "name": "",
         "orientation": "v",
         "showlegend": false,
         "type": "scatter",
         "x": [
          "2021-11-01",
          "2021-11-03",
          "2021-11-04",
          "2021-11-05",
          "2021-11-06",
          "2021-11-07",
          "2021-11-09",
          "2021-11-10",
          "2021-11-11",
          "2021-11-12",
          "2021-11-13",
          "2021-11-14",
          "2021-11-15",
          "2021-11-18",
          "2021-11-19",
          "2021-11-21",
          "2021-11-22",
          "2021-11-23",
          "2021-11-24",
          "2021-11-25",
          "2021-11-26",
          "2021-11-29",
          "2021-11-30"
         ],
         "xaxis": "x",
         "y": [
          2939.2200000000003,
          2014.3600000000004,
          154.61,
          560.27,
          2180.750000000001,
          1115.8200000000002,
          503.55,
          1041.9800000000002,
          988.0100000000001,
          706.65,
          2328.6700000000005,
          2419.7800000000016,
          862.2900000000002,
          7.96,
          90,
          25.62,
          15.96,
          4.96,
          11.98,
          155.96,
          4.96,
          17.97,
          5.16
         ],
         "yaxis": "y"
        }
       ],
       "layout": {
        "annotations": [
         {
          "arrowhead": 3,
          "ay": -40,
          "font": {
           "size": 11
          },
          "showarrow": true,
          "text": "<b>Maior pico de vendas<br> em novembro</b>",
          "x": "2021-11-08",
          "y": 1016.66
         }
        ],
        "height": 500,
        "legend": {
         "tracegroupgap": 0
        },
        "margin": {
         "t": 60
        },
        "template": {
         "data": {
          "bar": [
           {
            "error_x": {
             "color": "#2a3f5f"
            },
            "error_y": {
             "color": "#2a3f5f"
            },
            "marker": {
             "line": {
              "color": "#E5ECF6",
              "width": 0.5
             },
             "pattern": {
              "fillmode": "overlay",
              "size": 10,
              "solidity": 0.2
             }
            },
            "type": "bar"
           }
          ],
          "barpolar": [
           {
            "marker": {
             "line": {
              "color": "#E5ECF6",
              "width": 0.5
             },
             "pattern": {
              "fillmode": "overlay",
              "size": 10,
              "solidity": 0.2
             }
            },
            "type": "barpolar"
           }
          ],
          "carpet": [
           {
            "aaxis": {
             "endlinecolor": "#2a3f5f",
             "gridcolor": "white",
             "linecolor": "white",
             "minorgridcolor": "white",
             "startlinecolor": "#2a3f5f"
            },
            "baxis": {
             "endlinecolor": "#2a3f5f",
             "gridcolor": "white",
             "linecolor": "white",
             "minorgridcolor": "white",
             "startlinecolor": "#2a3f5f"
            },
            "type": "carpet"
           }
          ],
          "choropleth": [
           {
            "colorbar": {
             "outlinewidth": 0,
             "ticks": ""
            },
            "type": "choropleth"
           }
          ],
          "contour": [
           {
            "colorbar": {
             "outlinewidth": 0,
             "ticks": ""
            },
            "colorscale": [
             [
              0,
              "#0d0887"
             ],
             [
              0.1111111111111111,
              "#46039f"
             ],
             [
              0.2222222222222222,
              "#7201a8"
             ],
             [
              0.3333333333333333,
              "#9c179e"
             ],
             [
              0.4444444444444444,
              "#bd3786"
             ],
             [
              0.5555555555555556,
              "#d8576b"
             ],
             [
              0.6666666666666666,
              "#ed7953"
             ],
             [
              0.7777777777777778,
              "#fb9f3a"
             ],
             [
              0.8888888888888888,
              "#fdca26"
             ],
             [
              1,
              "#f0f921"
             ]
            ],
            "type": "contour"
           }
          ],
          "contourcarpet": [
           {
            "colorbar": {
             "outlinewidth": 0,
             "ticks": ""
            },
            "type": "contourcarpet"
           }
          ],
          "heatmap": [
           {
            "colorbar": {
             "outlinewidth": 0,
             "ticks": ""
            },
            "colorscale": [
             [
              0,
              "#0d0887"
             ],
             [
              0.1111111111111111,
              "#46039f"
             ],
             [
              0.2222222222222222,
              "#7201a8"
             ],
             [
              0.3333333333333333,
              "#9c179e"
             ],
             [
              0.4444444444444444,
              "#bd3786"
             ],
             [
              0.5555555555555556,
              "#d8576b"
             ],
             [
              0.6666666666666666,
              "#ed7953"
             ],
             [
              0.7777777777777778,
              "#fb9f3a"
             ],
             [
              0.8888888888888888,
              "#fdca26"
             ],
             [
              1,
              "#f0f921"
             ]
            ],
            "type": "heatmap"
           }
          ],
          "heatmapgl": [
           {
            "colorbar": {
             "outlinewidth": 0,
             "ticks": ""
            },
            "colorscale": [
             [
              0,
              "#0d0887"
             ],
             [
              0.1111111111111111,
              "#46039f"
             ],
             [
              0.2222222222222222,
              "#7201a8"
             ],
             [
              0.3333333333333333,
              "#9c179e"
             ],
             [
              0.4444444444444444,
              "#bd3786"
             ],
             [
              0.5555555555555556,
              "#d8576b"
             ],
             [
              0.6666666666666666,
              "#ed7953"
             ],
             [
              0.7777777777777778,
              "#fb9f3a"
             ],
             [
              0.8888888888888888,
              "#fdca26"
             ],
             [
              1,
              "#f0f921"
             ]
            ],
            "type": "heatmapgl"
           }
          ],
          "histogram": [
           {
            "marker": {
             "pattern": {
              "fillmode": "overlay",
              "size": 10,
              "solidity": 0.2
             }
            },
            "type": "histogram"
           }
          ],
          "histogram2d": [
           {
            "colorbar": {
             "outlinewidth": 0,
             "ticks": ""
            },
            "colorscale": [
             [
              0,
              "#0d0887"
             ],
             [
              0.1111111111111111,
              "#46039f"
             ],
             [
              0.2222222222222222,
              "#7201a8"
             ],
             [
              0.3333333333333333,
              "#9c179e"
             ],
             [
              0.4444444444444444,
              "#bd3786"
             ],
             [
              0.5555555555555556,
              "#d8576b"
             ],
             [
              0.6666666666666666,
              "#ed7953"
             ],
             [
              0.7777777777777778,
              "#fb9f3a"
             ],
             [
              0.8888888888888888,
              "#fdca26"
             ],
             [
              1,
              "#f0f921"
             ]
            ],
            "type": "histogram2d"
           }
          ],
          "histogram2dcontour": [
           {
            "colorbar": {
             "outlinewidth": 0,
             "ticks": ""
            },
            "colorscale": [
             [
              0,
              "#0d0887"
             ],
             [
              0.1111111111111111,
              "#46039f"
             ],
             [
              0.2222222222222222,
              "#7201a8"
             ],
             [
              0.3333333333333333,
              "#9c179e"
             ],
             [
              0.4444444444444444,
              "#bd3786"
             ],
             [
              0.5555555555555556,
              "#d8576b"
             ],
             [
              0.6666666666666666,
              "#ed7953"
             ],
             [
              0.7777777777777778,
              "#fb9f3a"
             ],
             [
              0.8888888888888888,
              "#fdca26"
             ],
             [
              1,
              "#f0f921"
             ]
            ],
            "type": "histogram2dcontour"
           }
          ],
          "mesh3d": [
           {
            "colorbar": {
             "outlinewidth": 0,
             "ticks": ""
            },
            "type": "mesh3d"
           }
          ],
          "parcoords": [
           {
            "line": {
             "colorbar": {
              "outlinewidth": 0,
              "ticks": ""
             }
            },
            "type": "parcoords"
           }
          ],
          "pie": [
           {
            "automargin": true,
            "type": "pie"
           }
          ],
          "scatter": [
           {
            "marker": {
             "colorbar": {
              "outlinewidth": 0,
              "ticks": ""
             }
            },
            "type": "scatter"
           }
          ],
          "scatter3d": [
           {
            "line": {
             "colorbar": {
              "outlinewidth": 0,
              "ticks": ""
             }
            },
            "marker": {
             "colorbar": {
              "outlinewidth": 0,
              "ticks": ""
             }
            },
            "type": "scatter3d"
           }
          ],
          "scattercarpet": [
           {
            "marker": {
             "colorbar": {
              "outlinewidth": 0,
              "ticks": ""
             }
            },
            "type": "scattercarpet"
           }
          ],
          "scattergeo": [
           {
            "marker": {
             "colorbar": {
              "outlinewidth": 0,
              "ticks": ""
             }
            },
            "type": "scattergeo"
           }
          ],
          "scattergl": [
           {
            "marker": {
             "colorbar": {
              "outlinewidth": 0,
              "ticks": ""
             }
            },
            "type": "scattergl"
           }
          ],
          "scattermapbox": [
           {
            "marker": {
             "colorbar": {
              "outlinewidth": 0,
              "ticks": ""
             }
            },
            "type": "scattermapbox"
           }
          ],
          "scatterpolar": [
           {
            "marker": {
             "colorbar": {
              "outlinewidth": 0,
              "ticks": ""
             }
            },
            "type": "scatterpolar"
           }
          ],
          "scatterpolargl": [
           {
            "marker": {
             "colorbar": {
              "outlinewidth": 0,
              "ticks": ""
             }
            },
            "type": "scatterpolargl"
           }
          ],
          "scatterternary": [
           {
            "marker": {
             "colorbar": {
              "outlinewidth": 0,
              "ticks": ""
             }
            },
            "type": "scatterternary"
           }
          ],
          "surface": [
           {
            "colorbar": {
             "outlinewidth": 0,
             "ticks": ""
            },
            "colorscale": [
             [
              0,
              "#0d0887"
             ],
             [
              0.1111111111111111,
              "#46039f"
             ],
             [
              0.2222222222222222,
              "#7201a8"
             ],
             [
              0.3333333333333333,
              "#9c179e"
             ],
             [
              0.4444444444444444,
              "#bd3786"
             ],
             [
              0.5555555555555556,
              "#d8576b"
             ],
             [
              0.6666666666666666,
              "#ed7953"
             ],
             [
              0.7777777777777778,
              "#fb9f3a"
             ],
             [
              0.8888888888888888,
              "#fdca26"
             ],
             [
              1,
              "#f0f921"
             ]
            ],
            "type": "surface"
           }
          ],
          "table": [
           {
            "cells": {
             "fill": {
              "color": "#EBF0F8"
             },
             "line": {
              "color": "white"
             }
            },
            "header": {
             "fill": {
              "color": "#C8D4E3"
             },
             "line": {
              "color": "white"
             }
            },
            "type": "table"
           }
          ]
         },
         "layout": {
          "annotationdefaults": {
           "arrowcolor": "#2a3f5f",
           "arrowhead": 0,
           "arrowwidth": 1
          },
          "autotypenumbers": "strict",
          "coloraxis": {
           "colorbar": {
            "outlinewidth": 0,
            "ticks": ""
           }
          },
          "colorscale": {
           "diverging": [
            [
             0,
             "#8e0152"
            ],
            [
             0.1,
             "#c51b7d"
            ],
            [
             0.2,
             "#de77ae"
            ],
            [
             0.3,
             "#f1b6da"
            ],
            [
             0.4,
             "#fde0ef"
            ],
            [
             0.5,
             "#f7f7f7"
            ],
            [
             0.6,
             "#e6f5d0"
            ],
            [
             0.7,
             "#b8e186"
            ],
            [
             0.8,
             "#7fbc41"
            ],
            [
             0.9,
             "#4d9221"
            ],
            [
             1,
             "#276419"
            ]
           ],
           "sequential": [
            [
             0,
             "#0d0887"
            ],
            [
             0.1111111111111111,
             "#46039f"
            ],
            [
             0.2222222222222222,
             "#7201a8"
            ],
            [
             0.3333333333333333,
             "#9c179e"
            ],
            [
             0.4444444444444444,
             "#bd3786"
            ],
            [
             0.5555555555555556,
             "#d8576b"
            ],
            [
             0.6666666666666666,
             "#ed7953"
            ],
            [
             0.7777777777777778,
             "#fb9f3a"
            ],
            [
             0.8888888888888888,
             "#fdca26"
            ],
            [
             1,
             "#f0f921"
            ]
           ],
           "sequentialminus": [
            [
             0,
             "#0d0887"
            ],
            [
             0.1111111111111111,
             "#46039f"
            ],
            [
             0.2222222222222222,
             "#7201a8"
            ],
            [
             0.3333333333333333,
             "#9c179e"
            ],
            [
             0.4444444444444444,
             "#bd3786"
            ],
            [
             0.5555555555555556,
             "#d8576b"
            ],
            [
             0.6666666666666666,
             "#ed7953"
            ],
            [
             0.7777777777777778,
             "#fb9f3a"
            ],
            [
             0.8888888888888888,
             "#fdca26"
            ],
            [
             1,
             "#f0f921"
            ]
           ]
          },
          "colorway": [
           "#636efa",
           "#EF553B",
           "#00cc96",
           "#ab63fa",
           "#FFA15A",
           "#19d3f3",
           "#FF6692",
           "#B6E880",
           "#FF97FF",
           "#FECB52"
          ],
          "font": {
           "color": "#2a3f5f"
          },
          "geo": {
           "bgcolor": "white",
           "lakecolor": "white",
           "landcolor": "#E5ECF6",
           "showlakes": true,
           "showland": true,
           "subunitcolor": "white"
          },
          "hoverlabel": {
           "align": "left"
          },
          "hovermode": "closest",
          "mapbox": {
           "style": "light"
          },
          "paper_bgcolor": "white",
          "plot_bgcolor": "#E5ECF6",
          "polar": {
           "angularaxis": {
            "gridcolor": "white",
            "linecolor": "white",
            "ticks": ""
           },
           "bgcolor": "#E5ECF6",
           "radialaxis": {
            "gridcolor": "white",
            "linecolor": "white",
            "ticks": ""
           }
          },
          "scene": {
           "xaxis": {
            "backgroundcolor": "#E5ECF6",
            "gridcolor": "white",
            "gridwidth": 2,
            "linecolor": "white",
            "showbackground": true,
            "ticks": "",
            "zerolinecolor": "white"
           },
           "yaxis": {
            "backgroundcolor": "#E5ECF6",
            "gridcolor": "white",
            "gridwidth": 2,
            "linecolor": "white",
            "showbackground": true,
            "ticks": "",
            "zerolinecolor": "white"
           },
           "zaxis": {
            "backgroundcolor": "#E5ECF6",
            "gridcolor": "white",
            "gridwidth": 2,
            "linecolor": "white",
            "showbackground": true,
            "ticks": "",
            "zerolinecolor": "white"
           }
          },
          "shapedefaults": {
           "line": {
            "color": "#2a3f5f"
           }
          },
          "ternary": {
           "aaxis": {
            "gridcolor": "white",
            "linecolor": "white",
            "ticks": ""
           },
           "baxis": {
            "gridcolor": "white",
            "linecolor": "white",
            "ticks": ""
           },
           "bgcolor": "#E5ECF6",
           "caxis": {
            "gridcolor": "white",
            "linecolor": "white",
            "ticks": ""
           }
          },
          "title": {
           "x": 0.05
          },
          "xaxis": {
           "automargin": true,
           "gridcolor": "white",
           "linecolor": "white",
           "ticks": "",
           "title": {
            "standoff": 15
           },
           "zerolinecolor": "white",
           "zerolinewidth": 2
          },
          "yaxis": {
           "automargin": true,
           "gridcolor": "white",
           "linecolor": "white",
           "ticks": "",
           "title": {
            "standoff": 15
           },
           "zerolinecolor": "white",
           "zerolinewidth": 2
          }
         }
        },
        "width": 800,
        "xaxis": {
         "anchor": "y",
         "domain": [
          0,
          1
         ],
         "title": {
          "text": "Data"
         }
        },
        "yaxis": {
         "anchor": "x",
         "domain": [
          0,
          1
         ],
         "title": {
          "text": "Total gasto pelo clientes"
         }
        }
       }
      },
      "text/html": [
       "<div>                            <div id=\"fce671f2-c8b1-4d3c-bfd2-3bd1dbf8360f\" class=\"plotly-graph-div\" style=\"height:500px; width:800px;\"></div>            <script type=\"text/javascript\">                require([\"plotly\"], function(Plotly) {                    window.PLOTLYENV=window.PLOTLYENV || {};                                    if (document.getElementById(\"fce671f2-c8b1-4d3c-bfd2-3bd1dbf8360f\")) {                    Plotly.newPlot(                        \"fce671f2-c8b1-4d3c-bfd2-3bd1dbf8360f\",                        [{\"hovertemplate\":\"Data=%{x}<br>Total gasto pelo clientes=%{y}<extra></extra>\",\"legendgroup\":\"\",\"line\":{\"color\":\"#636efa\",\"dash\":\"solid\"},\"marker\":{\"symbol\":\"circle\"},\"mode\":\"lines\",\"name\":\"\",\"orientation\":\"v\",\"showlegend\":false,\"type\":\"scatter\",\"x\":[\"2021-11-01\",\"2021-11-03\",\"2021-11-04\",\"2021-11-05\",\"2021-11-06\",\"2021-11-07\",\"2021-11-09\",\"2021-11-10\",\"2021-11-11\",\"2021-11-12\",\"2021-11-13\",\"2021-11-14\",\"2021-11-15\",\"2021-11-18\",\"2021-11-19\",\"2021-11-21\",\"2021-11-22\",\"2021-11-23\",\"2021-11-24\",\"2021-11-25\",\"2021-11-26\",\"2021-11-29\",\"2021-11-30\"],\"xaxis\":\"x\",\"y\":[2939.2200000000003,2014.3600000000004,154.61,560.27,2180.750000000001,1115.8200000000002,503.55,1041.9800000000002,988.0100000000001,706.65,2328.6700000000005,2419.7800000000016,862.2900000000002,7.96,90.0,25.62,15.96,4.96,11.98,155.96,4.96,17.97,5.16],\"yaxis\":\"y\"}],                        {\"annotations\":[{\"arrowhead\":3,\"ay\":-40,\"font\":{\"size\":11},\"showarrow\":true,\"text\":\"<b>Maior pico de vendas<br> em novembro</b>\",\"x\":\"2021-11-08\",\"y\":1016.66}],\"height\":500,\"legend\":{\"tracegroupgap\":0},\"margin\":{\"t\":60},\"template\":{\"data\":{\"bar\":[{\"error_x\":{\"color\":\"#2a3f5f\"},\"error_y\":{\"color\":\"#2a3f5f\"},\"marker\":{\"line\":{\"color\":\"#E5ECF6\",\"width\":0.5},\"pattern\":{\"fillmode\":\"overlay\",\"size\":10,\"solidity\":0.2}},\"type\":\"bar\"}],\"barpolar\":[{\"marker\":{\"line\":{\"color\":\"#E5ECF6\",\"width\":0.5},\"pattern\":{\"fillmode\":\"overlay\",\"size\":10,\"solidity\":0.2}},\"type\":\"barpolar\"}],\"carpet\":[{\"aaxis\":{\"endlinecolor\":\"#2a3f5f\",\"gridcolor\":\"white\",\"linecolor\":\"white\",\"minorgridcolor\":\"white\",\"startlinecolor\":\"#2a3f5f\"},\"baxis\":{\"endlinecolor\":\"#2a3f5f\",\"gridcolor\":\"white\",\"linecolor\":\"white\",\"minorgridcolor\":\"white\",\"startlinecolor\":\"#2a3f5f\"},\"type\":\"carpet\"}],\"choropleth\":[{\"colorbar\":{\"outlinewidth\":0,\"ticks\":\"\"},\"type\":\"choropleth\"}],\"contour\":[{\"colorbar\":{\"outlinewidth\":0,\"ticks\":\"\"},\"colorscale\":[[0.0,\"#0d0887\"],[0.1111111111111111,\"#46039f\"],[0.2222222222222222,\"#7201a8\"],[0.3333333333333333,\"#9c179e\"],[0.4444444444444444,\"#bd3786\"],[0.5555555555555556,\"#d8576b\"],[0.6666666666666666,\"#ed7953\"],[0.7777777777777778,\"#fb9f3a\"],[0.8888888888888888,\"#fdca26\"],[1.0,\"#f0f921\"]],\"type\":\"contour\"}],\"contourcarpet\":[{\"colorbar\":{\"outlinewidth\":0,\"ticks\":\"\"},\"type\":\"contourcarpet\"}],\"heatmap\":[{\"colorbar\":{\"outlinewidth\":0,\"ticks\":\"\"},\"colorscale\":[[0.0,\"#0d0887\"],[0.1111111111111111,\"#46039f\"],[0.2222222222222222,\"#7201a8\"],[0.3333333333333333,\"#9c179e\"],[0.4444444444444444,\"#bd3786\"],[0.5555555555555556,\"#d8576b\"],[0.6666666666666666,\"#ed7953\"],[0.7777777777777778,\"#fb9f3a\"],[0.8888888888888888,\"#fdca26\"],[1.0,\"#f0f921\"]],\"type\":\"heatmap\"}],\"heatmapgl\":[{\"colorbar\":{\"outlinewidth\":0,\"ticks\":\"\"},\"colorscale\":[[0.0,\"#0d0887\"],[0.1111111111111111,\"#46039f\"],[0.2222222222222222,\"#7201a8\"],[0.3333333333333333,\"#9c179e\"],[0.4444444444444444,\"#bd3786\"],[0.5555555555555556,\"#d8576b\"],[0.6666666666666666,\"#ed7953\"],[0.7777777777777778,\"#fb9f3a\"],[0.8888888888888888,\"#fdca26\"],[1.0,\"#f0f921\"]],\"type\":\"heatmapgl\"}],\"histogram\":[{\"marker\":{\"pattern\":{\"fillmode\":\"overlay\",\"size\":10,\"solidity\":0.2}},\"type\":\"histogram\"}],\"histogram2d\":[{\"colorbar\":{\"outlinewidth\":0,\"ticks\":\"\"},\"colorscale\":[[0.0,\"#0d0887\"],[0.1111111111111111,\"#46039f\"],[0.2222222222222222,\"#7201a8\"],[0.3333333333333333,\"#9c179e\"],[0.4444444444444444,\"#bd3786\"],[0.5555555555555556,\"#d8576b\"],[0.6666666666666666,\"#ed7953\"],[0.7777777777777778,\"#fb9f3a\"],[0.8888888888888888,\"#fdca26\"],[1.0,\"#f0f921\"]],\"type\":\"histogram2d\"}],\"histogram2dcontour\":[{\"colorbar\":{\"outlinewidth\":0,\"ticks\":\"\"},\"colorscale\":[[0.0,\"#0d0887\"],[0.1111111111111111,\"#46039f\"],[0.2222222222222222,\"#7201a8\"],[0.3333333333333333,\"#9c179e\"],[0.4444444444444444,\"#bd3786\"],[0.5555555555555556,\"#d8576b\"],[0.6666666666666666,\"#ed7953\"],[0.7777777777777778,\"#fb9f3a\"],[0.8888888888888888,\"#fdca26\"],[1.0,\"#f0f921\"]],\"type\":\"histogram2dcontour\"}],\"mesh3d\":[{\"colorbar\":{\"outlinewidth\":0,\"ticks\":\"\"},\"type\":\"mesh3d\"}],\"parcoords\":[{\"line\":{\"colorbar\":{\"outlinewidth\":0,\"ticks\":\"\"}},\"type\":\"parcoords\"}],\"pie\":[{\"automargin\":true,\"type\":\"pie\"}],\"scatter\":[{\"marker\":{\"colorbar\":{\"outlinewidth\":0,\"ticks\":\"\"}},\"type\":\"scatter\"}],\"scatter3d\":[{\"line\":{\"colorbar\":{\"outlinewidth\":0,\"ticks\":\"\"}},\"marker\":{\"colorbar\":{\"outlinewidth\":0,\"ticks\":\"\"}},\"type\":\"scatter3d\"}],\"scattercarpet\":[{\"marker\":{\"colorbar\":{\"outlinewidth\":0,\"ticks\":\"\"}},\"type\":\"scattercarpet\"}],\"scattergeo\":[{\"marker\":{\"colorbar\":{\"outlinewidth\":0,\"ticks\":\"\"}},\"type\":\"scattergeo\"}],\"scattergl\":[{\"marker\":{\"colorbar\":{\"outlinewidth\":0,\"ticks\":\"\"}},\"type\":\"scattergl\"}],\"scattermapbox\":[{\"marker\":{\"colorbar\":{\"outlinewidth\":0,\"ticks\":\"\"}},\"type\":\"scattermapbox\"}],\"scatterpolar\":[{\"marker\":{\"colorbar\":{\"outlinewidth\":0,\"ticks\":\"\"}},\"type\":\"scatterpolar\"}],\"scatterpolargl\":[{\"marker\":{\"colorbar\":{\"outlinewidth\":0,\"ticks\":\"\"}},\"type\":\"scatterpolargl\"}],\"scatterternary\":[{\"marker\":{\"colorbar\":{\"outlinewidth\":0,\"ticks\":\"\"}},\"type\":\"scatterternary\"}],\"surface\":[{\"colorbar\":{\"outlinewidth\":0,\"ticks\":\"\"},\"colorscale\":[[0.0,\"#0d0887\"],[0.1111111111111111,\"#46039f\"],[0.2222222222222222,\"#7201a8\"],[0.3333333333333333,\"#9c179e\"],[0.4444444444444444,\"#bd3786\"],[0.5555555555555556,\"#d8576b\"],[0.6666666666666666,\"#ed7953\"],[0.7777777777777778,\"#fb9f3a\"],[0.8888888888888888,\"#fdca26\"],[1.0,\"#f0f921\"]],\"type\":\"surface\"}],\"table\":[{\"cells\":{\"fill\":{\"color\":\"#EBF0F8\"},\"line\":{\"color\":\"white\"}},\"header\":{\"fill\":{\"color\":\"#C8D4E3\"},\"line\":{\"color\":\"white\"}},\"type\":\"table\"}]},\"layout\":{\"annotationdefaults\":{\"arrowcolor\":\"#2a3f5f\",\"arrowhead\":0,\"arrowwidth\":1},\"autotypenumbers\":\"strict\",\"coloraxis\":{\"colorbar\":{\"outlinewidth\":0,\"ticks\":\"\"}},\"colorscale\":{\"diverging\":[[0,\"#8e0152\"],[0.1,\"#c51b7d\"],[0.2,\"#de77ae\"],[0.3,\"#f1b6da\"],[0.4,\"#fde0ef\"],[0.5,\"#f7f7f7\"],[0.6,\"#e6f5d0\"],[0.7,\"#b8e186\"],[0.8,\"#7fbc41\"],[0.9,\"#4d9221\"],[1,\"#276419\"]],\"sequential\":[[0.0,\"#0d0887\"],[0.1111111111111111,\"#46039f\"],[0.2222222222222222,\"#7201a8\"],[0.3333333333333333,\"#9c179e\"],[0.4444444444444444,\"#bd3786\"],[0.5555555555555556,\"#d8576b\"],[0.6666666666666666,\"#ed7953\"],[0.7777777777777778,\"#fb9f3a\"],[0.8888888888888888,\"#fdca26\"],[1.0,\"#f0f921\"]],\"sequentialminus\":[[0.0,\"#0d0887\"],[0.1111111111111111,\"#46039f\"],[0.2222222222222222,\"#7201a8\"],[0.3333333333333333,\"#9c179e\"],[0.4444444444444444,\"#bd3786\"],[0.5555555555555556,\"#d8576b\"],[0.6666666666666666,\"#ed7953\"],[0.7777777777777778,\"#fb9f3a\"],[0.8888888888888888,\"#fdca26\"],[1.0,\"#f0f921\"]]},\"colorway\":[\"#636efa\",\"#EF553B\",\"#00cc96\",\"#ab63fa\",\"#FFA15A\",\"#19d3f3\",\"#FF6692\",\"#B6E880\",\"#FF97FF\",\"#FECB52\"],\"font\":{\"color\":\"#2a3f5f\"},\"geo\":{\"bgcolor\":\"white\",\"lakecolor\":\"white\",\"landcolor\":\"#E5ECF6\",\"showlakes\":true,\"showland\":true,\"subunitcolor\":\"white\"},\"hoverlabel\":{\"align\":\"left\"},\"hovermode\":\"closest\",\"mapbox\":{\"style\":\"light\"},\"paper_bgcolor\":\"white\",\"plot_bgcolor\":\"#E5ECF6\",\"polar\":{\"angularaxis\":{\"gridcolor\":\"white\",\"linecolor\":\"white\",\"ticks\":\"\"},\"bgcolor\":\"#E5ECF6\",\"radialaxis\":{\"gridcolor\":\"white\",\"linecolor\":\"white\",\"ticks\":\"\"}},\"scene\":{\"xaxis\":{\"backgroundcolor\":\"#E5ECF6\",\"gridcolor\":\"white\",\"gridwidth\":2,\"linecolor\":\"white\",\"showbackground\":true,\"ticks\":\"\",\"zerolinecolor\":\"white\"},\"yaxis\":{\"backgroundcolor\":\"#E5ECF6\",\"gridcolor\":\"white\",\"gridwidth\":2,\"linecolor\":\"white\",\"showbackground\":true,\"ticks\":\"\",\"zerolinecolor\":\"white\"},\"zaxis\":{\"backgroundcolor\":\"#E5ECF6\",\"gridcolor\":\"white\",\"gridwidth\":2,\"linecolor\":\"white\",\"showbackground\":true,\"ticks\":\"\",\"zerolinecolor\":\"white\"}},\"shapedefaults\":{\"line\":{\"color\":\"#2a3f5f\"}},\"ternary\":{\"aaxis\":{\"gridcolor\":\"white\",\"linecolor\":\"white\",\"ticks\":\"\"},\"baxis\":{\"gridcolor\":\"white\",\"linecolor\":\"white\",\"ticks\":\"\"},\"bgcolor\":\"#E5ECF6\",\"caxis\":{\"gridcolor\":\"white\",\"linecolor\":\"white\",\"ticks\":\"\"}},\"title\":{\"x\":0.05},\"xaxis\":{\"automargin\":true,\"gridcolor\":\"white\",\"linecolor\":\"white\",\"ticks\":\"\",\"title\":{\"standoff\":15},\"zerolinecolor\":\"white\",\"zerolinewidth\":2},\"yaxis\":{\"automargin\":true,\"gridcolor\":\"white\",\"linecolor\":\"white\",\"ticks\":\"\",\"title\":{\"standoff\":15},\"zerolinecolor\":\"white\",\"zerolinewidth\":2}}},\"width\":800,\"xaxis\":{\"anchor\":\"y\",\"domain\":[0.0,1.0],\"title\":{\"text\":\"Data\"}},\"yaxis\":{\"anchor\":\"x\",\"domain\":[0.0,1.0],\"title\":{\"text\":\"Total gasto pelo clientes\"}}},                        {\"responsive\": true}                    ).then(function(){\n",
       "                            \n",
       "var gd = document.getElementById('fce671f2-c8b1-4d3c-bfd2-3bd1dbf8360f');\n",
       "var x = new MutationObserver(function (mutations, observer) {{\n",
       "        var display = window.getComputedStyle(gd).display;\n",
       "        if (!display || display === 'none') {{\n",
       "            console.log([gd, 'removed!']);\n",
       "            Plotly.purge(gd);\n",
       "            observer.disconnect();\n",
       "        }}\n",
       "}});\n",
       "\n",
       "// Listen for the removal of the full notebook cells\n",
       "var notebookContainer = gd.closest('#notebook-container');\n",
       "if (notebookContainer) {{\n",
       "    x.observe(notebookContainer, {childList: true});\n",
       "}}\n",
       "\n",
       "// Listen for the clearing of the current output cell\n",
       "var outputEl = gd.closest('.output');\n",
       "if (outputEl) {{\n",
       "    x.observe(outputEl, {childList: true});\n",
       "}}\n",
       "\n",
       "                        })                };                });            </script>        </div>"
      ]
     },
     "metadata": {},
     "output_type": "display_data"
    }
   ],
   "source": [
    "venda_produtos_cliente_qt_grup_temp = venda_produtos_cliente_qt.groupby(\"data\").sum().sort_values('data').reset_index()\n",
    "\n",
    "fig = px.line(venda_produtos_cliente_qt_grup_temp, x=\"data\", y=\"total_preco\", labels={\"data\": \"Data\", \"total_preco\": \"Total gasto pelo clientes\"}, height=500, width=800) \n",
    "\n",
    "fig.update_layout(\n",
    "                #criando anotções\n",
    "                annotations=[\n",
    "                        {\"x\":\"2021-11-08\", \"y\":1016.66, \"ay\": -40, \n",
    "                        \"text\": \"<b>Maior pico de vendas<br> em novembro</b>\",\n",
    "                        \"arrowhead\": 3, \"showarrow\":True,\n",
    "                        \"font\": {\"size\": 11}}\n",
    "                    ])\n",
    "fig.show()"
   ]
  },
  {
   "cell_type": "markdown",
   "id": "97f1a2ce",
   "metadata": {},
   "source": [
    "## Lucro"
   ]
  },
  {
   "cell_type": "code",
   "execution_count": 95,
   "id": "a87aa3da",
   "metadata": {},
   "outputs": [],
   "source": [
    "venda_produtos_cliente[\"lucro\"]=venda_produtos_cliente[\"preco\"]-venda_produtos_cliente[\"custo\"]"
   ]
  },
  {
   "cell_type": "code",
   "execution_count": 96,
   "id": "21eb629a",
   "metadata": {},
   "outputs": [],
   "source": [
    "venda_produtos_cliente_soma_lucros = venda_produtos_cliente.groupby(\"data\").sum().sort_values('data').reset_index()\n",
    "\n",
    "df_acougue=venda_produtos_cliente[venda_produtos_cliente[\"secao\"]=='Açougue']\n",
    "df_acougue_lucros = df_acougue.groupby(\"data\").sum().sort_values('data').reset_index()\n",
    "\n",
    "df_frutas_e_verduras=venda_produtos_cliente[venda_produtos_cliente[\"secao\"]=='Alimentos em Geral']\n",
    "df_frutas_e_verduras_lucros = df_frutas_e_verduras.groupby(\"data\").sum().sort_values('data').reset_index()\n",
    "\n",
    "df_padaria=venda_produtos_cliente[venda_produtos_cliente[\"secao\"]=='Padaria']\n",
    "df_padaria_lucros = df_padaria.groupby(\"data\").sum().sort_values('data').reset_index()\n",
    "\n",
    "df_produtos_de_limpeza=venda_produtos_cliente[venda_produtos_cliente[\"secao\"]=='Produtos de limpeza']\n",
    "df_produtos_de_limpeza_lucros = df_produtos_de_limpeza.groupby(\"data\").sum().sort_values('data').reset_index()"
   ]
  },
  {
   "cell_type": "code",
   "execution_count": 97,
   "id": "23f431e1",
   "metadata": {},
   "outputs": [
    {
     "data": {
      "application/vnd.plotly.v1+json": {
       "config": {
        "plotlyServerURL": "https://plot.ly"
       },
       "data": [
        {
         "mode": "markers+lines",
         "name": "Lucro total",
         "type": "scatter",
         "x": [
          "2021-11-01",
          "2021-11-02",
          "2021-11-03",
          "2021-11-04",
          "2021-11-05",
          "2021-11-06",
          "2021-11-07",
          "2021-11-08",
          "2021-11-09",
          "2021-11-10",
          "2021-11-11",
          "2021-11-12",
          "2021-11-13",
          "2021-11-14",
          "2021-11-15",
          "2021-11-16",
          "2021-11-17",
          "2021-11-18",
          "2021-11-19",
          "2021-11-20",
          "2021-11-21",
          "2021-11-22",
          "2021-11-23",
          "2021-11-24",
          "2021-11-25",
          "2021-11-26",
          "2021-11-27",
          "2021-11-28",
          "2021-11-29",
          "2021-11-30"
         ],
         "y": [
          1040.2899999999981,
          1016.7899999999989,
          813.9799999999993,
          445.82000000000016,
          661.5099999999999,
          1347.6099999999985,
          734.7899999999994,
          622.9799999999996,
          778.1599999999992,
          883.9299999999994,
          1296.7699999999984,
          547.3999999999997,
          758.9099999999995,
          928.4799999999992,
          632.4099999999997,
          74.49999999999999,
          75.22999999999998,
          81.89,
          99.05999999999997,
          135.97,
          123.97999999999999,
          60.31999999999998,
          116.35999999999997,
          91.27999999999999,
          96.72999999999999,
          102.9,
          96.91000000000003,
          156.48999999999998,
          89.92,
          157.63
         ]
        },
        {
         "mode": "markers+lines",
         "name": "Lucro por dia no açougue",
         "type": "scatter",
         "x": [
          "2021-11-01",
          "2021-11-02",
          "2021-11-03",
          "2021-11-04",
          "2021-11-05",
          "2021-11-06",
          "2021-11-07",
          "2021-11-08",
          "2021-11-09",
          "2021-11-10",
          "2021-11-11",
          "2021-11-12",
          "2021-11-13",
          "2021-11-14",
          "2021-11-15",
          "2021-11-16",
          "2021-11-17",
          "2021-11-18",
          "2021-11-19",
          "2021-11-20",
          "2021-11-21",
          "2021-11-22",
          "2021-11-23",
          "2021-11-24",
          "2021-11-25",
          "2021-11-26",
          "2021-11-27",
          "2021-11-28",
          "2021-11-29",
          "2021-11-30"
         ],
         "y": [
          620.4799999999998,
          602.99,
          387.7,
          214.46999999999997,
          308.55999999999995,
          616.5399999999998,
          374.19,
          365.18999999999994,
          358.90000000000003,
          434.69000000000005,
          615.0199999999998,
          257.94999999999993,
          417.51,
          353.90999999999997,
          244.64,
          51.109999999999985,
          61.93999999999998,
          37.04,
          64.4,
          81.92999999999998,
          60.28,
          56.80999999999999,
          50.30999999999999,
          40.56999999999999,
          42.719999999999985,
          65.67999999999999,
          83.13999999999999,
          112.44999999999999,
          54.33999999999999,
          69.55999999999999
         ]
        },
        {
         "mode": "markers+lines",
         "name": "Lucro por dia na seção de frutas e verduras",
         "type": "scatter",
         "x": [
          "2021-11-01",
          "2021-11-02",
          "2021-11-03",
          "2021-11-04",
          "2021-11-05",
          "2021-11-06",
          "2021-11-07",
          "2021-11-08",
          "2021-11-09",
          "2021-11-10",
          "2021-11-11",
          "2021-11-12",
          "2021-11-13",
          "2021-11-14",
          "2021-11-15",
          "2021-11-16",
          "2021-11-17",
          "2021-11-18",
          "2021-11-19",
          "2021-11-20",
          "2021-11-21",
          "2021-11-22",
          "2021-11-23",
          "2021-11-24",
          "2021-11-25",
          "2021-11-26",
          "2021-11-27",
          "2021-11-28",
          "2021-11-29",
          "2021-11-30"
         ],
         "y": [
          52.690000000000026,
          64.98000000000003,
          53.13000000000001,
          40.93,
          53.13000000000002,
          122.55000000000003,
          56.92999999999999,
          31.93,
          74.14,
          104.80000000000004,
          77.20000000000002,
          53.33000000000001,
          75.25,
          87.40000000000003,
          23.859999999999992,
          -3.420000000000003,
          -4.620000000000003,
          7.610000000000001,
          6.959999999999999,
          16.41,
          16.54,
          -13.090000000000003,
          18.830000000000002,
          21.630000000000003,
          -8.260000000000002,
          21.040000000000003,
          -22.940000000000005,
          4.800000000000001,
          15.340000000000002,
          16.470000000000002
         ]
        },
        {
         "mode": "markers+lines",
         "name": "Lucro por dia na padaria",
         "type": "scatter",
         "x": [
          "2021-11-01",
          "2021-11-02",
          "2021-11-03",
          "2021-11-04",
          "2021-11-05",
          "2021-11-06",
          "2021-11-07",
          "2021-11-08",
          "2021-11-09",
          "2021-11-10",
          "2021-11-11",
          "2021-11-12",
          "2021-11-13",
          "2021-11-14",
          "2021-11-15",
          "2021-11-16",
          "2021-11-18",
          "2021-11-19",
          "2021-11-20",
          "2021-11-21",
          "2021-11-22",
          "2021-11-23",
          "2021-11-24",
          "2021-11-25",
          "2021-11-26",
          "2021-11-27",
          "2021-11-28",
          "2021-11-29",
          "2021-11-30"
         ],
         "y": [
          239.18999999999994,
          240.83000000000004,
          261.99999999999994,
          126.44999999999997,
          197.30999999999992,
          401.52,
          185.68999999999994,
          159.85,
          258.56,
          280.34,
          383.43000000000006,
          150.44000000000005,
          171.60999999999999,
          338.40000000000003,
          311.6700000000001,
          19.900000000000002,
          31.95,
          23.05,
          18.95,
          41.76,
          10.100000000000001,
          45.709999999999994,
          18.9,
          44.75999999999999,
          11.52,
          31.95,
          24.85,
          4.960000000000001,
          48.86
         ]
        },
        {
         "mode": "markers+lines",
         "name": "Lucro por dia na seção de limpezas",
         "type": "scatter",
         "x": [],
         "y": []
        }
       ],
       "layout": {
        "font": {
         "color": "black",
         "family": "Arial",
         "size": 14
        },
        "plot_bgcolor": "white",
        "template": {
         "data": {
          "bar": [
           {
            "error_x": {
             "color": "#2a3f5f"
            },
            "error_y": {
             "color": "#2a3f5f"
            },
            "marker": {
             "line": {
              "color": "#E5ECF6",
              "width": 0.5
             },
             "pattern": {
              "fillmode": "overlay",
              "size": 10,
              "solidity": 0.2
             }
            },
            "type": "bar"
           }
          ],
          "barpolar": [
           {
            "marker": {
             "line": {
              "color": "#E5ECF6",
              "width": 0.5
             },
             "pattern": {
              "fillmode": "overlay",
              "size": 10,
              "solidity": 0.2
             }
            },
            "type": "barpolar"
           }
          ],
          "carpet": [
           {
            "aaxis": {
             "endlinecolor": "#2a3f5f",
             "gridcolor": "white",
             "linecolor": "white",
             "minorgridcolor": "white",
             "startlinecolor": "#2a3f5f"
            },
            "baxis": {
             "endlinecolor": "#2a3f5f",
             "gridcolor": "white",
             "linecolor": "white",
             "minorgridcolor": "white",
             "startlinecolor": "#2a3f5f"
            },
            "type": "carpet"
           }
          ],
          "choropleth": [
           {
            "colorbar": {
             "outlinewidth": 0,
             "ticks": ""
            },
            "type": "choropleth"
           }
          ],
          "contour": [
           {
            "colorbar": {
             "outlinewidth": 0,
             "ticks": ""
            },
            "colorscale": [
             [
              0,
              "#0d0887"
             ],
             [
              0.1111111111111111,
              "#46039f"
             ],
             [
              0.2222222222222222,
              "#7201a8"
             ],
             [
              0.3333333333333333,
              "#9c179e"
             ],
             [
              0.4444444444444444,
              "#bd3786"
             ],
             [
              0.5555555555555556,
              "#d8576b"
             ],
             [
              0.6666666666666666,
              "#ed7953"
             ],
             [
              0.7777777777777778,
              "#fb9f3a"
             ],
             [
              0.8888888888888888,
              "#fdca26"
             ],
             [
              1,
              "#f0f921"
             ]
            ],
            "type": "contour"
           }
          ],
          "contourcarpet": [
           {
            "colorbar": {
             "outlinewidth": 0,
             "ticks": ""
            },
            "type": "contourcarpet"
           }
          ],
          "heatmap": [
           {
            "colorbar": {
             "outlinewidth": 0,
             "ticks": ""
            },
            "colorscale": [
             [
              0,
              "#0d0887"
             ],
             [
              0.1111111111111111,
              "#46039f"
             ],
             [
              0.2222222222222222,
              "#7201a8"
             ],
             [
              0.3333333333333333,
              "#9c179e"
             ],
             [
              0.4444444444444444,
              "#bd3786"
             ],
             [
              0.5555555555555556,
              "#d8576b"
             ],
             [
              0.6666666666666666,
              "#ed7953"
             ],
             [
              0.7777777777777778,
              "#fb9f3a"
             ],
             [
              0.8888888888888888,
              "#fdca26"
             ],
             [
              1,
              "#f0f921"
             ]
            ],
            "type": "heatmap"
           }
          ],
          "heatmapgl": [
           {
            "colorbar": {
             "outlinewidth": 0,
             "ticks": ""
            },
            "colorscale": [
             [
              0,
              "#0d0887"
             ],
             [
              0.1111111111111111,
              "#46039f"
             ],
             [
              0.2222222222222222,
              "#7201a8"
             ],
             [
              0.3333333333333333,
              "#9c179e"
             ],
             [
              0.4444444444444444,
              "#bd3786"
             ],
             [
              0.5555555555555556,
              "#d8576b"
             ],
             [
              0.6666666666666666,
              "#ed7953"
             ],
             [
              0.7777777777777778,
              "#fb9f3a"
             ],
             [
              0.8888888888888888,
              "#fdca26"
             ],
             [
              1,
              "#f0f921"
             ]
            ],
            "type": "heatmapgl"
           }
          ],
          "histogram": [
           {
            "marker": {
             "pattern": {
              "fillmode": "overlay",
              "size": 10,
              "solidity": 0.2
             }
            },
            "type": "histogram"
           }
          ],
          "histogram2d": [
           {
            "colorbar": {
             "outlinewidth": 0,
             "ticks": ""
            },
            "colorscale": [
             [
              0,
              "#0d0887"
             ],
             [
              0.1111111111111111,
              "#46039f"
             ],
             [
              0.2222222222222222,
              "#7201a8"
             ],
             [
              0.3333333333333333,
              "#9c179e"
             ],
             [
              0.4444444444444444,
              "#bd3786"
             ],
             [
              0.5555555555555556,
              "#d8576b"
             ],
             [
              0.6666666666666666,
              "#ed7953"
             ],
             [
              0.7777777777777778,
              "#fb9f3a"
             ],
             [
              0.8888888888888888,
              "#fdca26"
             ],
             [
              1,
              "#f0f921"
             ]
            ],
            "type": "histogram2d"
           }
          ],
          "histogram2dcontour": [
           {
            "colorbar": {
             "outlinewidth": 0,
             "ticks": ""
            },
            "colorscale": [
             [
              0,
              "#0d0887"
             ],
             [
              0.1111111111111111,
              "#46039f"
             ],
             [
              0.2222222222222222,
              "#7201a8"
             ],
             [
              0.3333333333333333,
              "#9c179e"
             ],
             [
              0.4444444444444444,
              "#bd3786"
             ],
             [
              0.5555555555555556,
              "#d8576b"
             ],
             [
              0.6666666666666666,
              "#ed7953"
             ],
             [
              0.7777777777777778,
              "#fb9f3a"
             ],
             [
              0.8888888888888888,
              "#fdca26"
             ],
             [
              1,
              "#f0f921"
             ]
            ],
            "type": "histogram2dcontour"
           }
          ],
          "mesh3d": [
           {
            "colorbar": {
             "outlinewidth": 0,
             "ticks": ""
            },
            "type": "mesh3d"
           }
          ],
          "parcoords": [
           {
            "line": {
             "colorbar": {
              "outlinewidth": 0,
              "ticks": ""
             }
            },
            "type": "parcoords"
           }
          ],
          "pie": [
           {
            "automargin": true,
            "type": "pie"
           }
          ],
          "scatter": [
           {
            "marker": {
             "colorbar": {
              "outlinewidth": 0,
              "ticks": ""
             }
            },
            "type": "scatter"
           }
          ],
          "scatter3d": [
           {
            "line": {
             "colorbar": {
              "outlinewidth": 0,
              "ticks": ""
             }
            },
            "marker": {
             "colorbar": {
              "outlinewidth": 0,
              "ticks": ""
             }
            },
            "type": "scatter3d"
           }
          ],
          "scattercarpet": [
           {
            "marker": {
             "colorbar": {
              "outlinewidth": 0,
              "ticks": ""
             }
            },
            "type": "scattercarpet"
           }
          ],
          "scattergeo": [
           {
            "marker": {
             "colorbar": {
              "outlinewidth": 0,
              "ticks": ""
             }
            },
            "type": "scattergeo"
           }
          ],
          "scattergl": [
           {
            "marker": {
             "colorbar": {
              "outlinewidth": 0,
              "ticks": ""
             }
            },
            "type": "scattergl"
           }
          ],
          "scattermapbox": [
           {
            "marker": {
             "colorbar": {
              "outlinewidth": 0,
              "ticks": ""
             }
            },
            "type": "scattermapbox"
           }
          ],
          "scatterpolar": [
           {
            "marker": {
             "colorbar": {
              "outlinewidth": 0,
              "ticks": ""
             }
            },
            "type": "scatterpolar"
           }
          ],
          "scatterpolargl": [
           {
            "marker": {
             "colorbar": {
              "outlinewidth": 0,
              "ticks": ""
             }
            },
            "type": "scatterpolargl"
           }
          ],
          "scatterternary": [
           {
            "marker": {
             "colorbar": {
              "outlinewidth": 0,
              "ticks": ""
             }
            },
            "type": "scatterternary"
           }
          ],
          "surface": [
           {
            "colorbar": {
             "outlinewidth": 0,
             "ticks": ""
            },
            "colorscale": [
             [
              0,
              "#0d0887"
             ],
             [
              0.1111111111111111,
              "#46039f"
             ],
             [
              0.2222222222222222,
              "#7201a8"
             ],
             [
              0.3333333333333333,
              "#9c179e"
             ],
             [
              0.4444444444444444,
              "#bd3786"
             ],
             [
              0.5555555555555556,
              "#d8576b"
             ],
             [
              0.6666666666666666,
              "#ed7953"
             ],
             [
              0.7777777777777778,
              "#fb9f3a"
             ],
             [
              0.8888888888888888,
              "#fdca26"
             ],
             [
              1,
              "#f0f921"
             ]
            ],
            "type": "surface"
           }
          ],
          "table": [
           {
            "cells": {
             "fill": {
              "color": "#EBF0F8"
             },
             "line": {
              "color": "white"
             }
            },
            "header": {
             "fill": {
              "color": "#C8D4E3"
             },
             "line": {
              "color": "white"
             }
            },
            "type": "table"
           }
          ]
         },
         "layout": {
          "annotationdefaults": {
           "arrowcolor": "#2a3f5f",
           "arrowhead": 0,
           "arrowwidth": 1
          },
          "autotypenumbers": "strict",
          "coloraxis": {
           "colorbar": {
            "outlinewidth": 0,
            "ticks": ""
           }
          },
          "colorscale": {
           "diverging": [
            [
             0,
             "#8e0152"
            ],
            [
             0.1,
             "#c51b7d"
            ],
            [
             0.2,
             "#de77ae"
            ],
            [
             0.3,
             "#f1b6da"
            ],
            [
             0.4,
             "#fde0ef"
            ],
            [
             0.5,
             "#f7f7f7"
            ],
            [
             0.6,
             "#e6f5d0"
            ],
            [
             0.7,
             "#b8e186"
            ],
            [
             0.8,
             "#7fbc41"
            ],
            [
             0.9,
             "#4d9221"
            ],
            [
             1,
             "#276419"
            ]
           ],
           "sequential": [
            [
             0,
             "#0d0887"
            ],
            [
             0.1111111111111111,
             "#46039f"
            ],
            [
             0.2222222222222222,
             "#7201a8"
            ],
            [
             0.3333333333333333,
             "#9c179e"
            ],
            [
             0.4444444444444444,
             "#bd3786"
            ],
            [
             0.5555555555555556,
             "#d8576b"
            ],
            [
             0.6666666666666666,
             "#ed7953"
            ],
            [
             0.7777777777777778,
             "#fb9f3a"
            ],
            [
             0.8888888888888888,
             "#fdca26"
            ],
            [
             1,
             "#f0f921"
            ]
           ],
           "sequentialminus": [
            [
             0,
             "#0d0887"
            ],
            [
             0.1111111111111111,
             "#46039f"
            ],
            [
             0.2222222222222222,
             "#7201a8"
            ],
            [
             0.3333333333333333,
             "#9c179e"
            ],
            [
             0.4444444444444444,
             "#bd3786"
            ],
            [
             0.5555555555555556,
             "#d8576b"
            ],
            [
             0.6666666666666666,
             "#ed7953"
            ],
            [
             0.7777777777777778,
             "#fb9f3a"
            ],
            [
             0.8888888888888888,
             "#fdca26"
            ],
            [
             1,
             "#f0f921"
            ]
           ]
          },
          "colorway": [
           "#636efa",
           "#EF553B",
           "#00cc96",
           "#ab63fa",
           "#FFA15A",
           "#19d3f3",
           "#FF6692",
           "#B6E880",
           "#FF97FF",
           "#FECB52"
          ],
          "font": {
           "color": "#2a3f5f"
          },
          "geo": {
           "bgcolor": "white",
           "lakecolor": "white",
           "landcolor": "#E5ECF6",
           "showlakes": true,
           "showland": true,
           "subunitcolor": "white"
          },
          "hoverlabel": {
           "align": "left"
          },
          "hovermode": "closest",
          "mapbox": {
           "style": "light"
          },
          "paper_bgcolor": "white",
          "plot_bgcolor": "#E5ECF6",
          "polar": {
           "angularaxis": {
            "gridcolor": "white",
            "linecolor": "white",
            "ticks": ""
           },
           "bgcolor": "#E5ECF6",
           "radialaxis": {
            "gridcolor": "white",
            "linecolor": "white",
            "ticks": ""
           }
          },
          "scene": {
           "xaxis": {
            "backgroundcolor": "#E5ECF6",
            "gridcolor": "white",
            "gridwidth": 2,
            "linecolor": "white",
            "showbackground": true,
            "ticks": "",
            "zerolinecolor": "white"
           },
           "yaxis": {
            "backgroundcolor": "#E5ECF6",
            "gridcolor": "white",
            "gridwidth": 2,
            "linecolor": "white",
            "showbackground": true,
            "ticks": "",
            "zerolinecolor": "white"
           },
           "zaxis": {
            "backgroundcolor": "#E5ECF6",
            "gridcolor": "white",
            "gridwidth": 2,
            "linecolor": "white",
            "showbackground": true,
            "ticks": "",
            "zerolinecolor": "white"
           }
          },
          "shapedefaults": {
           "line": {
            "color": "#2a3f5f"
           }
          },
          "ternary": {
           "aaxis": {
            "gridcolor": "white",
            "linecolor": "white",
            "ticks": ""
           },
           "baxis": {
            "gridcolor": "white",
            "linecolor": "white",
            "ticks": ""
           },
           "bgcolor": "#E5ECF6",
           "caxis": {
            "gridcolor": "white",
            "linecolor": "white",
            "ticks": ""
           }
          },
          "title": {
           "x": 0.05
          },
          "xaxis": {
           "automargin": true,
           "gridcolor": "white",
           "linecolor": "white",
           "ticks": "",
           "title": {
            "standoff": 15
           },
           "zerolinecolor": "white",
           "zerolinewidth": 2
          },
          "yaxis": {
           "automargin": true,
           "gridcolor": "white",
           "linecolor": "white",
           "ticks": "",
           "title": {
            "standoff": 15
           },
           "zerolinecolor": "white",
           "zerolinewidth": 2
          }
         }
        },
        "title": {
         "text": "Lucro por seção no mês de novembro"
        },
        "xaxis": {
         "gridcolor": "lightgray",
         "gridwidth": 1,
         "linecolor": "black",
         "linewidth": 1,
         "showgrid": true,
         "showline": true,
         "title": {
          "text": "Data"
         }
        },
        "yaxis": {
         "gridcolor": "lightgray",
         "gridwidth": 1,
         "linecolor": "black",
         "linewidth": 1,
         "showgrid": true,
         "showline": true,
         "title": {
          "text": "Lucro"
         }
        }
       }
      },
      "text/html": [
       "<div>                            <div id=\"5714faff-4199-4cb7-b2dd-1b57514a4bee\" class=\"plotly-graph-div\" style=\"height:525px; width:100%;\"></div>            <script type=\"text/javascript\">                require([\"plotly\"], function(Plotly) {                    window.PLOTLYENV=window.PLOTLYENV || {};                                    if (document.getElementById(\"5714faff-4199-4cb7-b2dd-1b57514a4bee\")) {                    Plotly.newPlot(                        \"5714faff-4199-4cb7-b2dd-1b57514a4bee\",                        [{\"mode\":\"markers+lines\",\"name\":\"Lucro total\",\"type\":\"scatter\",\"x\":[\"2021-11-01\",\"2021-11-02\",\"2021-11-03\",\"2021-11-04\",\"2021-11-05\",\"2021-11-06\",\"2021-11-07\",\"2021-11-08\",\"2021-11-09\",\"2021-11-10\",\"2021-11-11\",\"2021-11-12\",\"2021-11-13\",\"2021-11-14\",\"2021-11-15\",\"2021-11-16\",\"2021-11-17\",\"2021-11-18\",\"2021-11-19\",\"2021-11-20\",\"2021-11-21\",\"2021-11-22\",\"2021-11-23\",\"2021-11-24\",\"2021-11-25\",\"2021-11-26\",\"2021-11-27\",\"2021-11-28\",\"2021-11-29\",\"2021-11-30\"],\"y\":[1040.2899999999981,1016.7899999999989,813.9799999999993,445.82000000000016,661.5099999999999,1347.6099999999985,734.7899999999994,622.9799999999996,778.1599999999992,883.9299999999994,1296.7699999999984,547.3999999999997,758.9099999999995,928.4799999999992,632.4099999999997,74.49999999999999,75.22999999999998,81.89,99.05999999999997,135.97,123.97999999999999,60.31999999999998,116.35999999999997,91.27999999999999,96.72999999999999,102.9,96.91000000000003,156.48999999999998,89.92,157.63]},{\"mode\":\"markers+lines\",\"name\":\"Lucro por dia no a\\u00e7ougue\",\"type\":\"scatter\",\"x\":[\"2021-11-01\",\"2021-11-02\",\"2021-11-03\",\"2021-11-04\",\"2021-11-05\",\"2021-11-06\",\"2021-11-07\",\"2021-11-08\",\"2021-11-09\",\"2021-11-10\",\"2021-11-11\",\"2021-11-12\",\"2021-11-13\",\"2021-11-14\",\"2021-11-15\",\"2021-11-16\",\"2021-11-17\",\"2021-11-18\",\"2021-11-19\",\"2021-11-20\",\"2021-11-21\",\"2021-11-22\",\"2021-11-23\",\"2021-11-24\",\"2021-11-25\",\"2021-11-26\",\"2021-11-27\",\"2021-11-28\",\"2021-11-29\",\"2021-11-30\"],\"y\":[620.4799999999998,602.99,387.7,214.46999999999997,308.55999999999995,616.5399999999998,374.19,365.18999999999994,358.90000000000003,434.69000000000005,615.0199999999998,257.94999999999993,417.51,353.90999999999997,244.64,51.109999999999985,61.93999999999998,37.04,64.4,81.92999999999998,60.28,56.80999999999999,50.30999999999999,40.56999999999999,42.719999999999985,65.67999999999999,83.13999999999999,112.44999999999999,54.33999999999999,69.55999999999999]},{\"mode\":\"markers+lines\",\"name\":\"Lucro por dia na se\\u00e7\\u00e3o de frutas e verduras\",\"type\":\"scatter\",\"x\":[\"2021-11-01\",\"2021-11-02\",\"2021-11-03\",\"2021-11-04\",\"2021-11-05\",\"2021-11-06\",\"2021-11-07\",\"2021-11-08\",\"2021-11-09\",\"2021-11-10\",\"2021-11-11\",\"2021-11-12\",\"2021-11-13\",\"2021-11-14\",\"2021-11-15\",\"2021-11-16\",\"2021-11-17\",\"2021-11-18\",\"2021-11-19\",\"2021-11-20\",\"2021-11-21\",\"2021-11-22\",\"2021-11-23\",\"2021-11-24\",\"2021-11-25\",\"2021-11-26\",\"2021-11-27\",\"2021-11-28\",\"2021-11-29\",\"2021-11-30\"],\"y\":[52.690000000000026,64.98000000000003,53.13000000000001,40.93,53.13000000000002,122.55000000000003,56.92999999999999,31.93,74.14,104.80000000000004,77.20000000000002,53.33000000000001,75.25,87.40000000000003,23.859999999999992,-3.420000000000003,-4.620000000000003,7.610000000000001,6.959999999999999,16.41,16.54,-13.090000000000003,18.830000000000002,21.630000000000003,-8.260000000000002,21.040000000000003,-22.940000000000005,4.800000000000001,15.340000000000002,16.470000000000002]},{\"mode\":\"markers+lines\",\"name\":\"Lucro por dia na padaria\",\"type\":\"scatter\",\"x\":[\"2021-11-01\",\"2021-11-02\",\"2021-11-03\",\"2021-11-04\",\"2021-11-05\",\"2021-11-06\",\"2021-11-07\",\"2021-11-08\",\"2021-11-09\",\"2021-11-10\",\"2021-11-11\",\"2021-11-12\",\"2021-11-13\",\"2021-11-14\",\"2021-11-15\",\"2021-11-16\",\"2021-11-18\",\"2021-11-19\",\"2021-11-20\",\"2021-11-21\",\"2021-11-22\",\"2021-11-23\",\"2021-11-24\",\"2021-11-25\",\"2021-11-26\",\"2021-11-27\",\"2021-11-28\",\"2021-11-29\",\"2021-11-30\"],\"y\":[239.18999999999994,240.83000000000004,261.99999999999994,126.44999999999997,197.30999999999992,401.52,185.68999999999994,159.85,258.56,280.34,383.43000000000006,150.44000000000005,171.60999999999999,338.40000000000003,311.6700000000001,19.900000000000002,31.95,23.05,18.95,41.76,10.100000000000001,45.709999999999994,18.9,44.75999999999999,11.52,31.95,24.85,4.960000000000001,48.86]},{\"mode\":\"markers+lines\",\"name\":\"Lucro por dia na se\\u00e7\\u00e3o de limpezas\",\"type\":\"scatter\",\"x\":[],\"y\":[]}],                        {\"font\":{\"color\":\"black\",\"family\":\"Arial\",\"size\":14},\"plot_bgcolor\":\"white\",\"template\":{\"data\":{\"bar\":[{\"error_x\":{\"color\":\"#2a3f5f\"},\"error_y\":{\"color\":\"#2a3f5f\"},\"marker\":{\"line\":{\"color\":\"#E5ECF6\",\"width\":0.5},\"pattern\":{\"fillmode\":\"overlay\",\"size\":10,\"solidity\":0.2}},\"type\":\"bar\"}],\"barpolar\":[{\"marker\":{\"line\":{\"color\":\"#E5ECF6\",\"width\":0.5},\"pattern\":{\"fillmode\":\"overlay\",\"size\":10,\"solidity\":0.2}},\"type\":\"barpolar\"}],\"carpet\":[{\"aaxis\":{\"endlinecolor\":\"#2a3f5f\",\"gridcolor\":\"white\",\"linecolor\":\"white\",\"minorgridcolor\":\"white\",\"startlinecolor\":\"#2a3f5f\"},\"baxis\":{\"endlinecolor\":\"#2a3f5f\",\"gridcolor\":\"white\",\"linecolor\":\"white\",\"minorgridcolor\":\"white\",\"startlinecolor\":\"#2a3f5f\"},\"type\":\"carpet\"}],\"choropleth\":[{\"colorbar\":{\"outlinewidth\":0,\"ticks\":\"\"},\"type\":\"choropleth\"}],\"contour\":[{\"colorbar\":{\"outlinewidth\":0,\"ticks\":\"\"},\"colorscale\":[[0.0,\"#0d0887\"],[0.1111111111111111,\"#46039f\"],[0.2222222222222222,\"#7201a8\"],[0.3333333333333333,\"#9c179e\"],[0.4444444444444444,\"#bd3786\"],[0.5555555555555556,\"#d8576b\"],[0.6666666666666666,\"#ed7953\"],[0.7777777777777778,\"#fb9f3a\"],[0.8888888888888888,\"#fdca26\"],[1.0,\"#f0f921\"]],\"type\":\"contour\"}],\"contourcarpet\":[{\"colorbar\":{\"outlinewidth\":0,\"ticks\":\"\"},\"type\":\"contourcarpet\"}],\"heatmap\":[{\"colorbar\":{\"outlinewidth\":0,\"ticks\":\"\"},\"colorscale\":[[0.0,\"#0d0887\"],[0.1111111111111111,\"#46039f\"],[0.2222222222222222,\"#7201a8\"],[0.3333333333333333,\"#9c179e\"],[0.4444444444444444,\"#bd3786\"],[0.5555555555555556,\"#d8576b\"],[0.6666666666666666,\"#ed7953\"],[0.7777777777777778,\"#fb9f3a\"],[0.8888888888888888,\"#fdca26\"],[1.0,\"#f0f921\"]],\"type\":\"heatmap\"}],\"heatmapgl\":[{\"colorbar\":{\"outlinewidth\":0,\"ticks\":\"\"},\"colorscale\":[[0.0,\"#0d0887\"],[0.1111111111111111,\"#46039f\"],[0.2222222222222222,\"#7201a8\"],[0.3333333333333333,\"#9c179e\"],[0.4444444444444444,\"#bd3786\"],[0.5555555555555556,\"#d8576b\"],[0.6666666666666666,\"#ed7953\"],[0.7777777777777778,\"#fb9f3a\"],[0.8888888888888888,\"#fdca26\"],[1.0,\"#f0f921\"]],\"type\":\"heatmapgl\"}],\"histogram\":[{\"marker\":{\"pattern\":{\"fillmode\":\"overlay\",\"size\":10,\"solidity\":0.2}},\"type\":\"histogram\"}],\"histogram2d\":[{\"colorbar\":{\"outlinewidth\":0,\"ticks\":\"\"},\"colorscale\":[[0.0,\"#0d0887\"],[0.1111111111111111,\"#46039f\"],[0.2222222222222222,\"#7201a8\"],[0.3333333333333333,\"#9c179e\"],[0.4444444444444444,\"#bd3786\"],[0.5555555555555556,\"#d8576b\"],[0.6666666666666666,\"#ed7953\"],[0.7777777777777778,\"#fb9f3a\"],[0.8888888888888888,\"#fdca26\"],[1.0,\"#f0f921\"]],\"type\":\"histogram2d\"}],\"histogram2dcontour\":[{\"colorbar\":{\"outlinewidth\":0,\"ticks\":\"\"},\"colorscale\":[[0.0,\"#0d0887\"],[0.1111111111111111,\"#46039f\"],[0.2222222222222222,\"#7201a8\"],[0.3333333333333333,\"#9c179e\"],[0.4444444444444444,\"#bd3786\"],[0.5555555555555556,\"#d8576b\"],[0.6666666666666666,\"#ed7953\"],[0.7777777777777778,\"#fb9f3a\"],[0.8888888888888888,\"#fdca26\"],[1.0,\"#f0f921\"]],\"type\":\"histogram2dcontour\"}],\"mesh3d\":[{\"colorbar\":{\"outlinewidth\":0,\"ticks\":\"\"},\"type\":\"mesh3d\"}],\"parcoords\":[{\"line\":{\"colorbar\":{\"outlinewidth\":0,\"ticks\":\"\"}},\"type\":\"parcoords\"}],\"pie\":[{\"automargin\":true,\"type\":\"pie\"}],\"scatter\":[{\"marker\":{\"colorbar\":{\"outlinewidth\":0,\"ticks\":\"\"}},\"type\":\"scatter\"}],\"scatter3d\":[{\"line\":{\"colorbar\":{\"outlinewidth\":0,\"ticks\":\"\"}},\"marker\":{\"colorbar\":{\"outlinewidth\":0,\"ticks\":\"\"}},\"type\":\"scatter3d\"}],\"scattercarpet\":[{\"marker\":{\"colorbar\":{\"outlinewidth\":0,\"ticks\":\"\"}},\"type\":\"scattercarpet\"}],\"scattergeo\":[{\"marker\":{\"colorbar\":{\"outlinewidth\":0,\"ticks\":\"\"}},\"type\":\"scattergeo\"}],\"scattergl\":[{\"marker\":{\"colorbar\":{\"outlinewidth\":0,\"ticks\":\"\"}},\"type\":\"scattergl\"}],\"scattermapbox\":[{\"marker\":{\"colorbar\":{\"outlinewidth\":0,\"ticks\":\"\"}},\"type\":\"scattermapbox\"}],\"scatterpolar\":[{\"marker\":{\"colorbar\":{\"outlinewidth\":0,\"ticks\":\"\"}},\"type\":\"scatterpolar\"}],\"scatterpolargl\":[{\"marker\":{\"colorbar\":{\"outlinewidth\":0,\"ticks\":\"\"}},\"type\":\"scatterpolargl\"}],\"scatterternary\":[{\"marker\":{\"colorbar\":{\"outlinewidth\":0,\"ticks\":\"\"}},\"type\":\"scatterternary\"}],\"surface\":[{\"colorbar\":{\"outlinewidth\":0,\"ticks\":\"\"},\"colorscale\":[[0.0,\"#0d0887\"],[0.1111111111111111,\"#46039f\"],[0.2222222222222222,\"#7201a8\"],[0.3333333333333333,\"#9c179e\"],[0.4444444444444444,\"#bd3786\"],[0.5555555555555556,\"#d8576b\"],[0.6666666666666666,\"#ed7953\"],[0.7777777777777778,\"#fb9f3a\"],[0.8888888888888888,\"#fdca26\"],[1.0,\"#f0f921\"]],\"type\":\"surface\"}],\"table\":[{\"cells\":{\"fill\":{\"color\":\"#EBF0F8\"},\"line\":{\"color\":\"white\"}},\"header\":{\"fill\":{\"color\":\"#C8D4E3\"},\"line\":{\"color\":\"white\"}},\"type\":\"table\"}]},\"layout\":{\"annotationdefaults\":{\"arrowcolor\":\"#2a3f5f\",\"arrowhead\":0,\"arrowwidth\":1},\"autotypenumbers\":\"strict\",\"coloraxis\":{\"colorbar\":{\"outlinewidth\":0,\"ticks\":\"\"}},\"colorscale\":{\"diverging\":[[0,\"#8e0152\"],[0.1,\"#c51b7d\"],[0.2,\"#de77ae\"],[0.3,\"#f1b6da\"],[0.4,\"#fde0ef\"],[0.5,\"#f7f7f7\"],[0.6,\"#e6f5d0\"],[0.7,\"#b8e186\"],[0.8,\"#7fbc41\"],[0.9,\"#4d9221\"],[1,\"#276419\"]],\"sequential\":[[0.0,\"#0d0887\"],[0.1111111111111111,\"#46039f\"],[0.2222222222222222,\"#7201a8\"],[0.3333333333333333,\"#9c179e\"],[0.4444444444444444,\"#bd3786\"],[0.5555555555555556,\"#d8576b\"],[0.6666666666666666,\"#ed7953\"],[0.7777777777777778,\"#fb9f3a\"],[0.8888888888888888,\"#fdca26\"],[1.0,\"#f0f921\"]],\"sequentialminus\":[[0.0,\"#0d0887\"],[0.1111111111111111,\"#46039f\"],[0.2222222222222222,\"#7201a8\"],[0.3333333333333333,\"#9c179e\"],[0.4444444444444444,\"#bd3786\"],[0.5555555555555556,\"#d8576b\"],[0.6666666666666666,\"#ed7953\"],[0.7777777777777778,\"#fb9f3a\"],[0.8888888888888888,\"#fdca26\"],[1.0,\"#f0f921\"]]},\"colorway\":[\"#636efa\",\"#EF553B\",\"#00cc96\",\"#ab63fa\",\"#FFA15A\",\"#19d3f3\",\"#FF6692\",\"#B6E880\",\"#FF97FF\",\"#FECB52\"],\"font\":{\"color\":\"#2a3f5f\"},\"geo\":{\"bgcolor\":\"white\",\"lakecolor\":\"white\",\"landcolor\":\"#E5ECF6\",\"showlakes\":true,\"showland\":true,\"subunitcolor\":\"white\"},\"hoverlabel\":{\"align\":\"left\"},\"hovermode\":\"closest\",\"mapbox\":{\"style\":\"light\"},\"paper_bgcolor\":\"white\",\"plot_bgcolor\":\"#E5ECF6\",\"polar\":{\"angularaxis\":{\"gridcolor\":\"white\",\"linecolor\":\"white\",\"ticks\":\"\"},\"bgcolor\":\"#E5ECF6\",\"radialaxis\":{\"gridcolor\":\"white\",\"linecolor\":\"white\",\"ticks\":\"\"}},\"scene\":{\"xaxis\":{\"backgroundcolor\":\"#E5ECF6\",\"gridcolor\":\"white\",\"gridwidth\":2,\"linecolor\":\"white\",\"showbackground\":true,\"ticks\":\"\",\"zerolinecolor\":\"white\"},\"yaxis\":{\"backgroundcolor\":\"#E5ECF6\",\"gridcolor\":\"white\",\"gridwidth\":2,\"linecolor\":\"white\",\"showbackground\":true,\"ticks\":\"\",\"zerolinecolor\":\"white\"},\"zaxis\":{\"backgroundcolor\":\"#E5ECF6\",\"gridcolor\":\"white\",\"gridwidth\":2,\"linecolor\":\"white\",\"showbackground\":true,\"ticks\":\"\",\"zerolinecolor\":\"white\"}},\"shapedefaults\":{\"line\":{\"color\":\"#2a3f5f\"}},\"ternary\":{\"aaxis\":{\"gridcolor\":\"white\",\"linecolor\":\"white\",\"ticks\":\"\"},\"baxis\":{\"gridcolor\":\"white\",\"linecolor\":\"white\",\"ticks\":\"\"},\"bgcolor\":\"#E5ECF6\",\"caxis\":{\"gridcolor\":\"white\",\"linecolor\":\"white\",\"ticks\":\"\"}},\"title\":{\"x\":0.05},\"xaxis\":{\"automargin\":true,\"gridcolor\":\"white\",\"linecolor\":\"white\",\"ticks\":\"\",\"title\":{\"standoff\":15},\"zerolinecolor\":\"white\",\"zerolinewidth\":2},\"yaxis\":{\"automargin\":true,\"gridcolor\":\"white\",\"linecolor\":\"white\",\"ticks\":\"\",\"title\":{\"standoff\":15},\"zerolinecolor\":\"white\",\"zerolinewidth\":2}}},\"title\":{\"text\":\"Lucro por se\\u00e7\\u00e3o no m\\u00eas de novembro\"},\"xaxis\":{\"gridcolor\":\"lightgray\",\"gridwidth\":1,\"linecolor\":\"black\",\"linewidth\":1,\"showgrid\":true,\"showline\":true,\"title\":{\"text\":\"Data\"}},\"yaxis\":{\"gridcolor\":\"lightgray\",\"gridwidth\":1,\"linecolor\":\"black\",\"linewidth\":1,\"showgrid\":true,\"showline\":true,\"title\":{\"text\":\"Lucro\"}}},                        {\"responsive\": true}                    ).then(function(){\n",
       "                            \n",
       "var gd = document.getElementById('5714faff-4199-4cb7-b2dd-1b57514a4bee');\n",
       "var x = new MutationObserver(function (mutations, observer) {{\n",
       "        var display = window.getComputedStyle(gd).display;\n",
       "        if (!display || display === 'none') {{\n",
       "            console.log([gd, 'removed!']);\n",
       "            Plotly.purge(gd);\n",
       "            observer.disconnect();\n",
       "        }}\n",
       "}});\n",
       "\n",
       "// Listen for the removal of the full notebook cells\n",
       "var notebookContainer = gd.closest('#notebook-container');\n",
       "if (notebookContainer) {{\n",
       "    x.observe(notebookContainer, {childList: true});\n",
       "}}\n",
       "\n",
       "// Listen for the clearing of the current output cell\n",
       "var outputEl = gd.closest('.output');\n",
       "if (outputEl) {{\n",
       "    x.observe(outputEl, {childList: true});\n",
       "}}\n",
       "\n",
       "                        })                };                });            </script>        </div>"
      ]
     },
     "metadata": {},
     "output_type": "display_data"
    }
   ],
   "source": [
    "fig = go.Figure() # cria a figura que será plotada\n",
    "fig.add_trace(go.Scatter(x=venda_produtos_cliente_soma_lucros[\"data\"], y=venda_produtos_cliente_soma_lucros[\"lucro\"], \n",
    "              mode = 'markers+lines', name = 'Lucro total'))\n",
    "\n",
    "fig.add_trace(go.Scatter(x = df_acougue_lucros[\"data\"],\n",
    "                    y = df_acougue_lucros[\"lucro\"],\n",
    "                    mode = 'markers+lines',\n",
    "                    name = 'Lucro por dia no açougue')) \n",
    "\n",
    "\n",
    "fig.add_trace(go.Scatter(x = df_frutas_e_verduras_lucros[\"data\"],\n",
    "                    y = df_frutas_e_verduras_lucros[\"lucro\"],\n",
    "                    mode = 'markers+lines',\n",
    "                    name = 'Lucro por dia na seção de frutas e verduras'))\n",
    "\n",
    "\n",
    "fig.add_trace(go.Scatter(x = df_padaria_lucros[\"data\"],\n",
    "                    y = df_padaria_lucros[\"lucro\"],\n",
    "                    mode = 'markers+lines',\n",
    "                    name = 'Lucro por dia na padaria')) \n",
    "\n",
    "\n",
    "fig.add_trace(go.Scatter(x = df_produtos_de_limpeza_lucros[\"data\"],\n",
    "                    y = df_produtos_de_limpeza_lucros[\"lucro\"],\n",
    "                    mode = 'markers+lines',\n",
    "                    name = 'Lucro por dia na seção de limpezas')) \n",
    "\n",
    "fig.update_layout(title='Lucro por seção no mês de novembro',\n",
    "xaxis_title='Data',\n",
    "yaxis_title='Lucro',\n",
    "plot_bgcolor = 'white',\n",
    "font = {'family': 'Arial','size': 14,'color': 'black'})\n",
    "fig.update_xaxes( showgrid=True, gridwidth=1, gridcolor='lightgray',\n",
    "showline=True, linewidth=1, linecolor='black')\n",
    "fig.update_yaxes(showgrid=True, gridwidth=1, gridcolor='lightgray',\n",
    "showline=True, linewidth=1, linecolor='black')\n",
    "fig.show()"
   ]
  },
  {
   "cell_type": "code",
   "execution_count": 98,
   "id": "ffea88e2",
   "metadata": {},
   "outputs": [
    {
     "data": {
      "application/vnd.plotly.v1+json": {
       "config": {
        "plotlyServerURL": "https://plot.ly"
       },
       "data": [
        {
         "alignmentgroup": "True",
         "hovertemplate": "Seção=%{x}<br>Lucro=%{y}<extra></extra>",
         "legendgroup": "Açougue",
         "marker": {
          "color": "#636efa",
          "pattern": {
           "shape": ""
          }
         },
         "name": "Açougue",
         "offsetgroup": "Açougue",
         "orientation": "v",
         "showlegend": true,
         "textposition": "auto",
         "type": "bar",
         "x": [
          "Açougue"
         ],
         "xaxis": "x",
         "y": [
          7105.020000000037
         ],
         "yaxis": "y"
        },
        {
         "alignmentgroup": "True",
         "hovertemplate": "Seção=%{x}<br>Lucro=%{y}<extra></extra>",
         "legendgroup": "Padaria",
         "marker": {
          "color": "#EF553B",
          "pattern": {
           "shape": ""
          }
         },
         "name": "Padaria",
         "offsetgroup": "Padaria",
         "orientation": "v",
         "showlegend": true,
         "textposition": "auto",
         "type": "bar",
         "x": [
          "Padaria"
         ],
         "xaxis": "x",
         "y": [
          4084.5100000000034
         ],
         "yaxis": "y"
        },
        {
         "alignmentgroup": "True",
         "hovertemplate": "Seção=%{x}<br>Lucro=%{y}<extra></extra>",
         "legendgroup": "Produtos de Limpeza",
         "marker": {
          "color": "#00cc96",
          "pattern": {
           "shape": ""
          }
         },
         "name": "Produtos de Limpeza",
         "offsetgroup": "Produtos de Limpeza",
         "orientation": "v",
         "showlegend": true,
         "textposition": "auto",
         "type": "bar",
         "x": [
          "Produtos de Limpeza"
         ],
         "xaxis": "x",
         "y": [
          1813.9200000000033
         ],
         "yaxis": "y"
        },
        {
         "alignmentgroup": "True",
         "hovertemplate": "Seção=%{x}<br>Lucro=%{y}<extra></extra>",
         "legendgroup": "Alimentos em Geral",
         "marker": {
          "color": "#ab63fa",
          "pattern": {
           "shape": ""
          }
         },
         "name": "Alimentos em Geral",
         "offsetgroup": "Alimentos em Geral",
         "orientation": "v",
         "showlegend": true,
         "textposition": "auto",
         "type": "bar",
         "x": [
          "Alimentos em Geral"
         ],
         "xaxis": "x",
         "y": [
          1065.5499999999947
         ],
         "yaxis": "y"
        }
       ],
       "layout": {
        "barmode": "stack",
        "height": 500,
        "legend": {
         "title": {
          "text": "Seção"
         },
         "tracegroupgap": 0
        },
        "margin": {
         "t": 60
        },
        "template": {
         "data": {
          "bar": [
           {
            "error_x": {
             "color": "#2a3f5f"
            },
            "error_y": {
             "color": "#2a3f5f"
            },
            "marker": {
             "line": {
              "color": "#E5ECF6",
              "width": 0.5
             },
             "pattern": {
              "fillmode": "overlay",
              "size": 10,
              "solidity": 0.2
             }
            },
            "type": "bar"
           }
          ],
          "barpolar": [
           {
            "marker": {
             "line": {
              "color": "#E5ECF6",
              "width": 0.5
             },
             "pattern": {
              "fillmode": "overlay",
              "size": 10,
              "solidity": 0.2
             }
            },
            "type": "barpolar"
           }
          ],
          "carpet": [
           {
            "aaxis": {
             "endlinecolor": "#2a3f5f",
             "gridcolor": "white",
             "linecolor": "white",
             "minorgridcolor": "white",
             "startlinecolor": "#2a3f5f"
            },
            "baxis": {
             "endlinecolor": "#2a3f5f",
             "gridcolor": "white",
             "linecolor": "white",
             "minorgridcolor": "white",
             "startlinecolor": "#2a3f5f"
            },
            "type": "carpet"
           }
          ],
          "choropleth": [
           {
            "colorbar": {
             "outlinewidth": 0,
             "ticks": ""
            },
            "type": "choropleth"
           }
          ],
          "contour": [
           {
            "colorbar": {
             "outlinewidth": 0,
             "ticks": ""
            },
            "colorscale": [
             [
              0,
              "#0d0887"
             ],
             [
              0.1111111111111111,
              "#46039f"
             ],
             [
              0.2222222222222222,
              "#7201a8"
             ],
             [
              0.3333333333333333,
              "#9c179e"
             ],
             [
              0.4444444444444444,
              "#bd3786"
             ],
             [
              0.5555555555555556,
              "#d8576b"
             ],
             [
              0.6666666666666666,
              "#ed7953"
             ],
             [
              0.7777777777777778,
              "#fb9f3a"
             ],
             [
              0.8888888888888888,
              "#fdca26"
             ],
             [
              1,
              "#f0f921"
             ]
            ],
            "type": "contour"
           }
          ],
          "contourcarpet": [
           {
            "colorbar": {
             "outlinewidth": 0,
             "ticks": ""
            },
            "type": "contourcarpet"
           }
          ],
          "heatmap": [
           {
            "colorbar": {
             "outlinewidth": 0,
             "ticks": ""
            },
            "colorscale": [
             [
              0,
              "#0d0887"
             ],
             [
              0.1111111111111111,
              "#46039f"
             ],
             [
              0.2222222222222222,
              "#7201a8"
             ],
             [
              0.3333333333333333,
              "#9c179e"
             ],
             [
              0.4444444444444444,
              "#bd3786"
             ],
             [
              0.5555555555555556,
              "#d8576b"
             ],
             [
              0.6666666666666666,
              "#ed7953"
             ],
             [
              0.7777777777777778,
              "#fb9f3a"
             ],
             [
              0.8888888888888888,
              "#fdca26"
             ],
             [
              1,
              "#f0f921"
             ]
            ],
            "type": "heatmap"
           }
          ],
          "heatmapgl": [
           {
            "colorbar": {
             "outlinewidth": 0,
             "ticks": ""
            },
            "colorscale": [
             [
              0,
              "#0d0887"
             ],
             [
              0.1111111111111111,
              "#46039f"
             ],
             [
              0.2222222222222222,
              "#7201a8"
             ],
             [
              0.3333333333333333,
              "#9c179e"
             ],
             [
              0.4444444444444444,
              "#bd3786"
             ],
             [
              0.5555555555555556,
              "#d8576b"
             ],
             [
              0.6666666666666666,
              "#ed7953"
             ],
             [
              0.7777777777777778,
              "#fb9f3a"
             ],
             [
              0.8888888888888888,
              "#fdca26"
             ],
             [
              1,
              "#f0f921"
             ]
            ],
            "type": "heatmapgl"
           }
          ],
          "histogram": [
           {
            "marker": {
             "pattern": {
              "fillmode": "overlay",
              "size": 10,
              "solidity": 0.2
             }
            },
            "type": "histogram"
           }
          ],
          "histogram2d": [
           {
            "colorbar": {
             "outlinewidth": 0,
             "ticks": ""
            },
            "colorscale": [
             [
              0,
              "#0d0887"
             ],
             [
              0.1111111111111111,
              "#46039f"
             ],
             [
              0.2222222222222222,
              "#7201a8"
             ],
             [
              0.3333333333333333,
              "#9c179e"
             ],
             [
              0.4444444444444444,
              "#bd3786"
             ],
             [
              0.5555555555555556,
              "#d8576b"
             ],
             [
              0.6666666666666666,
              "#ed7953"
             ],
             [
              0.7777777777777778,
              "#fb9f3a"
             ],
             [
              0.8888888888888888,
              "#fdca26"
             ],
             [
              1,
              "#f0f921"
             ]
            ],
            "type": "histogram2d"
           }
          ],
          "histogram2dcontour": [
           {
            "colorbar": {
             "outlinewidth": 0,
             "ticks": ""
            },
            "colorscale": [
             [
              0,
              "#0d0887"
             ],
             [
              0.1111111111111111,
              "#46039f"
             ],
             [
              0.2222222222222222,
              "#7201a8"
             ],
             [
              0.3333333333333333,
              "#9c179e"
             ],
             [
              0.4444444444444444,
              "#bd3786"
             ],
             [
              0.5555555555555556,
              "#d8576b"
             ],
             [
              0.6666666666666666,
              "#ed7953"
             ],
             [
              0.7777777777777778,
              "#fb9f3a"
             ],
             [
              0.8888888888888888,
              "#fdca26"
             ],
             [
              1,
              "#f0f921"
             ]
            ],
            "type": "histogram2dcontour"
           }
          ],
          "mesh3d": [
           {
            "colorbar": {
             "outlinewidth": 0,
             "ticks": ""
            },
            "type": "mesh3d"
           }
          ],
          "parcoords": [
           {
            "line": {
             "colorbar": {
              "outlinewidth": 0,
              "ticks": ""
             }
            },
            "type": "parcoords"
           }
          ],
          "pie": [
           {
            "automargin": true,
            "type": "pie"
           }
          ],
          "scatter": [
           {
            "marker": {
             "colorbar": {
              "outlinewidth": 0,
              "ticks": ""
             }
            },
            "type": "scatter"
           }
          ],
          "scatter3d": [
           {
            "line": {
             "colorbar": {
              "outlinewidth": 0,
              "ticks": ""
             }
            },
            "marker": {
             "colorbar": {
              "outlinewidth": 0,
              "ticks": ""
             }
            },
            "type": "scatter3d"
           }
          ],
          "scattercarpet": [
           {
            "marker": {
             "colorbar": {
              "outlinewidth": 0,
              "ticks": ""
             }
            },
            "type": "scattercarpet"
           }
          ],
          "scattergeo": [
           {
            "marker": {
             "colorbar": {
              "outlinewidth": 0,
              "ticks": ""
             }
            },
            "type": "scattergeo"
           }
          ],
          "scattergl": [
           {
            "marker": {
             "colorbar": {
              "outlinewidth": 0,
              "ticks": ""
             }
            },
            "type": "scattergl"
           }
          ],
          "scattermapbox": [
           {
            "marker": {
             "colorbar": {
              "outlinewidth": 0,
              "ticks": ""
             }
            },
            "type": "scattermapbox"
           }
          ],
          "scatterpolar": [
           {
            "marker": {
             "colorbar": {
              "outlinewidth": 0,
              "ticks": ""
             }
            },
            "type": "scatterpolar"
           }
          ],
          "scatterpolargl": [
           {
            "marker": {
             "colorbar": {
              "outlinewidth": 0,
              "ticks": ""
             }
            },
            "type": "scatterpolargl"
           }
          ],
          "scatterternary": [
           {
            "marker": {
             "colorbar": {
              "outlinewidth": 0,
              "ticks": ""
             }
            },
            "type": "scatterternary"
           }
          ],
          "surface": [
           {
            "colorbar": {
             "outlinewidth": 0,
             "ticks": ""
            },
            "colorscale": [
             [
              0,
              "#0d0887"
             ],
             [
              0.1111111111111111,
              "#46039f"
             ],
             [
              0.2222222222222222,
              "#7201a8"
             ],
             [
              0.3333333333333333,
              "#9c179e"
             ],
             [
              0.4444444444444444,
              "#bd3786"
             ],
             [
              0.5555555555555556,
              "#d8576b"
             ],
             [
              0.6666666666666666,
              "#ed7953"
             ],
             [
              0.7777777777777778,
              "#fb9f3a"
             ],
             [
              0.8888888888888888,
              "#fdca26"
             ],
             [
              1,
              "#f0f921"
             ]
            ],
            "type": "surface"
           }
          ],
          "table": [
           {
            "cells": {
             "fill": {
              "color": "#EBF0F8"
             },
             "line": {
              "color": "white"
             }
            },
            "header": {
             "fill": {
              "color": "#C8D4E3"
             },
             "line": {
              "color": "white"
             }
            },
            "type": "table"
           }
          ]
         },
         "layout": {
          "annotationdefaults": {
           "arrowcolor": "#2a3f5f",
           "arrowhead": 0,
           "arrowwidth": 1
          },
          "autotypenumbers": "strict",
          "coloraxis": {
           "colorbar": {
            "outlinewidth": 0,
            "ticks": ""
           }
          },
          "colorscale": {
           "diverging": [
            [
             0,
             "#8e0152"
            ],
            [
             0.1,
             "#c51b7d"
            ],
            [
             0.2,
             "#de77ae"
            ],
            [
             0.3,
             "#f1b6da"
            ],
            [
             0.4,
             "#fde0ef"
            ],
            [
             0.5,
             "#f7f7f7"
            ],
            [
             0.6,
             "#e6f5d0"
            ],
            [
             0.7,
             "#b8e186"
            ],
            [
             0.8,
             "#7fbc41"
            ],
            [
             0.9,
             "#4d9221"
            ],
            [
             1,
             "#276419"
            ]
           ],
           "sequential": [
            [
             0,
             "#0d0887"
            ],
            [
             0.1111111111111111,
             "#46039f"
            ],
            [
             0.2222222222222222,
             "#7201a8"
            ],
            [
             0.3333333333333333,
             "#9c179e"
            ],
            [
             0.4444444444444444,
             "#bd3786"
            ],
            [
             0.5555555555555556,
             "#d8576b"
            ],
            [
             0.6666666666666666,
             "#ed7953"
            ],
            [
             0.7777777777777778,
             "#fb9f3a"
            ],
            [
             0.8888888888888888,
             "#fdca26"
            ],
            [
             1,
             "#f0f921"
            ]
           ],
           "sequentialminus": [
            [
             0,
             "#0d0887"
            ],
            [
             0.1111111111111111,
             "#46039f"
            ],
            [
             0.2222222222222222,
             "#7201a8"
            ],
            [
             0.3333333333333333,
             "#9c179e"
            ],
            [
             0.4444444444444444,
             "#bd3786"
            ],
            [
             0.5555555555555556,
             "#d8576b"
            ],
            [
             0.6666666666666666,
             "#ed7953"
            ],
            [
             0.7777777777777778,
             "#fb9f3a"
            ],
            [
             0.8888888888888888,
             "#fdca26"
            ],
            [
             1,
             "#f0f921"
            ]
           ]
          },
          "colorway": [
           "#636efa",
           "#EF553B",
           "#00cc96",
           "#ab63fa",
           "#FFA15A",
           "#19d3f3",
           "#FF6692",
           "#B6E880",
           "#FF97FF",
           "#FECB52"
          ],
          "font": {
           "color": "#2a3f5f"
          },
          "geo": {
           "bgcolor": "white",
           "lakecolor": "white",
           "landcolor": "#E5ECF6",
           "showlakes": true,
           "showland": true,
           "subunitcolor": "white"
          },
          "hoverlabel": {
           "align": "left"
          },
          "hovermode": "closest",
          "mapbox": {
           "style": "light"
          },
          "paper_bgcolor": "white",
          "plot_bgcolor": "#E5ECF6",
          "polar": {
           "angularaxis": {
            "gridcolor": "white",
            "linecolor": "white",
            "ticks": ""
           },
           "bgcolor": "#E5ECF6",
           "radialaxis": {
            "gridcolor": "white",
            "linecolor": "white",
            "ticks": ""
           }
          },
          "scene": {
           "xaxis": {
            "backgroundcolor": "#E5ECF6",
            "gridcolor": "white",
            "gridwidth": 2,
            "linecolor": "white",
            "showbackground": true,
            "ticks": "",
            "zerolinecolor": "white"
           },
           "yaxis": {
            "backgroundcolor": "#E5ECF6",
            "gridcolor": "white",
            "gridwidth": 2,
            "linecolor": "white",
            "showbackground": true,
            "ticks": "",
            "zerolinecolor": "white"
           },
           "zaxis": {
            "backgroundcolor": "#E5ECF6",
            "gridcolor": "white",
            "gridwidth": 2,
            "linecolor": "white",
            "showbackground": true,
            "ticks": "",
            "zerolinecolor": "white"
           }
          },
          "shapedefaults": {
           "line": {
            "color": "#2a3f5f"
           }
          },
          "ternary": {
           "aaxis": {
            "gridcolor": "white",
            "linecolor": "white",
            "ticks": ""
           },
           "baxis": {
            "gridcolor": "white",
            "linecolor": "white",
            "ticks": ""
           },
           "bgcolor": "#E5ECF6",
           "caxis": {
            "gridcolor": "white",
            "linecolor": "white",
            "ticks": ""
           }
          },
          "title": {
           "x": 0.05
          },
          "xaxis": {
           "automargin": true,
           "gridcolor": "white",
           "linecolor": "white",
           "ticks": "",
           "title": {
            "standoff": 15
           },
           "zerolinecolor": "white",
           "zerolinewidth": 2
          },
          "yaxis": {
           "automargin": true,
           "gridcolor": "white",
           "linecolor": "white",
           "ticks": "",
           "title": {
            "standoff": 15
           },
           "zerolinecolor": "white",
           "zerolinewidth": 2
          }
         }
        },
        "title": {
         "text": "Lucros por seção"
        },
        "width": 700,
        "xaxis": {
         "anchor": "y",
         "categoryarray": [
          "Açougue",
          "Padaria",
          "Produtos de Limpeza",
          "Alimentos em Geral"
         ],
         "categoryorder": "array",
         "domain": [
          0,
          1
         ],
         "title": {
          "text": "Seção"
         }
        },
        "yaxis": {
         "anchor": "x",
         "domain": [
          0,
          1
         ],
         "title": {
          "text": "Lucro"
         }
        }
       }
      },
      "text/html": [
       "<div>                            <div id=\"d9b46732-3350-4507-b022-9c73b13b373b\" class=\"plotly-graph-div\" style=\"height:500px; width:700px;\"></div>            <script type=\"text/javascript\">                require([\"plotly\"], function(Plotly) {                    window.PLOTLYENV=window.PLOTLYENV || {};                                    if (document.getElementById(\"d9b46732-3350-4507-b022-9c73b13b373b\")) {                    Plotly.newPlot(                        \"d9b46732-3350-4507-b022-9c73b13b373b\",                        [{\"alignmentgroup\":\"True\",\"hovertemplate\":\"Se\\u00e7\\u00e3o=%{x}<br>Lucro=%{y}<extra></extra>\",\"legendgroup\":\"A\\u00e7ougue\",\"marker\":{\"color\":\"#636efa\",\"pattern\":{\"shape\":\"\"}},\"name\":\"A\\u00e7ougue\",\"offsetgroup\":\"A\\u00e7ougue\",\"orientation\":\"v\",\"showlegend\":true,\"textposition\":\"auto\",\"type\":\"bar\",\"x\":[\"A\\u00e7ougue\"],\"xaxis\":\"x\",\"y\":[7105.020000000037],\"yaxis\":\"y\"},{\"alignmentgroup\":\"True\",\"hovertemplate\":\"Se\\u00e7\\u00e3o=%{x}<br>Lucro=%{y}<extra></extra>\",\"legendgroup\":\"Padaria\",\"marker\":{\"color\":\"#EF553B\",\"pattern\":{\"shape\":\"\"}},\"name\":\"Padaria\",\"offsetgroup\":\"Padaria\",\"orientation\":\"v\",\"showlegend\":true,\"textposition\":\"auto\",\"type\":\"bar\",\"x\":[\"Padaria\"],\"xaxis\":\"x\",\"y\":[4084.5100000000034],\"yaxis\":\"y\"},{\"alignmentgroup\":\"True\",\"hovertemplate\":\"Se\\u00e7\\u00e3o=%{x}<br>Lucro=%{y}<extra></extra>\",\"legendgroup\":\"Produtos de Limpeza\",\"marker\":{\"color\":\"#00cc96\",\"pattern\":{\"shape\":\"\"}},\"name\":\"Produtos de Limpeza\",\"offsetgroup\":\"Produtos de Limpeza\",\"orientation\":\"v\",\"showlegend\":true,\"textposition\":\"auto\",\"type\":\"bar\",\"x\":[\"Produtos de Limpeza\"],\"xaxis\":\"x\",\"y\":[1813.9200000000033],\"yaxis\":\"y\"},{\"alignmentgroup\":\"True\",\"hovertemplate\":\"Se\\u00e7\\u00e3o=%{x}<br>Lucro=%{y}<extra></extra>\",\"legendgroup\":\"Alimentos em Geral\",\"marker\":{\"color\":\"#ab63fa\",\"pattern\":{\"shape\":\"\"}},\"name\":\"Alimentos em Geral\",\"offsetgroup\":\"Alimentos em Geral\",\"orientation\":\"v\",\"showlegend\":true,\"textposition\":\"auto\",\"type\":\"bar\",\"x\":[\"Alimentos em Geral\"],\"xaxis\":\"x\",\"y\":[1065.5499999999947],\"yaxis\":\"y\"}],                        {\"barmode\":\"stack\",\"height\":500,\"legend\":{\"title\":{\"text\":\"Se\\u00e7\\u00e3o\"},\"tracegroupgap\":0},\"margin\":{\"t\":60},\"template\":{\"data\":{\"bar\":[{\"error_x\":{\"color\":\"#2a3f5f\"},\"error_y\":{\"color\":\"#2a3f5f\"},\"marker\":{\"line\":{\"color\":\"#E5ECF6\",\"width\":0.5},\"pattern\":{\"fillmode\":\"overlay\",\"size\":10,\"solidity\":0.2}},\"type\":\"bar\"}],\"barpolar\":[{\"marker\":{\"line\":{\"color\":\"#E5ECF6\",\"width\":0.5},\"pattern\":{\"fillmode\":\"overlay\",\"size\":10,\"solidity\":0.2}},\"type\":\"barpolar\"}],\"carpet\":[{\"aaxis\":{\"endlinecolor\":\"#2a3f5f\",\"gridcolor\":\"white\",\"linecolor\":\"white\",\"minorgridcolor\":\"white\",\"startlinecolor\":\"#2a3f5f\"},\"baxis\":{\"endlinecolor\":\"#2a3f5f\",\"gridcolor\":\"white\",\"linecolor\":\"white\",\"minorgridcolor\":\"white\",\"startlinecolor\":\"#2a3f5f\"},\"type\":\"carpet\"}],\"choropleth\":[{\"colorbar\":{\"outlinewidth\":0,\"ticks\":\"\"},\"type\":\"choropleth\"}],\"contour\":[{\"colorbar\":{\"outlinewidth\":0,\"ticks\":\"\"},\"colorscale\":[[0.0,\"#0d0887\"],[0.1111111111111111,\"#46039f\"],[0.2222222222222222,\"#7201a8\"],[0.3333333333333333,\"#9c179e\"],[0.4444444444444444,\"#bd3786\"],[0.5555555555555556,\"#d8576b\"],[0.6666666666666666,\"#ed7953\"],[0.7777777777777778,\"#fb9f3a\"],[0.8888888888888888,\"#fdca26\"],[1.0,\"#f0f921\"]],\"type\":\"contour\"}],\"contourcarpet\":[{\"colorbar\":{\"outlinewidth\":0,\"ticks\":\"\"},\"type\":\"contourcarpet\"}],\"heatmap\":[{\"colorbar\":{\"outlinewidth\":0,\"ticks\":\"\"},\"colorscale\":[[0.0,\"#0d0887\"],[0.1111111111111111,\"#46039f\"],[0.2222222222222222,\"#7201a8\"],[0.3333333333333333,\"#9c179e\"],[0.4444444444444444,\"#bd3786\"],[0.5555555555555556,\"#d8576b\"],[0.6666666666666666,\"#ed7953\"],[0.7777777777777778,\"#fb9f3a\"],[0.8888888888888888,\"#fdca26\"],[1.0,\"#f0f921\"]],\"type\":\"heatmap\"}],\"heatmapgl\":[{\"colorbar\":{\"outlinewidth\":0,\"ticks\":\"\"},\"colorscale\":[[0.0,\"#0d0887\"],[0.1111111111111111,\"#46039f\"],[0.2222222222222222,\"#7201a8\"],[0.3333333333333333,\"#9c179e\"],[0.4444444444444444,\"#bd3786\"],[0.5555555555555556,\"#d8576b\"],[0.6666666666666666,\"#ed7953\"],[0.7777777777777778,\"#fb9f3a\"],[0.8888888888888888,\"#fdca26\"],[1.0,\"#f0f921\"]],\"type\":\"heatmapgl\"}],\"histogram\":[{\"marker\":{\"pattern\":{\"fillmode\":\"overlay\",\"size\":10,\"solidity\":0.2}},\"type\":\"histogram\"}],\"histogram2d\":[{\"colorbar\":{\"outlinewidth\":0,\"ticks\":\"\"},\"colorscale\":[[0.0,\"#0d0887\"],[0.1111111111111111,\"#46039f\"],[0.2222222222222222,\"#7201a8\"],[0.3333333333333333,\"#9c179e\"],[0.4444444444444444,\"#bd3786\"],[0.5555555555555556,\"#d8576b\"],[0.6666666666666666,\"#ed7953\"],[0.7777777777777778,\"#fb9f3a\"],[0.8888888888888888,\"#fdca26\"],[1.0,\"#f0f921\"]],\"type\":\"histogram2d\"}],\"histogram2dcontour\":[{\"colorbar\":{\"outlinewidth\":0,\"ticks\":\"\"},\"colorscale\":[[0.0,\"#0d0887\"],[0.1111111111111111,\"#46039f\"],[0.2222222222222222,\"#7201a8\"],[0.3333333333333333,\"#9c179e\"],[0.4444444444444444,\"#bd3786\"],[0.5555555555555556,\"#d8576b\"],[0.6666666666666666,\"#ed7953\"],[0.7777777777777778,\"#fb9f3a\"],[0.8888888888888888,\"#fdca26\"],[1.0,\"#f0f921\"]],\"type\":\"histogram2dcontour\"}],\"mesh3d\":[{\"colorbar\":{\"outlinewidth\":0,\"ticks\":\"\"},\"type\":\"mesh3d\"}],\"parcoords\":[{\"line\":{\"colorbar\":{\"outlinewidth\":0,\"ticks\":\"\"}},\"type\":\"parcoords\"}],\"pie\":[{\"automargin\":true,\"type\":\"pie\"}],\"scatter\":[{\"marker\":{\"colorbar\":{\"outlinewidth\":0,\"ticks\":\"\"}},\"type\":\"scatter\"}],\"scatter3d\":[{\"line\":{\"colorbar\":{\"outlinewidth\":0,\"ticks\":\"\"}},\"marker\":{\"colorbar\":{\"outlinewidth\":0,\"ticks\":\"\"}},\"type\":\"scatter3d\"}],\"scattercarpet\":[{\"marker\":{\"colorbar\":{\"outlinewidth\":0,\"ticks\":\"\"}},\"type\":\"scattercarpet\"}],\"scattergeo\":[{\"marker\":{\"colorbar\":{\"outlinewidth\":0,\"ticks\":\"\"}},\"type\":\"scattergeo\"}],\"scattergl\":[{\"marker\":{\"colorbar\":{\"outlinewidth\":0,\"ticks\":\"\"}},\"type\":\"scattergl\"}],\"scattermapbox\":[{\"marker\":{\"colorbar\":{\"outlinewidth\":0,\"ticks\":\"\"}},\"type\":\"scattermapbox\"}],\"scatterpolar\":[{\"marker\":{\"colorbar\":{\"outlinewidth\":0,\"ticks\":\"\"}},\"type\":\"scatterpolar\"}],\"scatterpolargl\":[{\"marker\":{\"colorbar\":{\"outlinewidth\":0,\"ticks\":\"\"}},\"type\":\"scatterpolargl\"}],\"scatterternary\":[{\"marker\":{\"colorbar\":{\"outlinewidth\":0,\"ticks\":\"\"}},\"type\":\"scatterternary\"}],\"surface\":[{\"colorbar\":{\"outlinewidth\":0,\"ticks\":\"\"},\"colorscale\":[[0.0,\"#0d0887\"],[0.1111111111111111,\"#46039f\"],[0.2222222222222222,\"#7201a8\"],[0.3333333333333333,\"#9c179e\"],[0.4444444444444444,\"#bd3786\"],[0.5555555555555556,\"#d8576b\"],[0.6666666666666666,\"#ed7953\"],[0.7777777777777778,\"#fb9f3a\"],[0.8888888888888888,\"#fdca26\"],[1.0,\"#f0f921\"]],\"type\":\"surface\"}],\"table\":[{\"cells\":{\"fill\":{\"color\":\"#EBF0F8\"},\"line\":{\"color\":\"white\"}},\"header\":{\"fill\":{\"color\":\"#C8D4E3\"},\"line\":{\"color\":\"white\"}},\"type\":\"table\"}]},\"layout\":{\"annotationdefaults\":{\"arrowcolor\":\"#2a3f5f\",\"arrowhead\":0,\"arrowwidth\":1},\"autotypenumbers\":\"strict\",\"coloraxis\":{\"colorbar\":{\"outlinewidth\":0,\"ticks\":\"\"}},\"colorscale\":{\"diverging\":[[0,\"#8e0152\"],[0.1,\"#c51b7d\"],[0.2,\"#de77ae\"],[0.3,\"#f1b6da\"],[0.4,\"#fde0ef\"],[0.5,\"#f7f7f7\"],[0.6,\"#e6f5d0\"],[0.7,\"#b8e186\"],[0.8,\"#7fbc41\"],[0.9,\"#4d9221\"],[1,\"#276419\"]],\"sequential\":[[0.0,\"#0d0887\"],[0.1111111111111111,\"#46039f\"],[0.2222222222222222,\"#7201a8\"],[0.3333333333333333,\"#9c179e\"],[0.4444444444444444,\"#bd3786\"],[0.5555555555555556,\"#d8576b\"],[0.6666666666666666,\"#ed7953\"],[0.7777777777777778,\"#fb9f3a\"],[0.8888888888888888,\"#fdca26\"],[1.0,\"#f0f921\"]],\"sequentialminus\":[[0.0,\"#0d0887\"],[0.1111111111111111,\"#46039f\"],[0.2222222222222222,\"#7201a8\"],[0.3333333333333333,\"#9c179e\"],[0.4444444444444444,\"#bd3786\"],[0.5555555555555556,\"#d8576b\"],[0.6666666666666666,\"#ed7953\"],[0.7777777777777778,\"#fb9f3a\"],[0.8888888888888888,\"#fdca26\"],[1.0,\"#f0f921\"]]},\"colorway\":[\"#636efa\",\"#EF553B\",\"#00cc96\",\"#ab63fa\",\"#FFA15A\",\"#19d3f3\",\"#FF6692\",\"#B6E880\",\"#FF97FF\",\"#FECB52\"],\"font\":{\"color\":\"#2a3f5f\"},\"geo\":{\"bgcolor\":\"white\",\"lakecolor\":\"white\",\"landcolor\":\"#E5ECF6\",\"showlakes\":true,\"showland\":true,\"subunitcolor\":\"white\"},\"hoverlabel\":{\"align\":\"left\"},\"hovermode\":\"closest\",\"mapbox\":{\"style\":\"light\"},\"paper_bgcolor\":\"white\",\"plot_bgcolor\":\"#E5ECF6\",\"polar\":{\"angularaxis\":{\"gridcolor\":\"white\",\"linecolor\":\"white\",\"ticks\":\"\"},\"bgcolor\":\"#E5ECF6\",\"radialaxis\":{\"gridcolor\":\"white\",\"linecolor\":\"white\",\"ticks\":\"\"}},\"scene\":{\"xaxis\":{\"backgroundcolor\":\"#E5ECF6\",\"gridcolor\":\"white\",\"gridwidth\":2,\"linecolor\":\"white\",\"showbackground\":true,\"ticks\":\"\",\"zerolinecolor\":\"white\"},\"yaxis\":{\"backgroundcolor\":\"#E5ECF6\",\"gridcolor\":\"white\",\"gridwidth\":2,\"linecolor\":\"white\",\"showbackground\":true,\"ticks\":\"\",\"zerolinecolor\":\"white\"},\"zaxis\":{\"backgroundcolor\":\"#E5ECF6\",\"gridcolor\":\"white\",\"gridwidth\":2,\"linecolor\":\"white\",\"showbackground\":true,\"ticks\":\"\",\"zerolinecolor\":\"white\"}},\"shapedefaults\":{\"line\":{\"color\":\"#2a3f5f\"}},\"ternary\":{\"aaxis\":{\"gridcolor\":\"white\",\"linecolor\":\"white\",\"ticks\":\"\"},\"baxis\":{\"gridcolor\":\"white\",\"linecolor\":\"white\",\"ticks\":\"\"},\"bgcolor\":\"#E5ECF6\",\"caxis\":{\"gridcolor\":\"white\",\"linecolor\":\"white\",\"ticks\":\"\"}},\"title\":{\"x\":0.05},\"xaxis\":{\"automargin\":true,\"gridcolor\":\"white\",\"linecolor\":\"white\",\"ticks\":\"\",\"title\":{\"standoff\":15},\"zerolinecolor\":\"white\",\"zerolinewidth\":2},\"yaxis\":{\"automargin\":true,\"gridcolor\":\"white\",\"linecolor\":\"white\",\"ticks\":\"\",\"title\":{\"standoff\":15},\"zerolinecolor\":\"white\",\"zerolinewidth\":2}}},\"title\":{\"text\":\"Lucros por se\\u00e7\\u00e3o\"},\"width\":700,\"xaxis\":{\"anchor\":\"y\",\"categoryarray\":[\"A\\u00e7ougue\",\"Padaria\",\"Produtos de Limpeza\",\"Alimentos em Geral\"],\"categoryorder\":\"array\",\"domain\":[0.0,1.0],\"title\":{\"text\":\"Se\\u00e7\\u00e3o\"}},\"yaxis\":{\"anchor\":\"x\",\"domain\":[0.0,1.0],\"title\":{\"text\":\"Lucro\"}}},                        {\"responsive\": true}                    ).then(function(){\n",
       "                            \n",
       "var gd = document.getElementById('d9b46732-3350-4507-b022-9c73b13b373b');\n",
       "var x = new MutationObserver(function (mutations, observer) {{\n",
       "        var display = window.getComputedStyle(gd).display;\n",
       "        if (!display || display === 'none') {{\n",
       "            console.log([gd, 'removed!']);\n",
       "            Plotly.purge(gd);\n",
       "            observer.disconnect();\n",
       "        }}\n",
       "}});\n",
       "\n",
       "// Listen for the removal of the full notebook cells\n",
       "var notebookContainer = gd.closest('#notebook-container');\n",
       "if (notebookContainer) {{\n",
       "    x.observe(notebookContainer, {childList: true});\n",
       "}}\n",
       "\n",
       "// Listen for the clearing of the current output cell\n",
       "var outputEl = gd.closest('.output');\n",
       "if (outputEl) {{\n",
       "    x.observe(outputEl, {childList: true});\n",
       "}}\n",
       "\n",
       "                        })                };                });            </script>        </div>"
      ]
     },
     "metadata": {},
     "output_type": "display_data"
    }
   ],
   "source": [
    "lucro_secao=venda_produtos_cliente.groupby(\"secao\").sum().sort_values('lucro', ascending=False ).reset_index()\n",
    "\n",
    "fig = px.bar(lucro_secao, x=\"secao\", y=\"lucro\", color=\"secao\", barmode = 'stack',\n",
    "             labels={\"lucro\":\"Lucro\", \"secao\":\"Seção\"}, height=500, width=700)\n",
    "fig.update_layout(title = 'Lucros por seção')\n",
    "fig.show()"
   ]
  },
  {
   "cell_type": "code",
   "execution_count": null,
   "id": "2cc1f63c",
   "metadata": {},
   "outputs": [],
   "source": []
  }
 ],
 "metadata": {
  "kernelspec": {
   "display_name": "Python 3",
   "language": "python",
   "name": "python3"
  },
  "language_info": {
   "codemirror_mode": {
    "name": "ipython",
    "version": 3
   },
   "file_extension": ".py",
   "mimetype": "text/x-python",
   "name": "python",
   "nbconvert_exporter": "python",
   "pygments_lexer": "ipython3",
   "version": "3.8.8"
  }
 },
 "nbformat": 4,
 "nbformat_minor": 5
}
