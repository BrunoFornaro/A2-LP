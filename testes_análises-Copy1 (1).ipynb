{
 "cells": [
  {
   "cell_type": "code",
   "execution_count": 2,
   "id": "191c64a5",
   "metadata": {},
   "outputs": [
    {
     "name": "stdout",
     "output_type": "stream",
     "text": [
      "Collecting Faker\n",
      "  Downloading Faker-9.9.0-py3-none-any.whl (1.2 MB)\n",
      "Requirement already satisfied: python-dateutil>=2.4 in c:\\users\\vanes\\anaconda3\\lib\\site-packages (from Faker) (2.8.2)\n",
      "Collecting text-unidecode==1.3\n",
      "  Downloading text_unidecode-1.3-py2.py3-none-any.whl (78 kB)\n",
      "Requirement already satisfied: six>=1.5 in c:\\users\\vanes\\anaconda3\\lib\\site-packages (from python-dateutil>=2.4->Faker) (1.16.0)\n",
      "Installing collected packages: text-unidecode, Faker\n",
      "Successfully installed Faker-9.9.0 text-unidecode-1.3\n"
     ]
    }
   ],
   "source": [
    "!pip install Faker"
   ]
  },
  {
   "cell_type": "code",
   "execution_count": 50,
   "id": "e08f7679",
   "metadata": {},
   "outputs": [],
   "source": [
    "from numpy import random\n",
    "import pandas as pd\n",
    "import numpy as np\n",
    "import random as rd\n",
    "from faker import Faker\n",
    "import matplotlib.pyplot as plt\n",
    "import matplotlib as ptl\n",
    "import plotly.express as px\n",
    "\n",
    "fake = Faker(\"pt-BR\")\n",
    "\n",
    "def gerar_dados(quantidade_de_vendas = 500, quantidade_de_clientes = 200):\n",
    "\n",
    "    # Tabela de produtos\n",
    "    nome_dos_produtos = [\"morango\", \"melancia\", \"banana\", \"uva\", \"batata\", \"berinjela\", \"abobrinha\", \"alface\", \"couve-flor\", \"feijão\", \"arroz\", \"macarrão\", \"alcatra\", \"maminha\", \"bisteca suína\", \"carré de cordeiro\", \"costela\", \"paleta suína\", \"picanha\", \"peito de frango\", \"bolo\", \"pão de forma\", \"pão de queijo\", \"pão francês\", \"pastel\", \"sanduíche\", \"sonho\", \"torta\", \"amaciante\", \"água sanitária\", \"detergente\", \"flanela\", \"odorizador\", \"rodo\", \"sabão em pó\", \"sabonete\"]\n",
    "    secao_dos_produtos = [\"frutas_e_verduras\", \"frutas_e_verduras\", \"frutas_e_verduras\", \"frutas_e_verduras\", \"frutas_e_verduras\", \"frutas_e_verduras\", \"frutas_e_verduras\", \"frutas_e_verduras\", \"frutas_e_verduras\", \"frutas_e_verduras\", \"frutas_e_verduras\", \"frutas_e_verduras\", \"acougue\", \"acougue\", \"acougue\", \"acougue\", \"acougue\", \"acougue\", \"acougue\", \"acougue\", \"padaria\", \"padaria\", \"padaria\", \"padaria\", \"padaria\", \"padaria\", \"padaria\", \"padaria\", \"produtos_de_limpeza\", \"produtos_de_limpeza\", \"produtos_de_limpeza\", \"produtos_de_limpeza\", \"produtos_de_limpeza\", \"produtos_de_limpeza\", \"produtos_de_limpeza\", \"produtos_de_limpeza\"]\n",
    "    custo_dos_produtos = [4.30, 11.79, 2, 4.19, 2.39, 8.59, 2.69, 0.45, 3.19, 6.49, 15.89, 1.69, 23.19, 33.49, 15.73, 147.99, 16.39, 17.09, 43.35, 11.19, 17.89, 3.73, 17.04, 4.39, 3.19, 7.99, 1.79, 26.95, 5.19, 7.96, 1.3, 0.59, 14.38, 2.74, 6.15, 0.65]\n",
    "    preco_produtos = [7.99, 15.99, 5.99, 7.47, 3.99, 11.99, 3.49, 0.98, 5.48, 8.45, 4.31, 2.48, 31.99, 42.99, 22.79, 172, 20.99, 23.99, 70.89, 16.49, 35, 6.99, 23.99, 10.99, 4.99, 12.99, 3.49, 45, 6.70, 11.98, 2.70, 1.99, 23.99, 5.99, 9.69, 1.29]\n",
    "    prateleira_dos_produtos = [\"1A\", \"1C\", \"1B\", \"1D\", \"2B\", \"2D\", \"2A\", \"2C\", \"2E\", \"3B\", \"3A\", \"3C\", \"4A\", \"4B\", \"5A\", \"5B\", \"5C\", \"5D\", \"4C\", \"4D\", \"6A\", \"7A\", \"7B\", \"7C\", \"7D\", \"7E\", \"6B\", \"6C\", \"8A\", \"8B\", \"8C\", \"9A\", \"9B\", \"9C\", \"8D\", \"9D\"]\n",
    "    estoque_produtos = [50, 20, 40, 36, 47, 12, 19, 25, 20, 43, 80, 38, 7, 9, 5, 5, 10, 9, 6, 10, 7, 15, 1, 3, 9, 15, 20, 7, 12, 8, 40, 32, 6, 10, 13, 58]\n",
    "    unidade_de_medida_estoque = [\"bandeja\", \"unidade\", \"kg\", \"bandeja\", \"kg\", \"kg\", \"kg\", \"pé\", \"pé\", \"kg\", \"kg\", \"pacote\", \"kg\", \"kg\", \"kg\", \"kg\", \"kg\", \"kg\", \"kg\", \"kg\", \"kg\", \"pacote\", \"kg\", \"kg\", \"unidade\", \"unidade\", \"unidade\", \"kg\", \"unidade\", \"unidade\", \"unidade\", \"unidade\", \"unidade\", \"unidade\", \"unidade\", \"unidade\"]\n",
    "    imagem = [\"morango-alt.png\", \"melancia.jpg\", \"banana.png\", \"uva-alt.png\", \"batata.JPEG\", \"beringela.jpg\", \"abobrinha.JPEG\", \"alface.png\", \"couve-flor.png\", \"feijao.png\", \"arroz.png\", \"macarrao.jpg\", \"alcatra.jpg\", \"maminha.jpg\", \"bisteca_suina.jpg\", \"carre_de_cordeiro.jpg\", \"costela.jpg\", \"paleta_suina.jpg\", \"picanha.jpg\", \"peito_de_frango.jpg\", \"bolo.jpg\", \"pao_de_forma.jpg\", \"pao_de_queijo.jpg\", \"pao_frances.jpg\", \"pastel.jpg\", \"sanduiche.jpg\", \"sonho.jpg\", \"torta.jpg\", \"amaciante.jpg\", \"agua_sanitaria.jpg\", \"detergente.jpg\", \"flanela.jpg\", \"odorizador.jpg\", \"rodo.jpg\", \"sabao_em_po.jpg\", \"sabonete.jpg\"]\n",
    "\n",
    "    produtos = {\n",
    "        \"id\": list(range(len(nome_dos_produtos))),\n",
    "        \"nome\": nome_dos_produtos,\n",
    "        \"secao\": secao_dos_produtos,\n",
    "        \"custo\": custo_dos_produtos,\n",
    "        \"preco\": preco_produtos,\n",
    "        \"prateleira\": prateleira_dos_produtos,\n",
    "        \"estoque\": estoque_produtos,\n",
    "        \"unidade_de_medida_de_estoque\": unidade_de_medida_estoque,\n",
    "        \"imagem\": imagem\n",
    "    }\n",
    "\n",
    "    produtos = pd.DataFrame(produtos)\n",
    "\n",
    "    # Tabela de clientes\n",
    "    clientes = {\n",
    "        'id': list(range(quantidade_de_clientes)),\n",
    "        'nome': [],\n",
    "        'nascimento': [],\n",
    "        'endereco':[],\n",
    "        'cpf': [],\n",
    "        'telefone': [],\n",
    "        'usuario': [],\n",
    "        'senha': []\n",
    "    }\n",
    "\n",
    "    for id in clientes['id']:\n",
    "        clientes['nome'].append(fake.name())\n",
    "        clientes['nascimento'].append(fake.date_of_birth(minimum_age = 18, maximum_age = 73))\n",
    "        clientes['endereco'].append(fake.address())\n",
    "        clientes['cpf'].append(fake.cpf())\n",
    "        clientes['telefone'].append(fake.phone_number())\n",
    "        clientes['usuario'].append(fake.user_name())\n",
    "        clientes['senha'].append(fake.password(12))\n",
    "    \n",
    "    clientes = pd.DataFrame(clientes)\n",
    "\n",
    "    # Tabela de vendas\n",
    "    datas = np.arange(np.datetime64('2021-11-01'), np.datetime64('2021-12-01'))\n",
    "    probabilidade = np.linspace(1, 2, num=datas.size)\n",
    "    probabilidade = probabilidade / probabilidade.sum()\n",
    "    datas = np.random.choice(datas, p=probabilidade, size=quantidade_de_vendas)\n",
    "    datas.sort()\n",
    "    vendas = {\n",
    "        'id' : [],\n",
    "        'id_clientes' : [],\n",
    "        'data' : []\n",
    "    }\n",
    "    for id, data in enumerate(datas):\n",
    "        vendas['id'].append(id)\n",
    "        vendas['id_clientes'].append(np.random.choice(clientes['id']))\n",
    "        vendas['data'].append(data)\n",
    "\n",
    "    vendas = pd.DataFrame(vendas)\n",
    "    vendas[\"data\"] = vendas[\"data\"].dt.strftime('%Y-%m-%d')\n",
    "\n",
    "    # Tabela intermediária entre vendas e produtos\n",
    "    venda_produtos = {\n",
    "        'id_vendas' : [],\n",
    "        'id_produtos' : [],\n",
    "        'quantidade' : []\n",
    "    }\n",
    "\n",
    "    for id in range(quantidade_de_vendas):\n",
    "        venda_produtos['id_vendas'].append(vendas['id'][id])\n",
    "        venda_produtos['id_produtos'].append(np.random.choice(produtos['id']))\n",
    "        venda_produtos['quantidade'].append(random.randint(1, 5))\n",
    "\n",
    "    for id in range(4 * quantidade_de_vendas):\n",
    "        venda_produtos['id_vendas'].append(np.random.choice(clientes['id']))\n",
    "        venda_produtos['id_produtos'].append(np.random.choice(produtos['id']))\n",
    "        venda_produtos['quantidade'].append(random.randint(1, 5))\n",
    "\n",
    "    venda_produtos = pd.DataFrame(venda_produtos)\n",
    "    \n",
    "    return (produtos,clientes,vendas,venda_produtos)\n",
    "\n",
    "dados = gerar_dados()\n",
    "produtos = dados[0]\n",
    "clientes = dados[1]\n",
    "vendas = dados[2]\n",
    "venda_produtos = dados[3]"
   ]
  },
  {
   "cell_type": "markdown",
   "id": "972ecad5",
   "metadata": {},
   "source": [
    "## Tabelas"
   ]
  },
  {
   "cell_type": "code",
   "execution_count": 51,
   "id": "1615750f",
   "metadata": {},
   "outputs": [],
   "source": [
    "p = gerar_dados(quantidade_de_vendas = 500, quantidade_de_clientes = 200)"
   ]
  },
  {
   "cell_type": "code",
   "execution_count": 52,
   "id": "5b81954a",
   "metadata": {},
   "outputs": [
    {
     "data": {
      "text/html": [
       "<div>\n",
       "<style scoped>\n",
       "    .dataframe tbody tr th:only-of-type {\n",
       "        vertical-align: middle;\n",
       "    }\n",
       "\n",
       "    .dataframe tbody tr th {\n",
       "        vertical-align: top;\n",
       "    }\n",
       "\n",
       "    .dataframe thead th {\n",
       "        text-align: right;\n",
       "    }\n",
       "</style>\n",
       "<table border=\"1\" class=\"dataframe\">\n",
       "  <thead>\n",
       "    <tr style=\"text-align: right;\">\n",
       "      <th></th>\n",
       "      <th>id_produtos</th>\n",
       "      <th>nome</th>\n",
       "      <th>secao</th>\n",
       "      <th>custo</th>\n",
       "      <th>preco</th>\n",
       "      <th>prateleira</th>\n",
       "      <th>estoque</th>\n",
       "      <th>unidade_de_medida_de_estoque</th>\n",
       "      <th>imagem</th>\n",
       "    </tr>\n",
       "  </thead>\n",
       "  <tbody>\n",
       "    <tr>\n",
       "      <th>0</th>\n",
       "      <td>0</td>\n",
       "      <td>morango</td>\n",
       "      <td>Alimentos em Geral</td>\n",
       "      <td>4.30</td>\n",
       "      <td>7.99</td>\n",
       "      <td>1A</td>\n",
       "      <td>50</td>\n",
       "      <td>bandeja</td>\n",
       "      <td>morango-alt.png</td>\n",
       "    </tr>\n",
       "    <tr>\n",
       "      <th>1</th>\n",
       "      <td>1</td>\n",
       "      <td>melancia</td>\n",
       "      <td>Alimentos em Geral</td>\n",
       "      <td>11.79</td>\n",
       "      <td>15.99</td>\n",
       "      <td>1C</td>\n",
       "      <td>20</td>\n",
       "      <td>unidade</td>\n",
       "      <td>melancia.jpg</td>\n",
       "    </tr>\n",
       "    <tr>\n",
       "      <th>2</th>\n",
       "      <td>2</td>\n",
       "      <td>banana</td>\n",
       "      <td>Alimentos em Geral</td>\n",
       "      <td>2.00</td>\n",
       "      <td>5.99</td>\n",
       "      <td>1B</td>\n",
       "      <td>40</td>\n",
       "      <td>kg</td>\n",
       "      <td>banana.png</td>\n",
       "    </tr>\n",
       "    <tr>\n",
       "      <th>3</th>\n",
       "      <td>3</td>\n",
       "      <td>uva</td>\n",
       "      <td>Alimentos em Geral</td>\n",
       "      <td>4.19</td>\n",
       "      <td>7.47</td>\n",
       "      <td>1D</td>\n",
       "      <td>36</td>\n",
       "      <td>bandeja</td>\n",
       "      <td>uva-alt.png</td>\n",
       "    </tr>\n",
       "    <tr>\n",
       "      <th>4</th>\n",
       "      <td>4</td>\n",
       "      <td>batata</td>\n",
       "      <td>Alimentos em Geral</td>\n",
       "      <td>2.39</td>\n",
       "      <td>3.99</td>\n",
       "      <td>2B</td>\n",
       "      <td>47</td>\n",
       "      <td>kg</td>\n",
       "      <td>batata.JPEG</td>\n",
       "    </tr>\n",
       "    <tr>\n",
       "      <th>5</th>\n",
       "      <td>5</td>\n",
       "      <td>berinjela</td>\n",
       "      <td>Alimentos em Geral</td>\n",
       "      <td>8.59</td>\n",
       "      <td>11.99</td>\n",
       "      <td>2D</td>\n",
       "      <td>12</td>\n",
       "      <td>kg</td>\n",
       "      <td>beringela.jpg</td>\n",
       "    </tr>\n",
       "    <tr>\n",
       "      <th>6</th>\n",
       "      <td>6</td>\n",
       "      <td>abobrinha</td>\n",
       "      <td>Alimentos em Geral</td>\n",
       "      <td>2.69</td>\n",
       "      <td>3.49</td>\n",
       "      <td>2A</td>\n",
       "      <td>19</td>\n",
       "      <td>kg</td>\n",
       "      <td>abobrinha.JPEG</td>\n",
       "    </tr>\n",
       "    <tr>\n",
       "      <th>7</th>\n",
       "      <td>7</td>\n",
       "      <td>alface</td>\n",
       "      <td>Alimentos em Geral</td>\n",
       "      <td>0.45</td>\n",
       "      <td>0.98</td>\n",
       "      <td>2C</td>\n",
       "      <td>25</td>\n",
       "      <td>pé</td>\n",
       "      <td>alface.png</td>\n",
       "    </tr>\n",
       "    <tr>\n",
       "      <th>8</th>\n",
       "      <td>8</td>\n",
       "      <td>couve-flor</td>\n",
       "      <td>Alimentos em Geral</td>\n",
       "      <td>3.19</td>\n",
       "      <td>5.48</td>\n",
       "      <td>2E</td>\n",
       "      <td>20</td>\n",
       "      <td>pé</td>\n",
       "      <td>couve-flor.png</td>\n",
       "    </tr>\n",
       "    <tr>\n",
       "      <th>9</th>\n",
       "      <td>9</td>\n",
       "      <td>feijão</td>\n",
       "      <td>Alimentos em Geral</td>\n",
       "      <td>6.49</td>\n",
       "      <td>8.45</td>\n",
       "      <td>3B</td>\n",
       "      <td>43</td>\n",
       "      <td>kg</td>\n",
       "      <td>feijao.png</td>\n",
       "    </tr>\n",
       "    <tr>\n",
       "      <th>10</th>\n",
       "      <td>10</td>\n",
       "      <td>arroz</td>\n",
       "      <td>Alimentos em Geral</td>\n",
       "      <td>15.89</td>\n",
       "      <td>4.31</td>\n",
       "      <td>3A</td>\n",
       "      <td>80</td>\n",
       "      <td>kg</td>\n",
       "      <td>arroz.png</td>\n",
       "    </tr>\n",
       "    <tr>\n",
       "      <th>11</th>\n",
       "      <td>11</td>\n",
       "      <td>macarrão</td>\n",
       "      <td>Alimentos em Geral</td>\n",
       "      <td>1.69</td>\n",
       "      <td>2.48</td>\n",
       "      <td>3C</td>\n",
       "      <td>38</td>\n",
       "      <td>pacote</td>\n",
       "      <td>macarrao.jpg</td>\n",
       "    </tr>\n",
       "    <tr>\n",
       "      <th>12</th>\n",
       "      <td>12</td>\n",
       "      <td>alcatra</td>\n",
       "      <td>Açougue</td>\n",
       "      <td>23.19</td>\n",
       "      <td>31.99</td>\n",
       "      <td>4A</td>\n",
       "      <td>7</td>\n",
       "      <td>kg</td>\n",
       "      <td>alcatra.jpg</td>\n",
       "    </tr>\n",
       "    <tr>\n",
       "      <th>13</th>\n",
       "      <td>13</td>\n",
       "      <td>maminha</td>\n",
       "      <td>Açougue</td>\n",
       "      <td>33.49</td>\n",
       "      <td>42.99</td>\n",
       "      <td>4B</td>\n",
       "      <td>9</td>\n",
       "      <td>kg</td>\n",
       "      <td>maminha.jpg</td>\n",
       "    </tr>\n",
       "    <tr>\n",
       "      <th>14</th>\n",
       "      <td>14</td>\n",
       "      <td>bisteca suína</td>\n",
       "      <td>Açougue</td>\n",
       "      <td>15.73</td>\n",
       "      <td>22.79</td>\n",
       "      <td>5A</td>\n",
       "      <td>5</td>\n",
       "      <td>kg</td>\n",
       "      <td>bisteca_suina.jpg</td>\n",
       "    </tr>\n",
       "    <tr>\n",
       "      <th>15</th>\n",
       "      <td>15</td>\n",
       "      <td>carré de cordeiro</td>\n",
       "      <td>Açougue</td>\n",
       "      <td>147.99</td>\n",
       "      <td>172.00</td>\n",
       "      <td>5B</td>\n",
       "      <td>5</td>\n",
       "      <td>kg</td>\n",
       "      <td>carre_de_cordeiro.jpg</td>\n",
       "    </tr>\n",
       "    <tr>\n",
       "      <th>16</th>\n",
       "      <td>16</td>\n",
       "      <td>costela</td>\n",
       "      <td>Açougue</td>\n",
       "      <td>16.39</td>\n",
       "      <td>20.99</td>\n",
       "      <td>5C</td>\n",
       "      <td>10</td>\n",
       "      <td>kg</td>\n",
       "      <td>costela.jpg</td>\n",
       "    </tr>\n",
       "    <tr>\n",
       "      <th>17</th>\n",
       "      <td>17</td>\n",
       "      <td>paleta suína</td>\n",
       "      <td>Açougue</td>\n",
       "      <td>17.09</td>\n",
       "      <td>23.99</td>\n",
       "      <td>5D</td>\n",
       "      <td>9</td>\n",
       "      <td>kg</td>\n",
       "      <td>paleta_suina.jpg</td>\n",
       "    </tr>\n",
       "    <tr>\n",
       "      <th>18</th>\n",
       "      <td>18</td>\n",
       "      <td>picanha</td>\n",
       "      <td>Açougue</td>\n",
       "      <td>43.35</td>\n",
       "      <td>70.89</td>\n",
       "      <td>4C</td>\n",
       "      <td>6</td>\n",
       "      <td>kg</td>\n",
       "      <td>picanha.jpg</td>\n",
       "    </tr>\n",
       "    <tr>\n",
       "      <th>19</th>\n",
       "      <td>19</td>\n",
       "      <td>peito de frango</td>\n",
       "      <td>Açougue</td>\n",
       "      <td>11.19</td>\n",
       "      <td>16.49</td>\n",
       "      <td>4D</td>\n",
       "      <td>10</td>\n",
       "      <td>kg</td>\n",
       "      <td>peito_de_frango.jpg</td>\n",
       "    </tr>\n",
       "    <tr>\n",
       "      <th>20</th>\n",
       "      <td>20</td>\n",
       "      <td>bolo</td>\n",
       "      <td>Padaria</td>\n",
       "      <td>17.89</td>\n",
       "      <td>35.00</td>\n",
       "      <td>6A</td>\n",
       "      <td>7</td>\n",
       "      <td>kg</td>\n",
       "      <td>bolo.jpg</td>\n",
       "    </tr>\n",
       "    <tr>\n",
       "      <th>21</th>\n",
       "      <td>21</td>\n",
       "      <td>pão de forma</td>\n",
       "      <td>Padaria</td>\n",
       "      <td>3.73</td>\n",
       "      <td>6.99</td>\n",
       "      <td>7A</td>\n",
       "      <td>15</td>\n",
       "      <td>pacote</td>\n",
       "      <td>pao_de_forma.jpg</td>\n",
       "    </tr>\n",
       "    <tr>\n",
       "      <th>22</th>\n",
       "      <td>22</td>\n",
       "      <td>pão de queijo</td>\n",
       "      <td>Padaria</td>\n",
       "      <td>17.04</td>\n",
       "      <td>23.99</td>\n",
       "      <td>7B</td>\n",
       "      <td>1</td>\n",
       "      <td>kg</td>\n",
       "      <td>pao_de_queijo.jpg</td>\n",
       "    </tr>\n",
       "    <tr>\n",
       "      <th>23</th>\n",
       "      <td>23</td>\n",
       "      <td>pão francês</td>\n",
       "      <td>Padaria</td>\n",
       "      <td>4.39</td>\n",
       "      <td>10.99</td>\n",
       "      <td>7C</td>\n",
       "      <td>3</td>\n",
       "      <td>kg</td>\n",
       "      <td>pao_frances.jpg</td>\n",
       "    </tr>\n",
       "    <tr>\n",
       "      <th>24</th>\n",
       "      <td>24</td>\n",
       "      <td>pastel</td>\n",
       "      <td>Padaria</td>\n",
       "      <td>3.19</td>\n",
       "      <td>4.99</td>\n",
       "      <td>7D</td>\n",
       "      <td>9</td>\n",
       "      <td>unidade</td>\n",
       "      <td>pastel.jpg</td>\n",
       "    </tr>\n",
       "    <tr>\n",
       "      <th>25</th>\n",
       "      <td>25</td>\n",
       "      <td>sanduíche</td>\n",
       "      <td>Padaria</td>\n",
       "      <td>7.99</td>\n",
       "      <td>12.99</td>\n",
       "      <td>7E</td>\n",
       "      <td>15</td>\n",
       "      <td>unidade</td>\n",
       "      <td>sanduiche.jpg</td>\n",
       "    </tr>\n",
       "    <tr>\n",
       "      <th>26</th>\n",
       "      <td>26</td>\n",
       "      <td>sonho</td>\n",
       "      <td>Padaria</td>\n",
       "      <td>1.79</td>\n",
       "      <td>3.49</td>\n",
       "      <td>6B</td>\n",
       "      <td>20</td>\n",
       "      <td>unidade</td>\n",
       "      <td>sonho.jpg</td>\n",
       "    </tr>\n",
       "    <tr>\n",
       "      <th>27</th>\n",
       "      <td>27</td>\n",
       "      <td>torta</td>\n",
       "      <td>Padaria</td>\n",
       "      <td>26.95</td>\n",
       "      <td>45.00</td>\n",
       "      <td>6C</td>\n",
       "      <td>7</td>\n",
       "      <td>kg</td>\n",
       "      <td>torta.jpg</td>\n",
       "    </tr>\n",
       "    <tr>\n",
       "      <th>28</th>\n",
       "      <td>28</td>\n",
       "      <td>amaciante</td>\n",
       "      <td>Produtos de Limpeza</td>\n",
       "      <td>5.19</td>\n",
       "      <td>6.70</td>\n",
       "      <td>8A</td>\n",
       "      <td>12</td>\n",
       "      <td>unidade</td>\n",
       "      <td>amaciante.jpg</td>\n",
       "    </tr>\n",
       "    <tr>\n",
       "      <th>29</th>\n",
       "      <td>29</td>\n",
       "      <td>água sanitária</td>\n",
       "      <td>Produtos de Limpeza</td>\n",
       "      <td>7.96</td>\n",
       "      <td>11.98</td>\n",
       "      <td>8B</td>\n",
       "      <td>8</td>\n",
       "      <td>unidade</td>\n",
       "      <td>agua_sanitaria.jpg</td>\n",
       "    </tr>\n",
       "    <tr>\n",
       "      <th>30</th>\n",
       "      <td>30</td>\n",
       "      <td>detergente</td>\n",
       "      <td>Produtos de Limpeza</td>\n",
       "      <td>1.30</td>\n",
       "      <td>2.70</td>\n",
       "      <td>8C</td>\n",
       "      <td>40</td>\n",
       "      <td>unidade</td>\n",
       "      <td>detergente.jpg</td>\n",
       "    </tr>\n",
       "    <tr>\n",
       "      <th>31</th>\n",
       "      <td>31</td>\n",
       "      <td>flanela</td>\n",
       "      <td>Produtos de Limpeza</td>\n",
       "      <td>0.59</td>\n",
       "      <td>1.99</td>\n",
       "      <td>9A</td>\n",
       "      <td>32</td>\n",
       "      <td>unidade</td>\n",
       "      <td>flanela.jpg</td>\n",
       "    </tr>\n",
       "    <tr>\n",
       "      <th>32</th>\n",
       "      <td>32</td>\n",
       "      <td>odorizador</td>\n",
       "      <td>Produtos de Limpeza</td>\n",
       "      <td>14.38</td>\n",
       "      <td>23.99</td>\n",
       "      <td>9B</td>\n",
       "      <td>6</td>\n",
       "      <td>unidade</td>\n",
       "      <td>odorizador.jpg</td>\n",
       "    </tr>\n",
       "    <tr>\n",
       "      <th>33</th>\n",
       "      <td>33</td>\n",
       "      <td>rodo</td>\n",
       "      <td>Produtos de Limpeza</td>\n",
       "      <td>2.74</td>\n",
       "      <td>5.99</td>\n",
       "      <td>9C</td>\n",
       "      <td>10</td>\n",
       "      <td>unidade</td>\n",
       "      <td>rodo.jpg</td>\n",
       "    </tr>\n",
       "    <tr>\n",
       "      <th>34</th>\n",
       "      <td>34</td>\n",
       "      <td>sabão em pó</td>\n",
       "      <td>Produtos de Limpeza</td>\n",
       "      <td>6.15</td>\n",
       "      <td>9.69</td>\n",
       "      <td>8D</td>\n",
       "      <td>13</td>\n",
       "      <td>unidade</td>\n",
       "      <td>sabao_em_po.jpg</td>\n",
       "    </tr>\n",
       "    <tr>\n",
       "      <th>35</th>\n",
       "      <td>35</td>\n",
       "      <td>sabonete</td>\n",
       "      <td>Produtos de Limpeza</td>\n",
       "      <td>0.65</td>\n",
       "      <td>1.29</td>\n",
       "      <td>9D</td>\n",
       "      <td>58</td>\n",
       "      <td>unidade</td>\n",
       "      <td>sabonete.jpg</td>\n",
       "    </tr>\n",
       "  </tbody>\n",
       "</table>\n",
       "</div>"
      ],
      "text/plain": [
       "    id_produtos               nome                secao   custo   preco  \\\n",
       "0             0            morango   Alimentos em Geral    4.30    7.99   \n",
       "1             1           melancia   Alimentos em Geral   11.79   15.99   \n",
       "2             2             banana   Alimentos em Geral    2.00    5.99   \n",
       "3             3                uva   Alimentos em Geral    4.19    7.47   \n",
       "4             4             batata   Alimentos em Geral    2.39    3.99   \n",
       "5             5          berinjela   Alimentos em Geral    8.59   11.99   \n",
       "6             6          abobrinha   Alimentos em Geral    2.69    3.49   \n",
       "7             7             alface   Alimentos em Geral    0.45    0.98   \n",
       "8             8         couve-flor   Alimentos em Geral    3.19    5.48   \n",
       "9             9             feijão   Alimentos em Geral    6.49    8.45   \n",
       "10           10              arroz   Alimentos em Geral   15.89    4.31   \n",
       "11           11           macarrão   Alimentos em Geral    1.69    2.48   \n",
       "12           12            alcatra              Açougue   23.19   31.99   \n",
       "13           13            maminha              Açougue   33.49   42.99   \n",
       "14           14      bisteca suína              Açougue   15.73   22.79   \n",
       "15           15  carré de cordeiro              Açougue  147.99  172.00   \n",
       "16           16            costela              Açougue   16.39   20.99   \n",
       "17           17       paleta suína              Açougue   17.09   23.99   \n",
       "18           18            picanha              Açougue   43.35   70.89   \n",
       "19           19    peito de frango              Açougue   11.19   16.49   \n",
       "20           20               bolo              Padaria   17.89   35.00   \n",
       "21           21       pão de forma              Padaria    3.73    6.99   \n",
       "22           22      pão de queijo              Padaria   17.04   23.99   \n",
       "23           23        pão francês              Padaria    4.39   10.99   \n",
       "24           24             pastel              Padaria    3.19    4.99   \n",
       "25           25          sanduíche              Padaria    7.99   12.99   \n",
       "26           26              sonho              Padaria    1.79    3.49   \n",
       "27           27              torta              Padaria   26.95   45.00   \n",
       "28           28          amaciante  Produtos de Limpeza    5.19    6.70   \n",
       "29           29     água sanitária  Produtos de Limpeza    7.96   11.98   \n",
       "30           30         detergente  Produtos de Limpeza    1.30    2.70   \n",
       "31           31            flanela  Produtos de Limpeza    0.59    1.99   \n",
       "32           32         odorizador  Produtos de Limpeza   14.38   23.99   \n",
       "33           33               rodo  Produtos de Limpeza    2.74    5.99   \n",
       "34           34        sabão em pó  Produtos de Limpeza    6.15    9.69   \n",
       "35           35           sabonete  Produtos de Limpeza    0.65    1.29   \n",
       "\n",
       "   prateleira  estoque unidade_de_medida_de_estoque                 imagem  \n",
       "0          1A       50                      bandeja        morango-alt.png  \n",
       "1          1C       20                      unidade           melancia.jpg  \n",
       "2          1B       40                           kg             banana.png  \n",
       "3          1D       36                      bandeja            uva-alt.png  \n",
       "4          2B       47                           kg            batata.JPEG  \n",
       "5          2D       12                           kg          beringela.jpg  \n",
       "6          2A       19                           kg         abobrinha.JPEG  \n",
       "7          2C       25                           pé             alface.png  \n",
       "8          2E       20                           pé         couve-flor.png  \n",
       "9          3B       43                           kg             feijao.png  \n",
       "10         3A       80                           kg              arroz.png  \n",
       "11         3C       38                       pacote           macarrao.jpg  \n",
       "12         4A        7                           kg            alcatra.jpg  \n",
       "13         4B        9                           kg            maminha.jpg  \n",
       "14         5A        5                           kg      bisteca_suina.jpg  \n",
       "15         5B        5                           kg  carre_de_cordeiro.jpg  \n",
       "16         5C       10                           kg            costela.jpg  \n",
       "17         5D        9                           kg       paleta_suina.jpg  \n",
       "18         4C        6                           kg            picanha.jpg  \n",
       "19         4D       10                           kg    peito_de_frango.jpg  \n",
       "20         6A        7                           kg               bolo.jpg  \n",
       "21         7A       15                       pacote       pao_de_forma.jpg  \n",
       "22         7B        1                           kg      pao_de_queijo.jpg  \n",
       "23         7C        3                           kg        pao_frances.jpg  \n",
       "24         7D        9                      unidade             pastel.jpg  \n",
       "25         7E       15                      unidade          sanduiche.jpg  \n",
       "26         6B       20                      unidade              sonho.jpg  \n",
       "27         6C        7                           kg              torta.jpg  \n",
       "28         8A       12                      unidade          amaciante.jpg  \n",
       "29         8B        8                      unidade     agua_sanitaria.jpg  \n",
       "30         8C       40                      unidade         detergente.jpg  \n",
       "31         9A       32                      unidade            flanela.jpg  \n",
       "32         9B        6                      unidade         odorizador.jpg  \n",
       "33         9C       10                      unidade               rodo.jpg  \n",
       "34         8D       13                      unidade        sabao_em_po.jpg  \n",
       "35         9D       58                      unidade           sabonete.jpg  "
      ]
     },
     "execution_count": 52,
     "metadata": {},
     "output_type": "execute_result"
    }
   ],
   "source": [
    "produtos=p[0]\n",
    "#renomenado a coluna id para id produto na tabela de produtos\n",
    "produtos.rename(columns={\"id\": \"id_produtos\"}, inplace = 1)\n",
    "produtos[\"secao\"].replace({\"frutas_e_verduras\":\"Alimentos em Geral\", \"acougue\": \"Açougue\", \"padaria\":\"Padaria\", \"produtos_de_limpeza\": \"Produtos de Limpeza\"}, inplace=True)\n",
    "produtos"
   ]
  },
  {
   "cell_type": "code",
   "execution_count": 53,
   "id": "b77c2dab",
   "metadata": {},
   "outputs": [
    {
     "data": {
      "text/html": [
       "<div>\n",
       "<style scoped>\n",
       "    .dataframe tbody tr th:only-of-type {\n",
       "        vertical-align: middle;\n",
       "    }\n",
       "\n",
       "    .dataframe tbody tr th {\n",
       "        vertical-align: top;\n",
       "    }\n",
       "\n",
       "    .dataframe thead th {\n",
       "        text-align: right;\n",
       "    }\n",
       "</style>\n",
       "<table border=\"1\" class=\"dataframe\">\n",
       "  <thead>\n",
       "    <tr style=\"text-align: right;\">\n",
       "      <th></th>\n",
       "      <th>id_clientes</th>\n",
       "      <th>nome_cliente</th>\n",
       "      <th>nascimento</th>\n",
       "      <th>endereco</th>\n",
       "      <th>cpf</th>\n",
       "      <th>telefone</th>\n",
       "      <th>usuario</th>\n",
       "      <th>senha</th>\n",
       "    </tr>\n",
       "  </thead>\n",
       "  <tbody>\n",
       "    <tr>\n",
       "      <th>0</th>\n",
       "      <td>0</td>\n",
       "      <td>Sophia Pires</td>\n",
       "      <td>1985-07-13</td>\n",
       "      <td>Alameda de Duarte\\nVila Atila De Paiva\\n172558...</td>\n",
       "      <td>301.594.762-16</td>\n",
       "      <td>0300 016 2949</td>\n",
       "      <td>lorena62</td>\n",
       "      <td>X7XRyIkW#RIV</td>\n",
       "    </tr>\n",
       "    <tr>\n",
       "      <th>1</th>\n",
       "      <td>1</td>\n",
       "      <td>Stephany Fogaça</td>\n",
       "      <td>1985-04-13</td>\n",
       "      <td>Quadra Maria Luiza Pereira, 13\\nVila Sumaré\\n6...</td>\n",
       "      <td>590.826.413-05</td>\n",
       "      <td>+55 71 7596 6621</td>\n",
       "      <td>amandada-luz</td>\n",
       "      <td>&amp;y9Z+3m)gQS)</td>\n",
       "    </tr>\n",
       "    <tr>\n",
       "      <th>2</th>\n",
       "      <td>2</td>\n",
       "      <td>Anthony Melo</td>\n",
       "      <td>1967-08-04</td>\n",
       "      <td>Condomínio Rezende, 66\\nMadri\\n34866-073 da Mo...</td>\n",
       "      <td>472.583.906-00</td>\n",
       "      <td>(081) 0894 2818</td>\n",
       "      <td>theosantos</td>\n",
       "      <td>nh6F#plp$^y2</td>\n",
       "    </tr>\n",
       "    <tr>\n",
       "      <th>3</th>\n",
       "      <td>3</td>\n",
       "      <td>Davi Lucca Lopes</td>\n",
       "      <td>1951-11-21</td>\n",
       "      <td>Alameda Martins\\nAcaba Mundo\\n16403-945 Souza ...</td>\n",
       "      <td>197.542.083-79</td>\n",
       "      <td>+55 (061) 1048-8595</td>\n",
       "      <td>luna65</td>\n",
       "      <td>)H4!lBeQqRh4</td>\n",
       "    </tr>\n",
       "    <tr>\n",
       "      <th>4</th>\n",
       "      <td>4</td>\n",
       "      <td>Antônio Lima</td>\n",
       "      <td>1983-06-21</td>\n",
       "      <td>Favela Pereira, 72\\nVera Cruz\\n70389881 da Mat...</td>\n",
       "      <td>085.742.931-05</td>\n",
       "      <td>61 6168-7981</td>\n",
       "      <td>fogacayuri</td>\n",
       "      <td>f!uNsfA!*#7r</td>\n",
       "    </tr>\n",
       "    <tr>\n",
       "      <th>...</th>\n",
       "      <td>...</td>\n",
       "      <td>...</td>\n",
       "      <td>...</td>\n",
       "      <td>...</td>\n",
       "      <td>...</td>\n",
       "      <td>...</td>\n",
       "      <td>...</td>\n",
       "      <td>...</td>\n",
       "    </tr>\n",
       "    <tr>\n",
       "      <th>195</th>\n",
       "      <td>195</td>\n",
       "      <td>Heitor Souza</td>\n",
       "      <td>1957-04-17</td>\n",
       "      <td>Trevo de da Rosa, 61\\nLourdes\\n85713-646 Freit...</td>\n",
       "      <td>013.679.254-52</td>\n",
       "      <td>+55 41 4151 5088</td>\n",
       "      <td>melogustavo-henrique</td>\n",
       "      <td>MEjOp9ak@*1Y</td>\n",
       "    </tr>\n",
       "    <tr>\n",
       "      <th>196</th>\n",
       "      <td>196</td>\n",
       "      <td>Renan Silveira</td>\n",
       "      <td>1984-03-02</td>\n",
       "      <td>Estrada de Nascimento, 44\\nSanta Lúcia\\n47758-...</td>\n",
       "      <td>215.680.379-02</td>\n",
       "      <td>(031) 4278 4196</td>\n",
       "      <td>carolina63</td>\n",
       "      <td>#Vc)0cc214PZ</td>\n",
       "    </tr>\n",
       "    <tr>\n",
       "      <th>197</th>\n",
       "      <td>197</td>\n",
       "      <td>Vitor Gabriel Pires</td>\n",
       "      <td>1999-07-27</td>\n",
       "      <td>Vereda de Pinto, 73\\nDom Bosco\\n18131900 Silve...</td>\n",
       "      <td>254.879.306-00</td>\n",
       "      <td>(081) 6579 6825</td>\n",
       "      <td>gabriel10</td>\n",
       "      <td>#fx3a#9gGh(W</td>\n",
       "    </tr>\n",
       "    <tr>\n",
       "      <th>198</th>\n",
       "      <td>198</td>\n",
       "      <td>Benício Vieira</td>\n",
       "      <td>1965-08-23</td>\n",
       "      <td>Praia Isabella Costa, 205\\nSanta Cecilia\\n8166...</td>\n",
       "      <td>079.216.548-94</td>\n",
       "      <td>(041) 8549-1380</td>\n",
       "      <td>miguel82</td>\n",
       "      <td>@@e2UMMhqfDM</td>\n",
       "    </tr>\n",
       "    <tr>\n",
       "      <th>199</th>\n",
       "      <td>199</td>\n",
       "      <td>Sra. Emilly da Paz</td>\n",
       "      <td>1948-09-07</td>\n",
       "      <td>Jardim de Nascimento, 64\\nVila Suzana Primeira...</td>\n",
       "      <td>801.345.627-71</td>\n",
       "      <td>+55 (011) 1788-6493</td>\n",
       "      <td>maria-eduardasales</td>\n",
       "      <td>0lL6$7Xh&amp;4t5</td>\n",
       "    </tr>\n",
       "  </tbody>\n",
       "</table>\n",
       "<p>200 rows × 8 columns</p>\n",
       "</div>"
      ],
      "text/plain": [
       "     id_clientes         nome_cliente  nascimento  \\\n",
       "0              0         Sophia Pires  1985-07-13   \n",
       "1              1      Stephany Fogaça  1985-04-13   \n",
       "2              2         Anthony Melo  1967-08-04   \n",
       "3              3     Davi Lucca Lopes  1951-11-21   \n",
       "4              4         Antônio Lima  1983-06-21   \n",
       "..           ...                  ...         ...   \n",
       "195          195         Heitor Souza  1957-04-17   \n",
       "196          196       Renan Silveira  1984-03-02   \n",
       "197          197  Vitor Gabriel Pires  1999-07-27   \n",
       "198          198       Benício Vieira  1965-08-23   \n",
       "199          199   Sra. Emilly da Paz  1948-09-07   \n",
       "\n",
       "                                              endereco             cpf  \\\n",
       "0    Alameda de Duarte\\nVila Atila De Paiva\\n172558...  301.594.762-16   \n",
       "1    Quadra Maria Luiza Pereira, 13\\nVila Sumaré\\n6...  590.826.413-05   \n",
       "2    Condomínio Rezende, 66\\nMadri\\n34866-073 da Mo...  472.583.906-00   \n",
       "3    Alameda Martins\\nAcaba Mundo\\n16403-945 Souza ...  197.542.083-79   \n",
       "4    Favela Pereira, 72\\nVera Cruz\\n70389881 da Mat...  085.742.931-05   \n",
       "..                                                 ...             ...   \n",
       "195  Trevo de da Rosa, 61\\nLourdes\\n85713-646 Freit...  013.679.254-52   \n",
       "196  Estrada de Nascimento, 44\\nSanta Lúcia\\n47758-...  215.680.379-02   \n",
       "197  Vereda de Pinto, 73\\nDom Bosco\\n18131900 Silve...  254.879.306-00   \n",
       "198  Praia Isabella Costa, 205\\nSanta Cecilia\\n8166...  079.216.548-94   \n",
       "199  Jardim de Nascimento, 64\\nVila Suzana Primeira...  801.345.627-71   \n",
       "\n",
       "                telefone               usuario         senha  \n",
       "0          0300 016 2949              lorena62  X7XRyIkW#RIV  \n",
       "1       +55 71 7596 6621          amandada-luz  &y9Z+3m)gQS)  \n",
       "2        (081) 0894 2818            theosantos  nh6F#plp$^y2  \n",
       "3    +55 (061) 1048-8595                luna65  )H4!lBeQqRh4  \n",
       "4           61 6168-7981            fogacayuri  f!uNsfA!*#7r  \n",
       "..                   ...                   ...           ...  \n",
       "195     +55 41 4151 5088  melogustavo-henrique  MEjOp9ak@*1Y  \n",
       "196      (031) 4278 4196            carolina63  #Vc)0cc214PZ  \n",
       "197      (081) 6579 6825             gabriel10  #fx3a#9gGh(W  \n",
       "198      (041) 8549-1380              miguel82  @@e2UMMhqfDM  \n",
       "199  +55 (011) 1788-6493    maria-eduardasales  0lL6$7Xh&4t5  \n",
       "\n",
       "[200 rows x 8 columns]"
      ]
     },
     "execution_count": 53,
     "metadata": {},
     "output_type": "execute_result"
    }
   ],
   "source": [
    "clientes=p[1]\n",
    "#renomenado a coluna id para id_cliente na tabela de clientes\n",
    "clientes.rename(columns={\"id\": \"id_clientes\"}, inplace = 1)\n",
    "#renomenado a coluna nome para nome_cliente na tabela de clientes\n",
    "clientes.rename(columns={\"nome\": \"nome_cliente\"}, inplace = 1)\n",
    "clientes"
   ]
  },
  {
   "cell_type": "code",
   "execution_count": 54,
   "id": "c549b3fe",
   "metadata": {},
   "outputs": [
    {
     "data": {
      "text/html": [
       "<div>\n",
       "<style scoped>\n",
       "    .dataframe tbody tr th:only-of-type {\n",
       "        vertical-align: middle;\n",
       "    }\n",
       "\n",
       "    .dataframe tbody tr th {\n",
       "        vertical-align: top;\n",
       "    }\n",
       "\n",
       "    .dataframe thead th {\n",
       "        text-align: right;\n",
       "    }\n",
       "</style>\n",
       "<table border=\"1\" class=\"dataframe\">\n",
       "  <thead>\n",
       "    <tr style=\"text-align: right;\">\n",
       "      <th></th>\n",
       "      <th>id_vendas</th>\n",
       "      <th>id_clientes</th>\n",
       "      <th>data</th>\n",
       "    </tr>\n",
       "  </thead>\n",
       "  <tbody>\n",
       "    <tr>\n",
       "      <th>0</th>\n",
       "      <td>0</td>\n",
       "      <td>175</td>\n",
       "      <td>2021-11-01</td>\n",
       "    </tr>\n",
       "    <tr>\n",
       "      <th>1</th>\n",
       "      <td>1</td>\n",
       "      <td>25</td>\n",
       "      <td>2021-11-01</td>\n",
       "    </tr>\n",
       "    <tr>\n",
       "      <th>2</th>\n",
       "      <td>2</td>\n",
       "      <td>123</td>\n",
       "      <td>2021-11-01</td>\n",
       "    </tr>\n",
       "    <tr>\n",
       "      <th>3</th>\n",
       "      <td>3</td>\n",
       "      <td>125</td>\n",
       "      <td>2021-11-01</td>\n",
       "    </tr>\n",
       "    <tr>\n",
       "      <th>4</th>\n",
       "      <td>4</td>\n",
       "      <td>111</td>\n",
       "      <td>2021-11-01</td>\n",
       "    </tr>\n",
       "    <tr>\n",
       "      <th>...</th>\n",
       "      <td>...</td>\n",
       "      <td>...</td>\n",
       "      <td>...</td>\n",
       "    </tr>\n",
       "    <tr>\n",
       "      <th>495</th>\n",
       "      <td>495</td>\n",
       "      <td>155</td>\n",
       "      <td>2021-11-30</td>\n",
       "    </tr>\n",
       "    <tr>\n",
       "      <th>496</th>\n",
       "      <td>496</td>\n",
       "      <td>3</td>\n",
       "      <td>2021-11-30</td>\n",
       "    </tr>\n",
       "    <tr>\n",
       "      <th>497</th>\n",
       "      <td>497</td>\n",
       "      <td>70</td>\n",
       "      <td>2021-11-30</td>\n",
       "    </tr>\n",
       "    <tr>\n",
       "      <th>498</th>\n",
       "      <td>498</td>\n",
       "      <td>157</td>\n",
       "      <td>2021-11-30</td>\n",
       "    </tr>\n",
       "    <tr>\n",
       "      <th>499</th>\n",
       "      <td>499</td>\n",
       "      <td>82</td>\n",
       "      <td>2021-11-30</td>\n",
       "    </tr>\n",
       "  </tbody>\n",
       "</table>\n",
       "<p>500 rows × 3 columns</p>\n",
       "</div>"
      ],
      "text/plain": [
       "     id_vendas  id_clientes        data\n",
       "0            0          175  2021-11-01\n",
       "1            1           25  2021-11-01\n",
       "2            2          123  2021-11-01\n",
       "3            3          125  2021-11-01\n",
       "4            4          111  2021-11-01\n",
       "..         ...          ...         ...\n",
       "495        495          155  2021-11-30\n",
       "496        496            3  2021-11-30\n",
       "497        497           70  2021-11-30\n",
       "498        498          157  2021-11-30\n",
       "499        499           82  2021-11-30\n",
       "\n",
       "[500 rows x 3 columns]"
      ]
     },
     "execution_count": 54,
     "metadata": {},
     "output_type": "execute_result"
    }
   ],
   "source": [
    "vendas=p[2]\n",
    "#renomenado a coluna id para id_vendas na tabela de vendas\n",
    "vendas.rename(columns={\"id\": \"id_vendas\"}, inplace = 1)\n",
    "vendas"
   ]
  },
  {
   "cell_type": "code",
   "execution_count": 55,
   "id": "b6987937",
   "metadata": {},
   "outputs": [
    {
     "data": {
      "text/html": [
       "<div>\n",
       "<style scoped>\n",
       "    .dataframe tbody tr th:only-of-type {\n",
       "        vertical-align: middle;\n",
       "    }\n",
       "\n",
       "    .dataframe tbody tr th {\n",
       "        vertical-align: top;\n",
       "    }\n",
       "\n",
       "    .dataframe thead th {\n",
       "        text-align: right;\n",
       "    }\n",
       "</style>\n",
       "<table border=\"1\" class=\"dataframe\">\n",
       "  <thead>\n",
       "    <tr style=\"text-align: right;\">\n",
       "      <th></th>\n",
       "      <th>id_vendas</th>\n",
       "      <th>id_produtos</th>\n",
       "      <th>quantidade</th>\n",
       "    </tr>\n",
       "  </thead>\n",
       "  <tbody>\n",
       "    <tr>\n",
       "      <th>0</th>\n",
       "      <td>0</td>\n",
       "      <td>2</td>\n",
       "      <td>1</td>\n",
       "    </tr>\n",
       "    <tr>\n",
       "      <th>1</th>\n",
       "      <td>1</td>\n",
       "      <td>1</td>\n",
       "      <td>3</td>\n",
       "    </tr>\n",
       "    <tr>\n",
       "      <th>2</th>\n",
       "      <td>2</td>\n",
       "      <td>30</td>\n",
       "      <td>4</td>\n",
       "    </tr>\n",
       "    <tr>\n",
       "      <th>3</th>\n",
       "      <td>3</td>\n",
       "      <td>28</td>\n",
       "      <td>2</td>\n",
       "    </tr>\n",
       "    <tr>\n",
       "      <th>4</th>\n",
       "      <td>4</td>\n",
       "      <td>3</td>\n",
       "      <td>1</td>\n",
       "    </tr>\n",
       "    <tr>\n",
       "      <th>...</th>\n",
       "      <td>...</td>\n",
       "      <td>...</td>\n",
       "      <td>...</td>\n",
       "    </tr>\n",
       "    <tr>\n",
       "      <th>2495</th>\n",
       "      <td>107</td>\n",
       "      <td>17</td>\n",
       "      <td>4</td>\n",
       "    </tr>\n",
       "    <tr>\n",
       "      <th>2496</th>\n",
       "      <td>75</td>\n",
       "      <td>16</td>\n",
       "      <td>2</td>\n",
       "    </tr>\n",
       "    <tr>\n",
       "      <th>2497</th>\n",
       "      <td>157</td>\n",
       "      <td>30</td>\n",
       "      <td>2</td>\n",
       "    </tr>\n",
       "    <tr>\n",
       "      <th>2498</th>\n",
       "      <td>58</td>\n",
       "      <td>29</td>\n",
       "      <td>4</td>\n",
       "    </tr>\n",
       "    <tr>\n",
       "      <th>2499</th>\n",
       "      <td>14</td>\n",
       "      <td>13</td>\n",
       "      <td>4</td>\n",
       "    </tr>\n",
       "  </tbody>\n",
       "</table>\n",
       "<p>2500 rows × 3 columns</p>\n",
       "</div>"
      ],
      "text/plain": [
       "      id_vendas  id_produtos  quantidade\n",
       "0             0            2           1\n",
       "1             1            1           3\n",
       "2             2           30           4\n",
       "3             3           28           2\n",
       "4             4            3           1\n",
       "...         ...          ...         ...\n",
       "2495        107           17           4\n",
       "2496         75           16           2\n",
       "2497        157           30           2\n",
       "2498         58           29           4\n",
       "2499         14           13           4\n",
       "\n",
       "[2500 rows x 3 columns]"
      ]
     },
     "execution_count": 55,
     "metadata": {},
     "output_type": "execute_result"
    }
   ],
   "source": [
    "venda_produtos=p[3]\n",
    "venda_produtos"
   ]
  },
  {
   "cell_type": "markdown",
   "id": "77a9a467",
   "metadata": {},
   "source": [
    "##  Total de vendas por produto"
   ]
  },
  {
   "cell_type": "code",
   "execution_count": 56,
   "id": "fe3c1491",
   "metadata": {},
   "outputs": [
    {
     "data": {
      "text/html": [
       "<div>\n",
       "<style scoped>\n",
       "    .dataframe tbody tr th:only-of-type {\n",
       "        vertical-align: middle;\n",
       "    }\n",
       "\n",
       "    .dataframe tbody tr th {\n",
       "        vertical-align: top;\n",
       "    }\n",
       "\n",
       "    .dataframe thead th {\n",
       "        text-align: right;\n",
       "    }\n",
       "</style>\n",
       "<table border=\"1\" class=\"dataframe\">\n",
       "  <thead>\n",
       "    <tr style=\"text-align: right;\">\n",
       "      <th></th>\n",
       "      <th>id_vendas</th>\n",
       "      <th>id_produtos</th>\n",
       "      <th>quantidade</th>\n",
       "      <th>nome</th>\n",
       "      <th>secao</th>\n",
       "      <th>custo</th>\n",
       "      <th>preco</th>\n",
       "      <th>prateleira</th>\n",
       "      <th>estoque</th>\n",
       "      <th>unidade_de_medida_de_estoque</th>\n",
       "      <th>imagem</th>\n",
       "      <th>id_clientes</th>\n",
       "      <th>data</th>\n",
       "      <th>nome_cliente</th>\n",
       "      <th>nascimento</th>\n",
       "      <th>endereco</th>\n",
       "      <th>cpf</th>\n",
       "      <th>telefone</th>\n",
       "      <th>usuario</th>\n",
       "      <th>senha</th>\n",
       "    </tr>\n",
       "  </thead>\n",
       "  <tbody>\n",
       "    <tr>\n",
       "      <th>0</th>\n",
       "      <td>0</td>\n",
       "      <td>2</td>\n",
       "      <td>1</td>\n",
       "      <td>banana</td>\n",
       "      <td>Alimentos em Geral</td>\n",
       "      <td>2.00</td>\n",
       "      <td>5.99</td>\n",
       "      <td>1B</td>\n",
       "      <td>40</td>\n",
       "      <td>kg</td>\n",
       "      <td>banana.png</td>\n",
       "      <td>175</td>\n",
       "      <td>2021-11-01</td>\n",
       "      <td>Nicole Almeida</td>\n",
       "      <td>1948-07-06</td>\n",
       "      <td>Avenida de Rezende\\nEuropa\\n15972447 Silva / PI</td>\n",
       "      <td>901.685.347-20</td>\n",
       "      <td>+55 (084) 3106-6899</td>\n",
       "      <td>antoniosouza</td>\n",
       "      <td>ib_30TQl(^qn</td>\n",
       "    </tr>\n",
       "    <tr>\n",
       "      <th>1</th>\n",
       "      <td>0</td>\n",
       "      <td>2</td>\n",
       "      <td>1</td>\n",
       "      <td>banana</td>\n",
       "      <td>Alimentos em Geral</td>\n",
       "      <td>2.00</td>\n",
       "      <td>5.99</td>\n",
       "      <td>1B</td>\n",
       "      <td>40</td>\n",
       "      <td>kg</td>\n",
       "      <td>banana.png</td>\n",
       "      <td>175</td>\n",
       "      <td>2021-11-01</td>\n",
       "      <td>Nicole Almeida</td>\n",
       "      <td>1948-07-06</td>\n",
       "      <td>Avenida de Rezende\\nEuropa\\n15972447 Silva / PI</td>\n",
       "      <td>901.685.347-20</td>\n",
       "      <td>+55 (084) 3106-6899</td>\n",
       "      <td>antoniosouza</td>\n",
       "      <td>ib_30TQl(^qn</td>\n",
       "    </tr>\n",
       "    <tr>\n",
       "      <th>2</th>\n",
       "      <td>0</td>\n",
       "      <td>31</td>\n",
       "      <td>4</td>\n",
       "      <td>flanela</td>\n",
       "      <td>Produtos de Limpeza</td>\n",
       "      <td>0.59</td>\n",
       "      <td>1.99</td>\n",
       "      <td>9A</td>\n",
       "      <td>32</td>\n",
       "      <td>unidade</td>\n",
       "      <td>flanela.jpg</td>\n",
       "      <td>175</td>\n",
       "      <td>2021-11-01</td>\n",
       "      <td>Nicole Almeida</td>\n",
       "      <td>1948-07-06</td>\n",
       "      <td>Avenida de Rezende\\nEuropa\\n15972447 Silva / PI</td>\n",
       "      <td>901.685.347-20</td>\n",
       "      <td>+55 (084) 3106-6899</td>\n",
       "      <td>antoniosouza</td>\n",
       "      <td>ib_30TQl(^qn</td>\n",
       "    </tr>\n",
       "    <tr>\n",
       "      <th>3</th>\n",
       "      <td>0</td>\n",
       "      <td>31</td>\n",
       "      <td>4</td>\n",
       "      <td>flanela</td>\n",
       "      <td>Produtos de Limpeza</td>\n",
       "      <td>0.59</td>\n",
       "      <td>1.99</td>\n",
       "      <td>9A</td>\n",
       "      <td>32</td>\n",
       "      <td>unidade</td>\n",
       "      <td>flanela.jpg</td>\n",
       "      <td>175</td>\n",
       "      <td>2021-11-01</td>\n",
       "      <td>Nicole Almeida</td>\n",
       "      <td>1948-07-06</td>\n",
       "      <td>Avenida de Rezende\\nEuropa\\n15972447 Silva / PI</td>\n",
       "      <td>901.685.347-20</td>\n",
       "      <td>+55 (084) 3106-6899</td>\n",
       "      <td>antoniosouza</td>\n",
       "      <td>ib_30TQl(^qn</td>\n",
       "    </tr>\n",
       "    <tr>\n",
       "      <th>4</th>\n",
       "      <td>0</td>\n",
       "      <td>27</td>\n",
       "      <td>3</td>\n",
       "      <td>torta</td>\n",
       "      <td>Padaria</td>\n",
       "      <td>26.95</td>\n",
       "      <td>45.00</td>\n",
       "      <td>6C</td>\n",
       "      <td>7</td>\n",
       "      <td>kg</td>\n",
       "      <td>torta.jpg</td>\n",
       "      <td>175</td>\n",
       "      <td>2021-11-01</td>\n",
       "      <td>Nicole Almeida</td>\n",
       "      <td>1948-07-06</td>\n",
       "      <td>Avenida de Rezende\\nEuropa\\n15972447 Silva / PI</td>\n",
       "      <td>901.685.347-20</td>\n",
       "      <td>+55 (084) 3106-6899</td>\n",
       "      <td>antoniosouza</td>\n",
       "      <td>ib_30TQl(^qn</td>\n",
       "    </tr>\n",
       "    <tr>\n",
       "      <th>...</th>\n",
       "      <td>...</td>\n",
       "      <td>...</td>\n",
       "      <td>...</td>\n",
       "      <td>...</td>\n",
       "      <td>...</td>\n",
       "      <td>...</td>\n",
       "      <td>...</td>\n",
       "      <td>...</td>\n",
       "      <td>...</td>\n",
       "      <td>...</td>\n",
       "      <td>...</td>\n",
       "      <td>...</td>\n",
       "      <td>...</td>\n",
       "      <td>...</td>\n",
       "      <td>...</td>\n",
       "      <td>...</td>\n",
       "      <td>...</td>\n",
       "      <td>...</td>\n",
       "      <td>...</td>\n",
       "      <td>...</td>\n",
       "    </tr>\n",
       "    <tr>\n",
       "      <th>2495</th>\n",
       "      <td>387</td>\n",
       "      <td>26</td>\n",
       "      <td>4</td>\n",
       "      <td>sonho</td>\n",
       "      <td>Padaria</td>\n",
       "      <td>1.79</td>\n",
       "      <td>3.49</td>\n",
       "      <td>6B</td>\n",
       "      <td>20</td>\n",
       "      <td>unidade</td>\n",
       "      <td>sonho.jpg</td>\n",
       "      <td>55</td>\n",
       "      <td>2021-11-25</td>\n",
       "      <td>Ana Beatriz Correia</td>\n",
       "      <td>1985-07-21</td>\n",
       "      <td>Fazenda Isabella Carvalho\\nJardim Vitoria\\n417...</td>\n",
       "      <td>415.069.738-84</td>\n",
       "      <td>+55 41 1682 8394</td>\n",
       "      <td>agatha53</td>\n",
       "      <td>O&amp;^S12YhXiy*</td>\n",
       "    </tr>\n",
       "    <tr>\n",
       "      <th>2496</th>\n",
       "      <td>218</td>\n",
       "      <td>14</td>\n",
       "      <td>4</td>\n",
       "      <td>bisteca suína</td>\n",
       "      <td>Açougue</td>\n",
       "      <td>15.73</td>\n",
       "      <td>22.79</td>\n",
       "      <td>5A</td>\n",
       "      <td>5</td>\n",
       "      <td>kg</td>\n",
       "      <td>bisteca_suina.jpg</td>\n",
       "      <td>132</td>\n",
       "      <td>2021-11-15</td>\n",
       "      <td>Alexandre Caldeira</td>\n",
       "      <td>1964-01-23</td>\n",
       "      <td>Trevo de Costela, 84\\nManacas\\n42659-808 Araúj...</td>\n",
       "      <td>750.981.342-50</td>\n",
       "      <td>(011) 3878-3273</td>\n",
       "      <td>lorenapeixoto</td>\n",
       "      <td>*8VgLnp%&amp;7A1</td>\n",
       "    </tr>\n",
       "    <tr>\n",
       "      <th>2497</th>\n",
       "      <td>289</td>\n",
       "      <td>14</td>\n",
       "      <td>2</td>\n",
       "      <td>bisteca suína</td>\n",
       "      <td>Açougue</td>\n",
       "      <td>15.73</td>\n",
       "      <td>22.79</td>\n",
       "      <td>5A</td>\n",
       "      <td>5</td>\n",
       "      <td>kg</td>\n",
       "      <td>bisteca_suina.jpg</td>\n",
       "      <td>63</td>\n",
       "      <td>2021-11-20</td>\n",
       "      <td>Sr. Yago da Paz</td>\n",
       "      <td>1986-12-18</td>\n",
       "      <td>Residencial Thiago Moreira, 994\\nSão Jorge 2ª ...</td>\n",
       "      <td>784.059.621-58</td>\n",
       "      <td>71 8485 6376</td>\n",
       "      <td>scostela</td>\n",
       "      <td>2lNy3Ltr*_!0</td>\n",
       "    </tr>\n",
       "    <tr>\n",
       "      <th>2498</th>\n",
       "      <td>429</td>\n",
       "      <td>12</td>\n",
       "      <td>3</td>\n",
       "      <td>alcatra</td>\n",
       "      <td>Açougue</td>\n",
       "      <td>23.19</td>\n",
       "      <td>31.99</td>\n",
       "      <td>4A</td>\n",
       "      <td>7</td>\n",
       "      <td>kg</td>\n",
       "      <td>alcatra.jpg</td>\n",
       "      <td>92</td>\n",
       "      <td>2021-11-27</td>\n",
       "      <td>Maysa Lopes</td>\n",
       "      <td>1979-12-06</td>\n",
       "      <td>Praia Silva, 52\\nAparecida 7ª Seção\\n74688930 ...</td>\n",
       "      <td>150.346.927-16</td>\n",
       "      <td>+55 84 4514 3031</td>\n",
       "      <td>vinicius95</td>\n",
       "      <td>2#$QtSx0lR4q</td>\n",
       "    </tr>\n",
       "    <tr>\n",
       "      <th>2499</th>\n",
       "      <td>237</td>\n",
       "      <td>23</td>\n",
       "      <td>3</td>\n",
       "      <td>pão francês</td>\n",
       "      <td>Padaria</td>\n",
       "      <td>4.39</td>\n",
       "      <td>10.99</td>\n",
       "      <td>7C</td>\n",
       "      <td>3</td>\n",
       "      <td>kg</td>\n",
       "      <td>pao_frances.jpg</td>\n",
       "      <td>109</td>\n",
       "      <td>2021-11-16</td>\n",
       "      <td>Maria Julia Rocha</td>\n",
       "      <td>1981-07-18</td>\n",
       "      <td>Loteamento Cavalcanti, 18\\nNovo Aarão Reis\\n47...</td>\n",
       "      <td>478.205.961-20</td>\n",
       "      <td>+55 (011) 9576 1820</td>\n",
       "      <td>pbarbosa</td>\n",
       "      <td>!#E2OSc!e@7_</td>\n",
       "    </tr>\n",
       "  </tbody>\n",
       "</table>\n",
       "<p>2500 rows × 20 columns</p>\n",
       "</div>"
      ],
      "text/plain": [
       "      id_vendas  id_produtos  quantidade           nome                secao  \\\n",
       "0             0            2           1         banana   Alimentos em Geral   \n",
       "1             0            2           1         banana   Alimentos em Geral   \n",
       "2             0           31           4        flanela  Produtos de Limpeza   \n",
       "3             0           31           4        flanela  Produtos de Limpeza   \n",
       "4             0           27           3          torta              Padaria   \n",
       "...         ...          ...         ...            ...                  ...   \n",
       "2495        387           26           4          sonho              Padaria   \n",
       "2496        218           14           4  bisteca suína              Açougue   \n",
       "2497        289           14           2  bisteca suína              Açougue   \n",
       "2498        429           12           3        alcatra              Açougue   \n",
       "2499        237           23           3    pão francês              Padaria   \n",
       "\n",
       "      custo  preco prateleira  estoque unidade_de_medida_de_estoque  \\\n",
       "0      2.00   5.99         1B       40                           kg   \n",
       "1      2.00   5.99         1B       40                           kg   \n",
       "2      0.59   1.99         9A       32                      unidade   \n",
       "3      0.59   1.99         9A       32                      unidade   \n",
       "4     26.95  45.00         6C        7                           kg   \n",
       "...     ...    ...        ...      ...                          ...   \n",
       "2495   1.79   3.49         6B       20                      unidade   \n",
       "2496  15.73  22.79         5A        5                           kg   \n",
       "2497  15.73  22.79         5A        5                           kg   \n",
       "2498  23.19  31.99         4A        7                           kg   \n",
       "2499   4.39  10.99         7C        3                           kg   \n",
       "\n",
       "                 imagem  id_clientes        data         nome_cliente  \\\n",
       "0            banana.png          175  2021-11-01       Nicole Almeida   \n",
       "1            banana.png          175  2021-11-01       Nicole Almeida   \n",
       "2           flanela.jpg          175  2021-11-01       Nicole Almeida   \n",
       "3           flanela.jpg          175  2021-11-01       Nicole Almeida   \n",
       "4             torta.jpg          175  2021-11-01       Nicole Almeida   \n",
       "...                 ...          ...         ...                  ...   \n",
       "2495          sonho.jpg           55  2021-11-25  Ana Beatriz Correia   \n",
       "2496  bisteca_suina.jpg          132  2021-11-15   Alexandre Caldeira   \n",
       "2497  bisteca_suina.jpg           63  2021-11-20      Sr. Yago da Paz   \n",
       "2498        alcatra.jpg           92  2021-11-27          Maysa Lopes   \n",
       "2499    pao_frances.jpg          109  2021-11-16    Maria Julia Rocha   \n",
       "\n",
       "      nascimento                                           endereco  \\\n",
       "0     1948-07-06    Avenida de Rezende\\nEuropa\\n15972447 Silva / PI   \n",
       "1     1948-07-06    Avenida de Rezende\\nEuropa\\n15972447 Silva / PI   \n",
       "2     1948-07-06    Avenida de Rezende\\nEuropa\\n15972447 Silva / PI   \n",
       "3     1948-07-06    Avenida de Rezende\\nEuropa\\n15972447 Silva / PI   \n",
       "4     1948-07-06    Avenida de Rezende\\nEuropa\\n15972447 Silva / PI   \n",
       "...          ...                                                ...   \n",
       "2495  1985-07-21  Fazenda Isabella Carvalho\\nJardim Vitoria\\n417...   \n",
       "2496  1964-01-23  Trevo de Costela, 84\\nManacas\\n42659-808 Araúj...   \n",
       "2497  1986-12-18  Residencial Thiago Moreira, 994\\nSão Jorge 2ª ...   \n",
       "2498  1979-12-06  Praia Silva, 52\\nAparecida 7ª Seção\\n74688930 ...   \n",
       "2499  1981-07-18  Loteamento Cavalcanti, 18\\nNovo Aarão Reis\\n47...   \n",
       "\n",
       "                 cpf             telefone        usuario         senha  \n",
       "0     901.685.347-20  +55 (084) 3106-6899   antoniosouza  ib_30TQl(^qn  \n",
       "1     901.685.347-20  +55 (084) 3106-6899   antoniosouza  ib_30TQl(^qn  \n",
       "2     901.685.347-20  +55 (084) 3106-6899   antoniosouza  ib_30TQl(^qn  \n",
       "3     901.685.347-20  +55 (084) 3106-6899   antoniosouza  ib_30TQl(^qn  \n",
       "4     901.685.347-20  +55 (084) 3106-6899   antoniosouza  ib_30TQl(^qn  \n",
       "...              ...                  ...            ...           ...  \n",
       "2495  415.069.738-84     +55 41 1682 8394       agatha53  O&^S12YhXiy*  \n",
       "2496  750.981.342-50      (011) 3878-3273  lorenapeixoto  *8VgLnp%&7A1  \n",
       "2497  784.059.621-58         71 8485 6376       scostela  2lNy3Ltr*_!0  \n",
       "2498  150.346.927-16     +55 84 4514 3031     vinicius95  2#$QtSx0lR4q  \n",
       "2499  478.205.961-20  +55 (011) 9576 1820       pbarbosa  !#E2OSc!e@7_  \n",
       "\n",
       "[2500 rows x 20 columns]"
      ]
     },
     "execution_count": 56,
     "metadata": {},
     "output_type": "execute_result"
    }
   ],
   "source": [
    "#realizando a união das tabelas produtos e venda_produtos em id_produtos\n",
    "venda_produtos_2 = pd.merge(venda_produtos, produtos, on = 'id_produtos', how='inner')\n",
    "#realizando a união das tabelas vendas e venda_produtos em id_vendas\n",
    "venda_produtos_3 = pd.merge(venda_produtos_2, vendas, on = 'id_vendas', how='inner')\n",
    "#realizando a união das tabelas clientes e venda_produtos em id_cliente\n",
    "venda_produtos_cliente = pd.merge(venda_produtos_3, clientes, on = 'id_clientes', how='inner')\n",
    "\n",
    "venda_produtos_cliente"
   ]
  },
  {
   "cell_type": "code",
   "execution_count": 57,
   "id": "0a5b51b9",
   "metadata": {},
   "outputs": [
    {
     "data": {
      "text/html": [
       "<div>\n",
       "<style scoped>\n",
       "    .dataframe tbody tr th:only-of-type {\n",
       "        vertical-align: middle;\n",
       "    }\n",
       "\n",
       "    .dataframe tbody tr th {\n",
       "        vertical-align: top;\n",
       "    }\n",
       "\n",
       "    .dataframe thead th {\n",
       "        text-align: right;\n",
       "    }\n",
       "</style>\n",
       "<table border=\"1\" class=\"dataframe\">\n",
       "  <thead>\n",
       "    <tr style=\"text-align: right;\">\n",
       "      <th></th>\n",
       "      <th>nome</th>\n",
       "      <th>quantidade</th>\n",
       "    </tr>\n",
       "  </thead>\n",
       "  <tbody>\n",
       "    <tr>\n",
       "      <th>0</th>\n",
       "      <td>sanduíche</td>\n",
       "      <td>221</td>\n",
       "    </tr>\n",
       "    <tr>\n",
       "      <th>1</th>\n",
       "      <td>costela</td>\n",
       "      <td>219</td>\n",
       "    </tr>\n",
       "    <tr>\n",
       "      <th>2</th>\n",
       "      <td>bisteca suína</td>\n",
       "      <td>211</td>\n",
       "    </tr>\n",
       "    <tr>\n",
       "      <th>3</th>\n",
       "      <td>couve-flor</td>\n",
       "      <td>206</td>\n",
       "    </tr>\n",
       "    <tr>\n",
       "      <th>4</th>\n",
       "      <td>arroz</td>\n",
       "      <td>202</td>\n",
       "    </tr>\n",
       "    <tr>\n",
       "      <th>5</th>\n",
       "      <td>banana</td>\n",
       "      <td>198</td>\n",
       "    </tr>\n",
       "    <tr>\n",
       "      <th>6</th>\n",
       "      <td>detergente</td>\n",
       "      <td>194</td>\n",
       "    </tr>\n",
       "    <tr>\n",
       "      <th>7</th>\n",
       "      <td>amaciante</td>\n",
       "      <td>192</td>\n",
       "    </tr>\n",
       "    <tr>\n",
       "      <th>8</th>\n",
       "      <td>maminha</td>\n",
       "      <td>191</td>\n",
       "    </tr>\n",
       "    <tr>\n",
       "      <th>9</th>\n",
       "      <td>uva</td>\n",
       "      <td>183</td>\n",
       "    </tr>\n",
       "    <tr>\n",
       "      <th>10</th>\n",
       "      <td>flanela</td>\n",
       "      <td>182</td>\n",
       "    </tr>\n",
       "    <tr>\n",
       "      <th>11</th>\n",
       "      <td>água sanitária</td>\n",
       "      <td>181</td>\n",
       "    </tr>\n",
       "    <tr>\n",
       "      <th>12</th>\n",
       "      <td>pão de queijo</td>\n",
       "      <td>181</td>\n",
       "    </tr>\n",
       "    <tr>\n",
       "      <th>13</th>\n",
       "      <td>pão de forma</td>\n",
       "      <td>181</td>\n",
       "    </tr>\n",
       "    <tr>\n",
       "      <th>14</th>\n",
       "      <td>rodo</td>\n",
       "      <td>178</td>\n",
       "    </tr>\n",
       "    <tr>\n",
       "      <th>15</th>\n",
       "      <td>abobrinha</td>\n",
       "      <td>178</td>\n",
       "    </tr>\n",
       "    <tr>\n",
       "      <th>16</th>\n",
       "      <td>bolo</td>\n",
       "      <td>177</td>\n",
       "    </tr>\n",
       "    <tr>\n",
       "      <th>17</th>\n",
       "      <td>feijão</td>\n",
       "      <td>176</td>\n",
       "    </tr>\n",
       "    <tr>\n",
       "      <th>18</th>\n",
       "      <td>macarrão</td>\n",
       "      <td>169</td>\n",
       "    </tr>\n",
       "    <tr>\n",
       "      <th>19</th>\n",
       "      <td>melancia</td>\n",
       "      <td>167</td>\n",
       "    </tr>\n",
       "    <tr>\n",
       "      <th>20</th>\n",
       "      <td>peito de frango</td>\n",
       "      <td>167</td>\n",
       "    </tr>\n",
       "    <tr>\n",
       "      <th>21</th>\n",
       "      <td>berinjela</td>\n",
       "      <td>165</td>\n",
       "    </tr>\n",
       "    <tr>\n",
       "      <th>22</th>\n",
       "      <td>pão francês</td>\n",
       "      <td>165</td>\n",
       "    </tr>\n",
       "    <tr>\n",
       "      <th>23</th>\n",
       "      <td>torta</td>\n",
       "      <td>164</td>\n",
       "    </tr>\n",
       "    <tr>\n",
       "      <th>24</th>\n",
       "      <td>odorizador</td>\n",
       "      <td>162</td>\n",
       "    </tr>\n",
       "    <tr>\n",
       "      <th>25</th>\n",
       "      <td>pastel</td>\n",
       "      <td>159</td>\n",
       "    </tr>\n",
       "    <tr>\n",
       "      <th>26</th>\n",
       "      <td>picanha</td>\n",
       "      <td>159</td>\n",
       "    </tr>\n",
       "    <tr>\n",
       "      <th>27</th>\n",
       "      <td>sonho</td>\n",
       "      <td>159</td>\n",
       "    </tr>\n",
       "    <tr>\n",
       "      <th>28</th>\n",
       "      <td>alcatra</td>\n",
       "      <td>152</td>\n",
       "    </tr>\n",
       "    <tr>\n",
       "      <th>29</th>\n",
       "      <td>sabão em pó</td>\n",
       "      <td>148</td>\n",
       "    </tr>\n",
       "    <tr>\n",
       "      <th>30</th>\n",
       "      <td>alface</td>\n",
       "      <td>144</td>\n",
       "    </tr>\n",
       "    <tr>\n",
       "      <th>31</th>\n",
       "      <td>morango</td>\n",
       "      <td>139</td>\n",
       "    </tr>\n",
       "    <tr>\n",
       "      <th>32</th>\n",
       "      <td>carré de cordeiro</td>\n",
       "      <td>136</td>\n",
       "    </tr>\n",
       "    <tr>\n",
       "      <th>33</th>\n",
       "      <td>batata</td>\n",
       "      <td>128</td>\n",
       "    </tr>\n",
       "    <tr>\n",
       "      <th>34</th>\n",
       "      <td>paleta suína</td>\n",
       "      <td>127</td>\n",
       "    </tr>\n",
       "    <tr>\n",
       "      <th>35</th>\n",
       "      <td>sabonete</td>\n",
       "      <td>126</td>\n",
       "    </tr>\n",
       "  </tbody>\n",
       "</table>\n",
       "</div>"
      ],
      "text/plain": [
       "                 nome  quantidade\n",
       "0           sanduíche         221\n",
       "1             costela         219\n",
       "2       bisteca suína         211\n",
       "3          couve-flor         206\n",
       "4               arroz         202\n",
       "5              banana         198\n",
       "6          detergente         194\n",
       "7           amaciante         192\n",
       "8             maminha         191\n",
       "9                 uva         183\n",
       "10            flanela         182\n",
       "11     água sanitária         181\n",
       "12      pão de queijo         181\n",
       "13       pão de forma         181\n",
       "14               rodo         178\n",
       "15          abobrinha         178\n",
       "16               bolo         177\n",
       "17             feijão         176\n",
       "18           macarrão         169\n",
       "19           melancia         167\n",
       "20    peito de frango         167\n",
       "21          berinjela         165\n",
       "22        pão francês         165\n",
       "23              torta         164\n",
       "24         odorizador         162\n",
       "25             pastel         159\n",
       "26            picanha         159\n",
       "27              sonho         159\n",
       "28            alcatra         152\n",
       "29        sabão em pó         148\n",
       "30             alface         144\n",
       "31            morango         139\n",
       "32  carré de cordeiro         136\n",
       "33             batata         128\n",
       "34       paleta suína         127\n",
       "35           sabonete         126"
      ]
     },
     "execution_count": 57,
     "metadata": {},
     "output_type": "execute_result"
    }
   ],
   "source": [
    "#agrupando a tabelas cendas_produto por nome (groupby), somando os valores (sum), organizando os valores em ordem decrescente por quantidade vendida (sort_values) e redefinindo o index (reset_index)\n",
    "venda_produtos_total=venda_produtos_cliente.groupby(\"nome\").sum().sort_values('quantidade', ascending=False).reset_index()\n",
    "\n",
    "#selecionando apenas as colunas que serão analisadas\n",
    "venda_produtos_total[[\"nome\", \"quantidade\"]]"
   ]
  },
  {
   "cell_type": "code",
   "execution_count": 127,
   "id": "bdd6d27c",
   "metadata": {},
   "outputs": [
    {
     "data": {
      "application/vnd.plotly.v1+json": {
       "config": {
        "plotlyServerURL": "https://plot.ly"
       },
       "data": [
        {
         "alignmentgroup": "True",
         "hovertemplate": "Nome=%{x}<br>Quantidade vendida=%{y}<extra></extra>",
         "legendgroup": "",
         "marker": {
          "color": "#636efa",
          "pattern": {
           "shape": ""
          }
         },
         "name": "",
         "offsetgroup": "",
         "orientation": "v",
         "showlegend": false,
         "textposition": "auto",
         "type": "bar",
         "x": [
          "sanduíche",
          "costela",
          "bisteca suína",
          "couve-flor",
          "arroz",
          "banana",
          "detergente",
          "amaciante",
          "maminha",
          "uva",
          "flanela",
          "água sanitária",
          "pão de queijo",
          "pão de forma",
          "rodo",
          "abobrinha",
          "bolo",
          "feijão",
          "macarrão",
          "melancia",
          "peito de frango",
          "berinjela",
          "pão francês",
          "torta",
          "odorizador",
          "pastel",
          "picanha",
          "sonho",
          "alcatra",
          "sabão em pó",
          "alface",
          "morango",
          "carré de cordeiro",
          "batata",
          "paleta suína",
          "sabonete"
         ],
         "xaxis": "x",
         "y": [
          221,
          219,
          211,
          206,
          202,
          198,
          194,
          192,
          191,
          183,
          182,
          181,
          181,
          181,
          178,
          178,
          177,
          176,
          169,
          167,
          167,
          165,
          165,
          164,
          162,
          159,
          159,
          159,
          152,
          148,
          144,
          139,
          136,
          128,
          127,
          126
         ],
         "yaxis": "y"
        }
       ],
       "layout": {
        "barmode": "stack",
        "legend": {
         "tracegroupgap": 0
        },
        "margin": {
         "t": 60
        },
        "template": {
         "data": {
          "bar": [
           {
            "error_x": {
             "color": "#2a3f5f"
            },
            "error_y": {
             "color": "#2a3f5f"
            },
            "marker": {
             "line": {
              "color": "#E5ECF6",
              "width": 0.5
             },
             "pattern": {
              "fillmode": "overlay",
              "size": 10,
              "solidity": 0.2
             }
            },
            "type": "bar"
           }
          ],
          "barpolar": [
           {
            "marker": {
             "line": {
              "color": "#E5ECF6",
              "width": 0.5
             },
             "pattern": {
              "fillmode": "overlay",
              "size": 10,
              "solidity": 0.2
             }
            },
            "type": "barpolar"
           }
          ],
          "carpet": [
           {
            "aaxis": {
             "endlinecolor": "#2a3f5f",
             "gridcolor": "white",
             "linecolor": "white",
             "minorgridcolor": "white",
             "startlinecolor": "#2a3f5f"
            },
            "baxis": {
             "endlinecolor": "#2a3f5f",
             "gridcolor": "white",
             "linecolor": "white",
             "minorgridcolor": "white",
             "startlinecolor": "#2a3f5f"
            },
            "type": "carpet"
           }
          ],
          "choropleth": [
           {
            "colorbar": {
             "outlinewidth": 0,
             "ticks": ""
            },
            "type": "choropleth"
           }
          ],
          "contour": [
           {
            "colorbar": {
             "outlinewidth": 0,
             "ticks": ""
            },
            "colorscale": [
             [
              0,
              "#0d0887"
             ],
             [
              0.1111111111111111,
              "#46039f"
             ],
             [
              0.2222222222222222,
              "#7201a8"
             ],
             [
              0.3333333333333333,
              "#9c179e"
             ],
             [
              0.4444444444444444,
              "#bd3786"
             ],
             [
              0.5555555555555556,
              "#d8576b"
             ],
             [
              0.6666666666666666,
              "#ed7953"
             ],
             [
              0.7777777777777778,
              "#fb9f3a"
             ],
             [
              0.8888888888888888,
              "#fdca26"
             ],
             [
              1,
              "#f0f921"
             ]
            ],
            "type": "contour"
           }
          ],
          "contourcarpet": [
           {
            "colorbar": {
             "outlinewidth": 0,
             "ticks": ""
            },
            "type": "contourcarpet"
           }
          ],
          "heatmap": [
           {
            "colorbar": {
             "outlinewidth": 0,
             "ticks": ""
            },
            "colorscale": [
             [
              0,
              "#0d0887"
             ],
             [
              0.1111111111111111,
              "#46039f"
             ],
             [
              0.2222222222222222,
              "#7201a8"
             ],
             [
              0.3333333333333333,
              "#9c179e"
             ],
             [
              0.4444444444444444,
              "#bd3786"
             ],
             [
              0.5555555555555556,
              "#d8576b"
             ],
             [
              0.6666666666666666,
              "#ed7953"
             ],
             [
              0.7777777777777778,
              "#fb9f3a"
             ],
             [
              0.8888888888888888,
              "#fdca26"
             ],
             [
              1,
              "#f0f921"
             ]
            ],
            "type": "heatmap"
           }
          ],
          "heatmapgl": [
           {
            "colorbar": {
             "outlinewidth": 0,
             "ticks": ""
            },
            "colorscale": [
             [
              0,
              "#0d0887"
             ],
             [
              0.1111111111111111,
              "#46039f"
             ],
             [
              0.2222222222222222,
              "#7201a8"
             ],
             [
              0.3333333333333333,
              "#9c179e"
             ],
             [
              0.4444444444444444,
              "#bd3786"
             ],
             [
              0.5555555555555556,
              "#d8576b"
             ],
             [
              0.6666666666666666,
              "#ed7953"
             ],
             [
              0.7777777777777778,
              "#fb9f3a"
             ],
             [
              0.8888888888888888,
              "#fdca26"
             ],
             [
              1,
              "#f0f921"
             ]
            ],
            "type": "heatmapgl"
           }
          ],
          "histogram": [
           {
            "marker": {
             "pattern": {
              "fillmode": "overlay",
              "size": 10,
              "solidity": 0.2
             }
            },
            "type": "histogram"
           }
          ],
          "histogram2d": [
           {
            "colorbar": {
             "outlinewidth": 0,
             "ticks": ""
            },
            "colorscale": [
             [
              0,
              "#0d0887"
             ],
             [
              0.1111111111111111,
              "#46039f"
             ],
             [
              0.2222222222222222,
              "#7201a8"
             ],
             [
              0.3333333333333333,
              "#9c179e"
             ],
             [
              0.4444444444444444,
              "#bd3786"
             ],
             [
              0.5555555555555556,
              "#d8576b"
             ],
             [
              0.6666666666666666,
              "#ed7953"
             ],
             [
              0.7777777777777778,
              "#fb9f3a"
             ],
             [
              0.8888888888888888,
              "#fdca26"
             ],
             [
              1,
              "#f0f921"
             ]
            ],
            "type": "histogram2d"
           }
          ],
          "histogram2dcontour": [
           {
            "colorbar": {
             "outlinewidth": 0,
             "ticks": ""
            },
            "colorscale": [
             [
              0,
              "#0d0887"
             ],
             [
              0.1111111111111111,
              "#46039f"
             ],
             [
              0.2222222222222222,
              "#7201a8"
             ],
             [
              0.3333333333333333,
              "#9c179e"
             ],
             [
              0.4444444444444444,
              "#bd3786"
             ],
             [
              0.5555555555555556,
              "#d8576b"
             ],
             [
              0.6666666666666666,
              "#ed7953"
             ],
             [
              0.7777777777777778,
              "#fb9f3a"
             ],
             [
              0.8888888888888888,
              "#fdca26"
             ],
             [
              1,
              "#f0f921"
             ]
            ],
            "type": "histogram2dcontour"
           }
          ],
          "mesh3d": [
           {
            "colorbar": {
             "outlinewidth": 0,
             "ticks": ""
            },
            "type": "mesh3d"
           }
          ],
          "parcoords": [
           {
            "line": {
             "colorbar": {
              "outlinewidth": 0,
              "ticks": ""
             }
            },
            "type": "parcoords"
           }
          ],
          "pie": [
           {
            "automargin": true,
            "type": "pie"
           }
          ],
          "scatter": [
           {
            "marker": {
             "colorbar": {
              "outlinewidth": 0,
              "ticks": ""
             }
            },
            "type": "scatter"
           }
          ],
          "scatter3d": [
           {
            "line": {
             "colorbar": {
              "outlinewidth": 0,
              "ticks": ""
             }
            },
            "marker": {
             "colorbar": {
              "outlinewidth": 0,
              "ticks": ""
             }
            },
            "type": "scatter3d"
           }
          ],
          "scattercarpet": [
           {
            "marker": {
             "colorbar": {
              "outlinewidth": 0,
              "ticks": ""
             }
            },
            "type": "scattercarpet"
           }
          ],
          "scattergeo": [
           {
            "marker": {
             "colorbar": {
              "outlinewidth": 0,
              "ticks": ""
             }
            },
            "type": "scattergeo"
           }
          ],
          "scattergl": [
           {
            "marker": {
             "colorbar": {
              "outlinewidth": 0,
              "ticks": ""
             }
            },
            "type": "scattergl"
           }
          ],
          "scattermapbox": [
           {
            "marker": {
             "colorbar": {
              "outlinewidth": 0,
              "ticks": ""
             }
            },
            "type": "scattermapbox"
           }
          ],
          "scatterpolar": [
           {
            "marker": {
             "colorbar": {
              "outlinewidth": 0,
              "ticks": ""
             }
            },
            "type": "scatterpolar"
           }
          ],
          "scatterpolargl": [
           {
            "marker": {
             "colorbar": {
              "outlinewidth": 0,
              "ticks": ""
             }
            },
            "type": "scatterpolargl"
           }
          ],
          "scatterternary": [
           {
            "marker": {
             "colorbar": {
              "outlinewidth": 0,
              "ticks": ""
             }
            },
            "type": "scatterternary"
           }
          ],
          "surface": [
           {
            "colorbar": {
             "outlinewidth": 0,
             "ticks": ""
            },
            "colorscale": [
             [
              0,
              "#0d0887"
             ],
             [
              0.1111111111111111,
              "#46039f"
             ],
             [
              0.2222222222222222,
              "#7201a8"
             ],
             [
              0.3333333333333333,
              "#9c179e"
             ],
             [
              0.4444444444444444,
              "#bd3786"
             ],
             [
              0.5555555555555556,
              "#d8576b"
             ],
             [
              0.6666666666666666,
              "#ed7953"
             ],
             [
              0.7777777777777778,
              "#fb9f3a"
             ],
             [
              0.8888888888888888,
              "#fdca26"
             ],
             [
              1,
              "#f0f921"
             ]
            ],
            "type": "surface"
           }
          ],
          "table": [
           {
            "cells": {
             "fill": {
              "color": "#EBF0F8"
             },
             "line": {
              "color": "white"
             }
            },
            "header": {
             "fill": {
              "color": "#C8D4E3"
             },
             "line": {
              "color": "white"
             }
            },
            "type": "table"
           }
          ]
         },
         "layout": {
          "annotationdefaults": {
           "arrowcolor": "#2a3f5f",
           "arrowhead": 0,
           "arrowwidth": 1
          },
          "autotypenumbers": "strict",
          "coloraxis": {
           "colorbar": {
            "outlinewidth": 0,
            "ticks": ""
           }
          },
          "colorscale": {
           "diverging": [
            [
             0,
             "#8e0152"
            ],
            [
             0.1,
             "#c51b7d"
            ],
            [
             0.2,
             "#de77ae"
            ],
            [
             0.3,
             "#f1b6da"
            ],
            [
             0.4,
             "#fde0ef"
            ],
            [
             0.5,
             "#f7f7f7"
            ],
            [
             0.6,
             "#e6f5d0"
            ],
            [
             0.7,
             "#b8e186"
            ],
            [
             0.8,
             "#7fbc41"
            ],
            [
             0.9,
             "#4d9221"
            ],
            [
             1,
             "#276419"
            ]
           ],
           "sequential": [
            [
             0,
             "#0d0887"
            ],
            [
             0.1111111111111111,
             "#46039f"
            ],
            [
             0.2222222222222222,
             "#7201a8"
            ],
            [
             0.3333333333333333,
             "#9c179e"
            ],
            [
             0.4444444444444444,
             "#bd3786"
            ],
            [
             0.5555555555555556,
             "#d8576b"
            ],
            [
             0.6666666666666666,
             "#ed7953"
            ],
            [
             0.7777777777777778,
             "#fb9f3a"
            ],
            [
             0.8888888888888888,
             "#fdca26"
            ],
            [
             1,
             "#f0f921"
            ]
           ],
           "sequentialminus": [
            [
             0,
             "#0d0887"
            ],
            [
             0.1111111111111111,
             "#46039f"
            ],
            [
             0.2222222222222222,
             "#7201a8"
            ],
            [
             0.3333333333333333,
             "#9c179e"
            ],
            [
             0.4444444444444444,
             "#bd3786"
            ],
            [
             0.5555555555555556,
             "#d8576b"
            ],
            [
             0.6666666666666666,
             "#ed7953"
            ],
            [
             0.7777777777777778,
             "#fb9f3a"
            ],
            [
             0.8888888888888888,
             "#fdca26"
            ],
            [
             1,
             "#f0f921"
            ]
           ]
          },
          "colorway": [
           "#636efa",
           "#EF553B",
           "#00cc96",
           "#ab63fa",
           "#FFA15A",
           "#19d3f3",
           "#FF6692",
           "#B6E880",
           "#FF97FF",
           "#FECB52"
          ],
          "font": {
           "color": "#2a3f5f"
          },
          "geo": {
           "bgcolor": "white",
           "lakecolor": "white",
           "landcolor": "#E5ECF6",
           "showlakes": true,
           "showland": true,
           "subunitcolor": "white"
          },
          "hoverlabel": {
           "align": "left"
          },
          "hovermode": "closest",
          "mapbox": {
           "style": "light"
          },
          "paper_bgcolor": "white",
          "plot_bgcolor": "#E5ECF6",
          "polar": {
           "angularaxis": {
            "gridcolor": "white",
            "linecolor": "white",
            "ticks": ""
           },
           "bgcolor": "#E5ECF6",
           "radialaxis": {
            "gridcolor": "white",
            "linecolor": "white",
            "ticks": ""
           }
          },
          "scene": {
           "xaxis": {
            "backgroundcolor": "#E5ECF6",
            "gridcolor": "white",
            "gridwidth": 2,
            "linecolor": "white",
            "showbackground": true,
            "ticks": "",
            "zerolinecolor": "white"
           },
           "yaxis": {
            "backgroundcolor": "#E5ECF6",
            "gridcolor": "white",
            "gridwidth": 2,
            "linecolor": "white",
            "showbackground": true,
            "ticks": "",
            "zerolinecolor": "white"
           },
           "zaxis": {
            "backgroundcolor": "#E5ECF6",
            "gridcolor": "white",
            "gridwidth": 2,
            "linecolor": "white",
            "showbackground": true,
            "ticks": "",
            "zerolinecolor": "white"
           }
          },
          "shapedefaults": {
           "line": {
            "color": "#2a3f5f"
           }
          },
          "ternary": {
           "aaxis": {
            "gridcolor": "white",
            "linecolor": "white",
            "ticks": ""
           },
           "baxis": {
            "gridcolor": "white",
            "linecolor": "white",
            "ticks": ""
           },
           "bgcolor": "#E5ECF6",
           "caxis": {
            "gridcolor": "white",
            "linecolor": "white",
            "ticks": ""
           }
          },
          "title": {
           "x": 0.05
          },
          "xaxis": {
           "automargin": true,
           "gridcolor": "white",
           "linecolor": "white",
           "ticks": "",
           "title": {
            "standoff": 15
           },
           "zerolinecolor": "white",
           "zerolinewidth": 2
          },
          "yaxis": {
           "automargin": true,
           "gridcolor": "white",
           "linecolor": "white",
           "ticks": "",
           "title": {
            "standoff": 15
           },
           "zerolinecolor": "white",
           "zerolinewidth": 2
          }
         }
        },
        "title": {
         "text": "Venda dos produtos"
        },
        "xaxis": {
         "anchor": "y",
         "domain": [
          0,
          1
         ],
         "tickangle": 45,
         "title": {
          "text": "Produto"
         }
        },
        "yaxis": {
         "anchor": "x",
         "domain": [
          0,
          1
         ],
         "title": {
          "text": "Quantidade vendida"
         }
        }
       }
      },
      "text/html": [
       "<div>                            <div id=\"738bafa4-6414-4eab-842e-d0fb0a6f9731\" class=\"plotly-graph-div\" style=\"height:525px; width:100%;\"></div>            <script type=\"text/javascript\">                require([\"plotly\"], function(Plotly) {                    window.PLOTLYENV=window.PLOTLYENV || {};                                    if (document.getElementById(\"738bafa4-6414-4eab-842e-d0fb0a6f9731\")) {                    Plotly.newPlot(                        \"738bafa4-6414-4eab-842e-d0fb0a6f9731\",                        [{\"alignmentgroup\":\"True\",\"hovertemplate\":\"Nome=%{x}<br>Quantidade vendida=%{y}<extra></extra>\",\"legendgroup\":\"\",\"marker\":{\"color\":\"#636efa\",\"pattern\":{\"shape\":\"\"}},\"name\":\"\",\"offsetgroup\":\"\",\"orientation\":\"v\",\"showlegend\":false,\"textposition\":\"auto\",\"type\":\"bar\",\"x\":[\"sandu\\u00edche\",\"costela\",\"bisteca su\\u00edna\",\"couve-flor\",\"arroz\",\"banana\",\"detergente\",\"amaciante\",\"maminha\",\"uva\",\"flanela\",\"\\u00e1gua sanit\\u00e1ria\",\"p\\u00e3o de queijo\",\"p\\u00e3o de forma\",\"rodo\",\"abobrinha\",\"bolo\",\"feij\\u00e3o\",\"macarr\\u00e3o\",\"melancia\",\"peito de frango\",\"berinjela\",\"p\\u00e3o franc\\u00eas\",\"torta\",\"odorizador\",\"pastel\",\"picanha\",\"sonho\",\"alcatra\",\"sab\\u00e3o em p\\u00f3\",\"alface\",\"morango\",\"carr\\u00e9 de cordeiro\",\"batata\",\"paleta su\\u00edna\",\"sabonete\"],\"xaxis\":\"x\",\"y\":[221,219,211,206,202,198,194,192,191,183,182,181,181,181,178,178,177,176,169,167,167,165,165,164,162,159,159,159,152,148,144,139,136,128,127,126],\"yaxis\":\"y\"}],                        {\"barmode\":\"stack\",\"legend\":{\"tracegroupgap\":0},\"margin\":{\"t\":60},\"template\":{\"data\":{\"bar\":[{\"error_x\":{\"color\":\"#2a3f5f\"},\"error_y\":{\"color\":\"#2a3f5f\"},\"marker\":{\"line\":{\"color\":\"#E5ECF6\",\"width\":0.5},\"pattern\":{\"fillmode\":\"overlay\",\"size\":10,\"solidity\":0.2}},\"type\":\"bar\"}],\"barpolar\":[{\"marker\":{\"line\":{\"color\":\"#E5ECF6\",\"width\":0.5},\"pattern\":{\"fillmode\":\"overlay\",\"size\":10,\"solidity\":0.2}},\"type\":\"barpolar\"}],\"carpet\":[{\"aaxis\":{\"endlinecolor\":\"#2a3f5f\",\"gridcolor\":\"white\",\"linecolor\":\"white\",\"minorgridcolor\":\"white\",\"startlinecolor\":\"#2a3f5f\"},\"baxis\":{\"endlinecolor\":\"#2a3f5f\",\"gridcolor\":\"white\",\"linecolor\":\"white\",\"minorgridcolor\":\"white\",\"startlinecolor\":\"#2a3f5f\"},\"type\":\"carpet\"}],\"choropleth\":[{\"colorbar\":{\"outlinewidth\":0,\"ticks\":\"\"},\"type\":\"choropleth\"}],\"contour\":[{\"colorbar\":{\"outlinewidth\":0,\"ticks\":\"\"},\"colorscale\":[[0.0,\"#0d0887\"],[0.1111111111111111,\"#46039f\"],[0.2222222222222222,\"#7201a8\"],[0.3333333333333333,\"#9c179e\"],[0.4444444444444444,\"#bd3786\"],[0.5555555555555556,\"#d8576b\"],[0.6666666666666666,\"#ed7953\"],[0.7777777777777778,\"#fb9f3a\"],[0.8888888888888888,\"#fdca26\"],[1.0,\"#f0f921\"]],\"type\":\"contour\"}],\"contourcarpet\":[{\"colorbar\":{\"outlinewidth\":0,\"ticks\":\"\"},\"type\":\"contourcarpet\"}],\"heatmap\":[{\"colorbar\":{\"outlinewidth\":0,\"ticks\":\"\"},\"colorscale\":[[0.0,\"#0d0887\"],[0.1111111111111111,\"#46039f\"],[0.2222222222222222,\"#7201a8\"],[0.3333333333333333,\"#9c179e\"],[0.4444444444444444,\"#bd3786\"],[0.5555555555555556,\"#d8576b\"],[0.6666666666666666,\"#ed7953\"],[0.7777777777777778,\"#fb9f3a\"],[0.8888888888888888,\"#fdca26\"],[1.0,\"#f0f921\"]],\"type\":\"heatmap\"}],\"heatmapgl\":[{\"colorbar\":{\"outlinewidth\":0,\"ticks\":\"\"},\"colorscale\":[[0.0,\"#0d0887\"],[0.1111111111111111,\"#46039f\"],[0.2222222222222222,\"#7201a8\"],[0.3333333333333333,\"#9c179e\"],[0.4444444444444444,\"#bd3786\"],[0.5555555555555556,\"#d8576b\"],[0.6666666666666666,\"#ed7953\"],[0.7777777777777778,\"#fb9f3a\"],[0.8888888888888888,\"#fdca26\"],[1.0,\"#f0f921\"]],\"type\":\"heatmapgl\"}],\"histogram\":[{\"marker\":{\"pattern\":{\"fillmode\":\"overlay\",\"size\":10,\"solidity\":0.2}},\"type\":\"histogram\"}],\"histogram2d\":[{\"colorbar\":{\"outlinewidth\":0,\"ticks\":\"\"},\"colorscale\":[[0.0,\"#0d0887\"],[0.1111111111111111,\"#46039f\"],[0.2222222222222222,\"#7201a8\"],[0.3333333333333333,\"#9c179e\"],[0.4444444444444444,\"#bd3786\"],[0.5555555555555556,\"#d8576b\"],[0.6666666666666666,\"#ed7953\"],[0.7777777777777778,\"#fb9f3a\"],[0.8888888888888888,\"#fdca26\"],[1.0,\"#f0f921\"]],\"type\":\"histogram2d\"}],\"histogram2dcontour\":[{\"colorbar\":{\"outlinewidth\":0,\"ticks\":\"\"},\"colorscale\":[[0.0,\"#0d0887\"],[0.1111111111111111,\"#46039f\"],[0.2222222222222222,\"#7201a8\"],[0.3333333333333333,\"#9c179e\"],[0.4444444444444444,\"#bd3786\"],[0.5555555555555556,\"#d8576b\"],[0.6666666666666666,\"#ed7953\"],[0.7777777777777778,\"#fb9f3a\"],[0.8888888888888888,\"#fdca26\"],[1.0,\"#f0f921\"]],\"type\":\"histogram2dcontour\"}],\"mesh3d\":[{\"colorbar\":{\"outlinewidth\":0,\"ticks\":\"\"},\"type\":\"mesh3d\"}],\"parcoords\":[{\"line\":{\"colorbar\":{\"outlinewidth\":0,\"ticks\":\"\"}},\"type\":\"parcoords\"}],\"pie\":[{\"automargin\":true,\"type\":\"pie\"}],\"scatter\":[{\"marker\":{\"colorbar\":{\"outlinewidth\":0,\"ticks\":\"\"}},\"type\":\"scatter\"}],\"scatter3d\":[{\"line\":{\"colorbar\":{\"outlinewidth\":0,\"ticks\":\"\"}},\"marker\":{\"colorbar\":{\"outlinewidth\":0,\"ticks\":\"\"}},\"type\":\"scatter3d\"}],\"scattercarpet\":[{\"marker\":{\"colorbar\":{\"outlinewidth\":0,\"ticks\":\"\"}},\"type\":\"scattercarpet\"}],\"scattergeo\":[{\"marker\":{\"colorbar\":{\"outlinewidth\":0,\"ticks\":\"\"}},\"type\":\"scattergeo\"}],\"scattergl\":[{\"marker\":{\"colorbar\":{\"outlinewidth\":0,\"ticks\":\"\"}},\"type\":\"scattergl\"}],\"scattermapbox\":[{\"marker\":{\"colorbar\":{\"outlinewidth\":0,\"ticks\":\"\"}},\"type\":\"scattermapbox\"}],\"scatterpolar\":[{\"marker\":{\"colorbar\":{\"outlinewidth\":0,\"ticks\":\"\"}},\"type\":\"scatterpolar\"}],\"scatterpolargl\":[{\"marker\":{\"colorbar\":{\"outlinewidth\":0,\"ticks\":\"\"}},\"type\":\"scatterpolargl\"}],\"scatterternary\":[{\"marker\":{\"colorbar\":{\"outlinewidth\":0,\"ticks\":\"\"}},\"type\":\"scatterternary\"}],\"surface\":[{\"colorbar\":{\"outlinewidth\":0,\"ticks\":\"\"},\"colorscale\":[[0.0,\"#0d0887\"],[0.1111111111111111,\"#46039f\"],[0.2222222222222222,\"#7201a8\"],[0.3333333333333333,\"#9c179e\"],[0.4444444444444444,\"#bd3786\"],[0.5555555555555556,\"#d8576b\"],[0.6666666666666666,\"#ed7953\"],[0.7777777777777778,\"#fb9f3a\"],[0.8888888888888888,\"#fdca26\"],[1.0,\"#f0f921\"]],\"type\":\"surface\"}],\"table\":[{\"cells\":{\"fill\":{\"color\":\"#EBF0F8\"},\"line\":{\"color\":\"white\"}},\"header\":{\"fill\":{\"color\":\"#C8D4E3\"},\"line\":{\"color\":\"white\"}},\"type\":\"table\"}]},\"layout\":{\"annotationdefaults\":{\"arrowcolor\":\"#2a3f5f\",\"arrowhead\":0,\"arrowwidth\":1},\"autotypenumbers\":\"strict\",\"coloraxis\":{\"colorbar\":{\"outlinewidth\":0,\"ticks\":\"\"}},\"colorscale\":{\"diverging\":[[0,\"#8e0152\"],[0.1,\"#c51b7d\"],[0.2,\"#de77ae\"],[0.3,\"#f1b6da\"],[0.4,\"#fde0ef\"],[0.5,\"#f7f7f7\"],[0.6,\"#e6f5d0\"],[0.7,\"#b8e186\"],[0.8,\"#7fbc41\"],[0.9,\"#4d9221\"],[1,\"#276419\"]],\"sequential\":[[0.0,\"#0d0887\"],[0.1111111111111111,\"#46039f\"],[0.2222222222222222,\"#7201a8\"],[0.3333333333333333,\"#9c179e\"],[0.4444444444444444,\"#bd3786\"],[0.5555555555555556,\"#d8576b\"],[0.6666666666666666,\"#ed7953\"],[0.7777777777777778,\"#fb9f3a\"],[0.8888888888888888,\"#fdca26\"],[1.0,\"#f0f921\"]],\"sequentialminus\":[[0.0,\"#0d0887\"],[0.1111111111111111,\"#46039f\"],[0.2222222222222222,\"#7201a8\"],[0.3333333333333333,\"#9c179e\"],[0.4444444444444444,\"#bd3786\"],[0.5555555555555556,\"#d8576b\"],[0.6666666666666666,\"#ed7953\"],[0.7777777777777778,\"#fb9f3a\"],[0.8888888888888888,\"#fdca26\"],[1.0,\"#f0f921\"]]},\"colorway\":[\"#636efa\",\"#EF553B\",\"#00cc96\",\"#ab63fa\",\"#FFA15A\",\"#19d3f3\",\"#FF6692\",\"#B6E880\",\"#FF97FF\",\"#FECB52\"],\"font\":{\"color\":\"#2a3f5f\"},\"geo\":{\"bgcolor\":\"white\",\"lakecolor\":\"white\",\"landcolor\":\"#E5ECF6\",\"showlakes\":true,\"showland\":true,\"subunitcolor\":\"white\"},\"hoverlabel\":{\"align\":\"left\"},\"hovermode\":\"closest\",\"mapbox\":{\"style\":\"light\"},\"paper_bgcolor\":\"white\",\"plot_bgcolor\":\"#E5ECF6\",\"polar\":{\"angularaxis\":{\"gridcolor\":\"white\",\"linecolor\":\"white\",\"ticks\":\"\"},\"bgcolor\":\"#E5ECF6\",\"radialaxis\":{\"gridcolor\":\"white\",\"linecolor\":\"white\",\"ticks\":\"\"}},\"scene\":{\"xaxis\":{\"backgroundcolor\":\"#E5ECF6\",\"gridcolor\":\"white\",\"gridwidth\":2,\"linecolor\":\"white\",\"showbackground\":true,\"ticks\":\"\",\"zerolinecolor\":\"white\"},\"yaxis\":{\"backgroundcolor\":\"#E5ECF6\",\"gridcolor\":\"white\",\"gridwidth\":2,\"linecolor\":\"white\",\"showbackground\":true,\"ticks\":\"\",\"zerolinecolor\":\"white\"},\"zaxis\":{\"backgroundcolor\":\"#E5ECF6\",\"gridcolor\":\"white\",\"gridwidth\":2,\"linecolor\":\"white\",\"showbackground\":true,\"ticks\":\"\",\"zerolinecolor\":\"white\"}},\"shapedefaults\":{\"line\":{\"color\":\"#2a3f5f\"}},\"ternary\":{\"aaxis\":{\"gridcolor\":\"white\",\"linecolor\":\"white\",\"ticks\":\"\"},\"baxis\":{\"gridcolor\":\"white\",\"linecolor\":\"white\",\"ticks\":\"\"},\"bgcolor\":\"#E5ECF6\",\"caxis\":{\"gridcolor\":\"white\",\"linecolor\":\"white\",\"ticks\":\"\"}},\"title\":{\"x\":0.05},\"xaxis\":{\"automargin\":true,\"gridcolor\":\"white\",\"linecolor\":\"white\",\"ticks\":\"\",\"title\":{\"standoff\":15},\"zerolinecolor\":\"white\",\"zerolinewidth\":2},\"yaxis\":{\"automargin\":true,\"gridcolor\":\"white\",\"linecolor\":\"white\",\"ticks\":\"\",\"title\":{\"standoff\":15},\"zerolinecolor\":\"white\",\"zerolinewidth\":2}}},\"title\":{\"text\":\"Venda dos produtos\"},\"xaxis\":{\"anchor\":\"y\",\"domain\":[0.0,1.0],\"tickangle\":45,\"title\":{\"text\":\"Produto\"}},\"yaxis\":{\"anchor\":\"x\",\"domain\":[0.0,1.0],\"title\":{\"text\":\"Quantidade vendida\"}}},                        {\"responsive\": true}                    ).then(function(){\n",
       "                            \n",
       "var gd = document.getElementById('738bafa4-6414-4eab-842e-d0fb0a6f9731');\n",
       "var x = new MutationObserver(function (mutations, observer) {{\n",
       "        var display = window.getComputedStyle(gd).display;\n",
       "        if (!display || display === 'none') {{\n",
       "            console.log([gd, 'removed!']);\n",
       "            Plotly.purge(gd);\n",
       "            observer.disconnect();\n",
       "        }}\n",
       "}});\n",
       "\n",
       "// Listen for the removal of the full notebook cells\n",
       "var notebookContainer = gd.closest('#notebook-container');\n",
       "if (notebookContainer) {{\n",
       "    x.observe(notebookContainer, {childList: true});\n",
       "}}\n",
       "\n",
       "// Listen for the clearing of the current output cell\n",
       "var outputEl = gd.closest('.output');\n",
       "if (outputEl) {{\n",
       "    x.observe(outputEl, {childList: true});\n",
       "}}\n",
       "\n",
       "                        })                };                });            </script>        </div>"
      ]
     },
     "metadata": {},
     "output_type": "display_data"
    }
   ],
   "source": [
    "\n",
    "\n",
    "#plotagem do gráfico de barras sobre o total de vendas por produto usando plotly\n",
    "fig_quantidade_produto = px.bar(venda_produtos_total,\n",
    "             x='nome', y=\"quantidade\",\n",
    "             barmode='stack', labels={\"nome\": \"Nome\", 'quantidade':\"Quantidade vendida\"})\n",
    "fig_quantidade_produto.update_layout(title = 'Venda dos produtos')\n",
    "fig_quantidade_produto.update_xaxes(title = 'Produto')\n",
    "fig_quantidade_produto.update_yaxes(title = 'Quantidade vendida')\n",
    "fig_quantidade_produto.update_xaxes(tickangle=45)\n",
    "fig_quantidade_produto.show()"
   ]
  },
  {
   "cell_type": "code",
   "execution_count": 59,
   "id": "8a1c89c5",
   "metadata": {},
   "outputs": [
    {
     "name": "stderr",
     "output_type": "stream",
     "text": [
      "IOPub data rate exceeded.\n",
      "The notebook server will temporarily stop sending output\n",
      "to the client in order to avoid crashing it.\n",
      "To change this limit, set the config variable\n",
      "`--NotebookApp.iopub_data_rate_limit`.\n",
      "\n",
      "Current values:\n",
      "NotebookApp.iopub_data_rate_limit=1000000.0 (bytes/sec)\n",
      "NotebookApp.rate_limit_window=3.0 (secs)\n",
      "\n"
     ]
    }
   ],
   "source": [
    "from plotly.io import to_html\n",
    "#f=to_html(fig, full_html = False)\n",
    "f=fig_quantidade_produto.to_html(full_html=False)\n",
    "print(f)"
   ]
  },
  {
   "cell_type": "markdown",
   "id": "fdb739ee",
   "metadata": {},
   "source": [
    "## Relação entre preço e estoque"
   ]
  },
  {
   "cell_type": "code",
   "execution_count": 60,
   "id": "c607e931",
   "metadata": {},
   "outputs": [
    {
     "data": {
      "application/vnd.plotly.v1+json": {
       "config": {
        "plotlyServerURL": "https://plot.ly"
       },
       "data": [
        {
         "hovertemplate": "Preço=%{x}<br>Estoque=%{y}<extra></extra>",
         "legendgroup": "",
         "marker": {
          "color": "#636efa",
          "line": {
           "width": 2
          },
          "size": 8,
          "symbol": "circle"
         },
         "mode": "markers",
         "name": "",
         "orientation": "v",
         "showlegend": false,
         "type": "scatter",
         "x": [
          7.99,
          15.99,
          5.99,
          7.47,
          3.99,
          11.99,
          3.49,
          0.98,
          5.48,
          8.45,
          4.31,
          2.48,
          31.99,
          42.99,
          22.79,
          172,
          20.99,
          23.99,
          70.89,
          16.49,
          35,
          6.99,
          23.99,
          10.99,
          4.99,
          12.99,
          3.49,
          45,
          6.7,
          11.98,
          2.7,
          1.99,
          23.99,
          5.99,
          9.69,
          1.29
         ],
         "xaxis": "x",
         "y": [
          50,
          20,
          40,
          36,
          47,
          12,
          19,
          25,
          20,
          43,
          80,
          38,
          7,
          9,
          5,
          5,
          10,
          9,
          6,
          10,
          7,
          15,
          1,
          3,
          9,
          15,
          20,
          7,
          12,
          8,
          40,
          32,
          6,
          10,
          13,
          58
         ],
         "yaxis": "y"
        }
       ],
       "layout": {
        "height": 500,
        "legend": {
         "tracegroupgap": 0
        },
        "margin": {
         "t": 60
        },
        "template": {
         "data": {
          "bar": [
           {
            "error_x": {
             "color": "#2a3f5f"
            },
            "error_y": {
             "color": "#2a3f5f"
            },
            "marker": {
             "line": {
              "color": "#E5ECF6",
              "width": 0.5
             },
             "pattern": {
              "fillmode": "overlay",
              "size": 10,
              "solidity": 0.2
             }
            },
            "type": "bar"
           }
          ],
          "barpolar": [
           {
            "marker": {
             "line": {
              "color": "#E5ECF6",
              "width": 0.5
             },
             "pattern": {
              "fillmode": "overlay",
              "size": 10,
              "solidity": 0.2
             }
            },
            "type": "barpolar"
           }
          ],
          "carpet": [
           {
            "aaxis": {
             "endlinecolor": "#2a3f5f",
             "gridcolor": "white",
             "linecolor": "white",
             "minorgridcolor": "white",
             "startlinecolor": "#2a3f5f"
            },
            "baxis": {
             "endlinecolor": "#2a3f5f",
             "gridcolor": "white",
             "linecolor": "white",
             "minorgridcolor": "white",
             "startlinecolor": "#2a3f5f"
            },
            "type": "carpet"
           }
          ],
          "choropleth": [
           {
            "colorbar": {
             "outlinewidth": 0,
             "ticks": ""
            },
            "type": "choropleth"
           }
          ],
          "contour": [
           {
            "colorbar": {
             "outlinewidth": 0,
             "ticks": ""
            },
            "colorscale": [
             [
              0,
              "#0d0887"
             ],
             [
              0.1111111111111111,
              "#46039f"
             ],
             [
              0.2222222222222222,
              "#7201a8"
             ],
             [
              0.3333333333333333,
              "#9c179e"
             ],
             [
              0.4444444444444444,
              "#bd3786"
             ],
             [
              0.5555555555555556,
              "#d8576b"
             ],
             [
              0.6666666666666666,
              "#ed7953"
             ],
             [
              0.7777777777777778,
              "#fb9f3a"
             ],
             [
              0.8888888888888888,
              "#fdca26"
             ],
             [
              1,
              "#f0f921"
             ]
            ],
            "type": "contour"
           }
          ],
          "contourcarpet": [
           {
            "colorbar": {
             "outlinewidth": 0,
             "ticks": ""
            },
            "type": "contourcarpet"
           }
          ],
          "heatmap": [
           {
            "colorbar": {
             "outlinewidth": 0,
             "ticks": ""
            },
            "colorscale": [
             [
              0,
              "#0d0887"
             ],
             [
              0.1111111111111111,
              "#46039f"
             ],
             [
              0.2222222222222222,
              "#7201a8"
             ],
             [
              0.3333333333333333,
              "#9c179e"
             ],
             [
              0.4444444444444444,
              "#bd3786"
             ],
             [
              0.5555555555555556,
              "#d8576b"
             ],
             [
              0.6666666666666666,
              "#ed7953"
             ],
             [
              0.7777777777777778,
              "#fb9f3a"
             ],
             [
              0.8888888888888888,
              "#fdca26"
             ],
             [
              1,
              "#f0f921"
             ]
            ],
            "type": "heatmap"
           }
          ],
          "heatmapgl": [
           {
            "colorbar": {
             "outlinewidth": 0,
             "ticks": ""
            },
            "colorscale": [
             [
              0,
              "#0d0887"
             ],
             [
              0.1111111111111111,
              "#46039f"
             ],
             [
              0.2222222222222222,
              "#7201a8"
             ],
             [
              0.3333333333333333,
              "#9c179e"
             ],
             [
              0.4444444444444444,
              "#bd3786"
             ],
             [
              0.5555555555555556,
              "#d8576b"
             ],
             [
              0.6666666666666666,
              "#ed7953"
             ],
             [
              0.7777777777777778,
              "#fb9f3a"
             ],
             [
              0.8888888888888888,
              "#fdca26"
             ],
             [
              1,
              "#f0f921"
             ]
            ],
            "type": "heatmapgl"
           }
          ],
          "histogram": [
           {
            "marker": {
             "pattern": {
              "fillmode": "overlay",
              "size": 10,
              "solidity": 0.2
             }
            },
            "type": "histogram"
           }
          ],
          "histogram2d": [
           {
            "colorbar": {
             "outlinewidth": 0,
             "ticks": ""
            },
            "colorscale": [
             [
              0,
              "#0d0887"
             ],
             [
              0.1111111111111111,
              "#46039f"
             ],
             [
              0.2222222222222222,
              "#7201a8"
             ],
             [
              0.3333333333333333,
              "#9c179e"
             ],
             [
              0.4444444444444444,
              "#bd3786"
             ],
             [
              0.5555555555555556,
              "#d8576b"
             ],
             [
              0.6666666666666666,
              "#ed7953"
             ],
             [
              0.7777777777777778,
              "#fb9f3a"
             ],
             [
              0.8888888888888888,
              "#fdca26"
             ],
             [
              1,
              "#f0f921"
             ]
            ],
            "type": "histogram2d"
           }
          ],
          "histogram2dcontour": [
           {
            "colorbar": {
             "outlinewidth": 0,
             "ticks": ""
            },
            "colorscale": [
             [
              0,
              "#0d0887"
             ],
             [
              0.1111111111111111,
              "#46039f"
             ],
             [
              0.2222222222222222,
              "#7201a8"
             ],
             [
              0.3333333333333333,
              "#9c179e"
             ],
             [
              0.4444444444444444,
              "#bd3786"
             ],
             [
              0.5555555555555556,
              "#d8576b"
             ],
             [
              0.6666666666666666,
              "#ed7953"
             ],
             [
              0.7777777777777778,
              "#fb9f3a"
             ],
             [
              0.8888888888888888,
              "#fdca26"
             ],
             [
              1,
              "#f0f921"
             ]
            ],
            "type": "histogram2dcontour"
           }
          ],
          "mesh3d": [
           {
            "colorbar": {
             "outlinewidth": 0,
             "ticks": ""
            },
            "type": "mesh3d"
           }
          ],
          "parcoords": [
           {
            "line": {
             "colorbar": {
              "outlinewidth": 0,
              "ticks": ""
             }
            },
            "type": "parcoords"
           }
          ],
          "pie": [
           {
            "automargin": true,
            "type": "pie"
           }
          ],
          "scatter": [
           {
            "marker": {
             "colorbar": {
              "outlinewidth": 0,
              "ticks": ""
             }
            },
            "type": "scatter"
           }
          ],
          "scatter3d": [
           {
            "line": {
             "colorbar": {
              "outlinewidth": 0,
              "ticks": ""
             }
            },
            "marker": {
             "colorbar": {
              "outlinewidth": 0,
              "ticks": ""
             }
            },
            "type": "scatter3d"
           }
          ],
          "scattercarpet": [
           {
            "marker": {
             "colorbar": {
              "outlinewidth": 0,
              "ticks": ""
             }
            },
            "type": "scattercarpet"
           }
          ],
          "scattergeo": [
           {
            "marker": {
             "colorbar": {
              "outlinewidth": 0,
              "ticks": ""
             }
            },
            "type": "scattergeo"
           }
          ],
          "scattergl": [
           {
            "marker": {
             "colorbar": {
              "outlinewidth": 0,
              "ticks": ""
             }
            },
            "type": "scattergl"
           }
          ],
          "scattermapbox": [
           {
            "marker": {
             "colorbar": {
              "outlinewidth": 0,
              "ticks": ""
             }
            },
            "type": "scattermapbox"
           }
          ],
          "scatterpolar": [
           {
            "marker": {
             "colorbar": {
              "outlinewidth": 0,
              "ticks": ""
             }
            },
            "type": "scatterpolar"
           }
          ],
          "scatterpolargl": [
           {
            "marker": {
             "colorbar": {
              "outlinewidth": 0,
              "ticks": ""
             }
            },
            "type": "scatterpolargl"
           }
          ],
          "scatterternary": [
           {
            "marker": {
             "colorbar": {
              "outlinewidth": 0,
              "ticks": ""
             }
            },
            "type": "scatterternary"
           }
          ],
          "surface": [
           {
            "colorbar": {
             "outlinewidth": 0,
             "ticks": ""
            },
            "colorscale": [
             [
              0,
              "#0d0887"
             ],
             [
              0.1111111111111111,
              "#46039f"
             ],
             [
              0.2222222222222222,
              "#7201a8"
             ],
             [
              0.3333333333333333,
              "#9c179e"
             ],
             [
              0.4444444444444444,
              "#bd3786"
             ],
             [
              0.5555555555555556,
              "#d8576b"
             ],
             [
              0.6666666666666666,
              "#ed7953"
             ],
             [
              0.7777777777777778,
              "#fb9f3a"
             ],
             [
              0.8888888888888888,
              "#fdca26"
             ],
             [
              1,
              "#f0f921"
             ]
            ],
            "type": "surface"
           }
          ],
          "table": [
           {
            "cells": {
             "fill": {
              "color": "#EBF0F8"
             },
             "line": {
              "color": "white"
             }
            },
            "header": {
             "fill": {
              "color": "#C8D4E3"
             },
             "line": {
              "color": "white"
             }
            },
            "type": "table"
           }
          ]
         },
         "layout": {
          "annotationdefaults": {
           "arrowcolor": "#2a3f5f",
           "arrowhead": 0,
           "arrowwidth": 1
          },
          "autotypenumbers": "strict",
          "coloraxis": {
           "colorbar": {
            "outlinewidth": 0,
            "ticks": ""
           }
          },
          "colorscale": {
           "diverging": [
            [
             0,
             "#8e0152"
            ],
            [
             0.1,
             "#c51b7d"
            ],
            [
             0.2,
             "#de77ae"
            ],
            [
             0.3,
             "#f1b6da"
            ],
            [
             0.4,
             "#fde0ef"
            ],
            [
             0.5,
             "#f7f7f7"
            ],
            [
             0.6,
             "#e6f5d0"
            ],
            [
             0.7,
             "#b8e186"
            ],
            [
             0.8,
             "#7fbc41"
            ],
            [
             0.9,
             "#4d9221"
            ],
            [
             1,
             "#276419"
            ]
           ],
           "sequential": [
            [
             0,
             "#0d0887"
            ],
            [
             0.1111111111111111,
             "#46039f"
            ],
            [
             0.2222222222222222,
             "#7201a8"
            ],
            [
             0.3333333333333333,
             "#9c179e"
            ],
            [
             0.4444444444444444,
             "#bd3786"
            ],
            [
             0.5555555555555556,
             "#d8576b"
            ],
            [
             0.6666666666666666,
             "#ed7953"
            ],
            [
             0.7777777777777778,
             "#fb9f3a"
            ],
            [
             0.8888888888888888,
             "#fdca26"
            ],
            [
             1,
             "#f0f921"
            ]
           ],
           "sequentialminus": [
            [
             0,
             "#0d0887"
            ],
            [
             0.1111111111111111,
             "#46039f"
            ],
            [
             0.2222222222222222,
             "#7201a8"
            ],
            [
             0.3333333333333333,
             "#9c179e"
            ],
            [
             0.4444444444444444,
             "#bd3786"
            ],
            [
             0.5555555555555556,
             "#d8576b"
            ],
            [
             0.6666666666666666,
             "#ed7953"
            ],
            [
             0.7777777777777778,
             "#fb9f3a"
            ],
            [
             0.8888888888888888,
             "#fdca26"
            ],
            [
             1,
             "#f0f921"
            ]
           ]
          },
          "colorway": [
           "#636efa",
           "#EF553B",
           "#00cc96",
           "#ab63fa",
           "#FFA15A",
           "#19d3f3",
           "#FF6692",
           "#B6E880",
           "#FF97FF",
           "#FECB52"
          ],
          "font": {
           "color": "#2a3f5f"
          },
          "geo": {
           "bgcolor": "white",
           "lakecolor": "white",
           "landcolor": "#E5ECF6",
           "showlakes": true,
           "showland": true,
           "subunitcolor": "white"
          },
          "hoverlabel": {
           "align": "left"
          },
          "hovermode": "closest",
          "mapbox": {
           "style": "light"
          },
          "paper_bgcolor": "white",
          "plot_bgcolor": "#E5ECF6",
          "polar": {
           "angularaxis": {
            "gridcolor": "white",
            "linecolor": "white",
            "ticks": ""
           },
           "bgcolor": "#E5ECF6",
           "radialaxis": {
            "gridcolor": "white",
            "linecolor": "white",
            "ticks": ""
           }
          },
          "scene": {
           "xaxis": {
            "backgroundcolor": "#E5ECF6",
            "gridcolor": "white",
            "gridwidth": 2,
            "linecolor": "white",
            "showbackground": true,
            "ticks": "",
            "zerolinecolor": "white"
           },
           "yaxis": {
            "backgroundcolor": "#E5ECF6",
            "gridcolor": "white",
            "gridwidth": 2,
            "linecolor": "white",
            "showbackground": true,
            "ticks": "",
            "zerolinecolor": "white"
           },
           "zaxis": {
            "backgroundcolor": "#E5ECF6",
            "gridcolor": "white",
            "gridwidth": 2,
            "linecolor": "white",
            "showbackground": true,
            "ticks": "",
            "zerolinecolor": "white"
           }
          },
          "shapedefaults": {
           "line": {
            "color": "#2a3f5f"
           }
          },
          "ternary": {
           "aaxis": {
            "gridcolor": "white",
            "linecolor": "white",
            "ticks": ""
           },
           "baxis": {
            "gridcolor": "white",
            "linecolor": "white",
            "ticks": ""
           },
           "bgcolor": "#E5ECF6",
           "caxis": {
            "gridcolor": "white",
            "linecolor": "white",
            "ticks": ""
           }
          },
          "title": {
           "x": 0.05
          },
          "xaxis": {
           "automargin": true,
           "gridcolor": "white",
           "linecolor": "white",
           "ticks": "",
           "title": {
            "standoff": 15
           },
           "zerolinecolor": "white",
           "zerolinewidth": 2
          },
          "yaxis": {
           "automargin": true,
           "gridcolor": "white",
           "linecolor": "white",
           "ticks": "",
           "title": {
            "standoff": 15
           },
           "zerolinecolor": "white",
           "zerolinewidth": 2
          }
         }
        },
        "title": {
         "text": "Preço X Estoque"
        },
        "width": 500,
        "xaxis": {
         "anchor": "y",
         "domain": [
          0,
          1
         ],
         "title": {
          "text": "Preço do produto"
         }
        },
        "yaxis": {
         "anchor": "x",
         "domain": [
          0,
          1
         ],
         "title": {
          "text": "Quantidade em estoque"
         }
        }
       }
      },
      "text/html": [
       "<div>                            <div id=\"19f8f038-c439-45e1-8a41-47641c07b8d1\" class=\"plotly-graph-div\" style=\"height:500px; width:500px;\"></div>            <script type=\"text/javascript\">                require([\"plotly\"], function(Plotly) {                    window.PLOTLYENV=window.PLOTLYENV || {};                                    if (document.getElementById(\"19f8f038-c439-45e1-8a41-47641c07b8d1\")) {                    Plotly.newPlot(                        \"19f8f038-c439-45e1-8a41-47641c07b8d1\",                        [{\"hovertemplate\":\"Pre\\u00e7o=%{x}<br>Estoque=%{y}<extra></extra>\",\"legendgroup\":\"\",\"marker\":{\"color\":\"#636efa\",\"line\":{\"width\":2},\"size\":8,\"symbol\":\"circle\"},\"mode\":\"markers\",\"name\":\"\",\"orientation\":\"v\",\"showlegend\":false,\"type\":\"scatter\",\"x\":[7.99,15.99,5.99,7.47,3.99,11.99,3.49,0.98,5.48,8.45,4.31,2.48,31.99,42.99,22.79,172.0,20.99,23.99,70.89,16.49,35.0,6.99,23.99,10.99,4.99,12.99,3.49,45.0,6.7,11.98,2.7,1.99,23.99,5.99,9.69,1.29],\"xaxis\":\"x\",\"y\":[50,20,40,36,47,12,19,25,20,43,80,38,7,9,5,5,10,9,6,10,7,15,1,3,9,15,20,7,12,8,40,32,6,10,13,58],\"yaxis\":\"y\"}],                        {\"height\":500,\"legend\":{\"tracegroupgap\":0},\"margin\":{\"t\":60},\"template\":{\"data\":{\"bar\":[{\"error_x\":{\"color\":\"#2a3f5f\"},\"error_y\":{\"color\":\"#2a3f5f\"},\"marker\":{\"line\":{\"color\":\"#E5ECF6\",\"width\":0.5},\"pattern\":{\"fillmode\":\"overlay\",\"size\":10,\"solidity\":0.2}},\"type\":\"bar\"}],\"barpolar\":[{\"marker\":{\"line\":{\"color\":\"#E5ECF6\",\"width\":0.5},\"pattern\":{\"fillmode\":\"overlay\",\"size\":10,\"solidity\":0.2}},\"type\":\"barpolar\"}],\"carpet\":[{\"aaxis\":{\"endlinecolor\":\"#2a3f5f\",\"gridcolor\":\"white\",\"linecolor\":\"white\",\"minorgridcolor\":\"white\",\"startlinecolor\":\"#2a3f5f\"},\"baxis\":{\"endlinecolor\":\"#2a3f5f\",\"gridcolor\":\"white\",\"linecolor\":\"white\",\"minorgridcolor\":\"white\",\"startlinecolor\":\"#2a3f5f\"},\"type\":\"carpet\"}],\"choropleth\":[{\"colorbar\":{\"outlinewidth\":0,\"ticks\":\"\"},\"type\":\"choropleth\"}],\"contour\":[{\"colorbar\":{\"outlinewidth\":0,\"ticks\":\"\"},\"colorscale\":[[0.0,\"#0d0887\"],[0.1111111111111111,\"#46039f\"],[0.2222222222222222,\"#7201a8\"],[0.3333333333333333,\"#9c179e\"],[0.4444444444444444,\"#bd3786\"],[0.5555555555555556,\"#d8576b\"],[0.6666666666666666,\"#ed7953\"],[0.7777777777777778,\"#fb9f3a\"],[0.8888888888888888,\"#fdca26\"],[1.0,\"#f0f921\"]],\"type\":\"contour\"}],\"contourcarpet\":[{\"colorbar\":{\"outlinewidth\":0,\"ticks\":\"\"},\"type\":\"contourcarpet\"}],\"heatmap\":[{\"colorbar\":{\"outlinewidth\":0,\"ticks\":\"\"},\"colorscale\":[[0.0,\"#0d0887\"],[0.1111111111111111,\"#46039f\"],[0.2222222222222222,\"#7201a8\"],[0.3333333333333333,\"#9c179e\"],[0.4444444444444444,\"#bd3786\"],[0.5555555555555556,\"#d8576b\"],[0.6666666666666666,\"#ed7953\"],[0.7777777777777778,\"#fb9f3a\"],[0.8888888888888888,\"#fdca26\"],[1.0,\"#f0f921\"]],\"type\":\"heatmap\"}],\"heatmapgl\":[{\"colorbar\":{\"outlinewidth\":0,\"ticks\":\"\"},\"colorscale\":[[0.0,\"#0d0887\"],[0.1111111111111111,\"#46039f\"],[0.2222222222222222,\"#7201a8\"],[0.3333333333333333,\"#9c179e\"],[0.4444444444444444,\"#bd3786\"],[0.5555555555555556,\"#d8576b\"],[0.6666666666666666,\"#ed7953\"],[0.7777777777777778,\"#fb9f3a\"],[0.8888888888888888,\"#fdca26\"],[1.0,\"#f0f921\"]],\"type\":\"heatmapgl\"}],\"histogram\":[{\"marker\":{\"pattern\":{\"fillmode\":\"overlay\",\"size\":10,\"solidity\":0.2}},\"type\":\"histogram\"}],\"histogram2d\":[{\"colorbar\":{\"outlinewidth\":0,\"ticks\":\"\"},\"colorscale\":[[0.0,\"#0d0887\"],[0.1111111111111111,\"#46039f\"],[0.2222222222222222,\"#7201a8\"],[0.3333333333333333,\"#9c179e\"],[0.4444444444444444,\"#bd3786\"],[0.5555555555555556,\"#d8576b\"],[0.6666666666666666,\"#ed7953\"],[0.7777777777777778,\"#fb9f3a\"],[0.8888888888888888,\"#fdca26\"],[1.0,\"#f0f921\"]],\"type\":\"histogram2d\"}],\"histogram2dcontour\":[{\"colorbar\":{\"outlinewidth\":0,\"ticks\":\"\"},\"colorscale\":[[0.0,\"#0d0887\"],[0.1111111111111111,\"#46039f\"],[0.2222222222222222,\"#7201a8\"],[0.3333333333333333,\"#9c179e\"],[0.4444444444444444,\"#bd3786\"],[0.5555555555555556,\"#d8576b\"],[0.6666666666666666,\"#ed7953\"],[0.7777777777777778,\"#fb9f3a\"],[0.8888888888888888,\"#fdca26\"],[1.0,\"#f0f921\"]],\"type\":\"histogram2dcontour\"}],\"mesh3d\":[{\"colorbar\":{\"outlinewidth\":0,\"ticks\":\"\"},\"type\":\"mesh3d\"}],\"parcoords\":[{\"line\":{\"colorbar\":{\"outlinewidth\":0,\"ticks\":\"\"}},\"type\":\"parcoords\"}],\"pie\":[{\"automargin\":true,\"type\":\"pie\"}],\"scatter\":[{\"marker\":{\"colorbar\":{\"outlinewidth\":0,\"ticks\":\"\"}},\"type\":\"scatter\"}],\"scatter3d\":[{\"line\":{\"colorbar\":{\"outlinewidth\":0,\"ticks\":\"\"}},\"marker\":{\"colorbar\":{\"outlinewidth\":0,\"ticks\":\"\"}},\"type\":\"scatter3d\"}],\"scattercarpet\":[{\"marker\":{\"colorbar\":{\"outlinewidth\":0,\"ticks\":\"\"}},\"type\":\"scattercarpet\"}],\"scattergeo\":[{\"marker\":{\"colorbar\":{\"outlinewidth\":0,\"ticks\":\"\"}},\"type\":\"scattergeo\"}],\"scattergl\":[{\"marker\":{\"colorbar\":{\"outlinewidth\":0,\"ticks\":\"\"}},\"type\":\"scattergl\"}],\"scattermapbox\":[{\"marker\":{\"colorbar\":{\"outlinewidth\":0,\"ticks\":\"\"}},\"type\":\"scattermapbox\"}],\"scatterpolar\":[{\"marker\":{\"colorbar\":{\"outlinewidth\":0,\"ticks\":\"\"}},\"type\":\"scatterpolar\"}],\"scatterpolargl\":[{\"marker\":{\"colorbar\":{\"outlinewidth\":0,\"ticks\":\"\"}},\"type\":\"scatterpolargl\"}],\"scatterternary\":[{\"marker\":{\"colorbar\":{\"outlinewidth\":0,\"ticks\":\"\"}},\"type\":\"scatterternary\"}],\"surface\":[{\"colorbar\":{\"outlinewidth\":0,\"ticks\":\"\"},\"colorscale\":[[0.0,\"#0d0887\"],[0.1111111111111111,\"#46039f\"],[0.2222222222222222,\"#7201a8\"],[0.3333333333333333,\"#9c179e\"],[0.4444444444444444,\"#bd3786\"],[0.5555555555555556,\"#d8576b\"],[0.6666666666666666,\"#ed7953\"],[0.7777777777777778,\"#fb9f3a\"],[0.8888888888888888,\"#fdca26\"],[1.0,\"#f0f921\"]],\"type\":\"surface\"}],\"table\":[{\"cells\":{\"fill\":{\"color\":\"#EBF0F8\"},\"line\":{\"color\":\"white\"}},\"header\":{\"fill\":{\"color\":\"#C8D4E3\"},\"line\":{\"color\":\"white\"}},\"type\":\"table\"}]},\"layout\":{\"annotationdefaults\":{\"arrowcolor\":\"#2a3f5f\",\"arrowhead\":0,\"arrowwidth\":1},\"autotypenumbers\":\"strict\",\"coloraxis\":{\"colorbar\":{\"outlinewidth\":0,\"ticks\":\"\"}},\"colorscale\":{\"diverging\":[[0,\"#8e0152\"],[0.1,\"#c51b7d\"],[0.2,\"#de77ae\"],[0.3,\"#f1b6da\"],[0.4,\"#fde0ef\"],[0.5,\"#f7f7f7\"],[0.6,\"#e6f5d0\"],[0.7,\"#b8e186\"],[0.8,\"#7fbc41\"],[0.9,\"#4d9221\"],[1,\"#276419\"]],\"sequential\":[[0.0,\"#0d0887\"],[0.1111111111111111,\"#46039f\"],[0.2222222222222222,\"#7201a8\"],[0.3333333333333333,\"#9c179e\"],[0.4444444444444444,\"#bd3786\"],[0.5555555555555556,\"#d8576b\"],[0.6666666666666666,\"#ed7953\"],[0.7777777777777778,\"#fb9f3a\"],[0.8888888888888888,\"#fdca26\"],[1.0,\"#f0f921\"]],\"sequentialminus\":[[0.0,\"#0d0887\"],[0.1111111111111111,\"#46039f\"],[0.2222222222222222,\"#7201a8\"],[0.3333333333333333,\"#9c179e\"],[0.4444444444444444,\"#bd3786\"],[0.5555555555555556,\"#d8576b\"],[0.6666666666666666,\"#ed7953\"],[0.7777777777777778,\"#fb9f3a\"],[0.8888888888888888,\"#fdca26\"],[1.0,\"#f0f921\"]]},\"colorway\":[\"#636efa\",\"#EF553B\",\"#00cc96\",\"#ab63fa\",\"#FFA15A\",\"#19d3f3\",\"#FF6692\",\"#B6E880\",\"#FF97FF\",\"#FECB52\"],\"font\":{\"color\":\"#2a3f5f\"},\"geo\":{\"bgcolor\":\"white\",\"lakecolor\":\"white\",\"landcolor\":\"#E5ECF6\",\"showlakes\":true,\"showland\":true,\"subunitcolor\":\"white\"},\"hoverlabel\":{\"align\":\"left\"},\"hovermode\":\"closest\",\"mapbox\":{\"style\":\"light\"},\"paper_bgcolor\":\"white\",\"plot_bgcolor\":\"#E5ECF6\",\"polar\":{\"angularaxis\":{\"gridcolor\":\"white\",\"linecolor\":\"white\",\"ticks\":\"\"},\"bgcolor\":\"#E5ECF6\",\"radialaxis\":{\"gridcolor\":\"white\",\"linecolor\":\"white\",\"ticks\":\"\"}},\"scene\":{\"xaxis\":{\"backgroundcolor\":\"#E5ECF6\",\"gridcolor\":\"white\",\"gridwidth\":2,\"linecolor\":\"white\",\"showbackground\":true,\"ticks\":\"\",\"zerolinecolor\":\"white\"},\"yaxis\":{\"backgroundcolor\":\"#E5ECF6\",\"gridcolor\":\"white\",\"gridwidth\":2,\"linecolor\":\"white\",\"showbackground\":true,\"ticks\":\"\",\"zerolinecolor\":\"white\"},\"zaxis\":{\"backgroundcolor\":\"#E5ECF6\",\"gridcolor\":\"white\",\"gridwidth\":2,\"linecolor\":\"white\",\"showbackground\":true,\"ticks\":\"\",\"zerolinecolor\":\"white\"}},\"shapedefaults\":{\"line\":{\"color\":\"#2a3f5f\"}},\"ternary\":{\"aaxis\":{\"gridcolor\":\"white\",\"linecolor\":\"white\",\"ticks\":\"\"},\"baxis\":{\"gridcolor\":\"white\",\"linecolor\":\"white\",\"ticks\":\"\"},\"bgcolor\":\"#E5ECF6\",\"caxis\":{\"gridcolor\":\"white\",\"linecolor\":\"white\",\"ticks\":\"\"}},\"title\":{\"x\":0.05},\"xaxis\":{\"automargin\":true,\"gridcolor\":\"white\",\"linecolor\":\"white\",\"ticks\":\"\",\"title\":{\"standoff\":15},\"zerolinecolor\":\"white\",\"zerolinewidth\":2},\"yaxis\":{\"automargin\":true,\"gridcolor\":\"white\",\"linecolor\":\"white\",\"ticks\":\"\",\"title\":{\"standoff\":15},\"zerolinecolor\":\"white\",\"zerolinewidth\":2}}},\"title\":{\"text\":\"Pre\\u00e7o X Estoque\"},\"width\":500,\"xaxis\":{\"anchor\":\"y\",\"domain\":[0.0,1.0],\"title\":{\"text\":\"Pre\\u00e7o do produto\"}},\"yaxis\":{\"anchor\":\"x\",\"domain\":[0.0,1.0],\"title\":{\"text\":\"Quantidade em estoque\"}}},                        {\"responsive\": true}                    ).then(function(){\n",
       "                            \n",
       "var gd = document.getElementById('19f8f038-c439-45e1-8a41-47641c07b8d1');\n",
       "var x = new MutationObserver(function (mutations, observer) {{\n",
       "        var display = window.getComputedStyle(gd).display;\n",
       "        if (!display || display === 'none') {{\n",
       "            console.log([gd, 'removed!']);\n",
       "            Plotly.purge(gd);\n",
       "            observer.disconnect();\n",
       "        }}\n",
       "}});\n",
       "\n",
       "// Listen for the removal of the full notebook cells\n",
       "var notebookContainer = gd.closest('#notebook-container');\n",
       "if (notebookContainer) {{\n",
       "    x.observe(notebookContainer, {childList: true});\n",
       "}}\n",
       "\n",
       "// Listen for the clearing of the current output cell\n",
       "var outputEl = gd.closest('.output');\n",
       "if (outputEl) {{\n",
       "    x.observe(outputEl, {childList: true});\n",
       "}}\n",
       "\n",
       "                        })                };                });            </script>        </div>"
      ]
     },
     "metadata": {},
     "output_type": "display_data"
    }
   ],
   "source": [
    "#pltagem de um gráfico de disperção relacionado preço e estoque\n",
    "fig_preco_estoque=px.scatter(produtos, x = \"preco\", y = \"estoque\", labels={\"preco\": \"Preço\", \"estoque\": \"Estoque\" }, height=500, width=500,)\n",
    "fig_preco_estoque.update_traces(marker=dict(size = 8,line = dict(width = 2)),selector=dict(mode = 'markers'))\n",
    "fig_preco_estoque.update_layout(title = 'Preço X Estoque')\n",
    "fig_preco_estoque.update_xaxes(title = 'Preço do produto')\n",
    "fig_preco_estoque.update_yaxes(title = 'Quantidade em estoque')\n",
    "fig_preco_estoque.show()"
   ]
  },
  {
   "cell_type": "code",
   "execution_count": 61,
   "id": "cbc359fe",
   "metadata": {},
   "outputs": [
    {
     "name": "stdout",
     "output_type": "stream",
     "text": [
      "Correlação dos dados (preço e estoque): -0.37864973583430267\n"
     ]
    }
   ],
   "source": [
    "# Calculando a correlação dos dados\n",
    "Correlação= produtos['preco'].corr(produtos['estoque'])\n",
    "print(f\"Correlação dos dados (preço e estoque):\", Correlação)"
   ]
  },
  {
   "cell_type": "markdown",
   "id": "ec5bdcd7",
   "metadata": {},
   "source": [
    "## Cliente mais ativo"
   ]
  },
  {
   "cell_type": "code",
   "execution_count": 62,
   "id": "da5b4787",
   "metadata": {},
   "outputs": [],
   "source": [
    "#criando uma tabela para analisar a quantidade de produtos comprados por id_cliente\n",
    "quantidade_comprada = venda_produtos_cliente[[\"id_clientes\", \"quantidade\"]].groupby(['id_clientes']).sum().sort_values('quantidade', ascending=False).reset_index().head(10)\n",
    "\n",
    "#renomenado a coluna quantidade para quantidade_total na tabela de quantidade_comprada\n",
    "quantidade_comprada.rename(columns={\"quantidade\": \"quantidade_total\"}, inplace = 1)\n",
    "\n",
    "#realizando a união das tabelas venda_produtos_cliente e quantidade_comprada em id_cliente\n",
    "venda_produtos_cliente_qt = pd.merge(venda_produtos_cliente, quantidade_comprada, on = 'id_clientes', how='right') \n",
    "\n",
    "#lista_id_cliente_maiores_quantidades = quantidade_comprada['id_cliente'].tolist()\n",
    "#clientes.iloc[lista_id_cliente_maiores_quantidades]"
   ]
  },
  {
   "cell_type": "code",
   "execution_count": 63,
   "id": "ff7d5af4",
   "metadata": {},
   "outputs": [],
   "source": [
    "#plotagem de um gráfica de barras\n",
    "#fig = px.bar(venda_produtos_cliente_qt, x=\"nome_cliente\", y=\"quantidade\", color=\"nome\", barmode = 'stack',\n",
    " #            labels={\"quantidade\": \"Quantidade de vendas\", \"nome_cliente\": \"Nome do cliente\", \"nome\":\"Produto\" }, height=700, width=700)\n",
    " \n",
    "#fig.show()"
   ]
  },
  {
   "cell_type": "code",
   "execution_count": 64,
   "id": "ba1bc3fc",
   "metadata": {},
   "outputs": [],
   "source": [
    "venda_produtos_cliente[\"total_preco\"]=venda_produtos_cliente[\"quantidade\"]*venda_produtos_cliente[\"preco\"]\n",
    "quantidade_comprada_preco = venda_produtos_cliente[[\"id_clientes\", \"total_preco\"]].groupby(['id_clientes']).sum().sort_values('total_preco', ascending=False).reset_index().head(10)\n",
    "quantidade_comprada_preco.rename(columns={\"total_preco\": \"total_mes\"}, inplace = 1)\n",
    "venda_produtos_cliente_pt=pd.merge(venda_produtos_cliente, quantidade_comprada_preco, on = 'id_clientes', how='right') "
   ]
  },
  {
   "cell_type": "code",
   "execution_count": 128,
   "id": "2452f2a3",
   "metadata": {},
   "outputs": [
    {
     "data": {
      "application/vnd.plotly.v1+json": {
       "config": {
        "plotlyServerURL": "https://plot.ly"
       },
       "data": [
        {
         "alignmentgroup": "True",
         "customdata": [
          [
           "banana",
           "2021-11-13",
           5.99
          ],
          [
           "morango",
           "2021-11-13",
           7.99
          ],
          [
           "morango",
           "2021-11-13",
           7.99
          ],
          [
           "arroz",
           "2021-11-13",
           4.31
          ],
          [
           "berinjela",
           "2021-11-13",
           11.99
          ],
          [
           "banana",
           "2021-11-12",
           5.99
          ],
          [
           "melancia",
           "2021-11-12",
           15.99
          ],
          [
           "arroz",
           "2021-11-12",
           4.31
          ],
          [
           "macarrão",
           "2021-11-02",
           2.48
          ],
          [
           "arroz",
           "2021-11-02",
           4.31
          ],
          [
           "abobrinha",
           "2021-11-02",
           3.49
          ],
          [
           "couve-flor",
           "2021-11-08",
           5.48
          ],
          [
           "alface",
           "2021-11-08",
           0.98
          ],
          [
           "feijão",
           "2021-11-08",
           8.45
          ],
          [
           "banana",
           "2021-11-30",
           5.99
          ],
          [
           "banana",
           "2021-11-13",
           5.99
          ],
          [
           "uva",
           "2021-11-13",
           7.47
          ],
          [
           "feijão",
           "2021-11-13",
           8.45
          ],
          [
           "feijão",
           "2021-11-13",
           8.45
          ],
          [
           "banana",
           "2021-11-13",
           5.99
          ],
          [
           "morango",
           "2021-11-13",
           7.99
          ],
          [
           "berinjela",
           "2021-11-13",
           11.99
          ],
          [
           "couve-flor",
           "2021-11-08",
           5.48
          ],
          [
           "batata",
           "2021-11-08",
           3.99
          ],
          [
           "morango",
           "2021-11-11",
           7.99
          ],
          [
           "abobrinha",
           "2021-11-02",
           3.49
          ],
          [
           "alface",
           "2021-11-02",
           0.98
          ],
          [
           "berinjela",
           "2021-11-02",
           11.99
          ],
          [
           "morango",
           "2021-11-21",
           7.99
          ],
          [
           "banana",
           "2021-11-05",
           5.99
          ],
          [
           "melancia",
           "2021-11-05",
           15.99
          ],
          [
           "uva",
           "2021-11-05",
           7.47
          ],
          [
           "abobrinha",
           "2021-11-05",
           3.49
          ],
          [
           "melancia",
           "2021-11-12",
           15.99
          ],
          [
           "morango",
           "2021-11-12",
           7.99
          ],
          [
           "alface",
           "2021-11-12",
           0.98
          ],
          [
           "batata",
           "2021-11-02",
           3.99
          ],
          [
           "banana",
           "2021-11-07",
           5.99
          ],
          [
           "batata",
           "2021-11-07",
           3.99
          ],
          [
           "arroz",
           "2021-11-07",
           4.31
          ],
          [
           "feijão",
           "2021-11-07",
           8.45
          ],
          [
           "feijão",
           "2021-11-07",
           8.45
          ],
          [
           "couve-flor",
           "2021-11-07",
           5.48
          ],
          [
           "berinjela",
           "2021-11-07",
           11.99
          ],
          [
           "morango",
           "2021-11-24",
           7.99
          ],
          [
           "banana",
           "2021-11-09",
           5.99
          ],
          [
           "couve-flor",
           "2021-11-09",
           5.48
          ],
          [
           "alface",
           "2021-11-09",
           0.98
          ],
          [
           "berinjela",
           "2021-11-09",
           11.99
          ],
          [
           "melancia",
           "2021-11-01",
           15.99
          ],
          [
           "uva",
           "2021-11-01",
           7.47
          ],
          [
           "arroz",
           "2021-11-01",
           4.31
          ],
          [
           "melancia",
           "2021-11-07",
           15.99
          ],
          [
           "macarrão",
           "2021-11-07",
           2.48
          ],
          [
           "macarrão",
           "2021-11-07",
           2.48
          ],
          [
           "alface",
           "2021-11-06",
           0.98
          ],
          [
           "macarrão",
           "2021-11-28",
           2.48
          ],
          [
           "arroz",
           "2021-11-29",
           4.31
          ],
          [
           "banana",
           "2021-11-13",
           5.99
          ],
          [
           "banana",
           "2021-11-13",
           5.99
          ],
          [
           "uva",
           "2021-11-13",
           7.47
          ],
          [
           "arroz",
           "2021-11-13",
           4.31
          ],
          [
           "couve-flor",
           "2021-11-12",
           5.48
          ],
          [
           "macarrão",
           "2021-11-12",
           2.48
          ],
          [
           "batata",
           "2021-11-12",
           3.99
          ],
          [
           "batata",
           "2021-11-12",
           3.99
          ],
          [
           "arroz",
           "2021-11-12",
           4.31
          ],
          [
           "feijão",
           "2021-11-12",
           8.45
          ],
          [
           "banana",
           "2021-11-12",
           5.99
          ],
          [
           "uva",
           "2021-11-12",
           7.47
          ],
          [
           "couve-flor",
           "2021-11-12",
           5.48
          ],
          [
           "alface",
           "2021-11-12",
           0.98
          ],
          [
           "alface",
           "2021-11-12",
           0.98
          ],
          [
           "melancia",
           "2021-11-06",
           15.99
          ],
          [
           "arroz",
           "2021-11-06",
           4.31
          ],
          [
           "abobrinha",
           "2021-11-06",
           3.49
          ],
          [
           "berinjela",
           "2021-11-06",
           11.99
          ],
          [
           "feijão",
           "2021-11-06",
           8.45
          ],
          [
           "couve-flor",
           "2021-11-02",
           5.48
          ],
          [
           "couve-flor",
           "2021-11-02",
           5.48
          ],
          [
           "arroz",
           "2021-11-02",
           4.31
          ],
          [
           "banana",
           "2021-11-02",
           5.99
          ],
          [
           "morango",
           "2021-11-02",
           7.99
          ],
          [
           "macarrão",
           "2021-11-02",
           2.48
          ],
          [
           "arroz",
           "2021-11-02",
           4.31
          ],
          [
           "abobrinha",
           "2021-11-02",
           3.49
          ],
          [
           "feijão",
           "2021-11-02",
           8.45
          ],
          [
           "melancia",
           "2021-11-14",
           15.99
          ],
          [
           "melancia",
           "2021-11-12",
           15.99
          ],
          [
           "batata",
           "2021-11-12",
           3.99
          ],
          [
           "abobrinha",
           "2021-11-12",
           3.49
          ],
          [
           "alface",
           "2021-11-12",
           0.98
          ],
          [
           "alface",
           "2021-11-12",
           0.98
          ],
          [
           "feijão",
           "2021-11-12",
           8.45
          ],
          [
           "macarrão",
           "2021-11-09",
           2.48
          ],
          [
           "arroz",
           "2021-11-09",
           4.31
          ],
          [
           "feijão",
           "2021-11-09",
           8.45
          ],
          [
           "uva",
           "2021-11-10",
           7.47
          ],
          [
           "arroz",
           "2021-11-02",
           4.31
          ],
          [
           "arroz",
           "2021-11-02",
           4.31
          ],
          [
           "feijão",
           "2021-11-02",
           8.45
          ],
          [
           "macarrão",
           "2021-11-09",
           2.48
          ],
          [
           "macarrão",
           "2021-11-09",
           2.48
          ],
          [
           "arroz",
           "2021-11-09",
           4.31
          ],
          [
           "berinjela",
           "2021-11-09",
           11.99
          ],
          [
           "berinjela",
           "2021-11-30",
           11.99
          ],
          [
           "melancia",
           "2021-11-01",
           15.99
          ],
          [
           "couve-flor",
           "2021-11-01",
           5.48
          ],
          [
           "arroz",
           "2021-11-01",
           4.31
          ],
          [
           "abobrinha",
           "2021-11-01",
           3.49
          ],
          [
           "uva",
           "2021-11-07",
           7.47
          ],
          [
           "couve-flor",
           "2021-11-01",
           5.48
          ],
          [
           "macarrão",
           "2021-11-01",
           2.48
          ],
          [
           "arroz",
           "2021-11-01",
           4.31
          ],
          [
           "abobrinha",
           "2021-11-01",
           3.49
          ],
          [
           "alface",
           "2021-11-01",
           0.98
          ]
         ],
         "hovertemplate": "Seção=Alimentos em Geral<br>Nome do cliente=%{x}<br>Total da compra do produto=%{y}<br>Produto=%{customdata[0]}<br>Data=%{customdata[1]}<br>Preço do produto=%{customdata[2]}<extra></extra>",
         "legendgroup": "Alimentos em Geral",
         "marker": {
          "color": "#636efa",
          "pattern": {
           "shape": ""
          }
         },
         "name": "Alimentos em Geral",
         "offsetgroup": "Alimentos em Geral",
         "orientation": "v",
         "showlegend": true,
         "textposition": "auto",
         "type": "bar",
         "x": [
          "Lucas Costa",
          "Lucas Costa",
          "Lucas Costa",
          "Lucas Costa",
          "Lucas Costa",
          "Lucas Costa",
          "Lucas Costa",
          "Lucas Costa",
          "Lucas Costa",
          "Lucas Costa",
          "Lucas Costa",
          "Lucas Costa",
          "Lucas Costa",
          "Lucas Costa",
          "Sofia Alves",
          "Sofia Alves",
          "Sofia Alves",
          "Sofia Alves",
          "Sofia Alves",
          "Sofia Alves",
          "Sofia Alves",
          "Sofia Alves",
          "Sofia Alves",
          "Sofia Alves",
          "Sofia Alves",
          "Sofia Alves",
          "Sofia Alves",
          "Sofia Alves",
          "Sofia Alves",
          "Benício Vieira",
          "Benício Vieira",
          "Benício Vieira",
          "Benício Vieira",
          "Benício Vieira",
          "Benício Vieira",
          "Benício Vieira",
          "Benício Vieira",
          "Sra. Alana Rocha",
          "Sra. Alana Rocha",
          "Sra. Alana Rocha",
          "Sra. Alana Rocha",
          "Sra. Alana Rocha",
          "Sra. Alana Rocha",
          "Sra. Alana Rocha",
          "Sra. Alana Rocha",
          "Francisco Cavalcanti",
          "Francisco Cavalcanti",
          "Francisco Cavalcanti",
          "Francisco Cavalcanti",
          "Francisco Cavalcanti",
          "Francisco Cavalcanti",
          "Francisco Cavalcanti",
          "Francisco Cavalcanti",
          "Francisco Cavalcanti",
          "Francisco Cavalcanti",
          "Francisco Cavalcanti",
          "Francisco Cavalcanti",
          "Francisco Cavalcanti",
          "Ana Clara Moraes",
          "Ana Clara Moraes",
          "Ana Clara Moraes",
          "Ana Clara Moraes",
          "Ana Clara Moraes",
          "Ana Clara Moraes",
          "Ana Clara Moraes",
          "Ana Clara Moraes",
          "Ana Clara Moraes",
          "Ana Clara Moraes",
          "Vitor das Neves",
          "Vitor das Neves",
          "Vitor das Neves",
          "Vitor das Neves",
          "Vitor das Neves",
          "Vitor das Neves",
          "Vitor das Neves",
          "Vitor das Neves",
          "Vitor das Neves",
          "Vitor das Neves",
          "Vitor das Neves",
          "Vitor das Neves",
          "Vitor das Neves",
          "Cauê Cardoso",
          "Cauê Cardoso",
          "Cauê Cardoso",
          "Cauê Cardoso",
          "Cauê Cardoso",
          "Cauê Cardoso",
          "Cauê Cardoso",
          "Cauê Cardoso",
          "Cauê Cardoso",
          "Cauê Cardoso",
          "Cauê Cardoso",
          "Cauê Cardoso",
          "Cauê Cardoso",
          "Cauê Cardoso",
          "Cauê Cardoso",
          "Cauê Cardoso",
          "Heitor Souza",
          "Heitor Souza",
          "Heitor Souza",
          "Heitor Souza",
          "Heitor Souza",
          "Heitor Souza",
          "Heitor Souza",
          "Heitor Souza",
          "Heitor Souza",
          "Emanuel Costela",
          "Emanuel Costela",
          "Emanuel Costela",
          "Emanuel Costela",
          "Emanuel Costela",
          "Emanuel Costela",
          "Emanuel Costela",
          "Emanuel Costela",
          "Emanuel Costela",
          "Emanuel Costela"
         ],
         "xaxis": "x",
         "y": [
          17.97,
          15.98,
          23.97,
          4.31,
          35.97,
          11.98,
          47.97,
          8.62,
          9.92,
          4.31,
          3.49,
          21.92,
          0.98,
          8.45,
          23.96,
          23.96,
          14.94,
          25.349999999999998,
          16.9,
          11.98,
          31.96,
          11.99,
          21.92,
          15.96,
          15.98,
          6.98,
          3.92,
          11.99,
          31.96,
          23.96,
          31.98,
          29.88,
          6.98,
          31.98,
          7.99,
          0.98,
          15.96,
          17.97,
          15.96,
          4.31,
          8.45,
          33.8,
          5.48,
          23.98,
          15.98,
          5.99,
          10.96,
          3.92,
          11.99,
          31.98,
          7.47,
          17.24,
          31.98,
          2.48,
          4.96,
          3.92,
          7.4399999999999995,
          17.24,
          11.98,
          17.97,
          14.94,
          4.31,
          16.44,
          2.48,
          7.98,
          3.99,
          4.31,
          33.8,
          23.96,
          29.88,
          10.96,
          1.96,
          2.94,
          47.97,
          4.31,
          3.49,
          23.98,
          16.9,
          21.92,
          21.92,
          17.24,
          11.98,
          23.97,
          4.96,
          8.62,
          6.98,
          25.349999999999998,
          15.99,
          63.96,
          11.97,
          3.49,
          1.96,
          2.94,
          8.45,
          9.92,
          12.93,
          8.45,
          22.41,
          17.24,
          12.93,
          8.45,
          4.96,
          2.48,
          4.31,
          23.98,
          35.97,
          31.98,
          5.48,
          4.31,
          6.98,
          14.94,
          21.92,
          7.4399999999999995,
          17.24,
          3.49,
          2.94
         ],
         "yaxis": "y"
        },
        {
         "alignmentgroup": "True",
         "customdata": [
          [
           "amaciante",
           "2021-11-13",
           6.7
          ],
          [
           "flanela",
           "2021-11-13",
           1.99
          ],
          [
           "água sanitária",
           "2021-11-13",
           11.98
          ],
          [
           "amaciante",
           "2021-11-12",
           6.7
          ],
          [
           "flanela",
           "2021-11-12",
           1.99
          ],
          [
           "rodo",
           "2021-11-02",
           5.99
          ],
          [
           "odorizador",
           "2021-11-27",
           23.99
          ],
          [
           "água sanitária",
           "2021-11-13",
           11.98
          ],
          [
           "água sanitária",
           "2021-11-13",
           11.98
          ],
          [
           "odorizador",
           "2021-11-13",
           23.99
          ],
          [
           "detergente",
           "2021-11-13",
           2.7
          ],
          [
           "sabonete",
           "2021-11-13",
           1.29
          ],
          [
           "detergente",
           "2021-11-08",
           2.7
          ],
          [
           "água sanitária",
           "2021-11-11",
           11.98
          ],
          [
           "rodo",
           "2021-11-02",
           5.99
          ],
          [
           "detergente",
           "2021-11-05",
           2.7
          ],
          [
           "sabão em pó",
           "2021-11-05",
           9.69
          ],
          [
           "água sanitária",
           "2021-11-12",
           11.98
          ],
          [
           "flanela",
           "2021-11-02",
           1.99
          ],
          [
           "flanela",
           "2021-11-02",
           1.99
          ],
          [
           "flanela",
           "2021-11-02",
           1.99
          ],
          [
           "sabão em pó",
           "2021-11-02",
           9.69
          ],
          [
           "sabonete",
           "2021-11-02",
           1.29
          ],
          [
           "rodo",
           "2021-11-15",
           5.99
          ],
          [
           "água sanitária",
           "2021-11-07",
           11.98
          ],
          [
           "detergente",
           "2021-11-09",
           2.7
          ],
          [
           "sabonete",
           "2021-11-09",
           1.29
          ],
          [
           "odorizador",
           "2021-11-09",
           23.99
          ],
          [
           "amaciante",
           "2021-11-01",
           6.7
          ],
          [
           "flanela",
           "2021-11-01",
           1.99
          ],
          [
           "flanela",
           "2021-11-01",
           1.99
          ],
          [
           "flanela",
           "2021-11-07",
           1.99
          ],
          [
           "flanela",
           "2021-11-07",
           1.99
          ],
          [
           "rodo",
           "2021-11-07",
           5.99
          ],
          [
           "odorizador",
           "2021-11-07",
           23.99
          ],
          [
           "flanela",
           "2021-11-06",
           1.99
          ],
          [
           "rodo",
           "2021-11-06",
           5.99
          ],
          [
           "sabonete",
           "2021-11-06",
           1.29
          ],
          [
           "flanela",
           "2021-11-13",
           1.99
          ],
          [
           "água sanitária",
           "2021-11-13",
           11.98
          ],
          [
           "água sanitária",
           "2021-11-13",
           11.98
          ],
          [
           "flanela",
           "2021-11-12",
           1.99
          ],
          [
           "detergente",
           "2021-11-12",
           2.7
          ],
          [
           "rodo",
           "2021-11-12",
           5.99
          ],
          [
           "sabão em pó",
           "2021-11-12",
           9.69
          ],
          [
           "amaciante",
           "2021-11-06",
           6.7
          ],
          [
           "sabão em pó",
           "2021-11-06",
           9.69
          ],
          [
           "sabão em pó",
           "2021-11-06",
           9.69
          ],
          [
           "sabão em pó",
           "2021-11-06",
           9.69
          ],
          [
           "água sanitária",
           "2021-11-06",
           11.98
          ],
          [
           "água sanitária",
           "2021-11-06",
           11.98
          ],
          [
           "rodo",
           "2021-11-02",
           5.99
          ],
          [
           "rodo",
           "2021-11-02",
           5.99
          ],
          [
           "rodo",
           "2021-11-02",
           5.99
          ],
          [
           "água sanitária",
           "2021-11-02",
           11.98
          ],
          [
           "odorizador",
           "2021-11-02",
           23.99
          ],
          [
           "amaciante",
           "2021-11-02",
           6.7
          ],
          [
           "água sanitária",
           "2021-11-02",
           11.98
          ],
          [
           "detergente",
           "2021-11-12",
           2.7
          ],
          [
           "odorizador",
           "2021-11-12",
           23.99
          ],
          [
           "detergente",
           "2021-11-10",
           2.7
          ],
          [
           "amaciante",
           "2021-11-10",
           6.7
          ],
          [
           "flanela",
           "2021-11-02",
           1.99
          ],
          [
           "água sanitária",
           "2021-11-02",
           11.98
          ],
          [
           "sabonete",
           "2021-11-09",
           1.29
          ],
          [
           "odorizador",
           "2021-11-09",
           23.99
          ],
          [
           "detergente",
           "2021-11-01",
           2.7
          ],
          [
           "sabão em pó",
           "2021-11-01",
           9.69
          ],
          [
           "detergente",
           "2021-11-07",
           2.7
          ],
          [
           "flanela",
           "2021-11-07",
           1.99
          ],
          [
           "água sanitária",
           "2021-11-07",
           11.98
          ]
         ],
         "hovertemplate": "Seção=Produtos de Limpeza<br>Nome do cliente=%{x}<br>Total da compra do produto=%{y}<br>Produto=%{customdata[0]}<br>Data=%{customdata[1]}<br>Preço do produto=%{customdata[2]}<extra></extra>",
         "legendgroup": "Produtos de Limpeza",
         "marker": {
          "color": "#EF553B",
          "pattern": {
           "shape": ""
          }
         },
         "name": "Produtos de Limpeza",
         "offsetgroup": "Produtos de Limpeza",
         "orientation": "v",
         "showlegend": true,
         "textposition": "auto",
         "type": "bar",
         "x": [
          "Lucas Costa",
          "Lucas Costa",
          "Lucas Costa",
          "Lucas Costa",
          "Lucas Costa",
          "Lucas Costa",
          "Lucas Costa",
          "Sofia Alves",
          "Sofia Alves",
          "Sofia Alves",
          "Sofia Alves",
          "Sofia Alves",
          "Sofia Alves",
          "Sofia Alves",
          "Sofia Alves",
          "Benício Vieira",
          "Benício Vieira",
          "Benício Vieira",
          "Benício Vieira",
          "Benício Vieira",
          "Benício Vieira",
          "Benício Vieira",
          "Benício Vieira",
          "Benício Vieira",
          "Sra. Alana Rocha",
          "Francisco Cavalcanti",
          "Francisco Cavalcanti",
          "Francisco Cavalcanti",
          "Francisco Cavalcanti",
          "Francisco Cavalcanti",
          "Francisco Cavalcanti",
          "Francisco Cavalcanti",
          "Francisco Cavalcanti",
          "Francisco Cavalcanti",
          "Francisco Cavalcanti",
          "Francisco Cavalcanti",
          "Francisco Cavalcanti",
          "Francisco Cavalcanti",
          "Ana Clara Moraes",
          "Ana Clara Moraes",
          "Ana Clara Moraes",
          "Ana Clara Moraes",
          "Vitor das Neves",
          "Vitor das Neves",
          "Vitor das Neves",
          "Vitor das Neves",
          "Vitor das Neves",
          "Vitor das Neves",
          "Vitor das Neves",
          "Vitor das Neves",
          "Vitor das Neves",
          "Vitor das Neves",
          "Vitor das Neves",
          "Vitor das Neves",
          "Vitor das Neves",
          "Vitor das Neves",
          "Cauê Cardoso",
          "Cauê Cardoso",
          "Cauê Cardoso",
          "Cauê Cardoso",
          "Heitor Souza",
          "Heitor Souza",
          "Heitor Souza",
          "Heitor Souza",
          "Heitor Souza",
          "Heitor Souza",
          "Emanuel Costela",
          "Emanuel Costela",
          "Emanuel Costela",
          "Emanuel Costela",
          "Emanuel Costela"
         ],
         "xaxis": "x",
         "y": [
          6.7,
          1.99,
          35.94,
          20.1,
          1.99,
          23.96,
          95.96,
          11.98,
          35.94,
          95.96,
          2.7,
          1.29,
          8.100000000000001,
          47.92,
          17.97,
          5.4,
          38.76,
          11.98,
          7.96,
          5.97,
          1.99,
          9.69,
          2.58,
          11.98,
          11.98,
          2.7,
          5.16,
          71.97,
          13.4,
          7.96,
          5.97,
          1.99,
          1.99,
          11.98,
          71.97,
          5.97,
          11.98,
          1.29,
          3.98,
          47.92,
          11.98,
          3.98,
          8.100000000000001,
          17.97,
          29.07,
          26.8,
          19.38,
          38.76,
          38.76,
          47.92,
          11.98,
          23.96,
          5.99,
          23.96,
          23.96,
          95.96,
          13.4,
          47.92,
          8.100000000000001,
          47.98,
          8.100000000000001,
          20.1,
          7.96,
          23.96,
          1.29,
          23.99,
          10.8,
          9.69,
          5.4,
          1.99,
          23.96
         ],
         "yaxis": "y"
        },
        {
         "alignmentgroup": "True",
         "customdata": [
          [
           "torta",
           "2021-11-13",
           45
          ],
          [
           "bolo",
           "2021-11-13",
           35
          ],
          [
           "sanduíche",
           "2021-11-13",
           12.99
          ],
          [
           "sanduíche",
           "2021-11-13",
           12.99
          ],
          [
           "pão de forma",
           "2021-11-13",
           6.99
          ],
          [
           "pão de queijo",
           "2021-11-13",
           23.99
          ],
          [
           "torta",
           "2021-11-12",
           45
          ],
          [
           "pastel",
           "2021-11-12",
           4.99
          ],
          [
           "bolo",
           "2021-11-12",
           35
          ],
          [
           "bolo",
           "2021-11-12",
           35
          ],
          [
           "sanduíche",
           "2021-11-12",
           12.99
          ],
          [
           "sanduíche",
           "2021-11-12",
           12.99
          ],
          [
           "bolo",
           "2021-11-08",
           35
          ],
          [
           "pão de queijo",
           "2021-11-08",
           23.99
          ],
          [
           "pão de queijo",
           "2021-11-08",
           23.99
          ],
          [
           "pão francês",
           "2021-11-08",
           10.99
          ],
          [
           "pão de queijo",
           "2021-11-13",
           23.99
          ],
          [
           "pão de queijo",
           "2021-11-13",
           23.99
          ],
          [
           "torta",
           "2021-11-13",
           45
          ],
          [
           "torta",
           "2021-11-13",
           45
          ],
          [
           "bolo",
           "2021-11-13",
           35
          ],
          [
           "sanduíche",
           "2021-11-13",
           12.99
          ],
          [
           "pão de forma",
           "2021-11-13",
           6.99
          ],
          [
           "pastel",
           "2021-11-08",
           4.99
          ],
          [
           "pão de forma",
           "2021-11-08",
           6.99
          ],
          [
           "torta",
           "2021-11-11",
           45
          ],
          [
           "pastel",
           "2021-11-11",
           4.99
          ],
          [
           "pastel",
           "2021-11-11",
           4.99
          ],
          [
           "sanduíche",
           "2021-11-11",
           12.99
          ],
          [
           "pão francês",
           "2021-11-11",
           10.99
          ],
          [
           "sonho",
           "2021-11-02",
           3.49
          ],
          [
           "torta",
           "2021-11-12",
           45
          ],
          [
           "torta",
           "2021-11-12",
           45
          ],
          [
           "pão francês",
           "2021-11-12",
           10.99
          ],
          [
           "torta",
           "2021-11-02",
           45
          ],
          [
           "pão de forma",
           "2021-11-02",
           6.99
          ],
          [
           "pão de queijo",
           "2021-11-02",
           23.99
          ],
          [
           "pão de queijo",
           "2021-11-18",
           23.99
          ],
          [
           "torta",
           "2021-11-07",
           45
          ],
          [
           "pastel",
           "2021-11-07",
           4.99
          ],
          [
           "bolo",
           "2021-11-07",
           35
          ],
          [
           "pão de forma",
           "2021-11-07",
           6.99
          ],
          [
           "torta",
           "2021-11-07",
           45
          ],
          [
           "bolo",
           "2021-11-07",
           35
          ],
          [
           "pão de forma",
           "2021-11-07",
           6.99
          ],
          [
           "sonho",
           "2021-11-07",
           3.49
          ],
          [
           "torta",
           "2021-11-09",
           45
          ],
          [
           "sanduíche",
           "2021-11-09",
           12.99
          ],
          [
           "pão de forma",
           "2021-11-09",
           6.99
          ],
          [
           "pão francês",
           "2021-11-09",
           10.99
          ],
          [
           "pastel",
           "2021-11-01",
           4.99
          ],
          [
           "pão de forma",
           "2021-11-01",
           6.99
          ],
          [
           "pão de queijo",
           "2021-11-01",
           23.99
          ],
          [
           "pastel",
           "2021-11-07",
           4.99
          ],
          [
           "pastel",
           "2021-11-07",
           4.99
          ],
          [
           "pão de queijo",
           "2021-11-07",
           23.99
          ],
          [
           "sonho",
           "2021-11-07",
           3.49
          ],
          [
           "sanduíche",
           "2021-11-06",
           12.99
          ],
          [
           "sonho",
           "2021-11-06",
           3.49
          ],
          [
           "torta",
           "2021-11-13",
           45
          ],
          [
           "sanduíche",
           "2021-11-13",
           12.99
          ],
          [
           "pão de queijo",
           "2021-11-13",
           23.99
          ],
          [
           "bolo",
           "2021-11-12",
           35
          ],
          [
           "pão de forma",
           "2021-11-12",
           6.99
          ],
          [
           "bolo",
           "2021-11-12",
           35
          ],
          [
           "bolo",
           "2021-11-06",
           35
          ],
          [
           "sonho",
           "2021-11-06",
           3.49
          ],
          [
           "pão francês",
           "2021-11-06",
           10.99
          ],
          [
           "bolo",
           "2021-11-02",
           35
          ],
          [
           "bolo",
           "2021-11-02",
           35
          ],
          [
           "sonho",
           "2021-11-02",
           3.49
          ],
          [
           "pastel",
           "2021-11-12",
           4.99
          ],
          [
           "bolo",
           "2021-11-12",
           35
          ],
          [
           "bolo",
           "2021-11-12",
           35
          ],
          [
           "sonho",
           "2021-11-12",
           3.49
          ],
          [
           "pão de forma",
           "2021-11-09",
           6.99
          ],
          [
           "pão francês",
           "2021-11-09",
           10.99
          ],
          [
           "pastel",
           "2021-11-10",
           4.99
          ],
          [
           "sanduíche",
           "2021-11-10",
           12.99
          ],
          [
           "pão de forma",
           "2021-11-10",
           6.99
          ],
          [
           "bolo",
           "2021-11-02",
           35
          ],
          [
           "bolo",
           "2021-11-02",
           35
          ],
          [
           "pão de queijo",
           "2021-11-02",
           23.99
          ],
          [
           "pão francês",
           "2021-11-02",
           10.99
          ],
          [
           "sanduíche",
           "2021-11-22",
           12.99
          ],
          [
           "pão de forma",
           "2021-11-09",
           6.99
          ],
          [
           "pão de forma",
           "2021-11-09",
           6.99
          ],
          [
           "pão de queijo",
           "2021-11-09",
           23.99
          ],
          [
           "sonho",
           "2021-11-09",
           3.49
          ],
          [
           "torta",
           "2021-11-01",
           45
          ],
          [
           "bolo",
           "2021-11-01",
           35
          ],
          [
           "pão de queijo",
           "2021-11-01",
           23.99
          ],
          [
           "pão francês",
           "2021-11-01",
           10.99
          ]
         ],
         "hovertemplate": "Seção=Padaria<br>Nome do cliente=%{x}<br>Total da compra do produto=%{y}<br>Produto=%{customdata[0]}<br>Data=%{customdata[1]}<br>Preço do produto=%{customdata[2]}<extra></extra>",
         "legendgroup": "Padaria",
         "marker": {
          "color": "#00cc96",
          "pattern": {
           "shape": ""
          }
         },
         "name": "Padaria",
         "offsetgroup": "Padaria",
         "orientation": "v",
         "showlegend": true,
         "textposition": "auto",
         "type": "bar",
         "x": [
          "Lucas Costa",
          "Lucas Costa",
          "Lucas Costa",
          "Lucas Costa",
          "Lucas Costa",
          "Lucas Costa",
          "Lucas Costa",
          "Lucas Costa",
          "Lucas Costa",
          "Lucas Costa",
          "Lucas Costa",
          "Lucas Costa",
          "Lucas Costa",
          "Lucas Costa",
          "Lucas Costa",
          "Lucas Costa",
          "Sofia Alves",
          "Sofia Alves",
          "Sofia Alves",
          "Sofia Alves",
          "Sofia Alves",
          "Sofia Alves",
          "Sofia Alves",
          "Sofia Alves",
          "Sofia Alves",
          "Sofia Alves",
          "Sofia Alves",
          "Sofia Alves",
          "Sofia Alves",
          "Sofia Alves",
          "Sofia Alves",
          "Benício Vieira",
          "Benício Vieira",
          "Benício Vieira",
          "Benício Vieira",
          "Benício Vieira",
          "Benício Vieira",
          "Benício Vieira",
          "Sra. Alana Rocha",
          "Sra. Alana Rocha",
          "Sra. Alana Rocha",
          "Sra. Alana Rocha",
          "Sra. Alana Rocha",
          "Sra. Alana Rocha",
          "Sra. Alana Rocha",
          "Sra. Alana Rocha",
          "Francisco Cavalcanti",
          "Francisco Cavalcanti",
          "Francisco Cavalcanti",
          "Francisco Cavalcanti",
          "Francisco Cavalcanti",
          "Francisco Cavalcanti",
          "Francisco Cavalcanti",
          "Francisco Cavalcanti",
          "Francisco Cavalcanti",
          "Francisco Cavalcanti",
          "Francisco Cavalcanti",
          "Francisco Cavalcanti",
          "Francisco Cavalcanti",
          "Ana Clara Moraes",
          "Ana Clara Moraes",
          "Ana Clara Moraes",
          "Ana Clara Moraes",
          "Ana Clara Moraes",
          "Vitor das Neves",
          "Vitor das Neves",
          "Vitor das Neves",
          "Vitor das Neves",
          "Vitor das Neves",
          "Vitor das Neves",
          "Cauê Cardoso",
          "Cauê Cardoso",
          "Cauê Cardoso",
          "Cauê Cardoso",
          "Cauê Cardoso",
          "Cauê Cardoso",
          "Cauê Cardoso",
          "Heitor Souza",
          "Heitor Souza",
          "Heitor Souza",
          "Heitor Souza",
          "Heitor Souza",
          "Heitor Souza",
          "Heitor Souza",
          "Heitor Souza",
          "Heitor Souza",
          "Heitor Souza",
          "Heitor Souza",
          "Heitor Souza",
          "Emanuel Costela",
          "Emanuel Costela",
          "Emanuel Costela",
          "Emanuel Costela"
         ],
         "xaxis": "x",
         "y": [
          90,
          35,
          12.99,
          25.98,
          6.99,
          23.99,
          180,
          19.96,
          70,
          70,
          25.98,
          51.96,
          70,
          71.97,
          71.97,
          32.97,
          95.96,
          71.97,
          135,
          135,
          105,
          38.97,
          20.97,
          4.99,
          20.97,
          135,
          9.98,
          4.99,
          12.99,
          10.99,
          10.47,
          135,
          135,
          43.96,
          135,
          20.97,
          95.96,
          95.96,
          90,
          4.99,
          70,
          27.96,
          90,
          70,
          27.96,
          10.47,
          180,
          38.97,
          6.99,
          43.96,
          19.96,
          6.99,
          23.99,
          9.98,
          4.99,
          23.99,
          13.96,
          51.96,
          3.49,
          180,
          51.96,
          71.97,
          70,
          13.98,
          70,
          35,
          10.47,
          43.96,
          140,
          70,
          10.47,
          9.98,
          35,
          70,
          13.96,
          20.97,
          10.99,
          19.96,
          51.96,
          13.98,
          35,
          35,
          95.96,
          32.97,
          51.96,
          6.99,
          13.98,
          71.97,
          6.98,
          135,
          105,
          95.96,
          21.98
         ],
         "yaxis": "y"
        },
        {
         "alignmentgroup": "True",
         "customdata": [
          [
           "picanha",
           "2021-11-13",
           70.89
          ],
          [
           "bisteca suína",
           "2021-11-13",
           22.79
          ],
          [
           "bisteca suína",
           "2021-11-13",
           22.79
          ],
          [
           "paleta suína",
           "2021-11-13",
           23.99
          ],
          [
           "peito de frango",
           "2021-11-12",
           16.49
          ],
          [
           "carré de cordeiro",
           "2021-11-12",
           172
          ],
          [
           "bisteca suína",
           "2021-11-12",
           22.79
          ],
          [
           "alcatra",
           "2021-11-12",
           31.99
          ],
          [
           "alcatra",
           "2021-11-12",
           31.99
          ],
          [
           "paleta suína",
           "2021-11-12",
           23.99
          ],
          [
           "peito de frango",
           "2021-11-02",
           16.49
          ],
          [
           "peito de frango",
           "2021-11-02",
           16.49
          ],
          [
           "carré de cordeiro",
           "2021-11-02",
           172
          ],
          [
           "bisteca suína",
           "2021-11-02",
           22.79
          ],
          [
           "bisteca suína",
           "2021-11-02",
           22.79
          ],
          [
           "peito de frango",
           "2021-11-08",
           16.49
          ],
          [
           "bisteca suína",
           "2021-11-13",
           22.79
          ],
          [
           "bisteca suína",
           "2021-11-13",
           22.79
          ],
          [
           "maminha",
           "2021-11-13",
           42.99
          ],
          [
           "paleta suína",
           "2021-11-08",
           23.99
          ],
          [
           "picanha",
           "2021-11-11",
           70.89
          ],
          [
           "maminha",
           "2021-11-11",
           42.99
          ],
          [
           "maminha",
           "2021-11-11",
           42.99
          ],
          [
           "maminha",
           "2021-11-11",
           42.99
          ],
          [
           "costela",
           "2021-11-11",
           20.99
          ],
          [
           "costela",
           "2021-11-11",
           20.99
          ],
          [
           "costela",
           "2021-11-11",
           20.99
          ],
          [
           "paleta suína",
           "2021-11-11",
           23.99
          ],
          [
           "peito de frango",
           "2021-11-02",
           16.49
          ],
          [
           "picanha",
           "2021-11-02",
           70.89
          ],
          [
           "maminha",
           "2021-11-02",
           42.99
          ],
          [
           "costela",
           "2021-11-02",
           20.99
          ],
          [
           "bisteca suína",
           "2021-11-02",
           22.79
          ],
          [
           "peito de frango",
           "2021-11-05",
           16.49
          ],
          [
           "costela",
           "2021-11-05",
           20.99
          ],
          [
           "bisteca suína",
           "2021-11-05",
           22.79
          ],
          [
           "bisteca suína",
           "2021-11-05",
           22.79
          ],
          [
           "alcatra",
           "2021-11-05",
           31.99
          ],
          [
           "paleta suína",
           "2021-11-05",
           23.99
          ],
          [
           "paleta suína",
           "2021-11-05",
           23.99
          ],
          [
           "carré de cordeiro",
           "2021-11-12",
           172
          ],
          [
           "bisteca suína",
           "2021-11-12",
           22.79
          ],
          [
           "carré de cordeiro",
           "2021-11-02",
           172
          ],
          [
           "maminha",
           "2021-11-02",
           42.99
          ],
          [
           "maminha",
           "2021-11-02",
           42.99
          ],
          [
           "costela",
           "2021-11-02",
           20.99
          ],
          [
           "peito de frango",
           "2021-11-07",
           16.49
          ],
          [
           "carré de cordeiro",
           "2021-11-07",
           172
          ],
          [
           "carré de cordeiro",
           "2021-11-07",
           172
          ],
          [
           "costela",
           "2021-11-07",
           20.99
          ],
          [
           "costela",
           "2021-11-07",
           20.99
          ],
          [
           "costela",
           "2021-11-07",
           20.99
          ],
          [
           "paleta suína",
           "2021-11-07",
           23.99
          ],
          [
           "maminha",
           "2021-11-07",
           42.99
          ],
          [
           "costela",
           "2021-11-07",
           20.99
          ],
          [
           "bisteca suína",
           "2021-11-07",
           22.79
          ],
          [
           "alcatra",
           "2021-11-07",
           31.99
          ],
          [
           "peito de frango",
           "2021-11-09",
           16.49
          ],
          [
           "peito de frango",
           "2021-11-09",
           16.49
          ],
          [
           "maminha",
           "2021-11-09",
           42.99
          ],
          [
           "bisteca suína",
           "2021-11-09",
           22.79
          ],
          [
           "paleta suína",
           "2021-11-09",
           23.99
          ],
          [
           "peito de frango",
           "2021-11-07",
           16.49
          ],
          [
           "picanha",
           "2021-11-07",
           70.89
          ],
          [
           "picanha",
           "2021-11-07",
           70.89
          ],
          [
           "carré de cordeiro",
           "2021-11-07",
           172
          ],
          [
           "maminha",
           "2021-11-07",
           42.99
          ],
          [
           "costela",
           "2021-11-07",
           20.99
          ],
          [
           "costela",
           "2021-11-07",
           20.99
          ],
          [
           "maminha",
           "2021-11-06",
           42.99
          ],
          [
           "bisteca suína",
           "2021-11-06",
           22.79
          ],
          [
           "picanha",
           "2021-11-17",
           70.89
          ],
          [
           "picanha",
           "2021-11-13",
           70.89
          ],
          [
           "bisteca suína",
           "2021-11-13",
           22.79
          ],
          [
           "carré de cordeiro",
           "2021-11-12",
           172
          ],
          [
           "carré de cordeiro",
           "2021-11-12",
           172
          ],
          [
           "peito de frango",
           "2021-11-12",
           16.49
          ],
          [
           "carré de cordeiro",
           "2021-11-12",
           172
          ],
          [
           "bisteca suína",
           "2021-11-12",
           22.79
          ],
          [
           "bisteca suína",
           "2021-11-02",
           22.79
          ],
          [
           "paleta suína",
           "2021-11-02",
           23.99
          ],
          [
           "peito de frango",
           "2021-11-12",
           16.49
          ],
          [
           "picanha",
           "2021-11-12",
           70.89
          ],
          [
           "maminha",
           "2021-11-12",
           42.99
          ],
          [
           "paleta suína",
           "2021-11-12",
           23.99
          ],
          [
           "picanha",
           "2021-11-09",
           70.89
          ],
          [
           "carré de cordeiro",
           "2021-11-09",
           172
          ],
          [
           "bisteca suína",
           "2021-11-10",
           22.79
          ],
          [
           "picanha",
           "2021-11-02",
           70.89
          ],
          [
           "carré de cordeiro",
           "2021-11-02",
           172
          ],
          [
           "costela",
           "2021-11-02",
           20.99
          ],
          [
           "bisteca suína",
           "2021-11-02",
           22.79
          ],
          [
           "alcatra",
           "2021-11-02",
           31.99
          ],
          [
           "alcatra",
           "2021-11-02",
           31.99
          ],
          [
           "alcatra",
           "2021-11-02",
           31.99
          ],
          [
           "paleta suína",
           "2021-11-02",
           23.99
          ],
          [
           "costela",
           "2021-11-09",
           20.99
          ],
          [
           "bisteca suína",
           "2021-11-09",
           22.79
          ],
          [
           "costela",
           "2021-11-01",
           20.99
          ],
          [
           "alcatra",
           "2021-11-01",
           31.99
          ],
          [
           "alcatra",
           "2021-11-01",
           31.99
          ],
          [
           "alcatra",
           "2021-11-07",
           31.99
          ],
          [
           "carré de cordeiro",
           "2021-11-01",
           172
          ],
          [
           "costela",
           "2021-11-01",
           20.99
          ],
          [
           "costela",
           "2021-11-01",
           20.99
          ],
          [
           "paleta suína",
           "2021-11-01",
           23.99
          ],
          [
           "paleta suína",
           "2021-11-01",
           23.99
          ],
          [
           "paleta suína",
           "2021-11-27",
           23.99
          ]
         ],
         "hovertemplate": "Seção=Açougue<br>Nome do cliente=%{x}<br>Total da compra do produto=%{y}<br>Produto=%{customdata[0]}<br>Data=%{customdata[1]}<br>Preço do produto=%{customdata[2]}<extra></extra>",
         "legendgroup": "Açougue",
         "marker": {
          "color": "#ab63fa",
          "pattern": {
           "shape": ""
          }
         },
         "name": "Açougue",
         "offsetgroup": "Açougue",
         "orientation": "v",
         "showlegend": true,
         "textposition": "auto",
         "type": "bar",
         "x": [
          "Lucas Costa",
          "Lucas Costa",
          "Lucas Costa",
          "Lucas Costa",
          "Lucas Costa",
          "Lucas Costa",
          "Lucas Costa",
          "Lucas Costa",
          "Lucas Costa",
          "Lucas Costa",
          "Lucas Costa",
          "Lucas Costa",
          "Lucas Costa",
          "Lucas Costa",
          "Lucas Costa",
          "Lucas Costa",
          "Sofia Alves",
          "Sofia Alves",
          "Sofia Alves",
          "Sofia Alves",
          "Sofia Alves",
          "Sofia Alves",
          "Sofia Alves",
          "Sofia Alves",
          "Sofia Alves",
          "Sofia Alves",
          "Sofia Alves",
          "Sofia Alves",
          "Sofia Alves",
          "Sofia Alves",
          "Sofia Alves",
          "Sofia Alves",
          "Sofia Alves",
          "Benício Vieira",
          "Benício Vieira",
          "Benício Vieira",
          "Benício Vieira",
          "Benício Vieira",
          "Benício Vieira",
          "Benício Vieira",
          "Benício Vieira",
          "Benício Vieira",
          "Benício Vieira",
          "Benício Vieira",
          "Benício Vieira",
          "Benício Vieira",
          "Sra. Alana Rocha",
          "Sra. Alana Rocha",
          "Sra. Alana Rocha",
          "Sra. Alana Rocha",
          "Sra. Alana Rocha",
          "Sra. Alana Rocha",
          "Sra. Alana Rocha",
          "Sra. Alana Rocha",
          "Sra. Alana Rocha",
          "Sra. Alana Rocha",
          "Sra. Alana Rocha",
          "Francisco Cavalcanti",
          "Francisco Cavalcanti",
          "Francisco Cavalcanti",
          "Francisco Cavalcanti",
          "Francisco Cavalcanti",
          "Francisco Cavalcanti",
          "Francisco Cavalcanti",
          "Francisco Cavalcanti",
          "Francisco Cavalcanti",
          "Francisco Cavalcanti",
          "Francisco Cavalcanti",
          "Francisco Cavalcanti",
          "Francisco Cavalcanti",
          "Francisco Cavalcanti",
          "Francisco Cavalcanti",
          "Ana Clara Moraes",
          "Ana Clara Moraes",
          "Ana Clara Moraes",
          "Ana Clara Moraes",
          "Vitor das Neves",
          "Vitor das Neves",
          "Vitor das Neves",
          "Vitor das Neves",
          "Cauê Cardoso",
          "Cauê Cardoso",
          "Cauê Cardoso",
          "Cauê Cardoso",
          "Cauê Cardoso",
          "Cauê Cardoso",
          "Cauê Cardoso",
          "Heitor Souza",
          "Heitor Souza",
          "Heitor Souza",
          "Heitor Souza",
          "Heitor Souza",
          "Heitor Souza",
          "Heitor Souza",
          "Heitor Souza",
          "Heitor Souza",
          "Heitor Souza",
          "Heitor Souza",
          "Emanuel Costela",
          "Emanuel Costela",
          "Emanuel Costela",
          "Emanuel Costela",
          "Emanuel Costela",
          "Emanuel Costela",
          "Emanuel Costela",
          "Emanuel Costela",
          "Emanuel Costela",
          "Emanuel Costela"
         ],
         "xaxis": "x",
         "y": [
          141.78,
          22.79,
          68.37,
          47.98,
          16.49,
          172,
          68.37,
          127.96,
          127.96,
          23.99,
          65.96,
          16.49,
          344,
          68.37,
          91.16,
          16.49,
          91.16,
          91.16,
          128.97,
          23.99,
          70.89,
          171.96,
          42.99,
          128.97,
          41.98,
          83.96,
          41.98,
          23.99,
          16.49,
          70.89,
          128.97,
          20.99,
          45.58,
          16.49,
          41.98,
          91.16,
          68.37,
          63.98,
          95.96,
          23.99,
          172,
          68.37,
          516,
          171.96,
          171.96,
          41.98,
          16.49,
          688,
          516,
          62.97,
          62.97,
          41.98,
          23.99,
          128.97,
          83.96,
          68.37,
          95.97,
          32.98,
          16.49,
          85.98,
          68.37,
          71.97,
          16.49,
          141.78,
          212.67000000000002,
          516,
          85.98,
          20.99,
          41.98,
          42.99,
          68.37,
          70.89,
          70.89,
          91.16,
          688,
          688,
          49.47,
          688,
          91.16,
          68.37,
          23.99,
          65.96,
          70.89,
          85.98,
          47.98,
          283.56,
          688,
          68.37,
          70.89,
          516,
          20.99,
          91.16,
          95.97,
          63.98,
          63.98,
          23.99,
          20.99,
          22.79,
          41.98,
          63.98,
          63.98,
          31.99,
          688,
          83.96,
          41.98,
          71.97,
          23.99,
          71.97
         ],
         "yaxis": "y"
        }
       ],
       "layout": {
        "barmode": "stack",
        "legend": {
         "title": {
          "text": "Seção"
         },
         "tracegroupgap": 0
        },
        "margin": {
         "t": 60
        },
        "template": {
         "data": {
          "bar": [
           {
            "error_x": {
             "color": "#2a3f5f"
            },
            "error_y": {
             "color": "#2a3f5f"
            },
            "marker": {
             "line": {
              "color": "#E5ECF6",
              "width": 0.5
             },
             "pattern": {
              "fillmode": "overlay",
              "size": 10,
              "solidity": 0.2
             }
            },
            "type": "bar"
           }
          ],
          "barpolar": [
           {
            "marker": {
             "line": {
              "color": "#E5ECF6",
              "width": 0.5
             },
             "pattern": {
              "fillmode": "overlay",
              "size": 10,
              "solidity": 0.2
             }
            },
            "type": "barpolar"
           }
          ],
          "carpet": [
           {
            "aaxis": {
             "endlinecolor": "#2a3f5f",
             "gridcolor": "white",
             "linecolor": "white",
             "minorgridcolor": "white",
             "startlinecolor": "#2a3f5f"
            },
            "baxis": {
             "endlinecolor": "#2a3f5f",
             "gridcolor": "white",
             "linecolor": "white",
             "minorgridcolor": "white",
             "startlinecolor": "#2a3f5f"
            },
            "type": "carpet"
           }
          ],
          "choropleth": [
           {
            "colorbar": {
             "outlinewidth": 0,
             "ticks": ""
            },
            "type": "choropleth"
           }
          ],
          "contour": [
           {
            "colorbar": {
             "outlinewidth": 0,
             "ticks": ""
            },
            "colorscale": [
             [
              0,
              "#0d0887"
             ],
             [
              0.1111111111111111,
              "#46039f"
             ],
             [
              0.2222222222222222,
              "#7201a8"
             ],
             [
              0.3333333333333333,
              "#9c179e"
             ],
             [
              0.4444444444444444,
              "#bd3786"
             ],
             [
              0.5555555555555556,
              "#d8576b"
             ],
             [
              0.6666666666666666,
              "#ed7953"
             ],
             [
              0.7777777777777778,
              "#fb9f3a"
             ],
             [
              0.8888888888888888,
              "#fdca26"
             ],
             [
              1,
              "#f0f921"
             ]
            ],
            "type": "contour"
           }
          ],
          "contourcarpet": [
           {
            "colorbar": {
             "outlinewidth": 0,
             "ticks": ""
            },
            "type": "contourcarpet"
           }
          ],
          "heatmap": [
           {
            "colorbar": {
             "outlinewidth": 0,
             "ticks": ""
            },
            "colorscale": [
             [
              0,
              "#0d0887"
             ],
             [
              0.1111111111111111,
              "#46039f"
             ],
             [
              0.2222222222222222,
              "#7201a8"
             ],
             [
              0.3333333333333333,
              "#9c179e"
             ],
             [
              0.4444444444444444,
              "#bd3786"
             ],
             [
              0.5555555555555556,
              "#d8576b"
             ],
             [
              0.6666666666666666,
              "#ed7953"
             ],
             [
              0.7777777777777778,
              "#fb9f3a"
             ],
             [
              0.8888888888888888,
              "#fdca26"
             ],
             [
              1,
              "#f0f921"
             ]
            ],
            "type": "heatmap"
           }
          ],
          "heatmapgl": [
           {
            "colorbar": {
             "outlinewidth": 0,
             "ticks": ""
            },
            "colorscale": [
             [
              0,
              "#0d0887"
             ],
             [
              0.1111111111111111,
              "#46039f"
             ],
             [
              0.2222222222222222,
              "#7201a8"
             ],
             [
              0.3333333333333333,
              "#9c179e"
             ],
             [
              0.4444444444444444,
              "#bd3786"
             ],
             [
              0.5555555555555556,
              "#d8576b"
             ],
             [
              0.6666666666666666,
              "#ed7953"
             ],
             [
              0.7777777777777778,
              "#fb9f3a"
             ],
             [
              0.8888888888888888,
              "#fdca26"
             ],
             [
              1,
              "#f0f921"
             ]
            ],
            "type": "heatmapgl"
           }
          ],
          "histogram": [
           {
            "marker": {
             "pattern": {
              "fillmode": "overlay",
              "size": 10,
              "solidity": 0.2
             }
            },
            "type": "histogram"
           }
          ],
          "histogram2d": [
           {
            "colorbar": {
             "outlinewidth": 0,
             "ticks": ""
            },
            "colorscale": [
             [
              0,
              "#0d0887"
             ],
             [
              0.1111111111111111,
              "#46039f"
             ],
             [
              0.2222222222222222,
              "#7201a8"
             ],
             [
              0.3333333333333333,
              "#9c179e"
             ],
             [
              0.4444444444444444,
              "#bd3786"
             ],
             [
              0.5555555555555556,
              "#d8576b"
             ],
             [
              0.6666666666666666,
              "#ed7953"
             ],
             [
              0.7777777777777778,
              "#fb9f3a"
             ],
             [
              0.8888888888888888,
              "#fdca26"
             ],
             [
              1,
              "#f0f921"
             ]
            ],
            "type": "histogram2d"
           }
          ],
          "histogram2dcontour": [
           {
            "colorbar": {
             "outlinewidth": 0,
             "ticks": ""
            },
            "colorscale": [
             [
              0,
              "#0d0887"
             ],
             [
              0.1111111111111111,
              "#46039f"
             ],
             [
              0.2222222222222222,
              "#7201a8"
             ],
             [
              0.3333333333333333,
              "#9c179e"
             ],
             [
              0.4444444444444444,
              "#bd3786"
             ],
             [
              0.5555555555555556,
              "#d8576b"
             ],
             [
              0.6666666666666666,
              "#ed7953"
             ],
             [
              0.7777777777777778,
              "#fb9f3a"
             ],
             [
              0.8888888888888888,
              "#fdca26"
             ],
             [
              1,
              "#f0f921"
             ]
            ],
            "type": "histogram2dcontour"
           }
          ],
          "mesh3d": [
           {
            "colorbar": {
             "outlinewidth": 0,
             "ticks": ""
            },
            "type": "mesh3d"
           }
          ],
          "parcoords": [
           {
            "line": {
             "colorbar": {
              "outlinewidth": 0,
              "ticks": ""
             }
            },
            "type": "parcoords"
           }
          ],
          "pie": [
           {
            "automargin": true,
            "type": "pie"
           }
          ],
          "scatter": [
           {
            "marker": {
             "colorbar": {
              "outlinewidth": 0,
              "ticks": ""
             }
            },
            "type": "scatter"
           }
          ],
          "scatter3d": [
           {
            "line": {
             "colorbar": {
              "outlinewidth": 0,
              "ticks": ""
             }
            },
            "marker": {
             "colorbar": {
              "outlinewidth": 0,
              "ticks": ""
             }
            },
            "type": "scatter3d"
           }
          ],
          "scattercarpet": [
           {
            "marker": {
             "colorbar": {
              "outlinewidth": 0,
              "ticks": ""
             }
            },
            "type": "scattercarpet"
           }
          ],
          "scattergeo": [
           {
            "marker": {
             "colorbar": {
              "outlinewidth": 0,
              "ticks": ""
             }
            },
            "type": "scattergeo"
           }
          ],
          "scattergl": [
           {
            "marker": {
             "colorbar": {
              "outlinewidth": 0,
              "ticks": ""
             }
            },
            "type": "scattergl"
           }
          ],
          "scattermapbox": [
           {
            "marker": {
             "colorbar": {
              "outlinewidth": 0,
              "ticks": ""
             }
            },
            "type": "scattermapbox"
           }
          ],
          "scatterpolar": [
           {
            "marker": {
             "colorbar": {
              "outlinewidth": 0,
              "ticks": ""
             }
            },
            "type": "scatterpolar"
           }
          ],
          "scatterpolargl": [
           {
            "marker": {
             "colorbar": {
              "outlinewidth": 0,
              "ticks": ""
             }
            },
            "type": "scatterpolargl"
           }
          ],
          "scatterternary": [
           {
            "marker": {
             "colorbar": {
              "outlinewidth": 0,
              "ticks": ""
             }
            },
            "type": "scatterternary"
           }
          ],
          "surface": [
           {
            "colorbar": {
             "outlinewidth": 0,
             "ticks": ""
            },
            "colorscale": [
             [
              0,
              "#0d0887"
             ],
             [
              0.1111111111111111,
              "#46039f"
             ],
             [
              0.2222222222222222,
              "#7201a8"
             ],
             [
              0.3333333333333333,
              "#9c179e"
             ],
             [
              0.4444444444444444,
              "#bd3786"
             ],
             [
              0.5555555555555556,
              "#d8576b"
             ],
             [
              0.6666666666666666,
              "#ed7953"
             ],
             [
              0.7777777777777778,
              "#fb9f3a"
             ],
             [
              0.8888888888888888,
              "#fdca26"
             ],
             [
              1,
              "#f0f921"
             ]
            ],
            "type": "surface"
           }
          ],
          "table": [
           {
            "cells": {
             "fill": {
              "color": "#EBF0F8"
             },
             "line": {
              "color": "white"
             }
            },
            "header": {
             "fill": {
              "color": "#C8D4E3"
             },
             "line": {
              "color": "white"
             }
            },
            "type": "table"
           }
          ]
         },
         "layout": {
          "annotationdefaults": {
           "arrowcolor": "#2a3f5f",
           "arrowhead": 0,
           "arrowwidth": 1
          },
          "autotypenumbers": "strict",
          "coloraxis": {
           "colorbar": {
            "outlinewidth": 0,
            "ticks": ""
           }
          },
          "colorscale": {
           "diverging": [
            [
             0,
             "#8e0152"
            ],
            [
             0.1,
             "#c51b7d"
            ],
            [
             0.2,
             "#de77ae"
            ],
            [
             0.3,
             "#f1b6da"
            ],
            [
             0.4,
             "#fde0ef"
            ],
            [
             0.5,
             "#f7f7f7"
            ],
            [
             0.6,
             "#e6f5d0"
            ],
            [
             0.7,
             "#b8e186"
            ],
            [
             0.8,
             "#7fbc41"
            ],
            [
             0.9,
             "#4d9221"
            ],
            [
             1,
             "#276419"
            ]
           ],
           "sequential": [
            [
             0,
             "#0d0887"
            ],
            [
             0.1111111111111111,
             "#46039f"
            ],
            [
             0.2222222222222222,
             "#7201a8"
            ],
            [
             0.3333333333333333,
             "#9c179e"
            ],
            [
             0.4444444444444444,
             "#bd3786"
            ],
            [
             0.5555555555555556,
             "#d8576b"
            ],
            [
             0.6666666666666666,
             "#ed7953"
            ],
            [
             0.7777777777777778,
             "#fb9f3a"
            ],
            [
             0.8888888888888888,
             "#fdca26"
            ],
            [
             1,
             "#f0f921"
            ]
           ],
           "sequentialminus": [
            [
             0,
             "#0d0887"
            ],
            [
             0.1111111111111111,
             "#46039f"
            ],
            [
             0.2222222222222222,
             "#7201a8"
            ],
            [
             0.3333333333333333,
             "#9c179e"
            ],
            [
             0.4444444444444444,
             "#bd3786"
            ],
            [
             0.5555555555555556,
             "#d8576b"
            ],
            [
             0.6666666666666666,
             "#ed7953"
            ],
            [
             0.7777777777777778,
             "#fb9f3a"
            ],
            [
             0.8888888888888888,
             "#fdca26"
            ],
            [
             1,
             "#f0f921"
            ]
           ]
          },
          "colorway": [
           "#636efa",
           "#EF553B",
           "#00cc96",
           "#ab63fa",
           "#FFA15A",
           "#19d3f3",
           "#FF6692",
           "#B6E880",
           "#FF97FF",
           "#FECB52"
          ],
          "font": {
           "color": "#2a3f5f"
          },
          "geo": {
           "bgcolor": "white",
           "lakecolor": "white",
           "landcolor": "#E5ECF6",
           "showlakes": true,
           "showland": true,
           "subunitcolor": "white"
          },
          "hoverlabel": {
           "align": "left"
          },
          "hovermode": "closest",
          "mapbox": {
           "style": "light"
          },
          "paper_bgcolor": "white",
          "plot_bgcolor": "#E5ECF6",
          "polar": {
           "angularaxis": {
            "gridcolor": "white",
            "linecolor": "white",
            "ticks": ""
           },
           "bgcolor": "#E5ECF6",
           "radialaxis": {
            "gridcolor": "white",
            "linecolor": "white",
            "ticks": ""
           }
          },
          "scene": {
           "xaxis": {
            "backgroundcolor": "#E5ECF6",
            "gridcolor": "white",
            "gridwidth": 2,
            "linecolor": "white",
            "showbackground": true,
            "ticks": "",
            "zerolinecolor": "white"
           },
           "yaxis": {
            "backgroundcolor": "#E5ECF6",
            "gridcolor": "white",
            "gridwidth": 2,
            "linecolor": "white",
            "showbackground": true,
            "ticks": "",
            "zerolinecolor": "white"
           },
           "zaxis": {
            "backgroundcolor": "#E5ECF6",
            "gridcolor": "white",
            "gridwidth": 2,
            "linecolor": "white",
            "showbackground": true,
            "ticks": "",
            "zerolinecolor": "white"
           }
          },
          "shapedefaults": {
           "line": {
            "color": "#2a3f5f"
           }
          },
          "ternary": {
           "aaxis": {
            "gridcolor": "white",
            "linecolor": "white",
            "ticks": ""
           },
           "baxis": {
            "gridcolor": "white",
            "linecolor": "white",
            "ticks": ""
           },
           "bgcolor": "#E5ECF6",
           "caxis": {
            "gridcolor": "white",
            "linecolor": "white",
            "ticks": ""
           }
          },
          "title": {
           "x": 0.05
          },
          "xaxis": {
           "automargin": true,
           "gridcolor": "white",
           "linecolor": "white",
           "ticks": "",
           "title": {
            "standoff": 15
           },
           "zerolinecolor": "white",
           "zerolinewidth": 2
          },
          "yaxis": {
           "automargin": true,
           "gridcolor": "white",
           "linecolor": "white",
           "ticks": "",
           "title": {
            "standoff": 15
           },
           "zerolinecolor": "white",
           "zerolinewidth": 2
          }
         }
        },
        "title": {
         "text": "Os 10 clientes que mais gastam"
        },
        "xaxis": {
         "anchor": "y",
         "domain": [
          0,
          1
         ],
         "title": {
          "text": "Nome do cliente"
         }
        },
        "yaxis": {
         "anchor": "x",
         "domain": [
          0,
          1
         ],
         "title": {
          "text": "Total da compra do produto"
         }
        }
       }
      },
      "text/html": [
       "<div>                            <div id=\"5a825501-61e1-4c09-89be-099f5a4c62a8\" class=\"plotly-graph-div\" style=\"height:525px; width:100%;\"></div>            <script type=\"text/javascript\">                require([\"plotly\"], function(Plotly) {                    window.PLOTLYENV=window.PLOTLYENV || {};                                    if (document.getElementById(\"5a825501-61e1-4c09-89be-099f5a4c62a8\")) {                    Plotly.newPlot(                        \"5a825501-61e1-4c09-89be-099f5a4c62a8\",                        [{\"alignmentgroup\":\"True\",\"customdata\":[[\"banana\",\"2021-11-13\",5.99],[\"morango\",\"2021-11-13\",7.99],[\"morango\",\"2021-11-13\",7.99],[\"arroz\",\"2021-11-13\",4.31],[\"berinjela\",\"2021-11-13\",11.99],[\"banana\",\"2021-11-12\",5.99],[\"melancia\",\"2021-11-12\",15.99],[\"arroz\",\"2021-11-12\",4.31],[\"macarr\\u00e3o\",\"2021-11-02\",2.48],[\"arroz\",\"2021-11-02\",4.31],[\"abobrinha\",\"2021-11-02\",3.49],[\"couve-flor\",\"2021-11-08\",5.48],[\"alface\",\"2021-11-08\",0.98],[\"feij\\u00e3o\",\"2021-11-08\",8.45],[\"banana\",\"2021-11-30\",5.99],[\"banana\",\"2021-11-13\",5.99],[\"uva\",\"2021-11-13\",7.47],[\"feij\\u00e3o\",\"2021-11-13\",8.45],[\"feij\\u00e3o\",\"2021-11-13\",8.45],[\"banana\",\"2021-11-13\",5.99],[\"morango\",\"2021-11-13\",7.99],[\"berinjela\",\"2021-11-13\",11.99],[\"couve-flor\",\"2021-11-08\",5.48],[\"batata\",\"2021-11-08\",3.99],[\"morango\",\"2021-11-11\",7.99],[\"abobrinha\",\"2021-11-02\",3.49],[\"alface\",\"2021-11-02\",0.98],[\"berinjela\",\"2021-11-02\",11.99],[\"morango\",\"2021-11-21\",7.99],[\"banana\",\"2021-11-05\",5.99],[\"melancia\",\"2021-11-05\",15.99],[\"uva\",\"2021-11-05\",7.47],[\"abobrinha\",\"2021-11-05\",3.49],[\"melancia\",\"2021-11-12\",15.99],[\"morango\",\"2021-11-12\",7.99],[\"alface\",\"2021-11-12\",0.98],[\"batata\",\"2021-11-02\",3.99],[\"banana\",\"2021-11-07\",5.99],[\"batata\",\"2021-11-07\",3.99],[\"arroz\",\"2021-11-07\",4.31],[\"feij\\u00e3o\",\"2021-11-07\",8.45],[\"feij\\u00e3o\",\"2021-11-07\",8.45],[\"couve-flor\",\"2021-11-07\",5.48],[\"berinjela\",\"2021-11-07\",11.99],[\"morango\",\"2021-11-24\",7.99],[\"banana\",\"2021-11-09\",5.99],[\"couve-flor\",\"2021-11-09\",5.48],[\"alface\",\"2021-11-09\",0.98],[\"berinjela\",\"2021-11-09\",11.99],[\"melancia\",\"2021-11-01\",15.99],[\"uva\",\"2021-11-01\",7.47],[\"arroz\",\"2021-11-01\",4.31],[\"melancia\",\"2021-11-07\",15.99],[\"macarr\\u00e3o\",\"2021-11-07\",2.48],[\"macarr\\u00e3o\",\"2021-11-07\",2.48],[\"alface\",\"2021-11-06\",0.98],[\"macarr\\u00e3o\",\"2021-11-28\",2.48],[\"arroz\",\"2021-11-29\",4.31],[\"banana\",\"2021-11-13\",5.99],[\"banana\",\"2021-11-13\",5.99],[\"uva\",\"2021-11-13\",7.47],[\"arroz\",\"2021-11-13\",4.31],[\"couve-flor\",\"2021-11-12\",5.48],[\"macarr\\u00e3o\",\"2021-11-12\",2.48],[\"batata\",\"2021-11-12\",3.99],[\"batata\",\"2021-11-12\",3.99],[\"arroz\",\"2021-11-12\",4.31],[\"feij\\u00e3o\",\"2021-11-12\",8.45],[\"banana\",\"2021-11-12\",5.99],[\"uva\",\"2021-11-12\",7.47],[\"couve-flor\",\"2021-11-12\",5.48],[\"alface\",\"2021-11-12\",0.98],[\"alface\",\"2021-11-12\",0.98],[\"melancia\",\"2021-11-06\",15.99],[\"arroz\",\"2021-11-06\",4.31],[\"abobrinha\",\"2021-11-06\",3.49],[\"berinjela\",\"2021-11-06\",11.99],[\"feij\\u00e3o\",\"2021-11-06\",8.45],[\"couve-flor\",\"2021-11-02\",5.48],[\"couve-flor\",\"2021-11-02\",5.48],[\"arroz\",\"2021-11-02\",4.31],[\"banana\",\"2021-11-02\",5.99],[\"morango\",\"2021-11-02\",7.99],[\"macarr\\u00e3o\",\"2021-11-02\",2.48],[\"arroz\",\"2021-11-02\",4.31],[\"abobrinha\",\"2021-11-02\",3.49],[\"feij\\u00e3o\",\"2021-11-02\",8.45],[\"melancia\",\"2021-11-14\",15.99],[\"melancia\",\"2021-11-12\",15.99],[\"batata\",\"2021-11-12\",3.99],[\"abobrinha\",\"2021-11-12\",3.49],[\"alface\",\"2021-11-12\",0.98],[\"alface\",\"2021-11-12\",0.98],[\"feij\\u00e3o\",\"2021-11-12\",8.45],[\"macarr\\u00e3o\",\"2021-11-09\",2.48],[\"arroz\",\"2021-11-09\",4.31],[\"feij\\u00e3o\",\"2021-11-09\",8.45],[\"uva\",\"2021-11-10\",7.47],[\"arroz\",\"2021-11-02\",4.31],[\"arroz\",\"2021-11-02\",4.31],[\"feij\\u00e3o\",\"2021-11-02\",8.45],[\"macarr\\u00e3o\",\"2021-11-09\",2.48],[\"macarr\\u00e3o\",\"2021-11-09\",2.48],[\"arroz\",\"2021-11-09\",4.31],[\"berinjela\",\"2021-11-09\",11.99],[\"berinjela\",\"2021-11-30\",11.99],[\"melancia\",\"2021-11-01\",15.99],[\"couve-flor\",\"2021-11-01\",5.48],[\"arroz\",\"2021-11-01\",4.31],[\"abobrinha\",\"2021-11-01\",3.49],[\"uva\",\"2021-11-07\",7.47],[\"couve-flor\",\"2021-11-01\",5.48],[\"macarr\\u00e3o\",\"2021-11-01\",2.48],[\"arroz\",\"2021-11-01\",4.31],[\"abobrinha\",\"2021-11-01\",3.49],[\"alface\",\"2021-11-01\",0.98]],\"hovertemplate\":\"Se\\u00e7\\u00e3o=Alimentos em Geral<br>Nome do cliente=%{x}<br>Total da compra do produto=%{y}<br>Produto=%{customdata[0]}<br>Data=%{customdata[1]}<br>Pre\\u00e7o do produto=%{customdata[2]}<extra></extra>\",\"legendgroup\":\"Alimentos em Geral\",\"marker\":{\"color\":\"#636efa\",\"pattern\":{\"shape\":\"\"}},\"name\":\"Alimentos em Geral\",\"offsetgroup\":\"Alimentos em Geral\",\"orientation\":\"v\",\"showlegend\":true,\"textposition\":\"auto\",\"type\":\"bar\",\"x\":[\"Lucas Costa\",\"Lucas Costa\",\"Lucas Costa\",\"Lucas Costa\",\"Lucas Costa\",\"Lucas Costa\",\"Lucas Costa\",\"Lucas Costa\",\"Lucas Costa\",\"Lucas Costa\",\"Lucas Costa\",\"Lucas Costa\",\"Lucas Costa\",\"Lucas Costa\",\"Sofia Alves\",\"Sofia Alves\",\"Sofia Alves\",\"Sofia Alves\",\"Sofia Alves\",\"Sofia Alves\",\"Sofia Alves\",\"Sofia Alves\",\"Sofia Alves\",\"Sofia Alves\",\"Sofia Alves\",\"Sofia Alves\",\"Sofia Alves\",\"Sofia Alves\",\"Sofia Alves\",\"Ben\\u00edcio Vieira\",\"Ben\\u00edcio Vieira\",\"Ben\\u00edcio Vieira\",\"Ben\\u00edcio Vieira\",\"Ben\\u00edcio Vieira\",\"Ben\\u00edcio Vieira\",\"Ben\\u00edcio Vieira\",\"Ben\\u00edcio Vieira\",\"Sra. Alana Rocha\",\"Sra. Alana Rocha\",\"Sra. Alana Rocha\",\"Sra. Alana Rocha\",\"Sra. Alana Rocha\",\"Sra. Alana Rocha\",\"Sra. Alana Rocha\",\"Sra. Alana Rocha\",\"Francisco Cavalcanti\",\"Francisco Cavalcanti\",\"Francisco Cavalcanti\",\"Francisco Cavalcanti\",\"Francisco Cavalcanti\",\"Francisco Cavalcanti\",\"Francisco Cavalcanti\",\"Francisco Cavalcanti\",\"Francisco Cavalcanti\",\"Francisco Cavalcanti\",\"Francisco Cavalcanti\",\"Francisco Cavalcanti\",\"Francisco Cavalcanti\",\"Ana Clara Moraes\",\"Ana Clara Moraes\",\"Ana Clara Moraes\",\"Ana Clara Moraes\",\"Ana Clara Moraes\",\"Ana Clara Moraes\",\"Ana Clara Moraes\",\"Ana Clara Moraes\",\"Ana Clara Moraes\",\"Ana Clara Moraes\",\"Vitor das Neves\",\"Vitor das Neves\",\"Vitor das Neves\",\"Vitor das Neves\",\"Vitor das Neves\",\"Vitor das Neves\",\"Vitor das Neves\",\"Vitor das Neves\",\"Vitor das Neves\",\"Vitor das Neves\",\"Vitor das Neves\",\"Vitor das Neves\",\"Vitor das Neves\",\"Cau\\u00ea Cardoso\",\"Cau\\u00ea Cardoso\",\"Cau\\u00ea Cardoso\",\"Cau\\u00ea Cardoso\",\"Cau\\u00ea Cardoso\",\"Cau\\u00ea Cardoso\",\"Cau\\u00ea Cardoso\",\"Cau\\u00ea Cardoso\",\"Cau\\u00ea Cardoso\",\"Cau\\u00ea Cardoso\",\"Cau\\u00ea Cardoso\",\"Cau\\u00ea Cardoso\",\"Cau\\u00ea Cardoso\",\"Cau\\u00ea Cardoso\",\"Cau\\u00ea Cardoso\",\"Cau\\u00ea Cardoso\",\"Heitor Souza\",\"Heitor Souza\",\"Heitor Souza\",\"Heitor Souza\",\"Heitor Souza\",\"Heitor Souza\",\"Heitor Souza\",\"Heitor Souza\",\"Heitor Souza\",\"Emanuel Costela\",\"Emanuel Costela\",\"Emanuel Costela\",\"Emanuel Costela\",\"Emanuel Costela\",\"Emanuel Costela\",\"Emanuel Costela\",\"Emanuel Costela\",\"Emanuel Costela\",\"Emanuel Costela\"],\"xaxis\":\"x\",\"y\":[17.97,15.98,23.97,4.31,35.97,11.98,47.97,8.62,9.92,4.31,3.49,21.92,0.98,8.45,23.96,23.96,14.94,25.349999999999998,16.9,11.98,31.96,11.99,21.92,15.96,15.98,6.98,3.92,11.99,31.96,23.96,31.98,29.88,6.98,31.98,7.99,0.98,15.96,17.97,15.96,4.31,8.45,33.8,5.48,23.98,15.98,5.99,10.96,3.92,11.99,31.98,7.47,17.24,31.98,2.48,4.96,3.92,7.4399999999999995,17.24,11.98,17.97,14.94,4.31,16.44,2.48,7.98,3.99,4.31,33.8,23.96,29.88,10.96,1.96,2.94,47.97,4.31,3.49,23.98,16.9,21.92,21.92,17.24,11.98,23.97,4.96,8.62,6.98,25.349999999999998,15.99,63.96,11.97,3.49,1.96,2.94,8.45,9.92,12.93,8.45,22.41,17.24,12.93,8.45,4.96,2.48,4.31,23.98,35.97,31.98,5.48,4.31,6.98,14.94,21.92,7.4399999999999995,17.24,3.49,2.94],\"yaxis\":\"y\"},{\"alignmentgroup\":\"True\",\"customdata\":[[\"amaciante\",\"2021-11-13\",6.7],[\"flanela\",\"2021-11-13\",1.99],[\"\\u00e1gua sanit\\u00e1ria\",\"2021-11-13\",11.98],[\"amaciante\",\"2021-11-12\",6.7],[\"flanela\",\"2021-11-12\",1.99],[\"rodo\",\"2021-11-02\",5.99],[\"odorizador\",\"2021-11-27\",23.99],[\"\\u00e1gua sanit\\u00e1ria\",\"2021-11-13\",11.98],[\"\\u00e1gua sanit\\u00e1ria\",\"2021-11-13\",11.98],[\"odorizador\",\"2021-11-13\",23.99],[\"detergente\",\"2021-11-13\",2.7],[\"sabonete\",\"2021-11-13\",1.29],[\"detergente\",\"2021-11-08\",2.7],[\"\\u00e1gua sanit\\u00e1ria\",\"2021-11-11\",11.98],[\"rodo\",\"2021-11-02\",5.99],[\"detergente\",\"2021-11-05\",2.7],[\"sab\\u00e3o em p\\u00f3\",\"2021-11-05\",9.69],[\"\\u00e1gua sanit\\u00e1ria\",\"2021-11-12\",11.98],[\"flanela\",\"2021-11-02\",1.99],[\"flanela\",\"2021-11-02\",1.99],[\"flanela\",\"2021-11-02\",1.99],[\"sab\\u00e3o em p\\u00f3\",\"2021-11-02\",9.69],[\"sabonete\",\"2021-11-02\",1.29],[\"rodo\",\"2021-11-15\",5.99],[\"\\u00e1gua sanit\\u00e1ria\",\"2021-11-07\",11.98],[\"detergente\",\"2021-11-09\",2.7],[\"sabonete\",\"2021-11-09\",1.29],[\"odorizador\",\"2021-11-09\",23.99],[\"amaciante\",\"2021-11-01\",6.7],[\"flanela\",\"2021-11-01\",1.99],[\"flanela\",\"2021-11-01\",1.99],[\"flanela\",\"2021-11-07\",1.99],[\"flanela\",\"2021-11-07\",1.99],[\"rodo\",\"2021-11-07\",5.99],[\"odorizador\",\"2021-11-07\",23.99],[\"flanela\",\"2021-11-06\",1.99],[\"rodo\",\"2021-11-06\",5.99],[\"sabonete\",\"2021-11-06\",1.29],[\"flanela\",\"2021-11-13\",1.99],[\"\\u00e1gua sanit\\u00e1ria\",\"2021-11-13\",11.98],[\"\\u00e1gua sanit\\u00e1ria\",\"2021-11-13\",11.98],[\"flanela\",\"2021-11-12\",1.99],[\"detergente\",\"2021-11-12\",2.7],[\"rodo\",\"2021-11-12\",5.99],[\"sab\\u00e3o em p\\u00f3\",\"2021-11-12\",9.69],[\"amaciante\",\"2021-11-06\",6.7],[\"sab\\u00e3o em p\\u00f3\",\"2021-11-06\",9.69],[\"sab\\u00e3o em p\\u00f3\",\"2021-11-06\",9.69],[\"sab\\u00e3o em p\\u00f3\",\"2021-11-06\",9.69],[\"\\u00e1gua sanit\\u00e1ria\",\"2021-11-06\",11.98],[\"\\u00e1gua sanit\\u00e1ria\",\"2021-11-06\",11.98],[\"rodo\",\"2021-11-02\",5.99],[\"rodo\",\"2021-11-02\",5.99],[\"rodo\",\"2021-11-02\",5.99],[\"\\u00e1gua sanit\\u00e1ria\",\"2021-11-02\",11.98],[\"odorizador\",\"2021-11-02\",23.99],[\"amaciante\",\"2021-11-02\",6.7],[\"\\u00e1gua sanit\\u00e1ria\",\"2021-11-02\",11.98],[\"detergente\",\"2021-11-12\",2.7],[\"odorizador\",\"2021-11-12\",23.99],[\"detergente\",\"2021-11-10\",2.7],[\"amaciante\",\"2021-11-10\",6.7],[\"flanela\",\"2021-11-02\",1.99],[\"\\u00e1gua sanit\\u00e1ria\",\"2021-11-02\",11.98],[\"sabonete\",\"2021-11-09\",1.29],[\"odorizador\",\"2021-11-09\",23.99],[\"detergente\",\"2021-11-01\",2.7],[\"sab\\u00e3o em p\\u00f3\",\"2021-11-01\",9.69],[\"detergente\",\"2021-11-07\",2.7],[\"flanela\",\"2021-11-07\",1.99],[\"\\u00e1gua sanit\\u00e1ria\",\"2021-11-07\",11.98]],\"hovertemplate\":\"Se\\u00e7\\u00e3o=Produtos de Limpeza<br>Nome do cliente=%{x}<br>Total da compra do produto=%{y}<br>Produto=%{customdata[0]}<br>Data=%{customdata[1]}<br>Pre\\u00e7o do produto=%{customdata[2]}<extra></extra>\",\"legendgroup\":\"Produtos de Limpeza\",\"marker\":{\"color\":\"#EF553B\",\"pattern\":{\"shape\":\"\"}},\"name\":\"Produtos de Limpeza\",\"offsetgroup\":\"Produtos de Limpeza\",\"orientation\":\"v\",\"showlegend\":true,\"textposition\":\"auto\",\"type\":\"bar\",\"x\":[\"Lucas Costa\",\"Lucas Costa\",\"Lucas Costa\",\"Lucas Costa\",\"Lucas Costa\",\"Lucas Costa\",\"Lucas Costa\",\"Sofia Alves\",\"Sofia Alves\",\"Sofia Alves\",\"Sofia Alves\",\"Sofia Alves\",\"Sofia Alves\",\"Sofia Alves\",\"Sofia Alves\",\"Ben\\u00edcio Vieira\",\"Ben\\u00edcio Vieira\",\"Ben\\u00edcio Vieira\",\"Ben\\u00edcio Vieira\",\"Ben\\u00edcio Vieira\",\"Ben\\u00edcio Vieira\",\"Ben\\u00edcio Vieira\",\"Ben\\u00edcio Vieira\",\"Ben\\u00edcio Vieira\",\"Sra. Alana Rocha\",\"Francisco Cavalcanti\",\"Francisco Cavalcanti\",\"Francisco Cavalcanti\",\"Francisco Cavalcanti\",\"Francisco Cavalcanti\",\"Francisco Cavalcanti\",\"Francisco Cavalcanti\",\"Francisco Cavalcanti\",\"Francisco Cavalcanti\",\"Francisco Cavalcanti\",\"Francisco Cavalcanti\",\"Francisco Cavalcanti\",\"Francisco Cavalcanti\",\"Ana Clara Moraes\",\"Ana Clara Moraes\",\"Ana Clara Moraes\",\"Ana Clara Moraes\",\"Vitor das Neves\",\"Vitor das Neves\",\"Vitor das Neves\",\"Vitor das Neves\",\"Vitor das Neves\",\"Vitor das Neves\",\"Vitor das Neves\",\"Vitor das Neves\",\"Vitor das Neves\",\"Vitor das Neves\",\"Vitor das Neves\",\"Vitor das Neves\",\"Vitor das Neves\",\"Vitor das Neves\",\"Cau\\u00ea Cardoso\",\"Cau\\u00ea Cardoso\",\"Cau\\u00ea Cardoso\",\"Cau\\u00ea Cardoso\",\"Heitor Souza\",\"Heitor Souza\",\"Heitor Souza\",\"Heitor Souza\",\"Heitor Souza\",\"Heitor Souza\",\"Emanuel Costela\",\"Emanuel Costela\",\"Emanuel Costela\",\"Emanuel Costela\",\"Emanuel Costela\"],\"xaxis\":\"x\",\"y\":[6.7,1.99,35.94,20.1,1.99,23.96,95.96,11.98,35.94,95.96,2.7,1.29,8.100000000000001,47.92,17.97,5.4,38.76,11.98,7.96,5.97,1.99,9.69,2.58,11.98,11.98,2.7,5.16,71.97,13.4,7.96,5.97,1.99,1.99,11.98,71.97,5.97,11.98,1.29,3.98,47.92,11.98,3.98,8.100000000000001,17.97,29.07,26.8,19.38,38.76,38.76,47.92,11.98,23.96,5.99,23.96,23.96,95.96,13.4,47.92,8.100000000000001,47.98,8.100000000000001,20.1,7.96,23.96,1.29,23.99,10.8,9.69,5.4,1.99,23.96],\"yaxis\":\"y\"},{\"alignmentgroup\":\"True\",\"customdata\":[[\"torta\",\"2021-11-13\",45.0],[\"bolo\",\"2021-11-13\",35.0],[\"sandu\\u00edche\",\"2021-11-13\",12.99],[\"sandu\\u00edche\",\"2021-11-13\",12.99],[\"p\\u00e3o de forma\",\"2021-11-13\",6.99],[\"p\\u00e3o de queijo\",\"2021-11-13\",23.99],[\"torta\",\"2021-11-12\",45.0],[\"pastel\",\"2021-11-12\",4.99],[\"bolo\",\"2021-11-12\",35.0],[\"bolo\",\"2021-11-12\",35.0],[\"sandu\\u00edche\",\"2021-11-12\",12.99],[\"sandu\\u00edche\",\"2021-11-12\",12.99],[\"bolo\",\"2021-11-08\",35.0],[\"p\\u00e3o de queijo\",\"2021-11-08\",23.99],[\"p\\u00e3o de queijo\",\"2021-11-08\",23.99],[\"p\\u00e3o franc\\u00eas\",\"2021-11-08\",10.99],[\"p\\u00e3o de queijo\",\"2021-11-13\",23.99],[\"p\\u00e3o de queijo\",\"2021-11-13\",23.99],[\"torta\",\"2021-11-13\",45.0],[\"torta\",\"2021-11-13\",45.0],[\"bolo\",\"2021-11-13\",35.0],[\"sandu\\u00edche\",\"2021-11-13\",12.99],[\"p\\u00e3o de forma\",\"2021-11-13\",6.99],[\"pastel\",\"2021-11-08\",4.99],[\"p\\u00e3o de forma\",\"2021-11-08\",6.99],[\"torta\",\"2021-11-11\",45.0],[\"pastel\",\"2021-11-11\",4.99],[\"pastel\",\"2021-11-11\",4.99],[\"sandu\\u00edche\",\"2021-11-11\",12.99],[\"p\\u00e3o franc\\u00eas\",\"2021-11-11\",10.99],[\"sonho\",\"2021-11-02\",3.49],[\"torta\",\"2021-11-12\",45.0],[\"torta\",\"2021-11-12\",45.0],[\"p\\u00e3o franc\\u00eas\",\"2021-11-12\",10.99],[\"torta\",\"2021-11-02\",45.0],[\"p\\u00e3o de forma\",\"2021-11-02\",6.99],[\"p\\u00e3o de queijo\",\"2021-11-02\",23.99],[\"p\\u00e3o de queijo\",\"2021-11-18\",23.99],[\"torta\",\"2021-11-07\",45.0],[\"pastel\",\"2021-11-07\",4.99],[\"bolo\",\"2021-11-07\",35.0],[\"p\\u00e3o de forma\",\"2021-11-07\",6.99],[\"torta\",\"2021-11-07\",45.0],[\"bolo\",\"2021-11-07\",35.0],[\"p\\u00e3o de forma\",\"2021-11-07\",6.99],[\"sonho\",\"2021-11-07\",3.49],[\"torta\",\"2021-11-09\",45.0],[\"sandu\\u00edche\",\"2021-11-09\",12.99],[\"p\\u00e3o de forma\",\"2021-11-09\",6.99],[\"p\\u00e3o franc\\u00eas\",\"2021-11-09\",10.99],[\"pastel\",\"2021-11-01\",4.99],[\"p\\u00e3o de forma\",\"2021-11-01\",6.99],[\"p\\u00e3o de queijo\",\"2021-11-01\",23.99],[\"pastel\",\"2021-11-07\",4.99],[\"pastel\",\"2021-11-07\",4.99],[\"p\\u00e3o de queijo\",\"2021-11-07\",23.99],[\"sonho\",\"2021-11-07\",3.49],[\"sandu\\u00edche\",\"2021-11-06\",12.99],[\"sonho\",\"2021-11-06\",3.49],[\"torta\",\"2021-11-13\",45.0],[\"sandu\\u00edche\",\"2021-11-13\",12.99],[\"p\\u00e3o de queijo\",\"2021-11-13\",23.99],[\"bolo\",\"2021-11-12\",35.0],[\"p\\u00e3o de forma\",\"2021-11-12\",6.99],[\"bolo\",\"2021-11-12\",35.0],[\"bolo\",\"2021-11-06\",35.0],[\"sonho\",\"2021-11-06\",3.49],[\"p\\u00e3o franc\\u00eas\",\"2021-11-06\",10.99],[\"bolo\",\"2021-11-02\",35.0],[\"bolo\",\"2021-11-02\",35.0],[\"sonho\",\"2021-11-02\",3.49],[\"pastel\",\"2021-11-12\",4.99],[\"bolo\",\"2021-11-12\",35.0],[\"bolo\",\"2021-11-12\",35.0],[\"sonho\",\"2021-11-12\",3.49],[\"p\\u00e3o de forma\",\"2021-11-09\",6.99],[\"p\\u00e3o franc\\u00eas\",\"2021-11-09\",10.99],[\"pastel\",\"2021-11-10\",4.99],[\"sandu\\u00edche\",\"2021-11-10\",12.99],[\"p\\u00e3o de forma\",\"2021-11-10\",6.99],[\"bolo\",\"2021-11-02\",35.0],[\"bolo\",\"2021-11-02\",35.0],[\"p\\u00e3o de queijo\",\"2021-11-02\",23.99],[\"p\\u00e3o franc\\u00eas\",\"2021-11-02\",10.99],[\"sandu\\u00edche\",\"2021-11-22\",12.99],[\"p\\u00e3o de forma\",\"2021-11-09\",6.99],[\"p\\u00e3o de forma\",\"2021-11-09\",6.99],[\"p\\u00e3o de queijo\",\"2021-11-09\",23.99],[\"sonho\",\"2021-11-09\",3.49],[\"torta\",\"2021-11-01\",45.0],[\"bolo\",\"2021-11-01\",35.0],[\"p\\u00e3o de queijo\",\"2021-11-01\",23.99],[\"p\\u00e3o franc\\u00eas\",\"2021-11-01\",10.99]],\"hovertemplate\":\"Se\\u00e7\\u00e3o=Padaria<br>Nome do cliente=%{x}<br>Total da compra do produto=%{y}<br>Produto=%{customdata[0]}<br>Data=%{customdata[1]}<br>Pre\\u00e7o do produto=%{customdata[2]}<extra></extra>\",\"legendgroup\":\"Padaria\",\"marker\":{\"color\":\"#00cc96\",\"pattern\":{\"shape\":\"\"}},\"name\":\"Padaria\",\"offsetgroup\":\"Padaria\",\"orientation\":\"v\",\"showlegend\":true,\"textposition\":\"auto\",\"type\":\"bar\",\"x\":[\"Lucas Costa\",\"Lucas Costa\",\"Lucas Costa\",\"Lucas Costa\",\"Lucas Costa\",\"Lucas Costa\",\"Lucas Costa\",\"Lucas Costa\",\"Lucas Costa\",\"Lucas Costa\",\"Lucas Costa\",\"Lucas Costa\",\"Lucas Costa\",\"Lucas Costa\",\"Lucas Costa\",\"Lucas Costa\",\"Sofia Alves\",\"Sofia Alves\",\"Sofia Alves\",\"Sofia Alves\",\"Sofia Alves\",\"Sofia Alves\",\"Sofia Alves\",\"Sofia Alves\",\"Sofia Alves\",\"Sofia Alves\",\"Sofia Alves\",\"Sofia Alves\",\"Sofia Alves\",\"Sofia Alves\",\"Sofia Alves\",\"Ben\\u00edcio Vieira\",\"Ben\\u00edcio Vieira\",\"Ben\\u00edcio Vieira\",\"Ben\\u00edcio Vieira\",\"Ben\\u00edcio Vieira\",\"Ben\\u00edcio Vieira\",\"Ben\\u00edcio Vieira\",\"Sra. Alana Rocha\",\"Sra. Alana Rocha\",\"Sra. Alana Rocha\",\"Sra. Alana Rocha\",\"Sra. Alana Rocha\",\"Sra. Alana Rocha\",\"Sra. Alana Rocha\",\"Sra. Alana Rocha\",\"Francisco Cavalcanti\",\"Francisco Cavalcanti\",\"Francisco Cavalcanti\",\"Francisco Cavalcanti\",\"Francisco Cavalcanti\",\"Francisco Cavalcanti\",\"Francisco Cavalcanti\",\"Francisco Cavalcanti\",\"Francisco Cavalcanti\",\"Francisco Cavalcanti\",\"Francisco Cavalcanti\",\"Francisco Cavalcanti\",\"Francisco Cavalcanti\",\"Ana Clara Moraes\",\"Ana Clara Moraes\",\"Ana Clara Moraes\",\"Ana Clara Moraes\",\"Ana Clara Moraes\",\"Vitor das Neves\",\"Vitor das Neves\",\"Vitor das Neves\",\"Vitor das Neves\",\"Vitor das Neves\",\"Vitor das Neves\",\"Cau\\u00ea Cardoso\",\"Cau\\u00ea Cardoso\",\"Cau\\u00ea Cardoso\",\"Cau\\u00ea Cardoso\",\"Cau\\u00ea Cardoso\",\"Cau\\u00ea Cardoso\",\"Cau\\u00ea Cardoso\",\"Heitor Souza\",\"Heitor Souza\",\"Heitor Souza\",\"Heitor Souza\",\"Heitor Souza\",\"Heitor Souza\",\"Heitor Souza\",\"Heitor Souza\",\"Heitor Souza\",\"Heitor Souza\",\"Heitor Souza\",\"Heitor Souza\",\"Emanuel Costela\",\"Emanuel Costela\",\"Emanuel Costela\",\"Emanuel Costela\"],\"xaxis\":\"x\",\"y\":[90.0,35.0,12.99,25.98,6.99,23.99,180.0,19.96,70.0,70.0,25.98,51.96,70.0,71.97,71.97,32.97,95.96,71.97,135.0,135.0,105.0,38.97,20.97,4.99,20.97,135.0,9.98,4.99,12.99,10.99,10.47,135.0,135.0,43.96,135.0,20.97,95.96,95.96,90.0,4.99,70.0,27.96,90.0,70.0,27.96,10.47,180.0,38.97,6.99,43.96,19.96,6.99,23.99,9.98,4.99,23.99,13.96,51.96,3.49,180.0,51.96,71.97,70.0,13.98,70.0,35.0,10.47,43.96,140.0,70.0,10.47,9.98,35.0,70.0,13.96,20.97,10.99,19.96,51.96,13.98,35.0,35.0,95.96,32.97,51.96,6.99,13.98,71.97,6.98,135.0,105.0,95.96,21.98],\"yaxis\":\"y\"},{\"alignmentgroup\":\"True\",\"customdata\":[[\"picanha\",\"2021-11-13\",70.89],[\"bisteca su\\u00edna\",\"2021-11-13\",22.79],[\"bisteca su\\u00edna\",\"2021-11-13\",22.79],[\"paleta su\\u00edna\",\"2021-11-13\",23.99],[\"peito de frango\",\"2021-11-12\",16.49],[\"carr\\u00e9 de cordeiro\",\"2021-11-12\",172.0],[\"bisteca su\\u00edna\",\"2021-11-12\",22.79],[\"alcatra\",\"2021-11-12\",31.99],[\"alcatra\",\"2021-11-12\",31.99],[\"paleta su\\u00edna\",\"2021-11-12\",23.99],[\"peito de frango\",\"2021-11-02\",16.49],[\"peito de frango\",\"2021-11-02\",16.49],[\"carr\\u00e9 de cordeiro\",\"2021-11-02\",172.0],[\"bisteca su\\u00edna\",\"2021-11-02\",22.79],[\"bisteca su\\u00edna\",\"2021-11-02\",22.79],[\"peito de frango\",\"2021-11-08\",16.49],[\"bisteca su\\u00edna\",\"2021-11-13\",22.79],[\"bisteca su\\u00edna\",\"2021-11-13\",22.79],[\"maminha\",\"2021-11-13\",42.99],[\"paleta su\\u00edna\",\"2021-11-08\",23.99],[\"picanha\",\"2021-11-11\",70.89],[\"maminha\",\"2021-11-11\",42.99],[\"maminha\",\"2021-11-11\",42.99],[\"maminha\",\"2021-11-11\",42.99],[\"costela\",\"2021-11-11\",20.99],[\"costela\",\"2021-11-11\",20.99],[\"costela\",\"2021-11-11\",20.99],[\"paleta su\\u00edna\",\"2021-11-11\",23.99],[\"peito de frango\",\"2021-11-02\",16.49],[\"picanha\",\"2021-11-02\",70.89],[\"maminha\",\"2021-11-02\",42.99],[\"costela\",\"2021-11-02\",20.99],[\"bisteca su\\u00edna\",\"2021-11-02\",22.79],[\"peito de frango\",\"2021-11-05\",16.49],[\"costela\",\"2021-11-05\",20.99],[\"bisteca su\\u00edna\",\"2021-11-05\",22.79],[\"bisteca su\\u00edna\",\"2021-11-05\",22.79],[\"alcatra\",\"2021-11-05\",31.99],[\"paleta su\\u00edna\",\"2021-11-05\",23.99],[\"paleta su\\u00edna\",\"2021-11-05\",23.99],[\"carr\\u00e9 de cordeiro\",\"2021-11-12\",172.0],[\"bisteca su\\u00edna\",\"2021-11-12\",22.79],[\"carr\\u00e9 de cordeiro\",\"2021-11-02\",172.0],[\"maminha\",\"2021-11-02\",42.99],[\"maminha\",\"2021-11-02\",42.99],[\"costela\",\"2021-11-02\",20.99],[\"peito de frango\",\"2021-11-07\",16.49],[\"carr\\u00e9 de cordeiro\",\"2021-11-07\",172.0],[\"carr\\u00e9 de cordeiro\",\"2021-11-07\",172.0],[\"costela\",\"2021-11-07\",20.99],[\"costela\",\"2021-11-07\",20.99],[\"costela\",\"2021-11-07\",20.99],[\"paleta su\\u00edna\",\"2021-11-07\",23.99],[\"maminha\",\"2021-11-07\",42.99],[\"costela\",\"2021-11-07\",20.99],[\"bisteca su\\u00edna\",\"2021-11-07\",22.79],[\"alcatra\",\"2021-11-07\",31.99],[\"peito de frango\",\"2021-11-09\",16.49],[\"peito de frango\",\"2021-11-09\",16.49],[\"maminha\",\"2021-11-09\",42.99],[\"bisteca su\\u00edna\",\"2021-11-09\",22.79],[\"paleta su\\u00edna\",\"2021-11-09\",23.99],[\"peito de frango\",\"2021-11-07\",16.49],[\"picanha\",\"2021-11-07\",70.89],[\"picanha\",\"2021-11-07\",70.89],[\"carr\\u00e9 de cordeiro\",\"2021-11-07\",172.0],[\"maminha\",\"2021-11-07\",42.99],[\"costela\",\"2021-11-07\",20.99],[\"costela\",\"2021-11-07\",20.99],[\"maminha\",\"2021-11-06\",42.99],[\"bisteca su\\u00edna\",\"2021-11-06\",22.79],[\"picanha\",\"2021-11-17\",70.89],[\"picanha\",\"2021-11-13\",70.89],[\"bisteca su\\u00edna\",\"2021-11-13\",22.79],[\"carr\\u00e9 de cordeiro\",\"2021-11-12\",172.0],[\"carr\\u00e9 de cordeiro\",\"2021-11-12\",172.0],[\"peito de frango\",\"2021-11-12\",16.49],[\"carr\\u00e9 de cordeiro\",\"2021-11-12\",172.0],[\"bisteca su\\u00edna\",\"2021-11-12\",22.79],[\"bisteca su\\u00edna\",\"2021-11-02\",22.79],[\"paleta su\\u00edna\",\"2021-11-02\",23.99],[\"peito de frango\",\"2021-11-12\",16.49],[\"picanha\",\"2021-11-12\",70.89],[\"maminha\",\"2021-11-12\",42.99],[\"paleta su\\u00edna\",\"2021-11-12\",23.99],[\"picanha\",\"2021-11-09\",70.89],[\"carr\\u00e9 de cordeiro\",\"2021-11-09\",172.0],[\"bisteca su\\u00edna\",\"2021-11-10\",22.79],[\"picanha\",\"2021-11-02\",70.89],[\"carr\\u00e9 de cordeiro\",\"2021-11-02\",172.0],[\"costela\",\"2021-11-02\",20.99],[\"bisteca su\\u00edna\",\"2021-11-02\",22.79],[\"alcatra\",\"2021-11-02\",31.99],[\"alcatra\",\"2021-11-02\",31.99],[\"alcatra\",\"2021-11-02\",31.99],[\"paleta su\\u00edna\",\"2021-11-02\",23.99],[\"costela\",\"2021-11-09\",20.99],[\"bisteca su\\u00edna\",\"2021-11-09\",22.79],[\"costela\",\"2021-11-01\",20.99],[\"alcatra\",\"2021-11-01\",31.99],[\"alcatra\",\"2021-11-01\",31.99],[\"alcatra\",\"2021-11-07\",31.99],[\"carr\\u00e9 de cordeiro\",\"2021-11-01\",172.0],[\"costela\",\"2021-11-01\",20.99],[\"costela\",\"2021-11-01\",20.99],[\"paleta su\\u00edna\",\"2021-11-01\",23.99],[\"paleta su\\u00edna\",\"2021-11-01\",23.99],[\"paleta su\\u00edna\",\"2021-11-27\",23.99]],\"hovertemplate\":\"Se\\u00e7\\u00e3o=A\\u00e7ougue<br>Nome do cliente=%{x}<br>Total da compra do produto=%{y}<br>Produto=%{customdata[0]}<br>Data=%{customdata[1]}<br>Pre\\u00e7o do produto=%{customdata[2]}<extra></extra>\",\"legendgroup\":\"A\\u00e7ougue\",\"marker\":{\"color\":\"#ab63fa\",\"pattern\":{\"shape\":\"\"}},\"name\":\"A\\u00e7ougue\",\"offsetgroup\":\"A\\u00e7ougue\",\"orientation\":\"v\",\"showlegend\":true,\"textposition\":\"auto\",\"type\":\"bar\",\"x\":[\"Lucas Costa\",\"Lucas Costa\",\"Lucas Costa\",\"Lucas Costa\",\"Lucas Costa\",\"Lucas Costa\",\"Lucas Costa\",\"Lucas Costa\",\"Lucas Costa\",\"Lucas Costa\",\"Lucas Costa\",\"Lucas Costa\",\"Lucas Costa\",\"Lucas Costa\",\"Lucas Costa\",\"Lucas Costa\",\"Sofia Alves\",\"Sofia Alves\",\"Sofia Alves\",\"Sofia Alves\",\"Sofia Alves\",\"Sofia Alves\",\"Sofia Alves\",\"Sofia Alves\",\"Sofia Alves\",\"Sofia Alves\",\"Sofia Alves\",\"Sofia Alves\",\"Sofia Alves\",\"Sofia Alves\",\"Sofia Alves\",\"Sofia Alves\",\"Sofia Alves\",\"Ben\\u00edcio Vieira\",\"Ben\\u00edcio Vieira\",\"Ben\\u00edcio Vieira\",\"Ben\\u00edcio Vieira\",\"Ben\\u00edcio Vieira\",\"Ben\\u00edcio Vieira\",\"Ben\\u00edcio Vieira\",\"Ben\\u00edcio Vieira\",\"Ben\\u00edcio Vieira\",\"Ben\\u00edcio Vieira\",\"Ben\\u00edcio Vieira\",\"Ben\\u00edcio Vieira\",\"Ben\\u00edcio Vieira\",\"Sra. Alana Rocha\",\"Sra. Alana Rocha\",\"Sra. Alana Rocha\",\"Sra. Alana Rocha\",\"Sra. Alana Rocha\",\"Sra. Alana Rocha\",\"Sra. Alana Rocha\",\"Sra. Alana Rocha\",\"Sra. Alana Rocha\",\"Sra. Alana Rocha\",\"Sra. Alana Rocha\",\"Francisco Cavalcanti\",\"Francisco Cavalcanti\",\"Francisco Cavalcanti\",\"Francisco Cavalcanti\",\"Francisco Cavalcanti\",\"Francisco Cavalcanti\",\"Francisco Cavalcanti\",\"Francisco Cavalcanti\",\"Francisco Cavalcanti\",\"Francisco Cavalcanti\",\"Francisco Cavalcanti\",\"Francisco Cavalcanti\",\"Francisco Cavalcanti\",\"Francisco Cavalcanti\",\"Francisco Cavalcanti\",\"Ana Clara Moraes\",\"Ana Clara Moraes\",\"Ana Clara Moraes\",\"Ana Clara Moraes\",\"Vitor das Neves\",\"Vitor das Neves\",\"Vitor das Neves\",\"Vitor das Neves\",\"Cau\\u00ea Cardoso\",\"Cau\\u00ea Cardoso\",\"Cau\\u00ea Cardoso\",\"Cau\\u00ea Cardoso\",\"Cau\\u00ea Cardoso\",\"Cau\\u00ea Cardoso\",\"Cau\\u00ea Cardoso\",\"Heitor Souza\",\"Heitor Souza\",\"Heitor Souza\",\"Heitor Souza\",\"Heitor Souza\",\"Heitor Souza\",\"Heitor Souza\",\"Heitor Souza\",\"Heitor Souza\",\"Heitor Souza\",\"Heitor Souza\",\"Emanuel Costela\",\"Emanuel Costela\",\"Emanuel Costela\",\"Emanuel Costela\",\"Emanuel Costela\",\"Emanuel Costela\",\"Emanuel Costela\",\"Emanuel Costela\",\"Emanuel Costela\",\"Emanuel Costela\"],\"xaxis\":\"x\",\"y\":[141.78,22.79,68.37,47.98,16.49,172.0,68.37,127.96,127.96,23.99,65.96,16.49,344.0,68.37,91.16,16.49,91.16,91.16,128.97,23.99,70.89,171.96,42.99,128.97,41.98,83.96,41.98,23.99,16.49,70.89,128.97,20.99,45.58,16.49,41.98,91.16,68.37,63.98,95.96,23.99,172.0,68.37,516.0,171.96,171.96,41.98,16.49,688.0,516.0,62.97,62.97,41.98,23.99,128.97,83.96,68.37,95.97,32.98,16.49,85.98,68.37,71.97,16.49,141.78,212.67000000000002,516.0,85.98,20.99,41.98,42.99,68.37,70.89,70.89,91.16,688.0,688.0,49.47,688.0,91.16,68.37,23.99,65.96,70.89,85.98,47.98,283.56,688.0,68.37,70.89,516.0,20.99,91.16,95.97,63.98,63.98,23.99,20.99,22.79,41.98,63.98,63.98,31.99,688.0,83.96,41.98,71.97,23.99,71.97],\"yaxis\":\"y\"}],                        {\"barmode\":\"stack\",\"legend\":{\"title\":{\"text\":\"Se\\u00e7\\u00e3o\"},\"tracegroupgap\":0},\"margin\":{\"t\":60},\"template\":{\"data\":{\"bar\":[{\"error_x\":{\"color\":\"#2a3f5f\"},\"error_y\":{\"color\":\"#2a3f5f\"},\"marker\":{\"line\":{\"color\":\"#E5ECF6\",\"width\":0.5},\"pattern\":{\"fillmode\":\"overlay\",\"size\":10,\"solidity\":0.2}},\"type\":\"bar\"}],\"barpolar\":[{\"marker\":{\"line\":{\"color\":\"#E5ECF6\",\"width\":0.5},\"pattern\":{\"fillmode\":\"overlay\",\"size\":10,\"solidity\":0.2}},\"type\":\"barpolar\"}],\"carpet\":[{\"aaxis\":{\"endlinecolor\":\"#2a3f5f\",\"gridcolor\":\"white\",\"linecolor\":\"white\",\"minorgridcolor\":\"white\",\"startlinecolor\":\"#2a3f5f\"},\"baxis\":{\"endlinecolor\":\"#2a3f5f\",\"gridcolor\":\"white\",\"linecolor\":\"white\",\"minorgridcolor\":\"white\",\"startlinecolor\":\"#2a3f5f\"},\"type\":\"carpet\"}],\"choropleth\":[{\"colorbar\":{\"outlinewidth\":0,\"ticks\":\"\"},\"type\":\"choropleth\"}],\"contour\":[{\"colorbar\":{\"outlinewidth\":0,\"ticks\":\"\"},\"colorscale\":[[0.0,\"#0d0887\"],[0.1111111111111111,\"#46039f\"],[0.2222222222222222,\"#7201a8\"],[0.3333333333333333,\"#9c179e\"],[0.4444444444444444,\"#bd3786\"],[0.5555555555555556,\"#d8576b\"],[0.6666666666666666,\"#ed7953\"],[0.7777777777777778,\"#fb9f3a\"],[0.8888888888888888,\"#fdca26\"],[1.0,\"#f0f921\"]],\"type\":\"contour\"}],\"contourcarpet\":[{\"colorbar\":{\"outlinewidth\":0,\"ticks\":\"\"},\"type\":\"contourcarpet\"}],\"heatmap\":[{\"colorbar\":{\"outlinewidth\":0,\"ticks\":\"\"},\"colorscale\":[[0.0,\"#0d0887\"],[0.1111111111111111,\"#46039f\"],[0.2222222222222222,\"#7201a8\"],[0.3333333333333333,\"#9c179e\"],[0.4444444444444444,\"#bd3786\"],[0.5555555555555556,\"#d8576b\"],[0.6666666666666666,\"#ed7953\"],[0.7777777777777778,\"#fb9f3a\"],[0.8888888888888888,\"#fdca26\"],[1.0,\"#f0f921\"]],\"type\":\"heatmap\"}],\"heatmapgl\":[{\"colorbar\":{\"outlinewidth\":0,\"ticks\":\"\"},\"colorscale\":[[0.0,\"#0d0887\"],[0.1111111111111111,\"#46039f\"],[0.2222222222222222,\"#7201a8\"],[0.3333333333333333,\"#9c179e\"],[0.4444444444444444,\"#bd3786\"],[0.5555555555555556,\"#d8576b\"],[0.6666666666666666,\"#ed7953\"],[0.7777777777777778,\"#fb9f3a\"],[0.8888888888888888,\"#fdca26\"],[1.0,\"#f0f921\"]],\"type\":\"heatmapgl\"}],\"histogram\":[{\"marker\":{\"pattern\":{\"fillmode\":\"overlay\",\"size\":10,\"solidity\":0.2}},\"type\":\"histogram\"}],\"histogram2d\":[{\"colorbar\":{\"outlinewidth\":0,\"ticks\":\"\"},\"colorscale\":[[0.0,\"#0d0887\"],[0.1111111111111111,\"#46039f\"],[0.2222222222222222,\"#7201a8\"],[0.3333333333333333,\"#9c179e\"],[0.4444444444444444,\"#bd3786\"],[0.5555555555555556,\"#d8576b\"],[0.6666666666666666,\"#ed7953\"],[0.7777777777777778,\"#fb9f3a\"],[0.8888888888888888,\"#fdca26\"],[1.0,\"#f0f921\"]],\"type\":\"histogram2d\"}],\"histogram2dcontour\":[{\"colorbar\":{\"outlinewidth\":0,\"ticks\":\"\"},\"colorscale\":[[0.0,\"#0d0887\"],[0.1111111111111111,\"#46039f\"],[0.2222222222222222,\"#7201a8\"],[0.3333333333333333,\"#9c179e\"],[0.4444444444444444,\"#bd3786\"],[0.5555555555555556,\"#d8576b\"],[0.6666666666666666,\"#ed7953\"],[0.7777777777777778,\"#fb9f3a\"],[0.8888888888888888,\"#fdca26\"],[1.0,\"#f0f921\"]],\"type\":\"histogram2dcontour\"}],\"mesh3d\":[{\"colorbar\":{\"outlinewidth\":0,\"ticks\":\"\"},\"type\":\"mesh3d\"}],\"parcoords\":[{\"line\":{\"colorbar\":{\"outlinewidth\":0,\"ticks\":\"\"}},\"type\":\"parcoords\"}],\"pie\":[{\"automargin\":true,\"type\":\"pie\"}],\"scatter\":[{\"marker\":{\"colorbar\":{\"outlinewidth\":0,\"ticks\":\"\"}},\"type\":\"scatter\"}],\"scatter3d\":[{\"line\":{\"colorbar\":{\"outlinewidth\":0,\"ticks\":\"\"}},\"marker\":{\"colorbar\":{\"outlinewidth\":0,\"ticks\":\"\"}},\"type\":\"scatter3d\"}],\"scattercarpet\":[{\"marker\":{\"colorbar\":{\"outlinewidth\":0,\"ticks\":\"\"}},\"type\":\"scattercarpet\"}],\"scattergeo\":[{\"marker\":{\"colorbar\":{\"outlinewidth\":0,\"ticks\":\"\"}},\"type\":\"scattergeo\"}],\"scattergl\":[{\"marker\":{\"colorbar\":{\"outlinewidth\":0,\"ticks\":\"\"}},\"type\":\"scattergl\"}],\"scattermapbox\":[{\"marker\":{\"colorbar\":{\"outlinewidth\":0,\"ticks\":\"\"}},\"type\":\"scattermapbox\"}],\"scatterpolar\":[{\"marker\":{\"colorbar\":{\"outlinewidth\":0,\"ticks\":\"\"}},\"type\":\"scatterpolar\"}],\"scatterpolargl\":[{\"marker\":{\"colorbar\":{\"outlinewidth\":0,\"ticks\":\"\"}},\"type\":\"scatterpolargl\"}],\"scatterternary\":[{\"marker\":{\"colorbar\":{\"outlinewidth\":0,\"ticks\":\"\"}},\"type\":\"scatterternary\"}],\"surface\":[{\"colorbar\":{\"outlinewidth\":0,\"ticks\":\"\"},\"colorscale\":[[0.0,\"#0d0887\"],[0.1111111111111111,\"#46039f\"],[0.2222222222222222,\"#7201a8\"],[0.3333333333333333,\"#9c179e\"],[0.4444444444444444,\"#bd3786\"],[0.5555555555555556,\"#d8576b\"],[0.6666666666666666,\"#ed7953\"],[0.7777777777777778,\"#fb9f3a\"],[0.8888888888888888,\"#fdca26\"],[1.0,\"#f0f921\"]],\"type\":\"surface\"}],\"table\":[{\"cells\":{\"fill\":{\"color\":\"#EBF0F8\"},\"line\":{\"color\":\"white\"}},\"header\":{\"fill\":{\"color\":\"#C8D4E3\"},\"line\":{\"color\":\"white\"}},\"type\":\"table\"}]},\"layout\":{\"annotationdefaults\":{\"arrowcolor\":\"#2a3f5f\",\"arrowhead\":0,\"arrowwidth\":1},\"autotypenumbers\":\"strict\",\"coloraxis\":{\"colorbar\":{\"outlinewidth\":0,\"ticks\":\"\"}},\"colorscale\":{\"diverging\":[[0,\"#8e0152\"],[0.1,\"#c51b7d\"],[0.2,\"#de77ae\"],[0.3,\"#f1b6da\"],[0.4,\"#fde0ef\"],[0.5,\"#f7f7f7\"],[0.6,\"#e6f5d0\"],[0.7,\"#b8e186\"],[0.8,\"#7fbc41\"],[0.9,\"#4d9221\"],[1,\"#276419\"]],\"sequential\":[[0.0,\"#0d0887\"],[0.1111111111111111,\"#46039f\"],[0.2222222222222222,\"#7201a8\"],[0.3333333333333333,\"#9c179e\"],[0.4444444444444444,\"#bd3786\"],[0.5555555555555556,\"#d8576b\"],[0.6666666666666666,\"#ed7953\"],[0.7777777777777778,\"#fb9f3a\"],[0.8888888888888888,\"#fdca26\"],[1.0,\"#f0f921\"]],\"sequentialminus\":[[0.0,\"#0d0887\"],[0.1111111111111111,\"#46039f\"],[0.2222222222222222,\"#7201a8\"],[0.3333333333333333,\"#9c179e\"],[0.4444444444444444,\"#bd3786\"],[0.5555555555555556,\"#d8576b\"],[0.6666666666666666,\"#ed7953\"],[0.7777777777777778,\"#fb9f3a\"],[0.8888888888888888,\"#fdca26\"],[1.0,\"#f0f921\"]]},\"colorway\":[\"#636efa\",\"#EF553B\",\"#00cc96\",\"#ab63fa\",\"#FFA15A\",\"#19d3f3\",\"#FF6692\",\"#B6E880\",\"#FF97FF\",\"#FECB52\"],\"font\":{\"color\":\"#2a3f5f\"},\"geo\":{\"bgcolor\":\"white\",\"lakecolor\":\"white\",\"landcolor\":\"#E5ECF6\",\"showlakes\":true,\"showland\":true,\"subunitcolor\":\"white\"},\"hoverlabel\":{\"align\":\"left\"},\"hovermode\":\"closest\",\"mapbox\":{\"style\":\"light\"},\"paper_bgcolor\":\"white\",\"plot_bgcolor\":\"#E5ECF6\",\"polar\":{\"angularaxis\":{\"gridcolor\":\"white\",\"linecolor\":\"white\",\"ticks\":\"\"},\"bgcolor\":\"#E5ECF6\",\"radialaxis\":{\"gridcolor\":\"white\",\"linecolor\":\"white\",\"ticks\":\"\"}},\"scene\":{\"xaxis\":{\"backgroundcolor\":\"#E5ECF6\",\"gridcolor\":\"white\",\"gridwidth\":2,\"linecolor\":\"white\",\"showbackground\":true,\"ticks\":\"\",\"zerolinecolor\":\"white\"},\"yaxis\":{\"backgroundcolor\":\"#E5ECF6\",\"gridcolor\":\"white\",\"gridwidth\":2,\"linecolor\":\"white\",\"showbackground\":true,\"ticks\":\"\",\"zerolinecolor\":\"white\"},\"zaxis\":{\"backgroundcolor\":\"#E5ECF6\",\"gridcolor\":\"white\",\"gridwidth\":2,\"linecolor\":\"white\",\"showbackground\":true,\"ticks\":\"\",\"zerolinecolor\":\"white\"}},\"shapedefaults\":{\"line\":{\"color\":\"#2a3f5f\"}},\"ternary\":{\"aaxis\":{\"gridcolor\":\"white\",\"linecolor\":\"white\",\"ticks\":\"\"},\"baxis\":{\"gridcolor\":\"white\",\"linecolor\":\"white\",\"ticks\":\"\"},\"bgcolor\":\"#E5ECF6\",\"caxis\":{\"gridcolor\":\"white\",\"linecolor\":\"white\",\"ticks\":\"\"}},\"title\":{\"x\":0.05},\"xaxis\":{\"automargin\":true,\"gridcolor\":\"white\",\"linecolor\":\"white\",\"ticks\":\"\",\"title\":{\"standoff\":15},\"zerolinecolor\":\"white\",\"zerolinewidth\":2},\"yaxis\":{\"automargin\":true,\"gridcolor\":\"white\",\"linecolor\":\"white\",\"ticks\":\"\",\"title\":{\"standoff\":15},\"zerolinecolor\":\"white\",\"zerolinewidth\":2}}},\"title\":{\"text\":\"Os 10 clientes que mais gastam\"},\"xaxis\":{\"anchor\":\"y\",\"domain\":[0.0,1.0],\"title\":{\"text\":\"Nome do cliente\"}},\"yaxis\":{\"anchor\":\"x\",\"domain\":[0.0,1.0],\"title\":{\"text\":\"Total da compra do produto\"}}},                        {\"responsive\": true}                    ).then(function(){\n",
       "                            \n",
       "var gd = document.getElementById('5a825501-61e1-4c09-89be-099f5a4c62a8');\n",
       "var x = new MutationObserver(function (mutations, observer) {{\n",
       "        var display = window.getComputedStyle(gd).display;\n",
       "        if (!display || display === 'none') {{\n",
       "            console.log([gd, 'removed!']);\n",
       "            Plotly.purge(gd);\n",
       "            observer.disconnect();\n",
       "        }}\n",
       "}});\n",
       "\n",
       "// Listen for the removal of the full notebook cells\n",
       "var notebookContainer = gd.closest('#notebook-container');\n",
       "if (notebookContainer) {{\n",
       "    x.observe(notebookContainer, {childList: true});\n",
       "}}\n",
       "\n",
       "// Listen for the clearing of the current output cell\n",
       "var outputEl = gd.closest('.output');\n",
       "if (outputEl) {{\n",
       "    x.observe(outputEl, {childList: true});\n",
       "}}\n",
       "\n",
       "                        })                };                });            </script>        </div>"
      ]
     },
     "metadata": {},
     "output_type": "display_data"
    }
   ],
   "source": [
    "fig_total_cliente = px.bar(venda_produtos_cliente_pt, x=\"nome_cliente\", y=\"total_preco\", color=\"secao\", barmode = 'stack', hover_data=['nome', 'data', 'preco'],\n",
    "             labels={\"total_preco\": \"Total da compra do produto\", \"nome_cliente\": \"Nome do cliente\", \"nome\":\"Produto\", \"data\":\"Data\", \"preco\":\"Preço do produto\", \"secao\":\"Seção\"})\n",
    "fig_total_cliente.update_layout(title = 'Os 10 clientes que mais gastam')\n",
    "fig_total_cliente.show()"
   ]
  },
  {
   "cell_type": "code",
   "execution_count": null,
   "id": "9cb92bb7",
   "metadata": {},
   "outputs": [],
   "source": []
  },
  {
   "cell_type": "code",
   "execution_count": null,
   "id": "edb1fdfb",
   "metadata": {},
   "outputs": [],
   "source": []
  },
  {
   "cell_type": "markdown",
   "id": "fda6e07d",
   "metadata": {},
   "source": [
    "## Análise tempo"
   ]
  },
  {
   "cell_type": "code",
   "execution_count": 66,
   "id": "1fb25e01",
   "metadata": {},
   "outputs": [
    {
     "data": {
      "application/vnd.plotly.v1+json": {
       "config": {
        "plotlyServerURL": "https://plot.ly"
       },
       "data": [
        {
         "hovertemplate": "Data=%{x}<br>Total gasto pelo clientes=%{y}<extra></extra>",
         "legendgroup": "",
         "line": {
          "color": "#636efa",
          "dash": "solid"
         },
         "marker": {
          "symbol": "circle"
         },
         "mode": "lines",
         "name": "",
         "orientation": "v",
         "showlegend": false,
         "type": "scatter",
         "x": [
          "2021-11-01",
          "2021-11-02",
          "2021-11-05",
          "2021-11-06",
          "2021-11-07",
          "2021-11-08",
          "2021-11-09",
          "2021-11-10",
          "2021-11-11",
          "2021-11-12",
          "2021-11-13",
          "2021-11-14",
          "2021-11-15",
          "2021-11-17",
          "2021-11-18",
          "2021-11-21",
          "2021-11-22",
          "2021-11-24",
          "2021-11-27",
          "2021-11-28",
          "2021-11-29",
          "2021-11-30"
         ],
         "xaxis": "x",
         "y": [
          1695.0100000000002,
          4067.239999999998,
          538.89,
          559.6500000000001,
          3597.4199999999983,
          390.68,
          1897.9300000000003,
          204.88,
          844.57,
          4757.619999999998,
          2396.87,
          15.99,
          11.98,
          70.89,
          95.96,
          31.96,
          51.96,
          15.98,
          167.93,
          7.4399999999999995,
          17.24,
          59.93
         ],
         "yaxis": "y"
        }
       ],
       "layout": {
        "annotations": [
         {
          "arrowhead": 3,
          "ay": -40,
          "font": {
           "size": 11
          },
          "showarrow": true,
          "text": "<b>Maior pico de vendas<br> em novembro</b>",
          "x": "2021-11-08",
          "y": 1016.66
         }
        ],
        "height": 500,
        "legend": {
         "tracegroupgap": 0
        },
        "margin": {
         "t": 60
        },
        "template": {
         "data": {
          "bar": [
           {
            "error_x": {
             "color": "#2a3f5f"
            },
            "error_y": {
             "color": "#2a3f5f"
            },
            "marker": {
             "line": {
              "color": "#E5ECF6",
              "width": 0.5
             },
             "pattern": {
              "fillmode": "overlay",
              "size": 10,
              "solidity": 0.2
             }
            },
            "type": "bar"
           }
          ],
          "barpolar": [
           {
            "marker": {
             "line": {
              "color": "#E5ECF6",
              "width": 0.5
             },
             "pattern": {
              "fillmode": "overlay",
              "size": 10,
              "solidity": 0.2
             }
            },
            "type": "barpolar"
           }
          ],
          "carpet": [
           {
            "aaxis": {
             "endlinecolor": "#2a3f5f",
             "gridcolor": "white",
             "linecolor": "white",
             "minorgridcolor": "white",
             "startlinecolor": "#2a3f5f"
            },
            "baxis": {
             "endlinecolor": "#2a3f5f",
             "gridcolor": "white",
             "linecolor": "white",
             "minorgridcolor": "white",
             "startlinecolor": "#2a3f5f"
            },
            "type": "carpet"
           }
          ],
          "choropleth": [
           {
            "colorbar": {
             "outlinewidth": 0,
             "ticks": ""
            },
            "type": "choropleth"
           }
          ],
          "contour": [
           {
            "colorbar": {
             "outlinewidth": 0,
             "ticks": ""
            },
            "colorscale": [
             [
              0,
              "#0d0887"
             ],
             [
              0.1111111111111111,
              "#46039f"
             ],
             [
              0.2222222222222222,
              "#7201a8"
             ],
             [
              0.3333333333333333,
              "#9c179e"
             ],
             [
              0.4444444444444444,
              "#bd3786"
             ],
             [
              0.5555555555555556,
              "#d8576b"
             ],
             [
              0.6666666666666666,
              "#ed7953"
             ],
             [
              0.7777777777777778,
              "#fb9f3a"
             ],
             [
              0.8888888888888888,
              "#fdca26"
             ],
             [
              1,
              "#f0f921"
             ]
            ],
            "type": "contour"
           }
          ],
          "contourcarpet": [
           {
            "colorbar": {
             "outlinewidth": 0,
             "ticks": ""
            },
            "type": "contourcarpet"
           }
          ],
          "heatmap": [
           {
            "colorbar": {
             "outlinewidth": 0,
             "ticks": ""
            },
            "colorscale": [
             [
              0,
              "#0d0887"
             ],
             [
              0.1111111111111111,
              "#46039f"
             ],
             [
              0.2222222222222222,
              "#7201a8"
             ],
             [
              0.3333333333333333,
              "#9c179e"
             ],
             [
              0.4444444444444444,
              "#bd3786"
             ],
             [
              0.5555555555555556,
              "#d8576b"
             ],
             [
              0.6666666666666666,
              "#ed7953"
             ],
             [
              0.7777777777777778,
              "#fb9f3a"
             ],
             [
              0.8888888888888888,
              "#fdca26"
             ],
             [
              1,
              "#f0f921"
             ]
            ],
            "type": "heatmap"
           }
          ],
          "heatmapgl": [
           {
            "colorbar": {
             "outlinewidth": 0,
             "ticks": ""
            },
            "colorscale": [
             [
              0,
              "#0d0887"
             ],
             [
              0.1111111111111111,
              "#46039f"
             ],
             [
              0.2222222222222222,
              "#7201a8"
             ],
             [
              0.3333333333333333,
              "#9c179e"
             ],
             [
              0.4444444444444444,
              "#bd3786"
             ],
             [
              0.5555555555555556,
              "#d8576b"
             ],
             [
              0.6666666666666666,
              "#ed7953"
             ],
             [
              0.7777777777777778,
              "#fb9f3a"
             ],
             [
              0.8888888888888888,
              "#fdca26"
             ],
             [
              1,
              "#f0f921"
             ]
            ],
            "type": "heatmapgl"
           }
          ],
          "histogram": [
           {
            "marker": {
             "pattern": {
              "fillmode": "overlay",
              "size": 10,
              "solidity": 0.2
             }
            },
            "type": "histogram"
           }
          ],
          "histogram2d": [
           {
            "colorbar": {
             "outlinewidth": 0,
             "ticks": ""
            },
            "colorscale": [
             [
              0,
              "#0d0887"
             ],
             [
              0.1111111111111111,
              "#46039f"
             ],
             [
              0.2222222222222222,
              "#7201a8"
             ],
             [
              0.3333333333333333,
              "#9c179e"
             ],
             [
              0.4444444444444444,
              "#bd3786"
             ],
             [
              0.5555555555555556,
              "#d8576b"
             ],
             [
              0.6666666666666666,
              "#ed7953"
             ],
             [
              0.7777777777777778,
              "#fb9f3a"
             ],
             [
              0.8888888888888888,
              "#fdca26"
             ],
             [
              1,
              "#f0f921"
             ]
            ],
            "type": "histogram2d"
           }
          ],
          "histogram2dcontour": [
           {
            "colorbar": {
             "outlinewidth": 0,
             "ticks": ""
            },
            "colorscale": [
             [
              0,
              "#0d0887"
             ],
             [
              0.1111111111111111,
              "#46039f"
             ],
             [
              0.2222222222222222,
              "#7201a8"
             ],
             [
              0.3333333333333333,
              "#9c179e"
             ],
             [
              0.4444444444444444,
              "#bd3786"
             ],
             [
              0.5555555555555556,
              "#d8576b"
             ],
             [
              0.6666666666666666,
              "#ed7953"
             ],
             [
              0.7777777777777778,
              "#fb9f3a"
             ],
             [
              0.8888888888888888,
              "#fdca26"
             ],
             [
              1,
              "#f0f921"
             ]
            ],
            "type": "histogram2dcontour"
           }
          ],
          "mesh3d": [
           {
            "colorbar": {
             "outlinewidth": 0,
             "ticks": ""
            },
            "type": "mesh3d"
           }
          ],
          "parcoords": [
           {
            "line": {
             "colorbar": {
              "outlinewidth": 0,
              "ticks": ""
             }
            },
            "type": "parcoords"
           }
          ],
          "pie": [
           {
            "automargin": true,
            "type": "pie"
           }
          ],
          "scatter": [
           {
            "marker": {
             "colorbar": {
              "outlinewidth": 0,
              "ticks": ""
             }
            },
            "type": "scatter"
           }
          ],
          "scatter3d": [
           {
            "line": {
             "colorbar": {
              "outlinewidth": 0,
              "ticks": ""
             }
            },
            "marker": {
             "colorbar": {
              "outlinewidth": 0,
              "ticks": ""
             }
            },
            "type": "scatter3d"
           }
          ],
          "scattercarpet": [
           {
            "marker": {
             "colorbar": {
              "outlinewidth": 0,
              "ticks": ""
             }
            },
            "type": "scattercarpet"
           }
          ],
          "scattergeo": [
           {
            "marker": {
             "colorbar": {
              "outlinewidth": 0,
              "ticks": ""
             }
            },
            "type": "scattergeo"
           }
          ],
          "scattergl": [
           {
            "marker": {
             "colorbar": {
              "outlinewidth": 0,
              "ticks": ""
             }
            },
            "type": "scattergl"
           }
          ],
          "scattermapbox": [
           {
            "marker": {
             "colorbar": {
              "outlinewidth": 0,
              "ticks": ""
             }
            },
            "type": "scattermapbox"
           }
          ],
          "scatterpolar": [
           {
            "marker": {
             "colorbar": {
              "outlinewidth": 0,
              "ticks": ""
             }
            },
            "type": "scatterpolar"
           }
          ],
          "scatterpolargl": [
           {
            "marker": {
             "colorbar": {
              "outlinewidth": 0,
              "ticks": ""
             }
            },
            "type": "scatterpolargl"
           }
          ],
          "scatterternary": [
           {
            "marker": {
             "colorbar": {
              "outlinewidth": 0,
              "ticks": ""
             }
            },
            "type": "scatterternary"
           }
          ],
          "surface": [
           {
            "colorbar": {
             "outlinewidth": 0,
             "ticks": ""
            },
            "colorscale": [
             [
              0,
              "#0d0887"
             ],
             [
              0.1111111111111111,
              "#46039f"
             ],
             [
              0.2222222222222222,
              "#7201a8"
             ],
             [
              0.3333333333333333,
              "#9c179e"
             ],
             [
              0.4444444444444444,
              "#bd3786"
             ],
             [
              0.5555555555555556,
              "#d8576b"
             ],
             [
              0.6666666666666666,
              "#ed7953"
             ],
             [
              0.7777777777777778,
              "#fb9f3a"
             ],
             [
              0.8888888888888888,
              "#fdca26"
             ],
             [
              1,
              "#f0f921"
             ]
            ],
            "type": "surface"
           }
          ],
          "table": [
           {
            "cells": {
             "fill": {
              "color": "#EBF0F8"
             },
             "line": {
              "color": "white"
             }
            },
            "header": {
             "fill": {
              "color": "#C8D4E3"
             },
             "line": {
              "color": "white"
             }
            },
            "type": "table"
           }
          ]
         },
         "layout": {
          "annotationdefaults": {
           "arrowcolor": "#2a3f5f",
           "arrowhead": 0,
           "arrowwidth": 1
          },
          "autotypenumbers": "strict",
          "coloraxis": {
           "colorbar": {
            "outlinewidth": 0,
            "ticks": ""
           }
          },
          "colorscale": {
           "diverging": [
            [
             0,
             "#8e0152"
            ],
            [
             0.1,
             "#c51b7d"
            ],
            [
             0.2,
             "#de77ae"
            ],
            [
             0.3,
             "#f1b6da"
            ],
            [
             0.4,
             "#fde0ef"
            ],
            [
             0.5,
             "#f7f7f7"
            ],
            [
             0.6,
             "#e6f5d0"
            ],
            [
             0.7,
             "#b8e186"
            ],
            [
             0.8,
             "#7fbc41"
            ],
            [
             0.9,
             "#4d9221"
            ],
            [
             1,
             "#276419"
            ]
           ],
           "sequential": [
            [
             0,
             "#0d0887"
            ],
            [
             0.1111111111111111,
             "#46039f"
            ],
            [
             0.2222222222222222,
             "#7201a8"
            ],
            [
             0.3333333333333333,
             "#9c179e"
            ],
            [
             0.4444444444444444,
             "#bd3786"
            ],
            [
             0.5555555555555556,
             "#d8576b"
            ],
            [
             0.6666666666666666,
             "#ed7953"
            ],
            [
             0.7777777777777778,
             "#fb9f3a"
            ],
            [
             0.8888888888888888,
             "#fdca26"
            ],
            [
             1,
             "#f0f921"
            ]
           ],
           "sequentialminus": [
            [
             0,
             "#0d0887"
            ],
            [
             0.1111111111111111,
             "#46039f"
            ],
            [
             0.2222222222222222,
             "#7201a8"
            ],
            [
             0.3333333333333333,
             "#9c179e"
            ],
            [
             0.4444444444444444,
             "#bd3786"
            ],
            [
             0.5555555555555556,
             "#d8576b"
            ],
            [
             0.6666666666666666,
             "#ed7953"
            ],
            [
             0.7777777777777778,
             "#fb9f3a"
            ],
            [
             0.8888888888888888,
             "#fdca26"
            ],
            [
             1,
             "#f0f921"
            ]
           ]
          },
          "colorway": [
           "#636efa",
           "#EF553B",
           "#00cc96",
           "#ab63fa",
           "#FFA15A",
           "#19d3f3",
           "#FF6692",
           "#B6E880",
           "#FF97FF",
           "#FECB52"
          ],
          "font": {
           "color": "#2a3f5f"
          },
          "geo": {
           "bgcolor": "white",
           "lakecolor": "white",
           "landcolor": "#E5ECF6",
           "showlakes": true,
           "showland": true,
           "subunitcolor": "white"
          },
          "hoverlabel": {
           "align": "left"
          },
          "hovermode": "closest",
          "mapbox": {
           "style": "light"
          },
          "paper_bgcolor": "white",
          "plot_bgcolor": "#E5ECF6",
          "polar": {
           "angularaxis": {
            "gridcolor": "white",
            "linecolor": "white",
            "ticks": ""
           },
           "bgcolor": "#E5ECF6",
           "radialaxis": {
            "gridcolor": "white",
            "linecolor": "white",
            "ticks": ""
           }
          },
          "scene": {
           "xaxis": {
            "backgroundcolor": "#E5ECF6",
            "gridcolor": "white",
            "gridwidth": 2,
            "linecolor": "white",
            "showbackground": true,
            "ticks": "",
            "zerolinecolor": "white"
           },
           "yaxis": {
            "backgroundcolor": "#E5ECF6",
            "gridcolor": "white",
            "gridwidth": 2,
            "linecolor": "white",
            "showbackground": true,
            "ticks": "",
            "zerolinecolor": "white"
           },
           "zaxis": {
            "backgroundcolor": "#E5ECF6",
            "gridcolor": "white",
            "gridwidth": 2,
            "linecolor": "white",
            "showbackground": true,
            "ticks": "",
            "zerolinecolor": "white"
           }
          },
          "shapedefaults": {
           "line": {
            "color": "#2a3f5f"
           }
          },
          "ternary": {
           "aaxis": {
            "gridcolor": "white",
            "linecolor": "white",
            "ticks": ""
           },
           "baxis": {
            "gridcolor": "white",
            "linecolor": "white",
            "ticks": ""
           },
           "bgcolor": "#E5ECF6",
           "caxis": {
            "gridcolor": "white",
            "linecolor": "white",
            "ticks": ""
           }
          },
          "title": {
           "x": 0.05
          },
          "xaxis": {
           "automargin": true,
           "gridcolor": "white",
           "linecolor": "white",
           "ticks": "",
           "title": {
            "standoff": 15
           },
           "zerolinecolor": "white",
           "zerolinewidth": 2
          },
          "yaxis": {
           "automargin": true,
           "gridcolor": "white",
           "linecolor": "white",
           "ticks": "",
           "title": {
            "standoff": 15
           },
           "zerolinecolor": "white",
           "zerolinewidth": 2
          }
         }
        },
        "width": 800,
        "xaxis": {
         "anchor": "y",
         "domain": [
          0,
          1
         ],
         "title": {
          "text": "Data"
         }
        },
        "yaxis": {
         "anchor": "x",
         "domain": [
          0,
          1
         ],
         "title": {
          "text": "Total gasto pelo clientes"
         }
        }
       }
      },
      "text/html": [
       "<div>                            <div id=\"409e07b9-922b-4dca-a2b1-217905bdfc35\" class=\"plotly-graph-div\" style=\"height:500px; width:800px;\"></div>            <script type=\"text/javascript\">                require([\"plotly\"], function(Plotly) {                    window.PLOTLYENV=window.PLOTLYENV || {};                                    if (document.getElementById(\"409e07b9-922b-4dca-a2b1-217905bdfc35\")) {                    Plotly.newPlot(                        \"409e07b9-922b-4dca-a2b1-217905bdfc35\",                        [{\"hovertemplate\":\"Data=%{x}<br>Total gasto pelo clientes=%{y}<extra></extra>\",\"legendgroup\":\"\",\"line\":{\"color\":\"#636efa\",\"dash\":\"solid\"},\"marker\":{\"symbol\":\"circle\"},\"mode\":\"lines\",\"name\":\"\",\"orientation\":\"v\",\"showlegend\":false,\"type\":\"scatter\",\"x\":[\"2021-11-01\",\"2021-11-02\",\"2021-11-05\",\"2021-11-06\",\"2021-11-07\",\"2021-11-08\",\"2021-11-09\",\"2021-11-10\",\"2021-11-11\",\"2021-11-12\",\"2021-11-13\",\"2021-11-14\",\"2021-11-15\",\"2021-11-17\",\"2021-11-18\",\"2021-11-21\",\"2021-11-22\",\"2021-11-24\",\"2021-11-27\",\"2021-11-28\",\"2021-11-29\",\"2021-11-30\"],\"xaxis\":\"x\",\"y\":[1695.0100000000002,4067.239999999998,538.89,559.6500000000001,3597.4199999999983,390.68,1897.9300000000003,204.88,844.57,4757.619999999998,2396.87,15.99,11.98,70.89,95.96,31.96,51.96,15.98,167.93,7.4399999999999995,17.24,59.93],\"yaxis\":\"y\"}],                        {\"annotations\":[{\"arrowhead\":3,\"ay\":-40,\"font\":{\"size\":11},\"showarrow\":true,\"text\":\"<b>Maior pico de vendas<br> em novembro</b>\",\"x\":\"2021-11-08\",\"y\":1016.66}],\"height\":500,\"legend\":{\"tracegroupgap\":0},\"margin\":{\"t\":60},\"template\":{\"data\":{\"bar\":[{\"error_x\":{\"color\":\"#2a3f5f\"},\"error_y\":{\"color\":\"#2a3f5f\"},\"marker\":{\"line\":{\"color\":\"#E5ECF6\",\"width\":0.5},\"pattern\":{\"fillmode\":\"overlay\",\"size\":10,\"solidity\":0.2}},\"type\":\"bar\"}],\"barpolar\":[{\"marker\":{\"line\":{\"color\":\"#E5ECF6\",\"width\":0.5},\"pattern\":{\"fillmode\":\"overlay\",\"size\":10,\"solidity\":0.2}},\"type\":\"barpolar\"}],\"carpet\":[{\"aaxis\":{\"endlinecolor\":\"#2a3f5f\",\"gridcolor\":\"white\",\"linecolor\":\"white\",\"minorgridcolor\":\"white\",\"startlinecolor\":\"#2a3f5f\"},\"baxis\":{\"endlinecolor\":\"#2a3f5f\",\"gridcolor\":\"white\",\"linecolor\":\"white\",\"minorgridcolor\":\"white\",\"startlinecolor\":\"#2a3f5f\"},\"type\":\"carpet\"}],\"choropleth\":[{\"colorbar\":{\"outlinewidth\":0,\"ticks\":\"\"},\"type\":\"choropleth\"}],\"contour\":[{\"colorbar\":{\"outlinewidth\":0,\"ticks\":\"\"},\"colorscale\":[[0.0,\"#0d0887\"],[0.1111111111111111,\"#46039f\"],[0.2222222222222222,\"#7201a8\"],[0.3333333333333333,\"#9c179e\"],[0.4444444444444444,\"#bd3786\"],[0.5555555555555556,\"#d8576b\"],[0.6666666666666666,\"#ed7953\"],[0.7777777777777778,\"#fb9f3a\"],[0.8888888888888888,\"#fdca26\"],[1.0,\"#f0f921\"]],\"type\":\"contour\"}],\"contourcarpet\":[{\"colorbar\":{\"outlinewidth\":0,\"ticks\":\"\"},\"type\":\"contourcarpet\"}],\"heatmap\":[{\"colorbar\":{\"outlinewidth\":0,\"ticks\":\"\"},\"colorscale\":[[0.0,\"#0d0887\"],[0.1111111111111111,\"#46039f\"],[0.2222222222222222,\"#7201a8\"],[0.3333333333333333,\"#9c179e\"],[0.4444444444444444,\"#bd3786\"],[0.5555555555555556,\"#d8576b\"],[0.6666666666666666,\"#ed7953\"],[0.7777777777777778,\"#fb9f3a\"],[0.8888888888888888,\"#fdca26\"],[1.0,\"#f0f921\"]],\"type\":\"heatmap\"}],\"heatmapgl\":[{\"colorbar\":{\"outlinewidth\":0,\"ticks\":\"\"},\"colorscale\":[[0.0,\"#0d0887\"],[0.1111111111111111,\"#46039f\"],[0.2222222222222222,\"#7201a8\"],[0.3333333333333333,\"#9c179e\"],[0.4444444444444444,\"#bd3786\"],[0.5555555555555556,\"#d8576b\"],[0.6666666666666666,\"#ed7953\"],[0.7777777777777778,\"#fb9f3a\"],[0.8888888888888888,\"#fdca26\"],[1.0,\"#f0f921\"]],\"type\":\"heatmapgl\"}],\"histogram\":[{\"marker\":{\"pattern\":{\"fillmode\":\"overlay\",\"size\":10,\"solidity\":0.2}},\"type\":\"histogram\"}],\"histogram2d\":[{\"colorbar\":{\"outlinewidth\":0,\"ticks\":\"\"},\"colorscale\":[[0.0,\"#0d0887\"],[0.1111111111111111,\"#46039f\"],[0.2222222222222222,\"#7201a8\"],[0.3333333333333333,\"#9c179e\"],[0.4444444444444444,\"#bd3786\"],[0.5555555555555556,\"#d8576b\"],[0.6666666666666666,\"#ed7953\"],[0.7777777777777778,\"#fb9f3a\"],[0.8888888888888888,\"#fdca26\"],[1.0,\"#f0f921\"]],\"type\":\"histogram2d\"}],\"histogram2dcontour\":[{\"colorbar\":{\"outlinewidth\":0,\"ticks\":\"\"},\"colorscale\":[[0.0,\"#0d0887\"],[0.1111111111111111,\"#46039f\"],[0.2222222222222222,\"#7201a8\"],[0.3333333333333333,\"#9c179e\"],[0.4444444444444444,\"#bd3786\"],[0.5555555555555556,\"#d8576b\"],[0.6666666666666666,\"#ed7953\"],[0.7777777777777778,\"#fb9f3a\"],[0.8888888888888888,\"#fdca26\"],[1.0,\"#f0f921\"]],\"type\":\"histogram2dcontour\"}],\"mesh3d\":[{\"colorbar\":{\"outlinewidth\":0,\"ticks\":\"\"},\"type\":\"mesh3d\"}],\"parcoords\":[{\"line\":{\"colorbar\":{\"outlinewidth\":0,\"ticks\":\"\"}},\"type\":\"parcoords\"}],\"pie\":[{\"automargin\":true,\"type\":\"pie\"}],\"scatter\":[{\"marker\":{\"colorbar\":{\"outlinewidth\":0,\"ticks\":\"\"}},\"type\":\"scatter\"}],\"scatter3d\":[{\"line\":{\"colorbar\":{\"outlinewidth\":0,\"ticks\":\"\"}},\"marker\":{\"colorbar\":{\"outlinewidth\":0,\"ticks\":\"\"}},\"type\":\"scatter3d\"}],\"scattercarpet\":[{\"marker\":{\"colorbar\":{\"outlinewidth\":0,\"ticks\":\"\"}},\"type\":\"scattercarpet\"}],\"scattergeo\":[{\"marker\":{\"colorbar\":{\"outlinewidth\":0,\"ticks\":\"\"}},\"type\":\"scattergeo\"}],\"scattergl\":[{\"marker\":{\"colorbar\":{\"outlinewidth\":0,\"ticks\":\"\"}},\"type\":\"scattergl\"}],\"scattermapbox\":[{\"marker\":{\"colorbar\":{\"outlinewidth\":0,\"ticks\":\"\"}},\"type\":\"scattermapbox\"}],\"scatterpolar\":[{\"marker\":{\"colorbar\":{\"outlinewidth\":0,\"ticks\":\"\"}},\"type\":\"scatterpolar\"}],\"scatterpolargl\":[{\"marker\":{\"colorbar\":{\"outlinewidth\":0,\"ticks\":\"\"}},\"type\":\"scatterpolargl\"}],\"scatterternary\":[{\"marker\":{\"colorbar\":{\"outlinewidth\":0,\"ticks\":\"\"}},\"type\":\"scatterternary\"}],\"surface\":[{\"colorbar\":{\"outlinewidth\":0,\"ticks\":\"\"},\"colorscale\":[[0.0,\"#0d0887\"],[0.1111111111111111,\"#46039f\"],[0.2222222222222222,\"#7201a8\"],[0.3333333333333333,\"#9c179e\"],[0.4444444444444444,\"#bd3786\"],[0.5555555555555556,\"#d8576b\"],[0.6666666666666666,\"#ed7953\"],[0.7777777777777778,\"#fb9f3a\"],[0.8888888888888888,\"#fdca26\"],[1.0,\"#f0f921\"]],\"type\":\"surface\"}],\"table\":[{\"cells\":{\"fill\":{\"color\":\"#EBF0F8\"},\"line\":{\"color\":\"white\"}},\"header\":{\"fill\":{\"color\":\"#C8D4E3\"},\"line\":{\"color\":\"white\"}},\"type\":\"table\"}]},\"layout\":{\"annotationdefaults\":{\"arrowcolor\":\"#2a3f5f\",\"arrowhead\":0,\"arrowwidth\":1},\"autotypenumbers\":\"strict\",\"coloraxis\":{\"colorbar\":{\"outlinewidth\":0,\"ticks\":\"\"}},\"colorscale\":{\"diverging\":[[0,\"#8e0152\"],[0.1,\"#c51b7d\"],[0.2,\"#de77ae\"],[0.3,\"#f1b6da\"],[0.4,\"#fde0ef\"],[0.5,\"#f7f7f7\"],[0.6,\"#e6f5d0\"],[0.7,\"#b8e186\"],[0.8,\"#7fbc41\"],[0.9,\"#4d9221\"],[1,\"#276419\"]],\"sequential\":[[0.0,\"#0d0887\"],[0.1111111111111111,\"#46039f\"],[0.2222222222222222,\"#7201a8\"],[0.3333333333333333,\"#9c179e\"],[0.4444444444444444,\"#bd3786\"],[0.5555555555555556,\"#d8576b\"],[0.6666666666666666,\"#ed7953\"],[0.7777777777777778,\"#fb9f3a\"],[0.8888888888888888,\"#fdca26\"],[1.0,\"#f0f921\"]],\"sequentialminus\":[[0.0,\"#0d0887\"],[0.1111111111111111,\"#46039f\"],[0.2222222222222222,\"#7201a8\"],[0.3333333333333333,\"#9c179e\"],[0.4444444444444444,\"#bd3786\"],[0.5555555555555556,\"#d8576b\"],[0.6666666666666666,\"#ed7953\"],[0.7777777777777778,\"#fb9f3a\"],[0.8888888888888888,\"#fdca26\"],[1.0,\"#f0f921\"]]},\"colorway\":[\"#636efa\",\"#EF553B\",\"#00cc96\",\"#ab63fa\",\"#FFA15A\",\"#19d3f3\",\"#FF6692\",\"#B6E880\",\"#FF97FF\",\"#FECB52\"],\"font\":{\"color\":\"#2a3f5f\"},\"geo\":{\"bgcolor\":\"white\",\"lakecolor\":\"white\",\"landcolor\":\"#E5ECF6\",\"showlakes\":true,\"showland\":true,\"subunitcolor\":\"white\"},\"hoverlabel\":{\"align\":\"left\"},\"hovermode\":\"closest\",\"mapbox\":{\"style\":\"light\"},\"paper_bgcolor\":\"white\",\"plot_bgcolor\":\"#E5ECF6\",\"polar\":{\"angularaxis\":{\"gridcolor\":\"white\",\"linecolor\":\"white\",\"ticks\":\"\"},\"bgcolor\":\"#E5ECF6\",\"radialaxis\":{\"gridcolor\":\"white\",\"linecolor\":\"white\",\"ticks\":\"\"}},\"scene\":{\"xaxis\":{\"backgroundcolor\":\"#E5ECF6\",\"gridcolor\":\"white\",\"gridwidth\":2,\"linecolor\":\"white\",\"showbackground\":true,\"ticks\":\"\",\"zerolinecolor\":\"white\"},\"yaxis\":{\"backgroundcolor\":\"#E5ECF6\",\"gridcolor\":\"white\",\"gridwidth\":2,\"linecolor\":\"white\",\"showbackground\":true,\"ticks\":\"\",\"zerolinecolor\":\"white\"},\"zaxis\":{\"backgroundcolor\":\"#E5ECF6\",\"gridcolor\":\"white\",\"gridwidth\":2,\"linecolor\":\"white\",\"showbackground\":true,\"ticks\":\"\",\"zerolinecolor\":\"white\"}},\"shapedefaults\":{\"line\":{\"color\":\"#2a3f5f\"}},\"ternary\":{\"aaxis\":{\"gridcolor\":\"white\",\"linecolor\":\"white\",\"ticks\":\"\"},\"baxis\":{\"gridcolor\":\"white\",\"linecolor\":\"white\",\"ticks\":\"\"},\"bgcolor\":\"#E5ECF6\",\"caxis\":{\"gridcolor\":\"white\",\"linecolor\":\"white\",\"ticks\":\"\"}},\"title\":{\"x\":0.05},\"xaxis\":{\"automargin\":true,\"gridcolor\":\"white\",\"linecolor\":\"white\",\"ticks\":\"\",\"title\":{\"standoff\":15},\"zerolinecolor\":\"white\",\"zerolinewidth\":2},\"yaxis\":{\"automargin\":true,\"gridcolor\":\"white\",\"linecolor\":\"white\",\"ticks\":\"\",\"title\":{\"standoff\":15},\"zerolinecolor\":\"white\",\"zerolinewidth\":2}}},\"width\":800,\"xaxis\":{\"anchor\":\"y\",\"domain\":[0.0,1.0],\"title\":{\"text\":\"Data\"}},\"yaxis\":{\"anchor\":\"x\",\"domain\":[0.0,1.0],\"title\":{\"text\":\"Total gasto pelo clientes\"}}},                        {\"responsive\": true}                    ).then(function(){\n",
       "                            \n",
       "var gd = document.getElementById('409e07b9-922b-4dca-a2b1-217905bdfc35');\n",
       "var x = new MutationObserver(function (mutations, observer) {{\n",
       "        var display = window.getComputedStyle(gd).display;\n",
       "        if (!display || display === 'none') {{\n",
       "            console.log([gd, 'removed!']);\n",
       "            Plotly.purge(gd);\n",
       "            observer.disconnect();\n",
       "        }}\n",
       "}});\n",
       "\n",
       "// Listen for the removal of the full notebook cells\n",
       "var notebookContainer = gd.closest('#notebook-container');\n",
       "if (notebookContainer) {{\n",
       "    x.observe(notebookContainer, {childList: true});\n",
       "}}\n",
       "\n",
       "// Listen for the clearing of the current output cell\n",
       "var outputEl = gd.closest('.output');\n",
       "if (outputEl) {{\n",
       "    x.observe(outputEl, {childList: true});\n",
       "}}\n",
       "\n",
       "                        })                };                });            </script>        </div>"
      ]
     },
     "metadata": {},
     "output_type": "display_data"
    }
   ],
   "source": [
    "venda_produtos_cliente_pt_grup_temp = venda_produtos_cliente_pt.groupby(\"data\").sum().sort_values('data').reset_index()\n",
    "\n",
    "fig_vendas_tempo = px.line(venda_produtos_cliente_pt_grup_temp, x=\"data\", y=\"total_preco\", labels={\"data\": \"Data\", \"total_preco\": \"Total gasto pelo clientes\"}, height=500, width=800) \n",
    "\n",
    "fig_vendas_tempo.update_layout(\n",
    "                #criando anotações\n",
    "                annotations=[\n",
    "                        {\"x\":\"2021-11-08\", \"y\":1016.66, \"ay\": -40, \n",
    "                        \"text\": \"<b>Maior pico de vendas<br> em novembro</b>\",\n",
    "                        \"arrowhead\": 3, \"showarrow\":True,\n",
    "                        \"font\": {\"size\": 11}}\n",
    "                    ])\n",
    "fig_vendas_tempo.show()"
   ]
  },
  {
   "cell_type": "markdown",
   "id": "97f1a2ce",
   "metadata": {},
   "source": [
    "## Lucro"
   ]
  },
  {
   "cell_type": "code",
   "execution_count": 149,
   "id": "a87aa3da",
   "metadata": {},
   "outputs": [],
   "source": [
    "venda_produtos_cliente[\"lucro\"]=(venda_produtos_cliente[\"preco\"]-venda_produtos_cliente[\"custo\"])*venda_produtos_cliente[\"quantidade\"]"
   ]
  },
  {
   "cell_type": "code",
   "execution_count": 150,
   "id": "21eb629a",
   "metadata": {},
   "outputs": [],
   "source": [
    "venda_produtos_cliente_soma_lucros = venda_produtos_cliente.groupby(\"data\").sum().sort_values('data').reset_index()\n",
    "\n",
    "df_acougue=venda_produtos_cliente[venda_produtos_cliente[\"secao\"]=='Açougue']\n",
    "df_acougue_lucros = df_acougue.groupby(\"data\").sum().sort_values('data').reset_index()\n",
    "\n",
    "df_frutas_e_verduras=venda_produtos_cliente[venda_produtos_cliente[\"secao\"]=='Alimentos em Geral']\n",
    "df_frutas_e_verduras_lucros = df_frutas_e_verduras.groupby(\"data\").sum().sort_values('data').reset_index()\n",
    "\n",
    "df_padaria=venda_produtos_cliente[venda_produtos_cliente[\"secao\"]=='Padaria']\n",
    "df_padaria_lucros = df_padaria.groupby(\"data\").sum().sort_values('data').reset_index()\n",
    "\n",
    "df_produtos_de_limpeza=venda_produtos_cliente[venda_produtos_cliente[\"secao\"]=='Produtos de Limpeza']\n",
    "df_produtos_de_limpeza_lucros = df_produtos_de_limpeza.groupby(\"data\").sum().sort_values('data').reset_index()"
   ]
  },
  {
   "cell_type": "code",
   "execution_count": 151,
   "id": "23f431e1",
   "metadata": {},
   "outputs": [
    {
     "data": {
      "application/vnd.plotly.v1+json": {
       "config": {
        "plotlyServerURL": "https://plot.ly"
       },
       "data": [
        {
         "mode": "markers+lines",
         "name": "Lucro total",
         "type": "scatter",
         "x": [
          "2021-11-01T00:00:00",
          "2021-11-02T00:00:00",
          "2021-11-03T00:00:00",
          "2021-11-04T00:00:00",
          "2021-11-05T00:00:00",
          "2021-11-06T00:00:00",
          "2021-11-07T00:00:00",
          "2021-11-08T00:00:00",
          "2021-11-09T00:00:00",
          "2021-11-10T00:00:00",
          "2021-11-11T00:00:00",
          "2021-11-12T00:00:00",
          "2021-11-13T00:00:00",
          "2021-11-14T00:00:00",
          "2021-11-15T00:00:00",
          "2021-11-16T00:00:00",
          "2021-11-17T00:00:00",
          "2021-11-18T00:00:00",
          "2021-11-19T00:00:00",
          "2021-11-20T00:00:00",
          "2021-11-21T00:00:00",
          "2021-11-22T00:00:00",
          "2021-11-23T00:00:00",
          "2021-11-24T00:00:00",
          "2021-11-25T00:00:00",
          "2021-11-26T00:00:00",
          "2021-11-27T00:00:00",
          "2021-11-28T00:00:00",
          "2021-11-29T00:00:00",
          "2021-11-30T00:00:00"
         ],
         "y": [
          1407.1000000000004,
          2287.1299999999997,
          777.8899999999998,
          1370.209999999999,
          1912.0599999999997,
          1562.5399999999997,
          2299.629999999999,
          1848.269999999999,
          2777.890000000001,
          2149.41,
          3002.2499999999986,
          3368.6699999999996,
          3011.7699999999995,
          696.2699999999999,
          212.14999999999998,
          51.499999999999986,
          138.41,
          252.83999999999995,
          261.91999999999996,
          248.78999999999996,
          248.26,
          103.95,
          302.3499999999999,
          274.9,
          152.56000000000003,
          238.79,
          434.40999999999985,
          297.81000000000006,
          226.71999999999997,
          209.47000000000003
         ]
        },
        {
         "mode": "markers+lines",
         "name": "Lucro por dia no açougue",
         "type": "scatter",
         "x": [
          "2021-11-01T00:00:00",
          "2021-11-02T00:00:00",
          "2021-11-03T00:00:00",
          "2021-11-04T00:00:00",
          "2021-11-05T00:00:00",
          "2021-11-06T00:00:00",
          "2021-11-07T00:00:00",
          "2021-11-08T00:00:00",
          "2021-11-09T00:00:00",
          "2021-11-10T00:00:00",
          "2021-11-11T00:00:00",
          "2021-11-12T00:00:00",
          "2021-11-13T00:00:00",
          "2021-11-14T00:00:00",
          "2021-11-15T00:00:00",
          "2021-11-16T00:00:00",
          "2021-11-17T00:00:00",
          "2021-11-18T00:00:00",
          "2021-11-19T00:00:00",
          "2021-11-20T00:00:00",
          "2021-11-21T00:00:00",
          "2021-11-22T00:00:00",
          "2021-11-23T00:00:00",
          "2021-11-24T00:00:00",
          "2021-11-25T00:00:00",
          "2021-11-26T00:00:00",
          "2021-11-27T00:00:00",
          "2021-11-28T00:00:00",
          "2021-11-29T00:00:00",
          "2021-11-30T00:00:00"
         ],
         "y": [
          577.4799999999998,
          1318.1399999999996,
          346.4,
          805.64,
          1165.4499999999998,
          777.4099999999999,
          984.52,
          737.3299999999998,
          1286.7799999999995,
          1352.9199999999998,
          1166.1399999999996,
          1564.83,
          1071.1399999999999,
          212.72999999999993,
          86.85999999999997,
          15.899999999999997,
          83.74999999999999,
          36.79999999999998,
          102.38999999999997,
          104.91999999999999,
          137.68,
          21.179999999999996,
          124.22999999999999,
          120.67999999999998,
          37.80999999999999,
          120.75999999999999,
          315.0399999999999,
          177.66000000000003,
          173.70999999999998,
          28.5
         ]
        },
        {
         "mode": "markers+lines",
         "name": "Lucro por dia na seção de frutas e verduras",
         "type": "scatter",
         "x": [
          "2021-11-01T00:00:00",
          "2021-11-02T00:00:00",
          "2021-11-03T00:00:00",
          "2021-11-04T00:00:00",
          "2021-11-05T00:00:00",
          "2021-11-06T00:00:00",
          "2021-11-07T00:00:00",
          "2021-11-08T00:00:00",
          "2021-11-09T00:00:00",
          "2021-11-10T00:00:00",
          "2021-11-11T00:00:00",
          "2021-11-12T00:00:00",
          "2021-11-13T00:00:00",
          "2021-11-14T00:00:00",
          "2021-11-15T00:00:00",
          "2021-11-16T00:00:00",
          "2021-11-17T00:00:00",
          "2021-11-18T00:00:00",
          "2021-11-19T00:00:00",
          "2021-11-20T00:00:00",
          "2021-11-21T00:00:00",
          "2021-11-22T00:00:00",
          "2021-11-23T00:00:00",
          "2021-11-24T00:00:00",
          "2021-11-25T00:00:00",
          "2021-11-26T00:00:00",
          "2021-11-27T00:00:00",
          "2021-11-28T00:00:00",
          "2021-11-29T00:00:00",
          "2021-11-30T00:00:00"
         ],
         "y": [
          11.910000000000014,
          40.390000000000015,
          -14.090000000000028,
          137.05,
          164.93,
          64.91,
          124.48000000000003,
          38.09999999999995,
          127.00999999999992,
          88.84,
          261.5599999999999,
          371.7500000000001,
          296.63000000000005,
          12.929999999999994,
          45.21000000000001,
          -1.4500000000000028,
          16.160000000000004,
          45.79,
          26.230000000000004,
          18.269999999999992,
          -7.490000000000009,
          9.870000000000001,
          54.269999999999996,
          21.29,
          47.90000000000001,
          29.929999999999993,
          37.36,
          8.460000000000004,
          8.049999999999981,
          113.89
         ]
        },
        {
         "mode": "markers+lines",
         "name": "Lucro por dia na padaria",
         "type": "scatter",
         "x": [
          "2021-11-01T00:00:00",
          "2021-11-02T00:00:00",
          "2021-11-03T00:00:00",
          "2021-11-04T00:00:00",
          "2021-11-05T00:00:00",
          "2021-11-06T00:00:00",
          "2021-11-07T00:00:00",
          "2021-11-08T00:00:00",
          "2021-11-09T00:00:00",
          "2021-11-10T00:00:00",
          "2021-11-11T00:00:00",
          "2021-11-12T00:00:00",
          "2021-11-13T00:00:00",
          "2021-11-14T00:00:00",
          "2021-11-15T00:00:00",
          "2021-11-16T00:00:00",
          "2021-11-17T00:00:00",
          "2021-11-18T00:00:00",
          "2021-11-19T00:00:00",
          "2021-11-20T00:00:00",
          "2021-11-21T00:00:00",
          "2021-11-22T00:00:00",
          "2021-11-23T00:00:00",
          "2021-11-24T00:00:00",
          "2021-11-25T00:00:00",
          "2021-11-26T00:00:00",
          "2021-11-28T00:00:00",
          "2021-11-29T00:00:00",
          "2021-11-30T00:00:00"
         ],
         "y": [
          651.94,
          581.71,
          321.99,
          255.45,
          298.65999999999997,
          514.22,
          804.1900000000002,
          854.4900000000001,
          1026.8999999999996,
          500.67999999999995,
          1239.58,
          1125.6799999999996,
          1218.7599999999998,
          232.16000000000003,
          42.68,
          19.8,
          26.400000000000002,
          120.52999999999999,
          81.48,
          62.099999999999994,
          85.04,
          72.90000000000002,
          87.10000000000001,
          81.95,
          57.64999999999999,
          61.019999999999996,
          111.69000000000001,
          20.849999999999998,
          29.580000000000002
         ]
        },
        {
         "mode": "markers+lines",
         "name": "Lucro por dia na seção de limpezas",
         "type": "scatter",
         "x": [
          "2021-11-01T00:00:00",
          "2021-11-02T00:00:00",
          "2021-11-03T00:00:00",
          "2021-11-04T00:00:00",
          "2021-11-05T00:00:00",
          "2021-11-06T00:00:00",
          "2021-11-07T00:00:00",
          "2021-11-08T00:00:00",
          "2021-11-09T00:00:00",
          "2021-11-10T00:00:00",
          "2021-11-11T00:00:00",
          "2021-11-12T00:00:00",
          "2021-11-13T00:00:00",
          "2021-11-14T00:00:00",
          "2021-11-15T00:00:00",
          "2021-11-16T00:00:00",
          "2021-11-17T00:00:00",
          "2021-11-18T00:00:00",
          "2021-11-19T00:00:00",
          "2021-11-20T00:00:00",
          "2021-11-21T00:00:00",
          "2021-11-23T00:00:00",
          "2021-11-24T00:00:00",
          "2021-11-25T00:00:00",
          "2021-11-26T00:00:00",
          "2021-11-27T00:00:00",
          "2021-11-29T00:00:00",
          "2021-11-30T00:00:00"
         ],
         "y": [
          165.76999999999995,
          346.88999999999993,
          123.59,
          172.07000000000002,
          283.02,
          205.99999999999997,
          386.43999999999994,
          218.34999999999994,
          337.1999999999999,
          206.97000000000003,
          334.9699999999999,
          306.40999999999997,
          425.2399999999999,
          238.44999999999996,
          37.4,
          17.25,
          12.100000000000001,
          49.71999999999999,
          51.81999999999999,
          63.5,
          33.02999999999999,
          36.75,
          50.97999999999999,
          9.2,
          27.080000000000002,
          82.00999999999998,
          24.11,
          37.5
         ]
        }
       ],
       "layout": {
        "font": {
         "color": "black",
         "family": "Arial",
         "size": 14
        },
        "plot_bgcolor": "white",
        "template": {
         "data": {
          "bar": [
           {
            "error_x": {
             "color": "#2a3f5f"
            },
            "error_y": {
             "color": "#2a3f5f"
            },
            "marker": {
             "line": {
              "color": "#E5ECF6",
              "width": 0.5
             },
             "pattern": {
              "fillmode": "overlay",
              "size": 10,
              "solidity": 0.2
             }
            },
            "type": "bar"
           }
          ],
          "barpolar": [
           {
            "marker": {
             "line": {
              "color": "#E5ECF6",
              "width": 0.5
             },
             "pattern": {
              "fillmode": "overlay",
              "size": 10,
              "solidity": 0.2
             }
            },
            "type": "barpolar"
           }
          ],
          "carpet": [
           {
            "aaxis": {
             "endlinecolor": "#2a3f5f",
             "gridcolor": "white",
             "linecolor": "white",
             "minorgridcolor": "white",
             "startlinecolor": "#2a3f5f"
            },
            "baxis": {
             "endlinecolor": "#2a3f5f",
             "gridcolor": "white",
             "linecolor": "white",
             "minorgridcolor": "white",
             "startlinecolor": "#2a3f5f"
            },
            "type": "carpet"
           }
          ],
          "choropleth": [
           {
            "colorbar": {
             "outlinewidth": 0,
             "ticks": ""
            },
            "type": "choropleth"
           }
          ],
          "contour": [
           {
            "colorbar": {
             "outlinewidth": 0,
             "ticks": ""
            },
            "colorscale": [
             [
              0,
              "#0d0887"
             ],
             [
              0.1111111111111111,
              "#46039f"
             ],
             [
              0.2222222222222222,
              "#7201a8"
             ],
             [
              0.3333333333333333,
              "#9c179e"
             ],
             [
              0.4444444444444444,
              "#bd3786"
             ],
             [
              0.5555555555555556,
              "#d8576b"
             ],
             [
              0.6666666666666666,
              "#ed7953"
             ],
             [
              0.7777777777777778,
              "#fb9f3a"
             ],
             [
              0.8888888888888888,
              "#fdca26"
             ],
             [
              1,
              "#f0f921"
             ]
            ],
            "type": "contour"
           }
          ],
          "contourcarpet": [
           {
            "colorbar": {
             "outlinewidth": 0,
             "ticks": ""
            },
            "type": "contourcarpet"
           }
          ],
          "heatmap": [
           {
            "colorbar": {
             "outlinewidth": 0,
             "ticks": ""
            },
            "colorscale": [
             [
              0,
              "#0d0887"
             ],
             [
              0.1111111111111111,
              "#46039f"
             ],
             [
              0.2222222222222222,
              "#7201a8"
             ],
             [
              0.3333333333333333,
              "#9c179e"
             ],
             [
              0.4444444444444444,
              "#bd3786"
             ],
             [
              0.5555555555555556,
              "#d8576b"
             ],
             [
              0.6666666666666666,
              "#ed7953"
             ],
             [
              0.7777777777777778,
              "#fb9f3a"
             ],
             [
              0.8888888888888888,
              "#fdca26"
             ],
             [
              1,
              "#f0f921"
             ]
            ],
            "type": "heatmap"
           }
          ],
          "heatmapgl": [
           {
            "colorbar": {
             "outlinewidth": 0,
             "ticks": ""
            },
            "colorscale": [
             [
              0,
              "#0d0887"
             ],
             [
              0.1111111111111111,
              "#46039f"
             ],
             [
              0.2222222222222222,
              "#7201a8"
             ],
             [
              0.3333333333333333,
              "#9c179e"
             ],
             [
              0.4444444444444444,
              "#bd3786"
             ],
             [
              0.5555555555555556,
              "#d8576b"
             ],
             [
              0.6666666666666666,
              "#ed7953"
             ],
             [
              0.7777777777777778,
              "#fb9f3a"
             ],
             [
              0.8888888888888888,
              "#fdca26"
             ],
             [
              1,
              "#f0f921"
             ]
            ],
            "type": "heatmapgl"
           }
          ],
          "histogram": [
           {
            "marker": {
             "pattern": {
              "fillmode": "overlay",
              "size": 10,
              "solidity": 0.2
             }
            },
            "type": "histogram"
           }
          ],
          "histogram2d": [
           {
            "colorbar": {
             "outlinewidth": 0,
             "ticks": ""
            },
            "colorscale": [
             [
              0,
              "#0d0887"
             ],
             [
              0.1111111111111111,
              "#46039f"
             ],
             [
              0.2222222222222222,
              "#7201a8"
             ],
             [
              0.3333333333333333,
              "#9c179e"
             ],
             [
              0.4444444444444444,
              "#bd3786"
             ],
             [
              0.5555555555555556,
              "#d8576b"
             ],
             [
              0.6666666666666666,
              "#ed7953"
             ],
             [
              0.7777777777777778,
              "#fb9f3a"
             ],
             [
              0.8888888888888888,
              "#fdca26"
             ],
             [
              1,
              "#f0f921"
             ]
            ],
            "type": "histogram2d"
           }
          ],
          "histogram2dcontour": [
           {
            "colorbar": {
             "outlinewidth": 0,
             "ticks": ""
            },
            "colorscale": [
             [
              0,
              "#0d0887"
             ],
             [
              0.1111111111111111,
              "#46039f"
             ],
             [
              0.2222222222222222,
              "#7201a8"
             ],
             [
              0.3333333333333333,
              "#9c179e"
             ],
             [
              0.4444444444444444,
              "#bd3786"
             ],
             [
              0.5555555555555556,
              "#d8576b"
             ],
             [
              0.6666666666666666,
              "#ed7953"
             ],
             [
              0.7777777777777778,
              "#fb9f3a"
             ],
             [
              0.8888888888888888,
              "#fdca26"
             ],
             [
              1,
              "#f0f921"
             ]
            ],
            "type": "histogram2dcontour"
           }
          ],
          "mesh3d": [
           {
            "colorbar": {
             "outlinewidth": 0,
             "ticks": ""
            },
            "type": "mesh3d"
           }
          ],
          "parcoords": [
           {
            "line": {
             "colorbar": {
              "outlinewidth": 0,
              "ticks": ""
             }
            },
            "type": "parcoords"
           }
          ],
          "pie": [
           {
            "automargin": true,
            "type": "pie"
           }
          ],
          "scatter": [
           {
            "marker": {
             "colorbar": {
              "outlinewidth": 0,
              "ticks": ""
             }
            },
            "type": "scatter"
           }
          ],
          "scatter3d": [
           {
            "line": {
             "colorbar": {
              "outlinewidth": 0,
              "ticks": ""
             }
            },
            "marker": {
             "colorbar": {
              "outlinewidth": 0,
              "ticks": ""
             }
            },
            "type": "scatter3d"
           }
          ],
          "scattercarpet": [
           {
            "marker": {
             "colorbar": {
              "outlinewidth": 0,
              "ticks": ""
             }
            },
            "type": "scattercarpet"
           }
          ],
          "scattergeo": [
           {
            "marker": {
             "colorbar": {
              "outlinewidth": 0,
              "ticks": ""
             }
            },
            "type": "scattergeo"
           }
          ],
          "scattergl": [
           {
            "marker": {
             "colorbar": {
              "outlinewidth": 0,
              "ticks": ""
             }
            },
            "type": "scattergl"
           }
          ],
          "scattermapbox": [
           {
            "marker": {
             "colorbar": {
              "outlinewidth": 0,
              "ticks": ""
             }
            },
            "type": "scattermapbox"
           }
          ],
          "scatterpolar": [
           {
            "marker": {
             "colorbar": {
              "outlinewidth": 0,
              "ticks": ""
             }
            },
            "type": "scatterpolar"
           }
          ],
          "scatterpolargl": [
           {
            "marker": {
             "colorbar": {
              "outlinewidth": 0,
              "ticks": ""
             }
            },
            "type": "scatterpolargl"
           }
          ],
          "scatterternary": [
           {
            "marker": {
             "colorbar": {
              "outlinewidth": 0,
              "ticks": ""
             }
            },
            "type": "scatterternary"
           }
          ],
          "surface": [
           {
            "colorbar": {
             "outlinewidth": 0,
             "ticks": ""
            },
            "colorscale": [
             [
              0,
              "#0d0887"
             ],
             [
              0.1111111111111111,
              "#46039f"
             ],
             [
              0.2222222222222222,
              "#7201a8"
             ],
             [
              0.3333333333333333,
              "#9c179e"
             ],
             [
              0.4444444444444444,
              "#bd3786"
             ],
             [
              0.5555555555555556,
              "#d8576b"
             ],
             [
              0.6666666666666666,
              "#ed7953"
             ],
             [
              0.7777777777777778,
              "#fb9f3a"
             ],
             [
              0.8888888888888888,
              "#fdca26"
             ],
             [
              1,
              "#f0f921"
             ]
            ],
            "type": "surface"
           }
          ],
          "table": [
           {
            "cells": {
             "fill": {
              "color": "#EBF0F8"
             },
             "line": {
              "color": "white"
             }
            },
            "header": {
             "fill": {
              "color": "#C8D4E3"
             },
             "line": {
              "color": "white"
             }
            },
            "type": "table"
           }
          ]
         },
         "layout": {
          "annotationdefaults": {
           "arrowcolor": "#2a3f5f",
           "arrowhead": 0,
           "arrowwidth": 1
          },
          "autotypenumbers": "strict",
          "coloraxis": {
           "colorbar": {
            "outlinewidth": 0,
            "ticks": ""
           }
          },
          "colorscale": {
           "diverging": [
            [
             0,
             "#8e0152"
            ],
            [
             0.1,
             "#c51b7d"
            ],
            [
             0.2,
             "#de77ae"
            ],
            [
             0.3,
             "#f1b6da"
            ],
            [
             0.4,
             "#fde0ef"
            ],
            [
             0.5,
             "#f7f7f7"
            ],
            [
             0.6,
             "#e6f5d0"
            ],
            [
             0.7,
             "#b8e186"
            ],
            [
             0.8,
             "#7fbc41"
            ],
            [
             0.9,
             "#4d9221"
            ],
            [
             1,
             "#276419"
            ]
           ],
           "sequential": [
            [
             0,
             "#0d0887"
            ],
            [
             0.1111111111111111,
             "#46039f"
            ],
            [
             0.2222222222222222,
             "#7201a8"
            ],
            [
             0.3333333333333333,
             "#9c179e"
            ],
            [
             0.4444444444444444,
             "#bd3786"
            ],
            [
             0.5555555555555556,
             "#d8576b"
            ],
            [
             0.6666666666666666,
             "#ed7953"
            ],
            [
             0.7777777777777778,
             "#fb9f3a"
            ],
            [
             0.8888888888888888,
             "#fdca26"
            ],
            [
             1,
             "#f0f921"
            ]
           ],
           "sequentialminus": [
            [
             0,
             "#0d0887"
            ],
            [
             0.1111111111111111,
             "#46039f"
            ],
            [
             0.2222222222222222,
             "#7201a8"
            ],
            [
             0.3333333333333333,
             "#9c179e"
            ],
            [
             0.4444444444444444,
             "#bd3786"
            ],
            [
             0.5555555555555556,
             "#d8576b"
            ],
            [
             0.6666666666666666,
             "#ed7953"
            ],
            [
             0.7777777777777778,
             "#fb9f3a"
            ],
            [
             0.8888888888888888,
             "#fdca26"
            ],
            [
             1,
             "#f0f921"
            ]
           ]
          },
          "colorway": [
           "#636efa",
           "#EF553B",
           "#00cc96",
           "#ab63fa",
           "#FFA15A",
           "#19d3f3",
           "#FF6692",
           "#B6E880",
           "#FF97FF",
           "#FECB52"
          ],
          "font": {
           "color": "#2a3f5f"
          },
          "geo": {
           "bgcolor": "white",
           "lakecolor": "white",
           "landcolor": "#E5ECF6",
           "showlakes": true,
           "showland": true,
           "subunitcolor": "white"
          },
          "hoverlabel": {
           "align": "left"
          },
          "hovermode": "closest",
          "mapbox": {
           "style": "light"
          },
          "paper_bgcolor": "white",
          "plot_bgcolor": "#E5ECF6",
          "polar": {
           "angularaxis": {
            "gridcolor": "white",
            "linecolor": "white",
            "ticks": ""
           },
           "bgcolor": "#E5ECF6",
           "radialaxis": {
            "gridcolor": "white",
            "linecolor": "white",
            "ticks": ""
           }
          },
          "scene": {
           "xaxis": {
            "backgroundcolor": "#E5ECF6",
            "gridcolor": "white",
            "gridwidth": 2,
            "linecolor": "white",
            "showbackground": true,
            "ticks": "",
            "zerolinecolor": "white"
           },
           "yaxis": {
            "backgroundcolor": "#E5ECF6",
            "gridcolor": "white",
            "gridwidth": 2,
            "linecolor": "white",
            "showbackground": true,
            "ticks": "",
            "zerolinecolor": "white"
           },
           "zaxis": {
            "backgroundcolor": "#E5ECF6",
            "gridcolor": "white",
            "gridwidth": 2,
            "linecolor": "white",
            "showbackground": true,
            "ticks": "",
            "zerolinecolor": "white"
           }
          },
          "shapedefaults": {
           "line": {
            "color": "#2a3f5f"
           }
          },
          "ternary": {
           "aaxis": {
            "gridcolor": "white",
            "linecolor": "white",
            "ticks": ""
           },
           "baxis": {
            "gridcolor": "white",
            "linecolor": "white",
            "ticks": ""
           },
           "bgcolor": "#E5ECF6",
           "caxis": {
            "gridcolor": "white",
            "linecolor": "white",
            "ticks": ""
           }
          },
          "title": {
           "x": 0.05
          },
          "xaxis": {
           "automargin": true,
           "gridcolor": "white",
           "linecolor": "white",
           "ticks": "",
           "title": {
            "standoff": 15
           },
           "zerolinecolor": "white",
           "zerolinewidth": 2
          },
          "yaxis": {
           "automargin": true,
           "gridcolor": "white",
           "linecolor": "white",
           "ticks": "",
           "title": {
            "standoff": 15
           },
           "zerolinecolor": "white",
           "zerolinewidth": 2
          }
         }
        },
        "title": {
         "text": "Lucro por seção no mês de novembro"
        },
        "xaxis": {
         "gridcolor": "lightgray",
         "gridwidth": 1,
         "linecolor": "black",
         "linewidth": 1,
         "showgrid": true,
         "showline": true,
         "title": {
          "text": "Data"
         }
        },
        "yaxis": {
         "gridcolor": "lightgray",
         "gridwidth": 1,
         "linecolor": "black",
         "linewidth": 1,
         "showgrid": true,
         "showline": true,
         "title": {
          "text": "Lucro"
         }
        }
       }
      },
      "text/html": [
       "<div>                            <div id=\"e9d723c6-6729-4011-aff3-aac0fdc7d3fe\" class=\"plotly-graph-div\" style=\"height:525px; width:100%;\"></div>            <script type=\"text/javascript\">                require([\"plotly\"], function(Plotly) {                    window.PLOTLYENV=window.PLOTLYENV || {};                                    if (document.getElementById(\"e9d723c6-6729-4011-aff3-aac0fdc7d3fe\")) {                    Plotly.newPlot(                        \"e9d723c6-6729-4011-aff3-aac0fdc7d3fe\",                        [{\"mode\":\"markers+lines\",\"name\":\"Lucro total\",\"type\":\"scatter\",\"x\":[\"2021-11-01T00:00:00\",\"2021-11-02T00:00:00\",\"2021-11-03T00:00:00\",\"2021-11-04T00:00:00\",\"2021-11-05T00:00:00\",\"2021-11-06T00:00:00\",\"2021-11-07T00:00:00\",\"2021-11-08T00:00:00\",\"2021-11-09T00:00:00\",\"2021-11-10T00:00:00\",\"2021-11-11T00:00:00\",\"2021-11-12T00:00:00\",\"2021-11-13T00:00:00\",\"2021-11-14T00:00:00\",\"2021-11-15T00:00:00\",\"2021-11-16T00:00:00\",\"2021-11-17T00:00:00\",\"2021-11-18T00:00:00\",\"2021-11-19T00:00:00\",\"2021-11-20T00:00:00\",\"2021-11-21T00:00:00\",\"2021-11-22T00:00:00\",\"2021-11-23T00:00:00\",\"2021-11-24T00:00:00\",\"2021-11-25T00:00:00\",\"2021-11-26T00:00:00\",\"2021-11-27T00:00:00\",\"2021-11-28T00:00:00\",\"2021-11-29T00:00:00\",\"2021-11-30T00:00:00\"],\"y\":[1407.1000000000004,2287.1299999999997,777.8899999999998,1370.209999999999,1912.0599999999997,1562.5399999999997,2299.629999999999,1848.269999999999,2777.890000000001,2149.41,3002.2499999999986,3368.6699999999996,3011.7699999999995,696.2699999999999,212.14999999999998,51.499999999999986,138.41,252.83999999999995,261.91999999999996,248.78999999999996,248.26,103.95,302.3499999999999,274.9,152.56000000000003,238.79,434.40999999999985,297.81000000000006,226.71999999999997,209.47000000000003]},{\"mode\":\"markers+lines\",\"name\":\"Lucro por dia no a\\u00e7ougue\",\"type\":\"scatter\",\"x\":[\"2021-11-01T00:00:00\",\"2021-11-02T00:00:00\",\"2021-11-03T00:00:00\",\"2021-11-04T00:00:00\",\"2021-11-05T00:00:00\",\"2021-11-06T00:00:00\",\"2021-11-07T00:00:00\",\"2021-11-08T00:00:00\",\"2021-11-09T00:00:00\",\"2021-11-10T00:00:00\",\"2021-11-11T00:00:00\",\"2021-11-12T00:00:00\",\"2021-11-13T00:00:00\",\"2021-11-14T00:00:00\",\"2021-11-15T00:00:00\",\"2021-11-16T00:00:00\",\"2021-11-17T00:00:00\",\"2021-11-18T00:00:00\",\"2021-11-19T00:00:00\",\"2021-11-20T00:00:00\",\"2021-11-21T00:00:00\",\"2021-11-22T00:00:00\",\"2021-11-23T00:00:00\",\"2021-11-24T00:00:00\",\"2021-11-25T00:00:00\",\"2021-11-26T00:00:00\",\"2021-11-27T00:00:00\",\"2021-11-28T00:00:00\",\"2021-11-29T00:00:00\",\"2021-11-30T00:00:00\"],\"y\":[577.4799999999998,1318.1399999999996,346.4,805.64,1165.4499999999998,777.4099999999999,984.52,737.3299999999998,1286.7799999999995,1352.9199999999998,1166.1399999999996,1564.83,1071.1399999999999,212.72999999999993,86.85999999999997,15.899999999999997,83.74999999999999,36.79999999999998,102.38999999999997,104.91999999999999,137.68,21.179999999999996,124.22999999999999,120.67999999999998,37.80999999999999,120.75999999999999,315.0399999999999,177.66000000000003,173.70999999999998,28.5]},{\"mode\":\"markers+lines\",\"name\":\"Lucro por dia na se\\u00e7\\u00e3o de frutas e verduras\",\"type\":\"scatter\",\"x\":[\"2021-11-01T00:00:00\",\"2021-11-02T00:00:00\",\"2021-11-03T00:00:00\",\"2021-11-04T00:00:00\",\"2021-11-05T00:00:00\",\"2021-11-06T00:00:00\",\"2021-11-07T00:00:00\",\"2021-11-08T00:00:00\",\"2021-11-09T00:00:00\",\"2021-11-10T00:00:00\",\"2021-11-11T00:00:00\",\"2021-11-12T00:00:00\",\"2021-11-13T00:00:00\",\"2021-11-14T00:00:00\",\"2021-11-15T00:00:00\",\"2021-11-16T00:00:00\",\"2021-11-17T00:00:00\",\"2021-11-18T00:00:00\",\"2021-11-19T00:00:00\",\"2021-11-20T00:00:00\",\"2021-11-21T00:00:00\",\"2021-11-22T00:00:00\",\"2021-11-23T00:00:00\",\"2021-11-24T00:00:00\",\"2021-11-25T00:00:00\",\"2021-11-26T00:00:00\",\"2021-11-27T00:00:00\",\"2021-11-28T00:00:00\",\"2021-11-29T00:00:00\",\"2021-11-30T00:00:00\"],\"y\":[11.910000000000014,40.390000000000015,-14.090000000000028,137.05,164.93,64.91,124.48000000000003,38.09999999999995,127.00999999999992,88.84,261.5599999999999,371.7500000000001,296.63000000000005,12.929999999999994,45.21000000000001,-1.4500000000000028,16.160000000000004,45.79,26.230000000000004,18.269999999999992,-7.490000000000009,9.870000000000001,54.269999999999996,21.29,47.90000000000001,29.929999999999993,37.36,8.460000000000004,8.049999999999981,113.89]},{\"mode\":\"markers+lines\",\"name\":\"Lucro por dia na padaria\",\"type\":\"scatter\",\"x\":[\"2021-11-01T00:00:00\",\"2021-11-02T00:00:00\",\"2021-11-03T00:00:00\",\"2021-11-04T00:00:00\",\"2021-11-05T00:00:00\",\"2021-11-06T00:00:00\",\"2021-11-07T00:00:00\",\"2021-11-08T00:00:00\",\"2021-11-09T00:00:00\",\"2021-11-10T00:00:00\",\"2021-11-11T00:00:00\",\"2021-11-12T00:00:00\",\"2021-11-13T00:00:00\",\"2021-11-14T00:00:00\",\"2021-11-15T00:00:00\",\"2021-11-16T00:00:00\",\"2021-11-17T00:00:00\",\"2021-11-18T00:00:00\",\"2021-11-19T00:00:00\",\"2021-11-20T00:00:00\",\"2021-11-21T00:00:00\",\"2021-11-22T00:00:00\",\"2021-11-23T00:00:00\",\"2021-11-24T00:00:00\",\"2021-11-25T00:00:00\",\"2021-11-26T00:00:00\",\"2021-11-28T00:00:00\",\"2021-11-29T00:00:00\",\"2021-11-30T00:00:00\"],\"y\":[651.94,581.71,321.99,255.45,298.65999999999997,514.22,804.1900000000002,854.4900000000001,1026.8999999999996,500.67999999999995,1239.58,1125.6799999999996,1218.7599999999998,232.16000000000003,42.68,19.8,26.400000000000002,120.52999999999999,81.48,62.099999999999994,85.04,72.90000000000002,87.10000000000001,81.95,57.64999999999999,61.019999999999996,111.69000000000001,20.849999999999998,29.580000000000002]},{\"mode\":\"markers+lines\",\"name\":\"Lucro por dia na se\\u00e7\\u00e3o de limpezas\",\"type\":\"scatter\",\"x\":[\"2021-11-01T00:00:00\",\"2021-11-02T00:00:00\",\"2021-11-03T00:00:00\",\"2021-11-04T00:00:00\",\"2021-11-05T00:00:00\",\"2021-11-06T00:00:00\",\"2021-11-07T00:00:00\",\"2021-11-08T00:00:00\",\"2021-11-09T00:00:00\",\"2021-11-10T00:00:00\",\"2021-11-11T00:00:00\",\"2021-11-12T00:00:00\",\"2021-11-13T00:00:00\",\"2021-11-14T00:00:00\",\"2021-11-15T00:00:00\",\"2021-11-16T00:00:00\",\"2021-11-17T00:00:00\",\"2021-11-18T00:00:00\",\"2021-11-19T00:00:00\",\"2021-11-20T00:00:00\",\"2021-11-21T00:00:00\",\"2021-11-23T00:00:00\",\"2021-11-24T00:00:00\",\"2021-11-25T00:00:00\",\"2021-11-26T00:00:00\",\"2021-11-27T00:00:00\",\"2021-11-29T00:00:00\",\"2021-11-30T00:00:00\"],\"y\":[165.76999999999995,346.88999999999993,123.59,172.07000000000002,283.02,205.99999999999997,386.43999999999994,218.34999999999994,337.1999999999999,206.97000000000003,334.9699999999999,306.40999999999997,425.2399999999999,238.44999999999996,37.4,17.25,12.100000000000001,49.71999999999999,51.81999999999999,63.5,33.02999999999999,36.75,50.97999999999999,9.2,27.080000000000002,82.00999999999998,24.11,37.5]}],                        {\"font\":{\"color\":\"black\",\"family\":\"Arial\",\"size\":14},\"plot_bgcolor\":\"white\",\"template\":{\"data\":{\"bar\":[{\"error_x\":{\"color\":\"#2a3f5f\"},\"error_y\":{\"color\":\"#2a3f5f\"},\"marker\":{\"line\":{\"color\":\"#E5ECF6\",\"width\":0.5},\"pattern\":{\"fillmode\":\"overlay\",\"size\":10,\"solidity\":0.2}},\"type\":\"bar\"}],\"barpolar\":[{\"marker\":{\"line\":{\"color\":\"#E5ECF6\",\"width\":0.5},\"pattern\":{\"fillmode\":\"overlay\",\"size\":10,\"solidity\":0.2}},\"type\":\"barpolar\"}],\"carpet\":[{\"aaxis\":{\"endlinecolor\":\"#2a3f5f\",\"gridcolor\":\"white\",\"linecolor\":\"white\",\"minorgridcolor\":\"white\",\"startlinecolor\":\"#2a3f5f\"},\"baxis\":{\"endlinecolor\":\"#2a3f5f\",\"gridcolor\":\"white\",\"linecolor\":\"white\",\"minorgridcolor\":\"white\",\"startlinecolor\":\"#2a3f5f\"},\"type\":\"carpet\"}],\"choropleth\":[{\"colorbar\":{\"outlinewidth\":0,\"ticks\":\"\"},\"type\":\"choropleth\"}],\"contour\":[{\"colorbar\":{\"outlinewidth\":0,\"ticks\":\"\"},\"colorscale\":[[0.0,\"#0d0887\"],[0.1111111111111111,\"#46039f\"],[0.2222222222222222,\"#7201a8\"],[0.3333333333333333,\"#9c179e\"],[0.4444444444444444,\"#bd3786\"],[0.5555555555555556,\"#d8576b\"],[0.6666666666666666,\"#ed7953\"],[0.7777777777777778,\"#fb9f3a\"],[0.8888888888888888,\"#fdca26\"],[1.0,\"#f0f921\"]],\"type\":\"contour\"}],\"contourcarpet\":[{\"colorbar\":{\"outlinewidth\":0,\"ticks\":\"\"},\"type\":\"contourcarpet\"}],\"heatmap\":[{\"colorbar\":{\"outlinewidth\":0,\"ticks\":\"\"},\"colorscale\":[[0.0,\"#0d0887\"],[0.1111111111111111,\"#46039f\"],[0.2222222222222222,\"#7201a8\"],[0.3333333333333333,\"#9c179e\"],[0.4444444444444444,\"#bd3786\"],[0.5555555555555556,\"#d8576b\"],[0.6666666666666666,\"#ed7953\"],[0.7777777777777778,\"#fb9f3a\"],[0.8888888888888888,\"#fdca26\"],[1.0,\"#f0f921\"]],\"type\":\"heatmap\"}],\"heatmapgl\":[{\"colorbar\":{\"outlinewidth\":0,\"ticks\":\"\"},\"colorscale\":[[0.0,\"#0d0887\"],[0.1111111111111111,\"#46039f\"],[0.2222222222222222,\"#7201a8\"],[0.3333333333333333,\"#9c179e\"],[0.4444444444444444,\"#bd3786\"],[0.5555555555555556,\"#d8576b\"],[0.6666666666666666,\"#ed7953\"],[0.7777777777777778,\"#fb9f3a\"],[0.8888888888888888,\"#fdca26\"],[1.0,\"#f0f921\"]],\"type\":\"heatmapgl\"}],\"histogram\":[{\"marker\":{\"pattern\":{\"fillmode\":\"overlay\",\"size\":10,\"solidity\":0.2}},\"type\":\"histogram\"}],\"histogram2d\":[{\"colorbar\":{\"outlinewidth\":0,\"ticks\":\"\"},\"colorscale\":[[0.0,\"#0d0887\"],[0.1111111111111111,\"#46039f\"],[0.2222222222222222,\"#7201a8\"],[0.3333333333333333,\"#9c179e\"],[0.4444444444444444,\"#bd3786\"],[0.5555555555555556,\"#d8576b\"],[0.6666666666666666,\"#ed7953\"],[0.7777777777777778,\"#fb9f3a\"],[0.8888888888888888,\"#fdca26\"],[1.0,\"#f0f921\"]],\"type\":\"histogram2d\"}],\"histogram2dcontour\":[{\"colorbar\":{\"outlinewidth\":0,\"ticks\":\"\"},\"colorscale\":[[0.0,\"#0d0887\"],[0.1111111111111111,\"#46039f\"],[0.2222222222222222,\"#7201a8\"],[0.3333333333333333,\"#9c179e\"],[0.4444444444444444,\"#bd3786\"],[0.5555555555555556,\"#d8576b\"],[0.6666666666666666,\"#ed7953\"],[0.7777777777777778,\"#fb9f3a\"],[0.8888888888888888,\"#fdca26\"],[1.0,\"#f0f921\"]],\"type\":\"histogram2dcontour\"}],\"mesh3d\":[{\"colorbar\":{\"outlinewidth\":0,\"ticks\":\"\"},\"type\":\"mesh3d\"}],\"parcoords\":[{\"line\":{\"colorbar\":{\"outlinewidth\":0,\"ticks\":\"\"}},\"type\":\"parcoords\"}],\"pie\":[{\"automargin\":true,\"type\":\"pie\"}],\"scatter\":[{\"marker\":{\"colorbar\":{\"outlinewidth\":0,\"ticks\":\"\"}},\"type\":\"scatter\"}],\"scatter3d\":[{\"line\":{\"colorbar\":{\"outlinewidth\":0,\"ticks\":\"\"}},\"marker\":{\"colorbar\":{\"outlinewidth\":0,\"ticks\":\"\"}},\"type\":\"scatter3d\"}],\"scattercarpet\":[{\"marker\":{\"colorbar\":{\"outlinewidth\":0,\"ticks\":\"\"}},\"type\":\"scattercarpet\"}],\"scattergeo\":[{\"marker\":{\"colorbar\":{\"outlinewidth\":0,\"ticks\":\"\"}},\"type\":\"scattergeo\"}],\"scattergl\":[{\"marker\":{\"colorbar\":{\"outlinewidth\":0,\"ticks\":\"\"}},\"type\":\"scattergl\"}],\"scattermapbox\":[{\"marker\":{\"colorbar\":{\"outlinewidth\":0,\"ticks\":\"\"}},\"type\":\"scattermapbox\"}],\"scatterpolar\":[{\"marker\":{\"colorbar\":{\"outlinewidth\":0,\"ticks\":\"\"}},\"type\":\"scatterpolar\"}],\"scatterpolargl\":[{\"marker\":{\"colorbar\":{\"outlinewidth\":0,\"ticks\":\"\"}},\"type\":\"scatterpolargl\"}],\"scatterternary\":[{\"marker\":{\"colorbar\":{\"outlinewidth\":0,\"ticks\":\"\"}},\"type\":\"scatterternary\"}],\"surface\":[{\"colorbar\":{\"outlinewidth\":0,\"ticks\":\"\"},\"colorscale\":[[0.0,\"#0d0887\"],[0.1111111111111111,\"#46039f\"],[0.2222222222222222,\"#7201a8\"],[0.3333333333333333,\"#9c179e\"],[0.4444444444444444,\"#bd3786\"],[0.5555555555555556,\"#d8576b\"],[0.6666666666666666,\"#ed7953\"],[0.7777777777777778,\"#fb9f3a\"],[0.8888888888888888,\"#fdca26\"],[1.0,\"#f0f921\"]],\"type\":\"surface\"}],\"table\":[{\"cells\":{\"fill\":{\"color\":\"#EBF0F8\"},\"line\":{\"color\":\"white\"}},\"header\":{\"fill\":{\"color\":\"#C8D4E3\"},\"line\":{\"color\":\"white\"}},\"type\":\"table\"}]},\"layout\":{\"annotationdefaults\":{\"arrowcolor\":\"#2a3f5f\",\"arrowhead\":0,\"arrowwidth\":1},\"autotypenumbers\":\"strict\",\"coloraxis\":{\"colorbar\":{\"outlinewidth\":0,\"ticks\":\"\"}},\"colorscale\":{\"diverging\":[[0,\"#8e0152\"],[0.1,\"#c51b7d\"],[0.2,\"#de77ae\"],[0.3,\"#f1b6da\"],[0.4,\"#fde0ef\"],[0.5,\"#f7f7f7\"],[0.6,\"#e6f5d0\"],[0.7,\"#b8e186\"],[0.8,\"#7fbc41\"],[0.9,\"#4d9221\"],[1,\"#276419\"]],\"sequential\":[[0.0,\"#0d0887\"],[0.1111111111111111,\"#46039f\"],[0.2222222222222222,\"#7201a8\"],[0.3333333333333333,\"#9c179e\"],[0.4444444444444444,\"#bd3786\"],[0.5555555555555556,\"#d8576b\"],[0.6666666666666666,\"#ed7953\"],[0.7777777777777778,\"#fb9f3a\"],[0.8888888888888888,\"#fdca26\"],[1.0,\"#f0f921\"]],\"sequentialminus\":[[0.0,\"#0d0887\"],[0.1111111111111111,\"#46039f\"],[0.2222222222222222,\"#7201a8\"],[0.3333333333333333,\"#9c179e\"],[0.4444444444444444,\"#bd3786\"],[0.5555555555555556,\"#d8576b\"],[0.6666666666666666,\"#ed7953\"],[0.7777777777777778,\"#fb9f3a\"],[0.8888888888888888,\"#fdca26\"],[1.0,\"#f0f921\"]]},\"colorway\":[\"#636efa\",\"#EF553B\",\"#00cc96\",\"#ab63fa\",\"#FFA15A\",\"#19d3f3\",\"#FF6692\",\"#B6E880\",\"#FF97FF\",\"#FECB52\"],\"font\":{\"color\":\"#2a3f5f\"},\"geo\":{\"bgcolor\":\"white\",\"lakecolor\":\"white\",\"landcolor\":\"#E5ECF6\",\"showlakes\":true,\"showland\":true,\"subunitcolor\":\"white\"},\"hoverlabel\":{\"align\":\"left\"},\"hovermode\":\"closest\",\"mapbox\":{\"style\":\"light\"},\"paper_bgcolor\":\"white\",\"plot_bgcolor\":\"#E5ECF6\",\"polar\":{\"angularaxis\":{\"gridcolor\":\"white\",\"linecolor\":\"white\",\"ticks\":\"\"},\"bgcolor\":\"#E5ECF6\",\"radialaxis\":{\"gridcolor\":\"white\",\"linecolor\":\"white\",\"ticks\":\"\"}},\"scene\":{\"xaxis\":{\"backgroundcolor\":\"#E5ECF6\",\"gridcolor\":\"white\",\"gridwidth\":2,\"linecolor\":\"white\",\"showbackground\":true,\"ticks\":\"\",\"zerolinecolor\":\"white\"},\"yaxis\":{\"backgroundcolor\":\"#E5ECF6\",\"gridcolor\":\"white\",\"gridwidth\":2,\"linecolor\":\"white\",\"showbackground\":true,\"ticks\":\"\",\"zerolinecolor\":\"white\"},\"zaxis\":{\"backgroundcolor\":\"#E5ECF6\",\"gridcolor\":\"white\",\"gridwidth\":2,\"linecolor\":\"white\",\"showbackground\":true,\"ticks\":\"\",\"zerolinecolor\":\"white\"}},\"shapedefaults\":{\"line\":{\"color\":\"#2a3f5f\"}},\"ternary\":{\"aaxis\":{\"gridcolor\":\"white\",\"linecolor\":\"white\",\"ticks\":\"\"},\"baxis\":{\"gridcolor\":\"white\",\"linecolor\":\"white\",\"ticks\":\"\"},\"bgcolor\":\"#E5ECF6\",\"caxis\":{\"gridcolor\":\"white\",\"linecolor\":\"white\",\"ticks\":\"\"}},\"title\":{\"x\":0.05},\"xaxis\":{\"automargin\":true,\"gridcolor\":\"white\",\"linecolor\":\"white\",\"ticks\":\"\",\"title\":{\"standoff\":15},\"zerolinecolor\":\"white\",\"zerolinewidth\":2},\"yaxis\":{\"automargin\":true,\"gridcolor\":\"white\",\"linecolor\":\"white\",\"ticks\":\"\",\"title\":{\"standoff\":15},\"zerolinecolor\":\"white\",\"zerolinewidth\":2}}},\"title\":{\"text\":\"Lucro por se\\u00e7\\u00e3o no m\\u00eas de novembro\"},\"xaxis\":{\"gridcolor\":\"lightgray\",\"gridwidth\":1,\"linecolor\":\"black\",\"linewidth\":1,\"showgrid\":true,\"showline\":true,\"title\":{\"text\":\"Data\"}},\"yaxis\":{\"gridcolor\":\"lightgray\",\"gridwidth\":1,\"linecolor\":\"black\",\"linewidth\":1,\"showgrid\":true,\"showline\":true,\"title\":{\"text\":\"Lucro\"}}},                        {\"responsive\": true}                    ).then(function(){\n",
       "                            \n",
       "var gd = document.getElementById('e9d723c6-6729-4011-aff3-aac0fdc7d3fe');\n",
       "var x = new MutationObserver(function (mutations, observer) {{\n",
       "        var display = window.getComputedStyle(gd).display;\n",
       "        if (!display || display === 'none') {{\n",
       "            console.log([gd, 'removed!']);\n",
       "            Plotly.purge(gd);\n",
       "            observer.disconnect();\n",
       "        }}\n",
       "}});\n",
       "\n",
       "// Listen for the removal of the full notebook cells\n",
       "var notebookContainer = gd.closest('#notebook-container');\n",
       "if (notebookContainer) {{\n",
       "    x.observe(notebookContainer, {childList: true});\n",
       "}}\n",
       "\n",
       "// Listen for the clearing of the current output cell\n",
       "var outputEl = gd.closest('.output');\n",
       "if (outputEl) {{\n",
       "    x.observe(outputEl, {childList: true});\n",
       "}}\n",
       "\n",
       "                        })                };                });            </script>        </div>"
      ]
     },
     "metadata": {},
     "output_type": "display_data"
    }
   ],
   "source": [
    "import plotly.graph_objs as go\n",
    "fig_lucro_tempo = go.Figure()\n",
    "\n",
    "fig_lucro_tempo.add_trace(go.Scatter(x=venda_produtos_cliente_soma_lucros[\"data\"], y=venda_produtos_cliente_soma_lucros[\"lucro\"], \n",
    "              mode = 'markers+lines', name = 'Lucro total'))\n",
    "\n",
    "fig_lucro_tempo.add_trace(go.Scatter(x = df_acougue_lucros[\"data\"],\n",
    "                    y = df_acougue_lucros[\"lucro\"],\n",
    "                    mode = 'markers+lines',\n",
    "                    name = 'Lucro por dia no açougue')) \n",
    "\n",
    "\n",
    "fig_lucro_tempo.add_trace(go.Scatter(x = df_frutas_e_verduras_lucros[\"data\"],\n",
    "                    y = df_frutas_e_verduras_lucros[\"lucro\"],\n",
    "                    mode = 'markers+lines',\n",
    "                    name = 'Lucro por dia na seção de frutas e verduras'))\n",
    "\n",
    "\n",
    "fig_lucro_tempo.add_trace(go.Scatter(x = df_padaria_lucros[\"data\"],\n",
    "                    y = df_padaria_lucros[\"lucro\"],\n",
    "                    mode = 'markers+lines',\n",
    "                    name = 'Lucro por dia na padaria')) \n",
    "\n",
    "\n",
    "fig_lucro_tempo.add_trace(go.Scatter(x = df_produtos_de_limpeza_lucros[\"data\"],\n",
    "                    y = df_produtos_de_limpeza_lucros[\"lucro\"],\n",
    "                    mode = 'markers+lines',\n",
    "                    name = 'Lucro por dia na seção de limpezas')) \n",
    "\n",
    "fig_lucro_tempo.update_layout(title='Lucro por seção no mês de novembro',\n",
    "xaxis_title='Data',\n",
    "yaxis_title='Lucro',\n",
    "plot_bgcolor = 'white',\n",
    "font = {'family': 'Arial','size': 14,'color': 'black'})\n",
    "fig_lucro_tempo.update_xaxes( showgrid=True, gridwidth=1, gridcolor='lightgray',\n",
    "showline=True, linewidth=1, linecolor='black')\n",
    "fig_lucro_tempo.update_yaxes(showgrid=True, gridwidth=1, gridcolor='lightgray',\n",
    "showline=True, linewidth=1, linecolor='black')\n",
    "fig_lucro_tempo.show()"
   ]
  },
  {
   "cell_type": "code",
   "execution_count": 152,
   "id": "ffea88e2",
   "metadata": {},
   "outputs": [
    {
     "data": {
      "application/vnd.plotly.v1+json": {
       "config": {
        "plotlyServerURL": "https://plot.ly"
       },
       "data": [
        {
         "alignmentgroup": "True",
         "hovertemplate": "Seção=%{x}<br>Lucro=%{y}<extra></extra>",
         "legendgroup": "Açougue",
         "marker": {
          "color": "#636efa",
          "pattern": {
           "shape": ""
          }
         },
         "name": "Açougue",
         "offsetgroup": "Açougue",
         "orientation": "v",
         "showlegend": true,
         "textposition": "auto",
         "type": "bar",
         "x": [
          "Açougue"
         ],
         "xaxis": "x",
         "y": [
          15054.780000000019
         ],
         "yaxis": "y"
        },
        {
         "alignmentgroup": "True",
         "hovertemplate": "Seção=%{x}<br>Lucro=%{y}<extra></extra>",
         "legendgroup": "Padaria",
         "marker": {
          "color": "#EF553B",
          "pattern": {
           "shape": ""
          }
         },
         "name": "Padaria",
         "offsetgroup": "Padaria",
         "orientation": "v",
         "showlegend": true,
         "textposition": "auto",
         "type": "bar",
         "x": [
          "Padaria"
         ],
         "xaxis": "x",
         "y": [
          10587.180000000015
         ],
         "yaxis": "y"
        },
        {
         "alignmentgroup": "True",
         "hovertemplate": "Seção=%{x}<br>Lucro=%{y}<extra></extra>",
         "legendgroup": "Produtos de Limpeza",
         "marker": {
          "color": "#00cc96",
          "pattern": {
           "shape": ""
          }
         },
         "name": "Produtos de Limpeza",
         "offsetgroup": "Produtos de Limpeza",
         "orientation": "v",
         "showlegend": true,
         "textposition": "auto",
         "type": "bar",
         "x": [
          "Produtos de Limpeza"
         ],
         "xaxis": "x",
         "y": [
          4283.819999999997
         ],
         "yaxis": "y"
        },
        {
         "alignmentgroup": "True",
         "hovertemplate": "Seção=%{x}<br>Lucro=%{y}<extra></extra>",
         "legendgroup": "Alimentos em Geral",
         "marker": {
          "color": "#ab63fa",
          "pattern": {
           "shape": ""
          }
         },
         "name": "Alimentos em Geral",
         "offsetgroup": "Alimentos em Geral",
         "orientation": "v",
         "showlegend": true,
         "textposition": "auto",
         "type": "bar",
         "x": [
          "Alimentos em Geral"
         ],
         "xaxis": "x",
         "y": [
          2200.1400000000003
         ],
         "yaxis": "y"
        }
       ],
       "layout": {
        "barmode": "stack",
        "legend": {
         "title": {
          "text": "Seção"
         },
         "tracegroupgap": 0
        },
        "margin": {
         "t": 60
        },
        "template": {
         "data": {
          "bar": [
           {
            "error_x": {
             "color": "#2a3f5f"
            },
            "error_y": {
             "color": "#2a3f5f"
            },
            "marker": {
             "line": {
              "color": "#E5ECF6",
              "width": 0.5
             },
             "pattern": {
              "fillmode": "overlay",
              "size": 10,
              "solidity": 0.2
             }
            },
            "type": "bar"
           }
          ],
          "barpolar": [
           {
            "marker": {
             "line": {
              "color": "#E5ECF6",
              "width": 0.5
             },
             "pattern": {
              "fillmode": "overlay",
              "size": 10,
              "solidity": 0.2
             }
            },
            "type": "barpolar"
           }
          ],
          "carpet": [
           {
            "aaxis": {
             "endlinecolor": "#2a3f5f",
             "gridcolor": "white",
             "linecolor": "white",
             "minorgridcolor": "white",
             "startlinecolor": "#2a3f5f"
            },
            "baxis": {
             "endlinecolor": "#2a3f5f",
             "gridcolor": "white",
             "linecolor": "white",
             "minorgridcolor": "white",
             "startlinecolor": "#2a3f5f"
            },
            "type": "carpet"
           }
          ],
          "choropleth": [
           {
            "colorbar": {
             "outlinewidth": 0,
             "ticks": ""
            },
            "type": "choropleth"
           }
          ],
          "contour": [
           {
            "colorbar": {
             "outlinewidth": 0,
             "ticks": ""
            },
            "colorscale": [
             [
              0,
              "#0d0887"
             ],
             [
              0.1111111111111111,
              "#46039f"
             ],
             [
              0.2222222222222222,
              "#7201a8"
             ],
             [
              0.3333333333333333,
              "#9c179e"
             ],
             [
              0.4444444444444444,
              "#bd3786"
             ],
             [
              0.5555555555555556,
              "#d8576b"
             ],
             [
              0.6666666666666666,
              "#ed7953"
             ],
             [
              0.7777777777777778,
              "#fb9f3a"
             ],
             [
              0.8888888888888888,
              "#fdca26"
             ],
             [
              1,
              "#f0f921"
             ]
            ],
            "type": "contour"
           }
          ],
          "contourcarpet": [
           {
            "colorbar": {
             "outlinewidth": 0,
             "ticks": ""
            },
            "type": "contourcarpet"
           }
          ],
          "heatmap": [
           {
            "colorbar": {
             "outlinewidth": 0,
             "ticks": ""
            },
            "colorscale": [
             [
              0,
              "#0d0887"
             ],
             [
              0.1111111111111111,
              "#46039f"
             ],
             [
              0.2222222222222222,
              "#7201a8"
             ],
             [
              0.3333333333333333,
              "#9c179e"
             ],
             [
              0.4444444444444444,
              "#bd3786"
             ],
             [
              0.5555555555555556,
              "#d8576b"
             ],
             [
              0.6666666666666666,
              "#ed7953"
             ],
             [
              0.7777777777777778,
              "#fb9f3a"
             ],
             [
              0.8888888888888888,
              "#fdca26"
             ],
             [
              1,
              "#f0f921"
             ]
            ],
            "type": "heatmap"
           }
          ],
          "heatmapgl": [
           {
            "colorbar": {
             "outlinewidth": 0,
             "ticks": ""
            },
            "colorscale": [
             [
              0,
              "#0d0887"
             ],
             [
              0.1111111111111111,
              "#46039f"
             ],
             [
              0.2222222222222222,
              "#7201a8"
             ],
             [
              0.3333333333333333,
              "#9c179e"
             ],
             [
              0.4444444444444444,
              "#bd3786"
             ],
             [
              0.5555555555555556,
              "#d8576b"
             ],
             [
              0.6666666666666666,
              "#ed7953"
             ],
             [
              0.7777777777777778,
              "#fb9f3a"
             ],
             [
              0.8888888888888888,
              "#fdca26"
             ],
             [
              1,
              "#f0f921"
             ]
            ],
            "type": "heatmapgl"
           }
          ],
          "histogram": [
           {
            "marker": {
             "pattern": {
              "fillmode": "overlay",
              "size": 10,
              "solidity": 0.2
             }
            },
            "type": "histogram"
           }
          ],
          "histogram2d": [
           {
            "colorbar": {
             "outlinewidth": 0,
             "ticks": ""
            },
            "colorscale": [
             [
              0,
              "#0d0887"
             ],
             [
              0.1111111111111111,
              "#46039f"
             ],
             [
              0.2222222222222222,
              "#7201a8"
             ],
             [
              0.3333333333333333,
              "#9c179e"
             ],
             [
              0.4444444444444444,
              "#bd3786"
             ],
             [
              0.5555555555555556,
              "#d8576b"
             ],
             [
              0.6666666666666666,
              "#ed7953"
             ],
             [
              0.7777777777777778,
              "#fb9f3a"
             ],
             [
              0.8888888888888888,
              "#fdca26"
             ],
             [
              1,
              "#f0f921"
             ]
            ],
            "type": "histogram2d"
           }
          ],
          "histogram2dcontour": [
           {
            "colorbar": {
             "outlinewidth": 0,
             "ticks": ""
            },
            "colorscale": [
             [
              0,
              "#0d0887"
             ],
             [
              0.1111111111111111,
              "#46039f"
             ],
             [
              0.2222222222222222,
              "#7201a8"
             ],
             [
              0.3333333333333333,
              "#9c179e"
             ],
             [
              0.4444444444444444,
              "#bd3786"
             ],
             [
              0.5555555555555556,
              "#d8576b"
             ],
             [
              0.6666666666666666,
              "#ed7953"
             ],
             [
              0.7777777777777778,
              "#fb9f3a"
             ],
             [
              0.8888888888888888,
              "#fdca26"
             ],
             [
              1,
              "#f0f921"
             ]
            ],
            "type": "histogram2dcontour"
           }
          ],
          "mesh3d": [
           {
            "colorbar": {
             "outlinewidth": 0,
             "ticks": ""
            },
            "type": "mesh3d"
           }
          ],
          "parcoords": [
           {
            "line": {
             "colorbar": {
              "outlinewidth": 0,
              "ticks": ""
             }
            },
            "type": "parcoords"
           }
          ],
          "pie": [
           {
            "automargin": true,
            "type": "pie"
           }
          ],
          "scatter": [
           {
            "marker": {
             "colorbar": {
              "outlinewidth": 0,
              "ticks": ""
             }
            },
            "type": "scatter"
           }
          ],
          "scatter3d": [
           {
            "line": {
             "colorbar": {
              "outlinewidth": 0,
              "ticks": ""
             }
            },
            "marker": {
             "colorbar": {
              "outlinewidth": 0,
              "ticks": ""
             }
            },
            "type": "scatter3d"
           }
          ],
          "scattercarpet": [
           {
            "marker": {
             "colorbar": {
              "outlinewidth": 0,
              "ticks": ""
             }
            },
            "type": "scattercarpet"
           }
          ],
          "scattergeo": [
           {
            "marker": {
             "colorbar": {
              "outlinewidth": 0,
              "ticks": ""
             }
            },
            "type": "scattergeo"
           }
          ],
          "scattergl": [
           {
            "marker": {
             "colorbar": {
              "outlinewidth": 0,
              "ticks": ""
             }
            },
            "type": "scattergl"
           }
          ],
          "scattermapbox": [
           {
            "marker": {
             "colorbar": {
              "outlinewidth": 0,
              "ticks": ""
             }
            },
            "type": "scattermapbox"
           }
          ],
          "scatterpolar": [
           {
            "marker": {
             "colorbar": {
              "outlinewidth": 0,
              "ticks": ""
             }
            },
            "type": "scatterpolar"
           }
          ],
          "scatterpolargl": [
           {
            "marker": {
             "colorbar": {
              "outlinewidth": 0,
              "ticks": ""
             }
            },
            "type": "scatterpolargl"
           }
          ],
          "scatterternary": [
           {
            "marker": {
             "colorbar": {
              "outlinewidth": 0,
              "ticks": ""
             }
            },
            "type": "scatterternary"
           }
          ],
          "surface": [
           {
            "colorbar": {
             "outlinewidth": 0,
             "ticks": ""
            },
            "colorscale": [
             [
              0,
              "#0d0887"
             ],
             [
              0.1111111111111111,
              "#46039f"
             ],
             [
              0.2222222222222222,
              "#7201a8"
             ],
             [
              0.3333333333333333,
              "#9c179e"
             ],
             [
              0.4444444444444444,
              "#bd3786"
             ],
             [
              0.5555555555555556,
              "#d8576b"
             ],
             [
              0.6666666666666666,
              "#ed7953"
             ],
             [
              0.7777777777777778,
              "#fb9f3a"
             ],
             [
              0.8888888888888888,
              "#fdca26"
             ],
             [
              1,
              "#f0f921"
             ]
            ],
            "type": "surface"
           }
          ],
          "table": [
           {
            "cells": {
             "fill": {
              "color": "#EBF0F8"
             },
             "line": {
              "color": "white"
             }
            },
            "header": {
             "fill": {
              "color": "#C8D4E3"
             },
             "line": {
              "color": "white"
             }
            },
            "type": "table"
           }
          ]
         },
         "layout": {
          "annotationdefaults": {
           "arrowcolor": "#2a3f5f",
           "arrowhead": 0,
           "arrowwidth": 1
          },
          "autotypenumbers": "strict",
          "coloraxis": {
           "colorbar": {
            "outlinewidth": 0,
            "ticks": ""
           }
          },
          "colorscale": {
           "diverging": [
            [
             0,
             "#8e0152"
            ],
            [
             0.1,
             "#c51b7d"
            ],
            [
             0.2,
             "#de77ae"
            ],
            [
             0.3,
             "#f1b6da"
            ],
            [
             0.4,
             "#fde0ef"
            ],
            [
             0.5,
             "#f7f7f7"
            ],
            [
             0.6,
             "#e6f5d0"
            ],
            [
             0.7,
             "#b8e186"
            ],
            [
             0.8,
             "#7fbc41"
            ],
            [
             0.9,
             "#4d9221"
            ],
            [
             1,
             "#276419"
            ]
           ],
           "sequential": [
            [
             0,
             "#0d0887"
            ],
            [
             0.1111111111111111,
             "#46039f"
            ],
            [
             0.2222222222222222,
             "#7201a8"
            ],
            [
             0.3333333333333333,
             "#9c179e"
            ],
            [
             0.4444444444444444,
             "#bd3786"
            ],
            [
             0.5555555555555556,
             "#d8576b"
            ],
            [
             0.6666666666666666,
             "#ed7953"
            ],
            [
             0.7777777777777778,
             "#fb9f3a"
            ],
            [
             0.8888888888888888,
             "#fdca26"
            ],
            [
             1,
             "#f0f921"
            ]
           ],
           "sequentialminus": [
            [
             0,
             "#0d0887"
            ],
            [
             0.1111111111111111,
             "#46039f"
            ],
            [
             0.2222222222222222,
             "#7201a8"
            ],
            [
             0.3333333333333333,
             "#9c179e"
            ],
            [
             0.4444444444444444,
             "#bd3786"
            ],
            [
             0.5555555555555556,
             "#d8576b"
            ],
            [
             0.6666666666666666,
             "#ed7953"
            ],
            [
             0.7777777777777778,
             "#fb9f3a"
            ],
            [
             0.8888888888888888,
             "#fdca26"
            ],
            [
             1,
             "#f0f921"
            ]
           ]
          },
          "colorway": [
           "#636efa",
           "#EF553B",
           "#00cc96",
           "#ab63fa",
           "#FFA15A",
           "#19d3f3",
           "#FF6692",
           "#B6E880",
           "#FF97FF",
           "#FECB52"
          ],
          "font": {
           "color": "#2a3f5f"
          },
          "geo": {
           "bgcolor": "white",
           "lakecolor": "white",
           "landcolor": "#E5ECF6",
           "showlakes": true,
           "showland": true,
           "subunitcolor": "white"
          },
          "hoverlabel": {
           "align": "left"
          },
          "hovermode": "closest",
          "mapbox": {
           "style": "light"
          },
          "paper_bgcolor": "white",
          "plot_bgcolor": "#E5ECF6",
          "polar": {
           "angularaxis": {
            "gridcolor": "white",
            "linecolor": "white",
            "ticks": ""
           },
           "bgcolor": "#E5ECF6",
           "radialaxis": {
            "gridcolor": "white",
            "linecolor": "white",
            "ticks": ""
           }
          },
          "scene": {
           "xaxis": {
            "backgroundcolor": "#E5ECF6",
            "gridcolor": "white",
            "gridwidth": 2,
            "linecolor": "white",
            "showbackground": true,
            "ticks": "",
            "zerolinecolor": "white"
           },
           "yaxis": {
            "backgroundcolor": "#E5ECF6",
            "gridcolor": "white",
            "gridwidth": 2,
            "linecolor": "white",
            "showbackground": true,
            "ticks": "",
            "zerolinecolor": "white"
           },
           "zaxis": {
            "backgroundcolor": "#E5ECF6",
            "gridcolor": "white",
            "gridwidth": 2,
            "linecolor": "white",
            "showbackground": true,
            "ticks": "",
            "zerolinecolor": "white"
           }
          },
          "shapedefaults": {
           "line": {
            "color": "#2a3f5f"
           }
          },
          "ternary": {
           "aaxis": {
            "gridcolor": "white",
            "linecolor": "white",
            "ticks": ""
           },
           "baxis": {
            "gridcolor": "white",
            "linecolor": "white",
            "ticks": ""
           },
           "bgcolor": "#E5ECF6",
           "caxis": {
            "gridcolor": "white",
            "linecolor": "white",
            "ticks": ""
           }
          },
          "title": {
           "x": 0.05
          },
          "xaxis": {
           "automargin": true,
           "gridcolor": "white",
           "linecolor": "white",
           "ticks": "",
           "title": {
            "standoff": 15
           },
           "zerolinecolor": "white",
           "zerolinewidth": 2
          },
          "yaxis": {
           "automargin": true,
           "gridcolor": "white",
           "linecolor": "white",
           "ticks": "",
           "title": {
            "standoff": 15
           },
           "zerolinecolor": "white",
           "zerolinewidth": 2
          }
         }
        },
        "title": {
         "text": "Lucros por seção"
        },
        "xaxis": {
         "anchor": "y",
         "categoryarray": [
          "Açougue",
          "Padaria",
          "Produtos de Limpeza",
          "Alimentos em Geral"
         ],
         "categoryorder": "array",
         "domain": [
          0,
          1
         ],
         "title": {
          "text": "Seção"
         }
        },
        "yaxis": {
         "anchor": "x",
         "domain": [
          0,
          1
         ],
         "title": {
          "text": "Lucro"
         }
        }
       }
      },
      "text/html": [
       "<div>                            <div id=\"537c42e7-46eb-4212-898b-97246ab7a553\" class=\"plotly-graph-div\" style=\"height:525px; width:100%;\"></div>            <script type=\"text/javascript\">                require([\"plotly\"], function(Plotly) {                    window.PLOTLYENV=window.PLOTLYENV || {};                                    if (document.getElementById(\"537c42e7-46eb-4212-898b-97246ab7a553\")) {                    Plotly.newPlot(                        \"537c42e7-46eb-4212-898b-97246ab7a553\",                        [{\"alignmentgroup\":\"True\",\"hovertemplate\":\"Se\\u00e7\\u00e3o=%{x}<br>Lucro=%{y}<extra></extra>\",\"legendgroup\":\"A\\u00e7ougue\",\"marker\":{\"color\":\"#636efa\",\"pattern\":{\"shape\":\"\"}},\"name\":\"A\\u00e7ougue\",\"offsetgroup\":\"A\\u00e7ougue\",\"orientation\":\"v\",\"showlegend\":true,\"textposition\":\"auto\",\"type\":\"bar\",\"x\":[\"A\\u00e7ougue\"],\"xaxis\":\"x\",\"y\":[15054.780000000019],\"yaxis\":\"y\"},{\"alignmentgroup\":\"True\",\"hovertemplate\":\"Se\\u00e7\\u00e3o=%{x}<br>Lucro=%{y}<extra></extra>\",\"legendgroup\":\"Padaria\",\"marker\":{\"color\":\"#EF553B\",\"pattern\":{\"shape\":\"\"}},\"name\":\"Padaria\",\"offsetgroup\":\"Padaria\",\"orientation\":\"v\",\"showlegend\":true,\"textposition\":\"auto\",\"type\":\"bar\",\"x\":[\"Padaria\"],\"xaxis\":\"x\",\"y\":[10587.180000000015],\"yaxis\":\"y\"},{\"alignmentgroup\":\"True\",\"hovertemplate\":\"Se\\u00e7\\u00e3o=%{x}<br>Lucro=%{y}<extra></extra>\",\"legendgroup\":\"Produtos de Limpeza\",\"marker\":{\"color\":\"#00cc96\",\"pattern\":{\"shape\":\"\"}},\"name\":\"Produtos de Limpeza\",\"offsetgroup\":\"Produtos de Limpeza\",\"orientation\":\"v\",\"showlegend\":true,\"textposition\":\"auto\",\"type\":\"bar\",\"x\":[\"Produtos de Limpeza\"],\"xaxis\":\"x\",\"y\":[4283.819999999997],\"yaxis\":\"y\"},{\"alignmentgroup\":\"True\",\"hovertemplate\":\"Se\\u00e7\\u00e3o=%{x}<br>Lucro=%{y}<extra></extra>\",\"legendgroup\":\"Alimentos em Geral\",\"marker\":{\"color\":\"#ab63fa\",\"pattern\":{\"shape\":\"\"}},\"name\":\"Alimentos em Geral\",\"offsetgroup\":\"Alimentos em Geral\",\"orientation\":\"v\",\"showlegend\":true,\"textposition\":\"auto\",\"type\":\"bar\",\"x\":[\"Alimentos em Geral\"],\"xaxis\":\"x\",\"y\":[2200.1400000000003],\"yaxis\":\"y\"}],                        {\"barmode\":\"stack\",\"legend\":{\"title\":{\"text\":\"Se\\u00e7\\u00e3o\"},\"tracegroupgap\":0},\"margin\":{\"t\":60},\"template\":{\"data\":{\"bar\":[{\"error_x\":{\"color\":\"#2a3f5f\"},\"error_y\":{\"color\":\"#2a3f5f\"},\"marker\":{\"line\":{\"color\":\"#E5ECF6\",\"width\":0.5},\"pattern\":{\"fillmode\":\"overlay\",\"size\":10,\"solidity\":0.2}},\"type\":\"bar\"}],\"barpolar\":[{\"marker\":{\"line\":{\"color\":\"#E5ECF6\",\"width\":0.5},\"pattern\":{\"fillmode\":\"overlay\",\"size\":10,\"solidity\":0.2}},\"type\":\"barpolar\"}],\"carpet\":[{\"aaxis\":{\"endlinecolor\":\"#2a3f5f\",\"gridcolor\":\"white\",\"linecolor\":\"white\",\"minorgridcolor\":\"white\",\"startlinecolor\":\"#2a3f5f\"},\"baxis\":{\"endlinecolor\":\"#2a3f5f\",\"gridcolor\":\"white\",\"linecolor\":\"white\",\"minorgridcolor\":\"white\",\"startlinecolor\":\"#2a3f5f\"},\"type\":\"carpet\"}],\"choropleth\":[{\"colorbar\":{\"outlinewidth\":0,\"ticks\":\"\"},\"type\":\"choropleth\"}],\"contour\":[{\"colorbar\":{\"outlinewidth\":0,\"ticks\":\"\"},\"colorscale\":[[0.0,\"#0d0887\"],[0.1111111111111111,\"#46039f\"],[0.2222222222222222,\"#7201a8\"],[0.3333333333333333,\"#9c179e\"],[0.4444444444444444,\"#bd3786\"],[0.5555555555555556,\"#d8576b\"],[0.6666666666666666,\"#ed7953\"],[0.7777777777777778,\"#fb9f3a\"],[0.8888888888888888,\"#fdca26\"],[1.0,\"#f0f921\"]],\"type\":\"contour\"}],\"contourcarpet\":[{\"colorbar\":{\"outlinewidth\":0,\"ticks\":\"\"},\"type\":\"contourcarpet\"}],\"heatmap\":[{\"colorbar\":{\"outlinewidth\":0,\"ticks\":\"\"},\"colorscale\":[[0.0,\"#0d0887\"],[0.1111111111111111,\"#46039f\"],[0.2222222222222222,\"#7201a8\"],[0.3333333333333333,\"#9c179e\"],[0.4444444444444444,\"#bd3786\"],[0.5555555555555556,\"#d8576b\"],[0.6666666666666666,\"#ed7953\"],[0.7777777777777778,\"#fb9f3a\"],[0.8888888888888888,\"#fdca26\"],[1.0,\"#f0f921\"]],\"type\":\"heatmap\"}],\"heatmapgl\":[{\"colorbar\":{\"outlinewidth\":0,\"ticks\":\"\"},\"colorscale\":[[0.0,\"#0d0887\"],[0.1111111111111111,\"#46039f\"],[0.2222222222222222,\"#7201a8\"],[0.3333333333333333,\"#9c179e\"],[0.4444444444444444,\"#bd3786\"],[0.5555555555555556,\"#d8576b\"],[0.6666666666666666,\"#ed7953\"],[0.7777777777777778,\"#fb9f3a\"],[0.8888888888888888,\"#fdca26\"],[1.0,\"#f0f921\"]],\"type\":\"heatmapgl\"}],\"histogram\":[{\"marker\":{\"pattern\":{\"fillmode\":\"overlay\",\"size\":10,\"solidity\":0.2}},\"type\":\"histogram\"}],\"histogram2d\":[{\"colorbar\":{\"outlinewidth\":0,\"ticks\":\"\"},\"colorscale\":[[0.0,\"#0d0887\"],[0.1111111111111111,\"#46039f\"],[0.2222222222222222,\"#7201a8\"],[0.3333333333333333,\"#9c179e\"],[0.4444444444444444,\"#bd3786\"],[0.5555555555555556,\"#d8576b\"],[0.6666666666666666,\"#ed7953\"],[0.7777777777777778,\"#fb9f3a\"],[0.8888888888888888,\"#fdca26\"],[1.0,\"#f0f921\"]],\"type\":\"histogram2d\"}],\"histogram2dcontour\":[{\"colorbar\":{\"outlinewidth\":0,\"ticks\":\"\"},\"colorscale\":[[0.0,\"#0d0887\"],[0.1111111111111111,\"#46039f\"],[0.2222222222222222,\"#7201a8\"],[0.3333333333333333,\"#9c179e\"],[0.4444444444444444,\"#bd3786\"],[0.5555555555555556,\"#d8576b\"],[0.6666666666666666,\"#ed7953\"],[0.7777777777777778,\"#fb9f3a\"],[0.8888888888888888,\"#fdca26\"],[1.0,\"#f0f921\"]],\"type\":\"histogram2dcontour\"}],\"mesh3d\":[{\"colorbar\":{\"outlinewidth\":0,\"ticks\":\"\"},\"type\":\"mesh3d\"}],\"parcoords\":[{\"line\":{\"colorbar\":{\"outlinewidth\":0,\"ticks\":\"\"}},\"type\":\"parcoords\"}],\"pie\":[{\"automargin\":true,\"type\":\"pie\"}],\"scatter\":[{\"marker\":{\"colorbar\":{\"outlinewidth\":0,\"ticks\":\"\"}},\"type\":\"scatter\"}],\"scatter3d\":[{\"line\":{\"colorbar\":{\"outlinewidth\":0,\"ticks\":\"\"}},\"marker\":{\"colorbar\":{\"outlinewidth\":0,\"ticks\":\"\"}},\"type\":\"scatter3d\"}],\"scattercarpet\":[{\"marker\":{\"colorbar\":{\"outlinewidth\":0,\"ticks\":\"\"}},\"type\":\"scattercarpet\"}],\"scattergeo\":[{\"marker\":{\"colorbar\":{\"outlinewidth\":0,\"ticks\":\"\"}},\"type\":\"scattergeo\"}],\"scattergl\":[{\"marker\":{\"colorbar\":{\"outlinewidth\":0,\"ticks\":\"\"}},\"type\":\"scattergl\"}],\"scattermapbox\":[{\"marker\":{\"colorbar\":{\"outlinewidth\":0,\"ticks\":\"\"}},\"type\":\"scattermapbox\"}],\"scatterpolar\":[{\"marker\":{\"colorbar\":{\"outlinewidth\":0,\"ticks\":\"\"}},\"type\":\"scatterpolar\"}],\"scatterpolargl\":[{\"marker\":{\"colorbar\":{\"outlinewidth\":0,\"ticks\":\"\"}},\"type\":\"scatterpolargl\"}],\"scatterternary\":[{\"marker\":{\"colorbar\":{\"outlinewidth\":0,\"ticks\":\"\"}},\"type\":\"scatterternary\"}],\"surface\":[{\"colorbar\":{\"outlinewidth\":0,\"ticks\":\"\"},\"colorscale\":[[0.0,\"#0d0887\"],[0.1111111111111111,\"#46039f\"],[0.2222222222222222,\"#7201a8\"],[0.3333333333333333,\"#9c179e\"],[0.4444444444444444,\"#bd3786\"],[0.5555555555555556,\"#d8576b\"],[0.6666666666666666,\"#ed7953\"],[0.7777777777777778,\"#fb9f3a\"],[0.8888888888888888,\"#fdca26\"],[1.0,\"#f0f921\"]],\"type\":\"surface\"}],\"table\":[{\"cells\":{\"fill\":{\"color\":\"#EBF0F8\"},\"line\":{\"color\":\"white\"}},\"header\":{\"fill\":{\"color\":\"#C8D4E3\"},\"line\":{\"color\":\"white\"}},\"type\":\"table\"}]},\"layout\":{\"annotationdefaults\":{\"arrowcolor\":\"#2a3f5f\",\"arrowhead\":0,\"arrowwidth\":1},\"autotypenumbers\":\"strict\",\"coloraxis\":{\"colorbar\":{\"outlinewidth\":0,\"ticks\":\"\"}},\"colorscale\":{\"diverging\":[[0,\"#8e0152\"],[0.1,\"#c51b7d\"],[0.2,\"#de77ae\"],[0.3,\"#f1b6da\"],[0.4,\"#fde0ef\"],[0.5,\"#f7f7f7\"],[0.6,\"#e6f5d0\"],[0.7,\"#b8e186\"],[0.8,\"#7fbc41\"],[0.9,\"#4d9221\"],[1,\"#276419\"]],\"sequential\":[[0.0,\"#0d0887\"],[0.1111111111111111,\"#46039f\"],[0.2222222222222222,\"#7201a8\"],[0.3333333333333333,\"#9c179e\"],[0.4444444444444444,\"#bd3786\"],[0.5555555555555556,\"#d8576b\"],[0.6666666666666666,\"#ed7953\"],[0.7777777777777778,\"#fb9f3a\"],[0.8888888888888888,\"#fdca26\"],[1.0,\"#f0f921\"]],\"sequentialminus\":[[0.0,\"#0d0887\"],[0.1111111111111111,\"#46039f\"],[0.2222222222222222,\"#7201a8\"],[0.3333333333333333,\"#9c179e\"],[0.4444444444444444,\"#bd3786\"],[0.5555555555555556,\"#d8576b\"],[0.6666666666666666,\"#ed7953\"],[0.7777777777777778,\"#fb9f3a\"],[0.8888888888888888,\"#fdca26\"],[1.0,\"#f0f921\"]]},\"colorway\":[\"#636efa\",\"#EF553B\",\"#00cc96\",\"#ab63fa\",\"#FFA15A\",\"#19d3f3\",\"#FF6692\",\"#B6E880\",\"#FF97FF\",\"#FECB52\"],\"font\":{\"color\":\"#2a3f5f\"},\"geo\":{\"bgcolor\":\"white\",\"lakecolor\":\"white\",\"landcolor\":\"#E5ECF6\",\"showlakes\":true,\"showland\":true,\"subunitcolor\":\"white\"},\"hoverlabel\":{\"align\":\"left\"},\"hovermode\":\"closest\",\"mapbox\":{\"style\":\"light\"},\"paper_bgcolor\":\"white\",\"plot_bgcolor\":\"#E5ECF6\",\"polar\":{\"angularaxis\":{\"gridcolor\":\"white\",\"linecolor\":\"white\",\"ticks\":\"\"},\"bgcolor\":\"#E5ECF6\",\"radialaxis\":{\"gridcolor\":\"white\",\"linecolor\":\"white\",\"ticks\":\"\"}},\"scene\":{\"xaxis\":{\"backgroundcolor\":\"#E5ECF6\",\"gridcolor\":\"white\",\"gridwidth\":2,\"linecolor\":\"white\",\"showbackground\":true,\"ticks\":\"\",\"zerolinecolor\":\"white\"},\"yaxis\":{\"backgroundcolor\":\"#E5ECF6\",\"gridcolor\":\"white\",\"gridwidth\":2,\"linecolor\":\"white\",\"showbackground\":true,\"ticks\":\"\",\"zerolinecolor\":\"white\"},\"zaxis\":{\"backgroundcolor\":\"#E5ECF6\",\"gridcolor\":\"white\",\"gridwidth\":2,\"linecolor\":\"white\",\"showbackground\":true,\"ticks\":\"\",\"zerolinecolor\":\"white\"}},\"shapedefaults\":{\"line\":{\"color\":\"#2a3f5f\"}},\"ternary\":{\"aaxis\":{\"gridcolor\":\"white\",\"linecolor\":\"white\",\"ticks\":\"\"},\"baxis\":{\"gridcolor\":\"white\",\"linecolor\":\"white\",\"ticks\":\"\"},\"bgcolor\":\"#E5ECF6\",\"caxis\":{\"gridcolor\":\"white\",\"linecolor\":\"white\",\"ticks\":\"\"}},\"title\":{\"x\":0.05},\"xaxis\":{\"automargin\":true,\"gridcolor\":\"white\",\"linecolor\":\"white\",\"ticks\":\"\",\"title\":{\"standoff\":15},\"zerolinecolor\":\"white\",\"zerolinewidth\":2},\"yaxis\":{\"automargin\":true,\"gridcolor\":\"white\",\"linecolor\":\"white\",\"ticks\":\"\",\"title\":{\"standoff\":15},\"zerolinecolor\":\"white\",\"zerolinewidth\":2}}},\"title\":{\"text\":\"Lucros por se\\u00e7\\u00e3o\"},\"xaxis\":{\"anchor\":\"y\",\"categoryarray\":[\"A\\u00e7ougue\",\"Padaria\",\"Produtos de Limpeza\",\"Alimentos em Geral\"],\"categoryorder\":\"array\",\"domain\":[0.0,1.0],\"title\":{\"text\":\"Se\\u00e7\\u00e3o\"}},\"yaxis\":{\"anchor\":\"x\",\"domain\":[0.0,1.0],\"title\":{\"text\":\"Lucro\"}}},                        {\"responsive\": true}                    ).then(function(){\n",
       "                            \n",
       "var gd = document.getElementById('537c42e7-46eb-4212-898b-97246ab7a553');\n",
       "var x = new MutationObserver(function (mutations, observer) {{\n",
       "        var display = window.getComputedStyle(gd).display;\n",
       "        if (!display || display === 'none') {{\n",
       "            console.log([gd, 'removed!']);\n",
       "            Plotly.purge(gd);\n",
       "            observer.disconnect();\n",
       "        }}\n",
       "}});\n",
       "\n",
       "// Listen for the removal of the full notebook cells\n",
       "var notebookContainer = gd.closest('#notebook-container');\n",
       "if (notebookContainer) {{\n",
       "    x.observe(notebookContainer, {childList: true});\n",
       "}}\n",
       "\n",
       "// Listen for the clearing of the current output cell\n",
       "var outputEl = gd.closest('.output');\n",
       "if (outputEl) {{\n",
       "    x.observe(outputEl, {childList: true});\n",
       "}}\n",
       "\n",
       "                        })                };                });            </script>        </div>"
      ]
     },
     "metadata": {},
     "output_type": "display_data"
    }
   ],
   "source": [
    "lucro_secao=venda_produtos_cliente.groupby(\"secao\").sum().sort_values('lucro', ascending=False ).reset_index()\n",
    "\n",
    "fig2 = px.bar(lucro_secao, x=\"secao\", y=\"lucro\", color=\"secao\", barmode = 'stack',\n",
    "             labels={\"lucro\":\"Lucro\", \"secao\":\"Seção\"})\n",
    "fig2.update_layout(title = 'Lucros por seção')\n",
    "fig2.show()"
   ]
  },
  {
   "cell_type": "code",
   "execution_count": 153,
   "id": "2cc1f63c",
   "metadata": {},
   "outputs": [
    {
     "data": {
      "application/vnd.plotly.v1+json": {
       "config": {
        "plotlyServerURL": "https://plot.ly"
       },
       "data": [
        {
         "type": "bar",
         "x": [
          "couve-flor",
          "arroz",
          "banana",
          "uva",
          "abobrinha",
          "feijão",
          "macarrão",
          "melancia",
          "berinjela",
          "alface",
          "morango",
          "batata"
         ],
         "xaxis": "x",
         "y": [
          206,
          202,
          198,
          183,
          178,
          176,
          169,
          167,
          165,
          144,
          139,
          128
         ],
         "yaxis": "y"
        },
        {
         "type": "bar",
         "x": [
          "costela",
          "bisteca suína",
          "maminha",
          "peito de frango",
          "picanha",
          "alcatra",
          "carré de cordeiro",
          "paleta suína"
         ],
         "xaxis": "x2",
         "y": [
          219,
          211,
          191,
          167,
          159,
          152,
          136,
          127
         ],
         "yaxis": "y2"
        },
        {
         "type": "bar",
         "x": [
          "sanduíche",
          "pão de forma",
          "pão de queijo",
          "bolo",
          "pão francês",
          "torta",
          "pastel",
          "sonho"
         ],
         "xaxis": "x3",
         "y": [
          221,
          181,
          181,
          177,
          165,
          164,
          159,
          159
         ],
         "yaxis": "y3"
        },
        {
         "type": "bar",
         "x": [
          "detergente",
          "amaciante",
          "flanela",
          "água sanitária",
          "rodo",
          "odorizador",
          "sabão em pó",
          "sabonete"
         ],
         "xaxis": "x4",
         "y": [
          194,
          192,
          182,
          181,
          178,
          162,
          148,
          126
         ],
         "yaxis": "y4"
        }
       ],
       "layout": {
        "annotations": [
         {
          "font": {
           "size": 16
          },
          "showarrow": false,
          "text": "Quantidades vendidas em alimentos em geral",
          "x": 0.225,
          "xanchor": "center",
          "xref": "paper",
          "y": 1,
          "yanchor": "bottom",
          "yref": "paper"
         },
         {
          "font": {
           "size": 16
          },
          "showarrow": false,
          "text": "Quantidades vendidas no açougue",
          "x": 0.775,
          "xanchor": "center",
          "xref": "paper",
          "y": 1,
          "yanchor": "bottom",
          "yref": "paper"
         },
         {
          "font": {
           "size": 16
          },
          "showarrow": false,
          "text": "Quantidades vendidas na padaria",
          "x": 0.225,
          "xanchor": "center",
          "xref": "paper",
          "y": 0.375,
          "yanchor": "bottom",
          "yref": "paper"
         },
         {
          "font": {
           "size": 16
          },
          "showarrow": false,
          "text": "Quantidades vendidas em produtos de limpeza",
          "x": 0.775,
          "xanchor": "center",
          "xref": "paper",
          "y": 0.375,
          "yanchor": "bottom",
          "yref": "paper"
         }
        ],
        "height": 650,
        "showlegend": false,
        "template": {
         "data": {
          "bar": [
           {
            "error_x": {
             "color": "#2a3f5f"
            },
            "error_y": {
             "color": "#2a3f5f"
            },
            "marker": {
             "line": {
              "color": "#E5ECF6",
              "width": 0.5
             },
             "pattern": {
              "fillmode": "overlay",
              "size": 10,
              "solidity": 0.2
             }
            },
            "type": "bar"
           }
          ],
          "barpolar": [
           {
            "marker": {
             "line": {
              "color": "#E5ECF6",
              "width": 0.5
             },
             "pattern": {
              "fillmode": "overlay",
              "size": 10,
              "solidity": 0.2
             }
            },
            "type": "barpolar"
           }
          ],
          "carpet": [
           {
            "aaxis": {
             "endlinecolor": "#2a3f5f",
             "gridcolor": "white",
             "linecolor": "white",
             "minorgridcolor": "white",
             "startlinecolor": "#2a3f5f"
            },
            "baxis": {
             "endlinecolor": "#2a3f5f",
             "gridcolor": "white",
             "linecolor": "white",
             "minorgridcolor": "white",
             "startlinecolor": "#2a3f5f"
            },
            "type": "carpet"
           }
          ],
          "choropleth": [
           {
            "colorbar": {
             "outlinewidth": 0,
             "ticks": ""
            },
            "type": "choropleth"
           }
          ],
          "contour": [
           {
            "colorbar": {
             "outlinewidth": 0,
             "ticks": ""
            },
            "colorscale": [
             [
              0,
              "#0d0887"
             ],
             [
              0.1111111111111111,
              "#46039f"
             ],
             [
              0.2222222222222222,
              "#7201a8"
             ],
             [
              0.3333333333333333,
              "#9c179e"
             ],
             [
              0.4444444444444444,
              "#bd3786"
             ],
             [
              0.5555555555555556,
              "#d8576b"
             ],
             [
              0.6666666666666666,
              "#ed7953"
             ],
             [
              0.7777777777777778,
              "#fb9f3a"
             ],
             [
              0.8888888888888888,
              "#fdca26"
             ],
             [
              1,
              "#f0f921"
             ]
            ],
            "type": "contour"
           }
          ],
          "contourcarpet": [
           {
            "colorbar": {
             "outlinewidth": 0,
             "ticks": ""
            },
            "type": "contourcarpet"
           }
          ],
          "heatmap": [
           {
            "colorbar": {
             "outlinewidth": 0,
             "ticks": ""
            },
            "colorscale": [
             [
              0,
              "#0d0887"
             ],
             [
              0.1111111111111111,
              "#46039f"
             ],
             [
              0.2222222222222222,
              "#7201a8"
             ],
             [
              0.3333333333333333,
              "#9c179e"
             ],
             [
              0.4444444444444444,
              "#bd3786"
             ],
             [
              0.5555555555555556,
              "#d8576b"
             ],
             [
              0.6666666666666666,
              "#ed7953"
             ],
             [
              0.7777777777777778,
              "#fb9f3a"
             ],
             [
              0.8888888888888888,
              "#fdca26"
             ],
             [
              1,
              "#f0f921"
             ]
            ],
            "type": "heatmap"
           }
          ],
          "heatmapgl": [
           {
            "colorbar": {
             "outlinewidth": 0,
             "ticks": ""
            },
            "colorscale": [
             [
              0,
              "#0d0887"
             ],
             [
              0.1111111111111111,
              "#46039f"
             ],
             [
              0.2222222222222222,
              "#7201a8"
             ],
             [
              0.3333333333333333,
              "#9c179e"
             ],
             [
              0.4444444444444444,
              "#bd3786"
             ],
             [
              0.5555555555555556,
              "#d8576b"
             ],
             [
              0.6666666666666666,
              "#ed7953"
             ],
             [
              0.7777777777777778,
              "#fb9f3a"
             ],
             [
              0.8888888888888888,
              "#fdca26"
             ],
             [
              1,
              "#f0f921"
             ]
            ],
            "type": "heatmapgl"
           }
          ],
          "histogram": [
           {
            "marker": {
             "pattern": {
              "fillmode": "overlay",
              "size": 10,
              "solidity": 0.2
             }
            },
            "type": "histogram"
           }
          ],
          "histogram2d": [
           {
            "colorbar": {
             "outlinewidth": 0,
             "ticks": ""
            },
            "colorscale": [
             [
              0,
              "#0d0887"
             ],
             [
              0.1111111111111111,
              "#46039f"
             ],
             [
              0.2222222222222222,
              "#7201a8"
             ],
             [
              0.3333333333333333,
              "#9c179e"
             ],
             [
              0.4444444444444444,
              "#bd3786"
             ],
             [
              0.5555555555555556,
              "#d8576b"
             ],
             [
              0.6666666666666666,
              "#ed7953"
             ],
             [
              0.7777777777777778,
              "#fb9f3a"
             ],
             [
              0.8888888888888888,
              "#fdca26"
             ],
             [
              1,
              "#f0f921"
             ]
            ],
            "type": "histogram2d"
           }
          ],
          "histogram2dcontour": [
           {
            "colorbar": {
             "outlinewidth": 0,
             "ticks": ""
            },
            "colorscale": [
             [
              0,
              "#0d0887"
             ],
             [
              0.1111111111111111,
              "#46039f"
             ],
             [
              0.2222222222222222,
              "#7201a8"
             ],
             [
              0.3333333333333333,
              "#9c179e"
             ],
             [
              0.4444444444444444,
              "#bd3786"
             ],
             [
              0.5555555555555556,
              "#d8576b"
             ],
             [
              0.6666666666666666,
              "#ed7953"
             ],
             [
              0.7777777777777778,
              "#fb9f3a"
             ],
             [
              0.8888888888888888,
              "#fdca26"
             ],
             [
              1,
              "#f0f921"
             ]
            ],
            "type": "histogram2dcontour"
           }
          ],
          "mesh3d": [
           {
            "colorbar": {
             "outlinewidth": 0,
             "ticks": ""
            },
            "type": "mesh3d"
           }
          ],
          "parcoords": [
           {
            "line": {
             "colorbar": {
              "outlinewidth": 0,
              "ticks": ""
             }
            },
            "type": "parcoords"
           }
          ],
          "pie": [
           {
            "automargin": true,
            "type": "pie"
           }
          ],
          "scatter": [
           {
            "marker": {
             "colorbar": {
              "outlinewidth": 0,
              "ticks": ""
             }
            },
            "type": "scatter"
           }
          ],
          "scatter3d": [
           {
            "line": {
             "colorbar": {
              "outlinewidth": 0,
              "ticks": ""
             }
            },
            "marker": {
             "colorbar": {
              "outlinewidth": 0,
              "ticks": ""
             }
            },
            "type": "scatter3d"
           }
          ],
          "scattercarpet": [
           {
            "marker": {
             "colorbar": {
              "outlinewidth": 0,
              "ticks": ""
             }
            },
            "type": "scattercarpet"
           }
          ],
          "scattergeo": [
           {
            "marker": {
             "colorbar": {
              "outlinewidth": 0,
              "ticks": ""
             }
            },
            "type": "scattergeo"
           }
          ],
          "scattergl": [
           {
            "marker": {
             "colorbar": {
              "outlinewidth": 0,
              "ticks": ""
             }
            },
            "type": "scattergl"
           }
          ],
          "scattermapbox": [
           {
            "marker": {
             "colorbar": {
              "outlinewidth": 0,
              "ticks": ""
             }
            },
            "type": "scattermapbox"
           }
          ],
          "scatterpolar": [
           {
            "marker": {
             "colorbar": {
              "outlinewidth": 0,
              "ticks": ""
             }
            },
            "type": "scatterpolar"
           }
          ],
          "scatterpolargl": [
           {
            "marker": {
             "colorbar": {
              "outlinewidth": 0,
              "ticks": ""
             }
            },
            "type": "scatterpolargl"
           }
          ],
          "scatterternary": [
           {
            "marker": {
             "colorbar": {
              "outlinewidth": 0,
              "ticks": ""
             }
            },
            "type": "scatterternary"
           }
          ],
          "surface": [
           {
            "colorbar": {
             "outlinewidth": 0,
             "ticks": ""
            },
            "colorscale": [
             [
              0,
              "#0d0887"
             ],
             [
              0.1111111111111111,
              "#46039f"
             ],
             [
              0.2222222222222222,
              "#7201a8"
             ],
             [
              0.3333333333333333,
              "#9c179e"
             ],
             [
              0.4444444444444444,
              "#bd3786"
             ],
             [
              0.5555555555555556,
              "#d8576b"
             ],
             [
              0.6666666666666666,
              "#ed7953"
             ],
             [
              0.7777777777777778,
              "#fb9f3a"
             ],
             [
              0.8888888888888888,
              "#fdca26"
             ],
             [
              1,
              "#f0f921"
             ]
            ],
            "type": "surface"
           }
          ],
          "table": [
           {
            "cells": {
             "fill": {
              "color": "#EBF0F8"
             },
             "line": {
              "color": "white"
             }
            },
            "header": {
             "fill": {
              "color": "#C8D4E3"
             },
             "line": {
              "color": "white"
             }
            },
            "type": "table"
           }
          ]
         },
         "layout": {
          "annotationdefaults": {
           "arrowcolor": "#2a3f5f",
           "arrowhead": 0,
           "arrowwidth": 1
          },
          "autotypenumbers": "strict",
          "coloraxis": {
           "colorbar": {
            "outlinewidth": 0,
            "ticks": ""
           }
          },
          "colorscale": {
           "diverging": [
            [
             0,
             "#8e0152"
            ],
            [
             0.1,
             "#c51b7d"
            ],
            [
             0.2,
             "#de77ae"
            ],
            [
             0.3,
             "#f1b6da"
            ],
            [
             0.4,
             "#fde0ef"
            ],
            [
             0.5,
             "#f7f7f7"
            ],
            [
             0.6,
             "#e6f5d0"
            ],
            [
             0.7,
             "#b8e186"
            ],
            [
             0.8,
             "#7fbc41"
            ],
            [
             0.9,
             "#4d9221"
            ],
            [
             1,
             "#276419"
            ]
           ],
           "sequential": [
            [
             0,
             "#0d0887"
            ],
            [
             0.1111111111111111,
             "#46039f"
            ],
            [
             0.2222222222222222,
             "#7201a8"
            ],
            [
             0.3333333333333333,
             "#9c179e"
            ],
            [
             0.4444444444444444,
             "#bd3786"
            ],
            [
             0.5555555555555556,
             "#d8576b"
            ],
            [
             0.6666666666666666,
             "#ed7953"
            ],
            [
             0.7777777777777778,
             "#fb9f3a"
            ],
            [
             0.8888888888888888,
             "#fdca26"
            ],
            [
             1,
             "#f0f921"
            ]
           ],
           "sequentialminus": [
            [
             0,
             "#0d0887"
            ],
            [
             0.1111111111111111,
             "#46039f"
            ],
            [
             0.2222222222222222,
             "#7201a8"
            ],
            [
             0.3333333333333333,
             "#9c179e"
            ],
            [
             0.4444444444444444,
             "#bd3786"
            ],
            [
             0.5555555555555556,
             "#d8576b"
            ],
            [
             0.6666666666666666,
             "#ed7953"
            ],
            [
             0.7777777777777778,
             "#fb9f3a"
            ],
            [
             0.8888888888888888,
             "#fdca26"
            ],
            [
             1,
             "#f0f921"
            ]
           ]
          },
          "colorway": [
           "#636efa",
           "#EF553B",
           "#00cc96",
           "#ab63fa",
           "#FFA15A",
           "#19d3f3",
           "#FF6692",
           "#B6E880",
           "#FF97FF",
           "#FECB52"
          ],
          "font": {
           "color": "#2a3f5f"
          },
          "geo": {
           "bgcolor": "white",
           "lakecolor": "white",
           "landcolor": "#E5ECF6",
           "showlakes": true,
           "showland": true,
           "subunitcolor": "white"
          },
          "hoverlabel": {
           "align": "left"
          },
          "hovermode": "closest",
          "mapbox": {
           "style": "light"
          },
          "paper_bgcolor": "white",
          "plot_bgcolor": "#E5ECF6",
          "polar": {
           "angularaxis": {
            "gridcolor": "white",
            "linecolor": "white",
            "ticks": ""
           },
           "bgcolor": "#E5ECF6",
           "radialaxis": {
            "gridcolor": "white",
            "linecolor": "white",
            "ticks": ""
           }
          },
          "scene": {
           "xaxis": {
            "backgroundcolor": "#E5ECF6",
            "gridcolor": "white",
            "gridwidth": 2,
            "linecolor": "white",
            "showbackground": true,
            "ticks": "",
            "zerolinecolor": "white"
           },
           "yaxis": {
            "backgroundcolor": "#E5ECF6",
            "gridcolor": "white",
            "gridwidth": 2,
            "linecolor": "white",
            "showbackground": true,
            "ticks": "",
            "zerolinecolor": "white"
           },
           "zaxis": {
            "backgroundcolor": "#E5ECF6",
            "gridcolor": "white",
            "gridwidth": 2,
            "linecolor": "white",
            "showbackground": true,
            "ticks": "",
            "zerolinecolor": "white"
           }
          },
          "shapedefaults": {
           "line": {
            "color": "#2a3f5f"
           }
          },
          "ternary": {
           "aaxis": {
            "gridcolor": "white",
            "linecolor": "white",
            "ticks": ""
           },
           "baxis": {
            "gridcolor": "white",
            "linecolor": "white",
            "ticks": ""
           },
           "bgcolor": "#E5ECF6",
           "caxis": {
            "gridcolor": "white",
            "linecolor": "white",
            "ticks": ""
           }
          },
          "title": {
           "x": 0.05
          },
          "xaxis": {
           "automargin": true,
           "gridcolor": "white",
           "linecolor": "white",
           "ticks": "",
           "title": {
            "standoff": 15
           },
           "zerolinecolor": "white",
           "zerolinewidth": 2
          },
          "yaxis": {
           "automargin": true,
           "gridcolor": "white",
           "linecolor": "white",
           "ticks": "",
           "title": {
            "standoff": 15
           },
           "zerolinecolor": "white",
           "zerolinewidth": 2
          }
         }
        },
        "title": {
         "text": "Produtos mais vendidos"
        },
        "width": 800,
        "xaxis": {
         "anchor": "y",
         "domain": [
          0,
          0.45
         ],
         "tickangle": 45
        },
        "xaxis2": {
         "anchor": "y2",
         "domain": [
          0.55,
          1
         ],
         "tickangle": 45
        },
        "xaxis3": {
         "anchor": "y3",
         "domain": [
          0,
          0.45
         ],
         "tickangle": 45
        },
        "xaxis4": {
         "anchor": "y4",
         "domain": [
          0.55,
          1
         ],
         "tickangle": 45
        },
        "yaxis": {
         "anchor": "x",
         "domain": [
          0.625,
          1
         ]
        },
        "yaxis2": {
         "anchor": "x2",
         "domain": [
          0.625,
          1
         ],
         "matches": "y",
         "showticklabels": false
        },
        "yaxis3": {
         "anchor": "x3",
         "domain": [
          0,
          0.375
         ]
        },
        "yaxis4": {
         "anchor": "x4",
         "domain": [
          0,
          0.375
         ],
         "matches": "y3",
         "showticklabels": false
        }
       }
      },
      "text/html": [
       "<div>                            <div id=\"b3ea5135-7772-413f-bf71-ca0f3778f13e\" class=\"plotly-graph-div\" style=\"height:650px; width:800px;\"></div>            <script type=\"text/javascript\">                require([\"plotly\"], function(Plotly) {                    window.PLOTLYENV=window.PLOTLYENV || {};                                    if (document.getElementById(\"b3ea5135-7772-413f-bf71-ca0f3778f13e\")) {                    Plotly.newPlot(                        \"b3ea5135-7772-413f-bf71-ca0f3778f13e\",                        [{\"type\":\"bar\",\"x\":[\"couve-flor\",\"arroz\",\"banana\",\"uva\",\"abobrinha\",\"feij\\u00e3o\",\"macarr\\u00e3o\",\"melancia\",\"berinjela\",\"alface\",\"morango\",\"batata\"],\"xaxis\":\"x\",\"y\":[206,202,198,183,178,176,169,167,165,144,139,128],\"yaxis\":\"y\"},{\"type\":\"bar\",\"x\":[\"costela\",\"bisteca su\\u00edna\",\"maminha\",\"peito de frango\",\"picanha\",\"alcatra\",\"carr\\u00e9 de cordeiro\",\"paleta su\\u00edna\"],\"xaxis\":\"x2\",\"y\":[219,211,191,167,159,152,136,127],\"yaxis\":\"y2\"},{\"type\":\"bar\",\"x\":[\"sandu\\u00edche\",\"p\\u00e3o de forma\",\"p\\u00e3o de queijo\",\"bolo\",\"p\\u00e3o franc\\u00eas\",\"torta\",\"pastel\",\"sonho\"],\"xaxis\":\"x3\",\"y\":[221,181,181,177,165,164,159,159],\"yaxis\":\"y3\"},{\"type\":\"bar\",\"x\":[\"detergente\",\"amaciante\",\"flanela\",\"\\u00e1gua sanit\\u00e1ria\",\"rodo\",\"odorizador\",\"sab\\u00e3o em p\\u00f3\",\"sabonete\"],\"xaxis\":\"x4\",\"y\":[194,192,182,181,178,162,148,126],\"yaxis\":\"y4\"}],                        {\"annotations\":[{\"font\":{\"size\":16},\"showarrow\":false,\"text\":\"Quantidades vendidas em alimentos em geral\",\"x\":0.225,\"xanchor\":\"center\",\"xref\":\"paper\",\"y\":1.0,\"yanchor\":\"bottom\",\"yref\":\"paper\"},{\"font\":{\"size\":16},\"showarrow\":false,\"text\":\"Quantidades vendidas no a\\u00e7ougue\",\"x\":0.775,\"xanchor\":\"center\",\"xref\":\"paper\",\"y\":1.0,\"yanchor\":\"bottom\",\"yref\":\"paper\"},{\"font\":{\"size\":16},\"showarrow\":false,\"text\":\"Quantidades vendidas na padaria\",\"x\":0.225,\"xanchor\":\"center\",\"xref\":\"paper\",\"y\":0.375,\"yanchor\":\"bottom\",\"yref\":\"paper\"},{\"font\":{\"size\":16},\"showarrow\":false,\"text\":\"Quantidades vendidas em produtos de limpeza\",\"x\":0.775,\"xanchor\":\"center\",\"xref\":\"paper\",\"y\":0.375,\"yanchor\":\"bottom\",\"yref\":\"paper\"}],\"height\":650,\"showlegend\":false,\"template\":{\"data\":{\"bar\":[{\"error_x\":{\"color\":\"#2a3f5f\"},\"error_y\":{\"color\":\"#2a3f5f\"},\"marker\":{\"line\":{\"color\":\"#E5ECF6\",\"width\":0.5},\"pattern\":{\"fillmode\":\"overlay\",\"size\":10,\"solidity\":0.2}},\"type\":\"bar\"}],\"barpolar\":[{\"marker\":{\"line\":{\"color\":\"#E5ECF6\",\"width\":0.5},\"pattern\":{\"fillmode\":\"overlay\",\"size\":10,\"solidity\":0.2}},\"type\":\"barpolar\"}],\"carpet\":[{\"aaxis\":{\"endlinecolor\":\"#2a3f5f\",\"gridcolor\":\"white\",\"linecolor\":\"white\",\"minorgridcolor\":\"white\",\"startlinecolor\":\"#2a3f5f\"},\"baxis\":{\"endlinecolor\":\"#2a3f5f\",\"gridcolor\":\"white\",\"linecolor\":\"white\",\"minorgridcolor\":\"white\",\"startlinecolor\":\"#2a3f5f\"},\"type\":\"carpet\"}],\"choropleth\":[{\"colorbar\":{\"outlinewidth\":0,\"ticks\":\"\"},\"type\":\"choropleth\"}],\"contour\":[{\"colorbar\":{\"outlinewidth\":0,\"ticks\":\"\"},\"colorscale\":[[0.0,\"#0d0887\"],[0.1111111111111111,\"#46039f\"],[0.2222222222222222,\"#7201a8\"],[0.3333333333333333,\"#9c179e\"],[0.4444444444444444,\"#bd3786\"],[0.5555555555555556,\"#d8576b\"],[0.6666666666666666,\"#ed7953\"],[0.7777777777777778,\"#fb9f3a\"],[0.8888888888888888,\"#fdca26\"],[1.0,\"#f0f921\"]],\"type\":\"contour\"}],\"contourcarpet\":[{\"colorbar\":{\"outlinewidth\":0,\"ticks\":\"\"},\"type\":\"contourcarpet\"}],\"heatmap\":[{\"colorbar\":{\"outlinewidth\":0,\"ticks\":\"\"},\"colorscale\":[[0.0,\"#0d0887\"],[0.1111111111111111,\"#46039f\"],[0.2222222222222222,\"#7201a8\"],[0.3333333333333333,\"#9c179e\"],[0.4444444444444444,\"#bd3786\"],[0.5555555555555556,\"#d8576b\"],[0.6666666666666666,\"#ed7953\"],[0.7777777777777778,\"#fb9f3a\"],[0.8888888888888888,\"#fdca26\"],[1.0,\"#f0f921\"]],\"type\":\"heatmap\"}],\"heatmapgl\":[{\"colorbar\":{\"outlinewidth\":0,\"ticks\":\"\"},\"colorscale\":[[0.0,\"#0d0887\"],[0.1111111111111111,\"#46039f\"],[0.2222222222222222,\"#7201a8\"],[0.3333333333333333,\"#9c179e\"],[0.4444444444444444,\"#bd3786\"],[0.5555555555555556,\"#d8576b\"],[0.6666666666666666,\"#ed7953\"],[0.7777777777777778,\"#fb9f3a\"],[0.8888888888888888,\"#fdca26\"],[1.0,\"#f0f921\"]],\"type\":\"heatmapgl\"}],\"histogram\":[{\"marker\":{\"pattern\":{\"fillmode\":\"overlay\",\"size\":10,\"solidity\":0.2}},\"type\":\"histogram\"}],\"histogram2d\":[{\"colorbar\":{\"outlinewidth\":0,\"ticks\":\"\"},\"colorscale\":[[0.0,\"#0d0887\"],[0.1111111111111111,\"#46039f\"],[0.2222222222222222,\"#7201a8\"],[0.3333333333333333,\"#9c179e\"],[0.4444444444444444,\"#bd3786\"],[0.5555555555555556,\"#d8576b\"],[0.6666666666666666,\"#ed7953\"],[0.7777777777777778,\"#fb9f3a\"],[0.8888888888888888,\"#fdca26\"],[1.0,\"#f0f921\"]],\"type\":\"histogram2d\"}],\"histogram2dcontour\":[{\"colorbar\":{\"outlinewidth\":0,\"ticks\":\"\"},\"colorscale\":[[0.0,\"#0d0887\"],[0.1111111111111111,\"#46039f\"],[0.2222222222222222,\"#7201a8\"],[0.3333333333333333,\"#9c179e\"],[0.4444444444444444,\"#bd3786\"],[0.5555555555555556,\"#d8576b\"],[0.6666666666666666,\"#ed7953\"],[0.7777777777777778,\"#fb9f3a\"],[0.8888888888888888,\"#fdca26\"],[1.0,\"#f0f921\"]],\"type\":\"histogram2dcontour\"}],\"mesh3d\":[{\"colorbar\":{\"outlinewidth\":0,\"ticks\":\"\"},\"type\":\"mesh3d\"}],\"parcoords\":[{\"line\":{\"colorbar\":{\"outlinewidth\":0,\"ticks\":\"\"}},\"type\":\"parcoords\"}],\"pie\":[{\"automargin\":true,\"type\":\"pie\"}],\"scatter\":[{\"marker\":{\"colorbar\":{\"outlinewidth\":0,\"ticks\":\"\"}},\"type\":\"scatter\"}],\"scatter3d\":[{\"line\":{\"colorbar\":{\"outlinewidth\":0,\"ticks\":\"\"}},\"marker\":{\"colorbar\":{\"outlinewidth\":0,\"ticks\":\"\"}},\"type\":\"scatter3d\"}],\"scattercarpet\":[{\"marker\":{\"colorbar\":{\"outlinewidth\":0,\"ticks\":\"\"}},\"type\":\"scattercarpet\"}],\"scattergeo\":[{\"marker\":{\"colorbar\":{\"outlinewidth\":0,\"ticks\":\"\"}},\"type\":\"scattergeo\"}],\"scattergl\":[{\"marker\":{\"colorbar\":{\"outlinewidth\":0,\"ticks\":\"\"}},\"type\":\"scattergl\"}],\"scattermapbox\":[{\"marker\":{\"colorbar\":{\"outlinewidth\":0,\"ticks\":\"\"}},\"type\":\"scattermapbox\"}],\"scatterpolar\":[{\"marker\":{\"colorbar\":{\"outlinewidth\":0,\"ticks\":\"\"}},\"type\":\"scatterpolar\"}],\"scatterpolargl\":[{\"marker\":{\"colorbar\":{\"outlinewidth\":0,\"ticks\":\"\"}},\"type\":\"scatterpolargl\"}],\"scatterternary\":[{\"marker\":{\"colorbar\":{\"outlinewidth\":0,\"ticks\":\"\"}},\"type\":\"scatterternary\"}],\"surface\":[{\"colorbar\":{\"outlinewidth\":0,\"ticks\":\"\"},\"colorscale\":[[0.0,\"#0d0887\"],[0.1111111111111111,\"#46039f\"],[0.2222222222222222,\"#7201a8\"],[0.3333333333333333,\"#9c179e\"],[0.4444444444444444,\"#bd3786\"],[0.5555555555555556,\"#d8576b\"],[0.6666666666666666,\"#ed7953\"],[0.7777777777777778,\"#fb9f3a\"],[0.8888888888888888,\"#fdca26\"],[1.0,\"#f0f921\"]],\"type\":\"surface\"}],\"table\":[{\"cells\":{\"fill\":{\"color\":\"#EBF0F8\"},\"line\":{\"color\":\"white\"}},\"header\":{\"fill\":{\"color\":\"#C8D4E3\"},\"line\":{\"color\":\"white\"}},\"type\":\"table\"}]},\"layout\":{\"annotationdefaults\":{\"arrowcolor\":\"#2a3f5f\",\"arrowhead\":0,\"arrowwidth\":1},\"autotypenumbers\":\"strict\",\"coloraxis\":{\"colorbar\":{\"outlinewidth\":0,\"ticks\":\"\"}},\"colorscale\":{\"diverging\":[[0,\"#8e0152\"],[0.1,\"#c51b7d\"],[0.2,\"#de77ae\"],[0.3,\"#f1b6da\"],[0.4,\"#fde0ef\"],[0.5,\"#f7f7f7\"],[0.6,\"#e6f5d0\"],[0.7,\"#b8e186\"],[0.8,\"#7fbc41\"],[0.9,\"#4d9221\"],[1,\"#276419\"]],\"sequential\":[[0.0,\"#0d0887\"],[0.1111111111111111,\"#46039f\"],[0.2222222222222222,\"#7201a8\"],[0.3333333333333333,\"#9c179e\"],[0.4444444444444444,\"#bd3786\"],[0.5555555555555556,\"#d8576b\"],[0.6666666666666666,\"#ed7953\"],[0.7777777777777778,\"#fb9f3a\"],[0.8888888888888888,\"#fdca26\"],[1.0,\"#f0f921\"]],\"sequentialminus\":[[0.0,\"#0d0887\"],[0.1111111111111111,\"#46039f\"],[0.2222222222222222,\"#7201a8\"],[0.3333333333333333,\"#9c179e\"],[0.4444444444444444,\"#bd3786\"],[0.5555555555555556,\"#d8576b\"],[0.6666666666666666,\"#ed7953\"],[0.7777777777777778,\"#fb9f3a\"],[0.8888888888888888,\"#fdca26\"],[1.0,\"#f0f921\"]]},\"colorway\":[\"#636efa\",\"#EF553B\",\"#00cc96\",\"#ab63fa\",\"#FFA15A\",\"#19d3f3\",\"#FF6692\",\"#B6E880\",\"#FF97FF\",\"#FECB52\"],\"font\":{\"color\":\"#2a3f5f\"},\"geo\":{\"bgcolor\":\"white\",\"lakecolor\":\"white\",\"landcolor\":\"#E5ECF6\",\"showlakes\":true,\"showland\":true,\"subunitcolor\":\"white\"},\"hoverlabel\":{\"align\":\"left\"},\"hovermode\":\"closest\",\"mapbox\":{\"style\":\"light\"},\"paper_bgcolor\":\"white\",\"plot_bgcolor\":\"#E5ECF6\",\"polar\":{\"angularaxis\":{\"gridcolor\":\"white\",\"linecolor\":\"white\",\"ticks\":\"\"},\"bgcolor\":\"#E5ECF6\",\"radialaxis\":{\"gridcolor\":\"white\",\"linecolor\":\"white\",\"ticks\":\"\"}},\"scene\":{\"xaxis\":{\"backgroundcolor\":\"#E5ECF6\",\"gridcolor\":\"white\",\"gridwidth\":2,\"linecolor\":\"white\",\"showbackground\":true,\"ticks\":\"\",\"zerolinecolor\":\"white\"},\"yaxis\":{\"backgroundcolor\":\"#E5ECF6\",\"gridcolor\":\"white\",\"gridwidth\":2,\"linecolor\":\"white\",\"showbackground\":true,\"ticks\":\"\",\"zerolinecolor\":\"white\"},\"zaxis\":{\"backgroundcolor\":\"#E5ECF6\",\"gridcolor\":\"white\",\"gridwidth\":2,\"linecolor\":\"white\",\"showbackground\":true,\"ticks\":\"\",\"zerolinecolor\":\"white\"}},\"shapedefaults\":{\"line\":{\"color\":\"#2a3f5f\"}},\"ternary\":{\"aaxis\":{\"gridcolor\":\"white\",\"linecolor\":\"white\",\"ticks\":\"\"},\"baxis\":{\"gridcolor\":\"white\",\"linecolor\":\"white\",\"ticks\":\"\"},\"bgcolor\":\"#E5ECF6\",\"caxis\":{\"gridcolor\":\"white\",\"linecolor\":\"white\",\"ticks\":\"\"}},\"title\":{\"x\":0.05},\"xaxis\":{\"automargin\":true,\"gridcolor\":\"white\",\"linecolor\":\"white\",\"ticks\":\"\",\"title\":{\"standoff\":15},\"zerolinecolor\":\"white\",\"zerolinewidth\":2},\"yaxis\":{\"automargin\":true,\"gridcolor\":\"white\",\"linecolor\":\"white\",\"ticks\":\"\",\"title\":{\"standoff\":15},\"zerolinecolor\":\"white\",\"zerolinewidth\":2}}},\"title\":{\"text\":\"Produtos mais vendidos\"},\"width\":800,\"xaxis\":{\"anchor\":\"y\",\"domain\":[0.0,0.45],\"tickangle\":45},\"xaxis2\":{\"anchor\":\"y2\",\"domain\":[0.55,1.0],\"tickangle\":45},\"xaxis3\":{\"anchor\":\"y3\",\"domain\":[0.0,0.45],\"tickangle\":45},\"xaxis4\":{\"anchor\":\"y4\",\"domain\":[0.55,1.0],\"tickangle\":45},\"yaxis\":{\"anchor\":\"x\",\"domain\":[0.625,1.0]},\"yaxis2\":{\"anchor\":\"x2\",\"domain\":[0.625,1.0],\"matches\":\"y\",\"showticklabels\":false},\"yaxis3\":{\"anchor\":\"x3\",\"domain\":[0.0,0.375]},\"yaxis4\":{\"anchor\":\"x4\",\"domain\":[0.0,0.375],\"matches\":\"y3\",\"showticklabels\":false}},                        {\"responsive\": true}                    ).then(function(){\n",
       "                            \n",
       "var gd = document.getElementById('b3ea5135-7772-413f-bf71-ca0f3778f13e');\n",
       "var x = new MutationObserver(function (mutations, observer) {{\n",
       "        var display = window.getComputedStyle(gd).display;\n",
       "        if (!display || display === 'none') {{\n",
       "            console.log([gd, 'removed!']);\n",
       "            Plotly.purge(gd);\n",
       "            observer.disconnect();\n",
       "        }}\n",
       "}});\n",
       "\n",
       "// Listen for the removal of the full notebook cells\n",
       "var notebookContainer = gd.closest('#notebook-container');\n",
       "if (notebookContainer) {{\n",
       "    x.observe(notebookContainer, {childList: true});\n",
       "}}\n",
       "\n",
       "// Listen for the clearing of the current output cell\n",
       "var outputEl = gd.closest('.output');\n",
       "if (outputEl) {{\n",
       "    x.observe(outputEl, {childList: true});\n",
       "}}\n",
       "\n",
       "                        })                };                });            </script>        </div>"
      ]
     },
     "metadata": {},
     "output_type": "display_data"
    }
   ],
   "source": [
    "from plotly.subplots import make_subplots\n",
    "\n",
    "df_frutas_e_verduras_quantidade=df_frutas_e_verduras.groupby(\"nome\").sum().sort_values('quantidade', ascending=False).reset_index()\n",
    "df_acougue_quantidade=df_acougue.groupby(\"nome\").sum().sort_values('quantidade', ascending=False).reset_index()\n",
    "df_padaria_quantidade=df_padaria.groupby(\"nome\").sum().sort_values('quantidade', ascending=False).reset_index()\n",
    "df_limpeza_quantidade=df_produtos_de_limpeza.groupby(\"nome\").sum().sort_values('quantidade', ascending=False).reset_index()\n",
    "\n",
    "fig = make_subplots(rows=2, cols=2, shared_yaxes=True, \n",
    "    subplot_titles=(\"Quantidades vendidas em alimentos em geral\", \"Quantidades vendidas no açougue\", \"Quantidades vendidas na padaria\", \"Quantidades vendidas em produtos de limpeza\"))\n",
    "\n",
    "fig.add_trace(go.Bar(x=df_frutas_e_verduras_quantidade[\"nome\"], y=df_frutas_e_verduras_quantidade[\"quantidade\"]), \n",
    "              1, 1)\n",
    "\n",
    "fig.add_trace(go.Bar(x=df_acougue_quantidade[\"nome\"], y=df_acougue_quantidade[\"quantidade\"]),\n",
    "              1, 2)\n",
    "\n",
    "fig.add_trace(go.Bar(x=df_padaria_quantidade[\"nome\"], y=df_padaria_quantidade[\"quantidade\"]),\n",
    "              2, 1)\n",
    "\n",
    "fig.add_trace(go.Bar(x=df_limpeza_quantidade[\"nome\"], y=df_limpeza_quantidade[\"quantidade\"]),\n",
    "              2, 2)\n",
    "\n",
    "\n",
    "\n",
    "fig.update_layout(height=650, width=800, showlegend=False,\n",
    "                  title_text=\"Produtos mais vendidos\")\n",
    "fig.update_xaxes(tickangle=45)\n",
    "\n",
    "fig.show()"
   ]
  },
  {
   "cell_type": "code",
   "execution_count": null,
   "id": "0c8328af",
   "metadata": {},
   "outputs": [],
   "source": []
  },
  {
   "cell_type": "code",
   "execution_count": 163,
   "id": "0d3dca63",
   "metadata": {},
   "outputs": [
    {
     "data": {
      "application/vnd.plotly.v1+json": {
       "config": {
        "plotlyServerURL": "https://plot.ly"
       },
       "data": [
        {
         "alignmentgroup": "True",
         "hovertemplate": "Dia da semana=%{x}<br>Entrada total=%{y}<extra></extra>",
         "legendgroup": "",
         "marker": {
          "color": "#636efa",
          "pattern": {
           "shape": ""
          }
         },
         "name": "",
         "offsetgroup": "",
         "orientation": "v",
         "showlegend": false,
         "textposition": "auto",
         "type": "bar",
         "x": [
          "Segunda-feira",
          "Terça-feira",
          "Quarta-feira",
          "Quinta-feira",
          "Sexta-feira",
          "Sábado",
          "Domingo"
         ],
         "xaxis": "x",
         "y": [
          12948.569999999954,
          20235.019999999953,
          12892.229999999965,
          15811.839999999931,
          21169.559999999954,
          17372.05999999992,
          12109.919999999958
         ],
         "yaxis": "y"
        }
       ],
       "layout": {
        "barmode": "stack",
        "legend": {
         "tracegroupgap": 0
        },
        "margin": {
         "t": 60
        },
        "template": {
         "data": {
          "bar": [
           {
            "error_x": {
             "color": "#2a3f5f"
            },
            "error_y": {
             "color": "#2a3f5f"
            },
            "marker": {
             "line": {
              "color": "#E5ECF6",
              "width": 0.5
             },
             "pattern": {
              "fillmode": "overlay",
              "size": 10,
              "solidity": 0.2
             }
            },
            "type": "bar"
           }
          ],
          "barpolar": [
           {
            "marker": {
             "line": {
              "color": "#E5ECF6",
              "width": 0.5
             },
             "pattern": {
              "fillmode": "overlay",
              "size": 10,
              "solidity": 0.2
             }
            },
            "type": "barpolar"
           }
          ],
          "carpet": [
           {
            "aaxis": {
             "endlinecolor": "#2a3f5f",
             "gridcolor": "white",
             "linecolor": "white",
             "minorgridcolor": "white",
             "startlinecolor": "#2a3f5f"
            },
            "baxis": {
             "endlinecolor": "#2a3f5f",
             "gridcolor": "white",
             "linecolor": "white",
             "minorgridcolor": "white",
             "startlinecolor": "#2a3f5f"
            },
            "type": "carpet"
           }
          ],
          "choropleth": [
           {
            "colorbar": {
             "outlinewidth": 0,
             "ticks": ""
            },
            "type": "choropleth"
           }
          ],
          "contour": [
           {
            "colorbar": {
             "outlinewidth": 0,
             "ticks": ""
            },
            "colorscale": [
             [
              0,
              "#0d0887"
             ],
             [
              0.1111111111111111,
              "#46039f"
             ],
             [
              0.2222222222222222,
              "#7201a8"
             ],
             [
              0.3333333333333333,
              "#9c179e"
             ],
             [
              0.4444444444444444,
              "#bd3786"
             ],
             [
              0.5555555555555556,
              "#d8576b"
             ],
             [
              0.6666666666666666,
              "#ed7953"
             ],
             [
              0.7777777777777778,
              "#fb9f3a"
             ],
             [
              0.8888888888888888,
              "#fdca26"
             ],
             [
              1,
              "#f0f921"
             ]
            ],
            "type": "contour"
           }
          ],
          "contourcarpet": [
           {
            "colorbar": {
             "outlinewidth": 0,
             "ticks": ""
            },
            "type": "contourcarpet"
           }
          ],
          "heatmap": [
           {
            "colorbar": {
             "outlinewidth": 0,
             "ticks": ""
            },
            "colorscale": [
             [
              0,
              "#0d0887"
             ],
             [
              0.1111111111111111,
              "#46039f"
             ],
             [
              0.2222222222222222,
              "#7201a8"
             ],
             [
              0.3333333333333333,
              "#9c179e"
             ],
             [
              0.4444444444444444,
              "#bd3786"
             ],
             [
              0.5555555555555556,
              "#d8576b"
             ],
             [
              0.6666666666666666,
              "#ed7953"
             ],
             [
              0.7777777777777778,
              "#fb9f3a"
             ],
             [
              0.8888888888888888,
              "#fdca26"
             ],
             [
              1,
              "#f0f921"
             ]
            ],
            "type": "heatmap"
           }
          ],
          "heatmapgl": [
           {
            "colorbar": {
             "outlinewidth": 0,
             "ticks": ""
            },
            "colorscale": [
             [
              0,
              "#0d0887"
             ],
             [
              0.1111111111111111,
              "#46039f"
             ],
             [
              0.2222222222222222,
              "#7201a8"
             ],
             [
              0.3333333333333333,
              "#9c179e"
             ],
             [
              0.4444444444444444,
              "#bd3786"
             ],
             [
              0.5555555555555556,
              "#d8576b"
             ],
             [
              0.6666666666666666,
              "#ed7953"
             ],
             [
              0.7777777777777778,
              "#fb9f3a"
             ],
             [
              0.8888888888888888,
              "#fdca26"
             ],
             [
              1,
              "#f0f921"
             ]
            ],
            "type": "heatmapgl"
           }
          ],
          "histogram": [
           {
            "marker": {
             "pattern": {
              "fillmode": "overlay",
              "size": 10,
              "solidity": 0.2
             }
            },
            "type": "histogram"
           }
          ],
          "histogram2d": [
           {
            "colorbar": {
             "outlinewidth": 0,
             "ticks": ""
            },
            "colorscale": [
             [
              0,
              "#0d0887"
             ],
             [
              0.1111111111111111,
              "#46039f"
             ],
             [
              0.2222222222222222,
              "#7201a8"
             ],
             [
              0.3333333333333333,
              "#9c179e"
             ],
             [
              0.4444444444444444,
              "#bd3786"
             ],
             [
              0.5555555555555556,
              "#d8576b"
             ],
             [
              0.6666666666666666,
              "#ed7953"
             ],
             [
              0.7777777777777778,
              "#fb9f3a"
             ],
             [
              0.8888888888888888,
              "#fdca26"
             ],
             [
              1,
              "#f0f921"
             ]
            ],
            "type": "histogram2d"
           }
          ],
          "histogram2dcontour": [
           {
            "colorbar": {
             "outlinewidth": 0,
             "ticks": ""
            },
            "colorscale": [
             [
              0,
              "#0d0887"
             ],
             [
              0.1111111111111111,
              "#46039f"
             ],
             [
              0.2222222222222222,
              "#7201a8"
             ],
             [
              0.3333333333333333,
              "#9c179e"
             ],
             [
              0.4444444444444444,
              "#bd3786"
             ],
             [
              0.5555555555555556,
              "#d8576b"
             ],
             [
              0.6666666666666666,
              "#ed7953"
             ],
             [
              0.7777777777777778,
              "#fb9f3a"
             ],
             [
              0.8888888888888888,
              "#fdca26"
             ],
             [
              1,
              "#f0f921"
             ]
            ],
            "type": "histogram2dcontour"
           }
          ],
          "mesh3d": [
           {
            "colorbar": {
             "outlinewidth": 0,
             "ticks": ""
            },
            "type": "mesh3d"
           }
          ],
          "parcoords": [
           {
            "line": {
             "colorbar": {
              "outlinewidth": 0,
              "ticks": ""
             }
            },
            "type": "parcoords"
           }
          ],
          "pie": [
           {
            "automargin": true,
            "type": "pie"
           }
          ],
          "scatter": [
           {
            "marker": {
             "colorbar": {
              "outlinewidth": 0,
              "ticks": ""
             }
            },
            "type": "scatter"
           }
          ],
          "scatter3d": [
           {
            "line": {
             "colorbar": {
              "outlinewidth": 0,
              "ticks": ""
             }
            },
            "marker": {
             "colorbar": {
              "outlinewidth": 0,
              "ticks": ""
             }
            },
            "type": "scatter3d"
           }
          ],
          "scattercarpet": [
           {
            "marker": {
             "colorbar": {
              "outlinewidth": 0,
              "ticks": ""
             }
            },
            "type": "scattercarpet"
           }
          ],
          "scattergeo": [
           {
            "marker": {
             "colorbar": {
              "outlinewidth": 0,
              "ticks": ""
             }
            },
            "type": "scattergeo"
           }
          ],
          "scattergl": [
           {
            "marker": {
             "colorbar": {
              "outlinewidth": 0,
              "ticks": ""
             }
            },
            "type": "scattergl"
           }
          ],
          "scattermapbox": [
           {
            "marker": {
             "colorbar": {
              "outlinewidth": 0,
              "ticks": ""
             }
            },
            "type": "scattermapbox"
           }
          ],
          "scatterpolar": [
           {
            "marker": {
             "colorbar": {
              "outlinewidth": 0,
              "ticks": ""
             }
            },
            "type": "scatterpolar"
           }
          ],
          "scatterpolargl": [
           {
            "marker": {
             "colorbar": {
              "outlinewidth": 0,
              "ticks": ""
             }
            },
            "type": "scatterpolargl"
           }
          ],
          "scatterternary": [
           {
            "marker": {
             "colorbar": {
              "outlinewidth": 0,
              "ticks": ""
             }
            },
            "type": "scatterternary"
           }
          ],
          "surface": [
           {
            "colorbar": {
             "outlinewidth": 0,
             "ticks": ""
            },
            "colorscale": [
             [
              0,
              "#0d0887"
             ],
             [
              0.1111111111111111,
              "#46039f"
             ],
             [
              0.2222222222222222,
              "#7201a8"
             ],
             [
              0.3333333333333333,
              "#9c179e"
             ],
             [
              0.4444444444444444,
              "#bd3786"
             ],
             [
              0.5555555555555556,
              "#d8576b"
             ],
             [
              0.6666666666666666,
              "#ed7953"
             ],
             [
              0.7777777777777778,
              "#fb9f3a"
             ],
             [
              0.8888888888888888,
              "#fdca26"
             ],
             [
              1,
              "#f0f921"
             ]
            ],
            "type": "surface"
           }
          ],
          "table": [
           {
            "cells": {
             "fill": {
              "color": "#EBF0F8"
             },
             "line": {
              "color": "white"
             }
            },
            "header": {
             "fill": {
              "color": "#C8D4E3"
             },
             "line": {
              "color": "white"
             }
            },
            "type": "table"
           }
          ]
         },
         "layout": {
          "annotationdefaults": {
           "arrowcolor": "#2a3f5f",
           "arrowhead": 0,
           "arrowwidth": 1
          },
          "autotypenumbers": "strict",
          "coloraxis": {
           "colorbar": {
            "outlinewidth": 0,
            "ticks": ""
           }
          },
          "colorscale": {
           "diverging": [
            [
             0,
             "#8e0152"
            ],
            [
             0.1,
             "#c51b7d"
            ],
            [
             0.2,
             "#de77ae"
            ],
            [
             0.3,
             "#f1b6da"
            ],
            [
             0.4,
             "#fde0ef"
            ],
            [
             0.5,
             "#f7f7f7"
            ],
            [
             0.6,
             "#e6f5d0"
            ],
            [
             0.7,
             "#b8e186"
            ],
            [
             0.8,
             "#7fbc41"
            ],
            [
             0.9,
             "#4d9221"
            ],
            [
             1,
             "#276419"
            ]
           ],
           "sequential": [
            [
             0,
             "#0d0887"
            ],
            [
             0.1111111111111111,
             "#46039f"
            ],
            [
             0.2222222222222222,
             "#7201a8"
            ],
            [
             0.3333333333333333,
             "#9c179e"
            ],
            [
             0.4444444444444444,
             "#bd3786"
            ],
            [
             0.5555555555555556,
             "#d8576b"
            ],
            [
             0.6666666666666666,
             "#ed7953"
            ],
            [
             0.7777777777777778,
             "#fb9f3a"
            ],
            [
             0.8888888888888888,
             "#fdca26"
            ],
            [
             1,
             "#f0f921"
            ]
           ],
           "sequentialminus": [
            [
             0,
             "#0d0887"
            ],
            [
             0.1111111111111111,
             "#46039f"
            ],
            [
             0.2222222222222222,
             "#7201a8"
            ],
            [
             0.3333333333333333,
             "#9c179e"
            ],
            [
             0.4444444444444444,
             "#bd3786"
            ],
            [
             0.5555555555555556,
             "#d8576b"
            ],
            [
             0.6666666666666666,
             "#ed7953"
            ],
            [
             0.7777777777777778,
             "#fb9f3a"
            ],
            [
             0.8888888888888888,
             "#fdca26"
            ],
            [
             1,
             "#f0f921"
            ]
           ]
          },
          "colorway": [
           "#636efa",
           "#EF553B",
           "#00cc96",
           "#ab63fa",
           "#FFA15A",
           "#19d3f3",
           "#FF6692",
           "#B6E880",
           "#FF97FF",
           "#FECB52"
          ],
          "font": {
           "color": "#2a3f5f"
          },
          "geo": {
           "bgcolor": "white",
           "lakecolor": "white",
           "landcolor": "#E5ECF6",
           "showlakes": true,
           "showland": true,
           "subunitcolor": "white"
          },
          "hoverlabel": {
           "align": "left"
          },
          "hovermode": "closest",
          "mapbox": {
           "style": "light"
          },
          "paper_bgcolor": "white",
          "plot_bgcolor": "#E5ECF6",
          "polar": {
           "angularaxis": {
            "gridcolor": "white",
            "linecolor": "white",
            "ticks": ""
           },
           "bgcolor": "#E5ECF6",
           "radialaxis": {
            "gridcolor": "white",
            "linecolor": "white",
            "ticks": ""
           }
          },
          "scene": {
           "xaxis": {
            "backgroundcolor": "#E5ECF6",
            "gridcolor": "white",
            "gridwidth": 2,
            "linecolor": "white",
            "showbackground": true,
            "ticks": "",
            "zerolinecolor": "white"
           },
           "yaxis": {
            "backgroundcolor": "#E5ECF6",
            "gridcolor": "white",
            "gridwidth": 2,
            "linecolor": "white",
            "showbackground": true,
            "ticks": "",
            "zerolinecolor": "white"
           },
           "zaxis": {
            "backgroundcolor": "#E5ECF6",
            "gridcolor": "white",
            "gridwidth": 2,
            "linecolor": "white",
            "showbackground": true,
            "ticks": "",
            "zerolinecolor": "white"
           }
          },
          "shapedefaults": {
           "line": {
            "color": "#2a3f5f"
           }
          },
          "ternary": {
           "aaxis": {
            "gridcolor": "white",
            "linecolor": "white",
            "ticks": ""
           },
           "baxis": {
            "gridcolor": "white",
            "linecolor": "white",
            "ticks": ""
           },
           "bgcolor": "#E5ECF6",
           "caxis": {
            "gridcolor": "white",
            "linecolor": "white",
            "ticks": ""
           }
          },
          "title": {
           "x": 0.05
          },
          "xaxis": {
           "automargin": true,
           "gridcolor": "white",
           "linecolor": "white",
           "ticks": "",
           "title": {
            "standoff": 15
           },
           "zerolinecolor": "white",
           "zerolinewidth": 2
          },
          "yaxis": {
           "automargin": true,
           "gridcolor": "white",
           "linecolor": "white",
           "ticks": "",
           "title": {
            "standoff": 15
           },
           "zerolinecolor": "white",
           "zerolinewidth": 2
          }
         }
        },
        "title": {
         "text": "Entrada total por dia da semana no mês de novembro"
        },
        "xaxis": {
         "anchor": "y",
         "domain": [
          0,
          1
         ],
         "title": {
          "text": "Dia da semana"
         }
        },
        "yaxis": {
         "anchor": "x",
         "domain": [
          0,
          1
         ],
         "title": {
          "text": "Entrada"
         }
        }
       }
      },
      "text/html": [
       "<div>                            <div id=\"cc924326-3d96-4809-8cca-866046566800\" class=\"plotly-graph-div\" style=\"height:525px; width:100%;\"></div>            <script type=\"text/javascript\">                require([\"plotly\"], function(Plotly) {                    window.PLOTLYENV=window.PLOTLYENV || {};                                    if (document.getElementById(\"cc924326-3d96-4809-8cca-866046566800\")) {                    Plotly.newPlot(                        \"cc924326-3d96-4809-8cca-866046566800\",                        [{\"alignmentgroup\":\"True\",\"hovertemplate\":\"Dia da semana=%{x}<br>Entrada total=%{y}<extra></extra>\",\"legendgroup\":\"\",\"marker\":{\"color\":\"#636efa\",\"pattern\":{\"shape\":\"\"}},\"name\":\"\",\"offsetgroup\":\"\",\"orientation\":\"v\",\"showlegend\":false,\"textposition\":\"auto\",\"type\":\"bar\",\"x\":[\"Segunda-feira\",\"Ter\\u00e7a-feira\",\"Quarta-feira\",\"Quinta-feira\",\"Sexta-feira\",\"S\\u00e1bado\",\"Domingo\"],\"xaxis\":\"x\",\"y\":[12948.569999999954,20235.019999999953,12892.229999999965,15811.839999999931,21169.559999999954,17372.05999999992,12109.919999999958],\"yaxis\":\"y\"}],                        {\"barmode\":\"stack\",\"legend\":{\"tracegroupgap\":0},\"margin\":{\"t\":60},\"template\":{\"data\":{\"bar\":[{\"error_x\":{\"color\":\"#2a3f5f\"},\"error_y\":{\"color\":\"#2a3f5f\"},\"marker\":{\"line\":{\"color\":\"#E5ECF6\",\"width\":0.5},\"pattern\":{\"fillmode\":\"overlay\",\"size\":10,\"solidity\":0.2}},\"type\":\"bar\"}],\"barpolar\":[{\"marker\":{\"line\":{\"color\":\"#E5ECF6\",\"width\":0.5},\"pattern\":{\"fillmode\":\"overlay\",\"size\":10,\"solidity\":0.2}},\"type\":\"barpolar\"}],\"carpet\":[{\"aaxis\":{\"endlinecolor\":\"#2a3f5f\",\"gridcolor\":\"white\",\"linecolor\":\"white\",\"minorgridcolor\":\"white\",\"startlinecolor\":\"#2a3f5f\"},\"baxis\":{\"endlinecolor\":\"#2a3f5f\",\"gridcolor\":\"white\",\"linecolor\":\"white\",\"minorgridcolor\":\"white\",\"startlinecolor\":\"#2a3f5f\"},\"type\":\"carpet\"}],\"choropleth\":[{\"colorbar\":{\"outlinewidth\":0,\"ticks\":\"\"},\"type\":\"choropleth\"}],\"contour\":[{\"colorbar\":{\"outlinewidth\":0,\"ticks\":\"\"},\"colorscale\":[[0.0,\"#0d0887\"],[0.1111111111111111,\"#46039f\"],[0.2222222222222222,\"#7201a8\"],[0.3333333333333333,\"#9c179e\"],[0.4444444444444444,\"#bd3786\"],[0.5555555555555556,\"#d8576b\"],[0.6666666666666666,\"#ed7953\"],[0.7777777777777778,\"#fb9f3a\"],[0.8888888888888888,\"#fdca26\"],[1.0,\"#f0f921\"]],\"type\":\"contour\"}],\"contourcarpet\":[{\"colorbar\":{\"outlinewidth\":0,\"ticks\":\"\"},\"type\":\"contourcarpet\"}],\"heatmap\":[{\"colorbar\":{\"outlinewidth\":0,\"ticks\":\"\"},\"colorscale\":[[0.0,\"#0d0887\"],[0.1111111111111111,\"#46039f\"],[0.2222222222222222,\"#7201a8\"],[0.3333333333333333,\"#9c179e\"],[0.4444444444444444,\"#bd3786\"],[0.5555555555555556,\"#d8576b\"],[0.6666666666666666,\"#ed7953\"],[0.7777777777777778,\"#fb9f3a\"],[0.8888888888888888,\"#fdca26\"],[1.0,\"#f0f921\"]],\"type\":\"heatmap\"}],\"heatmapgl\":[{\"colorbar\":{\"outlinewidth\":0,\"ticks\":\"\"},\"colorscale\":[[0.0,\"#0d0887\"],[0.1111111111111111,\"#46039f\"],[0.2222222222222222,\"#7201a8\"],[0.3333333333333333,\"#9c179e\"],[0.4444444444444444,\"#bd3786\"],[0.5555555555555556,\"#d8576b\"],[0.6666666666666666,\"#ed7953\"],[0.7777777777777778,\"#fb9f3a\"],[0.8888888888888888,\"#fdca26\"],[1.0,\"#f0f921\"]],\"type\":\"heatmapgl\"}],\"histogram\":[{\"marker\":{\"pattern\":{\"fillmode\":\"overlay\",\"size\":10,\"solidity\":0.2}},\"type\":\"histogram\"}],\"histogram2d\":[{\"colorbar\":{\"outlinewidth\":0,\"ticks\":\"\"},\"colorscale\":[[0.0,\"#0d0887\"],[0.1111111111111111,\"#46039f\"],[0.2222222222222222,\"#7201a8\"],[0.3333333333333333,\"#9c179e\"],[0.4444444444444444,\"#bd3786\"],[0.5555555555555556,\"#d8576b\"],[0.6666666666666666,\"#ed7953\"],[0.7777777777777778,\"#fb9f3a\"],[0.8888888888888888,\"#fdca26\"],[1.0,\"#f0f921\"]],\"type\":\"histogram2d\"}],\"histogram2dcontour\":[{\"colorbar\":{\"outlinewidth\":0,\"ticks\":\"\"},\"colorscale\":[[0.0,\"#0d0887\"],[0.1111111111111111,\"#46039f\"],[0.2222222222222222,\"#7201a8\"],[0.3333333333333333,\"#9c179e\"],[0.4444444444444444,\"#bd3786\"],[0.5555555555555556,\"#d8576b\"],[0.6666666666666666,\"#ed7953\"],[0.7777777777777778,\"#fb9f3a\"],[0.8888888888888888,\"#fdca26\"],[1.0,\"#f0f921\"]],\"type\":\"histogram2dcontour\"}],\"mesh3d\":[{\"colorbar\":{\"outlinewidth\":0,\"ticks\":\"\"},\"type\":\"mesh3d\"}],\"parcoords\":[{\"line\":{\"colorbar\":{\"outlinewidth\":0,\"ticks\":\"\"}},\"type\":\"parcoords\"}],\"pie\":[{\"automargin\":true,\"type\":\"pie\"}],\"scatter\":[{\"marker\":{\"colorbar\":{\"outlinewidth\":0,\"ticks\":\"\"}},\"type\":\"scatter\"}],\"scatter3d\":[{\"line\":{\"colorbar\":{\"outlinewidth\":0,\"ticks\":\"\"}},\"marker\":{\"colorbar\":{\"outlinewidth\":0,\"ticks\":\"\"}},\"type\":\"scatter3d\"}],\"scattercarpet\":[{\"marker\":{\"colorbar\":{\"outlinewidth\":0,\"ticks\":\"\"}},\"type\":\"scattercarpet\"}],\"scattergeo\":[{\"marker\":{\"colorbar\":{\"outlinewidth\":0,\"ticks\":\"\"}},\"type\":\"scattergeo\"}],\"scattergl\":[{\"marker\":{\"colorbar\":{\"outlinewidth\":0,\"ticks\":\"\"}},\"type\":\"scattergl\"}],\"scattermapbox\":[{\"marker\":{\"colorbar\":{\"outlinewidth\":0,\"ticks\":\"\"}},\"type\":\"scattermapbox\"}],\"scatterpolar\":[{\"marker\":{\"colorbar\":{\"outlinewidth\":0,\"ticks\":\"\"}},\"type\":\"scatterpolar\"}],\"scatterpolargl\":[{\"marker\":{\"colorbar\":{\"outlinewidth\":0,\"ticks\":\"\"}},\"type\":\"scatterpolargl\"}],\"scatterternary\":[{\"marker\":{\"colorbar\":{\"outlinewidth\":0,\"ticks\":\"\"}},\"type\":\"scatterternary\"}],\"surface\":[{\"colorbar\":{\"outlinewidth\":0,\"ticks\":\"\"},\"colorscale\":[[0.0,\"#0d0887\"],[0.1111111111111111,\"#46039f\"],[0.2222222222222222,\"#7201a8\"],[0.3333333333333333,\"#9c179e\"],[0.4444444444444444,\"#bd3786\"],[0.5555555555555556,\"#d8576b\"],[0.6666666666666666,\"#ed7953\"],[0.7777777777777778,\"#fb9f3a\"],[0.8888888888888888,\"#fdca26\"],[1.0,\"#f0f921\"]],\"type\":\"surface\"}],\"table\":[{\"cells\":{\"fill\":{\"color\":\"#EBF0F8\"},\"line\":{\"color\":\"white\"}},\"header\":{\"fill\":{\"color\":\"#C8D4E3\"},\"line\":{\"color\":\"white\"}},\"type\":\"table\"}]},\"layout\":{\"annotationdefaults\":{\"arrowcolor\":\"#2a3f5f\",\"arrowhead\":0,\"arrowwidth\":1},\"autotypenumbers\":\"strict\",\"coloraxis\":{\"colorbar\":{\"outlinewidth\":0,\"ticks\":\"\"}},\"colorscale\":{\"diverging\":[[0,\"#8e0152\"],[0.1,\"#c51b7d\"],[0.2,\"#de77ae\"],[0.3,\"#f1b6da\"],[0.4,\"#fde0ef\"],[0.5,\"#f7f7f7\"],[0.6,\"#e6f5d0\"],[0.7,\"#b8e186\"],[0.8,\"#7fbc41\"],[0.9,\"#4d9221\"],[1,\"#276419\"]],\"sequential\":[[0.0,\"#0d0887\"],[0.1111111111111111,\"#46039f\"],[0.2222222222222222,\"#7201a8\"],[0.3333333333333333,\"#9c179e\"],[0.4444444444444444,\"#bd3786\"],[0.5555555555555556,\"#d8576b\"],[0.6666666666666666,\"#ed7953\"],[0.7777777777777778,\"#fb9f3a\"],[0.8888888888888888,\"#fdca26\"],[1.0,\"#f0f921\"]],\"sequentialminus\":[[0.0,\"#0d0887\"],[0.1111111111111111,\"#46039f\"],[0.2222222222222222,\"#7201a8\"],[0.3333333333333333,\"#9c179e\"],[0.4444444444444444,\"#bd3786\"],[0.5555555555555556,\"#d8576b\"],[0.6666666666666666,\"#ed7953\"],[0.7777777777777778,\"#fb9f3a\"],[0.8888888888888888,\"#fdca26\"],[1.0,\"#f0f921\"]]},\"colorway\":[\"#636efa\",\"#EF553B\",\"#00cc96\",\"#ab63fa\",\"#FFA15A\",\"#19d3f3\",\"#FF6692\",\"#B6E880\",\"#FF97FF\",\"#FECB52\"],\"font\":{\"color\":\"#2a3f5f\"},\"geo\":{\"bgcolor\":\"white\",\"lakecolor\":\"white\",\"landcolor\":\"#E5ECF6\",\"showlakes\":true,\"showland\":true,\"subunitcolor\":\"white\"},\"hoverlabel\":{\"align\":\"left\"},\"hovermode\":\"closest\",\"mapbox\":{\"style\":\"light\"},\"paper_bgcolor\":\"white\",\"plot_bgcolor\":\"#E5ECF6\",\"polar\":{\"angularaxis\":{\"gridcolor\":\"white\",\"linecolor\":\"white\",\"ticks\":\"\"},\"bgcolor\":\"#E5ECF6\",\"radialaxis\":{\"gridcolor\":\"white\",\"linecolor\":\"white\",\"ticks\":\"\"}},\"scene\":{\"xaxis\":{\"backgroundcolor\":\"#E5ECF6\",\"gridcolor\":\"white\",\"gridwidth\":2,\"linecolor\":\"white\",\"showbackground\":true,\"ticks\":\"\",\"zerolinecolor\":\"white\"},\"yaxis\":{\"backgroundcolor\":\"#E5ECF6\",\"gridcolor\":\"white\",\"gridwidth\":2,\"linecolor\":\"white\",\"showbackground\":true,\"ticks\":\"\",\"zerolinecolor\":\"white\"},\"zaxis\":{\"backgroundcolor\":\"#E5ECF6\",\"gridcolor\":\"white\",\"gridwidth\":2,\"linecolor\":\"white\",\"showbackground\":true,\"ticks\":\"\",\"zerolinecolor\":\"white\"}},\"shapedefaults\":{\"line\":{\"color\":\"#2a3f5f\"}},\"ternary\":{\"aaxis\":{\"gridcolor\":\"white\",\"linecolor\":\"white\",\"ticks\":\"\"},\"baxis\":{\"gridcolor\":\"white\",\"linecolor\":\"white\",\"ticks\":\"\"},\"bgcolor\":\"#E5ECF6\",\"caxis\":{\"gridcolor\":\"white\",\"linecolor\":\"white\",\"ticks\":\"\"}},\"title\":{\"x\":0.05},\"xaxis\":{\"automargin\":true,\"gridcolor\":\"white\",\"linecolor\":\"white\",\"ticks\":\"\",\"title\":{\"standoff\":15},\"zerolinecolor\":\"white\",\"zerolinewidth\":2},\"yaxis\":{\"automargin\":true,\"gridcolor\":\"white\",\"linecolor\":\"white\",\"ticks\":\"\",\"title\":{\"standoff\":15},\"zerolinecolor\":\"white\",\"zerolinewidth\":2}}},\"title\":{\"text\":\"Entrada total por dia da semana no m\\u00eas de novembro\"},\"xaxis\":{\"anchor\":\"y\",\"domain\":[0.0,1.0],\"title\":{\"text\":\"Dia da semana\"}},\"yaxis\":{\"anchor\":\"x\",\"domain\":[0.0,1.0],\"title\":{\"text\":\"Entrada\"}}},                        {\"responsive\": true}                    ).then(function(){\n",
       "                            \n",
       "var gd = document.getElementById('cc924326-3d96-4809-8cca-866046566800');\n",
       "var x = new MutationObserver(function (mutations, observer) {{\n",
       "        var display = window.getComputedStyle(gd).display;\n",
       "        if (!display || display === 'none') {{\n",
       "            console.log([gd, 'removed!']);\n",
       "            Plotly.purge(gd);\n",
       "            observer.disconnect();\n",
       "        }}\n",
       "}});\n",
       "\n",
       "// Listen for the removal of the full notebook cells\n",
       "var notebookContainer = gd.closest('#notebook-container');\n",
       "if (notebookContainer) {{\n",
       "    x.observe(notebookContainer, {childList: true});\n",
       "}}\n",
       "\n",
       "// Listen for the clearing of the current output cell\n",
       "var outputEl = gd.closest('.output');\n",
       "if (outputEl) {{\n",
       "    x.observe(outputEl, {childList: true});\n",
       "}}\n",
       "\n",
       "                        })                };                });            </script>        </div>"
      ]
     },
     "metadata": {},
     "output_type": "display_data"
    }
   ],
   "source": [
    "import datetime\n",
    "\n",
    "venda_produtos_cliente['data'] = pd.to_datetime(venda_produtos_cliente['data'])\n",
    "venda_produtos_cliente['dia_sem'] = venda_produtos_cliente['data'].dt.weekday\n",
    "entrada_bruta_sem = venda_produtos_cliente.groupby(['dia_sem']).sum().sort_values('dia_sem').reset_index()\n",
    "\n",
    "entrada_bruta_sem[\"dia_sem\"].replace({0:\"Segunda-feira\", 1: \"Terça-feira\", 2: \"Quarta-feira\", 3: \"Quinta-feira\", 4: \"Sexta-feira\", 5: \"Sábado\", 6: \"Domingo\"}, inplace=True)\n",
    "\n",
    "#Plotando Gráfico\n",
    "fig = px.bar(entrada_bruta_sem,\n",
    "             x='dia_sem', y=\"total_preco\",\n",
    "             labels={\"dia_sem\": \"Dia da semana\", \"total_preco\": \"Entrada total\"},\n",
    "             barmode='stack')\n",
    "fig.update_layout(title = 'Entrada total por dia da semana no mês de novembro')\n",
    "fig.update_xaxes(title = 'Dia da semana')\n",
    "fig.update_yaxes(title = 'Entrada')\n",
    "fig.show()"
   ]
  },
  {
   "cell_type": "code",
   "execution_count": 169,
   "id": "1be6fbad",
   "metadata": {},
   "outputs": [
    {
     "data": {
      "text/html": [
       "<div>\n",
       "<style scoped>\n",
       "    .dataframe tbody tr th:only-of-type {\n",
       "        vertical-align: middle;\n",
       "    }\n",
       "\n",
       "    .dataframe tbody tr th {\n",
       "        vertical-align: top;\n",
       "    }\n",
       "\n",
       "    .dataframe thead th {\n",
       "        text-align: right;\n",
       "    }\n",
       "</style>\n",
       "<table border=\"1\" class=\"dataframe\">\n",
       "  <thead>\n",
       "    <tr style=\"text-align: right;\">\n",
       "      <th></th>\n",
       "      <th>id_vendas</th>\n",
       "      <th>id_produtos</th>\n",
       "      <th>quantidade</th>\n",
       "      <th>custo</th>\n",
       "      <th>preco</th>\n",
       "      <th>estoque</th>\n",
       "      <th>id_clientes</th>\n",
       "      <th>total_preco</th>\n",
       "      <th>lucro</th>\n",
       "      <th>dia_sem</th>\n",
       "    </tr>\n",
       "    <tr>\n",
       "      <th>data</th>\n",
       "      <th></th>\n",
       "      <th></th>\n",
       "      <th></th>\n",
       "      <th></th>\n",
       "      <th></th>\n",
       "      <th></th>\n",
       "      <th></th>\n",
       "      <th></th>\n",
       "      <th></th>\n",
       "      <th></th>\n",
       "    </tr>\n",
       "  </thead>\n",
       "  <tbody>\n",
       "    <tr>\n",
       "      <th>2021-11-01</th>\n",
       "      <td>714</td>\n",
       "      <td>2292</td>\n",
       "      <td>305</td>\n",
       "      <td>1339.96</td>\n",
       "      <td>1931.13</td>\n",
       "      <td>2749</td>\n",
       "      <td>14165</td>\n",
       "      <td>4858.95</td>\n",
       "      <td>1407.10</td>\n",
       "      <td>0</td>\n",
       "    </tr>\n",
       "    <tr>\n",
       "      <th>2021-11-02</th>\n",
       "      <td>3757</td>\n",
       "      <td>3352</td>\n",
       "      <td>483</td>\n",
       "      <td>2731.18</td>\n",
       "      <td>3678.03</td>\n",
       "      <td>4192</td>\n",
       "      <td>20332</td>\n",
       "      <td>8973.10</td>\n",
       "      <td>2287.13</td>\n",
       "      <td>196</td>\n",
       "    </tr>\n",
       "    <tr>\n",
       "      <th>2021-11-03</th>\n",
       "      <td>2229</td>\n",
       "      <td>1277</td>\n",
       "      <td>156</td>\n",
       "      <td>1067.39</td>\n",
       "      <td>1432.25</td>\n",
       "      <td>1491</td>\n",
       "      <td>8032</td>\n",
       "      <td>3159.30</td>\n",
       "      <td>777.89</td>\n",
       "      <td>140</td>\n",
       "    </tr>\n",
       "    <tr>\n",
       "      <th>2021-11-04</th>\n",
       "      <td>4751</td>\n",
       "      <td>1986</td>\n",
       "      <td>298</td>\n",
       "      <td>1404.58</td>\n",
       "      <td>1966.09</td>\n",
       "      <td>2703</td>\n",
       "      <td>13461</td>\n",
       "      <td>4762.42</td>\n",
       "      <td>1370.21</td>\n",
       "      <td>351</td>\n",
       "    </tr>\n",
       "    <tr>\n",
       "      <th>2021-11-05</th>\n",
       "      <td>7598</td>\n",
       "      <td>2496</td>\n",
       "      <td>353</td>\n",
       "      <td>2049.27</td>\n",
       "      <td>2776.89</td>\n",
       "      <td>2936</td>\n",
       "      <td>13460</td>\n",
       "      <td>7406.45</td>\n",
       "      <td>1912.06</td>\n",
       "      <td>576</td>\n",
       "    </tr>\n",
       "    <tr>\n",
       "      <th>2021-11-06</th>\n",
       "      <td>9065</td>\n",
       "      <td>2414</td>\n",
       "      <td>345</td>\n",
       "      <td>1843.65</td>\n",
       "      <td>2512.10</td>\n",
       "      <td>2763</td>\n",
       "      <td>15322</td>\n",
       "      <td>5528.56</td>\n",
       "      <td>1562.54</td>\n",
       "      <td>695</td>\n",
       "    </tr>\n",
       "    <tr>\n",
       "      <th>2021-11-07</th>\n",
       "      <td>12186</td>\n",
       "      <td>2810</td>\n",
       "      <td>372</td>\n",
       "      <td>2309.01</td>\n",
       "      <td>3244.00</td>\n",
       "      <td>3018</td>\n",
       "      <td>18196</td>\n",
       "      <td>8030.44</td>\n",
       "      <td>2299.63</td>\n",
       "      <td>924</td>\n",
       "    </tr>\n",
       "    <tr>\n",
       "      <th>2021-11-08</th>\n",
       "      <td>15091</td>\n",
       "      <td>2863</td>\n",
       "      <td>376</td>\n",
       "      <td>1697.70</td>\n",
       "      <td>2494.25</td>\n",
       "      <td>3112</td>\n",
       "      <td>16620</td>\n",
       "      <td>5873.07</td>\n",
       "      <td>1848.27</td>\n",
       "      <td>0</td>\n",
       "    </tr>\n",
       "    <tr>\n",
       "      <th>2021-11-09</th>\n",
       "      <td>25693</td>\n",
       "      <td>3990</td>\n",
       "      <td>550</td>\n",
       "      <td>2664.94</td>\n",
       "      <td>3743.20</td>\n",
       "      <td>4962</td>\n",
       "      <td>21666</td>\n",
       "      <td>9594.89</td>\n",
       "      <td>2777.89</td>\n",
       "      <td>227</td>\n",
       "    </tr>\n",
       "    <tr>\n",
       "      <th>2021-11-10</th>\n",
       "      <td>20420</td>\n",
       "      <td>2654</td>\n",
       "      <td>391</td>\n",
       "      <td>2325.76</td>\n",
       "      <td>3148.24</td>\n",
       "      <td>3210</td>\n",
       "      <td>16882</td>\n",
       "      <td>8325.23</td>\n",
       "      <td>2149.41</td>\n",
       "      <td>312</td>\n",
       "    </tr>\n",
       "    <tr>\n",
       "      <th>2021-11-11</th>\n",
       "      <td>31754</td>\n",
       "      <td>3737</td>\n",
       "      <td>535</td>\n",
       "      <td>2731.82</td>\n",
       "      <td>3910.30</td>\n",
       "      <td>4091</td>\n",
       "      <td>19672</td>\n",
       "      <td>9743.61</td>\n",
       "      <td>3002.25</td>\n",
       "      <td>645</td>\n",
       "    </tr>\n",
       "    <tr>\n",
       "      <th>2021-11-12</th>\n",
       "      <td>37684</td>\n",
       "      <td>3692</td>\n",
       "      <td>602</td>\n",
       "      <td>3614.22</td>\n",
       "      <td>4935.65</td>\n",
       "      <td>4600</td>\n",
       "      <td>20589</td>\n",
       "      <td>12304.10</td>\n",
       "      <td>3368.67</td>\n",
       "      <td>912</td>\n",
       "    </tr>\n",
       "    <tr>\n",
       "      <th>2021-11-13</th>\n",
       "      <td>40523</td>\n",
       "      <td>3676</td>\n",
       "      <td>546</td>\n",
       "      <td>2487.36</td>\n",
       "      <td>3709.78</td>\n",
       "      <td>4579</td>\n",
       "      <td>18861</td>\n",
       "      <td>9138.35</td>\n",
       "      <td>3011.77</td>\n",
       "      <td>1095</td>\n",
       "    </tr>\n",
       "    <tr>\n",
       "      <th>2021-11-14</th>\n",
       "      <td>12908</td>\n",
       "      <td>1268</td>\n",
       "      <td>153</td>\n",
       "      <td>845.45</td>\n",
       "      <td>1157.53</td>\n",
       "      <td>1294</td>\n",
       "      <td>7050</td>\n",
       "      <td>2440.97</td>\n",
       "      <td>696.27</td>\n",
       "      <td>390</td>\n",
       "    </tr>\n",
       "    <tr>\n",
       "      <th>2021-11-15</th>\n",
       "      <td>3757</td>\n",
       "      <td>305</td>\n",
       "      <td>45</td>\n",
       "      <td>243.30</td>\n",
       "      <td>330.03</td>\n",
       "      <td>288</td>\n",
       "      <td>1966</td>\n",
       "      <td>775.92</td>\n",
       "      <td>212.15</td>\n",
       "      <td>0</td>\n",
       "    </tr>\n",
       "    <tr>\n",
       "      <th>2021-11-16</th>\n",
       "      <td>2585</td>\n",
       "      <td>201</td>\n",
       "      <td>28</td>\n",
       "      <td>66.47</td>\n",
       "      <td>84.97</td>\n",
       "      <td>364</td>\n",
       "      <td>1141</td>\n",
       "      <td>202.71</td>\n",
       "      <td>51.50</td>\n",
       "      <td>11</td>\n",
       "    </tr>\n",
       "    <tr>\n",
       "      <th>2021-11-17</th>\n",
       "      <td>2958</td>\n",
       "      <td>199</td>\n",
       "      <td>24</td>\n",
       "      <td>267.31</td>\n",
       "      <td>354.17</td>\n",
       "      <td>225</td>\n",
       "      <td>1151</td>\n",
       "      <td>504.97</td>\n",
       "      <td>138.41</td>\n",
       "      <td>24</td>\n",
       "    </tr>\n",
       "    <tr>\n",
       "      <th>2021-11-18</th>\n",
       "      <td>4168</td>\n",
       "      <td>264</td>\n",
       "      <td>50</td>\n",
       "      <td>135.97</td>\n",
       "      <td>210.71</td>\n",
       "      <td>325</td>\n",
       "      <td>1935</td>\n",
       "      <td>729.87</td>\n",
       "      <td>252.84</td>\n",
       "      <td>48</td>\n",
       "    </tr>\n",
       "    <tr>\n",
       "      <th>2021-11-19</th>\n",
       "      <td>4709</td>\n",
       "      <td>296</td>\n",
       "      <td>38</td>\n",
       "      <td>329.82</td>\n",
       "      <td>453.11</td>\n",
       "      <td>284</td>\n",
       "      <td>1330</td>\n",
       "      <td>824.17</td>\n",
       "      <td>261.92</td>\n",
       "      <td>68</td>\n",
       "    </tr>\n",
       "    <tr>\n",
       "      <th>2021-11-20</th>\n",
       "      <td>7450</td>\n",
       "      <td>535</td>\n",
       "      <td>68</td>\n",
       "      <td>248.93</td>\n",
       "      <td>345.31</td>\n",
       "      <td>443</td>\n",
       "      <td>2757</td>\n",
       "      <td>918.03</td>\n",
       "      <td>248.79</td>\n",
       "      <td>125</td>\n",
       "    </tr>\n",
       "    <tr>\n",
       "      <th>2021-11-21</th>\n",
       "      <td>5096</td>\n",
       "      <td>270</td>\n",
       "      <td>33</td>\n",
       "      <td>197.45</td>\n",
       "      <td>301.58</td>\n",
       "      <td>317</td>\n",
       "      <td>1747</td>\n",
       "      <td>716.07</td>\n",
       "      <td>248.26</td>\n",
       "      <td>96</td>\n",
       "    </tr>\n",
       "    <tr>\n",
       "      <th>2021-11-22</th>\n",
       "      <td>3315</td>\n",
       "      <td>170</td>\n",
       "      <td>27</td>\n",
       "      <td>49.33</td>\n",
       "      <td>84.69</td>\n",
       "      <td>182</td>\n",
       "      <td>1080</td>\n",
       "      <td>246.11</td>\n",
       "      <td>103.95</td>\n",
       "      <td>0</td>\n",
       "    </tr>\n",
       "    <tr>\n",
       "      <th>2021-11-23</th>\n",
       "      <td>5512</td>\n",
       "      <td>297</td>\n",
       "      <td>46</td>\n",
       "      <td>281.90</td>\n",
       "      <td>395.62</td>\n",
       "      <td>361</td>\n",
       "      <td>1648</td>\n",
       "      <td>851.60</td>\n",
       "      <td>302.35</td>\n",
       "      <td>16</td>\n",
       "    </tr>\n",
       "    <tr>\n",
       "      <th>2021-11-24</th>\n",
       "      <td>6507</td>\n",
       "      <td>288</td>\n",
       "      <td>42</td>\n",
       "      <td>291.84</td>\n",
       "      <td>427.46</td>\n",
       "      <td>403</td>\n",
       "      <td>2036</td>\n",
       "      <td>902.73</td>\n",
       "      <td>274.90</td>\n",
       "      <td>36</td>\n",
       "    </tr>\n",
       "    <tr>\n",
       "      <th>2021-11-25</th>\n",
       "      <td>7610</td>\n",
       "      <td>331</td>\n",
       "      <td>48</td>\n",
       "      <td>271.39</td>\n",
       "      <td>358.66</td>\n",
       "      <td>523</td>\n",
       "      <td>2094</td>\n",
       "      <td>575.94</td>\n",
       "      <td>152.56</td>\n",
       "      <td>60</td>\n",
       "    </tr>\n",
       "    <tr>\n",
       "      <th>2021-11-26</th>\n",
       "      <td>6783</td>\n",
       "      <td>310</td>\n",
       "      <td>41</td>\n",
       "      <td>147.80</td>\n",
       "      <td>224.97</td>\n",
       "      <td>460</td>\n",
       "      <td>1282</td>\n",
       "      <td>634.84</td>\n",
       "      <td>238.79</td>\n",
       "      <td>68</td>\n",
       "    </tr>\n",
       "    <tr>\n",
       "      <th>2021-11-27</th>\n",
       "      <td>10500</td>\n",
       "      <td>386</td>\n",
       "      <td>66</td>\n",
       "      <td>432.03</td>\n",
       "      <td>575.70</td>\n",
       "      <td>403</td>\n",
       "      <td>2504</td>\n",
       "      <td>1787.12</td>\n",
       "      <td>434.41</td>\n",
       "      <td>125</td>\n",
       "    </tr>\n",
       "    <tr>\n",
       "      <th>2021-11-28</th>\n",
       "      <td>8850</td>\n",
       "      <td>288</td>\n",
       "      <td>46</td>\n",
       "      <td>260.56</td>\n",
       "      <td>382.21</td>\n",
       "      <td>431</td>\n",
       "      <td>1785</td>\n",
       "      <td>922.44</td>\n",
       "      <td>297.81</td>\n",
       "      <td>120</td>\n",
       "    </tr>\n",
       "    <tr>\n",
       "      <th>2021-11-29</th>\n",
       "      <td>11148</td>\n",
       "      <td>325</td>\n",
       "      <td>62</td>\n",
       "      <td>373.09</td>\n",
       "      <td>467.12</td>\n",
       "      <td>694</td>\n",
       "      <td>2162</td>\n",
       "      <td>1194.52</td>\n",
       "      <td>226.72</td>\n",
       "      <td>0</td>\n",
       "    </tr>\n",
       "    <tr>\n",
       "      <th>2021-11-30</th>\n",
       "      <td>11224</td>\n",
       "      <td>275</td>\n",
       "      <td>58</td>\n",
       "      <td>177.55</td>\n",
       "      <td>264.61</td>\n",
       "      <td>537</td>\n",
       "      <td>2306</td>\n",
       "      <td>612.72</td>\n",
       "      <td>209.47</td>\n",
       "      <td>23</td>\n",
       "    </tr>\n",
       "  </tbody>\n",
       "</table>\n",
       "</div>"
      ],
      "text/plain": [
       "            id_vendas  id_produtos  quantidade    custo    preco  estoque  \\\n",
       "data                                                                        \n",
       "2021-11-01        714         2292         305  1339.96  1931.13     2749   \n",
       "2021-11-02       3757         3352         483  2731.18  3678.03     4192   \n",
       "2021-11-03       2229         1277         156  1067.39  1432.25     1491   \n",
       "2021-11-04       4751         1986         298  1404.58  1966.09     2703   \n",
       "2021-11-05       7598         2496         353  2049.27  2776.89     2936   \n",
       "2021-11-06       9065         2414         345  1843.65  2512.10     2763   \n",
       "2021-11-07      12186         2810         372  2309.01  3244.00     3018   \n",
       "2021-11-08      15091         2863         376  1697.70  2494.25     3112   \n",
       "2021-11-09      25693         3990         550  2664.94  3743.20     4962   \n",
       "2021-11-10      20420         2654         391  2325.76  3148.24     3210   \n",
       "2021-11-11      31754         3737         535  2731.82  3910.30     4091   \n",
       "2021-11-12      37684         3692         602  3614.22  4935.65     4600   \n",
       "2021-11-13      40523         3676         546  2487.36  3709.78     4579   \n",
       "2021-11-14      12908         1268         153   845.45  1157.53     1294   \n",
       "2021-11-15       3757          305          45   243.30   330.03      288   \n",
       "2021-11-16       2585          201          28    66.47    84.97      364   \n",
       "2021-11-17       2958          199          24   267.31   354.17      225   \n",
       "2021-11-18       4168          264          50   135.97   210.71      325   \n",
       "2021-11-19       4709          296          38   329.82   453.11      284   \n",
       "2021-11-20       7450          535          68   248.93   345.31      443   \n",
       "2021-11-21       5096          270          33   197.45   301.58      317   \n",
       "2021-11-22       3315          170          27    49.33    84.69      182   \n",
       "2021-11-23       5512          297          46   281.90   395.62      361   \n",
       "2021-11-24       6507          288          42   291.84   427.46      403   \n",
       "2021-11-25       7610          331          48   271.39   358.66      523   \n",
       "2021-11-26       6783          310          41   147.80   224.97      460   \n",
       "2021-11-27      10500          386          66   432.03   575.70      403   \n",
       "2021-11-28       8850          288          46   260.56   382.21      431   \n",
       "2021-11-29      11148          325          62   373.09   467.12      694   \n",
       "2021-11-30      11224          275          58   177.55   264.61      537   \n",
       "\n",
       "            id_clientes  total_preco    lucro  dia_sem  \n",
       "data                                                    \n",
       "2021-11-01        14165      4858.95  1407.10        0  \n",
       "2021-11-02        20332      8973.10  2287.13      196  \n",
       "2021-11-03         8032      3159.30   777.89      140  \n",
       "2021-11-04        13461      4762.42  1370.21      351  \n",
       "2021-11-05        13460      7406.45  1912.06      576  \n",
       "2021-11-06        15322      5528.56  1562.54      695  \n",
       "2021-11-07        18196      8030.44  2299.63      924  \n",
       "2021-11-08        16620      5873.07  1848.27        0  \n",
       "2021-11-09        21666      9594.89  2777.89      227  \n",
       "2021-11-10        16882      8325.23  2149.41      312  \n",
       "2021-11-11        19672      9743.61  3002.25      645  \n",
       "2021-11-12        20589     12304.10  3368.67      912  \n",
       "2021-11-13        18861      9138.35  3011.77     1095  \n",
       "2021-11-14         7050      2440.97   696.27      390  \n",
       "2021-11-15         1966       775.92   212.15        0  \n",
       "2021-11-16         1141       202.71    51.50       11  \n",
       "2021-11-17         1151       504.97   138.41       24  \n",
       "2021-11-18         1935       729.87   252.84       48  \n",
       "2021-11-19         1330       824.17   261.92       68  \n",
       "2021-11-20         2757       918.03   248.79      125  \n",
       "2021-11-21         1747       716.07   248.26       96  \n",
       "2021-11-22         1080       246.11   103.95        0  \n",
       "2021-11-23         1648       851.60   302.35       16  \n",
       "2021-11-24         2036       902.73   274.90       36  \n",
       "2021-11-25         2094       575.94   152.56       60  \n",
       "2021-11-26         1282       634.84   238.79       68  \n",
       "2021-11-27         2504      1787.12   434.41      125  \n",
       "2021-11-28         1785       922.44   297.81      120  \n",
       "2021-11-29         2162      1194.52   226.72        0  \n",
       "2021-11-30         2306       612.72   209.47       23  "
      ]
     },
     "execution_count": 169,
     "metadata": {},
     "output_type": "execute_result"
    }
   ],
   "source": [
    "venda_produtos_cliente_agrupado_por_dia"
   ]
  },
  {
   "cell_type": "code",
   "execution_count": 171,
   "id": "988640bb",
   "metadata": {},
   "outputs": [
    {
     "ename": "TypeError",
     "evalue": "The DType <class 'numpy.dtype[datetime64]'> could not be promoted by <class 'numpy.dtype[float64]'>. This means that no common DType exists for the given inputs. For example they cannot be stored in a single array unless the dtype is `object`. The full list of DTypes is: (<class 'numpy.dtype[datetime64]'>, <class 'numpy.dtype[float64]'>)",
     "output_type": "error",
     "traceback": [
      "\u001b[1;31m---------------------------------------------------------------------------\u001b[0m",
      "\u001b[1;31mTypeError\u001b[0m                                 Traceback (most recent call last)",
      "\u001b[1;32m<ipython-input-171-9d08d673582f>\u001b[0m in \u001b[0;36m<module>\u001b[1;34m\u001b[0m\n\u001b[0;32m      7\u001b[0m \u001b[1;31m#Normalizando os dados\u001b[0m\u001b[1;33m\u001b[0m\u001b[1;33m\u001b[0m\u001b[1;33m\u001b[0m\u001b[0m\n\u001b[0;32m      8\u001b[0m \u001b[0mabs_scaler\u001b[0m \u001b[1;33m=\u001b[0m \u001b[0mMaxAbsScaler\u001b[0m\u001b[1;33m(\u001b[0m\u001b[1;33m)\u001b[0m\u001b[1;33m\u001b[0m\u001b[1;33m\u001b[0m\u001b[0m\n\u001b[1;32m----> 9\u001b[1;33m \u001b[0mabs_scaler\u001b[0m\u001b[1;33m.\u001b[0m\u001b[0mfit\u001b[0m\u001b[1;33m(\u001b[0m\u001b[0mvenda_produtos_cliente_agrupado_por_dia\u001b[0m\u001b[1;33m)\u001b[0m\u001b[1;33m\u001b[0m\u001b[1;33m\u001b[0m\u001b[0m\n\u001b[0m\u001b[0;32m     10\u001b[0m \u001b[0mabs_scaler\u001b[0m\u001b[1;33m.\u001b[0m\u001b[0mmax_abs_\u001b[0m\u001b[1;33m\u001b[0m\u001b[1;33m\u001b[0m\u001b[0m\n\u001b[0;32m     11\u001b[0m \u001b[0mscaled_data\u001b[0m \u001b[1;33m=\u001b[0m \u001b[0mabs_scaler\u001b[0m\u001b[1;33m.\u001b[0m\u001b[0mtransform\u001b[0m\u001b[1;33m(\u001b[0m\u001b[0mvenda_produtos_cliente_agrupado_por_dia\u001b[0m\u001b[1;33m)\u001b[0m\u001b[1;33m\u001b[0m\u001b[1;33m\u001b[0m\u001b[0m\n",
      "\u001b[1;32m~\\anaconda3\\lib\\site-packages\\sklearn\\preprocessing\\_data.py\u001b[0m in \u001b[0;36mfit\u001b[1;34m(self, X, y)\u001b[0m\n\u001b[0;32m   1042\u001b[0m         \u001b[1;31m# Reset internal state before fitting\u001b[0m\u001b[1;33m\u001b[0m\u001b[1;33m\u001b[0m\u001b[1;33m\u001b[0m\u001b[0m\n\u001b[0;32m   1043\u001b[0m         \u001b[0mself\u001b[0m\u001b[1;33m.\u001b[0m\u001b[0m_reset\u001b[0m\u001b[1;33m(\u001b[0m\u001b[1;33m)\u001b[0m\u001b[1;33m\u001b[0m\u001b[1;33m\u001b[0m\u001b[0m\n\u001b[1;32m-> 1044\u001b[1;33m         \u001b[1;32mreturn\u001b[0m \u001b[0mself\u001b[0m\u001b[1;33m.\u001b[0m\u001b[0mpartial_fit\u001b[0m\u001b[1;33m(\u001b[0m\u001b[0mX\u001b[0m\u001b[1;33m,\u001b[0m \u001b[0my\u001b[0m\u001b[1;33m)\u001b[0m\u001b[1;33m\u001b[0m\u001b[1;33m\u001b[0m\u001b[0m\n\u001b[0m\u001b[0;32m   1045\u001b[0m \u001b[1;33m\u001b[0m\u001b[0m\n\u001b[0;32m   1046\u001b[0m     \u001b[1;32mdef\u001b[0m \u001b[0mpartial_fit\u001b[0m\u001b[1;33m(\u001b[0m\u001b[0mself\u001b[0m\u001b[1;33m,\u001b[0m \u001b[0mX\u001b[0m\u001b[1;33m,\u001b[0m \u001b[0my\u001b[0m\u001b[1;33m=\u001b[0m\u001b[1;32mNone\u001b[0m\u001b[1;33m)\u001b[0m\u001b[1;33m:\u001b[0m\u001b[1;33m\u001b[0m\u001b[1;33m\u001b[0m\u001b[0m\n",
      "\u001b[1;32m~\\anaconda3\\lib\\site-packages\\sklearn\\preprocessing\\_data.py\u001b[0m in \u001b[0;36mpartial_fit\u001b[1;34m(self, X, y)\u001b[0m\n\u001b[0;32m   1067\u001b[0m         \"\"\"\n\u001b[0;32m   1068\u001b[0m         \u001b[0mfirst_pass\u001b[0m \u001b[1;33m=\u001b[0m \u001b[1;32mnot\u001b[0m \u001b[0mhasattr\u001b[0m\u001b[1;33m(\u001b[0m\u001b[0mself\u001b[0m\u001b[1;33m,\u001b[0m \u001b[1;34m'n_samples_seen_'\u001b[0m\u001b[1;33m)\u001b[0m\u001b[1;33m\u001b[0m\u001b[1;33m\u001b[0m\u001b[0m\n\u001b[1;32m-> 1069\u001b[1;33m         X = self._validate_data(X, reset=first_pass,\n\u001b[0m\u001b[0;32m   1070\u001b[0m                                 \u001b[0maccept_sparse\u001b[0m\u001b[1;33m=\u001b[0m\u001b[1;33m(\u001b[0m\u001b[1;34m'csr'\u001b[0m\u001b[1;33m,\u001b[0m \u001b[1;34m'csc'\u001b[0m\u001b[1;33m)\u001b[0m\u001b[1;33m,\u001b[0m \u001b[0mestimator\u001b[0m\u001b[1;33m=\u001b[0m\u001b[0mself\u001b[0m\u001b[1;33m,\u001b[0m\u001b[1;33m\u001b[0m\u001b[1;33m\u001b[0m\u001b[0m\n\u001b[0;32m   1071\u001b[0m                                 \u001b[0mdtype\u001b[0m\u001b[1;33m=\u001b[0m\u001b[0mFLOAT_DTYPES\u001b[0m\u001b[1;33m,\u001b[0m\u001b[1;33m\u001b[0m\u001b[1;33m\u001b[0m\u001b[0m\n",
      "\u001b[1;32m~\\anaconda3\\lib\\site-packages\\sklearn\\base.py\u001b[0m in \u001b[0;36m_validate_data\u001b[1;34m(self, X, y, reset, validate_separately, **check_params)\u001b[0m\n\u001b[0;32m    419\u001b[0m             \u001b[0mout\u001b[0m \u001b[1;33m=\u001b[0m \u001b[0mX\u001b[0m\u001b[1;33m\u001b[0m\u001b[1;33m\u001b[0m\u001b[0m\n\u001b[0;32m    420\u001b[0m         \u001b[1;32melif\u001b[0m \u001b[0misinstance\u001b[0m\u001b[1;33m(\u001b[0m\u001b[0my\u001b[0m\u001b[1;33m,\u001b[0m \u001b[0mstr\u001b[0m\u001b[1;33m)\u001b[0m \u001b[1;32mand\u001b[0m \u001b[0my\u001b[0m \u001b[1;33m==\u001b[0m \u001b[1;34m'no_validation'\u001b[0m\u001b[1;33m:\u001b[0m\u001b[1;33m\u001b[0m\u001b[1;33m\u001b[0m\u001b[0m\n\u001b[1;32m--> 421\u001b[1;33m             \u001b[0mX\u001b[0m \u001b[1;33m=\u001b[0m \u001b[0mcheck_array\u001b[0m\u001b[1;33m(\u001b[0m\u001b[0mX\u001b[0m\u001b[1;33m,\u001b[0m \u001b[1;33m**\u001b[0m\u001b[0mcheck_params\u001b[0m\u001b[1;33m)\u001b[0m\u001b[1;33m\u001b[0m\u001b[1;33m\u001b[0m\u001b[0m\n\u001b[0m\u001b[0;32m    422\u001b[0m             \u001b[0mout\u001b[0m \u001b[1;33m=\u001b[0m \u001b[0mX\u001b[0m\u001b[1;33m\u001b[0m\u001b[1;33m\u001b[0m\u001b[0m\n\u001b[0;32m    423\u001b[0m         \u001b[1;32melse\u001b[0m\u001b[1;33m:\u001b[0m\u001b[1;33m\u001b[0m\u001b[1;33m\u001b[0m\u001b[0m\n",
      "\u001b[1;32m~\\anaconda3\\lib\\site-packages\\sklearn\\utils\\validation.py\u001b[0m in \u001b[0;36minner_f\u001b[1;34m(*args, **kwargs)\u001b[0m\n\u001b[0;32m     61\u001b[0m             \u001b[0mextra_args\u001b[0m \u001b[1;33m=\u001b[0m \u001b[0mlen\u001b[0m\u001b[1;33m(\u001b[0m\u001b[0margs\u001b[0m\u001b[1;33m)\u001b[0m \u001b[1;33m-\u001b[0m \u001b[0mlen\u001b[0m\u001b[1;33m(\u001b[0m\u001b[0mall_args\u001b[0m\u001b[1;33m)\u001b[0m\u001b[1;33m\u001b[0m\u001b[1;33m\u001b[0m\u001b[0m\n\u001b[0;32m     62\u001b[0m             \u001b[1;32mif\u001b[0m \u001b[0mextra_args\u001b[0m \u001b[1;33m<=\u001b[0m \u001b[1;36m0\u001b[0m\u001b[1;33m:\u001b[0m\u001b[1;33m\u001b[0m\u001b[1;33m\u001b[0m\u001b[0m\n\u001b[1;32m---> 63\u001b[1;33m                 \u001b[1;32mreturn\u001b[0m \u001b[0mf\u001b[0m\u001b[1;33m(\u001b[0m\u001b[1;33m*\u001b[0m\u001b[0margs\u001b[0m\u001b[1;33m,\u001b[0m \u001b[1;33m**\u001b[0m\u001b[0mkwargs\u001b[0m\u001b[1;33m)\u001b[0m\u001b[1;33m\u001b[0m\u001b[1;33m\u001b[0m\u001b[0m\n\u001b[0m\u001b[0;32m     64\u001b[0m \u001b[1;33m\u001b[0m\u001b[0m\n\u001b[0;32m     65\u001b[0m             \u001b[1;31m# extra_args > 0\u001b[0m\u001b[1;33m\u001b[0m\u001b[1;33m\u001b[0m\u001b[1;33m\u001b[0m\u001b[0m\n",
      "\u001b[1;32m~\\anaconda3\\lib\\site-packages\\sklearn\\utils\\validation.py\u001b[0m in \u001b[0;36mcheck_array\u001b[1;34m(array, accept_sparse, accept_large_sparse, dtype, order, copy, force_all_finite, ensure_2d, allow_nd, ensure_min_samples, ensure_min_features, estimator)\u001b[0m\n\u001b[0;32m    538\u001b[0m \u001b[1;33m\u001b[0m\u001b[0m\n\u001b[0;32m    539\u001b[0m         \u001b[1;32mif\u001b[0m \u001b[0mall\u001b[0m\u001b[1;33m(\u001b[0m\u001b[0misinstance\u001b[0m\u001b[1;33m(\u001b[0m\u001b[0mdtype\u001b[0m\u001b[1;33m,\u001b[0m \u001b[0mnp\u001b[0m\u001b[1;33m.\u001b[0m\u001b[0mdtype\u001b[0m\u001b[1;33m)\u001b[0m \u001b[1;32mfor\u001b[0m \u001b[0mdtype\u001b[0m \u001b[1;32min\u001b[0m \u001b[0mdtypes_orig\u001b[0m\u001b[1;33m)\u001b[0m\u001b[1;33m:\u001b[0m\u001b[1;33m\u001b[0m\u001b[1;33m\u001b[0m\u001b[0m\n\u001b[1;32m--> 540\u001b[1;33m             \u001b[0mdtype_orig\u001b[0m \u001b[1;33m=\u001b[0m \u001b[0mnp\u001b[0m\u001b[1;33m.\u001b[0m\u001b[0mresult_type\u001b[0m\u001b[1;33m(\u001b[0m\u001b[1;33m*\u001b[0m\u001b[0mdtypes_orig\u001b[0m\u001b[1;33m)\u001b[0m\u001b[1;33m\u001b[0m\u001b[1;33m\u001b[0m\u001b[0m\n\u001b[0m\u001b[0;32m    541\u001b[0m \u001b[1;33m\u001b[0m\u001b[0m\n\u001b[0;32m    542\u001b[0m     \u001b[1;32mif\u001b[0m \u001b[0mdtype_numeric\u001b[0m\u001b[1;33m:\u001b[0m\u001b[1;33m\u001b[0m\u001b[1;33m\u001b[0m\u001b[0m\n",
      "\u001b[1;32m<__array_function__ internals>\u001b[0m in \u001b[0;36mresult_type\u001b[1;34m(*args, **kwargs)\u001b[0m\n",
      "\u001b[1;31mTypeError\u001b[0m: The DType <class 'numpy.dtype[datetime64]'> could not be promoted by <class 'numpy.dtype[float64]'>. This means that no common DType exists for the given inputs. For example they cannot be stored in a single array unless the dtype is `object`. The full list of DTypes is: (<class 'numpy.dtype[datetime64]'>, <class 'numpy.dtype[float64]'>)"
     ]
    }
   ],
   "source": [
    "from sklearn.preprocessing import MaxAbsScaler\n",
    "abs_scaler = MaxAbsScaler()\n",
    "\n",
    "venda_produtos_cliente_agrupado_por_dia=venda_produtos_cliente.groupby(\"data\").sum().sort_values('data').reset_index()\n",
    "venda_produtos_cliente_agrupado_por_dia=venda_produtos_cliente_agrupado_por_dia[[\"data\", \"total_preco\"]]\n",
    "\n",
    "#Normalizando os dados\n",
    "abs_scaler = MaxAbsScaler()\n",
    "abs_scaler.fit(venda_produtos_cliente_agrupado_por_dia)\n",
    "abs_scaler.max_abs_\n",
    "scaled_data = abs_scaler.transform(venda_produtos_cliente_agrupado_por_dia)\n",
    "df_scaled = pd.DataFrame(scaled_data, columns=venda_produtos_cliente_agrupado_por_dia.columns)\n",
    "df_scaled.transpose()\n",
    "# PLotand o gráfico\n",
    "fig = px.line(ganhos_mensais, title=\"Quantidade consumida e renda diária no mês de novembro\")\n",
    "fig.update_xaxes(title = 'Data')\n",
    "fig.update_yaxes(title = 'Valor')\n",
    "fig.show()\n",
    "\n",
    "fig = px.line(df_scaled, title=\"Quantidade e renda na mesma escala, no mês de novembro\")\n",
    "fig.update_xaxes(title = 'Data')\n",
    "fig.update_yaxes(title = 'Valor')\n",
    "fig.show()"
   ]
  },
  {
   "cell_type": "code",
   "execution_count": null,
   "id": "7d4b25b6",
   "metadata": {},
   "outputs": [],
   "source": []
  }
 ],
 "metadata": {
  "kernelspec": {
   "display_name": "Python 3",
   "language": "python",
   "name": "python3"
  },
  "language_info": {
   "codemirror_mode": {
    "name": "ipython",
    "version": 3
   },
   "file_extension": ".py",
   "mimetype": "text/x-python",
   "name": "python",
   "nbconvert_exporter": "python",
   "pygments_lexer": "ipython3",
   "version": "3.8.8"
  }
 },
 "nbformat": 4,
 "nbformat_minor": 5
}
