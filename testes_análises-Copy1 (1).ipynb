{
 "cells": [
  {
   "cell_type": "code",
   "execution_count": 2,
   "id": "191c64a5",
   "metadata": {},
   "outputs": [
    {
     "name": "stdout",
     "output_type": "stream",
     "text": [
      "Collecting Faker\n",
      "  Downloading Faker-9.9.0-py3-none-any.whl (1.2 MB)\n",
      "Requirement already satisfied: python-dateutil>=2.4 in c:\\users\\vanes\\anaconda3\\lib\\site-packages (from Faker) (2.8.2)\n",
      "Collecting text-unidecode==1.3\n",
      "  Downloading text_unidecode-1.3-py2.py3-none-any.whl (78 kB)\n",
      "Requirement already satisfied: six>=1.5 in c:\\users\\vanes\\anaconda3\\lib\\site-packages (from python-dateutil>=2.4->Faker) (1.16.0)\n",
      "Installing collected packages: text-unidecode, Faker\n",
      "Successfully installed Faker-9.9.0 text-unidecode-1.3\n"
     ]
    }
   ],
   "source": [
    "!pip install Faker"
   ]
  },
  {
   "cell_type": "code",
   "execution_count": 1,
   "id": "e08f7679",
   "metadata": {},
   "outputs": [],
   "source": [
    "from numpy import random\n",
    "import pandas as pd\n",
    "import numpy as np\n",
    "import random as rd\n",
    "from faker import Faker\n",
    "import matplotlib.pyplot as plt\n",
    "import matplotlib as ptl\n",
    "import plotly.express as px\n",
    "\n",
    "fake = Faker(\"pt-BR\")\n",
    "\n",
    "def gerar_dados(quantidade_de_vendas = 500, quantidade_de_clientes = 200):\n",
    "\n",
    "    # Tabela de produtos\n",
    "    nome_dos_produtos = [\"morango\", \"melancia\", \"banana\", \"uva\", \"batata\", \"berinjela\", \"abobrinha\", \"alface\", \"couve-flor\", \"feijão\", \"arroz\", \"macarrão\", \"alcatra\", \"maminha\", \"bisteca suína\", \"carré de cordeiro\", \"costela\", \"paleta suína\", \"picanha\", \"peito de frango\", \"bolo\", \"pão de forma\", \"pão de queijo\", \"pão francês\", \"pastel\", \"sanduíche\", \"sonho\", \"torta\", \"amaciante\", \"água sanitária\", \"detergente\", \"flanela\", \"odorizador\", \"rodo\", \"sabão em pó\", \"sabonete\"]\n",
    "    secao_dos_produtos = [\"frutas_e_verduras\", \"frutas_e_verduras\", \"frutas_e_verduras\", \"frutas_e_verduras\", \"frutas_e_verduras\", \"frutas_e_verduras\", \"frutas_e_verduras\", \"frutas_e_verduras\", \"frutas_e_verduras\", \"frutas_e_verduras\", \"frutas_e_verduras\", \"frutas_e_verduras\", \"acougue\", \"acougue\", \"acougue\", \"acougue\", \"acougue\", \"acougue\", \"acougue\", \"acougue\", \"padaria\", \"padaria\", \"padaria\", \"padaria\", \"padaria\", \"padaria\", \"padaria\", \"padaria\", \"produtos_de_limpeza\", \"produtos_de_limpeza\", \"produtos_de_limpeza\", \"produtos_de_limpeza\", \"produtos_de_limpeza\", \"produtos_de_limpeza\", \"produtos_de_limpeza\", \"produtos_de_limpeza\"]\n",
    "    custo_dos_produtos = [4.30, 11.79, 2, 4.19, 2.39, 8.59, 2.69, 0.45, 3.19, 6.49, 2.35, 1.69, 23.19, 33.49, 15.73, 147.99, 16.39, 17.09, 43.35, 11.19, 17.89, 3.73, 17.04, 4.39, 3.19, 7.99, 1.79, 26.95, 5.19, 7.96, 1.3, 0.59, 14.38, 2.74, 6.15, 0.65]\n",
    "    preco_produtos = [7.99, 15.99, 5.99, 7.47, 3.99, 11.99, 3.49, 0.98, 5.48, 8.45, 4.31, 2.48, 31.99, 42.99, 22.79, 172, 20.99, 23.99, 70.89, 16.49, 35, 6.99, 23.99, 10.99, 4.99, 12.99, 3.49, 45, 6.70, 11.98, 2.70, 1.99, 23.99, 5.99, 9.69, 1.29]\n",
    "    prateleira_dos_produtos = [\"1A\", \"1C\", \"1B\", \"1D\", \"2B\", \"2D\", \"2A\", \"2C\", \"2E\", \"3B\", \"3A\", \"3C\", \"4A\", \"4B\", \"5A\", \"5B\", \"5C\", \"5D\", \"4C\", \"4D\", \"6A\", \"7A\", \"7B\", \"7C\", \"7D\", \"7E\", \"6B\", \"6C\", \"8A\", \"8B\", \"8C\", \"9A\", \"9B\", \"9C\", \"8D\", \"9D\"]\n",
    "    estoque_produtos = [50, 20, 40, 36, 47, 12, 19, 25, 20, 43, 80, 38, 7, 9, 5, 5, 10, 9, 6, 10, 7, 15, 1, 3, 9, 15, 20, 7, 12, 8, 40, 32, 6, 10, 13, 58]\n",
    "    unidade_de_medida_estoque = [\"bandeja\", \"unidade\", \"kg\", \"bandeja\", \"kg\", \"kg\", \"kg\", \"pé\", \"pé\", \"kg\", \"kg\", \"pacote\", \"kg\", \"kg\", \"kg\", \"kg\", \"kg\", \"kg\", \"kg\", \"kg\", \"kg\", \"pacote\", \"kg\", \"kg\", \"unidade\", \"unidade\", \"unidade\", \"kg\", \"unidade\", \"unidade\", \"unidade\", \"unidade\", \"unidade\", \"unidade\", \"unidade\", \"unidade\"]\n",
    "    imagem = [\"morango-alt.png\", \"melancia.jpg\", \"banana.png\", \"uva-alt.png\", \"batata.JPEG\", \"beringela.jpg\", \"abobrinha.JPEG\", \"alface.png\", \"couve-flor.png\", \"feijao.png\", \"arroz.png\", \"macarrao.jpg\", \"alcatra.jpg\", \"maminha.jpg\", \"bisteca_suina.jpg\", \"carre_de_cordeiro.jpg\", \"costela.jpg\", \"paleta_suina.jpg\", \"picanha.jpg\", \"peito_de_frango.jpg\", \"bolo.jpg\", \"pao_de_forma.jpg\", \"pao_de_queijo.jpg\", \"pao_frances.jpg\", \"pastel.jpg\", \"sanduiche.jpg\", \"sonho.jpg\", \"torta.jpg\", \"amaciante.jpg\", \"agua_sanitaria.jpg\", \"detergente.jpg\", \"flanela.jpg\", \"odorizador.jpg\", \"rodo.jpg\", \"sabao_em_po.jpg\", \"sabonete.jpg\"]\n",
    "\n",
    "    produtos = {\n",
    "        \"id\": list(range(len(nome_dos_produtos))),\n",
    "        \"nome\": nome_dos_produtos,\n",
    "        \"secao\": secao_dos_produtos,\n",
    "        \"custo\": custo_dos_produtos,\n",
    "        \"preco\": preco_produtos,\n",
    "        \"prateleira\": prateleira_dos_produtos,\n",
    "        \"estoque\": estoque_produtos,\n",
    "        \"unidade_de_medida_de_estoque\": unidade_de_medida_estoque,\n",
    "        \"imagem\": imagem\n",
    "    }\n",
    "\n",
    "    produtos = pd.DataFrame(produtos)\n",
    "\n",
    "    # Tabela de clientes\n",
    "    clientes = {\n",
    "        'id': list(range(quantidade_de_clientes)),\n",
    "        'nome': [],\n",
    "        'nascimento': [],\n",
    "        'endereco':[],\n",
    "        'cpf': [],\n",
    "        'telefone': [],\n",
    "        'usuario': [],\n",
    "        'senha': []\n",
    "    }\n",
    "\n",
    "    for id in clientes['id']:\n",
    "        clientes['nome'].append(fake.name())\n",
    "        clientes['nascimento'].append(fake.date_of_birth(minimum_age = 18, maximum_age = 73))\n",
    "        clientes['endereco'].append(fake.address())\n",
    "        clientes['cpf'].append(fake.cpf())\n",
    "        clientes['telefone'].append(fake.phone_number())\n",
    "        clientes['usuario'].append(fake.user_name())\n",
    "        clientes['senha'].append(fake.password(12))\n",
    "    \n",
    "    clientes = pd.DataFrame(clientes)\n",
    "\n",
    "    # Tabela de vendas\n",
    "    datas = np.arange(np.datetime64('2021-11-01'), np.datetime64('2021-12-01'))\n",
    "    probabilidade = np.linspace(1, 2, num=datas.size)\n",
    "    probabilidade = probabilidade / probabilidade.sum()\n",
    "    datas = np.random.choice(datas, p=probabilidade, size=quantidade_de_vendas)\n",
    "    datas.sort()\n",
    "    vendas = {\n",
    "        'id' : [],\n",
    "        'id_clientes' : [],\n",
    "        'data' : []\n",
    "    }\n",
    "    for id, data in enumerate(datas):\n",
    "        vendas['id'].append(id)\n",
    "        vendas['id_clientes'].append(np.random.choice(clientes['id']))\n",
    "        vendas['data'].append(data)\n",
    "\n",
    "    vendas = pd.DataFrame(vendas)\n",
    "    vendas[\"data\"] = vendas[\"data\"].dt.strftime('%Y-%m-%d')\n",
    "\n",
    "    # Tabela intermediária entre vendas e produtos\n",
    "    venda_produtos = {\n",
    "        'id_vendas' : [],\n",
    "        'id_produtos' : [],\n",
    "        'quantidade' : []\n",
    "    }\n",
    "\n",
    "    for id in range(quantidade_de_vendas):\n",
    "        venda_produtos['id_vendas'].append(vendas['id'][id])\n",
    "        venda_produtos['id_produtos'].append(np.random.choice(produtos['id']))\n",
    "        venda_produtos['quantidade'].append(random.randint(1, 5))\n",
    "\n",
    "    for id in range(4 * quantidade_de_vendas):\n",
    "        venda_produtos['id_vendas'].append(np.random.choice(clientes['id']))\n",
    "        venda_produtos['id_produtos'].append(np.random.choice(produtos['id']))\n",
    "        venda_produtos['quantidade'].append(random.randint(1, 5))\n",
    "\n",
    "    venda_produtos = pd.DataFrame(venda_produtos)\n",
    "    \n",
    "    return (produtos,clientes,vendas,venda_produtos)\n",
    "\n",
    "dados = gerar_dados()\n",
    "produtos = dados[0]\n",
    "clientes = dados[1]\n",
    "vendas = dados[2]\n",
    "venda_produtos = dados[3]"
   ]
  },
  {
   "cell_type": "markdown",
   "id": "972ecad5",
   "metadata": {},
   "source": [
    "## Tabelas"
   ]
  },
  {
   "cell_type": "code",
   "execution_count": 2,
   "id": "1615750f",
   "metadata": {},
   "outputs": [],
   "source": [
    "p = gerar_dados(quantidade_de_vendas = 500, quantidade_de_clientes = 200)"
   ]
  },
  {
   "cell_type": "code",
   "execution_count": 3,
   "id": "5b81954a",
   "metadata": {},
   "outputs": [
    {
     "data": {
      "text/html": [
       "<div>\n",
       "<style scoped>\n",
       "    .dataframe tbody tr th:only-of-type {\n",
       "        vertical-align: middle;\n",
       "    }\n",
       "\n",
       "    .dataframe tbody tr th {\n",
       "        vertical-align: top;\n",
       "    }\n",
       "\n",
       "    .dataframe thead th {\n",
       "        text-align: right;\n",
       "    }\n",
       "</style>\n",
       "<table border=\"1\" class=\"dataframe\">\n",
       "  <thead>\n",
       "    <tr style=\"text-align: right;\">\n",
       "      <th></th>\n",
       "      <th>id_produtos</th>\n",
       "      <th>nome</th>\n",
       "      <th>secao</th>\n",
       "      <th>custo</th>\n",
       "      <th>preco</th>\n",
       "      <th>prateleira</th>\n",
       "      <th>estoque</th>\n",
       "      <th>unidade_de_medida_de_estoque</th>\n",
       "      <th>imagem</th>\n",
       "    </tr>\n",
       "  </thead>\n",
       "  <tbody>\n",
       "    <tr>\n",
       "      <th>0</th>\n",
       "      <td>0</td>\n",
       "      <td>morango</td>\n",
       "      <td>Alimentos em Geral</td>\n",
       "      <td>4.30</td>\n",
       "      <td>7.99</td>\n",
       "      <td>1A</td>\n",
       "      <td>50</td>\n",
       "      <td>bandeja</td>\n",
       "      <td>morango-alt.png</td>\n",
       "    </tr>\n",
       "    <tr>\n",
       "      <th>1</th>\n",
       "      <td>1</td>\n",
       "      <td>melancia</td>\n",
       "      <td>Alimentos em Geral</td>\n",
       "      <td>11.79</td>\n",
       "      <td>15.99</td>\n",
       "      <td>1C</td>\n",
       "      <td>20</td>\n",
       "      <td>unidade</td>\n",
       "      <td>melancia.jpg</td>\n",
       "    </tr>\n",
       "    <tr>\n",
       "      <th>2</th>\n",
       "      <td>2</td>\n",
       "      <td>banana</td>\n",
       "      <td>Alimentos em Geral</td>\n",
       "      <td>2.00</td>\n",
       "      <td>5.99</td>\n",
       "      <td>1B</td>\n",
       "      <td>40</td>\n",
       "      <td>kg</td>\n",
       "      <td>banana.png</td>\n",
       "    </tr>\n",
       "    <tr>\n",
       "      <th>3</th>\n",
       "      <td>3</td>\n",
       "      <td>uva</td>\n",
       "      <td>Alimentos em Geral</td>\n",
       "      <td>4.19</td>\n",
       "      <td>7.47</td>\n",
       "      <td>1D</td>\n",
       "      <td>36</td>\n",
       "      <td>bandeja</td>\n",
       "      <td>uva-alt.png</td>\n",
       "    </tr>\n",
       "    <tr>\n",
       "      <th>4</th>\n",
       "      <td>4</td>\n",
       "      <td>batata</td>\n",
       "      <td>Alimentos em Geral</td>\n",
       "      <td>2.39</td>\n",
       "      <td>3.99</td>\n",
       "      <td>2B</td>\n",
       "      <td>47</td>\n",
       "      <td>kg</td>\n",
       "      <td>batata.JPEG</td>\n",
       "    </tr>\n",
       "    <tr>\n",
       "      <th>5</th>\n",
       "      <td>5</td>\n",
       "      <td>berinjela</td>\n",
       "      <td>Alimentos em Geral</td>\n",
       "      <td>8.59</td>\n",
       "      <td>11.99</td>\n",
       "      <td>2D</td>\n",
       "      <td>12</td>\n",
       "      <td>kg</td>\n",
       "      <td>beringela.jpg</td>\n",
       "    </tr>\n",
       "    <tr>\n",
       "      <th>6</th>\n",
       "      <td>6</td>\n",
       "      <td>abobrinha</td>\n",
       "      <td>Alimentos em Geral</td>\n",
       "      <td>2.69</td>\n",
       "      <td>3.49</td>\n",
       "      <td>2A</td>\n",
       "      <td>19</td>\n",
       "      <td>kg</td>\n",
       "      <td>abobrinha.JPEG</td>\n",
       "    </tr>\n",
       "    <tr>\n",
       "      <th>7</th>\n",
       "      <td>7</td>\n",
       "      <td>alface</td>\n",
       "      <td>Alimentos em Geral</td>\n",
       "      <td>0.45</td>\n",
       "      <td>0.98</td>\n",
       "      <td>2C</td>\n",
       "      <td>25</td>\n",
       "      <td>pé</td>\n",
       "      <td>alface.png</td>\n",
       "    </tr>\n",
       "    <tr>\n",
       "      <th>8</th>\n",
       "      <td>8</td>\n",
       "      <td>couve-flor</td>\n",
       "      <td>Alimentos em Geral</td>\n",
       "      <td>3.19</td>\n",
       "      <td>5.48</td>\n",
       "      <td>2E</td>\n",
       "      <td>20</td>\n",
       "      <td>pé</td>\n",
       "      <td>couve-flor.png</td>\n",
       "    </tr>\n",
       "    <tr>\n",
       "      <th>9</th>\n",
       "      <td>9</td>\n",
       "      <td>feijão</td>\n",
       "      <td>Alimentos em Geral</td>\n",
       "      <td>6.49</td>\n",
       "      <td>8.45</td>\n",
       "      <td>3B</td>\n",
       "      <td>43</td>\n",
       "      <td>kg</td>\n",
       "      <td>feijao.png</td>\n",
       "    </tr>\n",
       "    <tr>\n",
       "      <th>10</th>\n",
       "      <td>10</td>\n",
       "      <td>arroz</td>\n",
       "      <td>Alimentos em Geral</td>\n",
       "      <td>2.35</td>\n",
       "      <td>4.31</td>\n",
       "      <td>3A</td>\n",
       "      <td>80</td>\n",
       "      <td>kg</td>\n",
       "      <td>arroz.png</td>\n",
       "    </tr>\n",
       "    <tr>\n",
       "      <th>11</th>\n",
       "      <td>11</td>\n",
       "      <td>macarrão</td>\n",
       "      <td>Alimentos em Geral</td>\n",
       "      <td>1.69</td>\n",
       "      <td>2.48</td>\n",
       "      <td>3C</td>\n",
       "      <td>38</td>\n",
       "      <td>pacote</td>\n",
       "      <td>macarrao.jpg</td>\n",
       "    </tr>\n",
       "    <tr>\n",
       "      <th>12</th>\n",
       "      <td>12</td>\n",
       "      <td>alcatra</td>\n",
       "      <td>Açougue</td>\n",
       "      <td>23.19</td>\n",
       "      <td>31.99</td>\n",
       "      <td>4A</td>\n",
       "      <td>7</td>\n",
       "      <td>kg</td>\n",
       "      <td>alcatra.jpg</td>\n",
       "    </tr>\n",
       "    <tr>\n",
       "      <th>13</th>\n",
       "      <td>13</td>\n",
       "      <td>maminha</td>\n",
       "      <td>Açougue</td>\n",
       "      <td>33.49</td>\n",
       "      <td>42.99</td>\n",
       "      <td>4B</td>\n",
       "      <td>9</td>\n",
       "      <td>kg</td>\n",
       "      <td>maminha.jpg</td>\n",
       "    </tr>\n",
       "    <tr>\n",
       "      <th>14</th>\n",
       "      <td>14</td>\n",
       "      <td>bisteca suína</td>\n",
       "      <td>Açougue</td>\n",
       "      <td>15.73</td>\n",
       "      <td>22.79</td>\n",
       "      <td>5A</td>\n",
       "      <td>5</td>\n",
       "      <td>kg</td>\n",
       "      <td>bisteca_suina.jpg</td>\n",
       "    </tr>\n",
       "    <tr>\n",
       "      <th>15</th>\n",
       "      <td>15</td>\n",
       "      <td>carré de cordeiro</td>\n",
       "      <td>Açougue</td>\n",
       "      <td>147.99</td>\n",
       "      <td>172.00</td>\n",
       "      <td>5B</td>\n",
       "      <td>5</td>\n",
       "      <td>kg</td>\n",
       "      <td>carre_de_cordeiro.jpg</td>\n",
       "    </tr>\n",
       "    <tr>\n",
       "      <th>16</th>\n",
       "      <td>16</td>\n",
       "      <td>costela</td>\n",
       "      <td>Açougue</td>\n",
       "      <td>16.39</td>\n",
       "      <td>20.99</td>\n",
       "      <td>5C</td>\n",
       "      <td>10</td>\n",
       "      <td>kg</td>\n",
       "      <td>costela.jpg</td>\n",
       "    </tr>\n",
       "    <tr>\n",
       "      <th>17</th>\n",
       "      <td>17</td>\n",
       "      <td>paleta suína</td>\n",
       "      <td>Açougue</td>\n",
       "      <td>17.09</td>\n",
       "      <td>23.99</td>\n",
       "      <td>5D</td>\n",
       "      <td>9</td>\n",
       "      <td>kg</td>\n",
       "      <td>paleta_suina.jpg</td>\n",
       "    </tr>\n",
       "    <tr>\n",
       "      <th>18</th>\n",
       "      <td>18</td>\n",
       "      <td>picanha</td>\n",
       "      <td>Açougue</td>\n",
       "      <td>43.35</td>\n",
       "      <td>70.89</td>\n",
       "      <td>4C</td>\n",
       "      <td>6</td>\n",
       "      <td>kg</td>\n",
       "      <td>picanha.jpg</td>\n",
       "    </tr>\n",
       "    <tr>\n",
       "      <th>19</th>\n",
       "      <td>19</td>\n",
       "      <td>peito de frango</td>\n",
       "      <td>Açougue</td>\n",
       "      <td>11.19</td>\n",
       "      <td>16.49</td>\n",
       "      <td>4D</td>\n",
       "      <td>10</td>\n",
       "      <td>kg</td>\n",
       "      <td>peito_de_frango.jpg</td>\n",
       "    </tr>\n",
       "    <tr>\n",
       "      <th>20</th>\n",
       "      <td>20</td>\n",
       "      <td>bolo</td>\n",
       "      <td>Padaria</td>\n",
       "      <td>17.89</td>\n",
       "      <td>35.00</td>\n",
       "      <td>6A</td>\n",
       "      <td>7</td>\n",
       "      <td>kg</td>\n",
       "      <td>bolo.jpg</td>\n",
       "    </tr>\n",
       "    <tr>\n",
       "      <th>21</th>\n",
       "      <td>21</td>\n",
       "      <td>pão de forma</td>\n",
       "      <td>Padaria</td>\n",
       "      <td>3.73</td>\n",
       "      <td>6.99</td>\n",
       "      <td>7A</td>\n",
       "      <td>15</td>\n",
       "      <td>pacote</td>\n",
       "      <td>pao_de_forma.jpg</td>\n",
       "    </tr>\n",
       "    <tr>\n",
       "      <th>22</th>\n",
       "      <td>22</td>\n",
       "      <td>pão de queijo</td>\n",
       "      <td>Padaria</td>\n",
       "      <td>17.04</td>\n",
       "      <td>23.99</td>\n",
       "      <td>7B</td>\n",
       "      <td>1</td>\n",
       "      <td>kg</td>\n",
       "      <td>pao_de_queijo.jpg</td>\n",
       "    </tr>\n",
       "    <tr>\n",
       "      <th>23</th>\n",
       "      <td>23</td>\n",
       "      <td>pão francês</td>\n",
       "      <td>Padaria</td>\n",
       "      <td>4.39</td>\n",
       "      <td>10.99</td>\n",
       "      <td>7C</td>\n",
       "      <td>3</td>\n",
       "      <td>kg</td>\n",
       "      <td>pao_frances.jpg</td>\n",
       "    </tr>\n",
       "    <tr>\n",
       "      <th>24</th>\n",
       "      <td>24</td>\n",
       "      <td>pastel</td>\n",
       "      <td>Padaria</td>\n",
       "      <td>3.19</td>\n",
       "      <td>4.99</td>\n",
       "      <td>7D</td>\n",
       "      <td>9</td>\n",
       "      <td>unidade</td>\n",
       "      <td>pastel.jpg</td>\n",
       "    </tr>\n",
       "    <tr>\n",
       "      <th>25</th>\n",
       "      <td>25</td>\n",
       "      <td>sanduíche</td>\n",
       "      <td>Padaria</td>\n",
       "      <td>7.99</td>\n",
       "      <td>12.99</td>\n",
       "      <td>7E</td>\n",
       "      <td>15</td>\n",
       "      <td>unidade</td>\n",
       "      <td>sanduiche.jpg</td>\n",
       "    </tr>\n",
       "    <tr>\n",
       "      <th>26</th>\n",
       "      <td>26</td>\n",
       "      <td>sonho</td>\n",
       "      <td>Padaria</td>\n",
       "      <td>1.79</td>\n",
       "      <td>3.49</td>\n",
       "      <td>6B</td>\n",
       "      <td>20</td>\n",
       "      <td>unidade</td>\n",
       "      <td>sonho.jpg</td>\n",
       "    </tr>\n",
       "    <tr>\n",
       "      <th>27</th>\n",
       "      <td>27</td>\n",
       "      <td>torta</td>\n",
       "      <td>Padaria</td>\n",
       "      <td>26.95</td>\n",
       "      <td>45.00</td>\n",
       "      <td>6C</td>\n",
       "      <td>7</td>\n",
       "      <td>kg</td>\n",
       "      <td>torta.jpg</td>\n",
       "    </tr>\n",
       "    <tr>\n",
       "      <th>28</th>\n",
       "      <td>28</td>\n",
       "      <td>amaciante</td>\n",
       "      <td>Produtos de Limpeza</td>\n",
       "      <td>5.19</td>\n",
       "      <td>6.70</td>\n",
       "      <td>8A</td>\n",
       "      <td>12</td>\n",
       "      <td>unidade</td>\n",
       "      <td>amaciante.jpg</td>\n",
       "    </tr>\n",
       "    <tr>\n",
       "      <th>29</th>\n",
       "      <td>29</td>\n",
       "      <td>água sanitária</td>\n",
       "      <td>Produtos de Limpeza</td>\n",
       "      <td>7.96</td>\n",
       "      <td>11.98</td>\n",
       "      <td>8B</td>\n",
       "      <td>8</td>\n",
       "      <td>unidade</td>\n",
       "      <td>agua_sanitaria.jpg</td>\n",
       "    </tr>\n",
       "    <tr>\n",
       "      <th>30</th>\n",
       "      <td>30</td>\n",
       "      <td>detergente</td>\n",
       "      <td>Produtos de Limpeza</td>\n",
       "      <td>1.30</td>\n",
       "      <td>2.70</td>\n",
       "      <td>8C</td>\n",
       "      <td>40</td>\n",
       "      <td>unidade</td>\n",
       "      <td>detergente.jpg</td>\n",
       "    </tr>\n",
       "    <tr>\n",
       "      <th>31</th>\n",
       "      <td>31</td>\n",
       "      <td>flanela</td>\n",
       "      <td>Produtos de Limpeza</td>\n",
       "      <td>0.59</td>\n",
       "      <td>1.99</td>\n",
       "      <td>9A</td>\n",
       "      <td>32</td>\n",
       "      <td>unidade</td>\n",
       "      <td>flanela.jpg</td>\n",
       "    </tr>\n",
       "    <tr>\n",
       "      <th>32</th>\n",
       "      <td>32</td>\n",
       "      <td>odorizador</td>\n",
       "      <td>Produtos de Limpeza</td>\n",
       "      <td>14.38</td>\n",
       "      <td>23.99</td>\n",
       "      <td>9B</td>\n",
       "      <td>6</td>\n",
       "      <td>unidade</td>\n",
       "      <td>odorizador.jpg</td>\n",
       "    </tr>\n",
       "    <tr>\n",
       "      <th>33</th>\n",
       "      <td>33</td>\n",
       "      <td>rodo</td>\n",
       "      <td>Produtos de Limpeza</td>\n",
       "      <td>2.74</td>\n",
       "      <td>5.99</td>\n",
       "      <td>9C</td>\n",
       "      <td>10</td>\n",
       "      <td>unidade</td>\n",
       "      <td>rodo.jpg</td>\n",
       "    </tr>\n",
       "    <tr>\n",
       "      <th>34</th>\n",
       "      <td>34</td>\n",
       "      <td>sabão em pó</td>\n",
       "      <td>Produtos de Limpeza</td>\n",
       "      <td>6.15</td>\n",
       "      <td>9.69</td>\n",
       "      <td>8D</td>\n",
       "      <td>13</td>\n",
       "      <td>unidade</td>\n",
       "      <td>sabao_em_po.jpg</td>\n",
       "    </tr>\n",
       "    <tr>\n",
       "      <th>35</th>\n",
       "      <td>35</td>\n",
       "      <td>sabonete</td>\n",
       "      <td>Produtos de Limpeza</td>\n",
       "      <td>0.65</td>\n",
       "      <td>1.29</td>\n",
       "      <td>9D</td>\n",
       "      <td>58</td>\n",
       "      <td>unidade</td>\n",
       "      <td>sabonete.jpg</td>\n",
       "    </tr>\n",
       "  </tbody>\n",
       "</table>\n",
       "</div>"
      ],
      "text/plain": [
       "    id_produtos               nome                secao   custo   preco  \\\n",
       "0             0            morango   Alimentos em Geral    4.30    7.99   \n",
       "1             1           melancia   Alimentos em Geral   11.79   15.99   \n",
       "2             2             banana   Alimentos em Geral    2.00    5.99   \n",
       "3             3                uva   Alimentos em Geral    4.19    7.47   \n",
       "4             4             batata   Alimentos em Geral    2.39    3.99   \n",
       "5             5          berinjela   Alimentos em Geral    8.59   11.99   \n",
       "6             6          abobrinha   Alimentos em Geral    2.69    3.49   \n",
       "7             7             alface   Alimentos em Geral    0.45    0.98   \n",
       "8             8         couve-flor   Alimentos em Geral    3.19    5.48   \n",
       "9             9             feijão   Alimentos em Geral    6.49    8.45   \n",
       "10           10              arroz   Alimentos em Geral    2.35    4.31   \n",
       "11           11           macarrão   Alimentos em Geral    1.69    2.48   \n",
       "12           12            alcatra              Açougue   23.19   31.99   \n",
       "13           13            maminha              Açougue   33.49   42.99   \n",
       "14           14      bisteca suína              Açougue   15.73   22.79   \n",
       "15           15  carré de cordeiro              Açougue  147.99  172.00   \n",
       "16           16            costela              Açougue   16.39   20.99   \n",
       "17           17       paleta suína              Açougue   17.09   23.99   \n",
       "18           18            picanha              Açougue   43.35   70.89   \n",
       "19           19    peito de frango              Açougue   11.19   16.49   \n",
       "20           20               bolo              Padaria   17.89   35.00   \n",
       "21           21       pão de forma              Padaria    3.73    6.99   \n",
       "22           22      pão de queijo              Padaria   17.04   23.99   \n",
       "23           23        pão francês              Padaria    4.39   10.99   \n",
       "24           24             pastel              Padaria    3.19    4.99   \n",
       "25           25          sanduíche              Padaria    7.99   12.99   \n",
       "26           26              sonho              Padaria    1.79    3.49   \n",
       "27           27              torta              Padaria   26.95   45.00   \n",
       "28           28          amaciante  Produtos de Limpeza    5.19    6.70   \n",
       "29           29     água sanitária  Produtos de Limpeza    7.96   11.98   \n",
       "30           30         detergente  Produtos de Limpeza    1.30    2.70   \n",
       "31           31            flanela  Produtos de Limpeza    0.59    1.99   \n",
       "32           32         odorizador  Produtos de Limpeza   14.38   23.99   \n",
       "33           33               rodo  Produtos de Limpeza    2.74    5.99   \n",
       "34           34        sabão em pó  Produtos de Limpeza    6.15    9.69   \n",
       "35           35           sabonete  Produtos de Limpeza    0.65    1.29   \n",
       "\n",
       "   prateleira  estoque unidade_de_medida_de_estoque                 imagem  \n",
       "0          1A       50                      bandeja        morango-alt.png  \n",
       "1          1C       20                      unidade           melancia.jpg  \n",
       "2          1B       40                           kg             banana.png  \n",
       "3          1D       36                      bandeja            uva-alt.png  \n",
       "4          2B       47                           kg            batata.JPEG  \n",
       "5          2D       12                           kg          beringela.jpg  \n",
       "6          2A       19                           kg         abobrinha.JPEG  \n",
       "7          2C       25                           pé             alface.png  \n",
       "8          2E       20                           pé         couve-flor.png  \n",
       "9          3B       43                           kg             feijao.png  \n",
       "10         3A       80                           kg              arroz.png  \n",
       "11         3C       38                       pacote           macarrao.jpg  \n",
       "12         4A        7                           kg            alcatra.jpg  \n",
       "13         4B        9                           kg            maminha.jpg  \n",
       "14         5A        5                           kg      bisteca_suina.jpg  \n",
       "15         5B        5                           kg  carre_de_cordeiro.jpg  \n",
       "16         5C       10                           kg            costela.jpg  \n",
       "17         5D        9                           kg       paleta_suina.jpg  \n",
       "18         4C        6                           kg            picanha.jpg  \n",
       "19         4D       10                           kg    peito_de_frango.jpg  \n",
       "20         6A        7                           kg               bolo.jpg  \n",
       "21         7A       15                       pacote       pao_de_forma.jpg  \n",
       "22         7B        1                           kg      pao_de_queijo.jpg  \n",
       "23         7C        3                           kg        pao_frances.jpg  \n",
       "24         7D        9                      unidade             pastel.jpg  \n",
       "25         7E       15                      unidade          sanduiche.jpg  \n",
       "26         6B       20                      unidade              sonho.jpg  \n",
       "27         6C        7                           kg              torta.jpg  \n",
       "28         8A       12                      unidade          amaciante.jpg  \n",
       "29         8B        8                      unidade     agua_sanitaria.jpg  \n",
       "30         8C       40                      unidade         detergente.jpg  \n",
       "31         9A       32                      unidade            flanela.jpg  \n",
       "32         9B        6                      unidade         odorizador.jpg  \n",
       "33         9C       10                      unidade               rodo.jpg  \n",
       "34         8D       13                      unidade        sabao_em_po.jpg  \n",
       "35         9D       58                      unidade           sabonete.jpg  "
      ]
     },
     "execution_count": 3,
     "metadata": {},
     "output_type": "execute_result"
    }
   ],
   "source": [
    "produtos=p[0]\n",
    "#renomenado a coluna id para id produto na tabela de produtos\n",
    "produtos.rename(columns={\"id\": \"id_produtos\"}, inplace = 1)\n",
    "produtos[\"secao\"].replace({\"frutas_e_verduras\":\"Alimentos em Geral\", \"acougue\": \"Açougue\", \"padaria\":\"Padaria\", \"produtos_de_limpeza\": \"Produtos de Limpeza\"}, inplace=True)\n",
    "produtos"
   ]
  },
  {
   "cell_type": "code",
   "execution_count": 4,
   "id": "b77c2dab",
   "metadata": {},
   "outputs": [
    {
     "data": {
      "text/html": [
       "<div>\n",
       "<style scoped>\n",
       "    .dataframe tbody tr th:only-of-type {\n",
       "        vertical-align: middle;\n",
       "    }\n",
       "\n",
       "    .dataframe tbody tr th {\n",
       "        vertical-align: top;\n",
       "    }\n",
       "\n",
       "    .dataframe thead th {\n",
       "        text-align: right;\n",
       "    }\n",
       "</style>\n",
       "<table border=\"1\" class=\"dataframe\">\n",
       "  <thead>\n",
       "    <tr style=\"text-align: right;\">\n",
       "      <th></th>\n",
       "      <th>id_clientes</th>\n",
       "      <th>nome_cliente</th>\n",
       "      <th>nascimento</th>\n",
       "      <th>endereco</th>\n",
       "      <th>cpf</th>\n",
       "      <th>telefone</th>\n",
       "      <th>usuario</th>\n",
       "      <th>senha</th>\n",
       "    </tr>\n",
       "  </thead>\n",
       "  <tbody>\n",
       "    <tr>\n",
       "      <th>0</th>\n",
       "      <td>0</td>\n",
       "      <td>Laura Vieira</td>\n",
       "      <td>1949-07-14</td>\n",
       "      <td>Esplanada Farias, 96\\nSaudade\\n53107-074 Teixe...</td>\n",
       "      <td>459.670.218-76</td>\n",
       "      <td>11 5397 8081</td>\n",
       "      <td>mendesyasmin</td>\n",
       "      <td>!c)7AakTFNS1</td>\n",
       "    </tr>\n",
       "    <tr>\n",
       "      <th>1</th>\n",
       "      <td>1</td>\n",
       "      <td>Dr. Daniel Sales</td>\n",
       "      <td>1990-06-13</td>\n",
       "      <td>Residencial da Cunha, 517\\nLagoinha\\n28421352 ...</td>\n",
       "      <td>850.423.169-06</td>\n",
       "      <td>+55 11 6358 6567</td>\n",
       "      <td>caldeiracaio</td>\n",
       "      <td>_wIY9M5h5Ylu</td>\n",
       "    </tr>\n",
       "    <tr>\n",
       "      <th>2</th>\n",
       "      <td>2</td>\n",
       "      <td>Eduarda Teixeira</td>\n",
       "      <td>2003-07-18</td>\n",
       "      <td>Residencial de Cavalcanti, 26\\nConjunto Paulo ...</td>\n",
       "      <td>450.972.368-74</td>\n",
       "      <td>+55 31 0082-7817</td>\n",
       "      <td>juanoliveira</td>\n",
       "      <td>_1LwwuLL#nhJ</td>\n",
       "    </tr>\n",
       "    <tr>\n",
       "      <th>3</th>\n",
       "      <td>3</td>\n",
       "      <td>Ana Júlia Pereira</td>\n",
       "      <td>1974-11-15</td>\n",
       "      <td>Campo Pedro Henrique Almeida, 815\\nSenhor Dos ...</td>\n",
       "      <td>097.531.682-68</td>\n",
       "      <td>(084) 9767 8399</td>\n",
       "      <td>qmoraes</td>\n",
       "      <td>QKqfOAPjR^2D</td>\n",
       "    </tr>\n",
       "    <tr>\n",
       "      <th>4</th>\n",
       "      <td>4</td>\n",
       "      <td>Ana Carolina Gomes</td>\n",
       "      <td>1950-01-17</td>\n",
       "      <td>Morro de da Costa, 73\\nMarieta 1ª Seção\\n04746...</td>\n",
       "      <td>480.265.173-26</td>\n",
       "      <td>31 0570-4115</td>\n",
       "      <td>caueda-cruz</td>\n",
       "      <td>!_kCyfoOyN6W</td>\n",
       "    </tr>\n",
       "    <tr>\n",
       "      <th>...</th>\n",
       "      <td>...</td>\n",
       "      <td>...</td>\n",
       "      <td>...</td>\n",
       "      <td>...</td>\n",
       "      <td>...</td>\n",
       "      <td>...</td>\n",
       "      <td>...</td>\n",
       "      <td>...</td>\n",
       "    </tr>\n",
       "    <tr>\n",
       "      <th>195</th>\n",
       "      <td>195</td>\n",
       "      <td>Diogo da Cruz</td>\n",
       "      <td>1979-11-16</td>\n",
       "      <td>Passarela de da Rocha\\nTrevo\\n68039277 Alves P...</td>\n",
       "      <td>795.810.432-41</td>\n",
       "      <td>(011) 6001 2210</td>\n",
       "      <td>qbarros</td>\n",
       "      <td>ht2ub+k^(trE</td>\n",
       "    </tr>\n",
       "    <tr>\n",
       "      <th>196</th>\n",
       "      <td>196</td>\n",
       "      <td>Kevin Moura</td>\n",
       "      <td>1963-04-18</td>\n",
       "      <td>Lagoa de Martins\\nOeste\\n48956216 Peixoto do G...</td>\n",
       "      <td>195.743.802-97</td>\n",
       "      <td>+55 71 6768 8751</td>\n",
       "      <td>egoncalves</td>\n",
       "      <td>m4Bumr0S(91y</td>\n",
       "    </tr>\n",
       "    <tr>\n",
       "      <th>197</th>\n",
       "      <td>197</td>\n",
       "      <td>Calebe da Costa</td>\n",
       "      <td>1981-10-27</td>\n",
       "      <td>Trecho Sales, 4\\nSanta Margarida\\n39719-425 Ba...</td>\n",
       "      <td>845.102.637-08</td>\n",
       "      <td>+55 (051) 8018 0986</td>\n",
       "      <td>da-cruzpedro-henrique</td>\n",
       "      <td>T*3Zm*lDi_Di</td>\n",
       "    </tr>\n",
       "    <tr>\n",
       "      <th>198</th>\n",
       "      <td>198</td>\n",
       "      <td>Sr. Vitor da Mata</td>\n",
       "      <td>1953-11-17</td>\n",
       "      <td>Trecho Maitê Moura, 96\\nJaqueline\\n26490885 Al...</td>\n",
       "      <td>329.407.615-07</td>\n",
       "      <td>+55 (084) 2401-2482</td>\n",
       "      <td>walmeida</td>\n",
       "      <td>_pRaGqhO4o2u</td>\n",
       "    </tr>\n",
       "    <tr>\n",
       "      <th>199</th>\n",
       "      <td>199</td>\n",
       "      <td>Sr. André Ribeiro</td>\n",
       "      <td>1969-09-29</td>\n",
       "      <td>Recanto Moreira, 91\\nTupi A\\n60803372 Silveira...</td>\n",
       "      <td>315.679.248-91</td>\n",
       "      <td>+55 (061) 0068-1760</td>\n",
       "      <td>bernardocosta</td>\n",
       "      <td>E4C2Kp$c&amp;Hzp</td>\n",
       "    </tr>\n",
       "  </tbody>\n",
       "</table>\n",
       "<p>200 rows × 8 columns</p>\n",
       "</div>"
      ],
      "text/plain": [
       "     id_clientes        nome_cliente  nascimento  \\\n",
       "0              0        Laura Vieira  1949-07-14   \n",
       "1              1    Dr. Daniel Sales  1990-06-13   \n",
       "2              2    Eduarda Teixeira  2003-07-18   \n",
       "3              3   Ana Júlia Pereira  1974-11-15   \n",
       "4              4  Ana Carolina Gomes  1950-01-17   \n",
       "..           ...                 ...         ...   \n",
       "195          195       Diogo da Cruz  1979-11-16   \n",
       "196          196         Kevin Moura  1963-04-18   \n",
       "197          197     Calebe da Costa  1981-10-27   \n",
       "198          198   Sr. Vitor da Mata  1953-11-17   \n",
       "199          199   Sr. André Ribeiro  1969-09-29   \n",
       "\n",
       "                                              endereco             cpf  \\\n",
       "0    Esplanada Farias, 96\\nSaudade\\n53107-074 Teixe...  459.670.218-76   \n",
       "1    Residencial da Cunha, 517\\nLagoinha\\n28421352 ...  850.423.169-06   \n",
       "2    Residencial de Cavalcanti, 26\\nConjunto Paulo ...  450.972.368-74   \n",
       "3    Campo Pedro Henrique Almeida, 815\\nSenhor Dos ...  097.531.682-68   \n",
       "4    Morro de da Costa, 73\\nMarieta 1ª Seção\\n04746...  480.265.173-26   \n",
       "..                                                 ...             ...   \n",
       "195  Passarela de da Rocha\\nTrevo\\n68039277 Alves P...  795.810.432-41   \n",
       "196  Lagoa de Martins\\nOeste\\n48956216 Peixoto do G...  195.743.802-97   \n",
       "197  Trecho Sales, 4\\nSanta Margarida\\n39719-425 Ba...  845.102.637-08   \n",
       "198  Trecho Maitê Moura, 96\\nJaqueline\\n26490885 Al...  329.407.615-07   \n",
       "199  Recanto Moreira, 91\\nTupi A\\n60803372 Silveira...  315.679.248-91   \n",
       "\n",
       "                telefone                usuario         senha  \n",
       "0           11 5397 8081           mendesyasmin  !c)7AakTFNS1  \n",
       "1       +55 11 6358 6567           caldeiracaio  _wIY9M5h5Ylu  \n",
       "2       +55 31 0082-7817           juanoliveira  _1LwwuLL#nhJ  \n",
       "3        (084) 9767 8399                qmoraes  QKqfOAPjR^2D  \n",
       "4           31 0570-4115            caueda-cruz  !_kCyfoOyN6W  \n",
       "..                   ...                    ...           ...  \n",
       "195      (011) 6001 2210                qbarros  ht2ub+k^(trE  \n",
       "196     +55 71 6768 8751             egoncalves  m4Bumr0S(91y  \n",
       "197  +55 (051) 8018 0986  da-cruzpedro-henrique  T*3Zm*lDi_Di  \n",
       "198  +55 (084) 2401-2482               walmeida  _pRaGqhO4o2u  \n",
       "199  +55 (061) 0068-1760          bernardocosta  E4C2Kp$c&Hzp  \n",
       "\n",
       "[200 rows x 8 columns]"
      ]
     },
     "execution_count": 4,
     "metadata": {},
     "output_type": "execute_result"
    }
   ],
   "source": [
    "clientes=p[1]\n",
    "#renomenado a coluna id para id_cliente na tabela de clientes\n",
    "clientes.rename(columns={\"id\": \"id_clientes\"}, inplace = 1)\n",
    "#renomenado a coluna nome para nome_cliente na tabela de clientes\n",
    "clientes.rename(columns={\"nome\": \"nome_cliente\"}, inplace = 1)\n",
    "clientes"
   ]
  },
  {
   "cell_type": "code",
   "execution_count": 5,
   "id": "c549b3fe",
   "metadata": {},
   "outputs": [
    {
     "data": {
      "text/html": [
       "<div>\n",
       "<style scoped>\n",
       "    .dataframe tbody tr th:only-of-type {\n",
       "        vertical-align: middle;\n",
       "    }\n",
       "\n",
       "    .dataframe tbody tr th {\n",
       "        vertical-align: top;\n",
       "    }\n",
       "\n",
       "    .dataframe thead th {\n",
       "        text-align: right;\n",
       "    }\n",
       "</style>\n",
       "<table border=\"1\" class=\"dataframe\">\n",
       "  <thead>\n",
       "    <tr style=\"text-align: right;\">\n",
       "      <th></th>\n",
       "      <th>id_vendas</th>\n",
       "      <th>id_clientes</th>\n",
       "      <th>data</th>\n",
       "    </tr>\n",
       "  </thead>\n",
       "  <tbody>\n",
       "    <tr>\n",
       "      <th>0</th>\n",
       "      <td>0</td>\n",
       "      <td>59</td>\n",
       "      <td>2021-11-01</td>\n",
       "    </tr>\n",
       "    <tr>\n",
       "      <th>1</th>\n",
       "      <td>1</td>\n",
       "      <td>89</td>\n",
       "      <td>2021-11-01</td>\n",
       "    </tr>\n",
       "    <tr>\n",
       "      <th>2</th>\n",
       "      <td>2</td>\n",
       "      <td>172</td>\n",
       "      <td>2021-11-01</td>\n",
       "    </tr>\n",
       "    <tr>\n",
       "      <th>3</th>\n",
       "      <td>3</td>\n",
       "      <td>139</td>\n",
       "      <td>2021-11-01</td>\n",
       "    </tr>\n",
       "    <tr>\n",
       "      <th>4</th>\n",
       "      <td>4</td>\n",
       "      <td>68</td>\n",
       "      <td>2021-11-01</td>\n",
       "    </tr>\n",
       "    <tr>\n",
       "      <th>...</th>\n",
       "      <td>...</td>\n",
       "      <td>...</td>\n",
       "      <td>...</td>\n",
       "    </tr>\n",
       "    <tr>\n",
       "      <th>495</th>\n",
       "      <td>495</td>\n",
       "      <td>141</td>\n",
       "      <td>2021-11-30</td>\n",
       "    </tr>\n",
       "    <tr>\n",
       "      <th>496</th>\n",
       "      <td>496</td>\n",
       "      <td>113</td>\n",
       "      <td>2021-11-30</td>\n",
       "    </tr>\n",
       "    <tr>\n",
       "      <th>497</th>\n",
       "      <td>497</td>\n",
       "      <td>160</td>\n",
       "      <td>2021-11-30</td>\n",
       "    </tr>\n",
       "    <tr>\n",
       "      <th>498</th>\n",
       "      <td>498</td>\n",
       "      <td>80</td>\n",
       "      <td>2021-11-30</td>\n",
       "    </tr>\n",
       "    <tr>\n",
       "      <th>499</th>\n",
       "      <td>499</td>\n",
       "      <td>36</td>\n",
       "      <td>2021-11-30</td>\n",
       "    </tr>\n",
       "  </tbody>\n",
       "</table>\n",
       "<p>500 rows × 3 columns</p>\n",
       "</div>"
      ],
      "text/plain": [
       "     id_vendas  id_clientes        data\n",
       "0            0           59  2021-11-01\n",
       "1            1           89  2021-11-01\n",
       "2            2          172  2021-11-01\n",
       "3            3          139  2021-11-01\n",
       "4            4           68  2021-11-01\n",
       "..         ...          ...         ...\n",
       "495        495          141  2021-11-30\n",
       "496        496          113  2021-11-30\n",
       "497        497          160  2021-11-30\n",
       "498        498           80  2021-11-30\n",
       "499        499           36  2021-11-30\n",
       "\n",
       "[500 rows x 3 columns]"
      ]
     },
     "execution_count": 5,
     "metadata": {},
     "output_type": "execute_result"
    }
   ],
   "source": [
    "vendas=p[2]\n",
    "#renomenado a coluna id para id_vendas na tabela de vendas\n",
    "vendas.rename(columns={\"id\": \"id_vendas\"}, inplace = 1)\n",
    "vendas"
   ]
  },
  {
   "cell_type": "code",
   "execution_count": 6,
   "id": "b6987937",
   "metadata": {},
   "outputs": [
    {
     "data": {
      "text/html": [
       "<div>\n",
       "<style scoped>\n",
       "    .dataframe tbody tr th:only-of-type {\n",
       "        vertical-align: middle;\n",
       "    }\n",
       "\n",
       "    .dataframe tbody tr th {\n",
       "        vertical-align: top;\n",
       "    }\n",
       "\n",
       "    .dataframe thead th {\n",
       "        text-align: right;\n",
       "    }\n",
       "</style>\n",
       "<table border=\"1\" class=\"dataframe\">\n",
       "  <thead>\n",
       "    <tr style=\"text-align: right;\">\n",
       "      <th></th>\n",
       "      <th>id_vendas</th>\n",
       "      <th>id_produtos</th>\n",
       "      <th>quantidade</th>\n",
       "    </tr>\n",
       "  </thead>\n",
       "  <tbody>\n",
       "    <tr>\n",
       "      <th>0</th>\n",
       "      <td>0</td>\n",
       "      <td>8</td>\n",
       "      <td>2</td>\n",
       "    </tr>\n",
       "    <tr>\n",
       "      <th>1</th>\n",
       "      <td>1</td>\n",
       "      <td>19</td>\n",
       "      <td>4</td>\n",
       "    </tr>\n",
       "    <tr>\n",
       "      <th>2</th>\n",
       "      <td>2</td>\n",
       "      <td>21</td>\n",
       "      <td>1</td>\n",
       "    </tr>\n",
       "    <tr>\n",
       "      <th>3</th>\n",
       "      <td>3</td>\n",
       "      <td>28</td>\n",
       "      <td>4</td>\n",
       "    </tr>\n",
       "    <tr>\n",
       "      <th>4</th>\n",
       "      <td>4</td>\n",
       "      <td>17</td>\n",
       "      <td>3</td>\n",
       "    </tr>\n",
       "    <tr>\n",
       "      <th>...</th>\n",
       "      <td>...</td>\n",
       "      <td>...</td>\n",
       "      <td>...</td>\n",
       "    </tr>\n",
       "    <tr>\n",
       "      <th>2495</th>\n",
       "      <td>4</td>\n",
       "      <td>11</td>\n",
       "      <td>3</td>\n",
       "    </tr>\n",
       "    <tr>\n",
       "      <th>2496</th>\n",
       "      <td>80</td>\n",
       "      <td>5</td>\n",
       "      <td>2</td>\n",
       "    </tr>\n",
       "    <tr>\n",
       "      <th>2497</th>\n",
       "      <td>134</td>\n",
       "      <td>17</td>\n",
       "      <td>1</td>\n",
       "    </tr>\n",
       "    <tr>\n",
       "      <th>2498</th>\n",
       "      <td>180</td>\n",
       "      <td>1</td>\n",
       "      <td>1</td>\n",
       "    </tr>\n",
       "    <tr>\n",
       "      <th>2499</th>\n",
       "      <td>79</td>\n",
       "      <td>17</td>\n",
       "      <td>1</td>\n",
       "    </tr>\n",
       "  </tbody>\n",
       "</table>\n",
       "<p>2500 rows × 3 columns</p>\n",
       "</div>"
      ],
      "text/plain": [
       "      id_vendas  id_produtos  quantidade\n",
       "0             0            8           2\n",
       "1             1           19           4\n",
       "2             2           21           1\n",
       "3             3           28           4\n",
       "4             4           17           3\n",
       "...         ...          ...         ...\n",
       "2495          4           11           3\n",
       "2496         80            5           2\n",
       "2497        134           17           1\n",
       "2498        180            1           1\n",
       "2499         79           17           1\n",
       "\n",
       "[2500 rows x 3 columns]"
      ]
     },
     "execution_count": 6,
     "metadata": {},
     "output_type": "execute_result"
    }
   ],
   "source": [
    "venda_produtos=p[3]\n",
    "venda_produtos"
   ]
  },
  {
   "cell_type": "markdown",
   "id": "77a9a467",
   "metadata": {},
   "source": [
    "##  Total de vendas por produto"
   ]
  },
  {
   "cell_type": "code",
   "execution_count": 7,
   "id": "fe3c1491",
   "metadata": {},
   "outputs": [
    {
     "data": {
      "text/html": [
       "<div>\n",
       "<style scoped>\n",
       "    .dataframe tbody tr th:only-of-type {\n",
       "        vertical-align: middle;\n",
       "    }\n",
       "\n",
       "    .dataframe tbody tr th {\n",
       "        vertical-align: top;\n",
       "    }\n",
       "\n",
       "    .dataframe thead th {\n",
       "        text-align: right;\n",
       "    }\n",
       "</style>\n",
       "<table border=\"1\" class=\"dataframe\">\n",
       "  <thead>\n",
       "    <tr style=\"text-align: right;\">\n",
       "      <th></th>\n",
       "      <th>id_vendas</th>\n",
       "      <th>id_produtos</th>\n",
       "      <th>quantidade</th>\n",
       "      <th>nome</th>\n",
       "      <th>secao</th>\n",
       "      <th>custo</th>\n",
       "      <th>preco</th>\n",
       "      <th>prateleira</th>\n",
       "      <th>estoque</th>\n",
       "      <th>unidade_de_medida_de_estoque</th>\n",
       "      <th>imagem</th>\n",
       "      <th>id_clientes</th>\n",
       "      <th>data</th>\n",
       "      <th>nome_cliente</th>\n",
       "      <th>nascimento</th>\n",
       "      <th>endereco</th>\n",
       "      <th>cpf</th>\n",
       "      <th>telefone</th>\n",
       "      <th>usuario</th>\n",
       "      <th>senha</th>\n",
       "    </tr>\n",
       "  </thead>\n",
       "  <tbody>\n",
       "    <tr>\n",
       "      <th>0</th>\n",
       "      <td>0</td>\n",
       "      <td>8</td>\n",
       "      <td>2</td>\n",
       "      <td>couve-flor</td>\n",
       "      <td>Alimentos em Geral</td>\n",
       "      <td>3.19</td>\n",
       "      <td>5.48</td>\n",
       "      <td>2E</td>\n",
       "      <td>20</td>\n",
       "      <td>pé</td>\n",
       "      <td>couve-flor.png</td>\n",
       "      <td>59</td>\n",
       "      <td>2021-11-01</td>\n",
       "      <td>Breno Teixeira</td>\n",
       "      <td>1979-03-01</td>\n",
       "      <td>Setor Vitor Gabriel Ramos, 21\\nVila Nova Gamel...</td>\n",
       "      <td>832.741.906-40</td>\n",
       "      <td>+55 81 2069 3899</td>\n",
       "      <td>guilherme62</td>\n",
       "      <td>$52Q4jMjVvbK</td>\n",
       "    </tr>\n",
       "    <tr>\n",
       "      <th>1</th>\n",
       "      <td>0</td>\n",
       "      <td>19</td>\n",
       "      <td>4</td>\n",
       "      <td>peito de frango</td>\n",
       "      <td>Açougue</td>\n",
       "      <td>11.19</td>\n",
       "      <td>16.49</td>\n",
       "      <td>4D</td>\n",
       "      <td>10</td>\n",
       "      <td>kg</td>\n",
       "      <td>peito_de_frango.jpg</td>\n",
       "      <td>59</td>\n",
       "      <td>2021-11-01</td>\n",
       "      <td>Breno Teixeira</td>\n",
       "      <td>1979-03-01</td>\n",
       "      <td>Setor Vitor Gabriel Ramos, 21\\nVila Nova Gamel...</td>\n",
       "      <td>832.741.906-40</td>\n",
       "      <td>+55 81 2069 3899</td>\n",
       "      <td>guilherme62</td>\n",
       "      <td>$52Q4jMjVvbK</td>\n",
       "    </tr>\n",
       "    <tr>\n",
       "      <th>2</th>\n",
       "      <td>0</td>\n",
       "      <td>15</td>\n",
       "      <td>3</td>\n",
       "      <td>carré de cordeiro</td>\n",
       "      <td>Açougue</td>\n",
       "      <td>147.99</td>\n",
       "      <td>172.00</td>\n",
       "      <td>5B</td>\n",
       "      <td>5</td>\n",
       "      <td>kg</td>\n",
       "      <td>carre_de_cordeiro.jpg</td>\n",
       "      <td>59</td>\n",
       "      <td>2021-11-01</td>\n",
       "      <td>Breno Teixeira</td>\n",
       "      <td>1979-03-01</td>\n",
       "      <td>Setor Vitor Gabriel Ramos, 21\\nVila Nova Gamel...</td>\n",
       "      <td>832.741.906-40</td>\n",
       "      <td>+55 81 2069 3899</td>\n",
       "      <td>guilherme62</td>\n",
       "      <td>$52Q4jMjVvbK</td>\n",
       "    </tr>\n",
       "    <tr>\n",
       "      <th>3</th>\n",
       "      <td>0</td>\n",
       "      <td>26</td>\n",
       "      <td>4</td>\n",
       "      <td>sonho</td>\n",
       "      <td>Padaria</td>\n",
       "      <td>1.79</td>\n",
       "      <td>3.49</td>\n",
       "      <td>6B</td>\n",
       "      <td>20</td>\n",
       "      <td>unidade</td>\n",
       "      <td>sonho.jpg</td>\n",
       "      <td>59</td>\n",
       "      <td>2021-11-01</td>\n",
       "      <td>Breno Teixeira</td>\n",
       "      <td>1979-03-01</td>\n",
       "      <td>Setor Vitor Gabriel Ramos, 21\\nVila Nova Gamel...</td>\n",
       "      <td>832.741.906-40</td>\n",
       "      <td>+55 81 2069 3899</td>\n",
       "      <td>guilherme62</td>\n",
       "      <td>$52Q4jMjVvbK</td>\n",
       "    </tr>\n",
       "    <tr>\n",
       "      <th>4</th>\n",
       "      <td>0</td>\n",
       "      <td>0</td>\n",
       "      <td>2</td>\n",
       "      <td>morango</td>\n",
       "      <td>Alimentos em Geral</td>\n",
       "      <td>4.30</td>\n",
       "      <td>7.99</td>\n",
       "      <td>1A</td>\n",
       "      <td>50</td>\n",
       "      <td>bandeja</td>\n",
       "      <td>morango-alt.png</td>\n",
       "      <td>59</td>\n",
       "      <td>2021-11-01</td>\n",
       "      <td>Breno Teixeira</td>\n",
       "      <td>1979-03-01</td>\n",
       "      <td>Setor Vitor Gabriel Ramos, 21\\nVila Nova Gamel...</td>\n",
       "      <td>832.741.906-40</td>\n",
       "      <td>+55 81 2069 3899</td>\n",
       "      <td>guilherme62</td>\n",
       "      <td>$52Q4jMjVvbK</td>\n",
       "    </tr>\n",
       "    <tr>\n",
       "      <th>...</th>\n",
       "      <td>...</td>\n",
       "      <td>...</td>\n",
       "      <td>...</td>\n",
       "      <td>...</td>\n",
       "      <td>...</td>\n",
       "      <td>...</td>\n",
       "      <td>...</td>\n",
       "      <td>...</td>\n",
       "      <td>...</td>\n",
       "      <td>...</td>\n",
       "      <td>...</td>\n",
       "      <td>...</td>\n",
       "      <td>...</td>\n",
       "      <td>...</td>\n",
       "      <td>...</td>\n",
       "      <td>...</td>\n",
       "      <td>...</td>\n",
       "      <td>...</td>\n",
       "      <td>...</td>\n",
       "      <td>...</td>\n",
       "    </tr>\n",
       "    <tr>\n",
       "      <th>2495</th>\n",
       "      <td>429</td>\n",
       "      <td>35</td>\n",
       "      <td>3</td>\n",
       "      <td>sabonete</td>\n",
       "      <td>Produtos de Limpeza</td>\n",
       "      <td>0.65</td>\n",
       "      <td>1.29</td>\n",
       "      <td>9D</td>\n",
       "      <td>58</td>\n",
       "      <td>unidade</td>\n",
       "      <td>sabonete.jpg</td>\n",
       "      <td>83</td>\n",
       "      <td>2021-11-27</td>\n",
       "      <td>Srta. Ana Sophia da Rocha</td>\n",
       "      <td>1994-10-20</td>\n",
       "      <td>Feira Teixeira\\nVila Vista Alegre\\n39866-079 C...</td>\n",
       "      <td>139.852.406-98</td>\n",
       "      <td>(081) 6861 0352</td>\n",
       "      <td>felipe22</td>\n",
       "      <td>!1PpXyQ3PbOe</td>\n",
       "    </tr>\n",
       "    <tr>\n",
       "      <th>2496</th>\n",
       "      <td>331</td>\n",
       "      <td>32</td>\n",
       "      <td>4</td>\n",
       "      <td>odorizador</td>\n",
       "      <td>Produtos de Limpeza</td>\n",
       "      <td>14.38</td>\n",
       "      <td>23.99</td>\n",
       "      <td>9B</td>\n",
       "      <td>6</td>\n",
       "      <td>unidade</td>\n",
       "      <td>odorizador.jpg</td>\n",
       "      <td>21</td>\n",
       "      <td>2021-11-22</td>\n",
       "      <td>Dr. Davi Gomes</td>\n",
       "      <td>1969-05-18</td>\n",
       "      <td>Quadra Mirella Rocha, 82\\nMineirão\\n22873942 N...</td>\n",
       "      <td>041.329.865-51</td>\n",
       "      <td>0300 089 7723</td>\n",
       "      <td>bmoreira</td>\n",
       "      <td>!8qa+cw2hIAz</td>\n",
       "    </tr>\n",
       "    <tr>\n",
       "      <th>2497</th>\n",
       "      <td>357</td>\n",
       "      <td>32</td>\n",
       "      <td>2</td>\n",
       "      <td>odorizador</td>\n",
       "      <td>Produtos de Limpeza</td>\n",
       "      <td>14.38</td>\n",
       "      <td>23.99</td>\n",
       "      <td>9B</td>\n",
       "      <td>6</td>\n",
       "      <td>unidade</td>\n",
       "      <td>odorizador.jpg</td>\n",
       "      <td>65</td>\n",
       "      <td>2021-11-23</td>\n",
       "      <td>Camila Monteiro</td>\n",
       "      <td>1993-05-05</td>\n",
       "      <td>Parque Joaquim Peixoto, 764\\nJardim Guanabara\\...</td>\n",
       "      <td>987.235.046-92</td>\n",
       "      <td>+55 (051) 2058-5223</td>\n",
       "      <td>ana-vitoriasilveira</td>\n",
       "      <td>7@t79zkq@*Aa</td>\n",
       "    </tr>\n",
       "    <tr>\n",
       "      <th>2498</th>\n",
       "      <td>286</td>\n",
       "      <td>18</td>\n",
       "      <td>2</td>\n",
       "      <td>picanha</td>\n",
       "      <td>Açougue</td>\n",
       "      <td>43.35</td>\n",
       "      <td>70.89</td>\n",
       "      <td>4C</td>\n",
       "      <td>6</td>\n",
       "      <td>kg</td>\n",
       "      <td>picanha.jpg</td>\n",
       "      <td>30</td>\n",
       "      <td>2021-11-19</td>\n",
       "      <td>Emanuelly da Cruz</td>\n",
       "      <td>1977-12-12</td>\n",
       "      <td>Núcleo Valentina Costa, 91\\nVila Nova Cachoeir...</td>\n",
       "      <td>965.412.307-06</td>\n",
       "      <td>+55 61 3999-6518</td>\n",
       "      <td>aliceviana</td>\n",
       "      <td>9iMTa@ab*1H3</td>\n",
       "    </tr>\n",
       "    <tr>\n",
       "      <th>2499</th>\n",
       "      <td>208</td>\n",
       "      <td>20</td>\n",
       "      <td>3</td>\n",
       "      <td>bolo</td>\n",
       "      <td>Padaria</td>\n",
       "      <td>17.89</td>\n",
       "      <td>35.00</td>\n",
       "      <td>6A</td>\n",
       "      <td>7</td>\n",
       "      <td>kg</td>\n",
       "      <td>bolo.jpg</td>\n",
       "      <td>107</td>\n",
       "      <td>2021-11-15</td>\n",
       "      <td>Enzo Gabriel Nascimento</td>\n",
       "      <td>1964-03-13</td>\n",
       "      <td>Loteamento Fernanda Ramos, 3\\nVila Piratininga...</td>\n",
       "      <td>971.843.205-14</td>\n",
       "      <td>+55 (041) 0779 9005</td>\n",
       "      <td>xpires</td>\n",
       "      <td>3X%4DuWiP(yC</td>\n",
       "    </tr>\n",
       "  </tbody>\n",
       "</table>\n",
       "<p>2500 rows × 20 columns</p>\n",
       "</div>"
      ],
      "text/plain": [
       "      id_vendas  id_produtos  quantidade               nome  \\\n",
       "0             0            8           2         couve-flor   \n",
       "1             0           19           4    peito de frango   \n",
       "2             0           15           3  carré de cordeiro   \n",
       "3             0           26           4              sonho   \n",
       "4             0            0           2            morango   \n",
       "...         ...          ...         ...                ...   \n",
       "2495        429           35           3           sabonete   \n",
       "2496        331           32           4         odorizador   \n",
       "2497        357           32           2         odorizador   \n",
       "2498        286           18           2            picanha   \n",
       "2499        208           20           3               bolo   \n",
       "\n",
       "                    secao   custo   preco prateleira  estoque  \\\n",
       "0      Alimentos em Geral    3.19    5.48         2E       20   \n",
       "1                 Açougue   11.19   16.49         4D       10   \n",
       "2                 Açougue  147.99  172.00         5B        5   \n",
       "3                 Padaria    1.79    3.49         6B       20   \n",
       "4      Alimentos em Geral    4.30    7.99         1A       50   \n",
       "...                   ...     ...     ...        ...      ...   \n",
       "2495  Produtos de Limpeza    0.65    1.29         9D       58   \n",
       "2496  Produtos de Limpeza   14.38   23.99         9B        6   \n",
       "2497  Produtos de Limpeza   14.38   23.99         9B        6   \n",
       "2498              Açougue   43.35   70.89         4C        6   \n",
       "2499              Padaria   17.89   35.00         6A        7   \n",
       "\n",
       "     unidade_de_medida_de_estoque                 imagem  id_clientes  \\\n",
       "0                              pé         couve-flor.png           59   \n",
       "1                              kg    peito_de_frango.jpg           59   \n",
       "2                              kg  carre_de_cordeiro.jpg           59   \n",
       "3                         unidade              sonho.jpg           59   \n",
       "4                         bandeja        morango-alt.png           59   \n",
       "...                           ...                    ...          ...   \n",
       "2495                      unidade           sabonete.jpg           83   \n",
       "2496                      unidade         odorizador.jpg           21   \n",
       "2497                      unidade         odorizador.jpg           65   \n",
       "2498                           kg            picanha.jpg           30   \n",
       "2499                           kg               bolo.jpg          107   \n",
       "\n",
       "            data               nome_cliente  nascimento  \\\n",
       "0     2021-11-01             Breno Teixeira  1979-03-01   \n",
       "1     2021-11-01             Breno Teixeira  1979-03-01   \n",
       "2     2021-11-01             Breno Teixeira  1979-03-01   \n",
       "3     2021-11-01             Breno Teixeira  1979-03-01   \n",
       "4     2021-11-01             Breno Teixeira  1979-03-01   \n",
       "...          ...                        ...         ...   \n",
       "2495  2021-11-27  Srta. Ana Sophia da Rocha  1994-10-20   \n",
       "2496  2021-11-22             Dr. Davi Gomes  1969-05-18   \n",
       "2497  2021-11-23            Camila Monteiro  1993-05-05   \n",
       "2498  2021-11-19          Emanuelly da Cruz  1977-12-12   \n",
       "2499  2021-11-15    Enzo Gabriel Nascimento  1964-03-13   \n",
       "\n",
       "                                               endereco             cpf  \\\n",
       "0     Setor Vitor Gabriel Ramos, 21\\nVila Nova Gamel...  832.741.906-40   \n",
       "1     Setor Vitor Gabriel Ramos, 21\\nVila Nova Gamel...  832.741.906-40   \n",
       "2     Setor Vitor Gabriel Ramos, 21\\nVila Nova Gamel...  832.741.906-40   \n",
       "3     Setor Vitor Gabriel Ramos, 21\\nVila Nova Gamel...  832.741.906-40   \n",
       "4     Setor Vitor Gabriel Ramos, 21\\nVila Nova Gamel...  832.741.906-40   \n",
       "...                                                 ...             ...   \n",
       "2495  Feira Teixeira\\nVila Vista Alegre\\n39866-079 C...  139.852.406-98   \n",
       "2496  Quadra Mirella Rocha, 82\\nMineirão\\n22873942 N...  041.329.865-51   \n",
       "2497  Parque Joaquim Peixoto, 764\\nJardim Guanabara\\...  987.235.046-92   \n",
       "2498  Núcleo Valentina Costa, 91\\nVila Nova Cachoeir...  965.412.307-06   \n",
       "2499  Loteamento Fernanda Ramos, 3\\nVila Piratininga...  971.843.205-14   \n",
       "\n",
       "                 telefone              usuario         senha  \n",
       "0        +55 81 2069 3899          guilherme62  $52Q4jMjVvbK  \n",
       "1        +55 81 2069 3899          guilherme62  $52Q4jMjVvbK  \n",
       "2        +55 81 2069 3899          guilherme62  $52Q4jMjVvbK  \n",
       "3        +55 81 2069 3899          guilherme62  $52Q4jMjVvbK  \n",
       "4        +55 81 2069 3899          guilherme62  $52Q4jMjVvbK  \n",
       "...                   ...                  ...           ...  \n",
       "2495      (081) 6861 0352             felipe22  !1PpXyQ3PbOe  \n",
       "2496        0300 089 7723             bmoreira  !8qa+cw2hIAz  \n",
       "2497  +55 (051) 2058-5223  ana-vitoriasilveira  7@t79zkq@*Aa  \n",
       "2498     +55 61 3999-6518           aliceviana  9iMTa@ab*1H3  \n",
       "2499  +55 (041) 0779 9005               xpires  3X%4DuWiP(yC  \n",
       "\n",
       "[2500 rows x 20 columns]"
      ]
     },
     "execution_count": 7,
     "metadata": {},
     "output_type": "execute_result"
    }
   ],
   "source": [
    "#realizando a união das tabelas produtos e venda_produtos em id_produtos\n",
    "venda_produtos_2 = pd.merge(venda_produtos, produtos, on = 'id_produtos', how='inner')\n",
    "#realizando a união das tabelas vendas e venda_produtos em id_vendas\n",
    "venda_produtos_3 = pd.merge(venda_produtos_2, vendas, on = 'id_vendas', how='inner')\n",
    "#realizando a união das tabelas clientes e venda_produtos em id_cliente\n",
    "venda_produtos_cliente = pd.merge(venda_produtos_3, clientes, on = 'id_clientes', how='inner')\n",
    "\n",
    "venda_produtos_cliente"
   ]
  },
  {
   "cell_type": "code",
   "execution_count": 50,
   "id": "0a5b51b9",
   "metadata": {},
   "outputs": [
    {
     "name": "stderr",
     "output_type": "stream",
     "text": [
      "C:\\Users\\vanes\\anaconda3\\lib\\site-packages\\pandas\\core\\frame.py:4441: SettingWithCopyWarning:\n",
      "\n",
      "\n",
      "A value is trying to be set on a copy of a slice from a DataFrame\n",
      "\n",
      "See the caveats in the documentation: https://pandas.pydata.org/pandas-docs/stable/user_guide/indexing.html#returning-a-view-versus-a-copy\n",
      "\n"
     ]
    }
   ],
   "source": [
    "produtos_precos=produtos[[\"nome\", \"preco\"]]\n",
    "produtos_precos.rename(columns={\"preco\": \"preco_unidade\"}, inplace = 1)\n",
    "venda_produtos_cliente[\"total_preco\"]=venda_produtos_cliente[\"quantidade\"]*venda_produtos_cliente[\"preco\"]\n",
    "#agrupando a tabelas cendas_produto por nome (groupby), somando os valores (sum), organizando os valores em ordem decrescente por quantidade vendida (sort_values) e redefinindo o index (reset_index)\n",
    "venda_produtos_total=venda_produtos_cliente.groupby(\"nome\").sum().sort_values('quantidade', ascending=False).reset_index()\n",
    "#selecionando apenas as colunas que serão analisadas\n",
    "venda_produtos_total_=venda_produtos_total[[\"nome\", \"quantidade\"]]\n",
    "#Ajustado uma tabela para adicionar seções\n",
    "produtos_nome_secao=produtos[[\"nome\", \"secao\"]].drop_duplicates()\n",
    "#unindo tabelas venda_produtos_total e produtos_nome_secao\n",
    "venda_produtos_quantidade_total=pd.merge(produtos_nome_secao, venda_produtos_total, on = 'nome', how='right')\n",
    "venda_produtos_quantidade_total=pd.merge(venda_produtos_quantidade_total, produtos_precos, on = 'nome', how='right')"
   ]
  },
  {
   "cell_type": "code",
   "execution_count": 51,
   "id": "0a3fe48a",
   "metadata": {},
   "outputs": [
    {
     "data": {
      "text/html": [
       "<div>\n",
       "<style scoped>\n",
       "    .dataframe tbody tr th:only-of-type {\n",
       "        vertical-align: middle;\n",
       "    }\n",
       "\n",
       "    .dataframe tbody tr th {\n",
       "        vertical-align: top;\n",
       "    }\n",
       "\n",
       "    .dataframe thead th {\n",
       "        text-align: right;\n",
       "    }\n",
       "</style>\n",
       "<table border=\"1\" class=\"dataframe\">\n",
       "  <thead>\n",
       "    <tr style=\"text-align: right;\">\n",
       "      <th></th>\n",
       "      <th>nome</th>\n",
       "      <th>secao</th>\n",
       "      <th>id_vendas</th>\n",
       "      <th>id_produtos</th>\n",
       "      <th>quantidade</th>\n",
       "      <th>custo</th>\n",
       "      <th>preco</th>\n",
       "      <th>estoque</th>\n",
       "      <th>id_clientes</th>\n",
       "      <th>total_preco</th>\n",
       "      <th>lucro</th>\n",
       "      <th>idade</th>\n",
       "      <th>dia_sem</th>\n",
       "      <th>preco_unidade</th>\n",
       "    </tr>\n",
       "  </thead>\n",
       "  <tbody>\n",
       "    <tr>\n",
       "      <th>0</th>\n",
       "      <td>morango</td>\n",
       "      <td>Alimentos em Geral</td>\n",
       "      <td>8400</td>\n",
       "      <td>0</td>\n",
       "      <td>189</td>\n",
       "      <td>296.70</td>\n",
       "      <td>551.31</td>\n",
       "      <td>3450</td>\n",
       "      <td>7470</td>\n",
       "      <td>1510.11</td>\n",
       "      <td>697.41</td>\n",
       "      <td>3252</td>\n",
       "      <td>195</td>\n",
       "      <td>7.99</td>\n",
       "    </tr>\n",
       "    <tr>\n",
       "      <th>1</th>\n",
       "      <td>melancia</td>\n",
       "      <td>Alimentos em Geral</td>\n",
       "      <td>10053</td>\n",
       "      <td>72</td>\n",
       "      <td>171</td>\n",
       "      <td>848.88</td>\n",
       "      <td>1151.28</td>\n",
       "      <td>1440</td>\n",
       "      <td>7710</td>\n",
       "      <td>2734.29</td>\n",
       "      <td>718.20</td>\n",
       "      <td>3606</td>\n",
       "      <td>199</td>\n",
       "      <td>15.99</td>\n",
       "    </tr>\n",
       "    <tr>\n",
       "      <th>2</th>\n",
       "      <td>banana</td>\n",
       "      <td>Alimentos em Geral</td>\n",
       "      <td>9978</td>\n",
       "      <td>136</td>\n",
       "      <td>169</td>\n",
       "      <td>136.00</td>\n",
       "      <td>407.32</td>\n",
       "      <td>2720</td>\n",
       "      <td>7510</td>\n",
       "      <td>1012.31</td>\n",
       "      <td>674.31</td>\n",
       "      <td>3275</td>\n",
       "      <td>205</td>\n",
       "      <td>5.99</td>\n",
       "    </tr>\n",
       "    <tr>\n",
       "      <th>3</th>\n",
       "      <td>uva</td>\n",
       "      <td>Alimentos em Geral</td>\n",
       "      <td>9196</td>\n",
       "      <td>213</td>\n",
       "      <td>189</td>\n",
       "      <td>297.49</td>\n",
       "      <td>530.37</td>\n",
       "      <td>2556</td>\n",
       "      <td>6563</td>\n",
       "      <td>1411.83</td>\n",
       "      <td>619.92</td>\n",
       "      <td>3108</td>\n",
       "      <td>195</td>\n",
       "      <td>7.47</td>\n",
       "    </tr>\n",
       "    <tr>\n",
       "      <th>4</th>\n",
       "      <td>batata</td>\n",
       "      <td>Alimentos em Geral</td>\n",
       "      <td>10146</td>\n",
       "      <td>300</td>\n",
       "      <td>189</td>\n",
       "      <td>179.25</td>\n",
       "      <td>299.25</td>\n",
       "      <td>3525</td>\n",
       "      <td>8074</td>\n",
       "      <td>754.11</td>\n",
       "      <td>302.40</td>\n",
       "      <td>3565</td>\n",
       "      <td>227</td>\n",
       "      <td>3.99</td>\n",
       "    </tr>\n",
       "    <tr>\n",
       "      <th>5</th>\n",
       "      <td>berinjela</td>\n",
       "      <td>Alimentos em Geral</td>\n",
       "      <td>9165</td>\n",
       "      <td>370</td>\n",
       "      <td>206</td>\n",
       "      <td>635.66</td>\n",
       "      <td>887.26</td>\n",
       "      <td>888</td>\n",
       "      <td>8207</td>\n",
       "      <td>2469.94</td>\n",
       "      <td>700.40</td>\n",
       "      <td>3415</td>\n",
       "      <td>198</td>\n",
       "      <td>11.99</td>\n",
       "    </tr>\n",
       "    <tr>\n",
       "      <th>6</th>\n",
       "      <td>abobrinha</td>\n",
       "      <td>Alimentos em Geral</td>\n",
       "      <td>10345</td>\n",
       "      <td>450</td>\n",
       "      <td>191</td>\n",
       "      <td>201.75</td>\n",
       "      <td>261.75</td>\n",
       "      <td>1425</td>\n",
       "      <td>7840</td>\n",
       "      <td>666.59</td>\n",
       "      <td>152.80</td>\n",
       "      <td>3531</td>\n",
       "      <td>225</td>\n",
       "      <td>3.49</td>\n",
       "    </tr>\n",
       "    <tr>\n",
       "      <th>7</th>\n",
       "      <td>alface</td>\n",
       "      <td>Alimentos em Geral</td>\n",
       "      <td>8448</td>\n",
       "      <td>455</td>\n",
       "      <td>175</td>\n",
       "      <td>29.25</td>\n",
       "      <td>63.70</td>\n",
       "      <td>1625</td>\n",
       "      <td>7666</td>\n",
       "      <td>171.50</td>\n",
       "      <td>92.75</td>\n",
       "      <td>2794</td>\n",
       "      <td>173</td>\n",
       "      <td>0.98</td>\n",
       "    </tr>\n",
       "    <tr>\n",
       "      <th>8</th>\n",
       "      <td>couve-flor</td>\n",
       "      <td>Alimentos em Geral</td>\n",
       "      <td>7211</td>\n",
       "      <td>392</td>\n",
       "      <td>121</td>\n",
       "      <td>156.31</td>\n",
       "      <td>268.52</td>\n",
       "      <td>980</td>\n",
       "      <td>5631</td>\n",
       "      <td>663.08</td>\n",
       "      <td>277.09</td>\n",
       "      <td>2352</td>\n",
       "      <td>136</td>\n",
       "      <td>5.48</td>\n",
       "    </tr>\n",
       "    <tr>\n",
       "      <th>9</th>\n",
       "      <td>feijão</td>\n",
       "      <td>Alimentos em Geral</td>\n",
       "      <td>10189</td>\n",
       "      <td>738</td>\n",
       "      <td>193</td>\n",
       "      <td>532.18</td>\n",
       "      <td>692.90</td>\n",
       "      <td>3526</td>\n",
       "      <td>8768</td>\n",
       "      <td>1630.85</td>\n",
       "      <td>378.28</td>\n",
       "      <td>3730</td>\n",
       "      <td>174</td>\n",
       "      <td>8.45</td>\n",
       "    </tr>\n",
       "    <tr>\n",
       "      <th>10</th>\n",
       "      <td>arroz</td>\n",
       "      <td>Alimentos em Geral</td>\n",
       "      <td>8571</td>\n",
       "      <td>680</td>\n",
       "      <td>183</td>\n",
       "      <td>159.80</td>\n",
       "      <td>293.08</td>\n",
       "      <td>5440</td>\n",
       "      <td>6874</td>\n",
       "      <td>788.73</td>\n",
       "      <td>358.68</td>\n",
       "      <td>3112</td>\n",
       "      <td>203</td>\n",
       "      <td>4.31</td>\n",
       "    </tr>\n",
       "    <tr>\n",
       "      <th>11</th>\n",
       "      <td>macarrão</td>\n",
       "      <td>Alimentos em Geral</td>\n",
       "      <td>8832</td>\n",
       "      <td>781</td>\n",
       "      <td>176</td>\n",
       "      <td>119.99</td>\n",
       "      <td>176.08</td>\n",
       "      <td>2698</td>\n",
       "      <td>7788</td>\n",
       "      <td>436.48</td>\n",
       "      <td>139.04</td>\n",
       "      <td>2950</td>\n",
       "      <td>208</td>\n",
       "      <td>2.48</td>\n",
       "    </tr>\n",
       "    <tr>\n",
       "      <th>12</th>\n",
       "      <td>alcatra</td>\n",
       "      <td>Açougue</td>\n",
       "      <td>7406</td>\n",
       "      <td>780</td>\n",
       "      <td>160</td>\n",
       "      <td>1507.35</td>\n",
       "      <td>2079.35</td>\n",
       "      <td>455</td>\n",
       "      <td>6446</td>\n",
       "      <td>5118.40</td>\n",
       "      <td>1408.00</td>\n",
       "      <td>2987</td>\n",
       "      <td>187</td>\n",
       "      <td>31.99</td>\n",
       "    </tr>\n",
       "    <tr>\n",
       "      <th>13</th>\n",
       "      <td>maminha</td>\n",
       "      <td>Açougue</td>\n",
       "      <td>9362</td>\n",
       "      <td>975</td>\n",
       "      <td>191</td>\n",
       "      <td>2511.75</td>\n",
       "      <td>3224.25</td>\n",
       "      <td>675</td>\n",
       "      <td>8589</td>\n",
       "      <td>8211.09</td>\n",
       "      <td>1814.50</td>\n",
       "      <td>3435</td>\n",
       "      <td>221</td>\n",
       "      <td>42.99</td>\n",
       "    </tr>\n",
       "    <tr>\n",
       "      <th>14</th>\n",
       "      <td>bisteca suína</td>\n",
       "      <td>Açougue</td>\n",
       "      <td>9123</td>\n",
       "      <td>1162</td>\n",
       "      <td>219</td>\n",
       "      <td>1305.59</td>\n",
       "      <td>1891.57</td>\n",
       "      <td>415</td>\n",
       "      <td>8882</td>\n",
       "      <td>4991.01</td>\n",
       "      <td>1546.14</td>\n",
       "      <td>4104</td>\n",
       "      <td>217</td>\n",
       "      <td>22.79</td>\n",
       "    </tr>\n",
       "    <tr>\n",
       "      <th>15</th>\n",
       "      <td>carré de cordeiro</td>\n",
       "      <td>Açougue</td>\n",
       "      <td>7082</td>\n",
       "      <td>840</td>\n",
       "      <td>141</td>\n",
       "      <td>8287.44</td>\n",
       "      <td>9632.00</td>\n",
       "      <td>280</td>\n",
       "      <td>5785</td>\n",
       "      <td>24252.00</td>\n",
       "      <td>3385.41</td>\n",
       "      <td>2537</td>\n",
       "      <td>140</td>\n",
       "      <td>172.00</td>\n",
       "    </tr>\n",
       "    <tr>\n",
       "      <th>16</th>\n",
       "      <td>costela</td>\n",
       "      <td>Açougue</td>\n",
       "      <td>6938</td>\n",
       "      <td>1072</td>\n",
       "      <td>175</td>\n",
       "      <td>1098.13</td>\n",
       "      <td>1406.33</td>\n",
       "      <td>670</td>\n",
       "      <td>7029</td>\n",
       "      <td>3673.25</td>\n",
       "      <td>805.00</td>\n",
       "      <td>3146</td>\n",
       "      <td>205</td>\n",
       "      <td>20.99</td>\n",
       "    </tr>\n",
       "    <tr>\n",
       "      <th>17</th>\n",
       "      <td>paleta suína</td>\n",
       "      <td>Açougue</td>\n",
       "      <td>9469</td>\n",
       "      <td>1241</td>\n",
       "      <td>173</td>\n",
       "      <td>1247.57</td>\n",
       "      <td>1751.27</td>\n",
       "      <td>657</td>\n",
       "      <td>7561</td>\n",
       "      <td>4150.27</td>\n",
       "      <td>1193.70</td>\n",
       "      <td>3474</td>\n",
       "      <td>213</td>\n",
       "      <td>23.99</td>\n",
       "    </tr>\n",
       "    <tr>\n",
       "      <th>18</th>\n",
       "      <td>picanha</td>\n",
       "      <td>Açougue</td>\n",
       "      <td>10446</td>\n",
       "      <td>1422</td>\n",
       "      <td>197</td>\n",
       "      <td>3424.65</td>\n",
       "      <td>5600.31</td>\n",
       "      <td>474</td>\n",
       "      <td>8352</td>\n",
       "      <td>13965.33</td>\n",
       "      <td>5425.38</td>\n",
       "      <td>3629</td>\n",
       "      <td>217</td>\n",
       "      <td>70.89</td>\n",
       "    </tr>\n",
       "    <tr>\n",
       "      <th>19</th>\n",
       "      <td>peito de frango</td>\n",
       "      <td>Açougue</td>\n",
       "      <td>6836</td>\n",
       "      <td>1197</td>\n",
       "      <td>155</td>\n",
       "      <td>704.97</td>\n",
       "      <td>1038.87</td>\n",
       "      <td>630</td>\n",
       "      <td>6042</td>\n",
       "      <td>2555.95</td>\n",
       "      <td>821.50</td>\n",
       "      <td>2956</td>\n",
       "      <td>195</td>\n",
       "      <td>16.49</td>\n",
       "    </tr>\n",
       "    <tr>\n",
       "      <th>20</th>\n",
       "      <td>bolo</td>\n",
       "      <td>Padaria</td>\n",
       "      <td>8079</td>\n",
       "      <td>1280</td>\n",
       "      <td>164</td>\n",
       "      <td>1144.96</td>\n",
       "      <td>2240.00</td>\n",
       "      <td>448</td>\n",
       "      <td>8103</td>\n",
       "      <td>5740.00</td>\n",
       "      <td>2806.04</td>\n",
       "      <td>3169</td>\n",
       "      <td>190</td>\n",
       "      <td>35.00</td>\n",
       "    </tr>\n",
       "    <tr>\n",
       "      <th>21</th>\n",
       "      <td>pão de forma</td>\n",
       "      <td>Padaria</td>\n",
       "      <td>8157</td>\n",
       "      <td>1365</td>\n",
       "      <td>155</td>\n",
       "      <td>242.45</td>\n",
       "      <td>454.35</td>\n",
       "      <td>975</td>\n",
       "      <td>7482</td>\n",
       "      <td>1083.45</td>\n",
       "      <td>505.30</td>\n",
       "      <td>3334</td>\n",
       "      <td>162</td>\n",
       "      <td>6.99</td>\n",
       "    </tr>\n",
       "    <tr>\n",
       "      <th>22</th>\n",
       "      <td>pão de queijo</td>\n",
       "      <td>Padaria</td>\n",
       "      <td>7134</td>\n",
       "      <td>1276</td>\n",
       "      <td>125</td>\n",
       "      <td>988.32</td>\n",
       "      <td>1391.42</td>\n",
       "      <td>58</td>\n",
       "      <td>6752</td>\n",
       "      <td>2998.75</td>\n",
       "      <td>868.75</td>\n",
       "      <td>2597</td>\n",
       "      <td>168</td>\n",
       "      <td>23.99</td>\n",
       "    </tr>\n",
       "    <tr>\n",
       "      <th>23</th>\n",
       "      <td>pão francês</td>\n",
       "      <td>Padaria</td>\n",
       "      <td>9389</td>\n",
       "      <td>1610</td>\n",
       "      <td>171</td>\n",
       "      <td>307.30</td>\n",
       "      <td>769.30</td>\n",
       "      <td>210</td>\n",
       "      <td>7728</td>\n",
       "      <td>1879.29</td>\n",
       "      <td>1128.60</td>\n",
       "      <td>3233</td>\n",
       "      <td>209</td>\n",
       "      <td>10.99</td>\n",
       "    </tr>\n",
       "    <tr>\n",
       "      <th>24</th>\n",
       "      <td>pastel</td>\n",
       "      <td>Padaria</td>\n",
       "      <td>8732</td>\n",
       "      <td>1704</td>\n",
       "      <td>169</td>\n",
       "      <td>226.49</td>\n",
       "      <td>354.29</td>\n",
       "      <td>639</td>\n",
       "      <td>7511</td>\n",
       "      <td>843.31</td>\n",
       "      <td>304.20</td>\n",
       "      <td>3477</td>\n",
       "      <td>225</td>\n",
       "      <td>4.99</td>\n",
       "    </tr>\n",
       "    <tr>\n",
       "      <th>25</th>\n",
       "      <td>sanduíche</td>\n",
       "      <td>Padaria</td>\n",
       "      <td>9923</td>\n",
       "      <td>1675</td>\n",
       "      <td>163</td>\n",
       "      <td>535.33</td>\n",
       "      <td>870.33</td>\n",
       "      <td>1005</td>\n",
       "      <td>7175</td>\n",
       "      <td>2117.37</td>\n",
       "      <td>815.00</td>\n",
       "      <td>3328</td>\n",
       "      <td>217</td>\n",
       "      <td>12.99</td>\n",
       "    </tr>\n",
       "    <tr>\n",
       "      <th>26</th>\n",
       "      <td>sonho</td>\n",
       "      <td>Padaria</td>\n",
       "      <td>7988</td>\n",
       "      <td>1950</td>\n",
       "      <td>184</td>\n",
       "      <td>134.25</td>\n",
       "      <td>261.75</td>\n",
       "      <td>1500</td>\n",
       "      <td>7716</td>\n",
       "      <td>642.16</td>\n",
       "      <td>312.80</td>\n",
       "      <td>3415</td>\n",
       "      <td>168</td>\n",
       "      <td>3.49</td>\n",
       "    </tr>\n",
       "    <tr>\n",
       "      <th>27</th>\n",
       "      <td>torta</td>\n",
       "      <td>Padaria</td>\n",
       "      <td>7118</td>\n",
       "      <td>1431</td>\n",
       "      <td>125</td>\n",
       "      <td>1428.35</td>\n",
       "      <td>2385.00</td>\n",
       "      <td>371</td>\n",
       "      <td>4984</td>\n",
       "      <td>5625.00</td>\n",
       "      <td>2256.25</td>\n",
       "      <td>2285</td>\n",
       "      <td>156</td>\n",
       "      <td>45.00</td>\n",
       "    </tr>\n",
       "    <tr>\n",
       "      <th>28</th>\n",
       "      <td>amaciante</td>\n",
       "      <td>Produtos de Limpeza</td>\n",
       "      <td>8661</td>\n",
       "      <td>1848</td>\n",
       "      <td>169</td>\n",
       "      <td>342.54</td>\n",
       "      <td>442.20</td>\n",
       "      <td>792</td>\n",
       "      <td>7172</td>\n",
       "      <td>1132.30</td>\n",
       "      <td>255.19</td>\n",
       "      <td>3138</td>\n",
       "      <td>202</td>\n",
       "      <td>6.70</td>\n",
       "    </tr>\n",
       "    <tr>\n",
       "      <th>29</th>\n",
       "      <td>água sanitária</td>\n",
       "      <td>Produtos de Limpeza</td>\n",
       "      <td>11070</td>\n",
       "      <td>2407</td>\n",
       "      <td>199</td>\n",
       "      <td>660.68</td>\n",
       "      <td>994.34</td>\n",
       "      <td>664</td>\n",
       "      <td>9214</td>\n",
       "      <td>2384.02</td>\n",
       "      <td>799.98</td>\n",
       "      <td>3551</td>\n",
       "      <td>218</td>\n",
       "      <td>11.98</td>\n",
       "    </tr>\n",
       "    <tr>\n",
       "      <th>30</th>\n",
       "      <td>detergente</td>\n",
       "      <td>Produtos de Limpeza</td>\n",
       "      <td>10999</td>\n",
       "      <td>2340</td>\n",
       "      <td>197</td>\n",
       "      <td>101.40</td>\n",
       "      <td>210.60</td>\n",
       "      <td>3120</td>\n",
       "      <td>8757</td>\n",
       "      <td>531.90</td>\n",
       "      <td>275.80</td>\n",
       "      <td>3549</td>\n",
       "      <td>245</td>\n",
       "      <td>2.70</td>\n",
       "    </tr>\n",
       "    <tr>\n",
       "      <th>31</th>\n",
       "      <td>flanela</td>\n",
       "      <td>Produtos de Limpeza</td>\n",
       "      <td>10281</td>\n",
       "      <td>2294</td>\n",
       "      <td>183</td>\n",
       "      <td>43.66</td>\n",
       "      <td>147.26</td>\n",
       "      <td>2368</td>\n",
       "      <td>7921</td>\n",
       "      <td>364.17</td>\n",
       "      <td>256.20</td>\n",
       "      <td>3488</td>\n",
       "      <td>207</td>\n",
       "      <td>1.99</td>\n",
       "    </tr>\n",
       "    <tr>\n",
       "      <th>32</th>\n",
       "      <td>odorizador</td>\n",
       "      <td>Produtos de Limpeza</td>\n",
       "      <td>9882</td>\n",
       "      <td>2240</td>\n",
       "      <td>173</td>\n",
       "      <td>1006.60</td>\n",
       "      <td>1679.30</td>\n",
       "      <td>420</td>\n",
       "      <td>7082</td>\n",
       "      <td>4150.27</td>\n",
       "      <td>1662.53</td>\n",
       "      <td>3226</td>\n",
       "      <td>204</td>\n",
       "      <td>23.99</td>\n",
       "    </tr>\n",
       "    <tr>\n",
       "      <th>33</th>\n",
       "      <td>rodo</td>\n",
       "      <td>Produtos de Limpeza</td>\n",
       "      <td>7168</td>\n",
       "      <td>2145</td>\n",
       "      <td>164</td>\n",
       "      <td>178.10</td>\n",
       "      <td>389.35</td>\n",
       "      <td>650</td>\n",
       "      <td>7515</td>\n",
       "      <td>982.36</td>\n",
       "      <td>533.00</td>\n",
       "      <td>2832</td>\n",
       "      <td>202</td>\n",
       "      <td>5.99</td>\n",
       "    </tr>\n",
       "    <tr>\n",
       "      <th>34</th>\n",
       "      <td>sabão em pó</td>\n",
       "      <td>Produtos de Limpeza</td>\n",
       "      <td>7703</td>\n",
       "      <td>2278</td>\n",
       "      <td>168</td>\n",
       "      <td>412.05</td>\n",
       "      <td>649.23</td>\n",
       "      <td>871</td>\n",
       "      <td>6627</td>\n",
       "      <td>1627.92</td>\n",
       "      <td>594.72</td>\n",
       "      <td>2940</td>\n",
       "      <td>183</td>\n",
       "      <td>9.69</td>\n",
       "    </tr>\n",
       "    <tr>\n",
       "      <th>35</th>\n",
       "      <td>sabonete</td>\n",
       "      <td>Produtos de Limpeza</td>\n",
       "      <td>10197</td>\n",
       "      <td>2590</td>\n",
       "      <td>205</td>\n",
       "      <td>48.10</td>\n",
       "      <td>95.46</td>\n",
       "      <td>4292</td>\n",
       "      <td>8082</td>\n",
       "      <td>264.45</td>\n",
       "      <td>131.20</td>\n",
       "      <td>3186</td>\n",
       "      <td>234</td>\n",
       "      <td>1.29</td>\n",
       "    </tr>\n",
       "  </tbody>\n",
       "</table>\n",
       "</div>"
      ],
      "text/plain": [
       "                 nome                secao  id_vendas  id_produtos  \\\n",
       "0             morango   Alimentos em Geral       8400            0   \n",
       "1            melancia   Alimentos em Geral      10053           72   \n",
       "2              banana   Alimentos em Geral       9978          136   \n",
       "3                 uva   Alimentos em Geral       9196          213   \n",
       "4              batata   Alimentos em Geral      10146          300   \n",
       "5           berinjela   Alimentos em Geral       9165          370   \n",
       "6           abobrinha   Alimentos em Geral      10345          450   \n",
       "7              alface   Alimentos em Geral       8448          455   \n",
       "8          couve-flor   Alimentos em Geral       7211          392   \n",
       "9              feijão   Alimentos em Geral      10189          738   \n",
       "10              arroz   Alimentos em Geral       8571          680   \n",
       "11           macarrão   Alimentos em Geral       8832          781   \n",
       "12            alcatra              Açougue       7406          780   \n",
       "13            maminha              Açougue       9362          975   \n",
       "14      bisteca suína              Açougue       9123         1162   \n",
       "15  carré de cordeiro              Açougue       7082          840   \n",
       "16            costela              Açougue       6938         1072   \n",
       "17       paleta suína              Açougue       9469         1241   \n",
       "18            picanha              Açougue      10446         1422   \n",
       "19    peito de frango              Açougue       6836         1197   \n",
       "20               bolo              Padaria       8079         1280   \n",
       "21       pão de forma              Padaria       8157         1365   \n",
       "22      pão de queijo              Padaria       7134         1276   \n",
       "23        pão francês              Padaria       9389         1610   \n",
       "24             pastel              Padaria       8732         1704   \n",
       "25          sanduíche              Padaria       9923         1675   \n",
       "26              sonho              Padaria       7988         1950   \n",
       "27              torta              Padaria       7118         1431   \n",
       "28          amaciante  Produtos de Limpeza       8661         1848   \n",
       "29     água sanitária  Produtos de Limpeza      11070         2407   \n",
       "30         detergente  Produtos de Limpeza      10999         2340   \n",
       "31            flanela  Produtos de Limpeza      10281         2294   \n",
       "32         odorizador  Produtos de Limpeza       9882         2240   \n",
       "33               rodo  Produtos de Limpeza       7168         2145   \n",
       "34        sabão em pó  Produtos de Limpeza       7703         2278   \n",
       "35           sabonete  Produtos de Limpeza      10197         2590   \n",
       "\n",
       "    quantidade    custo    preco  estoque  id_clientes  total_preco    lucro  \\\n",
       "0          189   296.70   551.31     3450         7470      1510.11   697.41   \n",
       "1          171   848.88  1151.28     1440         7710      2734.29   718.20   \n",
       "2          169   136.00   407.32     2720         7510      1012.31   674.31   \n",
       "3          189   297.49   530.37     2556         6563      1411.83   619.92   \n",
       "4          189   179.25   299.25     3525         8074       754.11   302.40   \n",
       "5          206   635.66   887.26      888         8207      2469.94   700.40   \n",
       "6          191   201.75   261.75     1425         7840       666.59   152.80   \n",
       "7          175    29.25    63.70     1625         7666       171.50    92.75   \n",
       "8          121   156.31   268.52      980         5631       663.08   277.09   \n",
       "9          193   532.18   692.90     3526         8768      1630.85   378.28   \n",
       "10         183   159.80   293.08     5440         6874       788.73   358.68   \n",
       "11         176   119.99   176.08     2698         7788       436.48   139.04   \n",
       "12         160  1507.35  2079.35      455         6446      5118.40  1408.00   \n",
       "13         191  2511.75  3224.25      675         8589      8211.09  1814.50   \n",
       "14         219  1305.59  1891.57      415         8882      4991.01  1546.14   \n",
       "15         141  8287.44  9632.00      280         5785     24252.00  3385.41   \n",
       "16         175  1098.13  1406.33      670         7029      3673.25   805.00   \n",
       "17         173  1247.57  1751.27      657         7561      4150.27  1193.70   \n",
       "18         197  3424.65  5600.31      474         8352     13965.33  5425.38   \n",
       "19         155   704.97  1038.87      630         6042      2555.95   821.50   \n",
       "20         164  1144.96  2240.00      448         8103      5740.00  2806.04   \n",
       "21         155   242.45   454.35      975         7482      1083.45   505.30   \n",
       "22         125   988.32  1391.42       58         6752      2998.75   868.75   \n",
       "23         171   307.30   769.30      210         7728      1879.29  1128.60   \n",
       "24         169   226.49   354.29      639         7511       843.31   304.20   \n",
       "25         163   535.33   870.33     1005         7175      2117.37   815.00   \n",
       "26         184   134.25   261.75     1500         7716       642.16   312.80   \n",
       "27         125  1428.35  2385.00      371         4984      5625.00  2256.25   \n",
       "28         169   342.54   442.20      792         7172      1132.30   255.19   \n",
       "29         199   660.68   994.34      664         9214      2384.02   799.98   \n",
       "30         197   101.40   210.60     3120         8757       531.90   275.80   \n",
       "31         183    43.66   147.26     2368         7921       364.17   256.20   \n",
       "32         173  1006.60  1679.30      420         7082      4150.27  1662.53   \n",
       "33         164   178.10   389.35      650         7515       982.36   533.00   \n",
       "34         168   412.05   649.23      871         6627      1627.92   594.72   \n",
       "35         205    48.10    95.46     4292         8082       264.45   131.20   \n",
       "\n",
       "    idade  dia_sem  preco_unidade  \n",
       "0    3252      195           7.99  \n",
       "1    3606      199          15.99  \n",
       "2    3275      205           5.99  \n",
       "3    3108      195           7.47  \n",
       "4    3565      227           3.99  \n",
       "5    3415      198          11.99  \n",
       "6    3531      225           3.49  \n",
       "7    2794      173           0.98  \n",
       "8    2352      136           5.48  \n",
       "9    3730      174           8.45  \n",
       "10   3112      203           4.31  \n",
       "11   2950      208           2.48  \n",
       "12   2987      187          31.99  \n",
       "13   3435      221          42.99  \n",
       "14   4104      217          22.79  \n",
       "15   2537      140         172.00  \n",
       "16   3146      205          20.99  \n",
       "17   3474      213          23.99  \n",
       "18   3629      217          70.89  \n",
       "19   2956      195          16.49  \n",
       "20   3169      190          35.00  \n",
       "21   3334      162           6.99  \n",
       "22   2597      168          23.99  \n",
       "23   3233      209          10.99  \n",
       "24   3477      225           4.99  \n",
       "25   3328      217          12.99  \n",
       "26   3415      168           3.49  \n",
       "27   2285      156          45.00  \n",
       "28   3138      202           6.70  \n",
       "29   3551      218          11.98  \n",
       "30   3549      245           2.70  \n",
       "31   3488      207           1.99  \n",
       "32   3226      204          23.99  \n",
       "33   2832      202           5.99  \n",
       "34   2940      183           9.69  \n",
       "35   3186      234           1.29  "
      ]
     },
     "execution_count": 51,
     "metadata": {},
     "output_type": "execute_result"
    }
   ],
   "source": [
    "venda_produtos_quantidade_total"
   ]
  },
  {
   "cell_type": "code",
   "execution_count": 47,
   "id": "bdd6d27c",
   "metadata": {},
   "outputs": [
    {
     "data": {
      "application/vnd.plotly.v1+json": {
       "config": {
        "plotlyServerURL": "https://plot.ly"
       },
       "data": [
        {
         "alignmentgroup": "True",
         "hovertemplate": "Seção=Açougue<br>Nome=%{x}<br>Quantidade vendida=%{y}<extra></extra>",
         "legendgroup": "Açougue",
         "marker": {
          "color": "#EF553B",
          "pattern": {
           "shape": ""
          }
         },
         "name": "Açougue",
         "offsetgroup": "Açougue",
         "orientation": "v",
         "showlegend": true,
         "textposition": "auto",
         "type": "bar",
         "x": [
          "bisteca suína",
          "picanha",
          "maminha",
          "costela",
          "paleta suína",
          "alcatra",
          "peito de frango",
          "carré de cordeiro"
         ],
         "xaxis": "x",
         "y": [
          219,
          197,
          191,
          175,
          173,
          160,
          155,
          141
         ],
         "yaxis": "y"
        },
        {
         "alignmentgroup": "True",
         "hovertemplate": "Seção=Alimentos em Geral<br>Nome=%{x}<br>Quantidade vendida=%{y}<extra></extra>",
         "legendgroup": "Alimentos em Geral",
         "marker": {
          "color": "#636EFA",
          "pattern": {
           "shape": ""
          }
         },
         "name": "Alimentos em Geral",
         "offsetgroup": "Alimentos em Geral",
         "orientation": "v",
         "showlegend": true,
         "textposition": "auto",
         "type": "bar",
         "x": [
          "berinjela",
          "feijão",
          "abobrinha",
          "uva",
          "batata",
          "morango",
          "arroz",
          "macarrão",
          "alface",
          "melancia",
          "banana",
          "couve-flor"
         ],
         "xaxis": "x",
         "y": [
          206,
          193,
          191,
          189,
          189,
          189,
          183,
          176,
          175,
          171,
          169,
          121
         ],
         "yaxis": "y"
        },
        {
         "alignmentgroup": "True",
         "hovertemplate": "Seção=Produtos de Limpeza<br>Nome=%{x}<br>Quantidade vendida=%{y}<extra></extra>",
         "legendgroup": "Produtos de Limpeza",
         "marker": {
          "color": "#AB63FA",
          "pattern": {
           "shape": ""
          }
         },
         "name": "Produtos de Limpeza",
         "offsetgroup": "Produtos de Limpeza",
         "orientation": "v",
         "showlegend": true,
         "textposition": "auto",
         "type": "bar",
         "x": [
          "sabonete",
          "água sanitária",
          "detergente",
          "flanela",
          "odorizador",
          "amaciante",
          "sabão em pó",
          "rodo"
         ],
         "xaxis": "x",
         "y": [
          205,
          199,
          197,
          183,
          173,
          169,
          168,
          164
         ],
         "yaxis": "y"
        },
        {
         "alignmentgroup": "True",
         "hovertemplate": "Seção=Padaria<br>Nome=%{x}<br>Quantidade vendida=%{y}<extra></extra>",
         "legendgroup": "Padaria",
         "marker": {
          "color": "#00CC96",
          "pattern": {
           "shape": ""
          }
         },
         "name": "Padaria",
         "offsetgroup": "Padaria",
         "orientation": "v",
         "showlegend": true,
         "textposition": "auto",
         "type": "bar",
         "x": [
          "sonho",
          "pão francês",
          "pastel",
          "bolo",
          "sanduíche",
          "pão de forma",
          "pão de queijo",
          "torta"
         ],
         "xaxis": "x",
         "y": [
          184,
          171,
          169,
          164,
          163,
          155,
          125,
          125
         ],
         "yaxis": "y"
        }
       ],
       "layout": {
        "barmode": "stack",
        "legend": {
         "title": {
          "text": "Seção"
         },
         "tracegroupgap": 0
        },
        "margin": {
         "t": 60
        },
        "template": {
         "data": {
          "bar": [
           {
            "error_x": {
             "color": "#2a3f5f"
            },
            "error_y": {
             "color": "#2a3f5f"
            },
            "marker": {
             "line": {
              "color": "#E5ECF6",
              "width": 0.5
             },
             "pattern": {
              "fillmode": "overlay",
              "size": 10,
              "solidity": 0.2
             }
            },
            "type": "bar"
           }
          ],
          "barpolar": [
           {
            "marker": {
             "line": {
              "color": "#E5ECF6",
              "width": 0.5
             },
             "pattern": {
              "fillmode": "overlay",
              "size": 10,
              "solidity": 0.2
             }
            },
            "type": "barpolar"
           }
          ],
          "carpet": [
           {
            "aaxis": {
             "endlinecolor": "#2a3f5f",
             "gridcolor": "white",
             "linecolor": "white",
             "minorgridcolor": "white",
             "startlinecolor": "#2a3f5f"
            },
            "baxis": {
             "endlinecolor": "#2a3f5f",
             "gridcolor": "white",
             "linecolor": "white",
             "minorgridcolor": "white",
             "startlinecolor": "#2a3f5f"
            },
            "type": "carpet"
           }
          ],
          "choropleth": [
           {
            "colorbar": {
             "outlinewidth": 0,
             "ticks": ""
            },
            "type": "choropleth"
           }
          ],
          "contour": [
           {
            "colorbar": {
             "outlinewidth": 0,
             "ticks": ""
            },
            "colorscale": [
             [
              0,
              "#0d0887"
             ],
             [
              0.1111111111111111,
              "#46039f"
             ],
             [
              0.2222222222222222,
              "#7201a8"
             ],
             [
              0.3333333333333333,
              "#9c179e"
             ],
             [
              0.4444444444444444,
              "#bd3786"
             ],
             [
              0.5555555555555556,
              "#d8576b"
             ],
             [
              0.6666666666666666,
              "#ed7953"
             ],
             [
              0.7777777777777778,
              "#fb9f3a"
             ],
             [
              0.8888888888888888,
              "#fdca26"
             ],
             [
              1,
              "#f0f921"
             ]
            ],
            "type": "contour"
           }
          ],
          "contourcarpet": [
           {
            "colorbar": {
             "outlinewidth": 0,
             "ticks": ""
            },
            "type": "contourcarpet"
           }
          ],
          "heatmap": [
           {
            "colorbar": {
             "outlinewidth": 0,
             "ticks": ""
            },
            "colorscale": [
             [
              0,
              "#0d0887"
             ],
             [
              0.1111111111111111,
              "#46039f"
             ],
             [
              0.2222222222222222,
              "#7201a8"
             ],
             [
              0.3333333333333333,
              "#9c179e"
             ],
             [
              0.4444444444444444,
              "#bd3786"
             ],
             [
              0.5555555555555556,
              "#d8576b"
             ],
             [
              0.6666666666666666,
              "#ed7953"
             ],
             [
              0.7777777777777778,
              "#fb9f3a"
             ],
             [
              0.8888888888888888,
              "#fdca26"
             ],
             [
              1,
              "#f0f921"
             ]
            ],
            "type": "heatmap"
           }
          ],
          "heatmapgl": [
           {
            "colorbar": {
             "outlinewidth": 0,
             "ticks": ""
            },
            "colorscale": [
             [
              0,
              "#0d0887"
             ],
             [
              0.1111111111111111,
              "#46039f"
             ],
             [
              0.2222222222222222,
              "#7201a8"
             ],
             [
              0.3333333333333333,
              "#9c179e"
             ],
             [
              0.4444444444444444,
              "#bd3786"
             ],
             [
              0.5555555555555556,
              "#d8576b"
             ],
             [
              0.6666666666666666,
              "#ed7953"
             ],
             [
              0.7777777777777778,
              "#fb9f3a"
             ],
             [
              0.8888888888888888,
              "#fdca26"
             ],
             [
              1,
              "#f0f921"
             ]
            ],
            "type": "heatmapgl"
           }
          ],
          "histogram": [
           {
            "marker": {
             "pattern": {
              "fillmode": "overlay",
              "size": 10,
              "solidity": 0.2
             }
            },
            "type": "histogram"
           }
          ],
          "histogram2d": [
           {
            "colorbar": {
             "outlinewidth": 0,
             "ticks": ""
            },
            "colorscale": [
             [
              0,
              "#0d0887"
             ],
             [
              0.1111111111111111,
              "#46039f"
             ],
             [
              0.2222222222222222,
              "#7201a8"
             ],
             [
              0.3333333333333333,
              "#9c179e"
             ],
             [
              0.4444444444444444,
              "#bd3786"
             ],
             [
              0.5555555555555556,
              "#d8576b"
             ],
             [
              0.6666666666666666,
              "#ed7953"
             ],
             [
              0.7777777777777778,
              "#fb9f3a"
             ],
             [
              0.8888888888888888,
              "#fdca26"
             ],
             [
              1,
              "#f0f921"
             ]
            ],
            "type": "histogram2d"
           }
          ],
          "histogram2dcontour": [
           {
            "colorbar": {
             "outlinewidth": 0,
             "ticks": ""
            },
            "colorscale": [
             [
              0,
              "#0d0887"
             ],
             [
              0.1111111111111111,
              "#46039f"
             ],
             [
              0.2222222222222222,
              "#7201a8"
             ],
             [
              0.3333333333333333,
              "#9c179e"
             ],
             [
              0.4444444444444444,
              "#bd3786"
             ],
             [
              0.5555555555555556,
              "#d8576b"
             ],
             [
              0.6666666666666666,
              "#ed7953"
             ],
             [
              0.7777777777777778,
              "#fb9f3a"
             ],
             [
              0.8888888888888888,
              "#fdca26"
             ],
             [
              1,
              "#f0f921"
             ]
            ],
            "type": "histogram2dcontour"
           }
          ],
          "mesh3d": [
           {
            "colorbar": {
             "outlinewidth": 0,
             "ticks": ""
            },
            "type": "mesh3d"
           }
          ],
          "parcoords": [
           {
            "line": {
             "colorbar": {
              "outlinewidth": 0,
              "ticks": ""
             }
            },
            "type": "parcoords"
           }
          ],
          "pie": [
           {
            "automargin": true,
            "type": "pie"
           }
          ],
          "scatter": [
           {
            "marker": {
             "colorbar": {
              "outlinewidth": 0,
              "ticks": ""
             }
            },
            "type": "scatter"
           }
          ],
          "scatter3d": [
           {
            "line": {
             "colorbar": {
              "outlinewidth": 0,
              "ticks": ""
             }
            },
            "marker": {
             "colorbar": {
              "outlinewidth": 0,
              "ticks": ""
             }
            },
            "type": "scatter3d"
           }
          ],
          "scattercarpet": [
           {
            "marker": {
             "colorbar": {
              "outlinewidth": 0,
              "ticks": ""
             }
            },
            "type": "scattercarpet"
           }
          ],
          "scattergeo": [
           {
            "marker": {
             "colorbar": {
              "outlinewidth": 0,
              "ticks": ""
             }
            },
            "type": "scattergeo"
           }
          ],
          "scattergl": [
           {
            "marker": {
             "colorbar": {
              "outlinewidth": 0,
              "ticks": ""
             }
            },
            "type": "scattergl"
           }
          ],
          "scattermapbox": [
           {
            "marker": {
             "colorbar": {
              "outlinewidth": 0,
              "ticks": ""
             }
            },
            "type": "scattermapbox"
           }
          ],
          "scatterpolar": [
           {
            "marker": {
             "colorbar": {
              "outlinewidth": 0,
              "ticks": ""
             }
            },
            "type": "scatterpolar"
           }
          ],
          "scatterpolargl": [
           {
            "marker": {
             "colorbar": {
              "outlinewidth": 0,
              "ticks": ""
             }
            },
            "type": "scatterpolargl"
           }
          ],
          "scatterternary": [
           {
            "marker": {
             "colorbar": {
              "outlinewidth": 0,
              "ticks": ""
             }
            },
            "type": "scatterternary"
           }
          ],
          "surface": [
           {
            "colorbar": {
             "outlinewidth": 0,
             "ticks": ""
            },
            "colorscale": [
             [
              0,
              "#0d0887"
             ],
             [
              0.1111111111111111,
              "#46039f"
             ],
             [
              0.2222222222222222,
              "#7201a8"
             ],
             [
              0.3333333333333333,
              "#9c179e"
             ],
             [
              0.4444444444444444,
              "#bd3786"
             ],
             [
              0.5555555555555556,
              "#d8576b"
             ],
             [
              0.6666666666666666,
              "#ed7953"
             ],
             [
              0.7777777777777778,
              "#fb9f3a"
             ],
             [
              0.8888888888888888,
              "#fdca26"
             ],
             [
              1,
              "#f0f921"
             ]
            ],
            "type": "surface"
           }
          ],
          "table": [
           {
            "cells": {
             "fill": {
              "color": "#EBF0F8"
             },
             "line": {
              "color": "white"
             }
            },
            "header": {
             "fill": {
              "color": "#C8D4E3"
             },
             "line": {
              "color": "white"
             }
            },
            "type": "table"
           }
          ]
         },
         "layout": {
          "annotationdefaults": {
           "arrowcolor": "#2a3f5f",
           "arrowhead": 0,
           "arrowwidth": 1
          },
          "autotypenumbers": "strict",
          "coloraxis": {
           "colorbar": {
            "outlinewidth": 0,
            "ticks": ""
           }
          },
          "colorscale": {
           "diverging": [
            [
             0,
             "#8e0152"
            ],
            [
             0.1,
             "#c51b7d"
            ],
            [
             0.2,
             "#de77ae"
            ],
            [
             0.3,
             "#f1b6da"
            ],
            [
             0.4,
             "#fde0ef"
            ],
            [
             0.5,
             "#f7f7f7"
            ],
            [
             0.6,
             "#e6f5d0"
            ],
            [
             0.7,
             "#b8e186"
            ],
            [
             0.8,
             "#7fbc41"
            ],
            [
             0.9,
             "#4d9221"
            ],
            [
             1,
             "#276419"
            ]
           ],
           "sequential": [
            [
             0,
             "#0d0887"
            ],
            [
             0.1111111111111111,
             "#46039f"
            ],
            [
             0.2222222222222222,
             "#7201a8"
            ],
            [
             0.3333333333333333,
             "#9c179e"
            ],
            [
             0.4444444444444444,
             "#bd3786"
            ],
            [
             0.5555555555555556,
             "#d8576b"
            ],
            [
             0.6666666666666666,
             "#ed7953"
            ],
            [
             0.7777777777777778,
             "#fb9f3a"
            ],
            [
             0.8888888888888888,
             "#fdca26"
            ],
            [
             1,
             "#f0f921"
            ]
           ],
           "sequentialminus": [
            [
             0,
             "#0d0887"
            ],
            [
             0.1111111111111111,
             "#46039f"
            ],
            [
             0.2222222222222222,
             "#7201a8"
            ],
            [
             0.3333333333333333,
             "#9c179e"
            ],
            [
             0.4444444444444444,
             "#bd3786"
            ],
            [
             0.5555555555555556,
             "#d8576b"
            ],
            [
             0.6666666666666666,
             "#ed7953"
            ],
            [
             0.7777777777777778,
             "#fb9f3a"
            ],
            [
             0.8888888888888888,
             "#fdca26"
            ],
            [
             1,
             "#f0f921"
            ]
           ]
          },
          "colorway": [
           "#636efa",
           "#EF553B",
           "#00cc96",
           "#ab63fa",
           "#FFA15A",
           "#19d3f3",
           "#FF6692",
           "#B6E880",
           "#FF97FF",
           "#FECB52"
          ],
          "font": {
           "color": "#2a3f5f"
          },
          "geo": {
           "bgcolor": "white",
           "lakecolor": "white",
           "landcolor": "#E5ECF6",
           "showlakes": true,
           "showland": true,
           "subunitcolor": "white"
          },
          "hoverlabel": {
           "align": "left"
          },
          "hovermode": "closest",
          "mapbox": {
           "style": "light"
          },
          "paper_bgcolor": "white",
          "plot_bgcolor": "#E5ECF6",
          "polar": {
           "angularaxis": {
            "gridcolor": "white",
            "linecolor": "white",
            "ticks": ""
           },
           "bgcolor": "#E5ECF6",
           "radialaxis": {
            "gridcolor": "white",
            "linecolor": "white",
            "ticks": ""
           }
          },
          "scene": {
           "xaxis": {
            "backgroundcolor": "#E5ECF6",
            "gridcolor": "white",
            "gridwidth": 2,
            "linecolor": "white",
            "showbackground": true,
            "ticks": "",
            "zerolinecolor": "white"
           },
           "yaxis": {
            "backgroundcolor": "#E5ECF6",
            "gridcolor": "white",
            "gridwidth": 2,
            "linecolor": "white",
            "showbackground": true,
            "ticks": "",
            "zerolinecolor": "white"
           },
           "zaxis": {
            "backgroundcolor": "#E5ECF6",
            "gridcolor": "white",
            "gridwidth": 2,
            "linecolor": "white",
            "showbackground": true,
            "ticks": "",
            "zerolinecolor": "white"
           }
          },
          "shapedefaults": {
           "line": {
            "color": "#2a3f5f"
           }
          },
          "ternary": {
           "aaxis": {
            "gridcolor": "white",
            "linecolor": "white",
            "ticks": ""
           },
           "baxis": {
            "gridcolor": "white",
            "linecolor": "white",
            "ticks": ""
           },
           "bgcolor": "#E5ECF6",
           "caxis": {
            "gridcolor": "white",
            "linecolor": "white",
            "ticks": ""
           }
          },
          "title": {
           "x": 0.05
          },
          "xaxis": {
           "automargin": true,
           "gridcolor": "white",
           "linecolor": "white",
           "ticks": "",
           "title": {
            "standoff": 15
           },
           "zerolinecolor": "white",
           "zerolinewidth": 2
          },
          "yaxis": {
           "automargin": true,
           "gridcolor": "white",
           "linecolor": "white",
           "ticks": "",
           "title": {
            "standoff": 15
           },
           "zerolinecolor": "white",
           "zerolinewidth": 2
          }
         }
        },
        "title": {
         "text": "Venda dos produtos"
        },
        "xaxis": {
         "anchor": "y",
         "categoryorder": "total descending",
         "domain": [
          0,
          1
         ],
         "tickangle": 45,
         "title": {
          "text": "Produto"
         }
        },
        "yaxis": {
         "anchor": "x",
         "domain": [
          0,
          1
         ],
         "title": {
          "text": "Quantidade vendida"
         }
        }
       }
      },
      "text/html": [
       "<div>                            <div id=\"5b977928-9c69-4781-aef7-0c85a580781b\" class=\"plotly-graph-div\" style=\"height:525px; width:100%;\"></div>            <script type=\"text/javascript\">                require([\"plotly\"], function(Plotly) {                    window.PLOTLYENV=window.PLOTLYENV || {};                                    if (document.getElementById(\"5b977928-9c69-4781-aef7-0c85a580781b\")) {                    Plotly.newPlot(                        \"5b977928-9c69-4781-aef7-0c85a580781b\",                        [{\"alignmentgroup\":\"True\",\"hovertemplate\":\"Se\\u00e7\\u00e3o=A\\u00e7ougue<br>Nome=%{x}<br>Quantidade vendida=%{y}<extra></extra>\",\"legendgroup\":\"A\\u00e7ougue\",\"marker\":{\"color\":\"#EF553B\",\"pattern\":{\"shape\":\"\"}},\"name\":\"A\\u00e7ougue\",\"offsetgroup\":\"A\\u00e7ougue\",\"orientation\":\"v\",\"showlegend\":true,\"textposition\":\"auto\",\"type\":\"bar\",\"x\":[\"bisteca su\\u00edna\",\"picanha\",\"maminha\",\"costela\",\"paleta su\\u00edna\",\"alcatra\",\"peito de frango\",\"carr\\u00e9 de cordeiro\"],\"xaxis\":\"x\",\"y\":[219,197,191,175,173,160,155,141],\"yaxis\":\"y\"},{\"alignmentgroup\":\"True\",\"hovertemplate\":\"Se\\u00e7\\u00e3o=Alimentos em Geral<br>Nome=%{x}<br>Quantidade vendida=%{y}<extra></extra>\",\"legendgroup\":\"Alimentos em Geral\",\"marker\":{\"color\":\"#636EFA\",\"pattern\":{\"shape\":\"\"}},\"name\":\"Alimentos em Geral\",\"offsetgroup\":\"Alimentos em Geral\",\"orientation\":\"v\",\"showlegend\":true,\"textposition\":\"auto\",\"type\":\"bar\",\"x\":[\"berinjela\",\"feij\\u00e3o\",\"abobrinha\",\"uva\",\"batata\",\"morango\",\"arroz\",\"macarr\\u00e3o\",\"alface\",\"melancia\",\"banana\",\"couve-flor\"],\"xaxis\":\"x\",\"y\":[206,193,191,189,189,189,183,176,175,171,169,121],\"yaxis\":\"y\"},{\"alignmentgroup\":\"True\",\"hovertemplate\":\"Se\\u00e7\\u00e3o=Produtos de Limpeza<br>Nome=%{x}<br>Quantidade vendida=%{y}<extra></extra>\",\"legendgroup\":\"Produtos de Limpeza\",\"marker\":{\"color\":\"#AB63FA\",\"pattern\":{\"shape\":\"\"}},\"name\":\"Produtos de Limpeza\",\"offsetgroup\":\"Produtos de Limpeza\",\"orientation\":\"v\",\"showlegend\":true,\"textposition\":\"auto\",\"type\":\"bar\",\"x\":[\"sabonete\",\"\\u00e1gua sanit\\u00e1ria\",\"detergente\",\"flanela\",\"odorizador\",\"amaciante\",\"sab\\u00e3o em p\\u00f3\",\"rodo\"],\"xaxis\":\"x\",\"y\":[205,199,197,183,173,169,168,164],\"yaxis\":\"y\"},{\"alignmentgroup\":\"True\",\"hovertemplate\":\"Se\\u00e7\\u00e3o=Padaria<br>Nome=%{x}<br>Quantidade vendida=%{y}<extra></extra>\",\"legendgroup\":\"Padaria\",\"marker\":{\"color\":\"#00CC96\",\"pattern\":{\"shape\":\"\"}},\"name\":\"Padaria\",\"offsetgroup\":\"Padaria\",\"orientation\":\"v\",\"showlegend\":true,\"textposition\":\"auto\",\"type\":\"bar\",\"x\":[\"sonho\",\"p\\u00e3o franc\\u00eas\",\"pastel\",\"bolo\",\"sandu\\u00edche\",\"p\\u00e3o de forma\",\"p\\u00e3o de queijo\",\"torta\"],\"xaxis\":\"x\",\"y\":[184,171,169,164,163,155,125,125],\"yaxis\":\"y\"}],                        {\"barmode\":\"stack\",\"legend\":{\"title\":{\"text\":\"Se\\u00e7\\u00e3o\"},\"tracegroupgap\":0},\"margin\":{\"t\":60},\"template\":{\"data\":{\"bar\":[{\"error_x\":{\"color\":\"#2a3f5f\"},\"error_y\":{\"color\":\"#2a3f5f\"},\"marker\":{\"line\":{\"color\":\"#E5ECF6\",\"width\":0.5},\"pattern\":{\"fillmode\":\"overlay\",\"size\":10,\"solidity\":0.2}},\"type\":\"bar\"}],\"barpolar\":[{\"marker\":{\"line\":{\"color\":\"#E5ECF6\",\"width\":0.5},\"pattern\":{\"fillmode\":\"overlay\",\"size\":10,\"solidity\":0.2}},\"type\":\"barpolar\"}],\"carpet\":[{\"aaxis\":{\"endlinecolor\":\"#2a3f5f\",\"gridcolor\":\"white\",\"linecolor\":\"white\",\"minorgridcolor\":\"white\",\"startlinecolor\":\"#2a3f5f\"},\"baxis\":{\"endlinecolor\":\"#2a3f5f\",\"gridcolor\":\"white\",\"linecolor\":\"white\",\"minorgridcolor\":\"white\",\"startlinecolor\":\"#2a3f5f\"},\"type\":\"carpet\"}],\"choropleth\":[{\"colorbar\":{\"outlinewidth\":0,\"ticks\":\"\"},\"type\":\"choropleth\"}],\"contour\":[{\"colorbar\":{\"outlinewidth\":0,\"ticks\":\"\"},\"colorscale\":[[0.0,\"#0d0887\"],[0.1111111111111111,\"#46039f\"],[0.2222222222222222,\"#7201a8\"],[0.3333333333333333,\"#9c179e\"],[0.4444444444444444,\"#bd3786\"],[0.5555555555555556,\"#d8576b\"],[0.6666666666666666,\"#ed7953\"],[0.7777777777777778,\"#fb9f3a\"],[0.8888888888888888,\"#fdca26\"],[1.0,\"#f0f921\"]],\"type\":\"contour\"}],\"contourcarpet\":[{\"colorbar\":{\"outlinewidth\":0,\"ticks\":\"\"},\"type\":\"contourcarpet\"}],\"heatmap\":[{\"colorbar\":{\"outlinewidth\":0,\"ticks\":\"\"},\"colorscale\":[[0.0,\"#0d0887\"],[0.1111111111111111,\"#46039f\"],[0.2222222222222222,\"#7201a8\"],[0.3333333333333333,\"#9c179e\"],[0.4444444444444444,\"#bd3786\"],[0.5555555555555556,\"#d8576b\"],[0.6666666666666666,\"#ed7953\"],[0.7777777777777778,\"#fb9f3a\"],[0.8888888888888888,\"#fdca26\"],[1.0,\"#f0f921\"]],\"type\":\"heatmap\"}],\"heatmapgl\":[{\"colorbar\":{\"outlinewidth\":0,\"ticks\":\"\"},\"colorscale\":[[0.0,\"#0d0887\"],[0.1111111111111111,\"#46039f\"],[0.2222222222222222,\"#7201a8\"],[0.3333333333333333,\"#9c179e\"],[0.4444444444444444,\"#bd3786\"],[0.5555555555555556,\"#d8576b\"],[0.6666666666666666,\"#ed7953\"],[0.7777777777777778,\"#fb9f3a\"],[0.8888888888888888,\"#fdca26\"],[1.0,\"#f0f921\"]],\"type\":\"heatmapgl\"}],\"histogram\":[{\"marker\":{\"pattern\":{\"fillmode\":\"overlay\",\"size\":10,\"solidity\":0.2}},\"type\":\"histogram\"}],\"histogram2d\":[{\"colorbar\":{\"outlinewidth\":0,\"ticks\":\"\"},\"colorscale\":[[0.0,\"#0d0887\"],[0.1111111111111111,\"#46039f\"],[0.2222222222222222,\"#7201a8\"],[0.3333333333333333,\"#9c179e\"],[0.4444444444444444,\"#bd3786\"],[0.5555555555555556,\"#d8576b\"],[0.6666666666666666,\"#ed7953\"],[0.7777777777777778,\"#fb9f3a\"],[0.8888888888888888,\"#fdca26\"],[1.0,\"#f0f921\"]],\"type\":\"histogram2d\"}],\"histogram2dcontour\":[{\"colorbar\":{\"outlinewidth\":0,\"ticks\":\"\"},\"colorscale\":[[0.0,\"#0d0887\"],[0.1111111111111111,\"#46039f\"],[0.2222222222222222,\"#7201a8\"],[0.3333333333333333,\"#9c179e\"],[0.4444444444444444,\"#bd3786\"],[0.5555555555555556,\"#d8576b\"],[0.6666666666666666,\"#ed7953\"],[0.7777777777777778,\"#fb9f3a\"],[0.8888888888888888,\"#fdca26\"],[1.0,\"#f0f921\"]],\"type\":\"histogram2dcontour\"}],\"mesh3d\":[{\"colorbar\":{\"outlinewidth\":0,\"ticks\":\"\"},\"type\":\"mesh3d\"}],\"parcoords\":[{\"line\":{\"colorbar\":{\"outlinewidth\":0,\"ticks\":\"\"}},\"type\":\"parcoords\"}],\"pie\":[{\"automargin\":true,\"type\":\"pie\"}],\"scatter\":[{\"marker\":{\"colorbar\":{\"outlinewidth\":0,\"ticks\":\"\"}},\"type\":\"scatter\"}],\"scatter3d\":[{\"line\":{\"colorbar\":{\"outlinewidth\":0,\"ticks\":\"\"}},\"marker\":{\"colorbar\":{\"outlinewidth\":0,\"ticks\":\"\"}},\"type\":\"scatter3d\"}],\"scattercarpet\":[{\"marker\":{\"colorbar\":{\"outlinewidth\":0,\"ticks\":\"\"}},\"type\":\"scattercarpet\"}],\"scattergeo\":[{\"marker\":{\"colorbar\":{\"outlinewidth\":0,\"ticks\":\"\"}},\"type\":\"scattergeo\"}],\"scattergl\":[{\"marker\":{\"colorbar\":{\"outlinewidth\":0,\"ticks\":\"\"}},\"type\":\"scattergl\"}],\"scattermapbox\":[{\"marker\":{\"colorbar\":{\"outlinewidth\":0,\"ticks\":\"\"}},\"type\":\"scattermapbox\"}],\"scatterpolar\":[{\"marker\":{\"colorbar\":{\"outlinewidth\":0,\"ticks\":\"\"}},\"type\":\"scatterpolar\"}],\"scatterpolargl\":[{\"marker\":{\"colorbar\":{\"outlinewidth\":0,\"ticks\":\"\"}},\"type\":\"scatterpolargl\"}],\"scatterternary\":[{\"marker\":{\"colorbar\":{\"outlinewidth\":0,\"ticks\":\"\"}},\"type\":\"scatterternary\"}],\"surface\":[{\"colorbar\":{\"outlinewidth\":0,\"ticks\":\"\"},\"colorscale\":[[0.0,\"#0d0887\"],[0.1111111111111111,\"#46039f\"],[0.2222222222222222,\"#7201a8\"],[0.3333333333333333,\"#9c179e\"],[0.4444444444444444,\"#bd3786\"],[0.5555555555555556,\"#d8576b\"],[0.6666666666666666,\"#ed7953\"],[0.7777777777777778,\"#fb9f3a\"],[0.8888888888888888,\"#fdca26\"],[1.0,\"#f0f921\"]],\"type\":\"surface\"}],\"table\":[{\"cells\":{\"fill\":{\"color\":\"#EBF0F8\"},\"line\":{\"color\":\"white\"}},\"header\":{\"fill\":{\"color\":\"#C8D4E3\"},\"line\":{\"color\":\"white\"}},\"type\":\"table\"}]},\"layout\":{\"annotationdefaults\":{\"arrowcolor\":\"#2a3f5f\",\"arrowhead\":0,\"arrowwidth\":1},\"autotypenumbers\":\"strict\",\"coloraxis\":{\"colorbar\":{\"outlinewidth\":0,\"ticks\":\"\"}},\"colorscale\":{\"diverging\":[[0,\"#8e0152\"],[0.1,\"#c51b7d\"],[0.2,\"#de77ae\"],[0.3,\"#f1b6da\"],[0.4,\"#fde0ef\"],[0.5,\"#f7f7f7\"],[0.6,\"#e6f5d0\"],[0.7,\"#b8e186\"],[0.8,\"#7fbc41\"],[0.9,\"#4d9221\"],[1,\"#276419\"]],\"sequential\":[[0.0,\"#0d0887\"],[0.1111111111111111,\"#46039f\"],[0.2222222222222222,\"#7201a8\"],[0.3333333333333333,\"#9c179e\"],[0.4444444444444444,\"#bd3786\"],[0.5555555555555556,\"#d8576b\"],[0.6666666666666666,\"#ed7953\"],[0.7777777777777778,\"#fb9f3a\"],[0.8888888888888888,\"#fdca26\"],[1.0,\"#f0f921\"]],\"sequentialminus\":[[0.0,\"#0d0887\"],[0.1111111111111111,\"#46039f\"],[0.2222222222222222,\"#7201a8\"],[0.3333333333333333,\"#9c179e\"],[0.4444444444444444,\"#bd3786\"],[0.5555555555555556,\"#d8576b\"],[0.6666666666666666,\"#ed7953\"],[0.7777777777777778,\"#fb9f3a\"],[0.8888888888888888,\"#fdca26\"],[1.0,\"#f0f921\"]]},\"colorway\":[\"#636efa\",\"#EF553B\",\"#00cc96\",\"#ab63fa\",\"#FFA15A\",\"#19d3f3\",\"#FF6692\",\"#B6E880\",\"#FF97FF\",\"#FECB52\"],\"font\":{\"color\":\"#2a3f5f\"},\"geo\":{\"bgcolor\":\"white\",\"lakecolor\":\"white\",\"landcolor\":\"#E5ECF6\",\"showlakes\":true,\"showland\":true,\"subunitcolor\":\"white\"},\"hoverlabel\":{\"align\":\"left\"},\"hovermode\":\"closest\",\"mapbox\":{\"style\":\"light\"},\"paper_bgcolor\":\"white\",\"plot_bgcolor\":\"#E5ECF6\",\"polar\":{\"angularaxis\":{\"gridcolor\":\"white\",\"linecolor\":\"white\",\"ticks\":\"\"},\"bgcolor\":\"#E5ECF6\",\"radialaxis\":{\"gridcolor\":\"white\",\"linecolor\":\"white\",\"ticks\":\"\"}},\"scene\":{\"xaxis\":{\"backgroundcolor\":\"#E5ECF6\",\"gridcolor\":\"white\",\"gridwidth\":2,\"linecolor\":\"white\",\"showbackground\":true,\"ticks\":\"\",\"zerolinecolor\":\"white\"},\"yaxis\":{\"backgroundcolor\":\"#E5ECF6\",\"gridcolor\":\"white\",\"gridwidth\":2,\"linecolor\":\"white\",\"showbackground\":true,\"ticks\":\"\",\"zerolinecolor\":\"white\"},\"zaxis\":{\"backgroundcolor\":\"#E5ECF6\",\"gridcolor\":\"white\",\"gridwidth\":2,\"linecolor\":\"white\",\"showbackground\":true,\"ticks\":\"\",\"zerolinecolor\":\"white\"}},\"shapedefaults\":{\"line\":{\"color\":\"#2a3f5f\"}},\"ternary\":{\"aaxis\":{\"gridcolor\":\"white\",\"linecolor\":\"white\",\"ticks\":\"\"},\"baxis\":{\"gridcolor\":\"white\",\"linecolor\":\"white\",\"ticks\":\"\"},\"bgcolor\":\"#E5ECF6\",\"caxis\":{\"gridcolor\":\"white\",\"linecolor\":\"white\",\"ticks\":\"\"}},\"title\":{\"x\":0.05},\"xaxis\":{\"automargin\":true,\"gridcolor\":\"white\",\"linecolor\":\"white\",\"ticks\":\"\",\"title\":{\"standoff\":15},\"zerolinecolor\":\"white\",\"zerolinewidth\":2},\"yaxis\":{\"automargin\":true,\"gridcolor\":\"white\",\"linecolor\":\"white\",\"ticks\":\"\",\"title\":{\"standoff\":15},\"zerolinecolor\":\"white\",\"zerolinewidth\":2}}},\"title\":{\"text\":\"Venda dos produtos\"},\"xaxis\":{\"anchor\":\"y\",\"categoryorder\":\"total descending\",\"domain\":[0.0,1.0],\"tickangle\":45,\"title\":{\"text\":\"Produto\"}},\"yaxis\":{\"anchor\":\"x\",\"domain\":[0.0,1.0],\"title\":{\"text\":\"Quantidade vendida\"}}},                        {\"responsive\": true}                    ).then(function(){\n",
       "                            \n",
       "var gd = document.getElementById('5b977928-9c69-4781-aef7-0c85a580781b');\n",
       "var x = new MutationObserver(function (mutations, observer) {{\n",
       "        var display = window.getComputedStyle(gd).display;\n",
       "        if (!display || display === 'none') {{\n",
       "            console.log([gd, 'removed!']);\n",
       "            Plotly.purge(gd);\n",
       "            observer.disconnect();\n",
       "        }}\n",
       "}});\n",
       "\n",
       "// Listen for the removal of the full notebook cells\n",
       "var notebookContainer = gd.closest('#notebook-container');\n",
       "if (notebookContainer) {{\n",
       "    x.observe(notebookContainer, {childList: true});\n",
       "}}\n",
       "\n",
       "// Listen for the clearing of the current output cell\n",
       "var outputEl = gd.closest('.output');\n",
       "if (outputEl) {{\n",
       "    x.observe(outputEl, {childList: true});\n",
       "}}\n",
       "\n",
       "                        })                };                });            </script>        </div>"
      ]
     },
     "metadata": {},
     "output_type": "display_data"
    }
   ],
   "source": [
    "\n",
    "#FFDD79\n",
    "#plotagem do gráfico de barras sobre o total de vendas por produto usando plotly\n",
    "fig_quantidade_produto = px.bar(venda_produtos_quantidade_total,\n",
    "             x='nome', y=\"quantidade\", color=\"secao\", \n",
    "             barmode='stack', labels={\"nome\": \"Nome\", 'quantidade':\"Quantidade vendida\", \"secao\":\"Seção\"}, color_discrete_map={'Açougue': '#EF553B', \n",
    "                                                   'Padaria': '#00CC96', 'Produtos de Limpeza': '#AB63FA', 'Alimentos em Geral': '#636EFA'})\n",
    "fig_quantidade_produto.update_layout(title = 'Venda dos produtos', xaxis={'categoryorder':'total descending'})\n",
    "fig_quantidade_produto.update_xaxes(title = 'Produto')\n",
    "fig_quantidade_produto.update_yaxes(title = 'Quantidade vendida')\n",
    "fig_quantidade_produto.update_xaxes(tickangle=45)\n",
    "fig_quantidade_produto.show()"
   ]
  },
  {
   "cell_type": "code",
   "execution_count": 11,
   "id": "8a1c89c5",
   "metadata": {},
   "outputs": [
    {
     "name": "stderr",
     "output_type": "stream",
     "text": [
      "IOPub data rate exceeded.\n",
      "The notebook server will temporarily stop sending output\n",
      "to the client in order to avoid crashing it.\n",
      "To change this limit, set the config variable\n",
      "`--NotebookApp.iopub_data_rate_limit`.\n",
      "\n",
      "Current values:\n",
      "NotebookApp.iopub_data_rate_limit=1000000.0 (bytes/sec)\n",
      "NotebookApp.rate_limit_window=3.0 (secs)\n",
      "\n"
     ]
    }
   ],
   "source": [
    "from plotly.io import to_html\n",
    "#f=to_html(fig, full_html = False)\n",
    "f=fig_quantidade_produto.to_html(full_html=False)\n",
    "print(f)"
   ]
  },
  {
   "cell_type": "markdown",
   "id": "fdb739ee",
   "metadata": {},
   "source": [
    "## Relação entre preço e estoque"
   ]
  },
  {
   "cell_type": "code",
   "execution_count": 52,
   "id": "c607e931",
   "metadata": {},
   "outputs": [
    {
     "data": {
      "application/vnd.plotly.v1+json": {
       "config": {
        "plotlyServerURL": "https://plot.ly"
       },
       "data": [
        {
         "customdata": [
          [
           "morango"
          ],
          [
           "melancia"
          ],
          [
           "banana"
          ],
          [
           "uva"
          ],
          [
           "batata"
          ],
          [
           "berinjela"
          ],
          [
           "abobrinha"
          ],
          [
           "alface"
          ],
          [
           "couve-flor"
          ],
          [
           "feijão"
          ],
          [
           "arroz"
          ],
          [
           "macarrão"
          ],
          [
           "alcatra"
          ],
          [
           "maminha"
          ],
          [
           "bisteca suína"
          ],
          [
           "carré de cordeiro"
          ],
          [
           "costela"
          ],
          [
           "paleta suína"
          ],
          [
           "picanha"
          ],
          [
           "peito de frango"
          ],
          [
           "bolo"
          ],
          [
           "pão de forma"
          ],
          [
           "pão de queijo"
          ],
          [
           "pão francês"
          ],
          [
           "pastel"
          ],
          [
           "sanduíche"
          ],
          [
           "sonho"
          ],
          [
           "torta"
          ],
          [
           "amaciante"
          ],
          [
           "água sanitária"
          ],
          [
           "detergente"
          ],
          [
           "flanela"
          ],
          [
           "odorizador"
          ],
          [
           "rodo"
          ],
          [
           "sabão em pó"
          ],
          [
           "sabonete"
          ]
         ],
         "hovertemplate": "Quantidade vendida=%{x}<br>preco_unidade=%{y}<br>Nome do produto=%{customdata[0]}<extra></extra>",
         "legendgroup": "",
         "marker": {
          "color": "#27430D",
          "symbol": "circle"
         },
         "mode": "markers",
         "name": "",
         "orientation": "v",
         "showlegend": false,
         "type": "scatter",
         "x": [
          189,
          171,
          169,
          189,
          189,
          206,
          191,
          175,
          121,
          193,
          183,
          176,
          160,
          191,
          219,
          141,
          175,
          173,
          197,
          155,
          164,
          155,
          125,
          171,
          169,
          163,
          184,
          125,
          169,
          199,
          197,
          183,
          173,
          164,
          168,
          205
         ],
         "xaxis": "x",
         "y": [
          7.99,
          15.99,
          5.99,
          7.47,
          3.99,
          11.99,
          3.49,
          0.98,
          5.48,
          8.45,
          4.31,
          2.48,
          31.99,
          42.99,
          22.79,
          172,
          20.99,
          23.99,
          70.89,
          16.49,
          35,
          6.99,
          23.99,
          10.99,
          4.99,
          12.99,
          3.49,
          45,
          6.7,
          11.98,
          2.7,
          1.99,
          23.99,
          5.99,
          9.69,
          1.29
         ],
         "yaxis": "y"
        }
       ],
       "layout": {
        "legend": {
         "tracegroupgap": 0
        },
        "margin": {
         "t": 60
        },
        "template": {
         "data": {
          "bar": [
           {
            "error_x": {
             "color": "#2a3f5f"
            },
            "error_y": {
             "color": "#2a3f5f"
            },
            "marker": {
             "line": {
              "color": "#E5ECF6",
              "width": 0.5
             },
             "pattern": {
              "fillmode": "overlay",
              "size": 10,
              "solidity": 0.2
             }
            },
            "type": "bar"
           }
          ],
          "barpolar": [
           {
            "marker": {
             "line": {
              "color": "#E5ECF6",
              "width": 0.5
             },
             "pattern": {
              "fillmode": "overlay",
              "size": 10,
              "solidity": 0.2
             }
            },
            "type": "barpolar"
           }
          ],
          "carpet": [
           {
            "aaxis": {
             "endlinecolor": "#2a3f5f",
             "gridcolor": "white",
             "linecolor": "white",
             "minorgridcolor": "white",
             "startlinecolor": "#2a3f5f"
            },
            "baxis": {
             "endlinecolor": "#2a3f5f",
             "gridcolor": "white",
             "linecolor": "white",
             "minorgridcolor": "white",
             "startlinecolor": "#2a3f5f"
            },
            "type": "carpet"
           }
          ],
          "choropleth": [
           {
            "colorbar": {
             "outlinewidth": 0,
             "ticks": ""
            },
            "type": "choropleth"
           }
          ],
          "contour": [
           {
            "colorbar": {
             "outlinewidth": 0,
             "ticks": ""
            },
            "colorscale": [
             [
              0,
              "#0d0887"
             ],
             [
              0.1111111111111111,
              "#46039f"
             ],
             [
              0.2222222222222222,
              "#7201a8"
             ],
             [
              0.3333333333333333,
              "#9c179e"
             ],
             [
              0.4444444444444444,
              "#bd3786"
             ],
             [
              0.5555555555555556,
              "#d8576b"
             ],
             [
              0.6666666666666666,
              "#ed7953"
             ],
             [
              0.7777777777777778,
              "#fb9f3a"
             ],
             [
              0.8888888888888888,
              "#fdca26"
             ],
             [
              1,
              "#f0f921"
             ]
            ],
            "type": "contour"
           }
          ],
          "contourcarpet": [
           {
            "colorbar": {
             "outlinewidth": 0,
             "ticks": ""
            },
            "type": "contourcarpet"
           }
          ],
          "heatmap": [
           {
            "colorbar": {
             "outlinewidth": 0,
             "ticks": ""
            },
            "colorscale": [
             [
              0,
              "#0d0887"
             ],
             [
              0.1111111111111111,
              "#46039f"
             ],
             [
              0.2222222222222222,
              "#7201a8"
             ],
             [
              0.3333333333333333,
              "#9c179e"
             ],
             [
              0.4444444444444444,
              "#bd3786"
             ],
             [
              0.5555555555555556,
              "#d8576b"
             ],
             [
              0.6666666666666666,
              "#ed7953"
             ],
             [
              0.7777777777777778,
              "#fb9f3a"
             ],
             [
              0.8888888888888888,
              "#fdca26"
             ],
             [
              1,
              "#f0f921"
             ]
            ],
            "type": "heatmap"
           }
          ],
          "heatmapgl": [
           {
            "colorbar": {
             "outlinewidth": 0,
             "ticks": ""
            },
            "colorscale": [
             [
              0,
              "#0d0887"
             ],
             [
              0.1111111111111111,
              "#46039f"
             ],
             [
              0.2222222222222222,
              "#7201a8"
             ],
             [
              0.3333333333333333,
              "#9c179e"
             ],
             [
              0.4444444444444444,
              "#bd3786"
             ],
             [
              0.5555555555555556,
              "#d8576b"
             ],
             [
              0.6666666666666666,
              "#ed7953"
             ],
             [
              0.7777777777777778,
              "#fb9f3a"
             ],
             [
              0.8888888888888888,
              "#fdca26"
             ],
             [
              1,
              "#f0f921"
             ]
            ],
            "type": "heatmapgl"
           }
          ],
          "histogram": [
           {
            "marker": {
             "pattern": {
              "fillmode": "overlay",
              "size": 10,
              "solidity": 0.2
             }
            },
            "type": "histogram"
           }
          ],
          "histogram2d": [
           {
            "colorbar": {
             "outlinewidth": 0,
             "ticks": ""
            },
            "colorscale": [
             [
              0,
              "#0d0887"
             ],
             [
              0.1111111111111111,
              "#46039f"
             ],
             [
              0.2222222222222222,
              "#7201a8"
             ],
             [
              0.3333333333333333,
              "#9c179e"
             ],
             [
              0.4444444444444444,
              "#bd3786"
             ],
             [
              0.5555555555555556,
              "#d8576b"
             ],
             [
              0.6666666666666666,
              "#ed7953"
             ],
             [
              0.7777777777777778,
              "#fb9f3a"
             ],
             [
              0.8888888888888888,
              "#fdca26"
             ],
             [
              1,
              "#f0f921"
             ]
            ],
            "type": "histogram2d"
           }
          ],
          "histogram2dcontour": [
           {
            "colorbar": {
             "outlinewidth": 0,
             "ticks": ""
            },
            "colorscale": [
             [
              0,
              "#0d0887"
             ],
             [
              0.1111111111111111,
              "#46039f"
             ],
             [
              0.2222222222222222,
              "#7201a8"
             ],
             [
              0.3333333333333333,
              "#9c179e"
             ],
             [
              0.4444444444444444,
              "#bd3786"
             ],
             [
              0.5555555555555556,
              "#d8576b"
             ],
             [
              0.6666666666666666,
              "#ed7953"
             ],
             [
              0.7777777777777778,
              "#fb9f3a"
             ],
             [
              0.8888888888888888,
              "#fdca26"
             ],
             [
              1,
              "#f0f921"
             ]
            ],
            "type": "histogram2dcontour"
           }
          ],
          "mesh3d": [
           {
            "colorbar": {
             "outlinewidth": 0,
             "ticks": ""
            },
            "type": "mesh3d"
           }
          ],
          "parcoords": [
           {
            "line": {
             "colorbar": {
              "outlinewidth": 0,
              "ticks": ""
             }
            },
            "type": "parcoords"
           }
          ],
          "pie": [
           {
            "automargin": true,
            "type": "pie"
           }
          ],
          "scatter": [
           {
            "marker": {
             "colorbar": {
              "outlinewidth": 0,
              "ticks": ""
             }
            },
            "type": "scatter"
           }
          ],
          "scatter3d": [
           {
            "line": {
             "colorbar": {
              "outlinewidth": 0,
              "ticks": ""
             }
            },
            "marker": {
             "colorbar": {
              "outlinewidth": 0,
              "ticks": ""
             }
            },
            "type": "scatter3d"
           }
          ],
          "scattercarpet": [
           {
            "marker": {
             "colorbar": {
              "outlinewidth": 0,
              "ticks": ""
             }
            },
            "type": "scattercarpet"
           }
          ],
          "scattergeo": [
           {
            "marker": {
             "colorbar": {
              "outlinewidth": 0,
              "ticks": ""
             }
            },
            "type": "scattergeo"
           }
          ],
          "scattergl": [
           {
            "marker": {
             "colorbar": {
              "outlinewidth": 0,
              "ticks": ""
             }
            },
            "type": "scattergl"
           }
          ],
          "scattermapbox": [
           {
            "marker": {
             "colorbar": {
              "outlinewidth": 0,
              "ticks": ""
             }
            },
            "type": "scattermapbox"
           }
          ],
          "scatterpolar": [
           {
            "marker": {
             "colorbar": {
              "outlinewidth": 0,
              "ticks": ""
             }
            },
            "type": "scatterpolar"
           }
          ],
          "scatterpolargl": [
           {
            "marker": {
             "colorbar": {
              "outlinewidth": 0,
              "ticks": ""
             }
            },
            "type": "scatterpolargl"
           }
          ],
          "scatterternary": [
           {
            "marker": {
             "colorbar": {
              "outlinewidth": 0,
              "ticks": ""
             }
            },
            "type": "scatterternary"
           }
          ],
          "surface": [
           {
            "colorbar": {
             "outlinewidth": 0,
             "ticks": ""
            },
            "colorscale": [
             [
              0,
              "#0d0887"
             ],
             [
              0.1111111111111111,
              "#46039f"
             ],
             [
              0.2222222222222222,
              "#7201a8"
             ],
             [
              0.3333333333333333,
              "#9c179e"
             ],
             [
              0.4444444444444444,
              "#bd3786"
             ],
             [
              0.5555555555555556,
              "#d8576b"
             ],
             [
              0.6666666666666666,
              "#ed7953"
             ],
             [
              0.7777777777777778,
              "#fb9f3a"
             ],
             [
              0.8888888888888888,
              "#fdca26"
             ],
             [
              1,
              "#f0f921"
             ]
            ],
            "type": "surface"
           }
          ],
          "table": [
           {
            "cells": {
             "fill": {
              "color": "#EBF0F8"
             },
             "line": {
              "color": "white"
             }
            },
            "header": {
             "fill": {
              "color": "#C8D4E3"
             },
             "line": {
              "color": "white"
             }
            },
            "type": "table"
           }
          ]
         },
         "layout": {
          "annotationdefaults": {
           "arrowcolor": "#2a3f5f",
           "arrowhead": 0,
           "arrowwidth": 1
          },
          "autotypenumbers": "strict",
          "coloraxis": {
           "colorbar": {
            "outlinewidth": 0,
            "ticks": ""
           }
          },
          "colorscale": {
           "diverging": [
            [
             0,
             "#8e0152"
            ],
            [
             0.1,
             "#c51b7d"
            ],
            [
             0.2,
             "#de77ae"
            ],
            [
             0.3,
             "#f1b6da"
            ],
            [
             0.4,
             "#fde0ef"
            ],
            [
             0.5,
             "#f7f7f7"
            ],
            [
             0.6,
             "#e6f5d0"
            ],
            [
             0.7,
             "#b8e186"
            ],
            [
             0.8,
             "#7fbc41"
            ],
            [
             0.9,
             "#4d9221"
            ],
            [
             1,
             "#276419"
            ]
           ],
           "sequential": [
            [
             0,
             "#0d0887"
            ],
            [
             0.1111111111111111,
             "#46039f"
            ],
            [
             0.2222222222222222,
             "#7201a8"
            ],
            [
             0.3333333333333333,
             "#9c179e"
            ],
            [
             0.4444444444444444,
             "#bd3786"
            ],
            [
             0.5555555555555556,
             "#d8576b"
            ],
            [
             0.6666666666666666,
             "#ed7953"
            ],
            [
             0.7777777777777778,
             "#fb9f3a"
            ],
            [
             0.8888888888888888,
             "#fdca26"
            ],
            [
             1,
             "#f0f921"
            ]
           ],
           "sequentialminus": [
            [
             0,
             "#0d0887"
            ],
            [
             0.1111111111111111,
             "#46039f"
            ],
            [
             0.2222222222222222,
             "#7201a8"
            ],
            [
             0.3333333333333333,
             "#9c179e"
            ],
            [
             0.4444444444444444,
             "#bd3786"
            ],
            [
             0.5555555555555556,
             "#d8576b"
            ],
            [
             0.6666666666666666,
             "#ed7953"
            ],
            [
             0.7777777777777778,
             "#fb9f3a"
            ],
            [
             0.8888888888888888,
             "#fdca26"
            ],
            [
             1,
             "#f0f921"
            ]
           ]
          },
          "colorway": [
           "#636efa",
           "#EF553B",
           "#00cc96",
           "#ab63fa",
           "#FFA15A",
           "#19d3f3",
           "#FF6692",
           "#B6E880",
           "#FF97FF",
           "#FECB52"
          ],
          "font": {
           "color": "#2a3f5f"
          },
          "geo": {
           "bgcolor": "white",
           "lakecolor": "white",
           "landcolor": "#E5ECF6",
           "showlakes": true,
           "showland": true,
           "subunitcolor": "white"
          },
          "hoverlabel": {
           "align": "left"
          },
          "hovermode": "closest",
          "mapbox": {
           "style": "light"
          },
          "paper_bgcolor": "white",
          "plot_bgcolor": "#E5ECF6",
          "polar": {
           "angularaxis": {
            "gridcolor": "white",
            "linecolor": "white",
            "ticks": ""
           },
           "bgcolor": "#E5ECF6",
           "radialaxis": {
            "gridcolor": "white",
            "linecolor": "white",
            "ticks": ""
           }
          },
          "scene": {
           "xaxis": {
            "backgroundcolor": "#E5ECF6",
            "gridcolor": "white",
            "gridwidth": 2,
            "linecolor": "white",
            "showbackground": true,
            "ticks": "",
            "zerolinecolor": "white"
           },
           "yaxis": {
            "backgroundcolor": "#E5ECF6",
            "gridcolor": "white",
            "gridwidth": 2,
            "linecolor": "white",
            "showbackground": true,
            "ticks": "",
            "zerolinecolor": "white"
           },
           "zaxis": {
            "backgroundcolor": "#E5ECF6",
            "gridcolor": "white",
            "gridwidth": 2,
            "linecolor": "white",
            "showbackground": true,
            "ticks": "",
            "zerolinecolor": "white"
           }
          },
          "shapedefaults": {
           "line": {
            "color": "#2a3f5f"
           }
          },
          "ternary": {
           "aaxis": {
            "gridcolor": "white",
            "linecolor": "white",
            "ticks": ""
           },
           "baxis": {
            "gridcolor": "white",
            "linecolor": "white",
            "ticks": ""
           },
           "bgcolor": "#E5ECF6",
           "caxis": {
            "gridcolor": "white",
            "linecolor": "white",
            "ticks": ""
           }
          },
          "title": {
           "x": 0.05
          },
          "xaxis": {
           "automargin": true,
           "gridcolor": "white",
           "linecolor": "white",
           "ticks": "",
           "title": {
            "standoff": 15
           },
           "zerolinecolor": "white",
           "zerolinewidth": 2
          },
          "yaxis": {
           "automargin": true,
           "gridcolor": "white",
           "linecolor": "white",
           "ticks": "",
           "title": {
            "standoff": 15
           },
           "zerolinecolor": "white",
           "zerolinewidth": 2
          }
         }
        },
        "title": {
         "text": "Relacão entre renda total e quantidade vendida"
        },
        "xaxis": {
         "anchor": "y",
         "domain": [
          0,
          1
         ],
         "title": {
          "text": "Quantidade vendida"
         }
        },
        "yaxis": {
         "anchor": "x",
         "domain": [
          0,
          1
         ],
         "title": {
          "text": "Renda total"
         }
        }
       }
      },
      "text/html": [
       "<div>                            <div id=\"78d92c3e-1ec9-4d87-a9df-fa7a3fde3d1b\" class=\"plotly-graph-div\" style=\"height:525px; width:100%;\"></div>            <script type=\"text/javascript\">                require([\"plotly\"], function(Plotly) {                    window.PLOTLYENV=window.PLOTLYENV || {};                                    if (document.getElementById(\"78d92c3e-1ec9-4d87-a9df-fa7a3fde3d1b\")) {                    Plotly.newPlot(                        \"78d92c3e-1ec9-4d87-a9df-fa7a3fde3d1b\",                        [{\"customdata\":[[\"morango\"],[\"melancia\"],[\"banana\"],[\"uva\"],[\"batata\"],[\"berinjela\"],[\"abobrinha\"],[\"alface\"],[\"couve-flor\"],[\"feij\\u00e3o\"],[\"arroz\"],[\"macarr\\u00e3o\"],[\"alcatra\"],[\"maminha\"],[\"bisteca su\\u00edna\"],[\"carr\\u00e9 de cordeiro\"],[\"costela\"],[\"paleta su\\u00edna\"],[\"picanha\"],[\"peito de frango\"],[\"bolo\"],[\"p\\u00e3o de forma\"],[\"p\\u00e3o de queijo\"],[\"p\\u00e3o franc\\u00eas\"],[\"pastel\"],[\"sandu\\u00edche\"],[\"sonho\"],[\"torta\"],[\"amaciante\"],[\"\\u00e1gua sanit\\u00e1ria\"],[\"detergente\"],[\"flanela\"],[\"odorizador\"],[\"rodo\"],[\"sab\\u00e3o em p\\u00f3\"],[\"sabonete\"]],\"hovertemplate\":\"Quantidade vendida=%{x}<br>preco_unidade=%{y}<br>Nome do produto=%{customdata[0]}<extra></extra>\",\"legendgroup\":\"\",\"marker\":{\"color\":\"#27430D\",\"symbol\":\"circle\"},\"mode\":\"markers\",\"name\":\"\",\"orientation\":\"v\",\"showlegend\":false,\"type\":\"scatter\",\"x\":[189,171,169,189,189,206,191,175,121,193,183,176,160,191,219,141,175,173,197,155,164,155,125,171,169,163,184,125,169,199,197,183,173,164,168,205],\"xaxis\":\"x\",\"y\":[7.99,15.99,5.99,7.47,3.99,11.99,3.49,0.98,5.48,8.45,4.31,2.48,31.99,42.99,22.79,172.0,20.99,23.99,70.89,16.49,35.0,6.99,23.99,10.99,4.99,12.99,3.49,45.0,6.7,11.98,2.7,1.99,23.99,5.99,9.69,1.29],\"yaxis\":\"y\"}],                        {\"legend\":{\"tracegroupgap\":0},\"margin\":{\"t\":60},\"template\":{\"data\":{\"bar\":[{\"error_x\":{\"color\":\"#2a3f5f\"},\"error_y\":{\"color\":\"#2a3f5f\"},\"marker\":{\"line\":{\"color\":\"#E5ECF6\",\"width\":0.5},\"pattern\":{\"fillmode\":\"overlay\",\"size\":10,\"solidity\":0.2}},\"type\":\"bar\"}],\"barpolar\":[{\"marker\":{\"line\":{\"color\":\"#E5ECF6\",\"width\":0.5},\"pattern\":{\"fillmode\":\"overlay\",\"size\":10,\"solidity\":0.2}},\"type\":\"barpolar\"}],\"carpet\":[{\"aaxis\":{\"endlinecolor\":\"#2a3f5f\",\"gridcolor\":\"white\",\"linecolor\":\"white\",\"minorgridcolor\":\"white\",\"startlinecolor\":\"#2a3f5f\"},\"baxis\":{\"endlinecolor\":\"#2a3f5f\",\"gridcolor\":\"white\",\"linecolor\":\"white\",\"minorgridcolor\":\"white\",\"startlinecolor\":\"#2a3f5f\"},\"type\":\"carpet\"}],\"choropleth\":[{\"colorbar\":{\"outlinewidth\":0,\"ticks\":\"\"},\"type\":\"choropleth\"}],\"contour\":[{\"colorbar\":{\"outlinewidth\":0,\"ticks\":\"\"},\"colorscale\":[[0.0,\"#0d0887\"],[0.1111111111111111,\"#46039f\"],[0.2222222222222222,\"#7201a8\"],[0.3333333333333333,\"#9c179e\"],[0.4444444444444444,\"#bd3786\"],[0.5555555555555556,\"#d8576b\"],[0.6666666666666666,\"#ed7953\"],[0.7777777777777778,\"#fb9f3a\"],[0.8888888888888888,\"#fdca26\"],[1.0,\"#f0f921\"]],\"type\":\"contour\"}],\"contourcarpet\":[{\"colorbar\":{\"outlinewidth\":0,\"ticks\":\"\"},\"type\":\"contourcarpet\"}],\"heatmap\":[{\"colorbar\":{\"outlinewidth\":0,\"ticks\":\"\"},\"colorscale\":[[0.0,\"#0d0887\"],[0.1111111111111111,\"#46039f\"],[0.2222222222222222,\"#7201a8\"],[0.3333333333333333,\"#9c179e\"],[0.4444444444444444,\"#bd3786\"],[0.5555555555555556,\"#d8576b\"],[0.6666666666666666,\"#ed7953\"],[0.7777777777777778,\"#fb9f3a\"],[0.8888888888888888,\"#fdca26\"],[1.0,\"#f0f921\"]],\"type\":\"heatmap\"}],\"heatmapgl\":[{\"colorbar\":{\"outlinewidth\":0,\"ticks\":\"\"},\"colorscale\":[[0.0,\"#0d0887\"],[0.1111111111111111,\"#46039f\"],[0.2222222222222222,\"#7201a8\"],[0.3333333333333333,\"#9c179e\"],[0.4444444444444444,\"#bd3786\"],[0.5555555555555556,\"#d8576b\"],[0.6666666666666666,\"#ed7953\"],[0.7777777777777778,\"#fb9f3a\"],[0.8888888888888888,\"#fdca26\"],[1.0,\"#f0f921\"]],\"type\":\"heatmapgl\"}],\"histogram\":[{\"marker\":{\"pattern\":{\"fillmode\":\"overlay\",\"size\":10,\"solidity\":0.2}},\"type\":\"histogram\"}],\"histogram2d\":[{\"colorbar\":{\"outlinewidth\":0,\"ticks\":\"\"},\"colorscale\":[[0.0,\"#0d0887\"],[0.1111111111111111,\"#46039f\"],[0.2222222222222222,\"#7201a8\"],[0.3333333333333333,\"#9c179e\"],[0.4444444444444444,\"#bd3786\"],[0.5555555555555556,\"#d8576b\"],[0.6666666666666666,\"#ed7953\"],[0.7777777777777778,\"#fb9f3a\"],[0.8888888888888888,\"#fdca26\"],[1.0,\"#f0f921\"]],\"type\":\"histogram2d\"}],\"histogram2dcontour\":[{\"colorbar\":{\"outlinewidth\":0,\"ticks\":\"\"},\"colorscale\":[[0.0,\"#0d0887\"],[0.1111111111111111,\"#46039f\"],[0.2222222222222222,\"#7201a8\"],[0.3333333333333333,\"#9c179e\"],[0.4444444444444444,\"#bd3786\"],[0.5555555555555556,\"#d8576b\"],[0.6666666666666666,\"#ed7953\"],[0.7777777777777778,\"#fb9f3a\"],[0.8888888888888888,\"#fdca26\"],[1.0,\"#f0f921\"]],\"type\":\"histogram2dcontour\"}],\"mesh3d\":[{\"colorbar\":{\"outlinewidth\":0,\"ticks\":\"\"},\"type\":\"mesh3d\"}],\"parcoords\":[{\"line\":{\"colorbar\":{\"outlinewidth\":0,\"ticks\":\"\"}},\"type\":\"parcoords\"}],\"pie\":[{\"automargin\":true,\"type\":\"pie\"}],\"scatter\":[{\"marker\":{\"colorbar\":{\"outlinewidth\":0,\"ticks\":\"\"}},\"type\":\"scatter\"}],\"scatter3d\":[{\"line\":{\"colorbar\":{\"outlinewidth\":0,\"ticks\":\"\"}},\"marker\":{\"colorbar\":{\"outlinewidth\":0,\"ticks\":\"\"}},\"type\":\"scatter3d\"}],\"scattercarpet\":[{\"marker\":{\"colorbar\":{\"outlinewidth\":0,\"ticks\":\"\"}},\"type\":\"scattercarpet\"}],\"scattergeo\":[{\"marker\":{\"colorbar\":{\"outlinewidth\":0,\"ticks\":\"\"}},\"type\":\"scattergeo\"}],\"scattergl\":[{\"marker\":{\"colorbar\":{\"outlinewidth\":0,\"ticks\":\"\"}},\"type\":\"scattergl\"}],\"scattermapbox\":[{\"marker\":{\"colorbar\":{\"outlinewidth\":0,\"ticks\":\"\"}},\"type\":\"scattermapbox\"}],\"scatterpolar\":[{\"marker\":{\"colorbar\":{\"outlinewidth\":0,\"ticks\":\"\"}},\"type\":\"scatterpolar\"}],\"scatterpolargl\":[{\"marker\":{\"colorbar\":{\"outlinewidth\":0,\"ticks\":\"\"}},\"type\":\"scatterpolargl\"}],\"scatterternary\":[{\"marker\":{\"colorbar\":{\"outlinewidth\":0,\"ticks\":\"\"}},\"type\":\"scatterternary\"}],\"surface\":[{\"colorbar\":{\"outlinewidth\":0,\"ticks\":\"\"},\"colorscale\":[[0.0,\"#0d0887\"],[0.1111111111111111,\"#46039f\"],[0.2222222222222222,\"#7201a8\"],[0.3333333333333333,\"#9c179e\"],[0.4444444444444444,\"#bd3786\"],[0.5555555555555556,\"#d8576b\"],[0.6666666666666666,\"#ed7953\"],[0.7777777777777778,\"#fb9f3a\"],[0.8888888888888888,\"#fdca26\"],[1.0,\"#f0f921\"]],\"type\":\"surface\"}],\"table\":[{\"cells\":{\"fill\":{\"color\":\"#EBF0F8\"},\"line\":{\"color\":\"white\"}},\"header\":{\"fill\":{\"color\":\"#C8D4E3\"},\"line\":{\"color\":\"white\"}},\"type\":\"table\"}]},\"layout\":{\"annotationdefaults\":{\"arrowcolor\":\"#2a3f5f\",\"arrowhead\":0,\"arrowwidth\":1},\"autotypenumbers\":\"strict\",\"coloraxis\":{\"colorbar\":{\"outlinewidth\":0,\"ticks\":\"\"}},\"colorscale\":{\"diverging\":[[0,\"#8e0152\"],[0.1,\"#c51b7d\"],[0.2,\"#de77ae\"],[0.3,\"#f1b6da\"],[0.4,\"#fde0ef\"],[0.5,\"#f7f7f7\"],[0.6,\"#e6f5d0\"],[0.7,\"#b8e186\"],[0.8,\"#7fbc41\"],[0.9,\"#4d9221\"],[1,\"#276419\"]],\"sequential\":[[0.0,\"#0d0887\"],[0.1111111111111111,\"#46039f\"],[0.2222222222222222,\"#7201a8\"],[0.3333333333333333,\"#9c179e\"],[0.4444444444444444,\"#bd3786\"],[0.5555555555555556,\"#d8576b\"],[0.6666666666666666,\"#ed7953\"],[0.7777777777777778,\"#fb9f3a\"],[0.8888888888888888,\"#fdca26\"],[1.0,\"#f0f921\"]],\"sequentialminus\":[[0.0,\"#0d0887\"],[0.1111111111111111,\"#46039f\"],[0.2222222222222222,\"#7201a8\"],[0.3333333333333333,\"#9c179e\"],[0.4444444444444444,\"#bd3786\"],[0.5555555555555556,\"#d8576b\"],[0.6666666666666666,\"#ed7953\"],[0.7777777777777778,\"#fb9f3a\"],[0.8888888888888888,\"#fdca26\"],[1.0,\"#f0f921\"]]},\"colorway\":[\"#636efa\",\"#EF553B\",\"#00cc96\",\"#ab63fa\",\"#FFA15A\",\"#19d3f3\",\"#FF6692\",\"#B6E880\",\"#FF97FF\",\"#FECB52\"],\"font\":{\"color\":\"#2a3f5f\"},\"geo\":{\"bgcolor\":\"white\",\"lakecolor\":\"white\",\"landcolor\":\"#E5ECF6\",\"showlakes\":true,\"showland\":true,\"subunitcolor\":\"white\"},\"hoverlabel\":{\"align\":\"left\"},\"hovermode\":\"closest\",\"mapbox\":{\"style\":\"light\"},\"paper_bgcolor\":\"white\",\"plot_bgcolor\":\"#E5ECF6\",\"polar\":{\"angularaxis\":{\"gridcolor\":\"white\",\"linecolor\":\"white\",\"ticks\":\"\"},\"bgcolor\":\"#E5ECF6\",\"radialaxis\":{\"gridcolor\":\"white\",\"linecolor\":\"white\",\"ticks\":\"\"}},\"scene\":{\"xaxis\":{\"backgroundcolor\":\"#E5ECF6\",\"gridcolor\":\"white\",\"gridwidth\":2,\"linecolor\":\"white\",\"showbackground\":true,\"ticks\":\"\",\"zerolinecolor\":\"white\"},\"yaxis\":{\"backgroundcolor\":\"#E5ECF6\",\"gridcolor\":\"white\",\"gridwidth\":2,\"linecolor\":\"white\",\"showbackground\":true,\"ticks\":\"\",\"zerolinecolor\":\"white\"},\"zaxis\":{\"backgroundcolor\":\"#E5ECF6\",\"gridcolor\":\"white\",\"gridwidth\":2,\"linecolor\":\"white\",\"showbackground\":true,\"ticks\":\"\",\"zerolinecolor\":\"white\"}},\"shapedefaults\":{\"line\":{\"color\":\"#2a3f5f\"}},\"ternary\":{\"aaxis\":{\"gridcolor\":\"white\",\"linecolor\":\"white\",\"ticks\":\"\"},\"baxis\":{\"gridcolor\":\"white\",\"linecolor\":\"white\",\"ticks\":\"\"},\"bgcolor\":\"#E5ECF6\",\"caxis\":{\"gridcolor\":\"white\",\"linecolor\":\"white\",\"ticks\":\"\"}},\"title\":{\"x\":0.05},\"xaxis\":{\"automargin\":true,\"gridcolor\":\"white\",\"linecolor\":\"white\",\"ticks\":\"\",\"title\":{\"standoff\":15},\"zerolinecolor\":\"white\",\"zerolinewidth\":2},\"yaxis\":{\"automargin\":true,\"gridcolor\":\"white\",\"linecolor\":\"white\",\"ticks\":\"\",\"title\":{\"standoff\":15},\"zerolinecolor\":\"white\",\"zerolinewidth\":2}}},\"title\":{\"text\":\"Relac\\u00e3o entre renda total e quantidade vendida\"},\"xaxis\":{\"anchor\":\"y\",\"domain\":[0.0,1.0],\"title\":{\"text\":\"Quantidade vendida\"}},\"yaxis\":{\"anchor\":\"x\",\"domain\":[0.0,1.0],\"title\":{\"text\":\"Renda total\"}}},                        {\"responsive\": true}                    ).then(function(){\n",
       "                            \n",
       "var gd = document.getElementById('78d92c3e-1ec9-4d87-a9df-fa7a3fde3d1b');\n",
       "var x = new MutationObserver(function (mutations, observer) {{\n",
       "        var display = window.getComputedStyle(gd).display;\n",
       "        if (!display || display === 'none') {{\n",
       "            console.log([gd, 'removed!']);\n",
       "            Plotly.purge(gd);\n",
       "            observer.disconnect();\n",
       "        }}\n",
       "}});\n",
       "\n",
       "// Listen for the removal of the full notebook cells\n",
       "var notebookContainer = gd.closest('#notebook-container');\n",
       "if (notebookContainer) {{\n",
       "    x.observe(notebookContainer, {childList: true});\n",
       "}}\n",
       "\n",
       "// Listen for the clearing of the current output cell\n",
       "var outputEl = gd.closest('.output');\n",
       "if (outputEl) {{\n",
       "    x.observe(outputEl, {childList: true});\n",
       "}}\n",
       "\n",
       "                        })                };                });            </script>        </div>"
      ]
     },
     "metadata": {},
     "output_type": "display_data"
    }
   ],
   "source": [
    "#pltagem de um gráfico de disperção relacionado preço e quantidade\n",
    "fig_preco_quantidade=px.scatter(venda_produtos_quantidade_total, x = \"quantidade\", y = \"preco_unidade\",  hover_data=['nome'], labels={\"preco\": \"Renda total\", \"quantidade\": \"Quantidade vendida\", \"nome\":\"Nome do produto\" })\n",
    "fig_preco_quantidade.update_traces(marker = {'color': '#27430D'})\n",
    "fig_preco_quantidade.update_layout(title = 'Relacão entre renda total e quantidade vendida')\n",
    "fig_preco_quantidade.update_xaxes(title = 'Quantidade vendida')\n",
    "fig_preco_quantidade.update_yaxes(title = 'Renda total')\n",
    "fig_preco_quantidade.show()"
   ]
  },
  {
   "cell_type": "code",
   "execution_count": 48,
   "id": "84141ffc",
   "metadata": {},
   "outputs": [
    {
     "data": {
      "text/html": [
       "<div>\n",
       "<style scoped>\n",
       "    .dataframe tbody tr th:only-of-type {\n",
       "        vertical-align: middle;\n",
       "    }\n",
       "\n",
       "    .dataframe tbody tr th {\n",
       "        vertical-align: top;\n",
       "    }\n",
       "\n",
       "    .dataframe thead th {\n",
       "        text-align: right;\n",
       "    }\n",
       "</style>\n",
       "<table border=\"1\" class=\"dataframe\">\n",
       "  <thead>\n",
       "    <tr style=\"text-align: right;\">\n",
       "      <th></th>\n",
       "      <th>nome</th>\n",
       "      <th>secao</th>\n",
       "      <th>id_vendas</th>\n",
       "      <th>id_produtos</th>\n",
       "      <th>quantidade</th>\n",
       "      <th>custo</th>\n",
       "      <th>preco</th>\n",
       "      <th>estoque</th>\n",
       "      <th>id_clientes</th>\n",
       "      <th>total_preco</th>\n",
       "      <th>lucro</th>\n",
       "      <th>idade</th>\n",
       "      <th>dia_sem</th>\n",
       "    </tr>\n",
       "  </thead>\n",
       "  <tbody>\n",
       "    <tr>\n",
       "      <th>0</th>\n",
       "      <td>bisteca suína</td>\n",
       "      <td>Açougue</td>\n",
       "      <td>9123</td>\n",
       "      <td>1162</td>\n",
       "      <td>219</td>\n",
       "      <td>1305.59</td>\n",
       "      <td>1891.57</td>\n",
       "      <td>415</td>\n",
       "      <td>8882</td>\n",
       "      <td>4991.01</td>\n",
       "      <td>1546.14</td>\n",
       "      <td>4104</td>\n",
       "      <td>217</td>\n",
       "    </tr>\n",
       "    <tr>\n",
       "      <th>1</th>\n",
       "      <td>berinjela</td>\n",
       "      <td>Alimentos em Geral</td>\n",
       "      <td>9165</td>\n",
       "      <td>370</td>\n",
       "      <td>206</td>\n",
       "      <td>635.66</td>\n",
       "      <td>887.26</td>\n",
       "      <td>888</td>\n",
       "      <td>8207</td>\n",
       "      <td>2469.94</td>\n",
       "      <td>700.40</td>\n",
       "      <td>3415</td>\n",
       "      <td>198</td>\n",
       "    </tr>\n",
       "    <tr>\n",
       "      <th>2</th>\n",
       "      <td>sabonete</td>\n",
       "      <td>Produtos de Limpeza</td>\n",
       "      <td>10197</td>\n",
       "      <td>2590</td>\n",
       "      <td>205</td>\n",
       "      <td>48.10</td>\n",
       "      <td>95.46</td>\n",
       "      <td>4292</td>\n",
       "      <td>8082</td>\n",
       "      <td>264.45</td>\n",
       "      <td>131.20</td>\n",
       "      <td>3186</td>\n",
       "      <td>234</td>\n",
       "    </tr>\n",
       "    <tr>\n",
       "      <th>3</th>\n",
       "      <td>água sanitária</td>\n",
       "      <td>Produtos de Limpeza</td>\n",
       "      <td>11070</td>\n",
       "      <td>2407</td>\n",
       "      <td>199</td>\n",
       "      <td>660.68</td>\n",
       "      <td>994.34</td>\n",
       "      <td>664</td>\n",
       "      <td>9214</td>\n",
       "      <td>2384.02</td>\n",
       "      <td>799.98</td>\n",
       "      <td>3551</td>\n",
       "      <td>218</td>\n",
       "    </tr>\n",
       "    <tr>\n",
       "      <th>4</th>\n",
       "      <td>picanha</td>\n",
       "      <td>Açougue</td>\n",
       "      <td>10446</td>\n",
       "      <td>1422</td>\n",
       "      <td>197</td>\n",
       "      <td>3424.65</td>\n",
       "      <td>5600.31</td>\n",
       "      <td>474</td>\n",
       "      <td>8352</td>\n",
       "      <td>13965.33</td>\n",
       "      <td>5425.38</td>\n",
       "      <td>3629</td>\n",
       "      <td>217</td>\n",
       "    </tr>\n",
       "    <tr>\n",
       "      <th>5</th>\n",
       "      <td>detergente</td>\n",
       "      <td>Produtos de Limpeza</td>\n",
       "      <td>10999</td>\n",
       "      <td>2340</td>\n",
       "      <td>197</td>\n",
       "      <td>101.40</td>\n",
       "      <td>210.60</td>\n",
       "      <td>3120</td>\n",
       "      <td>8757</td>\n",
       "      <td>531.90</td>\n",
       "      <td>275.80</td>\n",
       "      <td>3549</td>\n",
       "      <td>245</td>\n",
       "    </tr>\n",
       "    <tr>\n",
       "      <th>6</th>\n",
       "      <td>feijão</td>\n",
       "      <td>Alimentos em Geral</td>\n",
       "      <td>10189</td>\n",
       "      <td>738</td>\n",
       "      <td>193</td>\n",
       "      <td>532.18</td>\n",
       "      <td>692.90</td>\n",
       "      <td>3526</td>\n",
       "      <td>8768</td>\n",
       "      <td>1630.85</td>\n",
       "      <td>378.28</td>\n",
       "      <td>3730</td>\n",
       "      <td>174</td>\n",
       "    </tr>\n",
       "    <tr>\n",
       "      <th>7</th>\n",
       "      <td>maminha</td>\n",
       "      <td>Açougue</td>\n",
       "      <td>9362</td>\n",
       "      <td>975</td>\n",
       "      <td>191</td>\n",
       "      <td>2511.75</td>\n",
       "      <td>3224.25</td>\n",
       "      <td>675</td>\n",
       "      <td>8589</td>\n",
       "      <td>8211.09</td>\n",
       "      <td>1814.50</td>\n",
       "      <td>3435</td>\n",
       "      <td>221</td>\n",
       "    </tr>\n",
       "    <tr>\n",
       "      <th>8</th>\n",
       "      <td>abobrinha</td>\n",
       "      <td>Alimentos em Geral</td>\n",
       "      <td>10345</td>\n",
       "      <td>450</td>\n",
       "      <td>191</td>\n",
       "      <td>201.75</td>\n",
       "      <td>261.75</td>\n",
       "      <td>1425</td>\n",
       "      <td>7840</td>\n",
       "      <td>666.59</td>\n",
       "      <td>152.80</td>\n",
       "      <td>3531</td>\n",
       "      <td>225</td>\n",
       "    </tr>\n",
       "    <tr>\n",
       "      <th>9</th>\n",
       "      <td>uva</td>\n",
       "      <td>Alimentos em Geral</td>\n",
       "      <td>9196</td>\n",
       "      <td>213</td>\n",
       "      <td>189</td>\n",
       "      <td>297.49</td>\n",
       "      <td>530.37</td>\n",
       "      <td>2556</td>\n",
       "      <td>6563</td>\n",
       "      <td>1411.83</td>\n",
       "      <td>619.92</td>\n",
       "      <td>3108</td>\n",
       "      <td>195</td>\n",
       "    </tr>\n",
       "    <tr>\n",
       "      <th>10</th>\n",
       "      <td>batata</td>\n",
       "      <td>Alimentos em Geral</td>\n",
       "      <td>10146</td>\n",
       "      <td>300</td>\n",
       "      <td>189</td>\n",
       "      <td>179.25</td>\n",
       "      <td>299.25</td>\n",
       "      <td>3525</td>\n",
       "      <td>8074</td>\n",
       "      <td>754.11</td>\n",
       "      <td>302.40</td>\n",
       "      <td>3565</td>\n",
       "      <td>227</td>\n",
       "    </tr>\n",
       "    <tr>\n",
       "      <th>11</th>\n",
       "      <td>morango</td>\n",
       "      <td>Alimentos em Geral</td>\n",
       "      <td>8400</td>\n",
       "      <td>0</td>\n",
       "      <td>189</td>\n",
       "      <td>296.70</td>\n",
       "      <td>551.31</td>\n",
       "      <td>3450</td>\n",
       "      <td>7470</td>\n",
       "      <td>1510.11</td>\n",
       "      <td>697.41</td>\n",
       "      <td>3252</td>\n",
       "      <td>195</td>\n",
       "    </tr>\n",
       "    <tr>\n",
       "      <th>12</th>\n",
       "      <td>sonho</td>\n",
       "      <td>Padaria</td>\n",
       "      <td>7988</td>\n",
       "      <td>1950</td>\n",
       "      <td>184</td>\n",
       "      <td>134.25</td>\n",
       "      <td>261.75</td>\n",
       "      <td>1500</td>\n",
       "      <td>7716</td>\n",
       "      <td>642.16</td>\n",
       "      <td>312.80</td>\n",
       "      <td>3415</td>\n",
       "      <td>168</td>\n",
       "    </tr>\n",
       "    <tr>\n",
       "      <th>13</th>\n",
       "      <td>flanela</td>\n",
       "      <td>Produtos de Limpeza</td>\n",
       "      <td>10281</td>\n",
       "      <td>2294</td>\n",
       "      <td>183</td>\n",
       "      <td>43.66</td>\n",
       "      <td>147.26</td>\n",
       "      <td>2368</td>\n",
       "      <td>7921</td>\n",
       "      <td>364.17</td>\n",
       "      <td>256.20</td>\n",
       "      <td>3488</td>\n",
       "      <td>207</td>\n",
       "    </tr>\n",
       "    <tr>\n",
       "      <th>14</th>\n",
       "      <td>arroz</td>\n",
       "      <td>Alimentos em Geral</td>\n",
       "      <td>8571</td>\n",
       "      <td>680</td>\n",
       "      <td>183</td>\n",
       "      <td>159.80</td>\n",
       "      <td>293.08</td>\n",
       "      <td>5440</td>\n",
       "      <td>6874</td>\n",
       "      <td>788.73</td>\n",
       "      <td>358.68</td>\n",
       "      <td>3112</td>\n",
       "      <td>203</td>\n",
       "    </tr>\n",
       "    <tr>\n",
       "      <th>15</th>\n",
       "      <td>macarrão</td>\n",
       "      <td>Alimentos em Geral</td>\n",
       "      <td>8832</td>\n",
       "      <td>781</td>\n",
       "      <td>176</td>\n",
       "      <td>119.99</td>\n",
       "      <td>176.08</td>\n",
       "      <td>2698</td>\n",
       "      <td>7788</td>\n",
       "      <td>436.48</td>\n",
       "      <td>139.04</td>\n",
       "      <td>2950</td>\n",
       "      <td>208</td>\n",
       "    </tr>\n",
       "    <tr>\n",
       "      <th>16</th>\n",
       "      <td>costela</td>\n",
       "      <td>Açougue</td>\n",
       "      <td>6938</td>\n",
       "      <td>1072</td>\n",
       "      <td>175</td>\n",
       "      <td>1098.13</td>\n",
       "      <td>1406.33</td>\n",
       "      <td>670</td>\n",
       "      <td>7029</td>\n",
       "      <td>3673.25</td>\n",
       "      <td>805.00</td>\n",
       "      <td>3146</td>\n",
       "      <td>205</td>\n",
       "    </tr>\n",
       "    <tr>\n",
       "      <th>17</th>\n",
       "      <td>alface</td>\n",
       "      <td>Alimentos em Geral</td>\n",
       "      <td>8448</td>\n",
       "      <td>455</td>\n",
       "      <td>175</td>\n",
       "      <td>29.25</td>\n",
       "      <td>63.70</td>\n",
       "      <td>1625</td>\n",
       "      <td>7666</td>\n",
       "      <td>171.50</td>\n",
       "      <td>92.75</td>\n",
       "      <td>2794</td>\n",
       "      <td>173</td>\n",
       "    </tr>\n",
       "    <tr>\n",
       "      <th>18</th>\n",
       "      <td>odorizador</td>\n",
       "      <td>Produtos de Limpeza</td>\n",
       "      <td>9882</td>\n",
       "      <td>2240</td>\n",
       "      <td>173</td>\n",
       "      <td>1006.60</td>\n",
       "      <td>1679.30</td>\n",
       "      <td>420</td>\n",
       "      <td>7082</td>\n",
       "      <td>4150.27</td>\n",
       "      <td>1662.53</td>\n",
       "      <td>3226</td>\n",
       "      <td>204</td>\n",
       "    </tr>\n",
       "    <tr>\n",
       "      <th>19</th>\n",
       "      <td>paleta suína</td>\n",
       "      <td>Açougue</td>\n",
       "      <td>9469</td>\n",
       "      <td>1241</td>\n",
       "      <td>173</td>\n",
       "      <td>1247.57</td>\n",
       "      <td>1751.27</td>\n",
       "      <td>657</td>\n",
       "      <td>7561</td>\n",
       "      <td>4150.27</td>\n",
       "      <td>1193.70</td>\n",
       "      <td>3474</td>\n",
       "      <td>213</td>\n",
       "    </tr>\n",
       "    <tr>\n",
       "      <th>20</th>\n",
       "      <td>melancia</td>\n",
       "      <td>Alimentos em Geral</td>\n",
       "      <td>10053</td>\n",
       "      <td>72</td>\n",
       "      <td>171</td>\n",
       "      <td>848.88</td>\n",
       "      <td>1151.28</td>\n",
       "      <td>1440</td>\n",
       "      <td>7710</td>\n",
       "      <td>2734.29</td>\n",
       "      <td>718.20</td>\n",
       "      <td>3606</td>\n",
       "      <td>199</td>\n",
       "    </tr>\n",
       "    <tr>\n",
       "      <th>21</th>\n",
       "      <td>pão francês</td>\n",
       "      <td>Padaria</td>\n",
       "      <td>9389</td>\n",
       "      <td>1610</td>\n",
       "      <td>171</td>\n",
       "      <td>307.30</td>\n",
       "      <td>769.30</td>\n",
       "      <td>210</td>\n",
       "      <td>7728</td>\n",
       "      <td>1879.29</td>\n",
       "      <td>1128.60</td>\n",
       "      <td>3233</td>\n",
       "      <td>209</td>\n",
       "    </tr>\n",
       "    <tr>\n",
       "      <th>22</th>\n",
       "      <td>amaciante</td>\n",
       "      <td>Produtos de Limpeza</td>\n",
       "      <td>8661</td>\n",
       "      <td>1848</td>\n",
       "      <td>169</td>\n",
       "      <td>342.54</td>\n",
       "      <td>442.20</td>\n",
       "      <td>792</td>\n",
       "      <td>7172</td>\n",
       "      <td>1132.30</td>\n",
       "      <td>255.19</td>\n",
       "      <td>3138</td>\n",
       "      <td>202</td>\n",
       "    </tr>\n",
       "    <tr>\n",
       "      <th>23</th>\n",
       "      <td>pastel</td>\n",
       "      <td>Padaria</td>\n",
       "      <td>8732</td>\n",
       "      <td>1704</td>\n",
       "      <td>169</td>\n",
       "      <td>226.49</td>\n",
       "      <td>354.29</td>\n",
       "      <td>639</td>\n",
       "      <td>7511</td>\n",
       "      <td>843.31</td>\n",
       "      <td>304.20</td>\n",
       "      <td>3477</td>\n",
       "      <td>225</td>\n",
       "    </tr>\n",
       "    <tr>\n",
       "      <th>24</th>\n",
       "      <td>banana</td>\n",
       "      <td>Alimentos em Geral</td>\n",
       "      <td>9978</td>\n",
       "      <td>136</td>\n",
       "      <td>169</td>\n",
       "      <td>136.00</td>\n",
       "      <td>407.32</td>\n",
       "      <td>2720</td>\n",
       "      <td>7510</td>\n",
       "      <td>1012.31</td>\n",
       "      <td>674.31</td>\n",
       "      <td>3275</td>\n",
       "      <td>205</td>\n",
       "    </tr>\n",
       "    <tr>\n",
       "      <th>25</th>\n",
       "      <td>sabão em pó</td>\n",
       "      <td>Produtos de Limpeza</td>\n",
       "      <td>7703</td>\n",
       "      <td>2278</td>\n",
       "      <td>168</td>\n",
       "      <td>412.05</td>\n",
       "      <td>649.23</td>\n",
       "      <td>871</td>\n",
       "      <td>6627</td>\n",
       "      <td>1627.92</td>\n",
       "      <td>594.72</td>\n",
       "      <td>2940</td>\n",
       "      <td>183</td>\n",
       "    </tr>\n",
       "    <tr>\n",
       "      <th>26</th>\n",
       "      <td>rodo</td>\n",
       "      <td>Produtos de Limpeza</td>\n",
       "      <td>7168</td>\n",
       "      <td>2145</td>\n",
       "      <td>164</td>\n",
       "      <td>178.10</td>\n",
       "      <td>389.35</td>\n",
       "      <td>650</td>\n",
       "      <td>7515</td>\n",
       "      <td>982.36</td>\n",
       "      <td>533.00</td>\n",
       "      <td>2832</td>\n",
       "      <td>202</td>\n",
       "    </tr>\n",
       "    <tr>\n",
       "      <th>27</th>\n",
       "      <td>bolo</td>\n",
       "      <td>Padaria</td>\n",
       "      <td>8079</td>\n",
       "      <td>1280</td>\n",
       "      <td>164</td>\n",
       "      <td>1144.96</td>\n",
       "      <td>2240.00</td>\n",
       "      <td>448</td>\n",
       "      <td>8103</td>\n",
       "      <td>5740.00</td>\n",
       "      <td>2806.04</td>\n",
       "      <td>3169</td>\n",
       "      <td>190</td>\n",
       "    </tr>\n",
       "    <tr>\n",
       "      <th>28</th>\n",
       "      <td>sanduíche</td>\n",
       "      <td>Padaria</td>\n",
       "      <td>9923</td>\n",
       "      <td>1675</td>\n",
       "      <td>163</td>\n",
       "      <td>535.33</td>\n",
       "      <td>870.33</td>\n",
       "      <td>1005</td>\n",
       "      <td>7175</td>\n",
       "      <td>2117.37</td>\n",
       "      <td>815.00</td>\n",
       "      <td>3328</td>\n",
       "      <td>217</td>\n",
       "    </tr>\n",
       "    <tr>\n",
       "      <th>29</th>\n",
       "      <td>alcatra</td>\n",
       "      <td>Açougue</td>\n",
       "      <td>7406</td>\n",
       "      <td>780</td>\n",
       "      <td>160</td>\n",
       "      <td>1507.35</td>\n",
       "      <td>2079.35</td>\n",
       "      <td>455</td>\n",
       "      <td>6446</td>\n",
       "      <td>5118.40</td>\n",
       "      <td>1408.00</td>\n",
       "      <td>2987</td>\n",
       "      <td>187</td>\n",
       "    </tr>\n",
       "    <tr>\n",
       "      <th>30</th>\n",
       "      <td>peito de frango</td>\n",
       "      <td>Açougue</td>\n",
       "      <td>6836</td>\n",
       "      <td>1197</td>\n",
       "      <td>155</td>\n",
       "      <td>704.97</td>\n",
       "      <td>1038.87</td>\n",
       "      <td>630</td>\n",
       "      <td>6042</td>\n",
       "      <td>2555.95</td>\n",
       "      <td>821.50</td>\n",
       "      <td>2956</td>\n",
       "      <td>195</td>\n",
       "    </tr>\n",
       "    <tr>\n",
       "      <th>31</th>\n",
       "      <td>pão de forma</td>\n",
       "      <td>Padaria</td>\n",
       "      <td>8157</td>\n",
       "      <td>1365</td>\n",
       "      <td>155</td>\n",
       "      <td>242.45</td>\n",
       "      <td>454.35</td>\n",
       "      <td>975</td>\n",
       "      <td>7482</td>\n",
       "      <td>1083.45</td>\n",
       "      <td>505.30</td>\n",
       "      <td>3334</td>\n",
       "      <td>162</td>\n",
       "    </tr>\n",
       "    <tr>\n",
       "      <th>32</th>\n",
       "      <td>carré de cordeiro</td>\n",
       "      <td>Açougue</td>\n",
       "      <td>7082</td>\n",
       "      <td>840</td>\n",
       "      <td>141</td>\n",
       "      <td>8287.44</td>\n",
       "      <td>9632.00</td>\n",
       "      <td>280</td>\n",
       "      <td>5785</td>\n",
       "      <td>24252.00</td>\n",
       "      <td>3385.41</td>\n",
       "      <td>2537</td>\n",
       "      <td>140</td>\n",
       "    </tr>\n",
       "    <tr>\n",
       "      <th>33</th>\n",
       "      <td>pão de queijo</td>\n",
       "      <td>Padaria</td>\n",
       "      <td>7134</td>\n",
       "      <td>1276</td>\n",
       "      <td>125</td>\n",
       "      <td>988.32</td>\n",
       "      <td>1391.42</td>\n",
       "      <td>58</td>\n",
       "      <td>6752</td>\n",
       "      <td>2998.75</td>\n",
       "      <td>868.75</td>\n",
       "      <td>2597</td>\n",
       "      <td>168</td>\n",
       "    </tr>\n",
       "    <tr>\n",
       "      <th>34</th>\n",
       "      <td>torta</td>\n",
       "      <td>Padaria</td>\n",
       "      <td>7118</td>\n",
       "      <td>1431</td>\n",
       "      <td>125</td>\n",
       "      <td>1428.35</td>\n",
       "      <td>2385.00</td>\n",
       "      <td>371</td>\n",
       "      <td>4984</td>\n",
       "      <td>5625.00</td>\n",
       "      <td>2256.25</td>\n",
       "      <td>2285</td>\n",
       "      <td>156</td>\n",
       "    </tr>\n",
       "    <tr>\n",
       "      <th>35</th>\n",
       "      <td>couve-flor</td>\n",
       "      <td>Alimentos em Geral</td>\n",
       "      <td>7211</td>\n",
       "      <td>392</td>\n",
       "      <td>121</td>\n",
       "      <td>156.31</td>\n",
       "      <td>268.52</td>\n",
       "      <td>980</td>\n",
       "      <td>5631</td>\n",
       "      <td>663.08</td>\n",
       "      <td>277.09</td>\n",
       "      <td>2352</td>\n",
       "      <td>136</td>\n",
       "    </tr>\n",
       "  </tbody>\n",
       "</table>\n",
       "</div>"
      ],
      "text/plain": [
       "                 nome                secao  id_vendas  id_produtos  \\\n",
       "0       bisteca suína              Açougue       9123         1162   \n",
       "1           berinjela   Alimentos em Geral       9165          370   \n",
       "2            sabonete  Produtos de Limpeza      10197         2590   \n",
       "3      água sanitária  Produtos de Limpeza      11070         2407   \n",
       "4             picanha              Açougue      10446         1422   \n",
       "5          detergente  Produtos de Limpeza      10999         2340   \n",
       "6              feijão   Alimentos em Geral      10189          738   \n",
       "7             maminha              Açougue       9362          975   \n",
       "8           abobrinha   Alimentos em Geral      10345          450   \n",
       "9                 uva   Alimentos em Geral       9196          213   \n",
       "10             batata   Alimentos em Geral      10146          300   \n",
       "11            morango   Alimentos em Geral       8400            0   \n",
       "12              sonho              Padaria       7988         1950   \n",
       "13            flanela  Produtos de Limpeza      10281         2294   \n",
       "14              arroz   Alimentos em Geral       8571          680   \n",
       "15           macarrão   Alimentos em Geral       8832          781   \n",
       "16            costela              Açougue       6938         1072   \n",
       "17             alface   Alimentos em Geral       8448          455   \n",
       "18         odorizador  Produtos de Limpeza       9882         2240   \n",
       "19       paleta suína              Açougue       9469         1241   \n",
       "20           melancia   Alimentos em Geral      10053           72   \n",
       "21        pão francês              Padaria       9389         1610   \n",
       "22          amaciante  Produtos de Limpeza       8661         1848   \n",
       "23             pastel              Padaria       8732         1704   \n",
       "24             banana   Alimentos em Geral       9978          136   \n",
       "25        sabão em pó  Produtos de Limpeza       7703         2278   \n",
       "26               rodo  Produtos de Limpeza       7168         2145   \n",
       "27               bolo              Padaria       8079         1280   \n",
       "28          sanduíche              Padaria       9923         1675   \n",
       "29            alcatra              Açougue       7406          780   \n",
       "30    peito de frango              Açougue       6836         1197   \n",
       "31       pão de forma              Padaria       8157         1365   \n",
       "32  carré de cordeiro              Açougue       7082          840   \n",
       "33      pão de queijo              Padaria       7134         1276   \n",
       "34              torta              Padaria       7118         1431   \n",
       "35         couve-flor   Alimentos em Geral       7211          392   \n",
       "\n",
       "    quantidade    custo    preco  estoque  id_clientes  total_preco    lucro  \\\n",
       "0          219  1305.59  1891.57      415         8882      4991.01  1546.14   \n",
       "1          206   635.66   887.26      888         8207      2469.94   700.40   \n",
       "2          205    48.10    95.46     4292         8082       264.45   131.20   \n",
       "3          199   660.68   994.34      664         9214      2384.02   799.98   \n",
       "4          197  3424.65  5600.31      474         8352     13965.33  5425.38   \n",
       "5          197   101.40   210.60     3120         8757       531.90   275.80   \n",
       "6          193   532.18   692.90     3526         8768      1630.85   378.28   \n",
       "7          191  2511.75  3224.25      675         8589      8211.09  1814.50   \n",
       "8          191   201.75   261.75     1425         7840       666.59   152.80   \n",
       "9          189   297.49   530.37     2556         6563      1411.83   619.92   \n",
       "10         189   179.25   299.25     3525         8074       754.11   302.40   \n",
       "11         189   296.70   551.31     3450         7470      1510.11   697.41   \n",
       "12         184   134.25   261.75     1500         7716       642.16   312.80   \n",
       "13         183    43.66   147.26     2368         7921       364.17   256.20   \n",
       "14         183   159.80   293.08     5440         6874       788.73   358.68   \n",
       "15         176   119.99   176.08     2698         7788       436.48   139.04   \n",
       "16         175  1098.13  1406.33      670         7029      3673.25   805.00   \n",
       "17         175    29.25    63.70     1625         7666       171.50    92.75   \n",
       "18         173  1006.60  1679.30      420         7082      4150.27  1662.53   \n",
       "19         173  1247.57  1751.27      657         7561      4150.27  1193.70   \n",
       "20         171   848.88  1151.28     1440         7710      2734.29   718.20   \n",
       "21         171   307.30   769.30      210         7728      1879.29  1128.60   \n",
       "22         169   342.54   442.20      792         7172      1132.30   255.19   \n",
       "23         169   226.49   354.29      639         7511       843.31   304.20   \n",
       "24         169   136.00   407.32     2720         7510      1012.31   674.31   \n",
       "25         168   412.05   649.23      871         6627      1627.92   594.72   \n",
       "26         164   178.10   389.35      650         7515       982.36   533.00   \n",
       "27         164  1144.96  2240.00      448         8103      5740.00  2806.04   \n",
       "28         163   535.33   870.33     1005         7175      2117.37   815.00   \n",
       "29         160  1507.35  2079.35      455         6446      5118.40  1408.00   \n",
       "30         155   704.97  1038.87      630         6042      2555.95   821.50   \n",
       "31         155   242.45   454.35      975         7482      1083.45   505.30   \n",
       "32         141  8287.44  9632.00      280         5785     24252.00  3385.41   \n",
       "33         125   988.32  1391.42       58         6752      2998.75   868.75   \n",
       "34         125  1428.35  2385.00      371         4984      5625.00  2256.25   \n",
       "35         121   156.31   268.52      980         5631       663.08   277.09   \n",
       "\n",
       "    idade  dia_sem  \n",
       "0    4104      217  \n",
       "1    3415      198  \n",
       "2    3186      234  \n",
       "3    3551      218  \n",
       "4    3629      217  \n",
       "5    3549      245  \n",
       "6    3730      174  \n",
       "7    3435      221  \n",
       "8    3531      225  \n",
       "9    3108      195  \n",
       "10   3565      227  \n",
       "11   3252      195  \n",
       "12   3415      168  \n",
       "13   3488      207  \n",
       "14   3112      203  \n",
       "15   2950      208  \n",
       "16   3146      205  \n",
       "17   2794      173  \n",
       "18   3226      204  \n",
       "19   3474      213  \n",
       "20   3606      199  \n",
       "21   3233      209  \n",
       "22   3138      202  \n",
       "23   3477      225  \n",
       "24   3275      205  \n",
       "25   2940      183  \n",
       "26   2832      202  \n",
       "27   3169      190  \n",
       "28   3328      217  \n",
       "29   2987      187  \n",
       "30   2956      195  \n",
       "31   3334      162  \n",
       "32   2537      140  \n",
       "33   2597      168  \n",
       "34   2285      156  \n",
       "35   2352      136  "
      ]
     },
     "execution_count": 48,
     "metadata": {},
     "output_type": "execute_result"
    }
   ],
   "source": [
    "venda_produtos_quantidade_total"
   ]
  },
  {
   "cell_type": "code",
   "execution_count": 49,
   "id": "cbc359fe",
   "metadata": {},
   "outputs": [
    {
     "name": "stdout",
     "output_type": "stream",
     "text": [
      "Correlação dos dados (preço e estoque): 0.12640343057019426\n"
     ]
    }
   ],
   "source": [
    "# Calculando a correlação dos dados\n",
    "Correlação= venda_produtos_quantidade_total['total_preco'].corr(venda_produtos_cliente['quantidade'])\n",
    "print(f\"Correlação dos dados (preço e estoque):\", Correlação)"
   ]
  },
  {
   "cell_type": "markdown",
   "id": "ec5bdcd7",
   "metadata": {},
   "source": [
    "## Cliente mais ativo"
   ]
  },
  {
   "cell_type": "code",
   "execution_count": 15,
   "id": "da5b4787",
   "metadata": {},
   "outputs": [],
   "source": [
    "#criando uma tabela para analisar a quantidade de produtos comprados por id_cliente\n",
    "quantidade_comprada = venda_produtos_cliente[[\"id_clientes\", \"quantidade\"]].groupby(['id_clientes']).sum().sort_values('quantidade', ascending=False).reset_index().head(10)\n",
    "\n",
    "#renomenado a coluna quantidade para quantidade_total na tabela de quantidade_comprada\n",
    "quantidade_comprada.rename(columns={\"quantidade\": \"quantidade_total\"}, inplace = 1)\n",
    "\n",
    "#realizando a união das tabelas venda_produtos_cliente e quantidade_comprada em id_cliente\n",
    "venda_produtos_cliente_qt = pd.merge(venda_produtos_cliente, quantidade_comprada, on = 'id_clientes', how='right') \n",
    "\n",
    "#lista_id_cliente_maiores_quantidades = quantidade_comprada['id_cliente'].tolist()\n",
    "#clientes.iloc[lista_id_cliente_maiores_quantidades]"
   ]
  },
  {
   "cell_type": "code",
   "execution_count": 16,
   "id": "ff7d5af4",
   "metadata": {},
   "outputs": [],
   "source": [
    "#plotagem de um gráfica de barras\n",
    "#fig = px.bar(venda_produtos_cliente_qt, x=\"nome_cliente\", y=\"quantidade\", color=\"nome\", barmode = 'stack',\n",
    " #            labels={\"quantidade\": \"Quantidade de vendas\", \"nome_cliente\": \"Nome do cliente\", \"nome\":\"Produto\" }, height=700, width=700)\n",
    " \n",
    "#fig.show()"
   ]
  },
  {
   "cell_type": "code",
   "execution_count": 17,
   "id": "ba1bc3fc",
   "metadata": {},
   "outputs": [],
   "source": [
    "venda_produtos_cliente[\"total_preco\"]=venda_produtos_cliente[\"quantidade\"]*venda_produtos_cliente[\"preco\"]\n",
    "quantidade_comprada_preco = venda_produtos_cliente[[\"id_clientes\", \"total_preco\"]].groupby(['id_clientes']).sum().sort_values('total_preco', ascending=False).reset_index().head(10)\n",
    "quantidade_comprada_preco.rename(columns={\"total_preco\": \"total_mes\"}, inplace = 1)\n",
    "venda_produtos_cliente_pt=pd.merge(venda_produtos_cliente, quantidade_comprada_preco, on = 'id_clientes', how='right') "
   ]
  },
  {
   "cell_type": "code",
   "execution_count": 18,
   "id": "099d2aaf",
   "metadata": {},
   "outputs": [
    {
     "data": {
      "text/html": [
       "<div>\n",
       "<style scoped>\n",
       "    .dataframe tbody tr th:only-of-type {\n",
       "        vertical-align: middle;\n",
       "    }\n",
       "\n",
       "    .dataframe tbody tr th {\n",
       "        vertical-align: top;\n",
       "    }\n",
       "\n",
       "    .dataframe thead th {\n",
       "        text-align: right;\n",
       "    }\n",
       "</style>\n",
       "<table border=\"1\" class=\"dataframe\">\n",
       "  <thead>\n",
       "    <tr style=\"text-align: right;\">\n",
       "      <th></th>\n",
       "      <th>id_clientes</th>\n",
       "      <th>total_mes</th>\n",
       "    </tr>\n",
       "  </thead>\n",
       "  <tbody>\n",
       "    <tr>\n",
       "      <th>0</th>\n",
       "      <td>144</td>\n",
       "      <td>3001.52</td>\n",
       "    </tr>\n",
       "    <tr>\n",
       "      <th>1</th>\n",
       "      <td>73</td>\n",
       "      <td>2847.53</td>\n",
       "    </tr>\n",
       "    <tr>\n",
       "      <th>2</th>\n",
       "      <td>131</td>\n",
       "      <td>2630.92</td>\n",
       "    </tr>\n",
       "    <tr>\n",
       "      <th>3</th>\n",
       "      <td>72</td>\n",
       "      <td>2321.43</td>\n",
       "    </tr>\n",
       "    <tr>\n",
       "      <th>4</th>\n",
       "      <td>139</td>\n",
       "      <td>2123.18</td>\n",
       "    </tr>\n",
       "    <tr>\n",
       "      <th>5</th>\n",
       "      <td>140</td>\n",
       "      <td>1944.55</td>\n",
       "    </tr>\n",
       "    <tr>\n",
       "      <th>6</th>\n",
       "      <td>177</td>\n",
       "      <td>1824.99</td>\n",
       "    </tr>\n",
       "    <tr>\n",
       "      <th>7</th>\n",
       "      <td>15</td>\n",
       "      <td>1770.64</td>\n",
       "    </tr>\n",
       "    <tr>\n",
       "      <th>8</th>\n",
       "      <td>190</td>\n",
       "      <td>1737.59</td>\n",
       "    </tr>\n",
       "    <tr>\n",
       "      <th>9</th>\n",
       "      <td>97</td>\n",
       "      <td>1573.13</td>\n",
       "    </tr>\n",
       "  </tbody>\n",
       "</table>\n",
       "</div>"
      ],
      "text/plain": [
       "   id_clientes  total_mes\n",
       "0          144    3001.52\n",
       "1           73    2847.53\n",
       "2          131    2630.92\n",
       "3           72    2321.43\n",
       "4          139    2123.18\n",
       "5          140    1944.55\n",
       "6          177    1824.99\n",
       "7           15    1770.64\n",
       "8          190    1737.59\n",
       "9           97    1573.13"
      ]
     },
     "execution_count": 18,
     "metadata": {},
     "output_type": "execute_result"
    }
   ],
   "source": [
    "quantidade_comprada_preco"
   ]
  },
  {
   "cell_type": "code",
   "execution_count": 19,
   "id": "2452f2a3",
   "metadata": {},
   "outputs": [
    {
     "data": {
      "application/vnd.plotly.v1+json": {
       "config": {
        "plotlyServerURL": "https://plot.ly"
       },
       "data": [
        {
         "alignmentgroup": "True",
         "customdata": [
          [
           "couve-flor",
           "2021-11-09",
           5.48
          ],
          [
           "feijão",
           "2021-11-09",
           8.45
          ],
          [
           "melancia",
           "2021-11-09",
           15.99
          ],
          [
           "berinjela",
           "2021-11-09",
           11.99
          ],
          [
           "alface",
           "2021-11-01",
           0.98
          ],
          [
           "melancia",
           "2021-11-01",
           15.99
          ],
          [
           "arroz",
           "2021-11-01",
           4.31
          ],
          [
           "macarrão",
           "2021-11-01",
           2.48
          ],
          [
           "batata",
           "2021-11-10",
           3.99
          ],
          [
           "batata",
           "2021-11-10",
           3.99
          ],
          [
           "banana",
           "2021-11-10",
           5.99
          ],
          [
           "batata",
           "2021-11-14",
           3.99
          ],
          [
           "arroz",
           "2021-11-14",
           4.31
          ],
          [
           "banana",
           "2021-11-29",
           5.99
          ],
          [
           "abobrinha",
           "2021-11-05",
           3.49
          ],
          [
           "morango",
           "2021-11-01",
           7.99
          ],
          [
           "arroz",
           "2021-11-01",
           4.31
          ],
          [
           "feijão",
           "2021-11-11",
           8.45
          ],
          [
           "melancia",
           "2021-11-11",
           15.99
          ],
          [
           "berinjela",
           "2021-11-11",
           11.99
          ],
          [
           "arroz",
           "2021-11-11",
           4.31
          ],
          [
           "melancia",
           "2021-11-05",
           15.99
          ],
          [
           "morango",
           "2021-11-05",
           7.99
          ],
          [
           "feijão",
           "2021-11-14",
           8.45
          ],
          [
           "couve-flor",
           "2021-11-14",
           5.48
          ],
          [
           "melancia",
           "2021-11-14",
           15.99
          ],
          [
           "berinjela",
           "2021-11-14",
           11.99
          ],
          [
           "berinjela",
           "2021-11-14",
           11.99
          ],
          [
           "couve-flor",
           "2021-11-07",
           5.48
          ],
          [
           "macarrão",
           "2021-11-07",
           2.48
          ],
          [
           "feijão",
           "2021-11-01",
           8.45
          ],
          [
           "melancia",
           "2021-11-01",
           15.99
          ],
          [
           "berinjela",
           "2021-11-01",
           11.99
          ],
          [
           "arroz",
           "2021-11-01",
           4.31
          ],
          [
           "morango",
           "2021-11-22",
           7.99
          ],
          [
           "abobrinha",
           "2021-11-18",
           3.49
          ],
          [
           "batata",
           "2021-11-12",
           3.99
          ],
          [
           "morango",
           "2021-11-12",
           7.99
          ],
          [
           "arroz",
           "2021-11-12",
           4.31
          ],
          [
           "uva",
           "2021-11-12",
           7.47
          ],
          [
           "alface",
           "2021-11-13",
           0.98
          ],
          [
           "berinjela",
           "2021-11-13",
           11.99
          ],
          [
           "uva",
           "2021-11-13",
           7.47
          ],
          [
           "uva",
           "2021-11-13",
           7.47
          ],
          [
           "macarrão",
           "2021-11-13",
           2.48
          ],
          [
           "feijão",
           "2021-11-12",
           8.45
          ],
          [
           "batata",
           "2021-11-12",
           3.99
          ],
          [
           "berinjela",
           "2021-11-12",
           11.99
          ],
          [
           "arroz",
           "2021-11-12",
           4.31
          ],
          [
           "feijão",
           "2021-11-10",
           8.45
          ],
          [
           "feijão",
           "2021-11-10",
           8.45
          ],
          [
           "feijão",
           "2021-11-10",
           8.45
          ],
          [
           "arroz",
           "2021-11-10",
           4.31
          ],
          [
           "uva",
           "2021-11-10",
           7.47
          ],
          [
           "banana",
           "2021-11-10",
           5.99
          ],
          [
           "banana",
           "2021-11-10",
           5.99
          ],
          [
           "feijão",
           "2021-11-05",
           8.45
          ],
          [
           "morango",
           "2021-11-05",
           7.99
          ],
          [
           "morango",
           "2021-11-05",
           7.99
          ],
          [
           "melancia",
           "2021-11-10",
           15.99
          ],
          [
           "berinjela",
           "2021-11-10",
           11.99
          ],
          [
           "macarrão",
           "2021-11-10",
           2.48
          ],
          [
           "feijão",
           "2021-11-01",
           8.45
          ],
          [
           "melancia",
           "2021-11-01",
           15.99
          ],
          [
           "melancia",
           "2021-11-01",
           15.99
          ],
          [
           "batata",
           "2021-11-01",
           3.99
          ],
          [
           "berinjela",
           "2021-11-01",
           11.99
          ],
          [
           "morango",
           "2021-11-01",
           7.99
          ],
          [
           "uva",
           "2021-11-01",
           7.47
          ],
          [
           "macarrão",
           "2021-11-01",
           2.48
          ],
          [
           "abobrinha",
           "2021-11-01",
           3.49
          ],
          [
           "melancia",
           "2021-11-08",
           15.99
          ],
          [
           "arroz",
           "2021-11-08",
           4.31
          ],
          [
           "macarrão",
           "2021-11-08",
           2.48
          ],
          [
           "banana",
           "2021-11-08",
           5.99
          ],
          [
           "arroz",
           "2021-11-09",
           4.31
          ],
          [
           "uva",
           "2021-11-09",
           7.47
          ],
          [
           "macarrão",
           "2021-11-09",
           2.48
          ],
          [
           "couve-flor",
           "2021-11-05",
           5.48
          ],
          [
           "feijão",
           "2021-11-05",
           8.45
          ],
          [
           "berinjela",
           "2021-11-05",
           11.99
          ],
          [
           "abobrinha",
           "2021-11-05",
           3.49
          ],
          [
           "feijão",
           "2021-11-05",
           8.45
          ],
          [
           "berinjela",
           "2021-11-05",
           11.99
          ],
          [
           "melancia",
           "2021-11-24",
           15.99
          ],
          [
           "couve-flor",
           "2021-11-11",
           5.48
          ],
          [
           "morango",
           "2021-11-11",
           7.99
          ],
          [
           "macarrão",
           "2021-11-11",
           2.48
          ],
          [
           "banana",
           "2021-11-11",
           5.99
          ],
          [
           "batata",
           "2021-11-05",
           3.99
          ],
          [
           "uva",
           "2021-11-05",
           7.47
          ],
          [
           "uva",
           "2021-11-05",
           7.47
          ],
          [
           "alface",
           "2021-11-14",
           0.98
          ],
          [
           "melancia",
           "2021-11-14",
           15.99
          ],
          [
           "melancia",
           "2021-11-14",
           15.99
          ],
          [
           "batata",
           "2021-11-14",
           3.99
          ],
          [
           "morango",
           "2021-11-14",
           7.99
          ],
          [
           "arroz",
           "2021-11-14",
           4.31
          ],
          [
           "batata",
           "2021-11-17",
           3.99
          ],
          [
           "macarrão",
           "2021-11-20",
           2.48
          ],
          [
           "morango",
           "2021-11-10",
           7.99
          ],
          [
           "uva",
           "2021-11-10",
           7.47
          ],
          [
           "melancia",
           "2021-11-06",
           15.99
          ],
          [
           "berinjela",
           "2021-11-06",
           11.99
          ],
          [
           "abobrinha",
           "2021-11-06",
           3.49
          ],
          [
           "couve-flor",
           "2021-11-08",
           5.48
          ],
          [
           "alface",
           "2021-11-08",
           0.98
          ],
          [
           "arroz",
           "2021-11-08",
           4.31
          ],
          [
           "banana",
           "2021-11-08",
           5.99
          ],
          [
           "abobrinha",
           "2021-11-08",
           3.49
          ],
          [
           "alface",
           "2021-11-04",
           0.98
          ],
          [
           "feijão",
           "2021-11-04",
           8.45
          ],
          [
           "batata",
           "2021-11-04",
           3.99
          ],
          [
           "morango",
           "2021-11-04",
           7.99
          ],
          [
           "melancia",
           "2021-11-13",
           15.99
          ],
          [
           "berinjela",
           "2021-11-13",
           11.99
          ],
          [
           "alface",
           "2021-11-02",
           0.98
          ],
          [
           "morango",
           "2021-11-02",
           7.99
          ],
          [
           "feijão",
           "2021-11-08",
           8.45
          ],
          [
           "batata",
           "2021-11-04",
           3.99
          ],
          [
           "arroz",
           "2021-11-04",
           4.31
          ]
         ],
         "hovertemplate": "Seção=Alimentos em Geral<br>Nome do cliente=%{x}<br>Total da compra do produto=%{y}<br>Produto=%{customdata[0]}<br>Data=%{customdata[1]}<br>Preço do produto=%{customdata[2]}<extra></extra>",
         "legendgroup": "Alimentos em Geral",
         "marker": {
          "color": "#636efa",
          "pattern": {
           "shape": ""
          }
         },
         "name": "Alimentos em Geral",
         "offsetgroup": "Alimentos em Geral",
         "orientation": "v",
         "showlegend": true,
         "textposition": "auto",
         "type": "bar",
         "x": [
          "Dr. Vicente Monteiro",
          "Dr. Vicente Monteiro",
          "Dr. Vicente Monteiro",
          "Dr. Vicente Monteiro",
          "Dr. Vicente Monteiro",
          "Dr. Vicente Monteiro",
          "Dr. Vicente Monteiro",
          "Dr. Vicente Monteiro",
          "Dr. Vicente Monteiro",
          "Dr. Vicente Monteiro",
          "Dr. Vicente Monteiro",
          "Dr. Vicente Monteiro",
          "Dr. Vicente Monteiro",
          "Dr. Vicente Monteiro",
          "Benício da Rosa",
          "Benício da Rosa",
          "Benício da Rosa",
          "Benício da Rosa",
          "Benício da Rosa",
          "Benício da Rosa",
          "Benício da Rosa",
          "Benício da Rosa",
          "Benício da Rosa",
          "Benício da Rosa",
          "Carolina Vieira",
          "Carolina Vieira",
          "Carolina Vieira",
          "Carolina Vieira",
          "Carolina Vieira",
          "Carolina Vieira",
          "Carolina Vieira",
          "Carolina Vieira",
          "Carolina Vieira",
          "Carolina Vieira",
          "Carolina Vieira",
          "Carolina Vieira",
          "Sr. Enzo Gabriel Novaes",
          "Sr. Enzo Gabriel Novaes",
          "Sr. Enzo Gabriel Novaes",
          "Sr. Enzo Gabriel Novaes",
          "Sr. Enzo Gabriel Novaes",
          "Sr. Enzo Gabriel Novaes",
          "Sr. Enzo Gabriel Novaes",
          "Sr. Enzo Gabriel Novaes",
          "Sr. Enzo Gabriel Novaes",
          "Sr. Enzo Gabriel Novaes",
          "Sr. Enzo Gabriel Novaes",
          "Sr. Enzo Gabriel Novaes",
          "Sr. Enzo Gabriel Novaes",
          "Sr. Enzo Gabriel Novaes",
          "Sr. Enzo Gabriel Novaes",
          "Sr. Enzo Gabriel Novaes",
          "Sr. Enzo Gabriel Novaes",
          "Sr. Enzo Gabriel Novaes",
          "Sr. Enzo Gabriel Novaes",
          "Sr. Enzo Gabriel Novaes",
          "Sr. Enzo Gabriel Novaes",
          "Sr. Enzo Gabriel Novaes",
          "Sr. Enzo Gabriel Novaes",
          "Manuela Moraes",
          "Manuela Moraes",
          "Manuela Moraes",
          "Manuela Moraes",
          "Manuela Moraes",
          "Manuela Moraes",
          "Manuela Moraes",
          "Manuela Moraes",
          "Manuela Moraes",
          "Manuela Moraes",
          "Manuela Moraes",
          "Manuela Moraes",
          "Manuela Moraes",
          "Manuela Moraes",
          "Manuela Moraes",
          "Manuela Moraes",
          "Manuela Moraes",
          "Manuela Moraes",
          "Manuela Moraes",
          "Matheus da Luz",
          "Matheus da Luz",
          "Matheus da Luz",
          "Matheus da Luz",
          "Matheus da Luz",
          "Matheus da Luz",
          "Matheus da Luz",
          "Sra. Maria Sophia Correia",
          "Sra. Maria Sophia Correia",
          "Sra. Maria Sophia Correia",
          "Sra. Maria Sophia Correia",
          "Sra. Maria Sophia Correia",
          "Sra. Maria Sophia Correia",
          "Sra. Maria Sophia Correia",
          "Sra. Maria Sophia Correia",
          "Sra. Maria Sophia Correia",
          "Sra. Maria Sophia Correia",
          "Sra. Maria Sophia Correia",
          "Sra. Maria Sophia Correia",
          "Sra. Maria Sophia Correia",
          "Sra. Maria Sophia Correia",
          "Sra. Maria Sophia Correia",
          "Alana Pinto",
          "Alana Pinto",
          "Alana Pinto",
          "Alana Pinto",
          "Alana Pinto",
          "Luiz Henrique Pereira",
          "Luiz Henrique Pereira",
          "Luiz Henrique Pereira",
          "Luiz Henrique Pereira",
          "Luiz Henrique Pereira",
          "Luiz Henrique Pereira",
          "Luiz Henrique Pereira",
          "Luiz Henrique Pereira",
          "Luiz Henrique Pereira",
          "Luiz Henrique Pereira",
          "Luiz Henrique Pereira",
          "Ana Vitória Araújo",
          "Ana Vitória Araújo",
          "Ana Vitória Araújo",
          "Ana Vitória Araújo",
          "Ana Vitória Araújo"
         ],
         "xaxis": "x",
         "y": [
          10.96,
          8.45,
          15.99,
          35.97,
          1.96,
          47.97,
          4.31,
          4.96,
          11.97,
          11.97,
          5.99,
          3.99,
          12.93,
          11.98,
          6.98,
          31.96,
          17.24,
          8.45,
          47.97,
          11.99,
          8.62,
          31.98,
          23.97,
          33.8,
          10.96,
          15.99,
          47.96,
          35.97,
          16.44,
          7.4399999999999995,
          8.45,
          31.98,
          47.96,
          12.93,
          15.98,
          3.49,
          11.97,
          7.99,
          12.93,
          14.94,
          0.98,
          35.97,
          14.94,
          29.88,
          9.92,
          8.45,
          15.96,
          11.99,
          8.62,
          33.8,
          16.9,
          8.45,
          12.93,
          7.47,
          17.97,
          23.96,
          8.45,
          7.99,
          15.98,
          15.99,
          47.96,
          4.96,
          33.8,
          47.97,
          15.99,
          11.97,
          35.97,
          23.97,
          29.88,
          4.96,
          10.47,
          47.97,
          17.24,
          9.92,
          11.98,
          4.31,
          7.47,
          9.92,
          21.92,
          8.45,
          35.97,
          10.47,
          8.45,
          35.97,
          31.98,
          21.92,
          23.97,
          4.96,
          5.99,
          3.99,
          22.41,
          14.94,
          2.94,
          47.97,
          15.99,
          11.97,
          23.97,
          8.62,
          15.96,
          2.48,
          15.98,
          22.41,
          63.96,
          11.99,
          6.98,
          5.48,
          1.96,
          4.31,
          11.98,
          10.47,
          3.92,
          8.45,
          11.97,
          23.97,
          15.99,
          47.96,
          3.92,
          31.96,
          16.9,
          11.97,
          17.24
         ],
         "yaxis": "y"
        },
        {
         "alignmentgroup": "True",
         "customdata": [
          [
           "pão de forma",
           "2021-11-09",
           6.99
          ],
          [
           "pastel",
           "2021-11-09",
           4.99
          ],
          [
           "sanduíche",
           "2021-11-09",
           12.99
          ],
          [
           "pastel",
           "2021-11-01",
           4.99
          ],
          [
           "bolo",
           "2021-11-01",
           35
          ],
          [
           "sonho",
           "2021-11-10",
           3.49
          ],
          [
           "pastel",
           "2021-11-10",
           4.99
          ],
          [
           "torta",
           "2021-11-10",
           45
          ],
          [
           "bolo",
           "2021-11-10",
           35
          ],
          [
           "bolo",
           "2021-11-10",
           35
          ],
          [
           "bolo",
           "2021-11-10",
           35
          ],
          [
           "pastel",
           "2021-11-01",
           4.99
          ],
          [
           "sonho",
           "2021-11-11",
           3.49
          ],
          [
           "sanduíche",
           "2021-11-11",
           12.99
          ],
          [
           "pão francês",
           "2021-11-14",
           10.99
          ],
          [
           "bolo",
           "2021-11-14",
           35
          ],
          [
           "sonho",
           "2021-11-14",
           3.49
          ],
          [
           "torta",
           "2021-11-14",
           45
          ],
          [
           "pastel",
           "2021-11-07",
           4.99
          ],
          [
           "pão de queijo",
           "2021-11-07",
           23.99
          ],
          [
           "sanduíche",
           "2021-11-07",
           12.99
          ],
          [
           "sonho",
           "2021-11-01",
           3.49
          ],
          [
           "bolo",
           "2021-11-01",
           35
          ],
          [
           "pão de forma",
           "2021-11-12",
           6.99
          ],
          [
           "sanduíche",
           "2021-11-12",
           12.99
          ],
          [
           "torta",
           "2021-11-12",
           45
          ],
          [
           "pão de forma",
           "2021-11-13",
           6.99
          ],
          [
           "sonho",
           "2021-11-13",
           3.49
          ],
          [
           "pão de queijo",
           "2021-11-13",
           23.99
          ],
          [
           "pão francês",
           "2021-11-12",
           10.99
          ],
          [
           "pão de queijo",
           "2021-11-10",
           23.99
          ],
          [
           "pastel",
           "2021-11-05",
           4.99
          ],
          [
           "torta",
           "2021-11-05",
           45
          ],
          [
           "pão de forma",
           "2021-11-10",
           6.99
          ],
          [
           "pão de forma",
           "2021-11-01",
           6.99
          ],
          [
           "sonho",
           "2021-11-01",
           3.49
          ],
          [
           "pastel",
           "2021-11-01",
           4.99
          ],
          [
           "pão francês",
           "2021-11-01",
           10.99
          ],
          [
           "pão de queijo",
           "2021-11-01",
           23.99
          ],
          [
           "pão de forma",
           "2021-11-08",
           6.99
          ],
          [
           "sanduíche",
           "2021-11-08",
           12.99
          ],
          [
           "sanduíche",
           "2021-11-08",
           12.99
          ],
          [
           "sonho",
           "2021-11-09",
           3.49
          ],
          [
           "pão de queijo",
           "2021-11-09",
           23.99
          ],
          [
           "pastel",
           "2021-11-05",
           4.99
          ],
          [
           "torta",
           "2021-11-05",
           45
          ],
          [
           "pão francês",
           "2021-11-26",
           10.99
          ],
          [
           "torta",
           "2021-11-27",
           45
          ],
          [
           "pão de queijo",
           "2021-11-11",
           23.99
          ],
          [
           "bolo",
           "2021-11-11",
           35
          ],
          [
           "pão de forma",
           "2021-11-05",
           6.99
          ],
          [
           "pastel",
           "2021-11-05",
           4.99
          ],
          [
           "sanduíche",
           "2021-11-05",
           12.99
          ],
          [
           "sanduíche",
           "2021-11-05",
           12.99
          ],
          [
           "torta",
           "2021-11-05",
           45
          ],
          [
           "bolo",
           "2021-11-05",
           35
          ],
          [
           "pão francês",
           "2021-11-14",
           10.99
          ],
          [
           "torta",
           "2021-11-10",
           45
          ],
          [
           "pão francês",
           "2021-11-06",
           10.99
          ],
          [
           "sanduíche",
           "2021-11-06",
           12.99
          ],
          [
           "pão de queijo",
           "2021-11-08",
           23.99
          ],
          [
           "pão de queijo",
           "2021-11-08",
           23.99
          ],
          [
           "torta",
           "2021-11-08",
           45
          ],
          [
           "bolo",
           "2021-11-08",
           35
          ],
          [
           "pão de forma",
           "2021-11-04",
           6.99
          ],
          [
           "sonho",
           "2021-11-04",
           3.49
          ],
          [
           "pastel",
           "2021-11-04",
           4.99
          ],
          [
           "pão de queijo",
           "2021-11-13",
           23.99
          ],
          [
           "torta",
           "2021-11-13",
           45
          ],
          [
           "bolo",
           "2021-11-27",
           35
          ],
          [
           "sanduíche",
           "2021-11-02",
           12.99
          ],
          [
           "pão francês",
           "2021-11-08",
           10.99
          ],
          [
           "sonho",
           "2021-11-04",
           3.49
          ],
          [
           "pastel",
           "2021-11-04",
           4.99
          ],
          [
           "pão francês",
           "2021-11-04",
           10.99
          ],
          [
           "sanduíche",
           "2021-11-04",
           12.99
          ],
          [
           "sanduíche",
           "2021-11-29",
           12.99
          ]
         ],
         "hovertemplate": "Seção=Padaria<br>Nome do cliente=%{x}<br>Total da compra do produto=%{y}<br>Produto=%{customdata[0]}<br>Data=%{customdata[1]}<br>Preço do produto=%{customdata[2]}<extra></extra>",
         "legendgroup": "Padaria",
         "marker": {
          "color": "#EF553B",
          "pattern": {
           "shape": ""
          }
         },
         "name": "Padaria",
         "offsetgroup": "Padaria",
         "orientation": "v",
         "showlegend": true,
         "textposition": "auto",
         "type": "bar",
         "x": [
          "Dr. Vicente Monteiro",
          "Dr. Vicente Monteiro",
          "Dr. Vicente Monteiro",
          "Dr. Vicente Monteiro",
          "Dr. Vicente Monteiro",
          "Dr. Vicente Monteiro",
          "Dr. Vicente Monteiro",
          "Dr. Vicente Monteiro",
          "Dr. Vicente Monteiro",
          "Dr. Vicente Monteiro",
          "Dr. Vicente Monteiro",
          "Benício da Rosa",
          "Benício da Rosa",
          "Benício da Rosa",
          "Benício da Rosa",
          "Benício da Rosa",
          "Carolina Vieira",
          "Carolina Vieira",
          "Carolina Vieira",
          "Carolina Vieira",
          "Carolina Vieira",
          "Carolina Vieira",
          "Carolina Vieira",
          "Sr. Enzo Gabriel Novaes",
          "Sr. Enzo Gabriel Novaes",
          "Sr. Enzo Gabriel Novaes",
          "Sr. Enzo Gabriel Novaes",
          "Sr. Enzo Gabriel Novaes",
          "Sr. Enzo Gabriel Novaes",
          "Sr. Enzo Gabriel Novaes",
          "Sr. Enzo Gabriel Novaes",
          "Sr. Enzo Gabriel Novaes",
          "Sr. Enzo Gabriel Novaes",
          "Manuela Moraes",
          "Manuela Moraes",
          "Manuela Moraes",
          "Manuela Moraes",
          "Manuela Moraes",
          "Manuela Moraes",
          "Manuela Moraes",
          "Manuela Moraes",
          "Manuela Moraes",
          "Manuela Moraes",
          "Manuela Moraes",
          "Matheus da Luz",
          "Matheus da Luz",
          "Matheus da Luz",
          "Matheus da Luz",
          "Sra. Maria Sophia Correia",
          "Sra. Maria Sophia Correia",
          "Sra. Maria Sophia Correia",
          "Sra. Maria Sophia Correia",
          "Sra. Maria Sophia Correia",
          "Sra. Maria Sophia Correia",
          "Sra. Maria Sophia Correia",
          "Sra. Maria Sophia Correia",
          "Sra. Maria Sophia Correia",
          "Alana Pinto",
          "Alana Pinto",
          "Alana Pinto",
          "Luiz Henrique Pereira",
          "Luiz Henrique Pereira",
          "Luiz Henrique Pereira",
          "Luiz Henrique Pereira",
          "Luiz Henrique Pereira",
          "Luiz Henrique Pereira",
          "Luiz Henrique Pereira",
          "Luiz Henrique Pereira",
          "Luiz Henrique Pereira",
          "Luiz Henrique Pereira",
          "Ana Vitória Araújo",
          "Ana Vitória Araújo",
          "Ana Vitória Araújo",
          "Ana Vitória Araújo",
          "Ana Vitória Araújo",
          "Ana Vitória Araújo",
          "Ana Vitória Araújo"
         ],
         "xaxis": "x",
         "y": [
          13.98,
          9.98,
          51.96,
          14.97,
          105,
          3.49,
          4.99,
          90,
          140,
          70,
          35,
          4.99,
          10.47,
          25.98,
          21.98,
          70,
          13.96,
          90,
          4.99,
          95.96,
          12.99,
          3.49,
          140,
          20.97,
          25.98,
          180,
          27.96,
          10.47,
          23.99,
          10.99,
          23.99,
          9.98,
          90,
          13.98,
          6.99,
          6.98,
          9.98,
          10.99,
          23.99,
          13.98,
          25.98,
          38.97,
          10.47,
          23.99,
          9.98,
          135,
          43.96,
          45,
          71.97,
          105,
          13.98,
          9.98,
          38.97,
          12.99,
          135,
          35,
          43.96,
          180,
          21.98,
          38.97,
          71.97,
          47.98,
          45,
          105,
          20.97,
          13.96,
          14.97,
          71.97,
          45,
          35,
          38.97,
          21.98,
          6.98,
          9.98,
          21.98,
          51.96,
          51.96
         ],
         "yaxis": "y"
        },
        {
         "alignmentgroup": "True",
         "customdata": [
          [
           "amaciante",
           "2021-11-09",
           6.7
          ],
          [
           "detergente",
           "2021-11-09",
           2.7
          ],
          [
           "água sanitária",
           "2021-11-09",
           11.98
          ],
          [
           "flanela",
           "2021-11-01",
           1.99
          ],
          [
           "flanela",
           "2021-11-01",
           1.99
          ],
          [
           "água sanitária",
           "2021-11-01",
           11.98
          ],
          [
           "sabonete",
           "2021-11-01",
           1.29
          ],
          [
           "amaciante",
           "2021-11-10",
           6.7
          ],
          [
           "flanela",
           "2021-11-10",
           1.99
          ],
          [
           "amaciante",
           "2021-11-14",
           6.7
          ],
          [
           "água sanitária",
           "2021-11-14",
           11.98
          ],
          [
           "sabonete",
           "2021-11-14",
           1.29
          ],
          [
           "odorizador",
           "2021-11-14",
           23.99
          ],
          [
           "odorizador",
           "2021-11-05",
           23.99
          ],
          [
           "flanela",
           "2021-11-01",
           1.99
          ],
          [
           "rodo",
           "2021-11-01",
           5.99
          ],
          [
           "sabão em pó",
           "2021-11-01",
           9.69
          ],
          [
           "sabão em pó",
           "2021-11-01",
           9.69
          ],
          [
           "flanela",
           "2021-11-11",
           1.99
          ],
          [
           "odorizador",
           "2021-11-11",
           23.99
          ],
          [
           "odorizador",
           "2021-11-11",
           23.99
          ],
          [
           "sabão em pó",
           "2021-11-14",
           9.69
          ],
          [
           "água sanitária",
           "2021-11-14",
           11.98
          ],
          [
           "amaciante",
           "2021-11-14",
           6.7
          ],
          [
           "rodo",
           "2021-11-14",
           5.99
          ],
          [
           "água sanitária",
           "2021-11-14",
           11.98
          ],
          [
           "água sanitária",
           "2021-11-14",
           11.98
          ],
          [
           "flanela",
           "2021-11-07",
           1.99
          ],
          [
           "rodo",
           "2021-11-07",
           5.99
          ],
          [
           "detergente",
           "2021-11-07",
           2.7
          ],
          [
           "odorizador",
           "2021-11-07",
           23.99
          ],
          [
           "odorizador",
           "2021-11-01",
           23.99
          ],
          [
           "rodo",
           "2021-11-12",
           5.99
          ],
          [
           "detergente",
           "2021-11-12",
           2.7
          ],
          [
           "flanela",
           "2021-11-13",
           1.99
          ],
          [
           "amaciante",
           "2021-11-12",
           6.7
          ],
          [
           "amaciante",
           "2021-11-12",
           6.7
          ],
          [
           "rodo",
           "2021-11-12",
           5.99
          ],
          [
           "água sanitária",
           "2021-11-12",
           11.98
          ],
          [
           "odorizador",
           "2021-11-12",
           23.99
          ],
          [
           "amaciante",
           "2021-11-10",
           6.7
          ],
          [
           "flanela",
           "2021-11-23",
           1.99
          ],
          [
           "detergente",
           "2021-11-05",
           2.7
          ],
          [
           "rodo",
           "2021-11-16",
           5.99
          ],
          [
           "flanela",
           "2021-11-10",
           1.99
          ],
          [
           "flanela",
           "2021-11-10",
           1.99
          ],
          [
           "rodo",
           "2021-11-10",
           5.99
          ],
          [
           "sabão em pó",
           "2021-11-10",
           9.69
          ],
          [
           "água sanitária",
           "2021-11-10",
           11.98
          ],
          [
           "amaciante",
           "2021-11-01",
           6.7
          ],
          [
           "água sanitária",
           "2021-11-01",
           11.98
          ],
          [
           "odorizador",
           "2021-11-01",
           23.99
          ],
          [
           "amaciante",
           "2021-11-08",
           6.7
          ],
          [
           "odorizador",
           "2021-11-09",
           23.99
          ],
          [
           "flanela",
           "2021-11-16",
           1.99
          ],
          [
           "rodo",
           "2021-11-05",
           5.99
          ],
          [
           "odorizador",
           "2021-11-05",
           23.99
          ],
          [
           "odorizador",
           "2021-11-05",
           23.99
          ],
          [
           "flanela",
           "2021-11-05",
           1.99
          ],
          [
           "odorizador",
           "2021-11-05",
           23.99
          ],
          [
           "água sanitária",
           "2021-11-11",
           11.98
          ],
          [
           "amaciante",
           "2021-11-05",
           6.7
          ],
          [
           "flanela",
           "2021-11-05",
           1.99
          ],
          [
           "rodo",
           "2021-11-05",
           5.99
          ],
          [
           "detergente",
           "2021-11-05",
           2.7
          ],
          [
           "detergente",
           "2021-11-05",
           2.7
          ],
          [
           "sabonete",
           "2021-11-05",
           1.29
          ],
          [
           "sabonete",
           "2021-11-05",
           1.29
          ],
          [
           "odorizador",
           "2021-11-05",
           23.99
          ],
          [
           "amaciante",
           "2021-11-14",
           6.7
          ],
          [
           "rodo",
           "2021-11-14",
           5.99
          ],
          [
           "flanela",
           "2021-11-10",
           1.99
          ],
          [
           "rodo",
           "2021-11-10",
           5.99
          ],
          [
           "sabonete",
           "2021-11-10",
           1.29
          ],
          [
           "sabonete",
           "2021-11-10",
           1.29
          ],
          [
           "amaciante",
           "2021-11-08",
           6.7
          ],
          [
           "água sanitária",
           "2021-11-08",
           11.98
          ],
          [
           "odorizador",
           "2021-11-08",
           23.99
          ],
          [
           "flanela",
           "2021-11-04",
           1.99
          ],
          [
           "sabão em pó",
           "2021-11-04",
           9.69
          ],
          [
           "sabonete",
           "2021-11-04",
           1.29
          ],
          [
           "amaciante",
           "2021-11-13",
           6.7
          ],
          [
           "sabão em pó",
           "2021-11-13",
           9.69
          ],
          [
           "água sanitária",
           "2021-11-13",
           11.98
          ],
          [
           "água sanitária",
           "2021-11-13",
           11.98
          ],
          [
           "odorizador",
           "2021-11-13",
           23.99
          ],
          [
           "detergente",
           "2021-11-02",
           2.7
          ],
          [
           "sabão em pó",
           "2021-11-02",
           9.69
          ],
          [
           "sabão em pó",
           "2021-11-02",
           9.69
          ],
          [
           "sabão em pó",
           "2021-11-02",
           9.69
          ],
          [
           "rodo",
           "2021-11-08",
           5.99
          ],
          [
           "água sanitária",
           "2021-11-08",
           11.98
          ],
          [
           "sabão em pó",
           "2021-11-04",
           9.69
          ],
          [
           "água sanitária",
           "2021-11-04",
           11.98
          ]
         ],
         "hovertemplate": "Seção=Produtos de Limpeza<br>Nome do cliente=%{x}<br>Total da compra do produto=%{y}<br>Produto=%{customdata[0]}<br>Data=%{customdata[1]}<br>Preço do produto=%{customdata[2]}<extra></extra>",
         "legendgroup": "Produtos de Limpeza",
         "marker": {
          "color": "#00cc96",
          "pattern": {
           "shape": ""
          }
         },
         "name": "Produtos de Limpeza",
         "offsetgroup": "Produtos de Limpeza",
         "orientation": "v",
         "showlegend": true,
         "textposition": "auto",
         "type": "bar",
         "x": [
          "Dr. Vicente Monteiro",
          "Dr. Vicente Monteiro",
          "Dr. Vicente Monteiro",
          "Dr. Vicente Monteiro",
          "Dr. Vicente Monteiro",
          "Dr. Vicente Monteiro",
          "Dr. Vicente Monteiro",
          "Dr. Vicente Monteiro",
          "Dr. Vicente Monteiro",
          "Dr. Vicente Monteiro",
          "Dr. Vicente Monteiro",
          "Dr. Vicente Monteiro",
          "Dr. Vicente Monteiro",
          "Benício da Rosa",
          "Benício da Rosa",
          "Benício da Rosa",
          "Benício da Rosa",
          "Benício da Rosa",
          "Benício da Rosa",
          "Benício da Rosa",
          "Benício da Rosa",
          "Benício da Rosa",
          "Benício da Rosa",
          "Carolina Vieira",
          "Carolina Vieira",
          "Carolina Vieira",
          "Carolina Vieira",
          "Carolina Vieira",
          "Carolina Vieira",
          "Carolina Vieira",
          "Carolina Vieira",
          "Carolina Vieira",
          "Sr. Enzo Gabriel Novaes",
          "Sr. Enzo Gabriel Novaes",
          "Sr. Enzo Gabriel Novaes",
          "Sr. Enzo Gabriel Novaes",
          "Sr. Enzo Gabriel Novaes",
          "Sr. Enzo Gabriel Novaes",
          "Sr. Enzo Gabriel Novaes",
          "Sr. Enzo Gabriel Novaes",
          "Sr. Enzo Gabriel Novaes",
          "Sr. Enzo Gabriel Novaes",
          "Sr. Enzo Gabriel Novaes",
          "Sr. Enzo Gabriel Novaes",
          "Manuela Moraes",
          "Manuela Moraes",
          "Manuela Moraes",
          "Manuela Moraes",
          "Manuela Moraes",
          "Manuela Moraes",
          "Manuela Moraes",
          "Manuela Moraes",
          "Manuela Moraes",
          "Manuela Moraes",
          "Manuela Moraes",
          "Matheus da Luz",
          "Matheus da Luz",
          "Matheus da Luz",
          "Matheus da Luz",
          "Matheus da Luz",
          "Sra. Maria Sophia Correia",
          "Sra. Maria Sophia Correia",
          "Sra. Maria Sophia Correia",
          "Sra. Maria Sophia Correia",
          "Sra. Maria Sophia Correia",
          "Sra. Maria Sophia Correia",
          "Sra. Maria Sophia Correia",
          "Sra. Maria Sophia Correia",
          "Sra. Maria Sophia Correia",
          "Sra. Maria Sophia Correia",
          "Sra. Maria Sophia Correia",
          "Alana Pinto",
          "Alana Pinto",
          "Alana Pinto",
          "Alana Pinto",
          "Luiz Henrique Pereira",
          "Luiz Henrique Pereira",
          "Luiz Henrique Pereira",
          "Luiz Henrique Pereira",
          "Luiz Henrique Pereira",
          "Luiz Henrique Pereira",
          "Luiz Henrique Pereira",
          "Luiz Henrique Pereira",
          "Luiz Henrique Pereira",
          "Luiz Henrique Pereira",
          "Luiz Henrique Pereira",
          "Ana Vitória Araújo",
          "Ana Vitória Araújo",
          "Ana Vitória Araújo",
          "Ana Vitória Araújo",
          "Ana Vitória Araújo",
          "Ana Vitória Araújo",
          "Ana Vitória Araújo",
          "Ana Vitória Araújo"
         ],
         "xaxis": "x",
         "y": [
          20.1,
          2.7,
          23.96,
          3.98,
          1.99,
          47.92,
          2.58,
          13.4,
          3.98,
          20.1,
          35.94,
          3.87,
          71.97,
          71.97,
          7.96,
          23.96,
          38.76,
          29.07,
          7.96,
          47.98,
          23.99,
          29.07,
          23.96,
          26.8,
          11.98,
          47.92,
          47.92,
          7.96,
          11.98,
          5.4,
          71.97,
          47.98,
          11.98,
          5.4,
          3.98,
          26.8,
          26.8,
          17.97,
          11.98,
          95.96,
          6.7,
          5.97,
          8.100000000000001,
          11.98,
          3.98,
          3.98,
          11.98,
          19.38,
          35.94,
          26.8,
          11.98,
          71.97,
          6.7,
          71.97,
          5.97,
          17.97,
          23.99,
          23.99,
          1.99,
          95.96,
          35.94,
          6.7,
          1.99,
          11.98,
          10.8,
          2.7,
          2.58,
          3.87,
          95.96,
          13.4,
          11.98,
          1.99,
          5.99,
          5.16,
          5.16,
          6.7,
          23.96,
          71.97,
          1.99,
          29.07,
          3.87,
          20.1,
          19.38,
          11.98,
          35.94,
          95.96,
          10.8,
          19.38,
          9.69,
          29.07,
          23.96,
          23.96,
          19.38,
          23.96
         ],
         "yaxis": "y"
        },
        {
         "alignmentgroup": "True",
         "customdata": [
          [
           "carré de cordeiro",
           "2021-11-09",
           172
          ],
          [
           "costela",
           "2021-11-09",
           20.99
          ],
          [
           "bisteca suína",
           "2021-11-09",
           22.79
          ],
          [
           "picanha",
           "2021-11-09",
           70.89
          ],
          [
           "peito de frango",
           "2021-11-01",
           16.49
          ],
          [
           "carré de cordeiro",
           "2021-11-01",
           172
          ],
          [
           "costela",
           "2021-11-01",
           20.99
          ],
          [
           "picanha",
           "2021-11-01",
           70.89
          ],
          [
           "bisteca suína",
           "2021-11-10",
           22.79
          ],
          [
           "alcatra",
           "2021-11-10",
           31.99
          ],
          [
           "maminha",
           "2021-11-10",
           42.99
          ],
          [
           "picanha",
           "2021-11-18",
           70.89
          ],
          [
           "picanha",
           "2021-11-18",
           70.89
          ],
          [
           "paleta suína",
           "2021-11-05",
           23.99
          ],
          [
           "picanha",
           "2021-11-05",
           70.89
          ],
          [
           "picanha",
           "2021-11-05",
           70.89
          ],
          [
           "picanha",
           "2021-11-05",
           70.89
          ],
          [
           "alcatra",
           "2021-11-05",
           31.99
          ],
          [
           "alcatra",
           "2021-11-05",
           31.99
          ],
          [
           "picanha",
           "2021-11-01",
           70.89
          ],
          [
           "maminha",
           "2021-11-01",
           42.99
          ],
          [
           "costela",
           "2021-11-11",
           20.99
          ],
          [
           "picanha",
           "2021-11-11",
           70.89
          ],
          [
           "maminha",
           "2021-11-11",
           42.99
          ],
          [
           "carré de cordeiro",
           "2021-11-05",
           172
          ],
          [
           "costela",
           "2021-11-05",
           20.99
          ],
          [
           "picanha",
           "2021-11-05",
           70.89
          ],
          [
           "alcatra",
           "2021-11-05",
           31.99
          ],
          [
           "costela",
           "2021-11-14",
           20.99
          ],
          [
           "picanha",
           "2021-11-14",
           70.89
          ],
          [
           "peito de frango",
           "2021-11-07",
           16.49
          ],
          [
           "maminha",
           "2021-11-07",
           42.99
          ],
          [
           "carré de cordeiro",
           "2021-11-01",
           172
          ],
          [
           "carré de cordeiro",
           "2021-11-01",
           172
          ],
          [
           "picanha",
           "2021-11-01",
           70.89
          ],
          [
           "alcatra",
           "2021-11-01",
           31.99
          ],
          [
           "alcatra",
           "2021-11-01",
           31.99
          ],
          [
           "peito de frango",
           "2021-11-12",
           16.49
          ],
          [
           "paleta suína",
           "2021-11-12",
           23.99
          ],
          [
           "costela",
           "2021-11-12",
           20.99
          ],
          [
           "picanha",
           "2021-11-12",
           70.89
          ],
          [
           "alcatra",
           "2021-11-12",
           31.99
          ],
          [
           "maminha",
           "2021-11-12",
           42.99
          ],
          [
           "costela",
           "2021-11-13",
           20.99
          ],
          [
           "alcatra",
           "2021-11-13",
           31.99
          ],
          [
           "maminha",
           "2021-11-13",
           42.99
          ],
          [
           "picanha",
           "2021-11-12",
           70.89
          ],
          [
           "picanha",
           "2021-11-10",
           70.89
          ],
          [
           "picanha",
           "2021-11-10",
           70.89
          ],
          [
           "maminha",
           "2021-11-10",
           42.99
          ],
          [
           "costela",
           "2021-11-05",
           20.99
          ],
          [
           "bisteca suína",
           "2021-11-05",
           22.79
          ],
          [
           "bisteca suína",
           "2021-11-05",
           22.79
          ],
          [
           "alcatra",
           "2021-11-05",
           31.99
          ],
          [
           "alcatra",
           "2021-11-05",
           31.99
          ],
          [
           "peito de frango",
           "2021-11-10",
           16.49
          ],
          [
           "carré de cordeiro",
           "2021-11-10",
           172
          ],
          [
           "paleta suína",
           "2021-11-01",
           23.99
          ],
          [
           "bisteca suína",
           "2021-11-01",
           22.79
          ],
          [
           "picanha",
           "2021-11-01",
           70.89
          ],
          [
           "alcatra",
           "2021-11-01",
           31.99
          ],
          [
           "alcatra",
           "2021-11-01",
           31.99
          ],
          [
           "paleta suína",
           "2021-11-08",
           23.99
          ],
          [
           "paleta suína",
           "2021-11-09",
           23.99
          ],
          [
           "bisteca suína",
           "2021-11-09",
           22.79
          ],
          [
           "alcatra",
           "2021-11-09",
           31.99
          ],
          [
           "costela",
           "2021-11-05",
           20.99
          ],
          [
           "bisteca suína",
           "2021-11-05",
           22.79
          ],
          [
           "maminha",
           "2021-11-05",
           42.99
          ],
          [
           "peito de frango",
           "2021-11-05",
           16.49
          ],
          [
           "paleta suína",
           "2021-11-05",
           23.99
          ],
          [
           "paleta suína",
           "2021-11-05",
           23.99
          ],
          [
           "carré de cordeiro",
           "2021-11-05",
           172
          ],
          [
           "picanha",
           "2021-11-05",
           70.89
          ],
          [
           "paleta suína",
           "2021-11-29",
           23.99
          ],
          [
           "peito de frango",
           "2021-11-11",
           16.49
          ],
          [
           "paleta suína",
           "2021-11-11",
           23.99
          ],
          [
           "costela",
           "2021-11-05",
           20.99
          ],
          [
           "picanha",
           "2021-11-05",
           70.89
          ],
          [
           "picanha",
           "2021-11-05",
           70.89
          ],
          [
           "maminha",
           "2021-11-05",
           42.99
          ],
          [
           "maminha",
           "2021-11-05",
           42.99
          ],
          [
           "paleta suína",
           "2021-11-14",
           23.99
          ],
          [
           "alcatra",
           "2021-11-14",
           31.99
          ],
          [
           "peito de frango",
           "2021-11-10",
           16.49
          ],
          [
           "peito de frango",
           "2021-11-10",
           16.49
          ],
          [
           "peito de frango",
           "2021-11-10",
           16.49
          ],
          [
           "carré de cordeiro",
           "2021-11-10",
           172
          ],
          [
           "picanha",
           "2021-11-10",
           70.89
          ],
          [
           "picanha",
           "2021-11-10",
           70.89
          ],
          [
           "picanha",
           "2021-11-10",
           70.89
          ],
          [
           "paleta suína",
           "2021-11-20",
           23.99
          ],
          [
           "costela",
           "2021-11-06",
           20.99
          ],
          [
           "maminha",
           "2021-11-06",
           42.99
          ],
          [
           "peito de frango",
           "2021-11-08",
           16.49
          ],
          [
           "costela",
           "2021-11-08",
           20.99
          ],
          [
           "maminha",
           "2021-11-08",
           42.99
          ],
          [
           "bisteca suína",
           "2021-11-04",
           22.79
          ],
          [
           "paleta suína",
           "2021-11-13",
           23.99
          ],
          [
           "carré de cordeiro",
           "2021-11-13",
           172
          ],
          [
           "carré de cordeiro",
           "2021-11-13",
           172
          ],
          [
           "bisteca suína",
           "2021-11-13",
           22.79
          ],
          [
           "alcatra",
           "2021-11-13",
           31.99
          ],
          [
           "costela",
           "2021-11-02",
           20.99
          ],
          [
           "costela",
           "2021-11-02",
           20.99
          ],
          [
           "costela",
           "2021-11-02",
           20.99
          ],
          [
           "maminha",
           "2021-11-02",
           42.99
          ],
          [
           "bisteca suína",
           "2021-11-08",
           22.79
          ],
          [
           "picanha",
           "2021-11-08",
           70.89
          ],
          [
           "picanha",
           "2021-11-08",
           70.89
          ],
          [
           "maminha",
           "2021-11-08",
           42.99
          ],
          [
           "costela",
           "2021-11-04",
           20.99
          ],
          [
           "alcatra",
           "2021-11-04",
           31.99
          ]
         ],
         "hovertemplate": "Seção=Açougue<br>Nome do cliente=%{x}<br>Total da compra do produto=%{y}<br>Produto=%{customdata[0]}<br>Data=%{customdata[1]}<br>Preço do produto=%{customdata[2]}<extra></extra>",
         "legendgroup": "Açougue",
         "marker": {
          "color": "#ab63fa",
          "pattern": {
           "shape": ""
          }
         },
         "name": "Açougue",
         "offsetgroup": "Açougue",
         "orientation": "v",
         "showlegend": true,
         "textposition": "auto",
         "type": "bar",
         "x": [
          "Dr. Vicente Monteiro",
          "Dr. Vicente Monteiro",
          "Dr. Vicente Monteiro",
          "Dr. Vicente Monteiro",
          "Dr. Vicente Monteiro",
          "Dr. Vicente Monteiro",
          "Dr. Vicente Monteiro",
          "Dr. Vicente Monteiro",
          "Dr. Vicente Monteiro",
          "Dr. Vicente Monteiro",
          "Dr. Vicente Monteiro",
          "Dr. Vicente Monteiro",
          "Dr. Vicente Monteiro",
          "Benício da Rosa",
          "Benício da Rosa",
          "Benício da Rosa",
          "Benício da Rosa",
          "Benício da Rosa",
          "Benício da Rosa",
          "Benício da Rosa",
          "Benício da Rosa",
          "Benício da Rosa",
          "Benício da Rosa",
          "Benício da Rosa",
          "Benício da Rosa",
          "Benício da Rosa",
          "Benício da Rosa",
          "Benício da Rosa",
          "Benício da Rosa",
          "Carolina Vieira",
          "Carolina Vieira",
          "Carolina Vieira",
          "Carolina Vieira",
          "Carolina Vieira",
          "Carolina Vieira",
          "Carolina Vieira",
          "Carolina Vieira",
          "Sr. Enzo Gabriel Novaes",
          "Sr. Enzo Gabriel Novaes",
          "Sr. Enzo Gabriel Novaes",
          "Sr. Enzo Gabriel Novaes",
          "Sr. Enzo Gabriel Novaes",
          "Sr. Enzo Gabriel Novaes",
          "Sr. Enzo Gabriel Novaes",
          "Sr. Enzo Gabriel Novaes",
          "Sr. Enzo Gabriel Novaes",
          "Sr. Enzo Gabriel Novaes",
          "Sr. Enzo Gabriel Novaes",
          "Sr. Enzo Gabriel Novaes",
          "Sr. Enzo Gabriel Novaes",
          "Sr. Enzo Gabriel Novaes",
          "Sr. Enzo Gabriel Novaes",
          "Sr. Enzo Gabriel Novaes",
          "Sr. Enzo Gabriel Novaes",
          "Sr. Enzo Gabriel Novaes",
          "Manuela Moraes",
          "Manuela Moraes",
          "Manuela Moraes",
          "Manuela Moraes",
          "Manuela Moraes",
          "Manuela Moraes",
          "Manuela Moraes",
          "Manuela Moraes",
          "Manuela Moraes",
          "Manuela Moraes",
          "Manuela Moraes",
          "Matheus da Luz",
          "Matheus da Luz",
          "Matheus da Luz",
          "Matheus da Luz",
          "Matheus da Luz",
          "Matheus da Luz",
          "Matheus da Luz",
          "Matheus da Luz",
          "Matheus da Luz",
          "Sra. Maria Sophia Correia",
          "Sra. Maria Sophia Correia",
          "Sra. Maria Sophia Correia",
          "Sra. Maria Sophia Correia",
          "Sra. Maria Sophia Correia",
          "Sra. Maria Sophia Correia",
          "Sra. Maria Sophia Correia",
          "Sra. Maria Sophia Correia",
          "Sra. Maria Sophia Correia",
          "Alana Pinto",
          "Alana Pinto",
          "Alana Pinto",
          "Alana Pinto",
          "Alana Pinto",
          "Alana Pinto",
          "Alana Pinto",
          "Alana Pinto",
          "Alana Pinto",
          "Alana Pinto",
          "Luiz Henrique Pereira",
          "Luiz Henrique Pereira",
          "Luiz Henrique Pereira",
          "Luiz Henrique Pereira",
          "Luiz Henrique Pereira",
          "Luiz Henrique Pereira",
          "Luiz Henrique Pereira",
          "Luiz Henrique Pereira",
          "Luiz Henrique Pereira",
          "Ana Vitória Araújo",
          "Ana Vitória Araújo",
          "Ana Vitória Araújo",
          "Ana Vitória Araújo",
          "Ana Vitória Araújo",
          "Ana Vitória Araújo",
          "Ana Vitória Araújo",
          "Ana Vitória Araújo",
          "Ana Vitória Araújo",
          "Ana Vitória Araújo"
         ],
         "xaxis": "x",
         "y": [
          344,
          41.98,
          45.58,
          141.78,
          16.49,
          516,
          20.99,
          141.78,
          45.58,
          95.97,
          42.99,
          283.56,
          283.56,
          71.97,
          212.67000000000002,
          70.89,
          70.89,
          31.99,
          63.98,
          141.78,
          85.98,
          20.99,
          141.78,
          171.96,
          688,
          83.96,
          212.67000000000002,
          95.97,
          20.99,
          141.78,
          49.47,
          171.96,
          688,
          516,
          70.89,
          63.98,
          31.99,
          16.49,
          23.99,
          62.97,
          70.89,
          95.97,
          85.98,
          20.99,
          63.98,
          42.99,
          70.89,
          212.67000000000002,
          141.78,
          85.98,
          41.98,
          91.16,
          68.37,
          63.98,
          63.98,
          16.49,
          516,
          71.97,
          91.16,
          70.89,
          63.98,
          127.96,
          71.97,
          23.99,
          91.16,
          127.96,
          62.97,
          45.58,
          128.97,
          16.49,
          47.98,
          47.98,
          688,
          283.56,
          71.97,
          65.96,
          71.97,
          20.99,
          141.78,
          283.56,
          128.97,
          42.99,
          47.98,
          127.96,
          16.49,
          49.47,
          65.96,
          516,
          212.67000000000002,
          212.67000000000002,
          70.89,
          95.96,
          20.99,
          128.97,
          16.49,
          20.99,
          42.99,
          45.58,
          23.99,
          172,
          344,
          68.37,
          63.98,
          41.98,
          20.99,
          20.99,
          128.97,
          91.16,
          283.56,
          283.56,
          128.97,
          62.97,
          63.98
         ],
         "yaxis": "y"
        }
       ],
       "layout": {
        "barmode": "stack",
        "legend": {
         "title": {
          "text": "Seção"
         },
         "tracegroupgap": 0
        },
        "margin": {
         "t": 60
        },
        "template": {
         "data": {
          "bar": [
           {
            "error_x": {
             "color": "#2a3f5f"
            },
            "error_y": {
             "color": "#2a3f5f"
            },
            "marker": {
             "line": {
              "color": "#E5ECF6",
              "width": 0.5
             },
             "pattern": {
              "fillmode": "overlay",
              "size": 10,
              "solidity": 0.2
             }
            },
            "type": "bar"
           }
          ],
          "barpolar": [
           {
            "marker": {
             "line": {
              "color": "#E5ECF6",
              "width": 0.5
             },
             "pattern": {
              "fillmode": "overlay",
              "size": 10,
              "solidity": 0.2
             }
            },
            "type": "barpolar"
           }
          ],
          "carpet": [
           {
            "aaxis": {
             "endlinecolor": "#2a3f5f",
             "gridcolor": "white",
             "linecolor": "white",
             "minorgridcolor": "white",
             "startlinecolor": "#2a3f5f"
            },
            "baxis": {
             "endlinecolor": "#2a3f5f",
             "gridcolor": "white",
             "linecolor": "white",
             "minorgridcolor": "white",
             "startlinecolor": "#2a3f5f"
            },
            "type": "carpet"
           }
          ],
          "choropleth": [
           {
            "colorbar": {
             "outlinewidth": 0,
             "ticks": ""
            },
            "type": "choropleth"
           }
          ],
          "contour": [
           {
            "colorbar": {
             "outlinewidth": 0,
             "ticks": ""
            },
            "colorscale": [
             [
              0,
              "#0d0887"
             ],
             [
              0.1111111111111111,
              "#46039f"
             ],
             [
              0.2222222222222222,
              "#7201a8"
             ],
             [
              0.3333333333333333,
              "#9c179e"
             ],
             [
              0.4444444444444444,
              "#bd3786"
             ],
             [
              0.5555555555555556,
              "#d8576b"
             ],
             [
              0.6666666666666666,
              "#ed7953"
             ],
             [
              0.7777777777777778,
              "#fb9f3a"
             ],
             [
              0.8888888888888888,
              "#fdca26"
             ],
             [
              1,
              "#f0f921"
             ]
            ],
            "type": "contour"
           }
          ],
          "contourcarpet": [
           {
            "colorbar": {
             "outlinewidth": 0,
             "ticks": ""
            },
            "type": "contourcarpet"
           }
          ],
          "heatmap": [
           {
            "colorbar": {
             "outlinewidth": 0,
             "ticks": ""
            },
            "colorscale": [
             [
              0,
              "#0d0887"
             ],
             [
              0.1111111111111111,
              "#46039f"
             ],
             [
              0.2222222222222222,
              "#7201a8"
             ],
             [
              0.3333333333333333,
              "#9c179e"
             ],
             [
              0.4444444444444444,
              "#bd3786"
             ],
             [
              0.5555555555555556,
              "#d8576b"
             ],
             [
              0.6666666666666666,
              "#ed7953"
             ],
             [
              0.7777777777777778,
              "#fb9f3a"
             ],
             [
              0.8888888888888888,
              "#fdca26"
             ],
             [
              1,
              "#f0f921"
             ]
            ],
            "type": "heatmap"
           }
          ],
          "heatmapgl": [
           {
            "colorbar": {
             "outlinewidth": 0,
             "ticks": ""
            },
            "colorscale": [
             [
              0,
              "#0d0887"
             ],
             [
              0.1111111111111111,
              "#46039f"
             ],
             [
              0.2222222222222222,
              "#7201a8"
             ],
             [
              0.3333333333333333,
              "#9c179e"
             ],
             [
              0.4444444444444444,
              "#bd3786"
             ],
             [
              0.5555555555555556,
              "#d8576b"
             ],
             [
              0.6666666666666666,
              "#ed7953"
             ],
             [
              0.7777777777777778,
              "#fb9f3a"
             ],
             [
              0.8888888888888888,
              "#fdca26"
             ],
             [
              1,
              "#f0f921"
             ]
            ],
            "type": "heatmapgl"
           }
          ],
          "histogram": [
           {
            "marker": {
             "pattern": {
              "fillmode": "overlay",
              "size": 10,
              "solidity": 0.2
             }
            },
            "type": "histogram"
           }
          ],
          "histogram2d": [
           {
            "colorbar": {
             "outlinewidth": 0,
             "ticks": ""
            },
            "colorscale": [
             [
              0,
              "#0d0887"
             ],
             [
              0.1111111111111111,
              "#46039f"
             ],
             [
              0.2222222222222222,
              "#7201a8"
             ],
             [
              0.3333333333333333,
              "#9c179e"
             ],
             [
              0.4444444444444444,
              "#bd3786"
             ],
             [
              0.5555555555555556,
              "#d8576b"
             ],
             [
              0.6666666666666666,
              "#ed7953"
             ],
             [
              0.7777777777777778,
              "#fb9f3a"
             ],
             [
              0.8888888888888888,
              "#fdca26"
             ],
             [
              1,
              "#f0f921"
             ]
            ],
            "type": "histogram2d"
           }
          ],
          "histogram2dcontour": [
           {
            "colorbar": {
             "outlinewidth": 0,
             "ticks": ""
            },
            "colorscale": [
             [
              0,
              "#0d0887"
             ],
             [
              0.1111111111111111,
              "#46039f"
             ],
             [
              0.2222222222222222,
              "#7201a8"
             ],
             [
              0.3333333333333333,
              "#9c179e"
             ],
             [
              0.4444444444444444,
              "#bd3786"
             ],
             [
              0.5555555555555556,
              "#d8576b"
             ],
             [
              0.6666666666666666,
              "#ed7953"
             ],
             [
              0.7777777777777778,
              "#fb9f3a"
             ],
             [
              0.8888888888888888,
              "#fdca26"
             ],
             [
              1,
              "#f0f921"
             ]
            ],
            "type": "histogram2dcontour"
           }
          ],
          "mesh3d": [
           {
            "colorbar": {
             "outlinewidth": 0,
             "ticks": ""
            },
            "type": "mesh3d"
           }
          ],
          "parcoords": [
           {
            "line": {
             "colorbar": {
              "outlinewidth": 0,
              "ticks": ""
             }
            },
            "type": "parcoords"
           }
          ],
          "pie": [
           {
            "automargin": true,
            "type": "pie"
           }
          ],
          "scatter": [
           {
            "marker": {
             "colorbar": {
              "outlinewidth": 0,
              "ticks": ""
             }
            },
            "type": "scatter"
           }
          ],
          "scatter3d": [
           {
            "line": {
             "colorbar": {
              "outlinewidth": 0,
              "ticks": ""
             }
            },
            "marker": {
             "colorbar": {
              "outlinewidth": 0,
              "ticks": ""
             }
            },
            "type": "scatter3d"
           }
          ],
          "scattercarpet": [
           {
            "marker": {
             "colorbar": {
              "outlinewidth": 0,
              "ticks": ""
             }
            },
            "type": "scattercarpet"
           }
          ],
          "scattergeo": [
           {
            "marker": {
             "colorbar": {
              "outlinewidth": 0,
              "ticks": ""
             }
            },
            "type": "scattergeo"
           }
          ],
          "scattergl": [
           {
            "marker": {
             "colorbar": {
              "outlinewidth": 0,
              "ticks": ""
             }
            },
            "type": "scattergl"
           }
          ],
          "scattermapbox": [
           {
            "marker": {
             "colorbar": {
              "outlinewidth": 0,
              "ticks": ""
             }
            },
            "type": "scattermapbox"
           }
          ],
          "scatterpolar": [
           {
            "marker": {
             "colorbar": {
              "outlinewidth": 0,
              "ticks": ""
             }
            },
            "type": "scatterpolar"
           }
          ],
          "scatterpolargl": [
           {
            "marker": {
             "colorbar": {
              "outlinewidth": 0,
              "ticks": ""
             }
            },
            "type": "scatterpolargl"
           }
          ],
          "scatterternary": [
           {
            "marker": {
             "colorbar": {
              "outlinewidth": 0,
              "ticks": ""
             }
            },
            "type": "scatterternary"
           }
          ],
          "surface": [
           {
            "colorbar": {
             "outlinewidth": 0,
             "ticks": ""
            },
            "colorscale": [
             [
              0,
              "#0d0887"
             ],
             [
              0.1111111111111111,
              "#46039f"
             ],
             [
              0.2222222222222222,
              "#7201a8"
             ],
             [
              0.3333333333333333,
              "#9c179e"
             ],
             [
              0.4444444444444444,
              "#bd3786"
             ],
             [
              0.5555555555555556,
              "#d8576b"
             ],
             [
              0.6666666666666666,
              "#ed7953"
             ],
             [
              0.7777777777777778,
              "#fb9f3a"
             ],
             [
              0.8888888888888888,
              "#fdca26"
             ],
             [
              1,
              "#f0f921"
             ]
            ],
            "type": "surface"
           }
          ],
          "table": [
           {
            "cells": {
             "fill": {
              "color": "#EBF0F8"
             },
             "line": {
              "color": "white"
             }
            },
            "header": {
             "fill": {
              "color": "#C8D4E3"
             },
             "line": {
              "color": "white"
             }
            },
            "type": "table"
           }
          ]
         },
         "layout": {
          "annotationdefaults": {
           "arrowcolor": "#2a3f5f",
           "arrowhead": 0,
           "arrowwidth": 1
          },
          "autotypenumbers": "strict",
          "coloraxis": {
           "colorbar": {
            "outlinewidth": 0,
            "ticks": ""
           }
          },
          "colorscale": {
           "diverging": [
            [
             0,
             "#8e0152"
            ],
            [
             0.1,
             "#c51b7d"
            ],
            [
             0.2,
             "#de77ae"
            ],
            [
             0.3,
             "#f1b6da"
            ],
            [
             0.4,
             "#fde0ef"
            ],
            [
             0.5,
             "#f7f7f7"
            ],
            [
             0.6,
             "#e6f5d0"
            ],
            [
             0.7,
             "#b8e186"
            ],
            [
             0.8,
             "#7fbc41"
            ],
            [
             0.9,
             "#4d9221"
            ],
            [
             1,
             "#276419"
            ]
           ],
           "sequential": [
            [
             0,
             "#0d0887"
            ],
            [
             0.1111111111111111,
             "#46039f"
            ],
            [
             0.2222222222222222,
             "#7201a8"
            ],
            [
             0.3333333333333333,
             "#9c179e"
            ],
            [
             0.4444444444444444,
             "#bd3786"
            ],
            [
             0.5555555555555556,
             "#d8576b"
            ],
            [
             0.6666666666666666,
             "#ed7953"
            ],
            [
             0.7777777777777778,
             "#fb9f3a"
            ],
            [
             0.8888888888888888,
             "#fdca26"
            ],
            [
             1,
             "#f0f921"
            ]
           ],
           "sequentialminus": [
            [
             0,
             "#0d0887"
            ],
            [
             0.1111111111111111,
             "#46039f"
            ],
            [
             0.2222222222222222,
             "#7201a8"
            ],
            [
             0.3333333333333333,
             "#9c179e"
            ],
            [
             0.4444444444444444,
             "#bd3786"
            ],
            [
             0.5555555555555556,
             "#d8576b"
            ],
            [
             0.6666666666666666,
             "#ed7953"
            ],
            [
             0.7777777777777778,
             "#fb9f3a"
            ],
            [
             0.8888888888888888,
             "#fdca26"
            ],
            [
             1,
             "#f0f921"
            ]
           ]
          },
          "colorway": [
           "#636efa",
           "#EF553B",
           "#00cc96",
           "#ab63fa",
           "#FFA15A",
           "#19d3f3",
           "#FF6692",
           "#B6E880",
           "#FF97FF",
           "#FECB52"
          ],
          "font": {
           "color": "#2a3f5f"
          },
          "geo": {
           "bgcolor": "white",
           "lakecolor": "white",
           "landcolor": "#E5ECF6",
           "showlakes": true,
           "showland": true,
           "subunitcolor": "white"
          },
          "hoverlabel": {
           "align": "left"
          },
          "hovermode": "closest",
          "mapbox": {
           "style": "light"
          },
          "paper_bgcolor": "white",
          "plot_bgcolor": "#E5ECF6",
          "polar": {
           "angularaxis": {
            "gridcolor": "white",
            "linecolor": "white",
            "ticks": ""
           },
           "bgcolor": "#E5ECF6",
           "radialaxis": {
            "gridcolor": "white",
            "linecolor": "white",
            "ticks": ""
           }
          },
          "scene": {
           "xaxis": {
            "backgroundcolor": "#E5ECF6",
            "gridcolor": "white",
            "gridwidth": 2,
            "linecolor": "white",
            "showbackground": true,
            "ticks": "",
            "zerolinecolor": "white"
           },
           "yaxis": {
            "backgroundcolor": "#E5ECF6",
            "gridcolor": "white",
            "gridwidth": 2,
            "linecolor": "white",
            "showbackground": true,
            "ticks": "",
            "zerolinecolor": "white"
           },
           "zaxis": {
            "backgroundcolor": "#E5ECF6",
            "gridcolor": "white",
            "gridwidth": 2,
            "linecolor": "white",
            "showbackground": true,
            "ticks": "",
            "zerolinecolor": "white"
           }
          },
          "shapedefaults": {
           "line": {
            "color": "#2a3f5f"
           }
          },
          "ternary": {
           "aaxis": {
            "gridcolor": "white",
            "linecolor": "white",
            "ticks": ""
           },
           "baxis": {
            "gridcolor": "white",
            "linecolor": "white",
            "ticks": ""
           },
           "bgcolor": "#E5ECF6",
           "caxis": {
            "gridcolor": "white",
            "linecolor": "white",
            "ticks": ""
           }
          },
          "title": {
           "x": 0.05
          },
          "xaxis": {
           "automargin": true,
           "gridcolor": "white",
           "linecolor": "white",
           "ticks": "",
           "title": {
            "standoff": 15
           },
           "zerolinecolor": "white",
           "zerolinewidth": 2
          },
          "yaxis": {
           "automargin": true,
           "gridcolor": "white",
           "linecolor": "white",
           "ticks": "",
           "title": {
            "standoff": 15
           },
           "zerolinecolor": "white",
           "zerolinewidth": 2
          }
         }
        },
        "title": {
         "text": "Os 10 clientes que mais gastam"
        },
        "xaxis": {
         "anchor": "y",
         "domain": [
          0,
          1
         ],
         "title": {
          "text": "Nome do cliente"
         }
        },
        "yaxis": {
         "anchor": "x",
         "domain": [
          0,
          1
         ],
         "title": {
          "text": "Total da compra do produto"
         }
        }
       }
      },
      "text/html": [
       "<div>                            <div id=\"9a53df6d-01a5-4dc2-a44b-eb76126470c7\" class=\"plotly-graph-div\" style=\"height:525px; width:100%;\"></div>            <script type=\"text/javascript\">                require([\"plotly\"], function(Plotly) {                    window.PLOTLYENV=window.PLOTLYENV || {};                                    if (document.getElementById(\"9a53df6d-01a5-4dc2-a44b-eb76126470c7\")) {                    Plotly.newPlot(                        \"9a53df6d-01a5-4dc2-a44b-eb76126470c7\",                        [{\"alignmentgroup\":\"True\",\"customdata\":[[\"couve-flor\",\"2021-11-09\",5.48],[\"feij\\u00e3o\",\"2021-11-09\",8.45],[\"melancia\",\"2021-11-09\",15.99],[\"berinjela\",\"2021-11-09\",11.99],[\"alface\",\"2021-11-01\",0.98],[\"melancia\",\"2021-11-01\",15.99],[\"arroz\",\"2021-11-01\",4.31],[\"macarr\\u00e3o\",\"2021-11-01\",2.48],[\"batata\",\"2021-11-10\",3.99],[\"batata\",\"2021-11-10\",3.99],[\"banana\",\"2021-11-10\",5.99],[\"batata\",\"2021-11-14\",3.99],[\"arroz\",\"2021-11-14\",4.31],[\"banana\",\"2021-11-29\",5.99],[\"abobrinha\",\"2021-11-05\",3.49],[\"morango\",\"2021-11-01\",7.99],[\"arroz\",\"2021-11-01\",4.31],[\"feij\\u00e3o\",\"2021-11-11\",8.45],[\"melancia\",\"2021-11-11\",15.99],[\"berinjela\",\"2021-11-11\",11.99],[\"arroz\",\"2021-11-11\",4.31],[\"melancia\",\"2021-11-05\",15.99],[\"morango\",\"2021-11-05\",7.99],[\"feij\\u00e3o\",\"2021-11-14\",8.45],[\"couve-flor\",\"2021-11-14\",5.48],[\"melancia\",\"2021-11-14\",15.99],[\"berinjela\",\"2021-11-14\",11.99],[\"berinjela\",\"2021-11-14\",11.99],[\"couve-flor\",\"2021-11-07\",5.48],[\"macarr\\u00e3o\",\"2021-11-07\",2.48],[\"feij\\u00e3o\",\"2021-11-01\",8.45],[\"melancia\",\"2021-11-01\",15.99],[\"berinjela\",\"2021-11-01\",11.99],[\"arroz\",\"2021-11-01\",4.31],[\"morango\",\"2021-11-22\",7.99],[\"abobrinha\",\"2021-11-18\",3.49],[\"batata\",\"2021-11-12\",3.99],[\"morango\",\"2021-11-12\",7.99],[\"arroz\",\"2021-11-12\",4.31],[\"uva\",\"2021-11-12\",7.47],[\"alface\",\"2021-11-13\",0.98],[\"berinjela\",\"2021-11-13\",11.99],[\"uva\",\"2021-11-13\",7.47],[\"uva\",\"2021-11-13\",7.47],[\"macarr\\u00e3o\",\"2021-11-13\",2.48],[\"feij\\u00e3o\",\"2021-11-12\",8.45],[\"batata\",\"2021-11-12\",3.99],[\"berinjela\",\"2021-11-12\",11.99],[\"arroz\",\"2021-11-12\",4.31],[\"feij\\u00e3o\",\"2021-11-10\",8.45],[\"feij\\u00e3o\",\"2021-11-10\",8.45],[\"feij\\u00e3o\",\"2021-11-10\",8.45],[\"arroz\",\"2021-11-10\",4.31],[\"uva\",\"2021-11-10\",7.47],[\"banana\",\"2021-11-10\",5.99],[\"banana\",\"2021-11-10\",5.99],[\"feij\\u00e3o\",\"2021-11-05\",8.45],[\"morango\",\"2021-11-05\",7.99],[\"morango\",\"2021-11-05\",7.99],[\"melancia\",\"2021-11-10\",15.99],[\"berinjela\",\"2021-11-10\",11.99],[\"macarr\\u00e3o\",\"2021-11-10\",2.48],[\"feij\\u00e3o\",\"2021-11-01\",8.45],[\"melancia\",\"2021-11-01\",15.99],[\"melancia\",\"2021-11-01\",15.99],[\"batata\",\"2021-11-01\",3.99],[\"berinjela\",\"2021-11-01\",11.99],[\"morango\",\"2021-11-01\",7.99],[\"uva\",\"2021-11-01\",7.47],[\"macarr\\u00e3o\",\"2021-11-01\",2.48],[\"abobrinha\",\"2021-11-01\",3.49],[\"melancia\",\"2021-11-08\",15.99],[\"arroz\",\"2021-11-08\",4.31],[\"macarr\\u00e3o\",\"2021-11-08\",2.48],[\"banana\",\"2021-11-08\",5.99],[\"arroz\",\"2021-11-09\",4.31],[\"uva\",\"2021-11-09\",7.47],[\"macarr\\u00e3o\",\"2021-11-09\",2.48],[\"couve-flor\",\"2021-11-05\",5.48],[\"feij\\u00e3o\",\"2021-11-05\",8.45],[\"berinjela\",\"2021-11-05\",11.99],[\"abobrinha\",\"2021-11-05\",3.49],[\"feij\\u00e3o\",\"2021-11-05\",8.45],[\"berinjela\",\"2021-11-05\",11.99],[\"melancia\",\"2021-11-24\",15.99],[\"couve-flor\",\"2021-11-11\",5.48],[\"morango\",\"2021-11-11\",7.99],[\"macarr\\u00e3o\",\"2021-11-11\",2.48],[\"banana\",\"2021-11-11\",5.99],[\"batata\",\"2021-11-05\",3.99],[\"uva\",\"2021-11-05\",7.47],[\"uva\",\"2021-11-05\",7.47],[\"alface\",\"2021-11-14\",0.98],[\"melancia\",\"2021-11-14\",15.99],[\"melancia\",\"2021-11-14\",15.99],[\"batata\",\"2021-11-14\",3.99],[\"morango\",\"2021-11-14\",7.99],[\"arroz\",\"2021-11-14\",4.31],[\"batata\",\"2021-11-17\",3.99],[\"macarr\\u00e3o\",\"2021-11-20\",2.48],[\"morango\",\"2021-11-10\",7.99],[\"uva\",\"2021-11-10\",7.47],[\"melancia\",\"2021-11-06\",15.99],[\"berinjela\",\"2021-11-06\",11.99],[\"abobrinha\",\"2021-11-06\",3.49],[\"couve-flor\",\"2021-11-08\",5.48],[\"alface\",\"2021-11-08\",0.98],[\"arroz\",\"2021-11-08\",4.31],[\"banana\",\"2021-11-08\",5.99],[\"abobrinha\",\"2021-11-08\",3.49],[\"alface\",\"2021-11-04\",0.98],[\"feij\\u00e3o\",\"2021-11-04\",8.45],[\"batata\",\"2021-11-04\",3.99],[\"morango\",\"2021-11-04\",7.99],[\"melancia\",\"2021-11-13\",15.99],[\"berinjela\",\"2021-11-13\",11.99],[\"alface\",\"2021-11-02\",0.98],[\"morango\",\"2021-11-02\",7.99],[\"feij\\u00e3o\",\"2021-11-08\",8.45],[\"batata\",\"2021-11-04\",3.99],[\"arroz\",\"2021-11-04\",4.31]],\"hovertemplate\":\"Se\\u00e7\\u00e3o=Alimentos em Geral<br>Nome do cliente=%{x}<br>Total da compra do produto=%{y}<br>Produto=%{customdata[0]}<br>Data=%{customdata[1]}<br>Pre\\u00e7o do produto=%{customdata[2]}<extra></extra>\",\"legendgroup\":\"Alimentos em Geral\",\"marker\":{\"color\":\"#636efa\",\"pattern\":{\"shape\":\"\"}},\"name\":\"Alimentos em Geral\",\"offsetgroup\":\"Alimentos em Geral\",\"orientation\":\"v\",\"showlegend\":true,\"textposition\":\"auto\",\"type\":\"bar\",\"x\":[\"Dr. Vicente Monteiro\",\"Dr. Vicente Monteiro\",\"Dr. Vicente Monteiro\",\"Dr. Vicente Monteiro\",\"Dr. Vicente Monteiro\",\"Dr. Vicente Monteiro\",\"Dr. Vicente Monteiro\",\"Dr. Vicente Monteiro\",\"Dr. Vicente Monteiro\",\"Dr. Vicente Monteiro\",\"Dr. Vicente Monteiro\",\"Dr. Vicente Monteiro\",\"Dr. Vicente Monteiro\",\"Dr. Vicente Monteiro\",\"Ben\\u00edcio da Rosa\",\"Ben\\u00edcio da Rosa\",\"Ben\\u00edcio da Rosa\",\"Ben\\u00edcio da Rosa\",\"Ben\\u00edcio da Rosa\",\"Ben\\u00edcio da Rosa\",\"Ben\\u00edcio da Rosa\",\"Ben\\u00edcio da Rosa\",\"Ben\\u00edcio da Rosa\",\"Ben\\u00edcio da Rosa\",\"Carolina Vieira\",\"Carolina Vieira\",\"Carolina Vieira\",\"Carolina Vieira\",\"Carolina Vieira\",\"Carolina Vieira\",\"Carolina Vieira\",\"Carolina Vieira\",\"Carolina Vieira\",\"Carolina Vieira\",\"Carolina Vieira\",\"Carolina Vieira\",\"Sr. Enzo Gabriel Novaes\",\"Sr. Enzo Gabriel Novaes\",\"Sr. Enzo Gabriel Novaes\",\"Sr. Enzo Gabriel Novaes\",\"Sr. Enzo Gabriel Novaes\",\"Sr. Enzo Gabriel Novaes\",\"Sr. Enzo Gabriel Novaes\",\"Sr. Enzo Gabriel Novaes\",\"Sr. Enzo Gabriel Novaes\",\"Sr. Enzo Gabriel Novaes\",\"Sr. Enzo Gabriel Novaes\",\"Sr. Enzo Gabriel Novaes\",\"Sr. Enzo Gabriel Novaes\",\"Sr. Enzo Gabriel Novaes\",\"Sr. Enzo Gabriel Novaes\",\"Sr. Enzo Gabriel Novaes\",\"Sr. Enzo Gabriel Novaes\",\"Sr. Enzo Gabriel Novaes\",\"Sr. Enzo Gabriel Novaes\",\"Sr. Enzo Gabriel Novaes\",\"Sr. Enzo Gabriel Novaes\",\"Sr. Enzo Gabriel Novaes\",\"Sr. Enzo Gabriel Novaes\",\"Manuela Moraes\",\"Manuela Moraes\",\"Manuela Moraes\",\"Manuela Moraes\",\"Manuela Moraes\",\"Manuela Moraes\",\"Manuela Moraes\",\"Manuela Moraes\",\"Manuela Moraes\",\"Manuela Moraes\",\"Manuela Moraes\",\"Manuela Moraes\",\"Manuela Moraes\",\"Manuela Moraes\",\"Manuela Moraes\",\"Manuela Moraes\",\"Manuela Moraes\",\"Manuela Moraes\",\"Manuela Moraes\",\"Matheus da Luz\",\"Matheus da Luz\",\"Matheus da Luz\",\"Matheus da Luz\",\"Matheus da Luz\",\"Matheus da Luz\",\"Matheus da Luz\",\"Sra. Maria Sophia Correia\",\"Sra. Maria Sophia Correia\",\"Sra. Maria Sophia Correia\",\"Sra. Maria Sophia Correia\",\"Sra. Maria Sophia Correia\",\"Sra. Maria Sophia Correia\",\"Sra. Maria Sophia Correia\",\"Sra. Maria Sophia Correia\",\"Sra. Maria Sophia Correia\",\"Sra. Maria Sophia Correia\",\"Sra. Maria Sophia Correia\",\"Sra. Maria Sophia Correia\",\"Sra. Maria Sophia Correia\",\"Sra. Maria Sophia Correia\",\"Sra. Maria Sophia Correia\",\"Alana Pinto\",\"Alana Pinto\",\"Alana Pinto\",\"Alana Pinto\",\"Alana Pinto\",\"Luiz Henrique Pereira\",\"Luiz Henrique Pereira\",\"Luiz Henrique Pereira\",\"Luiz Henrique Pereira\",\"Luiz Henrique Pereira\",\"Luiz Henrique Pereira\",\"Luiz Henrique Pereira\",\"Luiz Henrique Pereira\",\"Luiz Henrique Pereira\",\"Luiz Henrique Pereira\",\"Luiz Henrique Pereira\",\"Ana Vit\\u00f3ria Ara\\u00fajo\",\"Ana Vit\\u00f3ria Ara\\u00fajo\",\"Ana Vit\\u00f3ria Ara\\u00fajo\",\"Ana Vit\\u00f3ria Ara\\u00fajo\",\"Ana Vit\\u00f3ria Ara\\u00fajo\"],\"xaxis\":\"x\",\"y\":[10.96,8.45,15.99,35.97,1.96,47.97,4.31,4.96,11.97,11.97,5.99,3.99,12.93,11.98,6.98,31.96,17.24,8.45,47.97,11.99,8.62,31.98,23.97,33.8,10.96,15.99,47.96,35.97,16.44,7.4399999999999995,8.45,31.98,47.96,12.93,15.98,3.49,11.97,7.99,12.93,14.94,0.98,35.97,14.94,29.88,9.92,8.45,15.96,11.99,8.62,33.8,16.9,8.45,12.93,7.47,17.97,23.96,8.45,7.99,15.98,15.99,47.96,4.96,33.8,47.97,15.99,11.97,35.97,23.97,29.88,4.96,10.47,47.97,17.24,9.92,11.98,4.31,7.47,9.92,21.92,8.45,35.97,10.47,8.45,35.97,31.98,21.92,23.97,4.96,5.99,3.99,22.41,14.94,2.94,47.97,15.99,11.97,23.97,8.62,15.96,2.48,15.98,22.41,63.96,11.99,6.98,5.48,1.96,4.31,11.98,10.47,3.92,8.45,11.97,23.97,15.99,47.96,3.92,31.96,16.9,11.97,17.24],\"yaxis\":\"y\"},{\"alignmentgroup\":\"True\",\"customdata\":[[\"p\\u00e3o de forma\",\"2021-11-09\",6.99],[\"pastel\",\"2021-11-09\",4.99],[\"sandu\\u00edche\",\"2021-11-09\",12.99],[\"pastel\",\"2021-11-01\",4.99],[\"bolo\",\"2021-11-01\",35.0],[\"sonho\",\"2021-11-10\",3.49],[\"pastel\",\"2021-11-10\",4.99],[\"torta\",\"2021-11-10\",45.0],[\"bolo\",\"2021-11-10\",35.0],[\"bolo\",\"2021-11-10\",35.0],[\"bolo\",\"2021-11-10\",35.0],[\"pastel\",\"2021-11-01\",4.99],[\"sonho\",\"2021-11-11\",3.49],[\"sandu\\u00edche\",\"2021-11-11\",12.99],[\"p\\u00e3o franc\\u00eas\",\"2021-11-14\",10.99],[\"bolo\",\"2021-11-14\",35.0],[\"sonho\",\"2021-11-14\",3.49],[\"torta\",\"2021-11-14\",45.0],[\"pastel\",\"2021-11-07\",4.99],[\"p\\u00e3o de queijo\",\"2021-11-07\",23.99],[\"sandu\\u00edche\",\"2021-11-07\",12.99],[\"sonho\",\"2021-11-01\",3.49],[\"bolo\",\"2021-11-01\",35.0],[\"p\\u00e3o de forma\",\"2021-11-12\",6.99],[\"sandu\\u00edche\",\"2021-11-12\",12.99],[\"torta\",\"2021-11-12\",45.0],[\"p\\u00e3o de forma\",\"2021-11-13\",6.99],[\"sonho\",\"2021-11-13\",3.49],[\"p\\u00e3o de queijo\",\"2021-11-13\",23.99],[\"p\\u00e3o franc\\u00eas\",\"2021-11-12\",10.99],[\"p\\u00e3o de queijo\",\"2021-11-10\",23.99],[\"pastel\",\"2021-11-05\",4.99],[\"torta\",\"2021-11-05\",45.0],[\"p\\u00e3o de forma\",\"2021-11-10\",6.99],[\"p\\u00e3o de forma\",\"2021-11-01\",6.99],[\"sonho\",\"2021-11-01\",3.49],[\"pastel\",\"2021-11-01\",4.99],[\"p\\u00e3o franc\\u00eas\",\"2021-11-01\",10.99],[\"p\\u00e3o de queijo\",\"2021-11-01\",23.99],[\"p\\u00e3o de forma\",\"2021-11-08\",6.99],[\"sandu\\u00edche\",\"2021-11-08\",12.99],[\"sandu\\u00edche\",\"2021-11-08\",12.99],[\"sonho\",\"2021-11-09\",3.49],[\"p\\u00e3o de queijo\",\"2021-11-09\",23.99],[\"pastel\",\"2021-11-05\",4.99],[\"torta\",\"2021-11-05\",45.0],[\"p\\u00e3o franc\\u00eas\",\"2021-11-26\",10.99],[\"torta\",\"2021-11-27\",45.0],[\"p\\u00e3o de queijo\",\"2021-11-11\",23.99],[\"bolo\",\"2021-11-11\",35.0],[\"p\\u00e3o de forma\",\"2021-11-05\",6.99],[\"pastel\",\"2021-11-05\",4.99],[\"sandu\\u00edche\",\"2021-11-05\",12.99],[\"sandu\\u00edche\",\"2021-11-05\",12.99],[\"torta\",\"2021-11-05\",45.0],[\"bolo\",\"2021-11-05\",35.0],[\"p\\u00e3o franc\\u00eas\",\"2021-11-14\",10.99],[\"torta\",\"2021-11-10\",45.0],[\"p\\u00e3o franc\\u00eas\",\"2021-11-06\",10.99],[\"sandu\\u00edche\",\"2021-11-06\",12.99],[\"p\\u00e3o de queijo\",\"2021-11-08\",23.99],[\"p\\u00e3o de queijo\",\"2021-11-08\",23.99],[\"torta\",\"2021-11-08\",45.0],[\"bolo\",\"2021-11-08\",35.0],[\"p\\u00e3o de forma\",\"2021-11-04\",6.99],[\"sonho\",\"2021-11-04\",3.49],[\"pastel\",\"2021-11-04\",4.99],[\"p\\u00e3o de queijo\",\"2021-11-13\",23.99],[\"torta\",\"2021-11-13\",45.0],[\"bolo\",\"2021-11-27\",35.0],[\"sandu\\u00edche\",\"2021-11-02\",12.99],[\"p\\u00e3o franc\\u00eas\",\"2021-11-08\",10.99],[\"sonho\",\"2021-11-04\",3.49],[\"pastel\",\"2021-11-04\",4.99],[\"p\\u00e3o franc\\u00eas\",\"2021-11-04\",10.99],[\"sandu\\u00edche\",\"2021-11-04\",12.99],[\"sandu\\u00edche\",\"2021-11-29\",12.99]],\"hovertemplate\":\"Se\\u00e7\\u00e3o=Padaria<br>Nome do cliente=%{x}<br>Total da compra do produto=%{y}<br>Produto=%{customdata[0]}<br>Data=%{customdata[1]}<br>Pre\\u00e7o do produto=%{customdata[2]}<extra></extra>\",\"legendgroup\":\"Padaria\",\"marker\":{\"color\":\"#EF553B\",\"pattern\":{\"shape\":\"\"}},\"name\":\"Padaria\",\"offsetgroup\":\"Padaria\",\"orientation\":\"v\",\"showlegend\":true,\"textposition\":\"auto\",\"type\":\"bar\",\"x\":[\"Dr. Vicente Monteiro\",\"Dr. Vicente Monteiro\",\"Dr. Vicente Monteiro\",\"Dr. Vicente Monteiro\",\"Dr. Vicente Monteiro\",\"Dr. Vicente Monteiro\",\"Dr. Vicente Monteiro\",\"Dr. Vicente Monteiro\",\"Dr. Vicente Monteiro\",\"Dr. Vicente Monteiro\",\"Dr. Vicente Monteiro\",\"Ben\\u00edcio da Rosa\",\"Ben\\u00edcio da Rosa\",\"Ben\\u00edcio da Rosa\",\"Ben\\u00edcio da Rosa\",\"Ben\\u00edcio da Rosa\",\"Carolina Vieira\",\"Carolina Vieira\",\"Carolina Vieira\",\"Carolina Vieira\",\"Carolina Vieira\",\"Carolina Vieira\",\"Carolina Vieira\",\"Sr. Enzo Gabriel Novaes\",\"Sr. Enzo Gabriel Novaes\",\"Sr. Enzo Gabriel Novaes\",\"Sr. Enzo Gabriel Novaes\",\"Sr. Enzo Gabriel Novaes\",\"Sr. Enzo Gabriel Novaes\",\"Sr. Enzo Gabriel Novaes\",\"Sr. Enzo Gabriel Novaes\",\"Sr. Enzo Gabriel Novaes\",\"Sr. Enzo Gabriel Novaes\",\"Manuela Moraes\",\"Manuela Moraes\",\"Manuela Moraes\",\"Manuela Moraes\",\"Manuela Moraes\",\"Manuela Moraes\",\"Manuela Moraes\",\"Manuela Moraes\",\"Manuela Moraes\",\"Manuela Moraes\",\"Manuela Moraes\",\"Matheus da Luz\",\"Matheus da Luz\",\"Matheus da Luz\",\"Matheus da Luz\",\"Sra. Maria Sophia Correia\",\"Sra. Maria Sophia Correia\",\"Sra. Maria Sophia Correia\",\"Sra. Maria Sophia Correia\",\"Sra. Maria Sophia Correia\",\"Sra. Maria Sophia Correia\",\"Sra. Maria Sophia Correia\",\"Sra. Maria Sophia Correia\",\"Sra. Maria Sophia Correia\",\"Alana Pinto\",\"Alana Pinto\",\"Alana Pinto\",\"Luiz Henrique Pereira\",\"Luiz Henrique Pereira\",\"Luiz Henrique Pereira\",\"Luiz Henrique Pereira\",\"Luiz Henrique Pereira\",\"Luiz Henrique Pereira\",\"Luiz Henrique Pereira\",\"Luiz Henrique Pereira\",\"Luiz Henrique Pereira\",\"Luiz Henrique Pereira\",\"Ana Vit\\u00f3ria Ara\\u00fajo\",\"Ana Vit\\u00f3ria Ara\\u00fajo\",\"Ana Vit\\u00f3ria Ara\\u00fajo\",\"Ana Vit\\u00f3ria Ara\\u00fajo\",\"Ana Vit\\u00f3ria Ara\\u00fajo\",\"Ana Vit\\u00f3ria Ara\\u00fajo\",\"Ana Vit\\u00f3ria Ara\\u00fajo\"],\"xaxis\":\"x\",\"y\":[13.98,9.98,51.96,14.97,105.0,3.49,4.99,90.0,140.0,70.0,35.0,4.99,10.47,25.98,21.98,70.0,13.96,90.0,4.99,95.96,12.99,3.49,140.0,20.97,25.98,180.0,27.96,10.47,23.99,10.99,23.99,9.98,90.0,13.98,6.99,6.98,9.98,10.99,23.99,13.98,25.98,38.97,10.47,23.99,9.98,135.0,43.96,45.0,71.97,105.0,13.98,9.98,38.97,12.99,135.0,35.0,43.96,180.0,21.98,38.97,71.97,47.98,45.0,105.0,20.97,13.96,14.97,71.97,45.0,35.0,38.97,21.98,6.98,9.98,21.98,51.96,51.96],\"yaxis\":\"y\"},{\"alignmentgroup\":\"True\",\"customdata\":[[\"amaciante\",\"2021-11-09\",6.7],[\"detergente\",\"2021-11-09\",2.7],[\"\\u00e1gua sanit\\u00e1ria\",\"2021-11-09\",11.98],[\"flanela\",\"2021-11-01\",1.99],[\"flanela\",\"2021-11-01\",1.99],[\"\\u00e1gua sanit\\u00e1ria\",\"2021-11-01\",11.98],[\"sabonete\",\"2021-11-01\",1.29],[\"amaciante\",\"2021-11-10\",6.7],[\"flanela\",\"2021-11-10\",1.99],[\"amaciante\",\"2021-11-14\",6.7],[\"\\u00e1gua sanit\\u00e1ria\",\"2021-11-14\",11.98],[\"sabonete\",\"2021-11-14\",1.29],[\"odorizador\",\"2021-11-14\",23.99],[\"odorizador\",\"2021-11-05\",23.99],[\"flanela\",\"2021-11-01\",1.99],[\"rodo\",\"2021-11-01\",5.99],[\"sab\\u00e3o em p\\u00f3\",\"2021-11-01\",9.69],[\"sab\\u00e3o em p\\u00f3\",\"2021-11-01\",9.69],[\"flanela\",\"2021-11-11\",1.99],[\"odorizador\",\"2021-11-11\",23.99],[\"odorizador\",\"2021-11-11\",23.99],[\"sab\\u00e3o em p\\u00f3\",\"2021-11-14\",9.69],[\"\\u00e1gua sanit\\u00e1ria\",\"2021-11-14\",11.98],[\"amaciante\",\"2021-11-14\",6.7],[\"rodo\",\"2021-11-14\",5.99],[\"\\u00e1gua sanit\\u00e1ria\",\"2021-11-14\",11.98],[\"\\u00e1gua sanit\\u00e1ria\",\"2021-11-14\",11.98],[\"flanela\",\"2021-11-07\",1.99],[\"rodo\",\"2021-11-07\",5.99],[\"detergente\",\"2021-11-07\",2.7],[\"odorizador\",\"2021-11-07\",23.99],[\"odorizador\",\"2021-11-01\",23.99],[\"rodo\",\"2021-11-12\",5.99],[\"detergente\",\"2021-11-12\",2.7],[\"flanela\",\"2021-11-13\",1.99],[\"amaciante\",\"2021-11-12\",6.7],[\"amaciante\",\"2021-11-12\",6.7],[\"rodo\",\"2021-11-12\",5.99],[\"\\u00e1gua sanit\\u00e1ria\",\"2021-11-12\",11.98],[\"odorizador\",\"2021-11-12\",23.99],[\"amaciante\",\"2021-11-10\",6.7],[\"flanela\",\"2021-11-23\",1.99],[\"detergente\",\"2021-11-05\",2.7],[\"rodo\",\"2021-11-16\",5.99],[\"flanela\",\"2021-11-10\",1.99],[\"flanela\",\"2021-11-10\",1.99],[\"rodo\",\"2021-11-10\",5.99],[\"sab\\u00e3o em p\\u00f3\",\"2021-11-10\",9.69],[\"\\u00e1gua sanit\\u00e1ria\",\"2021-11-10\",11.98],[\"amaciante\",\"2021-11-01\",6.7],[\"\\u00e1gua sanit\\u00e1ria\",\"2021-11-01\",11.98],[\"odorizador\",\"2021-11-01\",23.99],[\"amaciante\",\"2021-11-08\",6.7],[\"odorizador\",\"2021-11-09\",23.99],[\"flanela\",\"2021-11-16\",1.99],[\"rodo\",\"2021-11-05\",5.99],[\"odorizador\",\"2021-11-05\",23.99],[\"odorizador\",\"2021-11-05\",23.99],[\"flanela\",\"2021-11-05\",1.99],[\"odorizador\",\"2021-11-05\",23.99],[\"\\u00e1gua sanit\\u00e1ria\",\"2021-11-11\",11.98],[\"amaciante\",\"2021-11-05\",6.7],[\"flanela\",\"2021-11-05\",1.99],[\"rodo\",\"2021-11-05\",5.99],[\"detergente\",\"2021-11-05\",2.7],[\"detergente\",\"2021-11-05\",2.7],[\"sabonete\",\"2021-11-05\",1.29],[\"sabonete\",\"2021-11-05\",1.29],[\"odorizador\",\"2021-11-05\",23.99],[\"amaciante\",\"2021-11-14\",6.7],[\"rodo\",\"2021-11-14\",5.99],[\"flanela\",\"2021-11-10\",1.99],[\"rodo\",\"2021-11-10\",5.99],[\"sabonete\",\"2021-11-10\",1.29],[\"sabonete\",\"2021-11-10\",1.29],[\"amaciante\",\"2021-11-08\",6.7],[\"\\u00e1gua sanit\\u00e1ria\",\"2021-11-08\",11.98],[\"odorizador\",\"2021-11-08\",23.99],[\"flanela\",\"2021-11-04\",1.99],[\"sab\\u00e3o em p\\u00f3\",\"2021-11-04\",9.69],[\"sabonete\",\"2021-11-04\",1.29],[\"amaciante\",\"2021-11-13\",6.7],[\"sab\\u00e3o em p\\u00f3\",\"2021-11-13\",9.69],[\"\\u00e1gua sanit\\u00e1ria\",\"2021-11-13\",11.98],[\"\\u00e1gua sanit\\u00e1ria\",\"2021-11-13\",11.98],[\"odorizador\",\"2021-11-13\",23.99],[\"detergente\",\"2021-11-02\",2.7],[\"sab\\u00e3o em p\\u00f3\",\"2021-11-02\",9.69],[\"sab\\u00e3o em p\\u00f3\",\"2021-11-02\",9.69],[\"sab\\u00e3o em p\\u00f3\",\"2021-11-02\",9.69],[\"rodo\",\"2021-11-08\",5.99],[\"\\u00e1gua sanit\\u00e1ria\",\"2021-11-08\",11.98],[\"sab\\u00e3o em p\\u00f3\",\"2021-11-04\",9.69],[\"\\u00e1gua sanit\\u00e1ria\",\"2021-11-04\",11.98]],\"hovertemplate\":\"Se\\u00e7\\u00e3o=Produtos de Limpeza<br>Nome do cliente=%{x}<br>Total da compra do produto=%{y}<br>Produto=%{customdata[0]}<br>Data=%{customdata[1]}<br>Pre\\u00e7o do produto=%{customdata[2]}<extra></extra>\",\"legendgroup\":\"Produtos de Limpeza\",\"marker\":{\"color\":\"#00cc96\",\"pattern\":{\"shape\":\"\"}},\"name\":\"Produtos de Limpeza\",\"offsetgroup\":\"Produtos de Limpeza\",\"orientation\":\"v\",\"showlegend\":true,\"textposition\":\"auto\",\"type\":\"bar\",\"x\":[\"Dr. Vicente Monteiro\",\"Dr. Vicente Monteiro\",\"Dr. Vicente Monteiro\",\"Dr. Vicente Monteiro\",\"Dr. Vicente Monteiro\",\"Dr. Vicente Monteiro\",\"Dr. Vicente Monteiro\",\"Dr. Vicente Monteiro\",\"Dr. Vicente Monteiro\",\"Dr. Vicente Monteiro\",\"Dr. Vicente Monteiro\",\"Dr. Vicente Monteiro\",\"Dr. Vicente Monteiro\",\"Ben\\u00edcio da Rosa\",\"Ben\\u00edcio da Rosa\",\"Ben\\u00edcio da Rosa\",\"Ben\\u00edcio da Rosa\",\"Ben\\u00edcio da Rosa\",\"Ben\\u00edcio da Rosa\",\"Ben\\u00edcio da Rosa\",\"Ben\\u00edcio da Rosa\",\"Ben\\u00edcio da Rosa\",\"Ben\\u00edcio da Rosa\",\"Carolina Vieira\",\"Carolina Vieira\",\"Carolina Vieira\",\"Carolina Vieira\",\"Carolina Vieira\",\"Carolina Vieira\",\"Carolina Vieira\",\"Carolina Vieira\",\"Carolina Vieira\",\"Sr. Enzo Gabriel Novaes\",\"Sr. Enzo Gabriel Novaes\",\"Sr. Enzo Gabriel Novaes\",\"Sr. Enzo Gabriel Novaes\",\"Sr. Enzo Gabriel Novaes\",\"Sr. Enzo Gabriel Novaes\",\"Sr. Enzo Gabriel Novaes\",\"Sr. Enzo Gabriel Novaes\",\"Sr. Enzo Gabriel Novaes\",\"Sr. Enzo Gabriel Novaes\",\"Sr. Enzo Gabriel Novaes\",\"Sr. Enzo Gabriel Novaes\",\"Manuela Moraes\",\"Manuela Moraes\",\"Manuela Moraes\",\"Manuela Moraes\",\"Manuela Moraes\",\"Manuela Moraes\",\"Manuela Moraes\",\"Manuela Moraes\",\"Manuela Moraes\",\"Manuela Moraes\",\"Manuela Moraes\",\"Matheus da Luz\",\"Matheus da Luz\",\"Matheus da Luz\",\"Matheus da Luz\",\"Matheus da Luz\",\"Sra. Maria Sophia Correia\",\"Sra. Maria Sophia Correia\",\"Sra. Maria Sophia Correia\",\"Sra. Maria Sophia Correia\",\"Sra. Maria Sophia Correia\",\"Sra. Maria Sophia Correia\",\"Sra. Maria Sophia Correia\",\"Sra. Maria Sophia Correia\",\"Sra. Maria Sophia Correia\",\"Sra. Maria Sophia Correia\",\"Sra. Maria Sophia Correia\",\"Alana Pinto\",\"Alana Pinto\",\"Alana Pinto\",\"Alana Pinto\",\"Luiz Henrique Pereira\",\"Luiz Henrique Pereira\",\"Luiz Henrique Pereira\",\"Luiz Henrique Pereira\",\"Luiz Henrique Pereira\",\"Luiz Henrique Pereira\",\"Luiz Henrique Pereira\",\"Luiz Henrique Pereira\",\"Luiz Henrique Pereira\",\"Luiz Henrique Pereira\",\"Luiz Henrique Pereira\",\"Ana Vit\\u00f3ria Ara\\u00fajo\",\"Ana Vit\\u00f3ria Ara\\u00fajo\",\"Ana Vit\\u00f3ria Ara\\u00fajo\",\"Ana Vit\\u00f3ria Ara\\u00fajo\",\"Ana Vit\\u00f3ria Ara\\u00fajo\",\"Ana Vit\\u00f3ria Ara\\u00fajo\",\"Ana Vit\\u00f3ria Ara\\u00fajo\",\"Ana Vit\\u00f3ria Ara\\u00fajo\"],\"xaxis\":\"x\",\"y\":[20.1,2.7,23.96,3.98,1.99,47.92,2.58,13.4,3.98,20.1,35.94,3.87,71.97,71.97,7.96,23.96,38.76,29.07,7.96,47.98,23.99,29.07,23.96,26.8,11.98,47.92,47.92,7.96,11.98,5.4,71.97,47.98,11.98,5.4,3.98,26.8,26.8,17.97,11.98,95.96,6.7,5.97,8.100000000000001,11.98,3.98,3.98,11.98,19.38,35.94,26.8,11.98,71.97,6.7,71.97,5.97,17.97,23.99,23.99,1.99,95.96,35.94,6.7,1.99,11.98,10.8,2.7,2.58,3.87,95.96,13.4,11.98,1.99,5.99,5.16,5.16,6.7,23.96,71.97,1.99,29.07,3.87,20.1,19.38,11.98,35.94,95.96,10.8,19.38,9.69,29.07,23.96,23.96,19.38,23.96],\"yaxis\":\"y\"},{\"alignmentgroup\":\"True\",\"customdata\":[[\"carr\\u00e9 de cordeiro\",\"2021-11-09\",172.0],[\"costela\",\"2021-11-09\",20.99],[\"bisteca su\\u00edna\",\"2021-11-09\",22.79],[\"picanha\",\"2021-11-09\",70.89],[\"peito de frango\",\"2021-11-01\",16.49],[\"carr\\u00e9 de cordeiro\",\"2021-11-01\",172.0],[\"costela\",\"2021-11-01\",20.99],[\"picanha\",\"2021-11-01\",70.89],[\"bisteca su\\u00edna\",\"2021-11-10\",22.79],[\"alcatra\",\"2021-11-10\",31.99],[\"maminha\",\"2021-11-10\",42.99],[\"picanha\",\"2021-11-18\",70.89],[\"picanha\",\"2021-11-18\",70.89],[\"paleta su\\u00edna\",\"2021-11-05\",23.99],[\"picanha\",\"2021-11-05\",70.89],[\"picanha\",\"2021-11-05\",70.89],[\"picanha\",\"2021-11-05\",70.89],[\"alcatra\",\"2021-11-05\",31.99],[\"alcatra\",\"2021-11-05\",31.99],[\"picanha\",\"2021-11-01\",70.89],[\"maminha\",\"2021-11-01\",42.99],[\"costela\",\"2021-11-11\",20.99],[\"picanha\",\"2021-11-11\",70.89],[\"maminha\",\"2021-11-11\",42.99],[\"carr\\u00e9 de cordeiro\",\"2021-11-05\",172.0],[\"costela\",\"2021-11-05\",20.99],[\"picanha\",\"2021-11-05\",70.89],[\"alcatra\",\"2021-11-05\",31.99],[\"costela\",\"2021-11-14\",20.99],[\"picanha\",\"2021-11-14\",70.89],[\"peito de frango\",\"2021-11-07\",16.49],[\"maminha\",\"2021-11-07\",42.99],[\"carr\\u00e9 de cordeiro\",\"2021-11-01\",172.0],[\"carr\\u00e9 de cordeiro\",\"2021-11-01\",172.0],[\"picanha\",\"2021-11-01\",70.89],[\"alcatra\",\"2021-11-01\",31.99],[\"alcatra\",\"2021-11-01\",31.99],[\"peito de frango\",\"2021-11-12\",16.49],[\"paleta su\\u00edna\",\"2021-11-12\",23.99],[\"costela\",\"2021-11-12\",20.99],[\"picanha\",\"2021-11-12\",70.89],[\"alcatra\",\"2021-11-12\",31.99],[\"maminha\",\"2021-11-12\",42.99],[\"costela\",\"2021-11-13\",20.99],[\"alcatra\",\"2021-11-13\",31.99],[\"maminha\",\"2021-11-13\",42.99],[\"picanha\",\"2021-11-12\",70.89],[\"picanha\",\"2021-11-10\",70.89],[\"picanha\",\"2021-11-10\",70.89],[\"maminha\",\"2021-11-10\",42.99],[\"costela\",\"2021-11-05\",20.99],[\"bisteca su\\u00edna\",\"2021-11-05\",22.79],[\"bisteca su\\u00edna\",\"2021-11-05\",22.79],[\"alcatra\",\"2021-11-05\",31.99],[\"alcatra\",\"2021-11-05\",31.99],[\"peito de frango\",\"2021-11-10\",16.49],[\"carr\\u00e9 de cordeiro\",\"2021-11-10\",172.0],[\"paleta su\\u00edna\",\"2021-11-01\",23.99],[\"bisteca su\\u00edna\",\"2021-11-01\",22.79],[\"picanha\",\"2021-11-01\",70.89],[\"alcatra\",\"2021-11-01\",31.99],[\"alcatra\",\"2021-11-01\",31.99],[\"paleta su\\u00edna\",\"2021-11-08\",23.99],[\"paleta su\\u00edna\",\"2021-11-09\",23.99],[\"bisteca su\\u00edna\",\"2021-11-09\",22.79],[\"alcatra\",\"2021-11-09\",31.99],[\"costela\",\"2021-11-05\",20.99],[\"bisteca su\\u00edna\",\"2021-11-05\",22.79],[\"maminha\",\"2021-11-05\",42.99],[\"peito de frango\",\"2021-11-05\",16.49],[\"paleta su\\u00edna\",\"2021-11-05\",23.99],[\"paleta su\\u00edna\",\"2021-11-05\",23.99],[\"carr\\u00e9 de cordeiro\",\"2021-11-05\",172.0],[\"picanha\",\"2021-11-05\",70.89],[\"paleta su\\u00edna\",\"2021-11-29\",23.99],[\"peito de frango\",\"2021-11-11\",16.49],[\"paleta su\\u00edna\",\"2021-11-11\",23.99],[\"costela\",\"2021-11-05\",20.99],[\"picanha\",\"2021-11-05\",70.89],[\"picanha\",\"2021-11-05\",70.89],[\"maminha\",\"2021-11-05\",42.99],[\"maminha\",\"2021-11-05\",42.99],[\"paleta su\\u00edna\",\"2021-11-14\",23.99],[\"alcatra\",\"2021-11-14\",31.99],[\"peito de frango\",\"2021-11-10\",16.49],[\"peito de frango\",\"2021-11-10\",16.49],[\"peito de frango\",\"2021-11-10\",16.49],[\"carr\\u00e9 de cordeiro\",\"2021-11-10\",172.0],[\"picanha\",\"2021-11-10\",70.89],[\"picanha\",\"2021-11-10\",70.89],[\"picanha\",\"2021-11-10\",70.89],[\"paleta su\\u00edna\",\"2021-11-20\",23.99],[\"costela\",\"2021-11-06\",20.99],[\"maminha\",\"2021-11-06\",42.99],[\"peito de frango\",\"2021-11-08\",16.49],[\"costela\",\"2021-11-08\",20.99],[\"maminha\",\"2021-11-08\",42.99],[\"bisteca su\\u00edna\",\"2021-11-04\",22.79],[\"paleta su\\u00edna\",\"2021-11-13\",23.99],[\"carr\\u00e9 de cordeiro\",\"2021-11-13\",172.0],[\"carr\\u00e9 de cordeiro\",\"2021-11-13\",172.0],[\"bisteca su\\u00edna\",\"2021-11-13\",22.79],[\"alcatra\",\"2021-11-13\",31.99],[\"costela\",\"2021-11-02\",20.99],[\"costela\",\"2021-11-02\",20.99],[\"costela\",\"2021-11-02\",20.99],[\"maminha\",\"2021-11-02\",42.99],[\"bisteca su\\u00edna\",\"2021-11-08\",22.79],[\"picanha\",\"2021-11-08\",70.89],[\"picanha\",\"2021-11-08\",70.89],[\"maminha\",\"2021-11-08\",42.99],[\"costela\",\"2021-11-04\",20.99],[\"alcatra\",\"2021-11-04\",31.99]],\"hovertemplate\":\"Se\\u00e7\\u00e3o=A\\u00e7ougue<br>Nome do cliente=%{x}<br>Total da compra do produto=%{y}<br>Produto=%{customdata[0]}<br>Data=%{customdata[1]}<br>Pre\\u00e7o do produto=%{customdata[2]}<extra></extra>\",\"legendgroup\":\"A\\u00e7ougue\",\"marker\":{\"color\":\"#ab63fa\",\"pattern\":{\"shape\":\"\"}},\"name\":\"A\\u00e7ougue\",\"offsetgroup\":\"A\\u00e7ougue\",\"orientation\":\"v\",\"showlegend\":true,\"textposition\":\"auto\",\"type\":\"bar\",\"x\":[\"Dr. Vicente Monteiro\",\"Dr. Vicente Monteiro\",\"Dr. Vicente Monteiro\",\"Dr. Vicente Monteiro\",\"Dr. Vicente Monteiro\",\"Dr. Vicente Monteiro\",\"Dr. Vicente Monteiro\",\"Dr. Vicente Monteiro\",\"Dr. Vicente Monteiro\",\"Dr. Vicente Monteiro\",\"Dr. Vicente Monteiro\",\"Dr. Vicente Monteiro\",\"Dr. Vicente Monteiro\",\"Ben\\u00edcio da Rosa\",\"Ben\\u00edcio da Rosa\",\"Ben\\u00edcio da Rosa\",\"Ben\\u00edcio da Rosa\",\"Ben\\u00edcio da Rosa\",\"Ben\\u00edcio da Rosa\",\"Ben\\u00edcio da Rosa\",\"Ben\\u00edcio da Rosa\",\"Ben\\u00edcio da Rosa\",\"Ben\\u00edcio da Rosa\",\"Ben\\u00edcio da Rosa\",\"Ben\\u00edcio da Rosa\",\"Ben\\u00edcio da Rosa\",\"Ben\\u00edcio da Rosa\",\"Ben\\u00edcio da Rosa\",\"Ben\\u00edcio da Rosa\",\"Carolina Vieira\",\"Carolina Vieira\",\"Carolina Vieira\",\"Carolina Vieira\",\"Carolina Vieira\",\"Carolina Vieira\",\"Carolina Vieira\",\"Carolina Vieira\",\"Sr. Enzo Gabriel Novaes\",\"Sr. Enzo Gabriel Novaes\",\"Sr. Enzo Gabriel Novaes\",\"Sr. Enzo Gabriel Novaes\",\"Sr. Enzo Gabriel Novaes\",\"Sr. Enzo Gabriel Novaes\",\"Sr. Enzo Gabriel Novaes\",\"Sr. Enzo Gabriel Novaes\",\"Sr. Enzo Gabriel Novaes\",\"Sr. Enzo Gabriel Novaes\",\"Sr. Enzo Gabriel Novaes\",\"Sr. Enzo Gabriel Novaes\",\"Sr. Enzo Gabriel Novaes\",\"Sr. Enzo Gabriel Novaes\",\"Sr. Enzo Gabriel Novaes\",\"Sr. Enzo Gabriel Novaes\",\"Sr. Enzo Gabriel Novaes\",\"Sr. Enzo Gabriel Novaes\",\"Manuela Moraes\",\"Manuela Moraes\",\"Manuela Moraes\",\"Manuela Moraes\",\"Manuela Moraes\",\"Manuela Moraes\",\"Manuela Moraes\",\"Manuela Moraes\",\"Manuela Moraes\",\"Manuela Moraes\",\"Manuela Moraes\",\"Matheus da Luz\",\"Matheus da Luz\",\"Matheus da Luz\",\"Matheus da Luz\",\"Matheus da Luz\",\"Matheus da Luz\",\"Matheus da Luz\",\"Matheus da Luz\",\"Matheus da Luz\",\"Sra. Maria Sophia Correia\",\"Sra. Maria Sophia Correia\",\"Sra. Maria Sophia Correia\",\"Sra. Maria Sophia Correia\",\"Sra. Maria Sophia Correia\",\"Sra. Maria Sophia Correia\",\"Sra. Maria Sophia Correia\",\"Sra. Maria Sophia Correia\",\"Sra. Maria Sophia Correia\",\"Alana Pinto\",\"Alana Pinto\",\"Alana Pinto\",\"Alana Pinto\",\"Alana Pinto\",\"Alana Pinto\",\"Alana Pinto\",\"Alana Pinto\",\"Alana Pinto\",\"Alana Pinto\",\"Luiz Henrique Pereira\",\"Luiz Henrique Pereira\",\"Luiz Henrique Pereira\",\"Luiz Henrique Pereira\",\"Luiz Henrique Pereira\",\"Luiz Henrique Pereira\",\"Luiz Henrique Pereira\",\"Luiz Henrique Pereira\",\"Luiz Henrique Pereira\",\"Ana Vit\\u00f3ria Ara\\u00fajo\",\"Ana Vit\\u00f3ria Ara\\u00fajo\",\"Ana Vit\\u00f3ria Ara\\u00fajo\",\"Ana Vit\\u00f3ria Ara\\u00fajo\",\"Ana Vit\\u00f3ria Ara\\u00fajo\",\"Ana Vit\\u00f3ria Ara\\u00fajo\",\"Ana Vit\\u00f3ria Ara\\u00fajo\",\"Ana Vit\\u00f3ria Ara\\u00fajo\",\"Ana Vit\\u00f3ria Ara\\u00fajo\",\"Ana Vit\\u00f3ria Ara\\u00fajo\"],\"xaxis\":\"x\",\"y\":[344.0,41.98,45.58,141.78,16.49,516.0,20.99,141.78,45.58,95.97,42.99,283.56,283.56,71.97,212.67000000000002,70.89,70.89,31.99,63.98,141.78,85.98,20.99,141.78,171.96,688.0,83.96,212.67000000000002,95.97,20.99,141.78,49.47,171.96,688.0,516.0,70.89,63.98,31.99,16.49,23.99,62.97,70.89,95.97,85.98,20.99,63.98,42.99,70.89,212.67000000000002,141.78,85.98,41.98,91.16,68.37,63.98,63.98,16.49,516.0,71.97,91.16,70.89,63.98,127.96,71.97,23.99,91.16,127.96,62.97,45.58,128.97,16.49,47.98,47.98,688.0,283.56,71.97,65.96,71.97,20.99,141.78,283.56,128.97,42.99,47.98,127.96,16.49,49.47,65.96,516.0,212.67000000000002,212.67000000000002,70.89,95.96,20.99,128.97,16.49,20.99,42.99,45.58,23.99,172.0,344.0,68.37,63.98,41.98,20.99,20.99,128.97,91.16,283.56,283.56,128.97,62.97,63.98],\"yaxis\":\"y\"}],                        {\"barmode\":\"stack\",\"legend\":{\"title\":{\"text\":\"Se\\u00e7\\u00e3o\"},\"tracegroupgap\":0},\"margin\":{\"t\":60},\"template\":{\"data\":{\"bar\":[{\"error_x\":{\"color\":\"#2a3f5f\"},\"error_y\":{\"color\":\"#2a3f5f\"},\"marker\":{\"line\":{\"color\":\"#E5ECF6\",\"width\":0.5},\"pattern\":{\"fillmode\":\"overlay\",\"size\":10,\"solidity\":0.2}},\"type\":\"bar\"}],\"barpolar\":[{\"marker\":{\"line\":{\"color\":\"#E5ECF6\",\"width\":0.5},\"pattern\":{\"fillmode\":\"overlay\",\"size\":10,\"solidity\":0.2}},\"type\":\"barpolar\"}],\"carpet\":[{\"aaxis\":{\"endlinecolor\":\"#2a3f5f\",\"gridcolor\":\"white\",\"linecolor\":\"white\",\"minorgridcolor\":\"white\",\"startlinecolor\":\"#2a3f5f\"},\"baxis\":{\"endlinecolor\":\"#2a3f5f\",\"gridcolor\":\"white\",\"linecolor\":\"white\",\"minorgridcolor\":\"white\",\"startlinecolor\":\"#2a3f5f\"},\"type\":\"carpet\"}],\"choropleth\":[{\"colorbar\":{\"outlinewidth\":0,\"ticks\":\"\"},\"type\":\"choropleth\"}],\"contour\":[{\"colorbar\":{\"outlinewidth\":0,\"ticks\":\"\"},\"colorscale\":[[0.0,\"#0d0887\"],[0.1111111111111111,\"#46039f\"],[0.2222222222222222,\"#7201a8\"],[0.3333333333333333,\"#9c179e\"],[0.4444444444444444,\"#bd3786\"],[0.5555555555555556,\"#d8576b\"],[0.6666666666666666,\"#ed7953\"],[0.7777777777777778,\"#fb9f3a\"],[0.8888888888888888,\"#fdca26\"],[1.0,\"#f0f921\"]],\"type\":\"contour\"}],\"contourcarpet\":[{\"colorbar\":{\"outlinewidth\":0,\"ticks\":\"\"},\"type\":\"contourcarpet\"}],\"heatmap\":[{\"colorbar\":{\"outlinewidth\":0,\"ticks\":\"\"},\"colorscale\":[[0.0,\"#0d0887\"],[0.1111111111111111,\"#46039f\"],[0.2222222222222222,\"#7201a8\"],[0.3333333333333333,\"#9c179e\"],[0.4444444444444444,\"#bd3786\"],[0.5555555555555556,\"#d8576b\"],[0.6666666666666666,\"#ed7953\"],[0.7777777777777778,\"#fb9f3a\"],[0.8888888888888888,\"#fdca26\"],[1.0,\"#f0f921\"]],\"type\":\"heatmap\"}],\"heatmapgl\":[{\"colorbar\":{\"outlinewidth\":0,\"ticks\":\"\"},\"colorscale\":[[0.0,\"#0d0887\"],[0.1111111111111111,\"#46039f\"],[0.2222222222222222,\"#7201a8\"],[0.3333333333333333,\"#9c179e\"],[0.4444444444444444,\"#bd3786\"],[0.5555555555555556,\"#d8576b\"],[0.6666666666666666,\"#ed7953\"],[0.7777777777777778,\"#fb9f3a\"],[0.8888888888888888,\"#fdca26\"],[1.0,\"#f0f921\"]],\"type\":\"heatmapgl\"}],\"histogram\":[{\"marker\":{\"pattern\":{\"fillmode\":\"overlay\",\"size\":10,\"solidity\":0.2}},\"type\":\"histogram\"}],\"histogram2d\":[{\"colorbar\":{\"outlinewidth\":0,\"ticks\":\"\"},\"colorscale\":[[0.0,\"#0d0887\"],[0.1111111111111111,\"#46039f\"],[0.2222222222222222,\"#7201a8\"],[0.3333333333333333,\"#9c179e\"],[0.4444444444444444,\"#bd3786\"],[0.5555555555555556,\"#d8576b\"],[0.6666666666666666,\"#ed7953\"],[0.7777777777777778,\"#fb9f3a\"],[0.8888888888888888,\"#fdca26\"],[1.0,\"#f0f921\"]],\"type\":\"histogram2d\"}],\"histogram2dcontour\":[{\"colorbar\":{\"outlinewidth\":0,\"ticks\":\"\"},\"colorscale\":[[0.0,\"#0d0887\"],[0.1111111111111111,\"#46039f\"],[0.2222222222222222,\"#7201a8\"],[0.3333333333333333,\"#9c179e\"],[0.4444444444444444,\"#bd3786\"],[0.5555555555555556,\"#d8576b\"],[0.6666666666666666,\"#ed7953\"],[0.7777777777777778,\"#fb9f3a\"],[0.8888888888888888,\"#fdca26\"],[1.0,\"#f0f921\"]],\"type\":\"histogram2dcontour\"}],\"mesh3d\":[{\"colorbar\":{\"outlinewidth\":0,\"ticks\":\"\"},\"type\":\"mesh3d\"}],\"parcoords\":[{\"line\":{\"colorbar\":{\"outlinewidth\":0,\"ticks\":\"\"}},\"type\":\"parcoords\"}],\"pie\":[{\"automargin\":true,\"type\":\"pie\"}],\"scatter\":[{\"marker\":{\"colorbar\":{\"outlinewidth\":0,\"ticks\":\"\"}},\"type\":\"scatter\"}],\"scatter3d\":[{\"line\":{\"colorbar\":{\"outlinewidth\":0,\"ticks\":\"\"}},\"marker\":{\"colorbar\":{\"outlinewidth\":0,\"ticks\":\"\"}},\"type\":\"scatter3d\"}],\"scattercarpet\":[{\"marker\":{\"colorbar\":{\"outlinewidth\":0,\"ticks\":\"\"}},\"type\":\"scattercarpet\"}],\"scattergeo\":[{\"marker\":{\"colorbar\":{\"outlinewidth\":0,\"ticks\":\"\"}},\"type\":\"scattergeo\"}],\"scattergl\":[{\"marker\":{\"colorbar\":{\"outlinewidth\":0,\"ticks\":\"\"}},\"type\":\"scattergl\"}],\"scattermapbox\":[{\"marker\":{\"colorbar\":{\"outlinewidth\":0,\"ticks\":\"\"}},\"type\":\"scattermapbox\"}],\"scatterpolar\":[{\"marker\":{\"colorbar\":{\"outlinewidth\":0,\"ticks\":\"\"}},\"type\":\"scatterpolar\"}],\"scatterpolargl\":[{\"marker\":{\"colorbar\":{\"outlinewidth\":0,\"ticks\":\"\"}},\"type\":\"scatterpolargl\"}],\"scatterternary\":[{\"marker\":{\"colorbar\":{\"outlinewidth\":0,\"ticks\":\"\"}},\"type\":\"scatterternary\"}],\"surface\":[{\"colorbar\":{\"outlinewidth\":0,\"ticks\":\"\"},\"colorscale\":[[0.0,\"#0d0887\"],[0.1111111111111111,\"#46039f\"],[0.2222222222222222,\"#7201a8\"],[0.3333333333333333,\"#9c179e\"],[0.4444444444444444,\"#bd3786\"],[0.5555555555555556,\"#d8576b\"],[0.6666666666666666,\"#ed7953\"],[0.7777777777777778,\"#fb9f3a\"],[0.8888888888888888,\"#fdca26\"],[1.0,\"#f0f921\"]],\"type\":\"surface\"}],\"table\":[{\"cells\":{\"fill\":{\"color\":\"#EBF0F8\"},\"line\":{\"color\":\"white\"}},\"header\":{\"fill\":{\"color\":\"#C8D4E3\"},\"line\":{\"color\":\"white\"}},\"type\":\"table\"}]},\"layout\":{\"annotationdefaults\":{\"arrowcolor\":\"#2a3f5f\",\"arrowhead\":0,\"arrowwidth\":1},\"autotypenumbers\":\"strict\",\"coloraxis\":{\"colorbar\":{\"outlinewidth\":0,\"ticks\":\"\"}},\"colorscale\":{\"diverging\":[[0,\"#8e0152\"],[0.1,\"#c51b7d\"],[0.2,\"#de77ae\"],[0.3,\"#f1b6da\"],[0.4,\"#fde0ef\"],[0.5,\"#f7f7f7\"],[0.6,\"#e6f5d0\"],[0.7,\"#b8e186\"],[0.8,\"#7fbc41\"],[0.9,\"#4d9221\"],[1,\"#276419\"]],\"sequential\":[[0.0,\"#0d0887\"],[0.1111111111111111,\"#46039f\"],[0.2222222222222222,\"#7201a8\"],[0.3333333333333333,\"#9c179e\"],[0.4444444444444444,\"#bd3786\"],[0.5555555555555556,\"#d8576b\"],[0.6666666666666666,\"#ed7953\"],[0.7777777777777778,\"#fb9f3a\"],[0.8888888888888888,\"#fdca26\"],[1.0,\"#f0f921\"]],\"sequentialminus\":[[0.0,\"#0d0887\"],[0.1111111111111111,\"#46039f\"],[0.2222222222222222,\"#7201a8\"],[0.3333333333333333,\"#9c179e\"],[0.4444444444444444,\"#bd3786\"],[0.5555555555555556,\"#d8576b\"],[0.6666666666666666,\"#ed7953\"],[0.7777777777777778,\"#fb9f3a\"],[0.8888888888888888,\"#fdca26\"],[1.0,\"#f0f921\"]]},\"colorway\":[\"#636efa\",\"#EF553B\",\"#00cc96\",\"#ab63fa\",\"#FFA15A\",\"#19d3f3\",\"#FF6692\",\"#B6E880\",\"#FF97FF\",\"#FECB52\"],\"font\":{\"color\":\"#2a3f5f\"},\"geo\":{\"bgcolor\":\"white\",\"lakecolor\":\"white\",\"landcolor\":\"#E5ECF6\",\"showlakes\":true,\"showland\":true,\"subunitcolor\":\"white\"},\"hoverlabel\":{\"align\":\"left\"},\"hovermode\":\"closest\",\"mapbox\":{\"style\":\"light\"},\"paper_bgcolor\":\"white\",\"plot_bgcolor\":\"#E5ECF6\",\"polar\":{\"angularaxis\":{\"gridcolor\":\"white\",\"linecolor\":\"white\",\"ticks\":\"\"},\"bgcolor\":\"#E5ECF6\",\"radialaxis\":{\"gridcolor\":\"white\",\"linecolor\":\"white\",\"ticks\":\"\"}},\"scene\":{\"xaxis\":{\"backgroundcolor\":\"#E5ECF6\",\"gridcolor\":\"white\",\"gridwidth\":2,\"linecolor\":\"white\",\"showbackground\":true,\"ticks\":\"\",\"zerolinecolor\":\"white\"},\"yaxis\":{\"backgroundcolor\":\"#E5ECF6\",\"gridcolor\":\"white\",\"gridwidth\":2,\"linecolor\":\"white\",\"showbackground\":true,\"ticks\":\"\",\"zerolinecolor\":\"white\"},\"zaxis\":{\"backgroundcolor\":\"#E5ECF6\",\"gridcolor\":\"white\",\"gridwidth\":2,\"linecolor\":\"white\",\"showbackground\":true,\"ticks\":\"\",\"zerolinecolor\":\"white\"}},\"shapedefaults\":{\"line\":{\"color\":\"#2a3f5f\"}},\"ternary\":{\"aaxis\":{\"gridcolor\":\"white\",\"linecolor\":\"white\",\"ticks\":\"\"},\"baxis\":{\"gridcolor\":\"white\",\"linecolor\":\"white\",\"ticks\":\"\"},\"bgcolor\":\"#E5ECF6\",\"caxis\":{\"gridcolor\":\"white\",\"linecolor\":\"white\",\"ticks\":\"\"}},\"title\":{\"x\":0.05},\"xaxis\":{\"automargin\":true,\"gridcolor\":\"white\",\"linecolor\":\"white\",\"ticks\":\"\",\"title\":{\"standoff\":15},\"zerolinecolor\":\"white\",\"zerolinewidth\":2},\"yaxis\":{\"automargin\":true,\"gridcolor\":\"white\",\"linecolor\":\"white\",\"ticks\":\"\",\"title\":{\"standoff\":15},\"zerolinecolor\":\"white\",\"zerolinewidth\":2}}},\"title\":{\"text\":\"Os 10 clientes que mais gastam\"},\"xaxis\":{\"anchor\":\"y\",\"domain\":[0.0,1.0],\"title\":{\"text\":\"Nome do cliente\"}},\"yaxis\":{\"anchor\":\"x\",\"domain\":[0.0,1.0],\"title\":{\"text\":\"Total da compra do produto\"}}},                        {\"responsive\": true}                    ).then(function(){\n",
       "                            \n",
       "var gd = document.getElementById('9a53df6d-01a5-4dc2-a44b-eb76126470c7');\n",
       "var x = new MutationObserver(function (mutations, observer) {{\n",
       "        var display = window.getComputedStyle(gd).display;\n",
       "        if (!display || display === 'none') {{\n",
       "            console.log([gd, 'removed!']);\n",
       "            Plotly.purge(gd);\n",
       "            observer.disconnect();\n",
       "        }}\n",
       "}});\n",
       "\n",
       "// Listen for the removal of the full notebook cells\n",
       "var notebookContainer = gd.closest('#notebook-container');\n",
       "if (notebookContainer) {{\n",
       "    x.observe(notebookContainer, {childList: true});\n",
       "}}\n",
       "\n",
       "// Listen for the clearing of the current output cell\n",
       "var outputEl = gd.closest('.output');\n",
       "if (outputEl) {{\n",
       "    x.observe(outputEl, {childList: true});\n",
       "}}\n",
       "\n",
       "                        })                };                });            </script>        </div>"
      ]
     },
     "metadata": {},
     "output_type": "display_data"
    }
   ],
   "source": [
    "fig_total_cliente = px.bar(venda_produtos_cliente_pt, x=\"nome_cliente\", y=\"total_preco\", color=\"secao\", barmode = 'stack', hover_data=['nome', 'data', 'preco'],\n",
    "             labels={\"total_preco\": \"Total da compra do produto\", \"nome_cliente\": \"Nome do cliente\", \"nome\":\"Produto\", \"data\":\"Data\", \"preco\":\"Preço do produto\", \"secao\":\"Seção\"})\n",
    "fig_total_cliente.update_layout(title = 'Os 10 clientes que mais gastam')\n",
    "fig_total_cliente.show()"
   ]
  },
  {
   "cell_type": "code",
   "execution_count": null,
   "id": "9cb92bb7",
   "metadata": {},
   "outputs": [],
   "source": []
  },
  {
   "cell_type": "code",
   "execution_count": null,
   "id": "edb1fdfb",
   "metadata": {},
   "outputs": [],
   "source": []
  },
  {
   "cell_type": "markdown",
   "id": "fda6e07d",
   "metadata": {},
   "source": [
    "## Análise tempo"
   ]
  },
  {
   "cell_type": "code",
   "execution_count": 20,
   "id": "1fb25e01",
   "metadata": {},
   "outputs": [
    {
     "data": {
      "application/vnd.plotly.v1+json": {
       "config": {
        "plotlyServerURL": "https://plot.ly"
       },
       "data": [
        {
         "hovertemplate": "Data=%{x}<br>Total gasto pelo clientes=%{y}<extra></extra>",
         "legendgroup": "",
         "line": {
          "color": "#636efa",
          "dash": "solid"
         },
         "marker": {
          "symbol": "circle"
         },
         "mode": "lines",
         "name": "",
         "orientation": "v",
         "showlegend": false,
         "type": "scatter",
         "x": [
          "2021-11-01",
          "2021-11-02",
          "2021-11-04",
          "2021-11-05",
          "2021-11-06",
          "2021-11-07",
          "2021-11-08",
          "2021-11-09",
          "2021-11-10",
          "2021-11-11",
          "2021-11-12",
          "2021-11-13",
          "2021-11-14",
          "2021-11-16",
          "2021-11-17",
          "2021-11-18",
          "2021-11-20",
          "2021-11-22",
          "2021-11-23",
          "2021-11-24",
          "2021-11-26",
          "2021-11-27",
          "2021-11-29"
         ],
         "xaxis": "x",
         "y": [
          3786.8699999999976,
          356.72,
          469.12,
          5001.629999999997,
          293.84,
          456.56000000000006,
          1606.01,
          1138.63,
          3239.41,
          935.8200000000002,
          954.8600000000001,
          1322.67,
          1196.5800000000002,
          17.95,
          15.96,
          570.61,
          98.44,
          15.98,
          5.97,
          31.98,
          43.96,
          80,
          135.91
         ],
         "yaxis": "y"
        }
       ],
       "layout": {
        "annotations": [
         {
          "arrowhead": 3,
          "ay": -40,
          "font": {
           "size": 11
          },
          "showarrow": true,
          "text": "<b>Maior pico de vendas<br> em novembro</b>",
          "x": "2021-11-08",
          "y": 1016.66
         }
        ],
        "height": 500,
        "legend": {
         "tracegroupgap": 0
        },
        "margin": {
         "t": 60
        },
        "template": {
         "data": {
          "bar": [
           {
            "error_x": {
             "color": "#2a3f5f"
            },
            "error_y": {
             "color": "#2a3f5f"
            },
            "marker": {
             "line": {
              "color": "#E5ECF6",
              "width": 0.5
             },
             "pattern": {
              "fillmode": "overlay",
              "size": 10,
              "solidity": 0.2
             }
            },
            "type": "bar"
           }
          ],
          "barpolar": [
           {
            "marker": {
             "line": {
              "color": "#E5ECF6",
              "width": 0.5
             },
             "pattern": {
              "fillmode": "overlay",
              "size": 10,
              "solidity": 0.2
             }
            },
            "type": "barpolar"
           }
          ],
          "carpet": [
           {
            "aaxis": {
             "endlinecolor": "#2a3f5f",
             "gridcolor": "white",
             "linecolor": "white",
             "minorgridcolor": "white",
             "startlinecolor": "#2a3f5f"
            },
            "baxis": {
             "endlinecolor": "#2a3f5f",
             "gridcolor": "white",
             "linecolor": "white",
             "minorgridcolor": "white",
             "startlinecolor": "#2a3f5f"
            },
            "type": "carpet"
           }
          ],
          "choropleth": [
           {
            "colorbar": {
             "outlinewidth": 0,
             "ticks": ""
            },
            "type": "choropleth"
           }
          ],
          "contour": [
           {
            "colorbar": {
             "outlinewidth": 0,
             "ticks": ""
            },
            "colorscale": [
             [
              0,
              "#0d0887"
             ],
             [
              0.1111111111111111,
              "#46039f"
             ],
             [
              0.2222222222222222,
              "#7201a8"
             ],
             [
              0.3333333333333333,
              "#9c179e"
             ],
             [
              0.4444444444444444,
              "#bd3786"
             ],
             [
              0.5555555555555556,
              "#d8576b"
             ],
             [
              0.6666666666666666,
              "#ed7953"
             ],
             [
              0.7777777777777778,
              "#fb9f3a"
             ],
             [
              0.8888888888888888,
              "#fdca26"
             ],
             [
              1,
              "#f0f921"
             ]
            ],
            "type": "contour"
           }
          ],
          "contourcarpet": [
           {
            "colorbar": {
             "outlinewidth": 0,
             "ticks": ""
            },
            "type": "contourcarpet"
           }
          ],
          "heatmap": [
           {
            "colorbar": {
             "outlinewidth": 0,
             "ticks": ""
            },
            "colorscale": [
             [
              0,
              "#0d0887"
             ],
             [
              0.1111111111111111,
              "#46039f"
             ],
             [
              0.2222222222222222,
              "#7201a8"
             ],
             [
              0.3333333333333333,
              "#9c179e"
             ],
             [
              0.4444444444444444,
              "#bd3786"
             ],
             [
              0.5555555555555556,
              "#d8576b"
             ],
             [
              0.6666666666666666,
              "#ed7953"
             ],
             [
              0.7777777777777778,
              "#fb9f3a"
             ],
             [
              0.8888888888888888,
              "#fdca26"
             ],
             [
              1,
              "#f0f921"
             ]
            ],
            "type": "heatmap"
           }
          ],
          "heatmapgl": [
           {
            "colorbar": {
             "outlinewidth": 0,
             "ticks": ""
            },
            "colorscale": [
             [
              0,
              "#0d0887"
             ],
             [
              0.1111111111111111,
              "#46039f"
             ],
             [
              0.2222222222222222,
              "#7201a8"
             ],
             [
              0.3333333333333333,
              "#9c179e"
             ],
             [
              0.4444444444444444,
              "#bd3786"
             ],
             [
              0.5555555555555556,
              "#d8576b"
             ],
             [
              0.6666666666666666,
              "#ed7953"
             ],
             [
              0.7777777777777778,
              "#fb9f3a"
             ],
             [
              0.8888888888888888,
              "#fdca26"
             ],
             [
              1,
              "#f0f921"
             ]
            ],
            "type": "heatmapgl"
           }
          ],
          "histogram": [
           {
            "marker": {
             "pattern": {
              "fillmode": "overlay",
              "size": 10,
              "solidity": 0.2
             }
            },
            "type": "histogram"
           }
          ],
          "histogram2d": [
           {
            "colorbar": {
             "outlinewidth": 0,
             "ticks": ""
            },
            "colorscale": [
             [
              0,
              "#0d0887"
             ],
             [
              0.1111111111111111,
              "#46039f"
             ],
             [
              0.2222222222222222,
              "#7201a8"
             ],
             [
              0.3333333333333333,
              "#9c179e"
             ],
             [
              0.4444444444444444,
              "#bd3786"
             ],
             [
              0.5555555555555556,
              "#d8576b"
             ],
             [
              0.6666666666666666,
              "#ed7953"
             ],
             [
              0.7777777777777778,
              "#fb9f3a"
             ],
             [
              0.8888888888888888,
              "#fdca26"
             ],
             [
              1,
              "#f0f921"
             ]
            ],
            "type": "histogram2d"
           }
          ],
          "histogram2dcontour": [
           {
            "colorbar": {
             "outlinewidth": 0,
             "ticks": ""
            },
            "colorscale": [
             [
              0,
              "#0d0887"
             ],
             [
              0.1111111111111111,
              "#46039f"
             ],
             [
              0.2222222222222222,
              "#7201a8"
             ],
             [
              0.3333333333333333,
              "#9c179e"
             ],
             [
              0.4444444444444444,
              "#bd3786"
             ],
             [
              0.5555555555555556,
              "#d8576b"
             ],
             [
              0.6666666666666666,
              "#ed7953"
             ],
             [
              0.7777777777777778,
              "#fb9f3a"
             ],
             [
              0.8888888888888888,
              "#fdca26"
             ],
             [
              1,
              "#f0f921"
             ]
            ],
            "type": "histogram2dcontour"
           }
          ],
          "mesh3d": [
           {
            "colorbar": {
             "outlinewidth": 0,
             "ticks": ""
            },
            "type": "mesh3d"
           }
          ],
          "parcoords": [
           {
            "line": {
             "colorbar": {
              "outlinewidth": 0,
              "ticks": ""
             }
            },
            "type": "parcoords"
           }
          ],
          "pie": [
           {
            "automargin": true,
            "type": "pie"
           }
          ],
          "scatter": [
           {
            "marker": {
             "colorbar": {
              "outlinewidth": 0,
              "ticks": ""
             }
            },
            "type": "scatter"
           }
          ],
          "scatter3d": [
           {
            "line": {
             "colorbar": {
              "outlinewidth": 0,
              "ticks": ""
             }
            },
            "marker": {
             "colorbar": {
              "outlinewidth": 0,
              "ticks": ""
             }
            },
            "type": "scatter3d"
           }
          ],
          "scattercarpet": [
           {
            "marker": {
             "colorbar": {
              "outlinewidth": 0,
              "ticks": ""
             }
            },
            "type": "scattercarpet"
           }
          ],
          "scattergeo": [
           {
            "marker": {
             "colorbar": {
              "outlinewidth": 0,
              "ticks": ""
             }
            },
            "type": "scattergeo"
           }
          ],
          "scattergl": [
           {
            "marker": {
             "colorbar": {
              "outlinewidth": 0,
              "ticks": ""
             }
            },
            "type": "scattergl"
           }
          ],
          "scattermapbox": [
           {
            "marker": {
             "colorbar": {
              "outlinewidth": 0,
              "ticks": ""
             }
            },
            "type": "scattermapbox"
           }
          ],
          "scatterpolar": [
           {
            "marker": {
             "colorbar": {
              "outlinewidth": 0,
              "ticks": ""
             }
            },
            "type": "scatterpolar"
           }
          ],
          "scatterpolargl": [
           {
            "marker": {
             "colorbar": {
              "outlinewidth": 0,
              "ticks": ""
             }
            },
            "type": "scatterpolargl"
           }
          ],
          "scatterternary": [
           {
            "marker": {
             "colorbar": {
              "outlinewidth": 0,
              "ticks": ""
             }
            },
            "type": "scatterternary"
           }
          ],
          "surface": [
           {
            "colorbar": {
             "outlinewidth": 0,
             "ticks": ""
            },
            "colorscale": [
             [
              0,
              "#0d0887"
             ],
             [
              0.1111111111111111,
              "#46039f"
             ],
             [
              0.2222222222222222,
              "#7201a8"
             ],
             [
              0.3333333333333333,
              "#9c179e"
             ],
             [
              0.4444444444444444,
              "#bd3786"
             ],
             [
              0.5555555555555556,
              "#d8576b"
             ],
             [
              0.6666666666666666,
              "#ed7953"
             ],
             [
              0.7777777777777778,
              "#fb9f3a"
             ],
             [
              0.8888888888888888,
              "#fdca26"
             ],
             [
              1,
              "#f0f921"
             ]
            ],
            "type": "surface"
           }
          ],
          "table": [
           {
            "cells": {
             "fill": {
              "color": "#EBF0F8"
             },
             "line": {
              "color": "white"
             }
            },
            "header": {
             "fill": {
              "color": "#C8D4E3"
             },
             "line": {
              "color": "white"
             }
            },
            "type": "table"
           }
          ]
         },
         "layout": {
          "annotationdefaults": {
           "arrowcolor": "#2a3f5f",
           "arrowhead": 0,
           "arrowwidth": 1
          },
          "autotypenumbers": "strict",
          "coloraxis": {
           "colorbar": {
            "outlinewidth": 0,
            "ticks": ""
           }
          },
          "colorscale": {
           "diverging": [
            [
             0,
             "#8e0152"
            ],
            [
             0.1,
             "#c51b7d"
            ],
            [
             0.2,
             "#de77ae"
            ],
            [
             0.3,
             "#f1b6da"
            ],
            [
             0.4,
             "#fde0ef"
            ],
            [
             0.5,
             "#f7f7f7"
            ],
            [
             0.6,
             "#e6f5d0"
            ],
            [
             0.7,
             "#b8e186"
            ],
            [
             0.8,
             "#7fbc41"
            ],
            [
             0.9,
             "#4d9221"
            ],
            [
             1,
             "#276419"
            ]
           ],
           "sequential": [
            [
             0,
             "#0d0887"
            ],
            [
             0.1111111111111111,
             "#46039f"
            ],
            [
             0.2222222222222222,
             "#7201a8"
            ],
            [
             0.3333333333333333,
             "#9c179e"
            ],
            [
             0.4444444444444444,
             "#bd3786"
            ],
            [
             0.5555555555555556,
             "#d8576b"
            ],
            [
             0.6666666666666666,
             "#ed7953"
            ],
            [
             0.7777777777777778,
             "#fb9f3a"
            ],
            [
             0.8888888888888888,
             "#fdca26"
            ],
            [
             1,
             "#f0f921"
            ]
           ],
           "sequentialminus": [
            [
             0,
             "#0d0887"
            ],
            [
             0.1111111111111111,
             "#46039f"
            ],
            [
             0.2222222222222222,
             "#7201a8"
            ],
            [
             0.3333333333333333,
             "#9c179e"
            ],
            [
             0.4444444444444444,
             "#bd3786"
            ],
            [
             0.5555555555555556,
             "#d8576b"
            ],
            [
             0.6666666666666666,
             "#ed7953"
            ],
            [
             0.7777777777777778,
             "#fb9f3a"
            ],
            [
             0.8888888888888888,
             "#fdca26"
            ],
            [
             1,
             "#f0f921"
            ]
           ]
          },
          "colorway": [
           "#636efa",
           "#EF553B",
           "#00cc96",
           "#ab63fa",
           "#FFA15A",
           "#19d3f3",
           "#FF6692",
           "#B6E880",
           "#FF97FF",
           "#FECB52"
          ],
          "font": {
           "color": "#2a3f5f"
          },
          "geo": {
           "bgcolor": "white",
           "lakecolor": "white",
           "landcolor": "#E5ECF6",
           "showlakes": true,
           "showland": true,
           "subunitcolor": "white"
          },
          "hoverlabel": {
           "align": "left"
          },
          "hovermode": "closest",
          "mapbox": {
           "style": "light"
          },
          "paper_bgcolor": "white",
          "plot_bgcolor": "#E5ECF6",
          "polar": {
           "angularaxis": {
            "gridcolor": "white",
            "linecolor": "white",
            "ticks": ""
           },
           "bgcolor": "#E5ECF6",
           "radialaxis": {
            "gridcolor": "white",
            "linecolor": "white",
            "ticks": ""
           }
          },
          "scene": {
           "xaxis": {
            "backgroundcolor": "#E5ECF6",
            "gridcolor": "white",
            "gridwidth": 2,
            "linecolor": "white",
            "showbackground": true,
            "ticks": "",
            "zerolinecolor": "white"
           },
           "yaxis": {
            "backgroundcolor": "#E5ECF6",
            "gridcolor": "white",
            "gridwidth": 2,
            "linecolor": "white",
            "showbackground": true,
            "ticks": "",
            "zerolinecolor": "white"
           },
           "zaxis": {
            "backgroundcolor": "#E5ECF6",
            "gridcolor": "white",
            "gridwidth": 2,
            "linecolor": "white",
            "showbackground": true,
            "ticks": "",
            "zerolinecolor": "white"
           }
          },
          "shapedefaults": {
           "line": {
            "color": "#2a3f5f"
           }
          },
          "ternary": {
           "aaxis": {
            "gridcolor": "white",
            "linecolor": "white",
            "ticks": ""
           },
           "baxis": {
            "gridcolor": "white",
            "linecolor": "white",
            "ticks": ""
           },
           "bgcolor": "#E5ECF6",
           "caxis": {
            "gridcolor": "white",
            "linecolor": "white",
            "ticks": ""
           }
          },
          "title": {
           "x": 0.05
          },
          "xaxis": {
           "automargin": true,
           "gridcolor": "white",
           "linecolor": "white",
           "ticks": "",
           "title": {
            "standoff": 15
           },
           "zerolinecolor": "white",
           "zerolinewidth": 2
          },
          "yaxis": {
           "automargin": true,
           "gridcolor": "white",
           "linecolor": "white",
           "ticks": "",
           "title": {
            "standoff": 15
           },
           "zerolinecolor": "white",
           "zerolinewidth": 2
          }
         }
        },
        "width": 800,
        "xaxis": {
         "anchor": "y",
         "domain": [
          0,
          1
         ],
         "title": {
          "text": "Data"
         }
        },
        "yaxis": {
         "anchor": "x",
         "domain": [
          0,
          1
         ],
         "title": {
          "text": "Total gasto pelo clientes"
         }
        }
       }
      },
      "text/html": [
       "<div>                            <div id=\"ef4e2e25-8080-4d67-9368-ed0997c7d8d7\" class=\"plotly-graph-div\" style=\"height:500px; width:800px;\"></div>            <script type=\"text/javascript\">                require([\"plotly\"], function(Plotly) {                    window.PLOTLYENV=window.PLOTLYENV || {};                                    if (document.getElementById(\"ef4e2e25-8080-4d67-9368-ed0997c7d8d7\")) {                    Plotly.newPlot(                        \"ef4e2e25-8080-4d67-9368-ed0997c7d8d7\",                        [{\"hovertemplate\":\"Data=%{x}<br>Total gasto pelo clientes=%{y}<extra></extra>\",\"legendgroup\":\"\",\"line\":{\"color\":\"#636efa\",\"dash\":\"solid\"},\"marker\":{\"symbol\":\"circle\"},\"mode\":\"lines\",\"name\":\"\",\"orientation\":\"v\",\"showlegend\":false,\"type\":\"scatter\",\"x\":[\"2021-11-01\",\"2021-11-02\",\"2021-11-04\",\"2021-11-05\",\"2021-11-06\",\"2021-11-07\",\"2021-11-08\",\"2021-11-09\",\"2021-11-10\",\"2021-11-11\",\"2021-11-12\",\"2021-11-13\",\"2021-11-14\",\"2021-11-16\",\"2021-11-17\",\"2021-11-18\",\"2021-11-20\",\"2021-11-22\",\"2021-11-23\",\"2021-11-24\",\"2021-11-26\",\"2021-11-27\",\"2021-11-29\"],\"xaxis\":\"x\",\"y\":[3786.8699999999976,356.72,469.12,5001.629999999997,293.84,456.56000000000006,1606.01,1138.63,3239.41,935.8200000000002,954.8600000000001,1322.67,1196.5800000000002,17.95,15.96,570.61,98.44,15.98,5.97,31.98,43.96,80.0,135.91],\"yaxis\":\"y\"}],                        {\"annotations\":[{\"arrowhead\":3,\"ay\":-40,\"font\":{\"size\":11},\"showarrow\":true,\"text\":\"<b>Maior pico de vendas<br> em novembro</b>\",\"x\":\"2021-11-08\",\"y\":1016.66}],\"height\":500,\"legend\":{\"tracegroupgap\":0},\"margin\":{\"t\":60},\"template\":{\"data\":{\"bar\":[{\"error_x\":{\"color\":\"#2a3f5f\"},\"error_y\":{\"color\":\"#2a3f5f\"},\"marker\":{\"line\":{\"color\":\"#E5ECF6\",\"width\":0.5},\"pattern\":{\"fillmode\":\"overlay\",\"size\":10,\"solidity\":0.2}},\"type\":\"bar\"}],\"barpolar\":[{\"marker\":{\"line\":{\"color\":\"#E5ECF6\",\"width\":0.5},\"pattern\":{\"fillmode\":\"overlay\",\"size\":10,\"solidity\":0.2}},\"type\":\"barpolar\"}],\"carpet\":[{\"aaxis\":{\"endlinecolor\":\"#2a3f5f\",\"gridcolor\":\"white\",\"linecolor\":\"white\",\"minorgridcolor\":\"white\",\"startlinecolor\":\"#2a3f5f\"},\"baxis\":{\"endlinecolor\":\"#2a3f5f\",\"gridcolor\":\"white\",\"linecolor\":\"white\",\"minorgridcolor\":\"white\",\"startlinecolor\":\"#2a3f5f\"},\"type\":\"carpet\"}],\"choropleth\":[{\"colorbar\":{\"outlinewidth\":0,\"ticks\":\"\"},\"type\":\"choropleth\"}],\"contour\":[{\"colorbar\":{\"outlinewidth\":0,\"ticks\":\"\"},\"colorscale\":[[0.0,\"#0d0887\"],[0.1111111111111111,\"#46039f\"],[0.2222222222222222,\"#7201a8\"],[0.3333333333333333,\"#9c179e\"],[0.4444444444444444,\"#bd3786\"],[0.5555555555555556,\"#d8576b\"],[0.6666666666666666,\"#ed7953\"],[0.7777777777777778,\"#fb9f3a\"],[0.8888888888888888,\"#fdca26\"],[1.0,\"#f0f921\"]],\"type\":\"contour\"}],\"contourcarpet\":[{\"colorbar\":{\"outlinewidth\":0,\"ticks\":\"\"},\"type\":\"contourcarpet\"}],\"heatmap\":[{\"colorbar\":{\"outlinewidth\":0,\"ticks\":\"\"},\"colorscale\":[[0.0,\"#0d0887\"],[0.1111111111111111,\"#46039f\"],[0.2222222222222222,\"#7201a8\"],[0.3333333333333333,\"#9c179e\"],[0.4444444444444444,\"#bd3786\"],[0.5555555555555556,\"#d8576b\"],[0.6666666666666666,\"#ed7953\"],[0.7777777777777778,\"#fb9f3a\"],[0.8888888888888888,\"#fdca26\"],[1.0,\"#f0f921\"]],\"type\":\"heatmap\"}],\"heatmapgl\":[{\"colorbar\":{\"outlinewidth\":0,\"ticks\":\"\"},\"colorscale\":[[0.0,\"#0d0887\"],[0.1111111111111111,\"#46039f\"],[0.2222222222222222,\"#7201a8\"],[0.3333333333333333,\"#9c179e\"],[0.4444444444444444,\"#bd3786\"],[0.5555555555555556,\"#d8576b\"],[0.6666666666666666,\"#ed7953\"],[0.7777777777777778,\"#fb9f3a\"],[0.8888888888888888,\"#fdca26\"],[1.0,\"#f0f921\"]],\"type\":\"heatmapgl\"}],\"histogram\":[{\"marker\":{\"pattern\":{\"fillmode\":\"overlay\",\"size\":10,\"solidity\":0.2}},\"type\":\"histogram\"}],\"histogram2d\":[{\"colorbar\":{\"outlinewidth\":0,\"ticks\":\"\"},\"colorscale\":[[0.0,\"#0d0887\"],[0.1111111111111111,\"#46039f\"],[0.2222222222222222,\"#7201a8\"],[0.3333333333333333,\"#9c179e\"],[0.4444444444444444,\"#bd3786\"],[0.5555555555555556,\"#d8576b\"],[0.6666666666666666,\"#ed7953\"],[0.7777777777777778,\"#fb9f3a\"],[0.8888888888888888,\"#fdca26\"],[1.0,\"#f0f921\"]],\"type\":\"histogram2d\"}],\"histogram2dcontour\":[{\"colorbar\":{\"outlinewidth\":0,\"ticks\":\"\"},\"colorscale\":[[0.0,\"#0d0887\"],[0.1111111111111111,\"#46039f\"],[0.2222222222222222,\"#7201a8\"],[0.3333333333333333,\"#9c179e\"],[0.4444444444444444,\"#bd3786\"],[0.5555555555555556,\"#d8576b\"],[0.6666666666666666,\"#ed7953\"],[0.7777777777777778,\"#fb9f3a\"],[0.8888888888888888,\"#fdca26\"],[1.0,\"#f0f921\"]],\"type\":\"histogram2dcontour\"}],\"mesh3d\":[{\"colorbar\":{\"outlinewidth\":0,\"ticks\":\"\"},\"type\":\"mesh3d\"}],\"parcoords\":[{\"line\":{\"colorbar\":{\"outlinewidth\":0,\"ticks\":\"\"}},\"type\":\"parcoords\"}],\"pie\":[{\"automargin\":true,\"type\":\"pie\"}],\"scatter\":[{\"marker\":{\"colorbar\":{\"outlinewidth\":0,\"ticks\":\"\"}},\"type\":\"scatter\"}],\"scatter3d\":[{\"line\":{\"colorbar\":{\"outlinewidth\":0,\"ticks\":\"\"}},\"marker\":{\"colorbar\":{\"outlinewidth\":0,\"ticks\":\"\"}},\"type\":\"scatter3d\"}],\"scattercarpet\":[{\"marker\":{\"colorbar\":{\"outlinewidth\":0,\"ticks\":\"\"}},\"type\":\"scattercarpet\"}],\"scattergeo\":[{\"marker\":{\"colorbar\":{\"outlinewidth\":0,\"ticks\":\"\"}},\"type\":\"scattergeo\"}],\"scattergl\":[{\"marker\":{\"colorbar\":{\"outlinewidth\":0,\"ticks\":\"\"}},\"type\":\"scattergl\"}],\"scattermapbox\":[{\"marker\":{\"colorbar\":{\"outlinewidth\":0,\"ticks\":\"\"}},\"type\":\"scattermapbox\"}],\"scatterpolar\":[{\"marker\":{\"colorbar\":{\"outlinewidth\":0,\"ticks\":\"\"}},\"type\":\"scatterpolar\"}],\"scatterpolargl\":[{\"marker\":{\"colorbar\":{\"outlinewidth\":0,\"ticks\":\"\"}},\"type\":\"scatterpolargl\"}],\"scatterternary\":[{\"marker\":{\"colorbar\":{\"outlinewidth\":0,\"ticks\":\"\"}},\"type\":\"scatterternary\"}],\"surface\":[{\"colorbar\":{\"outlinewidth\":0,\"ticks\":\"\"},\"colorscale\":[[0.0,\"#0d0887\"],[0.1111111111111111,\"#46039f\"],[0.2222222222222222,\"#7201a8\"],[0.3333333333333333,\"#9c179e\"],[0.4444444444444444,\"#bd3786\"],[0.5555555555555556,\"#d8576b\"],[0.6666666666666666,\"#ed7953\"],[0.7777777777777778,\"#fb9f3a\"],[0.8888888888888888,\"#fdca26\"],[1.0,\"#f0f921\"]],\"type\":\"surface\"}],\"table\":[{\"cells\":{\"fill\":{\"color\":\"#EBF0F8\"},\"line\":{\"color\":\"white\"}},\"header\":{\"fill\":{\"color\":\"#C8D4E3\"},\"line\":{\"color\":\"white\"}},\"type\":\"table\"}]},\"layout\":{\"annotationdefaults\":{\"arrowcolor\":\"#2a3f5f\",\"arrowhead\":0,\"arrowwidth\":1},\"autotypenumbers\":\"strict\",\"coloraxis\":{\"colorbar\":{\"outlinewidth\":0,\"ticks\":\"\"}},\"colorscale\":{\"diverging\":[[0,\"#8e0152\"],[0.1,\"#c51b7d\"],[0.2,\"#de77ae\"],[0.3,\"#f1b6da\"],[0.4,\"#fde0ef\"],[0.5,\"#f7f7f7\"],[0.6,\"#e6f5d0\"],[0.7,\"#b8e186\"],[0.8,\"#7fbc41\"],[0.9,\"#4d9221\"],[1,\"#276419\"]],\"sequential\":[[0.0,\"#0d0887\"],[0.1111111111111111,\"#46039f\"],[0.2222222222222222,\"#7201a8\"],[0.3333333333333333,\"#9c179e\"],[0.4444444444444444,\"#bd3786\"],[0.5555555555555556,\"#d8576b\"],[0.6666666666666666,\"#ed7953\"],[0.7777777777777778,\"#fb9f3a\"],[0.8888888888888888,\"#fdca26\"],[1.0,\"#f0f921\"]],\"sequentialminus\":[[0.0,\"#0d0887\"],[0.1111111111111111,\"#46039f\"],[0.2222222222222222,\"#7201a8\"],[0.3333333333333333,\"#9c179e\"],[0.4444444444444444,\"#bd3786\"],[0.5555555555555556,\"#d8576b\"],[0.6666666666666666,\"#ed7953\"],[0.7777777777777778,\"#fb9f3a\"],[0.8888888888888888,\"#fdca26\"],[1.0,\"#f0f921\"]]},\"colorway\":[\"#636efa\",\"#EF553B\",\"#00cc96\",\"#ab63fa\",\"#FFA15A\",\"#19d3f3\",\"#FF6692\",\"#B6E880\",\"#FF97FF\",\"#FECB52\"],\"font\":{\"color\":\"#2a3f5f\"},\"geo\":{\"bgcolor\":\"white\",\"lakecolor\":\"white\",\"landcolor\":\"#E5ECF6\",\"showlakes\":true,\"showland\":true,\"subunitcolor\":\"white\"},\"hoverlabel\":{\"align\":\"left\"},\"hovermode\":\"closest\",\"mapbox\":{\"style\":\"light\"},\"paper_bgcolor\":\"white\",\"plot_bgcolor\":\"#E5ECF6\",\"polar\":{\"angularaxis\":{\"gridcolor\":\"white\",\"linecolor\":\"white\",\"ticks\":\"\"},\"bgcolor\":\"#E5ECF6\",\"radialaxis\":{\"gridcolor\":\"white\",\"linecolor\":\"white\",\"ticks\":\"\"}},\"scene\":{\"xaxis\":{\"backgroundcolor\":\"#E5ECF6\",\"gridcolor\":\"white\",\"gridwidth\":2,\"linecolor\":\"white\",\"showbackground\":true,\"ticks\":\"\",\"zerolinecolor\":\"white\"},\"yaxis\":{\"backgroundcolor\":\"#E5ECF6\",\"gridcolor\":\"white\",\"gridwidth\":2,\"linecolor\":\"white\",\"showbackground\":true,\"ticks\":\"\",\"zerolinecolor\":\"white\"},\"zaxis\":{\"backgroundcolor\":\"#E5ECF6\",\"gridcolor\":\"white\",\"gridwidth\":2,\"linecolor\":\"white\",\"showbackground\":true,\"ticks\":\"\",\"zerolinecolor\":\"white\"}},\"shapedefaults\":{\"line\":{\"color\":\"#2a3f5f\"}},\"ternary\":{\"aaxis\":{\"gridcolor\":\"white\",\"linecolor\":\"white\",\"ticks\":\"\"},\"baxis\":{\"gridcolor\":\"white\",\"linecolor\":\"white\",\"ticks\":\"\"},\"bgcolor\":\"#E5ECF6\",\"caxis\":{\"gridcolor\":\"white\",\"linecolor\":\"white\",\"ticks\":\"\"}},\"title\":{\"x\":0.05},\"xaxis\":{\"automargin\":true,\"gridcolor\":\"white\",\"linecolor\":\"white\",\"ticks\":\"\",\"title\":{\"standoff\":15},\"zerolinecolor\":\"white\",\"zerolinewidth\":2},\"yaxis\":{\"automargin\":true,\"gridcolor\":\"white\",\"linecolor\":\"white\",\"ticks\":\"\",\"title\":{\"standoff\":15},\"zerolinecolor\":\"white\",\"zerolinewidth\":2}}},\"width\":800,\"xaxis\":{\"anchor\":\"y\",\"domain\":[0.0,1.0],\"title\":{\"text\":\"Data\"}},\"yaxis\":{\"anchor\":\"x\",\"domain\":[0.0,1.0],\"title\":{\"text\":\"Total gasto pelo clientes\"}}},                        {\"responsive\": true}                    ).then(function(){\n",
       "                            \n",
       "var gd = document.getElementById('ef4e2e25-8080-4d67-9368-ed0997c7d8d7');\n",
       "var x = new MutationObserver(function (mutations, observer) {{\n",
       "        var display = window.getComputedStyle(gd).display;\n",
       "        if (!display || display === 'none') {{\n",
       "            console.log([gd, 'removed!']);\n",
       "            Plotly.purge(gd);\n",
       "            observer.disconnect();\n",
       "        }}\n",
       "}});\n",
       "\n",
       "// Listen for the removal of the full notebook cells\n",
       "var notebookContainer = gd.closest('#notebook-container');\n",
       "if (notebookContainer) {{\n",
       "    x.observe(notebookContainer, {childList: true});\n",
       "}}\n",
       "\n",
       "// Listen for the clearing of the current output cell\n",
       "var outputEl = gd.closest('.output');\n",
       "if (outputEl) {{\n",
       "    x.observe(outputEl, {childList: true});\n",
       "}}\n",
       "\n",
       "                        })                };                });            </script>        </div>"
      ]
     },
     "metadata": {},
     "output_type": "display_data"
    }
   ],
   "source": [
    "venda_produtos_cliente_pt_grup_temp = venda_produtos_cliente_pt.groupby(\"data\").sum().sort_values('data').reset_index()\n",
    "\n",
    "fig_vendas_tempo = px.line(venda_produtos_cliente_pt_grup_temp, x=\"data\", y=\"total_preco\", labels={\"data\": \"Data\", \"total_preco\": \"Total gasto pelo clientes\"}, height=500, width=800) \n",
    "\n",
    "fig_vendas_tempo.update_layout(\n",
    "                #criando anotações\n",
    "                annotations=[\n",
    "                        {\"x\":\"2021-11-08\", \"y\":1016.66, \"ay\": -40, \n",
    "                        \"text\": \"<b>Maior pico de vendas<br> em novembro</b>\",\n",
    "                        \"arrowhead\": 3, \"showarrow\":True,\n",
    "                        \"font\": {\"size\": 11}}\n",
    "                    ])\n",
    "fig_vendas_tempo.show()"
   ]
  },
  {
   "cell_type": "markdown",
   "id": "97f1a2ce",
   "metadata": {},
   "source": [
    "## Lucro"
   ]
  },
  {
   "cell_type": "code",
   "execution_count": 21,
   "id": "a87aa3da",
   "metadata": {},
   "outputs": [],
   "source": [
    "venda_produtos_cliente[\"lucro\"]=(venda_produtos_cliente[\"preco\"]-venda_produtos_cliente[\"custo\"])*venda_produtos_cliente[\"quantidade\"]"
   ]
  },
  {
   "cell_type": "code",
   "execution_count": 22,
   "id": "e51cebcf",
   "metadata": {},
   "outputs": [
    {
     "data": {
      "text/html": [
       "<div>\n",
       "<style scoped>\n",
       "    .dataframe tbody tr th:only-of-type {\n",
       "        vertical-align: middle;\n",
       "    }\n",
       "\n",
       "    .dataframe tbody tr th {\n",
       "        vertical-align: top;\n",
       "    }\n",
       "\n",
       "    .dataframe thead th {\n",
       "        text-align: right;\n",
       "    }\n",
       "</style>\n",
       "<table border=\"1\" class=\"dataframe\">\n",
       "  <thead>\n",
       "    <tr style=\"text-align: right;\">\n",
       "      <th></th>\n",
       "      <th>id_vendas</th>\n",
       "      <th>id_produtos</th>\n",
       "      <th>quantidade</th>\n",
       "      <th>nome</th>\n",
       "      <th>secao</th>\n",
       "      <th>custo</th>\n",
       "      <th>preco</th>\n",
       "      <th>prateleira</th>\n",
       "      <th>estoque</th>\n",
       "      <th>unidade_de_medida_de_estoque</th>\n",
       "      <th>...</th>\n",
       "      <th>data</th>\n",
       "      <th>nome_cliente</th>\n",
       "      <th>nascimento</th>\n",
       "      <th>endereco</th>\n",
       "      <th>cpf</th>\n",
       "      <th>telefone</th>\n",
       "      <th>usuario</th>\n",
       "      <th>senha</th>\n",
       "      <th>total_preco</th>\n",
       "      <th>lucro</th>\n",
       "    </tr>\n",
       "  </thead>\n",
       "  <tbody>\n",
       "    <tr>\n",
       "      <th>0</th>\n",
       "      <td>0</td>\n",
       "      <td>8</td>\n",
       "      <td>2</td>\n",
       "      <td>couve-flor</td>\n",
       "      <td>Alimentos em Geral</td>\n",
       "      <td>3.19</td>\n",
       "      <td>5.48</td>\n",
       "      <td>2E</td>\n",
       "      <td>20</td>\n",
       "      <td>pé</td>\n",
       "      <td>...</td>\n",
       "      <td>2021-11-01</td>\n",
       "      <td>Breno Teixeira</td>\n",
       "      <td>1979-03-01</td>\n",
       "      <td>Setor Vitor Gabriel Ramos, 21\\nVila Nova Gamel...</td>\n",
       "      <td>832.741.906-40</td>\n",
       "      <td>+55 81 2069 3899</td>\n",
       "      <td>guilherme62</td>\n",
       "      <td>$52Q4jMjVvbK</td>\n",
       "      <td>10.96</td>\n",
       "      <td>4.58</td>\n",
       "    </tr>\n",
       "    <tr>\n",
       "      <th>1</th>\n",
       "      <td>0</td>\n",
       "      <td>19</td>\n",
       "      <td>4</td>\n",
       "      <td>peito de frango</td>\n",
       "      <td>Açougue</td>\n",
       "      <td>11.19</td>\n",
       "      <td>16.49</td>\n",
       "      <td>4D</td>\n",
       "      <td>10</td>\n",
       "      <td>kg</td>\n",
       "      <td>...</td>\n",
       "      <td>2021-11-01</td>\n",
       "      <td>Breno Teixeira</td>\n",
       "      <td>1979-03-01</td>\n",
       "      <td>Setor Vitor Gabriel Ramos, 21\\nVila Nova Gamel...</td>\n",
       "      <td>832.741.906-40</td>\n",
       "      <td>+55 81 2069 3899</td>\n",
       "      <td>guilherme62</td>\n",
       "      <td>$52Q4jMjVvbK</td>\n",
       "      <td>65.96</td>\n",
       "      <td>21.20</td>\n",
       "    </tr>\n",
       "    <tr>\n",
       "      <th>2</th>\n",
       "      <td>0</td>\n",
       "      <td>15</td>\n",
       "      <td>3</td>\n",
       "      <td>carré de cordeiro</td>\n",
       "      <td>Açougue</td>\n",
       "      <td>147.99</td>\n",
       "      <td>172.00</td>\n",
       "      <td>5B</td>\n",
       "      <td>5</td>\n",
       "      <td>kg</td>\n",
       "      <td>...</td>\n",
       "      <td>2021-11-01</td>\n",
       "      <td>Breno Teixeira</td>\n",
       "      <td>1979-03-01</td>\n",
       "      <td>Setor Vitor Gabriel Ramos, 21\\nVila Nova Gamel...</td>\n",
       "      <td>832.741.906-40</td>\n",
       "      <td>+55 81 2069 3899</td>\n",
       "      <td>guilherme62</td>\n",
       "      <td>$52Q4jMjVvbK</td>\n",
       "      <td>516.00</td>\n",
       "      <td>72.03</td>\n",
       "    </tr>\n",
       "    <tr>\n",
       "      <th>3</th>\n",
       "      <td>0</td>\n",
       "      <td>26</td>\n",
       "      <td>4</td>\n",
       "      <td>sonho</td>\n",
       "      <td>Padaria</td>\n",
       "      <td>1.79</td>\n",
       "      <td>3.49</td>\n",
       "      <td>6B</td>\n",
       "      <td>20</td>\n",
       "      <td>unidade</td>\n",
       "      <td>...</td>\n",
       "      <td>2021-11-01</td>\n",
       "      <td>Breno Teixeira</td>\n",
       "      <td>1979-03-01</td>\n",
       "      <td>Setor Vitor Gabriel Ramos, 21\\nVila Nova Gamel...</td>\n",
       "      <td>832.741.906-40</td>\n",
       "      <td>+55 81 2069 3899</td>\n",
       "      <td>guilherme62</td>\n",
       "      <td>$52Q4jMjVvbK</td>\n",
       "      <td>13.96</td>\n",
       "      <td>6.80</td>\n",
       "    </tr>\n",
       "    <tr>\n",
       "      <th>4</th>\n",
       "      <td>0</td>\n",
       "      <td>0</td>\n",
       "      <td>2</td>\n",
       "      <td>morango</td>\n",
       "      <td>Alimentos em Geral</td>\n",
       "      <td>4.30</td>\n",
       "      <td>7.99</td>\n",
       "      <td>1A</td>\n",
       "      <td>50</td>\n",
       "      <td>bandeja</td>\n",
       "      <td>...</td>\n",
       "      <td>2021-11-01</td>\n",
       "      <td>Breno Teixeira</td>\n",
       "      <td>1979-03-01</td>\n",
       "      <td>Setor Vitor Gabriel Ramos, 21\\nVila Nova Gamel...</td>\n",
       "      <td>832.741.906-40</td>\n",
       "      <td>+55 81 2069 3899</td>\n",
       "      <td>guilherme62</td>\n",
       "      <td>$52Q4jMjVvbK</td>\n",
       "      <td>15.98</td>\n",
       "      <td>7.38</td>\n",
       "    </tr>\n",
       "    <tr>\n",
       "      <th>...</th>\n",
       "      <td>...</td>\n",
       "      <td>...</td>\n",
       "      <td>...</td>\n",
       "      <td>...</td>\n",
       "      <td>...</td>\n",
       "      <td>...</td>\n",
       "      <td>...</td>\n",
       "      <td>...</td>\n",
       "      <td>...</td>\n",
       "      <td>...</td>\n",
       "      <td>...</td>\n",
       "      <td>...</td>\n",
       "      <td>...</td>\n",
       "      <td>...</td>\n",
       "      <td>...</td>\n",
       "      <td>...</td>\n",
       "      <td>...</td>\n",
       "      <td>...</td>\n",
       "      <td>...</td>\n",
       "      <td>...</td>\n",
       "      <td>...</td>\n",
       "    </tr>\n",
       "    <tr>\n",
       "      <th>2495</th>\n",
       "      <td>429</td>\n",
       "      <td>35</td>\n",
       "      <td>3</td>\n",
       "      <td>sabonete</td>\n",
       "      <td>Produtos de Limpeza</td>\n",
       "      <td>0.65</td>\n",
       "      <td>1.29</td>\n",
       "      <td>9D</td>\n",
       "      <td>58</td>\n",
       "      <td>unidade</td>\n",
       "      <td>...</td>\n",
       "      <td>2021-11-27</td>\n",
       "      <td>Srta. Ana Sophia da Rocha</td>\n",
       "      <td>1994-10-20</td>\n",
       "      <td>Feira Teixeira\\nVila Vista Alegre\\n39866-079 C...</td>\n",
       "      <td>139.852.406-98</td>\n",
       "      <td>(081) 6861 0352</td>\n",
       "      <td>felipe22</td>\n",
       "      <td>!1PpXyQ3PbOe</td>\n",
       "      <td>3.87</td>\n",
       "      <td>1.92</td>\n",
       "    </tr>\n",
       "    <tr>\n",
       "      <th>2496</th>\n",
       "      <td>331</td>\n",
       "      <td>32</td>\n",
       "      <td>4</td>\n",
       "      <td>odorizador</td>\n",
       "      <td>Produtos de Limpeza</td>\n",
       "      <td>14.38</td>\n",
       "      <td>23.99</td>\n",
       "      <td>9B</td>\n",
       "      <td>6</td>\n",
       "      <td>unidade</td>\n",
       "      <td>...</td>\n",
       "      <td>2021-11-22</td>\n",
       "      <td>Dr. Davi Gomes</td>\n",
       "      <td>1969-05-18</td>\n",
       "      <td>Quadra Mirella Rocha, 82\\nMineirão\\n22873942 N...</td>\n",
       "      <td>041.329.865-51</td>\n",
       "      <td>0300 089 7723</td>\n",
       "      <td>bmoreira</td>\n",
       "      <td>!8qa+cw2hIAz</td>\n",
       "      <td>95.96</td>\n",
       "      <td>38.44</td>\n",
       "    </tr>\n",
       "    <tr>\n",
       "      <th>2497</th>\n",
       "      <td>357</td>\n",
       "      <td>32</td>\n",
       "      <td>2</td>\n",
       "      <td>odorizador</td>\n",
       "      <td>Produtos de Limpeza</td>\n",
       "      <td>14.38</td>\n",
       "      <td>23.99</td>\n",
       "      <td>9B</td>\n",
       "      <td>6</td>\n",
       "      <td>unidade</td>\n",
       "      <td>...</td>\n",
       "      <td>2021-11-23</td>\n",
       "      <td>Camila Monteiro</td>\n",
       "      <td>1993-05-05</td>\n",
       "      <td>Parque Joaquim Peixoto, 764\\nJardim Guanabara\\...</td>\n",
       "      <td>987.235.046-92</td>\n",
       "      <td>+55 (051) 2058-5223</td>\n",
       "      <td>ana-vitoriasilveira</td>\n",
       "      <td>7@t79zkq@*Aa</td>\n",
       "      <td>47.98</td>\n",
       "      <td>19.22</td>\n",
       "    </tr>\n",
       "    <tr>\n",
       "      <th>2498</th>\n",
       "      <td>286</td>\n",
       "      <td>18</td>\n",
       "      <td>2</td>\n",
       "      <td>picanha</td>\n",
       "      <td>Açougue</td>\n",
       "      <td>43.35</td>\n",
       "      <td>70.89</td>\n",
       "      <td>4C</td>\n",
       "      <td>6</td>\n",
       "      <td>kg</td>\n",
       "      <td>...</td>\n",
       "      <td>2021-11-19</td>\n",
       "      <td>Emanuelly da Cruz</td>\n",
       "      <td>1977-12-12</td>\n",
       "      <td>Núcleo Valentina Costa, 91\\nVila Nova Cachoeir...</td>\n",
       "      <td>965.412.307-06</td>\n",
       "      <td>+55 61 3999-6518</td>\n",
       "      <td>aliceviana</td>\n",
       "      <td>9iMTa@ab*1H3</td>\n",
       "      <td>141.78</td>\n",
       "      <td>55.08</td>\n",
       "    </tr>\n",
       "    <tr>\n",
       "      <th>2499</th>\n",
       "      <td>208</td>\n",
       "      <td>20</td>\n",
       "      <td>3</td>\n",
       "      <td>bolo</td>\n",
       "      <td>Padaria</td>\n",
       "      <td>17.89</td>\n",
       "      <td>35.00</td>\n",
       "      <td>6A</td>\n",
       "      <td>7</td>\n",
       "      <td>kg</td>\n",
       "      <td>...</td>\n",
       "      <td>2021-11-15</td>\n",
       "      <td>Enzo Gabriel Nascimento</td>\n",
       "      <td>1964-03-13</td>\n",
       "      <td>Loteamento Fernanda Ramos, 3\\nVila Piratininga...</td>\n",
       "      <td>971.843.205-14</td>\n",
       "      <td>+55 (041) 0779 9005</td>\n",
       "      <td>xpires</td>\n",
       "      <td>3X%4DuWiP(yC</td>\n",
       "      <td>105.00</td>\n",
       "      <td>51.33</td>\n",
       "    </tr>\n",
       "  </tbody>\n",
       "</table>\n",
       "<p>2500 rows × 22 columns</p>\n",
       "</div>"
      ],
      "text/plain": [
       "      id_vendas  id_produtos  quantidade               nome  \\\n",
       "0             0            8           2         couve-flor   \n",
       "1             0           19           4    peito de frango   \n",
       "2             0           15           3  carré de cordeiro   \n",
       "3             0           26           4              sonho   \n",
       "4             0            0           2            morango   \n",
       "...         ...          ...         ...                ...   \n",
       "2495        429           35           3           sabonete   \n",
       "2496        331           32           4         odorizador   \n",
       "2497        357           32           2         odorizador   \n",
       "2498        286           18           2            picanha   \n",
       "2499        208           20           3               bolo   \n",
       "\n",
       "                    secao   custo   preco prateleira  estoque  \\\n",
       "0      Alimentos em Geral    3.19    5.48         2E       20   \n",
       "1                 Açougue   11.19   16.49         4D       10   \n",
       "2                 Açougue  147.99  172.00         5B        5   \n",
       "3                 Padaria    1.79    3.49         6B       20   \n",
       "4      Alimentos em Geral    4.30    7.99         1A       50   \n",
       "...                   ...     ...     ...        ...      ...   \n",
       "2495  Produtos de Limpeza    0.65    1.29         9D       58   \n",
       "2496  Produtos de Limpeza   14.38   23.99         9B        6   \n",
       "2497  Produtos de Limpeza   14.38   23.99         9B        6   \n",
       "2498              Açougue   43.35   70.89         4C        6   \n",
       "2499              Padaria   17.89   35.00         6A        7   \n",
       "\n",
       "     unidade_de_medida_de_estoque  ...        data               nome_cliente  \\\n",
       "0                              pé  ...  2021-11-01             Breno Teixeira   \n",
       "1                              kg  ...  2021-11-01             Breno Teixeira   \n",
       "2                              kg  ...  2021-11-01             Breno Teixeira   \n",
       "3                         unidade  ...  2021-11-01             Breno Teixeira   \n",
       "4                         bandeja  ...  2021-11-01             Breno Teixeira   \n",
       "...                           ...  ...         ...                        ...   \n",
       "2495                      unidade  ...  2021-11-27  Srta. Ana Sophia da Rocha   \n",
       "2496                      unidade  ...  2021-11-22             Dr. Davi Gomes   \n",
       "2497                      unidade  ...  2021-11-23            Camila Monteiro   \n",
       "2498                           kg  ...  2021-11-19          Emanuelly da Cruz   \n",
       "2499                           kg  ...  2021-11-15    Enzo Gabriel Nascimento   \n",
       "\n",
       "      nascimento                                           endereco  \\\n",
       "0     1979-03-01  Setor Vitor Gabriel Ramos, 21\\nVila Nova Gamel...   \n",
       "1     1979-03-01  Setor Vitor Gabriel Ramos, 21\\nVila Nova Gamel...   \n",
       "2     1979-03-01  Setor Vitor Gabriel Ramos, 21\\nVila Nova Gamel...   \n",
       "3     1979-03-01  Setor Vitor Gabriel Ramos, 21\\nVila Nova Gamel...   \n",
       "4     1979-03-01  Setor Vitor Gabriel Ramos, 21\\nVila Nova Gamel...   \n",
       "...          ...                                                ...   \n",
       "2495  1994-10-20  Feira Teixeira\\nVila Vista Alegre\\n39866-079 C...   \n",
       "2496  1969-05-18  Quadra Mirella Rocha, 82\\nMineirão\\n22873942 N...   \n",
       "2497  1993-05-05  Parque Joaquim Peixoto, 764\\nJardim Guanabara\\...   \n",
       "2498  1977-12-12  Núcleo Valentina Costa, 91\\nVila Nova Cachoeir...   \n",
       "2499  1964-03-13  Loteamento Fernanda Ramos, 3\\nVila Piratininga...   \n",
       "\n",
       "                 cpf             telefone              usuario         senha  \\\n",
       "0     832.741.906-40     +55 81 2069 3899          guilherme62  $52Q4jMjVvbK   \n",
       "1     832.741.906-40     +55 81 2069 3899          guilherme62  $52Q4jMjVvbK   \n",
       "2     832.741.906-40     +55 81 2069 3899          guilherme62  $52Q4jMjVvbK   \n",
       "3     832.741.906-40     +55 81 2069 3899          guilherme62  $52Q4jMjVvbK   \n",
       "4     832.741.906-40     +55 81 2069 3899          guilherme62  $52Q4jMjVvbK   \n",
       "...              ...                  ...                  ...           ...   \n",
       "2495  139.852.406-98      (081) 6861 0352             felipe22  !1PpXyQ3PbOe   \n",
       "2496  041.329.865-51        0300 089 7723             bmoreira  !8qa+cw2hIAz   \n",
       "2497  987.235.046-92  +55 (051) 2058-5223  ana-vitoriasilveira  7@t79zkq@*Aa   \n",
       "2498  965.412.307-06     +55 61 3999-6518           aliceviana  9iMTa@ab*1H3   \n",
       "2499  971.843.205-14  +55 (041) 0779 9005               xpires  3X%4DuWiP(yC   \n",
       "\n",
       "     total_preco  lucro  \n",
       "0          10.96   4.58  \n",
       "1          65.96  21.20  \n",
       "2         516.00  72.03  \n",
       "3          13.96   6.80  \n",
       "4          15.98   7.38  \n",
       "...          ...    ...  \n",
       "2495        3.87   1.92  \n",
       "2496       95.96  38.44  \n",
       "2497       47.98  19.22  \n",
       "2498      141.78  55.08  \n",
       "2499      105.00  51.33  \n",
       "\n",
       "[2500 rows x 22 columns]"
      ]
     },
     "execution_count": 22,
     "metadata": {},
     "output_type": "execute_result"
    }
   ],
   "source": [
    "venda_produtos_cliente"
   ]
  },
  {
   "cell_type": "code",
   "execution_count": 23,
   "id": "21eb629a",
   "metadata": {},
   "outputs": [],
   "source": [
    "venda_produtos_cliente_soma_lucros = venda_produtos_cliente.groupby(\"data\").sum().sort_values('data').reset_index()\n",
    "\n",
    "df_acougue=venda_produtos_cliente[venda_produtos_cliente[\"secao\"]=='Açougue']\n",
    "df_acougue_lucros = df_acougue.groupby(\"data\").sum().sort_values('data').reset_index()\n",
    "\n",
    "df_frutas_e_verduras=venda_produtos_cliente[venda_produtos_cliente[\"secao\"]=='Alimentos em Geral']\n",
    "df_frutas_e_verduras_lucros = df_frutas_e_verduras.groupby(\"data\").sum().sort_values('data').reset_index()\n",
    "\n",
    "df_padaria=venda_produtos_cliente[venda_produtos_cliente[\"secao\"]=='Padaria']\n",
    "df_padaria_lucros = df_padaria.groupby(\"data\").sum().sort_values('data').reset_index()\n",
    "\n",
    "df_produtos_de_limpeza=venda_produtos_cliente[venda_produtos_cliente[\"secao\"]=='Produtos de Limpeza']\n",
    "df_produtos_de_limpeza_lucros = df_produtos_de_limpeza.groupby(\"data\").sum().sort_values('data').reset_index()"
   ]
  },
  {
   "cell_type": "code",
   "execution_count": 24,
   "id": "23f431e1",
   "metadata": {},
   "outputs": [
    {
     "data": {
      "application/vnd.plotly.v1+json": {
       "config": {
        "plotlyServerURL": "https://plot.ly"
       },
       "data": [
        {
         "mode": "markers+lines",
         "name": "Lucro total",
         "type": "scatter",
         "x": [
          "2021-11-01",
          "2021-11-02",
          "2021-11-03",
          "2021-11-04",
          "2021-11-05",
          "2021-11-06",
          "2021-11-07",
          "2021-11-08",
          "2021-11-09",
          "2021-11-10",
          "2021-11-11",
          "2021-11-12",
          "2021-11-13",
          "2021-11-14",
          "2021-11-15",
          "2021-11-16",
          "2021-11-17",
          "2021-11-18",
          "2021-11-19",
          "2021-11-20",
          "2021-11-21",
          "2021-11-22",
          "2021-11-23",
          "2021-11-24",
          "2021-11-25",
          "2021-11-26",
          "2021-11-27",
          "2021-11-28",
          "2021-11-29",
          "2021-11-30"
         ],
         "y": [
          2025.2999999999988,
          2084.779999999999,
          1398.0599999999997,
          1599.019999999999,
          3153.939999999999,
          1414.6699999999996,
          1405.4699999999993,
          3104.619999999998,
          2952.599999999999,
          2648.9999999999995,
          2024.0699999999988,
          2131.0699999999993,
          2363.1499999999983,
          2388.7999999999984,
          365.74999999999994,
          124.11,
          168.79000000000002,
          395.9100000000001,
          274.47,
          369.6700000000001,
          274.4,
          171.29,
          298.9699999999999,
          210.94000000000003,
          360.45000000000005,
          291.95,
          167.71999999999997,
          411.75,
          226.20999999999998,
          209.53999999999996
         ]
        },
        {
         "mode": "markers+lines",
         "name": "Lucro por dia no açougue",
         "type": "scatter",
         "x": [
          "2021-11-01",
          "2021-11-02",
          "2021-11-03",
          "2021-11-04",
          "2021-11-05",
          "2021-11-06",
          "2021-11-07",
          "2021-11-08",
          "2021-11-09",
          "2021-11-10",
          "2021-11-11",
          "2021-11-12",
          "2021-11-13",
          "2021-11-14",
          "2021-11-15",
          "2021-11-16",
          "2021-11-17",
          "2021-11-18",
          "2021-11-19",
          "2021-11-20",
          "2021-11-21",
          "2021-11-22",
          "2021-11-23",
          "2021-11-24",
          "2021-11-25",
          "2021-11-26",
          "2021-11-27",
          "2021-11-28",
          "2021-11-29",
          "2021-11-30"
         ],
         "y": [
          1192.28,
          856.4299999999998,
          536.6499999999999,
          620.05,
          1667.7000000000003,
          632.3799999999999,
          611.8199999999998,
          1686.7199999999996,
          1371.2199999999998,
          1351.3899999999996,
          881.6999999999997,
          904.1799999999997,
          1117.2299999999998,
          1056.4199999999998,
          60.399999999999984,
          27.54,
          40.51999999999999,
          300.03,
          161.5,
          267.29999999999995,
          60.69999999999999,
          52.50999999999999,
          112.52999999999996,
          117.28,
          174.44,
          117.23999999999995,
          43.999999999999986,
          240.85999999999996,
          103.48999999999997,
          33.12
         ]
        },
        {
         "mode": "markers+lines",
         "name": "Lucro por dia na seção de frutas e verduras",
         "type": "scatter",
         "x": [
          "2021-11-01",
          "2021-11-02",
          "2021-11-03",
          "2021-11-04",
          "2021-11-05",
          "2021-11-06",
          "2021-11-07",
          "2021-11-08",
          "2021-11-09",
          "2021-11-10",
          "2021-11-11",
          "2021-11-12",
          "2021-11-13",
          "2021-11-14",
          "2021-11-15",
          "2021-11-16",
          "2021-11-17",
          "2021-11-18",
          "2021-11-19",
          "2021-11-20",
          "2021-11-21",
          "2021-11-22",
          "2021-11-23",
          "2021-11-24",
          "2021-11-25",
          "2021-11-26",
          "2021-11-27",
          "2021-11-28",
          "2021-11-29",
          "2021-11-30"
         ],
         "y": [
          280.22999999999996,
          377.06999999999994,
          220.99999999999997,
          195.03,
          276.51000000000005,
          211.63,
          168.43000000000004,
          383.86999999999995,
          559.02,
          353.82999999999987,
          310.27,
          370.03999999999996,
          329.8999999999999,
          371.38999999999993,
          79.09000000000002,
          24.960000000000008,
          73.87000000000002,
          31.740000000000006,
          50,
          20.73,
          44.99,
          42.73,
          54.56,
          32.56,
          33.32000000000001,
          46.02,
          24.730000000000004,
          55.17,
          38.889999999999986,
          49.699999999999996
         ]
        },
        {
         "mode": "markers+lines",
         "name": "Lucro por dia na padaria",
         "type": "scatter",
         "x": [
          "2021-11-01",
          "2021-11-02",
          "2021-11-03",
          "2021-11-04",
          "2021-11-05",
          "2021-11-06",
          "2021-11-07",
          "2021-11-08",
          "2021-11-09",
          "2021-11-10",
          "2021-11-11",
          "2021-11-12",
          "2021-11-13",
          "2021-11-14",
          "2021-11-15",
          "2021-11-16",
          "2021-11-17",
          "2021-11-18",
          "2021-11-19",
          "2021-11-20",
          "2021-11-21",
          "2021-11-22",
          "2021-11-23",
          "2021-11-24",
          "2021-11-25",
          "2021-11-26",
          "2021-11-27",
          "2021-11-28",
          "2021-11-29",
          "2021-11-30"
         ],
         "y": [
          374.26,
          485.47999999999996,
          489.5,
          584.81,
          782.1800000000001,
          485.23,
          403.12,
          786.0499999999998,
          630.7099999999999,
          631.17,
          469.51,
          639.28,
          543.66,
          650.97,
          136.67,
          33.05,
          38.32000000000001,
          32.06,
          51.33,
          56.400000000000006,
          68.44,
          37.61,
          83.24000000000001,
          54.1,
          112.25,
          55.400000000000006,
          42.11,
          104,
          60.629999999999995,
          75.4
         ]
        },
        {
         "mode": "markers+lines",
         "name": "Lucro por dia na seção de limpezas",
         "type": "scatter",
         "x": [
          "2021-11-01",
          "2021-11-02",
          "2021-11-03",
          "2021-11-04",
          "2021-11-05",
          "2021-11-06",
          "2021-11-07",
          "2021-11-08",
          "2021-11-09",
          "2021-11-10",
          "2021-11-11",
          "2021-11-12",
          "2021-11-13",
          "2021-11-14",
          "2021-11-15",
          "2021-11-16",
          "2021-11-17",
          "2021-11-18",
          "2021-11-19",
          "2021-11-20",
          "2021-11-21",
          "2021-11-22",
          "2021-11-23",
          "2021-11-24",
          "2021-11-25",
          "2021-11-26",
          "2021-11-27",
          "2021-11-28",
          "2021-11-29",
          "2021-11-30"
         ],
         "y": [
          178.52999999999997,
          365.79999999999995,
          150.90999999999997,
          199.12999999999997,
          427.5499999999999,
          85.43,
          222.09999999999994,
          247.98,
          391.6499999999999,
          312.61000000000007,
          362.5899999999999,
          217.56999999999996,
          372.35999999999996,
          310.02,
          89.59000000000002,
          38.56,
          16.080000000000002,
          32.08,
          11.64,
          25.24,
          100.26999999999998,
          38.43999999999999,
          48.64,
          6.999999999999999,
          40.44,
          73.28999999999998,
          56.87999999999999,
          11.72,
          23.2,
          51.31999999999999
         ]
        }
       ],
       "layout": {
        "font": {
         "color": "black",
         "family": "Arial",
         "size": 14
        },
        "plot_bgcolor": "white",
        "template": {
         "data": {
          "bar": [
           {
            "error_x": {
             "color": "#2a3f5f"
            },
            "error_y": {
             "color": "#2a3f5f"
            },
            "marker": {
             "line": {
              "color": "#E5ECF6",
              "width": 0.5
             },
             "pattern": {
              "fillmode": "overlay",
              "size": 10,
              "solidity": 0.2
             }
            },
            "type": "bar"
           }
          ],
          "barpolar": [
           {
            "marker": {
             "line": {
              "color": "#E5ECF6",
              "width": 0.5
             },
             "pattern": {
              "fillmode": "overlay",
              "size": 10,
              "solidity": 0.2
             }
            },
            "type": "barpolar"
           }
          ],
          "carpet": [
           {
            "aaxis": {
             "endlinecolor": "#2a3f5f",
             "gridcolor": "white",
             "linecolor": "white",
             "minorgridcolor": "white",
             "startlinecolor": "#2a3f5f"
            },
            "baxis": {
             "endlinecolor": "#2a3f5f",
             "gridcolor": "white",
             "linecolor": "white",
             "minorgridcolor": "white",
             "startlinecolor": "#2a3f5f"
            },
            "type": "carpet"
           }
          ],
          "choropleth": [
           {
            "colorbar": {
             "outlinewidth": 0,
             "ticks": ""
            },
            "type": "choropleth"
           }
          ],
          "contour": [
           {
            "colorbar": {
             "outlinewidth": 0,
             "ticks": ""
            },
            "colorscale": [
             [
              0,
              "#0d0887"
             ],
             [
              0.1111111111111111,
              "#46039f"
             ],
             [
              0.2222222222222222,
              "#7201a8"
             ],
             [
              0.3333333333333333,
              "#9c179e"
             ],
             [
              0.4444444444444444,
              "#bd3786"
             ],
             [
              0.5555555555555556,
              "#d8576b"
             ],
             [
              0.6666666666666666,
              "#ed7953"
             ],
             [
              0.7777777777777778,
              "#fb9f3a"
             ],
             [
              0.8888888888888888,
              "#fdca26"
             ],
             [
              1,
              "#f0f921"
             ]
            ],
            "type": "contour"
           }
          ],
          "contourcarpet": [
           {
            "colorbar": {
             "outlinewidth": 0,
             "ticks": ""
            },
            "type": "contourcarpet"
           }
          ],
          "heatmap": [
           {
            "colorbar": {
             "outlinewidth": 0,
             "ticks": ""
            },
            "colorscale": [
             [
              0,
              "#0d0887"
             ],
             [
              0.1111111111111111,
              "#46039f"
             ],
             [
              0.2222222222222222,
              "#7201a8"
             ],
             [
              0.3333333333333333,
              "#9c179e"
             ],
             [
              0.4444444444444444,
              "#bd3786"
             ],
             [
              0.5555555555555556,
              "#d8576b"
             ],
             [
              0.6666666666666666,
              "#ed7953"
             ],
             [
              0.7777777777777778,
              "#fb9f3a"
             ],
             [
              0.8888888888888888,
              "#fdca26"
             ],
             [
              1,
              "#f0f921"
             ]
            ],
            "type": "heatmap"
           }
          ],
          "heatmapgl": [
           {
            "colorbar": {
             "outlinewidth": 0,
             "ticks": ""
            },
            "colorscale": [
             [
              0,
              "#0d0887"
             ],
             [
              0.1111111111111111,
              "#46039f"
             ],
             [
              0.2222222222222222,
              "#7201a8"
             ],
             [
              0.3333333333333333,
              "#9c179e"
             ],
             [
              0.4444444444444444,
              "#bd3786"
             ],
             [
              0.5555555555555556,
              "#d8576b"
             ],
             [
              0.6666666666666666,
              "#ed7953"
             ],
             [
              0.7777777777777778,
              "#fb9f3a"
             ],
             [
              0.8888888888888888,
              "#fdca26"
             ],
             [
              1,
              "#f0f921"
             ]
            ],
            "type": "heatmapgl"
           }
          ],
          "histogram": [
           {
            "marker": {
             "pattern": {
              "fillmode": "overlay",
              "size": 10,
              "solidity": 0.2
             }
            },
            "type": "histogram"
           }
          ],
          "histogram2d": [
           {
            "colorbar": {
             "outlinewidth": 0,
             "ticks": ""
            },
            "colorscale": [
             [
              0,
              "#0d0887"
             ],
             [
              0.1111111111111111,
              "#46039f"
             ],
             [
              0.2222222222222222,
              "#7201a8"
             ],
             [
              0.3333333333333333,
              "#9c179e"
             ],
             [
              0.4444444444444444,
              "#bd3786"
             ],
             [
              0.5555555555555556,
              "#d8576b"
             ],
             [
              0.6666666666666666,
              "#ed7953"
             ],
             [
              0.7777777777777778,
              "#fb9f3a"
             ],
             [
              0.8888888888888888,
              "#fdca26"
             ],
             [
              1,
              "#f0f921"
             ]
            ],
            "type": "histogram2d"
           }
          ],
          "histogram2dcontour": [
           {
            "colorbar": {
             "outlinewidth": 0,
             "ticks": ""
            },
            "colorscale": [
             [
              0,
              "#0d0887"
             ],
             [
              0.1111111111111111,
              "#46039f"
             ],
             [
              0.2222222222222222,
              "#7201a8"
             ],
             [
              0.3333333333333333,
              "#9c179e"
             ],
             [
              0.4444444444444444,
              "#bd3786"
             ],
             [
              0.5555555555555556,
              "#d8576b"
             ],
             [
              0.6666666666666666,
              "#ed7953"
             ],
             [
              0.7777777777777778,
              "#fb9f3a"
             ],
             [
              0.8888888888888888,
              "#fdca26"
             ],
             [
              1,
              "#f0f921"
             ]
            ],
            "type": "histogram2dcontour"
           }
          ],
          "mesh3d": [
           {
            "colorbar": {
             "outlinewidth": 0,
             "ticks": ""
            },
            "type": "mesh3d"
           }
          ],
          "parcoords": [
           {
            "line": {
             "colorbar": {
              "outlinewidth": 0,
              "ticks": ""
             }
            },
            "type": "parcoords"
           }
          ],
          "pie": [
           {
            "automargin": true,
            "type": "pie"
           }
          ],
          "scatter": [
           {
            "marker": {
             "colorbar": {
              "outlinewidth": 0,
              "ticks": ""
             }
            },
            "type": "scatter"
           }
          ],
          "scatter3d": [
           {
            "line": {
             "colorbar": {
              "outlinewidth": 0,
              "ticks": ""
             }
            },
            "marker": {
             "colorbar": {
              "outlinewidth": 0,
              "ticks": ""
             }
            },
            "type": "scatter3d"
           }
          ],
          "scattercarpet": [
           {
            "marker": {
             "colorbar": {
              "outlinewidth": 0,
              "ticks": ""
             }
            },
            "type": "scattercarpet"
           }
          ],
          "scattergeo": [
           {
            "marker": {
             "colorbar": {
              "outlinewidth": 0,
              "ticks": ""
             }
            },
            "type": "scattergeo"
           }
          ],
          "scattergl": [
           {
            "marker": {
             "colorbar": {
              "outlinewidth": 0,
              "ticks": ""
             }
            },
            "type": "scattergl"
           }
          ],
          "scattermapbox": [
           {
            "marker": {
             "colorbar": {
              "outlinewidth": 0,
              "ticks": ""
             }
            },
            "type": "scattermapbox"
           }
          ],
          "scatterpolar": [
           {
            "marker": {
             "colorbar": {
              "outlinewidth": 0,
              "ticks": ""
             }
            },
            "type": "scatterpolar"
           }
          ],
          "scatterpolargl": [
           {
            "marker": {
             "colorbar": {
              "outlinewidth": 0,
              "ticks": ""
             }
            },
            "type": "scatterpolargl"
           }
          ],
          "scatterternary": [
           {
            "marker": {
             "colorbar": {
              "outlinewidth": 0,
              "ticks": ""
             }
            },
            "type": "scatterternary"
           }
          ],
          "surface": [
           {
            "colorbar": {
             "outlinewidth": 0,
             "ticks": ""
            },
            "colorscale": [
             [
              0,
              "#0d0887"
             ],
             [
              0.1111111111111111,
              "#46039f"
             ],
             [
              0.2222222222222222,
              "#7201a8"
             ],
             [
              0.3333333333333333,
              "#9c179e"
             ],
             [
              0.4444444444444444,
              "#bd3786"
             ],
             [
              0.5555555555555556,
              "#d8576b"
             ],
             [
              0.6666666666666666,
              "#ed7953"
             ],
             [
              0.7777777777777778,
              "#fb9f3a"
             ],
             [
              0.8888888888888888,
              "#fdca26"
             ],
             [
              1,
              "#f0f921"
             ]
            ],
            "type": "surface"
           }
          ],
          "table": [
           {
            "cells": {
             "fill": {
              "color": "#EBF0F8"
             },
             "line": {
              "color": "white"
             }
            },
            "header": {
             "fill": {
              "color": "#C8D4E3"
             },
             "line": {
              "color": "white"
             }
            },
            "type": "table"
           }
          ]
         },
         "layout": {
          "annotationdefaults": {
           "arrowcolor": "#2a3f5f",
           "arrowhead": 0,
           "arrowwidth": 1
          },
          "autotypenumbers": "strict",
          "coloraxis": {
           "colorbar": {
            "outlinewidth": 0,
            "ticks": ""
           }
          },
          "colorscale": {
           "diverging": [
            [
             0,
             "#8e0152"
            ],
            [
             0.1,
             "#c51b7d"
            ],
            [
             0.2,
             "#de77ae"
            ],
            [
             0.3,
             "#f1b6da"
            ],
            [
             0.4,
             "#fde0ef"
            ],
            [
             0.5,
             "#f7f7f7"
            ],
            [
             0.6,
             "#e6f5d0"
            ],
            [
             0.7,
             "#b8e186"
            ],
            [
             0.8,
             "#7fbc41"
            ],
            [
             0.9,
             "#4d9221"
            ],
            [
             1,
             "#276419"
            ]
           ],
           "sequential": [
            [
             0,
             "#0d0887"
            ],
            [
             0.1111111111111111,
             "#46039f"
            ],
            [
             0.2222222222222222,
             "#7201a8"
            ],
            [
             0.3333333333333333,
             "#9c179e"
            ],
            [
             0.4444444444444444,
             "#bd3786"
            ],
            [
             0.5555555555555556,
             "#d8576b"
            ],
            [
             0.6666666666666666,
             "#ed7953"
            ],
            [
             0.7777777777777778,
             "#fb9f3a"
            ],
            [
             0.8888888888888888,
             "#fdca26"
            ],
            [
             1,
             "#f0f921"
            ]
           ],
           "sequentialminus": [
            [
             0,
             "#0d0887"
            ],
            [
             0.1111111111111111,
             "#46039f"
            ],
            [
             0.2222222222222222,
             "#7201a8"
            ],
            [
             0.3333333333333333,
             "#9c179e"
            ],
            [
             0.4444444444444444,
             "#bd3786"
            ],
            [
             0.5555555555555556,
             "#d8576b"
            ],
            [
             0.6666666666666666,
             "#ed7953"
            ],
            [
             0.7777777777777778,
             "#fb9f3a"
            ],
            [
             0.8888888888888888,
             "#fdca26"
            ],
            [
             1,
             "#f0f921"
            ]
           ]
          },
          "colorway": [
           "#636efa",
           "#EF553B",
           "#00cc96",
           "#ab63fa",
           "#FFA15A",
           "#19d3f3",
           "#FF6692",
           "#B6E880",
           "#FF97FF",
           "#FECB52"
          ],
          "font": {
           "color": "#2a3f5f"
          },
          "geo": {
           "bgcolor": "white",
           "lakecolor": "white",
           "landcolor": "#E5ECF6",
           "showlakes": true,
           "showland": true,
           "subunitcolor": "white"
          },
          "hoverlabel": {
           "align": "left"
          },
          "hovermode": "closest",
          "mapbox": {
           "style": "light"
          },
          "paper_bgcolor": "white",
          "plot_bgcolor": "#E5ECF6",
          "polar": {
           "angularaxis": {
            "gridcolor": "white",
            "linecolor": "white",
            "ticks": ""
           },
           "bgcolor": "#E5ECF6",
           "radialaxis": {
            "gridcolor": "white",
            "linecolor": "white",
            "ticks": ""
           }
          },
          "scene": {
           "xaxis": {
            "backgroundcolor": "#E5ECF6",
            "gridcolor": "white",
            "gridwidth": 2,
            "linecolor": "white",
            "showbackground": true,
            "ticks": "",
            "zerolinecolor": "white"
           },
           "yaxis": {
            "backgroundcolor": "#E5ECF6",
            "gridcolor": "white",
            "gridwidth": 2,
            "linecolor": "white",
            "showbackground": true,
            "ticks": "",
            "zerolinecolor": "white"
           },
           "zaxis": {
            "backgroundcolor": "#E5ECF6",
            "gridcolor": "white",
            "gridwidth": 2,
            "linecolor": "white",
            "showbackground": true,
            "ticks": "",
            "zerolinecolor": "white"
           }
          },
          "shapedefaults": {
           "line": {
            "color": "#2a3f5f"
           }
          },
          "ternary": {
           "aaxis": {
            "gridcolor": "white",
            "linecolor": "white",
            "ticks": ""
           },
           "baxis": {
            "gridcolor": "white",
            "linecolor": "white",
            "ticks": ""
           },
           "bgcolor": "#E5ECF6",
           "caxis": {
            "gridcolor": "white",
            "linecolor": "white",
            "ticks": ""
           }
          },
          "title": {
           "x": 0.05
          },
          "xaxis": {
           "automargin": true,
           "gridcolor": "white",
           "linecolor": "white",
           "ticks": "",
           "title": {
            "standoff": 15
           },
           "zerolinecolor": "white",
           "zerolinewidth": 2
          },
          "yaxis": {
           "automargin": true,
           "gridcolor": "white",
           "linecolor": "white",
           "ticks": "",
           "title": {
            "standoff": 15
           },
           "zerolinecolor": "white",
           "zerolinewidth": 2
          }
         }
        },
        "title": {
         "text": "Lucro por seção no mês de novembro"
        },
        "xaxis": {
         "gridcolor": "lightgray",
         "gridwidth": 1,
         "linecolor": "black",
         "linewidth": 1,
         "showgrid": true,
         "showline": true,
         "title": {
          "text": "Data"
         }
        },
        "yaxis": {
         "gridcolor": "lightgray",
         "gridwidth": 1,
         "linecolor": "black",
         "linewidth": 1,
         "showgrid": true,
         "showline": true,
         "title": {
          "text": "Lucro"
         }
        }
       }
      },
      "text/html": [
       "<div>                            <div id=\"a93532c3-56ad-494e-a887-331a395f4e3f\" class=\"plotly-graph-div\" style=\"height:525px; width:100%;\"></div>            <script type=\"text/javascript\">                require([\"plotly\"], function(Plotly) {                    window.PLOTLYENV=window.PLOTLYENV || {};                                    if (document.getElementById(\"a93532c3-56ad-494e-a887-331a395f4e3f\")) {                    Plotly.newPlot(                        \"a93532c3-56ad-494e-a887-331a395f4e3f\",                        [{\"mode\":\"markers+lines\",\"name\":\"Lucro total\",\"type\":\"scatter\",\"x\":[\"2021-11-01\",\"2021-11-02\",\"2021-11-03\",\"2021-11-04\",\"2021-11-05\",\"2021-11-06\",\"2021-11-07\",\"2021-11-08\",\"2021-11-09\",\"2021-11-10\",\"2021-11-11\",\"2021-11-12\",\"2021-11-13\",\"2021-11-14\",\"2021-11-15\",\"2021-11-16\",\"2021-11-17\",\"2021-11-18\",\"2021-11-19\",\"2021-11-20\",\"2021-11-21\",\"2021-11-22\",\"2021-11-23\",\"2021-11-24\",\"2021-11-25\",\"2021-11-26\",\"2021-11-27\",\"2021-11-28\",\"2021-11-29\",\"2021-11-30\"],\"y\":[2025.2999999999988,2084.779999999999,1398.0599999999997,1599.019999999999,3153.939999999999,1414.6699999999996,1405.4699999999993,3104.619999999998,2952.599999999999,2648.9999999999995,2024.0699999999988,2131.0699999999993,2363.1499999999983,2388.7999999999984,365.74999999999994,124.11,168.79000000000002,395.9100000000001,274.47,369.6700000000001,274.4,171.29,298.9699999999999,210.94000000000003,360.45000000000005,291.95,167.71999999999997,411.75,226.20999999999998,209.53999999999996]},{\"mode\":\"markers+lines\",\"name\":\"Lucro por dia no a\\u00e7ougue\",\"type\":\"scatter\",\"x\":[\"2021-11-01\",\"2021-11-02\",\"2021-11-03\",\"2021-11-04\",\"2021-11-05\",\"2021-11-06\",\"2021-11-07\",\"2021-11-08\",\"2021-11-09\",\"2021-11-10\",\"2021-11-11\",\"2021-11-12\",\"2021-11-13\",\"2021-11-14\",\"2021-11-15\",\"2021-11-16\",\"2021-11-17\",\"2021-11-18\",\"2021-11-19\",\"2021-11-20\",\"2021-11-21\",\"2021-11-22\",\"2021-11-23\",\"2021-11-24\",\"2021-11-25\",\"2021-11-26\",\"2021-11-27\",\"2021-11-28\",\"2021-11-29\",\"2021-11-30\"],\"y\":[1192.28,856.4299999999998,536.6499999999999,620.05,1667.7000000000003,632.3799999999999,611.8199999999998,1686.7199999999996,1371.2199999999998,1351.3899999999996,881.6999999999997,904.1799999999997,1117.2299999999998,1056.4199999999998,60.399999999999984,27.54,40.51999999999999,300.03,161.5,267.29999999999995,60.69999999999999,52.50999999999999,112.52999999999996,117.28,174.44,117.23999999999995,43.999999999999986,240.85999999999996,103.48999999999997,33.12]},{\"mode\":\"markers+lines\",\"name\":\"Lucro por dia na se\\u00e7\\u00e3o de frutas e verduras\",\"type\":\"scatter\",\"x\":[\"2021-11-01\",\"2021-11-02\",\"2021-11-03\",\"2021-11-04\",\"2021-11-05\",\"2021-11-06\",\"2021-11-07\",\"2021-11-08\",\"2021-11-09\",\"2021-11-10\",\"2021-11-11\",\"2021-11-12\",\"2021-11-13\",\"2021-11-14\",\"2021-11-15\",\"2021-11-16\",\"2021-11-17\",\"2021-11-18\",\"2021-11-19\",\"2021-11-20\",\"2021-11-21\",\"2021-11-22\",\"2021-11-23\",\"2021-11-24\",\"2021-11-25\",\"2021-11-26\",\"2021-11-27\",\"2021-11-28\",\"2021-11-29\",\"2021-11-30\"],\"y\":[280.22999999999996,377.06999999999994,220.99999999999997,195.03,276.51000000000005,211.63,168.43000000000004,383.86999999999995,559.02,353.82999999999987,310.27,370.03999999999996,329.8999999999999,371.38999999999993,79.09000000000002,24.960000000000008,73.87000000000002,31.740000000000006,50.0,20.73,44.99,42.73,54.56,32.56,33.32000000000001,46.02,24.730000000000004,55.17,38.889999999999986,49.699999999999996]},{\"mode\":\"markers+lines\",\"name\":\"Lucro por dia na padaria\",\"type\":\"scatter\",\"x\":[\"2021-11-01\",\"2021-11-02\",\"2021-11-03\",\"2021-11-04\",\"2021-11-05\",\"2021-11-06\",\"2021-11-07\",\"2021-11-08\",\"2021-11-09\",\"2021-11-10\",\"2021-11-11\",\"2021-11-12\",\"2021-11-13\",\"2021-11-14\",\"2021-11-15\",\"2021-11-16\",\"2021-11-17\",\"2021-11-18\",\"2021-11-19\",\"2021-11-20\",\"2021-11-21\",\"2021-11-22\",\"2021-11-23\",\"2021-11-24\",\"2021-11-25\",\"2021-11-26\",\"2021-11-27\",\"2021-11-28\",\"2021-11-29\",\"2021-11-30\"],\"y\":[374.26,485.47999999999996,489.5,584.81,782.1800000000001,485.23,403.12,786.0499999999998,630.7099999999999,631.17,469.51,639.28,543.66,650.97,136.67,33.05,38.32000000000001,32.06,51.33,56.400000000000006,68.44,37.61,83.24000000000001,54.1,112.25,55.400000000000006,42.11,104.0,60.629999999999995,75.4]},{\"mode\":\"markers+lines\",\"name\":\"Lucro por dia na se\\u00e7\\u00e3o de limpezas\",\"type\":\"scatter\",\"x\":[\"2021-11-01\",\"2021-11-02\",\"2021-11-03\",\"2021-11-04\",\"2021-11-05\",\"2021-11-06\",\"2021-11-07\",\"2021-11-08\",\"2021-11-09\",\"2021-11-10\",\"2021-11-11\",\"2021-11-12\",\"2021-11-13\",\"2021-11-14\",\"2021-11-15\",\"2021-11-16\",\"2021-11-17\",\"2021-11-18\",\"2021-11-19\",\"2021-11-20\",\"2021-11-21\",\"2021-11-22\",\"2021-11-23\",\"2021-11-24\",\"2021-11-25\",\"2021-11-26\",\"2021-11-27\",\"2021-11-28\",\"2021-11-29\",\"2021-11-30\"],\"y\":[178.52999999999997,365.79999999999995,150.90999999999997,199.12999999999997,427.5499999999999,85.43,222.09999999999994,247.98,391.6499999999999,312.61000000000007,362.5899999999999,217.56999999999996,372.35999999999996,310.02,89.59000000000002,38.56,16.080000000000002,32.08,11.64,25.24,100.26999999999998,38.43999999999999,48.64,6.999999999999999,40.44,73.28999999999998,56.87999999999999,11.72,23.2,51.31999999999999]}],                        {\"font\":{\"color\":\"black\",\"family\":\"Arial\",\"size\":14},\"plot_bgcolor\":\"white\",\"template\":{\"data\":{\"bar\":[{\"error_x\":{\"color\":\"#2a3f5f\"},\"error_y\":{\"color\":\"#2a3f5f\"},\"marker\":{\"line\":{\"color\":\"#E5ECF6\",\"width\":0.5},\"pattern\":{\"fillmode\":\"overlay\",\"size\":10,\"solidity\":0.2}},\"type\":\"bar\"}],\"barpolar\":[{\"marker\":{\"line\":{\"color\":\"#E5ECF6\",\"width\":0.5},\"pattern\":{\"fillmode\":\"overlay\",\"size\":10,\"solidity\":0.2}},\"type\":\"barpolar\"}],\"carpet\":[{\"aaxis\":{\"endlinecolor\":\"#2a3f5f\",\"gridcolor\":\"white\",\"linecolor\":\"white\",\"minorgridcolor\":\"white\",\"startlinecolor\":\"#2a3f5f\"},\"baxis\":{\"endlinecolor\":\"#2a3f5f\",\"gridcolor\":\"white\",\"linecolor\":\"white\",\"minorgridcolor\":\"white\",\"startlinecolor\":\"#2a3f5f\"},\"type\":\"carpet\"}],\"choropleth\":[{\"colorbar\":{\"outlinewidth\":0,\"ticks\":\"\"},\"type\":\"choropleth\"}],\"contour\":[{\"colorbar\":{\"outlinewidth\":0,\"ticks\":\"\"},\"colorscale\":[[0.0,\"#0d0887\"],[0.1111111111111111,\"#46039f\"],[0.2222222222222222,\"#7201a8\"],[0.3333333333333333,\"#9c179e\"],[0.4444444444444444,\"#bd3786\"],[0.5555555555555556,\"#d8576b\"],[0.6666666666666666,\"#ed7953\"],[0.7777777777777778,\"#fb9f3a\"],[0.8888888888888888,\"#fdca26\"],[1.0,\"#f0f921\"]],\"type\":\"contour\"}],\"contourcarpet\":[{\"colorbar\":{\"outlinewidth\":0,\"ticks\":\"\"},\"type\":\"contourcarpet\"}],\"heatmap\":[{\"colorbar\":{\"outlinewidth\":0,\"ticks\":\"\"},\"colorscale\":[[0.0,\"#0d0887\"],[0.1111111111111111,\"#46039f\"],[0.2222222222222222,\"#7201a8\"],[0.3333333333333333,\"#9c179e\"],[0.4444444444444444,\"#bd3786\"],[0.5555555555555556,\"#d8576b\"],[0.6666666666666666,\"#ed7953\"],[0.7777777777777778,\"#fb9f3a\"],[0.8888888888888888,\"#fdca26\"],[1.0,\"#f0f921\"]],\"type\":\"heatmap\"}],\"heatmapgl\":[{\"colorbar\":{\"outlinewidth\":0,\"ticks\":\"\"},\"colorscale\":[[0.0,\"#0d0887\"],[0.1111111111111111,\"#46039f\"],[0.2222222222222222,\"#7201a8\"],[0.3333333333333333,\"#9c179e\"],[0.4444444444444444,\"#bd3786\"],[0.5555555555555556,\"#d8576b\"],[0.6666666666666666,\"#ed7953\"],[0.7777777777777778,\"#fb9f3a\"],[0.8888888888888888,\"#fdca26\"],[1.0,\"#f0f921\"]],\"type\":\"heatmapgl\"}],\"histogram\":[{\"marker\":{\"pattern\":{\"fillmode\":\"overlay\",\"size\":10,\"solidity\":0.2}},\"type\":\"histogram\"}],\"histogram2d\":[{\"colorbar\":{\"outlinewidth\":0,\"ticks\":\"\"},\"colorscale\":[[0.0,\"#0d0887\"],[0.1111111111111111,\"#46039f\"],[0.2222222222222222,\"#7201a8\"],[0.3333333333333333,\"#9c179e\"],[0.4444444444444444,\"#bd3786\"],[0.5555555555555556,\"#d8576b\"],[0.6666666666666666,\"#ed7953\"],[0.7777777777777778,\"#fb9f3a\"],[0.8888888888888888,\"#fdca26\"],[1.0,\"#f0f921\"]],\"type\":\"histogram2d\"}],\"histogram2dcontour\":[{\"colorbar\":{\"outlinewidth\":0,\"ticks\":\"\"},\"colorscale\":[[0.0,\"#0d0887\"],[0.1111111111111111,\"#46039f\"],[0.2222222222222222,\"#7201a8\"],[0.3333333333333333,\"#9c179e\"],[0.4444444444444444,\"#bd3786\"],[0.5555555555555556,\"#d8576b\"],[0.6666666666666666,\"#ed7953\"],[0.7777777777777778,\"#fb9f3a\"],[0.8888888888888888,\"#fdca26\"],[1.0,\"#f0f921\"]],\"type\":\"histogram2dcontour\"}],\"mesh3d\":[{\"colorbar\":{\"outlinewidth\":0,\"ticks\":\"\"},\"type\":\"mesh3d\"}],\"parcoords\":[{\"line\":{\"colorbar\":{\"outlinewidth\":0,\"ticks\":\"\"}},\"type\":\"parcoords\"}],\"pie\":[{\"automargin\":true,\"type\":\"pie\"}],\"scatter\":[{\"marker\":{\"colorbar\":{\"outlinewidth\":0,\"ticks\":\"\"}},\"type\":\"scatter\"}],\"scatter3d\":[{\"line\":{\"colorbar\":{\"outlinewidth\":0,\"ticks\":\"\"}},\"marker\":{\"colorbar\":{\"outlinewidth\":0,\"ticks\":\"\"}},\"type\":\"scatter3d\"}],\"scattercarpet\":[{\"marker\":{\"colorbar\":{\"outlinewidth\":0,\"ticks\":\"\"}},\"type\":\"scattercarpet\"}],\"scattergeo\":[{\"marker\":{\"colorbar\":{\"outlinewidth\":0,\"ticks\":\"\"}},\"type\":\"scattergeo\"}],\"scattergl\":[{\"marker\":{\"colorbar\":{\"outlinewidth\":0,\"ticks\":\"\"}},\"type\":\"scattergl\"}],\"scattermapbox\":[{\"marker\":{\"colorbar\":{\"outlinewidth\":0,\"ticks\":\"\"}},\"type\":\"scattermapbox\"}],\"scatterpolar\":[{\"marker\":{\"colorbar\":{\"outlinewidth\":0,\"ticks\":\"\"}},\"type\":\"scatterpolar\"}],\"scatterpolargl\":[{\"marker\":{\"colorbar\":{\"outlinewidth\":0,\"ticks\":\"\"}},\"type\":\"scatterpolargl\"}],\"scatterternary\":[{\"marker\":{\"colorbar\":{\"outlinewidth\":0,\"ticks\":\"\"}},\"type\":\"scatterternary\"}],\"surface\":[{\"colorbar\":{\"outlinewidth\":0,\"ticks\":\"\"},\"colorscale\":[[0.0,\"#0d0887\"],[0.1111111111111111,\"#46039f\"],[0.2222222222222222,\"#7201a8\"],[0.3333333333333333,\"#9c179e\"],[0.4444444444444444,\"#bd3786\"],[0.5555555555555556,\"#d8576b\"],[0.6666666666666666,\"#ed7953\"],[0.7777777777777778,\"#fb9f3a\"],[0.8888888888888888,\"#fdca26\"],[1.0,\"#f0f921\"]],\"type\":\"surface\"}],\"table\":[{\"cells\":{\"fill\":{\"color\":\"#EBF0F8\"},\"line\":{\"color\":\"white\"}},\"header\":{\"fill\":{\"color\":\"#C8D4E3\"},\"line\":{\"color\":\"white\"}},\"type\":\"table\"}]},\"layout\":{\"annotationdefaults\":{\"arrowcolor\":\"#2a3f5f\",\"arrowhead\":0,\"arrowwidth\":1},\"autotypenumbers\":\"strict\",\"coloraxis\":{\"colorbar\":{\"outlinewidth\":0,\"ticks\":\"\"}},\"colorscale\":{\"diverging\":[[0,\"#8e0152\"],[0.1,\"#c51b7d\"],[0.2,\"#de77ae\"],[0.3,\"#f1b6da\"],[0.4,\"#fde0ef\"],[0.5,\"#f7f7f7\"],[0.6,\"#e6f5d0\"],[0.7,\"#b8e186\"],[0.8,\"#7fbc41\"],[0.9,\"#4d9221\"],[1,\"#276419\"]],\"sequential\":[[0.0,\"#0d0887\"],[0.1111111111111111,\"#46039f\"],[0.2222222222222222,\"#7201a8\"],[0.3333333333333333,\"#9c179e\"],[0.4444444444444444,\"#bd3786\"],[0.5555555555555556,\"#d8576b\"],[0.6666666666666666,\"#ed7953\"],[0.7777777777777778,\"#fb9f3a\"],[0.8888888888888888,\"#fdca26\"],[1.0,\"#f0f921\"]],\"sequentialminus\":[[0.0,\"#0d0887\"],[0.1111111111111111,\"#46039f\"],[0.2222222222222222,\"#7201a8\"],[0.3333333333333333,\"#9c179e\"],[0.4444444444444444,\"#bd3786\"],[0.5555555555555556,\"#d8576b\"],[0.6666666666666666,\"#ed7953\"],[0.7777777777777778,\"#fb9f3a\"],[0.8888888888888888,\"#fdca26\"],[1.0,\"#f0f921\"]]},\"colorway\":[\"#636efa\",\"#EF553B\",\"#00cc96\",\"#ab63fa\",\"#FFA15A\",\"#19d3f3\",\"#FF6692\",\"#B6E880\",\"#FF97FF\",\"#FECB52\"],\"font\":{\"color\":\"#2a3f5f\"},\"geo\":{\"bgcolor\":\"white\",\"lakecolor\":\"white\",\"landcolor\":\"#E5ECF6\",\"showlakes\":true,\"showland\":true,\"subunitcolor\":\"white\"},\"hoverlabel\":{\"align\":\"left\"},\"hovermode\":\"closest\",\"mapbox\":{\"style\":\"light\"},\"paper_bgcolor\":\"white\",\"plot_bgcolor\":\"#E5ECF6\",\"polar\":{\"angularaxis\":{\"gridcolor\":\"white\",\"linecolor\":\"white\",\"ticks\":\"\"},\"bgcolor\":\"#E5ECF6\",\"radialaxis\":{\"gridcolor\":\"white\",\"linecolor\":\"white\",\"ticks\":\"\"}},\"scene\":{\"xaxis\":{\"backgroundcolor\":\"#E5ECF6\",\"gridcolor\":\"white\",\"gridwidth\":2,\"linecolor\":\"white\",\"showbackground\":true,\"ticks\":\"\",\"zerolinecolor\":\"white\"},\"yaxis\":{\"backgroundcolor\":\"#E5ECF6\",\"gridcolor\":\"white\",\"gridwidth\":2,\"linecolor\":\"white\",\"showbackground\":true,\"ticks\":\"\",\"zerolinecolor\":\"white\"},\"zaxis\":{\"backgroundcolor\":\"#E5ECF6\",\"gridcolor\":\"white\",\"gridwidth\":2,\"linecolor\":\"white\",\"showbackground\":true,\"ticks\":\"\",\"zerolinecolor\":\"white\"}},\"shapedefaults\":{\"line\":{\"color\":\"#2a3f5f\"}},\"ternary\":{\"aaxis\":{\"gridcolor\":\"white\",\"linecolor\":\"white\",\"ticks\":\"\"},\"baxis\":{\"gridcolor\":\"white\",\"linecolor\":\"white\",\"ticks\":\"\"},\"bgcolor\":\"#E5ECF6\",\"caxis\":{\"gridcolor\":\"white\",\"linecolor\":\"white\",\"ticks\":\"\"}},\"title\":{\"x\":0.05},\"xaxis\":{\"automargin\":true,\"gridcolor\":\"white\",\"linecolor\":\"white\",\"ticks\":\"\",\"title\":{\"standoff\":15},\"zerolinecolor\":\"white\",\"zerolinewidth\":2},\"yaxis\":{\"automargin\":true,\"gridcolor\":\"white\",\"linecolor\":\"white\",\"ticks\":\"\",\"title\":{\"standoff\":15},\"zerolinecolor\":\"white\",\"zerolinewidth\":2}}},\"title\":{\"text\":\"Lucro por se\\u00e7\\u00e3o no m\\u00eas de novembro\"},\"xaxis\":{\"gridcolor\":\"lightgray\",\"gridwidth\":1,\"linecolor\":\"black\",\"linewidth\":1,\"showgrid\":true,\"showline\":true,\"title\":{\"text\":\"Data\"}},\"yaxis\":{\"gridcolor\":\"lightgray\",\"gridwidth\":1,\"linecolor\":\"black\",\"linewidth\":1,\"showgrid\":true,\"showline\":true,\"title\":{\"text\":\"Lucro\"}}},                        {\"responsive\": true}                    ).then(function(){\n",
       "                            \n",
       "var gd = document.getElementById('a93532c3-56ad-494e-a887-331a395f4e3f');\n",
       "var x = new MutationObserver(function (mutations, observer) {{\n",
       "        var display = window.getComputedStyle(gd).display;\n",
       "        if (!display || display === 'none') {{\n",
       "            console.log([gd, 'removed!']);\n",
       "            Plotly.purge(gd);\n",
       "            observer.disconnect();\n",
       "        }}\n",
       "}});\n",
       "\n",
       "// Listen for the removal of the full notebook cells\n",
       "var notebookContainer = gd.closest('#notebook-container');\n",
       "if (notebookContainer) {{\n",
       "    x.observe(notebookContainer, {childList: true});\n",
       "}}\n",
       "\n",
       "// Listen for the clearing of the current output cell\n",
       "var outputEl = gd.closest('.output');\n",
       "if (outputEl) {{\n",
       "    x.observe(outputEl, {childList: true});\n",
       "}}\n",
       "\n",
       "                        })                };                });            </script>        </div>"
      ]
     },
     "metadata": {},
     "output_type": "display_data"
    }
   ],
   "source": [
    "import plotly.graph_objs as go\n",
    "fig_lucro_tempo = go.Figure()\n",
    "\n",
    "fig_lucro_tempo.add_trace(go.Scatter(x=venda_produtos_cliente_soma_lucros[\"data\"], y=venda_produtos_cliente_soma_lucros[\"lucro\"], \n",
    "              mode = 'markers+lines', name = 'Lucro total'))\n",
    "\n",
    "fig_lucro_tempo.add_trace(go.Scatter(x = df_acougue_lucros[\"data\"],\n",
    "                    y = df_acougue_lucros[\"lucro\"],\n",
    "                    mode = 'markers+lines',\n",
    "                    name = 'Lucro por dia no açougue')) \n",
    "\n",
    "\n",
    "fig_lucro_tempo.add_trace(go.Scatter(x = df_frutas_e_verduras_lucros[\"data\"],\n",
    "                    y = df_frutas_e_verduras_lucros[\"lucro\"],\n",
    "                    mode = 'markers+lines',\n",
    "                    name = 'Lucro por dia na seção de frutas e verduras'))\n",
    "\n",
    "\n",
    "fig_lucro_tempo.add_trace(go.Scatter(x = df_padaria_lucros[\"data\"],\n",
    "                    y = df_padaria_lucros[\"lucro\"],\n",
    "                    mode = 'markers+lines',\n",
    "                    name = 'Lucro por dia na padaria')) \n",
    "\n",
    "\n",
    "fig_lucro_tempo.add_trace(go.Scatter(x = df_produtos_de_limpeza_lucros[\"data\"],\n",
    "                    y = df_produtos_de_limpeza_lucros[\"lucro\"],\n",
    "                    mode = 'markers+lines',\n",
    "                    name = 'Lucro por dia na seção de limpezas')) \n",
    "\n",
    "fig_lucro_tempo.update_layout(title='Lucro por seção no mês de novembro',\n",
    "xaxis_title='Data',\n",
    "yaxis_title='Lucro',\n",
    "plot_bgcolor = 'white',\n",
    "font = {'family': 'Arial','size': 14,'color': 'black'})\n",
    "fig_lucro_tempo.update_xaxes( showgrid=True, gridwidth=1, gridcolor='lightgray',\n",
    "showline=True, linewidth=1, linecolor='black')\n",
    "fig_lucro_tempo.update_yaxes(showgrid=True, gridwidth=1, gridcolor='lightgray',\n",
    "showline=True, linewidth=1, linecolor='black')\n",
    "fig_lucro_tempo.show()"
   ]
  },
  {
   "cell_type": "code",
   "execution_count": null,
   "id": "0f518b78",
   "metadata": {},
   "outputs": [],
   "source": []
  },
  {
   "cell_type": "code",
   "execution_count": 25,
   "id": "ffea88e2",
   "metadata": {},
   "outputs": [
    {
     "data": {
      "application/vnd.plotly.v1+json": {
       "config": {
        "plotlyServerURL": "https://plot.ly"
       },
       "data": [
        {
         "alignmentgroup": "True",
         "hovertemplate": "Seção=%{y}<br>Lucro=%{x}<extra></extra>",
         "legendgroup": "Açougue",
         "marker": {
          "color": "#EF553B",
          "pattern": {
           "shape": ""
          }
         },
         "name": "Açougue",
         "offsetgroup": "Açougue",
         "orientation": "h",
         "showlegend": true,
         "textposition": "auto",
         "type": "bar",
         "x": [
          16399.630000000023
         ],
         "xaxis": "x",
         "y": [
          "Açougue"
         ],
         "yaxis": "y"
        },
        {
         "alignmentgroup": "True",
         "hovertemplate": "Seção=%{y}<br>Lucro=%{x}<extra></extra>",
         "legendgroup": "Padaria",
         "marker": {
          "color": "#AB63FA",
          "pattern": {
           "shape": ""
          }
         },
         "name": "Padaria",
         "offsetgroup": "Padaria",
         "orientation": "h",
         "showlegend": true,
         "textposition": "auto",
         "type": "bar",
         "x": [
          8996.939999999991
         ],
         "xaxis": "x",
         "y": [
          "Padaria"
         ],
         "yaxis": "y"
        },
        {
         "alignmentgroup": "True",
         "hovertemplate": "Seção=%{y}<br>Lucro=%{x}<extra></extra>",
         "legendgroup": "Alimentos em Geral",
         "marker": {
          "color": "#00CC96",
          "pattern": {
           "shape": ""
          }
         },
         "name": "Alimentos em Geral",
         "offsetgroup": "Alimentos em Geral",
         "orientation": "h",
         "showlegend": true,
         "textposition": "auto",
         "type": "bar",
         "x": [
          5111.280000000007
         ],
         "xaxis": "x",
         "y": [
          "Alimentos em Geral"
         ],
         "yaxis": "y"
        },
        {
         "alignmentgroup": "True",
         "hovertemplate": "Seção=%{y}<br>Lucro=%{x}<extra></extra>",
         "legendgroup": "Produtos de Limpeza",
         "marker": {
          "color": "#FFA15A",
          "pattern": {
           "shape": ""
          }
         },
         "name": "Produtos de Limpeza",
         "offsetgroup": "Produtos de Limpeza",
         "orientation": "h",
         "showlegend": true,
         "textposition": "auto",
         "type": "bar",
         "x": [
          4508.620000000001
         ],
         "xaxis": "x",
         "y": [
          "Produtos de Limpeza"
         ],
         "yaxis": "y"
        }
       ],
       "layout": {
        "barmode": "stack",
        "legend": {
         "title": {
          "text": "Seção"
         },
         "tracegroupgap": 0
        },
        "margin": {
         "t": 60
        },
        "template": {
         "data": {
          "bar": [
           {
            "error_x": {
             "color": "#2a3f5f"
            },
            "error_y": {
             "color": "#2a3f5f"
            },
            "marker": {
             "line": {
              "color": "#E5ECF6",
              "width": 0.5
             },
             "pattern": {
              "fillmode": "overlay",
              "size": 10,
              "solidity": 0.2
             }
            },
            "type": "bar"
           }
          ],
          "barpolar": [
           {
            "marker": {
             "line": {
              "color": "#E5ECF6",
              "width": 0.5
             },
             "pattern": {
              "fillmode": "overlay",
              "size": 10,
              "solidity": 0.2
             }
            },
            "type": "barpolar"
           }
          ],
          "carpet": [
           {
            "aaxis": {
             "endlinecolor": "#2a3f5f",
             "gridcolor": "white",
             "linecolor": "white",
             "minorgridcolor": "white",
             "startlinecolor": "#2a3f5f"
            },
            "baxis": {
             "endlinecolor": "#2a3f5f",
             "gridcolor": "white",
             "linecolor": "white",
             "minorgridcolor": "white",
             "startlinecolor": "#2a3f5f"
            },
            "type": "carpet"
           }
          ],
          "choropleth": [
           {
            "colorbar": {
             "outlinewidth": 0,
             "ticks": ""
            },
            "type": "choropleth"
           }
          ],
          "contour": [
           {
            "colorbar": {
             "outlinewidth": 0,
             "ticks": ""
            },
            "colorscale": [
             [
              0,
              "#0d0887"
             ],
             [
              0.1111111111111111,
              "#46039f"
             ],
             [
              0.2222222222222222,
              "#7201a8"
             ],
             [
              0.3333333333333333,
              "#9c179e"
             ],
             [
              0.4444444444444444,
              "#bd3786"
             ],
             [
              0.5555555555555556,
              "#d8576b"
             ],
             [
              0.6666666666666666,
              "#ed7953"
             ],
             [
              0.7777777777777778,
              "#fb9f3a"
             ],
             [
              0.8888888888888888,
              "#fdca26"
             ],
             [
              1,
              "#f0f921"
             ]
            ],
            "type": "contour"
           }
          ],
          "contourcarpet": [
           {
            "colorbar": {
             "outlinewidth": 0,
             "ticks": ""
            },
            "type": "contourcarpet"
           }
          ],
          "heatmap": [
           {
            "colorbar": {
             "outlinewidth": 0,
             "ticks": ""
            },
            "colorscale": [
             [
              0,
              "#0d0887"
             ],
             [
              0.1111111111111111,
              "#46039f"
             ],
             [
              0.2222222222222222,
              "#7201a8"
             ],
             [
              0.3333333333333333,
              "#9c179e"
             ],
             [
              0.4444444444444444,
              "#bd3786"
             ],
             [
              0.5555555555555556,
              "#d8576b"
             ],
             [
              0.6666666666666666,
              "#ed7953"
             ],
             [
              0.7777777777777778,
              "#fb9f3a"
             ],
             [
              0.8888888888888888,
              "#fdca26"
             ],
             [
              1,
              "#f0f921"
             ]
            ],
            "type": "heatmap"
           }
          ],
          "heatmapgl": [
           {
            "colorbar": {
             "outlinewidth": 0,
             "ticks": ""
            },
            "colorscale": [
             [
              0,
              "#0d0887"
             ],
             [
              0.1111111111111111,
              "#46039f"
             ],
             [
              0.2222222222222222,
              "#7201a8"
             ],
             [
              0.3333333333333333,
              "#9c179e"
             ],
             [
              0.4444444444444444,
              "#bd3786"
             ],
             [
              0.5555555555555556,
              "#d8576b"
             ],
             [
              0.6666666666666666,
              "#ed7953"
             ],
             [
              0.7777777777777778,
              "#fb9f3a"
             ],
             [
              0.8888888888888888,
              "#fdca26"
             ],
             [
              1,
              "#f0f921"
             ]
            ],
            "type": "heatmapgl"
           }
          ],
          "histogram": [
           {
            "marker": {
             "pattern": {
              "fillmode": "overlay",
              "size": 10,
              "solidity": 0.2
             }
            },
            "type": "histogram"
           }
          ],
          "histogram2d": [
           {
            "colorbar": {
             "outlinewidth": 0,
             "ticks": ""
            },
            "colorscale": [
             [
              0,
              "#0d0887"
             ],
             [
              0.1111111111111111,
              "#46039f"
             ],
             [
              0.2222222222222222,
              "#7201a8"
             ],
             [
              0.3333333333333333,
              "#9c179e"
             ],
             [
              0.4444444444444444,
              "#bd3786"
             ],
             [
              0.5555555555555556,
              "#d8576b"
             ],
             [
              0.6666666666666666,
              "#ed7953"
             ],
             [
              0.7777777777777778,
              "#fb9f3a"
             ],
             [
              0.8888888888888888,
              "#fdca26"
             ],
             [
              1,
              "#f0f921"
             ]
            ],
            "type": "histogram2d"
           }
          ],
          "histogram2dcontour": [
           {
            "colorbar": {
             "outlinewidth": 0,
             "ticks": ""
            },
            "colorscale": [
             [
              0,
              "#0d0887"
             ],
             [
              0.1111111111111111,
              "#46039f"
             ],
             [
              0.2222222222222222,
              "#7201a8"
             ],
             [
              0.3333333333333333,
              "#9c179e"
             ],
             [
              0.4444444444444444,
              "#bd3786"
             ],
             [
              0.5555555555555556,
              "#d8576b"
             ],
             [
              0.6666666666666666,
              "#ed7953"
             ],
             [
              0.7777777777777778,
              "#fb9f3a"
             ],
             [
              0.8888888888888888,
              "#fdca26"
             ],
             [
              1,
              "#f0f921"
             ]
            ],
            "type": "histogram2dcontour"
           }
          ],
          "mesh3d": [
           {
            "colorbar": {
             "outlinewidth": 0,
             "ticks": ""
            },
            "type": "mesh3d"
           }
          ],
          "parcoords": [
           {
            "line": {
             "colorbar": {
              "outlinewidth": 0,
              "ticks": ""
             }
            },
            "type": "parcoords"
           }
          ],
          "pie": [
           {
            "automargin": true,
            "type": "pie"
           }
          ],
          "scatter": [
           {
            "marker": {
             "colorbar": {
              "outlinewidth": 0,
              "ticks": ""
             }
            },
            "type": "scatter"
           }
          ],
          "scatter3d": [
           {
            "line": {
             "colorbar": {
              "outlinewidth": 0,
              "ticks": ""
             }
            },
            "marker": {
             "colorbar": {
              "outlinewidth": 0,
              "ticks": ""
             }
            },
            "type": "scatter3d"
           }
          ],
          "scattercarpet": [
           {
            "marker": {
             "colorbar": {
              "outlinewidth": 0,
              "ticks": ""
             }
            },
            "type": "scattercarpet"
           }
          ],
          "scattergeo": [
           {
            "marker": {
             "colorbar": {
              "outlinewidth": 0,
              "ticks": ""
             }
            },
            "type": "scattergeo"
           }
          ],
          "scattergl": [
           {
            "marker": {
             "colorbar": {
              "outlinewidth": 0,
              "ticks": ""
             }
            },
            "type": "scattergl"
           }
          ],
          "scattermapbox": [
           {
            "marker": {
             "colorbar": {
              "outlinewidth": 0,
              "ticks": ""
             }
            },
            "type": "scattermapbox"
           }
          ],
          "scatterpolar": [
           {
            "marker": {
             "colorbar": {
              "outlinewidth": 0,
              "ticks": ""
             }
            },
            "type": "scatterpolar"
           }
          ],
          "scatterpolargl": [
           {
            "marker": {
             "colorbar": {
              "outlinewidth": 0,
              "ticks": ""
             }
            },
            "type": "scatterpolargl"
           }
          ],
          "scatterternary": [
           {
            "marker": {
             "colorbar": {
              "outlinewidth": 0,
              "ticks": ""
             }
            },
            "type": "scatterternary"
           }
          ],
          "surface": [
           {
            "colorbar": {
             "outlinewidth": 0,
             "ticks": ""
            },
            "colorscale": [
             [
              0,
              "#0d0887"
             ],
             [
              0.1111111111111111,
              "#46039f"
             ],
             [
              0.2222222222222222,
              "#7201a8"
             ],
             [
              0.3333333333333333,
              "#9c179e"
             ],
             [
              0.4444444444444444,
              "#bd3786"
             ],
             [
              0.5555555555555556,
              "#d8576b"
             ],
             [
              0.6666666666666666,
              "#ed7953"
             ],
             [
              0.7777777777777778,
              "#fb9f3a"
             ],
             [
              0.8888888888888888,
              "#fdca26"
             ],
             [
              1,
              "#f0f921"
             ]
            ],
            "type": "surface"
           }
          ],
          "table": [
           {
            "cells": {
             "fill": {
              "color": "#EBF0F8"
             },
             "line": {
              "color": "white"
             }
            },
            "header": {
             "fill": {
              "color": "#C8D4E3"
             },
             "line": {
              "color": "white"
             }
            },
            "type": "table"
           }
          ]
         },
         "layout": {
          "annotationdefaults": {
           "arrowcolor": "#2a3f5f",
           "arrowhead": 0,
           "arrowwidth": 1
          },
          "autotypenumbers": "strict",
          "coloraxis": {
           "colorbar": {
            "outlinewidth": 0,
            "ticks": ""
           }
          },
          "colorscale": {
           "diverging": [
            [
             0,
             "#8e0152"
            ],
            [
             0.1,
             "#c51b7d"
            ],
            [
             0.2,
             "#de77ae"
            ],
            [
             0.3,
             "#f1b6da"
            ],
            [
             0.4,
             "#fde0ef"
            ],
            [
             0.5,
             "#f7f7f7"
            ],
            [
             0.6,
             "#e6f5d0"
            ],
            [
             0.7,
             "#b8e186"
            ],
            [
             0.8,
             "#7fbc41"
            ],
            [
             0.9,
             "#4d9221"
            ],
            [
             1,
             "#276419"
            ]
           ],
           "sequential": [
            [
             0,
             "#0d0887"
            ],
            [
             0.1111111111111111,
             "#46039f"
            ],
            [
             0.2222222222222222,
             "#7201a8"
            ],
            [
             0.3333333333333333,
             "#9c179e"
            ],
            [
             0.4444444444444444,
             "#bd3786"
            ],
            [
             0.5555555555555556,
             "#d8576b"
            ],
            [
             0.6666666666666666,
             "#ed7953"
            ],
            [
             0.7777777777777778,
             "#fb9f3a"
            ],
            [
             0.8888888888888888,
             "#fdca26"
            ],
            [
             1,
             "#f0f921"
            ]
           ],
           "sequentialminus": [
            [
             0,
             "#0d0887"
            ],
            [
             0.1111111111111111,
             "#46039f"
            ],
            [
             0.2222222222222222,
             "#7201a8"
            ],
            [
             0.3333333333333333,
             "#9c179e"
            ],
            [
             0.4444444444444444,
             "#bd3786"
            ],
            [
             0.5555555555555556,
             "#d8576b"
            ],
            [
             0.6666666666666666,
             "#ed7953"
            ],
            [
             0.7777777777777778,
             "#fb9f3a"
            ],
            [
             0.8888888888888888,
             "#fdca26"
            ],
            [
             1,
             "#f0f921"
            ]
           ]
          },
          "colorway": [
           "#636efa",
           "#EF553B",
           "#00cc96",
           "#ab63fa",
           "#FFA15A",
           "#19d3f3",
           "#FF6692",
           "#B6E880",
           "#FF97FF",
           "#FECB52"
          ],
          "font": {
           "color": "#2a3f5f"
          },
          "geo": {
           "bgcolor": "white",
           "lakecolor": "white",
           "landcolor": "#E5ECF6",
           "showlakes": true,
           "showland": true,
           "subunitcolor": "white"
          },
          "hoverlabel": {
           "align": "left"
          },
          "hovermode": "closest",
          "mapbox": {
           "style": "light"
          },
          "paper_bgcolor": "white",
          "plot_bgcolor": "#E5ECF6",
          "polar": {
           "angularaxis": {
            "gridcolor": "white",
            "linecolor": "white",
            "ticks": ""
           },
           "bgcolor": "#E5ECF6",
           "radialaxis": {
            "gridcolor": "white",
            "linecolor": "white",
            "ticks": ""
           }
          },
          "scene": {
           "xaxis": {
            "backgroundcolor": "#E5ECF6",
            "gridcolor": "white",
            "gridwidth": 2,
            "linecolor": "white",
            "showbackground": true,
            "ticks": "",
            "zerolinecolor": "white"
           },
           "yaxis": {
            "backgroundcolor": "#E5ECF6",
            "gridcolor": "white",
            "gridwidth": 2,
            "linecolor": "white",
            "showbackground": true,
            "ticks": "",
            "zerolinecolor": "white"
           },
           "zaxis": {
            "backgroundcolor": "#E5ECF6",
            "gridcolor": "white",
            "gridwidth": 2,
            "linecolor": "white",
            "showbackground": true,
            "ticks": "",
            "zerolinecolor": "white"
           }
          },
          "shapedefaults": {
           "line": {
            "color": "#2a3f5f"
           }
          },
          "ternary": {
           "aaxis": {
            "gridcolor": "white",
            "linecolor": "white",
            "ticks": ""
           },
           "baxis": {
            "gridcolor": "white",
            "linecolor": "white",
            "ticks": ""
           },
           "bgcolor": "#E5ECF6",
           "caxis": {
            "gridcolor": "white",
            "linecolor": "white",
            "ticks": ""
           }
          },
          "title": {
           "x": 0.05
          },
          "xaxis": {
           "automargin": true,
           "gridcolor": "white",
           "linecolor": "white",
           "ticks": "",
           "title": {
            "standoff": 15
           },
           "zerolinecolor": "white",
           "zerolinewidth": 2
          },
          "yaxis": {
           "automargin": true,
           "gridcolor": "white",
           "linecolor": "white",
           "ticks": "",
           "title": {
            "standoff": 15
           },
           "zerolinecolor": "white",
           "zerolinewidth": 2
          }
         }
        },
        "title": {
         "text": "Lucros por seção"
        },
        "xaxis": {
         "anchor": "y",
         "domain": [
          0,
          1
         ],
         "title": {
          "text": "Lucro"
         }
        },
        "yaxis": {
         "anchor": "x",
         "categoryarray": [
          "Produtos de Limpeza",
          "Alimentos em Geral",
          "Padaria",
          "Açougue"
         ],
         "categoryorder": "total descending",
         "domain": [
          0,
          1
         ],
         "title": {
          "text": "Seção"
         }
        }
       }
      },
      "text/html": [
       "<div>                            <div id=\"cb67415d-3331-4b6c-8f76-c01928fb8014\" class=\"plotly-graph-div\" style=\"height:525px; width:100%;\"></div>            <script type=\"text/javascript\">                require([\"plotly\"], function(Plotly) {                    window.PLOTLYENV=window.PLOTLYENV || {};                                    if (document.getElementById(\"cb67415d-3331-4b6c-8f76-c01928fb8014\")) {                    Plotly.newPlot(                        \"cb67415d-3331-4b6c-8f76-c01928fb8014\",                        [{\"alignmentgroup\":\"True\",\"hovertemplate\":\"Se\\u00e7\\u00e3o=%{y}<br>Lucro=%{x}<extra></extra>\",\"legendgroup\":\"A\\u00e7ougue\",\"marker\":{\"color\":\"#EF553B\",\"pattern\":{\"shape\":\"\"}},\"name\":\"A\\u00e7ougue\",\"offsetgroup\":\"A\\u00e7ougue\",\"orientation\":\"h\",\"showlegend\":true,\"textposition\":\"auto\",\"type\":\"bar\",\"x\":[16399.630000000023],\"xaxis\":\"x\",\"y\":[\"A\\u00e7ougue\"],\"yaxis\":\"y\"},{\"alignmentgroup\":\"True\",\"hovertemplate\":\"Se\\u00e7\\u00e3o=%{y}<br>Lucro=%{x}<extra></extra>\",\"legendgroup\":\"Padaria\",\"marker\":{\"color\":\"#AB63FA\",\"pattern\":{\"shape\":\"\"}},\"name\":\"Padaria\",\"offsetgroup\":\"Padaria\",\"orientation\":\"h\",\"showlegend\":true,\"textposition\":\"auto\",\"type\":\"bar\",\"x\":[8996.939999999991],\"xaxis\":\"x\",\"y\":[\"Padaria\"],\"yaxis\":\"y\"},{\"alignmentgroup\":\"True\",\"hovertemplate\":\"Se\\u00e7\\u00e3o=%{y}<br>Lucro=%{x}<extra></extra>\",\"legendgroup\":\"Alimentos em Geral\",\"marker\":{\"color\":\"#00CC96\",\"pattern\":{\"shape\":\"\"}},\"name\":\"Alimentos em Geral\",\"offsetgroup\":\"Alimentos em Geral\",\"orientation\":\"h\",\"showlegend\":true,\"textposition\":\"auto\",\"type\":\"bar\",\"x\":[5111.280000000007],\"xaxis\":\"x\",\"y\":[\"Alimentos em Geral\"],\"yaxis\":\"y\"},{\"alignmentgroup\":\"True\",\"hovertemplate\":\"Se\\u00e7\\u00e3o=%{y}<br>Lucro=%{x}<extra></extra>\",\"legendgroup\":\"Produtos de Limpeza\",\"marker\":{\"color\":\"#FFA15A\",\"pattern\":{\"shape\":\"\"}},\"name\":\"Produtos de Limpeza\",\"offsetgroup\":\"Produtos de Limpeza\",\"orientation\":\"h\",\"showlegend\":true,\"textposition\":\"auto\",\"type\":\"bar\",\"x\":[4508.620000000001],\"xaxis\":\"x\",\"y\":[\"Produtos de Limpeza\"],\"yaxis\":\"y\"}],                        {\"barmode\":\"stack\",\"legend\":{\"title\":{\"text\":\"Se\\u00e7\\u00e3o\"},\"tracegroupgap\":0},\"margin\":{\"t\":60},\"template\":{\"data\":{\"bar\":[{\"error_x\":{\"color\":\"#2a3f5f\"},\"error_y\":{\"color\":\"#2a3f5f\"},\"marker\":{\"line\":{\"color\":\"#E5ECF6\",\"width\":0.5},\"pattern\":{\"fillmode\":\"overlay\",\"size\":10,\"solidity\":0.2}},\"type\":\"bar\"}],\"barpolar\":[{\"marker\":{\"line\":{\"color\":\"#E5ECF6\",\"width\":0.5},\"pattern\":{\"fillmode\":\"overlay\",\"size\":10,\"solidity\":0.2}},\"type\":\"barpolar\"}],\"carpet\":[{\"aaxis\":{\"endlinecolor\":\"#2a3f5f\",\"gridcolor\":\"white\",\"linecolor\":\"white\",\"minorgridcolor\":\"white\",\"startlinecolor\":\"#2a3f5f\"},\"baxis\":{\"endlinecolor\":\"#2a3f5f\",\"gridcolor\":\"white\",\"linecolor\":\"white\",\"minorgridcolor\":\"white\",\"startlinecolor\":\"#2a3f5f\"},\"type\":\"carpet\"}],\"choropleth\":[{\"colorbar\":{\"outlinewidth\":0,\"ticks\":\"\"},\"type\":\"choropleth\"}],\"contour\":[{\"colorbar\":{\"outlinewidth\":0,\"ticks\":\"\"},\"colorscale\":[[0.0,\"#0d0887\"],[0.1111111111111111,\"#46039f\"],[0.2222222222222222,\"#7201a8\"],[0.3333333333333333,\"#9c179e\"],[0.4444444444444444,\"#bd3786\"],[0.5555555555555556,\"#d8576b\"],[0.6666666666666666,\"#ed7953\"],[0.7777777777777778,\"#fb9f3a\"],[0.8888888888888888,\"#fdca26\"],[1.0,\"#f0f921\"]],\"type\":\"contour\"}],\"contourcarpet\":[{\"colorbar\":{\"outlinewidth\":0,\"ticks\":\"\"},\"type\":\"contourcarpet\"}],\"heatmap\":[{\"colorbar\":{\"outlinewidth\":0,\"ticks\":\"\"},\"colorscale\":[[0.0,\"#0d0887\"],[0.1111111111111111,\"#46039f\"],[0.2222222222222222,\"#7201a8\"],[0.3333333333333333,\"#9c179e\"],[0.4444444444444444,\"#bd3786\"],[0.5555555555555556,\"#d8576b\"],[0.6666666666666666,\"#ed7953\"],[0.7777777777777778,\"#fb9f3a\"],[0.8888888888888888,\"#fdca26\"],[1.0,\"#f0f921\"]],\"type\":\"heatmap\"}],\"heatmapgl\":[{\"colorbar\":{\"outlinewidth\":0,\"ticks\":\"\"},\"colorscale\":[[0.0,\"#0d0887\"],[0.1111111111111111,\"#46039f\"],[0.2222222222222222,\"#7201a8\"],[0.3333333333333333,\"#9c179e\"],[0.4444444444444444,\"#bd3786\"],[0.5555555555555556,\"#d8576b\"],[0.6666666666666666,\"#ed7953\"],[0.7777777777777778,\"#fb9f3a\"],[0.8888888888888888,\"#fdca26\"],[1.0,\"#f0f921\"]],\"type\":\"heatmapgl\"}],\"histogram\":[{\"marker\":{\"pattern\":{\"fillmode\":\"overlay\",\"size\":10,\"solidity\":0.2}},\"type\":\"histogram\"}],\"histogram2d\":[{\"colorbar\":{\"outlinewidth\":0,\"ticks\":\"\"},\"colorscale\":[[0.0,\"#0d0887\"],[0.1111111111111111,\"#46039f\"],[0.2222222222222222,\"#7201a8\"],[0.3333333333333333,\"#9c179e\"],[0.4444444444444444,\"#bd3786\"],[0.5555555555555556,\"#d8576b\"],[0.6666666666666666,\"#ed7953\"],[0.7777777777777778,\"#fb9f3a\"],[0.8888888888888888,\"#fdca26\"],[1.0,\"#f0f921\"]],\"type\":\"histogram2d\"}],\"histogram2dcontour\":[{\"colorbar\":{\"outlinewidth\":0,\"ticks\":\"\"},\"colorscale\":[[0.0,\"#0d0887\"],[0.1111111111111111,\"#46039f\"],[0.2222222222222222,\"#7201a8\"],[0.3333333333333333,\"#9c179e\"],[0.4444444444444444,\"#bd3786\"],[0.5555555555555556,\"#d8576b\"],[0.6666666666666666,\"#ed7953\"],[0.7777777777777778,\"#fb9f3a\"],[0.8888888888888888,\"#fdca26\"],[1.0,\"#f0f921\"]],\"type\":\"histogram2dcontour\"}],\"mesh3d\":[{\"colorbar\":{\"outlinewidth\":0,\"ticks\":\"\"},\"type\":\"mesh3d\"}],\"parcoords\":[{\"line\":{\"colorbar\":{\"outlinewidth\":0,\"ticks\":\"\"}},\"type\":\"parcoords\"}],\"pie\":[{\"automargin\":true,\"type\":\"pie\"}],\"scatter\":[{\"marker\":{\"colorbar\":{\"outlinewidth\":0,\"ticks\":\"\"}},\"type\":\"scatter\"}],\"scatter3d\":[{\"line\":{\"colorbar\":{\"outlinewidth\":0,\"ticks\":\"\"}},\"marker\":{\"colorbar\":{\"outlinewidth\":0,\"ticks\":\"\"}},\"type\":\"scatter3d\"}],\"scattercarpet\":[{\"marker\":{\"colorbar\":{\"outlinewidth\":0,\"ticks\":\"\"}},\"type\":\"scattercarpet\"}],\"scattergeo\":[{\"marker\":{\"colorbar\":{\"outlinewidth\":0,\"ticks\":\"\"}},\"type\":\"scattergeo\"}],\"scattergl\":[{\"marker\":{\"colorbar\":{\"outlinewidth\":0,\"ticks\":\"\"}},\"type\":\"scattergl\"}],\"scattermapbox\":[{\"marker\":{\"colorbar\":{\"outlinewidth\":0,\"ticks\":\"\"}},\"type\":\"scattermapbox\"}],\"scatterpolar\":[{\"marker\":{\"colorbar\":{\"outlinewidth\":0,\"ticks\":\"\"}},\"type\":\"scatterpolar\"}],\"scatterpolargl\":[{\"marker\":{\"colorbar\":{\"outlinewidth\":0,\"ticks\":\"\"}},\"type\":\"scatterpolargl\"}],\"scatterternary\":[{\"marker\":{\"colorbar\":{\"outlinewidth\":0,\"ticks\":\"\"}},\"type\":\"scatterternary\"}],\"surface\":[{\"colorbar\":{\"outlinewidth\":0,\"ticks\":\"\"},\"colorscale\":[[0.0,\"#0d0887\"],[0.1111111111111111,\"#46039f\"],[0.2222222222222222,\"#7201a8\"],[0.3333333333333333,\"#9c179e\"],[0.4444444444444444,\"#bd3786\"],[0.5555555555555556,\"#d8576b\"],[0.6666666666666666,\"#ed7953\"],[0.7777777777777778,\"#fb9f3a\"],[0.8888888888888888,\"#fdca26\"],[1.0,\"#f0f921\"]],\"type\":\"surface\"}],\"table\":[{\"cells\":{\"fill\":{\"color\":\"#EBF0F8\"},\"line\":{\"color\":\"white\"}},\"header\":{\"fill\":{\"color\":\"#C8D4E3\"},\"line\":{\"color\":\"white\"}},\"type\":\"table\"}]},\"layout\":{\"annotationdefaults\":{\"arrowcolor\":\"#2a3f5f\",\"arrowhead\":0,\"arrowwidth\":1},\"autotypenumbers\":\"strict\",\"coloraxis\":{\"colorbar\":{\"outlinewidth\":0,\"ticks\":\"\"}},\"colorscale\":{\"diverging\":[[0,\"#8e0152\"],[0.1,\"#c51b7d\"],[0.2,\"#de77ae\"],[0.3,\"#f1b6da\"],[0.4,\"#fde0ef\"],[0.5,\"#f7f7f7\"],[0.6,\"#e6f5d0\"],[0.7,\"#b8e186\"],[0.8,\"#7fbc41\"],[0.9,\"#4d9221\"],[1,\"#276419\"]],\"sequential\":[[0.0,\"#0d0887\"],[0.1111111111111111,\"#46039f\"],[0.2222222222222222,\"#7201a8\"],[0.3333333333333333,\"#9c179e\"],[0.4444444444444444,\"#bd3786\"],[0.5555555555555556,\"#d8576b\"],[0.6666666666666666,\"#ed7953\"],[0.7777777777777778,\"#fb9f3a\"],[0.8888888888888888,\"#fdca26\"],[1.0,\"#f0f921\"]],\"sequentialminus\":[[0.0,\"#0d0887\"],[0.1111111111111111,\"#46039f\"],[0.2222222222222222,\"#7201a8\"],[0.3333333333333333,\"#9c179e\"],[0.4444444444444444,\"#bd3786\"],[0.5555555555555556,\"#d8576b\"],[0.6666666666666666,\"#ed7953\"],[0.7777777777777778,\"#fb9f3a\"],[0.8888888888888888,\"#fdca26\"],[1.0,\"#f0f921\"]]},\"colorway\":[\"#636efa\",\"#EF553B\",\"#00cc96\",\"#ab63fa\",\"#FFA15A\",\"#19d3f3\",\"#FF6692\",\"#B6E880\",\"#FF97FF\",\"#FECB52\"],\"font\":{\"color\":\"#2a3f5f\"},\"geo\":{\"bgcolor\":\"white\",\"lakecolor\":\"white\",\"landcolor\":\"#E5ECF6\",\"showlakes\":true,\"showland\":true,\"subunitcolor\":\"white\"},\"hoverlabel\":{\"align\":\"left\"},\"hovermode\":\"closest\",\"mapbox\":{\"style\":\"light\"},\"paper_bgcolor\":\"white\",\"plot_bgcolor\":\"#E5ECF6\",\"polar\":{\"angularaxis\":{\"gridcolor\":\"white\",\"linecolor\":\"white\",\"ticks\":\"\"},\"bgcolor\":\"#E5ECF6\",\"radialaxis\":{\"gridcolor\":\"white\",\"linecolor\":\"white\",\"ticks\":\"\"}},\"scene\":{\"xaxis\":{\"backgroundcolor\":\"#E5ECF6\",\"gridcolor\":\"white\",\"gridwidth\":2,\"linecolor\":\"white\",\"showbackground\":true,\"ticks\":\"\",\"zerolinecolor\":\"white\"},\"yaxis\":{\"backgroundcolor\":\"#E5ECF6\",\"gridcolor\":\"white\",\"gridwidth\":2,\"linecolor\":\"white\",\"showbackground\":true,\"ticks\":\"\",\"zerolinecolor\":\"white\"},\"zaxis\":{\"backgroundcolor\":\"#E5ECF6\",\"gridcolor\":\"white\",\"gridwidth\":2,\"linecolor\":\"white\",\"showbackground\":true,\"ticks\":\"\",\"zerolinecolor\":\"white\"}},\"shapedefaults\":{\"line\":{\"color\":\"#2a3f5f\"}},\"ternary\":{\"aaxis\":{\"gridcolor\":\"white\",\"linecolor\":\"white\",\"ticks\":\"\"},\"baxis\":{\"gridcolor\":\"white\",\"linecolor\":\"white\",\"ticks\":\"\"},\"bgcolor\":\"#E5ECF6\",\"caxis\":{\"gridcolor\":\"white\",\"linecolor\":\"white\",\"ticks\":\"\"}},\"title\":{\"x\":0.05},\"xaxis\":{\"automargin\":true,\"gridcolor\":\"white\",\"linecolor\":\"white\",\"ticks\":\"\",\"title\":{\"standoff\":15},\"zerolinecolor\":\"white\",\"zerolinewidth\":2},\"yaxis\":{\"automargin\":true,\"gridcolor\":\"white\",\"linecolor\":\"white\",\"ticks\":\"\",\"title\":{\"standoff\":15},\"zerolinecolor\":\"white\",\"zerolinewidth\":2}}},\"title\":{\"text\":\"Lucros por se\\u00e7\\u00e3o\"},\"xaxis\":{\"anchor\":\"y\",\"domain\":[0.0,1.0],\"title\":{\"text\":\"Lucro\"}},\"yaxis\":{\"anchor\":\"x\",\"categoryarray\":[\"Produtos de Limpeza\",\"Alimentos em Geral\",\"Padaria\",\"A\\u00e7ougue\"],\"categoryorder\":\"total descending\",\"domain\":[0.0,1.0],\"title\":{\"text\":\"Se\\u00e7\\u00e3o\"}}},                        {\"responsive\": true}                    ).then(function(){\n",
       "                            \n",
       "var gd = document.getElementById('cb67415d-3331-4b6c-8f76-c01928fb8014');\n",
       "var x = new MutationObserver(function (mutations, observer) {{\n",
       "        var display = window.getComputedStyle(gd).display;\n",
       "        if (!display || display === 'none') {{\n",
       "            console.log([gd, 'removed!']);\n",
       "            Plotly.purge(gd);\n",
       "            observer.disconnect();\n",
       "        }}\n",
       "}});\n",
       "\n",
       "// Listen for the removal of the full notebook cells\n",
       "var notebookContainer = gd.closest('#notebook-container');\n",
       "if (notebookContainer) {{\n",
       "    x.observe(notebookContainer, {childList: true});\n",
       "}}\n",
       "\n",
       "// Listen for the clearing of the current output cell\n",
       "var outputEl = gd.closest('.output');\n",
       "if (outputEl) {{\n",
       "    x.observe(outputEl, {childList: true});\n",
       "}}\n",
       "\n",
       "                        })                };                });            </script>        </div>"
      ]
     },
     "metadata": {},
     "output_type": "display_data"
    }
   ],
   "source": [
    "lucro_secao=venda_produtos_cliente.groupby(\"secao\").sum().sort_values('lucro', ascending=False ).reset_index()\n",
    "\n",
    "fig2 = px.bar(lucro_secao, x=\"lucro\", y=\"secao\", color=\"secao\", barmode = 'stack',color_discrete_map={'Açougue': '#EF553B', \n",
    "                                                   'Padaria': '#AB63FA', 'Produtos de Limpeza': '#FFA15A', 'Alimentos em Geral': '#00CC96'},\n",
    "             labels={\"lucro\":\"Lucro\", \"secao\":\"Seção\"})\n",
    "fig2.update_layout(title = 'Lucros por seção', yaxis={'categoryorder':'total descending'})\n",
    "fig2.show()"
   ]
  },
  {
   "cell_type": "code",
   "execution_count": 26,
   "id": "232e2bab",
   "metadata": {},
   "outputs": [
    {
     "data": {
      "application/vnd.plotly.v1+json": {
       "config": {
        "plotlyServerURL": "https://plot.ly"
       },
       "data": [
        {
         "alignmentgroup": "True",
         "hovertemplate": "Seção=%{x}<br>Lucro=%{y}<extra></extra>",
         "legendgroup": "Açougue",
         "marker": {
          "color": "#00CC96",
          "pattern": {
           "shape": ""
          }
         },
         "name": "Açougue",
         "offsetgroup": "Açougue",
         "orientation": "v",
         "showlegend": true,
         "textposition": "auto",
         "type": "bar",
         "x": [
          "Açougue"
         ],
         "xaxis": "x",
         "y": [
          16399.630000000023
         ],
         "yaxis": "y"
        },
        {
         "alignmentgroup": "True",
         "hovertemplate": "Seção=%{x}<br>Lucro=%{y}<extra></extra>",
         "legendgroup": "Padaria",
         "marker": {
          "color": "#00CC96",
          "pattern": {
           "shape": ""
          }
         },
         "name": "Padaria",
         "offsetgroup": "Padaria",
         "orientation": "v",
         "showlegend": true,
         "textposition": "auto",
         "type": "bar",
         "x": [
          "Padaria"
         ],
         "xaxis": "x",
         "y": [
          8996.939999999991
         ],
         "yaxis": "y"
        },
        {
         "alignmentgroup": "True",
         "hovertemplate": "Seção=%{x}<br>Lucro=%{y}<extra></extra>",
         "legendgroup": "Alimentos em Geral",
         "marker": {
          "color": "#00CC96",
          "pattern": {
           "shape": ""
          }
         },
         "name": "Alimentos em Geral",
         "offsetgroup": "Alimentos em Geral",
         "orientation": "v",
         "showlegend": true,
         "textposition": "auto",
         "type": "bar",
         "x": [
          "Alimentos em Geral"
         ],
         "xaxis": "x",
         "y": [
          5111.280000000007
         ],
         "yaxis": "y"
        },
        {
         "alignmentgroup": "True",
         "hovertemplate": "Seção=%{x}<br>Lucro=%{y}<extra></extra>",
         "legendgroup": "Produtos de Limpeza",
         "marker": {
          "color": "#00CC96",
          "pattern": {
           "shape": ""
          }
         },
         "name": "Produtos de Limpeza",
         "offsetgroup": "Produtos de Limpeza",
         "orientation": "v",
         "showlegend": true,
         "textposition": "auto",
         "type": "bar",
         "x": [
          "Produtos de Limpeza"
         ],
         "xaxis": "x",
         "y": [
          4508.620000000001
         ],
         "yaxis": "y"
        }
       ],
       "layout": {
        "barmode": "stack",
        "legend": {
         "title": {
          "text": "Seção"
         },
         "tracegroupgap": 0
        },
        "margin": {
         "t": 60
        },
        "showlegend": false,
        "template": {
         "data": {
          "bar": [
           {
            "error_x": {
             "color": "#2a3f5f"
            },
            "error_y": {
             "color": "#2a3f5f"
            },
            "marker": {
             "line": {
              "color": "#E5ECF6",
              "width": 0.5
             },
             "pattern": {
              "fillmode": "overlay",
              "size": 10,
              "solidity": 0.2
             }
            },
            "type": "bar"
           }
          ],
          "barpolar": [
           {
            "marker": {
             "line": {
              "color": "#E5ECF6",
              "width": 0.5
             },
             "pattern": {
              "fillmode": "overlay",
              "size": 10,
              "solidity": 0.2
             }
            },
            "type": "barpolar"
           }
          ],
          "carpet": [
           {
            "aaxis": {
             "endlinecolor": "#2a3f5f",
             "gridcolor": "white",
             "linecolor": "white",
             "minorgridcolor": "white",
             "startlinecolor": "#2a3f5f"
            },
            "baxis": {
             "endlinecolor": "#2a3f5f",
             "gridcolor": "white",
             "linecolor": "white",
             "minorgridcolor": "white",
             "startlinecolor": "#2a3f5f"
            },
            "type": "carpet"
           }
          ],
          "choropleth": [
           {
            "colorbar": {
             "outlinewidth": 0,
             "ticks": ""
            },
            "type": "choropleth"
           }
          ],
          "contour": [
           {
            "colorbar": {
             "outlinewidth": 0,
             "ticks": ""
            },
            "colorscale": [
             [
              0,
              "#0d0887"
             ],
             [
              0.1111111111111111,
              "#46039f"
             ],
             [
              0.2222222222222222,
              "#7201a8"
             ],
             [
              0.3333333333333333,
              "#9c179e"
             ],
             [
              0.4444444444444444,
              "#bd3786"
             ],
             [
              0.5555555555555556,
              "#d8576b"
             ],
             [
              0.6666666666666666,
              "#ed7953"
             ],
             [
              0.7777777777777778,
              "#fb9f3a"
             ],
             [
              0.8888888888888888,
              "#fdca26"
             ],
             [
              1,
              "#f0f921"
             ]
            ],
            "type": "contour"
           }
          ],
          "contourcarpet": [
           {
            "colorbar": {
             "outlinewidth": 0,
             "ticks": ""
            },
            "type": "contourcarpet"
           }
          ],
          "heatmap": [
           {
            "colorbar": {
             "outlinewidth": 0,
             "ticks": ""
            },
            "colorscale": [
             [
              0,
              "#0d0887"
             ],
             [
              0.1111111111111111,
              "#46039f"
             ],
             [
              0.2222222222222222,
              "#7201a8"
             ],
             [
              0.3333333333333333,
              "#9c179e"
             ],
             [
              0.4444444444444444,
              "#bd3786"
             ],
             [
              0.5555555555555556,
              "#d8576b"
             ],
             [
              0.6666666666666666,
              "#ed7953"
             ],
             [
              0.7777777777777778,
              "#fb9f3a"
             ],
             [
              0.8888888888888888,
              "#fdca26"
             ],
             [
              1,
              "#f0f921"
             ]
            ],
            "type": "heatmap"
           }
          ],
          "heatmapgl": [
           {
            "colorbar": {
             "outlinewidth": 0,
             "ticks": ""
            },
            "colorscale": [
             [
              0,
              "#0d0887"
             ],
             [
              0.1111111111111111,
              "#46039f"
             ],
             [
              0.2222222222222222,
              "#7201a8"
             ],
             [
              0.3333333333333333,
              "#9c179e"
             ],
             [
              0.4444444444444444,
              "#bd3786"
             ],
             [
              0.5555555555555556,
              "#d8576b"
             ],
             [
              0.6666666666666666,
              "#ed7953"
             ],
             [
              0.7777777777777778,
              "#fb9f3a"
             ],
             [
              0.8888888888888888,
              "#fdca26"
             ],
             [
              1,
              "#f0f921"
             ]
            ],
            "type": "heatmapgl"
           }
          ],
          "histogram": [
           {
            "marker": {
             "pattern": {
              "fillmode": "overlay",
              "size": 10,
              "solidity": 0.2
             }
            },
            "type": "histogram"
           }
          ],
          "histogram2d": [
           {
            "colorbar": {
             "outlinewidth": 0,
             "ticks": ""
            },
            "colorscale": [
             [
              0,
              "#0d0887"
             ],
             [
              0.1111111111111111,
              "#46039f"
             ],
             [
              0.2222222222222222,
              "#7201a8"
             ],
             [
              0.3333333333333333,
              "#9c179e"
             ],
             [
              0.4444444444444444,
              "#bd3786"
             ],
             [
              0.5555555555555556,
              "#d8576b"
             ],
             [
              0.6666666666666666,
              "#ed7953"
             ],
             [
              0.7777777777777778,
              "#fb9f3a"
             ],
             [
              0.8888888888888888,
              "#fdca26"
             ],
             [
              1,
              "#f0f921"
             ]
            ],
            "type": "histogram2d"
           }
          ],
          "histogram2dcontour": [
           {
            "colorbar": {
             "outlinewidth": 0,
             "ticks": ""
            },
            "colorscale": [
             [
              0,
              "#0d0887"
             ],
             [
              0.1111111111111111,
              "#46039f"
             ],
             [
              0.2222222222222222,
              "#7201a8"
             ],
             [
              0.3333333333333333,
              "#9c179e"
             ],
             [
              0.4444444444444444,
              "#bd3786"
             ],
             [
              0.5555555555555556,
              "#d8576b"
             ],
             [
              0.6666666666666666,
              "#ed7953"
             ],
             [
              0.7777777777777778,
              "#fb9f3a"
             ],
             [
              0.8888888888888888,
              "#fdca26"
             ],
             [
              1,
              "#f0f921"
             ]
            ],
            "type": "histogram2dcontour"
           }
          ],
          "mesh3d": [
           {
            "colorbar": {
             "outlinewidth": 0,
             "ticks": ""
            },
            "type": "mesh3d"
           }
          ],
          "parcoords": [
           {
            "line": {
             "colorbar": {
              "outlinewidth": 0,
              "ticks": ""
             }
            },
            "type": "parcoords"
           }
          ],
          "pie": [
           {
            "automargin": true,
            "type": "pie"
           }
          ],
          "scatter": [
           {
            "marker": {
             "colorbar": {
              "outlinewidth": 0,
              "ticks": ""
             }
            },
            "type": "scatter"
           }
          ],
          "scatter3d": [
           {
            "line": {
             "colorbar": {
              "outlinewidth": 0,
              "ticks": ""
             }
            },
            "marker": {
             "colorbar": {
              "outlinewidth": 0,
              "ticks": ""
             }
            },
            "type": "scatter3d"
           }
          ],
          "scattercarpet": [
           {
            "marker": {
             "colorbar": {
              "outlinewidth": 0,
              "ticks": ""
             }
            },
            "type": "scattercarpet"
           }
          ],
          "scattergeo": [
           {
            "marker": {
             "colorbar": {
              "outlinewidth": 0,
              "ticks": ""
             }
            },
            "type": "scattergeo"
           }
          ],
          "scattergl": [
           {
            "marker": {
             "colorbar": {
              "outlinewidth": 0,
              "ticks": ""
             }
            },
            "type": "scattergl"
           }
          ],
          "scattermapbox": [
           {
            "marker": {
             "colorbar": {
              "outlinewidth": 0,
              "ticks": ""
             }
            },
            "type": "scattermapbox"
           }
          ],
          "scatterpolar": [
           {
            "marker": {
             "colorbar": {
              "outlinewidth": 0,
              "ticks": ""
             }
            },
            "type": "scatterpolar"
           }
          ],
          "scatterpolargl": [
           {
            "marker": {
             "colorbar": {
              "outlinewidth": 0,
              "ticks": ""
             }
            },
            "type": "scatterpolargl"
           }
          ],
          "scatterternary": [
           {
            "marker": {
             "colorbar": {
              "outlinewidth": 0,
              "ticks": ""
             }
            },
            "type": "scatterternary"
           }
          ],
          "surface": [
           {
            "colorbar": {
             "outlinewidth": 0,
             "ticks": ""
            },
            "colorscale": [
             [
              0,
              "#0d0887"
             ],
             [
              0.1111111111111111,
              "#46039f"
             ],
             [
              0.2222222222222222,
              "#7201a8"
             ],
             [
              0.3333333333333333,
              "#9c179e"
             ],
             [
              0.4444444444444444,
              "#bd3786"
             ],
             [
              0.5555555555555556,
              "#d8576b"
             ],
             [
              0.6666666666666666,
              "#ed7953"
             ],
             [
              0.7777777777777778,
              "#fb9f3a"
             ],
             [
              0.8888888888888888,
              "#fdca26"
             ],
             [
              1,
              "#f0f921"
             ]
            ],
            "type": "surface"
           }
          ],
          "table": [
           {
            "cells": {
             "fill": {
              "color": "#EBF0F8"
             },
             "line": {
              "color": "white"
             }
            },
            "header": {
             "fill": {
              "color": "#C8D4E3"
             },
             "line": {
              "color": "white"
             }
            },
            "type": "table"
           }
          ]
         },
         "layout": {
          "annotationdefaults": {
           "arrowcolor": "#2a3f5f",
           "arrowhead": 0,
           "arrowwidth": 1
          },
          "autotypenumbers": "strict",
          "coloraxis": {
           "colorbar": {
            "outlinewidth": 0,
            "ticks": ""
           }
          },
          "colorscale": {
           "diverging": [
            [
             0,
             "#8e0152"
            ],
            [
             0.1,
             "#c51b7d"
            ],
            [
             0.2,
             "#de77ae"
            ],
            [
             0.3,
             "#f1b6da"
            ],
            [
             0.4,
             "#fde0ef"
            ],
            [
             0.5,
             "#f7f7f7"
            ],
            [
             0.6,
             "#e6f5d0"
            ],
            [
             0.7,
             "#b8e186"
            ],
            [
             0.8,
             "#7fbc41"
            ],
            [
             0.9,
             "#4d9221"
            ],
            [
             1,
             "#276419"
            ]
           ],
           "sequential": [
            [
             0,
             "#0d0887"
            ],
            [
             0.1111111111111111,
             "#46039f"
            ],
            [
             0.2222222222222222,
             "#7201a8"
            ],
            [
             0.3333333333333333,
             "#9c179e"
            ],
            [
             0.4444444444444444,
             "#bd3786"
            ],
            [
             0.5555555555555556,
             "#d8576b"
            ],
            [
             0.6666666666666666,
             "#ed7953"
            ],
            [
             0.7777777777777778,
             "#fb9f3a"
            ],
            [
             0.8888888888888888,
             "#fdca26"
            ],
            [
             1,
             "#f0f921"
            ]
           ],
           "sequentialminus": [
            [
             0,
             "#0d0887"
            ],
            [
             0.1111111111111111,
             "#46039f"
            ],
            [
             0.2222222222222222,
             "#7201a8"
            ],
            [
             0.3333333333333333,
             "#9c179e"
            ],
            [
             0.4444444444444444,
             "#bd3786"
            ],
            [
             0.5555555555555556,
             "#d8576b"
            ],
            [
             0.6666666666666666,
             "#ed7953"
            ],
            [
             0.7777777777777778,
             "#fb9f3a"
            ],
            [
             0.8888888888888888,
             "#fdca26"
            ],
            [
             1,
             "#f0f921"
            ]
           ]
          },
          "colorway": [
           "#636efa",
           "#EF553B",
           "#00cc96",
           "#ab63fa",
           "#FFA15A",
           "#19d3f3",
           "#FF6692",
           "#B6E880",
           "#FF97FF",
           "#FECB52"
          ],
          "font": {
           "color": "#2a3f5f"
          },
          "geo": {
           "bgcolor": "white",
           "lakecolor": "white",
           "landcolor": "#E5ECF6",
           "showlakes": true,
           "showland": true,
           "subunitcolor": "white"
          },
          "hoverlabel": {
           "align": "left"
          },
          "hovermode": "closest",
          "mapbox": {
           "style": "light"
          },
          "paper_bgcolor": "white",
          "plot_bgcolor": "#E5ECF6",
          "polar": {
           "angularaxis": {
            "gridcolor": "white",
            "linecolor": "white",
            "ticks": ""
           },
           "bgcolor": "#E5ECF6",
           "radialaxis": {
            "gridcolor": "white",
            "linecolor": "white",
            "ticks": ""
           }
          },
          "scene": {
           "xaxis": {
            "backgroundcolor": "#E5ECF6",
            "gridcolor": "white",
            "gridwidth": 2,
            "linecolor": "white",
            "showbackground": true,
            "ticks": "",
            "zerolinecolor": "white"
           },
           "yaxis": {
            "backgroundcolor": "#E5ECF6",
            "gridcolor": "white",
            "gridwidth": 2,
            "linecolor": "white",
            "showbackground": true,
            "ticks": "",
            "zerolinecolor": "white"
           },
           "zaxis": {
            "backgroundcolor": "#E5ECF6",
            "gridcolor": "white",
            "gridwidth": 2,
            "linecolor": "white",
            "showbackground": true,
            "ticks": "",
            "zerolinecolor": "white"
           }
          },
          "shapedefaults": {
           "line": {
            "color": "#2a3f5f"
           }
          },
          "ternary": {
           "aaxis": {
            "gridcolor": "white",
            "linecolor": "white",
            "ticks": ""
           },
           "baxis": {
            "gridcolor": "white",
            "linecolor": "white",
            "ticks": ""
           },
           "bgcolor": "#E5ECF6",
           "caxis": {
            "gridcolor": "white",
            "linecolor": "white",
            "ticks": ""
           }
          },
          "title": {
           "x": 0.05
          },
          "xaxis": {
           "automargin": true,
           "gridcolor": "white",
           "linecolor": "white",
           "ticks": "",
           "title": {
            "standoff": 15
           },
           "zerolinecolor": "white",
           "zerolinewidth": 2
          },
          "yaxis": {
           "automargin": true,
           "gridcolor": "white",
           "linecolor": "white",
           "ticks": "",
           "title": {
            "standoff": 15
           },
           "zerolinecolor": "white",
           "zerolinewidth": 2
          }
         }
        },
        "title": {
         "text": "Lucros por seção"
        },
        "xaxis": {
         "anchor": "y",
         "categoryarray": [
          "Açougue",
          "Padaria",
          "Alimentos em Geral",
          "Produtos de Limpeza"
         ],
         "categoryorder": "array",
         "domain": [
          0,
          1
         ],
         "title": {
          "text": "Seção"
         }
        },
        "yaxis": {
         "anchor": "x",
         "domain": [
          0,
          1
         ],
         "title": {
          "text": "Lucro"
         }
        }
       }
      },
      "text/html": [
       "<div>                            <div id=\"06b0f0b0-836f-4b47-9c90-71ec7ff144fa\" class=\"plotly-graph-div\" style=\"height:525px; width:100%;\"></div>            <script type=\"text/javascript\">                require([\"plotly\"], function(Plotly) {                    window.PLOTLYENV=window.PLOTLYENV || {};                                    if (document.getElementById(\"06b0f0b0-836f-4b47-9c90-71ec7ff144fa\")) {                    Plotly.newPlot(                        \"06b0f0b0-836f-4b47-9c90-71ec7ff144fa\",                        [{\"alignmentgroup\":\"True\",\"hovertemplate\":\"Se\\u00e7\\u00e3o=%{x}<br>Lucro=%{y}<extra></extra>\",\"legendgroup\":\"A\\u00e7ougue\",\"marker\":{\"color\":\"#00CC96\",\"pattern\":{\"shape\":\"\"}},\"name\":\"A\\u00e7ougue\",\"offsetgroup\":\"A\\u00e7ougue\",\"orientation\":\"v\",\"showlegend\":true,\"textposition\":\"auto\",\"type\":\"bar\",\"x\":[\"A\\u00e7ougue\"],\"xaxis\":\"x\",\"y\":[16399.630000000023],\"yaxis\":\"y\"},{\"alignmentgroup\":\"True\",\"hovertemplate\":\"Se\\u00e7\\u00e3o=%{x}<br>Lucro=%{y}<extra></extra>\",\"legendgroup\":\"Padaria\",\"marker\":{\"color\":\"#00CC96\",\"pattern\":{\"shape\":\"\"}},\"name\":\"Padaria\",\"offsetgroup\":\"Padaria\",\"orientation\":\"v\",\"showlegend\":true,\"textposition\":\"auto\",\"type\":\"bar\",\"x\":[\"Padaria\"],\"xaxis\":\"x\",\"y\":[8996.939999999991],\"yaxis\":\"y\"},{\"alignmentgroup\":\"True\",\"hovertemplate\":\"Se\\u00e7\\u00e3o=%{x}<br>Lucro=%{y}<extra></extra>\",\"legendgroup\":\"Alimentos em Geral\",\"marker\":{\"color\":\"#00CC96\",\"pattern\":{\"shape\":\"\"}},\"name\":\"Alimentos em Geral\",\"offsetgroup\":\"Alimentos em Geral\",\"orientation\":\"v\",\"showlegend\":true,\"textposition\":\"auto\",\"type\":\"bar\",\"x\":[\"Alimentos em Geral\"],\"xaxis\":\"x\",\"y\":[5111.280000000007],\"yaxis\":\"y\"},{\"alignmentgroup\":\"True\",\"hovertemplate\":\"Se\\u00e7\\u00e3o=%{x}<br>Lucro=%{y}<extra></extra>\",\"legendgroup\":\"Produtos de Limpeza\",\"marker\":{\"color\":\"#00CC96\",\"pattern\":{\"shape\":\"\"}},\"name\":\"Produtos de Limpeza\",\"offsetgroup\":\"Produtos de Limpeza\",\"orientation\":\"v\",\"showlegend\":true,\"textposition\":\"auto\",\"type\":\"bar\",\"x\":[\"Produtos de Limpeza\"],\"xaxis\":\"x\",\"y\":[4508.620000000001],\"yaxis\":\"y\"}],                        {\"barmode\":\"stack\",\"legend\":{\"title\":{\"text\":\"Se\\u00e7\\u00e3o\"},\"tracegroupgap\":0},\"margin\":{\"t\":60},\"showlegend\":false,\"template\":{\"data\":{\"bar\":[{\"error_x\":{\"color\":\"#2a3f5f\"},\"error_y\":{\"color\":\"#2a3f5f\"},\"marker\":{\"line\":{\"color\":\"#E5ECF6\",\"width\":0.5},\"pattern\":{\"fillmode\":\"overlay\",\"size\":10,\"solidity\":0.2}},\"type\":\"bar\"}],\"barpolar\":[{\"marker\":{\"line\":{\"color\":\"#E5ECF6\",\"width\":0.5},\"pattern\":{\"fillmode\":\"overlay\",\"size\":10,\"solidity\":0.2}},\"type\":\"barpolar\"}],\"carpet\":[{\"aaxis\":{\"endlinecolor\":\"#2a3f5f\",\"gridcolor\":\"white\",\"linecolor\":\"white\",\"minorgridcolor\":\"white\",\"startlinecolor\":\"#2a3f5f\"},\"baxis\":{\"endlinecolor\":\"#2a3f5f\",\"gridcolor\":\"white\",\"linecolor\":\"white\",\"minorgridcolor\":\"white\",\"startlinecolor\":\"#2a3f5f\"},\"type\":\"carpet\"}],\"choropleth\":[{\"colorbar\":{\"outlinewidth\":0,\"ticks\":\"\"},\"type\":\"choropleth\"}],\"contour\":[{\"colorbar\":{\"outlinewidth\":0,\"ticks\":\"\"},\"colorscale\":[[0.0,\"#0d0887\"],[0.1111111111111111,\"#46039f\"],[0.2222222222222222,\"#7201a8\"],[0.3333333333333333,\"#9c179e\"],[0.4444444444444444,\"#bd3786\"],[0.5555555555555556,\"#d8576b\"],[0.6666666666666666,\"#ed7953\"],[0.7777777777777778,\"#fb9f3a\"],[0.8888888888888888,\"#fdca26\"],[1.0,\"#f0f921\"]],\"type\":\"contour\"}],\"contourcarpet\":[{\"colorbar\":{\"outlinewidth\":0,\"ticks\":\"\"},\"type\":\"contourcarpet\"}],\"heatmap\":[{\"colorbar\":{\"outlinewidth\":0,\"ticks\":\"\"},\"colorscale\":[[0.0,\"#0d0887\"],[0.1111111111111111,\"#46039f\"],[0.2222222222222222,\"#7201a8\"],[0.3333333333333333,\"#9c179e\"],[0.4444444444444444,\"#bd3786\"],[0.5555555555555556,\"#d8576b\"],[0.6666666666666666,\"#ed7953\"],[0.7777777777777778,\"#fb9f3a\"],[0.8888888888888888,\"#fdca26\"],[1.0,\"#f0f921\"]],\"type\":\"heatmap\"}],\"heatmapgl\":[{\"colorbar\":{\"outlinewidth\":0,\"ticks\":\"\"},\"colorscale\":[[0.0,\"#0d0887\"],[0.1111111111111111,\"#46039f\"],[0.2222222222222222,\"#7201a8\"],[0.3333333333333333,\"#9c179e\"],[0.4444444444444444,\"#bd3786\"],[0.5555555555555556,\"#d8576b\"],[0.6666666666666666,\"#ed7953\"],[0.7777777777777778,\"#fb9f3a\"],[0.8888888888888888,\"#fdca26\"],[1.0,\"#f0f921\"]],\"type\":\"heatmapgl\"}],\"histogram\":[{\"marker\":{\"pattern\":{\"fillmode\":\"overlay\",\"size\":10,\"solidity\":0.2}},\"type\":\"histogram\"}],\"histogram2d\":[{\"colorbar\":{\"outlinewidth\":0,\"ticks\":\"\"},\"colorscale\":[[0.0,\"#0d0887\"],[0.1111111111111111,\"#46039f\"],[0.2222222222222222,\"#7201a8\"],[0.3333333333333333,\"#9c179e\"],[0.4444444444444444,\"#bd3786\"],[0.5555555555555556,\"#d8576b\"],[0.6666666666666666,\"#ed7953\"],[0.7777777777777778,\"#fb9f3a\"],[0.8888888888888888,\"#fdca26\"],[1.0,\"#f0f921\"]],\"type\":\"histogram2d\"}],\"histogram2dcontour\":[{\"colorbar\":{\"outlinewidth\":0,\"ticks\":\"\"},\"colorscale\":[[0.0,\"#0d0887\"],[0.1111111111111111,\"#46039f\"],[0.2222222222222222,\"#7201a8\"],[0.3333333333333333,\"#9c179e\"],[0.4444444444444444,\"#bd3786\"],[0.5555555555555556,\"#d8576b\"],[0.6666666666666666,\"#ed7953\"],[0.7777777777777778,\"#fb9f3a\"],[0.8888888888888888,\"#fdca26\"],[1.0,\"#f0f921\"]],\"type\":\"histogram2dcontour\"}],\"mesh3d\":[{\"colorbar\":{\"outlinewidth\":0,\"ticks\":\"\"},\"type\":\"mesh3d\"}],\"parcoords\":[{\"line\":{\"colorbar\":{\"outlinewidth\":0,\"ticks\":\"\"}},\"type\":\"parcoords\"}],\"pie\":[{\"automargin\":true,\"type\":\"pie\"}],\"scatter\":[{\"marker\":{\"colorbar\":{\"outlinewidth\":0,\"ticks\":\"\"}},\"type\":\"scatter\"}],\"scatter3d\":[{\"line\":{\"colorbar\":{\"outlinewidth\":0,\"ticks\":\"\"}},\"marker\":{\"colorbar\":{\"outlinewidth\":0,\"ticks\":\"\"}},\"type\":\"scatter3d\"}],\"scattercarpet\":[{\"marker\":{\"colorbar\":{\"outlinewidth\":0,\"ticks\":\"\"}},\"type\":\"scattercarpet\"}],\"scattergeo\":[{\"marker\":{\"colorbar\":{\"outlinewidth\":0,\"ticks\":\"\"}},\"type\":\"scattergeo\"}],\"scattergl\":[{\"marker\":{\"colorbar\":{\"outlinewidth\":0,\"ticks\":\"\"}},\"type\":\"scattergl\"}],\"scattermapbox\":[{\"marker\":{\"colorbar\":{\"outlinewidth\":0,\"ticks\":\"\"}},\"type\":\"scattermapbox\"}],\"scatterpolar\":[{\"marker\":{\"colorbar\":{\"outlinewidth\":0,\"ticks\":\"\"}},\"type\":\"scatterpolar\"}],\"scatterpolargl\":[{\"marker\":{\"colorbar\":{\"outlinewidth\":0,\"ticks\":\"\"}},\"type\":\"scatterpolargl\"}],\"scatterternary\":[{\"marker\":{\"colorbar\":{\"outlinewidth\":0,\"ticks\":\"\"}},\"type\":\"scatterternary\"}],\"surface\":[{\"colorbar\":{\"outlinewidth\":0,\"ticks\":\"\"},\"colorscale\":[[0.0,\"#0d0887\"],[0.1111111111111111,\"#46039f\"],[0.2222222222222222,\"#7201a8\"],[0.3333333333333333,\"#9c179e\"],[0.4444444444444444,\"#bd3786\"],[0.5555555555555556,\"#d8576b\"],[0.6666666666666666,\"#ed7953\"],[0.7777777777777778,\"#fb9f3a\"],[0.8888888888888888,\"#fdca26\"],[1.0,\"#f0f921\"]],\"type\":\"surface\"}],\"table\":[{\"cells\":{\"fill\":{\"color\":\"#EBF0F8\"},\"line\":{\"color\":\"white\"}},\"header\":{\"fill\":{\"color\":\"#C8D4E3\"},\"line\":{\"color\":\"white\"}},\"type\":\"table\"}]},\"layout\":{\"annotationdefaults\":{\"arrowcolor\":\"#2a3f5f\",\"arrowhead\":0,\"arrowwidth\":1},\"autotypenumbers\":\"strict\",\"coloraxis\":{\"colorbar\":{\"outlinewidth\":0,\"ticks\":\"\"}},\"colorscale\":{\"diverging\":[[0,\"#8e0152\"],[0.1,\"#c51b7d\"],[0.2,\"#de77ae\"],[0.3,\"#f1b6da\"],[0.4,\"#fde0ef\"],[0.5,\"#f7f7f7\"],[0.6,\"#e6f5d0\"],[0.7,\"#b8e186\"],[0.8,\"#7fbc41\"],[0.9,\"#4d9221\"],[1,\"#276419\"]],\"sequential\":[[0.0,\"#0d0887\"],[0.1111111111111111,\"#46039f\"],[0.2222222222222222,\"#7201a8\"],[0.3333333333333333,\"#9c179e\"],[0.4444444444444444,\"#bd3786\"],[0.5555555555555556,\"#d8576b\"],[0.6666666666666666,\"#ed7953\"],[0.7777777777777778,\"#fb9f3a\"],[0.8888888888888888,\"#fdca26\"],[1.0,\"#f0f921\"]],\"sequentialminus\":[[0.0,\"#0d0887\"],[0.1111111111111111,\"#46039f\"],[0.2222222222222222,\"#7201a8\"],[0.3333333333333333,\"#9c179e\"],[0.4444444444444444,\"#bd3786\"],[0.5555555555555556,\"#d8576b\"],[0.6666666666666666,\"#ed7953\"],[0.7777777777777778,\"#fb9f3a\"],[0.8888888888888888,\"#fdca26\"],[1.0,\"#f0f921\"]]},\"colorway\":[\"#636efa\",\"#EF553B\",\"#00cc96\",\"#ab63fa\",\"#FFA15A\",\"#19d3f3\",\"#FF6692\",\"#B6E880\",\"#FF97FF\",\"#FECB52\"],\"font\":{\"color\":\"#2a3f5f\"},\"geo\":{\"bgcolor\":\"white\",\"lakecolor\":\"white\",\"landcolor\":\"#E5ECF6\",\"showlakes\":true,\"showland\":true,\"subunitcolor\":\"white\"},\"hoverlabel\":{\"align\":\"left\"},\"hovermode\":\"closest\",\"mapbox\":{\"style\":\"light\"},\"paper_bgcolor\":\"white\",\"plot_bgcolor\":\"#E5ECF6\",\"polar\":{\"angularaxis\":{\"gridcolor\":\"white\",\"linecolor\":\"white\",\"ticks\":\"\"},\"bgcolor\":\"#E5ECF6\",\"radialaxis\":{\"gridcolor\":\"white\",\"linecolor\":\"white\",\"ticks\":\"\"}},\"scene\":{\"xaxis\":{\"backgroundcolor\":\"#E5ECF6\",\"gridcolor\":\"white\",\"gridwidth\":2,\"linecolor\":\"white\",\"showbackground\":true,\"ticks\":\"\",\"zerolinecolor\":\"white\"},\"yaxis\":{\"backgroundcolor\":\"#E5ECF6\",\"gridcolor\":\"white\",\"gridwidth\":2,\"linecolor\":\"white\",\"showbackground\":true,\"ticks\":\"\",\"zerolinecolor\":\"white\"},\"zaxis\":{\"backgroundcolor\":\"#E5ECF6\",\"gridcolor\":\"white\",\"gridwidth\":2,\"linecolor\":\"white\",\"showbackground\":true,\"ticks\":\"\",\"zerolinecolor\":\"white\"}},\"shapedefaults\":{\"line\":{\"color\":\"#2a3f5f\"}},\"ternary\":{\"aaxis\":{\"gridcolor\":\"white\",\"linecolor\":\"white\",\"ticks\":\"\"},\"baxis\":{\"gridcolor\":\"white\",\"linecolor\":\"white\",\"ticks\":\"\"},\"bgcolor\":\"#E5ECF6\",\"caxis\":{\"gridcolor\":\"white\",\"linecolor\":\"white\",\"ticks\":\"\"}},\"title\":{\"x\":0.05},\"xaxis\":{\"automargin\":true,\"gridcolor\":\"white\",\"linecolor\":\"white\",\"ticks\":\"\",\"title\":{\"standoff\":15},\"zerolinecolor\":\"white\",\"zerolinewidth\":2},\"yaxis\":{\"automargin\":true,\"gridcolor\":\"white\",\"linecolor\":\"white\",\"ticks\":\"\",\"title\":{\"standoff\":15},\"zerolinecolor\":\"white\",\"zerolinewidth\":2}}},\"title\":{\"text\":\"Lucros por se\\u00e7\\u00e3o\"},\"xaxis\":{\"anchor\":\"y\",\"categoryarray\":[\"A\\u00e7ougue\",\"Padaria\",\"Alimentos em Geral\",\"Produtos de Limpeza\"],\"categoryorder\":\"array\",\"domain\":[0.0,1.0],\"title\":{\"text\":\"Se\\u00e7\\u00e3o\"}},\"yaxis\":{\"anchor\":\"x\",\"domain\":[0.0,1.0],\"title\":{\"text\":\"Lucro\"}}},                        {\"responsive\": true}                    ).then(function(){\n",
       "                            \n",
       "var gd = document.getElementById('06b0f0b0-836f-4b47-9c90-71ec7ff144fa');\n",
       "var x = new MutationObserver(function (mutations, observer) {{\n",
       "        var display = window.getComputedStyle(gd).display;\n",
       "        if (!display || display === 'none') {{\n",
       "            console.log([gd, 'removed!']);\n",
       "            Plotly.purge(gd);\n",
       "            observer.disconnect();\n",
       "        }}\n",
       "}});\n",
       "\n",
       "// Listen for the removal of the full notebook cells\n",
       "var notebookContainer = gd.closest('#notebook-container');\n",
       "if (notebookContainer) {{\n",
       "    x.observe(notebookContainer, {childList: true});\n",
       "}}\n",
       "\n",
       "// Listen for the clearing of the current output cell\n",
       "var outputEl = gd.closest('.output');\n",
       "if (outputEl) {{\n",
       "    x.observe(outputEl, {childList: true});\n",
       "}}\n",
       "\n",
       "                        })                };                });            </script>        </div>"
      ]
     },
     "metadata": {},
     "output_type": "display_data"
    }
   ],
   "source": [
    "lucro_secao=venda_produtos_cliente.groupby(\"secao\").sum().sort_values('lucro', ascending=False ).reset_index()\n",
    "\n",
    "fig2 = px.bar(lucro_secao, x=\"secao\", y=\"lucro\", color = \"secao\", barmode = 'stack',\n",
    "             labels={\"lucro\":\"Lucro\", \"secao\":\"Seção\"}, color_discrete_map={'Açougue': '#00CC96', \n",
    "                                                   'Padaria': '#00CC96', 'Produtos de Limpeza': '#00CC96', 'Alimentos em Geral': '#00CC96'})\n",
    "fig2.update_layout(title = 'Lucros por seção', showlegend=False)\n",
    "fig2.show()"
   ]
  },
  {
   "cell_type": "code",
   "execution_count": 27,
   "id": "2cc1f63c",
   "metadata": {},
   "outputs": [
    {
     "data": {
      "application/vnd.plotly.v1+json": {
       "config": {
        "plotlyServerURL": "https://plot.ly"
       },
       "data": [
        {
         "name": "",
         "type": "bar",
         "x": [
          "berinjela",
          "feijão",
          "abobrinha",
          "batata",
          "morango",
          "uva",
          "arroz",
          "macarrão",
          "alface",
          "melancia",
          "banana",
          "couve-flor"
         ],
         "xaxis": "x",
         "y": [
          206,
          193,
          191,
          189,
          189,
          189,
          183,
          176,
          175,
          171,
          169,
          121
         ],
         "yaxis": "y"
        },
        {
         "name": "",
         "type": "bar",
         "x": [
          "bisteca suína",
          "picanha",
          "maminha",
          "costela",
          "paleta suína",
          "alcatra",
          "peito de frango",
          "carré de cordeiro"
         ],
         "xaxis": "x2",
         "y": [
          219,
          197,
          191,
          175,
          173,
          160,
          155,
          141
         ],
         "yaxis": "y2"
        },
        {
         "name": "",
         "type": "bar",
         "x": [
          "sonho",
          "pão francês",
          "pastel",
          "bolo",
          "sanduíche",
          "pão de forma",
          "pão de queijo",
          "torta"
         ],
         "xaxis": "x3",
         "y": [
          184,
          171,
          169,
          164,
          163,
          155,
          125,
          125
         ],
         "yaxis": "y3"
        },
        {
         "name": "",
         "type": "bar",
         "x": [
          "sabonete",
          "água sanitária",
          "detergente",
          "flanela",
          "odorizador",
          "amaciante",
          "sabão em pó",
          "rodo"
         ],
         "xaxis": "x4",
         "y": [
          205,
          199,
          197,
          183,
          173,
          169,
          168,
          164
         ],
         "yaxis": "y4"
        }
       ],
       "layout": {
        "annotations": [
         {
          "font": {
           "size": 16
          },
          "showarrow": false,
          "text": "Quantidades vendidas em alimentos em geral",
          "x": 0.225,
          "xanchor": "center",
          "xref": "paper",
          "y": 1,
          "yanchor": "bottom",
          "yref": "paper"
         },
         {
          "font": {
           "size": 16
          },
          "showarrow": false,
          "text": "Quantidades vendidas no açougue",
          "x": 0.775,
          "xanchor": "center",
          "xref": "paper",
          "y": 1,
          "yanchor": "bottom",
          "yref": "paper"
         },
         {
          "font": {
           "size": 16
          },
          "showarrow": false,
          "text": "Quantidades vendidas na padaria",
          "x": 0.225,
          "xanchor": "center",
          "xref": "paper",
          "y": 0.375,
          "yanchor": "bottom",
          "yref": "paper"
         },
         {
          "font": {
           "size": 16
          },
          "showarrow": false,
          "text": "Quantidades vendidas em produtos de limpeza",
          "x": 0.775,
          "xanchor": "center",
          "xref": "paper",
          "y": 0.375,
          "yanchor": "bottom",
          "yref": "paper"
         }
        ],
        "height": 650,
        "showlegend": false,
        "template": {
         "data": {
          "bar": [
           {
            "error_x": {
             "color": "#2a3f5f"
            },
            "error_y": {
             "color": "#2a3f5f"
            },
            "marker": {
             "line": {
              "color": "#E5ECF6",
              "width": 0.5
             },
             "pattern": {
              "fillmode": "overlay",
              "size": 10,
              "solidity": 0.2
             }
            },
            "type": "bar"
           }
          ],
          "barpolar": [
           {
            "marker": {
             "line": {
              "color": "#E5ECF6",
              "width": 0.5
             },
             "pattern": {
              "fillmode": "overlay",
              "size": 10,
              "solidity": 0.2
             }
            },
            "type": "barpolar"
           }
          ],
          "carpet": [
           {
            "aaxis": {
             "endlinecolor": "#2a3f5f",
             "gridcolor": "white",
             "linecolor": "white",
             "minorgridcolor": "white",
             "startlinecolor": "#2a3f5f"
            },
            "baxis": {
             "endlinecolor": "#2a3f5f",
             "gridcolor": "white",
             "linecolor": "white",
             "minorgridcolor": "white",
             "startlinecolor": "#2a3f5f"
            },
            "type": "carpet"
           }
          ],
          "choropleth": [
           {
            "colorbar": {
             "outlinewidth": 0,
             "ticks": ""
            },
            "type": "choropleth"
           }
          ],
          "contour": [
           {
            "colorbar": {
             "outlinewidth": 0,
             "ticks": ""
            },
            "colorscale": [
             [
              0,
              "#0d0887"
             ],
             [
              0.1111111111111111,
              "#46039f"
             ],
             [
              0.2222222222222222,
              "#7201a8"
             ],
             [
              0.3333333333333333,
              "#9c179e"
             ],
             [
              0.4444444444444444,
              "#bd3786"
             ],
             [
              0.5555555555555556,
              "#d8576b"
             ],
             [
              0.6666666666666666,
              "#ed7953"
             ],
             [
              0.7777777777777778,
              "#fb9f3a"
             ],
             [
              0.8888888888888888,
              "#fdca26"
             ],
             [
              1,
              "#f0f921"
             ]
            ],
            "type": "contour"
           }
          ],
          "contourcarpet": [
           {
            "colorbar": {
             "outlinewidth": 0,
             "ticks": ""
            },
            "type": "contourcarpet"
           }
          ],
          "heatmap": [
           {
            "colorbar": {
             "outlinewidth": 0,
             "ticks": ""
            },
            "colorscale": [
             [
              0,
              "#0d0887"
             ],
             [
              0.1111111111111111,
              "#46039f"
             ],
             [
              0.2222222222222222,
              "#7201a8"
             ],
             [
              0.3333333333333333,
              "#9c179e"
             ],
             [
              0.4444444444444444,
              "#bd3786"
             ],
             [
              0.5555555555555556,
              "#d8576b"
             ],
             [
              0.6666666666666666,
              "#ed7953"
             ],
             [
              0.7777777777777778,
              "#fb9f3a"
             ],
             [
              0.8888888888888888,
              "#fdca26"
             ],
             [
              1,
              "#f0f921"
             ]
            ],
            "type": "heatmap"
           }
          ],
          "heatmapgl": [
           {
            "colorbar": {
             "outlinewidth": 0,
             "ticks": ""
            },
            "colorscale": [
             [
              0,
              "#0d0887"
             ],
             [
              0.1111111111111111,
              "#46039f"
             ],
             [
              0.2222222222222222,
              "#7201a8"
             ],
             [
              0.3333333333333333,
              "#9c179e"
             ],
             [
              0.4444444444444444,
              "#bd3786"
             ],
             [
              0.5555555555555556,
              "#d8576b"
             ],
             [
              0.6666666666666666,
              "#ed7953"
             ],
             [
              0.7777777777777778,
              "#fb9f3a"
             ],
             [
              0.8888888888888888,
              "#fdca26"
             ],
             [
              1,
              "#f0f921"
             ]
            ],
            "type": "heatmapgl"
           }
          ],
          "histogram": [
           {
            "marker": {
             "pattern": {
              "fillmode": "overlay",
              "size": 10,
              "solidity": 0.2
             }
            },
            "type": "histogram"
           }
          ],
          "histogram2d": [
           {
            "colorbar": {
             "outlinewidth": 0,
             "ticks": ""
            },
            "colorscale": [
             [
              0,
              "#0d0887"
             ],
             [
              0.1111111111111111,
              "#46039f"
             ],
             [
              0.2222222222222222,
              "#7201a8"
             ],
             [
              0.3333333333333333,
              "#9c179e"
             ],
             [
              0.4444444444444444,
              "#bd3786"
             ],
             [
              0.5555555555555556,
              "#d8576b"
             ],
             [
              0.6666666666666666,
              "#ed7953"
             ],
             [
              0.7777777777777778,
              "#fb9f3a"
             ],
             [
              0.8888888888888888,
              "#fdca26"
             ],
             [
              1,
              "#f0f921"
             ]
            ],
            "type": "histogram2d"
           }
          ],
          "histogram2dcontour": [
           {
            "colorbar": {
             "outlinewidth": 0,
             "ticks": ""
            },
            "colorscale": [
             [
              0,
              "#0d0887"
             ],
             [
              0.1111111111111111,
              "#46039f"
             ],
             [
              0.2222222222222222,
              "#7201a8"
             ],
             [
              0.3333333333333333,
              "#9c179e"
             ],
             [
              0.4444444444444444,
              "#bd3786"
             ],
             [
              0.5555555555555556,
              "#d8576b"
             ],
             [
              0.6666666666666666,
              "#ed7953"
             ],
             [
              0.7777777777777778,
              "#fb9f3a"
             ],
             [
              0.8888888888888888,
              "#fdca26"
             ],
             [
              1,
              "#f0f921"
             ]
            ],
            "type": "histogram2dcontour"
           }
          ],
          "mesh3d": [
           {
            "colorbar": {
             "outlinewidth": 0,
             "ticks": ""
            },
            "type": "mesh3d"
           }
          ],
          "parcoords": [
           {
            "line": {
             "colorbar": {
              "outlinewidth": 0,
              "ticks": ""
             }
            },
            "type": "parcoords"
           }
          ],
          "pie": [
           {
            "automargin": true,
            "type": "pie"
           }
          ],
          "scatter": [
           {
            "marker": {
             "colorbar": {
              "outlinewidth": 0,
              "ticks": ""
             }
            },
            "type": "scatter"
           }
          ],
          "scatter3d": [
           {
            "line": {
             "colorbar": {
              "outlinewidth": 0,
              "ticks": ""
             }
            },
            "marker": {
             "colorbar": {
              "outlinewidth": 0,
              "ticks": ""
             }
            },
            "type": "scatter3d"
           }
          ],
          "scattercarpet": [
           {
            "marker": {
             "colorbar": {
              "outlinewidth": 0,
              "ticks": ""
             }
            },
            "type": "scattercarpet"
           }
          ],
          "scattergeo": [
           {
            "marker": {
             "colorbar": {
              "outlinewidth": 0,
              "ticks": ""
             }
            },
            "type": "scattergeo"
           }
          ],
          "scattergl": [
           {
            "marker": {
             "colorbar": {
              "outlinewidth": 0,
              "ticks": ""
             }
            },
            "type": "scattergl"
           }
          ],
          "scattermapbox": [
           {
            "marker": {
             "colorbar": {
              "outlinewidth": 0,
              "ticks": ""
             }
            },
            "type": "scattermapbox"
           }
          ],
          "scatterpolar": [
           {
            "marker": {
             "colorbar": {
              "outlinewidth": 0,
              "ticks": ""
             }
            },
            "type": "scatterpolar"
           }
          ],
          "scatterpolargl": [
           {
            "marker": {
             "colorbar": {
              "outlinewidth": 0,
              "ticks": ""
             }
            },
            "type": "scatterpolargl"
           }
          ],
          "scatterternary": [
           {
            "marker": {
             "colorbar": {
              "outlinewidth": 0,
              "ticks": ""
             }
            },
            "type": "scatterternary"
           }
          ],
          "surface": [
           {
            "colorbar": {
             "outlinewidth": 0,
             "ticks": ""
            },
            "colorscale": [
             [
              0,
              "#0d0887"
             ],
             [
              0.1111111111111111,
              "#46039f"
             ],
             [
              0.2222222222222222,
              "#7201a8"
             ],
             [
              0.3333333333333333,
              "#9c179e"
             ],
             [
              0.4444444444444444,
              "#bd3786"
             ],
             [
              0.5555555555555556,
              "#d8576b"
             ],
             [
              0.6666666666666666,
              "#ed7953"
             ],
             [
              0.7777777777777778,
              "#fb9f3a"
             ],
             [
              0.8888888888888888,
              "#fdca26"
             ],
             [
              1,
              "#f0f921"
             ]
            ],
            "type": "surface"
           }
          ],
          "table": [
           {
            "cells": {
             "fill": {
              "color": "#EBF0F8"
             },
             "line": {
              "color": "white"
             }
            },
            "header": {
             "fill": {
              "color": "#C8D4E3"
             },
             "line": {
              "color": "white"
             }
            },
            "type": "table"
           }
          ]
         },
         "layout": {
          "annotationdefaults": {
           "arrowcolor": "#2a3f5f",
           "arrowhead": 0,
           "arrowwidth": 1
          },
          "autotypenumbers": "strict",
          "coloraxis": {
           "colorbar": {
            "outlinewidth": 0,
            "ticks": ""
           }
          },
          "colorscale": {
           "diverging": [
            [
             0,
             "#8e0152"
            ],
            [
             0.1,
             "#c51b7d"
            ],
            [
             0.2,
             "#de77ae"
            ],
            [
             0.3,
             "#f1b6da"
            ],
            [
             0.4,
             "#fde0ef"
            ],
            [
             0.5,
             "#f7f7f7"
            ],
            [
             0.6,
             "#e6f5d0"
            ],
            [
             0.7,
             "#b8e186"
            ],
            [
             0.8,
             "#7fbc41"
            ],
            [
             0.9,
             "#4d9221"
            ],
            [
             1,
             "#276419"
            ]
           ],
           "sequential": [
            [
             0,
             "#0d0887"
            ],
            [
             0.1111111111111111,
             "#46039f"
            ],
            [
             0.2222222222222222,
             "#7201a8"
            ],
            [
             0.3333333333333333,
             "#9c179e"
            ],
            [
             0.4444444444444444,
             "#bd3786"
            ],
            [
             0.5555555555555556,
             "#d8576b"
            ],
            [
             0.6666666666666666,
             "#ed7953"
            ],
            [
             0.7777777777777778,
             "#fb9f3a"
            ],
            [
             0.8888888888888888,
             "#fdca26"
            ],
            [
             1,
             "#f0f921"
            ]
           ],
           "sequentialminus": [
            [
             0,
             "#0d0887"
            ],
            [
             0.1111111111111111,
             "#46039f"
            ],
            [
             0.2222222222222222,
             "#7201a8"
            ],
            [
             0.3333333333333333,
             "#9c179e"
            ],
            [
             0.4444444444444444,
             "#bd3786"
            ],
            [
             0.5555555555555556,
             "#d8576b"
            ],
            [
             0.6666666666666666,
             "#ed7953"
            ],
            [
             0.7777777777777778,
             "#fb9f3a"
            ],
            [
             0.8888888888888888,
             "#fdca26"
            ],
            [
             1,
             "#f0f921"
            ]
           ]
          },
          "colorway": [
           "#636efa",
           "#EF553B",
           "#00cc96",
           "#ab63fa",
           "#FFA15A",
           "#19d3f3",
           "#FF6692",
           "#B6E880",
           "#FF97FF",
           "#FECB52"
          ],
          "font": {
           "color": "#2a3f5f"
          },
          "geo": {
           "bgcolor": "white",
           "lakecolor": "white",
           "landcolor": "#E5ECF6",
           "showlakes": true,
           "showland": true,
           "subunitcolor": "white"
          },
          "hoverlabel": {
           "align": "left"
          },
          "hovermode": "closest",
          "mapbox": {
           "style": "light"
          },
          "paper_bgcolor": "white",
          "plot_bgcolor": "#E5ECF6",
          "polar": {
           "angularaxis": {
            "gridcolor": "white",
            "linecolor": "white",
            "ticks": ""
           },
           "bgcolor": "#E5ECF6",
           "radialaxis": {
            "gridcolor": "white",
            "linecolor": "white",
            "ticks": ""
           }
          },
          "scene": {
           "xaxis": {
            "backgroundcolor": "#E5ECF6",
            "gridcolor": "white",
            "gridwidth": 2,
            "linecolor": "white",
            "showbackground": true,
            "ticks": "",
            "zerolinecolor": "white"
           },
           "yaxis": {
            "backgroundcolor": "#E5ECF6",
            "gridcolor": "white",
            "gridwidth": 2,
            "linecolor": "white",
            "showbackground": true,
            "ticks": "",
            "zerolinecolor": "white"
           },
           "zaxis": {
            "backgroundcolor": "#E5ECF6",
            "gridcolor": "white",
            "gridwidth": 2,
            "linecolor": "white",
            "showbackground": true,
            "ticks": "",
            "zerolinecolor": "white"
           }
          },
          "shapedefaults": {
           "line": {
            "color": "#2a3f5f"
           }
          },
          "ternary": {
           "aaxis": {
            "gridcolor": "white",
            "linecolor": "white",
            "ticks": ""
           },
           "baxis": {
            "gridcolor": "white",
            "linecolor": "white",
            "ticks": ""
           },
           "bgcolor": "#E5ECF6",
           "caxis": {
            "gridcolor": "white",
            "linecolor": "white",
            "ticks": ""
           }
          },
          "title": {
           "x": 0.05
          },
          "xaxis": {
           "automargin": true,
           "gridcolor": "white",
           "linecolor": "white",
           "ticks": "",
           "title": {
            "standoff": 15
           },
           "zerolinecolor": "white",
           "zerolinewidth": 2
          },
          "yaxis": {
           "automargin": true,
           "gridcolor": "white",
           "linecolor": "white",
           "ticks": "",
           "title": {
            "standoff": 15
           },
           "zerolinecolor": "white",
           "zerolinewidth": 2
          }
         }
        },
        "title": {
         "text": "Produtos mais vendidos"
        },
        "width": 800,
        "xaxis": {
         "anchor": "y",
         "domain": [
          0,
          0.45
         ],
         "tickangle": 45
        },
        "xaxis2": {
         "anchor": "y2",
         "domain": [
          0.55,
          1
         ],
         "tickangle": 45
        },
        "xaxis3": {
         "anchor": "y3",
         "domain": [
          0,
          0.45
         ],
         "tickangle": 45
        },
        "xaxis4": {
         "anchor": "y4",
         "domain": [
          0.55,
          1
         ],
         "tickangle": 45
        },
        "yaxis": {
         "anchor": "x",
         "domain": [
          0.625,
          1
         ]
        },
        "yaxis2": {
         "anchor": "x2",
         "domain": [
          0.625,
          1
         ],
         "matches": "y",
         "showticklabels": false
        },
        "yaxis3": {
         "anchor": "x3",
         "domain": [
          0,
          0.375
         ]
        },
        "yaxis4": {
         "anchor": "x4",
         "domain": [
          0,
          0.375
         ],
         "matches": "y3",
         "showticklabels": false
        }
       }
      },
      "text/html": [
       "<div>                            <div id=\"b7091d20-1377-4e97-af1f-3035c81c080d\" class=\"plotly-graph-div\" style=\"height:650px; width:800px;\"></div>            <script type=\"text/javascript\">                require([\"plotly\"], function(Plotly) {                    window.PLOTLYENV=window.PLOTLYENV || {};                                    if (document.getElementById(\"b7091d20-1377-4e97-af1f-3035c81c080d\")) {                    Plotly.newPlot(                        \"b7091d20-1377-4e97-af1f-3035c81c080d\",                        [{\"name\":\"\",\"type\":\"bar\",\"x\":[\"berinjela\",\"feij\\u00e3o\",\"abobrinha\",\"batata\",\"morango\",\"uva\",\"arroz\",\"macarr\\u00e3o\",\"alface\",\"melancia\",\"banana\",\"couve-flor\"],\"xaxis\":\"x\",\"y\":[206,193,191,189,189,189,183,176,175,171,169,121],\"yaxis\":\"y\"},{\"name\":\"\",\"type\":\"bar\",\"x\":[\"bisteca su\\u00edna\",\"picanha\",\"maminha\",\"costela\",\"paleta su\\u00edna\",\"alcatra\",\"peito de frango\",\"carr\\u00e9 de cordeiro\"],\"xaxis\":\"x2\",\"y\":[219,197,191,175,173,160,155,141],\"yaxis\":\"y2\"},{\"name\":\"\",\"type\":\"bar\",\"x\":[\"sonho\",\"p\\u00e3o franc\\u00eas\",\"pastel\",\"bolo\",\"sandu\\u00edche\",\"p\\u00e3o de forma\",\"p\\u00e3o de queijo\",\"torta\"],\"xaxis\":\"x3\",\"y\":[184,171,169,164,163,155,125,125],\"yaxis\":\"y3\"},{\"name\":\"\",\"type\":\"bar\",\"x\":[\"sabonete\",\"\\u00e1gua sanit\\u00e1ria\",\"detergente\",\"flanela\",\"odorizador\",\"amaciante\",\"sab\\u00e3o em p\\u00f3\",\"rodo\"],\"xaxis\":\"x4\",\"y\":[205,199,197,183,173,169,168,164],\"yaxis\":\"y4\"}],                        {\"annotations\":[{\"font\":{\"size\":16},\"showarrow\":false,\"text\":\"Quantidades vendidas em alimentos em geral\",\"x\":0.225,\"xanchor\":\"center\",\"xref\":\"paper\",\"y\":1.0,\"yanchor\":\"bottom\",\"yref\":\"paper\"},{\"font\":{\"size\":16},\"showarrow\":false,\"text\":\"Quantidades vendidas no a\\u00e7ougue\",\"x\":0.775,\"xanchor\":\"center\",\"xref\":\"paper\",\"y\":1.0,\"yanchor\":\"bottom\",\"yref\":\"paper\"},{\"font\":{\"size\":16},\"showarrow\":false,\"text\":\"Quantidades vendidas na padaria\",\"x\":0.225,\"xanchor\":\"center\",\"xref\":\"paper\",\"y\":0.375,\"yanchor\":\"bottom\",\"yref\":\"paper\"},{\"font\":{\"size\":16},\"showarrow\":false,\"text\":\"Quantidades vendidas em produtos de limpeza\",\"x\":0.775,\"xanchor\":\"center\",\"xref\":\"paper\",\"y\":0.375,\"yanchor\":\"bottom\",\"yref\":\"paper\"}],\"height\":650,\"showlegend\":false,\"template\":{\"data\":{\"bar\":[{\"error_x\":{\"color\":\"#2a3f5f\"},\"error_y\":{\"color\":\"#2a3f5f\"},\"marker\":{\"line\":{\"color\":\"#E5ECF6\",\"width\":0.5},\"pattern\":{\"fillmode\":\"overlay\",\"size\":10,\"solidity\":0.2}},\"type\":\"bar\"}],\"barpolar\":[{\"marker\":{\"line\":{\"color\":\"#E5ECF6\",\"width\":0.5},\"pattern\":{\"fillmode\":\"overlay\",\"size\":10,\"solidity\":0.2}},\"type\":\"barpolar\"}],\"carpet\":[{\"aaxis\":{\"endlinecolor\":\"#2a3f5f\",\"gridcolor\":\"white\",\"linecolor\":\"white\",\"minorgridcolor\":\"white\",\"startlinecolor\":\"#2a3f5f\"},\"baxis\":{\"endlinecolor\":\"#2a3f5f\",\"gridcolor\":\"white\",\"linecolor\":\"white\",\"minorgridcolor\":\"white\",\"startlinecolor\":\"#2a3f5f\"},\"type\":\"carpet\"}],\"choropleth\":[{\"colorbar\":{\"outlinewidth\":0,\"ticks\":\"\"},\"type\":\"choropleth\"}],\"contour\":[{\"colorbar\":{\"outlinewidth\":0,\"ticks\":\"\"},\"colorscale\":[[0.0,\"#0d0887\"],[0.1111111111111111,\"#46039f\"],[0.2222222222222222,\"#7201a8\"],[0.3333333333333333,\"#9c179e\"],[0.4444444444444444,\"#bd3786\"],[0.5555555555555556,\"#d8576b\"],[0.6666666666666666,\"#ed7953\"],[0.7777777777777778,\"#fb9f3a\"],[0.8888888888888888,\"#fdca26\"],[1.0,\"#f0f921\"]],\"type\":\"contour\"}],\"contourcarpet\":[{\"colorbar\":{\"outlinewidth\":0,\"ticks\":\"\"},\"type\":\"contourcarpet\"}],\"heatmap\":[{\"colorbar\":{\"outlinewidth\":0,\"ticks\":\"\"},\"colorscale\":[[0.0,\"#0d0887\"],[0.1111111111111111,\"#46039f\"],[0.2222222222222222,\"#7201a8\"],[0.3333333333333333,\"#9c179e\"],[0.4444444444444444,\"#bd3786\"],[0.5555555555555556,\"#d8576b\"],[0.6666666666666666,\"#ed7953\"],[0.7777777777777778,\"#fb9f3a\"],[0.8888888888888888,\"#fdca26\"],[1.0,\"#f0f921\"]],\"type\":\"heatmap\"}],\"heatmapgl\":[{\"colorbar\":{\"outlinewidth\":0,\"ticks\":\"\"},\"colorscale\":[[0.0,\"#0d0887\"],[0.1111111111111111,\"#46039f\"],[0.2222222222222222,\"#7201a8\"],[0.3333333333333333,\"#9c179e\"],[0.4444444444444444,\"#bd3786\"],[0.5555555555555556,\"#d8576b\"],[0.6666666666666666,\"#ed7953\"],[0.7777777777777778,\"#fb9f3a\"],[0.8888888888888888,\"#fdca26\"],[1.0,\"#f0f921\"]],\"type\":\"heatmapgl\"}],\"histogram\":[{\"marker\":{\"pattern\":{\"fillmode\":\"overlay\",\"size\":10,\"solidity\":0.2}},\"type\":\"histogram\"}],\"histogram2d\":[{\"colorbar\":{\"outlinewidth\":0,\"ticks\":\"\"},\"colorscale\":[[0.0,\"#0d0887\"],[0.1111111111111111,\"#46039f\"],[0.2222222222222222,\"#7201a8\"],[0.3333333333333333,\"#9c179e\"],[0.4444444444444444,\"#bd3786\"],[0.5555555555555556,\"#d8576b\"],[0.6666666666666666,\"#ed7953\"],[0.7777777777777778,\"#fb9f3a\"],[0.8888888888888888,\"#fdca26\"],[1.0,\"#f0f921\"]],\"type\":\"histogram2d\"}],\"histogram2dcontour\":[{\"colorbar\":{\"outlinewidth\":0,\"ticks\":\"\"},\"colorscale\":[[0.0,\"#0d0887\"],[0.1111111111111111,\"#46039f\"],[0.2222222222222222,\"#7201a8\"],[0.3333333333333333,\"#9c179e\"],[0.4444444444444444,\"#bd3786\"],[0.5555555555555556,\"#d8576b\"],[0.6666666666666666,\"#ed7953\"],[0.7777777777777778,\"#fb9f3a\"],[0.8888888888888888,\"#fdca26\"],[1.0,\"#f0f921\"]],\"type\":\"histogram2dcontour\"}],\"mesh3d\":[{\"colorbar\":{\"outlinewidth\":0,\"ticks\":\"\"},\"type\":\"mesh3d\"}],\"parcoords\":[{\"line\":{\"colorbar\":{\"outlinewidth\":0,\"ticks\":\"\"}},\"type\":\"parcoords\"}],\"pie\":[{\"automargin\":true,\"type\":\"pie\"}],\"scatter\":[{\"marker\":{\"colorbar\":{\"outlinewidth\":0,\"ticks\":\"\"}},\"type\":\"scatter\"}],\"scatter3d\":[{\"line\":{\"colorbar\":{\"outlinewidth\":0,\"ticks\":\"\"}},\"marker\":{\"colorbar\":{\"outlinewidth\":0,\"ticks\":\"\"}},\"type\":\"scatter3d\"}],\"scattercarpet\":[{\"marker\":{\"colorbar\":{\"outlinewidth\":0,\"ticks\":\"\"}},\"type\":\"scattercarpet\"}],\"scattergeo\":[{\"marker\":{\"colorbar\":{\"outlinewidth\":0,\"ticks\":\"\"}},\"type\":\"scattergeo\"}],\"scattergl\":[{\"marker\":{\"colorbar\":{\"outlinewidth\":0,\"ticks\":\"\"}},\"type\":\"scattergl\"}],\"scattermapbox\":[{\"marker\":{\"colorbar\":{\"outlinewidth\":0,\"ticks\":\"\"}},\"type\":\"scattermapbox\"}],\"scatterpolar\":[{\"marker\":{\"colorbar\":{\"outlinewidth\":0,\"ticks\":\"\"}},\"type\":\"scatterpolar\"}],\"scatterpolargl\":[{\"marker\":{\"colorbar\":{\"outlinewidth\":0,\"ticks\":\"\"}},\"type\":\"scatterpolargl\"}],\"scatterternary\":[{\"marker\":{\"colorbar\":{\"outlinewidth\":0,\"ticks\":\"\"}},\"type\":\"scatterternary\"}],\"surface\":[{\"colorbar\":{\"outlinewidth\":0,\"ticks\":\"\"},\"colorscale\":[[0.0,\"#0d0887\"],[0.1111111111111111,\"#46039f\"],[0.2222222222222222,\"#7201a8\"],[0.3333333333333333,\"#9c179e\"],[0.4444444444444444,\"#bd3786\"],[0.5555555555555556,\"#d8576b\"],[0.6666666666666666,\"#ed7953\"],[0.7777777777777778,\"#fb9f3a\"],[0.8888888888888888,\"#fdca26\"],[1.0,\"#f0f921\"]],\"type\":\"surface\"}],\"table\":[{\"cells\":{\"fill\":{\"color\":\"#EBF0F8\"},\"line\":{\"color\":\"white\"}},\"header\":{\"fill\":{\"color\":\"#C8D4E3\"},\"line\":{\"color\":\"white\"}},\"type\":\"table\"}]},\"layout\":{\"annotationdefaults\":{\"arrowcolor\":\"#2a3f5f\",\"arrowhead\":0,\"arrowwidth\":1},\"autotypenumbers\":\"strict\",\"coloraxis\":{\"colorbar\":{\"outlinewidth\":0,\"ticks\":\"\"}},\"colorscale\":{\"diverging\":[[0,\"#8e0152\"],[0.1,\"#c51b7d\"],[0.2,\"#de77ae\"],[0.3,\"#f1b6da\"],[0.4,\"#fde0ef\"],[0.5,\"#f7f7f7\"],[0.6,\"#e6f5d0\"],[0.7,\"#b8e186\"],[0.8,\"#7fbc41\"],[0.9,\"#4d9221\"],[1,\"#276419\"]],\"sequential\":[[0.0,\"#0d0887\"],[0.1111111111111111,\"#46039f\"],[0.2222222222222222,\"#7201a8\"],[0.3333333333333333,\"#9c179e\"],[0.4444444444444444,\"#bd3786\"],[0.5555555555555556,\"#d8576b\"],[0.6666666666666666,\"#ed7953\"],[0.7777777777777778,\"#fb9f3a\"],[0.8888888888888888,\"#fdca26\"],[1.0,\"#f0f921\"]],\"sequentialminus\":[[0.0,\"#0d0887\"],[0.1111111111111111,\"#46039f\"],[0.2222222222222222,\"#7201a8\"],[0.3333333333333333,\"#9c179e\"],[0.4444444444444444,\"#bd3786\"],[0.5555555555555556,\"#d8576b\"],[0.6666666666666666,\"#ed7953\"],[0.7777777777777778,\"#fb9f3a\"],[0.8888888888888888,\"#fdca26\"],[1.0,\"#f0f921\"]]},\"colorway\":[\"#636efa\",\"#EF553B\",\"#00cc96\",\"#ab63fa\",\"#FFA15A\",\"#19d3f3\",\"#FF6692\",\"#B6E880\",\"#FF97FF\",\"#FECB52\"],\"font\":{\"color\":\"#2a3f5f\"},\"geo\":{\"bgcolor\":\"white\",\"lakecolor\":\"white\",\"landcolor\":\"#E5ECF6\",\"showlakes\":true,\"showland\":true,\"subunitcolor\":\"white\"},\"hoverlabel\":{\"align\":\"left\"},\"hovermode\":\"closest\",\"mapbox\":{\"style\":\"light\"},\"paper_bgcolor\":\"white\",\"plot_bgcolor\":\"#E5ECF6\",\"polar\":{\"angularaxis\":{\"gridcolor\":\"white\",\"linecolor\":\"white\",\"ticks\":\"\"},\"bgcolor\":\"#E5ECF6\",\"radialaxis\":{\"gridcolor\":\"white\",\"linecolor\":\"white\",\"ticks\":\"\"}},\"scene\":{\"xaxis\":{\"backgroundcolor\":\"#E5ECF6\",\"gridcolor\":\"white\",\"gridwidth\":2,\"linecolor\":\"white\",\"showbackground\":true,\"ticks\":\"\",\"zerolinecolor\":\"white\"},\"yaxis\":{\"backgroundcolor\":\"#E5ECF6\",\"gridcolor\":\"white\",\"gridwidth\":2,\"linecolor\":\"white\",\"showbackground\":true,\"ticks\":\"\",\"zerolinecolor\":\"white\"},\"zaxis\":{\"backgroundcolor\":\"#E5ECF6\",\"gridcolor\":\"white\",\"gridwidth\":2,\"linecolor\":\"white\",\"showbackground\":true,\"ticks\":\"\",\"zerolinecolor\":\"white\"}},\"shapedefaults\":{\"line\":{\"color\":\"#2a3f5f\"}},\"ternary\":{\"aaxis\":{\"gridcolor\":\"white\",\"linecolor\":\"white\",\"ticks\":\"\"},\"baxis\":{\"gridcolor\":\"white\",\"linecolor\":\"white\",\"ticks\":\"\"},\"bgcolor\":\"#E5ECF6\",\"caxis\":{\"gridcolor\":\"white\",\"linecolor\":\"white\",\"ticks\":\"\"}},\"title\":{\"x\":0.05},\"xaxis\":{\"automargin\":true,\"gridcolor\":\"white\",\"linecolor\":\"white\",\"ticks\":\"\",\"title\":{\"standoff\":15},\"zerolinecolor\":\"white\",\"zerolinewidth\":2},\"yaxis\":{\"automargin\":true,\"gridcolor\":\"white\",\"linecolor\":\"white\",\"ticks\":\"\",\"title\":{\"standoff\":15},\"zerolinecolor\":\"white\",\"zerolinewidth\":2}}},\"title\":{\"text\":\"Produtos mais vendidos\"},\"width\":800,\"xaxis\":{\"anchor\":\"y\",\"domain\":[0.0,0.45],\"tickangle\":45},\"xaxis2\":{\"anchor\":\"y2\",\"domain\":[0.55,1.0],\"tickangle\":45},\"xaxis3\":{\"anchor\":\"y3\",\"domain\":[0.0,0.45],\"tickangle\":45},\"xaxis4\":{\"anchor\":\"y4\",\"domain\":[0.55,1.0],\"tickangle\":45},\"yaxis\":{\"anchor\":\"x\",\"domain\":[0.625,1.0]},\"yaxis2\":{\"anchor\":\"x2\",\"domain\":[0.625,1.0],\"matches\":\"y\",\"showticklabels\":false},\"yaxis3\":{\"anchor\":\"x3\",\"domain\":[0.0,0.375]},\"yaxis4\":{\"anchor\":\"x4\",\"domain\":[0.0,0.375],\"matches\":\"y3\",\"showticklabels\":false}},                        {\"responsive\": true}                    ).then(function(){\n",
       "                            \n",
       "var gd = document.getElementById('b7091d20-1377-4e97-af1f-3035c81c080d');\n",
       "var x = new MutationObserver(function (mutations, observer) {{\n",
       "        var display = window.getComputedStyle(gd).display;\n",
       "        if (!display || display === 'none') {{\n",
       "            console.log([gd, 'removed!']);\n",
       "            Plotly.purge(gd);\n",
       "            observer.disconnect();\n",
       "        }}\n",
       "}});\n",
       "\n",
       "// Listen for the removal of the full notebook cells\n",
       "var notebookContainer = gd.closest('#notebook-container');\n",
       "if (notebookContainer) {{\n",
       "    x.observe(notebookContainer, {childList: true});\n",
       "}}\n",
       "\n",
       "// Listen for the clearing of the current output cell\n",
       "var outputEl = gd.closest('.output');\n",
       "if (outputEl) {{\n",
       "    x.observe(outputEl, {childList: true});\n",
       "}}\n",
       "\n",
       "                        })                };                });            </script>        </div>"
      ]
     },
     "metadata": {},
     "output_type": "display_data"
    }
   ],
   "source": [
    "from plotly.subplots import make_subplots\n",
    "\n",
    "df_frutas_e_verduras_quantidade=df_frutas_e_verduras.groupby(\"nome\").sum().sort_values('quantidade', ascending=False).reset_index()\n",
    "df_acougue_quantidade=df_acougue.groupby(\"nome\").sum().sort_values('quantidade', ascending=False).reset_index()\n",
    "df_padaria_quantidade=df_padaria.groupby(\"nome\").sum().sort_values('quantidade', ascending=False).reset_index()\n",
    "df_limpeza_quantidade=df_produtos_de_limpeza.groupby(\"nome\").sum().sort_values('quantidade', ascending=False).reset_index()\n",
    "\n",
    "fig = make_subplots(rows=2, cols=2, shared_yaxes=True, \n",
    "    subplot_titles=(\"Quantidades vendidas em alimentos em geral\", \"Quantidades vendidas no açougue\", \"Quantidades vendidas na padaria\", \"Quantidades vendidas em produtos de limpeza\"))\n",
    "\n",
    "fig.add_trace(go.Bar(x=df_frutas_e_verduras_quantidade[\"nome\"], y=df_frutas_e_verduras_quantidade[\"quantidade\"], name=\"\"), \n",
    "              1, 1)\n",
    "\n",
    "fig.add_trace(go.Bar(x=df_acougue_quantidade[\"nome\"], y=df_acougue_quantidade[\"quantidade\"], name=\"\"),\n",
    "              1, 2)\n",
    "\n",
    "fig.add_trace(go.Bar(x=df_padaria_quantidade[\"nome\"], y=df_padaria_quantidade[\"quantidade\"], name=\"\"),\n",
    "              2, 1)\n",
    "\n",
    "fig.add_trace(go.Bar(x=df_limpeza_quantidade[\"nome\"], y=df_limpeza_quantidade[\"quantidade\"], name=\"\"),\n",
    "              2, 2)\n",
    "\n",
    "\n",
    "\n",
    "fig.update_layout(height=650, width=800, showlegend=False,\n",
    "                  title_text=\"Produtos mais vendidos\", )\n",
    "fig.update_xaxes(tickangle=45)\n",
    "\n",
    "fig.show()"
   ]
  },
  {
   "cell_type": "code",
   "execution_count": 28,
   "id": "73adb86f",
   "metadata": {},
   "outputs": [
    {
     "data": {
      "text/html": [
       "<div>\n",
       "<style scoped>\n",
       "    .dataframe tbody tr th:only-of-type {\n",
       "        vertical-align: middle;\n",
       "    }\n",
       "\n",
       "    .dataframe tbody tr th {\n",
       "        vertical-align: top;\n",
       "    }\n",
       "\n",
       "    .dataframe thead th {\n",
       "        text-align: right;\n",
       "    }\n",
       "</style>\n",
       "<table border=\"1\" class=\"dataframe\">\n",
       "  <thead>\n",
       "    <tr style=\"text-align: right;\">\n",
       "      <th></th>\n",
       "      <th>nome</th>\n",
       "      <th>id_vendas</th>\n",
       "      <th>id_produtos</th>\n",
       "      <th>quantidade</th>\n",
       "      <th>custo</th>\n",
       "      <th>preco</th>\n",
       "      <th>estoque</th>\n",
       "      <th>id_clientes</th>\n",
       "      <th>total_preco</th>\n",
       "      <th>lucro</th>\n",
       "    </tr>\n",
       "  </thead>\n",
       "  <tbody>\n",
       "    <tr>\n",
       "      <th>0</th>\n",
       "      <td>berinjela</td>\n",
       "      <td>9165</td>\n",
       "      <td>370</td>\n",
       "      <td>206</td>\n",
       "      <td>635.66</td>\n",
       "      <td>887.26</td>\n",
       "      <td>888</td>\n",
       "      <td>8207</td>\n",
       "      <td>2469.94</td>\n",
       "      <td>700.40</td>\n",
       "    </tr>\n",
       "    <tr>\n",
       "      <th>1</th>\n",
       "      <td>feijão</td>\n",
       "      <td>10189</td>\n",
       "      <td>738</td>\n",
       "      <td>193</td>\n",
       "      <td>532.18</td>\n",
       "      <td>692.90</td>\n",
       "      <td>3526</td>\n",
       "      <td>8768</td>\n",
       "      <td>1630.85</td>\n",
       "      <td>378.28</td>\n",
       "    </tr>\n",
       "    <tr>\n",
       "      <th>2</th>\n",
       "      <td>abobrinha</td>\n",
       "      <td>10345</td>\n",
       "      <td>450</td>\n",
       "      <td>191</td>\n",
       "      <td>201.75</td>\n",
       "      <td>261.75</td>\n",
       "      <td>1425</td>\n",
       "      <td>7840</td>\n",
       "      <td>666.59</td>\n",
       "      <td>152.80</td>\n",
       "    </tr>\n",
       "    <tr>\n",
       "      <th>3</th>\n",
       "      <td>batata</td>\n",
       "      <td>10146</td>\n",
       "      <td>300</td>\n",
       "      <td>189</td>\n",
       "      <td>179.25</td>\n",
       "      <td>299.25</td>\n",
       "      <td>3525</td>\n",
       "      <td>8074</td>\n",
       "      <td>754.11</td>\n",
       "      <td>302.40</td>\n",
       "    </tr>\n",
       "    <tr>\n",
       "      <th>4</th>\n",
       "      <td>morango</td>\n",
       "      <td>8400</td>\n",
       "      <td>0</td>\n",
       "      <td>189</td>\n",
       "      <td>296.70</td>\n",
       "      <td>551.31</td>\n",
       "      <td>3450</td>\n",
       "      <td>7470</td>\n",
       "      <td>1510.11</td>\n",
       "      <td>697.41</td>\n",
       "    </tr>\n",
       "    <tr>\n",
       "      <th>5</th>\n",
       "      <td>uva</td>\n",
       "      <td>9196</td>\n",
       "      <td>213</td>\n",
       "      <td>189</td>\n",
       "      <td>297.49</td>\n",
       "      <td>530.37</td>\n",
       "      <td>2556</td>\n",
       "      <td>6563</td>\n",
       "      <td>1411.83</td>\n",
       "      <td>619.92</td>\n",
       "    </tr>\n",
       "    <tr>\n",
       "      <th>6</th>\n",
       "      <td>arroz</td>\n",
       "      <td>8571</td>\n",
       "      <td>680</td>\n",
       "      <td>183</td>\n",
       "      <td>159.80</td>\n",
       "      <td>293.08</td>\n",
       "      <td>5440</td>\n",
       "      <td>6874</td>\n",
       "      <td>788.73</td>\n",
       "      <td>358.68</td>\n",
       "    </tr>\n",
       "    <tr>\n",
       "      <th>7</th>\n",
       "      <td>macarrão</td>\n",
       "      <td>8832</td>\n",
       "      <td>781</td>\n",
       "      <td>176</td>\n",
       "      <td>119.99</td>\n",
       "      <td>176.08</td>\n",
       "      <td>2698</td>\n",
       "      <td>7788</td>\n",
       "      <td>436.48</td>\n",
       "      <td>139.04</td>\n",
       "    </tr>\n",
       "    <tr>\n",
       "      <th>8</th>\n",
       "      <td>alface</td>\n",
       "      <td>8448</td>\n",
       "      <td>455</td>\n",
       "      <td>175</td>\n",
       "      <td>29.25</td>\n",
       "      <td>63.70</td>\n",
       "      <td>1625</td>\n",
       "      <td>7666</td>\n",
       "      <td>171.50</td>\n",
       "      <td>92.75</td>\n",
       "    </tr>\n",
       "    <tr>\n",
       "      <th>9</th>\n",
       "      <td>melancia</td>\n",
       "      <td>10053</td>\n",
       "      <td>72</td>\n",
       "      <td>171</td>\n",
       "      <td>848.88</td>\n",
       "      <td>1151.28</td>\n",
       "      <td>1440</td>\n",
       "      <td>7710</td>\n",
       "      <td>2734.29</td>\n",
       "      <td>718.20</td>\n",
       "    </tr>\n",
       "    <tr>\n",
       "      <th>10</th>\n",
       "      <td>banana</td>\n",
       "      <td>9978</td>\n",
       "      <td>136</td>\n",
       "      <td>169</td>\n",
       "      <td>136.00</td>\n",
       "      <td>407.32</td>\n",
       "      <td>2720</td>\n",
       "      <td>7510</td>\n",
       "      <td>1012.31</td>\n",
       "      <td>674.31</td>\n",
       "    </tr>\n",
       "    <tr>\n",
       "      <th>11</th>\n",
       "      <td>couve-flor</td>\n",
       "      <td>7211</td>\n",
       "      <td>392</td>\n",
       "      <td>121</td>\n",
       "      <td>156.31</td>\n",
       "      <td>268.52</td>\n",
       "      <td>980</td>\n",
       "      <td>5631</td>\n",
       "      <td>663.08</td>\n",
       "      <td>277.09</td>\n",
       "    </tr>\n",
       "  </tbody>\n",
       "</table>\n",
       "</div>"
      ],
      "text/plain": [
       "          nome  id_vendas  id_produtos  quantidade   custo    preco  estoque  \\\n",
       "0    berinjela       9165          370         206  635.66   887.26      888   \n",
       "1       feijão      10189          738         193  532.18   692.90     3526   \n",
       "2    abobrinha      10345          450         191  201.75   261.75     1425   \n",
       "3       batata      10146          300         189  179.25   299.25     3525   \n",
       "4      morango       8400            0         189  296.70   551.31     3450   \n",
       "5          uva       9196          213         189  297.49   530.37     2556   \n",
       "6        arroz       8571          680         183  159.80   293.08     5440   \n",
       "7     macarrão       8832          781         176  119.99   176.08     2698   \n",
       "8       alface       8448          455         175   29.25    63.70     1625   \n",
       "9     melancia      10053           72         171  848.88  1151.28     1440   \n",
       "10      banana       9978          136         169  136.00   407.32     2720   \n",
       "11  couve-flor       7211          392         121  156.31   268.52      980   \n",
       "\n",
       "    id_clientes  total_preco   lucro  \n",
       "0          8207      2469.94  700.40  \n",
       "1          8768      1630.85  378.28  \n",
       "2          7840       666.59  152.80  \n",
       "3          8074       754.11  302.40  \n",
       "4          7470      1510.11  697.41  \n",
       "5          6563      1411.83  619.92  \n",
       "6          6874       788.73  358.68  \n",
       "7          7788       436.48  139.04  \n",
       "8          7666       171.50   92.75  \n",
       "9          7710      2734.29  718.20  \n",
       "10         7510      1012.31  674.31  \n",
       "11         5631       663.08  277.09  "
      ]
     },
     "execution_count": 28,
     "metadata": {},
     "output_type": "execute_result"
    }
   ],
   "source": [
    "df_frutas_e_verduras_quantidade"
   ]
  },
  {
   "cell_type": "code",
   "execution_count": null,
   "id": "7619bc15",
   "metadata": {},
   "outputs": [],
   "source": []
  },
  {
   "cell_type": "code",
   "execution_count": 29,
   "id": "c788e46a",
   "metadata": {},
   "outputs": [],
   "source": [
    "from datetime import datetime, date\n",
    "tabela_ajustando_idade=venda_produtos_cliente\n",
    "tabela_ajustando_idade[\"nascimento\"]=tabela_ajustando_idade[\"nascimento\"].astype(str)\n",
    "\n",
    "tabela_ajustando_idade[\"nascimento\"]=tabela_ajustando_idade[\"nascimento\"].str.replace('-',' ')"
   ]
  },
  {
   "cell_type": "code",
   "execution_count": 30,
   "id": "a235283b",
   "metadata": {},
   "outputs": [],
   "source": [
    "today = date.today()\n",
    "def data(x):\n",
    "    x=datetime.strptime(x, \"%Y %m %d\")\n",
    "    return today.year - x.year - ((today.month, today.day) < (x.month, x.day))\n",
    "\n",
    "tabela_ajustando_idade[\"idade\"]=tabela_ajustando_idade[\"nascimento\"].apply(lambda x: data(x))\n",
    "\n",
    "tabela_ajustando_idade_cliente_gasto=tabela_ajustando_idade[[\"nome_cliente\", \"total_preco\"]].groupby(\"nome_cliente\").sum().sort_values('total_preco', ascending=False).reset_index()\n",
    "tabela_ajustando_idade_cliente_gasto.rename(columns={\"total_preco\": \"total_mes\"}, inplace = 1)\n",
    "\n",
    "tabela_ajustando_idade_cliente_idade=tabela_ajustando_idade[[\"nome_cliente\", \"idade\"]].drop_duplicates()\n",
    "\n",
    "tabela_cliente_gasto_idade=pd.merge(tabela_ajustando_idade_cliente_gasto, tabela_ajustando_idade_cliente_idade, on = 'nome_cliente', how='right') "
   ]
  },
  {
   "cell_type": "code",
   "execution_count": 31,
   "id": "a6c6dd9c",
   "metadata": {},
   "outputs": [
    {
     "data": {
      "application/vnd.plotly.v1+json": {
       "config": {
        "plotlyServerURL": "https://plot.ly"
       },
       "data": [
        {
         "customdata": [
          [
           "Breno Teixeira"
          ],
          [
           "Davi Gomes"
          ],
          [
           "Luiz Henrique Pereira"
          ],
          [
           "Vinicius Gomes"
          ],
          [
           "Carolina Vieira"
          ],
          [
           "Paulo Vieira"
          ],
          [
           "Anthony Rezende"
          ],
          [
           "Kevin Silveira"
          ],
          [
           "Srta. Clara Campos"
          ],
          [
           "Mariana Porto"
          ],
          [
           "João Gabriel Nunes"
          ],
          [
           "Thomas Cardoso"
          ],
          [
           "Sr. André Ribeiro"
          ],
          [
           "Davi Moura"
          ],
          [
           "Sr. Paulo Peixoto"
          ],
          [
           "Bárbara Santos"
          ],
          [
           "Dra. Yasmin Santos"
          ],
          [
           "Clarice Novaes"
          ],
          [
           "Fernanda Azevedo"
          ],
          [
           "Dr. Marcelo Barbosa"
          ],
          [
           "Vitor Hugo Pires"
          ],
          [
           "Melissa Cardoso"
          ],
          [
           "Natália da Rosa"
          ],
          [
           "Bryan Freitas"
          ],
          [
           "João Felipe Carvalho"
          ],
          [
           "Vitor Hugo Gomes"
          ],
          [
           "Luiz Henrique Nunes"
          ],
          [
           "Fernanda da Cruz"
          ],
          [
           "Matheus da Luz"
          ],
          [
           "Kevin Moura"
          ],
          [
           "Isaac da Cruz"
          ],
          [
           "Pietro Peixoto"
          ],
          [
           "Miguel da Rocha"
          ],
          [
           "Gustavo Henrique Campos"
          ],
          [
           "Kevin Oliveira"
          ],
          [
           "Lara Nunes"
          ],
          [
           "Luigi Nascimento"
          ],
          [
           "Calebe Cardoso"
          ],
          [
           "Sra. Maria Sophia Correia"
          ],
          [
           "Isabelly da Cruz"
          ],
          [
           "Dr. Vicente Monteiro"
          ],
          [
           "Eduarda Barbosa"
          ],
          [
           "Dra. Alana da Rocha"
          ],
          [
           "Alexandre Silva"
          ],
          [
           "Carlos Eduardo Silva"
          ],
          [
           "Alana Pinto"
          ],
          [
           "Larissa Carvalho"
          ],
          [
           "Dr. Alexandre Mendes"
          ],
          [
           "Dr. Francisco Costela"
          ],
          [
           "Juliana Correia"
          ],
          [
           "Emanuelly da Mota"
          ],
          [
           "Beatriz Ramos"
          ],
          [
           "Dr. Emanuel das Neves"
          ],
          [
           "Pedro Miguel Rocha"
          ],
          [
           "Vicente Nunes"
          ],
          [
           "Esther Fernandes"
          ],
          [
           "Marcelo Peixoto"
          ],
          [
           "Emilly Mendes"
          ],
          [
           "Dr. Murilo Jesus"
          ],
          [
           "Ian Cunha"
          ],
          [
           "Enzo Caldeira"
          ],
          [
           "Maria Eduarda Pereira"
          ],
          [
           "Valentina Barros"
          ],
          [
           "Juliana da Conceição"
          ],
          [
           "Eduarda Teixeira"
          ],
          [
           "Caroline da Paz"
          ],
          [
           "Sr. Enzo Gabriel Novaes"
          ],
          [
           "Nicole Martins"
          ],
          [
           "Nathan Jesus"
          ],
          [
           "Luiz Otávio Lima"
          ],
          [
           "Isabel Santos"
          ],
          [
           "Manuela Moraes"
          ],
          [
           "Dr. João Miguel Monteiro"
          ],
          [
           "Alexia Cardoso"
          ],
          [
           "Luiza Barros"
          ],
          [
           "Luiz Gustavo Azevedo"
          ],
          [
           "Maria Luiza Peixoto"
          ],
          [
           "Dr. Davi Luiz Costa"
          ],
          [
           "Sr. Renan Costela"
          ],
          [
           "Gustavo Henrique Lima"
          ],
          [
           "Sr. Thales Freitas"
          ],
          [
           "Anthony Nascimento"
          ],
          [
           "Rebeca Novaes"
          ],
          [
           "Camila Novaes"
          ],
          [
           "Sr. Luiz Miguel Silveira"
          ],
          [
           "Helena Cavalcanti"
          ],
          [
           "Breno Vieira"
          ],
          [
           "Carolina Duarte"
          ],
          [
           "Srta. Ana Lívia Cunha"
          ],
          [
           "Nina Vieira"
          ],
          [
           "Larissa Nunes"
          ],
          [
           "Lara Cardoso"
          ],
          [
           "Alícia Jesus"
          ],
          [
           "Ana Clara Alves"
          ],
          [
           "Maria Eduarda Carvalho"
          ],
          [
           "Alexandre Caldeira"
          ],
          [
           "Kaique Pereira"
          ],
          [
           "Sra. Isis Martins"
          ],
          [
           "Srta. Ana Campos"
          ],
          [
           "Matheus Martins"
          ],
          [
           "Diogo da Cruz"
          ],
          [
           "Clarice Rodrigues"
          ],
          [
           "Bárbara da Paz"
          ],
          [
           "Enrico Barbosa"
          ],
          [
           "Fernanda da Rosa"
          ],
          [
           "Bruno Nascimento"
          ],
          [
           "Sr. Cauê Moreira"
          ],
          [
           "Alice Vieira"
          ],
          [
           "Lara Sales"
          ],
          [
           "Emilly Cardoso"
          ],
          [
           "Ana Júlia Almeida"
          ],
          [
           "Luiz Fernando da Cunha"
          ],
          [
           "Laís Nascimento"
          ],
          [
           "Thales Rodrigues"
          ],
          [
           "Natália Ribeiro"
          ],
          [
           "Alana da Rosa"
          ],
          [
           "Ana Júlia Pereira"
          ],
          [
           "Sra. Eloah Ferreira"
          ],
          [
           "Maria Silva"
          ],
          [
           "Dra. Laís Peixoto"
          ],
          [
           "Yago Costela"
          ],
          [
           "Isabelly Costa"
          ],
          [
           "Luiz Henrique da Mata"
          ],
          [
           "Sophia da Costa"
          ],
          [
           "Luiz Fernando Vieira"
          ],
          [
           "Pedro Correia"
          ],
          [
           "Juan da Costa"
          ],
          [
           "Juliana das Neves"
          ],
          [
           "Benício Caldeira"
          ],
          [
           "Benício da Rosa"
          ],
          [
           "Ana Clara Moura"
          ],
          [
           "Ana Clara Lima"
          ],
          [
           "Calebe da Costa"
          ],
          [
           "Amanda Mendes"
          ],
          [
           "Caroline Nogueira"
          ],
          [
           "Luigi Porto"
          ],
          [
           "Ana Vitória Araújo"
          ],
          [
           "Ana Carolina Caldeira"
          ],
          [
           "Davi Caldeira"
          ],
          [
           "Luiz Otávio Moreira"
          ],
          [
           "Lucas Nascimento"
          ],
          [
           "Mariane Monteiro"
          ],
          [
           "Srta. Emanuelly Fogaça"
          ],
          [
           "Juan Pereira"
          ],
          [
           "Diogo Martins"
          ],
          [
           "Fernanda Pinto"
          ],
          [
           "Sra. Milena Viana"
          ],
          [
           "Sr. Emanuel Moraes"
          ],
          [
           "Maria Cecília da Costa"
          ],
          [
           "Luiza Ribeiro"
          ],
          [
           "Bruna da Luz"
          ],
          [
           "Kaique Peixoto"
          ],
          [
           "Letícia da Paz"
          ],
          [
           "Olivia da Rocha"
          ],
          [
           "Maysa Costa"
          ],
          [
           "Lorena Alves"
          ],
          [
           "Stella Santos"
          ],
          [
           "Carlos Eduardo Nunes"
          ],
          [
           "Manuela Monteiro"
          ],
          [
           "Dr. Gustavo Alves"
          ],
          [
           "Letícia Moreira"
          ],
          [
           "Bruna Teixeira"
          ],
          [
           "Fernanda Silva"
          ],
          [
           "Pedro Fogaça"
          ],
          [
           "Gabrielly Cavalcanti"
          ],
          [
           "Letícia Cardoso"
          ],
          [
           "Raquel Campos"
          ],
          [
           "Natália da Cunha"
          ],
          [
           "Esther Carvalho"
          ],
          [
           "Gabriela Gomes"
          ],
          [
           "Sr. Luiz Fernando Dias"
          ],
          [
           "Leandro Lopes"
          ],
          [
           "Ana Lívia Ramos"
          ],
          [
           "Calebe Lima"
          ],
          [
           "Thales Caldeira"
          ],
          [
           "Sr. Pedro Miguel Farias"
          ],
          [
           "João da Paz"
          ],
          [
           "Lucca Castro"
          ],
          [
           "Sr. Vitor da Mata"
          ],
          [
           "Dr. Daniel Sales"
          ],
          [
           "Lucca Duarte"
          ],
          [
           "Ryan Carvalho"
          ],
          [
           "Dra. Pietra Duarte"
          ],
          [
           "Esther Moraes"
          ],
          [
           "Srta. Ana Sophia da Rocha"
          ],
          [
           "Dr. Davi Gomes"
          ],
          [
           "Camila Monteiro"
          ],
          [
           "Emanuelly da Cruz"
          ],
          [
           "Enzo Gabriel Nascimento"
          ]
         ],
         "hovertemplate": "Total gasto pelo cliente=%{x}<br>Idade=%{y}<br>Nome do cliente=%{customdata[0]}<extra></extra>",
         "legendgroup": "",
         "marker": {
          "color": "#00CC96",
          "symbol": "circle"
         },
         "mode": "markers",
         "name": "",
         "orientation": "v",
         "showlegend": false,
         "type": "scatter",
         "x": [
          860.94,
          1562.57,
          1737.5900000000008,
          451.12000000000006,
          2630.919999999999,
          256.16,
          1425.42,
          597.0100000000001,
          106.78999999999999,
          286.5199999999999,
          811.1400000000001,
          1316.6900000000003,
          626.5400000000001,
          22.38,
          487.42,
          1044.6300000000003,
          523.0300000000001,
          628.84,
          573.07,
          372.06999999999994,
          1444.9000000000005,
          798.34,
          530.99,
          1195.3100000000002,
          635.44,
          1116.4000000000003,
          1459.7700000000002,
          796.4500000000002,
          1944.5500000000002,
          521.13,
          995.9200000000002,
          685.8499999999999,
          858.79,
          850.9700000000003,
          786.5800000000002,
          780.0600000000003,
          834.32,
          253.31,
          1824.9900000000005,
          1217.79,
          3001.5199999999995,
          633.1600000000001,
          243.07999999999996,
          984.0500000000001,
          955.5200000000003,
          1770.6400000000003,
          1109.9500000000003,
          137.91,
          1334.73,
          100.87,
          89.94999999999999,
          163.78,
          432.6899999999999,
          547.2299999999999,
          819.7900000000001,
          1039.91,
          657.11,
          299.72,
          484.59000000000003,
          441.17,
          744.8000000000001,
          255.23999999999998,
          1299.3899999999999,
          769.0300000000001,
          927.8600000000001,
          668.21,
          2321.4300000000007,
          408.2900000000001,
          359.19,
          779.94,
          654.5200000000002,
          2123.1800000000007,
          1054.97,
          330.46000000000004,
          646.7,
          1263.6200000000001,
          46.9,
          20.97,
          65.97,
          194.76,
          20.97,
          303.0900000000001,
          1028.37,
          1243.9900000000002,
          229.79999999999998,
          1198.9500000000003,
          453.13,
          641.4700000000001,
          1126.2400000000005,
          965.3300000000002,
          351.63,
          602.88,
          815.1700000000001,
          511.55999999999995,
          344.25,
          1036.65,
          1344.5500000000002,
          1084.6100000000006,
          544.19,
          998.8600000000001,
          560.75,
          26.8,
          26.8,
          42.47,
          443.66,
          1028.16,
          546.6500000000001,
          1105.1200000000001,
          627.08,
          638.74,
          680.14,
          539.67,
          504.32000000000005,
          832.5200000000001,
          708.44,
          298.59,
          715.1400000000001,
          601.8800000000001,
          513.5999999999999,
          191.92,
          23.99,
          1221.9700000000003,
          291.53000000000003,
          630,
          313.5799999999999,
          248.89,
          670.28,
          668,
          1402.5100000000002,
          2847.53,
          158.94,
          211.49999999999997,
          23.18,
          10.41,
          75.73,
          3.92,
          1573.1300000000003,
          1063.0600000000002,
          890.21,
          471.79,
          29.22,
          586.2800000000001,
          370.65,
          89.96000000000001,
          83.77,
          530.97,
          344,
          981.0800000000002,
          1119.63,
          32.89,
          23.229999999999997,
          51.769999999999996,
          51.44,
          25.349999999999998,
          569.64,
          182.37999999999997,
          676.6000000000001,
          86.93,
          401.4,
          161.41,
          47.97,
          47.97,
          19.090000000000003,
          10.8,
          77.06,
          5.4,
          111.28999999999999,
          561.9100000000001,
          437.47,
          199.81,
          262.90999999999997,
          3.99,
          35.93,
          63.76,
          9.69,
          130.13,
          46.87,
          39.129999999999995,
          87.96,
          103.93,
          47.92,
          43.96,
          24.46,
          7.4399999999999995,
          3.87,
          95.96,
          47.98,
          141.78,
          105
         ],
         "xaxis": "x",
         "y": [
          42,
          69,
          26,
          38,
          20,
          27,
          39,
          21,
          60,
          54,
          64,
          60,
          52,
          58,
          58,
          20,
          69,
          73,
          42,
          71,
          49,
          53,
          61,
          52,
          28,
          53,
          18,
          49,
          34,
          58,
          42,
          25,
          43,
          25,
          36,
          71,
          45,
          51,
          24,
          69,
          69,
          65,
          29,
          37,
          71,
          48,
          33,
          65,
          57,
          65,
          30,
          20,
          51,
          26,
          67,
          33,
          62,
          18,
          72,
          42,
          66,
          46,
          23,
          59,
          18,
          31,
          28,
          61,
          42,
          44,
          45,
          69,
          34,
          39,
          61,
          69,
          21,
          56,
          52,
          41,
          62,
          50,
          27,
          53,
          37,
          60,
          65,
          40,
          71,
          68,
          22,
          61,
          70,
          48,
          44,
          51,
          47,
          58,
          27,
          56,
          42,
          21,
          69,
          19,
          30,
          34,
          60,
          42,
          44,
          37,
          60,
          64,
          44,
          66,
          20,
          48,
          47,
          65,
          71,
          57,
          27,
          59,
          35,
          42,
          60,
          55,
          59,
          29,
          42,
          64,
          61,
          25,
          40,
          44,
          45,
          63,
          20,
          22,
          22,
          18,
          71,
          23,
          58,
          49,
          59,
          35,
          44,
          40,
          39,
          56,
          39,
          34,
          57,
          43,
          59,
          23,
          33,
          52,
          46,
          28,
          57,
          44,
          55,
          46,
          50,
          44,
          42,
          58,
          57,
          45,
          45,
          39,
          58,
          59,
          56,
          59,
          64,
          27,
          68,
          31,
          37,
          71,
          19,
          23,
          27,
          52,
          28,
          43,
          57
         ],
         "yaxis": "y"
        }
       ],
       "layout": {
        "legend": {
         "tracegroupgap": 0
        },
        "margin": {
         "t": 60
        },
        "template": {
         "data": {
          "bar": [
           {
            "error_x": {
             "color": "#2a3f5f"
            },
            "error_y": {
             "color": "#2a3f5f"
            },
            "marker": {
             "line": {
              "color": "#E5ECF6",
              "width": 0.5
             },
             "pattern": {
              "fillmode": "overlay",
              "size": 10,
              "solidity": 0.2
             }
            },
            "type": "bar"
           }
          ],
          "barpolar": [
           {
            "marker": {
             "line": {
              "color": "#E5ECF6",
              "width": 0.5
             },
             "pattern": {
              "fillmode": "overlay",
              "size": 10,
              "solidity": 0.2
             }
            },
            "type": "barpolar"
           }
          ],
          "carpet": [
           {
            "aaxis": {
             "endlinecolor": "#2a3f5f",
             "gridcolor": "white",
             "linecolor": "white",
             "minorgridcolor": "white",
             "startlinecolor": "#2a3f5f"
            },
            "baxis": {
             "endlinecolor": "#2a3f5f",
             "gridcolor": "white",
             "linecolor": "white",
             "minorgridcolor": "white",
             "startlinecolor": "#2a3f5f"
            },
            "type": "carpet"
           }
          ],
          "choropleth": [
           {
            "colorbar": {
             "outlinewidth": 0,
             "ticks": ""
            },
            "type": "choropleth"
           }
          ],
          "contour": [
           {
            "colorbar": {
             "outlinewidth": 0,
             "ticks": ""
            },
            "colorscale": [
             [
              0,
              "#0d0887"
             ],
             [
              0.1111111111111111,
              "#46039f"
             ],
             [
              0.2222222222222222,
              "#7201a8"
             ],
             [
              0.3333333333333333,
              "#9c179e"
             ],
             [
              0.4444444444444444,
              "#bd3786"
             ],
             [
              0.5555555555555556,
              "#d8576b"
             ],
             [
              0.6666666666666666,
              "#ed7953"
             ],
             [
              0.7777777777777778,
              "#fb9f3a"
             ],
             [
              0.8888888888888888,
              "#fdca26"
             ],
             [
              1,
              "#f0f921"
             ]
            ],
            "type": "contour"
           }
          ],
          "contourcarpet": [
           {
            "colorbar": {
             "outlinewidth": 0,
             "ticks": ""
            },
            "type": "contourcarpet"
           }
          ],
          "heatmap": [
           {
            "colorbar": {
             "outlinewidth": 0,
             "ticks": ""
            },
            "colorscale": [
             [
              0,
              "#0d0887"
             ],
             [
              0.1111111111111111,
              "#46039f"
             ],
             [
              0.2222222222222222,
              "#7201a8"
             ],
             [
              0.3333333333333333,
              "#9c179e"
             ],
             [
              0.4444444444444444,
              "#bd3786"
             ],
             [
              0.5555555555555556,
              "#d8576b"
             ],
             [
              0.6666666666666666,
              "#ed7953"
             ],
             [
              0.7777777777777778,
              "#fb9f3a"
             ],
             [
              0.8888888888888888,
              "#fdca26"
             ],
             [
              1,
              "#f0f921"
             ]
            ],
            "type": "heatmap"
           }
          ],
          "heatmapgl": [
           {
            "colorbar": {
             "outlinewidth": 0,
             "ticks": ""
            },
            "colorscale": [
             [
              0,
              "#0d0887"
             ],
             [
              0.1111111111111111,
              "#46039f"
             ],
             [
              0.2222222222222222,
              "#7201a8"
             ],
             [
              0.3333333333333333,
              "#9c179e"
             ],
             [
              0.4444444444444444,
              "#bd3786"
             ],
             [
              0.5555555555555556,
              "#d8576b"
             ],
             [
              0.6666666666666666,
              "#ed7953"
             ],
             [
              0.7777777777777778,
              "#fb9f3a"
             ],
             [
              0.8888888888888888,
              "#fdca26"
             ],
             [
              1,
              "#f0f921"
             ]
            ],
            "type": "heatmapgl"
           }
          ],
          "histogram": [
           {
            "marker": {
             "pattern": {
              "fillmode": "overlay",
              "size": 10,
              "solidity": 0.2
             }
            },
            "type": "histogram"
           }
          ],
          "histogram2d": [
           {
            "colorbar": {
             "outlinewidth": 0,
             "ticks": ""
            },
            "colorscale": [
             [
              0,
              "#0d0887"
             ],
             [
              0.1111111111111111,
              "#46039f"
             ],
             [
              0.2222222222222222,
              "#7201a8"
             ],
             [
              0.3333333333333333,
              "#9c179e"
             ],
             [
              0.4444444444444444,
              "#bd3786"
             ],
             [
              0.5555555555555556,
              "#d8576b"
             ],
             [
              0.6666666666666666,
              "#ed7953"
             ],
             [
              0.7777777777777778,
              "#fb9f3a"
             ],
             [
              0.8888888888888888,
              "#fdca26"
             ],
             [
              1,
              "#f0f921"
             ]
            ],
            "type": "histogram2d"
           }
          ],
          "histogram2dcontour": [
           {
            "colorbar": {
             "outlinewidth": 0,
             "ticks": ""
            },
            "colorscale": [
             [
              0,
              "#0d0887"
             ],
             [
              0.1111111111111111,
              "#46039f"
             ],
             [
              0.2222222222222222,
              "#7201a8"
             ],
             [
              0.3333333333333333,
              "#9c179e"
             ],
             [
              0.4444444444444444,
              "#bd3786"
             ],
             [
              0.5555555555555556,
              "#d8576b"
             ],
             [
              0.6666666666666666,
              "#ed7953"
             ],
             [
              0.7777777777777778,
              "#fb9f3a"
             ],
             [
              0.8888888888888888,
              "#fdca26"
             ],
             [
              1,
              "#f0f921"
             ]
            ],
            "type": "histogram2dcontour"
           }
          ],
          "mesh3d": [
           {
            "colorbar": {
             "outlinewidth": 0,
             "ticks": ""
            },
            "type": "mesh3d"
           }
          ],
          "parcoords": [
           {
            "line": {
             "colorbar": {
              "outlinewidth": 0,
              "ticks": ""
             }
            },
            "type": "parcoords"
           }
          ],
          "pie": [
           {
            "automargin": true,
            "type": "pie"
           }
          ],
          "scatter": [
           {
            "marker": {
             "colorbar": {
              "outlinewidth": 0,
              "ticks": ""
             }
            },
            "type": "scatter"
           }
          ],
          "scatter3d": [
           {
            "line": {
             "colorbar": {
              "outlinewidth": 0,
              "ticks": ""
             }
            },
            "marker": {
             "colorbar": {
              "outlinewidth": 0,
              "ticks": ""
             }
            },
            "type": "scatter3d"
           }
          ],
          "scattercarpet": [
           {
            "marker": {
             "colorbar": {
              "outlinewidth": 0,
              "ticks": ""
             }
            },
            "type": "scattercarpet"
           }
          ],
          "scattergeo": [
           {
            "marker": {
             "colorbar": {
              "outlinewidth": 0,
              "ticks": ""
             }
            },
            "type": "scattergeo"
           }
          ],
          "scattergl": [
           {
            "marker": {
             "colorbar": {
              "outlinewidth": 0,
              "ticks": ""
             }
            },
            "type": "scattergl"
           }
          ],
          "scattermapbox": [
           {
            "marker": {
             "colorbar": {
              "outlinewidth": 0,
              "ticks": ""
             }
            },
            "type": "scattermapbox"
           }
          ],
          "scatterpolar": [
           {
            "marker": {
             "colorbar": {
              "outlinewidth": 0,
              "ticks": ""
             }
            },
            "type": "scatterpolar"
           }
          ],
          "scatterpolargl": [
           {
            "marker": {
             "colorbar": {
              "outlinewidth": 0,
              "ticks": ""
             }
            },
            "type": "scatterpolargl"
           }
          ],
          "scatterternary": [
           {
            "marker": {
             "colorbar": {
              "outlinewidth": 0,
              "ticks": ""
             }
            },
            "type": "scatterternary"
           }
          ],
          "surface": [
           {
            "colorbar": {
             "outlinewidth": 0,
             "ticks": ""
            },
            "colorscale": [
             [
              0,
              "#0d0887"
             ],
             [
              0.1111111111111111,
              "#46039f"
             ],
             [
              0.2222222222222222,
              "#7201a8"
             ],
             [
              0.3333333333333333,
              "#9c179e"
             ],
             [
              0.4444444444444444,
              "#bd3786"
             ],
             [
              0.5555555555555556,
              "#d8576b"
             ],
             [
              0.6666666666666666,
              "#ed7953"
             ],
             [
              0.7777777777777778,
              "#fb9f3a"
             ],
             [
              0.8888888888888888,
              "#fdca26"
             ],
             [
              1,
              "#f0f921"
             ]
            ],
            "type": "surface"
           }
          ],
          "table": [
           {
            "cells": {
             "fill": {
              "color": "#EBF0F8"
             },
             "line": {
              "color": "white"
             }
            },
            "header": {
             "fill": {
              "color": "#C8D4E3"
             },
             "line": {
              "color": "white"
             }
            },
            "type": "table"
           }
          ]
         },
         "layout": {
          "annotationdefaults": {
           "arrowcolor": "#2a3f5f",
           "arrowhead": 0,
           "arrowwidth": 1
          },
          "autotypenumbers": "strict",
          "coloraxis": {
           "colorbar": {
            "outlinewidth": 0,
            "ticks": ""
           }
          },
          "colorscale": {
           "diverging": [
            [
             0,
             "#8e0152"
            ],
            [
             0.1,
             "#c51b7d"
            ],
            [
             0.2,
             "#de77ae"
            ],
            [
             0.3,
             "#f1b6da"
            ],
            [
             0.4,
             "#fde0ef"
            ],
            [
             0.5,
             "#f7f7f7"
            ],
            [
             0.6,
             "#e6f5d0"
            ],
            [
             0.7,
             "#b8e186"
            ],
            [
             0.8,
             "#7fbc41"
            ],
            [
             0.9,
             "#4d9221"
            ],
            [
             1,
             "#276419"
            ]
           ],
           "sequential": [
            [
             0,
             "#0d0887"
            ],
            [
             0.1111111111111111,
             "#46039f"
            ],
            [
             0.2222222222222222,
             "#7201a8"
            ],
            [
             0.3333333333333333,
             "#9c179e"
            ],
            [
             0.4444444444444444,
             "#bd3786"
            ],
            [
             0.5555555555555556,
             "#d8576b"
            ],
            [
             0.6666666666666666,
             "#ed7953"
            ],
            [
             0.7777777777777778,
             "#fb9f3a"
            ],
            [
             0.8888888888888888,
             "#fdca26"
            ],
            [
             1,
             "#f0f921"
            ]
           ],
           "sequentialminus": [
            [
             0,
             "#0d0887"
            ],
            [
             0.1111111111111111,
             "#46039f"
            ],
            [
             0.2222222222222222,
             "#7201a8"
            ],
            [
             0.3333333333333333,
             "#9c179e"
            ],
            [
             0.4444444444444444,
             "#bd3786"
            ],
            [
             0.5555555555555556,
             "#d8576b"
            ],
            [
             0.6666666666666666,
             "#ed7953"
            ],
            [
             0.7777777777777778,
             "#fb9f3a"
            ],
            [
             0.8888888888888888,
             "#fdca26"
            ],
            [
             1,
             "#f0f921"
            ]
           ]
          },
          "colorway": [
           "#636efa",
           "#EF553B",
           "#00cc96",
           "#ab63fa",
           "#FFA15A",
           "#19d3f3",
           "#FF6692",
           "#B6E880",
           "#FF97FF",
           "#FECB52"
          ],
          "font": {
           "color": "#2a3f5f"
          },
          "geo": {
           "bgcolor": "white",
           "lakecolor": "white",
           "landcolor": "#E5ECF6",
           "showlakes": true,
           "showland": true,
           "subunitcolor": "white"
          },
          "hoverlabel": {
           "align": "left"
          },
          "hovermode": "closest",
          "mapbox": {
           "style": "light"
          },
          "paper_bgcolor": "white",
          "plot_bgcolor": "#E5ECF6",
          "polar": {
           "angularaxis": {
            "gridcolor": "white",
            "linecolor": "white",
            "ticks": ""
           },
           "bgcolor": "#E5ECF6",
           "radialaxis": {
            "gridcolor": "white",
            "linecolor": "white",
            "ticks": ""
           }
          },
          "scene": {
           "xaxis": {
            "backgroundcolor": "#E5ECF6",
            "gridcolor": "white",
            "gridwidth": 2,
            "linecolor": "white",
            "showbackground": true,
            "ticks": "",
            "zerolinecolor": "white"
           },
           "yaxis": {
            "backgroundcolor": "#E5ECF6",
            "gridcolor": "white",
            "gridwidth": 2,
            "linecolor": "white",
            "showbackground": true,
            "ticks": "",
            "zerolinecolor": "white"
           },
           "zaxis": {
            "backgroundcolor": "#E5ECF6",
            "gridcolor": "white",
            "gridwidth": 2,
            "linecolor": "white",
            "showbackground": true,
            "ticks": "",
            "zerolinecolor": "white"
           }
          },
          "shapedefaults": {
           "line": {
            "color": "#2a3f5f"
           }
          },
          "ternary": {
           "aaxis": {
            "gridcolor": "white",
            "linecolor": "white",
            "ticks": ""
           },
           "baxis": {
            "gridcolor": "white",
            "linecolor": "white",
            "ticks": ""
           },
           "bgcolor": "#E5ECF6",
           "caxis": {
            "gridcolor": "white",
            "linecolor": "white",
            "ticks": ""
           }
          },
          "title": {
           "x": 0.05
          },
          "xaxis": {
           "automargin": true,
           "gridcolor": "white",
           "linecolor": "white",
           "ticks": "",
           "title": {
            "standoff": 15
           },
           "zerolinecolor": "white",
           "zerolinewidth": 2
          },
          "yaxis": {
           "automargin": true,
           "gridcolor": "white",
           "linecolor": "white",
           "ticks": "",
           "title": {
            "standoff": 15
           },
           "zerolinecolor": "white",
           "zerolinewidth": 2
          }
         }
        },
        "title": {
         "text": "Gastos totais dos clientes X Idade"
        },
        "xaxis": {
         "anchor": "y",
         "domain": [
          0,
          1
         ],
         "title": {
          "text": "Gastos totais dos clientes"
         }
        },
        "yaxis": {
         "anchor": "x",
         "domain": [
          0,
          1
         ],
         "title": {
          "text": "Idade"
         }
        }
       }
      },
      "text/html": [
       "<div>                            <div id=\"e38dfff9-84ca-49a2-9342-d9920133b113\" class=\"plotly-graph-div\" style=\"height:525px; width:100%;\"></div>            <script type=\"text/javascript\">                require([\"plotly\"], function(Plotly) {                    window.PLOTLYENV=window.PLOTLYENV || {};                                    if (document.getElementById(\"e38dfff9-84ca-49a2-9342-d9920133b113\")) {                    Plotly.newPlot(                        \"e38dfff9-84ca-49a2-9342-d9920133b113\",                        [{\"customdata\":[[\"Breno Teixeira\"],[\"Davi Gomes\"],[\"Luiz Henrique Pereira\"],[\"Vinicius Gomes\"],[\"Carolina Vieira\"],[\"Paulo Vieira\"],[\"Anthony Rezende\"],[\"Kevin Silveira\"],[\"Srta. Clara Campos\"],[\"Mariana Porto\"],[\"Jo\\u00e3o Gabriel Nunes\"],[\"Thomas Cardoso\"],[\"Sr. Andr\\u00e9 Ribeiro\"],[\"Davi Moura\"],[\"Sr. Paulo Peixoto\"],[\"B\\u00e1rbara Santos\"],[\"Dra. Yasmin Santos\"],[\"Clarice Novaes\"],[\"Fernanda Azevedo\"],[\"Dr. Marcelo Barbosa\"],[\"Vitor Hugo Pires\"],[\"Melissa Cardoso\"],[\"Nat\\u00e1lia da Rosa\"],[\"Bryan Freitas\"],[\"Jo\\u00e3o Felipe Carvalho\"],[\"Vitor Hugo Gomes\"],[\"Luiz Henrique Nunes\"],[\"Fernanda da Cruz\"],[\"Matheus da Luz\"],[\"Kevin Moura\"],[\"Isaac da Cruz\"],[\"Pietro Peixoto\"],[\"Miguel da Rocha\"],[\"Gustavo Henrique Campos\"],[\"Kevin Oliveira\"],[\"Lara Nunes\"],[\"Luigi Nascimento\"],[\"Calebe Cardoso\"],[\"Sra. Maria Sophia Correia\"],[\"Isabelly da Cruz\"],[\"Dr. Vicente Monteiro\"],[\"Eduarda Barbosa\"],[\"Dra. Alana da Rocha\"],[\"Alexandre Silva\"],[\"Carlos Eduardo Silva\"],[\"Alana Pinto\"],[\"Larissa Carvalho\"],[\"Dr. Alexandre Mendes\"],[\"Dr. Francisco Costela\"],[\"Juliana Correia\"],[\"Emanuelly da Mota\"],[\"Beatriz Ramos\"],[\"Dr. Emanuel das Neves\"],[\"Pedro Miguel Rocha\"],[\"Vicente Nunes\"],[\"Esther Fernandes\"],[\"Marcelo Peixoto\"],[\"Emilly Mendes\"],[\"Dr. Murilo Jesus\"],[\"Ian Cunha\"],[\"Enzo Caldeira\"],[\"Maria Eduarda Pereira\"],[\"Valentina Barros\"],[\"Juliana da Concei\\u00e7\\u00e3o\"],[\"Eduarda Teixeira\"],[\"Caroline da Paz\"],[\"Sr. Enzo Gabriel Novaes\"],[\"Nicole Martins\"],[\"Nathan Jesus\"],[\"Luiz Ot\\u00e1vio Lima\"],[\"Isabel Santos\"],[\"Manuela Moraes\"],[\"Dr. Jo\\u00e3o Miguel Monteiro\"],[\"Alexia Cardoso\"],[\"Luiza Barros\"],[\"Luiz Gustavo Azevedo\"],[\"Maria Luiza Peixoto\"],[\"Dr. Davi Luiz Costa\"],[\"Sr. Renan Costela\"],[\"Gustavo Henrique Lima\"],[\"Sr. Thales Freitas\"],[\"Anthony Nascimento\"],[\"Rebeca Novaes\"],[\"Camila Novaes\"],[\"Sr. Luiz Miguel Silveira\"],[\"Helena Cavalcanti\"],[\"Breno Vieira\"],[\"Carolina Duarte\"],[\"Srta. Ana L\\u00edvia Cunha\"],[\"Nina Vieira\"],[\"Larissa Nunes\"],[\"Lara Cardoso\"],[\"Al\\u00edcia Jesus\"],[\"Ana Clara Alves\"],[\"Maria Eduarda Carvalho\"],[\"Alexandre Caldeira\"],[\"Kaique Pereira\"],[\"Sra. Isis Martins\"],[\"Srta. Ana Campos\"],[\"Matheus Martins\"],[\"Diogo da Cruz\"],[\"Clarice Rodrigues\"],[\"B\\u00e1rbara da Paz\"],[\"Enrico Barbosa\"],[\"Fernanda da Rosa\"],[\"Bruno Nascimento\"],[\"Sr. Cau\\u00ea Moreira\"],[\"Alice Vieira\"],[\"Lara Sales\"],[\"Emilly Cardoso\"],[\"Ana J\\u00falia Almeida\"],[\"Luiz Fernando da Cunha\"],[\"La\\u00eds Nascimento\"],[\"Thales Rodrigues\"],[\"Nat\\u00e1lia Ribeiro\"],[\"Alana da Rosa\"],[\"Ana J\\u00falia Pereira\"],[\"Sra. Eloah Ferreira\"],[\"Maria Silva\"],[\"Dra. La\\u00eds Peixoto\"],[\"Yago Costela\"],[\"Isabelly Costa\"],[\"Luiz Henrique da Mata\"],[\"Sophia da Costa\"],[\"Luiz Fernando Vieira\"],[\"Pedro Correia\"],[\"Juan da Costa\"],[\"Juliana das Neves\"],[\"Ben\\u00edcio Caldeira\"],[\"Ben\\u00edcio da Rosa\"],[\"Ana Clara Moura\"],[\"Ana Clara Lima\"],[\"Calebe da Costa\"],[\"Amanda Mendes\"],[\"Caroline Nogueira\"],[\"Luigi Porto\"],[\"Ana Vit\\u00f3ria Ara\\u00fajo\"],[\"Ana Carolina Caldeira\"],[\"Davi Caldeira\"],[\"Luiz Ot\\u00e1vio Moreira\"],[\"Lucas Nascimento\"],[\"Mariane Monteiro\"],[\"Srta. Emanuelly Foga\\u00e7a\"],[\"Juan Pereira\"],[\"Diogo Martins\"],[\"Fernanda Pinto\"],[\"Sra. Milena Viana\"],[\"Sr. Emanuel Moraes\"],[\"Maria Cec\\u00edlia da Costa\"],[\"Luiza Ribeiro\"],[\"Bruna da Luz\"],[\"Kaique Peixoto\"],[\"Let\\u00edcia da Paz\"],[\"Olivia da Rocha\"],[\"Maysa Costa\"],[\"Lorena Alves\"],[\"Stella Santos\"],[\"Carlos Eduardo Nunes\"],[\"Manuela Monteiro\"],[\"Dr. Gustavo Alves\"],[\"Let\\u00edcia Moreira\"],[\"Bruna Teixeira\"],[\"Fernanda Silva\"],[\"Pedro Foga\\u00e7a\"],[\"Gabrielly Cavalcanti\"],[\"Let\\u00edcia Cardoso\"],[\"Raquel Campos\"],[\"Nat\\u00e1lia da Cunha\"],[\"Esther Carvalho\"],[\"Gabriela Gomes\"],[\"Sr. Luiz Fernando Dias\"],[\"Leandro Lopes\"],[\"Ana L\\u00edvia Ramos\"],[\"Calebe Lima\"],[\"Thales Caldeira\"],[\"Sr. Pedro Miguel Farias\"],[\"Jo\\u00e3o da Paz\"],[\"Lucca Castro\"],[\"Sr. Vitor da Mata\"],[\"Dr. Daniel Sales\"],[\"Lucca Duarte\"],[\"Ryan Carvalho\"],[\"Dra. Pietra Duarte\"],[\"Esther Moraes\"],[\"Srta. Ana Sophia da Rocha\"],[\"Dr. Davi Gomes\"],[\"Camila Monteiro\"],[\"Emanuelly da Cruz\"],[\"Enzo Gabriel Nascimento\"]],\"hovertemplate\":\"Total gasto pelo cliente=%{x}<br>Idade=%{y}<br>Nome do cliente=%{customdata[0]}<extra></extra>\",\"legendgroup\":\"\",\"marker\":{\"color\":\"#00CC96\",\"symbol\":\"circle\"},\"mode\":\"markers\",\"name\":\"\",\"orientation\":\"v\",\"showlegend\":false,\"type\":\"scatter\",\"x\":[860.94,1562.57,1737.5900000000008,451.12000000000006,2630.919999999999,256.16,1425.42,597.0100000000001,106.78999999999999,286.5199999999999,811.1400000000001,1316.6900000000003,626.5400000000001,22.38,487.42,1044.6300000000003,523.0300000000001,628.84,573.07,372.06999999999994,1444.9000000000005,798.34,530.99,1195.3100000000002,635.44,1116.4000000000003,1459.7700000000002,796.4500000000002,1944.5500000000002,521.13,995.9200000000002,685.8499999999999,858.79,850.9700000000003,786.5800000000002,780.0600000000003,834.32,253.31,1824.9900000000005,1217.79,3001.5199999999995,633.1600000000001,243.07999999999996,984.0500000000001,955.5200000000003,1770.6400000000003,1109.9500000000003,137.91,1334.73,100.87,89.94999999999999,163.78,432.6899999999999,547.2299999999999,819.7900000000001,1039.91,657.11,299.72,484.59000000000003,441.17,744.8000000000001,255.23999999999998,1299.3899999999999,769.0300000000001,927.8600000000001,668.21,2321.4300000000007,408.2900000000001,359.19,779.94,654.5200000000002,2123.1800000000007,1054.97,330.46000000000004,646.7,1263.6200000000001,46.9,20.97,65.97,194.76,20.97,303.0900000000001,1028.37,1243.9900000000002,229.79999999999998,1198.9500000000003,453.13,641.4700000000001,1126.2400000000005,965.3300000000002,351.63,602.88,815.1700000000001,511.55999999999995,344.25,1036.65,1344.5500000000002,1084.6100000000006,544.19,998.8600000000001,560.75,26.8,26.8,42.47,443.66,1028.16,546.6500000000001,1105.1200000000001,627.08,638.74,680.14,539.67,504.32000000000005,832.5200000000001,708.44,298.59,715.1400000000001,601.8800000000001,513.5999999999999,191.92,23.99,1221.9700000000003,291.53000000000003,630.0,313.5799999999999,248.89,670.28,668.0,1402.5100000000002,2847.53,158.94,211.49999999999997,23.18,10.41,75.73,3.92,1573.1300000000003,1063.0600000000002,890.21,471.79,29.22,586.2800000000001,370.65,89.96000000000001,83.77,530.97,344.0,981.0800000000002,1119.63,32.89,23.229999999999997,51.769999999999996,51.44,25.349999999999998,569.64,182.37999999999997,676.6000000000001,86.93,401.4,161.41,47.97,47.97,19.090000000000003,10.8,77.06,5.4,111.28999999999999,561.9100000000001,437.47,199.81,262.90999999999997,3.99,35.93,63.76,9.69,130.13,46.87,39.129999999999995,87.96,103.93,47.92,43.96,24.46,7.4399999999999995,3.87,95.96,47.98,141.78,105.0],\"xaxis\":\"x\",\"y\":[42,69,26,38,20,27,39,21,60,54,64,60,52,58,58,20,69,73,42,71,49,53,61,52,28,53,18,49,34,58,42,25,43,25,36,71,45,51,24,69,69,65,29,37,71,48,33,65,57,65,30,20,51,26,67,33,62,18,72,42,66,46,23,59,18,31,28,61,42,44,45,69,34,39,61,69,21,56,52,41,62,50,27,53,37,60,65,40,71,68,22,61,70,48,44,51,47,58,27,56,42,21,69,19,30,34,60,42,44,37,60,64,44,66,20,48,47,65,71,57,27,59,35,42,60,55,59,29,42,64,61,25,40,44,45,63,20,22,22,18,71,23,58,49,59,35,44,40,39,56,39,34,57,43,59,23,33,52,46,28,57,44,55,46,50,44,42,58,57,45,45,39,58,59,56,59,64,27,68,31,37,71,19,23,27,52,28,43,57],\"yaxis\":\"y\"}],                        {\"legend\":{\"tracegroupgap\":0},\"margin\":{\"t\":60},\"template\":{\"data\":{\"bar\":[{\"error_x\":{\"color\":\"#2a3f5f\"},\"error_y\":{\"color\":\"#2a3f5f\"},\"marker\":{\"line\":{\"color\":\"#E5ECF6\",\"width\":0.5},\"pattern\":{\"fillmode\":\"overlay\",\"size\":10,\"solidity\":0.2}},\"type\":\"bar\"}],\"barpolar\":[{\"marker\":{\"line\":{\"color\":\"#E5ECF6\",\"width\":0.5},\"pattern\":{\"fillmode\":\"overlay\",\"size\":10,\"solidity\":0.2}},\"type\":\"barpolar\"}],\"carpet\":[{\"aaxis\":{\"endlinecolor\":\"#2a3f5f\",\"gridcolor\":\"white\",\"linecolor\":\"white\",\"minorgridcolor\":\"white\",\"startlinecolor\":\"#2a3f5f\"},\"baxis\":{\"endlinecolor\":\"#2a3f5f\",\"gridcolor\":\"white\",\"linecolor\":\"white\",\"minorgridcolor\":\"white\",\"startlinecolor\":\"#2a3f5f\"},\"type\":\"carpet\"}],\"choropleth\":[{\"colorbar\":{\"outlinewidth\":0,\"ticks\":\"\"},\"type\":\"choropleth\"}],\"contour\":[{\"colorbar\":{\"outlinewidth\":0,\"ticks\":\"\"},\"colorscale\":[[0.0,\"#0d0887\"],[0.1111111111111111,\"#46039f\"],[0.2222222222222222,\"#7201a8\"],[0.3333333333333333,\"#9c179e\"],[0.4444444444444444,\"#bd3786\"],[0.5555555555555556,\"#d8576b\"],[0.6666666666666666,\"#ed7953\"],[0.7777777777777778,\"#fb9f3a\"],[0.8888888888888888,\"#fdca26\"],[1.0,\"#f0f921\"]],\"type\":\"contour\"}],\"contourcarpet\":[{\"colorbar\":{\"outlinewidth\":0,\"ticks\":\"\"},\"type\":\"contourcarpet\"}],\"heatmap\":[{\"colorbar\":{\"outlinewidth\":0,\"ticks\":\"\"},\"colorscale\":[[0.0,\"#0d0887\"],[0.1111111111111111,\"#46039f\"],[0.2222222222222222,\"#7201a8\"],[0.3333333333333333,\"#9c179e\"],[0.4444444444444444,\"#bd3786\"],[0.5555555555555556,\"#d8576b\"],[0.6666666666666666,\"#ed7953\"],[0.7777777777777778,\"#fb9f3a\"],[0.8888888888888888,\"#fdca26\"],[1.0,\"#f0f921\"]],\"type\":\"heatmap\"}],\"heatmapgl\":[{\"colorbar\":{\"outlinewidth\":0,\"ticks\":\"\"},\"colorscale\":[[0.0,\"#0d0887\"],[0.1111111111111111,\"#46039f\"],[0.2222222222222222,\"#7201a8\"],[0.3333333333333333,\"#9c179e\"],[0.4444444444444444,\"#bd3786\"],[0.5555555555555556,\"#d8576b\"],[0.6666666666666666,\"#ed7953\"],[0.7777777777777778,\"#fb9f3a\"],[0.8888888888888888,\"#fdca26\"],[1.0,\"#f0f921\"]],\"type\":\"heatmapgl\"}],\"histogram\":[{\"marker\":{\"pattern\":{\"fillmode\":\"overlay\",\"size\":10,\"solidity\":0.2}},\"type\":\"histogram\"}],\"histogram2d\":[{\"colorbar\":{\"outlinewidth\":0,\"ticks\":\"\"},\"colorscale\":[[0.0,\"#0d0887\"],[0.1111111111111111,\"#46039f\"],[0.2222222222222222,\"#7201a8\"],[0.3333333333333333,\"#9c179e\"],[0.4444444444444444,\"#bd3786\"],[0.5555555555555556,\"#d8576b\"],[0.6666666666666666,\"#ed7953\"],[0.7777777777777778,\"#fb9f3a\"],[0.8888888888888888,\"#fdca26\"],[1.0,\"#f0f921\"]],\"type\":\"histogram2d\"}],\"histogram2dcontour\":[{\"colorbar\":{\"outlinewidth\":0,\"ticks\":\"\"},\"colorscale\":[[0.0,\"#0d0887\"],[0.1111111111111111,\"#46039f\"],[0.2222222222222222,\"#7201a8\"],[0.3333333333333333,\"#9c179e\"],[0.4444444444444444,\"#bd3786\"],[0.5555555555555556,\"#d8576b\"],[0.6666666666666666,\"#ed7953\"],[0.7777777777777778,\"#fb9f3a\"],[0.8888888888888888,\"#fdca26\"],[1.0,\"#f0f921\"]],\"type\":\"histogram2dcontour\"}],\"mesh3d\":[{\"colorbar\":{\"outlinewidth\":0,\"ticks\":\"\"},\"type\":\"mesh3d\"}],\"parcoords\":[{\"line\":{\"colorbar\":{\"outlinewidth\":0,\"ticks\":\"\"}},\"type\":\"parcoords\"}],\"pie\":[{\"automargin\":true,\"type\":\"pie\"}],\"scatter\":[{\"marker\":{\"colorbar\":{\"outlinewidth\":0,\"ticks\":\"\"}},\"type\":\"scatter\"}],\"scatter3d\":[{\"line\":{\"colorbar\":{\"outlinewidth\":0,\"ticks\":\"\"}},\"marker\":{\"colorbar\":{\"outlinewidth\":0,\"ticks\":\"\"}},\"type\":\"scatter3d\"}],\"scattercarpet\":[{\"marker\":{\"colorbar\":{\"outlinewidth\":0,\"ticks\":\"\"}},\"type\":\"scattercarpet\"}],\"scattergeo\":[{\"marker\":{\"colorbar\":{\"outlinewidth\":0,\"ticks\":\"\"}},\"type\":\"scattergeo\"}],\"scattergl\":[{\"marker\":{\"colorbar\":{\"outlinewidth\":0,\"ticks\":\"\"}},\"type\":\"scattergl\"}],\"scattermapbox\":[{\"marker\":{\"colorbar\":{\"outlinewidth\":0,\"ticks\":\"\"}},\"type\":\"scattermapbox\"}],\"scatterpolar\":[{\"marker\":{\"colorbar\":{\"outlinewidth\":0,\"ticks\":\"\"}},\"type\":\"scatterpolar\"}],\"scatterpolargl\":[{\"marker\":{\"colorbar\":{\"outlinewidth\":0,\"ticks\":\"\"}},\"type\":\"scatterpolargl\"}],\"scatterternary\":[{\"marker\":{\"colorbar\":{\"outlinewidth\":0,\"ticks\":\"\"}},\"type\":\"scatterternary\"}],\"surface\":[{\"colorbar\":{\"outlinewidth\":0,\"ticks\":\"\"},\"colorscale\":[[0.0,\"#0d0887\"],[0.1111111111111111,\"#46039f\"],[0.2222222222222222,\"#7201a8\"],[0.3333333333333333,\"#9c179e\"],[0.4444444444444444,\"#bd3786\"],[0.5555555555555556,\"#d8576b\"],[0.6666666666666666,\"#ed7953\"],[0.7777777777777778,\"#fb9f3a\"],[0.8888888888888888,\"#fdca26\"],[1.0,\"#f0f921\"]],\"type\":\"surface\"}],\"table\":[{\"cells\":{\"fill\":{\"color\":\"#EBF0F8\"},\"line\":{\"color\":\"white\"}},\"header\":{\"fill\":{\"color\":\"#C8D4E3\"},\"line\":{\"color\":\"white\"}},\"type\":\"table\"}]},\"layout\":{\"annotationdefaults\":{\"arrowcolor\":\"#2a3f5f\",\"arrowhead\":0,\"arrowwidth\":1},\"autotypenumbers\":\"strict\",\"coloraxis\":{\"colorbar\":{\"outlinewidth\":0,\"ticks\":\"\"}},\"colorscale\":{\"diverging\":[[0,\"#8e0152\"],[0.1,\"#c51b7d\"],[0.2,\"#de77ae\"],[0.3,\"#f1b6da\"],[0.4,\"#fde0ef\"],[0.5,\"#f7f7f7\"],[0.6,\"#e6f5d0\"],[0.7,\"#b8e186\"],[0.8,\"#7fbc41\"],[0.9,\"#4d9221\"],[1,\"#276419\"]],\"sequential\":[[0.0,\"#0d0887\"],[0.1111111111111111,\"#46039f\"],[0.2222222222222222,\"#7201a8\"],[0.3333333333333333,\"#9c179e\"],[0.4444444444444444,\"#bd3786\"],[0.5555555555555556,\"#d8576b\"],[0.6666666666666666,\"#ed7953\"],[0.7777777777777778,\"#fb9f3a\"],[0.8888888888888888,\"#fdca26\"],[1.0,\"#f0f921\"]],\"sequentialminus\":[[0.0,\"#0d0887\"],[0.1111111111111111,\"#46039f\"],[0.2222222222222222,\"#7201a8\"],[0.3333333333333333,\"#9c179e\"],[0.4444444444444444,\"#bd3786\"],[0.5555555555555556,\"#d8576b\"],[0.6666666666666666,\"#ed7953\"],[0.7777777777777778,\"#fb9f3a\"],[0.8888888888888888,\"#fdca26\"],[1.0,\"#f0f921\"]]},\"colorway\":[\"#636efa\",\"#EF553B\",\"#00cc96\",\"#ab63fa\",\"#FFA15A\",\"#19d3f3\",\"#FF6692\",\"#B6E880\",\"#FF97FF\",\"#FECB52\"],\"font\":{\"color\":\"#2a3f5f\"},\"geo\":{\"bgcolor\":\"white\",\"lakecolor\":\"white\",\"landcolor\":\"#E5ECF6\",\"showlakes\":true,\"showland\":true,\"subunitcolor\":\"white\"},\"hoverlabel\":{\"align\":\"left\"},\"hovermode\":\"closest\",\"mapbox\":{\"style\":\"light\"},\"paper_bgcolor\":\"white\",\"plot_bgcolor\":\"#E5ECF6\",\"polar\":{\"angularaxis\":{\"gridcolor\":\"white\",\"linecolor\":\"white\",\"ticks\":\"\"},\"bgcolor\":\"#E5ECF6\",\"radialaxis\":{\"gridcolor\":\"white\",\"linecolor\":\"white\",\"ticks\":\"\"}},\"scene\":{\"xaxis\":{\"backgroundcolor\":\"#E5ECF6\",\"gridcolor\":\"white\",\"gridwidth\":2,\"linecolor\":\"white\",\"showbackground\":true,\"ticks\":\"\",\"zerolinecolor\":\"white\"},\"yaxis\":{\"backgroundcolor\":\"#E5ECF6\",\"gridcolor\":\"white\",\"gridwidth\":2,\"linecolor\":\"white\",\"showbackground\":true,\"ticks\":\"\",\"zerolinecolor\":\"white\"},\"zaxis\":{\"backgroundcolor\":\"#E5ECF6\",\"gridcolor\":\"white\",\"gridwidth\":2,\"linecolor\":\"white\",\"showbackground\":true,\"ticks\":\"\",\"zerolinecolor\":\"white\"}},\"shapedefaults\":{\"line\":{\"color\":\"#2a3f5f\"}},\"ternary\":{\"aaxis\":{\"gridcolor\":\"white\",\"linecolor\":\"white\",\"ticks\":\"\"},\"baxis\":{\"gridcolor\":\"white\",\"linecolor\":\"white\",\"ticks\":\"\"},\"bgcolor\":\"#E5ECF6\",\"caxis\":{\"gridcolor\":\"white\",\"linecolor\":\"white\",\"ticks\":\"\"}},\"title\":{\"x\":0.05},\"xaxis\":{\"automargin\":true,\"gridcolor\":\"white\",\"linecolor\":\"white\",\"ticks\":\"\",\"title\":{\"standoff\":15},\"zerolinecolor\":\"white\",\"zerolinewidth\":2},\"yaxis\":{\"automargin\":true,\"gridcolor\":\"white\",\"linecolor\":\"white\",\"ticks\":\"\",\"title\":{\"standoff\":15},\"zerolinecolor\":\"white\",\"zerolinewidth\":2}}},\"title\":{\"text\":\"Gastos totais dos clientes X Idade\"},\"xaxis\":{\"anchor\":\"y\",\"domain\":[0.0,1.0],\"title\":{\"text\":\"Gastos totais dos clientes\"}},\"yaxis\":{\"anchor\":\"x\",\"domain\":[0.0,1.0],\"title\":{\"text\":\"Idade\"}}},                        {\"responsive\": true}                    ).then(function(){\n",
       "                            \n",
       "var gd = document.getElementById('e38dfff9-84ca-49a2-9342-d9920133b113');\n",
       "var x = new MutationObserver(function (mutations, observer) {{\n",
       "        var display = window.getComputedStyle(gd).display;\n",
       "        if (!display || display === 'none') {{\n",
       "            console.log([gd, 'removed!']);\n",
       "            Plotly.purge(gd);\n",
       "            observer.disconnect();\n",
       "        }}\n",
       "}});\n",
       "\n",
       "// Listen for the removal of the full notebook cells\n",
       "var notebookContainer = gd.closest('#notebook-container');\n",
       "if (notebookContainer) {{\n",
       "    x.observe(notebookContainer, {childList: true});\n",
       "}}\n",
       "\n",
       "// Listen for the clearing of the current output cell\n",
       "var outputEl = gd.closest('.output');\n",
       "if (outputEl) {{\n",
       "    x.observe(outputEl, {childList: true});\n",
       "}}\n",
       "\n",
       "                        })                };                });            </script>        </div>"
      ]
     },
     "metadata": {},
     "output_type": "display_data"
    }
   ],
   "source": [
    "#pltagem de um gráfico de disperção relacionado preço e estoque\n",
    "fig_gasto_idade=px.scatter(tabela_cliente_gasto_idade, x = \"total_mes\", y = \"idade\",hover_data=['nome_cliente'], labels={\"total_mes\": \"Total gasto pelo cliente\", \"idade\": \"Idade\", \"nome_cliente\":\"Nome do cliente\" })\n",
    "fig_gasto_idade.update_traces(marker = {'color': '#00CC96'})\n",
    "fig_gasto_idade.update_layout(title = 'Gastos totais dos clientes X Idade')\n",
    "fig_gasto_idade.update_xaxes(title = 'Gastos totais dos clientes')\n",
    "fig_gasto_idade.update_yaxes(title = 'Idade')\n",
    "fig_gasto_idade.show()"
   ]
  },
  {
   "cell_type": "code",
   "execution_count": 32,
   "id": "9d0163f7",
   "metadata": {},
   "outputs": [
    {
     "data": {
      "application/vnd.plotly.v1+json": {
       "config": {
        "plotlyServerURL": "https://plot.ly"
       },
       "data": [
        {
         "alignmentgroup": "True",
         "hovertemplate": "variable=%{x}<br>value=%{y}<extra></extra>",
         "legendgroup": "",
         "marker": {
          "color": "#00CC96"
         },
         "name": "",
         "notched": false,
         "offsetgroup": "",
         "orientation": "v",
         "showlegend": false,
         "type": "box",
         "x": [
          "idade",
          "idade",
          "idade",
          "idade",
          "idade",
          "idade",
          "idade",
          "idade",
          "idade",
          "idade",
          "idade",
          "idade",
          "idade",
          "idade",
          "idade",
          "idade",
          "idade",
          "idade",
          "idade",
          "idade",
          "idade",
          "idade",
          "idade",
          "idade",
          "idade",
          "idade",
          "idade",
          "idade",
          "idade",
          "idade",
          "idade",
          "idade",
          "idade",
          "idade",
          "idade",
          "idade",
          "idade",
          "idade",
          "idade",
          "idade",
          "idade",
          "idade",
          "idade",
          "idade",
          "idade",
          "idade",
          "idade",
          "idade",
          "idade",
          "idade",
          "idade",
          "idade",
          "idade",
          "idade",
          "idade",
          "idade",
          "idade",
          "idade",
          "idade",
          "idade",
          "idade",
          "idade",
          "idade",
          "idade",
          "idade",
          "idade",
          "idade",
          "idade",
          "idade",
          "idade",
          "idade",
          "idade",
          "idade",
          "idade",
          "idade",
          "idade",
          "idade",
          "idade",
          "idade",
          "idade",
          "idade",
          "idade",
          "idade",
          "idade",
          "idade",
          "idade",
          "idade",
          "idade",
          "idade",
          "idade",
          "idade",
          "idade",
          "idade",
          "idade",
          "idade",
          "idade",
          "idade",
          "idade",
          "idade",
          "idade",
          "idade",
          "idade",
          "idade",
          "idade",
          "idade",
          "idade",
          "idade",
          "idade",
          "idade",
          "idade",
          "idade",
          "idade",
          "idade",
          "idade",
          "idade",
          "idade",
          "idade",
          "idade",
          "idade",
          "idade",
          "idade",
          "idade",
          "idade",
          "idade",
          "idade",
          "idade",
          "idade",
          "idade",
          "idade",
          "idade",
          "idade",
          "idade",
          "idade",
          "idade",
          "idade",
          "idade",
          "idade",
          "idade",
          "idade",
          "idade",
          "idade",
          "idade",
          "idade",
          "idade",
          "idade",
          "idade",
          "idade",
          "idade",
          "idade",
          "idade",
          "idade",
          "idade",
          "idade",
          "idade",
          "idade",
          "idade",
          "idade",
          "idade",
          "idade",
          "idade",
          "idade",
          "idade",
          "idade",
          "idade",
          "idade",
          "idade",
          "idade",
          "idade",
          "idade",
          "idade",
          "idade",
          "idade",
          "idade",
          "idade",
          "idade",
          "idade",
          "idade",
          "idade",
          "idade",
          "idade",
          "idade",
          "idade",
          "idade",
          "idade",
          "idade",
          "idade",
          "idade",
          "idade",
          "idade"
         ],
         "x0": " ",
         "xaxis": "x",
         "y": [
          42,
          69,
          26,
          38,
          20,
          27,
          39,
          21,
          60,
          54,
          64,
          60,
          52,
          58,
          58,
          20,
          69,
          73,
          42,
          71,
          49,
          53,
          61,
          52,
          28,
          53,
          18,
          49,
          34,
          58,
          42,
          25,
          43,
          25,
          36,
          71,
          45,
          51,
          24,
          69,
          69,
          65,
          29,
          37,
          71,
          48,
          33,
          65,
          57,
          65,
          30,
          20,
          51,
          26,
          67,
          33,
          62,
          18,
          72,
          42,
          66,
          46,
          23,
          59,
          18,
          31,
          28,
          61,
          42,
          44,
          45,
          69,
          34,
          39,
          61,
          69,
          21,
          56,
          52,
          41,
          62,
          50,
          27,
          53,
          37,
          60,
          65,
          40,
          71,
          68,
          22,
          61,
          70,
          48,
          44,
          51,
          47,
          58,
          27,
          56,
          42,
          21,
          69,
          19,
          30,
          34,
          60,
          42,
          44,
          37,
          60,
          64,
          44,
          66,
          20,
          48,
          47,
          65,
          71,
          57,
          27,
          59,
          35,
          42,
          60,
          55,
          59,
          29,
          42,
          64,
          61,
          25,
          40,
          44,
          45,
          63,
          20,
          22,
          22,
          18,
          71,
          23,
          58,
          49,
          59,
          35,
          44,
          40,
          39,
          56,
          39,
          34,
          57,
          43,
          59,
          23,
          33,
          52,
          46,
          28,
          57,
          44,
          55,
          46,
          50,
          44,
          42,
          58,
          57,
          45,
          45,
          39,
          58,
          59,
          56,
          59,
          64,
          27,
          68,
          31,
          37,
          71,
          19,
          23,
          27,
          52,
          28,
          43,
          57
         ],
         "y0": " ",
         "yaxis": "y"
        }
       ],
       "layout": {
        "boxmode": "group",
        "legend": {
         "tracegroupgap": 0
        },
        "margin": {
         "t": 60
        },
        "template": {
         "data": {
          "bar": [
           {
            "error_x": {
             "color": "#2a3f5f"
            },
            "error_y": {
             "color": "#2a3f5f"
            },
            "marker": {
             "line": {
              "color": "#E5ECF6",
              "width": 0.5
             },
             "pattern": {
              "fillmode": "overlay",
              "size": 10,
              "solidity": 0.2
             }
            },
            "type": "bar"
           }
          ],
          "barpolar": [
           {
            "marker": {
             "line": {
              "color": "#E5ECF6",
              "width": 0.5
             },
             "pattern": {
              "fillmode": "overlay",
              "size": 10,
              "solidity": 0.2
             }
            },
            "type": "barpolar"
           }
          ],
          "carpet": [
           {
            "aaxis": {
             "endlinecolor": "#2a3f5f",
             "gridcolor": "white",
             "linecolor": "white",
             "minorgridcolor": "white",
             "startlinecolor": "#2a3f5f"
            },
            "baxis": {
             "endlinecolor": "#2a3f5f",
             "gridcolor": "white",
             "linecolor": "white",
             "minorgridcolor": "white",
             "startlinecolor": "#2a3f5f"
            },
            "type": "carpet"
           }
          ],
          "choropleth": [
           {
            "colorbar": {
             "outlinewidth": 0,
             "ticks": ""
            },
            "type": "choropleth"
           }
          ],
          "contour": [
           {
            "colorbar": {
             "outlinewidth": 0,
             "ticks": ""
            },
            "colorscale": [
             [
              0,
              "#0d0887"
             ],
             [
              0.1111111111111111,
              "#46039f"
             ],
             [
              0.2222222222222222,
              "#7201a8"
             ],
             [
              0.3333333333333333,
              "#9c179e"
             ],
             [
              0.4444444444444444,
              "#bd3786"
             ],
             [
              0.5555555555555556,
              "#d8576b"
             ],
             [
              0.6666666666666666,
              "#ed7953"
             ],
             [
              0.7777777777777778,
              "#fb9f3a"
             ],
             [
              0.8888888888888888,
              "#fdca26"
             ],
             [
              1,
              "#f0f921"
             ]
            ],
            "type": "contour"
           }
          ],
          "contourcarpet": [
           {
            "colorbar": {
             "outlinewidth": 0,
             "ticks": ""
            },
            "type": "contourcarpet"
           }
          ],
          "heatmap": [
           {
            "colorbar": {
             "outlinewidth": 0,
             "ticks": ""
            },
            "colorscale": [
             [
              0,
              "#0d0887"
             ],
             [
              0.1111111111111111,
              "#46039f"
             ],
             [
              0.2222222222222222,
              "#7201a8"
             ],
             [
              0.3333333333333333,
              "#9c179e"
             ],
             [
              0.4444444444444444,
              "#bd3786"
             ],
             [
              0.5555555555555556,
              "#d8576b"
             ],
             [
              0.6666666666666666,
              "#ed7953"
             ],
             [
              0.7777777777777778,
              "#fb9f3a"
             ],
             [
              0.8888888888888888,
              "#fdca26"
             ],
             [
              1,
              "#f0f921"
             ]
            ],
            "type": "heatmap"
           }
          ],
          "heatmapgl": [
           {
            "colorbar": {
             "outlinewidth": 0,
             "ticks": ""
            },
            "colorscale": [
             [
              0,
              "#0d0887"
             ],
             [
              0.1111111111111111,
              "#46039f"
             ],
             [
              0.2222222222222222,
              "#7201a8"
             ],
             [
              0.3333333333333333,
              "#9c179e"
             ],
             [
              0.4444444444444444,
              "#bd3786"
             ],
             [
              0.5555555555555556,
              "#d8576b"
             ],
             [
              0.6666666666666666,
              "#ed7953"
             ],
             [
              0.7777777777777778,
              "#fb9f3a"
             ],
             [
              0.8888888888888888,
              "#fdca26"
             ],
             [
              1,
              "#f0f921"
             ]
            ],
            "type": "heatmapgl"
           }
          ],
          "histogram": [
           {
            "marker": {
             "pattern": {
              "fillmode": "overlay",
              "size": 10,
              "solidity": 0.2
             }
            },
            "type": "histogram"
           }
          ],
          "histogram2d": [
           {
            "colorbar": {
             "outlinewidth": 0,
             "ticks": ""
            },
            "colorscale": [
             [
              0,
              "#0d0887"
             ],
             [
              0.1111111111111111,
              "#46039f"
             ],
             [
              0.2222222222222222,
              "#7201a8"
             ],
             [
              0.3333333333333333,
              "#9c179e"
             ],
             [
              0.4444444444444444,
              "#bd3786"
             ],
             [
              0.5555555555555556,
              "#d8576b"
             ],
             [
              0.6666666666666666,
              "#ed7953"
             ],
             [
              0.7777777777777778,
              "#fb9f3a"
             ],
             [
              0.8888888888888888,
              "#fdca26"
             ],
             [
              1,
              "#f0f921"
             ]
            ],
            "type": "histogram2d"
           }
          ],
          "histogram2dcontour": [
           {
            "colorbar": {
             "outlinewidth": 0,
             "ticks": ""
            },
            "colorscale": [
             [
              0,
              "#0d0887"
             ],
             [
              0.1111111111111111,
              "#46039f"
             ],
             [
              0.2222222222222222,
              "#7201a8"
             ],
             [
              0.3333333333333333,
              "#9c179e"
             ],
             [
              0.4444444444444444,
              "#bd3786"
             ],
             [
              0.5555555555555556,
              "#d8576b"
             ],
             [
              0.6666666666666666,
              "#ed7953"
             ],
             [
              0.7777777777777778,
              "#fb9f3a"
             ],
             [
              0.8888888888888888,
              "#fdca26"
             ],
             [
              1,
              "#f0f921"
             ]
            ],
            "type": "histogram2dcontour"
           }
          ],
          "mesh3d": [
           {
            "colorbar": {
             "outlinewidth": 0,
             "ticks": ""
            },
            "type": "mesh3d"
           }
          ],
          "parcoords": [
           {
            "line": {
             "colorbar": {
              "outlinewidth": 0,
              "ticks": ""
             }
            },
            "type": "parcoords"
           }
          ],
          "pie": [
           {
            "automargin": true,
            "type": "pie"
           }
          ],
          "scatter": [
           {
            "marker": {
             "colorbar": {
              "outlinewidth": 0,
              "ticks": ""
             }
            },
            "type": "scatter"
           }
          ],
          "scatter3d": [
           {
            "line": {
             "colorbar": {
              "outlinewidth": 0,
              "ticks": ""
             }
            },
            "marker": {
             "colorbar": {
              "outlinewidth": 0,
              "ticks": ""
             }
            },
            "type": "scatter3d"
           }
          ],
          "scattercarpet": [
           {
            "marker": {
             "colorbar": {
              "outlinewidth": 0,
              "ticks": ""
             }
            },
            "type": "scattercarpet"
           }
          ],
          "scattergeo": [
           {
            "marker": {
             "colorbar": {
              "outlinewidth": 0,
              "ticks": ""
             }
            },
            "type": "scattergeo"
           }
          ],
          "scattergl": [
           {
            "marker": {
             "colorbar": {
              "outlinewidth": 0,
              "ticks": ""
             }
            },
            "type": "scattergl"
           }
          ],
          "scattermapbox": [
           {
            "marker": {
             "colorbar": {
              "outlinewidth": 0,
              "ticks": ""
             }
            },
            "type": "scattermapbox"
           }
          ],
          "scatterpolar": [
           {
            "marker": {
             "colorbar": {
              "outlinewidth": 0,
              "ticks": ""
             }
            },
            "type": "scatterpolar"
           }
          ],
          "scatterpolargl": [
           {
            "marker": {
             "colorbar": {
              "outlinewidth": 0,
              "ticks": ""
             }
            },
            "type": "scatterpolargl"
           }
          ],
          "scatterternary": [
           {
            "marker": {
             "colorbar": {
              "outlinewidth": 0,
              "ticks": ""
             }
            },
            "type": "scatterternary"
           }
          ],
          "surface": [
           {
            "colorbar": {
             "outlinewidth": 0,
             "ticks": ""
            },
            "colorscale": [
             [
              0,
              "#0d0887"
             ],
             [
              0.1111111111111111,
              "#46039f"
             ],
             [
              0.2222222222222222,
              "#7201a8"
             ],
             [
              0.3333333333333333,
              "#9c179e"
             ],
             [
              0.4444444444444444,
              "#bd3786"
             ],
             [
              0.5555555555555556,
              "#d8576b"
             ],
             [
              0.6666666666666666,
              "#ed7953"
             ],
             [
              0.7777777777777778,
              "#fb9f3a"
             ],
             [
              0.8888888888888888,
              "#fdca26"
             ],
             [
              1,
              "#f0f921"
             ]
            ],
            "type": "surface"
           }
          ],
          "table": [
           {
            "cells": {
             "fill": {
              "color": "#EBF0F8"
             },
             "line": {
              "color": "white"
             }
            },
            "header": {
             "fill": {
              "color": "#C8D4E3"
             },
             "line": {
              "color": "white"
             }
            },
            "type": "table"
           }
          ]
         },
         "layout": {
          "annotationdefaults": {
           "arrowcolor": "#2a3f5f",
           "arrowhead": 0,
           "arrowwidth": 1
          },
          "autotypenumbers": "strict",
          "coloraxis": {
           "colorbar": {
            "outlinewidth": 0,
            "ticks": ""
           }
          },
          "colorscale": {
           "diverging": [
            [
             0,
             "#8e0152"
            ],
            [
             0.1,
             "#c51b7d"
            ],
            [
             0.2,
             "#de77ae"
            ],
            [
             0.3,
             "#f1b6da"
            ],
            [
             0.4,
             "#fde0ef"
            ],
            [
             0.5,
             "#f7f7f7"
            ],
            [
             0.6,
             "#e6f5d0"
            ],
            [
             0.7,
             "#b8e186"
            ],
            [
             0.8,
             "#7fbc41"
            ],
            [
             0.9,
             "#4d9221"
            ],
            [
             1,
             "#276419"
            ]
           ],
           "sequential": [
            [
             0,
             "#0d0887"
            ],
            [
             0.1111111111111111,
             "#46039f"
            ],
            [
             0.2222222222222222,
             "#7201a8"
            ],
            [
             0.3333333333333333,
             "#9c179e"
            ],
            [
             0.4444444444444444,
             "#bd3786"
            ],
            [
             0.5555555555555556,
             "#d8576b"
            ],
            [
             0.6666666666666666,
             "#ed7953"
            ],
            [
             0.7777777777777778,
             "#fb9f3a"
            ],
            [
             0.8888888888888888,
             "#fdca26"
            ],
            [
             1,
             "#f0f921"
            ]
           ],
           "sequentialminus": [
            [
             0,
             "#0d0887"
            ],
            [
             0.1111111111111111,
             "#46039f"
            ],
            [
             0.2222222222222222,
             "#7201a8"
            ],
            [
             0.3333333333333333,
             "#9c179e"
            ],
            [
             0.4444444444444444,
             "#bd3786"
            ],
            [
             0.5555555555555556,
             "#d8576b"
            ],
            [
             0.6666666666666666,
             "#ed7953"
            ],
            [
             0.7777777777777778,
             "#fb9f3a"
            ],
            [
             0.8888888888888888,
             "#fdca26"
            ],
            [
             1,
             "#f0f921"
            ]
           ]
          },
          "colorway": [
           "#636efa",
           "#EF553B",
           "#00cc96",
           "#ab63fa",
           "#FFA15A",
           "#19d3f3",
           "#FF6692",
           "#B6E880",
           "#FF97FF",
           "#FECB52"
          ],
          "font": {
           "color": "#2a3f5f"
          },
          "geo": {
           "bgcolor": "white",
           "lakecolor": "white",
           "landcolor": "#E5ECF6",
           "showlakes": true,
           "showland": true,
           "subunitcolor": "white"
          },
          "hoverlabel": {
           "align": "left"
          },
          "hovermode": "closest",
          "mapbox": {
           "style": "light"
          },
          "paper_bgcolor": "white",
          "plot_bgcolor": "#E5ECF6",
          "polar": {
           "angularaxis": {
            "gridcolor": "white",
            "linecolor": "white",
            "ticks": ""
           },
           "bgcolor": "#E5ECF6",
           "radialaxis": {
            "gridcolor": "white",
            "linecolor": "white",
            "ticks": ""
           }
          },
          "scene": {
           "xaxis": {
            "backgroundcolor": "#E5ECF6",
            "gridcolor": "white",
            "gridwidth": 2,
            "linecolor": "white",
            "showbackground": true,
            "ticks": "",
            "zerolinecolor": "white"
           },
           "yaxis": {
            "backgroundcolor": "#E5ECF6",
            "gridcolor": "white",
            "gridwidth": 2,
            "linecolor": "white",
            "showbackground": true,
            "ticks": "",
            "zerolinecolor": "white"
           },
           "zaxis": {
            "backgroundcolor": "#E5ECF6",
            "gridcolor": "white",
            "gridwidth": 2,
            "linecolor": "white",
            "showbackground": true,
            "ticks": "",
            "zerolinecolor": "white"
           }
          },
          "shapedefaults": {
           "line": {
            "color": "#2a3f5f"
           }
          },
          "ternary": {
           "aaxis": {
            "gridcolor": "white",
            "linecolor": "white",
            "ticks": ""
           },
           "baxis": {
            "gridcolor": "white",
            "linecolor": "white",
            "ticks": ""
           },
           "bgcolor": "#E5ECF6",
           "caxis": {
            "gridcolor": "white",
            "linecolor": "white",
            "ticks": ""
           }
          },
          "title": {
           "x": 0.05
          },
          "xaxis": {
           "automargin": true,
           "gridcolor": "white",
           "linecolor": "white",
           "ticks": "",
           "title": {
            "standoff": 15
           },
           "zerolinecolor": "white",
           "zerolinewidth": 2
          },
          "yaxis": {
           "automargin": true,
           "gridcolor": "white",
           "linecolor": "white",
           "ticks": "",
           "title": {
            "standoff": 15
           },
           "zerolinecolor": "white",
           "zerolinewidth": 2
          }
         }
        },
        "title": {
         "text": "Box plot - Idade dos clientes"
        },
        "xaxis": {
         "anchor": "y",
         "domain": [
          0,
          1
         ],
         "title": {
          "text": ""
         }
        },
        "yaxis": {
         "anchor": "x",
         "domain": [
          0,
          1
         ],
         "title": {
          "text": "Idade"
         }
        }
       }
      },
      "text/html": [
       "<div>                            <div id=\"704ec57e-971f-4a85-ac35-52f30592eed1\" class=\"plotly-graph-div\" style=\"height:525px; width:100%;\"></div>            <script type=\"text/javascript\">                require([\"plotly\"], function(Plotly) {                    window.PLOTLYENV=window.PLOTLYENV || {};                                    if (document.getElementById(\"704ec57e-971f-4a85-ac35-52f30592eed1\")) {                    Plotly.newPlot(                        \"704ec57e-971f-4a85-ac35-52f30592eed1\",                        [{\"alignmentgroup\":\"True\",\"hovertemplate\":\"variable=%{x}<br>value=%{y}<extra></extra>\",\"legendgroup\":\"\",\"marker\":{\"color\":\"#00CC96\"},\"name\":\"\",\"notched\":false,\"offsetgroup\":\"\",\"orientation\":\"v\",\"showlegend\":false,\"type\":\"box\",\"x\":[\"idade\",\"idade\",\"idade\",\"idade\",\"idade\",\"idade\",\"idade\",\"idade\",\"idade\",\"idade\",\"idade\",\"idade\",\"idade\",\"idade\",\"idade\",\"idade\",\"idade\",\"idade\",\"idade\",\"idade\",\"idade\",\"idade\",\"idade\",\"idade\",\"idade\",\"idade\",\"idade\",\"idade\",\"idade\",\"idade\",\"idade\",\"idade\",\"idade\",\"idade\",\"idade\",\"idade\",\"idade\",\"idade\",\"idade\",\"idade\",\"idade\",\"idade\",\"idade\",\"idade\",\"idade\",\"idade\",\"idade\",\"idade\",\"idade\",\"idade\",\"idade\",\"idade\",\"idade\",\"idade\",\"idade\",\"idade\",\"idade\",\"idade\",\"idade\",\"idade\",\"idade\",\"idade\",\"idade\",\"idade\",\"idade\",\"idade\",\"idade\",\"idade\",\"idade\",\"idade\",\"idade\",\"idade\",\"idade\",\"idade\",\"idade\",\"idade\",\"idade\",\"idade\",\"idade\",\"idade\",\"idade\",\"idade\",\"idade\",\"idade\",\"idade\",\"idade\",\"idade\",\"idade\",\"idade\",\"idade\",\"idade\",\"idade\",\"idade\",\"idade\",\"idade\",\"idade\",\"idade\",\"idade\",\"idade\",\"idade\",\"idade\",\"idade\",\"idade\",\"idade\",\"idade\",\"idade\",\"idade\",\"idade\",\"idade\",\"idade\",\"idade\",\"idade\",\"idade\",\"idade\",\"idade\",\"idade\",\"idade\",\"idade\",\"idade\",\"idade\",\"idade\",\"idade\",\"idade\",\"idade\",\"idade\",\"idade\",\"idade\",\"idade\",\"idade\",\"idade\",\"idade\",\"idade\",\"idade\",\"idade\",\"idade\",\"idade\",\"idade\",\"idade\",\"idade\",\"idade\",\"idade\",\"idade\",\"idade\",\"idade\",\"idade\",\"idade\",\"idade\",\"idade\",\"idade\",\"idade\",\"idade\",\"idade\",\"idade\",\"idade\",\"idade\",\"idade\",\"idade\",\"idade\",\"idade\",\"idade\",\"idade\",\"idade\",\"idade\",\"idade\",\"idade\",\"idade\",\"idade\",\"idade\",\"idade\",\"idade\",\"idade\",\"idade\",\"idade\",\"idade\",\"idade\",\"idade\",\"idade\",\"idade\",\"idade\",\"idade\",\"idade\",\"idade\",\"idade\",\"idade\",\"idade\",\"idade\",\"idade\",\"idade\",\"idade\"],\"x0\":\" \",\"xaxis\":\"x\",\"y\":[42,69,26,38,20,27,39,21,60,54,64,60,52,58,58,20,69,73,42,71,49,53,61,52,28,53,18,49,34,58,42,25,43,25,36,71,45,51,24,69,69,65,29,37,71,48,33,65,57,65,30,20,51,26,67,33,62,18,72,42,66,46,23,59,18,31,28,61,42,44,45,69,34,39,61,69,21,56,52,41,62,50,27,53,37,60,65,40,71,68,22,61,70,48,44,51,47,58,27,56,42,21,69,19,30,34,60,42,44,37,60,64,44,66,20,48,47,65,71,57,27,59,35,42,60,55,59,29,42,64,61,25,40,44,45,63,20,22,22,18,71,23,58,49,59,35,44,40,39,56,39,34,57,43,59,23,33,52,46,28,57,44,55,46,50,44,42,58,57,45,45,39,58,59,56,59,64,27,68,31,37,71,19,23,27,52,28,43,57],\"y0\":\" \",\"yaxis\":\"y\"}],                        {\"boxmode\":\"group\",\"legend\":{\"tracegroupgap\":0},\"margin\":{\"t\":60},\"template\":{\"data\":{\"bar\":[{\"error_x\":{\"color\":\"#2a3f5f\"},\"error_y\":{\"color\":\"#2a3f5f\"},\"marker\":{\"line\":{\"color\":\"#E5ECF6\",\"width\":0.5},\"pattern\":{\"fillmode\":\"overlay\",\"size\":10,\"solidity\":0.2}},\"type\":\"bar\"}],\"barpolar\":[{\"marker\":{\"line\":{\"color\":\"#E5ECF6\",\"width\":0.5},\"pattern\":{\"fillmode\":\"overlay\",\"size\":10,\"solidity\":0.2}},\"type\":\"barpolar\"}],\"carpet\":[{\"aaxis\":{\"endlinecolor\":\"#2a3f5f\",\"gridcolor\":\"white\",\"linecolor\":\"white\",\"minorgridcolor\":\"white\",\"startlinecolor\":\"#2a3f5f\"},\"baxis\":{\"endlinecolor\":\"#2a3f5f\",\"gridcolor\":\"white\",\"linecolor\":\"white\",\"minorgridcolor\":\"white\",\"startlinecolor\":\"#2a3f5f\"},\"type\":\"carpet\"}],\"choropleth\":[{\"colorbar\":{\"outlinewidth\":0,\"ticks\":\"\"},\"type\":\"choropleth\"}],\"contour\":[{\"colorbar\":{\"outlinewidth\":0,\"ticks\":\"\"},\"colorscale\":[[0.0,\"#0d0887\"],[0.1111111111111111,\"#46039f\"],[0.2222222222222222,\"#7201a8\"],[0.3333333333333333,\"#9c179e\"],[0.4444444444444444,\"#bd3786\"],[0.5555555555555556,\"#d8576b\"],[0.6666666666666666,\"#ed7953\"],[0.7777777777777778,\"#fb9f3a\"],[0.8888888888888888,\"#fdca26\"],[1.0,\"#f0f921\"]],\"type\":\"contour\"}],\"contourcarpet\":[{\"colorbar\":{\"outlinewidth\":0,\"ticks\":\"\"},\"type\":\"contourcarpet\"}],\"heatmap\":[{\"colorbar\":{\"outlinewidth\":0,\"ticks\":\"\"},\"colorscale\":[[0.0,\"#0d0887\"],[0.1111111111111111,\"#46039f\"],[0.2222222222222222,\"#7201a8\"],[0.3333333333333333,\"#9c179e\"],[0.4444444444444444,\"#bd3786\"],[0.5555555555555556,\"#d8576b\"],[0.6666666666666666,\"#ed7953\"],[0.7777777777777778,\"#fb9f3a\"],[0.8888888888888888,\"#fdca26\"],[1.0,\"#f0f921\"]],\"type\":\"heatmap\"}],\"heatmapgl\":[{\"colorbar\":{\"outlinewidth\":0,\"ticks\":\"\"},\"colorscale\":[[0.0,\"#0d0887\"],[0.1111111111111111,\"#46039f\"],[0.2222222222222222,\"#7201a8\"],[0.3333333333333333,\"#9c179e\"],[0.4444444444444444,\"#bd3786\"],[0.5555555555555556,\"#d8576b\"],[0.6666666666666666,\"#ed7953\"],[0.7777777777777778,\"#fb9f3a\"],[0.8888888888888888,\"#fdca26\"],[1.0,\"#f0f921\"]],\"type\":\"heatmapgl\"}],\"histogram\":[{\"marker\":{\"pattern\":{\"fillmode\":\"overlay\",\"size\":10,\"solidity\":0.2}},\"type\":\"histogram\"}],\"histogram2d\":[{\"colorbar\":{\"outlinewidth\":0,\"ticks\":\"\"},\"colorscale\":[[0.0,\"#0d0887\"],[0.1111111111111111,\"#46039f\"],[0.2222222222222222,\"#7201a8\"],[0.3333333333333333,\"#9c179e\"],[0.4444444444444444,\"#bd3786\"],[0.5555555555555556,\"#d8576b\"],[0.6666666666666666,\"#ed7953\"],[0.7777777777777778,\"#fb9f3a\"],[0.8888888888888888,\"#fdca26\"],[1.0,\"#f0f921\"]],\"type\":\"histogram2d\"}],\"histogram2dcontour\":[{\"colorbar\":{\"outlinewidth\":0,\"ticks\":\"\"},\"colorscale\":[[0.0,\"#0d0887\"],[0.1111111111111111,\"#46039f\"],[0.2222222222222222,\"#7201a8\"],[0.3333333333333333,\"#9c179e\"],[0.4444444444444444,\"#bd3786\"],[0.5555555555555556,\"#d8576b\"],[0.6666666666666666,\"#ed7953\"],[0.7777777777777778,\"#fb9f3a\"],[0.8888888888888888,\"#fdca26\"],[1.0,\"#f0f921\"]],\"type\":\"histogram2dcontour\"}],\"mesh3d\":[{\"colorbar\":{\"outlinewidth\":0,\"ticks\":\"\"},\"type\":\"mesh3d\"}],\"parcoords\":[{\"line\":{\"colorbar\":{\"outlinewidth\":0,\"ticks\":\"\"}},\"type\":\"parcoords\"}],\"pie\":[{\"automargin\":true,\"type\":\"pie\"}],\"scatter\":[{\"marker\":{\"colorbar\":{\"outlinewidth\":0,\"ticks\":\"\"}},\"type\":\"scatter\"}],\"scatter3d\":[{\"line\":{\"colorbar\":{\"outlinewidth\":0,\"ticks\":\"\"}},\"marker\":{\"colorbar\":{\"outlinewidth\":0,\"ticks\":\"\"}},\"type\":\"scatter3d\"}],\"scattercarpet\":[{\"marker\":{\"colorbar\":{\"outlinewidth\":0,\"ticks\":\"\"}},\"type\":\"scattercarpet\"}],\"scattergeo\":[{\"marker\":{\"colorbar\":{\"outlinewidth\":0,\"ticks\":\"\"}},\"type\":\"scattergeo\"}],\"scattergl\":[{\"marker\":{\"colorbar\":{\"outlinewidth\":0,\"ticks\":\"\"}},\"type\":\"scattergl\"}],\"scattermapbox\":[{\"marker\":{\"colorbar\":{\"outlinewidth\":0,\"ticks\":\"\"}},\"type\":\"scattermapbox\"}],\"scatterpolar\":[{\"marker\":{\"colorbar\":{\"outlinewidth\":0,\"ticks\":\"\"}},\"type\":\"scatterpolar\"}],\"scatterpolargl\":[{\"marker\":{\"colorbar\":{\"outlinewidth\":0,\"ticks\":\"\"}},\"type\":\"scatterpolargl\"}],\"scatterternary\":[{\"marker\":{\"colorbar\":{\"outlinewidth\":0,\"ticks\":\"\"}},\"type\":\"scatterternary\"}],\"surface\":[{\"colorbar\":{\"outlinewidth\":0,\"ticks\":\"\"},\"colorscale\":[[0.0,\"#0d0887\"],[0.1111111111111111,\"#46039f\"],[0.2222222222222222,\"#7201a8\"],[0.3333333333333333,\"#9c179e\"],[0.4444444444444444,\"#bd3786\"],[0.5555555555555556,\"#d8576b\"],[0.6666666666666666,\"#ed7953\"],[0.7777777777777778,\"#fb9f3a\"],[0.8888888888888888,\"#fdca26\"],[1.0,\"#f0f921\"]],\"type\":\"surface\"}],\"table\":[{\"cells\":{\"fill\":{\"color\":\"#EBF0F8\"},\"line\":{\"color\":\"white\"}},\"header\":{\"fill\":{\"color\":\"#C8D4E3\"},\"line\":{\"color\":\"white\"}},\"type\":\"table\"}]},\"layout\":{\"annotationdefaults\":{\"arrowcolor\":\"#2a3f5f\",\"arrowhead\":0,\"arrowwidth\":1},\"autotypenumbers\":\"strict\",\"coloraxis\":{\"colorbar\":{\"outlinewidth\":0,\"ticks\":\"\"}},\"colorscale\":{\"diverging\":[[0,\"#8e0152\"],[0.1,\"#c51b7d\"],[0.2,\"#de77ae\"],[0.3,\"#f1b6da\"],[0.4,\"#fde0ef\"],[0.5,\"#f7f7f7\"],[0.6,\"#e6f5d0\"],[0.7,\"#b8e186\"],[0.8,\"#7fbc41\"],[0.9,\"#4d9221\"],[1,\"#276419\"]],\"sequential\":[[0.0,\"#0d0887\"],[0.1111111111111111,\"#46039f\"],[0.2222222222222222,\"#7201a8\"],[0.3333333333333333,\"#9c179e\"],[0.4444444444444444,\"#bd3786\"],[0.5555555555555556,\"#d8576b\"],[0.6666666666666666,\"#ed7953\"],[0.7777777777777778,\"#fb9f3a\"],[0.8888888888888888,\"#fdca26\"],[1.0,\"#f0f921\"]],\"sequentialminus\":[[0.0,\"#0d0887\"],[0.1111111111111111,\"#46039f\"],[0.2222222222222222,\"#7201a8\"],[0.3333333333333333,\"#9c179e\"],[0.4444444444444444,\"#bd3786\"],[0.5555555555555556,\"#d8576b\"],[0.6666666666666666,\"#ed7953\"],[0.7777777777777778,\"#fb9f3a\"],[0.8888888888888888,\"#fdca26\"],[1.0,\"#f0f921\"]]},\"colorway\":[\"#636efa\",\"#EF553B\",\"#00cc96\",\"#ab63fa\",\"#FFA15A\",\"#19d3f3\",\"#FF6692\",\"#B6E880\",\"#FF97FF\",\"#FECB52\"],\"font\":{\"color\":\"#2a3f5f\"},\"geo\":{\"bgcolor\":\"white\",\"lakecolor\":\"white\",\"landcolor\":\"#E5ECF6\",\"showlakes\":true,\"showland\":true,\"subunitcolor\":\"white\"},\"hoverlabel\":{\"align\":\"left\"},\"hovermode\":\"closest\",\"mapbox\":{\"style\":\"light\"},\"paper_bgcolor\":\"white\",\"plot_bgcolor\":\"#E5ECF6\",\"polar\":{\"angularaxis\":{\"gridcolor\":\"white\",\"linecolor\":\"white\",\"ticks\":\"\"},\"bgcolor\":\"#E5ECF6\",\"radialaxis\":{\"gridcolor\":\"white\",\"linecolor\":\"white\",\"ticks\":\"\"}},\"scene\":{\"xaxis\":{\"backgroundcolor\":\"#E5ECF6\",\"gridcolor\":\"white\",\"gridwidth\":2,\"linecolor\":\"white\",\"showbackground\":true,\"ticks\":\"\",\"zerolinecolor\":\"white\"},\"yaxis\":{\"backgroundcolor\":\"#E5ECF6\",\"gridcolor\":\"white\",\"gridwidth\":2,\"linecolor\":\"white\",\"showbackground\":true,\"ticks\":\"\",\"zerolinecolor\":\"white\"},\"zaxis\":{\"backgroundcolor\":\"#E5ECF6\",\"gridcolor\":\"white\",\"gridwidth\":2,\"linecolor\":\"white\",\"showbackground\":true,\"ticks\":\"\",\"zerolinecolor\":\"white\"}},\"shapedefaults\":{\"line\":{\"color\":\"#2a3f5f\"}},\"ternary\":{\"aaxis\":{\"gridcolor\":\"white\",\"linecolor\":\"white\",\"ticks\":\"\"},\"baxis\":{\"gridcolor\":\"white\",\"linecolor\":\"white\",\"ticks\":\"\"},\"bgcolor\":\"#E5ECF6\",\"caxis\":{\"gridcolor\":\"white\",\"linecolor\":\"white\",\"ticks\":\"\"}},\"title\":{\"x\":0.05},\"xaxis\":{\"automargin\":true,\"gridcolor\":\"white\",\"linecolor\":\"white\",\"ticks\":\"\",\"title\":{\"standoff\":15},\"zerolinecolor\":\"white\",\"zerolinewidth\":2},\"yaxis\":{\"automargin\":true,\"gridcolor\":\"white\",\"linecolor\":\"white\",\"ticks\":\"\",\"title\":{\"standoff\":15},\"zerolinecolor\":\"white\",\"zerolinewidth\":2}}},\"title\":{\"text\":\"Box plot - Idade dos clientes\"},\"xaxis\":{\"anchor\":\"y\",\"domain\":[0.0,1.0],\"title\":{\"text\":\"\"}},\"yaxis\":{\"anchor\":\"x\",\"domain\":[0.0,1.0],\"title\":{\"text\":\"Idade\"}}},                        {\"responsive\": true}                    ).then(function(){\n",
       "                            \n",
       "var gd = document.getElementById('704ec57e-971f-4a85-ac35-52f30592eed1');\n",
       "var x = new MutationObserver(function (mutations, observer) {{\n",
       "        var display = window.getComputedStyle(gd).display;\n",
       "        if (!display || display === 'none') {{\n",
       "            console.log([gd, 'removed!']);\n",
       "            Plotly.purge(gd);\n",
       "            observer.disconnect();\n",
       "        }}\n",
       "}});\n",
       "\n",
       "// Listen for the removal of the full notebook cells\n",
       "var notebookContainer = gd.closest('#notebook-container');\n",
       "if (notebookContainer) {{\n",
       "    x.observe(notebookContainer, {childList: true});\n",
       "}}\n",
       "\n",
       "// Listen for the clearing of the current output cell\n",
       "var outputEl = gd.closest('.output');\n",
       "if (outputEl) {{\n",
       "    x.observe(outputEl, {childList: true});\n",
       "}}\n",
       "\n",
       "                        })                };                });            </script>        </div>"
      ]
     },
     "metadata": {},
     "output_type": "display_data"
    }
   ],
   "source": [
    "fig_box_plot_idade = px.box(tabela_cliente_gasto_idade[\"idade\"], labels={\"idade\": \"Idade\"}, )\n",
    "fig_box_plot_idade.update_traces(marker = {'color': '#00CC96'})\n",
    "fig_box_plot_idade.update_layout(title = 'Box plot - Idade dos clientes')\n",
    "fig_box_plot_idade.update_xaxes(title = '')\n",
    "fig_box_plot_idade.update_yaxes(title = 'Idade')\n",
    "fig_box_plot_idade.show()"
   ]
  },
  {
   "cell_type": "code",
   "execution_count": 33,
   "id": "26505ec3",
   "metadata": {},
   "outputs": [
    {
     "data": {
      "application/vnd.plotly.v1+json": {
       "config": {
        "plotlyServerURL": "https://plot.ly"
       },
       "data": [
        {
         "alignmentgroup": "True",
         "hovertemplate": "Idade=%{x}<br>Total gasto pelo cliente=%{y}<extra></extra>",
         "legendgroup": "",
         "marker": {
          "color": "#00CC96"
         },
         "name": "",
         "notched": false,
         "offsetgroup": "",
         "orientation": "v",
         "showlegend": false,
         "type": "box",
         "x": [
          42,
          69,
          26,
          38,
          20,
          27,
          39,
          21,
          60,
          54,
          64,
          60,
          52,
          58,
          58,
          20,
          69,
          73,
          42,
          71,
          49,
          53,
          61,
          52,
          28,
          53,
          18,
          49,
          34,
          58,
          42,
          25,
          43,
          25,
          36,
          71,
          45,
          51,
          24,
          69,
          69,
          65,
          29,
          37,
          71,
          48,
          33,
          65,
          57,
          65,
          30,
          20,
          51,
          26,
          67,
          33,
          62,
          18,
          72,
          42,
          66,
          46,
          23,
          59,
          18,
          31,
          28,
          61,
          42,
          44,
          45,
          69,
          34,
          39,
          61,
          69,
          21,
          56,
          52,
          41,
          62,
          50,
          27,
          53,
          37,
          60,
          65,
          40,
          71,
          68,
          22,
          61,
          70,
          48,
          44,
          51,
          47,
          58,
          27,
          56,
          42,
          21,
          69,
          19,
          30,
          34,
          60,
          42,
          44,
          37,
          60,
          64,
          44,
          66,
          20,
          48,
          47,
          65,
          71,
          57,
          27,
          59,
          35,
          42,
          60,
          55,
          59,
          29,
          42,
          64,
          61,
          25,
          40,
          44,
          45,
          63,
          20,
          22,
          22,
          18,
          71,
          23,
          58,
          49,
          59,
          35,
          44,
          40,
          39,
          56,
          39,
          34,
          57,
          43,
          59,
          23,
          33,
          52,
          46,
          28,
          57,
          44,
          55,
          46,
          50,
          44,
          42,
          58,
          57,
          45,
          45,
          39,
          58,
          59,
          56,
          59,
          64,
          27,
          68,
          31,
          37,
          71,
          19,
          23,
          27,
          52,
          28,
          43,
          57
         ],
         "x0": " ",
         "xaxis": "x",
         "y": [
          860.94,
          1562.57,
          1737.5900000000008,
          451.12000000000006,
          2630.919999999999,
          256.16,
          1425.42,
          597.0100000000001,
          106.78999999999999,
          286.5199999999999,
          811.1400000000001,
          1316.6900000000003,
          626.5400000000001,
          22.38,
          487.42,
          1044.6300000000003,
          523.0300000000001,
          628.84,
          573.07,
          372.06999999999994,
          1444.9000000000005,
          798.34,
          530.99,
          1195.3100000000002,
          635.44,
          1116.4000000000003,
          1459.7700000000002,
          796.4500000000002,
          1944.5500000000002,
          521.13,
          995.9200000000002,
          685.8499999999999,
          858.79,
          850.9700000000003,
          786.5800000000002,
          780.0600000000003,
          834.32,
          253.31,
          1824.9900000000005,
          1217.79,
          3001.5199999999995,
          633.1600000000001,
          243.07999999999996,
          984.0500000000001,
          955.5200000000003,
          1770.6400000000003,
          1109.9500000000003,
          137.91,
          1334.73,
          100.87,
          89.94999999999999,
          163.78,
          432.6899999999999,
          547.2299999999999,
          819.7900000000001,
          1039.91,
          657.11,
          299.72,
          484.59000000000003,
          441.17,
          744.8000000000001,
          255.23999999999998,
          1299.3899999999999,
          769.0300000000001,
          927.8600000000001,
          668.21,
          2321.4300000000007,
          408.2900000000001,
          359.19,
          779.94,
          654.5200000000002,
          2123.1800000000007,
          1054.97,
          330.46000000000004,
          646.7,
          1263.6200000000001,
          46.9,
          20.97,
          65.97,
          194.76,
          20.97,
          303.0900000000001,
          1028.37,
          1243.9900000000002,
          229.79999999999998,
          1198.9500000000003,
          453.13,
          641.4700000000001,
          1126.2400000000005,
          965.3300000000002,
          351.63,
          602.88,
          815.1700000000001,
          511.55999999999995,
          344.25,
          1036.65,
          1344.5500000000002,
          1084.6100000000006,
          544.19,
          998.8600000000001,
          560.75,
          26.8,
          26.8,
          42.47,
          443.66,
          1028.16,
          546.6500000000001,
          1105.1200000000001,
          627.08,
          638.74,
          680.14,
          539.67,
          504.32000000000005,
          832.5200000000001,
          708.44,
          298.59,
          715.1400000000001,
          601.8800000000001,
          513.5999999999999,
          191.92,
          23.99,
          1221.9700000000003,
          291.53000000000003,
          630,
          313.5799999999999,
          248.89,
          670.28,
          668,
          1402.5100000000002,
          2847.53,
          158.94,
          211.49999999999997,
          23.18,
          10.41,
          75.73,
          3.92,
          1573.1300000000003,
          1063.0600000000002,
          890.21,
          471.79,
          29.22,
          586.2800000000001,
          370.65,
          89.96000000000001,
          83.77,
          530.97,
          344,
          981.0800000000002,
          1119.63,
          32.89,
          23.229999999999997,
          51.769999999999996,
          51.44,
          25.349999999999998,
          569.64,
          182.37999999999997,
          676.6000000000001,
          86.93,
          401.4,
          161.41,
          47.97,
          47.97,
          19.090000000000003,
          10.8,
          77.06,
          5.4,
          111.28999999999999,
          561.9100000000001,
          437.47,
          199.81,
          262.90999999999997,
          3.99,
          35.93,
          63.76,
          9.69,
          130.13,
          46.87,
          39.129999999999995,
          87.96,
          103.93,
          47.92,
          43.96,
          24.46,
          7.4399999999999995,
          3.87,
          95.96,
          47.98,
          141.78,
          105
         ],
         "y0": " ",
         "yaxis": "y"
        }
       ],
       "layout": {
        "boxmode": "group",
        "legend": {
         "tracegroupgap": 0
        },
        "margin": {
         "t": 60
        },
        "template": {
         "data": {
          "bar": [
           {
            "error_x": {
             "color": "#2a3f5f"
            },
            "error_y": {
             "color": "#2a3f5f"
            },
            "marker": {
             "line": {
              "color": "#E5ECF6",
              "width": 0.5
             },
             "pattern": {
              "fillmode": "overlay",
              "size": 10,
              "solidity": 0.2
             }
            },
            "type": "bar"
           }
          ],
          "barpolar": [
           {
            "marker": {
             "line": {
              "color": "#E5ECF6",
              "width": 0.5
             },
             "pattern": {
              "fillmode": "overlay",
              "size": 10,
              "solidity": 0.2
             }
            },
            "type": "barpolar"
           }
          ],
          "carpet": [
           {
            "aaxis": {
             "endlinecolor": "#2a3f5f",
             "gridcolor": "white",
             "linecolor": "white",
             "minorgridcolor": "white",
             "startlinecolor": "#2a3f5f"
            },
            "baxis": {
             "endlinecolor": "#2a3f5f",
             "gridcolor": "white",
             "linecolor": "white",
             "minorgridcolor": "white",
             "startlinecolor": "#2a3f5f"
            },
            "type": "carpet"
           }
          ],
          "choropleth": [
           {
            "colorbar": {
             "outlinewidth": 0,
             "ticks": ""
            },
            "type": "choropleth"
           }
          ],
          "contour": [
           {
            "colorbar": {
             "outlinewidth": 0,
             "ticks": ""
            },
            "colorscale": [
             [
              0,
              "#0d0887"
             ],
             [
              0.1111111111111111,
              "#46039f"
             ],
             [
              0.2222222222222222,
              "#7201a8"
             ],
             [
              0.3333333333333333,
              "#9c179e"
             ],
             [
              0.4444444444444444,
              "#bd3786"
             ],
             [
              0.5555555555555556,
              "#d8576b"
             ],
             [
              0.6666666666666666,
              "#ed7953"
             ],
             [
              0.7777777777777778,
              "#fb9f3a"
             ],
             [
              0.8888888888888888,
              "#fdca26"
             ],
             [
              1,
              "#f0f921"
             ]
            ],
            "type": "contour"
           }
          ],
          "contourcarpet": [
           {
            "colorbar": {
             "outlinewidth": 0,
             "ticks": ""
            },
            "type": "contourcarpet"
           }
          ],
          "heatmap": [
           {
            "colorbar": {
             "outlinewidth": 0,
             "ticks": ""
            },
            "colorscale": [
             [
              0,
              "#0d0887"
             ],
             [
              0.1111111111111111,
              "#46039f"
             ],
             [
              0.2222222222222222,
              "#7201a8"
             ],
             [
              0.3333333333333333,
              "#9c179e"
             ],
             [
              0.4444444444444444,
              "#bd3786"
             ],
             [
              0.5555555555555556,
              "#d8576b"
             ],
             [
              0.6666666666666666,
              "#ed7953"
             ],
             [
              0.7777777777777778,
              "#fb9f3a"
             ],
             [
              0.8888888888888888,
              "#fdca26"
             ],
             [
              1,
              "#f0f921"
             ]
            ],
            "type": "heatmap"
           }
          ],
          "heatmapgl": [
           {
            "colorbar": {
             "outlinewidth": 0,
             "ticks": ""
            },
            "colorscale": [
             [
              0,
              "#0d0887"
             ],
             [
              0.1111111111111111,
              "#46039f"
             ],
             [
              0.2222222222222222,
              "#7201a8"
             ],
             [
              0.3333333333333333,
              "#9c179e"
             ],
             [
              0.4444444444444444,
              "#bd3786"
             ],
             [
              0.5555555555555556,
              "#d8576b"
             ],
             [
              0.6666666666666666,
              "#ed7953"
             ],
             [
              0.7777777777777778,
              "#fb9f3a"
             ],
             [
              0.8888888888888888,
              "#fdca26"
             ],
             [
              1,
              "#f0f921"
             ]
            ],
            "type": "heatmapgl"
           }
          ],
          "histogram": [
           {
            "marker": {
             "pattern": {
              "fillmode": "overlay",
              "size": 10,
              "solidity": 0.2
             }
            },
            "type": "histogram"
           }
          ],
          "histogram2d": [
           {
            "colorbar": {
             "outlinewidth": 0,
             "ticks": ""
            },
            "colorscale": [
             [
              0,
              "#0d0887"
             ],
             [
              0.1111111111111111,
              "#46039f"
             ],
             [
              0.2222222222222222,
              "#7201a8"
             ],
             [
              0.3333333333333333,
              "#9c179e"
             ],
             [
              0.4444444444444444,
              "#bd3786"
             ],
             [
              0.5555555555555556,
              "#d8576b"
             ],
             [
              0.6666666666666666,
              "#ed7953"
             ],
             [
              0.7777777777777778,
              "#fb9f3a"
             ],
             [
              0.8888888888888888,
              "#fdca26"
             ],
             [
              1,
              "#f0f921"
             ]
            ],
            "type": "histogram2d"
           }
          ],
          "histogram2dcontour": [
           {
            "colorbar": {
             "outlinewidth": 0,
             "ticks": ""
            },
            "colorscale": [
             [
              0,
              "#0d0887"
             ],
             [
              0.1111111111111111,
              "#46039f"
             ],
             [
              0.2222222222222222,
              "#7201a8"
             ],
             [
              0.3333333333333333,
              "#9c179e"
             ],
             [
              0.4444444444444444,
              "#bd3786"
             ],
             [
              0.5555555555555556,
              "#d8576b"
             ],
             [
              0.6666666666666666,
              "#ed7953"
             ],
             [
              0.7777777777777778,
              "#fb9f3a"
             ],
             [
              0.8888888888888888,
              "#fdca26"
             ],
             [
              1,
              "#f0f921"
             ]
            ],
            "type": "histogram2dcontour"
           }
          ],
          "mesh3d": [
           {
            "colorbar": {
             "outlinewidth": 0,
             "ticks": ""
            },
            "type": "mesh3d"
           }
          ],
          "parcoords": [
           {
            "line": {
             "colorbar": {
              "outlinewidth": 0,
              "ticks": ""
             }
            },
            "type": "parcoords"
           }
          ],
          "pie": [
           {
            "automargin": true,
            "type": "pie"
           }
          ],
          "scatter": [
           {
            "marker": {
             "colorbar": {
              "outlinewidth": 0,
              "ticks": ""
             }
            },
            "type": "scatter"
           }
          ],
          "scatter3d": [
           {
            "line": {
             "colorbar": {
              "outlinewidth": 0,
              "ticks": ""
             }
            },
            "marker": {
             "colorbar": {
              "outlinewidth": 0,
              "ticks": ""
             }
            },
            "type": "scatter3d"
           }
          ],
          "scattercarpet": [
           {
            "marker": {
             "colorbar": {
              "outlinewidth": 0,
              "ticks": ""
             }
            },
            "type": "scattercarpet"
           }
          ],
          "scattergeo": [
           {
            "marker": {
             "colorbar": {
              "outlinewidth": 0,
              "ticks": ""
             }
            },
            "type": "scattergeo"
           }
          ],
          "scattergl": [
           {
            "marker": {
             "colorbar": {
              "outlinewidth": 0,
              "ticks": ""
             }
            },
            "type": "scattergl"
           }
          ],
          "scattermapbox": [
           {
            "marker": {
             "colorbar": {
              "outlinewidth": 0,
              "ticks": ""
             }
            },
            "type": "scattermapbox"
           }
          ],
          "scatterpolar": [
           {
            "marker": {
             "colorbar": {
              "outlinewidth": 0,
              "ticks": ""
             }
            },
            "type": "scatterpolar"
           }
          ],
          "scatterpolargl": [
           {
            "marker": {
             "colorbar": {
              "outlinewidth": 0,
              "ticks": ""
             }
            },
            "type": "scatterpolargl"
           }
          ],
          "scatterternary": [
           {
            "marker": {
             "colorbar": {
              "outlinewidth": 0,
              "ticks": ""
             }
            },
            "type": "scatterternary"
           }
          ],
          "surface": [
           {
            "colorbar": {
             "outlinewidth": 0,
             "ticks": ""
            },
            "colorscale": [
             [
              0,
              "#0d0887"
             ],
             [
              0.1111111111111111,
              "#46039f"
             ],
             [
              0.2222222222222222,
              "#7201a8"
             ],
             [
              0.3333333333333333,
              "#9c179e"
             ],
             [
              0.4444444444444444,
              "#bd3786"
             ],
             [
              0.5555555555555556,
              "#d8576b"
             ],
             [
              0.6666666666666666,
              "#ed7953"
             ],
             [
              0.7777777777777778,
              "#fb9f3a"
             ],
             [
              0.8888888888888888,
              "#fdca26"
             ],
             [
              1,
              "#f0f921"
             ]
            ],
            "type": "surface"
           }
          ],
          "table": [
           {
            "cells": {
             "fill": {
              "color": "#EBF0F8"
             },
             "line": {
              "color": "white"
             }
            },
            "header": {
             "fill": {
              "color": "#C8D4E3"
             },
             "line": {
              "color": "white"
             }
            },
            "type": "table"
           }
          ]
         },
         "layout": {
          "annotationdefaults": {
           "arrowcolor": "#2a3f5f",
           "arrowhead": 0,
           "arrowwidth": 1
          },
          "autotypenumbers": "strict",
          "coloraxis": {
           "colorbar": {
            "outlinewidth": 0,
            "ticks": ""
           }
          },
          "colorscale": {
           "diverging": [
            [
             0,
             "#8e0152"
            ],
            [
             0.1,
             "#c51b7d"
            ],
            [
             0.2,
             "#de77ae"
            ],
            [
             0.3,
             "#f1b6da"
            ],
            [
             0.4,
             "#fde0ef"
            ],
            [
             0.5,
             "#f7f7f7"
            ],
            [
             0.6,
             "#e6f5d0"
            ],
            [
             0.7,
             "#b8e186"
            ],
            [
             0.8,
             "#7fbc41"
            ],
            [
             0.9,
             "#4d9221"
            ],
            [
             1,
             "#276419"
            ]
           ],
           "sequential": [
            [
             0,
             "#0d0887"
            ],
            [
             0.1111111111111111,
             "#46039f"
            ],
            [
             0.2222222222222222,
             "#7201a8"
            ],
            [
             0.3333333333333333,
             "#9c179e"
            ],
            [
             0.4444444444444444,
             "#bd3786"
            ],
            [
             0.5555555555555556,
             "#d8576b"
            ],
            [
             0.6666666666666666,
             "#ed7953"
            ],
            [
             0.7777777777777778,
             "#fb9f3a"
            ],
            [
             0.8888888888888888,
             "#fdca26"
            ],
            [
             1,
             "#f0f921"
            ]
           ],
           "sequentialminus": [
            [
             0,
             "#0d0887"
            ],
            [
             0.1111111111111111,
             "#46039f"
            ],
            [
             0.2222222222222222,
             "#7201a8"
            ],
            [
             0.3333333333333333,
             "#9c179e"
            ],
            [
             0.4444444444444444,
             "#bd3786"
            ],
            [
             0.5555555555555556,
             "#d8576b"
            ],
            [
             0.6666666666666666,
             "#ed7953"
            ],
            [
             0.7777777777777778,
             "#fb9f3a"
            ],
            [
             0.8888888888888888,
             "#fdca26"
            ],
            [
             1,
             "#f0f921"
            ]
           ]
          },
          "colorway": [
           "#636efa",
           "#EF553B",
           "#00cc96",
           "#ab63fa",
           "#FFA15A",
           "#19d3f3",
           "#FF6692",
           "#B6E880",
           "#FF97FF",
           "#FECB52"
          ],
          "font": {
           "color": "#2a3f5f"
          },
          "geo": {
           "bgcolor": "white",
           "lakecolor": "white",
           "landcolor": "#E5ECF6",
           "showlakes": true,
           "showland": true,
           "subunitcolor": "white"
          },
          "hoverlabel": {
           "align": "left"
          },
          "hovermode": "closest",
          "mapbox": {
           "style": "light"
          },
          "paper_bgcolor": "white",
          "plot_bgcolor": "#E5ECF6",
          "polar": {
           "angularaxis": {
            "gridcolor": "white",
            "linecolor": "white",
            "ticks": ""
           },
           "bgcolor": "#E5ECF6",
           "radialaxis": {
            "gridcolor": "white",
            "linecolor": "white",
            "ticks": ""
           }
          },
          "scene": {
           "xaxis": {
            "backgroundcolor": "#E5ECF6",
            "gridcolor": "white",
            "gridwidth": 2,
            "linecolor": "white",
            "showbackground": true,
            "ticks": "",
            "zerolinecolor": "white"
           },
           "yaxis": {
            "backgroundcolor": "#E5ECF6",
            "gridcolor": "white",
            "gridwidth": 2,
            "linecolor": "white",
            "showbackground": true,
            "ticks": "",
            "zerolinecolor": "white"
           },
           "zaxis": {
            "backgroundcolor": "#E5ECF6",
            "gridcolor": "white",
            "gridwidth": 2,
            "linecolor": "white",
            "showbackground": true,
            "ticks": "",
            "zerolinecolor": "white"
           }
          },
          "shapedefaults": {
           "line": {
            "color": "#2a3f5f"
           }
          },
          "ternary": {
           "aaxis": {
            "gridcolor": "white",
            "linecolor": "white",
            "ticks": ""
           },
           "baxis": {
            "gridcolor": "white",
            "linecolor": "white",
            "ticks": ""
           },
           "bgcolor": "#E5ECF6",
           "caxis": {
            "gridcolor": "white",
            "linecolor": "white",
            "ticks": ""
           }
          },
          "title": {
           "x": 0.05
          },
          "xaxis": {
           "automargin": true,
           "gridcolor": "white",
           "linecolor": "white",
           "ticks": "",
           "title": {
            "standoff": 15
           },
           "zerolinecolor": "white",
           "zerolinewidth": 2
          },
          "yaxis": {
           "automargin": true,
           "gridcolor": "white",
           "linecolor": "white",
           "ticks": "",
           "title": {
            "standoff": 15
           },
           "zerolinecolor": "white",
           "zerolinewidth": 2
          }
         }
        },
        "title": {
         "text": "Box plot - Idade dos clientes"
        },
        "xaxis": {
         "anchor": "y",
         "domain": [
          0,
          1
         ],
         "title": {
          "text": ""
         }
        },
        "yaxis": {
         "anchor": "x",
         "domain": [
          0,
          1
         ],
         "title": {
          "text": "Idade"
         }
        }
       }
      },
      "text/html": [
       "<div>                            <div id=\"a8cbed21-5e99-4fe1-978a-78ec9d570837\" class=\"plotly-graph-div\" style=\"height:525px; width:100%;\"></div>            <script type=\"text/javascript\">                require([\"plotly\"], function(Plotly) {                    window.PLOTLYENV=window.PLOTLYENV || {};                                    if (document.getElementById(\"a8cbed21-5e99-4fe1-978a-78ec9d570837\")) {                    Plotly.newPlot(                        \"a8cbed21-5e99-4fe1-978a-78ec9d570837\",                        [{\"alignmentgroup\":\"True\",\"hovertemplate\":\"Idade=%{x}<br>Total gasto pelo cliente=%{y}<extra></extra>\",\"legendgroup\":\"\",\"marker\":{\"color\":\"#00CC96\"},\"name\":\"\",\"notched\":false,\"offsetgroup\":\"\",\"orientation\":\"v\",\"showlegend\":false,\"type\":\"box\",\"x\":[42,69,26,38,20,27,39,21,60,54,64,60,52,58,58,20,69,73,42,71,49,53,61,52,28,53,18,49,34,58,42,25,43,25,36,71,45,51,24,69,69,65,29,37,71,48,33,65,57,65,30,20,51,26,67,33,62,18,72,42,66,46,23,59,18,31,28,61,42,44,45,69,34,39,61,69,21,56,52,41,62,50,27,53,37,60,65,40,71,68,22,61,70,48,44,51,47,58,27,56,42,21,69,19,30,34,60,42,44,37,60,64,44,66,20,48,47,65,71,57,27,59,35,42,60,55,59,29,42,64,61,25,40,44,45,63,20,22,22,18,71,23,58,49,59,35,44,40,39,56,39,34,57,43,59,23,33,52,46,28,57,44,55,46,50,44,42,58,57,45,45,39,58,59,56,59,64,27,68,31,37,71,19,23,27,52,28,43,57],\"x0\":\" \",\"xaxis\":\"x\",\"y\":[860.94,1562.57,1737.5900000000008,451.12000000000006,2630.919999999999,256.16,1425.42,597.0100000000001,106.78999999999999,286.5199999999999,811.1400000000001,1316.6900000000003,626.5400000000001,22.38,487.42,1044.6300000000003,523.0300000000001,628.84,573.07,372.06999999999994,1444.9000000000005,798.34,530.99,1195.3100000000002,635.44,1116.4000000000003,1459.7700000000002,796.4500000000002,1944.5500000000002,521.13,995.9200000000002,685.8499999999999,858.79,850.9700000000003,786.5800000000002,780.0600000000003,834.32,253.31,1824.9900000000005,1217.79,3001.5199999999995,633.1600000000001,243.07999999999996,984.0500000000001,955.5200000000003,1770.6400000000003,1109.9500000000003,137.91,1334.73,100.87,89.94999999999999,163.78,432.6899999999999,547.2299999999999,819.7900000000001,1039.91,657.11,299.72,484.59000000000003,441.17,744.8000000000001,255.23999999999998,1299.3899999999999,769.0300000000001,927.8600000000001,668.21,2321.4300000000007,408.2900000000001,359.19,779.94,654.5200000000002,2123.1800000000007,1054.97,330.46000000000004,646.7,1263.6200000000001,46.9,20.97,65.97,194.76,20.97,303.0900000000001,1028.37,1243.9900000000002,229.79999999999998,1198.9500000000003,453.13,641.4700000000001,1126.2400000000005,965.3300000000002,351.63,602.88,815.1700000000001,511.55999999999995,344.25,1036.65,1344.5500000000002,1084.6100000000006,544.19,998.8600000000001,560.75,26.8,26.8,42.47,443.66,1028.16,546.6500000000001,1105.1200000000001,627.08,638.74,680.14,539.67,504.32000000000005,832.5200000000001,708.44,298.59,715.1400000000001,601.8800000000001,513.5999999999999,191.92,23.99,1221.9700000000003,291.53000000000003,630.0,313.5799999999999,248.89,670.28,668.0,1402.5100000000002,2847.53,158.94,211.49999999999997,23.18,10.41,75.73,3.92,1573.1300000000003,1063.0600000000002,890.21,471.79,29.22,586.2800000000001,370.65,89.96000000000001,83.77,530.97,344.0,981.0800000000002,1119.63,32.89,23.229999999999997,51.769999999999996,51.44,25.349999999999998,569.64,182.37999999999997,676.6000000000001,86.93,401.4,161.41,47.97,47.97,19.090000000000003,10.8,77.06,5.4,111.28999999999999,561.9100000000001,437.47,199.81,262.90999999999997,3.99,35.93,63.76,9.69,130.13,46.87,39.129999999999995,87.96,103.93,47.92,43.96,24.46,7.4399999999999995,3.87,95.96,47.98,141.78,105.0],\"y0\":\" \",\"yaxis\":\"y\"}],                        {\"boxmode\":\"group\",\"legend\":{\"tracegroupgap\":0},\"margin\":{\"t\":60},\"template\":{\"data\":{\"bar\":[{\"error_x\":{\"color\":\"#2a3f5f\"},\"error_y\":{\"color\":\"#2a3f5f\"},\"marker\":{\"line\":{\"color\":\"#E5ECF6\",\"width\":0.5},\"pattern\":{\"fillmode\":\"overlay\",\"size\":10,\"solidity\":0.2}},\"type\":\"bar\"}],\"barpolar\":[{\"marker\":{\"line\":{\"color\":\"#E5ECF6\",\"width\":0.5},\"pattern\":{\"fillmode\":\"overlay\",\"size\":10,\"solidity\":0.2}},\"type\":\"barpolar\"}],\"carpet\":[{\"aaxis\":{\"endlinecolor\":\"#2a3f5f\",\"gridcolor\":\"white\",\"linecolor\":\"white\",\"minorgridcolor\":\"white\",\"startlinecolor\":\"#2a3f5f\"},\"baxis\":{\"endlinecolor\":\"#2a3f5f\",\"gridcolor\":\"white\",\"linecolor\":\"white\",\"minorgridcolor\":\"white\",\"startlinecolor\":\"#2a3f5f\"},\"type\":\"carpet\"}],\"choropleth\":[{\"colorbar\":{\"outlinewidth\":0,\"ticks\":\"\"},\"type\":\"choropleth\"}],\"contour\":[{\"colorbar\":{\"outlinewidth\":0,\"ticks\":\"\"},\"colorscale\":[[0.0,\"#0d0887\"],[0.1111111111111111,\"#46039f\"],[0.2222222222222222,\"#7201a8\"],[0.3333333333333333,\"#9c179e\"],[0.4444444444444444,\"#bd3786\"],[0.5555555555555556,\"#d8576b\"],[0.6666666666666666,\"#ed7953\"],[0.7777777777777778,\"#fb9f3a\"],[0.8888888888888888,\"#fdca26\"],[1.0,\"#f0f921\"]],\"type\":\"contour\"}],\"contourcarpet\":[{\"colorbar\":{\"outlinewidth\":0,\"ticks\":\"\"},\"type\":\"contourcarpet\"}],\"heatmap\":[{\"colorbar\":{\"outlinewidth\":0,\"ticks\":\"\"},\"colorscale\":[[0.0,\"#0d0887\"],[0.1111111111111111,\"#46039f\"],[0.2222222222222222,\"#7201a8\"],[0.3333333333333333,\"#9c179e\"],[0.4444444444444444,\"#bd3786\"],[0.5555555555555556,\"#d8576b\"],[0.6666666666666666,\"#ed7953\"],[0.7777777777777778,\"#fb9f3a\"],[0.8888888888888888,\"#fdca26\"],[1.0,\"#f0f921\"]],\"type\":\"heatmap\"}],\"heatmapgl\":[{\"colorbar\":{\"outlinewidth\":0,\"ticks\":\"\"},\"colorscale\":[[0.0,\"#0d0887\"],[0.1111111111111111,\"#46039f\"],[0.2222222222222222,\"#7201a8\"],[0.3333333333333333,\"#9c179e\"],[0.4444444444444444,\"#bd3786\"],[0.5555555555555556,\"#d8576b\"],[0.6666666666666666,\"#ed7953\"],[0.7777777777777778,\"#fb9f3a\"],[0.8888888888888888,\"#fdca26\"],[1.0,\"#f0f921\"]],\"type\":\"heatmapgl\"}],\"histogram\":[{\"marker\":{\"pattern\":{\"fillmode\":\"overlay\",\"size\":10,\"solidity\":0.2}},\"type\":\"histogram\"}],\"histogram2d\":[{\"colorbar\":{\"outlinewidth\":0,\"ticks\":\"\"},\"colorscale\":[[0.0,\"#0d0887\"],[0.1111111111111111,\"#46039f\"],[0.2222222222222222,\"#7201a8\"],[0.3333333333333333,\"#9c179e\"],[0.4444444444444444,\"#bd3786\"],[0.5555555555555556,\"#d8576b\"],[0.6666666666666666,\"#ed7953\"],[0.7777777777777778,\"#fb9f3a\"],[0.8888888888888888,\"#fdca26\"],[1.0,\"#f0f921\"]],\"type\":\"histogram2d\"}],\"histogram2dcontour\":[{\"colorbar\":{\"outlinewidth\":0,\"ticks\":\"\"},\"colorscale\":[[0.0,\"#0d0887\"],[0.1111111111111111,\"#46039f\"],[0.2222222222222222,\"#7201a8\"],[0.3333333333333333,\"#9c179e\"],[0.4444444444444444,\"#bd3786\"],[0.5555555555555556,\"#d8576b\"],[0.6666666666666666,\"#ed7953\"],[0.7777777777777778,\"#fb9f3a\"],[0.8888888888888888,\"#fdca26\"],[1.0,\"#f0f921\"]],\"type\":\"histogram2dcontour\"}],\"mesh3d\":[{\"colorbar\":{\"outlinewidth\":0,\"ticks\":\"\"},\"type\":\"mesh3d\"}],\"parcoords\":[{\"line\":{\"colorbar\":{\"outlinewidth\":0,\"ticks\":\"\"}},\"type\":\"parcoords\"}],\"pie\":[{\"automargin\":true,\"type\":\"pie\"}],\"scatter\":[{\"marker\":{\"colorbar\":{\"outlinewidth\":0,\"ticks\":\"\"}},\"type\":\"scatter\"}],\"scatter3d\":[{\"line\":{\"colorbar\":{\"outlinewidth\":0,\"ticks\":\"\"}},\"marker\":{\"colorbar\":{\"outlinewidth\":0,\"ticks\":\"\"}},\"type\":\"scatter3d\"}],\"scattercarpet\":[{\"marker\":{\"colorbar\":{\"outlinewidth\":0,\"ticks\":\"\"}},\"type\":\"scattercarpet\"}],\"scattergeo\":[{\"marker\":{\"colorbar\":{\"outlinewidth\":0,\"ticks\":\"\"}},\"type\":\"scattergeo\"}],\"scattergl\":[{\"marker\":{\"colorbar\":{\"outlinewidth\":0,\"ticks\":\"\"}},\"type\":\"scattergl\"}],\"scattermapbox\":[{\"marker\":{\"colorbar\":{\"outlinewidth\":0,\"ticks\":\"\"}},\"type\":\"scattermapbox\"}],\"scatterpolar\":[{\"marker\":{\"colorbar\":{\"outlinewidth\":0,\"ticks\":\"\"}},\"type\":\"scatterpolar\"}],\"scatterpolargl\":[{\"marker\":{\"colorbar\":{\"outlinewidth\":0,\"ticks\":\"\"}},\"type\":\"scatterpolargl\"}],\"scatterternary\":[{\"marker\":{\"colorbar\":{\"outlinewidth\":0,\"ticks\":\"\"}},\"type\":\"scatterternary\"}],\"surface\":[{\"colorbar\":{\"outlinewidth\":0,\"ticks\":\"\"},\"colorscale\":[[0.0,\"#0d0887\"],[0.1111111111111111,\"#46039f\"],[0.2222222222222222,\"#7201a8\"],[0.3333333333333333,\"#9c179e\"],[0.4444444444444444,\"#bd3786\"],[0.5555555555555556,\"#d8576b\"],[0.6666666666666666,\"#ed7953\"],[0.7777777777777778,\"#fb9f3a\"],[0.8888888888888888,\"#fdca26\"],[1.0,\"#f0f921\"]],\"type\":\"surface\"}],\"table\":[{\"cells\":{\"fill\":{\"color\":\"#EBF0F8\"},\"line\":{\"color\":\"white\"}},\"header\":{\"fill\":{\"color\":\"#C8D4E3\"},\"line\":{\"color\":\"white\"}},\"type\":\"table\"}]},\"layout\":{\"annotationdefaults\":{\"arrowcolor\":\"#2a3f5f\",\"arrowhead\":0,\"arrowwidth\":1},\"autotypenumbers\":\"strict\",\"coloraxis\":{\"colorbar\":{\"outlinewidth\":0,\"ticks\":\"\"}},\"colorscale\":{\"diverging\":[[0,\"#8e0152\"],[0.1,\"#c51b7d\"],[0.2,\"#de77ae\"],[0.3,\"#f1b6da\"],[0.4,\"#fde0ef\"],[0.5,\"#f7f7f7\"],[0.6,\"#e6f5d0\"],[0.7,\"#b8e186\"],[0.8,\"#7fbc41\"],[0.9,\"#4d9221\"],[1,\"#276419\"]],\"sequential\":[[0.0,\"#0d0887\"],[0.1111111111111111,\"#46039f\"],[0.2222222222222222,\"#7201a8\"],[0.3333333333333333,\"#9c179e\"],[0.4444444444444444,\"#bd3786\"],[0.5555555555555556,\"#d8576b\"],[0.6666666666666666,\"#ed7953\"],[0.7777777777777778,\"#fb9f3a\"],[0.8888888888888888,\"#fdca26\"],[1.0,\"#f0f921\"]],\"sequentialminus\":[[0.0,\"#0d0887\"],[0.1111111111111111,\"#46039f\"],[0.2222222222222222,\"#7201a8\"],[0.3333333333333333,\"#9c179e\"],[0.4444444444444444,\"#bd3786\"],[0.5555555555555556,\"#d8576b\"],[0.6666666666666666,\"#ed7953\"],[0.7777777777777778,\"#fb9f3a\"],[0.8888888888888888,\"#fdca26\"],[1.0,\"#f0f921\"]]},\"colorway\":[\"#636efa\",\"#EF553B\",\"#00cc96\",\"#ab63fa\",\"#FFA15A\",\"#19d3f3\",\"#FF6692\",\"#B6E880\",\"#FF97FF\",\"#FECB52\"],\"font\":{\"color\":\"#2a3f5f\"},\"geo\":{\"bgcolor\":\"white\",\"lakecolor\":\"white\",\"landcolor\":\"#E5ECF6\",\"showlakes\":true,\"showland\":true,\"subunitcolor\":\"white\"},\"hoverlabel\":{\"align\":\"left\"},\"hovermode\":\"closest\",\"mapbox\":{\"style\":\"light\"},\"paper_bgcolor\":\"white\",\"plot_bgcolor\":\"#E5ECF6\",\"polar\":{\"angularaxis\":{\"gridcolor\":\"white\",\"linecolor\":\"white\",\"ticks\":\"\"},\"bgcolor\":\"#E5ECF6\",\"radialaxis\":{\"gridcolor\":\"white\",\"linecolor\":\"white\",\"ticks\":\"\"}},\"scene\":{\"xaxis\":{\"backgroundcolor\":\"#E5ECF6\",\"gridcolor\":\"white\",\"gridwidth\":2,\"linecolor\":\"white\",\"showbackground\":true,\"ticks\":\"\",\"zerolinecolor\":\"white\"},\"yaxis\":{\"backgroundcolor\":\"#E5ECF6\",\"gridcolor\":\"white\",\"gridwidth\":2,\"linecolor\":\"white\",\"showbackground\":true,\"ticks\":\"\",\"zerolinecolor\":\"white\"},\"zaxis\":{\"backgroundcolor\":\"#E5ECF6\",\"gridcolor\":\"white\",\"gridwidth\":2,\"linecolor\":\"white\",\"showbackground\":true,\"ticks\":\"\",\"zerolinecolor\":\"white\"}},\"shapedefaults\":{\"line\":{\"color\":\"#2a3f5f\"}},\"ternary\":{\"aaxis\":{\"gridcolor\":\"white\",\"linecolor\":\"white\",\"ticks\":\"\"},\"baxis\":{\"gridcolor\":\"white\",\"linecolor\":\"white\",\"ticks\":\"\"},\"bgcolor\":\"#E5ECF6\",\"caxis\":{\"gridcolor\":\"white\",\"linecolor\":\"white\",\"ticks\":\"\"}},\"title\":{\"x\":0.05},\"xaxis\":{\"automargin\":true,\"gridcolor\":\"white\",\"linecolor\":\"white\",\"ticks\":\"\",\"title\":{\"standoff\":15},\"zerolinecolor\":\"white\",\"zerolinewidth\":2},\"yaxis\":{\"automargin\":true,\"gridcolor\":\"white\",\"linecolor\":\"white\",\"ticks\":\"\",\"title\":{\"standoff\":15},\"zerolinecolor\":\"white\",\"zerolinewidth\":2}}},\"title\":{\"text\":\"Box plot - Idade dos clientes\"},\"xaxis\":{\"anchor\":\"y\",\"domain\":[0.0,1.0],\"title\":{\"text\":\"\"}},\"yaxis\":{\"anchor\":\"x\",\"domain\":[0.0,1.0],\"title\":{\"text\":\"Idade\"}}},                        {\"responsive\": true}                    ).then(function(){\n",
       "                            \n",
       "var gd = document.getElementById('a8cbed21-5e99-4fe1-978a-78ec9d570837');\n",
       "var x = new MutationObserver(function (mutations, observer) {{\n",
       "        var display = window.getComputedStyle(gd).display;\n",
       "        if (!display || display === 'none') {{\n",
       "            console.log([gd, 'removed!']);\n",
       "            Plotly.purge(gd);\n",
       "            observer.disconnect();\n",
       "        }}\n",
       "}});\n",
       "\n",
       "// Listen for the removal of the full notebook cells\n",
       "var notebookContainer = gd.closest('#notebook-container');\n",
       "if (notebookContainer) {{\n",
       "    x.observe(notebookContainer, {childList: true});\n",
       "}}\n",
       "\n",
       "// Listen for the clearing of the current output cell\n",
       "var outputEl = gd.closest('.output');\n",
       "if (outputEl) {{\n",
       "    x.observe(outputEl, {childList: true});\n",
       "}}\n",
       "\n",
       "                        })                };                });            </script>        </div>"
      ]
     },
     "metadata": {},
     "output_type": "display_data"
    }
   ],
   "source": [
    "fig_box_plot_idade = px.box(tabela_cliente_gasto_idade, x=\"idade\", y=\"total_mes\", labels={\"total_mes\": \"Total gasto pelo cliente\", \"idade\": \"Idade\"} )\n",
    "fig_box_plot_idade.update_traces(marker = {'color': '#00CC96'})\n",
    "fig_box_plot_idade.update_layout(title = 'Box plot - Idade dos clientes')\n",
    "fig_box_plot_idade.update_xaxes(title = '')\n",
    "fig_box_plot_idade.update_yaxes(title = 'Idade')\n",
    "fig_box_plot_idade.show()"
   ]
  },
  {
   "cell_type": "code",
   "execution_count": 34,
   "id": "10489d5f",
   "metadata": {},
   "outputs": [
    {
     "name": "stdout",
     "output_type": "stream",
     "text": [
      "Correlação dos dados: -0.006114972508488206\n"
     ]
    }
   ],
   "source": [
    "# Calculando a correlação dos dados\n",
    "Correlação= tabela_cliente_gasto_idade['total_mes'].corr(tabela_cliente_gasto_idade['idade'])\n",
    "print(f\"Correlação dos dados:\", Correlação)"
   ]
  },
  {
   "cell_type": "code",
   "execution_count": 35,
   "id": "168d0d63",
   "metadata": {},
   "outputs": [
    {
     "data": {
      "application/vnd.plotly.v1+json": {
       "config": {
        "plotlyServerURL": "https://plot.ly"
       },
       "data": [
        {
         "alignmentgroup": "True",
         "hovertemplate": "Dia da semana=%{x}<br>Entrada total=%{y}<extra></extra>",
         "legendgroup": "",
         "marker": {
          "color": "#00CC96",
          "pattern": {
           "shape": ""
          }
         },
         "name": "",
         "offsetgroup": "",
         "orientation": "v",
         "showlegend": false,
         "textposition": "auto",
         "type": "bar",
         "x": [
          "Segunda-feira",
          "Terça-feira",
          "Quarta-feira",
          "Quinta-feira",
          "Sexta-feira",
          "Sábado",
          "Domingo"
         ],
         "xaxis": "x",
         "y": [
          19534.54999999994,
          19296.219999999947,
          14066.429999999948,
          13751.319999999949,
          18432.139999999934,
          14807.209999999948,
          13645.969999999952
         ],
         "yaxis": "y"
        }
       ],
       "layout": {
        "barmode": "stack",
        "legend": {
         "tracegroupgap": 0
        },
        "margin": {
         "t": 60
        },
        "template": {
         "data": {
          "bar": [
           {
            "error_x": {
             "color": "#2a3f5f"
            },
            "error_y": {
             "color": "#2a3f5f"
            },
            "marker": {
             "line": {
              "color": "#E5ECF6",
              "width": 0.5
             },
             "pattern": {
              "fillmode": "overlay",
              "size": 10,
              "solidity": 0.2
             }
            },
            "type": "bar"
           }
          ],
          "barpolar": [
           {
            "marker": {
             "line": {
              "color": "#E5ECF6",
              "width": 0.5
             },
             "pattern": {
              "fillmode": "overlay",
              "size": 10,
              "solidity": 0.2
             }
            },
            "type": "barpolar"
           }
          ],
          "carpet": [
           {
            "aaxis": {
             "endlinecolor": "#2a3f5f",
             "gridcolor": "white",
             "linecolor": "white",
             "minorgridcolor": "white",
             "startlinecolor": "#2a3f5f"
            },
            "baxis": {
             "endlinecolor": "#2a3f5f",
             "gridcolor": "white",
             "linecolor": "white",
             "minorgridcolor": "white",
             "startlinecolor": "#2a3f5f"
            },
            "type": "carpet"
           }
          ],
          "choropleth": [
           {
            "colorbar": {
             "outlinewidth": 0,
             "ticks": ""
            },
            "type": "choropleth"
           }
          ],
          "contour": [
           {
            "colorbar": {
             "outlinewidth": 0,
             "ticks": ""
            },
            "colorscale": [
             [
              0,
              "#0d0887"
             ],
             [
              0.1111111111111111,
              "#46039f"
             ],
             [
              0.2222222222222222,
              "#7201a8"
             ],
             [
              0.3333333333333333,
              "#9c179e"
             ],
             [
              0.4444444444444444,
              "#bd3786"
             ],
             [
              0.5555555555555556,
              "#d8576b"
             ],
             [
              0.6666666666666666,
              "#ed7953"
             ],
             [
              0.7777777777777778,
              "#fb9f3a"
             ],
             [
              0.8888888888888888,
              "#fdca26"
             ],
             [
              1,
              "#f0f921"
             ]
            ],
            "type": "contour"
           }
          ],
          "contourcarpet": [
           {
            "colorbar": {
             "outlinewidth": 0,
             "ticks": ""
            },
            "type": "contourcarpet"
           }
          ],
          "heatmap": [
           {
            "colorbar": {
             "outlinewidth": 0,
             "ticks": ""
            },
            "colorscale": [
             [
              0,
              "#0d0887"
             ],
             [
              0.1111111111111111,
              "#46039f"
             ],
             [
              0.2222222222222222,
              "#7201a8"
             ],
             [
              0.3333333333333333,
              "#9c179e"
             ],
             [
              0.4444444444444444,
              "#bd3786"
             ],
             [
              0.5555555555555556,
              "#d8576b"
             ],
             [
              0.6666666666666666,
              "#ed7953"
             ],
             [
              0.7777777777777778,
              "#fb9f3a"
             ],
             [
              0.8888888888888888,
              "#fdca26"
             ],
             [
              1,
              "#f0f921"
             ]
            ],
            "type": "heatmap"
           }
          ],
          "heatmapgl": [
           {
            "colorbar": {
             "outlinewidth": 0,
             "ticks": ""
            },
            "colorscale": [
             [
              0,
              "#0d0887"
             ],
             [
              0.1111111111111111,
              "#46039f"
             ],
             [
              0.2222222222222222,
              "#7201a8"
             ],
             [
              0.3333333333333333,
              "#9c179e"
             ],
             [
              0.4444444444444444,
              "#bd3786"
             ],
             [
              0.5555555555555556,
              "#d8576b"
             ],
             [
              0.6666666666666666,
              "#ed7953"
             ],
             [
              0.7777777777777778,
              "#fb9f3a"
             ],
             [
              0.8888888888888888,
              "#fdca26"
             ],
             [
              1,
              "#f0f921"
             ]
            ],
            "type": "heatmapgl"
           }
          ],
          "histogram": [
           {
            "marker": {
             "pattern": {
              "fillmode": "overlay",
              "size": 10,
              "solidity": 0.2
             }
            },
            "type": "histogram"
           }
          ],
          "histogram2d": [
           {
            "colorbar": {
             "outlinewidth": 0,
             "ticks": ""
            },
            "colorscale": [
             [
              0,
              "#0d0887"
             ],
             [
              0.1111111111111111,
              "#46039f"
             ],
             [
              0.2222222222222222,
              "#7201a8"
             ],
             [
              0.3333333333333333,
              "#9c179e"
             ],
             [
              0.4444444444444444,
              "#bd3786"
             ],
             [
              0.5555555555555556,
              "#d8576b"
             ],
             [
              0.6666666666666666,
              "#ed7953"
             ],
             [
              0.7777777777777778,
              "#fb9f3a"
             ],
             [
              0.8888888888888888,
              "#fdca26"
             ],
             [
              1,
              "#f0f921"
             ]
            ],
            "type": "histogram2d"
           }
          ],
          "histogram2dcontour": [
           {
            "colorbar": {
             "outlinewidth": 0,
             "ticks": ""
            },
            "colorscale": [
             [
              0,
              "#0d0887"
             ],
             [
              0.1111111111111111,
              "#46039f"
             ],
             [
              0.2222222222222222,
              "#7201a8"
             ],
             [
              0.3333333333333333,
              "#9c179e"
             ],
             [
              0.4444444444444444,
              "#bd3786"
             ],
             [
              0.5555555555555556,
              "#d8576b"
             ],
             [
              0.6666666666666666,
              "#ed7953"
             ],
             [
              0.7777777777777778,
              "#fb9f3a"
             ],
             [
              0.8888888888888888,
              "#fdca26"
             ],
             [
              1,
              "#f0f921"
             ]
            ],
            "type": "histogram2dcontour"
           }
          ],
          "mesh3d": [
           {
            "colorbar": {
             "outlinewidth": 0,
             "ticks": ""
            },
            "type": "mesh3d"
           }
          ],
          "parcoords": [
           {
            "line": {
             "colorbar": {
              "outlinewidth": 0,
              "ticks": ""
             }
            },
            "type": "parcoords"
           }
          ],
          "pie": [
           {
            "automargin": true,
            "type": "pie"
           }
          ],
          "scatter": [
           {
            "marker": {
             "colorbar": {
              "outlinewidth": 0,
              "ticks": ""
             }
            },
            "type": "scatter"
           }
          ],
          "scatter3d": [
           {
            "line": {
             "colorbar": {
              "outlinewidth": 0,
              "ticks": ""
             }
            },
            "marker": {
             "colorbar": {
              "outlinewidth": 0,
              "ticks": ""
             }
            },
            "type": "scatter3d"
           }
          ],
          "scattercarpet": [
           {
            "marker": {
             "colorbar": {
              "outlinewidth": 0,
              "ticks": ""
             }
            },
            "type": "scattercarpet"
           }
          ],
          "scattergeo": [
           {
            "marker": {
             "colorbar": {
              "outlinewidth": 0,
              "ticks": ""
             }
            },
            "type": "scattergeo"
           }
          ],
          "scattergl": [
           {
            "marker": {
             "colorbar": {
              "outlinewidth": 0,
              "ticks": ""
             }
            },
            "type": "scattergl"
           }
          ],
          "scattermapbox": [
           {
            "marker": {
             "colorbar": {
              "outlinewidth": 0,
              "ticks": ""
             }
            },
            "type": "scattermapbox"
           }
          ],
          "scatterpolar": [
           {
            "marker": {
             "colorbar": {
              "outlinewidth": 0,
              "ticks": ""
             }
            },
            "type": "scatterpolar"
           }
          ],
          "scatterpolargl": [
           {
            "marker": {
             "colorbar": {
              "outlinewidth": 0,
              "ticks": ""
             }
            },
            "type": "scatterpolargl"
           }
          ],
          "scatterternary": [
           {
            "marker": {
             "colorbar": {
              "outlinewidth": 0,
              "ticks": ""
             }
            },
            "type": "scatterternary"
           }
          ],
          "surface": [
           {
            "colorbar": {
             "outlinewidth": 0,
             "ticks": ""
            },
            "colorscale": [
             [
              0,
              "#0d0887"
             ],
             [
              0.1111111111111111,
              "#46039f"
             ],
             [
              0.2222222222222222,
              "#7201a8"
             ],
             [
              0.3333333333333333,
              "#9c179e"
             ],
             [
              0.4444444444444444,
              "#bd3786"
             ],
             [
              0.5555555555555556,
              "#d8576b"
             ],
             [
              0.6666666666666666,
              "#ed7953"
             ],
             [
              0.7777777777777778,
              "#fb9f3a"
             ],
             [
              0.8888888888888888,
              "#fdca26"
             ],
             [
              1,
              "#f0f921"
             ]
            ],
            "type": "surface"
           }
          ],
          "table": [
           {
            "cells": {
             "fill": {
              "color": "#EBF0F8"
             },
             "line": {
              "color": "white"
             }
            },
            "header": {
             "fill": {
              "color": "#C8D4E3"
             },
             "line": {
              "color": "white"
             }
            },
            "type": "table"
           }
          ]
         },
         "layout": {
          "annotationdefaults": {
           "arrowcolor": "#2a3f5f",
           "arrowhead": 0,
           "arrowwidth": 1
          },
          "autotypenumbers": "strict",
          "coloraxis": {
           "colorbar": {
            "outlinewidth": 0,
            "ticks": ""
           }
          },
          "colorscale": {
           "diverging": [
            [
             0,
             "#8e0152"
            ],
            [
             0.1,
             "#c51b7d"
            ],
            [
             0.2,
             "#de77ae"
            ],
            [
             0.3,
             "#f1b6da"
            ],
            [
             0.4,
             "#fde0ef"
            ],
            [
             0.5,
             "#f7f7f7"
            ],
            [
             0.6,
             "#e6f5d0"
            ],
            [
             0.7,
             "#b8e186"
            ],
            [
             0.8,
             "#7fbc41"
            ],
            [
             0.9,
             "#4d9221"
            ],
            [
             1,
             "#276419"
            ]
           ],
           "sequential": [
            [
             0,
             "#0d0887"
            ],
            [
             0.1111111111111111,
             "#46039f"
            ],
            [
             0.2222222222222222,
             "#7201a8"
            ],
            [
             0.3333333333333333,
             "#9c179e"
            ],
            [
             0.4444444444444444,
             "#bd3786"
            ],
            [
             0.5555555555555556,
             "#d8576b"
            ],
            [
             0.6666666666666666,
             "#ed7953"
            ],
            [
             0.7777777777777778,
             "#fb9f3a"
            ],
            [
             0.8888888888888888,
             "#fdca26"
            ],
            [
             1,
             "#f0f921"
            ]
           ],
           "sequentialminus": [
            [
             0,
             "#0d0887"
            ],
            [
             0.1111111111111111,
             "#46039f"
            ],
            [
             0.2222222222222222,
             "#7201a8"
            ],
            [
             0.3333333333333333,
             "#9c179e"
            ],
            [
             0.4444444444444444,
             "#bd3786"
            ],
            [
             0.5555555555555556,
             "#d8576b"
            ],
            [
             0.6666666666666666,
             "#ed7953"
            ],
            [
             0.7777777777777778,
             "#fb9f3a"
            ],
            [
             0.8888888888888888,
             "#fdca26"
            ],
            [
             1,
             "#f0f921"
            ]
           ]
          },
          "colorway": [
           "#636efa",
           "#EF553B",
           "#00cc96",
           "#ab63fa",
           "#FFA15A",
           "#19d3f3",
           "#FF6692",
           "#B6E880",
           "#FF97FF",
           "#FECB52"
          ],
          "font": {
           "color": "#2a3f5f"
          },
          "geo": {
           "bgcolor": "white",
           "lakecolor": "white",
           "landcolor": "#E5ECF6",
           "showlakes": true,
           "showland": true,
           "subunitcolor": "white"
          },
          "hoverlabel": {
           "align": "left"
          },
          "hovermode": "closest",
          "mapbox": {
           "style": "light"
          },
          "paper_bgcolor": "white",
          "plot_bgcolor": "#E5ECF6",
          "polar": {
           "angularaxis": {
            "gridcolor": "white",
            "linecolor": "white",
            "ticks": ""
           },
           "bgcolor": "#E5ECF6",
           "radialaxis": {
            "gridcolor": "white",
            "linecolor": "white",
            "ticks": ""
           }
          },
          "scene": {
           "xaxis": {
            "backgroundcolor": "#E5ECF6",
            "gridcolor": "white",
            "gridwidth": 2,
            "linecolor": "white",
            "showbackground": true,
            "ticks": "",
            "zerolinecolor": "white"
           },
           "yaxis": {
            "backgroundcolor": "#E5ECF6",
            "gridcolor": "white",
            "gridwidth": 2,
            "linecolor": "white",
            "showbackground": true,
            "ticks": "",
            "zerolinecolor": "white"
           },
           "zaxis": {
            "backgroundcolor": "#E5ECF6",
            "gridcolor": "white",
            "gridwidth": 2,
            "linecolor": "white",
            "showbackground": true,
            "ticks": "",
            "zerolinecolor": "white"
           }
          },
          "shapedefaults": {
           "line": {
            "color": "#2a3f5f"
           }
          },
          "ternary": {
           "aaxis": {
            "gridcolor": "white",
            "linecolor": "white",
            "ticks": ""
           },
           "baxis": {
            "gridcolor": "white",
            "linecolor": "white",
            "ticks": ""
           },
           "bgcolor": "#E5ECF6",
           "caxis": {
            "gridcolor": "white",
            "linecolor": "white",
            "ticks": ""
           }
          },
          "title": {
           "x": 0.05
          },
          "xaxis": {
           "automargin": true,
           "gridcolor": "white",
           "linecolor": "white",
           "ticks": "",
           "title": {
            "standoff": 15
           },
           "zerolinecolor": "white",
           "zerolinewidth": 2
          },
          "yaxis": {
           "automargin": true,
           "gridcolor": "white",
           "linecolor": "white",
           "ticks": "",
           "title": {
            "standoff": 15
           },
           "zerolinecolor": "white",
           "zerolinewidth": 2
          }
         }
        },
        "title": {
         "text": "Entrada total por dia da semana no mês de novembro"
        },
        "xaxis": {
         "anchor": "y",
         "domain": [
          0,
          1
         ],
         "title": {
          "text": "Dia da semana"
         }
        },
        "yaxis": {
         "anchor": "x",
         "domain": [
          0,
          1
         ],
         "title": {
          "text": "Entrada"
         }
        }
       }
      },
      "text/html": [
       "<div>                            <div id=\"6b94e089-8dfe-4cd9-b34f-4a58070b066a\" class=\"plotly-graph-div\" style=\"height:525px; width:100%;\"></div>            <script type=\"text/javascript\">                require([\"plotly\"], function(Plotly) {                    window.PLOTLYENV=window.PLOTLYENV || {};                                    if (document.getElementById(\"6b94e089-8dfe-4cd9-b34f-4a58070b066a\")) {                    Plotly.newPlot(                        \"6b94e089-8dfe-4cd9-b34f-4a58070b066a\",                        [{\"alignmentgroup\":\"True\",\"hovertemplate\":\"Dia da semana=%{x}<br>Entrada total=%{y}<extra></extra>\",\"legendgroup\":\"\",\"marker\":{\"color\":\"#00CC96\",\"pattern\":{\"shape\":\"\"}},\"name\":\"\",\"offsetgroup\":\"\",\"orientation\":\"v\",\"showlegend\":false,\"textposition\":\"auto\",\"type\":\"bar\",\"x\":[\"Segunda-feira\",\"Ter\\u00e7a-feira\",\"Quarta-feira\",\"Quinta-feira\",\"Sexta-feira\",\"S\\u00e1bado\",\"Domingo\"],\"xaxis\":\"x\",\"y\":[19534.54999999994,19296.219999999947,14066.429999999948,13751.319999999949,18432.139999999934,14807.209999999948,13645.969999999952],\"yaxis\":\"y\"}],                        {\"barmode\":\"stack\",\"legend\":{\"tracegroupgap\":0},\"margin\":{\"t\":60},\"template\":{\"data\":{\"bar\":[{\"error_x\":{\"color\":\"#2a3f5f\"},\"error_y\":{\"color\":\"#2a3f5f\"},\"marker\":{\"line\":{\"color\":\"#E5ECF6\",\"width\":0.5},\"pattern\":{\"fillmode\":\"overlay\",\"size\":10,\"solidity\":0.2}},\"type\":\"bar\"}],\"barpolar\":[{\"marker\":{\"line\":{\"color\":\"#E5ECF6\",\"width\":0.5},\"pattern\":{\"fillmode\":\"overlay\",\"size\":10,\"solidity\":0.2}},\"type\":\"barpolar\"}],\"carpet\":[{\"aaxis\":{\"endlinecolor\":\"#2a3f5f\",\"gridcolor\":\"white\",\"linecolor\":\"white\",\"minorgridcolor\":\"white\",\"startlinecolor\":\"#2a3f5f\"},\"baxis\":{\"endlinecolor\":\"#2a3f5f\",\"gridcolor\":\"white\",\"linecolor\":\"white\",\"minorgridcolor\":\"white\",\"startlinecolor\":\"#2a3f5f\"},\"type\":\"carpet\"}],\"choropleth\":[{\"colorbar\":{\"outlinewidth\":0,\"ticks\":\"\"},\"type\":\"choropleth\"}],\"contour\":[{\"colorbar\":{\"outlinewidth\":0,\"ticks\":\"\"},\"colorscale\":[[0.0,\"#0d0887\"],[0.1111111111111111,\"#46039f\"],[0.2222222222222222,\"#7201a8\"],[0.3333333333333333,\"#9c179e\"],[0.4444444444444444,\"#bd3786\"],[0.5555555555555556,\"#d8576b\"],[0.6666666666666666,\"#ed7953\"],[0.7777777777777778,\"#fb9f3a\"],[0.8888888888888888,\"#fdca26\"],[1.0,\"#f0f921\"]],\"type\":\"contour\"}],\"contourcarpet\":[{\"colorbar\":{\"outlinewidth\":0,\"ticks\":\"\"},\"type\":\"contourcarpet\"}],\"heatmap\":[{\"colorbar\":{\"outlinewidth\":0,\"ticks\":\"\"},\"colorscale\":[[0.0,\"#0d0887\"],[0.1111111111111111,\"#46039f\"],[0.2222222222222222,\"#7201a8\"],[0.3333333333333333,\"#9c179e\"],[0.4444444444444444,\"#bd3786\"],[0.5555555555555556,\"#d8576b\"],[0.6666666666666666,\"#ed7953\"],[0.7777777777777778,\"#fb9f3a\"],[0.8888888888888888,\"#fdca26\"],[1.0,\"#f0f921\"]],\"type\":\"heatmap\"}],\"heatmapgl\":[{\"colorbar\":{\"outlinewidth\":0,\"ticks\":\"\"},\"colorscale\":[[0.0,\"#0d0887\"],[0.1111111111111111,\"#46039f\"],[0.2222222222222222,\"#7201a8\"],[0.3333333333333333,\"#9c179e\"],[0.4444444444444444,\"#bd3786\"],[0.5555555555555556,\"#d8576b\"],[0.6666666666666666,\"#ed7953\"],[0.7777777777777778,\"#fb9f3a\"],[0.8888888888888888,\"#fdca26\"],[1.0,\"#f0f921\"]],\"type\":\"heatmapgl\"}],\"histogram\":[{\"marker\":{\"pattern\":{\"fillmode\":\"overlay\",\"size\":10,\"solidity\":0.2}},\"type\":\"histogram\"}],\"histogram2d\":[{\"colorbar\":{\"outlinewidth\":0,\"ticks\":\"\"},\"colorscale\":[[0.0,\"#0d0887\"],[0.1111111111111111,\"#46039f\"],[0.2222222222222222,\"#7201a8\"],[0.3333333333333333,\"#9c179e\"],[0.4444444444444444,\"#bd3786\"],[0.5555555555555556,\"#d8576b\"],[0.6666666666666666,\"#ed7953\"],[0.7777777777777778,\"#fb9f3a\"],[0.8888888888888888,\"#fdca26\"],[1.0,\"#f0f921\"]],\"type\":\"histogram2d\"}],\"histogram2dcontour\":[{\"colorbar\":{\"outlinewidth\":0,\"ticks\":\"\"},\"colorscale\":[[0.0,\"#0d0887\"],[0.1111111111111111,\"#46039f\"],[0.2222222222222222,\"#7201a8\"],[0.3333333333333333,\"#9c179e\"],[0.4444444444444444,\"#bd3786\"],[0.5555555555555556,\"#d8576b\"],[0.6666666666666666,\"#ed7953\"],[0.7777777777777778,\"#fb9f3a\"],[0.8888888888888888,\"#fdca26\"],[1.0,\"#f0f921\"]],\"type\":\"histogram2dcontour\"}],\"mesh3d\":[{\"colorbar\":{\"outlinewidth\":0,\"ticks\":\"\"},\"type\":\"mesh3d\"}],\"parcoords\":[{\"line\":{\"colorbar\":{\"outlinewidth\":0,\"ticks\":\"\"}},\"type\":\"parcoords\"}],\"pie\":[{\"automargin\":true,\"type\":\"pie\"}],\"scatter\":[{\"marker\":{\"colorbar\":{\"outlinewidth\":0,\"ticks\":\"\"}},\"type\":\"scatter\"}],\"scatter3d\":[{\"line\":{\"colorbar\":{\"outlinewidth\":0,\"ticks\":\"\"}},\"marker\":{\"colorbar\":{\"outlinewidth\":0,\"ticks\":\"\"}},\"type\":\"scatter3d\"}],\"scattercarpet\":[{\"marker\":{\"colorbar\":{\"outlinewidth\":0,\"ticks\":\"\"}},\"type\":\"scattercarpet\"}],\"scattergeo\":[{\"marker\":{\"colorbar\":{\"outlinewidth\":0,\"ticks\":\"\"}},\"type\":\"scattergeo\"}],\"scattergl\":[{\"marker\":{\"colorbar\":{\"outlinewidth\":0,\"ticks\":\"\"}},\"type\":\"scattergl\"}],\"scattermapbox\":[{\"marker\":{\"colorbar\":{\"outlinewidth\":0,\"ticks\":\"\"}},\"type\":\"scattermapbox\"}],\"scatterpolar\":[{\"marker\":{\"colorbar\":{\"outlinewidth\":0,\"ticks\":\"\"}},\"type\":\"scatterpolar\"}],\"scatterpolargl\":[{\"marker\":{\"colorbar\":{\"outlinewidth\":0,\"ticks\":\"\"}},\"type\":\"scatterpolargl\"}],\"scatterternary\":[{\"marker\":{\"colorbar\":{\"outlinewidth\":0,\"ticks\":\"\"}},\"type\":\"scatterternary\"}],\"surface\":[{\"colorbar\":{\"outlinewidth\":0,\"ticks\":\"\"},\"colorscale\":[[0.0,\"#0d0887\"],[0.1111111111111111,\"#46039f\"],[0.2222222222222222,\"#7201a8\"],[0.3333333333333333,\"#9c179e\"],[0.4444444444444444,\"#bd3786\"],[0.5555555555555556,\"#d8576b\"],[0.6666666666666666,\"#ed7953\"],[0.7777777777777778,\"#fb9f3a\"],[0.8888888888888888,\"#fdca26\"],[1.0,\"#f0f921\"]],\"type\":\"surface\"}],\"table\":[{\"cells\":{\"fill\":{\"color\":\"#EBF0F8\"},\"line\":{\"color\":\"white\"}},\"header\":{\"fill\":{\"color\":\"#C8D4E3\"},\"line\":{\"color\":\"white\"}},\"type\":\"table\"}]},\"layout\":{\"annotationdefaults\":{\"arrowcolor\":\"#2a3f5f\",\"arrowhead\":0,\"arrowwidth\":1},\"autotypenumbers\":\"strict\",\"coloraxis\":{\"colorbar\":{\"outlinewidth\":0,\"ticks\":\"\"}},\"colorscale\":{\"diverging\":[[0,\"#8e0152\"],[0.1,\"#c51b7d\"],[0.2,\"#de77ae\"],[0.3,\"#f1b6da\"],[0.4,\"#fde0ef\"],[0.5,\"#f7f7f7\"],[0.6,\"#e6f5d0\"],[0.7,\"#b8e186\"],[0.8,\"#7fbc41\"],[0.9,\"#4d9221\"],[1,\"#276419\"]],\"sequential\":[[0.0,\"#0d0887\"],[0.1111111111111111,\"#46039f\"],[0.2222222222222222,\"#7201a8\"],[0.3333333333333333,\"#9c179e\"],[0.4444444444444444,\"#bd3786\"],[0.5555555555555556,\"#d8576b\"],[0.6666666666666666,\"#ed7953\"],[0.7777777777777778,\"#fb9f3a\"],[0.8888888888888888,\"#fdca26\"],[1.0,\"#f0f921\"]],\"sequentialminus\":[[0.0,\"#0d0887\"],[0.1111111111111111,\"#46039f\"],[0.2222222222222222,\"#7201a8\"],[0.3333333333333333,\"#9c179e\"],[0.4444444444444444,\"#bd3786\"],[0.5555555555555556,\"#d8576b\"],[0.6666666666666666,\"#ed7953\"],[0.7777777777777778,\"#fb9f3a\"],[0.8888888888888888,\"#fdca26\"],[1.0,\"#f0f921\"]]},\"colorway\":[\"#636efa\",\"#EF553B\",\"#00cc96\",\"#ab63fa\",\"#FFA15A\",\"#19d3f3\",\"#FF6692\",\"#B6E880\",\"#FF97FF\",\"#FECB52\"],\"font\":{\"color\":\"#2a3f5f\"},\"geo\":{\"bgcolor\":\"white\",\"lakecolor\":\"white\",\"landcolor\":\"#E5ECF6\",\"showlakes\":true,\"showland\":true,\"subunitcolor\":\"white\"},\"hoverlabel\":{\"align\":\"left\"},\"hovermode\":\"closest\",\"mapbox\":{\"style\":\"light\"},\"paper_bgcolor\":\"white\",\"plot_bgcolor\":\"#E5ECF6\",\"polar\":{\"angularaxis\":{\"gridcolor\":\"white\",\"linecolor\":\"white\",\"ticks\":\"\"},\"bgcolor\":\"#E5ECF6\",\"radialaxis\":{\"gridcolor\":\"white\",\"linecolor\":\"white\",\"ticks\":\"\"}},\"scene\":{\"xaxis\":{\"backgroundcolor\":\"#E5ECF6\",\"gridcolor\":\"white\",\"gridwidth\":2,\"linecolor\":\"white\",\"showbackground\":true,\"ticks\":\"\",\"zerolinecolor\":\"white\"},\"yaxis\":{\"backgroundcolor\":\"#E5ECF6\",\"gridcolor\":\"white\",\"gridwidth\":2,\"linecolor\":\"white\",\"showbackground\":true,\"ticks\":\"\",\"zerolinecolor\":\"white\"},\"zaxis\":{\"backgroundcolor\":\"#E5ECF6\",\"gridcolor\":\"white\",\"gridwidth\":2,\"linecolor\":\"white\",\"showbackground\":true,\"ticks\":\"\",\"zerolinecolor\":\"white\"}},\"shapedefaults\":{\"line\":{\"color\":\"#2a3f5f\"}},\"ternary\":{\"aaxis\":{\"gridcolor\":\"white\",\"linecolor\":\"white\",\"ticks\":\"\"},\"baxis\":{\"gridcolor\":\"white\",\"linecolor\":\"white\",\"ticks\":\"\"},\"bgcolor\":\"#E5ECF6\",\"caxis\":{\"gridcolor\":\"white\",\"linecolor\":\"white\",\"ticks\":\"\"}},\"title\":{\"x\":0.05},\"xaxis\":{\"automargin\":true,\"gridcolor\":\"white\",\"linecolor\":\"white\",\"ticks\":\"\",\"title\":{\"standoff\":15},\"zerolinecolor\":\"white\",\"zerolinewidth\":2},\"yaxis\":{\"automargin\":true,\"gridcolor\":\"white\",\"linecolor\":\"white\",\"ticks\":\"\",\"title\":{\"standoff\":15},\"zerolinecolor\":\"white\",\"zerolinewidth\":2}}},\"title\":{\"text\":\"Entrada total por dia da semana no m\\u00eas de novembro\"},\"xaxis\":{\"anchor\":\"y\",\"domain\":[0.0,1.0],\"title\":{\"text\":\"Dia da semana\"}},\"yaxis\":{\"anchor\":\"x\",\"domain\":[0.0,1.0],\"title\":{\"text\":\"Entrada\"}}},                        {\"responsive\": true}                    ).then(function(){\n",
       "                            \n",
       "var gd = document.getElementById('6b94e089-8dfe-4cd9-b34f-4a58070b066a');\n",
       "var x = new MutationObserver(function (mutations, observer) {{\n",
       "        var display = window.getComputedStyle(gd).display;\n",
       "        if (!display || display === 'none') {{\n",
       "            console.log([gd, 'removed!']);\n",
       "            Plotly.purge(gd);\n",
       "            observer.disconnect();\n",
       "        }}\n",
       "}});\n",
       "\n",
       "// Listen for the removal of the full notebook cells\n",
       "var notebookContainer = gd.closest('#notebook-container');\n",
       "if (notebookContainer) {{\n",
       "    x.observe(notebookContainer, {childList: true});\n",
       "}}\n",
       "\n",
       "// Listen for the clearing of the current output cell\n",
       "var outputEl = gd.closest('.output');\n",
       "if (outputEl) {{\n",
       "    x.observe(outputEl, {childList: true});\n",
       "}}\n",
       "\n",
       "                        })                };                });            </script>        </div>"
      ]
     },
     "metadata": {},
     "output_type": "display_data"
    }
   ],
   "source": [
    "import datetime\n",
    "venda_produtos_cliente[\"lucro\"]=(venda_produtos_cliente[\"preco\"]-venda_produtos_cliente[\"custo\"])*venda_produtos_cliente[\"quantidade\"]\n",
    "venda_produtos_cliente['data'] = pd.to_datetime(venda_produtos_cliente['data'])\n",
    "venda_produtos_cliente['dia_sem'] = venda_produtos_cliente['data'].dt.weekday\n",
    "entrada_bruta_sem = venda_produtos_cliente.groupby(['dia_sem']).sum().sort_values('dia_sem').reset_index()\n",
    "\n",
    "entrada_bruta_sem[\"dia_sem\"].replace({0:\"Segunda-feira\", 1: \"Terça-feira\", 2: \"Quarta-feira\", 3: \"Quinta-feira\", 4: \"Sexta-feira\", 5: \"Sábado\", 6: \"Domingo\"}, inplace=True)\n",
    "\n",
    "#Plotando Gráfico\n",
    "fig = px.bar(entrada_bruta_sem,\n",
    "             x='dia_sem', y=\"total_preco\",\n",
    "             labels={\"dia_sem\": \"Dia da semana\", \"total_preco\": \"Entrada total\"},\n",
    "             barmode='stack')\n",
    "fig.update_traces(marker = {'color': '#00CC96'})\n",
    "fig.update_layout(title = 'Entrada total por dia da semana no mês de novembro')\n",
    "fig.update_xaxes(title = 'Dia da semana')\n",
    "fig.update_yaxes(title = 'Entrada')\n",
    "fig.show()"
   ]
  },
  {
   "cell_type": "code",
   "execution_count": null,
   "id": "aa8ffa57",
   "metadata": {},
   "outputs": [],
   "source": []
  },
  {
   "cell_type": "code",
   "execution_count": 36,
   "id": "3d31a295",
   "metadata": {},
   "outputs": [
    {
     "data": {
      "application/vnd.plotly.v1+json": {
       "config": {
        "plotlyServerURL": "https://plot.ly"
       },
       "data": [
        {
         "alignmentgroup": "True",
         "hovertemplate": "Dia da semana=%{x}<br>Lucro total=%{y}<extra></extra>",
         "legendgroup": "",
         "marker": {
          "color": "#00CC96",
          "pattern": {
           "shape": ""
          }
         },
         "name": "",
         "offsetgroup": "",
         "orientation": "v",
         "showlegend": false,
         "textposition": "auto",
         "type": "bar",
         "x": [
          "Segunda-feira",
          "Terça-feira",
          "Quarta-feira",
          "Quinta-feira",
          "Sexta-feira",
          "Sábado",
          "Domingo"
         ],
         "xaxis": "x",
         "y": [
          5893.169999999999,
          5669.999999999999,
          4426.789999999999,
          4379.449999999998,
          5851.43,
          4315.210000000002,
          4480.42
         ],
         "yaxis": "y"
        }
       ],
       "layout": {
        "barmode": "stack",
        "legend": {
         "tracegroupgap": 0
        },
        "margin": {
         "t": 60
        },
        "template": {
         "data": {
          "bar": [
           {
            "error_x": {
             "color": "#2a3f5f"
            },
            "error_y": {
             "color": "#2a3f5f"
            },
            "marker": {
             "line": {
              "color": "#E5ECF6",
              "width": 0.5
             },
             "pattern": {
              "fillmode": "overlay",
              "size": 10,
              "solidity": 0.2
             }
            },
            "type": "bar"
           }
          ],
          "barpolar": [
           {
            "marker": {
             "line": {
              "color": "#E5ECF6",
              "width": 0.5
             },
             "pattern": {
              "fillmode": "overlay",
              "size": 10,
              "solidity": 0.2
             }
            },
            "type": "barpolar"
           }
          ],
          "carpet": [
           {
            "aaxis": {
             "endlinecolor": "#2a3f5f",
             "gridcolor": "white",
             "linecolor": "white",
             "minorgridcolor": "white",
             "startlinecolor": "#2a3f5f"
            },
            "baxis": {
             "endlinecolor": "#2a3f5f",
             "gridcolor": "white",
             "linecolor": "white",
             "minorgridcolor": "white",
             "startlinecolor": "#2a3f5f"
            },
            "type": "carpet"
           }
          ],
          "choropleth": [
           {
            "colorbar": {
             "outlinewidth": 0,
             "ticks": ""
            },
            "type": "choropleth"
           }
          ],
          "contour": [
           {
            "colorbar": {
             "outlinewidth": 0,
             "ticks": ""
            },
            "colorscale": [
             [
              0,
              "#0d0887"
             ],
             [
              0.1111111111111111,
              "#46039f"
             ],
             [
              0.2222222222222222,
              "#7201a8"
             ],
             [
              0.3333333333333333,
              "#9c179e"
             ],
             [
              0.4444444444444444,
              "#bd3786"
             ],
             [
              0.5555555555555556,
              "#d8576b"
             ],
             [
              0.6666666666666666,
              "#ed7953"
             ],
             [
              0.7777777777777778,
              "#fb9f3a"
             ],
             [
              0.8888888888888888,
              "#fdca26"
             ],
             [
              1,
              "#f0f921"
             ]
            ],
            "type": "contour"
           }
          ],
          "contourcarpet": [
           {
            "colorbar": {
             "outlinewidth": 0,
             "ticks": ""
            },
            "type": "contourcarpet"
           }
          ],
          "heatmap": [
           {
            "colorbar": {
             "outlinewidth": 0,
             "ticks": ""
            },
            "colorscale": [
             [
              0,
              "#0d0887"
             ],
             [
              0.1111111111111111,
              "#46039f"
             ],
             [
              0.2222222222222222,
              "#7201a8"
             ],
             [
              0.3333333333333333,
              "#9c179e"
             ],
             [
              0.4444444444444444,
              "#bd3786"
             ],
             [
              0.5555555555555556,
              "#d8576b"
             ],
             [
              0.6666666666666666,
              "#ed7953"
             ],
             [
              0.7777777777777778,
              "#fb9f3a"
             ],
             [
              0.8888888888888888,
              "#fdca26"
             ],
             [
              1,
              "#f0f921"
             ]
            ],
            "type": "heatmap"
           }
          ],
          "heatmapgl": [
           {
            "colorbar": {
             "outlinewidth": 0,
             "ticks": ""
            },
            "colorscale": [
             [
              0,
              "#0d0887"
             ],
             [
              0.1111111111111111,
              "#46039f"
             ],
             [
              0.2222222222222222,
              "#7201a8"
             ],
             [
              0.3333333333333333,
              "#9c179e"
             ],
             [
              0.4444444444444444,
              "#bd3786"
             ],
             [
              0.5555555555555556,
              "#d8576b"
             ],
             [
              0.6666666666666666,
              "#ed7953"
             ],
             [
              0.7777777777777778,
              "#fb9f3a"
             ],
             [
              0.8888888888888888,
              "#fdca26"
             ],
             [
              1,
              "#f0f921"
             ]
            ],
            "type": "heatmapgl"
           }
          ],
          "histogram": [
           {
            "marker": {
             "pattern": {
              "fillmode": "overlay",
              "size": 10,
              "solidity": 0.2
             }
            },
            "type": "histogram"
           }
          ],
          "histogram2d": [
           {
            "colorbar": {
             "outlinewidth": 0,
             "ticks": ""
            },
            "colorscale": [
             [
              0,
              "#0d0887"
             ],
             [
              0.1111111111111111,
              "#46039f"
             ],
             [
              0.2222222222222222,
              "#7201a8"
             ],
             [
              0.3333333333333333,
              "#9c179e"
             ],
             [
              0.4444444444444444,
              "#bd3786"
             ],
             [
              0.5555555555555556,
              "#d8576b"
             ],
             [
              0.6666666666666666,
              "#ed7953"
             ],
             [
              0.7777777777777778,
              "#fb9f3a"
             ],
             [
              0.8888888888888888,
              "#fdca26"
             ],
             [
              1,
              "#f0f921"
             ]
            ],
            "type": "histogram2d"
           }
          ],
          "histogram2dcontour": [
           {
            "colorbar": {
             "outlinewidth": 0,
             "ticks": ""
            },
            "colorscale": [
             [
              0,
              "#0d0887"
             ],
             [
              0.1111111111111111,
              "#46039f"
             ],
             [
              0.2222222222222222,
              "#7201a8"
             ],
             [
              0.3333333333333333,
              "#9c179e"
             ],
             [
              0.4444444444444444,
              "#bd3786"
             ],
             [
              0.5555555555555556,
              "#d8576b"
             ],
             [
              0.6666666666666666,
              "#ed7953"
             ],
             [
              0.7777777777777778,
              "#fb9f3a"
             ],
             [
              0.8888888888888888,
              "#fdca26"
             ],
             [
              1,
              "#f0f921"
             ]
            ],
            "type": "histogram2dcontour"
           }
          ],
          "mesh3d": [
           {
            "colorbar": {
             "outlinewidth": 0,
             "ticks": ""
            },
            "type": "mesh3d"
           }
          ],
          "parcoords": [
           {
            "line": {
             "colorbar": {
              "outlinewidth": 0,
              "ticks": ""
             }
            },
            "type": "parcoords"
           }
          ],
          "pie": [
           {
            "automargin": true,
            "type": "pie"
           }
          ],
          "scatter": [
           {
            "marker": {
             "colorbar": {
              "outlinewidth": 0,
              "ticks": ""
             }
            },
            "type": "scatter"
           }
          ],
          "scatter3d": [
           {
            "line": {
             "colorbar": {
              "outlinewidth": 0,
              "ticks": ""
             }
            },
            "marker": {
             "colorbar": {
              "outlinewidth": 0,
              "ticks": ""
             }
            },
            "type": "scatter3d"
           }
          ],
          "scattercarpet": [
           {
            "marker": {
             "colorbar": {
              "outlinewidth": 0,
              "ticks": ""
             }
            },
            "type": "scattercarpet"
           }
          ],
          "scattergeo": [
           {
            "marker": {
             "colorbar": {
              "outlinewidth": 0,
              "ticks": ""
             }
            },
            "type": "scattergeo"
           }
          ],
          "scattergl": [
           {
            "marker": {
             "colorbar": {
              "outlinewidth": 0,
              "ticks": ""
             }
            },
            "type": "scattergl"
           }
          ],
          "scattermapbox": [
           {
            "marker": {
             "colorbar": {
              "outlinewidth": 0,
              "ticks": ""
             }
            },
            "type": "scattermapbox"
           }
          ],
          "scatterpolar": [
           {
            "marker": {
             "colorbar": {
              "outlinewidth": 0,
              "ticks": ""
             }
            },
            "type": "scatterpolar"
           }
          ],
          "scatterpolargl": [
           {
            "marker": {
             "colorbar": {
              "outlinewidth": 0,
              "ticks": ""
             }
            },
            "type": "scatterpolargl"
           }
          ],
          "scatterternary": [
           {
            "marker": {
             "colorbar": {
              "outlinewidth": 0,
              "ticks": ""
             }
            },
            "type": "scatterternary"
           }
          ],
          "surface": [
           {
            "colorbar": {
             "outlinewidth": 0,
             "ticks": ""
            },
            "colorscale": [
             [
              0,
              "#0d0887"
             ],
             [
              0.1111111111111111,
              "#46039f"
             ],
             [
              0.2222222222222222,
              "#7201a8"
             ],
             [
              0.3333333333333333,
              "#9c179e"
             ],
             [
              0.4444444444444444,
              "#bd3786"
             ],
             [
              0.5555555555555556,
              "#d8576b"
             ],
             [
              0.6666666666666666,
              "#ed7953"
             ],
             [
              0.7777777777777778,
              "#fb9f3a"
             ],
             [
              0.8888888888888888,
              "#fdca26"
             ],
             [
              1,
              "#f0f921"
             ]
            ],
            "type": "surface"
           }
          ],
          "table": [
           {
            "cells": {
             "fill": {
              "color": "#EBF0F8"
             },
             "line": {
              "color": "white"
             }
            },
            "header": {
             "fill": {
              "color": "#C8D4E3"
             },
             "line": {
              "color": "white"
             }
            },
            "type": "table"
           }
          ]
         },
         "layout": {
          "annotationdefaults": {
           "arrowcolor": "#2a3f5f",
           "arrowhead": 0,
           "arrowwidth": 1
          },
          "autotypenumbers": "strict",
          "coloraxis": {
           "colorbar": {
            "outlinewidth": 0,
            "ticks": ""
           }
          },
          "colorscale": {
           "diverging": [
            [
             0,
             "#8e0152"
            ],
            [
             0.1,
             "#c51b7d"
            ],
            [
             0.2,
             "#de77ae"
            ],
            [
             0.3,
             "#f1b6da"
            ],
            [
             0.4,
             "#fde0ef"
            ],
            [
             0.5,
             "#f7f7f7"
            ],
            [
             0.6,
             "#e6f5d0"
            ],
            [
             0.7,
             "#b8e186"
            ],
            [
             0.8,
             "#7fbc41"
            ],
            [
             0.9,
             "#4d9221"
            ],
            [
             1,
             "#276419"
            ]
           ],
           "sequential": [
            [
             0,
             "#0d0887"
            ],
            [
             0.1111111111111111,
             "#46039f"
            ],
            [
             0.2222222222222222,
             "#7201a8"
            ],
            [
             0.3333333333333333,
             "#9c179e"
            ],
            [
             0.4444444444444444,
             "#bd3786"
            ],
            [
             0.5555555555555556,
             "#d8576b"
            ],
            [
             0.6666666666666666,
             "#ed7953"
            ],
            [
             0.7777777777777778,
             "#fb9f3a"
            ],
            [
             0.8888888888888888,
             "#fdca26"
            ],
            [
             1,
             "#f0f921"
            ]
           ],
           "sequentialminus": [
            [
             0,
             "#0d0887"
            ],
            [
             0.1111111111111111,
             "#46039f"
            ],
            [
             0.2222222222222222,
             "#7201a8"
            ],
            [
             0.3333333333333333,
             "#9c179e"
            ],
            [
             0.4444444444444444,
             "#bd3786"
            ],
            [
             0.5555555555555556,
             "#d8576b"
            ],
            [
             0.6666666666666666,
             "#ed7953"
            ],
            [
             0.7777777777777778,
             "#fb9f3a"
            ],
            [
             0.8888888888888888,
             "#fdca26"
            ],
            [
             1,
             "#f0f921"
            ]
           ]
          },
          "colorway": [
           "#636efa",
           "#EF553B",
           "#00cc96",
           "#ab63fa",
           "#FFA15A",
           "#19d3f3",
           "#FF6692",
           "#B6E880",
           "#FF97FF",
           "#FECB52"
          ],
          "font": {
           "color": "#2a3f5f"
          },
          "geo": {
           "bgcolor": "white",
           "lakecolor": "white",
           "landcolor": "#E5ECF6",
           "showlakes": true,
           "showland": true,
           "subunitcolor": "white"
          },
          "hoverlabel": {
           "align": "left"
          },
          "hovermode": "closest",
          "mapbox": {
           "style": "light"
          },
          "paper_bgcolor": "white",
          "plot_bgcolor": "#E5ECF6",
          "polar": {
           "angularaxis": {
            "gridcolor": "white",
            "linecolor": "white",
            "ticks": ""
           },
           "bgcolor": "#E5ECF6",
           "radialaxis": {
            "gridcolor": "white",
            "linecolor": "white",
            "ticks": ""
           }
          },
          "scene": {
           "xaxis": {
            "backgroundcolor": "#E5ECF6",
            "gridcolor": "white",
            "gridwidth": 2,
            "linecolor": "white",
            "showbackground": true,
            "ticks": "",
            "zerolinecolor": "white"
           },
           "yaxis": {
            "backgroundcolor": "#E5ECF6",
            "gridcolor": "white",
            "gridwidth": 2,
            "linecolor": "white",
            "showbackground": true,
            "ticks": "",
            "zerolinecolor": "white"
           },
           "zaxis": {
            "backgroundcolor": "#E5ECF6",
            "gridcolor": "white",
            "gridwidth": 2,
            "linecolor": "white",
            "showbackground": true,
            "ticks": "",
            "zerolinecolor": "white"
           }
          },
          "shapedefaults": {
           "line": {
            "color": "#2a3f5f"
           }
          },
          "ternary": {
           "aaxis": {
            "gridcolor": "white",
            "linecolor": "white",
            "ticks": ""
           },
           "baxis": {
            "gridcolor": "white",
            "linecolor": "white",
            "ticks": ""
           },
           "bgcolor": "#E5ECF6",
           "caxis": {
            "gridcolor": "white",
            "linecolor": "white",
            "ticks": ""
           }
          },
          "title": {
           "x": 0.05
          },
          "xaxis": {
           "automargin": true,
           "gridcolor": "white",
           "linecolor": "white",
           "ticks": "",
           "title": {
            "standoff": 15
           },
           "zerolinecolor": "white",
           "zerolinewidth": 2
          },
          "yaxis": {
           "automargin": true,
           "gridcolor": "white",
           "linecolor": "white",
           "ticks": "",
           "title": {
            "standoff": 15
           },
           "zerolinecolor": "white",
           "zerolinewidth": 2
          }
         }
        },
        "title": {
         "text": "Lucro total por dia da semana no mês de novembro"
        },
        "xaxis": {
         "anchor": "y",
         "domain": [
          0,
          1
         ],
         "title": {
          "text": "Dia da semana"
         }
        },
        "yaxis": {
         "anchor": "x",
         "domain": [
          0,
          1
         ],
         "title": {
          "text": "Lucro"
         }
        }
       }
      },
      "text/html": [
       "<div>                            <div id=\"53a5bbe7-115c-4fd7-b60c-abad9ae7bbc2\" class=\"plotly-graph-div\" style=\"height:525px; width:100%;\"></div>            <script type=\"text/javascript\">                require([\"plotly\"], function(Plotly) {                    window.PLOTLYENV=window.PLOTLYENV || {};                                    if (document.getElementById(\"53a5bbe7-115c-4fd7-b60c-abad9ae7bbc2\")) {                    Plotly.newPlot(                        \"53a5bbe7-115c-4fd7-b60c-abad9ae7bbc2\",                        [{\"alignmentgroup\":\"True\",\"hovertemplate\":\"Dia da semana=%{x}<br>Lucro total=%{y}<extra></extra>\",\"legendgroup\":\"\",\"marker\":{\"color\":\"#00CC96\",\"pattern\":{\"shape\":\"\"}},\"name\":\"\",\"offsetgroup\":\"\",\"orientation\":\"v\",\"showlegend\":false,\"textposition\":\"auto\",\"type\":\"bar\",\"x\":[\"Segunda-feira\",\"Ter\\u00e7a-feira\",\"Quarta-feira\",\"Quinta-feira\",\"Sexta-feira\",\"S\\u00e1bado\",\"Domingo\"],\"xaxis\":\"x\",\"y\":[5893.169999999999,5669.999999999999,4426.789999999999,4379.449999999998,5851.43,4315.210000000002,4480.42],\"yaxis\":\"y\"}],                        {\"barmode\":\"stack\",\"legend\":{\"tracegroupgap\":0},\"margin\":{\"t\":60},\"template\":{\"data\":{\"bar\":[{\"error_x\":{\"color\":\"#2a3f5f\"},\"error_y\":{\"color\":\"#2a3f5f\"},\"marker\":{\"line\":{\"color\":\"#E5ECF6\",\"width\":0.5},\"pattern\":{\"fillmode\":\"overlay\",\"size\":10,\"solidity\":0.2}},\"type\":\"bar\"}],\"barpolar\":[{\"marker\":{\"line\":{\"color\":\"#E5ECF6\",\"width\":0.5},\"pattern\":{\"fillmode\":\"overlay\",\"size\":10,\"solidity\":0.2}},\"type\":\"barpolar\"}],\"carpet\":[{\"aaxis\":{\"endlinecolor\":\"#2a3f5f\",\"gridcolor\":\"white\",\"linecolor\":\"white\",\"minorgridcolor\":\"white\",\"startlinecolor\":\"#2a3f5f\"},\"baxis\":{\"endlinecolor\":\"#2a3f5f\",\"gridcolor\":\"white\",\"linecolor\":\"white\",\"minorgridcolor\":\"white\",\"startlinecolor\":\"#2a3f5f\"},\"type\":\"carpet\"}],\"choropleth\":[{\"colorbar\":{\"outlinewidth\":0,\"ticks\":\"\"},\"type\":\"choropleth\"}],\"contour\":[{\"colorbar\":{\"outlinewidth\":0,\"ticks\":\"\"},\"colorscale\":[[0.0,\"#0d0887\"],[0.1111111111111111,\"#46039f\"],[0.2222222222222222,\"#7201a8\"],[0.3333333333333333,\"#9c179e\"],[0.4444444444444444,\"#bd3786\"],[0.5555555555555556,\"#d8576b\"],[0.6666666666666666,\"#ed7953\"],[0.7777777777777778,\"#fb9f3a\"],[0.8888888888888888,\"#fdca26\"],[1.0,\"#f0f921\"]],\"type\":\"contour\"}],\"contourcarpet\":[{\"colorbar\":{\"outlinewidth\":0,\"ticks\":\"\"},\"type\":\"contourcarpet\"}],\"heatmap\":[{\"colorbar\":{\"outlinewidth\":0,\"ticks\":\"\"},\"colorscale\":[[0.0,\"#0d0887\"],[0.1111111111111111,\"#46039f\"],[0.2222222222222222,\"#7201a8\"],[0.3333333333333333,\"#9c179e\"],[0.4444444444444444,\"#bd3786\"],[0.5555555555555556,\"#d8576b\"],[0.6666666666666666,\"#ed7953\"],[0.7777777777777778,\"#fb9f3a\"],[0.8888888888888888,\"#fdca26\"],[1.0,\"#f0f921\"]],\"type\":\"heatmap\"}],\"heatmapgl\":[{\"colorbar\":{\"outlinewidth\":0,\"ticks\":\"\"},\"colorscale\":[[0.0,\"#0d0887\"],[0.1111111111111111,\"#46039f\"],[0.2222222222222222,\"#7201a8\"],[0.3333333333333333,\"#9c179e\"],[0.4444444444444444,\"#bd3786\"],[0.5555555555555556,\"#d8576b\"],[0.6666666666666666,\"#ed7953\"],[0.7777777777777778,\"#fb9f3a\"],[0.8888888888888888,\"#fdca26\"],[1.0,\"#f0f921\"]],\"type\":\"heatmapgl\"}],\"histogram\":[{\"marker\":{\"pattern\":{\"fillmode\":\"overlay\",\"size\":10,\"solidity\":0.2}},\"type\":\"histogram\"}],\"histogram2d\":[{\"colorbar\":{\"outlinewidth\":0,\"ticks\":\"\"},\"colorscale\":[[0.0,\"#0d0887\"],[0.1111111111111111,\"#46039f\"],[0.2222222222222222,\"#7201a8\"],[0.3333333333333333,\"#9c179e\"],[0.4444444444444444,\"#bd3786\"],[0.5555555555555556,\"#d8576b\"],[0.6666666666666666,\"#ed7953\"],[0.7777777777777778,\"#fb9f3a\"],[0.8888888888888888,\"#fdca26\"],[1.0,\"#f0f921\"]],\"type\":\"histogram2d\"}],\"histogram2dcontour\":[{\"colorbar\":{\"outlinewidth\":0,\"ticks\":\"\"},\"colorscale\":[[0.0,\"#0d0887\"],[0.1111111111111111,\"#46039f\"],[0.2222222222222222,\"#7201a8\"],[0.3333333333333333,\"#9c179e\"],[0.4444444444444444,\"#bd3786\"],[0.5555555555555556,\"#d8576b\"],[0.6666666666666666,\"#ed7953\"],[0.7777777777777778,\"#fb9f3a\"],[0.8888888888888888,\"#fdca26\"],[1.0,\"#f0f921\"]],\"type\":\"histogram2dcontour\"}],\"mesh3d\":[{\"colorbar\":{\"outlinewidth\":0,\"ticks\":\"\"},\"type\":\"mesh3d\"}],\"parcoords\":[{\"line\":{\"colorbar\":{\"outlinewidth\":0,\"ticks\":\"\"}},\"type\":\"parcoords\"}],\"pie\":[{\"automargin\":true,\"type\":\"pie\"}],\"scatter\":[{\"marker\":{\"colorbar\":{\"outlinewidth\":0,\"ticks\":\"\"}},\"type\":\"scatter\"}],\"scatter3d\":[{\"line\":{\"colorbar\":{\"outlinewidth\":0,\"ticks\":\"\"}},\"marker\":{\"colorbar\":{\"outlinewidth\":0,\"ticks\":\"\"}},\"type\":\"scatter3d\"}],\"scattercarpet\":[{\"marker\":{\"colorbar\":{\"outlinewidth\":0,\"ticks\":\"\"}},\"type\":\"scattercarpet\"}],\"scattergeo\":[{\"marker\":{\"colorbar\":{\"outlinewidth\":0,\"ticks\":\"\"}},\"type\":\"scattergeo\"}],\"scattergl\":[{\"marker\":{\"colorbar\":{\"outlinewidth\":0,\"ticks\":\"\"}},\"type\":\"scattergl\"}],\"scattermapbox\":[{\"marker\":{\"colorbar\":{\"outlinewidth\":0,\"ticks\":\"\"}},\"type\":\"scattermapbox\"}],\"scatterpolar\":[{\"marker\":{\"colorbar\":{\"outlinewidth\":0,\"ticks\":\"\"}},\"type\":\"scatterpolar\"}],\"scatterpolargl\":[{\"marker\":{\"colorbar\":{\"outlinewidth\":0,\"ticks\":\"\"}},\"type\":\"scatterpolargl\"}],\"scatterternary\":[{\"marker\":{\"colorbar\":{\"outlinewidth\":0,\"ticks\":\"\"}},\"type\":\"scatterternary\"}],\"surface\":[{\"colorbar\":{\"outlinewidth\":0,\"ticks\":\"\"},\"colorscale\":[[0.0,\"#0d0887\"],[0.1111111111111111,\"#46039f\"],[0.2222222222222222,\"#7201a8\"],[0.3333333333333333,\"#9c179e\"],[0.4444444444444444,\"#bd3786\"],[0.5555555555555556,\"#d8576b\"],[0.6666666666666666,\"#ed7953\"],[0.7777777777777778,\"#fb9f3a\"],[0.8888888888888888,\"#fdca26\"],[1.0,\"#f0f921\"]],\"type\":\"surface\"}],\"table\":[{\"cells\":{\"fill\":{\"color\":\"#EBF0F8\"},\"line\":{\"color\":\"white\"}},\"header\":{\"fill\":{\"color\":\"#C8D4E3\"},\"line\":{\"color\":\"white\"}},\"type\":\"table\"}]},\"layout\":{\"annotationdefaults\":{\"arrowcolor\":\"#2a3f5f\",\"arrowhead\":0,\"arrowwidth\":1},\"autotypenumbers\":\"strict\",\"coloraxis\":{\"colorbar\":{\"outlinewidth\":0,\"ticks\":\"\"}},\"colorscale\":{\"diverging\":[[0,\"#8e0152\"],[0.1,\"#c51b7d\"],[0.2,\"#de77ae\"],[0.3,\"#f1b6da\"],[0.4,\"#fde0ef\"],[0.5,\"#f7f7f7\"],[0.6,\"#e6f5d0\"],[0.7,\"#b8e186\"],[0.8,\"#7fbc41\"],[0.9,\"#4d9221\"],[1,\"#276419\"]],\"sequential\":[[0.0,\"#0d0887\"],[0.1111111111111111,\"#46039f\"],[0.2222222222222222,\"#7201a8\"],[0.3333333333333333,\"#9c179e\"],[0.4444444444444444,\"#bd3786\"],[0.5555555555555556,\"#d8576b\"],[0.6666666666666666,\"#ed7953\"],[0.7777777777777778,\"#fb9f3a\"],[0.8888888888888888,\"#fdca26\"],[1.0,\"#f0f921\"]],\"sequentialminus\":[[0.0,\"#0d0887\"],[0.1111111111111111,\"#46039f\"],[0.2222222222222222,\"#7201a8\"],[0.3333333333333333,\"#9c179e\"],[0.4444444444444444,\"#bd3786\"],[0.5555555555555556,\"#d8576b\"],[0.6666666666666666,\"#ed7953\"],[0.7777777777777778,\"#fb9f3a\"],[0.8888888888888888,\"#fdca26\"],[1.0,\"#f0f921\"]]},\"colorway\":[\"#636efa\",\"#EF553B\",\"#00cc96\",\"#ab63fa\",\"#FFA15A\",\"#19d3f3\",\"#FF6692\",\"#B6E880\",\"#FF97FF\",\"#FECB52\"],\"font\":{\"color\":\"#2a3f5f\"},\"geo\":{\"bgcolor\":\"white\",\"lakecolor\":\"white\",\"landcolor\":\"#E5ECF6\",\"showlakes\":true,\"showland\":true,\"subunitcolor\":\"white\"},\"hoverlabel\":{\"align\":\"left\"},\"hovermode\":\"closest\",\"mapbox\":{\"style\":\"light\"},\"paper_bgcolor\":\"white\",\"plot_bgcolor\":\"#E5ECF6\",\"polar\":{\"angularaxis\":{\"gridcolor\":\"white\",\"linecolor\":\"white\",\"ticks\":\"\"},\"bgcolor\":\"#E5ECF6\",\"radialaxis\":{\"gridcolor\":\"white\",\"linecolor\":\"white\",\"ticks\":\"\"}},\"scene\":{\"xaxis\":{\"backgroundcolor\":\"#E5ECF6\",\"gridcolor\":\"white\",\"gridwidth\":2,\"linecolor\":\"white\",\"showbackground\":true,\"ticks\":\"\",\"zerolinecolor\":\"white\"},\"yaxis\":{\"backgroundcolor\":\"#E5ECF6\",\"gridcolor\":\"white\",\"gridwidth\":2,\"linecolor\":\"white\",\"showbackground\":true,\"ticks\":\"\",\"zerolinecolor\":\"white\"},\"zaxis\":{\"backgroundcolor\":\"#E5ECF6\",\"gridcolor\":\"white\",\"gridwidth\":2,\"linecolor\":\"white\",\"showbackground\":true,\"ticks\":\"\",\"zerolinecolor\":\"white\"}},\"shapedefaults\":{\"line\":{\"color\":\"#2a3f5f\"}},\"ternary\":{\"aaxis\":{\"gridcolor\":\"white\",\"linecolor\":\"white\",\"ticks\":\"\"},\"baxis\":{\"gridcolor\":\"white\",\"linecolor\":\"white\",\"ticks\":\"\"},\"bgcolor\":\"#E5ECF6\",\"caxis\":{\"gridcolor\":\"white\",\"linecolor\":\"white\",\"ticks\":\"\"}},\"title\":{\"x\":0.05},\"xaxis\":{\"automargin\":true,\"gridcolor\":\"white\",\"linecolor\":\"white\",\"ticks\":\"\",\"title\":{\"standoff\":15},\"zerolinecolor\":\"white\",\"zerolinewidth\":2},\"yaxis\":{\"automargin\":true,\"gridcolor\":\"white\",\"linecolor\":\"white\",\"ticks\":\"\",\"title\":{\"standoff\":15},\"zerolinecolor\":\"white\",\"zerolinewidth\":2}}},\"title\":{\"text\":\"Lucro total por dia da semana no m\\u00eas de novembro\"},\"xaxis\":{\"anchor\":\"y\",\"domain\":[0.0,1.0],\"title\":{\"text\":\"Dia da semana\"}},\"yaxis\":{\"anchor\":\"x\",\"domain\":[0.0,1.0],\"title\":{\"text\":\"Lucro\"}}},                        {\"responsive\": true}                    ).then(function(){\n",
       "                            \n",
       "var gd = document.getElementById('53a5bbe7-115c-4fd7-b60c-abad9ae7bbc2');\n",
       "var x = new MutationObserver(function (mutations, observer) {{\n",
       "        var display = window.getComputedStyle(gd).display;\n",
       "        if (!display || display === 'none') {{\n",
       "            console.log([gd, 'removed!']);\n",
       "            Plotly.purge(gd);\n",
       "            observer.disconnect();\n",
       "        }}\n",
       "}});\n",
       "\n",
       "// Listen for the removal of the full notebook cells\n",
       "var notebookContainer = gd.closest('#notebook-container');\n",
       "if (notebookContainer) {{\n",
       "    x.observe(notebookContainer, {childList: true});\n",
       "}}\n",
       "\n",
       "// Listen for the clearing of the current output cell\n",
       "var outputEl = gd.closest('.output');\n",
       "if (outputEl) {{\n",
       "    x.observe(outputEl, {childList: true});\n",
       "}}\n",
       "\n",
       "                        })                };                });            </script>        </div>"
      ]
     },
     "metadata": {},
     "output_type": "display_data"
    }
   ],
   "source": [
    "fig = px.bar(entrada_bruta_sem,\n",
    "             x='dia_sem', y=\"lucro\",\n",
    "             labels={\"dia_sem\": \"Dia da semana\", \"lucro\": \"Lucro total\"},\n",
    "             barmode='stack')\n",
    "fig.update_traces(marker = {'color': '#00CC96'})\n",
    "fig.update_layout(title = 'Lucro total por dia da semana no mês de novembro')\n",
    "fig.update_xaxes(title = 'Dia da semana')\n",
    "fig.update_yaxes(title = 'Lucro')\n",
    "fig.show()"
   ]
  },
  {
   "cell_type": "code",
   "execution_count": 37,
   "id": "5b72ac3d",
   "metadata": {},
   "outputs": [
    {
     "data": {
      "application/vnd.plotly.v1+json": {
       "config": {
        "plotlyServerURL": "https://plot.ly"
       },
       "data": [
        {
         "hovertemplate": "Linhas=Renda bruta total<br>date=%{x}<br>Valor/ Valor Máximo (%)=%{y}<extra></extra>",
         "legendgroup": "Renda bruta total",
         "line": {
          "color": "#636efa",
          "dash": "solid"
         },
         "marker": {
          "symbol": "circle"
         },
         "mode": "lines",
         "name": "Renda bruta total",
         "orientation": "v",
         "showlegend": true,
         "type": "scatter",
         "x": [
          "2021-11-01T00:00:00",
          "2021-11-02T00:00:00",
          "2021-11-03T00:00:00",
          "2021-11-04T00:00:00",
          "2021-11-05T00:00:00",
          "2021-11-06T00:00:00",
          "2021-11-07T00:00:00",
          "2021-11-08T00:00:00",
          "2021-11-09T00:00:00",
          "2021-11-10T00:00:00",
          "2021-11-11T00:00:00",
          "2021-11-12T00:00:00",
          "2021-11-13T00:00:00",
          "2021-11-14T00:00:00",
          "2021-11-15T00:00:00",
          "2021-11-16T00:00:00",
          "2021-11-17T00:00:00",
          "2021-11-18T00:00:00",
          "2021-11-19T00:00:00",
          "2021-11-20T00:00:00",
          "2021-11-21T00:00:00",
          "2021-11-22T00:00:00",
          "2021-11-23T00:00:00",
          "2021-11-24T00:00:00",
          "2021-11-25T00:00:00",
          "2021-11-26T00:00:00",
          "2021-11-27T00:00:00",
          "2021-11-28T00:00:00",
          "2021-11-29T00:00:00",
          "2021-11-30T00:00:00"
         ],
         "xaxis": "x",
         "y": [
          0.7420424809171619,
          0.7051634754959571,
          0.41526627102074737,
          0.5165697301247179,
          0.9973012471733701,
          0.4687831419289226,
          0.4116718837946464,
          0.9515310707126564,
          1,
          0.8701290622006741,
          0.6344527940435875,
          0.6233970909162726,
          0.8442435493586391,
          0.7355399974325812,
          0.09873208978068333,
          0.030806070959523705,
          0.049057460822166804,
          0.11834717435740477,
          0.08220580829276497,
          0.10063395510965863,
          0.07406906358313023,
          0.059536482042876024,
          0.11415931825139007,
          0.05456358806742449,
          0.08853054735407694,
          0.11721257245553944,
          0.0485054656410156,
          0.12621631496311828,
          0.07713416741549749,
          0.05531307705220759
         ],
         "yaxis": "y"
        },
        {
         "hovertemplate": "Linhas=Quantidade de produtos vendidos<br>date=%{x}<br>Valor/ Valor Máximo (%)=%{y}<extra></extra>",
         "legendgroup": "Quantidade de produtos vendidos",
         "line": {
          "color": "#EF553B",
          "dash": "solid"
         },
         "marker": {
          "symbol": "circle"
         },
         "mode": "lines",
         "name": "Quantidade de produtos vendidos",
         "orientation": "v",
         "showlegend": true,
         "type": "scatter",
         "x": [
          "2021-11-01T00:00:00",
          "2021-11-02T00:00:00",
          "2021-11-03T00:00:00",
          "2021-11-04T00:00:00",
          "2021-11-05T00:00:00",
          "2021-11-06T00:00:00",
          "2021-11-07T00:00:00",
          "2021-11-08T00:00:00",
          "2021-11-09T00:00:00",
          "2021-11-10T00:00:00",
          "2021-11-11T00:00:00",
          "2021-11-12T00:00:00",
          "2021-11-13T00:00:00",
          "2021-11-14T00:00:00",
          "2021-11-15T00:00:00",
          "2021-11-16T00:00:00",
          "2021-11-17T00:00:00",
          "2021-11-18T00:00:00",
          "2021-11-19T00:00:00",
          "2021-11-20T00:00:00",
          "2021-11-21T00:00:00",
          "2021-11-22T00:00:00",
          "2021-11-23T00:00:00",
          "2021-11-24T00:00:00",
          "2021-11-25T00:00:00",
          "2021-11-26T00:00:00",
          "2021-11-27T00:00:00",
          "2021-11-28T00:00:00",
          "2021-11-29T00:00:00",
          "2021-11-30T00:00:00"
         ],
         "xaxis": "x",
         "y": [
          0.5578947368421052,
          0.7228070175438597,
          0.4421052631578947,
          0.5631578947368421,
          0.8912280701754386,
          0.4421052631578947,
          0.48771929824561405,
          0.8368421052631579,
          1,
          0.7333333333333333,
          0.7210526315789474,
          0.7192982456140351,
          0.7070175438596491,
          0.7912280701754386,
          0.15964912280701754,
          0.05087719298245614,
          0.08421052631578947,
          0.10877192982456141,
          0.07543859649122807,
          0.08771929824561403,
          0.08070175438596491,
          0.05964912280701754,
          0.10350877192982456,
          0.06491228070175438,
          0.08421052631578947,
          0.0912280701754386,
          0.06315789473684211,
          0.10350877192982456,
          0.09649122807017543,
          0.0824561403508772
         ],
         "yaxis": "y"
        }
       ],
       "layout": {
        "legend": {
         "title": {
          "text": "Linhas"
         },
         "tracegroupgap": 0
        },
        "template": {
         "data": {
          "bar": [
           {
            "error_x": {
             "color": "#2a3f5f"
            },
            "error_y": {
             "color": "#2a3f5f"
            },
            "marker": {
             "line": {
              "color": "#E5ECF6",
              "width": 0.5
             },
             "pattern": {
              "fillmode": "overlay",
              "size": 10,
              "solidity": 0.2
             }
            },
            "type": "bar"
           }
          ],
          "barpolar": [
           {
            "marker": {
             "line": {
              "color": "#E5ECF6",
              "width": 0.5
             },
             "pattern": {
              "fillmode": "overlay",
              "size": 10,
              "solidity": 0.2
             }
            },
            "type": "barpolar"
           }
          ],
          "carpet": [
           {
            "aaxis": {
             "endlinecolor": "#2a3f5f",
             "gridcolor": "white",
             "linecolor": "white",
             "minorgridcolor": "white",
             "startlinecolor": "#2a3f5f"
            },
            "baxis": {
             "endlinecolor": "#2a3f5f",
             "gridcolor": "white",
             "linecolor": "white",
             "minorgridcolor": "white",
             "startlinecolor": "#2a3f5f"
            },
            "type": "carpet"
           }
          ],
          "choropleth": [
           {
            "colorbar": {
             "outlinewidth": 0,
             "ticks": ""
            },
            "type": "choropleth"
           }
          ],
          "contour": [
           {
            "colorbar": {
             "outlinewidth": 0,
             "ticks": ""
            },
            "colorscale": [
             [
              0,
              "#0d0887"
             ],
             [
              0.1111111111111111,
              "#46039f"
             ],
             [
              0.2222222222222222,
              "#7201a8"
             ],
             [
              0.3333333333333333,
              "#9c179e"
             ],
             [
              0.4444444444444444,
              "#bd3786"
             ],
             [
              0.5555555555555556,
              "#d8576b"
             ],
             [
              0.6666666666666666,
              "#ed7953"
             ],
             [
              0.7777777777777778,
              "#fb9f3a"
             ],
             [
              0.8888888888888888,
              "#fdca26"
             ],
             [
              1,
              "#f0f921"
             ]
            ],
            "type": "contour"
           }
          ],
          "contourcarpet": [
           {
            "colorbar": {
             "outlinewidth": 0,
             "ticks": ""
            },
            "type": "contourcarpet"
           }
          ],
          "heatmap": [
           {
            "colorbar": {
             "outlinewidth": 0,
             "ticks": ""
            },
            "colorscale": [
             [
              0,
              "#0d0887"
             ],
             [
              0.1111111111111111,
              "#46039f"
             ],
             [
              0.2222222222222222,
              "#7201a8"
             ],
             [
              0.3333333333333333,
              "#9c179e"
             ],
             [
              0.4444444444444444,
              "#bd3786"
             ],
             [
              0.5555555555555556,
              "#d8576b"
             ],
             [
              0.6666666666666666,
              "#ed7953"
             ],
             [
              0.7777777777777778,
              "#fb9f3a"
             ],
             [
              0.8888888888888888,
              "#fdca26"
             ],
             [
              1,
              "#f0f921"
             ]
            ],
            "type": "heatmap"
           }
          ],
          "heatmapgl": [
           {
            "colorbar": {
             "outlinewidth": 0,
             "ticks": ""
            },
            "colorscale": [
             [
              0,
              "#0d0887"
             ],
             [
              0.1111111111111111,
              "#46039f"
             ],
             [
              0.2222222222222222,
              "#7201a8"
             ],
             [
              0.3333333333333333,
              "#9c179e"
             ],
             [
              0.4444444444444444,
              "#bd3786"
             ],
             [
              0.5555555555555556,
              "#d8576b"
             ],
             [
              0.6666666666666666,
              "#ed7953"
             ],
             [
              0.7777777777777778,
              "#fb9f3a"
             ],
             [
              0.8888888888888888,
              "#fdca26"
             ],
             [
              1,
              "#f0f921"
             ]
            ],
            "type": "heatmapgl"
           }
          ],
          "histogram": [
           {
            "marker": {
             "pattern": {
              "fillmode": "overlay",
              "size": 10,
              "solidity": 0.2
             }
            },
            "type": "histogram"
           }
          ],
          "histogram2d": [
           {
            "colorbar": {
             "outlinewidth": 0,
             "ticks": ""
            },
            "colorscale": [
             [
              0,
              "#0d0887"
             ],
             [
              0.1111111111111111,
              "#46039f"
             ],
             [
              0.2222222222222222,
              "#7201a8"
             ],
             [
              0.3333333333333333,
              "#9c179e"
             ],
             [
              0.4444444444444444,
              "#bd3786"
             ],
             [
              0.5555555555555556,
              "#d8576b"
             ],
             [
              0.6666666666666666,
              "#ed7953"
             ],
             [
              0.7777777777777778,
              "#fb9f3a"
             ],
             [
              0.8888888888888888,
              "#fdca26"
             ],
             [
              1,
              "#f0f921"
             ]
            ],
            "type": "histogram2d"
           }
          ],
          "histogram2dcontour": [
           {
            "colorbar": {
             "outlinewidth": 0,
             "ticks": ""
            },
            "colorscale": [
             [
              0,
              "#0d0887"
             ],
             [
              0.1111111111111111,
              "#46039f"
             ],
             [
              0.2222222222222222,
              "#7201a8"
             ],
             [
              0.3333333333333333,
              "#9c179e"
             ],
             [
              0.4444444444444444,
              "#bd3786"
             ],
             [
              0.5555555555555556,
              "#d8576b"
             ],
             [
              0.6666666666666666,
              "#ed7953"
             ],
             [
              0.7777777777777778,
              "#fb9f3a"
             ],
             [
              0.8888888888888888,
              "#fdca26"
             ],
             [
              1,
              "#f0f921"
             ]
            ],
            "type": "histogram2dcontour"
           }
          ],
          "mesh3d": [
           {
            "colorbar": {
             "outlinewidth": 0,
             "ticks": ""
            },
            "type": "mesh3d"
           }
          ],
          "parcoords": [
           {
            "line": {
             "colorbar": {
              "outlinewidth": 0,
              "ticks": ""
             }
            },
            "type": "parcoords"
           }
          ],
          "pie": [
           {
            "automargin": true,
            "type": "pie"
           }
          ],
          "scatter": [
           {
            "marker": {
             "colorbar": {
              "outlinewidth": 0,
              "ticks": ""
             }
            },
            "type": "scatter"
           }
          ],
          "scatter3d": [
           {
            "line": {
             "colorbar": {
              "outlinewidth": 0,
              "ticks": ""
             }
            },
            "marker": {
             "colorbar": {
              "outlinewidth": 0,
              "ticks": ""
             }
            },
            "type": "scatter3d"
           }
          ],
          "scattercarpet": [
           {
            "marker": {
             "colorbar": {
              "outlinewidth": 0,
              "ticks": ""
             }
            },
            "type": "scattercarpet"
           }
          ],
          "scattergeo": [
           {
            "marker": {
             "colorbar": {
              "outlinewidth": 0,
              "ticks": ""
             }
            },
            "type": "scattergeo"
           }
          ],
          "scattergl": [
           {
            "marker": {
             "colorbar": {
              "outlinewidth": 0,
              "ticks": ""
             }
            },
            "type": "scattergl"
           }
          ],
          "scattermapbox": [
           {
            "marker": {
             "colorbar": {
              "outlinewidth": 0,
              "ticks": ""
             }
            },
            "type": "scattermapbox"
           }
          ],
          "scatterpolar": [
           {
            "marker": {
             "colorbar": {
              "outlinewidth": 0,
              "ticks": ""
             }
            },
            "type": "scatterpolar"
           }
          ],
          "scatterpolargl": [
           {
            "marker": {
             "colorbar": {
              "outlinewidth": 0,
              "ticks": ""
             }
            },
            "type": "scatterpolargl"
           }
          ],
          "scatterternary": [
           {
            "marker": {
             "colorbar": {
              "outlinewidth": 0,
              "ticks": ""
             }
            },
            "type": "scatterternary"
           }
          ],
          "surface": [
           {
            "colorbar": {
             "outlinewidth": 0,
             "ticks": ""
            },
            "colorscale": [
             [
              0,
              "#0d0887"
             ],
             [
              0.1111111111111111,
              "#46039f"
             ],
             [
              0.2222222222222222,
              "#7201a8"
             ],
             [
              0.3333333333333333,
              "#9c179e"
             ],
             [
              0.4444444444444444,
              "#bd3786"
             ],
             [
              0.5555555555555556,
              "#d8576b"
             ],
             [
              0.6666666666666666,
              "#ed7953"
             ],
             [
              0.7777777777777778,
              "#fb9f3a"
             ],
             [
              0.8888888888888888,
              "#fdca26"
             ],
             [
              1,
              "#f0f921"
             ]
            ],
            "type": "surface"
           }
          ],
          "table": [
           {
            "cells": {
             "fill": {
              "color": "#EBF0F8"
             },
             "line": {
              "color": "white"
             }
            },
            "header": {
             "fill": {
              "color": "#C8D4E3"
             },
             "line": {
              "color": "white"
             }
            },
            "type": "table"
           }
          ]
         },
         "layout": {
          "annotationdefaults": {
           "arrowcolor": "#2a3f5f",
           "arrowhead": 0,
           "arrowwidth": 1
          },
          "autotypenumbers": "strict",
          "coloraxis": {
           "colorbar": {
            "outlinewidth": 0,
            "ticks": ""
           }
          },
          "colorscale": {
           "diverging": [
            [
             0,
             "#8e0152"
            ],
            [
             0.1,
             "#c51b7d"
            ],
            [
             0.2,
             "#de77ae"
            ],
            [
             0.3,
             "#f1b6da"
            ],
            [
             0.4,
             "#fde0ef"
            ],
            [
             0.5,
             "#f7f7f7"
            ],
            [
             0.6,
             "#e6f5d0"
            ],
            [
             0.7,
             "#b8e186"
            ],
            [
             0.8,
             "#7fbc41"
            ],
            [
             0.9,
             "#4d9221"
            ],
            [
             1,
             "#276419"
            ]
           ],
           "sequential": [
            [
             0,
             "#0d0887"
            ],
            [
             0.1111111111111111,
             "#46039f"
            ],
            [
             0.2222222222222222,
             "#7201a8"
            ],
            [
             0.3333333333333333,
             "#9c179e"
            ],
            [
             0.4444444444444444,
             "#bd3786"
            ],
            [
             0.5555555555555556,
             "#d8576b"
            ],
            [
             0.6666666666666666,
             "#ed7953"
            ],
            [
             0.7777777777777778,
             "#fb9f3a"
            ],
            [
             0.8888888888888888,
             "#fdca26"
            ],
            [
             1,
             "#f0f921"
            ]
           ],
           "sequentialminus": [
            [
             0,
             "#0d0887"
            ],
            [
             0.1111111111111111,
             "#46039f"
            ],
            [
             0.2222222222222222,
             "#7201a8"
            ],
            [
             0.3333333333333333,
             "#9c179e"
            ],
            [
             0.4444444444444444,
             "#bd3786"
            ],
            [
             0.5555555555555556,
             "#d8576b"
            ],
            [
             0.6666666666666666,
             "#ed7953"
            ],
            [
             0.7777777777777778,
             "#fb9f3a"
            ],
            [
             0.8888888888888888,
             "#fdca26"
            ],
            [
             1,
             "#f0f921"
            ]
           ]
          },
          "colorway": [
           "#636efa",
           "#EF553B",
           "#00cc96",
           "#ab63fa",
           "#FFA15A",
           "#19d3f3",
           "#FF6692",
           "#B6E880",
           "#FF97FF",
           "#FECB52"
          ],
          "font": {
           "color": "#2a3f5f"
          },
          "geo": {
           "bgcolor": "white",
           "lakecolor": "white",
           "landcolor": "#E5ECF6",
           "showlakes": true,
           "showland": true,
           "subunitcolor": "white"
          },
          "hoverlabel": {
           "align": "left"
          },
          "hovermode": "closest",
          "mapbox": {
           "style": "light"
          },
          "paper_bgcolor": "white",
          "plot_bgcolor": "#E5ECF6",
          "polar": {
           "angularaxis": {
            "gridcolor": "white",
            "linecolor": "white",
            "ticks": ""
           },
           "bgcolor": "#E5ECF6",
           "radialaxis": {
            "gridcolor": "white",
            "linecolor": "white",
            "ticks": ""
           }
          },
          "scene": {
           "xaxis": {
            "backgroundcolor": "#E5ECF6",
            "gridcolor": "white",
            "gridwidth": 2,
            "linecolor": "white",
            "showbackground": true,
            "ticks": "",
            "zerolinecolor": "white"
           },
           "yaxis": {
            "backgroundcolor": "#E5ECF6",
            "gridcolor": "white",
            "gridwidth": 2,
            "linecolor": "white",
            "showbackground": true,
            "ticks": "",
            "zerolinecolor": "white"
           },
           "zaxis": {
            "backgroundcolor": "#E5ECF6",
            "gridcolor": "white",
            "gridwidth": 2,
            "linecolor": "white",
            "showbackground": true,
            "ticks": "",
            "zerolinecolor": "white"
           }
          },
          "shapedefaults": {
           "line": {
            "color": "#2a3f5f"
           }
          },
          "ternary": {
           "aaxis": {
            "gridcolor": "white",
            "linecolor": "white",
            "ticks": ""
           },
           "baxis": {
            "gridcolor": "white",
            "linecolor": "white",
            "ticks": ""
           },
           "bgcolor": "#E5ECF6",
           "caxis": {
            "gridcolor": "white",
            "linecolor": "white",
            "ticks": ""
           }
          },
          "title": {
           "x": 0.05
          },
          "xaxis": {
           "automargin": true,
           "gridcolor": "white",
           "linecolor": "white",
           "ticks": "",
           "title": {
            "standoff": 15
           },
           "zerolinecolor": "white",
           "zerolinewidth": 2
          },
          "yaxis": {
           "automargin": true,
           "gridcolor": "white",
           "linecolor": "white",
           "ticks": "",
           "title": {
            "standoff": 15
           },
           "zerolinecolor": "white",
           "zerolinewidth": 2
          }
         }
        },
        "title": {
         "text": "Renda bruta e quantidade vendida no mês de novembro"
        },
        "xaxis": {
         "anchor": "y",
         "domain": [
          0,
          1
         ],
         "title": {
          "text": "Data"
         }
        },
        "yaxis": {
         "anchor": "x",
         "domain": [
          0,
          1
         ],
         "title": {
          "text": "Valor/ Valor Máximo (%)"
         }
        }
       }
      },
      "text/html": [
       "<div>                            <div id=\"369e901c-f3af-45a5-816c-69a66cc06977\" class=\"plotly-graph-div\" style=\"height:525px; width:100%;\"></div>            <script type=\"text/javascript\">                require([\"plotly\"], function(Plotly) {                    window.PLOTLYENV=window.PLOTLYENV || {};                                    if (document.getElementById(\"369e901c-f3af-45a5-816c-69a66cc06977\")) {                    Plotly.newPlot(                        \"369e901c-f3af-45a5-816c-69a66cc06977\",                        [{\"hovertemplate\":\"Linhas=Renda bruta total<br>date=%{x}<br>Valor/ Valor M\\u00e1ximo (%)=%{y}<extra></extra>\",\"legendgroup\":\"Renda bruta total\",\"line\":{\"color\":\"#636efa\",\"dash\":\"solid\"},\"marker\":{\"symbol\":\"circle\"},\"mode\":\"lines\",\"name\":\"Renda bruta total\",\"orientation\":\"v\",\"showlegend\":true,\"type\":\"scatter\",\"x\":[\"2021-11-01T00:00:00\",\"2021-11-02T00:00:00\",\"2021-11-03T00:00:00\",\"2021-11-04T00:00:00\",\"2021-11-05T00:00:00\",\"2021-11-06T00:00:00\",\"2021-11-07T00:00:00\",\"2021-11-08T00:00:00\",\"2021-11-09T00:00:00\",\"2021-11-10T00:00:00\",\"2021-11-11T00:00:00\",\"2021-11-12T00:00:00\",\"2021-11-13T00:00:00\",\"2021-11-14T00:00:00\",\"2021-11-15T00:00:00\",\"2021-11-16T00:00:00\",\"2021-11-17T00:00:00\",\"2021-11-18T00:00:00\",\"2021-11-19T00:00:00\",\"2021-11-20T00:00:00\",\"2021-11-21T00:00:00\",\"2021-11-22T00:00:00\",\"2021-11-23T00:00:00\",\"2021-11-24T00:00:00\",\"2021-11-25T00:00:00\",\"2021-11-26T00:00:00\",\"2021-11-27T00:00:00\",\"2021-11-28T00:00:00\",\"2021-11-29T00:00:00\",\"2021-11-30T00:00:00\"],\"xaxis\":\"x\",\"y\":[0.7420424809171619,0.7051634754959571,0.41526627102074737,0.5165697301247179,0.9973012471733701,0.4687831419289226,0.4116718837946464,0.9515310707126564,1.0,0.8701290622006741,0.6344527940435875,0.6233970909162726,0.8442435493586391,0.7355399974325812,0.09873208978068333,0.030806070959523705,0.049057460822166804,0.11834717435740477,0.08220580829276497,0.10063395510965863,0.07406906358313023,0.059536482042876024,0.11415931825139007,0.05456358806742449,0.08853054735407694,0.11721257245553944,0.0485054656410156,0.12621631496311828,0.07713416741549749,0.05531307705220759],\"yaxis\":\"y\"},{\"hovertemplate\":\"Linhas=Quantidade de produtos vendidos<br>date=%{x}<br>Valor/ Valor M\\u00e1ximo (%)=%{y}<extra></extra>\",\"legendgroup\":\"Quantidade de produtos vendidos\",\"line\":{\"color\":\"#EF553B\",\"dash\":\"solid\"},\"marker\":{\"symbol\":\"circle\"},\"mode\":\"lines\",\"name\":\"Quantidade de produtos vendidos\",\"orientation\":\"v\",\"showlegend\":true,\"type\":\"scatter\",\"x\":[\"2021-11-01T00:00:00\",\"2021-11-02T00:00:00\",\"2021-11-03T00:00:00\",\"2021-11-04T00:00:00\",\"2021-11-05T00:00:00\",\"2021-11-06T00:00:00\",\"2021-11-07T00:00:00\",\"2021-11-08T00:00:00\",\"2021-11-09T00:00:00\",\"2021-11-10T00:00:00\",\"2021-11-11T00:00:00\",\"2021-11-12T00:00:00\",\"2021-11-13T00:00:00\",\"2021-11-14T00:00:00\",\"2021-11-15T00:00:00\",\"2021-11-16T00:00:00\",\"2021-11-17T00:00:00\",\"2021-11-18T00:00:00\",\"2021-11-19T00:00:00\",\"2021-11-20T00:00:00\",\"2021-11-21T00:00:00\",\"2021-11-22T00:00:00\",\"2021-11-23T00:00:00\",\"2021-11-24T00:00:00\",\"2021-11-25T00:00:00\",\"2021-11-26T00:00:00\",\"2021-11-27T00:00:00\",\"2021-11-28T00:00:00\",\"2021-11-29T00:00:00\",\"2021-11-30T00:00:00\"],\"xaxis\":\"x\",\"y\":[0.5578947368421052,0.7228070175438597,0.4421052631578947,0.5631578947368421,0.8912280701754386,0.4421052631578947,0.48771929824561405,0.8368421052631579,1.0,0.7333333333333333,0.7210526315789474,0.7192982456140351,0.7070175438596491,0.7912280701754386,0.15964912280701754,0.05087719298245614,0.08421052631578947,0.10877192982456141,0.07543859649122807,0.08771929824561403,0.08070175438596491,0.05964912280701754,0.10350877192982456,0.06491228070175438,0.08421052631578947,0.0912280701754386,0.06315789473684211,0.10350877192982456,0.09649122807017543,0.0824561403508772],\"yaxis\":\"y\"}],                        {\"legend\":{\"title\":{\"text\":\"Linhas\"},\"tracegroupgap\":0},\"template\":{\"data\":{\"bar\":[{\"error_x\":{\"color\":\"#2a3f5f\"},\"error_y\":{\"color\":\"#2a3f5f\"},\"marker\":{\"line\":{\"color\":\"#E5ECF6\",\"width\":0.5},\"pattern\":{\"fillmode\":\"overlay\",\"size\":10,\"solidity\":0.2}},\"type\":\"bar\"}],\"barpolar\":[{\"marker\":{\"line\":{\"color\":\"#E5ECF6\",\"width\":0.5},\"pattern\":{\"fillmode\":\"overlay\",\"size\":10,\"solidity\":0.2}},\"type\":\"barpolar\"}],\"carpet\":[{\"aaxis\":{\"endlinecolor\":\"#2a3f5f\",\"gridcolor\":\"white\",\"linecolor\":\"white\",\"minorgridcolor\":\"white\",\"startlinecolor\":\"#2a3f5f\"},\"baxis\":{\"endlinecolor\":\"#2a3f5f\",\"gridcolor\":\"white\",\"linecolor\":\"white\",\"minorgridcolor\":\"white\",\"startlinecolor\":\"#2a3f5f\"},\"type\":\"carpet\"}],\"choropleth\":[{\"colorbar\":{\"outlinewidth\":0,\"ticks\":\"\"},\"type\":\"choropleth\"}],\"contour\":[{\"colorbar\":{\"outlinewidth\":0,\"ticks\":\"\"},\"colorscale\":[[0.0,\"#0d0887\"],[0.1111111111111111,\"#46039f\"],[0.2222222222222222,\"#7201a8\"],[0.3333333333333333,\"#9c179e\"],[0.4444444444444444,\"#bd3786\"],[0.5555555555555556,\"#d8576b\"],[0.6666666666666666,\"#ed7953\"],[0.7777777777777778,\"#fb9f3a\"],[0.8888888888888888,\"#fdca26\"],[1.0,\"#f0f921\"]],\"type\":\"contour\"}],\"contourcarpet\":[{\"colorbar\":{\"outlinewidth\":0,\"ticks\":\"\"},\"type\":\"contourcarpet\"}],\"heatmap\":[{\"colorbar\":{\"outlinewidth\":0,\"ticks\":\"\"},\"colorscale\":[[0.0,\"#0d0887\"],[0.1111111111111111,\"#46039f\"],[0.2222222222222222,\"#7201a8\"],[0.3333333333333333,\"#9c179e\"],[0.4444444444444444,\"#bd3786\"],[0.5555555555555556,\"#d8576b\"],[0.6666666666666666,\"#ed7953\"],[0.7777777777777778,\"#fb9f3a\"],[0.8888888888888888,\"#fdca26\"],[1.0,\"#f0f921\"]],\"type\":\"heatmap\"}],\"heatmapgl\":[{\"colorbar\":{\"outlinewidth\":0,\"ticks\":\"\"},\"colorscale\":[[0.0,\"#0d0887\"],[0.1111111111111111,\"#46039f\"],[0.2222222222222222,\"#7201a8\"],[0.3333333333333333,\"#9c179e\"],[0.4444444444444444,\"#bd3786\"],[0.5555555555555556,\"#d8576b\"],[0.6666666666666666,\"#ed7953\"],[0.7777777777777778,\"#fb9f3a\"],[0.8888888888888888,\"#fdca26\"],[1.0,\"#f0f921\"]],\"type\":\"heatmapgl\"}],\"histogram\":[{\"marker\":{\"pattern\":{\"fillmode\":\"overlay\",\"size\":10,\"solidity\":0.2}},\"type\":\"histogram\"}],\"histogram2d\":[{\"colorbar\":{\"outlinewidth\":0,\"ticks\":\"\"},\"colorscale\":[[0.0,\"#0d0887\"],[0.1111111111111111,\"#46039f\"],[0.2222222222222222,\"#7201a8\"],[0.3333333333333333,\"#9c179e\"],[0.4444444444444444,\"#bd3786\"],[0.5555555555555556,\"#d8576b\"],[0.6666666666666666,\"#ed7953\"],[0.7777777777777778,\"#fb9f3a\"],[0.8888888888888888,\"#fdca26\"],[1.0,\"#f0f921\"]],\"type\":\"histogram2d\"}],\"histogram2dcontour\":[{\"colorbar\":{\"outlinewidth\":0,\"ticks\":\"\"},\"colorscale\":[[0.0,\"#0d0887\"],[0.1111111111111111,\"#46039f\"],[0.2222222222222222,\"#7201a8\"],[0.3333333333333333,\"#9c179e\"],[0.4444444444444444,\"#bd3786\"],[0.5555555555555556,\"#d8576b\"],[0.6666666666666666,\"#ed7953\"],[0.7777777777777778,\"#fb9f3a\"],[0.8888888888888888,\"#fdca26\"],[1.0,\"#f0f921\"]],\"type\":\"histogram2dcontour\"}],\"mesh3d\":[{\"colorbar\":{\"outlinewidth\":0,\"ticks\":\"\"},\"type\":\"mesh3d\"}],\"parcoords\":[{\"line\":{\"colorbar\":{\"outlinewidth\":0,\"ticks\":\"\"}},\"type\":\"parcoords\"}],\"pie\":[{\"automargin\":true,\"type\":\"pie\"}],\"scatter\":[{\"marker\":{\"colorbar\":{\"outlinewidth\":0,\"ticks\":\"\"}},\"type\":\"scatter\"}],\"scatter3d\":[{\"line\":{\"colorbar\":{\"outlinewidth\":0,\"ticks\":\"\"}},\"marker\":{\"colorbar\":{\"outlinewidth\":0,\"ticks\":\"\"}},\"type\":\"scatter3d\"}],\"scattercarpet\":[{\"marker\":{\"colorbar\":{\"outlinewidth\":0,\"ticks\":\"\"}},\"type\":\"scattercarpet\"}],\"scattergeo\":[{\"marker\":{\"colorbar\":{\"outlinewidth\":0,\"ticks\":\"\"}},\"type\":\"scattergeo\"}],\"scattergl\":[{\"marker\":{\"colorbar\":{\"outlinewidth\":0,\"ticks\":\"\"}},\"type\":\"scattergl\"}],\"scattermapbox\":[{\"marker\":{\"colorbar\":{\"outlinewidth\":0,\"ticks\":\"\"}},\"type\":\"scattermapbox\"}],\"scatterpolar\":[{\"marker\":{\"colorbar\":{\"outlinewidth\":0,\"ticks\":\"\"}},\"type\":\"scatterpolar\"}],\"scatterpolargl\":[{\"marker\":{\"colorbar\":{\"outlinewidth\":0,\"ticks\":\"\"}},\"type\":\"scatterpolargl\"}],\"scatterternary\":[{\"marker\":{\"colorbar\":{\"outlinewidth\":0,\"ticks\":\"\"}},\"type\":\"scatterternary\"}],\"surface\":[{\"colorbar\":{\"outlinewidth\":0,\"ticks\":\"\"},\"colorscale\":[[0.0,\"#0d0887\"],[0.1111111111111111,\"#46039f\"],[0.2222222222222222,\"#7201a8\"],[0.3333333333333333,\"#9c179e\"],[0.4444444444444444,\"#bd3786\"],[0.5555555555555556,\"#d8576b\"],[0.6666666666666666,\"#ed7953\"],[0.7777777777777778,\"#fb9f3a\"],[0.8888888888888888,\"#fdca26\"],[1.0,\"#f0f921\"]],\"type\":\"surface\"}],\"table\":[{\"cells\":{\"fill\":{\"color\":\"#EBF0F8\"},\"line\":{\"color\":\"white\"}},\"header\":{\"fill\":{\"color\":\"#C8D4E3\"},\"line\":{\"color\":\"white\"}},\"type\":\"table\"}]},\"layout\":{\"annotationdefaults\":{\"arrowcolor\":\"#2a3f5f\",\"arrowhead\":0,\"arrowwidth\":1},\"autotypenumbers\":\"strict\",\"coloraxis\":{\"colorbar\":{\"outlinewidth\":0,\"ticks\":\"\"}},\"colorscale\":{\"diverging\":[[0,\"#8e0152\"],[0.1,\"#c51b7d\"],[0.2,\"#de77ae\"],[0.3,\"#f1b6da\"],[0.4,\"#fde0ef\"],[0.5,\"#f7f7f7\"],[0.6,\"#e6f5d0\"],[0.7,\"#b8e186\"],[0.8,\"#7fbc41\"],[0.9,\"#4d9221\"],[1,\"#276419\"]],\"sequential\":[[0.0,\"#0d0887\"],[0.1111111111111111,\"#46039f\"],[0.2222222222222222,\"#7201a8\"],[0.3333333333333333,\"#9c179e\"],[0.4444444444444444,\"#bd3786\"],[0.5555555555555556,\"#d8576b\"],[0.6666666666666666,\"#ed7953\"],[0.7777777777777778,\"#fb9f3a\"],[0.8888888888888888,\"#fdca26\"],[1.0,\"#f0f921\"]],\"sequentialminus\":[[0.0,\"#0d0887\"],[0.1111111111111111,\"#46039f\"],[0.2222222222222222,\"#7201a8\"],[0.3333333333333333,\"#9c179e\"],[0.4444444444444444,\"#bd3786\"],[0.5555555555555556,\"#d8576b\"],[0.6666666666666666,\"#ed7953\"],[0.7777777777777778,\"#fb9f3a\"],[0.8888888888888888,\"#fdca26\"],[1.0,\"#f0f921\"]]},\"colorway\":[\"#636efa\",\"#EF553B\",\"#00cc96\",\"#ab63fa\",\"#FFA15A\",\"#19d3f3\",\"#FF6692\",\"#B6E880\",\"#FF97FF\",\"#FECB52\"],\"font\":{\"color\":\"#2a3f5f\"},\"geo\":{\"bgcolor\":\"white\",\"lakecolor\":\"white\",\"landcolor\":\"#E5ECF6\",\"showlakes\":true,\"showland\":true,\"subunitcolor\":\"white\"},\"hoverlabel\":{\"align\":\"left\"},\"hovermode\":\"closest\",\"mapbox\":{\"style\":\"light\"},\"paper_bgcolor\":\"white\",\"plot_bgcolor\":\"#E5ECF6\",\"polar\":{\"angularaxis\":{\"gridcolor\":\"white\",\"linecolor\":\"white\",\"ticks\":\"\"},\"bgcolor\":\"#E5ECF6\",\"radialaxis\":{\"gridcolor\":\"white\",\"linecolor\":\"white\",\"ticks\":\"\"}},\"scene\":{\"xaxis\":{\"backgroundcolor\":\"#E5ECF6\",\"gridcolor\":\"white\",\"gridwidth\":2,\"linecolor\":\"white\",\"showbackground\":true,\"ticks\":\"\",\"zerolinecolor\":\"white\"},\"yaxis\":{\"backgroundcolor\":\"#E5ECF6\",\"gridcolor\":\"white\",\"gridwidth\":2,\"linecolor\":\"white\",\"showbackground\":true,\"ticks\":\"\",\"zerolinecolor\":\"white\"},\"zaxis\":{\"backgroundcolor\":\"#E5ECF6\",\"gridcolor\":\"white\",\"gridwidth\":2,\"linecolor\":\"white\",\"showbackground\":true,\"ticks\":\"\",\"zerolinecolor\":\"white\"}},\"shapedefaults\":{\"line\":{\"color\":\"#2a3f5f\"}},\"ternary\":{\"aaxis\":{\"gridcolor\":\"white\",\"linecolor\":\"white\",\"ticks\":\"\"},\"baxis\":{\"gridcolor\":\"white\",\"linecolor\":\"white\",\"ticks\":\"\"},\"bgcolor\":\"#E5ECF6\",\"caxis\":{\"gridcolor\":\"white\",\"linecolor\":\"white\",\"ticks\":\"\"}},\"title\":{\"x\":0.05},\"xaxis\":{\"automargin\":true,\"gridcolor\":\"white\",\"linecolor\":\"white\",\"ticks\":\"\",\"title\":{\"standoff\":15},\"zerolinecolor\":\"white\",\"zerolinewidth\":2},\"yaxis\":{\"automargin\":true,\"gridcolor\":\"white\",\"linecolor\":\"white\",\"ticks\":\"\",\"title\":{\"standoff\":15},\"zerolinecolor\":\"white\",\"zerolinewidth\":2}}},\"title\":{\"text\":\"Renda bruta e quantidade vendida no m\\u00eas de novembro\"},\"xaxis\":{\"anchor\":\"y\",\"domain\":[0.0,1.0],\"title\":{\"text\":\"Data\"}},\"yaxis\":{\"anchor\":\"x\",\"domain\":[0.0,1.0],\"title\":{\"text\":\"Valor/ Valor M\\u00e1ximo (%)\"}}},                        {\"responsive\": true}                    ).then(function(){\n",
       "                            \n",
       "var gd = document.getElementById('369e901c-f3af-45a5-816c-69a66cc06977');\n",
       "var x = new MutationObserver(function (mutations, observer) {{\n",
       "        var display = window.getComputedStyle(gd).display;\n",
       "        if (!display || display === 'none') {{\n",
       "            console.log([gd, 'removed!']);\n",
       "            Plotly.purge(gd);\n",
       "            observer.disconnect();\n",
       "        }}\n",
       "}});\n",
       "\n",
       "// Listen for the removal of the full notebook cells\n",
       "var notebookContainer = gd.closest('#notebook-container');\n",
       "if (notebookContainer) {{\n",
       "    x.observe(notebookContainer, {childList: true});\n",
       "}}\n",
       "\n",
       "// Listen for the clearing of the current output cell\n",
       "var outputEl = gd.closest('.output');\n",
       "if (outputEl) {{\n",
       "    x.observe(outputEl, {childList: true});\n",
       "}}\n",
       "\n",
       "                        })                };                });            </script>        </div>"
      ]
     },
     "metadata": {},
     "output_type": "display_data"
    }
   ],
   "source": [
    "from sklearn.preprocessing import MaxAbsScaler\n",
    "abs_scaler = MaxAbsScaler()\n",
    "\n",
    "venda_produtos_cliente_agrupado_por_dia=venda_produtos_cliente.groupby(\"data\").sum().sort_values('data')\n",
    "venda_produtos_cliente_agrupado_por_dia=venda_produtos_cliente_agrupado_por_dia[[\"total_preco\", \"quantidade\"]]\n",
    "\n",
    "#Normalizando os dados\n",
    "abs_scaler = MaxAbsScaler()\n",
    "abs_scaler.fit(venda_produtos_cliente_agrupado_por_dia)\n",
    "abs_scaler.max_abs_\n",
    "scaled_data = abs_scaler.transform(venda_produtos_cliente_agrupado_por_dia)\n",
    "df_scaled = pd.DataFrame(scaled_data, columns=venda_produtos_cliente_agrupado_por_dia.columns)\n",
    "df_scaled.transpose()\n",
    "# Definindo a datta com índice\n",
    "df_scaled['date'] = np.arange(np.datetime64('2021-11-01'), np.datetime64('2021-12-01'))\n",
    "df_scaled = df_scaled.set_index(['date'])\n",
    "df_scaled.rename(columns={'total_preco': 'Renda bruta total', \"quantidade\": \"Quantidade de produtos vendidos\"}, inplace = True)\n",
    "# Plotando o gráfico\n",
    "fig = px.line(df_scaled, labels={\"variable\":\"Linhas\", \"value\":\"Valor/ Valor Máximo (%)\"}, title=\"Renda bruta e quantidade vendida no mês de novembro\")\n",
    "fig.update_xaxes(title = 'Data')\n",
    "fig.update_yaxes(title = 'Valor/ Valor Máximo (%)')\n",
    "fig.show()"
   ]
  },
  {
   "cell_type": "code",
   "execution_count": 38,
   "id": "f6061940",
   "metadata": {},
   "outputs": [
    {
     "data": {
      "text/html": [
       "<div>\n",
       "<style scoped>\n",
       "    .dataframe tbody tr th:only-of-type {\n",
       "        vertical-align: middle;\n",
       "    }\n",
       "\n",
       "    .dataframe tbody tr th {\n",
       "        vertical-align: top;\n",
       "    }\n",
       "\n",
       "    .dataframe thead th {\n",
       "        text-align: right;\n",
       "    }\n",
       "</style>\n",
       "<table border=\"1\" class=\"dataframe\">\n",
       "  <thead>\n",
       "    <tr style=\"text-align: right;\">\n",
       "      <th></th>\n",
       "      <th>Renda bruta total</th>\n",
       "      <th>Quantidade de produtos vendidos</th>\n",
       "    </tr>\n",
       "    <tr>\n",
       "      <th>date</th>\n",
       "      <th></th>\n",
       "      <th></th>\n",
       "    </tr>\n",
       "  </thead>\n",
       "  <tbody>\n",
       "    <tr>\n",
       "      <th>2021-11-01</th>\n",
       "      <td>0.742042</td>\n",
       "      <td>0.557895</td>\n",
       "    </tr>\n",
       "    <tr>\n",
       "      <th>2021-11-02</th>\n",
       "      <td>0.705163</td>\n",
       "      <td>0.722807</td>\n",
       "    </tr>\n",
       "    <tr>\n",
       "      <th>2021-11-03</th>\n",
       "      <td>0.415266</td>\n",
       "      <td>0.442105</td>\n",
       "    </tr>\n",
       "    <tr>\n",
       "      <th>2021-11-04</th>\n",
       "      <td>0.516570</td>\n",
       "      <td>0.563158</td>\n",
       "    </tr>\n",
       "    <tr>\n",
       "      <th>2021-11-05</th>\n",
       "      <td>0.997301</td>\n",
       "      <td>0.891228</td>\n",
       "    </tr>\n",
       "    <tr>\n",
       "      <th>2021-11-06</th>\n",
       "      <td>0.468783</td>\n",
       "      <td>0.442105</td>\n",
       "    </tr>\n",
       "    <tr>\n",
       "      <th>2021-11-07</th>\n",
       "      <td>0.411672</td>\n",
       "      <td>0.487719</td>\n",
       "    </tr>\n",
       "    <tr>\n",
       "      <th>2021-11-08</th>\n",
       "      <td>0.951531</td>\n",
       "      <td>0.836842</td>\n",
       "    </tr>\n",
       "    <tr>\n",
       "      <th>2021-11-09</th>\n",
       "      <td>1.000000</td>\n",
       "      <td>1.000000</td>\n",
       "    </tr>\n",
       "    <tr>\n",
       "      <th>2021-11-10</th>\n",
       "      <td>0.870129</td>\n",
       "      <td>0.733333</td>\n",
       "    </tr>\n",
       "    <tr>\n",
       "      <th>2021-11-11</th>\n",
       "      <td>0.634453</td>\n",
       "      <td>0.721053</td>\n",
       "    </tr>\n",
       "    <tr>\n",
       "      <th>2021-11-12</th>\n",
       "      <td>0.623397</td>\n",
       "      <td>0.719298</td>\n",
       "    </tr>\n",
       "    <tr>\n",
       "      <th>2021-11-13</th>\n",
       "      <td>0.844244</td>\n",
       "      <td>0.707018</td>\n",
       "    </tr>\n",
       "    <tr>\n",
       "      <th>2021-11-14</th>\n",
       "      <td>0.735540</td>\n",
       "      <td>0.791228</td>\n",
       "    </tr>\n",
       "    <tr>\n",
       "      <th>2021-11-15</th>\n",
       "      <td>0.098732</td>\n",
       "      <td>0.159649</td>\n",
       "    </tr>\n",
       "    <tr>\n",
       "      <th>2021-11-16</th>\n",
       "      <td>0.030806</td>\n",
       "      <td>0.050877</td>\n",
       "    </tr>\n",
       "    <tr>\n",
       "      <th>2021-11-17</th>\n",
       "      <td>0.049057</td>\n",
       "      <td>0.084211</td>\n",
       "    </tr>\n",
       "    <tr>\n",
       "      <th>2021-11-18</th>\n",
       "      <td>0.118347</td>\n",
       "      <td>0.108772</td>\n",
       "    </tr>\n",
       "    <tr>\n",
       "      <th>2021-11-19</th>\n",
       "      <td>0.082206</td>\n",
       "      <td>0.075439</td>\n",
       "    </tr>\n",
       "    <tr>\n",
       "      <th>2021-11-20</th>\n",
       "      <td>0.100634</td>\n",
       "      <td>0.087719</td>\n",
       "    </tr>\n",
       "    <tr>\n",
       "      <th>2021-11-21</th>\n",
       "      <td>0.074069</td>\n",
       "      <td>0.080702</td>\n",
       "    </tr>\n",
       "    <tr>\n",
       "      <th>2021-11-22</th>\n",
       "      <td>0.059536</td>\n",
       "      <td>0.059649</td>\n",
       "    </tr>\n",
       "    <tr>\n",
       "      <th>2021-11-23</th>\n",
       "      <td>0.114159</td>\n",
       "      <td>0.103509</td>\n",
       "    </tr>\n",
       "    <tr>\n",
       "      <th>2021-11-24</th>\n",
       "      <td>0.054564</td>\n",
       "      <td>0.064912</td>\n",
       "    </tr>\n",
       "    <tr>\n",
       "      <th>2021-11-25</th>\n",
       "      <td>0.088531</td>\n",
       "      <td>0.084211</td>\n",
       "    </tr>\n",
       "    <tr>\n",
       "      <th>2021-11-26</th>\n",
       "      <td>0.117213</td>\n",
       "      <td>0.091228</td>\n",
       "    </tr>\n",
       "    <tr>\n",
       "      <th>2021-11-27</th>\n",
       "      <td>0.048505</td>\n",
       "      <td>0.063158</td>\n",
       "    </tr>\n",
       "    <tr>\n",
       "      <th>2021-11-28</th>\n",
       "      <td>0.126216</td>\n",
       "      <td>0.103509</td>\n",
       "    </tr>\n",
       "    <tr>\n",
       "      <th>2021-11-29</th>\n",
       "      <td>0.077134</td>\n",
       "      <td>0.096491</td>\n",
       "    </tr>\n",
       "    <tr>\n",
       "      <th>2021-11-30</th>\n",
       "      <td>0.055313</td>\n",
       "      <td>0.082456</td>\n",
       "    </tr>\n",
       "  </tbody>\n",
       "</table>\n",
       "</div>"
      ],
      "text/plain": [
       "            Renda bruta total  Quantidade de produtos vendidos\n",
       "date                                                          \n",
       "2021-11-01           0.742042                         0.557895\n",
       "2021-11-02           0.705163                         0.722807\n",
       "2021-11-03           0.415266                         0.442105\n",
       "2021-11-04           0.516570                         0.563158\n",
       "2021-11-05           0.997301                         0.891228\n",
       "2021-11-06           0.468783                         0.442105\n",
       "2021-11-07           0.411672                         0.487719\n",
       "2021-11-08           0.951531                         0.836842\n",
       "2021-11-09           1.000000                         1.000000\n",
       "2021-11-10           0.870129                         0.733333\n",
       "2021-11-11           0.634453                         0.721053\n",
       "2021-11-12           0.623397                         0.719298\n",
       "2021-11-13           0.844244                         0.707018\n",
       "2021-11-14           0.735540                         0.791228\n",
       "2021-11-15           0.098732                         0.159649\n",
       "2021-11-16           0.030806                         0.050877\n",
       "2021-11-17           0.049057                         0.084211\n",
       "2021-11-18           0.118347                         0.108772\n",
       "2021-11-19           0.082206                         0.075439\n",
       "2021-11-20           0.100634                         0.087719\n",
       "2021-11-21           0.074069                         0.080702\n",
       "2021-11-22           0.059536                         0.059649\n",
       "2021-11-23           0.114159                         0.103509\n",
       "2021-11-24           0.054564                         0.064912\n",
       "2021-11-25           0.088531                         0.084211\n",
       "2021-11-26           0.117213                         0.091228\n",
       "2021-11-27           0.048505                         0.063158\n",
       "2021-11-28           0.126216                         0.103509\n",
       "2021-11-29           0.077134                         0.096491\n",
       "2021-11-30           0.055313                         0.082456"
      ]
     },
     "execution_count": 38,
     "metadata": {},
     "output_type": "execute_result"
    }
   ],
   "source": [
    "df_scaled"
   ]
  },
  {
   "cell_type": "code",
   "execution_count": null,
   "id": "9690f59c",
   "metadata": {},
   "outputs": [],
   "source": []
  },
  {
   "cell_type": "code",
   "execution_count": null,
   "id": "be83371a",
   "metadata": {},
   "outputs": [],
   "source": []
  },
  {
   "cell_type": "code",
   "execution_count": null,
   "id": "1177beba",
   "metadata": {},
   "outputs": [],
   "source": []
  },
  {
   "cell_type": "code",
   "execution_count": null,
   "id": "d0f69316",
   "metadata": {},
   "outputs": [],
   "source": []
  },
  {
   "cell_type": "code",
   "execution_count": null,
   "id": "2734e7f8",
   "metadata": {},
   "outputs": [],
   "source": []
  },
  {
   "cell_type": "code",
   "execution_count": null,
   "id": "e087704b",
   "metadata": {},
   "outputs": [],
   "source": []
  },
  {
   "cell_type": "code",
   "execution_count": null,
   "id": "4c4e19b4",
   "metadata": {},
   "outputs": [],
   "source": []
  },
  {
   "cell_type": "code",
   "execution_count": null,
   "id": "1eaa395c",
   "metadata": {},
   "outputs": [],
   "source": []
  },
  {
   "cell_type": "code",
   "execution_count": null,
   "id": "43139ed6",
   "metadata": {},
   "outputs": [],
   "source": []
  }
 ],
 "metadata": {
  "kernelspec": {
   "display_name": "Python 3",
   "language": "python",
   "name": "python3"
  },
  "language_info": {
   "codemirror_mode": {
    "name": "ipython",
    "version": 3
   },
   "file_extension": ".py",
   "mimetype": "text/x-python",
   "name": "python",
   "nbconvert_exporter": "python",
   "pygments_lexer": "ipython3",
   "version": "3.8.8"
  }
 },
 "nbformat": 4,
 "nbformat_minor": 5
}
