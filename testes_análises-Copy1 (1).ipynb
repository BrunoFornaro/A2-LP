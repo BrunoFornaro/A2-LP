{
 "cells": [
  {
   "cell_type": "code",
   "execution_count": 2,
   "id": "191c64a5",
   "metadata": {},
   "outputs": [
    {
     "name": "stdout",
     "output_type": "stream",
     "text": [
      "Collecting Faker\n",
      "  Downloading Faker-9.9.0-py3-none-any.whl (1.2 MB)\n",
      "Requirement already satisfied: python-dateutil>=2.4 in c:\\users\\vanes\\anaconda3\\lib\\site-packages (from Faker) (2.8.2)\n",
      "Collecting text-unidecode==1.3\n",
      "  Downloading text_unidecode-1.3-py2.py3-none-any.whl (78 kB)\n",
      "Requirement already satisfied: six>=1.5 in c:\\users\\vanes\\anaconda3\\lib\\site-packages (from python-dateutil>=2.4->Faker) (1.16.0)\n",
      "Installing collected packages: text-unidecode, Faker\n",
      "Successfully installed Faker-9.9.0 text-unidecode-1.3\n"
     ]
    }
   ],
   "source": [
    "!pip install Faker"
   ]
  },
  {
   "cell_type": "code",
   "execution_count": 126,
   "id": "e08f7679",
   "metadata": {},
   "outputs": [],
   "source": [
    "from numpy import random\n",
    "import pandas as pd\n",
    "import numpy as np\n",
    "import random as rd\n",
    "from faker import Faker\n",
    "import matplotlib.pyplot as plt\n",
    "import matplotlib as ptl\n",
    "import plotly.express as px\n",
    "\n",
    "fake = Faker(\"pt-BR\")\n",
    "\n",
    "def gerar_dados(quantidade_de_vendas = 500, quantidade_de_clientes = 200):\n",
    "\n",
    "    # Tabela de produtos\n",
    "    nome_dos_produtos = [\"morango\", \"melancia\", \"banana\", \"uva\", \"batata\", \"berinjela\", \"abobrinha\", \"alface\", \"couve-flor\", \"feijão\", \"arroz\", \"macarrão\", \"alcatra\", \"maminha\", \"bisteca suína\", \"carré de cordeiro\", \"costela\", \"paleta suína\", \"picanha\", \"peito de frango\", \"bolo\", \"pão de forma\", \"pão de queijo\", \"pão francês\", \"pastel\", \"sanduíche\", \"sonho\", \"torta\", \"amaciante\", \"água sanitária\", \"detergente\", \"flanela\", \"odorizador\", \"rodo\", \"sabão em pó\", \"sabonete\"]\n",
    "    secao_dos_produtos = [\"frutas_e_verduras\", \"frutas_e_verduras\", \"frutas_e_verduras\", \"frutas_e_verduras\", \"frutas_e_verduras\", \"frutas_e_verduras\", \"frutas_e_verduras\", \"frutas_e_verduras\", \"frutas_e_verduras\", \"frutas_e_verduras\", \"frutas_e_verduras\", \"frutas_e_verduras\", \"acougue\", \"acougue\", \"acougue\", \"acougue\", \"acougue\", \"acougue\", \"acougue\", \"acougue\", \"padaria\", \"padaria\", \"padaria\", \"padaria\", \"padaria\", \"padaria\", \"padaria\", \"padaria\", \"produtos_de_limpeza\", \"produtos_de_limpeza\", \"produtos_de_limpeza\", \"produtos_de_limpeza\", \"produtos_de_limpeza\", \"produtos_de_limpeza\", \"produtos_de_limpeza\", \"produtos_de_limpeza\"]\n",
    "    custo_dos_produtos = [4.30, 11.79, 2, 4.19, 2.39, 8.59, 2.69, 0.45, 3.19, 6.49, 2.35, 1.69, 23.19, 33.49, 15.73, 147.99, 16.39, 17.09, 43.35, 11.19, 17.89, 3.73, 17.04, 4.39, 3.19, 7.99, 1.79, 26.95, 5.19, 7.96, 1.3, 0.59, 14.38, 2.74, 6.15, 0.65]\n",
    "    preco_produtos = [7.99, 15.99, 5.99, 7.47, 3.99, 11.99, 3.49, 0.98, 5.48, 8.45, 4.31, 2.48, 31.99, 42.99, 22.79, 172, 20.99, 23.99, 70.89, 16.49, 35, 6.99, 23.99, 10.99, 4.99, 12.99, 3.49, 45, 6.70, 11.98, 2.70, 1.99, 23.99, 5.99, 9.69, 1.29]\n",
    "    prateleira_dos_produtos = [\"1A\", \"1C\", \"1B\", \"1D\", \"2B\", \"2D\", \"2A\", \"2C\", \"2E\", \"3B\", \"3A\", \"3C\", \"4A\", \"4B\", \"5A\", \"5B\", \"5C\", \"5D\", \"4C\", \"4D\", \"6A\", \"7A\", \"7B\", \"7C\", \"7D\", \"7E\", \"6B\", \"6C\", \"8A\", \"8B\", \"8C\", \"9A\", \"9B\", \"9C\", \"8D\", \"9D\"]\n",
    "    estoque_produtos = [50, 20, 40, 36, 47, 12, 19, 25, 20, 43, 80, 38, 7, 9, 5, 5, 10, 9, 6, 10, 7, 15, 1, 3, 9, 15, 20, 7, 12, 8, 40, 32, 6, 10, 13, 58]\n",
    "    unidade_de_medida_estoque = [\"bandeja\", \"unidade\", \"kg\", \"bandeja\", \"kg\", \"kg\", \"kg\", \"pé\", \"pé\", \"kg\", \"kg\", \"pacote\", \"kg\", \"kg\", \"kg\", \"kg\", \"kg\", \"kg\", \"kg\", \"kg\", \"kg\", \"pacote\", \"kg\", \"kg\", \"unidade\", \"unidade\", \"unidade\", \"kg\", \"unidade\", \"unidade\", \"unidade\", \"unidade\", \"unidade\", \"unidade\", \"unidade\", \"unidade\"]\n",
    "    imagem = [\"morango-alt.png\", \"melancia.jpg\", \"banana.png\", \"uva-alt.png\", \"batata.JPEG\", \"beringela.jpg\", \"abobrinha.JPEG\", \"alface.png\", \"couve-flor.png\", \"feijao.png\", \"arroz.png\", \"macarrao.jpg\", \"alcatra.jpg\", \"maminha.jpg\", \"bisteca_suina.jpg\", \"carre_de_cordeiro.jpg\", \"costela.jpg\", \"paleta_suina.jpg\", \"picanha.jpg\", \"peito_de_frango.jpg\", \"bolo.jpg\", \"pao_de_forma.jpg\", \"pao_de_queijo.jpg\", \"pao_frances.jpg\", \"pastel.jpg\", \"sanduiche.jpg\", \"sonho.jpg\", \"torta.jpg\", \"amaciante.jpg\", \"agua_sanitaria.jpg\", \"detergente.jpg\", \"flanela.jpg\", \"odorizador.jpg\", \"rodo.jpg\", \"sabao_em_po.jpg\", \"sabonete.jpg\"]\n",
    "\n",
    "    produtos = {\n",
    "        \"id\": list(range(len(nome_dos_produtos))),\n",
    "        \"nome\": nome_dos_produtos,\n",
    "        \"secao\": secao_dos_produtos,\n",
    "        \"custo\": custo_dos_produtos,\n",
    "        \"preco\": preco_produtos,\n",
    "        \"prateleira\": prateleira_dos_produtos,\n",
    "        \"estoque\": estoque_produtos,\n",
    "        \"unidade_de_medida_de_estoque\": unidade_de_medida_estoque,\n",
    "        \"imagem\": imagem\n",
    "    }\n",
    "\n",
    "    produtos = pd.DataFrame(produtos)\n",
    "\n",
    "    # Tabela de clientes\n",
    "    clientes = {\n",
    "        'id': list(range(quantidade_de_clientes)),\n",
    "        'nome': [],\n",
    "        'nascimento': [],\n",
    "        'endereco':[],\n",
    "        'cpf': [],\n",
    "        'telefone': [],\n",
    "        'usuario': [],\n",
    "        'senha': []\n",
    "    }\n",
    "\n",
    "    for id in clientes['id']:\n",
    "        clientes['nome'].append(fake.name())\n",
    "        clientes['nascimento'].append(fake.date_of_birth(minimum_age = 18, maximum_age = 73))\n",
    "        clientes['endereco'].append(fake.address())\n",
    "        clientes['cpf'].append(fake.cpf())\n",
    "        clientes['telefone'].append(fake.phone_number())\n",
    "        clientes['usuario'].append(fake.user_name())\n",
    "        clientes['senha'].append(fake.password(12))\n",
    "    \n",
    "    clientes = pd.DataFrame(clientes)\n",
    "\n",
    "    # Tabela de vendas\n",
    "    datas = np.arange(np.datetime64('2021-11-01'), np.datetime64('2021-12-01'))\n",
    "    probabilidade = np.linspace(1, 2, num=datas.size)\n",
    "    probabilidade = probabilidade / probabilidade.sum()\n",
    "    datas = np.random.choice(datas, p=probabilidade, size=quantidade_de_vendas)\n",
    "    datas.sort()\n",
    "    vendas = {\n",
    "        'id' : [],\n",
    "        'id_clientes' : [],\n",
    "        'data' : []\n",
    "    }\n",
    "    for id, data in enumerate(datas):\n",
    "        vendas['id'].append(id)\n",
    "        vendas['id_clientes'].append(np.random.choice(clientes['id']))\n",
    "        vendas['data'].append(data)\n",
    "\n",
    "    vendas = pd.DataFrame(vendas)\n",
    "    vendas[\"data\"] = vendas[\"data\"].dt.strftime('%Y-%m-%d')\n",
    "\n",
    "    # Tabela intermediária entre vendas e produtos\n",
    "    venda_produtos = {\n",
    "        'id_vendas' : [],\n",
    "        'id_produtos' : [],\n",
    "        'quantidade' : []\n",
    "    }\n",
    "\n",
    "    for id in range(quantidade_de_vendas):\n",
    "        venda_produtos['id_vendas'].append(vendas['id'][id])\n",
    "        venda_produtos['id_produtos'].append(np.random.choice(produtos['id']))\n",
    "        venda_produtos['quantidade'].append(random.randint(1, 5))\n",
    "\n",
    "    for id in range(4 * quantidade_de_vendas):\n",
    "        venda_produtos['id_vendas'].append(np.random.choice(clientes['id']))\n",
    "        venda_produtos['id_produtos'].append(np.random.choice(produtos['id']))\n",
    "        venda_produtos['quantidade'].append(random.randint(1, 5))\n",
    "\n",
    "    venda_produtos = pd.DataFrame(venda_produtos)\n",
    "    \n",
    "    return (produtos,clientes,vendas,venda_produtos)\n",
    "\n",
    "dados = gerar_dados()\n",
    "produtos = dados[0]\n",
    "clientes = dados[1]\n",
    "vendas = dados[2]\n",
    "venda_produtos = dados[3]"
   ]
  },
  {
   "cell_type": "markdown",
   "id": "972ecad5",
   "metadata": {},
   "source": [
    "## Tabelas"
   ]
  },
  {
   "cell_type": "code",
   "execution_count": 127,
   "id": "1615750f",
   "metadata": {},
   "outputs": [],
   "source": [
    "p = gerar_dados(quantidade_de_vendas = 500, quantidade_de_clientes = 200)"
   ]
  },
  {
   "cell_type": "code",
   "execution_count": 128,
   "id": "5b81954a",
   "metadata": {},
   "outputs": [
    {
     "data": {
      "text/html": [
       "<div>\n",
       "<style scoped>\n",
       "    .dataframe tbody tr th:only-of-type {\n",
       "        vertical-align: middle;\n",
       "    }\n",
       "\n",
       "    .dataframe tbody tr th {\n",
       "        vertical-align: top;\n",
       "    }\n",
       "\n",
       "    .dataframe thead th {\n",
       "        text-align: right;\n",
       "    }\n",
       "</style>\n",
       "<table border=\"1\" class=\"dataframe\">\n",
       "  <thead>\n",
       "    <tr style=\"text-align: right;\">\n",
       "      <th></th>\n",
       "      <th>id_produtos</th>\n",
       "      <th>nome</th>\n",
       "      <th>secao</th>\n",
       "      <th>custo</th>\n",
       "      <th>preco</th>\n",
       "      <th>prateleira</th>\n",
       "      <th>estoque</th>\n",
       "      <th>unidade_de_medida_de_estoque</th>\n",
       "      <th>imagem</th>\n",
       "    </tr>\n",
       "  </thead>\n",
       "  <tbody>\n",
       "    <tr>\n",
       "      <th>0</th>\n",
       "      <td>0</td>\n",
       "      <td>morango</td>\n",
       "      <td>Alimentos em Geral</td>\n",
       "      <td>4.30</td>\n",
       "      <td>7.99</td>\n",
       "      <td>1A</td>\n",
       "      <td>50</td>\n",
       "      <td>bandeja</td>\n",
       "      <td>morango-alt.png</td>\n",
       "    </tr>\n",
       "    <tr>\n",
       "      <th>1</th>\n",
       "      <td>1</td>\n",
       "      <td>melancia</td>\n",
       "      <td>Alimentos em Geral</td>\n",
       "      <td>11.79</td>\n",
       "      <td>15.99</td>\n",
       "      <td>1C</td>\n",
       "      <td>20</td>\n",
       "      <td>unidade</td>\n",
       "      <td>melancia.jpg</td>\n",
       "    </tr>\n",
       "    <tr>\n",
       "      <th>2</th>\n",
       "      <td>2</td>\n",
       "      <td>banana</td>\n",
       "      <td>Alimentos em Geral</td>\n",
       "      <td>2.00</td>\n",
       "      <td>5.99</td>\n",
       "      <td>1B</td>\n",
       "      <td>40</td>\n",
       "      <td>kg</td>\n",
       "      <td>banana.png</td>\n",
       "    </tr>\n",
       "    <tr>\n",
       "      <th>3</th>\n",
       "      <td>3</td>\n",
       "      <td>uva</td>\n",
       "      <td>Alimentos em Geral</td>\n",
       "      <td>4.19</td>\n",
       "      <td>7.47</td>\n",
       "      <td>1D</td>\n",
       "      <td>36</td>\n",
       "      <td>bandeja</td>\n",
       "      <td>uva-alt.png</td>\n",
       "    </tr>\n",
       "    <tr>\n",
       "      <th>4</th>\n",
       "      <td>4</td>\n",
       "      <td>batata</td>\n",
       "      <td>Alimentos em Geral</td>\n",
       "      <td>2.39</td>\n",
       "      <td>3.99</td>\n",
       "      <td>2B</td>\n",
       "      <td>47</td>\n",
       "      <td>kg</td>\n",
       "      <td>batata.JPEG</td>\n",
       "    </tr>\n",
       "    <tr>\n",
       "      <th>5</th>\n",
       "      <td>5</td>\n",
       "      <td>berinjela</td>\n",
       "      <td>Alimentos em Geral</td>\n",
       "      <td>8.59</td>\n",
       "      <td>11.99</td>\n",
       "      <td>2D</td>\n",
       "      <td>12</td>\n",
       "      <td>kg</td>\n",
       "      <td>beringela.jpg</td>\n",
       "    </tr>\n",
       "    <tr>\n",
       "      <th>6</th>\n",
       "      <td>6</td>\n",
       "      <td>abobrinha</td>\n",
       "      <td>Alimentos em Geral</td>\n",
       "      <td>2.69</td>\n",
       "      <td>3.49</td>\n",
       "      <td>2A</td>\n",
       "      <td>19</td>\n",
       "      <td>kg</td>\n",
       "      <td>abobrinha.JPEG</td>\n",
       "    </tr>\n",
       "    <tr>\n",
       "      <th>7</th>\n",
       "      <td>7</td>\n",
       "      <td>alface</td>\n",
       "      <td>Alimentos em Geral</td>\n",
       "      <td>0.45</td>\n",
       "      <td>0.98</td>\n",
       "      <td>2C</td>\n",
       "      <td>25</td>\n",
       "      <td>pé</td>\n",
       "      <td>alface.png</td>\n",
       "    </tr>\n",
       "    <tr>\n",
       "      <th>8</th>\n",
       "      <td>8</td>\n",
       "      <td>couve-flor</td>\n",
       "      <td>Alimentos em Geral</td>\n",
       "      <td>3.19</td>\n",
       "      <td>5.48</td>\n",
       "      <td>2E</td>\n",
       "      <td>20</td>\n",
       "      <td>pé</td>\n",
       "      <td>couve-flor.png</td>\n",
       "    </tr>\n",
       "    <tr>\n",
       "      <th>9</th>\n",
       "      <td>9</td>\n",
       "      <td>feijão</td>\n",
       "      <td>Alimentos em Geral</td>\n",
       "      <td>6.49</td>\n",
       "      <td>8.45</td>\n",
       "      <td>3B</td>\n",
       "      <td>43</td>\n",
       "      <td>kg</td>\n",
       "      <td>feijao.png</td>\n",
       "    </tr>\n",
       "    <tr>\n",
       "      <th>10</th>\n",
       "      <td>10</td>\n",
       "      <td>arroz</td>\n",
       "      <td>Alimentos em Geral</td>\n",
       "      <td>2.35</td>\n",
       "      <td>4.31</td>\n",
       "      <td>3A</td>\n",
       "      <td>80</td>\n",
       "      <td>kg</td>\n",
       "      <td>arroz.png</td>\n",
       "    </tr>\n",
       "    <tr>\n",
       "      <th>11</th>\n",
       "      <td>11</td>\n",
       "      <td>macarrão</td>\n",
       "      <td>Alimentos em Geral</td>\n",
       "      <td>1.69</td>\n",
       "      <td>2.48</td>\n",
       "      <td>3C</td>\n",
       "      <td>38</td>\n",
       "      <td>pacote</td>\n",
       "      <td>macarrao.jpg</td>\n",
       "    </tr>\n",
       "    <tr>\n",
       "      <th>12</th>\n",
       "      <td>12</td>\n",
       "      <td>alcatra</td>\n",
       "      <td>Açougue</td>\n",
       "      <td>23.19</td>\n",
       "      <td>31.99</td>\n",
       "      <td>4A</td>\n",
       "      <td>7</td>\n",
       "      <td>kg</td>\n",
       "      <td>alcatra.jpg</td>\n",
       "    </tr>\n",
       "    <tr>\n",
       "      <th>13</th>\n",
       "      <td>13</td>\n",
       "      <td>maminha</td>\n",
       "      <td>Açougue</td>\n",
       "      <td>33.49</td>\n",
       "      <td>42.99</td>\n",
       "      <td>4B</td>\n",
       "      <td>9</td>\n",
       "      <td>kg</td>\n",
       "      <td>maminha.jpg</td>\n",
       "    </tr>\n",
       "    <tr>\n",
       "      <th>14</th>\n",
       "      <td>14</td>\n",
       "      <td>bisteca suína</td>\n",
       "      <td>Açougue</td>\n",
       "      <td>15.73</td>\n",
       "      <td>22.79</td>\n",
       "      <td>5A</td>\n",
       "      <td>5</td>\n",
       "      <td>kg</td>\n",
       "      <td>bisteca_suina.jpg</td>\n",
       "    </tr>\n",
       "    <tr>\n",
       "      <th>15</th>\n",
       "      <td>15</td>\n",
       "      <td>carré de cordeiro</td>\n",
       "      <td>Açougue</td>\n",
       "      <td>147.99</td>\n",
       "      <td>172.00</td>\n",
       "      <td>5B</td>\n",
       "      <td>5</td>\n",
       "      <td>kg</td>\n",
       "      <td>carre_de_cordeiro.jpg</td>\n",
       "    </tr>\n",
       "    <tr>\n",
       "      <th>16</th>\n",
       "      <td>16</td>\n",
       "      <td>costela</td>\n",
       "      <td>Açougue</td>\n",
       "      <td>16.39</td>\n",
       "      <td>20.99</td>\n",
       "      <td>5C</td>\n",
       "      <td>10</td>\n",
       "      <td>kg</td>\n",
       "      <td>costela.jpg</td>\n",
       "    </tr>\n",
       "    <tr>\n",
       "      <th>17</th>\n",
       "      <td>17</td>\n",
       "      <td>paleta suína</td>\n",
       "      <td>Açougue</td>\n",
       "      <td>17.09</td>\n",
       "      <td>23.99</td>\n",
       "      <td>5D</td>\n",
       "      <td>9</td>\n",
       "      <td>kg</td>\n",
       "      <td>paleta_suina.jpg</td>\n",
       "    </tr>\n",
       "    <tr>\n",
       "      <th>18</th>\n",
       "      <td>18</td>\n",
       "      <td>picanha</td>\n",
       "      <td>Açougue</td>\n",
       "      <td>43.35</td>\n",
       "      <td>70.89</td>\n",
       "      <td>4C</td>\n",
       "      <td>6</td>\n",
       "      <td>kg</td>\n",
       "      <td>picanha.jpg</td>\n",
       "    </tr>\n",
       "    <tr>\n",
       "      <th>19</th>\n",
       "      <td>19</td>\n",
       "      <td>peito de frango</td>\n",
       "      <td>Açougue</td>\n",
       "      <td>11.19</td>\n",
       "      <td>16.49</td>\n",
       "      <td>4D</td>\n",
       "      <td>10</td>\n",
       "      <td>kg</td>\n",
       "      <td>peito_de_frango.jpg</td>\n",
       "    </tr>\n",
       "    <tr>\n",
       "      <th>20</th>\n",
       "      <td>20</td>\n",
       "      <td>bolo</td>\n",
       "      <td>Padaria</td>\n",
       "      <td>17.89</td>\n",
       "      <td>35.00</td>\n",
       "      <td>6A</td>\n",
       "      <td>7</td>\n",
       "      <td>kg</td>\n",
       "      <td>bolo.jpg</td>\n",
       "    </tr>\n",
       "    <tr>\n",
       "      <th>21</th>\n",
       "      <td>21</td>\n",
       "      <td>pão de forma</td>\n",
       "      <td>Padaria</td>\n",
       "      <td>3.73</td>\n",
       "      <td>6.99</td>\n",
       "      <td>7A</td>\n",
       "      <td>15</td>\n",
       "      <td>pacote</td>\n",
       "      <td>pao_de_forma.jpg</td>\n",
       "    </tr>\n",
       "    <tr>\n",
       "      <th>22</th>\n",
       "      <td>22</td>\n",
       "      <td>pão de queijo</td>\n",
       "      <td>Padaria</td>\n",
       "      <td>17.04</td>\n",
       "      <td>23.99</td>\n",
       "      <td>7B</td>\n",
       "      <td>1</td>\n",
       "      <td>kg</td>\n",
       "      <td>pao_de_queijo.jpg</td>\n",
       "    </tr>\n",
       "    <tr>\n",
       "      <th>23</th>\n",
       "      <td>23</td>\n",
       "      <td>pão francês</td>\n",
       "      <td>Padaria</td>\n",
       "      <td>4.39</td>\n",
       "      <td>10.99</td>\n",
       "      <td>7C</td>\n",
       "      <td>3</td>\n",
       "      <td>kg</td>\n",
       "      <td>pao_frances.jpg</td>\n",
       "    </tr>\n",
       "    <tr>\n",
       "      <th>24</th>\n",
       "      <td>24</td>\n",
       "      <td>pastel</td>\n",
       "      <td>Padaria</td>\n",
       "      <td>3.19</td>\n",
       "      <td>4.99</td>\n",
       "      <td>7D</td>\n",
       "      <td>9</td>\n",
       "      <td>unidade</td>\n",
       "      <td>pastel.jpg</td>\n",
       "    </tr>\n",
       "    <tr>\n",
       "      <th>25</th>\n",
       "      <td>25</td>\n",
       "      <td>sanduíche</td>\n",
       "      <td>Padaria</td>\n",
       "      <td>7.99</td>\n",
       "      <td>12.99</td>\n",
       "      <td>7E</td>\n",
       "      <td>15</td>\n",
       "      <td>unidade</td>\n",
       "      <td>sanduiche.jpg</td>\n",
       "    </tr>\n",
       "    <tr>\n",
       "      <th>26</th>\n",
       "      <td>26</td>\n",
       "      <td>sonho</td>\n",
       "      <td>Padaria</td>\n",
       "      <td>1.79</td>\n",
       "      <td>3.49</td>\n",
       "      <td>6B</td>\n",
       "      <td>20</td>\n",
       "      <td>unidade</td>\n",
       "      <td>sonho.jpg</td>\n",
       "    </tr>\n",
       "    <tr>\n",
       "      <th>27</th>\n",
       "      <td>27</td>\n",
       "      <td>torta</td>\n",
       "      <td>Padaria</td>\n",
       "      <td>26.95</td>\n",
       "      <td>45.00</td>\n",
       "      <td>6C</td>\n",
       "      <td>7</td>\n",
       "      <td>kg</td>\n",
       "      <td>torta.jpg</td>\n",
       "    </tr>\n",
       "    <tr>\n",
       "      <th>28</th>\n",
       "      <td>28</td>\n",
       "      <td>amaciante</td>\n",
       "      <td>Produtos de Limpeza</td>\n",
       "      <td>5.19</td>\n",
       "      <td>6.70</td>\n",
       "      <td>8A</td>\n",
       "      <td>12</td>\n",
       "      <td>unidade</td>\n",
       "      <td>amaciante.jpg</td>\n",
       "    </tr>\n",
       "    <tr>\n",
       "      <th>29</th>\n",
       "      <td>29</td>\n",
       "      <td>água sanitária</td>\n",
       "      <td>Produtos de Limpeza</td>\n",
       "      <td>7.96</td>\n",
       "      <td>11.98</td>\n",
       "      <td>8B</td>\n",
       "      <td>8</td>\n",
       "      <td>unidade</td>\n",
       "      <td>agua_sanitaria.jpg</td>\n",
       "    </tr>\n",
       "    <tr>\n",
       "      <th>30</th>\n",
       "      <td>30</td>\n",
       "      <td>detergente</td>\n",
       "      <td>Produtos de Limpeza</td>\n",
       "      <td>1.30</td>\n",
       "      <td>2.70</td>\n",
       "      <td>8C</td>\n",
       "      <td>40</td>\n",
       "      <td>unidade</td>\n",
       "      <td>detergente.jpg</td>\n",
       "    </tr>\n",
       "    <tr>\n",
       "      <th>31</th>\n",
       "      <td>31</td>\n",
       "      <td>flanela</td>\n",
       "      <td>Produtos de Limpeza</td>\n",
       "      <td>0.59</td>\n",
       "      <td>1.99</td>\n",
       "      <td>9A</td>\n",
       "      <td>32</td>\n",
       "      <td>unidade</td>\n",
       "      <td>flanela.jpg</td>\n",
       "    </tr>\n",
       "    <tr>\n",
       "      <th>32</th>\n",
       "      <td>32</td>\n",
       "      <td>odorizador</td>\n",
       "      <td>Produtos de Limpeza</td>\n",
       "      <td>14.38</td>\n",
       "      <td>23.99</td>\n",
       "      <td>9B</td>\n",
       "      <td>6</td>\n",
       "      <td>unidade</td>\n",
       "      <td>odorizador.jpg</td>\n",
       "    </tr>\n",
       "    <tr>\n",
       "      <th>33</th>\n",
       "      <td>33</td>\n",
       "      <td>rodo</td>\n",
       "      <td>Produtos de Limpeza</td>\n",
       "      <td>2.74</td>\n",
       "      <td>5.99</td>\n",
       "      <td>9C</td>\n",
       "      <td>10</td>\n",
       "      <td>unidade</td>\n",
       "      <td>rodo.jpg</td>\n",
       "    </tr>\n",
       "    <tr>\n",
       "      <th>34</th>\n",
       "      <td>34</td>\n",
       "      <td>sabão em pó</td>\n",
       "      <td>Produtos de Limpeza</td>\n",
       "      <td>6.15</td>\n",
       "      <td>9.69</td>\n",
       "      <td>8D</td>\n",
       "      <td>13</td>\n",
       "      <td>unidade</td>\n",
       "      <td>sabao_em_po.jpg</td>\n",
       "    </tr>\n",
       "    <tr>\n",
       "      <th>35</th>\n",
       "      <td>35</td>\n",
       "      <td>sabonete</td>\n",
       "      <td>Produtos de Limpeza</td>\n",
       "      <td>0.65</td>\n",
       "      <td>1.29</td>\n",
       "      <td>9D</td>\n",
       "      <td>58</td>\n",
       "      <td>unidade</td>\n",
       "      <td>sabonete.jpg</td>\n",
       "    </tr>\n",
       "  </tbody>\n",
       "</table>\n",
       "</div>"
      ],
      "text/plain": [
       "    id_produtos               nome                secao   custo   preco  \\\n",
       "0             0            morango   Alimentos em Geral    4.30    7.99   \n",
       "1             1           melancia   Alimentos em Geral   11.79   15.99   \n",
       "2             2             banana   Alimentos em Geral    2.00    5.99   \n",
       "3             3                uva   Alimentos em Geral    4.19    7.47   \n",
       "4             4             batata   Alimentos em Geral    2.39    3.99   \n",
       "5             5          berinjela   Alimentos em Geral    8.59   11.99   \n",
       "6             6          abobrinha   Alimentos em Geral    2.69    3.49   \n",
       "7             7             alface   Alimentos em Geral    0.45    0.98   \n",
       "8             8         couve-flor   Alimentos em Geral    3.19    5.48   \n",
       "9             9             feijão   Alimentos em Geral    6.49    8.45   \n",
       "10           10              arroz   Alimentos em Geral    2.35    4.31   \n",
       "11           11           macarrão   Alimentos em Geral    1.69    2.48   \n",
       "12           12            alcatra              Açougue   23.19   31.99   \n",
       "13           13            maminha              Açougue   33.49   42.99   \n",
       "14           14      bisteca suína              Açougue   15.73   22.79   \n",
       "15           15  carré de cordeiro              Açougue  147.99  172.00   \n",
       "16           16            costela              Açougue   16.39   20.99   \n",
       "17           17       paleta suína              Açougue   17.09   23.99   \n",
       "18           18            picanha              Açougue   43.35   70.89   \n",
       "19           19    peito de frango              Açougue   11.19   16.49   \n",
       "20           20               bolo              Padaria   17.89   35.00   \n",
       "21           21       pão de forma              Padaria    3.73    6.99   \n",
       "22           22      pão de queijo              Padaria   17.04   23.99   \n",
       "23           23        pão francês              Padaria    4.39   10.99   \n",
       "24           24             pastel              Padaria    3.19    4.99   \n",
       "25           25          sanduíche              Padaria    7.99   12.99   \n",
       "26           26              sonho              Padaria    1.79    3.49   \n",
       "27           27              torta              Padaria   26.95   45.00   \n",
       "28           28          amaciante  Produtos de Limpeza    5.19    6.70   \n",
       "29           29     água sanitária  Produtos de Limpeza    7.96   11.98   \n",
       "30           30         detergente  Produtos de Limpeza    1.30    2.70   \n",
       "31           31            flanela  Produtos de Limpeza    0.59    1.99   \n",
       "32           32         odorizador  Produtos de Limpeza   14.38   23.99   \n",
       "33           33               rodo  Produtos de Limpeza    2.74    5.99   \n",
       "34           34        sabão em pó  Produtos de Limpeza    6.15    9.69   \n",
       "35           35           sabonete  Produtos de Limpeza    0.65    1.29   \n",
       "\n",
       "   prateleira  estoque unidade_de_medida_de_estoque                 imagem  \n",
       "0          1A       50                      bandeja        morango-alt.png  \n",
       "1          1C       20                      unidade           melancia.jpg  \n",
       "2          1B       40                           kg             banana.png  \n",
       "3          1D       36                      bandeja            uva-alt.png  \n",
       "4          2B       47                           kg            batata.JPEG  \n",
       "5          2D       12                           kg          beringela.jpg  \n",
       "6          2A       19                           kg         abobrinha.JPEG  \n",
       "7          2C       25                           pé             alface.png  \n",
       "8          2E       20                           pé         couve-flor.png  \n",
       "9          3B       43                           kg             feijao.png  \n",
       "10         3A       80                           kg              arroz.png  \n",
       "11         3C       38                       pacote           macarrao.jpg  \n",
       "12         4A        7                           kg            alcatra.jpg  \n",
       "13         4B        9                           kg            maminha.jpg  \n",
       "14         5A        5                           kg      bisteca_suina.jpg  \n",
       "15         5B        5                           kg  carre_de_cordeiro.jpg  \n",
       "16         5C       10                           kg            costela.jpg  \n",
       "17         5D        9                           kg       paleta_suina.jpg  \n",
       "18         4C        6                           kg            picanha.jpg  \n",
       "19         4D       10                           kg    peito_de_frango.jpg  \n",
       "20         6A        7                           kg               bolo.jpg  \n",
       "21         7A       15                       pacote       pao_de_forma.jpg  \n",
       "22         7B        1                           kg      pao_de_queijo.jpg  \n",
       "23         7C        3                           kg        pao_frances.jpg  \n",
       "24         7D        9                      unidade             pastel.jpg  \n",
       "25         7E       15                      unidade          sanduiche.jpg  \n",
       "26         6B       20                      unidade              sonho.jpg  \n",
       "27         6C        7                           kg              torta.jpg  \n",
       "28         8A       12                      unidade          amaciante.jpg  \n",
       "29         8B        8                      unidade     agua_sanitaria.jpg  \n",
       "30         8C       40                      unidade         detergente.jpg  \n",
       "31         9A       32                      unidade            flanela.jpg  \n",
       "32         9B        6                      unidade         odorizador.jpg  \n",
       "33         9C       10                      unidade               rodo.jpg  \n",
       "34         8D       13                      unidade        sabao_em_po.jpg  \n",
       "35         9D       58                      unidade           sabonete.jpg  "
      ]
     },
     "execution_count": 128,
     "metadata": {},
     "output_type": "execute_result"
    }
   ],
   "source": [
    "produtos=p[0]\n",
    "#renomenado a coluna id para id produto na tabela de produtos\n",
    "produtos.rename(columns={\"id\": \"id_produtos\"}, inplace = 1)\n",
    "produtos[\"secao\"].replace({\"frutas_e_verduras\":\"Alimentos em Geral\", \"acougue\": \"Açougue\", \"padaria\":\"Padaria\", \"produtos_de_limpeza\": \"Produtos de Limpeza\"}, inplace=True)\n",
    "produtos"
   ]
  },
  {
   "cell_type": "code",
   "execution_count": 129,
   "id": "b77c2dab",
   "metadata": {},
   "outputs": [
    {
     "data": {
      "text/html": [
       "<div>\n",
       "<style scoped>\n",
       "    .dataframe tbody tr th:only-of-type {\n",
       "        vertical-align: middle;\n",
       "    }\n",
       "\n",
       "    .dataframe tbody tr th {\n",
       "        vertical-align: top;\n",
       "    }\n",
       "\n",
       "    .dataframe thead th {\n",
       "        text-align: right;\n",
       "    }\n",
       "</style>\n",
       "<table border=\"1\" class=\"dataframe\">\n",
       "  <thead>\n",
       "    <tr style=\"text-align: right;\">\n",
       "      <th></th>\n",
       "      <th>id_clientes</th>\n",
       "      <th>nome_cliente</th>\n",
       "      <th>nascimento</th>\n",
       "      <th>endereco</th>\n",
       "      <th>cpf</th>\n",
       "      <th>telefone</th>\n",
       "      <th>usuario</th>\n",
       "      <th>senha</th>\n",
       "    </tr>\n",
       "  </thead>\n",
       "  <tbody>\n",
       "    <tr>\n",
       "      <th>0</th>\n",
       "      <td>0</td>\n",
       "      <td>Srta. Mirella da Luz</td>\n",
       "      <td>1989-10-01</td>\n",
       "      <td>Passarela Sales, 3\\nErnesto Nascimento\\n242665...</td>\n",
       "      <td>247.958.163-28</td>\n",
       "      <td>(041) 4685-0594</td>\n",
       "      <td>evelyn61</td>\n",
       "      <td>%tUPy_5hu)8I</td>\n",
       "    </tr>\n",
       "    <tr>\n",
       "      <th>1</th>\n",
       "      <td>1</td>\n",
       "      <td>Renan Rezende</td>\n",
       "      <td>1987-12-01</td>\n",
       "      <td>Pátio Teixeira, 2\\nVila Satélite\\n36232966 Mou...</td>\n",
       "      <td>594.801.736-20</td>\n",
       "      <td>(041) 1483-5644</td>\n",
       "      <td>yagodas-neves</td>\n",
       "      <td>ig^5Mi!OYNX1</td>\n",
       "    </tr>\n",
       "    <tr>\n",
       "      <th>2</th>\n",
       "      <td>2</td>\n",
       "      <td>Luna Cunha</td>\n",
       "      <td>1995-05-20</td>\n",
       "      <td>Largo de Vieira, 93\\nBairro Das Indústrias Ii\\...</td>\n",
       "      <td>423.091.657-43</td>\n",
       "      <td>11 5076-7966</td>\n",
       "      <td>joao-guilhermesales</td>\n",
       "      <td>!_AQa(%zW5HS</td>\n",
       "    </tr>\n",
       "    <tr>\n",
       "      <th>3</th>\n",
       "      <td>3</td>\n",
       "      <td>Srta. Maria Eduarda Ferreira</td>\n",
       "      <td>1953-11-22</td>\n",
       "      <td>Praia Alexia Cunha, 38\\nCalafate\\n29994142 Roc...</td>\n",
       "      <td>174.532.680-44</td>\n",
       "      <td>+55 51 7696 5093</td>\n",
       "      <td>joaquimda-conceicao</td>\n",
       "      <td>h#bhfarn%o8C</td>\n",
       "    </tr>\n",
       "    <tr>\n",
       "      <th>4</th>\n",
       "      <td>4</td>\n",
       "      <td>Renan Moreira</td>\n",
       "      <td>1970-08-26</td>\n",
       "      <td>Rodovia Lopes, 338\\nVentosa\\n62330-929 Barbosa...</td>\n",
       "      <td>783.142.650-71</td>\n",
       "      <td>61 9277 2367</td>\n",
       "      <td>maria-luiza70</td>\n",
       "      <td>G(^9IAzCdA%^</td>\n",
       "    </tr>\n",
       "    <tr>\n",
       "      <th>...</th>\n",
       "      <td>...</td>\n",
       "      <td>...</td>\n",
       "      <td>...</td>\n",
       "      <td>...</td>\n",
       "      <td>...</td>\n",
       "      <td>...</td>\n",
       "      <td>...</td>\n",
       "      <td>...</td>\n",
       "    </tr>\n",
       "    <tr>\n",
       "      <th>195</th>\n",
       "      <td>195</td>\n",
       "      <td>Srta. Yasmin Silva</td>\n",
       "      <td>1975-10-22</td>\n",
       "      <td>Campo de Silva, 65\\nHavaí\\n07346-354 Correia d...</td>\n",
       "      <td>480.236.715-53</td>\n",
       "      <td>+55 (031) 2283 5001</td>\n",
       "      <td>omonteiro</td>\n",
       "      <td>&amp;6V#gvb2LZiP</td>\n",
       "    </tr>\n",
       "    <tr>\n",
       "      <th>196</th>\n",
       "      <td>196</td>\n",
       "      <td>Marcelo Cunha</td>\n",
       "      <td>1949-12-02</td>\n",
       "      <td>Travessa Azevedo, 97\\nSanta Monica\\n12983476 d...</td>\n",
       "      <td>065.982.143-51</td>\n",
       "      <td>(071) 8318-0344</td>\n",
       "      <td>ana-julia74</td>\n",
       "      <td>eP$vPNRk*!v0</td>\n",
       "    </tr>\n",
       "    <tr>\n",
       "      <th>197</th>\n",
       "      <td>197</td>\n",
       "      <td>Eduardo Jesus</td>\n",
       "      <td>1973-11-19</td>\n",
       "      <td>Estação Bryan da Costa, 27\\nVila Independencia...</td>\n",
       "      <td>892.376.540-65</td>\n",
       "      <td>+55 51 6915 1457</td>\n",
       "      <td>goncalvesmaria-alice</td>\n",
       "      <td>SDs641LjU*$9</td>\n",
       "    </tr>\n",
       "    <tr>\n",
       "      <th>198</th>\n",
       "      <td>198</td>\n",
       "      <td>Yago Dias</td>\n",
       "      <td>1950-02-19</td>\n",
       "      <td>Lago Vieira, 9\\nBairro Das Indústrias Ii\\n0562...</td>\n",
       "      <td>518.092.643-24</td>\n",
       "      <td>+55 (081) 8213-8420</td>\n",
       "      <td>luigi75</td>\n",
       "      <td>^j0VSksECF@A</td>\n",
       "    </tr>\n",
       "    <tr>\n",
       "      <th>199</th>\n",
       "      <td>199</td>\n",
       "      <td>João Vitor Jesus</td>\n",
       "      <td>1980-11-13</td>\n",
       "      <td>Travessa Diogo Santos, 49\\nHorto\\n29852965 Gon...</td>\n",
       "      <td>547.126.038-44</td>\n",
       "      <td>21 6788-2963</td>\n",
       "      <td>rafael98</td>\n",
       "      <td>P&amp;3ZCUvArjK6</td>\n",
       "    </tr>\n",
       "  </tbody>\n",
       "</table>\n",
       "<p>200 rows × 8 columns</p>\n",
       "</div>"
      ],
      "text/plain": [
       "     id_clientes                  nome_cliente  nascimento  \\\n",
       "0              0          Srta. Mirella da Luz  1989-10-01   \n",
       "1              1                 Renan Rezende  1987-12-01   \n",
       "2              2                    Luna Cunha  1995-05-20   \n",
       "3              3  Srta. Maria Eduarda Ferreira  1953-11-22   \n",
       "4              4                 Renan Moreira  1970-08-26   \n",
       "..           ...                           ...         ...   \n",
       "195          195            Srta. Yasmin Silva  1975-10-22   \n",
       "196          196                 Marcelo Cunha  1949-12-02   \n",
       "197          197                 Eduardo Jesus  1973-11-19   \n",
       "198          198                     Yago Dias  1950-02-19   \n",
       "199          199              João Vitor Jesus  1980-11-13   \n",
       "\n",
       "                                              endereco             cpf  \\\n",
       "0    Passarela Sales, 3\\nErnesto Nascimento\\n242665...  247.958.163-28   \n",
       "1    Pátio Teixeira, 2\\nVila Satélite\\n36232966 Mou...  594.801.736-20   \n",
       "2    Largo de Vieira, 93\\nBairro Das Indústrias Ii\\...  423.091.657-43   \n",
       "3    Praia Alexia Cunha, 38\\nCalafate\\n29994142 Roc...  174.532.680-44   \n",
       "4    Rodovia Lopes, 338\\nVentosa\\n62330-929 Barbosa...  783.142.650-71   \n",
       "..                                                 ...             ...   \n",
       "195  Campo de Silva, 65\\nHavaí\\n07346-354 Correia d...  480.236.715-53   \n",
       "196  Travessa Azevedo, 97\\nSanta Monica\\n12983476 d...  065.982.143-51   \n",
       "197  Estação Bryan da Costa, 27\\nVila Independencia...  892.376.540-65   \n",
       "198  Lago Vieira, 9\\nBairro Das Indústrias Ii\\n0562...  518.092.643-24   \n",
       "199  Travessa Diogo Santos, 49\\nHorto\\n29852965 Gon...  547.126.038-44   \n",
       "\n",
       "                telefone               usuario         senha  \n",
       "0        (041) 4685-0594              evelyn61  %tUPy_5hu)8I  \n",
       "1        (041) 1483-5644         yagodas-neves  ig^5Mi!OYNX1  \n",
       "2           11 5076-7966   joao-guilhermesales  !_AQa(%zW5HS  \n",
       "3       +55 51 7696 5093   joaquimda-conceicao  h#bhfarn%o8C  \n",
       "4           61 9277 2367         maria-luiza70  G(^9IAzCdA%^  \n",
       "..                   ...                   ...           ...  \n",
       "195  +55 (031) 2283 5001             omonteiro  &6V#gvb2LZiP  \n",
       "196      (071) 8318-0344           ana-julia74  eP$vPNRk*!v0  \n",
       "197     +55 51 6915 1457  goncalvesmaria-alice  SDs641LjU*$9  \n",
       "198  +55 (081) 8213-8420               luigi75  ^j0VSksECF@A  \n",
       "199         21 6788-2963              rafael98  P&3ZCUvArjK6  \n",
       "\n",
       "[200 rows x 8 columns]"
      ]
     },
     "execution_count": 129,
     "metadata": {},
     "output_type": "execute_result"
    }
   ],
   "source": [
    "clientes=p[1]\n",
    "#renomenado a coluna id para id_cliente na tabela de clientes\n",
    "clientes.rename(columns={\"id\": \"id_clientes\"}, inplace = 1)\n",
    "#renomenado a coluna nome para nome_cliente na tabela de clientes\n",
    "clientes.rename(columns={\"nome\": \"nome_cliente\"}, inplace = 1)\n",
    "clientes"
   ]
  },
  {
   "cell_type": "code",
   "execution_count": 130,
   "id": "c549b3fe",
   "metadata": {},
   "outputs": [
    {
     "data": {
      "text/html": [
       "<div>\n",
       "<style scoped>\n",
       "    .dataframe tbody tr th:only-of-type {\n",
       "        vertical-align: middle;\n",
       "    }\n",
       "\n",
       "    .dataframe tbody tr th {\n",
       "        vertical-align: top;\n",
       "    }\n",
       "\n",
       "    .dataframe thead th {\n",
       "        text-align: right;\n",
       "    }\n",
       "</style>\n",
       "<table border=\"1\" class=\"dataframe\">\n",
       "  <thead>\n",
       "    <tr style=\"text-align: right;\">\n",
       "      <th></th>\n",
       "      <th>id_vendas</th>\n",
       "      <th>id_clientes</th>\n",
       "      <th>data</th>\n",
       "    </tr>\n",
       "  </thead>\n",
       "  <tbody>\n",
       "    <tr>\n",
       "      <th>0</th>\n",
       "      <td>0</td>\n",
       "      <td>62</td>\n",
       "      <td>2021-11-01</td>\n",
       "    </tr>\n",
       "    <tr>\n",
       "      <th>1</th>\n",
       "      <td>1</td>\n",
       "      <td>2</td>\n",
       "      <td>2021-11-01</td>\n",
       "    </tr>\n",
       "    <tr>\n",
       "      <th>2</th>\n",
       "      <td>2</td>\n",
       "      <td>141</td>\n",
       "      <td>2021-11-01</td>\n",
       "    </tr>\n",
       "    <tr>\n",
       "      <th>3</th>\n",
       "      <td>3</td>\n",
       "      <td>149</td>\n",
       "      <td>2021-11-01</td>\n",
       "    </tr>\n",
       "    <tr>\n",
       "      <th>4</th>\n",
       "      <td>4</td>\n",
       "      <td>68</td>\n",
       "      <td>2021-11-01</td>\n",
       "    </tr>\n",
       "    <tr>\n",
       "      <th>...</th>\n",
       "      <td>...</td>\n",
       "      <td>...</td>\n",
       "      <td>...</td>\n",
       "    </tr>\n",
       "    <tr>\n",
       "      <th>495</th>\n",
       "      <td>495</td>\n",
       "      <td>169</td>\n",
       "      <td>2021-11-30</td>\n",
       "    </tr>\n",
       "    <tr>\n",
       "      <th>496</th>\n",
       "      <td>496</td>\n",
       "      <td>133</td>\n",
       "      <td>2021-11-30</td>\n",
       "    </tr>\n",
       "    <tr>\n",
       "      <th>497</th>\n",
       "      <td>497</td>\n",
       "      <td>122</td>\n",
       "      <td>2021-11-30</td>\n",
       "    </tr>\n",
       "    <tr>\n",
       "      <th>498</th>\n",
       "      <td>498</td>\n",
       "      <td>157</td>\n",
       "      <td>2021-11-30</td>\n",
       "    </tr>\n",
       "    <tr>\n",
       "      <th>499</th>\n",
       "      <td>499</td>\n",
       "      <td>181</td>\n",
       "      <td>2021-11-30</td>\n",
       "    </tr>\n",
       "  </tbody>\n",
       "</table>\n",
       "<p>500 rows × 3 columns</p>\n",
       "</div>"
      ],
      "text/plain": [
       "     id_vendas  id_clientes        data\n",
       "0            0           62  2021-11-01\n",
       "1            1            2  2021-11-01\n",
       "2            2          141  2021-11-01\n",
       "3            3          149  2021-11-01\n",
       "4            4           68  2021-11-01\n",
       "..         ...          ...         ...\n",
       "495        495          169  2021-11-30\n",
       "496        496          133  2021-11-30\n",
       "497        497          122  2021-11-30\n",
       "498        498          157  2021-11-30\n",
       "499        499          181  2021-11-30\n",
       "\n",
       "[500 rows x 3 columns]"
      ]
     },
     "execution_count": 130,
     "metadata": {},
     "output_type": "execute_result"
    }
   ],
   "source": [
    "vendas=p[2]\n",
    "#renomenado a coluna id para id_vendas na tabela de vendas\n",
    "vendas.rename(columns={\"id\": \"id_vendas\"}, inplace = 1)\n",
    "vendas"
   ]
  },
  {
   "cell_type": "code",
   "execution_count": 131,
   "id": "b6987937",
   "metadata": {},
   "outputs": [
    {
     "data": {
      "text/html": [
       "<div>\n",
       "<style scoped>\n",
       "    .dataframe tbody tr th:only-of-type {\n",
       "        vertical-align: middle;\n",
       "    }\n",
       "\n",
       "    .dataframe tbody tr th {\n",
       "        vertical-align: top;\n",
       "    }\n",
       "\n",
       "    .dataframe thead th {\n",
       "        text-align: right;\n",
       "    }\n",
       "</style>\n",
       "<table border=\"1\" class=\"dataframe\">\n",
       "  <thead>\n",
       "    <tr style=\"text-align: right;\">\n",
       "      <th></th>\n",
       "      <th>id_vendas</th>\n",
       "      <th>id_produtos</th>\n",
       "      <th>quantidade</th>\n",
       "    </tr>\n",
       "  </thead>\n",
       "  <tbody>\n",
       "    <tr>\n",
       "      <th>0</th>\n",
       "      <td>0</td>\n",
       "      <td>27</td>\n",
       "      <td>2</td>\n",
       "    </tr>\n",
       "    <tr>\n",
       "      <th>1</th>\n",
       "      <td>1</td>\n",
       "      <td>14</td>\n",
       "      <td>2</td>\n",
       "    </tr>\n",
       "    <tr>\n",
       "      <th>2</th>\n",
       "      <td>2</td>\n",
       "      <td>31</td>\n",
       "      <td>4</td>\n",
       "    </tr>\n",
       "    <tr>\n",
       "      <th>3</th>\n",
       "      <td>3</td>\n",
       "      <td>12</td>\n",
       "      <td>2</td>\n",
       "    </tr>\n",
       "    <tr>\n",
       "      <th>4</th>\n",
       "      <td>4</td>\n",
       "      <td>25</td>\n",
       "      <td>2</td>\n",
       "    </tr>\n",
       "    <tr>\n",
       "      <th>...</th>\n",
       "      <td>...</td>\n",
       "      <td>...</td>\n",
       "      <td>...</td>\n",
       "    </tr>\n",
       "    <tr>\n",
       "      <th>2495</th>\n",
       "      <td>199</td>\n",
       "      <td>5</td>\n",
       "      <td>4</td>\n",
       "    </tr>\n",
       "    <tr>\n",
       "      <th>2496</th>\n",
       "      <td>109</td>\n",
       "      <td>34</td>\n",
       "      <td>3</td>\n",
       "    </tr>\n",
       "    <tr>\n",
       "      <th>2497</th>\n",
       "      <td>135</td>\n",
       "      <td>2</td>\n",
       "      <td>1</td>\n",
       "    </tr>\n",
       "    <tr>\n",
       "      <th>2498</th>\n",
       "      <td>51</td>\n",
       "      <td>2</td>\n",
       "      <td>2</td>\n",
       "    </tr>\n",
       "    <tr>\n",
       "      <th>2499</th>\n",
       "      <td>23</td>\n",
       "      <td>10</td>\n",
       "      <td>1</td>\n",
       "    </tr>\n",
       "  </tbody>\n",
       "</table>\n",
       "<p>2500 rows × 3 columns</p>\n",
       "</div>"
      ],
      "text/plain": [
       "      id_vendas  id_produtos  quantidade\n",
       "0             0           27           2\n",
       "1             1           14           2\n",
       "2             2           31           4\n",
       "3             3           12           2\n",
       "4             4           25           2\n",
       "...         ...          ...         ...\n",
       "2495        199            5           4\n",
       "2496        109           34           3\n",
       "2497        135            2           1\n",
       "2498         51            2           2\n",
       "2499         23           10           1\n",
       "\n",
       "[2500 rows x 3 columns]"
      ]
     },
     "execution_count": 131,
     "metadata": {},
     "output_type": "execute_result"
    }
   ],
   "source": [
    "venda_produtos=p[3]\n",
    "venda_produtos"
   ]
  },
  {
   "cell_type": "markdown",
   "id": "77a9a467",
   "metadata": {},
   "source": [
    "##  Total de vendas por produto"
   ]
  },
  {
   "cell_type": "code",
   "execution_count": 132,
   "id": "fe3c1491",
   "metadata": {},
   "outputs": [
    {
     "data": {
      "text/html": [
       "<div>\n",
       "<style scoped>\n",
       "    .dataframe tbody tr th:only-of-type {\n",
       "        vertical-align: middle;\n",
       "    }\n",
       "\n",
       "    .dataframe tbody tr th {\n",
       "        vertical-align: top;\n",
       "    }\n",
       "\n",
       "    .dataframe thead th {\n",
       "        text-align: right;\n",
       "    }\n",
       "</style>\n",
       "<table border=\"1\" class=\"dataframe\">\n",
       "  <thead>\n",
       "    <tr style=\"text-align: right;\">\n",
       "      <th></th>\n",
       "      <th>id_vendas</th>\n",
       "      <th>id_produtos</th>\n",
       "      <th>quantidade</th>\n",
       "      <th>nome</th>\n",
       "      <th>secao</th>\n",
       "      <th>custo</th>\n",
       "      <th>preco</th>\n",
       "      <th>prateleira</th>\n",
       "      <th>estoque</th>\n",
       "      <th>unidade_de_medida_de_estoque</th>\n",
       "      <th>imagem</th>\n",
       "      <th>id_clientes</th>\n",
       "      <th>data</th>\n",
       "      <th>nome_cliente</th>\n",
       "      <th>nascimento</th>\n",
       "      <th>endereco</th>\n",
       "      <th>cpf</th>\n",
       "      <th>telefone</th>\n",
       "      <th>usuario</th>\n",
       "      <th>senha</th>\n",
       "    </tr>\n",
       "  </thead>\n",
       "  <tbody>\n",
       "    <tr>\n",
       "      <th>0</th>\n",
       "      <td>0</td>\n",
       "      <td>27</td>\n",
       "      <td>2</td>\n",
       "      <td>torta</td>\n",
       "      <td>Padaria</td>\n",
       "      <td>26.95</td>\n",
       "      <td>45.00</td>\n",
       "      <td>6C</td>\n",
       "      <td>7</td>\n",
       "      <td>kg</td>\n",
       "      <td>torta.jpg</td>\n",
       "      <td>62</td>\n",
       "      <td>2021-11-01</td>\n",
       "      <td>Helena Pinto</td>\n",
       "      <td>1987-09-14</td>\n",
       "      <td>Setor de Pinto, 3\\nAcaiaca\\n33455-839 Azevedo ...</td>\n",
       "      <td>047.619.832-13</td>\n",
       "      <td>(031) 1954-7058</td>\n",
       "      <td>pnascimento</td>\n",
       "      <td>ry&amp;0ELyYNy&amp;%</td>\n",
       "    </tr>\n",
       "    <tr>\n",
       "      <th>1</th>\n",
       "      <td>0</td>\n",
       "      <td>14</td>\n",
       "      <td>1</td>\n",
       "      <td>bisteca suína</td>\n",
       "      <td>Açougue</td>\n",
       "      <td>15.73</td>\n",
       "      <td>22.79</td>\n",
       "      <td>5A</td>\n",
       "      <td>5</td>\n",
       "      <td>kg</td>\n",
       "      <td>bisteca_suina.jpg</td>\n",
       "      <td>62</td>\n",
       "      <td>2021-11-01</td>\n",
       "      <td>Helena Pinto</td>\n",
       "      <td>1987-09-14</td>\n",
       "      <td>Setor de Pinto, 3\\nAcaiaca\\n33455-839 Azevedo ...</td>\n",
       "      <td>047.619.832-13</td>\n",
       "      <td>(031) 1954-7058</td>\n",
       "      <td>pnascimento</td>\n",
       "      <td>ry&amp;0ELyYNy&amp;%</td>\n",
       "    </tr>\n",
       "    <tr>\n",
       "      <th>2</th>\n",
       "      <td>0</td>\n",
       "      <td>13</td>\n",
       "      <td>4</td>\n",
       "      <td>maminha</td>\n",
       "      <td>Açougue</td>\n",
       "      <td>33.49</td>\n",
       "      <td>42.99</td>\n",
       "      <td>4B</td>\n",
       "      <td>9</td>\n",
       "      <td>kg</td>\n",
       "      <td>maminha.jpg</td>\n",
       "      <td>62</td>\n",
       "      <td>2021-11-01</td>\n",
       "      <td>Helena Pinto</td>\n",
       "      <td>1987-09-14</td>\n",
       "      <td>Setor de Pinto, 3\\nAcaiaca\\n33455-839 Azevedo ...</td>\n",
       "      <td>047.619.832-13</td>\n",
       "      <td>(031) 1954-7058</td>\n",
       "      <td>pnascimento</td>\n",
       "      <td>ry&amp;0ELyYNy&amp;%</td>\n",
       "    </tr>\n",
       "    <tr>\n",
       "      <th>3</th>\n",
       "      <td>0</td>\n",
       "      <td>15</td>\n",
       "      <td>1</td>\n",
       "      <td>carré de cordeiro</td>\n",
       "      <td>Açougue</td>\n",
       "      <td>147.99</td>\n",
       "      <td>172.00</td>\n",
       "      <td>5B</td>\n",
       "      <td>5</td>\n",
       "      <td>kg</td>\n",
       "      <td>carre_de_cordeiro.jpg</td>\n",
       "      <td>62</td>\n",
       "      <td>2021-11-01</td>\n",
       "      <td>Helena Pinto</td>\n",
       "      <td>1987-09-14</td>\n",
       "      <td>Setor de Pinto, 3\\nAcaiaca\\n33455-839 Azevedo ...</td>\n",
       "      <td>047.619.832-13</td>\n",
       "      <td>(031) 1954-7058</td>\n",
       "      <td>pnascimento</td>\n",
       "      <td>ry&amp;0ELyYNy&amp;%</td>\n",
       "    </tr>\n",
       "    <tr>\n",
       "      <th>4</th>\n",
       "      <td>0</td>\n",
       "      <td>11</td>\n",
       "      <td>1</td>\n",
       "      <td>macarrão</td>\n",
       "      <td>Alimentos em Geral</td>\n",
       "      <td>1.69</td>\n",
       "      <td>2.48</td>\n",
       "      <td>3C</td>\n",
       "      <td>38</td>\n",
       "      <td>pacote</td>\n",
       "      <td>macarrao.jpg</td>\n",
       "      <td>62</td>\n",
       "      <td>2021-11-01</td>\n",
       "      <td>Helena Pinto</td>\n",
       "      <td>1987-09-14</td>\n",
       "      <td>Setor de Pinto, 3\\nAcaiaca\\n33455-839 Azevedo ...</td>\n",
       "      <td>047.619.832-13</td>\n",
       "      <td>(031) 1954-7058</td>\n",
       "      <td>pnascimento</td>\n",
       "      <td>ry&amp;0ELyYNy&amp;%</td>\n",
       "    </tr>\n",
       "    <tr>\n",
       "      <th>...</th>\n",
       "      <td>...</td>\n",
       "      <td>...</td>\n",
       "      <td>...</td>\n",
       "      <td>...</td>\n",
       "      <td>...</td>\n",
       "      <td>...</td>\n",
       "      <td>...</td>\n",
       "      <td>...</td>\n",
       "      <td>...</td>\n",
       "      <td>...</td>\n",
       "      <td>...</td>\n",
       "      <td>...</td>\n",
       "      <td>...</td>\n",
       "      <td>...</td>\n",
       "      <td>...</td>\n",
       "      <td>...</td>\n",
       "      <td>...</td>\n",
       "      <td>...</td>\n",
       "      <td>...</td>\n",
       "      <td>...</td>\n",
       "    </tr>\n",
       "    <tr>\n",
       "      <th>2495</th>\n",
       "      <td>399</td>\n",
       "      <td>22</td>\n",
       "      <td>1</td>\n",
       "      <td>pão de queijo</td>\n",
       "      <td>Padaria</td>\n",
       "      <td>17.04</td>\n",
       "      <td>23.99</td>\n",
       "      <td>7B</td>\n",
       "      <td>1</td>\n",
       "      <td>kg</td>\n",
       "      <td>pao_de_queijo.jpg</td>\n",
       "      <td>14</td>\n",
       "      <td>2021-11-26</td>\n",
       "      <td>Henrique Monteiro</td>\n",
       "      <td>1965-07-04</td>\n",
       "      <td>Esplanada Cardoso, 34\\nAtila De Paiva\\n2321457...</td>\n",
       "      <td>957.261.348-00</td>\n",
       "      <td>+55 (071) 3509 0589</td>\n",
       "      <td>melopedro</td>\n",
       "      <td>+@^X!igwr26U</td>\n",
       "    </tr>\n",
       "    <tr>\n",
       "      <th>2496</th>\n",
       "      <td>427</td>\n",
       "      <td>22</td>\n",
       "      <td>2</td>\n",
       "      <td>pão de queijo</td>\n",
       "      <td>Padaria</td>\n",
       "      <td>17.04</td>\n",
       "      <td>23.99</td>\n",
       "      <td>7B</td>\n",
       "      <td>1</td>\n",
       "      <td>kg</td>\n",
       "      <td>pao_de_queijo.jpg</td>\n",
       "      <td>4</td>\n",
       "      <td>2021-11-27</td>\n",
       "      <td>Renan Moreira</td>\n",
       "      <td>1970-08-26</td>\n",
       "      <td>Rodovia Lopes, 338\\nVentosa\\n62330-929 Barbosa...</td>\n",
       "      <td>783.142.650-71</td>\n",
       "      <td>61 9277 2367</td>\n",
       "      <td>maria-luiza70</td>\n",
       "      <td>G(^9IAzCdA%^</td>\n",
       "    </tr>\n",
       "    <tr>\n",
       "      <th>2497</th>\n",
       "      <td>433</td>\n",
       "      <td>8</td>\n",
       "      <td>2</td>\n",
       "      <td>couve-flor</td>\n",
       "      <td>Alimentos em Geral</td>\n",
       "      <td>3.19</td>\n",
       "      <td>5.48</td>\n",
       "      <td>2E</td>\n",
       "      <td>20</td>\n",
       "      <td>pé</td>\n",
       "      <td>couve-flor.png</td>\n",
       "      <td>34</td>\n",
       "      <td>2021-11-28</td>\n",
       "      <td>Letícia Cavalcanti</td>\n",
       "      <td>2001-11-23</td>\n",
       "      <td>Passarela Alice Silva, 74\\nAntonio Ribeiro De ...</td>\n",
       "      <td>804.519.276-30</td>\n",
       "      <td>+55 (061) 7696 3137</td>\n",
       "      <td>laismonteiro</td>\n",
       "      <td>1MUv3jJyy3%V</td>\n",
       "    </tr>\n",
       "    <tr>\n",
       "      <th>2498</th>\n",
       "      <td>328</td>\n",
       "      <td>24</td>\n",
       "      <td>4</td>\n",
       "      <td>pastel</td>\n",
       "      <td>Padaria</td>\n",
       "      <td>3.19</td>\n",
       "      <td>4.99</td>\n",
       "      <td>7D</td>\n",
       "      <td>9</td>\n",
       "      <td>unidade</td>\n",
       "      <td>pastel.jpg</td>\n",
       "      <td>21</td>\n",
       "      <td>2021-11-22</td>\n",
       "      <td>Augusto das Neves</td>\n",
       "      <td>1951-10-28</td>\n",
       "      <td>Conjunto Costela, 6\\nVila Antena\\n54283-880 Ri...</td>\n",
       "      <td>035.896.742-29</td>\n",
       "      <td>(081) 7525 3387</td>\n",
       "      <td>hda-cruz</td>\n",
       "      <td>q#4EHttdRu7j</td>\n",
       "    </tr>\n",
       "    <tr>\n",
       "      <th>2499</th>\n",
       "      <td>392</td>\n",
       "      <td>24</td>\n",
       "      <td>3</td>\n",
       "      <td>pastel</td>\n",
       "      <td>Padaria</td>\n",
       "      <td>3.19</td>\n",
       "      <td>4.99</td>\n",
       "      <td>7D</td>\n",
       "      <td>9</td>\n",
       "      <td>unidade</td>\n",
       "      <td>pastel.jpg</td>\n",
       "      <td>142</td>\n",
       "      <td>2021-11-26</td>\n",
       "      <td>Isadora da Cruz</td>\n",
       "      <td>1992-01-22</td>\n",
       "      <td>Favela Lopes\\nUnidas\\n00510-884 Correia de Alm...</td>\n",
       "      <td>204.786.951-01</td>\n",
       "      <td>0500 178 5434</td>\n",
       "      <td>stephany96</td>\n",
       "      <td>V(86oOI!qAmY</td>\n",
       "    </tr>\n",
       "  </tbody>\n",
       "</table>\n",
       "<p>2500 rows × 20 columns</p>\n",
       "</div>"
      ],
      "text/plain": [
       "      id_vendas  id_produtos  quantidade               nome  \\\n",
       "0             0           27           2              torta   \n",
       "1             0           14           1      bisteca suína   \n",
       "2             0           13           4            maminha   \n",
       "3             0           15           1  carré de cordeiro   \n",
       "4             0           11           1           macarrão   \n",
       "...         ...          ...         ...                ...   \n",
       "2495        399           22           1      pão de queijo   \n",
       "2496        427           22           2      pão de queijo   \n",
       "2497        433            8           2         couve-flor   \n",
       "2498        328           24           4             pastel   \n",
       "2499        392           24           3             pastel   \n",
       "\n",
       "                   secao   custo   preco prateleira  estoque  \\\n",
       "0                Padaria   26.95   45.00         6C        7   \n",
       "1                Açougue   15.73   22.79         5A        5   \n",
       "2                Açougue   33.49   42.99         4B        9   \n",
       "3                Açougue  147.99  172.00         5B        5   \n",
       "4     Alimentos em Geral    1.69    2.48         3C       38   \n",
       "...                  ...     ...     ...        ...      ...   \n",
       "2495             Padaria   17.04   23.99         7B        1   \n",
       "2496             Padaria   17.04   23.99         7B        1   \n",
       "2497  Alimentos em Geral    3.19    5.48         2E       20   \n",
       "2498             Padaria    3.19    4.99         7D        9   \n",
       "2499             Padaria    3.19    4.99         7D        9   \n",
       "\n",
       "     unidade_de_medida_de_estoque                 imagem  id_clientes  \\\n",
       "0                              kg              torta.jpg           62   \n",
       "1                              kg      bisteca_suina.jpg           62   \n",
       "2                              kg            maminha.jpg           62   \n",
       "3                              kg  carre_de_cordeiro.jpg           62   \n",
       "4                          pacote           macarrao.jpg           62   \n",
       "...                           ...                    ...          ...   \n",
       "2495                           kg      pao_de_queijo.jpg           14   \n",
       "2496                           kg      pao_de_queijo.jpg            4   \n",
       "2497                           pé         couve-flor.png           34   \n",
       "2498                      unidade             pastel.jpg           21   \n",
       "2499                      unidade             pastel.jpg          142   \n",
       "\n",
       "            data        nome_cliente  nascimento  \\\n",
       "0     2021-11-01        Helena Pinto  1987-09-14   \n",
       "1     2021-11-01        Helena Pinto  1987-09-14   \n",
       "2     2021-11-01        Helena Pinto  1987-09-14   \n",
       "3     2021-11-01        Helena Pinto  1987-09-14   \n",
       "4     2021-11-01        Helena Pinto  1987-09-14   \n",
       "...          ...                 ...         ...   \n",
       "2495  2021-11-26   Henrique Monteiro  1965-07-04   \n",
       "2496  2021-11-27       Renan Moreira  1970-08-26   \n",
       "2497  2021-11-28  Letícia Cavalcanti  2001-11-23   \n",
       "2498  2021-11-22   Augusto das Neves  1951-10-28   \n",
       "2499  2021-11-26     Isadora da Cruz  1992-01-22   \n",
       "\n",
       "                                               endereco             cpf  \\\n",
       "0     Setor de Pinto, 3\\nAcaiaca\\n33455-839 Azevedo ...  047.619.832-13   \n",
       "1     Setor de Pinto, 3\\nAcaiaca\\n33455-839 Azevedo ...  047.619.832-13   \n",
       "2     Setor de Pinto, 3\\nAcaiaca\\n33455-839 Azevedo ...  047.619.832-13   \n",
       "3     Setor de Pinto, 3\\nAcaiaca\\n33455-839 Azevedo ...  047.619.832-13   \n",
       "4     Setor de Pinto, 3\\nAcaiaca\\n33455-839 Azevedo ...  047.619.832-13   \n",
       "...                                                 ...             ...   \n",
       "2495  Esplanada Cardoso, 34\\nAtila De Paiva\\n2321457...  957.261.348-00   \n",
       "2496  Rodovia Lopes, 338\\nVentosa\\n62330-929 Barbosa...  783.142.650-71   \n",
       "2497  Passarela Alice Silva, 74\\nAntonio Ribeiro De ...  804.519.276-30   \n",
       "2498  Conjunto Costela, 6\\nVila Antena\\n54283-880 Ri...  035.896.742-29   \n",
       "2499  Favela Lopes\\nUnidas\\n00510-884 Correia de Alm...  204.786.951-01   \n",
       "\n",
       "                 telefone        usuario         senha  \n",
       "0         (031) 1954-7058    pnascimento  ry&0ELyYNy&%  \n",
       "1         (031) 1954-7058    pnascimento  ry&0ELyYNy&%  \n",
       "2         (031) 1954-7058    pnascimento  ry&0ELyYNy&%  \n",
       "3         (031) 1954-7058    pnascimento  ry&0ELyYNy&%  \n",
       "4         (031) 1954-7058    pnascimento  ry&0ELyYNy&%  \n",
       "...                   ...            ...           ...  \n",
       "2495  +55 (071) 3509 0589      melopedro  +@^X!igwr26U  \n",
       "2496         61 9277 2367  maria-luiza70  G(^9IAzCdA%^  \n",
       "2497  +55 (061) 7696 3137   laismonteiro  1MUv3jJyy3%V  \n",
       "2498      (081) 7525 3387       hda-cruz  q#4EHttdRu7j  \n",
       "2499        0500 178 5434     stephany96  V(86oOI!qAmY  \n",
       "\n",
       "[2500 rows x 20 columns]"
      ]
     },
     "execution_count": 132,
     "metadata": {},
     "output_type": "execute_result"
    }
   ],
   "source": [
    "#realizando a união das tabelas produtos e venda_produtos em id_produtos\n",
    "venda_produtos_2 = pd.merge(venda_produtos, produtos, on = 'id_produtos', how='inner')\n",
    "#realizando a união das tabelas vendas e venda_produtos em id_vendas\n",
    "venda_produtos_3 = pd.merge(venda_produtos_2, vendas, on = 'id_vendas', how='inner')\n",
    "#realizando a união das tabelas clientes e venda_produtos em id_cliente\n",
    "venda_produtos_cliente = pd.merge(venda_produtos_3, clientes, on = 'id_clientes', how='inner')\n",
    "\n",
    "venda_produtos_cliente"
   ]
  },
  {
   "cell_type": "code",
   "execution_count": 133,
   "id": "0a5b51b9",
   "metadata": {},
   "outputs": [],
   "source": [
    "#agrupando a tabelas cendas_produto por nome (groupby), somando os valores (sum), organizando os valores em ordem decrescente por quantidade vendida (sort_values) e redefinindo o index (reset_index)\n",
    "venda_produtos_total=venda_produtos_cliente.groupby(\"nome\").sum().sort_values('quantidade', ascending=False).reset_index()\n",
    "#selecionando apenas as colunas que serão analisadas\n",
    "venda_produtos_total_=venda_produtos_total[[\"nome\", \"quantidade\"]]\n",
    "#Ajustado uma tabela para adicionar seções\n",
    "produtos_nome_secao=produtos[[\"nome\", \"secao\"]].drop_duplicates()\n",
    "#unindo tabelas venda_produtos_total e produtos_nome_secao\n",
    "venda_produtos_quantidade_total=pd.merge(produtos_nome_secao, venda_produtos_total, on = 'nome', how='right')"
   ]
  },
  {
   "cell_type": "code",
   "execution_count": 134,
   "id": "0a3fe48a",
   "metadata": {},
   "outputs": [
    {
     "data": {
      "text/html": [
       "<div>\n",
       "<style scoped>\n",
       "    .dataframe tbody tr th:only-of-type {\n",
       "        vertical-align: middle;\n",
       "    }\n",
       "\n",
       "    .dataframe tbody tr th {\n",
       "        vertical-align: top;\n",
       "    }\n",
       "\n",
       "    .dataframe thead th {\n",
       "        text-align: right;\n",
       "    }\n",
       "</style>\n",
       "<table border=\"1\" class=\"dataframe\">\n",
       "  <thead>\n",
       "    <tr style=\"text-align: right;\">\n",
       "      <th></th>\n",
       "      <th>nome</th>\n",
       "      <th>id_vendas</th>\n",
       "      <th>id_produtos</th>\n",
       "      <th>quantidade</th>\n",
       "      <th>custo</th>\n",
       "      <th>preco</th>\n",
       "      <th>estoque</th>\n",
       "      <th>id_clientes</th>\n",
       "    </tr>\n",
       "  </thead>\n",
       "  <tbody>\n",
       "    <tr>\n",
       "      <th>0</th>\n",
       "      <td>torta</td>\n",
       "      <td>13442</td>\n",
       "      <td>2430</td>\n",
       "      <td>228</td>\n",
       "      <td>2425.50</td>\n",
       "      <td>4050.00</td>\n",
       "      <td>630</td>\n",
       "      <td>9775</td>\n",
       "    </tr>\n",
       "    <tr>\n",
       "      <th>1</th>\n",
       "      <td>alcatra</td>\n",
       "      <td>8727</td>\n",
       "      <td>864</td>\n",
       "      <td>204</td>\n",
       "      <td>1669.68</td>\n",
       "      <td>2303.28</td>\n",
       "      <td>504</td>\n",
       "      <td>6911</td>\n",
       "    </tr>\n",
       "    <tr>\n",
       "      <th>2</th>\n",
       "      <td>abobrinha</td>\n",
       "      <td>11169</td>\n",
       "      <td>498</td>\n",
       "      <td>201</td>\n",
       "      <td>223.27</td>\n",
       "      <td>289.67</td>\n",
       "      <td>1577</td>\n",
       "      <td>7574</td>\n",
       "    </tr>\n",
       "    <tr>\n",
       "      <th>3</th>\n",
       "      <td>sabão em pó</td>\n",
       "      <td>9453</td>\n",
       "      <td>2686</td>\n",
       "      <td>198</td>\n",
       "      <td>485.85</td>\n",
       "      <td>765.51</td>\n",
       "      <td>1027</td>\n",
       "      <td>8891</td>\n",
       "    </tr>\n",
       "    <tr>\n",
       "      <th>4</th>\n",
       "      <td>pão francês</td>\n",
       "      <td>11281</td>\n",
       "      <td>1771</td>\n",
       "      <td>193</td>\n",
       "      <td>338.03</td>\n",
       "      <td>846.23</td>\n",
       "      <td>231</td>\n",
       "      <td>7375</td>\n",
       "    </tr>\n",
       "    <tr>\n",
       "      <th>5</th>\n",
       "      <td>odorizador</td>\n",
       "      <td>8756</td>\n",
       "      <td>2272</td>\n",
       "      <td>189</td>\n",
       "      <td>1020.98</td>\n",
       "      <td>1703.29</td>\n",
       "      <td>426</td>\n",
       "      <td>6375</td>\n",
       "    </tr>\n",
       "    <tr>\n",
       "      <th>6</th>\n",
       "      <td>peito de frango</td>\n",
       "      <td>8754</td>\n",
       "      <td>1406</td>\n",
       "      <td>186</td>\n",
       "      <td>828.06</td>\n",
       "      <td>1220.26</td>\n",
       "      <td>740</td>\n",
       "      <td>7550</td>\n",
       "    </tr>\n",
       "    <tr>\n",
       "      <th>7</th>\n",
       "      <td>maminha</td>\n",
       "      <td>8236</td>\n",
       "      <td>910</td>\n",
       "      <td>184</td>\n",
       "      <td>2344.30</td>\n",
       "      <td>3009.30</td>\n",
       "      <td>630</td>\n",
       "      <td>7958</td>\n",
       "    </tr>\n",
       "    <tr>\n",
       "      <th>8</th>\n",
       "      <td>costela</td>\n",
       "      <td>9973</td>\n",
       "      <td>1232</td>\n",
       "      <td>183</td>\n",
       "      <td>1262.03</td>\n",
       "      <td>1616.23</td>\n",
       "      <td>770</td>\n",
       "      <td>7636</td>\n",
       "    </tr>\n",
       "    <tr>\n",
       "      <th>9</th>\n",
       "      <td>pão de forma</td>\n",
       "      <td>10667</td>\n",
       "      <td>1701</td>\n",
       "      <td>181</td>\n",
       "      <td>302.13</td>\n",
       "      <td>566.19</td>\n",
       "      <td>1215</td>\n",
       "      <td>8793</td>\n",
       "    </tr>\n",
       "    <tr>\n",
       "      <th>10</th>\n",
       "      <td>uva</td>\n",
       "      <td>8473</td>\n",
       "      <td>201</td>\n",
       "      <td>178</td>\n",
       "      <td>280.73</td>\n",
       "      <td>500.49</td>\n",
       "      <td>2412</td>\n",
       "      <td>7286</td>\n",
       "    </tr>\n",
       "    <tr>\n",
       "      <th>11</th>\n",
       "      <td>pastel</td>\n",
       "      <td>9376</td>\n",
       "      <td>1560</td>\n",
       "      <td>178</td>\n",
       "      <td>207.35</td>\n",
       "      <td>324.35</td>\n",
       "      <td>585</td>\n",
       "      <td>7238</td>\n",
       "    </tr>\n",
       "    <tr>\n",
       "      <th>12</th>\n",
       "      <td>pão de queijo</td>\n",
       "      <td>9634</td>\n",
       "      <td>1562</td>\n",
       "      <td>177</td>\n",
       "      <td>1209.84</td>\n",
       "      <td>1703.29</td>\n",
       "      <td>71</td>\n",
       "      <td>6241</td>\n",
       "    </tr>\n",
       "    <tr>\n",
       "      <th>13</th>\n",
       "      <td>sonho</td>\n",
       "      <td>9605</td>\n",
       "      <td>1820</td>\n",
       "      <td>176</td>\n",
       "      <td>125.30</td>\n",
       "      <td>244.30</td>\n",
       "      <td>1400</td>\n",
       "      <td>7308</td>\n",
       "    </tr>\n",
       "    <tr>\n",
       "      <th>14</th>\n",
       "      <td>sanduíche</td>\n",
       "      <td>8925</td>\n",
       "      <td>1750</td>\n",
       "      <td>176</td>\n",
       "      <td>559.30</td>\n",
       "      <td>909.30</td>\n",
       "      <td>1050</td>\n",
       "      <td>8303</td>\n",
       "    </tr>\n",
       "    <tr>\n",
       "      <th>15</th>\n",
       "      <td>melancia</td>\n",
       "      <td>8772</td>\n",
       "      <td>66</td>\n",
       "      <td>175</td>\n",
       "      <td>778.14</td>\n",
       "      <td>1055.34</td>\n",
       "      <td>1320</td>\n",
       "      <td>6832</td>\n",
       "    </tr>\n",
       "    <tr>\n",
       "      <th>16</th>\n",
       "      <td>berinjela</td>\n",
       "      <td>10040</td>\n",
       "      <td>385</td>\n",
       "      <td>175</td>\n",
       "      <td>661.43</td>\n",
       "      <td>923.23</td>\n",
       "      <td>924</td>\n",
       "      <td>8812</td>\n",
       "    </tr>\n",
       "    <tr>\n",
       "      <th>17</th>\n",
       "      <td>detergente</td>\n",
       "      <td>9669</td>\n",
       "      <td>2070</td>\n",
       "      <td>171</td>\n",
       "      <td>89.70</td>\n",
       "      <td>186.30</td>\n",
       "      <td>2760</td>\n",
       "      <td>7112</td>\n",
       "    </tr>\n",
       "    <tr>\n",
       "      <th>18</th>\n",
       "      <td>bisteca suína</td>\n",
       "      <td>8623</td>\n",
       "      <td>924</td>\n",
       "      <td>170</td>\n",
       "      <td>1038.18</td>\n",
       "      <td>1504.14</td>\n",
       "      <td>330</td>\n",
       "      <td>6678</td>\n",
       "    </tr>\n",
       "    <tr>\n",
       "      <th>19</th>\n",
       "      <td>carré de cordeiro</td>\n",
       "      <td>7204</td>\n",
       "      <td>990</td>\n",
       "      <td>167</td>\n",
       "      <td>9767.34</td>\n",
       "      <td>11352.00</td>\n",
       "      <td>330</td>\n",
       "      <td>6656</td>\n",
       "    </tr>\n",
       "    <tr>\n",
       "      <th>20</th>\n",
       "      <td>macarrão</td>\n",
       "      <td>8758</td>\n",
       "      <td>748</td>\n",
       "      <td>166</td>\n",
       "      <td>114.92</td>\n",
       "      <td>168.64</td>\n",
       "      <td>2584</td>\n",
       "      <td>7489</td>\n",
       "    </tr>\n",
       "    <tr>\n",
       "      <th>21</th>\n",
       "      <td>couve-flor</td>\n",
       "      <td>9956</td>\n",
       "      <td>552</td>\n",
       "      <td>165</td>\n",
       "      <td>220.11</td>\n",
       "      <td>378.12</td>\n",
       "      <td>1380</td>\n",
       "      <td>8012</td>\n",
       "    </tr>\n",
       "    <tr>\n",
       "      <th>22</th>\n",
       "      <td>flanela</td>\n",
       "      <td>7015</td>\n",
       "      <td>2015</td>\n",
       "      <td>163</td>\n",
       "      <td>38.35</td>\n",
       "      <td>129.35</td>\n",
       "      <td>2080</td>\n",
       "      <td>6591</td>\n",
       "    </tr>\n",
       "    <tr>\n",
       "      <th>23</th>\n",
       "      <td>morango</td>\n",
       "      <td>8775</td>\n",
       "      <td>0</td>\n",
       "      <td>161</td>\n",
       "      <td>296.70</td>\n",
       "      <td>551.31</td>\n",
       "      <td>3450</td>\n",
       "      <td>6943</td>\n",
       "    </tr>\n",
       "    <tr>\n",
       "      <th>24</th>\n",
       "      <td>banana</td>\n",
       "      <td>8560</td>\n",
       "      <td>138</td>\n",
       "      <td>161</td>\n",
       "      <td>138.00</td>\n",
       "      <td>413.31</td>\n",
       "      <td>2760</td>\n",
       "      <td>7238</td>\n",
       "    </tr>\n",
       "    <tr>\n",
       "      <th>25</th>\n",
       "      <td>rodo</td>\n",
       "      <td>8728</td>\n",
       "      <td>2376</td>\n",
       "      <td>160</td>\n",
       "      <td>197.28</td>\n",
       "      <td>431.28</td>\n",
       "      <td>720</td>\n",
       "      <td>6985</td>\n",
       "    </tr>\n",
       "    <tr>\n",
       "      <th>26</th>\n",
       "      <td>batata</td>\n",
       "      <td>6813</td>\n",
       "      <td>236</td>\n",
       "      <td>157</td>\n",
       "      <td>141.01</td>\n",
       "      <td>235.41</td>\n",
       "      <td>2773</td>\n",
       "      <td>7715</td>\n",
       "    </tr>\n",
       "    <tr>\n",
       "      <th>27</th>\n",
       "      <td>água sanitária</td>\n",
       "      <td>8400</td>\n",
       "      <td>1856</td>\n",
       "      <td>157</td>\n",
       "      <td>509.44</td>\n",
       "      <td>766.72</td>\n",
       "      <td>512</td>\n",
       "      <td>6564</td>\n",
       "    </tr>\n",
       "    <tr>\n",
       "      <th>28</th>\n",
       "      <td>sabonete</td>\n",
       "      <td>8551</td>\n",
       "      <td>2240</td>\n",
       "      <td>156</td>\n",
       "      <td>41.60</td>\n",
       "      <td>82.56</td>\n",
       "      <td>3712</td>\n",
       "      <td>6731</td>\n",
       "    </tr>\n",
       "    <tr>\n",
       "      <th>29</th>\n",
       "      <td>amaciante</td>\n",
       "      <td>7630</td>\n",
       "      <td>1764</td>\n",
       "      <td>155</td>\n",
       "      <td>326.97</td>\n",
       "      <td>422.10</td>\n",
       "      <td>756</td>\n",
       "      <td>7149</td>\n",
       "    </tr>\n",
       "    <tr>\n",
       "      <th>30</th>\n",
       "      <td>arroz</td>\n",
       "      <td>7852</td>\n",
       "      <td>660</td>\n",
       "      <td>154</td>\n",
       "      <td>155.10</td>\n",
       "      <td>284.46</td>\n",
       "      <td>5280</td>\n",
       "      <td>6461</td>\n",
       "    </tr>\n",
       "    <tr>\n",
       "      <th>31</th>\n",
       "      <td>alface</td>\n",
       "      <td>6840</td>\n",
       "      <td>413</td>\n",
       "      <td>153</td>\n",
       "      <td>26.55</td>\n",
       "      <td>57.82</td>\n",
       "      <td>1475</td>\n",
       "      <td>5267</td>\n",
       "    </tr>\n",
       "    <tr>\n",
       "      <th>32</th>\n",
       "      <td>paleta suína</td>\n",
       "      <td>8146</td>\n",
       "      <td>1071</td>\n",
       "      <td>151</td>\n",
       "      <td>1076.67</td>\n",
       "      <td>1511.37</td>\n",
       "      <td>567</td>\n",
       "      <td>6349</td>\n",
       "    </tr>\n",
       "    <tr>\n",
       "      <th>33</th>\n",
       "      <td>bolo</td>\n",
       "      <td>9938</td>\n",
       "      <td>1320</td>\n",
       "      <td>149</td>\n",
       "      <td>1180.74</td>\n",
       "      <td>2310.00</td>\n",
       "      <td>462</td>\n",
       "      <td>6944</td>\n",
       "    </tr>\n",
       "    <tr>\n",
       "      <th>34</th>\n",
       "      <td>picanha</td>\n",
       "      <td>7709</td>\n",
       "      <td>1116</td>\n",
       "      <td>145</td>\n",
       "      <td>2687.70</td>\n",
       "      <td>4395.18</td>\n",
       "      <td>372</td>\n",
       "      <td>6058</td>\n",
       "    </tr>\n",
       "    <tr>\n",
       "      <th>35</th>\n",
       "      <td>feijão</td>\n",
       "      <td>8553</td>\n",
       "      <td>549</td>\n",
       "      <td>144</td>\n",
       "      <td>395.89</td>\n",
       "      <td>515.45</td>\n",
       "      <td>2623</td>\n",
       "      <td>6488</td>\n",
       "    </tr>\n",
       "  </tbody>\n",
       "</table>\n",
       "</div>"
      ],
      "text/plain": [
       "                 nome  id_vendas  id_produtos  quantidade    custo     preco  \\\n",
       "0               torta      13442         2430         228  2425.50   4050.00   \n",
       "1             alcatra       8727          864         204  1669.68   2303.28   \n",
       "2           abobrinha      11169          498         201   223.27    289.67   \n",
       "3         sabão em pó       9453         2686         198   485.85    765.51   \n",
       "4         pão francês      11281         1771         193   338.03    846.23   \n",
       "5          odorizador       8756         2272         189  1020.98   1703.29   \n",
       "6     peito de frango       8754         1406         186   828.06   1220.26   \n",
       "7             maminha       8236          910         184  2344.30   3009.30   \n",
       "8             costela       9973         1232         183  1262.03   1616.23   \n",
       "9        pão de forma      10667         1701         181   302.13    566.19   \n",
       "10                uva       8473          201         178   280.73    500.49   \n",
       "11             pastel       9376         1560         178   207.35    324.35   \n",
       "12      pão de queijo       9634         1562         177  1209.84   1703.29   \n",
       "13              sonho       9605         1820         176   125.30    244.30   \n",
       "14          sanduíche       8925         1750         176   559.30    909.30   \n",
       "15           melancia       8772           66         175   778.14   1055.34   \n",
       "16          berinjela      10040          385         175   661.43    923.23   \n",
       "17         detergente       9669         2070         171    89.70    186.30   \n",
       "18      bisteca suína       8623          924         170  1038.18   1504.14   \n",
       "19  carré de cordeiro       7204          990         167  9767.34  11352.00   \n",
       "20           macarrão       8758          748         166   114.92    168.64   \n",
       "21         couve-flor       9956          552         165   220.11    378.12   \n",
       "22            flanela       7015         2015         163    38.35    129.35   \n",
       "23            morango       8775            0         161   296.70    551.31   \n",
       "24             banana       8560          138         161   138.00    413.31   \n",
       "25               rodo       8728         2376         160   197.28    431.28   \n",
       "26             batata       6813          236         157   141.01    235.41   \n",
       "27     água sanitária       8400         1856         157   509.44    766.72   \n",
       "28           sabonete       8551         2240         156    41.60     82.56   \n",
       "29          amaciante       7630         1764         155   326.97    422.10   \n",
       "30              arroz       7852          660         154   155.10    284.46   \n",
       "31             alface       6840          413         153    26.55     57.82   \n",
       "32       paleta suína       8146         1071         151  1076.67   1511.37   \n",
       "33               bolo       9938         1320         149  1180.74   2310.00   \n",
       "34            picanha       7709         1116         145  2687.70   4395.18   \n",
       "35             feijão       8553          549         144   395.89    515.45   \n",
       "\n",
       "    estoque  id_clientes  \n",
       "0       630         9775  \n",
       "1       504         6911  \n",
       "2      1577         7574  \n",
       "3      1027         8891  \n",
       "4       231         7375  \n",
       "5       426         6375  \n",
       "6       740         7550  \n",
       "7       630         7958  \n",
       "8       770         7636  \n",
       "9      1215         8793  \n",
       "10     2412         7286  \n",
       "11      585         7238  \n",
       "12       71         6241  \n",
       "13     1400         7308  \n",
       "14     1050         8303  \n",
       "15     1320         6832  \n",
       "16      924         8812  \n",
       "17     2760         7112  \n",
       "18      330         6678  \n",
       "19      330         6656  \n",
       "20     2584         7489  \n",
       "21     1380         8012  \n",
       "22     2080         6591  \n",
       "23     3450         6943  \n",
       "24     2760         7238  \n",
       "25      720         6985  \n",
       "26     2773         7715  \n",
       "27      512         6564  \n",
       "28     3712         6731  \n",
       "29      756         7149  \n",
       "30     5280         6461  \n",
       "31     1475         5267  \n",
       "32      567         6349  \n",
       "33      462         6944  \n",
       "34      372         6058  \n",
       "35     2623         6488  "
      ]
     },
     "execution_count": 134,
     "metadata": {},
     "output_type": "execute_result"
    }
   ],
   "source": [
    "venda_produtos_total"
   ]
  },
  {
   "cell_type": "code",
   "execution_count": 125,
   "id": "bdd6d27c",
   "metadata": {},
   "outputs": [
    {
     "data": {
      "application/vnd.plotly.v1+json": {
       "config": {
        "plotlyServerURL": "https://plot.ly"
       },
       "data": [
        {
         "alignmentgroup": "True",
         "hovertemplate": "Seção=Produtos de Limpeza<br>Nome=%{x}<br>Quantidade vendida=%{y}<extra></extra>",
         "legendgroup": "Produtos de Limpeza",
         "marker": {
          "color": "#AB63FA",
          "pattern": {
           "shape": ""
          }
         },
         "name": "Produtos de Limpeza",
         "offsetgroup": "Produtos de Limpeza",
         "orientation": "v",
         "showlegend": true,
         "textposition": "auto",
         "type": "bar",
         "x": [
          "água sanitária",
          "amaciante",
          "sabão em pó",
          "odorizador",
          "flanela",
          "detergente",
          "sabonete",
          "rodo"
         ],
         "xaxis": "x",
         "y": [
          210,
          200,
          187,
          186,
          184,
          179,
          175,
          166
         ],
         "yaxis": "y"
        },
        {
         "alignmentgroup": "True",
         "hovertemplate": "Seção=Açougue<br>Nome=%{x}<br>Quantidade vendida=%{y}<extra></extra>",
         "legendgroup": "Açougue",
         "marker": {
          "color": "#EF553B",
          "pattern": {
           "shape": ""
          }
         },
         "name": "Açougue",
         "offsetgroup": "Açougue",
         "orientation": "v",
         "showlegend": true,
         "textposition": "auto",
         "type": "bar",
         "x": [
          "costela",
          "paleta suína",
          "carré de cordeiro",
          "maminha",
          "peito de frango",
          "bisteca suína",
          "picanha",
          "alcatra"
         ],
         "xaxis": "x",
         "y": [
          210,
          191,
          182,
          177,
          174,
          174,
          173,
          159
         ],
         "yaxis": "y"
        },
        {
         "alignmentgroup": "True",
         "hovertemplate": "Seção=Padaria<br>Nome=%{x}<br>Quantidade vendida=%{y}<extra></extra>",
         "legendgroup": "Padaria",
         "marker": {
          "color": "#00CC96",
          "pattern": {
           "shape": ""
          }
         },
         "name": "Padaria",
         "offsetgroup": "Padaria",
         "orientation": "v",
         "showlegend": true,
         "textposition": "auto",
         "type": "bar",
         "x": [
          "pão de queijo",
          "pão francês",
          "pão de forma",
          "pastel",
          "sanduíche",
          "bolo",
          "torta",
          "sonho"
         ],
         "xaxis": "x",
         "y": [
          205,
          184,
          184,
          176,
          169,
          158,
          142,
          141
         ],
         "yaxis": "y"
        },
        {
         "alignmentgroup": "True",
         "hovertemplate": "Seção=Alimentos em Geral<br>Nome=%{x}<br>Quantidade vendida=%{y}<extra></extra>",
         "legendgroup": "Alimentos em Geral",
         "marker": {
          "color": "#636EFA",
          "pattern": {
           "shape": ""
          }
         },
         "name": "Alimentos em Geral",
         "offsetgroup": "Alimentos em Geral",
         "orientation": "v",
         "showlegend": true,
         "textposition": "auto",
         "type": "bar",
         "x": [
          "abobrinha",
          "feijão",
          "melancia",
          "arroz",
          "banana",
          "batata",
          "couve-flor",
          "uva",
          "macarrão",
          "berinjela",
          "morango",
          "alface"
         ],
         "xaxis": "x",
         "y": [
          204,
          195,
          190,
          186,
          185,
          178,
          169,
          163,
          155,
          146,
          138,
          138
         ],
         "yaxis": "y"
        }
       ],
       "layout": {
        "barmode": "stack",
        "legend": {
         "title": {
          "text": "Seção"
         },
         "tracegroupgap": 0
        },
        "margin": {
         "t": 60
        },
        "template": {
         "data": {
          "bar": [
           {
            "error_x": {
             "color": "#2a3f5f"
            },
            "error_y": {
             "color": "#2a3f5f"
            },
            "marker": {
             "line": {
              "color": "#E5ECF6",
              "width": 0.5
             },
             "pattern": {
              "fillmode": "overlay",
              "size": 10,
              "solidity": 0.2
             }
            },
            "type": "bar"
           }
          ],
          "barpolar": [
           {
            "marker": {
             "line": {
              "color": "#E5ECF6",
              "width": 0.5
             },
             "pattern": {
              "fillmode": "overlay",
              "size": 10,
              "solidity": 0.2
             }
            },
            "type": "barpolar"
           }
          ],
          "carpet": [
           {
            "aaxis": {
             "endlinecolor": "#2a3f5f",
             "gridcolor": "white",
             "linecolor": "white",
             "minorgridcolor": "white",
             "startlinecolor": "#2a3f5f"
            },
            "baxis": {
             "endlinecolor": "#2a3f5f",
             "gridcolor": "white",
             "linecolor": "white",
             "minorgridcolor": "white",
             "startlinecolor": "#2a3f5f"
            },
            "type": "carpet"
           }
          ],
          "choropleth": [
           {
            "colorbar": {
             "outlinewidth": 0,
             "ticks": ""
            },
            "type": "choropleth"
           }
          ],
          "contour": [
           {
            "colorbar": {
             "outlinewidth": 0,
             "ticks": ""
            },
            "colorscale": [
             [
              0,
              "#0d0887"
             ],
             [
              0.1111111111111111,
              "#46039f"
             ],
             [
              0.2222222222222222,
              "#7201a8"
             ],
             [
              0.3333333333333333,
              "#9c179e"
             ],
             [
              0.4444444444444444,
              "#bd3786"
             ],
             [
              0.5555555555555556,
              "#d8576b"
             ],
             [
              0.6666666666666666,
              "#ed7953"
             ],
             [
              0.7777777777777778,
              "#fb9f3a"
             ],
             [
              0.8888888888888888,
              "#fdca26"
             ],
             [
              1,
              "#f0f921"
             ]
            ],
            "type": "contour"
           }
          ],
          "contourcarpet": [
           {
            "colorbar": {
             "outlinewidth": 0,
             "ticks": ""
            },
            "type": "contourcarpet"
           }
          ],
          "heatmap": [
           {
            "colorbar": {
             "outlinewidth": 0,
             "ticks": ""
            },
            "colorscale": [
             [
              0,
              "#0d0887"
             ],
             [
              0.1111111111111111,
              "#46039f"
             ],
             [
              0.2222222222222222,
              "#7201a8"
             ],
             [
              0.3333333333333333,
              "#9c179e"
             ],
             [
              0.4444444444444444,
              "#bd3786"
             ],
             [
              0.5555555555555556,
              "#d8576b"
             ],
             [
              0.6666666666666666,
              "#ed7953"
             ],
             [
              0.7777777777777778,
              "#fb9f3a"
             ],
             [
              0.8888888888888888,
              "#fdca26"
             ],
             [
              1,
              "#f0f921"
             ]
            ],
            "type": "heatmap"
           }
          ],
          "heatmapgl": [
           {
            "colorbar": {
             "outlinewidth": 0,
             "ticks": ""
            },
            "colorscale": [
             [
              0,
              "#0d0887"
             ],
             [
              0.1111111111111111,
              "#46039f"
             ],
             [
              0.2222222222222222,
              "#7201a8"
             ],
             [
              0.3333333333333333,
              "#9c179e"
             ],
             [
              0.4444444444444444,
              "#bd3786"
             ],
             [
              0.5555555555555556,
              "#d8576b"
             ],
             [
              0.6666666666666666,
              "#ed7953"
             ],
             [
              0.7777777777777778,
              "#fb9f3a"
             ],
             [
              0.8888888888888888,
              "#fdca26"
             ],
             [
              1,
              "#f0f921"
             ]
            ],
            "type": "heatmapgl"
           }
          ],
          "histogram": [
           {
            "marker": {
             "pattern": {
              "fillmode": "overlay",
              "size": 10,
              "solidity": 0.2
             }
            },
            "type": "histogram"
           }
          ],
          "histogram2d": [
           {
            "colorbar": {
             "outlinewidth": 0,
             "ticks": ""
            },
            "colorscale": [
             [
              0,
              "#0d0887"
             ],
             [
              0.1111111111111111,
              "#46039f"
             ],
             [
              0.2222222222222222,
              "#7201a8"
             ],
             [
              0.3333333333333333,
              "#9c179e"
             ],
             [
              0.4444444444444444,
              "#bd3786"
             ],
             [
              0.5555555555555556,
              "#d8576b"
             ],
             [
              0.6666666666666666,
              "#ed7953"
             ],
             [
              0.7777777777777778,
              "#fb9f3a"
             ],
             [
              0.8888888888888888,
              "#fdca26"
             ],
             [
              1,
              "#f0f921"
             ]
            ],
            "type": "histogram2d"
           }
          ],
          "histogram2dcontour": [
           {
            "colorbar": {
             "outlinewidth": 0,
             "ticks": ""
            },
            "colorscale": [
             [
              0,
              "#0d0887"
             ],
             [
              0.1111111111111111,
              "#46039f"
             ],
             [
              0.2222222222222222,
              "#7201a8"
             ],
             [
              0.3333333333333333,
              "#9c179e"
             ],
             [
              0.4444444444444444,
              "#bd3786"
             ],
             [
              0.5555555555555556,
              "#d8576b"
             ],
             [
              0.6666666666666666,
              "#ed7953"
             ],
             [
              0.7777777777777778,
              "#fb9f3a"
             ],
             [
              0.8888888888888888,
              "#fdca26"
             ],
             [
              1,
              "#f0f921"
             ]
            ],
            "type": "histogram2dcontour"
           }
          ],
          "mesh3d": [
           {
            "colorbar": {
             "outlinewidth": 0,
             "ticks": ""
            },
            "type": "mesh3d"
           }
          ],
          "parcoords": [
           {
            "line": {
             "colorbar": {
              "outlinewidth": 0,
              "ticks": ""
             }
            },
            "type": "parcoords"
           }
          ],
          "pie": [
           {
            "automargin": true,
            "type": "pie"
           }
          ],
          "scatter": [
           {
            "marker": {
             "colorbar": {
              "outlinewidth": 0,
              "ticks": ""
             }
            },
            "type": "scatter"
           }
          ],
          "scatter3d": [
           {
            "line": {
             "colorbar": {
              "outlinewidth": 0,
              "ticks": ""
             }
            },
            "marker": {
             "colorbar": {
              "outlinewidth": 0,
              "ticks": ""
             }
            },
            "type": "scatter3d"
           }
          ],
          "scattercarpet": [
           {
            "marker": {
             "colorbar": {
              "outlinewidth": 0,
              "ticks": ""
             }
            },
            "type": "scattercarpet"
           }
          ],
          "scattergeo": [
           {
            "marker": {
             "colorbar": {
              "outlinewidth": 0,
              "ticks": ""
             }
            },
            "type": "scattergeo"
           }
          ],
          "scattergl": [
           {
            "marker": {
             "colorbar": {
              "outlinewidth": 0,
              "ticks": ""
             }
            },
            "type": "scattergl"
           }
          ],
          "scattermapbox": [
           {
            "marker": {
             "colorbar": {
              "outlinewidth": 0,
              "ticks": ""
             }
            },
            "type": "scattermapbox"
           }
          ],
          "scatterpolar": [
           {
            "marker": {
             "colorbar": {
              "outlinewidth": 0,
              "ticks": ""
             }
            },
            "type": "scatterpolar"
           }
          ],
          "scatterpolargl": [
           {
            "marker": {
             "colorbar": {
              "outlinewidth": 0,
              "ticks": ""
             }
            },
            "type": "scatterpolargl"
           }
          ],
          "scatterternary": [
           {
            "marker": {
             "colorbar": {
              "outlinewidth": 0,
              "ticks": ""
             }
            },
            "type": "scatterternary"
           }
          ],
          "surface": [
           {
            "colorbar": {
             "outlinewidth": 0,
             "ticks": ""
            },
            "colorscale": [
             [
              0,
              "#0d0887"
             ],
             [
              0.1111111111111111,
              "#46039f"
             ],
             [
              0.2222222222222222,
              "#7201a8"
             ],
             [
              0.3333333333333333,
              "#9c179e"
             ],
             [
              0.4444444444444444,
              "#bd3786"
             ],
             [
              0.5555555555555556,
              "#d8576b"
             ],
             [
              0.6666666666666666,
              "#ed7953"
             ],
             [
              0.7777777777777778,
              "#fb9f3a"
             ],
             [
              0.8888888888888888,
              "#fdca26"
             ],
             [
              1,
              "#f0f921"
             ]
            ],
            "type": "surface"
           }
          ],
          "table": [
           {
            "cells": {
             "fill": {
              "color": "#EBF0F8"
             },
             "line": {
              "color": "white"
             }
            },
            "header": {
             "fill": {
              "color": "#C8D4E3"
             },
             "line": {
              "color": "white"
             }
            },
            "type": "table"
           }
          ]
         },
         "layout": {
          "annotationdefaults": {
           "arrowcolor": "#2a3f5f",
           "arrowhead": 0,
           "arrowwidth": 1
          },
          "autotypenumbers": "strict",
          "coloraxis": {
           "colorbar": {
            "outlinewidth": 0,
            "ticks": ""
           }
          },
          "colorscale": {
           "diverging": [
            [
             0,
             "#8e0152"
            ],
            [
             0.1,
             "#c51b7d"
            ],
            [
             0.2,
             "#de77ae"
            ],
            [
             0.3,
             "#f1b6da"
            ],
            [
             0.4,
             "#fde0ef"
            ],
            [
             0.5,
             "#f7f7f7"
            ],
            [
             0.6,
             "#e6f5d0"
            ],
            [
             0.7,
             "#b8e186"
            ],
            [
             0.8,
             "#7fbc41"
            ],
            [
             0.9,
             "#4d9221"
            ],
            [
             1,
             "#276419"
            ]
           ],
           "sequential": [
            [
             0,
             "#0d0887"
            ],
            [
             0.1111111111111111,
             "#46039f"
            ],
            [
             0.2222222222222222,
             "#7201a8"
            ],
            [
             0.3333333333333333,
             "#9c179e"
            ],
            [
             0.4444444444444444,
             "#bd3786"
            ],
            [
             0.5555555555555556,
             "#d8576b"
            ],
            [
             0.6666666666666666,
             "#ed7953"
            ],
            [
             0.7777777777777778,
             "#fb9f3a"
            ],
            [
             0.8888888888888888,
             "#fdca26"
            ],
            [
             1,
             "#f0f921"
            ]
           ],
           "sequentialminus": [
            [
             0,
             "#0d0887"
            ],
            [
             0.1111111111111111,
             "#46039f"
            ],
            [
             0.2222222222222222,
             "#7201a8"
            ],
            [
             0.3333333333333333,
             "#9c179e"
            ],
            [
             0.4444444444444444,
             "#bd3786"
            ],
            [
             0.5555555555555556,
             "#d8576b"
            ],
            [
             0.6666666666666666,
             "#ed7953"
            ],
            [
             0.7777777777777778,
             "#fb9f3a"
            ],
            [
             0.8888888888888888,
             "#fdca26"
            ],
            [
             1,
             "#f0f921"
            ]
           ]
          },
          "colorway": [
           "#636efa",
           "#EF553B",
           "#00cc96",
           "#ab63fa",
           "#FFA15A",
           "#19d3f3",
           "#FF6692",
           "#B6E880",
           "#FF97FF",
           "#FECB52"
          ],
          "font": {
           "color": "#2a3f5f"
          },
          "geo": {
           "bgcolor": "white",
           "lakecolor": "white",
           "landcolor": "#E5ECF6",
           "showlakes": true,
           "showland": true,
           "subunitcolor": "white"
          },
          "hoverlabel": {
           "align": "left"
          },
          "hovermode": "closest",
          "mapbox": {
           "style": "light"
          },
          "paper_bgcolor": "white",
          "plot_bgcolor": "#E5ECF6",
          "polar": {
           "angularaxis": {
            "gridcolor": "white",
            "linecolor": "white",
            "ticks": ""
           },
           "bgcolor": "#E5ECF6",
           "radialaxis": {
            "gridcolor": "white",
            "linecolor": "white",
            "ticks": ""
           }
          },
          "scene": {
           "xaxis": {
            "backgroundcolor": "#E5ECF6",
            "gridcolor": "white",
            "gridwidth": 2,
            "linecolor": "white",
            "showbackground": true,
            "ticks": "",
            "zerolinecolor": "white"
           },
           "yaxis": {
            "backgroundcolor": "#E5ECF6",
            "gridcolor": "white",
            "gridwidth": 2,
            "linecolor": "white",
            "showbackground": true,
            "ticks": "",
            "zerolinecolor": "white"
           },
           "zaxis": {
            "backgroundcolor": "#E5ECF6",
            "gridcolor": "white",
            "gridwidth": 2,
            "linecolor": "white",
            "showbackground": true,
            "ticks": "",
            "zerolinecolor": "white"
           }
          },
          "shapedefaults": {
           "line": {
            "color": "#2a3f5f"
           }
          },
          "ternary": {
           "aaxis": {
            "gridcolor": "white",
            "linecolor": "white",
            "ticks": ""
           },
           "baxis": {
            "gridcolor": "white",
            "linecolor": "white",
            "ticks": ""
           },
           "bgcolor": "#E5ECF6",
           "caxis": {
            "gridcolor": "white",
            "linecolor": "white",
            "ticks": ""
           }
          },
          "title": {
           "x": 0.05
          },
          "xaxis": {
           "automargin": true,
           "gridcolor": "white",
           "linecolor": "white",
           "ticks": "",
           "title": {
            "standoff": 15
           },
           "zerolinecolor": "white",
           "zerolinewidth": 2
          },
          "yaxis": {
           "automargin": true,
           "gridcolor": "white",
           "linecolor": "white",
           "ticks": "",
           "title": {
            "standoff": 15
           },
           "zerolinecolor": "white",
           "zerolinewidth": 2
          }
         }
        },
        "title": {
         "text": "Venda dos produtos"
        },
        "xaxis": {
         "anchor": "y",
         "categoryorder": "total descending",
         "domain": [
          0,
          1
         ],
         "tickangle": 45,
         "title": {
          "text": "Produto"
         }
        },
        "yaxis": {
         "anchor": "x",
         "domain": [
          0,
          1
         ],
         "title": {
          "text": "Quantidade vendida"
         }
        }
       }
      },
      "text/html": [
       "<div>                            <div id=\"daad5b5f-4253-47f8-9384-b874dc544315\" class=\"plotly-graph-div\" style=\"height:525px; width:100%;\"></div>            <script type=\"text/javascript\">                require([\"plotly\"], function(Plotly) {                    window.PLOTLYENV=window.PLOTLYENV || {};                                    if (document.getElementById(\"daad5b5f-4253-47f8-9384-b874dc544315\")) {                    Plotly.newPlot(                        \"daad5b5f-4253-47f8-9384-b874dc544315\",                        [{\"alignmentgroup\":\"True\",\"hovertemplate\":\"Se\\u00e7\\u00e3o=Produtos de Limpeza<br>Nome=%{x}<br>Quantidade vendida=%{y}<extra></extra>\",\"legendgroup\":\"Produtos de Limpeza\",\"marker\":{\"color\":\"#AB63FA\",\"pattern\":{\"shape\":\"\"}},\"name\":\"Produtos de Limpeza\",\"offsetgroup\":\"Produtos de Limpeza\",\"orientation\":\"v\",\"showlegend\":true,\"textposition\":\"auto\",\"type\":\"bar\",\"x\":[\"\\u00e1gua sanit\\u00e1ria\",\"amaciante\",\"sab\\u00e3o em p\\u00f3\",\"odorizador\",\"flanela\",\"detergente\",\"sabonete\",\"rodo\"],\"xaxis\":\"x\",\"y\":[210,200,187,186,184,179,175,166],\"yaxis\":\"y\"},{\"alignmentgroup\":\"True\",\"hovertemplate\":\"Se\\u00e7\\u00e3o=A\\u00e7ougue<br>Nome=%{x}<br>Quantidade vendida=%{y}<extra></extra>\",\"legendgroup\":\"A\\u00e7ougue\",\"marker\":{\"color\":\"#EF553B\",\"pattern\":{\"shape\":\"\"}},\"name\":\"A\\u00e7ougue\",\"offsetgroup\":\"A\\u00e7ougue\",\"orientation\":\"v\",\"showlegend\":true,\"textposition\":\"auto\",\"type\":\"bar\",\"x\":[\"costela\",\"paleta su\\u00edna\",\"carr\\u00e9 de cordeiro\",\"maminha\",\"peito de frango\",\"bisteca su\\u00edna\",\"picanha\",\"alcatra\"],\"xaxis\":\"x\",\"y\":[210,191,182,177,174,174,173,159],\"yaxis\":\"y\"},{\"alignmentgroup\":\"True\",\"hovertemplate\":\"Se\\u00e7\\u00e3o=Padaria<br>Nome=%{x}<br>Quantidade vendida=%{y}<extra></extra>\",\"legendgroup\":\"Padaria\",\"marker\":{\"color\":\"#00CC96\",\"pattern\":{\"shape\":\"\"}},\"name\":\"Padaria\",\"offsetgroup\":\"Padaria\",\"orientation\":\"v\",\"showlegend\":true,\"textposition\":\"auto\",\"type\":\"bar\",\"x\":[\"p\\u00e3o de queijo\",\"p\\u00e3o franc\\u00eas\",\"p\\u00e3o de forma\",\"pastel\",\"sandu\\u00edche\",\"bolo\",\"torta\",\"sonho\"],\"xaxis\":\"x\",\"y\":[205,184,184,176,169,158,142,141],\"yaxis\":\"y\"},{\"alignmentgroup\":\"True\",\"hovertemplate\":\"Se\\u00e7\\u00e3o=Alimentos em Geral<br>Nome=%{x}<br>Quantidade vendida=%{y}<extra></extra>\",\"legendgroup\":\"Alimentos em Geral\",\"marker\":{\"color\":\"#636EFA\",\"pattern\":{\"shape\":\"\"}},\"name\":\"Alimentos em Geral\",\"offsetgroup\":\"Alimentos em Geral\",\"orientation\":\"v\",\"showlegend\":true,\"textposition\":\"auto\",\"type\":\"bar\",\"x\":[\"abobrinha\",\"feij\\u00e3o\",\"melancia\",\"arroz\",\"banana\",\"batata\",\"couve-flor\",\"uva\",\"macarr\\u00e3o\",\"berinjela\",\"morango\",\"alface\"],\"xaxis\":\"x\",\"y\":[204,195,190,186,185,178,169,163,155,146,138,138],\"yaxis\":\"y\"}],                        {\"barmode\":\"stack\",\"legend\":{\"title\":{\"text\":\"Se\\u00e7\\u00e3o\"},\"tracegroupgap\":0},\"margin\":{\"t\":60},\"template\":{\"data\":{\"bar\":[{\"error_x\":{\"color\":\"#2a3f5f\"},\"error_y\":{\"color\":\"#2a3f5f\"},\"marker\":{\"line\":{\"color\":\"#E5ECF6\",\"width\":0.5},\"pattern\":{\"fillmode\":\"overlay\",\"size\":10,\"solidity\":0.2}},\"type\":\"bar\"}],\"barpolar\":[{\"marker\":{\"line\":{\"color\":\"#E5ECF6\",\"width\":0.5},\"pattern\":{\"fillmode\":\"overlay\",\"size\":10,\"solidity\":0.2}},\"type\":\"barpolar\"}],\"carpet\":[{\"aaxis\":{\"endlinecolor\":\"#2a3f5f\",\"gridcolor\":\"white\",\"linecolor\":\"white\",\"minorgridcolor\":\"white\",\"startlinecolor\":\"#2a3f5f\"},\"baxis\":{\"endlinecolor\":\"#2a3f5f\",\"gridcolor\":\"white\",\"linecolor\":\"white\",\"minorgridcolor\":\"white\",\"startlinecolor\":\"#2a3f5f\"},\"type\":\"carpet\"}],\"choropleth\":[{\"colorbar\":{\"outlinewidth\":0,\"ticks\":\"\"},\"type\":\"choropleth\"}],\"contour\":[{\"colorbar\":{\"outlinewidth\":0,\"ticks\":\"\"},\"colorscale\":[[0.0,\"#0d0887\"],[0.1111111111111111,\"#46039f\"],[0.2222222222222222,\"#7201a8\"],[0.3333333333333333,\"#9c179e\"],[0.4444444444444444,\"#bd3786\"],[0.5555555555555556,\"#d8576b\"],[0.6666666666666666,\"#ed7953\"],[0.7777777777777778,\"#fb9f3a\"],[0.8888888888888888,\"#fdca26\"],[1.0,\"#f0f921\"]],\"type\":\"contour\"}],\"contourcarpet\":[{\"colorbar\":{\"outlinewidth\":0,\"ticks\":\"\"},\"type\":\"contourcarpet\"}],\"heatmap\":[{\"colorbar\":{\"outlinewidth\":0,\"ticks\":\"\"},\"colorscale\":[[0.0,\"#0d0887\"],[0.1111111111111111,\"#46039f\"],[0.2222222222222222,\"#7201a8\"],[0.3333333333333333,\"#9c179e\"],[0.4444444444444444,\"#bd3786\"],[0.5555555555555556,\"#d8576b\"],[0.6666666666666666,\"#ed7953\"],[0.7777777777777778,\"#fb9f3a\"],[0.8888888888888888,\"#fdca26\"],[1.0,\"#f0f921\"]],\"type\":\"heatmap\"}],\"heatmapgl\":[{\"colorbar\":{\"outlinewidth\":0,\"ticks\":\"\"},\"colorscale\":[[0.0,\"#0d0887\"],[0.1111111111111111,\"#46039f\"],[0.2222222222222222,\"#7201a8\"],[0.3333333333333333,\"#9c179e\"],[0.4444444444444444,\"#bd3786\"],[0.5555555555555556,\"#d8576b\"],[0.6666666666666666,\"#ed7953\"],[0.7777777777777778,\"#fb9f3a\"],[0.8888888888888888,\"#fdca26\"],[1.0,\"#f0f921\"]],\"type\":\"heatmapgl\"}],\"histogram\":[{\"marker\":{\"pattern\":{\"fillmode\":\"overlay\",\"size\":10,\"solidity\":0.2}},\"type\":\"histogram\"}],\"histogram2d\":[{\"colorbar\":{\"outlinewidth\":0,\"ticks\":\"\"},\"colorscale\":[[0.0,\"#0d0887\"],[0.1111111111111111,\"#46039f\"],[0.2222222222222222,\"#7201a8\"],[0.3333333333333333,\"#9c179e\"],[0.4444444444444444,\"#bd3786\"],[0.5555555555555556,\"#d8576b\"],[0.6666666666666666,\"#ed7953\"],[0.7777777777777778,\"#fb9f3a\"],[0.8888888888888888,\"#fdca26\"],[1.0,\"#f0f921\"]],\"type\":\"histogram2d\"}],\"histogram2dcontour\":[{\"colorbar\":{\"outlinewidth\":0,\"ticks\":\"\"},\"colorscale\":[[0.0,\"#0d0887\"],[0.1111111111111111,\"#46039f\"],[0.2222222222222222,\"#7201a8\"],[0.3333333333333333,\"#9c179e\"],[0.4444444444444444,\"#bd3786\"],[0.5555555555555556,\"#d8576b\"],[0.6666666666666666,\"#ed7953\"],[0.7777777777777778,\"#fb9f3a\"],[0.8888888888888888,\"#fdca26\"],[1.0,\"#f0f921\"]],\"type\":\"histogram2dcontour\"}],\"mesh3d\":[{\"colorbar\":{\"outlinewidth\":0,\"ticks\":\"\"},\"type\":\"mesh3d\"}],\"parcoords\":[{\"line\":{\"colorbar\":{\"outlinewidth\":0,\"ticks\":\"\"}},\"type\":\"parcoords\"}],\"pie\":[{\"automargin\":true,\"type\":\"pie\"}],\"scatter\":[{\"marker\":{\"colorbar\":{\"outlinewidth\":0,\"ticks\":\"\"}},\"type\":\"scatter\"}],\"scatter3d\":[{\"line\":{\"colorbar\":{\"outlinewidth\":0,\"ticks\":\"\"}},\"marker\":{\"colorbar\":{\"outlinewidth\":0,\"ticks\":\"\"}},\"type\":\"scatter3d\"}],\"scattercarpet\":[{\"marker\":{\"colorbar\":{\"outlinewidth\":0,\"ticks\":\"\"}},\"type\":\"scattercarpet\"}],\"scattergeo\":[{\"marker\":{\"colorbar\":{\"outlinewidth\":0,\"ticks\":\"\"}},\"type\":\"scattergeo\"}],\"scattergl\":[{\"marker\":{\"colorbar\":{\"outlinewidth\":0,\"ticks\":\"\"}},\"type\":\"scattergl\"}],\"scattermapbox\":[{\"marker\":{\"colorbar\":{\"outlinewidth\":0,\"ticks\":\"\"}},\"type\":\"scattermapbox\"}],\"scatterpolar\":[{\"marker\":{\"colorbar\":{\"outlinewidth\":0,\"ticks\":\"\"}},\"type\":\"scatterpolar\"}],\"scatterpolargl\":[{\"marker\":{\"colorbar\":{\"outlinewidth\":0,\"ticks\":\"\"}},\"type\":\"scatterpolargl\"}],\"scatterternary\":[{\"marker\":{\"colorbar\":{\"outlinewidth\":0,\"ticks\":\"\"}},\"type\":\"scatterternary\"}],\"surface\":[{\"colorbar\":{\"outlinewidth\":0,\"ticks\":\"\"},\"colorscale\":[[0.0,\"#0d0887\"],[0.1111111111111111,\"#46039f\"],[0.2222222222222222,\"#7201a8\"],[0.3333333333333333,\"#9c179e\"],[0.4444444444444444,\"#bd3786\"],[0.5555555555555556,\"#d8576b\"],[0.6666666666666666,\"#ed7953\"],[0.7777777777777778,\"#fb9f3a\"],[0.8888888888888888,\"#fdca26\"],[1.0,\"#f0f921\"]],\"type\":\"surface\"}],\"table\":[{\"cells\":{\"fill\":{\"color\":\"#EBF0F8\"},\"line\":{\"color\":\"white\"}},\"header\":{\"fill\":{\"color\":\"#C8D4E3\"},\"line\":{\"color\":\"white\"}},\"type\":\"table\"}]},\"layout\":{\"annotationdefaults\":{\"arrowcolor\":\"#2a3f5f\",\"arrowhead\":0,\"arrowwidth\":1},\"autotypenumbers\":\"strict\",\"coloraxis\":{\"colorbar\":{\"outlinewidth\":0,\"ticks\":\"\"}},\"colorscale\":{\"diverging\":[[0,\"#8e0152\"],[0.1,\"#c51b7d\"],[0.2,\"#de77ae\"],[0.3,\"#f1b6da\"],[0.4,\"#fde0ef\"],[0.5,\"#f7f7f7\"],[0.6,\"#e6f5d0\"],[0.7,\"#b8e186\"],[0.8,\"#7fbc41\"],[0.9,\"#4d9221\"],[1,\"#276419\"]],\"sequential\":[[0.0,\"#0d0887\"],[0.1111111111111111,\"#46039f\"],[0.2222222222222222,\"#7201a8\"],[0.3333333333333333,\"#9c179e\"],[0.4444444444444444,\"#bd3786\"],[0.5555555555555556,\"#d8576b\"],[0.6666666666666666,\"#ed7953\"],[0.7777777777777778,\"#fb9f3a\"],[0.8888888888888888,\"#fdca26\"],[1.0,\"#f0f921\"]],\"sequentialminus\":[[0.0,\"#0d0887\"],[0.1111111111111111,\"#46039f\"],[0.2222222222222222,\"#7201a8\"],[0.3333333333333333,\"#9c179e\"],[0.4444444444444444,\"#bd3786\"],[0.5555555555555556,\"#d8576b\"],[0.6666666666666666,\"#ed7953\"],[0.7777777777777778,\"#fb9f3a\"],[0.8888888888888888,\"#fdca26\"],[1.0,\"#f0f921\"]]},\"colorway\":[\"#636efa\",\"#EF553B\",\"#00cc96\",\"#ab63fa\",\"#FFA15A\",\"#19d3f3\",\"#FF6692\",\"#B6E880\",\"#FF97FF\",\"#FECB52\"],\"font\":{\"color\":\"#2a3f5f\"},\"geo\":{\"bgcolor\":\"white\",\"lakecolor\":\"white\",\"landcolor\":\"#E5ECF6\",\"showlakes\":true,\"showland\":true,\"subunitcolor\":\"white\"},\"hoverlabel\":{\"align\":\"left\"},\"hovermode\":\"closest\",\"mapbox\":{\"style\":\"light\"},\"paper_bgcolor\":\"white\",\"plot_bgcolor\":\"#E5ECF6\",\"polar\":{\"angularaxis\":{\"gridcolor\":\"white\",\"linecolor\":\"white\",\"ticks\":\"\"},\"bgcolor\":\"#E5ECF6\",\"radialaxis\":{\"gridcolor\":\"white\",\"linecolor\":\"white\",\"ticks\":\"\"}},\"scene\":{\"xaxis\":{\"backgroundcolor\":\"#E5ECF6\",\"gridcolor\":\"white\",\"gridwidth\":2,\"linecolor\":\"white\",\"showbackground\":true,\"ticks\":\"\",\"zerolinecolor\":\"white\"},\"yaxis\":{\"backgroundcolor\":\"#E5ECF6\",\"gridcolor\":\"white\",\"gridwidth\":2,\"linecolor\":\"white\",\"showbackground\":true,\"ticks\":\"\",\"zerolinecolor\":\"white\"},\"zaxis\":{\"backgroundcolor\":\"#E5ECF6\",\"gridcolor\":\"white\",\"gridwidth\":2,\"linecolor\":\"white\",\"showbackground\":true,\"ticks\":\"\",\"zerolinecolor\":\"white\"}},\"shapedefaults\":{\"line\":{\"color\":\"#2a3f5f\"}},\"ternary\":{\"aaxis\":{\"gridcolor\":\"white\",\"linecolor\":\"white\",\"ticks\":\"\"},\"baxis\":{\"gridcolor\":\"white\",\"linecolor\":\"white\",\"ticks\":\"\"},\"bgcolor\":\"#E5ECF6\",\"caxis\":{\"gridcolor\":\"white\",\"linecolor\":\"white\",\"ticks\":\"\"}},\"title\":{\"x\":0.05},\"xaxis\":{\"automargin\":true,\"gridcolor\":\"white\",\"linecolor\":\"white\",\"ticks\":\"\",\"title\":{\"standoff\":15},\"zerolinecolor\":\"white\",\"zerolinewidth\":2},\"yaxis\":{\"automargin\":true,\"gridcolor\":\"white\",\"linecolor\":\"white\",\"ticks\":\"\",\"title\":{\"standoff\":15},\"zerolinecolor\":\"white\",\"zerolinewidth\":2}}},\"title\":{\"text\":\"Venda dos produtos\"},\"xaxis\":{\"anchor\":\"y\",\"categoryorder\":\"total descending\",\"domain\":[0.0,1.0],\"tickangle\":45,\"title\":{\"text\":\"Produto\"}},\"yaxis\":{\"anchor\":\"x\",\"domain\":[0.0,1.0],\"title\":{\"text\":\"Quantidade vendida\"}}},                        {\"responsive\": true}                    ).then(function(){\n",
       "                            \n",
       "var gd = document.getElementById('daad5b5f-4253-47f8-9384-b874dc544315');\n",
       "var x = new MutationObserver(function (mutations, observer) {{\n",
       "        var display = window.getComputedStyle(gd).display;\n",
       "        if (!display || display === 'none') {{\n",
       "            console.log([gd, 'removed!']);\n",
       "            Plotly.purge(gd);\n",
       "            observer.disconnect();\n",
       "        }}\n",
       "}});\n",
       "\n",
       "// Listen for the removal of the full notebook cells\n",
       "var notebookContainer = gd.closest('#notebook-container');\n",
       "if (notebookContainer) {{\n",
       "    x.observe(notebookContainer, {childList: true});\n",
       "}}\n",
       "\n",
       "// Listen for the clearing of the current output cell\n",
       "var outputEl = gd.closest('.output');\n",
       "if (outputEl) {{\n",
       "    x.observe(outputEl, {childList: true});\n",
       "}}\n",
       "\n",
       "                        })                };                });            </script>        </div>"
      ]
     },
     "metadata": {},
     "output_type": "display_data"
    }
   ],
   "source": [
    "\n",
    "#FFDD79\n",
    "#plotagem do gráfico de barras sobre o total de vendas por produto usando plotly\n",
    "fig_quantidade_produto = px.bar(venda_produtos_quantidade_total,\n",
    "             x='nome', y=\"quantidade\", color=\"secao\", \n",
    "             barmode='stack', labels={\"nome\": \"Nome\", 'quantidade':\"Quantidade vendida\", \"secao\":\"Seção\"}, color_discrete_map={'Açougue': '#EF553B', \n",
    "                                                   'Padaria': '#00CC96', 'Produtos de Limpeza': '#AB63FA', 'Alimentos em Geral': '#636EFA'})\n",
    "fig_quantidade_produto.update_layout(title = 'Venda dos produtos', xaxis={'categoryorder':'total descending'})\n",
    "fig_quantidade_produto.update_xaxes(title = 'Produto')\n",
    "fig_quantidade_produto.update_yaxes(title = 'Quantidade vendida')\n",
    "fig_quantidade_produto.update_xaxes(tickangle=45)\n",
    "fig_quantidade_produto.show()"
   ]
  },
  {
   "cell_type": "code",
   "execution_count": 94,
   "id": "8a1c89c5",
   "metadata": {},
   "outputs": [
    {
     "name": "stderr",
     "output_type": "stream",
     "text": [
      "IOPub data rate exceeded.\n",
      "The notebook server will temporarily stop sending output\n",
      "to the client in order to avoid crashing it.\n",
      "To change this limit, set the config variable\n",
      "`--NotebookApp.iopub_data_rate_limit`.\n",
      "\n",
      "Current values:\n",
      "NotebookApp.iopub_data_rate_limit=1000000.0 (bytes/sec)\n",
      "NotebookApp.rate_limit_window=3.0 (secs)\n",
      "\n"
     ]
    }
   ],
   "source": [
    "from plotly.io import to_html\n",
    "#f=to_html(fig, full_html = False)\n",
    "f=fig_quantidade_produto.to_html(full_html=False)\n",
    "print(f)"
   ]
  },
  {
   "cell_type": "markdown",
   "id": "fdb739ee",
   "metadata": {},
   "source": [
    "## Relação entre preço e estoque"
   ]
  },
  {
   "cell_type": "code",
   "execution_count": 138,
   "id": "c607e931",
   "metadata": {},
   "outputs": [
    {
     "data": {
      "application/vnd.plotly.v1+json": {
       "config": {
        "plotlyServerURL": "https://plot.ly"
       },
       "data": [
        {
         "customdata": [
          [
           "torta"
          ],
          [
           "alcatra"
          ],
          [
           "abobrinha"
          ],
          [
           "sabão em pó"
          ],
          [
           "pão francês"
          ],
          [
           "odorizador"
          ],
          [
           "peito de frango"
          ],
          [
           "maminha"
          ],
          [
           "costela"
          ],
          [
           "pão de forma"
          ],
          [
           "uva"
          ],
          [
           "pastel"
          ],
          [
           "pão de queijo"
          ],
          [
           "sonho"
          ],
          [
           "sanduíche"
          ],
          [
           "melancia"
          ],
          [
           "berinjela"
          ],
          [
           "detergente"
          ],
          [
           "bisteca suína"
          ],
          [
           "carré de cordeiro"
          ],
          [
           "macarrão"
          ],
          [
           "couve-flor"
          ],
          [
           "flanela"
          ],
          [
           "morango"
          ],
          [
           "banana"
          ],
          [
           "rodo"
          ],
          [
           "batata"
          ],
          [
           "água sanitária"
          ],
          [
           "sabonete"
          ],
          [
           "amaciante"
          ],
          [
           "arroz"
          ],
          [
           "alface"
          ],
          [
           "paleta suína"
          ],
          [
           "bolo"
          ],
          [
           "picanha"
          ],
          [
           "feijão"
          ]
         ],
         "hovertemplate": "Quantidade vendida=%{x}<br>Renda total=%{y}<br>Nome do produto=%{customdata[0]}<extra></extra>",
         "legendgroup": "",
         "marker": {
          "color": "#27430D",
          "symbol": "circle"
         },
         "mode": "markers",
         "name": "",
         "orientation": "v",
         "showlegend": false,
         "type": "scatter",
         "x": [
          228,
          204,
          201,
          198,
          193,
          189,
          186,
          184,
          183,
          181,
          178,
          178,
          177,
          176,
          176,
          175,
          175,
          171,
          170,
          167,
          166,
          165,
          163,
          161,
          161,
          160,
          157,
          157,
          156,
          155,
          154,
          153,
          151,
          149,
          145,
          144
         ],
         "xaxis": "x",
         "y": [
          4050,
          2303.279999999999,
          289.67000000000036,
          765.5100000000014,
          846.2300000000005,
          1703.2900000000004,
          1220.2600000000004,
          3009.299999999995,
          1616.2300000000005,
          566.1900000000005,
          500.49000000000086,
          324.3500000000003,
          1703.2900000000004,
          244.30000000000024,
          909.3000000000005,
          1055.3400000000004,
          923.2300000000006,
          186.29999999999984,
          1504.1399999999987,
          11352,
          168.6399999999999,
          378.12000000000023,
          129.34999999999985,
          551.3100000000004,
          413.3100000000004,
          431.2800000000004,
          235.4100000000002,
          766.7200000000007,
          82.56000000000006,
          422.09999999999957,
          284.4600000000001,
          57.81999999999993,
          1511.3700000000003,
          2310,
          4395.179999999999,
          515.4499999999996
         ],
         "yaxis": "y"
        }
       ],
       "layout": {
        "legend": {
         "tracegroupgap": 0
        },
        "margin": {
         "t": 60
        },
        "template": {
         "data": {
          "bar": [
           {
            "error_x": {
             "color": "#2a3f5f"
            },
            "error_y": {
             "color": "#2a3f5f"
            },
            "marker": {
             "line": {
              "color": "#E5ECF6",
              "width": 0.5
             },
             "pattern": {
              "fillmode": "overlay",
              "size": 10,
              "solidity": 0.2
             }
            },
            "type": "bar"
           }
          ],
          "barpolar": [
           {
            "marker": {
             "line": {
              "color": "#E5ECF6",
              "width": 0.5
             },
             "pattern": {
              "fillmode": "overlay",
              "size": 10,
              "solidity": 0.2
             }
            },
            "type": "barpolar"
           }
          ],
          "carpet": [
           {
            "aaxis": {
             "endlinecolor": "#2a3f5f",
             "gridcolor": "white",
             "linecolor": "white",
             "minorgridcolor": "white",
             "startlinecolor": "#2a3f5f"
            },
            "baxis": {
             "endlinecolor": "#2a3f5f",
             "gridcolor": "white",
             "linecolor": "white",
             "minorgridcolor": "white",
             "startlinecolor": "#2a3f5f"
            },
            "type": "carpet"
           }
          ],
          "choropleth": [
           {
            "colorbar": {
             "outlinewidth": 0,
             "ticks": ""
            },
            "type": "choropleth"
           }
          ],
          "contour": [
           {
            "colorbar": {
             "outlinewidth": 0,
             "ticks": ""
            },
            "colorscale": [
             [
              0,
              "#0d0887"
             ],
             [
              0.1111111111111111,
              "#46039f"
             ],
             [
              0.2222222222222222,
              "#7201a8"
             ],
             [
              0.3333333333333333,
              "#9c179e"
             ],
             [
              0.4444444444444444,
              "#bd3786"
             ],
             [
              0.5555555555555556,
              "#d8576b"
             ],
             [
              0.6666666666666666,
              "#ed7953"
             ],
             [
              0.7777777777777778,
              "#fb9f3a"
             ],
             [
              0.8888888888888888,
              "#fdca26"
             ],
             [
              1,
              "#f0f921"
             ]
            ],
            "type": "contour"
           }
          ],
          "contourcarpet": [
           {
            "colorbar": {
             "outlinewidth": 0,
             "ticks": ""
            },
            "type": "contourcarpet"
           }
          ],
          "heatmap": [
           {
            "colorbar": {
             "outlinewidth": 0,
             "ticks": ""
            },
            "colorscale": [
             [
              0,
              "#0d0887"
             ],
             [
              0.1111111111111111,
              "#46039f"
             ],
             [
              0.2222222222222222,
              "#7201a8"
             ],
             [
              0.3333333333333333,
              "#9c179e"
             ],
             [
              0.4444444444444444,
              "#bd3786"
             ],
             [
              0.5555555555555556,
              "#d8576b"
             ],
             [
              0.6666666666666666,
              "#ed7953"
             ],
             [
              0.7777777777777778,
              "#fb9f3a"
             ],
             [
              0.8888888888888888,
              "#fdca26"
             ],
             [
              1,
              "#f0f921"
             ]
            ],
            "type": "heatmap"
           }
          ],
          "heatmapgl": [
           {
            "colorbar": {
             "outlinewidth": 0,
             "ticks": ""
            },
            "colorscale": [
             [
              0,
              "#0d0887"
             ],
             [
              0.1111111111111111,
              "#46039f"
             ],
             [
              0.2222222222222222,
              "#7201a8"
             ],
             [
              0.3333333333333333,
              "#9c179e"
             ],
             [
              0.4444444444444444,
              "#bd3786"
             ],
             [
              0.5555555555555556,
              "#d8576b"
             ],
             [
              0.6666666666666666,
              "#ed7953"
             ],
             [
              0.7777777777777778,
              "#fb9f3a"
             ],
             [
              0.8888888888888888,
              "#fdca26"
             ],
             [
              1,
              "#f0f921"
             ]
            ],
            "type": "heatmapgl"
           }
          ],
          "histogram": [
           {
            "marker": {
             "pattern": {
              "fillmode": "overlay",
              "size": 10,
              "solidity": 0.2
             }
            },
            "type": "histogram"
           }
          ],
          "histogram2d": [
           {
            "colorbar": {
             "outlinewidth": 0,
             "ticks": ""
            },
            "colorscale": [
             [
              0,
              "#0d0887"
             ],
             [
              0.1111111111111111,
              "#46039f"
             ],
             [
              0.2222222222222222,
              "#7201a8"
             ],
             [
              0.3333333333333333,
              "#9c179e"
             ],
             [
              0.4444444444444444,
              "#bd3786"
             ],
             [
              0.5555555555555556,
              "#d8576b"
             ],
             [
              0.6666666666666666,
              "#ed7953"
             ],
             [
              0.7777777777777778,
              "#fb9f3a"
             ],
             [
              0.8888888888888888,
              "#fdca26"
             ],
             [
              1,
              "#f0f921"
             ]
            ],
            "type": "histogram2d"
           }
          ],
          "histogram2dcontour": [
           {
            "colorbar": {
             "outlinewidth": 0,
             "ticks": ""
            },
            "colorscale": [
             [
              0,
              "#0d0887"
             ],
             [
              0.1111111111111111,
              "#46039f"
             ],
             [
              0.2222222222222222,
              "#7201a8"
             ],
             [
              0.3333333333333333,
              "#9c179e"
             ],
             [
              0.4444444444444444,
              "#bd3786"
             ],
             [
              0.5555555555555556,
              "#d8576b"
             ],
             [
              0.6666666666666666,
              "#ed7953"
             ],
             [
              0.7777777777777778,
              "#fb9f3a"
             ],
             [
              0.8888888888888888,
              "#fdca26"
             ],
             [
              1,
              "#f0f921"
             ]
            ],
            "type": "histogram2dcontour"
           }
          ],
          "mesh3d": [
           {
            "colorbar": {
             "outlinewidth": 0,
             "ticks": ""
            },
            "type": "mesh3d"
           }
          ],
          "parcoords": [
           {
            "line": {
             "colorbar": {
              "outlinewidth": 0,
              "ticks": ""
             }
            },
            "type": "parcoords"
           }
          ],
          "pie": [
           {
            "automargin": true,
            "type": "pie"
           }
          ],
          "scatter": [
           {
            "marker": {
             "colorbar": {
              "outlinewidth": 0,
              "ticks": ""
             }
            },
            "type": "scatter"
           }
          ],
          "scatter3d": [
           {
            "line": {
             "colorbar": {
              "outlinewidth": 0,
              "ticks": ""
             }
            },
            "marker": {
             "colorbar": {
              "outlinewidth": 0,
              "ticks": ""
             }
            },
            "type": "scatter3d"
           }
          ],
          "scattercarpet": [
           {
            "marker": {
             "colorbar": {
              "outlinewidth": 0,
              "ticks": ""
             }
            },
            "type": "scattercarpet"
           }
          ],
          "scattergeo": [
           {
            "marker": {
             "colorbar": {
              "outlinewidth": 0,
              "ticks": ""
             }
            },
            "type": "scattergeo"
           }
          ],
          "scattergl": [
           {
            "marker": {
             "colorbar": {
              "outlinewidth": 0,
              "ticks": ""
             }
            },
            "type": "scattergl"
           }
          ],
          "scattermapbox": [
           {
            "marker": {
             "colorbar": {
              "outlinewidth": 0,
              "ticks": ""
             }
            },
            "type": "scattermapbox"
           }
          ],
          "scatterpolar": [
           {
            "marker": {
             "colorbar": {
              "outlinewidth": 0,
              "ticks": ""
             }
            },
            "type": "scatterpolar"
           }
          ],
          "scatterpolargl": [
           {
            "marker": {
             "colorbar": {
              "outlinewidth": 0,
              "ticks": ""
             }
            },
            "type": "scatterpolargl"
           }
          ],
          "scatterternary": [
           {
            "marker": {
             "colorbar": {
              "outlinewidth": 0,
              "ticks": ""
             }
            },
            "type": "scatterternary"
           }
          ],
          "surface": [
           {
            "colorbar": {
             "outlinewidth": 0,
             "ticks": ""
            },
            "colorscale": [
             [
              0,
              "#0d0887"
             ],
             [
              0.1111111111111111,
              "#46039f"
             ],
             [
              0.2222222222222222,
              "#7201a8"
             ],
             [
              0.3333333333333333,
              "#9c179e"
             ],
             [
              0.4444444444444444,
              "#bd3786"
             ],
             [
              0.5555555555555556,
              "#d8576b"
             ],
             [
              0.6666666666666666,
              "#ed7953"
             ],
             [
              0.7777777777777778,
              "#fb9f3a"
             ],
             [
              0.8888888888888888,
              "#fdca26"
             ],
             [
              1,
              "#f0f921"
             ]
            ],
            "type": "surface"
           }
          ],
          "table": [
           {
            "cells": {
             "fill": {
              "color": "#EBF0F8"
             },
             "line": {
              "color": "white"
             }
            },
            "header": {
             "fill": {
              "color": "#C8D4E3"
             },
             "line": {
              "color": "white"
             }
            },
            "type": "table"
           }
          ]
         },
         "layout": {
          "annotationdefaults": {
           "arrowcolor": "#2a3f5f",
           "arrowhead": 0,
           "arrowwidth": 1
          },
          "autotypenumbers": "strict",
          "coloraxis": {
           "colorbar": {
            "outlinewidth": 0,
            "ticks": ""
           }
          },
          "colorscale": {
           "diverging": [
            [
             0,
             "#8e0152"
            ],
            [
             0.1,
             "#c51b7d"
            ],
            [
             0.2,
             "#de77ae"
            ],
            [
             0.3,
             "#f1b6da"
            ],
            [
             0.4,
             "#fde0ef"
            ],
            [
             0.5,
             "#f7f7f7"
            ],
            [
             0.6,
             "#e6f5d0"
            ],
            [
             0.7,
             "#b8e186"
            ],
            [
             0.8,
             "#7fbc41"
            ],
            [
             0.9,
             "#4d9221"
            ],
            [
             1,
             "#276419"
            ]
           ],
           "sequential": [
            [
             0,
             "#0d0887"
            ],
            [
             0.1111111111111111,
             "#46039f"
            ],
            [
             0.2222222222222222,
             "#7201a8"
            ],
            [
             0.3333333333333333,
             "#9c179e"
            ],
            [
             0.4444444444444444,
             "#bd3786"
            ],
            [
             0.5555555555555556,
             "#d8576b"
            ],
            [
             0.6666666666666666,
             "#ed7953"
            ],
            [
             0.7777777777777778,
             "#fb9f3a"
            ],
            [
             0.8888888888888888,
             "#fdca26"
            ],
            [
             1,
             "#f0f921"
            ]
           ],
           "sequentialminus": [
            [
             0,
             "#0d0887"
            ],
            [
             0.1111111111111111,
             "#46039f"
            ],
            [
             0.2222222222222222,
             "#7201a8"
            ],
            [
             0.3333333333333333,
             "#9c179e"
            ],
            [
             0.4444444444444444,
             "#bd3786"
            ],
            [
             0.5555555555555556,
             "#d8576b"
            ],
            [
             0.6666666666666666,
             "#ed7953"
            ],
            [
             0.7777777777777778,
             "#fb9f3a"
            ],
            [
             0.8888888888888888,
             "#fdca26"
            ],
            [
             1,
             "#f0f921"
            ]
           ]
          },
          "colorway": [
           "#636efa",
           "#EF553B",
           "#00cc96",
           "#ab63fa",
           "#FFA15A",
           "#19d3f3",
           "#FF6692",
           "#B6E880",
           "#FF97FF",
           "#FECB52"
          ],
          "font": {
           "color": "#2a3f5f"
          },
          "geo": {
           "bgcolor": "white",
           "lakecolor": "white",
           "landcolor": "#E5ECF6",
           "showlakes": true,
           "showland": true,
           "subunitcolor": "white"
          },
          "hoverlabel": {
           "align": "left"
          },
          "hovermode": "closest",
          "mapbox": {
           "style": "light"
          },
          "paper_bgcolor": "white",
          "plot_bgcolor": "#E5ECF6",
          "polar": {
           "angularaxis": {
            "gridcolor": "white",
            "linecolor": "white",
            "ticks": ""
           },
           "bgcolor": "#E5ECF6",
           "radialaxis": {
            "gridcolor": "white",
            "linecolor": "white",
            "ticks": ""
           }
          },
          "scene": {
           "xaxis": {
            "backgroundcolor": "#E5ECF6",
            "gridcolor": "white",
            "gridwidth": 2,
            "linecolor": "white",
            "showbackground": true,
            "ticks": "",
            "zerolinecolor": "white"
           },
           "yaxis": {
            "backgroundcolor": "#E5ECF6",
            "gridcolor": "white",
            "gridwidth": 2,
            "linecolor": "white",
            "showbackground": true,
            "ticks": "",
            "zerolinecolor": "white"
           },
           "zaxis": {
            "backgroundcolor": "#E5ECF6",
            "gridcolor": "white",
            "gridwidth": 2,
            "linecolor": "white",
            "showbackground": true,
            "ticks": "",
            "zerolinecolor": "white"
           }
          },
          "shapedefaults": {
           "line": {
            "color": "#2a3f5f"
           }
          },
          "ternary": {
           "aaxis": {
            "gridcolor": "white",
            "linecolor": "white",
            "ticks": ""
           },
           "baxis": {
            "gridcolor": "white",
            "linecolor": "white",
            "ticks": ""
           },
           "bgcolor": "#E5ECF6",
           "caxis": {
            "gridcolor": "white",
            "linecolor": "white",
            "ticks": ""
           }
          },
          "title": {
           "x": 0.05
          },
          "xaxis": {
           "automargin": true,
           "gridcolor": "white",
           "linecolor": "white",
           "ticks": "",
           "title": {
            "standoff": 15
           },
           "zerolinecolor": "white",
           "zerolinewidth": 2
          },
          "yaxis": {
           "automargin": true,
           "gridcolor": "white",
           "linecolor": "white",
           "ticks": "",
           "title": {
            "standoff": 15
           },
           "zerolinecolor": "white",
           "zerolinewidth": 2
          }
         }
        },
        "title": {
         "text": "Relacão entre renda total e quantidade vendida"
        },
        "xaxis": {
         "anchor": "y",
         "domain": [
          0,
          1
         ],
         "title": {
          "text": "Quantidade vendida"
         }
        },
        "yaxis": {
         "anchor": "x",
         "domain": [
          0,
          1
         ],
         "title": {
          "text": "Renda total"
         }
        }
       }
      },
      "text/html": [
       "<div>                            <div id=\"621a131e-b691-4295-939e-6d2f01476bac\" class=\"plotly-graph-div\" style=\"height:525px; width:100%;\"></div>            <script type=\"text/javascript\">                require([\"plotly\"], function(Plotly) {                    window.PLOTLYENV=window.PLOTLYENV || {};                                    if (document.getElementById(\"621a131e-b691-4295-939e-6d2f01476bac\")) {                    Plotly.newPlot(                        \"621a131e-b691-4295-939e-6d2f01476bac\",                        [{\"customdata\":[[\"torta\"],[\"alcatra\"],[\"abobrinha\"],[\"sab\\u00e3o em p\\u00f3\"],[\"p\\u00e3o franc\\u00eas\"],[\"odorizador\"],[\"peito de frango\"],[\"maminha\"],[\"costela\"],[\"p\\u00e3o de forma\"],[\"uva\"],[\"pastel\"],[\"p\\u00e3o de queijo\"],[\"sonho\"],[\"sandu\\u00edche\"],[\"melancia\"],[\"berinjela\"],[\"detergente\"],[\"bisteca su\\u00edna\"],[\"carr\\u00e9 de cordeiro\"],[\"macarr\\u00e3o\"],[\"couve-flor\"],[\"flanela\"],[\"morango\"],[\"banana\"],[\"rodo\"],[\"batata\"],[\"\\u00e1gua sanit\\u00e1ria\"],[\"sabonete\"],[\"amaciante\"],[\"arroz\"],[\"alface\"],[\"paleta su\\u00edna\"],[\"bolo\"],[\"picanha\"],[\"feij\\u00e3o\"]],\"hovertemplate\":\"Quantidade vendida=%{x}<br>Renda total=%{y}<br>Nome do produto=%{customdata[0]}<extra></extra>\",\"legendgroup\":\"\",\"marker\":{\"color\":\"#27430D\",\"symbol\":\"circle\"},\"mode\":\"markers\",\"name\":\"\",\"orientation\":\"v\",\"showlegend\":false,\"type\":\"scatter\",\"x\":[228,204,201,198,193,189,186,184,183,181,178,178,177,176,176,175,175,171,170,167,166,165,163,161,161,160,157,157,156,155,154,153,151,149,145,144],\"xaxis\":\"x\",\"y\":[4050.0,2303.279999999999,289.67000000000036,765.5100000000014,846.2300000000005,1703.2900000000004,1220.2600000000004,3009.299999999995,1616.2300000000005,566.1900000000005,500.49000000000086,324.3500000000003,1703.2900000000004,244.30000000000024,909.3000000000005,1055.3400000000004,923.2300000000006,186.29999999999984,1504.1399999999987,11352.0,168.6399999999999,378.12000000000023,129.34999999999985,551.3100000000004,413.3100000000004,431.2800000000004,235.4100000000002,766.7200000000007,82.56000000000006,422.09999999999957,284.4600000000001,57.81999999999993,1511.3700000000003,2310.0,4395.179999999999,515.4499999999996],\"yaxis\":\"y\"}],                        {\"legend\":{\"tracegroupgap\":0},\"margin\":{\"t\":60},\"template\":{\"data\":{\"bar\":[{\"error_x\":{\"color\":\"#2a3f5f\"},\"error_y\":{\"color\":\"#2a3f5f\"},\"marker\":{\"line\":{\"color\":\"#E5ECF6\",\"width\":0.5},\"pattern\":{\"fillmode\":\"overlay\",\"size\":10,\"solidity\":0.2}},\"type\":\"bar\"}],\"barpolar\":[{\"marker\":{\"line\":{\"color\":\"#E5ECF6\",\"width\":0.5},\"pattern\":{\"fillmode\":\"overlay\",\"size\":10,\"solidity\":0.2}},\"type\":\"barpolar\"}],\"carpet\":[{\"aaxis\":{\"endlinecolor\":\"#2a3f5f\",\"gridcolor\":\"white\",\"linecolor\":\"white\",\"minorgridcolor\":\"white\",\"startlinecolor\":\"#2a3f5f\"},\"baxis\":{\"endlinecolor\":\"#2a3f5f\",\"gridcolor\":\"white\",\"linecolor\":\"white\",\"minorgridcolor\":\"white\",\"startlinecolor\":\"#2a3f5f\"},\"type\":\"carpet\"}],\"choropleth\":[{\"colorbar\":{\"outlinewidth\":0,\"ticks\":\"\"},\"type\":\"choropleth\"}],\"contour\":[{\"colorbar\":{\"outlinewidth\":0,\"ticks\":\"\"},\"colorscale\":[[0.0,\"#0d0887\"],[0.1111111111111111,\"#46039f\"],[0.2222222222222222,\"#7201a8\"],[0.3333333333333333,\"#9c179e\"],[0.4444444444444444,\"#bd3786\"],[0.5555555555555556,\"#d8576b\"],[0.6666666666666666,\"#ed7953\"],[0.7777777777777778,\"#fb9f3a\"],[0.8888888888888888,\"#fdca26\"],[1.0,\"#f0f921\"]],\"type\":\"contour\"}],\"contourcarpet\":[{\"colorbar\":{\"outlinewidth\":0,\"ticks\":\"\"},\"type\":\"contourcarpet\"}],\"heatmap\":[{\"colorbar\":{\"outlinewidth\":0,\"ticks\":\"\"},\"colorscale\":[[0.0,\"#0d0887\"],[0.1111111111111111,\"#46039f\"],[0.2222222222222222,\"#7201a8\"],[0.3333333333333333,\"#9c179e\"],[0.4444444444444444,\"#bd3786\"],[0.5555555555555556,\"#d8576b\"],[0.6666666666666666,\"#ed7953\"],[0.7777777777777778,\"#fb9f3a\"],[0.8888888888888888,\"#fdca26\"],[1.0,\"#f0f921\"]],\"type\":\"heatmap\"}],\"heatmapgl\":[{\"colorbar\":{\"outlinewidth\":0,\"ticks\":\"\"},\"colorscale\":[[0.0,\"#0d0887\"],[0.1111111111111111,\"#46039f\"],[0.2222222222222222,\"#7201a8\"],[0.3333333333333333,\"#9c179e\"],[0.4444444444444444,\"#bd3786\"],[0.5555555555555556,\"#d8576b\"],[0.6666666666666666,\"#ed7953\"],[0.7777777777777778,\"#fb9f3a\"],[0.8888888888888888,\"#fdca26\"],[1.0,\"#f0f921\"]],\"type\":\"heatmapgl\"}],\"histogram\":[{\"marker\":{\"pattern\":{\"fillmode\":\"overlay\",\"size\":10,\"solidity\":0.2}},\"type\":\"histogram\"}],\"histogram2d\":[{\"colorbar\":{\"outlinewidth\":0,\"ticks\":\"\"},\"colorscale\":[[0.0,\"#0d0887\"],[0.1111111111111111,\"#46039f\"],[0.2222222222222222,\"#7201a8\"],[0.3333333333333333,\"#9c179e\"],[0.4444444444444444,\"#bd3786\"],[0.5555555555555556,\"#d8576b\"],[0.6666666666666666,\"#ed7953\"],[0.7777777777777778,\"#fb9f3a\"],[0.8888888888888888,\"#fdca26\"],[1.0,\"#f0f921\"]],\"type\":\"histogram2d\"}],\"histogram2dcontour\":[{\"colorbar\":{\"outlinewidth\":0,\"ticks\":\"\"},\"colorscale\":[[0.0,\"#0d0887\"],[0.1111111111111111,\"#46039f\"],[0.2222222222222222,\"#7201a8\"],[0.3333333333333333,\"#9c179e\"],[0.4444444444444444,\"#bd3786\"],[0.5555555555555556,\"#d8576b\"],[0.6666666666666666,\"#ed7953\"],[0.7777777777777778,\"#fb9f3a\"],[0.8888888888888888,\"#fdca26\"],[1.0,\"#f0f921\"]],\"type\":\"histogram2dcontour\"}],\"mesh3d\":[{\"colorbar\":{\"outlinewidth\":0,\"ticks\":\"\"},\"type\":\"mesh3d\"}],\"parcoords\":[{\"line\":{\"colorbar\":{\"outlinewidth\":0,\"ticks\":\"\"}},\"type\":\"parcoords\"}],\"pie\":[{\"automargin\":true,\"type\":\"pie\"}],\"scatter\":[{\"marker\":{\"colorbar\":{\"outlinewidth\":0,\"ticks\":\"\"}},\"type\":\"scatter\"}],\"scatter3d\":[{\"line\":{\"colorbar\":{\"outlinewidth\":0,\"ticks\":\"\"}},\"marker\":{\"colorbar\":{\"outlinewidth\":0,\"ticks\":\"\"}},\"type\":\"scatter3d\"}],\"scattercarpet\":[{\"marker\":{\"colorbar\":{\"outlinewidth\":0,\"ticks\":\"\"}},\"type\":\"scattercarpet\"}],\"scattergeo\":[{\"marker\":{\"colorbar\":{\"outlinewidth\":0,\"ticks\":\"\"}},\"type\":\"scattergeo\"}],\"scattergl\":[{\"marker\":{\"colorbar\":{\"outlinewidth\":0,\"ticks\":\"\"}},\"type\":\"scattergl\"}],\"scattermapbox\":[{\"marker\":{\"colorbar\":{\"outlinewidth\":0,\"ticks\":\"\"}},\"type\":\"scattermapbox\"}],\"scatterpolar\":[{\"marker\":{\"colorbar\":{\"outlinewidth\":0,\"ticks\":\"\"}},\"type\":\"scatterpolar\"}],\"scatterpolargl\":[{\"marker\":{\"colorbar\":{\"outlinewidth\":0,\"ticks\":\"\"}},\"type\":\"scatterpolargl\"}],\"scatterternary\":[{\"marker\":{\"colorbar\":{\"outlinewidth\":0,\"ticks\":\"\"}},\"type\":\"scatterternary\"}],\"surface\":[{\"colorbar\":{\"outlinewidth\":0,\"ticks\":\"\"},\"colorscale\":[[0.0,\"#0d0887\"],[0.1111111111111111,\"#46039f\"],[0.2222222222222222,\"#7201a8\"],[0.3333333333333333,\"#9c179e\"],[0.4444444444444444,\"#bd3786\"],[0.5555555555555556,\"#d8576b\"],[0.6666666666666666,\"#ed7953\"],[0.7777777777777778,\"#fb9f3a\"],[0.8888888888888888,\"#fdca26\"],[1.0,\"#f0f921\"]],\"type\":\"surface\"}],\"table\":[{\"cells\":{\"fill\":{\"color\":\"#EBF0F8\"},\"line\":{\"color\":\"white\"}},\"header\":{\"fill\":{\"color\":\"#C8D4E3\"},\"line\":{\"color\":\"white\"}},\"type\":\"table\"}]},\"layout\":{\"annotationdefaults\":{\"arrowcolor\":\"#2a3f5f\",\"arrowhead\":0,\"arrowwidth\":1},\"autotypenumbers\":\"strict\",\"coloraxis\":{\"colorbar\":{\"outlinewidth\":0,\"ticks\":\"\"}},\"colorscale\":{\"diverging\":[[0,\"#8e0152\"],[0.1,\"#c51b7d\"],[0.2,\"#de77ae\"],[0.3,\"#f1b6da\"],[0.4,\"#fde0ef\"],[0.5,\"#f7f7f7\"],[0.6,\"#e6f5d0\"],[0.7,\"#b8e186\"],[0.8,\"#7fbc41\"],[0.9,\"#4d9221\"],[1,\"#276419\"]],\"sequential\":[[0.0,\"#0d0887\"],[0.1111111111111111,\"#46039f\"],[0.2222222222222222,\"#7201a8\"],[0.3333333333333333,\"#9c179e\"],[0.4444444444444444,\"#bd3786\"],[0.5555555555555556,\"#d8576b\"],[0.6666666666666666,\"#ed7953\"],[0.7777777777777778,\"#fb9f3a\"],[0.8888888888888888,\"#fdca26\"],[1.0,\"#f0f921\"]],\"sequentialminus\":[[0.0,\"#0d0887\"],[0.1111111111111111,\"#46039f\"],[0.2222222222222222,\"#7201a8\"],[0.3333333333333333,\"#9c179e\"],[0.4444444444444444,\"#bd3786\"],[0.5555555555555556,\"#d8576b\"],[0.6666666666666666,\"#ed7953\"],[0.7777777777777778,\"#fb9f3a\"],[0.8888888888888888,\"#fdca26\"],[1.0,\"#f0f921\"]]},\"colorway\":[\"#636efa\",\"#EF553B\",\"#00cc96\",\"#ab63fa\",\"#FFA15A\",\"#19d3f3\",\"#FF6692\",\"#B6E880\",\"#FF97FF\",\"#FECB52\"],\"font\":{\"color\":\"#2a3f5f\"},\"geo\":{\"bgcolor\":\"white\",\"lakecolor\":\"white\",\"landcolor\":\"#E5ECF6\",\"showlakes\":true,\"showland\":true,\"subunitcolor\":\"white\"},\"hoverlabel\":{\"align\":\"left\"},\"hovermode\":\"closest\",\"mapbox\":{\"style\":\"light\"},\"paper_bgcolor\":\"white\",\"plot_bgcolor\":\"#E5ECF6\",\"polar\":{\"angularaxis\":{\"gridcolor\":\"white\",\"linecolor\":\"white\",\"ticks\":\"\"},\"bgcolor\":\"#E5ECF6\",\"radialaxis\":{\"gridcolor\":\"white\",\"linecolor\":\"white\",\"ticks\":\"\"}},\"scene\":{\"xaxis\":{\"backgroundcolor\":\"#E5ECF6\",\"gridcolor\":\"white\",\"gridwidth\":2,\"linecolor\":\"white\",\"showbackground\":true,\"ticks\":\"\",\"zerolinecolor\":\"white\"},\"yaxis\":{\"backgroundcolor\":\"#E5ECF6\",\"gridcolor\":\"white\",\"gridwidth\":2,\"linecolor\":\"white\",\"showbackground\":true,\"ticks\":\"\",\"zerolinecolor\":\"white\"},\"zaxis\":{\"backgroundcolor\":\"#E5ECF6\",\"gridcolor\":\"white\",\"gridwidth\":2,\"linecolor\":\"white\",\"showbackground\":true,\"ticks\":\"\",\"zerolinecolor\":\"white\"}},\"shapedefaults\":{\"line\":{\"color\":\"#2a3f5f\"}},\"ternary\":{\"aaxis\":{\"gridcolor\":\"white\",\"linecolor\":\"white\",\"ticks\":\"\"},\"baxis\":{\"gridcolor\":\"white\",\"linecolor\":\"white\",\"ticks\":\"\"},\"bgcolor\":\"#E5ECF6\",\"caxis\":{\"gridcolor\":\"white\",\"linecolor\":\"white\",\"ticks\":\"\"}},\"title\":{\"x\":0.05},\"xaxis\":{\"automargin\":true,\"gridcolor\":\"white\",\"linecolor\":\"white\",\"ticks\":\"\",\"title\":{\"standoff\":15},\"zerolinecolor\":\"white\",\"zerolinewidth\":2},\"yaxis\":{\"automargin\":true,\"gridcolor\":\"white\",\"linecolor\":\"white\",\"ticks\":\"\",\"title\":{\"standoff\":15},\"zerolinecolor\":\"white\",\"zerolinewidth\":2}}},\"title\":{\"text\":\"Relac\\u00e3o entre renda total e quantidade vendida\"},\"xaxis\":{\"anchor\":\"y\",\"domain\":[0.0,1.0],\"title\":{\"text\":\"Quantidade vendida\"}},\"yaxis\":{\"anchor\":\"x\",\"domain\":[0.0,1.0],\"title\":{\"text\":\"Renda total\"}}},                        {\"responsive\": true}                    ).then(function(){\n",
       "                            \n",
       "var gd = document.getElementById('621a131e-b691-4295-939e-6d2f01476bac');\n",
       "var x = new MutationObserver(function (mutations, observer) {{\n",
       "        var display = window.getComputedStyle(gd).display;\n",
       "        if (!display || display === 'none') {{\n",
       "            console.log([gd, 'removed!']);\n",
       "            Plotly.purge(gd);\n",
       "            observer.disconnect();\n",
       "        }}\n",
       "}});\n",
       "\n",
       "// Listen for the removal of the full notebook cells\n",
       "var notebookContainer = gd.closest('#notebook-container');\n",
       "if (notebookContainer) {{\n",
       "    x.observe(notebookContainer, {childList: true});\n",
       "}}\n",
       "\n",
       "// Listen for the clearing of the current output cell\n",
       "var outputEl = gd.closest('.output');\n",
       "if (outputEl) {{\n",
       "    x.observe(outputEl, {childList: true});\n",
       "}}\n",
       "\n",
       "                        })                };                });            </script>        </div>"
      ]
     },
     "metadata": {},
     "output_type": "display_data"
    }
   ],
   "source": [
    "#pltagem de um gráfico de disperção relacionado preço e quantidade\n",
    "fig_preco_quantidade=px.scatter(venda_produtos_total, x = \"quantidade\", y = \"preco\",  hover_data=['nome'], labels={\"preco\": \"Renda total\", \"quantidade\": \"Quantidade vendida\", \"nome\":\"Nome do produto\" })\n",
    "fig_preco_quantidade.update_traces(marker = {'color': '#27430D'})\n",
    "fig_preco_quantidade.update_layout(title = 'Relacão entre renda total e quantidade vendida')\n",
    "fig_preco_quantidade.update_xaxes(title = 'Quantidade vendida')\n",
    "fig_preco_quantidade.update_yaxes(title = 'Renda total')\n",
    "fig_preco_quantidade.show()"
   ]
  },
  {
   "cell_type": "code",
   "execution_count": 124,
   "id": "cbc359fe",
   "metadata": {},
   "outputs": [
    {
     "name": "stdout",
     "output_type": "stream",
     "text": [
      "Correlação dos dados (preço e estoque): 0.06026723451260776\n"
     ]
    }
   ],
   "source": [
    "# Calculando a correlação dos dados\n",
    "Correlação= venda_produtos_total['preco'].corr(venda_produtos_total['quantidade'])\n",
    "print(f\"Correlação dos dados (preço e estoque):\", Correlação)"
   ]
  },
  {
   "cell_type": "markdown",
   "id": "ec5bdcd7",
   "metadata": {},
   "source": [
    "## Cliente mais ativo"
   ]
  },
  {
   "cell_type": "code",
   "execution_count": 97,
   "id": "da5b4787",
   "metadata": {},
   "outputs": [],
   "source": [
    "#criando uma tabela para analisar a quantidade de produtos comprados por id_cliente\n",
    "quantidade_comprada = venda_produtos_cliente[[\"id_clientes\", \"quantidade\"]].groupby(['id_clientes']).sum().sort_values('quantidade', ascending=False).reset_index().head(10)\n",
    "\n",
    "#renomenado a coluna quantidade para quantidade_total na tabela de quantidade_comprada\n",
    "quantidade_comprada.rename(columns={\"quantidade\": \"quantidade_total\"}, inplace = 1)\n",
    "\n",
    "#realizando a união das tabelas venda_produtos_cliente e quantidade_comprada em id_cliente\n",
    "venda_produtos_cliente_qt = pd.merge(venda_produtos_cliente, quantidade_comprada, on = 'id_clientes', how='right') \n",
    "\n",
    "#lista_id_cliente_maiores_quantidades = quantidade_comprada['id_cliente'].tolist()\n",
    "#clientes.iloc[lista_id_cliente_maiores_quantidades]"
   ]
  },
  {
   "cell_type": "code",
   "execution_count": 98,
   "id": "ff7d5af4",
   "metadata": {},
   "outputs": [],
   "source": [
    "#plotagem de um gráfica de barras\n",
    "#fig = px.bar(venda_produtos_cliente_qt, x=\"nome_cliente\", y=\"quantidade\", color=\"nome\", barmode = 'stack',\n",
    " #            labels={\"quantidade\": \"Quantidade de vendas\", \"nome_cliente\": \"Nome do cliente\", \"nome\":\"Produto\" }, height=700, width=700)\n",
    " \n",
    "#fig.show()"
   ]
  },
  {
   "cell_type": "code",
   "execution_count": 99,
   "id": "ba1bc3fc",
   "metadata": {},
   "outputs": [],
   "source": [
    "venda_produtos_cliente[\"total_preco\"]=venda_produtos_cliente[\"quantidade\"]*venda_produtos_cliente[\"preco\"]\n",
    "quantidade_comprada_preco = venda_produtos_cliente[[\"id_clientes\", \"total_preco\"]].groupby(['id_clientes']).sum().sort_values('total_preco', ascending=False).reset_index().head(10)\n",
    "quantidade_comprada_preco.rename(columns={\"total_preco\": \"total_mes\"}, inplace = 1)\n",
    "venda_produtos_cliente_pt=pd.merge(venda_produtos_cliente, quantidade_comprada_preco, on = 'id_clientes', how='right') "
   ]
  },
  {
   "cell_type": "code",
   "execution_count": 100,
   "id": "099d2aaf",
   "metadata": {},
   "outputs": [
    {
     "data": {
      "text/html": [
       "<div>\n",
       "<style scoped>\n",
       "    .dataframe tbody tr th:only-of-type {\n",
       "        vertical-align: middle;\n",
       "    }\n",
       "\n",
       "    .dataframe tbody tr th {\n",
       "        vertical-align: top;\n",
       "    }\n",
       "\n",
       "    .dataframe thead th {\n",
       "        text-align: right;\n",
       "    }\n",
       "</style>\n",
       "<table border=\"1\" class=\"dataframe\">\n",
       "  <thead>\n",
       "    <tr style=\"text-align: right;\">\n",
       "      <th></th>\n",
       "      <th>id_clientes</th>\n",
       "      <th>total_mes</th>\n",
       "    </tr>\n",
       "  </thead>\n",
       "  <tbody>\n",
       "    <tr>\n",
       "      <th>0</th>\n",
       "      <td>89</td>\n",
       "      <td>3560.60</td>\n",
       "    </tr>\n",
       "    <tr>\n",
       "      <th>1</th>\n",
       "      <td>3</td>\n",
       "      <td>3185.86</td>\n",
       "    </tr>\n",
       "    <tr>\n",
       "      <th>2</th>\n",
       "      <td>48</td>\n",
       "      <td>2640.72</td>\n",
       "    </tr>\n",
       "    <tr>\n",
       "      <th>3</th>\n",
       "      <td>164</td>\n",
       "      <td>2535.06</td>\n",
       "    </tr>\n",
       "    <tr>\n",
       "      <th>4</th>\n",
       "      <td>44</td>\n",
       "      <td>2303.26</td>\n",
       "    </tr>\n",
       "    <tr>\n",
       "      <th>5</th>\n",
       "      <td>83</td>\n",
       "      <td>2287.24</td>\n",
       "    </tr>\n",
       "    <tr>\n",
       "      <th>6</th>\n",
       "      <td>108</td>\n",
       "      <td>2262.16</td>\n",
       "    </tr>\n",
       "    <tr>\n",
       "      <th>7</th>\n",
       "      <td>130</td>\n",
       "      <td>2205.59</td>\n",
       "    </tr>\n",
       "    <tr>\n",
       "      <th>8</th>\n",
       "      <td>147</td>\n",
       "      <td>2117.30</td>\n",
       "    </tr>\n",
       "    <tr>\n",
       "      <th>9</th>\n",
       "      <td>0</td>\n",
       "      <td>2033.69</td>\n",
       "    </tr>\n",
       "  </tbody>\n",
       "</table>\n",
       "</div>"
      ],
      "text/plain": [
       "   id_clientes  total_mes\n",
       "0           89    3560.60\n",
       "1            3    3185.86\n",
       "2           48    2640.72\n",
       "3          164    2535.06\n",
       "4           44    2303.26\n",
       "5           83    2287.24\n",
       "6          108    2262.16\n",
       "7          130    2205.59\n",
       "8          147    2117.30\n",
       "9            0    2033.69"
      ]
     },
     "execution_count": 100,
     "metadata": {},
     "output_type": "execute_result"
    }
   ],
   "source": [
    "quantidade_comprada_preco"
   ]
  },
  {
   "cell_type": "code",
   "execution_count": 101,
   "id": "2452f2a3",
   "metadata": {},
   "outputs": [
    {
     "data": {
      "application/vnd.plotly.v1+json": {
       "config": {
        "plotlyServerURL": "https://plot.ly"
       },
       "data": [
        {
         "alignmentgroup": "True",
         "customdata": [
          [
           "paleta suína",
           "2021-11-03",
           23.99
          ],
          [
           "bisteca suína",
           "2021-11-03",
           22.79
          ],
          [
           "peito de frango",
           "2021-11-03",
           16.49
          ],
          [
           "carré de cordeiro",
           "2021-11-03",
           172
          ],
          [
           "maminha",
           "2021-11-03",
           42.99
          ],
          [
           "maminha",
           "2021-11-03",
           42.99
          ],
          [
           "maminha",
           "2021-11-03",
           42.99
          ],
          [
           "alcatra",
           "2021-11-03",
           31.99
          ],
          [
           "paleta suína",
           "2021-11-10",
           23.99
          ],
          [
           "bisteca suína",
           "2021-11-10",
           22.79
          ],
          [
           "carré de cordeiro",
           "2021-11-10",
           172
          ],
          [
           "alcatra",
           "2021-11-10",
           31.99
          ],
          [
           "picanha",
           "2021-11-12",
           70.89
          ],
          [
           "carré de cordeiro",
           "2021-11-12",
           172
          ],
          [
           "paleta suína",
           "2021-11-03",
           23.99
          ],
          [
           "paleta suína",
           "2021-11-03",
           23.99
          ],
          [
           "bisteca suína",
           "2021-11-03",
           22.79
          ],
          [
           "carré de cordeiro",
           "2021-11-03",
           172
          ],
          [
           "maminha",
           "2021-11-03",
           42.99
          ],
          [
           "costela",
           "2021-11-04",
           20.99
          ],
          [
           "peito de frango",
           "2021-11-04",
           16.49
          ],
          [
           "maminha",
           "2021-11-04",
           42.99
          ],
          [
           "peito de frango",
           "2021-11-08",
           16.49
          ],
          [
           "alcatra",
           "2021-11-08",
           31.99
          ],
          [
           "alcatra",
           "2021-11-08",
           31.99
          ],
          [
           "picanha",
           "2021-11-02",
           70.89
          ],
          [
           "picanha",
           "2021-11-12",
           70.89
          ],
          [
           "picanha",
           "2021-11-12",
           70.89
          ],
          [
           "carré de cordeiro",
           "2021-11-12",
           172
          ],
          [
           "carré de cordeiro",
           "2021-11-12",
           172
          ],
          [
           "alcatra",
           "2021-11-12",
           31.99
          ],
          [
           "paleta suína",
           "2021-11-13",
           23.99
          ],
          [
           "bisteca suína",
           "2021-11-13",
           22.79
          ],
          [
           "carré de cordeiro",
           "2021-11-13",
           172
          ],
          [
           "picanha",
           "2021-11-09",
           70.89
          ],
          [
           "peito de frango",
           "2021-11-09",
           16.49
          ],
          [
           "carré de cordeiro",
           "2021-11-09",
           172
          ],
          [
           "carré de cordeiro",
           "2021-11-09",
           172
          ],
          [
           "costela",
           "2021-11-13",
           20.99
          ],
          [
           "maminha",
           "2021-11-13",
           42.99
          ],
          [
           "costela",
           "2021-11-09",
           20.99
          ],
          [
           "picanha",
           "2021-11-09",
           70.89
          ],
          [
           "bisteca suína",
           "2021-11-09",
           22.79
          ],
          [
           "peito de frango",
           "2021-11-09",
           16.49
          ],
          [
           "bisteca suína",
           "2021-11-09",
           22.79
          ],
          [
           "carré de cordeiro",
           "2021-11-09",
           172
          ],
          [
           "maminha",
           "2021-11-09",
           42.99
          ],
          [
           "maminha",
           "2021-11-09",
           42.99
          ],
          [
           "paleta suína",
           "2021-11-09",
           23.99
          ],
          [
           "carré de cordeiro",
           "2021-11-09",
           172
          ],
          [
           "paleta suína",
           "2021-11-12",
           23.99
          ],
          [
           "peito de frango",
           "2021-11-12",
           16.49
          ],
          [
           "carré de cordeiro",
           "2021-11-06",
           172
          ],
          [
           "picanha",
           "2021-11-01",
           70.89
          ],
          [
           "picanha",
           "2021-11-01",
           70.89
          ],
          [
           "maminha",
           "2021-11-01",
           42.99
          ],
          [
           "maminha",
           "2021-11-01",
           42.99
          ],
          [
           "carré de cordeiro",
           "2021-11-07",
           172
          ],
          [
           "carré de cordeiro",
           "2021-11-07",
           172
          ],
          [
           "maminha",
           "2021-11-07",
           42.99
          ],
          [
           "maminha",
           "2021-11-07",
           42.99
          ],
          [
           "paleta suína",
           "2021-11-03",
           23.99
          ],
          [
           "carré de cordeiro",
           "2021-11-03",
           172
          ],
          [
           "carré de cordeiro",
           "2021-11-03",
           172
          ],
          [
           "costela",
           "2021-11-07",
           20.99
          ],
          [
           "picanha",
           "2021-11-07",
           70.89
          ],
          [
           "picanha",
           "2021-11-14",
           70.89
          ],
          [
           "paleta suína",
           "2021-11-21",
           23.99
          ],
          [
           "picanha",
           "2021-11-05",
           70.89
          ],
          [
           "peito de frango",
           "2021-11-05",
           16.49
          ],
          [
           "peito de frango",
           "2021-11-05",
           16.49
          ],
          [
           "bisteca suína",
           "2021-11-12",
           22.79
          ],
          [
           "alcatra",
           "2021-11-12",
           31.99
          ],
          [
           "alcatra",
           "2021-11-12",
           31.99
          ],
          [
           "bisteca suína",
           "2021-11-02",
           22.79
          ],
          [
           "bisteca suína",
           "2021-11-02",
           22.79
          ],
          [
           "alcatra",
           "2021-11-02",
           31.99
          ],
          [
           "carré de cordeiro",
           "2021-11-29",
           172
          ],
          [
           "paleta suína",
           "2021-11-07",
           23.99
          ],
          [
           "costela",
           "2021-11-07",
           20.99
          ],
          [
           "costela",
           "2021-11-07",
           20.99
          ],
          [
           "carré de cordeiro",
           "2021-11-07",
           172
          ],
          [
           "paleta suína",
           "2021-11-09",
           23.99
          ],
          [
           "costela",
           "2021-11-09",
           20.99
          ],
          [
           "maminha",
           "2021-11-09",
           42.99
          ],
          [
           "paleta suína",
           "2021-11-05",
           23.99
          ],
          [
           "costela",
           "2021-11-05",
           20.99
          ],
          [
           "costela",
           "2021-11-02",
           20.99
          ],
          [
           "picanha",
           "2021-11-02",
           70.89
          ],
          [
           "picanha",
           "2021-11-02",
           70.89
          ],
          [
           "bisteca suína",
           "2021-11-02",
           22.79
          ],
          [
           "costela",
           "2021-11-09",
           20.99
          ],
          [
           "picanha",
           "2021-11-09",
           70.89
          ],
          [
           "carré de cordeiro",
           "2021-11-09",
           172
          ],
          [
           "bisteca suína",
           "2021-11-09",
           22.79
          ],
          [
           "carré de cordeiro",
           "2021-11-09",
           172
          ]
         ],
         "hovertemplate": "Seção=Açougue<br>Nome do cliente=%{x}<br>Total da compra do produto=%{y}<br>Produto=%{customdata[0]}<br>Data=%{customdata[1]}<br>Preço do produto=%{customdata[2]}<extra></extra>",
         "legendgroup": "Açougue",
         "marker": {
          "color": "#636efa",
          "pattern": {
           "shape": ""
          }
         },
         "name": "Açougue",
         "offsetgroup": "Açougue",
         "orientation": "v",
         "showlegend": true,
         "textposition": "auto",
         "type": "bar",
         "x": [
          "Marina Novaes",
          "Marina Novaes",
          "Marina Novaes",
          "Marina Novaes",
          "Marina Novaes",
          "Marina Novaes",
          "Marina Novaes",
          "Marina Novaes",
          "Marina Novaes",
          "Marina Novaes",
          "Marina Novaes",
          "Marina Novaes",
          "Marina Novaes",
          "Marina Novaes",
          "Joana Gonçalves",
          "Joana Gonçalves",
          "Joana Gonçalves",
          "Joana Gonçalves",
          "Joana Gonçalves",
          "Joana Gonçalves",
          "Joana Gonçalves",
          "Joana Gonçalves",
          "Joana Gonçalves",
          "Joana Gonçalves",
          "Joana Gonçalves",
          "Joana Gonçalves",
          "Joana Gonçalves",
          "Joana Gonçalves",
          "Joana Gonçalves",
          "Joana Gonçalves",
          "Joana Gonçalves",
          "Dr. Ryan Campos",
          "Dr. Ryan Campos",
          "Dr. Ryan Campos",
          "Dr. Ryan Campos",
          "Dr. Ryan Campos",
          "Dr. Ryan Campos",
          "Dr. Ryan Campos",
          "Carlos Eduardo Barros",
          "Carlos Eduardo Barros",
          "Carlos Eduardo Barros",
          "Carlos Eduardo Barros",
          "Carlos Eduardo Barros",
          "Carlos Eduardo Barros",
          "Carlos Eduardo Barros",
          "Carlos Eduardo Barros",
          "Carlos Eduardo Barros",
          "Carlos Eduardo Barros",
          "Maria Fernanda Caldeira",
          "Maria Fernanda Caldeira",
          "Maria Fernanda Caldeira",
          "Maria Fernanda Caldeira",
          "Maria Fernanda Caldeira",
          "Ryan Castro",
          "Ryan Castro",
          "Ryan Castro",
          "Ryan Castro",
          "Ryan Castro",
          "Ryan Castro",
          "Ryan Castro",
          "Ryan Castro",
          "Milena Gomes",
          "Milena Gomes",
          "Milena Gomes",
          "Milena Gomes",
          "Milena Gomes",
          "Milena Gomes",
          "Ana Correia",
          "Ana Correia",
          "Ana Correia",
          "Ana Correia",
          "Ana Correia",
          "Ana Correia",
          "Ana Correia",
          "Ana Correia",
          "Ana Correia",
          "Ana Correia",
          "Ana Correia",
          "Cauã Rezende",
          "Cauã Rezende",
          "Cauã Rezende",
          "Cauã Rezende",
          "Cauã Rezende",
          "Cauã Rezende",
          "Cauã Rezende",
          "Cauã Rezende",
          "Cauã Rezende",
          "Cauã Rezende",
          "Cauã Rezende",
          "Cauã Rezende",
          "Cauã Rezende",
          "Levi Rocha",
          "Levi Rocha",
          "Levi Rocha",
          "Levi Rocha",
          "Levi Rocha"
         ],
         "xaxis": "x",
         "y": [
          47.98,
          22.79,
          65.96,
          688,
          128.97,
          128.97,
          171.96,
          127.96,
          23.99,
          22.79,
          344,
          95.97,
          141.78,
          688,
          95.96,
          23.99,
          91.16,
          172,
          85.98,
          41.98,
          49.47,
          171.96,
          65.96,
          95.97,
          127.96,
          70.89,
          283.56,
          141.78,
          172,
          344,
          95.97,
          71.97,
          22.79,
          688,
          283.56,
          49.47,
          516,
          688,
          62.97,
          85.98,
          20.99,
          283.56,
          91.16,
          49.47,
          91.16,
          172,
          171.96,
          171.96,
          71.97,
          516,
          95.96,
          32.98,
          688,
          70.89,
          283.56,
          128.97,
          85.98,
          516,
          516,
          42.99,
          171.96,
          23.99,
          516,
          688,
          20.99,
          70.89,
          283.56,
          95.96,
          283.56,
          49.47,
          65.96,
          22.79,
          63.98,
          127.96,
          45.58,
          68.37,
          31.99,
          172,
          71.97,
          83.96,
          41.98,
          344,
          47.98,
          20.99,
          171.96,
          47.98,
          62.97,
          62.97,
          70.89,
          141.78,
          22.79,
          62.97,
          212.67000000000002,
          688,
          91.16,
          688
         ],
         "yaxis": "y"
        },
        {
         "alignmentgroup": "True",
         "customdata": [
          [
           "sonho",
           "2021-11-03",
           3.49
          ],
          [
           "pastel",
           "2021-11-03",
           4.99
          ],
          [
           "pastel",
           "2021-11-03",
           4.99
          ],
          [
           "sonho",
           "2021-11-18",
           3.49
          ],
          [
           "pão de forma",
           "2021-11-12",
           6.99
          ],
          [
           "pão francês",
           "2021-11-12",
           10.99
          ],
          [
           "bolo",
           "2021-11-12",
           35
          ],
          [
           "sanduíche",
           "2021-11-12",
           12.99
          ],
          [
           "bolo",
           "2021-11-03",
           35
          ],
          [
           "sanduíche",
           "2021-11-03",
           12.99
          ],
          [
           "bolo",
           "2021-11-04",
           35
          ],
          [
           "bolo",
           "2021-11-04",
           35
          ],
          [
           "sonho",
           "2021-11-08",
           3.49
          ],
          [
           "pão de forma",
           "2021-11-08",
           6.99
          ],
          [
           "pão de forma",
           "2021-11-08",
           6.99
          ],
          [
           "pão francês",
           "2021-11-08",
           10.99
          ],
          [
           "pão francês",
           "2021-11-08",
           10.99
          ],
          [
           "pão de forma",
           "2021-11-02",
           6.99
          ],
          [
           "sanduíche",
           "2021-11-02",
           12.99
          ],
          [
           "pão de queijo",
           "2021-11-02",
           23.99
          ],
          [
           "pão de forma",
           "2021-11-12",
           6.99
          ],
          [
           "pastel",
           "2021-11-12",
           4.99
          ],
          [
           "torta",
           "2021-11-12",
           45
          ],
          [
           "sanduíche",
           "2021-11-12",
           12.99
          ],
          [
           "torta",
           "2021-11-29",
           45
          ],
          [
           "sonho",
           "2021-11-13",
           3.49
          ],
          [
           "torta",
           "2021-11-13",
           45
          ],
          [
           "pão francês",
           "2021-11-13",
           10.99
          ],
          [
           "bolo",
           "2021-11-13",
           35
          ],
          [
           "pão de queijo",
           "2021-11-13",
           23.99
          ],
          [
           "pão de forma",
           "2021-11-09",
           6.99
          ],
          [
           "pão de queijo",
           "2021-11-09",
           23.99
          ],
          [
           "pão de forma",
           "2021-11-09",
           6.99
          ],
          [
           "torta",
           "2021-11-09",
           45
          ],
          [
           "torta",
           "2021-11-09",
           45
          ],
          [
           "pão francês",
           "2021-11-09",
           10.99
          ],
          [
           "pão francês",
           "2021-11-09",
           10.99
          ],
          [
           "bolo",
           "2021-11-09",
           35
          ],
          [
           "pastel",
           "2021-11-13",
           4.99
          ],
          [
           "pão de forma",
           "2021-11-09",
           6.99
          ],
          [
           "pastel",
           "2021-11-09",
           4.99
          ],
          [
           "torta",
           "2021-11-09",
           45
          ],
          [
           "bolo",
           "2021-11-09",
           35
          ],
          [
           "pão de forma",
           "2021-11-12",
           6.99
          ],
          [
           "pastel",
           "2021-11-12",
           4.99
          ],
          [
           "bolo",
           "2021-11-12",
           35
          ],
          [
           "sanduíche",
           "2021-11-25",
           12.99
          ],
          [
           "sonho",
           "2021-11-01",
           3.49
          ],
          [
           "sonho",
           "2021-11-01",
           3.49
          ],
          [
           "bolo",
           "2021-11-01",
           35
          ],
          [
           "pastel",
           "2021-11-07",
           4.99
          ],
          [
           "bolo",
           "2021-11-07",
           35
          ],
          [
           "bolo",
           "2021-11-07",
           35
          ],
          [
           "sonho",
           "2021-11-03",
           3.49
          ],
          [
           "pastel",
           "2021-11-03",
           4.99
          ],
          [
           "sanduíche",
           "2021-11-03",
           12.99
          ],
          [
           "pão francês",
           "2021-11-07",
           10.99
          ],
          [
           "torta",
           "2021-11-24",
           45
          ],
          [
           "bolo",
           "2021-11-29",
           35
          ],
          [
           "pão de forma",
           "2021-11-05",
           6.99
          ],
          [
           "pastel",
           "2021-11-05",
           4.99
          ],
          [
           "bolo",
           "2021-11-05",
           35
          ],
          [
           "pão de queijo",
           "2021-11-05",
           23.99
          ],
          [
           "bolo",
           "2021-11-05",
           35
          ],
          [
           "bolo",
           "2021-11-05",
           35
          ],
          [
           "bolo",
           "2021-11-12",
           35
          ],
          [
           "sanduíche",
           "2021-11-12",
           12.99
          ],
          [
           "pão de queijo",
           "2021-11-12",
           23.99
          ],
          [
           "pão francês",
           "2021-11-02",
           10.99
          ],
          [
           "pão francês",
           "2021-11-02",
           10.99
          ],
          [
           "pão francês",
           "2021-11-02",
           10.99
          ],
          [
           "sanduíche",
           "2021-11-02",
           12.99
          ],
          [
           "sonho",
           "2021-11-07",
           3.49
          ],
          [
           "pastel",
           "2021-11-07",
           4.99
          ],
          [
           "pão de forma",
           "2021-11-09",
           6.99
          ],
          [
           "pão francês",
           "2021-11-09",
           10.99
          ],
          [
           "sanduíche",
           "2021-11-09",
           12.99
          ],
          [
           "pão de queijo",
           "2021-11-09",
           23.99
          ],
          [
           "pão de forma",
           "2021-11-05",
           6.99
          ],
          [
           "pastel",
           "2021-11-05",
           4.99
          ],
          [
           "bolo",
           "2021-11-05",
           35
          ],
          [
           "sanduíche",
           "2021-11-02",
           12.99
          ],
          [
           "pão de forma",
           "2021-11-09",
           6.99
          ],
          [
           "pastel",
           "2021-11-09",
           4.99
          ],
          [
           "sonho",
           "2021-11-09",
           3.49
          ],
          [
           "pão de forma",
           "2021-11-09",
           6.99
          ],
          [
           "torta",
           "2021-11-09",
           45
          ],
          [
           "pão francês",
           "2021-11-09",
           10.99
          ]
         ],
         "hovertemplate": "Seção=Padaria<br>Nome do cliente=%{x}<br>Total da compra do produto=%{y}<br>Produto=%{customdata[0]}<br>Data=%{customdata[1]}<br>Preço do produto=%{customdata[2]}<extra></extra>",
         "legendgroup": "Padaria",
         "marker": {
          "color": "#EF553B",
          "pattern": {
           "shape": ""
          }
         },
         "name": "Padaria",
         "offsetgroup": "Padaria",
         "orientation": "v",
         "showlegend": true,
         "textposition": "auto",
         "type": "bar",
         "x": [
          "Marina Novaes",
          "Marina Novaes",
          "Marina Novaes",
          "Marina Novaes",
          "Marina Novaes",
          "Marina Novaes",
          "Marina Novaes",
          "Marina Novaes",
          "Joana Gonçalves",
          "Joana Gonçalves",
          "Joana Gonçalves",
          "Joana Gonçalves",
          "Joana Gonçalves",
          "Joana Gonçalves",
          "Joana Gonçalves",
          "Joana Gonçalves",
          "Joana Gonçalves",
          "Joana Gonçalves",
          "Joana Gonçalves",
          "Joana Gonçalves",
          "Joana Gonçalves",
          "Joana Gonçalves",
          "Joana Gonçalves",
          "Joana Gonçalves",
          "Dr. Ryan Campos",
          "Carlos Eduardo Barros",
          "Carlos Eduardo Barros",
          "Carlos Eduardo Barros",
          "Carlos Eduardo Barros",
          "Carlos Eduardo Barros",
          "Carlos Eduardo Barros",
          "Carlos Eduardo Barros",
          "Carlos Eduardo Barros",
          "Carlos Eduardo Barros",
          "Carlos Eduardo Barros",
          "Carlos Eduardo Barros",
          "Carlos Eduardo Barros",
          "Carlos Eduardo Barros",
          "Carlos Eduardo Barros",
          "Maria Fernanda Caldeira",
          "Maria Fernanda Caldeira",
          "Maria Fernanda Caldeira",
          "Maria Fernanda Caldeira",
          "Maria Fernanda Caldeira",
          "Maria Fernanda Caldeira",
          "Maria Fernanda Caldeira",
          "Maria Fernanda Caldeira",
          "Ryan Castro",
          "Ryan Castro",
          "Ryan Castro",
          "Ryan Castro",
          "Ryan Castro",
          "Ryan Castro",
          "Milena Gomes",
          "Milena Gomes",
          "Milena Gomes",
          "Milena Gomes",
          "Milena Gomes",
          "Milena Gomes",
          "Ana Correia",
          "Ana Correia",
          "Ana Correia",
          "Ana Correia",
          "Ana Correia",
          "Ana Correia",
          "Ana Correia",
          "Ana Correia",
          "Ana Correia",
          "Ana Correia",
          "Ana Correia",
          "Ana Correia",
          "Ana Correia",
          "Cauã Rezende",
          "Cauã Rezende",
          "Cauã Rezende",
          "Cauã Rezende",
          "Cauã Rezende",
          "Cauã Rezende",
          "Cauã Rezende",
          "Cauã Rezende",
          "Cauã Rezende",
          "Cauã Rezende",
          "Levi Rocha",
          "Levi Rocha",
          "Levi Rocha",
          "Levi Rocha",
          "Levi Rocha",
          "Levi Rocha"
         ],
         "xaxis": "x",
         "y": [
          13.96,
          9.98,
          4.99,
          10.47,
          27.96,
          21.98,
          70,
          38.97,
          70,
          12.99,
          70,
          35,
          10.47,
          13.98,
          27.96,
          32.97,
          32.97,
          6.99,
          51.96,
          47.98,
          27.96,
          14.97,
          90,
          38.97,
          135,
          10.47,
          135,
          43.96,
          70,
          71.97,
          13.98,
          47.98,
          20.97,
          135,
          90,
          32.97,
          43.96,
          70,
          19.96,
          27.96,
          9.98,
          180,
          140,
          13.98,
          14.97,
          105,
          12.99,
          6.98,
          3.49,
          140,
          14.97,
          140,
          35,
          3.49,
          14.97,
          38.97,
          10.99,
          45,
          140,
          13.98,
          9.98,
          70,
          71.97,
          105,
          140,
          70,
          12.99,
          71.97,
          21.98,
          43.96,
          21.98,
          51.96,
          10.47,
          4.99,
          20.97,
          10.99,
          25.98,
          23.99,
          13.98,
          4.99,
          105,
          38.97,
          13.98,
          4.99,
          6.98,
          6.99,
          45,
          32.97
         ],
         "yaxis": "y"
        },
        {
         "alignmentgroup": "True",
         "customdata": [
          [
           "macarrão",
           "2021-11-03",
           2.48
          ],
          [
           "batata",
           "2021-11-03",
           3.99
          ],
          [
           "feijão",
           "2021-11-03",
           8.45
          ],
          [
           "uva",
           "2021-11-10",
           7.47
          ],
          [
           "couve-flor",
           "2021-11-10",
           5.48
          ],
          [
           "melancia",
           "2021-11-10",
           15.99
          ],
          [
           "morango",
           "2021-11-10",
           7.99
          ],
          [
           "morango",
           "2021-11-10",
           7.99
          ],
          [
           "banana",
           "2021-11-12",
           5.99
          ],
          [
           "couve-flor",
           "2021-11-12",
           5.48
          ],
          [
           "macarrão",
           "2021-11-12",
           2.48
          ],
          [
           "feijão",
           "2021-11-12",
           8.45
          ],
          [
           "berinjela",
           "2021-11-12",
           11.99
          ],
          [
           "abobrinha",
           "2021-11-12",
           3.49
          ],
          [
           "batata",
           "2021-11-03",
           3.99
          ],
          [
           "batata",
           "2021-11-03",
           3.99
          ],
          [
           "melancia",
           "2021-11-03",
           15.99
          ],
          [
           "morango",
           "2021-11-03",
           7.99
          ],
          [
           "abobrinha",
           "2021-11-03",
           3.49
          ],
          [
           "macarrão",
           "2021-11-04",
           2.48
          ],
          [
           "berinjela",
           "2021-11-04",
           11.99
          ],
          [
           "berinjela",
           "2021-11-04",
           11.99
          ],
          [
           "banana",
           "2021-11-08",
           5.99
          ],
          [
           "morango",
           "2021-11-08",
           7.99
          ],
          [
           "berinjela",
           "2021-11-08",
           11.99
          ],
          [
           "berinjela",
           "2021-11-08",
           11.99
          ],
          [
           "abobrinha",
           "2021-11-08",
           3.49
          ],
          [
           "macarrão",
           "2021-11-02",
           2.48
          ],
          [
           "abobrinha",
           "2021-11-02",
           3.49
          ],
          [
           "couve-flor",
           "2021-11-12",
           5.48
          ],
          [
           "macarrão",
           "2021-11-12",
           2.48
          ],
          [
           "morango",
           "2021-11-12",
           7.99
          ],
          [
           "uva",
           "2021-11-13",
           7.47
          ],
          [
           "uva",
           "2021-11-13",
           7.47
          ],
          [
           "couve-flor",
           "2021-11-13",
           5.48
          ],
          [
           "macarrão",
           "2021-11-13",
           2.48
          ],
          [
           "macarrão",
           "2021-11-13",
           2.48
          ],
          [
           "batata",
           "2021-11-13",
           3.99
          ],
          [
           "alface",
           "2021-11-13",
           0.98
          ],
          [
           "arroz",
           "2021-11-13",
           4.31
          ],
          [
           "arroz",
           "2021-11-13",
           4.31
          ],
          [
           "feijão",
           "2021-11-13",
           8.45
          ],
          [
           "abobrinha",
           "2021-11-13",
           3.49
          ],
          [
           "alface",
           "2021-11-09",
           0.98
          ],
          [
           "morango",
           "2021-11-09",
           7.99
          ],
          [
           "abobrinha",
           "2021-11-09",
           3.49
          ],
          [
           "morango",
           "2021-11-13",
           7.99
          ],
          [
           "morango",
           "2021-11-13",
           7.99
          ],
          [
           "berinjela",
           "2021-11-13",
           11.99
          ],
          [
           "batata",
           "2021-11-09",
           3.99
          ],
          [
           "alface",
           "2021-11-09",
           0.98
          ],
          [
           "abobrinha",
           "2021-11-09",
           3.49
          ],
          [
           "uva",
           "2021-11-09",
           7.47
          ],
          [
           "couve-flor",
           "2021-11-09",
           5.48
          ],
          [
           "alface",
           "2021-11-09",
           0.98
          ],
          [
           "morango",
           "2021-11-09",
           7.99
          ],
          [
           "batata",
           "2021-11-13",
           3.99
          ],
          [
           "melancia",
           "2021-11-13",
           15.99
          ],
          [
           "melancia",
           "2021-11-13",
           15.99
          ],
          [
           "melancia",
           "2021-11-18",
           15.99
          ],
          [
           "berinjela",
           "2021-11-22",
           11.99
          ],
          [
           "banana",
           "2021-11-09",
           5.99
          ],
          [
           "batata",
           "2021-11-09",
           3.99
          ],
          [
           "batata",
           "2021-11-09",
           3.99
          ],
          [
           "melancia",
           "2021-11-09",
           15.99
          ],
          [
           "morango",
           "2021-11-09",
           7.99
          ],
          [
           "macarrão",
           "2021-11-12",
           2.48
          ],
          [
           "batata",
           "2021-11-12",
           3.99
          ],
          [
           "arroz",
           "2021-11-12",
           4.31
          ],
          [
           "uva",
           "2021-11-06",
           7.47
          ],
          [
           "macarrão",
           "2021-11-06",
           2.48
          ],
          [
           "banana",
           "2021-11-01",
           5.99
          ],
          [
           "couve-flor",
           "2021-11-01",
           5.48
          ],
          [
           "batata",
           "2021-11-01",
           3.99
          ],
          [
           "feijão",
           "2021-11-01",
           8.45
          ],
          [
           "banana",
           "2021-11-07",
           5.99
          ],
          [
           "alface",
           "2021-11-22",
           0.98
          ],
          [
           "banana",
           "2021-11-03",
           5.99
          ],
          [
           "feijão",
           "2021-11-03",
           8.45
          ],
          [
           "feijão",
           "2021-11-03",
           8.45
          ],
          [
           "abobrinha",
           "2021-11-03",
           3.49
          ],
          [
           "banana",
           "2021-11-07",
           5.99
          ],
          [
           "arroz",
           "2021-11-07",
           4.31
          ],
          [
           "morango",
           "2021-11-07",
           7.99
          ],
          [
           "abobrinha",
           "2021-11-07",
           3.49
          ],
          [
           "uva",
           "2021-11-21",
           7.47
          ],
          [
           "banana",
           "2021-11-14",
           5.99
          ],
          [
           "batata",
           "2021-11-14",
           3.99
          ],
          [
           "melancia",
           "2021-11-14",
           15.99
          ],
          [
           "arroz",
           "2021-11-14",
           4.31
          ],
          [
           "berinjela",
           "2021-11-14",
           11.99
          ],
          [
           "abobrinha",
           "2021-11-14",
           3.49
          ],
          [
           "melancia",
           "2021-11-05",
           15.99
          ],
          [
           "alface",
           "2021-11-05",
           0.98
          ],
          [
           "arroz",
           "2021-11-05",
           4.31
          ],
          [
           "morango",
           "2021-11-05",
           7.99
          ],
          [
           "feijão",
           "2021-11-05",
           8.45
          ],
          [
           "feijão",
           "2021-11-05",
           8.45
          ],
          [
           "berinjela",
           "2021-11-05",
           11.99
          ],
          [
           "berinjela",
           "2021-11-05",
           11.99
          ],
          [
           "abobrinha",
           "2021-11-05",
           3.49
          ],
          [
           "uva",
           "2021-11-05",
           7.47
          ],
          [
           "banana",
           "2021-11-05",
           5.99
          ],
          [
           "morango",
           "2021-11-05",
           7.99
          ],
          [
           "uva",
           "2021-11-12",
           7.47
          ],
          [
           "alface",
           "2021-11-12",
           0.98
          ],
          [
           "alface",
           "2021-11-12",
           0.98
          ],
          [
           "banana",
           "2021-11-02",
           5.99
          ],
          [
           "arroz",
           "2021-11-02",
           4.31
          ],
          [
           "morango",
           "2021-11-02",
           7.99
          ],
          [
           "macarrão",
           "2021-11-07",
           2.48
          ],
          [
           "uva",
           "2021-11-09",
           7.47
          ],
          [
           "banana",
           "2021-11-09",
           5.99
          ],
          [
           "alface",
           "2021-11-09",
           0.98
          ],
          [
           "arroz",
           "2021-11-09",
           4.31
          ],
          [
           "feijão",
           "2021-11-09",
           8.45
          ],
          [
           "feijão",
           "2021-11-09",
           8.45
          ],
          [
           "feijão",
           "2021-11-09",
           8.45
          ],
          [
           "banana",
           "2021-11-05",
           5.99
          ],
          [
           "couve-flor",
           "2021-11-05",
           5.48
          ],
          [
           "macarrão",
           "2021-11-05",
           2.48
          ],
          [
           "batata",
           "2021-11-05",
           3.99
          ],
          [
           "batata",
           "2021-11-05",
           3.99
          ],
          [
           "melancia",
           "2021-11-05",
           15.99
          ],
          [
           "melancia",
           "2021-11-05",
           15.99
          ],
          [
           "batata",
           "2021-11-02",
           3.99
          ],
          [
           "melancia",
           "2021-11-02",
           15.99
          ],
          [
           "alface",
           "2021-11-02",
           0.98
          ],
          [
           "abobrinha",
           "2021-11-02",
           3.49
          ],
          [
           "couve-flor",
           "2021-11-09",
           5.48
          ],
          [
           "alface",
           "2021-11-09",
           0.98
          ],
          [
           "alface",
           "2021-11-09",
           0.98
          ]
         ],
         "hovertemplate": "Seção=Alimentos em Geral<br>Nome do cliente=%{x}<br>Total da compra do produto=%{y}<br>Produto=%{customdata[0]}<br>Data=%{customdata[1]}<br>Preço do produto=%{customdata[2]}<extra></extra>",
         "legendgroup": "Alimentos em Geral",
         "marker": {
          "color": "#00cc96",
          "pattern": {
           "shape": ""
          }
         },
         "name": "Alimentos em Geral",
         "offsetgroup": "Alimentos em Geral",
         "orientation": "v",
         "showlegend": true,
         "textposition": "auto",
         "type": "bar",
         "x": [
          "Marina Novaes",
          "Marina Novaes",
          "Marina Novaes",
          "Marina Novaes",
          "Marina Novaes",
          "Marina Novaes",
          "Marina Novaes",
          "Marina Novaes",
          "Marina Novaes",
          "Marina Novaes",
          "Marina Novaes",
          "Marina Novaes",
          "Marina Novaes",
          "Marina Novaes",
          "Joana Gonçalves",
          "Joana Gonçalves",
          "Joana Gonçalves",
          "Joana Gonçalves",
          "Joana Gonçalves",
          "Joana Gonçalves",
          "Joana Gonçalves",
          "Joana Gonçalves",
          "Joana Gonçalves",
          "Joana Gonçalves",
          "Joana Gonçalves",
          "Joana Gonçalves",
          "Joana Gonçalves",
          "Joana Gonçalves",
          "Joana Gonçalves",
          "Joana Gonçalves",
          "Joana Gonçalves",
          "Joana Gonçalves",
          "Dr. Ryan Campos",
          "Dr. Ryan Campos",
          "Dr. Ryan Campos",
          "Dr. Ryan Campos",
          "Dr. Ryan Campos",
          "Dr. Ryan Campos",
          "Dr. Ryan Campos",
          "Dr. Ryan Campos",
          "Dr. Ryan Campos",
          "Dr. Ryan Campos",
          "Dr. Ryan Campos",
          "Dr. Ryan Campos",
          "Dr. Ryan Campos",
          "Dr. Ryan Campos",
          "Carlos Eduardo Barros",
          "Carlos Eduardo Barros",
          "Carlos Eduardo Barros",
          "Carlos Eduardo Barros",
          "Carlos Eduardo Barros",
          "Carlos Eduardo Barros",
          "Carlos Eduardo Barros",
          "Carlos Eduardo Barros",
          "Carlos Eduardo Barros",
          "Carlos Eduardo Barros",
          "Carlos Eduardo Barros",
          "Carlos Eduardo Barros",
          "Carlos Eduardo Barros",
          "Carlos Eduardo Barros",
          "Carlos Eduardo Barros",
          "Maria Fernanda Caldeira",
          "Maria Fernanda Caldeira",
          "Maria Fernanda Caldeira",
          "Maria Fernanda Caldeira",
          "Maria Fernanda Caldeira",
          "Maria Fernanda Caldeira",
          "Maria Fernanda Caldeira",
          "Maria Fernanda Caldeira",
          "Maria Fernanda Caldeira",
          "Maria Fernanda Caldeira",
          "Ryan Castro",
          "Ryan Castro",
          "Ryan Castro",
          "Ryan Castro",
          "Ryan Castro",
          "Ryan Castro",
          "Milena Gomes",
          "Milena Gomes",
          "Milena Gomes",
          "Milena Gomes",
          "Milena Gomes",
          "Milena Gomes",
          "Milena Gomes",
          "Milena Gomes",
          "Milena Gomes",
          "Milena Gomes",
          "Milena Gomes",
          "Milena Gomes",
          "Milena Gomes",
          "Milena Gomes",
          "Milena Gomes",
          "Ana Correia",
          "Ana Correia",
          "Ana Correia",
          "Ana Correia",
          "Ana Correia",
          "Ana Correia",
          "Ana Correia",
          "Ana Correia",
          "Ana Correia",
          "Ana Correia",
          "Ana Correia",
          "Ana Correia",
          "Ana Correia",
          "Ana Correia",
          "Ana Correia",
          "Ana Correia",
          "Ana Correia",
          "Ana Correia",
          "Cauã Rezende",
          "Cauã Rezende",
          "Cauã Rezende",
          "Cauã Rezende",
          "Cauã Rezende",
          "Cauã Rezende",
          "Cauã Rezende",
          "Cauã Rezende",
          "Cauã Rezende",
          "Cauã Rezende",
          "Cauã Rezende",
          "Cauã Rezende",
          "Cauã Rezende",
          "Cauã Rezende",
          "Cauã Rezende",
          "Cauã Rezende",
          "Cauã Rezende",
          "Cauã Rezende",
          "Cauã Rezende",
          "Levi Rocha",
          "Levi Rocha",
          "Levi Rocha"
         ],
         "xaxis": "x",
         "y": [
          7.4399999999999995,
          15.96,
          33.8,
          29.88,
          21.92,
          47.97,
          23.97,
          31.96,
          11.98,
          16.44,
          9.92,
          33.8,
          23.98,
          10.47,
          15.96,
          11.97,
          31.98,
          23.97,
          6.98,
          9.92,
          11.99,
          11.99,
          23.96,
          15.98,
          11.99,
          23.98,
          6.98,
          4.96,
          13.96,
          10.96,
          7.4399999999999995,
          15.98,
          29.88,
          7.47,
          5.48,
          4.96,
          2.48,
          3.99,
          0.98,
          4.31,
          4.31,
          25.349999999999998,
          3.49,
          1.96,
          15.98,
          13.96,
          31.96,
          31.96,
          23.98,
          11.97,
          3.92,
          3.49,
          22.41,
          5.48,
          0.98,
          31.96,
          3.99,
          47.97,
          47.97,
          47.97,
          23.98,
          23.96,
          7.98,
          15.96,
          63.96,
          23.97,
          4.96,
          7.98,
          8.62,
          22.41,
          7.4399999999999995,
          17.97,
          16.44,
          15.96,
          16.9,
          17.97,
          1.96,
          5.99,
          33.8,
          33.8,
          6.98,
          5.99,
          17.24,
          15.98,
          3.49,
          7.47,
          5.99,
          15.96,
          31.98,
          17.24,
          47.96,
          3.49,
          63.96,
          3.92,
          12.93,
          23.97,
          25.349999999999998,
          25.349999999999998,
          47.96,
          11.99,
          10.47,
          29.88,
          11.98,
          23.97,
          29.88,
          1.96,
          1.96,
          17.97,
          12.93,
          7.99,
          9.92,
          22.41,
          11.98,
          3.92,
          17.24,
          33.8,
          8.45,
          8.45,
          17.97,
          5.48,
          4.96,
          3.99,
          3.99,
          31.98,
          31.98,
          7.98,
          31.98,
          2.94,
          6.98,
          16.44,
          2.94,
          1.96
         ],
         "yaxis": "y"
        },
        {
         "alignmentgroup": "True",
         "customdata": [
          [
           "sabão em pó",
           "2021-11-03",
           9.69
          ],
          [
           "odorizador",
           "2021-11-03",
           23.99
          ],
          [
           "odorizador",
           "2021-11-03",
           23.99
          ],
          [
           "flanela",
           "2021-11-10",
           1.99
          ],
          [
           "amaciante",
           "2021-11-10",
           6.7
          ],
          [
           "amaciante",
           "2021-11-10",
           6.7
          ],
          [
           "odorizador",
           "2021-11-10",
           23.99
          ],
          [
           "rodo",
           "2021-11-12",
           5.99
          ],
          [
           "flanela",
           "2021-11-12",
           1.99
          ],
          [
           "sabonete",
           "2021-11-03",
           1.29
          ],
          [
           "sabonete",
           "2021-11-03",
           1.29
          ],
          [
           "rodo",
           "2021-11-04",
           5.99
          ],
          [
           "amaciante",
           "2021-11-04",
           6.7
          ],
          [
           "detergente",
           "2021-11-04",
           2.7
          ],
          [
           "sabão em pó",
           "2021-11-08",
           9.69
          ],
          [
           "rodo",
           "2021-11-02",
           5.99
          ],
          [
           "flanela",
           "2021-11-02",
           1.99
          ],
          [
           "flanela",
           "2021-11-02",
           1.99
          ],
          [
           "flanela",
           "2021-11-02",
           1.99
          ],
          [
           "detergente",
           "2021-11-02",
           2.7
          ],
          [
           "odorizador",
           "2021-11-02",
           23.99
          ],
          [
           "sabão em pó",
           "2021-11-12",
           9.69
          ],
          [
           "sabonete",
           "2021-11-13",
           1.29
          ],
          [
           "amaciante",
           "2021-11-13",
           6.7
          ],
          [
           "água sanitária",
           "2021-11-13",
           11.98
          ],
          [
           "detergente",
           "2021-11-13",
           2.7
          ],
          [
           "sabonete",
           "2021-11-09",
           1.29
          ],
          [
           "amaciante",
           "2021-11-09",
           6.7
          ],
          [
           "sabão em pó",
           "2021-11-13",
           9.69
          ],
          [
           "sabão em pó",
           "2021-11-09",
           9.69
          ],
          [
           "sabão em pó",
           "2021-11-09",
           9.69
          ],
          [
           "sabonete",
           "2021-11-09",
           1.29
          ],
          [
           "flanela",
           "2021-11-09",
           1.99
          ],
          [
           "amaciante",
           "2021-11-09",
           6.7
          ],
          [
           "detergente",
           "2021-11-09",
           2.7
          ],
          [
           "detergente",
           "2021-11-09",
           2.7
          ],
          [
           "flanela",
           "2021-11-13",
           1.99
          ],
          [
           "amaciante",
           "2021-11-13",
           6.7
          ],
          [
           "amaciante",
           "2021-11-13",
           6.7
          ],
          [
           "amaciante",
           "2021-11-13",
           6.7
          ],
          [
           "sabonete",
           "2021-11-09",
           1.29
          ],
          [
           "amaciante",
           "2021-11-09",
           6.7
          ],
          [
           "água sanitária",
           "2021-11-09",
           11.98
          ],
          [
           "odorizador",
           "2021-11-09",
           23.99
          ],
          [
           "sabonete",
           "2021-11-12",
           1.29
          ],
          [
           "sabonete",
           "2021-11-12",
           1.29
          ],
          [
           "água sanitária",
           "2021-11-12",
           11.98
          ],
          [
           "flanela",
           "2021-11-06",
           1.99
          ],
          [
           "amaciante",
           "2021-11-06",
           6.7
          ],
          [
           "sabonete",
           "2021-11-16",
           1.29
          ],
          [
           "amaciante",
           "2021-11-24",
           6.7
          ],
          [
           "rodo",
           "2021-11-01",
           5.99
          ],
          [
           "odorizador",
           "2021-11-01",
           23.99
          ],
          [
           "sabonete",
           "2021-11-07",
           1.29
          ],
          [
           "rodo",
           "2021-11-03",
           5.99
          ],
          [
           "amaciante",
           "2021-11-03",
           6.7
          ],
          [
           "amaciante",
           "2021-11-03",
           6.7
          ],
          [
           "água sanitária",
           "2021-11-03",
           11.98
          ],
          [
           "rodo",
           "2021-11-07",
           5.99
          ],
          [
           "flanela",
           "2021-11-07",
           1.99
          ],
          [
           "odorizador",
           "2021-11-07",
           23.99
          ],
          [
           "rodo",
           "2021-11-05",
           5.99
          ],
          [
           "rodo",
           "2021-11-05",
           5.99
          ],
          [
           "rodo",
           "2021-11-05",
           5.99
          ],
          [
           "rodo",
           "2021-11-05",
           5.99
          ],
          [
           "flanela",
           "2021-11-05",
           1.99
          ],
          [
           "flanela",
           "2021-11-02",
           1.99
          ],
          [
           "água sanitária",
           "2021-11-02",
           11.98
          ],
          [
           "flanela",
           "2021-11-07",
           1.99
          ],
          [
           "flanela",
           "2021-11-09",
           1.99
          ],
          [
           "água sanitária",
           "2021-11-05",
           11.98
          ],
          [
           "água sanitária",
           "2021-11-05",
           11.98
          ],
          [
           "água sanitária",
           "2021-11-05",
           11.98
          ],
          [
           "amaciante",
           "2021-11-02",
           6.7
          ],
          [
           "água sanitária",
           "2021-11-02",
           11.98
          ],
          [
           "odorizador",
           "2021-11-02",
           23.99
          ],
          [
           "odorizador",
           "2021-11-02",
           23.99
          ],
          [
           "água sanitária",
           "2021-11-28",
           11.98
          ],
          [
           "rodo",
           "2021-11-09",
           5.99
          ],
          [
           "rodo",
           "2021-11-09",
           5.99
          ],
          [
           "amaciante",
           "2021-11-09",
           6.7
          ],
          [
           "água sanitária",
           "2021-11-09",
           11.98
          ],
          [
           "água sanitária",
           "2021-11-09",
           11.98
          ],
          [
           "odorizador",
           "2021-11-09",
           23.99
          ],
          [
           "amaciante",
           "2021-11-09",
           6.7
          ]
         ],
         "hovertemplate": "Seção=Produtos de Limpeza<br>Nome do cliente=%{x}<br>Total da compra do produto=%{y}<br>Produto=%{customdata[0]}<br>Data=%{customdata[1]}<br>Preço do produto=%{customdata[2]}<extra></extra>",
         "legendgroup": "Produtos de Limpeza",
         "marker": {
          "color": "#ab63fa",
          "pattern": {
           "shape": ""
          }
         },
         "name": "Produtos de Limpeza",
         "offsetgroup": "Produtos de Limpeza",
         "orientation": "v",
         "showlegend": true,
         "textposition": "auto",
         "type": "bar",
         "x": [
          "Marina Novaes",
          "Marina Novaes",
          "Marina Novaes",
          "Marina Novaes",
          "Marina Novaes",
          "Marina Novaes",
          "Marina Novaes",
          "Marina Novaes",
          "Marina Novaes",
          "Joana Gonçalves",
          "Joana Gonçalves",
          "Joana Gonçalves",
          "Joana Gonçalves",
          "Joana Gonçalves",
          "Joana Gonçalves",
          "Joana Gonçalves",
          "Joana Gonçalves",
          "Joana Gonçalves",
          "Joana Gonçalves",
          "Joana Gonçalves",
          "Joana Gonçalves",
          "Joana Gonçalves",
          "Dr. Ryan Campos",
          "Dr. Ryan Campos",
          "Dr. Ryan Campos",
          "Dr. Ryan Campos",
          "Dr. Ryan Campos",
          "Dr. Ryan Campos",
          "Carlos Eduardo Barros",
          "Carlos Eduardo Barros",
          "Carlos Eduardo Barros",
          "Carlos Eduardo Barros",
          "Carlos Eduardo Barros",
          "Carlos Eduardo Barros",
          "Carlos Eduardo Barros",
          "Carlos Eduardo Barros",
          "Carlos Eduardo Barros",
          "Carlos Eduardo Barros",
          "Carlos Eduardo Barros",
          "Carlos Eduardo Barros",
          "Maria Fernanda Caldeira",
          "Maria Fernanda Caldeira",
          "Maria Fernanda Caldeira",
          "Maria Fernanda Caldeira",
          "Maria Fernanda Caldeira",
          "Maria Fernanda Caldeira",
          "Maria Fernanda Caldeira",
          "Maria Fernanda Caldeira",
          "Maria Fernanda Caldeira",
          "Maria Fernanda Caldeira",
          "Maria Fernanda Caldeira",
          "Ryan Castro",
          "Ryan Castro",
          "Ryan Castro",
          "Milena Gomes",
          "Milena Gomes",
          "Milena Gomes",
          "Milena Gomes",
          "Milena Gomes",
          "Milena Gomes",
          "Milena Gomes",
          "Ana Correia",
          "Ana Correia",
          "Ana Correia",
          "Ana Correia",
          "Ana Correia",
          "Ana Correia",
          "Ana Correia",
          "Cauã Rezende",
          "Cauã Rezende",
          "Cauã Rezende",
          "Cauã Rezende",
          "Cauã Rezende",
          "Cauã Rezende",
          "Cauã Rezende",
          "Cauã Rezende",
          "Cauã Rezende",
          "Cauã Rezende",
          "Levi Rocha",
          "Levi Rocha",
          "Levi Rocha",
          "Levi Rocha",
          "Levi Rocha",
          "Levi Rocha",
          "Levi Rocha"
         ],
         "xaxis": "x",
         "y": [
          29.07,
          71.97,
          95.96,
          5.97,
          20.1,
          6.7,
          95.96,
          11.98,
          5.97,
          1.29,
          1.29,
          11.98,
          13.4,
          8.100000000000001,
          29.07,
          23.96,
          7.96,
          1.99,
          7.96,
          10.8,
          71.97,
          19.38,
          1.29,
          20.1,
          11.98,
          2.7,
          5.16,
          20.1,
          38.76,
          19.38,
          29.07,
          3.87,
          5.97,
          13.4,
          10.8,
          10.8,
          1.99,
          6.7,
          26.8,
          20.1,
          1.29,
          6.7,
          11.98,
          95.96,
          5.16,
          3.87,
          35.94,
          7.96,
          13.4,
          3.87,
          20.1,
          17.97,
          23.99,
          1.29,
          23.96,
          6.7,
          13.4,
          23.96,
          5.99,
          5.97,
          71.97,
          11.98,
          23.96,
          17.97,
          5.99,
          7.96,
          3.98,
          35.94,
          5.97,
          5.97,
          35.94,
          11.98,
          47.92,
          26.8,
          47.92,
          95.96,
          71.97,
          47.92,
          5.99,
          5.99,
          13.4,
          47.92,
          23.96,
          47.98,
          13.4
         ],
         "yaxis": "y"
        }
       ],
       "layout": {
        "barmode": "stack",
        "legend": {
         "title": {
          "text": "Seção"
         },
         "tracegroupgap": 0
        },
        "margin": {
         "t": 60
        },
        "template": {
         "data": {
          "bar": [
           {
            "error_x": {
             "color": "#2a3f5f"
            },
            "error_y": {
             "color": "#2a3f5f"
            },
            "marker": {
             "line": {
              "color": "#E5ECF6",
              "width": 0.5
             },
             "pattern": {
              "fillmode": "overlay",
              "size": 10,
              "solidity": 0.2
             }
            },
            "type": "bar"
           }
          ],
          "barpolar": [
           {
            "marker": {
             "line": {
              "color": "#E5ECF6",
              "width": 0.5
             },
             "pattern": {
              "fillmode": "overlay",
              "size": 10,
              "solidity": 0.2
             }
            },
            "type": "barpolar"
           }
          ],
          "carpet": [
           {
            "aaxis": {
             "endlinecolor": "#2a3f5f",
             "gridcolor": "white",
             "linecolor": "white",
             "minorgridcolor": "white",
             "startlinecolor": "#2a3f5f"
            },
            "baxis": {
             "endlinecolor": "#2a3f5f",
             "gridcolor": "white",
             "linecolor": "white",
             "minorgridcolor": "white",
             "startlinecolor": "#2a3f5f"
            },
            "type": "carpet"
           }
          ],
          "choropleth": [
           {
            "colorbar": {
             "outlinewidth": 0,
             "ticks": ""
            },
            "type": "choropleth"
           }
          ],
          "contour": [
           {
            "colorbar": {
             "outlinewidth": 0,
             "ticks": ""
            },
            "colorscale": [
             [
              0,
              "#0d0887"
             ],
             [
              0.1111111111111111,
              "#46039f"
             ],
             [
              0.2222222222222222,
              "#7201a8"
             ],
             [
              0.3333333333333333,
              "#9c179e"
             ],
             [
              0.4444444444444444,
              "#bd3786"
             ],
             [
              0.5555555555555556,
              "#d8576b"
             ],
             [
              0.6666666666666666,
              "#ed7953"
             ],
             [
              0.7777777777777778,
              "#fb9f3a"
             ],
             [
              0.8888888888888888,
              "#fdca26"
             ],
             [
              1,
              "#f0f921"
             ]
            ],
            "type": "contour"
           }
          ],
          "contourcarpet": [
           {
            "colorbar": {
             "outlinewidth": 0,
             "ticks": ""
            },
            "type": "contourcarpet"
           }
          ],
          "heatmap": [
           {
            "colorbar": {
             "outlinewidth": 0,
             "ticks": ""
            },
            "colorscale": [
             [
              0,
              "#0d0887"
             ],
             [
              0.1111111111111111,
              "#46039f"
             ],
             [
              0.2222222222222222,
              "#7201a8"
             ],
             [
              0.3333333333333333,
              "#9c179e"
             ],
             [
              0.4444444444444444,
              "#bd3786"
             ],
             [
              0.5555555555555556,
              "#d8576b"
             ],
             [
              0.6666666666666666,
              "#ed7953"
             ],
             [
              0.7777777777777778,
              "#fb9f3a"
             ],
             [
              0.8888888888888888,
              "#fdca26"
             ],
             [
              1,
              "#f0f921"
             ]
            ],
            "type": "heatmap"
           }
          ],
          "heatmapgl": [
           {
            "colorbar": {
             "outlinewidth": 0,
             "ticks": ""
            },
            "colorscale": [
             [
              0,
              "#0d0887"
             ],
             [
              0.1111111111111111,
              "#46039f"
             ],
             [
              0.2222222222222222,
              "#7201a8"
             ],
             [
              0.3333333333333333,
              "#9c179e"
             ],
             [
              0.4444444444444444,
              "#bd3786"
             ],
             [
              0.5555555555555556,
              "#d8576b"
             ],
             [
              0.6666666666666666,
              "#ed7953"
             ],
             [
              0.7777777777777778,
              "#fb9f3a"
             ],
             [
              0.8888888888888888,
              "#fdca26"
             ],
             [
              1,
              "#f0f921"
             ]
            ],
            "type": "heatmapgl"
           }
          ],
          "histogram": [
           {
            "marker": {
             "pattern": {
              "fillmode": "overlay",
              "size": 10,
              "solidity": 0.2
             }
            },
            "type": "histogram"
           }
          ],
          "histogram2d": [
           {
            "colorbar": {
             "outlinewidth": 0,
             "ticks": ""
            },
            "colorscale": [
             [
              0,
              "#0d0887"
             ],
             [
              0.1111111111111111,
              "#46039f"
             ],
             [
              0.2222222222222222,
              "#7201a8"
             ],
             [
              0.3333333333333333,
              "#9c179e"
             ],
             [
              0.4444444444444444,
              "#bd3786"
             ],
             [
              0.5555555555555556,
              "#d8576b"
             ],
             [
              0.6666666666666666,
              "#ed7953"
             ],
             [
              0.7777777777777778,
              "#fb9f3a"
             ],
             [
              0.8888888888888888,
              "#fdca26"
             ],
             [
              1,
              "#f0f921"
             ]
            ],
            "type": "histogram2d"
           }
          ],
          "histogram2dcontour": [
           {
            "colorbar": {
             "outlinewidth": 0,
             "ticks": ""
            },
            "colorscale": [
             [
              0,
              "#0d0887"
             ],
             [
              0.1111111111111111,
              "#46039f"
             ],
             [
              0.2222222222222222,
              "#7201a8"
             ],
             [
              0.3333333333333333,
              "#9c179e"
             ],
             [
              0.4444444444444444,
              "#bd3786"
             ],
             [
              0.5555555555555556,
              "#d8576b"
             ],
             [
              0.6666666666666666,
              "#ed7953"
             ],
             [
              0.7777777777777778,
              "#fb9f3a"
             ],
             [
              0.8888888888888888,
              "#fdca26"
             ],
             [
              1,
              "#f0f921"
             ]
            ],
            "type": "histogram2dcontour"
           }
          ],
          "mesh3d": [
           {
            "colorbar": {
             "outlinewidth": 0,
             "ticks": ""
            },
            "type": "mesh3d"
           }
          ],
          "parcoords": [
           {
            "line": {
             "colorbar": {
              "outlinewidth": 0,
              "ticks": ""
             }
            },
            "type": "parcoords"
           }
          ],
          "pie": [
           {
            "automargin": true,
            "type": "pie"
           }
          ],
          "scatter": [
           {
            "marker": {
             "colorbar": {
              "outlinewidth": 0,
              "ticks": ""
             }
            },
            "type": "scatter"
           }
          ],
          "scatter3d": [
           {
            "line": {
             "colorbar": {
              "outlinewidth": 0,
              "ticks": ""
             }
            },
            "marker": {
             "colorbar": {
              "outlinewidth": 0,
              "ticks": ""
             }
            },
            "type": "scatter3d"
           }
          ],
          "scattercarpet": [
           {
            "marker": {
             "colorbar": {
              "outlinewidth": 0,
              "ticks": ""
             }
            },
            "type": "scattercarpet"
           }
          ],
          "scattergeo": [
           {
            "marker": {
             "colorbar": {
              "outlinewidth": 0,
              "ticks": ""
             }
            },
            "type": "scattergeo"
           }
          ],
          "scattergl": [
           {
            "marker": {
             "colorbar": {
              "outlinewidth": 0,
              "ticks": ""
             }
            },
            "type": "scattergl"
           }
          ],
          "scattermapbox": [
           {
            "marker": {
             "colorbar": {
              "outlinewidth": 0,
              "ticks": ""
             }
            },
            "type": "scattermapbox"
           }
          ],
          "scatterpolar": [
           {
            "marker": {
             "colorbar": {
              "outlinewidth": 0,
              "ticks": ""
             }
            },
            "type": "scatterpolar"
           }
          ],
          "scatterpolargl": [
           {
            "marker": {
             "colorbar": {
              "outlinewidth": 0,
              "ticks": ""
             }
            },
            "type": "scatterpolargl"
           }
          ],
          "scatterternary": [
           {
            "marker": {
             "colorbar": {
              "outlinewidth": 0,
              "ticks": ""
             }
            },
            "type": "scatterternary"
           }
          ],
          "surface": [
           {
            "colorbar": {
             "outlinewidth": 0,
             "ticks": ""
            },
            "colorscale": [
             [
              0,
              "#0d0887"
             ],
             [
              0.1111111111111111,
              "#46039f"
             ],
             [
              0.2222222222222222,
              "#7201a8"
             ],
             [
              0.3333333333333333,
              "#9c179e"
             ],
             [
              0.4444444444444444,
              "#bd3786"
             ],
             [
              0.5555555555555556,
              "#d8576b"
             ],
             [
              0.6666666666666666,
              "#ed7953"
             ],
             [
              0.7777777777777778,
              "#fb9f3a"
             ],
             [
              0.8888888888888888,
              "#fdca26"
             ],
             [
              1,
              "#f0f921"
             ]
            ],
            "type": "surface"
           }
          ],
          "table": [
           {
            "cells": {
             "fill": {
              "color": "#EBF0F8"
             },
             "line": {
              "color": "white"
             }
            },
            "header": {
             "fill": {
              "color": "#C8D4E3"
             },
             "line": {
              "color": "white"
             }
            },
            "type": "table"
           }
          ]
         },
         "layout": {
          "annotationdefaults": {
           "arrowcolor": "#2a3f5f",
           "arrowhead": 0,
           "arrowwidth": 1
          },
          "autotypenumbers": "strict",
          "coloraxis": {
           "colorbar": {
            "outlinewidth": 0,
            "ticks": ""
           }
          },
          "colorscale": {
           "diverging": [
            [
             0,
             "#8e0152"
            ],
            [
             0.1,
             "#c51b7d"
            ],
            [
             0.2,
             "#de77ae"
            ],
            [
             0.3,
             "#f1b6da"
            ],
            [
             0.4,
             "#fde0ef"
            ],
            [
             0.5,
             "#f7f7f7"
            ],
            [
             0.6,
             "#e6f5d0"
            ],
            [
             0.7,
             "#b8e186"
            ],
            [
             0.8,
             "#7fbc41"
            ],
            [
             0.9,
             "#4d9221"
            ],
            [
             1,
             "#276419"
            ]
           ],
           "sequential": [
            [
             0,
             "#0d0887"
            ],
            [
             0.1111111111111111,
             "#46039f"
            ],
            [
             0.2222222222222222,
             "#7201a8"
            ],
            [
             0.3333333333333333,
             "#9c179e"
            ],
            [
             0.4444444444444444,
             "#bd3786"
            ],
            [
             0.5555555555555556,
             "#d8576b"
            ],
            [
             0.6666666666666666,
             "#ed7953"
            ],
            [
             0.7777777777777778,
             "#fb9f3a"
            ],
            [
             0.8888888888888888,
             "#fdca26"
            ],
            [
             1,
             "#f0f921"
            ]
           ],
           "sequentialminus": [
            [
             0,
             "#0d0887"
            ],
            [
             0.1111111111111111,
             "#46039f"
            ],
            [
             0.2222222222222222,
             "#7201a8"
            ],
            [
             0.3333333333333333,
             "#9c179e"
            ],
            [
             0.4444444444444444,
             "#bd3786"
            ],
            [
             0.5555555555555556,
             "#d8576b"
            ],
            [
             0.6666666666666666,
             "#ed7953"
            ],
            [
             0.7777777777777778,
             "#fb9f3a"
            ],
            [
             0.8888888888888888,
             "#fdca26"
            ],
            [
             1,
             "#f0f921"
            ]
           ]
          },
          "colorway": [
           "#636efa",
           "#EF553B",
           "#00cc96",
           "#ab63fa",
           "#FFA15A",
           "#19d3f3",
           "#FF6692",
           "#B6E880",
           "#FF97FF",
           "#FECB52"
          ],
          "font": {
           "color": "#2a3f5f"
          },
          "geo": {
           "bgcolor": "white",
           "lakecolor": "white",
           "landcolor": "#E5ECF6",
           "showlakes": true,
           "showland": true,
           "subunitcolor": "white"
          },
          "hoverlabel": {
           "align": "left"
          },
          "hovermode": "closest",
          "mapbox": {
           "style": "light"
          },
          "paper_bgcolor": "white",
          "plot_bgcolor": "#E5ECF6",
          "polar": {
           "angularaxis": {
            "gridcolor": "white",
            "linecolor": "white",
            "ticks": ""
           },
           "bgcolor": "#E5ECF6",
           "radialaxis": {
            "gridcolor": "white",
            "linecolor": "white",
            "ticks": ""
           }
          },
          "scene": {
           "xaxis": {
            "backgroundcolor": "#E5ECF6",
            "gridcolor": "white",
            "gridwidth": 2,
            "linecolor": "white",
            "showbackground": true,
            "ticks": "",
            "zerolinecolor": "white"
           },
           "yaxis": {
            "backgroundcolor": "#E5ECF6",
            "gridcolor": "white",
            "gridwidth": 2,
            "linecolor": "white",
            "showbackground": true,
            "ticks": "",
            "zerolinecolor": "white"
           },
           "zaxis": {
            "backgroundcolor": "#E5ECF6",
            "gridcolor": "white",
            "gridwidth": 2,
            "linecolor": "white",
            "showbackground": true,
            "ticks": "",
            "zerolinecolor": "white"
           }
          },
          "shapedefaults": {
           "line": {
            "color": "#2a3f5f"
           }
          },
          "ternary": {
           "aaxis": {
            "gridcolor": "white",
            "linecolor": "white",
            "ticks": ""
           },
           "baxis": {
            "gridcolor": "white",
            "linecolor": "white",
            "ticks": ""
           },
           "bgcolor": "#E5ECF6",
           "caxis": {
            "gridcolor": "white",
            "linecolor": "white",
            "ticks": ""
           }
          },
          "title": {
           "x": 0.05
          },
          "xaxis": {
           "automargin": true,
           "gridcolor": "white",
           "linecolor": "white",
           "ticks": "",
           "title": {
            "standoff": 15
           },
           "zerolinecolor": "white",
           "zerolinewidth": 2
          },
          "yaxis": {
           "automargin": true,
           "gridcolor": "white",
           "linecolor": "white",
           "ticks": "",
           "title": {
            "standoff": 15
           },
           "zerolinecolor": "white",
           "zerolinewidth": 2
          }
         }
        },
        "title": {
         "text": "Os 10 clientes que mais gastam"
        },
        "xaxis": {
         "anchor": "y",
         "domain": [
          0,
          1
         ],
         "title": {
          "text": "Nome do cliente"
         }
        },
        "yaxis": {
         "anchor": "x",
         "domain": [
          0,
          1
         ],
         "title": {
          "text": "Total da compra do produto"
         }
        }
       }
      },
      "text/html": [
       "<div>                            <div id=\"565f31e7-c69e-436e-918b-e6ea0614b509\" class=\"plotly-graph-div\" style=\"height:525px; width:100%;\"></div>            <script type=\"text/javascript\">                require([\"plotly\"], function(Plotly) {                    window.PLOTLYENV=window.PLOTLYENV || {};                                    if (document.getElementById(\"565f31e7-c69e-436e-918b-e6ea0614b509\")) {                    Plotly.newPlot(                        \"565f31e7-c69e-436e-918b-e6ea0614b509\",                        [{\"alignmentgroup\":\"True\",\"customdata\":[[\"paleta su\\u00edna\",\"2021-11-03\",23.99],[\"bisteca su\\u00edna\",\"2021-11-03\",22.79],[\"peito de frango\",\"2021-11-03\",16.49],[\"carr\\u00e9 de cordeiro\",\"2021-11-03\",172.0],[\"maminha\",\"2021-11-03\",42.99],[\"maminha\",\"2021-11-03\",42.99],[\"maminha\",\"2021-11-03\",42.99],[\"alcatra\",\"2021-11-03\",31.99],[\"paleta su\\u00edna\",\"2021-11-10\",23.99],[\"bisteca su\\u00edna\",\"2021-11-10\",22.79],[\"carr\\u00e9 de cordeiro\",\"2021-11-10\",172.0],[\"alcatra\",\"2021-11-10\",31.99],[\"picanha\",\"2021-11-12\",70.89],[\"carr\\u00e9 de cordeiro\",\"2021-11-12\",172.0],[\"paleta su\\u00edna\",\"2021-11-03\",23.99],[\"paleta su\\u00edna\",\"2021-11-03\",23.99],[\"bisteca su\\u00edna\",\"2021-11-03\",22.79],[\"carr\\u00e9 de cordeiro\",\"2021-11-03\",172.0],[\"maminha\",\"2021-11-03\",42.99],[\"costela\",\"2021-11-04\",20.99],[\"peito de frango\",\"2021-11-04\",16.49],[\"maminha\",\"2021-11-04\",42.99],[\"peito de frango\",\"2021-11-08\",16.49],[\"alcatra\",\"2021-11-08\",31.99],[\"alcatra\",\"2021-11-08\",31.99],[\"picanha\",\"2021-11-02\",70.89],[\"picanha\",\"2021-11-12\",70.89],[\"picanha\",\"2021-11-12\",70.89],[\"carr\\u00e9 de cordeiro\",\"2021-11-12\",172.0],[\"carr\\u00e9 de cordeiro\",\"2021-11-12\",172.0],[\"alcatra\",\"2021-11-12\",31.99],[\"paleta su\\u00edna\",\"2021-11-13\",23.99],[\"bisteca su\\u00edna\",\"2021-11-13\",22.79],[\"carr\\u00e9 de cordeiro\",\"2021-11-13\",172.0],[\"picanha\",\"2021-11-09\",70.89],[\"peito de frango\",\"2021-11-09\",16.49],[\"carr\\u00e9 de cordeiro\",\"2021-11-09\",172.0],[\"carr\\u00e9 de cordeiro\",\"2021-11-09\",172.0],[\"costela\",\"2021-11-13\",20.99],[\"maminha\",\"2021-11-13\",42.99],[\"costela\",\"2021-11-09\",20.99],[\"picanha\",\"2021-11-09\",70.89],[\"bisteca su\\u00edna\",\"2021-11-09\",22.79],[\"peito de frango\",\"2021-11-09\",16.49],[\"bisteca su\\u00edna\",\"2021-11-09\",22.79],[\"carr\\u00e9 de cordeiro\",\"2021-11-09\",172.0],[\"maminha\",\"2021-11-09\",42.99],[\"maminha\",\"2021-11-09\",42.99],[\"paleta su\\u00edna\",\"2021-11-09\",23.99],[\"carr\\u00e9 de cordeiro\",\"2021-11-09\",172.0],[\"paleta su\\u00edna\",\"2021-11-12\",23.99],[\"peito de frango\",\"2021-11-12\",16.49],[\"carr\\u00e9 de cordeiro\",\"2021-11-06\",172.0],[\"picanha\",\"2021-11-01\",70.89],[\"picanha\",\"2021-11-01\",70.89],[\"maminha\",\"2021-11-01\",42.99],[\"maminha\",\"2021-11-01\",42.99],[\"carr\\u00e9 de cordeiro\",\"2021-11-07\",172.0],[\"carr\\u00e9 de cordeiro\",\"2021-11-07\",172.0],[\"maminha\",\"2021-11-07\",42.99],[\"maminha\",\"2021-11-07\",42.99],[\"paleta su\\u00edna\",\"2021-11-03\",23.99],[\"carr\\u00e9 de cordeiro\",\"2021-11-03\",172.0],[\"carr\\u00e9 de cordeiro\",\"2021-11-03\",172.0],[\"costela\",\"2021-11-07\",20.99],[\"picanha\",\"2021-11-07\",70.89],[\"picanha\",\"2021-11-14\",70.89],[\"paleta su\\u00edna\",\"2021-11-21\",23.99],[\"picanha\",\"2021-11-05\",70.89],[\"peito de frango\",\"2021-11-05\",16.49],[\"peito de frango\",\"2021-11-05\",16.49],[\"bisteca su\\u00edna\",\"2021-11-12\",22.79],[\"alcatra\",\"2021-11-12\",31.99],[\"alcatra\",\"2021-11-12\",31.99],[\"bisteca su\\u00edna\",\"2021-11-02\",22.79],[\"bisteca su\\u00edna\",\"2021-11-02\",22.79],[\"alcatra\",\"2021-11-02\",31.99],[\"carr\\u00e9 de cordeiro\",\"2021-11-29\",172.0],[\"paleta su\\u00edna\",\"2021-11-07\",23.99],[\"costela\",\"2021-11-07\",20.99],[\"costela\",\"2021-11-07\",20.99],[\"carr\\u00e9 de cordeiro\",\"2021-11-07\",172.0],[\"paleta su\\u00edna\",\"2021-11-09\",23.99],[\"costela\",\"2021-11-09\",20.99],[\"maminha\",\"2021-11-09\",42.99],[\"paleta su\\u00edna\",\"2021-11-05\",23.99],[\"costela\",\"2021-11-05\",20.99],[\"costela\",\"2021-11-02\",20.99],[\"picanha\",\"2021-11-02\",70.89],[\"picanha\",\"2021-11-02\",70.89],[\"bisteca su\\u00edna\",\"2021-11-02\",22.79],[\"costela\",\"2021-11-09\",20.99],[\"picanha\",\"2021-11-09\",70.89],[\"carr\\u00e9 de cordeiro\",\"2021-11-09\",172.0],[\"bisteca su\\u00edna\",\"2021-11-09\",22.79],[\"carr\\u00e9 de cordeiro\",\"2021-11-09\",172.0]],\"hovertemplate\":\"Se\\u00e7\\u00e3o=A\\u00e7ougue<br>Nome do cliente=%{x}<br>Total da compra do produto=%{y}<br>Produto=%{customdata[0]}<br>Data=%{customdata[1]}<br>Pre\\u00e7o do produto=%{customdata[2]}<extra></extra>\",\"legendgroup\":\"A\\u00e7ougue\",\"marker\":{\"color\":\"#636efa\",\"pattern\":{\"shape\":\"\"}},\"name\":\"A\\u00e7ougue\",\"offsetgroup\":\"A\\u00e7ougue\",\"orientation\":\"v\",\"showlegend\":true,\"textposition\":\"auto\",\"type\":\"bar\",\"x\":[\"Marina Novaes\",\"Marina Novaes\",\"Marina Novaes\",\"Marina Novaes\",\"Marina Novaes\",\"Marina Novaes\",\"Marina Novaes\",\"Marina Novaes\",\"Marina Novaes\",\"Marina Novaes\",\"Marina Novaes\",\"Marina Novaes\",\"Marina Novaes\",\"Marina Novaes\",\"Joana Gon\\u00e7alves\",\"Joana Gon\\u00e7alves\",\"Joana Gon\\u00e7alves\",\"Joana Gon\\u00e7alves\",\"Joana Gon\\u00e7alves\",\"Joana Gon\\u00e7alves\",\"Joana Gon\\u00e7alves\",\"Joana Gon\\u00e7alves\",\"Joana Gon\\u00e7alves\",\"Joana Gon\\u00e7alves\",\"Joana Gon\\u00e7alves\",\"Joana Gon\\u00e7alves\",\"Joana Gon\\u00e7alves\",\"Joana Gon\\u00e7alves\",\"Joana Gon\\u00e7alves\",\"Joana Gon\\u00e7alves\",\"Joana Gon\\u00e7alves\",\"Dr. Ryan Campos\",\"Dr. Ryan Campos\",\"Dr. Ryan Campos\",\"Dr. Ryan Campos\",\"Dr. Ryan Campos\",\"Dr. Ryan Campos\",\"Dr. Ryan Campos\",\"Carlos Eduardo Barros\",\"Carlos Eduardo Barros\",\"Carlos Eduardo Barros\",\"Carlos Eduardo Barros\",\"Carlos Eduardo Barros\",\"Carlos Eduardo Barros\",\"Carlos Eduardo Barros\",\"Carlos Eduardo Barros\",\"Carlos Eduardo Barros\",\"Carlos Eduardo Barros\",\"Maria Fernanda Caldeira\",\"Maria Fernanda Caldeira\",\"Maria Fernanda Caldeira\",\"Maria Fernanda Caldeira\",\"Maria Fernanda Caldeira\",\"Ryan Castro\",\"Ryan Castro\",\"Ryan Castro\",\"Ryan Castro\",\"Ryan Castro\",\"Ryan Castro\",\"Ryan Castro\",\"Ryan Castro\",\"Milena Gomes\",\"Milena Gomes\",\"Milena Gomes\",\"Milena Gomes\",\"Milena Gomes\",\"Milena Gomes\",\"Ana Correia\",\"Ana Correia\",\"Ana Correia\",\"Ana Correia\",\"Ana Correia\",\"Ana Correia\",\"Ana Correia\",\"Ana Correia\",\"Ana Correia\",\"Ana Correia\",\"Ana Correia\",\"Cau\\u00e3 Rezende\",\"Cau\\u00e3 Rezende\",\"Cau\\u00e3 Rezende\",\"Cau\\u00e3 Rezende\",\"Cau\\u00e3 Rezende\",\"Cau\\u00e3 Rezende\",\"Cau\\u00e3 Rezende\",\"Cau\\u00e3 Rezende\",\"Cau\\u00e3 Rezende\",\"Cau\\u00e3 Rezende\",\"Cau\\u00e3 Rezende\",\"Cau\\u00e3 Rezende\",\"Cau\\u00e3 Rezende\",\"Levi Rocha\",\"Levi Rocha\",\"Levi Rocha\",\"Levi Rocha\",\"Levi Rocha\"],\"xaxis\":\"x\",\"y\":[47.98,22.79,65.96,688.0,128.97,128.97,171.96,127.96,23.99,22.79,344.0,95.97,141.78,688.0,95.96,23.99,91.16,172.0,85.98,41.98,49.47,171.96,65.96,95.97,127.96,70.89,283.56,141.78,172.0,344.0,95.97,71.97,22.79,688.0,283.56,49.47,516.0,688.0,62.97,85.98,20.99,283.56,91.16,49.47,91.16,172.0,171.96,171.96,71.97,516.0,95.96,32.98,688.0,70.89,283.56,128.97,85.98,516.0,516.0,42.99,171.96,23.99,516.0,688.0,20.99,70.89,283.56,95.96,283.56,49.47,65.96,22.79,63.98,127.96,45.58,68.37,31.99,172.0,71.97,83.96,41.98,344.0,47.98,20.99,171.96,47.98,62.97,62.97,70.89,141.78,22.79,62.97,212.67000000000002,688.0,91.16,688.0],\"yaxis\":\"y\"},{\"alignmentgroup\":\"True\",\"customdata\":[[\"sonho\",\"2021-11-03\",3.49],[\"pastel\",\"2021-11-03\",4.99],[\"pastel\",\"2021-11-03\",4.99],[\"sonho\",\"2021-11-18\",3.49],[\"p\\u00e3o de forma\",\"2021-11-12\",6.99],[\"p\\u00e3o franc\\u00eas\",\"2021-11-12\",10.99],[\"bolo\",\"2021-11-12\",35.0],[\"sandu\\u00edche\",\"2021-11-12\",12.99],[\"bolo\",\"2021-11-03\",35.0],[\"sandu\\u00edche\",\"2021-11-03\",12.99],[\"bolo\",\"2021-11-04\",35.0],[\"bolo\",\"2021-11-04\",35.0],[\"sonho\",\"2021-11-08\",3.49],[\"p\\u00e3o de forma\",\"2021-11-08\",6.99],[\"p\\u00e3o de forma\",\"2021-11-08\",6.99],[\"p\\u00e3o franc\\u00eas\",\"2021-11-08\",10.99],[\"p\\u00e3o franc\\u00eas\",\"2021-11-08\",10.99],[\"p\\u00e3o de forma\",\"2021-11-02\",6.99],[\"sandu\\u00edche\",\"2021-11-02\",12.99],[\"p\\u00e3o de queijo\",\"2021-11-02\",23.99],[\"p\\u00e3o de forma\",\"2021-11-12\",6.99],[\"pastel\",\"2021-11-12\",4.99],[\"torta\",\"2021-11-12\",45.0],[\"sandu\\u00edche\",\"2021-11-12\",12.99],[\"torta\",\"2021-11-29\",45.0],[\"sonho\",\"2021-11-13\",3.49],[\"torta\",\"2021-11-13\",45.0],[\"p\\u00e3o franc\\u00eas\",\"2021-11-13\",10.99],[\"bolo\",\"2021-11-13\",35.0],[\"p\\u00e3o de queijo\",\"2021-11-13\",23.99],[\"p\\u00e3o de forma\",\"2021-11-09\",6.99],[\"p\\u00e3o de queijo\",\"2021-11-09\",23.99],[\"p\\u00e3o de forma\",\"2021-11-09\",6.99],[\"torta\",\"2021-11-09\",45.0],[\"torta\",\"2021-11-09\",45.0],[\"p\\u00e3o franc\\u00eas\",\"2021-11-09\",10.99],[\"p\\u00e3o franc\\u00eas\",\"2021-11-09\",10.99],[\"bolo\",\"2021-11-09\",35.0],[\"pastel\",\"2021-11-13\",4.99],[\"p\\u00e3o de forma\",\"2021-11-09\",6.99],[\"pastel\",\"2021-11-09\",4.99],[\"torta\",\"2021-11-09\",45.0],[\"bolo\",\"2021-11-09\",35.0],[\"p\\u00e3o de forma\",\"2021-11-12\",6.99],[\"pastel\",\"2021-11-12\",4.99],[\"bolo\",\"2021-11-12\",35.0],[\"sandu\\u00edche\",\"2021-11-25\",12.99],[\"sonho\",\"2021-11-01\",3.49],[\"sonho\",\"2021-11-01\",3.49],[\"bolo\",\"2021-11-01\",35.0],[\"pastel\",\"2021-11-07\",4.99],[\"bolo\",\"2021-11-07\",35.0],[\"bolo\",\"2021-11-07\",35.0],[\"sonho\",\"2021-11-03\",3.49],[\"pastel\",\"2021-11-03\",4.99],[\"sandu\\u00edche\",\"2021-11-03\",12.99],[\"p\\u00e3o franc\\u00eas\",\"2021-11-07\",10.99],[\"torta\",\"2021-11-24\",45.0],[\"bolo\",\"2021-11-29\",35.0],[\"p\\u00e3o de forma\",\"2021-11-05\",6.99],[\"pastel\",\"2021-11-05\",4.99],[\"bolo\",\"2021-11-05\",35.0],[\"p\\u00e3o de queijo\",\"2021-11-05\",23.99],[\"bolo\",\"2021-11-05\",35.0],[\"bolo\",\"2021-11-05\",35.0],[\"bolo\",\"2021-11-12\",35.0],[\"sandu\\u00edche\",\"2021-11-12\",12.99],[\"p\\u00e3o de queijo\",\"2021-11-12\",23.99],[\"p\\u00e3o franc\\u00eas\",\"2021-11-02\",10.99],[\"p\\u00e3o franc\\u00eas\",\"2021-11-02\",10.99],[\"p\\u00e3o franc\\u00eas\",\"2021-11-02\",10.99],[\"sandu\\u00edche\",\"2021-11-02\",12.99],[\"sonho\",\"2021-11-07\",3.49],[\"pastel\",\"2021-11-07\",4.99],[\"p\\u00e3o de forma\",\"2021-11-09\",6.99],[\"p\\u00e3o franc\\u00eas\",\"2021-11-09\",10.99],[\"sandu\\u00edche\",\"2021-11-09\",12.99],[\"p\\u00e3o de queijo\",\"2021-11-09\",23.99],[\"p\\u00e3o de forma\",\"2021-11-05\",6.99],[\"pastel\",\"2021-11-05\",4.99],[\"bolo\",\"2021-11-05\",35.0],[\"sandu\\u00edche\",\"2021-11-02\",12.99],[\"p\\u00e3o de forma\",\"2021-11-09\",6.99],[\"pastel\",\"2021-11-09\",4.99],[\"sonho\",\"2021-11-09\",3.49],[\"p\\u00e3o de forma\",\"2021-11-09\",6.99],[\"torta\",\"2021-11-09\",45.0],[\"p\\u00e3o franc\\u00eas\",\"2021-11-09\",10.99]],\"hovertemplate\":\"Se\\u00e7\\u00e3o=Padaria<br>Nome do cliente=%{x}<br>Total da compra do produto=%{y}<br>Produto=%{customdata[0]}<br>Data=%{customdata[1]}<br>Pre\\u00e7o do produto=%{customdata[2]}<extra></extra>\",\"legendgroup\":\"Padaria\",\"marker\":{\"color\":\"#EF553B\",\"pattern\":{\"shape\":\"\"}},\"name\":\"Padaria\",\"offsetgroup\":\"Padaria\",\"orientation\":\"v\",\"showlegend\":true,\"textposition\":\"auto\",\"type\":\"bar\",\"x\":[\"Marina Novaes\",\"Marina Novaes\",\"Marina Novaes\",\"Marina Novaes\",\"Marina Novaes\",\"Marina Novaes\",\"Marina Novaes\",\"Marina Novaes\",\"Joana Gon\\u00e7alves\",\"Joana Gon\\u00e7alves\",\"Joana Gon\\u00e7alves\",\"Joana Gon\\u00e7alves\",\"Joana Gon\\u00e7alves\",\"Joana Gon\\u00e7alves\",\"Joana Gon\\u00e7alves\",\"Joana Gon\\u00e7alves\",\"Joana Gon\\u00e7alves\",\"Joana Gon\\u00e7alves\",\"Joana Gon\\u00e7alves\",\"Joana Gon\\u00e7alves\",\"Joana Gon\\u00e7alves\",\"Joana Gon\\u00e7alves\",\"Joana Gon\\u00e7alves\",\"Joana Gon\\u00e7alves\",\"Dr. Ryan Campos\",\"Carlos Eduardo Barros\",\"Carlos Eduardo Barros\",\"Carlos Eduardo Barros\",\"Carlos Eduardo Barros\",\"Carlos Eduardo Barros\",\"Carlos Eduardo Barros\",\"Carlos Eduardo Barros\",\"Carlos Eduardo Barros\",\"Carlos Eduardo Barros\",\"Carlos Eduardo Barros\",\"Carlos Eduardo Barros\",\"Carlos Eduardo Barros\",\"Carlos Eduardo Barros\",\"Carlos Eduardo Barros\",\"Maria Fernanda Caldeira\",\"Maria Fernanda Caldeira\",\"Maria Fernanda Caldeira\",\"Maria Fernanda Caldeira\",\"Maria Fernanda Caldeira\",\"Maria Fernanda Caldeira\",\"Maria Fernanda Caldeira\",\"Maria Fernanda Caldeira\",\"Ryan Castro\",\"Ryan Castro\",\"Ryan Castro\",\"Ryan Castro\",\"Ryan Castro\",\"Ryan Castro\",\"Milena Gomes\",\"Milena Gomes\",\"Milena Gomes\",\"Milena Gomes\",\"Milena Gomes\",\"Milena Gomes\",\"Ana Correia\",\"Ana Correia\",\"Ana Correia\",\"Ana Correia\",\"Ana Correia\",\"Ana Correia\",\"Ana Correia\",\"Ana Correia\",\"Ana Correia\",\"Ana Correia\",\"Ana Correia\",\"Ana Correia\",\"Ana Correia\",\"Cau\\u00e3 Rezende\",\"Cau\\u00e3 Rezende\",\"Cau\\u00e3 Rezende\",\"Cau\\u00e3 Rezende\",\"Cau\\u00e3 Rezende\",\"Cau\\u00e3 Rezende\",\"Cau\\u00e3 Rezende\",\"Cau\\u00e3 Rezende\",\"Cau\\u00e3 Rezende\",\"Cau\\u00e3 Rezende\",\"Levi Rocha\",\"Levi Rocha\",\"Levi Rocha\",\"Levi Rocha\",\"Levi Rocha\",\"Levi Rocha\"],\"xaxis\":\"x\",\"y\":[13.96,9.98,4.99,10.47,27.96,21.98,70.0,38.97,70.0,12.99,70.0,35.0,10.47,13.98,27.96,32.97,32.97,6.99,51.96,47.98,27.96,14.97,90.0,38.97,135.0,10.47,135.0,43.96,70.0,71.97,13.98,47.98,20.97,135.0,90.0,32.97,43.96,70.0,19.96,27.96,9.98,180.0,140.0,13.98,14.97,105.0,12.99,6.98,3.49,140.0,14.97,140.0,35.0,3.49,14.97,38.97,10.99,45.0,140.0,13.98,9.98,70.0,71.97,105.0,140.0,70.0,12.99,71.97,21.98,43.96,21.98,51.96,10.47,4.99,20.97,10.99,25.98,23.99,13.98,4.99,105.0,38.97,13.98,4.99,6.98,6.99,45.0,32.97],\"yaxis\":\"y\"},{\"alignmentgroup\":\"True\",\"customdata\":[[\"macarr\\u00e3o\",\"2021-11-03\",2.48],[\"batata\",\"2021-11-03\",3.99],[\"feij\\u00e3o\",\"2021-11-03\",8.45],[\"uva\",\"2021-11-10\",7.47],[\"couve-flor\",\"2021-11-10\",5.48],[\"melancia\",\"2021-11-10\",15.99],[\"morango\",\"2021-11-10\",7.99],[\"morango\",\"2021-11-10\",7.99],[\"banana\",\"2021-11-12\",5.99],[\"couve-flor\",\"2021-11-12\",5.48],[\"macarr\\u00e3o\",\"2021-11-12\",2.48],[\"feij\\u00e3o\",\"2021-11-12\",8.45],[\"berinjela\",\"2021-11-12\",11.99],[\"abobrinha\",\"2021-11-12\",3.49],[\"batata\",\"2021-11-03\",3.99],[\"batata\",\"2021-11-03\",3.99],[\"melancia\",\"2021-11-03\",15.99],[\"morango\",\"2021-11-03\",7.99],[\"abobrinha\",\"2021-11-03\",3.49],[\"macarr\\u00e3o\",\"2021-11-04\",2.48],[\"berinjela\",\"2021-11-04\",11.99],[\"berinjela\",\"2021-11-04\",11.99],[\"banana\",\"2021-11-08\",5.99],[\"morango\",\"2021-11-08\",7.99],[\"berinjela\",\"2021-11-08\",11.99],[\"berinjela\",\"2021-11-08\",11.99],[\"abobrinha\",\"2021-11-08\",3.49],[\"macarr\\u00e3o\",\"2021-11-02\",2.48],[\"abobrinha\",\"2021-11-02\",3.49],[\"couve-flor\",\"2021-11-12\",5.48],[\"macarr\\u00e3o\",\"2021-11-12\",2.48],[\"morango\",\"2021-11-12\",7.99],[\"uva\",\"2021-11-13\",7.47],[\"uva\",\"2021-11-13\",7.47],[\"couve-flor\",\"2021-11-13\",5.48],[\"macarr\\u00e3o\",\"2021-11-13\",2.48],[\"macarr\\u00e3o\",\"2021-11-13\",2.48],[\"batata\",\"2021-11-13\",3.99],[\"alface\",\"2021-11-13\",0.98],[\"arroz\",\"2021-11-13\",4.31],[\"arroz\",\"2021-11-13\",4.31],[\"feij\\u00e3o\",\"2021-11-13\",8.45],[\"abobrinha\",\"2021-11-13\",3.49],[\"alface\",\"2021-11-09\",0.98],[\"morango\",\"2021-11-09\",7.99],[\"abobrinha\",\"2021-11-09\",3.49],[\"morango\",\"2021-11-13\",7.99],[\"morango\",\"2021-11-13\",7.99],[\"berinjela\",\"2021-11-13\",11.99],[\"batata\",\"2021-11-09\",3.99],[\"alface\",\"2021-11-09\",0.98],[\"abobrinha\",\"2021-11-09\",3.49],[\"uva\",\"2021-11-09\",7.47],[\"couve-flor\",\"2021-11-09\",5.48],[\"alface\",\"2021-11-09\",0.98],[\"morango\",\"2021-11-09\",7.99],[\"batata\",\"2021-11-13\",3.99],[\"melancia\",\"2021-11-13\",15.99],[\"melancia\",\"2021-11-13\",15.99],[\"melancia\",\"2021-11-18\",15.99],[\"berinjela\",\"2021-11-22\",11.99],[\"banana\",\"2021-11-09\",5.99],[\"batata\",\"2021-11-09\",3.99],[\"batata\",\"2021-11-09\",3.99],[\"melancia\",\"2021-11-09\",15.99],[\"morango\",\"2021-11-09\",7.99],[\"macarr\\u00e3o\",\"2021-11-12\",2.48],[\"batata\",\"2021-11-12\",3.99],[\"arroz\",\"2021-11-12\",4.31],[\"uva\",\"2021-11-06\",7.47],[\"macarr\\u00e3o\",\"2021-11-06\",2.48],[\"banana\",\"2021-11-01\",5.99],[\"couve-flor\",\"2021-11-01\",5.48],[\"batata\",\"2021-11-01\",3.99],[\"feij\\u00e3o\",\"2021-11-01\",8.45],[\"banana\",\"2021-11-07\",5.99],[\"alface\",\"2021-11-22\",0.98],[\"banana\",\"2021-11-03\",5.99],[\"feij\\u00e3o\",\"2021-11-03\",8.45],[\"feij\\u00e3o\",\"2021-11-03\",8.45],[\"abobrinha\",\"2021-11-03\",3.49],[\"banana\",\"2021-11-07\",5.99],[\"arroz\",\"2021-11-07\",4.31],[\"morango\",\"2021-11-07\",7.99],[\"abobrinha\",\"2021-11-07\",3.49],[\"uva\",\"2021-11-21\",7.47],[\"banana\",\"2021-11-14\",5.99],[\"batata\",\"2021-11-14\",3.99],[\"melancia\",\"2021-11-14\",15.99],[\"arroz\",\"2021-11-14\",4.31],[\"berinjela\",\"2021-11-14\",11.99],[\"abobrinha\",\"2021-11-14\",3.49],[\"melancia\",\"2021-11-05\",15.99],[\"alface\",\"2021-11-05\",0.98],[\"arroz\",\"2021-11-05\",4.31],[\"morango\",\"2021-11-05\",7.99],[\"feij\\u00e3o\",\"2021-11-05\",8.45],[\"feij\\u00e3o\",\"2021-11-05\",8.45],[\"berinjela\",\"2021-11-05\",11.99],[\"berinjela\",\"2021-11-05\",11.99],[\"abobrinha\",\"2021-11-05\",3.49],[\"uva\",\"2021-11-05\",7.47],[\"banana\",\"2021-11-05\",5.99],[\"morango\",\"2021-11-05\",7.99],[\"uva\",\"2021-11-12\",7.47],[\"alface\",\"2021-11-12\",0.98],[\"alface\",\"2021-11-12\",0.98],[\"banana\",\"2021-11-02\",5.99],[\"arroz\",\"2021-11-02\",4.31],[\"morango\",\"2021-11-02\",7.99],[\"macarr\\u00e3o\",\"2021-11-07\",2.48],[\"uva\",\"2021-11-09\",7.47],[\"banana\",\"2021-11-09\",5.99],[\"alface\",\"2021-11-09\",0.98],[\"arroz\",\"2021-11-09\",4.31],[\"feij\\u00e3o\",\"2021-11-09\",8.45],[\"feij\\u00e3o\",\"2021-11-09\",8.45],[\"feij\\u00e3o\",\"2021-11-09\",8.45],[\"banana\",\"2021-11-05\",5.99],[\"couve-flor\",\"2021-11-05\",5.48],[\"macarr\\u00e3o\",\"2021-11-05\",2.48],[\"batata\",\"2021-11-05\",3.99],[\"batata\",\"2021-11-05\",3.99],[\"melancia\",\"2021-11-05\",15.99],[\"melancia\",\"2021-11-05\",15.99],[\"batata\",\"2021-11-02\",3.99],[\"melancia\",\"2021-11-02\",15.99],[\"alface\",\"2021-11-02\",0.98],[\"abobrinha\",\"2021-11-02\",3.49],[\"couve-flor\",\"2021-11-09\",5.48],[\"alface\",\"2021-11-09\",0.98],[\"alface\",\"2021-11-09\",0.98]],\"hovertemplate\":\"Se\\u00e7\\u00e3o=Alimentos em Geral<br>Nome do cliente=%{x}<br>Total da compra do produto=%{y}<br>Produto=%{customdata[0]}<br>Data=%{customdata[1]}<br>Pre\\u00e7o do produto=%{customdata[2]}<extra></extra>\",\"legendgroup\":\"Alimentos em Geral\",\"marker\":{\"color\":\"#00cc96\",\"pattern\":{\"shape\":\"\"}},\"name\":\"Alimentos em Geral\",\"offsetgroup\":\"Alimentos em Geral\",\"orientation\":\"v\",\"showlegend\":true,\"textposition\":\"auto\",\"type\":\"bar\",\"x\":[\"Marina Novaes\",\"Marina Novaes\",\"Marina Novaes\",\"Marina Novaes\",\"Marina Novaes\",\"Marina Novaes\",\"Marina Novaes\",\"Marina Novaes\",\"Marina Novaes\",\"Marina Novaes\",\"Marina Novaes\",\"Marina Novaes\",\"Marina Novaes\",\"Marina Novaes\",\"Joana Gon\\u00e7alves\",\"Joana Gon\\u00e7alves\",\"Joana Gon\\u00e7alves\",\"Joana Gon\\u00e7alves\",\"Joana Gon\\u00e7alves\",\"Joana Gon\\u00e7alves\",\"Joana Gon\\u00e7alves\",\"Joana Gon\\u00e7alves\",\"Joana Gon\\u00e7alves\",\"Joana Gon\\u00e7alves\",\"Joana Gon\\u00e7alves\",\"Joana Gon\\u00e7alves\",\"Joana Gon\\u00e7alves\",\"Joana Gon\\u00e7alves\",\"Joana Gon\\u00e7alves\",\"Joana Gon\\u00e7alves\",\"Joana Gon\\u00e7alves\",\"Joana Gon\\u00e7alves\",\"Dr. Ryan Campos\",\"Dr. Ryan Campos\",\"Dr. Ryan Campos\",\"Dr. Ryan Campos\",\"Dr. Ryan Campos\",\"Dr. Ryan Campos\",\"Dr. Ryan Campos\",\"Dr. Ryan Campos\",\"Dr. Ryan Campos\",\"Dr. Ryan Campos\",\"Dr. Ryan Campos\",\"Dr. Ryan Campos\",\"Dr. Ryan Campos\",\"Dr. Ryan Campos\",\"Carlos Eduardo Barros\",\"Carlos Eduardo Barros\",\"Carlos Eduardo Barros\",\"Carlos Eduardo Barros\",\"Carlos Eduardo Barros\",\"Carlos Eduardo Barros\",\"Carlos Eduardo Barros\",\"Carlos Eduardo Barros\",\"Carlos Eduardo Barros\",\"Carlos Eduardo Barros\",\"Carlos Eduardo Barros\",\"Carlos Eduardo Barros\",\"Carlos Eduardo Barros\",\"Carlos Eduardo Barros\",\"Carlos Eduardo Barros\",\"Maria Fernanda Caldeira\",\"Maria Fernanda Caldeira\",\"Maria Fernanda Caldeira\",\"Maria Fernanda Caldeira\",\"Maria Fernanda Caldeira\",\"Maria Fernanda Caldeira\",\"Maria Fernanda Caldeira\",\"Maria Fernanda Caldeira\",\"Maria Fernanda Caldeira\",\"Maria Fernanda Caldeira\",\"Ryan Castro\",\"Ryan Castro\",\"Ryan Castro\",\"Ryan Castro\",\"Ryan Castro\",\"Ryan Castro\",\"Milena Gomes\",\"Milena Gomes\",\"Milena Gomes\",\"Milena Gomes\",\"Milena Gomes\",\"Milena Gomes\",\"Milena Gomes\",\"Milena Gomes\",\"Milena Gomes\",\"Milena Gomes\",\"Milena Gomes\",\"Milena Gomes\",\"Milena Gomes\",\"Milena Gomes\",\"Milena Gomes\",\"Ana Correia\",\"Ana Correia\",\"Ana Correia\",\"Ana Correia\",\"Ana Correia\",\"Ana Correia\",\"Ana Correia\",\"Ana Correia\",\"Ana Correia\",\"Ana Correia\",\"Ana Correia\",\"Ana Correia\",\"Ana Correia\",\"Ana Correia\",\"Ana Correia\",\"Ana Correia\",\"Ana Correia\",\"Ana Correia\",\"Cau\\u00e3 Rezende\",\"Cau\\u00e3 Rezende\",\"Cau\\u00e3 Rezende\",\"Cau\\u00e3 Rezende\",\"Cau\\u00e3 Rezende\",\"Cau\\u00e3 Rezende\",\"Cau\\u00e3 Rezende\",\"Cau\\u00e3 Rezende\",\"Cau\\u00e3 Rezende\",\"Cau\\u00e3 Rezende\",\"Cau\\u00e3 Rezende\",\"Cau\\u00e3 Rezende\",\"Cau\\u00e3 Rezende\",\"Cau\\u00e3 Rezende\",\"Cau\\u00e3 Rezende\",\"Cau\\u00e3 Rezende\",\"Cau\\u00e3 Rezende\",\"Cau\\u00e3 Rezende\",\"Cau\\u00e3 Rezende\",\"Levi Rocha\",\"Levi Rocha\",\"Levi Rocha\"],\"xaxis\":\"x\",\"y\":[7.4399999999999995,15.96,33.8,29.88,21.92,47.97,23.97,31.96,11.98,16.44,9.92,33.8,23.98,10.47,15.96,11.97,31.98,23.97,6.98,9.92,11.99,11.99,23.96,15.98,11.99,23.98,6.98,4.96,13.96,10.96,7.4399999999999995,15.98,29.88,7.47,5.48,4.96,2.48,3.99,0.98,4.31,4.31,25.349999999999998,3.49,1.96,15.98,13.96,31.96,31.96,23.98,11.97,3.92,3.49,22.41,5.48,0.98,31.96,3.99,47.97,47.97,47.97,23.98,23.96,7.98,15.96,63.96,23.97,4.96,7.98,8.62,22.41,7.4399999999999995,17.97,16.44,15.96,16.9,17.97,1.96,5.99,33.8,33.8,6.98,5.99,17.24,15.98,3.49,7.47,5.99,15.96,31.98,17.24,47.96,3.49,63.96,3.92,12.93,23.97,25.349999999999998,25.349999999999998,47.96,11.99,10.47,29.88,11.98,23.97,29.88,1.96,1.96,17.97,12.93,7.99,9.92,22.41,11.98,3.92,17.24,33.8,8.45,8.45,17.97,5.48,4.96,3.99,3.99,31.98,31.98,7.98,31.98,2.94,6.98,16.44,2.94,1.96],\"yaxis\":\"y\"},{\"alignmentgroup\":\"True\",\"customdata\":[[\"sab\\u00e3o em p\\u00f3\",\"2021-11-03\",9.69],[\"odorizador\",\"2021-11-03\",23.99],[\"odorizador\",\"2021-11-03\",23.99],[\"flanela\",\"2021-11-10\",1.99],[\"amaciante\",\"2021-11-10\",6.7],[\"amaciante\",\"2021-11-10\",6.7],[\"odorizador\",\"2021-11-10\",23.99],[\"rodo\",\"2021-11-12\",5.99],[\"flanela\",\"2021-11-12\",1.99],[\"sabonete\",\"2021-11-03\",1.29],[\"sabonete\",\"2021-11-03\",1.29],[\"rodo\",\"2021-11-04\",5.99],[\"amaciante\",\"2021-11-04\",6.7],[\"detergente\",\"2021-11-04\",2.7],[\"sab\\u00e3o em p\\u00f3\",\"2021-11-08\",9.69],[\"rodo\",\"2021-11-02\",5.99],[\"flanela\",\"2021-11-02\",1.99],[\"flanela\",\"2021-11-02\",1.99],[\"flanela\",\"2021-11-02\",1.99],[\"detergente\",\"2021-11-02\",2.7],[\"odorizador\",\"2021-11-02\",23.99],[\"sab\\u00e3o em p\\u00f3\",\"2021-11-12\",9.69],[\"sabonete\",\"2021-11-13\",1.29],[\"amaciante\",\"2021-11-13\",6.7],[\"\\u00e1gua sanit\\u00e1ria\",\"2021-11-13\",11.98],[\"detergente\",\"2021-11-13\",2.7],[\"sabonete\",\"2021-11-09\",1.29],[\"amaciante\",\"2021-11-09\",6.7],[\"sab\\u00e3o em p\\u00f3\",\"2021-11-13\",9.69],[\"sab\\u00e3o em p\\u00f3\",\"2021-11-09\",9.69],[\"sab\\u00e3o em p\\u00f3\",\"2021-11-09\",9.69],[\"sabonete\",\"2021-11-09\",1.29],[\"flanela\",\"2021-11-09\",1.99],[\"amaciante\",\"2021-11-09\",6.7],[\"detergente\",\"2021-11-09\",2.7],[\"detergente\",\"2021-11-09\",2.7],[\"flanela\",\"2021-11-13\",1.99],[\"amaciante\",\"2021-11-13\",6.7],[\"amaciante\",\"2021-11-13\",6.7],[\"amaciante\",\"2021-11-13\",6.7],[\"sabonete\",\"2021-11-09\",1.29],[\"amaciante\",\"2021-11-09\",6.7],[\"\\u00e1gua sanit\\u00e1ria\",\"2021-11-09\",11.98],[\"odorizador\",\"2021-11-09\",23.99],[\"sabonete\",\"2021-11-12\",1.29],[\"sabonete\",\"2021-11-12\",1.29],[\"\\u00e1gua sanit\\u00e1ria\",\"2021-11-12\",11.98],[\"flanela\",\"2021-11-06\",1.99],[\"amaciante\",\"2021-11-06\",6.7],[\"sabonete\",\"2021-11-16\",1.29],[\"amaciante\",\"2021-11-24\",6.7],[\"rodo\",\"2021-11-01\",5.99],[\"odorizador\",\"2021-11-01\",23.99],[\"sabonete\",\"2021-11-07\",1.29],[\"rodo\",\"2021-11-03\",5.99],[\"amaciante\",\"2021-11-03\",6.7],[\"amaciante\",\"2021-11-03\",6.7],[\"\\u00e1gua sanit\\u00e1ria\",\"2021-11-03\",11.98],[\"rodo\",\"2021-11-07\",5.99],[\"flanela\",\"2021-11-07\",1.99],[\"odorizador\",\"2021-11-07\",23.99],[\"rodo\",\"2021-11-05\",5.99],[\"rodo\",\"2021-11-05\",5.99],[\"rodo\",\"2021-11-05\",5.99],[\"rodo\",\"2021-11-05\",5.99],[\"flanela\",\"2021-11-05\",1.99],[\"flanela\",\"2021-11-02\",1.99],[\"\\u00e1gua sanit\\u00e1ria\",\"2021-11-02\",11.98],[\"flanela\",\"2021-11-07\",1.99],[\"flanela\",\"2021-11-09\",1.99],[\"\\u00e1gua sanit\\u00e1ria\",\"2021-11-05\",11.98],[\"\\u00e1gua sanit\\u00e1ria\",\"2021-11-05\",11.98],[\"\\u00e1gua sanit\\u00e1ria\",\"2021-11-05\",11.98],[\"amaciante\",\"2021-11-02\",6.7],[\"\\u00e1gua sanit\\u00e1ria\",\"2021-11-02\",11.98],[\"odorizador\",\"2021-11-02\",23.99],[\"odorizador\",\"2021-11-02\",23.99],[\"\\u00e1gua sanit\\u00e1ria\",\"2021-11-28\",11.98],[\"rodo\",\"2021-11-09\",5.99],[\"rodo\",\"2021-11-09\",5.99],[\"amaciante\",\"2021-11-09\",6.7],[\"\\u00e1gua sanit\\u00e1ria\",\"2021-11-09\",11.98],[\"\\u00e1gua sanit\\u00e1ria\",\"2021-11-09\",11.98],[\"odorizador\",\"2021-11-09\",23.99],[\"amaciante\",\"2021-11-09\",6.7]],\"hovertemplate\":\"Se\\u00e7\\u00e3o=Produtos de Limpeza<br>Nome do cliente=%{x}<br>Total da compra do produto=%{y}<br>Produto=%{customdata[0]}<br>Data=%{customdata[1]}<br>Pre\\u00e7o do produto=%{customdata[2]}<extra></extra>\",\"legendgroup\":\"Produtos de Limpeza\",\"marker\":{\"color\":\"#ab63fa\",\"pattern\":{\"shape\":\"\"}},\"name\":\"Produtos de Limpeza\",\"offsetgroup\":\"Produtos de Limpeza\",\"orientation\":\"v\",\"showlegend\":true,\"textposition\":\"auto\",\"type\":\"bar\",\"x\":[\"Marina Novaes\",\"Marina Novaes\",\"Marina Novaes\",\"Marina Novaes\",\"Marina Novaes\",\"Marina Novaes\",\"Marina Novaes\",\"Marina Novaes\",\"Marina Novaes\",\"Joana Gon\\u00e7alves\",\"Joana Gon\\u00e7alves\",\"Joana Gon\\u00e7alves\",\"Joana Gon\\u00e7alves\",\"Joana Gon\\u00e7alves\",\"Joana Gon\\u00e7alves\",\"Joana Gon\\u00e7alves\",\"Joana Gon\\u00e7alves\",\"Joana Gon\\u00e7alves\",\"Joana Gon\\u00e7alves\",\"Joana Gon\\u00e7alves\",\"Joana Gon\\u00e7alves\",\"Joana Gon\\u00e7alves\",\"Dr. Ryan Campos\",\"Dr. Ryan Campos\",\"Dr. Ryan Campos\",\"Dr. Ryan Campos\",\"Dr. Ryan Campos\",\"Dr. Ryan Campos\",\"Carlos Eduardo Barros\",\"Carlos Eduardo Barros\",\"Carlos Eduardo Barros\",\"Carlos Eduardo Barros\",\"Carlos Eduardo Barros\",\"Carlos Eduardo Barros\",\"Carlos Eduardo Barros\",\"Carlos Eduardo Barros\",\"Carlos Eduardo Barros\",\"Carlos Eduardo Barros\",\"Carlos Eduardo Barros\",\"Carlos Eduardo Barros\",\"Maria Fernanda Caldeira\",\"Maria Fernanda Caldeira\",\"Maria Fernanda Caldeira\",\"Maria Fernanda Caldeira\",\"Maria Fernanda Caldeira\",\"Maria Fernanda Caldeira\",\"Maria Fernanda Caldeira\",\"Maria Fernanda Caldeira\",\"Maria Fernanda Caldeira\",\"Maria Fernanda Caldeira\",\"Maria Fernanda Caldeira\",\"Ryan Castro\",\"Ryan Castro\",\"Ryan Castro\",\"Milena Gomes\",\"Milena Gomes\",\"Milena Gomes\",\"Milena Gomes\",\"Milena Gomes\",\"Milena Gomes\",\"Milena Gomes\",\"Ana Correia\",\"Ana Correia\",\"Ana Correia\",\"Ana Correia\",\"Ana Correia\",\"Ana Correia\",\"Ana Correia\",\"Cau\\u00e3 Rezende\",\"Cau\\u00e3 Rezende\",\"Cau\\u00e3 Rezende\",\"Cau\\u00e3 Rezende\",\"Cau\\u00e3 Rezende\",\"Cau\\u00e3 Rezende\",\"Cau\\u00e3 Rezende\",\"Cau\\u00e3 Rezende\",\"Cau\\u00e3 Rezende\",\"Cau\\u00e3 Rezende\",\"Levi Rocha\",\"Levi Rocha\",\"Levi Rocha\",\"Levi Rocha\",\"Levi Rocha\",\"Levi Rocha\",\"Levi Rocha\"],\"xaxis\":\"x\",\"y\":[29.07,71.97,95.96,5.97,20.1,6.7,95.96,11.98,5.97,1.29,1.29,11.98,13.4,8.100000000000001,29.07,23.96,7.96,1.99,7.96,10.8,71.97,19.38,1.29,20.1,11.98,2.7,5.16,20.1,38.76,19.38,29.07,3.87,5.97,13.4,10.8,10.8,1.99,6.7,26.8,20.1,1.29,6.7,11.98,95.96,5.16,3.87,35.94,7.96,13.4,3.87,20.1,17.97,23.99,1.29,23.96,6.7,13.4,23.96,5.99,5.97,71.97,11.98,23.96,17.97,5.99,7.96,3.98,35.94,5.97,5.97,35.94,11.98,47.92,26.8,47.92,95.96,71.97,47.92,5.99,5.99,13.4,47.92,23.96,47.98,13.4],\"yaxis\":\"y\"}],                        {\"barmode\":\"stack\",\"legend\":{\"title\":{\"text\":\"Se\\u00e7\\u00e3o\"},\"tracegroupgap\":0},\"margin\":{\"t\":60},\"template\":{\"data\":{\"bar\":[{\"error_x\":{\"color\":\"#2a3f5f\"},\"error_y\":{\"color\":\"#2a3f5f\"},\"marker\":{\"line\":{\"color\":\"#E5ECF6\",\"width\":0.5},\"pattern\":{\"fillmode\":\"overlay\",\"size\":10,\"solidity\":0.2}},\"type\":\"bar\"}],\"barpolar\":[{\"marker\":{\"line\":{\"color\":\"#E5ECF6\",\"width\":0.5},\"pattern\":{\"fillmode\":\"overlay\",\"size\":10,\"solidity\":0.2}},\"type\":\"barpolar\"}],\"carpet\":[{\"aaxis\":{\"endlinecolor\":\"#2a3f5f\",\"gridcolor\":\"white\",\"linecolor\":\"white\",\"minorgridcolor\":\"white\",\"startlinecolor\":\"#2a3f5f\"},\"baxis\":{\"endlinecolor\":\"#2a3f5f\",\"gridcolor\":\"white\",\"linecolor\":\"white\",\"minorgridcolor\":\"white\",\"startlinecolor\":\"#2a3f5f\"},\"type\":\"carpet\"}],\"choropleth\":[{\"colorbar\":{\"outlinewidth\":0,\"ticks\":\"\"},\"type\":\"choropleth\"}],\"contour\":[{\"colorbar\":{\"outlinewidth\":0,\"ticks\":\"\"},\"colorscale\":[[0.0,\"#0d0887\"],[0.1111111111111111,\"#46039f\"],[0.2222222222222222,\"#7201a8\"],[0.3333333333333333,\"#9c179e\"],[0.4444444444444444,\"#bd3786\"],[0.5555555555555556,\"#d8576b\"],[0.6666666666666666,\"#ed7953\"],[0.7777777777777778,\"#fb9f3a\"],[0.8888888888888888,\"#fdca26\"],[1.0,\"#f0f921\"]],\"type\":\"contour\"}],\"contourcarpet\":[{\"colorbar\":{\"outlinewidth\":0,\"ticks\":\"\"},\"type\":\"contourcarpet\"}],\"heatmap\":[{\"colorbar\":{\"outlinewidth\":0,\"ticks\":\"\"},\"colorscale\":[[0.0,\"#0d0887\"],[0.1111111111111111,\"#46039f\"],[0.2222222222222222,\"#7201a8\"],[0.3333333333333333,\"#9c179e\"],[0.4444444444444444,\"#bd3786\"],[0.5555555555555556,\"#d8576b\"],[0.6666666666666666,\"#ed7953\"],[0.7777777777777778,\"#fb9f3a\"],[0.8888888888888888,\"#fdca26\"],[1.0,\"#f0f921\"]],\"type\":\"heatmap\"}],\"heatmapgl\":[{\"colorbar\":{\"outlinewidth\":0,\"ticks\":\"\"},\"colorscale\":[[0.0,\"#0d0887\"],[0.1111111111111111,\"#46039f\"],[0.2222222222222222,\"#7201a8\"],[0.3333333333333333,\"#9c179e\"],[0.4444444444444444,\"#bd3786\"],[0.5555555555555556,\"#d8576b\"],[0.6666666666666666,\"#ed7953\"],[0.7777777777777778,\"#fb9f3a\"],[0.8888888888888888,\"#fdca26\"],[1.0,\"#f0f921\"]],\"type\":\"heatmapgl\"}],\"histogram\":[{\"marker\":{\"pattern\":{\"fillmode\":\"overlay\",\"size\":10,\"solidity\":0.2}},\"type\":\"histogram\"}],\"histogram2d\":[{\"colorbar\":{\"outlinewidth\":0,\"ticks\":\"\"},\"colorscale\":[[0.0,\"#0d0887\"],[0.1111111111111111,\"#46039f\"],[0.2222222222222222,\"#7201a8\"],[0.3333333333333333,\"#9c179e\"],[0.4444444444444444,\"#bd3786\"],[0.5555555555555556,\"#d8576b\"],[0.6666666666666666,\"#ed7953\"],[0.7777777777777778,\"#fb9f3a\"],[0.8888888888888888,\"#fdca26\"],[1.0,\"#f0f921\"]],\"type\":\"histogram2d\"}],\"histogram2dcontour\":[{\"colorbar\":{\"outlinewidth\":0,\"ticks\":\"\"},\"colorscale\":[[0.0,\"#0d0887\"],[0.1111111111111111,\"#46039f\"],[0.2222222222222222,\"#7201a8\"],[0.3333333333333333,\"#9c179e\"],[0.4444444444444444,\"#bd3786\"],[0.5555555555555556,\"#d8576b\"],[0.6666666666666666,\"#ed7953\"],[0.7777777777777778,\"#fb9f3a\"],[0.8888888888888888,\"#fdca26\"],[1.0,\"#f0f921\"]],\"type\":\"histogram2dcontour\"}],\"mesh3d\":[{\"colorbar\":{\"outlinewidth\":0,\"ticks\":\"\"},\"type\":\"mesh3d\"}],\"parcoords\":[{\"line\":{\"colorbar\":{\"outlinewidth\":0,\"ticks\":\"\"}},\"type\":\"parcoords\"}],\"pie\":[{\"automargin\":true,\"type\":\"pie\"}],\"scatter\":[{\"marker\":{\"colorbar\":{\"outlinewidth\":0,\"ticks\":\"\"}},\"type\":\"scatter\"}],\"scatter3d\":[{\"line\":{\"colorbar\":{\"outlinewidth\":0,\"ticks\":\"\"}},\"marker\":{\"colorbar\":{\"outlinewidth\":0,\"ticks\":\"\"}},\"type\":\"scatter3d\"}],\"scattercarpet\":[{\"marker\":{\"colorbar\":{\"outlinewidth\":0,\"ticks\":\"\"}},\"type\":\"scattercarpet\"}],\"scattergeo\":[{\"marker\":{\"colorbar\":{\"outlinewidth\":0,\"ticks\":\"\"}},\"type\":\"scattergeo\"}],\"scattergl\":[{\"marker\":{\"colorbar\":{\"outlinewidth\":0,\"ticks\":\"\"}},\"type\":\"scattergl\"}],\"scattermapbox\":[{\"marker\":{\"colorbar\":{\"outlinewidth\":0,\"ticks\":\"\"}},\"type\":\"scattermapbox\"}],\"scatterpolar\":[{\"marker\":{\"colorbar\":{\"outlinewidth\":0,\"ticks\":\"\"}},\"type\":\"scatterpolar\"}],\"scatterpolargl\":[{\"marker\":{\"colorbar\":{\"outlinewidth\":0,\"ticks\":\"\"}},\"type\":\"scatterpolargl\"}],\"scatterternary\":[{\"marker\":{\"colorbar\":{\"outlinewidth\":0,\"ticks\":\"\"}},\"type\":\"scatterternary\"}],\"surface\":[{\"colorbar\":{\"outlinewidth\":0,\"ticks\":\"\"},\"colorscale\":[[0.0,\"#0d0887\"],[0.1111111111111111,\"#46039f\"],[0.2222222222222222,\"#7201a8\"],[0.3333333333333333,\"#9c179e\"],[0.4444444444444444,\"#bd3786\"],[0.5555555555555556,\"#d8576b\"],[0.6666666666666666,\"#ed7953\"],[0.7777777777777778,\"#fb9f3a\"],[0.8888888888888888,\"#fdca26\"],[1.0,\"#f0f921\"]],\"type\":\"surface\"}],\"table\":[{\"cells\":{\"fill\":{\"color\":\"#EBF0F8\"},\"line\":{\"color\":\"white\"}},\"header\":{\"fill\":{\"color\":\"#C8D4E3\"},\"line\":{\"color\":\"white\"}},\"type\":\"table\"}]},\"layout\":{\"annotationdefaults\":{\"arrowcolor\":\"#2a3f5f\",\"arrowhead\":0,\"arrowwidth\":1},\"autotypenumbers\":\"strict\",\"coloraxis\":{\"colorbar\":{\"outlinewidth\":0,\"ticks\":\"\"}},\"colorscale\":{\"diverging\":[[0,\"#8e0152\"],[0.1,\"#c51b7d\"],[0.2,\"#de77ae\"],[0.3,\"#f1b6da\"],[0.4,\"#fde0ef\"],[0.5,\"#f7f7f7\"],[0.6,\"#e6f5d0\"],[0.7,\"#b8e186\"],[0.8,\"#7fbc41\"],[0.9,\"#4d9221\"],[1,\"#276419\"]],\"sequential\":[[0.0,\"#0d0887\"],[0.1111111111111111,\"#46039f\"],[0.2222222222222222,\"#7201a8\"],[0.3333333333333333,\"#9c179e\"],[0.4444444444444444,\"#bd3786\"],[0.5555555555555556,\"#d8576b\"],[0.6666666666666666,\"#ed7953\"],[0.7777777777777778,\"#fb9f3a\"],[0.8888888888888888,\"#fdca26\"],[1.0,\"#f0f921\"]],\"sequentialminus\":[[0.0,\"#0d0887\"],[0.1111111111111111,\"#46039f\"],[0.2222222222222222,\"#7201a8\"],[0.3333333333333333,\"#9c179e\"],[0.4444444444444444,\"#bd3786\"],[0.5555555555555556,\"#d8576b\"],[0.6666666666666666,\"#ed7953\"],[0.7777777777777778,\"#fb9f3a\"],[0.8888888888888888,\"#fdca26\"],[1.0,\"#f0f921\"]]},\"colorway\":[\"#636efa\",\"#EF553B\",\"#00cc96\",\"#ab63fa\",\"#FFA15A\",\"#19d3f3\",\"#FF6692\",\"#B6E880\",\"#FF97FF\",\"#FECB52\"],\"font\":{\"color\":\"#2a3f5f\"},\"geo\":{\"bgcolor\":\"white\",\"lakecolor\":\"white\",\"landcolor\":\"#E5ECF6\",\"showlakes\":true,\"showland\":true,\"subunitcolor\":\"white\"},\"hoverlabel\":{\"align\":\"left\"},\"hovermode\":\"closest\",\"mapbox\":{\"style\":\"light\"},\"paper_bgcolor\":\"white\",\"plot_bgcolor\":\"#E5ECF6\",\"polar\":{\"angularaxis\":{\"gridcolor\":\"white\",\"linecolor\":\"white\",\"ticks\":\"\"},\"bgcolor\":\"#E5ECF6\",\"radialaxis\":{\"gridcolor\":\"white\",\"linecolor\":\"white\",\"ticks\":\"\"}},\"scene\":{\"xaxis\":{\"backgroundcolor\":\"#E5ECF6\",\"gridcolor\":\"white\",\"gridwidth\":2,\"linecolor\":\"white\",\"showbackground\":true,\"ticks\":\"\",\"zerolinecolor\":\"white\"},\"yaxis\":{\"backgroundcolor\":\"#E5ECF6\",\"gridcolor\":\"white\",\"gridwidth\":2,\"linecolor\":\"white\",\"showbackground\":true,\"ticks\":\"\",\"zerolinecolor\":\"white\"},\"zaxis\":{\"backgroundcolor\":\"#E5ECF6\",\"gridcolor\":\"white\",\"gridwidth\":2,\"linecolor\":\"white\",\"showbackground\":true,\"ticks\":\"\",\"zerolinecolor\":\"white\"}},\"shapedefaults\":{\"line\":{\"color\":\"#2a3f5f\"}},\"ternary\":{\"aaxis\":{\"gridcolor\":\"white\",\"linecolor\":\"white\",\"ticks\":\"\"},\"baxis\":{\"gridcolor\":\"white\",\"linecolor\":\"white\",\"ticks\":\"\"},\"bgcolor\":\"#E5ECF6\",\"caxis\":{\"gridcolor\":\"white\",\"linecolor\":\"white\",\"ticks\":\"\"}},\"title\":{\"x\":0.05},\"xaxis\":{\"automargin\":true,\"gridcolor\":\"white\",\"linecolor\":\"white\",\"ticks\":\"\",\"title\":{\"standoff\":15},\"zerolinecolor\":\"white\",\"zerolinewidth\":2},\"yaxis\":{\"automargin\":true,\"gridcolor\":\"white\",\"linecolor\":\"white\",\"ticks\":\"\",\"title\":{\"standoff\":15},\"zerolinecolor\":\"white\",\"zerolinewidth\":2}}},\"title\":{\"text\":\"Os 10 clientes que mais gastam\"},\"xaxis\":{\"anchor\":\"y\",\"domain\":[0.0,1.0],\"title\":{\"text\":\"Nome do cliente\"}},\"yaxis\":{\"anchor\":\"x\",\"domain\":[0.0,1.0],\"title\":{\"text\":\"Total da compra do produto\"}}},                        {\"responsive\": true}                    ).then(function(){\n",
       "                            \n",
       "var gd = document.getElementById('565f31e7-c69e-436e-918b-e6ea0614b509');\n",
       "var x = new MutationObserver(function (mutations, observer) {{\n",
       "        var display = window.getComputedStyle(gd).display;\n",
       "        if (!display || display === 'none') {{\n",
       "            console.log([gd, 'removed!']);\n",
       "            Plotly.purge(gd);\n",
       "            observer.disconnect();\n",
       "        }}\n",
       "}});\n",
       "\n",
       "// Listen for the removal of the full notebook cells\n",
       "var notebookContainer = gd.closest('#notebook-container');\n",
       "if (notebookContainer) {{\n",
       "    x.observe(notebookContainer, {childList: true});\n",
       "}}\n",
       "\n",
       "// Listen for the clearing of the current output cell\n",
       "var outputEl = gd.closest('.output');\n",
       "if (outputEl) {{\n",
       "    x.observe(outputEl, {childList: true});\n",
       "}}\n",
       "\n",
       "                        })                };                });            </script>        </div>"
      ]
     },
     "metadata": {},
     "output_type": "display_data"
    }
   ],
   "source": [
    "fig_total_cliente = px.bar(venda_produtos_cliente_pt, x=\"nome_cliente\", y=\"total_preco\", color=\"secao\", barmode = 'stack', hover_data=['nome', 'data', 'preco'],\n",
    "             labels={\"total_preco\": \"Total da compra do produto\", \"nome_cliente\": \"Nome do cliente\", \"nome\":\"Produto\", \"data\":\"Data\", \"preco\":\"Preço do produto\", \"secao\":\"Seção\"})\n",
    "fig_total_cliente.update_layout(title = 'Os 10 clientes que mais gastam')\n",
    "fig_total_cliente.show()"
   ]
  },
  {
   "cell_type": "code",
   "execution_count": null,
   "id": "9cb92bb7",
   "metadata": {},
   "outputs": [],
   "source": []
  },
  {
   "cell_type": "code",
   "execution_count": null,
   "id": "edb1fdfb",
   "metadata": {},
   "outputs": [],
   "source": []
  },
  {
   "cell_type": "markdown",
   "id": "fda6e07d",
   "metadata": {},
   "source": [
    "## Análise tempo"
   ]
  },
  {
   "cell_type": "code",
   "execution_count": 102,
   "id": "1fb25e01",
   "metadata": {},
   "outputs": [
    {
     "data": {
      "application/vnd.plotly.v1+json": {
       "config": {
        "plotlyServerURL": "https://plot.ly"
       },
       "data": [
        {
         "hovertemplate": "Data=%{x}<br>Total gasto pelo clientes=%{y}<extra></extra>",
         "legendgroup": "",
         "line": {
          "color": "#636efa",
          "dash": "solid"
         },
         "marker": {
          "symbol": "circle"
         },
         "mode": "lines",
         "name": "",
         "orientation": "v",
         "showlegend": false,
         "type": "scatter",
         "x": [
          "2021-11-01",
          "2021-11-02",
          "2021-11-03",
          "2021-11-04",
          "2021-11-05",
          "2021-11-06",
          "2021-11-07",
          "2021-11-08",
          "2021-11-09",
          "2021-11-10",
          "2021-11-12",
          "2021-11-13",
          "2021-11-14",
          "2021-11-16",
          "2021-11-18",
          "2021-11-21",
          "2021-11-22",
          "2021-11-24",
          "2021-11-25",
          "2021-11-28",
          "2021-11-29"
         ],
         "xaxis": "x",
         "y": [
          829.1,
          1315.94,
          3745.2499999999995,
          435.79,
          1600.6200000000008,
          739.21,
          2258.9400000000005,
          520.2,
          6941.249999999994,
          771.1800000000001,
          3109.1099999999997,
          1694.0200000000002,
          406.18,
          3.87,
          58.44,
          103.42999999999999,
          25.94,
          65.1,
          12.99,
          47.92,
          447
         ],
         "yaxis": "y"
        }
       ],
       "layout": {
        "annotations": [
         {
          "arrowhead": 3,
          "ay": -40,
          "font": {
           "size": 11
          },
          "showarrow": true,
          "text": "<b>Maior pico de vendas<br> em novembro</b>",
          "x": "2021-11-08",
          "y": 1016.66
         }
        ],
        "height": 500,
        "legend": {
         "tracegroupgap": 0
        },
        "margin": {
         "t": 60
        },
        "template": {
         "data": {
          "bar": [
           {
            "error_x": {
             "color": "#2a3f5f"
            },
            "error_y": {
             "color": "#2a3f5f"
            },
            "marker": {
             "line": {
              "color": "#E5ECF6",
              "width": 0.5
             },
             "pattern": {
              "fillmode": "overlay",
              "size": 10,
              "solidity": 0.2
             }
            },
            "type": "bar"
           }
          ],
          "barpolar": [
           {
            "marker": {
             "line": {
              "color": "#E5ECF6",
              "width": 0.5
             },
             "pattern": {
              "fillmode": "overlay",
              "size": 10,
              "solidity": 0.2
             }
            },
            "type": "barpolar"
           }
          ],
          "carpet": [
           {
            "aaxis": {
             "endlinecolor": "#2a3f5f",
             "gridcolor": "white",
             "linecolor": "white",
             "minorgridcolor": "white",
             "startlinecolor": "#2a3f5f"
            },
            "baxis": {
             "endlinecolor": "#2a3f5f",
             "gridcolor": "white",
             "linecolor": "white",
             "minorgridcolor": "white",
             "startlinecolor": "#2a3f5f"
            },
            "type": "carpet"
           }
          ],
          "choropleth": [
           {
            "colorbar": {
             "outlinewidth": 0,
             "ticks": ""
            },
            "type": "choropleth"
           }
          ],
          "contour": [
           {
            "colorbar": {
             "outlinewidth": 0,
             "ticks": ""
            },
            "colorscale": [
             [
              0,
              "#0d0887"
             ],
             [
              0.1111111111111111,
              "#46039f"
             ],
             [
              0.2222222222222222,
              "#7201a8"
             ],
             [
              0.3333333333333333,
              "#9c179e"
             ],
             [
              0.4444444444444444,
              "#bd3786"
             ],
             [
              0.5555555555555556,
              "#d8576b"
             ],
             [
              0.6666666666666666,
              "#ed7953"
             ],
             [
              0.7777777777777778,
              "#fb9f3a"
             ],
             [
              0.8888888888888888,
              "#fdca26"
             ],
             [
              1,
              "#f0f921"
             ]
            ],
            "type": "contour"
           }
          ],
          "contourcarpet": [
           {
            "colorbar": {
             "outlinewidth": 0,
             "ticks": ""
            },
            "type": "contourcarpet"
           }
          ],
          "heatmap": [
           {
            "colorbar": {
             "outlinewidth": 0,
             "ticks": ""
            },
            "colorscale": [
             [
              0,
              "#0d0887"
             ],
             [
              0.1111111111111111,
              "#46039f"
             ],
             [
              0.2222222222222222,
              "#7201a8"
             ],
             [
              0.3333333333333333,
              "#9c179e"
             ],
             [
              0.4444444444444444,
              "#bd3786"
             ],
             [
              0.5555555555555556,
              "#d8576b"
             ],
             [
              0.6666666666666666,
              "#ed7953"
             ],
             [
              0.7777777777777778,
              "#fb9f3a"
             ],
             [
              0.8888888888888888,
              "#fdca26"
             ],
             [
              1,
              "#f0f921"
             ]
            ],
            "type": "heatmap"
           }
          ],
          "heatmapgl": [
           {
            "colorbar": {
             "outlinewidth": 0,
             "ticks": ""
            },
            "colorscale": [
             [
              0,
              "#0d0887"
             ],
             [
              0.1111111111111111,
              "#46039f"
             ],
             [
              0.2222222222222222,
              "#7201a8"
             ],
             [
              0.3333333333333333,
              "#9c179e"
             ],
             [
              0.4444444444444444,
              "#bd3786"
             ],
             [
              0.5555555555555556,
              "#d8576b"
             ],
             [
              0.6666666666666666,
              "#ed7953"
             ],
             [
              0.7777777777777778,
              "#fb9f3a"
             ],
             [
              0.8888888888888888,
              "#fdca26"
             ],
             [
              1,
              "#f0f921"
             ]
            ],
            "type": "heatmapgl"
           }
          ],
          "histogram": [
           {
            "marker": {
             "pattern": {
              "fillmode": "overlay",
              "size": 10,
              "solidity": 0.2
             }
            },
            "type": "histogram"
           }
          ],
          "histogram2d": [
           {
            "colorbar": {
             "outlinewidth": 0,
             "ticks": ""
            },
            "colorscale": [
             [
              0,
              "#0d0887"
             ],
             [
              0.1111111111111111,
              "#46039f"
             ],
             [
              0.2222222222222222,
              "#7201a8"
             ],
             [
              0.3333333333333333,
              "#9c179e"
             ],
             [
              0.4444444444444444,
              "#bd3786"
             ],
             [
              0.5555555555555556,
              "#d8576b"
             ],
             [
              0.6666666666666666,
              "#ed7953"
             ],
             [
              0.7777777777777778,
              "#fb9f3a"
             ],
             [
              0.8888888888888888,
              "#fdca26"
             ],
             [
              1,
              "#f0f921"
             ]
            ],
            "type": "histogram2d"
           }
          ],
          "histogram2dcontour": [
           {
            "colorbar": {
             "outlinewidth": 0,
             "ticks": ""
            },
            "colorscale": [
             [
              0,
              "#0d0887"
             ],
             [
              0.1111111111111111,
              "#46039f"
             ],
             [
              0.2222222222222222,
              "#7201a8"
             ],
             [
              0.3333333333333333,
              "#9c179e"
             ],
             [
              0.4444444444444444,
              "#bd3786"
             ],
             [
              0.5555555555555556,
              "#d8576b"
             ],
             [
              0.6666666666666666,
              "#ed7953"
             ],
             [
              0.7777777777777778,
              "#fb9f3a"
             ],
             [
              0.8888888888888888,
              "#fdca26"
             ],
             [
              1,
              "#f0f921"
             ]
            ],
            "type": "histogram2dcontour"
           }
          ],
          "mesh3d": [
           {
            "colorbar": {
             "outlinewidth": 0,
             "ticks": ""
            },
            "type": "mesh3d"
           }
          ],
          "parcoords": [
           {
            "line": {
             "colorbar": {
              "outlinewidth": 0,
              "ticks": ""
             }
            },
            "type": "parcoords"
           }
          ],
          "pie": [
           {
            "automargin": true,
            "type": "pie"
           }
          ],
          "scatter": [
           {
            "marker": {
             "colorbar": {
              "outlinewidth": 0,
              "ticks": ""
             }
            },
            "type": "scatter"
           }
          ],
          "scatter3d": [
           {
            "line": {
             "colorbar": {
              "outlinewidth": 0,
              "ticks": ""
             }
            },
            "marker": {
             "colorbar": {
              "outlinewidth": 0,
              "ticks": ""
             }
            },
            "type": "scatter3d"
           }
          ],
          "scattercarpet": [
           {
            "marker": {
             "colorbar": {
              "outlinewidth": 0,
              "ticks": ""
             }
            },
            "type": "scattercarpet"
           }
          ],
          "scattergeo": [
           {
            "marker": {
             "colorbar": {
              "outlinewidth": 0,
              "ticks": ""
             }
            },
            "type": "scattergeo"
           }
          ],
          "scattergl": [
           {
            "marker": {
             "colorbar": {
              "outlinewidth": 0,
              "ticks": ""
             }
            },
            "type": "scattergl"
           }
          ],
          "scattermapbox": [
           {
            "marker": {
             "colorbar": {
              "outlinewidth": 0,
              "ticks": ""
             }
            },
            "type": "scattermapbox"
           }
          ],
          "scatterpolar": [
           {
            "marker": {
             "colorbar": {
              "outlinewidth": 0,
              "ticks": ""
             }
            },
            "type": "scatterpolar"
           }
          ],
          "scatterpolargl": [
           {
            "marker": {
             "colorbar": {
              "outlinewidth": 0,
              "ticks": ""
             }
            },
            "type": "scatterpolargl"
           }
          ],
          "scatterternary": [
           {
            "marker": {
             "colorbar": {
              "outlinewidth": 0,
              "ticks": ""
             }
            },
            "type": "scatterternary"
           }
          ],
          "surface": [
           {
            "colorbar": {
             "outlinewidth": 0,
             "ticks": ""
            },
            "colorscale": [
             [
              0,
              "#0d0887"
             ],
             [
              0.1111111111111111,
              "#46039f"
             ],
             [
              0.2222222222222222,
              "#7201a8"
             ],
             [
              0.3333333333333333,
              "#9c179e"
             ],
             [
              0.4444444444444444,
              "#bd3786"
             ],
             [
              0.5555555555555556,
              "#d8576b"
             ],
             [
              0.6666666666666666,
              "#ed7953"
             ],
             [
              0.7777777777777778,
              "#fb9f3a"
             ],
             [
              0.8888888888888888,
              "#fdca26"
             ],
             [
              1,
              "#f0f921"
             ]
            ],
            "type": "surface"
           }
          ],
          "table": [
           {
            "cells": {
             "fill": {
              "color": "#EBF0F8"
             },
             "line": {
              "color": "white"
             }
            },
            "header": {
             "fill": {
              "color": "#C8D4E3"
             },
             "line": {
              "color": "white"
             }
            },
            "type": "table"
           }
          ]
         },
         "layout": {
          "annotationdefaults": {
           "arrowcolor": "#2a3f5f",
           "arrowhead": 0,
           "arrowwidth": 1
          },
          "autotypenumbers": "strict",
          "coloraxis": {
           "colorbar": {
            "outlinewidth": 0,
            "ticks": ""
           }
          },
          "colorscale": {
           "diverging": [
            [
             0,
             "#8e0152"
            ],
            [
             0.1,
             "#c51b7d"
            ],
            [
             0.2,
             "#de77ae"
            ],
            [
             0.3,
             "#f1b6da"
            ],
            [
             0.4,
             "#fde0ef"
            ],
            [
             0.5,
             "#f7f7f7"
            ],
            [
             0.6,
             "#e6f5d0"
            ],
            [
             0.7,
             "#b8e186"
            ],
            [
             0.8,
             "#7fbc41"
            ],
            [
             0.9,
             "#4d9221"
            ],
            [
             1,
             "#276419"
            ]
           ],
           "sequential": [
            [
             0,
             "#0d0887"
            ],
            [
             0.1111111111111111,
             "#46039f"
            ],
            [
             0.2222222222222222,
             "#7201a8"
            ],
            [
             0.3333333333333333,
             "#9c179e"
            ],
            [
             0.4444444444444444,
             "#bd3786"
            ],
            [
             0.5555555555555556,
             "#d8576b"
            ],
            [
             0.6666666666666666,
             "#ed7953"
            ],
            [
             0.7777777777777778,
             "#fb9f3a"
            ],
            [
             0.8888888888888888,
             "#fdca26"
            ],
            [
             1,
             "#f0f921"
            ]
           ],
           "sequentialminus": [
            [
             0,
             "#0d0887"
            ],
            [
             0.1111111111111111,
             "#46039f"
            ],
            [
             0.2222222222222222,
             "#7201a8"
            ],
            [
             0.3333333333333333,
             "#9c179e"
            ],
            [
             0.4444444444444444,
             "#bd3786"
            ],
            [
             0.5555555555555556,
             "#d8576b"
            ],
            [
             0.6666666666666666,
             "#ed7953"
            ],
            [
             0.7777777777777778,
             "#fb9f3a"
            ],
            [
             0.8888888888888888,
             "#fdca26"
            ],
            [
             1,
             "#f0f921"
            ]
           ]
          },
          "colorway": [
           "#636efa",
           "#EF553B",
           "#00cc96",
           "#ab63fa",
           "#FFA15A",
           "#19d3f3",
           "#FF6692",
           "#B6E880",
           "#FF97FF",
           "#FECB52"
          ],
          "font": {
           "color": "#2a3f5f"
          },
          "geo": {
           "bgcolor": "white",
           "lakecolor": "white",
           "landcolor": "#E5ECF6",
           "showlakes": true,
           "showland": true,
           "subunitcolor": "white"
          },
          "hoverlabel": {
           "align": "left"
          },
          "hovermode": "closest",
          "mapbox": {
           "style": "light"
          },
          "paper_bgcolor": "white",
          "plot_bgcolor": "#E5ECF6",
          "polar": {
           "angularaxis": {
            "gridcolor": "white",
            "linecolor": "white",
            "ticks": ""
           },
           "bgcolor": "#E5ECF6",
           "radialaxis": {
            "gridcolor": "white",
            "linecolor": "white",
            "ticks": ""
           }
          },
          "scene": {
           "xaxis": {
            "backgroundcolor": "#E5ECF6",
            "gridcolor": "white",
            "gridwidth": 2,
            "linecolor": "white",
            "showbackground": true,
            "ticks": "",
            "zerolinecolor": "white"
           },
           "yaxis": {
            "backgroundcolor": "#E5ECF6",
            "gridcolor": "white",
            "gridwidth": 2,
            "linecolor": "white",
            "showbackground": true,
            "ticks": "",
            "zerolinecolor": "white"
           },
           "zaxis": {
            "backgroundcolor": "#E5ECF6",
            "gridcolor": "white",
            "gridwidth": 2,
            "linecolor": "white",
            "showbackground": true,
            "ticks": "",
            "zerolinecolor": "white"
           }
          },
          "shapedefaults": {
           "line": {
            "color": "#2a3f5f"
           }
          },
          "ternary": {
           "aaxis": {
            "gridcolor": "white",
            "linecolor": "white",
            "ticks": ""
           },
           "baxis": {
            "gridcolor": "white",
            "linecolor": "white",
            "ticks": ""
           },
           "bgcolor": "#E5ECF6",
           "caxis": {
            "gridcolor": "white",
            "linecolor": "white",
            "ticks": ""
           }
          },
          "title": {
           "x": 0.05
          },
          "xaxis": {
           "automargin": true,
           "gridcolor": "white",
           "linecolor": "white",
           "ticks": "",
           "title": {
            "standoff": 15
           },
           "zerolinecolor": "white",
           "zerolinewidth": 2
          },
          "yaxis": {
           "automargin": true,
           "gridcolor": "white",
           "linecolor": "white",
           "ticks": "",
           "title": {
            "standoff": 15
           },
           "zerolinecolor": "white",
           "zerolinewidth": 2
          }
         }
        },
        "width": 800,
        "xaxis": {
         "anchor": "y",
         "domain": [
          0,
          1
         ],
         "title": {
          "text": "Data"
         }
        },
        "yaxis": {
         "anchor": "x",
         "domain": [
          0,
          1
         ],
         "title": {
          "text": "Total gasto pelo clientes"
         }
        }
       }
      },
      "text/html": [
       "<div>                            <div id=\"a9fabe5e-4280-4050-b84b-e61a5ce263b8\" class=\"plotly-graph-div\" style=\"height:500px; width:800px;\"></div>            <script type=\"text/javascript\">                require([\"plotly\"], function(Plotly) {                    window.PLOTLYENV=window.PLOTLYENV || {};                                    if (document.getElementById(\"a9fabe5e-4280-4050-b84b-e61a5ce263b8\")) {                    Plotly.newPlot(                        \"a9fabe5e-4280-4050-b84b-e61a5ce263b8\",                        [{\"hovertemplate\":\"Data=%{x}<br>Total gasto pelo clientes=%{y}<extra></extra>\",\"legendgroup\":\"\",\"line\":{\"color\":\"#636efa\",\"dash\":\"solid\"},\"marker\":{\"symbol\":\"circle\"},\"mode\":\"lines\",\"name\":\"\",\"orientation\":\"v\",\"showlegend\":false,\"type\":\"scatter\",\"x\":[\"2021-11-01\",\"2021-11-02\",\"2021-11-03\",\"2021-11-04\",\"2021-11-05\",\"2021-11-06\",\"2021-11-07\",\"2021-11-08\",\"2021-11-09\",\"2021-11-10\",\"2021-11-12\",\"2021-11-13\",\"2021-11-14\",\"2021-11-16\",\"2021-11-18\",\"2021-11-21\",\"2021-11-22\",\"2021-11-24\",\"2021-11-25\",\"2021-11-28\",\"2021-11-29\"],\"xaxis\":\"x\",\"y\":[829.1,1315.94,3745.2499999999995,435.79,1600.6200000000008,739.21,2258.9400000000005,520.2,6941.249999999994,771.1800000000001,3109.1099999999997,1694.0200000000002,406.18,3.87,58.44,103.42999999999999,25.94,65.1,12.99,47.92,447.0],\"yaxis\":\"y\"}],                        {\"annotations\":[{\"arrowhead\":3,\"ay\":-40,\"font\":{\"size\":11},\"showarrow\":true,\"text\":\"<b>Maior pico de vendas<br> em novembro</b>\",\"x\":\"2021-11-08\",\"y\":1016.66}],\"height\":500,\"legend\":{\"tracegroupgap\":0},\"margin\":{\"t\":60},\"template\":{\"data\":{\"bar\":[{\"error_x\":{\"color\":\"#2a3f5f\"},\"error_y\":{\"color\":\"#2a3f5f\"},\"marker\":{\"line\":{\"color\":\"#E5ECF6\",\"width\":0.5},\"pattern\":{\"fillmode\":\"overlay\",\"size\":10,\"solidity\":0.2}},\"type\":\"bar\"}],\"barpolar\":[{\"marker\":{\"line\":{\"color\":\"#E5ECF6\",\"width\":0.5},\"pattern\":{\"fillmode\":\"overlay\",\"size\":10,\"solidity\":0.2}},\"type\":\"barpolar\"}],\"carpet\":[{\"aaxis\":{\"endlinecolor\":\"#2a3f5f\",\"gridcolor\":\"white\",\"linecolor\":\"white\",\"minorgridcolor\":\"white\",\"startlinecolor\":\"#2a3f5f\"},\"baxis\":{\"endlinecolor\":\"#2a3f5f\",\"gridcolor\":\"white\",\"linecolor\":\"white\",\"minorgridcolor\":\"white\",\"startlinecolor\":\"#2a3f5f\"},\"type\":\"carpet\"}],\"choropleth\":[{\"colorbar\":{\"outlinewidth\":0,\"ticks\":\"\"},\"type\":\"choropleth\"}],\"contour\":[{\"colorbar\":{\"outlinewidth\":0,\"ticks\":\"\"},\"colorscale\":[[0.0,\"#0d0887\"],[0.1111111111111111,\"#46039f\"],[0.2222222222222222,\"#7201a8\"],[0.3333333333333333,\"#9c179e\"],[0.4444444444444444,\"#bd3786\"],[0.5555555555555556,\"#d8576b\"],[0.6666666666666666,\"#ed7953\"],[0.7777777777777778,\"#fb9f3a\"],[0.8888888888888888,\"#fdca26\"],[1.0,\"#f0f921\"]],\"type\":\"contour\"}],\"contourcarpet\":[{\"colorbar\":{\"outlinewidth\":0,\"ticks\":\"\"},\"type\":\"contourcarpet\"}],\"heatmap\":[{\"colorbar\":{\"outlinewidth\":0,\"ticks\":\"\"},\"colorscale\":[[0.0,\"#0d0887\"],[0.1111111111111111,\"#46039f\"],[0.2222222222222222,\"#7201a8\"],[0.3333333333333333,\"#9c179e\"],[0.4444444444444444,\"#bd3786\"],[0.5555555555555556,\"#d8576b\"],[0.6666666666666666,\"#ed7953\"],[0.7777777777777778,\"#fb9f3a\"],[0.8888888888888888,\"#fdca26\"],[1.0,\"#f0f921\"]],\"type\":\"heatmap\"}],\"heatmapgl\":[{\"colorbar\":{\"outlinewidth\":0,\"ticks\":\"\"},\"colorscale\":[[0.0,\"#0d0887\"],[0.1111111111111111,\"#46039f\"],[0.2222222222222222,\"#7201a8\"],[0.3333333333333333,\"#9c179e\"],[0.4444444444444444,\"#bd3786\"],[0.5555555555555556,\"#d8576b\"],[0.6666666666666666,\"#ed7953\"],[0.7777777777777778,\"#fb9f3a\"],[0.8888888888888888,\"#fdca26\"],[1.0,\"#f0f921\"]],\"type\":\"heatmapgl\"}],\"histogram\":[{\"marker\":{\"pattern\":{\"fillmode\":\"overlay\",\"size\":10,\"solidity\":0.2}},\"type\":\"histogram\"}],\"histogram2d\":[{\"colorbar\":{\"outlinewidth\":0,\"ticks\":\"\"},\"colorscale\":[[0.0,\"#0d0887\"],[0.1111111111111111,\"#46039f\"],[0.2222222222222222,\"#7201a8\"],[0.3333333333333333,\"#9c179e\"],[0.4444444444444444,\"#bd3786\"],[0.5555555555555556,\"#d8576b\"],[0.6666666666666666,\"#ed7953\"],[0.7777777777777778,\"#fb9f3a\"],[0.8888888888888888,\"#fdca26\"],[1.0,\"#f0f921\"]],\"type\":\"histogram2d\"}],\"histogram2dcontour\":[{\"colorbar\":{\"outlinewidth\":0,\"ticks\":\"\"},\"colorscale\":[[0.0,\"#0d0887\"],[0.1111111111111111,\"#46039f\"],[0.2222222222222222,\"#7201a8\"],[0.3333333333333333,\"#9c179e\"],[0.4444444444444444,\"#bd3786\"],[0.5555555555555556,\"#d8576b\"],[0.6666666666666666,\"#ed7953\"],[0.7777777777777778,\"#fb9f3a\"],[0.8888888888888888,\"#fdca26\"],[1.0,\"#f0f921\"]],\"type\":\"histogram2dcontour\"}],\"mesh3d\":[{\"colorbar\":{\"outlinewidth\":0,\"ticks\":\"\"},\"type\":\"mesh3d\"}],\"parcoords\":[{\"line\":{\"colorbar\":{\"outlinewidth\":0,\"ticks\":\"\"}},\"type\":\"parcoords\"}],\"pie\":[{\"automargin\":true,\"type\":\"pie\"}],\"scatter\":[{\"marker\":{\"colorbar\":{\"outlinewidth\":0,\"ticks\":\"\"}},\"type\":\"scatter\"}],\"scatter3d\":[{\"line\":{\"colorbar\":{\"outlinewidth\":0,\"ticks\":\"\"}},\"marker\":{\"colorbar\":{\"outlinewidth\":0,\"ticks\":\"\"}},\"type\":\"scatter3d\"}],\"scattercarpet\":[{\"marker\":{\"colorbar\":{\"outlinewidth\":0,\"ticks\":\"\"}},\"type\":\"scattercarpet\"}],\"scattergeo\":[{\"marker\":{\"colorbar\":{\"outlinewidth\":0,\"ticks\":\"\"}},\"type\":\"scattergeo\"}],\"scattergl\":[{\"marker\":{\"colorbar\":{\"outlinewidth\":0,\"ticks\":\"\"}},\"type\":\"scattergl\"}],\"scattermapbox\":[{\"marker\":{\"colorbar\":{\"outlinewidth\":0,\"ticks\":\"\"}},\"type\":\"scattermapbox\"}],\"scatterpolar\":[{\"marker\":{\"colorbar\":{\"outlinewidth\":0,\"ticks\":\"\"}},\"type\":\"scatterpolar\"}],\"scatterpolargl\":[{\"marker\":{\"colorbar\":{\"outlinewidth\":0,\"ticks\":\"\"}},\"type\":\"scatterpolargl\"}],\"scatterternary\":[{\"marker\":{\"colorbar\":{\"outlinewidth\":0,\"ticks\":\"\"}},\"type\":\"scatterternary\"}],\"surface\":[{\"colorbar\":{\"outlinewidth\":0,\"ticks\":\"\"},\"colorscale\":[[0.0,\"#0d0887\"],[0.1111111111111111,\"#46039f\"],[0.2222222222222222,\"#7201a8\"],[0.3333333333333333,\"#9c179e\"],[0.4444444444444444,\"#bd3786\"],[0.5555555555555556,\"#d8576b\"],[0.6666666666666666,\"#ed7953\"],[0.7777777777777778,\"#fb9f3a\"],[0.8888888888888888,\"#fdca26\"],[1.0,\"#f0f921\"]],\"type\":\"surface\"}],\"table\":[{\"cells\":{\"fill\":{\"color\":\"#EBF0F8\"},\"line\":{\"color\":\"white\"}},\"header\":{\"fill\":{\"color\":\"#C8D4E3\"},\"line\":{\"color\":\"white\"}},\"type\":\"table\"}]},\"layout\":{\"annotationdefaults\":{\"arrowcolor\":\"#2a3f5f\",\"arrowhead\":0,\"arrowwidth\":1},\"autotypenumbers\":\"strict\",\"coloraxis\":{\"colorbar\":{\"outlinewidth\":0,\"ticks\":\"\"}},\"colorscale\":{\"diverging\":[[0,\"#8e0152\"],[0.1,\"#c51b7d\"],[0.2,\"#de77ae\"],[0.3,\"#f1b6da\"],[0.4,\"#fde0ef\"],[0.5,\"#f7f7f7\"],[0.6,\"#e6f5d0\"],[0.7,\"#b8e186\"],[0.8,\"#7fbc41\"],[0.9,\"#4d9221\"],[1,\"#276419\"]],\"sequential\":[[0.0,\"#0d0887\"],[0.1111111111111111,\"#46039f\"],[0.2222222222222222,\"#7201a8\"],[0.3333333333333333,\"#9c179e\"],[0.4444444444444444,\"#bd3786\"],[0.5555555555555556,\"#d8576b\"],[0.6666666666666666,\"#ed7953\"],[0.7777777777777778,\"#fb9f3a\"],[0.8888888888888888,\"#fdca26\"],[1.0,\"#f0f921\"]],\"sequentialminus\":[[0.0,\"#0d0887\"],[0.1111111111111111,\"#46039f\"],[0.2222222222222222,\"#7201a8\"],[0.3333333333333333,\"#9c179e\"],[0.4444444444444444,\"#bd3786\"],[0.5555555555555556,\"#d8576b\"],[0.6666666666666666,\"#ed7953\"],[0.7777777777777778,\"#fb9f3a\"],[0.8888888888888888,\"#fdca26\"],[1.0,\"#f0f921\"]]},\"colorway\":[\"#636efa\",\"#EF553B\",\"#00cc96\",\"#ab63fa\",\"#FFA15A\",\"#19d3f3\",\"#FF6692\",\"#B6E880\",\"#FF97FF\",\"#FECB52\"],\"font\":{\"color\":\"#2a3f5f\"},\"geo\":{\"bgcolor\":\"white\",\"lakecolor\":\"white\",\"landcolor\":\"#E5ECF6\",\"showlakes\":true,\"showland\":true,\"subunitcolor\":\"white\"},\"hoverlabel\":{\"align\":\"left\"},\"hovermode\":\"closest\",\"mapbox\":{\"style\":\"light\"},\"paper_bgcolor\":\"white\",\"plot_bgcolor\":\"#E5ECF6\",\"polar\":{\"angularaxis\":{\"gridcolor\":\"white\",\"linecolor\":\"white\",\"ticks\":\"\"},\"bgcolor\":\"#E5ECF6\",\"radialaxis\":{\"gridcolor\":\"white\",\"linecolor\":\"white\",\"ticks\":\"\"}},\"scene\":{\"xaxis\":{\"backgroundcolor\":\"#E5ECF6\",\"gridcolor\":\"white\",\"gridwidth\":2,\"linecolor\":\"white\",\"showbackground\":true,\"ticks\":\"\",\"zerolinecolor\":\"white\"},\"yaxis\":{\"backgroundcolor\":\"#E5ECF6\",\"gridcolor\":\"white\",\"gridwidth\":2,\"linecolor\":\"white\",\"showbackground\":true,\"ticks\":\"\",\"zerolinecolor\":\"white\"},\"zaxis\":{\"backgroundcolor\":\"#E5ECF6\",\"gridcolor\":\"white\",\"gridwidth\":2,\"linecolor\":\"white\",\"showbackground\":true,\"ticks\":\"\",\"zerolinecolor\":\"white\"}},\"shapedefaults\":{\"line\":{\"color\":\"#2a3f5f\"}},\"ternary\":{\"aaxis\":{\"gridcolor\":\"white\",\"linecolor\":\"white\",\"ticks\":\"\"},\"baxis\":{\"gridcolor\":\"white\",\"linecolor\":\"white\",\"ticks\":\"\"},\"bgcolor\":\"#E5ECF6\",\"caxis\":{\"gridcolor\":\"white\",\"linecolor\":\"white\",\"ticks\":\"\"}},\"title\":{\"x\":0.05},\"xaxis\":{\"automargin\":true,\"gridcolor\":\"white\",\"linecolor\":\"white\",\"ticks\":\"\",\"title\":{\"standoff\":15},\"zerolinecolor\":\"white\",\"zerolinewidth\":2},\"yaxis\":{\"automargin\":true,\"gridcolor\":\"white\",\"linecolor\":\"white\",\"ticks\":\"\",\"title\":{\"standoff\":15},\"zerolinecolor\":\"white\",\"zerolinewidth\":2}}},\"width\":800,\"xaxis\":{\"anchor\":\"y\",\"domain\":[0.0,1.0],\"title\":{\"text\":\"Data\"}},\"yaxis\":{\"anchor\":\"x\",\"domain\":[0.0,1.0],\"title\":{\"text\":\"Total gasto pelo clientes\"}}},                        {\"responsive\": true}                    ).then(function(){\n",
       "                            \n",
       "var gd = document.getElementById('a9fabe5e-4280-4050-b84b-e61a5ce263b8');\n",
       "var x = new MutationObserver(function (mutations, observer) {{\n",
       "        var display = window.getComputedStyle(gd).display;\n",
       "        if (!display || display === 'none') {{\n",
       "            console.log([gd, 'removed!']);\n",
       "            Plotly.purge(gd);\n",
       "            observer.disconnect();\n",
       "        }}\n",
       "}});\n",
       "\n",
       "// Listen for the removal of the full notebook cells\n",
       "var notebookContainer = gd.closest('#notebook-container');\n",
       "if (notebookContainer) {{\n",
       "    x.observe(notebookContainer, {childList: true});\n",
       "}}\n",
       "\n",
       "// Listen for the clearing of the current output cell\n",
       "var outputEl = gd.closest('.output');\n",
       "if (outputEl) {{\n",
       "    x.observe(outputEl, {childList: true});\n",
       "}}\n",
       "\n",
       "                        })                };                });            </script>        </div>"
      ]
     },
     "metadata": {},
     "output_type": "display_data"
    }
   ],
   "source": [
    "venda_produtos_cliente_pt_grup_temp = venda_produtos_cliente_pt.groupby(\"data\").sum().sort_values('data').reset_index()\n",
    "\n",
    "fig_vendas_tempo = px.line(venda_produtos_cliente_pt_grup_temp, x=\"data\", y=\"total_preco\", labels={\"data\": \"Data\", \"total_preco\": \"Total gasto pelo clientes\"}, height=500, width=800) \n",
    "\n",
    "fig_vendas_tempo.update_layout(\n",
    "                #criando anotações\n",
    "                annotations=[\n",
    "                        {\"x\":\"2021-11-08\", \"y\":1016.66, \"ay\": -40, \n",
    "                        \"text\": \"<b>Maior pico de vendas<br> em novembro</b>\",\n",
    "                        \"arrowhead\": 3, \"showarrow\":True,\n",
    "                        \"font\": {\"size\": 11}}\n",
    "                    ])\n",
    "fig_vendas_tempo.show()"
   ]
  },
  {
   "cell_type": "markdown",
   "id": "97f1a2ce",
   "metadata": {},
   "source": [
    "## Lucro"
   ]
  },
  {
   "cell_type": "code",
   "execution_count": 103,
   "id": "a87aa3da",
   "metadata": {},
   "outputs": [],
   "source": [
    "venda_produtos_cliente[\"lucro\"]=(venda_produtos_cliente[\"preco\"]-venda_produtos_cliente[\"custo\"])*venda_produtos_cliente[\"quantidade\"]"
   ]
  },
  {
   "cell_type": "code",
   "execution_count": 104,
   "id": "e51cebcf",
   "metadata": {},
   "outputs": [
    {
     "data": {
      "text/html": [
       "<div>\n",
       "<style scoped>\n",
       "    .dataframe tbody tr th:only-of-type {\n",
       "        vertical-align: middle;\n",
       "    }\n",
       "\n",
       "    .dataframe tbody tr th {\n",
       "        vertical-align: top;\n",
       "    }\n",
       "\n",
       "    .dataframe thead th {\n",
       "        text-align: right;\n",
       "    }\n",
       "</style>\n",
       "<table border=\"1\" class=\"dataframe\">\n",
       "  <thead>\n",
       "    <tr style=\"text-align: right;\">\n",
       "      <th></th>\n",
       "      <th>id_vendas</th>\n",
       "      <th>id_produtos</th>\n",
       "      <th>quantidade</th>\n",
       "      <th>nome</th>\n",
       "      <th>secao</th>\n",
       "      <th>custo</th>\n",
       "      <th>preco</th>\n",
       "      <th>prateleira</th>\n",
       "      <th>estoque</th>\n",
       "      <th>unidade_de_medida_de_estoque</th>\n",
       "      <th>...</th>\n",
       "      <th>data</th>\n",
       "      <th>nome_cliente</th>\n",
       "      <th>nascimento</th>\n",
       "      <th>endereco</th>\n",
       "      <th>cpf</th>\n",
       "      <th>telefone</th>\n",
       "      <th>usuario</th>\n",
       "      <th>senha</th>\n",
       "      <th>total_preco</th>\n",
       "      <th>lucro</th>\n",
       "    </tr>\n",
       "  </thead>\n",
       "  <tbody>\n",
       "    <tr>\n",
       "      <th>0</th>\n",
       "      <td>0</td>\n",
       "      <td>17</td>\n",
       "      <td>4</td>\n",
       "      <td>paleta suína</td>\n",
       "      <td>Açougue</td>\n",
       "      <td>17.09</td>\n",
       "      <td>23.99</td>\n",
       "      <td>5D</td>\n",
       "      <td>9</td>\n",
       "      <td>kg</td>\n",
       "      <td>...</td>\n",
       "      <td>2021-11-01</td>\n",
       "      <td>Renan Nunes</td>\n",
       "      <td>1998-10-06</td>\n",
       "      <td>Rodovia Heitor Novaes, 6\\nHorto Florestal\\n681...</td>\n",
       "      <td>956.387.120-03</td>\n",
       "      <td>(061) 3755 7473</td>\n",
       "      <td>lopesheitor</td>\n",
       "      <td>A&amp;FB*AuitN^9</td>\n",
       "      <td>95.96</td>\n",
       "      <td>27.60</td>\n",
       "    </tr>\n",
       "    <tr>\n",
       "      <th>1</th>\n",
       "      <td>0</td>\n",
       "      <td>35</td>\n",
       "      <td>3</td>\n",
       "      <td>sabonete</td>\n",
       "      <td>Produtos de Limpeza</td>\n",
       "      <td>0.65</td>\n",
       "      <td>1.29</td>\n",
       "      <td>9D</td>\n",
       "      <td>58</td>\n",
       "      <td>unidade</td>\n",
       "      <td>...</td>\n",
       "      <td>2021-11-01</td>\n",
       "      <td>Renan Nunes</td>\n",
       "      <td>1998-10-06</td>\n",
       "      <td>Rodovia Heitor Novaes, 6\\nHorto Florestal\\n681...</td>\n",
       "      <td>956.387.120-03</td>\n",
       "      <td>(061) 3755 7473</td>\n",
       "      <td>lopesheitor</td>\n",
       "      <td>A&amp;FB*AuitN^9</td>\n",
       "      <td>3.87</td>\n",
       "      <td>1.92</td>\n",
       "    </tr>\n",
       "    <tr>\n",
       "      <th>2</th>\n",
       "      <td>0</td>\n",
       "      <td>35</td>\n",
       "      <td>2</td>\n",
       "      <td>sabonete</td>\n",
       "      <td>Produtos de Limpeza</td>\n",
       "      <td>0.65</td>\n",
       "      <td>1.29</td>\n",
       "      <td>9D</td>\n",
       "      <td>58</td>\n",
       "      <td>unidade</td>\n",
       "      <td>...</td>\n",
       "      <td>2021-11-01</td>\n",
       "      <td>Renan Nunes</td>\n",
       "      <td>1998-10-06</td>\n",
       "      <td>Rodovia Heitor Novaes, 6\\nHorto Florestal\\n681...</td>\n",
       "      <td>956.387.120-03</td>\n",
       "      <td>(061) 3755 7473</td>\n",
       "      <td>lopesheitor</td>\n",
       "      <td>A&amp;FB*AuitN^9</td>\n",
       "      <td>2.58</td>\n",
       "      <td>1.28</td>\n",
       "    </tr>\n",
       "    <tr>\n",
       "      <th>3</th>\n",
       "      <td>0</td>\n",
       "      <td>31</td>\n",
       "      <td>2</td>\n",
       "      <td>flanela</td>\n",
       "      <td>Produtos de Limpeza</td>\n",
       "      <td>0.59</td>\n",
       "      <td>1.99</td>\n",
       "      <td>9A</td>\n",
       "      <td>32</td>\n",
       "      <td>unidade</td>\n",
       "      <td>...</td>\n",
       "      <td>2021-11-01</td>\n",
       "      <td>Renan Nunes</td>\n",
       "      <td>1998-10-06</td>\n",
       "      <td>Rodovia Heitor Novaes, 6\\nHorto Florestal\\n681...</td>\n",
       "      <td>956.387.120-03</td>\n",
       "      <td>(061) 3755 7473</td>\n",
       "      <td>lopesheitor</td>\n",
       "      <td>A&amp;FB*AuitN^9</td>\n",
       "      <td>3.98</td>\n",
       "      <td>2.80</td>\n",
       "    </tr>\n",
       "    <tr>\n",
       "      <th>4</th>\n",
       "      <td>0</td>\n",
       "      <td>31</td>\n",
       "      <td>1</td>\n",
       "      <td>flanela</td>\n",
       "      <td>Produtos de Limpeza</td>\n",
       "      <td>0.59</td>\n",
       "      <td>1.99</td>\n",
       "      <td>9A</td>\n",
       "      <td>32</td>\n",
       "      <td>unidade</td>\n",
       "      <td>...</td>\n",
       "      <td>2021-11-01</td>\n",
       "      <td>Renan Nunes</td>\n",
       "      <td>1998-10-06</td>\n",
       "      <td>Rodovia Heitor Novaes, 6\\nHorto Florestal\\n681...</td>\n",
       "      <td>956.387.120-03</td>\n",
       "      <td>(061) 3755 7473</td>\n",
       "      <td>lopesheitor</td>\n",
       "      <td>A&amp;FB*AuitN^9</td>\n",
       "      <td>1.99</td>\n",
       "      <td>1.40</td>\n",
       "    </tr>\n",
       "    <tr>\n",
       "      <th>...</th>\n",
       "      <td>...</td>\n",
       "      <td>...</td>\n",
       "      <td>...</td>\n",
       "      <td>...</td>\n",
       "      <td>...</td>\n",
       "      <td>...</td>\n",
       "      <td>...</td>\n",
       "      <td>...</td>\n",
       "      <td>...</td>\n",
       "      <td>...</td>\n",
       "      <td>...</td>\n",
       "      <td>...</td>\n",
       "      <td>...</td>\n",
       "      <td>...</td>\n",
       "      <td>...</td>\n",
       "      <td>...</td>\n",
       "      <td>...</td>\n",
       "      <td>...</td>\n",
       "      <td>...</td>\n",
       "      <td>...</td>\n",
       "      <td>...</td>\n",
       "    </tr>\n",
       "    <tr>\n",
       "      <th>2495</th>\n",
       "      <td>293</td>\n",
       "      <td>9</td>\n",
       "      <td>2</td>\n",
       "      <td>feijão</td>\n",
       "      <td>Alimentos em Geral</td>\n",
       "      <td>6.49</td>\n",
       "      <td>8.45</td>\n",
       "      <td>3B</td>\n",
       "      <td>43</td>\n",
       "      <td>kg</td>\n",
       "      <td>...</td>\n",
       "      <td>2021-11-21</td>\n",
       "      <td>Daniel Farias</td>\n",
       "      <td>1970-11-27</td>\n",
       "      <td>Aeroporto de Novaes\\nVila Paraíso\\n21048-086 M...</td>\n",
       "      <td>142.657.390-16</td>\n",
       "      <td>21 8495-5702</td>\n",
       "      <td>wfarias</td>\n",
       "      <td>+!2RexUA009F</td>\n",
       "      <td>16.90</td>\n",
       "      <td>3.92</td>\n",
       "    </tr>\n",
       "    <tr>\n",
       "      <th>2496</th>\n",
       "      <td>445</td>\n",
       "      <td>9</td>\n",
       "      <td>3</td>\n",
       "      <td>feijão</td>\n",
       "      <td>Alimentos em Geral</td>\n",
       "      <td>6.49</td>\n",
       "      <td>8.45</td>\n",
       "      <td>3B</td>\n",
       "      <td>43</td>\n",
       "      <td>kg</td>\n",
       "      <td>...</td>\n",
       "      <td>2021-11-28</td>\n",
       "      <td>Gustavo Santos</td>\n",
       "      <td>2001-06-09</td>\n",
       "      <td>Condomínio Oliveira, 92\\nMarilandia\\n04956635 ...</td>\n",
       "      <td>297.380.461-22</td>\n",
       "      <td>+55 (081) 6867-6535</td>\n",
       "      <td>silvalucca</td>\n",
       "      <td>@!6$GvJi%k3U</td>\n",
       "      <td>25.35</td>\n",
       "      <td>5.88</td>\n",
       "    </tr>\n",
       "    <tr>\n",
       "      <th>2497</th>\n",
       "      <td>461</td>\n",
       "      <td>9</td>\n",
       "      <td>1</td>\n",
       "      <td>feijão</td>\n",
       "      <td>Alimentos em Geral</td>\n",
       "      <td>6.49</td>\n",
       "      <td>8.45</td>\n",
       "      <td>3B</td>\n",
       "      <td>43</td>\n",
       "      <td>kg</td>\n",
       "      <td>...</td>\n",
       "      <td>2021-11-29</td>\n",
       "      <td>Clarice Farias</td>\n",
       "      <td>1990-08-09</td>\n",
       "      <td>Lago Maria Sophia Jesus, 489\\nJoão Paulo Ii\\n0...</td>\n",
       "      <td>892.673.514-19</td>\n",
       "      <td>+55 (071) 2534 8602</td>\n",
       "      <td>rafaelarodrigues</td>\n",
       "      <td>R82X9gf+_8lG</td>\n",
       "      <td>8.45</td>\n",
       "      <td>1.96</td>\n",
       "    </tr>\n",
       "    <tr>\n",
       "      <th>2498</th>\n",
       "      <td>305</td>\n",
       "      <td>5</td>\n",
       "      <td>1</td>\n",
       "      <td>berinjela</td>\n",
       "      <td>Alimentos em Geral</td>\n",
       "      <td>8.59</td>\n",
       "      <td>11.99</td>\n",
       "      <td>2D</td>\n",
       "      <td>12</td>\n",
       "      <td>kg</td>\n",
       "      <td>...</td>\n",
       "      <td>2021-11-21</td>\n",
       "      <td>Sarah Carvalho</td>\n",
       "      <td>1959-01-27</td>\n",
       "      <td>Estrada Martins, 57\\nCamponesa 2ª Seção\\n23581...</td>\n",
       "      <td>753.912.846-19</td>\n",
       "      <td>(061) 6017-8623</td>\n",
       "      <td>cecilia80</td>\n",
       "      <td>0r3Um3hy!#6y</td>\n",
       "      <td>11.99</td>\n",
       "      <td>3.40</td>\n",
       "    </tr>\n",
       "    <tr>\n",
       "      <th>2499</th>\n",
       "      <td>470</td>\n",
       "      <td>12</td>\n",
       "      <td>3</td>\n",
       "      <td>alcatra</td>\n",
       "      <td>Açougue</td>\n",
       "      <td>23.19</td>\n",
       "      <td>31.99</td>\n",
       "      <td>4A</td>\n",
       "      <td>7</td>\n",
       "      <td>kg</td>\n",
       "      <td>...</td>\n",
       "      <td>2021-11-29</td>\n",
       "      <td>Dr. João Lucas das Neves</td>\n",
       "      <td>1999-05-30</td>\n",
       "      <td>Trevo de Ribeiro, 8\\nPiratininga\\n96541-937 Na...</td>\n",
       "      <td>792.364.015-70</td>\n",
       "      <td>+55 (041) 9476-7644</td>\n",
       "      <td>hvieira</td>\n",
       "      <td>y(By7DoGexak</td>\n",
       "      <td>95.97</td>\n",
       "      <td>26.40</td>\n",
       "    </tr>\n",
       "  </tbody>\n",
       "</table>\n",
       "<p>2500 rows × 22 columns</p>\n",
       "</div>"
      ],
      "text/plain": [
       "      id_vendas  id_produtos  quantidade          nome                secao  \\\n",
       "0             0           17           4  paleta suína              Açougue   \n",
       "1             0           35           3      sabonete  Produtos de Limpeza   \n",
       "2             0           35           2      sabonete  Produtos de Limpeza   \n",
       "3             0           31           2       flanela  Produtos de Limpeza   \n",
       "4             0           31           1       flanela  Produtos de Limpeza   \n",
       "...         ...          ...         ...           ...                  ...   \n",
       "2495        293            9           2        feijão   Alimentos em Geral   \n",
       "2496        445            9           3        feijão   Alimentos em Geral   \n",
       "2497        461            9           1        feijão   Alimentos em Geral   \n",
       "2498        305            5           1     berinjela   Alimentos em Geral   \n",
       "2499        470           12           3       alcatra              Açougue   \n",
       "\n",
       "      custo  preco prateleira  estoque unidade_de_medida_de_estoque  ...  \\\n",
       "0     17.09  23.99         5D        9                           kg  ...   \n",
       "1      0.65   1.29         9D       58                      unidade  ...   \n",
       "2      0.65   1.29         9D       58                      unidade  ...   \n",
       "3      0.59   1.99         9A       32                      unidade  ...   \n",
       "4      0.59   1.99         9A       32                      unidade  ...   \n",
       "...     ...    ...        ...      ...                          ...  ...   \n",
       "2495   6.49   8.45         3B       43                           kg  ...   \n",
       "2496   6.49   8.45         3B       43                           kg  ...   \n",
       "2497   6.49   8.45         3B       43                           kg  ...   \n",
       "2498   8.59  11.99         2D       12                           kg  ...   \n",
       "2499  23.19  31.99         4A        7                           kg  ...   \n",
       "\n",
       "            data              nome_cliente  nascimento  \\\n",
       "0     2021-11-01               Renan Nunes  1998-10-06   \n",
       "1     2021-11-01               Renan Nunes  1998-10-06   \n",
       "2     2021-11-01               Renan Nunes  1998-10-06   \n",
       "3     2021-11-01               Renan Nunes  1998-10-06   \n",
       "4     2021-11-01               Renan Nunes  1998-10-06   \n",
       "...          ...                       ...         ...   \n",
       "2495  2021-11-21             Daniel Farias  1970-11-27   \n",
       "2496  2021-11-28            Gustavo Santos  2001-06-09   \n",
       "2497  2021-11-29            Clarice Farias  1990-08-09   \n",
       "2498  2021-11-21            Sarah Carvalho  1959-01-27   \n",
       "2499  2021-11-29  Dr. João Lucas das Neves  1999-05-30   \n",
       "\n",
       "                                               endereco             cpf  \\\n",
       "0     Rodovia Heitor Novaes, 6\\nHorto Florestal\\n681...  956.387.120-03   \n",
       "1     Rodovia Heitor Novaes, 6\\nHorto Florestal\\n681...  956.387.120-03   \n",
       "2     Rodovia Heitor Novaes, 6\\nHorto Florestal\\n681...  956.387.120-03   \n",
       "3     Rodovia Heitor Novaes, 6\\nHorto Florestal\\n681...  956.387.120-03   \n",
       "4     Rodovia Heitor Novaes, 6\\nHorto Florestal\\n681...  956.387.120-03   \n",
       "...                                                 ...             ...   \n",
       "2495  Aeroporto de Novaes\\nVila Paraíso\\n21048-086 M...  142.657.390-16   \n",
       "2496  Condomínio Oliveira, 92\\nMarilandia\\n04956635 ...  297.380.461-22   \n",
       "2497  Lago Maria Sophia Jesus, 489\\nJoão Paulo Ii\\n0...  892.673.514-19   \n",
       "2498  Estrada Martins, 57\\nCamponesa 2ª Seção\\n23581...  753.912.846-19   \n",
       "2499  Trevo de Ribeiro, 8\\nPiratininga\\n96541-937 Na...  792.364.015-70   \n",
       "\n",
       "                 telefone           usuario         senha total_preco  lucro  \n",
       "0         (061) 3755 7473       lopesheitor  A&FB*AuitN^9       95.96  27.60  \n",
       "1         (061) 3755 7473       lopesheitor  A&FB*AuitN^9        3.87   1.92  \n",
       "2         (061) 3755 7473       lopesheitor  A&FB*AuitN^9        2.58   1.28  \n",
       "3         (061) 3755 7473       lopesheitor  A&FB*AuitN^9        3.98   2.80  \n",
       "4         (061) 3755 7473       lopesheitor  A&FB*AuitN^9        1.99   1.40  \n",
       "...                   ...               ...           ...         ...    ...  \n",
       "2495         21 8495-5702           wfarias  +!2RexUA009F       16.90   3.92  \n",
       "2496  +55 (081) 6867-6535        silvalucca  @!6$GvJi%k3U       25.35   5.88  \n",
       "2497  +55 (071) 2534 8602  rafaelarodrigues  R82X9gf+_8lG        8.45   1.96  \n",
       "2498      (061) 6017-8623         cecilia80  0r3Um3hy!#6y       11.99   3.40  \n",
       "2499  +55 (041) 9476-7644           hvieira  y(By7DoGexak       95.97  26.40  \n",
       "\n",
       "[2500 rows x 22 columns]"
      ]
     },
     "execution_count": 104,
     "metadata": {},
     "output_type": "execute_result"
    }
   ],
   "source": [
    "venda_produtos_cliente"
   ]
  },
  {
   "cell_type": "code",
   "execution_count": 105,
   "id": "21eb629a",
   "metadata": {},
   "outputs": [],
   "source": [
    "venda_produtos_cliente_soma_lucros = venda_produtos_cliente.groupby(\"data\").sum().sort_values('data').reset_index()\n",
    "\n",
    "df_acougue=venda_produtos_cliente[venda_produtos_cliente[\"secao\"]=='Açougue']\n",
    "df_acougue_lucros = df_acougue.groupby(\"data\").sum().sort_values('data').reset_index()\n",
    "\n",
    "df_frutas_e_verduras=venda_produtos_cliente[venda_produtos_cliente[\"secao\"]=='Alimentos em Geral']\n",
    "df_frutas_e_verduras_lucros = df_frutas_e_verduras.groupby(\"data\").sum().sort_values('data').reset_index()\n",
    "\n",
    "df_padaria=venda_produtos_cliente[venda_produtos_cliente[\"secao\"]=='Padaria']\n",
    "df_padaria_lucros = df_padaria.groupby(\"data\").sum().sort_values('data').reset_index()\n",
    "\n",
    "df_produtos_de_limpeza=venda_produtos_cliente[venda_produtos_cliente[\"secao\"]=='Produtos de Limpeza']\n",
    "df_produtos_de_limpeza_lucros = df_produtos_de_limpeza.groupby(\"data\").sum().sort_values('data').reset_index()"
   ]
  },
  {
   "cell_type": "code",
   "execution_count": 106,
   "id": "23f431e1",
   "metadata": {},
   "outputs": [
    {
     "data": {
      "application/vnd.plotly.v1+json": {
       "config": {
        "plotlyServerURL": "https://plot.ly"
       },
       "data": [
        {
         "mode": "markers+lines",
         "name": "Lucro total",
         "type": "scatter",
         "x": [
          "2021-11-01",
          "2021-11-02",
          "2021-11-03",
          "2021-11-04",
          "2021-11-05",
          "2021-11-06",
          "2021-11-07",
          "2021-11-08",
          "2021-11-09",
          "2021-11-10",
          "2021-11-11",
          "2021-11-12",
          "2021-11-13",
          "2021-11-14",
          "2021-11-15",
          "2021-11-16",
          "2021-11-17",
          "2021-11-18",
          "2021-11-19",
          "2021-11-20",
          "2021-11-21",
          "2021-11-22",
          "2021-11-23",
          "2021-11-24",
          "2021-11-25",
          "2021-11-26",
          "2021-11-27",
          "2021-11-28",
          "2021-11-29",
          "2021-11-30"
         ],
         "y": [
          1081.35,
          1358.9699999999993,
          2738.120000000001,
          2718.0199999999986,
          2285.779999999999,
          1899.8199999999983,
          1679.9199999999994,
          1343.8699999999997,
          3934.2999999999993,
          2208.84,
          1146.839999999999,
          2054.519999999999,
          3044.0200000000004,
          1752.0799999999992,
          2773.0899999999983,
          165.64,
          193.15,
          420.46000000000004,
          102.5,
          236.66999999999996,
          305.63999999999993,
          239.95999999999995,
          229.27000000000004,
          420.9499999999999,
          236.47999999999996,
          525.2499999999998,
          109.08999999999999,
          325.01,
          335.71,
          300.2399999999999
         ]
        },
        {
         "mode": "markers+lines",
         "name": "Lucro por dia no açougue",
         "type": "scatter",
         "x": [
          "2021-11-01",
          "2021-11-02",
          "2021-11-03",
          "2021-11-04",
          "2021-11-05",
          "2021-11-06",
          "2021-11-07",
          "2021-11-08",
          "2021-11-09",
          "2021-11-10",
          "2021-11-11",
          "2021-11-12",
          "2021-11-13",
          "2021-11-14",
          "2021-11-15",
          "2021-11-16",
          "2021-11-17",
          "2021-11-18",
          "2021-11-19",
          "2021-11-20",
          "2021-11-21",
          "2021-11-22",
          "2021-11-23",
          "2021-11-24",
          "2021-11-25",
          "2021-11-26",
          "2021-11-27",
          "2021-11-28",
          "2021-11-29",
          "2021-11-30"
         ],
         "y": [
          559.0999999999999,
          636.62,
          1510.6999999999996,
          1133.2399999999998,
          805.2199999999999,
          826.9999999999998,
          814.8599999999997,
          634.26,
          2178.6899999999996,
          789.2699999999999,
          470.33,
          1046.5399999999995,
          1343.739999999999,
          655.9999999999999,
          1505.7399999999998,
          40.199999999999996,
          97.8,
          103.37999999999998,
          57.79999999999999,
          105.48999999999997,
          202.22999999999993,
          141.23999999999995,
          5.299999999999999,
          182.25999999999993,
          97.70999999999998,
          291.7099999999999,
          15.859999999999996,
          150.77999999999997,
          112.18999999999996,
          134.21999999999997
         ]
        },
        {
         "mode": "markers+lines",
         "name": "Lucro por dia na seção de frutas e verduras",
         "type": "scatter",
         "x": [
          "2021-11-01",
          "2021-11-02",
          "2021-11-03",
          "2021-11-04",
          "2021-11-05",
          "2021-11-06",
          "2021-11-07",
          "2021-11-08",
          "2021-11-09",
          "2021-11-10",
          "2021-11-11",
          "2021-11-12",
          "2021-11-13",
          "2021-11-14",
          "2021-11-15",
          "2021-11-16",
          "2021-11-17",
          "2021-11-18",
          "2021-11-19",
          "2021-11-20",
          "2021-11-21",
          "2021-11-22",
          "2021-11-23",
          "2021-11-24",
          "2021-11-25",
          "2021-11-26",
          "2021-11-27",
          "2021-11-28",
          "2021-11-29",
          "2021-11-30"
         ],
         "y": [
          121.83,
          150.75,
          386.53999999999996,
          346.40999999999985,
          408.2200000000001,
          300.76,
          206.7,
          228.43999999999997,
          371.2799999999999,
          425.63,
          161.77999999999997,
          276.47,
          371.03999999999985,
          242.04000000000005,
          271.05999999999995,
          4.36,
          7.07,
          39.120000000000005,
          25.800000000000008,
          61.92,
          26.239999999999995,
          43.02,
          31.03,
          66.19,
          46.93,
          42.79,
          21.15,
          65.85,
          37.940000000000005,
          65.41
         ]
        },
        {
         "mode": "markers+lines",
         "name": "Lucro por dia na padaria",
         "type": "scatter",
         "x": [
          "2021-11-01",
          "2021-11-02",
          "2021-11-03",
          "2021-11-04",
          "2021-11-05",
          "2021-11-06",
          "2021-11-07",
          "2021-11-08",
          "2021-11-09",
          "2021-11-10",
          "2021-11-11",
          "2021-11-12",
          "2021-11-13",
          "2021-11-14",
          "2021-11-15",
          "2021-11-16",
          "2021-11-17",
          "2021-11-18",
          "2021-11-19",
          "2021-11-20",
          "2021-11-21",
          "2021-11-22",
          "2021-11-23",
          "2021-11-24",
          "2021-11-25",
          "2021-11-26",
          "2021-11-27",
          "2021-11-28",
          "2021-11-29",
          "2021-11-30"
         ],
         "y": [
          275.43999999999994,
          334.1000000000001,
          513.7199999999999,
          897.6400000000001,
          852.7499999999997,
          423.8800000000001,
          483.31999999999994,
          286.82000000000005,
          875.3599999999999,
          740.7599999999999,
          414.89000000000004,
          477.60000000000014,
          897.62,
          557.9000000000001,
          706.2900000000002,
          76.19,
          44.22,
          171.80999999999997,
          17.5,
          39.45,
          60.099999999999994,
          44.5,
          158.94000000000003,
          69.38,
          79.2,
          114.82,
          34.31999999999999,
          67.7,
          144.90000000000003,
          45.849999999999994
         ]
        },
        {
         "mode": "markers+lines",
         "name": "Lucro por dia na seção de limpezas",
         "type": "scatter",
         "x": [
          "2021-11-01",
          "2021-11-02",
          "2021-11-03",
          "2021-11-04",
          "2021-11-05",
          "2021-11-06",
          "2021-11-07",
          "2021-11-08",
          "2021-11-09",
          "2021-11-10",
          "2021-11-11",
          "2021-11-12",
          "2021-11-13",
          "2021-11-14",
          "2021-11-15",
          "2021-11-16",
          "2021-11-17",
          "2021-11-18",
          "2021-11-19",
          "2021-11-20",
          "2021-11-21",
          "2021-11-22",
          "2021-11-23",
          "2021-11-24",
          "2021-11-25",
          "2021-11-26",
          "2021-11-27",
          "2021-11-28",
          "2021-11-29",
          "2021-11-30"
         ],
         "y": [
          124.97999999999996,
          237.49999999999997,
          327.1599999999999,
          340.73,
          219.58999999999995,
          348.17999999999995,
          175.03999999999996,
          194.34999999999997,
          508.9699999999998,
          253.17999999999995,
          99.83999999999997,
          253.91,
          431.61999999999995,
          296.13999999999993,
          289.99999999999994,
          44.889999999999986,
          44.059999999999995,
          106.14999999999999,
          1.4000000000000001,
          29.809999999999995,
          17.07,
          11.2,
          33.99999999999999,
          103.11999999999999,
          12.639999999999999,
          75.92999999999999,
          37.760000000000005,
          40.68,
          40.67999999999999,
          54.759999999999984
         ]
        }
       ],
       "layout": {
        "font": {
         "color": "black",
         "family": "Arial",
         "size": 14
        },
        "plot_bgcolor": "white",
        "template": {
         "data": {
          "bar": [
           {
            "error_x": {
             "color": "#2a3f5f"
            },
            "error_y": {
             "color": "#2a3f5f"
            },
            "marker": {
             "line": {
              "color": "#E5ECF6",
              "width": 0.5
             },
             "pattern": {
              "fillmode": "overlay",
              "size": 10,
              "solidity": 0.2
             }
            },
            "type": "bar"
           }
          ],
          "barpolar": [
           {
            "marker": {
             "line": {
              "color": "#E5ECF6",
              "width": 0.5
             },
             "pattern": {
              "fillmode": "overlay",
              "size": 10,
              "solidity": 0.2
             }
            },
            "type": "barpolar"
           }
          ],
          "carpet": [
           {
            "aaxis": {
             "endlinecolor": "#2a3f5f",
             "gridcolor": "white",
             "linecolor": "white",
             "minorgridcolor": "white",
             "startlinecolor": "#2a3f5f"
            },
            "baxis": {
             "endlinecolor": "#2a3f5f",
             "gridcolor": "white",
             "linecolor": "white",
             "minorgridcolor": "white",
             "startlinecolor": "#2a3f5f"
            },
            "type": "carpet"
           }
          ],
          "choropleth": [
           {
            "colorbar": {
             "outlinewidth": 0,
             "ticks": ""
            },
            "type": "choropleth"
           }
          ],
          "contour": [
           {
            "colorbar": {
             "outlinewidth": 0,
             "ticks": ""
            },
            "colorscale": [
             [
              0,
              "#0d0887"
             ],
             [
              0.1111111111111111,
              "#46039f"
             ],
             [
              0.2222222222222222,
              "#7201a8"
             ],
             [
              0.3333333333333333,
              "#9c179e"
             ],
             [
              0.4444444444444444,
              "#bd3786"
             ],
             [
              0.5555555555555556,
              "#d8576b"
             ],
             [
              0.6666666666666666,
              "#ed7953"
             ],
             [
              0.7777777777777778,
              "#fb9f3a"
             ],
             [
              0.8888888888888888,
              "#fdca26"
             ],
             [
              1,
              "#f0f921"
             ]
            ],
            "type": "contour"
           }
          ],
          "contourcarpet": [
           {
            "colorbar": {
             "outlinewidth": 0,
             "ticks": ""
            },
            "type": "contourcarpet"
           }
          ],
          "heatmap": [
           {
            "colorbar": {
             "outlinewidth": 0,
             "ticks": ""
            },
            "colorscale": [
             [
              0,
              "#0d0887"
             ],
             [
              0.1111111111111111,
              "#46039f"
             ],
             [
              0.2222222222222222,
              "#7201a8"
             ],
             [
              0.3333333333333333,
              "#9c179e"
             ],
             [
              0.4444444444444444,
              "#bd3786"
             ],
             [
              0.5555555555555556,
              "#d8576b"
             ],
             [
              0.6666666666666666,
              "#ed7953"
             ],
             [
              0.7777777777777778,
              "#fb9f3a"
             ],
             [
              0.8888888888888888,
              "#fdca26"
             ],
             [
              1,
              "#f0f921"
             ]
            ],
            "type": "heatmap"
           }
          ],
          "heatmapgl": [
           {
            "colorbar": {
             "outlinewidth": 0,
             "ticks": ""
            },
            "colorscale": [
             [
              0,
              "#0d0887"
             ],
             [
              0.1111111111111111,
              "#46039f"
             ],
             [
              0.2222222222222222,
              "#7201a8"
             ],
             [
              0.3333333333333333,
              "#9c179e"
             ],
             [
              0.4444444444444444,
              "#bd3786"
             ],
             [
              0.5555555555555556,
              "#d8576b"
             ],
             [
              0.6666666666666666,
              "#ed7953"
             ],
             [
              0.7777777777777778,
              "#fb9f3a"
             ],
             [
              0.8888888888888888,
              "#fdca26"
             ],
             [
              1,
              "#f0f921"
             ]
            ],
            "type": "heatmapgl"
           }
          ],
          "histogram": [
           {
            "marker": {
             "pattern": {
              "fillmode": "overlay",
              "size": 10,
              "solidity": 0.2
             }
            },
            "type": "histogram"
           }
          ],
          "histogram2d": [
           {
            "colorbar": {
             "outlinewidth": 0,
             "ticks": ""
            },
            "colorscale": [
             [
              0,
              "#0d0887"
             ],
             [
              0.1111111111111111,
              "#46039f"
             ],
             [
              0.2222222222222222,
              "#7201a8"
             ],
             [
              0.3333333333333333,
              "#9c179e"
             ],
             [
              0.4444444444444444,
              "#bd3786"
             ],
             [
              0.5555555555555556,
              "#d8576b"
             ],
             [
              0.6666666666666666,
              "#ed7953"
             ],
             [
              0.7777777777777778,
              "#fb9f3a"
             ],
             [
              0.8888888888888888,
              "#fdca26"
             ],
             [
              1,
              "#f0f921"
             ]
            ],
            "type": "histogram2d"
           }
          ],
          "histogram2dcontour": [
           {
            "colorbar": {
             "outlinewidth": 0,
             "ticks": ""
            },
            "colorscale": [
             [
              0,
              "#0d0887"
             ],
             [
              0.1111111111111111,
              "#46039f"
             ],
             [
              0.2222222222222222,
              "#7201a8"
             ],
             [
              0.3333333333333333,
              "#9c179e"
             ],
             [
              0.4444444444444444,
              "#bd3786"
             ],
             [
              0.5555555555555556,
              "#d8576b"
             ],
             [
              0.6666666666666666,
              "#ed7953"
             ],
             [
              0.7777777777777778,
              "#fb9f3a"
             ],
             [
              0.8888888888888888,
              "#fdca26"
             ],
             [
              1,
              "#f0f921"
             ]
            ],
            "type": "histogram2dcontour"
           }
          ],
          "mesh3d": [
           {
            "colorbar": {
             "outlinewidth": 0,
             "ticks": ""
            },
            "type": "mesh3d"
           }
          ],
          "parcoords": [
           {
            "line": {
             "colorbar": {
              "outlinewidth": 0,
              "ticks": ""
             }
            },
            "type": "parcoords"
           }
          ],
          "pie": [
           {
            "automargin": true,
            "type": "pie"
           }
          ],
          "scatter": [
           {
            "marker": {
             "colorbar": {
              "outlinewidth": 0,
              "ticks": ""
             }
            },
            "type": "scatter"
           }
          ],
          "scatter3d": [
           {
            "line": {
             "colorbar": {
              "outlinewidth": 0,
              "ticks": ""
             }
            },
            "marker": {
             "colorbar": {
              "outlinewidth": 0,
              "ticks": ""
             }
            },
            "type": "scatter3d"
           }
          ],
          "scattercarpet": [
           {
            "marker": {
             "colorbar": {
              "outlinewidth": 0,
              "ticks": ""
             }
            },
            "type": "scattercarpet"
           }
          ],
          "scattergeo": [
           {
            "marker": {
             "colorbar": {
              "outlinewidth": 0,
              "ticks": ""
             }
            },
            "type": "scattergeo"
           }
          ],
          "scattergl": [
           {
            "marker": {
             "colorbar": {
              "outlinewidth": 0,
              "ticks": ""
             }
            },
            "type": "scattergl"
           }
          ],
          "scattermapbox": [
           {
            "marker": {
             "colorbar": {
              "outlinewidth": 0,
              "ticks": ""
             }
            },
            "type": "scattermapbox"
           }
          ],
          "scatterpolar": [
           {
            "marker": {
             "colorbar": {
              "outlinewidth": 0,
              "ticks": ""
             }
            },
            "type": "scatterpolar"
           }
          ],
          "scatterpolargl": [
           {
            "marker": {
             "colorbar": {
              "outlinewidth": 0,
              "ticks": ""
             }
            },
            "type": "scatterpolargl"
           }
          ],
          "scatterternary": [
           {
            "marker": {
             "colorbar": {
              "outlinewidth": 0,
              "ticks": ""
             }
            },
            "type": "scatterternary"
           }
          ],
          "surface": [
           {
            "colorbar": {
             "outlinewidth": 0,
             "ticks": ""
            },
            "colorscale": [
             [
              0,
              "#0d0887"
             ],
             [
              0.1111111111111111,
              "#46039f"
             ],
             [
              0.2222222222222222,
              "#7201a8"
             ],
             [
              0.3333333333333333,
              "#9c179e"
             ],
             [
              0.4444444444444444,
              "#bd3786"
             ],
             [
              0.5555555555555556,
              "#d8576b"
             ],
             [
              0.6666666666666666,
              "#ed7953"
             ],
             [
              0.7777777777777778,
              "#fb9f3a"
             ],
             [
              0.8888888888888888,
              "#fdca26"
             ],
             [
              1,
              "#f0f921"
             ]
            ],
            "type": "surface"
           }
          ],
          "table": [
           {
            "cells": {
             "fill": {
              "color": "#EBF0F8"
             },
             "line": {
              "color": "white"
             }
            },
            "header": {
             "fill": {
              "color": "#C8D4E3"
             },
             "line": {
              "color": "white"
             }
            },
            "type": "table"
           }
          ]
         },
         "layout": {
          "annotationdefaults": {
           "arrowcolor": "#2a3f5f",
           "arrowhead": 0,
           "arrowwidth": 1
          },
          "autotypenumbers": "strict",
          "coloraxis": {
           "colorbar": {
            "outlinewidth": 0,
            "ticks": ""
           }
          },
          "colorscale": {
           "diverging": [
            [
             0,
             "#8e0152"
            ],
            [
             0.1,
             "#c51b7d"
            ],
            [
             0.2,
             "#de77ae"
            ],
            [
             0.3,
             "#f1b6da"
            ],
            [
             0.4,
             "#fde0ef"
            ],
            [
             0.5,
             "#f7f7f7"
            ],
            [
             0.6,
             "#e6f5d0"
            ],
            [
             0.7,
             "#b8e186"
            ],
            [
             0.8,
             "#7fbc41"
            ],
            [
             0.9,
             "#4d9221"
            ],
            [
             1,
             "#276419"
            ]
           ],
           "sequential": [
            [
             0,
             "#0d0887"
            ],
            [
             0.1111111111111111,
             "#46039f"
            ],
            [
             0.2222222222222222,
             "#7201a8"
            ],
            [
             0.3333333333333333,
             "#9c179e"
            ],
            [
             0.4444444444444444,
             "#bd3786"
            ],
            [
             0.5555555555555556,
             "#d8576b"
            ],
            [
             0.6666666666666666,
             "#ed7953"
            ],
            [
             0.7777777777777778,
             "#fb9f3a"
            ],
            [
             0.8888888888888888,
             "#fdca26"
            ],
            [
             1,
             "#f0f921"
            ]
           ],
           "sequentialminus": [
            [
             0,
             "#0d0887"
            ],
            [
             0.1111111111111111,
             "#46039f"
            ],
            [
             0.2222222222222222,
             "#7201a8"
            ],
            [
             0.3333333333333333,
             "#9c179e"
            ],
            [
             0.4444444444444444,
             "#bd3786"
            ],
            [
             0.5555555555555556,
             "#d8576b"
            ],
            [
             0.6666666666666666,
             "#ed7953"
            ],
            [
             0.7777777777777778,
             "#fb9f3a"
            ],
            [
             0.8888888888888888,
             "#fdca26"
            ],
            [
             1,
             "#f0f921"
            ]
           ]
          },
          "colorway": [
           "#636efa",
           "#EF553B",
           "#00cc96",
           "#ab63fa",
           "#FFA15A",
           "#19d3f3",
           "#FF6692",
           "#B6E880",
           "#FF97FF",
           "#FECB52"
          ],
          "font": {
           "color": "#2a3f5f"
          },
          "geo": {
           "bgcolor": "white",
           "lakecolor": "white",
           "landcolor": "#E5ECF6",
           "showlakes": true,
           "showland": true,
           "subunitcolor": "white"
          },
          "hoverlabel": {
           "align": "left"
          },
          "hovermode": "closest",
          "mapbox": {
           "style": "light"
          },
          "paper_bgcolor": "white",
          "plot_bgcolor": "#E5ECF6",
          "polar": {
           "angularaxis": {
            "gridcolor": "white",
            "linecolor": "white",
            "ticks": ""
           },
           "bgcolor": "#E5ECF6",
           "radialaxis": {
            "gridcolor": "white",
            "linecolor": "white",
            "ticks": ""
           }
          },
          "scene": {
           "xaxis": {
            "backgroundcolor": "#E5ECF6",
            "gridcolor": "white",
            "gridwidth": 2,
            "linecolor": "white",
            "showbackground": true,
            "ticks": "",
            "zerolinecolor": "white"
           },
           "yaxis": {
            "backgroundcolor": "#E5ECF6",
            "gridcolor": "white",
            "gridwidth": 2,
            "linecolor": "white",
            "showbackground": true,
            "ticks": "",
            "zerolinecolor": "white"
           },
           "zaxis": {
            "backgroundcolor": "#E5ECF6",
            "gridcolor": "white",
            "gridwidth": 2,
            "linecolor": "white",
            "showbackground": true,
            "ticks": "",
            "zerolinecolor": "white"
           }
          },
          "shapedefaults": {
           "line": {
            "color": "#2a3f5f"
           }
          },
          "ternary": {
           "aaxis": {
            "gridcolor": "white",
            "linecolor": "white",
            "ticks": ""
           },
           "baxis": {
            "gridcolor": "white",
            "linecolor": "white",
            "ticks": ""
           },
           "bgcolor": "#E5ECF6",
           "caxis": {
            "gridcolor": "white",
            "linecolor": "white",
            "ticks": ""
           }
          },
          "title": {
           "x": 0.05
          },
          "xaxis": {
           "automargin": true,
           "gridcolor": "white",
           "linecolor": "white",
           "ticks": "",
           "title": {
            "standoff": 15
           },
           "zerolinecolor": "white",
           "zerolinewidth": 2
          },
          "yaxis": {
           "automargin": true,
           "gridcolor": "white",
           "linecolor": "white",
           "ticks": "",
           "title": {
            "standoff": 15
           },
           "zerolinecolor": "white",
           "zerolinewidth": 2
          }
         }
        },
        "title": {
         "text": "Lucro por seção no mês de novembro"
        },
        "xaxis": {
         "gridcolor": "lightgray",
         "gridwidth": 1,
         "linecolor": "black",
         "linewidth": 1,
         "showgrid": true,
         "showline": true,
         "title": {
          "text": "Data"
         }
        },
        "yaxis": {
         "gridcolor": "lightgray",
         "gridwidth": 1,
         "linecolor": "black",
         "linewidth": 1,
         "showgrid": true,
         "showline": true,
         "title": {
          "text": "Lucro"
         }
        }
       }
      },
      "text/html": [
       "<div>                            <div id=\"bfc046e1-45eb-44d7-b84a-fdfe93437264\" class=\"plotly-graph-div\" style=\"height:525px; width:100%;\"></div>            <script type=\"text/javascript\">                require([\"plotly\"], function(Plotly) {                    window.PLOTLYENV=window.PLOTLYENV || {};                                    if (document.getElementById(\"bfc046e1-45eb-44d7-b84a-fdfe93437264\")) {                    Plotly.newPlot(                        \"bfc046e1-45eb-44d7-b84a-fdfe93437264\",                        [{\"mode\":\"markers+lines\",\"name\":\"Lucro total\",\"type\":\"scatter\",\"x\":[\"2021-11-01\",\"2021-11-02\",\"2021-11-03\",\"2021-11-04\",\"2021-11-05\",\"2021-11-06\",\"2021-11-07\",\"2021-11-08\",\"2021-11-09\",\"2021-11-10\",\"2021-11-11\",\"2021-11-12\",\"2021-11-13\",\"2021-11-14\",\"2021-11-15\",\"2021-11-16\",\"2021-11-17\",\"2021-11-18\",\"2021-11-19\",\"2021-11-20\",\"2021-11-21\",\"2021-11-22\",\"2021-11-23\",\"2021-11-24\",\"2021-11-25\",\"2021-11-26\",\"2021-11-27\",\"2021-11-28\",\"2021-11-29\",\"2021-11-30\"],\"y\":[1081.35,1358.9699999999993,2738.120000000001,2718.0199999999986,2285.779999999999,1899.8199999999983,1679.9199999999994,1343.8699999999997,3934.2999999999993,2208.84,1146.839999999999,2054.519999999999,3044.0200000000004,1752.0799999999992,2773.0899999999983,165.64,193.15,420.46000000000004,102.5,236.66999999999996,305.63999999999993,239.95999999999995,229.27000000000004,420.9499999999999,236.47999999999996,525.2499999999998,109.08999999999999,325.01,335.71,300.2399999999999]},{\"mode\":\"markers+lines\",\"name\":\"Lucro por dia no a\\u00e7ougue\",\"type\":\"scatter\",\"x\":[\"2021-11-01\",\"2021-11-02\",\"2021-11-03\",\"2021-11-04\",\"2021-11-05\",\"2021-11-06\",\"2021-11-07\",\"2021-11-08\",\"2021-11-09\",\"2021-11-10\",\"2021-11-11\",\"2021-11-12\",\"2021-11-13\",\"2021-11-14\",\"2021-11-15\",\"2021-11-16\",\"2021-11-17\",\"2021-11-18\",\"2021-11-19\",\"2021-11-20\",\"2021-11-21\",\"2021-11-22\",\"2021-11-23\",\"2021-11-24\",\"2021-11-25\",\"2021-11-26\",\"2021-11-27\",\"2021-11-28\",\"2021-11-29\",\"2021-11-30\"],\"y\":[559.0999999999999,636.62,1510.6999999999996,1133.2399999999998,805.2199999999999,826.9999999999998,814.8599999999997,634.26,2178.6899999999996,789.2699999999999,470.33,1046.5399999999995,1343.739999999999,655.9999999999999,1505.7399999999998,40.199999999999996,97.8,103.37999999999998,57.79999999999999,105.48999999999997,202.22999999999993,141.23999999999995,5.299999999999999,182.25999999999993,97.70999999999998,291.7099999999999,15.859999999999996,150.77999999999997,112.18999999999996,134.21999999999997]},{\"mode\":\"markers+lines\",\"name\":\"Lucro por dia na se\\u00e7\\u00e3o de frutas e verduras\",\"type\":\"scatter\",\"x\":[\"2021-11-01\",\"2021-11-02\",\"2021-11-03\",\"2021-11-04\",\"2021-11-05\",\"2021-11-06\",\"2021-11-07\",\"2021-11-08\",\"2021-11-09\",\"2021-11-10\",\"2021-11-11\",\"2021-11-12\",\"2021-11-13\",\"2021-11-14\",\"2021-11-15\",\"2021-11-16\",\"2021-11-17\",\"2021-11-18\",\"2021-11-19\",\"2021-11-20\",\"2021-11-21\",\"2021-11-22\",\"2021-11-23\",\"2021-11-24\",\"2021-11-25\",\"2021-11-26\",\"2021-11-27\",\"2021-11-28\",\"2021-11-29\",\"2021-11-30\"],\"y\":[121.83,150.75,386.53999999999996,346.40999999999985,408.2200000000001,300.76,206.7,228.43999999999997,371.2799999999999,425.63,161.77999999999997,276.47,371.03999999999985,242.04000000000005,271.05999999999995,4.36,7.07,39.120000000000005,25.800000000000008,61.92,26.239999999999995,43.02,31.03,66.19,46.93,42.79,21.15,65.85,37.940000000000005,65.41]},{\"mode\":\"markers+lines\",\"name\":\"Lucro por dia na padaria\",\"type\":\"scatter\",\"x\":[\"2021-11-01\",\"2021-11-02\",\"2021-11-03\",\"2021-11-04\",\"2021-11-05\",\"2021-11-06\",\"2021-11-07\",\"2021-11-08\",\"2021-11-09\",\"2021-11-10\",\"2021-11-11\",\"2021-11-12\",\"2021-11-13\",\"2021-11-14\",\"2021-11-15\",\"2021-11-16\",\"2021-11-17\",\"2021-11-18\",\"2021-11-19\",\"2021-11-20\",\"2021-11-21\",\"2021-11-22\",\"2021-11-23\",\"2021-11-24\",\"2021-11-25\",\"2021-11-26\",\"2021-11-27\",\"2021-11-28\",\"2021-11-29\",\"2021-11-30\"],\"y\":[275.43999999999994,334.1000000000001,513.7199999999999,897.6400000000001,852.7499999999997,423.8800000000001,483.31999999999994,286.82000000000005,875.3599999999999,740.7599999999999,414.89000000000004,477.60000000000014,897.62,557.9000000000001,706.2900000000002,76.19,44.22,171.80999999999997,17.5,39.45,60.099999999999994,44.5,158.94000000000003,69.38,79.2,114.82,34.31999999999999,67.7,144.90000000000003,45.849999999999994]},{\"mode\":\"markers+lines\",\"name\":\"Lucro por dia na se\\u00e7\\u00e3o de limpezas\",\"type\":\"scatter\",\"x\":[\"2021-11-01\",\"2021-11-02\",\"2021-11-03\",\"2021-11-04\",\"2021-11-05\",\"2021-11-06\",\"2021-11-07\",\"2021-11-08\",\"2021-11-09\",\"2021-11-10\",\"2021-11-11\",\"2021-11-12\",\"2021-11-13\",\"2021-11-14\",\"2021-11-15\",\"2021-11-16\",\"2021-11-17\",\"2021-11-18\",\"2021-11-19\",\"2021-11-20\",\"2021-11-21\",\"2021-11-22\",\"2021-11-23\",\"2021-11-24\",\"2021-11-25\",\"2021-11-26\",\"2021-11-27\",\"2021-11-28\",\"2021-11-29\",\"2021-11-30\"],\"y\":[124.97999999999996,237.49999999999997,327.1599999999999,340.73,219.58999999999995,348.17999999999995,175.03999999999996,194.34999999999997,508.9699999999998,253.17999999999995,99.83999999999997,253.91,431.61999999999995,296.13999999999993,289.99999999999994,44.889999999999986,44.059999999999995,106.14999999999999,1.4000000000000001,29.809999999999995,17.07,11.2,33.99999999999999,103.11999999999999,12.639999999999999,75.92999999999999,37.760000000000005,40.68,40.67999999999999,54.759999999999984]}],                        {\"font\":{\"color\":\"black\",\"family\":\"Arial\",\"size\":14},\"plot_bgcolor\":\"white\",\"template\":{\"data\":{\"bar\":[{\"error_x\":{\"color\":\"#2a3f5f\"},\"error_y\":{\"color\":\"#2a3f5f\"},\"marker\":{\"line\":{\"color\":\"#E5ECF6\",\"width\":0.5},\"pattern\":{\"fillmode\":\"overlay\",\"size\":10,\"solidity\":0.2}},\"type\":\"bar\"}],\"barpolar\":[{\"marker\":{\"line\":{\"color\":\"#E5ECF6\",\"width\":0.5},\"pattern\":{\"fillmode\":\"overlay\",\"size\":10,\"solidity\":0.2}},\"type\":\"barpolar\"}],\"carpet\":[{\"aaxis\":{\"endlinecolor\":\"#2a3f5f\",\"gridcolor\":\"white\",\"linecolor\":\"white\",\"minorgridcolor\":\"white\",\"startlinecolor\":\"#2a3f5f\"},\"baxis\":{\"endlinecolor\":\"#2a3f5f\",\"gridcolor\":\"white\",\"linecolor\":\"white\",\"minorgridcolor\":\"white\",\"startlinecolor\":\"#2a3f5f\"},\"type\":\"carpet\"}],\"choropleth\":[{\"colorbar\":{\"outlinewidth\":0,\"ticks\":\"\"},\"type\":\"choropleth\"}],\"contour\":[{\"colorbar\":{\"outlinewidth\":0,\"ticks\":\"\"},\"colorscale\":[[0.0,\"#0d0887\"],[0.1111111111111111,\"#46039f\"],[0.2222222222222222,\"#7201a8\"],[0.3333333333333333,\"#9c179e\"],[0.4444444444444444,\"#bd3786\"],[0.5555555555555556,\"#d8576b\"],[0.6666666666666666,\"#ed7953\"],[0.7777777777777778,\"#fb9f3a\"],[0.8888888888888888,\"#fdca26\"],[1.0,\"#f0f921\"]],\"type\":\"contour\"}],\"contourcarpet\":[{\"colorbar\":{\"outlinewidth\":0,\"ticks\":\"\"},\"type\":\"contourcarpet\"}],\"heatmap\":[{\"colorbar\":{\"outlinewidth\":0,\"ticks\":\"\"},\"colorscale\":[[0.0,\"#0d0887\"],[0.1111111111111111,\"#46039f\"],[0.2222222222222222,\"#7201a8\"],[0.3333333333333333,\"#9c179e\"],[0.4444444444444444,\"#bd3786\"],[0.5555555555555556,\"#d8576b\"],[0.6666666666666666,\"#ed7953\"],[0.7777777777777778,\"#fb9f3a\"],[0.8888888888888888,\"#fdca26\"],[1.0,\"#f0f921\"]],\"type\":\"heatmap\"}],\"heatmapgl\":[{\"colorbar\":{\"outlinewidth\":0,\"ticks\":\"\"},\"colorscale\":[[0.0,\"#0d0887\"],[0.1111111111111111,\"#46039f\"],[0.2222222222222222,\"#7201a8\"],[0.3333333333333333,\"#9c179e\"],[0.4444444444444444,\"#bd3786\"],[0.5555555555555556,\"#d8576b\"],[0.6666666666666666,\"#ed7953\"],[0.7777777777777778,\"#fb9f3a\"],[0.8888888888888888,\"#fdca26\"],[1.0,\"#f0f921\"]],\"type\":\"heatmapgl\"}],\"histogram\":[{\"marker\":{\"pattern\":{\"fillmode\":\"overlay\",\"size\":10,\"solidity\":0.2}},\"type\":\"histogram\"}],\"histogram2d\":[{\"colorbar\":{\"outlinewidth\":0,\"ticks\":\"\"},\"colorscale\":[[0.0,\"#0d0887\"],[0.1111111111111111,\"#46039f\"],[0.2222222222222222,\"#7201a8\"],[0.3333333333333333,\"#9c179e\"],[0.4444444444444444,\"#bd3786\"],[0.5555555555555556,\"#d8576b\"],[0.6666666666666666,\"#ed7953\"],[0.7777777777777778,\"#fb9f3a\"],[0.8888888888888888,\"#fdca26\"],[1.0,\"#f0f921\"]],\"type\":\"histogram2d\"}],\"histogram2dcontour\":[{\"colorbar\":{\"outlinewidth\":0,\"ticks\":\"\"},\"colorscale\":[[0.0,\"#0d0887\"],[0.1111111111111111,\"#46039f\"],[0.2222222222222222,\"#7201a8\"],[0.3333333333333333,\"#9c179e\"],[0.4444444444444444,\"#bd3786\"],[0.5555555555555556,\"#d8576b\"],[0.6666666666666666,\"#ed7953\"],[0.7777777777777778,\"#fb9f3a\"],[0.8888888888888888,\"#fdca26\"],[1.0,\"#f0f921\"]],\"type\":\"histogram2dcontour\"}],\"mesh3d\":[{\"colorbar\":{\"outlinewidth\":0,\"ticks\":\"\"},\"type\":\"mesh3d\"}],\"parcoords\":[{\"line\":{\"colorbar\":{\"outlinewidth\":0,\"ticks\":\"\"}},\"type\":\"parcoords\"}],\"pie\":[{\"automargin\":true,\"type\":\"pie\"}],\"scatter\":[{\"marker\":{\"colorbar\":{\"outlinewidth\":0,\"ticks\":\"\"}},\"type\":\"scatter\"}],\"scatter3d\":[{\"line\":{\"colorbar\":{\"outlinewidth\":0,\"ticks\":\"\"}},\"marker\":{\"colorbar\":{\"outlinewidth\":0,\"ticks\":\"\"}},\"type\":\"scatter3d\"}],\"scattercarpet\":[{\"marker\":{\"colorbar\":{\"outlinewidth\":0,\"ticks\":\"\"}},\"type\":\"scattercarpet\"}],\"scattergeo\":[{\"marker\":{\"colorbar\":{\"outlinewidth\":0,\"ticks\":\"\"}},\"type\":\"scattergeo\"}],\"scattergl\":[{\"marker\":{\"colorbar\":{\"outlinewidth\":0,\"ticks\":\"\"}},\"type\":\"scattergl\"}],\"scattermapbox\":[{\"marker\":{\"colorbar\":{\"outlinewidth\":0,\"ticks\":\"\"}},\"type\":\"scattermapbox\"}],\"scatterpolar\":[{\"marker\":{\"colorbar\":{\"outlinewidth\":0,\"ticks\":\"\"}},\"type\":\"scatterpolar\"}],\"scatterpolargl\":[{\"marker\":{\"colorbar\":{\"outlinewidth\":0,\"ticks\":\"\"}},\"type\":\"scatterpolargl\"}],\"scatterternary\":[{\"marker\":{\"colorbar\":{\"outlinewidth\":0,\"ticks\":\"\"}},\"type\":\"scatterternary\"}],\"surface\":[{\"colorbar\":{\"outlinewidth\":0,\"ticks\":\"\"},\"colorscale\":[[0.0,\"#0d0887\"],[0.1111111111111111,\"#46039f\"],[0.2222222222222222,\"#7201a8\"],[0.3333333333333333,\"#9c179e\"],[0.4444444444444444,\"#bd3786\"],[0.5555555555555556,\"#d8576b\"],[0.6666666666666666,\"#ed7953\"],[0.7777777777777778,\"#fb9f3a\"],[0.8888888888888888,\"#fdca26\"],[1.0,\"#f0f921\"]],\"type\":\"surface\"}],\"table\":[{\"cells\":{\"fill\":{\"color\":\"#EBF0F8\"},\"line\":{\"color\":\"white\"}},\"header\":{\"fill\":{\"color\":\"#C8D4E3\"},\"line\":{\"color\":\"white\"}},\"type\":\"table\"}]},\"layout\":{\"annotationdefaults\":{\"arrowcolor\":\"#2a3f5f\",\"arrowhead\":0,\"arrowwidth\":1},\"autotypenumbers\":\"strict\",\"coloraxis\":{\"colorbar\":{\"outlinewidth\":0,\"ticks\":\"\"}},\"colorscale\":{\"diverging\":[[0,\"#8e0152\"],[0.1,\"#c51b7d\"],[0.2,\"#de77ae\"],[0.3,\"#f1b6da\"],[0.4,\"#fde0ef\"],[0.5,\"#f7f7f7\"],[0.6,\"#e6f5d0\"],[0.7,\"#b8e186\"],[0.8,\"#7fbc41\"],[0.9,\"#4d9221\"],[1,\"#276419\"]],\"sequential\":[[0.0,\"#0d0887\"],[0.1111111111111111,\"#46039f\"],[0.2222222222222222,\"#7201a8\"],[0.3333333333333333,\"#9c179e\"],[0.4444444444444444,\"#bd3786\"],[0.5555555555555556,\"#d8576b\"],[0.6666666666666666,\"#ed7953\"],[0.7777777777777778,\"#fb9f3a\"],[0.8888888888888888,\"#fdca26\"],[1.0,\"#f0f921\"]],\"sequentialminus\":[[0.0,\"#0d0887\"],[0.1111111111111111,\"#46039f\"],[0.2222222222222222,\"#7201a8\"],[0.3333333333333333,\"#9c179e\"],[0.4444444444444444,\"#bd3786\"],[0.5555555555555556,\"#d8576b\"],[0.6666666666666666,\"#ed7953\"],[0.7777777777777778,\"#fb9f3a\"],[0.8888888888888888,\"#fdca26\"],[1.0,\"#f0f921\"]]},\"colorway\":[\"#636efa\",\"#EF553B\",\"#00cc96\",\"#ab63fa\",\"#FFA15A\",\"#19d3f3\",\"#FF6692\",\"#B6E880\",\"#FF97FF\",\"#FECB52\"],\"font\":{\"color\":\"#2a3f5f\"},\"geo\":{\"bgcolor\":\"white\",\"lakecolor\":\"white\",\"landcolor\":\"#E5ECF6\",\"showlakes\":true,\"showland\":true,\"subunitcolor\":\"white\"},\"hoverlabel\":{\"align\":\"left\"},\"hovermode\":\"closest\",\"mapbox\":{\"style\":\"light\"},\"paper_bgcolor\":\"white\",\"plot_bgcolor\":\"#E5ECF6\",\"polar\":{\"angularaxis\":{\"gridcolor\":\"white\",\"linecolor\":\"white\",\"ticks\":\"\"},\"bgcolor\":\"#E5ECF6\",\"radialaxis\":{\"gridcolor\":\"white\",\"linecolor\":\"white\",\"ticks\":\"\"}},\"scene\":{\"xaxis\":{\"backgroundcolor\":\"#E5ECF6\",\"gridcolor\":\"white\",\"gridwidth\":2,\"linecolor\":\"white\",\"showbackground\":true,\"ticks\":\"\",\"zerolinecolor\":\"white\"},\"yaxis\":{\"backgroundcolor\":\"#E5ECF6\",\"gridcolor\":\"white\",\"gridwidth\":2,\"linecolor\":\"white\",\"showbackground\":true,\"ticks\":\"\",\"zerolinecolor\":\"white\"},\"zaxis\":{\"backgroundcolor\":\"#E5ECF6\",\"gridcolor\":\"white\",\"gridwidth\":2,\"linecolor\":\"white\",\"showbackground\":true,\"ticks\":\"\",\"zerolinecolor\":\"white\"}},\"shapedefaults\":{\"line\":{\"color\":\"#2a3f5f\"}},\"ternary\":{\"aaxis\":{\"gridcolor\":\"white\",\"linecolor\":\"white\",\"ticks\":\"\"},\"baxis\":{\"gridcolor\":\"white\",\"linecolor\":\"white\",\"ticks\":\"\"},\"bgcolor\":\"#E5ECF6\",\"caxis\":{\"gridcolor\":\"white\",\"linecolor\":\"white\",\"ticks\":\"\"}},\"title\":{\"x\":0.05},\"xaxis\":{\"automargin\":true,\"gridcolor\":\"white\",\"linecolor\":\"white\",\"ticks\":\"\",\"title\":{\"standoff\":15},\"zerolinecolor\":\"white\",\"zerolinewidth\":2},\"yaxis\":{\"automargin\":true,\"gridcolor\":\"white\",\"linecolor\":\"white\",\"ticks\":\"\",\"title\":{\"standoff\":15},\"zerolinecolor\":\"white\",\"zerolinewidth\":2}}},\"title\":{\"text\":\"Lucro por se\\u00e7\\u00e3o no m\\u00eas de novembro\"},\"xaxis\":{\"gridcolor\":\"lightgray\",\"gridwidth\":1,\"linecolor\":\"black\",\"linewidth\":1,\"showgrid\":true,\"showline\":true,\"title\":{\"text\":\"Data\"}},\"yaxis\":{\"gridcolor\":\"lightgray\",\"gridwidth\":1,\"linecolor\":\"black\",\"linewidth\":1,\"showgrid\":true,\"showline\":true,\"title\":{\"text\":\"Lucro\"}}},                        {\"responsive\": true}                    ).then(function(){\n",
       "                            \n",
       "var gd = document.getElementById('bfc046e1-45eb-44d7-b84a-fdfe93437264');\n",
       "var x = new MutationObserver(function (mutations, observer) {{\n",
       "        var display = window.getComputedStyle(gd).display;\n",
       "        if (!display || display === 'none') {{\n",
       "            console.log([gd, 'removed!']);\n",
       "            Plotly.purge(gd);\n",
       "            observer.disconnect();\n",
       "        }}\n",
       "}});\n",
       "\n",
       "// Listen for the removal of the full notebook cells\n",
       "var notebookContainer = gd.closest('#notebook-container');\n",
       "if (notebookContainer) {{\n",
       "    x.observe(notebookContainer, {childList: true});\n",
       "}}\n",
       "\n",
       "// Listen for the clearing of the current output cell\n",
       "var outputEl = gd.closest('.output');\n",
       "if (outputEl) {{\n",
       "    x.observe(outputEl, {childList: true});\n",
       "}}\n",
       "\n",
       "                        })                };                });            </script>        </div>"
      ]
     },
     "metadata": {},
     "output_type": "display_data"
    }
   ],
   "source": [
    "import plotly.graph_objs as go\n",
    "fig_lucro_tempo = go.Figure()\n",
    "\n",
    "fig_lucro_tempo.add_trace(go.Scatter(x=venda_produtos_cliente_soma_lucros[\"data\"], y=venda_produtos_cliente_soma_lucros[\"lucro\"], \n",
    "              mode = 'markers+lines', name = 'Lucro total'))\n",
    "\n",
    "fig_lucro_tempo.add_trace(go.Scatter(x = df_acougue_lucros[\"data\"],\n",
    "                    y = df_acougue_lucros[\"lucro\"],\n",
    "                    mode = 'markers+lines',\n",
    "                    name = 'Lucro por dia no açougue')) \n",
    "\n",
    "\n",
    "fig_lucro_tempo.add_trace(go.Scatter(x = df_frutas_e_verduras_lucros[\"data\"],\n",
    "                    y = df_frutas_e_verduras_lucros[\"lucro\"],\n",
    "                    mode = 'markers+lines',\n",
    "                    name = 'Lucro por dia na seção de frutas e verduras'))\n",
    "\n",
    "\n",
    "fig_lucro_tempo.add_trace(go.Scatter(x = df_padaria_lucros[\"data\"],\n",
    "                    y = df_padaria_lucros[\"lucro\"],\n",
    "                    mode = 'markers+lines',\n",
    "                    name = 'Lucro por dia na padaria')) \n",
    "\n",
    "\n",
    "fig_lucro_tempo.add_trace(go.Scatter(x = df_produtos_de_limpeza_lucros[\"data\"],\n",
    "                    y = df_produtos_de_limpeza_lucros[\"lucro\"],\n",
    "                    mode = 'markers+lines',\n",
    "                    name = 'Lucro por dia na seção de limpezas')) \n",
    "\n",
    "fig_lucro_tempo.update_layout(title='Lucro por seção no mês de novembro',\n",
    "xaxis_title='Data',\n",
    "yaxis_title='Lucro',\n",
    "plot_bgcolor = 'white',\n",
    "font = {'family': 'Arial','size': 14,'color': 'black'})\n",
    "fig_lucro_tempo.update_xaxes( showgrid=True, gridwidth=1, gridcolor='lightgray',\n",
    "showline=True, linewidth=1, linecolor='black')\n",
    "fig_lucro_tempo.update_yaxes(showgrid=True, gridwidth=1, gridcolor='lightgray',\n",
    "showline=True, linewidth=1, linecolor='black')\n",
    "fig_lucro_tempo.show()"
   ]
  },
  {
   "cell_type": "code",
   "execution_count": null,
   "id": "0f518b78",
   "metadata": {},
   "outputs": [],
   "source": []
  },
  {
   "cell_type": "code",
   "execution_count": 107,
   "id": "ffea88e2",
   "metadata": {},
   "outputs": [
    {
     "data": {
      "application/vnd.plotly.v1+json": {
       "config": {
        "plotlyServerURL": "https://plot.ly"
       },
       "data": [
        {
         "alignmentgroup": "True",
         "hovertemplate": "Seção=%{y}<br>Lucro=%{x}<extra></extra>",
         "legendgroup": "Açougue",
         "marker": {
          "color": "#EF553B",
          "pattern": {
           "shape": ""
          }
         },
         "name": "Açougue",
         "offsetgroup": "Açougue",
         "orientation": "h",
         "showlegend": true,
         "textposition": "auto",
         "type": "bar",
         "x": [
          16649.480000000014
         ],
         "xaxis": "x",
         "y": [
          "Açougue"
         ],
         "yaxis": "y"
        },
        {
         "alignmentgroup": "True",
         "hovertemplate": "Seção=%{y}<br>Lucro=%{x}<extra></extra>",
         "legendgroup": "Padaria",
         "marker": {
          "color": "#AB63FA",
          "pattern": {
           "shape": ""
          }
         },
         "name": "Padaria",
         "offsetgroup": "Padaria",
         "orientation": "h",
         "showlegend": true,
         "textposition": "auto",
         "type": "bar",
         "x": [
          9906.970000000014
         ],
         "xaxis": "x",
         "y": [
          "Padaria"
         ],
         "yaxis": "y"
        },
        {
         "alignmentgroup": "True",
         "hovertemplate": "Seção=%{y}<br>Lucro=%{x}<extra></extra>",
         "legendgroup": "Alimentos em Geral",
         "marker": {
          "color": "#00CC96",
          "pattern": {
           "shape": ""
          }
         },
         "name": "Alimentos em Geral",
         "offsetgroup": "Alimentos em Geral",
         "orientation": "h",
         "showlegend": true,
         "textposition": "auto",
         "type": "bar",
         "x": [
          4853.7699999999995
         ],
         "xaxis": "x",
         "y": [
          "Alimentos em Geral"
         ],
         "yaxis": "y"
        },
        {
         "alignmentgroup": "True",
         "hovertemplate": "Seção=%{y}<br>Lucro=%{x}<extra></extra>",
         "legendgroup": "Produtos de Limpeza",
         "marker": {
          "color": "#FFA15A",
          "pattern": {
           "shape": ""
          }
         },
         "name": "Produtos de Limpeza",
         "offsetgroup": "Produtos de Limpeza",
         "orientation": "h",
         "showlegend": true,
         "textposition": "auto",
         "type": "bar",
         "x": [
          4755.34
         ],
         "xaxis": "x",
         "y": [
          "Produtos de Limpeza"
         ],
         "yaxis": "y"
        }
       ],
       "layout": {
        "barmode": "stack",
        "legend": {
         "title": {
          "text": "Seção"
         },
         "tracegroupgap": 0
        },
        "margin": {
         "t": 60
        },
        "template": {
         "data": {
          "bar": [
           {
            "error_x": {
             "color": "#2a3f5f"
            },
            "error_y": {
             "color": "#2a3f5f"
            },
            "marker": {
             "line": {
              "color": "#E5ECF6",
              "width": 0.5
             },
             "pattern": {
              "fillmode": "overlay",
              "size": 10,
              "solidity": 0.2
             }
            },
            "type": "bar"
           }
          ],
          "barpolar": [
           {
            "marker": {
             "line": {
              "color": "#E5ECF6",
              "width": 0.5
             },
             "pattern": {
              "fillmode": "overlay",
              "size": 10,
              "solidity": 0.2
             }
            },
            "type": "barpolar"
           }
          ],
          "carpet": [
           {
            "aaxis": {
             "endlinecolor": "#2a3f5f",
             "gridcolor": "white",
             "linecolor": "white",
             "minorgridcolor": "white",
             "startlinecolor": "#2a3f5f"
            },
            "baxis": {
             "endlinecolor": "#2a3f5f",
             "gridcolor": "white",
             "linecolor": "white",
             "minorgridcolor": "white",
             "startlinecolor": "#2a3f5f"
            },
            "type": "carpet"
           }
          ],
          "choropleth": [
           {
            "colorbar": {
             "outlinewidth": 0,
             "ticks": ""
            },
            "type": "choropleth"
           }
          ],
          "contour": [
           {
            "colorbar": {
             "outlinewidth": 0,
             "ticks": ""
            },
            "colorscale": [
             [
              0,
              "#0d0887"
             ],
             [
              0.1111111111111111,
              "#46039f"
             ],
             [
              0.2222222222222222,
              "#7201a8"
             ],
             [
              0.3333333333333333,
              "#9c179e"
             ],
             [
              0.4444444444444444,
              "#bd3786"
             ],
             [
              0.5555555555555556,
              "#d8576b"
             ],
             [
              0.6666666666666666,
              "#ed7953"
             ],
             [
              0.7777777777777778,
              "#fb9f3a"
             ],
             [
              0.8888888888888888,
              "#fdca26"
             ],
             [
              1,
              "#f0f921"
             ]
            ],
            "type": "contour"
           }
          ],
          "contourcarpet": [
           {
            "colorbar": {
             "outlinewidth": 0,
             "ticks": ""
            },
            "type": "contourcarpet"
           }
          ],
          "heatmap": [
           {
            "colorbar": {
             "outlinewidth": 0,
             "ticks": ""
            },
            "colorscale": [
             [
              0,
              "#0d0887"
             ],
             [
              0.1111111111111111,
              "#46039f"
             ],
             [
              0.2222222222222222,
              "#7201a8"
             ],
             [
              0.3333333333333333,
              "#9c179e"
             ],
             [
              0.4444444444444444,
              "#bd3786"
             ],
             [
              0.5555555555555556,
              "#d8576b"
             ],
             [
              0.6666666666666666,
              "#ed7953"
             ],
             [
              0.7777777777777778,
              "#fb9f3a"
             ],
             [
              0.8888888888888888,
              "#fdca26"
             ],
             [
              1,
              "#f0f921"
             ]
            ],
            "type": "heatmap"
           }
          ],
          "heatmapgl": [
           {
            "colorbar": {
             "outlinewidth": 0,
             "ticks": ""
            },
            "colorscale": [
             [
              0,
              "#0d0887"
             ],
             [
              0.1111111111111111,
              "#46039f"
             ],
             [
              0.2222222222222222,
              "#7201a8"
             ],
             [
              0.3333333333333333,
              "#9c179e"
             ],
             [
              0.4444444444444444,
              "#bd3786"
             ],
             [
              0.5555555555555556,
              "#d8576b"
             ],
             [
              0.6666666666666666,
              "#ed7953"
             ],
             [
              0.7777777777777778,
              "#fb9f3a"
             ],
             [
              0.8888888888888888,
              "#fdca26"
             ],
             [
              1,
              "#f0f921"
             ]
            ],
            "type": "heatmapgl"
           }
          ],
          "histogram": [
           {
            "marker": {
             "pattern": {
              "fillmode": "overlay",
              "size": 10,
              "solidity": 0.2
             }
            },
            "type": "histogram"
           }
          ],
          "histogram2d": [
           {
            "colorbar": {
             "outlinewidth": 0,
             "ticks": ""
            },
            "colorscale": [
             [
              0,
              "#0d0887"
             ],
             [
              0.1111111111111111,
              "#46039f"
             ],
             [
              0.2222222222222222,
              "#7201a8"
             ],
             [
              0.3333333333333333,
              "#9c179e"
             ],
             [
              0.4444444444444444,
              "#bd3786"
             ],
             [
              0.5555555555555556,
              "#d8576b"
             ],
             [
              0.6666666666666666,
              "#ed7953"
             ],
             [
              0.7777777777777778,
              "#fb9f3a"
             ],
             [
              0.8888888888888888,
              "#fdca26"
             ],
             [
              1,
              "#f0f921"
             ]
            ],
            "type": "histogram2d"
           }
          ],
          "histogram2dcontour": [
           {
            "colorbar": {
             "outlinewidth": 0,
             "ticks": ""
            },
            "colorscale": [
             [
              0,
              "#0d0887"
             ],
             [
              0.1111111111111111,
              "#46039f"
             ],
             [
              0.2222222222222222,
              "#7201a8"
             ],
             [
              0.3333333333333333,
              "#9c179e"
             ],
             [
              0.4444444444444444,
              "#bd3786"
             ],
             [
              0.5555555555555556,
              "#d8576b"
             ],
             [
              0.6666666666666666,
              "#ed7953"
             ],
             [
              0.7777777777777778,
              "#fb9f3a"
             ],
             [
              0.8888888888888888,
              "#fdca26"
             ],
             [
              1,
              "#f0f921"
             ]
            ],
            "type": "histogram2dcontour"
           }
          ],
          "mesh3d": [
           {
            "colorbar": {
             "outlinewidth": 0,
             "ticks": ""
            },
            "type": "mesh3d"
           }
          ],
          "parcoords": [
           {
            "line": {
             "colorbar": {
              "outlinewidth": 0,
              "ticks": ""
             }
            },
            "type": "parcoords"
           }
          ],
          "pie": [
           {
            "automargin": true,
            "type": "pie"
           }
          ],
          "scatter": [
           {
            "marker": {
             "colorbar": {
              "outlinewidth": 0,
              "ticks": ""
             }
            },
            "type": "scatter"
           }
          ],
          "scatter3d": [
           {
            "line": {
             "colorbar": {
              "outlinewidth": 0,
              "ticks": ""
             }
            },
            "marker": {
             "colorbar": {
              "outlinewidth": 0,
              "ticks": ""
             }
            },
            "type": "scatter3d"
           }
          ],
          "scattercarpet": [
           {
            "marker": {
             "colorbar": {
              "outlinewidth": 0,
              "ticks": ""
             }
            },
            "type": "scattercarpet"
           }
          ],
          "scattergeo": [
           {
            "marker": {
             "colorbar": {
              "outlinewidth": 0,
              "ticks": ""
             }
            },
            "type": "scattergeo"
           }
          ],
          "scattergl": [
           {
            "marker": {
             "colorbar": {
              "outlinewidth": 0,
              "ticks": ""
             }
            },
            "type": "scattergl"
           }
          ],
          "scattermapbox": [
           {
            "marker": {
             "colorbar": {
              "outlinewidth": 0,
              "ticks": ""
             }
            },
            "type": "scattermapbox"
           }
          ],
          "scatterpolar": [
           {
            "marker": {
             "colorbar": {
              "outlinewidth": 0,
              "ticks": ""
             }
            },
            "type": "scatterpolar"
           }
          ],
          "scatterpolargl": [
           {
            "marker": {
             "colorbar": {
              "outlinewidth": 0,
              "ticks": ""
             }
            },
            "type": "scatterpolargl"
           }
          ],
          "scatterternary": [
           {
            "marker": {
             "colorbar": {
              "outlinewidth": 0,
              "ticks": ""
             }
            },
            "type": "scatterternary"
           }
          ],
          "surface": [
           {
            "colorbar": {
             "outlinewidth": 0,
             "ticks": ""
            },
            "colorscale": [
             [
              0,
              "#0d0887"
             ],
             [
              0.1111111111111111,
              "#46039f"
             ],
             [
              0.2222222222222222,
              "#7201a8"
             ],
             [
              0.3333333333333333,
              "#9c179e"
             ],
             [
              0.4444444444444444,
              "#bd3786"
             ],
             [
              0.5555555555555556,
              "#d8576b"
             ],
             [
              0.6666666666666666,
              "#ed7953"
             ],
             [
              0.7777777777777778,
              "#fb9f3a"
             ],
             [
              0.8888888888888888,
              "#fdca26"
             ],
             [
              1,
              "#f0f921"
             ]
            ],
            "type": "surface"
           }
          ],
          "table": [
           {
            "cells": {
             "fill": {
              "color": "#EBF0F8"
             },
             "line": {
              "color": "white"
             }
            },
            "header": {
             "fill": {
              "color": "#C8D4E3"
             },
             "line": {
              "color": "white"
             }
            },
            "type": "table"
           }
          ]
         },
         "layout": {
          "annotationdefaults": {
           "arrowcolor": "#2a3f5f",
           "arrowhead": 0,
           "arrowwidth": 1
          },
          "autotypenumbers": "strict",
          "coloraxis": {
           "colorbar": {
            "outlinewidth": 0,
            "ticks": ""
           }
          },
          "colorscale": {
           "diverging": [
            [
             0,
             "#8e0152"
            ],
            [
             0.1,
             "#c51b7d"
            ],
            [
             0.2,
             "#de77ae"
            ],
            [
             0.3,
             "#f1b6da"
            ],
            [
             0.4,
             "#fde0ef"
            ],
            [
             0.5,
             "#f7f7f7"
            ],
            [
             0.6,
             "#e6f5d0"
            ],
            [
             0.7,
             "#b8e186"
            ],
            [
             0.8,
             "#7fbc41"
            ],
            [
             0.9,
             "#4d9221"
            ],
            [
             1,
             "#276419"
            ]
           ],
           "sequential": [
            [
             0,
             "#0d0887"
            ],
            [
             0.1111111111111111,
             "#46039f"
            ],
            [
             0.2222222222222222,
             "#7201a8"
            ],
            [
             0.3333333333333333,
             "#9c179e"
            ],
            [
             0.4444444444444444,
             "#bd3786"
            ],
            [
             0.5555555555555556,
             "#d8576b"
            ],
            [
             0.6666666666666666,
             "#ed7953"
            ],
            [
             0.7777777777777778,
             "#fb9f3a"
            ],
            [
             0.8888888888888888,
             "#fdca26"
            ],
            [
             1,
             "#f0f921"
            ]
           ],
           "sequentialminus": [
            [
             0,
             "#0d0887"
            ],
            [
             0.1111111111111111,
             "#46039f"
            ],
            [
             0.2222222222222222,
             "#7201a8"
            ],
            [
             0.3333333333333333,
             "#9c179e"
            ],
            [
             0.4444444444444444,
             "#bd3786"
            ],
            [
             0.5555555555555556,
             "#d8576b"
            ],
            [
             0.6666666666666666,
             "#ed7953"
            ],
            [
             0.7777777777777778,
             "#fb9f3a"
            ],
            [
             0.8888888888888888,
             "#fdca26"
            ],
            [
             1,
             "#f0f921"
            ]
           ]
          },
          "colorway": [
           "#636efa",
           "#EF553B",
           "#00cc96",
           "#ab63fa",
           "#FFA15A",
           "#19d3f3",
           "#FF6692",
           "#B6E880",
           "#FF97FF",
           "#FECB52"
          ],
          "font": {
           "color": "#2a3f5f"
          },
          "geo": {
           "bgcolor": "white",
           "lakecolor": "white",
           "landcolor": "#E5ECF6",
           "showlakes": true,
           "showland": true,
           "subunitcolor": "white"
          },
          "hoverlabel": {
           "align": "left"
          },
          "hovermode": "closest",
          "mapbox": {
           "style": "light"
          },
          "paper_bgcolor": "white",
          "plot_bgcolor": "#E5ECF6",
          "polar": {
           "angularaxis": {
            "gridcolor": "white",
            "linecolor": "white",
            "ticks": ""
           },
           "bgcolor": "#E5ECF6",
           "radialaxis": {
            "gridcolor": "white",
            "linecolor": "white",
            "ticks": ""
           }
          },
          "scene": {
           "xaxis": {
            "backgroundcolor": "#E5ECF6",
            "gridcolor": "white",
            "gridwidth": 2,
            "linecolor": "white",
            "showbackground": true,
            "ticks": "",
            "zerolinecolor": "white"
           },
           "yaxis": {
            "backgroundcolor": "#E5ECF6",
            "gridcolor": "white",
            "gridwidth": 2,
            "linecolor": "white",
            "showbackground": true,
            "ticks": "",
            "zerolinecolor": "white"
           },
           "zaxis": {
            "backgroundcolor": "#E5ECF6",
            "gridcolor": "white",
            "gridwidth": 2,
            "linecolor": "white",
            "showbackground": true,
            "ticks": "",
            "zerolinecolor": "white"
           }
          },
          "shapedefaults": {
           "line": {
            "color": "#2a3f5f"
           }
          },
          "ternary": {
           "aaxis": {
            "gridcolor": "white",
            "linecolor": "white",
            "ticks": ""
           },
           "baxis": {
            "gridcolor": "white",
            "linecolor": "white",
            "ticks": ""
           },
           "bgcolor": "#E5ECF6",
           "caxis": {
            "gridcolor": "white",
            "linecolor": "white",
            "ticks": ""
           }
          },
          "title": {
           "x": 0.05
          },
          "xaxis": {
           "automargin": true,
           "gridcolor": "white",
           "linecolor": "white",
           "ticks": "",
           "title": {
            "standoff": 15
           },
           "zerolinecolor": "white",
           "zerolinewidth": 2
          },
          "yaxis": {
           "automargin": true,
           "gridcolor": "white",
           "linecolor": "white",
           "ticks": "",
           "title": {
            "standoff": 15
           },
           "zerolinecolor": "white",
           "zerolinewidth": 2
          }
         }
        },
        "title": {
         "text": "Lucros por seção"
        },
        "xaxis": {
         "anchor": "y",
         "domain": [
          0,
          1
         ],
         "title": {
          "text": "Lucro"
         }
        },
        "yaxis": {
         "anchor": "x",
         "categoryarray": [
          "Produtos de Limpeza",
          "Alimentos em Geral",
          "Padaria",
          "Açougue"
         ],
         "categoryorder": "total descending",
         "domain": [
          0,
          1
         ],
         "title": {
          "text": "Seção"
         }
        }
       }
      },
      "text/html": [
       "<div>                            <div id=\"78fd117d-78b7-49f9-9207-37cea83ba01a\" class=\"plotly-graph-div\" style=\"height:525px; width:100%;\"></div>            <script type=\"text/javascript\">                require([\"plotly\"], function(Plotly) {                    window.PLOTLYENV=window.PLOTLYENV || {};                                    if (document.getElementById(\"78fd117d-78b7-49f9-9207-37cea83ba01a\")) {                    Plotly.newPlot(                        \"78fd117d-78b7-49f9-9207-37cea83ba01a\",                        [{\"alignmentgroup\":\"True\",\"hovertemplate\":\"Se\\u00e7\\u00e3o=%{y}<br>Lucro=%{x}<extra></extra>\",\"legendgroup\":\"A\\u00e7ougue\",\"marker\":{\"color\":\"#EF553B\",\"pattern\":{\"shape\":\"\"}},\"name\":\"A\\u00e7ougue\",\"offsetgroup\":\"A\\u00e7ougue\",\"orientation\":\"h\",\"showlegend\":true,\"textposition\":\"auto\",\"type\":\"bar\",\"x\":[16649.480000000014],\"xaxis\":\"x\",\"y\":[\"A\\u00e7ougue\"],\"yaxis\":\"y\"},{\"alignmentgroup\":\"True\",\"hovertemplate\":\"Se\\u00e7\\u00e3o=%{y}<br>Lucro=%{x}<extra></extra>\",\"legendgroup\":\"Padaria\",\"marker\":{\"color\":\"#AB63FA\",\"pattern\":{\"shape\":\"\"}},\"name\":\"Padaria\",\"offsetgroup\":\"Padaria\",\"orientation\":\"h\",\"showlegend\":true,\"textposition\":\"auto\",\"type\":\"bar\",\"x\":[9906.970000000014],\"xaxis\":\"x\",\"y\":[\"Padaria\"],\"yaxis\":\"y\"},{\"alignmentgroup\":\"True\",\"hovertemplate\":\"Se\\u00e7\\u00e3o=%{y}<br>Lucro=%{x}<extra></extra>\",\"legendgroup\":\"Alimentos em Geral\",\"marker\":{\"color\":\"#00CC96\",\"pattern\":{\"shape\":\"\"}},\"name\":\"Alimentos em Geral\",\"offsetgroup\":\"Alimentos em Geral\",\"orientation\":\"h\",\"showlegend\":true,\"textposition\":\"auto\",\"type\":\"bar\",\"x\":[4853.7699999999995],\"xaxis\":\"x\",\"y\":[\"Alimentos em Geral\"],\"yaxis\":\"y\"},{\"alignmentgroup\":\"True\",\"hovertemplate\":\"Se\\u00e7\\u00e3o=%{y}<br>Lucro=%{x}<extra></extra>\",\"legendgroup\":\"Produtos de Limpeza\",\"marker\":{\"color\":\"#FFA15A\",\"pattern\":{\"shape\":\"\"}},\"name\":\"Produtos de Limpeza\",\"offsetgroup\":\"Produtos de Limpeza\",\"orientation\":\"h\",\"showlegend\":true,\"textposition\":\"auto\",\"type\":\"bar\",\"x\":[4755.34],\"xaxis\":\"x\",\"y\":[\"Produtos de Limpeza\"],\"yaxis\":\"y\"}],                        {\"barmode\":\"stack\",\"legend\":{\"title\":{\"text\":\"Se\\u00e7\\u00e3o\"},\"tracegroupgap\":0},\"margin\":{\"t\":60},\"template\":{\"data\":{\"bar\":[{\"error_x\":{\"color\":\"#2a3f5f\"},\"error_y\":{\"color\":\"#2a3f5f\"},\"marker\":{\"line\":{\"color\":\"#E5ECF6\",\"width\":0.5},\"pattern\":{\"fillmode\":\"overlay\",\"size\":10,\"solidity\":0.2}},\"type\":\"bar\"}],\"barpolar\":[{\"marker\":{\"line\":{\"color\":\"#E5ECF6\",\"width\":0.5},\"pattern\":{\"fillmode\":\"overlay\",\"size\":10,\"solidity\":0.2}},\"type\":\"barpolar\"}],\"carpet\":[{\"aaxis\":{\"endlinecolor\":\"#2a3f5f\",\"gridcolor\":\"white\",\"linecolor\":\"white\",\"minorgridcolor\":\"white\",\"startlinecolor\":\"#2a3f5f\"},\"baxis\":{\"endlinecolor\":\"#2a3f5f\",\"gridcolor\":\"white\",\"linecolor\":\"white\",\"minorgridcolor\":\"white\",\"startlinecolor\":\"#2a3f5f\"},\"type\":\"carpet\"}],\"choropleth\":[{\"colorbar\":{\"outlinewidth\":0,\"ticks\":\"\"},\"type\":\"choropleth\"}],\"contour\":[{\"colorbar\":{\"outlinewidth\":0,\"ticks\":\"\"},\"colorscale\":[[0.0,\"#0d0887\"],[0.1111111111111111,\"#46039f\"],[0.2222222222222222,\"#7201a8\"],[0.3333333333333333,\"#9c179e\"],[0.4444444444444444,\"#bd3786\"],[0.5555555555555556,\"#d8576b\"],[0.6666666666666666,\"#ed7953\"],[0.7777777777777778,\"#fb9f3a\"],[0.8888888888888888,\"#fdca26\"],[1.0,\"#f0f921\"]],\"type\":\"contour\"}],\"contourcarpet\":[{\"colorbar\":{\"outlinewidth\":0,\"ticks\":\"\"},\"type\":\"contourcarpet\"}],\"heatmap\":[{\"colorbar\":{\"outlinewidth\":0,\"ticks\":\"\"},\"colorscale\":[[0.0,\"#0d0887\"],[0.1111111111111111,\"#46039f\"],[0.2222222222222222,\"#7201a8\"],[0.3333333333333333,\"#9c179e\"],[0.4444444444444444,\"#bd3786\"],[0.5555555555555556,\"#d8576b\"],[0.6666666666666666,\"#ed7953\"],[0.7777777777777778,\"#fb9f3a\"],[0.8888888888888888,\"#fdca26\"],[1.0,\"#f0f921\"]],\"type\":\"heatmap\"}],\"heatmapgl\":[{\"colorbar\":{\"outlinewidth\":0,\"ticks\":\"\"},\"colorscale\":[[0.0,\"#0d0887\"],[0.1111111111111111,\"#46039f\"],[0.2222222222222222,\"#7201a8\"],[0.3333333333333333,\"#9c179e\"],[0.4444444444444444,\"#bd3786\"],[0.5555555555555556,\"#d8576b\"],[0.6666666666666666,\"#ed7953\"],[0.7777777777777778,\"#fb9f3a\"],[0.8888888888888888,\"#fdca26\"],[1.0,\"#f0f921\"]],\"type\":\"heatmapgl\"}],\"histogram\":[{\"marker\":{\"pattern\":{\"fillmode\":\"overlay\",\"size\":10,\"solidity\":0.2}},\"type\":\"histogram\"}],\"histogram2d\":[{\"colorbar\":{\"outlinewidth\":0,\"ticks\":\"\"},\"colorscale\":[[0.0,\"#0d0887\"],[0.1111111111111111,\"#46039f\"],[0.2222222222222222,\"#7201a8\"],[0.3333333333333333,\"#9c179e\"],[0.4444444444444444,\"#bd3786\"],[0.5555555555555556,\"#d8576b\"],[0.6666666666666666,\"#ed7953\"],[0.7777777777777778,\"#fb9f3a\"],[0.8888888888888888,\"#fdca26\"],[1.0,\"#f0f921\"]],\"type\":\"histogram2d\"}],\"histogram2dcontour\":[{\"colorbar\":{\"outlinewidth\":0,\"ticks\":\"\"},\"colorscale\":[[0.0,\"#0d0887\"],[0.1111111111111111,\"#46039f\"],[0.2222222222222222,\"#7201a8\"],[0.3333333333333333,\"#9c179e\"],[0.4444444444444444,\"#bd3786\"],[0.5555555555555556,\"#d8576b\"],[0.6666666666666666,\"#ed7953\"],[0.7777777777777778,\"#fb9f3a\"],[0.8888888888888888,\"#fdca26\"],[1.0,\"#f0f921\"]],\"type\":\"histogram2dcontour\"}],\"mesh3d\":[{\"colorbar\":{\"outlinewidth\":0,\"ticks\":\"\"},\"type\":\"mesh3d\"}],\"parcoords\":[{\"line\":{\"colorbar\":{\"outlinewidth\":0,\"ticks\":\"\"}},\"type\":\"parcoords\"}],\"pie\":[{\"automargin\":true,\"type\":\"pie\"}],\"scatter\":[{\"marker\":{\"colorbar\":{\"outlinewidth\":0,\"ticks\":\"\"}},\"type\":\"scatter\"}],\"scatter3d\":[{\"line\":{\"colorbar\":{\"outlinewidth\":0,\"ticks\":\"\"}},\"marker\":{\"colorbar\":{\"outlinewidth\":0,\"ticks\":\"\"}},\"type\":\"scatter3d\"}],\"scattercarpet\":[{\"marker\":{\"colorbar\":{\"outlinewidth\":0,\"ticks\":\"\"}},\"type\":\"scattercarpet\"}],\"scattergeo\":[{\"marker\":{\"colorbar\":{\"outlinewidth\":0,\"ticks\":\"\"}},\"type\":\"scattergeo\"}],\"scattergl\":[{\"marker\":{\"colorbar\":{\"outlinewidth\":0,\"ticks\":\"\"}},\"type\":\"scattergl\"}],\"scattermapbox\":[{\"marker\":{\"colorbar\":{\"outlinewidth\":0,\"ticks\":\"\"}},\"type\":\"scattermapbox\"}],\"scatterpolar\":[{\"marker\":{\"colorbar\":{\"outlinewidth\":0,\"ticks\":\"\"}},\"type\":\"scatterpolar\"}],\"scatterpolargl\":[{\"marker\":{\"colorbar\":{\"outlinewidth\":0,\"ticks\":\"\"}},\"type\":\"scatterpolargl\"}],\"scatterternary\":[{\"marker\":{\"colorbar\":{\"outlinewidth\":0,\"ticks\":\"\"}},\"type\":\"scatterternary\"}],\"surface\":[{\"colorbar\":{\"outlinewidth\":0,\"ticks\":\"\"},\"colorscale\":[[0.0,\"#0d0887\"],[0.1111111111111111,\"#46039f\"],[0.2222222222222222,\"#7201a8\"],[0.3333333333333333,\"#9c179e\"],[0.4444444444444444,\"#bd3786\"],[0.5555555555555556,\"#d8576b\"],[0.6666666666666666,\"#ed7953\"],[0.7777777777777778,\"#fb9f3a\"],[0.8888888888888888,\"#fdca26\"],[1.0,\"#f0f921\"]],\"type\":\"surface\"}],\"table\":[{\"cells\":{\"fill\":{\"color\":\"#EBF0F8\"},\"line\":{\"color\":\"white\"}},\"header\":{\"fill\":{\"color\":\"#C8D4E3\"},\"line\":{\"color\":\"white\"}},\"type\":\"table\"}]},\"layout\":{\"annotationdefaults\":{\"arrowcolor\":\"#2a3f5f\",\"arrowhead\":0,\"arrowwidth\":1},\"autotypenumbers\":\"strict\",\"coloraxis\":{\"colorbar\":{\"outlinewidth\":0,\"ticks\":\"\"}},\"colorscale\":{\"diverging\":[[0,\"#8e0152\"],[0.1,\"#c51b7d\"],[0.2,\"#de77ae\"],[0.3,\"#f1b6da\"],[0.4,\"#fde0ef\"],[0.5,\"#f7f7f7\"],[0.6,\"#e6f5d0\"],[0.7,\"#b8e186\"],[0.8,\"#7fbc41\"],[0.9,\"#4d9221\"],[1,\"#276419\"]],\"sequential\":[[0.0,\"#0d0887\"],[0.1111111111111111,\"#46039f\"],[0.2222222222222222,\"#7201a8\"],[0.3333333333333333,\"#9c179e\"],[0.4444444444444444,\"#bd3786\"],[0.5555555555555556,\"#d8576b\"],[0.6666666666666666,\"#ed7953\"],[0.7777777777777778,\"#fb9f3a\"],[0.8888888888888888,\"#fdca26\"],[1.0,\"#f0f921\"]],\"sequentialminus\":[[0.0,\"#0d0887\"],[0.1111111111111111,\"#46039f\"],[0.2222222222222222,\"#7201a8\"],[0.3333333333333333,\"#9c179e\"],[0.4444444444444444,\"#bd3786\"],[0.5555555555555556,\"#d8576b\"],[0.6666666666666666,\"#ed7953\"],[0.7777777777777778,\"#fb9f3a\"],[0.8888888888888888,\"#fdca26\"],[1.0,\"#f0f921\"]]},\"colorway\":[\"#636efa\",\"#EF553B\",\"#00cc96\",\"#ab63fa\",\"#FFA15A\",\"#19d3f3\",\"#FF6692\",\"#B6E880\",\"#FF97FF\",\"#FECB52\"],\"font\":{\"color\":\"#2a3f5f\"},\"geo\":{\"bgcolor\":\"white\",\"lakecolor\":\"white\",\"landcolor\":\"#E5ECF6\",\"showlakes\":true,\"showland\":true,\"subunitcolor\":\"white\"},\"hoverlabel\":{\"align\":\"left\"},\"hovermode\":\"closest\",\"mapbox\":{\"style\":\"light\"},\"paper_bgcolor\":\"white\",\"plot_bgcolor\":\"#E5ECF6\",\"polar\":{\"angularaxis\":{\"gridcolor\":\"white\",\"linecolor\":\"white\",\"ticks\":\"\"},\"bgcolor\":\"#E5ECF6\",\"radialaxis\":{\"gridcolor\":\"white\",\"linecolor\":\"white\",\"ticks\":\"\"}},\"scene\":{\"xaxis\":{\"backgroundcolor\":\"#E5ECF6\",\"gridcolor\":\"white\",\"gridwidth\":2,\"linecolor\":\"white\",\"showbackground\":true,\"ticks\":\"\",\"zerolinecolor\":\"white\"},\"yaxis\":{\"backgroundcolor\":\"#E5ECF6\",\"gridcolor\":\"white\",\"gridwidth\":2,\"linecolor\":\"white\",\"showbackground\":true,\"ticks\":\"\",\"zerolinecolor\":\"white\"},\"zaxis\":{\"backgroundcolor\":\"#E5ECF6\",\"gridcolor\":\"white\",\"gridwidth\":2,\"linecolor\":\"white\",\"showbackground\":true,\"ticks\":\"\",\"zerolinecolor\":\"white\"}},\"shapedefaults\":{\"line\":{\"color\":\"#2a3f5f\"}},\"ternary\":{\"aaxis\":{\"gridcolor\":\"white\",\"linecolor\":\"white\",\"ticks\":\"\"},\"baxis\":{\"gridcolor\":\"white\",\"linecolor\":\"white\",\"ticks\":\"\"},\"bgcolor\":\"#E5ECF6\",\"caxis\":{\"gridcolor\":\"white\",\"linecolor\":\"white\",\"ticks\":\"\"}},\"title\":{\"x\":0.05},\"xaxis\":{\"automargin\":true,\"gridcolor\":\"white\",\"linecolor\":\"white\",\"ticks\":\"\",\"title\":{\"standoff\":15},\"zerolinecolor\":\"white\",\"zerolinewidth\":2},\"yaxis\":{\"automargin\":true,\"gridcolor\":\"white\",\"linecolor\":\"white\",\"ticks\":\"\",\"title\":{\"standoff\":15},\"zerolinecolor\":\"white\",\"zerolinewidth\":2}}},\"title\":{\"text\":\"Lucros por se\\u00e7\\u00e3o\"},\"xaxis\":{\"anchor\":\"y\",\"domain\":[0.0,1.0],\"title\":{\"text\":\"Lucro\"}},\"yaxis\":{\"anchor\":\"x\",\"categoryarray\":[\"Produtos de Limpeza\",\"Alimentos em Geral\",\"Padaria\",\"A\\u00e7ougue\"],\"categoryorder\":\"total descending\",\"domain\":[0.0,1.0],\"title\":{\"text\":\"Se\\u00e7\\u00e3o\"}}},                        {\"responsive\": true}                    ).then(function(){\n",
       "                            \n",
       "var gd = document.getElementById('78fd117d-78b7-49f9-9207-37cea83ba01a');\n",
       "var x = new MutationObserver(function (mutations, observer) {{\n",
       "        var display = window.getComputedStyle(gd).display;\n",
       "        if (!display || display === 'none') {{\n",
       "            console.log([gd, 'removed!']);\n",
       "            Plotly.purge(gd);\n",
       "            observer.disconnect();\n",
       "        }}\n",
       "}});\n",
       "\n",
       "// Listen for the removal of the full notebook cells\n",
       "var notebookContainer = gd.closest('#notebook-container');\n",
       "if (notebookContainer) {{\n",
       "    x.observe(notebookContainer, {childList: true});\n",
       "}}\n",
       "\n",
       "// Listen for the clearing of the current output cell\n",
       "var outputEl = gd.closest('.output');\n",
       "if (outputEl) {{\n",
       "    x.observe(outputEl, {childList: true});\n",
       "}}\n",
       "\n",
       "                        })                };                });            </script>        </div>"
      ]
     },
     "metadata": {},
     "output_type": "display_data"
    }
   ],
   "source": [
    "lucro_secao=venda_produtos_cliente.groupby(\"secao\").sum().sort_values('lucro', ascending=False ).reset_index()\n",
    "\n",
    "fig2 = px.bar(lucro_secao, x=\"lucro\", y=\"secao\", color=\"secao\", barmode = 'stack',color_discrete_map={'Açougue': '#EF553B', \n",
    "                                                   'Padaria': '#AB63FA', 'Produtos de Limpeza': '#FFA15A', 'Alimentos em Geral': '#00CC96'},\n",
    "             labels={\"lucro\":\"Lucro\", \"secao\":\"Seção\"})\n",
    "fig2.update_layout(title = 'Lucros por seção', yaxis={'categoryorder':'total descending'})\n",
    "fig2.show()"
   ]
  },
  {
   "cell_type": "code",
   "execution_count": 108,
   "id": "232e2bab",
   "metadata": {},
   "outputs": [
    {
     "data": {
      "application/vnd.plotly.v1+json": {
       "config": {
        "plotlyServerURL": "https://plot.ly"
       },
       "data": [
        {
         "alignmentgroup": "True",
         "hovertemplate": "Seção=%{x}<br>Lucro=%{y}<extra></extra>",
         "legendgroup": "Açougue",
         "marker": {
          "color": "#00CC96",
          "pattern": {
           "shape": ""
          }
         },
         "name": "Açougue",
         "offsetgroup": "Açougue",
         "orientation": "v",
         "showlegend": true,
         "textposition": "auto",
         "type": "bar",
         "x": [
          "Açougue"
         ],
         "xaxis": "x",
         "y": [
          16649.480000000014
         ],
         "yaxis": "y"
        },
        {
         "alignmentgroup": "True",
         "hovertemplate": "Seção=%{x}<br>Lucro=%{y}<extra></extra>",
         "legendgroup": "Padaria",
         "marker": {
          "color": "#00CC96",
          "pattern": {
           "shape": ""
          }
         },
         "name": "Padaria",
         "offsetgroup": "Padaria",
         "orientation": "v",
         "showlegend": true,
         "textposition": "auto",
         "type": "bar",
         "x": [
          "Padaria"
         ],
         "xaxis": "x",
         "y": [
          9906.970000000014
         ],
         "yaxis": "y"
        },
        {
         "alignmentgroup": "True",
         "hovertemplate": "Seção=%{x}<br>Lucro=%{y}<extra></extra>",
         "legendgroup": "Alimentos em Geral",
         "marker": {
          "color": "#00CC96",
          "pattern": {
           "shape": ""
          }
         },
         "name": "Alimentos em Geral",
         "offsetgroup": "Alimentos em Geral",
         "orientation": "v",
         "showlegend": true,
         "textposition": "auto",
         "type": "bar",
         "x": [
          "Alimentos em Geral"
         ],
         "xaxis": "x",
         "y": [
          4853.7699999999995
         ],
         "yaxis": "y"
        },
        {
         "alignmentgroup": "True",
         "hovertemplate": "Seção=%{x}<br>Lucro=%{y}<extra></extra>",
         "legendgroup": "Produtos de Limpeza",
         "marker": {
          "color": "#00CC96",
          "pattern": {
           "shape": ""
          }
         },
         "name": "Produtos de Limpeza",
         "offsetgroup": "Produtos de Limpeza",
         "orientation": "v",
         "showlegend": true,
         "textposition": "auto",
         "type": "bar",
         "x": [
          "Produtos de Limpeza"
         ],
         "xaxis": "x",
         "y": [
          4755.34
         ],
         "yaxis": "y"
        }
       ],
       "layout": {
        "barmode": "stack",
        "legend": {
         "title": {
          "text": "Seção"
         },
         "tracegroupgap": 0
        },
        "margin": {
         "t": 60
        },
        "showlegend": false,
        "template": {
         "data": {
          "bar": [
           {
            "error_x": {
             "color": "#2a3f5f"
            },
            "error_y": {
             "color": "#2a3f5f"
            },
            "marker": {
             "line": {
              "color": "#E5ECF6",
              "width": 0.5
             },
             "pattern": {
              "fillmode": "overlay",
              "size": 10,
              "solidity": 0.2
             }
            },
            "type": "bar"
           }
          ],
          "barpolar": [
           {
            "marker": {
             "line": {
              "color": "#E5ECF6",
              "width": 0.5
             },
             "pattern": {
              "fillmode": "overlay",
              "size": 10,
              "solidity": 0.2
             }
            },
            "type": "barpolar"
           }
          ],
          "carpet": [
           {
            "aaxis": {
             "endlinecolor": "#2a3f5f",
             "gridcolor": "white",
             "linecolor": "white",
             "minorgridcolor": "white",
             "startlinecolor": "#2a3f5f"
            },
            "baxis": {
             "endlinecolor": "#2a3f5f",
             "gridcolor": "white",
             "linecolor": "white",
             "minorgridcolor": "white",
             "startlinecolor": "#2a3f5f"
            },
            "type": "carpet"
           }
          ],
          "choropleth": [
           {
            "colorbar": {
             "outlinewidth": 0,
             "ticks": ""
            },
            "type": "choropleth"
           }
          ],
          "contour": [
           {
            "colorbar": {
             "outlinewidth": 0,
             "ticks": ""
            },
            "colorscale": [
             [
              0,
              "#0d0887"
             ],
             [
              0.1111111111111111,
              "#46039f"
             ],
             [
              0.2222222222222222,
              "#7201a8"
             ],
             [
              0.3333333333333333,
              "#9c179e"
             ],
             [
              0.4444444444444444,
              "#bd3786"
             ],
             [
              0.5555555555555556,
              "#d8576b"
             ],
             [
              0.6666666666666666,
              "#ed7953"
             ],
             [
              0.7777777777777778,
              "#fb9f3a"
             ],
             [
              0.8888888888888888,
              "#fdca26"
             ],
             [
              1,
              "#f0f921"
             ]
            ],
            "type": "contour"
           }
          ],
          "contourcarpet": [
           {
            "colorbar": {
             "outlinewidth": 0,
             "ticks": ""
            },
            "type": "contourcarpet"
           }
          ],
          "heatmap": [
           {
            "colorbar": {
             "outlinewidth": 0,
             "ticks": ""
            },
            "colorscale": [
             [
              0,
              "#0d0887"
             ],
             [
              0.1111111111111111,
              "#46039f"
             ],
             [
              0.2222222222222222,
              "#7201a8"
             ],
             [
              0.3333333333333333,
              "#9c179e"
             ],
             [
              0.4444444444444444,
              "#bd3786"
             ],
             [
              0.5555555555555556,
              "#d8576b"
             ],
             [
              0.6666666666666666,
              "#ed7953"
             ],
             [
              0.7777777777777778,
              "#fb9f3a"
             ],
             [
              0.8888888888888888,
              "#fdca26"
             ],
             [
              1,
              "#f0f921"
             ]
            ],
            "type": "heatmap"
           }
          ],
          "heatmapgl": [
           {
            "colorbar": {
             "outlinewidth": 0,
             "ticks": ""
            },
            "colorscale": [
             [
              0,
              "#0d0887"
             ],
             [
              0.1111111111111111,
              "#46039f"
             ],
             [
              0.2222222222222222,
              "#7201a8"
             ],
             [
              0.3333333333333333,
              "#9c179e"
             ],
             [
              0.4444444444444444,
              "#bd3786"
             ],
             [
              0.5555555555555556,
              "#d8576b"
             ],
             [
              0.6666666666666666,
              "#ed7953"
             ],
             [
              0.7777777777777778,
              "#fb9f3a"
             ],
             [
              0.8888888888888888,
              "#fdca26"
             ],
             [
              1,
              "#f0f921"
             ]
            ],
            "type": "heatmapgl"
           }
          ],
          "histogram": [
           {
            "marker": {
             "pattern": {
              "fillmode": "overlay",
              "size": 10,
              "solidity": 0.2
             }
            },
            "type": "histogram"
           }
          ],
          "histogram2d": [
           {
            "colorbar": {
             "outlinewidth": 0,
             "ticks": ""
            },
            "colorscale": [
             [
              0,
              "#0d0887"
             ],
             [
              0.1111111111111111,
              "#46039f"
             ],
             [
              0.2222222222222222,
              "#7201a8"
             ],
             [
              0.3333333333333333,
              "#9c179e"
             ],
             [
              0.4444444444444444,
              "#bd3786"
             ],
             [
              0.5555555555555556,
              "#d8576b"
             ],
             [
              0.6666666666666666,
              "#ed7953"
             ],
             [
              0.7777777777777778,
              "#fb9f3a"
             ],
             [
              0.8888888888888888,
              "#fdca26"
             ],
             [
              1,
              "#f0f921"
             ]
            ],
            "type": "histogram2d"
           }
          ],
          "histogram2dcontour": [
           {
            "colorbar": {
             "outlinewidth": 0,
             "ticks": ""
            },
            "colorscale": [
             [
              0,
              "#0d0887"
             ],
             [
              0.1111111111111111,
              "#46039f"
             ],
             [
              0.2222222222222222,
              "#7201a8"
             ],
             [
              0.3333333333333333,
              "#9c179e"
             ],
             [
              0.4444444444444444,
              "#bd3786"
             ],
             [
              0.5555555555555556,
              "#d8576b"
             ],
             [
              0.6666666666666666,
              "#ed7953"
             ],
             [
              0.7777777777777778,
              "#fb9f3a"
             ],
             [
              0.8888888888888888,
              "#fdca26"
             ],
             [
              1,
              "#f0f921"
             ]
            ],
            "type": "histogram2dcontour"
           }
          ],
          "mesh3d": [
           {
            "colorbar": {
             "outlinewidth": 0,
             "ticks": ""
            },
            "type": "mesh3d"
           }
          ],
          "parcoords": [
           {
            "line": {
             "colorbar": {
              "outlinewidth": 0,
              "ticks": ""
             }
            },
            "type": "parcoords"
           }
          ],
          "pie": [
           {
            "automargin": true,
            "type": "pie"
           }
          ],
          "scatter": [
           {
            "marker": {
             "colorbar": {
              "outlinewidth": 0,
              "ticks": ""
             }
            },
            "type": "scatter"
           }
          ],
          "scatter3d": [
           {
            "line": {
             "colorbar": {
              "outlinewidth": 0,
              "ticks": ""
             }
            },
            "marker": {
             "colorbar": {
              "outlinewidth": 0,
              "ticks": ""
             }
            },
            "type": "scatter3d"
           }
          ],
          "scattercarpet": [
           {
            "marker": {
             "colorbar": {
              "outlinewidth": 0,
              "ticks": ""
             }
            },
            "type": "scattercarpet"
           }
          ],
          "scattergeo": [
           {
            "marker": {
             "colorbar": {
              "outlinewidth": 0,
              "ticks": ""
             }
            },
            "type": "scattergeo"
           }
          ],
          "scattergl": [
           {
            "marker": {
             "colorbar": {
              "outlinewidth": 0,
              "ticks": ""
             }
            },
            "type": "scattergl"
           }
          ],
          "scattermapbox": [
           {
            "marker": {
             "colorbar": {
              "outlinewidth": 0,
              "ticks": ""
             }
            },
            "type": "scattermapbox"
           }
          ],
          "scatterpolar": [
           {
            "marker": {
             "colorbar": {
              "outlinewidth": 0,
              "ticks": ""
             }
            },
            "type": "scatterpolar"
           }
          ],
          "scatterpolargl": [
           {
            "marker": {
             "colorbar": {
              "outlinewidth": 0,
              "ticks": ""
             }
            },
            "type": "scatterpolargl"
           }
          ],
          "scatterternary": [
           {
            "marker": {
             "colorbar": {
              "outlinewidth": 0,
              "ticks": ""
             }
            },
            "type": "scatterternary"
           }
          ],
          "surface": [
           {
            "colorbar": {
             "outlinewidth": 0,
             "ticks": ""
            },
            "colorscale": [
             [
              0,
              "#0d0887"
             ],
             [
              0.1111111111111111,
              "#46039f"
             ],
             [
              0.2222222222222222,
              "#7201a8"
             ],
             [
              0.3333333333333333,
              "#9c179e"
             ],
             [
              0.4444444444444444,
              "#bd3786"
             ],
             [
              0.5555555555555556,
              "#d8576b"
             ],
             [
              0.6666666666666666,
              "#ed7953"
             ],
             [
              0.7777777777777778,
              "#fb9f3a"
             ],
             [
              0.8888888888888888,
              "#fdca26"
             ],
             [
              1,
              "#f0f921"
             ]
            ],
            "type": "surface"
           }
          ],
          "table": [
           {
            "cells": {
             "fill": {
              "color": "#EBF0F8"
             },
             "line": {
              "color": "white"
             }
            },
            "header": {
             "fill": {
              "color": "#C8D4E3"
             },
             "line": {
              "color": "white"
             }
            },
            "type": "table"
           }
          ]
         },
         "layout": {
          "annotationdefaults": {
           "arrowcolor": "#2a3f5f",
           "arrowhead": 0,
           "arrowwidth": 1
          },
          "autotypenumbers": "strict",
          "coloraxis": {
           "colorbar": {
            "outlinewidth": 0,
            "ticks": ""
           }
          },
          "colorscale": {
           "diverging": [
            [
             0,
             "#8e0152"
            ],
            [
             0.1,
             "#c51b7d"
            ],
            [
             0.2,
             "#de77ae"
            ],
            [
             0.3,
             "#f1b6da"
            ],
            [
             0.4,
             "#fde0ef"
            ],
            [
             0.5,
             "#f7f7f7"
            ],
            [
             0.6,
             "#e6f5d0"
            ],
            [
             0.7,
             "#b8e186"
            ],
            [
             0.8,
             "#7fbc41"
            ],
            [
             0.9,
             "#4d9221"
            ],
            [
             1,
             "#276419"
            ]
           ],
           "sequential": [
            [
             0,
             "#0d0887"
            ],
            [
             0.1111111111111111,
             "#46039f"
            ],
            [
             0.2222222222222222,
             "#7201a8"
            ],
            [
             0.3333333333333333,
             "#9c179e"
            ],
            [
             0.4444444444444444,
             "#bd3786"
            ],
            [
             0.5555555555555556,
             "#d8576b"
            ],
            [
             0.6666666666666666,
             "#ed7953"
            ],
            [
             0.7777777777777778,
             "#fb9f3a"
            ],
            [
             0.8888888888888888,
             "#fdca26"
            ],
            [
             1,
             "#f0f921"
            ]
           ],
           "sequentialminus": [
            [
             0,
             "#0d0887"
            ],
            [
             0.1111111111111111,
             "#46039f"
            ],
            [
             0.2222222222222222,
             "#7201a8"
            ],
            [
             0.3333333333333333,
             "#9c179e"
            ],
            [
             0.4444444444444444,
             "#bd3786"
            ],
            [
             0.5555555555555556,
             "#d8576b"
            ],
            [
             0.6666666666666666,
             "#ed7953"
            ],
            [
             0.7777777777777778,
             "#fb9f3a"
            ],
            [
             0.8888888888888888,
             "#fdca26"
            ],
            [
             1,
             "#f0f921"
            ]
           ]
          },
          "colorway": [
           "#636efa",
           "#EF553B",
           "#00cc96",
           "#ab63fa",
           "#FFA15A",
           "#19d3f3",
           "#FF6692",
           "#B6E880",
           "#FF97FF",
           "#FECB52"
          ],
          "font": {
           "color": "#2a3f5f"
          },
          "geo": {
           "bgcolor": "white",
           "lakecolor": "white",
           "landcolor": "#E5ECF6",
           "showlakes": true,
           "showland": true,
           "subunitcolor": "white"
          },
          "hoverlabel": {
           "align": "left"
          },
          "hovermode": "closest",
          "mapbox": {
           "style": "light"
          },
          "paper_bgcolor": "white",
          "plot_bgcolor": "#E5ECF6",
          "polar": {
           "angularaxis": {
            "gridcolor": "white",
            "linecolor": "white",
            "ticks": ""
           },
           "bgcolor": "#E5ECF6",
           "radialaxis": {
            "gridcolor": "white",
            "linecolor": "white",
            "ticks": ""
           }
          },
          "scene": {
           "xaxis": {
            "backgroundcolor": "#E5ECF6",
            "gridcolor": "white",
            "gridwidth": 2,
            "linecolor": "white",
            "showbackground": true,
            "ticks": "",
            "zerolinecolor": "white"
           },
           "yaxis": {
            "backgroundcolor": "#E5ECF6",
            "gridcolor": "white",
            "gridwidth": 2,
            "linecolor": "white",
            "showbackground": true,
            "ticks": "",
            "zerolinecolor": "white"
           },
           "zaxis": {
            "backgroundcolor": "#E5ECF6",
            "gridcolor": "white",
            "gridwidth": 2,
            "linecolor": "white",
            "showbackground": true,
            "ticks": "",
            "zerolinecolor": "white"
           }
          },
          "shapedefaults": {
           "line": {
            "color": "#2a3f5f"
           }
          },
          "ternary": {
           "aaxis": {
            "gridcolor": "white",
            "linecolor": "white",
            "ticks": ""
           },
           "baxis": {
            "gridcolor": "white",
            "linecolor": "white",
            "ticks": ""
           },
           "bgcolor": "#E5ECF6",
           "caxis": {
            "gridcolor": "white",
            "linecolor": "white",
            "ticks": ""
           }
          },
          "title": {
           "x": 0.05
          },
          "xaxis": {
           "automargin": true,
           "gridcolor": "white",
           "linecolor": "white",
           "ticks": "",
           "title": {
            "standoff": 15
           },
           "zerolinecolor": "white",
           "zerolinewidth": 2
          },
          "yaxis": {
           "automargin": true,
           "gridcolor": "white",
           "linecolor": "white",
           "ticks": "",
           "title": {
            "standoff": 15
           },
           "zerolinecolor": "white",
           "zerolinewidth": 2
          }
         }
        },
        "title": {
         "text": "Lucros por seção"
        },
        "xaxis": {
         "anchor": "y",
         "categoryarray": [
          "Açougue",
          "Padaria",
          "Alimentos em Geral",
          "Produtos de Limpeza"
         ],
         "categoryorder": "array",
         "domain": [
          0,
          1
         ],
         "title": {
          "text": "Seção"
         }
        },
        "yaxis": {
         "anchor": "x",
         "domain": [
          0,
          1
         ],
         "title": {
          "text": "Lucro"
         }
        }
       }
      },
      "text/html": [
       "<div>                            <div id=\"394dc736-c840-4bde-8b50-29f7447f8603\" class=\"plotly-graph-div\" style=\"height:525px; width:100%;\"></div>            <script type=\"text/javascript\">                require([\"plotly\"], function(Plotly) {                    window.PLOTLYENV=window.PLOTLYENV || {};                                    if (document.getElementById(\"394dc736-c840-4bde-8b50-29f7447f8603\")) {                    Plotly.newPlot(                        \"394dc736-c840-4bde-8b50-29f7447f8603\",                        [{\"alignmentgroup\":\"True\",\"hovertemplate\":\"Se\\u00e7\\u00e3o=%{x}<br>Lucro=%{y}<extra></extra>\",\"legendgroup\":\"A\\u00e7ougue\",\"marker\":{\"color\":\"#00CC96\",\"pattern\":{\"shape\":\"\"}},\"name\":\"A\\u00e7ougue\",\"offsetgroup\":\"A\\u00e7ougue\",\"orientation\":\"v\",\"showlegend\":true,\"textposition\":\"auto\",\"type\":\"bar\",\"x\":[\"A\\u00e7ougue\"],\"xaxis\":\"x\",\"y\":[16649.480000000014],\"yaxis\":\"y\"},{\"alignmentgroup\":\"True\",\"hovertemplate\":\"Se\\u00e7\\u00e3o=%{x}<br>Lucro=%{y}<extra></extra>\",\"legendgroup\":\"Padaria\",\"marker\":{\"color\":\"#00CC96\",\"pattern\":{\"shape\":\"\"}},\"name\":\"Padaria\",\"offsetgroup\":\"Padaria\",\"orientation\":\"v\",\"showlegend\":true,\"textposition\":\"auto\",\"type\":\"bar\",\"x\":[\"Padaria\"],\"xaxis\":\"x\",\"y\":[9906.970000000014],\"yaxis\":\"y\"},{\"alignmentgroup\":\"True\",\"hovertemplate\":\"Se\\u00e7\\u00e3o=%{x}<br>Lucro=%{y}<extra></extra>\",\"legendgroup\":\"Alimentos em Geral\",\"marker\":{\"color\":\"#00CC96\",\"pattern\":{\"shape\":\"\"}},\"name\":\"Alimentos em Geral\",\"offsetgroup\":\"Alimentos em Geral\",\"orientation\":\"v\",\"showlegend\":true,\"textposition\":\"auto\",\"type\":\"bar\",\"x\":[\"Alimentos em Geral\"],\"xaxis\":\"x\",\"y\":[4853.7699999999995],\"yaxis\":\"y\"},{\"alignmentgroup\":\"True\",\"hovertemplate\":\"Se\\u00e7\\u00e3o=%{x}<br>Lucro=%{y}<extra></extra>\",\"legendgroup\":\"Produtos de Limpeza\",\"marker\":{\"color\":\"#00CC96\",\"pattern\":{\"shape\":\"\"}},\"name\":\"Produtos de Limpeza\",\"offsetgroup\":\"Produtos de Limpeza\",\"orientation\":\"v\",\"showlegend\":true,\"textposition\":\"auto\",\"type\":\"bar\",\"x\":[\"Produtos de Limpeza\"],\"xaxis\":\"x\",\"y\":[4755.34],\"yaxis\":\"y\"}],                        {\"barmode\":\"stack\",\"legend\":{\"title\":{\"text\":\"Se\\u00e7\\u00e3o\"},\"tracegroupgap\":0},\"margin\":{\"t\":60},\"showlegend\":false,\"template\":{\"data\":{\"bar\":[{\"error_x\":{\"color\":\"#2a3f5f\"},\"error_y\":{\"color\":\"#2a3f5f\"},\"marker\":{\"line\":{\"color\":\"#E5ECF6\",\"width\":0.5},\"pattern\":{\"fillmode\":\"overlay\",\"size\":10,\"solidity\":0.2}},\"type\":\"bar\"}],\"barpolar\":[{\"marker\":{\"line\":{\"color\":\"#E5ECF6\",\"width\":0.5},\"pattern\":{\"fillmode\":\"overlay\",\"size\":10,\"solidity\":0.2}},\"type\":\"barpolar\"}],\"carpet\":[{\"aaxis\":{\"endlinecolor\":\"#2a3f5f\",\"gridcolor\":\"white\",\"linecolor\":\"white\",\"minorgridcolor\":\"white\",\"startlinecolor\":\"#2a3f5f\"},\"baxis\":{\"endlinecolor\":\"#2a3f5f\",\"gridcolor\":\"white\",\"linecolor\":\"white\",\"minorgridcolor\":\"white\",\"startlinecolor\":\"#2a3f5f\"},\"type\":\"carpet\"}],\"choropleth\":[{\"colorbar\":{\"outlinewidth\":0,\"ticks\":\"\"},\"type\":\"choropleth\"}],\"contour\":[{\"colorbar\":{\"outlinewidth\":0,\"ticks\":\"\"},\"colorscale\":[[0.0,\"#0d0887\"],[0.1111111111111111,\"#46039f\"],[0.2222222222222222,\"#7201a8\"],[0.3333333333333333,\"#9c179e\"],[0.4444444444444444,\"#bd3786\"],[0.5555555555555556,\"#d8576b\"],[0.6666666666666666,\"#ed7953\"],[0.7777777777777778,\"#fb9f3a\"],[0.8888888888888888,\"#fdca26\"],[1.0,\"#f0f921\"]],\"type\":\"contour\"}],\"contourcarpet\":[{\"colorbar\":{\"outlinewidth\":0,\"ticks\":\"\"},\"type\":\"contourcarpet\"}],\"heatmap\":[{\"colorbar\":{\"outlinewidth\":0,\"ticks\":\"\"},\"colorscale\":[[0.0,\"#0d0887\"],[0.1111111111111111,\"#46039f\"],[0.2222222222222222,\"#7201a8\"],[0.3333333333333333,\"#9c179e\"],[0.4444444444444444,\"#bd3786\"],[0.5555555555555556,\"#d8576b\"],[0.6666666666666666,\"#ed7953\"],[0.7777777777777778,\"#fb9f3a\"],[0.8888888888888888,\"#fdca26\"],[1.0,\"#f0f921\"]],\"type\":\"heatmap\"}],\"heatmapgl\":[{\"colorbar\":{\"outlinewidth\":0,\"ticks\":\"\"},\"colorscale\":[[0.0,\"#0d0887\"],[0.1111111111111111,\"#46039f\"],[0.2222222222222222,\"#7201a8\"],[0.3333333333333333,\"#9c179e\"],[0.4444444444444444,\"#bd3786\"],[0.5555555555555556,\"#d8576b\"],[0.6666666666666666,\"#ed7953\"],[0.7777777777777778,\"#fb9f3a\"],[0.8888888888888888,\"#fdca26\"],[1.0,\"#f0f921\"]],\"type\":\"heatmapgl\"}],\"histogram\":[{\"marker\":{\"pattern\":{\"fillmode\":\"overlay\",\"size\":10,\"solidity\":0.2}},\"type\":\"histogram\"}],\"histogram2d\":[{\"colorbar\":{\"outlinewidth\":0,\"ticks\":\"\"},\"colorscale\":[[0.0,\"#0d0887\"],[0.1111111111111111,\"#46039f\"],[0.2222222222222222,\"#7201a8\"],[0.3333333333333333,\"#9c179e\"],[0.4444444444444444,\"#bd3786\"],[0.5555555555555556,\"#d8576b\"],[0.6666666666666666,\"#ed7953\"],[0.7777777777777778,\"#fb9f3a\"],[0.8888888888888888,\"#fdca26\"],[1.0,\"#f0f921\"]],\"type\":\"histogram2d\"}],\"histogram2dcontour\":[{\"colorbar\":{\"outlinewidth\":0,\"ticks\":\"\"},\"colorscale\":[[0.0,\"#0d0887\"],[0.1111111111111111,\"#46039f\"],[0.2222222222222222,\"#7201a8\"],[0.3333333333333333,\"#9c179e\"],[0.4444444444444444,\"#bd3786\"],[0.5555555555555556,\"#d8576b\"],[0.6666666666666666,\"#ed7953\"],[0.7777777777777778,\"#fb9f3a\"],[0.8888888888888888,\"#fdca26\"],[1.0,\"#f0f921\"]],\"type\":\"histogram2dcontour\"}],\"mesh3d\":[{\"colorbar\":{\"outlinewidth\":0,\"ticks\":\"\"},\"type\":\"mesh3d\"}],\"parcoords\":[{\"line\":{\"colorbar\":{\"outlinewidth\":0,\"ticks\":\"\"}},\"type\":\"parcoords\"}],\"pie\":[{\"automargin\":true,\"type\":\"pie\"}],\"scatter\":[{\"marker\":{\"colorbar\":{\"outlinewidth\":0,\"ticks\":\"\"}},\"type\":\"scatter\"}],\"scatter3d\":[{\"line\":{\"colorbar\":{\"outlinewidth\":0,\"ticks\":\"\"}},\"marker\":{\"colorbar\":{\"outlinewidth\":0,\"ticks\":\"\"}},\"type\":\"scatter3d\"}],\"scattercarpet\":[{\"marker\":{\"colorbar\":{\"outlinewidth\":0,\"ticks\":\"\"}},\"type\":\"scattercarpet\"}],\"scattergeo\":[{\"marker\":{\"colorbar\":{\"outlinewidth\":0,\"ticks\":\"\"}},\"type\":\"scattergeo\"}],\"scattergl\":[{\"marker\":{\"colorbar\":{\"outlinewidth\":0,\"ticks\":\"\"}},\"type\":\"scattergl\"}],\"scattermapbox\":[{\"marker\":{\"colorbar\":{\"outlinewidth\":0,\"ticks\":\"\"}},\"type\":\"scattermapbox\"}],\"scatterpolar\":[{\"marker\":{\"colorbar\":{\"outlinewidth\":0,\"ticks\":\"\"}},\"type\":\"scatterpolar\"}],\"scatterpolargl\":[{\"marker\":{\"colorbar\":{\"outlinewidth\":0,\"ticks\":\"\"}},\"type\":\"scatterpolargl\"}],\"scatterternary\":[{\"marker\":{\"colorbar\":{\"outlinewidth\":0,\"ticks\":\"\"}},\"type\":\"scatterternary\"}],\"surface\":[{\"colorbar\":{\"outlinewidth\":0,\"ticks\":\"\"},\"colorscale\":[[0.0,\"#0d0887\"],[0.1111111111111111,\"#46039f\"],[0.2222222222222222,\"#7201a8\"],[0.3333333333333333,\"#9c179e\"],[0.4444444444444444,\"#bd3786\"],[0.5555555555555556,\"#d8576b\"],[0.6666666666666666,\"#ed7953\"],[0.7777777777777778,\"#fb9f3a\"],[0.8888888888888888,\"#fdca26\"],[1.0,\"#f0f921\"]],\"type\":\"surface\"}],\"table\":[{\"cells\":{\"fill\":{\"color\":\"#EBF0F8\"},\"line\":{\"color\":\"white\"}},\"header\":{\"fill\":{\"color\":\"#C8D4E3\"},\"line\":{\"color\":\"white\"}},\"type\":\"table\"}]},\"layout\":{\"annotationdefaults\":{\"arrowcolor\":\"#2a3f5f\",\"arrowhead\":0,\"arrowwidth\":1},\"autotypenumbers\":\"strict\",\"coloraxis\":{\"colorbar\":{\"outlinewidth\":0,\"ticks\":\"\"}},\"colorscale\":{\"diverging\":[[0,\"#8e0152\"],[0.1,\"#c51b7d\"],[0.2,\"#de77ae\"],[0.3,\"#f1b6da\"],[0.4,\"#fde0ef\"],[0.5,\"#f7f7f7\"],[0.6,\"#e6f5d0\"],[0.7,\"#b8e186\"],[0.8,\"#7fbc41\"],[0.9,\"#4d9221\"],[1,\"#276419\"]],\"sequential\":[[0.0,\"#0d0887\"],[0.1111111111111111,\"#46039f\"],[0.2222222222222222,\"#7201a8\"],[0.3333333333333333,\"#9c179e\"],[0.4444444444444444,\"#bd3786\"],[0.5555555555555556,\"#d8576b\"],[0.6666666666666666,\"#ed7953\"],[0.7777777777777778,\"#fb9f3a\"],[0.8888888888888888,\"#fdca26\"],[1.0,\"#f0f921\"]],\"sequentialminus\":[[0.0,\"#0d0887\"],[0.1111111111111111,\"#46039f\"],[0.2222222222222222,\"#7201a8\"],[0.3333333333333333,\"#9c179e\"],[0.4444444444444444,\"#bd3786\"],[0.5555555555555556,\"#d8576b\"],[0.6666666666666666,\"#ed7953\"],[0.7777777777777778,\"#fb9f3a\"],[0.8888888888888888,\"#fdca26\"],[1.0,\"#f0f921\"]]},\"colorway\":[\"#636efa\",\"#EF553B\",\"#00cc96\",\"#ab63fa\",\"#FFA15A\",\"#19d3f3\",\"#FF6692\",\"#B6E880\",\"#FF97FF\",\"#FECB52\"],\"font\":{\"color\":\"#2a3f5f\"},\"geo\":{\"bgcolor\":\"white\",\"lakecolor\":\"white\",\"landcolor\":\"#E5ECF6\",\"showlakes\":true,\"showland\":true,\"subunitcolor\":\"white\"},\"hoverlabel\":{\"align\":\"left\"},\"hovermode\":\"closest\",\"mapbox\":{\"style\":\"light\"},\"paper_bgcolor\":\"white\",\"plot_bgcolor\":\"#E5ECF6\",\"polar\":{\"angularaxis\":{\"gridcolor\":\"white\",\"linecolor\":\"white\",\"ticks\":\"\"},\"bgcolor\":\"#E5ECF6\",\"radialaxis\":{\"gridcolor\":\"white\",\"linecolor\":\"white\",\"ticks\":\"\"}},\"scene\":{\"xaxis\":{\"backgroundcolor\":\"#E5ECF6\",\"gridcolor\":\"white\",\"gridwidth\":2,\"linecolor\":\"white\",\"showbackground\":true,\"ticks\":\"\",\"zerolinecolor\":\"white\"},\"yaxis\":{\"backgroundcolor\":\"#E5ECF6\",\"gridcolor\":\"white\",\"gridwidth\":2,\"linecolor\":\"white\",\"showbackground\":true,\"ticks\":\"\",\"zerolinecolor\":\"white\"},\"zaxis\":{\"backgroundcolor\":\"#E5ECF6\",\"gridcolor\":\"white\",\"gridwidth\":2,\"linecolor\":\"white\",\"showbackground\":true,\"ticks\":\"\",\"zerolinecolor\":\"white\"}},\"shapedefaults\":{\"line\":{\"color\":\"#2a3f5f\"}},\"ternary\":{\"aaxis\":{\"gridcolor\":\"white\",\"linecolor\":\"white\",\"ticks\":\"\"},\"baxis\":{\"gridcolor\":\"white\",\"linecolor\":\"white\",\"ticks\":\"\"},\"bgcolor\":\"#E5ECF6\",\"caxis\":{\"gridcolor\":\"white\",\"linecolor\":\"white\",\"ticks\":\"\"}},\"title\":{\"x\":0.05},\"xaxis\":{\"automargin\":true,\"gridcolor\":\"white\",\"linecolor\":\"white\",\"ticks\":\"\",\"title\":{\"standoff\":15},\"zerolinecolor\":\"white\",\"zerolinewidth\":2},\"yaxis\":{\"automargin\":true,\"gridcolor\":\"white\",\"linecolor\":\"white\",\"ticks\":\"\",\"title\":{\"standoff\":15},\"zerolinecolor\":\"white\",\"zerolinewidth\":2}}},\"title\":{\"text\":\"Lucros por se\\u00e7\\u00e3o\"},\"xaxis\":{\"anchor\":\"y\",\"categoryarray\":[\"A\\u00e7ougue\",\"Padaria\",\"Alimentos em Geral\",\"Produtos de Limpeza\"],\"categoryorder\":\"array\",\"domain\":[0.0,1.0],\"title\":{\"text\":\"Se\\u00e7\\u00e3o\"}},\"yaxis\":{\"anchor\":\"x\",\"domain\":[0.0,1.0],\"title\":{\"text\":\"Lucro\"}}},                        {\"responsive\": true}                    ).then(function(){\n",
       "                            \n",
       "var gd = document.getElementById('394dc736-c840-4bde-8b50-29f7447f8603');\n",
       "var x = new MutationObserver(function (mutations, observer) {{\n",
       "        var display = window.getComputedStyle(gd).display;\n",
       "        if (!display || display === 'none') {{\n",
       "            console.log([gd, 'removed!']);\n",
       "            Plotly.purge(gd);\n",
       "            observer.disconnect();\n",
       "        }}\n",
       "}});\n",
       "\n",
       "// Listen for the removal of the full notebook cells\n",
       "var notebookContainer = gd.closest('#notebook-container');\n",
       "if (notebookContainer) {{\n",
       "    x.observe(notebookContainer, {childList: true});\n",
       "}}\n",
       "\n",
       "// Listen for the clearing of the current output cell\n",
       "var outputEl = gd.closest('.output');\n",
       "if (outputEl) {{\n",
       "    x.observe(outputEl, {childList: true});\n",
       "}}\n",
       "\n",
       "                        })                };                });            </script>        </div>"
      ]
     },
     "metadata": {},
     "output_type": "display_data"
    }
   ],
   "source": [
    "lucro_secao=venda_produtos_cliente.groupby(\"secao\").sum().sort_values('lucro', ascending=False ).reset_index()\n",
    "\n",
    "fig2 = px.bar(lucro_secao, x=\"secao\", y=\"lucro\", color = \"secao\", barmode = 'stack',\n",
    "             labels={\"lucro\":\"Lucro\", \"secao\":\"Seção\"}, color_discrete_map={'Açougue': '#00CC96', \n",
    "                                                   'Padaria': '#00CC96', 'Produtos de Limpeza': '#00CC96', 'Alimentos em Geral': '#00CC96'})\n",
    "fig2.update_layout(title = 'Lucros por seção', showlegend=False)\n",
    "fig2.show()"
   ]
  },
  {
   "cell_type": "code",
   "execution_count": 109,
   "id": "2cc1f63c",
   "metadata": {},
   "outputs": [
    {
     "data": {
      "application/vnd.plotly.v1+json": {
       "config": {
        "plotlyServerURL": "https://plot.ly"
       },
       "data": [
        {
         "name": "",
         "type": "bar",
         "x": [
          "abobrinha",
          "feijão",
          "melancia",
          "arroz",
          "banana",
          "batata",
          "couve-flor",
          "uva",
          "macarrão",
          "berinjela",
          "alface",
          "morango"
         ],
         "xaxis": "x",
         "y": [
          204,
          195,
          190,
          186,
          185,
          178,
          169,
          163,
          155,
          146,
          138,
          138
         ],
         "yaxis": "y"
        },
        {
         "name": "",
         "type": "bar",
         "x": [
          "costela",
          "paleta suína",
          "carré de cordeiro",
          "maminha",
          "bisteca suína",
          "peito de frango",
          "picanha",
          "alcatra"
         ],
         "xaxis": "x2",
         "y": [
          210,
          191,
          182,
          177,
          174,
          174,
          173,
          159
         ],
         "yaxis": "y2"
        },
        {
         "name": "",
         "type": "bar",
         "x": [
          "pão de queijo",
          "pão de forma",
          "pão francês",
          "pastel",
          "sanduíche",
          "bolo",
          "torta",
          "sonho"
         ],
         "xaxis": "x3",
         "y": [
          205,
          184,
          184,
          176,
          169,
          158,
          142,
          141
         ],
         "yaxis": "y3"
        },
        {
         "name": "",
         "type": "bar",
         "x": [
          "água sanitária",
          "amaciante",
          "sabão em pó",
          "odorizador",
          "flanela",
          "detergente",
          "sabonete",
          "rodo"
         ],
         "xaxis": "x4",
         "y": [
          210,
          200,
          187,
          186,
          184,
          179,
          175,
          166
         ],
         "yaxis": "y4"
        }
       ],
       "layout": {
        "annotations": [
         {
          "font": {
           "size": 16
          },
          "showarrow": false,
          "text": "Quantidades vendidas em alimentos em geral",
          "x": 0.225,
          "xanchor": "center",
          "xref": "paper",
          "y": 1,
          "yanchor": "bottom",
          "yref": "paper"
         },
         {
          "font": {
           "size": 16
          },
          "showarrow": false,
          "text": "Quantidades vendidas no açougue",
          "x": 0.775,
          "xanchor": "center",
          "xref": "paper",
          "y": 1,
          "yanchor": "bottom",
          "yref": "paper"
         },
         {
          "font": {
           "size": 16
          },
          "showarrow": false,
          "text": "Quantidades vendidas na padaria",
          "x": 0.225,
          "xanchor": "center",
          "xref": "paper",
          "y": 0.375,
          "yanchor": "bottom",
          "yref": "paper"
         },
         {
          "font": {
           "size": 16
          },
          "showarrow": false,
          "text": "Quantidades vendidas em produtos de limpeza",
          "x": 0.775,
          "xanchor": "center",
          "xref": "paper",
          "y": 0.375,
          "yanchor": "bottom",
          "yref": "paper"
         }
        ],
        "height": 650,
        "showlegend": false,
        "template": {
         "data": {
          "bar": [
           {
            "error_x": {
             "color": "#2a3f5f"
            },
            "error_y": {
             "color": "#2a3f5f"
            },
            "marker": {
             "line": {
              "color": "#E5ECF6",
              "width": 0.5
             },
             "pattern": {
              "fillmode": "overlay",
              "size": 10,
              "solidity": 0.2
             }
            },
            "type": "bar"
           }
          ],
          "barpolar": [
           {
            "marker": {
             "line": {
              "color": "#E5ECF6",
              "width": 0.5
             },
             "pattern": {
              "fillmode": "overlay",
              "size": 10,
              "solidity": 0.2
             }
            },
            "type": "barpolar"
           }
          ],
          "carpet": [
           {
            "aaxis": {
             "endlinecolor": "#2a3f5f",
             "gridcolor": "white",
             "linecolor": "white",
             "minorgridcolor": "white",
             "startlinecolor": "#2a3f5f"
            },
            "baxis": {
             "endlinecolor": "#2a3f5f",
             "gridcolor": "white",
             "linecolor": "white",
             "minorgridcolor": "white",
             "startlinecolor": "#2a3f5f"
            },
            "type": "carpet"
           }
          ],
          "choropleth": [
           {
            "colorbar": {
             "outlinewidth": 0,
             "ticks": ""
            },
            "type": "choropleth"
           }
          ],
          "contour": [
           {
            "colorbar": {
             "outlinewidth": 0,
             "ticks": ""
            },
            "colorscale": [
             [
              0,
              "#0d0887"
             ],
             [
              0.1111111111111111,
              "#46039f"
             ],
             [
              0.2222222222222222,
              "#7201a8"
             ],
             [
              0.3333333333333333,
              "#9c179e"
             ],
             [
              0.4444444444444444,
              "#bd3786"
             ],
             [
              0.5555555555555556,
              "#d8576b"
             ],
             [
              0.6666666666666666,
              "#ed7953"
             ],
             [
              0.7777777777777778,
              "#fb9f3a"
             ],
             [
              0.8888888888888888,
              "#fdca26"
             ],
             [
              1,
              "#f0f921"
             ]
            ],
            "type": "contour"
           }
          ],
          "contourcarpet": [
           {
            "colorbar": {
             "outlinewidth": 0,
             "ticks": ""
            },
            "type": "contourcarpet"
           }
          ],
          "heatmap": [
           {
            "colorbar": {
             "outlinewidth": 0,
             "ticks": ""
            },
            "colorscale": [
             [
              0,
              "#0d0887"
             ],
             [
              0.1111111111111111,
              "#46039f"
             ],
             [
              0.2222222222222222,
              "#7201a8"
             ],
             [
              0.3333333333333333,
              "#9c179e"
             ],
             [
              0.4444444444444444,
              "#bd3786"
             ],
             [
              0.5555555555555556,
              "#d8576b"
             ],
             [
              0.6666666666666666,
              "#ed7953"
             ],
             [
              0.7777777777777778,
              "#fb9f3a"
             ],
             [
              0.8888888888888888,
              "#fdca26"
             ],
             [
              1,
              "#f0f921"
             ]
            ],
            "type": "heatmap"
           }
          ],
          "heatmapgl": [
           {
            "colorbar": {
             "outlinewidth": 0,
             "ticks": ""
            },
            "colorscale": [
             [
              0,
              "#0d0887"
             ],
             [
              0.1111111111111111,
              "#46039f"
             ],
             [
              0.2222222222222222,
              "#7201a8"
             ],
             [
              0.3333333333333333,
              "#9c179e"
             ],
             [
              0.4444444444444444,
              "#bd3786"
             ],
             [
              0.5555555555555556,
              "#d8576b"
             ],
             [
              0.6666666666666666,
              "#ed7953"
             ],
             [
              0.7777777777777778,
              "#fb9f3a"
             ],
             [
              0.8888888888888888,
              "#fdca26"
             ],
             [
              1,
              "#f0f921"
             ]
            ],
            "type": "heatmapgl"
           }
          ],
          "histogram": [
           {
            "marker": {
             "pattern": {
              "fillmode": "overlay",
              "size": 10,
              "solidity": 0.2
             }
            },
            "type": "histogram"
           }
          ],
          "histogram2d": [
           {
            "colorbar": {
             "outlinewidth": 0,
             "ticks": ""
            },
            "colorscale": [
             [
              0,
              "#0d0887"
             ],
             [
              0.1111111111111111,
              "#46039f"
             ],
             [
              0.2222222222222222,
              "#7201a8"
             ],
             [
              0.3333333333333333,
              "#9c179e"
             ],
             [
              0.4444444444444444,
              "#bd3786"
             ],
             [
              0.5555555555555556,
              "#d8576b"
             ],
             [
              0.6666666666666666,
              "#ed7953"
             ],
             [
              0.7777777777777778,
              "#fb9f3a"
             ],
             [
              0.8888888888888888,
              "#fdca26"
             ],
             [
              1,
              "#f0f921"
             ]
            ],
            "type": "histogram2d"
           }
          ],
          "histogram2dcontour": [
           {
            "colorbar": {
             "outlinewidth": 0,
             "ticks": ""
            },
            "colorscale": [
             [
              0,
              "#0d0887"
             ],
             [
              0.1111111111111111,
              "#46039f"
             ],
             [
              0.2222222222222222,
              "#7201a8"
             ],
             [
              0.3333333333333333,
              "#9c179e"
             ],
             [
              0.4444444444444444,
              "#bd3786"
             ],
             [
              0.5555555555555556,
              "#d8576b"
             ],
             [
              0.6666666666666666,
              "#ed7953"
             ],
             [
              0.7777777777777778,
              "#fb9f3a"
             ],
             [
              0.8888888888888888,
              "#fdca26"
             ],
             [
              1,
              "#f0f921"
             ]
            ],
            "type": "histogram2dcontour"
           }
          ],
          "mesh3d": [
           {
            "colorbar": {
             "outlinewidth": 0,
             "ticks": ""
            },
            "type": "mesh3d"
           }
          ],
          "parcoords": [
           {
            "line": {
             "colorbar": {
              "outlinewidth": 0,
              "ticks": ""
             }
            },
            "type": "parcoords"
           }
          ],
          "pie": [
           {
            "automargin": true,
            "type": "pie"
           }
          ],
          "scatter": [
           {
            "marker": {
             "colorbar": {
              "outlinewidth": 0,
              "ticks": ""
             }
            },
            "type": "scatter"
           }
          ],
          "scatter3d": [
           {
            "line": {
             "colorbar": {
              "outlinewidth": 0,
              "ticks": ""
             }
            },
            "marker": {
             "colorbar": {
              "outlinewidth": 0,
              "ticks": ""
             }
            },
            "type": "scatter3d"
           }
          ],
          "scattercarpet": [
           {
            "marker": {
             "colorbar": {
              "outlinewidth": 0,
              "ticks": ""
             }
            },
            "type": "scattercarpet"
           }
          ],
          "scattergeo": [
           {
            "marker": {
             "colorbar": {
              "outlinewidth": 0,
              "ticks": ""
             }
            },
            "type": "scattergeo"
           }
          ],
          "scattergl": [
           {
            "marker": {
             "colorbar": {
              "outlinewidth": 0,
              "ticks": ""
             }
            },
            "type": "scattergl"
           }
          ],
          "scattermapbox": [
           {
            "marker": {
             "colorbar": {
              "outlinewidth": 0,
              "ticks": ""
             }
            },
            "type": "scattermapbox"
           }
          ],
          "scatterpolar": [
           {
            "marker": {
             "colorbar": {
              "outlinewidth": 0,
              "ticks": ""
             }
            },
            "type": "scatterpolar"
           }
          ],
          "scatterpolargl": [
           {
            "marker": {
             "colorbar": {
              "outlinewidth": 0,
              "ticks": ""
             }
            },
            "type": "scatterpolargl"
           }
          ],
          "scatterternary": [
           {
            "marker": {
             "colorbar": {
              "outlinewidth": 0,
              "ticks": ""
             }
            },
            "type": "scatterternary"
           }
          ],
          "surface": [
           {
            "colorbar": {
             "outlinewidth": 0,
             "ticks": ""
            },
            "colorscale": [
             [
              0,
              "#0d0887"
             ],
             [
              0.1111111111111111,
              "#46039f"
             ],
             [
              0.2222222222222222,
              "#7201a8"
             ],
             [
              0.3333333333333333,
              "#9c179e"
             ],
             [
              0.4444444444444444,
              "#bd3786"
             ],
             [
              0.5555555555555556,
              "#d8576b"
             ],
             [
              0.6666666666666666,
              "#ed7953"
             ],
             [
              0.7777777777777778,
              "#fb9f3a"
             ],
             [
              0.8888888888888888,
              "#fdca26"
             ],
             [
              1,
              "#f0f921"
             ]
            ],
            "type": "surface"
           }
          ],
          "table": [
           {
            "cells": {
             "fill": {
              "color": "#EBF0F8"
             },
             "line": {
              "color": "white"
             }
            },
            "header": {
             "fill": {
              "color": "#C8D4E3"
             },
             "line": {
              "color": "white"
             }
            },
            "type": "table"
           }
          ]
         },
         "layout": {
          "annotationdefaults": {
           "arrowcolor": "#2a3f5f",
           "arrowhead": 0,
           "arrowwidth": 1
          },
          "autotypenumbers": "strict",
          "coloraxis": {
           "colorbar": {
            "outlinewidth": 0,
            "ticks": ""
           }
          },
          "colorscale": {
           "diverging": [
            [
             0,
             "#8e0152"
            ],
            [
             0.1,
             "#c51b7d"
            ],
            [
             0.2,
             "#de77ae"
            ],
            [
             0.3,
             "#f1b6da"
            ],
            [
             0.4,
             "#fde0ef"
            ],
            [
             0.5,
             "#f7f7f7"
            ],
            [
             0.6,
             "#e6f5d0"
            ],
            [
             0.7,
             "#b8e186"
            ],
            [
             0.8,
             "#7fbc41"
            ],
            [
             0.9,
             "#4d9221"
            ],
            [
             1,
             "#276419"
            ]
           ],
           "sequential": [
            [
             0,
             "#0d0887"
            ],
            [
             0.1111111111111111,
             "#46039f"
            ],
            [
             0.2222222222222222,
             "#7201a8"
            ],
            [
             0.3333333333333333,
             "#9c179e"
            ],
            [
             0.4444444444444444,
             "#bd3786"
            ],
            [
             0.5555555555555556,
             "#d8576b"
            ],
            [
             0.6666666666666666,
             "#ed7953"
            ],
            [
             0.7777777777777778,
             "#fb9f3a"
            ],
            [
             0.8888888888888888,
             "#fdca26"
            ],
            [
             1,
             "#f0f921"
            ]
           ],
           "sequentialminus": [
            [
             0,
             "#0d0887"
            ],
            [
             0.1111111111111111,
             "#46039f"
            ],
            [
             0.2222222222222222,
             "#7201a8"
            ],
            [
             0.3333333333333333,
             "#9c179e"
            ],
            [
             0.4444444444444444,
             "#bd3786"
            ],
            [
             0.5555555555555556,
             "#d8576b"
            ],
            [
             0.6666666666666666,
             "#ed7953"
            ],
            [
             0.7777777777777778,
             "#fb9f3a"
            ],
            [
             0.8888888888888888,
             "#fdca26"
            ],
            [
             1,
             "#f0f921"
            ]
           ]
          },
          "colorway": [
           "#636efa",
           "#EF553B",
           "#00cc96",
           "#ab63fa",
           "#FFA15A",
           "#19d3f3",
           "#FF6692",
           "#B6E880",
           "#FF97FF",
           "#FECB52"
          ],
          "font": {
           "color": "#2a3f5f"
          },
          "geo": {
           "bgcolor": "white",
           "lakecolor": "white",
           "landcolor": "#E5ECF6",
           "showlakes": true,
           "showland": true,
           "subunitcolor": "white"
          },
          "hoverlabel": {
           "align": "left"
          },
          "hovermode": "closest",
          "mapbox": {
           "style": "light"
          },
          "paper_bgcolor": "white",
          "plot_bgcolor": "#E5ECF6",
          "polar": {
           "angularaxis": {
            "gridcolor": "white",
            "linecolor": "white",
            "ticks": ""
           },
           "bgcolor": "#E5ECF6",
           "radialaxis": {
            "gridcolor": "white",
            "linecolor": "white",
            "ticks": ""
           }
          },
          "scene": {
           "xaxis": {
            "backgroundcolor": "#E5ECF6",
            "gridcolor": "white",
            "gridwidth": 2,
            "linecolor": "white",
            "showbackground": true,
            "ticks": "",
            "zerolinecolor": "white"
           },
           "yaxis": {
            "backgroundcolor": "#E5ECF6",
            "gridcolor": "white",
            "gridwidth": 2,
            "linecolor": "white",
            "showbackground": true,
            "ticks": "",
            "zerolinecolor": "white"
           },
           "zaxis": {
            "backgroundcolor": "#E5ECF6",
            "gridcolor": "white",
            "gridwidth": 2,
            "linecolor": "white",
            "showbackground": true,
            "ticks": "",
            "zerolinecolor": "white"
           }
          },
          "shapedefaults": {
           "line": {
            "color": "#2a3f5f"
           }
          },
          "ternary": {
           "aaxis": {
            "gridcolor": "white",
            "linecolor": "white",
            "ticks": ""
           },
           "baxis": {
            "gridcolor": "white",
            "linecolor": "white",
            "ticks": ""
           },
           "bgcolor": "#E5ECF6",
           "caxis": {
            "gridcolor": "white",
            "linecolor": "white",
            "ticks": ""
           }
          },
          "title": {
           "x": 0.05
          },
          "xaxis": {
           "automargin": true,
           "gridcolor": "white",
           "linecolor": "white",
           "ticks": "",
           "title": {
            "standoff": 15
           },
           "zerolinecolor": "white",
           "zerolinewidth": 2
          },
          "yaxis": {
           "automargin": true,
           "gridcolor": "white",
           "linecolor": "white",
           "ticks": "",
           "title": {
            "standoff": 15
           },
           "zerolinecolor": "white",
           "zerolinewidth": 2
          }
         }
        },
        "title": {
         "text": "Produtos mais vendidos"
        },
        "width": 800,
        "xaxis": {
         "anchor": "y",
         "domain": [
          0,
          0.45
         ],
         "tickangle": 45
        },
        "xaxis2": {
         "anchor": "y2",
         "domain": [
          0.55,
          1
         ],
         "tickangle": 45
        },
        "xaxis3": {
         "anchor": "y3",
         "domain": [
          0,
          0.45
         ],
         "tickangle": 45
        },
        "xaxis4": {
         "anchor": "y4",
         "domain": [
          0.55,
          1
         ],
         "tickangle": 45
        },
        "yaxis": {
         "anchor": "x",
         "domain": [
          0.625,
          1
         ]
        },
        "yaxis2": {
         "anchor": "x2",
         "domain": [
          0.625,
          1
         ],
         "matches": "y",
         "showticklabels": false
        },
        "yaxis3": {
         "anchor": "x3",
         "domain": [
          0,
          0.375
         ]
        },
        "yaxis4": {
         "anchor": "x4",
         "domain": [
          0,
          0.375
         ],
         "matches": "y3",
         "showticklabels": false
        }
       }
      },
      "text/html": [
       "<div>                            <div id=\"57a595c0-b9d0-43e4-b873-4e7e1c91e9f8\" class=\"plotly-graph-div\" style=\"height:650px; width:800px;\"></div>            <script type=\"text/javascript\">                require([\"plotly\"], function(Plotly) {                    window.PLOTLYENV=window.PLOTLYENV || {};                                    if (document.getElementById(\"57a595c0-b9d0-43e4-b873-4e7e1c91e9f8\")) {                    Plotly.newPlot(                        \"57a595c0-b9d0-43e4-b873-4e7e1c91e9f8\",                        [{\"name\":\"\",\"type\":\"bar\",\"x\":[\"abobrinha\",\"feij\\u00e3o\",\"melancia\",\"arroz\",\"banana\",\"batata\",\"couve-flor\",\"uva\",\"macarr\\u00e3o\",\"berinjela\",\"alface\",\"morango\"],\"xaxis\":\"x\",\"y\":[204,195,190,186,185,178,169,163,155,146,138,138],\"yaxis\":\"y\"},{\"name\":\"\",\"type\":\"bar\",\"x\":[\"costela\",\"paleta su\\u00edna\",\"carr\\u00e9 de cordeiro\",\"maminha\",\"bisteca su\\u00edna\",\"peito de frango\",\"picanha\",\"alcatra\"],\"xaxis\":\"x2\",\"y\":[210,191,182,177,174,174,173,159],\"yaxis\":\"y2\"},{\"name\":\"\",\"type\":\"bar\",\"x\":[\"p\\u00e3o de queijo\",\"p\\u00e3o de forma\",\"p\\u00e3o franc\\u00eas\",\"pastel\",\"sandu\\u00edche\",\"bolo\",\"torta\",\"sonho\"],\"xaxis\":\"x3\",\"y\":[205,184,184,176,169,158,142,141],\"yaxis\":\"y3\"},{\"name\":\"\",\"type\":\"bar\",\"x\":[\"\\u00e1gua sanit\\u00e1ria\",\"amaciante\",\"sab\\u00e3o em p\\u00f3\",\"odorizador\",\"flanela\",\"detergente\",\"sabonete\",\"rodo\"],\"xaxis\":\"x4\",\"y\":[210,200,187,186,184,179,175,166],\"yaxis\":\"y4\"}],                        {\"annotations\":[{\"font\":{\"size\":16},\"showarrow\":false,\"text\":\"Quantidades vendidas em alimentos em geral\",\"x\":0.225,\"xanchor\":\"center\",\"xref\":\"paper\",\"y\":1.0,\"yanchor\":\"bottom\",\"yref\":\"paper\"},{\"font\":{\"size\":16},\"showarrow\":false,\"text\":\"Quantidades vendidas no a\\u00e7ougue\",\"x\":0.775,\"xanchor\":\"center\",\"xref\":\"paper\",\"y\":1.0,\"yanchor\":\"bottom\",\"yref\":\"paper\"},{\"font\":{\"size\":16},\"showarrow\":false,\"text\":\"Quantidades vendidas na padaria\",\"x\":0.225,\"xanchor\":\"center\",\"xref\":\"paper\",\"y\":0.375,\"yanchor\":\"bottom\",\"yref\":\"paper\"},{\"font\":{\"size\":16},\"showarrow\":false,\"text\":\"Quantidades vendidas em produtos de limpeza\",\"x\":0.775,\"xanchor\":\"center\",\"xref\":\"paper\",\"y\":0.375,\"yanchor\":\"bottom\",\"yref\":\"paper\"}],\"height\":650,\"showlegend\":false,\"template\":{\"data\":{\"bar\":[{\"error_x\":{\"color\":\"#2a3f5f\"},\"error_y\":{\"color\":\"#2a3f5f\"},\"marker\":{\"line\":{\"color\":\"#E5ECF6\",\"width\":0.5},\"pattern\":{\"fillmode\":\"overlay\",\"size\":10,\"solidity\":0.2}},\"type\":\"bar\"}],\"barpolar\":[{\"marker\":{\"line\":{\"color\":\"#E5ECF6\",\"width\":0.5},\"pattern\":{\"fillmode\":\"overlay\",\"size\":10,\"solidity\":0.2}},\"type\":\"barpolar\"}],\"carpet\":[{\"aaxis\":{\"endlinecolor\":\"#2a3f5f\",\"gridcolor\":\"white\",\"linecolor\":\"white\",\"minorgridcolor\":\"white\",\"startlinecolor\":\"#2a3f5f\"},\"baxis\":{\"endlinecolor\":\"#2a3f5f\",\"gridcolor\":\"white\",\"linecolor\":\"white\",\"minorgridcolor\":\"white\",\"startlinecolor\":\"#2a3f5f\"},\"type\":\"carpet\"}],\"choropleth\":[{\"colorbar\":{\"outlinewidth\":0,\"ticks\":\"\"},\"type\":\"choropleth\"}],\"contour\":[{\"colorbar\":{\"outlinewidth\":0,\"ticks\":\"\"},\"colorscale\":[[0.0,\"#0d0887\"],[0.1111111111111111,\"#46039f\"],[0.2222222222222222,\"#7201a8\"],[0.3333333333333333,\"#9c179e\"],[0.4444444444444444,\"#bd3786\"],[0.5555555555555556,\"#d8576b\"],[0.6666666666666666,\"#ed7953\"],[0.7777777777777778,\"#fb9f3a\"],[0.8888888888888888,\"#fdca26\"],[1.0,\"#f0f921\"]],\"type\":\"contour\"}],\"contourcarpet\":[{\"colorbar\":{\"outlinewidth\":0,\"ticks\":\"\"},\"type\":\"contourcarpet\"}],\"heatmap\":[{\"colorbar\":{\"outlinewidth\":0,\"ticks\":\"\"},\"colorscale\":[[0.0,\"#0d0887\"],[0.1111111111111111,\"#46039f\"],[0.2222222222222222,\"#7201a8\"],[0.3333333333333333,\"#9c179e\"],[0.4444444444444444,\"#bd3786\"],[0.5555555555555556,\"#d8576b\"],[0.6666666666666666,\"#ed7953\"],[0.7777777777777778,\"#fb9f3a\"],[0.8888888888888888,\"#fdca26\"],[1.0,\"#f0f921\"]],\"type\":\"heatmap\"}],\"heatmapgl\":[{\"colorbar\":{\"outlinewidth\":0,\"ticks\":\"\"},\"colorscale\":[[0.0,\"#0d0887\"],[0.1111111111111111,\"#46039f\"],[0.2222222222222222,\"#7201a8\"],[0.3333333333333333,\"#9c179e\"],[0.4444444444444444,\"#bd3786\"],[0.5555555555555556,\"#d8576b\"],[0.6666666666666666,\"#ed7953\"],[0.7777777777777778,\"#fb9f3a\"],[0.8888888888888888,\"#fdca26\"],[1.0,\"#f0f921\"]],\"type\":\"heatmapgl\"}],\"histogram\":[{\"marker\":{\"pattern\":{\"fillmode\":\"overlay\",\"size\":10,\"solidity\":0.2}},\"type\":\"histogram\"}],\"histogram2d\":[{\"colorbar\":{\"outlinewidth\":0,\"ticks\":\"\"},\"colorscale\":[[0.0,\"#0d0887\"],[0.1111111111111111,\"#46039f\"],[0.2222222222222222,\"#7201a8\"],[0.3333333333333333,\"#9c179e\"],[0.4444444444444444,\"#bd3786\"],[0.5555555555555556,\"#d8576b\"],[0.6666666666666666,\"#ed7953\"],[0.7777777777777778,\"#fb9f3a\"],[0.8888888888888888,\"#fdca26\"],[1.0,\"#f0f921\"]],\"type\":\"histogram2d\"}],\"histogram2dcontour\":[{\"colorbar\":{\"outlinewidth\":0,\"ticks\":\"\"},\"colorscale\":[[0.0,\"#0d0887\"],[0.1111111111111111,\"#46039f\"],[0.2222222222222222,\"#7201a8\"],[0.3333333333333333,\"#9c179e\"],[0.4444444444444444,\"#bd3786\"],[0.5555555555555556,\"#d8576b\"],[0.6666666666666666,\"#ed7953\"],[0.7777777777777778,\"#fb9f3a\"],[0.8888888888888888,\"#fdca26\"],[1.0,\"#f0f921\"]],\"type\":\"histogram2dcontour\"}],\"mesh3d\":[{\"colorbar\":{\"outlinewidth\":0,\"ticks\":\"\"},\"type\":\"mesh3d\"}],\"parcoords\":[{\"line\":{\"colorbar\":{\"outlinewidth\":0,\"ticks\":\"\"}},\"type\":\"parcoords\"}],\"pie\":[{\"automargin\":true,\"type\":\"pie\"}],\"scatter\":[{\"marker\":{\"colorbar\":{\"outlinewidth\":0,\"ticks\":\"\"}},\"type\":\"scatter\"}],\"scatter3d\":[{\"line\":{\"colorbar\":{\"outlinewidth\":0,\"ticks\":\"\"}},\"marker\":{\"colorbar\":{\"outlinewidth\":0,\"ticks\":\"\"}},\"type\":\"scatter3d\"}],\"scattercarpet\":[{\"marker\":{\"colorbar\":{\"outlinewidth\":0,\"ticks\":\"\"}},\"type\":\"scattercarpet\"}],\"scattergeo\":[{\"marker\":{\"colorbar\":{\"outlinewidth\":0,\"ticks\":\"\"}},\"type\":\"scattergeo\"}],\"scattergl\":[{\"marker\":{\"colorbar\":{\"outlinewidth\":0,\"ticks\":\"\"}},\"type\":\"scattergl\"}],\"scattermapbox\":[{\"marker\":{\"colorbar\":{\"outlinewidth\":0,\"ticks\":\"\"}},\"type\":\"scattermapbox\"}],\"scatterpolar\":[{\"marker\":{\"colorbar\":{\"outlinewidth\":0,\"ticks\":\"\"}},\"type\":\"scatterpolar\"}],\"scatterpolargl\":[{\"marker\":{\"colorbar\":{\"outlinewidth\":0,\"ticks\":\"\"}},\"type\":\"scatterpolargl\"}],\"scatterternary\":[{\"marker\":{\"colorbar\":{\"outlinewidth\":0,\"ticks\":\"\"}},\"type\":\"scatterternary\"}],\"surface\":[{\"colorbar\":{\"outlinewidth\":0,\"ticks\":\"\"},\"colorscale\":[[0.0,\"#0d0887\"],[0.1111111111111111,\"#46039f\"],[0.2222222222222222,\"#7201a8\"],[0.3333333333333333,\"#9c179e\"],[0.4444444444444444,\"#bd3786\"],[0.5555555555555556,\"#d8576b\"],[0.6666666666666666,\"#ed7953\"],[0.7777777777777778,\"#fb9f3a\"],[0.8888888888888888,\"#fdca26\"],[1.0,\"#f0f921\"]],\"type\":\"surface\"}],\"table\":[{\"cells\":{\"fill\":{\"color\":\"#EBF0F8\"},\"line\":{\"color\":\"white\"}},\"header\":{\"fill\":{\"color\":\"#C8D4E3\"},\"line\":{\"color\":\"white\"}},\"type\":\"table\"}]},\"layout\":{\"annotationdefaults\":{\"arrowcolor\":\"#2a3f5f\",\"arrowhead\":0,\"arrowwidth\":1},\"autotypenumbers\":\"strict\",\"coloraxis\":{\"colorbar\":{\"outlinewidth\":0,\"ticks\":\"\"}},\"colorscale\":{\"diverging\":[[0,\"#8e0152\"],[0.1,\"#c51b7d\"],[0.2,\"#de77ae\"],[0.3,\"#f1b6da\"],[0.4,\"#fde0ef\"],[0.5,\"#f7f7f7\"],[0.6,\"#e6f5d0\"],[0.7,\"#b8e186\"],[0.8,\"#7fbc41\"],[0.9,\"#4d9221\"],[1,\"#276419\"]],\"sequential\":[[0.0,\"#0d0887\"],[0.1111111111111111,\"#46039f\"],[0.2222222222222222,\"#7201a8\"],[0.3333333333333333,\"#9c179e\"],[0.4444444444444444,\"#bd3786\"],[0.5555555555555556,\"#d8576b\"],[0.6666666666666666,\"#ed7953\"],[0.7777777777777778,\"#fb9f3a\"],[0.8888888888888888,\"#fdca26\"],[1.0,\"#f0f921\"]],\"sequentialminus\":[[0.0,\"#0d0887\"],[0.1111111111111111,\"#46039f\"],[0.2222222222222222,\"#7201a8\"],[0.3333333333333333,\"#9c179e\"],[0.4444444444444444,\"#bd3786\"],[0.5555555555555556,\"#d8576b\"],[0.6666666666666666,\"#ed7953\"],[0.7777777777777778,\"#fb9f3a\"],[0.8888888888888888,\"#fdca26\"],[1.0,\"#f0f921\"]]},\"colorway\":[\"#636efa\",\"#EF553B\",\"#00cc96\",\"#ab63fa\",\"#FFA15A\",\"#19d3f3\",\"#FF6692\",\"#B6E880\",\"#FF97FF\",\"#FECB52\"],\"font\":{\"color\":\"#2a3f5f\"},\"geo\":{\"bgcolor\":\"white\",\"lakecolor\":\"white\",\"landcolor\":\"#E5ECF6\",\"showlakes\":true,\"showland\":true,\"subunitcolor\":\"white\"},\"hoverlabel\":{\"align\":\"left\"},\"hovermode\":\"closest\",\"mapbox\":{\"style\":\"light\"},\"paper_bgcolor\":\"white\",\"plot_bgcolor\":\"#E5ECF6\",\"polar\":{\"angularaxis\":{\"gridcolor\":\"white\",\"linecolor\":\"white\",\"ticks\":\"\"},\"bgcolor\":\"#E5ECF6\",\"radialaxis\":{\"gridcolor\":\"white\",\"linecolor\":\"white\",\"ticks\":\"\"}},\"scene\":{\"xaxis\":{\"backgroundcolor\":\"#E5ECF6\",\"gridcolor\":\"white\",\"gridwidth\":2,\"linecolor\":\"white\",\"showbackground\":true,\"ticks\":\"\",\"zerolinecolor\":\"white\"},\"yaxis\":{\"backgroundcolor\":\"#E5ECF6\",\"gridcolor\":\"white\",\"gridwidth\":2,\"linecolor\":\"white\",\"showbackground\":true,\"ticks\":\"\",\"zerolinecolor\":\"white\"},\"zaxis\":{\"backgroundcolor\":\"#E5ECF6\",\"gridcolor\":\"white\",\"gridwidth\":2,\"linecolor\":\"white\",\"showbackground\":true,\"ticks\":\"\",\"zerolinecolor\":\"white\"}},\"shapedefaults\":{\"line\":{\"color\":\"#2a3f5f\"}},\"ternary\":{\"aaxis\":{\"gridcolor\":\"white\",\"linecolor\":\"white\",\"ticks\":\"\"},\"baxis\":{\"gridcolor\":\"white\",\"linecolor\":\"white\",\"ticks\":\"\"},\"bgcolor\":\"#E5ECF6\",\"caxis\":{\"gridcolor\":\"white\",\"linecolor\":\"white\",\"ticks\":\"\"}},\"title\":{\"x\":0.05},\"xaxis\":{\"automargin\":true,\"gridcolor\":\"white\",\"linecolor\":\"white\",\"ticks\":\"\",\"title\":{\"standoff\":15},\"zerolinecolor\":\"white\",\"zerolinewidth\":2},\"yaxis\":{\"automargin\":true,\"gridcolor\":\"white\",\"linecolor\":\"white\",\"ticks\":\"\",\"title\":{\"standoff\":15},\"zerolinecolor\":\"white\",\"zerolinewidth\":2}}},\"title\":{\"text\":\"Produtos mais vendidos\"},\"width\":800,\"xaxis\":{\"anchor\":\"y\",\"domain\":[0.0,0.45],\"tickangle\":45},\"xaxis2\":{\"anchor\":\"y2\",\"domain\":[0.55,1.0],\"tickangle\":45},\"xaxis3\":{\"anchor\":\"y3\",\"domain\":[0.0,0.45],\"tickangle\":45},\"xaxis4\":{\"anchor\":\"y4\",\"domain\":[0.55,1.0],\"tickangle\":45},\"yaxis\":{\"anchor\":\"x\",\"domain\":[0.625,1.0]},\"yaxis2\":{\"anchor\":\"x2\",\"domain\":[0.625,1.0],\"matches\":\"y\",\"showticklabels\":false},\"yaxis3\":{\"anchor\":\"x3\",\"domain\":[0.0,0.375]},\"yaxis4\":{\"anchor\":\"x4\",\"domain\":[0.0,0.375],\"matches\":\"y3\",\"showticklabels\":false}},                        {\"responsive\": true}                    ).then(function(){\n",
       "                            \n",
       "var gd = document.getElementById('57a595c0-b9d0-43e4-b873-4e7e1c91e9f8');\n",
       "var x = new MutationObserver(function (mutations, observer) {{\n",
       "        var display = window.getComputedStyle(gd).display;\n",
       "        if (!display || display === 'none') {{\n",
       "            console.log([gd, 'removed!']);\n",
       "            Plotly.purge(gd);\n",
       "            observer.disconnect();\n",
       "        }}\n",
       "}});\n",
       "\n",
       "// Listen for the removal of the full notebook cells\n",
       "var notebookContainer = gd.closest('#notebook-container');\n",
       "if (notebookContainer) {{\n",
       "    x.observe(notebookContainer, {childList: true});\n",
       "}}\n",
       "\n",
       "// Listen for the clearing of the current output cell\n",
       "var outputEl = gd.closest('.output');\n",
       "if (outputEl) {{\n",
       "    x.observe(outputEl, {childList: true});\n",
       "}}\n",
       "\n",
       "                        })                };                });            </script>        </div>"
      ]
     },
     "metadata": {},
     "output_type": "display_data"
    }
   ],
   "source": [
    "from plotly.subplots import make_subplots\n",
    "\n",
    "df_frutas_e_verduras_quantidade=df_frutas_e_verduras.groupby(\"nome\").sum().sort_values('quantidade', ascending=False).reset_index()\n",
    "df_acougue_quantidade=df_acougue.groupby(\"nome\").sum().sort_values('quantidade', ascending=False).reset_index()\n",
    "df_padaria_quantidade=df_padaria.groupby(\"nome\").sum().sort_values('quantidade', ascending=False).reset_index()\n",
    "df_limpeza_quantidade=df_produtos_de_limpeza.groupby(\"nome\").sum().sort_values('quantidade', ascending=False).reset_index()\n",
    "\n",
    "fig = make_subplots(rows=2, cols=2, shared_yaxes=True, \n",
    "    subplot_titles=(\"Quantidades vendidas em alimentos em geral\", \"Quantidades vendidas no açougue\", \"Quantidades vendidas na padaria\", \"Quantidades vendidas em produtos de limpeza\"))\n",
    "\n",
    "fig.add_trace(go.Bar(x=df_frutas_e_verduras_quantidade[\"nome\"], y=df_frutas_e_verduras_quantidade[\"quantidade\"], name=\"\"), \n",
    "              1, 1)\n",
    "\n",
    "fig.add_trace(go.Bar(x=df_acougue_quantidade[\"nome\"], y=df_acougue_quantidade[\"quantidade\"], name=\"\"),\n",
    "              1, 2)\n",
    "\n",
    "fig.add_trace(go.Bar(x=df_padaria_quantidade[\"nome\"], y=df_padaria_quantidade[\"quantidade\"], name=\"\"),\n",
    "              2, 1)\n",
    "\n",
    "fig.add_trace(go.Bar(x=df_limpeza_quantidade[\"nome\"], y=df_limpeza_quantidade[\"quantidade\"], name=\"\"),\n",
    "              2, 2)\n",
    "\n",
    "\n",
    "\n",
    "fig.update_layout(height=650, width=800, showlegend=False,\n",
    "                  title_text=\"Produtos mais vendidos\", )\n",
    "fig.update_xaxes(tickangle=45)\n",
    "\n",
    "fig.show()"
   ]
  },
  {
   "cell_type": "code",
   "execution_count": 110,
   "id": "73adb86f",
   "metadata": {},
   "outputs": [
    {
     "data": {
      "text/html": [
       "<div>\n",
       "<style scoped>\n",
       "    .dataframe tbody tr th:only-of-type {\n",
       "        vertical-align: middle;\n",
       "    }\n",
       "\n",
       "    .dataframe tbody tr th {\n",
       "        vertical-align: top;\n",
       "    }\n",
       "\n",
       "    .dataframe thead th {\n",
       "        text-align: right;\n",
       "    }\n",
       "</style>\n",
       "<table border=\"1\" class=\"dataframe\">\n",
       "  <thead>\n",
       "    <tr style=\"text-align: right;\">\n",
       "      <th></th>\n",
       "      <th>nome</th>\n",
       "      <th>id_vendas</th>\n",
       "      <th>id_produtos</th>\n",
       "      <th>quantidade</th>\n",
       "      <th>custo</th>\n",
       "      <th>preco</th>\n",
       "      <th>estoque</th>\n",
       "      <th>id_clientes</th>\n",
       "      <th>total_preco</th>\n",
       "      <th>lucro</th>\n",
       "    </tr>\n",
       "  </thead>\n",
       "  <tbody>\n",
       "    <tr>\n",
       "      <th>0</th>\n",
       "      <td>abobrinha</td>\n",
       "      <td>10874</td>\n",
       "      <td>498</td>\n",
       "      <td>204</td>\n",
       "      <td>223.27</td>\n",
       "      <td>289.67</td>\n",
       "      <td>1577</td>\n",
       "      <td>7534</td>\n",
       "      <td>711.96</td>\n",
       "      <td>163.20</td>\n",
       "    </tr>\n",
       "    <tr>\n",
       "      <th>1</th>\n",
       "      <td>feijão</td>\n",
       "      <td>9881</td>\n",
       "      <td>702</td>\n",
       "      <td>195</td>\n",
       "      <td>506.22</td>\n",
       "      <td>659.10</td>\n",
       "      <td>3354</td>\n",
       "      <td>7180</td>\n",
       "      <td>1647.75</td>\n",
       "      <td>382.20</td>\n",
       "    </tr>\n",
       "    <tr>\n",
       "      <th>2</th>\n",
       "      <td>melancia</td>\n",
       "      <td>8339</td>\n",
       "      <td>70</td>\n",
       "      <td>190</td>\n",
       "      <td>825.30</td>\n",
       "      <td>1119.30</td>\n",
       "      <td>1400</td>\n",
       "      <td>7033</td>\n",
       "      <td>3038.10</td>\n",
       "      <td>798.00</td>\n",
       "    </tr>\n",
       "    <tr>\n",
       "      <th>3</th>\n",
       "      <td>arroz</td>\n",
       "      <td>10452</td>\n",
       "      <td>730</td>\n",
       "      <td>186</td>\n",
       "      <td>171.55</td>\n",
       "      <td>314.63</td>\n",
       "      <td>5840</td>\n",
       "      <td>6716</td>\n",
       "      <td>801.66</td>\n",
       "      <td>364.56</td>\n",
       "    </tr>\n",
       "    <tr>\n",
       "      <th>4</th>\n",
       "      <td>banana</td>\n",
       "      <td>8305</td>\n",
       "      <td>142</td>\n",
       "      <td>185</td>\n",
       "      <td>142.00</td>\n",
       "      <td>425.29</td>\n",
       "      <td>2840</td>\n",
       "      <td>6548</td>\n",
       "      <td>1108.15</td>\n",
       "      <td>738.15</td>\n",
       "    </tr>\n",
       "    <tr>\n",
       "      <th>5</th>\n",
       "      <td>batata</td>\n",
       "      <td>8424</td>\n",
       "      <td>280</td>\n",
       "      <td>178</td>\n",
       "      <td>167.30</td>\n",
       "      <td>279.30</td>\n",
       "      <td>3290</td>\n",
       "      <td>7199</td>\n",
       "      <td>710.22</td>\n",
       "      <td>284.80</td>\n",
       "    </tr>\n",
       "    <tr>\n",
       "      <th>6</th>\n",
       "      <td>couve-flor</td>\n",
       "      <td>9153</td>\n",
       "      <td>568</td>\n",
       "      <td>169</td>\n",
       "      <td>226.49</td>\n",
       "      <td>389.08</td>\n",
       "      <td>1420</td>\n",
       "      <td>6866</td>\n",
       "      <td>926.12</td>\n",
       "      <td>387.01</td>\n",
       "    </tr>\n",
       "    <tr>\n",
       "      <th>7</th>\n",
       "      <td>uva</td>\n",
       "      <td>9750</td>\n",
       "      <td>192</td>\n",
       "      <td>163</td>\n",
       "      <td>268.16</td>\n",
       "      <td>478.08</td>\n",
       "      <td>2304</td>\n",
       "      <td>6446</td>\n",
       "      <td>1217.61</td>\n",
       "      <td>534.64</td>\n",
       "    </tr>\n",
       "    <tr>\n",
       "      <th>8</th>\n",
       "      <td>macarrão</td>\n",
       "      <td>7585</td>\n",
       "      <td>693</td>\n",
       "      <td>155</td>\n",
       "      <td>106.47</td>\n",
       "      <td>156.24</td>\n",
       "      <td>2394</td>\n",
       "      <td>5217</td>\n",
       "      <td>384.40</td>\n",
       "      <td>122.45</td>\n",
       "    </tr>\n",
       "    <tr>\n",
       "      <th>9</th>\n",
       "      <td>berinjela</td>\n",
       "      <td>8518</td>\n",
       "      <td>300</td>\n",
       "      <td>146</td>\n",
       "      <td>515.40</td>\n",
       "      <td>719.40</td>\n",
       "      <td>720</td>\n",
       "      <td>5454</td>\n",
       "      <td>1750.54</td>\n",
       "      <td>496.40</td>\n",
       "    </tr>\n",
       "    <tr>\n",
       "      <th>10</th>\n",
       "      <td>alface</td>\n",
       "      <td>7708</td>\n",
       "      <td>406</td>\n",
       "      <td>138</td>\n",
       "      <td>26.10</td>\n",
       "      <td>56.84</td>\n",
       "      <td>1450</td>\n",
       "      <td>5263</td>\n",
       "      <td>135.24</td>\n",
       "      <td>73.14</td>\n",
       "    </tr>\n",
       "    <tr>\n",
       "      <th>11</th>\n",
       "      <td>morango</td>\n",
       "      <td>6780</td>\n",
       "      <td>0</td>\n",
       "      <td>138</td>\n",
       "      <td>240.80</td>\n",
       "      <td>447.44</td>\n",
       "      <td>2800</td>\n",
       "      <td>5342</td>\n",
       "      <td>1102.62</td>\n",
       "      <td>509.22</td>\n",
       "    </tr>\n",
       "  </tbody>\n",
       "</table>\n",
       "</div>"
      ],
      "text/plain": [
       "          nome  id_vendas  id_produtos  quantidade   custo    preco  estoque  \\\n",
       "0    abobrinha      10874          498         204  223.27   289.67     1577   \n",
       "1       feijão       9881          702         195  506.22   659.10     3354   \n",
       "2     melancia       8339           70         190  825.30  1119.30     1400   \n",
       "3        arroz      10452          730         186  171.55   314.63     5840   \n",
       "4       banana       8305          142         185  142.00   425.29     2840   \n",
       "5       batata       8424          280         178  167.30   279.30     3290   \n",
       "6   couve-flor       9153          568         169  226.49   389.08     1420   \n",
       "7          uva       9750          192         163  268.16   478.08     2304   \n",
       "8     macarrão       7585          693         155  106.47   156.24     2394   \n",
       "9    berinjela       8518          300         146  515.40   719.40      720   \n",
       "10      alface       7708          406         138   26.10    56.84     1450   \n",
       "11     morango       6780            0         138  240.80   447.44     2800   \n",
       "\n",
       "    id_clientes  total_preco   lucro  \n",
       "0          7534       711.96  163.20  \n",
       "1          7180      1647.75  382.20  \n",
       "2          7033      3038.10  798.00  \n",
       "3          6716       801.66  364.56  \n",
       "4          6548      1108.15  738.15  \n",
       "5          7199       710.22  284.80  \n",
       "6          6866       926.12  387.01  \n",
       "7          6446      1217.61  534.64  \n",
       "8          5217       384.40  122.45  \n",
       "9          5454      1750.54  496.40  \n",
       "10         5263       135.24   73.14  \n",
       "11         5342      1102.62  509.22  "
      ]
     },
     "execution_count": 110,
     "metadata": {},
     "output_type": "execute_result"
    }
   ],
   "source": [
    "df_frutas_e_verduras_quantidade"
   ]
  },
  {
   "cell_type": "code",
   "execution_count": null,
   "id": "7619bc15",
   "metadata": {},
   "outputs": [],
   "source": []
  },
  {
   "cell_type": "code",
   "execution_count": 111,
   "id": "c788e46a",
   "metadata": {},
   "outputs": [],
   "source": [
    "from datetime import datetime, date\n",
    "tabela_ajustando_idade=venda_produtos_cliente\n",
    "tabela_ajustando_idade[\"nascimento\"]=tabela_ajustando_idade[\"nascimento\"].astype(str)\n",
    "\n",
    "tabela_ajustando_idade[\"nascimento\"]=tabela_ajustando_idade[\"nascimento\"].str.replace('-',' ')"
   ]
  },
  {
   "cell_type": "code",
   "execution_count": 112,
   "id": "a235283b",
   "metadata": {},
   "outputs": [],
   "source": [
    "today = date.today()\n",
    "def data(x):\n",
    "    x=datetime.strptime(x, \"%Y %m %d\")\n",
    "    return today.year - x.year - ((today.month, today.day) < (x.month, x.day))\n",
    "\n",
    "tabela_ajustando_idade[\"idade\"]=tabela_ajustando_idade[\"nascimento\"].apply(lambda x: data(x))\n",
    "\n",
    "tabela_ajustando_idade_cliente_gasto=tabela_ajustando_idade[[\"nome_cliente\", \"total_preco\"]].groupby(\"nome_cliente\").sum().sort_values('total_preco', ascending=False).reset_index()\n",
    "tabela_ajustando_idade_cliente_gasto.rename(columns={\"total_preco\": \"total_mes\"}, inplace = 1)\n",
    "\n",
    "tabela_ajustando_idade_cliente_idade=tabela_ajustando_idade[[\"nome_cliente\", \"idade\"]].drop_duplicates()\n",
    "\n",
    "tabela_cliente_gasto_idade=pd.merge(tabela_ajustando_idade_cliente_gasto, tabela_ajustando_idade_cliente_idade, on = 'nome_cliente', how='right') "
   ]
  },
  {
   "cell_type": "code",
   "execution_count": 113,
   "id": "a6c6dd9c",
   "metadata": {},
   "outputs": [
    {
     "data": {
      "application/vnd.plotly.v1+json": {
       "config": {
        "plotlyServerURL": "https://plot.ly"
       },
       "data": [
        {
         "customdata": [
          [
           "Renan Nunes"
          ],
          [
           "Murilo Gonçalves"
          ],
          [
           "Milena Oliveira"
          ],
          [
           "Dr. Leonardo Santos"
          ],
          [
           "Otávio Peixoto"
          ],
          [
           "Rafaela Cardoso"
          ],
          [
           "Benício Rocha"
          ],
          [
           "Vitor Gabriel Silveira"
          ],
          [
           "Dra. Gabriela Jesus"
          ],
          [
           "Ana Correia"
          ],
          [
           "Maria Fernandes"
          ],
          [
           "Isis Silveira"
          ],
          [
           "Ryan Pires"
          ],
          [
           "Yasmin Cunha"
          ],
          [
           "Davi Lucca Melo"
          ],
          [
           "Yuri Fogaça"
          ],
          [
           "Esther Cardoso"
          ],
          [
           "Evelyn Fernandes"
          ],
          [
           "Bryan Almeida"
          ],
          [
           "Davi Lucas Duarte"
          ],
          [
           "Diogo Alves"
          ],
          [
           "Joana Gonçalves"
          ],
          [
           "Isaac Caldeira"
          ],
          [
           "Renan Farias"
          ],
          [
           "Miguel Porto"
          ],
          [
           "Cecília Dias"
          ],
          [
           "Dra. Maria Eduarda Melo"
          ],
          [
           "Emanuel da Luz"
          ],
          [
           "Arthur Mendes"
          ],
          [
           "Gabrielly da Mata"
          ],
          [
           "Heloísa Santos"
          ],
          [
           "Fernanda Mendes"
          ],
          [
           "Cauã Rezende"
          ],
          [
           "Maria Fernanda Caldeira"
          ],
          [
           "Rebeca Novaes"
          ],
          [
           "Sra. Alana Peixoto"
          ],
          [
           "Dr. Ryan Campos"
          ],
          [
           "Marcos Vinicius Rocha"
          ],
          [
           "Marcelo Cardoso"
          ],
          [
           "Valentina Viana"
          ],
          [
           "Marina Novaes"
          ],
          [
           "Lucas Ferreira"
          ],
          [
           "Sofia Alves"
          ],
          [
           "Sr. Luiz Miguel Rezende"
          ],
          [
           "Gustavo Henrique Almeida"
          ],
          [
           "Dra. Yasmin Aragão"
          ],
          [
           "Pietra da Conceição"
          ],
          [
           "Beatriz da Luz"
          ],
          [
           "Matheus Nunes"
          ],
          [
           "Milena Gomes"
          ],
          [
           "Davi Luiz Pires"
          ],
          [
           "Kamilly Teixeira"
          ],
          [
           "Manuela Ferreira"
          ],
          [
           "Helena Dias"
          ],
          [
           "Leandro Castro"
          ],
          [
           "Agatha Ferreira"
          ],
          [
           "Letícia Viana"
          ],
          [
           "Stephany Barbosa"
          ],
          [
           "Davi Lucca Novaes"
          ],
          [
           "Lucas Teixeira"
          ],
          [
           "Eduarda Melo"
          ],
          [
           "Sr. Luiz Otávio Moreira"
          ],
          [
           "Carlos Eduardo Lopes"
          ],
          [
           "Sophia Novaes"
          ],
          [
           "Dr. Luiz Felipe Araújo"
          ],
          [
           "Heitor Gonçalves"
          ],
          [
           "Luiz Henrique Fogaça"
          ],
          [
           "Ana Júlia Almeida"
          ],
          [
           "Srta. Ana Júlia da Paz"
          ],
          [
           "Igor Carvalho"
          ],
          [
           "Pietra Aragão"
          ],
          [
           "Leandro Moraes"
          ],
          [
           "Laís da Mota"
          ],
          [
           "Luiz Gustavo das Neves"
          ],
          [
           "Ian da Luz"
          ],
          [
           "Carlos Eduardo Barros"
          ],
          [
           "Calebe da Paz"
          ],
          [
           "Levi Rocha"
          ],
          [
           "Dra. Marcela Moreira"
          ],
          [
           "Maria Cecília da Cruz"
          ],
          [
           "Luiz Fernando Nogueira"
          ],
          [
           "Laura Nunes"
          ],
          [
           "Lara Porto"
          ],
          [
           "Kaique Rodrigues"
          ],
          [
           "Milena da Paz"
          ],
          [
           "Eloah Pinto"
          ],
          [
           "Ana Julia Silveira"
          ],
          [
           "Yuri Martins"
          ],
          [
           "Alice Teixeira"
          ],
          [
           "Benjamin da Conceição"
          ],
          [
           "Breno Rodrigues"
          ],
          [
           "Maria Clara Aragão"
          ],
          [
           "Maria Julia da Cruz"
          ],
          [
           "Francisco Campos"
          ],
          [
           "Thales Gonçalves"
          ],
          [
           "Sra. Sabrina Barbosa"
          ],
          [
           "Heitor Pires"
          ],
          [
           "Fernando Monteiro"
          ],
          [
           "Ryan Castro"
          ],
          [
           "Sra. Catarina Duarte"
          ],
          [
           "Evelyn das Neves"
          ],
          [
           "Alice Souza"
          ],
          [
           "Srta. Ana Santos"
          ],
          [
           "Bárbara Fernandes"
          ],
          [
           "Maria Fernanda Nunes"
          ],
          [
           "Ana Julia Dias"
          ],
          [
           "Sophie Fogaça"
          ],
          [
           "Emanuel Aragão"
          ],
          [
           "Isabel Azevedo"
          ],
          [
           "Caroline Cunha"
          ],
          [
           "Dra. Esther Cardoso"
          ],
          [
           "Calebe Vieira"
          ],
          [
           "Davi Lucas Rezende"
          ],
          [
           "Marcela da Conceição"
          ],
          [
           "Stella Caldeira"
          ],
          [
           "Dr. Vitor Almeida"
          ],
          [
           "Sr. Nathan Dias"
          ],
          [
           "Clarice Silva"
          ],
          [
           "Pedro Cunha"
          ],
          [
           "Igor Azevedo"
          ],
          [
           "Sra. Isabel Nunes"
          ],
          [
           "Bruno Gonçalves"
          ],
          [
           "Mariane Castro"
          ],
          [
           "Thales Nascimento"
          ],
          [
           "Ana Vitória Gomes"
          ],
          [
           "Luiz Felipe Fernandes"
          ],
          [
           "Breno Correia"
          ],
          [
           "Milena Pires"
          ],
          [
           "Srta. Maria Fernanda das Neves"
          ],
          [
           "Cecília Moura"
          ],
          [
           "Ana Júlia da Luz"
          ],
          [
           "Julia Gomes"
          ],
          [
           "Davi Lucas da Rosa"
          ],
          [
           "Amanda Peixoto"
          ],
          [
           "Carolina Barros"
          ],
          [
           "Noah Caldeira"
          ],
          [
           "Benício Viana"
          ],
          [
           "Marcos Vinicius Cavalcanti"
          ],
          [
           "Anthony Gomes"
          ],
          [
           "Dra. Camila Carvalho"
          ],
          [
           "João Felipe da Costa"
          ],
          [
           "Dra. Luana Cunha"
          ],
          [
           "Camila Duarte"
          ],
          [
           "Maria Julia Peixoto"
          ],
          [
           "Breno Fernandes"
          ],
          [
           "Otávio Ribeiro"
          ],
          [
           "Ana Carolina Campos"
          ],
          [
           "Vitor da Luz"
          ],
          [
           "Pietro Barbosa"
          ],
          [
           "Srta. Ana Julia Castro"
          ],
          [
           "Clara Vieira"
          ],
          [
           "Maria Sophia Pereira"
          ],
          [
           "Davi Lucas Ferreira"
          ],
          [
           "Maria Julia Barbosa"
          ],
          [
           "Maria Fernanda Silveira"
          ],
          [
           "João Miguel Nogueira"
          ],
          [
           "Ana Beatriz Viana"
          ],
          [
           "Davi Lucas Cavalcanti"
          ],
          [
           "João da Rosa"
          ],
          [
           "Maria Luiza Freitas"
          ],
          [
           "Cauê Lopes"
          ],
          [
           "Raul Pinto"
          ],
          [
           "Davi Luiz Duarte"
          ],
          [
           "Lara Silva"
          ],
          [
           "João Felipe Araújo"
          ],
          [
           "João Pedro Sales"
          ],
          [
           "Ana Luiza Fogaça"
          ],
          [
           "Sra. Maria Julia Souza"
          ],
          [
           "Agatha Barros"
          ],
          [
           "Maria Alice Nascimento"
          ],
          [
           "Dr. Leonardo Teixeira"
          ],
          [
           "Dr. Vitor Gabriel Rodrigues"
          ],
          [
           "Carolina da Rosa"
          ],
          [
           "Gabriela da Mata"
          ],
          [
           "Maria Oliveira"
          ],
          [
           "João Felipe Pereira"
          ],
          [
           "Esther Nunes"
          ],
          [
           "Gustavo Sales"
          ],
          [
           "Mariana da Cunha"
          ],
          [
           "Evelyn Costela"
          ],
          [
           "Cauã Peixoto"
          ],
          [
           "Gabriela Cavalcanti"
          ],
          [
           "Maria Alice Azevedo"
          ],
          [
           "Breno Nunes"
          ],
          [
           "Daniel Farias"
          ],
          [
           "Gustavo Santos"
          ],
          [
           "Clarice Farias"
          ],
          [
           "Sarah Carvalho"
          ],
          [
           "Dr. João Lucas das Neves"
          ]
         ],
         "hovertemplate": "Total gasto pelo cliente=%{x}<br>Idade=%{y}<br>Nome do cliente=%{customdata[0]}<extra></extra>",
         "legendgroup": "",
         "marker": {
          "color": "#00CC96",
          "symbol": "circle"
         },
         "mode": "markers",
         "name": "",
         "orientation": "v",
         "showlegend": false,
         "type": "scatter",
         "x": [
          1074.93,
          517.43,
          887.5600000000002,
          540.56,
          590.52,
          143.91,
          461.02,
          832.3000000000001,
          1644.8600000000001,
          2205.590000000001,
          143.88,
          403.46000000000004,
          1068.82,
          372.65,
          96.56,
          1801.4700000000007,
          800.82,
          160.3,
          538.95,
          1517.3800000000006,
          256.51,
          3185.8600000000006,
          209.24,
          308.84,
          660.22,
          1395.2300000000002,
          310.61,
          679.5500000000001,
          966.5700000000002,
          1485.0400000000004,
          1659.5400000000002,
          904.13,
          2117.3000000000006,
          2303.2599999999998,
          645.45,
          696.0100000000002,
          2640.7200000000003,
          1019.44,
          1894.6700000000003,
          971.26,
          3560.6,
          1951.9000000000005,
          1175.6100000000001,
          1036.34,
          1143.35,
          1713.5800000000002,
          832.8200000000002,
          857.8000000000001,
          695.4400000000003,
          2262.16,
          1539.88,
          783.97,
          1691.9400000000003,
          1196.0100000000004,
          436.07,
          853.7800000000001,
          1312.9,
          1152.7100000000003,
          996.69,
          598.27,
          1954.97,
          1111.8800000000003,
          276.1,
          1625.47,
          819.7000000000003,
          351.29999999999995,
          62.97,
          402.87000000000006,
          30.959999999999997,
          41.98,
          85.4,
          107.91999999999999,
          483.53000000000003,
          584.93,
          792.8000000000003,
          2535.0599999999995,
          1202.8700000000001,
          2033.6900000000003,
          1370.92,
          912.45,
          947.4000000000001,
          806.6500000000003,
          525.8100000000001,
          459.21999999999997,
          1096.24,
          1272.3000000000002,
          913.2700000000001,
          873.96,
          909.6900000000002,
          471.48999999999995,
          13.96,
          3.49,
          26.43,
          811.1600000000001,
          1438.7700000000007,
          559.6899999999999,
          686.2800000000001,
          291.76,
          2287.24,
          426.8,
          693.32,
          306.70000000000005,
          526.7100000000002,
          910.7800000000001,
          514.68,
          19.45,
          317.75,
          559.25,
          352.42,
          886.0500000000001,
          879.4100000000003,
          399.27,
          1138.85,
          394.53999999999996,
          1452.6100000000001,
          745.03,
          588.27,
          65.85,
          191.66,
          77.8,
          22.41,
          45.69,
          7.47,
          707.3000000000001,
          991.4400000000002,
          516.8000000000001,
          341.75,
          359.12000000000006,
          268.28,
          5.99,
          83.92999999999999,
          799.85,
          373.61,
          672.74,
          682.9200000000002,
          2.58,
          300.14,
          54.86,
          10.96,
          21.92,
          247.80999999999997,
          398.77,
          306.86,
          1179.71,
          81.89,
          7.4399999999999995,
          2.48,
          170.71,
          52.65,
          23.95,
          80.61999999999999,
          53.230000000000004,
          30.88,
          338.89,
          132.84,
          525.98,
          14.97,
          172.92,
          18.950000000000003,
          22.79,
          161.29000000000002,
          29.89,
          16.49,
          212.24,
          11.97,
          77.72,
          6.7,
          13.4,
          20.1,
          20.1,
          23.96,
          21.98,
          720.97,
          63.96,
          5.4,
          15.87,
          70,
          8.62,
          31.96,
          516,
          172,
          299.96,
          128.97,
          57.78999999999999,
          16.9,
          25.349999999999998,
          8.45,
          11.99,
          95.97
         ],
         "xaxis": "x",
         "y": [
          23,
          19,
          60,
          46,
          45,
          53,
          30,
          24,
          25,
          66,
          53,
          62,
          46,
          33,
          73,
          31,
          30,
          46,
          68,
          43,
          62,
          52,
          34,
          36,
          73,
          49,
          32,
          31,
          32,
          28,
          53,
          62,
          40,
          56,
          49,
          65,
          48,
          20,
          36,
          36,
          22,
          70,
          59,
          56,
          41,
          33,
          43,
          70,
          55,
          27,
          39,
          48,
          25,
          69,
          56,
          44,
          64,
          35,
          58,
          43,
          21,
          35,
          53,
          39,
          59,
          44,
          27,
          42,
          19,
          35,
          60,
          68,
          31,
          61,
          61,
          65,
          40,
          52,
          63,
          46,
          20,
          28,
          24,
          20,
          65,
          44,
          34,
          65,
          39,
          60,
          40,
          64,
          56,
          71,
          69,
          19,
          66,
          21,
          38,
          44,
          37,
          51,
          39,
          28,
          31,
          30,
          35,
          32,
          71,
          35,
          67,
          27,
          32,
          30,
          41,
          38,
          52,
          64,
          28,
          39,
          73,
          61,
          20,
          52,
          67,
          31,
          42,
          66,
          44,
          67,
          39,
          29,
          48,
          51,
          19,
          29,
          72,
          53,
          32,
          49,
          25,
          63,
          68,
          68,
          24,
          64,
          40,
          48,
          72,
          36,
          37,
          67,
          20,
          22,
          54,
          62,
          55,
          49,
          58,
          49,
          24,
          62,
          72,
          41,
          21,
          65,
          26,
          61,
          52,
          59,
          57,
          18,
          31,
          51,
          36,
          29,
          67,
          70,
          46,
          72,
          35,
          52,
          54,
          55,
          51,
          20,
          31,
          62,
          22
         ],
         "yaxis": "y"
        }
       ],
       "layout": {
        "legend": {
         "tracegroupgap": 0
        },
        "margin": {
         "t": 60
        },
        "template": {
         "data": {
          "bar": [
           {
            "error_x": {
             "color": "#2a3f5f"
            },
            "error_y": {
             "color": "#2a3f5f"
            },
            "marker": {
             "line": {
              "color": "#E5ECF6",
              "width": 0.5
             },
             "pattern": {
              "fillmode": "overlay",
              "size": 10,
              "solidity": 0.2
             }
            },
            "type": "bar"
           }
          ],
          "barpolar": [
           {
            "marker": {
             "line": {
              "color": "#E5ECF6",
              "width": 0.5
             },
             "pattern": {
              "fillmode": "overlay",
              "size": 10,
              "solidity": 0.2
             }
            },
            "type": "barpolar"
           }
          ],
          "carpet": [
           {
            "aaxis": {
             "endlinecolor": "#2a3f5f",
             "gridcolor": "white",
             "linecolor": "white",
             "minorgridcolor": "white",
             "startlinecolor": "#2a3f5f"
            },
            "baxis": {
             "endlinecolor": "#2a3f5f",
             "gridcolor": "white",
             "linecolor": "white",
             "minorgridcolor": "white",
             "startlinecolor": "#2a3f5f"
            },
            "type": "carpet"
           }
          ],
          "choropleth": [
           {
            "colorbar": {
             "outlinewidth": 0,
             "ticks": ""
            },
            "type": "choropleth"
           }
          ],
          "contour": [
           {
            "colorbar": {
             "outlinewidth": 0,
             "ticks": ""
            },
            "colorscale": [
             [
              0,
              "#0d0887"
             ],
             [
              0.1111111111111111,
              "#46039f"
             ],
             [
              0.2222222222222222,
              "#7201a8"
             ],
             [
              0.3333333333333333,
              "#9c179e"
             ],
             [
              0.4444444444444444,
              "#bd3786"
             ],
             [
              0.5555555555555556,
              "#d8576b"
             ],
             [
              0.6666666666666666,
              "#ed7953"
             ],
             [
              0.7777777777777778,
              "#fb9f3a"
             ],
             [
              0.8888888888888888,
              "#fdca26"
             ],
             [
              1,
              "#f0f921"
             ]
            ],
            "type": "contour"
           }
          ],
          "contourcarpet": [
           {
            "colorbar": {
             "outlinewidth": 0,
             "ticks": ""
            },
            "type": "contourcarpet"
           }
          ],
          "heatmap": [
           {
            "colorbar": {
             "outlinewidth": 0,
             "ticks": ""
            },
            "colorscale": [
             [
              0,
              "#0d0887"
             ],
             [
              0.1111111111111111,
              "#46039f"
             ],
             [
              0.2222222222222222,
              "#7201a8"
             ],
             [
              0.3333333333333333,
              "#9c179e"
             ],
             [
              0.4444444444444444,
              "#bd3786"
             ],
             [
              0.5555555555555556,
              "#d8576b"
             ],
             [
              0.6666666666666666,
              "#ed7953"
             ],
             [
              0.7777777777777778,
              "#fb9f3a"
             ],
             [
              0.8888888888888888,
              "#fdca26"
             ],
             [
              1,
              "#f0f921"
             ]
            ],
            "type": "heatmap"
           }
          ],
          "heatmapgl": [
           {
            "colorbar": {
             "outlinewidth": 0,
             "ticks": ""
            },
            "colorscale": [
             [
              0,
              "#0d0887"
             ],
             [
              0.1111111111111111,
              "#46039f"
             ],
             [
              0.2222222222222222,
              "#7201a8"
             ],
             [
              0.3333333333333333,
              "#9c179e"
             ],
             [
              0.4444444444444444,
              "#bd3786"
             ],
             [
              0.5555555555555556,
              "#d8576b"
             ],
             [
              0.6666666666666666,
              "#ed7953"
             ],
             [
              0.7777777777777778,
              "#fb9f3a"
             ],
             [
              0.8888888888888888,
              "#fdca26"
             ],
             [
              1,
              "#f0f921"
             ]
            ],
            "type": "heatmapgl"
           }
          ],
          "histogram": [
           {
            "marker": {
             "pattern": {
              "fillmode": "overlay",
              "size": 10,
              "solidity": 0.2
             }
            },
            "type": "histogram"
           }
          ],
          "histogram2d": [
           {
            "colorbar": {
             "outlinewidth": 0,
             "ticks": ""
            },
            "colorscale": [
             [
              0,
              "#0d0887"
             ],
             [
              0.1111111111111111,
              "#46039f"
             ],
             [
              0.2222222222222222,
              "#7201a8"
             ],
             [
              0.3333333333333333,
              "#9c179e"
             ],
             [
              0.4444444444444444,
              "#bd3786"
             ],
             [
              0.5555555555555556,
              "#d8576b"
             ],
             [
              0.6666666666666666,
              "#ed7953"
             ],
             [
              0.7777777777777778,
              "#fb9f3a"
             ],
             [
              0.8888888888888888,
              "#fdca26"
             ],
             [
              1,
              "#f0f921"
             ]
            ],
            "type": "histogram2d"
           }
          ],
          "histogram2dcontour": [
           {
            "colorbar": {
             "outlinewidth": 0,
             "ticks": ""
            },
            "colorscale": [
             [
              0,
              "#0d0887"
             ],
             [
              0.1111111111111111,
              "#46039f"
             ],
             [
              0.2222222222222222,
              "#7201a8"
             ],
             [
              0.3333333333333333,
              "#9c179e"
             ],
             [
              0.4444444444444444,
              "#bd3786"
             ],
             [
              0.5555555555555556,
              "#d8576b"
             ],
             [
              0.6666666666666666,
              "#ed7953"
             ],
             [
              0.7777777777777778,
              "#fb9f3a"
             ],
             [
              0.8888888888888888,
              "#fdca26"
             ],
             [
              1,
              "#f0f921"
             ]
            ],
            "type": "histogram2dcontour"
           }
          ],
          "mesh3d": [
           {
            "colorbar": {
             "outlinewidth": 0,
             "ticks": ""
            },
            "type": "mesh3d"
           }
          ],
          "parcoords": [
           {
            "line": {
             "colorbar": {
              "outlinewidth": 0,
              "ticks": ""
             }
            },
            "type": "parcoords"
           }
          ],
          "pie": [
           {
            "automargin": true,
            "type": "pie"
           }
          ],
          "scatter": [
           {
            "marker": {
             "colorbar": {
              "outlinewidth": 0,
              "ticks": ""
             }
            },
            "type": "scatter"
           }
          ],
          "scatter3d": [
           {
            "line": {
             "colorbar": {
              "outlinewidth": 0,
              "ticks": ""
             }
            },
            "marker": {
             "colorbar": {
              "outlinewidth": 0,
              "ticks": ""
             }
            },
            "type": "scatter3d"
           }
          ],
          "scattercarpet": [
           {
            "marker": {
             "colorbar": {
              "outlinewidth": 0,
              "ticks": ""
             }
            },
            "type": "scattercarpet"
           }
          ],
          "scattergeo": [
           {
            "marker": {
             "colorbar": {
              "outlinewidth": 0,
              "ticks": ""
             }
            },
            "type": "scattergeo"
           }
          ],
          "scattergl": [
           {
            "marker": {
             "colorbar": {
              "outlinewidth": 0,
              "ticks": ""
             }
            },
            "type": "scattergl"
           }
          ],
          "scattermapbox": [
           {
            "marker": {
             "colorbar": {
              "outlinewidth": 0,
              "ticks": ""
             }
            },
            "type": "scattermapbox"
           }
          ],
          "scatterpolar": [
           {
            "marker": {
             "colorbar": {
              "outlinewidth": 0,
              "ticks": ""
             }
            },
            "type": "scatterpolar"
           }
          ],
          "scatterpolargl": [
           {
            "marker": {
             "colorbar": {
              "outlinewidth": 0,
              "ticks": ""
             }
            },
            "type": "scatterpolargl"
           }
          ],
          "scatterternary": [
           {
            "marker": {
             "colorbar": {
              "outlinewidth": 0,
              "ticks": ""
             }
            },
            "type": "scatterternary"
           }
          ],
          "surface": [
           {
            "colorbar": {
             "outlinewidth": 0,
             "ticks": ""
            },
            "colorscale": [
             [
              0,
              "#0d0887"
             ],
             [
              0.1111111111111111,
              "#46039f"
             ],
             [
              0.2222222222222222,
              "#7201a8"
             ],
             [
              0.3333333333333333,
              "#9c179e"
             ],
             [
              0.4444444444444444,
              "#bd3786"
             ],
             [
              0.5555555555555556,
              "#d8576b"
             ],
             [
              0.6666666666666666,
              "#ed7953"
             ],
             [
              0.7777777777777778,
              "#fb9f3a"
             ],
             [
              0.8888888888888888,
              "#fdca26"
             ],
             [
              1,
              "#f0f921"
             ]
            ],
            "type": "surface"
           }
          ],
          "table": [
           {
            "cells": {
             "fill": {
              "color": "#EBF0F8"
             },
             "line": {
              "color": "white"
             }
            },
            "header": {
             "fill": {
              "color": "#C8D4E3"
             },
             "line": {
              "color": "white"
             }
            },
            "type": "table"
           }
          ]
         },
         "layout": {
          "annotationdefaults": {
           "arrowcolor": "#2a3f5f",
           "arrowhead": 0,
           "arrowwidth": 1
          },
          "autotypenumbers": "strict",
          "coloraxis": {
           "colorbar": {
            "outlinewidth": 0,
            "ticks": ""
           }
          },
          "colorscale": {
           "diverging": [
            [
             0,
             "#8e0152"
            ],
            [
             0.1,
             "#c51b7d"
            ],
            [
             0.2,
             "#de77ae"
            ],
            [
             0.3,
             "#f1b6da"
            ],
            [
             0.4,
             "#fde0ef"
            ],
            [
             0.5,
             "#f7f7f7"
            ],
            [
             0.6,
             "#e6f5d0"
            ],
            [
             0.7,
             "#b8e186"
            ],
            [
             0.8,
             "#7fbc41"
            ],
            [
             0.9,
             "#4d9221"
            ],
            [
             1,
             "#276419"
            ]
           ],
           "sequential": [
            [
             0,
             "#0d0887"
            ],
            [
             0.1111111111111111,
             "#46039f"
            ],
            [
             0.2222222222222222,
             "#7201a8"
            ],
            [
             0.3333333333333333,
             "#9c179e"
            ],
            [
             0.4444444444444444,
             "#bd3786"
            ],
            [
             0.5555555555555556,
             "#d8576b"
            ],
            [
             0.6666666666666666,
             "#ed7953"
            ],
            [
             0.7777777777777778,
             "#fb9f3a"
            ],
            [
             0.8888888888888888,
             "#fdca26"
            ],
            [
             1,
             "#f0f921"
            ]
           ],
           "sequentialminus": [
            [
             0,
             "#0d0887"
            ],
            [
             0.1111111111111111,
             "#46039f"
            ],
            [
             0.2222222222222222,
             "#7201a8"
            ],
            [
             0.3333333333333333,
             "#9c179e"
            ],
            [
             0.4444444444444444,
             "#bd3786"
            ],
            [
             0.5555555555555556,
             "#d8576b"
            ],
            [
             0.6666666666666666,
             "#ed7953"
            ],
            [
             0.7777777777777778,
             "#fb9f3a"
            ],
            [
             0.8888888888888888,
             "#fdca26"
            ],
            [
             1,
             "#f0f921"
            ]
           ]
          },
          "colorway": [
           "#636efa",
           "#EF553B",
           "#00cc96",
           "#ab63fa",
           "#FFA15A",
           "#19d3f3",
           "#FF6692",
           "#B6E880",
           "#FF97FF",
           "#FECB52"
          ],
          "font": {
           "color": "#2a3f5f"
          },
          "geo": {
           "bgcolor": "white",
           "lakecolor": "white",
           "landcolor": "#E5ECF6",
           "showlakes": true,
           "showland": true,
           "subunitcolor": "white"
          },
          "hoverlabel": {
           "align": "left"
          },
          "hovermode": "closest",
          "mapbox": {
           "style": "light"
          },
          "paper_bgcolor": "white",
          "plot_bgcolor": "#E5ECF6",
          "polar": {
           "angularaxis": {
            "gridcolor": "white",
            "linecolor": "white",
            "ticks": ""
           },
           "bgcolor": "#E5ECF6",
           "radialaxis": {
            "gridcolor": "white",
            "linecolor": "white",
            "ticks": ""
           }
          },
          "scene": {
           "xaxis": {
            "backgroundcolor": "#E5ECF6",
            "gridcolor": "white",
            "gridwidth": 2,
            "linecolor": "white",
            "showbackground": true,
            "ticks": "",
            "zerolinecolor": "white"
           },
           "yaxis": {
            "backgroundcolor": "#E5ECF6",
            "gridcolor": "white",
            "gridwidth": 2,
            "linecolor": "white",
            "showbackground": true,
            "ticks": "",
            "zerolinecolor": "white"
           },
           "zaxis": {
            "backgroundcolor": "#E5ECF6",
            "gridcolor": "white",
            "gridwidth": 2,
            "linecolor": "white",
            "showbackground": true,
            "ticks": "",
            "zerolinecolor": "white"
           }
          },
          "shapedefaults": {
           "line": {
            "color": "#2a3f5f"
           }
          },
          "ternary": {
           "aaxis": {
            "gridcolor": "white",
            "linecolor": "white",
            "ticks": ""
           },
           "baxis": {
            "gridcolor": "white",
            "linecolor": "white",
            "ticks": ""
           },
           "bgcolor": "#E5ECF6",
           "caxis": {
            "gridcolor": "white",
            "linecolor": "white",
            "ticks": ""
           }
          },
          "title": {
           "x": 0.05
          },
          "xaxis": {
           "automargin": true,
           "gridcolor": "white",
           "linecolor": "white",
           "ticks": "",
           "title": {
            "standoff": 15
           },
           "zerolinecolor": "white",
           "zerolinewidth": 2
          },
          "yaxis": {
           "automargin": true,
           "gridcolor": "white",
           "linecolor": "white",
           "ticks": "",
           "title": {
            "standoff": 15
           },
           "zerolinecolor": "white",
           "zerolinewidth": 2
          }
         }
        },
        "title": {
         "text": "Gastos totais dos clientes X Idade"
        },
        "xaxis": {
         "anchor": "y",
         "domain": [
          0,
          1
         ],
         "title": {
          "text": "Gastos totais dos clientes"
         }
        },
        "yaxis": {
         "anchor": "x",
         "domain": [
          0,
          1
         ],
         "title": {
          "text": "Idade"
         }
        }
       }
      },
      "text/html": [
       "<div>                            <div id=\"aac2dd7f-8a90-41cc-a929-c744ffcbb704\" class=\"plotly-graph-div\" style=\"height:525px; width:100%;\"></div>            <script type=\"text/javascript\">                require([\"plotly\"], function(Plotly) {                    window.PLOTLYENV=window.PLOTLYENV || {};                                    if (document.getElementById(\"aac2dd7f-8a90-41cc-a929-c744ffcbb704\")) {                    Plotly.newPlot(                        \"aac2dd7f-8a90-41cc-a929-c744ffcbb704\",                        [{\"customdata\":[[\"Renan Nunes\"],[\"Murilo Gon\\u00e7alves\"],[\"Milena Oliveira\"],[\"Dr. Leonardo Santos\"],[\"Ot\\u00e1vio Peixoto\"],[\"Rafaela Cardoso\"],[\"Ben\\u00edcio Rocha\"],[\"Vitor Gabriel Silveira\"],[\"Dra. Gabriela Jesus\"],[\"Ana Correia\"],[\"Maria Fernandes\"],[\"Isis Silveira\"],[\"Ryan Pires\"],[\"Yasmin Cunha\"],[\"Davi Lucca Melo\"],[\"Yuri Foga\\u00e7a\"],[\"Esther Cardoso\"],[\"Evelyn Fernandes\"],[\"Bryan Almeida\"],[\"Davi Lucas Duarte\"],[\"Diogo Alves\"],[\"Joana Gon\\u00e7alves\"],[\"Isaac Caldeira\"],[\"Renan Farias\"],[\"Miguel Porto\"],[\"Cec\\u00edlia Dias\"],[\"Dra. Maria Eduarda Melo\"],[\"Emanuel da Luz\"],[\"Arthur Mendes\"],[\"Gabrielly da Mata\"],[\"Helo\\u00edsa Santos\"],[\"Fernanda Mendes\"],[\"Cau\\u00e3 Rezende\"],[\"Maria Fernanda Caldeira\"],[\"Rebeca Novaes\"],[\"Sra. Alana Peixoto\"],[\"Dr. Ryan Campos\"],[\"Marcos Vinicius Rocha\"],[\"Marcelo Cardoso\"],[\"Valentina Viana\"],[\"Marina Novaes\"],[\"Lucas Ferreira\"],[\"Sofia Alves\"],[\"Sr. Luiz Miguel Rezende\"],[\"Gustavo Henrique Almeida\"],[\"Dra. Yasmin Arag\\u00e3o\"],[\"Pietra da Concei\\u00e7\\u00e3o\"],[\"Beatriz da Luz\"],[\"Matheus Nunes\"],[\"Milena Gomes\"],[\"Davi Luiz Pires\"],[\"Kamilly Teixeira\"],[\"Manuela Ferreira\"],[\"Helena Dias\"],[\"Leandro Castro\"],[\"Agatha Ferreira\"],[\"Let\\u00edcia Viana\"],[\"Stephany Barbosa\"],[\"Davi Lucca Novaes\"],[\"Lucas Teixeira\"],[\"Eduarda Melo\"],[\"Sr. Luiz Ot\\u00e1vio Moreira\"],[\"Carlos Eduardo Lopes\"],[\"Sophia Novaes\"],[\"Dr. Luiz Felipe Ara\\u00fajo\"],[\"Heitor Gon\\u00e7alves\"],[\"Luiz Henrique Foga\\u00e7a\"],[\"Ana J\\u00falia Almeida\"],[\"Srta. Ana J\\u00falia da Paz\"],[\"Igor Carvalho\"],[\"Pietra Arag\\u00e3o\"],[\"Leandro Moraes\"],[\"La\\u00eds da Mota\"],[\"Luiz Gustavo das Neves\"],[\"Ian da Luz\"],[\"Carlos Eduardo Barros\"],[\"Calebe da Paz\"],[\"Levi Rocha\"],[\"Dra. Marcela Moreira\"],[\"Maria Cec\\u00edlia da Cruz\"],[\"Luiz Fernando Nogueira\"],[\"Laura Nunes\"],[\"Lara Porto\"],[\"Kaique Rodrigues\"],[\"Milena da Paz\"],[\"Eloah Pinto\"],[\"Ana Julia Silveira\"],[\"Yuri Martins\"],[\"Alice Teixeira\"],[\"Benjamin da Concei\\u00e7\\u00e3o\"],[\"Breno Rodrigues\"],[\"Maria Clara Arag\\u00e3o\"],[\"Maria Julia da Cruz\"],[\"Francisco Campos\"],[\"Thales Gon\\u00e7alves\"],[\"Sra. Sabrina Barbosa\"],[\"Heitor Pires\"],[\"Fernando Monteiro\"],[\"Ryan Castro\"],[\"Sra. Catarina Duarte\"],[\"Evelyn das Neves\"],[\"Alice Souza\"],[\"Srta. Ana Santos\"],[\"B\\u00e1rbara Fernandes\"],[\"Maria Fernanda Nunes\"],[\"Ana Julia Dias\"],[\"Sophie Foga\\u00e7a\"],[\"Emanuel Arag\\u00e3o\"],[\"Isabel Azevedo\"],[\"Caroline Cunha\"],[\"Dra. Esther Cardoso\"],[\"Calebe Vieira\"],[\"Davi Lucas Rezende\"],[\"Marcela da Concei\\u00e7\\u00e3o\"],[\"Stella Caldeira\"],[\"Dr. Vitor Almeida\"],[\"Sr. Nathan Dias\"],[\"Clarice Silva\"],[\"Pedro Cunha\"],[\"Igor Azevedo\"],[\"Sra. Isabel Nunes\"],[\"Bruno Gon\\u00e7alves\"],[\"Mariane Castro\"],[\"Thales Nascimento\"],[\"Ana Vit\\u00f3ria Gomes\"],[\"Luiz Felipe Fernandes\"],[\"Breno Correia\"],[\"Milena Pires\"],[\"Srta. Maria Fernanda das Neves\"],[\"Cec\\u00edlia Moura\"],[\"Ana J\\u00falia da Luz\"],[\"Julia Gomes\"],[\"Davi Lucas da Rosa\"],[\"Amanda Peixoto\"],[\"Carolina Barros\"],[\"Noah Caldeira\"],[\"Ben\\u00edcio Viana\"],[\"Marcos Vinicius Cavalcanti\"],[\"Anthony Gomes\"],[\"Dra. Camila Carvalho\"],[\"Jo\\u00e3o Felipe da Costa\"],[\"Dra. Luana Cunha\"],[\"Camila Duarte\"],[\"Maria Julia Peixoto\"],[\"Breno Fernandes\"],[\"Ot\\u00e1vio Ribeiro\"],[\"Ana Carolina Campos\"],[\"Vitor da Luz\"],[\"Pietro Barbosa\"],[\"Srta. Ana Julia Castro\"],[\"Clara Vieira\"],[\"Maria Sophia Pereira\"],[\"Davi Lucas Ferreira\"],[\"Maria Julia Barbosa\"],[\"Maria Fernanda Silveira\"],[\"Jo\\u00e3o Miguel Nogueira\"],[\"Ana Beatriz Viana\"],[\"Davi Lucas Cavalcanti\"],[\"Jo\\u00e3o da Rosa\"],[\"Maria Luiza Freitas\"],[\"Cau\\u00ea Lopes\"],[\"Raul Pinto\"],[\"Davi Luiz Duarte\"],[\"Lara Silva\"],[\"Jo\\u00e3o Felipe Ara\\u00fajo\"],[\"Jo\\u00e3o Pedro Sales\"],[\"Ana Luiza Foga\\u00e7a\"],[\"Sra. Maria Julia Souza\"],[\"Agatha Barros\"],[\"Maria Alice Nascimento\"],[\"Dr. Leonardo Teixeira\"],[\"Dr. Vitor Gabriel Rodrigues\"],[\"Carolina da Rosa\"],[\"Gabriela da Mata\"],[\"Maria Oliveira\"],[\"Jo\\u00e3o Felipe Pereira\"],[\"Esther Nunes\"],[\"Gustavo Sales\"],[\"Mariana da Cunha\"],[\"Evelyn Costela\"],[\"Cau\\u00e3 Peixoto\"],[\"Gabriela Cavalcanti\"],[\"Maria Alice Azevedo\"],[\"Breno Nunes\"],[\"Daniel Farias\"],[\"Gustavo Santos\"],[\"Clarice Farias\"],[\"Sarah Carvalho\"],[\"Dr. Jo\\u00e3o Lucas das Neves\"]],\"hovertemplate\":\"Total gasto pelo cliente=%{x}<br>Idade=%{y}<br>Nome do cliente=%{customdata[0]}<extra></extra>\",\"legendgroup\":\"\",\"marker\":{\"color\":\"#00CC96\",\"symbol\":\"circle\"},\"mode\":\"markers\",\"name\":\"\",\"orientation\":\"v\",\"showlegend\":false,\"type\":\"scatter\",\"x\":[1074.93,517.43,887.5600000000002,540.56,590.52,143.91,461.02,832.3000000000001,1644.8600000000001,2205.590000000001,143.88,403.46000000000004,1068.82,372.65,96.56,1801.4700000000007,800.82,160.3,538.95,1517.3800000000006,256.51,3185.8600000000006,209.24,308.84,660.22,1395.2300000000002,310.61,679.5500000000001,966.5700000000002,1485.0400000000004,1659.5400000000002,904.13,2117.3000000000006,2303.2599999999998,645.45,696.0100000000002,2640.7200000000003,1019.44,1894.6700000000003,971.26,3560.6,1951.9000000000005,1175.6100000000001,1036.34,1143.35,1713.5800000000002,832.8200000000002,857.8000000000001,695.4400000000003,2262.16,1539.88,783.97,1691.9400000000003,1196.0100000000004,436.07,853.7800000000001,1312.9,1152.7100000000003,996.69,598.27,1954.97,1111.8800000000003,276.1,1625.47,819.7000000000003,351.29999999999995,62.97,402.87000000000006,30.959999999999997,41.98,85.4,107.91999999999999,483.53000000000003,584.93,792.8000000000003,2535.0599999999995,1202.8700000000001,2033.6900000000003,1370.92,912.45,947.4000000000001,806.6500000000003,525.8100000000001,459.21999999999997,1096.24,1272.3000000000002,913.2700000000001,873.96,909.6900000000002,471.48999999999995,13.96,3.49,26.43,811.1600000000001,1438.7700000000007,559.6899999999999,686.2800000000001,291.76,2287.24,426.8,693.32,306.70000000000005,526.7100000000002,910.7800000000001,514.68,19.45,317.75,559.25,352.42,886.0500000000001,879.4100000000003,399.27,1138.85,394.53999999999996,1452.6100000000001,745.03,588.27,65.85,191.66,77.8,22.41,45.69,7.47,707.3000000000001,991.4400000000002,516.8000000000001,341.75,359.12000000000006,268.28,5.99,83.92999999999999,799.85,373.61,672.74,682.9200000000002,2.58,300.14,54.86,10.96,21.92,247.80999999999997,398.77,306.86,1179.71,81.89,7.4399999999999995,2.48,170.71,52.65,23.95,80.61999999999999,53.230000000000004,30.88,338.89,132.84,525.98,14.97,172.92,18.950000000000003,22.79,161.29000000000002,29.89,16.49,212.24,11.97,77.72,6.7,13.4,20.1,20.1,23.96,21.98,720.97,63.96,5.4,15.87,70.0,8.62,31.96,516.0,172.0,299.96,128.97,57.78999999999999,16.9,25.349999999999998,8.45,11.99,95.97],\"xaxis\":\"x\",\"y\":[23,19,60,46,45,53,30,24,25,66,53,62,46,33,73,31,30,46,68,43,62,52,34,36,73,49,32,31,32,28,53,62,40,56,49,65,48,20,36,36,22,70,59,56,41,33,43,70,55,27,39,48,25,69,56,44,64,35,58,43,21,35,53,39,59,44,27,42,19,35,60,68,31,61,61,65,40,52,63,46,20,28,24,20,65,44,34,65,39,60,40,64,56,71,69,19,66,21,38,44,37,51,39,28,31,30,35,32,71,35,67,27,32,30,41,38,52,64,28,39,73,61,20,52,67,31,42,66,44,67,39,29,48,51,19,29,72,53,32,49,25,63,68,68,24,64,40,48,72,36,37,67,20,22,54,62,55,49,58,49,24,62,72,41,21,65,26,61,52,59,57,18,31,51,36,29,67,70,46,72,35,52,54,55,51,20,31,62,22],\"yaxis\":\"y\"}],                        {\"legend\":{\"tracegroupgap\":0},\"margin\":{\"t\":60},\"template\":{\"data\":{\"bar\":[{\"error_x\":{\"color\":\"#2a3f5f\"},\"error_y\":{\"color\":\"#2a3f5f\"},\"marker\":{\"line\":{\"color\":\"#E5ECF6\",\"width\":0.5},\"pattern\":{\"fillmode\":\"overlay\",\"size\":10,\"solidity\":0.2}},\"type\":\"bar\"}],\"barpolar\":[{\"marker\":{\"line\":{\"color\":\"#E5ECF6\",\"width\":0.5},\"pattern\":{\"fillmode\":\"overlay\",\"size\":10,\"solidity\":0.2}},\"type\":\"barpolar\"}],\"carpet\":[{\"aaxis\":{\"endlinecolor\":\"#2a3f5f\",\"gridcolor\":\"white\",\"linecolor\":\"white\",\"minorgridcolor\":\"white\",\"startlinecolor\":\"#2a3f5f\"},\"baxis\":{\"endlinecolor\":\"#2a3f5f\",\"gridcolor\":\"white\",\"linecolor\":\"white\",\"minorgridcolor\":\"white\",\"startlinecolor\":\"#2a3f5f\"},\"type\":\"carpet\"}],\"choropleth\":[{\"colorbar\":{\"outlinewidth\":0,\"ticks\":\"\"},\"type\":\"choropleth\"}],\"contour\":[{\"colorbar\":{\"outlinewidth\":0,\"ticks\":\"\"},\"colorscale\":[[0.0,\"#0d0887\"],[0.1111111111111111,\"#46039f\"],[0.2222222222222222,\"#7201a8\"],[0.3333333333333333,\"#9c179e\"],[0.4444444444444444,\"#bd3786\"],[0.5555555555555556,\"#d8576b\"],[0.6666666666666666,\"#ed7953\"],[0.7777777777777778,\"#fb9f3a\"],[0.8888888888888888,\"#fdca26\"],[1.0,\"#f0f921\"]],\"type\":\"contour\"}],\"contourcarpet\":[{\"colorbar\":{\"outlinewidth\":0,\"ticks\":\"\"},\"type\":\"contourcarpet\"}],\"heatmap\":[{\"colorbar\":{\"outlinewidth\":0,\"ticks\":\"\"},\"colorscale\":[[0.0,\"#0d0887\"],[0.1111111111111111,\"#46039f\"],[0.2222222222222222,\"#7201a8\"],[0.3333333333333333,\"#9c179e\"],[0.4444444444444444,\"#bd3786\"],[0.5555555555555556,\"#d8576b\"],[0.6666666666666666,\"#ed7953\"],[0.7777777777777778,\"#fb9f3a\"],[0.8888888888888888,\"#fdca26\"],[1.0,\"#f0f921\"]],\"type\":\"heatmap\"}],\"heatmapgl\":[{\"colorbar\":{\"outlinewidth\":0,\"ticks\":\"\"},\"colorscale\":[[0.0,\"#0d0887\"],[0.1111111111111111,\"#46039f\"],[0.2222222222222222,\"#7201a8\"],[0.3333333333333333,\"#9c179e\"],[0.4444444444444444,\"#bd3786\"],[0.5555555555555556,\"#d8576b\"],[0.6666666666666666,\"#ed7953\"],[0.7777777777777778,\"#fb9f3a\"],[0.8888888888888888,\"#fdca26\"],[1.0,\"#f0f921\"]],\"type\":\"heatmapgl\"}],\"histogram\":[{\"marker\":{\"pattern\":{\"fillmode\":\"overlay\",\"size\":10,\"solidity\":0.2}},\"type\":\"histogram\"}],\"histogram2d\":[{\"colorbar\":{\"outlinewidth\":0,\"ticks\":\"\"},\"colorscale\":[[0.0,\"#0d0887\"],[0.1111111111111111,\"#46039f\"],[0.2222222222222222,\"#7201a8\"],[0.3333333333333333,\"#9c179e\"],[0.4444444444444444,\"#bd3786\"],[0.5555555555555556,\"#d8576b\"],[0.6666666666666666,\"#ed7953\"],[0.7777777777777778,\"#fb9f3a\"],[0.8888888888888888,\"#fdca26\"],[1.0,\"#f0f921\"]],\"type\":\"histogram2d\"}],\"histogram2dcontour\":[{\"colorbar\":{\"outlinewidth\":0,\"ticks\":\"\"},\"colorscale\":[[0.0,\"#0d0887\"],[0.1111111111111111,\"#46039f\"],[0.2222222222222222,\"#7201a8\"],[0.3333333333333333,\"#9c179e\"],[0.4444444444444444,\"#bd3786\"],[0.5555555555555556,\"#d8576b\"],[0.6666666666666666,\"#ed7953\"],[0.7777777777777778,\"#fb9f3a\"],[0.8888888888888888,\"#fdca26\"],[1.0,\"#f0f921\"]],\"type\":\"histogram2dcontour\"}],\"mesh3d\":[{\"colorbar\":{\"outlinewidth\":0,\"ticks\":\"\"},\"type\":\"mesh3d\"}],\"parcoords\":[{\"line\":{\"colorbar\":{\"outlinewidth\":0,\"ticks\":\"\"}},\"type\":\"parcoords\"}],\"pie\":[{\"automargin\":true,\"type\":\"pie\"}],\"scatter\":[{\"marker\":{\"colorbar\":{\"outlinewidth\":0,\"ticks\":\"\"}},\"type\":\"scatter\"}],\"scatter3d\":[{\"line\":{\"colorbar\":{\"outlinewidth\":0,\"ticks\":\"\"}},\"marker\":{\"colorbar\":{\"outlinewidth\":0,\"ticks\":\"\"}},\"type\":\"scatter3d\"}],\"scattercarpet\":[{\"marker\":{\"colorbar\":{\"outlinewidth\":0,\"ticks\":\"\"}},\"type\":\"scattercarpet\"}],\"scattergeo\":[{\"marker\":{\"colorbar\":{\"outlinewidth\":0,\"ticks\":\"\"}},\"type\":\"scattergeo\"}],\"scattergl\":[{\"marker\":{\"colorbar\":{\"outlinewidth\":0,\"ticks\":\"\"}},\"type\":\"scattergl\"}],\"scattermapbox\":[{\"marker\":{\"colorbar\":{\"outlinewidth\":0,\"ticks\":\"\"}},\"type\":\"scattermapbox\"}],\"scatterpolar\":[{\"marker\":{\"colorbar\":{\"outlinewidth\":0,\"ticks\":\"\"}},\"type\":\"scatterpolar\"}],\"scatterpolargl\":[{\"marker\":{\"colorbar\":{\"outlinewidth\":0,\"ticks\":\"\"}},\"type\":\"scatterpolargl\"}],\"scatterternary\":[{\"marker\":{\"colorbar\":{\"outlinewidth\":0,\"ticks\":\"\"}},\"type\":\"scatterternary\"}],\"surface\":[{\"colorbar\":{\"outlinewidth\":0,\"ticks\":\"\"},\"colorscale\":[[0.0,\"#0d0887\"],[0.1111111111111111,\"#46039f\"],[0.2222222222222222,\"#7201a8\"],[0.3333333333333333,\"#9c179e\"],[0.4444444444444444,\"#bd3786\"],[0.5555555555555556,\"#d8576b\"],[0.6666666666666666,\"#ed7953\"],[0.7777777777777778,\"#fb9f3a\"],[0.8888888888888888,\"#fdca26\"],[1.0,\"#f0f921\"]],\"type\":\"surface\"}],\"table\":[{\"cells\":{\"fill\":{\"color\":\"#EBF0F8\"},\"line\":{\"color\":\"white\"}},\"header\":{\"fill\":{\"color\":\"#C8D4E3\"},\"line\":{\"color\":\"white\"}},\"type\":\"table\"}]},\"layout\":{\"annotationdefaults\":{\"arrowcolor\":\"#2a3f5f\",\"arrowhead\":0,\"arrowwidth\":1},\"autotypenumbers\":\"strict\",\"coloraxis\":{\"colorbar\":{\"outlinewidth\":0,\"ticks\":\"\"}},\"colorscale\":{\"diverging\":[[0,\"#8e0152\"],[0.1,\"#c51b7d\"],[0.2,\"#de77ae\"],[0.3,\"#f1b6da\"],[0.4,\"#fde0ef\"],[0.5,\"#f7f7f7\"],[0.6,\"#e6f5d0\"],[0.7,\"#b8e186\"],[0.8,\"#7fbc41\"],[0.9,\"#4d9221\"],[1,\"#276419\"]],\"sequential\":[[0.0,\"#0d0887\"],[0.1111111111111111,\"#46039f\"],[0.2222222222222222,\"#7201a8\"],[0.3333333333333333,\"#9c179e\"],[0.4444444444444444,\"#bd3786\"],[0.5555555555555556,\"#d8576b\"],[0.6666666666666666,\"#ed7953\"],[0.7777777777777778,\"#fb9f3a\"],[0.8888888888888888,\"#fdca26\"],[1.0,\"#f0f921\"]],\"sequentialminus\":[[0.0,\"#0d0887\"],[0.1111111111111111,\"#46039f\"],[0.2222222222222222,\"#7201a8\"],[0.3333333333333333,\"#9c179e\"],[0.4444444444444444,\"#bd3786\"],[0.5555555555555556,\"#d8576b\"],[0.6666666666666666,\"#ed7953\"],[0.7777777777777778,\"#fb9f3a\"],[0.8888888888888888,\"#fdca26\"],[1.0,\"#f0f921\"]]},\"colorway\":[\"#636efa\",\"#EF553B\",\"#00cc96\",\"#ab63fa\",\"#FFA15A\",\"#19d3f3\",\"#FF6692\",\"#B6E880\",\"#FF97FF\",\"#FECB52\"],\"font\":{\"color\":\"#2a3f5f\"},\"geo\":{\"bgcolor\":\"white\",\"lakecolor\":\"white\",\"landcolor\":\"#E5ECF6\",\"showlakes\":true,\"showland\":true,\"subunitcolor\":\"white\"},\"hoverlabel\":{\"align\":\"left\"},\"hovermode\":\"closest\",\"mapbox\":{\"style\":\"light\"},\"paper_bgcolor\":\"white\",\"plot_bgcolor\":\"#E5ECF6\",\"polar\":{\"angularaxis\":{\"gridcolor\":\"white\",\"linecolor\":\"white\",\"ticks\":\"\"},\"bgcolor\":\"#E5ECF6\",\"radialaxis\":{\"gridcolor\":\"white\",\"linecolor\":\"white\",\"ticks\":\"\"}},\"scene\":{\"xaxis\":{\"backgroundcolor\":\"#E5ECF6\",\"gridcolor\":\"white\",\"gridwidth\":2,\"linecolor\":\"white\",\"showbackground\":true,\"ticks\":\"\",\"zerolinecolor\":\"white\"},\"yaxis\":{\"backgroundcolor\":\"#E5ECF6\",\"gridcolor\":\"white\",\"gridwidth\":2,\"linecolor\":\"white\",\"showbackground\":true,\"ticks\":\"\",\"zerolinecolor\":\"white\"},\"zaxis\":{\"backgroundcolor\":\"#E5ECF6\",\"gridcolor\":\"white\",\"gridwidth\":2,\"linecolor\":\"white\",\"showbackground\":true,\"ticks\":\"\",\"zerolinecolor\":\"white\"}},\"shapedefaults\":{\"line\":{\"color\":\"#2a3f5f\"}},\"ternary\":{\"aaxis\":{\"gridcolor\":\"white\",\"linecolor\":\"white\",\"ticks\":\"\"},\"baxis\":{\"gridcolor\":\"white\",\"linecolor\":\"white\",\"ticks\":\"\"},\"bgcolor\":\"#E5ECF6\",\"caxis\":{\"gridcolor\":\"white\",\"linecolor\":\"white\",\"ticks\":\"\"}},\"title\":{\"x\":0.05},\"xaxis\":{\"automargin\":true,\"gridcolor\":\"white\",\"linecolor\":\"white\",\"ticks\":\"\",\"title\":{\"standoff\":15},\"zerolinecolor\":\"white\",\"zerolinewidth\":2},\"yaxis\":{\"automargin\":true,\"gridcolor\":\"white\",\"linecolor\":\"white\",\"ticks\":\"\",\"title\":{\"standoff\":15},\"zerolinecolor\":\"white\",\"zerolinewidth\":2}}},\"title\":{\"text\":\"Gastos totais dos clientes X Idade\"},\"xaxis\":{\"anchor\":\"y\",\"domain\":[0.0,1.0],\"title\":{\"text\":\"Gastos totais dos clientes\"}},\"yaxis\":{\"anchor\":\"x\",\"domain\":[0.0,1.0],\"title\":{\"text\":\"Idade\"}}},                        {\"responsive\": true}                    ).then(function(){\n",
       "                            \n",
       "var gd = document.getElementById('aac2dd7f-8a90-41cc-a929-c744ffcbb704');\n",
       "var x = new MutationObserver(function (mutations, observer) {{\n",
       "        var display = window.getComputedStyle(gd).display;\n",
       "        if (!display || display === 'none') {{\n",
       "            console.log([gd, 'removed!']);\n",
       "            Plotly.purge(gd);\n",
       "            observer.disconnect();\n",
       "        }}\n",
       "}});\n",
       "\n",
       "// Listen for the removal of the full notebook cells\n",
       "var notebookContainer = gd.closest('#notebook-container');\n",
       "if (notebookContainer) {{\n",
       "    x.observe(notebookContainer, {childList: true});\n",
       "}}\n",
       "\n",
       "// Listen for the clearing of the current output cell\n",
       "var outputEl = gd.closest('.output');\n",
       "if (outputEl) {{\n",
       "    x.observe(outputEl, {childList: true});\n",
       "}}\n",
       "\n",
       "                        })                };                });            </script>        </div>"
      ]
     },
     "metadata": {},
     "output_type": "display_data"
    }
   ],
   "source": [
    "#pltagem de um gráfico de disperção relacionado preço e estoque\n",
    "fig_gasto_idade=px.scatter(tabela_cliente_gasto_idade, x = \"total_mes\", y = \"idade\",hover_data=['nome_cliente'], labels={\"total_mes\": \"Total gasto pelo cliente\", \"idade\": \"Idade\", \"nome_cliente\":\"Nome do cliente\" })\n",
    "fig_gasto_idade.update_traces(marker = {'color': '#00CC96'})\n",
    "fig_gasto_idade.update_layout(title = 'Gastos totais dos clientes X Idade')\n",
    "fig_gasto_idade.update_xaxes(title = 'Gastos totais dos clientes')\n",
    "fig_gasto_idade.update_yaxes(title = 'Idade')\n",
    "fig_gasto_idade.show()"
   ]
  },
  {
   "cell_type": "code",
   "execution_count": 114,
   "id": "9d0163f7",
   "metadata": {},
   "outputs": [
    {
     "data": {
      "application/vnd.plotly.v1+json": {
       "config": {
        "plotlyServerURL": "https://plot.ly"
       },
       "data": [
        {
         "alignmentgroup": "True",
         "hovertemplate": "variable=%{x}<br>value=%{y}<extra></extra>",
         "legendgroup": "",
         "marker": {
          "color": "#00CC96"
         },
         "name": "",
         "notched": false,
         "offsetgroup": "",
         "orientation": "v",
         "showlegend": false,
         "type": "box",
         "x": [
          "idade",
          "idade",
          "idade",
          "idade",
          "idade",
          "idade",
          "idade",
          "idade",
          "idade",
          "idade",
          "idade",
          "idade",
          "idade",
          "idade",
          "idade",
          "idade",
          "idade",
          "idade",
          "idade",
          "idade",
          "idade",
          "idade",
          "idade",
          "idade",
          "idade",
          "idade",
          "idade",
          "idade",
          "idade",
          "idade",
          "idade",
          "idade",
          "idade",
          "idade",
          "idade",
          "idade",
          "idade",
          "idade",
          "idade",
          "idade",
          "idade",
          "idade",
          "idade",
          "idade",
          "idade",
          "idade",
          "idade",
          "idade",
          "idade",
          "idade",
          "idade",
          "idade",
          "idade",
          "idade",
          "idade",
          "idade",
          "idade",
          "idade",
          "idade",
          "idade",
          "idade",
          "idade",
          "idade",
          "idade",
          "idade",
          "idade",
          "idade",
          "idade",
          "idade",
          "idade",
          "idade",
          "idade",
          "idade",
          "idade",
          "idade",
          "idade",
          "idade",
          "idade",
          "idade",
          "idade",
          "idade",
          "idade",
          "idade",
          "idade",
          "idade",
          "idade",
          "idade",
          "idade",
          "idade",
          "idade",
          "idade",
          "idade",
          "idade",
          "idade",
          "idade",
          "idade",
          "idade",
          "idade",
          "idade",
          "idade",
          "idade",
          "idade",
          "idade",
          "idade",
          "idade",
          "idade",
          "idade",
          "idade",
          "idade",
          "idade",
          "idade",
          "idade",
          "idade",
          "idade",
          "idade",
          "idade",
          "idade",
          "idade",
          "idade",
          "idade",
          "idade",
          "idade",
          "idade",
          "idade",
          "idade",
          "idade",
          "idade",
          "idade",
          "idade",
          "idade",
          "idade",
          "idade",
          "idade",
          "idade",
          "idade",
          "idade",
          "idade",
          "idade",
          "idade",
          "idade",
          "idade",
          "idade",
          "idade",
          "idade",
          "idade",
          "idade",
          "idade",
          "idade",
          "idade",
          "idade",
          "idade",
          "idade",
          "idade",
          "idade",
          "idade",
          "idade",
          "idade",
          "idade",
          "idade",
          "idade",
          "idade",
          "idade",
          "idade",
          "idade",
          "idade",
          "idade",
          "idade",
          "idade",
          "idade",
          "idade",
          "idade",
          "idade",
          "idade",
          "idade",
          "idade",
          "idade",
          "idade",
          "idade",
          "idade",
          "idade",
          "idade",
          "idade",
          "idade",
          "idade",
          "idade",
          "idade",
          "idade",
          "idade",
          "idade"
         ],
         "x0": " ",
         "xaxis": "x",
         "y": [
          23,
          19,
          60,
          46,
          45,
          53,
          30,
          24,
          25,
          66,
          53,
          62,
          46,
          33,
          73,
          31,
          30,
          46,
          68,
          43,
          62,
          52,
          34,
          36,
          73,
          49,
          32,
          31,
          32,
          28,
          53,
          62,
          40,
          56,
          49,
          65,
          48,
          20,
          36,
          36,
          22,
          70,
          59,
          56,
          41,
          33,
          43,
          70,
          55,
          27,
          39,
          48,
          25,
          69,
          56,
          44,
          64,
          35,
          58,
          43,
          21,
          35,
          53,
          39,
          59,
          44,
          27,
          42,
          19,
          35,
          60,
          68,
          31,
          61,
          61,
          65,
          40,
          52,
          63,
          46,
          20,
          28,
          24,
          20,
          65,
          44,
          34,
          65,
          39,
          60,
          40,
          64,
          56,
          71,
          69,
          19,
          66,
          21,
          38,
          44,
          37,
          51,
          39,
          28,
          31,
          30,
          35,
          32,
          71,
          35,
          67,
          27,
          32,
          30,
          41,
          38,
          52,
          64,
          28,
          39,
          73,
          61,
          20,
          52,
          67,
          31,
          42,
          66,
          44,
          67,
          39,
          29,
          48,
          51,
          19,
          29,
          72,
          53,
          32,
          49,
          25,
          63,
          68,
          68,
          24,
          64,
          40,
          48,
          72,
          36,
          37,
          67,
          20,
          22,
          54,
          62,
          55,
          49,
          58,
          49,
          24,
          62,
          72,
          41,
          21,
          65,
          26,
          61,
          52,
          59,
          57,
          18,
          31,
          51,
          36,
          29,
          67,
          70,
          46,
          72,
          35,
          52,
          54,
          55,
          51,
          20,
          31,
          62,
          22
         ],
         "y0": " ",
         "yaxis": "y"
        }
       ],
       "layout": {
        "boxmode": "group",
        "legend": {
         "tracegroupgap": 0
        },
        "margin": {
         "t": 60
        },
        "template": {
         "data": {
          "bar": [
           {
            "error_x": {
             "color": "#2a3f5f"
            },
            "error_y": {
             "color": "#2a3f5f"
            },
            "marker": {
             "line": {
              "color": "#E5ECF6",
              "width": 0.5
             },
             "pattern": {
              "fillmode": "overlay",
              "size": 10,
              "solidity": 0.2
             }
            },
            "type": "bar"
           }
          ],
          "barpolar": [
           {
            "marker": {
             "line": {
              "color": "#E5ECF6",
              "width": 0.5
             },
             "pattern": {
              "fillmode": "overlay",
              "size": 10,
              "solidity": 0.2
             }
            },
            "type": "barpolar"
           }
          ],
          "carpet": [
           {
            "aaxis": {
             "endlinecolor": "#2a3f5f",
             "gridcolor": "white",
             "linecolor": "white",
             "minorgridcolor": "white",
             "startlinecolor": "#2a3f5f"
            },
            "baxis": {
             "endlinecolor": "#2a3f5f",
             "gridcolor": "white",
             "linecolor": "white",
             "minorgridcolor": "white",
             "startlinecolor": "#2a3f5f"
            },
            "type": "carpet"
           }
          ],
          "choropleth": [
           {
            "colorbar": {
             "outlinewidth": 0,
             "ticks": ""
            },
            "type": "choropleth"
           }
          ],
          "contour": [
           {
            "colorbar": {
             "outlinewidth": 0,
             "ticks": ""
            },
            "colorscale": [
             [
              0,
              "#0d0887"
             ],
             [
              0.1111111111111111,
              "#46039f"
             ],
             [
              0.2222222222222222,
              "#7201a8"
             ],
             [
              0.3333333333333333,
              "#9c179e"
             ],
             [
              0.4444444444444444,
              "#bd3786"
             ],
             [
              0.5555555555555556,
              "#d8576b"
             ],
             [
              0.6666666666666666,
              "#ed7953"
             ],
             [
              0.7777777777777778,
              "#fb9f3a"
             ],
             [
              0.8888888888888888,
              "#fdca26"
             ],
             [
              1,
              "#f0f921"
             ]
            ],
            "type": "contour"
           }
          ],
          "contourcarpet": [
           {
            "colorbar": {
             "outlinewidth": 0,
             "ticks": ""
            },
            "type": "contourcarpet"
           }
          ],
          "heatmap": [
           {
            "colorbar": {
             "outlinewidth": 0,
             "ticks": ""
            },
            "colorscale": [
             [
              0,
              "#0d0887"
             ],
             [
              0.1111111111111111,
              "#46039f"
             ],
             [
              0.2222222222222222,
              "#7201a8"
             ],
             [
              0.3333333333333333,
              "#9c179e"
             ],
             [
              0.4444444444444444,
              "#bd3786"
             ],
             [
              0.5555555555555556,
              "#d8576b"
             ],
             [
              0.6666666666666666,
              "#ed7953"
             ],
             [
              0.7777777777777778,
              "#fb9f3a"
             ],
             [
              0.8888888888888888,
              "#fdca26"
             ],
             [
              1,
              "#f0f921"
             ]
            ],
            "type": "heatmap"
           }
          ],
          "heatmapgl": [
           {
            "colorbar": {
             "outlinewidth": 0,
             "ticks": ""
            },
            "colorscale": [
             [
              0,
              "#0d0887"
             ],
             [
              0.1111111111111111,
              "#46039f"
             ],
             [
              0.2222222222222222,
              "#7201a8"
             ],
             [
              0.3333333333333333,
              "#9c179e"
             ],
             [
              0.4444444444444444,
              "#bd3786"
             ],
             [
              0.5555555555555556,
              "#d8576b"
             ],
             [
              0.6666666666666666,
              "#ed7953"
             ],
             [
              0.7777777777777778,
              "#fb9f3a"
             ],
             [
              0.8888888888888888,
              "#fdca26"
             ],
             [
              1,
              "#f0f921"
             ]
            ],
            "type": "heatmapgl"
           }
          ],
          "histogram": [
           {
            "marker": {
             "pattern": {
              "fillmode": "overlay",
              "size": 10,
              "solidity": 0.2
             }
            },
            "type": "histogram"
           }
          ],
          "histogram2d": [
           {
            "colorbar": {
             "outlinewidth": 0,
             "ticks": ""
            },
            "colorscale": [
             [
              0,
              "#0d0887"
             ],
             [
              0.1111111111111111,
              "#46039f"
             ],
             [
              0.2222222222222222,
              "#7201a8"
             ],
             [
              0.3333333333333333,
              "#9c179e"
             ],
             [
              0.4444444444444444,
              "#bd3786"
             ],
             [
              0.5555555555555556,
              "#d8576b"
             ],
             [
              0.6666666666666666,
              "#ed7953"
             ],
             [
              0.7777777777777778,
              "#fb9f3a"
             ],
             [
              0.8888888888888888,
              "#fdca26"
             ],
             [
              1,
              "#f0f921"
             ]
            ],
            "type": "histogram2d"
           }
          ],
          "histogram2dcontour": [
           {
            "colorbar": {
             "outlinewidth": 0,
             "ticks": ""
            },
            "colorscale": [
             [
              0,
              "#0d0887"
             ],
             [
              0.1111111111111111,
              "#46039f"
             ],
             [
              0.2222222222222222,
              "#7201a8"
             ],
             [
              0.3333333333333333,
              "#9c179e"
             ],
             [
              0.4444444444444444,
              "#bd3786"
             ],
             [
              0.5555555555555556,
              "#d8576b"
             ],
             [
              0.6666666666666666,
              "#ed7953"
             ],
             [
              0.7777777777777778,
              "#fb9f3a"
             ],
             [
              0.8888888888888888,
              "#fdca26"
             ],
             [
              1,
              "#f0f921"
             ]
            ],
            "type": "histogram2dcontour"
           }
          ],
          "mesh3d": [
           {
            "colorbar": {
             "outlinewidth": 0,
             "ticks": ""
            },
            "type": "mesh3d"
           }
          ],
          "parcoords": [
           {
            "line": {
             "colorbar": {
              "outlinewidth": 0,
              "ticks": ""
             }
            },
            "type": "parcoords"
           }
          ],
          "pie": [
           {
            "automargin": true,
            "type": "pie"
           }
          ],
          "scatter": [
           {
            "marker": {
             "colorbar": {
              "outlinewidth": 0,
              "ticks": ""
             }
            },
            "type": "scatter"
           }
          ],
          "scatter3d": [
           {
            "line": {
             "colorbar": {
              "outlinewidth": 0,
              "ticks": ""
             }
            },
            "marker": {
             "colorbar": {
              "outlinewidth": 0,
              "ticks": ""
             }
            },
            "type": "scatter3d"
           }
          ],
          "scattercarpet": [
           {
            "marker": {
             "colorbar": {
              "outlinewidth": 0,
              "ticks": ""
             }
            },
            "type": "scattercarpet"
           }
          ],
          "scattergeo": [
           {
            "marker": {
             "colorbar": {
              "outlinewidth": 0,
              "ticks": ""
             }
            },
            "type": "scattergeo"
           }
          ],
          "scattergl": [
           {
            "marker": {
             "colorbar": {
              "outlinewidth": 0,
              "ticks": ""
             }
            },
            "type": "scattergl"
           }
          ],
          "scattermapbox": [
           {
            "marker": {
             "colorbar": {
              "outlinewidth": 0,
              "ticks": ""
             }
            },
            "type": "scattermapbox"
           }
          ],
          "scatterpolar": [
           {
            "marker": {
             "colorbar": {
              "outlinewidth": 0,
              "ticks": ""
             }
            },
            "type": "scatterpolar"
           }
          ],
          "scatterpolargl": [
           {
            "marker": {
             "colorbar": {
              "outlinewidth": 0,
              "ticks": ""
             }
            },
            "type": "scatterpolargl"
           }
          ],
          "scatterternary": [
           {
            "marker": {
             "colorbar": {
              "outlinewidth": 0,
              "ticks": ""
             }
            },
            "type": "scatterternary"
           }
          ],
          "surface": [
           {
            "colorbar": {
             "outlinewidth": 0,
             "ticks": ""
            },
            "colorscale": [
             [
              0,
              "#0d0887"
             ],
             [
              0.1111111111111111,
              "#46039f"
             ],
             [
              0.2222222222222222,
              "#7201a8"
             ],
             [
              0.3333333333333333,
              "#9c179e"
             ],
             [
              0.4444444444444444,
              "#bd3786"
             ],
             [
              0.5555555555555556,
              "#d8576b"
             ],
             [
              0.6666666666666666,
              "#ed7953"
             ],
             [
              0.7777777777777778,
              "#fb9f3a"
             ],
             [
              0.8888888888888888,
              "#fdca26"
             ],
             [
              1,
              "#f0f921"
             ]
            ],
            "type": "surface"
           }
          ],
          "table": [
           {
            "cells": {
             "fill": {
              "color": "#EBF0F8"
             },
             "line": {
              "color": "white"
             }
            },
            "header": {
             "fill": {
              "color": "#C8D4E3"
             },
             "line": {
              "color": "white"
             }
            },
            "type": "table"
           }
          ]
         },
         "layout": {
          "annotationdefaults": {
           "arrowcolor": "#2a3f5f",
           "arrowhead": 0,
           "arrowwidth": 1
          },
          "autotypenumbers": "strict",
          "coloraxis": {
           "colorbar": {
            "outlinewidth": 0,
            "ticks": ""
           }
          },
          "colorscale": {
           "diverging": [
            [
             0,
             "#8e0152"
            ],
            [
             0.1,
             "#c51b7d"
            ],
            [
             0.2,
             "#de77ae"
            ],
            [
             0.3,
             "#f1b6da"
            ],
            [
             0.4,
             "#fde0ef"
            ],
            [
             0.5,
             "#f7f7f7"
            ],
            [
             0.6,
             "#e6f5d0"
            ],
            [
             0.7,
             "#b8e186"
            ],
            [
             0.8,
             "#7fbc41"
            ],
            [
             0.9,
             "#4d9221"
            ],
            [
             1,
             "#276419"
            ]
           ],
           "sequential": [
            [
             0,
             "#0d0887"
            ],
            [
             0.1111111111111111,
             "#46039f"
            ],
            [
             0.2222222222222222,
             "#7201a8"
            ],
            [
             0.3333333333333333,
             "#9c179e"
            ],
            [
             0.4444444444444444,
             "#bd3786"
            ],
            [
             0.5555555555555556,
             "#d8576b"
            ],
            [
             0.6666666666666666,
             "#ed7953"
            ],
            [
             0.7777777777777778,
             "#fb9f3a"
            ],
            [
             0.8888888888888888,
             "#fdca26"
            ],
            [
             1,
             "#f0f921"
            ]
           ],
           "sequentialminus": [
            [
             0,
             "#0d0887"
            ],
            [
             0.1111111111111111,
             "#46039f"
            ],
            [
             0.2222222222222222,
             "#7201a8"
            ],
            [
             0.3333333333333333,
             "#9c179e"
            ],
            [
             0.4444444444444444,
             "#bd3786"
            ],
            [
             0.5555555555555556,
             "#d8576b"
            ],
            [
             0.6666666666666666,
             "#ed7953"
            ],
            [
             0.7777777777777778,
             "#fb9f3a"
            ],
            [
             0.8888888888888888,
             "#fdca26"
            ],
            [
             1,
             "#f0f921"
            ]
           ]
          },
          "colorway": [
           "#636efa",
           "#EF553B",
           "#00cc96",
           "#ab63fa",
           "#FFA15A",
           "#19d3f3",
           "#FF6692",
           "#B6E880",
           "#FF97FF",
           "#FECB52"
          ],
          "font": {
           "color": "#2a3f5f"
          },
          "geo": {
           "bgcolor": "white",
           "lakecolor": "white",
           "landcolor": "#E5ECF6",
           "showlakes": true,
           "showland": true,
           "subunitcolor": "white"
          },
          "hoverlabel": {
           "align": "left"
          },
          "hovermode": "closest",
          "mapbox": {
           "style": "light"
          },
          "paper_bgcolor": "white",
          "plot_bgcolor": "#E5ECF6",
          "polar": {
           "angularaxis": {
            "gridcolor": "white",
            "linecolor": "white",
            "ticks": ""
           },
           "bgcolor": "#E5ECF6",
           "radialaxis": {
            "gridcolor": "white",
            "linecolor": "white",
            "ticks": ""
           }
          },
          "scene": {
           "xaxis": {
            "backgroundcolor": "#E5ECF6",
            "gridcolor": "white",
            "gridwidth": 2,
            "linecolor": "white",
            "showbackground": true,
            "ticks": "",
            "zerolinecolor": "white"
           },
           "yaxis": {
            "backgroundcolor": "#E5ECF6",
            "gridcolor": "white",
            "gridwidth": 2,
            "linecolor": "white",
            "showbackground": true,
            "ticks": "",
            "zerolinecolor": "white"
           },
           "zaxis": {
            "backgroundcolor": "#E5ECF6",
            "gridcolor": "white",
            "gridwidth": 2,
            "linecolor": "white",
            "showbackground": true,
            "ticks": "",
            "zerolinecolor": "white"
           }
          },
          "shapedefaults": {
           "line": {
            "color": "#2a3f5f"
           }
          },
          "ternary": {
           "aaxis": {
            "gridcolor": "white",
            "linecolor": "white",
            "ticks": ""
           },
           "baxis": {
            "gridcolor": "white",
            "linecolor": "white",
            "ticks": ""
           },
           "bgcolor": "#E5ECF6",
           "caxis": {
            "gridcolor": "white",
            "linecolor": "white",
            "ticks": ""
           }
          },
          "title": {
           "x": 0.05
          },
          "xaxis": {
           "automargin": true,
           "gridcolor": "white",
           "linecolor": "white",
           "ticks": "",
           "title": {
            "standoff": 15
           },
           "zerolinecolor": "white",
           "zerolinewidth": 2
          },
          "yaxis": {
           "automargin": true,
           "gridcolor": "white",
           "linecolor": "white",
           "ticks": "",
           "title": {
            "standoff": 15
           },
           "zerolinecolor": "white",
           "zerolinewidth": 2
          }
         }
        },
        "title": {
         "text": "Box plot - Idade dos clientes"
        },
        "xaxis": {
         "anchor": "y",
         "domain": [
          0,
          1
         ],
         "title": {
          "text": ""
         }
        },
        "yaxis": {
         "anchor": "x",
         "domain": [
          0,
          1
         ],
         "title": {
          "text": "Idade"
         }
        }
       }
      },
      "text/html": [
       "<div>                            <div id=\"4c8e5963-5ff5-499a-83a4-9f7748492f58\" class=\"plotly-graph-div\" style=\"height:525px; width:100%;\"></div>            <script type=\"text/javascript\">                require([\"plotly\"], function(Plotly) {                    window.PLOTLYENV=window.PLOTLYENV || {};                                    if (document.getElementById(\"4c8e5963-5ff5-499a-83a4-9f7748492f58\")) {                    Plotly.newPlot(                        \"4c8e5963-5ff5-499a-83a4-9f7748492f58\",                        [{\"alignmentgroup\":\"True\",\"hovertemplate\":\"variable=%{x}<br>value=%{y}<extra></extra>\",\"legendgroup\":\"\",\"marker\":{\"color\":\"#00CC96\"},\"name\":\"\",\"notched\":false,\"offsetgroup\":\"\",\"orientation\":\"v\",\"showlegend\":false,\"type\":\"box\",\"x\":[\"idade\",\"idade\",\"idade\",\"idade\",\"idade\",\"idade\",\"idade\",\"idade\",\"idade\",\"idade\",\"idade\",\"idade\",\"idade\",\"idade\",\"idade\",\"idade\",\"idade\",\"idade\",\"idade\",\"idade\",\"idade\",\"idade\",\"idade\",\"idade\",\"idade\",\"idade\",\"idade\",\"idade\",\"idade\",\"idade\",\"idade\",\"idade\",\"idade\",\"idade\",\"idade\",\"idade\",\"idade\",\"idade\",\"idade\",\"idade\",\"idade\",\"idade\",\"idade\",\"idade\",\"idade\",\"idade\",\"idade\",\"idade\",\"idade\",\"idade\",\"idade\",\"idade\",\"idade\",\"idade\",\"idade\",\"idade\",\"idade\",\"idade\",\"idade\",\"idade\",\"idade\",\"idade\",\"idade\",\"idade\",\"idade\",\"idade\",\"idade\",\"idade\",\"idade\",\"idade\",\"idade\",\"idade\",\"idade\",\"idade\",\"idade\",\"idade\",\"idade\",\"idade\",\"idade\",\"idade\",\"idade\",\"idade\",\"idade\",\"idade\",\"idade\",\"idade\",\"idade\",\"idade\",\"idade\",\"idade\",\"idade\",\"idade\",\"idade\",\"idade\",\"idade\",\"idade\",\"idade\",\"idade\",\"idade\",\"idade\",\"idade\",\"idade\",\"idade\",\"idade\",\"idade\",\"idade\",\"idade\",\"idade\",\"idade\",\"idade\",\"idade\",\"idade\",\"idade\",\"idade\",\"idade\",\"idade\",\"idade\",\"idade\",\"idade\",\"idade\",\"idade\",\"idade\",\"idade\",\"idade\",\"idade\",\"idade\",\"idade\",\"idade\",\"idade\",\"idade\",\"idade\",\"idade\",\"idade\",\"idade\",\"idade\",\"idade\",\"idade\",\"idade\",\"idade\",\"idade\",\"idade\",\"idade\",\"idade\",\"idade\",\"idade\",\"idade\",\"idade\",\"idade\",\"idade\",\"idade\",\"idade\",\"idade\",\"idade\",\"idade\",\"idade\",\"idade\",\"idade\",\"idade\",\"idade\",\"idade\",\"idade\",\"idade\",\"idade\",\"idade\",\"idade\",\"idade\",\"idade\",\"idade\",\"idade\",\"idade\",\"idade\",\"idade\",\"idade\",\"idade\",\"idade\",\"idade\",\"idade\",\"idade\",\"idade\",\"idade\",\"idade\",\"idade\",\"idade\",\"idade\",\"idade\",\"idade\",\"idade\",\"idade\",\"idade\"],\"x0\":\" \",\"xaxis\":\"x\",\"y\":[23,19,60,46,45,53,30,24,25,66,53,62,46,33,73,31,30,46,68,43,62,52,34,36,73,49,32,31,32,28,53,62,40,56,49,65,48,20,36,36,22,70,59,56,41,33,43,70,55,27,39,48,25,69,56,44,64,35,58,43,21,35,53,39,59,44,27,42,19,35,60,68,31,61,61,65,40,52,63,46,20,28,24,20,65,44,34,65,39,60,40,64,56,71,69,19,66,21,38,44,37,51,39,28,31,30,35,32,71,35,67,27,32,30,41,38,52,64,28,39,73,61,20,52,67,31,42,66,44,67,39,29,48,51,19,29,72,53,32,49,25,63,68,68,24,64,40,48,72,36,37,67,20,22,54,62,55,49,58,49,24,62,72,41,21,65,26,61,52,59,57,18,31,51,36,29,67,70,46,72,35,52,54,55,51,20,31,62,22],\"y0\":\" \",\"yaxis\":\"y\"}],                        {\"boxmode\":\"group\",\"legend\":{\"tracegroupgap\":0},\"margin\":{\"t\":60},\"template\":{\"data\":{\"bar\":[{\"error_x\":{\"color\":\"#2a3f5f\"},\"error_y\":{\"color\":\"#2a3f5f\"},\"marker\":{\"line\":{\"color\":\"#E5ECF6\",\"width\":0.5},\"pattern\":{\"fillmode\":\"overlay\",\"size\":10,\"solidity\":0.2}},\"type\":\"bar\"}],\"barpolar\":[{\"marker\":{\"line\":{\"color\":\"#E5ECF6\",\"width\":0.5},\"pattern\":{\"fillmode\":\"overlay\",\"size\":10,\"solidity\":0.2}},\"type\":\"barpolar\"}],\"carpet\":[{\"aaxis\":{\"endlinecolor\":\"#2a3f5f\",\"gridcolor\":\"white\",\"linecolor\":\"white\",\"minorgridcolor\":\"white\",\"startlinecolor\":\"#2a3f5f\"},\"baxis\":{\"endlinecolor\":\"#2a3f5f\",\"gridcolor\":\"white\",\"linecolor\":\"white\",\"minorgridcolor\":\"white\",\"startlinecolor\":\"#2a3f5f\"},\"type\":\"carpet\"}],\"choropleth\":[{\"colorbar\":{\"outlinewidth\":0,\"ticks\":\"\"},\"type\":\"choropleth\"}],\"contour\":[{\"colorbar\":{\"outlinewidth\":0,\"ticks\":\"\"},\"colorscale\":[[0.0,\"#0d0887\"],[0.1111111111111111,\"#46039f\"],[0.2222222222222222,\"#7201a8\"],[0.3333333333333333,\"#9c179e\"],[0.4444444444444444,\"#bd3786\"],[0.5555555555555556,\"#d8576b\"],[0.6666666666666666,\"#ed7953\"],[0.7777777777777778,\"#fb9f3a\"],[0.8888888888888888,\"#fdca26\"],[1.0,\"#f0f921\"]],\"type\":\"contour\"}],\"contourcarpet\":[{\"colorbar\":{\"outlinewidth\":0,\"ticks\":\"\"},\"type\":\"contourcarpet\"}],\"heatmap\":[{\"colorbar\":{\"outlinewidth\":0,\"ticks\":\"\"},\"colorscale\":[[0.0,\"#0d0887\"],[0.1111111111111111,\"#46039f\"],[0.2222222222222222,\"#7201a8\"],[0.3333333333333333,\"#9c179e\"],[0.4444444444444444,\"#bd3786\"],[0.5555555555555556,\"#d8576b\"],[0.6666666666666666,\"#ed7953\"],[0.7777777777777778,\"#fb9f3a\"],[0.8888888888888888,\"#fdca26\"],[1.0,\"#f0f921\"]],\"type\":\"heatmap\"}],\"heatmapgl\":[{\"colorbar\":{\"outlinewidth\":0,\"ticks\":\"\"},\"colorscale\":[[0.0,\"#0d0887\"],[0.1111111111111111,\"#46039f\"],[0.2222222222222222,\"#7201a8\"],[0.3333333333333333,\"#9c179e\"],[0.4444444444444444,\"#bd3786\"],[0.5555555555555556,\"#d8576b\"],[0.6666666666666666,\"#ed7953\"],[0.7777777777777778,\"#fb9f3a\"],[0.8888888888888888,\"#fdca26\"],[1.0,\"#f0f921\"]],\"type\":\"heatmapgl\"}],\"histogram\":[{\"marker\":{\"pattern\":{\"fillmode\":\"overlay\",\"size\":10,\"solidity\":0.2}},\"type\":\"histogram\"}],\"histogram2d\":[{\"colorbar\":{\"outlinewidth\":0,\"ticks\":\"\"},\"colorscale\":[[0.0,\"#0d0887\"],[0.1111111111111111,\"#46039f\"],[0.2222222222222222,\"#7201a8\"],[0.3333333333333333,\"#9c179e\"],[0.4444444444444444,\"#bd3786\"],[0.5555555555555556,\"#d8576b\"],[0.6666666666666666,\"#ed7953\"],[0.7777777777777778,\"#fb9f3a\"],[0.8888888888888888,\"#fdca26\"],[1.0,\"#f0f921\"]],\"type\":\"histogram2d\"}],\"histogram2dcontour\":[{\"colorbar\":{\"outlinewidth\":0,\"ticks\":\"\"},\"colorscale\":[[0.0,\"#0d0887\"],[0.1111111111111111,\"#46039f\"],[0.2222222222222222,\"#7201a8\"],[0.3333333333333333,\"#9c179e\"],[0.4444444444444444,\"#bd3786\"],[0.5555555555555556,\"#d8576b\"],[0.6666666666666666,\"#ed7953\"],[0.7777777777777778,\"#fb9f3a\"],[0.8888888888888888,\"#fdca26\"],[1.0,\"#f0f921\"]],\"type\":\"histogram2dcontour\"}],\"mesh3d\":[{\"colorbar\":{\"outlinewidth\":0,\"ticks\":\"\"},\"type\":\"mesh3d\"}],\"parcoords\":[{\"line\":{\"colorbar\":{\"outlinewidth\":0,\"ticks\":\"\"}},\"type\":\"parcoords\"}],\"pie\":[{\"automargin\":true,\"type\":\"pie\"}],\"scatter\":[{\"marker\":{\"colorbar\":{\"outlinewidth\":0,\"ticks\":\"\"}},\"type\":\"scatter\"}],\"scatter3d\":[{\"line\":{\"colorbar\":{\"outlinewidth\":0,\"ticks\":\"\"}},\"marker\":{\"colorbar\":{\"outlinewidth\":0,\"ticks\":\"\"}},\"type\":\"scatter3d\"}],\"scattercarpet\":[{\"marker\":{\"colorbar\":{\"outlinewidth\":0,\"ticks\":\"\"}},\"type\":\"scattercarpet\"}],\"scattergeo\":[{\"marker\":{\"colorbar\":{\"outlinewidth\":0,\"ticks\":\"\"}},\"type\":\"scattergeo\"}],\"scattergl\":[{\"marker\":{\"colorbar\":{\"outlinewidth\":0,\"ticks\":\"\"}},\"type\":\"scattergl\"}],\"scattermapbox\":[{\"marker\":{\"colorbar\":{\"outlinewidth\":0,\"ticks\":\"\"}},\"type\":\"scattermapbox\"}],\"scatterpolar\":[{\"marker\":{\"colorbar\":{\"outlinewidth\":0,\"ticks\":\"\"}},\"type\":\"scatterpolar\"}],\"scatterpolargl\":[{\"marker\":{\"colorbar\":{\"outlinewidth\":0,\"ticks\":\"\"}},\"type\":\"scatterpolargl\"}],\"scatterternary\":[{\"marker\":{\"colorbar\":{\"outlinewidth\":0,\"ticks\":\"\"}},\"type\":\"scatterternary\"}],\"surface\":[{\"colorbar\":{\"outlinewidth\":0,\"ticks\":\"\"},\"colorscale\":[[0.0,\"#0d0887\"],[0.1111111111111111,\"#46039f\"],[0.2222222222222222,\"#7201a8\"],[0.3333333333333333,\"#9c179e\"],[0.4444444444444444,\"#bd3786\"],[0.5555555555555556,\"#d8576b\"],[0.6666666666666666,\"#ed7953\"],[0.7777777777777778,\"#fb9f3a\"],[0.8888888888888888,\"#fdca26\"],[1.0,\"#f0f921\"]],\"type\":\"surface\"}],\"table\":[{\"cells\":{\"fill\":{\"color\":\"#EBF0F8\"},\"line\":{\"color\":\"white\"}},\"header\":{\"fill\":{\"color\":\"#C8D4E3\"},\"line\":{\"color\":\"white\"}},\"type\":\"table\"}]},\"layout\":{\"annotationdefaults\":{\"arrowcolor\":\"#2a3f5f\",\"arrowhead\":0,\"arrowwidth\":1},\"autotypenumbers\":\"strict\",\"coloraxis\":{\"colorbar\":{\"outlinewidth\":0,\"ticks\":\"\"}},\"colorscale\":{\"diverging\":[[0,\"#8e0152\"],[0.1,\"#c51b7d\"],[0.2,\"#de77ae\"],[0.3,\"#f1b6da\"],[0.4,\"#fde0ef\"],[0.5,\"#f7f7f7\"],[0.6,\"#e6f5d0\"],[0.7,\"#b8e186\"],[0.8,\"#7fbc41\"],[0.9,\"#4d9221\"],[1,\"#276419\"]],\"sequential\":[[0.0,\"#0d0887\"],[0.1111111111111111,\"#46039f\"],[0.2222222222222222,\"#7201a8\"],[0.3333333333333333,\"#9c179e\"],[0.4444444444444444,\"#bd3786\"],[0.5555555555555556,\"#d8576b\"],[0.6666666666666666,\"#ed7953\"],[0.7777777777777778,\"#fb9f3a\"],[0.8888888888888888,\"#fdca26\"],[1.0,\"#f0f921\"]],\"sequentialminus\":[[0.0,\"#0d0887\"],[0.1111111111111111,\"#46039f\"],[0.2222222222222222,\"#7201a8\"],[0.3333333333333333,\"#9c179e\"],[0.4444444444444444,\"#bd3786\"],[0.5555555555555556,\"#d8576b\"],[0.6666666666666666,\"#ed7953\"],[0.7777777777777778,\"#fb9f3a\"],[0.8888888888888888,\"#fdca26\"],[1.0,\"#f0f921\"]]},\"colorway\":[\"#636efa\",\"#EF553B\",\"#00cc96\",\"#ab63fa\",\"#FFA15A\",\"#19d3f3\",\"#FF6692\",\"#B6E880\",\"#FF97FF\",\"#FECB52\"],\"font\":{\"color\":\"#2a3f5f\"},\"geo\":{\"bgcolor\":\"white\",\"lakecolor\":\"white\",\"landcolor\":\"#E5ECF6\",\"showlakes\":true,\"showland\":true,\"subunitcolor\":\"white\"},\"hoverlabel\":{\"align\":\"left\"},\"hovermode\":\"closest\",\"mapbox\":{\"style\":\"light\"},\"paper_bgcolor\":\"white\",\"plot_bgcolor\":\"#E5ECF6\",\"polar\":{\"angularaxis\":{\"gridcolor\":\"white\",\"linecolor\":\"white\",\"ticks\":\"\"},\"bgcolor\":\"#E5ECF6\",\"radialaxis\":{\"gridcolor\":\"white\",\"linecolor\":\"white\",\"ticks\":\"\"}},\"scene\":{\"xaxis\":{\"backgroundcolor\":\"#E5ECF6\",\"gridcolor\":\"white\",\"gridwidth\":2,\"linecolor\":\"white\",\"showbackground\":true,\"ticks\":\"\",\"zerolinecolor\":\"white\"},\"yaxis\":{\"backgroundcolor\":\"#E5ECF6\",\"gridcolor\":\"white\",\"gridwidth\":2,\"linecolor\":\"white\",\"showbackground\":true,\"ticks\":\"\",\"zerolinecolor\":\"white\"},\"zaxis\":{\"backgroundcolor\":\"#E5ECF6\",\"gridcolor\":\"white\",\"gridwidth\":2,\"linecolor\":\"white\",\"showbackground\":true,\"ticks\":\"\",\"zerolinecolor\":\"white\"}},\"shapedefaults\":{\"line\":{\"color\":\"#2a3f5f\"}},\"ternary\":{\"aaxis\":{\"gridcolor\":\"white\",\"linecolor\":\"white\",\"ticks\":\"\"},\"baxis\":{\"gridcolor\":\"white\",\"linecolor\":\"white\",\"ticks\":\"\"},\"bgcolor\":\"#E5ECF6\",\"caxis\":{\"gridcolor\":\"white\",\"linecolor\":\"white\",\"ticks\":\"\"}},\"title\":{\"x\":0.05},\"xaxis\":{\"automargin\":true,\"gridcolor\":\"white\",\"linecolor\":\"white\",\"ticks\":\"\",\"title\":{\"standoff\":15},\"zerolinecolor\":\"white\",\"zerolinewidth\":2},\"yaxis\":{\"automargin\":true,\"gridcolor\":\"white\",\"linecolor\":\"white\",\"ticks\":\"\",\"title\":{\"standoff\":15},\"zerolinecolor\":\"white\",\"zerolinewidth\":2}}},\"title\":{\"text\":\"Box plot - Idade dos clientes\"},\"xaxis\":{\"anchor\":\"y\",\"domain\":[0.0,1.0],\"title\":{\"text\":\"\"}},\"yaxis\":{\"anchor\":\"x\",\"domain\":[0.0,1.0],\"title\":{\"text\":\"Idade\"}}},                        {\"responsive\": true}                    ).then(function(){\n",
       "                            \n",
       "var gd = document.getElementById('4c8e5963-5ff5-499a-83a4-9f7748492f58');\n",
       "var x = new MutationObserver(function (mutations, observer) {{\n",
       "        var display = window.getComputedStyle(gd).display;\n",
       "        if (!display || display === 'none') {{\n",
       "            console.log([gd, 'removed!']);\n",
       "            Plotly.purge(gd);\n",
       "            observer.disconnect();\n",
       "        }}\n",
       "}});\n",
       "\n",
       "// Listen for the removal of the full notebook cells\n",
       "var notebookContainer = gd.closest('#notebook-container');\n",
       "if (notebookContainer) {{\n",
       "    x.observe(notebookContainer, {childList: true});\n",
       "}}\n",
       "\n",
       "// Listen for the clearing of the current output cell\n",
       "var outputEl = gd.closest('.output');\n",
       "if (outputEl) {{\n",
       "    x.observe(outputEl, {childList: true});\n",
       "}}\n",
       "\n",
       "                        })                };                });            </script>        </div>"
      ]
     },
     "metadata": {},
     "output_type": "display_data"
    }
   ],
   "source": [
    "fig_box_plot_idade = px.box(tabela_cliente_gasto_idade[\"idade\"], labels={\"idade\": \"Idade\"}, )\n",
    "fig_box_plot_idade.update_traces(marker = {'color': '#00CC96'})\n",
    "fig_box_plot_idade.update_layout(title = 'Box plot - Idade dos clientes')\n",
    "fig_box_plot_idade.update_xaxes(title = '')\n",
    "fig_box_plot_idade.update_yaxes(title = 'Idade')\n",
    "fig_box_plot_idade.show()"
   ]
  },
  {
   "cell_type": "code",
   "execution_count": 115,
   "id": "26505ec3",
   "metadata": {},
   "outputs": [
    {
     "data": {
      "application/vnd.plotly.v1+json": {
       "config": {
        "plotlyServerURL": "https://plot.ly"
       },
       "data": [
        {
         "alignmentgroup": "True",
         "hovertemplate": "Idade=%{x}<br>Total gasto pelo cliente=%{y}<extra></extra>",
         "legendgroup": "",
         "marker": {
          "color": "#00CC96"
         },
         "name": "",
         "notched": false,
         "offsetgroup": "",
         "orientation": "v",
         "showlegend": false,
         "type": "box",
         "x": [
          23,
          19,
          60,
          46,
          45,
          53,
          30,
          24,
          25,
          66,
          53,
          62,
          46,
          33,
          73,
          31,
          30,
          46,
          68,
          43,
          62,
          52,
          34,
          36,
          73,
          49,
          32,
          31,
          32,
          28,
          53,
          62,
          40,
          56,
          49,
          65,
          48,
          20,
          36,
          36,
          22,
          70,
          59,
          56,
          41,
          33,
          43,
          70,
          55,
          27,
          39,
          48,
          25,
          69,
          56,
          44,
          64,
          35,
          58,
          43,
          21,
          35,
          53,
          39,
          59,
          44,
          27,
          42,
          19,
          35,
          60,
          68,
          31,
          61,
          61,
          65,
          40,
          52,
          63,
          46,
          20,
          28,
          24,
          20,
          65,
          44,
          34,
          65,
          39,
          60,
          40,
          64,
          56,
          71,
          69,
          19,
          66,
          21,
          38,
          44,
          37,
          51,
          39,
          28,
          31,
          30,
          35,
          32,
          71,
          35,
          67,
          27,
          32,
          30,
          41,
          38,
          52,
          64,
          28,
          39,
          73,
          61,
          20,
          52,
          67,
          31,
          42,
          66,
          44,
          67,
          39,
          29,
          48,
          51,
          19,
          29,
          72,
          53,
          32,
          49,
          25,
          63,
          68,
          68,
          24,
          64,
          40,
          48,
          72,
          36,
          37,
          67,
          20,
          22,
          54,
          62,
          55,
          49,
          58,
          49,
          24,
          62,
          72,
          41,
          21,
          65,
          26,
          61,
          52,
          59,
          57,
          18,
          31,
          51,
          36,
          29,
          67,
          70,
          46,
          72,
          35,
          52,
          54,
          55,
          51,
          20,
          31,
          62,
          22
         ],
         "x0": " ",
         "xaxis": "x",
         "y": [
          1074.93,
          517.43,
          887.5600000000002,
          540.56,
          590.52,
          143.91,
          461.02,
          832.3000000000001,
          1644.8600000000001,
          2205.590000000001,
          143.88,
          403.46000000000004,
          1068.82,
          372.65,
          96.56,
          1801.4700000000007,
          800.82,
          160.3,
          538.95,
          1517.3800000000006,
          256.51,
          3185.8600000000006,
          209.24,
          308.84,
          660.22,
          1395.2300000000002,
          310.61,
          679.5500000000001,
          966.5700000000002,
          1485.0400000000004,
          1659.5400000000002,
          904.13,
          2117.3000000000006,
          2303.2599999999998,
          645.45,
          696.0100000000002,
          2640.7200000000003,
          1019.44,
          1894.6700000000003,
          971.26,
          3560.6,
          1951.9000000000005,
          1175.6100000000001,
          1036.34,
          1143.35,
          1713.5800000000002,
          832.8200000000002,
          857.8000000000001,
          695.4400000000003,
          2262.16,
          1539.88,
          783.97,
          1691.9400000000003,
          1196.0100000000004,
          436.07,
          853.7800000000001,
          1312.9,
          1152.7100000000003,
          996.69,
          598.27,
          1954.97,
          1111.8800000000003,
          276.1,
          1625.47,
          819.7000000000003,
          351.29999999999995,
          62.97,
          402.87000000000006,
          30.959999999999997,
          41.98,
          85.4,
          107.91999999999999,
          483.53000000000003,
          584.93,
          792.8000000000003,
          2535.0599999999995,
          1202.8700000000001,
          2033.6900000000003,
          1370.92,
          912.45,
          947.4000000000001,
          806.6500000000003,
          525.8100000000001,
          459.21999999999997,
          1096.24,
          1272.3000000000002,
          913.2700000000001,
          873.96,
          909.6900000000002,
          471.48999999999995,
          13.96,
          3.49,
          26.43,
          811.1600000000001,
          1438.7700000000007,
          559.6899999999999,
          686.2800000000001,
          291.76,
          2287.24,
          426.8,
          693.32,
          306.70000000000005,
          526.7100000000002,
          910.7800000000001,
          514.68,
          19.45,
          317.75,
          559.25,
          352.42,
          886.0500000000001,
          879.4100000000003,
          399.27,
          1138.85,
          394.53999999999996,
          1452.6100000000001,
          745.03,
          588.27,
          65.85,
          191.66,
          77.8,
          22.41,
          45.69,
          7.47,
          707.3000000000001,
          991.4400000000002,
          516.8000000000001,
          341.75,
          359.12000000000006,
          268.28,
          5.99,
          83.92999999999999,
          799.85,
          373.61,
          672.74,
          682.9200000000002,
          2.58,
          300.14,
          54.86,
          10.96,
          21.92,
          247.80999999999997,
          398.77,
          306.86,
          1179.71,
          81.89,
          7.4399999999999995,
          2.48,
          170.71,
          52.65,
          23.95,
          80.61999999999999,
          53.230000000000004,
          30.88,
          338.89,
          132.84,
          525.98,
          14.97,
          172.92,
          18.950000000000003,
          22.79,
          161.29000000000002,
          29.89,
          16.49,
          212.24,
          11.97,
          77.72,
          6.7,
          13.4,
          20.1,
          20.1,
          23.96,
          21.98,
          720.97,
          63.96,
          5.4,
          15.87,
          70,
          8.62,
          31.96,
          516,
          172,
          299.96,
          128.97,
          57.78999999999999,
          16.9,
          25.349999999999998,
          8.45,
          11.99,
          95.97
         ],
         "y0": " ",
         "yaxis": "y"
        }
       ],
       "layout": {
        "boxmode": "group",
        "legend": {
         "tracegroupgap": 0
        },
        "margin": {
         "t": 60
        },
        "template": {
         "data": {
          "bar": [
           {
            "error_x": {
             "color": "#2a3f5f"
            },
            "error_y": {
             "color": "#2a3f5f"
            },
            "marker": {
             "line": {
              "color": "#E5ECF6",
              "width": 0.5
             },
             "pattern": {
              "fillmode": "overlay",
              "size": 10,
              "solidity": 0.2
             }
            },
            "type": "bar"
           }
          ],
          "barpolar": [
           {
            "marker": {
             "line": {
              "color": "#E5ECF6",
              "width": 0.5
             },
             "pattern": {
              "fillmode": "overlay",
              "size": 10,
              "solidity": 0.2
             }
            },
            "type": "barpolar"
           }
          ],
          "carpet": [
           {
            "aaxis": {
             "endlinecolor": "#2a3f5f",
             "gridcolor": "white",
             "linecolor": "white",
             "minorgridcolor": "white",
             "startlinecolor": "#2a3f5f"
            },
            "baxis": {
             "endlinecolor": "#2a3f5f",
             "gridcolor": "white",
             "linecolor": "white",
             "minorgridcolor": "white",
             "startlinecolor": "#2a3f5f"
            },
            "type": "carpet"
           }
          ],
          "choropleth": [
           {
            "colorbar": {
             "outlinewidth": 0,
             "ticks": ""
            },
            "type": "choropleth"
           }
          ],
          "contour": [
           {
            "colorbar": {
             "outlinewidth": 0,
             "ticks": ""
            },
            "colorscale": [
             [
              0,
              "#0d0887"
             ],
             [
              0.1111111111111111,
              "#46039f"
             ],
             [
              0.2222222222222222,
              "#7201a8"
             ],
             [
              0.3333333333333333,
              "#9c179e"
             ],
             [
              0.4444444444444444,
              "#bd3786"
             ],
             [
              0.5555555555555556,
              "#d8576b"
             ],
             [
              0.6666666666666666,
              "#ed7953"
             ],
             [
              0.7777777777777778,
              "#fb9f3a"
             ],
             [
              0.8888888888888888,
              "#fdca26"
             ],
             [
              1,
              "#f0f921"
             ]
            ],
            "type": "contour"
           }
          ],
          "contourcarpet": [
           {
            "colorbar": {
             "outlinewidth": 0,
             "ticks": ""
            },
            "type": "contourcarpet"
           }
          ],
          "heatmap": [
           {
            "colorbar": {
             "outlinewidth": 0,
             "ticks": ""
            },
            "colorscale": [
             [
              0,
              "#0d0887"
             ],
             [
              0.1111111111111111,
              "#46039f"
             ],
             [
              0.2222222222222222,
              "#7201a8"
             ],
             [
              0.3333333333333333,
              "#9c179e"
             ],
             [
              0.4444444444444444,
              "#bd3786"
             ],
             [
              0.5555555555555556,
              "#d8576b"
             ],
             [
              0.6666666666666666,
              "#ed7953"
             ],
             [
              0.7777777777777778,
              "#fb9f3a"
             ],
             [
              0.8888888888888888,
              "#fdca26"
             ],
             [
              1,
              "#f0f921"
             ]
            ],
            "type": "heatmap"
           }
          ],
          "heatmapgl": [
           {
            "colorbar": {
             "outlinewidth": 0,
             "ticks": ""
            },
            "colorscale": [
             [
              0,
              "#0d0887"
             ],
             [
              0.1111111111111111,
              "#46039f"
             ],
             [
              0.2222222222222222,
              "#7201a8"
             ],
             [
              0.3333333333333333,
              "#9c179e"
             ],
             [
              0.4444444444444444,
              "#bd3786"
             ],
             [
              0.5555555555555556,
              "#d8576b"
             ],
             [
              0.6666666666666666,
              "#ed7953"
             ],
             [
              0.7777777777777778,
              "#fb9f3a"
             ],
             [
              0.8888888888888888,
              "#fdca26"
             ],
             [
              1,
              "#f0f921"
             ]
            ],
            "type": "heatmapgl"
           }
          ],
          "histogram": [
           {
            "marker": {
             "pattern": {
              "fillmode": "overlay",
              "size": 10,
              "solidity": 0.2
             }
            },
            "type": "histogram"
           }
          ],
          "histogram2d": [
           {
            "colorbar": {
             "outlinewidth": 0,
             "ticks": ""
            },
            "colorscale": [
             [
              0,
              "#0d0887"
             ],
             [
              0.1111111111111111,
              "#46039f"
             ],
             [
              0.2222222222222222,
              "#7201a8"
             ],
             [
              0.3333333333333333,
              "#9c179e"
             ],
             [
              0.4444444444444444,
              "#bd3786"
             ],
             [
              0.5555555555555556,
              "#d8576b"
             ],
             [
              0.6666666666666666,
              "#ed7953"
             ],
             [
              0.7777777777777778,
              "#fb9f3a"
             ],
             [
              0.8888888888888888,
              "#fdca26"
             ],
             [
              1,
              "#f0f921"
             ]
            ],
            "type": "histogram2d"
           }
          ],
          "histogram2dcontour": [
           {
            "colorbar": {
             "outlinewidth": 0,
             "ticks": ""
            },
            "colorscale": [
             [
              0,
              "#0d0887"
             ],
             [
              0.1111111111111111,
              "#46039f"
             ],
             [
              0.2222222222222222,
              "#7201a8"
             ],
             [
              0.3333333333333333,
              "#9c179e"
             ],
             [
              0.4444444444444444,
              "#bd3786"
             ],
             [
              0.5555555555555556,
              "#d8576b"
             ],
             [
              0.6666666666666666,
              "#ed7953"
             ],
             [
              0.7777777777777778,
              "#fb9f3a"
             ],
             [
              0.8888888888888888,
              "#fdca26"
             ],
             [
              1,
              "#f0f921"
             ]
            ],
            "type": "histogram2dcontour"
           }
          ],
          "mesh3d": [
           {
            "colorbar": {
             "outlinewidth": 0,
             "ticks": ""
            },
            "type": "mesh3d"
           }
          ],
          "parcoords": [
           {
            "line": {
             "colorbar": {
              "outlinewidth": 0,
              "ticks": ""
             }
            },
            "type": "parcoords"
           }
          ],
          "pie": [
           {
            "automargin": true,
            "type": "pie"
           }
          ],
          "scatter": [
           {
            "marker": {
             "colorbar": {
              "outlinewidth": 0,
              "ticks": ""
             }
            },
            "type": "scatter"
           }
          ],
          "scatter3d": [
           {
            "line": {
             "colorbar": {
              "outlinewidth": 0,
              "ticks": ""
             }
            },
            "marker": {
             "colorbar": {
              "outlinewidth": 0,
              "ticks": ""
             }
            },
            "type": "scatter3d"
           }
          ],
          "scattercarpet": [
           {
            "marker": {
             "colorbar": {
              "outlinewidth": 0,
              "ticks": ""
             }
            },
            "type": "scattercarpet"
           }
          ],
          "scattergeo": [
           {
            "marker": {
             "colorbar": {
              "outlinewidth": 0,
              "ticks": ""
             }
            },
            "type": "scattergeo"
           }
          ],
          "scattergl": [
           {
            "marker": {
             "colorbar": {
              "outlinewidth": 0,
              "ticks": ""
             }
            },
            "type": "scattergl"
           }
          ],
          "scattermapbox": [
           {
            "marker": {
             "colorbar": {
              "outlinewidth": 0,
              "ticks": ""
             }
            },
            "type": "scattermapbox"
           }
          ],
          "scatterpolar": [
           {
            "marker": {
             "colorbar": {
              "outlinewidth": 0,
              "ticks": ""
             }
            },
            "type": "scatterpolar"
           }
          ],
          "scatterpolargl": [
           {
            "marker": {
             "colorbar": {
              "outlinewidth": 0,
              "ticks": ""
             }
            },
            "type": "scatterpolargl"
           }
          ],
          "scatterternary": [
           {
            "marker": {
             "colorbar": {
              "outlinewidth": 0,
              "ticks": ""
             }
            },
            "type": "scatterternary"
           }
          ],
          "surface": [
           {
            "colorbar": {
             "outlinewidth": 0,
             "ticks": ""
            },
            "colorscale": [
             [
              0,
              "#0d0887"
             ],
             [
              0.1111111111111111,
              "#46039f"
             ],
             [
              0.2222222222222222,
              "#7201a8"
             ],
             [
              0.3333333333333333,
              "#9c179e"
             ],
             [
              0.4444444444444444,
              "#bd3786"
             ],
             [
              0.5555555555555556,
              "#d8576b"
             ],
             [
              0.6666666666666666,
              "#ed7953"
             ],
             [
              0.7777777777777778,
              "#fb9f3a"
             ],
             [
              0.8888888888888888,
              "#fdca26"
             ],
             [
              1,
              "#f0f921"
             ]
            ],
            "type": "surface"
           }
          ],
          "table": [
           {
            "cells": {
             "fill": {
              "color": "#EBF0F8"
             },
             "line": {
              "color": "white"
             }
            },
            "header": {
             "fill": {
              "color": "#C8D4E3"
             },
             "line": {
              "color": "white"
             }
            },
            "type": "table"
           }
          ]
         },
         "layout": {
          "annotationdefaults": {
           "arrowcolor": "#2a3f5f",
           "arrowhead": 0,
           "arrowwidth": 1
          },
          "autotypenumbers": "strict",
          "coloraxis": {
           "colorbar": {
            "outlinewidth": 0,
            "ticks": ""
           }
          },
          "colorscale": {
           "diverging": [
            [
             0,
             "#8e0152"
            ],
            [
             0.1,
             "#c51b7d"
            ],
            [
             0.2,
             "#de77ae"
            ],
            [
             0.3,
             "#f1b6da"
            ],
            [
             0.4,
             "#fde0ef"
            ],
            [
             0.5,
             "#f7f7f7"
            ],
            [
             0.6,
             "#e6f5d0"
            ],
            [
             0.7,
             "#b8e186"
            ],
            [
             0.8,
             "#7fbc41"
            ],
            [
             0.9,
             "#4d9221"
            ],
            [
             1,
             "#276419"
            ]
           ],
           "sequential": [
            [
             0,
             "#0d0887"
            ],
            [
             0.1111111111111111,
             "#46039f"
            ],
            [
             0.2222222222222222,
             "#7201a8"
            ],
            [
             0.3333333333333333,
             "#9c179e"
            ],
            [
             0.4444444444444444,
             "#bd3786"
            ],
            [
             0.5555555555555556,
             "#d8576b"
            ],
            [
             0.6666666666666666,
             "#ed7953"
            ],
            [
             0.7777777777777778,
             "#fb9f3a"
            ],
            [
             0.8888888888888888,
             "#fdca26"
            ],
            [
             1,
             "#f0f921"
            ]
           ],
           "sequentialminus": [
            [
             0,
             "#0d0887"
            ],
            [
             0.1111111111111111,
             "#46039f"
            ],
            [
             0.2222222222222222,
             "#7201a8"
            ],
            [
             0.3333333333333333,
             "#9c179e"
            ],
            [
             0.4444444444444444,
             "#bd3786"
            ],
            [
             0.5555555555555556,
             "#d8576b"
            ],
            [
             0.6666666666666666,
             "#ed7953"
            ],
            [
             0.7777777777777778,
             "#fb9f3a"
            ],
            [
             0.8888888888888888,
             "#fdca26"
            ],
            [
             1,
             "#f0f921"
            ]
           ]
          },
          "colorway": [
           "#636efa",
           "#EF553B",
           "#00cc96",
           "#ab63fa",
           "#FFA15A",
           "#19d3f3",
           "#FF6692",
           "#B6E880",
           "#FF97FF",
           "#FECB52"
          ],
          "font": {
           "color": "#2a3f5f"
          },
          "geo": {
           "bgcolor": "white",
           "lakecolor": "white",
           "landcolor": "#E5ECF6",
           "showlakes": true,
           "showland": true,
           "subunitcolor": "white"
          },
          "hoverlabel": {
           "align": "left"
          },
          "hovermode": "closest",
          "mapbox": {
           "style": "light"
          },
          "paper_bgcolor": "white",
          "plot_bgcolor": "#E5ECF6",
          "polar": {
           "angularaxis": {
            "gridcolor": "white",
            "linecolor": "white",
            "ticks": ""
           },
           "bgcolor": "#E5ECF6",
           "radialaxis": {
            "gridcolor": "white",
            "linecolor": "white",
            "ticks": ""
           }
          },
          "scene": {
           "xaxis": {
            "backgroundcolor": "#E5ECF6",
            "gridcolor": "white",
            "gridwidth": 2,
            "linecolor": "white",
            "showbackground": true,
            "ticks": "",
            "zerolinecolor": "white"
           },
           "yaxis": {
            "backgroundcolor": "#E5ECF6",
            "gridcolor": "white",
            "gridwidth": 2,
            "linecolor": "white",
            "showbackground": true,
            "ticks": "",
            "zerolinecolor": "white"
           },
           "zaxis": {
            "backgroundcolor": "#E5ECF6",
            "gridcolor": "white",
            "gridwidth": 2,
            "linecolor": "white",
            "showbackground": true,
            "ticks": "",
            "zerolinecolor": "white"
           }
          },
          "shapedefaults": {
           "line": {
            "color": "#2a3f5f"
           }
          },
          "ternary": {
           "aaxis": {
            "gridcolor": "white",
            "linecolor": "white",
            "ticks": ""
           },
           "baxis": {
            "gridcolor": "white",
            "linecolor": "white",
            "ticks": ""
           },
           "bgcolor": "#E5ECF6",
           "caxis": {
            "gridcolor": "white",
            "linecolor": "white",
            "ticks": ""
           }
          },
          "title": {
           "x": 0.05
          },
          "xaxis": {
           "automargin": true,
           "gridcolor": "white",
           "linecolor": "white",
           "ticks": "",
           "title": {
            "standoff": 15
           },
           "zerolinecolor": "white",
           "zerolinewidth": 2
          },
          "yaxis": {
           "automargin": true,
           "gridcolor": "white",
           "linecolor": "white",
           "ticks": "",
           "title": {
            "standoff": 15
           },
           "zerolinecolor": "white",
           "zerolinewidth": 2
          }
         }
        },
        "title": {
         "text": "Box plot - Idade dos clientes"
        },
        "xaxis": {
         "anchor": "y",
         "domain": [
          0,
          1
         ],
         "title": {
          "text": ""
         }
        },
        "yaxis": {
         "anchor": "x",
         "domain": [
          0,
          1
         ],
         "title": {
          "text": "Idade"
         }
        }
       }
      },
      "text/html": [
       "<div>                            <div id=\"66fde5d2-0f43-4b36-8cfb-fdbbacf7d922\" class=\"plotly-graph-div\" style=\"height:525px; width:100%;\"></div>            <script type=\"text/javascript\">                require([\"plotly\"], function(Plotly) {                    window.PLOTLYENV=window.PLOTLYENV || {};                                    if (document.getElementById(\"66fde5d2-0f43-4b36-8cfb-fdbbacf7d922\")) {                    Plotly.newPlot(                        \"66fde5d2-0f43-4b36-8cfb-fdbbacf7d922\",                        [{\"alignmentgroup\":\"True\",\"hovertemplate\":\"Idade=%{x}<br>Total gasto pelo cliente=%{y}<extra></extra>\",\"legendgroup\":\"\",\"marker\":{\"color\":\"#00CC96\"},\"name\":\"\",\"notched\":false,\"offsetgroup\":\"\",\"orientation\":\"v\",\"showlegend\":false,\"type\":\"box\",\"x\":[23,19,60,46,45,53,30,24,25,66,53,62,46,33,73,31,30,46,68,43,62,52,34,36,73,49,32,31,32,28,53,62,40,56,49,65,48,20,36,36,22,70,59,56,41,33,43,70,55,27,39,48,25,69,56,44,64,35,58,43,21,35,53,39,59,44,27,42,19,35,60,68,31,61,61,65,40,52,63,46,20,28,24,20,65,44,34,65,39,60,40,64,56,71,69,19,66,21,38,44,37,51,39,28,31,30,35,32,71,35,67,27,32,30,41,38,52,64,28,39,73,61,20,52,67,31,42,66,44,67,39,29,48,51,19,29,72,53,32,49,25,63,68,68,24,64,40,48,72,36,37,67,20,22,54,62,55,49,58,49,24,62,72,41,21,65,26,61,52,59,57,18,31,51,36,29,67,70,46,72,35,52,54,55,51,20,31,62,22],\"x0\":\" \",\"xaxis\":\"x\",\"y\":[1074.93,517.43,887.5600000000002,540.56,590.52,143.91,461.02,832.3000000000001,1644.8600000000001,2205.590000000001,143.88,403.46000000000004,1068.82,372.65,96.56,1801.4700000000007,800.82,160.3,538.95,1517.3800000000006,256.51,3185.8600000000006,209.24,308.84,660.22,1395.2300000000002,310.61,679.5500000000001,966.5700000000002,1485.0400000000004,1659.5400000000002,904.13,2117.3000000000006,2303.2599999999998,645.45,696.0100000000002,2640.7200000000003,1019.44,1894.6700000000003,971.26,3560.6,1951.9000000000005,1175.6100000000001,1036.34,1143.35,1713.5800000000002,832.8200000000002,857.8000000000001,695.4400000000003,2262.16,1539.88,783.97,1691.9400000000003,1196.0100000000004,436.07,853.7800000000001,1312.9,1152.7100000000003,996.69,598.27,1954.97,1111.8800000000003,276.1,1625.47,819.7000000000003,351.29999999999995,62.97,402.87000000000006,30.959999999999997,41.98,85.4,107.91999999999999,483.53000000000003,584.93,792.8000000000003,2535.0599999999995,1202.8700000000001,2033.6900000000003,1370.92,912.45,947.4000000000001,806.6500000000003,525.8100000000001,459.21999999999997,1096.24,1272.3000000000002,913.2700000000001,873.96,909.6900000000002,471.48999999999995,13.96,3.49,26.43,811.1600000000001,1438.7700000000007,559.6899999999999,686.2800000000001,291.76,2287.24,426.8,693.32,306.70000000000005,526.7100000000002,910.7800000000001,514.68,19.45,317.75,559.25,352.42,886.0500000000001,879.4100000000003,399.27,1138.85,394.53999999999996,1452.6100000000001,745.03,588.27,65.85,191.66,77.8,22.41,45.69,7.47,707.3000000000001,991.4400000000002,516.8000000000001,341.75,359.12000000000006,268.28,5.99,83.92999999999999,799.85,373.61,672.74,682.9200000000002,2.58,300.14,54.86,10.96,21.92,247.80999999999997,398.77,306.86,1179.71,81.89,7.4399999999999995,2.48,170.71,52.65,23.95,80.61999999999999,53.230000000000004,30.88,338.89,132.84,525.98,14.97,172.92,18.950000000000003,22.79,161.29000000000002,29.89,16.49,212.24,11.97,77.72,6.7,13.4,20.1,20.1,23.96,21.98,720.97,63.96,5.4,15.87,70.0,8.62,31.96,516.0,172.0,299.96,128.97,57.78999999999999,16.9,25.349999999999998,8.45,11.99,95.97],\"y0\":\" \",\"yaxis\":\"y\"}],                        {\"boxmode\":\"group\",\"legend\":{\"tracegroupgap\":0},\"margin\":{\"t\":60},\"template\":{\"data\":{\"bar\":[{\"error_x\":{\"color\":\"#2a3f5f\"},\"error_y\":{\"color\":\"#2a3f5f\"},\"marker\":{\"line\":{\"color\":\"#E5ECF6\",\"width\":0.5},\"pattern\":{\"fillmode\":\"overlay\",\"size\":10,\"solidity\":0.2}},\"type\":\"bar\"}],\"barpolar\":[{\"marker\":{\"line\":{\"color\":\"#E5ECF6\",\"width\":0.5},\"pattern\":{\"fillmode\":\"overlay\",\"size\":10,\"solidity\":0.2}},\"type\":\"barpolar\"}],\"carpet\":[{\"aaxis\":{\"endlinecolor\":\"#2a3f5f\",\"gridcolor\":\"white\",\"linecolor\":\"white\",\"minorgridcolor\":\"white\",\"startlinecolor\":\"#2a3f5f\"},\"baxis\":{\"endlinecolor\":\"#2a3f5f\",\"gridcolor\":\"white\",\"linecolor\":\"white\",\"minorgridcolor\":\"white\",\"startlinecolor\":\"#2a3f5f\"},\"type\":\"carpet\"}],\"choropleth\":[{\"colorbar\":{\"outlinewidth\":0,\"ticks\":\"\"},\"type\":\"choropleth\"}],\"contour\":[{\"colorbar\":{\"outlinewidth\":0,\"ticks\":\"\"},\"colorscale\":[[0.0,\"#0d0887\"],[0.1111111111111111,\"#46039f\"],[0.2222222222222222,\"#7201a8\"],[0.3333333333333333,\"#9c179e\"],[0.4444444444444444,\"#bd3786\"],[0.5555555555555556,\"#d8576b\"],[0.6666666666666666,\"#ed7953\"],[0.7777777777777778,\"#fb9f3a\"],[0.8888888888888888,\"#fdca26\"],[1.0,\"#f0f921\"]],\"type\":\"contour\"}],\"contourcarpet\":[{\"colorbar\":{\"outlinewidth\":0,\"ticks\":\"\"},\"type\":\"contourcarpet\"}],\"heatmap\":[{\"colorbar\":{\"outlinewidth\":0,\"ticks\":\"\"},\"colorscale\":[[0.0,\"#0d0887\"],[0.1111111111111111,\"#46039f\"],[0.2222222222222222,\"#7201a8\"],[0.3333333333333333,\"#9c179e\"],[0.4444444444444444,\"#bd3786\"],[0.5555555555555556,\"#d8576b\"],[0.6666666666666666,\"#ed7953\"],[0.7777777777777778,\"#fb9f3a\"],[0.8888888888888888,\"#fdca26\"],[1.0,\"#f0f921\"]],\"type\":\"heatmap\"}],\"heatmapgl\":[{\"colorbar\":{\"outlinewidth\":0,\"ticks\":\"\"},\"colorscale\":[[0.0,\"#0d0887\"],[0.1111111111111111,\"#46039f\"],[0.2222222222222222,\"#7201a8\"],[0.3333333333333333,\"#9c179e\"],[0.4444444444444444,\"#bd3786\"],[0.5555555555555556,\"#d8576b\"],[0.6666666666666666,\"#ed7953\"],[0.7777777777777778,\"#fb9f3a\"],[0.8888888888888888,\"#fdca26\"],[1.0,\"#f0f921\"]],\"type\":\"heatmapgl\"}],\"histogram\":[{\"marker\":{\"pattern\":{\"fillmode\":\"overlay\",\"size\":10,\"solidity\":0.2}},\"type\":\"histogram\"}],\"histogram2d\":[{\"colorbar\":{\"outlinewidth\":0,\"ticks\":\"\"},\"colorscale\":[[0.0,\"#0d0887\"],[0.1111111111111111,\"#46039f\"],[0.2222222222222222,\"#7201a8\"],[0.3333333333333333,\"#9c179e\"],[0.4444444444444444,\"#bd3786\"],[0.5555555555555556,\"#d8576b\"],[0.6666666666666666,\"#ed7953\"],[0.7777777777777778,\"#fb9f3a\"],[0.8888888888888888,\"#fdca26\"],[1.0,\"#f0f921\"]],\"type\":\"histogram2d\"}],\"histogram2dcontour\":[{\"colorbar\":{\"outlinewidth\":0,\"ticks\":\"\"},\"colorscale\":[[0.0,\"#0d0887\"],[0.1111111111111111,\"#46039f\"],[0.2222222222222222,\"#7201a8\"],[0.3333333333333333,\"#9c179e\"],[0.4444444444444444,\"#bd3786\"],[0.5555555555555556,\"#d8576b\"],[0.6666666666666666,\"#ed7953\"],[0.7777777777777778,\"#fb9f3a\"],[0.8888888888888888,\"#fdca26\"],[1.0,\"#f0f921\"]],\"type\":\"histogram2dcontour\"}],\"mesh3d\":[{\"colorbar\":{\"outlinewidth\":0,\"ticks\":\"\"},\"type\":\"mesh3d\"}],\"parcoords\":[{\"line\":{\"colorbar\":{\"outlinewidth\":0,\"ticks\":\"\"}},\"type\":\"parcoords\"}],\"pie\":[{\"automargin\":true,\"type\":\"pie\"}],\"scatter\":[{\"marker\":{\"colorbar\":{\"outlinewidth\":0,\"ticks\":\"\"}},\"type\":\"scatter\"}],\"scatter3d\":[{\"line\":{\"colorbar\":{\"outlinewidth\":0,\"ticks\":\"\"}},\"marker\":{\"colorbar\":{\"outlinewidth\":0,\"ticks\":\"\"}},\"type\":\"scatter3d\"}],\"scattercarpet\":[{\"marker\":{\"colorbar\":{\"outlinewidth\":0,\"ticks\":\"\"}},\"type\":\"scattercarpet\"}],\"scattergeo\":[{\"marker\":{\"colorbar\":{\"outlinewidth\":0,\"ticks\":\"\"}},\"type\":\"scattergeo\"}],\"scattergl\":[{\"marker\":{\"colorbar\":{\"outlinewidth\":0,\"ticks\":\"\"}},\"type\":\"scattergl\"}],\"scattermapbox\":[{\"marker\":{\"colorbar\":{\"outlinewidth\":0,\"ticks\":\"\"}},\"type\":\"scattermapbox\"}],\"scatterpolar\":[{\"marker\":{\"colorbar\":{\"outlinewidth\":0,\"ticks\":\"\"}},\"type\":\"scatterpolar\"}],\"scatterpolargl\":[{\"marker\":{\"colorbar\":{\"outlinewidth\":0,\"ticks\":\"\"}},\"type\":\"scatterpolargl\"}],\"scatterternary\":[{\"marker\":{\"colorbar\":{\"outlinewidth\":0,\"ticks\":\"\"}},\"type\":\"scatterternary\"}],\"surface\":[{\"colorbar\":{\"outlinewidth\":0,\"ticks\":\"\"},\"colorscale\":[[0.0,\"#0d0887\"],[0.1111111111111111,\"#46039f\"],[0.2222222222222222,\"#7201a8\"],[0.3333333333333333,\"#9c179e\"],[0.4444444444444444,\"#bd3786\"],[0.5555555555555556,\"#d8576b\"],[0.6666666666666666,\"#ed7953\"],[0.7777777777777778,\"#fb9f3a\"],[0.8888888888888888,\"#fdca26\"],[1.0,\"#f0f921\"]],\"type\":\"surface\"}],\"table\":[{\"cells\":{\"fill\":{\"color\":\"#EBF0F8\"},\"line\":{\"color\":\"white\"}},\"header\":{\"fill\":{\"color\":\"#C8D4E3\"},\"line\":{\"color\":\"white\"}},\"type\":\"table\"}]},\"layout\":{\"annotationdefaults\":{\"arrowcolor\":\"#2a3f5f\",\"arrowhead\":0,\"arrowwidth\":1},\"autotypenumbers\":\"strict\",\"coloraxis\":{\"colorbar\":{\"outlinewidth\":0,\"ticks\":\"\"}},\"colorscale\":{\"diverging\":[[0,\"#8e0152\"],[0.1,\"#c51b7d\"],[0.2,\"#de77ae\"],[0.3,\"#f1b6da\"],[0.4,\"#fde0ef\"],[0.5,\"#f7f7f7\"],[0.6,\"#e6f5d0\"],[0.7,\"#b8e186\"],[0.8,\"#7fbc41\"],[0.9,\"#4d9221\"],[1,\"#276419\"]],\"sequential\":[[0.0,\"#0d0887\"],[0.1111111111111111,\"#46039f\"],[0.2222222222222222,\"#7201a8\"],[0.3333333333333333,\"#9c179e\"],[0.4444444444444444,\"#bd3786\"],[0.5555555555555556,\"#d8576b\"],[0.6666666666666666,\"#ed7953\"],[0.7777777777777778,\"#fb9f3a\"],[0.8888888888888888,\"#fdca26\"],[1.0,\"#f0f921\"]],\"sequentialminus\":[[0.0,\"#0d0887\"],[0.1111111111111111,\"#46039f\"],[0.2222222222222222,\"#7201a8\"],[0.3333333333333333,\"#9c179e\"],[0.4444444444444444,\"#bd3786\"],[0.5555555555555556,\"#d8576b\"],[0.6666666666666666,\"#ed7953\"],[0.7777777777777778,\"#fb9f3a\"],[0.8888888888888888,\"#fdca26\"],[1.0,\"#f0f921\"]]},\"colorway\":[\"#636efa\",\"#EF553B\",\"#00cc96\",\"#ab63fa\",\"#FFA15A\",\"#19d3f3\",\"#FF6692\",\"#B6E880\",\"#FF97FF\",\"#FECB52\"],\"font\":{\"color\":\"#2a3f5f\"},\"geo\":{\"bgcolor\":\"white\",\"lakecolor\":\"white\",\"landcolor\":\"#E5ECF6\",\"showlakes\":true,\"showland\":true,\"subunitcolor\":\"white\"},\"hoverlabel\":{\"align\":\"left\"},\"hovermode\":\"closest\",\"mapbox\":{\"style\":\"light\"},\"paper_bgcolor\":\"white\",\"plot_bgcolor\":\"#E5ECF6\",\"polar\":{\"angularaxis\":{\"gridcolor\":\"white\",\"linecolor\":\"white\",\"ticks\":\"\"},\"bgcolor\":\"#E5ECF6\",\"radialaxis\":{\"gridcolor\":\"white\",\"linecolor\":\"white\",\"ticks\":\"\"}},\"scene\":{\"xaxis\":{\"backgroundcolor\":\"#E5ECF6\",\"gridcolor\":\"white\",\"gridwidth\":2,\"linecolor\":\"white\",\"showbackground\":true,\"ticks\":\"\",\"zerolinecolor\":\"white\"},\"yaxis\":{\"backgroundcolor\":\"#E5ECF6\",\"gridcolor\":\"white\",\"gridwidth\":2,\"linecolor\":\"white\",\"showbackground\":true,\"ticks\":\"\",\"zerolinecolor\":\"white\"},\"zaxis\":{\"backgroundcolor\":\"#E5ECF6\",\"gridcolor\":\"white\",\"gridwidth\":2,\"linecolor\":\"white\",\"showbackground\":true,\"ticks\":\"\",\"zerolinecolor\":\"white\"}},\"shapedefaults\":{\"line\":{\"color\":\"#2a3f5f\"}},\"ternary\":{\"aaxis\":{\"gridcolor\":\"white\",\"linecolor\":\"white\",\"ticks\":\"\"},\"baxis\":{\"gridcolor\":\"white\",\"linecolor\":\"white\",\"ticks\":\"\"},\"bgcolor\":\"#E5ECF6\",\"caxis\":{\"gridcolor\":\"white\",\"linecolor\":\"white\",\"ticks\":\"\"}},\"title\":{\"x\":0.05},\"xaxis\":{\"automargin\":true,\"gridcolor\":\"white\",\"linecolor\":\"white\",\"ticks\":\"\",\"title\":{\"standoff\":15},\"zerolinecolor\":\"white\",\"zerolinewidth\":2},\"yaxis\":{\"automargin\":true,\"gridcolor\":\"white\",\"linecolor\":\"white\",\"ticks\":\"\",\"title\":{\"standoff\":15},\"zerolinecolor\":\"white\",\"zerolinewidth\":2}}},\"title\":{\"text\":\"Box plot - Idade dos clientes\"},\"xaxis\":{\"anchor\":\"y\",\"domain\":[0.0,1.0],\"title\":{\"text\":\"\"}},\"yaxis\":{\"anchor\":\"x\",\"domain\":[0.0,1.0],\"title\":{\"text\":\"Idade\"}}},                        {\"responsive\": true}                    ).then(function(){\n",
       "                            \n",
       "var gd = document.getElementById('66fde5d2-0f43-4b36-8cfb-fdbbacf7d922');\n",
       "var x = new MutationObserver(function (mutations, observer) {{\n",
       "        var display = window.getComputedStyle(gd).display;\n",
       "        if (!display || display === 'none') {{\n",
       "            console.log([gd, 'removed!']);\n",
       "            Plotly.purge(gd);\n",
       "            observer.disconnect();\n",
       "        }}\n",
       "}});\n",
       "\n",
       "// Listen for the removal of the full notebook cells\n",
       "var notebookContainer = gd.closest('#notebook-container');\n",
       "if (notebookContainer) {{\n",
       "    x.observe(notebookContainer, {childList: true});\n",
       "}}\n",
       "\n",
       "// Listen for the clearing of the current output cell\n",
       "var outputEl = gd.closest('.output');\n",
       "if (outputEl) {{\n",
       "    x.observe(outputEl, {childList: true});\n",
       "}}\n",
       "\n",
       "                        })                };                });            </script>        </div>"
      ]
     },
     "metadata": {},
     "output_type": "display_data"
    }
   ],
   "source": [
    "fig_box_plot_idade = px.box(tabela_cliente_gasto_idade, x=\"idade\", y=\"total_mes\", labels={\"total_mes\": \"Total gasto pelo cliente\", \"idade\": \"Idade\"} )\n",
    "fig_box_plot_idade.update_traces(marker = {'color': '#00CC96'})\n",
    "fig_box_plot_idade.update_layout(title = 'Box plot - Idade dos clientes')\n",
    "fig_box_plot_idade.update_xaxes(title = '')\n",
    "fig_box_plot_idade.update_yaxes(title = 'Idade')\n",
    "fig_box_plot_idade.show()"
   ]
  },
  {
   "cell_type": "code",
   "execution_count": 116,
   "id": "10489d5f",
   "metadata": {},
   "outputs": [
    {
     "name": "stdout",
     "output_type": "stream",
     "text": [
      "Correlação dos dados: -0.046717437551836806\n"
     ]
    }
   ],
   "source": [
    "# Calculando a correlação dos dados\n",
    "Correlação= tabela_cliente_gasto_idade['total_mes'].corr(tabela_cliente_gasto_idade['idade'])\n",
    "print(f\"Correlação dos dados:\", Correlação)"
   ]
  },
  {
   "cell_type": "code",
   "execution_count": 117,
   "id": "168d0d63",
   "metadata": {},
   "outputs": [
    {
     "data": {
      "application/vnd.plotly.v1+json": {
       "config": {
        "plotlyServerURL": "https://plot.ly"
       },
       "data": [
        {
         "alignmentgroup": "True",
         "hovertemplate": "Dia da semana=%{x}<br>Entrada total=%{y}<extra></extra>",
         "legendgroup": "",
         "marker": {
          "color": "#00CC96",
          "pattern": {
           "shape": ""
          }
         },
         "name": "",
         "offsetgroup": "",
         "orientation": "v",
         "showlegend": false,
         "textposition": "auto",
         "type": "bar",
         "x": [
          "Segunda-feira",
          "Terça-feira",
          "Quarta-feira",
          "Quinta-feira",
          "Sexta-feira",
          "Sábado",
          "Domingo"
         ],
         "xaxis": "x",
         "y": [
          18568.22999999995,
          21081.129999999946,
          19337.549999999934,
          13880.489999999949,
          17301.779999999955,
          17514.259999999937,
          13850.67999999995
         ],
         "yaxis": "y"
        }
       ],
       "layout": {
        "barmode": "stack",
        "legend": {
         "tracegroupgap": 0
        },
        "margin": {
         "t": 60
        },
        "template": {
         "data": {
          "bar": [
           {
            "error_x": {
             "color": "#2a3f5f"
            },
            "error_y": {
             "color": "#2a3f5f"
            },
            "marker": {
             "line": {
              "color": "#E5ECF6",
              "width": 0.5
             },
             "pattern": {
              "fillmode": "overlay",
              "size": 10,
              "solidity": 0.2
             }
            },
            "type": "bar"
           }
          ],
          "barpolar": [
           {
            "marker": {
             "line": {
              "color": "#E5ECF6",
              "width": 0.5
             },
             "pattern": {
              "fillmode": "overlay",
              "size": 10,
              "solidity": 0.2
             }
            },
            "type": "barpolar"
           }
          ],
          "carpet": [
           {
            "aaxis": {
             "endlinecolor": "#2a3f5f",
             "gridcolor": "white",
             "linecolor": "white",
             "minorgridcolor": "white",
             "startlinecolor": "#2a3f5f"
            },
            "baxis": {
             "endlinecolor": "#2a3f5f",
             "gridcolor": "white",
             "linecolor": "white",
             "minorgridcolor": "white",
             "startlinecolor": "#2a3f5f"
            },
            "type": "carpet"
           }
          ],
          "choropleth": [
           {
            "colorbar": {
             "outlinewidth": 0,
             "ticks": ""
            },
            "type": "choropleth"
           }
          ],
          "contour": [
           {
            "colorbar": {
             "outlinewidth": 0,
             "ticks": ""
            },
            "colorscale": [
             [
              0,
              "#0d0887"
             ],
             [
              0.1111111111111111,
              "#46039f"
             ],
             [
              0.2222222222222222,
              "#7201a8"
             ],
             [
              0.3333333333333333,
              "#9c179e"
             ],
             [
              0.4444444444444444,
              "#bd3786"
             ],
             [
              0.5555555555555556,
              "#d8576b"
             ],
             [
              0.6666666666666666,
              "#ed7953"
             ],
             [
              0.7777777777777778,
              "#fb9f3a"
             ],
             [
              0.8888888888888888,
              "#fdca26"
             ],
             [
              1,
              "#f0f921"
             ]
            ],
            "type": "contour"
           }
          ],
          "contourcarpet": [
           {
            "colorbar": {
             "outlinewidth": 0,
             "ticks": ""
            },
            "type": "contourcarpet"
           }
          ],
          "heatmap": [
           {
            "colorbar": {
             "outlinewidth": 0,
             "ticks": ""
            },
            "colorscale": [
             [
              0,
              "#0d0887"
             ],
             [
              0.1111111111111111,
              "#46039f"
             ],
             [
              0.2222222222222222,
              "#7201a8"
             ],
             [
              0.3333333333333333,
              "#9c179e"
             ],
             [
              0.4444444444444444,
              "#bd3786"
             ],
             [
              0.5555555555555556,
              "#d8576b"
             ],
             [
              0.6666666666666666,
              "#ed7953"
             ],
             [
              0.7777777777777778,
              "#fb9f3a"
             ],
             [
              0.8888888888888888,
              "#fdca26"
             ],
             [
              1,
              "#f0f921"
             ]
            ],
            "type": "heatmap"
           }
          ],
          "heatmapgl": [
           {
            "colorbar": {
             "outlinewidth": 0,
             "ticks": ""
            },
            "colorscale": [
             [
              0,
              "#0d0887"
             ],
             [
              0.1111111111111111,
              "#46039f"
             ],
             [
              0.2222222222222222,
              "#7201a8"
             ],
             [
              0.3333333333333333,
              "#9c179e"
             ],
             [
              0.4444444444444444,
              "#bd3786"
             ],
             [
              0.5555555555555556,
              "#d8576b"
             ],
             [
              0.6666666666666666,
              "#ed7953"
             ],
             [
              0.7777777777777778,
              "#fb9f3a"
             ],
             [
              0.8888888888888888,
              "#fdca26"
             ],
             [
              1,
              "#f0f921"
             ]
            ],
            "type": "heatmapgl"
           }
          ],
          "histogram": [
           {
            "marker": {
             "pattern": {
              "fillmode": "overlay",
              "size": 10,
              "solidity": 0.2
             }
            },
            "type": "histogram"
           }
          ],
          "histogram2d": [
           {
            "colorbar": {
             "outlinewidth": 0,
             "ticks": ""
            },
            "colorscale": [
             [
              0,
              "#0d0887"
             ],
             [
              0.1111111111111111,
              "#46039f"
             ],
             [
              0.2222222222222222,
              "#7201a8"
             ],
             [
              0.3333333333333333,
              "#9c179e"
             ],
             [
              0.4444444444444444,
              "#bd3786"
             ],
             [
              0.5555555555555556,
              "#d8576b"
             ],
             [
              0.6666666666666666,
              "#ed7953"
             ],
             [
              0.7777777777777778,
              "#fb9f3a"
             ],
             [
              0.8888888888888888,
              "#fdca26"
             ],
             [
              1,
              "#f0f921"
             ]
            ],
            "type": "histogram2d"
           }
          ],
          "histogram2dcontour": [
           {
            "colorbar": {
             "outlinewidth": 0,
             "ticks": ""
            },
            "colorscale": [
             [
              0,
              "#0d0887"
             ],
             [
              0.1111111111111111,
              "#46039f"
             ],
             [
              0.2222222222222222,
              "#7201a8"
             ],
             [
              0.3333333333333333,
              "#9c179e"
             ],
             [
              0.4444444444444444,
              "#bd3786"
             ],
             [
              0.5555555555555556,
              "#d8576b"
             ],
             [
              0.6666666666666666,
              "#ed7953"
             ],
             [
              0.7777777777777778,
              "#fb9f3a"
             ],
             [
              0.8888888888888888,
              "#fdca26"
             ],
             [
              1,
              "#f0f921"
             ]
            ],
            "type": "histogram2dcontour"
           }
          ],
          "mesh3d": [
           {
            "colorbar": {
             "outlinewidth": 0,
             "ticks": ""
            },
            "type": "mesh3d"
           }
          ],
          "parcoords": [
           {
            "line": {
             "colorbar": {
              "outlinewidth": 0,
              "ticks": ""
             }
            },
            "type": "parcoords"
           }
          ],
          "pie": [
           {
            "automargin": true,
            "type": "pie"
           }
          ],
          "scatter": [
           {
            "marker": {
             "colorbar": {
              "outlinewidth": 0,
              "ticks": ""
             }
            },
            "type": "scatter"
           }
          ],
          "scatter3d": [
           {
            "line": {
             "colorbar": {
              "outlinewidth": 0,
              "ticks": ""
             }
            },
            "marker": {
             "colorbar": {
              "outlinewidth": 0,
              "ticks": ""
             }
            },
            "type": "scatter3d"
           }
          ],
          "scattercarpet": [
           {
            "marker": {
             "colorbar": {
              "outlinewidth": 0,
              "ticks": ""
             }
            },
            "type": "scattercarpet"
           }
          ],
          "scattergeo": [
           {
            "marker": {
             "colorbar": {
              "outlinewidth": 0,
              "ticks": ""
             }
            },
            "type": "scattergeo"
           }
          ],
          "scattergl": [
           {
            "marker": {
             "colorbar": {
              "outlinewidth": 0,
              "ticks": ""
             }
            },
            "type": "scattergl"
           }
          ],
          "scattermapbox": [
           {
            "marker": {
             "colorbar": {
              "outlinewidth": 0,
              "ticks": ""
             }
            },
            "type": "scattermapbox"
           }
          ],
          "scatterpolar": [
           {
            "marker": {
             "colorbar": {
              "outlinewidth": 0,
              "ticks": ""
             }
            },
            "type": "scatterpolar"
           }
          ],
          "scatterpolargl": [
           {
            "marker": {
             "colorbar": {
              "outlinewidth": 0,
              "ticks": ""
             }
            },
            "type": "scatterpolargl"
           }
          ],
          "scatterternary": [
           {
            "marker": {
             "colorbar": {
              "outlinewidth": 0,
              "ticks": ""
             }
            },
            "type": "scatterternary"
           }
          ],
          "surface": [
           {
            "colorbar": {
             "outlinewidth": 0,
             "ticks": ""
            },
            "colorscale": [
             [
              0,
              "#0d0887"
             ],
             [
              0.1111111111111111,
              "#46039f"
             ],
             [
              0.2222222222222222,
              "#7201a8"
             ],
             [
              0.3333333333333333,
              "#9c179e"
             ],
             [
              0.4444444444444444,
              "#bd3786"
             ],
             [
              0.5555555555555556,
              "#d8576b"
             ],
             [
              0.6666666666666666,
              "#ed7953"
             ],
             [
              0.7777777777777778,
              "#fb9f3a"
             ],
             [
              0.8888888888888888,
              "#fdca26"
             ],
             [
              1,
              "#f0f921"
             ]
            ],
            "type": "surface"
           }
          ],
          "table": [
           {
            "cells": {
             "fill": {
              "color": "#EBF0F8"
             },
             "line": {
              "color": "white"
             }
            },
            "header": {
             "fill": {
              "color": "#C8D4E3"
             },
             "line": {
              "color": "white"
             }
            },
            "type": "table"
           }
          ]
         },
         "layout": {
          "annotationdefaults": {
           "arrowcolor": "#2a3f5f",
           "arrowhead": 0,
           "arrowwidth": 1
          },
          "autotypenumbers": "strict",
          "coloraxis": {
           "colorbar": {
            "outlinewidth": 0,
            "ticks": ""
           }
          },
          "colorscale": {
           "diverging": [
            [
             0,
             "#8e0152"
            ],
            [
             0.1,
             "#c51b7d"
            ],
            [
             0.2,
             "#de77ae"
            ],
            [
             0.3,
             "#f1b6da"
            ],
            [
             0.4,
             "#fde0ef"
            ],
            [
             0.5,
             "#f7f7f7"
            ],
            [
             0.6,
             "#e6f5d0"
            ],
            [
             0.7,
             "#b8e186"
            ],
            [
             0.8,
             "#7fbc41"
            ],
            [
             0.9,
             "#4d9221"
            ],
            [
             1,
             "#276419"
            ]
           ],
           "sequential": [
            [
             0,
             "#0d0887"
            ],
            [
             0.1111111111111111,
             "#46039f"
            ],
            [
             0.2222222222222222,
             "#7201a8"
            ],
            [
             0.3333333333333333,
             "#9c179e"
            ],
            [
             0.4444444444444444,
             "#bd3786"
            ],
            [
             0.5555555555555556,
             "#d8576b"
            ],
            [
             0.6666666666666666,
             "#ed7953"
            ],
            [
             0.7777777777777778,
             "#fb9f3a"
            ],
            [
             0.8888888888888888,
             "#fdca26"
            ],
            [
             1,
             "#f0f921"
            ]
           ],
           "sequentialminus": [
            [
             0,
             "#0d0887"
            ],
            [
             0.1111111111111111,
             "#46039f"
            ],
            [
             0.2222222222222222,
             "#7201a8"
            ],
            [
             0.3333333333333333,
             "#9c179e"
            ],
            [
             0.4444444444444444,
             "#bd3786"
            ],
            [
             0.5555555555555556,
             "#d8576b"
            ],
            [
             0.6666666666666666,
             "#ed7953"
            ],
            [
             0.7777777777777778,
             "#fb9f3a"
            ],
            [
             0.8888888888888888,
             "#fdca26"
            ],
            [
             1,
             "#f0f921"
            ]
           ]
          },
          "colorway": [
           "#636efa",
           "#EF553B",
           "#00cc96",
           "#ab63fa",
           "#FFA15A",
           "#19d3f3",
           "#FF6692",
           "#B6E880",
           "#FF97FF",
           "#FECB52"
          ],
          "font": {
           "color": "#2a3f5f"
          },
          "geo": {
           "bgcolor": "white",
           "lakecolor": "white",
           "landcolor": "#E5ECF6",
           "showlakes": true,
           "showland": true,
           "subunitcolor": "white"
          },
          "hoverlabel": {
           "align": "left"
          },
          "hovermode": "closest",
          "mapbox": {
           "style": "light"
          },
          "paper_bgcolor": "white",
          "plot_bgcolor": "#E5ECF6",
          "polar": {
           "angularaxis": {
            "gridcolor": "white",
            "linecolor": "white",
            "ticks": ""
           },
           "bgcolor": "#E5ECF6",
           "radialaxis": {
            "gridcolor": "white",
            "linecolor": "white",
            "ticks": ""
           }
          },
          "scene": {
           "xaxis": {
            "backgroundcolor": "#E5ECF6",
            "gridcolor": "white",
            "gridwidth": 2,
            "linecolor": "white",
            "showbackground": true,
            "ticks": "",
            "zerolinecolor": "white"
           },
           "yaxis": {
            "backgroundcolor": "#E5ECF6",
            "gridcolor": "white",
            "gridwidth": 2,
            "linecolor": "white",
            "showbackground": true,
            "ticks": "",
            "zerolinecolor": "white"
           },
           "zaxis": {
            "backgroundcolor": "#E5ECF6",
            "gridcolor": "white",
            "gridwidth": 2,
            "linecolor": "white",
            "showbackground": true,
            "ticks": "",
            "zerolinecolor": "white"
           }
          },
          "shapedefaults": {
           "line": {
            "color": "#2a3f5f"
           }
          },
          "ternary": {
           "aaxis": {
            "gridcolor": "white",
            "linecolor": "white",
            "ticks": ""
           },
           "baxis": {
            "gridcolor": "white",
            "linecolor": "white",
            "ticks": ""
           },
           "bgcolor": "#E5ECF6",
           "caxis": {
            "gridcolor": "white",
            "linecolor": "white",
            "ticks": ""
           }
          },
          "title": {
           "x": 0.05
          },
          "xaxis": {
           "automargin": true,
           "gridcolor": "white",
           "linecolor": "white",
           "ticks": "",
           "title": {
            "standoff": 15
           },
           "zerolinecolor": "white",
           "zerolinewidth": 2
          },
          "yaxis": {
           "automargin": true,
           "gridcolor": "white",
           "linecolor": "white",
           "ticks": "",
           "title": {
            "standoff": 15
           },
           "zerolinecolor": "white",
           "zerolinewidth": 2
          }
         }
        },
        "title": {
         "text": "Entrada total por dia da semana no mês de novembro"
        },
        "xaxis": {
         "anchor": "y",
         "domain": [
          0,
          1
         ],
         "title": {
          "text": "Dia da semana"
         }
        },
        "yaxis": {
         "anchor": "x",
         "domain": [
          0,
          1
         ],
         "title": {
          "text": "Entrada"
         }
        }
       }
      },
      "text/html": [
       "<div>                            <div id=\"37f00db9-1a30-4e09-8685-5974facdec78\" class=\"plotly-graph-div\" style=\"height:525px; width:100%;\"></div>            <script type=\"text/javascript\">                require([\"plotly\"], function(Plotly) {                    window.PLOTLYENV=window.PLOTLYENV || {};                                    if (document.getElementById(\"37f00db9-1a30-4e09-8685-5974facdec78\")) {                    Plotly.newPlot(                        \"37f00db9-1a30-4e09-8685-5974facdec78\",                        [{\"alignmentgroup\":\"True\",\"hovertemplate\":\"Dia da semana=%{x}<br>Entrada total=%{y}<extra></extra>\",\"legendgroup\":\"\",\"marker\":{\"color\":\"#00CC96\",\"pattern\":{\"shape\":\"\"}},\"name\":\"\",\"offsetgroup\":\"\",\"orientation\":\"v\",\"showlegend\":false,\"textposition\":\"auto\",\"type\":\"bar\",\"x\":[\"Segunda-feira\",\"Ter\\u00e7a-feira\",\"Quarta-feira\",\"Quinta-feira\",\"Sexta-feira\",\"S\\u00e1bado\",\"Domingo\"],\"xaxis\":\"x\",\"y\":[18568.22999999995,21081.129999999946,19337.549999999934,13880.489999999949,17301.779999999955,17514.259999999937,13850.67999999995],\"yaxis\":\"y\"}],                        {\"barmode\":\"stack\",\"legend\":{\"tracegroupgap\":0},\"margin\":{\"t\":60},\"template\":{\"data\":{\"bar\":[{\"error_x\":{\"color\":\"#2a3f5f\"},\"error_y\":{\"color\":\"#2a3f5f\"},\"marker\":{\"line\":{\"color\":\"#E5ECF6\",\"width\":0.5},\"pattern\":{\"fillmode\":\"overlay\",\"size\":10,\"solidity\":0.2}},\"type\":\"bar\"}],\"barpolar\":[{\"marker\":{\"line\":{\"color\":\"#E5ECF6\",\"width\":0.5},\"pattern\":{\"fillmode\":\"overlay\",\"size\":10,\"solidity\":0.2}},\"type\":\"barpolar\"}],\"carpet\":[{\"aaxis\":{\"endlinecolor\":\"#2a3f5f\",\"gridcolor\":\"white\",\"linecolor\":\"white\",\"minorgridcolor\":\"white\",\"startlinecolor\":\"#2a3f5f\"},\"baxis\":{\"endlinecolor\":\"#2a3f5f\",\"gridcolor\":\"white\",\"linecolor\":\"white\",\"minorgridcolor\":\"white\",\"startlinecolor\":\"#2a3f5f\"},\"type\":\"carpet\"}],\"choropleth\":[{\"colorbar\":{\"outlinewidth\":0,\"ticks\":\"\"},\"type\":\"choropleth\"}],\"contour\":[{\"colorbar\":{\"outlinewidth\":0,\"ticks\":\"\"},\"colorscale\":[[0.0,\"#0d0887\"],[0.1111111111111111,\"#46039f\"],[0.2222222222222222,\"#7201a8\"],[0.3333333333333333,\"#9c179e\"],[0.4444444444444444,\"#bd3786\"],[0.5555555555555556,\"#d8576b\"],[0.6666666666666666,\"#ed7953\"],[0.7777777777777778,\"#fb9f3a\"],[0.8888888888888888,\"#fdca26\"],[1.0,\"#f0f921\"]],\"type\":\"contour\"}],\"contourcarpet\":[{\"colorbar\":{\"outlinewidth\":0,\"ticks\":\"\"},\"type\":\"contourcarpet\"}],\"heatmap\":[{\"colorbar\":{\"outlinewidth\":0,\"ticks\":\"\"},\"colorscale\":[[0.0,\"#0d0887\"],[0.1111111111111111,\"#46039f\"],[0.2222222222222222,\"#7201a8\"],[0.3333333333333333,\"#9c179e\"],[0.4444444444444444,\"#bd3786\"],[0.5555555555555556,\"#d8576b\"],[0.6666666666666666,\"#ed7953\"],[0.7777777777777778,\"#fb9f3a\"],[0.8888888888888888,\"#fdca26\"],[1.0,\"#f0f921\"]],\"type\":\"heatmap\"}],\"heatmapgl\":[{\"colorbar\":{\"outlinewidth\":0,\"ticks\":\"\"},\"colorscale\":[[0.0,\"#0d0887\"],[0.1111111111111111,\"#46039f\"],[0.2222222222222222,\"#7201a8\"],[0.3333333333333333,\"#9c179e\"],[0.4444444444444444,\"#bd3786\"],[0.5555555555555556,\"#d8576b\"],[0.6666666666666666,\"#ed7953\"],[0.7777777777777778,\"#fb9f3a\"],[0.8888888888888888,\"#fdca26\"],[1.0,\"#f0f921\"]],\"type\":\"heatmapgl\"}],\"histogram\":[{\"marker\":{\"pattern\":{\"fillmode\":\"overlay\",\"size\":10,\"solidity\":0.2}},\"type\":\"histogram\"}],\"histogram2d\":[{\"colorbar\":{\"outlinewidth\":0,\"ticks\":\"\"},\"colorscale\":[[0.0,\"#0d0887\"],[0.1111111111111111,\"#46039f\"],[0.2222222222222222,\"#7201a8\"],[0.3333333333333333,\"#9c179e\"],[0.4444444444444444,\"#bd3786\"],[0.5555555555555556,\"#d8576b\"],[0.6666666666666666,\"#ed7953\"],[0.7777777777777778,\"#fb9f3a\"],[0.8888888888888888,\"#fdca26\"],[1.0,\"#f0f921\"]],\"type\":\"histogram2d\"}],\"histogram2dcontour\":[{\"colorbar\":{\"outlinewidth\":0,\"ticks\":\"\"},\"colorscale\":[[0.0,\"#0d0887\"],[0.1111111111111111,\"#46039f\"],[0.2222222222222222,\"#7201a8\"],[0.3333333333333333,\"#9c179e\"],[0.4444444444444444,\"#bd3786\"],[0.5555555555555556,\"#d8576b\"],[0.6666666666666666,\"#ed7953\"],[0.7777777777777778,\"#fb9f3a\"],[0.8888888888888888,\"#fdca26\"],[1.0,\"#f0f921\"]],\"type\":\"histogram2dcontour\"}],\"mesh3d\":[{\"colorbar\":{\"outlinewidth\":0,\"ticks\":\"\"},\"type\":\"mesh3d\"}],\"parcoords\":[{\"line\":{\"colorbar\":{\"outlinewidth\":0,\"ticks\":\"\"}},\"type\":\"parcoords\"}],\"pie\":[{\"automargin\":true,\"type\":\"pie\"}],\"scatter\":[{\"marker\":{\"colorbar\":{\"outlinewidth\":0,\"ticks\":\"\"}},\"type\":\"scatter\"}],\"scatter3d\":[{\"line\":{\"colorbar\":{\"outlinewidth\":0,\"ticks\":\"\"}},\"marker\":{\"colorbar\":{\"outlinewidth\":0,\"ticks\":\"\"}},\"type\":\"scatter3d\"}],\"scattercarpet\":[{\"marker\":{\"colorbar\":{\"outlinewidth\":0,\"ticks\":\"\"}},\"type\":\"scattercarpet\"}],\"scattergeo\":[{\"marker\":{\"colorbar\":{\"outlinewidth\":0,\"ticks\":\"\"}},\"type\":\"scattergeo\"}],\"scattergl\":[{\"marker\":{\"colorbar\":{\"outlinewidth\":0,\"ticks\":\"\"}},\"type\":\"scattergl\"}],\"scattermapbox\":[{\"marker\":{\"colorbar\":{\"outlinewidth\":0,\"ticks\":\"\"}},\"type\":\"scattermapbox\"}],\"scatterpolar\":[{\"marker\":{\"colorbar\":{\"outlinewidth\":0,\"ticks\":\"\"}},\"type\":\"scatterpolar\"}],\"scatterpolargl\":[{\"marker\":{\"colorbar\":{\"outlinewidth\":0,\"ticks\":\"\"}},\"type\":\"scatterpolargl\"}],\"scatterternary\":[{\"marker\":{\"colorbar\":{\"outlinewidth\":0,\"ticks\":\"\"}},\"type\":\"scatterternary\"}],\"surface\":[{\"colorbar\":{\"outlinewidth\":0,\"ticks\":\"\"},\"colorscale\":[[0.0,\"#0d0887\"],[0.1111111111111111,\"#46039f\"],[0.2222222222222222,\"#7201a8\"],[0.3333333333333333,\"#9c179e\"],[0.4444444444444444,\"#bd3786\"],[0.5555555555555556,\"#d8576b\"],[0.6666666666666666,\"#ed7953\"],[0.7777777777777778,\"#fb9f3a\"],[0.8888888888888888,\"#fdca26\"],[1.0,\"#f0f921\"]],\"type\":\"surface\"}],\"table\":[{\"cells\":{\"fill\":{\"color\":\"#EBF0F8\"},\"line\":{\"color\":\"white\"}},\"header\":{\"fill\":{\"color\":\"#C8D4E3\"},\"line\":{\"color\":\"white\"}},\"type\":\"table\"}]},\"layout\":{\"annotationdefaults\":{\"arrowcolor\":\"#2a3f5f\",\"arrowhead\":0,\"arrowwidth\":1},\"autotypenumbers\":\"strict\",\"coloraxis\":{\"colorbar\":{\"outlinewidth\":0,\"ticks\":\"\"}},\"colorscale\":{\"diverging\":[[0,\"#8e0152\"],[0.1,\"#c51b7d\"],[0.2,\"#de77ae\"],[0.3,\"#f1b6da\"],[0.4,\"#fde0ef\"],[0.5,\"#f7f7f7\"],[0.6,\"#e6f5d0\"],[0.7,\"#b8e186\"],[0.8,\"#7fbc41\"],[0.9,\"#4d9221\"],[1,\"#276419\"]],\"sequential\":[[0.0,\"#0d0887\"],[0.1111111111111111,\"#46039f\"],[0.2222222222222222,\"#7201a8\"],[0.3333333333333333,\"#9c179e\"],[0.4444444444444444,\"#bd3786\"],[0.5555555555555556,\"#d8576b\"],[0.6666666666666666,\"#ed7953\"],[0.7777777777777778,\"#fb9f3a\"],[0.8888888888888888,\"#fdca26\"],[1.0,\"#f0f921\"]],\"sequentialminus\":[[0.0,\"#0d0887\"],[0.1111111111111111,\"#46039f\"],[0.2222222222222222,\"#7201a8\"],[0.3333333333333333,\"#9c179e\"],[0.4444444444444444,\"#bd3786\"],[0.5555555555555556,\"#d8576b\"],[0.6666666666666666,\"#ed7953\"],[0.7777777777777778,\"#fb9f3a\"],[0.8888888888888888,\"#fdca26\"],[1.0,\"#f0f921\"]]},\"colorway\":[\"#636efa\",\"#EF553B\",\"#00cc96\",\"#ab63fa\",\"#FFA15A\",\"#19d3f3\",\"#FF6692\",\"#B6E880\",\"#FF97FF\",\"#FECB52\"],\"font\":{\"color\":\"#2a3f5f\"},\"geo\":{\"bgcolor\":\"white\",\"lakecolor\":\"white\",\"landcolor\":\"#E5ECF6\",\"showlakes\":true,\"showland\":true,\"subunitcolor\":\"white\"},\"hoverlabel\":{\"align\":\"left\"},\"hovermode\":\"closest\",\"mapbox\":{\"style\":\"light\"},\"paper_bgcolor\":\"white\",\"plot_bgcolor\":\"#E5ECF6\",\"polar\":{\"angularaxis\":{\"gridcolor\":\"white\",\"linecolor\":\"white\",\"ticks\":\"\"},\"bgcolor\":\"#E5ECF6\",\"radialaxis\":{\"gridcolor\":\"white\",\"linecolor\":\"white\",\"ticks\":\"\"}},\"scene\":{\"xaxis\":{\"backgroundcolor\":\"#E5ECF6\",\"gridcolor\":\"white\",\"gridwidth\":2,\"linecolor\":\"white\",\"showbackground\":true,\"ticks\":\"\",\"zerolinecolor\":\"white\"},\"yaxis\":{\"backgroundcolor\":\"#E5ECF6\",\"gridcolor\":\"white\",\"gridwidth\":2,\"linecolor\":\"white\",\"showbackground\":true,\"ticks\":\"\",\"zerolinecolor\":\"white\"},\"zaxis\":{\"backgroundcolor\":\"#E5ECF6\",\"gridcolor\":\"white\",\"gridwidth\":2,\"linecolor\":\"white\",\"showbackground\":true,\"ticks\":\"\",\"zerolinecolor\":\"white\"}},\"shapedefaults\":{\"line\":{\"color\":\"#2a3f5f\"}},\"ternary\":{\"aaxis\":{\"gridcolor\":\"white\",\"linecolor\":\"white\",\"ticks\":\"\"},\"baxis\":{\"gridcolor\":\"white\",\"linecolor\":\"white\",\"ticks\":\"\"},\"bgcolor\":\"#E5ECF6\",\"caxis\":{\"gridcolor\":\"white\",\"linecolor\":\"white\",\"ticks\":\"\"}},\"title\":{\"x\":0.05},\"xaxis\":{\"automargin\":true,\"gridcolor\":\"white\",\"linecolor\":\"white\",\"ticks\":\"\",\"title\":{\"standoff\":15},\"zerolinecolor\":\"white\",\"zerolinewidth\":2},\"yaxis\":{\"automargin\":true,\"gridcolor\":\"white\",\"linecolor\":\"white\",\"ticks\":\"\",\"title\":{\"standoff\":15},\"zerolinecolor\":\"white\",\"zerolinewidth\":2}}},\"title\":{\"text\":\"Entrada total por dia da semana no m\\u00eas de novembro\"},\"xaxis\":{\"anchor\":\"y\",\"domain\":[0.0,1.0],\"title\":{\"text\":\"Dia da semana\"}},\"yaxis\":{\"anchor\":\"x\",\"domain\":[0.0,1.0],\"title\":{\"text\":\"Entrada\"}}},                        {\"responsive\": true}                    ).then(function(){\n",
       "                            \n",
       "var gd = document.getElementById('37f00db9-1a30-4e09-8685-5974facdec78');\n",
       "var x = new MutationObserver(function (mutations, observer) {{\n",
       "        var display = window.getComputedStyle(gd).display;\n",
       "        if (!display || display === 'none') {{\n",
       "            console.log([gd, 'removed!']);\n",
       "            Plotly.purge(gd);\n",
       "            observer.disconnect();\n",
       "        }}\n",
       "}});\n",
       "\n",
       "// Listen for the removal of the full notebook cells\n",
       "var notebookContainer = gd.closest('#notebook-container');\n",
       "if (notebookContainer) {{\n",
       "    x.observe(notebookContainer, {childList: true});\n",
       "}}\n",
       "\n",
       "// Listen for the clearing of the current output cell\n",
       "var outputEl = gd.closest('.output');\n",
       "if (outputEl) {{\n",
       "    x.observe(outputEl, {childList: true});\n",
       "}}\n",
       "\n",
       "                        })                };                });            </script>        </div>"
      ]
     },
     "metadata": {},
     "output_type": "display_data"
    }
   ],
   "source": [
    "import datetime\n",
    "venda_produtos_cliente[\"lucro\"]=(venda_produtos_cliente[\"preco\"]-venda_produtos_cliente[\"custo\"])*venda_produtos_cliente[\"quantidade\"]\n",
    "venda_produtos_cliente['data'] = pd.to_datetime(venda_produtos_cliente['data'])\n",
    "venda_produtos_cliente['dia_sem'] = venda_produtos_cliente['data'].dt.weekday\n",
    "entrada_bruta_sem = venda_produtos_cliente.groupby(['dia_sem']).sum().sort_values('dia_sem').reset_index()\n",
    "\n",
    "entrada_bruta_sem[\"dia_sem\"].replace({0:\"Segunda-feira\", 1: \"Terça-feira\", 2: \"Quarta-feira\", 3: \"Quinta-feira\", 4: \"Sexta-feira\", 5: \"Sábado\", 6: \"Domingo\"}, inplace=True)\n",
    "\n",
    "#Plotando Gráfico\n",
    "fig = px.bar(entrada_bruta_sem,\n",
    "             x='dia_sem', y=\"total_preco\",\n",
    "             labels={\"dia_sem\": \"Dia da semana\", \"total_preco\": \"Entrada total\"},\n",
    "             barmode='stack')\n",
    "fig.update_traces(marker = {'color': '#00CC96'})\n",
    "fig.update_layout(title = 'Entrada total por dia da semana no mês de novembro')\n",
    "fig.update_xaxes(title = 'Dia da semana')\n",
    "fig.update_yaxes(title = 'Entrada')\n",
    "fig.show()"
   ]
  },
  {
   "cell_type": "code",
   "execution_count": null,
   "id": "aa8ffa57",
   "metadata": {},
   "outputs": [],
   "source": []
  },
  {
   "cell_type": "code",
   "execution_count": 141,
   "id": "3d31a295",
   "metadata": {},
   "outputs": [
    {
     "data": {
      "application/vnd.plotly.v1+json": {
       "config": {
        "plotlyServerURL": "https://plot.ly"
       },
       "data": [
        {
         "alignmentgroup": "True",
         "hovertemplate": "Dia da semana=%{x}<br>Lucro total=%{y}<extra></extra>",
         "legendgroup": "",
         "marker": {
          "color": "#00CC96",
          "pattern": {
           "shape": ""
          }
         },
         "name": "",
         "offsetgroup": "",
         "orientation": "v",
         "showlegend": false,
         "textposition": "auto",
         "type": "bar",
         "x": [
          "Segunda-feira",
          "Terça-feira",
          "Quarta-feira",
          "Quinta-feira",
          "Sexta-feira",
          "Sábado",
          "Domingo"
         ],
         "xaxis": "x",
         "y": [
          5773.979999999996,
          5988.42,
          5561.059999999997,
          4521.799999999998,
          4968.050000000002,
          5289.600000000007,
          4062.6499999999987
         ],
         "yaxis": "y"
        }
       ],
       "layout": {
        "barmode": "stack",
        "legend": {
         "tracegroupgap": 0
        },
        "margin": {
         "t": 60
        },
        "template": {
         "data": {
          "bar": [
           {
            "error_x": {
             "color": "#2a3f5f"
            },
            "error_y": {
             "color": "#2a3f5f"
            },
            "marker": {
             "line": {
              "color": "#E5ECF6",
              "width": 0.5
             },
             "pattern": {
              "fillmode": "overlay",
              "size": 10,
              "solidity": 0.2
             }
            },
            "type": "bar"
           }
          ],
          "barpolar": [
           {
            "marker": {
             "line": {
              "color": "#E5ECF6",
              "width": 0.5
             },
             "pattern": {
              "fillmode": "overlay",
              "size": 10,
              "solidity": 0.2
             }
            },
            "type": "barpolar"
           }
          ],
          "carpet": [
           {
            "aaxis": {
             "endlinecolor": "#2a3f5f",
             "gridcolor": "white",
             "linecolor": "white",
             "minorgridcolor": "white",
             "startlinecolor": "#2a3f5f"
            },
            "baxis": {
             "endlinecolor": "#2a3f5f",
             "gridcolor": "white",
             "linecolor": "white",
             "minorgridcolor": "white",
             "startlinecolor": "#2a3f5f"
            },
            "type": "carpet"
           }
          ],
          "choropleth": [
           {
            "colorbar": {
             "outlinewidth": 0,
             "ticks": ""
            },
            "type": "choropleth"
           }
          ],
          "contour": [
           {
            "colorbar": {
             "outlinewidth": 0,
             "ticks": ""
            },
            "colorscale": [
             [
              0,
              "#0d0887"
             ],
             [
              0.1111111111111111,
              "#46039f"
             ],
             [
              0.2222222222222222,
              "#7201a8"
             ],
             [
              0.3333333333333333,
              "#9c179e"
             ],
             [
              0.4444444444444444,
              "#bd3786"
             ],
             [
              0.5555555555555556,
              "#d8576b"
             ],
             [
              0.6666666666666666,
              "#ed7953"
             ],
             [
              0.7777777777777778,
              "#fb9f3a"
             ],
             [
              0.8888888888888888,
              "#fdca26"
             ],
             [
              1,
              "#f0f921"
             ]
            ],
            "type": "contour"
           }
          ],
          "contourcarpet": [
           {
            "colorbar": {
             "outlinewidth": 0,
             "ticks": ""
            },
            "type": "contourcarpet"
           }
          ],
          "heatmap": [
           {
            "colorbar": {
             "outlinewidth": 0,
             "ticks": ""
            },
            "colorscale": [
             [
              0,
              "#0d0887"
             ],
             [
              0.1111111111111111,
              "#46039f"
             ],
             [
              0.2222222222222222,
              "#7201a8"
             ],
             [
              0.3333333333333333,
              "#9c179e"
             ],
             [
              0.4444444444444444,
              "#bd3786"
             ],
             [
              0.5555555555555556,
              "#d8576b"
             ],
             [
              0.6666666666666666,
              "#ed7953"
             ],
             [
              0.7777777777777778,
              "#fb9f3a"
             ],
             [
              0.8888888888888888,
              "#fdca26"
             ],
             [
              1,
              "#f0f921"
             ]
            ],
            "type": "heatmap"
           }
          ],
          "heatmapgl": [
           {
            "colorbar": {
             "outlinewidth": 0,
             "ticks": ""
            },
            "colorscale": [
             [
              0,
              "#0d0887"
             ],
             [
              0.1111111111111111,
              "#46039f"
             ],
             [
              0.2222222222222222,
              "#7201a8"
             ],
             [
              0.3333333333333333,
              "#9c179e"
             ],
             [
              0.4444444444444444,
              "#bd3786"
             ],
             [
              0.5555555555555556,
              "#d8576b"
             ],
             [
              0.6666666666666666,
              "#ed7953"
             ],
             [
              0.7777777777777778,
              "#fb9f3a"
             ],
             [
              0.8888888888888888,
              "#fdca26"
             ],
             [
              1,
              "#f0f921"
             ]
            ],
            "type": "heatmapgl"
           }
          ],
          "histogram": [
           {
            "marker": {
             "pattern": {
              "fillmode": "overlay",
              "size": 10,
              "solidity": 0.2
             }
            },
            "type": "histogram"
           }
          ],
          "histogram2d": [
           {
            "colorbar": {
             "outlinewidth": 0,
             "ticks": ""
            },
            "colorscale": [
             [
              0,
              "#0d0887"
             ],
             [
              0.1111111111111111,
              "#46039f"
             ],
             [
              0.2222222222222222,
              "#7201a8"
             ],
             [
              0.3333333333333333,
              "#9c179e"
             ],
             [
              0.4444444444444444,
              "#bd3786"
             ],
             [
              0.5555555555555556,
              "#d8576b"
             ],
             [
              0.6666666666666666,
              "#ed7953"
             ],
             [
              0.7777777777777778,
              "#fb9f3a"
             ],
             [
              0.8888888888888888,
              "#fdca26"
             ],
             [
              1,
              "#f0f921"
             ]
            ],
            "type": "histogram2d"
           }
          ],
          "histogram2dcontour": [
           {
            "colorbar": {
             "outlinewidth": 0,
             "ticks": ""
            },
            "colorscale": [
             [
              0,
              "#0d0887"
             ],
             [
              0.1111111111111111,
              "#46039f"
             ],
             [
              0.2222222222222222,
              "#7201a8"
             ],
             [
              0.3333333333333333,
              "#9c179e"
             ],
             [
              0.4444444444444444,
              "#bd3786"
             ],
             [
              0.5555555555555556,
              "#d8576b"
             ],
             [
              0.6666666666666666,
              "#ed7953"
             ],
             [
              0.7777777777777778,
              "#fb9f3a"
             ],
             [
              0.8888888888888888,
              "#fdca26"
             ],
             [
              1,
              "#f0f921"
             ]
            ],
            "type": "histogram2dcontour"
           }
          ],
          "mesh3d": [
           {
            "colorbar": {
             "outlinewidth": 0,
             "ticks": ""
            },
            "type": "mesh3d"
           }
          ],
          "parcoords": [
           {
            "line": {
             "colorbar": {
              "outlinewidth": 0,
              "ticks": ""
             }
            },
            "type": "parcoords"
           }
          ],
          "pie": [
           {
            "automargin": true,
            "type": "pie"
           }
          ],
          "scatter": [
           {
            "marker": {
             "colorbar": {
              "outlinewidth": 0,
              "ticks": ""
             }
            },
            "type": "scatter"
           }
          ],
          "scatter3d": [
           {
            "line": {
             "colorbar": {
              "outlinewidth": 0,
              "ticks": ""
             }
            },
            "marker": {
             "colorbar": {
              "outlinewidth": 0,
              "ticks": ""
             }
            },
            "type": "scatter3d"
           }
          ],
          "scattercarpet": [
           {
            "marker": {
             "colorbar": {
              "outlinewidth": 0,
              "ticks": ""
             }
            },
            "type": "scattercarpet"
           }
          ],
          "scattergeo": [
           {
            "marker": {
             "colorbar": {
              "outlinewidth": 0,
              "ticks": ""
             }
            },
            "type": "scattergeo"
           }
          ],
          "scattergl": [
           {
            "marker": {
             "colorbar": {
              "outlinewidth": 0,
              "ticks": ""
             }
            },
            "type": "scattergl"
           }
          ],
          "scattermapbox": [
           {
            "marker": {
             "colorbar": {
              "outlinewidth": 0,
              "ticks": ""
             }
            },
            "type": "scattermapbox"
           }
          ],
          "scatterpolar": [
           {
            "marker": {
             "colorbar": {
              "outlinewidth": 0,
              "ticks": ""
             }
            },
            "type": "scatterpolar"
           }
          ],
          "scatterpolargl": [
           {
            "marker": {
             "colorbar": {
              "outlinewidth": 0,
              "ticks": ""
             }
            },
            "type": "scatterpolargl"
           }
          ],
          "scatterternary": [
           {
            "marker": {
             "colorbar": {
              "outlinewidth": 0,
              "ticks": ""
             }
            },
            "type": "scatterternary"
           }
          ],
          "surface": [
           {
            "colorbar": {
             "outlinewidth": 0,
             "ticks": ""
            },
            "colorscale": [
             [
              0,
              "#0d0887"
             ],
             [
              0.1111111111111111,
              "#46039f"
             ],
             [
              0.2222222222222222,
              "#7201a8"
             ],
             [
              0.3333333333333333,
              "#9c179e"
             ],
             [
              0.4444444444444444,
              "#bd3786"
             ],
             [
              0.5555555555555556,
              "#d8576b"
             ],
             [
              0.6666666666666666,
              "#ed7953"
             ],
             [
              0.7777777777777778,
              "#fb9f3a"
             ],
             [
              0.8888888888888888,
              "#fdca26"
             ],
             [
              1,
              "#f0f921"
             ]
            ],
            "type": "surface"
           }
          ],
          "table": [
           {
            "cells": {
             "fill": {
              "color": "#EBF0F8"
             },
             "line": {
              "color": "white"
             }
            },
            "header": {
             "fill": {
              "color": "#C8D4E3"
             },
             "line": {
              "color": "white"
             }
            },
            "type": "table"
           }
          ]
         },
         "layout": {
          "annotationdefaults": {
           "arrowcolor": "#2a3f5f",
           "arrowhead": 0,
           "arrowwidth": 1
          },
          "autotypenumbers": "strict",
          "coloraxis": {
           "colorbar": {
            "outlinewidth": 0,
            "ticks": ""
           }
          },
          "colorscale": {
           "diverging": [
            [
             0,
             "#8e0152"
            ],
            [
             0.1,
             "#c51b7d"
            ],
            [
             0.2,
             "#de77ae"
            ],
            [
             0.3,
             "#f1b6da"
            ],
            [
             0.4,
             "#fde0ef"
            ],
            [
             0.5,
             "#f7f7f7"
            ],
            [
             0.6,
             "#e6f5d0"
            ],
            [
             0.7,
             "#b8e186"
            ],
            [
             0.8,
             "#7fbc41"
            ],
            [
             0.9,
             "#4d9221"
            ],
            [
             1,
             "#276419"
            ]
           ],
           "sequential": [
            [
             0,
             "#0d0887"
            ],
            [
             0.1111111111111111,
             "#46039f"
            ],
            [
             0.2222222222222222,
             "#7201a8"
            ],
            [
             0.3333333333333333,
             "#9c179e"
            ],
            [
             0.4444444444444444,
             "#bd3786"
            ],
            [
             0.5555555555555556,
             "#d8576b"
            ],
            [
             0.6666666666666666,
             "#ed7953"
            ],
            [
             0.7777777777777778,
             "#fb9f3a"
            ],
            [
             0.8888888888888888,
             "#fdca26"
            ],
            [
             1,
             "#f0f921"
            ]
           ],
           "sequentialminus": [
            [
             0,
             "#0d0887"
            ],
            [
             0.1111111111111111,
             "#46039f"
            ],
            [
             0.2222222222222222,
             "#7201a8"
            ],
            [
             0.3333333333333333,
             "#9c179e"
            ],
            [
             0.4444444444444444,
             "#bd3786"
            ],
            [
             0.5555555555555556,
             "#d8576b"
            ],
            [
             0.6666666666666666,
             "#ed7953"
            ],
            [
             0.7777777777777778,
             "#fb9f3a"
            ],
            [
             0.8888888888888888,
             "#fdca26"
            ],
            [
             1,
             "#f0f921"
            ]
           ]
          },
          "colorway": [
           "#636efa",
           "#EF553B",
           "#00cc96",
           "#ab63fa",
           "#FFA15A",
           "#19d3f3",
           "#FF6692",
           "#B6E880",
           "#FF97FF",
           "#FECB52"
          ],
          "font": {
           "color": "#2a3f5f"
          },
          "geo": {
           "bgcolor": "white",
           "lakecolor": "white",
           "landcolor": "#E5ECF6",
           "showlakes": true,
           "showland": true,
           "subunitcolor": "white"
          },
          "hoverlabel": {
           "align": "left"
          },
          "hovermode": "closest",
          "mapbox": {
           "style": "light"
          },
          "paper_bgcolor": "white",
          "plot_bgcolor": "#E5ECF6",
          "polar": {
           "angularaxis": {
            "gridcolor": "white",
            "linecolor": "white",
            "ticks": ""
           },
           "bgcolor": "#E5ECF6",
           "radialaxis": {
            "gridcolor": "white",
            "linecolor": "white",
            "ticks": ""
           }
          },
          "scene": {
           "xaxis": {
            "backgroundcolor": "#E5ECF6",
            "gridcolor": "white",
            "gridwidth": 2,
            "linecolor": "white",
            "showbackground": true,
            "ticks": "",
            "zerolinecolor": "white"
           },
           "yaxis": {
            "backgroundcolor": "#E5ECF6",
            "gridcolor": "white",
            "gridwidth": 2,
            "linecolor": "white",
            "showbackground": true,
            "ticks": "",
            "zerolinecolor": "white"
           },
           "zaxis": {
            "backgroundcolor": "#E5ECF6",
            "gridcolor": "white",
            "gridwidth": 2,
            "linecolor": "white",
            "showbackground": true,
            "ticks": "",
            "zerolinecolor": "white"
           }
          },
          "shapedefaults": {
           "line": {
            "color": "#2a3f5f"
           }
          },
          "ternary": {
           "aaxis": {
            "gridcolor": "white",
            "linecolor": "white",
            "ticks": ""
           },
           "baxis": {
            "gridcolor": "white",
            "linecolor": "white",
            "ticks": ""
           },
           "bgcolor": "#E5ECF6",
           "caxis": {
            "gridcolor": "white",
            "linecolor": "white",
            "ticks": ""
           }
          },
          "title": {
           "x": 0.05
          },
          "xaxis": {
           "automargin": true,
           "gridcolor": "white",
           "linecolor": "white",
           "ticks": "",
           "title": {
            "standoff": 15
           },
           "zerolinecolor": "white",
           "zerolinewidth": 2
          },
          "yaxis": {
           "automargin": true,
           "gridcolor": "white",
           "linecolor": "white",
           "ticks": "",
           "title": {
            "standoff": 15
           },
           "zerolinecolor": "white",
           "zerolinewidth": 2
          }
         }
        },
        "title": {
         "text": "Lucro total por dia da semana no mês de novembro"
        },
        "xaxis": {
         "anchor": "y",
         "domain": [
          0,
          1
         ],
         "title": {
          "text": "Dia da semana"
         }
        },
        "yaxis": {
         "anchor": "x",
         "domain": [
          0,
          1
         ],
         "title": {
          "text": "Lucro"
         }
        }
       }
      },
      "text/html": [
       "<div>                            <div id=\"9866bc8b-c1ee-460d-8cb6-d68eec585fb5\" class=\"plotly-graph-div\" style=\"height:525px; width:100%;\"></div>            <script type=\"text/javascript\">                require([\"plotly\"], function(Plotly) {                    window.PLOTLYENV=window.PLOTLYENV || {};                                    if (document.getElementById(\"9866bc8b-c1ee-460d-8cb6-d68eec585fb5\")) {                    Plotly.newPlot(                        \"9866bc8b-c1ee-460d-8cb6-d68eec585fb5\",                        [{\"alignmentgroup\":\"True\",\"hovertemplate\":\"Dia da semana=%{x}<br>Lucro total=%{y}<extra></extra>\",\"legendgroup\":\"\",\"marker\":{\"color\":\"#00CC96\",\"pattern\":{\"shape\":\"\"}},\"name\":\"\",\"offsetgroup\":\"\",\"orientation\":\"v\",\"showlegend\":false,\"textposition\":\"auto\",\"type\":\"bar\",\"x\":[\"Segunda-feira\",\"Ter\\u00e7a-feira\",\"Quarta-feira\",\"Quinta-feira\",\"Sexta-feira\",\"S\\u00e1bado\",\"Domingo\"],\"xaxis\":\"x\",\"y\":[5773.979999999996,5988.42,5561.059999999997,4521.799999999998,4968.050000000002,5289.600000000007,4062.6499999999987],\"yaxis\":\"y\"}],                        {\"barmode\":\"stack\",\"legend\":{\"tracegroupgap\":0},\"margin\":{\"t\":60},\"template\":{\"data\":{\"bar\":[{\"error_x\":{\"color\":\"#2a3f5f\"},\"error_y\":{\"color\":\"#2a3f5f\"},\"marker\":{\"line\":{\"color\":\"#E5ECF6\",\"width\":0.5},\"pattern\":{\"fillmode\":\"overlay\",\"size\":10,\"solidity\":0.2}},\"type\":\"bar\"}],\"barpolar\":[{\"marker\":{\"line\":{\"color\":\"#E5ECF6\",\"width\":0.5},\"pattern\":{\"fillmode\":\"overlay\",\"size\":10,\"solidity\":0.2}},\"type\":\"barpolar\"}],\"carpet\":[{\"aaxis\":{\"endlinecolor\":\"#2a3f5f\",\"gridcolor\":\"white\",\"linecolor\":\"white\",\"minorgridcolor\":\"white\",\"startlinecolor\":\"#2a3f5f\"},\"baxis\":{\"endlinecolor\":\"#2a3f5f\",\"gridcolor\":\"white\",\"linecolor\":\"white\",\"minorgridcolor\":\"white\",\"startlinecolor\":\"#2a3f5f\"},\"type\":\"carpet\"}],\"choropleth\":[{\"colorbar\":{\"outlinewidth\":0,\"ticks\":\"\"},\"type\":\"choropleth\"}],\"contour\":[{\"colorbar\":{\"outlinewidth\":0,\"ticks\":\"\"},\"colorscale\":[[0.0,\"#0d0887\"],[0.1111111111111111,\"#46039f\"],[0.2222222222222222,\"#7201a8\"],[0.3333333333333333,\"#9c179e\"],[0.4444444444444444,\"#bd3786\"],[0.5555555555555556,\"#d8576b\"],[0.6666666666666666,\"#ed7953\"],[0.7777777777777778,\"#fb9f3a\"],[0.8888888888888888,\"#fdca26\"],[1.0,\"#f0f921\"]],\"type\":\"contour\"}],\"contourcarpet\":[{\"colorbar\":{\"outlinewidth\":0,\"ticks\":\"\"},\"type\":\"contourcarpet\"}],\"heatmap\":[{\"colorbar\":{\"outlinewidth\":0,\"ticks\":\"\"},\"colorscale\":[[0.0,\"#0d0887\"],[0.1111111111111111,\"#46039f\"],[0.2222222222222222,\"#7201a8\"],[0.3333333333333333,\"#9c179e\"],[0.4444444444444444,\"#bd3786\"],[0.5555555555555556,\"#d8576b\"],[0.6666666666666666,\"#ed7953\"],[0.7777777777777778,\"#fb9f3a\"],[0.8888888888888888,\"#fdca26\"],[1.0,\"#f0f921\"]],\"type\":\"heatmap\"}],\"heatmapgl\":[{\"colorbar\":{\"outlinewidth\":0,\"ticks\":\"\"},\"colorscale\":[[0.0,\"#0d0887\"],[0.1111111111111111,\"#46039f\"],[0.2222222222222222,\"#7201a8\"],[0.3333333333333333,\"#9c179e\"],[0.4444444444444444,\"#bd3786\"],[0.5555555555555556,\"#d8576b\"],[0.6666666666666666,\"#ed7953\"],[0.7777777777777778,\"#fb9f3a\"],[0.8888888888888888,\"#fdca26\"],[1.0,\"#f0f921\"]],\"type\":\"heatmapgl\"}],\"histogram\":[{\"marker\":{\"pattern\":{\"fillmode\":\"overlay\",\"size\":10,\"solidity\":0.2}},\"type\":\"histogram\"}],\"histogram2d\":[{\"colorbar\":{\"outlinewidth\":0,\"ticks\":\"\"},\"colorscale\":[[0.0,\"#0d0887\"],[0.1111111111111111,\"#46039f\"],[0.2222222222222222,\"#7201a8\"],[0.3333333333333333,\"#9c179e\"],[0.4444444444444444,\"#bd3786\"],[0.5555555555555556,\"#d8576b\"],[0.6666666666666666,\"#ed7953\"],[0.7777777777777778,\"#fb9f3a\"],[0.8888888888888888,\"#fdca26\"],[1.0,\"#f0f921\"]],\"type\":\"histogram2d\"}],\"histogram2dcontour\":[{\"colorbar\":{\"outlinewidth\":0,\"ticks\":\"\"},\"colorscale\":[[0.0,\"#0d0887\"],[0.1111111111111111,\"#46039f\"],[0.2222222222222222,\"#7201a8\"],[0.3333333333333333,\"#9c179e\"],[0.4444444444444444,\"#bd3786\"],[0.5555555555555556,\"#d8576b\"],[0.6666666666666666,\"#ed7953\"],[0.7777777777777778,\"#fb9f3a\"],[0.8888888888888888,\"#fdca26\"],[1.0,\"#f0f921\"]],\"type\":\"histogram2dcontour\"}],\"mesh3d\":[{\"colorbar\":{\"outlinewidth\":0,\"ticks\":\"\"},\"type\":\"mesh3d\"}],\"parcoords\":[{\"line\":{\"colorbar\":{\"outlinewidth\":0,\"ticks\":\"\"}},\"type\":\"parcoords\"}],\"pie\":[{\"automargin\":true,\"type\":\"pie\"}],\"scatter\":[{\"marker\":{\"colorbar\":{\"outlinewidth\":0,\"ticks\":\"\"}},\"type\":\"scatter\"}],\"scatter3d\":[{\"line\":{\"colorbar\":{\"outlinewidth\":0,\"ticks\":\"\"}},\"marker\":{\"colorbar\":{\"outlinewidth\":0,\"ticks\":\"\"}},\"type\":\"scatter3d\"}],\"scattercarpet\":[{\"marker\":{\"colorbar\":{\"outlinewidth\":0,\"ticks\":\"\"}},\"type\":\"scattercarpet\"}],\"scattergeo\":[{\"marker\":{\"colorbar\":{\"outlinewidth\":0,\"ticks\":\"\"}},\"type\":\"scattergeo\"}],\"scattergl\":[{\"marker\":{\"colorbar\":{\"outlinewidth\":0,\"ticks\":\"\"}},\"type\":\"scattergl\"}],\"scattermapbox\":[{\"marker\":{\"colorbar\":{\"outlinewidth\":0,\"ticks\":\"\"}},\"type\":\"scattermapbox\"}],\"scatterpolar\":[{\"marker\":{\"colorbar\":{\"outlinewidth\":0,\"ticks\":\"\"}},\"type\":\"scatterpolar\"}],\"scatterpolargl\":[{\"marker\":{\"colorbar\":{\"outlinewidth\":0,\"ticks\":\"\"}},\"type\":\"scatterpolargl\"}],\"scatterternary\":[{\"marker\":{\"colorbar\":{\"outlinewidth\":0,\"ticks\":\"\"}},\"type\":\"scatterternary\"}],\"surface\":[{\"colorbar\":{\"outlinewidth\":0,\"ticks\":\"\"},\"colorscale\":[[0.0,\"#0d0887\"],[0.1111111111111111,\"#46039f\"],[0.2222222222222222,\"#7201a8\"],[0.3333333333333333,\"#9c179e\"],[0.4444444444444444,\"#bd3786\"],[0.5555555555555556,\"#d8576b\"],[0.6666666666666666,\"#ed7953\"],[0.7777777777777778,\"#fb9f3a\"],[0.8888888888888888,\"#fdca26\"],[1.0,\"#f0f921\"]],\"type\":\"surface\"}],\"table\":[{\"cells\":{\"fill\":{\"color\":\"#EBF0F8\"},\"line\":{\"color\":\"white\"}},\"header\":{\"fill\":{\"color\":\"#C8D4E3\"},\"line\":{\"color\":\"white\"}},\"type\":\"table\"}]},\"layout\":{\"annotationdefaults\":{\"arrowcolor\":\"#2a3f5f\",\"arrowhead\":0,\"arrowwidth\":1},\"autotypenumbers\":\"strict\",\"coloraxis\":{\"colorbar\":{\"outlinewidth\":0,\"ticks\":\"\"}},\"colorscale\":{\"diverging\":[[0,\"#8e0152\"],[0.1,\"#c51b7d\"],[0.2,\"#de77ae\"],[0.3,\"#f1b6da\"],[0.4,\"#fde0ef\"],[0.5,\"#f7f7f7\"],[0.6,\"#e6f5d0\"],[0.7,\"#b8e186\"],[0.8,\"#7fbc41\"],[0.9,\"#4d9221\"],[1,\"#276419\"]],\"sequential\":[[0.0,\"#0d0887\"],[0.1111111111111111,\"#46039f\"],[0.2222222222222222,\"#7201a8\"],[0.3333333333333333,\"#9c179e\"],[0.4444444444444444,\"#bd3786\"],[0.5555555555555556,\"#d8576b\"],[0.6666666666666666,\"#ed7953\"],[0.7777777777777778,\"#fb9f3a\"],[0.8888888888888888,\"#fdca26\"],[1.0,\"#f0f921\"]],\"sequentialminus\":[[0.0,\"#0d0887\"],[0.1111111111111111,\"#46039f\"],[0.2222222222222222,\"#7201a8\"],[0.3333333333333333,\"#9c179e\"],[0.4444444444444444,\"#bd3786\"],[0.5555555555555556,\"#d8576b\"],[0.6666666666666666,\"#ed7953\"],[0.7777777777777778,\"#fb9f3a\"],[0.8888888888888888,\"#fdca26\"],[1.0,\"#f0f921\"]]},\"colorway\":[\"#636efa\",\"#EF553B\",\"#00cc96\",\"#ab63fa\",\"#FFA15A\",\"#19d3f3\",\"#FF6692\",\"#B6E880\",\"#FF97FF\",\"#FECB52\"],\"font\":{\"color\":\"#2a3f5f\"},\"geo\":{\"bgcolor\":\"white\",\"lakecolor\":\"white\",\"landcolor\":\"#E5ECF6\",\"showlakes\":true,\"showland\":true,\"subunitcolor\":\"white\"},\"hoverlabel\":{\"align\":\"left\"},\"hovermode\":\"closest\",\"mapbox\":{\"style\":\"light\"},\"paper_bgcolor\":\"white\",\"plot_bgcolor\":\"#E5ECF6\",\"polar\":{\"angularaxis\":{\"gridcolor\":\"white\",\"linecolor\":\"white\",\"ticks\":\"\"},\"bgcolor\":\"#E5ECF6\",\"radialaxis\":{\"gridcolor\":\"white\",\"linecolor\":\"white\",\"ticks\":\"\"}},\"scene\":{\"xaxis\":{\"backgroundcolor\":\"#E5ECF6\",\"gridcolor\":\"white\",\"gridwidth\":2,\"linecolor\":\"white\",\"showbackground\":true,\"ticks\":\"\",\"zerolinecolor\":\"white\"},\"yaxis\":{\"backgroundcolor\":\"#E5ECF6\",\"gridcolor\":\"white\",\"gridwidth\":2,\"linecolor\":\"white\",\"showbackground\":true,\"ticks\":\"\",\"zerolinecolor\":\"white\"},\"zaxis\":{\"backgroundcolor\":\"#E5ECF6\",\"gridcolor\":\"white\",\"gridwidth\":2,\"linecolor\":\"white\",\"showbackground\":true,\"ticks\":\"\",\"zerolinecolor\":\"white\"}},\"shapedefaults\":{\"line\":{\"color\":\"#2a3f5f\"}},\"ternary\":{\"aaxis\":{\"gridcolor\":\"white\",\"linecolor\":\"white\",\"ticks\":\"\"},\"baxis\":{\"gridcolor\":\"white\",\"linecolor\":\"white\",\"ticks\":\"\"},\"bgcolor\":\"#E5ECF6\",\"caxis\":{\"gridcolor\":\"white\",\"linecolor\":\"white\",\"ticks\":\"\"}},\"title\":{\"x\":0.05},\"xaxis\":{\"automargin\":true,\"gridcolor\":\"white\",\"linecolor\":\"white\",\"ticks\":\"\",\"title\":{\"standoff\":15},\"zerolinecolor\":\"white\",\"zerolinewidth\":2},\"yaxis\":{\"automargin\":true,\"gridcolor\":\"white\",\"linecolor\":\"white\",\"ticks\":\"\",\"title\":{\"standoff\":15},\"zerolinecolor\":\"white\",\"zerolinewidth\":2}}},\"title\":{\"text\":\"Lucro total por dia da semana no m\\u00eas de novembro\"},\"xaxis\":{\"anchor\":\"y\",\"domain\":[0.0,1.0],\"title\":{\"text\":\"Dia da semana\"}},\"yaxis\":{\"anchor\":\"x\",\"domain\":[0.0,1.0],\"title\":{\"text\":\"Lucro\"}}},                        {\"responsive\": true}                    ).then(function(){\n",
       "                            \n",
       "var gd = document.getElementById('9866bc8b-c1ee-460d-8cb6-d68eec585fb5');\n",
       "var x = new MutationObserver(function (mutations, observer) {{\n",
       "        var display = window.getComputedStyle(gd).display;\n",
       "        if (!display || display === 'none') {{\n",
       "            console.log([gd, 'removed!']);\n",
       "            Plotly.purge(gd);\n",
       "            observer.disconnect();\n",
       "        }}\n",
       "}});\n",
       "\n",
       "// Listen for the removal of the full notebook cells\n",
       "var notebookContainer = gd.closest('#notebook-container');\n",
       "if (notebookContainer) {{\n",
       "    x.observe(notebookContainer, {childList: true});\n",
       "}}\n",
       "\n",
       "// Listen for the clearing of the current output cell\n",
       "var outputEl = gd.closest('.output');\n",
       "if (outputEl) {{\n",
       "    x.observe(outputEl, {childList: true});\n",
       "}}\n",
       "\n",
       "                        })                };                });            </script>        </div>"
      ]
     },
     "metadata": {},
     "output_type": "display_data"
    }
   ],
   "source": [
    "fig = px.bar(entrada_bruta_sem,\n",
    "             x='dia_sem', y=\"lucro\",\n",
    "             labels={\"dia_sem\": \"Dia da semana\", \"lucro\": \"Lucro total\"},\n",
    "             barmode='stack')\n",
    "fig.update_traces(marker = {'color': '#00CC96'})\n",
    "fig.update_layout(title = 'Lucro total por dia da semana no mês de novembro')\n",
    "fig.update_xaxes(title = 'Dia da semana')\n",
    "fig.update_yaxes(title = 'Lucro')\n",
    "fig.show()"
   ]
  },
  {
   "cell_type": "code",
   "execution_count": 118,
   "id": "5b72ac3d",
   "metadata": {},
   "outputs": [
    {
     "data": {
      "application/vnd.plotly.v1+json": {
       "config": {
        "plotlyServerURL": "https://plot.ly"
       },
       "data": [
        {
         "hovertemplate": "Linhas=Renda bruta total<br>date=%{x}<br>Valor/ Valor Máximo (%)=%{y}<extra></extra>",
         "legendgroup": "Renda bruta total",
         "line": {
          "color": "#636efa",
          "dash": "solid"
         },
         "marker": {
          "symbol": "circle"
         },
         "mode": "lines",
         "name": "Renda bruta total",
         "orientation": "v",
         "showlegend": true,
         "type": "scatter",
         "x": [
          "2021-11-01T00:00:00",
          "2021-11-02T00:00:00",
          "2021-11-03T00:00:00",
          "2021-11-04T00:00:00",
          "2021-11-05T00:00:00",
          "2021-11-06T00:00:00",
          "2021-11-07T00:00:00",
          "2021-11-08T00:00:00",
          "2021-11-09T00:00:00",
          "2021-11-10T00:00:00",
          "2021-11-11T00:00:00",
          "2021-11-12T00:00:00",
          "2021-11-13T00:00:00",
          "2021-11-14T00:00:00",
          "2021-11-15T00:00:00",
          "2021-11-16T00:00:00",
          "2021-11-17T00:00:00",
          "2021-11-18T00:00:00",
          "2021-11-19T00:00:00",
          "2021-11-20T00:00:00",
          "2021-11-21T00:00:00",
          "2021-11-22T00:00:00",
          "2021-11-23T00:00:00",
          "2021-11-24T00:00:00",
          "2021-11-25T00:00:00",
          "2021-11-26T00:00:00",
          "2021-11-27T00:00:00",
          "2021-11-28T00:00:00",
          "2021-11-29T00:00:00",
          "2021-11-30T00:00:00"
         ],
         "xaxis": "x",
         "y": [
          0.24264536626716976,
          0.3079049476564282,
          0.7071309933218011,
          0.5861832266245811,
          0.50123984314158,
          0.45486943397266727,
          0.4230339285591224,
          0.2720859551065141,
          1,
          0.4600500348038239,
          0.23548611637571626,
          0.487828310326054,
          0.6585827607357736,
          0.3573429175941949,
          0.6182247982412017,
          0.030916822307528034,
          0.04449375943321466,
          0.07734856890812498,
          0.02494641589535427,
          0.07069311297803586,
          0.08833348265666913,
          0.07326721755491095,
          0.03822355770887472,
          0.12103942825243486,
          0.05760411856732314,
          0.178397507908394,
          0.022910564511126937,
          0.08585724229663905,
          0.07347052701948344,
          0.0758337411009037
         ],
         "yaxis": "y"
        },
        {
         "hovertemplate": "Linhas=Quantidade de produtos vendidos<br>date=%{x}<br>Valor/ Valor Máximo (%)=%{y}<extra></extra>",
         "legendgroup": "Quantidade de produtos vendidos",
         "line": {
          "color": "#EF553B",
          "dash": "solid"
         },
         "marker": {
          "symbol": "circle"
         },
         "mode": "lines",
         "name": "Quantidade de produtos vendidos",
         "orientation": "v",
         "showlegend": true,
         "type": "scatter",
         "x": [
          "2021-11-01T00:00:00",
          "2021-11-02T00:00:00",
          "2021-11-03T00:00:00",
          "2021-11-04T00:00:00",
          "2021-11-05T00:00:00",
          "2021-11-06T00:00:00",
          "2021-11-07T00:00:00",
          "2021-11-08T00:00:00",
          "2021-11-09T00:00:00",
          "2021-11-10T00:00:00",
          "2021-11-11T00:00:00",
          "2021-11-12T00:00:00",
          "2021-11-13T00:00:00",
          "2021-11-14T00:00:00",
          "2021-11-15T00:00:00",
          "2021-11-16T00:00:00",
          "2021-11-17T00:00:00",
          "2021-11-18T00:00:00",
          "2021-11-19T00:00:00",
          "2021-11-20T00:00:00",
          "2021-11-21T00:00:00",
          "2021-11-22T00:00:00",
          "2021-11-23T00:00:00",
          "2021-11-24T00:00:00",
          "2021-11-25T00:00:00",
          "2021-11-26T00:00:00",
          "2021-11-27T00:00:00",
          "2021-11-28T00:00:00",
          "2021-11-29T00:00:00",
          "2021-11-30T00:00:00"
         ],
         "xaxis": "x",
         "y": [
          0.35604770017035775,
          0.46337308347529815,
          0.7802385008517888,
          0.8228279386712095,
          0.717206132879046,
          0.7035775127768313,
          0.4463373083475298,
          0.3901192504258944,
          1,
          0.7632027257240205,
          0.39522998296422485,
          0.6201022146507666,
          0.8500851788756388,
          0.5672913117546848,
          0.666098807495741,
          0.04770017035775128,
          0.056218057921635436,
          0.1260647359454855,
          0.04088586030664395,
          0.0817717206132879,
          0.09028960817717206,
          0.06132879045996593,
          0.05792163543441227,
          0.12265758091993186,
          0.08347529812606473,
          0.10051107325383304,
          0.059625212947189095,
          0.11754684838160136,
          0.10221465076660988,
          0.09880749574105621
         ],
         "yaxis": "y"
        }
       ],
       "layout": {
        "legend": {
         "title": {
          "text": "Linhas"
         },
         "tracegroupgap": 0
        },
        "template": {
         "data": {
          "bar": [
           {
            "error_x": {
             "color": "#2a3f5f"
            },
            "error_y": {
             "color": "#2a3f5f"
            },
            "marker": {
             "line": {
              "color": "#E5ECF6",
              "width": 0.5
             },
             "pattern": {
              "fillmode": "overlay",
              "size": 10,
              "solidity": 0.2
             }
            },
            "type": "bar"
           }
          ],
          "barpolar": [
           {
            "marker": {
             "line": {
              "color": "#E5ECF6",
              "width": 0.5
             },
             "pattern": {
              "fillmode": "overlay",
              "size": 10,
              "solidity": 0.2
             }
            },
            "type": "barpolar"
           }
          ],
          "carpet": [
           {
            "aaxis": {
             "endlinecolor": "#2a3f5f",
             "gridcolor": "white",
             "linecolor": "white",
             "minorgridcolor": "white",
             "startlinecolor": "#2a3f5f"
            },
            "baxis": {
             "endlinecolor": "#2a3f5f",
             "gridcolor": "white",
             "linecolor": "white",
             "minorgridcolor": "white",
             "startlinecolor": "#2a3f5f"
            },
            "type": "carpet"
           }
          ],
          "choropleth": [
           {
            "colorbar": {
             "outlinewidth": 0,
             "ticks": ""
            },
            "type": "choropleth"
           }
          ],
          "contour": [
           {
            "colorbar": {
             "outlinewidth": 0,
             "ticks": ""
            },
            "colorscale": [
             [
              0,
              "#0d0887"
             ],
             [
              0.1111111111111111,
              "#46039f"
             ],
             [
              0.2222222222222222,
              "#7201a8"
             ],
             [
              0.3333333333333333,
              "#9c179e"
             ],
             [
              0.4444444444444444,
              "#bd3786"
             ],
             [
              0.5555555555555556,
              "#d8576b"
             ],
             [
              0.6666666666666666,
              "#ed7953"
             ],
             [
              0.7777777777777778,
              "#fb9f3a"
             ],
             [
              0.8888888888888888,
              "#fdca26"
             ],
             [
              1,
              "#f0f921"
             ]
            ],
            "type": "contour"
           }
          ],
          "contourcarpet": [
           {
            "colorbar": {
             "outlinewidth": 0,
             "ticks": ""
            },
            "type": "contourcarpet"
           }
          ],
          "heatmap": [
           {
            "colorbar": {
             "outlinewidth": 0,
             "ticks": ""
            },
            "colorscale": [
             [
              0,
              "#0d0887"
             ],
             [
              0.1111111111111111,
              "#46039f"
             ],
             [
              0.2222222222222222,
              "#7201a8"
             ],
             [
              0.3333333333333333,
              "#9c179e"
             ],
             [
              0.4444444444444444,
              "#bd3786"
             ],
             [
              0.5555555555555556,
              "#d8576b"
             ],
             [
              0.6666666666666666,
              "#ed7953"
             ],
             [
              0.7777777777777778,
              "#fb9f3a"
             ],
             [
              0.8888888888888888,
              "#fdca26"
             ],
             [
              1,
              "#f0f921"
             ]
            ],
            "type": "heatmap"
           }
          ],
          "heatmapgl": [
           {
            "colorbar": {
             "outlinewidth": 0,
             "ticks": ""
            },
            "colorscale": [
             [
              0,
              "#0d0887"
             ],
             [
              0.1111111111111111,
              "#46039f"
             ],
             [
              0.2222222222222222,
              "#7201a8"
             ],
             [
              0.3333333333333333,
              "#9c179e"
             ],
             [
              0.4444444444444444,
              "#bd3786"
             ],
             [
              0.5555555555555556,
              "#d8576b"
             ],
             [
              0.6666666666666666,
              "#ed7953"
             ],
             [
              0.7777777777777778,
              "#fb9f3a"
             ],
             [
              0.8888888888888888,
              "#fdca26"
             ],
             [
              1,
              "#f0f921"
             ]
            ],
            "type": "heatmapgl"
           }
          ],
          "histogram": [
           {
            "marker": {
             "pattern": {
              "fillmode": "overlay",
              "size": 10,
              "solidity": 0.2
             }
            },
            "type": "histogram"
           }
          ],
          "histogram2d": [
           {
            "colorbar": {
             "outlinewidth": 0,
             "ticks": ""
            },
            "colorscale": [
             [
              0,
              "#0d0887"
             ],
             [
              0.1111111111111111,
              "#46039f"
             ],
             [
              0.2222222222222222,
              "#7201a8"
             ],
             [
              0.3333333333333333,
              "#9c179e"
             ],
             [
              0.4444444444444444,
              "#bd3786"
             ],
             [
              0.5555555555555556,
              "#d8576b"
             ],
             [
              0.6666666666666666,
              "#ed7953"
             ],
             [
              0.7777777777777778,
              "#fb9f3a"
             ],
             [
              0.8888888888888888,
              "#fdca26"
             ],
             [
              1,
              "#f0f921"
             ]
            ],
            "type": "histogram2d"
           }
          ],
          "histogram2dcontour": [
           {
            "colorbar": {
             "outlinewidth": 0,
             "ticks": ""
            },
            "colorscale": [
             [
              0,
              "#0d0887"
             ],
             [
              0.1111111111111111,
              "#46039f"
             ],
             [
              0.2222222222222222,
              "#7201a8"
             ],
             [
              0.3333333333333333,
              "#9c179e"
             ],
             [
              0.4444444444444444,
              "#bd3786"
             ],
             [
              0.5555555555555556,
              "#d8576b"
             ],
             [
              0.6666666666666666,
              "#ed7953"
             ],
             [
              0.7777777777777778,
              "#fb9f3a"
             ],
             [
              0.8888888888888888,
              "#fdca26"
             ],
             [
              1,
              "#f0f921"
             ]
            ],
            "type": "histogram2dcontour"
           }
          ],
          "mesh3d": [
           {
            "colorbar": {
             "outlinewidth": 0,
             "ticks": ""
            },
            "type": "mesh3d"
           }
          ],
          "parcoords": [
           {
            "line": {
             "colorbar": {
              "outlinewidth": 0,
              "ticks": ""
             }
            },
            "type": "parcoords"
           }
          ],
          "pie": [
           {
            "automargin": true,
            "type": "pie"
           }
          ],
          "scatter": [
           {
            "marker": {
             "colorbar": {
              "outlinewidth": 0,
              "ticks": ""
             }
            },
            "type": "scatter"
           }
          ],
          "scatter3d": [
           {
            "line": {
             "colorbar": {
              "outlinewidth": 0,
              "ticks": ""
             }
            },
            "marker": {
             "colorbar": {
              "outlinewidth": 0,
              "ticks": ""
             }
            },
            "type": "scatter3d"
           }
          ],
          "scattercarpet": [
           {
            "marker": {
             "colorbar": {
              "outlinewidth": 0,
              "ticks": ""
             }
            },
            "type": "scattercarpet"
           }
          ],
          "scattergeo": [
           {
            "marker": {
             "colorbar": {
              "outlinewidth": 0,
              "ticks": ""
             }
            },
            "type": "scattergeo"
           }
          ],
          "scattergl": [
           {
            "marker": {
             "colorbar": {
              "outlinewidth": 0,
              "ticks": ""
             }
            },
            "type": "scattergl"
           }
          ],
          "scattermapbox": [
           {
            "marker": {
             "colorbar": {
              "outlinewidth": 0,
              "ticks": ""
             }
            },
            "type": "scattermapbox"
           }
          ],
          "scatterpolar": [
           {
            "marker": {
             "colorbar": {
              "outlinewidth": 0,
              "ticks": ""
             }
            },
            "type": "scatterpolar"
           }
          ],
          "scatterpolargl": [
           {
            "marker": {
             "colorbar": {
              "outlinewidth": 0,
              "ticks": ""
             }
            },
            "type": "scatterpolargl"
           }
          ],
          "scatterternary": [
           {
            "marker": {
             "colorbar": {
              "outlinewidth": 0,
              "ticks": ""
             }
            },
            "type": "scatterternary"
           }
          ],
          "surface": [
           {
            "colorbar": {
             "outlinewidth": 0,
             "ticks": ""
            },
            "colorscale": [
             [
              0,
              "#0d0887"
             ],
             [
              0.1111111111111111,
              "#46039f"
             ],
             [
              0.2222222222222222,
              "#7201a8"
             ],
             [
              0.3333333333333333,
              "#9c179e"
             ],
             [
              0.4444444444444444,
              "#bd3786"
             ],
             [
              0.5555555555555556,
              "#d8576b"
             ],
             [
              0.6666666666666666,
              "#ed7953"
             ],
             [
              0.7777777777777778,
              "#fb9f3a"
             ],
             [
              0.8888888888888888,
              "#fdca26"
             ],
             [
              1,
              "#f0f921"
             ]
            ],
            "type": "surface"
           }
          ],
          "table": [
           {
            "cells": {
             "fill": {
              "color": "#EBF0F8"
             },
             "line": {
              "color": "white"
             }
            },
            "header": {
             "fill": {
              "color": "#C8D4E3"
             },
             "line": {
              "color": "white"
             }
            },
            "type": "table"
           }
          ]
         },
         "layout": {
          "annotationdefaults": {
           "arrowcolor": "#2a3f5f",
           "arrowhead": 0,
           "arrowwidth": 1
          },
          "autotypenumbers": "strict",
          "coloraxis": {
           "colorbar": {
            "outlinewidth": 0,
            "ticks": ""
           }
          },
          "colorscale": {
           "diverging": [
            [
             0,
             "#8e0152"
            ],
            [
             0.1,
             "#c51b7d"
            ],
            [
             0.2,
             "#de77ae"
            ],
            [
             0.3,
             "#f1b6da"
            ],
            [
             0.4,
             "#fde0ef"
            ],
            [
             0.5,
             "#f7f7f7"
            ],
            [
             0.6,
             "#e6f5d0"
            ],
            [
             0.7,
             "#b8e186"
            ],
            [
             0.8,
             "#7fbc41"
            ],
            [
             0.9,
             "#4d9221"
            ],
            [
             1,
             "#276419"
            ]
           ],
           "sequential": [
            [
             0,
             "#0d0887"
            ],
            [
             0.1111111111111111,
             "#46039f"
            ],
            [
             0.2222222222222222,
             "#7201a8"
            ],
            [
             0.3333333333333333,
             "#9c179e"
            ],
            [
             0.4444444444444444,
             "#bd3786"
            ],
            [
             0.5555555555555556,
             "#d8576b"
            ],
            [
             0.6666666666666666,
             "#ed7953"
            ],
            [
             0.7777777777777778,
             "#fb9f3a"
            ],
            [
             0.8888888888888888,
             "#fdca26"
            ],
            [
             1,
             "#f0f921"
            ]
           ],
           "sequentialminus": [
            [
             0,
             "#0d0887"
            ],
            [
             0.1111111111111111,
             "#46039f"
            ],
            [
             0.2222222222222222,
             "#7201a8"
            ],
            [
             0.3333333333333333,
             "#9c179e"
            ],
            [
             0.4444444444444444,
             "#bd3786"
            ],
            [
             0.5555555555555556,
             "#d8576b"
            ],
            [
             0.6666666666666666,
             "#ed7953"
            ],
            [
             0.7777777777777778,
             "#fb9f3a"
            ],
            [
             0.8888888888888888,
             "#fdca26"
            ],
            [
             1,
             "#f0f921"
            ]
           ]
          },
          "colorway": [
           "#636efa",
           "#EF553B",
           "#00cc96",
           "#ab63fa",
           "#FFA15A",
           "#19d3f3",
           "#FF6692",
           "#B6E880",
           "#FF97FF",
           "#FECB52"
          ],
          "font": {
           "color": "#2a3f5f"
          },
          "geo": {
           "bgcolor": "white",
           "lakecolor": "white",
           "landcolor": "#E5ECF6",
           "showlakes": true,
           "showland": true,
           "subunitcolor": "white"
          },
          "hoverlabel": {
           "align": "left"
          },
          "hovermode": "closest",
          "mapbox": {
           "style": "light"
          },
          "paper_bgcolor": "white",
          "plot_bgcolor": "#E5ECF6",
          "polar": {
           "angularaxis": {
            "gridcolor": "white",
            "linecolor": "white",
            "ticks": ""
           },
           "bgcolor": "#E5ECF6",
           "radialaxis": {
            "gridcolor": "white",
            "linecolor": "white",
            "ticks": ""
           }
          },
          "scene": {
           "xaxis": {
            "backgroundcolor": "#E5ECF6",
            "gridcolor": "white",
            "gridwidth": 2,
            "linecolor": "white",
            "showbackground": true,
            "ticks": "",
            "zerolinecolor": "white"
           },
           "yaxis": {
            "backgroundcolor": "#E5ECF6",
            "gridcolor": "white",
            "gridwidth": 2,
            "linecolor": "white",
            "showbackground": true,
            "ticks": "",
            "zerolinecolor": "white"
           },
           "zaxis": {
            "backgroundcolor": "#E5ECF6",
            "gridcolor": "white",
            "gridwidth": 2,
            "linecolor": "white",
            "showbackground": true,
            "ticks": "",
            "zerolinecolor": "white"
           }
          },
          "shapedefaults": {
           "line": {
            "color": "#2a3f5f"
           }
          },
          "ternary": {
           "aaxis": {
            "gridcolor": "white",
            "linecolor": "white",
            "ticks": ""
           },
           "baxis": {
            "gridcolor": "white",
            "linecolor": "white",
            "ticks": ""
           },
           "bgcolor": "#E5ECF6",
           "caxis": {
            "gridcolor": "white",
            "linecolor": "white",
            "ticks": ""
           }
          },
          "title": {
           "x": 0.05
          },
          "xaxis": {
           "automargin": true,
           "gridcolor": "white",
           "linecolor": "white",
           "ticks": "",
           "title": {
            "standoff": 15
           },
           "zerolinecolor": "white",
           "zerolinewidth": 2
          },
          "yaxis": {
           "automargin": true,
           "gridcolor": "white",
           "linecolor": "white",
           "ticks": "",
           "title": {
            "standoff": 15
           },
           "zerolinecolor": "white",
           "zerolinewidth": 2
          }
         }
        },
        "title": {
         "text": "Renda bruta e quantidade vendida no mês de novembro"
        },
        "xaxis": {
         "anchor": "y",
         "domain": [
          0,
          1
         ],
         "title": {
          "text": "Data"
         }
        },
        "yaxis": {
         "anchor": "x",
         "domain": [
          0,
          1
         ],
         "title": {
          "text": "Valor/ Valor Máximo (%)"
         }
        }
       }
      },
      "text/html": [
       "<div>                            <div id=\"48f12b3d-939b-48b0-bb8f-837984a6f52e\" class=\"plotly-graph-div\" style=\"height:525px; width:100%;\"></div>            <script type=\"text/javascript\">                require([\"plotly\"], function(Plotly) {                    window.PLOTLYENV=window.PLOTLYENV || {};                                    if (document.getElementById(\"48f12b3d-939b-48b0-bb8f-837984a6f52e\")) {                    Plotly.newPlot(                        \"48f12b3d-939b-48b0-bb8f-837984a6f52e\",                        [{\"hovertemplate\":\"Linhas=Renda bruta total<br>date=%{x}<br>Valor/ Valor M\\u00e1ximo (%)=%{y}<extra></extra>\",\"legendgroup\":\"Renda bruta total\",\"line\":{\"color\":\"#636efa\",\"dash\":\"solid\"},\"marker\":{\"symbol\":\"circle\"},\"mode\":\"lines\",\"name\":\"Renda bruta total\",\"orientation\":\"v\",\"showlegend\":true,\"type\":\"scatter\",\"x\":[\"2021-11-01T00:00:00\",\"2021-11-02T00:00:00\",\"2021-11-03T00:00:00\",\"2021-11-04T00:00:00\",\"2021-11-05T00:00:00\",\"2021-11-06T00:00:00\",\"2021-11-07T00:00:00\",\"2021-11-08T00:00:00\",\"2021-11-09T00:00:00\",\"2021-11-10T00:00:00\",\"2021-11-11T00:00:00\",\"2021-11-12T00:00:00\",\"2021-11-13T00:00:00\",\"2021-11-14T00:00:00\",\"2021-11-15T00:00:00\",\"2021-11-16T00:00:00\",\"2021-11-17T00:00:00\",\"2021-11-18T00:00:00\",\"2021-11-19T00:00:00\",\"2021-11-20T00:00:00\",\"2021-11-21T00:00:00\",\"2021-11-22T00:00:00\",\"2021-11-23T00:00:00\",\"2021-11-24T00:00:00\",\"2021-11-25T00:00:00\",\"2021-11-26T00:00:00\",\"2021-11-27T00:00:00\",\"2021-11-28T00:00:00\",\"2021-11-29T00:00:00\",\"2021-11-30T00:00:00\"],\"xaxis\":\"x\",\"y\":[0.24264536626716976,0.3079049476564282,0.7071309933218011,0.5861832266245811,0.50123984314158,0.45486943397266727,0.4230339285591224,0.2720859551065141,1.0,0.4600500348038239,0.23548611637571626,0.487828310326054,0.6585827607357736,0.3573429175941949,0.6182247982412017,0.030916822307528034,0.04449375943321466,0.07734856890812498,0.02494641589535427,0.07069311297803586,0.08833348265666913,0.07326721755491095,0.03822355770887472,0.12103942825243486,0.05760411856732314,0.178397507908394,0.022910564511126937,0.08585724229663905,0.07347052701948344,0.0758337411009037],\"yaxis\":\"y\"},{\"hovertemplate\":\"Linhas=Quantidade de produtos vendidos<br>date=%{x}<br>Valor/ Valor M\\u00e1ximo (%)=%{y}<extra></extra>\",\"legendgroup\":\"Quantidade de produtos vendidos\",\"line\":{\"color\":\"#EF553B\",\"dash\":\"solid\"},\"marker\":{\"symbol\":\"circle\"},\"mode\":\"lines\",\"name\":\"Quantidade de produtos vendidos\",\"orientation\":\"v\",\"showlegend\":true,\"type\":\"scatter\",\"x\":[\"2021-11-01T00:00:00\",\"2021-11-02T00:00:00\",\"2021-11-03T00:00:00\",\"2021-11-04T00:00:00\",\"2021-11-05T00:00:00\",\"2021-11-06T00:00:00\",\"2021-11-07T00:00:00\",\"2021-11-08T00:00:00\",\"2021-11-09T00:00:00\",\"2021-11-10T00:00:00\",\"2021-11-11T00:00:00\",\"2021-11-12T00:00:00\",\"2021-11-13T00:00:00\",\"2021-11-14T00:00:00\",\"2021-11-15T00:00:00\",\"2021-11-16T00:00:00\",\"2021-11-17T00:00:00\",\"2021-11-18T00:00:00\",\"2021-11-19T00:00:00\",\"2021-11-20T00:00:00\",\"2021-11-21T00:00:00\",\"2021-11-22T00:00:00\",\"2021-11-23T00:00:00\",\"2021-11-24T00:00:00\",\"2021-11-25T00:00:00\",\"2021-11-26T00:00:00\",\"2021-11-27T00:00:00\",\"2021-11-28T00:00:00\",\"2021-11-29T00:00:00\",\"2021-11-30T00:00:00\"],\"xaxis\":\"x\",\"y\":[0.35604770017035775,0.46337308347529815,0.7802385008517888,0.8228279386712095,0.717206132879046,0.7035775127768313,0.4463373083475298,0.3901192504258944,1.0,0.7632027257240205,0.39522998296422485,0.6201022146507666,0.8500851788756388,0.5672913117546848,0.666098807495741,0.04770017035775128,0.056218057921635436,0.1260647359454855,0.04088586030664395,0.0817717206132879,0.09028960817717206,0.06132879045996593,0.05792163543441227,0.12265758091993186,0.08347529812606473,0.10051107325383304,0.059625212947189095,0.11754684838160136,0.10221465076660988,0.09880749574105621],\"yaxis\":\"y\"}],                        {\"legend\":{\"title\":{\"text\":\"Linhas\"},\"tracegroupgap\":0},\"template\":{\"data\":{\"bar\":[{\"error_x\":{\"color\":\"#2a3f5f\"},\"error_y\":{\"color\":\"#2a3f5f\"},\"marker\":{\"line\":{\"color\":\"#E5ECF6\",\"width\":0.5},\"pattern\":{\"fillmode\":\"overlay\",\"size\":10,\"solidity\":0.2}},\"type\":\"bar\"}],\"barpolar\":[{\"marker\":{\"line\":{\"color\":\"#E5ECF6\",\"width\":0.5},\"pattern\":{\"fillmode\":\"overlay\",\"size\":10,\"solidity\":0.2}},\"type\":\"barpolar\"}],\"carpet\":[{\"aaxis\":{\"endlinecolor\":\"#2a3f5f\",\"gridcolor\":\"white\",\"linecolor\":\"white\",\"minorgridcolor\":\"white\",\"startlinecolor\":\"#2a3f5f\"},\"baxis\":{\"endlinecolor\":\"#2a3f5f\",\"gridcolor\":\"white\",\"linecolor\":\"white\",\"minorgridcolor\":\"white\",\"startlinecolor\":\"#2a3f5f\"},\"type\":\"carpet\"}],\"choropleth\":[{\"colorbar\":{\"outlinewidth\":0,\"ticks\":\"\"},\"type\":\"choropleth\"}],\"contour\":[{\"colorbar\":{\"outlinewidth\":0,\"ticks\":\"\"},\"colorscale\":[[0.0,\"#0d0887\"],[0.1111111111111111,\"#46039f\"],[0.2222222222222222,\"#7201a8\"],[0.3333333333333333,\"#9c179e\"],[0.4444444444444444,\"#bd3786\"],[0.5555555555555556,\"#d8576b\"],[0.6666666666666666,\"#ed7953\"],[0.7777777777777778,\"#fb9f3a\"],[0.8888888888888888,\"#fdca26\"],[1.0,\"#f0f921\"]],\"type\":\"contour\"}],\"contourcarpet\":[{\"colorbar\":{\"outlinewidth\":0,\"ticks\":\"\"},\"type\":\"contourcarpet\"}],\"heatmap\":[{\"colorbar\":{\"outlinewidth\":0,\"ticks\":\"\"},\"colorscale\":[[0.0,\"#0d0887\"],[0.1111111111111111,\"#46039f\"],[0.2222222222222222,\"#7201a8\"],[0.3333333333333333,\"#9c179e\"],[0.4444444444444444,\"#bd3786\"],[0.5555555555555556,\"#d8576b\"],[0.6666666666666666,\"#ed7953\"],[0.7777777777777778,\"#fb9f3a\"],[0.8888888888888888,\"#fdca26\"],[1.0,\"#f0f921\"]],\"type\":\"heatmap\"}],\"heatmapgl\":[{\"colorbar\":{\"outlinewidth\":0,\"ticks\":\"\"},\"colorscale\":[[0.0,\"#0d0887\"],[0.1111111111111111,\"#46039f\"],[0.2222222222222222,\"#7201a8\"],[0.3333333333333333,\"#9c179e\"],[0.4444444444444444,\"#bd3786\"],[0.5555555555555556,\"#d8576b\"],[0.6666666666666666,\"#ed7953\"],[0.7777777777777778,\"#fb9f3a\"],[0.8888888888888888,\"#fdca26\"],[1.0,\"#f0f921\"]],\"type\":\"heatmapgl\"}],\"histogram\":[{\"marker\":{\"pattern\":{\"fillmode\":\"overlay\",\"size\":10,\"solidity\":0.2}},\"type\":\"histogram\"}],\"histogram2d\":[{\"colorbar\":{\"outlinewidth\":0,\"ticks\":\"\"},\"colorscale\":[[0.0,\"#0d0887\"],[0.1111111111111111,\"#46039f\"],[0.2222222222222222,\"#7201a8\"],[0.3333333333333333,\"#9c179e\"],[0.4444444444444444,\"#bd3786\"],[0.5555555555555556,\"#d8576b\"],[0.6666666666666666,\"#ed7953\"],[0.7777777777777778,\"#fb9f3a\"],[0.8888888888888888,\"#fdca26\"],[1.0,\"#f0f921\"]],\"type\":\"histogram2d\"}],\"histogram2dcontour\":[{\"colorbar\":{\"outlinewidth\":0,\"ticks\":\"\"},\"colorscale\":[[0.0,\"#0d0887\"],[0.1111111111111111,\"#46039f\"],[0.2222222222222222,\"#7201a8\"],[0.3333333333333333,\"#9c179e\"],[0.4444444444444444,\"#bd3786\"],[0.5555555555555556,\"#d8576b\"],[0.6666666666666666,\"#ed7953\"],[0.7777777777777778,\"#fb9f3a\"],[0.8888888888888888,\"#fdca26\"],[1.0,\"#f0f921\"]],\"type\":\"histogram2dcontour\"}],\"mesh3d\":[{\"colorbar\":{\"outlinewidth\":0,\"ticks\":\"\"},\"type\":\"mesh3d\"}],\"parcoords\":[{\"line\":{\"colorbar\":{\"outlinewidth\":0,\"ticks\":\"\"}},\"type\":\"parcoords\"}],\"pie\":[{\"automargin\":true,\"type\":\"pie\"}],\"scatter\":[{\"marker\":{\"colorbar\":{\"outlinewidth\":0,\"ticks\":\"\"}},\"type\":\"scatter\"}],\"scatter3d\":[{\"line\":{\"colorbar\":{\"outlinewidth\":0,\"ticks\":\"\"}},\"marker\":{\"colorbar\":{\"outlinewidth\":0,\"ticks\":\"\"}},\"type\":\"scatter3d\"}],\"scattercarpet\":[{\"marker\":{\"colorbar\":{\"outlinewidth\":0,\"ticks\":\"\"}},\"type\":\"scattercarpet\"}],\"scattergeo\":[{\"marker\":{\"colorbar\":{\"outlinewidth\":0,\"ticks\":\"\"}},\"type\":\"scattergeo\"}],\"scattergl\":[{\"marker\":{\"colorbar\":{\"outlinewidth\":0,\"ticks\":\"\"}},\"type\":\"scattergl\"}],\"scattermapbox\":[{\"marker\":{\"colorbar\":{\"outlinewidth\":0,\"ticks\":\"\"}},\"type\":\"scattermapbox\"}],\"scatterpolar\":[{\"marker\":{\"colorbar\":{\"outlinewidth\":0,\"ticks\":\"\"}},\"type\":\"scatterpolar\"}],\"scatterpolargl\":[{\"marker\":{\"colorbar\":{\"outlinewidth\":0,\"ticks\":\"\"}},\"type\":\"scatterpolargl\"}],\"scatterternary\":[{\"marker\":{\"colorbar\":{\"outlinewidth\":0,\"ticks\":\"\"}},\"type\":\"scatterternary\"}],\"surface\":[{\"colorbar\":{\"outlinewidth\":0,\"ticks\":\"\"},\"colorscale\":[[0.0,\"#0d0887\"],[0.1111111111111111,\"#46039f\"],[0.2222222222222222,\"#7201a8\"],[0.3333333333333333,\"#9c179e\"],[0.4444444444444444,\"#bd3786\"],[0.5555555555555556,\"#d8576b\"],[0.6666666666666666,\"#ed7953\"],[0.7777777777777778,\"#fb9f3a\"],[0.8888888888888888,\"#fdca26\"],[1.0,\"#f0f921\"]],\"type\":\"surface\"}],\"table\":[{\"cells\":{\"fill\":{\"color\":\"#EBF0F8\"},\"line\":{\"color\":\"white\"}},\"header\":{\"fill\":{\"color\":\"#C8D4E3\"},\"line\":{\"color\":\"white\"}},\"type\":\"table\"}]},\"layout\":{\"annotationdefaults\":{\"arrowcolor\":\"#2a3f5f\",\"arrowhead\":0,\"arrowwidth\":1},\"autotypenumbers\":\"strict\",\"coloraxis\":{\"colorbar\":{\"outlinewidth\":0,\"ticks\":\"\"}},\"colorscale\":{\"diverging\":[[0,\"#8e0152\"],[0.1,\"#c51b7d\"],[0.2,\"#de77ae\"],[0.3,\"#f1b6da\"],[0.4,\"#fde0ef\"],[0.5,\"#f7f7f7\"],[0.6,\"#e6f5d0\"],[0.7,\"#b8e186\"],[0.8,\"#7fbc41\"],[0.9,\"#4d9221\"],[1,\"#276419\"]],\"sequential\":[[0.0,\"#0d0887\"],[0.1111111111111111,\"#46039f\"],[0.2222222222222222,\"#7201a8\"],[0.3333333333333333,\"#9c179e\"],[0.4444444444444444,\"#bd3786\"],[0.5555555555555556,\"#d8576b\"],[0.6666666666666666,\"#ed7953\"],[0.7777777777777778,\"#fb9f3a\"],[0.8888888888888888,\"#fdca26\"],[1.0,\"#f0f921\"]],\"sequentialminus\":[[0.0,\"#0d0887\"],[0.1111111111111111,\"#46039f\"],[0.2222222222222222,\"#7201a8\"],[0.3333333333333333,\"#9c179e\"],[0.4444444444444444,\"#bd3786\"],[0.5555555555555556,\"#d8576b\"],[0.6666666666666666,\"#ed7953\"],[0.7777777777777778,\"#fb9f3a\"],[0.8888888888888888,\"#fdca26\"],[1.0,\"#f0f921\"]]},\"colorway\":[\"#636efa\",\"#EF553B\",\"#00cc96\",\"#ab63fa\",\"#FFA15A\",\"#19d3f3\",\"#FF6692\",\"#B6E880\",\"#FF97FF\",\"#FECB52\"],\"font\":{\"color\":\"#2a3f5f\"},\"geo\":{\"bgcolor\":\"white\",\"lakecolor\":\"white\",\"landcolor\":\"#E5ECF6\",\"showlakes\":true,\"showland\":true,\"subunitcolor\":\"white\"},\"hoverlabel\":{\"align\":\"left\"},\"hovermode\":\"closest\",\"mapbox\":{\"style\":\"light\"},\"paper_bgcolor\":\"white\",\"plot_bgcolor\":\"#E5ECF6\",\"polar\":{\"angularaxis\":{\"gridcolor\":\"white\",\"linecolor\":\"white\",\"ticks\":\"\"},\"bgcolor\":\"#E5ECF6\",\"radialaxis\":{\"gridcolor\":\"white\",\"linecolor\":\"white\",\"ticks\":\"\"}},\"scene\":{\"xaxis\":{\"backgroundcolor\":\"#E5ECF6\",\"gridcolor\":\"white\",\"gridwidth\":2,\"linecolor\":\"white\",\"showbackground\":true,\"ticks\":\"\",\"zerolinecolor\":\"white\"},\"yaxis\":{\"backgroundcolor\":\"#E5ECF6\",\"gridcolor\":\"white\",\"gridwidth\":2,\"linecolor\":\"white\",\"showbackground\":true,\"ticks\":\"\",\"zerolinecolor\":\"white\"},\"zaxis\":{\"backgroundcolor\":\"#E5ECF6\",\"gridcolor\":\"white\",\"gridwidth\":2,\"linecolor\":\"white\",\"showbackground\":true,\"ticks\":\"\",\"zerolinecolor\":\"white\"}},\"shapedefaults\":{\"line\":{\"color\":\"#2a3f5f\"}},\"ternary\":{\"aaxis\":{\"gridcolor\":\"white\",\"linecolor\":\"white\",\"ticks\":\"\"},\"baxis\":{\"gridcolor\":\"white\",\"linecolor\":\"white\",\"ticks\":\"\"},\"bgcolor\":\"#E5ECF6\",\"caxis\":{\"gridcolor\":\"white\",\"linecolor\":\"white\",\"ticks\":\"\"}},\"title\":{\"x\":0.05},\"xaxis\":{\"automargin\":true,\"gridcolor\":\"white\",\"linecolor\":\"white\",\"ticks\":\"\",\"title\":{\"standoff\":15},\"zerolinecolor\":\"white\",\"zerolinewidth\":2},\"yaxis\":{\"automargin\":true,\"gridcolor\":\"white\",\"linecolor\":\"white\",\"ticks\":\"\",\"title\":{\"standoff\":15},\"zerolinecolor\":\"white\",\"zerolinewidth\":2}}},\"title\":{\"text\":\"Renda bruta e quantidade vendida no m\\u00eas de novembro\"},\"xaxis\":{\"anchor\":\"y\",\"domain\":[0.0,1.0],\"title\":{\"text\":\"Data\"}},\"yaxis\":{\"anchor\":\"x\",\"domain\":[0.0,1.0],\"title\":{\"text\":\"Valor/ Valor M\\u00e1ximo (%)\"}}},                        {\"responsive\": true}                    ).then(function(){\n",
       "                            \n",
       "var gd = document.getElementById('48f12b3d-939b-48b0-bb8f-837984a6f52e');\n",
       "var x = new MutationObserver(function (mutations, observer) {{\n",
       "        var display = window.getComputedStyle(gd).display;\n",
       "        if (!display || display === 'none') {{\n",
       "            console.log([gd, 'removed!']);\n",
       "            Plotly.purge(gd);\n",
       "            observer.disconnect();\n",
       "        }}\n",
       "}});\n",
       "\n",
       "// Listen for the removal of the full notebook cells\n",
       "var notebookContainer = gd.closest('#notebook-container');\n",
       "if (notebookContainer) {{\n",
       "    x.observe(notebookContainer, {childList: true});\n",
       "}}\n",
       "\n",
       "// Listen for the clearing of the current output cell\n",
       "var outputEl = gd.closest('.output');\n",
       "if (outputEl) {{\n",
       "    x.observe(outputEl, {childList: true});\n",
       "}}\n",
       "\n",
       "                        })                };                });            </script>        </div>"
      ]
     },
     "metadata": {},
     "output_type": "display_data"
    }
   ],
   "source": [
    "from sklearn.preprocessing import MaxAbsScaler\n",
    "abs_scaler = MaxAbsScaler()\n",
    "\n",
    "venda_produtos_cliente_agrupado_por_dia=venda_produtos_cliente.groupby(\"data\").sum().sort_values('data')\n",
    "venda_produtos_cliente_agrupado_por_dia=venda_produtos_cliente_agrupado_por_dia[[\"total_preco\", \"quantidade\"]]\n",
    "\n",
    "#Normalizando os dados\n",
    "abs_scaler = MaxAbsScaler()\n",
    "abs_scaler.fit(venda_produtos_cliente_agrupado_por_dia)\n",
    "abs_scaler.max_abs_\n",
    "scaled_data = abs_scaler.transform(venda_produtos_cliente_agrupado_por_dia)\n",
    "df_scaled = pd.DataFrame(scaled_data, columns=venda_produtos_cliente_agrupado_por_dia.columns)\n",
    "df_scaled.transpose()\n",
    "# Definindo a datta com índice\n",
    "df_scaled['date'] = np.arange(np.datetime64('2021-11-01'), np.datetime64('2021-12-01'))\n",
    "df_scaled = df_scaled.set_index(['date'])\n",
    "df_scaled.rename(columns={'total_preco': 'Renda bruta total', \"quantidade\": \"Quantidade de produtos vendidos\"}, inplace = True)\n",
    "# Plotando o gráfico\n",
    "fig = px.line(df_scaled, labels={\"variable\":\"Linhas\", \"value\":\"Valor/ Valor Máximo (%)\"}, title=\"Renda bruta e quantidade vendida no mês de novembro\")\n",
    "fig.update_xaxes(title = 'Data')\n",
    "fig.update_yaxes(title = 'Valor/ Valor Máximo (%)')\n",
    "fig.show()"
   ]
  },
  {
   "cell_type": "code",
   "execution_count": 119,
   "id": "f6061940",
   "metadata": {},
   "outputs": [
    {
     "data": {
      "text/html": [
       "<div>\n",
       "<style scoped>\n",
       "    .dataframe tbody tr th:only-of-type {\n",
       "        vertical-align: middle;\n",
       "    }\n",
       "\n",
       "    .dataframe tbody tr th {\n",
       "        vertical-align: top;\n",
       "    }\n",
       "\n",
       "    .dataframe thead th {\n",
       "        text-align: right;\n",
       "    }\n",
       "</style>\n",
       "<table border=\"1\" class=\"dataframe\">\n",
       "  <thead>\n",
       "    <tr style=\"text-align: right;\">\n",
       "      <th></th>\n",
       "      <th>Renda bruta total</th>\n",
       "      <th>Quantidade de produtos vendidos</th>\n",
       "    </tr>\n",
       "    <tr>\n",
       "      <th>date</th>\n",
       "      <th></th>\n",
       "      <th></th>\n",
       "    </tr>\n",
       "  </thead>\n",
       "  <tbody>\n",
       "    <tr>\n",
       "      <th>2021-11-01</th>\n",
       "      <td>0.242645</td>\n",
       "      <td>0.356048</td>\n",
       "    </tr>\n",
       "    <tr>\n",
       "      <th>2021-11-02</th>\n",
       "      <td>0.307905</td>\n",
       "      <td>0.463373</td>\n",
       "    </tr>\n",
       "    <tr>\n",
       "      <th>2021-11-03</th>\n",
       "      <td>0.707131</td>\n",
       "      <td>0.780239</td>\n",
       "    </tr>\n",
       "    <tr>\n",
       "      <th>2021-11-04</th>\n",
       "      <td>0.586183</td>\n",
       "      <td>0.822828</td>\n",
       "    </tr>\n",
       "    <tr>\n",
       "      <th>2021-11-05</th>\n",
       "      <td>0.501240</td>\n",
       "      <td>0.717206</td>\n",
       "    </tr>\n",
       "    <tr>\n",
       "      <th>2021-11-06</th>\n",
       "      <td>0.454869</td>\n",
       "      <td>0.703578</td>\n",
       "    </tr>\n",
       "    <tr>\n",
       "      <th>2021-11-07</th>\n",
       "      <td>0.423034</td>\n",
       "      <td>0.446337</td>\n",
       "    </tr>\n",
       "    <tr>\n",
       "      <th>2021-11-08</th>\n",
       "      <td>0.272086</td>\n",
       "      <td>0.390119</td>\n",
       "    </tr>\n",
       "    <tr>\n",
       "      <th>2021-11-09</th>\n",
       "      <td>1.000000</td>\n",
       "      <td>1.000000</td>\n",
       "    </tr>\n",
       "    <tr>\n",
       "      <th>2021-11-10</th>\n",
       "      <td>0.460050</td>\n",
       "      <td>0.763203</td>\n",
       "    </tr>\n",
       "    <tr>\n",
       "      <th>2021-11-11</th>\n",
       "      <td>0.235486</td>\n",
       "      <td>0.395230</td>\n",
       "    </tr>\n",
       "    <tr>\n",
       "      <th>2021-11-12</th>\n",
       "      <td>0.487828</td>\n",
       "      <td>0.620102</td>\n",
       "    </tr>\n",
       "    <tr>\n",
       "      <th>2021-11-13</th>\n",
       "      <td>0.658583</td>\n",
       "      <td>0.850085</td>\n",
       "    </tr>\n",
       "    <tr>\n",
       "      <th>2021-11-14</th>\n",
       "      <td>0.357343</td>\n",
       "      <td>0.567291</td>\n",
       "    </tr>\n",
       "    <tr>\n",
       "      <th>2021-11-15</th>\n",
       "      <td>0.618225</td>\n",
       "      <td>0.666099</td>\n",
       "    </tr>\n",
       "    <tr>\n",
       "      <th>2021-11-16</th>\n",
       "      <td>0.030917</td>\n",
       "      <td>0.047700</td>\n",
       "    </tr>\n",
       "    <tr>\n",
       "      <th>2021-11-17</th>\n",
       "      <td>0.044494</td>\n",
       "      <td>0.056218</td>\n",
       "    </tr>\n",
       "    <tr>\n",
       "      <th>2021-11-18</th>\n",
       "      <td>0.077349</td>\n",
       "      <td>0.126065</td>\n",
       "    </tr>\n",
       "    <tr>\n",
       "      <th>2021-11-19</th>\n",
       "      <td>0.024946</td>\n",
       "      <td>0.040886</td>\n",
       "    </tr>\n",
       "    <tr>\n",
       "      <th>2021-11-20</th>\n",
       "      <td>0.070693</td>\n",
       "      <td>0.081772</td>\n",
       "    </tr>\n",
       "    <tr>\n",
       "      <th>2021-11-21</th>\n",
       "      <td>0.088333</td>\n",
       "      <td>0.090290</td>\n",
       "    </tr>\n",
       "    <tr>\n",
       "      <th>2021-11-22</th>\n",
       "      <td>0.073267</td>\n",
       "      <td>0.061329</td>\n",
       "    </tr>\n",
       "    <tr>\n",
       "      <th>2021-11-23</th>\n",
       "      <td>0.038224</td>\n",
       "      <td>0.057922</td>\n",
       "    </tr>\n",
       "    <tr>\n",
       "      <th>2021-11-24</th>\n",
       "      <td>0.121039</td>\n",
       "      <td>0.122658</td>\n",
       "    </tr>\n",
       "    <tr>\n",
       "      <th>2021-11-25</th>\n",
       "      <td>0.057604</td>\n",
       "      <td>0.083475</td>\n",
       "    </tr>\n",
       "    <tr>\n",
       "      <th>2021-11-26</th>\n",
       "      <td>0.178398</td>\n",
       "      <td>0.100511</td>\n",
       "    </tr>\n",
       "    <tr>\n",
       "      <th>2021-11-27</th>\n",
       "      <td>0.022911</td>\n",
       "      <td>0.059625</td>\n",
       "    </tr>\n",
       "    <tr>\n",
       "      <th>2021-11-28</th>\n",
       "      <td>0.085857</td>\n",
       "      <td>0.117547</td>\n",
       "    </tr>\n",
       "    <tr>\n",
       "      <th>2021-11-29</th>\n",
       "      <td>0.073471</td>\n",
       "      <td>0.102215</td>\n",
       "    </tr>\n",
       "    <tr>\n",
       "      <th>2021-11-30</th>\n",
       "      <td>0.075834</td>\n",
       "      <td>0.098807</td>\n",
       "    </tr>\n",
       "  </tbody>\n",
       "</table>\n",
       "</div>"
      ],
      "text/plain": [
       "            Renda bruta total  Quantidade de produtos vendidos\n",
       "date                                                          \n",
       "2021-11-01           0.242645                         0.356048\n",
       "2021-11-02           0.307905                         0.463373\n",
       "2021-11-03           0.707131                         0.780239\n",
       "2021-11-04           0.586183                         0.822828\n",
       "2021-11-05           0.501240                         0.717206\n",
       "2021-11-06           0.454869                         0.703578\n",
       "2021-11-07           0.423034                         0.446337\n",
       "2021-11-08           0.272086                         0.390119\n",
       "2021-11-09           1.000000                         1.000000\n",
       "2021-11-10           0.460050                         0.763203\n",
       "2021-11-11           0.235486                         0.395230\n",
       "2021-11-12           0.487828                         0.620102\n",
       "2021-11-13           0.658583                         0.850085\n",
       "2021-11-14           0.357343                         0.567291\n",
       "2021-11-15           0.618225                         0.666099\n",
       "2021-11-16           0.030917                         0.047700\n",
       "2021-11-17           0.044494                         0.056218\n",
       "2021-11-18           0.077349                         0.126065\n",
       "2021-11-19           0.024946                         0.040886\n",
       "2021-11-20           0.070693                         0.081772\n",
       "2021-11-21           0.088333                         0.090290\n",
       "2021-11-22           0.073267                         0.061329\n",
       "2021-11-23           0.038224                         0.057922\n",
       "2021-11-24           0.121039                         0.122658\n",
       "2021-11-25           0.057604                         0.083475\n",
       "2021-11-26           0.178398                         0.100511\n",
       "2021-11-27           0.022911                         0.059625\n",
       "2021-11-28           0.085857                         0.117547\n",
       "2021-11-29           0.073471                         0.102215\n",
       "2021-11-30           0.075834                         0.098807"
      ]
     },
     "execution_count": 119,
     "metadata": {},
     "output_type": "execute_result"
    }
   ],
   "source": [
    "df_scaled"
   ]
  },
  {
   "cell_type": "code",
   "execution_count": null,
   "id": "9690f59c",
   "metadata": {},
   "outputs": [],
   "source": []
  },
  {
   "cell_type": "code",
   "execution_count": null,
   "id": "be83371a",
   "metadata": {},
   "outputs": [],
   "source": []
  },
  {
   "cell_type": "code",
   "execution_count": null,
   "id": "1177beba",
   "metadata": {},
   "outputs": [],
   "source": []
  },
  {
   "cell_type": "code",
   "execution_count": null,
   "id": "d0f69316",
   "metadata": {},
   "outputs": [],
   "source": []
  },
  {
   "cell_type": "code",
   "execution_count": null,
   "id": "2734e7f8",
   "metadata": {},
   "outputs": [],
   "source": []
  },
  {
   "cell_type": "code",
   "execution_count": null,
   "id": "e087704b",
   "metadata": {},
   "outputs": [],
   "source": []
  },
  {
   "cell_type": "code",
   "execution_count": null,
   "id": "4c4e19b4",
   "metadata": {},
   "outputs": [],
   "source": []
  },
  {
   "cell_type": "code",
   "execution_count": null,
   "id": "1eaa395c",
   "metadata": {},
   "outputs": [],
   "source": []
  },
  {
   "cell_type": "code",
   "execution_count": null,
   "id": "43139ed6",
   "metadata": {},
   "outputs": [],
   "source": []
  }
 ],
 "metadata": {
  "kernelspec": {
   "display_name": "Python 3",
   "language": "python",
   "name": "python3"
  },
  "language_info": {
   "codemirror_mode": {
    "name": "ipython",
    "version": 3
   },
   "file_extension": ".py",
   "mimetype": "text/x-python",
   "name": "python",
   "nbconvert_exporter": "python",
   "pygments_lexer": "ipython3",
   "version": "3.8.8"
  }
 },
 "nbformat": 4,
 "nbformat_minor": 5
}
