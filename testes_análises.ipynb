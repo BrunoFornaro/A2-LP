{
 "cells": [
  {
   "cell_type": "code",
   "execution_count": 2,
   "id": "191c64a5",
   "metadata": {},
   "outputs": [
    {
     "name": "stdout",
     "output_type": "stream",
     "text": [
      "Collecting Faker\n",
      "  Downloading Faker-9.9.0-py3-none-any.whl (1.2 MB)\n",
      "Requirement already satisfied: python-dateutil>=2.4 in c:\\users\\vanes\\anaconda3\\lib\\site-packages (from Faker) (2.8.2)\n",
      "Collecting text-unidecode==1.3\n",
      "  Downloading text_unidecode-1.3-py2.py3-none-any.whl (78 kB)\n",
      "Requirement already satisfied: six>=1.5 in c:\\users\\vanes\\anaconda3\\lib\\site-packages (from python-dateutil>=2.4->Faker) (1.16.0)\n",
      "Installing collected packages: text-unidecode, Faker\n",
      "Successfully installed Faker-9.9.0 text-unidecode-1.3\n"
     ]
    }
   ],
   "source": [
    "!pip install Faker"
   ]
  },
  {
   "cell_type": "code",
   "execution_count": 316,
   "id": "e08f7679",
   "metadata": {},
   "outputs": [],
   "source": [
    "from numpy import random\n",
    "import pandas as pd\n",
    "import numpy as np\n",
    "import random as rd\n",
    "from faker import Faker\n",
    "import matplotlib.pyplot as plt\n",
    "import matplotlib as ptl\n",
    "import plotly.express as px\n",
    "\n",
    "fake = Faker(\"pt-BR\")\n",
    "\n",
    "def gerar_dados(quantidade_de_vendas = 500, quantidade_de_clientes = 200):\n",
    "\n",
    "    # Tabela de produtos\n",
    "    nome_dos_produtos = [\"morango\", \"melancia\", \"banana\", \"uva\", \"batata\", \"berinjela\", \"abobrinha\", \"alface\", \"couve-flor\", \"feijão\", \"arroz\", \"macarrão\"]\n",
    "    preco_produtos = [7.99, 1.49, 5.99, 7.47, 3.99, 11.99, 3.50, 0.98, 5.48, 8.45, 20.31, 2.48]\n",
    "    prateleira_dos_produtos = [\"1A\", \"1C\", \"1B\", \"1D\", \"2B\", \"2D\", \"2A\", \"2C\", \"2E\", \"3B\", \"3A\", \"3C\"]\n",
    "    estoque_produtos = [50, 20, 40, 36, 47, 12, 19, 25, 20, 43, 80, 38]\n",
    "    unidade_de_medida_estoque = [\"bandejas\", \"unidades\", \"kg\", \"bandejas\", \"kg\", \"kg\", \"kg\", \"pés\", \"pés\", \"kg\", \"kg\", \"pacotes\"]\n",
    "    imagem = [\"morango-alt.png\", \"melancia.jpg\", \"banana.png\", \"uva-alt.png\", \"batata.JPEG\", \"beringela.jpg\", \"abobrinha.JPEG\", \"alface.png\", \"couve-flor.png\", \"feijao.png\", \"arroz.png\", \"macarrao.png\"]\n",
    "\n",
    "    produtos = {\n",
    "        \"id\": list(range(len(nome_dos_produtos))),\n",
    "        \"nome\": nome_dos_produtos,\n",
    "        \"preco\": preco_produtos,\n",
    "        \"prateleira\": prateleira_dos_produtos,\n",
    "        \"estoque\": estoque_produtos,\n",
    "        \"unidade_de_medida_de_estoque\": unidade_de_medida_estoque\n",
    "    }\n",
    "\n",
    "    produtos = pd.DataFrame(produtos)\n",
    "\n",
    "    # Tabela de clientes\n",
    "    clientes = {\n",
    "        'id': list(range(quantidade_de_clientes)),\n",
    "        'nome': [],\n",
    "        'nascimento': [],\n",
    "        'endereço':[],\n",
    "        'cpf': [],\n",
    "        'telefone': [],\n",
    "        'usuario': [],\n",
    "        'senha': []\n",
    "    }\n",
    "\n",
    "    for id in clientes['id']:\n",
    "        clientes['nome'].append(fake.name())\n",
    "        clientes['nascimento'].append(fake.date_of_birth(minimum_age = 18, maximum_age = 73))\n",
    "        clientes['endereço'].append(fake.address())\n",
    "        clientes['cpf'].append(fake.cpf())\n",
    "        clientes['telefone'].append(fake.phone_number())\n",
    "        clientes['usuario'].append(fake.user_name())\n",
    "        clientes['senha'].append(fake.password(12))\n",
    "        \n",
    "    clientes = pd.DataFrame(clientes)\n",
    "\n",
    "    # Tabela de vendas\n",
    "    datas = np.arange(np.datetime64('2021-11-01'), np.datetime64('2021-12-01'))\n",
    "    probabilidade = np.linspace(1, 2, num=datas.size)\n",
    "    probabilidade = probabilidade / probabilidade.sum()\n",
    "    datas = np.random.choice(datas, p=probabilidade, size=quantidade_de_vendas)\n",
    "    datas.sort()\n",
    "    vendas = {\n",
    "        'id' : [],\n",
    "        'id_cliente' : [],\n",
    "        'data' : []\n",
    "    }\n",
    "    for id, data in enumerate(datas):\n",
    "        vendas['id'].append(id)\n",
    "        vendas['id_cliente'].append(np.random.choice(clientes['id']))\n",
    "        vendas['data'].append(data)\n",
    "\n",
    "    vendas = pd.DataFrame(vendas)\n",
    "\n",
    "    # Tabela intermediária entre vendas e produtos\n",
    "    venda_produtos = {\n",
    "        'id_vendas' : [],\n",
    "        'id_produto' : [],\n",
    "        'quantidade' : []\n",
    "    }\n",
    "\n",
    "    for id in range(quantidade_de_vendas):\n",
    "        venda_produtos['id_vendas'].append(vendas['id'][id])\n",
    "        venda_produtos['id_produto'].append(np.random.choice(produtos['id']))\n",
    "        venda_produtos['quantidade'].append(random.randint(1, 5))\n",
    "\n",
    "    for id in range(4 * quantidade_de_vendas):\n",
    "        venda_produtos['id_vendas'].append(np.random.choice(clientes['id']))\n",
    "        venda_produtos['id_produto'].append(np.random.choice(produtos['id']))\n",
    "        venda_produtos['quantidade'].append(random.randint(1, 5))\n",
    "\n",
    "    venda_produtos = pd.DataFrame(venda_produtos)\n",
    "\n",
    "    return (produtos,clientes,vendas,venda_produtos)"
   ]
  },
  {
   "cell_type": "markdown",
   "id": "972ecad5",
   "metadata": {},
   "source": [
    "## Tabelas"
   ]
  },
  {
   "cell_type": "code",
   "execution_count": 317,
   "id": "1615750f",
   "metadata": {},
   "outputs": [],
   "source": [
    "p = gerar_dados(quantidade_de_vendas = 500, quantidade_de_clientes = 200)"
   ]
  },
  {
   "cell_type": "code",
   "execution_count": 318,
   "id": "5b81954a",
   "metadata": {},
   "outputs": [
    {
     "data": {
      "text/html": [
       "<div>\n",
       "<style scoped>\n",
       "    .dataframe tbody tr th:only-of-type {\n",
       "        vertical-align: middle;\n",
       "    }\n",
       "\n",
       "    .dataframe tbody tr th {\n",
       "        vertical-align: top;\n",
       "    }\n",
       "\n",
       "    .dataframe thead th {\n",
       "        text-align: right;\n",
       "    }\n",
       "</style>\n",
       "<table border=\"1\" class=\"dataframe\">\n",
       "  <thead>\n",
       "    <tr style=\"text-align: right;\">\n",
       "      <th></th>\n",
       "      <th>id</th>\n",
       "      <th>nome</th>\n",
       "      <th>preco</th>\n",
       "      <th>prateleira</th>\n",
       "      <th>estoque</th>\n",
       "      <th>unidade_de_medida_de_estoque</th>\n",
       "    </tr>\n",
       "  </thead>\n",
       "  <tbody>\n",
       "    <tr>\n",
       "      <th>0</th>\n",
       "      <td>0</td>\n",
       "      <td>morango</td>\n",
       "      <td>7.99</td>\n",
       "      <td>1A</td>\n",
       "      <td>50</td>\n",
       "      <td>bandejas</td>\n",
       "    </tr>\n",
       "    <tr>\n",
       "      <th>1</th>\n",
       "      <td>1</td>\n",
       "      <td>melancia</td>\n",
       "      <td>1.49</td>\n",
       "      <td>1C</td>\n",
       "      <td>20</td>\n",
       "      <td>unidades</td>\n",
       "    </tr>\n",
       "    <tr>\n",
       "      <th>2</th>\n",
       "      <td>2</td>\n",
       "      <td>banana</td>\n",
       "      <td>5.99</td>\n",
       "      <td>1B</td>\n",
       "      <td>40</td>\n",
       "      <td>kg</td>\n",
       "    </tr>\n",
       "    <tr>\n",
       "      <th>3</th>\n",
       "      <td>3</td>\n",
       "      <td>uva</td>\n",
       "      <td>7.47</td>\n",
       "      <td>1D</td>\n",
       "      <td>36</td>\n",
       "      <td>bandejas</td>\n",
       "    </tr>\n",
       "    <tr>\n",
       "      <th>4</th>\n",
       "      <td>4</td>\n",
       "      <td>batata</td>\n",
       "      <td>3.99</td>\n",
       "      <td>2B</td>\n",
       "      <td>47</td>\n",
       "      <td>kg</td>\n",
       "    </tr>\n",
       "    <tr>\n",
       "      <th>5</th>\n",
       "      <td>5</td>\n",
       "      <td>berinjela</td>\n",
       "      <td>11.99</td>\n",
       "      <td>2D</td>\n",
       "      <td>12</td>\n",
       "      <td>kg</td>\n",
       "    </tr>\n",
       "    <tr>\n",
       "      <th>6</th>\n",
       "      <td>6</td>\n",
       "      <td>abobrinha</td>\n",
       "      <td>3.50</td>\n",
       "      <td>2A</td>\n",
       "      <td>19</td>\n",
       "      <td>kg</td>\n",
       "    </tr>\n",
       "    <tr>\n",
       "      <th>7</th>\n",
       "      <td>7</td>\n",
       "      <td>alface</td>\n",
       "      <td>0.98</td>\n",
       "      <td>2C</td>\n",
       "      <td>25</td>\n",
       "      <td>pés</td>\n",
       "    </tr>\n",
       "    <tr>\n",
       "      <th>8</th>\n",
       "      <td>8</td>\n",
       "      <td>couve-flor</td>\n",
       "      <td>5.48</td>\n",
       "      <td>2E</td>\n",
       "      <td>20</td>\n",
       "      <td>pés</td>\n",
       "    </tr>\n",
       "    <tr>\n",
       "      <th>9</th>\n",
       "      <td>9</td>\n",
       "      <td>feijão</td>\n",
       "      <td>8.45</td>\n",
       "      <td>3B</td>\n",
       "      <td>43</td>\n",
       "      <td>kg</td>\n",
       "    </tr>\n",
       "    <tr>\n",
       "      <th>10</th>\n",
       "      <td>10</td>\n",
       "      <td>arroz</td>\n",
       "      <td>20.31</td>\n",
       "      <td>3A</td>\n",
       "      <td>80</td>\n",
       "      <td>kg</td>\n",
       "    </tr>\n",
       "    <tr>\n",
       "      <th>11</th>\n",
       "      <td>11</td>\n",
       "      <td>macarrão</td>\n",
       "      <td>2.48</td>\n",
       "      <td>3C</td>\n",
       "      <td>38</td>\n",
       "      <td>pacotes</td>\n",
       "    </tr>\n",
       "  </tbody>\n",
       "</table>\n",
       "</div>"
      ],
      "text/plain": [
       "    id        nome  preco prateleira  estoque unidade_de_medida_de_estoque\n",
       "0    0     morango   7.99         1A       50                     bandejas\n",
       "1    1    melancia   1.49         1C       20                     unidades\n",
       "2    2      banana   5.99         1B       40                           kg\n",
       "3    3         uva   7.47         1D       36                     bandejas\n",
       "4    4      batata   3.99         2B       47                           kg\n",
       "5    5   berinjela  11.99         2D       12                           kg\n",
       "6    6   abobrinha   3.50         2A       19                           kg\n",
       "7    7      alface   0.98         2C       25                          pés\n",
       "8    8  couve-flor   5.48         2E       20                          pés\n",
       "9    9      feijão   8.45         3B       43                           kg\n",
       "10  10       arroz  20.31         3A       80                           kg\n",
       "11  11    macarrão   2.48         3C       38                      pacotes"
      ]
     },
     "execution_count": 318,
     "metadata": {},
     "output_type": "execute_result"
    }
   ],
   "source": [
    "produtos=p[0]\n",
    "produtos"
   ]
  },
  {
   "cell_type": "code",
   "execution_count": 319,
   "id": "b77c2dab",
   "metadata": {},
   "outputs": [
    {
     "data": {
      "text/html": [
       "<div>\n",
       "<style scoped>\n",
       "    .dataframe tbody tr th:only-of-type {\n",
       "        vertical-align: middle;\n",
       "    }\n",
       "\n",
       "    .dataframe tbody tr th {\n",
       "        vertical-align: top;\n",
       "    }\n",
       "\n",
       "    .dataframe thead th {\n",
       "        text-align: right;\n",
       "    }\n",
       "</style>\n",
       "<table border=\"1\" class=\"dataframe\">\n",
       "  <thead>\n",
       "    <tr style=\"text-align: right;\">\n",
       "      <th></th>\n",
       "      <th>id</th>\n",
       "      <th>nome</th>\n",
       "      <th>nascimento</th>\n",
       "      <th>endereço</th>\n",
       "      <th>cpf</th>\n",
       "      <th>telefone</th>\n",
       "      <th>usuario</th>\n",
       "      <th>senha</th>\n",
       "    </tr>\n",
       "  </thead>\n",
       "  <tbody>\n",
       "    <tr>\n",
       "      <th>0</th>\n",
       "      <td>0</td>\n",
       "      <td>Pedro Pires</td>\n",
       "      <td>1991-11-24</td>\n",
       "      <td>Rua Nascimento, 138\\nAlto Caiçaras\\n90265-817 ...</td>\n",
       "      <td>017.864.952-01</td>\n",
       "      <td>+55 (071) 4768-1812</td>\n",
       "      <td>noah11</td>\n",
       "      <td>$TGrb7!!Z85#</td>\n",
       "    </tr>\n",
       "    <tr>\n",
       "      <th>1</th>\n",
       "      <td>1</td>\n",
       "      <td>Sr. Lucca das Neves</td>\n",
       "      <td>1996-09-02</td>\n",
       "      <td>Chácara de Dias\\nMorro Dos Macacos\\n70964-614 ...</td>\n",
       "      <td>712.359.806-77</td>\n",
       "      <td>+55 81 2354 6365</td>\n",
       "      <td>dda-mota</td>\n",
       "      <td>hW91gUSP%1XT</td>\n",
       "    </tr>\n",
       "    <tr>\n",
       "      <th>2</th>\n",
       "      <td>2</td>\n",
       "      <td>Evelyn Fernandes</td>\n",
       "      <td>1977-01-16</td>\n",
       "      <td>Colônia da Paz\\nHorto\\n89259-405 Ramos de Cava...</td>\n",
       "      <td>820.175.936-21</td>\n",
       "      <td>+55 81 7187-1788</td>\n",
       "      <td>laura11</td>\n",
       "      <td>l7J6Wro*@KcQ</td>\n",
       "    </tr>\n",
       "    <tr>\n",
       "      <th>3</th>\n",
       "      <td>3</td>\n",
       "      <td>André Ferreira</td>\n",
       "      <td>1977-01-13</td>\n",
       "      <td>Feira Gonçalves, 31\\nVista Alegre\\n93103-525 d...</td>\n",
       "      <td>907.648.352-38</td>\n",
       "      <td>+55 (021) 4266-1545</td>\n",
       "      <td>laraazevedo</td>\n",
       "      <td>N+4m7gqFH$!B</td>\n",
       "    </tr>\n",
       "    <tr>\n",
       "      <th>4</th>\n",
       "      <td>4</td>\n",
       "      <td>Carolina Oliveira</td>\n",
       "      <td>1952-10-19</td>\n",
       "      <td>Área de Ramos, 802\\nSerra Do Curral\\n28413851 ...</td>\n",
       "      <td>615.843.270-90</td>\n",
       "      <td>+55 51 7418 6865</td>\n",
       "      <td>amandaaragao</td>\n",
       "      <td>G^vHpyFQt(25</td>\n",
       "    </tr>\n",
       "    <tr>\n",
       "      <th>...</th>\n",
       "      <td>...</td>\n",
       "      <td>...</td>\n",
       "      <td>...</td>\n",
       "      <td>...</td>\n",
       "      <td>...</td>\n",
       "      <td>...</td>\n",
       "      <td>...</td>\n",
       "      <td>...</td>\n",
       "    </tr>\n",
       "    <tr>\n",
       "      <th>195</th>\n",
       "      <td>195</td>\n",
       "      <td>Pietra da Rocha</td>\n",
       "      <td>1984-11-19</td>\n",
       "      <td>Praia Porto, 979\\nNovo São Lucas\\n59852510 Dia...</td>\n",
       "      <td>302.651.897-21</td>\n",
       "      <td>61 5750 0549</td>\n",
       "      <td>enzovieira</td>\n",
       "      <td>%2r#IYp#t4la</td>\n",
       "    </tr>\n",
       "    <tr>\n",
       "      <th>196</th>\n",
       "      <td>196</td>\n",
       "      <td>Lorenzo da Paz</td>\n",
       "      <td>1977-04-04</td>\n",
       "      <td>Residencial de Rocha, 83\\nSanta Monica\\n079342...</td>\n",
       "      <td>269.140.758-67</td>\n",
       "      <td>(061) 1950-5995</td>\n",
       "      <td>hcaldeira</td>\n",
       "      <td>_(+GW!z8$dt7</td>\n",
       "    </tr>\n",
       "    <tr>\n",
       "      <th>197</th>\n",
       "      <td>197</td>\n",
       "      <td>Cauã Silva</td>\n",
       "      <td>1950-07-19</td>\n",
       "      <td>Trecho Murilo Correia, 98\\nSanta Rita De Cássi...</td>\n",
       "      <td>769.215.380-95</td>\n",
       "      <td>51 2719 8507</td>\n",
       "      <td>pporto</td>\n",
       "      <td>$7UN%1GuqPNU</td>\n",
       "    </tr>\n",
       "    <tr>\n",
       "      <th>198</th>\n",
       "      <td>198</td>\n",
       "      <td>Catarina da Cruz</td>\n",
       "      <td>1972-04-09</td>\n",
       "      <td>Praça Benício da Luz, 15\\nAguas Claras\\n53245-...</td>\n",
       "      <td>681.945.023-06</td>\n",
       "      <td>+55 31 7670 3939</td>\n",
       "      <td>bernardomoreira</td>\n",
       "      <td>PD36DGibZgY&amp;</td>\n",
       "    </tr>\n",
       "    <tr>\n",
       "      <th>199</th>\n",
       "      <td>199</td>\n",
       "      <td>Joana da Cruz</td>\n",
       "      <td>1969-11-06</td>\n",
       "      <td>Rodovia Luiz Fernando Almeida\\nMarieta 3ª Seçã...</td>\n",
       "      <td>421.086.973-22</td>\n",
       "      <td>+55 (071) 5219 2212</td>\n",
       "      <td>da-motamaria-julia</td>\n",
       "      <td>3SB3uljX#)YE</td>\n",
       "    </tr>\n",
       "  </tbody>\n",
       "</table>\n",
       "<p>200 rows × 8 columns</p>\n",
       "</div>"
      ],
      "text/plain": [
       "      id                 nome  nascimento  \\\n",
       "0      0          Pedro Pires  1991-11-24   \n",
       "1      1  Sr. Lucca das Neves  1996-09-02   \n",
       "2      2     Evelyn Fernandes  1977-01-16   \n",
       "3      3       André Ferreira  1977-01-13   \n",
       "4      4    Carolina Oliveira  1952-10-19   \n",
       "..   ...                  ...         ...   \n",
       "195  195      Pietra da Rocha  1984-11-19   \n",
       "196  196       Lorenzo da Paz  1977-04-04   \n",
       "197  197           Cauã Silva  1950-07-19   \n",
       "198  198     Catarina da Cruz  1972-04-09   \n",
       "199  199        Joana da Cruz  1969-11-06   \n",
       "\n",
       "                                              endereço             cpf  \\\n",
       "0    Rua Nascimento, 138\\nAlto Caiçaras\\n90265-817 ...  017.864.952-01   \n",
       "1    Chácara de Dias\\nMorro Dos Macacos\\n70964-614 ...  712.359.806-77   \n",
       "2    Colônia da Paz\\nHorto\\n89259-405 Ramos de Cava...  820.175.936-21   \n",
       "3    Feira Gonçalves, 31\\nVista Alegre\\n93103-525 d...  907.648.352-38   \n",
       "4    Área de Ramos, 802\\nSerra Do Curral\\n28413851 ...  615.843.270-90   \n",
       "..                                                 ...             ...   \n",
       "195  Praia Porto, 979\\nNovo São Lucas\\n59852510 Dia...  302.651.897-21   \n",
       "196  Residencial de Rocha, 83\\nSanta Monica\\n079342...  269.140.758-67   \n",
       "197  Trecho Murilo Correia, 98\\nSanta Rita De Cássi...  769.215.380-95   \n",
       "198  Praça Benício da Luz, 15\\nAguas Claras\\n53245-...  681.945.023-06   \n",
       "199  Rodovia Luiz Fernando Almeida\\nMarieta 3ª Seçã...  421.086.973-22   \n",
       "\n",
       "                telefone             usuario         senha  \n",
       "0    +55 (071) 4768-1812              noah11  $TGrb7!!Z85#  \n",
       "1       +55 81 2354 6365            dda-mota  hW91gUSP%1XT  \n",
       "2       +55 81 7187-1788             laura11  l7J6Wro*@KcQ  \n",
       "3    +55 (021) 4266-1545         laraazevedo  N+4m7gqFH$!B  \n",
       "4       +55 51 7418 6865        amandaaragao  G^vHpyFQt(25  \n",
       "..                   ...                 ...           ...  \n",
       "195         61 5750 0549          enzovieira  %2r#IYp#t4la  \n",
       "196      (061) 1950-5995           hcaldeira  _(+GW!z8$dt7  \n",
       "197         51 2719 8507              pporto  $7UN%1GuqPNU  \n",
       "198     +55 31 7670 3939     bernardomoreira  PD36DGibZgY&  \n",
       "199  +55 (071) 5219 2212  da-motamaria-julia  3SB3uljX#)YE  \n",
       "\n",
       "[200 rows x 8 columns]"
      ]
     },
     "execution_count": 319,
     "metadata": {},
     "output_type": "execute_result"
    }
   ],
   "source": [
    "clientes=p[1]\n",
    "clientes"
   ]
  },
  {
   "cell_type": "code",
   "execution_count": 320,
   "id": "c549b3fe",
   "metadata": {},
   "outputs": [
    {
     "data": {
      "text/html": [
       "<div>\n",
       "<style scoped>\n",
       "    .dataframe tbody tr th:only-of-type {\n",
       "        vertical-align: middle;\n",
       "    }\n",
       "\n",
       "    .dataframe tbody tr th {\n",
       "        vertical-align: top;\n",
       "    }\n",
       "\n",
       "    .dataframe thead th {\n",
       "        text-align: right;\n",
       "    }\n",
       "</style>\n",
       "<table border=\"1\" class=\"dataframe\">\n",
       "  <thead>\n",
       "    <tr style=\"text-align: right;\">\n",
       "      <th></th>\n",
       "      <th>id</th>\n",
       "      <th>id_cliente</th>\n",
       "      <th>data</th>\n",
       "    </tr>\n",
       "  </thead>\n",
       "  <tbody>\n",
       "    <tr>\n",
       "      <th>0</th>\n",
       "      <td>0</td>\n",
       "      <td>69</td>\n",
       "      <td>2021-11-01</td>\n",
       "    </tr>\n",
       "    <tr>\n",
       "      <th>1</th>\n",
       "      <td>1</td>\n",
       "      <td>116</td>\n",
       "      <td>2021-11-01</td>\n",
       "    </tr>\n",
       "    <tr>\n",
       "      <th>2</th>\n",
       "      <td>2</td>\n",
       "      <td>100</td>\n",
       "      <td>2021-11-01</td>\n",
       "    </tr>\n",
       "    <tr>\n",
       "      <th>3</th>\n",
       "      <td>3</td>\n",
       "      <td>94</td>\n",
       "      <td>2021-11-01</td>\n",
       "    </tr>\n",
       "    <tr>\n",
       "      <th>4</th>\n",
       "      <td>4</td>\n",
       "      <td>100</td>\n",
       "      <td>2021-11-01</td>\n",
       "    </tr>\n",
       "    <tr>\n",
       "      <th>...</th>\n",
       "      <td>...</td>\n",
       "      <td>...</td>\n",
       "      <td>...</td>\n",
       "    </tr>\n",
       "    <tr>\n",
       "      <th>495</th>\n",
       "      <td>495</td>\n",
       "      <td>54</td>\n",
       "      <td>2021-11-30</td>\n",
       "    </tr>\n",
       "    <tr>\n",
       "      <th>496</th>\n",
       "      <td>496</td>\n",
       "      <td>15</td>\n",
       "      <td>2021-11-30</td>\n",
       "    </tr>\n",
       "    <tr>\n",
       "      <th>497</th>\n",
       "      <td>497</td>\n",
       "      <td>112</td>\n",
       "      <td>2021-11-30</td>\n",
       "    </tr>\n",
       "    <tr>\n",
       "      <th>498</th>\n",
       "      <td>498</td>\n",
       "      <td>75</td>\n",
       "      <td>2021-11-30</td>\n",
       "    </tr>\n",
       "    <tr>\n",
       "      <th>499</th>\n",
       "      <td>499</td>\n",
       "      <td>149</td>\n",
       "      <td>2021-11-30</td>\n",
       "    </tr>\n",
       "  </tbody>\n",
       "</table>\n",
       "<p>500 rows × 3 columns</p>\n",
       "</div>"
      ],
      "text/plain": [
       "      id  id_cliente       data\n",
       "0      0          69 2021-11-01\n",
       "1      1         116 2021-11-01\n",
       "2      2         100 2021-11-01\n",
       "3      3          94 2021-11-01\n",
       "4      4         100 2021-11-01\n",
       "..   ...         ...        ...\n",
       "495  495          54 2021-11-30\n",
       "496  496          15 2021-11-30\n",
       "497  497         112 2021-11-30\n",
       "498  498          75 2021-11-30\n",
       "499  499         149 2021-11-30\n",
       "\n",
       "[500 rows x 3 columns]"
      ]
     },
     "execution_count": 320,
     "metadata": {},
     "output_type": "execute_result"
    }
   ],
   "source": [
    "vendas=p[2]\n",
    "vendas"
   ]
  },
  {
   "cell_type": "code",
   "execution_count": 321,
   "id": "b6987937",
   "metadata": {},
   "outputs": [
    {
     "data": {
      "text/html": [
       "<div>\n",
       "<style scoped>\n",
       "    .dataframe tbody tr th:only-of-type {\n",
       "        vertical-align: middle;\n",
       "    }\n",
       "\n",
       "    .dataframe tbody tr th {\n",
       "        vertical-align: top;\n",
       "    }\n",
       "\n",
       "    .dataframe thead th {\n",
       "        text-align: right;\n",
       "    }\n",
       "</style>\n",
       "<table border=\"1\" class=\"dataframe\">\n",
       "  <thead>\n",
       "    <tr style=\"text-align: right;\">\n",
       "      <th></th>\n",
       "      <th>id_vendas</th>\n",
       "      <th>id_produto</th>\n",
       "      <th>quantidade</th>\n",
       "    </tr>\n",
       "  </thead>\n",
       "  <tbody>\n",
       "    <tr>\n",
       "      <th>0</th>\n",
       "      <td>0</td>\n",
       "      <td>11</td>\n",
       "      <td>2</td>\n",
       "    </tr>\n",
       "    <tr>\n",
       "      <th>1</th>\n",
       "      <td>1</td>\n",
       "      <td>3</td>\n",
       "      <td>1</td>\n",
       "    </tr>\n",
       "    <tr>\n",
       "      <th>2</th>\n",
       "      <td>2</td>\n",
       "      <td>5</td>\n",
       "      <td>2</td>\n",
       "    </tr>\n",
       "    <tr>\n",
       "      <th>3</th>\n",
       "      <td>3</td>\n",
       "      <td>3</td>\n",
       "      <td>2</td>\n",
       "    </tr>\n",
       "    <tr>\n",
       "      <th>4</th>\n",
       "      <td>4</td>\n",
       "      <td>5</td>\n",
       "      <td>1</td>\n",
       "    </tr>\n",
       "    <tr>\n",
       "      <th>...</th>\n",
       "      <td>...</td>\n",
       "      <td>...</td>\n",
       "      <td>...</td>\n",
       "    </tr>\n",
       "    <tr>\n",
       "      <th>2495</th>\n",
       "      <td>181</td>\n",
       "      <td>2</td>\n",
       "      <td>1</td>\n",
       "    </tr>\n",
       "    <tr>\n",
       "      <th>2496</th>\n",
       "      <td>54</td>\n",
       "      <td>10</td>\n",
       "      <td>2</td>\n",
       "    </tr>\n",
       "    <tr>\n",
       "      <th>2497</th>\n",
       "      <td>170</td>\n",
       "      <td>7</td>\n",
       "      <td>4</td>\n",
       "    </tr>\n",
       "    <tr>\n",
       "      <th>2498</th>\n",
       "      <td>37</td>\n",
       "      <td>7</td>\n",
       "      <td>2</td>\n",
       "    </tr>\n",
       "    <tr>\n",
       "      <th>2499</th>\n",
       "      <td>1</td>\n",
       "      <td>11</td>\n",
       "      <td>3</td>\n",
       "    </tr>\n",
       "  </tbody>\n",
       "</table>\n",
       "<p>2500 rows × 3 columns</p>\n",
       "</div>"
      ],
      "text/plain": [
       "      id_vendas  id_produto  quantidade\n",
       "0             0          11           2\n",
       "1             1           3           1\n",
       "2             2           5           2\n",
       "3             3           3           2\n",
       "4             4           5           1\n",
       "...         ...         ...         ...\n",
       "2495        181           2           1\n",
       "2496         54          10           2\n",
       "2497        170           7           4\n",
       "2498         37           7           2\n",
       "2499          1          11           3\n",
       "\n",
       "[2500 rows x 3 columns]"
      ]
     },
     "execution_count": 321,
     "metadata": {},
     "output_type": "execute_result"
    }
   ],
   "source": [
    "venda_produtos=p[3]\n",
    "venda_produtos"
   ]
  },
  {
   "cell_type": "markdown",
   "id": "77a9a467",
   "metadata": {},
   "source": [
    "##  Total de vendas por produto"
   ]
  },
  {
   "cell_type": "code",
   "execution_count": 322,
   "id": "fe3c1491",
   "metadata": {},
   "outputs": [
    {
     "data": {
      "text/html": [
       "<div>\n",
       "<style scoped>\n",
       "    .dataframe tbody tr th:only-of-type {\n",
       "        vertical-align: middle;\n",
       "    }\n",
       "\n",
       "    .dataframe tbody tr th {\n",
       "        vertical-align: top;\n",
       "    }\n",
       "\n",
       "    .dataframe thead th {\n",
       "        text-align: right;\n",
       "    }\n",
       "</style>\n",
       "<table border=\"1\" class=\"dataframe\">\n",
       "  <thead>\n",
       "    <tr style=\"text-align: right;\">\n",
       "      <th></th>\n",
       "      <th>id_vendas</th>\n",
       "      <th>id_produto</th>\n",
       "      <th>quantidade</th>\n",
       "      <th>nome</th>\n",
       "      <th>preco</th>\n",
       "      <th>prateleira</th>\n",
       "      <th>estoque</th>\n",
       "      <th>unidade_de_medida_de_estoque</th>\n",
       "      <th>id_cliente</th>\n",
       "      <th>data</th>\n",
       "      <th>nome_cliente</th>\n",
       "      <th>nascimento</th>\n",
       "      <th>endereço</th>\n",
       "      <th>cpf</th>\n",
       "      <th>telefone</th>\n",
       "      <th>usuario</th>\n",
       "      <th>senha</th>\n",
       "    </tr>\n",
       "  </thead>\n",
       "  <tbody>\n",
       "    <tr>\n",
       "      <th>0</th>\n",
       "      <td>325.0</td>\n",
       "      <td>1.0</td>\n",
       "      <td>4.0</td>\n",
       "      <td>melancia</td>\n",
       "      <td>1.49</td>\n",
       "      <td>1C</td>\n",
       "      <td>20.0</td>\n",
       "      <td>unidades</td>\n",
       "      <td>0</td>\n",
       "      <td>2021-11-22</td>\n",
       "      <td>Pedro Pires</td>\n",
       "      <td>1991-11-24</td>\n",
       "      <td>Rua Nascimento, 138\\nAlto Caiçaras\\n90265-817 ...</td>\n",
       "      <td>017.864.952-01</td>\n",
       "      <td>+55 (071) 4768-1812</td>\n",
       "      <td>noah11</td>\n",
       "      <td>$TGrb7!!Z85#</td>\n",
       "    </tr>\n",
       "    <tr>\n",
       "      <th>1</th>\n",
       "      <td>339.0</td>\n",
       "      <td>1.0</td>\n",
       "      <td>4.0</td>\n",
       "      <td>melancia</td>\n",
       "      <td>1.49</td>\n",
       "      <td>1C</td>\n",
       "      <td>20.0</td>\n",
       "      <td>unidades</td>\n",
       "      <td>0</td>\n",
       "      <td>2021-11-22</td>\n",
       "      <td>Pedro Pires</td>\n",
       "      <td>1991-11-24</td>\n",
       "      <td>Rua Nascimento, 138\\nAlto Caiçaras\\n90265-817 ...</td>\n",
       "      <td>017.864.952-01</td>\n",
       "      <td>+55 (071) 4768-1812</td>\n",
       "      <td>noah11</td>\n",
       "      <td>$TGrb7!!Z85#</td>\n",
       "    </tr>\n",
       "    <tr>\n",
       "      <th>2</th>\n",
       "      <td>341.0</td>\n",
       "      <td>2.0</td>\n",
       "      <td>4.0</td>\n",
       "      <td>banana</td>\n",
       "      <td>5.99</td>\n",
       "      <td>1B</td>\n",
       "      <td>40.0</td>\n",
       "      <td>kg</td>\n",
       "      <td>0</td>\n",
       "      <td>2021-11-22</td>\n",
       "      <td>Pedro Pires</td>\n",
       "      <td>1991-11-24</td>\n",
       "      <td>Rua Nascimento, 138\\nAlto Caiçaras\\n90265-817 ...</td>\n",
       "      <td>017.864.952-01</td>\n",
       "      <td>+55 (071) 4768-1812</td>\n",
       "      <td>noah11</td>\n",
       "      <td>$TGrb7!!Z85#</td>\n",
       "    </tr>\n",
       "    <tr>\n",
       "      <th>3</th>\n",
       "      <td>410.0</td>\n",
       "      <td>10.0</td>\n",
       "      <td>3.0</td>\n",
       "      <td>arroz</td>\n",
       "      <td>20.31</td>\n",
       "      <td>3A</td>\n",
       "      <td>80.0</td>\n",
       "      <td>kg</td>\n",
       "      <td>1</td>\n",
       "      <td>2021-11-27</td>\n",
       "      <td>Sr. Lucca das Neves</td>\n",
       "      <td>1996-09-02</td>\n",
       "      <td>Chácara de Dias\\nMorro Dos Macacos\\n70964-614 ...</td>\n",
       "      <td>712.359.806-77</td>\n",
       "      <td>+55 81 2354 6365</td>\n",
       "      <td>dda-mota</td>\n",
       "      <td>hW91gUSP%1XT</td>\n",
       "    </tr>\n",
       "    <tr>\n",
       "      <th>4</th>\n",
       "      <td>NaN</td>\n",
       "      <td>NaN</td>\n",
       "      <td>NaN</td>\n",
       "      <td>NaN</td>\n",
       "      <td>NaN</td>\n",
       "      <td>NaN</td>\n",
       "      <td>NaN</td>\n",
       "      <td>NaN</td>\n",
       "      <td>2</td>\n",
       "      <td>NaT</td>\n",
       "      <td>Evelyn Fernandes</td>\n",
       "      <td>1977-01-16</td>\n",
       "      <td>Colônia da Paz\\nHorto\\n89259-405 Ramos de Cava...</td>\n",
       "      <td>820.175.936-21</td>\n",
       "      <td>+55 81 7187-1788</td>\n",
       "      <td>laura11</td>\n",
       "      <td>l7J6Wro*@KcQ</td>\n",
       "    </tr>\n",
       "    <tr>\n",
       "      <th>...</th>\n",
       "      <td>...</td>\n",
       "      <td>...</td>\n",
       "      <td>...</td>\n",
       "      <td>...</td>\n",
       "      <td>...</td>\n",
       "      <td>...</td>\n",
       "      <td>...</td>\n",
       "      <td>...</td>\n",
       "      <td>...</td>\n",
       "      <td>...</td>\n",
       "      <td>...</td>\n",
       "      <td>...</td>\n",
       "      <td>...</td>\n",
       "      <td>...</td>\n",
       "      <td>...</td>\n",
       "      <td>...</td>\n",
       "      <td>...</td>\n",
       "    </tr>\n",
       "    <tr>\n",
       "      <th>2504</th>\n",
       "      <td>333.0</td>\n",
       "      <td>10.0</td>\n",
       "      <td>3.0</td>\n",
       "      <td>arroz</td>\n",
       "      <td>20.31</td>\n",
       "      <td>3A</td>\n",
       "      <td>80.0</td>\n",
       "      <td>kg</td>\n",
       "      <td>196</td>\n",
       "      <td>2021-11-22</td>\n",
       "      <td>Lorenzo da Paz</td>\n",
       "      <td>1977-04-04</td>\n",
       "      <td>Residencial de Rocha, 83\\nSanta Monica\\n079342...</td>\n",
       "      <td>269.140.758-67</td>\n",
       "      <td>(061) 1950-5995</td>\n",
       "      <td>hcaldeira</td>\n",
       "      <td>_(+GW!z8$dt7</td>\n",
       "    </tr>\n",
       "    <tr>\n",
       "      <th>2505</th>\n",
       "      <td>332.0</td>\n",
       "      <td>5.0</td>\n",
       "      <td>4.0</td>\n",
       "      <td>berinjela</td>\n",
       "      <td>11.99</td>\n",
       "      <td>2D</td>\n",
       "      <td>12.0</td>\n",
       "      <td>kg</td>\n",
       "      <td>197</td>\n",
       "      <td>2021-11-22</td>\n",
       "      <td>Cauã Silva</td>\n",
       "      <td>1950-07-19</td>\n",
       "      <td>Trecho Murilo Correia, 98\\nSanta Rita De Cássi...</td>\n",
       "      <td>769.215.380-95</td>\n",
       "      <td>51 2719 8507</td>\n",
       "      <td>pporto</td>\n",
       "      <td>$7UN%1GuqPNU</td>\n",
       "    </tr>\n",
       "    <tr>\n",
       "      <th>2506</th>\n",
       "      <td>416.0</td>\n",
       "      <td>7.0</td>\n",
       "      <td>4.0</td>\n",
       "      <td>alface</td>\n",
       "      <td>0.98</td>\n",
       "      <td>2C</td>\n",
       "      <td>25.0</td>\n",
       "      <td>pés</td>\n",
       "      <td>197</td>\n",
       "      <td>2021-11-27</td>\n",
       "      <td>Cauã Silva</td>\n",
       "      <td>1950-07-19</td>\n",
       "      <td>Trecho Murilo Correia, 98\\nSanta Rita De Cássi...</td>\n",
       "      <td>769.215.380-95</td>\n",
       "      <td>51 2719 8507</td>\n",
       "      <td>pporto</td>\n",
       "      <td>$7UN%1GuqPNU</td>\n",
       "    </tr>\n",
       "    <tr>\n",
       "      <th>2507</th>\n",
       "      <td>NaN</td>\n",
       "      <td>NaN</td>\n",
       "      <td>NaN</td>\n",
       "      <td>NaN</td>\n",
       "      <td>NaN</td>\n",
       "      <td>NaN</td>\n",
       "      <td>NaN</td>\n",
       "      <td>NaN</td>\n",
       "      <td>198</td>\n",
       "      <td>NaT</td>\n",
       "      <td>Catarina da Cruz</td>\n",
       "      <td>1972-04-09</td>\n",
       "      <td>Praça Benício da Luz, 15\\nAguas Claras\\n53245-...</td>\n",
       "      <td>681.945.023-06</td>\n",
       "      <td>+55 31 7670 3939</td>\n",
       "      <td>bernardomoreira</td>\n",
       "      <td>PD36DGibZgY&amp;</td>\n",
       "    </tr>\n",
       "    <tr>\n",
       "      <th>2508</th>\n",
       "      <td>NaN</td>\n",
       "      <td>NaN</td>\n",
       "      <td>NaN</td>\n",
       "      <td>NaN</td>\n",
       "      <td>NaN</td>\n",
       "      <td>NaN</td>\n",
       "      <td>NaN</td>\n",
       "      <td>NaN</td>\n",
       "      <td>199</td>\n",
       "      <td>NaT</td>\n",
       "      <td>Joana da Cruz</td>\n",
       "      <td>1969-11-06</td>\n",
       "      <td>Rodovia Luiz Fernando Almeida\\nMarieta 3ª Seçã...</td>\n",
       "      <td>421.086.973-22</td>\n",
       "      <td>+55 (071) 5219 2212</td>\n",
       "      <td>da-motamaria-julia</td>\n",
       "      <td>3SB3uljX#)YE</td>\n",
       "    </tr>\n",
       "  </tbody>\n",
       "</table>\n",
       "<p>2509 rows × 17 columns</p>\n",
       "</div>"
      ],
      "text/plain": [
       "      id_vendas  id_produto  quantidade       nome  preco prateleira  estoque  \\\n",
       "0         325.0         1.0         4.0   melancia   1.49         1C     20.0   \n",
       "1         339.0         1.0         4.0   melancia   1.49         1C     20.0   \n",
       "2         341.0         2.0         4.0     banana   5.99         1B     40.0   \n",
       "3         410.0        10.0         3.0      arroz  20.31         3A     80.0   \n",
       "4           NaN         NaN         NaN        NaN    NaN        NaN      NaN   \n",
       "...         ...         ...         ...        ...    ...        ...      ...   \n",
       "2504      333.0        10.0         3.0      arroz  20.31         3A     80.0   \n",
       "2505      332.0         5.0         4.0  berinjela  11.99         2D     12.0   \n",
       "2506      416.0         7.0         4.0     alface   0.98         2C     25.0   \n",
       "2507        NaN         NaN         NaN        NaN    NaN        NaN      NaN   \n",
       "2508        NaN         NaN         NaN        NaN    NaN        NaN      NaN   \n",
       "\n",
       "     unidade_de_medida_de_estoque  id_cliente       data         nome_cliente  \\\n",
       "0                        unidades           0 2021-11-22          Pedro Pires   \n",
       "1                        unidades           0 2021-11-22          Pedro Pires   \n",
       "2                              kg           0 2021-11-22          Pedro Pires   \n",
       "3                              kg           1 2021-11-27  Sr. Lucca das Neves   \n",
       "4                             NaN           2        NaT     Evelyn Fernandes   \n",
       "...                           ...         ...        ...                  ...   \n",
       "2504                           kg         196 2021-11-22       Lorenzo da Paz   \n",
       "2505                           kg         197 2021-11-22           Cauã Silva   \n",
       "2506                          pés         197 2021-11-27           Cauã Silva   \n",
       "2507                          NaN         198        NaT     Catarina da Cruz   \n",
       "2508                          NaN         199        NaT        Joana da Cruz   \n",
       "\n",
       "      nascimento                                           endereço  \\\n",
       "0     1991-11-24  Rua Nascimento, 138\\nAlto Caiçaras\\n90265-817 ...   \n",
       "1     1991-11-24  Rua Nascimento, 138\\nAlto Caiçaras\\n90265-817 ...   \n",
       "2     1991-11-24  Rua Nascimento, 138\\nAlto Caiçaras\\n90265-817 ...   \n",
       "3     1996-09-02  Chácara de Dias\\nMorro Dos Macacos\\n70964-614 ...   \n",
       "4     1977-01-16  Colônia da Paz\\nHorto\\n89259-405 Ramos de Cava...   \n",
       "...          ...                                                ...   \n",
       "2504  1977-04-04  Residencial de Rocha, 83\\nSanta Monica\\n079342...   \n",
       "2505  1950-07-19  Trecho Murilo Correia, 98\\nSanta Rita De Cássi...   \n",
       "2506  1950-07-19  Trecho Murilo Correia, 98\\nSanta Rita De Cássi...   \n",
       "2507  1972-04-09  Praça Benício da Luz, 15\\nAguas Claras\\n53245-...   \n",
       "2508  1969-11-06  Rodovia Luiz Fernando Almeida\\nMarieta 3ª Seçã...   \n",
       "\n",
       "                 cpf             telefone             usuario         senha  \n",
       "0     017.864.952-01  +55 (071) 4768-1812              noah11  $TGrb7!!Z85#  \n",
       "1     017.864.952-01  +55 (071) 4768-1812              noah11  $TGrb7!!Z85#  \n",
       "2     017.864.952-01  +55 (071) 4768-1812              noah11  $TGrb7!!Z85#  \n",
       "3     712.359.806-77     +55 81 2354 6365            dda-mota  hW91gUSP%1XT  \n",
       "4     820.175.936-21     +55 81 7187-1788             laura11  l7J6Wro*@KcQ  \n",
       "...              ...                  ...                 ...           ...  \n",
       "2504  269.140.758-67      (061) 1950-5995           hcaldeira  _(+GW!z8$dt7  \n",
       "2505  769.215.380-95         51 2719 8507              pporto  $7UN%1GuqPNU  \n",
       "2506  769.215.380-95         51 2719 8507              pporto  $7UN%1GuqPNU  \n",
       "2507  681.945.023-06     +55 31 7670 3939     bernardomoreira  PD36DGibZgY&  \n",
       "2508  421.086.973-22  +55 (071) 5219 2212  da-motamaria-julia  3SB3uljX#)YE  \n",
       "\n",
       "[2509 rows x 17 columns]"
      ]
     },
     "execution_count": 322,
     "metadata": {},
     "output_type": "execute_result"
    }
   ],
   "source": [
    "#renomenado a coluna id para id produto na tabela de produtos\n",
    "produtos.rename(columns={\"id\": \"id_produto\"}, inplace = 1)\n",
    "#realizando a união das tabelas produtos e venda_produtos em id_produtos\n",
    "venda_produtos = pd.merge(venda_produtos, produtos, on = 'id_produto', how='right')\n",
    "#renomenado a coluna id para id_vendas na tabela de vendas\n",
    "vendas.rename(columns={\"id\": \"id_vendas\"}, inplace = 1)\n",
    "#realizando a união das tabelas vendas e venda_produtos em id_vendas\n",
    "venda_produtos = pd.merge(venda_produtos, vendas, on = 'id_vendas', how='right')\n",
    "\n",
    "#renomenado a coluna id para id_clientes na tabela de clientes\n",
    "clientes.rename(columns={\"id\": \"id_cliente\"}, inplace = 1)\n",
    "#renomenado a coluna nome para nome_cliente na tabela de clientes\n",
    "clientes.rename(columns={\"nome\": \"nome_cliente\"}, inplace = 1)\n",
    "\n",
    "#realizando a união das tabelas clientes e venda_produtos em id_cliente\n",
    "venda_produtos_cliente = pd.merge(venda_produtos, clientes, on = 'id_cliente', how='right')\n",
    "venda_produtos_cliente"
   ]
  },
  {
   "cell_type": "code",
   "execution_count": 323,
   "id": "0a5b51b9",
   "metadata": {},
   "outputs": [
    {
     "data": {
      "text/html": [
       "<div>\n",
       "<style scoped>\n",
       "    .dataframe tbody tr th:only-of-type {\n",
       "        vertical-align: middle;\n",
       "    }\n",
       "\n",
       "    .dataframe tbody tr th {\n",
       "        vertical-align: top;\n",
       "    }\n",
       "\n",
       "    .dataframe thead th {\n",
       "        text-align: right;\n",
       "    }\n",
       "</style>\n",
       "<table border=\"1\" class=\"dataframe\">\n",
       "  <thead>\n",
       "    <tr style=\"text-align: right;\">\n",
       "      <th></th>\n",
       "      <th>nome</th>\n",
       "      <th>quantidade</th>\n",
       "    </tr>\n",
       "  </thead>\n",
       "  <tbody>\n",
       "    <tr>\n",
       "      <th>0</th>\n",
       "      <td>arroz</td>\n",
       "      <td>577.0</td>\n",
       "    </tr>\n",
       "    <tr>\n",
       "      <th>1</th>\n",
       "      <td>berinjela</td>\n",
       "      <td>552.0</td>\n",
       "    </tr>\n",
       "    <tr>\n",
       "      <th>2</th>\n",
       "      <td>abobrinha</td>\n",
       "      <td>534.0</td>\n",
       "    </tr>\n",
       "    <tr>\n",
       "      <th>3</th>\n",
       "      <td>morango</td>\n",
       "      <td>533.0</td>\n",
       "    </tr>\n",
       "    <tr>\n",
       "      <th>4</th>\n",
       "      <td>banana</td>\n",
       "      <td>532.0</td>\n",
       "    </tr>\n",
       "    <tr>\n",
       "      <th>5</th>\n",
       "      <td>uva</td>\n",
       "      <td>522.0</td>\n",
       "    </tr>\n",
       "    <tr>\n",
       "      <th>6</th>\n",
       "      <td>macarrão</td>\n",
       "      <td>508.0</td>\n",
       "    </tr>\n",
       "    <tr>\n",
       "      <th>7</th>\n",
       "      <td>melancia</td>\n",
       "      <td>503.0</td>\n",
       "    </tr>\n",
       "    <tr>\n",
       "      <th>8</th>\n",
       "      <td>feijão</td>\n",
       "      <td>499.0</td>\n",
       "    </tr>\n",
       "    <tr>\n",
       "      <th>9</th>\n",
       "      <td>couve-flor</td>\n",
       "      <td>478.0</td>\n",
       "    </tr>\n",
       "    <tr>\n",
       "      <th>10</th>\n",
       "      <td>alface</td>\n",
       "      <td>471.0</td>\n",
       "    </tr>\n",
       "    <tr>\n",
       "      <th>11</th>\n",
       "      <td>batata</td>\n",
       "      <td>469.0</td>\n",
       "    </tr>\n",
       "  </tbody>\n",
       "</table>\n",
       "</div>"
      ],
      "text/plain": [
       "          nome  quantidade\n",
       "0        arroz       577.0\n",
       "1    berinjela       552.0\n",
       "2    abobrinha       534.0\n",
       "3      morango       533.0\n",
       "4       banana       532.0\n",
       "5          uva       522.0\n",
       "6     macarrão       508.0\n",
       "7     melancia       503.0\n",
       "8       feijão       499.0\n",
       "9   couve-flor       478.0\n",
       "10      alface       471.0\n",
       "11      batata       469.0"
      ]
     },
     "execution_count": 323,
     "metadata": {},
     "output_type": "execute_result"
    }
   ],
   "source": [
    "#agrupando a tabelas cendas_produto por nome (groupby), somando os valores (sum), organizando os valores em ordem decrescente por quantidade vendida (sort_values) e redefinindo o index (reset_index)\n",
    "venda_produtos_total=venda_produtos_cliente.groupby(\"nome\").sum().sort_values('quantidade', ascending=False).reset_index()\n",
    "\n",
    "#selecionando apenas as colunas que serão analisadas\n",
    "venda_produtos_total[[\"nome\", \"quantidade\"]]"
   ]
  },
  {
   "cell_type": "code",
   "execution_count": 324,
   "id": "bdd6d27c",
   "metadata": {},
   "outputs": [
    {
     "data": {
      "application/vnd.plotly.v1+json": {
       "config": {
        "plotlyServerURL": "https://plot.ly"
       },
       "data": [
        {
         "alignmentgroup": "True",
         "hovertemplate": "Nome=%{x}<br>Quantidade vendida=%{y}<extra></extra>",
         "legendgroup": "",
         "marker": {
          "color": "#636efa",
          "pattern": {
           "shape": ""
          }
         },
         "name": "",
         "offsetgroup": "",
         "orientation": "v",
         "showlegend": false,
         "textposition": "auto",
         "type": "bar",
         "x": [
          "arroz",
          "berinjela",
          "abobrinha",
          "morango",
          "banana",
          "uva",
          "macarrão",
          "melancia",
          "feijão",
          "couve-flor",
          "alface",
          "batata"
         ],
         "xaxis": "x",
         "y": [
          577,
          552,
          534,
          533,
          532,
          522,
          508,
          503,
          499,
          478,
          471,
          469
         ],
         "yaxis": "y"
        }
       ],
       "layout": {
        "barmode": "stack",
        "height": 500,
        "legend": {
         "tracegroupgap": 0
        },
        "margin": {
         "t": 60
        },
        "template": {
         "data": {
          "bar": [
           {
            "error_x": {
             "color": "#2a3f5f"
            },
            "error_y": {
             "color": "#2a3f5f"
            },
            "marker": {
             "line": {
              "color": "#E5ECF6",
              "width": 0.5
             },
             "pattern": {
              "fillmode": "overlay",
              "size": 10,
              "solidity": 0.2
             }
            },
            "type": "bar"
           }
          ],
          "barpolar": [
           {
            "marker": {
             "line": {
              "color": "#E5ECF6",
              "width": 0.5
             },
             "pattern": {
              "fillmode": "overlay",
              "size": 10,
              "solidity": 0.2
             }
            },
            "type": "barpolar"
           }
          ],
          "carpet": [
           {
            "aaxis": {
             "endlinecolor": "#2a3f5f",
             "gridcolor": "white",
             "linecolor": "white",
             "minorgridcolor": "white",
             "startlinecolor": "#2a3f5f"
            },
            "baxis": {
             "endlinecolor": "#2a3f5f",
             "gridcolor": "white",
             "linecolor": "white",
             "minorgridcolor": "white",
             "startlinecolor": "#2a3f5f"
            },
            "type": "carpet"
           }
          ],
          "choropleth": [
           {
            "colorbar": {
             "outlinewidth": 0,
             "ticks": ""
            },
            "type": "choropleth"
           }
          ],
          "contour": [
           {
            "colorbar": {
             "outlinewidth": 0,
             "ticks": ""
            },
            "colorscale": [
             [
              0,
              "#0d0887"
             ],
             [
              0.1111111111111111,
              "#46039f"
             ],
             [
              0.2222222222222222,
              "#7201a8"
             ],
             [
              0.3333333333333333,
              "#9c179e"
             ],
             [
              0.4444444444444444,
              "#bd3786"
             ],
             [
              0.5555555555555556,
              "#d8576b"
             ],
             [
              0.6666666666666666,
              "#ed7953"
             ],
             [
              0.7777777777777778,
              "#fb9f3a"
             ],
             [
              0.8888888888888888,
              "#fdca26"
             ],
             [
              1,
              "#f0f921"
             ]
            ],
            "type": "contour"
           }
          ],
          "contourcarpet": [
           {
            "colorbar": {
             "outlinewidth": 0,
             "ticks": ""
            },
            "type": "contourcarpet"
           }
          ],
          "heatmap": [
           {
            "colorbar": {
             "outlinewidth": 0,
             "ticks": ""
            },
            "colorscale": [
             [
              0,
              "#0d0887"
             ],
             [
              0.1111111111111111,
              "#46039f"
             ],
             [
              0.2222222222222222,
              "#7201a8"
             ],
             [
              0.3333333333333333,
              "#9c179e"
             ],
             [
              0.4444444444444444,
              "#bd3786"
             ],
             [
              0.5555555555555556,
              "#d8576b"
             ],
             [
              0.6666666666666666,
              "#ed7953"
             ],
             [
              0.7777777777777778,
              "#fb9f3a"
             ],
             [
              0.8888888888888888,
              "#fdca26"
             ],
             [
              1,
              "#f0f921"
             ]
            ],
            "type": "heatmap"
           }
          ],
          "heatmapgl": [
           {
            "colorbar": {
             "outlinewidth": 0,
             "ticks": ""
            },
            "colorscale": [
             [
              0,
              "#0d0887"
             ],
             [
              0.1111111111111111,
              "#46039f"
             ],
             [
              0.2222222222222222,
              "#7201a8"
             ],
             [
              0.3333333333333333,
              "#9c179e"
             ],
             [
              0.4444444444444444,
              "#bd3786"
             ],
             [
              0.5555555555555556,
              "#d8576b"
             ],
             [
              0.6666666666666666,
              "#ed7953"
             ],
             [
              0.7777777777777778,
              "#fb9f3a"
             ],
             [
              0.8888888888888888,
              "#fdca26"
             ],
             [
              1,
              "#f0f921"
             ]
            ],
            "type": "heatmapgl"
           }
          ],
          "histogram": [
           {
            "marker": {
             "pattern": {
              "fillmode": "overlay",
              "size": 10,
              "solidity": 0.2
             }
            },
            "type": "histogram"
           }
          ],
          "histogram2d": [
           {
            "colorbar": {
             "outlinewidth": 0,
             "ticks": ""
            },
            "colorscale": [
             [
              0,
              "#0d0887"
             ],
             [
              0.1111111111111111,
              "#46039f"
             ],
             [
              0.2222222222222222,
              "#7201a8"
             ],
             [
              0.3333333333333333,
              "#9c179e"
             ],
             [
              0.4444444444444444,
              "#bd3786"
             ],
             [
              0.5555555555555556,
              "#d8576b"
             ],
             [
              0.6666666666666666,
              "#ed7953"
             ],
             [
              0.7777777777777778,
              "#fb9f3a"
             ],
             [
              0.8888888888888888,
              "#fdca26"
             ],
             [
              1,
              "#f0f921"
             ]
            ],
            "type": "histogram2d"
           }
          ],
          "histogram2dcontour": [
           {
            "colorbar": {
             "outlinewidth": 0,
             "ticks": ""
            },
            "colorscale": [
             [
              0,
              "#0d0887"
             ],
             [
              0.1111111111111111,
              "#46039f"
             ],
             [
              0.2222222222222222,
              "#7201a8"
             ],
             [
              0.3333333333333333,
              "#9c179e"
             ],
             [
              0.4444444444444444,
              "#bd3786"
             ],
             [
              0.5555555555555556,
              "#d8576b"
             ],
             [
              0.6666666666666666,
              "#ed7953"
             ],
             [
              0.7777777777777778,
              "#fb9f3a"
             ],
             [
              0.8888888888888888,
              "#fdca26"
             ],
             [
              1,
              "#f0f921"
             ]
            ],
            "type": "histogram2dcontour"
           }
          ],
          "mesh3d": [
           {
            "colorbar": {
             "outlinewidth": 0,
             "ticks": ""
            },
            "type": "mesh3d"
           }
          ],
          "parcoords": [
           {
            "line": {
             "colorbar": {
              "outlinewidth": 0,
              "ticks": ""
             }
            },
            "type": "parcoords"
           }
          ],
          "pie": [
           {
            "automargin": true,
            "type": "pie"
           }
          ],
          "scatter": [
           {
            "marker": {
             "colorbar": {
              "outlinewidth": 0,
              "ticks": ""
             }
            },
            "type": "scatter"
           }
          ],
          "scatter3d": [
           {
            "line": {
             "colorbar": {
              "outlinewidth": 0,
              "ticks": ""
             }
            },
            "marker": {
             "colorbar": {
              "outlinewidth": 0,
              "ticks": ""
             }
            },
            "type": "scatter3d"
           }
          ],
          "scattercarpet": [
           {
            "marker": {
             "colorbar": {
              "outlinewidth": 0,
              "ticks": ""
             }
            },
            "type": "scattercarpet"
           }
          ],
          "scattergeo": [
           {
            "marker": {
             "colorbar": {
              "outlinewidth": 0,
              "ticks": ""
             }
            },
            "type": "scattergeo"
           }
          ],
          "scattergl": [
           {
            "marker": {
             "colorbar": {
              "outlinewidth": 0,
              "ticks": ""
             }
            },
            "type": "scattergl"
           }
          ],
          "scattermapbox": [
           {
            "marker": {
             "colorbar": {
              "outlinewidth": 0,
              "ticks": ""
             }
            },
            "type": "scattermapbox"
           }
          ],
          "scatterpolar": [
           {
            "marker": {
             "colorbar": {
              "outlinewidth": 0,
              "ticks": ""
             }
            },
            "type": "scatterpolar"
           }
          ],
          "scatterpolargl": [
           {
            "marker": {
             "colorbar": {
              "outlinewidth": 0,
              "ticks": ""
             }
            },
            "type": "scatterpolargl"
           }
          ],
          "scatterternary": [
           {
            "marker": {
             "colorbar": {
              "outlinewidth": 0,
              "ticks": ""
             }
            },
            "type": "scatterternary"
           }
          ],
          "surface": [
           {
            "colorbar": {
             "outlinewidth": 0,
             "ticks": ""
            },
            "colorscale": [
             [
              0,
              "#0d0887"
             ],
             [
              0.1111111111111111,
              "#46039f"
             ],
             [
              0.2222222222222222,
              "#7201a8"
             ],
             [
              0.3333333333333333,
              "#9c179e"
             ],
             [
              0.4444444444444444,
              "#bd3786"
             ],
             [
              0.5555555555555556,
              "#d8576b"
             ],
             [
              0.6666666666666666,
              "#ed7953"
             ],
             [
              0.7777777777777778,
              "#fb9f3a"
             ],
             [
              0.8888888888888888,
              "#fdca26"
             ],
             [
              1,
              "#f0f921"
             ]
            ],
            "type": "surface"
           }
          ],
          "table": [
           {
            "cells": {
             "fill": {
              "color": "#EBF0F8"
             },
             "line": {
              "color": "white"
             }
            },
            "header": {
             "fill": {
              "color": "#C8D4E3"
             },
             "line": {
              "color": "white"
             }
            },
            "type": "table"
           }
          ]
         },
         "layout": {
          "annotationdefaults": {
           "arrowcolor": "#2a3f5f",
           "arrowhead": 0,
           "arrowwidth": 1
          },
          "autotypenumbers": "strict",
          "coloraxis": {
           "colorbar": {
            "outlinewidth": 0,
            "ticks": ""
           }
          },
          "colorscale": {
           "diverging": [
            [
             0,
             "#8e0152"
            ],
            [
             0.1,
             "#c51b7d"
            ],
            [
             0.2,
             "#de77ae"
            ],
            [
             0.3,
             "#f1b6da"
            ],
            [
             0.4,
             "#fde0ef"
            ],
            [
             0.5,
             "#f7f7f7"
            ],
            [
             0.6,
             "#e6f5d0"
            ],
            [
             0.7,
             "#b8e186"
            ],
            [
             0.8,
             "#7fbc41"
            ],
            [
             0.9,
             "#4d9221"
            ],
            [
             1,
             "#276419"
            ]
           ],
           "sequential": [
            [
             0,
             "#0d0887"
            ],
            [
             0.1111111111111111,
             "#46039f"
            ],
            [
             0.2222222222222222,
             "#7201a8"
            ],
            [
             0.3333333333333333,
             "#9c179e"
            ],
            [
             0.4444444444444444,
             "#bd3786"
            ],
            [
             0.5555555555555556,
             "#d8576b"
            ],
            [
             0.6666666666666666,
             "#ed7953"
            ],
            [
             0.7777777777777778,
             "#fb9f3a"
            ],
            [
             0.8888888888888888,
             "#fdca26"
            ],
            [
             1,
             "#f0f921"
            ]
           ],
           "sequentialminus": [
            [
             0,
             "#0d0887"
            ],
            [
             0.1111111111111111,
             "#46039f"
            ],
            [
             0.2222222222222222,
             "#7201a8"
            ],
            [
             0.3333333333333333,
             "#9c179e"
            ],
            [
             0.4444444444444444,
             "#bd3786"
            ],
            [
             0.5555555555555556,
             "#d8576b"
            ],
            [
             0.6666666666666666,
             "#ed7953"
            ],
            [
             0.7777777777777778,
             "#fb9f3a"
            ],
            [
             0.8888888888888888,
             "#fdca26"
            ],
            [
             1,
             "#f0f921"
            ]
           ]
          },
          "colorway": [
           "#636efa",
           "#EF553B",
           "#00cc96",
           "#ab63fa",
           "#FFA15A",
           "#19d3f3",
           "#FF6692",
           "#B6E880",
           "#FF97FF",
           "#FECB52"
          ],
          "font": {
           "color": "#2a3f5f"
          },
          "geo": {
           "bgcolor": "white",
           "lakecolor": "white",
           "landcolor": "#E5ECF6",
           "showlakes": true,
           "showland": true,
           "subunitcolor": "white"
          },
          "hoverlabel": {
           "align": "left"
          },
          "hovermode": "closest",
          "mapbox": {
           "style": "light"
          },
          "paper_bgcolor": "white",
          "plot_bgcolor": "#E5ECF6",
          "polar": {
           "angularaxis": {
            "gridcolor": "white",
            "linecolor": "white",
            "ticks": ""
           },
           "bgcolor": "#E5ECF6",
           "radialaxis": {
            "gridcolor": "white",
            "linecolor": "white",
            "ticks": ""
           }
          },
          "scene": {
           "xaxis": {
            "backgroundcolor": "#E5ECF6",
            "gridcolor": "white",
            "gridwidth": 2,
            "linecolor": "white",
            "showbackground": true,
            "ticks": "",
            "zerolinecolor": "white"
           },
           "yaxis": {
            "backgroundcolor": "#E5ECF6",
            "gridcolor": "white",
            "gridwidth": 2,
            "linecolor": "white",
            "showbackground": true,
            "ticks": "",
            "zerolinecolor": "white"
           },
           "zaxis": {
            "backgroundcolor": "#E5ECF6",
            "gridcolor": "white",
            "gridwidth": 2,
            "linecolor": "white",
            "showbackground": true,
            "ticks": "",
            "zerolinecolor": "white"
           }
          },
          "shapedefaults": {
           "line": {
            "color": "#2a3f5f"
           }
          },
          "ternary": {
           "aaxis": {
            "gridcolor": "white",
            "linecolor": "white",
            "ticks": ""
           },
           "baxis": {
            "gridcolor": "white",
            "linecolor": "white",
            "ticks": ""
           },
           "bgcolor": "#E5ECF6",
           "caxis": {
            "gridcolor": "white",
            "linecolor": "white",
            "ticks": ""
           }
          },
          "title": {
           "x": 0.05
          },
          "xaxis": {
           "automargin": true,
           "gridcolor": "white",
           "linecolor": "white",
           "ticks": "",
           "title": {
            "standoff": 15
           },
           "zerolinecolor": "white",
           "zerolinewidth": 2
          },
          "yaxis": {
           "automargin": true,
           "gridcolor": "white",
           "linecolor": "white",
           "ticks": "",
           "title": {
            "standoff": 15
           },
           "zerolinecolor": "white",
           "zerolinewidth": 2
          }
         }
        },
        "title": {
         "text": "Venda dos produtos"
        },
        "width": 700,
        "xaxis": {
         "anchor": "y",
         "domain": [
          0,
          1
         ],
         "title": {
          "text": "Produto"
         }
        },
        "yaxis": {
         "anchor": "x",
         "domain": [
          0,
          1
         ],
         "title": {
          "text": "Quantidade vendida"
         }
        }
       }
      },
      "text/html": [
       "<div>                            <div id=\"c8e1b718-019f-4253-b2ef-2a1c433cfa38\" class=\"plotly-graph-div\" style=\"height:500px; width:700px;\"></div>            <script type=\"text/javascript\">                require([\"plotly\"], function(Plotly) {                    window.PLOTLYENV=window.PLOTLYENV || {};                                    if (document.getElementById(\"c8e1b718-019f-4253-b2ef-2a1c433cfa38\")) {                    Plotly.newPlot(                        \"c8e1b718-019f-4253-b2ef-2a1c433cfa38\",                        [{\"alignmentgroup\":\"True\",\"hovertemplate\":\"Nome=%{x}<br>Quantidade vendida=%{y}<extra></extra>\",\"legendgroup\":\"\",\"marker\":{\"color\":\"#636efa\",\"pattern\":{\"shape\":\"\"}},\"name\":\"\",\"offsetgroup\":\"\",\"orientation\":\"v\",\"showlegend\":false,\"textposition\":\"auto\",\"type\":\"bar\",\"x\":[\"arroz\",\"berinjela\",\"abobrinha\",\"morango\",\"banana\",\"uva\",\"macarr\\u00e3o\",\"melancia\",\"feij\\u00e3o\",\"couve-flor\",\"alface\",\"batata\"],\"xaxis\":\"x\",\"y\":[577.0,552.0,534.0,533.0,532.0,522.0,508.0,503.0,499.0,478.0,471.0,469.0],\"yaxis\":\"y\"}],                        {\"barmode\":\"stack\",\"height\":500,\"legend\":{\"tracegroupgap\":0},\"margin\":{\"t\":60},\"template\":{\"data\":{\"bar\":[{\"error_x\":{\"color\":\"#2a3f5f\"},\"error_y\":{\"color\":\"#2a3f5f\"},\"marker\":{\"line\":{\"color\":\"#E5ECF6\",\"width\":0.5},\"pattern\":{\"fillmode\":\"overlay\",\"size\":10,\"solidity\":0.2}},\"type\":\"bar\"}],\"barpolar\":[{\"marker\":{\"line\":{\"color\":\"#E5ECF6\",\"width\":0.5},\"pattern\":{\"fillmode\":\"overlay\",\"size\":10,\"solidity\":0.2}},\"type\":\"barpolar\"}],\"carpet\":[{\"aaxis\":{\"endlinecolor\":\"#2a3f5f\",\"gridcolor\":\"white\",\"linecolor\":\"white\",\"minorgridcolor\":\"white\",\"startlinecolor\":\"#2a3f5f\"},\"baxis\":{\"endlinecolor\":\"#2a3f5f\",\"gridcolor\":\"white\",\"linecolor\":\"white\",\"minorgridcolor\":\"white\",\"startlinecolor\":\"#2a3f5f\"},\"type\":\"carpet\"}],\"choropleth\":[{\"colorbar\":{\"outlinewidth\":0,\"ticks\":\"\"},\"type\":\"choropleth\"}],\"contour\":[{\"colorbar\":{\"outlinewidth\":0,\"ticks\":\"\"},\"colorscale\":[[0.0,\"#0d0887\"],[0.1111111111111111,\"#46039f\"],[0.2222222222222222,\"#7201a8\"],[0.3333333333333333,\"#9c179e\"],[0.4444444444444444,\"#bd3786\"],[0.5555555555555556,\"#d8576b\"],[0.6666666666666666,\"#ed7953\"],[0.7777777777777778,\"#fb9f3a\"],[0.8888888888888888,\"#fdca26\"],[1.0,\"#f0f921\"]],\"type\":\"contour\"}],\"contourcarpet\":[{\"colorbar\":{\"outlinewidth\":0,\"ticks\":\"\"},\"type\":\"contourcarpet\"}],\"heatmap\":[{\"colorbar\":{\"outlinewidth\":0,\"ticks\":\"\"},\"colorscale\":[[0.0,\"#0d0887\"],[0.1111111111111111,\"#46039f\"],[0.2222222222222222,\"#7201a8\"],[0.3333333333333333,\"#9c179e\"],[0.4444444444444444,\"#bd3786\"],[0.5555555555555556,\"#d8576b\"],[0.6666666666666666,\"#ed7953\"],[0.7777777777777778,\"#fb9f3a\"],[0.8888888888888888,\"#fdca26\"],[1.0,\"#f0f921\"]],\"type\":\"heatmap\"}],\"heatmapgl\":[{\"colorbar\":{\"outlinewidth\":0,\"ticks\":\"\"},\"colorscale\":[[0.0,\"#0d0887\"],[0.1111111111111111,\"#46039f\"],[0.2222222222222222,\"#7201a8\"],[0.3333333333333333,\"#9c179e\"],[0.4444444444444444,\"#bd3786\"],[0.5555555555555556,\"#d8576b\"],[0.6666666666666666,\"#ed7953\"],[0.7777777777777778,\"#fb9f3a\"],[0.8888888888888888,\"#fdca26\"],[1.0,\"#f0f921\"]],\"type\":\"heatmapgl\"}],\"histogram\":[{\"marker\":{\"pattern\":{\"fillmode\":\"overlay\",\"size\":10,\"solidity\":0.2}},\"type\":\"histogram\"}],\"histogram2d\":[{\"colorbar\":{\"outlinewidth\":0,\"ticks\":\"\"},\"colorscale\":[[0.0,\"#0d0887\"],[0.1111111111111111,\"#46039f\"],[0.2222222222222222,\"#7201a8\"],[0.3333333333333333,\"#9c179e\"],[0.4444444444444444,\"#bd3786\"],[0.5555555555555556,\"#d8576b\"],[0.6666666666666666,\"#ed7953\"],[0.7777777777777778,\"#fb9f3a\"],[0.8888888888888888,\"#fdca26\"],[1.0,\"#f0f921\"]],\"type\":\"histogram2d\"}],\"histogram2dcontour\":[{\"colorbar\":{\"outlinewidth\":0,\"ticks\":\"\"},\"colorscale\":[[0.0,\"#0d0887\"],[0.1111111111111111,\"#46039f\"],[0.2222222222222222,\"#7201a8\"],[0.3333333333333333,\"#9c179e\"],[0.4444444444444444,\"#bd3786\"],[0.5555555555555556,\"#d8576b\"],[0.6666666666666666,\"#ed7953\"],[0.7777777777777778,\"#fb9f3a\"],[0.8888888888888888,\"#fdca26\"],[1.0,\"#f0f921\"]],\"type\":\"histogram2dcontour\"}],\"mesh3d\":[{\"colorbar\":{\"outlinewidth\":0,\"ticks\":\"\"},\"type\":\"mesh3d\"}],\"parcoords\":[{\"line\":{\"colorbar\":{\"outlinewidth\":0,\"ticks\":\"\"}},\"type\":\"parcoords\"}],\"pie\":[{\"automargin\":true,\"type\":\"pie\"}],\"scatter\":[{\"marker\":{\"colorbar\":{\"outlinewidth\":0,\"ticks\":\"\"}},\"type\":\"scatter\"}],\"scatter3d\":[{\"line\":{\"colorbar\":{\"outlinewidth\":0,\"ticks\":\"\"}},\"marker\":{\"colorbar\":{\"outlinewidth\":0,\"ticks\":\"\"}},\"type\":\"scatter3d\"}],\"scattercarpet\":[{\"marker\":{\"colorbar\":{\"outlinewidth\":0,\"ticks\":\"\"}},\"type\":\"scattercarpet\"}],\"scattergeo\":[{\"marker\":{\"colorbar\":{\"outlinewidth\":0,\"ticks\":\"\"}},\"type\":\"scattergeo\"}],\"scattergl\":[{\"marker\":{\"colorbar\":{\"outlinewidth\":0,\"ticks\":\"\"}},\"type\":\"scattergl\"}],\"scattermapbox\":[{\"marker\":{\"colorbar\":{\"outlinewidth\":0,\"ticks\":\"\"}},\"type\":\"scattermapbox\"}],\"scatterpolar\":[{\"marker\":{\"colorbar\":{\"outlinewidth\":0,\"ticks\":\"\"}},\"type\":\"scatterpolar\"}],\"scatterpolargl\":[{\"marker\":{\"colorbar\":{\"outlinewidth\":0,\"ticks\":\"\"}},\"type\":\"scatterpolargl\"}],\"scatterternary\":[{\"marker\":{\"colorbar\":{\"outlinewidth\":0,\"ticks\":\"\"}},\"type\":\"scatterternary\"}],\"surface\":[{\"colorbar\":{\"outlinewidth\":0,\"ticks\":\"\"},\"colorscale\":[[0.0,\"#0d0887\"],[0.1111111111111111,\"#46039f\"],[0.2222222222222222,\"#7201a8\"],[0.3333333333333333,\"#9c179e\"],[0.4444444444444444,\"#bd3786\"],[0.5555555555555556,\"#d8576b\"],[0.6666666666666666,\"#ed7953\"],[0.7777777777777778,\"#fb9f3a\"],[0.8888888888888888,\"#fdca26\"],[1.0,\"#f0f921\"]],\"type\":\"surface\"}],\"table\":[{\"cells\":{\"fill\":{\"color\":\"#EBF0F8\"},\"line\":{\"color\":\"white\"}},\"header\":{\"fill\":{\"color\":\"#C8D4E3\"},\"line\":{\"color\":\"white\"}},\"type\":\"table\"}]},\"layout\":{\"annotationdefaults\":{\"arrowcolor\":\"#2a3f5f\",\"arrowhead\":0,\"arrowwidth\":1},\"autotypenumbers\":\"strict\",\"coloraxis\":{\"colorbar\":{\"outlinewidth\":0,\"ticks\":\"\"}},\"colorscale\":{\"diverging\":[[0,\"#8e0152\"],[0.1,\"#c51b7d\"],[0.2,\"#de77ae\"],[0.3,\"#f1b6da\"],[0.4,\"#fde0ef\"],[0.5,\"#f7f7f7\"],[0.6,\"#e6f5d0\"],[0.7,\"#b8e186\"],[0.8,\"#7fbc41\"],[0.9,\"#4d9221\"],[1,\"#276419\"]],\"sequential\":[[0.0,\"#0d0887\"],[0.1111111111111111,\"#46039f\"],[0.2222222222222222,\"#7201a8\"],[0.3333333333333333,\"#9c179e\"],[0.4444444444444444,\"#bd3786\"],[0.5555555555555556,\"#d8576b\"],[0.6666666666666666,\"#ed7953\"],[0.7777777777777778,\"#fb9f3a\"],[0.8888888888888888,\"#fdca26\"],[1.0,\"#f0f921\"]],\"sequentialminus\":[[0.0,\"#0d0887\"],[0.1111111111111111,\"#46039f\"],[0.2222222222222222,\"#7201a8\"],[0.3333333333333333,\"#9c179e\"],[0.4444444444444444,\"#bd3786\"],[0.5555555555555556,\"#d8576b\"],[0.6666666666666666,\"#ed7953\"],[0.7777777777777778,\"#fb9f3a\"],[0.8888888888888888,\"#fdca26\"],[1.0,\"#f0f921\"]]},\"colorway\":[\"#636efa\",\"#EF553B\",\"#00cc96\",\"#ab63fa\",\"#FFA15A\",\"#19d3f3\",\"#FF6692\",\"#B6E880\",\"#FF97FF\",\"#FECB52\"],\"font\":{\"color\":\"#2a3f5f\"},\"geo\":{\"bgcolor\":\"white\",\"lakecolor\":\"white\",\"landcolor\":\"#E5ECF6\",\"showlakes\":true,\"showland\":true,\"subunitcolor\":\"white\"},\"hoverlabel\":{\"align\":\"left\"},\"hovermode\":\"closest\",\"mapbox\":{\"style\":\"light\"},\"paper_bgcolor\":\"white\",\"plot_bgcolor\":\"#E5ECF6\",\"polar\":{\"angularaxis\":{\"gridcolor\":\"white\",\"linecolor\":\"white\",\"ticks\":\"\"},\"bgcolor\":\"#E5ECF6\",\"radialaxis\":{\"gridcolor\":\"white\",\"linecolor\":\"white\",\"ticks\":\"\"}},\"scene\":{\"xaxis\":{\"backgroundcolor\":\"#E5ECF6\",\"gridcolor\":\"white\",\"gridwidth\":2,\"linecolor\":\"white\",\"showbackground\":true,\"ticks\":\"\",\"zerolinecolor\":\"white\"},\"yaxis\":{\"backgroundcolor\":\"#E5ECF6\",\"gridcolor\":\"white\",\"gridwidth\":2,\"linecolor\":\"white\",\"showbackground\":true,\"ticks\":\"\",\"zerolinecolor\":\"white\"},\"zaxis\":{\"backgroundcolor\":\"#E5ECF6\",\"gridcolor\":\"white\",\"gridwidth\":2,\"linecolor\":\"white\",\"showbackground\":true,\"ticks\":\"\",\"zerolinecolor\":\"white\"}},\"shapedefaults\":{\"line\":{\"color\":\"#2a3f5f\"}},\"ternary\":{\"aaxis\":{\"gridcolor\":\"white\",\"linecolor\":\"white\",\"ticks\":\"\"},\"baxis\":{\"gridcolor\":\"white\",\"linecolor\":\"white\",\"ticks\":\"\"},\"bgcolor\":\"#E5ECF6\",\"caxis\":{\"gridcolor\":\"white\",\"linecolor\":\"white\",\"ticks\":\"\"}},\"title\":{\"x\":0.05},\"xaxis\":{\"automargin\":true,\"gridcolor\":\"white\",\"linecolor\":\"white\",\"ticks\":\"\",\"title\":{\"standoff\":15},\"zerolinecolor\":\"white\",\"zerolinewidth\":2},\"yaxis\":{\"automargin\":true,\"gridcolor\":\"white\",\"linecolor\":\"white\",\"ticks\":\"\",\"title\":{\"standoff\":15},\"zerolinecolor\":\"white\",\"zerolinewidth\":2}}},\"title\":{\"text\":\"Venda dos produtos\"},\"width\":700,\"xaxis\":{\"anchor\":\"y\",\"domain\":[0.0,1.0],\"title\":{\"text\":\"Produto\"}},\"yaxis\":{\"anchor\":\"x\",\"domain\":[0.0,1.0],\"title\":{\"text\":\"Quantidade vendida\"}}},                        {\"responsive\": true}                    ).then(function(){\n",
       "                            \n",
       "var gd = document.getElementById('c8e1b718-019f-4253-b2ef-2a1c433cfa38');\n",
       "var x = new MutationObserver(function (mutations, observer) {{\n",
       "        var display = window.getComputedStyle(gd).display;\n",
       "        if (!display || display === 'none') {{\n",
       "            console.log([gd, 'removed!']);\n",
       "            Plotly.purge(gd);\n",
       "            observer.disconnect();\n",
       "        }}\n",
       "}});\n",
       "\n",
       "// Listen for the removal of the full notebook cells\n",
       "var notebookContainer = gd.closest('#notebook-container');\n",
       "if (notebookContainer) {{\n",
       "    x.observe(notebookContainer, {childList: true});\n",
       "}}\n",
       "\n",
       "// Listen for the clearing of the current output cell\n",
       "var outputEl = gd.closest('.output');\n",
       "if (outputEl) {{\n",
       "    x.observe(outputEl, {childList: true});\n",
       "}}\n",
       "\n",
       "                        })                };                });            </script>        </div>"
      ]
     },
     "metadata": {},
     "output_type": "display_data"
    }
   ],
   "source": [
    "#plotagem do gráfico de barras sobre o total de vendas por produto usando plotly\n",
    "fig = px.bar(venda_produtos_total,\n",
    "             x='nome', y=\"quantidade\", height=500, width=700,\n",
    "             barmode='stack', labels={\"nome\": \"Nome\", 'quantidade':\"Quantidade vendida\"})\n",
    "fig.update_layout(title = 'Venda dos produtos')\n",
    "fig.update_xaxes(title = 'Produto')\n",
    "fig.update_yaxes(title = 'Quantidade vendida')\n",
    "fig.show()"
   ]
  },
  {
   "cell_type": "markdown",
   "id": "fdb739ee",
   "metadata": {},
   "source": [
    "## Relação entre preço e estoque"
   ]
  },
  {
   "cell_type": "code",
   "execution_count": 325,
   "id": "c607e931",
   "metadata": {},
   "outputs": [
    {
     "data": {
      "application/vnd.plotly.v1+json": {
       "config": {
        "plotlyServerURL": "https://plot.ly"
       },
       "data": [
        {
         "hovertemplate": "Preço=%{x}<br>Estoque=%{y}<extra></extra>",
         "legendgroup": "",
         "marker": {
          "color": "#636efa",
          "line": {
           "width": 2
          },
          "size": 8,
          "symbol": "circle"
         },
         "mode": "markers",
         "name": "",
         "orientation": "v",
         "showlegend": false,
         "type": "scatter",
         "x": [
          7.99,
          1.49,
          5.99,
          7.47,
          3.99,
          11.99,
          3.5,
          0.98,
          5.48,
          8.45,
          20.31,
          2.48
         ],
         "xaxis": "x",
         "y": [
          50,
          20,
          40,
          36,
          47,
          12,
          19,
          25,
          20,
          43,
          80,
          38
         ],
         "yaxis": "y"
        }
       ],
       "layout": {
        "height": 500,
        "legend": {
         "tracegroupgap": 0
        },
        "margin": {
         "t": 60
        },
        "template": {
         "data": {
          "bar": [
           {
            "error_x": {
             "color": "#2a3f5f"
            },
            "error_y": {
             "color": "#2a3f5f"
            },
            "marker": {
             "line": {
              "color": "#E5ECF6",
              "width": 0.5
             },
             "pattern": {
              "fillmode": "overlay",
              "size": 10,
              "solidity": 0.2
             }
            },
            "type": "bar"
           }
          ],
          "barpolar": [
           {
            "marker": {
             "line": {
              "color": "#E5ECF6",
              "width": 0.5
             },
             "pattern": {
              "fillmode": "overlay",
              "size": 10,
              "solidity": 0.2
             }
            },
            "type": "barpolar"
           }
          ],
          "carpet": [
           {
            "aaxis": {
             "endlinecolor": "#2a3f5f",
             "gridcolor": "white",
             "linecolor": "white",
             "minorgridcolor": "white",
             "startlinecolor": "#2a3f5f"
            },
            "baxis": {
             "endlinecolor": "#2a3f5f",
             "gridcolor": "white",
             "linecolor": "white",
             "minorgridcolor": "white",
             "startlinecolor": "#2a3f5f"
            },
            "type": "carpet"
           }
          ],
          "choropleth": [
           {
            "colorbar": {
             "outlinewidth": 0,
             "ticks": ""
            },
            "type": "choropleth"
           }
          ],
          "contour": [
           {
            "colorbar": {
             "outlinewidth": 0,
             "ticks": ""
            },
            "colorscale": [
             [
              0,
              "#0d0887"
             ],
             [
              0.1111111111111111,
              "#46039f"
             ],
             [
              0.2222222222222222,
              "#7201a8"
             ],
             [
              0.3333333333333333,
              "#9c179e"
             ],
             [
              0.4444444444444444,
              "#bd3786"
             ],
             [
              0.5555555555555556,
              "#d8576b"
             ],
             [
              0.6666666666666666,
              "#ed7953"
             ],
             [
              0.7777777777777778,
              "#fb9f3a"
             ],
             [
              0.8888888888888888,
              "#fdca26"
             ],
             [
              1,
              "#f0f921"
             ]
            ],
            "type": "contour"
           }
          ],
          "contourcarpet": [
           {
            "colorbar": {
             "outlinewidth": 0,
             "ticks": ""
            },
            "type": "contourcarpet"
           }
          ],
          "heatmap": [
           {
            "colorbar": {
             "outlinewidth": 0,
             "ticks": ""
            },
            "colorscale": [
             [
              0,
              "#0d0887"
             ],
             [
              0.1111111111111111,
              "#46039f"
             ],
             [
              0.2222222222222222,
              "#7201a8"
             ],
             [
              0.3333333333333333,
              "#9c179e"
             ],
             [
              0.4444444444444444,
              "#bd3786"
             ],
             [
              0.5555555555555556,
              "#d8576b"
             ],
             [
              0.6666666666666666,
              "#ed7953"
             ],
             [
              0.7777777777777778,
              "#fb9f3a"
             ],
             [
              0.8888888888888888,
              "#fdca26"
             ],
             [
              1,
              "#f0f921"
             ]
            ],
            "type": "heatmap"
           }
          ],
          "heatmapgl": [
           {
            "colorbar": {
             "outlinewidth": 0,
             "ticks": ""
            },
            "colorscale": [
             [
              0,
              "#0d0887"
             ],
             [
              0.1111111111111111,
              "#46039f"
             ],
             [
              0.2222222222222222,
              "#7201a8"
             ],
             [
              0.3333333333333333,
              "#9c179e"
             ],
             [
              0.4444444444444444,
              "#bd3786"
             ],
             [
              0.5555555555555556,
              "#d8576b"
             ],
             [
              0.6666666666666666,
              "#ed7953"
             ],
             [
              0.7777777777777778,
              "#fb9f3a"
             ],
             [
              0.8888888888888888,
              "#fdca26"
             ],
             [
              1,
              "#f0f921"
             ]
            ],
            "type": "heatmapgl"
           }
          ],
          "histogram": [
           {
            "marker": {
             "pattern": {
              "fillmode": "overlay",
              "size": 10,
              "solidity": 0.2
             }
            },
            "type": "histogram"
           }
          ],
          "histogram2d": [
           {
            "colorbar": {
             "outlinewidth": 0,
             "ticks": ""
            },
            "colorscale": [
             [
              0,
              "#0d0887"
             ],
             [
              0.1111111111111111,
              "#46039f"
             ],
             [
              0.2222222222222222,
              "#7201a8"
             ],
             [
              0.3333333333333333,
              "#9c179e"
             ],
             [
              0.4444444444444444,
              "#bd3786"
             ],
             [
              0.5555555555555556,
              "#d8576b"
             ],
             [
              0.6666666666666666,
              "#ed7953"
             ],
             [
              0.7777777777777778,
              "#fb9f3a"
             ],
             [
              0.8888888888888888,
              "#fdca26"
             ],
             [
              1,
              "#f0f921"
             ]
            ],
            "type": "histogram2d"
           }
          ],
          "histogram2dcontour": [
           {
            "colorbar": {
             "outlinewidth": 0,
             "ticks": ""
            },
            "colorscale": [
             [
              0,
              "#0d0887"
             ],
             [
              0.1111111111111111,
              "#46039f"
             ],
             [
              0.2222222222222222,
              "#7201a8"
             ],
             [
              0.3333333333333333,
              "#9c179e"
             ],
             [
              0.4444444444444444,
              "#bd3786"
             ],
             [
              0.5555555555555556,
              "#d8576b"
             ],
             [
              0.6666666666666666,
              "#ed7953"
             ],
             [
              0.7777777777777778,
              "#fb9f3a"
             ],
             [
              0.8888888888888888,
              "#fdca26"
             ],
             [
              1,
              "#f0f921"
             ]
            ],
            "type": "histogram2dcontour"
           }
          ],
          "mesh3d": [
           {
            "colorbar": {
             "outlinewidth": 0,
             "ticks": ""
            },
            "type": "mesh3d"
           }
          ],
          "parcoords": [
           {
            "line": {
             "colorbar": {
              "outlinewidth": 0,
              "ticks": ""
             }
            },
            "type": "parcoords"
           }
          ],
          "pie": [
           {
            "automargin": true,
            "type": "pie"
           }
          ],
          "scatter": [
           {
            "marker": {
             "colorbar": {
              "outlinewidth": 0,
              "ticks": ""
             }
            },
            "type": "scatter"
           }
          ],
          "scatter3d": [
           {
            "line": {
             "colorbar": {
              "outlinewidth": 0,
              "ticks": ""
             }
            },
            "marker": {
             "colorbar": {
              "outlinewidth": 0,
              "ticks": ""
             }
            },
            "type": "scatter3d"
           }
          ],
          "scattercarpet": [
           {
            "marker": {
             "colorbar": {
              "outlinewidth": 0,
              "ticks": ""
             }
            },
            "type": "scattercarpet"
           }
          ],
          "scattergeo": [
           {
            "marker": {
             "colorbar": {
              "outlinewidth": 0,
              "ticks": ""
             }
            },
            "type": "scattergeo"
           }
          ],
          "scattergl": [
           {
            "marker": {
             "colorbar": {
              "outlinewidth": 0,
              "ticks": ""
             }
            },
            "type": "scattergl"
           }
          ],
          "scattermapbox": [
           {
            "marker": {
             "colorbar": {
              "outlinewidth": 0,
              "ticks": ""
             }
            },
            "type": "scattermapbox"
           }
          ],
          "scatterpolar": [
           {
            "marker": {
             "colorbar": {
              "outlinewidth": 0,
              "ticks": ""
             }
            },
            "type": "scatterpolar"
           }
          ],
          "scatterpolargl": [
           {
            "marker": {
             "colorbar": {
              "outlinewidth": 0,
              "ticks": ""
             }
            },
            "type": "scatterpolargl"
           }
          ],
          "scatterternary": [
           {
            "marker": {
             "colorbar": {
              "outlinewidth": 0,
              "ticks": ""
             }
            },
            "type": "scatterternary"
           }
          ],
          "surface": [
           {
            "colorbar": {
             "outlinewidth": 0,
             "ticks": ""
            },
            "colorscale": [
             [
              0,
              "#0d0887"
             ],
             [
              0.1111111111111111,
              "#46039f"
             ],
             [
              0.2222222222222222,
              "#7201a8"
             ],
             [
              0.3333333333333333,
              "#9c179e"
             ],
             [
              0.4444444444444444,
              "#bd3786"
             ],
             [
              0.5555555555555556,
              "#d8576b"
             ],
             [
              0.6666666666666666,
              "#ed7953"
             ],
             [
              0.7777777777777778,
              "#fb9f3a"
             ],
             [
              0.8888888888888888,
              "#fdca26"
             ],
             [
              1,
              "#f0f921"
             ]
            ],
            "type": "surface"
           }
          ],
          "table": [
           {
            "cells": {
             "fill": {
              "color": "#EBF0F8"
             },
             "line": {
              "color": "white"
             }
            },
            "header": {
             "fill": {
              "color": "#C8D4E3"
             },
             "line": {
              "color": "white"
             }
            },
            "type": "table"
           }
          ]
         },
         "layout": {
          "annotationdefaults": {
           "arrowcolor": "#2a3f5f",
           "arrowhead": 0,
           "arrowwidth": 1
          },
          "autotypenumbers": "strict",
          "coloraxis": {
           "colorbar": {
            "outlinewidth": 0,
            "ticks": ""
           }
          },
          "colorscale": {
           "diverging": [
            [
             0,
             "#8e0152"
            ],
            [
             0.1,
             "#c51b7d"
            ],
            [
             0.2,
             "#de77ae"
            ],
            [
             0.3,
             "#f1b6da"
            ],
            [
             0.4,
             "#fde0ef"
            ],
            [
             0.5,
             "#f7f7f7"
            ],
            [
             0.6,
             "#e6f5d0"
            ],
            [
             0.7,
             "#b8e186"
            ],
            [
             0.8,
             "#7fbc41"
            ],
            [
             0.9,
             "#4d9221"
            ],
            [
             1,
             "#276419"
            ]
           ],
           "sequential": [
            [
             0,
             "#0d0887"
            ],
            [
             0.1111111111111111,
             "#46039f"
            ],
            [
             0.2222222222222222,
             "#7201a8"
            ],
            [
             0.3333333333333333,
             "#9c179e"
            ],
            [
             0.4444444444444444,
             "#bd3786"
            ],
            [
             0.5555555555555556,
             "#d8576b"
            ],
            [
             0.6666666666666666,
             "#ed7953"
            ],
            [
             0.7777777777777778,
             "#fb9f3a"
            ],
            [
             0.8888888888888888,
             "#fdca26"
            ],
            [
             1,
             "#f0f921"
            ]
           ],
           "sequentialminus": [
            [
             0,
             "#0d0887"
            ],
            [
             0.1111111111111111,
             "#46039f"
            ],
            [
             0.2222222222222222,
             "#7201a8"
            ],
            [
             0.3333333333333333,
             "#9c179e"
            ],
            [
             0.4444444444444444,
             "#bd3786"
            ],
            [
             0.5555555555555556,
             "#d8576b"
            ],
            [
             0.6666666666666666,
             "#ed7953"
            ],
            [
             0.7777777777777778,
             "#fb9f3a"
            ],
            [
             0.8888888888888888,
             "#fdca26"
            ],
            [
             1,
             "#f0f921"
            ]
           ]
          },
          "colorway": [
           "#636efa",
           "#EF553B",
           "#00cc96",
           "#ab63fa",
           "#FFA15A",
           "#19d3f3",
           "#FF6692",
           "#B6E880",
           "#FF97FF",
           "#FECB52"
          ],
          "font": {
           "color": "#2a3f5f"
          },
          "geo": {
           "bgcolor": "white",
           "lakecolor": "white",
           "landcolor": "#E5ECF6",
           "showlakes": true,
           "showland": true,
           "subunitcolor": "white"
          },
          "hoverlabel": {
           "align": "left"
          },
          "hovermode": "closest",
          "mapbox": {
           "style": "light"
          },
          "paper_bgcolor": "white",
          "plot_bgcolor": "#E5ECF6",
          "polar": {
           "angularaxis": {
            "gridcolor": "white",
            "linecolor": "white",
            "ticks": ""
           },
           "bgcolor": "#E5ECF6",
           "radialaxis": {
            "gridcolor": "white",
            "linecolor": "white",
            "ticks": ""
           }
          },
          "scene": {
           "xaxis": {
            "backgroundcolor": "#E5ECF6",
            "gridcolor": "white",
            "gridwidth": 2,
            "linecolor": "white",
            "showbackground": true,
            "ticks": "",
            "zerolinecolor": "white"
           },
           "yaxis": {
            "backgroundcolor": "#E5ECF6",
            "gridcolor": "white",
            "gridwidth": 2,
            "linecolor": "white",
            "showbackground": true,
            "ticks": "",
            "zerolinecolor": "white"
           },
           "zaxis": {
            "backgroundcolor": "#E5ECF6",
            "gridcolor": "white",
            "gridwidth": 2,
            "linecolor": "white",
            "showbackground": true,
            "ticks": "",
            "zerolinecolor": "white"
           }
          },
          "shapedefaults": {
           "line": {
            "color": "#2a3f5f"
           }
          },
          "ternary": {
           "aaxis": {
            "gridcolor": "white",
            "linecolor": "white",
            "ticks": ""
           },
           "baxis": {
            "gridcolor": "white",
            "linecolor": "white",
            "ticks": ""
           },
           "bgcolor": "#E5ECF6",
           "caxis": {
            "gridcolor": "white",
            "linecolor": "white",
            "ticks": ""
           }
          },
          "title": {
           "x": 0.05
          },
          "xaxis": {
           "automargin": true,
           "gridcolor": "white",
           "linecolor": "white",
           "ticks": "",
           "title": {
            "standoff": 15
           },
           "zerolinecolor": "white",
           "zerolinewidth": 2
          },
          "yaxis": {
           "automargin": true,
           "gridcolor": "white",
           "linecolor": "white",
           "ticks": "",
           "title": {
            "standoff": 15
           },
           "zerolinecolor": "white",
           "zerolinewidth": 2
          }
         }
        },
        "title": {
         "text": "Preço X Estoque"
        },
        "width": 500,
        "xaxis": {
         "anchor": "y",
         "domain": [
          0,
          1
         ],
         "title": {
          "text": "Preço do produto"
         }
        },
        "yaxis": {
         "anchor": "x",
         "domain": [
          0,
          1
         ],
         "title": {
          "text": "Quantidade em estoque"
         }
        }
       }
      },
      "text/html": [
       "<div>                            <div id=\"a591fd62-eb4f-4e4c-aa4e-673b4a5ff3b3\" class=\"plotly-graph-div\" style=\"height:500px; width:500px;\"></div>            <script type=\"text/javascript\">                require([\"plotly\"], function(Plotly) {                    window.PLOTLYENV=window.PLOTLYENV || {};                                    if (document.getElementById(\"a591fd62-eb4f-4e4c-aa4e-673b4a5ff3b3\")) {                    Plotly.newPlot(                        \"a591fd62-eb4f-4e4c-aa4e-673b4a5ff3b3\",                        [{\"hovertemplate\":\"Pre\\u00e7o=%{x}<br>Estoque=%{y}<extra></extra>\",\"legendgroup\":\"\",\"marker\":{\"color\":\"#636efa\",\"line\":{\"width\":2},\"size\":8,\"symbol\":\"circle\"},\"mode\":\"markers\",\"name\":\"\",\"orientation\":\"v\",\"showlegend\":false,\"type\":\"scatter\",\"x\":[7.99,1.49,5.99,7.47,3.99,11.99,3.5,0.98,5.48,8.45,20.31,2.48],\"xaxis\":\"x\",\"y\":[50,20,40,36,47,12,19,25,20,43,80,38],\"yaxis\":\"y\"}],                        {\"height\":500,\"legend\":{\"tracegroupgap\":0},\"margin\":{\"t\":60},\"template\":{\"data\":{\"bar\":[{\"error_x\":{\"color\":\"#2a3f5f\"},\"error_y\":{\"color\":\"#2a3f5f\"},\"marker\":{\"line\":{\"color\":\"#E5ECF6\",\"width\":0.5},\"pattern\":{\"fillmode\":\"overlay\",\"size\":10,\"solidity\":0.2}},\"type\":\"bar\"}],\"barpolar\":[{\"marker\":{\"line\":{\"color\":\"#E5ECF6\",\"width\":0.5},\"pattern\":{\"fillmode\":\"overlay\",\"size\":10,\"solidity\":0.2}},\"type\":\"barpolar\"}],\"carpet\":[{\"aaxis\":{\"endlinecolor\":\"#2a3f5f\",\"gridcolor\":\"white\",\"linecolor\":\"white\",\"minorgridcolor\":\"white\",\"startlinecolor\":\"#2a3f5f\"},\"baxis\":{\"endlinecolor\":\"#2a3f5f\",\"gridcolor\":\"white\",\"linecolor\":\"white\",\"minorgridcolor\":\"white\",\"startlinecolor\":\"#2a3f5f\"},\"type\":\"carpet\"}],\"choropleth\":[{\"colorbar\":{\"outlinewidth\":0,\"ticks\":\"\"},\"type\":\"choropleth\"}],\"contour\":[{\"colorbar\":{\"outlinewidth\":0,\"ticks\":\"\"},\"colorscale\":[[0.0,\"#0d0887\"],[0.1111111111111111,\"#46039f\"],[0.2222222222222222,\"#7201a8\"],[0.3333333333333333,\"#9c179e\"],[0.4444444444444444,\"#bd3786\"],[0.5555555555555556,\"#d8576b\"],[0.6666666666666666,\"#ed7953\"],[0.7777777777777778,\"#fb9f3a\"],[0.8888888888888888,\"#fdca26\"],[1.0,\"#f0f921\"]],\"type\":\"contour\"}],\"contourcarpet\":[{\"colorbar\":{\"outlinewidth\":0,\"ticks\":\"\"},\"type\":\"contourcarpet\"}],\"heatmap\":[{\"colorbar\":{\"outlinewidth\":0,\"ticks\":\"\"},\"colorscale\":[[0.0,\"#0d0887\"],[0.1111111111111111,\"#46039f\"],[0.2222222222222222,\"#7201a8\"],[0.3333333333333333,\"#9c179e\"],[0.4444444444444444,\"#bd3786\"],[0.5555555555555556,\"#d8576b\"],[0.6666666666666666,\"#ed7953\"],[0.7777777777777778,\"#fb9f3a\"],[0.8888888888888888,\"#fdca26\"],[1.0,\"#f0f921\"]],\"type\":\"heatmap\"}],\"heatmapgl\":[{\"colorbar\":{\"outlinewidth\":0,\"ticks\":\"\"},\"colorscale\":[[0.0,\"#0d0887\"],[0.1111111111111111,\"#46039f\"],[0.2222222222222222,\"#7201a8\"],[0.3333333333333333,\"#9c179e\"],[0.4444444444444444,\"#bd3786\"],[0.5555555555555556,\"#d8576b\"],[0.6666666666666666,\"#ed7953\"],[0.7777777777777778,\"#fb9f3a\"],[0.8888888888888888,\"#fdca26\"],[1.0,\"#f0f921\"]],\"type\":\"heatmapgl\"}],\"histogram\":[{\"marker\":{\"pattern\":{\"fillmode\":\"overlay\",\"size\":10,\"solidity\":0.2}},\"type\":\"histogram\"}],\"histogram2d\":[{\"colorbar\":{\"outlinewidth\":0,\"ticks\":\"\"},\"colorscale\":[[0.0,\"#0d0887\"],[0.1111111111111111,\"#46039f\"],[0.2222222222222222,\"#7201a8\"],[0.3333333333333333,\"#9c179e\"],[0.4444444444444444,\"#bd3786\"],[0.5555555555555556,\"#d8576b\"],[0.6666666666666666,\"#ed7953\"],[0.7777777777777778,\"#fb9f3a\"],[0.8888888888888888,\"#fdca26\"],[1.0,\"#f0f921\"]],\"type\":\"histogram2d\"}],\"histogram2dcontour\":[{\"colorbar\":{\"outlinewidth\":0,\"ticks\":\"\"},\"colorscale\":[[0.0,\"#0d0887\"],[0.1111111111111111,\"#46039f\"],[0.2222222222222222,\"#7201a8\"],[0.3333333333333333,\"#9c179e\"],[0.4444444444444444,\"#bd3786\"],[0.5555555555555556,\"#d8576b\"],[0.6666666666666666,\"#ed7953\"],[0.7777777777777778,\"#fb9f3a\"],[0.8888888888888888,\"#fdca26\"],[1.0,\"#f0f921\"]],\"type\":\"histogram2dcontour\"}],\"mesh3d\":[{\"colorbar\":{\"outlinewidth\":0,\"ticks\":\"\"},\"type\":\"mesh3d\"}],\"parcoords\":[{\"line\":{\"colorbar\":{\"outlinewidth\":0,\"ticks\":\"\"}},\"type\":\"parcoords\"}],\"pie\":[{\"automargin\":true,\"type\":\"pie\"}],\"scatter\":[{\"marker\":{\"colorbar\":{\"outlinewidth\":0,\"ticks\":\"\"}},\"type\":\"scatter\"}],\"scatter3d\":[{\"line\":{\"colorbar\":{\"outlinewidth\":0,\"ticks\":\"\"}},\"marker\":{\"colorbar\":{\"outlinewidth\":0,\"ticks\":\"\"}},\"type\":\"scatter3d\"}],\"scattercarpet\":[{\"marker\":{\"colorbar\":{\"outlinewidth\":0,\"ticks\":\"\"}},\"type\":\"scattercarpet\"}],\"scattergeo\":[{\"marker\":{\"colorbar\":{\"outlinewidth\":0,\"ticks\":\"\"}},\"type\":\"scattergeo\"}],\"scattergl\":[{\"marker\":{\"colorbar\":{\"outlinewidth\":0,\"ticks\":\"\"}},\"type\":\"scattergl\"}],\"scattermapbox\":[{\"marker\":{\"colorbar\":{\"outlinewidth\":0,\"ticks\":\"\"}},\"type\":\"scattermapbox\"}],\"scatterpolar\":[{\"marker\":{\"colorbar\":{\"outlinewidth\":0,\"ticks\":\"\"}},\"type\":\"scatterpolar\"}],\"scatterpolargl\":[{\"marker\":{\"colorbar\":{\"outlinewidth\":0,\"ticks\":\"\"}},\"type\":\"scatterpolargl\"}],\"scatterternary\":[{\"marker\":{\"colorbar\":{\"outlinewidth\":0,\"ticks\":\"\"}},\"type\":\"scatterternary\"}],\"surface\":[{\"colorbar\":{\"outlinewidth\":0,\"ticks\":\"\"},\"colorscale\":[[0.0,\"#0d0887\"],[0.1111111111111111,\"#46039f\"],[0.2222222222222222,\"#7201a8\"],[0.3333333333333333,\"#9c179e\"],[0.4444444444444444,\"#bd3786\"],[0.5555555555555556,\"#d8576b\"],[0.6666666666666666,\"#ed7953\"],[0.7777777777777778,\"#fb9f3a\"],[0.8888888888888888,\"#fdca26\"],[1.0,\"#f0f921\"]],\"type\":\"surface\"}],\"table\":[{\"cells\":{\"fill\":{\"color\":\"#EBF0F8\"},\"line\":{\"color\":\"white\"}},\"header\":{\"fill\":{\"color\":\"#C8D4E3\"},\"line\":{\"color\":\"white\"}},\"type\":\"table\"}]},\"layout\":{\"annotationdefaults\":{\"arrowcolor\":\"#2a3f5f\",\"arrowhead\":0,\"arrowwidth\":1},\"autotypenumbers\":\"strict\",\"coloraxis\":{\"colorbar\":{\"outlinewidth\":0,\"ticks\":\"\"}},\"colorscale\":{\"diverging\":[[0,\"#8e0152\"],[0.1,\"#c51b7d\"],[0.2,\"#de77ae\"],[0.3,\"#f1b6da\"],[0.4,\"#fde0ef\"],[0.5,\"#f7f7f7\"],[0.6,\"#e6f5d0\"],[0.7,\"#b8e186\"],[0.8,\"#7fbc41\"],[0.9,\"#4d9221\"],[1,\"#276419\"]],\"sequential\":[[0.0,\"#0d0887\"],[0.1111111111111111,\"#46039f\"],[0.2222222222222222,\"#7201a8\"],[0.3333333333333333,\"#9c179e\"],[0.4444444444444444,\"#bd3786\"],[0.5555555555555556,\"#d8576b\"],[0.6666666666666666,\"#ed7953\"],[0.7777777777777778,\"#fb9f3a\"],[0.8888888888888888,\"#fdca26\"],[1.0,\"#f0f921\"]],\"sequentialminus\":[[0.0,\"#0d0887\"],[0.1111111111111111,\"#46039f\"],[0.2222222222222222,\"#7201a8\"],[0.3333333333333333,\"#9c179e\"],[0.4444444444444444,\"#bd3786\"],[0.5555555555555556,\"#d8576b\"],[0.6666666666666666,\"#ed7953\"],[0.7777777777777778,\"#fb9f3a\"],[0.8888888888888888,\"#fdca26\"],[1.0,\"#f0f921\"]]},\"colorway\":[\"#636efa\",\"#EF553B\",\"#00cc96\",\"#ab63fa\",\"#FFA15A\",\"#19d3f3\",\"#FF6692\",\"#B6E880\",\"#FF97FF\",\"#FECB52\"],\"font\":{\"color\":\"#2a3f5f\"},\"geo\":{\"bgcolor\":\"white\",\"lakecolor\":\"white\",\"landcolor\":\"#E5ECF6\",\"showlakes\":true,\"showland\":true,\"subunitcolor\":\"white\"},\"hoverlabel\":{\"align\":\"left\"},\"hovermode\":\"closest\",\"mapbox\":{\"style\":\"light\"},\"paper_bgcolor\":\"white\",\"plot_bgcolor\":\"#E5ECF6\",\"polar\":{\"angularaxis\":{\"gridcolor\":\"white\",\"linecolor\":\"white\",\"ticks\":\"\"},\"bgcolor\":\"#E5ECF6\",\"radialaxis\":{\"gridcolor\":\"white\",\"linecolor\":\"white\",\"ticks\":\"\"}},\"scene\":{\"xaxis\":{\"backgroundcolor\":\"#E5ECF6\",\"gridcolor\":\"white\",\"gridwidth\":2,\"linecolor\":\"white\",\"showbackground\":true,\"ticks\":\"\",\"zerolinecolor\":\"white\"},\"yaxis\":{\"backgroundcolor\":\"#E5ECF6\",\"gridcolor\":\"white\",\"gridwidth\":2,\"linecolor\":\"white\",\"showbackground\":true,\"ticks\":\"\",\"zerolinecolor\":\"white\"},\"zaxis\":{\"backgroundcolor\":\"#E5ECF6\",\"gridcolor\":\"white\",\"gridwidth\":2,\"linecolor\":\"white\",\"showbackground\":true,\"ticks\":\"\",\"zerolinecolor\":\"white\"}},\"shapedefaults\":{\"line\":{\"color\":\"#2a3f5f\"}},\"ternary\":{\"aaxis\":{\"gridcolor\":\"white\",\"linecolor\":\"white\",\"ticks\":\"\"},\"baxis\":{\"gridcolor\":\"white\",\"linecolor\":\"white\",\"ticks\":\"\"},\"bgcolor\":\"#E5ECF6\",\"caxis\":{\"gridcolor\":\"white\",\"linecolor\":\"white\",\"ticks\":\"\"}},\"title\":{\"x\":0.05},\"xaxis\":{\"automargin\":true,\"gridcolor\":\"white\",\"linecolor\":\"white\",\"ticks\":\"\",\"title\":{\"standoff\":15},\"zerolinecolor\":\"white\",\"zerolinewidth\":2},\"yaxis\":{\"automargin\":true,\"gridcolor\":\"white\",\"linecolor\":\"white\",\"ticks\":\"\",\"title\":{\"standoff\":15},\"zerolinecolor\":\"white\",\"zerolinewidth\":2}}},\"title\":{\"text\":\"Pre\\u00e7o X Estoque\"},\"width\":500,\"xaxis\":{\"anchor\":\"y\",\"domain\":[0.0,1.0],\"title\":{\"text\":\"Pre\\u00e7o do produto\"}},\"yaxis\":{\"anchor\":\"x\",\"domain\":[0.0,1.0],\"title\":{\"text\":\"Quantidade em estoque\"}}},                        {\"responsive\": true}                    ).then(function(){\n",
       "                            \n",
       "var gd = document.getElementById('a591fd62-eb4f-4e4c-aa4e-673b4a5ff3b3');\n",
       "var x = new MutationObserver(function (mutations, observer) {{\n",
       "        var display = window.getComputedStyle(gd).display;\n",
       "        if (!display || display === 'none') {{\n",
       "            console.log([gd, 'removed!']);\n",
       "            Plotly.purge(gd);\n",
       "            observer.disconnect();\n",
       "        }}\n",
       "}});\n",
       "\n",
       "// Listen for the removal of the full notebook cells\n",
       "var notebookContainer = gd.closest('#notebook-container');\n",
       "if (notebookContainer) {{\n",
       "    x.observe(notebookContainer, {childList: true});\n",
       "}}\n",
       "\n",
       "// Listen for the clearing of the current output cell\n",
       "var outputEl = gd.closest('.output');\n",
       "if (outputEl) {{\n",
       "    x.observe(outputEl, {childList: true});\n",
       "}}\n",
       "\n",
       "                        })                };                });            </script>        </div>"
      ]
     },
     "metadata": {},
     "output_type": "display_data"
    }
   ],
   "source": [
    "#pltagem de um gráfico de disperção relacionado preço e estoque\n",
    "fig=px.scatter(produtos, x = \"preco\", y = \"estoque\", labels={\"preco\": \"Preço\", \"estoque\": \"Estoque\" }, height=500, width=500,)\n",
    "fig.update_traces(marker=dict(size = 8,line = dict(width = 2)),selector=dict(mode = 'markers'))\n",
    "fig.update_layout(title = 'Preço X Estoque')\n",
    "fig.update_xaxes(title = 'Preço do produto')\n",
    "fig.update_yaxes(title = 'Quantidade em estoque')\n",
    "fig.show()"
   ]
  },
  {
   "cell_type": "code",
   "execution_count": 326,
   "id": "cbc359fe",
   "metadata": {},
   "outputs": [
    {
     "name": "stdout",
     "output_type": "stream",
     "text": [
      "Correlação dos dados (preço e estoque): 0.6203058685141385\n"
     ]
    }
   ],
   "source": [
    "# Calculando a correlação dos dados\n",
    "Correlação= produtos['preco'].corr(produtos['estoque'])\n",
    "print(f\"Correlação dos dados (preço e estoque):\", Correlação)"
   ]
  },
  {
   "cell_type": "markdown",
   "id": "ec5bdcd7",
   "metadata": {},
   "source": [
    "## Cliente mais ativo"
   ]
  },
  {
   "cell_type": "code",
   "execution_count": 327,
   "id": "da5b4787",
   "metadata": {},
   "outputs": [],
   "source": [
    "#criando uma tabela para analisar a quantidade de produtos comprados por id_cliente\n",
    "quantidade_comprada = venda_produtos_cliente[[\"id_cliente\", \"quantidade\"]].groupby(['id_cliente']).sum().sort_values('quantidade', ascending=False).reset_index().head(10)\n",
    "\n",
    "#renomenado a coluna quantidade para quantidade_total na tabela de quantidade_comprada\n",
    "quantidade_comprada.rename(columns={\"quantidade\": \"quantidade_total\"}, inplace = 1)\n",
    "\n",
    "#realizando a união das tabelas venda_produtos_cliente e quantidade_comprada em id_cliente\n",
    "venda_produtos_cliente_qt = pd.merge(venda_produtos_cliente, quantidade_comprada, on = 'id_cliente', how='right') \n",
    "\n",
    "#lista_id_cliente_maiores_quantidades = quantidade_comprada['id_cliente'].tolist()\n",
    "#clientes.iloc[lista_id_cliente_maiores_quantidades]"
   ]
  },
  {
   "cell_type": "code",
   "execution_count": 328,
   "id": "8905dd2f",
   "metadata": {},
   "outputs": [
    {
     "data": {
      "text/html": [
       "<div>\n",
       "<style scoped>\n",
       "    .dataframe tbody tr th:only-of-type {\n",
       "        vertical-align: middle;\n",
       "    }\n",
       "\n",
       "    .dataframe tbody tr th {\n",
       "        vertical-align: top;\n",
       "    }\n",
       "\n",
       "    .dataframe thead th {\n",
       "        text-align: right;\n",
       "    }\n",
       "</style>\n",
       "<table border=\"1\" class=\"dataframe\">\n",
       "  <thead>\n",
       "    <tr style=\"text-align: right;\">\n",
       "      <th></th>\n",
       "      <th>id_cliente</th>\n",
       "      <th>quantidade_total</th>\n",
       "    </tr>\n",
       "  </thead>\n",
       "  <tbody>\n",
       "    <tr>\n",
       "      <th>0</th>\n",
       "      <td>107</td>\n",
       "      <td>123.0</td>\n",
       "    </tr>\n",
       "    <tr>\n",
       "      <th>1</th>\n",
       "      <td>146</td>\n",
       "      <td>122.0</td>\n",
       "    </tr>\n",
       "    <tr>\n",
       "      <th>2</th>\n",
       "      <td>100</td>\n",
       "      <td>111.0</td>\n",
       "    </tr>\n",
       "    <tr>\n",
       "      <th>3</th>\n",
       "      <td>144</td>\n",
       "      <td>92.0</td>\n",
       "    </tr>\n",
       "    <tr>\n",
       "      <th>4</th>\n",
       "      <td>166</td>\n",
       "      <td>91.0</td>\n",
       "    </tr>\n",
       "    <tr>\n",
       "      <th>5</th>\n",
       "      <td>104</td>\n",
       "      <td>90.0</td>\n",
       "    </tr>\n",
       "    <tr>\n",
       "      <th>6</th>\n",
       "      <td>154</td>\n",
       "      <td>89.0</td>\n",
       "    </tr>\n",
       "    <tr>\n",
       "      <th>7</th>\n",
       "      <td>31</td>\n",
       "      <td>89.0</td>\n",
       "    </tr>\n",
       "    <tr>\n",
       "      <th>8</th>\n",
       "      <td>119</td>\n",
       "      <td>88.0</td>\n",
       "    </tr>\n",
       "    <tr>\n",
       "      <th>9</th>\n",
       "      <td>106</td>\n",
       "      <td>86.0</td>\n",
       "    </tr>\n",
       "  </tbody>\n",
       "</table>\n",
       "</div>"
      ],
      "text/plain": [
       "   id_cliente  quantidade_total\n",
       "0         107             123.0\n",
       "1         146             122.0\n",
       "2         100             111.0\n",
       "3         144              92.0\n",
       "4         166              91.0\n",
       "5         104              90.0\n",
       "6         154              89.0\n",
       "7          31              89.0\n",
       "8         119              88.0\n",
       "9         106              86.0"
      ]
     },
     "execution_count": 328,
     "metadata": {},
     "output_type": "execute_result"
    }
   ],
   "source": [
    "quantidade_comprada"
   ]
  },
  {
   "cell_type": "code",
   "execution_count": 329,
   "id": "ff7d5af4",
   "metadata": {},
   "outputs": [
    {
     "data": {
      "application/vnd.plotly.v1+json": {
       "config": {
        "plotlyServerURL": "https://plot.ly"
       },
       "data": [
        {
         "alignmentgroup": "True",
         "hovertemplate": "Produto=morango<br>Nome do cliente=%{x}<br>Quantidade de vendas=%{y}<extra></extra>",
         "legendgroup": "morango",
         "marker": {
          "color": "#636efa",
          "pattern": {
           "shape": ""
          }
         },
         "name": "morango",
         "offsetgroup": "morango",
         "orientation": "v",
         "showlegend": true,
         "textposition": "auto",
         "type": "bar",
         "x": [
          "Caroline Teixeira",
          "Caroline Teixeira",
          "Caroline Teixeira",
          "Caroline Teixeira",
          "Caroline Teixeira",
          "Dr. João Guilherme Rezende",
          "Dr. João Guilherme Rezende",
          "Dr. João Guilherme Rezende",
          "Alice Rodrigues",
          "Leonardo Pires",
          "Leonardo Pires",
          "Leonardo Pires",
          "Júlia Viana",
          "Júlia Viana",
          "Júlia Viana",
          "Júlia Viana",
          "Pietro Cardoso",
          "Pietro Cardoso",
          "Pietro Cardoso",
          "Davi Lucca Silveira",
          "Davi Lucca Silveira",
          "Dr. Davi Lucca Sales",
          "Dr. Davi Lucca Sales",
          "Diogo Moreira",
          "Sr. Isaac Nascimento",
          "Sr. Isaac Nascimento",
          "Sr. Isaac Nascimento",
          "Sr. Isaac Nascimento"
         ],
         "xaxis": "x",
         "y": [
          3,
          3,
          1,
          1,
          2,
          4,
          3,
          4,
          1,
          4,
          2,
          3,
          2,
          3,
          4,
          1,
          2,
          2,
          3,
          3,
          4,
          4,
          1,
          4,
          1,
          4,
          2,
          3
         ],
         "yaxis": "y"
        },
        {
         "alignmentgroup": "True",
         "hovertemplate": "Produto=batata<br>Nome do cliente=%{x}<br>Quantidade de vendas=%{y}<extra></extra>",
         "legendgroup": "batata",
         "marker": {
          "color": "#EF553B",
          "pattern": {
           "shape": ""
          }
         },
         "name": "batata",
         "offsetgroup": "batata",
         "orientation": "v",
         "showlegend": true,
         "textposition": "auto",
         "type": "bar",
         "x": [
          "Caroline Teixeira",
          "Caroline Teixeira",
          "Caroline Teixeira",
          "Caroline Teixeira",
          "Caroline Teixeira",
          "Caroline Teixeira",
          "Caroline Teixeira",
          "Dr. João Guilherme Rezende",
          "Dr. João Guilherme Rezende",
          "Dr. João Guilherme Rezende",
          "Dr. João Guilherme Rezende",
          "Dr. João Guilherme Rezende",
          "Alice Rodrigues",
          "Alice Rodrigues",
          "Alice Rodrigues",
          "Alice Rodrigues",
          "Alice Rodrigues",
          "Alice Rodrigues",
          "Leonardo Pires",
          "Leonardo Pires",
          "Leonardo Pires",
          "Leonardo Pires",
          "Leonardo Pires",
          "Júlia Viana",
          "Pietro Cardoso",
          "Pietro Cardoso",
          "Davi Lucca Silveira",
          "Davi Lucca Silveira",
          "Davi Lucca Silveira",
          "Davi Lucca Silveira",
          "Davi Lucca Silveira",
          "Davi Lucca Silveira",
          "Diogo Moreira",
          "Diogo Moreira",
          "Diogo Moreira",
          "Diogo Moreira",
          "Sr. Isaac Nascimento",
          "Sr. Isaac Nascimento"
         ],
         "xaxis": "x",
         "y": [
          4,
          2,
          2,
          2,
          4,
          2,
          2,
          1,
          3,
          2,
          4,
          3,
          2,
          2,
          4,
          4,
          2,
          3,
          1,
          1,
          3,
          1,
          3,
          3,
          4,
          4,
          1,
          1,
          3,
          3,
          3,
          4,
          1,
          3,
          4,
          3,
          1,
          2
         ],
         "yaxis": "y"
        },
        {
         "alignmentgroup": "True",
         "hovertemplate": "Produto=berinjela<br>Nome do cliente=%{x}<br>Quantidade de vendas=%{y}<extra></extra>",
         "legendgroup": "berinjela",
         "marker": {
          "color": "#00cc96",
          "pattern": {
           "shape": ""
          }
         },
         "name": "berinjela",
         "offsetgroup": "berinjela",
         "orientation": "v",
         "showlegend": true,
         "textposition": "auto",
         "type": "bar",
         "x": [
          "Caroline Teixeira",
          "Caroline Teixeira",
          "Dr. João Guilherme Rezende",
          "Alice Rodrigues",
          "Alice Rodrigues",
          "Alice Rodrigues",
          "Alice Rodrigues",
          "Alice Rodrigues",
          "Leonardo Pires",
          "Júlia Viana",
          "Júlia Viana",
          "Pietro Cardoso",
          "Pietro Cardoso",
          "Pietro Cardoso",
          "Pietro Cardoso",
          "Davi Lucca Silveira",
          "Davi Lucca Silveira",
          "Davi Lucca Silveira",
          "Davi Lucca Silveira",
          "Davi Lucca Silveira",
          "Davi Lucca Silveira",
          "Davi Lucca Silveira",
          "Dr. Davi Lucca Sales",
          "Dr. Davi Lucca Sales",
          "Diogo Moreira",
          "Diogo Moreira",
          "Sr. Isaac Nascimento",
          "Sr. Isaac Nascimento",
          "Sr. Isaac Nascimento",
          "Sr. Isaac Nascimento"
         ],
         "xaxis": "x",
         "y": [
          3,
          4,
          2,
          2,
          1,
          1,
          4,
          3,
          3,
          3,
          3,
          4,
          4,
          2,
          1,
          1,
          2,
          4,
          2,
          2,
          3,
          2,
          2,
          4,
          4,
          1,
          4,
          1,
          1,
          3
         ],
         "yaxis": "y"
        },
        {
         "alignmentgroup": "True",
         "hovertemplate": "Produto=alface<br>Nome do cliente=%{x}<br>Quantidade de vendas=%{y}<extra></extra>",
         "legendgroup": "alface",
         "marker": {
          "color": "#ab63fa",
          "pattern": {
           "shape": ""
          }
         },
         "name": "alface",
         "offsetgroup": "alface",
         "orientation": "v",
         "showlegend": true,
         "textposition": "auto",
         "type": "bar",
         "x": [
          "Caroline Teixeira",
          "Caroline Teixeira",
          "Caroline Teixeira",
          "Dr. João Guilherme Rezende",
          "Dr. João Guilherme Rezende",
          "Alice Rodrigues",
          "Alice Rodrigues",
          "Alice Rodrigues",
          "Alice Rodrigues",
          "Leonardo Pires",
          "Leonardo Pires",
          "Júlia Viana",
          "Júlia Viana",
          "Davi Lucca Silveira",
          "Davi Lucca Silveira",
          "Davi Lucca Silveira",
          "Davi Lucca Silveira",
          "Davi Lucca Silveira",
          "Dr. Davi Lucca Sales",
          "Dr. Davi Lucca Sales",
          "Dr. Davi Lucca Sales",
          "Dr. Davi Lucca Sales",
          "Dr. Davi Lucca Sales",
          "Diogo Moreira",
          "Sr. Isaac Nascimento",
          "Sr. Isaac Nascimento"
         ],
         "xaxis": "x",
         "y": [
          2,
          3,
          4,
          2,
          4,
          1,
          2,
          4,
          3,
          1,
          1,
          4,
          3,
          3,
          1,
          1,
          1,
          1,
          4,
          3,
          3,
          4,
          4,
          4,
          4,
          3
         ],
         "yaxis": "y"
        },
        {
         "alignmentgroup": "True",
         "hovertemplate": "Produto=arroz<br>Nome do cliente=%{x}<br>Quantidade de vendas=%{y}<extra></extra>",
         "legendgroup": "arroz",
         "marker": {
          "color": "#FFA15A",
          "pattern": {
           "shape": ""
          }
         },
         "name": "arroz",
         "offsetgroup": "arroz",
         "orientation": "v",
         "showlegend": true,
         "textposition": "auto",
         "type": "bar",
         "x": [
          "Caroline Teixeira",
          "Caroline Teixeira",
          "Caroline Teixeira",
          "Caroline Teixeira",
          "Caroline Teixeira",
          "Dr. João Guilherme Rezende",
          "Dr. João Guilherme Rezende",
          "Dr. João Guilherme Rezende",
          "Dr. João Guilherme Rezende",
          "Dr. João Guilherme Rezende",
          "Dr. João Guilherme Rezende",
          "Alice Rodrigues",
          "Alice Rodrigues",
          "Alice Rodrigues",
          "Leonardo Pires",
          "Leonardo Pires",
          "Júlia Viana",
          "Pietro Cardoso",
          "Pietro Cardoso",
          "Pietro Cardoso",
          "Pietro Cardoso",
          "Pietro Cardoso",
          "Pietro Cardoso",
          "Davi Lucca Silveira",
          "Davi Lucca Silveira",
          "Davi Lucca Silveira",
          "Dr. Davi Lucca Sales",
          "Diogo Moreira",
          "Diogo Moreira",
          "Diogo Moreira",
          "Diogo Moreira",
          "Sr. Isaac Nascimento",
          "Sr. Isaac Nascimento",
          "Sr. Isaac Nascimento",
          "Sr. Isaac Nascimento"
         ],
         "xaxis": "x",
         "y": [
          3,
          3,
          1,
          1,
          3,
          3,
          2,
          2,
          1,
          3,
          1,
          2,
          2,
          3,
          3,
          2,
          2,
          1,
          4,
          4,
          1,
          1,
          3,
          3,
          4,
          4,
          1,
          4,
          3,
          4,
          2,
          1,
          4,
          2,
          1
         ],
         "yaxis": "y"
        },
        {
         "alignmentgroup": "True",
         "hovertemplate": "Produto=macarrão<br>Nome do cliente=%{x}<br>Quantidade de vendas=%{y}<extra></extra>",
         "legendgroup": "macarrão",
         "marker": {
          "color": "#19d3f3",
          "pattern": {
           "shape": ""
          }
         },
         "name": "macarrão",
         "offsetgroup": "macarrão",
         "orientation": "v",
         "showlegend": true,
         "textposition": "auto",
         "type": "bar",
         "x": [
          "Caroline Teixeira",
          "Caroline Teixeira",
          "Caroline Teixeira",
          "Caroline Teixeira",
          "Dr. João Guilherme Rezende",
          "Dr. João Guilherme Rezende",
          "Dr. João Guilherme Rezende",
          "Alice Rodrigues",
          "Alice Rodrigues",
          "Alice Rodrigues",
          "Alice Rodrigues",
          "Leonardo Pires",
          "Leonardo Pires",
          "Leonardo Pires",
          "Júlia Viana",
          "Júlia Viana",
          "Júlia Viana",
          "Pietro Cardoso",
          "Pietro Cardoso",
          "Pietro Cardoso",
          "Pietro Cardoso",
          "Pietro Cardoso",
          "Pietro Cardoso",
          "Pietro Cardoso",
          "Davi Lucca Silveira",
          "Dr. Davi Lucca Sales",
          "Dr. Davi Lucca Sales",
          "Dr. Davi Lucca Sales",
          "Dr. Davi Lucca Sales",
          "Dr. Davi Lucca Sales",
          "Diogo Moreira",
          "Diogo Moreira",
          "Diogo Moreira",
          "Diogo Moreira",
          "Sr. Isaac Nascimento",
          "Sr. Isaac Nascimento",
          "Sr. Isaac Nascimento"
         ],
         "xaxis": "x",
         "y": [
          3,
          3,
          2,
          1,
          4,
          1,
          1,
          1,
          3,
          3,
          3,
          3,
          3,
          2,
          4,
          2,
          1,
          3,
          1,
          3,
          1,
          1,
          4,
          2,
          3,
          2,
          2,
          2,
          1,
          3,
          2,
          3,
          3,
          4,
          4,
          1,
          1
         ],
         "yaxis": "y"
        },
        {
         "alignmentgroup": "True",
         "hovertemplate": "Produto=melancia<br>Nome do cliente=%{x}<br>Quantidade de vendas=%{y}<extra></extra>",
         "legendgroup": "melancia",
         "marker": {
          "color": "#FF6692",
          "pattern": {
           "shape": ""
          }
         },
         "name": "melancia",
         "offsetgroup": "melancia",
         "orientation": "v",
         "showlegend": true,
         "textposition": "auto",
         "type": "bar",
         "x": [
          "Caroline Teixeira",
          "Caroline Teixeira",
          "Dr. João Guilherme Rezende",
          "Dr. João Guilherme Rezende",
          "Dr. João Guilherme Rezende",
          "Dr. João Guilherme Rezende",
          "Alice Rodrigues",
          "Alice Rodrigues",
          "Alice Rodrigues",
          "Alice Rodrigues",
          "Alice Rodrigues",
          "Alice Rodrigues",
          "Leonardo Pires",
          "Júlia Viana",
          "Júlia Viana",
          "Júlia Viana",
          "Pietro Cardoso",
          "Davi Lucca Silveira",
          "Davi Lucca Silveira",
          "Davi Lucca Silveira",
          "Dr. Davi Lucca Sales",
          "Dr. Davi Lucca Sales",
          "Dr. Davi Lucca Sales",
          "Dr. Davi Lucca Sales",
          "Dr. Davi Lucca Sales",
          "Diogo Moreira",
          "Diogo Moreira",
          "Diogo Moreira",
          "Diogo Moreira",
          "Sr. Isaac Nascimento",
          "Sr. Isaac Nascimento",
          "Sr. Isaac Nascimento",
          "Sr. Isaac Nascimento"
         ],
         "xaxis": "x",
         "y": [
          3,
          3,
          1,
          3,
          4,
          4,
          3,
          1,
          3,
          4,
          3,
          4,
          3,
          4,
          4,
          1,
          1,
          2,
          1,
          1,
          3,
          2,
          4,
          3,
          3,
          2,
          1,
          1,
          1,
          2,
          1,
          2,
          1
         ],
         "yaxis": "y"
        },
        {
         "alignmentgroup": "True",
         "hovertemplate": "Produto=banana<br>Nome do cliente=%{x}<br>Quantidade de vendas=%{y}<extra></extra>",
         "legendgroup": "banana",
         "marker": {
          "color": "#B6E880",
          "pattern": {
           "shape": ""
          }
         },
         "name": "banana",
         "offsetgroup": "banana",
         "orientation": "v",
         "showlegend": true,
         "textposition": "auto",
         "type": "bar",
         "x": [
          "Caroline Teixeira",
          "Caroline Teixeira",
          "Caroline Teixeira",
          "Caroline Teixeira",
          "Caroline Teixeira",
          "Caroline Teixeira",
          "Caroline Teixeira",
          "Caroline Teixeira",
          "Caroline Teixeira",
          "Dr. João Guilherme Rezende",
          "Alice Rodrigues",
          "Leonardo Pires",
          "Júlia Viana",
          "Júlia Viana",
          "Júlia Viana",
          "Júlia Viana",
          "Pietro Cardoso",
          "Pietro Cardoso",
          "Pietro Cardoso",
          "Pietro Cardoso",
          "Pietro Cardoso",
          "Davi Lucca Silveira",
          "Davi Lucca Silveira",
          "Davi Lucca Silveira",
          "Davi Lucca Silveira",
          "Dr. Davi Lucca Sales",
          "Diogo Moreira",
          "Diogo Moreira",
          "Diogo Moreira",
          "Diogo Moreira",
          "Sr. Isaac Nascimento",
          "Sr. Isaac Nascimento",
          "Sr. Isaac Nascimento"
         ],
         "xaxis": "x",
         "y": [
          2,
          1,
          1,
          1,
          4,
          4,
          4,
          3,
          2,
          2,
          3,
          4,
          4,
          3,
          1,
          2,
          3,
          1,
          3,
          3,
          3,
          1,
          2,
          2,
          1,
          1,
          3,
          3,
          2,
          2,
          4,
          1,
          2
         ],
         "yaxis": "y"
        },
        {
         "alignmentgroup": "True",
         "hovertemplate": "Produto=uva<br>Nome do cliente=%{x}<br>Quantidade de vendas=%{y}<extra></extra>",
         "legendgroup": "uva",
         "marker": {
          "color": "#FF97FF",
          "pattern": {
           "shape": ""
          }
         },
         "name": "uva",
         "offsetgroup": "uva",
         "orientation": "v",
         "showlegend": true,
         "textposition": "auto",
         "type": "bar",
         "x": [
          "Caroline Teixeira",
          "Caroline Teixeira",
          "Caroline Teixeira",
          "Dr. João Guilherme Rezende",
          "Dr. João Guilherme Rezende",
          "Dr. João Guilherme Rezende",
          "Dr. João Guilherme Rezende",
          "Dr. João Guilherme Rezende",
          "Dr. João Guilherme Rezende",
          "Dr. João Guilherme Rezende",
          "Alice Rodrigues",
          "Alice Rodrigues",
          "Alice Rodrigues",
          "Alice Rodrigues",
          "Alice Rodrigues",
          "Leonardo Pires",
          "Leonardo Pires",
          "Leonardo Pires",
          "Leonardo Pires",
          "Júlia Viana",
          "Júlia Viana",
          "Pietro Cardoso",
          "Pietro Cardoso",
          "Pietro Cardoso",
          "Davi Lucca Silveira",
          "Dr. Davi Lucca Sales",
          "Dr. Davi Lucca Sales",
          "Diogo Moreira",
          "Diogo Moreira",
          "Diogo Moreira",
          "Sr. Isaac Nascimento",
          "Sr. Isaac Nascimento",
          "Sr. Isaac Nascimento",
          "Sr. Isaac Nascimento",
          "Sr. Isaac Nascimento",
          "Sr. Isaac Nascimento"
         ],
         "xaxis": "x",
         "y": [
          1,
          3,
          3,
          4,
          4,
          3,
          3,
          4,
          2,
          2,
          1,
          2,
          4,
          4,
          3,
          4,
          2,
          4,
          2,
          2,
          4,
          4,
          3,
          1,
          2,
          3,
          2,
          4,
          2,
          4,
          2,
          4,
          1,
          4,
          2,
          1
         ],
         "yaxis": "y"
        },
        {
         "alignmentgroup": "True",
         "hovertemplate": "Produto=abobrinha<br>Nome do cliente=%{x}<br>Quantidade de vendas=%{y}<extra></extra>",
         "legendgroup": "abobrinha",
         "marker": {
          "color": "#FECB52",
          "pattern": {
           "shape": ""
          }
         },
         "name": "abobrinha",
         "offsetgroup": "abobrinha",
         "orientation": "v",
         "showlegend": true,
         "textposition": "auto",
         "type": "bar",
         "x": [
          "Caroline Teixeira",
          "Caroline Teixeira",
          "Caroline Teixeira",
          "Caroline Teixeira",
          "Caroline Teixeira",
          "Caroline Teixeira",
          "Caroline Teixeira",
          "Dr. João Guilherme Rezende",
          "Dr. João Guilherme Rezende",
          "Alice Rodrigues",
          "Alice Rodrigues",
          "Leonardo Pires",
          "Leonardo Pires",
          "Leonardo Pires",
          "Júlia Viana",
          "Júlia Viana",
          "Júlia Viana",
          "Pietro Cardoso",
          "Davi Lucca Silveira",
          "Dr. Davi Lucca Sales",
          "Dr. Davi Lucca Sales",
          "Dr. Davi Lucca Sales",
          "Dr. Davi Lucca Sales",
          "Diogo Moreira",
          "Diogo Moreira",
          "Diogo Moreira",
          "Sr. Isaac Nascimento",
          "Sr. Isaac Nascimento",
          "Sr. Isaac Nascimento",
          "Sr. Isaac Nascimento"
         ],
         "xaxis": "x",
         "y": [
          4,
          3,
          2,
          1,
          2,
          3,
          2,
          3,
          4,
          2,
          4,
          2,
          4,
          3,
          3,
          2,
          3,
          2,
          2,
          4,
          4,
          4,
          1,
          2,
          1,
          1,
          2,
          2,
          3,
          1
         ],
         "yaxis": "y"
        },
        {
         "alignmentgroup": "True",
         "hovertemplate": "Produto=feijão<br>Nome do cliente=%{x}<br>Quantidade de vendas=%{y}<extra></extra>",
         "legendgroup": "feijão",
         "marker": {
          "color": "#636efa",
          "pattern": {
           "shape": ""
          }
         },
         "name": "feijão",
         "offsetgroup": "feijão",
         "orientation": "v",
         "showlegend": true,
         "textposition": "auto",
         "type": "bar",
         "x": [
          "Caroline Teixeira",
          "Caroline Teixeira",
          "Caroline Teixeira",
          "Caroline Teixeira",
          "Dr. João Guilherme Rezende",
          "Dr. João Guilherme Rezende",
          "Dr. João Guilherme Rezende",
          "Dr. João Guilherme Rezende",
          "Alice Rodrigues",
          "Alice Rodrigues",
          "Leonardo Pires",
          "Leonardo Pires",
          "Júlia Viana",
          "Júlia Viana",
          "Júlia Viana",
          "Pietro Cardoso",
          "Davi Lucca Silveira",
          "Davi Lucca Silveira",
          "Davi Lucca Silveira",
          "Davi Lucca Silveira",
          "Davi Lucca Silveira",
          "Davi Lucca Silveira",
          "Dr. Davi Lucca Sales",
          "Dr. Davi Lucca Sales",
          "Diogo Moreira",
          "Diogo Moreira",
          "Diogo Moreira",
          "Diogo Moreira",
          "Sr. Isaac Nascimento",
          "Sr. Isaac Nascimento"
         ],
         "xaxis": "x",
         "y": [
          1,
          3,
          2,
          1,
          3,
          2,
          4,
          3,
          1,
          2,
          3,
          4,
          3,
          4,
          4,
          2,
          1,
          4,
          1,
          2,
          2,
          2,
          4,
          3,
          1,
          1,
          2,
          1,
          2,
          1
         ],
         "yaxis": "y"
        },
        {
         "alignmentgroup": "True",
         "hovertemplate": "Produto=couve-flor<br>Nome do cliente=%{x}<br>Quantidade de vendas=%{y}<extra></extra>",
         "legendgroup": "couve-flor",
         "marker": {
          "color": "#EF553B",
          "pattern": {
           "shape": ""
          }
         },
         "name": "couve-flor",
         "offsetgroup": "couve-flor",
         "orientation": "v",
         "showlegend": true,
         "textposition": "auto",
         "type": "bar",
         "x": [
          "Dr. João Guilherme Rezende",
          "Dr. João Guilherme Rezende",
          "Dr. João Guilherme Rezende",
          "Dr. João Guilherme Rezende",
          "Dr. João Guilherme Rezende",
          "Dr. João Guilherme Rezende",
          "Alice Rodrigues",
          "Alice Rodrigues",
          "Alice Rodrigues",
          "Alice Rodrigues",
          "Leonardo Pires",
          "Leonardo Pires",
          "Leonardo Pires",
          "Leonardo Pires",
          "Leonardo Pires",
          "Leonardo Pires",
          "Leonardo Pires",
          "Leonardo Pires",
          "Júlia Viana",
          "Júlia Viana",
          "Júlia Viana",
          "Júlia Viana",
          "Júlia Viana",
          "Júlia Viana",
          "Pietro Cardoso",
          "Pietro Cardoso",
          "Pietro Cardoso",
          "Davi Lucca Silveira",
          "Dr. Davi Lucca Sales",
          "Dr. Davi Lucca Sales",
          "Dr. Davi Lucca Sales",
          "Dr. Davi Lucca Sales",
          "Dr. Davi Lucca Sales",
          "Diogo Moreira",
          "Diogo Moreira",
          "Diogo Moreira",
          "Sr. Isaac Nascimento",
          "Sr. Isaac Nascimento"
         ],
         "xaxis": "x",
         "y": [
          2,
          4,
          4,
          3,
          2,
          2,
          4,
          2,
          4,
          1,
          1,
          3,
          4,
          4,
          1,
          2,
          4,
          2,
          2,
          2,
          2,
          3,
          1,
          2,
          3,
          2,
          4,
          4,
          2,
          1,
          1,
          1,
          3,
          3,
          1,
          1,
          2,
          3
         ],
         "yaxis": "y"
        }
       ],
       "layout": {
        "barmode": "stack",
        "height": 700,
        "legend": {
         "title": {
          "text": "Produto"
         },
         "tracegroupgap": 0
        },
        "margin": {
         "t": 60
        },
        "template": {
         "data": {
          "bar": [
           {
            "error_x": {
             "color": "#2a3f5f"
            },
            "error_y": {
             "color": "#2a3f5f"
            },
            "marker": {
             "line": {
              "color": "#E5ECF6",
              "width": 0.5
             },
             "pattern": {
              "fillmode": "overlay",
              "size": 10,
              "solidity": 0.2
             }
            },
            "type": "bar"
           }
          ],
          "barpolar": [
           {
            "marker": {
             "line": {
              "color": "#E5ECF6",
              "width": 0.5
             },
             "pattern": {
              "fillmode": "overlay",
              "size": 10,
              "solidity": 0.2
             }
            },
            "type": "barpolar"
           }
          ],
          "carpet": [
           {
            "aaxis": {
             "endlinecolor": "#2a3f5f",
             "gridcolor": "white",
             "linecolor": "white",
             "minorgridcolor": "white",
             "startlinecolor": "#2a3f5f"
            },
            "baxis": {
             "endlinecolor": "#2a3f5f",
             "gridcolor": "white",
             "linecolor": "white",
             "minorgridcolor": "white",
             "startlinecolor": "#2a3f5f"
            },
            "type": "carpet"
           }
          ],
          "choropleth": [
           {
            "colorbar": {
             "outlinewidth": 0,
             "ticks": ""
            },
            "type": "choropleth"
           }
          ],
          "contour": [
           {
            "colorbar": {
             "outlinewidth": 0,
             "ticks": ""
            },
            "colorscale": [
             [
              0,
              "#0d0887"
             ],
             [
              0.1111111111111111,
              "#46039f"
             ],
             [
              0.2222222222222222,
              "#7201a8"
             ],
             [
              0.3333333333333333,
              "#9c179e"
             ],
             [
              0.4444444444444444,
              "#bd3786"
             ],
             [
              0.5555555555555556,
              "#d8576b"
             ],
             [
              0.6666666666666666,
              "#ed7953"
             ],
             [
              0.7777777777777778,
              "#fb9f3a"
             ],
             [
              0.8888888888888888,
              "#fdca26"
             ],
             [
              1,
              "#f0f921"
             ]
            ],
            "type": "contour"
           }
          ],
          "contourcarpet": [
           {
            "colorbar": {
             "outlinewidth": 0,
             "ticks": ""
            },
            "type": "contourcarpet"
           }
          ],
          "heatmap": [
           {
            "colorbar": {
             "outlinewidth": 0,
             "ticks": ""
            },
            "colorscale": [
             [
              0,
              "#0d0887"
             ],
             [
              0.1111111111111111,
              "#46039f"
             ],
             [
              0.2222222222222222,
              "#7201a8"
             ],
             [
              0.3333333333333333,
              "#9c179e"
             ],
             [
              0.4444444444444444,
              "#bd3786"
             ],
             [
              0.5555555555555556,
              "#d8576b"
             ],
             [
              0.6666666666666666,
              "#ed7953"
             ],
             [
              0.7777777777777778,
              "#fb9f3a"
             ],
             [
              0.8888888888888888,
              "#fdca26"
             ],
             [
              1,
              "#f0f921"
             ]
            ],
            "type": "heatmap"
           }
          ],
          "heatmapgl": [
           {
            "colorbar": {
             "outlinewidth": 0,
             "ticks": ""
            },
            "colorscale": [
             [
              0,
              "#0d0887"
             ],
             [
              0.1111111111111111,
              "#46039f"
             ],
             [
              0.2222222222222222,
              "#7201a8"
             ],
             [
              0.3333333333333333,
              "#9c179e"
             ],
             [
              0.4444444444444444,
              "#bd3786"
             ],
             [
              0.5555555555555556,
              "#d8576b"
             ],
             [
              0.6666666666666666,
              "#ed7953"
             ],
             [
              0.7777777777777778,
              "#fb9f3a"
             ],
             [
              0.8888888888888888,
              "#fdca26"
             ],
             [
              1,
              "#f0f921"
             ]
            ],
            "type": "heatmapgl"
           }
          ],
          "histogram": [
           {
            "marker": {
             "pattern": {
              "fillmode": "overlay",
              "size": 10,
              "solidity": 0.2
             }
            },
            "type": "histogram"
           }
          ],
          "histogram2d": [
           {
            "colorbar": {
             "outlinewidth": 0,
             "ticks": ""
            },
            "colorscale": [
             [
              0,
              "#0d0887"
             ],
             [
              0.1111111111111111,
              "#46039f"
             ],
             [
              0.2222222222222222,
              "#7201a8"
             ],
             [
              0.3333333333333333,
              "#9c179e"
             ],
             [
              0.4444444444444444,
              "#bd3786"
             ],
             [
              0.5555555555555556,
              "#d8576b"
             ],
             [
              0.6666666666666666,
              "#ed7953"
             ],
             [
              0.7777777777777778,
              "#fb9f3a"
             ],
             [
              0.8888888888888888,
              "#fdca26"
             ],
             [
              1,
              "#f0f921"
             ]
            ],
            "type": "histogram2d"
           }
          ],
          "histogram2dcontour": [
           {
            "colorbar": {
             "outlinewidth": 0,
             "ticks": ""
            },
            "colorscale": [
             [
              0,
              "#0d0887"
             ],
             [
              0.1111111111111111,
              "#46039f"
             ],
             [
              0.2222222222222222,
              "#7201a8"
             ],
             [
              0.3333333333333333,
              "#9c179e"
             ],
             [
              0.4444444444444444,
              "#bd3786"
             ],
             [
              0.5555555555555556,
              "#d8576b"
             ],
             [
              0.6666666666666666,
              "#ed7953"
             ],
             [
              0.7777777777777778,
              "#fb9f3a"
             ],
             [
              0.8888888888888888,
              "#fdca26"
             ],
             [
              1,
              "#f0f921"
             ]
            ],
            "type": "histogram2dcontour"
           }
          ],
          "mesh3d": [
           {
            "colorbar": {
             "outlinewidth": 0,
             "ticks": ""
            },
            "type": "mesh3d"
           }
          ],
          "parcoords": [
           {
            "line": {
             "colorbar": {
              "outlinewidth": 0,
              "ticks": ""
             }
            },
            "type": "parcoords"
           }
          ],
          "pie": [
           {
            "automargin": true,
            "type": "pie"
           }
          ],
          "scatter": [
           {
            "marker": {
             "colorbar": {
              "outlinewidth": 0,
              "ticks": ""
             }
            },
            "type": "scatter"
           }
          ],
          "scatter3d": [
           {
            "line": {
             "colorbar": {
              "outlinewidth": 0,
              "ticks": ""
             }
            },
            "marker": {
             "colorbar": {
              "outlinewidth": 0,
              "ticks": ""
             }
            },
            "type": "scatter3d"
           }
          ],
          "scattercarpet": [
           {
            "marker": {
             "colorbar": {
              "outlinewidth": 0,
              "ticks": ""
             }
            },
            "type": "scattercarpet"
           }
          ],
          "scattergeo": [
           {
            "marker": {
             "colorbar": {
              "outlinewidth": 0,
              "ticks": ""
             }
            },
            "type": "scattergeo"
           }
          ],
          "scattergl": [
           {
            "marker": {
             "colorbar": {
              "outlinewidth": 0,
              "ticks": ""
             }
            },
            "type": "scattergl"
           }
          ],
          "scattermapbox": [
           {
            "marker": {
             "colorbar": {
              "outlinewidth": 0,
              "ticks": ""
             }
            },
            "type": "scattermapbox"
           }
          ],
          "scatterpolar": [
           {
            "marker": {
             "colorbar": {
              "outlinewidth": 0,
              "ticks": ""
             }
            },
            "type": "scatterpolar"
           }
          ],
          "scatterpolargl": [
           {
            "marker": {
             "colorbar": {
              "outlinewidth": 0,
              "ticks": ""
             }
            },
            "type": "scatterpolargl"
           }
          ],
          "scatterternary": [
           {
            "marker": {
             "colorbar": {
              "outlinewidth": 0,
              "ticks": ""
             }
            },
            "type": "scatterternary"
           }
          ],
          "surface": [
           {
            "colorbar": {
             "outlinewidth": 0,
             "ticks": ""
            },
            "colorscale": [
             [
              0,
              "#0d0887"
             ],
             [
              0.1111111111111111,
              "#46039f"
             ],
             [
              0.2222222222222222,
              "#7201a8"
             ],
             [
              0.3333333333333333,
              "#9c179e"
             ],
             [
              0.4444444444444444,
              "#bd3786"
             ],
             [
              0.5555555555555556,
              "#d8576b"
             ],
             [
              0.6666666666666666,
              "#ed7953"
             ],
             [
              0.7777777777777778,
              "#fb9f3a"
             ],
             [
              0.8888888888888888,
              "#fdca26"
             ],
             [
              1,
              "#f0f921"
             ]
            ],
            "type": "surface"
           }
          ],
          "table": [
           {
            "cells": {
             "fill": {
              "color": "#EBF0F8"
             },
             "line": {
              "color": "white"
             }
            },
            "header": {
             "fill": {
              "color": "#C8D4E3"
             },
             "line": {
              "color": "white"
             }
            },
            "type": "table"
           }
          ]
         },
         "layout": {
          "annotationdefaults": {
           "arrowcolor": "#2a3f5f",
           "arrowhead": 0,
           "arrowwidth": 1
          },
          "autotypenumbers": "strict",
          "coloraxis": {
           "colorbar": {
            "outlinewidth": 0,
            "ticks": ""
           }
          },
          "colorscale": {
           "diverging": [
            [
             0,
             "#8e0152"
            ],
            [
             0.1,
             "#c51b7d"
            ],
            [
             0.2,
             "#de77ae"
            ],
            [
             0.3,
             "#f1b6da"
            ],
            [
             0.4,
             "#fde0ef"
            ],
            [
             0.5,
             "#f7f7f7"
            ],
            [
             0.6,
             "#e6f5d0"
            ],
            [
             0.7,
             "#b8e186"
            ],
            [
             0.8,
             "#7fbc41"
            ],
            [
             0.9,
             "#4d9221"
            ],
            [
             1,
             "#276419"
            ]
           ],
           "sequential": [
            [
             0,
             "#0d0887"
            ],
            [
             0.1111111111111111,
             "#46039f"
            ],
            [
             0.2222222222222222,
             "#7201a8"
            ],
            [
             0.3333333333333333,
             "#9c179e"
            ],
            [
             0.4444444444444444,
             "#bd3786"
            ],
            [
             0.5555555555555556,
             "#d8576b"
            ],
            [
             0.6666666666666666,
             "#ed7953"
            ],
            [
             0.7777777777777778,
             "#fb9f3a"
            ],
            [
             0.8888888888888888,
             "#fdca26"
            ],
            [
             1,
             "#f0f921"
            ]
           ],
           "sequentialminus": [
            [
             0,
             "#0d0887"
            ],
            [
             0.1111111111111111,
             "#46039f"
            ],
            [
             0.2222222222222222,
             "#7201a8"
            ],
            [
             0.3333333333333333,
             "#9c179e"
            ],
            [
             0.4444444444444444,
             "#bd3786"
            ],
            [
             0.5555555555555556,
             "#d8576b"
            ],
            [
             0.6666666666666666,
             "#ed7953"
            ],
            [
             0.7777777777777778,
             "#fb9f3a"
            ],
            [
             0.8888888888888888,
             "#fdca26"
            ],
            [
             1,
             "#f0f921"
            ]
           ]
          },
          "colorway": [
           "#636efa",
           "#EF553B",
           "#00cc96",
           "#ab63fa",
           "#FFA15A",
           "#19d3f3",
           "#FF6692",
           "#B6E880",
           "#FF97FF",
           "#FECB52"
          ],
          "font": {
           "color": "#2a3f5f"
          },
          "geo": {
           "bgcolor": "white",
           "lakecolor": "white",
           "landcolor": "#E5ECF6",
           "showlakes": true,
           "showland": true,
           "subunitcolor": "white"
          },
          "hoverlabel": {
           "align": "left"
          },
          "hovermode": "closest",
          "mapbox": {
           "style": "light"
          },
          "paper_bgcolor": "white",
          "plot_bgcolor": "#E5ECF6",
          "polar": {
           "angularaxis": {
            "gridcolor": "white",
            "linecolor": "white",
            "ticks": ""
           },
           "bgcolor": "#E5ECF6",
           "radialaxis": {
            "gridcolor": "white",
            "linecolor": "white",
            "ticks": ""
           }
          },
          "scene": {
           "xaxis": {
            "backgroundcolor": "#E5ECF6",
            "gridcolor": "white",
            "gridwidth": 2,
            "linecolor": "white",
            "showbackground": true,
            "ticks": "",
            "zerolinecolor": "white"
           },
           "yaxis": {
            "backgroundcolor": "#E5ECF6",
            "gridcolor": "white",
            "gridwidth": 2,
            "linecolor": "white",
            "showbackground": true,
            "ticks": "",
            "zerolinecolor": "white"
           },
           "zaxis": {
            "backgroundcolor": "#E5ECF6",
            "gridcolor": "white",
            "gridwidth": 2,
            "linecolor": "white",
            "showbackground": true,
            "ticks": "",
            "zerolinecolor": "white"
           }
          },
          "shapedefaults": {
           "line": {
            "color": "#2a3f5f"
           }
          },
          "ternary": {
           "aaxis": {
            "gridcolor": "white",
            "linecolor": "white",
            "ticks": ""
           },
           "baxis": {
            "gridcolor": "white",
            "linecolor": "white",
            "ticks": ""
           },
           "bgcolor": "#E5ECF6",
           "caxis": {
            "gridcolor": "white",
            "linecolor": "white",
            "ticks": ""
           }
          },
          "title": {
           "x": 0.05
          },
          "xaxis": {
           "automargin": true,
           "gridcolor": "white",
           "linecolor": "white",
           "ticks": "",
           "title": {
            "standoff": 15
           },
           "zerolinecolor": "white",
           "zerolinewidth": 2
          },
          "yaxis": {
           "automargin": true,
           "gridcolor": "white",
           "linecolor": "white",
           "ticks": "",
           "title": {
            "standoff": 15
           },
           "zerolinecolor": "white",
           "zerolinewidth": 2
          }
         }
        },
        "width": 700,
        "xaxis": {
         "anchor": "y",
         "domain": [
          0,
          1
         ],
         "title": {
          "text": "Nome do cliente"
         }
        },
        "yaxis": {
         "anchor": "x",
         "domain": [
          0,
          1
         ],
         "title": {
          "text": "Quantidade de vendas"
         }
        }
       }
      },
      "text/html": [
       "<div>                            <div id=\"627f8070-d0f6-4d4d-8da1-3edffabd73ae\" class=\"plotly-graph-div\" style=\"height:700px; width:700px;\"></div>            <script type=\"text/javascript\">                require([\"plotly\"], function(Plotly) {                    window.PLOTLYENV=window.PLOTLYENV || {};                                    if (document.getElementById(\"627f8070-d0f6-4d4d-8da1-3edffabd73ae\")) {                    Plotly.newPlot(                        \"627f8070-d0f6-4d4d-8da1-3edffabd73ae\",                        [{\"alignmentgroup\":\"True\",\"hovertemplate\":\"Produto=morango<br>Nome do cliente=%{x}<br>Quantidade de vendas=%{y}<extra></extra>\",\"legendgroup\":\"morango\",\"marker\":{\"color\":\"#636efa\",\"pattern\":{\"shape\":\"\"}},\"name\":\"morango\",\"offsetgroup\":\"morango\",\"orientation\":\"v\",\"showlegend\":true,\"textposition\":\"auto\",\"type\":\"bar\",\"x\":[\"Caroline Teixeira\",\"Caroline Teixeira\",\"Caroline Teixeira\",\"Caroline Teixeira\",\"Caroline Teixeira\",\"Dr. Jo\\u00e3o Guilherme Rezende\",\"Dr. Jo\\u00e3o Guilherme Rezende\",\"Dr. Jo\\u00e3o Guilherme Rezende\",\"Alice Rodrigues\",\"Leonardo Pires\",\"Leonardo Pires\",\"Leonardo Pires\",\"J\\u00falia Viana\",\"J\\u00falia Viana\",\"J\\u00falia Viana\",\"J\\u00falia Viana\",\"Pietro Cardoso\",\"Pietro Cardoso\",\"Pietro Cardoso\",\"Davi Lucca Silveira\",\"Davi Lucca Silveira\",\"Dr. Davi Lucca Sales\",\"Dr. Davi Lucca Sales\",\"Diogo Moreira\",\"Sr. Isaac Nascimento\",\"Sr. Isaac Nascimento\",\"Sr. Isaac Nascimento\",\"Sr. Isaac Nascimento\"],\"xaxis\":\"x\",\"y\":[3.0,3.0,1.0,1.0,2.0,4.0,3.0,4.0,1.0,4.0,2.0,3.0,2.0,3.0,4.0,1.0,2.0,2.0,3.0,3.0,4.0,4.0,1.0,4.0,1.0,4.0,2.0,3.0],\"yaxis\":\"y\"},{\"alignmentgroup\":\"True\",\"hovertemplate\":\"Produto=batata<br>Nome do cliente=%{x}<br>Quantidade de vendas=%{y}<extra></extra>\",\"legendgroup\":\"batata\",\"marker\":{\"color\":\"#EF553B\",\"pattern\":{\"shape\":\"\"}},\"name\":\"batata\",\"offsetgroup\":\"batata\",\"orientation\":\"v\",\"showlegend\":true,\"textposition\":\"auto\",\"type\":\"bar\",\"x\":[\"Caroline Teixeira\",\"Caroline Teixeira\",\"Caroline Teixeira\",\"Caroline Teixeira\",\"Caroline Teixeira\",\"Caroline Teixeira\",\"Caroline Teixeira\",\"Dr. Jo\\u00e3o Guilherme Rezende\",\"Dr. Jo\\u00e3o Guilherme Rezende\",\"Dr. Jo\\u00e3o Guilherme Rezende\",\"Dr. Jo\\u00e3o Guilherme Rezende\",\"Dr. Jo\\u00e3o Guilherme Rezende\",\"Alice Rodrigues\",\"Alice Rodrigues\",\"Alice Rodrigues\",\"Alice Rodrigues\",\"Alice Rodrigues\",\"Alice Rodrigues\",\"Leonardo Pires\",\"Leonardo Pires\",\"Leonardo Pires\",\"Leonardo Pires\",\"Leonardo Pires\",\"J\\u00falia Viana\",\"Pietro Cardoso\",\"Pietro Cardoso\",\"Davi Lucca Silveira\",\"Davi Lucca Silveira\",\"Davi Lucca Silveira\",\"Davi Lucca Silveira\",\"Davi Lucca Silveira\",\"Davi Lucca Silveira\",\"Diogo Moreira\",\"Diogo Moreira\",\"Diogo Moreira\",\"Diogo Moreira\",\"Sr. Isaac Nascimento\",\"Sr. Isaac Nascimento\"],\"xaxis\":\"x\",\"y\":[4.0,2.0,2.0,2.0,4.0,2.0,2.0,1.0,3.0,2.0,4.0,3.0,2.0,2.0,4.0,4.0,2.0,3.0,1.0,1.0,3.0,1.0,3.0,3.0,4.0,4.0,1.0,1.0,3.0,3.0,3.0,4.0,1.0,3.0,4.0,3.0,1.0,2.0],\"yaxis\":\"y\"},{\"alignmentgroup\":\"True\",\"hovertemplate\":\"Produto=berinjela<br>Nome do cliente=%{x}<br>Quantidade de vendas=%{y}<extra></extra>\",\"legendgroup\":\"berinjela\",\"marker\":{\"color\":\"#00cc96\",\"pattern\":{\"shape\":\"\"}},\"name\":\"berinjela\",\"offsetgroup\":\"berinjela\",\"orientation\":\"v\",\"showlegend\":true,\"textposition\":\"auto\",\"type\":\"bar\",\"x\":[\"Caroline Teixeira\",\"Caroline Teixeira\",\"Dr. Jo\\u00e3o Guilherme Rezende\",\"Alice Rodrigues\",\"Alice Rodrigues\",\"Alice Rodrigues\",\"Alice Rodrigues\",\"Alice Rodrigues\",\"Leonardo Pires\",\"J\\u00falia Viana\",\"J\\u00falia Viana\",\"Pietro Cardoso\",\"Pietro Cardoso\",\"Pietro Cardoso\",\"Pietro Cardoso\",\"Davi Lucca Silveira\",\"Davi Lucca Silveira\",\"Davi Lucca Silveira\",\"Davi Lucca Silveira\",\"Davi Lucca Silveira\",\"Davi Lucca Silveira\",\"Davi Lucca Silveira\",\"Dr. Davi Lucca Sales\",\"Dr. Davi Lucca Sales\",\"Diogo Moreira\",\"Diogo Moreira\",\"Sr. Isaac Nascimento\",\"Sr. Isaac Nascimento\",\"Sr. Isaac Nascimento\",\"Sr. Isaac Nascimento\"],\"xaxis\":\"x\",\"y\":[3.0,4.0,2.0,2.0,1.0,1.0,4.0,3.0,3.0,3.0,3.0,4.0,4.0,2.0,1.0,1.0,2.0,4.0,2.0,2.0,3.0,2.0,2.0,4.0,4.0,1.0,4.0,1.0,1.0,3.0],\"yaxis\":\"y\"},{\"alignmentgroup\":\"True\",\"hovertemplate\":\"Produto=alface<br>Nome do cliente=%{x}<br>Quantidade de vendas=%{y}<extra></extra>\",\"legendgroup\":\"alface\",\"marker\":{\"color\":\"#ab63fa\",\"pattern\":{\"shape\":\"\"}},\"name\":\"alface\",\"offsetgroup\":\"alface\",\"orientation\":\"v\",\"showlegend\":true,\"textposition\":\"auto\",\"type\":\"bar\",\"x\":[\"Caroline Teixeira\",\"Caroline Teixeira\",\"Caroline Teixeira\",\"Dr. Jo\\u00e3o Guilherme Rezende\",\"Dr. Jo\\u00e3o Guilherme Rezende\",\"Alice Rodrigues\",\"Alice Rodrigues\",\"Alice Rodrigues\",\"Alice Rodrigues\",\"Leonardo Pires\",\"Leonardo Pires\",\"J\\u00falia Viana\",\"J\\u00falia Viana\",\"Davi Lucca Silveira\",\"Davi Lucca Silveira\",\"Davi Lucca Silveira\",\"Davi Lucca Silveira\",\"Davi Lucca Silveira\",\"Dr. Davi Lucca Sales\",\"Dr. Davi Lucca Sales\",\"Dr. Davi Lucca Sales\",\"Dr. Davi Lucca Sales\",\"Dr. Davi Lucca Sales\",\"Diogo Moreira\",\"Sr. Isaac Nascimento\",\"Sr. Isaac Nascimento\"],\"xaxis\":\"x\",\"y\":[2.0,3.0,4.0,2.0,4.0,1.0,2.0,4.0,3.0,1.0,1.0,4.0,3.0,3.0,1.0,1.0,1.0,1.0,4.0,3.0,3.0,4.0,4.0,4.0,4.0,3.0],\"yaxis\":\"y\"},{\"alignmentgroup\":\"True\",\"hovertemplate\":\"Produto=arroz<br>Nome do cliente=%{x}<br>Quantidade de vendas=%{y}<extra></extra>\",\"legendgroup\":\"arroz\",\"marker\":{\"color\":\"#FFA15A\",\"pattern\":{\"shape\":\"\"}},\"name\":\"arroz\",\"offsetgroup\":\"arroz\",\"orientation\":\"v\",\"showlegend\":true,\"textposition\":\"auto\",\"type\":\"bar\",\"x\":[\"Caroline Teixeira\",\"Caroline Teixeira\",\"Caroline Teixeira\",\"Caroline Teixeira\",\"Caroline Teixeira\",\"Dr. Jo\\u00e3o Guilherme Rezende\",\"Dr. Jo\\u00e3o Guilherme Rezende\",\"Dr. Jo\\u00e3o Guilherme Rezende\",\"Dr. Jo\\u00e3o Guilherme Rezende\",\"Dr. Jo\\u00e3o Guilherme Rezende\",\"Dr. Jo\\u00e3o Guilherme Rezende\",\"Alice Rodrigues\",\"Alice Rodrigues\",\"Alice Rodrigues\",\"Leonardo Pires\",\"Leonardo Pires\",\"J\\u00falia Viana\",\"Pietro Cardoso\",\"Pietro Cardoso\",\"Pietro Cardoso\",\"Pietro Cardoso\",\"Pietro Cardoso\",\"Pietro Cardoso\",\"Davi Lucca Silveira\",\"Davi Lucca Silveira\",\"Davi Lucca Silveira\",\"Dr. Davi Lucca Sales\",\"Diogo Moreira\",\"Diogo Moreira\",\"Diogo Moreira\",\"Diogo Moreira\",\"Sr. Isaac Nascimento\",\"Sr. Isaac Nascimento\",\"Sr. Isaac Nascimento\",\"Sr. Isaac Nascimento\"],\"xaxis\":\"x\",\"y\":[3.0,3.0,1.0,1.0,3.0,3.0,2.0,2.0,1.0,3.0,1.0,2.0,2.0,3.0,3.0,2.0,2.0,1.0,4.0,4.0,1.0,1.0,3.0,3.0,4.0,4.0,1.0,4.0,3.0,4.0,2.0,1.0,4.0,2.0,1.0],\"yaxis\":\"y\"},{\"alignmentgroup\":\"True\",\"hovertemplate\":\"Produto=macarr\\u00e3o<br>Nome do cliente=%{x}<br>Quantidade de vendas=%{y}<extra></extra>\",\"legendgroup\":\"macarr\\u00e3o\",\"marker\":{\"color\":\"#19d3f3\",\"pattern\":{\"shape\":\"\"}},\"name\":\"macarr\\u00e3o\",\"offsetgroup\":\"macarr\\u00e3o\",\"orientation\":\"v\",\"showlegend\":true,\"textposition\":\"auto\",\"type\":\"bar\",\"x\":[\"Caroline Teixeira\",\"Caroline Teixeira\",\"Caroline Teixeira\",\"Caroline Teixeira\",\"Dr. Jo\\u00e3o Guilherme Rezende\",\"Dr. Jo\\u00e3o Guilherme Rezende\",\"Dr. Jo\\u00e3o Guilherme Rezende\",\"Alice Rodrigues\",\"Alice Rodrigues\",\"Alice Rodrigues\",\"Alice Rodrigues\",\"Leonardo Pires\",\"Leonardo Pires\",\"Leonardo Pires\",\"J\\u00falia Viana\",\"J\\u00falia Viana\",\"J\\u00falia Viana\",\"Pietro Cardoso\",\"Pietro Cardoso\",\"Pietro Cardoso\",\"Pietro Cardoso\",\"Pietro Cardoso\",\"Pietro Cardoso\",\"Pietro Cardoso\",\"Davi Lucca Silveira\",\"Dr. Davi Lucca Sales\",\"Dr. Davi Lucca Sales\",\"Dr. Davi Lucca Sales\",\"Dr. Davi Lucca Sales\",\"Dr. Davi Lucca Sales\",\"Diogo Moreira\",\"Diogo Moreira\",\"Diogo Moreira\",\"Diogo Moreira\",\"Sr. Isaac Nascimento\",\"Sr. Isaac Nascimento\",\"Sr. Isaac Nascimento\"],\"xaxis\":\"x\",\"y\":[3.0,3.0,2.0,1.0,4.0,1.0,1.0,1.0,3.0,3.0,3.0,3.0,3.0,2.0,4.0,2.0,1.0,3.0,1.0,3.0,1.0,1.0,4.0,2.0,3.0,2.0,2.0,2.0,1.0,3.0,2.0,3.0,3.0,4.0,4.0,1.0,1.0],\"yaxis\":\"y\"},{\"alignmentgroup\":\"True\",\"hovertemplate\":\"Produto=melancia<br>Nome do cliente=%{x}<br>Quantidade de vendas=%{y}<extra></extra>\",\"legendgroup\":\"melancia\",\"marker\":{\"color\":\"#FF6692\",\"pattern\":{\"shape\":\"\"}},\"name\":\"melancia\",\"offsetgroup\":\"melancia\",\"orientation\":\"v\",\"showlegend\":true,\"textposition\":\"auto\",\"type\":\"bar\",\"x\":[\"Caroline Teixeira\",\"Caroline Teixeira\",\"Dr. Jo\\u00e3o Guilherme Rezende\",\"Dr. Jo\\u00e3o Guilherme Rezende\",\"Dr. Jo\\u00e3o Guilherme Rezende\",\"Dr. Jo\\u00e3o Guilherme Rezende\",\"Alice Rodrigues\",\"Alice Rodrigues\",\"Alice Rodrigues\",\"Alice Rodrigues\",\"Alice Rodrigues\",\"Alice Rodrigues\",\"Leonardo Pires\",\"J\\u00falia Viana\",\"J\\u00falia Viana\",\"J\\u00falia Viana\",\"Pietro Cardoso\",\"Davi Lucca Silveira\",\"Davi Lucca Silveira\",\"Davi Lucca Silveira\",\"Dr. Davi Lucca Sales\",\"Dr. Davi Lucca Sales\",\"Dr. Davi Lucca Sales\",\"Dr. Davi Lucca Sales\",\"Dr. Davi Lucca Sales\",\"Diogo Moreira\",\"Diogo Moreira\",\"Diogo Moreira\",\"Diogo Moreira\",\"Sr. Isaac Nascimento\",\"Sr. Isaac Nascimento\",\"Sr. Isaac Nascimento\",\"Sr. Isaac Nascimento\"],\"xaxis\":\"x\",\"y\":[3.0,3.0,1.0,3.0,4.0,4.0,3.0,1.0,3.0,4.0,3.0,4.0,3.0,4.0,4.0,1.0,1.0,2.0,1.0,1.0,3.0,2.0,4.0,3.0,3.0,2.0,1.0,1.0,1.0,2.0,1.0,2.0,1.0],\"yaxis\":\"y\"},{\"alignmentgroup\":\"True\",\"hovertemplate\":\"Produto=banana<br>Nome do cliente=%{x}<br>Quantidade de vendas=%{y}<extra></extra>\",\"legendgroup\":\"banana\",\"marker\":{\"color\":\"#B6E880\",\"pattern\":{\"shape\":\"\"}},\"name\":\"banana\",\"offsetgroup\":\"banana\",\"orientation\":\"v\",\"showlegend\":true,\"textposition\":\"auto\",\"type\":\"bar\",\"x\":[\"Caroline Teixeira\",\"Caroline Teixeira\",\"Caroline Teixeira\",\"Caroline Teixeira\",\"Caroline Teixeira\",\"Caroline Teixeira\",\"Caroline Teixeira\",\"Caroline Teixeira\",\"Caroline Teixeira\",\"Dr. Jo\\u00e3o Guilherme Rezende\",\"Alice Rodrigues\",\"Leonardo Pires\",\"J\\u00falia Viana\",\"J\\u00falia Viana\",\"J\\u00falia Viana\",\"J\\u00falia Viana\",\"Pietro Cardoso\",\"Pietro Cardoso\",\"Pietro Cardoso\",\"Pietro Cardoso\",\"Pietro Cardoso\",\"Davi Lucca Silveira\",\"Davi Lucca Silveira\",\"Davi Lucca Silveira\",\"Davi Lucca Silveira\",\"Dr. Davi Lucca Sales\",\"Diogo Moreira\",\"Diogo Moreira\",\"Diogo Moreira\",\"Diogo Moreira\",\"Sr. Isaac Nascimento\",\"Sr. Isaac Nascimento\",\"Sr. Isaac Nascimento\"],\"xaxis\":\"x\",\"y\":[2.0,1.0,1.0,1.0,4.0,4.0,4.0,3.0,2.0,2.0,3.0,4.0,4.0,3.0,1.0,2.0,3.0,1.0,3.0,3.0,3.0,1.0,2.0,2.0,1.0,1.0,3.0,3.0,2.0,2.0,4.0,1.0,2.0],\"yaxis\":\"y\"},{\"alignmentgroup\":\"True\",\"hovertemplate\":\"Produto=uva<br>Nome do cliente=%{x}<br>Quantidade de vendas=%{y}<extra></extra>\",\"legendgroup\":\"uva\",\"marker\":{\"color\":\"#FF97FF\",\"pattern\":{\"shape\":\"\"}},\"name\":\"uva\",\"offsetgroup\":\"uva\",\"orientation\":\"v\",\"showlegend\":true,\"textposition\":\"auto\",\"type\":\"bar\",\"x\":[\"Caroline Teixeira\",\"Caroline Teixeira\",\"Caroline Teixeira\",\"Dr. Jo\\u00e3o Guilherme Rezende\",\"Dr. Jo\\u00e3o Guilherme Rezende\",\"Dr. Jo\\u00e3o Guilherme Rezende\",\"Dr. Jo\\u00e3o Guilherme Rezende\",\"Dr. Jo\\u00e3o Guilherme Rezende\",\"Dr. Jo\\u00e3o Guilherme Rezende\",\"Dr. Jo\\u00e3o Guilherme Rezende\",\"Alice Rodrigues\",\"Alice Rodrigues\",\"Alice Rodrigues\",\"Alice Rodrigues\",\"Alice Rodrigues\",\"Leonardo Pires\",\"Leonardo Pires\",\"Leonardo Pires\",\"Leonardo Pires\",\"J\\u00falia Viana\",\"J\\u00falia Viana\",\"Pietro Cardoso\",\"Pietro Cardoso\",\"Pietro Cardoso\",\"Davi Lucca Silveira\",\"Dr. Davi Lucca Sales\",\"Dr. Davi Lucca Sales\",\"Diogo Moreira\",\"Diogo Moreira\",\"Diogo Moreira\",\"Sr. Isaac Nascimento\",\"Sr. Isaac Nascimento\",\"Sr. Isaac Nascimento\",\"Sr. Isaac Nascimento\",\"Sr. Isaac Nascimento\",\"Sr. Isaac Nascimento\"],\"xaxis\":\"x\",\"y\":[1.0,3.0,3.0,4.0,4.0,3.0,3.0,4.0,2.0,2.0,1.0,2.0,4.0,4.0,3.0,4.0,2.0,4.0,2.0,2.0,4.0,4.0,3.0,1.0,2.0,3.0,2.0,4.0,2.0,4.0,2.0,4.0,1.0,4.0,2.0,1.0],\"yaxis\":\"y\"},{\"alignmentgroup\":\"True\",\"hovertemplate\":\"Produto=abobrinha<br>Nome do cliente=%{x}<br>Quantidade de vendas=%{y}<extra></extra>\",\"legendgroup\":\"abobrinha\",\"marker\":{\"color\":\"#FECB52\",\"pattern\":{\"shape\":\"\"}},\"name\":\"abobrinha\",\"offsetgroup\":\"abobrinha\",\"orientation\":\"v\",\"showlegend\":true,\"textposition\":\"auto\",\"type\":\"bar\",\"x\":[\"Caroline Teixeira\",\"Caroline Teixeira\",\"Caroline Teixeira\",\"Caroline Teixeira\",\"Caroline Teixeira\",\"Caroline Teixeira\",\"Caroline Teixeira\",\"Dr. Jo\\u00e3o Guilherme Rezende\",\"Dr. Jo\\u00e3o Guilherme Rezende\",\"Alice Rodrigues\",\"Alice Rodrigues\",\"Leonardo Pires\",\"Leonardo Pires\",\"Leonardo Pires\",\"J\\u00falia Viana\",\"J\\u00falia Viana\",\"J\\u00falia Viana\",\"Pietro Cardoso\",\"Davi Lucca Silveira\",\"Dr. Davi Lucca Sales\",\"Dr. Davi Lucca Sales\",\"Dr. Davi Lucca Sales\",\"Dr. Davi Lucca Sales\",\"Diogo Moreira\",\"Diogo Moreira\",\"Diogo Moreira\",\"Sr. Isaac Nascimento\",\"Sr. Isaac Nascimento\",\"Sr. Isaac Nascimento\",\"Sr. Isaac Nascimento\"],\"xaxis\":\"x\",\"y\":[4.0,3.0,2.0,1.0,2.0,3.0,2.0,3.0,4.0,2.0,4.0,2.0,4.0,3.0,3.0,2.0,3.0,2.0,2.0,4.0,4.0,4.0,1.0,2.0,1.0,1.0,2.0,2.0,3.0,1.0],\"yaxis\":\"y\"},{\"alignmentgroup\":\"True\",\"hovertemplate\":\"Produto=feij\\u00e3o<br>Nome do cliente=%{x}<br>Quantidade de vendas=%{y}<extra></extra>\",\"legendgroup\":\"feij\\u00e3o\",\"marker\":{\"color\":\"#636efa\",\"pattern\":{\"shape\":\"\"}},\"name\":\"feij\\u00e3o\",\"offsetgroup\":\"feij\\u00e3o\",\"orientation\":\"v\",\"showlegend\":true,\"textposition\":\"auto\",\"type\":\"bar\",\"x\":[\"Caroline Teixeira\",\"Caroline Teixeira\",\"Caroline Teixeira\",\"Caroline Teixeira\",\"Dr. Jo\\u00e3o Guilherme Rezende\",\"Dr. Jo\\u00e3o Guilherme Rezende\",\"Dr. Jo\\u00e3o Guilherme Rezende\",\"Dr. Jo\\u00e3o Guilherme Rezende\",\"Alice Rodrigues\",\"Alice Rodrigues\",\"Leonardo Pires\",\"Leonardo Pires\",\"J\\u00falia Viana\",\"J\\u00falia Viana\",\"J\\u00falia Viana\",\"Pietro Cardoso\",\"Davi Lucca Silveira\",\"Davi Lucca Silveira\",\"Davi Lucca Silveira\",\"Davi Lucca Silveira\",\"Davi Lucca Silveira\",\"Davi Lucca Silveira\",\"Dr. Davi Lucca Sales\",\"Dr. Davi Lucca Sales\",\"Diogo Moreira\",\"Diogo Moreira\",\"Diogo Moreira\",\"Diogo Moreira\",\"Sr. Isaac Nascimento\",\"Sr. Isaac Nascimento\"],\"xaxis\":\"x\",\"y\":[1.0,3.0,2.0,1.0,3.0,2.0,4.0,3.0,1.0,2.0,3.0,4.0,3.0,4.0,4.0,2.0,1.0,4.0,1.0,2.0,2.0,2.0,4.0,3.0,1.0,1.0,2.0,1.0,2.0,1.0],\"yaxis\":\"y\"},{\"alignmentgroup\":\"True\",\"hovertemplate\":\"Produto=couve-flor<br>Nome do cliente=%{x}<br>Quantidade de vendas=%{y}<extra></extra>\",\"legendgroup\":\"couve-flor\",\"marker\":{\"color\":\"#EF553B\",\"pattern\":{\"shape\":\"\"}},\"name\":\"couve-flor\",\"offsetgroup\":\"couve-flor\",\"orientation\":\"v\",\"showlegend\":true,\"textposition\":\"auto\",\"type\":\"bar\",\"x\":[\"Dr. Jo\\u00e3o Guilherme Rezende\",\"Dr. Jo\\u00e3o Guilherme Rezende\",\"Dr. Jo\\u00e3o Guilherme Rezende\",\"Dr. Jo\\u00e3o Guilherme Rezende\",\"Dr. Jo\\u00e3o Guilherme Rezende\",\"Dr. Jo\\u00e3o Guilherme Rezende\",\"Alice Rodrigues\",\"Alice Rodrigues\",\"Alice Rodrigues\",\"Alice Rodrigues\",\"Leonardo Pires\",\"Leonardo Pires\",\"Leonardo Pires\",\"Leonardo Pires\",\"Leonardo Pires\",\"Leonardo Pires\",\"Leonardo Pires\",\"Leonardo Pires\",\"J\\u00falia Viana\",\"J\\u00falia Viana\",\"J\\u00falia Viana\",\"J\\u00falia Viana\",\"J\\u00falia Viana\",\"J\\u00falia Viana\",\"Pietro Cardoso\",\"Pietro Cardoso\",\"Pietro Cardoso\",\"Davi Lucca Silveira\",\"Dr. Davi Lucca Sales\",\"Dr. Davi Lucca Sales\",\"Dr. Davi Lucca Sales\",\"Dr. Davi Lucca Sales\",\"Dr. Davi Lucca Sales\",\"Diogo Moreira\",\"Diogo Moreira\",\"Diogo Moreira\",\"Sr. Isaac Nascimento\",\"Sr. Isaac Nascimento\"],\"xaxis\":\"x\",\"y\":[2.0,4.0,4.0,3.0,2.0,2.0,4.0,2.0,4.0,1.0,1.0,3.0,4.0,4.0,1.0,2.0,4.0,2.0,2.0,2.0,2.0,3.0,1.0,2.0,3.0,2.0,4.0,4.0,2.0,1.0,1.0,1.0,3.0,3.0,1.0,1.0,2.0,3.0],\"yaxis\":\"y\"}],                        {\"barmode\":\"stack\",\"height\":700,\"legend\":{\"title\":{\"text\":\"Produto\"},\"tracegroupgap\":0},\"margin\":{\"t\":60},\"template\":{\"data\":{\"bar\":[{\"error_x\":{\"color\":\"#2a3f5f\"},\"error_y\":{\"color\":\"#2a3f5f\"},\"marker\":{\"line\":{\"color\":\"#E5ECF6\",\"width\":0.5},\"pattern\":{\"fillmode\":\"overlay\",\"size\":10,\"solidity\":0.2}},\"type\":\"bar\"}],\"barpolar\":[{\"marker\":{\"line\":{\"color\":\"#E5ECF6\",\"width\":0.5},\"pattern\":{\"fillmode\":\"overlay\",\"size\":10,\"solidity\":0.2}},\"type\":\"barpolar\"}],\"carpet\":[{\"aaxis\":{\"endlinecolor\":\"#2a3f5f\",\"gridcolor\":\"white\",\"linecolor\":\"white\",\"minorgridcolor\":\"white\",\"startlinecolor\":\"#2a3f5f\"},\"baxis\":{\"endlinecolor\":\"#2a3f5f\",\"gridcolor\":\"white\",\"linecolor\":\"white\",\"minorgridcolor\":\"white\",\"startlinecolor\":\"#2a3f5f\"},\"type\":\"carpet\"}],\"choropleth\":[{\"colorbar\":{\"outlinewidth\":0,\"ticks\":\"\"},\"type\":\"choropleth\"}],\"contour\":[{\"colorbar\":{\"outlinewidth\":0,\"ticks\":\"\"},\"colorscale\":[[0.0,\"#0d0887\"],[0.1111111111111111,\"#46039f\"],[0.2222222222222222,\"#7201a8\"],[0.3333333333333333,\"#9c179e\"],[0.4444444444444444,\"#bd3786\"],[0.5555555555555556,\"#d8576b\"],[0.6666666666666666,\"#ed7953\"],[0.7777777777777778,\"#fb9f3a\"],[0.8888888888888888,\"#fdca26\"],[1.0,\"#f0f921\"]],\"type\":\"contour\"}],\"contourcarpet\":[{\"colorbar\":{\"outlinewidth\":0,\"ticks\":\"\"},\"type\":\"contourcarpet\"}],\"heatmap\":[{\"colorbar\":{\"outlinewidth\":0,\"ticks\":\"\"},\"colorscale\":[[0.0,\"#0d0887\"],[0.1111111111111111,\"#46039f\"],[0.2222222222222222,\"#7201a8\"],[0.3333333333333333,\"#9c179e\"],[0.4444444444444444,\"#bd3786\"],[0.5555555555555556,\"#d8576b\"],[0.6666666666666666,\"#ed7953\"],[0.7777777777777778,\"#fb9f3a\"],[0.8888888888888888,\"#fdca26\"],[1.0,\"#f0f921\"]],\"type\":\"heatmap\"}],\"heatmapgl\":[{\"colorbar\":{\"outlinewidth\":0,\"ticks\":\"\"},\"colorscale\":[[0.0,\"#0d0887\"],[0.1111111111111111,\"#46039f\"],[0.2222222222222222,\"#7201a8\"],[0.3333333333333333,\"#9c179e\"],[0.4444444444444444,\"#bd3786\"],[0.5555555555555556,\"#d8576b\"],[0.6666666666666666,\"#ed7953\"],[0.7777777777777778,\"#fb9f3a\"],[0.8888888888888888,\"#fdca26\"],[1.0,\"#f0f921\"]],\"type\":\"heatmapgl\"}],\"histogram\":[{\"marker\":{\"pattern\":{\"fillmode\":\"overlay\",\"size\":10,\"solidity\":0.2}},\"type\":\"histogram\"}],\"histogram2d\":[{\"colorbar\":{\"outlinewidth\":0,\"ticks\":\"\"},\"colorscale\":[[0.0,\"#0d0887\"],[0.1111111111111111,\"#46039f\"],[0.2222222222222222,\"#7201a8\"],[0.3333333333333333,\"#9c179e\"],[0.4444444444444444,\"#bd3786\"],[0.5555555555555556,\"#d8576b\"],[0.6666666666666666,\"#ed7953\"],[0.7777777777777778,\"#fb9f3a\"],[0.8888888888888888,\"#fdca26\"],[1.0,\"#f0f921\"]],\"type\":\"histogram2d\"}],\"histogram2dcontour\":[{\"colorbar\":{\"outlinewidth\":0,\"ticks\":\"\"},\"colorscale\":[[0.0,\"#0d0887\"],[0.1111111111111111,\"#46039f\"],[0.2222222222222222,\"#7201a8\"],[0.3333333333333333,\"#9c179e\"],[0.4444444444444444,\"#bd3786\"],[0.5555555555555556,\"#d8576b\"],[0.6666666666666666,\"#ed7953\"],[0.7777777777777778,\"#fb9f3a\"],[0.8888888888888888,\"#fdca26\"],[1.0,\"#f0f921\"]],\"type\":\"histogram2dcontour\"}],\"mesh3d\":[{\"colorbar\":{\"outlinewidth\":0,\"ticks\":\"\"},\"type\":\"mesh3d\"}],\"parcoords\":[{\"line\":{\"colorbar\":{\"outlinewidth\":0,\"ticks\":\"\"}},\"type\":\"parcoords\"}],\"pie\":[{\"automargin\":true,\"type\":\"pie\"}],\"scatter\":[{\"marker\":{\"colorbar\":{\"outlinewidth\":0,\"ticks\":\"\"}},\"type\":\"scatter\"}],\"scatter3d\":[{\"line\":{\"colorbar\":{\"outlinewidth\":0,\"ticks\":\"\"}},\"marker\":{\"colorbar\":{\"outlinewidth\":0,\"ticks\":\"\"}},\"type\":\"scatter3d\"}],\"scattercarpet\":[{\"marker\":{\"colorbar\":{\"outlinewidth\":0,\"ticks\":\"\"}},\"type\":\"scattercarpet\"}],\"scattergeo\":[{\"marker\":{\"colorbar\":{\"outlinewidth\":0,\"ticks\":\"\"}},\"type\":\"scattergeo\"}],\"scattergl\":[{\"marker\":{\"colorbar\":{\"outlinewidth\":0,\"ticks\":\"\"}},\"type\":\"scattergl\"}],\"scattermapbox\":[{\"marker\":{\"colorbar\":{\"outlinewidth\":0,\"ticks\":\"\"}},\"type\":\"scattermapbox\"}],\"scatterpolar\":[{\"marker\":{\"colorbar\":{\"outlinewidth\":0,\"ticks\":\"\"}},\"type\":\"scatterpolar\"}],\"scatterpolargl\":[{\"marker\":{\"colorbar\":{\"outlinewidth\":0,\"ticks\":\"\"}},\"type\":\"scatterpolargl\"}],\"scatterternary\":[{\"marker\":{\"colorbar\":{\"outlinewidth\":0,\"ticks\":\"\"}},\"type\":\"scatterternary\"}],\"surface\":[{\"colorbar\":{\"outlinewidth\":0,\"ticks\":\"\"},\"colorscale\":[[0.0,\"#0d0887\"],[0.1111111111111111,\"#46039f\"],[0.2222222222222222,\"#7201a8\"],[0.3333333333333333,\"#9c179e\"],[0.4444444444444444,\"#bd3786\"],[0.5555555555555556,\"#d8576b\"],[0.6666666666666666,\"#ed7953\"],[0.7777777777777778,\"#fb9f3a\"],[0.8888888888888888,\"#fdca26\"],[1.0,\"#f0f921\"]],\"type\":\"surface\"}],\"table\":[{\"cells\":{\"fill\":{\"color\":\"#EBF0F8\"},\"line\":{\"color\":\"white\"}},\"header\":{\"fill\":{\"color\":\"#C8D4E3\"},\"line\":{\"color\":\"white\"}},\"type\":\"table\"}]},\"layout\":{\"annotationdefaults\":{\"arrowcolor\":\"#2a3f5f\",\"arrowhead\":0,\"arrowwidth\":1},\"autotypenumbers\":\"strict\",\"coloraxis\":{\"colorbar\":{\"outlinewidth\":0,\"ticks\":\"\"}},\"colorscale\":{\"diverging\":[[0,\"#8e0152\"],[0.1,\"#c51b7d\"],[0.2,\"#de77ae\"],[0.3,\"#f1b6da\"],[0.4,\"#fde0ef\"],[0.5,\"#f7f7f7\"],[0.6,\"#e6f5d0\"],[0.7,\"#b8e186\"],[0.8,\"#7fbc41\"],[0.9,\"#4d9221\"],[1,\"#276419\"]],\"sequential\":[[0.0,\"#0d0887\"],[0.1111111111111111,\"#46039f\"],[0.2222222222222222,\"#7201a8\"],[0.3333333333333333,\"#9c179e\"],[0.4444444444444444,\"#bd3786\"],[0.5555555555555556,\"#d8576b\"],[0.6666666666666666,\"#ed7953\"],[0.7777777777777778,\"#fb9f3a\"],[0.8888888888888888,\"#fdca26\"],[1.0,\"#f0f921\"]],\"sequentialminus\":[[0.0,\"#0d0887\"],[0.1111111111111111,\"#46039f\"],[0.2222222222222222,\"#7201a8\"],[0.3333333333333333,\"#9c179e\"],[0.4444444444444444,\"#bd3786\"],[0.5555555555555556,\"#d8576b\"],[0.6666666666666666,\"#ed7953\"],[0.7777777777777778,\"#fb9f3a\"],[0.8888888888888888,\"#fdca26\"],[1.0,\"#f0f921\"]]},\"colorway\":[\"#636efa\",\"#EF553B\",\"#00cc96\",\"#ab63fa\",\"#FFA15A\",\"#19d3f3\",\"#FF6692\",\"#B6E880\",\"#FF97FF\",\"#FECB52\"],\"font\":{\"color\":\"#2a3f5f\"},\"geo\":{\"bgcolor\":\"white\",\"lakecolor\":\"white\",\"landcolor\":\"#E5ECF6\",\"showlakes\":true,\"showland\":true,\"subunitcolor\":\"white\"},\"hoverlabel\":{\"align\":\"left\"},\"hovermode\":\"closest\",\"mapbox\":{\"style\":\"light\"},\"paper_bgcolor\":\"white\",\"plot_bgcolor\":\"#E5ECF6\",\"polar\":{\"angularaxis\":{\"gridcolor\":\"white\",\"linecolor\":\"white\",\"ticks\":\"\"},\"bgcolor\":\"#E5ECF6\",\"radialaxis\":{\"gridcolor\":\"white\",\"linecolor\":\"white\",\"ticks\":\"\"}},\"scene\":{\"xaxis\":{\"backgroundcolor\":\"#E5ECF6\",\"gridcolor\":\"white\",\"gridwidth\":2,\"linecolor\":\"white\",\"showbackground\":true,\"ticks\":\"\",\"zerolinecolor\":\"white\"},\"yaxis\":{\"backgroundcolor\":\"#E5ECF6\",\"gridcolor\":\"white\",\"gridwidth\":2,\"linecolor\":\"white\",\"showbackground\":true,\"ticks\":\"\",\"zerolinecolor\":\"white\"},\"zaxis\":{\"backgroundcolor\":\"#E5ECF6\",\"gridcolor\":\"white\",\"gridwidth\":2,\"linecolor\":\"white\",\"showbackground\":true,\"ticks\":\"\",\"zerolinecolor\":\"white\"}},\"shapedefaults\":{\"line\":{\"color\":\"#2a3f5f\"}},\"ternary\":{\"aaxis\":{\"gridcolor\":\"white\",\"linecolor\":\"white\",\"ticks\":\"\"},\"baxis\":{\"gridcolor\":\"white\",\"linecolor\":\"white\",\"ticks\":\"\"},\"bgcolor\":\"#E5ECF6\",\"caxis\":{\"gridcolor\":\"white\",\"linecolor\":\"white\",\"ticks\":\"\"}},\"title\":{\"x\":0.05},\"xaxis\":{\"automargin\":true,\"gridcolor\":\"white\",\"linecolor\":\"white\",\"ticks\":\"\",\"title\":{\"standoff\":15},\"zerolinecolor\":\"white\",\"zerolinewidth\":2},\"yaxis\":{\"automargin\":true,\"gridcolor\":\"white\",\"linecolor\":\"white\",\"ticks\":\"\",\"title\":{\"standoff\":15},\"zerolinecolor\":\"white\",\"zerolinewidth\":2}}},\"width\":700,\"xaxis\":{\"anchor\":\"y\",\"domain\":[0.0,1.0],\"title\":{\"text\":\"Nome do cliente\"}},\"yaxis\":{\"anchor\":\"x\",\"domain\":[0.0,1.0],\"title\":{\"text\":\"Quantidade de vendas\"}}},                        {\"responsive\": true}                    ).then(function(){\n",
       "                            \n",
       "var gd = document.getElementById('627f8070-d0f6-4d4d-8da1-3edffabd73ae');\n",
       "var x = new MutationObserver(function (mutations, observer) {{\n",
       "        var display = window.getComputedStyle(gd).display;\n",
       "        if (!display || display === 'none') {{\n",
       "            console.log([gd, 'removed!']);\n",
       "            Plotly.purge(gd);\n",
       "            observer.disconnect();\n",
       "        }}\n",
       "}});\n",
       "\n",
       "// Listen for the removal of the full notebook cells\n",
       "var notebookContainer = gd.closest('#notebook-container');\n",
       "if (notebookContainer) {{\n",
       "    x.observe(notebookContainer, {childList: true});\n",
       "}}\n",
       "\n",
       "// Listen for the clearing of the current output cell\n",
       "var outputEl = gd.closest('.output');\n",
       "if (outputEl) {{\n",
       "    x.observe(outputEl, {childList: true});\n",
       "}}\n",
       "\n",
       "                        })                };                });            </script>        </div>"
      ]
     },
     "metadata": {},
     "output_type": "display_data"
    }
   ],
   "source": [
    "#plotagem de um gráfica de barras\n",
    "fig = px.bar(venda_produtos_cliente_qt, x=\"nome_cliente\", y=\"quantidade\", color=\"nome\", barmode = 'stack',\n",
    "             labels={\"quantidade\": \"Quantidade de vendas\", \"nome_cliente\": \"Nome do cliente\", \"nome\":\"Produto\" }, height=700, width=700)\n",
    " \n",
    "fig.show()"
   ]
  },
  {
   "cell_type": "code",
   "execution_count": 330,
   "id": "5f956e26",
   "metadata": {},
   "outputs": [],
   "source": [
    "#venda_produtos_total = venda_produtos[[\"id_cliente\", \"quantidade\", \"preco\"]]"
   ]
  },
  {
   "cell_type": "code",
   "execution_count": 331,
   "id": "95666ddd",
   "metadata": {},
   "outputs": [
    {
     "name": "stdout",
     "output_type": "stream",
     "text": [
      "   id_cliente  total_preco\n",
      "0         146       841.48\n",
      "1         107       801.86\n",
      "2         104       753.62\n",
      "3         154       732.49\n",
      "4         119       659.21\n",
      "5         100       640.48\n",
      "6         106       620.20\n",
      "7         144       590.94\n",
      "8         166       533.49\n",
      "9          31       388.82\n"
     ]
    }
   ],
   "source": [
    "venda_produtos_cliente_qt[\"total_preco\"]=venda_produtos_cliente_qt[\"quantidade\"]*venda_produtos_cliente_qt[\"preco\"]\n",
    "quantidade_comprada_preco = venda_produtos_cliente_qt[[\"id_cliente\", \"total_preco\"]].groupby(['id_cliente']).sum().sort_values('total_preco', ascending=False).reset_index().head(10)\n",
    "print(quantidade_comprada_preco)"
   ]
  },
  {
   "cell_type": "code",
   "execution_count": 332,
   "id": "8b8a7e58",
   "metadata": {},
   "outputs": [
    {
     "data": {
      "application/vnd.plotly.v1+json": {
       "config": {
        "plotlyServerURL": "https://plot.ly"
       },
       "data": [
        {
         "alignmentgroup": "True",
         "hovertemplate": "Produto=morango<br>Nome do cliente=%{x}<br>total_preco=%{y}<extra></extra>",
         "legendgroup": "morango",
         "marker": {
          "color": "#636efa",
          "pattern": {
           "shape": ""
          }
         },
         "name": "morango",
         "offsetgroup": "morango",
         "orientation": "v",
         "showlegend": true,
         "textposition": "auto",
         "type": "bar",
         "x": [
          "Caroline Teixeira",
          "Caroline Teixeira",
          "Caroline Teixeira",
          "Caroline Teixeira",
          "Caroline Teixeira",
          "Dr. João Guilherme Rezende",
          "Dr. João Guilherme Rezende",
          "Dr. João Guilherme Rezende",
          "Alice Rodrigues",
          "Leonardo Pires",
          "Leonardo Pires",
          "Leonardo Pires",
          "Júlia Viana",
          "Júlia Viana",
          "Júlia Viana",
          "Júlia Viana",
          "Pietro Cardoso",
          "Pietro Cardoso",
          "Pietro Cardoso",
          "Davi Lucca Silveira",
          "Davi Lucca Silveira",
          "Dr. Davi Lucca Sales",
          "Dr. Davi Lucca Sales",
          "Diogo Moreira",
          "Sr. Isaac Nascimento",
          "Sr. Isaac Nascimento",
          "Sr. Isaac Nascimento",
          "Sr. Isaac Nascimento"
         ],
         "xaxis": "x",
         "y": [
          23.97,
          23.97,
          7.99,
          7.99,
          15.98,
          31.96,
          23.97,
          31.96,
          7.99,
          31.96,
          15.98,
          23.97,
          15.98,
          23.97,
          31.96,
          7.99,
          15.98,
          15.98,
          23.97,
          23.97,
          31.96,
          31.96,
          7.99,
          31.96,
          7.99,
          31.96,
          15.98,
          23.97
         ],
         "yaxis": "y"
        },
        {
         "alignmentgroup": "True",
         "hovertemplate": "Produto=batata<br>Nome do cliente=%{x}<br>total_preco=%{y}<extra></extra>",
         "legendgroup": "batata",
         "marker": {
          "color": "#EF553B",
          "pattern": {
           "shape": ""
          }
         },
         "name": "batata",
         "offsetgroup": "batata",
         "orientation": "v",
         "showlegend": true,
         "textposition": "auto",
         "type": "bar",
         "x": [
          "Caroline Teixeira",
          "Caroline Teixeira",
          "Caroline Teixeira",
          "Caroline Teixeira",
          "Caroline Teixeira",
          "Caroline Teixeira",
          "Caroline Teixeira",
          "Dr. João Guilherme Rezende",
          "Dr. João Guilherme Rezende",
          "Dr. João Guilherme Rezende",
          "Dr. João Guilherme Rezende",
          "Dr. João Guilherme Rezende",
          "Alice Rodrigues",
          "Alice Rodrigues",
          "Alice Rodrigues",
          "Alice Rodrigues",
          "Alice Rodrigues",
          "Alice Rodrigues",
          "Leonardo Pires",
          "Leonardo Pires",
          "Leonardo Pires",
          "Leonardo Pires",
          "Leonardo Pires",
          "Júlia Viana",
          "Pietro Cardoso",
          "Pietro Cardoso",
          "Davi Lucca Silveira",
          "Davi Lucca Silveira",
          "Davi Lucca Silveira",
          "Davi Lucca Silveira",
          "Davi Lucca Silveira",
          "Davi Lucca Silveira",
          "Diogo Moreira",
          "Diogo Moreira",
          "Diogo Moreira",
          "Diogo Moreira",
          "Sr. Isaac Nascimento",
          "Sr. Isaac Nascimento"
         ],
         "xaxis": "x",
         "y": [
          15.96,
          7.98,
          7.98,
          7.98,
          15.96,
          7.98,
          7.98,
          3.99,
          11.97,
          7.98,
          15.96,
          11.97,
          7.98,
          7.98,
          15.96,
          15.96,
          7.98,
          11.97,
          3.99,
          3.99,
          11.97,
          3.99,
          11.97,
          11.97,
          15.96,
          15.96,
          3.99,
          3.99,
          11.97,
          11.97,
          11.97,
          15.96,
          3.99,
          11.97,
          15.96,
          11.97,
          3.99,
          7.98
         ],
         "yaxis": "y"
        },
        {
         "alignmentgroup": "True",
         "hovertemplate": "Produto=berinjela<br>Nome do cliente=%{x}<br>total_preco=%{y}<extra></extra>",
         "legendgroup": "berinjela",
         "marker": {
          "color": "#00cc96",
          "pattern": {
           "shape": ""
          }
         },
         "name": "berinjela",
         "offsetgroup": "berinjela",
         "orientation": "v",
         "showlegend": true,
         "textposition": "auto",
         "type": "bar",
         "x": [
          "Caroline Teixeira",
          "Caroline Teixeira",
          "Dr. João Guilherme Rezende",
          "Alice Rodrigues",
          "Alice Rodrigues",
          "Alice Rodrigues",
          "Alice Rodrigues",
          "Alice Rodrigues",
          "Leonardo Pires",
          "Júlia Viana",
          "Júlia Viana",
          "Pietro Cardoso",
          "Pietro Cardoso",
          "Pietro Cardoso",
          "Pietro Cardoso",
          "Davi Lucca Silveira",
          "Davi Lucca Silveira",
          "Davi Lucca Silveira",
          "Davi Lucca Silveira",
          "Davi Lucca Silveira",
          "Davi Lucca Silveira",
          "Davi Lucca Silveira",
          "Dr. Davi Lucca Sales",
          "Dr. Davi Lucca Sales",
          "Diogo Moreira",
          "Diogo Moreira",
          "Sr. Isaac Nascimento",
          "Sr. Isaac Nascimento",
          "Sr. Isaac Nascimento",
          "Sr. Isaac Nascimento"
         ],
         "xaxis": "x",
         "y": [
          35.97,
          47.96,
          23.98,
          23.98,
          11.99,
          11.99,
          47.96,
          35.97,
          35.97,
          35.97,
          35.97,
          47.96,
          47.96,
          23.98,
          11.99,
          11.99,
          23.98,
          47.96,
          23.98,
          23.98,
          35.97,
          23.98,
          23.98,
          47.96,
          47.96,
          11.99,
          47.96,
          11.99,
          11.99,
          35.97
         ],
         "yaxis": "y"
        },
        {
         "alignmentgroup": "True",
         "hovertemplate": "Produto=alface<br>Nome do cliente=%{x}<br>total_preco=%{y}<extra></extra>",
         "legendgroup": "alface",
         "marker": {
          "color": "#ab63fa",
          "pattern": {
           "shape": ""
          }
         },
         "name": "alface",
         "offsetgroup": "alface",
         "orientation": "v",
         "showlegend": true,
         "textposition": "auto",
         "type": "bar",
         "x": [
          "Caroline Teixeira",
          "Caroline Teixeira",
          "Caroline Teixeira",
          "Dr. João Guilherme Rezende",
          "Dr. João Guilherme Rezende",
          "Alice Rodrigues",
          "Alice Rodrigues",
          "Alice Rodrigues",
          "Alice Rodrigues",
          "Leonardo Pires",
          "Leonardo Pires",
          "Júlia Viana",
          "Júlia Viana",
          "Davi Lucca Silveira",
          "Davi Lucca Silveira",
          "Davi Lucca Silveira",
          "Davi Lucca Silveira",
          "Davi Lucca Silveira",
          "Dr. Davi Lucca Sales",
          "Dr. Davi Lucca Sales",
          "Dr. Davi Lucca Sales",
          "Dr. Davi Lucca Sales",
          "Dr. Davi Lucca Sales",
          "Diogo Moreira",
          "Sr. Isaac Nascimento",
          "Sr. Isaac Nascimento"
         ],
         "xaxis": "x",
         "y": [
          1.96,
          2.94,
          3.92,
          1.96,
          3.92,
          0.98,
          1.96,
          3.92,
          2.94,
          0.98,
          0.98,
          3.92,
          2.94,
          2.94,
          0.98,
          0.98,
          0.98,
          0.98,
          3.92,
          2.94,
          2.94,
          3.92,
          3.92,
          3.92,
          3.92,
          2.94
         ],
         "yaxis": "y"
        },
        {
         "alignmentgroup": "True",
         "hovertemplate": "Produto=arroz<br>Nome do cliente=%{x}<br>total_preco=%{y}<extra></extra>",
         "legendgroup": "arroz",
         "marker": {
          "color": "#FFA15A",
          "pattern": {
           "shape": ""
          }
         },
         "name": "arroz",
         "offsetgroup": "arroz",
         "orientation": "v",
         "showlegend": true,
         "textposition": "auto",
         "type": "bar",
         "x": [
          "Caroline Teixeira",
          "Caroline Teixeira",
          "Caroline Teixeira",
          "Caroline Teixeira",
          "Caroline Teixeira",
          "Dr. João Guilherme Rezende",
          "Dr. João Guilherme Rezende",
          "Dr. João Guilherme Rezende",
          "Dr. João Guilherme Rezende",
          "Dr. João Guilherme Rezende",
          "Dr. João Guilherme Rezende",
          "Alice Rodrigues",
          "Alice Rodrigues",
          "Alice Rodrigues",
          "Leonardo Pires",
          "Leonardo Pires",
          "Júlia Viana",
          "Pietro Cardoso",
          "Pietro Cardoso",
          "Pietro Cardoso",
          "Pietro Cardoso",
          "Pietro Cardoso",
          "Pietro Cardoso",
          "Davi Lucca Silveira",
          "Davi Lucca Silveira",
          "Davi Lucca Silveira",
          "Dr. Davi Lucca Sales",
          "Diogo Moreira",
          "Diogo Moreira",
          "Diogo Moreira",
          "Diogo Moreira",
          "Sr. Isaac Nascimento",
          "Sr. Isaac Nascimento",
          "Sr. Isaac Nascimento",
          "Sr. Isaac Nascimento"
         ],
         "xaxis": "x",
         "y": [
          60.92999999999999,
          60.92999999999999,
          20.31,
          20.31,
          60.92999999999999,
          60.92999999999999,
          40.62,
          40.62,
          20.31,
          60.92999999999999,
          20.31,
          40.62,
          40.62,
          60.92999999999999,
          60.92999999999999,
          40.62,
          40.62,
          20.31,
          81.24,
          81.24,
          20.31,
          20.31,
          60.92999999999999,
          60.92999999999999,
          81.24,
          81.24,
          20.31,
          81.24,
          60.92999999999999,
          81.24,
          40.62,
          20.31,
          81.24,
          40.62,
          20.31
         ],
         "yaxis": "y"
        },
        {
         "alignmentgroup": "True",
         "hovertemplate": "Produto=macarrão<br>Nome do cliente=%{x}<br>total_preco=%{y}<extra></extra>",
         "legendgroup": "macarrão",
         "marker": {
          "color": "#19d3f3",
          "pattern": {
           "shape": ""
          }
         },
         "name": "macarrão",
         "offsetgroup": "macarrão",
         "orientation": "v",
         "showlegend": true,
         "textposition": "auto",
         "type": "bar",
         "x": [
          "Caroline Teixeira",
          "Caroline Teixeira",
          "Caroline Teixeira",
          "Caroline Teixeira",
          "Dr. João Guilherme Rezende",
          "Dr. João Guilherme Rezende",
          "Dr. João Guilherme Rezende",
          "Alice Rodrigues",
          "Alice Rodrigues",
          "Alice Rodrigues",
          "Alice Rodrigues",
          "Leonardo Pires",
          "Leonardo Pires",
          "Leonardo Pires",
          "Júlia Viana",
          "Júlia Viana",
          "Júlia Viana",
          "Pietro Cardoso",
          "Pietro Cardoso",
          "Pietro Cardoso",
          "Pietro Cardoso",
          "Pietro Cardoso",
          "Pietro Cardoso",
          "Pietro Cardoso",
          "Davi Lucca Silveira",
          "Dr. Davi Lucca Sales",
          "Dr. Davi Lucca Sales",
          "Dr. Davi Lucca Sales",
          "Dr. Davi Lucca Sales",
          "Dr. Davi Lucca Sales",
          "Diogo Moreira",
          "Diogo Moreira",
          "Diogo Moreira",
          "Diogo Moreira",
          "Sr. Isaac Nascimento",
          "Sr. Isaac Nascimento",
          "Sr. Isaac Nascimento"
         ],
         "xaxis": "x",
         "y": [
          7.4399999999999995,
          7.4399999999999995,
          4.96,
          2.48,
          9.92,
          2.48,
          2.48,
          2.48,
          7.4399999999999995,
          7.4399999999999995,
          7.4399999999999995,
          7.4399999999999995,
          7.4399999999999995,
          4.96,
          9.92,
          4.96,
          2.48,
          7.4399999999999995,
          2.48,
          7.4399999999999995,
          2.48,
          2.48,
          9.92,
          4.96,
          7.4399999999999995,
          4.96,
          4.96,
          4.96,
          2.48,
          7.4399999999999995,
          4.96,
          7.4399999999999995,
          7.4399999999999995,
          9.92,
          9.92,
          2.48,
          2.48
         ],
         "yaxis": "y"
        },
        {
         "alignmentgroup": "True",
         "hovertemplate": "Produto=melancia<br>Nome do cliente=%{x}<br>total_preco=%{y}<extra></extra>",
         "legendgroup": "melancia",
         "marker": {
          "color": "#FF6692",
          "pattern": {
           "shape": ""
          }
         },
         "name": "melancia",
         "offsetgroup": "melancia",
         "orientation": "v",
         "showlegend": true,
         "textposition": "auto",
         "type": "bar",
         "x": [
          "Caroline Teixeira",
          "Caroline Teixeira",
          "Dr. João Guilherme Rezende",
          "Dr. João Guilherme Rezende",
          "Dr. João Guilherme Rezende",
          "Dr. João Guilherme Rezende",
          "Alice Rodrigues",
          "Alice Rodrigues",
          "Alice Rodrigues",
          "Alice Rodrigues",
          "Alice Rodrigues",
          "Alice Rodrigues",
          "Leonardo Pires",
          "Júlia Viana",
          "Júlia Viana",
          "Júlia Viana",
          "Pietro Cardoso",
          "Davi Lucca Silveira",
          "Davi Lucca Silveira",
          "Davi Lucca Silveira",
          "Dr. Davi Lucca Sales",
          "Dr. Davi Lucca Sales",
          "Dr. Davi Lucca Sales",
          "Dr. Davi Lucca Sales",
          "Dr. Davi Lucca Sales",
          "Diogo Moreira",
          "Diogo Moreira",
          "Diogo Moreira",
          "Diogo Moreira",
          "Sr. Isaac Nascimento",
          "Sr. Isaac Nascimento",
          "Sr. Isaac Nascimento",
          "Sr. Isaac Nascimento"
         ],
         "xaxis": "x",
         "y": [
          4.47,
          4.47,
          1.49,
          4.47,
          5.96,
          5.96,
          4.47,
          1.49,
          4.47,
          5.96,
          4.47,
          5.96,
          4.47,
          5.96,
          5.96,
          1.49,
          1.49,
          2.98,
          1.49,
          1.49,
          4.47,
          2.98,
          5.96,
          4.47,
          4.47,
          2.98,
          1.49,
          1.49,
          1.49,
          2.98,
          1.49,
          2.98,
          1.49
         ],
         "yaxis": "y"
        },
        {
         "alignmentgroup": "True",
         "hovertemplate": "Produto=banana<br>Nome do cliente=%{x}<br>total_preco=%{y}<extra></extra>",
         "legendgroup": "banana",
         "marker": {
          "color": "#B6E880",
          "pattern": {
           "shape": ""
          }
         },
         "name": "banana",
         "offsetgroup": "banana",
         "orientation": "v",
         "showlegend": true,
         "textposition": "auto",
         "type": "bar",
         "x": [
          "Caroline Teixeira",
          "Caroline Teixeira",
          "Caroline Teixeira",
          "Caroline Teixeira",
          "Caroline Teixeira",
          "Caroline Teixeira",
          "Caroline Teixeira",
          "Caroline Teixeira",
          "Caroline Teixeira",
          "Dr. João Guilherme Rezende",
          "Alice Rodrigues",
          "Leonardo Pires",
          "Júlia Viana",
          "Júlia Viana",
          "Júlia Viana",
          "Júlia Viana",
          "Pietro Cardoso",
          "Pietro Cardoso",
          "Pietro Cardoso",
          "Pietro Cardoso",
          "Pietro Cardoso",
          "Davi Lucca Silveira",
          "Davi Lucca Silveira",
          "Davi Lucca Silveira",
          "Davi Lucca Silveira",
          "Dr. Davi Lucca Sales",
          "Diogo Moreira",
          "Diogo Moreira",
          "Diogo Moreira",
          "Diogo Moreira",
          "Sr. Isaac Nascimento",
          "Sr. Isaac Nascimento",
          "Sr. Isaac Nascimento"
         ],
         "xaxis": "x",
         "y": [
          11.98,
          5.99,
          5.99,
          5.99,
          23.96,
          23.96,
          23.96,
          17.97,
          11.98,
          11.98,
          17.97,
          23.96,
          23.96,
          17.97,
          5.99,
          11.98,
          17.97,
          5.99,
          17.97,
          17.97,
          17.97,
          5.99,
          11.98,
          11.98,
          5.99,
          5.99,
          17.97,
          17.97,
          11.98,
          11.98,
          23.96,
          5.99,
          11.98
         ],
         "yaxis": "y"
        },
        {
         "alignmentgroup": "True",
         "hovertemplate": "Produto=uva<br>Nome do cliente=%{x}<br>total_preco=%{y}<extra></extra>",
         "legendgroup": "uva",
         "marker": {
          "color": "#FF97FF",
          "pattern": {
           "shape": ""
          }
         },
         "name": "uva",
         "offsetgroup": "uva",
         "orientation": "v",
         "showlegend": true,
         "textposition": "auto",
         "type": "bar",
         "x": [
          "Caroline Teixeira",
          "Caroline Teixeira",
          "Caroline Teixeira",
          "Dr. João Guilherme Rezende",
          "Dr. João Guilherme Rezende",
          "Dr. João Guilherme Rezende",
          "Dr. João Guilherme Rezende",
          "Dr. João Guilherme Rezende",
          "Dr. João Guilherme Rezende",
          "Dr. João Guilherme Rezende",
          "Alice Rodrigues",
          "Alice Rodrigues",
          "Alice Rodrigues",
          "Alice Rodrigues",
          "Alice Rodrigues",
          "Leonardo Pires",
          "Leonardo Pires",
          "Leonardo Pires",
          "Leonardo Pires",
          "Júlia Viana",
          "Júlia Viana",
          "Pietro Cardoso",
          "Pietro Cardoso",
          "Pietro Cardoso",
          "Davi Lucca Silveira",
          "Dr. Davi Lucca Sales",
          "Dr. Davi Lucca Sales",
          "Diogo Moreira",
          "Diogo Moreira",
          "Diogo Moreira",
          "Sr. Isaac Nascimento",
          "Sr. Isaac Nascimento",
          "Sr. Isaac Nascimento",
          "Sr. Isaac Nascimento",
          "Sr. Isaac Nascimento",
          "Sr. Isaac Nascimento"
         ],
         "xaxis": "x",
         "y": [
          7.47,
          22.41,
          22.41,
          29.88,
          29.88,
          22.41,
          22.41,
          29.88,
          14.94,
          14.94,
          7.47,
          14.94,
          29.88,
          29.88,
          22.41,
          29.88,
          14.94,
          29.88,
          14.94,
          14.94,
          29.88,
          29.88,
          22.41,
          7.47,
          14.94,
          22.41,
          14.94,
          29.88,
          14.94,
          29.88,
          14.94,
          29.88,
          7.47,
          29.88,
          14.94,
          7.47
         ],
         "yaxis": "y"
        },
        {
         "alignmentgroup": "True",
         "hovertemplate": "Produto=abobrinha<br>Nome do cliente=%{x}<br>total_preco=%{y}<extra></extra>",
         "legendgroup": "abobrinha",
         "marker": {
          "color": "#FECB52",
          "pattern": {
           "shape": ""
          }
         },
         "name": "abobrinha",
         "offsetgroup": "abobrinha",
         "orientation": "v",
         "showlegend": true,
         "textposition": "auto",
         "type": "bar",
         "x": [
          "Caroline Teixeira",
          "Caroline Teixeira",
          "Caroline Teixeira",
          "Caroline Teixeira",
          "Caroline Teixeira",
          "Caroline Teixeira",
          "Caroline Teixeira",
          "Dr. João Guilherme Rezende",
          "Dr. João Guilherme Rezende",
          "Alice Rodrigues",
          "Alice Rodrigues",
          "Leonardo Pires",
          "Leonardo Pires",
          "Leonardo Pires",
          "Júlia Viana",
          "Júlia Viana",
          "Júlia Viana",
          "Pietro Cardoso",
          "Davi Lucca Silveira",
          "Dr. Davi Lucca Sales",
          "Dr. Davi Lucca Sales",
          "Dr. Davi Lucca Sales",
          "Dr. Davi Lucca Sales",
          "Diogo Moreira",
          "Diogo Moreira",
          "Diogo Moreira",
          "Sr. Isaac Nascimento",
          "Sr. Isaac Nascimento",
          "Sr. Isaac Nascimento",
          "Sr. Isaac Nascimento"
         ],
         "xaxis": "x",
         "y": [
          14,
          10.5,
          7,
          3.5,
          7,
          10.5,
          7,
          10.5,
          14,
          7,
          14,
          7,
          14,
          10.5,
          10.5,
          7,
          10.5,
          7,
          7,
          14,
          14,
          14,
          3.5,
          7,
          3.5,
          3.5,
          7,
          7,
          10.5,
          3.5
         ],
         "yaxis": "y"
        },
        {
         "alignmentgroup": "True",
         "hovertemplate": "Produto=feijão<br>Nome do cliente=%{x}<br>total_preco=%{y}<extra></extra>",
         "legendgroup": "feijão",
         "marker": {
          "color": "#636efa",
          "pattern": {
           "shape": ""
          }
         },
         "name": "feijão",
         "offsetgroup": "feijão",
         "orientation": "v",
         "showlegend": true,
         "textposition": "auto",
         "type": "bar",
         "x": [
          "Caroline Teixeira",
          "Caroline Teixeira",
          "Caroline Teixeira",
          "Caroline Teixeira",
          "Dr. João Guilherme Rezende",
          "Dr. João Guilherme Rezende",
          "Dr. João Guilherme Rezende",
          "Dr. João Guilherme Rezende",
          "Alice Rodrigues",
          "Alice Rodrigues",
          "Leonardo Pires",
          "Leonardo Pires",
          "Júlia Viana",
          "Júlia Viana",
          "Júlia Viana",
          "Pietro Cardoso",
          "Davi Lucca Silveira",
          "Davi Lucca Silveira",
          "Davi Lucca Silveira",
          "Davi Lucca Silveira",
          "Davi Lucca Silveira",
          "Davi Lucca Silveira",
          "Dr. Davi Lucca Sales",
          "Dr. Davi Lucca Sales",
          "Diogo Moreira",
          "Diogo Moreira",
          "Diogo Moreira",
          "Diogo Moreira",
          "Sr. Isaac Nascimento",
          "Sr. Isaac Nascimento"
         ],
         "xaxis": "x",
         "y": [
          8.45,
          25.349999999999998,
          16.9,
          8.45,
          25.349999999999998,
          16.9,
          33.8,
          25.349999999999998,
          8.45,
          16.9,
          25.349999999999998,
          33.8,
          25.349999999999998,
          33.8,
          33.8,
          16.9,
          8.45,
          33.8,
          8.45,
          16.9,
          16.9,
          16.9,
          33.8,
          25.349999999999998,
          8.45,
          8.45,
          16.9,
          8.45,
          16.9,
          8.45
         ],
         "yaxis": "y"
        },
        {
         "alignmentgroup": "True",
         "hovertemplate": "Produto=couve-flor<br>Nome do cliente=%{x}<br>total_preco=%{y}<extra></extra>",
         "legendgroup": "couve-flor",
         "marker": {
          "color": "#EF553B",
          "pattern": {
           "shape": ""
          }
         },
         "name": "couve-flor",
         "offsetgroup": "couve-flor",
         "orientation": "v",
         "showlegend": true,
         "textposition": "auto",
         "type": "bar",
         "x": [
          "Dr. João Guilherme Rezende",
          "Dr. João Guilherme Rezende",
          "Dr. João Guilherme Rezende",
          "Dr. João Guilherme Rezende",
          "Dr. João Guilherme Rezende",
          "Dr. João Guilherme Rezende",
          "Alice Rodrigues",
          "Alice Rodrigues",
          "Alice Rodrigues",
          "Alice Rodrigues",
          "Leonardo Pires",
          "Leonardo Pires",
          "Leonardo Pires",
          "Leonardo Pires",
          "Leonardo Pires",
          "Leonardo Pires",
          "Leonardo Pires",
          "Leonardo Pires",
          "Júlia Viana",
          "Júlia Viana",
          "Júlia Viana",
          "Júlia Viana",
          "Júlia Viana",
          "Júlia Viana",
          "Pietro Cardoso",
          "Pietro Cardoso",
          "Pietro Cardoso",
          "Davi Lucca Silveira",
          "Dr. Davi Lucca Sales",
          "Dr. Davi Lucca Sales",
          "Dr. Davi Lucca Sales",
          "Dr. Davi Lucca Sales",
          "Dr. Davi Lucca Sales",
          "Diogo Moreira",
          "Diogo Moreira",
          "Diogo Moreira",
          "Sr. Isaac Nascimento",
          "Sr. Isaac Nascimento"
         ],
         "xaxis": "x",
         "y": [
          10.96,
          21.92,
          21.92,
          16.44,
          10.96,
          10.96,
          21.92,
          10.96,
          21.92,
          5.48,
          5.48,
          16.44,
          21.92,
          21.92,
          5.48,
          10.96,
          21.92,
          10.96,
          10.96,
          10.96,
          10.96,
          16.44,
          5.48,
          10.96,
          16.44,
          10.96,
          21.92,
          21.92,
          10.96,
          5.48,
          5.48,
          5.48,
          16.44,
          16.44,
          5.48,
          5.48,
          10.96,
          16.44
         ],
         "yaxis": "y"
        }
       ],
       "layout": {
        "barmode": "stack",
        "height": 700,
        "legend": {
         "title": {
          "text": "Produto"
         },
         "tracegroupgap": 0
        },
        "margin": {
         "t": 60
        },
        "template": {
         "data": {
          "bar": [
           {
            "error_x": {
             "color": "#2a3f5f"
            },
            "error_y": {
             "color": "#2a3f5f"
            },
            "marker": {
             "line": {
              "color": "#E5ECF6",
              "width": 0.5
             },
             "pattern": {
              "fillmode": "overlay",
              "size": 10,
              "solidity": 0.2
             }
            },
            "type": "bar"
           }
          ],
          "barpolar": [
           {
            "marker": {
             "line": {
              "color": "#E5ECF6",
              "width": 0.5
             },
             "pattern": {
              "fillmode": "overlay",
              "size": 10,
              "solidity": 0.2
             }
            },
            "type": "barpolar"
           }
          ],
          "carpet": [
           {
            "aaxis": {
             "endlinecolor": "#2a3f5f",
             "gridcolor": "white",
             "linecolor": "white",
             "minorgridcolor": "white",
             "startlinecolor": "#2a3f5f"
            },
            "baxis": {
             "endlinecolor": "#2a3f5f",
             "gridcolor": "white",
             "linecolor": "white",
             "minorgridcolor": "white",
             "startlinecolor": "#2a3f5f"
            },
            "type": "carpet"
           }
          ],
          "choropleth": [
           {
            "colorbar": {
             "outlinewidth": 0,
             "ticks": ""
            },
            "type": "choropleth"
           }
          ],
          "contour": [
           {
            "colorbar": {
             "outlinewidth": 0,
             "ticks": ""
            },
            "colorscale": [
             [
              0,
              "#0d0887"
             ],
             [
              0.1111111111111111,
              "#46039f"
             ],
             [
              0.2222222222222222,
              "#7201a8"
             ],
             [
              0.3333333333333333,
              "#9c179e"
             ],
             [
              0.4444444444444444,
              "#bd3786"
             ],
             [
              0.5555555555555556,
              "#d8576b"
             ],
             [
              0.6666666666666666,
              "#ed7953"
             ],
             [
              0.7777777777777778,
              "#fb9f3a"
             ],
             [
              0.8888888888888888,
              "#fdca26"
             ],
             [
              1,
              "#f0f921"
             ]
            ],
            "type": "contour"
           }
          ],
          "contourcarpet": [
           {
            "colorbar": {
             "outlinewidth": 0,
             "ticks": ""
            },
            "type": "contourcarpet"
           }
          ],
          "heatmap": [
           {
            "colorbar": {
             "outlinewidth": 0,
             "ticks": ""
            },
            "colorscale": [
             [
              0,
              "#0d0887"
             ],
             [
              0.1111111111111111,
              "#46039f"
             ],
             [
              0.2222222222222222,
              "#7201a8"
             ],
             [
              0.3333333333333333,
              "#9c179e"
             ],
             [
              0.4444444444444444,
              "#bd3786"
             ],
             [
              0.5555555555555556,
              "#d8576b"
             ],
             [
              0.6666666666666666,
              "#ed7953"
             ],
             [
              0.7777777777777778,
              "#fb9f3a"
             ],
             [
              0.8888888888888888,
              "#fdca26"
             ],
             [
              1,
              "#f0f921"
             ]
            ],
            "type": "heatmap"
           }
          ],
          "heatmapgl": [
           {
            "colorbar": {
             "outlinewidth": 0,
             "ticks": ""
            },
            "colorscale": [
             [
              0,
              "#0d0887"
             ],
             [
              0.1111111111111111,
              "#46039f"
             ],
             [
              0.2222222222222222,
              "#7201a8"
             ],
             [
              0.3333333333333333,
              "#9c179e"
             ],
             [
              0.4444444444444444,
              "#bd3786"
             ],
             [
              0.5555555555555556,
              "#d8576b"
             ],
             [
              0.6666666666666666,
              "#ed7953"
             ],
             [
              0.7777777777777778,
              "#fb9f3a"
             ],
             [
              0.8888888888888888,
              "#fdca26"
             ],
             [
              1,
              "#f0f921"
             ]
            ],
            "type": "heatmapgl"
           }
          ],
          "histogram": [
           {
            "marker": {
             "pattern": {
              "fillmode": "overlay",
              "size": 10,
              "solidity": 0.2
             }
            },
            "type": "histogram"
           }
          ],
          "histogram2d": [
           {
            "colorbar": {
             "outlinewidth": 0,
             "ticks": ""
            },
            "colorscale": [
             [
              0,
              "#0d0887"
             ],
             [
              0.1111111111111111,
              "#46039f"
             ],
             [
              0.2222222222222222,
              "#7201a8"
             ],
             [
              0.3333333333333333,
              "#9c179e"
             ],
             [
              0.4444444444444444,
              "#bd3786"
             ],
             [
              0.5555555555555556,
              "#d8576b"
             ],
             [
              0.6666666666666666,
              "#ed7953"
             ],
             [
              0.7777777777777778,
              "#fb9f3a"
             ],
             [
              0.8888888888888888,
              "#fdca26"
             ],
             [
              1,
              "#f0f921"
             ]
            ],
            "type": "histogram2d"
           }
          ],
          "histogram2dcontour": [
           {
            "colorbar": {
             "outlinewidth": 0,
             "ticks": ""
            },
            "colorscale": [
             [
              0,
              "#0d0887"
             ],
             [
              0.1111111111111111,
              "#46039f"
             ],
             [
              0.2222222222222222,
              "#7201a8"
             ],
             [
              0.3333333333333333,
              "#9c179e"
             ],
             [
              0.4444444444444444,
              "#bd3786"
             ],
             [
              0.5555555555555556,
              "#d8576b"
             ],
             [
              0.6666666666666666,
              "#ed7953"
             ],
             [
              0.7777777777777778,
              "#fb9f3a"
             ],
             [
              0.8888888888888888,
              "#fdca26"
             ],
             [
              1,
              "#f0f921"
             ]
            ],
            "type": "histogram2dcontour"
           }
          ],
          "mesh3d": [
           {
            "colorbar": {
             "outlinewidth": 0,
             "ticks": ""
            },
            "type": "mesh3d"
           }
          ],
          "parcoords": [
           {
            "line": {
             "colorbar": {
              "outlinewidth": 0,
              "ticks": ""
             }
            },
            "type": "parcoords"
           }
          ],
          "pie": [
           {
            "automargin": true,
            "type": "pie"
           }
          ],
          "scatter": [
           {
            "marker": {
             "colorbar": {
              "outlinewidth": 0,
              "ticks": ""
             }
            },
            "type": "scatter"
           }
          ],
          "scatter3d": [
           {
            "line": {
             "colorbar": {
              "outlinewidth": 0,
              "ticks": ""
             }
            },
            "marker": {
             "colorbar": {
              "outlinewidth": 0,
              "ticks": ""
             }
            },
            "type": "scatter3d"
           }
          ],
          "scattercarpet": [
           {
            "marker": {
             "colorbar": {
              "outlinewidth": 0,
              "ticks": ""
             }
            },
            "type": "scattercarpet"
           }
          ],
          "scattergeo": [
           {
            "marker": {
             "colorbar": {
              "outlinewidth": 0,
              "ticks": ""
             }
            },
            "type": "scattergeo"
           }
          ],
          "scattergl": [
           {
            "marker": {
             "colorbar": {
              "outlinewidth": 0,
              "ticks": ""
             }
            },
            "type": "scattergl"
           }
          ],
          "scattermapbox": [
           {
            "marker": {
             "colorbar": {
              "outlinewidth": 0,
              "ticks": ""
             }
            },
            "type": "scattermapbox"
           }
          ],
          "scatterpolar": [
           {
            "marker": {
             "colorbar": {
              "outlinewidth": 0,
              "ticks": ""
             }
            },
            "type": "scatterpolar"
           }
          ],
          "scatterpolargl": [
           {
            "marker": {
             "colorbar": {
              "outlinewidth": 0,
              "ticks": ""
             }
            },
            "type": "scatterpolargl"
           }
          ],
          "scatterternary": [
           {
            "marker": {
             "colorbar": {
              "outlinewidth": 0,
              "ticks": ""
             }
            },
            "type": "scatterternary"
           }
          ],
          "surface": [
           {
            "colorbar": {
             "outlinewidth": 0,
             "ticks": ""
            },
            "colorscale": [
             [
              0,
              "#0d0887"
             ],
             [
              0.1111111111111111,
              "#46039f"
             ],
             [
              0.2222222222222222,
              "#7201a8"
             ],
             [
              0.3333333333333333,
              "#9c179e"
             ],
             [
              0.4444444444444444,
              "#bd3786"
             ],
             [
              0.5555555555555556,
              "#d8576b"
             ],
             [
              0.6666666666666666,
              "#ed7953"
             ],
             [
              0.7777777777777778,
              "#fb9f3a"
             ],
             [
              0.8888888888888888,
              "#fdca26"
             ],
             [
              1,
              "#f0f921"
             ]
            ],
            "type": "surface"
           }
          ],
          "table": [
           {
            "cells": {
             "fill": {
              "color": "#EBF0F8"
             },
             "line": {
              "color": "white"
             }
            },
            "header": {
             "fill": {
              "color": "#C8D4E3"
             },
             "line": {
              "color": "white"
             }
            },
            "type": "table"
           }
          ]
         },
         "layout": {
          "annotationdefaults": {
           "arrowcolor": "#2a3f5f",
           "arrowhead": 0,
           "arrowwidth": 1
          },
          "autotypenumbers": "strict",
          "coloraxis": {
           "colorbar": {
            "outlinewidth": 0,
            "ticks": ""
           }
          },
          "colorscale": {
           "diverging": [
            [
             0,
             "#8e0152"
            ],
            [
             0.1,
             "#c51b7d"
            ],
            [
             0.2,
             "#de77ae"
            ],
            [
             0.3,
             "#f1b6da"
            ],
            [
             0.4,
             "#fde0ef"
            ],
            [
             0.5,
             "#f7f7f7"
            ],
            [
             0.6,
             "#e6f5d0"
            ],
            [
             0.7,
             "#b8e186"
            ],
            [
             0.8,
             "#7fbc41"
            ],
            [
             0.9,
             "#4d9221"
            ],
            [
             1,
             "#276419"
            ]
           ],
           "sequential": [
            [
             0,
             "#0d0887"
            ],
            [
             0.1111111111111111,
             "#46039f"
            ],
            [
             0.2222222222222222,
             "#7201a8"
            ],
            [
             0.3333333333333333,
             "#9c179e"
            ],
            [
             0.4444444444444444,
             "#bd3786"
            ],
            [
             0.5555555555555556,
             "#d8576b"
            ],
            [
             0.6666666666666666,
             "#ed7953"
            ],
            [
             0.7777777777777778,
             "#fb9f3a"
            ],
            [
             0.8888888888888888,
             "#fdca26"
            ],
            [
             1,
             "#f0f921"
            ]
           ],
           "sequentialminus": [
            [
             0,
             "#0d0887"
            ],
            [
             0.1111111111111111,
             "#46039f"
            ],
            [
             0.2222222222222222,
             "#7201a8"
            ],
            [
             0.3333333333333333,
             "#9c179e"
            ],
            [
             0.4444444444444444,
             "#bd3786"
            ],
            [
             0.5555555555555556,
             "#d8576b"
            ],
            [
             0.6666666666666666,
             "#ed7953"
            ],
            [
             0.7777777777777778,
             "#fb9f3a"
            ],
            [
             0.8888888888888888,
             "#fdca26"
            ],
            [
             1,
             "#f0f921"
            ]
           ]
          },
          "colorway": [
           "#636efa",
           "#EF553B",
           "#00cc96",
           "#ab63fa",
           "#FFA15A",
           "#19d3f3",
           "#FF6692",
           "#B6E880",
           "#FF97FF",
           "#FECB52"
          ],
          "font": {
           "color": "#2a3f5f"
          },
          "geo": {
           "bgcolor": "white",
           "lakecolor": "white",
           "landcolor": "#E5ECF6",
           "showlakes": true,
           "showland": true,
           "subunitcolor": "white"
          },
          "hoverlabel": {
           "align": "left"
          },
          "hovermode": "closest",
          "mapbox": {
           "style": "light"
          },
          "paper_bgcolor": "white",
          "plot_bgcolor": "#E5ECF6",
          "polar": {
           "angularaxis": {
            "gridcolor": "white",
            "linecolor": "white",
            "ticks": ""
           },
           "bgcolor": "#E5ECF6",
           "radialaxis": {
            "gridcolor": "white",
            "linecolor": "white",
            "ticks": ""
           }
          },
          "scene": {
           "xaxis": {
            "backgroundcolor": "#E5ECF6",
            "gridcolor": "white",
            "gridwidth": 2,
            "linecolor": "white",
            "showbackground": true,
            "ticks": "",
            "zerolinecolor": "white"
           },
           "yaxis": {
            "backgroundcolor": "#E5ECF6",
            "gridcolor": "white",
            "gridwidth": 2,
            "linecolor": "white",
            "showbackground": true,
            "ticks": "",
            "zerolinecolor": "white"
           },
           "zaxis": {
            "backgroundcolor": "#E5ECF6",
            "gridcolor": "white",
            "gridwidth": 2,
            "linecolor": "white",
            "showbackground": true,
            "ticks": "",
            "zerolinecolor": "white"
           }
          },
          "shapedefaults": {
           "line": {
            "color": "#2a3f5f"
           }
          },
          "ternary": {
           "aaxis": {
            "gridcolor": "white",
            "linecolor": "white",
            "ticks": ""
           },
           "baxis": {
            "gridcolor": "white",
            "linecolor": "white",
            "ticks": ""
           },
           "bgcolor": "#E5ECF6",
           "caxis": {
            "gridcolor": "white",
            "linecolor": "white",
            "ticks": ""
           }
          },
          "title": {
           "x": 0.05
          },
          "xaxis": {
           "automargin": true,
           "gridcolor": "white",
           "linecolor": "white",
           "ticks": "",
           "title": {
            "standoff": 15
           },
           "zerolinecolor": "white",
           "zerolinewidth": 2
          },
          "yaxis": {
           "automargin": true,
           "gridcolor": "white",
           "linecolor": "white",
           "ticks": "",
           "title": {
            "standoff": 15
           },
           "zerolinecolor": "white",
           "zerolinewidth": 2
          }
         }
        },
        "width": 700,
        "xaxis": {
         "anchor": "y",
         "domain": [
          0,
          1
         ],
         "title": {
          "text": "Nome do cliente"
         }
        },
        "yaxis": {
         "anchor": "x",
         "domain": [
          0,
          1
         ],
         "title": {
          "text": "total_preco"
         }
        }
       }
      },
      "text/html": [
       "<div>                            <div id=\"14c8297c-af28-4769-8321-ac90a8224019\" class=\"plotly-graph-div\" style=\"height:700px; width:700px;\"></div>            <script type=\"text/javascript\">                require([\"plotly\"], function(Plotly) {                    window.PLOTLYENV=window.PLOTLYENV || {};                                    if (document.getElementById(\"14c8297c-af28-4769-8321-ac90a8224019\")) {                    Plotly.newPlot(                        \"14c8297c-af28-4769-8321-ac90a8224019\",                        [{\"alignmentgroup\":\"True\",\"hovertemplate\":\"Produto=morango<br>Nome do cliente=%{x}<br>total_preco=%{y}<extra></extra>\",\"legendgroup\":\"morango\",\"marker\":{\"color\":\"#636efa\",\"pattern\":{\"shape\":\"\"}},\"name\":\"morango\",\"offsetgroup\":\"morango\",\"orientation\":\"v\",\"showlegend\":true,\"textposition\":\"auto\",\"type\":\"bar\",\"x\":[\"Caroline Teixeira\",\"Caroline Teixeira\",\"Caroline Teixeira\",\"Caroline Teixeira\",\"Caroline Teixeira\",\"Dr. Jo\\u00e3o Guilherme Rezende\",\"Dr. Jo\\u00e3o Guilherme Rezende\",\"Dr. Jo\\u00e3o Guilherme Rezende\",\"Alice Rodrigues\",\"Leonardo Pires\",\"Leonardo Pires\",\"Leonardo Pires\",\"J\\u00falia Viana\",\"J\\u00falia Viana\",\"J\\u00falia Viana\",\"J\\u00falia Viana\",\"Pietro Cardoso\",\"Pietro Cardoso\",\"Pietro Cardoso\",\"Davi Lucca Silveira\",\"Davi Lucca Silveira\",\"Dr. Davi Lucca Sales\",\"Dr. Davi Lucca Sales\",\"Diogo Moreira\",\"Sr. Isaac Nascimento\",\"Sr. Isaac Nascimento\",\"Sr. Isaac Nascimento\",\"Sr. Isaac Nascimento\"],\"xaxis\":\"x\",\"y\":[23.97,23.97,7.99,7.99,15.98,31.96,23.97,31.96,7.99,31.96,15.98,23.97,15.98,23.97,31.96,7.99,15.98,15.98,23.97,23.97,31.96,31.96,7.99,31.96,7.99,31.96,15.98,23.97],\"yaxis\":\"y\"},{\"alignmentgroup\":\"True\",\"hovertemplate\":\"Produto=batata<br>Nome do cliente=%{x}<br>total_preco=%{y}<extra></extra>\",\"legendgroup\":\"batata\",\"marker\":{\"color\":\"#EF553B\",\"pattern\":{\"shape\":\"\"}},\"name\":\"batata\",\"offsetgroup\":\"batata\",\"orientation\":\"v\",\"showlegend\":true,\"textposition\":\"auto\",\"type\":\"bar\",\"x\":[\"Caroline Teixeira\",\"Caroline Teixeira\",\"Caroline Teixeira\",\"Caroline Teixeira\",\"Caroline Teixeira\",\"Caroline Teixeira\",\"Caroline Teixeira\",\"Dr. Jo\\u00e3o Guilherme Rezende\",\"Dr. Jo\\u00e3o Guilherme Rezende\",\"Dr. Jo\\u00e3o Guilherme Rezende\",\"Dr. Jo\\u00e3o Guilherme Rezende\",\"Dr. Jo\\u00e3o Guilherme Rezende\",\"Alice Rodrigues\",\"Alice Rodrigues\",\"Alice Rodrigues\",\"Alice Rodrigues\",\"Alice Rodrigues\",\"Alice Rodrigues\",\"Leonardo Pires\",\"Leonardo Pires\",\"Leonardo Pires\",\"Leonardo Pires\",\"Leonardo Pires\",\"J\\u00falia Viana\",\"Pietro Cardoso\",\"Pietro Cardoso\",\"Davi Lucca Silveira\",\"Davi Lucca Silveira\",\"Davi Lucca Silveira\",\"Davi Lucca Silveira\",\"Davi Lucca Silveira\",\"Davi Lucca Silveira\",\"Diogo Moreira\",\"Diogo Moreira\",\"Diogo Moreira\",\"Diogo Moreira\",\"Sr. Isaac Nascimento\",\"Sr. Isaac Nascimento\"],\"xaxis\":\"x\",\"y\":[15.96,7.98,7.98,7.98,15.96,7.98,7.98,3.99,11.97,7.98,15.96,11.97,7.98,7.98,15.96,15.96,7.98,11.97,3.99,3.99,11.97,3.99,11.97,11.97,15.96,15.96,3.99,3.99,11.97,11.97,11.97,15.96,3.99,11.97,15.96,11.97,3.99,7.98],\"yaxis\":\"y\"},{\"alignmentgroup\":\"True\",\"hovertemplate\":\"Produto=berinjela<br>Nome do cliente=%{x}<br>total_preco=%{y}<extra></extra>\",\"legendgroup\":\"berinjela\",\"marker\":{\"color\":\"#00cc96\",\"pattern\":{\"shape\":\"\"}},\"name\":\"berinjela\",\"offsetgroup\":\"berinjela\",\"orientation\":\"v\",\"showlegend\":true,\"textposition\":\"auto\",\"type\":\"bar\",\"x\":[\"Caroline Teixeira\",\"Caroline Teixeira\",\"Dr. Jo\\u00e3o Guilherme Rezende\",\"Alice Rodrigues\",\"Alice Rodrigues\",\"Alice Rodrigues\",\"Alice Rodrigues\",\"Alice Rodrigues\",\"Leonardo Pires\",\"J\\u00falia Viana\",\"J\\u00falia Viana\",\"Pietro Cardoso\",\"Pietro Cardoso\",\"Pietro Cardoso\",\"Pietro Cardoso\",\"Davi Lucca Silveira\",\"Davi Lucca Silveira\",\"Davi Lucca Silveira\",\"Davi Lucca Silveira\",\"Davi Lucca Silveira\",\"Davi Lucca Silveira\",\"Davi Lucca Silveira\",\"Dr. Davi Lucca Sales\",\"Dr. Davi Lucca Sales\",\"Diogo Moreira\",\"Diogo Moreira\",\"Sr. Isaac Nascimento\",\"Sr. Isaac Nascimento\",\"Sr. Isaac Nascimento\",\"Sr. Isaac Nascimento\"],\"xaxis\":\"x\",\"y\":[35.97,47.96,23.98,23.98,11.99,11.99,47.96,35.97,35.97,35.97,35.97,47.96,47.96,23.98,11.99,11.99,23.98,47.96,23.98,23.98,35.97,23.98,23.98,47.96,47.96,11.99,47.96,11.99,11.99,35.97],\"yaxis\":\"y\"},{\"alignmentgroup\":\"True\",\"hovertemplate\":\"Produto=alface<br>Nome do cliente=%{x}<br>total_preco=%{y}<extra></extra>\",\"legendgroup\":\"alface\",\"marker\":{\"color\":\"#ab63fa\",\"pattern\":{\"shape\":\"\"}},\"name\":\"alface\",\"offsetgroup\":\"alface\",\"orientation\":\"v\",\"showlegend\":true,\"textposition\":\"auto\",\"type\":\"bar\",\"x\":[\"Caroline Teixeira\",\"Caroline Teixeira\",\"Caroline Teixeira\",\"Dr. Jo\\u00e3o Guilherme Rezende\",\"Dr. Jo\\u00e3o Guilherme Rezende\",\"Alice Rodrigues\",\"Alice Rodrigues\",\"Alice Rodrigues\",\"Alice Rodrigues\",\"Leonardo Pires\",\"Leonardo Pires\",\"J\\u00falia Viana\",\"J\\u00falia Viana\",\"Davi Lucca Silveira\",\"Davi Lucca Silveira\",\"Davi Lucca Silveira\",\"Davi Lucca Silveira\",\"Davi Lucca Silveira\",\"Dr. Davi Lucca Sales\",\"Dr. Davi Lucca Sales\",\"Dr. Davi Lucca Sales\",\"Dr. Davi Lucca Sales\",\"Dr. Davi Lucca Sales\",\"Diogo Moreira\",\"Sr. Isaac Nascimento\",\"Sr. Isaac Nascimento\"],\"xaxis\":\"x\",\"y\":[1.96,2.94,3.92,1.96,3.92,0.98,1.96,3.92,2.94,0.98,0.98,3.92,2.94,2.94,0.98,0.98,0.98,0.98,3.92,2.94,2.94,3.92,3.92,3.92,3.92,2.94],\"yaxis\":\"y\"},{\"alignmentgroup\":\"True\",\"hovertemplate\":\"Produto=arroz<br>Nome do cliente=%{x}<br>total_preco=%{y}<extra></extra>\",\"legendgroup\":\"arroz\",\"marker\":{\"color\":\"#FFA15A\",\"pattern\":{\"shape\":\"\"}},\"name\":\"arroz\",\"offsetgroup\":\"arroz\",\"orientation\":\"v\",\"showlegend\":true,\"textposition\":\"auto\",\"type\":\"bar\",\"x\":[\"Caroline Teixeira\",\"Caroline Teixeira\",\"Caroline Teixeira\",\"Caroline Teixeira\",\"Caroline Teixeira\",\"Dr. Jo\\u00e3o Guilherme Rezende\",\"Dr. Jo\\u00e3o Guilherme Rezende\",\"Dr. Jo\\u00e3o Guilherme Rezende\",\"Dr. Jo\\u00e3o Guilherme Rezende\",\"Dr. Jo\\u00e3o Guilherme Rezende\",\"Dr. Jo\\u00e3o Guilherme Rezende\",\"Alice Rodrigues\",\"Alice Rodrigues\",\"Alice Rodrigues\",\"Leonardo Pires\",\"Leonardo Pires\",\"J\\u00falia Viana\",\"Pietro Cardoso\",\"Pietro Cardoso\",\"Pietro Cardoso\",\"Pietro Cardoso\",\"Pietro Cardoso\",\"Pietro Cardoso\",\"Davi Lucca Silveira\",\"Davi Lucca Silveira\",\"Davi Lucca Silveira\",\"Dr. Davi Lucca Sales\",\"Diogo Moreira\",\"Diogo Moreira\",\"Diogo Moreira\",\"Diogo Moreira\",\"Sr. Isaac Nascimento\",\"Sr. Isaac Nascimento\",\"Sr. Isaac Nascimento\",\"Sr. Isaac Nascimento\"],\"xaxis\":\"x\",\"y\":[60.92999999999999,60.92999999999999,20.31,20.31,60.92999999999999,60.92999999999999,40.62,40.62,20.31,60.92999999999999,20.31,40.62,40.62,60.92999999999999,60.92999999999999,40.62,40.62,20.31,81.24,81.24,20.31,20.31,60.92999999999999,60.92999999999999,81.24,81.24,20.31,81.24,60.92999999999999,81.24,40.62,20.31,81.24,40.62,20.31],\"yaxis\":\"y\"},{\"alignmentgroup\":\"True\",\"hovertemplate\":\"Produto=macarr\\u00e3o<br>Nome do cliente=%{x}<br>total_preco=%{y}<extra></extra>\",\"legendgroup\":\"macarr\\u00e3o\",\"marker\":{\"color\":\"#19d3f3\",\"pattern\":{\"shape\":\"\"}},\"name\":\"macarr\\u00e3o\",\"offsetgroup\":\"macarr\\u00e3o\",\"orientation\":\"v\",\"showlegend\":true,\"textposition\":\"auto\",\"type\":\"bar\",\"x\":[\"Caroline Teixeira\",\"Caroline Teixeira\",\"Caroline Teixeira\",\"Caroline Teixeira\",\"Dr. Jo\\u00e3o Guilherme Rezende\",\"Dr. Jo\\u00e3o Guilherme Rezende\",\"Dr. Jo\\u00e3o Guilherme Rezende\",\"Alice Rodrigues\",\"Alice Rodrigues\",\"Alice Rodrigues\",\"Alice Rodrigues\",\"Leonardo Pires\",\"Leonardo Pires\",\"Leonardo Pires\",\"J\\u00falia Viana\",\"J\\u00falia Viana\",\"J\\u00falia Viana\",\"Pietro Cardoso\",\"Pietro Cardoso\",\"Pietro Cardoso\",\"Pietro Cardoso\",\"Pietro Cardoso\",\"Pietro Cardoso\",\"Pietro Cardoso\",\"Davi Lucca Silveira\",\"Dr. Davi Lucca Sales\",\"Dr. Davi Lucca Sales\",\"Dr. Davi Lucca Sales\",\"Dr. Davi Lucca Sales\",\"Dr. Davi Lucca Sales\",\"Diogo Moreira\",\"Diogo Moreira\",\"Diogo Moreira\",\"Diogo Moreira\",\"Sr. Isaac Nascimento\",\"Sr. Isaac Nascimento\",\"Sr. Isaac Nascimento\"],\"xaxis\":\"x\",\"y\":[7.4399999999999995,7.4399999999999995,4.96,2.48,9.92,2.48,2.48,2.48,7.4399999999999995,7.4399999999999995,7.4399999999999995,7.4399999999999995,7.4399999999999995,4.96,9.92,4.96,2.48,7.4399999999999995,2.48,7.4399999999999995,2.48,2.48,9.92,4.96,7.4399999999999995,4.96,4.96,4.96,2.48,7.4399999999999995,4.96,7.4399999999999995,7.4399999999999995,9.92,9.92,2.48,2.48],\"yaxis\":\"y\"},{\"alignmentgroup\":\"True\",\"hovertemplate\":\"Produto=melancia<br>Nome do cliente=%{x}<br>total_preco=%{y}<extra></extra>\",\"legendgroup\":\"melancia\",\"marker\":{\"color\":\"#FF6692\",\"pattern\":{\"shape\":\"\"}},\"name\":\"melancia\",\"offsetgroup\":\"melancia\",\"orientation\":\"v\",\"showlegend\":true,\"textposition\":\"auto\",\"type\":\"bar\",\"x\":[\"Caroline Teixeira\",\"Caroline Teixeira\",\"Dr. Jo\\u00e3o Guilherme Rezende\",\"Dr. Jo\\u00e3o Guilherme Rezende\",\"Dr. Jo\\u00e3o Guilherme Rezende\",\"Dr. Jo\\u00e3o Guilherme Rezende\",\"Alice Rodrigues\",\"Alice Rodrigues\",\"Alice Rodrigues\",\"Alice Rodrigues\",\"Alice Rodrigues\",\"Alice Rodrigues\",\"Leonardo Pires\",\"J\\u00falia Viana\",\"J\\u00falia Viana\",\"J\\u00falia Viana\",\"Pietro Cardoso\",\"Davi Lucca Silveira\",\"Davi Lucca Silveira\",\"Davi Lucca Silveira\",\"Dr. Davi Lucca Sales\",\"Dr. Davi Lucca Sales\",\"Dr. Davi Lucca Sales\",\"Dr. Davi Lucca Sales\",\"Dr. Davi Lucca Sales\",\"Diogo Moreira\",\"Diogo Moreira\",\"Diogo Moreira\",\"Diogo Moreira\",\"Sr. Isaac Nascimento\",\"Sr. Isaac Nascimento\",\"Sr. Isaac Nascimento\",\"Sr. Isaac Nascimento\"],\"xaxis\":\"x\",\"y\":[4.47,4.47,1.49,4.47,5.96,5.96,4.47,1.49,4.47,5.96,4.47,5.96,4.47,5.96,5.96,1.49,1.49,2.98,1.49,1.49,4.47,2.98,5.96,4.47,4.47,2.98,1.49,1.49,1.49,2.98,1.49,2.98,1.49],\"yaxis\":\"y\"},{\"alignmentgroup\":\"True\",\"hovertemplate\":\"Produto=banana<br>Nome do cliente=%{x}<br>total_preco=%{y}<extra></extra>\",\"legendgroup\":\"banana\",\"marker\":{\"color\":\"#B6E880\",\"pattern\":{\"shape\":\"\"}},\"name\":\"banana\",\"offsetgroup\":\"banana\",\"orientation\":\"v\",\"showlegend\":true,\"textposition\":\"auto\",\"type\":\"bar\",\"x\":[\"Caroline Teixeira\",\"Caroline Teixeira\",\"Caroline Teixeira\",\"Caroline Teixeira\",\"Caroline Teixeira\",\"Caroline Teixeira\",\"Caroline Teixeira\",\"Caroline Teixeira\",\"Caroline Teixeira\",\"Dr. Jo\\u00e3o Guilherme Rezende\",\"Alice Rodrigues\",\"Leonardo Pires\",\"J\\u00falia Viana\",\"J\\u00falia Viana\",\"J\\u00falia Viana\",\"J\\u00falia Viana\",\"Pietro Cardoso\",\"Pietro Cardoso\",\"Pietro Cardoso\",\"Pietro Cardoso\",\"Pietro Cardoso\",\"Davi Lucca Silveira\",\"Davi Lucca Silveira\",\"Davi Lucca Silveira\",\"Davi Lucca Silveira\",\"Dr. Davi Lucca Sales\",\"Diogo Moreira\",\"Diogo Moreira\",\"Diogo Moreira\",\"Diogo Moreira\",\"Sr. Isaac Nascimento\",\"Sr. Isaac Nascimento\",\"Sr. Isaac Nascimento\"],\"xaxis\":\"x\",\"y\":[11.98,5.99,5.99,5.99,23.96,23.96,23.96,17.97,11.98,11.98,17.97,23.96,23.96,17.97,5.99,11.98,17.97,5.99,17.97,17.97,17.97,5.99,11.98,11.98,5.99,5.99,17.97,17.97,11.98,11.98,23.96,5.99,11.98],\"yaxis\":\"y\"},{\"alignmentgroup\":\"True\",\"hovertemplate\":\"Produto=uva<br>Nome do cliente=%{x}<br>total_preco=%{y}<extra></extra>\",\"legendgroup\":\"uva\",\"marker\":{\"color\":\"#FF97FF\",\"pattern\":{\"shape\":\"\"}},\"name\":\"uva\",\"offsetgroup\":\"uva\",\"orientation\":\"v\",\"showlegend\":true,\"textposition\":\"auto\",\"type\":\"bar\",\"x\":[\"Caroline Teixeira\",\"Caroline Teixeira\",\"Caroline Teixeira\",\"Dr. Jo\\u00e3o Guilherme Rezende\",\"Dr. Jo\\u00e3o Guilherme Rezende\",\"Dr. Jo\\u00e3o Guilherme Rezende\",\"Dr. Jo\\u00e3o Guilherme Rezende\",\"Dr. Jo\\u00e3o Guilherme Rezende\",\"Dr. Jo\\u00e3o Guilherme Rezende\",\"Dr. Jo\\u00e3o Guilherme Rezende\",\"Alice Rodrigues\",\"Alice Rodrigues\",\"Alice Rodrigues\",\"Alice Rodrigues\",\"Alice Rodrigues\",\"Leonardo Pires\",\"Leonardo Pires\",\"Leonardo Pires\",\"Leonardo Pires\",\"J\\u00falia Viana\",\"J\\u00falia Viana\",\"Pietro Cardoso\",\"Pietro Cardoso\",\"Pietro Cardoso\",\"Davi Lucca Silveira\",\"Dr. Davi Lucca Sales\",\"Dr. Davi Lucca Sales\",\"Diogo Moreira\",\"Diogo Moreira\",\"Diogo Moreira\",\"Sr. Isaac Nascimento\",\"Sr. Isaac Nascimento\",\"Sr. Isaac Nascimento\",\"Sr. Isaac Nascimento\",\"Sr. Isaac Nascimento\",\"Sr. Isaac Nascimento\"],\"xaxis\":\"x\",\"y\":[7.47,22.41,22.41,29.88,29.88,22.41,22.41,29.88,14.94,14.94,7.47,14.94,29.88,29.88,22.41,29.88,14.94,29.88,14.94,14.94,29.88,29.88,22.41,7.47,14.94,22.41,14.94,29.88,14.94,29.88,14.94,29.88,7.47,29.88,14.94,7.47],\"yaxis\":\"y\"},{\"alignmentgroup\":\"True\",\"hovertemplate\":\"Produto=abobrinha<br>Nome do cliente=%{x}<br>total_preco=%{y}<extra></extra>\",\"legendgroup\":\"abobrinha\",\"marker\":{\"color\":\"#FECB52\",\"pattern\":{\"shape\":\"\"}},\"name\":\"abobrinha\",\"offsetgroup\":\"abobrinha\",\"orientation\":\"v\",\"showlegend\":true,\"textposition\":\"auto\",\"type\":\"bar\",\"x\":[\"Caroline Teixeira\",\"Caroline Teixeira\",\"Caroline Teixeira\",\"Caroline Teixeira\",\"Caroline Teixeira\",\"Caroline Teixeira\",\"Caroline Teixeira\",\"Dr. Jo\\u00e3o Guilherme Rezende\",\"Dr. Jo\\u00e3o Guilherme Rezende\",\"Alice Rodrigues\",\"Alice Rodrigues\",\"Leonardo Pires\",\"Leonardo Pires\",\"Leonardo Pires\",\"J\\u00falia Viana\",\"J\\u00falia Viana\",\"J\\u00falia Viana\",\"Pietro Cardoso\",\"Davi Lucca Silveira\",\"Dr. Davi Lucca Sales\",\"Dr. Davi Lucca Sales\",\"Dr. Davi Lucca Sales\",\"Dr. Davi Lucca Sales\",\"Diogo Moreira\",\"Diogo Moreira\",\"Diogo Moreira\",\"Sr. Isaac Nascimento\",\"Sr. Isaac Nascimento\",\"Sr. Isaac Nascimento\",\"Sr. Isaac Nascimento\"],\"xaxis\":\"x\",\"y\":[14.0,10.5,7.0,3.5,7.0,10.5,7.0,10.5,14.0,7.0,14.0,7.0,14.0,10.5,10.5,7.0,10.5,7.0,7.0,14.0,14.0,14.0,3.5,7.0,3.5,3.5,7.0,7.0,10.5,3.5],\"yaxis\":\"y\"},{\"alignmentgroup\":\"True\",\"hovertemplate\":\"Produto=feij\\u00e3o<br>Nome do cliente=%{x}<br>total_preco=%{y}<extra></extra>\",\"legendgroup\":\"feij\\u00e3o\",\"marker\":{\"color\":\"#636efa\",\"pattern\":{\"shape\":\"\"}},\"name\":\"feij\\u00e3o\",\"offsetgroup\":\"feij\\u00e3o\",\"orientation\":\"v\",\"showlegend\":true,\"textposition\":\"auto\",\"type\":\"bar\",\"x\":[\"Caroline Teixeira\",\"Caroline Teixeira\",\"Caroline Teixeira\",\"Caroline Teixeira\",\"Dr. Jo\\u00e3o Guilherme Rezende\",\"Dr. Jo\\u00e3o Guilherme Rezende\",\"Dr. Jo\\u00e3o Guilherme Rezende\",\"Dr. Jo\\u00e3o Guilherme Rezende\",\"Alice Rodrigues\",\"Alice Rodrigues\",\"Leonardo Pires\",\"Leonardo Pires\",\"J\\u00falia Viana\",\"J\\u00falia Viana\",\"J\\u00falia Viana\",\"Pietro Cardoso\",\"Davi Lucca Silveira\",\"Davi Lucca Silveira\",\"Davi Lucca Silveira\",\"Davi Lucca Silveira\",\"Davi Lucca Silveira\",\"Davi Lucca Silveira\",\"Dr. Davi Lucca Sales\",\"Dr. Davi Lucca Sales\",\"Diogo Moreira\",\"Diogo Moreira\",\"Diogo Moreira\",\"Diogo Moreira\",\"Sr. Isaac Nascimento\",\"Sr. Isaac Nascimento\"],\"xaxis\":\"x\",\"y\":[8.45,25.349999999999998,16.9,8.45,25.349999999999998,16.9,33.8,25.349999999999998,8.45,16.9,25.349999999999998,33.8,25.349999999999998,33.8,33.8,16.9,8.45,33.8,8.45,16.9,16.9,16.9,33.8,25.349999999999998,8.45,8.45,16.9,8.45,16.9,8.45],\"yaxis\":\"y\"},{\"alignmentgroup\":\"True\",\"hovertemplate\":\"Produto=couve-flor<br>Nome do cliente=%{x}<br>total_preco=%{y}<extra></extra>\",\"legendgroup\":\"couve-flor\",\"marker\":{\"color\":\"#EF553B\",\"pattern\":{\"shape\":\"\"}},\"name\":\"couve-flor\",\"offsetgroup\":\"couve-flor\",\"orientation\":\"v\",\"showlegend\":true,\"textposition\":\"auto\",\"type\":\"bar\",\"x\":[\"Dr. Jo\\u00e3o Guilherme Rezende\",\"Dr. Jo\\u00e3o Guilherme Rezende\",\"Dr. Jo\\u00e3o Guilherme Rezende\",\"Dr. Jo\\u00e3o Guilherme Rezende\",\"Dr. Jo\\u00e3o Guilherme Rezende\",\"Dr. Jo\\u00e3o Guilherme Rezende\",\"Alice Rodrigues\",\"Alice Rodrigues\",\"Alice Rodrigues\",\"Alice Rodrigues\",\"Leonardo Pires\",\"Leonardo Pires\",\"Leonardo Pires\",\"Leonardo Pires\",\"Leonardo Pires\",\"Leonardo Pires\",\"Leonardo Pires\",\"Leonardo Pires\",\"J\\u00falia Viana\",\"J\\u00falia Viana\",\"J\\u00falia Viana\",\"J\\u00falia Viana\",\"J\\u00falia Viana\",\"J\\u00falia Viana\",\"Pietro Cardoso\",\"Pietro Cardoso\",\"Pietro Cardoso\",\"Davi Lucca Silveira\",\"Dr. Davi Lucca Sales\",\"Dr. Davi Lucca Sales\",\"Dr. Davi Lucca Sales\",\"Dr. Davi Lucca Sales\",\"Dr. Davi Lucca Sales\",\"Diogo Moreira\",\"Diogo Moreira\",\"Diogo Moreira\",\"Sr. Isaac Nascimento\",\"Sr. Isaac Nascimento\"],\"xaxis\":\"x\",\"y\":[10.96,21.92,21.92,16.44,10.96,10.96,21.92,10.96,21.92,5.48,5.48,16.44,21.92,21.92,5.48,10.96,21.92,10.96,10.96,10.96,10.96,16.44,5.48,10.96,16.44,10.96,21.92,21.92,10.96,5.48,5.48,5.48,16.44,16.44,5.48,5.48,10.96,16.44],\"yaxis\":\"y\"}],                        {\"barmode\":\"stack\",\"height\":700,\"legend\":{\"title\":{\"text\":\"Produto\"},\"tracegroupgap\":0},\"margin\":{\"t\":60},\"template\":{\"data\":{\"bar\":[{\"error_x\":{\"color\":\"#2a3f5f\"},\"error_y\":{\"color\":\"#2a3f5f\"},\"marker\":{\"line\":{\"color\":\"#E5ECF6\",\"width\":0.5},\"pattern\":{\"fillmode\":\"overlay\",\"size\":10,\"solidity\":0.2}},\"type\":\"bar\"}],\"barpolar\":[{\"marker\":{\"line\":{\"color\":\"#E5ECF6\",\"width\":0.5},\"pattern\":{\"fillmode\":\"overlay\",\"size\":10,\"solidity\":0.2}},\"type\":\"barpolar\"}],\"carpet\":[{\"aaxis\":{\"endlinecolor\":\"#2a3f5f\",\"gridcolor\":\"white\",\"linecolor\":\"white\",\"minorgridcolor\":\"white\",\"startlinecolor\":\"#2a3f5f\"},\"baxis\":{\"endlinecolor\":\"#2a3f5f\",\"gridcolor\":\"white\",\"linecolor\":\"white\",\"minorgridcolor\":\"white\",\"startlinecolor\":\"#2a3f5f\"},\"type\":\"carpet\"}],\"choropleth\":[{\"colorbar\":{\"outlinewidth\":0,\"ticks\":\"\"},\"type\":\"choropleth\"}],\"contour\":[{\"colorbar\":{\"outlinewidth\":0,\"ticks\":\"\"},\"colorscale\":[[0.0,\"#0d0887\"],[0.1111111111111111,\"#46039f\"],[0.2222222222222222,\"#7201a8\"],[0.3333333333333333,\"#9c179e\"],[0.4444444444444444,\"#bd3786\"],[0.5555555555555556,\"#d8576b\"],[0.6666666666666666,\"#ed7953\"],[0.7777777777777778,\"#fb9f3a\"],[0.8888888888888888,\"#fdca26\"],[1.0,\"#f0f921\"]],\"type\":\"contour\"}],\"contourcarpet\":[{\"colorbar\":{\"outlinewidth\":0,\"ticks\":\"\"},\"type\":\"contourcarpet\"}],\"heatmap\":[{\"colorbar\":{\"outlinewidth\":0,\"ticks\":\"\"},\"colorscale\":[[0.0,\"#0d0887\"],[0.1111111111111111,\"#46039f\"],[0.2222222222222222,\"#7201a8\"],[0.3333333333333333,\"#9c179e\"],[0.4444444444444444,\"#bd3786\"],[0.5555555555555556,\"#d8576b\"],[0.6666666666666666,\"#ed7953\"],[0.7777777777777778,\"#fb9f3a\"],[0.8888888888888888,\"#fdca26\"],[1.0,\"#f0f921\"]],\"type\":\"heatmap\"}],\"heatmapgl\":[{\"colorbar\":{\"outlinewidth\":0,\"ticks\":\"\"},\"colorscale\":[[0.0,\"#0d0887\"],[0.1111111111111111,\"#46039f\"],[0.2222222222222222,\"#7201a8\"],[0.3333333333333333,\"#9c179e\"],[0.4444444444444444,\"#bd3786\"],[0.5555555555555556,\"#d8576b\"],[0.6666666666666666,\"#ed7953\"],[0.7777777777777778,\"#fb9f3a\"],[0.8888888888888888,\"#fdca26\"],[1.0,\"#f0f921\"]],\"type\":\"heatmapgl\"}],\"histogram\":[{\"marker\":{\"pattern\":{\"fillmode\":\"overlay\",\"size\":10,\"solidity\":0.2}},\"type\":\"histogram\"}],\"histogram2d\":[{\"colorbar\":{\"outlinewidth\":0,\"ticks\":\"\"},\"colorscale\":[[0.0,\"#0d0887\"],[0.1111111111111111,\"#46039f\"],[0.2222222222222222,\"#7201a8\"],[0.3333333333333333,\"#9c179e\"],[0.4444444444444444,\"#bd3786\"],[0.5555555555555556,\"#d8576b\"],[0.6666666666666666,\"#ed7953\"],[0.7777777777777778,\"#fb9f3a\"],[0.8888888888888888,\"#fdca26\"],[1.0,\"#f0f921\"]],\"type\":\"histogram2d\"}],\"histogram2dcontour\":[{\"colorbar\":{\"outlinewidth\":0,\"ticks\":\"\"},\"colorscale\":[[0.0,\"#0d0887\"],[0.1111111111111111,\"#46039f\"],[0.2222222222222222,\"#7201a8\"],[0.3333333333333333,\"#9c179e\"],[0.4444444444444444,\"#bd3786\"],[0.5555555555555556,\"#d8576b\"],[0.6666666666666666,\"#ed7953\"],[0.7777777777777778,\"#fb9f3a\"],[0.8888888888888888,\"#fdca26\"],[1.0,\"#f0f921\"]],\"type\":\"histogram2dcontour\"}],\"mesh3d\":[{\"colorbar\":{\"outlinewidth\":0,\"ticks\":\"\"},\"type\":\"mesh3d\"}],\"parcoords\":[{\"line\":{\"colorbar\":{\"outlinewidth\":0,\"ticks\":\"\"}},\"type\":\"parcoords\"}],\"pie\":[{\"automargin\":true,\"type\":\"pie\"}],\"scatter\":[{\"marker\":{\"colorbar\":{\"outlinewidth\":0,\"ticks\":\"\"}},\"type\":\"scatter\"}],\"scatter3d\":[{\"line\":{\"colorbar\":{\"outlinewidth\":0,\"ticks\":\"\"}},\"marker\":{\"colorbar\":{\"outlinewidth\":0,\"ticks\":\"\"}},\"type\":\"scatter3d\"}],\"scattercarpet\":[{\"marker\":{\"colorbar\":{\"outlinewidth\":0,\"ticks\":\"\"}},\"type\":\"scattercarpet\"}],\"scattergeo\":[{\"marker\":{\"colorbar\":{\"outlinewidth\":0,\"ticks\":\"\"}},\"type\":\"scattergeo\"}],\"scattergl\":[{\"marker\":{\"colorbar\":{\"outlinewidth\":0,\"ticks\":\"\"}},\"type\":\"scattergl\"}],\"scattermapbox\":[{\"marker\":{\"colorbar\":{\"outlinewidth\":0,\"ticks\":\"\"}},\"type\":\"scattermapbox\"}],\"scatterpolar\":[{\"marker\":{\"colorbar\":{\"outlinewidth\":0,\"ticks\":\"\"}},\"type\":\"scatterpolar\"}],\"scatterpolargl\":[{\"marker\":{\"colorbar\":{\"outlinewidth\":0,\"ticks\":\"\"}},\"type\":\"scatterpolargl\"}],\"scatterternary\":[{\"marker\":{\"colorbar\":{\"outlinewidth\":0,\"ticks\":\"\"}},\"type\":\"scatterternary\"}],\"surface\":[{\"colorbar\":{\"outlinewidth\":0,\"ticks\":\"\"},\"colorscale\":[[0.0,\"#0d0887\"],[0.1111111111111111,\"#46039f\"],[0.2222222222222222,\"#7201a8\"],[0.3333333333333333,\"#9c179e\"],[0.4444444444444444,\"#bd3786\"],[0.5555555555555556,\"#d8576b\"],[0.6666666666666666,\"#ed7953\"],[0.7777777777777778,\"#fb9f3a\"],[0.8888888888888888,\"#fdca26\"],[1.0,\"#f0f921\"]],\"type\":\"surface\"}],\"table\":[{\"cells\":{\"fill\":{\"color\":\"#EBF0F8\"},\"line\":{\"color\":\"white\"}},\"header\":{\"fill\":{\"color\":\"#C8D4E3\"},\"line\":{\"color\":\"white\"}},\"type\":\"table\"}]},\"layout\":{\"annotationdefaults\":{\"arrowcolor\":\"#2a3f5f\",\"arrowhead\":0,\"arrowwidth\":1},\"autotypenumbers\":\"strict\",\"coloraxis\":{\"colorbar\":{\"outlinewidth\":0,\"ticks\":\"\"}},\"colorscale\":{\"diverging\":[[0,\"#8e0152\"],[0.1,\"#c51b7d\"],[0.2,\"#de77ae\"],[0.3,\"#f1b6da\"],[0.4,\"#fde0ef\"],[0.5,\"#f7f7f7\"],[0.6,\"#e6f5d0\"],[0.7,\"#b8e186\"],[0.8,\"#7fbc41\"],[0.9,\"#4d9221\"],[1,\"#276419\"]],\"sequential\":[[0.0,\"#0d0887\"],[0.1111111111111111,\"#46039f\"],[0.2222222222222222,\"#7201a8\"],[0.3333333333333333,\"#9c179e\"],[0.4444444444444444,\"#bd3786\"],[0.5555555555555556,\"#d8576b\"],[0.6666666666666666,\"#ed7953\"],[0.7777777777777778,\"#fb9f3a\"],[0.8888888888888888,\"#fdca26\"],[1.0,\"#f0f921\"]],\"sequentialminus\":[[0.0,\"#0d0887\"],[0.1111111111111111,\"#46039f\"],[0.2222222222222222,\"#7201a8\"],[0.3333333333333333,\"#9c179e\"],[0.4444444444444444,\"#bd3786\"],[0.5555555555555556,\"#d8576b\"],[0.6666666666666666,\"#ed7953\"],[0.7777777777777778,\"#fb9f3a\"],[0.8888888888888888,\"#fdca26\"],[1.0,\"#f0f921\"]]},\"colorway\":[\"#636efa\",\"#EF553B\",\"#00cc96\",\"#ab63fa\",\"#FFA15A\",\"#19d3f3\",\"#FF6692\",\"#B6E880\",\"#FF97FF\",\"#FECB52\"],\"font\":{\"color\":\"#2a3f5f\"},\"geo\":{\"bgcolor\":\"white\",\"lakecolor\":\"white\",\"landcolor\":\"#E5ECF6\",\"showlakes\":true,\"showland\":true,\"subunitcolor\":\"white\"},\"hoverlabel\":{\"align\":\"left\"},\"hovermode\":\"closest\",\"mapbox\":{\"style\":\"light\"},\"paper_bgcolor\":\"white\",\"plot_bgcolor\":\"#E5ECF6\",\"polar\":{\"angularaxis\":{\"gridcolor\":\"white\",\"linecolor\":\"white\",\"ticks\":\"\"},\"bgcolor\":\"#E5ECF6\",\"radialaxis\":{\"gridcolor\":\"white\",\"linecolor\":\"white\",\"ticks\":\"\"}},\"scene\":{\"xaxis\":{\"backgroundcolor\":\"#E5ECF6\",\"gridcolor\":\"white\",\"gridwidth\":2,\"linecolor\":\"white\",\"showbackground\":true,\"ticks\":\"\",\"zerolinecolor\":\"white\"},\"yaxis\":{\"backgroundcolor\":\"#E5ECF6\",\"gridcolor\":\"white\",\"gridwidth\":2,\"linecolor\":\"white\",\"showbackground\":true,\"ticks\":\"\",\"zerolinecolor\":\"white\"},\"zaxis\":{\"backgroundcolor\":\"#E5ECF6\",\"gridcolor\":\"white\",\"gridwidth\":2,\"linecolor\":\"white\",\"showbackground\":true,\"ticks\":\"\",\"zerolinecolor\":\"white\"}},\"shapedefaults\":{\"line\":{\"color\":\"#2a3f5f\"}},\"ternary\":{\"aaxis\":{\"gridcolor\":\"white\",\"linecolor\":\"white\",\"ticks\":\"\"},\"baxis\":{\"gridcolor\":\"white\",\"linecolor\":\"white\",\"ticks\":\"\"},\"bgcolor\":\"#E5ECF6\",\"caxis\":{\"gridcolor\":\"white\",\"linecolor\":\"white\",\"ticks\":\"\"}},\"title\":{\"x\":0.05},\"xaxis\":{\"automargin\":true,\"gridcolor\":\"white\",\"linecolor\":\"white\",\"ticks\":\"\",\"title\":{\"standoff\":15},\"zerolinecolor\":\"white\",\"zerolinewidth\":2},\"yaxis\":{\"automargin\":true,\"gridcolor\":\"white\",\"linecolor\":\"white\",\"ticks\":\"\",\"title\":{\"standoff\":15},\"zerolinecolor\":\"white\",\"zerolinewidth\":2}}},\"width\":700,\"xaxis\":{\"anchor\":\"y\",\"domain\":[0.0,1.0],\"title\":{\"text\":\"Nome do cliente\"}},\"yaxis\":{\"anchor\":\"x\",\"domain\":[0.0,1.0],\"title\":{\"text\":\"total_preco\"}}},                        {\"responsive\": true}                    ).then(function(){\n",
       "                            \n",
       "var gd = document.getElementById('14c8297c-af28-4769-8321-ac90a8224019');\n",
       "var x = new MutationObserver(function (mutations, observer) {{\n",
       "        var display = window.getComputedStyle(gd).display;\n",
       "        if (!display || display === 'none') {{\n",
       "            console.log([gd, 'removed!']);\n",
       "            Plotly.purge(gd);\n",
       "            observer.disconnect();\n",
       "        }}\n",
       "}});\n",
       "\n",
       "// Listen for the removal of the full notebook cells\n",
       "var notebookContainer = gd.closest('#notebook-container');\n",
       "if (notebookContainer) {{\n",
       "    x.observe(notebookContainer, {childList: true});\n",
       "}}\n",
       "\n",
       "// Listen for the clearing of the current output cell\n",
       "var outputEl = gd.closest('.output');\n",
       "if (outputEl) {{\n",
       "    x.observe(outputEl, {childList: true});\n",
       "}}\n",
       "\n",
       "                        })                };                });            </script>        </div>"
      ]
     },
     "metadata": {},
     "output_type": "display_data"
    }
   ],
   "source": [
    "fig = px.bar(venda_produtos_cliente_qt, x=\"nome_cliente\", y=\"total_preco\", color=\"nome\", barmode = 'stack',\n",
    "             labels={\"quantidade\": \"Quantidade de vendas\", \"nome_cliente\": \"Nome do cliente\", \"nome\":\"Produto\" }, height=700, width=700)\n",
    " \n",
    "fig.show()"
   ]
  },
  {
   "cell_type": "code",
   "execution_count": 333,
   "id": "b7bc45bd",
   "metadata": {},
   "outputs": [
    {
     "data": {
      "text/html": [
       "<div>\n",
       "<style scoped>\n",
       "    .dataframe tbody tr th:only-of-type {\n",
       "        vertical-align: middle;\n",
       "    }\n",
       "\n",
       "    .dataframe tbody tr th {\n",
       "        vertical-align: top;\n",
       "    }\n",
       "\n",
       "    .dataframe thead th {\n",
       "        text-align: right;\n",
       "    }\n",
       "</style>\n",
       "<table border=\"1\" class=\"dataframe\">\n",
       "  <thead>\n",
       "    <tr style=\"text-align: right;\">\n",
       "      <th></th>\n",
       "      <th>id_cliente</th>\n",
       "      <th>nome_cliente</th>\n",
       "      <th>nascimento</th>\n",
       "      <th>endereço</th>\n",
       "      <th>cpf</th>\n",
       "      <th>telefone</th>\n",
       "      <th>usuario</th>\n",
       "      <th>senha</th>\n",
       "    </tr>\n",
       "  </thead>\n",
       "  <tbody>\n",
       "    <tr>\n",
       "      <th>146</th>\n",
       "      <td>146</td>\n",
       "      <td>Dr. João Guilherme Rezende</td>\n",
       "      <td>1949-02-16</td>\n",
       "      <td>Ladeira Porto, 25\\nBarão Homem De Melo 2ª Seçã...</td>\n",
       "      <td>253.106.478-80</td>\n",
       "      <td>(041) 1200-4583</td>\n",
       "      <td>joao-miguel48</td>\n",
       "      <td>s8_v4S$g6y+H</td>\n",
       "    </tr>\n",
       "    <tr>\n",
       "      <th>107</th>\n",
       "      <td>107</td>\n",
       "      <td>Caroline Teixeira</td>\n",
       "      <td>1950-12-05</td>\n",
       "      <td>Distrito Porto, 69\\nMaria Goretti\\n33286281 da...</td>\n",
       "      <td>231.984.075-32</td>\n",
       "      <td>+55 (011) 5496 8061</td>\n",
       "      <td>laraujo</td>\n",
       "      <td>_YYrgBs620jB</td>\n",
       "    </tr>\n",
       "    <tr>\n",
       "      <th>104</th>\n",
       "      <td>104</td>\n",
       "      <td>Pietro Cardoso</td>\n",
       "      <td>1959-03-15</td>\n",
       "      <td>Vereda de Sales, 84\\nVila Paquetá\\n75778098 Ba...</td>\n",
       "      <td>736.510.984-00</td>\n",
       "      <td>51 6736 4219</td>\n",
       "      <td>kda-mota</td>\n",
       "      <td>@DKWggn3L4k$</td>\n",
       "    </tr>\n",
       "    <tr>\n",
       "      <th>154</th>\n",
       "      <td>154</td>\n",
       "      <td>Davi Lucca Silveira</td>\n",
       "      <td>1993-01-25</td>\n",
       "      <td>Vale de Alves, 82\\nInconfidência\\n61749-042 Pi...</td>\n",
       "      <td>307.426.895-65</td>\n",
       "      <td>51 6609 1027</td>\n",
       "      <td>pedro-henriquegomes</td>\n",
       "      <td>+kV4+OSgdlWj</td>\n",
       "    </tr>\n",
       "    <tr>\n",
       "      <th>119</th>\n",
       "      <td>119</td>\n",
       "      <td>Diogo Moreira</td>\n",
       "      <td>1989-03-01</td>\n",
       "      <td>Área Jesus, 9\\nVila Petropolis\\n12703-073 Lima...</td>\n",
       "      <td>498.527.106-30</td>\n",
       "      <td>+55 84 8100 4367</td>\n",
       "      <td>mariajesus</td>\n",
       "      <td>Q9SbApmy%9LC</td>\n",
       "    </tr>\n",
       "    <tr>\n",
       "      <th>100</th>\n",
       "      <td>100</td>\n",
       "      <td>Alice Rodrigues</td>\n",
       "      <td>1984-02-10</td>\n",
       "      <td>Distrito de da Rocha, 90\\nSanta Lúcia\\n02147-3...</td>\n",
       "      <td>908.357.216-12</td>\n",
       "      <td>+55 11 3964-3060</td>\n",
       "      <td>benjaminsantos</td>\n",
       "      <td>W+yLCIk12L0m</td>\n",
       "    </tr>\n",
       "    <tr>\n",
       "      <th>106</th>\n",
       "      <td>106</td>\n",
       "      <td>Sr. Isaac Nascimento</td>\n",
       "      <td>2002-02-05</td>\n",
       "      <td>Praia Thomas Almeida, 9\\nOlaria\\n20041-723 Mou...</td>\n",
       "      <td>765.432.980-65</td>\n",
       "      <td>81 4055-7650</td>\n",
       "      <td>lnovaes</td>\n",
       "      <td>v*M4Irb%8&amp;0(</td>\n",
       "    </tr>\n",
       "    <tr>\n",
       "      <th>144</th>\n",
       "      <td>144</td>\n",
       "      <td>Leonardo Pires</td>\n",
       "      <td>1955-06-20</td>\n",
       "      <td>Esplanada de Cardoso, 92\\nConjunto Novo Dom Bo...</td>\n",
       "      <td>952.746.831-00</td>\n",
       "      <td>84 8526 5842</td>\n",
       "      <td>vitor-gabrielcaldeira</td>\n",
       "      <td>)9WnhqzJ7TAG</td>\n",
       "    </tr>\n",
       "    <tr>\n",
       "      <th>166</th>\n",
       "      <td>166</td>\n",
       "      <td>Júlia Viana</td>\n",
       "      <td>1963-07-29</td>\n",
       "      <td>Área Lucas Nascimento, 39\\nGuaratã\\n54475500 F...</td>\n",
       "      <td>845.179.260-01</td>\n",
       "      <td>+55 (021) 9640 6064</td>\n",
       "      <td>portoeduardo</td>\n",
       "      <td>!1K*nHsrqTfg</td>\n",
       "    </tr>\n",
       "    <tr>\n",
       "      <th>31</th>\n",
       "      <td>31</td>\n",
       "      <td>Dr. Davi Lucca Sales</td>\n",
       "      <td>1995-11-14</td>\n",
       "      <td>Trecho Pereira, 87\\nVila Copasa\\n67830494 Pint...</td>\n",
       "      <td>519.248.670-01</td>\n",
       "      <td>+55 (021) 9342 8898</td>\n",
       "      <td>peixotogabriela</td>\n",
       "      <td>$4CeaXxlu5SJ</td>\n",
       "    </tr>\n",
       "  </tbody>\n",
       "</table>\n",
       "</div>"
      ],
      "text/plain": [
       "     id_cliente                nome_cliente  nascimento  \\\n",
       "146         146  Dr. João Guilherme Rezende  1949-02-16   \n",
       "107         107           Caroline Teixeira  1950-12-05   \n",
       "104         104              Pietro Cardoso  1959-03-15   \n",
       "154         154         Davi Lucca Silveira  1993-01-25   \n",
       "119         119               Diogo Moreira  1989-03-01   \n",
       "100         100             Alice Rodrigues  1984-02-10   \n",
       "106         106        Sr. Isaac Nascimento  2002-02-05   \n",
       "144         144              Leonardo Pires  1955-06-20   \n",
       "166         166                 Júlia Viana  1963-07-29   \n",
       "31           31        Dr. Davi Lucca Sales  1995-11-14   \n",
       "\n",
       "                                              endereço             cpf  \\\n",
       "146  Ladeira Porto, 25\\nBarão Homem De Melo 2ª Seçã...  253.106.478-80   \n",
       "107  Distrito Porto, 69\\nMaria Goretti\\n33286281 da...  231.984.075-32   \n",
       "104  Vereda de Sales, 84\\nVila Paquetá\\n75778098 Ba...  736.510.984-00   \n",
       "154  Vale de Alves, 82\\nInconfidência\\n61749-042 Pi...  307.426.895-65   \n",
       "119  Área Jesus, 9\\nVila Petropolis\\n12703-073 Lima...  498.527.106-30   \n",
       "100  Distrito de da Rocha, 90\\nSanta Lúcia\\n02147-3...  908.357.216-12   \n",
       "106  Praia Thomas Almeida, 9\\nOlaria\\n20041-723 Mou...  765.432.980-65   \n",
       "144  Esplanada de Cardoso, 92\\nConjunto Novo Dom Bo...  952.746.831-00   \n",
       "166  Área Lucas Nascimento, 39\\nGuaratã\\n54475500 F...  845.179.260-01   \n",
       "31   Trecho Pereira, 87\\nVila Copasa\\n67830494 Pint...  519.248.670-01   \n",
       "\n",
       "                telefone                usuario         senha  \n",
       "146      (041) 1200-4583          joao-miguel48  s8_v4S$g6y+H  \n",
       "107  +55 (011) 5496 8061                laraujo  _YYrgBs620jB  \n",
       "104         51 6736 4219               kda-mota  @DKWggn3L4k$  \n",
       "154         51 6609 1027    pedro-henriquegomes  +kV4+OSgdlWj  \n",
       "119     +55 84 8100 4367             mariajesus  Q9SbApmy%9LC  \n",
       "100     +55 11 3964-3060         benjaminsantos  W+yLCIk12L0m  \n",
       "106         81 4055-7650                lnovaes  v*M4Irb%8&0(  \n",
       "144         84 8526 5842  vitor-gabrielcaldeira  )9WnhqzJ7TAG  \n",
       "166  +55 (021) 9640 6064           portoeduardo  !1K*nHsrqTfg  \n",
       "31   +55 (021) 9342 8898        peixotogabriela  $4CeaXxlu5SJ  "
      ]
     },
     "execution_count": 333,
     "metadata": {},
     "output_type": "execute_result"
    }
   ],
   "source": [
    "lista_id_cliente_maiores_valores = quantidade_comprada_preco['id_cliente'].tolist()\n",
    "clientes.iloc[lista_id_cliente_maiores_valores]"
   ]
  },
  {
   "cell_type": "code",
   "execution_count": 334,
   "id": "21213974",
   "metadata": {},
   "outputs": [
    {
     "data": {
      "text/html": [
       "<div>\n",
       "<style scoped>\n",
       "    .dataframe tbody tr th:only-of-type {\n",
       "        vertical-align: middle;\n",
       "    }\n",
       "\n",
       "    .dataframe tbody tr th {\n",
       "        vertical-align: top;\n",
       "    }\n",
       "\n",
       "    .dataframe thead th {\n",
       "        text-align: right;\n",
       "    }\n",
       "</style>\n",
       "<table border=\"1\" class=\"dataframe\">\n",
       "  <thead>\n",
       "    <tr style=\"text-align: right;\">\n",
       "      <th></th>\n",
       "      <th>id_vendas</th>\n",
       "      <th>id_produto</th>\n",
       "      <th>quantidade</th>\n",
       "      <th>nome</th>\n",
       "      <th>preco</th>\n",
       "      <th>prateleira</th>\n",
       "      <th>estoque</th>\n",
       "      <th>unidade_de_medida_de_estoque</th>\n",
       "      <th>id_cliente</th>\n",
       "      <th>data</th>\n",
       "      <th>nome_cliente</th>\n",
       "      <th>nascimento</th>\n",
       "      <th>endereço</th>\n",
       "      <th>cpf</th>\n",
       "      <th>telefone</th>\n",
       "      <th>usuario</th>\n",
       "      <th>senha</th>\n",
       "      <th>quantidade_total</th>\n",
       "      <th>total_preco</th>\n",
       "    </tr>\n",
       "  </thead>\n",
       "  <tbody>\n",
       "    <tr>\n",
       "      <th>0</th>\n",
       "      <td>77.0</td>\n",
       "      <td>0.0</td>\n",
       "      <td>3.0</td>\n",
       "      <td>morango</td>\n",
       "      <td>7.99</td>\n",
       "      <td>1A</td>\n",
       "      <td>50.0</td>\n",
       "      <td>bandejas</td>\n",
       "      <td>107</td>\n",
       "      <td>2021-11-07</td>\n",
       "      <td>Caroline Teixeira</td>\n",
       "      <td>1950-12-05</td>\n",
       "      <td>Distrito Porto, 69\\nMaria Goretti\\n33286281 da...</td>\n",
       "      <td>231.984.075-32</td>\n",
       "      <td>+55 (011) 5496 8061</td>\n",
       "      <td>laraujo</td>\n",
       "      <td>_YYrgBs620jB</td>\n",
       "      <td>123.0</td>\n",
       "      <td>23.97</td>\n",
       "    </tr>\n",
       "    <tr>\n",
       "      <th>1</th>\n",
       "      <td>77.0</td>\n",
       "      <td>0.0</td>\n",
       "      <td>3.0</td>\n",
       "      <td>morango</td>\n",
       "      <td>7.99</td>\n",
       "      <td>1A</td>\n",
       "      <td>50.0</td>\n",
       "      <td>bandejas</td>\n",
       "      <td>107</td>\n",
       "      <td>2021-11-07</td>\n",
       "      <td>Caroline Teixeira</td>\n",
       "      <td>1950-12-05</td>\n",
       "      <td>Distrito Porto, 69\\nMaria Goretti\\n33286281 da...</td>\n",
       "      <td>231.984.075-32</td>\n",
       "      <td>+55 (011) 5496 8061</td>\n",
       "      <td>laraujo</td>\n",
       "      <td>_YYrgBs620jB</td>\n",
       "      <td>123.0</td>\n",
       "      <td>23.97</td>\n",
       "    </tr>\n",
       "    <tr>\n",
       "      <th>2</th>\n",
       "      <td>77.0</td>\n",
       "      <td>0.0</td>\n",
       "      <td>1.0</td>\n",
       "      <td>morango</td>\n",
       "      <td>7.99</td>\n",
       "      <td>1A</td>\n",
       "      <td>50.0</td>\n",
       "      <td>bandejas</td>\n",
       "      <td>107</td>\n",
       "      <td>2021-11-07</td>\n",
       "      <td>Caroline Teixeira</td>\n",
       "      <td>1950-12-05</td>\n",
       "      <td>Distrito Porto, 69\\nMaria Goretti\\n33286281 da...</td>\n",
       "      <td>231.984.075-32</td>\n",
       "      <td>+55 (011) 5496 8061</td>\n",
       "      <td>laraujo</td>\n",
       "      <td>_YYrgBs620jB</td>\n",
       "      <td>123.0</td>\n",
       "      <td>7.99</td>\n",
       "    </tr>\n",
       "    <tr>\n",
       "      <th>3</th>\n",
       "      <td>77.0</td>\n",
       "      <td>4.0</td>\n",
       "      <td>4.0</td>\n",
       "      <td>batata</td>\n",
       "      <td>3.99</td>\n",
       "      <td>2B</td>\n",
       "      <td>47.0</td>\n",
       "      <td>kg</td>\n",
       "      <td>107</td>\n",
       "      <td>2021-11-07</td>\n",
       "      <td>Caroline Teixeira</td>\n",
       "      <td>1950-12-05</td>\n",
       "      <td>Distrito Porto, 69\\nMaria Goretti\\n33286281 da...</td>\n",
       "      <td>231.984.075-32</td>\n",
       "      <td>+55 (011) 5496 8061</td>\n",
       "      <td>laraujo</td>\n",
       "      <td>_YYrgBs620jB</td>\n",
       "      <td>123.0</td>\n",
       "      <td>15.96</td>\n",
       "    </tr>\n",
       "    <tr>\n",
       "      <th>4</th>\n",
       "      <td>77.0</td>\n",
       "      <td>4.0</td>\n",
       "      <td>2.0</td>\n",
       "      <td>batata</td>\n",
       "      <td>3.99</td>\n",
       "      <td>2B</td>\n",
       "      <td>47.0</td>\n",
       "      <td>kg</td>\n",
       "      <td>107</td>\n",
       "      <td>2021-11-07</td>\n",
       "      <td>Caroline Teixeira</td>\n",
       "      <td>1950-12-05</td>\n",
       "      <td>Distrito Porto, 69\\nMaria Goretti\\n33286281 da...</td>\n",
       "      <td>231.984.075-32</td>\n",
       "      <td>+55 (011) 5496 8061</td>\n",
       "      <td>laraujo</td>\n",
       "      <td>_YYrgBs620jB</td>\n",
       "      <td>123.0</td>\n",
       "      <td>7.98</td>\n",
       "    </tr>\n",
       "    <tr>\n",
       "      <th>...</th>\n",
       "      <td>...</td>\n",
       "      <td>...</td>\n",
       "      <td>...</td>\n",
       "      <td>...</td>\n",
       "      <td>...</td>\n",
       "      <td>...</td>\n",
       "      <td>...</td>\n",
       "      <td>...</td>\n",
       "      <td>...</td>\n",
       "      <td>...</td>\n",
       "      <td>...</td>\n",
       "      <td>...</td>\n",
       "      <td>...</td>\n",
       "      <td>...</td>\n",
       "      <td>...</td>\n",
       "      <td>...</td>\n",
       "      <td>...</td>\n",
       "      <td>...</td>\n",
       "      <td>...</td>\n",
       "    </tr>\n",
       "    <tr>\n",
       "      <th>389</th>\n",
       "      <td>193.0</td>\n",
       "      <td>9.0</td>\n",
       "      <td>1.0</td>\n",
       "      <td>feijão</td>\n",
       "      <td>8.45</td>\n",
       "      <td>3B</td>\n",
       "      <td>43.0</td>\n",
       "      <td>kg</td>\n",
       "      <td>106</td>\n",
       "      <td>2021-11-15</td>\n",
       "      <td>Sr. Isaac Nascimento</td>\n",
       "      <td>2002-02-05</td>\n",
       "      <td>Praia Thomas Almeida, 9\\nOlaria\\n20041-723 Mou...</td>\n",
       "      <td>765.432.980-65</td>\n",
       "      <td>81 4055-7650</td>\n",
       "      <td>lnovaes</td>\n",
       "      <td>v*M4Irb%8&amp;0(</td>\n",
       "      <td>86.0</td>\n",
       "      <td>8.45</td>\n",
       "    </tr>\n",
       "    <tr>\n",
       "      <th>390</th>\n",
       "      <td>193.0</td>\n",
       "      <td>10.0</td>\n",
       "      <td>1.0</td>\n",
       "      <td>arroz</td>\n",
       "      <td>20.31</td>\n",
       "      <td>3A</td>\n",
       "      <td>80.0</td>\n",
       "      <td>kg</td>\n",
       "      <td>106</td>\n",
       "      <td>2021-11-15</td>\n",
       "      <td>Sr. Isaac Nascimento</td>\n",
       "      <td>2002-02-05</td>\n",
       "      <td>Praia Thomas Almeida, 9\\nOlaria\\n20041-723 Mou...</td>\n",
       "      <td>765.432.980-65</td>\n",
       "      <td>81 4055-7650</td>\n",
       "      <td>lnovaes</td>\n",
       "      <td>v*M4Irb%8&amp;0(</td>\n",
       "      <td>86.0</td>\n",
       "      <td>20.31</td>\n",
       "    </tr>\n",
       "    <tr>\n",
       "      <th>391</th>\n",
       "      <td>193.0</td>\n",
       "      <td>11.0</td>\n",
       "      <td>1.0</td>\n",
       "      <td>macarrão</td>\n",
       "      <td>2.48</td>\n",
       "      <td>3C</td>\n",
       "      <td>38.0</td>\n",
       "      <td>pacotes</td>\n",
       "      <td>106</td>\n",
       "      <td>2021-11-15</td>\n",
       "      <td>Sr. Isaac Nascimento</td>\n",
       "      <td>2002-02-05</td>\n",
       "      <td>Praia Thomas Almeida, 9\\nOlaria\\n20041-723 Mou...</td>\n",
       "      <td>765.432.980-65</td>\n",
       "      <td>81 4055-7650</td>\n",
       "      <td>lnovaes</td>\n",
       "      <td>v*M4Irb%8&amp;0(</td>\n",
       "      <td>86.0</td>\n",
       "      <td>2.48</td>\n",
       "    </tr>\n",
       "    <tr>\n",
       "      <th>392</th>\n",
       "      <td>193.0</td>\n",
       "      <td>11.0</td>\n",
       "      <td>1.0</td>\n",
       "      <td>macarrão</td>\n",
       "      <td>2.48</td>\n",
       "      <td>3C</td>\n",
       "      <td>38.0</td>\n",
       "      <td>pacotes</td>\n",
       "      <td>106</td>\n",
       "      <td>2021-11-15</td>\n",
       "      <td>Sr. Isaac Nascimento</td>\n",
       "      <td>2002-02-05</td>\n",
       "      <td>Praia Thomas Almeida, 9\\nOlaria\\n20041-723 Mou...</td>\n",
       "      <td>765.432.980-65</td>\n",
       "      <td>81 4055-7650</td>\n",
       "      <td>lnovaes</td>\n",
       "      <td>v*M4Irb%8&amp;0(</td>\n",
       "      <td>86.0</td>\n",
       "      <td>2.48</td>\n",
       "    </tr>\n",
       "    <tr>\n",
       "      <th>393</th>\n",
       "      <td>328.0</td>\n",
       "      <td>5.0</td>\n",
       "      <td>3.0</td>\n",
       "      <td>berinjela</td>\n",
       "      <td>11.99</td>\n",
       "      <td>2D</td>\n",
       "      <td>12.0</td>\n",
       "      <td>kg</td>\n",
       "      <td>106</td>\n",
       "      <td>2021-11-22</td>\n",
       "      <td>Sr. Isaac Nascimento</td>\n",
       "      <td>2002-02-05</td>\n",
       "      <td>Praia Thomas Almeida, 9\\nOlaria\\n20041-723 Mou...</td>\n",
       "      <td>765.432.980-65</td>\n",
       "      <td>81 4055-7650</td>\n",
       "      <td>lnovaes</td>\n",
       "      <td>v*M4Irb%8&amp;0(</td>\n",
       "      <td>86.0</td>\n",
       "      <td>35.97</td>\n",
       "    </tr>\n",
       "  </tbody>\n",
       "</table>\n",
       "<p>394 rows × 19 columns</p>\n",
       "</div>"
      ],
      "text/plain": [
       "     id_vendas  id_produto  quantidade       nome  preco prateleira  estoque  \\\n",
       "0         77.0         0.0         3.0    morango   7.99         1A     50.0   \n",
       "1         77.0         0.0         3.0    morango   7.99         1A     50.0   \n",
       "2         77.0         0.0         1.0    morango   7.99         1A     50.0   \n",
       "3         77.0         4.0         4.0     batata   3.99         2B     47.0   \n",
       "4         77.0         4.0         2.0     batata   3.99         2B     47.0   \n",
       "..         ...         ...         ...        ...    ...        ...      ...   \n",
       "389      193.0         9.0         1.0     feijão   8.45         3B     43.0   \n",
       "390      193.0        10.0         1.0      arroz  20.31         3A     80.0   \n",
       "391      193.0        11.0         1.0   macarrão   2.48         3C     38.0   \n",
       "392      193.0        11.0         1.0   macarrão   2.48         3C     38.0   \n",
       "393      328.0         5.0         3.0  berinjela  11.99         2D     12.0   \n",
       "\n",
       "    unidade_de_medida_de_estoque  id_cliente       data          nome_cliente  \\\n",
       "0                       bandejas         107 2021-11-07     Caroline Teixeira   \n",
       "1                       bandejas         107 2021-11-07     Caroline Teixeira   \n",
       "2                       bandejas         107 2021-11-07     Caroline Teixeira   \n",
       "3                             kg         107 2021-11-07     Caroline Teixeira   \n",
       "4                             kg         107 2021-11-07     Caroline Teixeira   \n",
       "..                           ...         ...        ...                   ...   \n",
       "389                           kg         106 2021-11-15  Sr. Isaac Nascimento   \n",
       "390                           kg         106 2021-11-15  Sr. Isaac Nascimento   \n",
       "391                      pacotes         106 2021-11-15  Sr. Isaac Nascimento   \n",
       "392                      pacotes         106 2021-11-15  Sr. Isaac Nascimento   \n",
       "393                           kg         106 2021-11-22  Sr. Isaac Nascimento   \n",
       "\n",
       "     nascimento                                           endereço  \\\n",
       "0    1950-12-05  Distrito Porto, 69\\nMaria Goretti\\n33286281 da...   \n",
       "1    1950-12-05  Distrito Porto, 69\\nMaria Goretti\\n33286281 da...   \n",
       "2    1950-12-05  Distrito Porto, 69\\nMaria Goretti\\n33286281 da...   \n",
       "3    1950-12-05  Distrito Porto, 69\\nMaria Goretti\\n33286281 da...   \n",
       "4    1950-12-05  Distrito Porto, 69\\nMaria Goretti\\n33286281 da...   \n",
       "..          ...                                                ...   \n",
       "389  2002-02-05  Praia Thomas Almeida, 9\\nOlaria\\n20041-723 Mou...   \n",
       "390  2002-02-05  Praia Thomas Almeida, 9\\nOlaria\\n20041-723 Mou...   \n",
       "391  2002-02-05  Praia Thomas Almeida, 9\\nOlaria\\n20041-723 Mou...   \n",
       "392  2002-02-05  Praia Thomas Almeida, 9\\nOlaria\\n20041-723 Mou...   \n",
       "393  2002-02-05  Praia Thomas Almeida, 9\\nOlaria\\n20041-723 Mou...   \n",
       "\n",
       "                cpf             telefone  usuario         senha  \\\n",
       "0    231.984.075-32  +55 (011) 5496 8061  laraujo  _YYrgBs620jB   \n",
       "1    231.984.075-32  +55 (011) 5496 8061  laraujo  _YYrgBs620jB   \n",
       "2    231.984.075-32  +55 (011) 5496 8061  laraujo  _YYrgBs620jB   \n",
       "3    231.984.075-32  +55 (011) 5496 8061  laraujo  _YYrgBs620jB   \n",
       "4    231.984.075-32  +55 (011) 5496 8061  laraujo  _YYrgBs620jB   \n",
       "..              ...                  ...      ...           ...   \n",
       "389  765.432.980-65         81 4055-7650  lnovaes  v*M4Irb%8&0(   \n",
       "390  765.432.980-65         81 4055-7650  lnovaes  v*M4Irb%8&0(   \n",
       "391  765.432.980-65         81 4055-7650  lnovaes  v*M4Irb%8&0(   \n",
       "392  765.432.980-65         81 4055-7650  lnovaes  v*M4Irb%8&0(   \n",
       "393  765.432.980-65         81 4055-7650  lnovaes  v*M4Irb%8&0(   \n",
       "\n",
       "     quantidade_total  total_preco  \n",
       "0               123.0        23.97  \n",
       "1               123.0        23.97  \n",
       "2               123.0         7.99  \n",
       "3               123.0        15.96  \n",
       "4               123.0         7.98  \n",
       "..                ...          ...  \n",
       "389              86.0         8.45  \n",
       "390              86.0        20.31  \n",
       "391              86.0         2.48  \n",
       "392              86.0         2.48  \n",
       "393              86.0        35.97  \n",
       "\n",
       "[394 rows x 19 columns]"
      ]
     },
     "execution_count": 334,
     "metadata": {},
     "output_type": "execute_result"
    }
   ],
   "source": [
    "venda_produtos_cliente_qt"
   ]
  },
  {
   "cell_type": "markdown",
   "id": "fda6e07d",
   "metadata": {},
   "source": [
    "## Análise tempo"
   ]
  },
  {
   "cell_type": "code",
   "execution_count": 348,
   "id": "1fb25e01",
   "metadata": {},
   "outputs": [
    {
     "data": {
      "application/vnd.plotly.v1+json": {
       "config": {
        "plotlyServerURL": "https://plot.ly"
       },
       "data": [
        {
         "hovertemplate": "Data=%{x}<br>Total gasto pelo clientes=%{y}<extra></extra>",
         "legendgroup": "",
         "line": {
          "color": "#636efa",
          "dash": "solid"
         },
         "marker": {
          "symbol": "circle"
         },
         "mode": "lines",
         "name": "",
         "orientation": "v",
         "showlegend": false,
         "type": "scatter",
         "x": [
          "2021-11-01T00:00:00",
          "2021-11-02T00:00:00",
          "2021-11-03T00:00:00",
          "2021-11-04T00:00:00",
          "2021-11-05T00:00:00",
          "2021-11-07T00:00:00",
          "2021-11-08T00:00:00",
          "2021-11-09T00:00:00",
          "2021-11-10T00:00:00",
          "2021-11-11T00:00:00",
          "2021-11-12T00:00:00",
          "2021-11-13T00:00:00",
          "2021-11-14T00:00:00",
          "2021-11-15T00:00:00",
          "2021-11-22T00:00:00",
          "2021-11-23T00:00:00",
          "2021-11-25T00:00:00",
          "2021-11-26T00:00:00",
          "2021-11-28T00:00:00",
          "2021-11-29T00:00:00",
          "2021-11-30T00:00:00"
         ],
         "xaxis": "x",
         "y": [
          415.96000000000004,
          522.2600000000001,
          409.81999999999994,
          518.19,
          268.59999999999997,
          189.10999999999999,
          1016.6600000000005,
          882.9400000000002,
          461.15,
          330.99,
          666.7800000000002,
          377.63,
          201.93999999999997,
          108.98000000000002,
          35.97,
          4.96,
          71.88999999999999,
          31.96,
          17.88,
          12.96,
          15.96
         ],
         "yaxis": "y"
        }
       ],
       "layout": {
        "annotations": [
         {
          "arrowhead": 3,
          "ay": -40,
          "font": {
           "size": 11
          },
          "showarrow": true,
          "text": "<b>Maior pico de vendas<br> em novembro</b>",
          "x": "2021-11-08",
          "y": 1016.66
         }
        ],
        "height": 500,
        "legend": {
         "tracegroupgap": 0
        },
        "margin": {
         "t": 60
        },
        "template": {
         "data": {
          "bar": [
           {
            "error_x": {
             "color": "#2a3f5f"
            },
            "error_y": {
             "color": "#2a3f5f"
            },
            "marker": {
             "line": {
              "color": "#E5ECF6",
              "width": 0.5
             },
             "pattern": {
              "fillmode": "overlay",
              "size": 10,
              "solidity": 0.2
             }
            },
            "type": "bar"
           }
          ],
          "barpolar": [
           {
            "marker": {
             "line": {
              "color": "#E5ECF6",
              "width": 0.5
             },
             "pattern": {
              "fillmode": "overlay",
              "size": 10,
              "solidity": 0.2
             }
            },
            "type": "barpolar"
           }
          ],
          "carpet": [
           {
            "aaxis": {
             "endlinecolor": "#2a3f5f",
             "gridcolor": "white",
             "linecolor": "white",
             "minorgridcolor": "white",
             "startlinecolor": "#2a3f5f"
            },
            "baxis": {
             "endlinecolor": "#2a3f5f",
             "gridcolor": "white",
             "linecolor": "white",
             "minorgridcolor": "white",
             "startlinecolor": "#2a3f5f"
            },
            "type": "carpet"
           }
          ],
          "choropleth": [
           {
            "colorbar": {
             "outlinewidth": 0,
             "ticks": ""
            },
            "type": "choropleth"
           }
          ],
          "contour": [
           {
            "colorbar": {
             "outlinewidth": 0,
             "ticks": ""
            },
            "colorscale": [
             [
              0,
              "#0d0887"
             ],
             [
              0.1111111111111111,
              "#46039f"
             ],
             [
              0.2222222222222222,
              "#7201a8"
             ],
             [
              0.3333333333333333,
              "#9c179e"
             ],
             [
              0.4444444444444444,
              "#bd3786"
             ],
             [
              0.5555555555555556,
              "#d8576b"
             ],
             [
              0.6666666666666666,
              "#ed7953"
             ],
             [
              0.7777777777777778,
              "#fb9f3a"
             ],
             [
              0.8888888888888888,
              "#fdca26"
             ],
             [
              1,
              "#f0f921"
             ]
            ],
            "type": "contour"
           }
          ],
          "contourcarpet": [
           {
            "colorbar": {
             "outlinewidth": 0,
             "ticks": ""
            },
            "type": "contourcarpet"
           }
          ],
          "heatmap": [
           {
            "colorbar": {
             "outlinewidth": 0,
             "ticks": ""
            },
            "colorscale": [
             [
              0,
              "#0d0887"
             ],
             [
              0.1111111111111111,
              "#46039f"
             ],
             [
              0.2222222222222222,
              "#7201a8"
             ],
             [
              0.3333333333333333,
              "#9c179e"
             ],
             [
              0.4444444444444444,
              "#bd3786"
             ],
             [
              0.5555555555555556,
              "#d8576b"
             ],
             [
              0.6666666666666666,
              "#ed7953"
             ],
             [
              0.7777777777777778,
              "#fb9f3a"
             ],
             [
              0.8888888888888888,
              "#fdca26"
             ],
             [
              1,
              "#f0f921"
             ]
            ],
            "type": "heatmap"
           }
          ],
          "heatmapgl": [
           {
            "colorbar": {
             "outlinewidth": 0,
             "ticks": ""
            },
            "colorscale": [
             [
              0,
              "#0d0887"
             ],
             [
              0.1111111111111111,
              "#46039f"
             ],
             [
              0.2222222222222222,
              "#7201a8"
             ],
             [
              0.3333333333333333,
              "#9c179e"
             ],
             [
              0.4444444444444444,
              "#bd3786"
             ],
             [
              0.5555555555555556,
              "#d8576b"
             ],
             [
              0.6666666666666666,
              "#ed7953"
             ],
             [
              0.7777777777777778,
              "#fb9f3a"
             ],
             [
              0.8888888888888888,
              "#fdca26"
             ],
             [
              1,
              "#f0f921"
             ]
            ],
            "type": "heatmapgl"
           }
          ],
          "histogram": [
           {
            "marker": {
             "pattern": {
              "fillmode": "overlay",
              "size": 10,
              "solidity": 0.2
             }
            },
            "type": "histogram"
           }
          ],
          "histogram2d": [
           {
            "colorbar": {
             "outlinewidth": 0,
             "ticks": ""
            },
            "colorscale": [
             [
              0,
              "#0d0887"
             ],
             [
              0.1111111111111111,
              "#46039f"
             ],
             [
              0.2222222222222222,
              "#7201a8"
             ],
             [
              0.3333333333333333,
              "#9c179e"
             ],
             [
              0.4444444444444444,
              "#bd3786"
             ],
             [
              0.5555555555555556,
              "#d8576b"
             ],
             [
              0.6666666666666666,
              "#ed7953"
             ],
             [
              0.7777777777777778,
              "#fb9f3a"
             ],
             [
              0.8888888888888888,
              "#fdca26"
             ],
             [
              1,
              "#f0f921"
             ]
            ],
            "type": "histogram2d"
           }
          ],
          "histogram2dcontour": [
           {
            "colorbar": {
             "outlinewidth": 0,
             "ticks": ""
            },
            "colorscale": [
             [
              0,
              "#0d0887"
             ],
             [
              0.1111111111111111,
              "#46039f"
             ],
             [
              0.2222222222222222,
              "#7201a8"
             ],
             [
              0.3333333333333333,
              "#9c179e"
             ],
             [
              0.4444444444444444,
              "#bd3786"
             ],
             [
              0.5555555555555556,
              "#d8576b"
             ],
             [
              0.6666666666666666,
              "#ed7953"
             ],
             [
              0.7777777777777778,
              "#fb9f3a"
             ],
             [
              0.8888888888888888,
              "#fdca26"
             ],
             [
              1,
              "#f0f921"
             ]
            ],
            "type": "histogram2dcontour"
           }
          ],
          "mesh3d": [
           {
            "colorbar": {
             "outlinewidth": 0,
             "ticks": ""
            },
            "type": "mesh3d"
           }
          ],
          "parcoords": [
           {
            "line": {
             "colorbar": {
              "outlinewidth": 0,
              "ticks": ""
             }
            },
            "type": "parcoords"
           }
          ],
          "pie": [
           {
            "automargin": true,
            "type": "pie"
           }
          ],
          "scatter": [
           {
            "marker": {
             "colorbar": {
              "outlinewidth": 0,
              "ticks": ""
             }
            },
            "type": "scatter"
           }
          ],
          "scatter3d": [
           {
            "line": {
             "colorbar": {
              "outlinewidth": 0,
              "ticks": ""
             }
            },
            "marker": {
             "colorbar": {
              "outlinewidth": 0,
              "ticks": ""
             }
            },
            "type": "scatter3d"
           }
          ],
          "scattercarpet": [
           {
            "marker": {
             "colorbar": {
              "outlinewidth": 0,
              "ticks": ""
             }
            },
            "type": "scattercarpet"
           }
          ],
          "scattergeo": [
           {
            "marker": {
             "colorbar": {
              "outlinewidth": 0,
              "ticks": ""
             }
            },
            "type": "scattergeo"
           }
          ],
          "scattergl": [
           {
            "marker": {
             "colorbar": {
              "outlinewidth": 0,
              "ticks": ""
             }
            },
            "type": "scattergl"
           }
          ],
          "scattermapbox": [
           {
            "marker": {
             "colorbar": {
              "outlinewidth": 0,
              "ticks": ""
             }
            },
            "type": "scattermapbox"
           }
          ],
          "scatterpolar": [
           {
            "marker": {
             "colorbar": {
              "outlinewidth": 0,
              "ticks": ""
             }
            },
            "type": "scatterpolar"
           }
          ],
          "scatterpolargl": [
           {
            "marker": {
             "colorbar": {
              "outlinewidth": 0,
              "ticks": ""
             }
            },
            "type": "scatterpolargl"
           }
          ],
          "scatterternary": [
           {
            "marker": {
             "colorbar": {
              "outlinewidth": 0,
              "ticks": ""
             }
            },
            "type": "scatterternary"
           }
          ],
          "surface": [
           {
            "colorbar": {
             "outlinewidth": 0,
             "ticks": ""
            },
            "colorscale": [
             [
              0,
              "#0d0887"
             ],
             [
              0.1111111111111111,
              "#46039f"
             ],
             [
              0.2222222222222222,
              "#7201a8"
             ],
             [
              0.3333333333333333,
              "#9c179e"
             ],
             [
              0.4444444444444444,
              "#bd3786"
             ],
             [
              0.5555555555555556,
              "#d8576b"
             ],
             [
              0.6666666666666666,
              "#ed7953"
             ],
             [
              0.7777777777777778,
              "#fb9f3a"
             ],
             [
              0.8888888888888888,
              "#fdca26"
             ],
             [
              1,
              "#f0f921"
             ]
            ],
            "type": "surface"
           }
          ],
          "table": [
           {
            "cells": {
             "fill": {
              "color": "#EBF0F8"
             },
             "line": {
              "color": "white"
             }
            },
            "header": {
             "fill": {
              "color": "#C8D4E3"
             },
             "line": {
              "color": "white"
             }
            },
            "type": "table"
           }
          ]
         },
         "layout": {
          "annotationdefaults": {
           "arrowcolor": "#2a3f5f",
           "arrowhead": 0,
           "arrowwidth": 1
          },
          "autotypenumbers": "strict",
          "coloraxis": {
           "colorbar": {
            "outlinewidth": 0,
            "ticks": ""
           }
          },
          "colorscale": {
           "diverging": [
            [
             0,
             "#8e0152"
            ],
            [
             0.1,
             "#c51b7d"
            ],
            [
             0.2,
             "#de77ae"
            ],
            [
             0.3,
             "#f1b6da"
            ],
            [
             0.4,
             "#fde0ef"
            ],
            [
             0.5,
             "#f7f7f7"
            ],
            [
             0.6,
             "#e6f5d0"
            ],
            [
             0.7,
             "#b8e186"
            ],
            [
             0.8,
             "#7fbc41"
            ],
            [
             0.9,
             "#4d9221"
            ],
            [
             1,
             "#276419"
            ]
           ],
           "sequential": [
            [
             0,
             "#0d0887"
            ],
            [
             0.1111111111111111,
             "#46039f"
            ],
            [
             0.2222222222222222,
             "#7201a8"
            ],
            [
             0.3333333333333333,
             "#9c179e"
            ],
            [
             0.4444444444444444,
             "#bd3786"
            ],
            [
             0.5555555555555556,
             "#d8576b"
            ],
            [
             0.6666666666666666,
             "#ed7953"
            ],
            [
             0.7777777777777778,
             "#fb9f3a"
            ],
            [
             0.8888888888888888,
             "#fdca26"
            ],
            [
             1,
             "#f0f921"
            ]
           ],
           "sequentialminus": [
            [
             0,
             "#0d0887"
            ],
            [
             0.1111111111111111,
             "#46039f"
            ],
            [
             0.2222222222222222,
             "#7201a8"
            ],
            [
             0.3333333333333333,
             "#9c179e"
            ],
            [
             0.4444444444444444,
             "#bd3786"
            ],
            [
             0.5555555555555556,
             "#d8576b"
            ],
            [
             0.6666666666666666,
             "#ed7953"
            ],
            [
             0.7777777777777778,
             "#fb9f3a"
            ],
            [
             0.8888888888888888,
             "#fdca26"
            ],
            [
             1,
             "#f0f921"
            ]
           ]
          },
          "colorway": [
           "#636efa",
           "#EF553B",
           "#00cc96",
           "#ab63fa",
           "#FFA15A",
           "#19d3f3",
           "#FF6692",
           "#B6E880",
           "#FF97FF",
           "#FECB52"
          ],
          "font": {
           "color": "#2a3f5f"
          },
          "geo": {
           "bgcolor": "white",
           "lakecolor": "white",
           "landcolor": "#E5ECF6",
           "showlakes": true,
           "showland": true,
           "subunitcolor": "white"
          },
          "hoverlabel": {
           "align": "left"
          },
          "hovermode": "closest",
          "mapbox": {
           "style": "light"
          },
          "paper_bgcolor": "white",
          "plot_bgcolor": "#E5ECF6",
          "polar": {
           "angularaxis": {
            "gridcolor": "white",
            "linecolor": "white",
            "ticks": ""
           },
           "bgcolor": "#E5ECF6",
           "radialaxis": {
            "gridcolor": "white",
            "linecolor": "white",
            "ticks": ""
           }
          },
          "scene": {
           "xaxis": {
            "backgroundcolor": "#E5ECF6",
            "gridcolor": "white",
            "gridwidth": 2,
            "linecolor": "white",
            "showbackground": true,
            "ticks": "",
            "zerolinecolor": "white"
           },
           "yaxis": {
            "backgroundcolor": "#E5ECF6",
            "gridcolor": "white",
            "gridwidth": 2,
            "linecolor": "white",
            "showbackground": true,
            "ticks": "",
            "zerolinecolor": "white"
           },
           "zaxis": {
            "backgroundcolor": "#E5ECF6",
            "gridcolor": "white",
            "gridwidth": 2,
            "linecolor": "white",
            "showbackground": true,
            "ticks": "",
            "zerolinecolor": "white"
           }
          },
          "shapedefaults": {
           "line": {
            "color": "#2a3f5f"
           }
          },
          "ternary": {
           "aaxis": {
            "gridcolor": "white",
            "linecolor": "white",
            "ticks": ""
           },
           "baxis": {
            "gridcolor": "white",
            "linecolor": "white",
            "ticks": ""
           },
           "bgcolor": "#E5ECF6",
           "caxis": {
            "gridcolor": "white",
            "linecolor": "white",
            "ticks": ""
           }
          },
          "title": {
           "x": 0.05
          },
          "xaxis": {
           "automargin": true,
           "gridcolor": "white",
           "linecolor": "white",
           "ticks": "",
           "title": {
            "standoff": 15
           },
           "zerolinecolor": "white",
           "zerolinewidth": 2
          },
          "yaxis": {
           "automargin": true,
           "gridcolor": "white",
           "linecolor": "white",
           "ticks": "",
           "title": {
            "standoff": 15
           },
           "zerolinecolor": "white",
           "zerolinewidth": 2
          }
         }
        },
        "width": 800,
        "xaxis": {
         "anchor": "y",
         "domain": [
          0,
          1
         ],
         "title": {
          "text": "Data"
         }
        },
        "yaxis": {
         "anchor": "x",
         "domain": [
          0,
          1
         ],
         "title": {
          "text": "Total gasto pelo clientes"
         }
        }
       }
      },
      "text/html": [
       "<div>                            <div id=\"ce52acdb-946d-472a-9982-bb7dd7c58bc5\" class=\"plotly-graph-div\" style=\"height:500px; width:800px;\"></div>            <script type=\"text/javascript\">                require([\"plotly\"], function(Plotly) {                    window.PLOTLYENV=window.PLOTLYENV || {};                                    if (document.getElementById(\"ce52acdb-946d-472a-9982-bb7dd7c58bc5\")) {                    Plotly.newPlot(                        \"ce52acdb-946d-472a-9982-bb7dd7c58bc5\",                        [{\"hovertemplate\":\"Data=%{x}<br>Total gasto pelo clientes=%{y}<extra></extra>\",\"legendgroup\":\"\",\"line\":{\"color\":\"#636efa\",\"dash\":\"solid\"},\"marker\":{\"symbol\":\"circle\"},\"mode\":\"lines\",\"name\":\"\",\"orientation\":\"v\",\"showlegend\":false,\"type\":\"scatter\",\"x\":[\"2021-11-01T00:00:00\",\"2021-11-02T00:00:00\",\"2021-11-03T00:00:00\",\"2021-11-04T00:00:00\",\"2021-11-05T00:00:00\",\"2021-11-07T00:00:00\",\"2021-11-08T00:00:00\",\"2021-11-09T00:00:00\",\"2021-11-10T00:00:00\",\"2021-11-11T00:00:00\",\"2021-11-12T00:00:00\",\"2021-11-13T00:00:00\",\"2021-11-14T00:00:00\",\"2021-11-15T00:00:00\",\"2021-11-22T00:00:00\",\"2021-11-23T00:00:00\",\"2021-11-25T00:00:00\",\"2021-11-26T00:00:00\",\"2021-11-28T00:00:00\",\"2021-11-29T00:00:00\",\"2021-11-30T00:00:00\"],\"xaxis\":\"x\",\"y\":[415.96000000000004,522.2600000000001,409.81999999999994,518.19,268.59999999999997,189.10999999999999,1016.6600000000005,882.9400000000002,461.15,330.99,666.7800000000002,377.63,201.93999999999997,108.98000000000002,35.97,4.96,71.88999999999999,31.96,17.88,12.96,15.96],\"yaxis\":\"y\"}],                        {\"annotations\":[{\"arrowhead\":3,\"ay\":-40,\"font\":{\"size\":11},\"showarrow\":true,\"text\":\"<b>Maior pico de vendas<br> em novembro</b>\",\"x\":\"2021-11-08\",\"y\":1016.66}],\"height\":500,\"legend\":{\"tracegroupgap\":0},\"margin\":{\"t\":60},\"template\":{\"data\":{\"bar\":[{\"error_x\":{\"color\":\"#2a3f5f\"},\"error_y\":{\"color\":\"#2a3f5f\"},\"marker\":{\"line\":{\"color\":\"#E5ECF6\",\"width\":0.5},\"pattern\":{\"fillmode\":\"overlay\",\"size\":10,\"solidity\":0.2}},\"type\":\"bar\"}],\"barpolar\":[{\"marker\":{\"line\":{\"color\":\"#E5ECF6\",\"width\":0.5},\"pattern\":{\"fillmode\":\"overlay\",\"size\":10,\"solidity\":0.2}},\"type\":\"barpolar\"}],\"carpet\":[{\"aaxis\":{\"endlinecolor\":\"#2a3f5f\",\"gridcolor\":\"white\",\"linecolor\":\"white\",\"minorgridcolor\":\"white\",\"startlinecolor\":\"#2a3f5f\"},\"baxis\":{\"endlinecolor\":\"#2a3f5f\",\"gridcolor\":\"white\",\"linecolor\":\"white\",\"minorgridcolor\":\"white\",\"startlinecolor\":\"#2a3f5f\"},\"type\":\"carpet\"}],\"choropleth\":[{\"colorbar\":{\"outlinewidth\":0,\"ticks\":\"\"},\"type\":\"choropleth\"}],\"contour\":[{\"colorbar\":{\"outlinewidth\":0,\"ticks\":\"\"},\"colorscale\":[[0.0,\"#0d0887\"],[0.1111111111111111,\"#46039f\"],[0.2222222222222222,\"#7201a8\"],[0.3333333333333333,\"#9c179e\"],[0.4444444444444444,\"#bd3786\"],[0.5555555555555556,\"#d8576b\"],[0.6666666666666666,\"#ed7953\"],[0.7777777777777778,\"#fb9f3a\"],[0.8888888888888888,\"#fdca26\"],[1.0,\"#f0f921\"]],\"type\":\"contour\"}],\"contourcarpet\":[{\"colorbar\":{\"outlinewidth\":0,\"ticks\":\"\"},\"type\":\"contourcarpet\"}],\"heatmap\":[{\"colorbar\":{\"outlinewidth\":0,\"ticks\":\"\"},\"colorscale\":[[0.0,\"#0d0887\"],[0.1111111111111111,\"#46039f\"],[0.2222222222222222,\"#7201a8\"],[0.3333333333333333,\"#9c179e\"],[0.4444444444444444,\"#bd3786\"],[0.5555555555555556,\"#d8576b\"],[0.6666666666666666,\"#ed7953\"],[0.7777777777777778,\"#fb9f3a\"],[0.8888888888888888,\"#fdca26\"],[1.0,\"#f0f921\"]],\"type\":\"heatmap\"}],\"heatmapgl\":[{\"colorbar\":{\"outlinewidth\":0,\"ticks\":\"\"},\"colorscale\":[[0.0,\"#0d0887\"],[0.1111111111111111,\"#46039f\"],[0.2222222222222222,\"#7201a8\"],[0.3333333333333333,\"#9c179e\"],[0.4444444444444444,\"#bd3786\"],[0.5555555555555556,\"#d8576b\"],[0.6666666666666666,\"#ed7953\"],[0.7777777777777778,\"#fb9f3a\"],[0.8888888888888888,\"#fdca26\"],[1.0,\"#f0f921\"]],\"type\":\"heatmapgl\"}],\"histogram\":[{\"marker\":{\"pattern\":{\"fillmode\":\"overlay\",\"size\":10,\"solidity\":0.2}},\"type\":\"histogram\"}],\"histogram2d\":[{\"colorbar\":{\"outlinewidth\":0,\"ticks\":\"\"},\"colorscale\":[[0.0,\"#0d0887\"],[0.1111111111111111,\"#46039f\"],[0.2222222222222222,\"#7201a8\"],[0.3333333333333333,\"#9c179e\"],[0.4444444444444444,\"#bd3786\"],[0.5555555555555556,\"#d8576b\"],[0.6666666666666666,\"#ed7953\"],[0.7777777777777778,\"#fb9f3a\"],[0.8888888888888888,\"#fdca26\"],[1.0,\"#f0f921\"]],\"type\":\"histogram2d\"}],\"histogram2dcontour\":[{\"colorbar\":{\"outlinewidth\":0,\"ticks\":\"\"},\"colorscale\":[[0.0,\"#0d0887\"],[0.1111111111111111,\"#46039f\"],[0.2222222222222222,\"#7201a8\"],[0.3333333333333333,\"#9c179e\"],[0.4444444444444444,\"#bd3786\"],[0.5555555555555556,\"#d8576b\"],[0.6666666666666666,\"#ed7953\"],[0.7777777777777778,\"#fb9f3a\"],[0.8888888888888888,\"#fdca26\"],[1.0,\"#f0f921\"]],\"type\":\"histogram2dcontour\"}],\"mesh3d\":[{\"colorbar\":{\"outlinewidth\":0,\"ticks\":\"\"},\"type\":\"mesh3d\"}],\"parcoords\":[{\"line\":{\"colorbar\":{\"outlinewidth\":0,\"ticks\":\"\"}},\"type\":\"parcoords\"}],\"pie\":[{\"automargin\":true,\"type\":\"pie\"}],\"scatter\":[{\"marker\":{\"colorbar\":{\"outlinewidth\":0,\"ticks\":\"\"}},\"type\":\"scatter\"}],\"scatter3d\":[{\"line\":{\"colorbar\":{\"outlinewidth\":0,\"ticks\":\"\"}},\"marker\":{\"colorbar\":{\"outlinewidth\":0,\"ticks\":\"\"}},\"type\":\"scatter3d\"}],\"scattercarpet\":[{\"marker\":{\"colorbar\":{\"outlinewidth\":0,\"ticks\":\"\"}},\"type\":\"scattercarpet\"}],\"scattergeo\":[{\"marker\":{\"colorbar\":{\"outlinewidth\":0,\"ticks\":\"\"}},\"type\":\"scattergeo\"}],\"scattergl\":[{\"marker\":{\"colorbar\":{\"outlinewidth\":0,\"ticks\":\"\"}},\"type\":\"scattergl\"}],\"scattermapbox\":[{\"marker\":{\"colorbar\":{\"outlinewidth\":0,\"ticks\":\"\"}},\"type\":\"scattermapbox\"}],\"scatterpolar\":[{\"marker\":{\"colorbar\":{\"outlinewidth\":0,\"ticks\":\"\"}},\"type\":\"scatterpolar\"}],\"scatterpolargl\":[{\"marker\":{\"colorbar\":{\"outlinewidth\":0,\"ticks\":\"\"}},\"type\":\"scatterpolargl\"}],\"scatterternary\":[{\"marker\":{\"colorbar\":{\"outlinewidth\":0,\"ticks\":\"\"}},\"type\":\"scatterternary\"}],\"surface\":[{\"colorbar\":{\"outlinewidth\":0,\"ticks\":\"\"},\"colorscale\":[[0.0,\"#0d0887\"],[0.1111111111111111,\"#46039f\"],[0.2222222222222222,\"#7201a8\"],[0.3333333333333333,\"#9c179e\"],[0.4444444444444444,\"#bd3786\"],[0.5555555555555556,\"#d8576b\"],[0.6666666666666666,\"#ed7953\"],[0.7777777777777778,\"#fb9f3a\"],[0.8888888888888888,\"#fdca26\"],[1.0,\"#f0f921\"]],\"type\":\"surface\"}],\"table\":[{\"cells\":{\"fill\":{\"color\":\"#EBF0F8\"},\"line\":{\"color\":\"white\"}},\"header\":{\"fill\":{\"color\":\"#C8D4E3\"},\"line\":{\"color\":\"white\"}},\"type\":\"table\"}]},\"layout\":{\"annotationdefaults\":{\"arrowcolor\":\"#2a3f5f\",\"arrowhead\":0,\"arrowwidth\":1},\"autotypenumbers\":\"strict\",\"coloraxis\":{\"colorbar\":{\"outlinewidth\":0,\"ticks\":\"\"}},\"colorscale\":{\"diverging\":[[0,\"#8e0152\"],[0.1,\"#c51b7d\"],[0.2,\"#de77ae\"],[0.3,\"#f1b6da\"],[0.4,\"#fde0ef\"],[0.5,\"#f7f7f7\"],[0.6,\"#e6f5d0\"],[0.7,\"#b8e186\"],[0.8,\"#7fbc41\"],[0.9,\"#4d9221\"],[1,\"#276419\"]],\"sequential\":[[0.0,\"#0d0887\"],[0.1111111111111111,\"#46039f\"],[0.2222222222222222,\"#7201a8\"],[0.3333333333333333,\"#9c179e\"],[0.4444444444444444,\"#bd3786\"],[0.5555555555555556,\"#d8576b\"],[0.6666666666666666,\"#ed7953\"],[0.7777777777777778,\"#fb9f3a\"],[0.8888888888888888,\"#fdca26\"],[1.0,\"#f0f921\"]],\"sequentialminus\":[[0.0,\"#0d0887\"],[0.1111111111111111,\"#46039f\"],[0.2222222222222222,\"#7201a8\"],[0.3333333333333333,\"#9c179e\"],[0.4444444444444444,\"#bd3786\"],[0.5555555555555556,\"#d8576b\"],[0.6666666666666666,\"#ed7953\"],[0.7777777777777778,\"#fb9f3a\"],[0.8888888888888888,\"#fdca26\"],[1.0,\"#f0f921\"]]},\"colorway\":[\"#636efa\",\"#EF553B\",\"#00cc96\",\"#ab63fa\",\"#FFA15A\",\"#19d3f3\",\"#FF6692\",\"#B6E880\",\"#FF97FF\",\"#FECB52\"],\"font\":{\"color\":\"#2a3f5f\"},\"geo\":{\"bgcolor\":\"white\",\"lakecolor\":\"white\",\"landcolor\":\"#E5ECF6\",\"showlakes\":true,\"showland\":true,\"subunitcolor\":\"white\"},\"hoverlabel\":{\"align\":\"left\"},\"hovermode\":\"closest\",\"mapbox\":{\"style\":\"light\"},\"paper_bgcolor\":\"white\",\"plot_bgcolor\":\"#E5ECF6\",\"polar\":{\"angularaxis\":{\"gridcolor\":\"white\",\"linecolor\":\"white\",\"ticks\":\"\"},\"bgcolor\":\"#E5ECF6\",\"radialaxis\":{\"gridcolor\":\"white\",\"linecolor\":\"white\",\"ticks\":\"\"}},\"scene\":{\"xaxis\":{\"backgroundcolor\":\"#E5ECF6\",\"gridcolor\":\"white\",\"gridwidth\":2,\"linecolor\":\"white\",\"showbackground\":true,\"ticks\":\"\",\"zerolinecolor\":\"white\"},\"yaxis\":{\"backgroundcolor\":\"#E5ECF6\",\"gridcolor\":\"white\",\"gridwidth\":2,\"linecolor\":\"white\",\"showbackground\":true,\"ticks\":\"\",\"zerolinecolor\":\"white\"},\"zaxis\":{\"backgroundcolor\":\"#E5ECF6\",\"gridcolor\":\"white\",\"gridwidth\":2,\"linecolor\":\"white\",\"showbackground\":true,\"ticks\":\"\",\"zerolinecolor\":\"white\"}},\"shapedefaults\":{\"line\":{\"color\":\"#2a3f5f\"}},\"ternary\":{\"aaxis\":{\"gridcolor\":\"white\",\"linecolor\":\"white\",\"ticks\":\"\"},\"baxis\":{\"gridcolor\":\"white\",\"linecolor\":\"white\",\"ticks\":\"\"},\"bgcolor\":\"#E5ECF6\",\"caxis\":{\"gridcolor\":\"white\",\"linecolor\":\"white\",\"ticks\":\"\"}},\"title\":{\"x\":0.05},\"xaxis\":{\"automargin\":true,\"gridcolor\":\"white\",\"linecolor\":\"white\",\"ticks\":\"\",\"title\":{\"standoff\":15},\"zerolinecolor\":\"white\",\"zerolinewidth\":2},\"yaxis\":{\"automargin\":true,\"gridcolor\":\"white\",\"linecolor\":\"white\",\"ticks\":\"\",\"title\":{\"standoff\":15},\"zerolinecolor\":\"white\",\"zerolinewidth\":2}}},\"width\":800,\"xaxis\":{\"anchor\":\"y\",\"domain\":[0.0,1.0],\"title\":{\"text\":\"Data\"}},\"yaxis\":{\"anchor\":\"x\",\"domain\":[0.0,1.0],\"title\":{\"text\":\"Total gasto pelo clientes\"}}},                        {\"responsive\": true}                    ).then(function(){\n",
       "                            \n",
       "var gd = document.getElementById('ce52acdb-946d-472a-9982-bb7dd7c58bc5');\n",
       "var x = new MutationObserver(function (mutations, observer) {{\n",
       "        var display = window.getComputedStyle(gd).display;\n",
       "        if (!display || display === 'none') {{\n",
       "            console.log([gd, 'removed!']);\n",
       "            Plotly.purge(gd);\n",
       "            observer.disconnect();\n",
       "        }}\n",
       "}});\n",
       "\n",
       "// Listen for the removal of the full notebook cells\n",
       "var notebookContainer = gd.closest('#notebook-container');\n",
       "if (notebookContainer) {{\n",
       "    x.observe(notebookContainer, {childList: true});\n",
       "}}\n",
       "\n",
       "// Listen for the clearing of the current output cell\n",
       "var outputEl = gd.closest('.output');\n",
       "if (outputEl) {{\n",
       "    x.observe(outputEl, {childList: true});\n",
       "}}\n",
       "\n",
       "                        })                };                });            </script>        </div>"
      ]
     },
     "metadata": {},
     "output_type": "display_data"
    }
   ],
   "source": [
    "venda_produtos_cliente_qt_grup_temp = venda_produtos_cliente_qt.groupby(\"data\").sum().sort_values('data').reset_index()\n",
    "\n",
    "fig = px.line(venda_produtos_cliente_qt_grup_temp, x=\"data\", y=\"total_preco\", labels={\"data\": \"Data\", \"total_preco\": \"Total gasto pelo clientes\"}, height=500, width=800) \n",
    "\n",
    "fig.update_layout(\n",
    "                #criando anotções\n",
    "                annotations=[\n",
    "                        {\"x\":\"2021-11-08\", \"y\":1016.66, \"ay\": -40, \n",
    "                        \"text\": \"<b>Maior pico de vendas<br> em novembro</b>\",\n",
    "                        \"arrowhead\": 3, \"showarrow\":True,\n",
    "                        \"font\": {\"size\": 11}}\n",
    "                    ])\n",
    "fig.show()"
   ]
  },
  {
   "cell_type": "code",
   "execution_count": null,
   "id": "88a014b5",
   "metadata": {},
   "outputs": [],
   "source": []
  },
  {
   "cell_type": "code",
   "execution_count": null,
   "id": "a87aa3da",
   "metadata": {},
   "outputs": [],
   "source": []
  }
 ],
 "metadata": {
  "kernelspec": {
   "display_name": "Python 3",
   "language": "python",
   "name": "python3"
  },
  "language_info": {
   "codemirror_mode": {
    "name": "ipython",
    "version": 3
   },
   "file_extension": ".py",
   "mimetype": "text/x-python",
   "name": "python",
   "nbconvert_exporter": "python",
   "pygments_lexer": "ipython3",
   "version": "3.8.8"
  }
 },
 "nbformat": 4,
 "nbformat_minor": 5
}
